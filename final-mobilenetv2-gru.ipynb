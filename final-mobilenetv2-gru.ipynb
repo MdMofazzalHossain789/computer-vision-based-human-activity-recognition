{
 "cells": [
  {
   "cell_type": "markdown",
   "id": "9e4b3565",
   "metadata": {
    "papermill": {
     "duration": 0.010325,
     "end_time": "2025-07-12T15:16:44.959067",
     "exception": false,
     "start_time": "2025-07-12T15:16:44.948742",
     "status": "completed"
    },
    "tags": []
   },
   "source": [
    "# Initialization\n",
    "## Import Libraries"
   ]
  },
  {
   "cell_type": "code",
   "execution_count": 1,
   "id": "022d2c70",
   "metadata": {
    "_cell_guid": "b1076dfc-b9ad-4769-8c92-a6c4dae69d19",
    "_uuid": "8f2839f25d086af736a60e9eeb907d3b93b6e0e5",
    "execution": {
     "iopub.execute_input": "2025-07-12T15:16:44.979191Z",
     "iopub.status.busy": "2025-07-12T15:16:44.978627Z",
     "iopub.status.idle": "2025-07-12T15:17:01.372130Z",
     "shell.execute_reply": "2025-07-12T15:17:01.371515Z"
    },
    "papermill": {
     "duration": 16.404606,
     "end_time": "2025-07-12T15:17:01.373610",
     "exception": false,
     "start_time": "2025-07-12T15:16:44.969004",
     "status": "completed"
    },
    "tags": []
   },
   "outputs": [
    {
     "name": "stderr",
     "output_type": "stream",
     "text": [
      "2025-07-12 15:16:47.091309: E external/local_xla/xla/stream_executor/cuda/cuda_fft.cc:477] Unable to register cuFFT factory: Attempting to register factory for plugin cuFFT when one has already been registered\n",
      "WARNING: All log messages before absl::InitializeLog() is called are written to STDERR\n",
      "E0000 00:00:1752333407.306056      19 cuda_dnn.cc:8310] Unable to register cuDNN factory: Attempting to register factory for plugin cuDNN when one has already been registered\n",
      "E0000 00:00:1752333407.379296      19 cuda_blas.cc:1418] Unable to register cuBLAS factory: Attempting to register factory for plugin cuBLAS when one has already been registered\n"
     ]
    }
   ],
   "source": [
    "# install librarires\n",
    "import os\n",
    "import tensorflow as tf\n",
    "import numpy as np\n",
    "import random"
   ]
  },
  {
   "cell_type": "markdown",
   "id": "c5e000b1",
   "metadata": {
    "papermill": {
     "duration": 0.010085,
     "end_time": "2025-07-12T15:17:01.393750",
     "exception": false,
     "start_time": "2025-07-12T15:17:01.383665",
     "status": "completed"
    },
    "tags": []
   },
   "source": [
    "## ℹ️ Set Global Constants"
   ]
  },
  {
   "cell_type": "code",
   "execution_count": 2,
   "id": "714fe4ed",
   "metadata": {
    "execution": {
     "iopub.execute_input": "2025-07-12T15:17:01.413439Z",
     "iopub.status.busy": "2025-07-12T15:17:01.412955Z",
     "iopub.status.idle": "2025-07-12T15:17:01.420903Z",
     "shell.execute_reply": "2025-07-12T15:17:01.419968Z"
    },
    "papermill": {
     "duration": 0.019084,
     "end_time": "2025-07-12T15:17:01.422135",
     "exception": false,
     "start_time": "2025-07-12T15:17:01.403051",
     "status": "completed"
    },
    "tags": []
   },
   "outputs": [
    {
     "name": "stdout",
     "output_type": "stream",
     "text": [
      "Ucf50\n",
      "There are total 11 classes, selected 11 classes\n",
      "Setting 50/class to train the model.\n",
      "Image size 128x128 with 5 sequence length\n",
      "Dropout rate: 0.5\n",
      "Train-Test split ratio 80/20\n",
      "Validation data from Train set 20.0%\n"
     ]
    }
   ],
   "source": [
    "# global variables\n",
    "# set dataset directories\n",
    "\n",
    "\n",
    "DATASET_DIR = \"/kaggle/input/ucf50/UCF50\"\n",
    "DATASET_NAME = DATASET_DIR.split(\"/\")[-1].replace(\"-\", \" \").title()\n",
    "\n",
    "print(DATASET_NAME)\n",
    "\n",
    "ALL_CLASS_NAMES = [\n",
    "    \"Basketball\",\n",
    "    \"Biking\",\n",
    "    \"Diving\",\n",
    "    \"GolfSwing\",\n",
    "    \"HorseRiding\",\n",
    "    \"Skiing\",\n",
    "    # \"Running\", # not found in UCF50, so took an outdoor class\n",
    "    \"SkateBoarding\",\n",
    "    \"Swing\",\n",
    "    \"TennisSwing\",\n",
    "    \"TrampolineJumping\",\n",
    "    \"WalkingWithDog\"\n",
    "]\n",
    "\n",
    "# Global constant variables -> \n",
    "NO_OF_CLASSES = len(ALL_CLASS_NAMES)\n",
    "CLASSES_LIST = ALL_CLASS_NAMES[:NO_OF_CLASSES]\n",
    "\n",
    "# Model Configuration\n",
    "IMAGE_HEIGHT, IMAGE_WIDTH = 128, 128\n",
    "SEQUENCE_LENGTH = 5\n",
    "\n",
    "# set drop out rate\n",
    "DROPOUT_RATE = 0.5\n",
    "\n",
    "# set datas\n",
    "MAX_VIDEO_PER_CLASS = 50\n",
    "\n",
    "# split dataset\n",
    "TEST_SIZE = 0.20\n",
    "\n",
    "# model fit parameters\n",
    "EPOCHS = 30\n",
    "BATCH_SIZE = 24\n",
    "VALIDATION_SPLIT = 0.20\n",
    "\n",
    "# augmentation values\n",
    "NOISE_FACTOR = 0.02\n",
    "SHEAR_X= 1\n",
    "SHEAR_Y= 1\n",
    "\n",
    "# give a name of the model to save\n",
    "MODEL_NAME = \"Xception\"\n",
    "\n",
    "print(f\"There are total {len(ALL_CLASS_NAMES)} classes, selected {NO_OF_CLASSES} classes\")\n",
    "print(f\"Setting {MAX_VIDEO_PER_CLASS}/class to train the model.\")\n",
    "print(f\"Image size {IMAGE_HEIGHT}x{IMAGE_WIDTH} with {SEQUENCE_LENGTH} sequence length\")\n",
    "print(f\"Dropout rate: {DROPOUT_RATE}\")\n",
    "print(f\"Train-Test split ratio {int((1-TEST_SIZE)*100)}/{int(TEST_SIZE*100)}\")\n",
    "print(f\"Validation data from Train set {VALIDATION_SPLIT*100}%\")"
   ]
  },
  {
   "cell_type": "markdown",
   "id": "8eb31390",
   "metadata": {
    "papermill": {
     "duration": 0.008717,
     "end_time": "2025-07-12T15:17:01.439949",
     "exception": false,
     "start_time": "2025-07-12T15:17:01.431232",
     "status": "completed"
    },
    "tags": []
   },
   "source": [
    "## Set `Seed` Values"
   ]
  },
  {
   "cell_type": "code",
   "execution_count": 3,
   "id": "4cdc25f9",
   "metadata": {
    "execution": {
     "iopub.execute_input": "2025-07-12T15:17:01.458474Z",
     "iopub.status.busy": "2025-07-12T15:17:01.458175Z",
     "iopub.status.idle": "2025-07-12T15:17:01.462136Z",
     "shell.execute_reply": "2025-07-12T15:17:01.461600Z"
    },
    "papermill": {
     "duration": 0.014509,
     "end_time": "2025-07-12T15:17:01.463218",
     "exception": false,
     "start_time": "2025-07-12T15:17:01.448709",
     "status": "completed"
    },
    "tags": []
   },
   "outputs": [],
   "source": [
    "# set seeed to get similar values\n",
    "seed_constant = 27\n",
    "np.random.seed(seed_constant)\n",
    "random.seed(seed_constant)\n",
    "tf.random.set_seed(seed_constant)"
   ]
  },
  {
   "cell_type": "markdown",
   "id": "f37a0c7e",
   "metadata": {
    "papermill": {
     "duration": 0.008876,
     "end_time": "2025-07-12T15:17:01.480756",
     "exception": false,
     "start_time": "2025-07-12T15:17:01.471880",
     "status": "completed"
    },
    "tags": []
   },
   "source": [
    "# 📌 Function Definition\n",
    "## Resize and Frame Extraction"
   ]
  },
  {
   "cell_type": "code",
   "execution_count": 4,
   "id": "27b50cdc",
   "metadata": {
    "execution": {
     "iopub.execute_input": "2025-07-12T15:17:01.498994Z",
     "iopub.status.busy": "2025-07-12T15:17:01.498730Z",
     "iopub.status.idle": "2025-07-12T15:17:01.507684Z",
     "shell.execute_reply": "2025-07-12T15:17:01.507070Z"
    },
    "papermill": {
     "duration": 0.019524,
     "end_time": "2025-07-12T15:17:01.508816",
     "exception": false,
     "start_time": "2025-07-12T15:17:01.489292",
     "status": "completed"
    },
    "tags": []
   },
   "outputs": [],
   "source": [
    "import cv2\n",
    "from concurrent.futures import ThreadPoolExecutor\n",
    "\n",
    "def resize_and_normalize_frame(frame, image_height, image_width):\n",
    "    try:\n",
    "        resized_frame = cv2.resize(frame, (image_width, image_height), interpolation=cv2.INTER_LINEAR)\n",
    "        normalized_frame = resized_frame / 255.0\n",
    "        return normalized_frame\n",
    "    except Exception as e:\n",
    "        print(f\"Error processing frame: {e}\")\n",
    "        return None\n",
    "\n",
    "def frames_extraction(video_path, \n",
    "                      sequence_length=SEQUENCE_LENGTH, \n",
    "                      image_height=IMAGE_HEIGHT, \n",
    "                      image_width=IMAGE_WIDTH):\n",
    "    # Declare a list to store video frames\n",
    "    frames_list = []\n",
    "\n",
    "    # Check if video file exists\n",
    "    if not os.path.exists(video_path):\n",
    "        print(f\"Error: Video file not found at {video_path}\")\n",
    "        return None\n",
    "\n",
    "    # Read the video file using VideoCapture with optimized settings\n",
    "    video_reader = cv2.VideoCapture(video_path, cv2.CAP_FFMPEG)\n",
    "\n",
    "    # Check if the video was opened successfully\n",
    "    if not video_reader.isOpened():\n",
    "        print(f\"Error: Could not open video file {video_path}\")\n",
    "        video_reader.release()\n",
    "        return None\n",
    "\n",
    "    # Get the total number of frames in the video\n",
    "    video_frames_count = int(video_reader.get(cv2.CAP_PROP_FRAME_COUNT))\n",
    "\n",
    "    # Ensure the video has enough frames\n",
    "    if video_frames_count < sequence_length:\n",
    "        print(f\"Warning: Video {video_path} has only {video_frames_count} frames, less than required {sequence_length}\")\n",
    "        video_reader.release()\n",
    "        return None\n",
    "\n",
    "    # Calculate the interval after which frames will be sampled\n",
    "    skip_frames_window = max(int(video_frames_count / sequence_length), 1)\n",
    "\n",
    "    # Pre-allocate frame indices to extract\n",
    "    frame_indices = [i * skip_frames_window for i in range(sequence_length)]\n",
    "\n",
    "    # Read and process frames in parallel\n",
    "    frames = []\n",
    "    for idx in frame_indices:\n",
    "        video_reader.set(cv2.CAP_PROP_POS_FRAMES, idx)\n",
    "        success, frame = video_reader.read()\n",
    "        if not success or frame is None:\n",
    "            print(f\"Warning: Failed to read frame at index {idx} from {video_path}\")\n",
    "            break\n",
    "        frame = cv2.cvtColor(frame, cv2.COLOR_BGR2RGB)\n",
    "        frames.append(frame)\n",
    "\n",
    "    # Release the VideoCapture object early\n",
    "    video_reader.release()\n",
    "\n",
    "    # Ensure the correct number of frames is read\n",
    "    if len(frames) != sequence_length:\n",
    "        print(f\"Warning: Read {len(frames)} frames instead of {sequence_length} from {video_path}\")\n",
    "        return None\n",
    "\n",
    "    # Process frames in parallel using ThreadPoolExecutor\n",
    "    with ThreadPoolExecutor() as executor:\n",
    "        processed_frames = list(executor.map(\n",
    "            lambda f: resize_and_normalize_frame(f, image_height, image_width), \n",
    "            frames\n",
    "        ))\n",
    "\n",
    "    # Check for any failed frame processing\n",
    "    if any(f is None for f in processed_frames):\n",
    "        print(f\"Warning: Some frames failed to process in {video_path}\")\n",
    "        return None\n",
    "\n",
    "    # Convert to NumPy array\n",
    "    frames_array = np.array(processed_frames, dtype=np.float32)\n",
    "\n",
    "    return frames_array"
   ]
  },
  {
   "cell_type": "code",
   "execution_count": 5,
   "id": "08c84b66",
   "metadata": {
    "execution": {
     "iopub.execute_input": "2025-07-12T15:17:01.526770Z",
     "iopub.status.busy": "2025-07-12T15:17:01.526549Z",
     "iopub.status.idle": "2025-07-12T15:17:01.529944Z",
     "shell.execute_reply": "2025-07-12T15:17:01.529408Z"
    },
    "papermill": {
     "duration": 0.013505,
     "end_time": "2025-07-12T15:17:01.531045",
     "exception": false,
     "start_time": "2025-07-12T15:17:01.517540",
     "status": "completed"
    },
    "tags": []
   },
   "outputs": [],
   "source": [
    " # # Iterate through all video files\n",
    " #        for file_name in files_list:\n",
    " #            video_file_path = os.path.join(class_path, file_name)\n",
    "\n",
    " #            # Extract frames using the updated frames_extraction function\n",
    " #            frames = frames_extraction(video_file_path, sequence_length, image_height, image_width)\n",
    "\n",
    " #            # Skip videos where frame extraction failed\n",
    " #            if frames is None:\n",
    " #                print(f\"Skipping video {video_file_path} due to frame extraction failure\")\n",
    " #                continue\n",
    "\n",
    " #            # Append the data to respective lists\n",
    " #            features.append(frames)\n",
    " #            labels.append(class_index)"
   ]
  },
  {
   "cell_type": "markdown",
   "id": "3b4b4420",
   "metadata": {
    "papermill": {
     "duration": 0.00831,
     "end_time": "2025-07-12T15:17:01.548196",
     "exception": false,
     "start_time": "2025-07-12T15:17:01.539886",
     "status": "completed"
    },
    "tags": []
   },
   "source": [
    "## Create Dataset"
   ]
  },
  {
   "cell_type": "code",
   "execution_count": 6,
   "id": "14d5a946",
   "metadata": {
    "execution": {
     "iopub.execute_input": "2025-07-12T15:17:01.566677Z",
     "iopub.status.busy": "2025-07-12T15:17:01.566463Z",
     "iopub.status.idle": "2025-07-12T15:17:01.572726Z",
     "shell.execute_reply": "2025-07-12T15:17:01.572178Z"
    },
    "papermill": {
     "duration": 0.016986,
     "end_time": "2025-07-12T15:17:01.573830",
     "exception": false,
     "start_time": "2025-07-12T15:17:01.556844",
     "status": "completed"
    },
    "tags": []
   },
   "outputs": [],
   "source": [
    "# RUN create dataset function definition\n",
    "def create_dataset(dataset_dir,\n",
    "                   classes_list, \n",
    "                   sequence_length=SEQUENCE_LENGTH, \n",
    "                   image_height=IMAGE_HEIGHT, \n",
    "                   image_width=IMAGE_WIDTH, \n",
    "                   max_videos_per_class=None,\n",
    "                   augmentations=False\n",
    "                  ):\n",
    "    \n",
    "    # Initialize lists to store features, labels, and video file paths\n",
    "    videos = []\n",
    "    labels = []\n",
    "\n",
    "    # Check if dataset directory exists\n",
    "    if not os.path.exists(dataset_dir):\n",
    "        raise FileNotFoundError(f\"Dataset directory not found: {dataset_dir}\")\n",
    "\n",
    "    # Iterate through all classes in the classes list\n",
    "    for class_index, class_name in enumerate(classes_list):\n",
    "        class_path = os.path.join(dataset_dir, class_name)\n",
    "        \n",
    "        # Check if class directory exists\n",
    "        if not os.path.exists(class_path):\n",
    "            print(f\"Warning: Class directory not found: {class_path}\")\n",
    "            continue\n",
    "\n",
    "        print(f'Extracting Data of Class: {class_name}')\n",
    "\n",
    "        # Get the list of video files in the class directory\n",
    "        files_list = os.listdir(class_path)\n",
    "\n",
    "        # Limit the number of videos if specified\n",
    "        if max_videos_per_class is not None:\n",
    "            files_list = files_list[:max_videos_per_class]\n",
    "\n",
    "        # Iterate through all video files\n",
    "        for file_name in files_list:\n",
    "            video_file_path = os.path.join(class_path, file_name)\n",
    "\n",
    "            # Extract frames using the updated frames_extraction function\n",
    "            frames = frames_extraction(video_file_path, \n",
    "                                       sequence_length, \n",
    "                                       image_height, \n",
    "                                       image_width)\n",
    "\n",
    "            # Skip videos where frame extraction failed\n",
    "            if frames is None:\n",
    "                print(f\"Skipping video {video_file_path} due to frame extraction failure\")\n",
    "                continue\n",
    "\n",
    "            # Append the data to respective lists\n",
    "            videos.append(frames)\n",
    "            labels.append(class_index)\n",
    "\n",
    "    # Convert lists to numpy arrays\n",
    "    if not videos:\n",
    "        raise ValueError(\"No valid videos were processed. Check dataset or parameters.\")\n",
    "    videos = np.asarray(videos)\n",
    "    labels = np.array(labels)\n",
    "\n",
    "    print(f\"Dataset created with {len(videos)} videos\")\n",
    "    print(f\"Features shape: {videos.shape}\")\n",
    "    print(f\"Labels shape: {labels.shape}\")\n",
    "\n",
    "    return videos, labels"
   ]
  },
  {
   "cell_type": "markdown",
   "id": "81146b75",
   "metadata": {
    "papermill": {
     "duration": 0.00852,
     "end_time": "2025-07-12T15:17:01.591074",
     "exception": false,
     "start_time": "2025-07-12T15:17:01.582554",
     "status": "completed"
    },
    "tags": []
   },
   "source": [
    "## 🪄 Video Data Generator"
   ]
  },
  {
   "cell_type": "code",
   "execution_count": 7,
   "id": "cbc6ce8b",
   "metadata": {
    "execution": {
     "iopub.execute_input": "2025-07-12T15:17:01.609575Z",
     "iopub.status.busy": "2025-07-12T15:17:01.609297Z",
     "iopub.status.idle": "2025-07-12T15:17:01.679715Z",
     "shell.execute_reply": "2025-07-12T15:17:01.679098Z"
    },
    "papermill": {
     "duration": 0.081095,
     "end_time": "2025-07-12T15:17:01.680922",
     "exception": false,
     "start_time": "2025-07-12T15:17:01.599827",
     "status": "completed"
    },
    "tags": []
   },
   "outputs": [],
   "source": [
    "from tensorflow.keras.utils import Sequence, to_categorical\n",
    "import tensorflow as tf\n",
    "import numpy as np\n",
    "import cv2\n",
    "\n",
    "\n",
    "\n",
    "\n",
    "class VideoDataGenerator(Sequence):\n",
    "    def __init__(self, videos, labels, batch_size, is_training=False):\n",
    "        self.videos = list(videos)  # List of video file paths\n",
    "        self.labels = list(labels)  # List or array of labels encoded\n",
    "        self.batch_size = batch_size\n",
    "        self.indices = np.arange(len(self.videos))  # For shuffling\n",
    "        self.is_training = is_training  # Flag to control whether augmentation is applied\n",
    "        self.temp_videos=[]\n",
    "        self.temp_labels=[]\n",
    "        \n",
    "        \n",
    "        print(f\"Total {len(videos)} videos and {len(labels)} classes\")\n",
    "\n",
    "    def __len__(self):\n",
    "        # Return the number of batches per epoch\n",
    "        return int(np.ceil(len(self.videos) / self.batch_size))\n",
    "\n",
    "    def __getitem__(self, idx):\n",
    "        # Get batch indices\n",
    "        batch_indices = self.indices[idx * self.batch_size:(idx + 1) * self.batch_size]\n",
    "        \n",
    "        # Handle case where batch_indices is empty\n",
    "        if len(batch_indices) == 0:\n",
    "            return np.array([], dtype=np.float32), np.array([], dtype=np.float32)\n",
    "        \n",
    "        # Initialize lists to store frames and labels\n",
    "        all_frames = []\n",
    "        all_labels = []\n",
    "        \n",
    "        # Process each video in the batch\n",
    "        for i, index in enumerate(batch_indices):\n",
    "            sequence = self.videos[index]\n",
    "            label = self.labels[index]\n",
    "            \n",
    "            # Load and process video\n",
    "            # sequence = frames_extraction(video_path)\n",
    "\n",
    "            # if sequence is not None:\n",
    "            #     # Apply augmentations: 1 original + 4 augmentations (horizontal flip, shear, rotation, noise)\n",
    "            #     augmented_sequences = [sequence]  # Add original sequence\n",
    "\n",
    "            #     if self.is_training:\n",
    "            #         # Apply augmentations\n",
    "            #         augmented_sequences.append(np.array(horizontal_flip(sequence)))  # Horizontal Flip\n",
    "            #         augmented_sequences.append(np.array(apply_shear_frames(sequence, shear_right=0)))  # Random Shear\n",
    "            #         augmented_sequences.append(np.array(apply_shear_frames(sequence, shear_right=1)))  # Random Rotation\n",
    "            #         augmented_sequences.append(np.array(noise_video(sequence)))  # Salt and Pepper Noise\n",
    "\n",
    "            #     # Add augmented sequences to the batch\n",
    "            #     all_frames.extend(augmented_sequences)\n",
    "            #     all_labels.extend([label] * len(augmented_sequences))  # Each augmentation has the same label\n",
    "\n",
    "            \n",
    "            # Append the sequence and label\n",
    "            all_frames.append(sequence)\n",
    "            all_labels.append(label)\n",
    "        \n",
    "        # Convert to numpy arrays\n",
    "        all_frames = np.array(all_frames, dtype=np.float32)\n",
    "        all_labels = np.array(all_labels)\n",
    "            \n",
    "        \n",
    "        return all_frames, all_labels\n",
    "    def add(self, new_videos, new_labels):\n",
    "        self.temp_videos.extend(new_videos)\n",
    "        self.temp_labels.extend(new_labels)\n",
    "    \n",
    "    def confirm(self):\n",
    "        print(f\"Adding {len(self.temp_videos)} videos with {len(self.temp_labels)} classes.\")\n",
    "        self.videos.extend(self.temp_videos)\n",
    "        self.labels.extend(self.temp_labels)\n",
    "        print(f\"Successfully added - {len(self.temp_videos)} videos and {len(self.temp_labels)} classes.\")\n",
    "        self.temp_videos=[]\n",
    "        self.temp_labels=[]\n",
    "        self.indices = np.arange(len(self.videos))\n",
    "        print(f\"Now Total - {len(self.videos)} videos and {len(self.labels)} classes.\")\n",
    "        print(f\"PENDING for Augmentations - {len(self.temp_videos)} videos and {len(self.temp_labels)} classes.\")\n",
    "    \n",
    "    def on_epoch_end(self):\n",
    "        # Shuffle indices at the end of each epoch\n",
    "        np.random.shuffle(self.indices)\n",
    "\n",
    "    def as_dataset(self):\n",
    "        def generator():\n",
    "            for idx in range(len(self)):\n",
    "                frames, labels = self[idx]\n",
    "                # Skip empty batches\n",
    "                if frames.size == 0:\n",
    "                    continue\n",
    "                yield frames, labels\n",
    "        self.labels=np.array(self.labels)\n",
    "    \n",
    "        # Create a tf.data.Dataset\n",
    "        dataset = tf.data.Dataset.from_generator(\n",
    "            generator,\n",
    "            output_types=(tf.float32, tf.float32),\n",
    "            output_shapes=(\n",
    "                (None, SEQUENCE_LENGTH, IMAGE_HEIGHT, IMAGE_WIDTH, 3),\n",
    "                (None, NO_OF_CLASSES)\n",
    "            )\n",
    "        )\n",
    "        dataset = dataset.prefetch(tf.data.AUTOTUNE)\n",
    "        return dataset"
   ]
  },
  {
   "cell_type": "markdown",
   "id": "52b6e361",
   "metadata": {
    "papermill": {
     "duration": 0.008522,
     "end_time": "2025-07-12T15:17:01.698535",
     "exception": false,
     "start_time": "2025-07-12T15:17:01.690013",
     "status": "completed"
    },
    "tags": []
   },
   "source": [
    "## Debug and Helpers"
   ]
  },
  {
   "cell_type": "markdown",
   "id": "e77096cb",
   "metadata": {
    "papermill": {
     "duration": 0.008466,
     "end_time": "2025-07-12T15:17:01.715790",
     "exception": false,
     "start_time": "2025-07-12T15:17:01.707324",
     "status": "completed"
    },
    "tags": []
   },
   "source": [
    "## 💫 Augmentation Helper function"
   ]
  },
  {
   "cell_type": "code",
   "execution_count": 8,
   "id": "53fbd0f2",
   "metadata": {
    "execution": {
     "iopub.execute_input": "2025-07-12T15:17:01.780481Z",
     "iopub.status.busy": "2025-07-12T15:17:01.779715Z",
     "iopub.status.idle": "2025-07-12T15:17:01.785307Z",
     "shell.execute_reply": "2025-07-12T15:17:01.784520Z"
    },
    "papermill": {
     "duration": 0.016869,
     "end_time": "2025-07-12T15:17:01.786583",
     "exception": false,
     "start_time": "2025-07-12T15:17:01.769714",
     "status": "completed"
    },
    "tags": []
   },
   "outputs": [],
   "source": [
    "import time\n",
    "\n",
    "    \n",
    "\n",
    "def apply_augmentation(augmentation_function, generator, confirm=False, *args, **kwargs):\n",
    "    \n",
    "    for i in range(len(generator)):\n",
    "        batch_videos, batch_labels = generator[i]\n",
    "        augmented_videos=[]\n",
    "        for videos in batch_videos:\n",
    "            augmented_videos.append(augmentation_function(videos, *args, **kwargs))\n",
    "        generator.add(augmented_videos, batch_labels)\n",
    "        print(f\"Processing video {len(generator.temp_videos)}...\", end=\"\\r\", flush=True)\n",
    "        time.sleep(0.5)  # simulate work\n",
    "    if confirm:\n",
    "        generator.confirm()"
   ]
  },
  {
   "cell_type": "markdown",
   "id": "f7f20135",
   "metadata": {
    "papermill": {
     "duration": 0.008986,
     "end_time": "2025-07-12T15:17:01.804633",
     "exception": false,
     "start_time": "2025-07-12T15:17:01.795647",
     "status": "completed"
    },
    "tags": []
   },
   "source": [
    "### Show Frames"
   ]
  },
  {
   "cell_type": "code",
   "execution_count": 9,
   "id": "0558bad1",
   "metadata": {
    "execution": {
     "iopub.execute_input": "2025-07-12T15:17:01.824006Z",
     "iopub.status.busy": "2025-07-12T15:17:01.823421Z",
     "iopub.status.idle": "2025-07-12T15:17:01.827487Z",
     "shell.execute_reply": "2025-07-12T15:17:01.826889Z"
    },
    "papermill": {
     "duration": 0.014945,
     "end_time": "2025-07-12T15:17:01.828718",
     "exception": false,
     "start_time": "2025-07-12T15:17:01.813773",
     "status": "completed"
    },
    "tags": []
   },
   "outputs": [],
   "source": [
    "# show frame def\n",
    "import matplotlib.pyplot as plt\n",
    "\n",
    "def show_frame(frame):\n",
    "    plt.figure(figsize=(3,3))\n",
    "    plt.imshow(frame)\n",
    "    plt.axis(\"off\")\n",
    "    plt.tight_layout()"
   ]
  },
  {
   "cell_type": "markdown",
   "id": "39d09e2a",
   "metadata": {
    "papermill": {
     "duration": 0.008899,
     "end_time": "2025-07-12T15:17:01.846710",
     "exception": false,
     "start_time": "2025-07-12T15:17:01.837811",
     "status": "completed"
    },
    "tags": []
   },
   "source": [
    "### Helper Function"
   ]
  },
  {
   "cell_type": "code",
   "execution_count": 10,
   "id": "7ba552c8",
   "metadata": {
    "execution": {
     "iopub.execute_input": "2025-07-12T15:17:01.865949Z",
     "iopub.status.busy": "2025-07-12T15:17:01.865728Z",
     "iopub.status.idle": "2025-07-12T15:17:01.870448Z",
     "shell.execute_reply": "2025-07-12T15:17:01.869681Z"
    },
    "papermill": {
     "duration": 0.015979,
     "end_time": "2025-07-12T15:17:01.871717",
     "exception": false,
     "start_time": "2025-07-12T15:17:01.855738",
     "status": "completed"
    },
    "tags": []
   },
   "outputs": [],
   "source": [
    "def show_frame_vs(frame1, frame2, title1=\"Frame 1\", title2=\"Frame 2\"):\n",
    "    plt.figure(figsize=(10, 5))\n",
    "\n",
    "    # First frame\n",
    "    plt.subplot(1, 2, 1)\n",
    "    plt.imshow(frame1)\n",
    "    plt.title(title1)\n",
    "    plt.axis('off')\n",
    "\n",
    "    # Second frame\n",
    "    plt.subplot(1, 2, 2)\n",
    "    plt.imshow(frame2)\n",
    "    plt.title(title2)\n",
    "    plt.axis('off')\n",
    "\n",
    "    plt.tight_layout()\n",
    "    plt.show()"
   ]
  },
  {
   "cell_type": "code",
   "execution_count": 11,
   "id": "100cd111",
   "metadata": {
    "execution": {
     "iopub.execute_input": "2025-07-12T15:17:01.890715Z",
     "iopub.status.busy": "2025-07-12T15:17:01.890501Z",
     "iopub.status.idle": "2025-07-12T15:17:01.894000Z",
     "shell.execute_reply": "2025-07-12T15:17:01.893481Z"
    },
    "papermill": {
     "duration": 0.014206,
     "end_time": "2025-07-12T15:17:01.895078",
     "exception": false,
     "start_time": "2025-07-12T15:17:01.880872",
     "status": "completed"
    },
    "tags": []
   },
   "outputs": [],
   "source": [
    "# reusable video loop helper function\n",
    "def apply_function(function, videos, *arg, **kwargs):\n",
    "    new_videos=[]\n",
    "    \n",
    "    for video in videos:\n",
    "        new_videos.append(function(video, *arg, **kwargs))\n",
    "        \n",
    "    return new_videos"
   ]
  },
  {
   "cell_type": "code",
   "execution_count": 12,
   "id": "9a70f6fa",
   "metadata": {
    "execution": {
     "iopub.execute_input": "2025-07-12T15:17:01.913948Z",
     "iopub.status.busy": "2025-07-12T15:17:01.913742Z",
     "iopub.status.idle": "2025-07-12T15:17:01.917913Z",
     "shell.execute_reply": "2025-07-12T15:17:01.917408Z"
    },
    "papermill": {
     "duration": 0.014685,
     "end_time": "2025-07-12T15:17:01.918935",
     "exception": false,
     "start_time": "2025-07-12T15:17:01.904250",
     "status": "completed"
    },
    "tags": []
   },
   "outputs": [],
   "source": [
    "# reusable video loop helper function\n",
    "def apply(function, videos, labels, *arg, **kwargs):\n",
    "    new_videos=[]\n",
    "    new_labels=[]\n",
    "    combined=zip(labels, videos)\n",
    "    \n",
    "    for label, video in combined:\n",
    "        new_videos.append(function(video, *arg, **kwargs))\n",
    "        new_labels.append(label)\n",
    "        \n",
    "    new_videos=np.asarray(new_videos)\n",
    "    new_labels=np.asarray(new_labels)\n",
    "    \n",
    "    return new_videos, new_labels"
   ]
  },
  {
   "cell_type": "markdown",
   "id": "501d55ce",
   "metadata": {
    "papermill": {
     "duration": 0.009773,
     "end_time": "2025-07-12T15:17:01.937475",
     "exception": false,
     "start_time": "2025-07-12T15:17:01.927702",
     "status": "completed"
    },
    "tags": []
   },
   "source": [
    "## Salt and Pepper Noise "
   ]
  },
  {
   "cell_type": "code",
   "execution_count": 13,
   "id": "8ef7d9b8",
   "metadata": {
    "execution": {
     "iopub.execute_input": "2025-07-12T15:17:01.955457Z",
     "iopub.status.busy": "2025-07-12T15:17:01.955210Z",
     "iopub.status.idle": "2025-07-12T15:17:01.959290Z",
     "shell.execute_reply": "2025-07-12T15:17:01.958744Z"
    },
    "papermill": {
     "duration": 0.014288,
     "end_time": "2025-07-12T15:17:01.960445",
     "exception": false,
     "start_time": "2025-07-12T15:17:01.946157",
     "status": "completed"
    },
    "tags": []
   },
   "outputs": [],
   "source": [
    "# Noise function def\n",
    "\n",
    "def noise_video(video,noise_factor=NOISE_FACTOR):\n",
    "    noisy_video=[]\n",
    "    for frame in video:\n",
    "        # Generate random noise\n",
    "        noise = np.random.rand(*frame.shape)  # Generate random noise\n",
    "        salt_pepper_noise = np.random.choice([0, 1], size=frame.shape, p=[1-noise_factor, noise_factor])\n",
    "        noisy_frame = frame * (1 - salt_pepper_noise) + salt_pepper_noise * np.random.rand(*frame.shape)\n",
    "        noisy_video.append(noisy_frame)\n",
    "    return np.array(noisy_video)"
   ]
  },
  {
   "cell_type": "markdown",
   "id": "be6a2aa2",
   "metadata": {
    "papermill": {
     "duration": 0.008564,
     "end_time": "2025-07-12T15:17:01.977868",
     "exception": false,
     "start_time": "2025-07-12T15:17:01.969304",
     "status": "completed"
    },
    "tags": []
   },
   "source": [
    "## Horizontal Flip"
   ]
  },
  {
   "cell_type": "code",
   "execution_count": 14,
   "id": "abe9a021",
   "metadata": {
    "execution": {
     "iopub.execute_input": "2025-07-12T15:17:01.995717Z",
     "iopub.status.busy": "2025-07-12T15:17:01.995512Z",
     "iopub.status.idle": "2025-07-12T15:17:01.998815Z",
     "shell.execute_reply": "2025-07-12T15:17:01.998263Z"
    },
    "papermill": {
     "duration": 0.013558,
     "end_time": "2025-07-12T15:17:01.999976",
     "exception": false,
     "start_time": "2025-07-12T15:17:01.986418",
     "status": "completed"
    },
    "tags": []
   },
   "outputs": [],
   "source": [
    "# horizontal flip function def\n",
    "# Testing Flip feautes[0] -> first video\n",
    "def horizontal_flip(video):\n",
    "    return [tf.image.flip_left_right(frame) for frame in video]"
   ]
  },
  {
   "cell_type": "markdown",
   "id": "98e2467f",
   "metadata": {
    "papermill": {
     "duration": 0.009062,
     "end_time": "2025-07-12T15:17:02.017504",
     "exception": false,
     "start_time": "2025-07-12T15:17:02.008442",
     "status": "completed"
    },
    "tags": []
   },
   "source": [
    "## Random Shear"
   ]
  },
  {
   "cell_type": "code",
   "execution_count": 15,
   "id": "46f1aace",
   "metadata": {
    "execution": {
     "iopub.execute_input": "2025-07-12T15:17:02.035266Z",
     "iopub.status.busy": "2025-07-12T15:17:02.035051Z",
     "iopub.status.idle": "2025-07-12T15:17:02.040837Z",
     "shell.execute_reply": "2025-07-12T15:17:02.040298Z"
    },
    "papermill": {
     "duration": 0.015887,
     "end_time": "2025-07-12T15:17:02.041822",
     "exception": false,
     "start_time": "2025-07-12T15:17:02.025935",
     "status": "completed"
    },
    "tags": []
   },
   "outputs": [],
   "source": [
    "# random shear function def\n",
    "import numpy as np\n",
    "import tensorflow as tf\n",
    "from scipy.ndimage import affine_transform\n",
    "\n",
    "def apply_shear_frames(frames, shear_right):\n",
    "    return [apply_shear(frame, shear_right) for frame in frames]\n",
    "\n",
    "def apply_shear(frame, shear_right=0):\n",
    "    frame_resized = tf.image.resize(frame, (IMAGE_HEIGHT, IMAGE_WIDTH)).numpy()\n",
    "    if shear_right:\n",
    "        shear_x = 0.09\n",
    "        shear_y = 0.1\n",
    "    else:\n",
    "        shear_x = -0.09\n",
    "        shear_y = 0.3\n",
    "    # Construct the affine matrix for scipy: inverse of the transformation matrix\n",
    "    # scipy applies the inverse transform matrix\n",
    "    shear_matrix = np.array([\n",
    "        [1, shear_x, 0],\n",
    "        [shear_y, 1, 0],\n",
    "        [0, 0, 1]\n",
    "    ], dtype=np.float32)\n",
    "\n",
    "    # Extract 2x2 part for affine_transform\n",
    "    matrix = shear_matrix[:2, :2]\n",
    "\n",
    "    # Offset (no translation)\n",
    "    offset = [0, 0]\n",
    "\n",
    "    # Apply affine transform on each channel separately\n",
    "    sheared = np.zeros_like(frame_resized)\n",
    "    for c in range(3):\n",
    "        sheared[..., c] = affine_transform(\n",
    "            frame_resized[..., c],\n",
    "            matrix=matrix,\n",
    "            offset=offset,\n",
    "            order=1,          # bilinear interpolation\n",
    "            mode='nearest'    # fill_mode\n",
    "        )\n",
    "    return sheared"
   ]
  },
  {
   "cell_type": "markdown",
   "id": "10f07e84",
   "metadata": {
    "papermill": {
     "duration": 0.008397,
     "end_time": "2025-07-12T15:17:02.058845",
     "exception": false,
     "start_time": "2025-07-12T15:17:02.050448",
     "status": "completed"
    },
    "tags": []
   },
   "source": [
    "# 📌 Model Related\n",
    "## 🗼 Model Architecture `create_model`"
   ]
  },
  {
   "cell_type": "markdown",
   "id": "4fdad687",
   "metadata": {
    "papermill": {
     "duration": 0.008331,
     "end_time": "2025-07-12T15:17:02.075650",
     "exception": false,
     "start_time": "2025-07-12T15:17:02.067319",
     "status": "completed"
    },
    "tags": []
   },
   "source": [
    "# 📌 Execution\n",
    "## Creating Dataset\n",
    "The following functions are executed\n",
    "- `frame extraction`\n",
    "- `resize`\n",
    "\n",
    "which returns:\n",
    "- `features` - `np.array` of all the videos\n",
    "- `labels` - `np.array` of all the class labels"
   ]
  },
  {
   "cell_type": "code",
   "execution_count": 16,
   "id": "307287a7",
   "metadata": {
    "execution": {
     "iopub.execute_input": "2025-07-12T15:17:02.093614Z",
     "iopub.status.busy": "2025-07-12T15:17:02.093381Z",
     "iopub.status.idle": "2025-07-12T15:17:18.230945Z",
     "shell.execute_reply": "2025-07-12T15:17:18.230126Z"
    },
    "papermill": {
     "duration": 16.148112,
     "end_time": "2025-07-12T15:17:18.232286",
     "exception": false,
     "start_time": "2025-07-12T15:17:02.084174",
     "status": "completed"
    },
    "tags": []
   },
   "outputs": [
    {
     "name": "stdout",
     "output_type": "stream",
     "text": [
      "Extracting Data of Class: Basketball\n",
      "Extracting Data of Class: Biking\n",
      "Extracting Data of Class: Diving\n",
      "Extracting Data of Class: GolfSwing\n",
      "Extracting Data of Class: HorseRiding\n",
      "Extracting Data of Class: Skiing\n",
      "Extracting Data of Class: SkateBoarding\n",
      "Extracting Data of Class: Swing\n",
      "Extracting Data of Class: TennisSwing\n",
      "Extracting Data of Class: TrampolineJumping\n",
      "Extracting Data of Class: WalkingWithDog\n",
      "Dataset created with 550 videos\n",
      "Features shape: (550, 5, 128, 128, 3)\n",
      "Labels shape: (550,)\n"
     ]
    },
    {
     "data": {
      "text/plain": [
       "((550, 5, 128, 128, 3), (550,))"
      ]
     },
     "execution_count": 16,
     "metadata": {},
     "output_type": "execute_result"
    }
   ],
   "source": [
    "# RUN Create the dataset with explicit parameters\n",
    "try:\n",
    "    videos, labels = create_dataset(\n",
    "        dataset_dir=DATASET_DIR,\n",
    "        classes_list=CLASSES_LIST,\n",
    "        sequence_length=SEQUENCE_LENGTH,\n",
    "        image_height=IMAGE_HEIGHT,\n",
    "        image_width=IMAGE_WIDTH,\n",
    "        # Limit to 10 videos per class to manage memory\n",
    "        augmentations=True,\n",
    "        max_videos_per_class=MAX_VIDEO_PER_CLASS\n",
    "    )\n",
    "except FileNotFoundError as e:\n",
    "    print(f\"Error: {e}\")\n",
    "except ValueError as e:\n",
    "    print(f\"Error: {e}\")\n",
    "except Exception as e:\n",
    "    print(f\"Unexpected error: {e}\")\n",
    "\n",
    "videos.shape, labels.shape"
   ]
  },
  {
   "cell_type": "code",
   "execution_count": 17,
   "id": "6cdc34b4",
   "metadata": {
    "execution": {
     "iopub.execute_input": "2025-07-12T15:17:18.253296Z",
     "iopub.status.busy": "2025-07-12T15:17:18.253046Z",
     "iopub.status.idle": "2025-07-12T15:17:18.257452Z",
     "shell.execute_reply": "2025-07-12T15:17:18.256599Z"
    },
    "papermill": {
     "duration": 0.016111,
     "end_time": "2025-07-12T15:17:18.258685",
     "exception": false,
     "start_time": "2025-07-12T15:17:18.242574",
     "status": "completed"
    },
    "tags": []
   },
   "outputs": [
    {
     "name": "stdout",
     "output_type": "stream",
     "text": [
      "Total 550 videos and 550 classes\n"
     ]
    }
   ],
   "source": [
    "video_generator = VideoDataGenerator(\n",
    "    videos=videos,\n",
    "    labels=labels,\n",
    "    batch_size=BATCH_SIZE\n",
    ")"
   ]
  },
  {
   "cell_type": "code",
   "execution_count": 18,
   "id": "7c98e71d",
   "metadata": {
    "execution": {
     "iopub.execute_input": "2025-07-12T15:17:18.279603Z",
     "iopub.status.busy": "2025-07-12T15:17:18.278999Z",
     "iopub.status.idle": "2025-07-12T15:17:18.292614Z",
     "shell.execute_reply": "2025-07-12T15:17:18.291993Z"
    },
    "papermill": {
     "duration": 0.025187,
     "end_time": "2025-07-12T15:17:18.293789",
     "exception": false,
     "start_time": "2025-07-12T15:17:18.268602",
     "status": "completed"
    },
    "tags": []
   },
   "outputs": [
    {
     "data": {
      "text/plain": [
       "((24, 5, 128, 128, 3), (24,))"
      ]
     },
     "execution_count": 18,
     "metadata": {},
     "output_type": "execute_result"
    }
   ],
   "source": [
    "videos, labels = video_generator[3]\n",
    "\n",
    "videos.shape, labels.shape"
   ]
  },
  {
   "cell_type": "code",
   "execution_count": 19,
   "id": "a79f685f",
   "metadata": {
    "execution": {
     "iopub.execute_input": "2025-07-12T15:17:18.314406Z",
     "iopub.status.busy": "2025-07-12T15:17:18.314127Z",
     "iopub.status.idle": "2025-07-12T15:17:18.319071Z",
     "shell.execute_reply": "2025-07-12T15:17:18.318531Z"
    },
    "papermill": {
     "duration": 0.016481,
     "end_time": "2025-07-12T15:17:18.320242",
     "exception": false,
     "start_time": "2025-07-12T15:17:18.303761",
     "status": "completed"
    },
    "tags": []
   },
   "outputs": [
    {
     "data": {
      "text/plain": [
       "550"
      ]
     },
     "execution_count": 19,
     "metadata": {},
     "output_type": "execute_result"
    }
   ],
   "source": [
    "len(video_generator.videos) "
   ]
  },
  {
   "cell_type": "code",
   "execution_count": 20,
   "id": "078dd45d",
   "metadata": {
    "execution": {
     "iopub.execute_input": "2025-07-12T15:17:18.340273Z",
     "iopub.status.busy": "2025-07-12T15:17:18.340039Z",
     "iopub.status.idle": "2025-07-12T15:17:18.344567Z",
     "shell.execute_reply": "2025-07-12T15:17:18.343898Z"
    },
    "papermill": {
     "duration": 0.016041,
     "end_time": "2025-07-12T15:17:18.345704",
     "exception": false,
     "start_time": "2025-07-12T15:17:18.329663",
     "status": "completed"
    },
    "tags": []
   },
   "outputs": [
    {
     "data": {
      "text/plain": [
       "23"
      ]
     },
     "execution_count": 20,
     "metadata": {},
     "output_type": "execute_result"
    }
   ],
   "source": [
    "len(video_generator)"
   ]
  },
  {
   "cell_type": "markdown",
   "id": "fe3ffe44",
   "metadata": {
    "papermill": {
     "duration": 0.009806,
     "end_time": "2025-07-12T15:17:18.365421",
     "exception": false,
     "start_time": "2025-07-12T15:17:18.355615",
     "status": "completed"
    },
    "tags": []
   },
   "source": [
    "## Apply ***horizontal flip*** (Augmentation)"
   ]
  },
  {
   "cell_type": "code",
   "execution_count": 21,
   "id": "2fcff8ac",
   "metadata": {
    "execution": {
     "iopub.execute_input": "2025-07-12T15:17:18.386015Z",
     "iopub.status.busy": "2025-07-12T15:17:18.385769Z",
     "iopub.status.idle": "2025-07-12T15:17:32.742049Z",
     "shell.execute_reply": "2025-07-12T15:17:32.741414Z"
    },
    "papermill": {
     "duration": 14.368375,
     "end_time": "2025-07-12T15:17:32.743545",
     "exception": false,
     "start_time": "2025-07-12T15:17:18.375170",
     "status": "completed"
    },
    "tags": []
   },
   "outputs": [
    {
     "name": "stdout",
     "output_type": "stream",
     "text": [
      "Processing video 24...\r"
     ]
    },
    {
     "name": "stderr",
     "output_type": "stream",
     "text": [
      "I0000 00:00:1752333439.411545      19 gpu_device.cc:2022] Created device /job:localhost/replica:0/task:0/device:GPU:0 with 13942 MB memory:  -> device: 0, name: Tesla T4, pci bus id: 0000:00:04.0, compute capability: 7.5\n",
      "I0000 00:00:1752333439.412446      19 gpu_device.cc:2022] Created device /job:localhost/replica:0/task:0/device:GPU:1 with 13942 MB memory:  -> device: 1, name: Tesla T4, pci bus id: 0000:00:05.0, compute capability: 7.5\n"
     ]
    },
    {
     "name": "stdout",
     "output_type": "stream",
     "text": [
      "Processing video 550...\r"
     ]
    }
   ],
   "source": [
    "apply_augmentation(horizontal_flip, video_generator)"
   ]
  },
  {
   "cell_type": "code",
   "execution_count": 22,
   "id": "8b3f17e1",
   "metadata": {
    "execution": {
     "iopub.execute_input": "2025-07-12T15:17:32.765618Z",
     "iopub.status.busy": "2025-07-12T15:17:32.765353Z",
     "iopub.status.idle": "2025-07-12T15:17:32.769844Z",
     "shell.execute_reply": "2025-07-12T15:17:32.769212Z"
    },
    "papermill": {
     "duration": 0.016752,
     "end_time": "2025-07-12T15:17:32.771044",
     "exception": false,
     "start_time": "2025-07-12T15:17:32.754292",
     "status": "completed"
    },
    "tags": []
   },
   "outputs": [
    {
     "name": "stdout",
     "output_type": "stream",
     "text": [
      "Checking Total Videos and Class Count: 550, 550\n",
      "PENDING Total Videos and Class Count: 550, 550\n"
     ]
    }
   ],
   "source": [
    "print(f\"Checking Total Videos and Class Count: {len(video_generator.videos)}, {len(video_generator.labels)}\")\n",
    "print(f\"PENDING Total Videos and Class Count: {len(video_generator.temp_videos)}, {len(video_generator.temp_labels)}\")"
   ]
  },
  {
   "cell_type": "code",
   "execution_count": 23,
   "id": "77a4b28b",
   "metadata": {
    "execution": {
     "iopub.execute_input": "2025-07-12T15:17:32.792590Z",
     "iopub.status.busy": "2025-07-12T15:17:32.792393Z",
     "iopub.status.idle": "2025-07-12T15:17:32.796533Z",
     "shell.execute_reply": "2025-07-12T15:17:32.795707Z"
    },
    "papermill": {
     "duration": 0.016393,
     "end_time": "2025-07-12T15:17:32.797806",
     "exception": false,
     "start_time": "2025-07-12T15:17:32.781413",
     "status": "completed"
    },
    "tags": []
   },
   "outputs": [
    {
     "name": "stdout",
     "output_type": "stream",
     "text": [
      "Adding 550 videos with 550 classes.\n",
      "Successfully added - 550 videos and 550 classes.\n",
      "Now Total - 1100 videos and 1100 classes.\n",
      "PENDING for Augmentations - 0 videos and 0 classes.\n"
     ]
    }
   ],
   "source": [
    "video_generator.confirm()"
   ]
  },
  {
   "cell_type": "markdown",
   "id": "a4709bb0",
   "metadata": {
    "papermill": {
     "duration": 0.010304,
     "end_time": "2025-07-12T15:17:32.819111",
     "exception": false,
     "start_time": "2025-07-12T15:17:32.808807",
     "status": "completed"
    },
    "tags": []
   },
   "source": [
    "## Apply ***Noise*** (Augmentation)"
   ]
  },
  {
   "cell_type": "code",
   "execution_count": 24,
   "id": "4c230a28",
   "metadata": {
    "execution": {
     "iopub.execute_input": "2025-07-12T15:17:32.840943Z",
     "iopub.status.busy": "2025-07-12T15:17:32.840712Z",
     "iopub.status.idle": "2025-07-12T15:18:10.515524Z",
     "shell.execute_reply": "2025-07-12T15:18:10.514867Z"
    },
    "papermill": {
     "duration": 37.687462,
     "end_time": "2025-07-12T15:18:10.517015",
     "exception": false,
     "start_time": "2025-07-12T15:17:32.829553",
     "status": "completed"
    },
    "tags": []
   },
   "outputs": [
    {
     "name": "stdout",
     "output_type": "stream",
     "text": [
      "Processing video 1100...\r"
     ]
    }
   ],
   "source": [
    "apply_augmentation(noise_video, video_generator)"
   ]
  },
  {
   "cell_type": "code",
   "execution_count": 25,
   "id": "8083ccad",
   "metadata": {
    "execution": {
     "iopub.execute_input": "2025-07-12T15:18:10.544247Z",
     "iopub.status.busy": "2025-07-12T15:18:10.543958Z",
     "iopub.status.idle": "2025-07-12T15:18:10.548474Z",
     "shell.execute_reply": "2025-07-12T15:18:10.547738Z"
    },
    "papermill": {
     "duration": 0.019479,
     "end_time": "2025-07-12T15:18:10.549659",
     "exception": false,
     "start_time": "2025-07-12T15:18:10.530180",
     "status": "completed"
    },
    "tags": []
   },
   "outputs": [
    {
     "name": "stdout",
     "output_type": "stream",
     "text": [
      "Checking Total Videos and Class Count: 1100, 1100\n",
      "PENDING Total Videos and Class Count: 1100, 1100\n"
     ]
    }
   ],
   "source": [
    "print(f\"Checking Total Videos and Class Count: {len(video_generator.videos)}, {len(video_generator.labels)}\")\n",
    "print(f\"PENDING Total Videos and Class Count: {len(video_generator.temp_videos)}, {len(video_generator.temp_labels)}\")"
   ]
  },
  {
   "cell_type": "markdown",
   "id": "1e97b88d",
   "metadata": {
    "papermill": {
     "duration": 0.012195,
     "end_time": "2025-07-12T15:18:10.574654",
     "exception": false,
     "start_time": "2025-07-12T15:18:10.562459",
     "status": "completed"
    },
    "tags": []
   },
   "source": [
    "## Apply ***Random Shear x2*** (Augmentation)"
   ]
  },
  {
   "cell_type": "code",
   "execution_count": 26,
   "id": "16d71b18",
   "metadata": {
    "execution": {
     "iopub.execute_input": "2025-07-12T15:18:10.600426Z",
     "iopub.status.busy": "2025-07-12T15:18:10.600129Z",
     "iopub.status.idle": "2025-07-12T15:19:42.832987Z",
     "shell.execute_reply": "2025-07-12T15:19:42.832351Z"
    },
    "papermill": {
     "duration": 92.247354,
     "end_time": "2025-07-12T15:19:42.834496",
     "exception": false,
     "start_time": "2025-07-12T15:18:10.587142",
     "status": "completed"
    },
    "tags": []
   },
   "outputs": [
    {
     "name": "stdout",
     "output_type": "stream",
     "text": [
      "Processing video 3300...\r"
     ]
    }
   ],
   "source": [
    "apply_augmentation(apply_shear_frames, video_generator, shear_right=0)\n",
    "apply_augmentation(apply_shear_frames, video_generator, shear_right=1)"
   ]
  },
  {
   "cell_type": "code",
   "execution_count": 27,
   "id": "614beb47",
   "metadata": {
    "execution": {
     "iopub.execute_input": "2025-07-12T15:19:42.869098Z",
     "iopub.status.busy": "2025-07-12T15:19:42.868823Z",
     "iopub.status.idle": "2025-07-12T15:19:42.873238Z",
     "shell.execute_reply": "2025-07-12T15:19:42.872556Z"
    },
    "papermill": {
     "duration": 0.022801,
     "end_time": "2025-07-12T15:19:42.874324",
     "exception": false,
     "start_time": "2025-07-12T15:19:42.851523",
     "status": "completed"
    },
    "tags": []
   },
   "outputs": [
    {
     "name": "stdout",
     "output_type": "stream",
     "text": [
      "Checking Total Videos and Class Count: 1100, 1100\n",
      "PENDING Total Videos and Class Count: 3300, 3300\n"
     ]
    }
   ],
   "source": [
    "print(f\"Checking Total Videos and Class Count: {len(video_generator.videos)}, {len(video_generator.labels)}\")\n",
    "print(f\"PENDING Total Videos and Class Count: {len(video_generator.temp_videos)}, {len(video_generator.temp_labels)}\")"
   ]
  },
  {
   "cell_type": "code",
   "execution_count": 28,
   "id": "b20fb2d1",
   "metadata": {
    "execution": {
     "iopub.execute_input": "2025-07-12T15:19:42.908424Z",
     "iopub.status.busy": "2025-07-12T15:19:42.907828Z",
     "iopub.status.idle": "2025-07-12T15:19:42.912105Z",
     "shell.execute_reply": "2025-07-12T15:19:42.911301Z"
    },
    "papermill": {
     "duration": 0.022776,
     "end_time": "2025-07-12T15:19:42.913345",
     "exception": false,
     "start_time": "2025-07-12T15:19:42.890569",
     "status": "completed"
    },
    "tags": []
   },
   "outputs": [
    {
     "name": "stdout",
     "output_type": "stream",
     "text": [
      "Adding 3300 videos with 3300 classes.\n",
      "Successfully added - 3300 videos and 3300 classes.\n",
      "Now Total - 4400 videos and 4400 classes.\n",
      "PENDING for Augmentations - 0 videos and 0 classes.\n"
     ]
    }
   ],
   "source": [
    "# confirm changes to generator\n",
    "video_generator.confirm()"
   ]
  },
  {
   "cell_type": "code",
   "execution_count": 29,
   "id": "5e8f843e",
   "metadata": {
    "execution": {
     "iopub.execute_input": "2025-07-12T15:19:42.948676Z",
     "iopub.status.busy": "2025-07-12T15:19:42.948405Z",
     "iopub.status.idle": "2025-07-12T15:19:42.952403Z",
     "shell.execute_reply": "2025-07-12T15:19:42.951562Z"
    },
    "papermill": {
     "duration": 0.023695,
     "end_time": "2025-07-12T15:19:42.953622",
     "exception": false,
     "start_time": "2025-07-12T15:19:42.929927",
     "status": "completed"
    },
    "tags": []
   },
   "outputs": [
    {
     "name": "stdout",
     "output_type": "stream",
     "text": [
      "Checking Video Generator Total Videos and Class Count: 4400, 4400\n"
     ]
    }
   ],
   "source": [
    "print(f\"Checking Video Generator Total Videos and Class Count: {len(video_generator.videos)}, {len(video_generator.labels)}\")"
   ]
  },
  {
   "cell_type": "markdown",
   "id": "1520bb7b",
   "metadata": {
    "papermill": {
     "duration": 0.016328,
     "end_time": "2025-07-12T15:19:42.986658",
     "exception": false,
     "start_time": "2025-07-12T15:19:42.970330",
     "status": "completed"
    },
    "tags": []
   },
   "source": [
    "## Cheking (Output)"
   ]
  },
  {
   "cell_type": "code",
   "execution_count": 30,
   "id": "36e92136",
   "metadata": {
    "execution": {
     "iopub.execute_input": "2025-07-12T15:19:43.021524Z",
     "iopub.status.busy": "2025-07-12T15:19:43.020896Z",
     "iopub.status.idle": "2025-07-12T15:19:43.408065Z",
     "shell.execute_reply": "2025-07-12T15:19:43.407414Z"
    },
    "papermill": {
     "duration": 0.407187,
     "end_time": "2025-07-12T15:19:43.410634",
     "exception": false,
     "start_time": "2025-07-12T15:19:43.003447",
     "status": "completed"
    },
    "tags": []
   },
   "outputs": [
    {
     "name": "stdout",
     "output_type": "stream",
     "text": [
      "(24, 5, 128, 128, 3) (24,)\n"
     ]
    },
    {
     "data": {
      "image/png": "[encoded data removed]",
      "text/plain": [
       "<Figure size 1000x500 with 2 Axes>"
      ]
     },
     "metadata": {},
     "output_type": "display_data"
    },
    {
     "name": "stdout",
     "output_type": "stream",
     "text": [
      "Might be two different action, but to check the flipping focus on the door behind.\n"
     ]
    }
   ],
   "source": [
    "# check horizontal flips\n",
    "videos, labels = video_generator[7]\n",
    "videos1, labels1 = video_generator[1]\n",
    "\n",
    "print(videos.shape, labels.shape)\n",
    "\n",
    "show_frame_vs(videos[0,0],videos1[1,0], title1=\"Flipped Frame 1\", title2=\"Non Flipped Frame 1\")\n",
    "print(\"Might be two different action, but to check the flipping focus on the door behind.\")"
   ]
  },
  {
   "cell_type": "markdown",
   "id": "891a978b",
   "metadata": {
    "papermill": {
     "duration": 0.018254,
     "end_time": "2025-07-12T15:19:43.448180",
     "exception": false,
     "start_time": "2025-07-12T15:19:43.429926",
     "status": "completed"
    },
    "tags": []
   },
   "source": [
    "# 📌 Preparing Data for Training"
   ]
  },
  {
   "cell_type": "code",
   "execution_count": 31,
   "id": "c4933c2a",
   "metadata": {
    "execution": {
     "iopub.execute_input": "2025-07-12T15:19:43.486676Z",
     "iopub.status.busy": "2025-07-12T15:19:43.486388Z",
     "iopub.status.idle": "2025-07-12T15:19:43.979253Z",
     "shell.execute_reply": "2025-07-12T15:19:43.978558Z"
    },
    "papermill": {
     "duration": 0.51396,
     "end_time": "2025-07-12T15:19:43.980663",
     "exception": false,
     "start_time": "2025-07-12T15:19:43.466703",
     "status": "completed"
    },
    "tags": []
   },
   "outputs": [],
   "source": [
    "# Clear previous session to free memory\n",
    "import gc\n",
    "\n",
    "gc.collect()\n",
    "tf.keras.backend.clear_session()"
   ]
  },
  {
   "cell_type": "markdown",
   "id": "f094e00e",
   "metadata": {
    "papermill": {
     "duration": 0.01912,
     "end_time": "2025-07-12T15:19:44.020683",
     "exception": false,
     "start_time": "2025-07-12T15:19:44.001563",
     "status": "completed"
    },
    "tags": []
   },
   "source": [
    "## Splitting data for ***Trainig*** and ***Testing***"
   ]
  },
  {
   "cell_type": "code",
   "execution_count": 32,
   "id": "edff3e62",
   "metadata": {
    "execution": {
     "iopub.execute_input": "2025-07-12T15:19:44.060388Z",
     "iopub.status.busy": "2025-07-12T15:19:44.059779Z",
     "iopub.status.idle": "2025-07-12T15:19:45.463822Z",
     "shell.execute_reply": "2025-07-12T15:19:45.463135Z"
    },
    "papermill": {
     "duration": 1.42537,
     "end_time": "2025-07-12T15:19:45.465083",
     "exception": false,
     "start_time": "2025-07-12T15:19:44.039713",
     "status": "completed"
    },
    "tags": []
   },
   "outputs": [
    {
     "data": {
      "text/plain": [
       "((4400, 5, 128, 128, 3), (4400,))"
      ]
     },
     "execution_count": 32,
     "metadata": {},
     "output_type": "execute_result"
    }
   ],
   "source": [
    "videos = video_generator.videos\n",
    "labels = video_generator.labels\n",
    "\n",
    "videos = np.array(videos, dtype='float32')\n",
    "labels = np.array(labels)\n",
    "\n",
    "videos.shape, labels.shape"
   ]
  },
  {
   "cell_type": "code",
   "execution_count": 33,
   "id": "ff024776",
   "metadata": {
    "execution": {
     "iopub.execute_input": "2025-07-12T15:19:45.504514Z",
     "iopub.status.busy": "2025-07-12T15:19:45.504212Z",
     "iopub.status.idle": "2025-07-12T15:19:45.509971Z",
     "shell.execute_reply": "2025-07-12T15:19:45.509342Z"
    },
    "papermill": {
     "duration": 0.02655,
     "end_time": "2025-07-12T15:19:45.511129",
     "exception": false,
     "start_time": "2025-07-12T15:19:45.484579",
     "status": "completed"
    },
    "tags": []
   },
   "outputs": [
    {
     "data": {
      "text/plain": [
       "(4400, 11)"
      ]
     },
     "execution_count": 33,
     "metadata": {},
     "output_type": "execute_result"
    }
   ],
   "source": [
    "from tensorflow.keras.utils import to_categorical\n",
    "\n",
    "one_hot_encoded_labels = to_categorical(labels)\n",
    "\n",
    "one_hot_encoded_labels.shape"
   ]
  },
  {
   "cell_type": "code",
   "execution_count": 34,
   "id": "1f90c62a",
   "metadata": {
    "execution": {
     "iopub.execute_input": "2025-07-12T15:19:45.551213Z",
     "iopub.status.busy": "2025-07-12T15:19:45.550624Z",
     "iopub.status.idle": "2025-07-12T15:19:45.796526Z",
     "shell.execute_reply": "2025-07-12T15:19:45.795894Z"
    },
    "papermill": {
     "duration": 0.267344,
     "end_time": "2025-07-12T15:19:45.797666",
     "exception": false,
     "start_time": "2025-07-12T15:19:45.530322",
     "status": "completed"
    },
    "tags": []
   },
   "outputs": [
    {
     "data": {
      "text/plain": [
       "0"
      ]
     },
     "execution_count": 34,
     "metadata": {},
     "output_type": "execute_result"
    }
   ],
   "source": [
    "gc.collect()"
   ]
  },
  {
   "cell_type": "code",
   "execution_count": 35,
   "id": "705ba4ae",
   "metadata": {
    "execution": {
     "iopub.execute_input": "2025-07-12T15:19:45.838243Z",
     "iopub.status.busy": "2025-07-12T15:19:45.837577Z",
     "iopub.status.idle": "2025-07-12T15:19:47.210981Z",
     "shell.execute_reply": "2025-07-12T15:19:47.210276Z"
    },
    "papermill": {
     "duration": 1.39487,
     "end_time": "2025-07-12T15:19:47.212348",
     "exception": false,
     "start_time": "2025-07-12T15:19:45.817478",
     "status": "completed"
    },
    "tags": []
   },
   "outputs": [
    {
     "data": {
      "text/plain": [
       "((3520, 5, 128, 128, 3), (3520, 11), (880, 5, 128, 128, 3), (880, 11))"
      ]
     },
     "execution_count": 35,
     "metadata": {},
     "output_type": "execute_result"
    }
   ],
   "source": [
    "# RUN Split the Data into Train ( 75% ) and Test Set ( 25% ).\n",
    "from sklearn.model_selection import train_test_split\n",
    "features_train, features_test, labels_train, labels_test = train_test_split(videos,\n",
    "                                                                            one_hot_encoded_labels,\n",
    "                                                                            test_size = TEST_SIZE,\n",
    "                                                                            shuffle = True,\n",
    "                                                                            random_state = seed_constant)\n",
    "\n",
    "features_train.shape, labels_train.shape, features_test.shape, labels_test.shape"
   ]
  },
  {
   "cell_type": "markdown",
   "id": "b147c68d",
   "metadata": {
    "papermill": {
     "duration": 0.019027,
     "end_time": "2025-07-12T15:19:47.251020",
     "exception": false,
     "start_time": "2025-07-12T15:19:47.231993",
     "status": "completed"
    },
    "tags": []
   },
   "source": [
    "## Splitting data for ***Training Set*** and ***Validation Set***"
   ]
  },
  {
   "cell_type": "code",
   "execution_count": 36,
   "id": "b0b72191",
   "metadata": {
    "execution": {
     "iopub.execute_input": "2025-07-12T15:19:47.293119Z",
     "iopub.status.busy": "2025-07-12T15:19:47.292465Z",
     "iopub.status.idle": "2025-07-12T15:19:47.298741Z",
     "shell.execute_reply": "2025-07-12T15:19:47.298110Z"
    },
    "papermill": {
     "duration": 0.027799,
     "end_time": "2025-07-12T15:19:47.299845",
     "exception": false,
     "start_time": "2025-07-12T15:19:47.272046",
     "status": "completed"
    },
    "tags": []
   },
   "outputs": [
    {
     "data": {
      "text/plain": [
       "((2816, 5, 128, 128, 3), (2816, 11), (704, 5, 128, 128, 3), (704, 11))"
      ]
     },
     "execution_count": 36,
     "metadata": {},
     "output_type": "execute_result"
    }
   ],
   "source": [
    "# Assuming features_train and labels_train are defined\n",
    "train_set = 1-VALIDATION_SPLIT\n",
    "\n",
    "train_video_frames, val_video_frames = features_train[:int(train_set * len(features_train))], features_train[int(train_set * len(features_train)):]\n",
    "train_labels, val_labels = labels_train[:int(train_set * len(labels_train))], labels_train[int(train_set * len(labels_train)):]\n",
    "\n",
    "train_video_frames.shape, train_labels.shape, val_video_frames.shape, val_labels.shape"
   ]
  },
  {
   "cell_type": "markdown",
   "id": "026ae034",
   "metadata": {
    "papermill": {
     "duration": 0.019008,
     "end_time": "2025-07-12T15:19:47.337774",
     "exception": false,
     "start_time": "2025-07-12T15:19:47.318766",
     "status": "completed"
    },
    "tags": []
   },
   "source": [
    "## Use Generator `Video Data Generator`"
   ]
  },
  {
   "cell_type": "code",
   "execution_count": 37,
   "id": "f807721e",
   "metadata": {
    "execution": {
     "iopub.execute_input": "2025-07-12T15:19:47.379897Z",
     "iopub.status.busy": "2025-07-12T15:19:47.379185Z",
     "iopub.status.idle": "2025-07-12T15:19:47.386564Z",
     "shell.execute_reply": "2025-07-12T15:19:47.385835Z"
    },
    "papermill": {
     "duration": 0.030335,
     "end_time": "2025-07-12T15:19:47.387649",
     "exception": false,
     "start_time": "2025-07-12T15:19:47.357314",
     "status": "completed"
    },
    "tags": []
   },
   "outputs": [
    {
     "name": "stdout",
     "output_type": "stream",
     "text": [
      "Total 2816 videos and 2816 classes\n",
      "Total 704 videos and 704 classes\n"
     ]
    },
    {
     "data": {
      "text/plain": [
       "(118, 30)"
      ]
     },
     "execution_count": 37,
     "metadata": {},
     "output_type": "execute_result"
    }
   ],
   "source": [
    "# Create the training and validation generators\n",
    "train_gen = VideoDataGenerator(\n",
    "    videos=train_video_frames, \n",
    "    labels=train_labels, \n",
    "    batch_size=BATCH_SIZE,\n",
    ")\n",
    "\n",
    "val_gen = VideoDataGenerator(\n",
    "    videos=val_video_frames, \n",
    "    labels=val_labels, \n",
    "    batch_size=BATCH_SIZE,\n",
    ")\n",
    "\n",
    "len(train_gen), len(val_gen)"
   ]
  },
  {
   "cell_type": "markdown",
   "id": "991dc04a",
   "metadata": {
    "papermill": {
     "duration": 0.018898,
     "end_time": "2025-07-12T15:19:47.425807",
     "exception": false,
     "start_time": "2025-07-12T15:19:47.406909",
     "status": "completed"
    },
    "tags": []
   },
   "source": [
    "## Inspect ***Generator*** Data on Epochs"
   ]
  },
  {
   "cell_type": "code",
   "execution_count": 38,
   "id": "b10351fe",
   "metadata": {
    "execution": {
     "iopub.execute_input": "2025-07-12T15:19:47.464872Z",
     "iopub.status.busy": "2025-07-12T15:19:47.464103Z",
     "iopub.status.idle": "2025-07-12T15:19:47.477959Z",
     "shell.execute_reply": "2025-07-12T15:19:47.477197Z"
    },
    "papermill": {
     "duration": 0.034799,
     "end_time": "2025-07-12T15:19:47.479145",
     "exception": false,
     "start_time": "2025-07-12T15:19:47.444346",
     "status": "completed"
    },
    "tags": []
   },
   "outputs": [
    {
     "name": "stdout",
     "output_type": "stream",
     "text": [
      "[   0    1    2 ... 2813 2814 2815]\n",
      "[ 321 1444 1604 ... 2522 1217 2394]\n"
     ]
    },
    {
     "data": {
      "text/plain": [
       "(24, (24, 5, 128, 128, 3), (24, 11))"
      ]
     },
     "execution_count": 38,
     "metadata": {},
     "output_type": "execute_result"
    }
   ],
   "source": [
    "features, labels = train_gen[1]\n",
    "\n",
    "print(train_gen.indices)\n",
    "\n",
    "train_gen.on_epoch_end()\n",
    "\n",
    "print(train_gen.indices)\n",
    "\n",
    "BATCH_SIZE, features.shape, labels.shape"
   ]
  },
  {
   "cell_type": "markdown",
   "id": "c1f70d08",
   "metadata": {
    "papermill": {
     "duration": 0.018731,
     "end_time": "2025-07-12T15:19:47.517774",
     "exception": false,
     "start_time": "2025-07-12T15:19:47.499043",
     "status": "completed"
    },
    "tags": []
   },
   "source": [
    "## Compute Class Weight"
   ]
  },
  {
   "cell_type": "code",
   "execution_count": 39,
   "id": "af2d38e9",
   "metadata": {
    "execution": {
     "iopub.execute_input": "2025-07-12T15:19:47.558009Z",
     "iopub.status.busy": "2025-07-12T15:19:47.557276Z",
     "iopub.status.idle": "2025-07-12T15:19:47.564329Z",
     "shell.execute_reply": "2025-07-12T15:19:47.563627Z"
    },
    "papermill": {
     "duration": 0.028175,
     "end_time": "2025-07-12T15:19:47.565469",
     "exception": false,
     "start_time": "2025-07-12T15:19:47.537294",
     "status": "completed"
    },
    "tags": []
   },
   "outputs": [
    {
     "name": "stdout",
     "output_type": "stream",
     "text": [
      "Class weights: {0: 1.0, 1: 1.0, 2: 1.0, 3: 1.0, 4: 1.0, 5: 1.0, 6: 1.0, 7: 1.0, 8: 1.0, 9: 1.0, 10: 1.0}\n"
     ]
    }
   ],
   "source": [
    "from sklearn.utils.class_weight import compute_class_weight\n",
    "import numpy as np\n",
    "\n",
    "# Assuming y_int are integer labels (not one-hot)\n",
    "y_int = np.argmax(one_hot_encoded_labels, axis=1)  # or just integer labels if you have them\n",
    "\n",
    "classes = np.arange(NO_OF_CLASSES)  # e.g. np.arange(16)\n",
    "class_weights_values = compute_class_weight(class_weight='balanced', classes=classes, y=y_int)\n",
    "\n",
    "class_weights = dict(zip(classes, class_weights_values))\n",
    "\n",
    "print(\"Class weights:\", class_weights)\n"
   ]
  },
  {
   "cell_type": "code",
   "execution_count": 40,
   "id": "fc086b4b",
   "metadata": {
    "execution": {
     "iopub.execute_input": "2025-07-12T15:19:47.604398Z",
     "iopub.status.busy": "2025-07-12T15:19:47.604160Z",
     "iopub.status.idle": "2025-07-12T15:19:47.855882Z",
     "shell.execute_reply": "2025-07-12T15:19:47.855057Z"
    },
    "papermill": {
     "duration": 0.272451,
     "end_time": "2025-07-12T15:19:47.857105",
     "exception": false,
     "start_time": "2025-07-12T15:19:47.584654",
     "status": "completed"
    },
    "tags": []
   },
   "outputs": [],
   "source": [
    "gc.collect()\n",
    "del videos, one_hot_encoded_labels, labels_train\n",
    "del features_train, val_labels, train_labels\n",
    "del val_video_frames, train_video_frames"
   ]
  },
  {
   "cell_type": "markdown",
   "id": "f52d462b",
   "metadata": {
    "papermill": {
     "duration": 0.019818,
     "end_time": "2025-07-12T15:19:47.897506",
     "exception": false,
     "start_time": "2025-07-12T15:19:47.877688",
     "status": "completed"
    },
    "tags": []
   },
   "source": [
    "# ✨ Model Execution\n",
    "## Creating Model"
   ]
  },
  {
   "cell_type": "markdown",
   "id": "28078d1a",
   "metadata": {
    "papermill": {
     "duration": 0.018758,
     "end_time": "2025-07-12T15:19:47.934979",
     "exception": false,
     "start_time": "2025-07-12T15:19:47.916221",
     "status": "completed"
    },
    "tags": []
   },
   "source": [
    "## Plot Model Structure"
   ]
  },
  {
   "cell_type": "markdown",
   "id": "c1d8e098",
   "metadata": {
    "papermill": {
     "duration": 0.018669,
     "end_time": "2025-07-12T15:19:47.972609",
     "exception": false,
     "start_time": "2025-07-12T15:19:47.953940",
     "status": "completed"
    },
    "tags": []
   },
   "source": [
    "## 📈 Model Training"
   ]
  },
  {
   "cell_type": "code",
   "execution_count": 41,
   "id": "6054533a",
   "metadata": {
    "execution": {
     "iopub.execute_input": "2025-07-12T15:19:48.011156Z",
     "iopub.status.busy": "2025-07-12T15:19:48.010564Z",
     "iopub.status.idle": "2025-07-12T15:26:36.878596Z",
     "shell.execute_reply": "2025-07-12T15:26:36.877900Z"
    },
    "papermill": {
     "duration": 408.888589,
     "end_time": "2025-07-12T15:26:36.879977",
     "exception": false,
     "start_time": "2025-07-12T15:19:47.991388",
     "status": "completed"
    },
    "tags": []
   },
   "outputs": [
    {
     "name": "stdout",
     "output_type": "stream",
     "text": [
      "Memory cleared before creating VGG19+LSTM model\n",
      "TensorFlow version: 2.18.0\n",
      "Pre-loading VGG19 weights...\n",
      "Downloading data from https://storage.googleapis.com/tensorflow/keras-applications/mobilenet_v2/mobilenet_v2_weights_tf_dim_ordering_tf_kernels_1.0_128_no_top.h5\n",
      "\u001b[1m9406464/9406464\u001b[0m \u001b[32m━━━━━━━━━━━━━━━━━━━━\u001b[0m\u001b[37m\u001b[0m \u001b[1m0s\u001b[0m 0us/step\n",
      "VGG19 weights loaded successfully!\n",
      "Creating VGG19+LSTM model with parameters:\n",
      "sequence_length: 5, image_height: 128, image_width: 128, classes_list length: 11, dropout_rate: 0.5\n",
      "VGG19+LSTM model architecture created successfully!\n"
     ]
    },
    {
     "name": "stderr",
     "output_type": "stream",
     "text": [
      "/usr/local/lib/python3.11/dist-packages/keras/src/layers/core/wrapper.py:27: UserWarning: Do not pass an `input_shape`/`input_dim` argument to a layer. When using Sequential models, prefer using an `Input(shape)` object as the first layer in the model instead.\n",
      "  super().__init__(**kwargs)\n"
     ]
    },
    {
     "data": {
      "text/html": [
       "<pre style=\"white-space:pre;overflow-x:auto;line-height:normal;font-family:Menlo,'DejaVu Sans Mono',consolas,'Courier New',monospace\"><span style=\"font-weight: bold\">Model: \"sequential\"</span>\n",
       "</pre>\n"
      ],
      "text/plain": [
       "\u001b[1mModel: \"sequential\"\u001b[0m\n"
      ]
     },
     "metadata": {},
     "output_type": "display_data"
    },
    {
     "data": {
      "text/html": [
       "<pre style=\"white-space:pre;overflow-x:auto;line-height:normal;font-family:Menlo,'DejaVu Sans Mono',consolas,'Courier New',monospace\">┏━━━━━━━━━━━━━━━━━━━━━━━━━━━━━━━━━┳━━━━━━━━━━━━━━━━━━━━━━━━┳━━━━━━━━━━━━━━━┓\n",
       "┃<span style=\"font-weight: bold\"> Layer (type)                    </span>┃<span style=\"font-weight: bold\"> Output Shape           </span>┃<span style=\"font-weight: bold\">       Param # </span>┃\n",
       "┡━━━━━━━━━━━━━━━━━━━━━━━━━━━━━━━━━╇━━━━━━━━━━━━━━━━━━━━━━━━╇━━━━━━━━━━━━━━━┩\n",
       "│ time_distributed_vgg19          │ (<span style=\"color: #00d7ff; text-decoration-color: #00d7ff\">None</span>, <span style=\"color: #00af00; text-decoration-color: #00af00\">5</span>, <span style=\"color: #00af00; text-decoration-color: #00af00\">4</span>, <span style=\"color: #00af00; text-decoration-color: #00af00\">4</span>, <span style=\"color: #00af00; text-decoration-color: #00af00\">1280</span>)  │     <span style=\"color: #00af00; text-decoration-color: #00af00\">2,257,984</span> │\n",
       "│ (<span style=\"color: #0087ff; text-decoration-color: #0087ff\">TimeDistributed</span>)               │                        │               │\n",
       "├─────────────────────────────────┼────────────────────────┼───────────────┤\n",
       "│ time_distributed_pooling        │ (<span style=\"color: #00d7ff; text-decoration-color: #00d7ff\">None</span>, <span style=\"color: #00af00; text-decoration-color: #00af00\">5</span>, <span style=\"color: #00af00; text-decoration-color: #00af00\">1280</span>)        │             <span style=\"color: #00af00; text-decoration-color: #00af00\">0</span> │\n",
       "│ (<span style=\"color: #0087ff; text-decoration-color: #0087ff\">TimeDistributed</span>)               │                        │               │\n",
       "├─────────────────────────────────┼────────────────────────┼───────────────┤\n",
       "│ gru_256 (<span style=\"color: #0087ff; text-decoration-color: #0087ff\">GRU</span>)                   │ (<span style=\"color: #00d7ff; text-decoration-color: #00d7ff\">None</span>, <span style=\"color: #00af00; text-decoration-color: #00af00\">256</span>)            │     <span style=\"color: #00af00; text-decoration-color: #00af00\">1,181,184</span> │\n",
       "├─────────────────────────────────┼────────────────────────┼───────────────┤\n",
       "│ batch_normalization_vgg19       │ (<span style=\"color: #00d7ff; text-decoration-color: #00d7ff\">None</span>, <span style=\"color: #00af00; text-decoration-color: #00af00\">256</span>)            │         <span style=\"color: #00af00; text-decoration-color: #00af00\">1,024</span> │\n",
       "│ (<span style=\"color: #0087ff; text-decoration-color: #0087ff\">BatchNormalization</span>)            │                        │               │\n",
       "├─────────────────────────────────┼────────────────────────┼───────────────┤\n",
       "│ dropout_lstm_vgg19 (<span style=\"color: #0087ff; text-decoration-color: #0087ff\">Dropout</span>)    │ (<span style=\"color: #00d7ff; text-decoration-color: #00d7ff\">None</span>, <span style=\"color: #00af00; text-decoration-color: #00af00\">256</span>)            │             <span style=\"color: #00af00; text-decoration-color: #00af00\">0</span> │\n",
       "├─────────────────────────────────┼────────────────────────┼───────────────┤\n",
       "│ dense_vgg19_1 (<span style=\"color: #0087ff; text-decoration-color: #0087ff\">Dense</span>)           │ (<span style=\"color: #00d7ff; text-decoration-color: #00d7ff\">None</span>, <span style=\"color: #00af00; text-decoration-color: #00af00\">512</span>)            │       <span style=\"color: #00af00; text-decoration-color: #00af00\">131,584</span> │\n",
       "├─────────────────────────────────┼────────────────────────┼───────────────┤\n",
       "│ dropout_dense_vgg19_1 (<span style=\"color: #0087ff; text-decoration-color: #0087ff\">Dropout</span>) │ (<span style=\"color: #00d7ff; text-decoration-color: #00d7ff\">None</span>, <span style=\"color: #00af00; text-decoration-color: #00af00\">512</span>)            │             <span style=\"color: #00af00; text-decoration-color: #00af00\">0</span> │\n",
       "├─────────────────────────────────┼────────────────────────┼───────────────┤\n",
       "│ dense_vgg19_2 (<span style=\"color: #0087ff; text-decoration-color: #0087ff\">Dense</span>)           │ (<span style=\"color: #00d7ff; text-decoration-color: #00d7ff\">None</span>, <span style=\"color: #00af00; text-decoration-color: #00af00\">128</span>)            │        <span style=\"color: #00af00; text-decoration-color: #00af00\">65,664</span> │\n",
       "├─────────────────────────────────┼────────────────────────┼───────────────┤\n",
       "│ dropout_dense_vgg19_2 (<span style=\"color: #0087ff; text-decoration-color: #0087ff\">Dropout</span>) │ (<span style=\"color: #00d7ff; text-decoration-color: #00d7ff\">None</span>, <span style=\"color: #00af00; text-decoration-color: #00af00\">128</span>)            │             <span style=\"color: #00af00; text-decoration-color: #00af00\">0</span> │\n",
       "├─────────────────────────────────┼────────────────────────┼───────────────┤\n",
       "│ output_vgg19 (<span style=\"color: #0087ff; text-decoration-color: #0087ff\">Dense</span>)            │ (<span style=\"color: #00d7ff; text-decoration-color: #00d7ff\">None</span>, <span style=\"color: #00af00; text-decoration-color: #00af00\">11</span>)             │         <span style=\"color: #00af00; text-decoration-color: #00af00\">1,419</span> │\n",
       "└─────────────────────────────────┴────────────────────────┴───────────────┘\n",
       "</pre>\n"
      ],
      "text/plain": [
       "┏━━━━━━━━━━━━━━━━━━━━━━━━━━━━━━━━━┳━━━━━━━━━━━━━━━━━━━━━━━━┳━━━━━━━━━━━━━━━┓\n",
       "┃\u001b[1m \u001b[0m\u001b[1mLayer (type)                   \u001b[0m\u001b[1m \u001b[0m┃\u001b[1m \u001b[0m\u001b[1mOutput Shape          \u001b[0m\u001b[1m \u001b[0m┃\u001b[1m \u001b[0m\u001b[1m      Param #\u001b[0m\u001b[1m \u001b[0m┃\n",
       "┡━━━━━━━━━━━━━━━━━━━━━━━━━━━━━━━━━╇━━━━━━━━━━━━━━━━━━━━━━━━╇━━━━━━━━━━━━━━━┩\n",
       "│ time_distributed_vgg19          │ (\u001b[38;5;45mNone\u001b[0m, \u001b[38;5;34m5\u001b[0m, \u001b[38;5;34m4\u001b[0m, \u001b[38;5;34m4\u001b[0m, \u001b[38;5;34m1280\u001b[0m)  │     \u001b[38;5;34m2,257,984\u001b[0m │\n",
       "│ (\u001b[38;5;33mTimeDistributed\u001b[0m)               │                        │               │\n",
       "├─────────────────────────────────┼────────────────────────┼───────────────┤\n",
       "│ time_distributed_pooling        │ (\u001b[38;5;45mNone\u001b[0m, \u001b[38;5;34m5\u001b[0m, \u001b[38;5;34m1280\u001b[0m)        │             \u001b[38;5;34m0\u001b[0m │\n",
       "│ (\u001b[38;5;33mTimeDistributed\u001b[0m)               │                        │               │\n",
       "├─────────────────────────────────┼────────────────────────┼───────────────┤\n",
       "│ gru_256 (\u001b[38;5;33mGRU\u001b[0m)                   │ (\u001b[38;5;45mNone\u001b[0m, \u001b[38;5;34m256\u001b[0m)            │     \u001b[38;5;34m1,181,184\u001b[0m │\n",
       "├─────────────────────────────────┼────────────────────────┼───────────────┤\n",
       "│ batch_normalization_vgg19       │ (\u001b[38;5;45mNone\u001b[0m, \u001b[38;5;34m256\u001b[0m)            │         \u001b[38;5;34m1,024\u001b[0m │\n",
       "│ (\u001b[38;5;33mBatchNormalization\u001b[0m)            │                        │               │\n",
       "├─────────────────────────────────┼────────────────────────┼───────────────┤\n",
       "│ dropout_lstm_vgg19 (\u001b[38;5;33mDropout\u001b[0m)    │ (\u001b[38;5;45mNone\u001b[0m, \u001b[38;5;34m256\u001b[0m)            │             \u001b[38;5;34m0\u001b[0m │\n",
       "├─────────────────────────────────┼────────────────────────┼───────────────┤\n",
       "│ dense_vgg19_1 (\u001b[38;5;33mDense\u001b[0m)           │ (\u001b[38;5;45mNone\u001b[0m, \u001b[38;5;34m512\u001b[0m)            │       \u001b[38;5;34m131,584\u001b[0m │\n",
       "├─────────────────────────────────┼────────────────────────┼───────────────┤\n",
       "│ dropout_dense_vgg19_1 (\u001b[38;5;33mDropout\u001b[0m) │ (\u001b[38;5;45mNone\u001b[0m, \u001b[38;5;34m512\u001b[0m)            │             \u001b[38;5;34m0\u001b[0m │\n",
       "├─────────────────────────────────┼────────────────────────┼───────────────┤\n",
       "│ dense_vgg19_2 (\u001b[38;5;33mDense\u001b[0m)           │ (\u001b[38;5;45mNone\u001b[0m, \u001b[38;5;34m128\u001b[0m)            │        \u001b[38;5;34m65,664\u001b[0m │\n",
       "├─────────────────────────────────┼────────────────────────┼───────────────┤\n",
       "│ dropout_dense_vgg19_2 (\u001b[38;5;33mDropout\u001b[0m) │ (\u001b[38;5;45mNone\u001b[0m, \u001b[38;5;34m128\u001b[0m)            │             \u001b[38;5;34m0\u001b[0m │\n",
       "├─────────────────────────────────┼────────────────────────┼───────────────┤\n",
       "│ output_vgg19 (\u001b[38;5;33mDense\u001b[0m)            │ (\u001b[38;5;45mNone\u001b[0m, \u001b[38;5;34m11\u001b[0m)             │         \u001b[38;5;34m1,419\u001b[0m │\n",
       "└─────────────────────────────────┴────────────────────────┴───────────────┘\n"
      ]
     },
     "metadata": {},
     "output_type": "display_data"
    },
    {
     "data": {
      "text/html": [
       "<pre style=\"white-space:pre;overflow-x:auto;line-height:normal;font-family:Menlo,'DejaVu Sans Mono',consolas,'Courier New',monospace\"><span style=\"font-weight: bold\"> Total params: </span><span style=\"color: #00af00; text-decoration-color: #00af00\">3,638,859</span> (13.88 MB)\n",
       "</pre>\n"
      ],
      "text/plain": [
       "\u001b[1m Total params: \u001b[0m\u001b[38;5;34m3,638,859\u001b[0m (13.88 MB)\n"
      ]
     },
     "metadata": {},
     "output_type": "display_data"
    },
    {
     "data": {
      "text/html": [
       "<pre style=\"white-space:pre;overflow-x:auto;line-height:normal;font-family:Menlo,'DejaVu Sans Mono',consolas,'Courier New',monospace\"><span style=\"font-weight: bold\"> Trainable params: </span><span style=\"color: #00af00; text-decoration-color: #00af00\">1,380,363</span> (5.27 MB)\n",
       "</pre>\n"
      ],
      "text/plain": [
       "\u001b[1m Trainable params: \u001b[0m\u001b[38;5;34m1,380,363\u001b[0m (5.27 MB)\n"
      ]
     },
     "metadata": {},
     "output_type": "display_data"
    },
    {
     "data": {
      "text/html": [
       "<pre style=\"white-space:pre;overflow-x:auto;line-height:normal;font-family:Menlo,'DejaVu Sans Mono',consolas,'Courier New',monospace\"><span style=\"font-weight: bold\"> Non-trainable params: </span><span style=\"color: #00af00; text-decoration-color: #00af00\">2,258,496</span> (8.62 MB)\n",
       "</pre>\n"
      ],
      "text/plain": [
       "\u001b[1m Non-trainable params: \u001b[0m\u001b[38;5;34m2,258,496\u001b[0m (8.62 MB)\n"
      ]
     },
     "metadata": {},
     "output_type": "display_data"
    },
    {
     "name": "stdout",
     "output_type": "stream",
     "text": [
      "VGG19+LSTM Model Created Successfully!\n",
      "Xception_VGG19_LSTM Model Plot saved successfully...\n",
      "train_gen.videos shape: (2816, 5, 128, 128, 3)\n",
      "train_gen.labels shape: (2816, 11)\n",
      "val_gen.videos shape: (704, 5, 128, 128, 3)\n",
      "val_gen.labels shape: (704, 11)\n",
      "features_test shape: (880, 5, 128, 128, 3)\n",
      "labels_test shape: (880, 11)\n",
      "train_gen batch videos shape: (24, 5, 128, 128, 3)\n",
      "train_gen batch labels shape: (24, 11)\n",
      "val_gen batch videos shape: (24, 5, 128, 128, 3)\n",
      "val_gen batch labels shape: (24, 11)\n",
      "Dataset - Ucf50\n",
      "There are total 11 classes, selected 11 classes\n",
      "Setting 50 videos/class to train the model.\n",
      "Image size 128x128 with 5 sequence length\n",
      "Dropout rate: 0.5\n",
      "Train-Test split ratio 80/20\n",
      "Validation data from Train set 20.0%\n",
      "\n",
      "\n",
      "Initial training started for VGG19+LSTM model with 2816 videos of 11 classes with 704 videos for validation...\n",
      "Epoch 1/30\n"
     ]
    },
    {
     "name": "stderr",
     "output_type": "stream",
     "text": [
      "I0000 00:00:1752333623.596156    4475 cuda_dnn.cc:529] Loaded cuDNN version 90300\n"
     ]
    },
    {
     "name": "stdout",
     "output_type": "stream",
     "text": [
      "    118/Unknown \u001b[1m43s\u001b[0m 81ms/step - accuracy: 0.2650 - loss: 14.7117"
     ]
    },
    {
     "name": "stderr",
     "output_type": "stream",
     "text": [
      "/usr/local/lib/python3.11/dist-packages/keras/src/trainers/epoch_iterator.py:151: UserWarning: Your input ran out of data; interrupting training. Make sure that your dataset or generator can generate at least `steps_per_epoch * epochs` batches. You may need to use the `.repeat()` function when building your dataset.\n",
      "  self._interrupted_warning()\n"
     ]
    },
    {
     "name": "stdout",
     "output_type": "stream",
     "text": [
      "\u001b[1m118/118\u001b[0m \u001b[32m━━━━━━━━━━━━━━━━━━━━\u001b[0m\u001b[37m\u001b[0m \u001b[1m54s\u001b[0m 170ms/step - accuracy: 0.2661 - loss: 14.6908 - val_accuracy: 0.7614 - val_loss: 8.7152 - learning_rate: 0.0010\n",
      "Epoch 2/30\n",
      "\u001b[1m118/118\u001b[0m \u001b[32m━━━━━━━━━━━━━━━━━━━━\u001b[0m\u001b[37m\u001b[0m \u001b[1m12s\u001b[0m 98ms/step - accuracy: 0.6718 - loss: 7.8924 - val_accuracy: 0.8736 - val_loss: 5.5815 - learning_rate: 0.0010\n",
      "Epoch 3/30\n",
      "\u001b[1m118/118\u001b[0m \u001b[32m━━━━━━━━━━━━━━━━━━━━\u001b[0m\u001b[37m\u001b[0m \u001b[1m12s\u001b[0m 99ms/step - accuracy: 0.8179 - loss: 5.1919 - val_accuracy: 0.8310 - val_loss: 4.0131 - learning_rate: 0.0010\n",
      "Epoch 4/30\n",
      "\u001b[1m118/118\u001b[0m \u001b[32m━━━━━━━━━━━━━━━━━━━━\u001b[0m\u001b[37m\u001b[0m \u001b[1m12s\u001b[0m 99ms/step - accuracy: 0.8801 - loss: 3.6297 - val_accuracy: 0.8707 - val_loss: 2.8726 - learning_rate: 0.0010\n",
      "Epoch 5/30\n",
      "\u001b[1m118/118\u001b[0m \u001b[32m━━━━━━━━━━━━━━━━━━━━\u001b[0m\u001b[37m\u001b[0m \u001b[1m12s\u001b[0m 100ms/step - accuracy: 0.9218 - loss: 2.5351 - val_accuracy: 0.9205 - val_loss: 2.0125 - learning_rate: 0.0010\n",
      "Epoch 6/30\n",
      "\u001b[1m118/118\u001b[0m \u001b[32m━━━━━━━━━━━━━━━━━━━━\u001b[0m\u001b[37m\u001b[0m \u001b[1m12s\u001b[0m 104ms/step - accuracy: 0.9329 - loss: 1.8649 - val_accuracy: 0.8892 - val_loss: 1.6412 - learning_rate: 0.0010\n",
      "Epoch 7/30\n",
      "\u001b[1m118/118\u001b[0m \u001b[32m━━━━━━━━━━━━━━━━━━━━\u001b[0m\u001b[37m\u001b[0m \u001b[1m12s\u001b[0m 103ms/step - accuracy: 0.9301 - loss: 1.4774 - val_accuracy: 0.8935 - val_loss: 1.4189 - learning_rate: 0.0010\n",
      "Epoch 8/30\n",
      "\u001b[1m118/118\u001b[0m \u001b[32m━━━━━━━━━━━━━━━━━━━━\u001b[0m\u001b[37m\u001b[0m \u001b[1m12s\u001b[0m 104ms/step - accuracy: 0.9372 - loss: 1.2863 - val_accuracy: 0.8821 - val_loss: 1.3191 - learning_rate: 0.0010\n",
      "Epoch 9/30\n",
      "\u001b[1m118/118\u001b[0m \u001b[32m━━━━━━━━━━━━━━━━━━━━\u001b[0m\u001b[37m\u001b[0m \u001b[1m12s\u001b[0m 104ms/step - accuracy: 0.9290 - loss: 1.1574 - val_accuracy: 0.8068 - val_loss: 1.5912 - learning_rate: 0.0010\n",
      "Epoch 10/30\n",
      "\u001b[1m118/118\u001b[0m \u001b[32m━━━━━━━━━━━━━━━━━━━━\u001b[0m\u001b[37m\u001b[0m \u001b[1m12s\u001b[0m 103ms/step - accuracy: 0.9293 - loss: 1.1188 - val_accuracy: 0.8679 - val_loss: 1.2966 - learning_rate: 0.0010\n",
      "Epoch 11/30\n",
      "\u001b[1m118/118\u001b[0m \u001b[32m━━━━━━━━━━━━━━━━━━━━\u001b[0m\u001b[37m\u001b[0m \u001b[1m12s\u001b[0m 103ms/step - accuracy: 0.9296 - loss: 1.1145 - val_accuracy: 0.8878 - val_loss: 1.1823 - learning_rate: 0.0010\n",
      "Epoch 12/30\n",
      "\u001b[1m118/118\u001b[0m \u001b[32m━━━━━━━━━━━━━━━━━━━━\u001b[0m\u001b[37m\u001b[0m \u001b[1m12s\u001b[0m 103ms/step - accuracy: 0.9302 - loss: 1.0661 - val_accuracy: 0.9020 - val_loss: 1.1072 - learning_rate: 0.0010\n",
      "Epoch 13/30\n",
      "\u001b[1m118/118\u001b[0m \u001b[32m━━━━━━━━━━━━━━━━━━━━\u001b[0m\u001b[37m\u001b[0m \u001b[1m12s\u001b[0m 102ms/step - accuracy: 0.9484 - loss: 0.9837 - val_accuracy: 0.8949 - val_loss: 1.1978 - learning_rate: 0.0010\n",
      "Epoch 14/30\n",
      "\u001b[1m118/118\u001b[0m \u001b[32m━━━━━━━━━━━━━━━━━━━━\u001b[0m\u001b[37m\u001b[0m \u001b[1m12s\u001b[0m 102ms/step - accuracy: 0.9485 - loss: 0.9994 - val_accuracy: 0.7969 - val_loss: 1.4821 - learning_rate: 0.0010\n",
      "Epoch 15/30\n",
      "\u001b[1m118/118\u001b[0m \u001b[32m━━━━━━━━━━━━━━━━━━━━\u001b[0m\u001b[37m\u001b[0m \u001b[1m12s\u001b[0m 102ms/step - accuracy: 0.9177 - loss: 1.0483 - val_accuracy: 0.8026 - val_loss: 1.5506 - learning_rate: 0.0010\n",
      "Epoch 16/30\n",
      "\u001b[1m118/118\u001b[0m \u001b[32m━━━━━━━━━━━━━━━━━━━━\u001b[0m\u001b[37m\u001b[0m \u001b[1m12s\u001b[0m 103ms/step - accuracy: 0.9422 - loss: 1.0440 - val_accuracy: 0.9545 - val_loss: 0.8262 - learning_rate: 5.0000e-04\n",
      "Epoch 17/30\n",
      "\u001b[1m118/118\u001b[0m \u001b[32m━━━━━━━━━━━━━━━━━━━━\u001b[0m\u001b[37m\u001b[0m \u001b[1m12s\u001b[0m 102ms/step - accuracy: 0.9848 - loss: 0.7137 - val_accuracy: 0.9602 - val_loss: 0.6764 - learning_rate: 5.0000e-04\n",
      "Epoch 18/30\n",
      "\u001b[1m118/118\u001b[0m \u001b[32m━━━━━━━━━━━━━━━━━━━━\u001b[0m\u001b[37m\u001b[0m \u001b[1m12s\u001b[0m 102ms/step - accuracy: 0.9835 - loss: 0.5844 - val_accuracy: 0.9688 - val_loss: 0.5529 - learning_rate: 5.0000e-04\n",
      "Epoch 19/30\n",
      "\u001b[1m118/118\u001b[0m \u001b[32m━━━━━━━━━━━━━━━━━━━━\u001b[0m\u001b[37m\u001b[0m \u001b[1m12s\u001b[0m 102ms/step - accuracy: 0.9897 - loss: 0.4782 - val_accuracy: 0.9560 - val_loss: 0.5303 - learning_rate: 5.0000e-04\n",
      "Epoch 20/30\n",
      "\u001b[1m118/118\u001b[0m \u001b[32m━━━━━━━━━━━━━━━━━━━━\u001b[0m\u001b[37m\u001b[0m \u001b[1m12s\u001b[0m 102ms/step - accuracy: 0.9792 - loss: 0.4603 - val_accuracy: 0.9503 - val_loss: 0.5133 - learning_rate: 5.0000e-04\n",
      "Epoch 21/30\n",
      "\u001b[1m118/118\u001b[0m \u001b[32m━━━━━━━━━━━━━━━━━━━━\u001b[0m\u001b[37m\u001b[0m \u001b[1m12s\u001b[0m 101ms/step - accuracy: 0.9844 - loss: 0.4288 - val_accuracy: 0.8935 - val_loss: 0.6960 - learning_rate: 5.0000e-04\n",
      "Epoch 22/30\n",
      "\u001b[1m118/118\u001b[0m \u001b[32m━━━━━━━━━━━━━━━━━━━━\u001b[0m\u001b[37m\u001b[0m \u001b[1m12s\u001b[0m 102ms/step - accuracy: 0.9661 - loss: 0.4950 - val_accuracy: 0.9347 - val_loss: 0.5617 - learning_rate: 5.0000e-04\n",
      "Epoch 23/30\n",
      "\u001b[1m118/118\u001b[0m \u001b[32m━━━━━━━━━━━━━━━━━━━━\u001b[0m\u001b[37m\u001b[0m \u001b[1m12s\u001b[0m 102ms/step - accuracy: 0.9700 - loss: 0.4900 - val_accuracy: 0.9645 - val_loss: 0.5152 - learning_rate: 5.0000e-04\n",
      "Epoch 24/30\n",
      "\u001b[1m118/118\u001b[0m \u001b[32m━━━━━━━━━━━━━━━━━━━━\u001b[0m\u001b[37m\u001b[0m \u001b[1m12s\u001b[0m 104ms/step - accuracy: 0.9856 - loss: 0.4319 - val_accuracy: 0.9744 - val_loss: 0.4126 - learning_rate: 2.5000e-04\n",
      "Epoch 25/30\n",
      "\u001b[1m118/118\u001b[0m \u001b[32m━━━━━━━━━━━━━━━━━━━━\u001b[0m\u001b[37m\u001b[0m \u001b[1m12s\u001b[0m 103ms/step - accuracy: 0.9994 - loss: 0.3388 - val_accuracy: 0.9844 - val_loss: 0.3372 - learning_rate: 2.5000e-04\n",
      "Epoch 26/30\n",
      "\u001b[1m118/118\u001b[0m \u001b[32m━━━━━━━━━━━━━━━━━━━━\u001b[0m\u001b[37m\u001b[0m \u001b[1m12s\u001b[0m 102ms/step - accuracy: 0.9998 - loss: 0.2928 - val_accuracy: 0.9773 - val_loss: 0.3120 - learning_rate: 2.5000e-04\n",
      "Epoch 27/30\n",
      "\u001b[1m118/118\u001b[0m \u001b[32m━━━━━━━━━━━━━━━━━━━━\u001b[0m\u001b[37m\u001b[0m \u001b[1m12s\u001b[0m 104ms/step - accuracy: 0.9993 - loss: 0.2573 - val_accuracy: 0.9830 - val_loss: 0.2826 - learning_rate: 2.5000e-04\n",
      "Epoch 28/30\n",
      "\u001b[1m118/118\u001b[0m \u001b[32m━━━━━━━━━━━━━━━━━━━━\u001b[0m\u001b[37m\u001b[0m \u001b[1m12s\u001b[0m 102ms/step - accuracy: 0.9991 - loss: 0.2324 - val_accuracy: 0.9489 - val_loss: 0.3676 - learning_rate: 2.5000e-04\n",
      "Epoch 29/30\n",
      "\u001b[1m118/118\u001b[0m \u001b[32m━━━━━━━━━━━━━━━━━━━━\u001b[0m\u001b[37m\u001b[0m \u001b[1m12s\u001b[0m 103ms/step - accuracy: 0.9890 - loss: 0.2524 - val_accuracy: 0.9403 - val_loss: 0.3980 - learning_rate: 2.5000e-04\n",
      "Epoch 30/30\n",
      "\u001b[1m118/118\u001b[0m \u001b[32m━━━━━━━━━━━━━━━━━━━━\u001b[0m\u001b[37m\u001b[0m \u001b[1m12s\u001b[0m 102ms/step - accuracy: 0.9898 - loss: 0.2671 - val_accuracy: 0.9432 - val_loss: 0.3825 - learning_rate: 2.5000e-04\n"
     ]
    }
   ],
   "source": [
    "# Import necessary libraries\n",
    "from tensorflow.keras.applications import MobileNetV2\n",
    "from tensorflow.keras.models import Sequential\n",
    "from tensorflow.keras.layers import TimeDistributed, GlobalAveragePooling2D, LSTM, Dropout, Dense, BatchNormalization, GRU\n",
    "from tensorflow.keras.regularizers import l2\n",
    "from tensorflow.keras.callbacks import EarlyStopping, ReduceLROnPlateau\n",
    "from tensorflow.keras.utils import to_categorical\n",
    "import tensorflow as tf\n",
    "import numpy as np\n",
    "import gc\n",
    "\n",
    "# Clear memory before creating the new model\n",
    "gc.collect()\n",
    "tf.keras.backend.clear_session()\n",
    "print(\"Memory cleared before creating VGG19+LSTM model\")\n",
    "\n",
    "# Print TensorFlow version\n",
    "print(f\"TensorFlow version: {tf.__version__}\")\n",
    "\n",
    "# Pre-load VGG19 weights\n",
    "print(\"Pre-loading VGG19 weights...\")\n",
    "try:\n",
    "    base_model = MobileNetV2(weights='imagenet', include_top=False, input_shape=(IMAGE_HEIGHT, IMAGE_WIDTH, 3))\n",
    "    print(\"VGG19 weights loaded successfully!\")\n",
    "except Exception as e:\n",
    "    print(f\"Failed to load VGG19 weights: {str(e)}\")\n",
    "\n",
    "# Define function to create VGG19+LSTM model\n",
    "def create_model(sequence_length, image_height, image_width, classes_list=None, dropout_rate=0.5, base_model=None):\n",
    "    print(\"Creating VGG19+LSTM model with parameters:\")\n",
    "    print(f\"sequence_length: {sequence_length}, image_height: {image_height}, image_width: {image_width}, classes_list length: {len(classes_list) if classes_list is not None else None}, dropout_rate: {dropout_rate}\")\n",
    "    \n",
    "    if classes_list is None:\n",
    "        raise ValueError(\"classes_list must be provided to define the output layer size\")\n",
    "    if base_model is None:\n",
    "        raise ValueError(\"base_model must be provided to avoid re-downloading weights\")\n",
    "\n",
    "    try:\n",
    "        # Use the pre-loaded base model\n",
    "        # Freeze the base model for initial training\n",
    "        base_model.trainable = False\n",
    "\n",
    "        # Define the Sequential model\n",
    "        model = Sequential([\n",
    "            # TimeDistributed VGG19 model\n",
    "            TimeDistributed(\n",
    "                base_model,\n",
    "                input_shape=(sequence_length, image_height, image_width, 3),\n",
    "                name=\"time_distributed_vgg19\"\n",
    "            ),\n",
    "            # TimeDistributed GlobalAveragePooling2D\n",
    "            TimeDistributed(GlobalAveragePooling2D(), name=\"time_distributed_pooling\"),\n",
    "            # LSTM layer with 512 units\n",
    "            GRU(256, activation=\"tanh\", return_sequences=False, kernel_regularizer=l2(0.01), name=\"gru_256\"),\n",
    "            BatchNormalization(name=\"batch_normalization_vgg19\"),\n",
    "            # Dropout after LSTM\n",
    "            Dropout(dropout_rate, name=\"dropout_lstm_vgg19\"),\n",
    "            # Dense layer with 512 units\n",
    "            Dense(512, activation=\"relu\", kernel_regularizer=l2(0.01), name=\"dense_vgg19_1\"),\n",
    "            # Dropout after first Dense\n",
    "            Dropout(dropout_rate, name=\"dropout_dense_vgg19_1\"),\n",
    "            # Dense layer with 128 units\n",
    "            Dense(128, activation=\"relu\", kernel_regularizer=l2(0.01), name=\"dense_vgg19_2\"),\n",
    "            # Dropout after second Dense\n",
    "            Dropout(dropout_rate, name=\"dropout_dense_vgg19_2\"),\n",
    "            # Output Dense layer with softmax activation\n",
    "            Dense(len(classes_list), activation=\"softmax\", name=\"output_vgg19\")\n",
    "        ])\n",
    "\n",
    "        # Print model summary\n",
    "        print(\"VGG19+LSTM model architecture created successfully!\")\n",
    "        model.summary()\n",
    "\n",
    "        return model\n",
    "\n",
    "    except Exception as e:\n",
    "        print(f\"Error creating VGG19+LSTM model: {str(e)}\")\n",
    "        import traceback\n",
    "        traceback.print_exc()\n",
    "        return None\n",
    "\n",
    "# Create the VGG19+LSTM model using the pre-loaded base model\n",
    "model = create_model(\n",
    "    sequence_length=SEQUENCE_LENGTH,\n",
    "    image_height=IMAGE_HEIGHT,\n",
    "    image_width=IMAGE_WIDTH,\n",
    "    classes_list=CLASSES_LIST,\n",
    "    dropout_rate=DROPOUT_RATE,\n",
    "    base_model=base_model\n",
    ")\n",
    "\n",
    "# Check if model was created successfully\n",
    "if model is None:\n",
    "    raise ValueError(\"Failed to create VGG19+LSTM model. Check error messages above.\")\n",
    "else:\n",
    "    print(\"VGG19+LSTM Model Created Successfully!\")\n",
    "\n",
    "# Plot the model structure\n",
    "from tensorflow.keras.utils import plot_model\n",
    "try:\n",
    "    plot_model(model, to_file=f'{MODEL_NAME}_model_Plot.png', show_shapes=True, show_layer_names=True)\n",
    "    print(f\"{MODEL_NAME}_VGG19_LSTM Model Plot saved successfully...\")\n",
    "except Exception as e:\n",
    "    print(f\"Failed to plot model: {str(e)}\")\n",
    "\n",
    "# Verify data shapes\n",
    "print(f\"train_gen.videos shape: {np.shape(train_gen.videos)}\")\n",
    "print(f\"train_gen.labels shape: {np.shape(train_gen.labels)}\")\n",
    "print(f\"val_gen.videos shape: {np.shape(val_gen.videos)}\")\n",
    "print(f\"val_gen.labels shape: {np.shape(val_gen.labels)}\")\n",
    "print(f\"features_test shape: {np.shape(features_test)}\")\n",
    "print(f\"labels_test shape: {np.shape(labels_test)}\")\n",
    "\n",
    "# Ensure labels_test is one-hot encoded\n",
    "if len(labels_test.shape) == 1:\n",
    "    print(\"Converting labels_test to one-hot encoded format...\")\n",
    "    labels_test = to_categorical(labels_test, num_classes=NO_OF_CLASSES)\n",
    "    print(f\"New labels_test shape: {labels_test.shape}\")\n",
    "\n",
    "# Verify generator batch shapes\n",
    "try:\n",
    "    videos, labels = train_gen[0]\n",
    "    print(f\"train_gen batch videos shape: {videos.shape}\")\n",
    "    print(f\"train_gen batch labels shape: {labels.shape}\")\n",
    "    videos, labels = val_gen[0]\n",
    "    print(f\"val_gen batch videos shape: {videos.shape}\")\n",
    "    print(f\"val_gen batch labels shape: {labels.shape}\")\n",
    "except Exception as e:\n",
    "    print(f\"Error accessing generator data: {str(e)}\")\n",
    "\n",
    "# Compile the model for initial training\n",
    "early_stopping_callback = EarlyStopping(monitor='val_loss', patience=7, mode='min', restore_best_weights=True)\n",
    "lr_scheduler = ReduceLROnPlateau(monitor='val_loss', factor=0.5, patience=3, min_lr=1e-6)\n",
    "\n",
    "model.compile(\n",
    "    loss='categorical_crossentropy',\n",
    "    optimizer=tf.keras.optimizers.Adam(learning_rate=0.001),  # Higher learning rate for initial training\n",
    "    metrics=['accuracy']\n",
    ")\n",
    "\n",
    "# Print dataset summary\n",
    "print(f\"Dataset - {DATASET_NAME}\")\n",
    "print(f\"There are total {len(ALL_CLASS_NAMES)} classes, selected {NO_OF_CLASSES} classes\")\n",
    "print(f\"Setting {MAX_VIDEO_PER_CLASS} videos/class to train the model.\")\n",
    "print(f\"Image size {IMAGE_HEIGHT}x{IMAGE_WIDTH} with {SEQUENCE_LENGTH} sequence length\")\n",
    "print(f\"Dropout rate: {DROPOUT_RATE}\")\n",
    "print(f\"Train-Test split ratio {int((1-TEST_SIZE)*100)}/{int(TEST_SIZE*100)}\")\n",
    "print(f\"Validation data from Train set {VALIDATION_SPLIT*100}%\")\n",
    "print(\"\\n\")\n",
    "\n",
    "# Initial training with frozen base model\n",
    "print(f\"Initial training started for VGG19+LSTM model with {len(train_gen.videos)} videos of {NO_OF_CLASSES} classes with {len(val_gen.videos)} videos for validation...\")\n",
    "try:\n",
    "    initial_model_history = model.fit(\n",
    "        train_gen.as_dataset(),\n",
    "        validation_data=val_gen.as_dataset(),\n",
    "        epochs=EPOCHS,\n",
    "        class_weight=class_weights,\n",
    "        callbacks=[early_stopping_callback, lr_scheduler]\n",
    "    )\n",
    "except Exception as e:\n",
    "    print(f\"Error during initial model training: {str(e)}\")\n",
    "    import traceback\n",
    "    traceback.print_exc()\n"
   ]
  },
  {
   "cell_type": "code",
   "execution_count": 42,
   "id": "57a6f8c5",
   "metadata": {
    "execution": {
     "iopub.execute_input": "2025-07-12T15:26:37.237714Z",
     "iopub.status.busy": "2025-07-12T15:26:37.236935Z",
     "iopub.status.idle": "2025-07-12T15:34:28.236766Z",
     "shell.execute_reply": "2025-07-12T15:34:28.235887Z"
    },
    "papermill": {
     "duration": 471.178378,
     "end_time": "2025-07-12T15:34:28.238106",
     "exception": false,
     "start_time": "2025-07-12T15:26:37.059728",
     "status": "completed"
    },
    "tags": []
   },
   "outputs": [
    {
     "name": "stdout",
     "output_type": "stream",
     "text": [
      "\n",
      "Fine-tuning started for VGG19+LSTM model with 2816 videos of 11 classes with 704 videos for validation...\n",
      "Epoch 1/30\n",
      "\u001b[1m118/118\u001b[0m \u001b[32m━━━━━━━━━━━━━━━━━━━━\u001b[0m\u001b[37m\u001b[0m \u001b[1m55s\u001b[0m 181ms/step - accuracy: 0.9564 - loss: 0.3657 - val_accuracy: 0.9801 - val_loss: 0.3153 - learning_rate: 1.0000e-04\n",
      "Epoch 2/30\n",
      "\u001b[1m118/118\u001b[0m \u001b[32m━━━━━━━━━━━━━━━━━━━━\u001b[0m\u001b[37m\u001b[0m \u001b[1m14s\u001b[0m 122ms/step - accuracy: 0.9815 - loss: 0.2907 - val_accuracy: 0.9830 - val_loss: 0.2864 - learning_rate: 1.0000e-04\n",
      "Epoch 3/30\n",
      "\u001b[1m118/118\u001b[0m \u001b[32m━━━━━━━━━━━━━━━━━━━━\u001b[0m\u001b[37m\u001b[0m \u001b[1m15s\u001b[0m 124ms/step - accuracy: 0.9920 - loss: 0.2542 - val_accuracy: 0.9844 - val_loss: 0.2565 - learning_rate: 1.0000e-04\n",
      "Epoch 4/30\n",
      "\u001b[1m118/118\u001b[0m \u001b[32m━━━━━━━━━━━━━━━━━━━━\u001b[0m\u001b[37m\u001b[0m \u001b[1m14s\u001b[0m 120ms/step - accuracy: 0.9964 - loss: 0.2299 - val_accuracy: 0.9872 - val_loss: 0.2384 - learning_rate: 1.0000e-04\n",
      "Epoch 5/30\n",
      "\u001b[1m118/118\u001b[0m \u001b[32m━━━━━━━━━━━━━━━━━━━━\u001b[0m\u001b[37m\u001b[0m \u001b[1m14s\u001b[0m 118ms/step - accuracy: 0.9941 - loss: 0.2206 - val_accuracy: 0.9830 - val_loss: 0.2528 - learning_rate: 1.0000e-04\n",
      "Epoch 6/30\n",
      "\u001b[1m118/118\u001b[0m \u001b[32m━━━━━━━━━━━━━━━━━━━━\u001b[0m\u001b[37m\u001b[0m \u001b[1m14s\u001b[0m 119ms/step - accuracy: 0.9990 - loss: 0.2012 - val_accuracy: 0.9844 - val_loss: 0.2279 - learning_rate: 1.0000e-04\n",
      "Epoch 7/30\n",
      "\u001b[1m118/118\u001b[0m \u001b[32m━━━━━━━━━━━━━━━━━━━━\u001b[0m\u001b[37m\u001b[0m \u001b[1m14s\u001b[0m 119ms/step - accuracy: 0.9985 - loss: 0.1933 - val_accuracy: 0.9801 - val_loss: 0.2292 - learning_rate: 1.0000e-04\n",
      "Epoch 8/30\n",
      "\u001b[1m118/118\u001b[0m \u001b[32m━━━━━━━━━━━━━━━━━━━━\u001b[0m\u001b[37m\u001b[0m \u001b[1m14s\u001b[0m 122ms/step - accuracy: 0.9993 - loss: 0.1803 - val_accuracy: 0.9844 - val_loss: 0.2079 - learning_rate: 1.0000e-04\n",
      "Epoch 9/30\n",
      "\u001b[1m118/118\u001b[0m \u001b[32m━━━━━━━━━━━━━━━━━━━━\u001b[0m\u001b[37m\u001b[0m \u001b[1m14s\u001b[0m 121ms/step - accuracy: 0.9996 - loss: 0.1708 - val_accuracy: 0.9872 - val_loss: 0.1952 - learning_rate: 1.0000e-04\n",
      "Epoch 10/30\n",
      "\u001b[1m118/118\u001b[0m \u001b[32m━━━━━━━━━━━━━━━━━━━━\u001b[0m\u001b[37m\u001b[0m \u001b[1m14s\u001b[0m 122ms/step - accuracy: 0.9988 - loss: 0.1626 - val_accuracy: 0.9858 - val_loss: 0.1922 - learning_rate: 1.0000e-04\n",
      "Epoch 11/30\n",
      "\u001b[1m118/118\u001b[0m \u001b[32m━━━━━━━━━━━━━━━━━━━━\u001b[0m\u001b[37m\u001b[0m \u001b[1m14s\u001b[0m 120ms/step - accuracy: 0.9997 - loss: 0.1525 - val_accuracy: 0.9162 - val_loss: 0.4540 - learning_rate: 1.0000e-04\n",
      "Epoch 12/30\n",
      "\u001b[1m118/118\u001b[0m \u001b[32m━━━━━━━━━━━━━━━━━━━━\u001b[0m\u001b[37m\u001b[0m \u001b[1m14s\u001b[0m 120ms/step - accuracy: 0.9794 - loss: 0.2215 - val_accuracy: 0.9744 - val_loss: 0.2372 - learning_rate: 1.0000e-04\n",
      "Epoch 13/30\n",
      "\u001b[1m118/118\u001b[0m \u001b[32m━━━━━━━━━━━━━━━━━━━━\u001b[0m\u001b[37m\u001b[0m \u001b[1m14s\u001b[0m 120ms/step - accuracy: 0.9950 - loss: 0.1808 - val_accuracy: 0.9645 - val_loss: 0.2721 - learning_rate: 1.0000e-04\n",
      "Epoch 14/30\n",
      "\u001b[1m118/118\u001b[0m \u001b[32m━━━━━━━━━━━━━━━━━━━━\u001b[0m\u001b[37m\u001b[0m \u001b[1m14s\u001b[0m 120ms/step - accuracy: 0.9942 - loss: 0.1802 - val_accuracy: 0.9787 - val_loss: 0.2047 - learning_rate: 5.0000e-05\n",
      "Epoch 15/30\n",
      "\u001b[1m118/118\u001b[0m \u001b[32m━━━━━━━━━━━━━━━━━━━━\u001b[0m\u001b[37m\u001b[0m \u001b[1m14s\u001b[0m 120ms/step - accuracy: 0.9996 - loss: 0.1552 - val_accuracy: 0.9858 - val_loss: 0.1790 - learning_rate: 5.0000e-05\n",
      "Epoch 16/30\n",
      "\u001b[1m118/118\u001b[0m \u001b[32m━━━━━━━━━━━━━━━━━━━━\u001b[0m\u001b[37m\u001b[0m \u001b[1m14s\u001b[0m 120ms/step - accuracy: 0.9995 - loss: 0.1470 - val_accuracy: 0.9915 - val_loss: 0.1649 - learning_rate: 5.0000e-05\n",
      "Epoch 17/30\n",
      "\u001b[1m118/118\u001b[0m \u001b[32m━━━━━━━━━━━━━━━━━━━━\u001b[0m\u001b[37m\u001b[0m \u001b[1m14s\u001b[0m 120ms/step - accuracy: 0.9991 - loss: 0.1420 - val_accuracy: 0.9943 - val_loss: 0.1597 - learning_rate: 5.0000e-05\n",
      "Epoch 18/30\n",
      "\u001b[1m118/118\u001b[0m \u001b[32m━━━━━━━━━━━━━━━━━━━━\u001b[0m\u001b[37m\u001b[0m \u001b[1m14s\u001b[0m 119ms/step - accuracy: 1.0000 - loss: 0.1360 - val_accuracy: 0.9844 - val_loss: 0.1592 - learning_rate: 5.0000e-05\n",
      "Epoch 19/30\n",
      "\u001b[1m118/118\u001b[0m \u001b[32m━━━━━━━━━━━━━━━━━━━━\u001b[0m\u001b[37m\u001b[0m \u001b[1m14s\u001b[0m 120ms/step - accuracy: 1.0000 - loss: 0.1310 - val_accuracy: 0.9915 - val_loss: 0.1501 - learning_rate: 5.0000e-05\n",
      "Epoch 20/30\n",
      "\u001b[1m118/118\u001b[0m \u001b[32m━━━━━━━━━━━━━━━━━━━━\u001b[0m\u001b[37m\u001b[0m \u001b[1m14s\u001b[0m 120ms/step - accuracy: 1.0000 - loss: 0.1279 - val_accuracy: 0.9886 - val_loss: 0.1451 - learning_rate: 5.0000e-05\n",
      "Epoch 21/30\n",
      "\u001b[1m118/118\u001b[0m \u001b[32m━━━━━━━━━━━━━━━━━━━━\u001b[0m\u001b[37m\u001b[0m \u001b[1m14s\u001b[0m 120ms/step - accuracy: 1.0000 - loss: 0.1243 - val_accuracy: 0.9901 - val_loss: 0.1411 - learning_rate: 5.0000e-05\n",
      "Epoch 22/30\n",
      "\u001b[1m118/118\u001b[0m \u001b[32m━━━━━━━━━━━━━━━━━━━━\u001b[0m\u001b[37m\u001b[0m \u001b[1m14s\u001b[0m 120ms/step - accuracy: 1.0000 - loss: 0.1200 - val_accuracy: 0.9901 - val_loss: 0.1373 - learning_rate: 5.0000e-05\n",
      "Epoch 23/30\n",
      "\u001b[1m118/118\u001b[0m \u001b[32m━━━━━━━━━━━━━━━━━━━━\u001b[0m\u001b[37m\u001b[0m \u001b[1m14s\u001b[0m 119ms/step - accuracy: 1.0000 - loss: 0.1188 - val_accuracy: 0.9886 - val_loss: 0.1368 - learning_rate: 5.0000e-05\n",
      "Epoch 24/30\n",
      "\u001b[1m118/118\u001b[0m \u001b[32m━━━━━━━━━━━━━━━━━━━━\u001b[0m\u001b[37m\u001b[0m \u001b[1m14s\u001b[0m 120ms/step - accuracy: 1.0000 - loss: 0.1140 - val_accuracy: 0.9901 - val_loss: 0.1306 - learning_rate: 5.0000e-05\n",
      "Epoch 25/30\n",
      "\u001b[1m118/118\u001b[0m \u001b[32m━━━━━━━━━━━━━━━━━━━━\u001b[0m\u001b[37m\u001b[0m \u001b[1m14s\u001b[0m 120ms/step - accuracy: 1.0000 - loss: 0.1115 - val_accuracy: 0.9929 - val_loss: 0.1252 - learning_rate: 5.0000e-05\n",
      "Epoch 26/30\n",
      "\u001b[1m118/118\u001b[0m \u001b[32m━━━━━━━━━━━━━━━━━━━━\u001b[0m\u001b[37m\u001b[0m \u001b[1m14s\u001b[0m 120ms/step - accuracy: 1.0000 - loss: 0.1075 - val_accuracy: 0.9915 - val_loss: 0.1267 - learning_rate: 5.0000e-05\n",
      "Epoch 27/30\n",
      "\u001b[1m118/118\u001b[0m \u001b[32m━━━━━━━━━━━━━━━━━━━━\u001b[0m\u001b[37m\u001b[0m \u001b[1m14s\u001b[0m 119ms/step - accuracy: 1.0000 - loss: 0.1066 - val_accuracy: 0.9943 - val_loss: 0.1179 - learning_rate: 5.0000e-05\n",
      "Epoch 28/30\n",
      "\u001b[1m118/118\u001b[0m \u001b[32m━━━━━━━━━━━━━━━━━━━━\u001b[0m\u001b[37m\u001b[0m \u001b[1m14s\u001b[0m 121ms/step - accuracy: 1.0000 - loss: 0.1029 - val_accuracy: 0.9929 - val_loss: 0.1171 - learning_rate: 5.0000e-05\n",
      "Epoch 29/30\n",
      "\u001b[1m118/118\u001b[0m \u001b[32m━━━━━━━━━━━━━━━━━━━━\u001b[0m\u001b[37m\u001b[0m \u001b[1m14s\u001b[0m 119ms/step - accuracy: 1.0000 - loss: 0.1015 - val_accuracy: 0.9872 - val_loss: 0.1176 - learning_rate: 5.0000e-05\n",
      "Epoch 30/30\n",
      "\u001b[1m118/118\u001b[0m \u001b[32m━━━━━━━━━━━━━━━━━━━━\u001b[0m\u001b[37m\u001b[0m \u001b[1m14s\u001b[0m 121ms/step - accuracy: 1.0000 - loss: 0.0979 - val_accuracy: 0.9957 - val_loss: 0.1110 - learning_rate: 5.0000e-05\n",
      "\n",
      "Evaluating VGG19+LSTM model on test set...\n",
      "Total 880 videos and 880 classes\n",
      "test_gen batch videos shape: (24, 5, 128, 128, 3)\n",
      "test_gen batch labels shape: (24, 11)\n",
      "\u001b[1m37/37\u001b[0m \u001b[32m━━━━━━━━━━━━━━━━━━━━\u001b[0m\u001b[37m\u001b[0m \u001b[1m3s\u001b[0m 87ms/step - accuracy: 0.9875 - loss: 0.1359\n",
      "VGG19+LSTM Test Loss: 0.1217\n",
      "VGG19+LSTM Test Accuracy: 98.86%\n"
     ]
    }
   ],
   "source": [
    "\n",
    "# Unfreeze some layers for fine-tuning\n",
    "base_model.trainable = True\n",
    "# Freeze all layers except the last 8 layers (consistent with previous VGG19 code)\n",
    "for layer in base_model.layers[:-8]:\n",
    "    layer.trainable = False\n",
    "\n",
    "# Recompile the model with a lower learning rate for fine-tuning\n",
    "model.compile(\n",
    "    loss='categorical_crossentropy',\n",
    "    optimizer=tf.keras.optimizers.Adam(learning_rate=0.0001),  # Lower learning rate for fine-tuning\n",
    "    metrics=['accuracy']\n",
    ")\n",
    "\n",
    "# Fine-tune the model\n",
    "print(f\"\\nFine-tuning started for VGG19+LSTM model with {len(train_gen.videos)} videos of {NO_OF_CLASSES} classes with {len(val_gen.videos)} videos for validation...\")\n",
    "try:\n",
    "    fine_tune_model_history = model.fit(\n",
    "        train_gen.as_dataset(),\n",
    "        validation_data=val_gen.as_dataset(),\n",
    "        epochs=EPOCHS,\n",
    "        class_weight=class_weights,\n",
    "        callbacks=[early_stopping_callback, lr_scheduler]\n",
    "    )\n",
    "except Exception as e:\n",
    "    print(f\"Error during fine-tuning: {str(e)}\")\n",
    "    import traceback\n",
    "    traceback.print_exc()\n",
    "\n",
    "# Evaluate the model on the test set\n",
    "print(\"\\nEvaluating VGG19+LSTM model on test set...\")\n",
    "test_gen = VideoDataGenerator(\n",
    "    videos=features_test,\n",
    "    labels=labels_test,\n",
    "    batch_size=BATCH_SIZE\n",
    ")\n",
    "try:\n",
    "    videos, labels = test_gen[0]\n",
    "    print(f\"test_gen batch videos shape: {videos.shape}\")\n",
    "    print(f\"test_gen batch labels shape: {labels.shape}\")\n",
    "    loss, accuracy = model.evaluate(test_gen.as_dataset())\n",
    "    print(f'VGG19+LSTM Test Loss: {loss:.4f}')\n",
    "    print(f'VGG19+LSTM Test Accuracy: {accuracy * 100:.2f}%')\n",
    "except Exception as e:\n",
    "    print(f\"Error during model evaluation: {str(e)}\")\n",
    "    import traceback\n",
    "    traceback.print_exc()\n"
   ]
  },
  {
   "cell_type": "code",
   "execution_count": 43,
   "id": "3a6dc1b4",
   "metadata": {
    "execution": {
     "iopub.execute_input": "2025-07-12T15:34:28.997121Z",
     "iopub.status.busy": "2025-07-12T15:34:28.996550Z",
     "iopub.status.idle": "2025-07-12T15:34:48.305472Z",
     "shell.execute_reply": "2025-07-12T15:34:48.304567Z"
    },
    "papermill": {
     "duration": 19.660453,
     "end_time": "2025-07-12T15:34:48.306735",
     "exception": false,
     "start_time": "2025-07-12T15:34:28.646282",
     "status": "completed"
    },
    "tags": []
   },
   "outputs": [
    {
     "data": {
      "image/png": "[encoded data removed]",
      "text/plain": [
       "<Figure size 1200x500 with 2 Axes>"
      ]
     },
     "metadata": {},
     "output_type": "display_data"
    },
    {
     "name": "stdout",
     "output_type": "stream",
     "text": [
      "\u001b[1m37/37\u001b[0m \u001b[32m━━━━━━━━━━━━━━━━━━━━\u001b[0m\u001b[37m\u001b[0m \u001b[1m18s\u001b[0m 288ms/step\n",
      "True classes shape: (880,)\n",
      "Predicted classes shape: (880,)\n",
      "\n",
      "VGG19+LSTM Classification Report:\n",
      "                   precision    recall  f1-score   support\n",
      "\n",
      "       Basketball       0.98      1.00      0.99        86\n",
      "           Biking       1.00      0.98      0.99        82\n",
      "           Diving       1.00      1.00      1.00        75\n",
      "        GolfSwing       1.00      0.94      0.97        86\n",
      "      HorseRiding       1.00      1.00      1.00        78\n",
      "           Skiing       1.00      0.97      0.99        75\n",
      "    SkateBoarding       0.98      1.00      0.99        83\n",
      "            Swing       0.99      0.99      0.99        85\n",
      "      TennisSwing       0.99      1.00      0.99        70\n",
      "TrampolineJumping       1.00      1.00      1.00        76\n",
      "   WalkingWithDog       0.95      1.00      0.98        84\n",
      "\n",
      "         accuracy                           0.99       880\n",
      "        macro avg       0.99      0.99      0.99       880\n",
      "     weighted avg       0.99      0.99      0.99       880\n",
      "\n"
     ]
    },
    {
     "name": "stderr",
     "output_type": "stream",
     "text": [
      "/usr/local/lib/python3.11/dist-packages/keras/src/trainers/epoch_iterator.py:151: UserWarning: Your input ran out of data; interrupting training. Make sure that your dataset or generator can generate at least `steps_per_epoch * epochs` batches. You may need to use the `.repeat()` function when building your dataset.\n",
      "  self._interrupted_warning()\n"
     ]
    },
    {
     "data": {
      "image/png": "[encoded data removed]",
      "text/plain": [
       "<Figure size 800x600 with 2 Axes>"
      ]
     },
     "metadata": {},
     "output_type": "display_data"
    }
   ],
   "source": [
    "\n",
    "# Plot training history (combine initial and fine-tuning)\n",
    "import matplotlib.pyplot as plt\n",
    "\n",
    "try:\n",
    "    # Combine histories\n",
    "    history_accuracy = initial_model_history.history['accuracy'] + fine_tune_model_history.history['accuracy']\n",
    "    history_val_accuracy = initial_model_history.history['val_accuracy'] + fine_tune_model_history.history['val_accuracy']\n",
    "    history_loss = initial_model_history.history['loss'] + fine_tune_model_history.history['loss']\n",
    "    history_val_loss = initial_model_history.history['val_loss'] + fine_tune_model_history.history['val_loss']\n",
    "\n",
    "    plt.figure(figsize=(12, 5))\n",
    "\n",
    "    # Accuracy\n",
    "    plt.subplot(1, 2, 1)\n",
    "    plt.plot(history_accuracy, label='Train Accuracy')\n",
    "    plt.plot(history_val_accuracy, label='Validation Accuracy')\n",
    "    plt.axvline(x=len(initial_model_history.history['accuracy']), color='r', linestyle='--', label='Start Fine-Tuning')\n",
    "    plt.title('VGG19+LSTM Model Accuracy')\n",
    "    plt.xlabel('Epoch')\n",
    "    plt.ylabel('Accuracy')\n",
    "    plt.legend()\n",
    "\n",
    "    # Loss\n",
    "    plt.subplot(1, 2, 2)\n",
    "    plt.plot(history_loss, label='Train Loss')\n",
    "    plt.plot(history_val_loss, label='Validation Loss')\n",
    "    plt.axvline(x=len(initial_model_history.history['loss']), color='r', linestyle='--', label='Start Fine-Tuning')\n",
    "    plt.title('VGG19+LSTM Model Loss')\n",
    "    plt.xlabel('Epoch')\n",
    "    plt.ylabel('Loss')\n",
    "    plt.legend()\n",
    "\n",
    "    plt.tight_layout()\n",
    "    plt.show()\n",
    "except Exception as e:\n",
    "    print(f\"Error plotting training history: {str(e)}\")\n",
    "\n",
    "# Generate confusion matrix and classification report\n",
    "from sklearn.metrics import classification_report, confusion_matrix\n",
    "import seaborn as sns\n",
    "\n",
    "# Get predictions\n",
    "try:\n",
    "    predictions = model.predict(test_gen.as_dataset())\n",
    "    predicted_classes = np.argmax(predictions, axis=1)\n",
    "    true_classes = np.argmax(labels_test, axis=1)\n",
    "\n",
    "    # Verify shapes\n",
    "    print(f\"True classes shape: {true_classes.shape}\")\n",
    "    print(f\"Predicted classes shape: {predicted_classes.shape}\")\n",
    "    assert len(true_classes) == len(predicted_classes), \"Sample counts do not match!\"\n",
    "\n",
    "    # Generate classification report\n",
    "    print(\"\\nVGG19+LSTM Classification Report:\")\n",
    "    print(classification_report(true_classes, predicted_classes, target_names=CLASSES_LIST))\n",
    "\n",
    "    # Plot confusion matrix\n",
    "    cm = confusion_matrix(true_classes, predicted_classes)\n",
    "    plt.figure(figsize=(8, 6))\n",
    "    sns.heatmap(cm, annot=True, fmt='d', cmap='Blues', xticklabels=CLASSES_LIST, yticklabels=CLASSES_LIST)\n",
    "    plt.xlabel('Predicted')\n",
    "    plt.ylabel('True')\n",
    "    plt.title('VGG19+LSTM Confusion Matrix')\n",
    "    plt.show()\n",
    "except Exception as e:\n",
    "    print(f\"Error during prediction or plotting: {str(e)}\")\n",
    "    import traceback\n",
    "    traceback.print_exc()"
   ]
  },
  {
   "cell_type": "code",
   "execution_count": 44,
   "id": "9d6a4879",
   "metadata": {
    "execution": {
     "iopub.execute_input": "2025-07-12T15:34:49.071595Z",
     "iopub.status.busy": "2025-07-12T15:34:49.070565Z",
     "iopub.status.idle": "2025-07-12T15:34:54.551512Z",
     "shell.execute_reply": "2025-07-12T15:34:54.550820Z"
    },
    "papermill": {
     "duration": 5.894056,
     "end_time": "2025-07-12T15:34:54.552813",
     "exception": false,
     "start_time": "2025-07-12T15:34:48.658757",
     "status": "completed"
    },
    "tags": []
   },
   "outputs": [
    {
     "name": "stdout",
     "output_type": "stream",
     "text": [
      "\u001b[1m28/28\u001b[0m \u001b[32m━━━━━━━━━━━━━━━━━━━━\u001b[0m\u001b[37m\u001b[0m \u001b[1m3s\u001b[0m 98ms/step - accuracy: 0.9880 - loss: 0.1340\n"
     ]
    }
   ],
   "source": [
    "# previous code\n",
    "model_evaluation_history = model.evaluate(features_test, labels_test)"
   ]
  }
 ],
 "metadata": {
  "kaggle": {
   "accelerator": "nvidiaTeslaT4",
   "dataSources": [
    {
     "datasetId": 1357563,
     "sourceId": 2256095,
     "sourceType": "datasetVersion"
    },
    {
     "datasetId": 7763484,
     "sourceId": 12338519,
     "sourceType": "datasetVersion"
    },
    {
     "datasetId": 7801555,
     "sourceId": 12373067,
     "sourceType": "datasetVersion"
    },
    {
     "datasetId": 7801884,
     "sourceId": 12373562,
     "sourceType": "datasetVersion"
    }
   ],
   "dockerImageVersionId": 31090,
   "isGpuEnabled": true,
   "isInternetEnabled": true,
   "language": "python",
   "sourceType": "notebook"
  },
  "kernelspec": {
   "display_name": "Python 3",
   "language": "python",
   "name": "python3"
  },
  "language_info": {
   "codemirror_mode": {
    "name": "ipython",
    "version": 3
   },
   "file_extension": ".py",
   "mimetype": "text/x-python",
   "name": "python",
   "nbconvert_exporter": "python",
   "pygments_lexer": "ipython3",
   "version": "3.11.13"
  },
  "papermill": {
   "default_parameters": {},
   "duration": 1097.996817,
   "end_time": "2025-07-12T15:34:58.536595",
   "environment_variables": {},
   "exception": null,
   "input_path": "__notebook__.ipynb",
   "output_path": "__notebook__.ipynb",
   "parameters": {},
   "start_time": "2025-07-12T15:16:40.539778",
   "version": "2.6.0"
  }
 },
 "nbformat": 4,
 "nbformat_minor": 5
}
