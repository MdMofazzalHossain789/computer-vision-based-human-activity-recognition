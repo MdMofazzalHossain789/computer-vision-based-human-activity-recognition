{
 "cells": [
  {
   "cell_type": "markdown",
   "id": "c97443a4",
   "metadata": {
    "papermill": {
     "duration": 0.010644,
     "end_time": "2025-07-11T17:41:05.526220",
     "exception": false,
     "start_time": "2025-07-11T17:41:05.515576",
     "status": "completed"
    },
    "tags": []
   },
   "source": [
    "# Initialization\n",
    "## Import Libraries"
   ]
  },
  {
   "cell_type": "code",
   "execution_count": 1,
   "id": "b6355278",
   "metadata": {
    "_cell_guid": "b1076dfc-b9ad-4769-8c92-a6c4dae69d19",
    "_uuid": "8f2839f25d086af736a60e9eeb907d3b93b6e0e5",
    "execution": {
     "iopub.execute_input": "2025-07-11T17:41:05.545745Z",
     "iopub.status.busy": "2025-07-11T17:41:05.545495Z",
     "iopub.status.idle": "2025-07-11T17:41:20.377120Z",
     "shell.execute_reply": "2025-07-11T17:41:20.376363Z"
    },
    "papermill": {
     "duration": 14.84297,
     "end_time": "2025-07-11T17:41:20.378482",
     "exception": false,
     "start_time": "2025-07-11T17:41:05.535512",
     "status": "completed"
    },
    "tags": []
   },
   "outputs": [
    {
     "name": "stderr",
     "output_type": "stream",
     "text": [
      "2025-07-11 17:41:07.031015: E external/local_xla/xla/stream_executor/cuda/cuda_fft.cc:477] Unable to register cuFFT factory: Attempting to register factory for plugin cuFFT when one has already been registered\n",
      "WARNING: All log messages before absl::InitializeLog() is called are written to STDERR\n",
      "E0000 00:00:1752255667.221235      18 cuda_dnn.cc:8310] Unable to register cuDNN factory: Attempting to register factory for plugin cuDNN when one has already been registered\n",
      "E0000 00:00:1752255667.275797      18 cuda_blas.cc:1418] Unable to register cuBLAS factory: Attempting to register factory for plugin cuBLAS when one has already been registered\n"
     ]
    }
   ],
   "source": [
    "# install librarires\n",
    "import os\n",
    "import tensorflow as tf\n",
    "import numpy as np\n",
    "import random"
   ]
  },
  {
   "cell_type": "markdown",
   "id": "464f0d99",
   "metadata": {
    "papermill": {
     "duration": 0.00886,
     "end_time": "2025-07-11T17:41:20.396433",
     "exception": false,
     "start_time": "2025-07-11T17:41:20.387573",
     "status": "completed"
    },
    "tags": []
   },
   "source": [
    "## ℹ️ Set Global Constants"
   ]
  },
  {
   "cell_type": "code",
   "execution_count": 2,
   "id": "63aac234",
   "metadata": {
    "execution": {
     "iopub.execute_input": "2025-07-11T17:41:20.413929Z",
     "iopub.status.busy": "2025-07-11T17:41:20.413178Z",
     "iopub.status.idle": "2025-07-11T17:41:20.425663Z",
     "shell.execute_reply": "2025-07-11T17:41:20.424816Z"
    },
    "papermill": {
     "duration": 0.022243,
     "end_time": "2025-07-11T17:41:20.426762",
     "exception": false,
     "start_time": "2025-07-11T17:41:20.404519",
     "status": "completed"
    },
    "tags": []
   },
   "outputs": [
    {
     "name": "stdout",
     "output_type": "stream",
     "text": [
      "Precis Har Rgb\n",
      "There are total 16 classes, selected 16 classes\n",
      "Setting None/class to train the model.\n",
      "Image size 128x128 with 5 sequence length\n",
      "Dropout rate: 0.5\n",
      "Train-Test split ratio 80/20\n",
      "Validation data from Train set 20.0%\n"
     ]
    }
   ],
   "source": [
    "# global variables\n",
    "# set dataset directories\n",
    "\n",
    "\n",
    "DATASET_DIR = \"/kaggle/input/precis-har-rgb\"\n",
    "DATASET_NAME = DATASET_DIR.split(\"/\")[-1].replace(\"-\", \" \").title()\n",
    "\n",
    "print(DATASET_NAME)\n",
    "\n",
    "ALL_CLASS_NAMES = os.listdir(DATASET_DIR)\n",
    "\n",
    "# Global constant variables -> \n",
    "NO_OF_CLASSES = len(ALL_CLASS_NAMES)\n",
    "CLASSES_LIST = ALL_CLASS_NAMES[:NO_OF_CLASSES]\n",
    "\n",
    "# Model Configuration\n",
    "IMAGE_HEIGHT, IMAGE_WIDTH = 128, 128\n",
    "SEQUENCE_LENGTH = 5\n",
    "\n",
    "# set drop out rate\n",
    "DROPOUT_RATE = 0.5\n",
    "\n",
    "# set datas\n",
    "MAX_VIDEO_PER_CLASS = None\n",
    "\n",
    "# split dataset\n",
    "TEST_SIZE = 0.20\n",
    "\n",
    "# model fit parameters\n",
    "EPOCHS = 30\n",
    "BATCH_SIZE = 24\n",
    "VALIDATION_SPLIT = 0.20\n",
    "\n",
    "# augmentation values\n",
    "NOISE_FACTOR = 0.02\n",
    "SHEAR_X= 1\n",
    "SHEAR_Y= 1\n",
    "\n",
    "# give a name of the model to save\n",
    "MODEL_NAME = \"Xception\"\n",
    "\n",
    "print(f\"There are total {len(ALL_CLASS_NAMES)} classes, selected {NO_OF_CLASSES} classes\")\n",
    "print(f\"Setting {MAX_VIDEO_PER_CLASS}/class to train the model.\")\n",
    "print(f\"Image size {IMAGE_HEIGHT}x{IMAGE_WIDTH} with {SEQUENCE_LENGTH} sequence length\")\n",
    "print(f\"Dropout rate: {DROPOUT_RATE}\")\n",
    "print(f\"Train-Test split ratio {int((1-TEST_SIZE)*100)}/{int(TEST_SIZE*100)}\")\n",
    "print(f\"Validation data from Train set {VALIDATION_SPLIT*100}%\")"
   ]
  },
  {
   "cell_type": "markdown",
   "id": "3db436d1",
   "metadata": {
    "papermill": {
     "duration": 0.008257,
     "end_time": "2025-07-11T17:41:20.443370",
     "exception": false,
     "start_time": "2025-07-11T17:41:20.435113",
     "status": "completed"
    },
    "tags": []
   },
   "source": [
    "## Set `Seed` Values"
   ]
  },
  {
   "cell_type": "code",
   "execution_count": 3,
   "id": "ea3d5ecf",
   "metadata": {
    "execution": {
     "iopub.execute_input": "2025-07-11T17:41:20.460190Z",
     "iopub.status.busy": "2025-07-11T17:41:20.460000Z",
     "iopub.status.idle": "2025-07-11T17:41:20.463408Z",
     "shell.execute_reply": "2025-07-11T17:41:20.462841Z"
    },
    "papermill": {
     "duration": 0.013056,
     "end_time": "2025-07-11T17:41:20.464391",
     "exception": false,
     "start_time": "2025-07-11T17:41:20.451335",
     "status": "completed"
    },
    "tags": []
   },
   "outputs": [],
   "source": [
    "# set seeed to get similar values\n",
    "seed_constant = 27\n",
    "np.random.seed(seed_constant)\n",
    "random.seed(seed_constant)\n",
    "tf.random.set_seed(seed_constant)"
   ]
  },
  {
   "cell_type": "markdown",
   "id": "c121bb64",
   "metadata": {
    "papermill": {
     "duration": 0.007897,
     "end_time": "2025-07-11T17:41:20.480389",
     "exception": false,
     "start_time": "2025-07-11T17:41:20.472492",
     "status": "completed"
    },
    "tags": []
   },
   "source": [
    "# 📌 Function Definition\n",
    "## Resize and Frame Extraction"
   ]
  },
  {
   "cell_type": "code",
   "execution_count": 4,
   "id": "2c5e0a15",
   "metadata": {
    "execution": {
     "iopub.execute_input": "2025-07-11T17:41:20.497250Z",
     "iopub.status.busy": "2025-07-11T17:41:20.497022Z",
     "iopub.status.idle": "2025-07-11T17:41:20.505477Z",
     "shell.execute_reply": "2025-07-11T17:41:20.504774Z"
    },
    "papermill": {
     "duration": 0.018232,
     "end_time": "2025-07-11T17:41:20.506579",
     "exception": false,
     "start_time": "2025-07-11T17:41:20.488347",
     "status": "completed"
    },
    "tags": []
   },
   "outputs": [],
   "source": [
    "import cv2\n",
    "from concurrent.futures import ThreadPoolExecutor\n",
    "\n",
    "def resize_and_normalize_frame(frame, image_height, image_width):\n",
    "    try:\n",
    "        resized_frame = cv2.resize(frame, (image_width, image_height), interpolation=cv2.INTER_LINEAR)\n",
    "        normalized_frame = resized_frame / 255.0\n",
    "        return normalized_frame\n",
    "    except Exception as e:\n",
    "        print(f\"Error processing frame: {e}\")\n",
    "        return None\n",
    "\n",
    "def frames_extraction(video_path, \n",
    "                      sequence_length=SEQUENCE_LENGTH, \n",
    "                      image_height=IMAGE_HEIGHT, \n",
    "                      image_width=IMAGE_WIDTH):\n",
    "    # Declare a list to store video frames\n",
    "    frames_list = []\n",
    "\n",
    "    # Check if video file exists\n",
    "    if not os.path.exists(video_path):\n",
    "        print(f\"Error: Video file not found at {video_path}\")\n",
    "        return None\n",
    "\n",
    "    # Read the video file using VideoCapture with optimized settings\n",
    "    video_reader = cv2.VideoCapture(video_path, cv2.CAP_FFMPEG)\n",
    "\n",
    "    # Check if the video was opened successfully\n",
    "    if not video_reader.isOpened():\n",
    "        print(f\"Error: Could not open video file {video_path}\")\n",
    "        video_reader.release()\n",
    "        return None\n",
    "\n",
    "    # Get the total number of frames in the video\n",
    "    video_frames_count = int(video_reader.get(cv2.CAP_PROP_FRAME_COUNT))\n",
    "\n",
    "    # Ensure the video has enough frames\n",
    "    if video_frames_count < sequence_length:\n",
    "        print(f\"Warning: Video {video_path} has only {video_frames_count} frames, less than required {sequence_length}\")\n",
    "        video_reader.release()\n",
    "        return None\n",
    "\n",
    "    # Calculate the interval after which frames will be sampled\n",
    "    skip_frames_window = max(int(video_frames_count / sequence_length), 1)\n",
    "\n",
    "    # Pre-allocate frame indices to extract\n",
    "    frame_indices = [i * skip_frames_window for i in range(sequence_length)]\n",
    "\n",
    "    # Read and process frames in parallel\n",
    "    frames = []\n",
    "    for idx in frame_indices:\n",
    "        video_reader.set(cv2.CAP_PROP_POS_FRAMES, idx)\n",
    "        success, frame = video_reader.read()\n",
    "        if not success or frame is None:\n",
    "            print(f\"Warning: Failed to read frame at index {idx} from {video_path}\")\n",
    "            break\n",
    "        frame = cv2.cvtColor(frame, cv2.COLOR_BGR2RGB)\n",
    "        frames.append(frame)\n",
    "\n",
    "    # Release the VideoCapture object early\n",
    "    video_reader.release()\n",
    "\n",
    "    # Ensure the correct number of frames is read\n",
    "    if len(frames) != sequence_length:\n",
    "        print(f\"Warning: Read {len(frames)} frames instead of {sequence_length} from {video_path}\")\n",
    "        return None\n",
    "\n",
    "    # Process frames in parallel using ThreadPoolExecutor\n",
    "    with ThreadPoolExecutor() as executor:\n",
    "        processed_frames = list(executor.map(\n",
    "            lambda f: resize_and_normalize_frame(f, image_height, image_width), \n",
    "            frames\n",
    "        ))\n",
    "\n",
    "    # Check for any failed frame processing\n",
    "    if any(f is None for f in processed_frames):\n",
    "        print(f\"Warning: Some frames failed to process in {video_path}\")\n",
    "        return None\n",
    "\n",
    "    # Convert to NumPy array\n",
    "    frames_array = np.array(processed_frames, dtype=np.float32)\n",
    "\n",
    "    return frames_array"
   ]
  },
  {
   "cell_type": "code",
   "execution_count": 5,
   "id": "b0657c2d",
   "metadata": {
    "execution": {
     "iopub.execute_input": "2025-07-11T17:41:20.524714Z",
     "iopub.status.busy": "2025-07-11T17:41:20.524244Z",
     "iopub.status.idle": "2025-07-11T17:41:20.527591Z",
     "shell.execute_reply": "2025-07-11T17:41:20.527058Z"
    },
    "papermill": {
     "duration": 0.0135,
     "end_time": "2025-07-11T17:41:20.528687",
     "exception": false,
     "start_time": "2025-07-11T17:41:20.515187",
     "status": "completed"
    },
    "tags": []
   },
   "outputs": [],
   "source": [
    " # # Iterate through all video files\n",
    " #        for file_name in files_list:\n",
    " #            video_file_path = os.path.join(class_path, file_name)\n",
    "\n",
    " #            # Extract frames using the updated frames_extraction function\n",
    " #            frames = frames_extraction(video_file_path, sequence_length, image_height, image_width)\n",
    "\n",
    " #            # Skip videos where frame extraction failed\n",
    " #            if frames is None:\n",
    " #                print(f\"Skipping video {video_file_path} due to frame extraction failure\")\n",
    " #                continue\n",
    "\n",
    " #            # Append the data to respective lists\n",
    " #            features.append(frames)\n",
    " #            labels.append(class_index)"
   ]
  },
  {
   "cell_type": "markdown",
   "id": "7094a1c5",
   "metadata": {
    "papermill": {
     "duration": 0.008077,
     "end_time": "2025-07-11T17:41:20.545158",
     "exception": false,
     "start_time": "2025-07-11T17:41:20.537081",
     "status": "completed"
    },
    "tags": []
   },
   "source": [
    "## Create Dataset"
   ]
  },
  {
   "cell_type": "code",
   "execution_count": 6,
   "id": "9f9ef8bf",
   "metadata": {
    "execution": {
     "iopub.execute_input": "2025-07-11T17:41:20.562141Z",
     "iopub.status.busy": "2025-07-11T17:41:20.561670Z",
     "iopub.status.idle": "2025-07-11T17:41:20.567708Z",
     "shell.execute_reply": "2025-07-11T17:41:20.567236Z"
    },
    "papermill": {
     "duration": 0.015495,
     "end_time": "2025-07-11T17:41:20.568672",
     "exception": false,
     "start_time": "2025-07-11T17:41:20.553177",
     "status": "completed"
    },
    "tags": []
   },
   "outputs": [],
   "source": [
    "# RUN create dataset function definition\n",
    "def create_dataset(dataset_dir,\n",
    "                   classes_list, \n",
    "                   sequence_length=SEQUENCE_LENGTH, \n",
    "                   image_height=IMAGE_HEIGHT, \n",
    "                   image_width=IMAGE_WIDTH, \n",
    "                   max_videos_per_class=None,\n",
    "                   augmentations=False\n",
    "                  ):\n",
    "    \n",
    "    # Initialize lists to store features, labels, and video file paths\n",
    "    videos = []\n",
    "    labels = []\n",
    "\n",
    "    # Check if dataset directory exists\n",
    "    if not os.path.exists(dataset_dir):\n",
    "        raise FileNotFoundError(f\"Dataset directory not found: {dataset_dir}\")\n",
    "\n",
    "    # Iterate through all classes in the classes list\n",
    "    for class_index, class_name in enumerate(classes_list):\n",
    "        class_path = os.path.join(dataset_dir, class_name)\n",
    "        \n",
    "        # Check if class directory exists\n",
    "        if not os.path.exists(class_path):\n",
    "            print(f\"Warning: Class directory not found: {class_path}\")\n",
    "            continue\n",
    "\n",
    "        print(f'Extracting Data of Class: {class_name}')\n",
    "\n",
    "        # Get the list of video files in the class directory\n",
    "        files_list = os.listdir(class_path)\n",
    "\n",
    "        # Limit the number of videos if specified\n",
    "        if max_videos_per_class is not None:\n",
    "            files_list = files_list[:max_videos_per_class]\n",
    "\n",
    "        # Iterate through all video files\n",
    "        for file_name in files_list:\n",
    "            video_file_path = os.path.join(class_path, file_name)\n",
    "\n",
    "            # Extract frames using the updated frames_extraction function\n",
    "            frames = frames_extraction(video_file_path, \n",
    "                                       sequence_length, \n",
    "                                       image_height, \n",
    "                                       image_width)\n",
    "\n",
    "            # Skip videos where frame extraction failed\n",
    "            if frames is None:\n",
    "                print(f\"Skipping video {video_file_path} due to frame extraction failure\")\n",
    "                continue\n",
    "\n",
    "            # Append the data to respective lists\n",
    "            videos.append(frames)\n",
    "            labels.append(class_index)\n",
    "\n",
    "    # Convert lists to numpy arrays\n",
    "    if not videos:\n",
    "        raise ValueError(\"No valid videos were processed. Check dataset or parameters.\")\n",
    "    videos = np.asarray(videos)\n",
    "    labels = np.array(labels)\n",
    "\n",
    "    print(f\"Dataset created with {len(videos)} videos\")\n",
    "    print(f\"Features shape: {videos.shape}\")\n",
    "    print(f\"Labels shape: {labels.shape}\")\n",
    "\n",
    "    return videos, labels"
   ]
  },
  {
   "cell_type": "markdown",
   "id": "7ee185c9",
   "metadata": {
    "papermill": {
     "duration": 0.0079,
     "end_time": "2025-07-11T17:41:20.584673",
     "exception": false,
     "start_time": "2025-07-11T17:41:20.576773",
     "status": "completed"
    },
    "tags": []
   },
   "source": [
    "## 🪄 Video Data Generator"
   ]
  },
  {
   "cell_type": "code",
   "execution_count": 7,
   "id": "65d86f61",
   "metadata": {
    "execution": {
     "iopub.execute_input": "2025-07-11T17:41:20.601448Z",
     "iopub.status.busy": "2025-07-11T17:41:20.601269Z",
     "iopub.status.idle": "2025-07-11T17:41:20.670452Z",
     "shell.execute_reply": "2025-07-11T17:41:20.669908Z"
    },
    "papermill": {
     "duration": 0.078959,
     "end_time": "2025-07-11T17:41:20.671595",
     "exception": false,
     "start_time": "2025-07-11T17:41:20.592636",
     "status": "completed"
    },
    "tags": []
   },
   "outputs": [],
   "source": [
    "from tensorflow.keras.utils import Sequence, to_categorical\n",
    "import tensorflow as tf\n",
    "import numpy as np\n",
    "import cv2\n",
    "\n",
    "\n",
    "\n",
    "\n",
    "class VideoDataGenerator(Sequence):\n",
    "    def __init__(self, videos, labels, batch_size, is_training=False):\n",
    "        self.videos = list(videos)  # List of video file paths\n",
    "        self.labels = list(labels)  # List or array of labels encoded\n",
    "        self.batch_size = batch_size\n",
    "        self.indices = np.arange(len(self.videos))  # For shuffling\n",
    "        self.is_training = is_training  # Flag to control whether augmentation is applied\n",
    "        self.temp_videos=[]\n",
    "        self.temp_labels=[]\n",
    "        \n",
    "        \n",
    "        print(f\"Total {len(videos)} videos and {len(labels)} classes\")\n",
    "\n",
    "    def __len__(self):\n",
    "        # Return the number of batches per epoch\n",
    "        return int(np.ceil(len(self.videos) / self.batch_size))\n",
    "\n",
    "    def __getitem__(self, idx):\n",
    "        # Get batch indices\n",
    "        batch_indices = self.indices[idx * self.batch_size:(idx + 1) * self.batch_size]\n",
    "        \n",
    "        # Handle case where batch_indices is empty\n",
    "        if len(batch_indices) == 0:\n",
    "            return np.array([], dtype=np.float32), np.array([], dtype=np.float32)\n",
    "        \n",
    "        # Initialize lists to store frames and labels\n",
    "        all_frames = []\n",
    "        all_labels = []\n",
    "        \n",
    "        # Process each video in the batch\n",
    "        for i, index in enumerate(batch_indices):\n",
    "            sequence = self.videos[index]\n",
    "            label = self.labels[index]\n",
    "            \n",
    "            # Load and process video\n",
    "            # sequence = frames_extraction(video_path)\n",
    "\n",
    "            # if sequence is not None:\n",
    "            #     # Apply augmentations: 1 original + 4 augmentations (horizontal flip, shear, rotation, noise)\n",
    "            #     augmented_sequences = [sequence]  # Add original sequence\n",
    "\n",
    "            #     if self.is_training:\n",
    "            #         # Apply augmentations\n",
    "            #         augmented_sequences.append(np.array(horizontal_flip(sequence)))  # Horizontal Flip\n",
    "            #         augmented_sequences.append(np.array(apply_shear_frames(sequence, shear_right=0)))  # Random Shear\n",
    "            #         augmented_sequences.append(np.array(apply_shear_frames(sequence, shear_right=1)))  # Random Rotation\n",
    "            #         augmented_sequences.append(np.array(noise_video(sequence)))  # Salt and Pepper Noise\n",
    "\n",
    "            #     # Add augmented sequences to the batch\n",
    "            #     all_frames.extend(augmented_sequences)\n",
    "            #     all_labels.extend([label] * len(augmented_sequences))  # Each augmentation has the same label\n",
    "\n",
    "            \n",
    "            # Append the sequence and label\n",
    "            all_frames.append(sequence)\n",
    "            all_labels.append(label)\n",
    "        \n",
    "        # Convert to numpy arrays\n",
    "        all_frames = np.array(all_frames, dtype=np.float32)\n",
    "        all_labels = np.array(all_labels)\n",
    "            \n",
    "        \n",
    "        return all_frames, all_labels\n",
    "    def add(self, new_videos, new_labels):\n",
    "        self.temp_videos.extend(new_videos)\n",
    "        self.temp_labels.extend(new_labels)\n",
    "    \n",
    "    def confirm(self):\n",
    "        print(f\"Adding {len(self.temp_videos)} videos with {len(self.temp_labels)} classes.\")\n",
    "        self.videos.extend(self.temp_videos)\n",
    "        self.labels.extend(self.temp_labels)\n",
    "        print(f\"Successfully added - {len(self.temp_videos)} videos and {len(self.temp_labels)} classes.\")\n",
    "        self.temp_videos=[]\n",
    "        self.temp_labels=[]\n",
    "        self.indices = np.arange(len(self.videos))\n",
    "        print(f\"Now Total - {len(self.videos)} videos and {len(self.labels)} classes.\")\n",
    "        print(f\"PENDING for Augmentations - {len(self.temp_videos)} videos and {len(self.temp_labels)} classes.\")\n",
    "    \n",
    "    def on_epoch_end(self):\n",
    "        # Shuffle indices at the end of each epoch\n",
    "        np.random.shuffle(self.indices)\n",
    "\n",
    "    def as_dataset(self):\n",
    "        def generator():\n",
    "            for idx in range(len(self)):\n",
    "                frames, labels = self[idx]\n",
    "                # Skip empty batches\n",
    "                if frames.size == 0:\n",
    "                    continue\n",
    "                yield frames, labels\n",
    "        self.labels=np.array(self.labels)\n",
    "    \n",
    "        # Create a tf.data.Dataset\n",
    "        dataset = tf.data.Dataset.from_generator(\n",
    "            generator,\n",
    "            output_types=(tf.float32, tf.float32),\n",
    "            output_shapes=(\n",
    "                (None, SEQUENCE_LENGTH, IMAGE_HEIGHT, IMAGE_WIDTH, 3),\n",
    "                (None, NO_OF_CLASSES)\n",
    "            )\n",
    "        )\n",
    "        dataset = dataset.prefetch(tf.data.AUTOTUNE)\n",
    "        return dataset"
   ]
  },
  {
   "cell_type": "markdown",
   "id": "e90f0ef8",
   "metadata": {
    "papermill": {
     "duration": 0.008035,
     "end_time": "2025-07-11T17:41:20.688341",
     "exception": false,
     "start_time": "2025-07-11T17:41:20.680306",
     "status": "completed"
    },
    "tags": []
   },
   "source": [
    "## Debug and Helpers"
   ]
  },
  {
   "cell_type": "markdown",
   "id": "3442c3e7",
   "metadata": {
    "papermill": {
     "duration": 0.008009,
     "end_time": "2025-07-11T17:41:20.704499",
     "exception": false,
     "start_time": "2025-07-11T17:41:20.696490",
     "status": "completed"
    },
    "tags": []
   },
   "source": [
    "## 💫 Augmentation Helper function"
   ]
  },
  {
   "cell_type": "code",
   "execution_count": 8,
   "id": "5889936f",
   "metadata": {
    "execution": {
     "iopub.execute_input": "2025-07-11T17:41:20.765147Z",
     "iopub.status.busy": "2025-07-11T17:41:20.764364Z",
     "iopub.status.idle": "2025-07-11T17:41:20.769350Z",
     "shell.execute_reply": "2025-07-11T17:41:20.768782Z"
    },
    "papermill": {
     "duration": 0.015088,
     "end_time": "2025-07-11T17:41:20.770402",
     "exception": false,
     "start_time": "2025-07-11T17:41:20.755314",
     "status": "completed"
    },
    "tags": []
   },
   "outputs": [],
   "source": [
    "import time\n",
    "\n",
    "    \n",
    "\n",
    "def apply_augmentation(augmentation_function, generator, confirm=False, *args, **kwargs):\n",
    "    \n",
    "    for i in range(len(generator)):\n",
    "        batch_videos, batch_labels = generator[i]\n",
    "        augmented_videos=[]\n",
    "        for videos in batch_videos:\n",
    "            augmented_videos.append(augmentation_function(videos, *args, **kwargs))\n",
    "        generator.add(augmented_videos, batch_labels)\n",
    "        print(f\"Processing video {len(generator.temp_videos)}...\", end=\"\\r\", flush=True)\n",
    "        time.sleep(0.5)  # simulate work\n",
    "    if confirm:\n",
    "        generator.confirm()"
   ]
  },
  {
   "cell_type": "markdown",
   "id": "8f2f21d8",
   "metadata": {
    "papermill": {
     "duration": 0.007973,
     "end_time": "2025-07-11T17:41:20.786475",
     "exception": false,
     "start_time": "2025-07-11T17:41:20.778502",
     "status": "completed"
    },
    "tags": []
   },
   "source": [
    "### Show Frames"
   ]
  },
  {
   "cell_type": "code",
   "execution_count": 9,
   "id": "292a3251",
   "metadata": {
    "execution": {
     "iopub.execute_input": "2025-07-11T17:41:20.803734Z",
     "iopub.status.busy": "2025-07-11T17:41:20.803534Z",
     "iopub.status.idle": "2025-07-11T17:41:20.806949Z",
     "shell.execute_reply": "2025-07-11T17:41:20.806460Z"
    },
    "papermill": {
     "duration": 0.013356,
     "end_time": "2025-07-11T17:41:20.808010",
     "exception": false,
     "start_time": "2025-07-11T17:41:20.794654",
     "status": "completed"
    },
    "tags": []
   },
   "outputs": [],
   "source": [
    "# show frame def\n",
    "import matplotlib.pyplot as plt\n",
    "\n",
    "def show_frame(frame):\n",
    "    plt.figure(figsize=(3,3))\n",
    "    plt.imshow(frame)\n",
    "    plt.axis(\"off\")\n",
    "    plt.tight_layout()"
   ]
  },
  {
   "cell_type": "markdown",
   "id": "77882040",
   "metadata": {
    "papermill": {
     "duration": 0.008052,
     "end_time": "2025-07-11T17:41:20.824291",
     "exception": false,
     "start_time": "2025-07-11T17:41:20.816239",
     "status": "completed"
    },
    "tags": []
   },
   "source": [
    "### Helper Function"
   ]
  },
  {
   "cell_type": "code",
   "execution_count": 10,
   "id": "5df5f4fb",
   "metadata": {
    "execution": {
     "iopub.execute_input": "2025-07-11T17:41:20.842378Z",
     "iopub.status.busy": "2025-07-11T17:41:20.842165Z",
     "iopub.status.idle": "2025-07-11T17:41:20.846360Z",
     "shell.execute_reply": "2025-07-11T17:41:20.845669Z"
    },
    "papermill": {
     "duration": 0.013891,
     "end_time": "2025-07-11T17:41:20.847433",
     "exception": false,
     "start_time": "2025-07-11T17:41:20.833542",
     "status": "completed"
    },
    "tags": []
   },
   "outputs": [],
   "source": [
    "def show_frame_vs(frame1, frame2, title1=\"Frame 1\", title2=\"Frame 2\"):\n",
    "    plt.figure(figsize=(10, 5))\n",
    "\n",
    "    # First frame\n",
    "    plt.subplot(1, 2, 1)\n",
    "    plt.imshow(frame1)\n",
    "    plt.title(title1)\n",
    "    plt.axis('off')\n",
    "\n",
    "    # Second frame\n",
    "    plt.subplot(1, 2, 2)\n",
    "    plt.imshow(frame2)\n",
    "    plt.title(title2)\n",
    "    plt.axis('off')\n",
    "\n",
    "    plt.tight_layout()\n",
    "    plt.show()"
   ]
  },
  {
   "cell_type": "code",
   "execution_count": 11,
   "id": "a606b4a3",
   "metadata": {
    "execution": {
     "iopub.execute_input": "2025-07-11T17:41:20.864386Z",
     "iopub.status.busy": "2025-07-11T17:41:20.864216Z",
     "iopub.status.idle": "2025-07-11T17:41:20.867429Z",
     "shell.execute_reply": "2025-07-11T17:41:20.866931Z"
    },
    "papermill": {
     "duration": 0.012869,
     "end_time": "2025-07-11T17:41:20.868462",
     "exception": false,
     "start_time": "2025-07-11T17:41:20.855593",
     "status": "completed"
    },
    "tags": []
   },
   "outputs": [],
   "source": [
    "# reusable video loop helper function\n",
    "def apply_function(function, videos, *arg, **kwargs):\n",
    "    new_videos=[]\n",
    "    \n",
    "    for video in videos:\n",
    "        new_videos.append(function(video, *arg, **kwargs))\n",
    "        \n",
    "    return new_videos"
   ]
  },
  {
   "cell_type": "code",
   "execution_count": 12,
   "id": "1b4afe97",
   "metadata": {
    "execution": {
     "iopub.execute_input": "2025-07-11T17:41:20.885469Z",
     "iopub.status.busy": "2025-07-11T17:41:20.885291Z",
     "iopub.status.idle": "2025-07-11T17:41:20.889043Z",
     "shell.execute_reply": "2025-07-11T17:41:20.888513Z"
    },
    "papermill": {
     "duration": 0.013363,
     "end_time": "2025-07-11T17:41:20.890045",
     "exception": false,
     "start_time": "2025-07-11T17:41:20.876682",
     "status": "completed"
    },
    "tags": []
   },
   "outputs": [],
   "source": [
    "# reusable video loop helper function\n",
    "def apply(function, videos, labels, *arg, **kwargs):\n",
    "    new_videos=[]\n",
    "    new_labels=[]\n",
    "    combined=zip(labels, videos)\n",
    "    \n",
    "    for label, video in combined:\n",
    "        new_videos.append(function(video, *arg, **kwargs))\n",
    "        new_labels.append(label)\n",
    "        \n",
    "    new_videos=np.asarray(new_videos)\n",
    "    new_labels=np.asarray(new_labels)\n",
    "    \n",
    "    return new_videos, new_labels"
   ]
  },
  {
   "cell_type": "markdown",
   "id": "47f68b77",
   "metadata": {
    "papermill": {
     "duration": 0.00804,
     "end_time": "2025-07-11T17:41:20.906542",
     "exception": false,
     "start_time": "2025-07-11T17:41:20.898502",
     "status": "completed"
    },
    "tags": []
   },
   "source": [
    "## Salt and Pepper Noise "
   ]
  },
  {
   "cell_type": "code",
   "execution_count": 13,
   "id": "3736aae0",
   "metadata": {
    "execution": {
     "iopub.execute_input": "2025-07-11T17:41:20.924482Z",
     "iopub.status.busy": "2025-07-11T17:41:20.924298Z",
     "iopub.status.idle": "2025-07-11T17:41:20.928201Z",
     "shell.execute_reply": "2025-07-11T17:41:20.927685Z"
    },
    "papermill": {
     "duration": 0.014475,
     "end_time": "2025-07-11T17:41:20.929248",
     "exception": false,
     "start_time": "2025-07-11T17:41:20.914773",
     "status": "completed"
    },
    "tags": []
   },
   "outputs": [],
   "source": [
    "# Noise function def\n",
    "\n",
    "def noise_video(video,noise_factor=NOISE_FACTOR):\n",
    "    noisy_video=[]\n",
    "    for frame in video:\n",
    "        # Generate random noise\n",
    "        noise = np.random.rand(*frame.shape)  # Generate random noise\n",
    "        salt_pepper_noise = np.random.choice([0, 1], size=frame.shape, p=[1-noise_factor, noise_factor])\n",
    "        noisy_frame = frame * (1 - salt_pepper_noise) + salt_pepper_noise * np.random.rand(*frame.shape)\n",
    "        noisy_video.append(noisy_frame)\n",
    "    return np.array(noisy_video)"
   ]
  },
  {
   "cell_type": "markdown",
   "id": "bc557ba2",
   "metadata": {
    "papermill": {
     "duration": 0.0079,
     "end_time": "2025-07-11T17:41:20.945564",
     "exception": false,
     "start_time": "2025-07-11T17:41:20.937664",
     "status": "completed"
    },
    "tags": []
   },
   "source": [
    "## Horizontal Flip"
   ]
  },
  {
   "cell_type": "code",
   "execution_count": 14,
   "id": "9efbe024",
   "metadata": {
    "execution": {
     "iopub.execute_input": "2025-07-11T17:41:20.962697Z",
     "iopub.status.busy": "2025-07-11T17:41:20.962504Z",
     "iopub.status.idle": "2025-07-11T17:41:20.965578Z",
     "shell.execute_reply": "2025-07-11T17:41:20.965080Z"
    },
    "papermill": {
     "duration": 0.012796,
     "end_time": "2025-07-11T17:41:20.966622",
     "exception": false,
     "start_time": "2025-07-11T17:41:20.953826",
     "status": "completed"
    },
    "tags": []
   },
   "outputs": [],
   "source": [
    "# horizontal flip function def\n",
    "# Testing Flip feautes[0] -> first video\n",
    "def horizontal_flip(video):\n",
    "    return [tf.image.flip_left_right(frame) for frame in video]"
   ]
  },
  {
   "cell_type": "markdown",
   "id": "6d8878ab",
   "metadata": {
    "papermill": {
     "duration": 0.008495,
     "end_time": "2025-07-11T17:41:20.983276",
     "exception": false,
     "start_time": "2025-07-11T17:41:20.974781",
     "status": "completed"
    },
    "tags": []
   },
   "source": [
    "## Random Shear"
   ]
  },
  {
   "cell_type": "code",
   "execution_count": 15,
   "id": "14e9a2b5",
   "metadata": {
    "execution": {
     "iopub.execute_input": "2025-07-11T17:41:21.000257Z",
     "iopub.status.busy": "2025-07-11T17:41:21.000067Z",
     "iopub.status.idle": "2025-07-11T17:41:21.005445Z",
     "shell.execute_reply": "2025-07-11T17:41:21.005027Z"
    },
    "papermill": {
     "duration": 0.015083,
     "end_time": "2025-07-11T17:41:21.006449",
     "exception": false,
     "start_time": "2025-07-11T17:41:20.991366",
     "status": "completed"
    },
    "tags": []
   },
   "outputs": [],
   "source": [
    "# random shear function def\n",
    "import numpy as np\n",
    "import tensorflow as tf\n",
    "from scipy.ndimage import affine_transform\n",
    "\n",
    "def apply_shear_frames(frames, shear_right):\n",
    "    return [apply_shear(frame, shear_right) for frame in frames]\n",
    "\n",
    "def apply_shear(frame, shear_right=0):\n",
    "    frame_resized = tf.image.resize(frame, (IMAGE_HEIGHT, IMAGE_WIDTH)).numpy()\n",
    "    if shear_right:\n",
    "        shear_x = 0.09\n",
    "        shear_y = 0.1\n",
    "    else:\n",
    "        shear_x = -0.09\n",
    "        shear_y = 0.3\n",
    "    # Construct the affine matrix for scipy: inverse of the transformation matrix\n",
    "    # scipy applies the inverse transform matrix\n",
    "    shear_matrix = np.array([\n",
    "        [1, shear_x, 0],\n",
    "        [shear_y, 1, 0],\n",
    "        [0, 0, 1]\n",
    "    ], dtype=np.float32)\n",
    "\n",
    "    # Extract 2x2 part for affine_transform\n",
    "    matrix = shear_matrix[:2, :2]\n",
    "\n",
    "    # Offset (no translation)\n",
    "    offset = [0, 0]\n",
    "\n",
    "    # Apply affine transform on each channel separately\n",
    "    sheared = np.zeros_like(frame_resized)\n",
    "    for c in range(3):\n",
    "        sheared[..., c] = affine_transform(\n",
    "            frame_resized[..., c],\n",
    "            matrix=matrix,\n",
    "            offset=offset,\n",
    "            order=1,          # bilinear interpolation\n",
    "            mode='nearest'    # fill_mode\n",
    "        )\n",
    "    return sheared"
   ]
  },
  {
   "cell_type": "markdown",
   "id": "171dcfcb",
   "metadata": {
    "papermill": {
     "duration": 0.008008,
     "end_time": "2025-07-11T17:41:21.022794",
     "exception": false,
     "start_time": "2025-07-11T17:41:21.014786",
     "status": "completed"
    },
    "tags": []
   },
   "source": [
    "# 📌 Model Related\n",
    "## 🗼 Model Architecture `create_model`"
   ]
  },
  {
   "cell_type": "markdown",
   "id": "c26e1769",
   "metadata": {
    "papermill": {
     "duration": 0.008164,
     "end_time": "2025-07-11T17:41:21.038911",
     "exception": false,
     "start_time": "2025-07-11T17:41:21.030747",
     "status": "completed"
    },
    "tags": []
   },
   "source": [
    "# 📌 Execution\n",
    "## Creating Dataset\n",
    "The following functions are executed\n",
    "- `frame extraction`\n",
    "- `resize`\n",
    "\n",
    "which returns:\n",
    "- `features` - `np.array` of all the videos\n",
    "- `labels` - `np.array` of all the class labels"
   ]
  },
  {
   "cell_type": "code",
   "execution_count": 16,
   "id": "217e5477",
   "metadata": {
    "execution": {
     "iopub.execute_input": "2025-07-11T17:41:21.056965Z",
     "iopub.status.busy": "2025-07-11T17:41:21.056700Z",
     "iopub.status.idle": "2025-07-11T17:50:29.914649Z",
     "shell.execute_reply": "2025-07-11T17:50:29.913924Z"
    },
    "papermill": {
     "duration": 548.877181,
     "end_time": "2025-07-11T17:50:29.924513",
     "exception": false,
     "start_time": "2025-07-11T17:41:21.047332",
     "status": "completed"
    },
    "tags": []
   },
   "outputs": [
    {
     "name": "stdout",
     "output_type": "stream",
     "text": [
      "Extracting Data of Class: write\n",
      "Extracting Data of Class: sit still\n",
      "Extracting Data of Class: sit down\n",
      "Extracting Data of Class: move hands in front of the body\n",
      "Extracting Data of Class: raise one leg up\n",
      "Extracting Data of Class: drink from a bottle\n",
      "Extracting Data of Class: stand up\n",
      "Extracting Data of Class: read\n",
      "Extracting Data of Class: throw paper\n",
      "Extracting Data of Class: walk\n",
      "Extracting Data of Class: drink from a mug\n",
      "Extracting Data of Class: fall from bed\n",
      "Extracting Data of Class: faint\n",
      "Extracting Data of Class: raise one hand up\n",
      "Extracting Data of Class: cheer up\n",
      "Extracting Data of Class: move hands close to the body\n",
      "Dataset created with 800 videos\n",
      "Features shape: (800, 5, 128, 128, 3)\n",
      "Labels shape: (800,)\n"
     ]
    },
    {
     "data": {
      "text/plain": [
       "((800, 5, 128, 128, 3), (800,))"
      ]
     },
     "execution_count": 16,
     "metadata": {},
     "output_type": "execute_result"
    }
   ],
   "source": [
    "# RUN Create the dataset with explicit parameters\n",
    "try:\n",
    "    videos, labels = create_dataset(\n",
    "        dataset_dir=DATASET_DIR,\n",
    "        classes_list=CLASSES_LIST,\n",
    "        sequence_length=SEQUENCE_LENGTH,\n",
    "        image_height=IMAGE_HEIGHT,\n",
    "        image_width=IMAGE_WIDTH,\n",
    "        # Limit to 10 videos per class to manage memory\n",
    "        augmentations=True,\n",
    "        max_videos_per_class=MAX_VIDEO_PER_CLASS\n",
    "    )\n",
    "except FileNotFoundError as e:\n",
    "    print(f\"Error: {e}\")\n",
    "except ValueError as e:\n",
    "    print(f\"Error: {e}\")\n",
    "except Exception as e:\n",
    "    print(f\"Unexpected error: {e}\")\n",
    "\n",
    "videos.shape, labels.shape"
   ]
  },
  {
   "cell_type": "code",
   "execution_count": 17,
   "id": "dfc30a83",
   "metadata": {
    "execution": {
     "iopub.execute_input": "2025-07-11T17:50:29.943232Z",
     "iopub.status.busy": "2025-07-11T17:50:29.943028Z",
     "iopub.status.idle": "2025-07-11T17:50:29.947074Z",
     "shell.execute_reply": "2025-07-11T17:50:29.946331Z"
    },
    "papermill": {
     "duration": 0.014505,
     "end_time": "2025-07-11T17:50:29.948177",
     "exception": false,
     "start_time": "2025-07-11T17:50:29.933672",
     "status": "completed"
    },
    "tags": []
   },
   "outputs": [
    {
     "name": "stdout",
     "output_type": "stream",
     "text": [
      "Total 800 videos and 800 classes\n"
     ]
    }
   ],
   "source": [
    "video_generator = VideoDataGenerator(\n",
    "    videos=videos,\n",
    "    labels=labels,\n",
    "    batch_size=BATCH_SIZE\n",
    ")"
   ]
  },
  {
   "cell_type": "code",
   "execution_count": 18,
   "id": "8c1f8fd9",
   "metadata": {
    "execution": {
     "iopub.execute_input": "2025-07-11T17:50:29.966650Z",
     "iopub.status.busy": "2025-07-11T17:50:29.966212Z",
     "iopub.status.idle": "2025-07-11T17:50:29.978135Z",
     "shell.execute_reply": "2025-07-11T17:50:29.977558Z"
    },
    "papermill": {
     "duration": 0.022134,
     "end_time": "2025-07-11T17:50:29.979132",
     "exception": false,
     "start_time": "2025-07-11T17:50:29.956998",
     "status": "completed"
    },
    "tags": []
   },
   "outputs": [
    {
     "data": {
      "text/plain": [
       "((24, 5, 128, 128, 3), (24,))"
      ]
     },
     "execution_count": 18,
     "metadata": {},
     "output_type": "execute_result"
    }
   ],
   "source": [
    "videos, labels = video_generator[3]\n",
    "\n",
    "videos.shape, labels.shape"
   ]
  },
  {
   "cell_type": "code",
   "execution_count": 19,
   "id": "2ab4ea4e",
   "metadata": {
    "execution": {
     "iopub.execute_input": "2025-07-11T17:50:29.997685Z",
     "iopub.status.busy": "2025-07-11T17:50:29.997095Z",
     "iopub.status.idle": "2025-07-11T17:50:30.001062Z",
     "shell.execute_reply": "2025-07-11T17:50:30.000538Z"
    },
    "papermill": {
     "duration": 0.014213,
     "end_time": "2025-07-11T17:50:30.002133",
     "exception": false,
     "start_time": "2025-07-11T17:50:29.987920",
     "status": "completed"
    },
    "tags": []
   },
   "outputs": [
    {
     "data": {
      "text/plain": [
       "800"
      ]
     },
     "execution_count": 19,
     "metadata": {},
     "output_type": "execute_result"
    }
   ],
   "source": [
    "len(video_generator.videos) "
   ]
  },
  {
   "cell_type": "code",
   "execution_count": 20,
   "id": "39fb13fc",
   "metadata": {
    "execution": {
     "iopub.execute_input": "2025-07-11T17:50:30.020556Z",
     "iopub.status.busy": "2025-07-11T17:50:30.020374Z",
     "iopub.status.idle": "2025-07-11T17:50:30.024416Z",
     "shell.execute_reply": "2025-07-11T17:50:30.023887Z"
    },
    "papermill": {
     "duration": 0.014236,
     "end_time": "2025-07-11T17:50:30.025356",
     "exception": false,
     "start_time": "2025-07-11T17:50:30.011120",
     "status": "completed"
    },
    "tags": []
   },
   "outputs": [
    {
     "data": {
      "text/plain": [
       "34"
      ]
     },
     "execution_count": 20,
     "metadata": {},
     "output_type": "execute_result"
    }
   ],
   "source": [
    "len(video_generator)"
   ]
  },
  {
   "cell_type": "markdown",
   "id": "b06285b8",
   "metadata": {
    "papermill": {
     "duration": 0.008918,
     "end_time": "2025-07-11T17:50:30.043226",
     "exception": false,
     "start_time": "2025-07-11T17:50:30.034308",
     "status": "completed"
    },
    "tags": []
   },
   "source": [
    "## Apply ***horizontal flip*** (Augmentation)"
   ]
  },
  {
   "cell_type": "code",
   "execution_count": 21,
   "id": "b4e35b3e",
   "metadata": {
    "execution": {
     "iopub.execute_input": "2025-07-11T17:50:30.063961Z",
     "iopub.status.busy": "2025-07-11T17:50:30.063700Z",
     "iopub.status.idle": "2025-07-11T17:50:50.544161Z",
     "shell.execute_reply": "2025-07-11T17:50:50.543484Z"
    },
    "papermill": {
     "duration": 20.492351,
     "end_time": "2025-07-11T17:50:50.545556",
     "exception": false,
     "start_time": "2025-07-11T17:50:30.053205",
     "status": "completed"
    },
    "tags": []
   },
   "outputs": [
    {
     "name": "stdout",
     "output_type": "stream",
     "text": [
      "Processing video 24...\r"
     ]
    },
    {
     "name": "stderr",
     "output_type": "stream",
     "text": [
      "I0000 00:00:1752256231.040461      18 gpu_device.cc:2022] Created device /job:localhost/replica:0/task:0/device:GPU:0 with 13942 MB memory:  -> device: 0, name: Tesla T4, pci bus id: 0000:00:04.0, compute capability: 7.5\n",
      "I0000 00:00:1752256231.041248      18 gpu_device.cc:2022] Created device /job:localhost/replica:0/task:0/device:GPU:1 with 13942 MB memory:  -> device: 1, name: Tesla T4, pci bus id: 0000:00:05.0, compute capability: 7.5\n"
     ]
    },
    {
     "name": "stdout",
     "output_type": "stream",
     "text": [
      "Processing video 800...\r"
     ]
    }
   ],
   "source": [
    "apply_augmentation(horizontal_flip, video_generator)"
   ]
  },
  {
   "cell_type": "code",
   "execution_count": 22,
   "id": "ba3f0f54",
   "metadata": {
    "execution": {
     "iopub.execute_input": "2025-07-11T17:50:50.568633Z",
     "iopub.status.busy": "2025-07-11T17:50:50.568390Z",
     "iopub.status.idle": "2025-07-11T17:50:50.572467Z",
     "shell.execute_reply": "2025-07-11T17:50:50.571906Z"
    },
    "papermill": {
     "duration": 0.016515,
     "end_time": "2025-07-11T17:50:50.573560",
     "exception": false,
     "start_time": "2025-07-11T17:50:50.557045",
     "status": "completed"
    },
    "tags": []
   },
   "outputs": [
    {
     "name": "stdout",
     "output_type": "stream",
     "text": [
      "Checking Total Videos and Class Count: 800, 800\n",
      "PENDING Total Videos and Class Count: 800, 800\n"
     ]
    }
   ],
   "source": [
    "print(f\"Checking Total Videos and Class Count: {len(video_generator.videos)}, {len(video_generator.labels)}\")\n",
    "print(f\"PENDING Total Videos and Class Count: {len(video_generator.temp_videos)}, {len(video_generator.temp_labels)}\")"
   ]
  },
  {
   "cell_type": "code",
   "execution_count": 23,
   "id": "1d3f269f",
   "metadata": {
    "execution": {
     "iopub.execute_input": "2025-07-11T17:50:50.595845Z",
     "iopub.status.busy": "2025-07-11T17:50:50.595639Z",
     "iopub.status.idle": "2025-07-11T17:50:50.599699Z",
     "shell.execute_reply": "2025-07-11T17:50:50.598925Z"
    },
    "papermill": {
     "duration": 0.016719,
     "end_time": "2025-07-11T17:50:50.601059",
     "exception": false,
     "start_time": "2025-07-11T17:50:50.584340",
     "status": "completed"
    },
    "tags": []
   },
   "outputs": [
    {
     "name": "stdout",
     "output_type": "stream",
     "text": [
      "Adding 800 videos with 800 classes.\n",
      "Successfully added - 800 videos and 800 classes.\n",
      "Now Total - 1600 videos and 1600 classes.\n",
      "PENDING for Augmentations - 0 videos and 0 classes.\n"
     ]
    }
   ],
   "source": [
    "video_generator.confirm()"
   ]
  },
  {
   "cell_type": "markdown",
   "id": "93ad082a",
   "metadata": {
    "papermill": {
     "duration": 0.010118,
     "end_time": "2025-07-11T17:50:50.622968",
     "exception": false,
     "start_time": "2025-07-11T17:50:50.612850",
     "status": "completed"
    },
    "tags": []
   },
   "source": [
    "## Apply ***Noise*** (Augmentation)"
   ]
  },
  {
   "cell_type": "code",
   "execution_count": 24,
   "id": "0242486e",
   "metadata": {
    "execution": {
     "iopub.execute_input": "2025-07-11T17:50:50.644309Z",
     "iopub.status.busy": "2025-07-11T17:50:50.644106Z",
     "iopub.status.idle": "2025-07-11T17:51:43.039808Z",
     "shell.execute_reply": "2025-07-11T17:51:43.039000Z"
    },
    "papermill": {
     "duration": 52.40801,
     "end_time": "2025-07-11T17:51:43.041328",
     "exception": false,
     "start_time": "2025-07-11T17:50:50.633318",
     "status": "completed"
    },
    "tags": []
   },
   "outputs": [
    {
     "name": "stdout",
     "output_type": "stream",
     "text": [
      "Processing video 1600...\r"
     ]
    }
   ],
   "source": [
    "apply_augmentation(noise_video, video_generator)"
   ]
  },
  {
   "cell_type": "code",
   "execution_count": 25,
   "id": "2be1cdd8",
   "metadata": {
    "execution": {
     "iopub.execute_input": "2025-07-11T17:51:43.069793Z",
     "iopub.status.busy": "2025-07-11T17:51:43.069215Z",
     "iopub.status.idle": "2025-07-11T17:51:43.073654Z",
     "shell.execute_reply": "2025-07-11T17:51:43.072928Z"
    },
    "papermill": {
     "duration": 0.019657,
     "end_time": "2025-07-11T17:51:43.074815",
     "exception": false,
     "start_time": "2025-07-11T17:51:43.055158",
     "status": "completed"
    },
    "tags": []
   },
   "outputs": [
    {
     "name": "stdout",
     "output_type": "stream",
     "text": [
      "Checking Total Videos and Class Count: 1600, 1600\n",
      "PENDING Total Videos and Class Count: 1600, 1600\n"
     ]
    }
   ],
   "source": [
    "print(f\"Checking Total Videos and Class Count: {len(video_generator.videos)}, {len(video_generator.labels)}\")\n",
    "print(f\"PENDING Total Videos and Class Count: {len(video_generator.temp_videos)}, {len(video_generator.temp_labels)}\")"
   ]
  },
  {
   "cell_type": "markdown",
   "id": "db7710fd",
   "metadata": {
    "papermill": {
     "duration": 0.013339,
     "end_time": "2025-07-11T17:51:43.101522",
     "exception": false,
     "start_time": "2025-07-11T17:51:43.088183",
     "status": "completed"
    },
    "tags": []
   },
   "source": [
    "## Apply ***Random Shear x2*** (Augmentation)"
   ]
  },
  {
   "cell_type": "code",
   "execution_count": 26,
   "id": "71ec10e3",
   "metadata": {
    "execution": {
     "iopub.execute_input": "2025-07-11T17:51:43.130595Z",
     "iopub.status.busy": "2025-07-11T17:51:43.130342Z",
     "iopub.status.idle": "2025-07-11T17:53:52.304189Z",
     "shell.execute_reply": "2025-07-11T17:53:52.303345Z"
    },
    "papermill": {
     "duration": 129.190797,
     "end_time": "2025-07-11T17:53:52.305561",
     "exception": false,
     "start_time": "2025-07-11T17:51:43.114764",
     "status": "completed"
    },
    "tags": []
   },
   "outputs": [
    {
     "name": "stdout",
     "output_type": "stream",
     "text": [
      "Processing video 4800...\r"
     ]
    }
   ],
   "source": [
    "apply_augmentation(apply_shear_frames, video_generator, shear_right=0)\n",
    "apply_augmentation(apply_shear_frames, video_generator, shear_right=1)"
   ]
  },
  {
   "cell_type": "code",
   "execution_count": 27,
   "id": "505930f5",
   "metadata": {
    "execution": {
     "iopub.execute_input": "2025-07-11T17:53:52.342396Z",
     "iopub.status.busy": "2025-07-11T17:53:52.342163Z",
     "iopub.status.idle": "2025-07-11T17:53:52.345976Z",
     "shell.execute_reply": "2025-07-11T17:53:52.345358Z"
    },
    "papermill": {
     "duration": 0.023073,
     "end_time": "2025-07-11T17:53:52.347084",
     "exception": false,
     "start_time": "2025-07-11T17:53:52.324011",
     "status": "completed"
    },
    "tags": []
   },
   "outputs": [
    {
     "name": "stdout",
     "output_type": "stream",
     "text": [
      "Checking Total Videos and Class Count: 1600, 1600\n",
      "PENDING Total Videos and Class Count: 4800, 4800\n"
     ]
    }
   ],
   "source": [
    "print(f\"Checking Total Videos and Class Count: {len(video_generator.videos)}, {len(video_generator.labels)}\")\n",
    "print(f\"PENDING Total Videos and Class Count: {len(video_generator.temp_videos)}, {len(video_generator.temp_labels)}\")"
   ]
  },
  {
   "cell_type": "code",
   "execution_count": 28,
   "id": "97246c59",
   "metadata": {
    "execution": {
     "iopub.execute_input": "2025-07-11T17:53:52.383393Z",
     "iopub.status.busy": "2025-07-11T17:53:52.383191Z",
     "iopub.status.idle": "2025-07-11T17:53:52.386923Z",
     "shell.execute_reply": "2025-07-11T17:53:52.386218Z"
    },
    "papermill": {
     "duration": 0.023263,
     "end_time": "2025-07-11T17:53:52.387954",
     "exception": false,
     "start_time": "2025-07-11T17:53:52.364691",
     "status": "completed"
    },
    "tags": []
   },
   "outputs": [
    {
     "name": "stdout",
     "output_type": "stream",
     "text": [
      "Adding 4800 videos with 4800 classes.\n",
      "Successfully added - 4800 videos and 4800 classes.\n",
      "Now Total - 6400 videos and 6400 classes.\n",
      "PENDING for Augmentations - 0 videos and 0 classes.\n"
     ]
    }
   ],
   "source": [
    "# confirm changes to generator\n",
    "video_generator.confirm()"
   ]
  },
  {
   "cell_type": "code",
   "execution_count": 29,
   "id": "5e1f51f5",
   "metadata": {
    "execution": {
     "iopub.execute_input": "2025-07-11T17:53:52.424267Z",
     "iopub.status.busy": "2025-07-11T17:53:52.424045Z",
     "iopub.status.idle": "2025-07-11T17:53:52.427589Z",
     "shell.execute_reply": "2025-07-11T17:53:52.427026Z"
    },
    "papermill": {
     "duration": 0.02289,
     "end_time": "2025-07-11T17:53:52.428580",
     "exception": false,
     "start_time": "2025-07-11T17:53:52.405690",
     "status": "completed"
    },
    "tags": []
   },
   "outputs": [
    {
     "name": "stdout",
     "output_type": "stream",
     "text": [
      "Checking Video Generator Total Videos and Class Count: 6400, 6400\n"
     ]
    }
   ],
   "source": [
    "print(f\"Checking Video Generator Total Videos and Class Count: {len(video_generator.videos)}, {len(video_generator.labels)}\")"
   ]
  },
  {
   "cell_type": "markdown",
   "id": "980e3b96",
   "metadata": {
    "papermill": {
     "duration": 0.017232,
     "end_time": "2025-07-11T17:53:52.463415",
     "exception": false,
     "start_time": "2025-07-11T17:53:52.446183",
     "status": "completed"
    },
    "tags": []
   },
   "source": [
    "## Cheking (Output)"
   ]
  },
  {
   "cell_type": "code",
   "execution_count": 30,
   "id": "ba551a68",
   "metadata": {
    "execution": {
     "iopub.execute_input": "2025-07-11T17:53:52.499527Z",
     "iopub.status.busy": "2025-07-11T17:53:52.499325Z",
     "iopub.status.idle": "2025-07-11T17:53:52.802150Z",
     "shell.execute_reply": "2025-07-11T17:53:52.801409Z"
    },
    "papermill": {
     "duration": 0.322753,
     "end_time": "2025-07-11T17:53:52.803896",
     "exception": false,
     "start_time": "2025-07-11T17:53:52.481143",
     "status": "completed"
    },
    "tags": []
   },
   "outputs": [
    {
     "name": "stdout",
     "output_type": "stream",
     "text": [
      "(24, 5, 128, 128, 3) (24,)\n"
     ]
    },
    {
     "data": {
      "image/png": "[encoded data removed]",
      "text/plain": [
       "<Figure size 1000x500 with 2 Axes>"
      ]
     },
     "metadata": {},
     "output_type": "display_data"
    },
    {
     "name": "stdout",
     "output_type": "stream",
     "text": [
      "Might be two different action, but to check the flipping focus on the door behind.\n"
     ]
    }
   ],
   "source": [
    "# check horizontal flips\n",
    "videos, labels = video_generator[7]\n",
    "videos1, labels1 = video_generator[1]\n",
    "\n",
    "print(videos.shape, labels.shape)\n",
    "\n",
    "show_frame_vs(videos[0,0],videos1[1,0], title1=\"Flipped Frame 1\", title2=\"Non Flipped Frame 1\")\n",
    "print(\"Might be two different action, but to check the flipping focus on the door behind.\")"
   ]
  },
  {
   "cell_type": "markdown",
   "id": "8413ab95",
   "metadata": {
    "papermill": {
     "duration": 0.019738,
     "end_time": "2025-07-11T17:53:52.844666",
     "exception": false,
     "start_time": "2025-07-11T17:53:52.824928",
     "status": "completed"
    },
    "tags": []
   },
   "source": [
    "# 📌 Preparing Data for Training"
   ]
  },
  {
   "cell_type": "code",
   "execution_count": 31,
   "id": "16aca071",
   "metadata": {
    "execution": {
     "iopub.execute_input": "2025-07-11T17:53:52.885321Z",
     "iopub.status.busy": "2025-07-11T17:53:52.885098Z",
     "iopub.status.idle": "2025-07-11T17:53:53.309246Z",
     "shell.execute_reply": "2025-07-11T17:53:53.308627Z"
    },
    "papermill": {
     "duration": 0.445755,
     "end_time": "2025-07-11T17:53:53.310407",
     "exception": false,
     "start_time": "2025-07-11T17:53:52.864652",
     "status": "completed"
    },
    "tags": []
   },
   "outputs": [],
   "source": [
    "# Clear previous session to free memory\n",
    "import gc\n",
    "\n",
    "gc.collect()\n",
    "tf.keras.backend.clear_session()"
   ]
  },
  {
   "cell_type": "markdown",
   "id": "7a171836",
   "metadata": {
    "papermill": {
     "duration": 0.020762,
     "end_time": "2025-07-11T17:53:53.351898",
     "exception": false,
     "start_time": "2025-07-11T17:53:53.331136",
     "status": "completed"
    },
    "tags": []
   },
   "source": [
    "## Splitting data for ***Trainig*** and ***Testing***"
   ]
  },
  {
   "cell_type": "code",
   "execution_count": 32,
   "id": "7c5432f4",
   "metadata": {
    "execution": {
     "iopub.execute_input": "2025-07-11T17:53:53.393835Z",
     "iopub.status.busy": "2025-07-11T17:53:53.393225Z",
     "iopub.status.idle": "2025-07-11T17:53:55.389321Z",
     "shell.execute_reply": "2025-07-11T17:53:55.388565Z"
    },
    "papermill": {
     "duration": 2.018247,
     "end_time": "2025-07-11T17:53:55.390570",
     "exception": false,
     "start_time": "2025-07-11T17:53:53.372323",
     "status": "completed"
    },
    "tags": []
   },
   "outputs": [
    {
     "data": {
      "text/plain": [
       "((6400, 5, 128, 128, 3), (6400,))"
      ]
     },
     "execution_count": 32,
     "metadata": {},
     "output_type": "execute_result"
    }
   ],
   "source": [
    "videos = video_generator.videos\n",
    "labels = video_generator.labels\n",
    "\n",
    "videos = np.array(videos, dtype='float32')\n",
    "labels = np.array(labels)\n",
    "\n",
    "videos.shape, labels.shape"
   ]
  },
  {
   "cell_type": "code",
   "execution_count": 33,
   "id": "8c772f58",
   "metadata": {
    "execution": {
     "iopub.execute_input": "2025-07-11T17:53:55.432495Z",
     "iopub.status.busy": "2025-07-11T17:53:55.432265Z",
     "iopub.status.idle": "2025-07-11T17:53:55.437595Z",
     "shell.execute_reply": "2025-07-11T17:53:55.436907Z"
    },
    "papermill": {
     "duration": 0.027194,
     "end_time": "2025-07-11T17:53:55.438765",
     "exception": false,
     "start_time": "2025-07-11T17:53:55.411571",
     "status": "completed"
    },
    "tags": []
   },
   "outputs": [
    {
     "data": {
      "text/plain": [
       "(6400, 16)"
      ]
     },
     "execution_count": 33,
     "metadata": {},
     "output_type": "execute_result"
    }
   ],
   "source": [
    "from tensorflow.keras.utils import to_categorical\n",
    "\n",
    "one_hot_encoded_labels = to_categorical(labels)\n",
    "\n",
    "one_hot_encoded_labels.shape"
   ]
  },
  {
   "cell_type": "code",
   "execution_count": 34,
   "id": "8d7581af",
   "metadata": {
    "execution": {
     "iopub.execute_input": "2025-07-11T17:53:55.479512Z",
     "iopub.status.busy": "2025-07-11T17:53:55.479304Z",
     "iopub.status.idle": "2025-07-11T17:53:55.702708Z",
     "shell.execute_reply": "2025-07-11T17:53:55.701915Z"
    },
    "papermill": {
     "duration": 0.245095,
     "end_time": "2025-07-11T17:53:55.704063",
     "exception": false,
     "start_time": "2025-07-11T17:53:55.458968",
     "status": "completed"
    },
    "tags": []
   },
   "outputs": [
    {
     "data": {
      "text/plain": [
       "0"
      ]
     },
     "execution_count": 34,
     "metadata": {},
     "output_type": "execute_result"
    }
   ],
   "source": [
    "gc.collect()"
   ]
  },
  {
   "cell_type": "code",
   "execution_count": 35,
   "id": "9cb4cbc4",
   "metadata": {
    "execution": {
     "iopub.execute_input": "2025-07-11T17:53:55.750444Z",
     "iopub.status.busy": "2025-07-11T17:53:55.750215Z",
     "iopub.status.idle": "2025-07-11T17:53:57.625066Z",
     "shell.execute_reply": "2025-07-11T17:53:57.624261Z"
    },
    "papermill": {
     "duration": 1.899276,
     "end_time": "2025-07-11T17:53:57.626490",
     "exception": false,
     "start_time": "2025-07-11T17:53:55.727214",
     "status": "completed"
    },
    "tags": []
   },
   "outputs": [
    {
     "data": {
      "text/plain": [
       "((5120, 5, 128, 128, 3), (5120, 16), (1280, 5, 128, 128, 3), (1280, 16))"
      ]
     },
     "execution_count": 35,
     "metadata": {},
     "output_type": "execute_result"
    }
   ],
   "source": [
    "# RUN Split the Data into Train ( 75% ) and Test Set ( 25% ).\n",
    "from sklearn.model_selection import train_test_split\n",
    "features_train, features_test, labels_train, labels_test = train_test_split(videos,\n",
    "                                                                            one_hot_encoded_labels,\n",
    "                                                                            test_size = TEST_SIZE,\n",
    "                                                                            shuffle = True,\n",
    "                                                                            random_state = seed_constant)\n",
    "\n",
    "features_train.shape, labels_train.shape, features_test.shape, labels_test.shape"
   ]
  },
  {
   "cell_type": "markdown",
   "id": "28641387",
   "metadata": {
    "papermill": {
     "duration": 0.022493,
     "end_time": "2025-07-11T17:53:57.671520",
     "exception": false,
     "start_time": "2025-07-11T17:53:57.649027",
     "status": "completed"
    },
    "tags": []
   },
   "source": [
    "## Splitting data for ***Training Set*** and ***Validation Set***"
   ]
  },
  {
   "cell_type": "code",
   "execution_count": 36,
   "id": "cfdf1a49",
   "metadata": {
    "execution": {
     "iopub.execute_input": "2025-07-11T17:53:57.714490Z",
     "iopub.status.busy": "2025-07-11T17:53:57.713725Z",
     "iopub.status.idle": "2025-07-11T17:53:57.719981Z",
     "shell.execute_reply": "2025-07-11T17:53:57.719251Z"
    },
    "papermill": {
     "duration": 0.029452,
     "end_time": "2025-07-11T17:53:57.721486",
     "exception": false,
     "start_time": "2025-07-11T17:53:57.692034",
     "status": "completed"
    },
    "tags": []
   },
   "outputs": [
    {
     "data": {
      "text/plain": [
       "((4096, 5, 128, 128, 3), (4096, 16), (1024, 5, 128, 128, 3), (1024, 16))"
      ]
     },
     "execution_count": 36,
     "metadata": {},
     "output_type": "execute_result"
    }
   ],
   "source": [
    "# Assuming features_train and labels_train are defined\n",
    "train_set = 1-VALIDATION_SPLIT\n",
    "\n",
    "train_video_frames, val_video_frames = features_train[:int(train_set * len(features_train))], features_train[int(train_set * len(features_train)):]\n",
    "train_labels, val_labels = labels_train[:int(train_set * len(labels_train))], labels_train[int(train_set * len(labels_train)):]\n",
    "\n",
    "train_video_frames.shape, train_labels.shape, val_video_frames.shape, val_labels.shape"
   ]
  },
  {
   "cell_type": "markdown",
   "id": "6f321b83",
   "metadata": {
    "papermill": {
     "duration": 0.02034,
     "end_time": "2025-07-11T17:53:57.762633",
     "exception": false,
     "start_time": "2025-07-11T17:53:57.742293",
     "status": "completed"
    },
    "tags": []
   },
   "source": [
    "## Use Generator `Video Data Generator`"
   ]
  },
  {
   "cell_type": "code",
   "execution_count": 37,
   "id": "67b0a5df",
   "metadata": {
    "execution": {
     "iopub.execute_input": "2025-07-11T17:53:57.819042Z",
     "iopub.status.busy": "2025-07-11T17:53:57.818526Z",
     "iopub.status.idle": "2025-07-11T17:53:57.826650Z",
     "shell.execute_reply": "2025-07-11T17:53:57.826041Z"
    },
    "papermill": {
     "duration": 0.034262,
     "end_time": "2025-07-11T17:53:57.827746",
     "exception": false,
     "start_time": "2025-07-11T17:53:57.793484",
     "status": "completed"
    },
    "tags": []
   },
   "outputs": [
    {
     "name": "stdout",
     "output_type": "stream",
     "text": [
      "Total 4096 videos and 4096 classes\n",
      "Total 1024 videos and 1024 classes\n"
     ]
    },
    {
     "data": {
      "text/plain": [
       "(171, 43)"
      ]
     },
     "execution_count": 37,
     "metadata": {},
     "output_type": "execute_result"
    }
   ],
   "source": [
    "# Create the training and validation generators\n",
    "train_gen = VideoDataGenerator(\n",
    "    videos=train_video_frames, \n",
    "    labels=train_labels, \n",
    "    batch_size=BATCH_SIZE,\n",
    ")\n",
    "\n",
    "val_gen = VideoDataGenerator(\n",
    "    videos=val_video_frames, \n",
    "    labels=val_labels, \n",
    "    batch_size=BATCH_SIZE,\n",
    ")\n",
    "\n",
    "len(train_gen), len(val_gen)"
   ]
  },
  {
   "cell_type": "markdown",
   "id": "8ca78746",
   "metadata": {
    "papermill": {
     "duration": 0.021113,
     "end_time": "2025-07-11T17:53:57.870550",
     "exception": false,
     "start_time": "2025-07-11T17:53:57.849437",
     "status": "completed"
    },
    "tags": []
   },
   "source": [
    "## Inspect ***Generator*** Data on Epochs"
   ]
  },
  {
   "cell_type": "code",
   "execution_count": 38,
   "id": "02912984",
   "metadata": {
    "execution": {
     "iopub.execute_input": "2025-07-11T17:53:57.914951Z",
     "iopub.status.busy": "2025-07-11T17:53:57.914262Z",
     "iopub.status.idle": "2025-07-11T17:53:57.930590Z",
     "shell.execute_reply": "2025-07-11T17:53:57.929641Z"
    },
    "papermill": {
     "duration": 0.040226,
     "end_time": "2025-07-11T17:53:57.931785",
     "exception": false,
     "start_time": "2025-07-11T17:53:57.891559",
     "status": "completed"
    },
    "tags": []
   },
   "outputs": [
    {
     "name": "stdout",
     "output_type": "stream",
     "text": [
      "[   0    1    2 ... 4093 4094 4095]\n",
      "[1355  207 1540 ...  885 3068 2783]\n"
     ]
    },
    {
     "data": {
      "text/plain": [
       "(24, (24, 5, 128, 128, 3), (24, 16))"
      ]
     },
     "execution_count": 38,
     "metadata": {},
     "output_type": "execute_result"
    }
   ],
   "source": [
    "features, labels = train_gen[1]\n",
    "\n",
    "print(train_gen.indices)\n",
    "\n",
    "train_gen.on_epoch_end()\n",
    "\n",
    "print(train_gen.indices)\n",
    "\n",
    "BATCH_SIZE, features.shape, labels.shape"
   ]
  },
  {
   "cell_type": "markdown",
   "id": "554fb462",
   "metadata": {
    "papermill": {
     "duration": 0.027658,
     "end_time": "2025-07-11T17:53:57.989691",
     "exception": false,
     "start_time": "2025-07-11T17:53:57.962033",
     "status": "completed"
    },
    "tags": []
   },
   "source": [
    "## Compute Class Weight"
   ]
  },
  {
   "cell_type": "code",
   "execution_count": 39,
   "id": "c17141b5",
   "metadata": {
    "execution": {
     "iopub.execute_input": "2025-07-11T17:53:58.033022Z",
     "iopub.status.busy": "2025-07-11T17:53:58.032732Z",
     "iopub.status.idle": "2025-07-11T17:53:58.039476Z",
     "shell.execute_reply": "2025-07-11T17:53:58.038797Z"
    },
    "papermill": {
     "duration": 0.029492,
     "end_time": "2025-07-11T17:53:58.040615",
     "exception": false,
     "start_time": "2025-07-11T17:53:58.011123",
     "status": "completed"
    },
    "tags": []
   },
   "outputs": [
    {
     "name": "stdout",
     "output_type": "stream",
     "text": [
      "Class weights: {0: 1.0, 1: 1.0, 2: 1.0, 3: 1.0, 4: 1.0, 5: 1.0, 6: 1.0, 7: 1.0, 8: 1.0, 9: 1.0, 10: 1.0, 11: 1.0, 12: 1.0, 13: 1.0, 14: 1.0, 15: 1.0}\n"
     ]
    }
   ],
   "source": [
    "from sklearn.utils.class_weight import compute_class_weight\n",
    "import numpy as np\n",
    "\n",
    "# Assuming y_int are integer labels (not one-hot)\n",
    "y_int = np.argmax(one_hot_encoded_labels, axis=1)  # or just integer labels if you have them\n",
    "\n",
    "classes = np.arange(NO_OF_CLASSES)  # e.g. np.arange(16)\n",
    "class_weights_values = compute_class_weight(class_weight='balanced', classes=classes, y=y_int)\n",
    "\n",
    "class_weights = dict(zip(classes, class_weights_values))\n",
    "\n",
    "print(\"Class weights:\", class_weights)\n"
   ]
  },
  {
   "cell_type": "code",
   "execution_count": 40,
   "id": "5a99904f",
   "metadata": {
    "execution": {
     "iopub.execute_input": "2025-07-11T17:53:58.090793Z",
     "iopub.status.busy": "2025-07-11T17:53:58.090257Z",
     "iopub.status.idle": "2025-07-11T17:53:58.332233Z",
     "shell.execute_reply": "2025-07-11T17:53:58.331642Z"
    },
    "papermill": {
     "duration": 0.268562,
     "end_time": "2025-07-11T17:53:58.333364",
     "exception": false,
     "start_time": "2025-07-11T17:53:58.064802",
     "status": "completed"
    },
    "tags": []
   },
   "outputs": [],
   "source": [
    "gc.collect()\n",
    "del videos, one_hot_encoded_labels, labels_train\n",
    "del features_train, val_labels, train_labels\n",
    "del val_video_frames, train_video_frames"
   ]
  },
  {
   "cell_type": "markdown",
   "id": "d47fb744",
   "metadata": {
    "papermill": {
     "duration": 0.020519,
     "end_time": "2025-07-11T17:53:58.376101",
     "exception": false,
     "start_time": "2025-07-11T17:53:58.355582",
     "status": "completed"
    },
    "tags": []
   },
   "source": [
    "# ✨ Model Execution\n",
    "## Creating Model"
   ]
  },
  {
   "cell_type": "markdown",
   "id": "2c3a8957",
   "metadata": {
    "papermill": {
     "duration": 0.020479,
     "end_time": "2025-07-11T17:53:58.418151",
     "exception": false,
     "start_time": "2025-07-11T17:53:58.397672",
     "status": "completed"
    },
    "tags": []
   },
   "source": [
    "## Plot Model Structure"
   ]
  },
  {
   "cell_type": "markdown",
   "id": "b17212aa",
   "metadata": {
    "papermill": {
     "duration": 0.021419,
     "end_time": "2025-07-11T17:53:58.460336",
     "exception": false,
     "start_time": "2025-07-11T17:53:58.438917",
     "status": "completed"
    },
    "tags": []
   },
   "source": [
    "## 📈 Model Training"
   ]
  },
  {
   "cell_type": "code",
   "execution_count": 41,
   "id": "a6b6e7b3",
   "metadata": {
    "execution": {
     "iopub.execute_input": "2025-07-11T17:53:58.502861Z",
     "iopub.status.busy": "2025-07-11T17:53:58.502593Z",
     "iopub.status.idle": "2025-07-11T18:03:22.403220Z",
     "shell.execute_reply": "2025-07-11T18:03:22.402584Z"
    },
    "papermill": {
     "duration": 563.923747,
     "end_time": "2025-07-11T18:03:22.404707",
     "exception": false,
     "start_time": "2025-07-11T17:53:58.480960",
     "status": "completed"
    },
    "tags": []
   },
   "outputs": [
    {
     "name": "stdout",
     "output_type": "stream",
     "text": [
      "Memory cleared before creating VGG19+LSTM model\n",
      "TensorFlow version: 2.18.0\n",
      "Pre-loading VGG19 weights...\n",
      "Downloading data from https://storage.googleapis.com/tensorflow/keras-applications/mobilenet_v2/mobilenet_v2_weights_tf_dim_ordering_tf_kernels_1.0_128_no_top.h5\n",
      "\u001b[1m9406464/9406464\u001b[0m \u001b[32m━━━━━━━━━━━━━━━━━━━━\u001b[0m\u001b[37m\u001b[0m \u001b[1m0s\u001b[0m 0us/step\n",
      "VGG19 weights loaded successfully!\n",
      "Creating VGG19+LSTM model with parameters:\n",
      "sequence_length: 5, image_height: 128, image_width: 128, classes_list length: 16, dropout_rate: 0.5\n"
     ]
    },
    {
     "name": "stderr",
     "output_type": "stream",
     "text": [
      "/usr/local/lib/python3.11/dist-packages/keras/src/layers/core/wrapper.py:27: UserWarning: Do not pass an `input_shape`/`input_dim` argument to a layer. When using Sequential models, prefer using an `Input(shape)` object as the first layer in the model instead.\n",
      "  super().__init__(**kwargs)\n"
     ]
    },
    {
     "name": "stdout",
     "output_type": "stream",
     "text": [
      "VGG19+LSTM model architecture created successfully!\n"
     ]
    },
    {
     "data": {
      "text/html": [
       "<pre style=\"white-space:pre;overflow-x:auto;line-height:normal;font-family:Menlo,'DejaVu Sans Mono',consolas,'Courier New',monospace\"><span style=\"font-weight: bold\">Model: \"sequential\"</span>\n",
       "</pre>\n"
      ],
      "text/plain": [
       "\u001b[1mModel: \"sequential\"\u001b[0m\n"
      ]
     },
     "metadata": {},
     "output_type": "display_data"
    },
    {
     "data": {
      "text/html": [
       "<pre style=\"white-space:pre;overflow-x:auto;line-height:normal;font-family:Menlo,'DejaVu Sans Mono',consolas,'Courier New',monospace\">┏━━━━━━━━━━━━━━━━━━━━━━━━━━━━━━━━━┳━━━━━━━━━━━━━━━━━━━━━━━━┳━━━━━━━━━━━━━━━┓\n",
       "┃<span style=\"font-weight: bold\"> Layer (type)                    </span>┃<span style=\"font-weight: bold\"> Output Shape           </span>┃<span style=\"font-weight: bold\">       Param # </span>┃\n",
       "┡━━━━━━━━━━━━━━━━━━━━━━━━━━━━━━━━━╇━━━━━━━━━━━━━━━━━━━━━━━━╇━━━━━━━━━━━━━━━┩\n",
       "│ time_distributed_vgg19          │ (<span style=\"color: #00d7ff; text-decoration-color: #00d7ff\">None</span>, <span style=\"color: #00af00; text-decoration-color: #00af00\">5</span>, <span style=\"color: #00af00; text-decoration-color: #00af00\">4</span>, <span style=\"color: #00af00; text-decoration-color: #00af00\">4</span>, <span style=\"color: #00af00; text-decoration-color: #00af00\">1280</span>)  │     <span style=\"color: #00af00; text-decoration-color: #00af00\">2,257,984</span> │\n",
       "│ (<span style=\"color: #0087ff; text-decoration-color: #0087ff\">TimeDistributed</span>)               │                        │               │\n",
       "├─────────────────────────────────┼────────────────────────┼───────────────┤\n",
       "│ time_distributed_pooling        │ (<span style=\"color: #00d7ff; text-decoration-color: #00d7ff\">None</span>, <span style=\"color: #00af00; text-decoration-color: #00af00\">5</span>, <span style=\"color: #00af00; text-decoration-color: #00af00\">1280</span>)        │             <span style=\"color: #00af00; text-decoration-color: #00af00\">0</span> │\n",
       "│ (<span style=\"color: #0087ff; text-decoration-color: #0087ff\">TimeDistributed</span>)               │                        │               │\n",
       "├─────────────────────────────────┼────────────────────────┼───────────────┤\n",
       "│ lstm_vgg19 (<span style=\"color: #0087ff; text-decoration-color: #0087ff\">LSTM</span>)               │ (<span style=\"color: #00d7ff; text-decoration-color: #00d7ff\">None</span>, <span style=\"color: #00af00; text-decoration-color: #00af00\">5</span>, <span style=\"color: #00af00; text-decoration-color: #00af00\">512</span>)         │     <span style=\"color: #00af00; text-decoration-color: #00af00\">3,672,064</span> │\n",
       "├─────────────────────────────────┼────────────────────────┼───────────────┤\n",
       "│ gru_256 (<span style=\"color: #0087ff; text-decoration-color: #0087ff\">GRU</span>)                   │ (<span style=\"color: #00d7ff; text-decoration-color: #00d7ff\">None</span>, <span style=\"color: #00af00; text-decoration-color: #00af00\">256</span>)            │       <span style=\"color: #00af00; text-decoration-color: #00af00\">591,360</span> │\n",
       "├─────────────────────────────────┼────────────────────────┼───────────────┤\n",
       "│ batch_normalization_vgg19       │ (<span style=\"color: #00d7ff; text-decoration-color: #00d7ff\">None</span>, <span style=\"color: #00af00; text-decoration-color: #00af00\">256</span>)            │         <span style=\"color: #00af00; text-decoration-color: #00af00\">1,024</span> │\n",
       "│ (<span style=\"color: #0087ff; text-decoration-color: #0087ff\">BatchNormalization</span>)            │                        │               │\n",
       "├─────────────────────────────────┼────────────────────────┼───────────────┤\n",
       "│ dropout_lstm_vgg19 (<span style=\"color: #0087ff; text-decoration-color: #0087ff\">Dropout</span>)    │ (<span style=\"color: #00d7ff; text-decoration-color: #00d7ff\">None</span>, <span style=\"color: #00af00; text-decoration-color: #00af00\">256</span>)            │             <span style=\"color: #00af00; text-decoration-color: #00af00\">0</span> │\n",
       "├─────────────────────────────────┼────────────────────────┼───────────────┤\n",
       "│ dense_vgg19_1 (<span style=\"color: #0087ff; text-decoration-color: #0087ff\">Dense</span>)           │ (<span style=\"color: #00d7ff; text-decoration-color: #00d7ff\">None</span>, <span style=\"color: #00af00; text-decoration-color: #00af00\">512</span>)            │       <span style=\"color: #00af00; text-decoration-color: #00af00\">131,584</span> │\n",
       "├─────────────────────────────────┼────────────────────────┼───────────────┤\n",
       "│ dropout_dense_vgg19_1 (<span style=\"color: #0087ff; text-decoration-color: #0087ff\">Dropout</span>) │ (<span style=\"color: #00d7ff; text-decoration-color: #00d7ff\">None</span>, <span style=\"color: #00af00; text-decoration-color: #00af00\">512</span>)            │             <span style=\"color: #00af00; text-decoration-color: #00af00\">0</span> │\n",
       "├─────────────────────────────────┼────────────────────────┼───────────────┤\n",
       "│ dense_vgg19_2 (<span style=\"color: #0087ff; text-decoration-color: #0087ff\">Dense</span>)           │ (<span style=\"color: #00d7ff; text-decoration-color: #00d7ff\">None</span>, <span style=\"color: #00af00; text-decoration-color: #00af00\">128</span>)            │        <span style=\"color: #00af00; text-decoration-color: #00af00\">65,664</span> │\n",
       "├─────────────────────────────────┼────────────────────────┼───────────────┤\n",
       "│ dropout_dense_vgg19_2 (<span style=\"color: #0087ff; text-decoration-color: #0087ff\">Dropout</span>) │ (<span style=\"color: #00d7ff; text-decoration-color: #00d7ff\">None</span>, <span style=\"color: #00af00; text-decoration-color: #00af00\">128</span>)            │             <span style=\"color: #00af00; text-decoration-color: #00af00\">0</span> │\n",
       "├─────────────────────────────────┼────────────────────────┼───────────────┤\n",
       "│ output_vgg19 (<span style=\"color: #0087ff; text-decoration-color: #0087ff\">Dense</span>)            │ (<span style=\"color: #00d7ff; text-decoration-color: #00d7ff\">None</span>, <span style=\"color: #00af00; text-decoration-color: #00af00\">16</span>)             │         <span style=\"color: #00af00; text-decoration-color: #00af00\">2,064</span> │\n",
       "└─────────────────────────────────┴────────────────────────┴───────────────┘\n",
       "</pre>\n"
      ],
      "text/plain": [
       "┏━━━━━━━━━━━━━━━━━━━━━━━━━━━━━━━━━┳━━━━━━━━━━━━━━━━━━━━━━━━┳━━━━━━━━━━━━━━━┓\n",
       "┃\u001b[1m \u001b[0m\u001b[1mLayer (type)                   \u001b[0m\u001b[1m \u001b[0m┃\u001b[1m \u001b[0m\u001b[1mOutput Shape          \u001b[0m\u001b[1m \u001b[0m┃\u001b[1m \u001b[0m\u001b[1m      Param #\u001b[0m\u001b[1m \u001b[0m┃\n",
       "┡━━━━━━━━━━━━━━━━━━━━━━━━━━━━━━━━━╇━━━━━━━━━━━━━━━━━━━━━━━━╇━━━━━━━━━━━━━━━┩\n",
       "│ time_distributed_vgg19          │ (\u001b[38;5;45mNone\u001b[0m, \u001b[38;5;34m5\u001b[0m, \u001b[38;5;34m4\u001b[0m, \u001b[38;5;34m4\u001b[0m, \u001b[38;5;34m1280\u001b[0m)  │     \u001b[38;5;34m2,257,984\u001b[0m │\n",
       "│ (\u001b[38;5;33mTimeDistributed\u001b[0m)               │                        │               │\n",
       "├─────────────────────────────────┼────────────────────────┼───────────────┤\n",
       "│ time_distributed_pooling        │ (\u001b[38;5;45mNone\u001b[0m, \u001b[38;5;34m5\u001b[0m, \u001b[38;5;34m1280\u001b[0m)        │             \u001b[38;5;34m0\u001b[0m │\n",
       "│ (\u001b[38;5;33mTimeDistributed\u001b[0m)               │                        │               │\n",
       "├─────────────────────────────────┼────────────────────────┼───────────────┤\n",
       "│ lstm_vgg19 (\u001b[38;5;33mLSTM\u001b[0m)               │ (\u001b[38;5;45mNone\u001b[0m, \u001b[38;5;34m5\u001b[0m, \u001b[38;5;34m512\u001b[0m)         │     \u001b[38;5;34m3,672,064\u001b[0m │\n",
       "├─────────────────────────────────┼────────────────────────┼───────────────┤\n",
       "│ gru_256 (\u001b[38;5;33mGRU\u001b[0m)                   │ (\u001b[38;5;45mNone\u001b[0m, \u001b[38;5;34m256\u001b[0m)            │       \u001b[38;5;34m591,360\u001b[0m │\n",
       "├─────────────────────────────────┼────────────────────────┼───────────────┤\n",
       "│ batch_normalization_vgg19       │ (\u001b[38;5;45mNone\u001b[0m, \u001b[38;5;34m256\u001b[0m)            │         \u001b[38;5;34m1,024\u001b[0m │\n",
       "│ (\u001b[38;5;33mBatchNormalization\u001b[0m)            │                        │               │\n",
       "├─────────────────────────────────┼────────────────────────┼───────────────┤\n",
       "│ dropout_lstm_vgg19 (\u001b[38;5;33mDropout\u001b[0m)    │ (\u001b[38;5;45mNone\u001b[0m, \u001b[38;5;34m256\u001b[0m)            │             \u001b[38;5;34m0\u001b[0m │\n",
       "├─────────────────────────────────┼────────────────────────┼───────────────┤\n",
       "│ dense_vgg19_1 (\u001b[38;5;33mDense\u001b[0m)           │ (\u001b[38;5;45mNone\u001b[0m, \u001b[38;5;34m512\u001b[0m)            │       \u001b[38;5;34m131,584\u001b[0m │\n",
       "├─────────────────────────────────┼────────────────────────┼───────────────┤\n",
       "│ dropout_dense_vgg19_1 (\u001b[38;5;33mDropout\u001b[0m) │ (\u001b[38;5;45mNone\u001b[0m, \u001b[38;5;34m512\u001b[0m)            │             \u001b[38;5;34m0\u001b[0m │\n",
       "├─────────────────────────────────┼────────────────────────┼───────────────┤\n",
       "│ dense_vgg19_2 (\u001b[38;5;33mDense\u001b[0m)           │ (\u001b[38;5;45mNone\u001b[0m, \u001b[38;5;34m128\u001b[0m)            │        \u001b[38;5;34m65,664\u001b[0m │\n",
       "├─────────────────────────────────┼────────────────────────┼───────────────┤\n",
       "│ dropout_dense_vgg19_2 (\u001b[38;5;33mDropout\u001b[0m) │ (\u001b[38;5;45mNone\u001b[0m, \u001b[38;5;34m128\u001b[0m)            │             \u001b[38;5;34m0\u001b[0m │\n",
       "├─────────────────────────────────┼────────────────────────┼───────────────┤\n",
       "│ output_vgg19 (\u001b[38;5;33mDense\u001b[0m)            │ (\u001b[38;5;45mNone\u001b[0m, \u001b[38;5;34m16\u001b[0m)             │         \u001b[38;5;34m2,064\u001b[0m │\n",
       "└─────────────────────────────────┴────────────────────────┴───────────────┘\n"
      ]
     },
     "metadata": {},
     "output_type": "display_data"
    },
    {
     "data": {
      "text/html": [
       "<pre style=\"white-space:pre;overflow-x:auto;line-height:normal;font-family:Menlo,'DejaVu Sans Mono',consolas,'Courier New',monospace\"><span style=\"font-weight: bold\"> Total params: </span><span style=\"color: #00af00; text-decoration-color: #00af00\">6,721,744</span> (25.64 MB)\n",
       "</pre>\n"
      ],
      "text/plain": [
       "\u001b[1m Total params: \u001b[0m\u001b[38;5;34m6,721,744\u001b[0m (25.64 MB)\n"
      ]
     },
     "metadata": {},
     "output_type": "display_data"
    },
    {
     "data": {
      "text/html": [
       "<pre style=\"white-space:pre;overflow-x:auto;line-height:normal;font-family:Menlo,'DejaVu Sans Mono',consolas,'Courier New',monospace\"><span style=\"font-weight: bold\"> Trainable params: </span><span style=\"color: #00af00; text-decoration-color: #00af00\">4,463,248</span> (17.03 MB)\n",
       "</pre>\n"
      ],
      "text/plain": [
       "\u001b[1m Trainable params: \u001b[0m\u001b[38;5;34m4,463,248\u001b[0m (17.03 MB)\n"
      ]
     },
     "metadata": {},
     "output_type": "display_data"
    },
    {
     "data": {
      "text/html": [
       "<pre style=\"white-space:pre;overflow-x:auto;line-height:normal;font-family:Menlo,'DejaVu Sans Mono',consolas,'Courier New',monospace\"><span style=\"font-weight: bold\"> Non-trainable params: </span><span style=\"color: #00af00; text-decoration-color: #00af00\">2,258,496</span> (8.62 MB)\n",
       "</pre>\n"
      ],
      "text/plain": [
       "\u001b[1m Non-trainable params: \u001b[0m\u001b[38;5;34m2,258,496\u001b[0m (8.62 MB)\n"
      ]
     },
     "metadata": {},
     "output_type": "display_data"
    },
    {
     "name": "stdout",
     "output_type": "stream",
     "text": [
      "VGG19+LSTM Model Created Successfully!\n",
      "Xception_VGG19_LSTM Model Plot saved successfully...\n",
      "train_gen.videos shape: (4096, 5, 128, 128, 3)\n",
      "train_gen.labels shape: (4096, 16)\n",
      "val_gen.videos shape: (1024, 5, 128, 128, 3)\n",
      "val_gen.labels shape: (1024, 16)\n",
      "features_test shape: (1280, 5, 128, 128, 3)\n",
      "labels_test shape: (1280, 16)\n",
      "train_gen batch videos shape: (24, 5, 128, 128, 3)\n",
      "train_gen batch labels shape: (24, 16)\n",
      "val_gen batch videos shape: (24, 5, 128, 128, 3)\n",
      "val_gen batch labels shape: (24, 16)\n",
      "Dataset - Precis Har Rgb\n",
      "There are total 16 classes, selected 16 classes\n",
      "Setting None videos/class to train the model.\n",
      "Image size 128x128 with 5 sequence length\n",
      "Dropout rate: 0.5\n",
      "Train-Test split ratio 80/20\n",
      "Validation data from Train set 20.0%\n",
      "\n",
      "\n",
      "Initial training started for VGG19+LSTM model with 4096 videos of 16 classes with 1024 videos for validation...\n",
      "Epoch 1/30\n"
     ]
    },
    {
     "name": "stderr",
     "output_type": "stream",
     "text": [
      "I0000 00:00:1752256473.058683    6468 cuda_dnn.cc:529] Loaded cuDNN version 90300\n"
     ]
    },
    {
     "name": "stdout",
     "output_type": "stream",
     "text": [
      "    171/Unknown \u001b[1m46s\u001b[0m 81ms/step - accuracy: 0.1612 - loss: 20.2377"
     ]
    },
    {
     "name": "stderr",
     "output_type": "stream",
     "text": [
      "/usr/local/lib/python3.11/dist-packages/keras/src/trainers/epoch_iterator.py:151: UserWarning: Your input ran out of data; interrupting training. Make sure that your dataset or generator can generate at least `steps_per_epoch * epochs` batches. You may need to use the `.repeat()` function when building your dataset.\n",
      "  self._interrupted_warning()\n"
     ]
    },
    {
     "name": "stdout",
     "output_type": "stream",
     "text": [
      "\u001b[1m171/171\u001b[0m \u001b[32m━━━━━━━━━━━━━━━━━━━━\u001b[0m\u001b[37m\u001b[0m \u001b[1m57s\u001b[0m 145ms/step - accuracy: 0.1616 - loss: 20.2039 - val_accuracy: 0.4346 - val_loss: 8.2934 - learning_rate: 0.0010\n",
      "Epoch 2/30\n",
      "\u001b[1m171/171\u001b[0m \u001b[32m━━━━━━━━━━━━━━━━━━━━\u001b[0m\u001b[37m\u001b[0m \u001b[1m17s\u001b[0m 100ms/step - accuracy: 0.3987 - loss: 7.0917 - val_accuracy: 0.4385 - val_loss: 4.8490 - learning_rate: 0.0010\n",
      "Epoch 3/30\n",
      "\u001b[1m171/171\u001b[0m \u001b[32m━━━━━━━━━━━━━━━━━━━━\u001b[0m\u001b[37m\u001b[0m \u001b[1m17s\u001b[0m 102ms/step - accuracy: 0.4939 - loss: 4.2276 - val_accuracy: 0.4316 - val_loss: 3.4856 - learning_rate: 0.0010\n",
      "Epoch 4/30\n",
      "\u001b[1m171/171\u001b[0m \u001b[32m━━━━━━━━━━━━━━━━━━━━\u001b[0m\u001b[37m\u001b[0m \u001b[1m18s\u001b[0m 103ms/step - accuracy: 0.5585 - loss: 2.8287 - val_accuracy: 0.4502 - val_loss: 2.6953 - learning_rate: 0.0010\n",
      "Epoch 5/30\n",
      "\u001b[1m171/171\u001b[0m \u001b[32m━━━━━━━━━━━━━━━━━━━━\u001b[0m\u001b[37m\u001b[0m \u001b[1m17s\u001b[0m 102ms/step - accuracy: 0.5837 - loss: 2.1365 - val_accuracy: 0.6611 - val_loss: 1.7239 - learning_rate: 0.0010\n",
      "Epoch 6/30\n",
      "\u001b[1m171/171\u001b[0m \u001b[32m━━━━━━━━━━━━━━━━━━━━\u001b[0m\u001b[37m\u001b[0m \u001b[1m17s\u001b[0m 100ms/step - accuracy: 0.6136 - loss: 1.7822 - val_accuracy: 0.5889 - val_loss: 1.7596 - learning_rate: 0.0010\n",
      "Epoch 7/30\n",
      "\u001b[1m171/171\u001b[0m \u001b[32m━━━━━━━━━━━━━━━━━━━━\u001b[0m\u001b[37m\u001b[0m \u001b[1m17s\u001b[0m 100ms/step - accuracy: 0.6244 - loss: 1.6198 - val_accuracy: 0.3545 - val_loss: 2.6579 - learning_rate: 0.0010\n",
      "Epoch 8/30\n",
      "\u001b[1m171/171\u001b[0m \u001b[32m━━━━━━━━━━━━━━━━━━━━\u001b[0m\u001b[37m\u001b[0m \u001b[1m18s\u001b[0m 103ms/step - accuracy: 0.6503 - loss: 1.4617 - val_accuracy: 0.5195 - val_loss: 2.1896 - learning_rate: 0.0010\n",
      "Epoch 9/30\n",
      "\u001b[1m171/171\u001b[0m \u001b[32m━━━━━━━━━━━━━━━━━━━━\u001b[0m\u001b[37m\u001b[0m \u001b[1m18s\u001b[0m 104ms/step - accuracy: 0.6717 - loss: 1.3306 - val_accuracy: 0.6885 - val_loss: 1.2262 - learning_rate: 5.0000e-04\n",
      "Epoch 10/30\n",
      "\u001b[1m171/171\u001b[0m \u001b[32m━━━━━━━━━━━━━━━━━━━━\u001b[0m\u001b[37m\u001b[0m \u001b[1m17s\u001b[0m 102ms/step - accuracy: 0.6941 - loss: 1.1695 - val_accuracy: 0.6758 - val_loss: 1.2068 - learning_rate: 5.0000e-04\n",
      "Epoch 11/30\n",
      "\u001b[1m171/171\u001b[0m \u001b[32m━━━━━━━━━━━━━━━━━━━━\u001b[0m\u001b[37m\u001b[0m \u001b[1m17s\u001b[0m 101ms/step - accuracy: 0.7276 - loss: 1.0996 - val_accuracy: 0.5742 - val_loss: 1.6622 - learning_rate: 5.0000e-04\n",
      "Epoch 12/30\n",
      "\u001b[1m171/171\u001b[0m \u001b[32m━━━━━━━━━━━━━━━━━━━━\u001b[0m\u001b[37m\u001b[0m \u001b[1m17s\u001b[0m 100ms/step - accuracy: 0.7392 - loss: 1.0767 - val_accuracy: 0.4785 - val_loss: 2.3379 - learning_rate: 5.0000e-04\n",
      "Epoch 13/30\n",
      "\u001b[1m171/171\u001b[0m \u001b[32m━━━━━━━━━━━━━━━━━━━━\u001b[0m\u001b[37m\u001b[0m \u001b[1m17s\u001b[0m 101ms/step - accuracy: 0.7398 - loss: 1.0458 - val_accuracy: 0.5254 - val_loss: 1.8142 - learning_rate: 5.0000e-04\n",
      "Epoch 14/30\n",
      "\u001b[1m171/171\u001b[0m \u001b[32m━━━━━━━━━━━━━━━━━━━━\u001b[0m\u001b[37m\u001b[0m \u001b[1m17s\u001b[0m 101ms/step - accuracy: 0.7613 - loss: 0.9572 - val_accuracy: 0.4971 - val_loss: 2.0280 - learning_rate: 2.5000e-04\n",
      "Epoch 15/30\n",
      "\u001b[1m171/171\u001b[0m \u001b[32m━━━━━━━━━━━━━━━━━━━━\u001b[0m\u001b[37m\u001b[0m \u001b[1m17s\u001b[0m 101ms/step - accuracy: 0.7838 - loss: 0.8837 - val_accuracy: 0.6045 - val_loss: 1.5456 - learning_rate: 2.5000e-04\n",
      "Epoch 16/30\n",
      "\u001b[1m171/171\u001b[0m \u001b[32m━━━━━━━━━━━━━━━━━━━━\u001b[0m\u001b[37m\u001b[0m \u001b[1m17s\u001b[0m 102ms/step - accuracy: 0.7981 - loss: 0.8392 - val_accuracy: 0.6943 - val_loss: 1.1654 - learning_rate: 2.5000e-04\n",
      "Epoch 17/30\n",
      "\u001b[1m171/171\u001b[0m \u001b[32m━━━━━━━━━━━━━━━━━━━━\u001b[0m\u001b[37m\u001b[0m \u001b[1m17s\u001b[0m 100ms/step - accuracy: 0.7948 - loss: 0.8147 - val_accuracy: 0.5791 - val_loss: 1.7781 - learning_rate: 2.5000e-04\n",
      "Epoch 18/30\n",
      "\u001b[1m171/171\u001b[0m \u001b[32m━━━━━━━━━━━━━━━━━━━━\u001b[0m\u001b[37m\u001b[0m \u001b[1m17s\u001b[0m 101ms/step - accuracy: 0.8068 - loss: 0.7963 - val_accuracy: 0.6172 - val_loss: 1.5635 - learning_rate: 2.5000e-04\n",
      "Epoch 19/30\n",
      "\u001b[1m171/171\u001b[0m \u001b[32m━━━━━━━━━━━━━━━━━━━━\u001b[0m\u001b[37m\u001b[0m \u001b[1m17s\u001b[0m 101ms/step - accuracy: 0.8115 - loss: 0.7786 - val_accuracy: 0.3750 - val_loss: 3.0795 - learning_rate: 2.5000e-04\n",
      "Epoch 20/30\n",
      "\u001b[1m171/171\u001b[0m \u001b[32m━━━━━━━━━━━━━━━━━━━━\u001b[0m\u001b[37m\u001b[0m \u001b[1m17s\u001b[0m 101ms/step - accuracy: 0.8204 - loss: 0.7442 - val_accuracy: 0.6641 - val_loss: 1.3068 - learning_rate: 1.2500e-04\n",
      "Epoch 21/30\n",
      "\u001b[1m171/171\u001b[0m \u001b[32m━━━━━━━━━━━━━━━━━━━━\u001b[0m\u001b[37m\u001b[0m \u001b[1m17s\u001b[0m 101ms/step - accuracy: 0.8323 - loss: 0.6935 - val_accuracy: 0.7305 - val_loss: 0.9969 - learning_rate: 1.2500e-04\n",
      "Epoch 22/30\n",
      "\u001b[1m171/171\u001b[0m \u001b[32m━━━━━━━━━━━━━━━━━━━━\u001b[0m\u001b[37m\u001b[0m \u001b[1m17s\u001b[0m 101ms/step - accuracy: 0.8253 - loss: 0.7088 - val_accuracy: 0.6768 - val_loss: 1.2467 - learning_rate: 1.2500e-04\n",
      "Epoch 23/30\n",
      "\u001b[1m171/171\u001b[0m \u001b[32m━━━━━━━━━━━━━━━━━━━━\u001b[0m\u001b[37m\u001b[0m \u001b[1m17s\u001b[0m 102ms/step - accuracy: 0.8602 - loss: 0.6561 - val_accuracy: 0.7715 - val_loss: 0.8871 - learning_rate: 1.2500e-04\n",
      "Epoch 24/30\n",
      "\u001b[1m171/171\u001b[0m \u001b[32m━━━━━━━━━━━━━━━━━━━━\u001b[0m\u001b[37m\u001b[0m \u001b[1m17s\u001b[0m 101ms/step - accuracy: 0.8459 - loss: 0.6536 - val_accuracy: 0.7715 - val_loss: 0.8909 - learning_rate: 1.2500e-04\n",
      "Epoch 25/30\n",
      "\u001b[1m171/171\u001b[0m \u001b[32m━━━━━━━━━━━━━━━━━━━━\u001b[0m\u001b[37m\u001b[0m \u001b[1m17s\u001b[0m 101ms/step - accuracy: 0.8572 - loss: 0.6276 - val_accuracy: 0.7051 - val_loss: 1.1017 - learning_rate: 1.2500e-04\n",
      "Epoch 26/30\n",
      "\u001b[1m171/171\u001b[0m \u001b[32m━━━━━━━━━━━━━━━━━━━━\u001b[0m\u001b[37m\u001b[0m \u001b[1m17s\u001b[0m 101ms/step - accuracy: 0.8705 - loss: 0.6156 - val_accuracy: 0.7354 - val_loss: 1.0055 - learning_rate: 1.2500e-04\n",
      "Epoch 27/30\n",
      "\u001b[1m171/171\u001b[0m \u001b[32m━━━━━━━━━━━━━━━━━━━━\u001b[0m\u001b[37m\u001b[0m \u001b[1m17s\u001b[0m 101ms/step - accuracy: 0.8676 - loss: 0.6025 - val_accuracy: 0.7549 - val_loss: 1.0187 - learning_rate: 6.2500e-05\n",
      "Epoch 28/30\n",
      "\u001b[1m171/171\u001b[0m \u001b[32m━━━━━━━━━━━━━━━━━━━━\u001b[0m\u001b[37m\u001b[0m \u001b[1m17s\u001b[0m 100ms/step - accuracy: 0.8729 - loss: 0.5733 - val_accuracy: 0.7646 - val_loss: 0.8967 - learning_rate: 6.2500e-05\n",
      "Epoch 29/30\n",
      "\u001b[1m171/171\u001b[0m \u001b[32m━━━━━━━━━━━━━━━━━━━━\u001b[0m\u001b[37m\u001b[0m \u001b[1m17s\u001b[0m 100ms/step - accuracy: 0.8862 - loss: 0.5661 - val_accuracy: 0.7725 - val_loss: 0.8549 - learning_rate: 6.2500e-05\n",
      "Epoch 30/30\n",
      "\u001b[1m171/171\u001b[0m \u001b[32m━━━━━━━━━━━━━━━━━━━━\u001b[0m\u001b[37m\u001b[0m \u001b[1m17s\u001b[0m 100ms/step - accuracy: 0.8684 - loss: 0.5671 - val_accuracy: 0.7676 - val_loss: 0.9006 - learning_rate: 6.2500e-05\n"
     ]
    }
   ],
   "source": [
    "# Import necessary libraries\n",
    "from tensorflow.keras.applications import MobileNetV2\n",
    "from tensorflow.keras.models import Sequential\n",
    "from tensorflow.keras.layers import TimeDistributed, GlobalAveragePooling2D, LSTM, Dropout, Dense, BatchNormalization, GRU\n",
    "from tensorflow.keras.regularizers import l2\n",
    "from tensorflow.keras.callbacks import EarlyStopping, ReduceLROnPlateau\n",
    "from tensorflow.keras.utils import to_categorical\n",
    "import tensorflow as tf\n",
    "import numpy as np\n",
    "import gc\n",
    "\n",
    "# Clear memory before creating the new model\n",
    "gc.collect()\n",
    "tf.keras.backend.clear_session()\n",
    "print(\"Memory cleared before creating VGG19+LSTM model\")\n",
    "\n",
    "# Print TensorFlow version\n",
    "print(f\"TensorFlow version: {tf.__version__}\")\n",
    "\n",
    "# Pre-load VGG19 weights\n",
    "print(\"Pre-loading VGG19 weights...\")\n",
    "try:\n",
    "    base_model = MobileNetV2(weights='imagenet', include_top=False, input_shape=(IMAGE_HEIGHT, IMAGE_WIDTH, 3))\n",
    "    print(\"VGG19 weights loaded successfully!\")\n",
    "except Exception as e:\n",
    "    print(f\"Failed to load VGG19 weights: {str(e)}\")\n",
    "\n",
    "# Define function to create VGG19+LSTM model\n",
    "def create_model(sequence_length, image_height, image_width, classes_list=None, dropout_rate=0.5, base_model=None):\n",
    "    print(\"Creating VGG19+LSTM model with parameters:\")\n",
    "    print(f\"sequence_length: {sequence_length}, image_height: {image_height}, image_width: {image_width}, classes_list length: {len(classes_list) if classes_list is not None else None}, dropout_rate: {dropout_rate}\")\n",
    "    \n",
    "    if classes_list is None:\n",
    "        raise ValueError(\"classes_list must be provided to define the output layer size\")\n",
    "    if base_model is None:\n",
    "        raise ValueError(\"base_model must be provided to avoid re-downloading weights\")\n",
    "\n",
    "    try:\n",
    "        # Use the pre-loaded base model\n",
    "        # Freeze the base model for initial training\n",
    "        base_model.trainable = False\n",
    "\n",
    "        # Define the Sequential model\n",
    "        model = Sequential([\n",
    "            # TimeDistributed VGG19 model\n",
    "            TimeDistributed(\n",
    "                base_model,\n",
    "                input_shape=(sequence_length, image_height, image_width, 3),\n",
    "                name=\"time_distributed_vgg19\"\n",
    "            ),\n",
    "            # TimeDistributed GlobalAveragePooling2D\n",
    "            TimeDistributed(GlobalAveragePooling2D(), name=\"time_distributed_pooling\"),\n",
    "            # LSTM layer with 512 units\n",
    "            LSTM(512, activation=\"tanh\", return_sequences=True, kernel_regularizer=l2(0.01), name=\"lstm_vgg19\"),\n",
    "            GRU(256, activation=\"tanh\", return_sequences=False, kernel_regularizer=l2(0.01), name=\"gru_256\"),\n",
    "            BatchNormalization(name=\"batch_normalization_vgg19\"),\n",
    "            # Dropout after LSTM\n",
    "            Dropout(dropout_rate, name=\"dropout_lstm_vgg19\"),\n",
    "            # Dense layer with 512 units\n",
    "            Dense(512, activation=\"relu\", kernel_regularizer=l2(0.01), name=\"dense_vgg19_1\"),\n",
    "            # Dropout after first Dense\n",
    "            Dropout(dropout_rate, name=\"dropout_dense_vgg19_1\"),\n",
    "            # Dense layer with 128 units\n",
    "            Dense(128, activation=\"relu\", kernel_regularizer=l2(0.01), name=\"dense_vgg19_2\"),\n",
    "            # Dropout after second Dense\n",
    "            Dropout(dropout_rate, name=\"dropout_dense_vgg19_2\"),\n",
    "            # Output Dense layer with softmax activation\n",
    "            Dense(len(classes_list), activation=\"softmax\", name=\"output_vgg19\")\n",
    "        ])\n",
    "\n",
    "        # Print model summary\n",
    "        print(\"VGG19+LSTM model architecture created successfully!\")\n",
    "        model.summary()\n",
    "\n",
    "        return model\n",
    "\n",
    "    except Exception as e:\n",
    "        print(f\"Error creating VGG19+LSTM model: {str(e)}\")\n",
    "        import traceback\n",
    "        traceback.print_exc()\n",
    "        return None\n",
    "\n",
    "# Create the VGG19+LSTM model using the pre-loaded base model\n",
    "model = create_model(\n",
    "    sequence_length=SEQUENCE_LENGTH,\n",
    "    image_height=IMAGE_HEIGHT,\n",
    "    image_width=IMAGE_WIDTH,\n",
    "    classes_list=CLASSES_LIST,\n",
    "    dropout_rate=DROPOUT_RATE,\n",
    "    base_model=base_model\n",
    ")\n",
    "\n",
    "# Check if model was created successfully\n",
    "if model is None:\n",
    "    raise ValueError(\"Failed to create VGG19+LSTM model. Check error messages above.\")\n",
    "else:\n",
    "    print(\"VGG19+LSTM Model Created Successfully!\")\n",
    "\n",
    "# Plot the model structure\n",
    "from tensorflow.keras.utils import plot_model\n",
    "try:\n",
    "    plot_model(model, to_file=f'{MODEL_NAME}_model_Plot.png', show_shapes=True, show_layer_names=True)\n",
    "    print(f\"{MODEL_NAME}_VGG19_LSTM Model Plot saved successfully...\")\n",
    "except Exception as e:\n",
    "    print(f\"Failed to plot model: {str(e)}\")\n",
    "\n",
    "# Verify data shapes\n",
    "print(f\"train_gen.videos shape: {np.shape(train_gen.videos)}\")\n",
    "print(f\"train_gen.labels shape: {np.shape(train_gen.labels)}\")\n",
    "print(f\"val_gen.videos shape: {np.shape(val_gen.videos)}\")\n",
    "print(f\"val_gen.labels shape: {np.shape(val_gen.labels)}\")\n",
    "print(f\"features_test shape: {np.shape(features_test)}\")\n",
    "print(f\"labels_test shape: {np.shape(labels_test)}\")\n",
    "\n",
    "# Ensure labels_test is one-hot encoded\n",
    "if len(labels_test.shape) == 1:\n",
    "    print(\"Converting labels_test to one-hot encoded format...\")\n",
    "    labels_test = to_categorical(labels_test, num_classes=NO_OF_CLASSES)\n",
    "    print(f\"New labels_test shape: {labels_test.shape}\")\n",
    "\n",
    "# Verify generator batch shapes\n",
    "try:\n",
    "    videos, labels = train_gen[0]\n",
    "    print(f\"train_gen batch videos shape: {videos.shape}\")\n",
    "    print(f\"train_gen batch labels shape: {labels.shape}\")\n",
    "    videos, labels = val_gen[0]\n",
    "    print(f\"val_gen batch videos shape: {videos.shape}\")\n",
    "    print(f\"val_gen batch labels shape: {labels.shape}\")\n",
    "except Exception as e:\n",
    "    print(f\"Error accessing generator data: {str(e)}\")\n",
    "\n",
    "# Compile the model for initial training\n",
    "early_stopping_callback = EarlyStopping(monitor='val_loss', patience=7, mode='min', restore_best_weights=True)\n",
    "lr_scheduler = ReduceLROnPlateau(monitor='val_loss', factor=0.5, patience=3, min_lr=1e-6)\n",
    "\n",
    "model.compile(\n",
    "    loss='categorical_crossentropy',\n",
    "    optimizer=tf.keras.optimizers.Adam(learning_rate=0.001),  # Higher learning rate for initial training\n",
    "    metrics=['accuracy']\n",
    ")\n",
    "\n",
    "# Print dataset summary\n",
    "print(f\"Dataset - {DATASET_NAME}\")\n",
    "print(f\"There are total {len(ALL_CLASS_NAMES)} classes, selected {NO_OF_CLASSES} classes\")\n",
    "print(f\"Setting {MAX_VIDEO_PER_CLASS} videos/class to train the model.\")\n",
    "print(f\"Image size {IMAGE_HEIGHT}x{IMAGE_WIDTH} with {SEQUENCE_LENGTH} sequence length\")\n",
    "print(f\"Dropout rate: {DROPOUT_RATE}\")\n",
    "print(f\"Train-Test split ratio {int((1-TEST_SIZE)*100)}/{int(TEST_SIZE*100)}\")\n",
    "print(f\"Validation data from Train set {VALIDATION_SPLIT*100}%\")\n",
    "print(\"\\n\")\n",
    "\n",
    "# Initial training with frozen base model\n",
    "print(f\"Initial training started for VGG19+LSTM model with {len(train_gen.videos)} videos of {NO_OF_CLASSES} classes with {len(val_gen.videos)} videos for validation...\")\n",
    "try:\n",
    "    initial_model_history = model.fit(\n",
    "        train_gen.as_dataset(),\n",
    "        validation_data=val_gen.as_dataset(),\n",
    "        epochs=EPOCHS,\n",
    "        class_weight=class_weights,\n",
    "        callbacks=[early_stopping_callback, lr_scheduler]\n",
    "    )\n",
    "except Exception as e:\n",
    "    print(f\"Error during initial model training: {str(e)}\")\n",
    "    import traceback\n",
    "    traceback.print_exc()\n"
   ]
  },
  {
   "cell_type": "code",
   "execution_count": 42,
   "id": "febe285e",
   "metadata": {
    "execution": {
     "iopub.execute_input": "2025-07-11T18:03:22.899082Z",
     "iopub.status.busy": "2025-07-11T18:03:22.898767Z",
     "iopub.status.idle": "2025-07-11T18:08:49.934710Z",
     "shell.execute_reply": "2025-07-11T18:08:49.934108Z"
    },
    "papermill": {
     "duration": 327.290306,
     "end_time": "2025-07-11T18:08:49.936053",
     "exception": false,
     "start_time": "2025-07-11T18:03:22.645747",
     "status": "completed"
    },
    "tags": []
   },
   "outputs": [
    {
     "name": "stdout",
     "output_type": "stream",
     "text": [
      "\n",
      "Fine-tuning started for VGG19+LSTM model with 4096 videos of 16 classes with 1024 videos for validation...\n",
      "Epoch 1/30\n",
      "\u001b[1m171/171\u001b[0m \u001b[32m━━━━━━━━━━━━━━━━━━━━\u001b[0m\u001b[37m\u001b[0m \u001b[1m61s\u001b[0m 163ms/step - accuracy: 0.7251 - loss: 1.1051 - val_accuracy: 0.7754 - val_loss: 0.8588 - learning_rate: 1.0000e-04\n",
      "Epoch 2/30\n",
      "\u001b[1m171/171\u001b[0m \u001b[32m━━━━━━━━━━━━━━━━━━━━\u001b[0m\u001b[37m\u001b[0m \u001b[1m20s\u001b[0m 120ms/step - accuracy: 0.8218 - loss: 0.6970 - val_accuracy: 0.8057 - val_loss: 0.8019 - learning_rate: 1.0000e-04\n",
      "Epoch 3/30\n",
      "\u001b[1m171/171\u001b[0m \u001b[32m━━━━━━━━━━━━━━━━━━━━\u001b[0m\u001b[37m\u001b[0m \u001b[1m20s\u001b[0m 118ms/step - accuracy: 0.8514 - loss: 0.6275 - val_accuracy: 0.8008 - val_loss: 0.8283 - learning_rate: 1.0000e-04\n",
      "Epoch 4/30\n",
      "\u001b[1m171/171\u001b[0m \u001b[32m━━━━━━━━━━━━━━━━━━━━\u001b[0m\u001b[37m\u001b[0m \u001b[1m20s\u001b[0m 116ms/step - accuracy: 0.8773 - loss: 0.5666 - val_accuracy: 0.8027 - val_loss: 0.8046 - learning_rate: 1.0000e-04\n",
      "Epoch 5/30\n",
      "\u001b[1m171/171\u001b[0m \u001b[32m━━━━━━━━━━━━━━━━━━━━\u001b[0m\u001b[37m\u001b[0m \u001b[1m20s\u001b[0m 117ms/step - accuracy: 0.8940 - loss: 0.5379 - val_accuracy: 0.7500 - val_loss: 0.9567 - learning_rate: 1.0000e-04\n",
      "Epoch 6/30\n",
      "\u001b[1m171/171\u001b[0m \u001b[32m━━━━━━━━━━━━━━━━━━━━\u001b[0m\u001b[37m\u001b[0m \u001b[1m20s\u001b[0m 118ms/step - accuracy: 0.9029 - loss: 0.5175 - val_accuracy: 0.7979 - val_loss: 0.8013 - learning_rate: 5.0000e-05\n",
      "Epoch 7/30\n",
      "\u001b[1m171/171\u001b[0m \u001b[32m━━━━━━━━━━━━━━━━━━━━\u001b[0m\u001b[37m\u001b[0m \u001b[1m20s\u001b[0m 118ms/step - accuracy: 0.9278 - loss: 0.4727 - val_accuracy: 0.8184 - val_loss: 0.7431 - learning_rate: 5.0000e-05\n",
      "Epoch 8/30\n",
      "\u001b[1m171/171\u001b[0m \u001b[32m━━━━━━━━━━━━━━━━━━━━\u001b[0m\u001b[37m\u001b[0m \u001b[1m20s\u001b[0m 117ms/step - accuracy: 0.9388 - loss: 0.4498 - val_accuracy: 0.8086 - val_loss: 0.7634 - learning_rate: 5.0000e-05\n",
      "Epoch 9/30\n",
      "\u001b[1m171/171\u001b[0m \u001b[32m━━━━━━━━━━━━━━━━━━━━\u001b[0m\u001b[37m\u001b[0m \u001b[1m20s\u001b[0m 116ms/step - accuracy: 0.9454 - loss: 0.4373 - val_accuracy: 0.8135 - val_loss: 0.8081 - learning_rate: 5.0000e-05\n",
      "Epoch 10/30\n",
      "\u001b[1m171/171\u001b[0m \u001b[32m━━━━━━━━━━━━━━━━━━━━\u001b[0m\u001b[37m\u001b[0m \u001b[1m20s\u001b[0m 117ms/step - accuracy: 0.9550 - loss: 0.4174 - val_accuracy: 0.8008 - val_loss: 0.8239 - learning_rate: 5.0000e-05\n",
      "Epoch 11/30\n",
      "\u001b[1m171/171\u001b[0m \u001b[32m━━━━━━━━━━━━━━━━━━━━\u001b[0m\u001b[37m\u001b[0m \u001b[1m20s\u001b[0m 118ms/step - accuracy: 0.9614 - loss: 0.4053 - val_accuracy: 0.8271 - val_loss: 0.7549 - learning_rate: 2.5000e-05\n",
      "Epoch 12/30\n",
      "\u001b[1m171/171\u001b[0m \u001b[32m━━━━━━━━━━━━━━━━━━━━\u001b[0m\u001b[37m\u001b[0m \u001b[1m20s\u001b[0m 117ms/step - accuracy: 0.9793 - loss: 0.3736 - val_accuracy: 0.8105 - val_loss: 0.7916 - learning_rate: 2.5000e-05\n",
      "Epoch 13/30\n",
      "\u001b[1m171/171\u001b[0m \u001b[32m━━━━━━━━━━━━━━━━━━━━\u001b[0m\u001b[37m\u001b[0m \u001b[1m20s\u001b[0m 118ms/step - accuracy: 0.9808 - loss: 0.3719 - val_accuracy: 0.8193 - val_loss: 0.7768 - learning_rate: 2.5000e-05\n",
      "Epoch 14/30\n",
      "\u001b[1m171/171\u001b[0m \u001b[32m━━━━━━━━━━━━━━━━━━━━\u001b[0m\u001b[37m\u001b[0m \u001b[1m20s\u001b[0m 118ms/step - accuracy: 0.9821 - loss: 0.3592 - val_accuracy: 0.8281 - val_loss: 0.7645 - learning_rate: 1.2500e-05\n",
      "\n",
      "Evaluating VGG19+LSTM model on test set...\n",
      "Total 1280 videos and 1280 classes\n",
      "test_gen batch videos shape: (24, 5, 128, 128, 3)\n",
      "test_gen batch labels shape: (24, 16)\n",
      "\u001b[1m54/54\u001b[0m \u001b[32m━━━━━━━━━━━━━━━━━━━━\u001b[0m\u001b[37m\u001b[0m \u001b[1m4s\u001b[0m 80ms/step - accuracy: 0.7911 - loss: 0.7905\n",
      "VGG19+LSTM Test Loss: 0.7979\n",
      "VGG19+LSTM Test Accuracy: 79.61%\n"
     ]
    }
   ],
   "source": [
    "\n",
    "# Unfreeze some layers for fine-tuning\n",
    "base_model.trainable = True\n",
    "# Freeze all layers except the last 8 layers (consistent with previous VGG19 code)\n",
    "for layer in base_model.layers[:-8]:\n",
    "    layer.trainable = False\n",
    "\n",
    "# Recompile the model with a lower learning rate for fine-tuning\n",
    "model.compile(\n",
    "    loss='categorical_crossentropy',\n",
    "    optimizer=tf.keras.optimizers.Adam(learning_rate=0.0001),  # Lower learning rate for fine-tuning\n",
    "    metrics=['accuracy']\n",
    ")\n",
    "\n",
    "# Fine-tune the model\n",
    "print(f\"\\nFine-tuning started for VGG19+LSTM model with {len(train_gen.videos)} videos of {NO_OF_CLASSES} classes with {len(val_gen.videos)} videos for validation...\")\n",
    "try:\n",
    "    fine_tune_model_history = model.fit(\n",
    "        train_gen.as_dataset(),\n",
    "        validation_data=val_gen.as_dataset(),\n",
    "        epochs=EPOCHS,\n",
    "        class_weight=class_weights,\n",
    "        callbacks=[early_stopping_callback, lr_scheduler]\n",
    "    )\n",
    "except Exception as e:\n",
    "    print(f\"Error during fine-tuning: {str(e)}\")\n",
    "    import traceback\n",
    "    traceback.print_exc()\n",
    "\n",
    "# Evaluate the model on the test set\n",
    "print(\"\\nEvaluating VGG19+LSTM model on test set...\")\n",
    "test_gen = VideoDataGenerator(\n",
    "    videos=features_test,\n",
    "    labels=labels_test,\n",
    "    batch_size=BATCH_SIZE\n",
    ")\n",
    "try:\n",
    "    videos, labels = test_gen[0]\n",
    "    print(f\"test_gen batch videos shape: {videos.shape}\")\n",
    "    print(f\"test_gen batch labels shape: {labels.shape}\")\n",
    "    loss, accuracy = model.evaluate(test_gen.as_dataset())\n",
    "    print(f'VGG19+LSTM Test Loss: {loss:.4f}')\n",
    "    print(f'VGG19+LSTM Test Accuracy: {accuracy * 100:.2f}%')\n",
    "except Exception as e:\n",
    "    print(f\"Error during model evaluation: {str(e)}\")\n",
    "    import traceback\n",
    "    traceback.print_exc()\n"
   ]
  },
  {
   "cell_type": "code",
   "execution_count": 43,
   "id": "fdd3a6c0",
   "metadata": {
    "execution": {
     "iopub.execute_input": "2025-07-11T18:08:50.696017Z",
     "iopub.status.busy": "2025-07-11T18:08:50.695699Z",
     "iopub.status.idle": "2025-07-11T18:09:10.834424Z",
     "shell.execute_reply": "2025-07-11T18:09:10.833643Z"
    },
    "papermill": {
     "duration": 20.496173,
     "end_time": "2025-07-11T18:09:10.836310",
     "exception": false,
     "start_time": "2025-07-11T18:08:50.340137",
     "status": "completed"
    },
    "tags": []
   },
   "outputs": [
    {
     "data": {
      "image/png": "[encoded data removed]",
      "text/plain": [
       "<Figure size 1200x500 with 2 Axes>"
      ]
     },
     "metadata": {},
     "output_type": "display_data"
    },
    {
     "name": "stdout",
     "output_type": "stream",
     "text": [
      "\u001b[1m54/54\u001b[0m \u001b[32m━━━━━━━━━━━━━━━━━━━━\u001b[0m\u001b[37m\u001b[0m \u001b[1m18s\u001b[0m 197ms/step\n",
      "True classes shape: (1280,)\n",
      "Predicted classes shape: (1280,)\n",
      "\n",
      "VGG19+LSTM Classification Report:\n",
      "                                 precision    recall  f1-score   support\n",
      "\n",
      "                          write       0.59      0.44      0.50        82\n",
      "                      sit still       0.70      0.67      0.68        76\n",
      "                       sit down       0.99      0.99      0.99        84\n",
      "move hands in front of the body       0.86      0.90      0.88        80\n",
      "               raise one leg up       0.95      1.00      0.97        78\n",
      "            drink from a bottle       0.44      0.65      0.52        79\n",
      "                       stand up       0.98      1.00      0.99        83\n",
      "                           read       0.61      0.67      0.64        81\n",
      "                    throw paper       0.58      0.47      0.52        81\n",
      "                           walk       1.00      0.99      0.99        74\n",
      "               drink from a mug       0.42      0.32      0.36        90\n",
      "                  fall from bed       1.00      0.99      0.99        78\n",
      "                          faint       1.00      1.00      1.00        82\n",
      "              raise one hand up       0.99      0.97      0.98        69\n",
      "                       cheer up       0.85      0.94      0.89        77\n",
      "   move hands close to the body       0.84      0.85      0.84        86\n",
      "\n",
      "                       accuracy                           0.80      1280\n",
      "                      macro avg       0.80      0.80      0.80      1280\n",
      "                   weighted avg       0.79      0.80      0.79      1280\n",
      "\n"
     ]
    },
    {
     "name": "stderr",
     "output_type": "stream",
     "text": [
      "/usr/local/lib/python3.11/dist-packages/keras/src/trainers/epoch_iterator.py:151: UserWarning: Your input ran out of data; interrupting training. Make sure that your dataset or generator can generate at least `steps_per_epoch * epochs` batches. You may need to use the `.repeat()` function when building your dataset.\n",
      "  self._interrupted_warning()\n"
     ]
    },
    {
     "data": {
      "image/png": "[encoded data removed]",
      "text/plain": [
       "<Figure size 800x600 with 2 Axes>"
      ]
     },
     "metadata": {},
     "output_type": "display_data"
    }
   ],
   "source": [
    "\n",
    "# Plot training history (combine initial and fine-tuning)\n",
    "import matplotlib.pyplot as plt\n",
    "\n",
    "try:\n",
    "    # Combine histories\n",
    "    history_accuracy = initial_model_history.history['accuracy'] + fine_tune_model_history.history['accuracy']\n",
    "    history_val_accuracy = initial_model_history.history['val_accuracy'] + fine_tune_model_history.history['val_accuracy']\n",
    "    history_loss = initial_model_history.history['loss'] + fine_tune_model_history.history['loss']\n",
    "    history_val_loss = initial_model_history.history['val_loss'] + fine_tune_model_history.history['val_loss']\n",
    "\n",
    "    plt.figure(figsize=(12, 5))\n",
    "\n",
    "    # Accuracy\n",
    "    plt.subplot(1, 2, 1)\n",
    "    plt.plot(history_accuracy, label='Train Accuracy')\n",
    "    plt.plot(history_val_accuracy, label='Validation Accuracy')\n",
    "    plt.axvline(x=len(initial_model_history.history['accuracy']), color='r', linestyle='--', label='Start Fine-Tuning')\n",
    "    plt.title('VGG19+LSTM Model Accuracy')\n",
    "    plt.xlabel('Epoch')\n",
    "    plt.ylabel('Accuracy')\n",
    "    plt.legend()\n",
    "\n",
    "    # Loss\n",
    "    plt.subplot(1, 2, 2)\n",
    "    plt.plot(history_loss, label='Train Loss')\n",
    "    plt.plot(history_val_loss, label='Validation Loss')\n",
    "    plt.axvline(x=len(initial_model_history.history['loss']), color='r', linestyle='--', label='Start Fine-Tuning')\n",
    "    plt.title('VGG19+LSTM Model Loss')\n",
    "    plt.xlabel('Epoch')\n",
    "    plt.ylabel('Loss')\n",
    "    plt.legend()\n",
    "\n",
    "    plt.tight_layout()\n",
    "    plt.show()\n",
    "except Exception as e:\n",
    "    print(f\"Error plotting training history: {str(e)}\")\n",
    "\n",
    "# Generate confusion matrix and classification report\n",
    "from sklearn.metrics import classification_report, confusion_matrix\n",
    "import seaborn as sns\n",
    "\n",
    "# Get predictions\n",
    "try:\n",
    "    predictions = model.predict(test_gen.as_dataset())\n",
    "    predicted_classes = np.argmax(predictions, axis=1)\n",
    "    true_classes = np.argmax(labels_test, axis=1)\n",
    "\n",
    "    # Verify shapes\n",
    "    print(f\"True classes shape: {true_classes.shape}\")\n",
    "    print(f\"Predicted classes shape: {predicted_classes.shape}\")\n",
    "    assert len(true_classes) == len(predicted_classes), \"Sample counts do not match!\"\n",
    "\n",
    "    # Generate classification report\n",
    "    print(\"\\nVGG19+LSTM Classification Report:\")\n",
    "    print(classification_report(true_classes, predicted_classes, target_names=CLASSES_LIST))\n",
    "\n",
    "    # Plot confusion matrix\n",
    "    cm = confusion_matrix(true_classes, predicted_classes)\n",
    "    plt.figure(figsize=(8, 6))\n",
    "    sns.heatmap(cm, annot=True, fmt='d', cmap='Blues', xticklabels=CLASSES_LIST, yticklabels=CLASSES_LIST)\n",
    "    plt.xlabel('Predicted')\n",
    "    plt.ylabel('True')\n",
    "    plt.title('VGG19+LSTM Confusion Matrix')\n",
    "    plt.show()\n",
    "except Exception as e:\n",
    "    print(f\"Error during prediction or plotting: {str(e)}\")\n",
    "    import traceback\n",
    "    traceback.print_exc()"
   ]
  },
  {
   "cell_type": "code",
   "execution_count": 44,
   "id": "1b714d37",
   "metadata": {
    "execution": {
     "iopub.execute_input": "2025-07-11T18:09:11.601616Z",
     "iopub.status.busy": "2025-07-11T18:09:11.601090Z",
     "iopub.status.idle": "2025-07-11T18:09:19.107864Z",
     "shell.execute_reply": "2025-07-11T18:09:19.107083Z"
    },
    "papermill": {
     "duration": 7.915654,
     "end_time": "2025-07-11T18:09:19.109285",
     "exception": false,
     "start_time": "2025-07-11T18:09:11.193631",
     "status": "completed"
    },
    "tags": []
   },
   "outputs": [
    {
     "name": "stdout",
     "output_type": "stream",
     "text": [
      "\u001b[1m40/40\u001b[0m \u001b[32m━━━━━━━━━━━━━━━━━━━━\u001b[0m\u001b[37m\u001b[0m \u001b[1m4s\u001b[0m 95ms/step - accuracy: 0.7901 - loss: 0.7937\n"
     ]
    }
   ],
   "source": [
    "# previous code\n",
    "model_evaluation_history = model.evaluate(features_test, labels_test)"
   ]
  }
 ],
 "metadata": {
  "kaggle": {
   "accelerator": "nvidiaTeslaT4",
   "dataSources": [
    {
     "datasetId": 1357563,
     "sourceId": 2256095,
     "sourceType": "datasetVersion"
    },
    {
     "datasetId": 7763484,
     "sourceId": 12338519,
     "sourceType": "datasetVersion"
    },
    {
     "datasetId": 7801555,
     "sourceId": 12373067,
     "sourceType": "datasetVersion"
    },
    {
     "datasetId": 7801884,
     "sourceId": 12373562,
     "sourceType": "datasetVersion"
    }
   ],
   "dockerImageVersionId": 31090,
   "isGpuEnabled": true,
   "isInternetEnabled": true,
   "language": "python",
   "sourceType": "notebook"
  },
  "kernelspec": {
   "display_name": "Python 3",
   "language": "python",
   "name": "python3"
  },
  "language_info": {
   "codemirror_mode": {
    "name": "ipython",
    "version": 3
   },
   "file_extension": ".py",
   "mimetype": "text/x-python",
   "name": "python",
   "nbconvert_exporter": "python",
   "pygments_lexer": "ipython3",
   "version": "3.11.13"
  },
  "papermill": {
   "default_parameters": {},
   "duration": 1701.206295,
   "end_time": "2025-07-11T18:09:22.830642",
   "environment_variables": {},
   "exception": null,
   "input_path": "__notebook__.ipynb",
   "output_path": "__notebook__.ipynb",
   "parameters": {},
   "start_time": "2025-07-11T17:41:01.624347",
   "version": "2.6.0"
  }
 },
 "nbformat": 4,
 "nbformat_minor": 5
}
