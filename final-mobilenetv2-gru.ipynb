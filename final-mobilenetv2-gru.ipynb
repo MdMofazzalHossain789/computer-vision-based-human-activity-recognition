{
 "cells": [
  {
   "cell_type": "markdown",
   "id": "1f42dc51",
   "metadata": {
    "papermill": {
     "duration": 0.009362,
     "end_time": "2025-07-11T16:37:58.582561",
     "exception": false,
     "start_time": "2025-07-11T16:37:58.573199",
     "status": "completed"
    },
    "tags": []
   },
   "source": [
    "# Initialization\n",
    "## Import Libraries"
   ]
  },
  {
   "cell_type": "code",
   "execution_count": 1,
   "id": "54aac966",
   "metadata": {
    "_cell_guid": "b1076dfc-b9ad-4769-8c92-a6c4dae69d19",
    "_uuid": "8f2839f25d086af736a60e9eeb907d3b93b6e0e5",
    "execution": {
     "iopub.execute_input": "2025-07-11T16:37:58.599619Z",
     "iopub.status.busy": "2025-07-11T16:37:58.599426Z",
     "iopub.status.idle": "2025-07-11T16:38:13.783438Z",
     "shell.execute_reply": "2025-07-11T16:38:13.782643Z"
    },
    "papermill": {
     "duration": 15.193889,
     "end_time": "2025-07-11T16:38:13.784890",
     "exception": false,
     "start_time": "2025-07-11T16:37:58.591001",
     "status": "completed"
    },
    "tags": []
   },
   "outputs": [
    {
     "name": "stderr",
     "output_type": "stream",
     "text": [
      "2025-07-11 16:38:00.538745: E external/local_xla/xla/stream_executor/cuda/cuda_fft.cc:477] Unable to register cuFFT factory: Attempting to register factory for plugin cuFFT when one has already been registered\n",
      "WARNING: All log messages before absl::InitializeLog() is called are written to STDERR\n",
      "E0000 00:00:1752251880.743939      20 cuda_dnn.cc:8310] Unable to register cuDNN factory: Attempting to register factory for plugin cuDNN when one has already been registered\n",
      "E0000 00:00:1752251880.815005      20 cuda_blas.cc:1418] Unable to register cuBLAS factory: Attempting to register factory for plugin cuBLAS when one has already been registered\n"
     ]
    }
   ],
   "source": [
    "# install librarires\n",
    "import os\n",
    "import tensorflow as tf\n",
    "import numpy as np\n",
    "import random"
   ]
  },
  {
   "cell_type": "markdown",
   "id": "8d4528ca",
   "metadata": {
    "papermill": {
     "duration": 0.008747,
     "end_time": "2025-07-11T16:38:13.802144",
     "exception": false,
     "start_time": "2025-07-11T16:38:13.793397",
     "status": "completed"
    },
    "tags": []
   },
   "source": [
    "## ℹ️ Set Global Constants"
   ]
  },
  {
   "cell_type": "code",
   "execution_count": 2,
   "id": "ab066328",
   "metadata": {
    "execution": {
     "iopub.execute_input": "2025-07-11T16:38:13.819318Z",
     "iopub.status.busy": "2025-07-11T16:38:13.818932Z",
     "iopub.status.idle": "2025-07-11T16:38:13.832781Z",
     "shell.execute_reply": "2025-07-11T16:38:13.832005Z"
    },
    "papermill": {
     "duration": 0.023745,
     "end_time": "2025-07-11T16:38:13.833941",
     "exception": false,
     "start_time": "2025-07-11T16:38:13.810196",
     "status": "completed"
    },
    "tags": []
   },
   "outputs": [
    {
     "name": "stdout",
     "output_type": "stream",
     "text": [
      "Msrdailyactivity3D Rgb Videos Only\n",
      "There are total 16 classes, selected 16 classes\n",
      "Setting None/class to train the model.\n",
      "Image size 128x128 with 5 sequence length\n",
      "Dropout rate: 0.5\n",
      "Train-Test split ratio 80/20\n",
      "Validation data from Train set 20.0%\n"
     ]
    }
   ],
   "source": [
    "# global variables\n",
    "# set dataset directories\n",
    "\n",
    "\n",
    "DATASET_DIR = \"/kaggle/input/msrdailyactivity3d-rgb-videos-only\"\n",
    "DATASET_NAME = DATASET_DIR.split(\"/\")[-1].replace(\"-\", \" \").title()\n",
    "\n",
    "print(DATASET_NAME)\n",
    "\n",
    "ALL_CLASS_NAMES = os.listdir(DATASET_DIR)\n",
    "\n",
    "# Global constant variables -> \n",
    "NO_OF_CLASSES = len(ALL_CLASS_NAMES)\n",
    "CLASSES_LIST = ALL_CLASS_NAMES[:NO_OF_CLASSES]\n",
    "\n",
    "# Model Configuration\n",
    "IMAGE_HEIGHT, IMAGE_WIDTH = 128, 128\n",
    "SEQUENCE_LENGTH = 5\n",
    "\n",
    "# set drop out rate\n",
    "DROPOUT_RATE = 0.5\n",
    "\n",
    "# set datas\n",
    "MAX_VIDEO_PER_CLASS = None\n",
    "\n",
    "# split dataset\n",
    "TEST_SIZE = 0.20\n",
    "\n",
    "# model fit parameters\n",
    "EPOCHS = 30\n",
    "BATCH_SIZE = 24\n",
    "VALIDATION_SPLIT = 0.20\n",
    "\n",
    "# augmentation values\n",
    "NOISE_FACTOR = 0.02\n",
    "SHEAR_X= 1\n",
    "SHEAR_Y= 1\n",
    "\n",
    "# give a name of the model to save\n",
    "MODEL_NAME = \"Xception\"\n",
    "\n",
    "print(f\"There are total {len(ALL_CLASS_NAMES)} classes, selected {NO_OF_CLASSES} classes\")\n",
    "print(f\"Setting {MAX_VIDEO_PER_CLASS}/class to train the model.\")\n",
    "print(f\"Image size {IMAGE_HEIGHT}x{IMAGE_WIDTH} with {SEQUENCE_LENGTH} sequence length\")\n",
    "print(f\"Dropout rate: {DROPOUT_RATE}\")\n",
    "print(f\"Train-Test split ratio {int((1-TEST_SIZE)*100)}/{int(TEST_SIZE*100)}\")\n",
    "print(f\"Validation data from Train set {VALIDATION_SPLIT*100}%\")"
   ]
  },
  {
   "cell_type": "markdown",
   "id": "eaa2bbd1",
   "metadata": {
    "papermill": {
     "duration": 0.00782,
     "end_time": "2025-07-11T16:38:13.849734",
     "exception": false,
     "start_time": "2025-07-11T16:38:13.841914",
     "status": "completed"
    },
    "tags": []
   },
   "source": [
    "## Set `Seed` Values"
   ]
  },
  {
   "cell_type": "code",
   "execution_count": 3,
   "id": "f7020f5d",
   "metadata": {
    "execution": {
     "iopub.execute_input": "2025-07-11T16:38:13.866338Z",
     "iopub.status.busy": "2025-07-11T16:38:13.866150Z",
     "iopub.status.idle": "2025-07-11T16:38:13.869524Z",
     "shell.execute_reply": "2025-07-11T16:38:13.869055Z"
    },
    "papermill": {
     "duration": 0.012822,
     "end_time": "2025-07-11T16:38:13.870518",
     "exception": false,
     "start_time": "2025-07-11T16:38:13.857696",
     "status": "completed"
    },
    "tags": []
   },
   "outputs": [],
   "source": [
    "# set seeed to get similar values\n",
    "seed_constant = 27\n",
    "np.random.seed(seed_constant)\n",
    "random.seed(seed_constant)\n",
    "tf.random.set_seed(seed_constant)"
   ]
  },
  {
   "cell_type": "markdown",
   "id": "a5c1c2d1",
   "metadata": {
    "papermill": {
     "duration": 0.007698,
     "end_time": "2025-07-11T16:38:13.886089",
     "exception": false,
     "start_time": "2025-07-11T16:38:13.878391",
     "status": "completed"
    },
    "tags": []
   },
   "source": [
    "# 📌 Function Definition\n",
    "## Resize and Frame Extraction"
   ]
  },
  {
   "cell_type": "code",
   "execution_count": 4,
   "id": "bb9a28d4",
   "metadata": {
    "execution": {
     "iopub.execute_input": "2025-07-11T16:38:13.902868Z",
     "iopub.status.busy": "2025-07-11T16:38:13.902464Z",
     "iopub.status.idle": "2025-07-11T16:38:13.911008Z",
     "shell.execute_reply": "2025-07-11T16:38:13.910447Z"
    },
    "papermill": {
     "duration": 0.018109,
     "end_time": "2025-07-11T16:38:13.912031",
     "exception": false,
     "start_time": "2025-07-11T16:38:13.893922",
     "status": "completed"
    },
    "tags": []
   },
   "outputs": [],
   "source": [
    "import cv2\n",
    "from concurrent.futures import ThreadPoolExecutor\n",
    "\n",
    "def resize_and_normalize_frame(frame, image_height, image_width):\n",
    "    try:\n",
    "        resized_frame = cv2.resize(frame, (image_width, image_height), interpolation=cv2.INTER_LINEAR)\n",
    "        normalized_frame = resized_frame / 255.0\n",
    "        return normalized_frame\n",
    "    except Exception as e:\n",
    "        print(f\"Error processing frame: {e}\")\n",
    "        return None\n",
    "\n",
    "def frames_extraction(video_path, \n",
    "                      sequence_length=SEQUENCE_LENGTH, \n",
    "                      image_height=IMAGE_HEIGHT, \n",
    "                      image_width=IMAGE_WIDTH):\n",
    "    # Declare a list to store video frames\n",
    "    frames_list = []\n",
    "\n",
    "    # Check if video file exists\n",
    "    if not os.path.exists(video_path):\n",
    "        print(f\"Error: Video file not found at {video_path}\")\n",
    "        return None\n",
    "\n",
    "    # Read the video file using VideoCapture with optimized settings\n",
    "    video_reader = cv2.VideoCapture(video_path, cv2.CAP_FFMPEG)\n",
    "\n",
    "    # Check if the video was opened successfully\n",
    "    if not video_reader.isOpened():\n",
    "        print(f\"Error: Could not open video file {video_path}\")\n",
    "        video_reader.release()\n",
    "        return None\n",
    "\n",
    "    # Get the total number of frames in the video\n",
    "    video_frames_count = int(video_reader.get(cv2.CAP_PROP_FRAME_COUNT))\n",
    "\n",
    "    # Ensure the video has enough frames\n",
    "    if video_frames_count < sequence_length:\n",
    "        print(f\"Warning: Video {video_path} has only {video_frames_count} frames, less than required {sequence_length}\")\n",
    "        video_reader.release()\n",
    "        return None\n",
    "\n",
    "    # Calculate the interval after which frames will be sampled\n",
    "    skip_frames_window = max(int(video_frames_count / sequence_length), 1)\n",
    "\n",
    "    # Pre-allocate frame indices to extract\n",
    "    frame_indices = [i * skip_frames_window for i in range(sequence_length)]\n",
    "\n",
    "    # Read and process frames in parallel\n",
    "    frames = []\n",
    "    for idx in frame_indices:\n",
    "        video_reader.set(cv2.CAP_PROP_POS_FRAMES, idx)\n",
    "        success, frame = video_reader.read()\n",
    "        if not success or frame is None:\n",
    "            print(f\"Warning: Failed to read frame at index {idx} from {video_path}\")\n",
    "            break\n",
    "        frame = cv2.cvtColor(frame, cv2.COLOR_BGR2RGB)\n",
    "        frames.append(frame)\n",
    "\n",
    "    # Release the VideoCapture object early\n",
    "    video_reader.release()\n",
    "\n",
    "    # Ensure the correct number of frames is read\n",
    "    if len(frames) != sequence_length:\n",
    "        print(f\"Warning: Read {len(frames)} frames instead of {sequence_length} from {video_path}\")\n",
    "        return None\n",
    "\n",
    "    # Process frames in parallel using ThreadPoolExecutor\n",
    "    with ThreadPoolExecutor() as executor:\n",
    "        processed_frames = list(executor.map(\n",
    "            lambda f: resize_and_normalize_frame(f, image_height, image_width), \n",
    "            frames\n",
    "        ))\n",
    "\n",
    "    # Check for any failed frame processing\n",
    "    if any(f is None for f in processed_frames):\n",
    "        print(f\"Warning: Some frames failed to process in {video_path}\")\n",
    "        return None\n",
    "\n",
    "    # Convert to NumPy array\n",
    "    frames_array = np.array(processed_frames, dtype=np.float32)\n",
    "\n",
    "    return frames_array"
   ]
  },
  {
   "cell_type": "code",
   "execution_count": 5,
   "id": "6fa12aa7",
   "metadata": {
    "execution": {
     "iopub.execute_input": "2025-07-11T16:38:13.929217Z",
     "iopub.status.busy": "2025-07-11T16:38:13.929010Z",
     "iopub.status.idle": "2025-07-11T16:38:13.932077Z",
     "shell.execute_reply": "2025-07-11T16:38:13.931522Z"
    },
    "papermill": {
     "duration": 0.012951,
     "end_time": "2025-07-11T16:38:13.933043",
     "exception": false,
     "start_time": "2025-07-11T16:38:13.920092",
     "status": "completed"
    },
    "tags": []
   },
   "outputs": [],
   "source": [
    " # # Iterate through all video files\n",
    " #        for file_name in files_list:\n",
    " #            video_file_path = os.path.join(class_path, file_name)\n",
    "\n",
    " #            # Extract frames using the updated frames_extraction function\n",
    " #            frames = frames_extraction(video_file_path, sequence_length, image_height, image_width)\n",
    "\n",
    " #            # Skip videos where frame extraction failed\n",
    " #            if frames is None:\n",
    " #                print(f\"Skipping video {video_file_path} due to frame extraction failure\")\n",
    " #                continue\n",
    "\n",
    " #            # Append the data to respective lists\n",
    " #            features.append(frames)\n",
    " #            labels.append(class_index)"
   ]
  },
  {
   "cell_type": "markdown",
   "id": "202c444b",
   "metadata": {
    "papermill": {
     "duration": 0.007811,
     "end_time": "2025-07-11T16:38:13.948740",
     "exception": false,
     "start_time": "2025-07-11T16:38:13.940929",
     "status": "completed"
    },
    "tags": []
   },
   "source": [
    "## Create Dataset"
   ]
  },
  {
   "cell_type": "code",
   "execution_count": 6,
   "id": "730e91d0",
   "metadata": {
    "execution": {
     "iopub.execute_input": "2025-07-11T16:38:13.965644Z",
     "iopub.status.busy": "2025-07-11T16:38:13.965467Z",
     "iopub.status.idle": "2025-07-11T16:38:13.971023Z",
     "shell.execute_reply": "2025-07-11T16:38:13.970527Z"
    },
    "papermill": {
     "duration": 0.015338,
     "end_time": "2025-07-11T16:38:13.972050",
     "exception": false,
     "start_time": "2025-07-11T16:38:13.956712",
     "status": "completed"
    },
    "tags": []
   },
   "outputs": [],
   "source": [
    "# RUN create dataset function definition\n",
    "def create_dataset(dataset_dir,\n",
    "                   classes_list, \n",
    "                   sequence_length=SEQUENCE_LENGTH, \n",
    "                   image_height=IMAGE_HEIGHT, \n",
    "                   image_width=IMAGE_WIDTH, \n",
    "                   max_videos_per_class=None,\n",
    "                   augmentations=False\n",
    "                  ):\n",
    "    \n",
    "    # Initialize lists to store features, labels, and video file paths\n",
    "    videos = []\n",
    "    labels = []\n",
    "\n",
    "    # Check if dataset directory exists\n",
    "    if not os.path.exists(dataset_dir):\n",
    "        raise FileNotFoundError(f\"Dataset directory not found: {dataset_dir}\")\n",
    "\n",
    "    # Iterate through all classes in the classes list\n",
    "    for class_index, class_name in enumerate(classes_list):\n",
    "        class_path = os.path.join(dataset_dir, class_name)\n",
    "        \n",
    "        # Check if class directory exists\n",
    "        if not os.path.exists(class_path):\n",
    "            print(f\"Warning: Class directory not found: {class_path}\")\n",
    "            continue\n",
    "\n",
    "        print(f'Extracting Data of Class: {class_name}')\n",
    "\n",
    "        # Get the list of video files in the class directory\n",
    "        files_list = os.listdir(class_path)\n",
    "\n",
    "        # Limit the number of videos if specified\n",
    "        if max_videos_per_class is not None:\n",
    "            files_list = files_list[:max_videos_per_class]\n",
    "\n",
    "        # Iterate through all video files\n",
    "        for file_name in files_list:\n",
    "            video_file_path = os.path.join(class_path, file_name)\n",
    "\n",
    "            # Extract frames using the updated frames_extraction function\n",
    "            frames = frames_extraction(video_file_path, \n",
    "                                       sequence_length, \n",
    "                                       image_height, \n",
    "                                       image_width)\n",
    "\n",
    "            # Skip videos where frame extraction failed\n",
    "            if frames is None:\n",
    "                print(f\"Skipping video {video_file_path} due to frame extraction failure\")\n",
    "                continue\n",
    "\n",
    "            # Append the data to respective lists\n",
    "            videos.append(frames)\n",
    "            labels.append(class_index)\n",
    "\n",
    "    # Convert lists to numpy arrays\n",
    "    if not videos:\n",
    "        raise ValueError(\"No valid videos were processed. Check dataset or parameters.\")\n",
    "    videos = np.asarray(videos)\n",
    "    labels = np.array(labels)\n",
    "\n",
    "    print(f\"Dataset created with {len(videos)} videos\")\n",
    "    print(f\"Features shape: {videos.shape}\")\n",
    "    print(f\"Labels shape: {labels.shape}\")\n",
    "\n",
    "    return videos, labels"
   ]
  },
  {
   "cell_type": "markdown",
   "id": "75ad0664",
   "metadata": {
    "papermill": {
     "duration": 0.007836,
     "end_time": "2025-07-11T16:38:13.987967",
     "exception": false,
     "start_time": "2025-07-11T16:38:13.980131",
     "status": "completed"
    },
    "tags": []
   },
   "source": [
    "## 🪄 Video Data Generator"
   ]
  },
  {
   "cell_type": "code",
   "execution_count": 7,
   "id": "e352087b",
   "metadata": {
    "execution": {
     "iopub.execute_input": "2025-07-11T16:38:14.004644Z",
     "iopub.status.busy": "2025-07-11T16:38:14.004470Z",
     "iopub.status.idle": "2025-07-11T16:38:14.065635Z",
     "shell.execute_reply": "2025-07-11T16:38:14.065164Z"
    },
    "papermill": {
     "duration": 0.070837,
     "end_time": "2025-07-11T16:38:14.066668",
     "exception": false,
     "start_time": "2025-07-11T16:38:13.995831",
     "status": "completed"
    },
    "tags": []
   },
   "outputs": [],
   "source": [
    "from tensorflow.keras.utils import Sequence, to_categorical\n",
    "import tensorflow as tf\n",
    "import numpy as np\n",
    "import cv2\n",
    "\n",
    "\n",
    "\n",
    "\n",
    "class VideoDataGenerator(Sequence):\n",
    "    def __init__(self, videos, labels, batch_size, is_training=False):\n",
    "        self.videos = list(videos)  # List of video file paths\n",
    "        self.labels = list(labels)  # List or array of labels encoded\n",
    "        self.batch_size = batch_size\n",
    "        self.indices = np.arange(len(self.videos))  # For shuffling\n",
    "        self.is_training = is_training  # Flag to control whether augmentation is applied\n",
    "        self.temp_videos=[]\n",
    "        self.temp_labels=[]\n",
    "        \n",
    "        \n",
    "        print(f\"Total {len(videos)} videos and {len(labels)} classes\")\n",
    "\n",
    "    def __len__(self):\n",
    "        # Return the number of batches per epoch\n",
    "        return int(np.ceil(len(self.videos) / self.batch_size))\n",
    "\n",
    "    def __getitem__(self, idx):\n",
    "        # Get batch indices\n",
    "        batch_indices = self.indices[idx * self.batch_size:(idx + 1) * self.batch_size]\n",
    "        \n",
    "        # Handle case where batch_indices is empty\n",
    "        if len(batch_indices) == 0:\n",
    "            return np.array([], dtype=np.float32), np.array([], dtype=np.float32)\n",
    "        \n",
    "        # Initialize lists to store frames and labels\n",
    "        all_frames = []\n",
    "        all_labels = []\n",
    "        \n",
    "        # Process each video in the batch\n",
    "        for i, index in enumerate(batch_indices):\n",
    "            sequence = self.videos[index]\n",
    "            label = self.labels[index]\n",
    "            \n",
    "            # Load and process video\n",
    "            # sequence = frames_extraction(video_path)\n",
    "\n",
    "            # if sequence is not None:\n",
    "            #     # Apply augmentations: 1 original + 4 augmentations (horizontal flip, shear, rotation, noise)\n",
    "            #     augmented_sequences = [sequence]  # Add original sequence\n",
    "\n",
    "            #     if self.is_training:\n",
    "            #         # Apply augmentations\n",
    "            #         augmented_sequences.append(np.array(horizontal_flip(sequence)))  # Horizontal Flip\n",
    "            #         augmented_sequences.append(np.array(apply_shear_frames(sequence, shear_right=0)))  # Random Shear\n",
    "            #         augmented_sequences.append(np.array(apply_shear_frames(sequence, shear_right=1)))  # Random Rotation\n",
    "            #         augmented_sequences.append(np.array(noise_video(sequence)))  # Salt and Pepper Noise\n",
    "\n",
    "            #     # Add augmented sequences to the batch\n",
    "            #     all_frames.extend(augmented_sequences)\n",
    "            #     all_labels.extend([label] * len(augmented_sequences))  # Each augmentation has the same label\n",
    "\n",
    "            \n",
    "            # Append the sequence and label\n",
    "            all_frames.append(sequence)\n",
    "            all_labels.append(label)\n",
    "        \n",
    "        # Convert to numpy arrays\n",
    "        all_frames = np.array(all_frames, dtype=np.float32)\n",
    "        all_labels = np.array(all_labels)\n",
    "            \n",
    "        \n",
    "        return all_frames, all_labels\n",
    "    def add(self, new_videos, new_labels):\n",
    "        self.temp_videos.extend(new_videos)\n",
    "        self.temp_labels.extend(new_labels)\n",
    "    \n",
    "    def confirm(self):\n",
    "        print(f\"Adding {len(self.temp_videos)} videos with {len(self.temp_labels)} classes.\")\n",
    "        self.videos.extend(self.temp_videos)\n",
    "        self.labels.extend(self.temp_labels)\n",
    "        print(f\"Successfully added - {len(self.temp_videos)} videos and {len(self.temp_labels)} classes.\")\n",
    "        self.temp_videos=[]\n",
    "        self.temp_labels=[]\n",
    "        self.indices = np.arange(len(self.videos))\n",
    "        print(f\"Now Total - {len(self.videos)} videos and {len(self.labels)} classes.\")\n",
    "        print(f\"PENDING for Augmentations - {len(self.temp_videos)} videos and {len(self.temp_labels)} classes.\")\n",
    "    \n",
    "    def on_epoch_end(self):\n",
    "        # Shuffle indices at the end of each epoch\n",
    "        np.random.shuffle(self.indices)\n",
    "\n",
    "    def as_dataset(self):\n",
    "        def generator():\n",
    "            for idx in range(len(self)):\n",
    "                frames, labels = self[idx]\n",
    "                # Skip empty batches\n",
    "                if frames.size == 0:\n",
    "                    continue\n",
    "                yield frames, labels\n",
    "        self.labels=np.array(self.labels)\n",
    "    \n",
    "        # Create a tf.data.Dataset\n",
    "        dataset = tf.data.Dataset.from_generator(\n",
    "            generator,\n",
    "            output_types=(tf.float32, tf.float32),\n",
    "            output_shapes=(\n",
    "                (None, SEQUENCE_LENGTH, IMAGE_HEIGHT, IMAGE_WIDTH, 3),\n",
    "                (None, NO_OF_CLASSES)\n",
    "            )\n",
    "        )\n",
    "        dataset = dataset.prefetch(tf.data.AUTOTUNE)\n",
    "        return dataset"
   ]
  },
  {
   "cell_type": "markdown",
   "id": "86d1f9d9",
   "metadata": {
    "papermill": {
     "duration": 0.007903,
     "end_time": "2025-07-11T16:38:14.082757",
     "exception": false,
     "start_time": "2025-07-11T16:38:14.074854",
     "status": "completed"
    },
    "tags": []
   },
   "source": [
    "## Debug and Helpers"
   ]
  },
  {
   "cell_type": "markdown",
   "id": "8269bd29",
   "metadata": {
    "papermill": {
     "duration": 0.007788,
     "end_time": "2025-07-11T16:38:14.098472",
     "exception": false,
     "start_time": "2025-07-11T16:38:14.090684",
     "status": "completed"
    },
    "tags": []
   },
   "source": [
    "## 💫 Augmentation Helper function"
   ]
  },
  {
   "cell_type": "code",
   "execution_count": 8,
   "id": "71f06b9e",
   "metadata": {
    "execution": {
     "iopub.execute_input": "2025-07-11T16:38:14.159323Z",
     "iopub.status.busy": "2025-07-11T16:38:14.159079Z",
     "iopub.status.idle": "2025-07-11T16:38:14.163592Z",
     "shell.execute_reply": "2025-07-11T16:38:14.163079Z"
    },
    "papermill": {
     "duration": 0.014236,
     "end_time": "2025-07-11T16:38:14.164536",
     "exception": false,
     "start_time": "2025-07-11T16:38:14.150300",
     "status": "completed"
    },
    "tags": []
   },
   "outputs": [],
   "source": [
    "import time\n",
    "\n",
    "    \n",
    "\n",
    "def apply_augmentation(augmentation_function, generator, confirm=False, *args, **kwargs):\n",
    "    \n",
    "    for i in range(len(generator)):\n",
    "        batch_videos, batch_labels = generator[i]\n",
    "        augmented_videos=[]\n",
    "        for videos in batch_videos:\n",
    "            augmented_videos.append(augmentation_function(videos, *args, **kwargs))\n",
    "        generator.add(augmented_videos, batch_labels)\n",
    "        print(f\"Processing video {len(generator.temp_videos)}...\", end=\"\\r\", flush=True)\n",
    "        time.sleep(0.5)  # simulate work\n",
    "    if confirm:\n",
    "        generator.confirm()"
   ]
  },
  {
   "cell_type": "markdown",
   "id": "55a3cf06",
   "metadata": {
    "papermill": {
     "duration": 0.008001,
     "end_time": "2025-07-11T16:38:14.180709",
     "exception": false,
     "start_time": "2025-07-11T16:38:14.172708",
     "status": "completed"
    },
    "tags": []
   },
   "source": [
    "### Show Frames"
   ]
  },
  {
   "cell_type": "code",
   "execution_count": 9,
   "id": "ef7f05eb",
   "metadata": {
    "execution": {
     "iopub.execute_input": "2025-07-11T16:38:14.197357Z",
     "iopub.status.busy": "2025-07-11T16:38:14.197158Z",
     "iopub.status.idle": "2025-07-11T16:38:14.200638Z",
     "shell.execute_reply": "2025-07-11T16:38:14.200109Z"
    },
    "papermill": {
     "duration": 0.013052,
     "end_time": "2025-07-11T16:38:14.201663",
     "exception": false,
     "start_time": "2025-07-11T16:38:14.188611",
     "status": "completed"
    },
    "tags": []
   },
   "outputs": [],
   "source": [
    "# show frame def\n",
    "import matplotlib.pyplot as plt\n",
    "\n",
    "def show_frame(frame):\n",
    "    plt.figure(figsize=(3,3))\n",
    "    plt.imshow(frame)\n",
    "    plt.axis(\"off\")\n",
    "    plt.tight_layout()"
   ]
  },
  {
   "cell_type": "markdown",
   "id": "88d465c3",
   "metadata": {
    "papermill": {
     "duration": 0.008026,
     "end_time": "2025-07-11T16:38:14.217824",
     "exception": false,
     "start_time": "2025-07-11T16:38:14.209798",
     "status": "completed"
    },
    "tags": []
   },
   "source": [
    "### Helper Function"
   ]
  },
  {
   "cell_type": "code",
   "execution_count": 10,
   "id": "9505371b",
   "metadata": {
    "execution": {
     "iopub.execute_input": "2025-07-11T16:38:14.234471Z",
     "iopub.status.busy": "2025-07-11T16:38:14.234300Z",
     "iopub.status.idle": "2025-07-11T16:38:14.238162Z",
     "shell.execute_reply": "2025-07-11T16:38:14.237655Z"
    },
    "papermill": {
     "duration": 0.013319,
     "end_time": "2025-07-11T16:38:14.239204",
     "exception": false,
     "start_time": "2025-07-11T16:38:14.225885",
     "status": "completed"
    },
    "tags": []
   },
   "outputs": [],
   "source": [
    "def show_frame_vs(frame1, frame2, title1=\"Frame 1\", title2=\"Frame 2\"):\n",
    "    plt.figure(figsize=(10, 5))\n",
    "\n",
    "    # First frame\n",
    "    plt.subplot(1, 2, 1)\n",
    "    plt.imshow(frame1)\n",
    "    plt.title(title1)\n",
    "    plt.axis('off')\n",
    "\n",
    "    # Second frame\n",
    "    plt.subplot(1, 2, 2)\n",
    "    plt.imshow(frame2)\n",
    "    plt.title(title2)\n",
    "    plt.axis('off')\n",
    "\n",
    "    plt.tight_layout()\n",
    "    plt.show()"
   ]
  },
  {
   "cell_type": "code",
   "execution_count": 11,
   "id": "4dd3a5f5",
   "metadata": {
    "execution": {
     "iopub.execute_input": "2025-07-11T16:38:14.256129Z",
     "iopub.status.busy": "2025-07-11T16:38:14.255736Z",
     "iopub.status.idle": "2025-07-11T16:38:14.259023Z",
     "shell.execute_reply": "2025-07-11T16:38:14.258536Z"
    },
    "papermill": {
     "duration": 0.012786,
     "end_time": "2025-07-11T16:38:14.259978",
     "exception": false,
     "start_time": "2025-07-11T16:38:14.247192",
     "status": "completed"
    },
    "tags": []
   },
   "outputs": [],
   "source": [
    "# reusable video loop helper function\n",
    "def apply_function(function, videos, *arg, **kwargs):\n",
    "    new_videos=[]\n",
    "    \n",
    "    for video in videos:\n",
    "        new_videos.append(function(video, *arg, **kwargs))\n",
    "        \n",
    "    return new_videos"
   ]
  },
  {
   "cell_type": "code",
   "execution_count": 12,
   "id": "d2078ab7",
   "metadata": {
    "execution": {
     "iopub.execute_input": "2025-07-11T16:38:14.277040Z",
     "iopub.status.busy": "2025-07-11T16:38:14.276861Z",
     "iopub.status.idle": "2025-07-11T16:38:14.280456Z",
     "shell.execute_reply": "2025-07-11T16:38:14.279988Z"
    },
    "papermill": {
     "duration": 0.012989,
     "end_time": "2025-07-11T16:38:14.281398",
     "exception": false,
     "start_time": "2025-07-11T16:38:14.268409",
     "status": "completed"
    },
    "tags": []
   },
   "outputs": [],
   "source": [
    "# reusable video loop helper function\n",
    "def apply(function, videos, labels, *arg, **kwargs):\n",
    "    new_videos=[]\n",
    "    new_labels=[]\n",
    "    combined=zip(labels, videos)\n",
    "    \n",
    "    for label, video in combined:\n",
    "        new_videos.append(function(video, *arg, **kwargs))\n",
    "        new_labels.append(label)\n",
    "        \n",
    "    new_videos=np.asarray(new_videos)\n",
    "    new_labels=np.asarray(new_labels)\n",
    "    \n",
    "    return new_videos, new_labels"
   ]
  },
  {
   "cell_type": "markdown",
   "id": "9f9d5f9c",
   "metadata": {
    "papermill": {
     "duration": 0.007909,
     "end_time": "2025-07-11T16:38:14.297287",
     "exception": false,
     "start_time": "2025-07-11T16:38:14.289378",
     "status": "completed"
    },
    "tags": []
   },
   "source": [
    "## Salt and Pepper Noise "
   ]
  },
  {
   "cell_type": "code",
   "execution_count": 13,
   "id": "2b0a7607",
   "metadata": {
    "execution": {
     "iopub.execute_input": "2025-07-11T16:38:14.314117Z",
     "iopub.status.busy": "2025-07-11T16:38:14.313942Z",
     "iopub.status.idle": "2025-07-11T16:38:14.317818Z",
     "shell.execute_reply": "2025-07-11T16:38:14.317299Z"
    },
    "papermill": {
     "duration": 0.013322,
     "end_time": "2025-07-11T16:38:14.318792",
     "exception": false,
     "start_time": "2025-07-11T16:38:14.305470",
     "status": "completed"
    },
    "tags": []
   },
   "outputs": [],
   "source": [
    "# Noise function def\n",
    "\n",
    "def noise_video(video,noise_factor=NOISE_FACTOR):\n",
    "    noisy_video=[]\n",
    "    for frame in video:\n",
    "        # Generate random noise\n",
    "        noise = np.random.rand(*frame.shape)  # Generate random noise\n",
    "        salt_pepper_noise = np.random.choice([0, 1], size=frame.shape, p=[1-noise_factor, noise_factor])\n",
    "        noisy_frame = frame * (1 - salt_pepper_noise) + salt_pepper_noise * np.random.rand(*frame.shape)\n",
    "        noisy_video.append(noisy_frame)\n",
    "    return np.array(noisy_video)"
   ]
  },
  {
   "cell_type": "markdown",
   "id": "4936e559",
   "metadata": {
    "papermill": {
     "duration": 0.007759,
     "end_time": "2025-07-11T16:38:14.334501",
     "exception": false,
     "start_time": "2025-07-11T16:38:14.326742",
     "status": "completed"
    },
    "tags": []
   },
   "source": [
    "## Horizontal Flip"
   ]
  },
  {
   "cell_type": "code",
   "execution_count": 14,
   "id": "538d9b54",
   "metadata": {
    "execution": {
     "iopub.execute_input": "2025-07-11T16:38:14.350920Z",
     "iopub.status.busy": "2025-07-11T16:38:14.350701Z",
     "iopub.status.idle": "2025-07-11T16:38:14.353819Z",
     "shell.execute_reply": "2025-07-11T16:38:14.353281Z"
    },
    "papermill": {
     "duration": 0.012443,
     "end_time": "2025-07-11T16:38:14.354794",
     "exception": false,
     "start_time": "2025-07-11T16:38:14.342351",
     "status": "completed"
    },
    "tags": []
   },
   "outputs": [],
   "source": [
    "# horizontal flip function def\n",
    "# Testing Flip feautes[0] -> first video\n",
    "def horizontal_flip(video):\n",
    "    return [tf.image.flip_left_right(frame) for frame in video]"
   ]
  },
  {
   "cell_type": "markdown",
   "id": "d8d8d112",
   "metadata": {
    "papermill": {
     "duration": 0.007949,
     "end_time": "2025-07-11T16:38:14.370749",
     "exception": false,
     "start_time": "2025-07-11T16:38:14.362800",
     "status": "completed"
    },
    "tags": []
   },
   "source": [
    "## Random Shear"
   ]
  },
  {
   "cell_type": "code",
   "execution_count": 15,
   "id": "5e9d48ab",
   "metadata": {
    "execution": {
     "iopub.execute_input": "2025-07-11T16:38:14.388630Z",
     "iopub.status.busy": "2025-07-11T16:38:14.388438Z",
     "iopub.status.idle": "2025-07-11T16:38:14.393765Z",
     "shell.execute_reply": "2025-07-11T16:38:14.393279Z"
    },
    "papermill": {
     "duration": 0.014858,
     "end_time": "2025-07-11T16:38:14.394781",
     "exception": false,
     "start_time": "2025-07-11T16:38:14.379923",
     "status": "completed"
    },
    "tags": []
   },
   "outputs": [],
   "source": [
    "# random shear function def\n",
    "import numpy as np\n",
    "import tensorflow as tf\n",
    "from scipy.ndimage import affine_transform\n",
    "\n",
    "def apply_shear_frames(frames, shear_right):\n",
    "    return [apply_shear(frame, shear_right) for frame in frames]\n",
    "\n",
    "def apply_shear(frame, shear_right=0):\n",
    "    frame_resized = tf.image.resize(frame, (IMAGE_HEIGHT, IMAGE_WIDTH)).numpy()\n",
    "    if shear_right:\n",
    "        shear_x = 0.09\n",
    "        shear_y = 0.1\n",
    "    else:\n",
    "        shear_x = -0.09\n",
    "        shear_y = 0.3\n",
    "    # Construct the affine matrix for scipy: inverse of the transformation matrix\n",
    "    # scipy applies the inverse transform matrix\n",
    "    shear_matrix = np.array([\n",
    "        [1, shear_x, 0],\n",
    "        [shear_y, 1, 0],\n",
    "        [0, 0, 1]\n",
    "    ], dtype=np.float32)\n",
    "\n",
    "    # Extract 2x2 part for affine_transform\n",
    "    matrix = shear_matrix[:2, :2]\n",
    "\n",
    "    # Offset (no translation)\n",
    "    offset = [0, 0]\n",
    "\n",
    "    # Apply affine transform on each channel separately\n",
    "    sheared = np.zeros_like(frame_resized)\n",
    "    for c in range(3):\n",
    "        sheared[..., c] = affine_transform(\n",
    "            frame_resized[..., c],\n",
    "            matrix=matrix,\n",
    "            offset=offset,\n",
    "            order=1,          # bilinear interpolation\n",
    "            mode='nearest'    # fill_mode\n",
    "        )\n",
    "    return sheared"
   ]
  },
  {
   "cell_type": "markdown",
   "id": "cd77fbd8",
   "metadata": {
    "papermill": {
     "duration": 0.007847,
     "end_time": "2025-07-11T16:38:14.410753",
     "exception": false,
     "start_time": "2025-07-11T16:38:14.402906",
     "status": "completed"
    },
    "tags": []
   },
   "source": [
    "# 📌 Model Related\n",
    "## 🗼 Model Architecture `create_model`"
   ]
  },
  {
   "cell_type": "markdown",
   "id": "756679f3",
   "metadata": {
    "papermill": {
     "duration": 0.007753,
     "end_time": "2025-07-11T16:38:14.426692",
     "exception": false,
     "start_time": "2025-07-11T16:38:14.418939",
     "status": "completed"
    },
    "tags": []
   },
   "source": [
    "# 📌 Execution\n",
    "## Creating Dataset\n",
    "The following functions are executed\n",
    "- `frame extraction`\n",
    "- `resize`\n",
    "\n",
    "which returns:\n",
    "- `features` - `np.array` of all the videos\n",
    "- `labels` - `np.array` of all the class labels"
   ]
  },
  {
   "cell_type": "code",
   "execution_count": 16,
   "id": "e1ad6dbb",
   "metadata": {
    "execution": {
     "iopub.execute_input": "2025-07-11T16:38:14.444015Z",
     "iopub.status.busy": "2025-07-11T16:38:14.443335Z",
     "iopub.status.idle": "2025-07-11T16:38:47.852338Z",
     "shell.execute_reply": "2025-07-11T16:38:47.851641Z"
    },
    "papermill": {
     "duration": 33.418664,
     "end_time": "2025-07-11T16:38:47.853524",
     "exception": false,
     "start_time": "2025-07-11T16:38:14.434860",
     "status": "completed"
    },
    "tags": []
   },
   "outputs": [
    {
     "name": "stdout",
     "output_type": "stream",
     "text": [
      "Extracting Data of Class: write on a paper\n",
      "Extracting Data of Class: use laptop\n",
      "Extracting Data of Class: read book\n",
      "Extracting Data of Class: sit still\n",
      "Extracting Data of Class: drink\n",
      "Extracting Data of Class: sit down\n",
      "Extracting Data of Class: use vacuum cleaner\n",
      "Extracting Data of Class: eat\n",
      "Extracting Data of Class: play guitar\n",
      "Extracting Data of Class: lie down on sofa\n",
      "Extracting Data of Class: stand up\n",
      "Extracting Data of Class: toss paper\n",
      "Extracting Data of Class: walk\n",
      "Extracting Data of Class: play game\n",
      "Extracting Data of Class: cheer up\n",
      "Extracting Data of Class: call cellphone\n",
      "Dataset created with 320 videos\n",
      "Features shape: (320, 5, 128, 128, 3)\n",
      "Labels shape: (320,)\n"
     ]
    },
    {
     "data": {
      "text/plain": [
       "((320, 5, 128, 128, 3), (320,))"
      ]
     },
     "execution_count": 16,
     "metadata": {},
     "output_type": "execute_result"
    }
   ],
   "source": [
    "# RUN Create the dataset with explicit parameters\n",
    "try:\n",
    "    videos, labels = create_dataset(\n",
    "        dataset_dir=DATASET_DIR,\n",
    "        classes_list=CLASSES_LIST,\n",
    "        sequence_length=SEQUENCE_LENGTH,\n",
    "        image_height=IMAGE_HEIGHT,\n",
    "        image_width=IMAGE_WIDTH,\n",
    "        # Limit to 10 videos per class to manage memory\n",
    "        augmentations=True,\n",
    "        max_videos_per_class=MAX_VIDEO_PER_CLASS\n",
    "    )\n",
    "except FileNotFoundError as e:\n",
    "    print(f\"Error: {e}\")\n",
    "except ValueError as e:\n",
    "    print(f\"Error: {e}\")\n",
    "except Exception as e:\n",
    "    print(f\"Unexpected error: {e}\")\n",
    "\n",
    "videos.shape, labels.shape"
   ]
  },
  {
   "cell_type": "code",
   "execution_count": 17,
   "id": "b3f9b654",
   "metadata": {
    "execution": {
     "iopub.execute_input": "2025-07-11T16:38:47.872504Z",
     "iopub.status.busy": "2025-07-11T16:38:47.872298Z",
     "iopub.status.idle": "2025-07-11T16:38:47.876177Z",
     "shell.execute_reply": "2025-07-11T16:38:47.875554Z"
    },
    "papermill": {
     "duration": 0.014366,
     "end_time": "2025-07-11T16:38:47.877233",
     "exception": false,
     "start_time": "2025-07-11T16:38:47.862867",
     "status": "completed"
    },
    "tags": []
   },
   "outputs": [
    {
     "name": "stdout",
     "output_type": "stream",
     "text": [
      "Total 320 videos and 320 classes\n"
     ]
    }
   ],
   "source": [
    "video_generator = VideoDataGenerator(\n",
    "    videos=videos,\n",
    "    labels=labels,\n",
    "    batch_size=BATCH_SIZE\n",
    ")"
   ]
  },
  {
   "cell_type": "code",
   "execution_count": 18,
   "id": "b1913588",
   "metadata": {
    "execution": {
     "iopub.execute_input": "2025-07-11T16:38:47.895639Z",
     "iopub.status.busy": "2025-07-11T16:38:47.895178Z",
     "iopub.status.idle": "2025-07-11T16:38:47.906318Z",
     "shell.execute_reply": "2025-07-11T16:38:47.905770Z"
    },
    "papermill": {
     "duration": 0.021369,
     "end_time": "2025-07-11T16:38:47.907340",
     "exception": false,
     "start_time": "2025-07-11T16:38:47.885971",
     "status": "completed"
    },
    "tags": []
   },
   "outputs": [
    {
     "data": {
      "text/plain": [
       "((24, 5, 128, 128, 3), (24,))"
      ]
     },
     "execution_count": 18,
     "metadata": {},
     "output_type": "execute_result"
    }
   ],
   "source": [
    "videos, labels = video_generator[3]\n",
    "\n",
    "videos.shape, labels.shape"
   ]
  },
  {
   "cell_type": "code",
   "execution_count": 19,
   "id": "f9a0bdc6",
   "metadata": {
    "execution": {
     "iopub.execute_input": "2025-07-11T16:38:47.926362Z",
     "iopub.status.busy": "2025-07-11T16:38:47.925939Z",
     "iopub.status.idle": "2025-07-11T16:38:47.930063Z",
     "shell.execute_reply": "2025-07-11T16:38:47.929378Z"
    },
    "papermill": {
     "duration": 0.014713,
     "end_time": "2025-07-11T16:38:47.931118",
     "exception": false,
     "start_time": "2025-07-11T16:38:47.916405",
     "status": "completed"
    },
    "tags": []
   },
   "outputs": [
    {
     "data": {
      "text/plain": [
       "320"
      ]
     },
     "execution_count": 19,
     "metadata": {},
     "output_type": "execute_result"
    }
   ],
   "source": [
    "len(video_generator.videos) "
   ]
  },
  {
   "cell_type": "code",
   "execution_count": 20,
   "id": "7eabb5a4",
   "metadata": {
    "execution": {
     "iopub.execute_input": "2025-07-11T16:38:47.950376Z",
     "iopub.status.busy": "2025-07-11T16:38:47.950164Z",
     "iopub.status.idle": "2025-07-11T16:38:47.954389Z",
     "shell.execute_reply": "2025-07-11T16:38:47.953624Z"
    },
    "papermill": {
     "duration": 0.014976,
     "end_time": "2025-07-11T16:38:47.955538",
     "exception": false,
     "start_time": "2025-07-11T16:38:47.940562",
     "status": "completed"
    },
    "tags": []
   },
   "outputs": [
    {
     "data": {
      "text/plain": [
       "14"
      ]
     },
     "execution_count": 20,
     "metadata": {},
     "output_type": "execute_result"
    }
   ],
   "source": [
    "len(video_generator)"
   ]
  },
  {
   "cell_type": "markdown",
   "id": "fe72c750",
   "metadata": {
    "papermill": {
     "duration": 0.008813,
     "end_time": "2025-07-11T16:38:47.973391",
     "exception": false,
     "start_time": "2025-07-11T16:38:47.964578",
     "status": "completed"
    },
    "tags": []
   },
   "source": [
    "## Apply ***horizontal flip*** (Augmentation)"
   ]
  },
  {
   "cell_type": "code",
   "execution_count": 21,
   "id": "55deb6a3",
   "metadata": {
    "execution": {
     "iopub.execute_input": "2025-07-11T16:38:47.991853Z",
     "iopub.status.busy": "2025-07-11T16:38:47.991641Z",
     "iopub.status.idle": "2025-07-11T16:38:56.951274Z",
     "shell.execute_reply": "2025-07-11T16:38:56.950452Z"
    },
    "papermill": {
     "duration": 8.970344,
     "end_time": "2025-07-11T16:38:56.952582",
     "exception": false,
     "start_time": "2025-07-11T16:38:47.982238",
     "status": "completed"
    },
    "tags": []
   },
   "outputs": [
    {
     "name": "stdout",
     "output_type": "stream",
     "text": [
      "Processing video 24...\r"
     ]
    },
    {
     "name": "stderr",
     "output_type": "stream",
     "text": [
      "I0000 00:00:1752251928.949117      20 gpu_device.cc:2022] Created device /job:localhost/replica:0/task:0/device:GPU:0 with 13942 MB memory:  -> device: 0, name: Tesla T4, pci bus id: 0000:00:04.0, compute capability: 7.5\n",
      "I0000 00:00:1752251928.949880      20 gpu_device.cc:2022] Created device /job:localhost/replica:0/task:0/device:GPU:1 with 13942 MB memory:  -> device: 1, name: Tesla T4, pci bus id: 0000:00:05.0, compute capability: 7.5\n"
     ]
    },
    {
     "name": "stdout",
     "output_type": "stream",
     "text": [
      "Processing video 320...\r"
     ]
    }
   ],
   "source": [
    "apply_augmentation(horizontal_flip, video_generator)"
   ]
  },
  {
   "cell_type": "code",
   "execution_count": 22,
   "id": "d6e71df4",
   "metadata": {
    "execution": {
     "iopub.execute_input": "2025-07-11T16:38:56.973187Z",
     "iopub.status.busy": "2025-07-11T16:38:56.972981Z",
     "iopub.status.idle": "2025-07-11T16:38:56.977140Z",
     "shell.execute_reply": "2025-07-11T16:38:56.976509Z"
    },
    "papermill": {
     "duration": 0.015414,
     "end_time": "2025-07-11T16:38:56.978196",
     "exception": false,
     "start_time": "2025-07-11T16:38:56.962782",
     "status": "completed"
    },
    "tags": []
   },
   "outputs": [
    {
     "name": "stdout",
     "output_type": "stream",
     "text": [
      "Checking Total Videos and Class Count: 320, 320\n",
      "PENDING Total Videos and Class Count: 320, 320\n"
     ]
    }
   ],
   "source": [
    "print(f\"Checking Total Videos and Class Count: {len(video_generator.videos)}, {len(video_generator.labels)}\")\n",
    "print(f\"PENDING Total Videos and Class Count: {len(video_generator.temp_videos)}, {len(video_generator.temp_labels)}\")"
   ]
  },
  {
   "cell_type": "code",
   "execution_count": 23,
   "id": "0b93a2f1",
   "metadata": {
    "execution": {
     "iopub.execute_input": "2025-07-11T16:38:56.997902Z",
     "iopub.status.busy": "2025-07-11T16:38:56.997692Z",
     "iopub.status.idle": "2025-07-11T16:38:57.001417Z",
     "shell.execute_reply": "2025-07-11T16:38:57.000833Z"
    },
    "papermill": {
     "duration": 0.014723,
     "end_time": "2025-07-11T16:38:57.002438",
     "exception": false,
     "start_time": "2025-07-11T16:38:56.987715",
     "status": "completed"
    },
    "tags": []
   },
   "outputs": [
    {
     "name": "stdout",
     "output_type": "stream",
     "text": [
      "Adding 320 videos with 320 classes.\n",
      "Successfully added - 320 videos and 320 classes.\n",
      "Now Total - 640 videos and 640 classes.\n",
      "PENDING for Augmentations - 0 videos and 0 classes.\n"
     ]
    }
   ],
   "source": [
    "video_generator.confirm()"
   ]
  },
  {
   "cell_type": "markdown",
   "id": "83f41d96",
   "metadata": {
    "papermill": {
     "duration": 0.009292,
     "end_time": "2025-07-11T16:38:57.021423",
     "exception": false,
     "start_time": "2025-07-11T16:38:57.012131",
     "status": "completed"
    },
    "tags": []
   },
   "source": [
    "## Apply ***Noise*** (Augmentation)"
   ]
  },
  {
   "cell_type": "code",
   "execution_count": 24,
   "id": "9a2d06f0",
   "metadata": {
    "execution": {
     "iopub.execute_input": "2025-07-11T16:38:57.041496Z",
     "iopub.status.busy": "2025-07-11T16:38:57.041308Z",
     "iopub.status.idle": "2025-07-11T16:39:17.972179Z",
     "shell.execute_reply": "2025-07-11T16:39:17.971612Z"
    },
    "papermill": {
     "duration": 20.941997,
     "end_time": "2025-07-11T16:39:17.973359",
     "exception": false,
     "start_time": "2025-07-11T16:38:57.031362",
     "status": "completed"
    },
    "tags": []
   },
   "outputs": [
    {
     "name": "stdout",
     "output_type": "stream",
     "text": [
      "Processing video 640...\r"
     ]
    }
   ],
   "source": [
    "apply_augmentation(noise_video, video_generator)"
   ]
  },
  {
   "cell_type": "code",
   "execution_count": 25,
   "id": "07f7c2b3",
   "metadata": {
    "execution": {
     "iopub.execute_input": "2025-07-11T16:39:17.996551Z",
     "iopub.status.busy": "2025-07-11T16:39:17.996104Z",
     "iopub.status.idle": "2025-07-11T16:39:17.999927Z",
     "shell.execute_reply": "2025-07-11T16:39:17.999173Z"
    },
    "papermill": {
     "duration": 0.016046,
     "end_time": "2025-07-11T16:39:18.001026",
     "exception": false,
     "start_time": "2025-07-11T16:39:17.984980",
     "status": "completed"
    },
    "tags": []
   },
   "outputs": [
    {
     "name": "stdout",
     "output_type": "stream",
     "text": [
      "Checking Total Videos and Class Count: 640, 640\n",
      "PENDING Total Videos and Class Count: 640, 640\n"
     ]
    }
   ],
   "source": [
    "print(f\"Checking Total Videos and Class Count: {len(video_generator.videos)}, {len(video_generator.labels)}\")\n",
    "print(f\"PENDING Total Videos and Class Count: {len(video_generator.temp_videos)}, {len(video_generator.temp_labels)}\")"
   ]
  },
  {
   "cell_type": "markdown",
   "id": "57a61e6b",
   "metadata": {
    "papermill": {
     "duration": 0.010545,
     "end_time": "2025-07-11T16:39:18.022057",
     "exception": false,
     "start_time": "2025-07-11T16:39:18.011512",
     "status": "completed"
    },
    "tags": []
   },
   "source": [
    "## Apply ***Random Shear x2*** (Augmentation)"
   ]
  },
  {
   "cell_type": "code",
   "execution_count": 26,
   "id": "bafa3caf",
   "metadata": {
    "execution": {
     "iopub.execute_input": "2025-07-11T16:39:18.043981Z",
     "iopub.status.busy": "2025-07-11T16:39:18.043766Z",
     "iopub.status.idle": "2025-07-11T16:40:08.959324Z",
     "shell.execute_reply": "2025-07-11T16:40:08.958738Z"
    },
    "papermill": {
     "duration": 50.927797,
     "end_time": "2025-07-11T16:40:08.960505",
     "exception": false,
     "start_time": "2025-07-11T16:39:18.032708",
     "status": "completed"
    },
    "tags": []
   },
   "outputs": [
    {
     "name": "stdout",
     "output_type": "stream",
     "text": [
      "Processing video 1920...\r"
     ]
    }
   ],
   "source": [
    "apply_augmentation(apply_shear_frames, video_generator, shear_right=0)\n",
    "apply_augmentation(apply_shear_frames, video_generator, shear_right=1)"
   ]
  },
  {
   "cell_type": "code",
   "execution_count": 27,
   "id": "5d705bbf",
   "metadata": {
    "execution": {
     "iopub.execute_input": "2025-07-11T16:40:08.986904Z",
     "iopub.status.busy": "2025-07-11T16:40:08.986663Z",
     "iopub.status.idle": "2025-07-11T16:40:08.990443Z",
     "shell.execute_reply": "2025-07-11T16:40:08.989868Z"
    },
    "papermill": {
     "duration": 0.017876,
     "end_time": "2025-07-11T16:40:08.991486",
     "exception": false,
     "start_time": "2025-07-11T16:40:08.973610",
     "status": "completed"
    },
    "tags": []
   },
   "outputs": [
    {
     "name": "stdout",
     "output_type": "stream",
     "text": [
      "Checking Total Videos and Class Count: 640, 640\n",
      "PENDING Total Videos and Class Count: 1920, 1920\n"
     ]
    }
   ],
   "source": [
    "print(f\"Checking Total Videos and Class Count: {len(video_generator.videos)}, {len(video_generator.labels)}\")\n",
    "print(f\"PENDING Total Videos and Class Count: {len(video_generator.temp_videos)}, {len(video_generator.temp_labels)}\")"
   ]
  },
  {
   "cell_type": "code",
   "execution_count": 28,
   "id": "c318f360",
   "metadata": {
    "execution": {
     "iopub.execute_input": "2025-07-11T16:40:09.017447Z",
     "iopub.status.busy": "2025-07-11T16:40:09.017249Z",
     "iopub.status.idle": "2025-07-11T16:40:09.020714Z",
     "shell.execute_reply": "2025-07-11T16:40:09.020190Z"
    },
    "papermill": {
     "duration": 0.01749,
     "end_time": "2025-07-11T16:40:09.021736",
     "exception": false,
     "start_time": "2025-07-11T16:40:09.004246",
     "status": "completed"
    },
    "tags": []
   },
   "outputs": [
    {
     "name": "stdout",
     "output_type": "stream",
     "text": [
      "Adding 1920 videos with 1920 classes.\n",
      "Successfully added - 1920 videos and 1920 classes.\n",
      "Now Total - 2560 videos and 2560 classes.\n",
      "PENDING for Augmentations - 0 videos and 0 classes.\n"
     ]
    }
   ],
   "source": [
    "# confirm changes to generator\n",
    "video_generator.confirm()"
   ]
  },
  {
   "cell_type": "code",
   "execution_count": 29,
   "id": "d02acb76",
   "metadata": {
    "execution": {
     "iopub.execute_input": "2025-07-11T16:40:09.047677Z",
     "iopub.status.busy": "2025-07-11T16:40:09.047489Z",
     "iopub.status.idle": "2025-07-11T16:40:09.051092Z",
     "shell.execute_reply": "2025-07-11T16:40:09.050404Z"
    },
    "papermill": {
     "duration": 0.017767,
     "end_time": "2025-07-11T16:40:09.052180",
     "exception": false,
     "start_time": "2025-07-11T16:40:09.034413",
     "status": "completed"
    },
    "tags": []
   },
   "outputs": [
    {
     "name": "stdout",
     "output_type": "stream",
     "text": [
      "Checking Video Generator Total Videos and Class Count: 2560, 2560\n"
     ]
    }
   ],
   "source": [
    "print(f\"Checking Video Generator Total Videos and Class Count: {len(video_generator.videos)}, {len(video_generator.labels)}\")"
   ]
  },
  {
   "cell_type": "markdown",
   "id": "25ad5f3c",
   "metadata": {
    "papermill": {
     "duration": 0.012438,
     "end_time": "2025-07-11T16:40:09.077039",
     "exception": false,
     "start_time": "2025-07-11T16:40:09.064601",
     "status": "completed"
    },
    "tags": []
   },
   "source": [
    "## Cheking (Output)"
   ]
  },
  {
   "cell_type": "code",
   "execution_count": 30,
   "id": "2f868330",
   "metadata": {
    "execution": {
     "iopub.execute_input": "2025-07-11T16:40:09.103331Z",
     "iopub.status.busy": "2025-07-11T16:40:09.102711Z",
     "iopub.status.idle": "2025-07-11T16:40:09.450312Z",
     "shell.execute_reply": "2025-07-11T16:40:09.449624Z"
    },
    "papermill": {
     "duration": 0.363076,
     "end_time": "2025-07-11T16:40:09.452715",
     "exception": false,
     "start_time": "2025-07-11T16:40:09.089639",
     "status": "completed"
    },
    "tags": []
   },
   "outputs": [
    {
     "name": "stdout",
     "output_type": "stream",
     "text": [
      "(24, 5, 128, 128, 3) (24,)\n"
     ]
    },
    {
     "data": {
      "image/png": "[encoded data removed]",
      "text/plain": [
       "<Figure size 1000x500 with 2 Axes>"
      ]
     },
     "metadata": {},
     "output_type": "display_data"
    },
    {
     "name": "stdout",
     "output_type": "stream",
     "text": [
      "Might be two different action, but to check the flipping focus on the door behind.\n"
     ]
    }
   ],
   "source": [
    "# check horizontal flips\n",
    "videos, labels = video_generator[7]\n",
    "videos1, labels1 = video_generator[1]\n",
    "\n",
    "print(videos.shape, labels.shape)\n",
    "\n",
    "show_frame_vs(videos[0,0],videos1[1,0], title1=\"Flipped Frame 1\", title2=\"Non Flipped Frame 1\")\n",
    "print(\"Might be two different action, but to check the flipping focus on the door behind.\")"
   ]
  },
  {
   "cell_type": "markdown",
   "id": "c6c7de94",
   "metadata": {
    "papermill": {
     "duration": 0.015013,
     "end_time": "2025-07-11T16:40:09.483662",
     "exception": false,
     "start_time": "2025-07-11T16:40:09.468649",
     "status": "completed"
    },
    "tags": []
   },
   "source": [
    "# 📌 Preparing Data for Training"
   ]
  },
  {
   "cell_type": "code",
   "execution_count": 31,
   "id": "a86220c4",
   "metadata": {
    "execution": {
     "iopub.execute_input": "2025-07-11T16:40:09.514888Z",
     "iopub.status.busy": "2025-07-11T16:40:09.514631Z",
     "iopub.status.idle": "2025-07-11T16:40:09.931715Z",
     "shell.execute_reply": "2025-07-11T16:40:09.931105Z"
    },
    "papermill": {
     "duration": 0.434149,
     "end_time": "2025-07-11T16:40:09.932997",
     "exception": false,
     "start_time": "2025-07-11T16:40:09.498848",
     "status": "completed"
    },
    "tags": []
   },
   "outputs": [],
   "source": [
    "# Clear previous session to free memory\n",
    "import gc\n",
    "\n",
    "gc.collect()\n",
    "tf.keras.backend.clear_session()"
   ]
  },
  {
   "cell_type": "markdown",
   "id": "b2773e96",
   "metadata": {
    "papermill": {
     "duration": 0.014976,
     "end_time": "2025-07-11T16:40:09.964163",
     "exception": false,
     "start_time": "2025-07-11T16:40:09.949187",
     "status": "completed"
    },
    "tags": []
   },
   "source": [
    "## Splitting data for ***Trainig*** and ***Testing***"
   ]
  },
  {
   "cell_type": "code",
   "execution_count": 32,
   "id": "c805c261",
   "metadata": {
    "execution": {
     "iopub.execute_input": "2025-07-11T16:40:09.995221Z",
     "iopub.status.busy": "2025-07-11T16:40:09.994747Z",
     "iopub.status.idle": "2025-07-11T16:40:10.804963Z",
     "shell.execute_reply": "2025-07-11T16:40:10.804211Z"
    },
    "papermill": {
     "duration": 0.827068,
     "end_time": "2025-07-11T16:40:10.806121",
     "exception": false,
     "start_time": "2025-07-11T16:40:09.979053",
     "status": "completed"
    },
    "tags": []
   },
   "outputs": [
    {
     "data": {
      "text/plain": [
       "((2560, 5, 128, 128, 3), (2560,))"
      ]
     },
     "execution_count": 32,
     "metadata": {},
     "output_type": "execute_result"
    }
   ],
   "source": [
    "videos = video_generator.videos\n",
    "labels = video_generator.labels\n",
    "\n",
    "videos = np.array(videos, dtype='float32')\n",
    "labels = np.array(labels)\n",
    "\n",
    "videos.shape, labels.shape"
   ]
  },
  {
   "cell_type": "code",
   "execution_count": 33,
   "id": "a1ecf020",
   "metadata": {
    "execution": {
     "iopub.execute_input": "2025-07-11T16:40:10.837936Z",
     "iopub.status.busy": "2025-07-11T16:40:10.837698Z",
     "iopub.status.idle": "2025-07-11T16:40:10.842670Z",
     "shell.execute_reply": "2025-07-11T16:40:10.842016Z"
    },
    "papermill": {
     "duration": 0.021801,
     "end_time": "2025-07-11T16:40:10.843753",
     "exception": false,
     "start_time": "2025-07-11T16:40:10.821952",
     "status": "completed"
    },
    "tags": []
   },
   "outputs": [
    {
     "data": {
      "text/plain": [
       "(2560, 16)"
      ]
     },
     "execution_count": 33,
     "metadata": {},
     "output_type": "execute_result"
    }
   ],
   "source": [
    "from tensorflow.keras.utils import to_categorical\n",
    "\n",
    "one_hot_encoded_labels = to_categorical(labels)\n",
    "\n",
    "one_hot_encoded_labels.shape"
   ]
  },
  {
   "cell_type": "code",
   "execution_count": 34,
   "id": "05d3c0dd",
   "metadata": {
    "execution": {
     "iopub.execute_input": "2025-07-11T16:40:10.875180Z",
     "iopub.status.busy": "2025-07-11T16:40:10.874979Z",
     "iopub.status.idle": "2025-07-11T16:40:11.088512Z",
     "shell.execute_reply": "2025-07-11T16:40:11.087818Z"
    },
    "papermill": {
     "duration": 0.230279,
     "end_time": "2025-07-11T16:40:11.089667",
     "exception": false,
     "start_time": "2025-07-11T16:40:10.859388",
     "status": "completed"
    },
    "tags": []
   },
   "outputs": [
    {
     "data": {
      "text/plain": [
       "0"
      ]
     },
     "execution_count": 34,
     "metadata": {},
     "output_type": "execute_result"
    }
   ],
   "source": [
    "gc.collect()"
   ]
  },
  {
   "cell_type": "code",
   "execution_count": 35,
   "id": "28c19d65",
   "metadata": {
    "execution": {
     "iopub.execute_input": "2025-07-11T16:40:11.121823Z",
     "iopub.status.busy": "2025-07-11T16:40:11.121589Z",
     "iopub.status.idle": "2025-07-11T16:40:11.925187Z",
     "shell.execute_reply": "2025-07-11T16:40:11.924563Z"
    },
    "papermill": {
     "duration": 0.820692,
     "end_time": "2025-07-11T16:40:11.926376",
     "exception": false,
     "start_time": "2025-07-11T16:40:11.105684",
     "status": "completed"
    },
    "tags": []
   },
   "outputs": [
    {
     "data": {
      "text/plain": [
       "((2048, 5, 128, 128, 3), (2048, 16), (512, 5, 128, 128, 3), (512, 16))"
      ]
     },
     "execution_count": 35,
     "metadata": {},
     "output_type": "execute_result"
    }
   ],
   "source": [
    "# RUN Split the Data into Train ( 75% ) and Test Set ( 25% ).\n",
    "from sklearn.model_selection import train_test_split\n",
    "features_train, features_test, labels_train, labels_test = train_test_split(videos,\n",
    "                                                                            one_hot_encoded_labels,\n",
    "                                                                            test_size = TEST_SIZE,\n",
    "                                                                            shuffle = True,\n",
    "                                                                            random_state = seed_constant)\n",
    "\n",
    "features_train.shape, labels_train.shape, features_test.shape, labels_test.shape"
   ]
  },
  {
   "cell_type": "markdown",
   "id": "10612a1e",
   "metadata": {
    "papermill": {
     "duration": 0.015086,
     "end_time": "2025-07-11T16:40:11.958425",
     "exception": false,
     "start_time": "2025-07-11T16:40:11.943339",
     "status": "completed"
    },
    "tags": []
   },
   "source": [
    "## Splitting data for ***Training Set*** and ***Validation Set***"
   ]
  },
  {
   "cell_type": "code",
   "execution_count": 36,
   "id": "3aa5bba6",
   "metadata": {
    "execution": {
     "iopub.execute_input": "2025-07-11T16:40:11.990118Z",
     "iopub.status.busy": "2025-07-11T16:40:11.989882Z",
     "iopub.status.idle": "2025-07-11T16:40:11.996078Z",
     "shell.execute_reply": "2025-07-11T16:40:11.995349Z"
    },
    "papermill": {
     "duration": 0.023433,
     "end_time": "2025-07-11T16:40:11.997211",
     "exception": false,
     "start_time": "2025-07-11T16:40:11.973778",
     "status": "completed"
    },
    "tags": []
   },
   "outputs": [
    {
     "data": {
      "text/plain": [
       "((1638, 5, 128, 128, 3), (1638, 16), (410, 5, 128, 128, 3), (410, 16))"
      ]
     },
     "execution_count": 36,
     "metadata": {},
     "output_type": "execute_result"
    }
   ],
   "source": [
    "# Assuming features_train and labels_train are defined\n",
    "train_set = 1-VALIDATION_SPLIT\n",
    "\n",
    "train_video_frames, val_video_frames = features_train[:int(train_set * len(features_train))], features_train[int(train_set * len(features_train)):]\n",
    "train_labels, val_labels = labels_train[:int(train_set * len(labels_train))], labels_train[int(train_set * len(labels_train)):]\n",
    "\n",
    "train_video_frames.shape, train_labels.shape, val_video_frames.shape, val_labels.shape"
   ]
  },
  {
   "cell_type": "markdown",
   "id": "897b2223",
   "metadata": {
    "papermill": {
     "duration": 0.015883,
     "end_time": "2025-07-11T16:40:12.029594",
     "exception": false,
     "start_time": "2025-07-11T16:40:12.013711",
     "status": "completed"
    },
    "tags": []
   },
   "source": [
    "## Use Generator `Video Data Generator`"
   ]
  },
  {
   "cell_type": "code",
   "execution_count": 37,
   "id": "c79930af",
   "metadata": {
    "execution": {
     "iopub.execute_input": "2025-07-11T16:40:12.061506Z",
     "iopub.status.busy": "2025-07-11T16:40:12.061313Z",
     "iopub.status.idle": "2025-07-11T16:40:12.067824Z",
     "shell.execute_reply": "2025-07-11T16:40:12.067129Z"
    },
    "papermill": {
     "duration": 0.023411,
     "end_time": "2025-07-11T16:40:12.068865",
     "exception": false,
     "start_time": "2025-07-11T16:40:12.045454",
     "status": "completed"
    },
    "tags": []
   },
   "outputs": [
    {
     "name": "stdout",
     "output_type": "stream",
     "text": [
      "Total 1638 videos and 1638 classes\n",
      "Total 410 videos and 410 classes\n"
     ]
    },
    {
     "data": {
      "text/plain": [
       "(69, 18)"
      ]
     },
     "execution_count": 37,
     "metadata": {},
     "output_type": "execute_result"
    }
   ],
   "source": [
    "# Create the training and validation generators\n",
    "train_gen = VideoDataGenerator(\n",
    "    videos=train_video_frames, \n",
    "    labels=train_labels, \n",
    "    batch_size=BATCH_SIZE,\n",
    ")\n",
    "\n",
    "val_gen = VideoDataGenerator(\n",
    "    videos=val_video_frames, \n",
    "    labels=val_labels, \n",
    "    batch_size=BATCH_SIZE,\n",
    ")\n",
    "\n",
    "len(train_gen), len(val_gen)"
   ]
  },
  {
   "cell_type": "markdown",
   "id": "ffc05387",
   "metadata": {
    "papermill": {
     "duration": 0.01523,
     "end_time": "2025-07-11T16:40:12.099707",
     "exception": false,
     "start_time": "2025-07-11T16:40:12.084477",
     "status": "completed"
    },
    "tags": []
   },
   "source": [
    "## Inspect ***Generator*** Data on Epochs"
   ]
  },
  {
   "cell_type": "code",
   "execution_count": 38,
   "id": "364e0e56",
   "metadata": {
    "execution": {
     "iopub.execute_input": "2025-07-11T16:40:12.131266Z",
     "iopub.status.busy": "2025-07-11T16:40:12.130727Z",
     "iopub.status.idle": "2025-07-11T16:40:12.143543Z",
     "shell.execute_reply": "2025-07-11T16:40:12.142759Z"
    },
    "papermill": {
     "duration": 0.029574,
     "end_time": "2025-07-11T16:40:12.144584",
     "exception": false,
     "start_time": "2025-07-11T16:40:12.115010",
     "status": "completed"
    },
    "tags": []
   },
   "outputs": [
    {
     "name": "stdout",
     "output_type": "stream",
     "text": [
      "[   0    1    2 ... 1635 1636 1637]\n",
      "[ 658 1561 1395 ...  691  912  158]\n"
     ]
    },
    {
     "data": {
      "text/plain": [
       "(24, (24, 5, 128, 128, 3), (24, 16))"
      ]
     },
     "execution_count": 38,
     "metadata": {},
     "output_type": "execute_result"
    }
   ],
   "source": [
    "features, labels = train_gen[1]\n",
    "\n",
    "print(train_gen.indices)\n",
    "\n",
    "train_gen.on_epoch_end()\n",
    "\n",
    "print(train_gen.indices)\n",
    "\n",
    "BATCH_SIZE, features.shape, labels.shape"
   ]
  },
  {
   "cell_type": "markdown",
   "id": "3e6ab3c6",
   "metadata": {
    "papermill": {
     "duration": 0.01581,
     "end_time": "2025-07-11T16:40:12.176439",
     "exception": false,
     "start_time": "2025-07-11T16:40:12.160629",
     "status": "completed"
    },
    "tags": []
   },
   "source": [
    "## Compute Class Weight"
   ]
  },
  {
   "cell_type": "code",
   "execution_count": 39,
   "id": "fae2dbc6",
   "metadata": {
    "execution": {
     "iopub.execute_input": "2025-07-11T16:40:12.208752Z",
     "iopub.status.busy": "2025-07-11T16:40:12.208443Z",
     "iopub.status.idle": "2025-07-11T16:40:12.214078Z",
     "shell.execute_reply": "2025-07-11T16:40:12.213454Z"
    },
    "papermill": {
     "duration": 0.023001,
     "end_time": "2025-07-11T16:40:12.215079",
     "exception": false,
     "start_time": "2025-07-11T16:40:12.192078",
     "status": "completed"
    },
    "tags": []
   },
   "outputs": [
    {
     "name": "stdout",
     "output_type": "stream",
     "text": [
      "Class weights: {0: 1.0, 1: 1.0, 2: 1.0, 3: 1.0, 4: 1.0, 5: 1.0, 6: 1.0, 7: 1.0, 8: 1.0, 9: 1.0, 10: 1.0, 11: 1.0, 12: 1.0, 13: 1.0, 14: 1.0, 15: 1.0}\n"
     ]
    }
   ],
   "source": [
    "from sklearn.utils.class_weight import compute_class_weight\n",
    "import numpy as np\n",
    "\n",
    "# Assuming y_int are integer labels (not one-hot)\n",
    "y_int = np.argmax(one_hot_encoded_labels, axis=1)  # or just integer labels if you have them\n",
    "\n",
    "classes = np.arange(NO_OF_CLASSES)  # e.g. np.arange(16)\n",
    "class_weights_values = compute_class_weight(class_weight='balanced', classes=classes, y=y_int)\n",
    "\n",
    "class_weights = dict(zip(classes, class_weights_values))\n",
    "\n",
    "print(\"Class weights:\", class_weights)\n"
   ]
  },
  {
   "cell_type": "code",
   "execution_count": 40,
   "id": "8824416c",
   "metadata": {
    "execution": {
     "iopub.execute_input": "2025-07-11T16:40:12.247734Z",
     "iopub.status.busy": "2025-07-11T16:40:12.247236Z",
     "iopub.status.idle": "2025-07-11T16:40:12.472876Z",
     "shell.execute_reply": "2025-07-11T16:40:12.472121Z"
    },
    "papermill": {
     "duration": 0.243031,
     "end_time": "2025-07-11T16:40:12.474162",
     "exception": false,
     "start_time": "2025-07-11T16:40:12.231131",
     "status": "completed"
    },
    "tags": []
   },
   "outputs": [],
   "source": [
    "gc.collect()\n",
    "del videos, one_hot_encoded_labels, labels_train\n",
    "del features_train, val_labels, train_labels\n",
    "del val_video_frames, train_video_frames"
   ]
  },
  {
   "cell_type": "markdown",
   "id": "9434582b",
   "metadata": {
    "papermill": {
     "duration": 0.015427,
     "end_time": "2025-07-11T16:40:12.506321",
     "exception": false,
     "start_time": "2025-07-11T16:40:12.490894",
     "status": "completed"
    },
    "tags": []
   },
   "source": [
    "# ✨ Model Execution\n",
    "## Creating Model"
   ]
  },
  {
   "cell_type": "markdown",
   "id": "c206a11f",
   "metadata": {
    "papermill": {
     "duration": 0.015511,
     "end_time": "2025-07-11T16:40:12.537456",
     "exception": false,
     "start_time": "2025-07-11T16:40:12.521945",
     "status": "completed"
    },
    "tags": []
   },
   "source": [
    "## Plot Model Structure"
   ]
  },
  {
   "cell_type": "markdown",
   "id": "0a26d54a",
   "metadata": {
    "papermill": {
     "duration": 0.015459,
     "end_time": "2025-07-11T16:40:12.568511",
     "exception": false,
     "start_time": "2025-07-11T16:40:12.553052",
     "status": "completed"
    },
    "tags": []
   },
   "source": [
    "## 📈 Model Training"
   ]
  },
  {
   "cell_type": "code",
   "execution_count": 41,
   "id": "542bcd4e",
   "metadata": {
    "execution": {
     "iopub.execute_input": "2025-07-11T16:40:12.600907Z",
     "iopub.status.busy": "2025-07-11T16:40:12.600632Z",
     "iopub.status.idle": "2025-07-11T16:44:21.694784Z",
     "shell.execute_reply": "2025-07-11T16:44:21.694207Z"
    },
    "papermill": {
     "duration": 249.111916,
     "end_time": "2025-07-11T16:44:21.696078",
     "exception": false,
     "start_time": "2025-07-11T16:40:12.584162",
     "status": "completed"
    },
    "tags": []
   },
   "outputs": [
    {
     "name": "stdout",
     "output_type": "stream",
     "text": [
      "Memory cleared before creating VGG19+LSTM model\n",
      "TensorFlow version: 2.18.0\n",
      "Pre-loading VGG19 weights...\n",
      "Downloading data from https://storage.googleapis.com/tensorflow/keras-applications/mobilenet_v2/mobilenet_v2_weights_tf_dim_ordering_tf_kernels_1.0_128_no_top.h5\n",
      "\u001b[1m9406464/9406464\u001b[0m \u001b[32m━━━━━━━━━━━━━━━━━━━━\u001b[0m\u001b[37m\u001b[0m \u001b[1m0s\u001b[0m 0us/step\n",
      "VGG19 weights loaded successfully!\n",
      "Creating VGG19+LSTM model with parameters:\n",
      "sequence_length: 5, image_height: 128, image_width: 128, classes_list length: 16, dropout_rate: 0.5\n"
     ]
    },
    {
     "name": "stderr",
     "output_type": "stream",
     "text": [
      "/usr/local/lib/python3.11/dist-packages/keras/src/layers/core/wrapper.py:27: UserWarning: Do not pass an `input_shape`/`input_dim` argument to a layer. When using Sequential models, prefer using an `Input(shape)` object as the first layer in the model instead.\n",
      "  super().__init__(**kwargs)\n"
     ]
    },
    {
     "name": "stdout",
     "output_type": "stream",
     "text": [
      "VGG19+LSTM model architecture created successfully!\n"
     ]
    },
    {
     "data": {
      "text/html": [
       "<pre style=\"white-space:pre;overflow-x:auto;line-height:normal;font-family:Menlo,'DejaVu Sans Mono',consolas,'Courier New',monospace\"><span style=\"font-weight: bold\">Model: \"sequential\"</span>\n",
       "</pre>\n"
      ],
      "text/plain": [
       "\u001b[1mModel: \"sequential\"\u001b[0m\n"
      ]
     },
     "metadata": {},
     "output_type": "display_data"
    },
    {
     "data": {
      "text/html": [
       "<pre style=\"white-space:pre;overflow-x:auto;line-height:normal;font-family:Menlo,'DejaVu Sans Mono',consolas,'Courier New',monospace\">┏━━━━━━━━━━━━━━━━━━━━━━━━━━━━━━━━━┳━━━━━━━━━━━━━━━━━━━━━━━━┳━━━━━━━━━━━━━━━┓\n",
       "┃<span style=\"font-weight: bold\"> Layer (type)                    </span>┃<span style=\"font-weight: bold\"> Output Shape           </span>┃<span style=\"font-weight: bold\">       Param # </span>┃\n",
       "┡━━━━━━━━━━━━━━━━━━━━━━━━━━━━━━━━━╇━━━━━━━━━━━━━━━━━━━━━━━━╇━━━━━━━━━━━━━━━┩\n",
       "│ time_distributed_vgg19          │ (<span style=\"color: #00d7ff; text-decoration-color: #00d7ff\">None</span>, <span style=\"color: #00af00; text-decoration-color: #00af00\">5</span>, <span style=\"color: #00af00; text-decoration-color: #00af00\">4</span>, <span style=\"color: #00af00; text-decoration-color: #00af00\">4</span>, <span style=\"color: #00af00; text-decoration-color: #00af00\">1280</span>)  │     <span style=\"color: #00af00; text-decoration-color: #00af00\">2,257,984</span> │\n",
       "│ (<span style=\"color: #0087ff; text-decoration-color: #0087ff\">TimeDistributed</span>)               │                        │               │\n",
       "├─────────────────────────────────┼────────────────────────┼───────────────┤\n",
       "│ time_distributed_pooling        │ (<span style=\"color: #00d7ff; text-decoration-color: #00d7ff\">None</span>, <span style=\"color: #00af00; text-decoration-color: #00af00\">5</span>, <span style=\"color: #00af00; text-decoration-color: #00af00\">1280</span>)        │             <span style=\"color: #00af00; text-decoration-color: #00af00\">0</span> │\n",
       "│ (<span style=\"color: #0087ff; text-decoration-color: #0087ff\">TimeDistributed</span>)               │                        │               │\n",
       "├─────────────────────────────────┼────────────────────────┼───────────────┤\n",
       "│ lstm_vgg19 (<span style=\"color: #0087ff; text-decoration-color: #0087ff\">LSTM</span>)               │ (<span style=\"color: #00d7ff; text-decoration-color: #00d7ff\">None</span>, <span style=\"color: #00af00; text-decoration-color: #00af00\">5</span>, <span style=\"color: #00af00; text-decoration-color: #00af00\">512</span>)         │     <span style=\"color: #00af00; text-decoration-color: #00af00\">3,672,064</span> │\n",
       "├─────────────────────────────────┼────────────────────────┼───────────────┤\n",
       "│ gru_256 (<span style=\"color: #0087ff; text-decoration-color: #0087ff\">GRU</span>)                   │ (<span style=\"color: #00d7ff; text-decoration-color: #00d7ff\">None</span>, <span style=\"color: #00af00; text-decoration-color: #00af00\">256</span>)            │       <span style=\"color: #00af00; text-decoration-color: #00af00\">591,360</span> │\n",
       "├─────────────────────────────────┼────────────────────────┼───────────────┤\n",
       "│ batch_normalization_vgg19       │ (<span style=\"color: #00d7ff; text-decoration-color: #00d7ff\">None</span>, <span style=\"color: #00af00; text-decoration-color: #00af00\">256</span>)            │         <span style=\"color: #00af00; text-decoration-color: #00af00\">1,024</span> │\n",
       "│ (<span style=\"color: #0087ff; text-decoration-color: #0087ff\">BatchNormalization</span>)            │                        │               │\n",
       "├─────────────────────────────────┼────────────────────────┼───────────────┤\n",
       "│ dropout_lstm_vgg19 (<span style=\"color: #0087ff; text-decoration-color: #0087ff\">Dropout</span>)    │ (<span style=\"color: #00d7ff; text-decoration-color: #00d7ff\">None</span>, <span style=\"color: #00af00; text-decoration-color: #00af00\">256</span>)            │             <span style=\"color: #00af00; text-decoration-color: #00af00\">0</span> │\n",
       "├─────────────────────────────────┼────────────────────────┼───────────────┤\n",
       "│ dense_vgg19_1 (<span style=\"color: #0087ff; text-decoration-color: #0087ff\">Dense</span>)           │ (<span style=\"color: #00d7ff; text-decoration-color: #00d7ff\">None</span>, <span style=\"color: #00af00; text-decoration-color: #00af00\">512</span>)            │       <span style=\"color: #00af00; text-decoration-color: #00af00\">131,584</span> │\n",
       "├─────────────────────────────────┼────────────────────────┼───────────────┤\n",
       "│ dropout_dense_vgg19_1 (<span style=\"color: #0087ff; text-decoration-color: #0087ff\">Dropout</span>) │ (<span style=\"color: #00d7ff; text-decoration-color: #00d7ff\">None</span>, <span style=\"color: #00af00; text-decoration-color: #00af00\">512</span>)            │             <span style=\"color: #00af00; text-decoration-color: #00af00\">0</span> │\n",
       "├─────────────────────────────────┼────────────────────────┼───────────────┤\n",
       "│ dense_vgg19_2 (<span style=\"color: #0087ff; text-decoration-color: #0087ff\">Dense</span>)           │ (<span style=\"color: #00d7ff; text-decoration-color: #00d7ff\">None</span>, <span style=\"color: #00af00; text-decoration-color: #00af00\">128</span>)            │        <span style=\"color: #00af00; text-decoration-color: #00af00\">65,664</span> │\n",
       "├─────────────────────────────────┼────────────────────────┼───────────────┤\n",
       "│ dropout_dense_vgg19_2 (<span style=\"color: #0087ff; text-decoration-color: #0087ff\">Dropout</span>) │ (<span style=\"color: #00d7ff; text-decoration-color: #00d7ff\">None</span>, <span style=\"color: #00af00; text-decoration-color: #00af00\">128</span>)            │             <span style=\"color: #00af00; text-decoration-color: #00af00\">0</span> │\n",
       "├─────────────────────────────────┼────────────────────────┼───────────────┤\n",
       "│ output_vgg19 (<span style=\"color: #0087ff; text-decoration-color: #0087ff\">Dense</span>)            │ (<span style=\"color: #00d7ff; text-decoration-color: #00d7ff\">None</span>, <span style=\"color: #00af00; text-decoration-color: #00af00\">16</span>)             │         <span style=\"color: #00af00; text-decoration-color: #00af00\">2,064</span> │\n",
       "└─────────────────────────────────┴────────────────────────┴───────────────┘\n",
       "</pre>\n"
      ],
      "text/plain": [
       "┏━━━━━━━━━━━━━━━━━━━━━━━━━━━━━━━━━┳━━━━━━━━━━━━━━━━━━━━━━━━┳━━━━━━━━━━━━━━━┓\n",
       "┃\u001b[1m \u001b[0m\u001b[1mLayer (type)                   \u001b[0m\u001b[1m \u001b[0m┃\u001b[1m \u001b[0m\u001b[1mOutput Shape          \u001b[0m\u001b[1m \u001b[0m┃\u001b[1m \u001b[0m\u001b[1m      Param #\u001b[0m\u001b[1m \u001b[0m┃\n",
       "┡━━━━━━━━━━━━━━━━━━━━━━━━━━━━━━━━━╇━━━━━━━━━━━━━━━━━━━━━━━━╇━━━━━━━━━━━━━━━┩\n",
       "│ time_distributed_vgg19          │ (\u001b[38;5;45mNone\u001b[0m, \u001b[38;5;34m5\u001b[0m, \u001b[38;5;34m4\u001b[0m, \u001b[38;5;34m4\u001b[0m, \u001b[38;5;34m1280\u001b[0m)  │     \u001b[38;5;34m2,257,984\u001b[0m │\n",
       "│ (\u001b[38;5;33mTimeDistributed\u001b[0m)               │                        │               │\n",
       "├─────────────────────────────────┼────────────────────────┼───────────────┤\n",
       "│ time_distributed_pooling        │ (\u001b[38;5;45mNone\u001b[0m, \u001b[38;5;34m5\u001b[0m, \u001b[38;5;34m1280\u001b[0m)        │             \u001b[38;5;34m0\u001b[0m │\n",
       "│ (\u001b[38;5;33mTimeDistributed\u001b[0m)               │                        │               │\n",
       "├─────────────────────────────────┼────────────────────────┼───────────────┤\n",
       "│ lstm_vgg19 (\u001b[38;5;33mLSTM\u001b[0m)               │ (\u001b[38;5;45mNone\u001b[0m, \u001b[38;5;34m5\u001b[0m, \u001b[38;5;34m512\u001b[0m)         │     \u001b[38;5;34m3,672,064\u001b[0m │\n",
       "├─────────────────────────────────┼────────────────────────┼───────────────┤\n",
       "│ gru_256 (\u001b[38;5;33mGRU\u001b[0m)                   │ (\u001b[38;5;45mNone\u001b[0m, \u001b[38;5;34m256\u001b[0m)            │       \u001b[38;5;34m591,360\u001b[0m │\n",
       "├─────────────────────────────────┼────────────────────────┼───────────────┤\n",
       "│ batch_normalization_vgg19       │ (\u001b[38;5;45mNone\u001b[0m, \u001b[38;5;34m256\u001b[0m)            │         \u001b[38;5;34m1,024\u001b[0m │\n",
       "│ (\u001b[38;5;33mBatchNormalization\u001b[0m)            │                        │               │\n",
       "├─────────────────────────────────┼────────────────────────┼───────────────┤\n",
       "│ dropout_lstm_vgg19 (\u001b[38;5;33mDropout\u001b[0m)    │ (\u001b[38;5;45mNone\u001b[0m, \u001b[38;5;34m256\u001b[0m)            │             \u001b[38;5;34m0\u001b[0m │\n",
       "├─────────────────────────────────┼────────────────────────┼───────────────┤\n",
       "│ dense_vgg19_1 (\u001b[38;5;33mDense\u001b[0m)           │ (\u001b[38;5;45mNone\u001b[0m, \u001b[38;5;34m512\u001b[0m)            │       \u001b[38;5;34m131,584\u001b[0m │\n",
       "├─────────────────────────────────┼────────────────────────┼───────────────┤\n",
       "│ dropout_dense_vgg19_1 (\u001b[38;5;33mDropout\u001b[0m) │ (\u001b[38;5;45mNone\u001b[0m, \u001b[38;5;34m512\u001b[0m)            │             \u001b[38;5;34m0\u001b[0m │\n",
       "├─────────────────────────────────┼────────────────────────┼───────────────┤\n",
       "│ dense_vgg19_2 (\u001b[38;5;33mDense\u001b[0m)           │ (\u001b[38;5;45mNone\u001b[0m, \u001b[38;5;34m128\u001b[0m)            │        \u001b[38;5;34m65,664\u001b[0m │\n",
       "├─────────────────────────────────┼────────────────────────┼───────────────┤\n",
       "│ dropout_dense_vgg19_2 (\u001b[38;5;33mDropout\u001b[0m) │ (\u001b[38;5;45mNone\u001b[0m, \u001b[38;5;34m128\u001b[0m)            │             \u001b[38;5;34m0\u001b[0m │\n",
       "├─────────────────────────────────┼────────────────────────┼───────────────┤\n",
       "│ output_vgg19 (\u001b[38;5;33mDense\u001b[0m)            │ (\u001b[38;5;45mNone\u001b[0m, \u001b[38;5;34m16\u001b[0m)             │         \u001b[38;5;34m2,064\u001b[0m │\n",
       "└─────────────────────────────────┴────────────────────────┴───────────────┘\n"
      ]
     },
     "metadata": {},
     "output_type": "display_data"
    },
    {
     "data": {
      "text/html": [
       "<pre style=\"white-space:pre;overflow-x:auto;line-height:normal;font-family:Menlo,'DejaVu Sans Mono',consolas,'Courier New',monospace\"><span style=\"font-weight: bold\"> Total params: </span><span style=\"color: #00af00; text-decoration-color: #00af00\">6,721,744</span> (25.64 MB)\n",
       "</pre>\n"
      ],
      "text/plain": [
       "\u001b[1m Total params: \u001b[0m\u001b[38;5;34m6,721,744\u001b[0m (25.64 MB)\n"
      ]
     },
     "metadata": {},
     "output_type": "display_data"
    },
    {
     "data": {
      "text/html": [
       "<pre style=\"white-space:pre;overflow-x:auto;line-height:normal;font-family:Menlo,'DejaVu Sans Mono',consolas,'Courier New',monospace\"><span style=\"font-weight: bold\"> Trainable params: </span><span style=\"color: #00af00; text-decoration-color: #00af00\">4,463,248</span> (17.03 MB)\n",
       "</pre>\n"
      ],
      "text/plain": [
       "\u001b[1m Trainable params: \u001b[0m\u001b[38;5;34m4,463,248\u001b[0m (17.03 MB)\n"
      ]
     },
     "metadata": {},
     "output_type": "display_data"
    },
    {
     "data": {
      "text/html": [
       "<pre style=\"white-space:pre;overflow-x:auto;line-height:normal;font-family:Menlo,'DejaVu Sans Mono',consolas,'Courier New',monospace\"><span style=\"font-weight: bold\"> Non-trainable params: </span><span style=\"color: #00af00; text-decoration-color: #00af00\">2,258,496</span> (8.62 MB)\n",
       "</pre>\n"
      ],
      "text/plain": [
       "\u001b[1m Non-trainable params: \u001b[0m\u001b[38;5;34m2,258,496\u001b[0m (8.62 MB)\n"
      ]
     },
     "metadata": {},
     "output_type": "display_data"
    },
    {
     "name": "stdout",
     "output_type": "stream",
     "text": [
      "VGG19+LSTM Model Created Successfully!\n",
      "Xception_VGG19_LSTM Model Plot saved successfully...\n",
      "train_gen.videos shape: (1638, 5, 128, 128, 3)\n",
      "train_gen.labels shape: (1638, 16)\n",
      "val_gen.videos shape: (410, 5, 128, 128, 3)\n",
      "val_gen.labels shape: (410, 16)\n",
      "features_test shape: (512, 5, 128, 128, 3)\n",
      "labels_test shape: (512, 16)\n",
      "train_gen batch videos shape: (24, 5, 128, 128, 3)\n",
      "train_gen batch labels shape: (24, 16)\n",
      "val_gen batch videos shape: (24, 5, 128, 128, 3)\n",
      "val_gen batch labels shape: (24, 16)\n",
      "Dataset - Msrdailyactivity3D Rgb Videos Only\n",
      "There are total 16 classes, selected 16 classes\n",
      "Setting None videos/class to train the model.\n",
      "Image size 128x128 with 5 sequence length\n",
      "Dropout rate: 0.5\n",
      "Train-Test split ratio 80/20\n",
      "Validation data from Train set 20.0%\n",
      "\n",
      "\n",
      "Initial training started for VGG19+LSTM model with 1638 videos of 16 classes with 410 videos for validation...\n",
      "Epoch 1/30\n"
     ]
    },
    {
     "name": "stderr",
     "output_type": "stream",
     "text": [
      "I0000 00:00:1752252045.848150    2457 cuda_dnn.cc:529] Loaded cuDNN version 90300\n"
     ]
    },
    {
     "name": "stdout",
     "output_type": "stream",
     "text": [
      "     69/Unknown \u001b[1m37s\u001b[0m 80ms/step - accuracy: 0.0860 - loss: 25.0902"
     ]
    },
    {
     "name": "stderr",
     "output_type": "stream",
     "text": [
      "/usr/local/lib/python3.11/dist-packages/keras/src/trainers/epoch_iterator.py:151: UserWarning: Your input ran out of data; interrupting training. Make sure that your dataset or generator can generate at least `steps_per_epoch * epochs` batches. You may need to use the `.repeat()` function when building your dataset.\n",
      "  self._interrupted_warning()\n"
     ]
    },
    {
     "name": "stdout",
     "output_type": "stream",
     "text": [
      "\u001b[1m69/69\u001b[0m \u001b[32m━━━━━━━━━━━━━━━━━━━━\u001b[0m\u001b[37m\u001b[0m \u001b[1m46s\u001b[0m 210ms/step - accuracy: 0.0858 - loss: 25.0247 - val_accuracy: 0.0805 - val_loss: 13.5738 - learning_rate: 0.0010\n",
      "Epoch 2/30\n",
      "\u001b[1m69/69\u001b[0m \u001b[32m━━━━━━━━━━━━━━━━━━━━\u001b[0m\u001b[37m\u001b[0m \u001b[1m7s\u001b[0m 97ms/step - accuracy: 0.0794 - loss: 12.3712 - val_accuracy: 0.0829 - val_loss: 9.5985 - learning_rate: 0.0010\n",
      "Epoch 3/30\n",
      "\u001b[1m69/69\u001b[0m \u001b[32m━━━━━━━━━━━━━━━━━━━━\u001b[0m\u001b[37m\u001b[0m \u001b[1m7s\u001b[0m 96ms/step - accuracy: 0.1035 - loss: 9.0555 - val_accuracy: 0.1000 - val_loss: 7.7385 - learning_rate: 0.0010\n",
      "Epoch 4/30\n",
      "\u001b[1m69/69\u001b[0m \u001b[32m━━━━━━━━━━━━━━━━━━━━\u001b[0m\u001b[37m\u001b[0m \u001b[1m7s\u001b[0m 96ms/step - accuracy: 0.1547 - loss: 7.2545 - val_accuracy: 0.0537 - val_loss: 6.5195 - learning_rate: 0.0010\n",
      "Epoch 5/30\n",
      "\u001b[1m69/69\u001b[0m \u001b[32m━━━━━━━━━━━━━━━━━━━━\u001b[0m\u001b[37m\u001b[0m \u001b[1m7s\u001b[0m 97ms/step - accuracy: 0.2073 - loss: 5.9426 - val_accuracy: 0.0659 - val_loss: 5.6121 - learning_rate: 0.0010\n",
      "Epoch 6/30\n",
      "\u001b[1m69/69\u001b[0m \u001b[32m━━━━━━━━━━━━━━━━━━━━\u001b[0m\u001b[37m\u001b[0m \u001b[1m7s\u001b[0m 97ms/step - accuracy: 0.2498 - loss: 5.0447 - val_accuracy: 0.1780 - val_loss: 4.8900 - learning_rate: 0.0010\n",
      "Epoch 7/30\n",
      "\u001b[1m69/69\u001b[0m \u001b[32m━━━━━━━━━━━━━━━━━━━━\u001b[0m\u001b[37m\u001b[0m \u001b[1m7s\u001b[0m 97ms/step - accuracy: 0.3254 - loss: 4.2288 - val_accuracy: 0.0976 - val_loss: 4.6095 - learning_rate: 0.0010\n",
      "Epoch 8/30\n",
      "\u001b[1m69/69\u001b[0m \u001b[32m━━━━━━━━━━━━━━━━━━━━\u001b[0m\u001b[37m\u001b[0m \u001b[1m7s\u001b[0m 99ms/step - accuracy: 0.3674 - loss: 3.6034 - val_accuracy: 0.1463 - val_loss: 4.5806 - learning_rate: 0.0010\n",
      "Epoch 9/30\n",
      "\u001b[1m69/69\u001b[0m \u001b[32m━━━━━━━━━━━━━━━━━━━━\u001b[0m\u001b[37m\u001b[0m \u001b[1m7s\u001b[0m 99ms/step - accuracy: 0.3821 - loss: 3.2003 - val_accuracy: 0.3293 - val_loss: 3.2913 - learning_rate: 0.0010\n",
      "Epoch 10/30\n",
      "\u001b[1m69/69\u001b[0m \u001b[32m━━━━━━━━━━━━━━━━━━━━\u001b[0m\u001b[37m\u001b[0m \u001b[1m7s\u001b[0m 97ms/step - accuracy: 0.4496 - loss: 2.7920 - val_accuracy: 0.1927 - val_loss: 3.9275 - learning_rate: 0.0010\n",
      "Epoch 11/30\n",
      "\u001b[1m69/69\u001b[0m \u001b[32m━━━━━━━━━━━━━━━━━━━━\u001b[0m\u001b[37m\u001b[0m \u001b[1m7s\u001b[0m 100ms/step - accuracy: 0.4750 - loss: 2.5677 - val_accuracy: 0.2756 - val_loss: 3.0722 - learning_rate: 0.0010\n",
      "Epoch 12/30\n",
      "\u001b[1m69/69\u001b[0m \u001b[32m━━━━━━━━━━━━━━━━━━━━\u001b[0m\u001b[37m\u001b[0m \u001b[1m7s\u001b[0m 98ms/step - accuracy: 0.4688 - loss: 2.4881 - val_accuracy: 0.2366 - val_loss: 3.7040 - learning_rate: 0.0010\n",
      "Epoch 13/30\n",
      "\u001b[1m69/69\u001b[0m \u001b[32m━━━━━━━━━━━━━━━━━━━━\u001b[0m\u001b[37m\u001b[0m \u001b[1m7s\u001b[0m 100ms/step - accuracy: 0.4877 - loss: 2.2527 - val_accuracy: 0.2537 - val_loss: 3.7503 - learning_rate: 0.0010\n",
      "Epoch 14/30\n",
      "\u001b[1m69/69\u001b[0m \u001b[32m━━━━━━━━━━━━━━━━━━━━\u001b[0m\u001b[37m\u001b[0m \u001b[1m7s\u001b[0m 100ms/step - accuracy: 0.5462 - loss: 2.0445 - val_accuracy: 0.3171 - val_loss: 3.3432 - learning_rate: 0.0010\n",
      "Epoch 15/30\n",
      "\u001b[1m69/69\u001b[0m \u001b[32m━━━━━━━━━━━━━━━━━━━━\u001b[0m\u001b[37m\u001b[0m \u001b[1m7s\u001b[0m 100ms/step - accuracy: 0.5988 - loss: 1.8967 - val_accuracy: 0.2512 - val_loss: 4.3314 - learning_rate: 5.0000e-04\n",
      "Epoch 16/30\n",
      "\u001b[1m69/69\u001b[0m \u001b[32m━━━━━━━━━━━━━━━━━━━━\u001b[0m\u001b[37m\u001b[0m \u001b[1m7s\u001b[0m 102ms/step - accuracy: 0.6136 - loss: 1.7292 - val_accuracy: 0.3512 - val_loss: 2.7568 - learning_rate: 5.0000e-04\n",
      "Epoch 17/30\n",
      "\u001b[1m69/69\u001b[0m \u001b[32m━━━━━━━━━━━━━━━━━━━━\u001b[0m\u001b[37m\u001b[0m \u001b[1m7s\u001b[0m 102ms/step - accuracy: 0.6234 - loss: 1.6367 - val_accuracy: 0.4171 - val_loss: 2.5526 - learning_rate: 5.0000e-04\n",
      "Epoch 18/30\n",
      "\u001b[1m69/69\u001b[0m \u001b[32m━━━━━━━━━━━━━━━━━━━━\u001b[0m\u001b[37m\u001b[0m \u001b[1m7s\u001b[0m 100ms/step - accuracy: 0.6296 - loss: 1.5711 - val_accuracy: 0.2244 - val_loss: 4.0785 - learning_rate: 5.0000e-04\n",
      "Epoch 19/30\n",
      "\u001b[1m69/69\u001b[0m \u001b[32m━━━━━━━━━━━━━━━━━━━━\u001b[0m\u001b[37m\u001b[0m \u001b[1m7s\u001b[0m 100ms/step - accuracy: 0.6553 - loss: 1.5010 - val_accuracy: 0.2244 - val_loss: 5.7509 - learning_rate: 5.0000e-04\n",
      "Epoch 20/30\n",
      "\u001b[1m69/69\u001b[0m \u001b[32m━━━━━━━━━━━━━━━━━━━━\u001b[0m\u001b[37m\u001b[0m \u001b[1m7s\u001b[0m 101ms/step - accuracy: 0.6893 - loss: 1.4358 - val_accuracy: 0.4829 - val_loss: 2.2614 - learning_rate: 5.0000e-04\n",
      "Epoch 21/30\n",
      "\u001b[1m69/69\u001b[0m \u001b[32m━━━━━━━━━━━━━━━━━━━━\u001b[0m\u001b[37m\u001b[0m \u001b[1m7s\u001b[0m 99ms/step - accuracy: 0.6803 - loss: 1.3892 - val_accuracy: 0.3122 - val_loss: 3.4670 - learning_rate: 5.0000e-04\n",
      "Epoch 22/30\n",
      "\u001b[1m69/69\u001b[0m \u001b[32m━━━━━━━━━━━━━━━━━━━━\u001b[0m\u001b[37m\u001b[0m \u001b[1m7s\u001b[0m 99ms/step - accuracy: 0.7134 - loss: 1.3642 - val_accuracy: 0.3390 - val_loss: 3.6730 - learning_rate: 5.0000e-04\n",
      "Epoch 23/30\n",
      "\u001b[1m69/69\u001b[0m \u001b[32m━━━━━━━━━━━━━━━━━━━━\u001b[0m\u001b[37m\u001b[0m \u001b[1m7s\u001b[0m 98ms/step - accuracy: 0.7023 - loss: 1.3916 - val_accuracy: 0.0951 - val_loss: 9.7697 - learning_rate: 5.0000e-04\n",
      "Epoch 24/30\n",
      "\u001b[1m69/69\u001b[0m \u001b[32m━━━━━━━━━━━━━━━━━━━━\u001b[0m\u001b[37m\u001b[0m \u001b[1m7s\u001b[0m 99ms/step - accuracy: 0.7457 - loss: 1.2985 - val_accuracy: 0.2415 - val_loss: 6.8575 - learning_rate: 2.5000e-04\n",
      "Epoch 25/30\n",
      "\u001b[1m69/69\u001b[0m \u001b[32m━━━━━━━━━━━━━━━━━━━━\u001b[0m\u001b[37m\u001b[0m \u001b[1m7s\u001b[0m 99ms/step - accuracy: 0.7734 - loss: 1.1845 - val_accuracy: 0.4146 - val_loss: 3.1352 - learning_rate: 2.5000e-04\n",
      "Epoch 26/30\n",
      "\u001b[1m69/69\u001b[0m \u001b[32m━━━━━━━━━━━━━━━━━━━━\u001b[0m\u001b[37m\u001b[0m \u001b[1m7s\u001b[0m 101ms/step - accuracy: 0.7934 - loss: 1.1101 - val_accuracy: 0.5146 - val_loss: 2.0537 - learning_rate: 2.5000e-04\n",
      "Epoch 27/30\n",
      "\u001b[1m69/69\u001b[0m \u001b[32m━━━━━━━━━━━━━━━━━━━━\u001b[0m\u001b[37m\u001b[0m \u001b[1m7s\u001b[0m 100ms/step - accuracy: 0.8090 - loss: 1.0439 - val_accuracy: 0.2439 - val_loss: 5.2331 - learning_rate: 2.5000e-04\n",
      "Epoch 28/30\n",
      "\u001b[1m69/69\u001b[0m \u001b[32m━━━━━━━━━━━━━━━━━━━━\u001b[0m\u001b[37m\u001b[0m \u001b[1m7s\u001b[0m 99ms/step - accuracy: 0.8159 - loss: 1.0190 - val_accuracy: 0.2171 - val_loss: 7.0487 - learning_rate: 2.5000e-04\n",
      "Epoch 29/30\n",
      "\u001b[1m69/69\u001b[0m \u001b[32m━━━━━━━━━━━━━━━━━━━━\u001b[0m\u001b[37m\u001b[0m \u001b[1m7s\u001b[0m 101ms/step - accuracy: 0.8326 - loss: 1.0012 - val_accuracy: 0.4927 - val_loss: 2.3182 - learning_rate: 2.5000e-04\n",
      "Epoch 30/30\n",
      "\u001b[1m69/69\u001b[0m \u001b[32m━━━━━━━━━━━━━━━━━━━━\u001b[0m\u001b[37m\u001b[0m \u001b[1m7s\u001b[0m 99ms/step - accuracy: 0.8415 - loss: 0.9598 - val_accuracy: 0.4659 - val_loss: 2.5656 - learning_rate: 1.2500e-04\n"
     ]
    }
   ],
   "source": [
    "# Import necessary libraries\n",
    "from tensorflow.keras.applications import MobileNetV2\n",
    "from tensorflow.keras.models import Sequential\n",
    "from tensorflow.keras.layers import TimeDistributed, GlobalAveragePooling2D, LSTM, Dropout, Dense, BatchNormalization, GRU\n",
    "from tensorflow.keras.regularizers import l2\n",
    "from tensorflow.keras.callbacks import EarlyStopping, ReduceLROnPlateau\n",
    "from tensorflow.keras.utils import to_categorical\n",
    "import tensorflow as tf\n",
    "import numpy as np\n",
    "import gc\n",
    "\n",
    "# Clear memory before creating the new model\n",
    "gc.collect()\n",
    "tf.keras.backend.clear_session()\n",
    "print(\"Memory cleared before creating VGG19+LSTM model\")\n",
    "\n",
    "# Print TensorFlow version\n",
    "print(f\"TensorFlow version: {tf.__version__}\")\n",
    "\n",
    "# Pre-load VGG19 weights\n",
    "print(\"Pre-loading VGG19 weights...\")\n",
    "try:\n",
    "    base_model = MobileNetV2(weights='imagenet', include_top=False, input_shape=(IMAGE_HEIGHT, IMAGE_WIDTH, 3))\n",
    "    print(\"VGG19 weights loaded successfully!\")\n",
    "except Exception as e:\n",
    "    print(f\"Failed to load VGG19 weights: {str(e)}\")\n",
    "\n",
    "# Define function to create VGG19+LSTM model\n",
    "def create_model(sequence_length, image_height, image_width, classes_list=None, dropout_rate=0.5, base_model=None):\n",
    "    print(\"Creating VGG19+LSTM model with parameters:\")\n",
    "    print(f\"sequence_length: {sequence_length}, image_height: {image_height}, image_width: {image_width}, classes_list length: {len(classes_list) if classes_list is not None else None}, dropout_rate: {dropout_rate}\")\n",
    "    \n",
    "    if classes_list is None:\n",
    "        raise ValueError(\"classes_list must be provided to define the output layer size\")\n",
    "    if base_model is None:\n",
    "        raise ValueError(\"base_model must be provided to avoid re-downloading weights\")\n",
    "\n",
    "    try:\n",
    "        # Use the pre-loaded base model\n",
    "        # Freeze the base model for initial training\n",
    "        base_model.trainable = False\n",
    "\n",
    "        # Define the Sequential model\n",
    "        model = Sequential([\n",
    "            # TimeDistributed VGG19 model\n",
    "            TimeDistributed(\n",
    "                base_model,\n",
    "                input_shape=(sequence_length, image_height, image_width, 3),\n",
    "                name=\"time_distributed_vgg19\"\n",
    "            ),\n",
    "            # TimeDistributed GlobalAveragePooling2D\n",
    "            TimeDistributed(GlobalAveragePooling2D(), name=\"time_distributed_pooling\"),\n",
    "            # LSTM layer with 512 units\n",
    "            LSTM(512, activation=\"tanh\", return_sequences=True, kernel_regularizer=l2(0.01), name=\"lstm_vgg19\"),\n",
    "            GRU(256, activation=\"tanh\", return_sequences=False, kernel_regularizer=l2(0.01), name=\"gru_256\"),\n",
    "            BatchNormalization(name=\"batch_normalization_vgg19\"),\n",
    "            # Dropout after LSTM\n",
    "            Dropout(dropout_rate, name=\"dropout_lstm_vgg19\"),\n",
    "            # Dense layer with 512 units\n",
    "            Dense(512, activation=\"relu\", kernel_regularizer=l2(0.01), name=\"dense_vgg19_1\"),\n",
    "            # Dropout after first Dense\n",
    "            Dropout(dropout_rate, name=\"dropout_dense_vgg19_1\"),\n",
    "            # Dense layer with 128 units\n",
    "            Dense(128, activation=\"relu\", kernel_regularizer=l2(0.01), name=\"dense_vgg19_2\"),\n",
    "            # Dropout after second Dense\n",
    "            Dropout(dropout_rate, name=\"dropout_dense_vgg19_2\"),\n",
    "            # Output Dense layer with softmax activation\n",
    "            Dense(len(classes_list), activation=\"softmax\", name=\"output_vgg19\")\n",
    "        ])\n",
    "\n",
    "        # Print model summary\n",
    "        print(\"VGG19+LSTM model architecture created successfully!\")\n",
    "        model.summary()\n",
    "\n",
    "        return model\n",
    "\n",
    "    except Exception as e:\n",
    "        print(f\"Error creating VGG19+LSTM model: {str(e)}\")\n",
    "        import traceback\n",
    "        traceback.print_exc()\n",
    "        return None\n",
    "\n",
    "# Create the VGG19+LSTM model using the pre-loaded base model\n",
    "model = create_model(\n",
    "    sequence_length=SEQUENCE_LENGTH,\n",
    "    image_height=IMAGE_HEIGHT,\n",
    "    image_width=IMAGE_WIDTH,\n",
    "    classes_list=CLASSES_LIST,\n",
    "    dropout_rate=DROPOUT_RATE,\n",
    "    base_model=base_model\n",
    ")\n",
    "\n",
    "# Check if model was created successfully\n",
    "if model is None:\n",
    "    raise ValueError(\"Failed to create VGG19+LSTM model. Check error messages above.\")\n",
    "else:\n",
    "    print(\"VGG19+LSTM Model Created Successfully!\")\n",
    "\n",
    "# Plot the model structure\n",
    "from tensorflow.keras.utils import plot_model\n",
    "try:\n",
    "    plot_model(model, to_file=f'{MODEL_NAME}_model_Plot.png', show_shapes=True, show_layer_names=True)\n",
    "    print(f\"{MODEL_NAME}_VGG19_LSTM Model Plot saved successfully...\")\n",
    "except Exception as e:\n",
    "    print(f\"Failed to plot model: {str(e)}\")\n",
    "\n",
    "# Verify data shapes\n",
    "print(f\"train_gen.videos shape: {np.shape(train_gen.videos)}\")\n",
    "print(f\"train_gen.labels shape: {np.shape(train_gen.labels)}\")\n",
    "print(f\"val_gen.videos shape: {np.shape(val_gen.videos)}\")\n",
    "print(f\"val_gen.labels shape: {np.shape(val_gen.labels)}\")\n",
    "print(f\"features_test shape: {np.shape(features_test)}\")\n",
    "print(f\"labels_test shape: {np.shape(labels_test)}\")\n",
    "\n",
    "# Ensure labels_test is one-hot encoded\n",
    "if len(labels_test.shape) == 1:\n",
    "    print(\"Converting labels_test to one-hot encoded format...\")\n",
    "    labels_test = to_categorical(labels_test, num_classes=NO_OF_CLASSES)\n",
    "    print(f\"New labels_test shape: {labels_test.shape}\")\n",
    "\n",
    "# Verify generator batch shapes\n",
    "try:\n",
    "    videos, labels = train_gen[0]\n",
    "    print(f\"train_gen batch videos shape: {videos.shape}\")\n",
    "    print(f\"train_gen batch labels shape: {labels.shape}\")\n",
    "    videos, labels = val_gen[0]\n",
    "    print(f\"val_gen batch videos shape: {videos.shape}\")\n",
    "    print(f\"val_gen batch labels shape: {labels.shape}\")\n",
    "except Exception as e:\n",
    "    print(f\"Error accessing generator data: {str(e)}\")\n",
    "\n",
    "# Compile the model for initial training\n",
    "early_stopping_callback = EarlyStopping(monitor='val_loss', patience=7, mode='min', restore_best_weights=True)\n",
    "lr_scheduler = ReduceLROnPlateau(monitor='val_loss', factor=0.5, patience=3, min_lr=1e-6)\n",
    "\n",
    "model.compile(\n",
    "    loss='categorical_crossentropy',\n",
    "    optimizer=tf.keras.optimizers.Adam(learning_rate=0.001),  # Higher learning rate for initial training\n",
    "    metrics=['accuracy']\n",
    ")\n",
    "\n",
    "# Print dataset summary\n",
    "print(f\"Dataset - {DATASET_NAME}\")\n",
    "print(f\"There are total {len(ALL_CLASS_NAMES)} classes, selected {NO_OF_CLASSES} classes\")\n",
    "print(f\"Setting {MAX_VIDEO_PER_CLASS} videos/class to train the model.\")\n",
    "print(f\"Image size {IMAGE_HEIGHT}x{IMAGE_WIDTH} with {SEQUENCE_LENGTH} sequence length\")\n",
    "print(f\"Dropout rate: {DROPOUT_RATE}\")\n",
    "print(f\"Train-Test split ratio {int((1-TEST_SIZE)*100)}/{int(TEST_SIZE*100)}\")\n",
    "print(f\"Validation data from Train set {VALIDATION_SPLIT*100}%\")\n",
    "print(\"\\n\")\n",
    "\n",
    "# Initial training with frozen base model\n",
    "print(f\"Initial training started for VGG19+LSTM model with {len(train_gen.videos)} videos of {NO_OF_CLASSES} classes with {len(val_gen.videos)} videos for validation...\")\n",
    "try:\n",
    "    initial_model_history = model.fit(\n",
    "        train_gen.as_dataset(),\n",
    "        validation_data=val_gen.as_dataset(),\n",
    "        epochs=EPOCHS,\n",
    "        class_weight=class_weights,\n",
    "        callbacks=[early_stopping_callback, lr_scheduler]\n",
    "    )\n",
    "except Exception as e:\n",
    "    print(f\"Error during initial model training: {str(e)}\")\n",
    "    import traceback\n",
    "    traceback.print_exc()\n"
   ]
  },
  {
   "cell_type": "code",
   "execution_count": 42,
   "id": "9c61e828",
   "metadata": {
    "execution": {
     "iopub.execute_input": "2025-07-11T16:44:21.903869Z",
     "iopub.status.busy": "2025-07-11T16:44:21.903344Z",
     "iopub.status.idle": "2025-07-11T16:48:00.845167Z",
     "shell.execute_reply": "2025-07-11T16:48:00.844451Z"
    },
    "papermill": {
     "duration": 219.045582,
     "end_time": "2025-07-11T16:48:00.846317",
     "exception": false,
     "start_time": "2025-07-11T16:44:21.800735",
     "status": "completed"
    },
    "tags": []
   },
   "outputs": [
    {
     "name": "stdout",
     "output_type": "stream",
     "text": [
      "\n",
      "Fine-tuning started for VGG19+LSTM model with 1638 videos of 16 classes with 410 videos for validation...\n",
      "Epoch 1/30\n",
      "\u001b[1m69/69\u001b[0m \u001b[32m━━━━━━━━━━━━━━━━━━━━\u001b[0m\u001b[37m\u001b[0m \u001b[1m47s\u001b[0m 224ms/step - accuracy: 0.5696 - loss: 1.9961 - val_accuracy: 0.2244 - val_loss: 5.3991 - learning_rate: 1.0000e-04\n",
      "Epoch 2/30\n",
      "\u001b[1m69/69\u001b[0m \u001b[32m━━━━━━━━━━━━━━━━━━━━\u001b[0m\u001b[37m\u001b[0m \u001b[1m8s\u001b[0m 117ms/step - accuracy: 0.7575 - loss: 1.2228 - val_accuracy: 0.4122 - val_loss: 2.5699 - learning_rate: 1.0000e-04\n",
      "Epoch 3/30\n",
      "\u001b[1m69/69\u001b[0m \u001b[32m━━━━━━━━━━━━━━━━━━━━\u001b[0m\u001b[37m\u001b[0m \u001b[1m8s\u001b[0m 118ms/step - accuracy: 0.8110 - loss: 1.0445 - val_accuracy: 0.5732 - val_loss: 1.6975 - learning_rate: 1.0000e-04\n",
      "Epoch 4/30\n",
      "\u001b[1m69/69\u001b[0m \u001b[32m━━━━━━━━━━━━━━━━━━━━\u001b[0m\u001b[37m\u001b[0m \u001b[1m8s\u001b[0m 116ms/step - accuracy: 0.8627 - loss: 0.9316 - val_accuracy: 0.5659 - val_loss: 1.8247 - learning_rate: 1.0000e-04\n",
      "Epoch 5/30\n",
      "\u001b[1m69/69\u001b[0m \u001b[32m━━━━━━━━━━━━━━━━━━━━\u001b[0m\u001b[37m\u001b[0m \u001b[1m8s\u001b[0m 117ms/step - accuracy: 0.8796 - loss: 0.8704 - val_accuracy: 0.5878 - val_loss: 1.9050 - learning_rate: 1.0000e-04\n",
      "Epoch 6/30\n",
      "\u001b[1m69/69\u001b[0m \u001b[32m━━━━━━━━━━━━━━━━━━━━\u001b[0m\u001b[37m\u001b[0m \u001b[1m8s\u001b[0m 118ms/step - accuracy: 0.8898 - loss: 0.8426 - val_accuracy: 0.5488 - val_loss: 1.8947 - learning_rate: 1.0000e-04\n",
      "Epoch 7/30\n",
      "\u001b[1m69/69\u001b[0m \u001b[32m━━━━━━━━━━━━━━━━━━━━\u001b[0m\u001b[37m\u001b[0m \u001b[1m8s\u001b[0m 118ms/step - accuracy: 0.9077 - loss: 0.7897 - val_accuracy: 0.6366 - val_loss: 1.5371 - learning_rate: 5.0000e-05\n",
      "Epoch 8/30\n",
      "\u001b[1m69/69\u001b[0m \u001b[32m━━━━━━━━━━━━━━━━━━━━\u001b[0m\u001b[37m\u001b[0m \u001b[1m8s\u001b[0m 116ms/step - accuracy: 0.9250 - loss: 0.7350 - val_accuracy: 0.6049 - val_loss: 1.6224 - learning_rate: 5.0000e-05\n",
      "Epoch 9/30\n",
      "\u001b[1m69/69\u001b[0m \u001b[32m━━━━━━━━━━━━━━━━━━━━\u001b[0m\u001b[37m\u001b[0m \u001b[1m8s\u001b[0m 115ms/step - accuracy: 0.9328 - loss: 0.7016 - val_accuracy: 0.5902 - val_loss: 1.7577 - learning_rate: 5.0000e-05\n",
      "Epoch 10/30\n",
      "\u001b[1m69/69\u001b[0m \u001b[32m━━━━━━━━━━━━━━━━━━━━\u001b[0m\u001b[37m\u001b[0m \u001b[1m8s\u001b[0m 116ms/step - accuracy: 0.9446 - loss: 0.6922 - val_accuracy: 0.6171 - val_loss: 1.7443 - learning_rate: 5.0000e-05\n",
      "Epoch 11/30\n",
      "\u001b[1m69/69\u001b[0m \u001b[32m━━━━━━━━━━━━━━━━━━━━\u001b[0m\u001b[37m\u001b[0m \u001b[1m8s\u001b[0m 116ms/step - accuracy: 0.9458 - loss: 0.6726 - val_accuracy: 0.6317 - val_loss: 1.5238 - learning_rate: 2.5000e-05\n",
      "Epoch 12/30\n",
      "\u001b[1m69/69\u001b[0m \u001b[32m━━━━━━━━━━━━━━━━━━━━\u001b[0m\u001b[37m\u001b[0m \u001b[1m8s\u001b[0m 115ms/step - accuracy: 0.9506 - loss: 0.6566 - val_accuracy: 0.6439 - val_loss: 1.5476 - learning_rate: 2.5000e-05\n",
      "Epoch 13/30\n",
      "\u001b[1m69/69\u001b[0m \u001b[32m━━━━━━━━━━━━━━━━━━━━\u001b[0m\u001b[37m\u001b[0m \u001b[1m8s\u001b[0m 115ms/step - accuracy: 0.9586 - loss: 0.6189 - val_accuracy: 0.6512 - val_loss: 1.5466 - learning_rate: 2.5000e-05\n",
      "Epoch 14/30\n",
      "\u001b[1m69/69\u001b[0m \u001b[32m━━━━━━━━━━━━━━━━━━━━\u001b[0m\u001b[37m\u001b[0m \u001b[1m8s\u001b[0m 118ms/step - accuracy: 0.9657 - loss: 0.6113 - val_accuracy: 0.6512 - val_loss: 1.5228 - learning_rate: 2.5000e-05\n",
      "Epoch 15/30\n",
      "\u001b[1m69/69\u001b[0m \u001b[32m━━━━━━━━━━━━━━━━━━━━\u001b[0m\u001b[37m\u001b[0m \u001b[1m8s\u001b[0m 117ms/step - accuracy: 0.9684 - loss: 0.6150 - val_accuracy: 0.6585 - val_loss: 1.4534 - learning_rate: 2.5000e-05\n",
      "Epoch 16/30\n",
      "\u001b[1m69/69\u001b[0m \u001b[32m━━━━━━━━━━━━━━━━━━━━\u001b[0m\u001b[37m\u001b[0m \u001b[1m8s\u001b[0m 116ms/step - accuracy: 0.9728 - loss: 0.6117 - val_accuracy: 0.5878 - val_loss: 1.7044 - learning_rate: 2.5000e-05\n",
      "Epoch 17/30\n",
      "\u001b[1m69/69\u001b[0m \u001b[32m━━━━━━━━━━━━━━━━━━━━\u001b[0m\u001b[37m\u001b[0m \u001b[1m8s\u001b[0m 116ms/step - accuracy: 0.9808 - loss: 0.5809 - val_accuracy: 0.6610 - val_loss: 1.4842 - learning_rate: 2.5000e-05\n",
      "Epoch 18/30\n",
      "\u001b[1m69/69\u001b[0m \u001b[32m━━━━━━━━━━━━━━━━━━━━\u001b[0m\u001b[37m\u001b[0m \u001b[1m8s\u001b[0m 116ms/step - accuracy: 0.9772 - loss: 0.5736 - val_accuracy: 0.6561 - val_loss: 1.5527 - learning_rate: 2.5000e-05\n",
      "Epoch 19/30\n",
      "\u001b[1m69/69\u001b[0m \u001b[32m━━━━━━━━━━━━━━━━━━━━\u001b[0m\u001b[37m\u001b[0m \u001b[1m8s\u001b[0m 115ms/step - accuracy: 0.9842 - loss: 0.5610 - val_accuracy: 0.6561 - val_loss: 1.5491 - learning_rate: 1.2500e-05\n",
      "Epoch 20/30\n",
      "\u001b[1m69/69\u001b[0m \u001b[32m━━━━━━━━━━━━━━━━━━━━\u001b[0m\u001b[37m\u001b[0m \u001b[1m8s\u001b[0m 116ms/step - accuracy: 0.9743 - loss: 0.5677 - val_accuracy: 0.6659 - val_loss: 1.5117 - learning_rate: 1.2500e-05\n",
      "Epoch 21/30\n",
      "\u001b[1m69/69\u001b[0m \u001b[32m━━━━━━━━━━━━━━━━━━━━\u001b[0m\u001b[37m\u001b[0m \u001b[1m8s\u001b[0m 115ms/step - accuracy: 0.9875 - loss: 0.5437 - val_accuracy: 0.6707 - val_loss: 1.5045 - learning_rate: 1.2500e-05\n",
      "Epoch 22/30\n",
      "\u001b[1m69/69\u001b[0m \u001b[32m━━━━━━━━━━━━━━━━━━━━\u001b[0m\u001b[37m\u001b[0m \u001b[1m8s\u001b[0m 116ms/step - accuracy: 0.9879 - loss: 0.5542 - val_accuracy: 0.6756 - val_loss: 1.5097 - learning_rate: 6.2500e-06\n",
      "\n",
      "Evaluating VGG19+LSTM model on test set...\n",
      "Total 512 videos and 512 classes\n",
      "test_gen batch videos shape: (24, 5, 128, 128, 3)\n",
      "test_gen batch labels shape: (24, 16)\n",
      "\u001b[1m22/22\u001b[0m \u001b[32m━━━━━━━━━━━━━━━━━━━━\u001b[0m\u001b[37m\u001b[0m \u001b[1m2s\u001b[0m 86ms/step - accuracy: 0.6743 - loss: 1.4321\n",
      "VGG19+LSTM Test Loss: 1.5038\n",
      "VGG19+LSTM Test Accuracy: 65.82%\n"
     ]
    }
   ],
   "source": [
    "\n",
    "# Unfreeze some layers for fine-tuning\n",
    "base_model.trainable = True\n",
    "# Freeze all layers except the last 8 layers (consistent with previous VGG19 code)\n",
    "for layer in base_model.layers[:-8]:\n",
    "    layer.trainable = False\n",
    "\n",
    "# Recompile the model with a lower learning rate for fine-tuning\n",
    "model.compile(\n",
    "    loss='categorical_crossentropy',\n",
    "    optimizer=tf.keras.optimizers.Adam(learning_rate=0.0001),  # Lower learning rate for fine-tuning\n",
    "    metrics=['accuracy']\n",
    ")\n",
    "\n",
    "# Fine-tune the model\n",
    "print(f\"\\nFine-tuning started for VGG19+LSTM model with {len(train_gen.videos)} videos of {NO_OF_CLASSES} classes with {len(val_gen.videos)} videos for validation...\")\n",
    "try:\n",
    "    fine_tune_model_history = model.fit(\n",
    "        train_gen.as_dataset(),\n",
    "        validation_data=val_gen.as_dataset(),\n",
    "        epochs=EPOCHS,\n",
    "        class_weight=class_weights,\n",
    "        callbacks=[early_stopping_callback, lr_scheduler]\n",
    "    )\n",
    "except Exception as e:\n",
    "    print(f\"Error during fine-tuning: {str(e)}\")\n",
    "    import traceback\n",
    "    traceback.print_exc()\n",
    "\n",
    "# Evaluate the model on the test set\n",
    "print(\"\\nEvaluating VGG19+LSTM model on test set...\")\n",
    "test_gen = VideoDataGenerator(\n",
    "    videos=features_test,\n",
    "    labels=labels_test,\n",
    "    batch_size=BATCH_SIZE\n",
    ")\n",
    "try:\n",
    "    videos, labels = test_gen[0]\n",
    "    print(f\"test_gen batch videos shape: {videos.shape}\")\n",
    "    print(f\"test_gen batch labels shape: {labels.shape}\")\n",
    "    loss, accuracy = model.evaluate(test_gen.as_dataset())\n",
    "    print(f'VGG19+LSTM Test Loss: {loss:.4f}')\n",
    "    print(f'VGG19+LSTM Test Accuracy: {accuracy * 100:.2f}%')\n",
    "except Exception as e:\n",
    "    print(f\"Error during model evaluation: {str(e)}\")\n",
    "    import traceback\n",
    "    traceback.print_exc()\n"
   ]
  },
  {
   "cell_type": "code",
   "execution_count": 43,
   "id": "ab151f68",
   "metadata": {
    "execution": {
     "iopub.execute_input": "2025-07-11T16:48:01.184871Z",
     "iopub.status.busy": "2025-07-11T16:48:01.184599Z",
     "iopub.status.idle": "2025-07-11T16:48:18.197718Z",
     "shell.execute_reply": "2025-07-11T16:48:18.197001Z"
    },
    "papermill": {
     "duration": 17.181479,
     "end_time": "2025-07-11T16:48:18.198885",
     "exception": false,
     "start_time": "2025-07-11T16:48:01.017406",
     "status": "completed"
    },
    "tags": []
   },
   "outputs": [
    {
     "data": {
      "image/png": "[encoded data removed]",
      "text/plain": [
       "<Figure size 1200x500 with 2 Axes>"
      ]
     },
     "metadata": {},
     "output_type": "display_data"
    },
    {
     "name": "stdout",
     "output_type": "stream",
     "text": [
      "\u001b[1m22/22\u001b[0m \u001b[32m━━━━━━━━━━━━━━━━━━━━\u001b[0m\u001b[37m\u001b[0m \u001b[1m16s\u001b[0m 409ms/step\n",
      "True classes shape: (512,)\n",
      "Predicted classes shape: (512,)\n",
      "\n",
      "VGG19+LSTM Classification Report:\n",
      "                    precision    recall  f1-score   support\n",
      "\n",
      "  write on a paper       0.38      0.41      0.39        29\n",
      "        use laptop       0.62      0.67      0.64        36\n",
      "         read book       0.48      0.48      0.48        29\n",
      "         sit still       0.38      0.41      0.39        37\n",
      "             drink       0.45      0.37      0.41        35\n",
      "          sit down       1.00      0.89      0.94        38\n",
      "use vacuum cleaner       0.80      0.86      0.83        28\n",
      "               eat       0.66      0.75      0.70        28\n",
      "       play guitar       0.88      0.90      0.89        39\n",
      "  lie down on sofa       0.97      1.00      0.98        28\n",
      "          stand up       0.94      0.89      0.91        36\n",
      "        toss paper       0.37      0.46      0.41        28\n",
      "              walk       0.78      0.97      0.87        30\n",
      "         play game       0.52      0.46      0.49        26\n",
      "          cheer up       0.88      0.59      0.71        37\n",
      "    call cellphone       0.38      0.32      0.35        28\n",
      "\n",
      "          accuracy                           0.66       512\n",
      "         macro avg       0.65      0.65      0.65       512\n",
      "      weighted avg       0.67      0.66      0.66       512\n",
      "\n"
     ]
    },
    {
     "name": "stderr",
     "output_type": "stream",
     "text": [
      "/usr/local/lib/python3.11/dist-packages/keras/src/trainers/epoch_iterator.py:151: UserWarning: Your input ran out of data; interrupting training. Make sure that your dataset or generator can generate at least `steps_per_epoch * epochs` batches. You may need to use the `.repeat()` function when building your dataset.\n",
      "  self._interrupted_warning()\n"
     ]
    },
    {
     "data": {
      "image/png": "[encoded data removed]",
      "text/plain": [
       "<Figure size 800x600 with 2 Axes>"
      ]
     },
     "metadata": {},
     "output_type": "display_data"
    }
   ],
   "source": [
    "\n",
    "# Plot training history (combine initial and fine-tuning)\n",
    "import matplotlib.pyplot as plt\n",
    "\n",
    "try:\n",
    "    # Combine histories\n",
    "    history_accuracy = initial_model_history.history['accuracy'] + fine_tune_model_history.history['accuracy']\n",
    "    history_val_accuracy = initial_model_history.history['val_accuracy'] + fine_tune_model_history.history['val_accuracy']\n",
    "    history_loss = initial_model_history.history['loss'] + fine_tune_model_history.history['loss']\n",
    "    history_val_loss = initial_model_history.history['val_loss'] + fine_tune_model_history.history['val_loss']\n",
    "\n",
    "    plt.figure(figsize=(12, 5))\n",
    "\n",
    "    # Accuracy\n",
    "    plt.subplot(1, 2, 1)\n",
    "    plt.plot(history_accuracy, label='Train Accuracy')\n",
    "    plt.plot(history_val_accuracy, label='Validation Accuracy')\n",
    "    plt.axvline(x=len(initial_model_history.history['accuracy']), color='r', linestyle='--', label='Start Fine-Tuning')\n",
    "    plt.title('VGG19+LSTM Model Accuracy')\n",
    "    plt.xlabel('Epoch')\n",
    "    plt.ylabel('Accuracy')\n",
    "    plt.legend()\n",
    "\n",
    "    # Loss\n",
    "    plt.subplot(1, 2, 2)\n",
    "    plt.plot(history_loss, label='Train Loss')\n",
    "    plt.plot(history_val_loss, label='Validation Loss')\n",
    "    plt.axvline(x=len(initial_model_history.history['loss']), color='r', linestyle='--', label='Start Fine-Tuning')\n",
    "    plt.title('VGG19+LSTM Model Loss')\n",
    "    plt.xlabel('Epoch')\n",
    "    plt.ylabel('Loss')\n",
    "    plt.legend()\n",
    "\n",
    "    plt.tight_layout()\n",
    "    plt.show()\n",
    "except Exception as e:\n",
    "    print(f\"Error plotting training history: {str(e)}\")\n",
    "\n",
    "# Generate confusion matrix and classification report\n",
    "from sklearn.metrics import classification_report, confusion_matrix\n",
    "import seaborn as sns\n",
    "\n",
    "# Get predictions\n",
    "try:\n",
    "    predictions = model.predict(test_gen.as_dataset())\n",
    "    predicted_classes = np.argmax(predictions, axis=1)\n",
    "    true_classes = np.argmax(labels_test, axis=1)\n",
    "\n",
    "    # Verify shapes\n",
    "    print(f\"True classes shape: {true_classes.shape}\")\n",
    "    print(f\"Predicted classes shape: {predicted_classes.shape}\")\n",
    "    assert len(true_classes) == len(predicted_classes), \"Sample counts do not match!\"\n",
    "\n",
    "    # Generate classification report\n",
    "    print(\"\\nVGG19+LSTM Classification Report:\")\n",
    "    print(classification_report(true_classes, predicted_classes, target_names=CLASSES_LIST))\n",
    "\n",
    "    # Plot confusion matrix\n",
    "    cm = confusion_matrix(true_classes, predicted_classes)\n",
    "    plt.figure(figsize=(8, 6))\n",
    "    sns.heatmap(cm, annot=True, fmt='d', cmap='Blues', xticklabels=CLASSES_LIST, yticklabels=CLASSES_LIST)\n",
    "    plt.xlabel('Predicted')\n",
    "    plt.ylabel('True')\n",
    "    plt.title('VGG19+LSTM Confusion Matrix')\n",
    "    plt.show()\n",
    "except Exception as e:\n",
    "    print(f\"Error during prediction or plotting: {str(e)}\")\n",
    "    import traceback\n",
    "    traceback.print_exc()"
   ]
  },
  {
   "cell_type": "code",
   "execution_count": 44,
   "id": "b943a863",
   "metadata": {
    "execution": {
     "iopub.execute_input": "2025-07-11T16:48:18.544606Z",
     "iopub.status.busy": "2025-07-11T16:48:18.544107Z",
     "iopub.status.idle": "2025-07-11T16:48:21.767169Z",
     "shell.execute_reply": "2025-07-11T16:48:21.766436Z"
    },
    "papermill": {
     "duration": 3.39542,
     "end_time": "2025-07-11T16:48:21.768428",
     "exception": false,
     "start_time": "2025-07-11T16:48:18.373008",
     "status": "completed"
    },
    "tags": []
   },
   "outputs": [
    {
     "name": "stdout",
     "output_type": "stream",
     "text": [
      "\u001b[1m16/16\u001b[0m \u001b[32m━━━━━━━━━━━━━━━━━━━━\u001b[0m\u001b[37m\u001b[0m \u001b[1m2s\u001b[0m 94ms/step - accuracy: 0.6751 - loss: 1.4347\n"
     ]
    }
   ],
   "source": [
    "# previous code\n",
    "model_evaluation_history = model.evaluate(features_test, labels_test)"
   ]
  }
 ],
 "metadata": {
  "kaggle": {
   "accelerator": "nvidiaTeslaT4",
   "dataSources": [
    {
     "datasetId": 1357563,
     "sourceId": 2256095,
     "sourceType": "datasetVersion"
    },
    {
     "datasetId": 7763484,
     "sourceId": 12338519,
     "sourceType": "datasetVersion"
    },
    {
     "datasetId": 7801555,
     "sourceId": 12373067,
     "sourceType": "datasetVersion"
    },
    {
     "datasetId": 7801884,
     "sourceId": 12373562,
     "sourceType": "datasetVersion"
    }
   ],
   "dockerImageVersionId": 31090,
   "isGpuEnabled": true,
   "isInternetEnabled": true,
   "language": "python",
   "sourceType": "notebook"
  },
  "kernelspec": {
   "display_name": "Python 3",
   "language": "python",
   "name": "python3"
  },
  "language_info": {
   "codemirror_mode": {
    "name": "ipython",
    "version": 3
   },
   "file_extension": ".py",
   "mimetype": "text/x-python",
   "name": "python",
   "nbconvert_exporter": "python",
   "pygments_lexer": "ipython3",
   "version": "3.11.13"
  },
  "papermill": {
   "default_parameters": {},
   "duration": 630.469495,
   "end_time": "2025-07-11T16:48:25.019005",
   "environment_variables": {},
   "exception": null,
   "input_path": "__notebook__.ipynb",
   "output_path": "__notebook__.ipynb",
   "parameters": {},
   "start_time": "2025-07-11T16:37:54.549510",
   "version": "2.6.0"
  }
 },
 "nbformat": 4,
 "nbformat_minor": 5
}
