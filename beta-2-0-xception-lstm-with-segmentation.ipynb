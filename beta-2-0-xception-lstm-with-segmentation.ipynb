{
 "cells": [
  {
   "cell_type": "markdown",
   "id": "d3306942",
   "metadata": {
    "papermill": {
     "duration": 0.012674,
     "end_time": "2025-07-05T17:21:40.354471",
     "exception": false,
     "start_time": "2025-07-05T17:21:40.341797",
     "status": "completed"
    },
    "tags": []
   },
   "source": [
    "# Initialization\n",
    "## Import Libraries"
   ]
  },
  {
   "cell_type": "code",
   "execution_count": 1,
   "id": "eae687c8",
   "metadata": {
    "execution": {
     "iopub.execute_input": "2025-07-05T17:21:40.377836Z",
     "iopub.status.busy": "2025-07-05T17:21:40.377554Z",
     "iopub.status.idle": "2025-07-05T17:21:58.915804Z",
     "shell.execute_reply": "2025-07-05T17:21:58.914791Z"
    },
    "papermill": {
     "duration": 18.551196,
     "end_time": "2025-07-05T17:21:58.917201",
     "exception": false,
     "start_time": "2025-07-05T17:21:40.366005",
     "status": "completed"
    },
    "tags": []
   },
   "outputs": [
    {
     "name": "stdout",
     "output_type": "stream",
     "text": [
      "Collecting mediapipe\r\n",
      "  Downloading mediapipe-0.10.21-cp311-cp311-manylinux_2_28_x86_64.whl.metadata (9.7 kB)\r\n",
      "Requirement already satisfied: absl-py in /usr/local/lib/python3.11/dist-packages (from mediapipe) (1.4.0)\r\n",
      "Requirement already satisfied: attrs>=19.1.0 in /usr/local/lib/python3.11/dist-packages (from mediapipe) (25.3.0)\r\n",
      "Requirement already satisfied: flatbuffers>=2.0 in /usr/local/lib/python3.11/dist-packages (from mediapipe) (25.2.10)\r\n",
      "Requirement already satisfied: jax in /usr/local/lib/python3.11/dist-packages (from mediapipe) (0.5.2)\r\n",
      "Requirement already satisfied: jaxlib in /usr/local/lib/python3.11/dist-packages (from mediapipe) (0.5.1)\r\n",
      "Requirement already satisfied: matplotlib in /usr/local/lib/python3.11/dist-packages (from mediapipe) (3.7.2)\r\n",
      "Requirement already satisfied: numpy<2 in /usr/local/lib/python3.11/dist-packages (from mediapipe) (1.26.4)\r\n",
      "Requirement already satisfied: opencv-contrib-python in /usr/local/lib/python3.11/dist-packages (from mediapipe) (4.11.0.86)\r\n",
      "Collecting protobuf<5,>=4.25.3 (from mediapipe)\r\n",
      "  Downloading protobuf-4.25.8-cp37-abi3-manylinux2014_x86_64.whl.metadata (541 bytes)\r\n",
      "Collecting sounddevice>=0.4.4 (from mediapipe)\r\n",
      "  Downloading sounddevice-0.5.2-py3-none-any.whl.metadata (1.6 kB)\r\n",
      "Requirement already satisfied: sentencepiece in /usr/local/lib/python3.11/dist-packages (from mediapipe) (0.2.0)\r\n",
      "Requirement already satisfied: mkl_fft in /usr/local/lib/python3.11/dist-packages (from numpy<2->mediapipe) (1.3.8)\r\n",
      "Requirement already satisfied: mkl_random in /usr/local/lib/python3.11/dist-packages (from numpy<2->mediapipe) (1.2.4)\r\n",
      "Requirement already satisfied: mkl_umath in /usr/local/lib/python3.11/dist-packages (from numpy<2->mediapipe) (0.1.1)\r\n",
      "Requirement already satisfied: mkl in /usr/local/lib/python3.11/dist-packages (from numpy<2->mediapipe) (2025.1.0)\r\n",
      "Requirement already satisfied: tbb4py in /usr/local/lib/python3.11/dist-packages (from numpy<2->mediapipe) (2022.1.0)\r\n",
      "Requirement already satisfied: mkl-service in /usr/local/lib/python3.11/dist-packages (from numpy<2->mediapipe) (2.4.1)\r\n",
      "Requirement already satisfied: CFFI>=1.0 in /usr/local/lib/python3.11/dist-packages (from sounddevice>=0.4.4->mediapipe) (1.17.1)\r\n",
      "Requirement already satisfied: ml_dtypes>=0.4.0 in /usr/local/lib/python3.11/dist-packages (from jax->mediapipe) (0.4.1)\r\n",
      "Requirement already satisfied: opt_einsum in /usr/local/lib/python3.11/dist-packages (from jax->mediapipe) (3.4.0)\r\n",
      "Requirement already satisfied: scipy>=1.11.1 in /usr/local/lib/python3.11/dist-packages (from jax->mediapipe) (1.15.2)\r\n",
      "Requirement already satisfied: contourpy>=1.0.1 in /usr/local/lib/python3.11/dist-packages (from matplotlib->mediapipe) (1.3.1)\r\n",
      "Requirement already satisfied: cycler>=0.10 in /usr/local/lib/python3.11/dist-packages (from matplotlib->mediapipe) (0.12.1)\r\n",
      "Requirement already satisfied: fonttools>=4.22.0 in /usr/local/lib/python3.11/dist-packages (from matplotlib->mediapipe) (4.57.0)\r\n",
      "Requirement already satisfied: kiwisolver>=1.0.1 in /usr/local/lib/python3.11/dist-packages (from matplotlib->mediapipe) (1.4.8)\r\n",
      "Requirement already satisfied: packaging>=20.0 in /usr/local/lib/python3.11/dist-packages (from matplotlib->mediapipe) (25.0)\r\n",
      "Requirement already satisfied: pillow>=6.2.0 in /usr/local/lib/python3.11/dist-packages (from matplotlib->mediapipe) (11.1.0)\r\n",
      "Requirement already satisfied: pyparsing<3.1,>=2.3.1 in /usr/local/lib/python3.11/dist-packages (from matplotlib->mediapipe) (3.0.9)\r\n",
      "Requirement already satisfied: python-dateutil>=2.7 in /usr/local/lib/python3.11/dist-packages (from matplotlib->mediapipe) (2.9.0.post0)\r\n",
      "Requirement already satisfied: pycparser in /usr/local/lib/python3.11/dist-packages (from CFFI>=1.0->sounddevice>=0.4.4->mediapipe) (2.22)\r\n",
      "Requirement already satisfied: six>=1.5 in /usr/local/lib/python3.11/dist-packages (from python-dateutil>=2.7->matplotlib->mediapipe) (1.17.0)\r\n",
      "Requirement already satisfied: intel-openmp<2026,>=2024 in /usr/local/lib/python3.11/dist-packages (from mkl->numpy<2->mediapipe) (2024.2.0)\r\n",
      "Requirement already satisfied: tbb==2022.* in /usr/local/lib/python3.11/dist-packages (from mkl->numpy<2->mediapipe) (2022.1.0)\r\n",
      "Requirement already satisfied: tcmlib==1.* in /usr/local/lib/python3.11/dist-packages (from tbb==2022.*->mkl->numpy<2->mediapipe) (1.3.0)\r\n",
      "Requirement already satisfied: intel-cmplr-lib-rt in /usr/local/lib/python3.11/dist-packages (from mkl_umath->numpy<2->mediapipe) (2024.2.0)\r\n",
      "Requirement already satisfied: intel-cmplr-lib-ur==2024.2.0 in /usr/local/lib/python3.11/dist-packages (from intel-openmp<2026,>=2024->mkl->numpy<2->mediapipe) (2024.2.0)\r\n",
      "Downloading mediapipe-0.10.21-cp311-cp311-manylinux_2_28_x86_64.whl (35.6 MB)\r\n",
      "\u001b[2K   \u001b[90m━━━━━━━━━━━━━━━━━━━━━━━━━━━━━━━━━━━━━━━━\u001b[0m \u001b[32m35.6/35.6 MB\u001b[0m \u001b[31m51.2 MB/s\u001b[0m eta \u001b[36m0:00:00\u001b[0m\r\n",
      "\u001b[?25hDownloading protobuf-4.25.8-cp37-abi3-manylinux2014_x86_64.whl (294 kB)\r\n",
      "\u001b[2K   \u001b[90m━━━━━━━━━━━━━━━━━━━━━━━━━━━━━━━━━━━━━━━━\u001b[0m \u001b[32m294.9/294.9 kB\u001b[0m \u001b[31m17.0 MB/s\u001b[0m eta \u001b[36m0:00:00\u001b[0m\r\n",
      "\u001b[?25hDownloading sounddevice-0.5.2-py3-none-any.whl (32 kB)\r\n",
      "Installing collected packages: protobuf, sounddevice, mediapipe\r\n",
      "  Attempting uninstall: protobuf\r\n",
      "    Found existing installation: protobuf 3.20.3\r\n",
      "    Uninstalling protobuf-3.20.3:\r\n",
      "      Successfully uninstalled protobuf-3.20.3\r\n",
      "\u001b[31mERROR: pip's dependency resolver does not currently take into account all the packages that are installed. This behaviour is the source of the following dependency conflicts.\r\n",
      "google-api-core 1.34.1 requires protobuf!=3.20.0,!=3.20.1,!=4.21.0,!=4.21.1,!=4.21.2,!=4.21.3,!=4.21.4,!=4.21.5,<4.0.0dev,>=3.19.5, but you have protobuf 4.25.8 which is incompatible.\r\n",
      "bigframes 1.42.0 requires rich<14,>=12.4.4, but you have rich 14.0.0 which is incompatible.\r\n",
      "google-spark-connect 0.5.2 requires google-api-core>=2.19.1, but you have google-api-core 1.34.1 which is incompatible.\r\n",
      "google-cloud-bigtable 2.30.0 requires google-api-core[grpc]<3.0.0,>=2.16.0, but you have google-api-core 1.34.1 which is incompatible.\r\n",
      "google-cloud-storage 2.19.0 requires google-api-core<3.0.0dev,>=2.15.0, but you have google-api-core 1.34.1 which is incompatible.\r\n",
      "pandas-gbq 0.28.0 requires google-api-core<3.0.0dev,>=2.10.2, but you have google-api-core 1.34.1 which is incompatible.\u001b[0m\u001b[31m\r\n",
      "\u001b[0mSuccessfully installed mediapipe-0.10.21 protobuf-4.25.8 sounddevice-0.5.2\r\n",
      "Note: you may need to restart the kernel to use updated packages.\n"
     ]
    }
   ],
   "source": [
    "pip install mediapipe"
   ]
  },
  {
   "cell_type": "code",
   "execution_count": 2,
   "id": "41daa87f",
   "metadata": {
    "_cell_guid": "b1076dfc-b9ad-4769-8c92-a6c4dae69d19",
    "_uuid": "8f2839f25d086af736a60e9eeb907d3b93b6e0e5",
    "execution": {
     "iopub.execute_input": "2025-07-05T17:21:58.941855Z",
     "iopub.status.busy": "2025-07-05T17:21:58.941560Z",
     "iopub.status.idle": "2025-07-05T17:22:14.225887Z",
     "shell.execute_reply": "2025-07-05T17:22:14.225256Z"
    },
    "papermill": {
     "duration": 15.297697,
     "end_time": "2025-07-05T17:22:14.227216",
     "exception": false,
     "start_time": "2025-07-05T17:21:58.929519",
     "status": "completed"
    },
    "tags": []
   },
   "outputs": [
    {
     "name": "stderr",
     "output_type": "stream",
     "text": [
      "2025-07-05 17:22:00.626801: E external/local_xla/xla/stream_executor/cuda/cuda_fft.cc:477] Unable to register cuFFT factory: Attempting to register factory for plugin cuFFT when one has already been registered\n",
      "WARNING: All log messages before absl::InitializeLog() is called are written to STDERR\n",
      "E0000 00:00:1751736120.844742      18 cuda_dnn.cc:8310] Unable to register cuDNN factory: Attempting to register factory for plugin cuDNN when one has already been registered\n",
      "E0000 00:00:1751736120.908585      18 cuda_blas.cc:1418] Unable to register cuBLAS factory: Attempting to register factory for plugin cuBLAS when one has already been registered\n"
     ]
    }
   ],
   "source": [
    "# install librarires\n",
    "import os\n",
    "import tensorflow as tf\n",
    "import numpy as np\n",
    "import random"
   ]
  },
  {
   "cell_type": "markdown",
   "id": "b863305d",
   "metadata": {
    "papermill": {
     "duration": 0.011419,
     "end_time": "2025-07-05T17:22:14.250742",
     "exception": false,
     "start_time": "2025-07-05T17:22:14.239323",
     "status": "completed"
    },
    "tags": []
   },
   "source": [
    "## ℹ️ Set Global Constants"
   ]
  },
  {
   "cell_type": "code",
   "execution_count": 3,
   "id": "1e8fe2ce",
   "metadata": {
    "execution": {
     "iopub.execute_input": "2025-07-05T17:22:14.275159Z",
     "iopub.status.busy": "2025-07-05T17:22:14.274497Z",
     "iopub.status.idle": "2025-07-05T17:22:14.286426Z",
     "shell.execute_reply": "2025-07-05T17:22:14.285650Z"
    },
    "papermill": {
     "duration": 0.025614,
     "end_time": "2025-07-05T17:22:14.287540",
     "exception": false,
     "start_time": "2025-07-05T17:22:14.261926",
     "status": "completed"
    },
    "tags": []
   },
   "outputs": [
    {
     "name": "stdout",
     "output_type": "stream",
     "text": [
      "Msrdailyactivity3D Rgb Videos Only\n",
      "There are total 16 classes, selected 16 classes\n",
      "Setting 20/class to train the model.\n",
      "Image size 128x128 with 5 sequence length\n",
      "Dropout rate: 0.5\n",
      "Train-Test split ratio 80/20\n",
      "Validation data from Train set 20.0%\n"
     ]
    }
   ],
   "source": [
    "# global variables\n",
    "# set dataset directories\n",
    "\n",
    "\n",
    "DATASET_DIR = \"/kaggle/input/msrdailyactivity3d-rgb-videos-only\"\n",
    "DATASET_NAME = DATASET_DIR.split(\"/\")[-1].replace(\"-\", \" \").title()\n",
    "\n",
    "print(DATASET_NAME)\n",
    "\n",
    "ALL_CLASS_NAMES = os.listdir(DATASET_DIR)\n",
    "\n",
    "# Global constant variables -> \n",
    "NO_OF_CLASSES = 16\n",
    "CLASSES_LIST = ALL_CLASS_NAMES[:NO_OF_CLASSES]\n",
    "\n",
    "# Model Configuration\n",
    "IMAGE_HEIGHT, IMAGE_WIDTH = 128, 128\n",
    "SEQUENCE_LENGTH = 5\n",
    "\n",
    "# set drop out rate\n",
    "DROPOUT_RATE = 0.5\n",
    "\n",
    "# set datas\n",
    "MAX_VIDEO_PER_CLASS = 20\n",
    "\n",
    "# split dataset\n",
    "TEST_SIZE = 0.20\n",
    "\n",
    "# model fit parameters\n",
    "EPOCHS = 30\n",
    "BATCH_SIZE = 16\n",
    "VALIDATION_SPLIT = 0.20\n",
    "\n",
    "# augmentation values\n",
    "NOISE_FACTOR = 0.02\n",
    "SHEAR_X= 1\n",
    "SHEAR_Y= 1\n",
    "\n",
    "# give a name of the model to save\n",
    "MODEL_NAME = \"Xception\"\n",
    "\n",
    "print(f\"There are total {len(ALL_CLASS_NAMES)} classes, selected {NO_OF_CLASSES} classes\")\n",
    "print(f\"Setting {MAX_VIDEO_PER_CLASS}/class to train the model.\")\n",
    "print(f\"Image size {IMAGE_HEIGHT}x{IMAGE_WIDTH} with {SEQUENCE_LENGTH} sequence length\")\n",
    "print(f\"Dropout rate: {DROPOUT_RATE}\")\n",
    "print(f\"Train-Test split ratio {int((1-TEST_SIZE)*100)}/{int(TEST_SIZE*100)}\")\n",
    "print(f\"Validation data from Train set {VALIDATION_SPLIT*100}%\")"
   ]
  },
  {
   "cell_type": "markdown",
   "id": "e982a469",
   "metadata": {
    "papermill": {
     "duration": 0.011557,
     "end_time": "2025-07-05T17:22:14.310775",
     "exception": false,
     "start_time": "2025-07-05T17:22:14.299218",
     "status": "completed"
    },
    "tags": []
   },
   "source": [
    "## Set `Seed` Values"
   ]
  },
  {
   "cell_type": "code",
   "execution_count": 4,
   "id": "ded4cdd8",
   "metadata": {
    "execution": {
     "iopub.execute_input": "2025-07-05T17:22:14.334053Z",
     "iopub.status.busy": "2025-07-05T17:22:14.333832Z",
     "iopub.status.idle": "2025-07-05T17:22:14.337330Z",
     "shell.execute_reply": "2025-07-05T17:22:14.336845Z"
    },
    "papermill": {
     "duration": 0.016254,
     "end_time": "2025-07-05T17:22:14.338362",
     "exception": false,
     "start_time": "2025-07-05T17:22:14.322108",
     "status": "completed"
    },
    "tags": []
   },
   "outputs": [],
   "source": [
    "# set seeed to get similar values\n",
    "seed_constant = 27\n",
    "np.random.seed(seed_constant)\n",
    "random.seed(seed_constant)\n",
    "tf.random.set_seed(seed_constant)"
   ]
  },
  {
   "cell_type": "markdown",
   "id": "bceacee8",
   "metadata": {
    "papermill": {
     "duration": 0.011132,
     "end_time": "2025-07-05T17:22:14.361074",
     "exception": false,
     "start_time": "2025-07-05T17:22:14.349942",
     "status": "completed"
    },
    "tags": []
   },
   "source": [
    "# 📌 Function Definition\n",
    "## Resize and Frame Extraction"
   ]
  },
  {
   "cell_type": "code",
   "execution_count": 5,
   "id": "38498755",
   "metadata": {
    "execution": {
     "iopub.execute_input": "2025-07-05T17:22:14.430762Z",
     "iopub.status.busy": "2025-07-05T17:22:14.430489Z",
     "iopub.status.idle": "2025-07-05T17:22:14.439292Z",
     "shell.execute_reply": "2025-07-05T17:22:14.438753Z"
    },
    "papermill": {
     "duration": 0.022007,
     "end_time": "2025-07-05T17:22:14.440307",
     "exception": false,
     "start_time": "2025-07-05T17:22:14.418300",
     "status": "completed"
    },
    "tags": []
   },
   "outputs": [],
   "source": [
    "import cv2\n",
    "from concurrent.futures import ThreadPoolExecutor\n",
    "\n",
    "def resize_and_normalize_frame(frame, image_height, image_width):\n",
    "    try:\n",
    "        resized_frame = cv2.resize(frame, (image_width, image_height), interpolation=cv2.INTER_LINEAR)\n",
    "        normalized_frame = resized_frame / 255.0\n",
    "        return normalized_frame\n",
    "    except Exception as e:\n",
    "        print(f\"Error processing frame: {e}\")\n",
    "        return None\n",
    "\n",
    "def frames_extraction(video_path, \n",
    "                      sequence_length=SEQUENCE_LENGTH, \n",
    "                      image_height=IMAGE_HEIGHT, \n",
    "                      image_width=IMAGE_WIDTH):\n",
    "    # Declare a list to store video frames\n",
    "    frames_list = []\n",
    "\n",
    "    # Check if video file exists\n",
    "    if not os.path.exists(video_path):\n",
    "        print(f\"Error: Video file not found at {video_path}\")\n",
    "        return None\n",
    "\n",
    "    # Read the video file using VideoCapture with optimized settings\n",
    "    video_reader = cv2.VideoCapture(video_path, cv2.CAP_FFMPEG)\n",
    "\n",
    "    # Check if the video was opened successfully\n",
    "    if not video_reader.isOpened():\n",
    "        print(f\"Error: Could not open video file {video_path}\")\n",
    "        video_reader.release()\n",
    "        return None\n",
    "\n",
    "    # Get the total number of frames in the video\n",
    "    video_frames_count = int(video_reader.get(cv2.CAP_PROP_FRAME_COUNT))\n",
    "\n",
    "    # Ensure the video has enough frames\n",
    "    if video_frames_count < sequence_length:\n",
    "        print(f\"Warning: Video {video_path} has only {video_frames_count} frames, less than required {sequence_length}\")\n",
    "        video_reader.release()\n",
    "        return None\n",
    "\n",
    "    # Calculate the interval after which frames will be sampled\n",
    "    skip_frames_window = max(int(video_frames_count / sequence_length), 1)\n",
    "\n",
    "    # Pre-allocate frame indices to extract\n",
    "    frame_indices = [i * skip_frames_window for i in range(sequence_length)]\n",
    "\n",
    "    # Read and process frames in parallel\n",
    "    frames = []\n",
    "    for idx in frame_indices:\n",
    "        video_reader.set(cv2.CAP_PROP_POS_FRAMES, idx)\n",
    "        success, frame = video_reader.read()\n",
    "        if not success or frame is None:\n",
    "            print(f\"Warning: Failed to read frame at index {idx} from {video_path}\")\n",
    "            break\n",
    "        frame = cv2.cvtColor(frame, cv2.COLOR_BGR2RGB)\n",
    "        frames.append(frame)\n",
    "\n",
    "    # Release the VideoCapture object early\n",
    "    video_reader.release()\n",
    "\n",
    "    # Ensure the correct number of frames is read\n",
    "    if len(frames) != sequence_length:\n",
    "        print(f\"Warning: Read {len(frames)} frames instead of {sequence_length} from {video_path}\")\n",
    "        return None\n",
    "\n",
    "    # Process frames in parallel using ThreadPoolExecutor\n",
    "    with ThreadPoolExecutor() as executor:\n",
    "        processed_frames = list(executor.map(\n",
    "            lambda f: resize_and_normalize_frame(f, image_height, image_width), \n",
    "            frames\n",
    "        ))\n",
    "\n",
    "    # Check for any failed frame processing\n",
    "    if any(f is None for f in processed_frames):\n",
    "        print(f\"Warning: Some frames failed to process in {video_path}\")\n",
    "        return None\n",
    "\n",
    "    # Convert to NumPy array\n",
    "    frames_array = np.array(processed_frames, dtype=np.float32)\n",
    "\n",
    "    return frames_array"
   ]
  },
  {
   "cell_type": "code",
   "execution_count": 6,
   "id": "93b459af",
   "metadata": {
    "execution": {
     "iopub.execute_input": "2025-07-05T17:22:14.464348Z",
     "iopub.status.busy": "2025-07-05T17:22:14.464151Z",
     "iopub.status.idle": "2025-07-05T17:22:14.467262Z",
     "shell.execute_reply": "2025-07-05T17:22:14.466753Z"
    },
    "papermill": {
     "duration": 0.016307,
     "end_time": "2025-07-05T17:22:14.468223",
     "exception": false,
     "start_time": "2025-07-05T17:22:14.451916",
     "status": "completed"
    },
    "tags": []
   },
   "outputs": [],
   "source": [
    " # # Iterate through all video files\n",
    " #        for file_name in files_list:\n",
    " #            video_file_path = os.path.join(class_path, file_name)\n",
    "\n",
    " #            # Extract frames using the updated frames_extraction function\n",
    " #            frames = frames_extraction(video_file_path, sequence_length, image_height, image_width)\n",
    "\n",
    " #            # Skip videos where frame extraction failed\n",
    " #            if frames is None:\n",
    " #                print(f\"Skipping video {video_file_path} due to frame extraction failure\")\n",
    " #                continue\n",
    "\n",
    " #            # Append the data to respective lists\n",
    " #            features.append(frames)\n",
    " #            labels.append(class_index)"
   ]
  },
  {
   "cell_type": "markdown",
   "id": "62f4b2e4",
   "metadata": {
    "papermill": {
     "duration": 0.011662,
     "end_time": "2025-07-05T17:22:14.491250",
     "exception": false,
     "start_time": "2025-07-05T17:22:14.479588",
     "status": "completed"
    },
    "tags": []
   },
   "source": [
    "## Create Dataset"
   ]
  },
  {
   "cell_type": "code",
   "execution_count": 7,
   "id": "f72aa87b",
   "metadata": {
    "execution": {
     "iopub.execute_input": "2025-07-05T17:22:14.516178Z",
     "iopub.status.busy": "2025-07-05T17:22:14.515961Z",
     "iopub.status.idle": "2025-07-05T17:22:14.522857Z",
     "shell.execute_reply": "2025-07-05T17:22:14.522286Z"
    },
    "papermill": {
     "duration": 0.020842,
     "end_time": "2025-07-05T17:22:14.523954",
     "exception": false,
     "start_time": "2025-07-05T17:22:14.503112",
     "status": "completed"
    },
    "tags": []
   },
   "outputs": [],
   "source": [
    "# RUN create dataset function definition\n",
    "def create_dataset(dataset_dir,\n",
    "                   classes_list, \n",
    "                   sequence_length=SEQUENCE_LENGTH, \n",
    "                   image_height=IMAGE_HEIGHT, \n",
    "                   image_width=IMAGE_WIDTH, \n",
    "                   max_videos_per_class=None,\n",
    "                   augmentations=False\n",
    "                  ):\n",
    "    \n",
    "    # Initialize lists to store features, labels, and video file paths\n",
    "    videos = []\n",
    "    labels = []\n",
    "\n",
    "    # Check if dataset directory exists\n",
    "    if not os.path.exists(dataset_dir):\n",
    "        raise FileNotFoundError(f\"Dataset directory not found: {dataset_dir}\")\n",
    "\n",
    "    # Iterate through all classes in the classes list\n",
    "    for class_index, class_name in enumerate(classes_list):\n",
    "        class_path = os.path.join(dataset_dir, class_name)\n",
    "        \n",
    "        # Check if class directory exists\n",
    "        if not os.path.exists(class_path):\n",
    "            print(f\"Warning: Class directory not found: {class_path}\")\n",
    "            continue\n",
    "\n",
    "        print(f'Class: {class_name}')\n",
    "\n",
    "        # Get the list of video files in the class directory\n",
    "        files_list = os.listdir(class_path)\n",
    "\n",
    "        # Limit the number of videos if specified\n",
    "        if max_videos_per_class is not None:\n",
    "            files_list = files_list[:max_videos_per_class]\n",
    "\n",
    "        # Iterate through all video files\n",
    "        for (index, file_name) in enumerate(files_list):\n",
    "            video_file_path = os.path.join(class_path, file_name)\n",
    "\n",
    "            if index == (len(files_list)-1):\n",
    "                print(f'Extracting frames from file {index+1}: {file_name}', flush=True)\n",
    "            else:\n",
    "                print(f'Extracting frames from file {index+1}: {file_name}', end=\"\\r\", flush=True)\n",
    "            \n",
    "            # Extract frames using the updated frames_extraction function\n",
    "            frames = frames_extraction(video_file_path, \n",
    "                                       sequence_length, \n",
    "                                       image_height, \n",
    "                                       image_width)\n",
    "\n",
    "            # Skip videos where frame extraction failed\n",
    "            if frames is None:\n",
    "                print(f\"Skipping video {video_file_path} due to frame extraction failure\")\n",
    "                continue\n",
    "\n",
    "            # Append the data to respective lists\n",
    "            videos.append(frames)\n",
    "            labels.append(class_index)\n",
    "\n",
    "    # Convert lists to numpy arrays\n",
    "    if not videos:\n",
    "        raise ValueError(\"No valid videos were processed. Check dataset or parameters.\")\n",
    "    videos = np.asarray(videos)\n",
    "    labels = np.array(labels)\n",
    "\n",
    "    print(f\"Dataset created with {len(videos)} videos\")\n",
    "    print(f\"Features shape: {videos.shape}\")\n",
    "    print(f\"Labels shape: {labels.shape}\")\n",
    "\n",
    "    return videos, labels"
   ]
  },
  {
   "cell_type": "markdown",
   "id": "82db89a4",
   "metadata": {
    "papermill": {
     "duration": 0.011721,
     "end_time": "2025-07-05T17:22:14.547803",
     "exception": false,
     "start_time": "2025-07-05T17:22:14.536082",
     "status": "completed"
    },
    "tags": []
   },
   "source": [
    "## 🪄 Video Data Generator"
   ]
  },
  {
   "cell_type": "code",
   "execution_count": 8,
   "id": "b201e7e8",
   "metadata": {
    "execution": {
     "iopub.execute_input": "2025-07-05T17:22:14.573335Z",
     "iopub.status.busy": "2025-07-05T17:22:14.573111Z",
     "iopub.status.idle": "2025-07-05T17:22:14.640137Z",
     "shell.execute_reply": "2025-07-05T17:22:14.639575Z"
    },
    "papermill": {
     "duration": 0.081264,
     "end_time": "2025-07-05T17:22:14.641302",
     "exception": false,
     "start_time": "2025-07-05T17:22:14.560038",
     "status": "completed"
    },
    "tags": []
   },
   "outputs": [],
   "source": [
    "from tensorflow.keras.utils import Sequence, to_categorical\n",
    "import tensorflow as tf\n",
    "import numpy as np\n",
    "import cv2\n",
    "\n",
    "\n",
    "\n",
    "\n",
    "class VideoDataGenerator(Sequence):\n",
    "    def __init__(self, videos, labels, batch_size, is_training=False):\n",
    "        self.videos = list(videos)  # List of video file paths\n",
    "        self.labels = list(labels)  # List or array of labels encoded\n",
    "        self.batch_size = batch_size\n",
    "        self.indices = np.arange(len(self.videos))  # For shuffling\n",
    "        self.is_training = is_training  # Flag to control whether augmentation is applied\n",
    "        self.temp_videos=[]\n",
    "        self.temp_labels=[]\n",
    "        \n",
    "        \n",
    "        print(f\"Total {len(videos)} videos and {len(labels)} classes\")\n",
    "\n",
    "    def __len__(self):\n",
    "        # Return the number of batches per epoch\n",
    "        return int(np.ceil(len(self.videos) / self.batch_size))\n",
    "\n",
    "    def __getitem__(self, idx):\n",
    "        # Get batch indices\n",
    "        batch_indices = self.indices[idx * self.batch_size:(idx + 1) * self.batch_size]\n",
    "        \n",
    "        # Handle case where batch_indices is empty\n",
    "        if len(batch_indices) == 0:\n",
    "            return np.array([], dtype=np.float32), np.array([], dtype=np.float32)\n",
    "        \n",
    "        # Initialize lists to store frames and labels\n",
    "        all_frames = []\n",
    "        all_labels = []\n",
    "        \n",
    "        # Process each video in the batch\n",
    "        for i, index in enumerate(batch_indices):\n",
    "            sequence = self.videos[index]\n",
    "            label = self.labels[index]\n",
    "            \n",
    "            # Append the sequence and label\n",
    "            all_frames.append(sequence)\n",
    "            all_labels.append(label)\n",
    "        \n",
    "        # Convert to numpy arrays\n",
    "        all_frames = np.array(all_frames, dtype=np.float32)\n",
    "        all_labels = np.array(all_labels)\n",
    "            \n",
    "        \n",
    "        return all_frames, all_labels\n",
    "    def add(self, new_videos, new_labels):\n",
    "        self.temp_videos.extend(new_videos)\n",
    "        self.temp_labels.extend(new_labels)\n",
    "    \n",
    "    def confirm(self):\n",
    "        self.videos.extend(self.temp_videos)\n",
    "        self.labels.extend(self.temp_labels)\n",
    "        print(f\"Successfully added - {len(self.temp_videos)} videos and {len(self.temp_labels)} classes.\")\n",
    "        self.temp_videos=[]\n",
    "        self.temp_labels=[]\n",
    "        self.indices = np.arange(len(self.videos))\n",
    "        print(f\"Now Total - {len(self.videos)} videos and {len(self.labels)} classes.\")\n",
    "        print(f\"PENDING for Augmentations - {len(self.temp_videos)} videos and {len(self.temp_labels)} classes.\")\n",
    "        \n",
    "    def replace_original(self):\n",
    "        self.videos=self.temp_videos\n",
    "        self.labels=self.temp_labels\n",
    "        self.temp_videos=[]\n",
    "        self.temp_labels=[]\n",
    "        print(f\"Successfully replaced, total original videos - {len(self.videos)} and augmented videos {len(self.temp_videos)}\")\n",
    "        \n",
    "    def on_epoch_end(self):\n",
    "        # Shuffle indices at the end of each epoch\n",
    "        np.random.shuffle(self.indices)\n",
    "\n",
    "    def as_dataset(self):\n",
    "        def generator():\n",
    "            for idx in range(len(self)):\n",
    "                frames, labels = self[idx]\n",
    "                # Skip empty batches\n",
    "                if frames.size == 0:\n",
    "                    continue\n",
    "                yield frames, labels\n",
    "        self.labels=np.array(self.labels)\n",
    "    \n",
    "        # Create a tf.data.Dataset\n",
    "        dataset = tf.data.Dataset.from_generator(\n",
    "            generator,\n",
    "            output_types=(tf.float32, tf.float32),\n",
    "            output_shapes=(\n",
    "                (None, SEQUENCE_LENGTH, IMAGE_HEIGHT, IMAGE_WIDTH, 3),\n",
    "                (None, NO_OF_CLASSES)\n",
    "            )\n",
    "        )\n",
    "        dataset = dataset.prefetch(tf.data.AUTOTUNE)\n",
    "        return dataset"
   ]
  },
  {
   "cell_type": "markdown",
   "id": "43ba50c4",
   "metadata": {
    "papermill": {
     "duration": 0.011167,
     "end_time": "2025-07-05T17:22:14.664391",
     "exception": false,
     "start_time": "2025-07-05T17:22:14.653224",
     "status": "completed"
    },
    "tags": []
   },
   "source": [
    "## 🔥 Segmentation using N-Frames Ensemble"
   ]
  },
  {
   "cell_type": "code",
   "execution_count": 9,
   "id": "10b51c4e",
   "metadata": {
    "execution": {
     "iopub.execute_input": "2025-07-05T17:22:14.688124Z",
     "iopub.status.busy": "2025-07-05T17:22:14.687899Z",
     "iopub.status.idle": "2025-07-05T17:22:14.935482Z",
     "shell.execute_reply": "2025-07-05T17:22:14.934656Z"
    },
    "papermill": {
     "duration": 0.261575,
     "end_time": "2025-07-05T17:22:14.937124",
     "exception": false,
     "start_time": "2025-07-05T17:22:14.675549",
     "status": "completed"
    },
    "tags": []
   },
   "outputs": [
    {
     "name": "stdout",
     "output_type": "stream",
     "text": [
      "MediaPipe initialized successfully\n"
     ]
    },
    {
     "name": "stderr",
     "output_type": "stream",
     "text": [
      "INFO: Created TensorFlow Lite XNNPACK delegate for CPU.\n"
     ]
    }
   ],
   "source": [
    "import cv2\n",
    "import numpy as np\n",
    "from collections import deque\n",
    "import mediapipe as mp\n",
    "\n",
    "# Parameters\n",
    "N_FRAMES = 5  # Number of frames for ensemble\n",
    "THRESHOLD = 0.2  # Segmentation confidence threshold\n",
    "\n",
    "def initialize_segmentor():\n",
    "    \"\"\"Initialize MediaPipe Selfie Segmentation with error handling.\"\"\"\n",
    "    try:\n",
    "        mp_selfie_segmentation = mp.solutions.selfie_segmentation\n",
    "        segmentor = mp_selfie_segmentation.SelfieSegmentation(model_selection=1)  # 1 for general model\n",
    "        print(\"MediaPipe initialized successfully\")\n",
    "        return segmentor\n",
    "    except Exception as e:\n",
    "        print(f\"Failed to initialize MediaPipe: {e}\")\n",
    "        return None\n",
    "\n",
    "# Initialize segmentor\n",
    "segmentor = initialize_segmentor()\n",
    "\n",
    "\n",
    "def segmentation_frames(sequence):\n",
    "    \"\"\"Process a sequence of frames with N-frame ensemble segmentation.\"\"\"\n",
    "    # Input sequence: (sequence_length, height, width, 3), values in [0, 1]\n",
    "    sequence_length, height, width, _ = sequence.shape\n",
    "    segmented_sequence = np.zeros_like(sequence, dtype=np.float32)\n",
    "    \n",
    "    if segmentor is None:\n",
    "        print(\"Returning original sequence due to initialization failure\")\n",
    "        return sequence  # Fallback to original sequence\n",
    "    # Queue to store segmentation masks\n",
    "    mask_queue = deque(maxlen=N_FRAMES)\n",
    "    \n",
    "    # Kernel for morphological operations\n",
    "    kernel = cv2.getStructuringElement(cv2.MORPH_ELLIPSE, (5, 5))\n",
    "    \n",
    "    for t in range(sequence_length):\n",
    "        try:\n",
    "            # Convert frame to uint8 for MediaPipe\n",
    "            frame = (sequence[t] * 255).astype(np.uint8)\n",
    "            \n",
    "            # Process frame with MediaPipe\n",
    "            results = segmentor.process(frame)\n",
    "            if results.segmentation_mask is None:\n",
    "                print(f\"Warning: No mask returned for frame {t}\")\n",
    "                mask = np.zeros((height, width), dtype=np.float32)\n",
    "            else:\n",
    "                mask = results.segmentation_mask  # Shape: (height, width), values in [0, 1]\n",
    "            \n",
    "            # Add mask to queue\n",
    "            mask_queue.append(mask)\n",
    "            \n",
    "            # Compute ensemble mask by averaging (if enough frames)\n",
    "            ensemble_mask = np.mean(np.array(mask_queue), axis=0) if len(mask_queue) > 1 else mask\n",
    "            \n",
    "            # Binarize the ensemble mask\n",
    "            binary_mask = (ensemble_mask > THRESHOLD).astype(np.uint8)\n",
    "            \n",
    "            # Refine the mask using morphological operations\n",
    "            binary_mask = cv2.morphologyEx(binary_mask, cv2.MORPH_CLOSE, kernel)\n",
    "            binary_mask = cv2.morphologyEx(binary_mask, cv2.MORPH_OPEN, kernel)\n",
    "            \n",
    "            # Convert binary mask to 3 channels\n",
    "            mask_3ch = np.stack([binary_mask] * 3, axis=-1)  # Shape: (height, width, 3)\n",
    "            \n",
    "            # Apply mask to isolate human subject (set background to black)\n",
    "            segmented_frame = frame * mask_3ch\n",
    "            \n",
    "            # Normalize back to [0, 1]\n",
    "            segmented_sequence[t] = segmented_frame / 255.0\n",
    "        \n",
    "        except Exception as e:\n",
    "            print(f\"Error processing frame {t}: {e}\")\n",
    "            segmented_sequence[t] = sequence[t]  # Fallback to original frame\n",
    "    \n",
    "    return segmented_sequence"
   ]
  },
  {
   "cell_type": "markdown",
   "id": "684b8a04",
   "metadata": {
    "papermill": {
     "duration": 0.011708,
     "end_time": "2025-07-05T17:22:14.964838",
     "exception": false,
     "start_time": "2025-07-05T17:22:14.953130",
     "status": "completed"
    },
    "tags": []
   },
   "source": [
    "## 💫 Augmentation Helper function"
   ]
  },
  {
   "cell_type": "code",
   "execution_count": 10,
   "id": "f6d88ca7",
   "metadata": {
    "execution": {
     "iopub.execute_input": "2025-07-05T17:22:14.988377Z",
     "iopub.status.busy": "2025-07-05T17:22:14.988159Z",
     "iopub.status.idle": "2025-07-05T17:22:14.993152Z",
     "shell.execute_reply": "2025-07-05T17:22:14.992359Z"
    },
    "papermill": {
     "duration": 0.018256,
     "end_time": "2025-07-05T17:22:14.994330",
     "exception": false,
     "start_time": "2025-07-05T17:22:14.976074",
     "status": "completed"
    },
    "tags": []
   },
   "outputs": [
    {
     "name": "stderr",
     "output_type": "stream",
     "text": [
      "WARNING: All log messages before absl::InitializeLog() is called are written to STDERR\n",
      "W0000 00:00:1751736134.942000      70 inference_feedback_manager.cc:114] Feedback manager requires a model with a single signature inference. Disabling support for feedback tensors.\n"
     ]
    }
   ],
   "source": [
    "def apply_augmentation(augmentation_function, generator, confirm=False, *args, **kwargs):\n",
    "    count=0\n",
    "    for i in range(len(generator)):\n",
    "        batch_videos, batch_labels = generator[i]\n",
    "        augmented_videos=[]\n",
    "        for videos in batch_videos:\n",
    "            count=count+1\n",
    "            augmented_videos.append(augmentation_function(videos, *args, **kwargs))\n",
    "            print(f\"Adding {count} new videos...\", end=\"\\r\", flush=True)\n",
    "        generator.add(augmented_videos, batch_labels)\n",
    "    \n",
    "    print(f\"Total {len(generator.temp_videos)} augmented videos generated\")\n",
    "    if confirm:\n",
    "        generator.confirm()\n",
    "    else:\n",
    "        print(\"Ready to be merged with original videos...\")"
   ]
  },
  {
   "cell_type": "markdown",
   "id": "980c25d6",
   "metadata": {
    "papermill": {
     "duration": 0.01127,
     "end_time": "2025-07-05T17:22:15.017395",
     "exception": false,
     "start_time": "2025-07-05T17:22:15.006125",
     "status": "completed"
    },
    "tags": []
   },
   "source": [
    "### Show Frames"
   ]
  },
  {
   "cell_type": "code",
   "execution_count": 11,
   "id": "c6763095",
   "metadata": {
    "execution": {
     "iopub.execute_input": "2025-07-05T17:22:15.041446Z",
     "iopub.status.busy": "2025-07-05T17:22:15.040866Z",
     "iopub.status.idle": "2025-07-05T17:22:15.044764Z",
     "shell.execute_reply": "2025-07-05T17:22:15.044097Z"
    },
    "papermill": {
     "duration": 0.016923,
     "end_time": "2025-07-05T17:22:15.045813",
     "exception": false,
     "start_time": "2025-07-05T17:22:15.028890",
     "status": "completed"
    },
    "tags": []
   },
   "outputs": [],
   "source": [
    "# show frame def\n",
    "import matplotlib.pyplot as plt\n",
    "\n",
    "def show_frame(frame):\n",
    "    plt.figure(figsize=(3,3))\n",
    "    plt.imshow(frame)\n",
    "    plt.axis(\"off\")\n",
    "    plt.tight_layout()"
   ]
  },
  {
   "cell_type": "markdown",
   "id": "0fddec43",
   "metadata": {
    "papermill": {
     "duration": 0.011233,
     "end_time": "2025-07-05T17:22:15.068610",
     "exception": false,
     "start_time": "2025-07-05T17:22:15.057377",
     "status": "completed"
    },
    "tags": []
   },
   "source": [
    "### Helper Function"
   ]
  },
  {
   "cell_type": "code",
   "execution_count": 12,
   "id": "6c4393ce",
   "metadata": {
    "execution": {
     "iopub.execute_input": "2025-07-05T17:22:15.092100Z",
     "iopub.status.busy": "2025-07-05T17:22:15.091864Z",
     "iopub.status.idle": "2025-07-05T17:22:15.096697Z",
     "shell.execute_reply": "2025-07-05T17:22:15.095909Z"
    },
    "papermill": {
     "duration": 0.01805,
     "end_time": "2025-07-05T17:22:15.097862",
     "exception": false,
     "start_time": "2025-07-05T17:22:15.079812",
     "status": "completed"
    },
    "tags": []
   },
   "outputs": [],
   "source": [
    "def show_frame_vs(frame1, frame2, title1=\"Frame 1\", title2=\"Frame 2\"):\n",
    "    plt.figure(figsize=(10, 5))\n",
    "\n",
    "    # First frame\n",
    "    plt.subplot(1, 2, 1)\n",
    "    plt.imshow(frame1)\n",
    "    plt.title(title1)\n",
    "    plt.axis('off')\n",
    "\n",
    "    # Second frame\n",
    "    plt.subplot(1, 2, 2)\n",
    "    plt.imshow(frame2)\n",
    "    plt.title(title2)\n",
    "    plt.axis('off')\n",
    "\n",
    "    plt.tight_layout()\n",
    "    plt.show()"
   ]
  },
  {
   "cell_type": "code",
   "execution_count": 13,
   "id": "6e888a72",
   "metadata": {
    "execution": {
     "iopub.execute_input": "2025-07-05T17:22:15.122847Z",
     "iopub.status.busy": "2025-07-05T17:22:15.122643Z",
     "iopub.status.idle": "2025-07-05T17:22:15.126193Z",
     "shell.execute_reply": "2025-07-05T17:22:15.125547Z"
    },
    "papermill": {
     "duration": 0.016894,
     "end_time": "2025-07-05T17:22:15.127183",
     "exception": false,
     "start_time": "2025-07-05T17:22:15.110289",
     "status": "completed"
    },
    "tags": []
   },
   "outputs": [],
   "source": [
    "# reusable video loop helper function\n",
    "def apply_function(function, videos, *arg, **kwargs):\n",
    "    new_videos=[]\n",
    "    \n",
    "    for video in videos:\n",
    "        new_videos.append(function(video, *arg, **kwargs))\n",
    "        \n",
    "    return new_videos"
   ]
  },
  {
   "cell_type": "code",
   "execution_count": 14,
   "id": "ab8ab04d",
   "metadata": {
    "execution": {
     "iopub.execute_input": "2025-07-05T17:22:15.151092Z",
     "iopub.status.busy": "2025-07-05T17:22:15.150892Z",
     "iopub.status.idle": "2025-07-05T17:22:15.154846Z",
     "shell.execute_reply": "2025-07-05T17:22:15.154191Z"
    },
    "papermill": {
     "duration": 0.01728,
     "end_time": "2025-07-05T17:22:15.155990",
     "exception": false,
     "start_time": "2025-07-05T17:22:15.138710",
     "status": "completed"
    },
    "tags": []
   },
   "outputs": [],
   "source": [
    "# reusable video loop helper function\n",
    "def apply(function, videos, labels, *arg, **kwargs):\n",
    "    new_videos=[]\n",
    "    new_labels=[]\n",
    "    combined=zip(labels, videos)\n",
    "    \n",
    "    for label, video in combined:\n",
    "        new_videos.append(function(video, *arg, **kwargs))\n",
    "        new_labels.append(label)\n",
    "        \n",
    "    new_videos=np.asarray(new_videos)\n",
    "    new_labels=np.asarray(new_labels)\n",
    "    \n",
    "    return new_videos, new_labels"
   ]
  },
  {
   "cell_type": "markdown",
   "id": "9d2bd875",
   "metadata": {
    "papermill": {
     "duration": 0.011313,
     "end_time": "2025-07-05T17:22:15.178592",
     "exception": false,
     "start_time": "2025-07-05T17:22:15.167279",
     "status": "completed"
    },
    "tags": []
   },
   "source": [
    "## Salt and Pepper Noise "
   ]
  },
  {
   "cell_type": "code",
   "execution_count": 15,
   "id": "459201ae",
   "metadata": {
    "execution": {
     "iopub.execute_input": "2025-07-05T17:22:15.202279Z",
     "iopub.status.busy": "2025-07-05T17:22:15.202104Z",
     "iopub.status.idle": "2025-07-05T17:22:15.206131Z",
     "shell.execute_reply": "2025-07-05T17:22:15.205642Z"
    },
    "papermill": {
     "duration": 0.016972,
     "end_time": "2025-07-05T17:22:15.207151",
     "exception": false,
     "start_time": "2025-07-05T17:22:15.190179",
     "status": "completed"
    },
    "tags": []
   },
   "outputs": [],
   "source": [
    "# Noise function def\n",
    "\n",
    "def noise_video(video,noise_factor=NOISE_FACTOR):\n",
    "    noisy_video=[]\n",
    "    for frame in video:\n",
    "        # Generate random noise\n",
    "        noise = np.random.rand(*frame.shape)  # Generate random noise\n",
    "        salt_pepper_noise = np.random.choice([0, 1], size=frame.shape, p=[1-noise_factor, noise_factor])\n",
    "        noisy_frame = frame * (1 - salt_pepper_noise) + salt_pepper_noise * np.random.rand(*frame.shape)\n",
    "        noisy_video.append(noisy_frame)\n",
    "    return np.array(noisy_video)"
   ]
  },
  {
   "cell_type": "markdown",
   "id": "54e14d10",
   "metadata": {
    "papermill": {
     "duration": 0.011304,
     "end_time": "2025-07-05T17:22:15.230098",
     "exception": false,
     "start_time": "2025-07-05T17:22:15.218794",
     "status": "completed"
    },
    "tags": []
   },
   "source": [
    "## Horizontal Flip"
   ]
  },
  {
   "cell_type": "code",
   "execution_count": 16,
   "id": "40b121a5",
   "metadata": {
    "execution": {
     "iopub.execute_input": "2025-07-05T17:22:15.253761Z",
     "iopub.status.busy": "2025-07-05T17:22:15.253334Z",
     "iopub.status.idle": "2025-07-05T17:22:15.256556Z",
     "shell.execute_reply": "2025-07-05T17:22:15.255924Z"
    },
    "papermill": {
     "duration": 0.016183,
     "end_time": "2025-07-05T17:22:15.257539",
     "exception": false,
     "start_time": "2025-07-05T17:22:15.241356",
     "status": "completed"
    },
    "tags": []
   },
   "outputs": [],
   "source": [
    "# horizontal flip function def\n",
    "# Testing Flip feautes[0] -> first video\n",
    "def horizontal_flip(video):\n",
    "    return [tf.image.flip_left_right(frame) for frame in video]"
   ]
  },
  {
   "cell_type": "markdown",
   "id": "ab8ae558",
   "metadata": {
    "papermill": {
     "duration": 0.011145,
     "end_time": "2025-07-05T17:22:15.280123",
     "exception": false,
     "start_time": "2025-07-05T17:22:15.268978",
     "status": "completed"
    },
    "tags": []
   },
   "source": [
    "## Random Shear"
   ]
  },
  {
   "cell_type": "code",
   "execution_count": 17,
   "id": "0f47cd84",
   "metadata": {
    "execution": {
     "iopub.execute_input": "2025-07-05T17:22:15.304020Z",
     "iopub.status.busy": "2025-07-05T17:22:15.303815Z",
     "iopub.status.idle": "2025-07-05T17:22:15.309201Z",
     "shell.execute_reply": "2025-07-05T17:22:15.308720Z"
    },
    "papermill": {
     "duration": 0.018627,
     "end_time": "2025-07-05T17:22:15.310330",
     "exception": false,
     "start_time": "2025-07-05T17:22:15.291703",
     "status": "completed"
    },
    "tags": []
   },
   "outputs": [],
   "source": [
    "# random shear function def\n",
    "import numpy as np\n",
    "import tensorflow as tf\n",
    "from scipy.ndimage import affine_transform\n",
    "\n",
    "def apply_shear_frames(frames, shear_right):\n",
    "    return [apply_shear(frame, shear_right) for frame in frames]\n",
    "\n",
    "def apply_shear(frame, shear_right=0):\n",
    "    frame_resized = tf.image.resize(frame, (IMAGE_HEIGHT, IMAGE_WIDTH)).numpy()\n",
    "    if shear_right:\n",
    "        shear_x = 0.09\n",
    "        shear_y = 0.1\n",
    "    else:\n",
    "        shear_x = -0.09\n",
    "        shear_y = 0.3\n",
    "    # Construct the affine matrix for scipy: inverse of the transformation matrix\n",
    "    # scipy applies the inverse transform matrix\n",
    "    shear_matrix = np.array([\n",
    "        [1, shear_x, 0],\n",
    "        [shear_y, 1, 0],\n",
    "        [0, 0, 1]\n",
    "    ], dtype=np.float32)\n",
    "\n",
    "    # Extract 2x2 part for affine_transform\n",
    "    matrix = shear_matrix[:2, :2]\n",
    "\n",
    "    # Offset (no translation)\n",
    "    offset = [0, 0]\n",
    "\n",
    "    # Apply affine transform on each channel separately\n",
    "    sheared = np.zeros_like(frame_resized)\n",
    "    for c in range(3):\n",
    "        sheared[..., c] = affine_transform(\n",
    "            frame_resized[..., c],\n",
    "            matrix=matrix,\n",
    "            offset=offset,\n",
    "            order=1,          # bilinear interpolation\n",
    "            mode='nearest'    # fill_mode\n",
    "        )\n",
    "    return sheared"
   ]
  },
  {
   "cell_type": "markdown",
   "id": "32714aea",
   "metadata": {
    "papermill": {
     "duration": 0.011851,
     "end_time": "2025-07-05T17:22:15.333796",
     "exception": false,
     "start_time": "2025-07-05T17:22:15.321945",
     "status": "completed"
    },
    "tags": []
   },
   "source": [
    "# 📌 Model Related\n",
    "## 🗼 Model Architecture `create_model`"
   ]
  },
  {
   "cell_type": "code",
   "execution_count": 18,
   "id": "cc30bddd",
   "metadata": {
    "execution": {
     "iopub.execute_input": "2025-07-05T17:22:15.358644Z",
     "iopub.status.busy": "2025-07-05T17:22:15.358433Z",
     "iopub.status.idle": "2025-07-05T17:22:15.369385Z",
     "shell.execute_reply": "2025-07-05T17:22:15.368884Z"
    },
    "papermill": {
     "duration": 0.024551,
     "end_time": "2025-07-05T17:22:15.370514",
     "exception": false,
     "start_time": "2025-07-05T17:22:15.345963",
     "status": "completed"
    },
    "tags": []
   },
   "outputs": [],
   "source": [
    "from tensorflow.keras.applications import Xception\n",
    "from tensorflow.keras.models import Sequential\n",
    "from tensorflow.keras.layers import GlobalAveragePooling2D, TimeDistributed, Flatten, LSTM, Dropout, Dense\n",
    "from tensorflow.keras.regularizers import l2\n",
    "\n",
    "def create_xception_lstm_model(sequence_length, image_height, image_width, classes_list=None, dropout_rate=0.5):\n",
    "    if classes_list is None:\n",
    "        raise ValueError(\"classes_list must be provided to define the output layer size\")\n",
    "\n",
    "    try:\n",
    "        print(\"Loading Xception base model...\")\n",
    "        xception = Xception(\n",
    "            weights='imagenet',\n",
    "            include_top=False,\n",
    "            input_shape=(image_height, image_width, 3)\n",
    "        )\n",
    "\n",
    "        # Freeze all layers of Xception to avoid training them\n",
    "        xception.trainable = False\n",
    "\n",
    "        model = Sequential([\n",
    "            # Apply CNN to each frame in the sequence\n",
    "            TimeDistributed(xception, input_shape=(sequence_length, image_height, image_width, 3)),\n",
    "            \n",
    "            # Apply GAP to CNN output for each frame: (None, 5, 2048)\n",
    "            TimeDistributed(GlobalAveragePooling2D()),\n",
    "            \n",
    "            # Optional: Flatten (though GAP already outputs 1D, included as per request)\n",
    "            TimeDistributed(Flatten()),\n",
    "            \n",
    "            # LSTM to capture temporal relationships\n",
    "            LSTM(256, return_sequences=False, kernel_regularizer=l2(0.01)),\n",
    "            \n",
    "            # Dropout to prevent overfitting\n",
    "            Dropout(dropout_rate),\n",
    "            \n",
    "            # Fully connected layer with 1024 units\n",
    "            Dense(1024, activation='relu', kernel_regularizer=l2(0.01)),\n",
    "            \n",
    "            # Dropout again\n",
    "            Dropout(dropout_rate),\n",
    "            \n",
    "            # Final classification layer\n",
    "            Dense(len(classes_list), activation='softmax')\n",
    "        ])\n",
    "\n",
    "        print(\"Model architecture created successfully!\")\n",
    "        model.summary()\n",
    "        return model\n",
    "\n",
    "    except Exception as e:\n",
    "        print(f\"Error creating model: {e}\")\n",
    "        return None\n"
   ]
  },
  {
   "cell_type": "code",
   "execution_count": 19,
   "id": "6d38aa81",
   "metadata": {
    "execution": {
     "iopub.execute_input": "2025-07-05T17:22:15.394374Z",
     "iopub.status.busy": "2025-07-05T17:22:15.393993Z",
     "iopub.status.idle": "2025-07-05T17:22:19.408464Z",
     "shell.execute_reply": "2025-07-05T17:22:19.407658Z"
    },
    "papermill": {
     "duration": 4.027745,
     "end_time": "2025-07-05T17:22:19.409789",
     "exception": false,
     "start_time": "2025-07-05T17:22:15.382044",
     "status": "completed"
    },
    "tags": []
   },
   "outputs": [
    {
     "name": "stdout",
     "output_type": "stream",
     "text": [
      "Pre-loading Xception weights...\n"
     ]
    },
    {
     "name": "stderr",
     "output_type": "stream",
     "text": [
      "I0000 00:00:1751736136.678478      18 gpu_device.cc:2022] Created device /job:localhost/replica:0/task:0/device:GPU:0 with 13942 MB memory:  -> device: 0, name: Tesla T4, pci bus id: 0000:00:04.0, compute capability: 7.5\n",
      "I0000 00:00:1751736136.679139      18 gpu_device.cc:2022] Created device /job:localhost/replica:0/task:0/device:GPU:1 with 13942 MB memory:  -> device: 1, name: Tesla T4, pci bus id: 0000:00:05.0, compute capability: 7.5\n"
     ]
    },
    {
     "name": "stdout",
     "output_type": "stream",
     "text": [
      "Downloading data from https://storage.googleapis.com/tensorflow/keras-applications/xception/xception_weights_tf_dim_ordering_tf_kernels_notop.h5\n",
      "\u001b[1m83683744/83683744\u001b[0m \u001b[32m━━━━━━━━━━━━━━━━━━━━\u001b[0m\u001b[37m\u001b[0m \u001b[1m0s\u001b[0m 0us/step\n",
      "Weights loaded successfully!\n"
     ]
    }
   ],
   "source": [
    "# donwload model weights\n",
    "from tensorflow.keras.applications import Xception\n",
    "print(\"Pre-loading Xception weights...\")\n",
    "base_model = Xception(weights='imagenet', include_top=False, input_shape=(IMAGE_HEIGHT, IMAGE_WIDTH, 3))\n",
    "print(\"Weights loaded successfully!\")"
   ]
  },
  {
   "cell_type": "markdown",
   "id": "4ccda586",
   "metadata": {
    "papermill": {
     "duration": 0.012532,
     "end_time": "2025-07-05T17:22:19.437668",
     "exception": false,
     "start_time": "2025-07-05T17:22:19.425136",
     "status": "completed"
    },
    "tags": []
   },
   "source": [
    "# 📌 Execution\n",
    "## Creating Dataset\n",
    "The following functions are executed\n",
    "- `frame extraction`\n",
    "- `resize`\n",
    "\n",
    "which returns:\n",
    "- `features` - `np.array` of all the videos\n",
    "- `labels` - `np.array` of all the class labels"
   ]
  },
  {
   "cell_type": "code",
   "execution_count": 20,
   "id": "5f6a7246",
   "metadata": {
    "execution": {
     "iopub.execute_input": "2025-07-05T17:22:19.462993Z",
     "iopub.status.busy": "2025-07-05T17:22:19.462475Z",
     "iopub.status.idle": "2025-07-05T17:22:56.252004Z",
     "shell.execute_reply": "2025-07-05T17:22:56.251316Z"
    },
    "papermill": {
     "duration": 36.803071,
     "end_time": "2025-07-05T17:22:56.253079",
     "exception": false,
     "start_time": "2025-07-05T17:22:19.450008",
     "status": "completed"
    },
    "tags": []
   },
   "outputs": [
    {
     "name": "stdout",
     "output_type": "stream",
     "text": [
      "Class: write on a paper\n",
      "Extracting frames from file 20: a05_s10_e01_rgb.avi\n",
      "Class: use laptop\n",
      "Extracting frames from file 20: a06_s04_e02_rgb.avi\n",
      "Class: read book\n",
      "Extracting frames from file 20: a03_s06_e01_rgb.avi\n",
      "Class: sit still\n",
      "Extracting frames from file 20: a09_s06_e02_rgb.avi\n",
      "Class: drink\n",
      "Extracting frames from file 20: a01_s01_e01_rgb.avi\n",
      "Class: sit down\n",
      "Extracting frames from file 20: a16_s06_e02_rgb.avi\n",
      "Class: use vacuum cleaner\n",
      "Extracting frames from file 20: a07_s10_e01_rgb.avi\n",
      "Class: eat\n",
      "Extracting frames from file 20: a02_s02_e01_rgb.avi\n",
      "Class: play guitar\n",
      "Extracting frames from file 20: a14_s06_e02_rgb.avi\n",
      "Class: lie down on sofa\n",
      "Extracting frames from file 20: a12_s05_e01_rgb.avi\n",
      "Class: stand up\n",
      "Extracting frames from file 20: a15_s09_e01_rgb.avi\n",
      "Class: toss paper\n",
      "Extracting frames from file 20: a10_s04_e01_rgb.avi\n",
      "Class: walk\n",
      "Extracting frames from file 20: a13_s09_e01_rgb.avi\n",
      "Class: play game\n",
      "Extracting frames from file 20: a11_s01_e02_rgb.avi\n",
      "Class: cheer up\n",
      "Extracting frames from file 20: a08_s07_e02_rgb.avi\n",
      "Class: call cellphone\n",
      "Extracting frames from file 20: a04_s06_e01_rgb.avi\n",
      "Dataset created with 320 videos\n",
      "Features shape: (320, 5, 128, 128, 3)\n",
      "Labels shape: (320,)\n"
     ]
    },
    {
     "data": {
      "text/plain": [
       "((320, 5, 128, 128, 3), (320,))"
      ]
     },
     "execution_count": 20,
     "metadata": {},
     "output_type": "execute_result"
    }
   ],
   "source": [
    "# RUN Create the dataset with explicit parameters\n",
    "try:\n",
    "    videos, labels = create_dataset(\n",
    "        dataset_dir=DATASET_DIR,\n",
    "        classes_list=CLASSES_LIST,\n",
    "        sequence_length=SEQUENCE_LENGTH,\n",
    "        image_height=IMAGE_HEIGHT,\n",
    "        image_width=IMAGE_WIDTH,\n",
    "        # Limit to 10 videos per class to manage memory\n",
    "        augmentations=True,\n",
    "        max_videos_per_class=MAX_VIDEO_PER_CLASS\n",
    "    )\n",
    "except FileNotFoundError as e:\n",
    "    print(f\"Error: {e}\")\n",
    "except ValueError as e:\n",
    "    print(f\"Error: {e}\")\n",
    "except Exception as e:\n",
    "    print(f\"Unexpected error: {e}\")\n",
    "\n",
    "videos.shape, labels.shape"
   ]
  },
  {
   "cell_type": "code",
   "execution_count": 21,
   "id": "7e100c61",
   "metadata": {
    "execution": {
     "iopub.execute_input": "2025-07-05T17:22:56.303704Z",
     "iopub.status.busy": "2025-07-05T17:22:56.303425Z",
     "iopub.status.idle": "2025-07-05T17:22:56.307483Z",
     "shell.execute_reply": "2025-07-05T17:22:56.306925Z"
    },
    "papermill": {
     "duration": 0.030114,
     "end_time": "2025-07-05T17:22:56.308477",
     "exception": false,
     "start_time": "2025-07-05T17:22:56.278363",
     "status": "completed"
    },
    "tags": []
   },
   "outputs": [
    {
     "name": "stdout",
     "output_type": "stream",
     "text": [
      "Total 320 videos and 320 classes\n"
     ]
    }
   ],
   "source": [
    "video_generator = VideoDataGenerator(\n",
    "    videos=videos,\n",
    "    labels=labels,\n",
    "    batch_size=BATCH_SIZE\n",
    ")"
   ]
  },
  {
   "cell_type": "code",
   "execution_count": 22,
   "id": "43fc7754",
   "metadata": {
    "execution": {
     "iopub.execute_input": "2025-07-05T17:22:56.357643Z",
     "iopub.status.busy": "2025-07-05T17:22:56.357422Z",
     "iopub.status.idle": "2025-07-05T17:22:56.367703Z",
     "shell.execute_reply": "2025-07-05T17:22:56.367043Z"
    },
    "papermill": {
     "duration": 0.035762,
     "end_time": "2025-07-05T17:22:56.368795",
     "exception": false,
     "start_time": "2025-07-05T17:22:56.333033",
     "status": "completed"
    },
    "tags": []
   },
   "outputs": [
    {
     "data": {
      "text/plain": [
       "((16, 5, 128, 128, 3), (16,))"
      ]
     },
     "execution_count": 22,
     "metadata": {},
     "output_type": "execute_result"
    }
   ],
   "source": [
    "videos, labels = video_generator[0]\n",
    "\n",
    "videos.shape, labels.shape"
   ]
  },
  {
   "cell_type": "code",
   "execution_count": 23,
   "id": "bb133fac",
   "metadata": {
    "execution": {
     "iopub.execute_input": "2025-07-05T17:22:56.418578Z",
     "iopub.status.busy": "2025-07-05T17:22:56.418383Z",
     "iopub.status.idle": "2025-07-05T17:22:56.422606Z",
     "shell.execute_reply": "2025-07-05T17:22:56.421936Z"
    },
    "papermill": {
     "duration": 0.030401,
     "end_time": "2025-07-05T17:22:56.423704",
     "exception": false,
     "start_time": "2025-07-05T17:22:56.393303",
     "status": "completed"
    },
    "tags": []
   },
   "outputs": [
    {
     "data": {
      "text/plain": [
       "320"
      ]
     },
     "execution_count": 23,
     "metadata": {},
     "output_type": "execute_result"
    }
   ],
   "source": [
    "len(video_generator.videos) "
   ]
  },
  {
   "cell_type": "code",
   "execution_count": 24,
   "id": "d199ec88",
   "metadata": {
    "execution": {
     "iopub.execute_input": "2025-07-05T17:22:56.473168Z",
     "iopub.status.busy": "2025-07-05T17:22:56.472950Z",
     "iopub.status.idle": "2025-07-05T17:22:56.477062Z",
     "shell.execute_reply": "2025-07-05T17:22:56.476391Z"
    },
    "papermill": {
     "duration": 0.029772,
     "end_time": "2025-07-05T17:22:56.478120",
     "exception": false,
     "start_time": "2025-07-05T17:22:56.448348",
     "status": "completed"
    },
    "tags": []
   },
   "outputs": [
    {
     "data": {
      "text/plain": [
       "20"
      ]
     },
     "execution_count": 24,
     "metadata": {},
     "output_type": "execute_result"
    }
   ],
   "source": [
    "len(video_generator)"
   ]
  },
  {
   "cell_type": "code",
   "execution_count": 25,
   "id": "d86d94f8",
   "metadata": {
    "execution": {
     "iopub.execute_input": "2025-07-05T17:22:56.529658Z",
     "iopub.status.busy": "2025-07-05T17:22:56.529446Z",
     "iopub.status.idle": "2025-07-05T17:23:03.358332Z",
     "shell.execute_reply": "2025-07-05T17:23:03.357652Z"
    },
    "papermill": {
     "duration": 6.857052,
     "end_time": "2025-07-05T17:23:03.359406",
     "exception": false,
     "start_time": "2025-07-05T17:22:56.502354",
     "status": "completed"
    },
    "tags": []
   },
   "outputs": [
    {
     "name": "stdout",
     "output_type": "stream",
     "text": [
      "Total 320 augmented videos generated\n",
      "Ready to be merged with original videos...\n"
     ]
    }
   ],
   "source": [
    "apply_augmentation(segmentation_frames, video_generator)"
   ]
  },
  {
   "cell_type": "code",
   "execution_count": 26,
   "id": "d76ba1d3",
   "metadata": {
    "execution": {
     "iopub.execute_input": "2025-07-05T17:23:03.434220Z",
     "iopub.status.busy": "2025-07-05T17:23:03.433654Z",
     "iopub.status.idle": "2025-07-05T17:23:03.438398Z",
     "shell.execute_reply": "2025-07-05T17:23:03.437725Z"
    },
    "papermill": {
     "duration": 0.042845,
     "end_time": "2025-07-05T17:23:03.439540",
     "exception": false,
     "start_time": "2025-07-05T17:23:03.396695",
     "status": "completed"
    },
    "tags": []
   },
   "outputs": [
    {
     "data": {
      "text/plain": [
       "(320, 320)"
      ]
     },
     "execution_count": 26,
     "metadata": {},
     "output_type": "execute_result"
    }
   ],
   "source": [
    "len(video_generator.temp_videos), len(video_generator.videos)"
   ]
  },
  {
   "cell_type": "code",
   "execution_count": 27,
   "id": "d5e5d935",
   "metadata": {
    "execution": {
     "iopub.execute_input": "2025-07-05T17:23:03.514084Z",
     "iopub.status.busy": "2025-07-05T17:23:03.513882Z",
     "iopub.status.idle": "2025-07-05T17:23:03.518527Z",
     "shell.execute_reply": "2025-07-05T17:23:03.517989Z"
    },
    "papermill": {
     "duration": 0.043117,
     "end_time": "2025-07-05T17:23:03.519597",
     "exception": false,
     "start_time": "2025-07-05T17:23:03.476480",
     "status": "completed"
    },
    "tags": []
   },
   "outputs": [
    {
     "name": "stdout",
     "output_type": "stream",
     "text": [
      "Successfully replaced, total original videos - 320 and augmented videos 0\n"
     ]
    }
   ],
   "source": [
    "video_generator.replace_original()"
   ]
  },
  {
   "cell_type": "code",
   "execution_count": 28,
   "id": "3071ed82",
   "metadata": {
    "execution": {
     "iopub.execute_input": "2025-07-05T17:23:03.594631Z",
     "iopub.status.busy": "2025-07-05T17:23:03.594400Z",
     "iopub.status.idle": "2025-07-05T17:23:03.598788Z",
     "shell.execute_reply": "2025-07-05T17:23:03.598106Z"
    },
    "papermill": {
     "duration": 0.041589,
     "end_time": "2025-07-05T17:23:03.599852",
     "exception": false,
     "start_time": "2025-07-05T17:23:03.558263",
     "status": "completed"
    },
    "tags": []
   },
   "outputs": [
    {
     "data": {
      "text/plain": [
       "(0, 320)"
      ]
     },
     "execution_count": 28,
     "metadata": {},
     "output_type": "execute_result"
    }
   ],
   "source": [
    "len(video_generator.temp_videos), len(video_generator.videos)"
   ]
  },
  {
   "cell_type": "code",
   "execution_count": 29,
   "id": "de5b035b",
   "metadata": {
    "execution": {
     "iopub.execute_input": "2025-07-05T17:23:03.672993Z",
     "iopub.status.busy": "2025-07-05T17:23:03.672330Z",
     "iopub.status.idle": "2025-07-05T17:23:03.766157Z",
     "shell.execute_reply": "2025-07-05T17:23:03.765538Z"
    },
    "papermill": {
     "duration": 0.131215,
     "end_time": "2025-07-05T17:23:03.767319",
     "exception": false,
     "start_time": "2025-07-05T17:23:03.636104",
     "status": "completed"
    },
    "tags": []
   },
   "outputs": [
    {
     "data": {
      "text/plain": [
       "(320, 5, 128, 128, 3)"
      ]
     },
     "execution_count": 29,
     "metadata": {},
     "output_type": "execute_result"
    }
   ],
   "source": [
    "test = np.array(video_generator.videos)\n",
    "\n",
    "test.shape"
   ]
  },
  {
   "cell_type": "code",
   "execution_count": 30,
   "id": "811a25f7",
   "metadata": {
    "execution": {
     "iopub.execute_input": "2025-07-05T17:23:03.841655Z",
     "iopub.status.busy": "2025-07-05T17:23:03.841164Z",
     "iopub.status.idle": "2025-07-05T17:23:03.972279Z",
     "shell.execute_reply": "2025-07-05T17:23:03.971666Z"
    },
    "papermill": {
     "duration": 0.168842,
     "end_time": "2025-07-05T17:23:03.973378",
     "exception": false,
     "start_time": "2025-07-05T17:23:03.804536",
     "status": "completed"
    },
    "tags": []
   },
   "outputs": [
    {
     "data": {
      "image/png": "[encoded data removed]",
      "text/plain": [
       "<Figure size 300x300 with 1 Axes>"
      ]
     },
     "metadata": {},
     "output_type": "display_data"
    }
   ],
   "source": [
    "show_frame(test[1,0])"
   ]
  },
  {
   "cell_type": "markdown",
   "id": "a9c1a99a",
   "metadata": {
    "papermill": {
     "duration": 0.036276,
     "end_time": "2025-07-05T17:23:04.046790",
     "exception": false,
     "start_time": "2025-07-05T17:23:04.010514",
     "status": "completed"
    },
    "tags": []
   },
   "source": [
    "## Apply ***horizontal flip*** (Augmentation)"
   ]
  },
  {
   "cell_type": "code",
   "execution_count": 31,
   "id": "dd4c301c",
   "metadata": {
    "execution": {
     "iopub.execute_input": "2025-07-05T17:23:04.121666Z",
     "iopub.status.busy": "2025-07-05T17:23:04.121127Z",
     "iopub.status.idle": "2025-07-05T17:23:05.397282Z",
     "shell.execute_reply": "2025-07-05T17:23:05.396435Z"
    },
    "papermill": {
     "duration": 1.314693,
     "end_time": "2025-07-05T17:23:05.398414",
     "exception": false,
     "start_time": "2025-07-05T17:23:04.083721",
     "status": "completed"
    },
    "tags": []
   },
   "outputs": [
    {
     "name": "stdout",
     "output_type": "stream",
     "text": [
      "Total 320 augmented videos generated\n",
      "Ready to be merged with original videos...\n"
     ]
    }
   ],
   "source": [
    "apply_augmentation(horizontal_flip, video_generator)"
   ]
  },
  {
   "cell_type": "code",
   "execution_count": 32,
   "id": "0d487739",
   "metadata": {
    "execution": {
     "iopub.execute_input": "2025-07-05T17:23:05.498108Z",
     "iopub.status.busy": "2025-07-05T17:23:05.497880Z",
     "iopub.status.idle": "2025-07-05T17:23:05.501776Z",
     "shell.execute_reply": "2025-07-05T17:23:05.501045Z"
    },
    "papermill": {
     "duration": 0.054405,
     "end_time": "2025-07-05T17:23:05.502839",
     "exception": false,
     "start_time": "2025-07-05T17:23:05.448434",
     "status": "completed"
    },
    "tags": []
   },
   "outputs": [
    {
     "name": "stdout",
     "output_type": "stream",
     "text": [
      "Checking Total Videos and Class Count: 320, 320\n",
      "PENDING Total Videos and Class Count: 320, 320\n"
     ]
    }
   ],
   "source": [
    "print(f\"Checking Total Videos and Class Count: {len(video_generator.videos)}, {len(video_generator.labels)}\")\n",
    "print(f\"PENDING Total Videos and Class Count: {len(video_generator.temp_videos)}, {len(video_generator.temp_labels)}\")"
   ]
  },
  {
   "cell_type": "code",
   "execution_count": 33,
   "id": "0e28bd8a",
   "metadata": {
    "execution": {
     "iopub.execute_input": "2025-07-05T17:23:05.606265Z",
     "iopub.status.busy": "2025-07-05T17:23:05.606073Z",
     "iopub.status.idle": "2025-07-05T17:23:05.610308Z",
     "shell.execute_reply": "2025-07-05T17:23:05.609391Z"
    },
    "papermill": {
     "duration": 0.056478,
     "end_time": "2025-07-05T17:23:05.611712",
     "exception": false,
     "start_time": "2025-07-05T17:23:05.555234",
     "status": "completed"
    },
    "tags": []
   },
   "outputs": [
    {
     "name": "stdout",
     "output_type": "stream",
     "text": [
      "Successfully added - 320 videos and 320 classes.\n",
      "Now Total - 640 videos and 640 classes.\n",
      "PENDING for Augmentations - 0 videos and 0 classes.\n"
     ]
    }
   ],
   "source": [
    "video_generator.confirm()"
   ]
  },
  {
   "cell_type": "markdown",
   "id": "cee994c0",
   "metadata": {
    "papermill": {
     "duration": 0.048155,
     "end_time": "2025-07-05T17:23:05.709201",
     "exception": false,
     "start_time": "2025-07-05T17:23:05.661046",
     "status": "completed"
    },
    "tags": []
   },
   "source": [
    "## Apply ***Noise*** (Augmentation)"
   ]
  },
  {
   "cell_type": "code",
   "execution_count": 34,
   "id": "e696f380",
   "metadata": {
    "execution": {
     "iopub.execute_input": "2025-07-05T17:23:05.807102Z",
     "iopub.status.busy": "2025-07-05T17:23:05.806497Z",
     "iopub.status.idle": "2025-07-05T17:23:13.857492Z",
     "shell.execute_reply": "2025-07-05T17:23:13.856679Z"
    },
    "papermill": {
     "duration": 8.101064,
     "end_time": "2025-07-05T17:23:13.858870",
     "exception": false,
     "start_time": "2025-07-05T17:23:05.757806",
     "status": "completed"
    },
    "tags": []
   },
   "outputs": [
    {
     "name": "stdout",
     "output_type": "stream",
     "text": [
      "Total 640 augmented videos generated\n",
      "Ready to be merged with original videos...\n"
     ]
    }
   ],
   "source": [
    "apply_augmentation(noise_video, video_generator)"
   ]
  },
  {
   "cell_type": "code",
   "execution_count": 35,
   "id": "66853e59",
   "metadata": {
    "execution": {
     "iopub.execute_input": "2025-07-05T17:23:14.012250Z",
     "iopub.status.busy": "2025-07-05T17:23:14.011581Z",
     "iopub.status.idle": "2025-07-05T17:23:14.015899Z",
     "shell.execute_reply": "2025-07-05T17:23:14.015244Z"
    },
    "papermill": {
     "duration": 0.077469,
     "end_time": "2025-07-05T17:23:14.016925",
     "exception": false,
     "start_time": "2025-07-05T17:23:13.939456",
     "status": "completed"
    },
    "tags": []
   },
   "outputs": [
    {
     "name": "stdout",
     "output_type": "stream",
     "text": [
      "Checking Total Videos and Class Count: 640, 640\n",
      "PENDING Total Videos and Class Count: 640, 640\n"
     ]
    }
   ],
   "source": [
    "print(f\"Checking Total Videos and Class Count: {len(video_generator.videos)}, {len(video_generator.labels)}\")\n",
    "print(f\"PENDING Total Videos and Class Count: {len(video_generator.temp_videos)}, {len(video_generator.temp_labels)}\")"
   ]
  },
  {
   "cell_type": "markdown",
   "id": "28d61751",
   "metadata": {
    "papermill": {
     "duration": 0.075591,
     "end_time": "2025-07-05T17:23:14.166123",
     "exception": false,
     "start_time": "2025-07-05T17:23:14.090532",
     "status": "completed"
    },
    "tags": []
   },
   "source": [
    "## Apply ***Random Shear x2*** (Augmentation)"
   ]
  },
  {
   "cell_type": "code",
   "execution_count": 36,
   "id": "8c7f6f6c",
   "metadata": {
    "execution": {
     "iopub.execute_input": "2025-07-05T17:23:14.314996Z",
     "iopub.status.busy": "2025-07-05T17:23:14.314726Z",
     "iopub.status.idle": "2025-07-05T17:23:39.863308Z",
     "shell.execute_reply": "2025-07-05T17:23:39.862530Z"
    },
    "papermill": {
     "duration": 25.623475,
     "end_time": "2025-07-05T17:23:39.864464",
     "exception": false,
     "start_time": "2025-07-05T17:23:14.240989",
     "status": "completed"
    },
    "tags": []
   },
   "outputs": [
    {
     "name": "stdout",
     "output_type": "stream",
     "text": [
      "Total 1280 augmented videos generated\n",
      "Ready to be merged with original videos...\n",
      "Total 1920 augmented videos generated\n",
      "Ready to be merged with original videos...\n"
     ]
    }
   ],
   "source": [
    "apply_augmentation(apply_shear_frames, video_generator, shear_right=0)\n",
    "apply_augmentation(apply_shear_frames, video_generator, shear_right=1)"
   ]
  },
  {
   "cell_type": "code",
   "execution_count": 37,
   "id": "43bddb6a",
   "metadata": {
    "execution": {
     "iopub.execute_input": "2025-07-05T17:23:40.114994Z",
     "iopub.status.busy": "2025-07-05T17:23:40.114452Z",
     "iopub.status.idle": "2025-07-05T17:23:40.118725Z",
     "shell.execute_reply": "2025-07-05T17:23:40.117989Z"
    },
    "papermill": {
     "duration": 0.129355,
     "end_time": "2025-07-05T17:23:40.119769",
     "exception": false,
     "start_time": "2025-07-05T17:23:39.990414",
     "status": "completed"
    },
    "tags": []
   },
   "outputs": [
    {
     "name": "stdout",
     "output_type": "stream",
     "text": [
      "Checking Total Videos and Class Count: 640, 640\n",
      "PENDING Total Videos and Class Count: 1920, 1920\n"
     ]
    }
   ],
   "source": [
    "print(f\"Checking Total Videos and Class Count: {len(video_generator.videos)}, {len(video_generator.labels)}\")\n",
    "print(f\"PENDING Total Videos and Class Count: {len(video_generator.temp_videos)}, {len(video_generator.temp_labels)}\")"
   ]
  },
  {
   "cell_type": "code",
   "execution_count": 38,
   "id": "ac0b787f",
   "metadata": {
    "execution": {
     "iopub.execute_input": "2025-07-05T17:23:40.407993Z",
     "iopub.status.busy": "2025-07-05T17:23:40.407729Z",
     "iopub.status.idle": "2025-07-05T17:23:40.411594Z",
     "shell.execute_reply": "2025-07-05T17:23:40.410938Z"
    },
    "papermill": {
     "duration": 0.125638,
     "end_time": "2025-07-05T17:23:40.412687",
     "exception": false,
     "start_time": "2025-07-05T17:23:40.287049",
     "status": "completed"
    },
    "tags": []
   },
   "outputs": [
    {
     "name": "stdout",
     "output_type": "stream",
     "text": [
      "Successfully added - 1920 videos and 1920 classes.\n",
      "Now Total - 2560 videos and 2560 classes.\n",
      "PENDING for Augmentations - 0 videos and 0 classes.\n"
     ]
    }
   ],
   "source": [
    "# confirm changes to generator\n",
    "video_generator.confirm()"
   ]
  },
  {
   "cell_type": "code",
   "execution_count": 39,
   "id": "5e5c2514",
   "metadata": {
    "execution": {
     "iopub.execute_input": "2025-07-05T17:23:40.653782Z",
     "iopub.status.busy": "2025-07-05T17:23:40.653300Z",
     "iopub.status.idle": "2025-07-05T17:23:40.657375Z",
     "shell.execute_reply": "2025-07-05T17:23:40.656603Z"
    },
    "papermill": {
     "duration": 0.125986,
     "end_time": "2025-07-05T17:23:40.658508",
     "exception": false,
     "start_time": "2025-07-05T17:23:40.532522",
     "status": "completed"
    },
    "tags": []
   },
   "outputs": [
    {
     "name": "stdout",
     "output_type": "stream",
     "text": [
      "Checking Video Generator Total Videos and Class Count: 2560, 2560\n"
     ]
    }
   ],
   "source": [
    "print(f\"Checking Video Generator Total Videos and Class Count: {len(video_generator.videos)}, {len(video_generator.labels)}\")"
   ]
  },
  {
   "cell_type": "markdown",
   "id": "dea3ce2c",
   "metadata": {
    "papermill": {
     "duration": 0.119848,
     "end_time": "2025-07-05T17:23:40.898261",
     "exception": false,
     "start_time": "2025-07-05T17:23:40.778413",
     "status": "completed"
    },
    "tags": []
   },
   "source": [
    "## Cheking (Output)"
   ]
  },
  {
   "cell_type": "code",
   "execution_count": 40,
   "id": "08c8c183",
   "metadata": {
    "execution": {
     "iopub.execute_input": "2025-07-05T17:23:41.137931Z",
     "iopub.status.busy": "2025-07-05T17:23:41.137663Z",
     "iopub.status.idle": "2025-07-05T17:23:41.324050Z",
     "shell.execute_reply": "2025-07-05T17:23:41.323352Z"
    },
    "papermill": {
     "duration": 0.30721,
     "end_time": "2025-07-05T17:23:41.325212",
     "exception": false,
     "start_time": "2025-07-05T17:23:41.018002",
     "status": "completed"
    },
    "tags": []
   },
   "outputs": [
    {
     "name": "stdout",
     "output_type": "stream",
     "text": [
      "(16, 5, 128, 128, 3) (16,)\n"
     ]
    },
    {
     "data": {
      "image/png": "[encoded data removed]",
      "text/plain": [
       "<Figure size 1000x500 with 2 Axes>"
      ]
     },
     "metadata": {},
     "output_type": "display_data"
    },
    {
     "name": "stdout",
     "output_type": "stream",
     "text": [
      "Might be two different action, but to check the flipping focus on the door behind.\n"
     ]
    }
   ],
   "source": [
    "# check horizontal flips\n",
    "videos, labels = video_generator[7]\n",
    "videos1, labels1 = video_generator[1]\n",
    "\n",
    "print(videos.shape, labels.shape)\n",
    "\n",
    "show_frame_vs(videos[0,0],videos1[1,0], title1=\"Flipped Frame 1\", title2=\"Non Flipped Frame 1\")\n",
    "print(\"Might be two different action, but to check the flipping focus on the door behind.\")"
   ]
  },
  {
   "cell_type": "markdown",
   "id": "ee04564a",
   "metadata": {
    "papermill": {
     "duration": 0.130285,
     "end_time": "2025-07-05T17:23:41.592475",
     "exception": false,
     "start_time": "2025-07-05T17:23:41.462190",
     "status": "completed"
    },
    "tags": []
   },
   "source": [
    "# 🧪 Test Augmentation (Output)\n",
    "## 🖼️ Horizontal Flip Output"
   ]
  },
  {
   "cell_type": "code",
   "execution_count": 41,
   "id": "36f1989d",
   "metadata": {
    "execution": {
     "iopub.execute_input": "2025-07-05T17:23:41.836113Z",
     "iopub.status.busy": "2025-07-05T17:23:41.835655Z",
     "iopub.status.idle": "2025-07-05T17:23:41.838638Z",
     "shell.execute_reply": "2025-07-05T17:23:41.838132Z"
    },
    "papermill": {
     "duration": 0.124617,
     "end_time": "2025-07-05T17:23:41.839609",
     "exception": false,
     "start_time": "2025-07-05T17:23:41.714992",
     "status": "completed"
    },
    "tags": []
   },
   "outputs": [],
   "source": [
    "# flipped_video_1 = horizontal_flip(features[0])\n",
    "\n",
    "# flipped_video_1=np.asarray(flipped_video_1)\n",
    "\n",
    "# show_frame(flipped_video_1[0])\n",
    "# flipped_video_1.shape"
   ]
  },
  {
   "cell_type": "markdown",
   "id": "b1cfabb5",
   "metadata": {
    "papermill": {
     "duration": 0.119899,
     "end_time": "2025-07-05T17:23:42.127272",
     "exception": false,
     "start_time": "2025-07-05T17:23:42.007373",
     "status": "completed"
    },
    "tags": []
   },
   "source": [
    "## 🖼️ Salt and Pepper Noise Output"
   ]
  },
  {
   "cell_type": "code",
   "execution_count": 42,
   "id": "31d1e8e5",
   "metadata": {
    "execution": {
     "iopub.execute_input": "2025-07-05T17:23:42.370234Z",
     "iopub.status.busy": "2025-07-05T17:23:42.369751Z",
     "iopub.status.idle": "2025-07-05T17:23:42.372694Z",
     "shell.execute_reply": "2025-07-05T17:23:42.372157Z"
    },
    "papermill": {
     "duration": 0.124948,
     "end_time": "2025-07-05T17:23:42.373701",
     "exception": false,
     "start_time": "2025-07-05T17:23:42.248753",
     "status": "completed"
    },
    "tags": []
   },
   "outputs": [],
   "source": [
    "# noised_video = noise_video(features[0])\n",
    "\n",
    "# print(noised_video.shape)\n",
    "# show_frame(noised_video[0])"
   ]
  },
  {
   "cell_type": "markdown",
   "id": "18236dca",
   "metadata": {
    "papermill": {
     "duration": 0.1206,
     "end_time": "2025-07-05T17:23:42.614586",
     "exception": false,
     "start_time": "2025-07-05T17:23:42.493986",
     "status": "completed"
    },
    "tags": []
   },
   "source": [
    "## 🖼️ Random Shear Output"
   ]
  },
  {
   "cell_type": "code",
   "execution_count": 43,
   "id": "d071f363",
   "metadata": {
    "execution": {
     "iopub.execute_input": "2025-07-05T17:23:42.856004Z",
     "iopub.status.busy": "2025-07-05T17:23:42.855454Z",
     "iopub.status.idle": "2025-07-05T17:23:42.858492Z",
     "shell.execute_reply": "2025-07-05T17:23:42.857996Z"
    },
    "papermill": {
     "duration": 0.123414,
     "end_time": "2025-07-05T17:23:42.859534",
     "exception": false,
     "start_time": "2025-07-05T17:23:42.736120",
     "status": "completed"
    },
    "tags": []
   },
   "outputs": [],
   "source": [
    "# print(features.shape)\n",
    "\n",
    "# sheared_1 = apply_shear_frames(features[0], shear_right=0)\n",
    "# sheared_2 = apply_shear_frames(features[0], shear_right=1)\n",
    "\n",
    "# sheared_1 = np.asarray(sheared_1)\n",
    "# sheared_2 = np.asarray(sheared_2)\n",
    "\n",
    "# print(sheared_1.shape)\n",
    "# show_frame(sheared_1[0])\n",
    "# show_frame(sheared_2[0])"
   ]
  },
  {
   "cell_type": "markdown",
   "id": "7bd22eb7",
   "metadata": {
    "papermill": {
     "duration": 0.119915,
     "end_time": "2025-07-05T17:23:43.103143",
     "exception": false,
     "start_time": "2025-07-05T17:23:42.983228",
     "status": "completed"
    },
    "tags": []
   },
   "source": [
    "# 📌 Preparing Data for Training"
   ]
  },
  {
   "cell_type": "code",
   "execution_count": 44,
   "id": "6494619b",
   "metadata": {
    "execution": {
     "iopub.execute_input": "2025-07-05T17:23:43.403141Z",
     "iopub.status.busy": "2025-07-05T17:23:43.402511Z",
     "iopub.status.idle": "2025-07-05T17:23:43.812539Z",
     "shell.execute_reply": "2025-07-05T17:23:43.811941Z"
    },
    "papermill": {
     "duration": 0.540527,
     "end_time": "2025-07-05T17:23:43.813860",
     "exception": false,
     "start_time": "2025-07-05T17:23:43.273333",
     "status": "completed"
    },
    "tags": []
   },
   "outputs": [],
   "source": [
    "# Clear previous session to free memory\n",
    "import gc\n",
    "\n",
    "gc.collect()\n",
    "tf.keras.backend.clear_session()"
   ]
  },
  {
   "cell_type": "markdown",
   "id": "a3425028",
   "metadata": {
    "papermill": {
     "duration": 0.119321,
     "end_time": "2025-07-05T17:23:44.057726",
     "exception": false,
     "start_time": "2025-07-05T17:23:43.938405",
     "status": "completed"
    },
    "tags": []
   },
   "source": [
    "## Splitting data for ***Trainig*** and ***Testing***"
   ]
  },
  {
   "cell_type": "code",
   "execution_count": 45,
   "id": "cb67b98c",
   "metadata": {
    "execution": {
     "iopub.execute_input": "2025-07-05T17:23:44.301012Z",
     "iopub.status.busy": "2025-07-05T17:23:44.300360Z",
     "iopub.status.idle": "2025-07-05T17:23:45.118589Z",
     "shell.execute_reply": "2025-07-05T17:23:45.117898Z"
    },
    "papermill": {
     "duration": 0.941181,
     "end_time": "2025-07-05T17:23:45.119929",
     "exception": false,
     "start_time": "2025-07-05T17:23:44.178748",
     "status": "completed"
    },
    "tags": []
   },
   "outputs": [
    {
     "data": {
      "text/plain": [
       "((2560, 5, 128, 128, 3), (2560,))"
      ]
     },
     "execution_count": 45,
     "metadata": {},
     "output_type": "execute_result"
    }
   ],
   "source": [
    "videos = video_generator.videos\n",
    "labels = video_generator.labels\n",
    "\n",
    "videos = np.array(videos, dtype='float32')\n",
    "labels = np.array(labels)\n",
    "\n",
    "videos.shape, labels.shape"
   ]
  },
  {
   "cell_type": "code",
   "execution_count": 46,
   "id": "82f0002a",
   "metadata": {
    "execution": {
     "iopub.execute_input": "2025-07-05T17:23:45.370227Z",
     "iopub.status.busy": "2025-07-05T17:23:45.369576Z",
     "iopub.status.idle": "2025-07-05T17:23:45.374747Z",
     "shell.execute_reply": "2025-07-05T17:23:45.374105Z"
    },
    "papermill": {
     "duration": 0.129182,
     "end_time": "2025-07-05T17:23:45.375807",
     "exception": false,
     "start_time": "2025-07-05T17:23:45.246625",
     "status": "completed"
    },
    "tags": []
   },
   "outputs": [
    {
     "data": {
      "text/plain": [
       "(2560, 16)"
      ]
     },
     "execution_count": 46,
     "metadata": {},
     "output_type": "execute_result"
    }
   ],
   "source": [
    "from tensorflow.keras.utils import to_categorical\n",
    "\n",
    "one_hot_encoded_labels = to_categorical(labels)\n",
    "\n",
    "one_hot_encoded_labels.shape"
   ]
  },
  {
   "cell_type": "code",
   "execution_count": 47,
   "id": "050bf3f7",
   "metadata": {
    "execution": {
     "iopub.execute_input": "2025-07-05T17:23:45.619022Z",
     "iopub.status.busy": "2025-07-05T17:23:45.618314Z",
     "iopub.status.idle": "2025-07-05T17:23:45.817696Z",
     "shell.execute_reply": "2025-07-05T17:23:45.816951Z"
    },
    "papermill": {
     "duration": 0.323038,
     "end_time": "2025-07-05T17:23:45.818967",
     "exception": false,
     "start_time": "2025-07-05T17:23:45.495929",
     "status": "completed"
    },
    "tags": []
   },
   "outputs": [
    {
     "data": {
      "text/plain": [
       "0"
      ]
     },
     "execution_count": 47,
     "metadata": {},
     "output_type": "execute_result"
    }
   ],
   "source": [
    "gc.collect()"
   ]
  },
  {
   "cell_type": "code",
   "execution_count": 48,
   "id": "805164ae",
   "metadata": {
    "execution": {
     "iopub.execute_input": "2025-07-05T17:23:46.109346Z",
     "iopub.status.busy": "2025-07-05T17:23:46.108685Z",
     "iopub.status.idle": "2025-07-05T17:23:46.945252Z",
     "shell.execute_reply": "2025-07-05T17:23:46.944567Z"
    },
    "papermill": {
     "duration": 1.00391,
     "end_time": "2025-07-05T17:23:46.946302",
     "exception": false,
     "start_time": "2025-07-05T17:23:45.942392",
     "status": "completed"
    },
    "tags": []
   },
   "outputs": [
    {
     "data": {
      "text/plain": [
       "((2048, 5, 128, 128, 3), (2048, 16), (512, 5, 128, 128, 3), (512, 16))"
      ]
     },
     "execution_count": 48,
     "metadata": {},
     "output_type": "execute_result"
    }
   ],
   "source": [
    "# RUN Split the Data into Train ( 75% ) and Test Set ( 25% ).\n",
    "from sklearn.model_selection import train_test_split\n",
    "features_train, features_test, labels_train, labels_test = train_test_split(videos,\n",
    "                                                                            one_hot_encoded_labels,\n",
    "                                                                            test_size = TEST_SIZE,\n",
    "                                                                            shuffle = True,\n",
    "                                                                            random_state = seed_constant)\n",
    "\n",
    "features_train.shape, labels_train.shape, features_test.shape, labels_test.shape"
   ]
  },
  {
   "cell_type": "markdown",
   "id": "2551b317",
   "metadata": {
    "papermill": {
     "duration": 0.124065,
     "end_time": "2025-07-05T17:23:47.193334",
     "exception": false,
     "start_time": "2025-07-05T17:23:47.069269",
     "status": "completed"
    },
    "tags": []
   },
   "source": [
    "## Splitting data for ***Training Set*** and ***Validation Set***"
   ]
  },
  {
   "cell_type": "code",
   "execution_count": 49,
   "id": "26e0b325",
   "metadata": {
    "execution": {
     "iopub.execute_input": "2025-07-05T17:23:47.437381Z",
     "iopub.status.busy": "2025-07-05T17:23:47.436820Z",
     "iopub.status.idle": "2025-07-05T17:23:47.442911Z",
     "shell.execute_reply": "2025-07-05T17:23:47.442226Z"
    },
    "papermill": {
     "duration": 0.129946,
     "end_time": "2025-07-05T17:23:47.444099",
     "exception": false,
     "start_time": "2025-07-05T17:23:47.314153",
     "status": "completed"
    },
    "tags": []
   },
   "outputs": [
    {
     "data": {
      "text/plain": [
       "((1638, 5, 128, 128, 3), (1638, 16), (410, 5, 128, 128, 3), (410, 16))"
      ]
     },
     "execution_count": 49,
     "metadata": {},
     "output_type": "execute_result"
    }
   ],
   "source": [
    "# Assuming features_train and labels_train are defined\n",
    "train_set = 1-VALIDATION_SPLIT\n",
    "\n",
    "train_video_frames, val_video_frames = features_train[:int(train_set * len(features_train))], features_train[int(train_set * len(features_train)):]\n",
    "train_labels, val_labels = labels_train[:int(train_set * len(labels_train))], labels_train[int(train_set * len(labels_train)):]\n",
    "\n",
    "train_video_frames.shape, train_labels.shape, val_video_frames.shape, val_labels.shape"
   ]
  },
  {
   "cell_type": "markdown",
   "id": "e689ad38",
   "metadata": {
    "papermill": {
     "duration": 0.121864,
     "end_time": "2025-07-05T17:23:47.686683",
     "exception": false,
     "start_time": "2025-07-05T17:23:47.564819",
     "status": "completed"
    },
    "tags": []
   },
   "source": [
    "## Use Generator `Video Data Generator`"
   ]
  },
  {
   "cell_type": "code",
   "execution_count": 50,
   "id": "034833b4",
   "metadata": {
    "execution": {
     "iopub.execute_input": "2025-07-05T17:23:47.927695Z",
     "iopub.status.busy": "2025-07-05T17:23:47.927065Z",
     "iopub.status.idle": "2025-07-05T17:23:47.933873Z",
     "shell.execute_reply": "2025-07-05T17:23:47.933224Z"
    },
    "papermill": {
     "duration": 0.128094,
     "end_time": "2025-07-05T17:23:47.934875",
     "exception": false,
     "start_time": "2025-07-05T17:23:47.806781",
     "status": "completed"
    },
    "tags": []
   },
   "outputs": [
    {
     "name": "stdout",
     "output_type": "stream",
     "text": [
      "Total 1638 videos and 1638 classes\n",
      "Total 410 videos and 410 classes\n"
     ]
    },
    {
     "data": {
      "text/plain": [
       "(103, 26)"
      ]
     },
     "execution_count": 50,
     "metadata": {},
     "output_type": "execute_result"
    }
   ],
   "source": [
    "# Create the training and validation generators\n",
    "train_gen = VideoDataGenerator(\n",
    "    videos=train_video_frames, \n",
    "    labels=train_labels, \n",
    "    batch_size=BATCH_SIZE,\n",
    ")\n",
    "\n",
    "val_gen = VideoDataGenerator(\n",
    "    videos=val_video_frames, \n",
    "    labels=val_labels, \n",
    "    batch_size=BATCH_SIZE,\n",
    ")\n",
    "\n",
    "len(train_gen), len(val_gen)"
   ]
  },
  {
   "cell_type": "markdown",
   "id": "5c46d7f4",
   "metadata": {
    "papermill": {
     "duration": 0.166452,
     "end_time": "2025-07-05T17:23:48.222262",
     "exception": false,
     "start_time": "2025-07-05T17:23:48.055810",
     "status": "completed"
    },
    "tags": []
   },
   "source": [
    "## Inspect ***Generator*** Data on Epochs"
   ]
  },
  {
   "cell_type": "code",
   "execution_count": 51,
   "id": "7ed4cfc0",
   "metadata": {
    "execution": {
     "iopub.execute_input": "2025-07-05T17:23:48.464309Z",
     "iopub.status.busy": "2025-07-05T17:23:48.463813Z",
     "iopub.status.idle": "2025-07-05T17:23:48.474382Z",
     "shell.execute_reply": "2025-07-05T17:23:48.473799Z"
    },
    "papermill": {
     "duration": 0.132226,
     "end_time": "2025-07-05T17:23:48.475545",
     "exception": false,
     "start_time": "2025-07-05T17:23:48.343319",
     "status": "completed"
    },
    "tags": []
   },
   "outputs": [
    {
     "name": "stdout",
     "output_type": "stream",
     "text": [
      "[   0    1    2 ... 1635 1636 1637]\n",
      "[ 658 1561 1395 ...  691  912  158]\n"
     ]
    },
    {
     "data": {
      "text/plain": [
       "(16, (16, 5, 128, 128, 3), (16, 16))"
      ]
     },
     "execution_count": 51,
     "metadata": {},
     "output_type": "execute_result"
    }
   ],
   "source": [
    "features, labels = train_gen[1]\n",
    "\n",
    "print(train_gen.indices)\n",
    "\n",
    "train_gen.on_epoch_end()\n",
    "\n",
    "print(train_gen.indices)\n",
    "\n",
    "BATCH_SIZE, features.shape, labels.shape"
   ]
  },
  {
   "cell_type": "markdown",
   "id": "bac87ffb",
   "metadata": {
    "papermill": {
     "duration": 0.121828,
     "end_time": "2025-07-05T17:23:48.720987",
     "exception": false,
     "start_time": "2025-07-05T17:23:48.599159",
     "status": "completed"
    },
    "tags": []
   },
   "source": [
    "## Compute Class Weight"
   ]
  },
  {
   "cell_type": "code",
   "execution_count": 52,
   "id": "1a71067f",
   "metadata": {
    "execution": {
     "iopub.execute_input": "2025-07-05T17:23:48.961756Z",
     "iopub.status.busy": "2025-07-05T17:23:48.961453Z",
     "iopub.status.idle": "2025-07-05T17:23:48.967831Z",
     "shell.execute_reply": "2025-07-05T17:23:48.967219Z"
    },
    "papermill": {
     "duration": 0.127991,
     "end_time": "2025-07-05T17:23:48.968894",
     "exception": false,
     "start_time": "2025-07-05T17:23:48.840903",
     "status": "completed"
    },
    "tags": []
   },
   "outputs": [
    {
     "name": "stdout",
     "output_type": "stream",
     "text": [
      "Class weights: {0: 1.0, 1: 1.0, 2: 1.0, 3: 1.0, 4: 1.0, 5: 1.0, 6: 1.0, 7: 1.0, 8: 1.0, 9: 1.0, 10: 1.0, 11: 1.0, 12: 1.0, 13: 1.0, 14: 1.0, 15: 1.0}\n"
     ]
    }
   ],
   "source": [
    "from sklearn.utils.class_weight import compute_class_weight\n",
    "import numpy as np\n",
    "\n",
    "# Assuming y_int are integer labels (not one-hot)\n",
    "y_int = np.argmax(one_hot_encoded_labels, axis=1)  # or just integer labels if you have them\n",
    "\n",
    "classes = np.arange(NO_OF_CLASSES)  # e.g. np.arange(16)\n",
    "class_weights_values = compute_class_weight(class_weight='balanced', classes=classes, y=y_int)\n",
    "\n",
    "class_weights = dict(zip(classes, class_weights_values))\n",
    "\n",
    "print(\"Class weights:\", class_weights)\n"
   ]
  },
  {
   "cell_type": "code",
   "execution_count": 53,
   "id": "3b3da904",
   "metadata": {
    "execution": {
     "iopub.execute_input": "2025-07-05T17:23:49.220546Z",
     "iopub.status.busy": "2025-07-05T17:23:49.219866Z",
     "iopub.status.idle": "2025-07-05T17:23:49.427963Z",
     "shell.execute_reply": "2025-07-05T17:23:49.427422Z"
    },
    "papermill": {
     "duration": 0.330784,
     "end_time": "2025-07-05T17:23:49.429125",
     "exception": false,
     "start_time": "2025-07-05T17:23:49.098341",
     "status": "completed"
    },
    "tags": []
   },
   "outputs": [],
   "source": [
    "gc.collect()\n",
    "del videos, one_hot_encoded_labels, labels_train\n",
    "del features_train, val_labels, train_labels\n",
    "del val_video_frames, train_video_frames"
   ]
  },
  {
   "cell_type": "markdown",
   "id": "8d808a66",
   "metadata": {
    "papermill": {
     "duration": 0.169268,
     "end_time": "2025-07-05T17:23:49.720588",
     "exception": false,
     "start_time": "2025-07-05T17:23:49.551320",
     "status": "completed"
    },
    "tags": []
   },
   "source": [
    "# ✨ Model Execution\n",
    "## Creating Model"
   ]
  },
  {
   "cell_type": "code",
   "execution_count": 54,
   "id": "f9618970",
   "metadata": {
    "execution": {
     "iopub.execute_input": "2025-07-05T17:23:49.964515Z",
     "iopub.status.busy": "2025-07-05T17:23:49.963726Z",
     "iopub.status.idle": "2025-07-05T17:23:51.154559Z",
     "shell.execute_reply": "2025-07-05T17:23:51.153681Z"
    },
    "papermill": {
     "duration": 1.313943,
     "end_time": "2025-07-05T17:23:51.155707",
     "exception": false,
     "start_time": "2025-07-05T17:23:49.841764",
     "status": "completed"
    },
    "tags": []
   },
   "outputs": [
    {
     "name": "stdout",
     "output_type": "stream",
     "text": [
      "Loading Xception base model...\n",
      "Model architecture created successfully!\n"
     ]
    },
    {
     "name": "stderr",
     "output_type": "stream",
     "text": [
      "/usr/local/lib/python3.11/dist-packages/keras/src/layers/core/wrapper.py:27: UserWarning: Do not pass an `input_shape`/`input_dim` argument to a layer. When using Sequential models, prefer using an `Input(shape)` object as the first layer in the model instead.\n",
      "  super().__init__(**kwargs)\n"
     ]
    },
    {
     "data": {
      "text/html": [
       "<pre style=\"white-space:pre;overflow-x:auto;line-height:normal;font-family:Menlo,'DejaVu Sans Mono',consolas,'Courier New',monospace\"><span style=\"font-weight: bold\">Model: \"sequential\"</span>\n",
       "</pre>\n"
      ],
      "text/plain": [
       "\u001b[1mModel: \"sequential\"\u001b[0m\n"
      ]
     },
     "metadata": {},
     "output_type": "display_data"
    },
    {
     "data": {
      "text/html": [
       "<pre style=\"white-space:pre;overflow-x:auto;line-height:normal;font-family:Menlo,'DejaVu Sans Mono',consolas,'Courier New',monospace\">┏━━━━━━━━━━━━━━━━━━━━━━━━━━━━━━━━━━━━━━┳━━━━━━━━━━━━━━━━━━━━━━━━━━━━━┳━━━━━━━━━━━━━━━━━┓\n",
       "┃<span style=\"font-weight: bold\"> Layer (type)                         </span>┃<span style=\"font-weight: bold\"> Output Shape                </span>┃<span style=\"font-weight: bold\">         Param # </span>┃\n",
       "┡━━━━━━━━━━━━━━━━━━━━━━━━━━━━━━━━━━━━━━╇━━━━━━━━━━━━━━━━━━━━━━━━━━━━━╇━━━━━━━━━━━━━━━━━┩\n",
       "│ time_distributed (<span style=\"color: #0087ff; text-decoration-color: #0087ff\">TimeDistributed</span>)   │ (<span style=\"color: #00d7ff; text-decoration-color: #00d7ff\">None</span>, <span style=\"color: #00af00; text-decoration-color: #00af00\">5</span>, <span style=\"color: #00af00; text-decoration-color: #00af00\">4</span>, <span style=\"color: #00af00; text-decoration-color: #00af00\">4</span>, <span style=\"color: #00af00; text-decoration-color: #00af00\">2048</span>)       │      <span style=\"color: #00af00; text-decoration-color: #00af00\">20,861,480</span> │\n",
       "├──────────────────────────────────────┼─────────────────────────────┼─────────────────┤\n",
       "│ time_distributed_1 (<span style=\"color: #0087ff; text-decoration-color: #0087ff\">TimeDistributed</span>) │ (<span style=\"color: #00d7ff; text-decoration-color: #00d7ff\">None</span>, <span style=\"color: #00af00; text-decoration-color: #00af00\">5</span>, <span style=\"color: #00af00; text-decoration-color: #00af00\">2048</span>)             │               <span style=\"color: #00af00; text-decoration-color: #00af00\">0</span> │\n",
       "├──────────────────────────────────────┼─────────────────────────────┼─────────────────┤\n",
       "│ time_distributed_2 (<span style=\"color: #0087ff; text-decoration-color: #0087ff\">TimeDistributed</span>) │ (<span style=\"color: #00d7ff; text-decoration-color: #00d7ff\">None</span>, <span style=\"color: #00af00; text-decoration-color: #00af00\">5</span>, <span style=\"color: #00af00; text-decoration-color: #00af00\">2048</span>)             │               <span style=\"color: #00af00; text-decoration-color: #00af00\">0</span> │\n",
       "├──────────────────────────────────────┼─────────────────────────────┼─────────────────┤\n",
       "│ lstm (<span style=\"color: #0087ff; text-decoration-color: #0087ff\">LSTM</span>)                          │ (<span style=\"color: #00d7ff; text-decoration-color: #00d7ff\">None</span>, <span style=\"color: #00af00; text-decoration-color: #00af00\">256</span>)                 │       <span style=\"color: #00af00; text-decoration-color: #00af00\">2,360,320</span> │\n",
       "├──────────────────────────────────────┼─────────────────────────────┼─────────────────┤\n",
       "│ dropout (<span style=\"color: #0087ff; text-decoration-color: #0087ff\">Dropout</span>)                    │ (<span style=\"color: #00d7ff; text-decoration-color: #00d7ff\">None</span>, <span style=\"color: #00af00; text-decoration-color: #00af00\">256</span>)                 │               <span style=\"color: #00af00; text-decoration-color: #00af00\">0</span> │\n",
       "├──────────────────────────────────────┼─────────────────────────────┼─────────────────┤\n",
       "│ dense (<span style=\"color: #0087ff; text-decoration-color: #0087ff\">Dense</span>)                        │ (<span style=\"color: #00d7ff; text-decoration-color: #00d7ff\">None</span>, <span style=\"color: #00af00; text-decoration-color: #00af00\">1024</span>)                │         <span style=\"color: #00af00; text-decoration-color: #00af00\">263,168</span> │\n",
       "├──────────────────────────────────────┼─────────────────────────────┼─────────────────┤\n",
       "│ dropout_1 (<span style=\"color: #0087ff; text-decoration-color: #0087ff\">Dropout</span>)                  │ (<span style=\"color: #00d7ff; text-decoration-color: #00d7ff\">None</span>, <span style=\"color: #00af00; text-decoration-color: #00af00\">1024</span>)                │               <span style=\"color: #00af00; text-decoration-color: #00af00\">0</span> │\n",
       "├──────────────────────────────────────┼─────────────────────────────┼─────────────────┤\n",
       "│ dense_1 (<span style=\"color: #0087ff; text-decoration-color: #0087ff\">Dense</span>)                      │ (<span style=\"color: #00d7ff; text-decoration-color: #00d7ff\">None</span>, <span style=\"color: #00af00; text-decoration-color: #00af00\">16</span>)                  │          <span style=\"color: #00af00; text-decoration-color: #00af00\">16,400</span> │\n",
       "└──────────────────────────────────────┴─────────────────────────────┴─────────────────┘\n",
       "</pre>\n"
      ],
      "text/plain": [
       "┏━━━━━━━━━━━━━━━━━━━━━━━━━━━━━━━━━━━━━━┳━━━━━━━━━━━━━━━━━━━━━━━━━━━━━┳━━━━━━━━━━━━━━━━━┓\n",
       "┃\u001b[1m \u001b[0m\u001b[1mLayer (type)                        \u001b[0m\u001b[1m \u001b[0m┃\u001b[1m \u001b[0m\u001b[1mOutput Shape               \u001b[0m\u001b[1m \u001b[0m┃\u001b[1m \u001b[0m\u001b[1m        Param #\u001b[0m\u001b[1m \u001b[0m┃\n",
       "┡━━━━━━━━━━━━━━━━━━━━━━━━━━━━━━━━━━━━━━╇━━━━━━━━━━━━━━━━━━━━━━━━━━━━━╇━━━━━━━━━━━━━━━━━┩\n",
       "│ time_distributed (\u001b[38;5;33mTimeDistributed\u001b[0m)   │ (\u001b[38;5;45mNone\u001b[0m, \u001b[38;5;34m5\u001b[0m, \u001b[38;5;34m4\u001b[0m, \u001b[38;5;34m4\u001b[0m, \u001b[38;5;34m2048\u001b[0m)       │      \u001b[38;5;34m20,861,480\u001b[0m │\n",
       "├──────────────────────────────────────┼─────────────────────────────┼─────────────────┤\n",
       "│ time_distributed_1 (\u001b[38;5;33mTimeDistributed\u001b[0m) │ (\u001b[38;5;45mNone\u001b[0m, \u001b[38;5;34m5\u001b[0m, \u001b[38;5;34m2048\u001b[0m)             │               \u001b[38;5;34m0\u001b[0m │\n",
       "├──────────────────────────────────────┼─────────────────────────────┼─────────────────┤\n",
       "│ time_distributed_2 (\u001b[38;5;33mTimeDistributed\u001b[0m) │ (\u001b[38;5;45mNone\u001b[0m, \u001b[38;5;34m5\u001b[0m, \u001b[38;5;34m2048\u001b[0m)             │               \u001b[38;5;34m0\u001b[0m │\n",
       "├──────────────────────────────────────┼─────────────────────────────┼─────────────────┤\n",
       "│ lstm (\u001b[38;5;33mLSTM\u001b[0m)                          │ (\u001b[38;5;45mNone\u001b[0m, \u001b[38;5;34m256\u001b[0m)                 │       \u001b[38;5;34m2,360,320\u001b[0m │\n",
       "├──────────────────────────────────────┼─────────────────────────────┼─────────────────┤\n",
       "│ dropout (\u001b[38;5;33mDropout\u001b[0m)                    │ (\u001b[38;5;45mNone\u001b[0m, \u001b[38;5;34m256\u001b[0m)                 │               \u001b[38;5;34m0\u001b[0m │\n",
       "├──────────────────────────────────────┼─────────────────────────────┼─────────────────┤\n",
       "│ dense (\u001b[38;5;33mDense\u001b[0m)                        │ (\u001b[38;5;45mNone\u001b[0m, \u001b[38;5;34m1024\u001b[0m)                │         \u001b[38;5;34m263,168\u001b[0m │\n",
       "├──────────────────────────────────────┼─────────────────────────────┼─────────────────┤\n",
       "│ dropout_1 (\u001b[38;5;33mDropout\u001b[0m)                  │ (\u001b[38;5;45mNone\u001b[0m, \u001b[38;5;34m1024\u001b[0m)                │               \u001b[38;5;34m0\u001b[0m │\n",
       "├──────────────────────────────────────┼─────────────────────────────┼─────────────────┤\n",
       "│ dense_1 (\u001b[38;5;33mDense\u001b[0m)                      │ (\u001b[38;5;45mNone\u001b[0m, \u001b[38;5;34m16\u001b[0m)                  │          \u001b[38;5;34m16,400\u001b[0m │\n",
       "└──────────────────────────────────────┴─────────────────────────────┴─────────────────┘\n"
      ]
     },
     "metadata": {},
     "output_type": "display_data"
    },
    {
     "data": {
      "text/html": [
       "<pre style=\"white-space:pre;overflow-x:auto;line-height:normal;font-family:Menlo,'DejaVu Sans Mono',consolas,'Courier New',monospace\"><span style=\"font-weight: bold\"> Total params: </span><span style=\"color: #00af00; text-decoration-color: #00af00\">23,501,368</span> (89.65 MB)\n",
       "</pre>\n"
      ],
      "text/plain": [
       "\u001b[1m Total params: \u001b[0m\u001b[38;5;34m23,501,368\u001b[0m (89.65 MB)\n"
      ]
     },
     "metadata": {},
     "output_type": "display_data"
    },
    {
     "data": {
      "text/html": [
       "<pre style=\"white-space:pre;overflow-x:auto;line-height:normal;font-family:Menlo,'DejaVu Sans Mono',consolas,'Courier New',monospace\"><span style=\"font-weight: bold\"> Trainable params: </span><span style=\"color: #00af00; text-decoration-color: #00af00\">2,639,888</span> (10.07 MB)\n",
       "</pre>\n"
      ],
      "text/plain": [
       "\u001b[1m Trainable params: \u001b[0m\u001b[38;5;34m2,639,888\u001b[0m (10.07 MB)\n"
      ]
     },
     "metadata": {},
     "output_type": "display_data"
    },
    {
     "data": {
      "text/html": [
       "<pre style=\"white-space:pre;overflow-x:auto;line-height:normal;font-family:Menlo,'DejaVu Sans Mono',consolas,'Courier New',monospace\"><span style=\"font-weight: bold\"> Non-trainable params: </span><span style=\"color: #00af00; text-decoration-color: #00af00\">20,861,480</span> (79.58 MB)\n",
       "</pre>\n"
      ],
      "text/plain": [
       "\u001b[1m Non-trainable params: \u001b[0m\u001b[38;5;34m20,861,480\u001b[0m (79.58 MB)\n"
      ]
     },
     "metadata": {},
     "output_type": "display_data"
    },
    {
     "name": "stdout",
     "output_type": "stream",
     "text": [
      "Model Created Successfully!\n"
     ]
    }
   ],
   "source": [
    "# Create the model\n",
    "xlstm_model = create_xception_lstm_model(\n",
    "    sequence_length=SEQUENCE_LENGTH,\n",
    "    image_height=IMAGE_HEIGHT,\n",
    "    image_width=IMAGE_WIDTH,\n",
    "    classes_list=CLASSES_LIST,\n",
    "    dropout_rate=DROPOUT_RATE\n",
    ")\n",
    "\n",
    "# Check if model was created successfully\n",
    "if xlstm_model is None:\n",
    "    print(\"Failed to create model. Check error messages above.\")\n",
    "else:\n",
    "    print(\"Model Created Successfully!\")"
   ]
  },
  {
   "cell_type": "markdown",
   "id": "c3a00e3d",
   "metadata": {
    "papermill": {
     "duration": 0.12855,
     "end_time": "2025-07-05T17:23:51.410143",
     "exception": false,
     "start_time": "2025-07-05T17:23:51.281593",
     "status": "completed"
    },
    "tags": []
   },
   "source": [
    "## Plot Model Structure"
   ]
  },
  {
   "cell_type": "code",
   "execution_count": 55,
   "id": "5fad99b0",
   "metadata": {
    "execution": {
     "iopub.execute_input": "2025-07-05T17:23:51.682180Z",
     "iopub.status.busy": "2025-07-05T17:23:51.681740Z",
     "iopub.status.idle": "2025-07-05T17:23:52.020715Z",
     "shell.execute_reply": "2025-07-05T17:23:52.019847Z"
    },
    "papermill": {
     "duration": 0.463377,
     "end_time": "2025-07-05T17:23:52.021954",
     "exception": false,
     "start_time": "2025-07-05T17:23:51.558577",
     "status": "completed"
    },
    "tags": []
   },
   "outputs": [
    {
     "name": "stdout",
     "output_type": "stream",
     "text": [
      "Xception Model Plot saved successfully...\n"
     ]
    }
   ],
   "source": [
    "# Plot the structure of the contructed model.\n",
    "from tensorflow.keras.utils import plot_model\n",
    "\n",
    "plot_model(xlstm_model, to_file = f'{MODEL_NAME}_model_Plot.png', show_shapes = True, show_layer_names = True)\n",
    "\n",
    "print(f\"{MODEL_NAME} Model Plot saved successfully...\")"
   ]
  },
  {
   "cell_type": "markdown",
   "id": "a17bd176",
   "metadata": {
    "papermill": {
     "duration": 0.122274,
     "end_time": "2025-07-05T17:23:52.268322",
     "exception": false,
     "start_time": "2025-07-05T17:23:52.146048",
     "status": "completed"
    },
    "tags": []
   },
   "source": [
    "## Model Compile"
   ]
  },
  {
   "cell_type": "code",
   "execution_count": 56,
   "id": "b4488c1b",
   "metadata": {
    "execution": {
     "iopub.execute_input": "2025-07-05T17:23:52.558517Z",
     "iopub.status.busy": "2025-07-05T17:23:52.557883Z",
     "iopub.status.idle": "2025-07-05T17:23:52.573238Z",
     "shell.execute_reply": "2025-07-05T17:23:52.572727Z"
    },
    "papermill": {
     "duration": 0.185171,
     "end_time": "2025-07-05T17:23:52.574248",
     "exception": false,
     "start_time": "2025-07-05T17:23:52.389077",
     "status": "completed"
    },
    "tags": []
   },
   "outputs": [],
   "source": [
    "# Create an Instance of Early Stopping Callback\n",
    "from tensorflow.keras.callbacks import EarlyStopping\n",
    "\n",
    "early_stopping_callback = EarlyStopping(monitor = 'val_loss', \n",
    "                                        patience = 7, \n",
    "                                        mode = 'min', \n",
    "                                        restore_best_weights = True)\n",
    "\n",
    "# Compile the model and specify loss function, optimizer and metrics values to the model\n",
    "xlstm_model.compile(loss = 'categorical_crossentropy', \n",
    "                    optimizer=tf.keras.optimizers.Adam(learning_rate=0.0001),\n",
    "                    metrics = [\"accuracy\"])\n"
   ]
  },
  {
   "cell_type": "markdown",
   "id": "0a9c736a",
   "metadata": {
    "papermill": {
     "duration": 0.121254,
     "end_time": "2025-07-05T17:23:52.828345",
     "exception": false,
     "start_time": "2025-07-05T17:23:52.707091",
     "status": "completed"
    },
    "tags": []
   },
   "source": [
    "## 💪 Model Fit"
   ]
  },
  {
   "cell_type": "code",
   "execution_count": 57,
   "id": "c58c14bc",
   "metadata": {
    "execution": {
     "iopub.execute_input": "2025-07-05T17:23:53.073094Z",
     "iopub.status.busy": "2025-07-05T17:23:53.072788Z",
     "iopub.status.idle": "2025-07-05T17:23:53.079654Z",
     "shell.execute_reply": "2025-07-05T17:23:53.078873Z"
    },
    "papermill": {
     "duration": 0.130394,
     "end_time": "2025-07-05T17:23:53.080923",
     "exception": false,
     "start_time": "2025-07-05T17:23:52.950529",
     "status": "completed"
    },
    "tags": []
   },
   "outputs": [
    {
     "name": "stdout",
     "output_type": "stream",
     "text": [
      "Unique labels: [ 0  1  2  3  4  5  6  7  8  9 10 11 12 13 14 15]\n",
      "NO_OF_CLASSES: 16\n"
     ]
    }
   ],
   "source": [
    "labels = np.argmax(train_gen.labels, axis=1)  # assuming one-hot encoded\n",
    "print(\"Unique labels:\", np.unique(labels))\n",
    "print(\"NO_OF_CLASSES:\", NO_OF_CLASSES)\n"
   ]
  },
  {
   "cell_type": "code",
   "execution_count": 58,
   "id": "031348d9",
   "metadata": {
    "execution": {
     "iopub.execute_input": "2025-07-05T17:23:53.354346Z",
     "iopub.status.busy": "2025-07-05T17:23:53.353906Z",
     "iopub.status.idle": "2025-07-05T17:23:53.360160Z",
     "shell.execute_reply": "2025-07-05T17:23:53.359548Z"
    },
    "papermill": {
     "duration": 0.142389,
     "end_time": "2025-07-05T17:23:53.361191",
     "exception": false,
     "start_time": "2025-07-05T17:23:53.218802",
     "status": "completed"
    },
    "tags": []
   },
   "outputs": [
    {
     "name": "stdout",
     "output_type": "stream",
     "text": [
      "Train label shape: (1638, 16)\n",
      "Val label shape: (410, 16)\n"
     ]
    }
   ],
   "source": [
    "print(\"Train label shape:\", np.shape(train_gen.labels))\n",
    "print(\"Val label shape:\", np.shape(val_gen.labels))\n"
   ]
  },
  {
   "cell_type": "code",
   "execution_count": 59,
   "id": "dc4cf8bf",
   "metadata": {
    "execution": {
     "iopub.execute_input": "2025-07-05T17:23:53.616055Z",
     "iopub.status.busy": "2025-07-05T17:23:53.615820Z",
     "iopub.status.idle": "2025-07-05T17:33:12.285418Z",
     "shell.execute_reply": "2025-07-05T17:33:12.284850Z"
    },
    "papermill": {
     "duration": 558.801845,
     "end_time": "2025-07-05T17:33:12.286721",
     "exception": false,
     "start_time": "2025-07-05T17:23:53.484876",
     "status": "completed"
    },
    "tags": []
   },
   "outputs": [
    {
     "name": "stdout",
     "output_type": "stream",
     "text": [
      "Dataset - Msrdailyactivity3D Rgb Videos Only\n",
      "There are total 16 classes, selected 16 classes\n",
      "Setting 20 videos/class to train the model.\n",
      "Image size 128x128 with 5 sequence length\n",
      "Dropout rate: 0.5\n",
      "Train-Test split ratio 80/20\n",
      "Validation data from Train set 20.0%\n",
      "\n",
      "\n",
      "Training started for 1638 videos of 16 classes with 410 videos for validation...\n",
      "Epoch 1/30\n"
     ]
    },
    {
     "name": "stderr",
     "output_type": "stream",
     "text": [
      "I0000 00:00:1751736252.022648      85 cuda_dnn.cc:529] Loaded cuDNN version 90300\n"
     ]
    },
    {
     "name": "stdout",
     "output_type": "stream",
     "text": [
      "    103/Unknown \u001b[1m34s\u001b[0m 130ms/step - accuracy: 0.0875 - loss: 19.0453"
     ]
    },
    {
     "name": "stderr",
     "output_type": "stream",
     "text": [
      "/usr/local/lib/python3.11/dist-packages/keras/src/trainers/epoch_iterator.py:151: UserWarning: Your input ran out of data; interrupting training. Make sure that your dataset or generator can generate at least `steps_per_epoch * epochs` batches. You may need to use the `.repeat()` function when building your dataset.\n",
      "  self._interrupted_warning()\n"
     ]
    },
    {
     "name": "stdout",
     "output_type": "stream",
     "text": [
      "\u001b[1m103/103\u001b[0m \u001b[32m━━━━━━━━━━━━━━━━━━━━\u001b[0m\u001b[37m\u001b[0m \u001b[1m43s\u001b[0m 219ms/step - accuracy: 0.0875 - loss: 19.0322 - val_accuracy: 0.2098 - val_loss: 15.1003 - learning_rate: 1.0000e-04\n",
      "Epoch 2/30\n",
      "\u001b[1m103/103\u001b[0m \u001b[32m━━━━━━━━━━━━━━━━━━━━\u001b[0m\u001b[37m\u001b[0m \u001b[1m17s\u001b[0m 162ms/step - accuracy: 0.2025 - loss: 14.0967 - val_accuracy: 0.2902 - val_loss: 11.5203 - learning_rate: 1.0000e-04\n",
      "Epoch 3/30\n",
      "\u001b[1m103/103\u001b[0m \u001b[32m━━━━━━━━━━━━━━━━━━━━\u001b[0m\u001b[37m\u001b[0m \u001b[1m17s\u001b[0m 164ms/step - accuracy: 0.2736 - loss: 10.8505 - val_accuracy: 0.3341 - val_loss: 9.1778 - learning_rate: 1.0000e-04\n",
      "Epoch 4/30\n",
      "\u001b[1m103/103\u001b[0m \u001b[32m━━━━━━━━━━━━━━━━━━━━\u001b[0m\u001b[37m\u001b[0m \u001b[1m17s\u001b[0m 165ms/step - accuracy: 0.3595 - loss: 8.7245 - val_accuracy: 0.3829 - val_loss: 7.6407 - learning_rate: 1.0000e-04\n",
      "Epoch 5/30\n",
      "\u001b[1m103/103\u001b[0m \u001b[32m━━━━━━━━━━━━━━━━━━━━\u001b[0m\u001b[37m\u001b[0m \u001b[1m17s\u001b[0m 167ms/step - accuracy: 0.4459 - loss: 7.2531 - val_accuracy: 0.4415 - val_loss: 6.5810 - learning_rate: 1.0000e-04\n",
      "Epoch 6/30\n",
      "\u001b[1m103/103\u001b[0m \u001b[32m━━━━━━━━━━━━━━━━━━━━\u001b[0m\u001b[37m\u001b[0m \u001b[1m17s\u001b[0m 168ms/step - accuracy: 0.5106 - loss: 6.2549 - val_accuracy: 0.4732 - val_loss: 5.8501 - learning_rate: 1.0000e-04\n",
      "Epoch 7/30\n",
      "\u001b[1m103/103\u001b[0m \u001b[32m━━━━━━━━━━━━━━━━━━━━\u001b[0m\u001b[37m\u001b[0m \u001b[1m17s\u001b[0m 169ms/step - accuracy: 0.5644 - loss: 5.5399 - val_accuracy: 0.5024 - val_loss: 5.2950 - learning_rate: 1.0000e-04\n",
      "Epoch 8/30\n",
      "\u001b[1m103/103\u001b[0m \u001b[32m━━━━━━━━━━━━━━━━━━━━\u001b[0m\u001b[37m\u001b[0m \u001b[1m18s\u001b[0m 170ms/step - accuracy: 0.5751 - loss: 5.0122 - val_accuracy: 0.5195 - val_loss: 4.8637 - learning_rate: 1.0000e-04\n",
      "Epoch 9/30\n",
      "\u001b[1m103/103\u001b[0m \u001b[32m━━━━━━━━━━━━━━━━━━━━\u001b[0m\u001b[37m\u001b[0m \u001b[1m18s\u001b[0m 171ms/step - accuracy: 0.6677 - loss: 4.5018 - val_accuracy: 0.5317 - val_loss: 4.5209 - learning_rate: 1.0000e-04\n",
      "Epoch 10/30\n",
      "\u001b[1m103/103\u001b[0m \u001b[32m━━━━━━━━━━━━━━━━━━━━\u001b[0m\u001b[37m\u001b[0m \u001b[1m18s\u001b[0m 172ms/step - accuracy: 0.7005 - loss: 4.1357 - val_accuracy: 0.5537 - val_loss: 4.2484 - learning_rate: 1.0000e-04\n",
      "Epoch 11/30\n",
      "\u001b[1m103/103\u001b[0m \u001b[32m━━━━━━━━━━━━━━━━━━━━\u001b[0m\u001b[37m\u001b[0m \u001b[1m18s\u001b[0m 172ms/step - accuracy: 0.7375 - loss: 3.7869 - val_accuracy: 0.5756 - val_loss: 4.0056 - learning_rate: 1.0000e-04\n",
      "Epoch 12/30\n",
      "\u001b[1m103/103\u001b[0m \u001b[32m━━━━━━━━━━━━━━━━━━━━\u001b[0m\u001b[37m\u001b[0m \u001b[1m18s\u001b[0m 173ms/step - accuracy: 0.7536 - loss: 3.5461 - val_accuracy: 0.5854 - val_loss: 3.8212 - learning_rate: 1.0000e-04\n",
      "Epoch 13/30\n",
      "\u001b[1m103/103\u001b[0m \u001b[32m━━━━━━━━━━━━━━━━━━━━\u001b[0m\u001b[37m\u001b[0m \u001b[1m18s\u001b[0m 173ms/step - accuracy: 0.7909 - loss: 3.2618 - val_accuracy: 0.6122 - val_loss: 3.6042 - learning_rate: 1.0000e-04\n",
      "Epoch 14/30\n",
      "\u001b[1m103/103\u001b[0m \u001b[32m━━━━━━━━━━━━━━━━━━━━\u001b[0m\u001b[37m\u001b[0m \u001b[1m18s\u001b[0m 173ms/step - accuracy: 0.8143 - loss: 3.0588 - val_accuracy: 0.6366 - val_loss: 3.4752 - learning_rate: 1.0000e-04\n",
      "Epoch 15/30\n",
      "\u001b[1m103/103\u001b[0m \u001b[32m━━━━━━━━━━━━━━━━━━━━\u001b[0m\u001b[37m\u001b[0m \u001b[1m18s\u001b[0m 174ms/step - accuracy: 0.8506 - loss: 2.8375 - val_accuracy: 0.6366 - val_loss: 3.3792 - learning_rate: 1.0000e-04\n",
      "Epoch 16/30\n",
      "\u001b[1m103/103\u001b[0m \u001b[32m━━━━━━━━━━━━━━━━━━━━\u001b[0m\u001b[37m\u001b[0m \u001b[1m18s\u001b[0m 174ms/step - accuracy: 0.8776 - loss: 2.6671 - val_accuracy: 0.6317 - val_loss: 3.1986 - learning_rate: 1.0000e-04\n",
      "Epoch 17/30\n",
      "\u001b[1m103/103\u001b[0m \u001b[32m━━━━━━━━━━━━━━━━━━━━\u001b[0m\u001b[37m\u001b[0m \u001b[1m18s\u001b[0m 175ms/step - accuracy: 0.8874 - loss: 2.5096 - val_accuracy: 0.6805 - val_loss: 3.0525 - learning_rate: 1.0000e-04\n",
      "Epoch 18/30\n",
      "\u001b[1m103/103\u001b[0m \u001b[32m━━━━━━━━━━━━━━━━━━━━\u001b[0m\u001b[37m\u001b[0m \u001b[1m18s\u001b[0m 174ms/step - accuracy: 0.9004 - loss: 2.3698 - val_accuracy: 0.6488 - val_loss: 3.0621 - learning_rate: 1.0000e-04\n",
      "Epoch 19/30\n",
      "\u001b[1m103/103\u001b[0m \u001b[32m━━━━━━━━━━━━━━━━━━━━\u001b[0m\u001b[37m\u001b[0m \u001b[1m18s\u001b[0m 175ms/step - accuracy: 0.9149 - loss: 2.2116 - val_accuracy: 0.6780 - val_loss: 2.9164 - learning_rate: 1.0000e-04\n",
      "Epoch 20/30\n",
      "\u001b[1m103/103\u001b[0m \u001b[32m━━━━━━━━━━━━━━━━━━━━\u001b[0m\u001b[37m\u001b[0m \u001b[1m18s\u001b[0m 175ms/step - accuracy: 0.9398 - loss: 2.0775 - val_accuracy: 0.6829 - val_loss: 2.8439 - learning_rate: 1.0000e-04\n",
      "Epoch 21/30\n",
      "\u001b[1m103/103\u001b[0m \u001b[32m━━━━━━━━━━━━━━━━━━━━\u001b[0m\u001b[37m\u001b[0m \u001b[1m18s\u001b[0m 176ms/step - accuracy: 0.9343 - loss: 2.0002 - val_accuracy: 0.6610 - val_loss: 2.8205 - learning_rate: 1.0000e-04\n",
      "Epoch 22/30\n",
      "\u001b[1m103/103\u001b[0m \u001b[32m━━━━━━━━━━━━━━━━━━━━\u001b[0m\u001b[37m\u001b[0m \u001b[1m18s\u001b[0m 176ms/step - accuracy: 0.9574 - loss: 1.8477 - val_accuracy: 0.6902 - val_loss: 2.6566 - learning_rate: 1.0000e-04\n",
      "Epoch 23/30\n",
      "\u001b[1m103/103\u001b[0m \u001b[32m━━━━━━━━━━━━━━━━━━━━\u001b[0m\u001b[37m\u001b[0m \u001b[1m18s\u001b[0m 175ms/step - accuracy: 0.9396 - loss: 1.8141 - val_accuracy: 0.6488 - val_loss: 2.6827 - learning_rate: 1.0000e-04\n",
      "Epoch 24/30\n",
      "\u001b[1m103/103\u001b[0m \u001b[32m━━━━━━━━━━━━━━━━━━━━\u001b[0m\u001b[37m\u001b[0m \u001b[1m18s\u001b[0m 177ms/step - accuracy: 0.9418 - loss: 1.7283 - val_accuracy: 0.6829 - val_loss: 2.5400 - learning_rate: 1.0000e-04\n",
      "Epoch 25/30\n",
      "\u001b[1m103/103\u001b[0m \u001b[32m━━━━━━━━━━━━━━━━━━━━\u001b[0m\u001b[37m\u001b[0m \u001b[1m18s\u001b[0m 176ms/step - accuracy: 0.9604 - loss: 1.6283 - val_accuracy: 0.6756 - val_loss: 2.5223 - learning_rate: 1.0000e-04\n",
      "Epoch 26/30\n",
      "\u001b[1m103/103\u001b[0m \u001b[32m━━━━━━━━━━━━━━━━━━━━\u001b[0m\u001b[37m\u001b[0m \u001b[1m18s\u001b[0m 176ms/step - accuracy: 0.9759 - loss: 1.5232 - val_accuracy: 0.6878 - val_loss: 2.4226 - learning_rate: 1.0000e-04\n",
      "Epoch 27/30\n",
      "\u001b[1m103/103\u001b[0m \u001b[32m━━━━━━━━━━━━━━━━━━━━\u001b[0m\u001b[37m\u001b[0m \u001b[1m18s\u001b[0m 176ms/step - accuracy: 0.9640 - loss: 1.4763 - val_accuracy: 0.6293 - val_loss: 2.5297 - learning_rate: 1.0000e-04\n",
      "Epoch 28/30\n",
      "\u001b[1m103/103\u001b[0m \u001b[32m━━━━━━━━━━━━━━━━━━━━\u001b[0m\u001b[37m\u001b[0m \u001b[1m18s\u001b[0m 177ms/step - accuracy: 0.9680 - loss: 1.4293 - val_accuracy: 0.6805 - val_loss: 2.4032 - learning_rate: 1.0000e-04\n",
      "Epoch 29/30\n",
      "\u001b[1m103/103\u001b[0m \u001b[32m━━━━━━━━━━━━━━━━━━━━\u001b[0m\u001b[37m\u001b[0m \u001b[1m18s\u001b[0m 177ms/step - accuracy: 0.9746 - loss: 1.3324 - val_accuracy: 0.6732 - val_loss: 2.2878 - learning_rate: 1.0000e-04\n",
      "Epoch 30/30\n",
      "\u001b[1m103/103\u001b[0m \u001b[32m━━━━━━━━━━━━━━━━━━━━\u001b[0m\u001b[37m\u001b[0m \u001b[1m18s\u001b[0m 176ms/step - accuracy: 0.9782 - loss: 1.2627 - val_accuracy: 0.6951 - val_loss: 2.1618 - learning_rate: 1.0000e-04\n"
     ]
    }
   ],
   "source": [
    "from tensorflow.keras.callbacks import ReduceLROnPlateau\n",
    "\n",
    "lr_scheduler = ReduceLROnPlateau(monitor='val_loss', \n",
    "                                 factor=0.5, \n",
    "                                 patience=3, \n",
    "                                 min_lr=1e-6)\n",
    "\n",
    "\n",
    "\n",
    "print(f\"Dataset - {DATASET_NAME}\")\n",
    "print(f\"There are total {len(ALL_CLASS_NAMES)} classes, selected {NO_OF_CLASSES} classes\")\n",
    "print(f\"Setting {MAX_VIDEO_PER_CLASS} videos/class to train the model.\")\n",
    "print(f\"Image size {IMAGE_HEIGHT}x{IMAGE_WIDTH} with {SEQUENCE_LENGTH} sequence length\")\n",
    "print(f\"Dropout rate: {DROPOUT_RATE}\")\n",
    "print(f\"Train-Test split ratio {int((1-TEST_SIZE)*100)}/{int(TEST_SIZE*100)}\")\n",
    "print(f\"Validation data from Train set {VALIDATION_SPLIT*100}%\")\n",
    "\n",
    "print(\"\\n\")\n",
    "\n",
    "print(f\"Training started for {len(train_gen.videos)} videos of {NO_OF_CLASSES} classes with {len(val_gen.videos)} videos for validation...\")\n",
    "\n",
    "model_history = xlstm_model.fit(\n",
    "    train_gen.as_dataset(),\n",
    "    validation_data=val_gen.as_dataset(),\n",
    "    epochs=EPOCHS,\n",
    "    # class_weight=class_weight_dict,\n",
    "    callbacks=[early_stopping_callback, lr_scheduler]\n",
    ")"
   ]
  },
  {
   "cell_type": "markdown",
   "id": "a41211e9",
   "metadata": {
    "papermill": {
     "duration": 0.264134,
     "end_time": "2025-07-05T17:33:12.806610",
     "exception": false,
     "start_time": "2025-07-05T17:33:12.542476",
     "status": "completed"
    },
    "tags": []
   },
   "source": [
    "# Evaluation"
   ]
  },
  {
   "cell_type": "markdown",
   "id": "6ca2b0bb",
   "metadata": {
    "papermill": {
     "duration": 0.30469,
     "end_time": "2025-07-05T17:33:13.369690",
     "exception": false,
     "start_time": "2025-07-05T17:33:13.065000",
     "status": "completed"
    },
    "tags": []
   },
   "source": [
    "## ⚡ Model Evaluate"
   ]
  },
  {
   "cell_type": "code",
   "execution_count": 60,
   "id": "8c29f0a5",
   "metadata": {
    "execution": {
     "iopub.execute_input": "2025-07-05T17:33:13.886827Z",
     "iopub.status.busy": "2025-07-05T17:33:13.886529Z",
     "iopub.status.idle": "2025-07-05T17:33:20.157579Z",
     "shell.execute_reply": "2025-07-05T17:33:20.157029Z"
    },
    "papermill": {
     "duration": 6.529504,
     "end_time": "2025-07-05T17:33:20.158893",
     "exception": false,
     "start_time": "2025-07-05T17:33:13.629389",
     "status": "completed"
    },
    "tags": []
   },
   "outputs": [
    {
     "name": "stdout",
     "output_type": "stream",
     "text": [
      "\u001b[1m16/16\u001b[0m \u001b[32m━━━━━━━━━━━━━━━━━━━━\u001b[0m\u001b[37m\u001b[0m \u001b[1m5s\u001b[0m 256ms/step - accuracy: 0.6790 - loss: 2.2686\n"
     ]
    }
   ],
   "source": [
    "# previous code\n",
    "model_evaluation_history = xlstm_model.evaluate(features_test, labels_test)"
   ]
  },
  {
   "cell_type": "code",
   "execution_count": 61,
   "id": "bd15e240",
   "metadata": {
    "execution": {
     "iopub.execute_input": "2025-07-05T17:33:20.667426Z",
     "iopub.status.busy": "2025-07-05T17:33:20.667161Z",
     "iopub.status.idle": "2025-07-05T17:33:21.018017Z",
     "shell.execute_reply": "2025-07-05T17:33:21.017327Z"
    },
    "papermill": {
     "duration": 0.603933,
     "end_time": "2025-07-05T17:33:21.019485",
     "exception": false,
     "start_time": "2025-07-05T17:33:20.415552",
     "status": "completed"
    },
    "tags": []
   },
   "outputs": [
    {
     "data": {
      "image/png": "[encoded data removed]",
      "text/plain": [
       "<Figure size 1200x500 with 2 Axes>"
      ]
     },
     "metadata": {},
     "output_type": "display_data"
    }
   ],
   "source": [
    "import matplotlib.pyplot as plt\n",
    "\n",
    "# Accuracy\n",
    "plt.figure(figsize=(12, 5))\n",
    "\n",
    "plt.subplot(1, 2, 1)\n",
    "plt.plot(model_history.history['accuracy'], label='Train Accuracy')\n",
    "plt.plot(model_history.history['val_accuracy'], label='Validation Accuracy')\n",
    "plt.title('Model Accuracy')\n",
    "plt.xlabel('Epoch')\n",
    "plt.ylabel('Accuracy')\n",
    "plt.legend()\n",
    "\n",
    "# Loss\n",
    "plt.subplot(1, 2, 2)\n",
    "plt.plot(model_history.history['loss'], label='Train Loss')\n",
    "plt.plot(model_history.history['val_loss'], label='Validation Loss')\n",
    "plt.title('Model Loss')\n",
    "plt.xlabel('Epoch')\n",
    "plt.ylabel('Loss')\n",
    "plt.legend()\n",
    "\n",
    "plt.tight_layout()\n",
    "plt.show()\n"
   ]
  },
  {
   "cell_type": "markdown",
   "id": "ee6e6596",
   "metadata": {
    "papermill": {
     "duration": 0.28168,
     "end_time": "2025-07-05T17:33:21.610972",
     "exception": false,
     "start_time": "2025-07-05T17:33:21.329292",
     "status": "completed"
    },
    "tags": []
   },
   "source": [
    "## 📈 Confusion Matrix"
   ]
  },
  {
   "cell_type": "code",
   "execution_count": 62,
   "id": "d6c76d8c",
   "metadata": {
    "execution": {
     "iopub.execute_input": "2025-07-05T17:33:22.121686Z",
     "iopub.status.busy": "2025-07-05T17:33:22.121391Z",
     "iopub.status.idle": "2025-07-05T17:33:34.532535Z",
     "shell.execute_reply": "2025-07-05T17:33:34.531858Z"
    },
    "papermill": {
     "duration": 12.66731,
     "end_time": "2025-07-05T17:33:34.534431",
     "exception": false,
     "start_time": "2025-07-05T17:33:21.867121",
     "status": "completed"
    },
    "tags": []
   },
   "outputs": [
    {
     "name": "stdout",
     "output_type": "stream",
     "text": [
      "Total 512 videos and 512 classes\n",
      "\u001b[1m128/128\u001b[0m \u001b[32m━━━━━━━━━━━━━━━━━━━━\u001b[0m\u001b[37m\u001b[0m \u001b[1m11s\u001b[0m 49ms/step\n",
      "True classes shape: (512,)\n",
      "Predicted classes shape: (512,)\n",
      "Classification Report:\n",
      "                    precision    recall  f1-score   support\n",
      "\n",
      "  write on a paper       0.50      0.45      0.47        29\n",
      "        use laptop       0.93      0.69      0.79        36\n",
      "         read book       0.52      0.55      0.53        29\n",
      "         sit still       0.70      0.38      0.49        37\n",
      "             drink       0.56      0.51      0.54        35\n",
      "          sit down       0.80      0.92      0.85        38\n",
      "use vacuum cleaner       0.71      0.96      0.82        28\n",
      "               eat       0.66      0.89      0.76        28\n",
      "       play guitar       0.83      0.74      0.78        39\n",
      "  lie down on sofa       0.96      0.96      0.96        28\n",
      "          stand up       0.82      0.78      0.80        36\n",
      "        toss paper       0.49      0.64      0.55        28\n",
      "              walk       0.82      0.90      0.86        30\n",
      "         play game       0.48      0.46      0.47        26\n",
      "          cheer up       0.74      0.70      0.72        37\n",
      "    call cellphone       0.52      0.54      0.53        28\n",
      "\n",
      "          accuracy                           0.69       512\n",
      "         macro avg       0.69      0.69      0.68       512\n",
      "      weighted avg       0.70      0.69      0.69       512\n",
      "\n"
     ]
    },
    {
     "name": "stderr",
     "output_type": "stream",
     "text": [
      "/usr/local/lib/python3.11/dist-packages/keras/src/trainers/epoch_iterator.py:151: UserWarning: Your input ran out of data; interrupting training. Make sure that your dataset or generator can generate at least `steps_per_epoch * epochs` batches. You may need to use the `.repeat()` function when building your dataset.\n",
      "  self._interrupted_warning()\n"
     ]
    },
    {
     "data": {
      "image/png": "[encoded data removed]",
      "text/plain": [
       "<Figure size 800x600 with 2 Axes>"
      ]
     },
     "metadata": {},
     "output_type": "display_data"
    }
   ],
   "source": [
    "from sklearn.metrics import classification_report, confusion_matrix\n",
    "import seaborn as sns\n",
    "import matplotlib.pyplot as plt\n",
    "\n",
    "# Create test generator with batch_size matching test set size\n",
    "test_gen = VideoDataGenerator(\n",
    "    videos=features_test,\n",
    "    labels=labels_test,\n",
    "    batch_size=4,  # Process all test samples at once\n",
    ")\n",
    "\n",
    "# Get predictions\n",
    "predictions = xlstm_model.predict(test_gen.as_dataset())\n",
    "predicted_classes = np.argmax(predictions, axis=1)\n",
    "true_classes = np.argmax(labels_test, axis=1)\n",
    "\n",
    "# Verify shapes\n",
    "print(f\"True classes shape: {true_classes.shape}\")\n",
    "print(f\"Predicted classes shape: {predicted_classes.shape}\")\n",
    "assert len(true_classes) == len(predicted_classes), \"Sample counts do not match!\"\n",
    "\n",
    "# Generate classification report\n",
    "print(\"Classification Report:\")\n",
    "print(classification_report(true_classes, predicted_classes, target_names=CLASSES_LIST))\n",
    "\n",
    "# Plot confusion matrix\n",
    "cm = confusion_matrix(true_classes, predicted_classes)\n",
    "plt.figure(figsize=(8, 6))\n",
    "sns.heatmap(cm, annot=True, fmt='d', cmap='Blues', xticklabels=CLASSES_LIST, yticklabels=CLASSES_LIST[-1])\n",
    "plt.xlabel('Predicted')\n",
    "plt.ylabel('True')\n",
    "plt.title('Confusion Matrix')\n",
    "plt.show()"
   ]
  }
 ],
 "metadata": {
  "kaggle": {
   "accelerator": "nvidiaTeslaT4",
   "dataSources": [
    {
     "datasetId": 1357563,
     "sourceId": 2256095,
     "sourceType": "datasetVersion"
    },
    {
     "datasetId": 7763484,
     "sourceId": 12338519,
     "sourceType": "datasetVersion"
    },
    {
     "datasetId": 7801884,
     "sourceId": 12373562,
     "sourceType": "datasetVersion"
    }
   ],
   "dockerImageVersionId": 31041,
   "isGpuEnabled": true,
   "isInternetEnabled": true,
   "language": "python",
   "sourceType": "notebook"
  },
  "kernelspec": {
   "display_name": "Python 3",
   "language": "python",
   "name": "python3"
  },
  "language_info": {
   "codemirror_mode": {
    "name": "ipython",
    "version": 3
   },
   "file_extension": ".py",
   "mimetype": "text/x-python",
   "name": "python",
   "nbconvert_exporter": "python",
   "pygments_lexer": "ipython3",
   "version": "3.11.11"
  },
  "papermill": {
   "default_parameters": {},
   "duration": 721.852507,
   "end_time": "2025-07-05T17:33:37.894214",
   "environment_variables": {},
   "exception": null,
   "input_path": "__notebook__.ipynb",
   "output_path": "__notebook__.ipynb",
   "parameters": {},
   "start_time": "2025-07-05T17:21:36.041707",
   "version": "2.6.0"
  }
 },
 "nbformat": 4,
 "nbformat_minor": 5
}
