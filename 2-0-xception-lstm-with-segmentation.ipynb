{
 "cells": [
  {
   "cell_type": "markdown",
   "id": "fbd98cd8",
   "metadata": {
    "papermill": {
     "duration": 0.01108,
     "end_time": "2025-07-06T08:25:45.213494",
     "exception": false,
     "start_time": "2025-07-06T08:25:45.202414",
     "status": "completed"
    },
    "tags": []
   },
   "source": [
    "# Initialization\n",
    "## Import Libraries"
   ]
  },
  {
   "cell_type": "code",
   "execution_count": 1,
   "id": "eef1dd49",
   "metadata": {
    "_cell_guid": "b1076dfc-b9ad-4769-8c92-a6c4dae69d19",
    "_uuid": "8f2839f25d086af736a60e9eeb907d3b93b6e0e5",
    "execution": {
     "iopub.execute_input": "2025-07-06T08:25:45.234116Z",
     "iopub.status.busy": "2025-07-06T08:25:45.233923Z",
     "iopub.status.idle": "2025-07-06T08:26:09.791368Z",
     "shell.execute_reply": "2025-07-06T08:26:09.790565Z"
    },
    "papermill": {
     "duration": 24.569402,
     "end_time": "2025-07-06T08:26:09.792944",
     "exception": false,
     "start_time": "2025-07-06T08:25:45.223542",
     "status": "completed"
    },
    "tags": []
   },
   "outputs": [
    {
     "name": "stderr",
     "output_type": "stream",
     "text": [
      "2025-07-06 08:25:49.087004: E external/local_xla/xla/stream_executor/cuda/cuda_fft.cc:477] Unable to register cuFFT factory: Attempting to register factory for plugin cuFFT when one has already been registered\n",
      "WARNING: All log messages before absl::InitializeLog() is called are written to STDERR\n",
      "E0000 00:00:1751790349.560345      19 cuda_dnn.cc:8310] Unable to register cuDNN factory: Attempting to register factory for plugin cuDNN when one has already been registered\n",
      "E0000 00:00:1751790349.677013      19 cuda_blas.cc:1418] Unable to register cuBLAS factory: Attempting to register factory for plugin cuBLAS when one has already been registered\n"
     ]
    }
   ],
   "source": [
    "# install librarires\n",
    "import os\n",
    "import tensorflow as tf\n",
    "import numpy as np\n",
    "import random"
   ]
  },
  {
   "cell_type": "markdown",
   "id": "05b7fe47",
   "metadata": {
    "papermill": {
     "duration": 0.009301,
     "end_time": "2025-07-06T08:26:09.812677",
     "exception": false,
     "start_time": "2025-07-06T08:26:09.803376",
     "status": "completed"
    },
    "tags": []
   },
   "source": [
    "## ℹ️ Set Global Constants"
   ]
  },
  {
   "cell_type": "code",
   "execution_count": 2,
   "id": "2aade5e8",
   "metadata": {
    "execution": {
     "iopub.execute_input": "2025-07-06T08:26:09.834586Z",
     "iopub.status.busy": "2025-07-06T08:26:09.834088Z",
     "iopub.status.idle": "2025-07-06T08:26:09.848143Z",
     "shell.execute_reply": "2025-07-06T08:26:09.847317Z"
    },
    "papermill": {
     "duration": 0.027084,
     "end_time": "2025-07-06T08:26:09.849276",
     "exception": false,
     "start_time": "2025-07-06T08:26:09.822192",
     "status": "completed"
    },
    "tags": []
   },
   "outputs": [
    {
     "name": "stdout",
     "output_type": "stream",
     "text": [
      "Msrdailyactivity3D Rgb Videos Only\n",
      "There are total 16 classes, selected 16 classes\n",
      "Setting 20/class to train the model.\n",
      "Image size 128x128 with 10 sequence length\n",
      "Dropout rate: 0.5\n",
      "Train-Test split ratio 80/20\n",
      "Validation data from Train set 20.0%\n"
     ]
    }
   ],
   "source": [
    "# global variables\n",
    "# set dataset directories\n",
    "\n",
    "\n",
    "DATASET_DIR = \"/kaggle/input/msrdailyactivity3d-rgb-videos-only\"\n",
    "DATASET_NAME = DATASET_DIR.split(\"/\")[-1].replace(\"-\", \" \").title()\n",
    "\n",
    "print(DATASET_NAME)\n",
    "\n",
    "ALL_CLASS_NAMES = os.listdir(DATASET_DIR)\n",
    "\n",
    "# Global constant variables -> \n",
    "NO_OF_CLASSES = 16\n",
    "CLASSES_LIST = ALL_CLASS_NAMES[:NO_OF_CLASSES]\n",
    "\n",
    "# Model Configuration\n",
    "IMAGE_HEIGHT, IMAGE_WIDTH = 128, 128\n",
    "SEQUENCE_LENGTH = 10\n",
    "\n",
    "# set drop out rate\n",
    "DROPOUT_RATE = 0.5\n",
    "\n",
    "# set datas\n",
    "MAX_VIDEO_PER_CLASS = 20\n",
    "\n",
    "# split dataset\n",
    "TEST_SIZE = 0.20\n",
    "\n",
    "# model fit parameters\n",
    "EPOCHS = 30\n",
    "BATCH_SIZE = 32\n",
    "VALIDATION_SPLIT = 0.20\n",
    "\n",
    "# augmentation values\n",
    "NOISE_FACTOR = 0.02\n",
    "SHEAR_X= 1\n",
    "SHEAR_Y= 1\n",
    "\n",
    "# give a name of the model to save\n",
    "MODEL_NAME = \"Xception\"\n",
    "\n",
    "print(f\"There are total {len(ALL_CLASS_NAMES)} classes, selected {NO_OF_CLASSES} classes\")\n",
    "print(f\"Setting {MAX_VIDEO_PER_CLASS}/class to train the model.\")\n",
    "print(f\"Image size {IMAGE_HEIGHT}x{IMAGE_WIDTH} with {SEQUENCE_LENGTH} sequence length\")\n",
    "print(f\"Dropout rate: {DROPOUT_RATE}\")\n",
    "print(f\"Train-Test split ratio {int((1-TEST_SIZE)*100)}/{int(TEST_SIZE*100)}\")\n",
    "print(f\"Validation data from Train set {VALIDATION_SPLIT*100}%\")"
   ]
  },
  {
   "cell_type": "markdown",
   "id": "37031ebc",
   "metadata": {
    "papermill": {
     "duration": 0.009242,
     "end_time": "2025-07-06T08:26:09.868335",
     "exception": false,
     "start_time": "2025-07-06T08:26:09.859093",
     "status": "completed"
    },
    "tags": []
   },
   "source": [
    "## Set `Seed` Values"
   ]
  },
  {
   "cell_type": "code",
   "execution_count": 3,
   "id": "1f5d08da",
   "metadata": {
    "execution": {
     "iopub.execute_input": "2025-07-06T08:26:09.888266Z",
     "iopub.status.busy": "2025-07-06T08:26:09.888014Z",
     "iopub.status.idle": "2025-07-06T08:26:09.891927Z",
     "shell.execute_reply": "2025-07-06T08:26:09.891338Z"
    },
    "papermill": {
     "duration": 0.015479,
     "end_time": "2025-07-06T08:26:09.893057",
     "exception": false,
     "start_time": "2025-07-06T08:26:09.877578",
     "status": "completed"
    },
    "tags": []
   },
   "outputs": [],
   "source": [
    "# set seeed to get similar values\n",
    "seed_constant = 27\n",
    "np.random.seed(seed_constant)\n",
    "random.seed(seed_constant)\n",
    "tf.random.set_seed(seed_constant)"
   ]
  },
  {
   "cell_type": "markdown",
   "id": "3df1b5f8",
   "metadata": {
    "papermill": {
     "duration": 0.009312,
     "end_time": "2025-07-06T08:26:09.911632",
     "exception": false,
     "start_time": "2025-07-06T08:26:09.902320",
     "status": "completed"
    },
    "tags": []
   },
   "source": [
    "# 📌 Function Definition\n",
    "## Resize and Frame Extraction"
   ]
  },
  {
   "cell_type": "code",
   "execution_count": 4,
   "id": "2c34e604",
   "metadata": {
    "execution": {
     "iopub.execute_input": "2025-07-06T08:26:09.932585Z",
     "iopub.status.busy": "2025-07-06T08:26:09.932338Z",
     "iopub.status.idle": "2025-07-06T08:26:09.942031Z",
     "shell.execute_reply": "2025-07-06T08:26:09.941293Z"
    },
    "papermill": {
     "duration": 0.022127,
     "end_time": "2025-07-06T08:26:09.943106",
     "exception": false,
     "start_time": "2025-07-06T08:26:09.920979",
     "status": "completed"
    },
    "tags": []
   },
   "outputs": [],
   "source": [
    "import cv2\n",
    "from concurrent.futures import ThreadPoolExecutor\n",
    "\n",
    "def resize_and_normalize_frame(frame, image_height, image_width):\n",
    "    try:\n",
    "        resized_frame = cv2.resize(frame, (image_width, image_height), interpolation=cv2.INTER_LINEAR)\n",
    "        normalized_frame = resized_frame / 255.0\n",
    "        return normalized_frame\n",
    "    except Exception as e:\n",
    "        print(f\"Error processing frame: {e}\")\n",
    "        return None\n",
    "\n",
    "def frames_extraction(video_path, \n",
    "                      sequence_length=SEQUENCE_LENGTH, \n",
    "                      image_height=IMAGE_HEIGHT, \n",
    "                      image_width=IMAGE_WIDTH):\n",
    "    # Declare a list to store video frames\n",
    "    frames_list = []\n",
    "\n",
    "    # Check if video file exists\n",
    "    if not os.path.exists(video_path):\n",
    "        print(f\"Error: Video file not found at {video_path}\")\n",
    "        return None\n",
    "\n",
    "    # Read the video file using VideoCapture with optimized settings\n",
    "    video_reader = cv2.VideoCapture(video_path, cv2.CAP_FFMPEG)\n",
    "\n",
    "    # Check if the video was opened successfully\n",
    "    if not video_reader.isOpened():\n",
    "        print(f\"Error: Could not open video file {video_path}\")\n",
    "        video_reader.release()\n",
    "        return None\n",
    "\n",
    "    # Get the total number of frames in the video\n",
    "    video_frames_count = int(video_reader.get(cv2.CAP_PROP_FRAME_COUNT))\n",
    "\n",
    "    # Ensure the video has enough frames\n",
    "    if video_frames_count < sequence_length:\n",
    "        print(f\"Warning: Video {video_path} has only {video_frames_count} frames, less than required {sequence_length}\")\n",
    "        video_reader.release()\n",
    "        return None\n",
    "\n",
    "    # Calculate the interval after which frames will be sampled\n",
    "    skip_frames_window = max(int(video_frames_count / sequence_length), 1)\n",
    "\n",
    "    # Pre-allocate frame indices to extract\n",
    "    frame_indices = [i * skip_frames_window for i in range(sequence_length)]\n",
    "\n",
    "    # Read and process frames in parallel\n",
    "    frames = []\n",
    "    for idx in frame_indices:\n",
    "        video_reader.set(cv2.CAP_PROP_POS_FRAMES, idx)\n",
    "        success, frame = video_reader.read()\n",
    "        if not success or frame is None:\n",
    "            print(f\"Warning: Failed to read frame at index {idx} from {video_path}\")\n",
    "            break\n",
    "        frame = cv2.cvtColor(frame, cv2.COLOR_BGR2RGB)\n",
    "        frames.append(frame)\n",
    "\n",
    "    # Release the VideoCapture object early\n",
    "    video_reader.release()\n",
    "\n",
    "    # Ensure the correct number of frames is read\n",
    "    if len(frames) != sequence_length:\n",
    "        print(f\"Warning: Read {len(frames)} frames instead of {sequence_length} from {video_path}\")\n",
    "        return None\n",
    "\n",
    "    # Process frames in parallel using ThreadPoolExecutor\n",
    "    with ThreadPoolExecutor() as executor:\n",
    "        processed_frames = list(executor.map(\n",
    "            lambda f: resize_and_normalize_frame(f, image_height, image_width), \n",
    "            frames\n",
    "        ))\n",
    "\n",
    "    # Check for any failed frame processing\n",
    "    if any(f is None for f in processed_frames):\n",
    "        print(f\"Warning: Some frames failed to process in {video_path}\")\n",
    "        return None\n",
    "\n",
    "    # Convert to NumPy array\n",
    "    frames_array = np.array(processed_frames, dtype=np.float32)\n",
    "\n",
    "    return frames_array"
   ]
  },
  {
   "cell_type": "code",
   "execution_count": 5,
   "id": "27d53ec3",
   "metadata": {
    "execution": {
     "iopub.execute_input": "2025-07-06T08:26:09.963037Z",
     "iopub.status.busy": "2025-07-06T08:26:09.962804Z",
     "iopub.status.idle": "2025-07-06T08:26:09.966097Z",
     "shell.execute_reply": "2025-07-06T08:26:09.965477Z"
    },
    "papermill": {
     "duration": 0.014416,
     "end_time": "2025-07-06T08:26:09.967072",
     "exception": false,
     "start_time": "2025-07-06T08:26:09.952656",
     "status": "completed"
    },
    "tags": []
   },
   "outputs": [],
   "source": [
    " # # Iterate through all video files\n",
    " #        for file_name in files_list:\n",
    " #            video_file_path = os.path.join(class_path, file_name)\n",
    "\n",
    " #            # Extract frames using the updated frames_extraction function\n",
    " #            frames = frames_extraction(video_file_path, sequence_length, image_height, image_width)\n",
    "\n",
    " #            # Skip videos where frame extraction failed\n",
    " #            if frames is None:\n",
    " #                print(f\"Skipping video {video_file_path} due to frame extraction failure\")\n",
    " #                continue\n",
    "\n",
    " #            # Append the data to respective lists\n",
    " #            features.append(frames)\n",
    " #            labels.append(class_index)"
   ]
  },
  {
   "cell_type": "markdown",
   "id": "84ffa923",
   "metadata": {
    "papermill": {
     "duration": 0.008992,
     "end_time": "2025-07-06T08:26:09.986068",
     "exception": false,
     "start_time": "2025-07-06T08:26:09.977076",
     "status": "completed"
    },
    "tags": []
   },
   "source": [
    "## Create Dataset"
   ]
  },
  {
   "cell_type": "code",
   "execution_count": 6,
   "id": "1e1cf709",
   "metadata": {
    "execution": {
     "iopub.execute_input": "2025-07-06T08:26:10.006651Z",
     "iopub.status.busy": "2025-07-06T08:26:10.006381Z",
     "iopub.status.idle": "2025-07-06T08:26:10.012855Z",
     "shell.execute_reply": "2025-07-06T08:26:10.012285Z"
    },
    "papermill": {
     "duration": 0.018534,
     "end_time": "2025-07-06T08:26:10.013988",
     "exception": false,
     "start_time": "2025-07-06T08:26:09.995454",
     "status": "completed"
    },
    "tags": []
   },
   "outputs": [],
   "source": [
    "# RUN create dataset function definition\n",
    "def create_dataset(dataset_dir,\n",
    "                   classes_list, \n",
    "                   sequence_length=SEQUENCE_LENGTH, \n",
    "                   image_height=IMAGE_HEIGHT, \n",
    "                   image_width=IMAGE_WIDTH, \n",
    "                   max_videos_per_class=None,\n",
    "                   augmentations=False\n",
    "                  ):\n",
    "    \n",
    "    # Initialize lists to store features, labels, and video file paths\n",
    "    videos = []\n",
    "    labels = []\n",
    "\n",
    "    # Check if dataset directory exists\n",
    "    if not os.path.exists(dataset_dir):\n",
    "        raise FileNotFoundError(f\"Dataset directory not found: {dataset_dir}\")\n",
    "\n",
    "    # Iterate through all classes in the classes list\n",
    "    for class_index, class_name in enumerate(classes_list):\n",
    "        class_path = os.path.join(dataset_dir, class_name)\n",
    "        \n",
    "        # Check if class directory exists\n",
    "        if not os.path.exists(class_path):\n",
    "            print(f\"Warning: Class directory not found: {class_path}\")\n",
    "            continue\n",
    "\n",
    "        print(f'Extracting Data of Class: {class_name}')\n",
    "\n",
    "        # Get the list of video files in the class directory\n",
    "        files_list = os.listdir(class_path)\n",
    "\n",
    "        # Limit the number of videos if specified\n",
    "        if max_videos_per_class is not None:\n",
    "            files_list = files_list[:max_videos_per_class]\n",
    "\n",
    "        # Iterate through all video files\n",
    "        for file_name in files_list:\n",
    "            video_file_path = os.path.join(class_path, file_name)\n",
    "\n",
    "            # Extract frames using the updated frames_extraction function\n",
    "            frames = frames_extraction(video_file_path, \n",
    "                                       sequence_length, \n",
    "                                       image_height, \n",
    "                                       image_width)\n",
    "\n",
    "            # Skip videos where frame extraction failed\n",
    "            if frames is None:\n",
    "                print(f\"Skipping video {video_file_path} due to frame extraction failure\")\n",
    "                continue\n",
    "\n",
    "            # Append the data to respective lists\n",
    "            videos.append(frames)\n",
    "            labels.append(class_index)\n",
    "\n",
    "    # Convert lists to numpy arrays\n",
    "    if not videos:\n",
    "        raise ValueError(\"No valid videos were processed. Check dataset or parameters.\")\n",
    "    videos = np.asarray(videos)\n",
    "    labels = np.array(labels)\n",
    "\n",
    "    print(f\"Dataset created with {len(videos)} videos\")\n",
    "    print(f\"Features shape: {videos.shape}\")\n",
    "    print(f\"Labels shape: {labels.shape}\")\n",
    "\n",
    "    return videos, labels"
   ]
  },
  {
   "cell_type": "markdown",
   "id": "85483ff2",
   "metadata": {
    "papermill": {
     "duration": 0.010465,
     "end_time": "2025-07-06T08:26:10.035349",
     "exception": false,
     "start_time": "2025-07-06T08:26:10.024884",
     "status": "completed"
    },
    "tags": []
   },
   "source": [
    "## 🪄 Video Data Generator"
   ]
  },
  {
   "cell_type": "code",
   "execution_count": 7,
   "id": "0889dde4",
   "metadata": {
    "execution": {
     "iopub.execute_input": "2025-07-06T08:26:10.057977Z",
     "iopub.status.busy": "2025-07-06T08:26:10.057762Z",
     "iopub.status.idle": "2025-07-06T08:26:10.150755Z",
     "shell.execute_reply": "2025-07-06T08:26:10.150161Z"
    },
    "papermill": {
     "duration": 0.106326,
     "end_time": "2025-07-06T08:26:10.152066",
     "exception": false,
     "start_time": "2025-07-06T08:26:10.045740",
     "status": "completed"
    },
    "tags": []
   },
   "outputs": [],
   "source": [
    "from tensorflow.keras.utils import Sequence, to_categorical\n",
    "import tensorflow as tf\n",
    "import numpy as np\n",
    "import cv2\n",
    "\n",
    "\n",
    "\n",
    "\n",
    "class VideoDataGenerator(Sequence):\n",
    "    def __init__(self, videos, labels, batch_size, is_training=False):\n",
    "        self.videos = list(videos)  # List of video file paths\n",
    "        self.labels = list(labels)  # List or array of labels encoded\n",
    "        self.batch_size = batch_size\n",
    "        self.indices = np.arange(len(self.videos))  # For shuffling\n",
    "        self.is_training = is_training  # Flag to control whether augmentation is applied\n",
    "        self.temp_videos=[]\n",
    "        self.temp_labels=[]\n",
    "        \n",
    "        \n",
    "        print(f\"Total {len(videos)} videos and {len(labels)} classes\")\n",
    "\n",
    "    def __len__(self):\n",
    "        # Return the number of batches per epoch\n",
    "        return int(np.ceil(len(self.videos) / self.batch_size))\n",
    "\n",
    "    def __getitem__(self, idx):\n",
    "        # Get batch indices\n",
    "        batch_indices = self.indices[idx * self.batch_size:(idx + 1) * self.batch_size]\n",
    "        \n",
    "        # Handle case where batch_indices is empty\n",
    "        if len(batch_indices) == 0:\n",
    "            return np.array([], dtype=np.float32), np.array([], dtype=np.float32)\n",
    "        \n",
    "        # Initialize lists to store frames and labels\n",
    "        all_frames = []\n",
    "        all_labels = []\n",
    "        \n",
    "        # Process each video in the batch\n",
    "        for i, index in enumerate(batch_indices):\n",
    "            sequence = self.videos[index]\n",
    "            label = self.labels[index]\n",
    "            \n",
    "            # Load and process video\n",
    "            # sequence = frames_extraction(video_path)\n",
    "\n",
    "            # if sequence is not None:\n",
    "            #     # Apply augmentations: 1 original + 4 augmentations (horizontal flip, shear, rotation, noise)\n",
    "            #     augmented_sequences = [sequence]  # Add original sequence\n",
    "\n",
    "            #     if self.is_training:\n",
    "            #         # Apply augmentations\n",
    "            #         augmented_sequences.append(np.array(horizontal_flip(sequence)))  # Horizontal Flip\n",
    "            #         augmented_sequences.append(np.array(apply_shear_frames(sequence, shear_right=0)))  # Random Shear\n",
    "            #         augmented_sequences.append(np.array(apply_shear_frames(sequence, shear_right=1)))  # Random Rotation\n",
    "            #         augmented_sequences.append(np.array(noise_video(sequence)))  # Salt and Pepper Noise\n",
    "\n",
    "            #     # Add augmented sequences to the batch\n",
    "            #     all_frames.extend(augmented_sequences)\n",
    "            #     all_labels.extend([label] * len(augmented_sequences))  # Each augmentation has the same label\n",
    "\n",
    "            \n",
    "            # Append the sequence and label\n",
    "            all_frames.append(sequence)\n",
    "            all_labels.append(label)\n",
    "        \n",
    "        # Convert to numpy arrays\n",
    "        all_frames = np.array(all_frames, dtype=np.float32)\n",
    "        all_labels = np.array(all_labels)\n",
    "            \n",
    "        \n",
    "        return all_frames, all_labels\n",
    "    def add(self, new_videos, new_labels):\n",
    "        print(f\"Adding {len(new_videos)} videos with {len(new_labels)} classes.\")\n",
    "        self.temp_videos.extend(new_videos)\n",
    "        self.temp_labels.extend(new_labels)\n",
    "        print(f\"PENDING - Total {len(self.temp_videos)} videos and {len(self.temp_labels)} classes are waiting to be added...\")\n",
    "    \n",
    "    def confirm(self):\n",
    "        print(f\"Adding {len(self.temp_videos)} videos with {len(self.temp_labels)} classes.\")\n",
    "        self.videos.extend(self.temp_videos)\n",
    "        self.labels.extend(self.temp_labels)\n",
    "        print(f\"Successfully added - {len(self.temp_videos)} videos and {len(self.temp_labels)} classes.\")\n",
    "        self.temp_videos=[]\n",
    "        self.temp_labels=[]\n",
    "        self.indices = np.arange(len(self.videos))\n",
    "        print(f\"Now Total - {len(self.videos)} videos and {len(self.labels)} classes.\")\n",
    "        print(f\"PENDING for Augmentations - {len(self.temp_videos)} videos and {len(self.temp_labels)} classes.\")\n",
    "    \n",
    "    def on_epoch_end(self):\n",
    "        # Shuffle indices at the end of each epoch\n",
    "        np.random.shuffle(self.indices)\n",
    "\n",
    "    def as_dataset(self):\n",
    "        def generator():\n",
    "            for idx in range(len(self)):\n",
    "                frames, labels = self[idx]\n",
    "                # Skip empty batches\n",
    "                if frames.size == 0:\n",
    "                    continue\n",
    "                yield frames, labels\n",
    "        self.labels=np.array(self.labels)\n",
    "    \n",
    "        # Create a tf.data.Dataset\n",
    "        dataset = tf.data.Dataset.from_generator(\n",
    "            generator,\n",
    "            output_types=(tf.float32, tf.float32),\n",
    "            output_shapes=(\n",
    "                (None, SEQUENCE_LENGTH, IMAGE_HEIGHT, IMAGE_WIDTH, 3),\n",
    "                (None, NO_OF_CLASSES)\n",
    "            )\n",
    "        )\n",
    "        dataset = dataset.prefetch(tf.data.AUTOTUNE)\n",
    "        return dataset"
   ]
  },
  {
   "cell_type": "markdown",
   "id": "85e5efcc",
   "metadata": {
    "papermill": {
     "duration": 0.054923,
     "end_time": "2025-07-06T08:26:10.218282",
     "exception": false,
     "start_time": "2025-07-06T08:26:10.163359",
     "status": "completed"
    },
    "tags": []
   },
   "source": [
    "## Debug and Helpers"
   ]
  },
  {
   "cell_type": "markdown",
   "id": "ff2d3a03",
   "metadata": {
    "papermill": {
     "duration": 0.009378,
     "end_time": "2025-07-06T08:26:10.237360",
     "exception": false,
     "start_time": "2025-07-06T08:26:10.227982",
     "status": "completed"
    },
    "tags": []
   },
   "source": [
    "## 💫 Augmentation Helper function"
   ]
  },
  {
   "cell_type": "code",
   "execution_count": 8,
   "id": "5993d892",
   "metadata": {
    "execution": {
     "iopub.execute_input": "2025-07-06T08:26:10.257884Z",
     "iopub.status.busy": "2025-07-06T08:26:10.257196Z",
     "iopub.status.idle": "2025-07-06T08:26:10.261576Z",
     "shell.execute_reply": "2025-07-06T08:26:10.260998Z"
    },
    "papermill": {
     "duration": 0.015826,
     "end_time": "2025-07-06T08:26:10.262669",
     "exception": false,
     "start_time": "2025-07-06T08:26:10.246843",
     "status": "completed"
    },
    "tags": []
   },
   "outputs": [],
   "source": [
    "def apply_augmentation(augmentation_function, generator, confirm=False, *args, **kwargs):\n",
    "    \n",
    "    for i in range(len(generator)):\n",
    "        batch_videos, batch_labels = generator[i]\n",
    "        augmented_videos=[]\n",
    "        for videos in batch_videos:\n",
    "            augmented_videos.append(augmentation_function(videos, *args, **kwargs))\n",
    "        generator.add(augmented_videos, batch_labels)\n",
    "    if confirm:\n",
    "        generator.confirm()"
   ]
  },
  {
   "cell_type": "markdown",
   "id": "976c9dc2",
   "metadata": {
    "papermill": {
     "duration": 0.009159,
     "end_time": "2025-07-06T08:26:10.281231",
     "exception": false,
     "start_time": "2025-07-06T08:26:10.272072",
     "status": "completed"
    },
    "tags": []
   },
   "source": [
    "### Show Frames"
   ]
  },
  {
   "cell_type": "code",
   "execution_count": 9,
   "id": "d293d310",
   "metadata": {
    "execution": {
     "iopub.execute_input": "2025-07-06T08:26:10.301304Z",
     "iopub.status.busy": "2025-07-06T08:26:10.300998Z",
     "iopub.status.idle": "2025-07-06T08:26:10.304590Z",
     "shell.execute_reply": "2025-07-06T08:26:10.304067Z"
    },
    "papermill": {
     "duration": 0.015164,
     "end_time": "2025-07-06T08:26:10.305735",
     "exception": false,
     "start_time": "2025-07-06T08:26:10.290571",
     "status": "completed"
    },
    "tags": []
   },
   "outputs": [],
   "source": [
    "# show frame def\n",
    "import matplotlib.pyplot as plt\n",
    "\n",
    "def show_frame(frame):\n",
    "    plt.figure(figsize=(3,3))\n",
    "    plt.imshow(frame)\n",
    "    plt.axis(\"off\")\n",
    "    plt.tight_layout()"
   ]
  },
  {
   "cell_type": "markdown",
   "id": "239a3f46",
   "metadata": {
    "papermill": {
     "duration": 0.009843,
     "end_time": "2025-07-06T08:26:10.325036",
     "exception": false,
     "start_time": "2025-07-06T08:26:10.315193",
     "status": "completed"
    },
    "tags": []
   },
   "source": [
    "### Helper Function"
   ]
  },
  {
   "cell_type": "code",
   "execution_count": 10,
   "id": "d7017f09",
   "metadata": {
    "execution": {
     "iopub.execute_input": "2025-07-06T08:26:10.344449Z",
     "iopub.status.busy": "2025-07-06T08:26:10.344252Z",
     "iopub.status.idle": "2025-07-06T08:26:10.348269Z",
     "shell.execute_reply": "2025-07-06T08:26:10.347739Z"
    },
    "papermill": {
     "duration": 0.01501,
     "end_time": "2025-07-06T08:26:10.349366",
     "exception": false,
     "start_time": "2025-07-06T08:26:10.334356",
     "status": "completed"
    },
    "tags": []
   },
   "outputs": [],
   "source": [
    "def show_frame_vs(frame1, frame2, title1=\"Frame 1\", title2=\"Frame 2\"):\n",
    "    plt.figure(figsize=(10, 5))\n",
    "\n",
    "    # First frame\n",
    "    plt.subplot(1, 2, 1)\n",
    "    plt.imshow(frame1)\n",
    "    plt.title(title1)\n",
    "    plt.axis('off')\n",
    "\n",
    "    # Second frame\n",
    "    plt.subplot(1, 2, 2)\n",
    "    plt.imshow(frame2)\n",
    "    plt.title(title2)\n",
    "    plt.axis('off')\n",
    "\n",
    "    plt.tight_layout()\n",
    "    plt.show()"
   ]
  },
  {
   "cell_type": "code",
   "execution_count": 11,
   "id": "9e6452d4",
   "metadata": {
    "execution": {
     "iopub.execute_input": "2025-07-06T08:26:10.368678Z",
     "iopub.status.busy": "2025-07-06T08:26:10.368432Z",
     "iopub.status.idle": "2025-07-06T08:26:10.371727Z",
     "shell.execute_reply": "2025-07-06T08:26:10.371217Z"
    },
    "papermill": {
     "duration": 0.014112,
     "end_time": "2025-07-06T08:26:10.372735",
     "exception": false,
     "start_time": "2025-07-06T08:26:10.358623",
     "status": "completed"
    },
    "tags": []
   },
   "outputs": [],
   "source": [
    "# reusable video loop helper function\n",
    "def apply_function(function, videos, *arg, **kwargs):\n",
    "    new_videos=[]\n",
    "    \n",
    "    for video in videos:\n",
    "        new_videos.append(function(video, *arg, **kwargs))\n",
    "        \n",
    "    return new_videos"
   ]
  },
  {
   "cell_type": "code",
   "execution_count": 12,
   "id": "999c8018",
   "metadata": {
    "execution": {
     "iopub.execute_input": "2025-07-06T08:26:10.392310Z",
     "iopub.status.busy": "2025-07-06T08:26:10.392114Z",
     "iopub.status.idle": "2025-07-06T08:26:10.395940Z",
     "shell.execute_reply": "2025-07-06T08:26:10.395430Z"
    },
    "papermill": {
     "duration": 0.014834,
     "end_time": "2025-07-06T08:26:10.396954",
     "exception": false,
     "start_time": "2025-07-06T08:26:10.382120",
     "status": "completed"
    },
    "tags": []
   },
   "outputs": [],
   "source": [
    "# reusable video loop helper function\n",
    "def apply(function, videos, labels, *arg, **kwargs):\n",
    "    new_videos=[]\n",
    "    new_labels=[]\n",
    "    combined=zip(labels, videos)\n",
    "    \n",
    "    for label, video in combined:\n",
    "        new_videos.append(function(video, *arg, **kwargs))\n",
    "        new_labels.append(label)\n",
    "        \n",
    "    new_videos=np.asarray(new_videos)\n",
    "    new_labels=np.asarray(new_labels)\n",
    "    \n",
    "    return new_videos, new_labels"
   ]
  },
  {
   "cell_type": "markdown",
   "id": "c2e69675",
   "metadata": {
    "papermill": {
     "duration": 0.010447,
     "end_time": "2025-07-06T08:26:10.416591",
     "exception": false,
     "start_time": "2025-07-06T08:26:10.406144",
     "status": "completed"
    },
    "tags": []
   },
   "source": [
    "## Salt and Pepper Noise "
   ]
  },
  {
   "cell_type": "code",
   "execution_count": 13,
   "id": "3dec5a44",
   "metadata": {
    "execution": {
     "iopub.execute_input": "2025-07-06T08:26:10.436273Z",
     "iopub.status.busy": "2025-07-06T08:26:10.436078Z",
     "iopub.status.idle": "2025-07-06T08:26:10.440223Z",
     "shell.execute_reply": "2025-07-06T08:26:10.439552Z"
    },
    "papermill": {
     "duration": 0.015084,
     "end_time": "2025-07-06T08:26:10.441298",
     "exception": false,
     "start_time": "2025-07-06T08:26:10.426214",
     "status": "completed"
    },
    "tags": []
   },
   "outputs": [],
   "source": [
    "# Noise function def\n",
    "\n",
    "def noise_video(video,noise_factor=NOISE_FACTOR):\n",
    "    noisy_video=[]\n",
    "    for frame in video:\n",
    "        # Generate random noise\n",
    "        noise = np.random.rand(*frame.shape)  # Generate random noise\n",
    "        salt_pepper_noise = np.random.choice([0, 1], size=frame.shape, p=[1-noise_factor, noise_factor])\n",
    "        noisy_frame = frame * (1 - salt_pepper_noise) + salt_pepper_noise * np.random.rand(*frame.shape)\n",
    "        noisy_video.append(noisy_frame)\n",
    "    return np.array(noisy_video)"
   ]
  },
  {
   "cell_type": "markdown",
   "id": "f3feb8f1",
   "metadata": {
    "papermill": {
     "duration": 0.009202,
     "end_time": "2025-07-06T08:26:10.459860",
     "exception": false,
     "start_time": "2025-07-06T08:26:10.450658",
     "status": "completed"
    },
    "tags": []
   },
   "source": [
    "## Horizontal Flip"
   ]
  },
  {
   "cell_type": "code",
   "execution_count": 14,
   "id": "5a774577",
   "metadata": {
    "execution": {
     "iopub.execute_input": "2025-07-06T08:26:10.479181Z",
     "iopub.status.busy": "2025-07-06T08:26:10.478993Z",
     "iopub.status.idle": "2025-07-06T08:26:10.482139Z",
     "shell.execute_reply": "2025-07-06T08:26:10.481639Z"
    },
    "papermill": {
     "duration": 0.014036,
     "end_time": "2025-07-06T08:26:10.483149",
     "exception": false,
     "start_time": "2025-07-06T08:26:10.469113",
     "status": "completed"
    },
    "tags": []
   },
   "outputs": [],
   "source": [
    "# horizontal flip function def\n",
    "# Testing Flip feautes[0] -> first video\n",
    "def horizontal_flip(video):\n",
    "    return [tf.image.flip_left_right(frame) for frame in video]"
   ]
  },
  {
   "cell_type": "markdown",
   "id": "21e1554f",
   "metadata": {
    "papermill": {
     "duration": 0.009155,
     "end_time": "2025-07-06T08:26:10.501714",
     "exception": false,
     "start_time": "2025-07-06T08:26:10.492559",
     "status": "completed"
    },
    "tags": []
   },
   "source": [
    "## Random Shear"
   ]
  },
  {
   "cell_type": "code",
   "execution_count": 15,
   "id": "343daba3",
   "metadata": {
    "execution": {
     "iopub.execute_input": "2025-07-06T08:26:10.520947Z",
     "iopub.status.busy": "2025-07-06T08:26:10.520741Z",
     "iopub.status.idle": "2025-07-06T08:26:10.526046Z",
     "shell.execute_reply": "2025-07-06T08:26:10.525499Z"
    },
    "papermill": {
     "duration": 0.016069,
     "end_time": "2025-07-06T08:26:10.527037",
     "exception": false,
     "start_time": "2025-07-06T08:26:10.510968",
     "status": "completed"
    },
    "tags": []
   },
   "outputs": [],
   "source": [
    "# random shear function def\n",
    "import numpy as np\n",
    "import tensorflow as tf\n",
    "from scipy.ndimage import affine_transform\n",
    "\n",
    "def apply_shear_frames(frames, shear_right):\n",
    "    return [apply_shear(frame, shear_right) for frame in frames]\n",
    "\n",
    "def apply_shear(frame, shear_right=0):\n",
    "    frame_resized = tf.image.resize(frame, (IMAGE_HEIGHT, IMAGE_WIDTH)).numpy()\n",
    "    if shear_right:\n",
    "        shear_x = 0.09\n",
    "        shear_y = 0.1\n",
    "    else:\n",
    "        shear_x = -0.09\n",
    "        shear_y = 0.3\n",
    "    # Construct the affine matrix for scipy: inverse of the transformation matrix\n",
    "    # scipy applies the inverse transform matrix\n",
    "    shear_matrix = np.array([\n",
    "        [1, shear_x, 0],\n",
    "        [shear_y, 1, 0],\n",
    "        [0, 0, 1]\n",
    "    ], dtype=np.float32)\n",
    "\n",
    "    # Extract 2x2 part for affine_transform\n",
    "    matrix = shear_matrix[:2, :2]\n",
    "\n",
    "    # Offset (no translation)\n",
    "    offset = [0, 0]\n",
    "\n",
    "    # Apply affine transform on each channel separately\n",
    "    sheared = np.zeros_like(frame_resized)\n",
    "    for c in range(3):\n",
    "        sheared[..., c] = affine_transform(\n",
    "            frame_resized[..., c],\n",
    "            matrix=matrix,\n",
    "            offset=offset,\n",
    "            order=1,          # bilinear interpolation\n",
    "            mode='nearest'    # fill_mode\n",
    "        )\n",
    "    return sheared"
   ]
  },
  {
   "cell_type": "markdown",
   "id": "85ce2cb1",
   "metadata": {
    "papermill": {
     "duration": 0.009209,
     "end_time": "2025-07-06T08:26:10.545618",
     "exception": false,
     "start_time": "2025-07-06T08:26:10.536409",
     "status": "completed"
    },
    "tags": []
   },
   "source": [
    "# 📌 Model Related\n",
    "## 🗼 Model Architecture `create_model`"
   ]
  },
  {
   "cell_type": "code",
   "execution_count": 16,
   "id": "9af01c37",
   "metadata": {
    "execution": {
     "iopub.execute_input": "2025-07-06T08:26:10.565400Z",
     "iopub.status.busy": "2025-07-06T08:26:10.565206Z",
     "iopub.status.idle": "2025-07-06T08:26:10.581432Z",
     "shell.execute_reply": "2025-07-06T08:26:10.580982Z"
    },
    "papermill": {
     "duration": 0.027381,
     "end_time": "2025-07-06T08:26:10.582462",
     "exception": false,
     "start_time": "2025-07-06T08:26:10.555081",
     "status": "completed"
    },
    "tags": []
   },
   "outputs": [],
   "source": [
    "from tensorflow.keras.applications import Xception\n",
    "from tensorflow.keras.models import Sequential\n",
    "from tensorflow.keras.layers import GlobalAveragePooling2D, TimeDistributed, LSTM, Dropout, Dense\n",
    "from tensorflow.keras.regularizers import l2\n",
    "from tensorflow.keras.layers import BatchNormalization\n",
    "\n",
    "def create_xception_lstm_model(sequence_length, image_height, image_width, classes_list=None, dropout_rate=0.5):\n",
    "    if classes_list is None:\n",
    "        raise ValueError(\"classes_list must be provided to define the output layer size\")\n",
    "\n",
    "    try:\n",
    "        # Load Xception model with pre-trained ImageNet weights\n",
    "        print(\"Loading Xception base model...\")\n",
    "        xception = Xception(\n",
    "            weights='imagenet',\n",
    "            include_top=False,\n",
    "            input_shape=(image_height, image_width, 3),\n",
    "            name=\"Xception\"\n",
    "        )\n",
    "        # Freeze Xception layers\n",
    "        for layer in xception.layers[:-10]:  # Unfreeze last 10 layers\n",
    "            layer.trainable = False\n",
    "        for layer in xception.layers[-10:]:\n",
    "            layer.trainable = True\n",
    "\n",
    "        # Define the Sequential model\n",
    "        model = Sequential([\n",
    "            # InputLayer and TimeDistributed Xception\n",
    "            TimeDistributed(\n",
    "                xception,\n",
    "                input_shape=(sequence_length, image_height, image_width, 3),\n",
    "                name=\"time_distributed\"\n",
    "            ),\n",
    "            # TimeDistributed GlobalAveragePooling2D\n",
    "            TimeDistributed(GlobalAveragePooling2D(), name=\"time_distributed_1\"),\n",
    "            # LSTM layer with 128 units\n",
    "            LSTM(128, activation=\"tanh\", return_sequences=False, kernel_regularizer=l2(0.01), name=\"lstm\"),\n",
    "            \n",
    "            BatchNormalization(name=\"batch_normalization\"),\n",
    "            # Dropout after LSTM\n",
    "            Dropout(dropout_rate, name=\"dropout_lstm\"),\n",
    "            # Dense layer with 512 units\n",
    "            Dense(512, activation=\"relu\", kernel_regularizer=l2(0.01), name=\"dense\"),\n",
    "            # Dropout after Dense\n",
    "            Dropout(dropout_rate + 0.1, name=\"dropout_dense\"),\n",
    "            # Output Dense layer with softmax activation\n",
    "            Dense(len(classes_list), activation=\"softmax\", name=\"dense_1\")\n",
    "        ])\n",
    "        \n",
    "        # Print model summary\n",
    "        print(\"Model architecture created successfully!\")\n",
    "        model.summary()\n",
    "\n",
    "        return model\n",
    "\n",
    "    except Exception as e:\n",
    "        print(f\"Error creating model: {e}\")\n",
    "        return None"
   ]
  },
  {
   "cell_type": "code",
   "execution_count": 17,
   "id": "bc98e5c2",
   "metadata": {
    "execution": {
     "iopub.execute_input": "2025-07-06T08:26:10.601878Z",
     "iopub.status.busy": "2025-07-06T08:26:10.601654Z",
     "iopub.status.idle": "2025-07-06T08:26:16.621171Z",
     "shell.execute_reply": "2025-07-06T08:26:16.620376Z"
    },
    "papermill": {
     "duration": 6.030454,
     "end_time": "2025-07-06T08:26:16.622352",
     "exception": false,
     "start_time": "2025-07-06T08:26:10.591898",
     "status": "completed"
    },
    "tags": []
   },
   "outputs": [
    {
     "name": "stdout",
     "output_type": "stream",
     "text": [
      "Pre-loading Xception weights...\n"
     ]
    },
    {
     "name": "stderr",
     "output_type": "stream",
     "text": [
      "I0000 00:00:1751790373.335840      19 gpu_device.cc:2022] Created device /job:localhost/replica:0/task:0/device:GPU:0 with 13942 MB memory:  -> device: 0, name: Tesla T4, pci bus id: 0000:00:04.0, compute capability: 7.5\n",
      "I0000 00:00:1751790373.336500      19 gpu_device.cc:2022] Created device /job:localhost/replica:0/task:0/device:GPU:1 with 13942 MB memory:  -> device: 1, name: Tesla T4, pci bus id: 0000:00:05.0, compute capability: 7.5\n"
     ]
    },
    {
     "name": "stdout",
     "output_type": "stream",
     "text": [
      "Downloading data from https://storage.googleapis.com/tensorflow/keras-applications/xception/xception_weights_tf_dim_ordering_tf_kernels_notop.h5\n",
      "\u001b[1m83683744/83683744\u001b[0m \u001b[32m━━━━━━━━━━━━━━━━━━━━\u001b[0m\u001b[37m\u001b[0m \u001b[1m0s\u001b[0m 0us/step\n",
      "Weights loaded successfully!\n"
     ]
    }
   ],
   "source": [
    "# donwload model weights\n",
    "from tensorflow.keras.applications import Xception\n",
    "print(\"Pre-loading Xception weights...\")\n",
    "base_model = Xception(weights='imagenet', include_top=False, input_shape=(IMAGE_HEIGHT, IMAGE_WIDTH, 3))\n",
    "print(\"Weights loaded successfully!\")"
   ]
  },
  {
   "cell_type": "markdown",
   "id": "9c1160af",
   "metadata": {
    "papermill": {
     "duration": 0.009965,
     "end_time": "2025-07-06T08:26:16.643044",
     "exception": false,
     "start_time": "2025-07-06T08:26:16.633079",
     "status": "completed"
    },
    "tags": []
   },
   "source": [
    "# 📌 Execution\n",
    "## Creating Dataset\n",
    "The following functions are executed\n",
    "- `frame extraction`\n",
    "- `resize`\n",
    "\n",
    "which returns:\n",
    "- `features` - `np.array` of all the videos\n",
    "- `labels` - `np.array` of all the class labels"
   ]
  },
  {
   "cell_type": "code",
   "execution_count": 18,
   "id": "a01ea37f",
   "metadata": {
    "execution": {
     "iopub.execute_input": "2025-07-06T08:26:16.664355Z",
     "iopub.status.busy": "2025-07-06T08:26:16.663797Z",
     "iopub.status.idle": "2025-07-06T08:27:19.502301Z",
     "shell.execute_reply": "2025-07-06T08:27:19.501621Z"
    },
    "papermill": {
     "duration": 62.860865,
     "end_time": "2025-07-06T08:27:19.514088",
     "exception": false,
     "start_time": "2025-07-06T08:26:16.653223",
     "status": "completed"
    },
    "tags": []
   },
   "outputs": [
    {
     "name": "stdout",
     "output_type": "stream",
     "text": [
      "Extracting Data of Class: write on a paper\n",
      "Extracting Data of Class: use laptop\n",
      "Extracting Data of Class: read book\n",
      "Extracting Data of Class: sit still\n",
      "Extracting Data of Class: drink\n",
      "Extracting Data of Class: sit down\n",
      "Extracting Data of Class: use vacuum cleaner\n",
      "Extracting Data of Class: eat\n",
      "Extracting Data of Class: play guitar\n",
      "Extracting Data of Class: lie down on sofa\n",
      "Extracting Data of Class: stand up\n",
      "Extracting Data of Class: toss paper\n",
      "Extracting Data of Class: walk\n",
      "Extracting Data of Class: play game\n",
      "Extracting Data of Class: cheer up\n",
      "Extracting Data of Class: call cellphone\n",
      "Dataset created with 320 videos\n",
      "Features shape: (320, 10, 128, 128, 3)\n",
      "Labels shape: (320,)\n"
     ]
    },
    {
     "data": {
      "text/plain": [
       "((320, 10, 128, 128, 3), (320,))"
      ]
     },
     "execution_count": 18,
     "metadata": {},
     "output_type": "execute_result"
    }
   ],
   "source": [
    "# RUN Create the dataset with explicit parameters\n",
    "try:\n",
    "    videos, labels = create_dataset(\n",
    "        dataset_dir=DATASET_DIR,\n",
    "        classes_list=CLASSES_LIST,\n",
    "        sequence_length=SEQUENCE_LENGTH,\n",
    "        image_height=IMAGE_HEIGHT,\n",
    "        image_width=IMAGE_WIDTH,\n",
    "        # Limit to 10 videos per class to manage memory\n",
    "        augmentations=True,\n",
    "        max_videos_per_class=MAX_VIDEO_PER_CLASS\n",
    "    )\n",
    "except FileNotFoundError as e:\n",
    "    print(f\"Error: {e}\")\n",
    "except ValueError as e:\n",
    "    print(f\"Error: {e}\")\n",
    "except Exception as e:\n",
    "    print(f\"Unexpected error: {e}\")\n",
    "\n",
    "videos.shape, labels.shape"
   ]
  },
  {
   "cell_type": "code",
   "execution_count": 19,
   "id": "a57cad71",
   "metadata": {
    "execution": {
     "iopub.execute_input": "2025-07-06T08:27:19.536434Z",
     "iopub.status.busy": "2025-07-06T08:27:19.536203Z",
     "iopub.status.idle": "2025-07-06T08:27:19.540265Z",
     "shell.execute_reply": "2025-07-06T08:27:19.539550Z"
    },
    "papermill": {
     "duration": 0.016539,
     "end_time": "2025-07-06T08:27:19.541343",
     "exception": false,
     "start_time": "2025-07-06T08:27:19.524804",
     "status": "completed"
    },
    "tags": []
   },
   "outputs": [
    {
     "name": "stdout",
     "output_type": "stream",
     "text": [
      "Total 320 videos and 320 classes\n"
     ]
    }
   ],
   "source": [
    "video_generator = VideoDataGenerator(\n",
    "    videos=videos,\n",
    "    labels=labels,\n",
    "    batch_size=BATCH_SIZE\n",
    ")"
   ]
  },
  {
   "cell_type": "code",
   "execution_count": 20,
   "id": "efff3ec4",
   "metadata": {
    "execution": {
     "iopub.execute_input": "2025-07-06T08:27:19.563421Z",
     "iopub.status.busy": "2025-07-06T08:27:19.563223Z",
     "iopub.status.idle": "2025-07-06T08:27:19.584837Z",
     "shell.execute_reply": "2025-07-06T08:27:19.584169Z"
    },
    "papermill": {
     "duration": 0.033868,
     "end_time": "2025-07-06T08:27:19.586106",
     "exception": false,
     "start_time": "2025-07-06T08:27:19.552238",
     "status": "completed"
    },
    "tags": []
   },
   "outputs": [
    {
     "data": {
      "text/plain": [
       "((32, 10, 128, 128, 3), (32,))"
      ]
     },
     "execution_count": 20,
     "metadata": {},
     "output_type": "execute_result"
    }
   ],
   "source": [
    "videos, labels = video_generator[3]\n",
    "\n",
    "videos.shape, labels.shape"
   ]
  },
  {
   "cell_type": "code",
   "execution_count": 21,
   "id": "b3cfa770",
   "metadata": {
    "execution": {
     "iopub.execute_input": "2025-07-06T08:27:19.608891Z",
     "iopub.status.busy": "2025-07-06T08:27:19.608673Z",
     "iopub.status.idle": "2025-07-06T08:27:19.613084Z",
     "shell.execute_reply": "2025-07-06T08:27:19.612376Z"
    },
    "papermill": {
     "duration": 0.016875,
     "end_time": "2025-07-06T08:27:19.614139",
     "exception": false,
     "start_time": "2025-07-06T08:27:19.597264",
     "status": "completed"
    },
    "tags": []
   },
   "outputs": [
    {
     "data": {
      "text/plain": [
       "320"
      ]
     },
     "execution_count": 21,
     "metadata": {},
     "output_type": "execute_result"
    }
   ],
   "source": [
    "len(video_generator.videos) "
   ]
  },
  {
   "cell_type": "code",
   "execution_count": 22,
   "id": "399a1c6e",
   "metadata": {
    "execution": {
     "iopub.execute_input": "2025-07-06T08:27:19.636226Z",
     "iopub.status.busy": "2025-07-06T08:27:19.636028Z",
     "iopub.status.idle": "2025-07-06T08:27:19.640244Z",
     "shell.execute_reply": "2025-07-06T08:27:19.639563Z"
    },
    "papermill": {
     "duration": 0.016659,
     "end_time": "2025-07-06T08:27:19.641407",
     "exception": false,
     "start_time": "2025-07-06T08:27:19.624748",
     "status": "completed"
    },
    "tags": []
   },
   "outputs": [
    {
     "data": {
      "text/plain": [
       "10"
      ]
     },
     "execution_count": 22,
     "metadata": {},
     "output_type": "execute_result"
    }
   ],
   "source": [
    "len(video_generator)"
   ]
  },
  {
   "cell_type": "markdown",
   "id": "974c2cfd",
   "metadata": {
    "papermill": {
     "duration": 0.010748,
     "end_time": "2025-07-06T08:27:19.663026",
     "exception": false,
     "start_time": "2025-07-06T08:27:19.652278",
     "status": "completed"
    },
    "tags": []
   },
   "source": [
    "## Apply ***horizontal flip*** (Augmentation)"
   ]
  },
  {
   "cell_type": "code",
   "execution_count": 23,
   "id": "89bd762b",
   "metadata": {
    "execution": {
     "iopub.execute_input": "2025-07-06T08:27:19.686044Z",
     "iopub.status.busy": "2025-07-06T08:27:19.685562Z",
     "iopub.status.idle": "2025-07-06T08:27:21.744269Z",
     "shell.execute_reply": "2025-07-06T08:27:21.743343Z"
    },
    "papermill": {
     "duration": 2.071634,
     "end_time": "2025-07-06T08:27:21.745488",
     "exception": false,
     "start_time": "2025-07-06T08:27:19.673854",
     "status": "completed"
    },
    "tags": []
   },
   "outputs": [
    {
     "name": "stdout",
     "output_type": "stream",
     "text": [
      "Adding 32 videos with 32 classes.\n",
      "PENDING - Total 32 videos and 32 classes are waiting to be added...\n",
      "Adding 32 videos with 32 classes.\n",
      "PENDING - Total 64 videos and 64 classes are waiting to be added...\n",
      "Adding 32 videos with 32 classes.\n",
      "PENDING - Total 96 videos and 96 classes are waiting to be added...\n",
      "Adding 32 videos with 32 classes.\n",
      "PENDING - Total 128 videos and 128 classes are waiting to be added...\n",
      "Adding 32 videos with 32 classes.\n",
      "PENDING - Total 160 videos and 160 classes are waiting to be added...\n",
      "Adding 32 videos with 32 classes.\n",
      "PENDING - Total 192 videos and 192 classes are waiting to be added...\n",
      "Adding 32 videos with 32 classes.\n",
      "PENDING - Total 224 videos and 224 classes are waiting to be added...\n",
      "Adding 32 videos with 32 classes.\n",
      "PENDING - Total 256 videos and 256 classes are waiting to be added...\n",
      "Adding 32 videos with 32 classes.\n",
      "PENDING - Total 288 videos and 288 classes are waiting to be added...\n",
      "Adding 32 videos with 32 classes.\n",
      "PENDING - Total 320 videos and 320 classes are waiting to be added...\n"
     ]
    }
   ],
   "source": [
    "apply_augmentation(horizontal_flip, video_generator)"
   ]
  },
  {
   "cell_type": "code",
   "execution_count": 24,
   "id": "affaaf07",
   "metadata": {
    "execution": {
     "iopub.execute_input": "2025-07-06T08:27:21.769280Z",
     "iopub.status.busy": "2025-07-06T08:27:21.769054Z",
     "iopub.status.idle": "2025-07-06T08:27:21.773125Z",
     "shell.execute_reply": "2025-07-06T08:27:21.772293Z"
    },
    "papermill": {
     "duration": 0.016948,
     "end_time": "2025-07-06T08:27:21.774196",
     "exception": false,
     "start_time": "2025-07-06T08:27:21.757248",
     "status": "completed"
    },
    "tags": []
   },
   "outputs": [
    {
     "name": "stdout",
     "output_type": "stream",
     "text": [
      "Checking Total Videos and Class Count: 320, 320\n",
      "PENDING Total Videos and Class Count: 320, 320\n"
     ]
    }
   ],
   "source": [
    "print(f\"Checking Total Videos and Class Count: {len(video_generator.videos)}, {len(video_generator.labels)}\")\n",
    "print(f\"PENDING Total Videos and Class Count: {len(video_generator.temp_videos)}, {len(video_generator.temp_labels)}\")"
   ]
  },
  {
   "cell_type": "markdown",
   "id": "883517f1",
   "metadata": {
    "papermill": {
     "duration": 0.010917,
     "end_time": "2025-07-06T08:27:21.796192",
     "exception": false,
     "start_time": "2025-07-06T08:27:21.785275",
     "status": "completed"
    },
    "tags": []
   },
   "source": [
    "## Apply ***Noise*** (Augmentation)"
   ]
  },
  {
   "cell_type": "code",
   "execution_count": 25,
   "id": "fc8572c9",
   "metadata": {
    "execution": {
     "iopub.execute_input": "2025-07-06T08:27:21.818986Z",
     "iopub.status.busy": "2025-07-06T08:27:21.818777Z",
     "iopub.status.idle": "2025-07-06T08:27:29.307641Z",
     "shell.execute_reply": "2025-07-06T08:27:29.306682Z"
    },
    "papermill": {
     "duration": 7.501745,
     "end_time": "2025-07-06T08:27:29.308902",
     "exception": false,
     "start_time": "2025-07-06T08:27:21.807157",
     "status": "completed"
    },
    "tags": []
   },
   "outputs": [
    {
     "name": "stdout",
     "output_type": "stream",
     "text": [
      "Adding 32 videos with 32 classes.\n",
      "PENDING - Total 352 videos and 352 classes are waiting to be added...\n",
      "Adding 32 videos with 32 classes.\n",
      "PENDING - Total 384 videos and 384 classes are waiting to be added...\n",
      "Adding 32 videos with 32 classes.\n",
      "PENDING - Total 416 videos and 416 classes are waiting to be added...\n",
      "Adding 32 videos with 32 classes.\n",
      "PENDING - Total 448 videos and 448 classes are waiting to be added...\n",
      "Adding 32 videos with 32 classes.\n",
      "PENDING - Total 480 videos and 480 classes are waiting to be added...\n",
      "Adding 32 videos with 32 classes.\n",
      "PENDING - Total 512 videos and 512 classes are waiting to be added...\n",
      "Adding 32 videos with 32 classes.\n",
      "PENDING - Total 544 videos and 544 classes are waiting to be added...\n",
      "Adding 32 videos with 32 classes.\n",
      "PENDING - Total 576 videos and 576 classes are waiting to be added...\n",
      "Adding 32 videos with 32 classes.\n",
      "PENDING - Total 608 videos and 608 classes are waiting to be added...\n",
      "Adding 32 videos with 32 classes.\n",
      "PENDING - Total 640 videos and 640 classes are waiting to be added...\n"
     ]
    }
   ],
   "source": [
    "apply_augmentation(noise_video, video_generator)"
   ]
  },
  {
   "cell_type": "code",
   "execution_count": 26,
   "id": "fa90a72c",
   "metadata": {
    "execution": {
     "iopub.execute_input": "2025-07-06T08:27:29.335728Z",
     "iopub.status.busy": "2025-07-06T08:27:29.335312Z",
     "iopub.status.idle": "2025-07-06T08:27:29.339502Z",
     "shell.execute_reply": "2025-07-06T08:27:29.338742Z"
    },
    "papermill": {
     "duration": 0.018447,
     "end_time": "2025-07-06T08:27:29.340565",
     "exception": false,
     "start_time": "2025-07-06T08:27:29.322118",
     "status": "completed"
    },
    "tags": []
   },
   "outputs": [
    {
     "name": "stdout",
     "output_type": "stream",
     "text": [
      "Checking Total Videos and Class Count: 320, 320\n",
      "PENDING Total Videos and Class Count: 640, 640\n"
     ]
    }
   ],
   "source": [
    "print(f\"Checking Total Videos and Class Count: {len(video_generator.videos)}, {len(video_generator.labels)}\")\n",
    "print(f\"PENDING Total Videos and Class Count: {len(video_generator.temp_videos)}, {len(video_generator.temp_labels)}\")"
   ]
  },
  {
   "cell_type": "markdown",
   "id": "0bd12661",
   "metadata": {
    "papermill": {
     "duration": 0.011779,
     "end_time": "2025-07-06T08:27:29.364392",
     "exception": false,
     "start_time": "2025-07-06T08:27:29.352613",
     "status": "completed"
    },
    "tags": []
   },
   "source": [
    "## Apply ***Random Shear x2*** (Augmentation)"
   ]
  },
  {
   "cell_type": "code",
   "execution_count": 27,
   "id": "bb48dfee",
   "metadata": {
    "execution": {
     "iopub.execute_input": "2025-07-06T08:27:29.389020Z",
     "iopub.status.busy": "2025-07-06T08:27:29.388815Z",
     "iopub.status.idle": "2025-07-06T08:27:54.425454Z",
     "shell.execute_reply": "2025-07-06T08:27:54.424637Z"
    },
    "papermill": {
     "duration": 25.050325,
     "end_time": "2025-07-06T08:27:54.426785",
     "exception": false,
     "start_time": "2025-07-06T08:27:29.376460",
     "status": "completed"
    },
    "tags": []
   },
   "outputs": [
    {
     "name": "stdout",
     "output_type": "stream",
     "text": [
      "Adding 32 videos with 32 classes.\n",
      "PENDING - Total 672 videos and 672 classes are waiting to be added...\n",
      "Adding 32 videos with 32 classes.\n",
      "PENDING - Total 704 videos and 704 classes are waiting to be added...\n",
      "Adding 32 videos with 32 classes.\n",
      "PENDING - Total 736 videos and 736 classes are waiting to be added...\n",
      "Adding 32 videos with 32 classes.\n",
      "PENDING - Total 768 videos and 768 classes are waiting to be added...\n",
      "Adding 32 videos with 32 classes.\n",
      "PENDING - Total 800 videos and 800 classes are waiting to be added...\n",
      "Adding 32 videos with 32 classes.\n",
      "PENDING - Total 832 videos and 832 classes are waiting to be added...\n",
      "Adding 32 videos with 32 classes.\n",
      "PENDING - Total 864 videos and 864 classes are waiting to be added...\n",
      "Adding 32 videos with 32 classes.\n",
      "PENDING - Total 896 videos and 896 classes are waiting to be added...\n",
      "Adding 32 videos with 32 classes.\n",
      "PENDING - Total 928 videos and 928 classes are waiting to be added...\n",
      "Adding 32 videos with 32 classes.\n",
      "PENDING - Total 960 videos and 960 classes are waiting to be added...\n",
      "Adding 32 videos with 32 classes.\n",
      "PENDING - Total 992 videos and 992 classes are waiting to be added...\n",
      "Adding 32 videos with 32 classes.\n",
      "PENDING - Total 1024 videos and 1024 classes are waiting to be added...\n",
      "Adding 32 videos with 32 classes.\n",
      "PENDING - Total 1056 videos and 1056 classes are waiting to be added...\n",
      "Adding 32 videos with 32 classes.\n",
      "PENDING - Total 1088 videos and 1088 classes are waiting to be added...\n",
      "Adding 32 videos with 32 classes.\n",
      "PENDING - Total 1120 videos and 1120 classes are waiting to be added...\n",
      "Adding 32 videos with 32 classes.\n",
      "PENDING - Total 1152 videos and 1152 classes are waiting to be added...\n",
      "Adding 32 videos with 32 classes.\n",
      "PENDING - Total 1184 videos and 1184 classes are waiting to be added...\n",
      "Adding 32 videos with 32 classes.\n",
      "PENDING - Total 1216 videos and 1216 classes are waiting to be added...\n",
      "Adding 32 videos with 32 classes.\n",
      "PENDING - Total 1248 videos and 1248 classes are waiting to be added...\n",
      "Adding 32 videos with 32 classes.\n",
      "PENDING - Total 1280 videos and 1280 classes are waiting to be added...\n"
     ]
    }
   ],
   "source": [
    "apply_augmentation(apply_shear_frames, video_generator, shear_right=0)\n",
    "apply_augmentation(apply_shear_frames, video_generator, shear_right=1)"
   ]
  },
  {
   "cell_type": "code",
   "execution_count": 28,
   "id": "391df273",
   "metadata": {
    "execution": {
     "iopub.execute_input": "2025-07-06T08:27:54.455405Z",
     "iopub.status.busy": "2025-07-06T08:27:54.454786Z",
     "iopub.status.idle": "2025-07-06T08:27:54.458780Z",
     "shell.execute_reply": "2025-07-06T08:27:54.458207Z"
    },
    "papermill": {
     "duration": 0.018685,
     "end_time": "2025-07-06T08:27:54.459847",
     "exception": false,
     "start_time": "2025-07-06T08:27:54.441162",
     "status": "completed"
    },
    "tags": []
   },
   "outputs": [
    {
     "name": "stdout",
     "output_type": "stream",
     "text": [
      "Checking Total Videos and Class Count: 320, 320\n",
      "PENDING Total Videos and Class Count: 1280, 1280\n"
     ]
    }
   ],
   "source": [
    "print(f\"Checking Total Videos and Class Count: {len(video_generator.videos)}, {len(video_generator.labels)}\")\n",
    "print(f\"PENDING Total Videos and Class Count: {len(video_generator.temp_videos)}, {len(video_generator.temp_labels)}\")"
   ]
  },
  {
   "cell_type": "code",
   "execution_count": 29,
   "id": "e8194faf",
   "metadata": {
    "execution": {
     "iopub.execute_input": "2025-07-06T08:27:54.486422Z",
     "iopub.status.busy": "2025-07-06T08:27:54.486016Z",
     "iopub.status.idle": "2025-07-06T08:27:54.489500Z",
     "shell.execute_reply": "2025-07-06T08:27:54.488648Z"
    },
    "papermill": {
     "duration": 0.018102,
     "end_time": "2025-07-06T08:27:54.490483",
     "exception": false,
     "start_time": "2025-07-06T08:27:54.472381",
     "status": "completed"
    },
    "tags": []
   },
   "outputs": [
    {
     "name": "stdout",
     "output_type": "stream",
     "text": [
      "Adding 1280 videos with 1280 classes.\n",
      "Successfully added - 1280 videos and 1280 classes.\n",
      "Now Total - 1600 videos and 1600 classes.\n",
      "PENDING for Augmentations - 0 videos and 0 classes.\n"
     ]
    }
   ],
   "source": [
    "# confirm changes to generator\n",
    "video_generator.confirm()"
   ]
  },
  {
   "cell_type": "code",
   "execution_count": 30,
   "id": "32ab7a4b",
   "metadata": {
    "execution": {
     "iopub.execute_input": "2025-07-06T08:27:54.517405Z",
     "iopub.status.busy": "2025-07-06T08:27:54.516885Z",
     "iopub.status.idle": "2025-07-06T08:27:54.520780Z",
     "shell.execute_reply": "2025-07-06T08:27:54.520089Z"
    },
    "papermill": {
     "duration": 0.018631,
     "end_time": "2025-07-06T08:27:54.521944",
     "exception": false,
     "start_time": "2025-07-06T08:27:54.503313",
     "status": "completed"
    },
    "tags": []
   },
   "outputs": [
    {
     "name": "stdout",
     "output_type": "stream",
     "text": [
      "Checking Video Generator Total Videos and Class Count: 1600, 1600\n"
     ]
    }
   ],
   "source": [
    "print(f\"Checking Video Generator Total Videos and Class Count: {len(video_generator.videos)}, {len(video_generator.labels)}\")"
   ]
  },
  {
   "cell_type": "markdown",
   "id": "28090894",
   "metadata": {
    "papermill": {
     "duration": 0.012921,
     "end_time": "2025-07-06T08:27:54.547880",
     "exception": false,
     "start_time": "2025-07-06T08:27:54.534959",
     "status": "completed"
    },
    "tags": []
   },
   "source": [
    "## Cheking (Output)"
   ]
  },
  {
   "cell_type": "code",
   "execution_count": 31,
   "id": "6d61bdb1",
   "metadata": {
    "execution": {
     "iopub.execute_input": "2025-07-06T08:27:54.574699Z",
     "iopub.status.busy": "2025-07-06T08:27:54.574171Z",
     "iopub.status.idle": "2025-07-06T08:27:54.922516Z",
     "shell.execute_reply": "2025-07-06T08:27:54.921832Z"
    },
    "papermill": {
     "duration": 0.364297,
     "end_time": "2025-07-06T08:27:54.925079",
     "exception": false,
     "start_time": "2025-07-06T08:27:54.560782",
     "status": "completed"
    },
    "tags": []
   },
   "outputs": [
    {
     "name": "stdout",
     "output_type": "stream",
     "text": [
      "(32, 10, 128, 128, 3) (32,)\n"
     ]
    },
    {
     "data": {
      "image/png": "[encoded data removed]",
      "text/plain": [
       "<Figure size 1000x500 with 2 Axes>"
      ]
     },
     "metadata": {},
     "output_type": "display_data"
    },
    {
     "name": "stdout",
     "output_type": "stream",
     "text": [
      "Might be two different action, but to check the flipping focus on the door behind.\n"
     ]
    }
   ],
   "source": [
    "# check horizontal flips\n",
    "videos, labels = video_generator[7]\n",
    "videos1, labels1 = video_generator[1]\n",
    "\n",
    "print(videos.shape, labels.shape)\n",
    "\n",
    "show_frame_vs(videos[0,0],videos1[1,0], title1=\"Flipped Frame 1\", title2=\"Non Flipped Frame 1\")\n",
    "print(\"Might be two different action, but to check the flipping focus on the door behind.\")"
   ]
  },
  {
   "cell_type": "markdown",
   "id": "629d59f4",
   "metadata": {
    "papermill": {
     "duration": 0.015002,
     "end_time": "2025-07-06T08:27:54.955635",
     "exception": false,
     "start_time": "2025-07-06T08:27:54.940633",
     "status": "completed"
    },
    "tags": []
   },
   "source": [
    "# 🧪 Test Augmentation (Output)\n",
    "## 🖼️ Horizontal Flip Output"
   ]
  },
  {
   "cell_type": "code",
   "execution_count": 32,
   "id": "b9c2a05a",
   "metadata": {
    "execution": {
     "iopub.execute_input": "2025-07-06T08:27:54.986005Z",
     "iopub.status.busy": "2025-07-06T08:27:54.985786Z",
     "iopub.status.idle": "2025-07-06T08:27:54.988682Z",
     "shell.execute_reply": "2025-07-06T08:27:54.988150Z"
    },
    "papermill": {
     "duration": 0.019281,
     "end_time": "2025-07-06T08:27:54.989663",
     "exception": false,
     "start_time": "2025-07-06T08:27:54.970382",
     "status": "completed"
    },
    "tags": []
   },
   "outputs": [],
   "source": [
    "# flipped_video_1 = horizontal_flip(features[0])\n",
    "\n",
    "# flipped_video_1=np.asarray(flipped_video_1)\n",
    "\n",
    "# show_frame(flipped_video_1[0])\n",
    "# flipped_video_1.shape"
   ]
  },
  {
   "cell_type": "markdown",
   "id": "64f69211",
   "metadata": {
    "papermill": {
     "duration": 0.015122,
     "end_time": "2025-07-06T08:27:55.019792",
     "exception": false,
     "start_time": "2025-07-06T08:27:55.004670",
     "status": "completed"
    },
    "tags": []
   },
   "source": [
    "## 🖼️ Salt and Pepper Noise Output"
   ]
  },
  {
   "cell_type": "code",
   "execution_count": 33,
   "id": "e831d668",
   "metadata": {
    "execution": {
     "iopub.execute_input": "2025-07-06T08:27:55.050200Z",
     "iopub.status.busy": "2025-07-06T08:27:55.050017Z",
     "iopub.status.idle": "2025-07-06T08:27:55.053031Z",
     "shell.execute_reply": "2025-07-06T08:27:55.052362Z"
    },
    "papermill": {
     "duration": 0.019611,
     "end_time": "2025-07-06T08:27:55.054173",
     "exception": false,
     "start_time": "2025-07-06T08:27:55.034562",
     "status": "completed"
    },
    "tags": []
   },
   "outputs": [],
   "source": [
    "# noised_video = noise_video(features[0])\n",
    "\n",
    "# print(noised_video.shape)\n",
    "# show_frame(noised_video[0])"
   ]
  },
  {
   "cell_type": "markdown",
   "id": "9a391274",
   "metadata": {
    "papermill": {
     "duration": 0.015547,
     "end_time": "2025-07-06T08:27:55.084661",
     "exception": false,
     "start_time": "2025-07-06T08:27:55.069114",
     "status": "completed"
    },
    "tags": []
   },
   "source": [
    "## 🖼️ Random Shear Output"
   ]
  },
  {
   "cell_type": "code",
   "execution_count": 34,
   "id": "922af272",
   "metadata": {
    "execution": {
     "iopub.execute_input": "2025-07-06T08:27:55.115288Z",
     "iopub.status.busy": "2025-07-06T08:27:55.114828Z",
     "iopub.status.idle": "2025-07-06T08:27:55.118087Z",
     "shell.execute_reply": "2025-07-06T08:27:55.117432Z"
    },
    "papermill": {
     "duration": 0.019793,
     "end_time": "2025-07-06T08:27:55.119207",
     "exception": false,
     "start_time": "2025-07-06T08:27:55.099414",
     "status": "completed"
    },
    "tags": []
   },
   "outputs": [],
   "source": [
    "# print(features.shape)\n",
    "\n",
    "# sheared_1 = apply_shear_frames(features[0], shear_right=0)\n",
    "# sheared_2 = apply_shear_frames(features[0], shear_right=1)\n",
    "\n",
    "# sheared_1 = np.asarray(sheared_1)\n",
    "# sheared_2 = np.asarray(sheared_2)\n",
    "\n",
    "# print(sheared_1.shape)\n",
    "# show_frame(sheared_1[0])\n",
    "# show_frame(sheared_2[0])"
   ]
  },
  {
   "cell_type": "markdown",
   "id": "ab49baa5",
   "metadata": {
    "papermill": {
     "duration": 0.014582,
     "end_time": "2025-07-06T08:27:55.148750",
     "exception": false,
     "start_time": "2025-07-06T08:27:55.134168",
     "status": "completed"
    },
    "tags": []
   },
   "source": [
    "# 📌 Preparing Data for Training"
   ]
  },
  {
   "cell_type": "code",
   "execution_count": 35,
   "id": "150943a3",
   "metadata": {
    "execution": {
     "iopub.execute_input": "2025-07-06T08:27:55.178778Z",
     "iopub.status.busy": "2025-07-06T08:27:55.178545Z",
     "iopub.status.idle": "2025-07-06T08:27:55.624825Z",
     "shell.execute_reply": "2025-07-06T08:27:55.624071Z"
    },
    "papermill": {
     "duration": 0.465665,
     "end_time": "2025-07-06T08:27:55.629093",
     "exception": false,
     "start_time": "2025-07-06T08:27:55.163428",
     "status": "completed"
    },
    "tags": []
   },
   "outputs": [],
   "source": [
    "# Clear previous session to free memory\n",
    "import gc\n",
    "\n",
    "gc.collect()\n",
    "tf.keras.backend.clear_session()"
   ]
  },
  {
   "cell_type": "markdown",
   "id": "8ccd8344",
   "metadata": {
    "papermill": {
     "duration": 0.014865,
     "end_time": "2025-07-06T08:27:55.659513",
     "exception": false,
     "start_time": "2025-07-06T08:27:55.644648",
     "status": "completed"
    },
    "tags": []
   },
   "source": [
    "## Splitting data for ***Trainig*** and ***Testing***"
   ]
  },
  {
   "cell_type": "code",
   "execution_count": 36,
   "id": "99f7c671",
   "metadata": {
    "execution": {
     "iopub.execute_input": "2025-07-06T08:27:55.689851Z",
     "iopub.status.busy": "2025-07-06T08:27:55.689644Z",
     "iopub.status.idle": "2025-07-06T08:27:57.465403Z",
     "shell.execute_reply": "2025-07-06T08:27:57.464760Z"
    },
    "papermill": {
     "duration": 1.792304,
     "end_time": "2025-07-06T08:27:57.466537",
     "exception": false,
     "start_time": "2025-07-06T08:27:55.674233",
     "status": "completed"
    },
    "tags": []
   },
   "outputs": [
    {
     "data": {
      "text/plain": [
       "((1600, 10, 128, 128, 3), (1600,))"
      ]
     },
     "execution_count": 36,
     "metadata": {},
     "output_type": "execute_result"
    }
   ],
   "source": [
    "videos = video_generator.videos\n",
    "labels = video_generator.labels\n",
    "\n",
    "videos = np.array(videos, dtype='float32')\n",
    "labels = np.array(labels)\n",
    "\n",
    "videos.shape, labels.shape"
   ]
  },
  {
   "cell_type": "code",
   "execution_count": 37,
   "id": "28ebb5f9",
   "metadata": {
    "execution": {
     "iopub.execute_input": "2025-07-06T08:27:57.498170Z",
     "iopub.status.busy": "2025-07-06T08:27:57.497788Z",
     "iopub.status.idle": "2025-07-06T08:27:57.502296Z",
     "shell.execute_reply": "2025-07-06T08:27:57.501772Z"
    },
    "papermill": {
     "duration": 0.021102,
     "end_time": "2025-07-06T08:27:57.503340",
     "exception": false,
     "start_time": "2025-07-06T08:27:57.482238",
     "status": "completed"
    },
    "tags": []
   },
   "outputs": [
    {
     "data": {
      "text/plain": [
       "(1600, 16)"
      ]
     },
     "execution_count": 37,
     "metadata": {},
     "output_type": "execute_result"
    }
   ],
   "source": [
    "from tensorflow.keras.utils import to_categorical\n",
    "\n",
    "one_hot_encoded_labels = to_categorical(labels)\n",
    "\n",
    "one_hot_encoded_labels.shape"
   ]
  },
  {
   "cell_type": "code",
   "execution_count": 38,
   "id": "2ac03bf9",
   "metadata": {
    "execution": {
     "iopub.execute_input": "2025-07-06T08:27:57.534086Z",
     "iopub.status.busy": "2025-07-06T08:27:57.533904Z",
     "iopub.status.idle": "2025-07-06T08:27:57.754319Z",
     "shell.execute_reply": "2025-07-06T08:27:57.753777Z"
    },
    "papermill": {
     "duration": 0.23693,
     "end_time": "2025-07-06T08:27:57.755373",
     "exception": false,
     "start_time": "2025-07-06T08:27:57.518443",
     "status": "completed"
    },
    "tags": []
   },
   "outputs": [
    {
     "data": {
      "text/plain": [
       "0"
      ]
     },
     "execution_count": 38,
     "metadata": {},
     "output_type": "execute_result"
    }
   ],
   "source": [
    "gc.collect()"
   ]
  },
  {
   "cell_type": "code",
   "execution_count": 39,
   "id": "276fa6bb",
   "metadata": {
    "execution": {
     "iopub.execute_input": "2025-07-06T08:27:57.787244Z",
     "iopub.status.busy": "2025-07-06T08:27:57.786818Z",
     "iopub.status.idle": "2025-07-06T08:27:58.947807Z",
     "shell.execute_reply": "2025-07-06T08:27:58.947076Z"
    },
    "papermill": {
     "duration": 1.177962,
     "end_time": "2025-07-06T08:27:58.949063",
     "exception": false,
     "start_time": "2025-07-06T08:27:57.771101",
     "status": "completed"
    },
    "tags": []
   },
   "outputs": [
    {
     "data": {
      "text/plain": [
       "((1280, 10, 128, 128, 3), (1280, 16), (320, 10, 128, 128, 3), (320, 16))"
      ]
     },
     "execution_count": 39,
     "metadata": {},
     "output_type": "execute_result"
    }
   ],
   "source": [
    "# RUN Split the Data into Train ( 75% ) and Test Set ( 25% ).\n",
    "from sklearn.model_selection import train_test_split\n",
    "features_train, features_test, labels_train, labels_test = train_test_split(videos,\n",
    "                                                                            one_hot_encoded_labels,\n",
    "                                                                            test_size = TEST_SIZE,\n",
    "                                                                            shuffle = True,\n",
    "                                                                            random_state = seed_constant)\n",
    "\n",
    "features_train.shape, labels_train.shape, features_test.shape, labels_test.shape"
   ]
  },
  {
   "cell_type": "markdown",
   "id": "82304fa9",
   "metadata": {
    "papermill": {
     "duration": 0.014875,
     "end_time": "2025-07-06T08:27:58.979696",
     "exception": false,
     "start_time": "2025-07-06T08:27:58.964821",
     "status": "completed"
    },
    "tags": []
   },
   "source": [
    "## Splitting data for ***Training Set*** and ***Validation Set***"
   ]
  },
  {
   "cell_type": "code",
   "execution_count": 40,
   "id": "2a80630a",
   "metadata": {
    "execution": {
     "iopub.execute_input": "2025-07-06T08:27:59.010925Z",
     "iopub.status.busy": "2025-07-06T08:27:59.010517Z",
     "iopub.status.idle": "2025-07-06T08:27:59.015753Z",
     "shell.execute_reply": "2025-07-06T08:27:59.015196Z"
    },
    "papermill": {
     "duration": 0.022038,
     "end_time": "2025-07-06T08:27:59.016798",
     "exception": false,
     "start_time": "2025-07-06T08:27:58.994760",
     "status": "completed"
    },
    "tags": []
   },
   "outputs": [
    {
     "data": {
      "text/plain": [
       "((1024, 10, 128, 128, 3), (1024, 16), (256, 10, 128, 128, 3), (256, 16))"
      ]
     },
     "execution_count": 40,
     "metadata": {},
     "output_type": "execute_result"
    }
   ],
   "source": [
    "# Assuming features_train and labels_train are defined\n",
    "train_set = 1-VALIDATION_SPLIT\n",
    "\n",
    "train_video_frames, val_video_frames = features_train[:int(train_set * len(features_train))], features_train[int(train_set * len(features_train)):]\n",
    "train_labels, val_labels = labels_train[:int(train_set * len(labels_train))], labels_train[int(train_set * len(labels_train)):]\n",
    "\n",
    "train_video_frames.shape, train_labels.shape, val_video_frames.shape, val_labels.shape"
   ]
  },
  {
   "cell_type": "markdown",
   "id": "19c49972",
   "metadata": {
    "papermill": {
     "duration": 0.014933,
     "end_time": "2025-07-06T08:27:59.046862",
     "exception": false,
     "start_time": "2025-07-06T08:27:59.031929",
     "status": "completed"
    },
    "tags": []
   },
   "source": [
    "## Use Generator `Video Data Generator`"
   ]
  },
  {
   "cell_type": "code",
   "execution_count": 41,
   "id": "8f4a463f",
   "metadata": {
    "execution": {
     "iopub.execute_input": "2025-07-06T08:27:59.078066Z",
     "iopub.status.busy": "2025-07-06T08:27:59.077863Z",
     "iopub.status.idle": "2025-07-06T08:27:59.083714Z",
     "shell.execute_reply": "2025-07-06T08:27:59.083121Z"
    },
    "papermill": {
     "duration": 0.022647,
     "end_time": "2025-07-06T08:27:59.084704",
     "exception": false,
     "start_time": "2025-07-06T08:27:59.062057",
     "status": "completed"
    },
    "tags": []
   },
   "outputs": [
    {
     "name": "stdout",
     "output_type": "stream",
     "text": [
      "Total 1024 videos and 1024 classes\n",
      "Total 256 videos and 256 classes\n"
     ]
    },
    {
     "data": {
      "text/plain": [
       "(32, 8)"
      ]
     },
     "execution_count": 41,
     "metadata": {},
     "output_type": "execute_result"
    }
   ],
   "source": [
    "# Create the training and validation generators\n",
    "train_gen = VideoDataGenerator(\n",
    "    videos=train_video_frames, \n",
    "    labels=train_labels, \n",
    "    batch_size=BATCH_SIZE,\n",
    ")\n",
    "\n",
    "val_gen = VideoDataGenerator(\n",
    "    videos=val_video_frames, \n",
    "    labels=val_labels, \n",
    "    batch_size=BATCH_SIZE,\n",
    ")\n",
    "\n",
    "len(train_gen), len(val_gen)"
   ]
  },
  {
   "cell_type": "markdown",
   "id": "b0f6fab5",
   "metadata": {
    "papermill": {
     "duration": 0.01567,
     "end_time": "2025-07-06T08:27:59.115984",
     "exception": false,
     "start_time": "2025-07-06T08:27:59.100314",
     "status": "completed"
    },
    "tags": []
   },
   "source": [
    "## Inspect ***Generator*** Data on Epochs"
   ]
  },
  {
   "cell_type": "code",
   "execution_count": 42,
   "id": "6a9fb462",
   "metadata": {
    "execution": {
     "iopub.execute_input": "2025-07-06T08:27:59.147590Z",
     "iopub.status.busy": "2025-07-06T08:27:59.147175Z",
     "iopub.status.idle": "2025-07-06T08:27:59.171850Z",
     "shell.execute_reply": "2025-07-06T08:27:59.171150Z"
    },
    "papermill": {
     "duration": 0.041739,
     "end_time": "2025-07-06T08:27:59.172885",
     "exception": false,
     "start_time": "2025-07-06T08:27:59.131146",
     "status": "completed"
    },
    "tags": []
   },
   "outputs": [
    {
     "name": "stdout",
     "output_type": "stream",
     "text": [
      "[   0    1    2 ... 1021 1022 1023]\n",
      "[ 17 627 175 ... 912 840 158]\n"
     ]
    },
    {
     "data": {
      "text/plain": [
       "(32, (32, 10, 128, 128, 3), (32, 16))"
      ]
     },
     "execution_count": 42,
     "metadata": {},
     "output_type": "execute_result"
    }
   ],
   "source": [
    "features, labels = train_gen[1]\n",
    "\n",
    "print(train_gen.indices)\n",
    "\n",
    "train_gen.on_epoch_end()\n",
    "\n",
    "print(train_gen.indices)\n",
    "\n",
    "BATCH_SIZE, features.shape, labels.shape"
   ]
  },
  {
   "cell_type": "markdown",
   "id": "dcebec93",
   "metadata": {
    "papermill": {
     "duration": 0.015595,
     "end_time": "2025-07-06T08:27:59.204332",
     "exception": false,
     "start_time": "2025-07-06T08:27:59.188737",
     "status": "completed"
    },
    "tags": []
   },
   "source": [
    "## Compute Class Weight"
   ]
  },
  {
   "cell_type": "code",
   "execution_count": 43,
   "id": "9e713ec9",
   "metadata": {
    "execution": {
     "iopub.execute_input": "2025-07-06T08:27:59.235854Z",
     "iopub.status.busy": "2025-07-06T08:27:59.235656Z",
     "iopub.status.idle": "2025-07-06T08:27:59.241136Z",
     "shell.execute_reply": "2025-07-06T08:27:59.240558Z"
    },
    "papermill": {
     "duration": 0.022542,
     "end_time": "2025-07-06T08:27:59.242196",
     "exception": false,
     "start_time": "2025-07-06T08:27:59.219654",
     "status": "completed"
    },
    "tags": []
   },
   "outputs": [
    {
     "name": "stdout",
     "output_type": "stream",
     "text": [
      "Class weights: {0: 1.0, 1: 1.0, 2: 1.0, 3: 1.0, 4: 1.0, 5: 1.0, 6: 1.0, 7: 1.0, 8: 1.0, 9: 1.0, 10: 1.0, 11: 1.0, 12: 1.0, 13: 1.0, 14: 1.0, 15: 1.0}\n"
     ]
    }
   ],
   "source": [
    "from sklearn.utils.class_weight import compute_class_weight\n",
    "import numpy as np\n",
    "\n",
    "# Assuming y_int are integer labels (not one-hot)\n",
    "y_int = np.argmax(one_hot_encoded_labels, axis=1)  # or just integer labels if you have them\n",
    "\n",
    "classes = np.arange(NO_OF_CLASSES)  # e.g. np.arange(16)\n",
    "class_weights_values = compute_class_weight(class_weight='balanced', classes=classes, y=y_int)\n",
    "\n",
    "class_weights = dict(zip(classes, class_weights_values))\n",
    "\n",
    "print(\"Class weights:\", class_weights)\n"
   ]
  },
  {
   "cell_type": "code",
   "execution_count": 44,
   "id": "96b932ea",
   "metadata": {
    "execution": {
     "iopub.execute_input": "2025-07-06T08:27:59.275505Z",
     "iopub.status.busy": "2025-07-06T08:27:59.275029Z",
     "iopub.status.idle": "2025-07-06T08:27:59.508168Z",
     "shell.execute_reply": "2025-07-06T08:27:59.507591Z"
    },
    "papermill": {
     "duration": 0.250304,
     "end_time": "2025-07-06T08:27:59.509297",
     "exception": false,
     "start_time": "2025-07-06T08:27:59.258993",
     "status": "completed"
    },
    "tags": []
   },
   "outputs": [],
   "source": [
    "gc.collect()\n",
    "del videos, one_hot_encoded_labels, labels_train\n",
    "del features_train, val_labels, train_labels\n",
    "del val_video_frames, train_video_frames"
   ]
  },
  {
   "cell_type": "markdown",
   "id": "f3d85663",
   "metadata": {
    "papermill": {
     "duration": 0.019704,
     "end_time": "2025-07-06T08:27:59.547798",
     "exception": false,
     "start_time": "2025-07-06T08:27:59.528094",
     "status": "completed"
    },
    "tags": []
   },
   "source": [
    "# ✨ Model Execution\n",
    "## Creating Model"
   ]
  },
  {
   "cell_type": "code",
   "execution_count": 45,
   "id": "81c413e9",
   "metadata": {
    "execution": {
     "iopub.execute_input": "2025-07-06T08:27:59.581173Z",
     "iopub.status.busy": "2025-07-06T08:27:59.580639Z",
     "iopub.status.idle": "2025-07-06T08:28:00.822235Z",
     "shell.execute_reply": "2025-07-06T08:28:00.821325Z"
    },
    "papermill": {
     "duration": 1.260377,
     "end_time": "2025-07-06T08:28:00.823466",
     "exception": false,
     "start_time": "2025-07-06T08:27:59.563089",
     "status": "completed"
    },
    "tags": []
   },
   "outputs": [
    {
     "name": "stdout",
     "output_type": "stream",
     "text": [
      "Loading Xception base model...\n",
      "Model architecture created successfully!\n"
     ]
    },
    {
     "name": "stderr",
     "output_type": "stream",
     "text": [
      "/usr/local/lib/python3.11/dist-packages/keras/src/layers/core/wrapper.py:27: UserWarning: Do not pass an `input_shape`/`input_dim` argument to a layer. When using Sequential models, prefer using an `Input(shape)` object as the first layer in the model instead.\n",
      "  super().__init__(**kwargs)\n"
     ]
    },
    {
     "data": {
      "text/html": [
       "<pre style=\"white-space:pre;overflow-x:auto;line-height:normal;font-family:Menlo,'DejaVu Sans Mono',consolas,'Courier New',monospace\"><span style=\"font-weight: bold\">Model: \"sequential\"</span>\n",
       "</pre>\n"
      ],
      "text/plain": [
       "\u001b[1mModel: \"sequential\"\u001b[0m\n"
      ]
     },
     "metadata": {},
     "output_type": "display_data"
    },
    {
     "data": {
      "text/html": [
       "<pre style=\"white-space:pre;overflow-x:auto;line-height:normal;font-family:Menlo,'DejaVu Sans Mono',consolas,'Courier New',monospace\">┏━━━━━━━━━━━━━━━━━━━━━━━━━━━━━━━━━━━━━━┳━━━━━━━━━━━━━━━━━━━━━━━━━━━━━┳━━━━━━━━━━━━━━━━━┓\n",
       "┃<span style=\"font-weight: bold\"> Layer (type)                         </span>┃<span style=\"font-weight: bold\"> Output Shape                </span>┃<span style=\"font-weight: bold\">         Param # </span>┃\n",
       "┡━━━━━━━━━━━━━━━━━━━━━━━━━━━━━━━━━━━━━━╇━━━━━━━━━━━━━━━━━━━━━━━━━━━━━╇━━━━━━━━━━━━━━━━━┩\n",
       "│ time_distributed (<span style=\"color: #0087ff; text-decoration-color: #0087ff\">TimeDistributed</span>)   │ (<span style=\"color: #00d7ff; text-decoration-color: #00d7ff\">None</span>, <span style=\"color: #00af00; text-decoration-color: #00af00\">10</span>, <span style=\"color: #00af00; text-decoration-color: #00af00\">4</span>, <span style=\"color: #00af00; text-decoration-color: #00af00\">4</span>, <span style=\"color: #00af00; text-decoration-color: #00af00\">2048</span>)      │      <span style=\"color: #00af00; text-decoration-color: #00af00\">20,861,480</span> │\n",
       "├──────────────────────────────────────┼─────────────────────────────┼─────────────────┤\n",
       "│ time_distributed_1 (<span style=\"color: #0087ff; text-decoration-color: #0087ff\">TimeDistributed</span>) │ (<span style=\"color: #00d7ff; text-decoration-color: #00d7ff\">None</span>, <span style=\"color: #00af00; text-decoration-color: #00af00\">10</span>, <span style=\"color: #00af00; text-decoration-color: #00af00\">2048</span>)            │               <span style=\"color: #00af00; text-decoration-color: #00af00\">0</span> │\n",
       "├──────────────────────────────────────┼─────────────────────────────┼─────────────────┤\n",
       "│ lstm (<span style=\"color: #0087ff; text-decoration-color: #0087ff\">LSTM</span>)                          │ (<span style=\"color: #00d7ff; text-decoration-color: #00d7ff\">None</span>, <span style=\"color: #00af00; text-decoration-color: #00af00\">128</span>)                 │       <span style=\"color: #00af00; text-decoration-color: #00af00\">1,114,624</span> │\n",
       "├──────────────────────────────────────┼─────────────────────────────┼─────────────────┤\n",
       "│ batch_normalization                  │ (<span style=\"color: #00d7ff; text-decoration-color: #00d7ff\">None</span>, <span style=\"color: #00af00; text-decoration-color: #00af00\">128</span>)                 │             <span style=\"color: #00af00; text-decoration-color: #00af00\">512</span> │\n",
       "│ (<span style=\"color: #0087ff; text-decoration-color: #0087ff\">BatchNormalization</span>)                 │                             │                 │\n",
       "├──────────────────────────────────────┼─────────────────────────────┼─────────────────┤\n",
       "│ dropout_lstm (<span style=\"color: #0087ff; text-decoration-color: #0087ff\">Dropout</span>)               │ (<span style=\"color: #00d7ff; text-decoration-color: #00d7ff\">None</span>, <span style=\"color: #00af00; text-decoration-color: #00af00\">128</span>)                 │               <span style=\"color: #00af00; text-decoration-color: #00af00\">0</span> │\n",
       "├──────────────────────────────────────┼─────────────────────────────┼─────────────────┤\n",
       "│ dense (<span style=\"color: #0087ff; text-decoration-color: #0087ff\">Dense</span>)                        │ (<span style=\"color: #00d7ff; text-decoration-color: #00d7ff\">None</span>, <span style=\"color: #00af00; text-decoration-color: #00af00\">512</span>)                 │          <span style=\"color: #00af00; text-decoration-color: #00af00\">66,048</span> │\n",
       "├──────────────────────────────────────┼─────────────────────────────┼─────────────────┤\n",
       "│ dropout_dense (<span style=\"color: #0087ff; text-decoration-color: #0087ff\">Dropout</span>)              │ (<span style=\"color: #00d7ff; text-decoration-color: #00d7ff\">None</span>, <span style=\"color: #00af00; text-decoration-color: #00af00\">512</span>)                 │               <span style=\"color: #00af00; text-decoration-color: #00af00\">0</span> │\n",
       "├──────────────────────────────────────┼─────────────────────────────┼─────────────────┤\n",
       "│ dense_1 (<span style=\"color: #0087ff; text-decoration-color: #0087ff\">Dense</span>)                      │ (<span style=\"color: #00d7ff; text-decoration-color: #00d7ff\">None</span>, <span style=\"color: #00af00; text-decoration-color: #00af00\">16</span>)                  │           <span style=\"color: #00af00; text-decoration-color: #00af00\">8,208</span> │\n",
       "└──────────────────────────────────────┴─────────────────────────────┴─────────────────┘\n",
       "</pre>\n"
      ],
      "text/plain": [
       "┏━━━━━━━━━━━━━━━━━━━━━━━━━━━━━━━━━━━━━━┳━━━━━━━━━━━━━━━━━━━━━━━━━━━━━┳━━━━━━━━━━━━━━━━━┓\n",
       "┃\u001b[1m \u001b[0m\u001b[1mLayer (type)                        \u001b[0m\u001b[1m \u001b[0m┃\u001b[1m \u001b[0m\u001b[1mOutput Shape               \u001b[0m\u001b[1m \u001b[0m┃\u001b[1m \u001b[0m\u001b[1m        Param #\u001b[0m\u001b[1m \u001b[0m┃\n",
       "┡━━━━━━━━━━━━━━━━━━━━━━━━━━━━━━━━━━━━━━╇━━━━━━━━━━━━━━━━━━━━━━━━━━━━━╇━━━━━━━━━━━━━━━━━┩\n",
       "│ time_distributed (\u001b[38;5;33mTimeDistributed\u001b[0m)   │ (\u001b[38;5;45mNone\u001b[0m, \u001b[38;5;34m10\u001b[0m, \u001b[38;5;34m4\u001b[0m, \u001b[38;5;34m4\u001b[0m, \u001b[38;5;34m2048\u001b[0m)      │      \u001b[38;5;34m20,861,480\u001b[0m │\n",
       "├──────────────────────────────────────┼─────────────────────────────┼─────────────────┤\n",
       "│ time_distributed_1 (\u001b[38;5;33mTimeDistributed\u001b[0m) │ (\u001b[38;5;45mNone\u001b[0m, \u001b[38;5;34m10\u001b[0m, \u001b[38;5;34m2048\u001b[0m)            │               \u001b[38;5;34m0\u001b[0m │\n",
       "├──────────────────────────────────────┼─────────────────────────────┼─────────────────┤\n",
       "│ lstm (\u001b[38;5;33mLSTM\u001b[0m)                          │ (\u001b[38;5;45mNone\u001b[0m, \u001b[38;5;34m128\u001b[0m)                 │       \u001b[38;5;34m1,114,624\u001b[0m │\n",
       "├──────────────────────────────────────┼─────────────────────────────┼─────────────────┤\n",
       "│ batch_normalization                  │ (\u001b[38;5;45mNone\u001b[0m, \u001b[38;5;34m128\u001b[0m)                 │             \u001b[38;5;34m512\u001b[0m │\n",
       "│ (\u001b[38;5;33mBatchNormalization\u001b[0m)                 │                             │                 │\n",
       "├──────────────────────────────────────┼─────────────────────────────┼─────────────────┤\n",
       "│ dropout_lstm (\u001b[38;5;33mDropout\u001b[0m)               │ (\u001b[38;5;45mNone\u001b[0m, \u001b[38;5;34m128\u001b[0m)                 │               \u001b[38;5;34m0\u001b[0m │\n",
       "├──────────────────────────────────────┼─────────────────────────────┼─────────────────┤\n",
       "│ dense (\u001b[38;5;33mDense\u001b[0m)                        │ (\u001b[38;5;45mNone\u001b[0m, \u001b[38;5;34m512\u001b[0m)                 │          \u001b[38;5;34m66,048\u001b[0m │\n",
       "├──────────────────────────────────────┼─────────────────────────────┼─────────────────┤\n",
       "│ dropout_dense (\u001b[38;5;33mDropout\u001b[0m)              │ (\u001b[38;5;45mNone\u001b[0m, \u001b[38;5;34m512\u001b[0m)                 │               \u001b[38;5;34m0\u001b[0m │\n",
       "├──────────────────────────────────────┼─────────────────────────────┼─────────────────┤\n",
       "│ dense_1 (\u001b[38;5;33mDense\u001b[0m)                      │ (\u001b[38;5;45mNone\u001b[0m, \u001b[38;5;34m16\u001b[0m)                  │           \u001b[38;5;34m8,208\u001b[0m │\n",
       "└──────────────────────────────────────┴─────────────────────────────┴─────────────────┘\n"
      ]
     },
     "metadata": {},
     "output_type": "display_data"
    },
    {
     "data": {
      "text/html": [
       "<pre style=\"white-space:pre;overflow-x:auto;line-height:normal;font-family:Menlo,'DejaVu Sans Mono',consolas,'Courier New',monospace\"><span style=\"font-weight: bold\"> Total params: </span><span style=\"color: #00af00; text-decoration-color: #00af00\">22,050,872</span> (84.12 MB)\n",
       "</pre>\n"
      ],
      "text/plain": [
       "\u001b[1m Total params: \u001b[0m\u001b[38;5;34m22,050,872\u001b[0m (84.12 MB)\n"
      ]
     },
     "metadata": {},
     "output_type": "display_data"
    },
    {
     "data": {
      "text/html": [
       "<pre style=\"white-space:pre;overflow-x:auto;line-height:normal;font-family:Menlo,'DejaVu Sans Mono',consolas,'Courier New',monospace\"><span style=\"font-weight: bold\"> Trainable params: </span><span style=\"color: #00af00; text-decoration-color: #00af00\">6,685,456</span> (25.50 MB)\n",
       "</pre>\n"
      ],
      "text/plain": [
       "\u001b[1m Trainable params: \u001b[0m\u001b[38;5;34m6,685,456\u001b[0m (25.50 MB)\n"
      ]
     },
     "metadata": {},
     "output_type": "display_data"
    },
    {
     "data": {
      "text/html": [
       "<pre style=\"white-space:pre;overflow-x:auto;line-height:normal;font-family:Menlo,'DejaVu Sans Mono',consolas,'Courier New',monospace\"><span style=\"font-weight: bold\"> Non-trainable params: </span><span style=\"color: #00af00; text-decoration-color: #00af00\">15,365,416</span> (58.61 MB)\n",
       "</pre>\n"
      ],
      "text/plain": [
       "\u001b[1m Non-trainable params: \u001b[0m\u001b[38;5;34m15,365,416\u001b[0m (58.61 MB)\n"
      ]
     },
     "metadata": {},
     "output_type": "display_data"
    },
    {
     "name": "stdout",
     "output_type": "stream",
     "text": [
      "Model Created Successfully!\n"
     ]
    }
   ],
   "source": [
    "# Create the model\n",
    "xlstm_model = create_xception_lstm_model(\n",
    "    sequence_length=SEQUENCE_LENGTH,\n",
    "    image_height=IMAGE_HEIGHT,\n",
    "    image_width=IMAGE_WIDTH,\n",
    "    classes_list=CLASSES_LIST,\n",
    "    dropout_rate=DROPOUT_RATE\n",
    ")\n",
    "\n",
    "# Check if model was created successfully\n",
    "if xlstm_model is None:\n",
    "    print(\"Failed to create model. Check error messages above.\")\n",
    "else:\n",
    "    print(\"Model Created Successfully!\")"
   ]
  },
  {
   "cell_type": "markdown",
   "id": "bad1d8a5",
   "metadata": {
    "papermill": {
     "duration": 0.019738,
     "end_time": "2025-07-06T08:28:00.863323",
     "exception": false,
     "start_time": "2025-07-06T08:28:00.843585",
     "status": "completed"
    },
    "tags": []
   },
   "source": [
    "## Plot Model Structure"
   ]
  },
  {
   "cell_type": "code",
   "execution_count": 46,
   "id": "710bd640",
   "metadata": {
    "execution": {
     "iopub.execute_input": "2025-07-06T08:28:00.902627Z",
     "iopub.status.busy": "2025-07-06T08:28:00.902334Z",
     "iopub.status.idle": "2025-07-06T08:28:01.374808Z",
     "shell.execute_reply": "2025-07-06T08:28:01.374000Z"
    },
    "papermill": {
     "duration": 0.493514,
     "end_time": "2025-07-06T08:28:01.375998",
     "exception": false,
     "start_time": "2025-07-06T08:28:00.882484",
     "status": "completed"
    },
    "tags": []
   },
   "outputs": [
    {
     "name": "stdout",
     "output_type": "stream",
     "text": [
      "Xception Model Plot saved successfully...\n"
     ]
    }
   ],
   "source": [
    "# Plot the structure of the contructed model.\n",
    "from tensorflow.keras.utils import plot_model\n",
    "\n",
    "plot_model(xlstm_model, to_file = f'{MODEL_NAME}_model_Plot.png', show_shapes = True, show_layer_names = True)\n",
    "\n",
    "print(f\"{MODEL_NAME} Model Plot saved successfully...\")"
   ]
  },
  {
   "cell_type": "markdown",
   "id": "209224e5",
   "metadata": {
    "papermill": {
     "duration": 0.01643,
     "end_time": "2025-07-06T08:28:01.409770",
     "exception": false,
     "start_time": "2025-07-06T08:28:01.393340",
     "status": "completed"
    },
    "tags": []
   },
   "source": [
    "## Model Compile"
   ]
  },
  {
   "cell_type": "code",
   "execution_count": 47,
   "id": "4998e1fc",
   "metadata": {
    "execution": {
     "iopub.execute_input": "2025-07-06T08:28:01.444847Z",
     "iopub.status.busy": "2025-07-06T08:28:01.444571Z",
     "iopub.status.idle": "2025-07-06T08:28:01.461794Z",
     "shell.execute_reply": "2025-07-06T08:28:01.461250Z"
    },
    "papermill": {
     "duration": 0.036278,
     "end_time": "2025-07-06T08:28:01.462933",
     "exception": false,
     "start_time": "2025-07-06T08:28:01.426655",
     "status": "completed"
    },
    "tags": []
   },
   "outputs": [],
   "source": [
    "# Create an Instance of Early Stopping Callback\n",
    "from tensorflow.keras.callbacks import EarlyStopping\n",
    "\n",
    "early_stopping_callback = EarlyStopping(monitor = 'val_loss', \n",
    "                                        patience = 7, \n",
    "                                        mode = 'min', \n",
    "                                        restore_best_weights = True)\n",
    "\n",
    "# Compile the model and specify loss function, optimizer and metrics values to the model\n",
    "xlstm_model.compile(loss = 'categorical_crossentropy', \n",
    "                    optimizer=tf.keras.optimizers.Adam(learning_rate=0.0001),\n",
    "                    metrics = [\"accuracy\"])\n"
   ]
  },
  {
   "cell_type": "markdown",
   "id": "eb8e03fb",
   "metadata": {
    "papermill": {
     "duration": 0.016965,
     "end_time": "2025-07-06T08:28:01.497261",
     "exception": false,
     "start_time": "2025-07-06T08:28:01.480296",
     "status": "completed"
    },
    "tags": []
   },
   "source": [
    "## 💪 Model Fit"
   ]
  },
  {
   "cell_type": "code",
   "execution_count": 48,
   "id": "03637790",
   "metadata": {
    "execution": {
     "iopub.execute_input": "2025-07-06T08:28:01.531856Z",
     "iopub.status.busy": "2025-07-06T08:28:01.531663Z",
     "iopub.status.idle": "2025-07-06T08:28:01.537230Z",
     "shell.execute_reply": "2025-07-06T08:28:01.536417Z"
    },
    "papermill": {
     "duration": 0.024281,
     "end_time": "2025-07-06T08:28:01.538343",
     "exception": false,
     "start_time": "2025-07-06T08:28:01.514062",
     "status": "completed"
    },
    "tags": []
   },
   "outputs": [
    {
     "name": "stdout",
     "output_type": "stream",
     "text": [
      "Unique labels: [ 0  1  2  3  4  5  6  7  8  9 10 11 12 13 14 15]\n",
      "NO_OF_CLASSES: 16\n"
     ]
    }
   ],
   "source": [
    "labels = np.argmax(train_gen.labels, axis=1)  # assuming one-hot encoded\n",
    "print(\"Unique labels:\", np.unique(labels))\n",
    "print(\"NO_OF_CLASSES:\", NO_OF_CLASSES)\n"
   ]
  },
  {
   "cell_type": "code",
   "execution_count": 49,
   "id": "7b2bcf3c",
   "metadata": {
    "execution": {
     "iopub.execute_input": "2025-07-06T08:28:01.574377Z",
     "iopub.status.busy": "2025-07-06T08:28:01.574169Z",
     "iopub.status.idle": "2025-07-06T08:28:01.579204Z",
     "shell.execute_reply": "2025-07-06T08:28:01.578470Z"
    },
    "papermill": {
     "duration": 0.023784,
     "end_time": "2025-07-06T08:28:01.580317",
     "exception": false,
     "start_time": "2025-07-06T08:28:01.556533",
     "status": "completed"
    },
    "tags": []
   },
   "outputs": [
    {
     "name": "stdout",
     "output_type": "stream",
     "text": [
      "Train label shape: (1024, 16)\n",
      "Val label shape: (256, 16)\n"
     ]
    }
   ],
   "source": [
    "print(\"Train label shape:\", np.shape(train_gen.labels))\n",
    "print(\"Val label shape:\", np.shape(val_gen.labels))\n"
   ]
  },
  {
   "cell_type": "code",
   "execution_count": 50,
   "id": "508ad17c",
   "metadata": {
    "execution": {
     "iopub.execute_input": "2025-07-06T08:28:01.618291Z",
     "iopub.status.busy": "2025-07-06T08:28:01.618084Z",
     "iopub.status.idle": "2025-07-06T08:42:36.137523Z",
     "shell.execute_reply": "2025-07-06T08:42:36.136925Z"
    },
    "papermill": {
     "duration": 874.54007,
     "end_time": "2025-07-06T08:42:36.138933",
     "exception": false,
     "start_time": "2025-07-06T08:28:01.598863",
     "status": "completed"
    },
    "tags": []
   },
   "outputs": [
    {
     "name": "stdout",
     "output_type": "stream",
     "text": [
      "Dataset - Msrdailyactivity3D Rgb Videos Only\n",
      "There are total 16 classes, selected 16 classes\n",
      "Setting 20 videos/class to train the model.\n",
      "Image size 128x128 with 10 sequence length\n",
      "Dropout rate: 0.5\n",
      "Train-Test split ratio 80/20\n",
      "Validation data from Train set 20.0%\n",
      "\n",
      "\n",
      "Training started for 1024 videos of 16 classes with 256 videos for validation...\n",
      "Epoch 1/30\n"
     ]
    },
    {
     "name": "stderr",
     "output_type": "stream",
     "text": [
      "I0000 00:00:1751790537.815055      60 cuda_dnn.cc:529] Loaded cuDNN version 90300\n"
     ]
    },
    {
     "name": "stdout",
     "output_type": "stream",
     "text": [
      "     32/Unknown \u001b[1m81s\u001b[0m 629ms/step - accuracy: 0.0419 - loss: 13.6377"
     ]
    },
    {
     "name": "stderr",
     "output_type": "stream",
     "text": [
      "/usr/local/lib/python3.11/dist-packages/keras/src/trainers/epoch_iterator.py:151: UserWarning: Your input ran out of data; interrupting training. Make sure that your dataset or generator can generate at least `steps_per_epoch * epochs` batches. You may need to use the `.repeat()` function when building your dataset.\n",
      "  self._interrupted_warning()\n"
     ]
    },
    {
     "name": "stdout",
     "output_type": "stream",
     "text": [
      "\u001b[1m32/32\u001b[0m \u001b[32m━━━━━━━━━━━━━━━━━━━━\u001b[0m\u001b[37m\u001b[0m \u001b[1m99s\u001b[0m 1s/step - accuracy: 0.0424 - loss: 13.6326 - val_accuracy: 0.1562 - val_loss: 12.5375 - learning_rate: 1.0000e-04\n",
      "Epoch 2/30\n",
      "\u001b[1m32/32\u001b[0m \u001b[32m━━━━━━━━━━━━━━━━━━━━\u001b[0m\u001b[37m\u001b[0m \u001b[1m26s\u001b[0m 820ms/step - accuracy: 0.1108 - loss: 12.7706 - val_accuracy: 0.2383 - val_loss: 12.0761 - learning_rate: 1.0000e-04\n",
      "Epoch 3/30\n",
      "\u001b[1m32/32\u001b[0m \u001b[32m━━━━━━━━━━━━━━━━━━━━\u001b[0m\u001b[37m\u001b[0m \u001b[1m28s\u001b[0m 868ms/step - accuracy: 0.1734 - loss: 12.0609 - val_accuracy: 0.2461 - val_loss: 11.6136 - learning_rate: 1.0000e-04\n",
      "Epoch 4/30\n",
      "\u001b[1m32/32\u001b[0m \u001b[32m━━━━━━━━━━━━━━━━━━━━\u001b[0m\u001b[37m\u001b[0m \u001b[1m27s\u001b[0m 834ms/step - accuracy: 0.1978 - loss: 11.4570 - val_accuracy: 0.3125 - val_loss: 11.1475 - learning_rate: 1.0000e-04\n",
      "Epoch 5/30\n",
      "\u001b[1m32/32\u001b[0m \u001b[32m━━━━━━━━━━━━━━━━━━━━\u001b[0m\u001b[37m\u001b[0m \u001b[1m26s\u001b[0m 827ms/step - accuracy: 0.2560 - loss: 10.7944 - val_accuracy: 0.3555 - val_loss: 10.6894 - learning_rate: 1.0000e-04\n",
      "Epoch 6/30\n",
      "\u001b[1m32/32\u001b[0m \u001b[32m━━━━━━━━━━━━━━━━━━━━\u001b[0m\u001b[37m\u001b[0m \u001b[1m27s\u001b[0m 842ms/step - accuracy: 0.2929 - loss: 10.2507 - val_accuracy: 0.3750 - val_loss: 10.2253 - learning_rate: 1.0000e-04\n",
      "Epoch 7/30\n",
      "\u001b[1m32/32\u001b[0m \u001b[32m━━━━━━━━━━━━━━━━━━━━\u001b[0m\u001b[37m\u001b[0m \u001b[1m27s\u001b[0m 841ms/step - accuracy: 0.3910 - loss: 9.6384 - val_accuracy: 0.3906 - val_loss: 9.7927 - learning_rate: 1.0000e-04\n",
      "Epoch 8/30\n",
      "\u001b[1m32/32\u001b[0m \u001b[32m━━━━━━━━━━━━━━━━━━━━\u001b[0m\u001b[37m\u001b[0m \u001b[1m27s\u001b[0m 834ms/step - accuracy: 0.4387 - loss: 9.2124 - val_accuracy: 0.4023 - val_loss: 9.3664 - learning_rate: 1.0000e-04\n",
      "Epoch 9/30\n",
      "\u001b[1m32/32\u001b[0m \u001b[32m━━━━━━━━━━━━━━━━━━━━\u001b[0m\u001b[37m\u001b[0m \u001b[1m27s\u001b[0m 838ms/step - accuracy: 0.4746 - loss: 8.6958 - val_accuracy: 0.4336 - val_loss: 8.9651 - learning_rate: 1.0000e-04\n",
      "Epoch 10/30\n",
      "\u001b[1m32/32\u001b[0m \u001b[32m━━━━━━━━━━━━━━━━━━━━\u001b[0m\u001b[37m\u001b[0m \u001b[1m27s\u001b[0m 840ms/step - accuracy: 0.5400 - loss: 8.2593 - val_accuracy: 0.4258 - val_loss: 8.5940 - learning_rate: 1.0000e-04\n",
      "Epoch 11/30\n",
      "\u001b[1m32/32\u001b[0m \u001b[32m━━━━━━━━━━━━━━━━━━━━\u001b[0m\u001b[37m\u001b[0m \u001b[1m27s\u001b[0m 835ms/step - accuracy: 0.6106 - loss: 7.7833 - val_accuracy: 0.4453 - val_loss: 8.2017 - learning_rate: 1.0000e-04\n",
      "Epoch 12/30\n",
      "\u001b[1m32/32\u001b[0m \u001b[32m━━━━━━━━━━━━━━━━━━━━\u001b[0m\u001b[37m\u001b[0m \u001b[1m27s\u001b[0m 838ms/step - accuracy: 0.6363 - loss: 7.3825 - val_accuracy: 0.4570 - val_loss: 7.8768 - learning_rate: 1.0000e-04\n",
      "Epoch 13/30\n",
      "\u001b[1m32/32\u001b[0m \u001b[32m━━━━━━━━━━━━━━━━━━━━\u001b[0m\u001b[37m\u001b[0m \u001b[1m27s\u001b[0m 839ms/step - accuracy: 0.6730 - loss: 7.0547 - val_accuracy: 0.4648 - val_loss: 7.5501 - learning_rate: 1.0000e-04\n",
      "Epoch 14/30\n",
      "\u001b[1m32/32\u001b[0m \u001b[32m━━━━━━━━━━━━━━━━━━━━\u001b[0m\u001b[37m\u001b[0m \u001b[1m27s\u001b[0m 841ms/step - accuracy: 0.7599 - loss: 6.6656 - val_accuracy: 0.4766 - val_loss: 7.2692 - learning_rate: 1.0000e-04\n",
      "Epoch 15/30\n",
      "\u001b[1m32/32\u001b[0m \u001b[32m━━━━━━━━━━━━━━━━━━━━\u001b[0m\u001b[37m\u001b[0m \u001b[1m27s\u001b[0m 838ms/step - accuracy: 0.7824 - loss: 6.3696 - val_accuracy: 0.4922 - val_loss: 7.0131 - learning_rate: 1.0000e-04\n",
      "Epoch 16/30\n",
      "\u001b[1m32/32\u001b[0m \u001b[32m━━━━━━━━━━━━━━━━━━━━\u001b[0m\u001b[37m\u001b[0m \u001b[1m27s\u001b[0m 837ms/step - accuracy: 0.8098 - loss: 6.0514 - val_accuracy: 0.5234 - val_loss: 6.7354 - learning_rate: 1.0000e-04\n",
      "Epoch 17/30\n",
      "\u001b[1m32/32\u001b[0m \u001b[32m━━━━━━━━━━━━━━━━━━━━\u001b[0m\u001b[37m\u001b[0m \u001b[1m27s\u001b[0m 835ms/step - accuracy: 0.8467 - loss: 5.7626 - val_accuracy: 0.5117 - val_loss: 6.5471 - learning_rate: 1.0000e-04\n",
      "Epoch 18/30\n",
      "\u001b[1m32/32\u001b[0m \u001b[32m━━━━━━━━━━━━━━━━━━━━\u001b[0m\u001b[37m\u001b[0m \u001b[1m27s\u001b[0m 838ms/step - accuracy: 0.8765 - loss: 5.4905 - val_accuracy: 0.5273 - val_loss: 6.3420 - learning_rate: 1.0000e-04\n",
      "Epoch 19/30\n",
      "\u001b[1m32/32\u001b[0m \u001b[32m━━━━━━━━━━━━━━━━━━━━\u001b[0m\u001b[37m\u001b[0m \u001b[1m27s\u001b[0m 837ms/step - accuracy: 0.9080 - loss: 5.2727 - val_accuracy: 0.5469 - val_loss: 6.1376 - learning_rate: 1.0000e-04\n",
      "Epoch 20/30\n",
      "\u001b[1m32/32\u001b[0m \u001b[32m━━━━━━━━━━━━━━━━━━━━\u001b[0m\u001b[37m\u001b[0m \u001b[1m27s\u001b[0m 835ms/step - accuracy: 0.9280 - loss: 5.0484 - val_accuracy: 0.5508 - val_loss: 5.9620 - learning_rate: 1.0000e-04\n",
      "Epoch 21/30\n",
      "\u001b[1m32/32\u001b[0m \u001b[32m━━━━━━━━━━━━━━━━━━━━\u001b[0m\u001b[37m\u001b[0m \u001b[1m27s\u001b[0m 836ms/step - accuracy: 0.9359 - loss: 4.8403 - val_accuracy: 0.5352 - val_loss: 5.7998 - learning_rate: 1.0000e-04\n",
      "Epoch 22/30\n",
      "\u001b[1m32/32\u001b[0m \u001b[32m━━━━━━━━━━━━━━━━━━━━\u001b[0m\u001b[37m\u001b[0m \u001b[1m27s\u001b[0m 840ms/step - accuracy: 0.9535 - loss: 4.6423 - val_accuracy: 0.5430 - val_loss: 5.6390 - learning_rate: 1.0000e-04\n",
      "Epoch 23/30\n",
      "\u001b[1m32/32\u001b[0m \u001b[32m━━━━━━━━━━━━━━━━━━━━\u001b[0m\u001b[37m\u001b[0m \u001b[1m27s\u001b[0m 838ms/step - accuracy: 0.9620 - loss: 4.4834 - val_accuracy: 0.5703 - val_loss: 5.5130 - learning_rate: 1.0000e-04\n",
      "Epoch 24/30\n",
      "\u001b[1m32/32\u001b[0m \u001b[32m━━━━━━━━━━━━━━━━━━━━\u001b[0m\u001b[37m\u001b[0m \u001b[1m27s\u001b[0m 838ms/step - accuracy: 0.9697 - loss: 4.3018 - val_accuracy: 0.5781 - val_loss: 5.3554 - learning_rate: 1.0000e-04\n",
      "Epoch 25/30\n",
      "\u001b[1m32/32\u001b[0m \u001b[32m━━━━━━━━━━━━━━━━━━━━\u001b[0m\u001b[37m\u001b[0m \u001b[1m27s\u001b[0m 839ms/step - accuracy: 0.9668 - loss: 4.1752 - val_accuracy: 0.5781 - val_loss: 5.2718 - learning_rate: 1.0000e-04\n",
      "Epoch 26/30\n",
      "\u001b[1m32/32\u001b[0m \u001b[32m━━━━━━━━━━━━━━━━━━━━\u001b[0m\u001b[37m\u001b[0m \u001b[1m27s\u001b[0m 839ms/step - accuracy: 0.9847 - loss: 4.0051 - val_accuracy: 0.5625 - val_loss: 5.1561 - learning_rate: 1.0000e-04\n",
      "Epoch 27/30\n",
      "\u001b[1m32/32\u001b[0m \u001b[32m━━━━━━━━━━━━━━━━━━━━\u001b[0m\u001b[37m\u001b[0m \u001b[1m27s\u001b[0m 836ms/step - accuracy: 0.9889 - loss: 3.8624 - val_accuracy: 0.5703 - val_loss: 5.0338 - learning_rate: 1.0000e-04\n",
      "Epoch 28/30\n",
      "\u001b[1m32/32\u001b[0m \u001b[32m━━━━━━━━━━━━━━━━━━━━\u001b[0m\u001b[37m\u001b[0m \u001b[1m27s\u001b[0m 836ms/step - accuracy: 0.9890 - loss: 3.7431 - val_accuracy: 0.5859 - val_loss: 4.9171 - learning_rate: 1.0000e-04\n",
      "Epoch 29/30\n",
      "\u001b[1m32/32\u001b[0m \u001b[32m━━━━━━━━━━━━━━━━━━━━\u001b[0m\u001b[37m\u001b[0m \u001b[1m27s\u001b[0m 836ms/step - accuracy: 0.9819 - loss: 3.6550 - val_accuracy: 0.5742 - val_loss: 4.8352 - learning_rate: 1.0000e-04\n",
      "Epoch 30/30\n",
      "\u001b[1m32/32\u001b[0m \u001b[32m━━━━━━━━━━━━━━━━━━━━\u001b[0m\u001b[37m\u001b[0m \u001b[1m27s\u001b[0m 840ms/step - accuracy: 0.9933 - loss: 3.5239 - val_accuracy: 0.5547 - val_loss: 4.7428 - learning_rate: 1.0000e-04\n"
     ]
    }
   ],
   "source": [
    "from tensorflow.keras.callbacks import ReduceLROnPlateau\n",
    "\n",
    "lr_scheduler = ReduceLROnPlateau(monitor='val_loss', \n",
    "                                 factor=0.5, \n",
    "                                 patience=3, \n",
    "                                 min_lr=1e-6)\n",
    "\n",
    "\n",
    "\n",
    "print(f\"Dataset - {DATASET_NAME}\")\n",
    "print(f\"There are total {len(ALL_CLASS_NAMES)} classes, selected {NO_OF_CLASSES} classes\")\n",
    "print(f\"Setting {MAX_VIDEO_PER_CLASS} videos/class to train the model.\")\n",
    "print(f\"Image size {IMAGE_HEIGHT}x{IMAGE_WIDTH} with {SEQUENCE_LENGTH} sequence length\")\n",
    "print(f\"Dropout rate: {DROPOUT_RATE}\")\n",
    "print(f\"Train-Test split ratio {int((1-TEST_SIZE)*100)}/{int(TEST_SIZE*100)}\")\n",
    "print(f\"Validation data from Train set {VALIDATION_SPLIT*100}%\")\n",
    "\n",
    "print(\"\\n\")\n",
    "\n",
    "print(f\"Training started for {len(train_gen.videos)} videos of {NO_OF_CLASSES} classes with {len(val_gen.videos)} videos for validation...\")\n",
    "\n",
    "model_history = xlstm_model.fit(\n",
    "    train_gen.as_dataset(),\n",
    "    validation_data=val_gen.as_dataset(),\n",
    "    epochs=EPOCHS,\n",
    "    # class_weight=class_weight_dict,\n",
    "    callbacks=[early_stopping_callback, lr_scheduler]\n",
    ")"
   ]
  },
  {
   "cell_type": "markdown",
   "id": "de94d1f8",
   "metadata": {
    "papermill": {
     "duration": 0.059512,
     "end_time": "2025-07-06T08:42:36.259147",
     "exception": false,
     "start_time": "2025-07-06T08:42:36.199635",
     "status": "completed"
    },
    "tags": []
   },
   "source": [
    "# Evaluation"
   ]
  },
  {
   "cell_type": "markdown",
   "id": "f1ee0da5",
   "metadata": {
    "papermill": {
     "duration": 0.057685,
     "end_time": "2025-07-06T08:42:36.374458",
     "exception": false,
     "start_time": "2025-07-06T08:42:36.316773",
     "status": "completed"
    },
    "tags": []
   },
   "source": [
    "## ⚡ Model Evaluate"
   ]
  },
  {
   "cell_type": "code",
   "execution_count": 51,
   "id": "6cd792d6",
   "metadata": {
    "execution": {
     "iopub.execute_input": "2025-07-06T08:42:36.499018Z",
     "iopub.status.busy": "2025-07-06T08:42:36.498742Z",
     "iopub.status.idle": "2025-07-06T08:42:43.887525Z",
     "shell.execute_reply": "2025-07-06T08:42:43.886733Z"
    },
    "papermill": {
     "duration": 7.454115,
     "end_time": "2025-07-06T08:42:43.889250",
     "exception": false,
     "start_time": "2025-07-06T08:42:36.435135",
     "status": "completed"
    },
    "tags": []
   },
   "outputs": [
    {
     "name": "stdout",
     "output_type": "stream",
     "text": [
      "\u001b[1m10/10\u001b[0m \u001b[32m━━━━━━━━━━━━━━━━━━━━\u001b[0m\u001b[37m\u001b[0m \u001b[1m6s\u001b[0m 556ms/step - accuracy: 0.5544 - loss: 4.7840\n"
     ]
    }
   ],
   "source": [
    "# previous code\n",
    "model_evaluation_history = xlstm_model.evaluate(features_test, labels_test)"
   ]
  },
  {
   "cell_type": "code",
   "execution_count": 52,
   "id": "28e36f67",
   "metadata": {
    "execution": {
     "iopub.execute_input": "2025-07-06T08:42:44.018760Z",
     "iopub.status.busy": "2025-07-06T08:42:44.018123Z",
     "iopub.status.idle": "2025-07-06T08:42:44.358546Z",
     "shell.execute_reply": "2025-07-06T08:42:44.357899Z"
    },
    "papermill": {
     "duration": 0.403053,
     "end_time": "2025-07-06T08:42:44.360300",
     "exception": false,
     "start_time": "2025-07-06T08:42:43.957247",
     "status": "completed"
    },
    "tags": []
   },
   "outputs": [
    {
     "data": {
      "image/png": "[encoded data removed]",
      "text/plain": [
       "<Figure size 1200x500 with 2 Axes>"
      ]
     },
     "metadata": {},
     "output_type": "display_data"
    }
   ],
   "source": [
    "import matplotlib.pyplot as plt\n",
    "\n",
    "# Accuracy\n",
    "plt.figure(figsize=(12, 5))\n",
    "\n",
    "plt.subplot(1, 2, 1)\n",
    "plt.plot(model_history.history['accuracy'], label='Train Accuracy')\n",
    "plt.plot(model_history.history['val_accuracy'], label='Validation Accuracy')\n",
    "plt.title('Model Accuracy')\n",
    "plt.xlabel('Epoch')\n",
    "plt.ylabel('Accuracy')\n",
    "plt.legend()\n",
    "\n",
    "# Loss\n",
    "plt.subplot(1, 2, 2)\n",
    "plt.plot(model_history.history['loss'], label='Train Loss')\n",
    "plt.plot(model_history.history['val_loss'], label='Validation Loss')\n",
    "plt.title('Model Loss')\n",
    "plt.xlabel('Epoch')\n",
    "plt.ylabel('Loss')\n",
    "plt.legend()\n",
    "\n",
    "plt.tight_layout()\n",
    "plt.show()\n"
   ]
  },
  {
   "cell_type": "markdown",
   "id": "aa6469e6",
   "metadata": {
    "papermill": {
     "duration": 0.058996,
     "end_time": "2025-07-06T08:42:44.483075",
     "exception": false,
     "start_time": "2025-07-06T08:42:44.424079",
     "status": "completed"
    },
    "tags": []
   },
   "source": [
    "## 📈 Confusion Matrix"
   ]
  },
  {
   "cell_type": "code",
   "execution_count": 53,
   "id": "7f9af309",
   "metadata": {
    "execution": {
     "iopub.execute_input": "2025-07-06T08:42:44.653019Z",
     "iopub.status.busy": "2025-07-06T08:42:44.652764Z",
     "iopub.status.idle": "2025-07-06T08:43:07.644045Z",
     "shell.execute_reply": "2025-07-06T08:43:07.643355Z"
    },
    "papermill": {
     "duration": 23.103321,
     "end_time": "2025-07-06T08:43:07.645758",
     "exception": false,
     "start_time": "2025-07-06T08:42:44.542437",
     "status": "completed"
    },
    "tags": []
   },
   "outputs": [
    {
     "name": "stdout",
     "output_type": "stream",
     "text": [
      "Total 320 videos and 320 classes\n",
      "\u001b[1m80/80\u001b[0m \u001b[32m━━━━━━━━━━━━━━━━━━━━\u001b[0m\u001b[37m\u001b[0m \u001b[1m22s\u001b[0m 102ms/step\n",
      "True classes shape: (320,)\n",
      "Predicted classes shape: (320,)\n",
      "Classification Report:\n",
      "                    precision    recall  f1-score   support\n",
      "\n",
      "  write on a paper       0.33      0.24      0.28        25\n",
      "        use laptop       0.93      0.76      0.84        17\n",
      "         read book       0.39      0.47      0.43        19\n",
      "         sit still       0.56      0.47      0.51        19\n",
      "             drink       0.30      0.19      0.23        16\n",
      "          sit down       0.69      0.74      0.71        27\n",
      "use vacuum cleaner       0.75      0.88      0.81        17\n",
      "               eat       0.35      0.27      0.31        22\n",
      "       play guitar       0.74      0.85      0.79        27\n",
      "  lie down on sofa       0.83      1.00      0.90        19\n",
      "          stand up       0.59      0.84      0.70        19\n",
      "        toss paper       0.44      0.16      0.24        25\n",
      "              walk       0.76      1.00      0.86        16\n",
      "         play game       0.30      0.42      0.35        19\n",
      "          cheer up       0.53      0.69      0.60        13\n",
      "    call cellphone       0.33      0.30      0.32        20\n",
      "\n",
      "          accuracy                           0.57       320\n",
      "         macro avg       0.55      0.58      0.56       320\n",
      "      weighted avg       0.55      0.57      0.55       320\n",
      "\n"
     ]
    },
    {
     "name": "stderr",
     "output_type": "stream",
     "text": [
      "/usr/local/lib/python3.11/dist-packages/keras/src/trainers/epoch_iterator.py:151: UserWarning: Your input ran out of data; interrupting training. Make sure that your dataset or generator can generate at least `steps_per_epoch * epochs` batches. You may need to use the `.repeat()` function when building your dataset.\n",
      "  self._interrupted_warning()\n"
     ]
    },
    {
     "data": {
      "image/png": "[encoded data removed]",
      "text/plain": [
       "<Figure size 800x600 with 2 Axes>"
      ]
     },
     "metadata": {},
     "output_type": "display_data"
    }
   ],
   "source": [
    "from sklearn.metrics import classification_report, confusion_matrix\n",
    "import seaborn as sns\n",
    "import matplotlib.pyplot as plt\n",
    "\n",
    "# Create test generator with batch_size matching test set size\n",
    "test_gen = VideoDataGenerator(\n",
    "    videos=features_test,\n",
    "    labels=labels_test,\n",
    "    batch_size=4,  # Process all test samples at once\n",
    ")\n",
    "\n",
    "# Get predictions\n",
    "predictions = xlstm_model.predict(test_gen.as_dataset())\n",
    "predicted_classes = np.argmax(predictions, axis=1)\n",
    "true_classes = np.argmax(labels_test, axis=1)\n",
    "\n",
    "# Verify shapes\n",
    "print(f\"True classes shape: {true_classes.shape}\")\n",
    "print(f\"Predicted classes shape: {predicted_classes.shape}\")\n",
    "assert len(true_classes) == len(predicted_classes), \"Sample counts do not match!\"\n",
    "\n",
    "# Generate classification report\n",
    "print(\"Classification Report:\")\n",
    "print(classification_report(true_classes, predicted_classes, target_names=CLASSES_LIST))\n",
    "\n",
    "# Plot confusion matrix\n",
    "cm = confusion_matrix(true_classes, predicted_classes)\n",
    "plt.figure(figsize=(8, 6))\n",
    "sns.heatmap(cm, annot=True, fmt='d', cmap='Blues', xticklabels=CLASSES_LIST, yticklabels=CLASSES_LIST[-1])\n",
    "plt.xlabel('Predicted')\n",
    "plt.ylabel('True')\n",
    "plt.title('Confusion Matrix')\n",
    "plt.show()"
   ]
  }
 ],
 "metadata": {
  "kaggle": {
   "accelerator": "nvidiaTeslaT4",
   "dataSources": [
    {
     "datasetId": 1357563,
     "sourceId": 2256095,
     "sourceType": "datasetVersion"
    },
    {
     "datasetId": 7763484,
     "sourceId": 12338519,
     "sourceType": "datasetVersion"
    },
    {
     "datasetId": 7801555,
     "sourceId": 12373067,
     "sourceType": "datasetVersion"
    },
    {
     "datasetId": 7801884,
     "sourceId": 12373562,
     "sourceType": "datasetVersion"
    }
   ],
   "isGpuEnabled": true,
   "isInternetEnabled": true,
   "language": "python",
   "sourceType": "notebook"
  },
  "kernelspec": {
   "display_name": "Python 3",
   "language": "python",
   "name": "python3"
  },
  "language_info": {
   "codemirror_mode": {
    "name": "ipython",
    "version": 3
   },
   "file_extension": ".py",
   "mimetype": "text/x-python",
   "name": "python",
   "nbconvert_exporter": "python",
   "pygments_lexer": "ipython3",
   "version": "3.11.11"
  },
  "papermill": {
   "default_parameters": {},
   "duration": 1052.578901,
   "end_time": "2025-07-06T08:43:11.673807",
   "environment_variables": {},
   "exception": null,
   "input_path": "__notebook__.ipynb",
   "output_path": "__notebook__.ipynb",
   "parameters": {},
   "start_time": "2025-07-06T08:25:39.094906",
   "version": "2.6.0"
  }
 },
 "nbformat": 4,
 "nbformat_minor": 5
}
