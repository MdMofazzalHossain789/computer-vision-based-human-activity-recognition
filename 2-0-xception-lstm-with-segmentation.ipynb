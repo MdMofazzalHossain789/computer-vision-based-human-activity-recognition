{
 "cells": [
  {
   "cell_type": "markdown",
   "id": "c24480b6",
   "metadata": {
    "papermill": {
     "duration": 0.010859,
     "end_time": "2025-07-06T08:27:20.101458",
     "exception": false,
     "start_time": "2025-07-06T08:27:20.090599",
     "status": "completed"
    },
    "tags": []
   },
   "source": [
    "# Initialization\n",
    "## Import Libraries"
   ]
  },
  {
   "cell_type": "code",
   "execution_count": 1,
   "id": "cf6c8be5",
   "metadata": {
    "_cell_guid": "b1076dfc-b9ad-4769-8c92-a6c4dae69d19",
    "_uuid": "8f2839f25d086af736a60e9eeb907d3b93b6e0e5",
    "execution": {
     "iopub.execute_input": "2025-07-06T08:27:20.121127Z",
     "iopub.status.busy": "2025-07-06T08:27:20.120894Z",
     "iopub.status.idle": "2025-07-06T08:27:44.698253Z",
     "shell.execute_reply": "2025-07-06T08:27:44.697667Z"
    },
    "papermill": {
     "duration": 24.589033,
     "end_time": "2025-07-06T08:27:44.699912",
     "exception": false,
     "start_time": "2025-07-06T08:27:20.110879",
     "status": "completed"
    },
    "tags": []
   },
   "outputs": [
    {
     "name": "stderr",
     "output_type": "stream",
     "text": [
      "2025-07-06 08:27:23.825673: E external/local_xla/xla/stream_executor/cuda/cuda_fft.cc:477] Unable to register cuFFT factory: Attempting to register factory for plugin cuFFT when one has already been registered\n",
      "WARNING: All log messages before absl::InitializeLog() is called are written to STDERR\n",
      "E0000 00:00:1751790444.274490      19 cuda_dnn.cc:8310] Unable to register cuDNN factory: Attempting to register factory for plugin cuDNN when one has already been registered\n",
      "E0000 00:00:1751790444.404487      19 cuda_blas.cc:1418] Unable to register cuBLAS factory: Attempting to register factory for plugin cuBLAS when one has already been registered\n"
     ]
    }
   ],
   "source": [
    "# install librarires\n",
    "import os\n",
    "import tensorflow as tf\n",
    "import numpy as np\n",
    "import random"
   ]
  },
  {
   "cell_type": "markdown",
   "id": "f8e43b02",
   "metadata": {
    "papermill": {
     "duration": 0.009622,
     "end_time": "2025-07-06T08:27:44.720731",
     "exception": false,
     "start_time": "2025-07-06T08:27:44.711109",
     "status": "completed"
    },
    "tags": []
   },
   "source": [
    "## ℹ️ Set Global Constants"
   ]
  },
  {
   "cell_type": "code",
   "execution_count": 2,
   "id": "a3293e44",
   "metadata": {
    "execution": {
     "iopub.execute_input": "2025-07-06T08:27:44.741020Z",
     "iopub.status.busy": "2025-07-06T08:27:44.740586Z",
     "iopub.status.idle": "2025-07-06T08:27:44.754553Z",
     "shell.execute_reply": "2025-07-06T08:27:44.753827Z"
    },
    "papermill": {
     "duration": 0.025313,
     "end_time": "2025-07-06T08:27:44.755633",
     "exception": false,
     "start_time": "2025-07-06T08:27:44.730320",
     "status": "completed"
    },
    "tags": []
   },
   "outputs": [
    {
     "name": "stdout",
     "output_type": "stream",
     "text": [
      "Kard Kinect Activity Recognition Dataset\n",
      "There are total 18 classes, selected 18 classes\n",
      "Setting 30/class to train the model.\n",
      "Image size 128x128 with 10 sequence length\n",
      "Dropout rate: 0.5\n",
      "Train-Test split ratio 80/20\n",
      "Validation data from Train set 20.0%\n"
     ]
    }
   ],
   "source": [
    "# global variables\n",
    "# set dataset directories\n",
    "\n",
    "\n",
    "DATASET_DIR = \"/kaggle/input/kard-kinect-activity-recognition-dataset\"\n",
    "DATASET_NAME = DATASET_DIR.split(\"/\")[-1].replace(\"-\", \" \").title()\n",
    "\n",
    "print(DATASET_NAME)\n",
    "\n",
    "ALL_CLASS_NAMES = os.listdir(DATASET_DIR)\n",
    "\n",
    "# Global constant variables -> \n",
    "NO_OF_CLASSES = 18\n",
    "CLASSES_LIST = ALL_CLASS_NAMES[:NO_OF_CLASSES]\n",
    "\n",
    "# Model Configuration\n",
    "IMAGE_HEIGHT, IMAGE_WIDTH = 128, 128\n",
    "SEQUENCE_LENGTH = 10\n",
    "\n",
    "# set drop out rate\n",
    "DROPOUT_RATE = 0.5\n",
    "\n",
    "# set datas\n",
    "MAX_VIDEO_PER_CLASS = 30\n",
    "\n",
    "# split dataset\n",
    "TEST_SIZE = 0.20\n",
    "\n",
    "# model fit parameters\n",
    "EPOCHS = 30\n",
    "BATCH_SIZE = 32\n",
    "VALIDATION_SPLIT = 0.20\n",
    "\n",
    "# augmentation values\n",
    "NOISE_FACTOR = 0.02\n",
    "SHEAR_X= 1\n",
    "SHEAR_Y= 1\n",
    "\n",
    "# give a name of the model to save\n",
    "MODEL_NAME = \"Xception\"\n",
    "\n",
    "print(f\"There are total {len(ALL_CLASS_NAMES)} classes, selected {NO_OF_CLASSES} classes\")\n",
    "print(f\"Setting {MAX_VIDEO_PER_CLASS}/class to train the model.\")\n",
    "print(f\"Image size {IMAGE_HEIGHT}x{IMAGE_WIDTH} with {SEQUENCE_LENGTH} sequence length\")\n",
    "print(f\"Dropout rate: {DROPOUT_RATE}\")\n",
    "print(f\"Train-Test split ratio {int((1-TEST_SIZE)*100)}/{int(TEST_SIZE*100)}\")\n",
    "print(f\"Validation data from Train set {VALIDATION_SPLIT*100}%\")"
   ]
  },
  {
   "cell_type": "markdown",
   "id": "798e3cd1",
   "metadata": {
    "papermill": {
     "duration": 0.009459,
     "end_time": "2025-07-06T08:27:44.774571",
     "exception": false,
     "start_time": "2025-07-06T08:27:44.765112",
     "status": "completed"
    },
    "tags": []
   },
   "source": [
    "## Set `Seed` Values"
   ]
  },
  {
   "cell_type": "code",
   "execution_count": 3,
   "id": "f6966f8b",
   "metadata": {
    "execution": {
     "iopub.execute_input": "2025-07-06T08:27:44.794015Z",
     "iopub.status.busy": "2025-07-06T08:27:44.793793Z",
     "iopub.status.idle": "2025-07-06T08:27:44.797298Z",
     "shell.execute_reply": "2025-07-06T08:27:44.796761Z"
    },
    "papermill": {
     "duration": 0.014532,
     "end_time": "2025-07-06T08:27:44.798315",
     "exception": false,
     "start_time": "2025-07-06T08:27:44.783783",
     "status": "completed"
    },
    "tags": []
   },
   "outputs": [],
   "source": [
    "# set seeed to get similar values\n",
    "seed_constant = 27\n",
    "np.random.seed(seed_constant)\n",
    "random.seed(seed_constant)\n",
    "tf.random.set_seed(seed_constant)"
   ]
  },
  {
   "cell_type": "markdown",
   "id": "5f2b7d7a",
   "metadata": {
    "papermill": {
     "duration": 0.009156,
     "end_time": "2025-07-06T08:27:44.816951",
     "exception": false,
     "start_time": "2025-07-06T08:27:44.807795",
     "status": "completed"
    },
    "tags": []
   },
   "source": [
    "# 📌 Function Definition\n",
    "## Resize and Frame Extraction"
   ]
  },
  {
   "cell_type": "code",
   "execution_count": 4,
   "id": "5e372d8c",
   "metadata": {
    "execution": {
     "iopub.execute_input": "2025-07-06T08:27:44.836847Z",
     "iopub.status.busy": "2025-07-06T08:27:44.836246Z",
     "iopub.status.idle": "2025-07-06T08:27:44.844784Z",
     "shell.execute_reply": "2025-07-06T08:27:44.844261Z"
    },
    "papermill": {
     "duration": 0.019594,
     "end_time": "2025-07-06T08:27:44.845918",
     "exception": false,
     "start_time": "2025-07-06T08:27:44.826324",
     "status": "completed"
    },
    "tags": []
   },
   "outputs": [],
   "source": [
    "import cv2\n",
    "from concurrent.futures import ThreadPoolExecutor\n",
    "\n",
    "def resize_and_normalize_frame(frame, image_height, image_width):\n",
    "    try:\n",
    "        resized_frame = cv2.resize(frame, (image_width, image_height), interpolation=cv2.INTER_LINEAR)\n",
    "        normalized_frame = resized_frame / 255.0\n",
    "        return normalized_frame\n",
    "    except Exception as e:\n",
    "        print(f\"Error processing frame: {e}\")\n",
    "        return None\n",
    "\n",
    "def frames_extraction(video_path, \n",
    "                      sequence_length=SEQUENCE_LENGTH, \n",
    "                      image_height=IMAGE_HEIGHT, \n",
    "                      image_width=IMAGE_WIDTH):\n",
    "    # Declare a list to store video frames\n",
    "    frames_list = []\n",
    "\n",
    "    # Check if video file exists\n",
    "    if not os.path.exists(video_path):\n",
    "        print(f\"Error: Video file not found at {video_path}\")\n",
    "        return None\n",
    "\n",
    "    # Read the video file using VideoCapture with optimized settings\n",
    "    video_reader = cv2.VideoCapture(video_path, cv2.CAP_FFMPEG)\n",
    "\n",
    "    # Check if the video was opened successfully\n",
    "    if not video_reader.isOpened():\n",
    "        print(f\"Error: Could not open video file {video_path}\")\n",
    "        video_reader.release()\n",
    "        return None\n",
    "\n",
    "    # Get the total number of frames in the video\n",
    "    video_frames_count = int(video_reader.get(cv2.CAP_PROP_FRAME_COUNT))\n",
    "\n",
    "    # Ensure the video has enough frames\n",
    "    if video_frames_count < sequence_length:\n",
    "        print(f\"Warning: Video {video_path} has only {video_frames_count} frames, less than required {sequence_length}\")\n",
    "        video_reader.release()\n",
    "        return None\n",
    "\n",
    "    # Calculate the interval after which frames will be sampled\n",
    "    skip_frames_window = max(int(video_frames_count / sequence_length), 1)\n",
    "\n",
    "    # Pre-allocate frame indices to extract\n",
    "    frame_indices = [i * skip_frames_window for i in range(sequence_length)]\n",
    "\n",
    "    # Read and process frames in parallel\n",
    "    frames = []\n",
    "    for idx in frame_indices:\n",
    "        video_reader.set(cv2.CAP_PROP_POS_FRAMES, idx)\n",
    "        success, frame = video_reader.read()\n",
    "        if not success or frame is None:\n",
    "            print(f\"Warning: Failed to read frame at index {idx} from {video_path}\")\n",
    "            break\n",
    "        frame = cv2.cvtColor(frame, cv2.COLOR_BGR2RGB)\n",
    "        frames.append(frame)\n",
    "\n",
    "    # Release the VideoCapture object early\n",
    "    video_reader.release()\n",
    "\n",
    "    # Ensure the correct number of frames is read\n",
    "    if len(frames) != sequence_length:\n",
    "        print(f\"Warning: Read {len(frames)} frames instead of {sequence_length} from {video_path}\")\n",
    "        return None\n",
    "\n",
    "    # Process frames in parallel using ThreadPoolExecutor\n",
    "    with ThreadPoolExecutor() as executor:\n",
    "        processed_frames = list(executor.map(\n",
    "            lambda f: resize_and_normalize_frame(f, image_height, image_width), \n",
    "            frames\n",
    "        ))\n",
    "\n",
    "    # Check for any failed frame processing\n",
    "    if any(f is None for f in processed_frames):\n",
    "        print(f\"Warning: Some frames failed to process in {video_path}\")\n",
    "        return None\n",
    "\n",
    "    # Convert to NumPy array\n",
    "    frames_array = np.array(processed_frames, dtype=np.float32)\n",
    "\n",
    "    return frames_array"
   ]
  },
  {
   "cell_type": "code",
   "execution_count": 5,
   "id": "0d2c47d2",
   "metadata": {
    "execution": {
     "iopub.execute_input": "2025-07-06T08:27:44.865488Z",
     "iopub.status.busy": "2025-07-06T08:27:44.865092Z",
     "iopub.status.idle": "2025-07-06T08:27:44.868297Z",
     "shell.execute_reply": "2025-07-06T08:27:44.867652Z"
    },
    "papermill": {
     "duration": 0.014054,
     "end_time": "2025-07-06T08:27:44.869316",
     "exception": false,
     "start_time": "2025-07-06T08:27:44.855262",
     "status": "completed"
    },
    "tags": []
   },
   "outputs": [],
   "source": [
    " # # Iterate through all video files\n",
    " #        for file_name in files_list:\n",
    " #            video_file_path = os.path.join(class_path, file_name)\n",
    "\n",
    " #            # Extract frames using the updated frames_extraction function\n",
    " #            frames = frames_extraction(video_file_path, sequence_length, image_height, image_width)\n",
    "\n",
    " #            # Skip videos where frame extraction failed\n",
    " #            if frames is None:\n",
    " #                print(f\"Skipping video {video_file_path} due to frame extraction failure\")\n",
    " #                continue\n",
    "\n",
    " #            # Append the data to respective lists\n",
    " #            features.append(frames)\n",
    " #            labels.append(class_index)"
   ]
  },
  {
   "cell_type": "markdown",
   "id": "726a3c12",
   "metadata": {
    "papermill": {
     "duration": 0.009349,
     "end_time": "2025-07-06T08:27:44.888349",
     "exception": false,
     "start_time": "2025-07-06T08:27:44.879000",
     "status": "completed"
    },
    "tags": []
   },
   "source": [
    "## Create Dataset"
   ]
  },
  {
   "cell_type": "code",
   "execution_count": 6,
   "id": "3ac906ec",
   "metadata": {
    "execution": {
     "iopub.execute_input": "2025-07-06T08:27:44.908383Z",
     "iopub.status.busy": "2025-07-06T08:27:44.908185Z",
     "iopub.status.idle": "2025-07-06T08:27:44.914244Z",
     "shell.execute_reply": "2025-07-06T08:27:44.913583Z"
    },
    "papermill": {
     "duration": 0.017682,
     "end_time": "2025-07-06T08:27:44.915252",
     "exception": false,
     "start_time": "2025-07-06T08:27:44.897570",
     "status": "completed"
    },
    "tags": []
   },
   "outputs": [],
   "source": [
    "# RUN create dataset function definition\n",
    "def create_dataset(dataset_dir,\n",
    "                   classes_list, \n",
    "                   sequence_length=SEQUENCE_LENGTH, \n",
    "                   image_height=IMAGE_HEIGHT, \n",
    "                   image_width=IMAGE_WIDTH, \n",
    "                   max_videos_per_class=None,\n",
    "                   augmentations=False\n",
    "                  ):\n",
    "    \n",
    "    # Initialize lists to store features, labels, and video file paths\n",
    "    videos = []\n",
    "    labels = []\n",
    "\n",
    "    # Check if dataset directory exists\n",
    "    if not os.path.exists(dataset_dir):\n",
    "        raise FileNotFoundError(f\"Dataset directory not found: {dataset_dir}\")\n",
    "\n",
    "    # Iterate through all classes in the classes list\n",
    "    for class_index, class_name in enumerate(classes_list):\n",
    "        class_path = os.path.join(dataset_dir, class_name)\n",
    "        \n",
    "        # Check if class directory exists\n",
    "        if not os.path.exists(class_path):\n",
    "            print(f\"Warning: Class directory not found: {class_path}\")\n",
    "            continue\n",
    "\n",
    "        print(f'Extracting Data of Class: {class_name}')\n",
    "\n",
    "        # Get the list of video files in the class directory\n",
    "        files_list = os.listdir(class_path)\n",
    "\n",
    "        # Limit the number of videos if specified\n",
    "        if max_videos_per_class is not None:\n",
    "            files_list = files_list[:max_videos_per_class]\n",
    "\n",
    "        # Iterate through all video files\n",
    "        for file_name in files_list:\n",
    "            video_file_path = os.path.join(class_path, file_name)\n",
    "\n",
    "            # Extract frames using the updated frames_extraction function\n",
    "            frames = frames_extraction(video_file_path, \n",
    "                                       sequence_length, \n",
    "                                       image_height, \n",
    "                                       image_width)\n",
    "\n",
    "            # Skip videos where frame extraction failed\n",
    "            if frames is None:\n",
    "                print(f\"Skipping video {video_file_path} due to frame extraction failure\")\n",
    "                continue\n",
    "\n",
    "            # Append the data to respective lists\n",
    "            videos.append(frames)\n",
    "            labels.append(class_index)\n",
    "\n",
    "    # Convert lists to numpy arrays\n",
    "    if not videos:\n",
    "        raise ValueError(\"No valid videos were processed. Check dataset or parameters.\")\n",
    "    videos = np.asarray(videos)\n",
    "    labels = np.array(labels)\n",
    "\n",
    "    print(f\"Dataset created with {len(videos)} videos\")\n",
    "    print(f\"Features shape: {videos.shape}\")\n",
    "    print(f\"Labels shape: {labels.shape}\")\n",
    "\n",
    "    return videos, labels"
   ]
  },
  {
   "cell_type": "markdown",
   "id": "727d31f0",
   "metadata": {
    "papermill": {
     "duration": 0.00917,
     "end_time": "2025-07-06T08:27:44.934058",
     "exception": false,
     "start_time": "2025-07-06T08:27:44.924888",
     "status": "completed"
    },
    "tags": []
   },
   "source": [
    "## 🪄 Video Data Generator"
   ]
  },
  {
   "cell_type": "code",
   "execution_count": 7,
   "id": "831970cb",
   "metadata": {
    "execution": {
     "iopub.execute_input": "2025-07-06T08:27:44.953617Z",
     "iopub.status.busy": "2025-07-06T08:27:44.953393Z",
     "iopub.status.idle": "2025-07-06T08:27:45.038143Z",
     "shell.execute_reply": "2025-07-06T08:27:45.037339Z"
    },
    "papermill": {
     "duration": 0.096108,
     "end_time": "2025-07-06T08:27:45.039403",
     "exception": false,
     "start_time": "2025-07-06T08:27:44.943295",
     "status": "completed"
    },
    "tags": []
   },
   "outputs": [],
   "source": [
    "from tensorflow.keras.utils import Sequence, to_categorical\n",
    "import tensorflow as tf\n",
    "import numpy as np\n",
    "import cv2\n",
    "\n",
    "\n",
    "\n",
    "\n",
    "class VideoDataGenerator(Sequence):\n",
    "    def __init__(self, videos, labels, batch_size, is_training=False):\n",
    "        self.videos = list(videos)  # List of video file paths\n",
    "        self.labels = list(labels)  # List or array of labels encoded\n",
    "        self.batch_size = batch_size\n",
    "        self.indices = np.arange(len(self.videos))  # For shuffling\n",
    "        self.is_training = is_training  # Flag to control whether augmentation is applied\n",
    "        self.temp_videos=[]\n",
    "        self.temp_labels=[]\n",
    "        \n",
    "        \n",
    "        print(f\"Total {len(videos)} videos and {len(labels)} classes\")\n",
    "\n",
    "    def __len__(self):\n",
    "        # Return the number of batches per epoch\n",
    "        return int(np.ceil(len(self.videos) / self.batch_size))\n",
    "\n",
    "    def __getitem__(self, idx):\n",
    "        # Get batch indices\n",
    "        batch_indices = self.indices[idx * self.batch_size:(idx + 1) * self.batch_size]\n",
    "        \n",
    "        # Handle case where batch_indices is empty\n",
    "        if len(batch_indices) == 0:\n",
    "            return np.array([], dtype=np.float32), np.array([], dtype=np.float32)\n",
    "        \n",
    "        # Initialize lists to store frames and labels\n",
    "        all_frames = []\n",
    "        all_labels = []\n",
    "        \n",
    "        # Process each video in the batch\n",
    "        for i, index in enumerate(batch_indices):\n",
    "            sequence = self.videos[index]\n",
    "            label = self.labels[index]\n",
    "            \n",
    "            # Load and process video\n",
    "            # sequence = frames_extraction(video_path)\n",
    "\n",
    "            # if sequence is not None:\n",
    "            #     # Apply augmentations: 1 original + 4 augmentations (horizontal flip, shear, rotation, noise)\n",
    "            #     augmented_sequences = [sequence]  # Add original sequence\n",
    "\n",
    "            #     if self.is_training:\n",
    "            #         # Apply augmentations\n",
    "            #         augmented_sequences.append(np.array(horizontal_flip(sequence)))  # Horizontal Flip\n",
    "            #         augmented_sequences.append(np.array(apply_shear_frames(sequence, shear_right=0)))  # Random Shear\n",
    "            #         augmented_sequences.append(np.array(apply_shear_frames(sequence, shear_right=1)))  # Random Rotation\n",
    "            #         augmented_sequences.append(np.array(noise_video(sequence)))  # Salt and Pepper Noise\n",
    "\n",
    "            #     # Add augmented sequences to the batch\n",
    "            #     all_frames.extend(augmented_sequences)\n",
    "            #     all_labels.extend([label] * len(augmented_sequences))  # Each augmentation has the same label\n",
    "\n",
    "            \n",
    "            # Append the sequence and label\n",
    "            all_frames.append(sequence)\n",
    "            all_labels.append(label)\n",
    "        \n",
    "        # Convert to numpy arrays\n",
    "        all_frames = np.array(all_frames, dtype=np.float32)\n",
    "        all_labels = np.array(all_labels)\n",
    "            \n",
    "        \n",
    "        return all_frames, all_labels\n",
    "    def add(self, new_videos, new_labels):\n",
    "        print(f\"Adding {len(new_videos)} videos with {len(new_labels)} classes.\")\n",
    "        self.temp_videos.extend(new_videos)\n",
    "        self.temp_labels.extend(new_labels)\n",
    "        print(f\"PENDING - Total {len(self.temp_videos)} videos and {len(self.temp_labels)} classes are waiting to be added...\")\n",
    "    \n",
    "    def confirm(self):\n",
    "        print(f\"Adding {len(self.temp_videos)} videos with {len(self.temp_labels)} classes.\")\n",
    "        self.videos.extend(self.temp_videos)\n",
    "        self.labels.extend(self.temp_labels)\n",
    "        print(f\"Successfully added - {len(self.temp_videos)} videos and {len(self.temp_labels)} classes.\")\n",
    "        self.temp_videos=[]\n",
    "        self.temp_labels=[]\n",
    "        self.indices = np.arange(len(self.videos))\n",
    "        print(f\"Now Total - {len(self.videos)} videos and {len(self.labels)} classes.\")\n",
    "        print(f\"PENDING for Augmentations - {len(self.temp_videos)} videos and {len(self.temp_labels)} classes.\")\n",
    "    \n",
    "    def on_epoch_end(self):\n",
    "        # Shuffle indices at the end of each epoch\n",
    "        np.random.shuffle(self.indices)\n",
    "\n",
    "    def as_dataset(self):\n",
    "        def generator():\n",
    "            for idx in range(len(self)):\n",
    "                frames, labels = self[idx]\n",
    "                # Skip empty batches\n",
    "                if frames.size == 0:\n",
    "                    continue\n",
    "                yield frames, labels\n",
    "        self.labels=np.array(self.labels)\n",
    "    \n",
    "        # Create a tf.data.Dataset\n",
    "        dataset = tf.data.Dataset.from_generator(\n",
    "            generator,\n",
    "            output_types=(tf.float32, tf.float32),\n",
    "            output_shapes=(\n",
    "                (None, SEQUENCE_LENGTH, IMAGE_HEIGHT, IMAGE_WIDTH, 3),\n",
    "                (None, NO_OF_CLASSES)\n",
    "            )\n",
    "        )\n",
    "        dataset = dataset.prefetch(tf.data.AUTOTUNE)\n",
    "        return dataset"
   ]
  },
  {
   "cell_type": "markdown",
   "id": "b2489ffb",
   "metadata": {
    "papermill": {
     "duration": 0.053369,
     "end_time": "2025-07-06T08:27:45.102474",
     "exception": false,
     "start_time": "2025-07-06T08:27:45.049105",
     "status": "completed"
    },
    "tags": []
   },
   "source": [
    "## Debug and Helpers"
   ]
  },
  {
   "cell_type": "markdown",
   "id": "f6db3cc5",
   "metadata": {
    "papermill": {
     "duration": 0.009164,
     "end_time": "2025-07-06T08:27:45.121145",
     "exception": false,
     "start_time": "2025-07-06T08:27:45.111981",
     "status": "completed"
    },
    "tags": []
   },
   "source": [
    "## 💫 Augmentation Helper function"
   ]
  },
  {
   "cell_type": "code",
   "execution_count": 8,
   "id": "e627e7b3",
   "metadata": {
    "execution": {
     "iopub.execute_input": "2025-07-06T08:27:45.141728Z",
     "iopub.status.busy": "2025-07-06T08:27:45.141026Z",
     "iopub.status.idle": "2025-07-06T08:27:45.145660Z",
     "shell.execute_reply": "2025-07-06T08:27:45.144963Z"
    },
    "papermill": {
     "duration": 0.015831,
     "end_time": "2025-07-06T08:27:45.146823",
     "exception": false,
     "start_time": "2025-07-06T08:27:45.130992",
     "status": "completed"
    },
    "tags": []
   },
   "outputs": [],
   "source": [
    "def apply_augmentation(augmentation_function, generator, confirm=False, *args, **kwargs):\n",
    "    \n",
    "    for i in range(len(generator)):\n",
    "        batch_videos, batch_labels = generator[i]\n",
    "        augmented_videos=[]\n",
    "        for videos in batch_videos:\n",
    "            augmented_videos.append(augmentation_function(videos, *args, **kwargs))\n",
    "        generator.add(augmented_videos, batch_labels)\n",
    "    if confirm:\n",
    "        generator.confirm()"
   ]
  },
  {
   "cell_type": "markdown",
   "id": "dd1edab9",
   "metadata": {
    "papermill": {
     "duration": 0.009137,
     "end_time": "2025-07-06T08:27:45.165423",
     "exception": false,
     "start_time": "2025-07-06T08:27:45.156286",
     "status": "completed"
    },
    "tags": []
   },
   "source": [
    "### Show Frames"
   ]
  },
  {
   "cell_type": "code",
   "execution_count": 9,
   "id": "5586ec7e",
   "metadata": {
    "execution": {
     "iopub.execute_input": "2025-07-06T08:27:45.185060Z",
     "iopub.status.busy": "2025-07-06T08:27:45.184847Z",
     "iopub.status.idle": "2025-07-06T08:27:45.188631Z",
     "shell.execute_reply": "2025-07-06T08:27:45.187884Z"
    },
    "papermill": {
     "duration": 0.014867,
     "end_time": "2025-07-06T08:27:45.189713",
     "exception": false,
     "start_time": "2025-07-06T08:27:45.174846",
     "status": "completed"
    },
    "tags": []
   },
   "outputs": [],
   "source": [
    "# show frame def\n",
    "import matplotlib.pyplot as plt\n",
    "\n",
    "def show_frame(frame):\n",
    "    plt.figure(figsize=(3,3))\n",
    "    plt.imshow(frame)\n",
    "    plt.axis(\"off\")\n",
    "    plt.tight_layout()"
   ]
  },
  {
   "cell_type": "markdown",
   "id": "4787493b",
   "metadata": {
    "papermill": {
     "duration": 0.009036,
     "end_time": "2025-07-06T08:27:45.208170",
     "exception": false,
     "start_time": "2025-07-06T08:27:45.199134",
     "status": "completed"
    },
    "tags": []
   },
   "source": [
    "### Helper Function"
   ]
  },
  {
   "cell_type": "code",
   "execution_count": 10,
   "id": "9869a5f0",
   "metadata": {
    "execution": {
     "iopub.execute_input": "2025-07-06T08:27:45.227609Z",
     "iopub.status.busy": "2025-07-06T08:27:45.227129Z",
     "iopub.status.idle": "2025-07-06T08:27:45.231250Z",
     "shell.execute_reply": "2025-07-06T08:27:45.230749Z"
    },
    "papermill": {
     "duration": 0.01489,
     "end_time": "2025-07-06T08:27:45.232250",
     "exception": false,
     "start_time": "2025-07-06T08:27:45.217360",
     "status": "completed"
    },
    "tags": []
   },
   "outputs": [],
   "source": [
    "def show_frame_vs(frame1, frame2, title1=\"Frame 1\", title2=\"Frame 2\"):\n",
    "    plt.figure(figsize=(10, 5))\n",
    "\n",
    "    # First frame\n",
    "    plt.subplot(1, 2, 1)\n",
    "    plt.imshow(frame1)\n",
    "    plt.title(title1)\n",
    "    plt.axis('off')\n",
    "\n",
    "    # Second frame\n",
    "    plt.subplot(1, 2, 2)\n",
    "    plt.imshow(frame2)\n",
    "    plt.title(title2)\n",
    "    plt.axis('off')\n",
    "\n",
    "    plt.tight_layout()\n",
    "    plt.show()"
   ]
  },
  {
   "cell_type": "code",
   "execution_count": 11,
   "id": "c2f945e9",
   "metadata": {
    "execution": {
     "iopub.execute_input": "2025-07-06T08:27:45.251883Z",
     "iopub.status.busy": "2025-07-06T08:27:45.251348Z",
     "iopub.status.idle": "2025-07-06T08:27:45.254821Z",
     "shell.execute_reply": "2025-07-06T08:27:45.254286Z"
    },
    "papermill": {
     "duration": 0.014308,
     "end_time": "2025-07-06T08:27:45.255881",
     "exception": false,
     "start_time": "2025-07-06T08:27:45.241573",
     "status": "completed"
    },
    "tags": []
   },
   "outputs": [],
   "source": [
    "# reusable video loop helper function\n",
    "def apply_function(function, videos, *arg, **kwargs):\n",
    "    new_videos=[]\n",
    "    \n",
    "    for video in videos:\n",
    "        new_videos.append(function(video, *arg, **kwargs))\n",
    "        \n",
    "    return new_videos"
   ]
  },
  {
   "cell_type": "code",
   "execution_count": 12,
   "id": "1c968de5",
   "metadata": {
    "execution": {
     "iopub.execute_input": "2025-07-06T08:27:45.275347Z",
     "iopub.status.busy": "2025-07-06T08:27:45.275149Z",
     "iopub.status.idle": "2025-07-06T08:27:45.278919Z",
     "shell.execute_reply": "2025-07-06T08:27:45.278383Z"
    },
    "papermill": {
     "duration": 0.014818,
     "end_time": "2025-07-06T08:27:45.279944",
     "exception": false,
     "start_time": "2025-07-06T08:27:45.265126",
     "status": "completed"
    },
    "tags": []
   },
   "outputs": [],
   "source": [
    "# reusable video loop helper function\n",
    "def apply(function, videos, labels, *arg, **kwargs):\n",
    "    new_videos=[]\n",
    "    new_labels=[]\n",
    "    combined=zip(labels, videos)\n",
    "    \n",
    "    for label, video in combined:\n",
    "        new_videos.append(function(video, *arg, **kwargs))\n",
    "        new_labels.append(label)\n",
    "        \n",
    "    new_videos=np.asarray(new_videos)\n",
    "    new_labels=np.asarray(new_labels)\n",
    "    \n",
    "    return new_videos, new_labels"
   ]
  },
  {
   "cell_type": "markdown",
   "id": "98db454d",
   "metadata": {
    "papermill": {
     "duration": 0.009332,
     "end_time": "2025-07-06T08:27:45.298560",
     "exception": false,
     "start_time": "2025-07-06T08:27:45.289228",
     "status": "completed"
    },
    "tags": []
   },
   "source": [
    "## Salt and Pepper Noise "
   ]
  },
  {
   "cell_type": "code",
   "execution_count": 13,
   "id": "3a7f58eb",
   "metadata": {
    "execution": {
     "iopub.execute_input": "2025-07-06T08:27:45.318689Z",
     "iopub.status.busy": "2025-07-06T08:27:45.318012Z",
     "iopub.status.idle": "2025-07-06T08:27:45.322327Z",
     "shell.execute_reply": "2025-07-06T08:27:45.321849Z"
    },
    "papermill": {
     "duration": 0.015791,
     "end_time": "2025-07-06T08:27:45.323566",
     "exception": false,
     "start_time": "2025-07-06T08:27:45.307775",
     "status": "completed"
    },
    "tags": []
   },
   "outputs": [],
   "source": [
    "# Noise function def\n",
    "\n",
    "def noise_video(video,noise_factor=NOISE_FACTOR):\n",
    "    noisy_video=[]\n",
    "    for frame in video:\n",
    "        # Generate random noise\n",
    "        noise = np.random.rand(*frame.shape)  # Generate random noise\n",
    "        salt_pepper_noise = np.random.choice([0, 1], size=frame.shape, p=[1-noise_factor, noise_factor])\n",
    "        noisy_frame = frame * (1 - salt_pepper_noise) + salt_pepper_noise * np.random.rand(*frame.shape)\n",
    "        noisy_video.append(noisy_frame)\n",
    "    return np.array(noisy_video)"
   ]
  },
  {
   "cell_type": "markdown",
   "id": "494046c6",
   "metadata": {
    "papermill": {
     "duration": 0.010551,
     "end_time": "2025-07-06T08:27:45.343707",
     "exception": false,
     "start_time": "2025-07-06T08:27:45.333156",
     "status": "completed"
    },
    "tags": []
   },
   "source": [
    "## Horizontal Flip"
   ]
  },
  {
   "cell_type": "code",
   "execution_count": 14,
   "id": "5adde38b",
   "metadata": {
    "execution": {
     "iopub.execute_input": "2025-07-06T08:27:45.363282Z",
     "iopub.status.busy": "2025-07-06T08:27:45.363101Z",
     "iopub.status.idle": "2025-07-06T08:27:45.366247Z",
     "shell.execute_reply": "2025-07-06T08:27:45.365774Z"
    },
    "papermill": {
     "duration": 0.014304,
     "end_time": "2025-07-06T08:27:45.367350",
     "exception": false,
     "start_time": "2025-07-06T08:27:45.353046",
     "status": "completed"
    },
    "tags": []
   },
   "outputs": [],
   "source": [
    "# horizontal flip function def\n",
    "# Testing Flip feautes[0] -> first video\n",
    "def horizontal_flip(video):\n",
    "    return [tf.image.flip_left_right(frame) for frame in video]"
   ]
  },
  {
   "cell_type": "markdown",
   "id": "03086dbb",
   "metadata": {
    "papermill": {
     "duration": 0.009371,
     "end_time": "2025-07-06T08:27:45.386514",
     "exception": false,
     "start_time": "2025-07-06T08:27:45.377143",
     "status": "completed"
    },
    "tags": []
   },
   "source": [
    "## Random Shear"
   ]
  },
  {
   "cell_type": "code",
   "execution_count": 15,
   "id": "759570c0",
   "metadata": {
    "execution": {
     "iopub.execute_input": "2025-07-06T08:27:45.408460Z",
     "iopub.status.busy": "2025-07-06T08:27:45.408262Z",
     "iopub.status.idle": "2025-07-06T08:27:45.413823Z",
     "shell.execute_reply": "2025-07-06T08:27:45.413301Z"
    },
    "papermill": {
     "duration": 0.016969,
     "end_time": "2025-07-06T08:27:45.414846",
     "exception": false,
     "start_time": "2025-07-06T08:27:45.397877",
     "status": "completed"
    },
    "tags": []
   },
   "outputs": [],
   "source": [
    "# random shear function def\n",
    "import numpy as np\n",
    "import tensorflow as tf\n",
    "from scipy.ndimage import affine_transform\n",
    "\n",
    "def apply_shear_frames(frames, shear_right):\n",
    "    return [apply_shear(frame, shear_right) for frame in frames]\n",
    "\n",
    "def apply_shear(frame, shear_right=0):\n",
    "    frame_resized = tf.image.resize(frame, (IMAGE_HEIGHT, IMAGE_WIDTH)).numpy()\n",
    "    if shear_right:\n",
    "        shear_x = 0.09\n",
    "        shear_y = 0.1\n",
    "    else:\n",
    "        shear_x = -0.09\n",
    "        shear_y = 0.3\n",
    "    # Construct the affine matrix for scipy: inverse of the transformation matrix\n",
    "    # scipy applies the inverse transform matrix\n",
    "    shear_matrix = np.array([\n",
    "        [1, shear_x, 0],\n",
    "        [shear_y, 1, 0],\n",
    "        [0, 0, 1]\n",
    "    ], dtype=np.float32)\n",
    "\n",
    "    # Extract 2x2 part for affine_transform\n",
    "    matrix = shear_matrix[:2, :2]\n",
    "\n",
    "    # Offset (no translation)\n",
    "    offset = [0, 0]\n",
    "\n",
    "    # Apply affine transform on each channel separately\n",
    "    sheared = np.zeros_like(frame_resized)\n",
    "    for c in range(3):\n",
    "        sheared[..., c] = affine_transform(\n",
    "            frame_resized[..., c],\n",
    "            matrix=matrix,\n",
    "            offset=offset,\n",
    "            order=1,          # bilinear interpolation\n",
    "            mode='nearest'    # fill_mode\n",
    "        )\n",
    "    return sheared"
   ]
  },
  {
   "cell_type": "markdown",
   "id": "b0b6f436",
   "metadata": {
    "papermill": {
     "duration": 0.009095,
     "end_time": "2025-07-06T08:27:45.433695",
     "exception": false,
     "start_time": "2025-07-06T08:27:45.424600",
     "status": "completed"
    },
    "tags": []
   },
   "source": [
    "# 📌 Model Related\n",
    "## 🗼 Model Architecture `create_model`"
   ]
  },
  {
   "cell_type": "code",
   "execution_count": 16,
   "id": "b65609ee",
   "metadata": {
    "execution": {
     "iopub.execute_input": "2025-07-06T08:27:45.453700Z",
     "iopub.status.busy": "2025-07-06T08:27:45.453510Z",
     "iopub.status.idle": "2025-07-06T08:27:45.470760Z",
     "shell.execute_reply": "2025-07-06T08:27:45.470282Z"
    },
    "papermill": {
     "duration": 0.02844,
     "end_time": "2025-07-06T08:27:45.471852",
     "exception": false,
     "start_time": "2025-07-06T08:27:45.443412",
     "status": "completed"
    },
    "tags": []
   },
   "outputs": [],
   "source": [
    "from tensorflow.keras.applications import Xception\n",
    "from tensorflow.keras.models import Sequential\n",
    "from tensorflow.keras.layers import GlobalAveragePooling2D, TimeDistributed, LSTM, Dropout, Dense\n",
    "from tensorflow.keras.regularizers import l2\n",
    "from tensorflow.keras.layers import BatchNormalization\n",
    "\n",
    "def create_xception_lstm_model(sequence_length, image_height, image_width, classes_list=None, dropout_rate=0.5):\n",
    "    if classes_list is None:\n",
    "        raise ValueError(\"classes_list must be provided to define the output layer size\")\n",
    "\n",
    "    try:\n",
    "        # Load Xception model with pre-trained ImageNet weights\n",
    "        print(\"Loading Xception base model...\")\n",
    "        xception = Xception(\n",
    "            weights='imagenet',\n",
    "            include_top=False,\n",
    "            input_shape=(image_height, image_width, 3),\n",
    "            name=\"Xception\"\n",
    "        )\n",
    "        # Freeze Xception layers\n",
    "        for layer in xception.layers[:-10]:  # Unfreeze last 10 layers\n",
    "            layer.trainable = False\n",
    "        for layer in xception.layers[-10:]:\n",
    "            layer.trainable = True\n",
    "\n",
    "        # Define the Sequential model\n",
    "        model = Sequential([\n",
    "            # InputLayer and TimeDistributed Xception\n",
    "            TimeDistributed(\n",
    "                xception,\n",
    "                input_shape=(sequence_length, image_height, image_width, 3),\n",
    "                name=\"time_distributed\"\n",
    "            ),\n",
    "            # TimeDistributed GlobalAveragePooling2D\n",
    "            TimeDistributed(GlobalAveragePooling2D(), name=\"time_distributed_1\"),\n",
    "            # LSTM layer with 128 units\n",
    "            LSTM(128, activation=\"tanh\", return_sequences=False, kernel_regularizer=l2(0.01), name=\"lstm\"),\n",
    "            \n",
    "            BatchNormalization(name=\"batch_normalization\"),\n",
    "            # Dropout after LSTM\n",
    "            Dropout(dropout_rate, name=\"dropout_lstm\"),\n",
    "            # Dense layer with 512 units\n",
    "            Dense(512, activation=\"relu\", kernel_regularizer=l2(0.01), name=\"dense\"),\n",
    "            # Dropout after Dense\n",
    "            Dropout(dropout_rate + 0.1, name=\"dropout_dense\"),\n",
    "            # Output Dense layer with softmax activation\n",
    "            Dense(len(classes_list), activation=\"softmax\", name=\"dense_1\")\n",
    "        ])\n",
    "        \n",
    "        # Print model summary\n",
    "        print(\"Model architecture created successfully!\")\n",
    "        model.summary()\n",
    "\n",
    "        return model\n",
    "\n",
    "    except Exception as e:\n",
    "        print(f\"Error creating model: {e}\")\n",
    "        return None"
   ]
  },
  {
   "cell_type": "code",
   "execution_count": 17,
   "id": "f8c2f7ab",
   "metadata": {
    "execution": {
     "iopub.execute_input": "2025-07-06T08:27:45.491575Z",
     "iopub.status.busy": "2025-07-06T08:27:45.491358Z",
     "iopub.status.idle": "2025-07-06T08:27:52.858662Z",
     "shell.execute_reply": "2025-07-06T08:27:52.857754Z"
    },
    "papermill": {
     "duration": 7.378283,
     "end_time": "2025-07-06T08:27:52.859932",
     "exception": false,
     "start_time": "2025-07-06T08:27:45.481649",
     "status": "completed"
    },
    "tags": []
   },
   "outputs": [
    {
     "name": "stdout",
     "output_type": "stream",
     "text": [
      "Pre-loading Xception weights...\n"
     ]
    },
    {
     "name": "stderr",
     "output_type": "stream",
     "text": [
      "I0000 00:00:1751790468.218668      19 gpu_device.cc:2022] Created device /job:localhost/replica:0/task:0/device:GPU:0 with 13942 MB memory:  -> device: 0, name: Tesla T4, pci bus id: 0000:00:04.0, compute capability: 7.5\n",
      "I0000 00:00:1751790468.219336      19 gpu_device.cc:2022] Created device /job:localhost/replica:0/task:0/device:GPU:1 with 13942 MB memory:  -> device: 1, name: Tesla T4, pci bus id: 0000:00:05.0, compute capability: 7.5\n"
     ]
    },
    {
     "name": "stdout",
     "output_type": "stream",
     "text": [
      "Downloading data from https://storage.googleapis.com/tensorflow/keras-applications/xception/xception_weights_tf_dim_ordering_tf_kernels_notop.h5\n",
      "\u001b[1m83683744/83683744\u001b[0m \u001b[32m━━━━━━━━━━━━━━━━━━━━\u001b[0m\u001b[37m\u001b[0m \u001b[1m1s\u001b[0m 0us/step\n",
      "Weights loaded successfully!\n"
     ]
    }
   ],
   "source": [
    "# donwload model weights\n",
    "from tensorflow.keras.applications import Xception\n",
    "print(\"Pre-loading Xception weights...\")\n",
    "base_model = Xception(weights='imagenet', include_top=False, input_shape=(IMAGE_HEIGHT, IMAGE_WIDTH, 3))\n",
    "print(\"Weights loaded successfully!\")"
   ]
  },
  {
   "cell_type": "markdown",
   "id": "2b56bf34",
   "metadata": {
    "papermill": {
     "duration": 0.01044,
     "end_time": "2025-07-06T08:27:52.881554",
     "exception": false,
     "start_time": "2025-07-06T08:27:52.871114",
     "status": "completed"
    },
    "tags": []
   },
   "source": [
    "# 📌 Execution\n",
    "## Creating Dataset\n",
    "The following functions are executed\n",
    "- `frame extraction`\n",
    "- `resize`\n",
    "\n",
    "which returns:\n",
    "- `features` - `np.array` of all the videos\n",
    "- `labels` - `np.array` of all the class labels"
   ]
  },
  {
   "cell_type": "code",
   "execution_count": 18,
   "id": "6102a3ae",
   "metadata": {
    "execution": {
     "iopub.execute_input": "2025-07-06T08:27:52.903154Z",
     "iopub.status.busy": "2025-07-06T08:27:52.902922Z",
     "iopub.status.idle": "2025-07-06T08:31:02.908352Z",
     "shell.execute_reply": "2025-07-06T08:31:02.907628Z"
    },
    "papermill": {
     "duration": 190.017577,
     "end_time": "2025-07-06T08:31:02.909502",
     "exception": false,
     "start_time": "2025-07-06T08:27:52.891925",
     "status": "completed"
    },
    "tags": []
   },
   "outputs": [
    {
     "name": "stdout",
     "output_type": "stream",
     "text": [
      "Extracting Data of Class: Catch Cap\n",
      "Extracting Data of Class: Drink\n",
      "Extracting Data of Class: Sit down\n",
      "Extracting Data of Class: Draw Tick\n",
      "Extracting Data of Class: Phone Call\n",
      "Extracting Data of Class: Horizontal arm wave\n",
      "Extracting Data of Class: Hand Clap\n",
      "Extracting Data of Class: High throw\n",
      "Extracting Data of Class: Forward Kick\n",
      "Extracting Data of Class: Stand up\n",
      "Extracting Data of Class: Two hand wave\n",
      "Extracting Data of Class: Toss Paper\n",
      "Extracting Data of Class: Walk\n",
      "Extracting Data of Class: Side Kick\n",
      "Extracting Data of Class: Bend\n",
      "Extracting Data of Class: Take Umbrella\n",
      "Extracting Data of Class: High arm wave\n",
      "Extracting Data of Class: Draw X\n",
      "Dataset created with 540 videos\n",
      "Features shape: (540, 10, 128, 128, 3)\n",
      "Labels shape: (540,)\n"
     ]
    },
    {
     "data": {
      "text/plain": [
       "((540, 10, 128, 128, 3), (540,))"
      ]
     },
     "execution_count": 18,
     "metadata": {},
     "output_type": "execute_result"
    }
   ],
   "source": [
    "# RUN Create the dataset with explicit parameters\n",
    "try:\n",
    "    videos, labels = create_dataset(\n",
    "        dataset_dir=DATASET_DIR,\n",
    "        classes_list=CLASSES_LIST,\n",
    "        sequence_length=SEQUENCE_LENGTH,\n",
    "        image_height=IMAGE_HEIGHT,\n",
    "        image_width=IMAGE_WIDTH,\n",
    "        # Limit to 10 videos per class to manage memory\n",
    "        augmentations=True,\n",
    "        max_videos_per_class=MAX_VIDEO_PER_CLASS\n",
    "    )\n",
    "except FileNotFoundError as e:\n",
    "    print(f\"Error: {e}\")\n",
    "except ValueError as e:\n",
    "    print(f\"Error: {e}\")\n",
    "except Exception as e:\n",
    "    print(f\"Unexpected error: {e}\")\n",
    "\n",
    "videos.shape, labels.shape"
   ]
  },
  {
   "cell_type": "code",
   "execution_count": 19,
   "id": "ed786e69",
   "metadata": {
    "execution": {
     "iopub.execute_input": "2025-07-06T08:31:02.933718Z",
     "iopub.status.busy": "2025-07-06T08:31:02.933494Z",
     "iopub.status.idle": "2025-07-06T08:31:02.937544Z",
     "shell.execute_reply": "2025-07-06T08:31:02.936986Z"
    },
    "papermill": {
     "duration": 0.01699,
     "end_time": "2025-07-06T08:31:02.938538",
     "exception": false,
     "start_time": "2025-07-06T08:31:02.921548",
     "status": "completed"
    },
    "tags": []
   },
   "outputs": [
    {
     "name": "stdout",
     "output_type": "stream",
     "text": [
      "Total 540 videos and 540 classes\n"
     ]
    }
   ],
   "source": [
    "video_generator = VideoDataGenerator(\n",
    "    videos=videos,\n",
    "    labels=labels,\n",
    "    batch_size=BATCH_SIZE\n",
    ")"
   ]
  },
  {
   "cell_type": "code",
   "execution_count": 20,
   "id": "45d64a40",
   "metadata": {
    "execution": {
     "iopub.execute_input": "2025-07-06T08:31:02.962495Z",
     "iopub.status.busy": "2025-07-06T08:31:02.962262Z",
     "iopub.status.idle": "2025-07-06T08:31:02.985134Z",
     "shell.execute_reply": "2025-07-06T08:31:02.984317Z"
    },
    "papermill": {
     "duration": 0.03626,
     "end_time": "2025-07-06T08:31:02.986240",
     "exception": false,
     "start_time": "2025-07-06T08:31:02.949980",
     "status": "completed"
    },
    "tags": []
   },
   "outputs": [
    {
     "data": {
      "text/plain": [
       "((32, 10, 128, 128, 3), (32,))"
      ]
     },
     "execution_count": 20,
     "metadata": {},
     "output_type": "execute_result"
    }
   ],
   "source": [
    "videos, labels = video_generator[3]\n",
    "\n",
    "videos.shape, labels.shape"
   ]
  },
  {
   "cell_type": "code",
   "execution_count": 21,
   "id": "03239481",
   "metadata": {
    "execution": {
     "iopub.execute_input": "2025-07-06T08:31:03.010633Z",
     "iopub.status.busy": "2025-07-06T08:31:03.010385Z",
     "iopub.status.idle": "2025-07-06T08:31:03.014423Z",
     "shell.execute_reply": "2025-07-06T08:31:03.013920Z"
    },
    "papermill": {
     "duration": 0.016958,
     "end_time": "2025-07-06T08:31:03.015426",
     "exception": false,
     "start_time": "2025-07-06T08:31:02.998468",
     "status": "completed"
    },
    "tags": []
   },
   "outputs": [
    {
     "data": {
      "text/plain": [
       "540"
      ]
     },
     "execution_count": 21,
     "metadata": {},
     "output_type": "execute_result"
    }
   ],
   "source": [
    "len(video_generator.videos) "
   ]
  },
  {
   "cell_type": "code",
   "execution_count": 22,
   "id": "f354f54d",
   "metadata": {
    "execution": {
     "iopub.execute_input": "2025-07-06T08:31:03.039595Z",
     "iopub.status.busy": "2025-07-06T08:31:03.039145Z",
     "iopub.status.idle": "2025-07-06T08:31:03.043396Z",
     "shell.execute_reply": "2025-07-06T08:31:03.042749Z"
    },
    "papermill": {
     "duration": 0.017456,
     "end_time": "2025-07-06T08:31:03.044488",
     "exception": false,
     "start_time": "2025-07-06T08:31:03.027032",
     "status": "completed"
    },
    "tags": []
   },
   "outputs": [
    {
     "data": {
      "text/plain": [
       "17"
      ]
     },
     "execution_count": 22,
     "metadata": {},
     "output_type": "execute_result"
    }
   ],
   "source": [
    "len(video_generator)"
   ]
  },
  {
   "cell_type": "markdown",
   "id": "22733c0e",
   "metadata": {
    "papermill": {
     "duration": 0.01133,
     "end_time": "2025-07-06T08:31:03.067348",
     "exception": false,
     "start_time": "2025-07-06T08:31:03.056018",
     "status": "completed"
    },
    "tags": []
   },
   "source": [
    "## Apply ***horizontal flip*** (Augmentation)"
   ]
  },
  {
   "cell_type": "code",
   "execution_count": 23,
   "id": "8e1f659c",
   "metadata": {
    "execution": {
     "iopub.execute_input": "2025-07-06T08:31:03.090931Z",
     "iopub.status.busy": "2025-07-06T08:31:03.090742Z",
     "iopub.status.idle": "2025-07-06T08:31:06.374653Z",
     "shell.execute_reply": "2025-07-06T08:31:06.373686Z"
    },
    "papermill": {
     "duration": 3.297052,
     "end_time": "2025-07-06T08:31:06.375909",
     "exception": false,
     "start_time": "2025-07-06T08:31:03.078857",
     "status": "completed"
    },
    "tags": []
   },
   "outputs": [
    {
     "name": "stdout",
     "output_type": "stream",
     "text": [
      "Adding 32 videos with 32 classes.\n",
      "PENDING - Total 32 videos and 32 classes are waiting to be added...\n",
      "Adding 32 videos with 32 classes.\n",
      "PENDING - Total 64 videos and 64 classes are waiting to be added...\n",
      "Adding 32 videos with 32 classes.\n",
      "PENDING - Total 96 videos and 96 classes are waiting to be added...\n",
      "Adding 32 videos with 32 classes.\n",
      "PENDING - Total 128 videos and 128 classes are waiting to be added...\n",
      "Adding 32 videos with 32 classes.\n",
      "PENDING - Total 160 videos and 160 classes are waiting to be added...\n",
      "Adding 32 videos with 32 classes.\n",
      "PENDING - Total 192 videos and 192 classes are waiting to be added...\n",
      "Adding 32 videos with 32 classes.\n",
      "PENDING - Total 224 videos and 224 classes are waiting to be added...\n",
      "Adding 32 videos with 32 classes.\n",
      "PENDING - Total 256 videos and 256 classes are waiting to be added...\n",
      "Adding 32 videos with 32 classes.\n",
      "PENDING - Total 288 videos and 288 classes are waiting to be added...\n",
      "Adding 32 videos with 32 classes.\n",
      "PENDING - Total 320 videos and 320 classes are waiting to be added...\n",
      "Adding 32 videos with 32 classes.\n",
      "PENDING - Total 352 videos and 352 classes are waiting to be added...\n",
      "Adding 32 videos with 32 classes.\n",
      "PENDING - Total 384 videos and 384 classes are waiting to be added...\n",
      "Adding 32 videos with 32 classes.\n",
      "PENDING - Total 416 videos and 416 classes are waiting to be added...\n",
      "Adding 32 videos with 32 classes.\n",
      "PENDING - Total 448 videos and 448 classes are waiting to be added...\n",
      "Adding 32 videos with 32 classes.\n",
      "PENDING - Total 480 videos and 480 classes are waiting to be added...\n",
      "Adding 32 videos with 32 classes.\n",
      "PENDING - Total 512 videos and 512 classes are waiting to be added...\n",
      "Adding 28 videos with 28 classes.\n",
      "PENDING - Total 540 videos and 540 classes are waiting to be added...\n"
     ]
    }
   ],
   "source": [
    "apply_augmentation(horizontal_flip, video_generator)"
   ]
  },
  {
   "cell_type": "code",
   "execution_count": 24,
   "id": "05591966",
   "metadata": {
    "execution": {
     "iopub.execute_input": "2025-07-06T08:31:06.401396Z",
     "iopub.status.busy": "2025-07-06T08:31:06.401175Z",
     "iopub.status.idle": "2025-07-06T08:31:06.405257Z",
     "shell.execute_reply": "2025-07-06T08:31:06.404454Z"
    },
    "papermill": {
     "duration": 0.018045,
     "end_time": "2025-07-06T08:31:06.406402",
     "exception": false,
     "start_time": "2025-07-06T08:31:06.388357",
     "status": "completed"
    },
    "tags": []
   },
   "outputs": [
    {
     "name": "stdout",
     "output_type": "stream",
     "text": [
      "Checking Total Videos and Class Count: 540, 540\n",
      "PENDING Total Videos and Class Count: 540, 540\n"
     ]
    }
   ],
   "source": [
    "print(f\"Checking Total Videos and Class Count: {len(video_generator.videos)}, {len(video_generator.labels)}\")\n",
    "print(f\"PENDING Total Videos and Class Count: {len(video_generator.temp_videos)}, {len(video_generator.temp_labels)}\")"
   ]
  },
  {
   "cell_type": "markdown",
   "id": "c7153e63",
   "metadata": {
    "papermill": {
     "duration": 0.011972,
     "end_time": "2025-07-06T08:31:06.430511",
     "exception": false,
     "start_time": "2025-07-06T08:31:06.418539",
     "status": "completed"
    },
    "tags": []
   },
   "source": [
    "## Apply ***Noise*** (Augmentation)"
   ]
  },
  {
   "cell_type": "code",
   "execution_count": 25,
   "id": "dc43fd1e",
   "metadata": {
    "execution": {
     "iopub.execute_input": "2025-07-06T08:31:06.455190Z",
     "iopub.status.busy": "2025-07-06T08:31:06.454787Z",
     "iopub.status.idle": "2025-07-06T08:31:19.010967Z",
     "shell.execute_reply": "2025-07-06T08:31:19.010141Z"
    },
    "papermill": {
     "duration": 12.569971,
     "end_time": "2025-07-06T08:31:19.012456",
     "exception": false,
     "start_time": "2025-07-06T08:31:06.442485",
     "status": "completed"
    },
    "tags": []
   },
   "outputs": [
    {
     "name": "stdout",
     "output_type": "stream",
     "text": [
      "Adding 32 videos with 32 classes.\n",
      "PENDING - Total 572 videos and 572 classes are waiting to be added...\n",
      "Adding 32 videos with 32 classes.\n",
      "PENDING - Total 604 videos and 604 classes are waiting to be added...\n",
      "Adding 32 videos with 32 classes.\n",
      "PENDING - Total 636 videos and 636 classes are waiting to be added...\n",
      "Adding 32 videos with 32 classes.\n",
      "PENDING - Total 668 videos and 668 classes are waiting to be added...\n",
      "Adding 32 videos with 32 classes.\n",
      "PENDING - Total 700 videos and 700 classes are waiting to be added...\n",
      "Adding 32 videos with 32 classes.\n",
      "PENDING - Total 732 videos and 732 classes are waiting to be added...\n",
      "Adding 32 videos with 32 classes.\n",
      "PENDING - Total 764 videos and 764 classes are waiting to be added...\n",
      "Adding 32 videos with 32 classes.\n",
      "PENDING - Total 796 videos and 796 classes are waiting to be added...\n",
      "Adding 32 videos with 32 classes.\n",
      "PENDING - Total 828 videos and 828 classes are waiting to be added...\n",
      "Adding 32 videos with 32 classes.\n",
      "PENDING - Total 860 videos and 860 classes are waiting to be added...\n",
      "Adding 32 videos with 32 classes.\n",
      "PENDING - Total 892 videos and 892 classes are waiting to be added...\n",
      "Adding 32 videos with 32 classes.\n",
      "PENDING - Total 924 videos and 924 classes are waiting to be added...\n",
      "Adding 32 videos with 32 classes.\n",
      "PENDING - Total 956 videos and 956 classes are waiting to be added...\n",
      "Adding 32 videos with 32 classes.\n",
      "PENDING - Total 988 videos and 988 classes are waiting to be added...\n",
      "Adding 32 videos with 32 classes.\n",
      "PENDING - Total 1020 videos and 1020 classes are waiting to be added...\n",
      "Adding 32 videos with 32 classes.\n",
      "PENDING - Total 1052 videos and 1052 classes are waiting to be added...\n",
      "Adding 28 videos with 28 classes.\n",
      "PENDING - Total 1080 videos and 1080 classes are waiting to be added...\n"
     ]
    }
   ],
   "source": [
    "apply_augmentation(noise_video, video_generator)"
   ]
  },
  {
   "cell_type": "code",
   "execution_count": 26,
   "id": "f23c6498",
   "metadata": {
    "execution": {
     "iopub.execute_input": "2025-07-06T08:31:19.053646Z",
     "iopub.status.busy": "2025-07-06T08:31:19.053109Z",
     "iopub.status.idle": "2025-07-06T08:31:19.058077Z",
     "shell.execute_reply": "2025-07-06T08:31:19.057305Z"
    },
    "papermill": {
     "duration": 0.021152,
     "end_time": "2025-07-06T08:31:19.059135",
     "exception": false,
     "start_time": "2025-07-06T08:31:19.037983",
     "status": "completed"
    },
    "tags": []
   },
   "outputs": [
    {
     "name": "stdout",
     "output_type": "stream",
     "text": [
      "Checking Total Videos and Class Count: 540, 540\n",
      "PENDING Total Videos and Class Count: 1080, 1080\n"
     ]
    }
   ],
   "source": [
    "print(f\"Checking Total Videos and Class Count: {len(video_generator.videos)}, {len(video_generator.labels)}\")\n",
    "print(f\"PENDING Total Videos and Class Count: {len(video_generator.temp_videos)}, {len(video_generator.temp_labels)}\")"
   ]
  },
  {
   "cell_type": "markdown",
   "id": "160a17d5",
   "metadata": {
    "papermill": {
     "duration": 0.012683,
     "end_time": "2025-07-06T08:31:19.084506",
     "exception": false,
     "start_time": "2025-07-06T08:31:19.071823",
     "status": "completed"
    },
    "tags": []
   },
   "source": [
    "## Apply ***Random Shear x2*** (Augmentation)"
   ]
  },
  {
   "cell_type": "code",
   "execution_count": 27,
   "id": "88864af9",
   "metadata": {
    "execution": {
     "iopub.execute_input": "2025-07-06T08:31:19.111083Z",
     "iopub.status.busy": "2025-07-06T08:31:19.110816Z",
     "iopub.status.idle": "2025-07-06T08:32:01.603355Z",
     "shell.execute_reply": "2025-07-06T08:32:01.602501Z"
    },
    "papermill": {
     "duration": 42.507243,
     "end_time": "2025-07-06T08:32:01.604634",
     "exception": false,
     "start_time": "2025-07-06T08:31:19.097391",
     "status": "completed"
    },
    "tags": []
   },
   "outputs": [
    {
     "name": "stdout",
     "output_type": "stream",
     "text": [
      "Adding 32 videos with 32 classes.\n",
      "PENDING - Total 1112 videos and 1112 classes are waiting to be added...\n",
      "Adding 32 videos with 32 classes.\n",
      "PENDING - Total 1144 videos and 1144 classes are waiting to be added...\n",
      "Adding 32 videos with 32 classes.\n",
      "PENDING - Total 1176 videos and 1176 classes are waiting to be added...\n",
      "Adding 32 videos with 32 classes.\n",
      "PENDING - Total 1208 videos and 1208 classes are waiting to be added...\n",
      "Adding 32 videos with 32 classes.\n",
      "PENDING - Total 1240 videos and 1240 classes are waiting to be added...\n",
      "Adding 32 videos with 32 classes.\n",
      "PENDING - Total 1272 videos and 1272 classes are waiting to be added...\n",
      "Adding 32 videos with 32 classes.\n",
      "PENDING - Total 1304 videos and 1304 classes are waiting to be added...\n",
      "Adding 32 videos with 32 classes.\n",
      "PENDING - Total 1336 videos and 1336 classes are waiting to be added...\n",
      "Adding 32 videos with 32 classes.\n",
      "PENDING - Total 1368 videos and 1368 classes are waiting to be added...\n",
      "Adding 32 videos with 32 classes.\n",
      "PENDING - Total 1400 videos and 1400 classes are waiting to be added...\n",
      "Adding 32 videos with 32 classes.\n",
      "PENDING - Total 1432 videos and 1432 classes are waiting to be added...\n",
      "Adding 32 videos with 32 classes.\n",
      "PENDING - Total 1464 videos and 1464 classes are waiting to be added...\n",
      "Adding 32 videos with 32 classes.\n",
      "PENDING - Total 1496 videos and 1496 classes are waiting to be added...\n",
      "Adding 32 videos with 32 classes.\n",
      "PENDING - Total 1528 videos and 1528 classes are waiting to be added...\n",
      "Adding 32 videos with 32 classes.\n",
      "PENDING - Total 1560 videos and 1560 classes are waiting to be added...\n",
      "Adding 32 videos with 32 classes.\n",
      "PENDING - Total 1592 videos and 1592 classes are waiting to be added...\n",
      "Adding 28 videos with 28 classes.\n",
      "PENDING - Total 1620 videos and 1620 classes are waiting to be added...\n",
      "Adding 32 videos with 32 classes.\n",
      "PENDING - Total 1652 videos and 1652 classes are waiting to be added...\n",
      "Adding 32 videos with 32 classes.\n",
      "PENDING - Total 1684 videos and 1684 classes are waiting to be added...\n",
      "Adding 32 videos with 32 classes.\n",
      "PENDING - Total 1716 videos and 1716 classes are waiting to be added...\n",
      "Adding 32 videos with 32 classes.\n",
      "PENDING - Total 1748 videos and 1748 classes are waiting to be added...\n",
      "Adding 32 videos with 32 classes.\n",
      "PENDING - Total 1780 videos and 1780 classes are waiting to be added...\n",
      "Adding 32 videos with 32 classes.\n",
      "PENDING - Total 1812 videos and 1812 classes are waiting to be added...\n",
      "Adding 32 videos with 32 classes.\n",
      "PENDING - Total 1844 videos and 1844 classes are waiting to be added...\n",
      "Adding 32 videos with 32 classes.\n",
      "PENDING - Total 1876 videos and 1876 classes are waiting to be added...\n",
      "Adding 32 videos with 32 classes.\n",
      "PENDING - Total 1908 videos and 1908 classes are waiting to be added...\n",
      "Adding 32 videos with 32 classes.\n",
      "PENDING - Total 1940 videos and 1940 classes are waiting to be added...\n",
      "Adding 32 videos with 32 classes.\n",
      "PENDING - Total 1972 videos and 1972 classes are waiting to be added...\n",
      "Adding 32 videos with 32 classes.\n",
      "PENDING - Total 2004 videos and 2004 classes are waiting to be added...\n",
      "Adding 32 videos with 32 classes.\n",
      "PENDING - Total 2036 videos and 2036 classes are waiting to be added...\n",
      "Adding 32 videos with 32 classes.\n",
      "PENDING - Total 2068 videos and 2068 classes are waiting to be added...\n",
      "Adding 32 videos with 32 classes.\n",
      "PENDING - Total 2100 videos and 2100 classes are waiting to be added...\n",
      "Adding 32 videos with 32 classes.\n",
      "PENDING - Total 2132 videos and 2132 classes are waiting to be added...\n",
      "Adding 28 videos with 28 classes.\n",
      "PENDING - Total 2160 videos and 2160 classes are waiting to be added...\n"
     ]
    }
   ],
   "source": [
    "apply_augmentation(apply_shear_frames, video_generator, shear_right=0)\n",
    "apply_augmentation(apply_shear_frames, video_generator, shear_right=1)"
   ]
  },
  {
   "cell_type": "code",
   "execution_count": 28,
   "id": "0b3350e1",
   "metadata": {
    "execution": {
     "iopub.execute_input": "2025-07-06T08:32:01.634226Z",
     "iopub.status.busy": "2025-07-06T08:32:01.634025Z",
     "iopub.status.idle": "2025-07-06T08:32:01.638112Z",
     "shell.execute_reply": "2025-07-06T08:32:01.637353Z"
    },
    "papermill": {
     "duration": 0.020014,
     "end_time": "2025-07-06T08:32:01.639226",
     "exception": false,
     "start_time": "2025-07-06T08:32:01.619212",
     "status": "completed"
    },
    "tags": []
   },
   "outputs": [
    {
     "name": "stdout",
     "output_type": "stream",
     "text": [
      "Checking Total Videos and Class Count: 540, 540\n",
      "PENDING Total Videos and Class Count: 2160, 2160\n"
     ]
    }
   ],
   "source": [
    "print(f\"Checking Total Videos and Class Count: {len(video_generator.videos)}, {len(video_generator.labels)}\")\n",
    "print(f\"PENDING Total Videos and Class Count: {len(video_generator.temp_videos)}, {len(video_generator.temp_labels)}\")"
   ]
  },
  {
   "cell_type": "code",
   "execution_count": 29,
   "id": "06b07a12",
   "metadata": {
    "execution": {
     "iopub.execute_input": "2025-07-06T08:32:01.667883Z",
     "iopub.status.busy": "2025-07-06T08:32:01.667401Z",
     "iopub.status.idle": "2025-07-06T08:32:01.671147Z",
     "shell.execute_reply": "2025-07-06T08:32:01.670467Z"
    },
    "papermill": {
     "duration": 0.019129,
     "end_time": "2025-07-06T08:32:01.672237",
     "exception": false,
     "start_time": "2025-07-06T08:32:01.653108",
     "status": "completed"
    },
    "tags": []
   },
   "outputs": [
    {
     "name": "stdout",
     "output_type": "stream",
     "text": [
      "Adding 2160 videos with 2160 classes.\n",
      "Successfully added - 2160 videos and 2160 classes.\n",
      "Now Total - 2700 videos and 2700 classes.\n",
      "PENDING for Augmentations - 0 videos and 0 classes.\n"
     ]
    }
   ],
   "source": [
    "# confirm changes to generator\n",
    "video_generator.confirm()"
   ]
  },
  {
   "cell_type": "code",
   "execution_count": 30,
   "id": "33569711",
   "metadata": {
    "execution": {
     "iopub.execute_input": "2025-07-06T08:32:01.701254Z",
     "iopub.status.busy": "2025-07-06T08:32:01.701069Z",
     "iopub.status.idle": "2025-07-06T08:32:01.704942Z",
     "shell.execute_reply": "2025-07-06T08:32:01.704215Z"
    },
    "papermill": {
     "duration": 0.019744,
     "end_time": "2025-07-06T08:32:01.706043",
     "exception": false,
     "start_time": "2025-07-06T08:32:01.686299",
     "status": "completed"
    },
    "tags": []
   },
   "outputs": [
    {
     "name": "stdout",
     "output_type": "stream",
     "text": [
      "Checking Video Generator Total Videos and Class Count: 2700, 2700\n"
     ]
    }
   ],
   "source": [
    "print(f\"Checking Video Generator Total Videos and Class Count: {len(video_generator.videos)}, {len(video_generator.labels)}\")"
   ]
  },
  {
   "cell_type": "markdown",
   "id": "fc6cb756",
   "metadata": {
    "papermill": {
     "duration": 0.013764,
     "end_time": "2025-07-06T08:32:01.733879",
     "exception": false,
     "start_time": "2025-07-06T08:32:01.720115",
     "status": "completed"
    },
    "tags": []
   },
   "source": [
    "## Cheking (Output)"
   ]
  },
  {
   "cell_type": "code",
   "execution_count": 31,
   "id": "b430b818",
   "metadata": {
    "execution": {
     "iopub.execute_input": "2025-07-06T08:32:01.762407Z",
     "iopub.status.busy": "2025-07-06T08:32:01.762233Z",
     "iopub.status.idle": "2025-07-06T08:32:02.116300Z",
     "shell.execute_reply": "2025-07-06T08:32:02.115590Z"
    },
    "papermill": {
     "duration": 0.370875,
     "end_time": "2025-07-06T08:32:02.118551",
     "exception": false,
     "start_time": "2025-07-06T08:32:01.747676",
     "status": "completed"
    },
    "tags": []
   },
   "outputs": [
    {
     "name": "stdout",
     "output_type": "stream",
     "text": [
      "(32, 10, 128, 128, 3) (32,)\n"
     ]
    },
    {
     "data": {
      "image/png": "[encoded data removed]",
      "text/plain": [
       "<Figure size 1000x500 with 2 Axes>"
      ]
     },
     "metadata": {},
     "output_type": "display_data"
    },
    {
     "name": "stdout",
     "output_type": "stream",
     "text": [
      "Might be two different action, but to check the flipping focus on the door behind.\n"
     ]
    }
   ],
   "source": [
    "# check horizontal flips\n",
    "videos, labels = video_generator[7]\n",
    "videos1, labels1 = video_generator[1]\n",
    "\n",
    "print(videos.shape, labels.shape)\n",
    "\n",
    "show_frame_vs(videos[0,0],videos1[1,0], title1=\"Flipped Frame 1\", title2=\"Non Flipped Frame 1\")\n",
    "print(\"Might be two different action, but to check the flipping focus on the door behind.\")"
   ]
  },
  {
   "cell_type": "markdown",
   "id": "89b4cbb8",
   "metadata": {
    "papermill": {
     "duration": 0.016283,
     "end_time": "2025-07-06T08:32:02.153219",
     "exception": false,
     "start_time": "2025-07-06T08:32:02.136936",
     "status": "completed"
    },
    "tags": []
   },
   "source": [
    "# 🧪 Test Augmentation (Output)\n",
    "## 🖼️ Horizontal Flip Output"
   ]
  },
  {
   "cell_type": "code",
   "execution_count": 32,
   "id": "576ccd12",
   "metadata": {
    "execution": {
     "iopub.execute_input": "2025-07-06T08:32:02.187246Z",
     "iopub.status.busy": "2025-07-06T08:32:02.186540Z",
     "iopub.status.idle": "2025-07-06T08:32:02.189692Z",
     "shell.execute_reply": "2025-07-06T08:32:02.189171Z"
    },
    "papermill": {
     "duration": 0.021007,
     "end_time": "2025-07-06T08:32:02.190737",
     "exception": false,
     "start_time": "2025-07-06T08:32:02.169730",
     "status": "completed"
    },
    "tags": []
   },
   "outputs": [],
   "source": [
    "# flipped_video_1 = horizontal_flip(features[0])\n",
    "\n",
    "# flipped_video_1=np.asarray(flipped_video_1)\n",
    "\n",
    "# show_frame(flipped_video_1[0])\n",
    "# flipped_video_1.shape"
   ]
  },
  {
   "cell_type": "markdown",
   "id": "fbf98c88",
   "metadata": {
    "papermill": {
     "duration": 0.016479,
     "end_time": "2025-07-06T08:32:02.224064",
     "exception": false,
     "start_time": "2025-07-06T08:32:02.207585",
     "status": "completed"
    },
    "tags": []
   },
   "source": [
    "## 🖼️ Salt and Pepper Noise Output"
   ]
  },
  {
   "cell_type": "code",
   "execution_count": 33,
   "id": "eacf7a76",
   "metadata": {
    "execution": {
     "iopub.execute_input": "2025-07-06T08:32:02.257606Z",
     "iopub.status.busy": "2025-07-06T08:32:02.257001Z",
     "iopub.status.idle": "2025-07-06T08:32:02.259858Z",
     "shell.execute_reply": "2025-07-06T08:32:02.259325Z"
    },
    "papermill": {
     "duration": 0.020877,
     "end_time": "2025-07-06T08:32:02.261129",
     "exception": false,
     "start_time": "2025-07-06T08:32:02.240252",
     "status": "completed"
    },
    "tags": []
   },
   "outputs": [],
   "source": [
    "# noised_video = noise_video(features[0])\n",
    "\n",
    "# print(noised_video.shape)\n",
    "# show_frame(noised_video[0])"
   ]
  },
  {
   "cell_type": "markdown",
   "id": "57d5c56d",
   "metadata": {
    "papermill": {
     "duration": 0.01615,
     "end_time": "2025-07-06T08:32:02.294382",
     "exception": false,
     "start_time": "2025-07-06T08:32:02.278232",
     "status": "completed"
    },
    "tags": []
   },
   "source": [
    "## 🖼️ Random Shear Output"
   ]
  },
  {
   "cell_type": "code",
   "execution_count": 34,
   "id": "aef6ec17",
   "metadata": {
    "execution": {
     "iopub.execute_input": "2025-07-06T08:32:02.327875Z",
     "iopub.status.busy": "2025-07-06T08:32:02.327676Z",
     "iopub.status.idle": "2025-07-06T08:32:02.330664Z",
     "shell.execute_reply": "2025-07-06T08:32:02.330114Z"
    },
    "papermill": {
     "duration": 0.020945,
     "end_time": "2025-07-06T08:32:02.331621",
     "exception": false,
     "start_time": "2025-07-06T08:32:02.310676",
     "status": "completed"
    },
    "tags": []
   },
   "outputs": [],
   "source": [
    "# print(features.shape)\n",
    "\n",
    "# sheared_1 = apply_shear_frames(features[0], shear_right=0)\n",
    "# sheared_2 = apply_shear_frames(features[0], shear_right=1)\n",
    "\n",
    "# sheared_1 = np.asarray(sheared_1)\n",
    "# sheared_2 = np.asarray(sheared_2)\n",
    "\n",
    "# print(sheared_1.shape)\n",
    "# show_frame(sheared_1[0])\n",
    "# show_frame(sheared_2[0])"
   ]
  },
  {
   "cell_type": "markdown",
   "id": "e51bbd5e",
   "metadata": {
    "papermill": {
     "duration": 0.016691,
     "end_time": "2025-07-06T08:32:02.364624",
     "exception": false,
     "start_time": "2025-07-06T08:32:02.347933",
     "status": "completed"
    },
    "tags": []
   },
   "source": [
    "# 📌 Preparing Data for Training"
   ]
  },
  {
   "cell_type": "code",
   "execution_count": 35,
   "id": "1b6121ea",
   "metadata": {
    "execution": {
     "iopub.execute_input": "2025-07-06T08:32:02.399013Z",
     "iopub.status.busy": "2025-07-06T08:32:02.398820Z",
     "iopub.status.idle": "2025-07-06T08:32:02.857356Z",
     "shell.execute_reply": "2025-07-06T08:32:02.856714Z"
    },
    "papermill": {
     "duration": 0.477519,
     "end_time": "2025-07-06T08:32:02.859024",
     "exception": false,
     "start_time": "2025-07-06T08:32:02.381505",
     "status": "completed"
    },
    "tags": []
   },
   "outputs": [],
   "source": [
    "# Clear previous session to free memory\n",
    "import gc\n",
    "\n",
    "gc.collect()\n",
    "tf.keras.backend.clear_session()"
   ]
  },
  {
   "cell_type": "markdown",
   "id": "ceacfc8e",
   "metadata": {
    "papermill": {
     "duration": 0.017997,
     "end_time": "2025-07-06T08:32:02.897381",
     "exception": false,
     "start_time": "2025-07-06T08:32:02.879384",
     "status": "completed"
    },
    "tags": []
   },
   "source": [
    "## Splitting data for ***Trainig*** and ***Testing***"
   ]
  },
  {
   "cell_type": "code",
   "execution_count": 36,
   "id": "329f6148",
   "metadata": {
    "execution": {
     "iopub.execute_input": "2025-07-06T08:32:02.934981Z",
     "iopub.status.busy": "2025-07-06T08:32:02.934459Z",
     "iopub.status.idle": "2025-07-06T08:32:06.050010Z",
     "shell.execute_reply": "2025-07-06T08:32:06.049367Z"
    },
    "papermill": {
     "duration": 3.135215,
     "end_time": "2025-07-06T08:32:06.051142",
     "exception": false,
     "start_time": "2025-07-06T08:32:02.915927",
     "status": "completed"
    },
    "tags": []
   },
   "outputs": [
    {
     "data": {
      "text/plain": [
       "((2700, 10, 128, 128, 3), (2700,))"
      ]
     },
     "execution_count": 36,
     "metadata": {},
     "output_type": "execute_result"
    }
   ],
   "source": [
    "videos = video_generator.videos\n",
    "labels = video_generator.labels\n",
    "\n",
    "videos = np.array(videos, dtype='float32')\n",
    "labels = np.array(labels)\n",
    "\n",
    "videos.shape, labels.shape"
   ]
  },
  {
   "cell_type": "code",
   "execution_count": 37,
   "id": "549bfd03",
   "metadata": {
    "execution": {
     "iopub.execute_input": "2025-07-06T08:32:06.085776Z",
     "iopub.status.busy": "2025-07-06T08:32:06.085246Z",
     "iopub.status.idle": "2025-07-06T08:32:06.090254Z",
     "shell.execute_reply": "2025-07-06T08:32:06.089756Z"
    },
    "papermill": {
     "duration": 0.022952,
     "end_time": "2025-07-06T08:32:06.091218",
     "exception": false,
     "start_time": "2025-07-06T08:32:06.068266",
     "status": "completed"
    },
    "tags": []
   },
   "outputs": [
    {
     "data": {
      "text/plain": [
       "(2700, 18)"
      ]
     },
     "execution_count": 37,
     "metadata": {},
     "output_type": "execute_result"
    }
   ],
   "source": [
    "from tensorflow.keras.utils import to_categorical\n",
    "\n",
    "one_hot_encoded_labels = to_categorical(labels)\n",
    "\n",
    "one_hot_encoded_labels.shape"
   ]
  },
  {
   "cell_type": "code",
   "execution_count": 38,
   "id": "6ad70990",
   "metadata": {
    "execution": {
     "iopub.execute_input": "2025-07-06T08:32:06.125669Z",
     "iopub.status.busy": "2025-07-06T08:32:06.125408Z",
     "iopub.status.idle": "2025-07-06T08:32:06.355588Z",
     "shell.execute_reply": "2025-07-06T08:32:06.354866Z"
    },
    "papermill": {
     "duration": 0.248492,
     "end_time": "2025-07-06T08:32:06.356867",
     "exception": false,
     "start_time": "2025-07-06T08:32:06.108375",
     "status": "completed"
    },
    "tags": []
   },
   "outputs": [
    {
     "data": {
      "text/plain": [
       "0"
      ]
     },
     "execution_count": 38,
     "metadata": {},
     "output_type": "execute_result"
    }
   ],
   "source": [
    "gc.collect()"
   ]
  },
  {
   "cell_type": "code",
   "execution_count": 39,
   "id": "a0724957",
   "metadata": {
    "execution": {
     "iopub.execute_input": "2025-07-06T08:32:06.393812Z",
     "iopub.status.busy": "2025-07-06T08:32:06.393567Z",
     "iopub.status.idle": "2025-07-06T08:32:08.143490Z",
     "shell.execute_reply": "2025-07-06T08:32:08.142740Z"
    },
    "papermill": {
     "duration": 1.769676,
     "end_time": "2025-07-06T08:32:08.145070",
     "exception": false,
     "start_time": "2025-07-06T08:32:06.375394",
     "status": "completed"
    },
    "tags": []
   },
   "outputs": [
    {
     "data": {
      "text/plain": [
       "((2160, 10, 128, 128, 3), (2160, 18), (540, 10, 128, 128, 3), (540, 18))"
      ]
     },
     "execution_count": 39,
     "metadata": {},
     "output_type": "execute_result"
    }
   ],
   "source": [
    "# RUN Split the Data into Train ( 75% ) and Test Set ( 25% ).\n",
    "from sklearn.model_selection import train_test_split\n",
    "features_train, features_test, labels_train, labels_test = train_test_split(videos,\n",
    "                                                                            one_hot_encoded_labels,\n",
    "                                                                            test_size = TEST_SIZE,\n",
    "                                                                            shuffle = True,\n",
    "                                                                            random_state = seed_constant)\n",
    "\n",
    "features_train.shape, labels_train.shape, features_test.shape, labels_test.shape"
   ]
  },
  {
   "cell_type": "markdown",
   "id": "3fdb3827",
   "metadata": {
    "papermill": {
     "duration": 0.016622,
     "end_time": "2025-07-06T08:32:08.180074",
     "exception": false,
     "start_time": "2025-07-06T08:32:08.163452",
     "status": "completed"
    },
    "tags": []
   },
   "source": [
    "## Splitting data for ***Training Set*** and ***Validation Set***"
   ]
  },
  {
   "cell_type": "code",
   "execution_count": 40,
   "id": "48be7d73",
   "metadata": {
    "execution": {
     "iopub.execute_input": "2025-07-06T08:32:08.214906Z",
     "iopub.status.busy": "2025-07-06T08:32:08.214275Z",
     "iopub.status.idle": "2025-07-06T08:32:08.219842Z",
     "shell.execute_reply": "2025-07-06T08:32:08.219320Z"
    },
    "papermill": {
     "duration": 0.023906,
     "end_time": "2025-07-06T08:32:08.220814",
     "exception": false,
     "start_time": "2025-07-06T08:32:08.196908",
     "status": "completed"
    },
    "tags": []
   },
   "outputs": [
    {
     "data": {
      "text/plain": [
       "((1728, 10, 128, 128, 3), (1728, 18), (432, 10, 128, 128, 3), (432, 18))"
      ]
     },
     "execution_count": 40,
     "metadata": {},
     "output_type": "execute_result"
    }
   ],
   "source": [
    "# Assuming features_train and labels_train are defined\n",
    "train_set = 1-VALIDATION_SPLIT\n",
    "\n",
    "train_video_frames, val_video_frames = features_train[:int(train_set * len(features_train))], features_train[int(train_set * len(features_train)):]\n",
    "train_labels, val_labels = labels_train[:int(train_set * len(labels_train))], labels_train[int(train_set * len(labels_train)):]\n",
    "\n",
    "train_video_frames.shape, train_labels.shape, val_video_frames.shape, val_labels.shape"
   ]
  },
  {
   "cell_type": "markdown",
   "id": "3581730a",
   "metadata": {
    "papermill": {
     "duration": 0.016564,
     "end_time": "2025-07-06T08:32:08.254215",
     "exception": false,
     "start_time": "2025-07-06T08:32:08.237651",
     "status": "completed"
    },
    "tags": []
   },
   "source": [
    "## Use Generator `Video Data Generator`"
   ]
  },
  {
   "cell_type": "code",
   "execution_count": 41,
   "id": "db3cf29e",
   "metadata": {
    "execution": {
     "iopub.execute_input": "2025-07-06T08:32:08.289433Z",
     "iopub.status.busy": "2025-07-06T08:32:08.289170Z",
     "iopub.status.idle": "2025-07-06T08:32:08.296359Z",
     "shell.execute_reply": "2025-07-06T08:32:08.295510Z"
    },
    "papermill": {
     "duration": 0.026604,
     "end_time": "2025-07-06T08:32:08.297690",
     "exception": false,
     "start_time": "2025-07-06T08:32:08.271086",
     "status": "completed"
    },
    "tags": []
   },
   "outputs": [
    {
     "name": "stdout",
     "output_type": "stream",
     "text": [
      "Total 1728 videos and 1728 classes\n",
      "Total 432 videos and 432 classes\n"
     ]
    },
    {
     "data": {
      "text/plain": [
       "(54, 14)"
      ]
     },
     "execution_count": 41,
     "metadata": {},
     "output_type": "execute_result"
    }
   ],
   "source": [
    "# Create the training and validation generators\n",
    "train_gen = VideoDataGenerator(\n",
    "    videos=train_video_frames, \n",
    "    labels=train_labels, \n",
    "    batch_size=BATCH_SIZE,\n",
    ")\n",
    "\n",
    "val_gen = VideoDataGenerator(\n",
    "    videos=val_video_frames, \n",
    "    labels=val_labels, \n",
    "    batch_size=BATCH_SIZE,\n",
    ")\n",
    "\n",
    "len(train_gen), len(val_gen)"
   ]
  },
  {
   "cell_type": "markdown",
   "id": "4dec39f0",
   "metadata": {
    "papermill": {
     "duration": 0.018923,
     "end_time": "2025-07-06T08:32:08.336543",
     "exception": false,
     "start_time": "2025-07-06T08:32:08.317620",
     "status": "completed"
    },
    "tags": []
   },
   "source": [
    "## Inspect ***Generator*** Data on Epochs"
   ]
  },
  {
   "cell_type": "code",
   "execution_count": 42,
   "id": "3f2d60e9",
   "metadata": {
    "execution": {
     "iopub.execute_input": "2025-07-06T08:32:08.375648Z",
     "iopub.status.busy": "2025-07-06T08:32:08.375378Z",
     "iopub.status.idle": "2025-07-06T08:32:08.400229Z",
     "shell.execute_reply": "2025-07-06T08:32:08.399417Z"
    },
    "papermill": {
     "duration": 0.045841,
     "end_time": "2025-07-06T08:32:08.401319",
     "exception": false,
     "start_time": "2025-07-06T08:32:08.355478",
     "status": "completed"
    },
    "tags": []
   },
   "outputs": [
    {
     "name": "stdout",
     "output_type": "stream",
     "text": [
      "[   0    1    2 ... 1725 1726 1727]\n",
      "[ 360  787  994 ...  495  426 1359]\n"
     ]
    },
    {
     "data": {
      "text/plain": [
       "(32, (32, 10, 128, 128, 3), (32, 18))"
      ]
     },
     "execution_count": 42,
     "metadata": {},
     "output_type": "execute_result"
    }
   ],
   "source": [
    "features, labels = train_gen[1]\n",
    "\n",
    "print(train_gen.indices)\n",
    "\n",
    "train_gen.on_epoch_end()\n",
    "\n",
    "print(train_gen.indices)\n",
    "\n",
    "BATCH_SIZE, features.shape, labels.shape"
   ]
  },
  {
   "cell_type": "markdown",
   "id": "8f80d3ab",
   "metadata": {
    "papermill": {
     "duration": 0.016897,
     "end_time": "2025-07-06T08:32:08.436549",
     "exception": false,
     "start_time": "2025-07-06T08:32:08.419652",
     "status": "completed"
    },
    "tags": []
   },
   "source": [
    "## Compute Class Weight"
   ]
  },
  {
   "cell_type": "code",
   "execution_count": 43,
   "id": "97ee3a37",
   "metadata": {
    "execution": {
     "iopub.execute_input": "2025-07-06T08:32:08.471958Z",
     "iopub.status.busy": "2025-07-06T08:32:08.471707Z",
     "iopub.status.idle": "2025-07-06T08:32:08.478602Z",
     "shell.execute_reply": "2025-07-06T08:32:08.477779Z"
    },
    "papermill": {
     "duration": 0.026105,
     "end_time": "2025-07-06T08:32:08.479770",
     "exception": false,
     "start_time": "2025-07-06T08:32:08.453665",
     "status": "completed"
    },
    "tags": []
   },
   "outputs": [
    {
     "name": "stdout",
     "output_type": "stream",
     "text": [
      "Class weights: {0: 1.0, 1: 1.0, 2: 1.0, 3: 1.0, 4: 1.0, 5: 1.0, 6: 1.0, 7: 1.0, 8: 1.0, 9: 1.0, 10: 1.0, 11: 1.0, 12: 1.0, 13: 1.0, 14: 1.0, 15: 1.0, 16: 1.0, 17: 1.0}\n"
     ]
    }
   ],
   "source": [
    "from sklearn.utils.class_weight import compute_class_weight\n",
    "import numpy as np\n",
    "\n",
    "# Assuming y_int are integer labels (not one-hot)\n",
    "y_int = np.argmax(one_hot_encoded_labels, axis=1)  # or just integer labels if you have them\n",
    "\n",
    "classes = np.arange(NO_OF_CLASSES)  # e.g. np.arange(16)\n",
    "class_weights_values = compute_class_weight(class_weight='balanced', classes=classes, y=y_int)\n",
    "\n",
    "class_weights = dict(zip(classes, class_weights_values))\n",
    "\n",
    "print(\"Class weights:\", class_weights)\n"
   ]
  },
  {
   "cell_type": "code",
   "execution_count": 44,
   "id": "011eea40",
   "metadata": {
    "execution": {
     "iopub.execute_input": "2025-07-06T08:32:08.517910Z",
     "iopub.status.busy": "2025-07-06T08:32:08.517177Z",
     "iopub.status.idle": "2025-07-06T08:32:08.758188Z",
     "shell.execute_reply": "2025-07-06T08:32:08.757637Z"
    },
    "papermill": {
     "duration": 0.260938,
     "end_time": "2025-07-06T08:32:08.759355",
     "exception": false,
     "start_time": "2025-07-06T08:32:08.498417",
     "status": "completed"
    },
    "tags": []
   },
   "outputs": [],
   "source": [
    "gc.collect()\n",
    "del videos, one_hot_encoded_labels, labels_train\n",
    "del features_train, val_labels, train_labels\n",
    "del val_video_frames, train_video_frames"
   ]
  },
  {
   "cell_type": "markdown",
   "id": "0f105ec0",
   "metadata": {
    "papermill": {
     "duration": 0.01709,
     "end_time": "2025-07-06T08:32:08.794704",
     "exception": false,
     "start_time": "2025-07-06T08:32:08.777614",
     "status": "completed"
    },
    "tags": []
   },
   "source": [
    "# ✨ Model Execution\n",
    "## Creating Model"
   ]
  },
  {
   "cell_type": "code",
   "execution_count": 45,
   "id": "bf4c6899",
   "metadata": {
    "execution": {
     "iopub.execute_input": "2025-07-06T08:32:08.829682Z",
     "iopub.status.busy": "2025-07-06T08:32:08.829410Z",
     "iopub.status.idle": "2025-07-06T08:32:10.088936Z",
     "shell.execute_reply": "2025-07-06T08:32:10.088327Z"
    },
    "papermill": {
     "duration": 1.278058,
     "end_time": "2025-07-06T08:32:10.089938",
     "exception": false,
     "start_time": "2025-07-06T08:32:08.811880",
     "status": "completed"
    },
    "tags": []
   },
   "outputs": [
    {
     "name": "stdout",
     "output_type": "stream",
     "text": [
      "Loading Xception base model...\n",
      "Model architecture created successfully!\n"
     ]
    },
    {
     "name": "stderr",
     "output_type": "stream",
     "text": [
      "/usr/local/lib/python3.11/dist-packages/keras/src/layers/core/wrapper.py:27: UserWarning: Do not pass an `input_shape`/`input_dim` argument to a layer. When using Sequential models, prefer using an `Input(shape)` object as the first layer in the model instead.\n",
      "  super().__init__(**kwargs)\n"
     ]
    },
    {
     "data": {
      "text/html": [
       "<pre style=\"white-space:pre;overflow-x:auto;line-height:normal;font-family:Menlo,'DejaVu Sans Mono',consolas,'Courier New',monospace\"><span style=\"font-weight: bold\">Model: \"sequential\"</span>\n",
       "</pre>\n"
      ],
      "text/plain": [
       "\u001b[1mModel: \"sequential\"\u001b[0m\n"
      ]
     },
     "metadata": {},
     "output_type": "display_data"
    },
    {
     "data": {
      "text/html": [
       "<pre style=\"white-space:pre;overflow-x:auto;line-height:normal;font-family:Menlo,'DejaVu Sans Mono',consolas,'Courier New',monospace\">┏━━━━━━━━━━━━━━━━━━━━━━━━━━━━━━━━━━━━━━┳━━━━━━━━━━━━━━━━━━━━━━━━━━━━━┳━━━━━━━━━━━━━━━━━┓\n",
       "┃<span style=\"font-weight: bold\"> Layer (type)                         </span>┃<span style=\"font-weight: bold\"> Output Shape                </span>┃<span style=\"font-weight: bold\">         Param # </span>┃\n",
       "┡━━━━━━━━━━━━━━━━━━━━━━━━━━━━━━━━━━━━━━╇━━━━━━━━━━━━━━━━━━━━━━━━━━━━━╇━━━━━━━━━━━━━━━━━┩\n",
       "│ time_distributed (<span style=\"color: #0087ff; text-decoration-color: #0087ff\">TimeDistributed</span>)   │ (<span style=\"color: #00d7ff; text-decoration-color: #00d7ff\">None</span>, <span style=\"color: #00af00; text-decoration-color: #00af00\">10</span>, <span style=\"color: #00af00; text-decoration-color: #00af00\">4</span>, <span style=\"color: #00af00; text-decoration-color: #00af00\">4</span>, <span style=\"color: #00af00; text-decoration-color: #00af00\">2048</span>)      │      <span style=\"color: #00af00; text-decoration-color: #00af00\">20,861,480</span> │\n",
       "├──────────────────────────────────────┼─────────────────────────────┼─────────────────┤\n",
       "│ time_distributed_1 (<span style=\"color: #0087ff; text-decoration-color: #0087ff\">TimeDistributed</span>) │ (<span style=\"color: #00d7ff; text-decoration-color: #00d7ff\">None</span>, <span style=\"color: #00af00; text-decoration-color: #00af00\">10</span>, <span style=\"color: #00af00; text-decoration-color: #00af00\">2048</span>)            │               <span style=\"color: #00af00; text-decoration-color: #00af00\">0</span> │\n",
       "├──────────────────────────────────────┼─────────────────────────────┼─────────────────┤\n",
       "│ lstm (<span style=\"color: #0087ff; text-decoration-color: #0087ff\">LSTM</span>)                          │ (<span style=\"color: #00d7ff; text-decoration-color: #00d7ff\">None</span>, <span style=\"color: #00af00; text-decoration-color: #00af00\">128</span>)                 │       <span style=\"color: #00af00; text-decoration-color: #00af00\">1,114,624</span> │\n",
       "├──────────────────────────────────────┼─────────────────────────────┼─────────────────┤\n",
       "│ batch_normalization                  │ (<span style=\"color: #00d7ff; text-decoration-color: #00d7ff\">None</span>, <span style=\"color: #00af00; text-decoration-color: #00af00\">128</span>)                 │             <span style=\"color: #00af00; text-decoration-color: #00af00\">512</span> │\n",
       "│ (<span style=\"color: #0087ff; text-decoration-color: #0087ff\">BatchNormalization</span>)                 │                             │                 │\n",
       "├──────────────────────────────────────┼─────────────────────────────┼─────────────────┤\n",
       "│ dropout_lstm (<span style=\"color: #0087ff; text-decoration-color: #0087ff\">Dropout</span>)               │ (<span style=\"color: #00d7ff; text-decoration-color: #00d7ff\">None</span>, <span style=\"color: #00af00; text-decoration-color: #00af00\">128</span>)                 │               <span style=\"color: #00af00; text-decoration-color: #00af00\">0</span> │\n",
       "├──────────────────────────────────────┼─────────────────────────────┼─────────────────┤\n",
       "│ dense (<span style=\"color: #0087ff; text-decoration-color: #0087ff\">Dense</span>)                        │ (<span style=\"color: #00d7ff; text-decoration-color: #00d7ff\">None</span>, <span style=\"color: #00af00; text-decoration-color: #00af00\">512</span>)                 │          <span style=\"color: #00af00; text-decoration-color: #00af00\">66,048</span> │\n",
       "├──────────────────────────────────────┼─────────────────────────────┼─────────────────┤\n",
       "│ dropout_dense (<span style=\"color: #0087ff; text-decoration-color: #0087ff\">Dropout</span>)              │ (<span style=\"color: #00d7ff; text-decoration-color: #00d7ff\">None</span>, <span style=\"color: #00af00; text-decoration-color: #00af00\">512</span>)                 │               <span style=\"color: #00af00; text-decoration-color: #00af00\">0</span> │\n",
       "├──────────────────────────────────────┼─────────────────────────────┼─────────────────┤\n",
       "│ dense_1 (<span style=\"color: #0087ff; text-decoration-color: #0087ff\">Dense</span>)                      │ (<span style=\"color: #00d7ff; text-decoration-color: #00d7ff\">None</span>, <span style=\"color: #00af00; text-decoration-color: #00af00\">18</span>)                  │           <span style=\"color: #00af00; text-decoration-color: #00af00\">9,234</span> │\n",
       "└──────────────────────────────────────┴─────────────────────────────┴─────────────────┘\n",
       "</pre>\n"
      ],
      "text/plain": [
       "┏━━━━━━━━━━━━━━━━━━━━━━━━━━━━━━━━━━━━━━┳━━━━━━━━━━━━━━━━━━━━━━━━━━━━━┳━━━━━━━━━━━━━━━━━┓\n",
       "┃\u001b[1m \u001b[0m\u001b[1mLayer (type)                        \u001b[0m\u001b[1m \u001b[0m┃\u001b[1m \u001b[0m\u001b[1mOutput Shape               \u001b[0m\u001b[1m \u001b[0m┃\u001b[1m \u001b[0m\u001b[1m        Param #\u001b[0m\u001b[1m \u001b[0m┃\n",
       "┡━━━━━━━━━━━━━━━━━━━━━━━━━━━━━━━━━━━━━━╇━━━━━━━━━━━━━━━━━━━━━━━━━━━━━╇━━━━━━━━━━━━━━━━━┩\n",
       "│ time_distributed (\u001b[38;5;33mTimeDistributed\u001b[0m)   │ (\u001b[38;5;45mNone\u001b[0m, \u001b[38;5;34m10\u001b[0m, \u001b[38;5;34m4\u001b[0m, \u001b[38;5;34m4\u001b[0m, \u001b[38;5;34m2048\u001b[0m)      │      \u001b[38;5;34m20,861,480\u001b[0m │\n",
       "├──────────────────────────────────────┼─────────────────────────────┼─────────────────┤\n",
       "│ time_distributed_1 (\u001b[38;5;33mTimeDistributed\u001b[0m) │ (\u001b[38;5;45mNone\u001b[0m, \u001b[38;5;34m10\u001b[0m, \u001b[38;5;34m2048\u001b[0m)            │               \u001b[38;5;34m0\u001b[0m │\n",
       "├──────────────────────────────────────┼─────────────────────────────┼─────────────────┤\n",
       "│ lstm (\u001b[38;5;33mLSTM\u001b[0m)                          │ (\u001b[38;5;45mNone\u001b[0m, \u001b[38;5;34m128\u001b[0m)                 │       \u001b[38;5;34m1,114,624\u001b[0m │\n",
       "├──────────────────────────────────────┼─────────────────────────────┼─────────────────┤\n",
       "│ batch_normalization                  │ (\u001b[38;5;45mNone\u001b[0m, \u001b[38;5;34m128\u001b[0m)                 │             \u001b[38;5;34m512\u001b[0m │\n",
       "│ (\u001b[38;5;33mBatchNormalization\u001b[0m)                 │                             │                 │\n",
       "├──────────────────────────────────────┼─────────────────────────────┼─────────────────┤\n",
       "│ dropout_lstm (\u001b[38;5;33mDropout\u001b[0m)               │ (\u001b[38;5;45mNone\u001b[0m, \u001b[38;5;34m128\u001b[0m)                 │               \u001b[38;5;34m0\u001b[0m │\n",
       "├──────────────────────────────────────┼─────────────────────────────┼─────────────────┤\n",
       "│ dense (\u001b[38;5;33mDense\u001b[0m)                        │ (\u001b[38;5;45mNone\u001b[0m, \u001b[38;5;34m512\u001b[0m)                 │          \u001b[38;5;34m66,048\u001b[0m │\n",
       "├──────────────────────────────────────┼─────────────────────────────┼─────────────────┤\n",
       "│ dropout_dense (\u001b[38;5;33mDropout\u001b[0m)              │ (\u001b[38;5;45mNone\u001b[0m, \u001b[38;5;34m512\u001b[0m)                 │               \u001b[38;5;34m0\u001b[0m │\n",
       "├──────────────────────────────────────┼─────────────────────────────┼─────────────────┤\n",
       "│ dense_1 (\u001b[38;5;33mDense\u001b[0m)                      │ (\u001b[38;5;45mNone\u001b[0m, \u001b[38;5;34m18\u001b[0m)                  │           \u001b[38;5;34m9,234\u001b[0m │\n",
       "└──────────────────────────────────────┴─────────────────────────────┴─────────────────┘\n"
      ]
     },
     "metadata": {},
     "output_type": "display_data"
    },
    {
     "data": {
      "text/html": [
       "<pre style=\"white-space:pre;overflow-x:auto;line-height:normal;font-family:Menlo,'DejaVu Sans Mono',consolas,'Courier New',monospace\"><span style=\"font-weight: bold\"> Total params: </span><span style=\"color: #00af00; text-decoration-color: #00af00\">22,051,898</span> (84.12 MB)\n",
       "</pre>\n"
      ],
      "text/plain": [
       "\u001b[1m Total params: \u001b[0m\u001b[38;5;34m22,051,898\u001b[0m (84.12 MB)\n"
      ]
     },
     "metadata": {},
     "output_type": "display_data"
    },
    {
     "data": {
      "text/html": [
       "<pre style=\"white-space:pre;overflow-x:auto;line-height:normal;font-family:Menlo,'DejaVu Sans Mono',consolas,'Courier New',monospace\"><span style=\"font-weight: bold\"> Trainable params: </span><span style=\"color: #00af00; text-decoration-color: #00af00\">6,686,482</span> (25.51 MB)\n",
       "</pre>\n"
      ],
      "text/plain": [
       "\u001b[1m Trainable params: \u001b[0m\u001b[38;5;34m6,686,482\u001b[0m (25.51 MB)\n"
      ]
     },
     "metadata": {},
     "output_type": "display_data"
    },
    {
     "data": {
      "text/html": [
       "<pre style=\"white-space:pre;overflow-x:auto;line-height:normal;font-family:Menlo,'DejaVu Sans Mono',consolas,'Courier New',monospace\"><span style=\"font-weight: bold\"> Non-trainable params: </span><span style=\"color: #00af00; text-decoration-color: #00af00\">15,365,416</span> (58.61 MB)\n",
       "</pre>\n"
      ],
      "text/plain": [
       "\u001b[1m Non-trainable params: \u001b[0m\u001b[38;5;34m15,365,416\u001b[0m (58.61 MB)\n"
      ]
     },
     "metadata": {},
     "output_type": "display_data"
    },
    {
     "name": "stdout",
     "output_type": "stream",
     "text": [
      "Model Created Successfully!\n"
     ]
    }
   ],
   "source": [
    "# Create the model\n",
    "xlstm_model = create_xception_lstm_model(\n",
    "    sequence_length=SEQUENCE_LENGTH,\n",
    "    image_height=IMAGE_HEIGHT,\n",
    "    image_width=IMAGE_WIDTH,\n",
    "    classes_list=CLASSES_LIST,\n",
    "    dropout_rate=DROPOUT_RATE\n",
    ")\n",
    "\n",
    "# Check if model was created successfully\n",
    "if xlstm_model is None:\n",
    "    print(\"Failed to create model. Check error messages above.\")\n",
    "else:\n",
    "    print(\"Model Created Successfully!\")"
   ]
  },
  {
   "cell_type": "markdown",
   "id": "8f719bcc",
   "metadata": {
    "papermill": {
     "duration": 0.017987,
     "end_time": "2025-07-06T08:32:10.126829",
     "exception": false,
     "start_time": "2025-07-06T08:32:10.108842",
     "status": "completed"
    },
    "tags": []
   },
   "source": [
    "## Plot Model Structure"
   ]
  },
  {
   "cell_type": "code",
   "execution_count": 46,
   "id": "c298a349",
   "metadata": {
    "execution": {
     "iopub.execute_input": "2025-07-06T08:32:10.164764Z",
     "iopub.status.busy": "2025-07-06T08:32:10.164526Z",
     "iopub.status.idle": "2025-07-06T08:32:10.637003Z",
     "shell.execute_reply": "2025-07-06T08:32:10.636154Z"
    },
    "papermill": {
     "duration": 0.493453,
     "end_time": "2025-07-06T08:32:10.638220",
     "exception": false,
     "start_time": "2025-07-06T08:32:10.144767",
     "status": "completed"
    },
    "tags": []
   },
   "outputs": [
    {
     "name": "stdout",
     "output_type": "stream",
     "text": [
      "Xception Model Plot saved successfully...\n"
     ]
    }
   ],
   "source": [
    "# Plot the structure of the contructed model.\n",
    "from tensorflow.keras.utils import plot_model\n",
    "\n",
    "plot_model(xlstm_model, to_file = f'{MODEL_NAME}_model_Plot.png', show_shapes = True, show_layer_names = True)\n",
    "\n",
    "print(f\"{MODEL_NAME} Model Plot saved successfully...\")"
   ]
  },
  {
   "cell_type": "markdown",
   "id": "0263dfef",
   "metadata": {
    "papermill": {
     "duration": 0.018079,
     "end_time": "2025-07-06T08:32:10.676016",
     "exception": false,
     "start_time": "2025-07-06T08:32:10.657937",
     "status": "completed"
    },
    "tags": []
   },
   "source": [
    "## Model Compile"
   ]
  },
  {
   "cell_type": "code",
   "execution_count": 47,
   "id": "8f9dd06d",
   "metadata": {
    "execution": {
     "iopub.execute_input": "2025-07-06T08:32:10.713681Z",
     "iopub.status.busy": "2025-07-06T08:32:10.713386Z",
     "iopub.status.idle": "2025-07-06T08:32:10.729884Z",
     "shell.execute_reply": "2025-07-06T08:32:10.729362Z"
    },
    "papermill": {
     "duration": 0.03612,
     "end_time": "2025-07-06T08:32:10.730938",
     "exception": false,
     "start_time": "2025-07-06T08:32:10.694818",
     "status": "completed"
    },
    "tags": []
   },
   "outputs": [],
   "source": [
    "# Create an Instance of Early Stopping Callback\n",
    "from tensorflow.keras.callbacks import EarlyStopping\n",
    "\n",
    "early_stopping_callback = EarlyStopping(monitor = 'val_loss', \n",
    "                                        patience = 7, \n",
    "                                        mode = 'min', \n",
    "                                        restore_best_weights = True)\n",
    "\n",
    "# Compile the model and specify loss function, optimizer and metrics values to the model\n",
    "xlstm_model.compile(loss = 'categorical_crossentropy', \n",
    "                    optimizer=tf.keras.optimizers.Adam(learning_rate=0.0001),\n",
    "                    metrics = [\"accuracy\"])\n"
   ]
  },
  {
   "cell_type": "markdown",
   "id": "07ce4f37",
   "metadata": {
    "papermill": {
     "duration": 0.017582,
     "end_time": "2025-07-06T08:32:10.766588",
     "exception": false,
     "start_time": "2025-07-06T08:32:10.749006",
     "status": "completed"
    },
    "tags": []
   },
   "source": [
    "## 💪 Model Fit"
   ]
  },
  {
   "cell_type": "code",
   "execution_count": 48,
   "id": "6c66e9b3",
   "metadata": {
    "execution": {
     "iopub.execute_input": "2025-07-06T08:32:10.803193Z",
     "iopub.status.busy": "2025-07-06T08:32:10.802981Z",
     "iopub.status.idle": "2025-07-06T08:32:10.808865Z",
     "shell.execute_reply": "2025-07-06T08:32:10.808243Z"
    },
    "papermill": {
     "duration": 0.025616,
     "end_time": "2025-07-06T08:32:10.809982",
     "exception": false,
     "start_time": "2025-07-06T08:32:10.784366",
     "status": "completed"
    },
    "tags": []
   },
   "outputs": [
    {
     "name": "stdout",
     "output_type": "stream",
     "text": [
      "Unique labels: [ 0  1  2  3  4  5  6  7  8  9 10 11 12 13 14 15 16 17]\n",
      "NO_OF_CLASSES: 18\n"
     ]
    }
   ],
   "source": [
    "labels = np.argmax(train_gen.labels, axis=1)  # assuming one-hot encoded\n",
    "print(\"Unique labels:\", np.unique(labels))\n",
    "print(\"NO_OF_CLASSES:\", NO_OF_CLASSES)\n"
   ]
  },
  {
   "cell_type": "code",
   "execution_count": 49,
   "id": "385696f8",
   "metadata": {
    "execution": {
     "iopub.execute_input": "2025-07-06T08:32:10.848752Z",
     "iopub.status.busy": "2025-07-06T08:32:10.848413Z",
     "iopub.status.idle": "2025-07-06T08:32:10.854519Z",
     "shell.execute_reply": "2025-07-06T08:32:10.853910Z"
    },
    "papermill": {
     "duration": 0.026556,
     "end_time": "2025-07-06T08:32:10.855493",
     "exception": false,
     "start_time": "2025-07-06T08:32:10.828937",
     "status": "completed"
    },
    "tags": []
   },
   "outputs": [
    {
     "name": "stdout",
     "output_type": "stream",
     "text": [
      "Train label shape: (1728, 18)\n",
      "Val label shape: (432, 18)\n"
     ]
    }
   ],
   "source": [
    "print(\"Train label shape:\", np.shape(train_gen.labels))\n",
    "print(\"Val label shape:\", np.shape(val_gen.labels))\n"
   ]
  },
  {
   "cell_type": "code",
   "execution_count": 50,
   "id": "75342140",
   "metadata": {
    "execution": {
     "iopub.execute_input": "2025-07-06T08:32:10.891825Z",
     "iopub.status.busy": "2025-07-06T08:32:10.891645Z",
     "iopub.status.idle": "2025-07-06T08:53:50.238366Z",
     "shell.execute_reply": "2025-07-06T08:53:50.237775Z"
    },
    "papermill": {
     "duration": 1299.366522,
     "end_time": "2025-07-06T08:53:50.239864",
     "exception": false,
     "start_time": "2025-07-06T08:32:10.873342",
     "status": "completed"
    },
    "tags": []
   },
   "outputs": [
    {
     "name": "stdout",
     "output_type": "stream",
     "text": [
      "Dataset - Kard Kinect Activity Recognition Dataset\n",
      "There are total 18 classes, selected 18 classes\n",
      "Setting 30 videos/class to train the model.\n",
      "Image size 128x128 with 10 sequence length\n",
      "Dropout rate: 0.5\n",
      "Train-Test split ratio 80/20\n",
      "Validation data from Train set 20.0%\n",
      "\n",
      "\n",
      "Training started for 1728 videos of 18 classes with 432 videos for validation...\n",
      "Epoch 1/30\n"
     ]
    },
    {
     "name": "stderr",
     "output_type": "stream",
     "text": [
      "I0000 00:00:1751790787.605512      60 cuda_dnn.cc:529] Loaded cuDNN version 90300\n"
     ]
    },
    {
     "name": "stdout",
     "output_type": "stream",
     "text": [
      "     54/Unknown \u001b[1m93s\u001b[0m 595ms/step - accuracy: 0.0724 - loss: 13.5091"
     ]
    },
    {
     "name": "stderr",
     "output_type": "stream",
     "text": [
      "/usr/local/lib/python3.11/dist-packages/keras/src/trainers/epoch_iterator.py:151: UserWarning: Your input ran out of data; interrupting training. Make sure that your dataset or generator can generate at least `steps_per_epoch * epochs` batches. You may need to use the `.repeat()` function when building your dataset.\n",
      "  self._interrupted_warning()\n"
     ]
    },
    {
     "name": "stdout",
     "output_type": "stream",
     "text": [
      "\u001b[1m54/54\u001b[0m \u001b[32m━━━━━━━━━━━━━━━━━━━━\u001b[0m\u001b[37m\u001b[0m \u001b[1m114s\u001b[0m 996ms/step - accuracy: 0.0726 - loss: 13.5038 - val_accuracy: 0.2315 - val_loss: 12.3061 - learning_rate: 1.0000e-04\n",
      "Epoch 2/30\n",
      "\u001b[1m54/54\u001b[0m \u001b[32m━━━━━━━━━━━━━━━━━━━━\u001b[0m\u001b[37m\u001b[0m \u001b[1m41s\u001b[0m 753ms/step - accuracy: 0.1889 - loss: 12.1065 - val_accuracy: 0.3380 - val_loss: 11.4438 - learning_rate: 1.0000e-04\n",
      "Epoch 3/30\n",
      "\u001b[1m54/54\u001b[0m \u001b[32m━━━━━━━━━━━━━━━━━━━━\u001b[0m\u001b[37m\u001b[0m \u001b[1m41s\u001b[0m 759ms/step - accuracy: 0.2733 - loss: 11.0780 - val_accuracy: 0.4792 - val_loss: 10.5955 - learning_rate: 1.0000e-04\n",
      "Epoch 4/30\n",
      "\u001b[1m54/54\u001b[0m \u001b[32m━━━━━━━━━━━━━━━━━━━━\u001b[0m\u001b[37m\u001b[0m \u001b[1m41s\u001b[0m 757ms/step - accuracy: 0.3684 - loss: 10.0131 - val_accuracy: 0.5463 - val_loss: 9.6943 - learning_rate: 1.0000e-04\n",
      "Epoch 5/30\n",
      "\u001b[1m54/54\u001b[0m \u001b[32m━━━━━━━━━━━━━━━━━━━━\u001b[0m\u001b[37m\u001b[0m \u001b[1m41s\u001b[0m 757ms/step - accuracy: 0.4127 - loss: 9.1926 - val_accuracy: 0.5972 - val_loss: 8.7927 - learning_rate: 1.0000e-04\n",
      "Epoch 6/30\n",
      "\u001b[1m54/54\u001b[0m \u001b[32m━━━━━━━━━━━━━━━━━━━━\u001b[0m\u001b[37m\u001b[0m \u001b[1m41s\u001b[0m 756ms/step - accuracy: 0.4907 - loss: 8.4390 - val_accuracy: 0.6481 - val_loss: 8.0375 - learning_rate: 1.0000e-04\n",
      "Epoch 7/30\n",
      "\u001b[1m54/54\u001b[0m \u001b[32m━━━━━━━━━━━━━━━━━━━━\u001b[0m\u001b[37m\u001b[0m \u001b[1m41s\u001b[0m 760ms/step - accuracy: 0.5350 - loss: 7.7816 - val_accuracy: 0.6921 - val_loss: 7.2612 - learning_rate: 1.0000e-04\n",
      "Epoch 8/30\n",
      "\u001b[1m54/54\u001b[0m \u001b[32m━━━━━━━━━━━━━━━━━━━━\u001b[0m\u001b[37m\u001b[0m \u001b[1m41s\u001b[0m 758ms/step - accuracy: 0.6051 - loss: 7.1440 - val_accuracy: 0.7269 - val_loss: 6.6784 - learning_rate: 1.0000e-04\n",
      "Epoch 9/30\n",
      "\u001b[1m54/54\u001b[0m \u001b[32m━━━━━━━━━━━━━━━━━━━━\u001b[0m\u001b[37m\u001b[0m \u001b[1m41s\u001b[0m 758ms/step - accuracy: 0.6627 - loss: 6.6138 - val_accuracy: 0.7708 - val_loss: 6.1449 - learning_rate: 1.0000e-04\n",
      "Epoch 10/30\n",
      "\u001b[1m54/54\u001b[0m \u001b[32m━━━━━━━━━━━━━━━━━━━━\u001b[0m\u001b[37m\u001b[0m \u001b[1m41s\u001b[0m 758ms/step - accuracy: 0.7311 - loss: 6.1162 - val_accuracy: 0.8264 - val_loss: 5.6644 - learning_rate: 1.0000e-04\n",
      "Epoch 11/30\n",
      "\u001b[1m54/54\u001b[0m \u001b[32m━━━━━━━━━━━━━━━━━━━━\u001b[0m\u001b[37m\u001b[0m \u001b[1m41s\u001b[0m 760ms/step - accuracy: 0.7799 - loss: 5.6183 - val_accuracy: 0.8565 - val_loss: 5.2450 - learning_rate: 1.0000e-04\n",
      "Epoch 12/30\n",
      "\u001b[1m54/54\u001b[0m \u001b[32m━━━━━━━━━━━━━━━━━━━━\u001b[0m\u001b[37m\u001b[0m \u001b[1m41s\u001b[0m 757ms/step - accuracy: 0.8128 - loss: 5.2364 - val_accuracy: 0.8704 - val_loss: 4.8957 - learning_rate: 1.0000e-04\n",
      "Epoch 13/30\n",
      "\u001b[1m54/54\u001b[0m \u001b[32m━━━━━━━━━━━━━━━━━━━━\u001b[0m\u001b[37m\u001b[0m \u001b[1m41s\u001b[0m 758ms/step - accuracy: 0.8375 - loss: 4.8968 - val_accuracy: 0.8634 - val_loss: 4.6259 - learning_rate: 1.0000e-04\n",
      "Epoch 14/30\n",
      "\u001b[1m54/54\u001b[0m \u001b[32m━━━━━━━━━━━━━━━━━━━━\u001b[0m\u001b[37m\u001b[0m \u001b[1m41s\u001b[0m 758ms/step - accuracy: 0.8783 - loss: 4.5734 - val_accuracy: 0.8958 - val_loss: 4.3224 - learning_rate: 1.0000e-04\n",
      "Epoch 15/30\n",
      "\u001b[1m54/54\u001b[0m \u001b[32m━━━━━━━━━━━━━━━━━━━━\u001b[0m\u001b[37m\u001b[0m \u001b[1m41s\u001b[0m 756ms/step - accuracy: 0.8970 - loss: 4.3011 - val_accuracy: 0.9074 - val_loss: 4.0931 - learning_rate: 1.0000e-04\n",
      "Epoch 16/30\n",
      "\u001b[1m54/54\u001b[0m \u001b[32m━━━━━━━━━━━━━━━━━━━━\u001b[0m\u001b[37m\u001b[0m \u001b[1m41s\u001b[0m 757ms/step - accuracy: 0.9161 - loss: 4.0609 - val_accuracy: 0.9120 - val_loss: 3.8970 - learning_rate: 1.0000e-04\n",
      "Epoch 17/30\n",
      "\u001b[1m54/54\u001b[0m \u001b[32m━━━━━━━━━━━━━━━━━━━━\u001b[0m\u001b[37m\u001b[0m \u001b[1m41s\u001b[0m 757ms/step - accuracy: 0.9429 - loss: 3.8181 - val_accuracy: 0.9236 - val_loss: 3.7155 - learning_rate: 1.0000e-04\n",
      "Epoch 18/30\n",
      "\u001b[1m54/54\u001b[0m \u001b[32m━━━━━━━━━━━━━━━━━━━━\u001b[0m\u001b[37m\u001b[0m \u001b[1m41s\u001b[0m 759ms/step - accuracy: 0.9470 - loss: 3.6204 - val_accuracy: 0.9190 - val_loss: 3.5517 - learning_rate: 1.0000e-04\n",
      "Epoch 19/30\n",
      "\u001b[1m54/54\u001b[0m \u001b[32m━━━━━━━━━━━━━━━━━━━━\u001b[0m\u001b[37m\u001b[0m \u001b[1m41s\u001b[0m 757ms/step - accuracy: 0.9657 - loss: 3.4326 - val_accuracy: 0.9352 - val_loss: 3.3727 - learning_rate: 1.0000e-04\n",
      "Epoch 20/30\n",
      "\u001b[1m54/54\u001b[0m \u001b[32m━━━━━━━━━━━━━━━━━━━━\u001b[0m\u001b[37m\u001b[0m \u001b[1m41s\u001b[0m 758ms/step - accuracy: 0.9678 - loss: 3.2805 - val_accuracy: 0.9259 - val_loss: 3.2419 - learning_rate: 1.0000e-04\n",
      "Epoch 21/30\n",
      "\u001b[1m54/54\u001b[0m \u001b[32m━━━━━━━━━━━━━━━━━━━━\u001b[0m\u001b[37m\u001b[0m \u001b[1m41s\u001b[0m 757ms/step - accuracy: 0.9723 - loss: 3.1482 - val_accuracy: 0.9259 - val_loss: 3.1238 - learning_rate: 1.0000e-04\n",
      "Epoch 22/30\n",
      "\u001b[1m54/54\u001b[0m \u001b[32m━━━━━━━━━━━━━━━━━━━━\u001b[0m\u001b[37m\u001b[0m \u001b[1m41s\u001b[0m 759ms/step - accuracy: 0.9804 - loss: 3.0027 - val_accuracy: 0.9282 - val_loss: 2.9897 - learning_rate: 1.0000e-04\n",
      "Epoch 23/30\n",
      "\u001b[1m54/54\u001b[0m \u001b[32m━━━━━━━━━━━━━━━━━━━━\u001b[0m\u001b[37m\u001b[0m \u001b[1m41s\u001b[0m 759ms/step - accuracy: 0.9885 - loss: 2.8707 - val_accuracy: 0.9398 - val_loss: 2.8713 - learning_rate: 1.0000e-04\n",
      "Epoch 24/30\n",
      "\u001b[1m54/54\u001b[0m \u001b[32m━━━━━━━━━━━━━━━━━━━━\u001b[0m\u001b[37m\u001b[0m \u001b[1m41s\u001b[0m 757ms/step - accuracy: 0.9884 - loss: 2.7595 - val_accuracy: 0.9468 - val_loss: 2.7650 - learning_rate: 1.0000e-04\n",
      "Epoch 25/30\n",
      "\u001b[1m54/54\u001b[0m \u001b[32m━━━━━━━━━━━━━━━━━━━━\u001b[0m\u001b[37m\u001b[0m \u001b[1m41s\u001b[0m 759ms/step - accuracy: 0.9936 - loss: 2.6406 - val_accuracy: 0.9421 - val_loss: 2.6651 - learning_rate: 1.0000e-04\n",
      "Epoch 26/30\n",
      "\u001b[1m54/54\u001b[0m \u001b[32m━━━━━━━━━━━━━━━━━━━━\u001b[0m\u001b[37m\u001b[0m \u001b[1m41s\u001b[0m 758ms/step - accuracy: 0.9934 - loss: 2.5373 - val_accuracy: 0.9514 - val_loss: 2.5501 - learning_rate: 1.0000e-04\n",
      "Epoch 27/30\n",
      "\u001b[1m54/54\u001b[0m \u001b[32m━━━━━━━━━━━━━━━━━━━━\u001b[0m\u001b[37m\u001b[0m \u001b[1m41s\u001b[0m 754ms/step - accuracy: 0.9912 - loss: 2.4538 - val_accuracy: 0.9421 - val_loss: 2.4736 - learning_rate: 1.0000e-04\n",
      "Epoch 28/30\n",
      "\u001b[1m54/54\u001b[0m \u001b[32m━━━━━━━━━━━━━━━━━━━━\u001b[0m\u001b[37m\u001b[0m \u001b[1m41s\u001b[0m 756ms/step - accuracy: 0.9948 - loss: 2.3498 - val_accuracy: 0.9514 - val_loss: 2.3786 - learning_rate: 1.0000e-04\n",
      "Epoch 29/30\n",
      "\u001b[1m54/54\u001b[0m \u001b[32m━━━━━━━━━━━━━━━━━━━━\u001b[0m\u001b[37m\u001b[0m \u001b[1m41s\u001b[0m 756ms/step - accuracy: 0.9992 - loss: 2.2463 - val_accuracy: 0.9491 - val_loss: 2.2924 - learning_rate: 1.0000e-04\n",
      "Epoch 30/30\n",
      "\u001b[1m54/54\u001b[0m \u001b[32m━━━━━━━━━━━━━━━━━━━━\u001b[0m\u001b[37m\u001b[0m \u001b[1m41s\u001b[0m 756ms/step - accuracy: 0.9935 - loss: 2.1679 - val_accuracy: 0.9398 - val_loss: 2.2507 - learning_rate: 1.0000e-04\n"
     ]
    }
   ],
   "source": [
    "from tensorflow.keras.callbacks import ReduceLROnPlateau\n",
    "\n",
    "lr_scheduler = ReduceLROnPlateau(monitor='val_loss', \n",
    "                                 factor=0.5, \n",
    "                                 patience=3, \n",
    "                                 min_lr=1e-6)\n",
    "\n",
    "\n",
    "\n",
    "print(f\"Dataset - {DATASET_NAME}\")\n",
    "print(f\"There are total {len(ALL_CLASS_NAMES)} classes, selected {NO_OF_CLASSES} classes\")\n",
    "print(f\"Setting {MAX_VIDEO_PER_CLASS} videos/class to train the model.\")\n",
    "print(f\"Image size {IMAGE_HEIGHT}x{IMAGE_WIDTH} with {SEQUENCE_LENGTH} sequence length\")\n",
    "print(f\"Dropout rate: {DROPOUT_RATE}\")\n",
    "print(f\"Train-Test split ratio {int((1-TEST_SIZE)*100)}/{int(TEST_SIZE*100)}\")\n",
    "print(f\"Validation data from Train set {VALIDATION_SPLIT*100}%\")\n",
    "\n",
    "print(\"\\n\")\n",
    "\n",
    "print(f\"Training started for {len(train_gen.videos)} videos of {NO_OF_CLASSES} classes with {len(val_gen.videos)} videos for validation...\")\n",
    "\n",
    "model_history = xlstm_model.fit(\n",
    "    train_gen.as_dataset(),\n",
    "    validation_data=val_gen.as_dataset(),\n",
    "    epochs=EPOCHS,\n",
    "    # class_weight=class_weight_dict,\n",
    "    callbacks=[early_stopping_callback, lr_scheduler]\n",
    ")"
   ]
  },
  {
   "cell_type": "markdown",
   "id": "db4bb62a",
   "metadata": {
    "papermill": {
     "duration": 0.084921,
     "end_time": "2025-07-06T08:53:50.412926",
     "exception": false,
     "start_time": "2025-07-06T08:53:50.328005",
     "status": "completed"
    },
    "tags": []
   },
   "source": [
    "# Evaluation"
   ]
  },
  {
   "cell_type": "markdown",
   "id": "692e1bdd",
   "metadata": {
    "papermill": {
     "duration": 0.085107,
     "end_time": "2025-07-06T08:53:50.584616",
     "exception": false,
     "start_time": "2025-07-06T08:53:50.499509",
     "status": "completed"
    },
    "tags": []
   },
   "source": [
    "## ⚡ Model Evaluate"
   ]
  },
  {
   "cell_type": "code",
   "execution_count": 51,
   "id": "4dc973af",
   "metadata": {
    "execution": {
     "iopub.execute_input": "2025-07-06T08:53:50.759045Z",
     "iopub.status.busy": "2025-07-06T08:53:50.758783Z",
     "iopub.status.idle": "2025-07-06T08:54:02.768123Z",
     "shell.execute_reply": "2025-07-06T08:54:02.767569Z"
    },
    "papermill": {
     "duration": 12.097331,
     "end_time": "2025-07-06T08:54:02.769251",
     "exception": false,
     "start_time": "2025-07-06T08:53:50.671920",
     "status": "completed"
    },
    "tags": []
   },
   "outputs": [
    {
     "name": "stdout",
     "output_type": "stream",
     "text": [
      "\u001b[1m17/17\u001b[0m \u001b[32m━━━━━━━━━━━━━━━━━━━━\u001b[0m\u001b[37m\u001b[0m \u001b[1m9s\u001b[0m 535ms/step - accuracy: 0.8920 - loss: 2.3971\n"
     ]
    }
   ],
   "source": [
    "# previous code\n",
    "model_evaluation_history = xlstm_model.evaluate(features_test, labels_test)"
   ]
  },
  {
   "cell_type": "code",
   "execution_count": 52,
   "id": "96250286",
   "metadata": {
    "execution": {
     "iopub.execute_input": "2025-07-06T08:54:02.948122Z",
     "iopub.status.busy": "2025-07-06T08:54:02.947422Z",
     "iopub.status.idle": "2025-07-06T08:54:03.301457Z",
     "shell.execute_reply": "2025-07-06T08:54:03.300648Z"
    },
    "papermill": {
     "duration": 0.444196,
     "end_time": "2025-07-06T08:54:03.302962",
     "exception": false,
     "start_time": "2025-07-06T08:54:02.858766",
     "status": "completed"
    },
    "tags": []
   },
   "outputs": [
    {
     "data": {
      "image/png": "[encoded data removed]",
      "text/plain": [
       "<Figure size 1200x500 with 2 Axes>"
      ]
     },
     "metadata": {},
     "output_type": "display_data"
    }
   ],
   "source": [
    "import matplotlib.pyplot as plt\n",
    "\n",
    "# Accuracy\n",
    "plt.figure(figsize=(12, 5))\n",
    "\n",
    "plt.subplot(1, 2, 1)\n",
    "plt.plot(model_history.history['accuracy'], label='Train Accuracy')\n",
    "plt.plot(model_history.history['val_accuracy'], label='Validation Accuracy')\n",
    "plt.title('Model Accuracy')\n",
    "plt.xlabel('Epoch')\n",
    "plt.ylabel('Accuracy')\n",
    "plt.legend()\n",
    "\n",
    "# Loss\n",
    "plt.subplot(1, 2, 2)\n",
    "plt.plot(model_history.history['loss'], label='Train Loss')\n",
    "plt.plot(model_history.history['val_loss'], label='Validation Loss')\n",
    "plt.title('Model Loss')\n",
    "plt.xlabel('Epoch')\n",
    "plt.ylabel('Loss')\n",
    "plt.legend()\n",
    "\n",
    "plt.tight_layout()\n",
    "plt.show()\n"
   ]
  },
  {
   "cell_type": "markdown",
   "id": "af7b03e6",
   "metadata": {
    "papermill": {
     "duration": 0.112281,
     "end_time": "2025-07-06T08:54:03.510938",
     "exception": false,
     "start_time": "2025-07-06T08:54:03.398657",
     "status": "completed"
    },
    "tags": []
   },
   "source": [
    "## 📈 Confusion Matrix"
   ]
  },
  {
   "cell_type": "code",
   "execution_count": 53,
   "id": "5acd07b8",
   "metadata": {
    "execution": {
     "iopub.execute_input": "2025-07-06T08:54:03.691891Z",
     "iopub.status.busy": "2025-07-06T08:54:03.691381Z",
     "iopub.status.idle": "2025-07-06T08:54:31.478066Z",
     "shell.execute_reply": "2025-07-06T08:54:31.477333Z"
    },
    "papermill": {
     "duration": 27.878191,
     "end_time": "2025-07-06T08:54:31.479272",
     "exception": false,
     "start_time": "2025-07-06T08:54:03.601081",
     "status": "completed"
    },
    "tags": []
   },
   "outputs": [
    {
     "name": "stdout",
     "output_type": "stream",
     "text": [
      "Total 540 videos and 540 classes\n",
      "\u001b[1m135/135\u001b[0m \u001b[32m━━━━━━━━━━━━━━━━━━━━\u001b[0m\u001b[37m\u001b[0m \u001b[1m26s\u001b[0m 97ms/step\n",
      "True classes shape: (540,)\n",
      "Predicted classes shape: (540,)\n",
      "Classification Report:\n",
      "                     precision    recall  f1-score   support\n",
      "\n",
      "          Catch Cap       0.87      0.90      0.88        29\n",
      "              Drink       0.96      0.96      0.96        27\n",
      "           Sit down       1.00      1.00      1.00        32\n",
      "          Draw Tick       0.77      0.79      0.78        38\n",
      "         Phone Call       1.00      1.00      1.00        33\n",
      "Horizontal arm wave       1.00      0.92      0.96        36\n",
      "          Hand Clap       0.97      0.97      0.97        29\n",
      "         High throw       0.50      0.96      0.66        23\n",
      "       Forward Kick       1.00      0.87      0.93        31\n",
      "           Stand up       1.00      1.00      1.00        24\n",
      "      Two hand wave       0.96      1.00      0.98        26\n",
      "         Toss Paper       1.00      0.89      0.94        36\n",
      "               Walk       1.00      1.00      1.00        22\n",
      "          Side Kick       0.93      1.00      0.96        26\n",
      "               Bend       0.91      0.97      0.94        33\n",
      "      Take Umbrella       0.90      0.87      0.88        30\n",
      "      High arm wave       0.90      0.96      0.93        28\n",
      "             Draw X       0.79      0.41      0.54        37\n",
      "\n",
      "           accuracy                           0.90       540\n",
      "          macro avg       0.91      0.91      0.91       540\n",
      "       weighted avg       0.92      0.90      0.90       540\n",
      "\n"
     ]
    },
    {
     "name": "stderr",
     "output_type": "stream",
     "text": [
      "/usr/local/lib/python3.11/dist-packages/keras/src/trainers/epoch_iterator.py:151: UserWarning: Your input ran out of data; interrupting training. Make sure that your dataset or generator can generate at least `steps_per_epoch * epochs` batches. You may need to use the `.repeat()` function when building your dataset.\n",
      "  self._interrupted_warning()\n"
     ]
    },
    {
     "data": {
      "image/png": "[encoded data removed]",
      "text/plain": [
       "<Figure size 800x600 with 2 Axes>"
      ]
     },
     "metadata": {},
     "output_type": "display_data"
    }
   ],
   "source": [
    "from sklearn.metrics import classification_report, confusion_matrix\n",
    "import seaborn as sns\n",
    "import matplotlib.pyplot as plt\n",
    "\n",
    "# Create test generator with batch_size matching test set size\n",
    "test_gen = VideoDataGenerator(\n",
    "    videos=features_test,\n",
    "    labels=labels_test,\n",
    "    batch_size=4,  # Process all test samples at once\n",
    ")\n",
    "\n",
    "# Get predictions\n",
    "predictions = xlstm_model.predict(test_gen.as_dataset())\n",
    "predicted_classes = np.argmax(predictions, axis=1)\n",
    "true_classes = np.argmax(labels_test, axis=1)\n",
    "\n",
    "# Verify shapes\n",
    "print(f\"True classes shape: {true_classes.shape}\")\n",
    "print(f\"Predicted classes shape: {predicted_classes.shape}\")\n",
    "assert len(true_classes) == len(predicted_classes), \"Sample counts do not match!\"\n",
    "\n",
    "# Generate classification report\n",
    "print(\"Classification Report:\")\n",
    "print(classification_report(true_classes, predicted_classes, target_names=CLASSES_LIST))\n",
    "\n",
    "# Plot confusion matrix\n",
    "cm = confusion_matrix(true_classes, predicted_classes)\n",
    "plt.figure(figsize=(8, 6))\n",
    "sns.heatmap(cm, annot=True, fmt='d', cmap='Blues', xticklabels=CLASSES_LIST, yticklabels=CLASSES_LIST[-1])\n",
    "plt.xlabel('Predicted')\n",
    "plt.ylabel('True')\n",
    "plt.title('Confusion Matrix')\n",
    "plt.show()"
   ]
  }
 ],
 "metadata": {
  "kaggle": {
   "accelerator": "nvidiaTeslaT4",
   "dataSources": [
    {
     "datasetId": 1357563,
     "sourceId": 2256095,
     "sourceType": "datasetVersion"
    },
    {
     "datasetId": 7763484,
     "sourceId": 12338519,
     "sourceType": "datasetVersion"
    },
    {
     "datasetId": 7801555,
     "sourceId": 12373067,
     "sourceType": "datasetVersion"
    },
    {
     "datasetId": 7801884,
     "sourceId": 12373562,
     "sourceType": "datasetVersion"
    }
   ],
   "isGpuEnabled": true,
   "isInternetEnabled": true,
   "language": "python",
   "sourceType": "notebook"
  },
  "kernelspec": {
   "display_name": "Python 3",
   "language": "python",
   "name": "python3"
  },
  "language_info": {
   "codemirror_mode": {
    "name": "ipython",
    "version": 3
   },
   "file_extension": ".py",
   "mimetype": "text/x-python",
   "name": "python",
   "nbconvert_exporter": "python",
   "pygments_lexer": "ipython3",
   "version": "3.11.11"
  },
  "papermill": {
   "default_parameters": {},
   "duration": 1641.938285,
   "end_time": "2025-07-06T08:54:35.889177",
   "environment_variables": {},
   "exception": null,
   "input_path": "__notebook__.ipynb",
   "output_path": "__notebook__.ipynb",
   "parameters": {},
   "start_time": "2025-07-06T08:27:13.950892",
   "version": "2.6.0"
  }
 },
 "nbformat": 4,
 "nbformat_minor": 5
}
