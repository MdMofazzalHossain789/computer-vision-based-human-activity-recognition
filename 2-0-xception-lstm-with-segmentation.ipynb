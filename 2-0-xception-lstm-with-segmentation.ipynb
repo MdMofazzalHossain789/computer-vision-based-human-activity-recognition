{
 "cells": [
  {
   "cell_type": "markdown",
   "id": "73822bc0",
   "metadata": {
    "papermill": {
     "duration": 0.011717,
     "end_time": "2025-07-06T08:58:13.793476",
     "exception": false,
     "start_time": "2025-07-06T08:58:13.781759",
     "status": "completed"
    },
    "tags": []
   },
   "source": [
    "# Initialization\n",
    "## Import Libraries"
   ]
  },
  {
   "cell_type": "code",
   "execution_count": 1,
   "id": "4f3180a1",
   "metadata": {
    "_cell_guid": "b1076dfc-b9ad-4769-8c92-a6c4dae69d19",
    "_uuid": "8f2839f25d086af736a60e9eeb907d3b93b6e0e5",
    "execution": {
     "iopub.execute_input": "2025-07-06T08:58:13.815140Z",
     "iopub.status.busy": "2025-07-06T08:58:13.814903Z",
     "iopub.status.idle": "2025-07-06T08:58:28.841225Z",
     "shell.execute_reply": "2025-07-06T08:58:28.840618Z"
    },
    "papermill": {
     "duration": 15.038523,
     "end_time": "2025-07-06T08:58:28.842611",
     "exception": false,
     "start_time": "2025-07-06T08:58:13.804088",
     "status": "completed"
    },
    "tags": []
   },
   "outputs": [
    {
     "name": "stderr",
     "output_type": "stream",
     "text": [
      "2025-07-06 08:58:15.328122: E external/local_xla/xla/stream_executor/cuda/cuda_fft.cc:477] Unable to register cuFFT factory: Attempting to register factory for plugin cuFFT when one has already been registered\n",
      "WARNING: All log messages before absl::InitializeLog() is called are written to STDERR\n",
      "E0000 00:00:1751792295.510393      19 cuda_dnn.cc:8310] Unable to register cuDNN factory: Attempting to register factory for plugin cuDNN when one has already been registered\n",
      "E0000 00:00:1751792295.565875      19 cuda_blas.cc:1418] Unable to register cuBLAS factory: Attempting to register factory for plugin cuBLAS when one has already been registered\n"
     ]
    }
   ],
   "source": [
    "# install librarires\n",
    "import os\n",
    "import tensorflow as tf\n",
    "import numpy as np\n",
    "import random"
   ]
  },
  {
   "cell_type": "markdown",
   "id": "c920e116",
   "metadata": {
    "papermill": {
     "duration": 0.009195,
     "end_time": "2025-07-06T08:58:28.862655",
     "exception": false,
     "start_time": "2025-07-06T08:58:28.853460",
     "status": "completed"
    },
    "tags": []
   },
   "source": [
    "## ℹ️ Set Global Constants"
   ]
  },
  {
   "cell_type": "code",
   "execution_count": 2,
   "id": "066d16a9",
   "metadata": {
    "execution": {
     "iopub.execute_input": "2025-07-06T08:58:28.882554Z",
     "iopub.status.busy": "2025-07-06T08:58:28.881878Z",
     "iopub.status.idle": "2025-07-06T08:58:28.897725Z",
     "shell.execute_reply": "2025-07-06T08:58:28.896946Z"
    },
    "papermill": {
     "duration": 0.026831,
     "end_time": "2025-07-06T08:58:28.898720",
     "exception": false,
     "start_time": "2025-07-06T08:58:28.871889",
     "status": "completed"
    },
    "tags": []
   },
   "outputs": [
    {
     "name": "stdout",
     "output_type": "stream",
     "text": [
      "Precis Har Rgb\n",
      "There are total 16 classes, selected 16 classes\n",
      "Setting 50/class to train the model.\n",
      "Image size 128x128 with 10 sequence length\n",
      "Dropout rate: 0.5\n",
      "Train-Test split ratio 80/20\n",
      "Validation data from Train set 20.0%\n"
     ]
    }
   ],
   "source": [
    "# global variables\n",
    "# set dataset directories\n",
    "\n",
    "\n",
    "DATASET_DIR = \"/kaggle/input/precis-har-rgb\"\n",
    "DATASET_NAME = DATASET_DIR.split(\"/\")[-1].replace(\"-\", \" \").title()\n",
    "\n",
    "print(DATASET_NAME)\n",
    "\n",
    "ALL_CLASS_NAMES = os.listdir(DATASET_DIR)\n",
    "\n",
    "# Global constant variables -> \n",
    "NO_OF_CLASSES = 16\n",
    "CLASSES_LIST = ALL_CLASS_NAMES[:NO_OF_CLASSES]\n",
    "\n",
    "# Model Configuration\n",
    "IMAGE_HEIGHT, IMAGE_WIDTH = 128, 128\n",
    "SEQUENCE_LENGTH = 10\n",
    "\n",
    "# set drop out rate\n",
    "DROPOUT_RATE = 0.5\n",
    "\n",
    "# set datas\n",
    "MAX_VIDEO_PER_CLASS = 50\n",
    "\n",
    "# split dataset\n",
    "TEST_SIZE = 0.20\n",
    "\n",
    "# model fit parameters\n",
    "EPOCHS = 30\n",
    "BATCH_SIZE = 32\n",
    "VALIDATION_SPLIT = 0.20\n",
    "\n",
    "# augmentation values\n",
    "NOISE_FACTOR = 0.02\n",
    "SHEAR_X= 1\n",
    "SHEAR_Y= 1\n",
    "\n",
    "# give a name of the model to save\n",
    "MODEL_NAME = \"Xception\"\n",
    "\n",
    "print(f\"There are total {len(ALL_CLASS_NAMES)} classes, selected {NO_OF_CLASSES} classes\")\n",
    "print(f\"Setting {MAX_VIDEO_PER_CLASS}/class to train the model.\")\n",
    "print(f\"Image size {IMAGE_HEIGHT}x{IMAGE_WIDTH} with {SEQUENCE_LENGTH} sequence length\")\n",
    "print(f\"Dropout rate: {DROPOUT_RATE}\")\n",
    "print(f\"Train-Test split ratio {int((1-TEST_SIZE)*100)}/{int(TEST_SIZE*100)}\")\n",
    "print(f\"Validation data from Train set {VALIDATION_SPLIT*100}%\")"
   ]
  },
  {
   "cell_type": "markdown",
   "id": "10fa1375",
   "metadata": {
    "papermill": {
     "duration": 0.009382,
     "end_time": "2025-07-06T08:58:28.917742",
     "exception": false,
     "start_time": "2025-07-06T08:58:28.908360",
     "status": "completed"
    },
    "tags": []
   },
   "source": [
    "## Set `Seed` Values"
   ]
  },
  {
   "cell_type": "code",
   "execution_count": 3,
   "id": "80bb0c62",
   "metadata": {
    "execution": {
     "iopub.execute_input": "2025-07-06T08:58:28.937176Z",
     "iopub.status.busy": "2025-07-06T08:58:28.936960Z",
     "iopub.status.idle": "2025-07-06T08:58:28.940197Z",
     "shell.execute_reply": "2025-07-06T08:58:28.939709Z"
    },
    "papermill": {
     "duration": 0.01415,
     "end_time": "2025-07-06T08:58:28.941240",
     "exception": false,
     "start_time": "2025-07-06T08:58:28.927090",
     "status": "completed"
    },
    "tags": []
   },
   "outputs": [],
   "source": [
    "# set seeed to get similar values\n",
    "seed_constant = 27\n",
    "np.random.seed(seed_constant)\n",
    "random.seed(seed_constant)\n",
    "tf.random.set_seed(seed_constant)"
   ]
  },
  {
   "cell_type": "markdown",
   "id": "4cc1864e",
   "metadata": {
    "papermill": {
     "duration": 0.009331,
     "end_time": "2025-07-06T08:58:28.960261",
     "exception": false,
     "start_time": "2025-07-06T08:58:28.950930",
     "status": "completed"
    },
    "tags": []
   },
   "source": [
    "# 📌 Function Definition\n",
    "## Resize and Frame Extraction"
   ]
  },
  {
   "cell_type": "code",
   "execution_count": 4,
   "id": "af275522",
   "metadata": {
    "execution": {
     "iopub.execute_input": "2025-07-06T08:58:28.980008Z",
     "iopub.status.busy": "2025-07-06T08:58:28.979829Z",
     "iopub.status.idle": "2025-07-06T08:58:28.988869Z",
     "shell.execute_reply": "2025-07-06T08:58:28.988345Z"
    },
    "papermill": {
     "duration": 0.020315,
     "end_time": "2025-07-06T08:58:28.989863",
     "exception": false,
     "start_time": "2025-07-06T08:58:28.969548",
     "status": "completed"
    },
    "tags": []
   },
   "outputs": [],
   "source": [
    "import cv2\n",
    "from concurrent.futures import ThreadPoolExecutor\n",
    "\n",
    "def resize_and_normalize_frame(frame, image_height, image_width):\n",
    "    try:\n",
    "        resized_frame = cv2.resize(frame, (image_width, image_height), interpolation=cv2.INTER_LINEAR)\n",
    "        normalized_frame = resized_frame / 255.0\n",
    "        return normalized_frame\n",
    "    except Exception as e:\n",
    "        print(f\"Error processing frame: {e}\")\n",
    "        return None\n",
    "\n",
    "def frames_extraction(video_path, \n",
    "                      sequence_length=SEQUENCE_LENGTH, \n",
    "                      image_height=IMAGE_HEIGHT, \n",
    "                      image_width=IMAGE_WIDTH):\n",
    "    # Declare a list to store video frames\n",
    "    frames_list = []\n",
    "\n",
    "    # Check if video file exists\n",
    "    if not os.path.exists(video_path):\n",
    "        print(f\"Error: Video file not found at {video_path}\")\n",
    "        return None\n",
    "\n",
    "    # Read the video file using VideoCapture with optimized settings\n",
    "    video_reader = cv2.VideoCapture(video_path, cv2.CAP_FFMPEG)\n",
    "\n",
    "    # Check if the video was opened successfully\n",
    "    if not video_reader.isOpened():\n",
    "        print(f\"Error: Could not open video file {video_path}\")\n",
    "        video_reader.release()\n",
    "        return None\n",
    "\n",
    "    # Get the total number of frames in the video\n",
    "    video_frames_count = int(video_reader.get(cv2.CAP_PROP_FRAME_COUNT))\n",
    "\n",
    "    # Ensure the video has enough frames\n",
    "    if video_frames_count < sequence_length:\n",
    "        print(f\"Warning: Video {video_path} has only {video_frames_count} frames, less than required {sequence_length}\")\n",
    "        video_reader.release()\n",
    "        return None\n",
    "\n",
    "    # Calculate the interval after which frames will be sampled\n",
    "    skip_frames_window = max(int(video_frames_count / sequence_length), 1)\n",
    "\n",
    "    # Pre-allocate frame indices to extract\n",
    "    frame_indices = [i * skip_frames_window for i in range(sequence_length)]\n",
    "\n",
    "    # Read and process frames in parallel\n",
    "    frames = []\n",
    "    for idx in frame_indices:\n",
    "        video_reader.set(cv2.CAP_PROP_POS_FRAMES, idx)\n",
    "        success, frame = video_reader.read()\n",
    "        if not success or frame is None:\n",
    "            print(f\"Warning: Failed to read frame at index {idx} from {video_path}\")\n",
    "            break\n",
    "        frame = cv2.cvtColor(frame, cv2.COLOR_BGR2RGB)\n",
    "        frames.append(frame)\n",
    "\n",
    "    # Release the VideoCapture object early\n",
    "    video_reader.release()\n",
    "\n",
    "    # Ensure the correct number of frames is read\n",
    "    if len(frames) != sequence_length:\n",
    "        print(f\"Warning: Read {len(frames)} frames instead of {sequence_length} from {video_path}\")\n",
    "        return None\n",
    "\n",
    "    # Process frames in parallel using ThreadPoolExecutor\n",
    "    with ThreadPoolExecutor() as executor:\n",
    "        processed_frames = list(executor.map(\n",
    "            lambda f: resize_and_normalize_frame(f, image_height, image_width), \n",
    "            frames\n",
    "        ))\n",
    "\n",
    "    # Check for any failed frame processing\n",
    "    if any(f is None for f in processed_frames):\n",
    "        print(f\"Warning: Some frames failed to process in {video_path}\")\n",
    "        return None\n",
    "\n",
    "    # Convert to NumPy array\n",
    "    frames_array = np.array(processed_frames, dtype=np.float32)\n",
    "\n",
    "    return frames_array"
   ]
  },
  {
   "cell_type": "code",
   "execution_count": 5,
   "id": "dc6509ef",
   "metadata": {
    "execution": {
     "iopub.execute_input": "2025-07-06T08:58:29.011223Z",
     "iopub.status.busy": "2025-07-06T08:58:29.010988Z",
     "iopub.status.idle": "2025-07-06T08:58:29.014042Z",
     "shell.execute_reply": "2025-07-06T08:58:29.013554Z"
    },
    "papermill": {
     "duration": 0.015369,
     "end_time": "2025-07-06T08:58:29.015021",
     "exception": false,
     "start_time": "2025-07-06T08:58:28.999652",
     "status": "completed"
    },
    "tags": []
   },
   "outputs": [],
   "source": [
    " # # Iterate through all video files\n",
    " #        for file_name in files_list:\n",
    " #            video_file_path = os.path.join(class_path, file_name)\n",
    "\n",
    " #            # Extract frames using the updated frames_extraction function\n",
    " #            frames = frames_extraction(video_file_path, sequence_length, image_height, image_width)\n",
    "\n",
    " #            # Skip videos where frame extraction failed\n",
    " #            if frames is None:\n",
    " #                print(f\"Skipping video {video_file_path} due to frame extraction failure\")\n",
    " #                continue\n",
    "\n",
    " #            # Append the data to respective lists\n",
    " #            features.append(frames)\n",
    " #            labels.append(class_index)"
   ]
  },
  {
   "cell_type": "markdown",
   "id": "052d0df8",
   "metadata": {
    "papermill": {
     "duration": 0.009458,
     "end_time": "2025-07-06T08:58:29.034031",
     "exception": false,
     "start_time": "2025-07-06T08:58:29.024573",
     "status": "completed"
    },
    "tags": []
   },
   "source": [
    "## Create Dataset"
   ]
  },
  {
   "cell_type": "code",
   "execution_count": 6,
   "id": "a560f7e6",
   "metadata": {
    "execution": {
     "iopub.execute_input": "2025-07-06T08:58:29.053597Z",
     "iopub.status.busy": "2025-07-06T08:58:29.053422Z",
     "iopub.status.idle": "2025-07-06T08:58:29.059102Z",
     "shell.execute_reply": "2025-07-06T08:58:29.058613Z"
    },
    "papermill": {
     "duration": 0.01676,
     "end_time": "2025-07-06T08:58:29.060089",
     "exception": false,
     "start_time": "2025-07-06T08:58:29.043329",
     "status": "completed"
    },
    "tags": []
   },
   "outputs": [],
   "source": [
    "# RUN create dataset function definition\n",
    "def create_dataset(dataset_dir,\n",
    "                   classes_list, \n",
    "                   sequence_length=SEQUENCE_LENGTH, \n",
    "                   image_height=IMAGE_HEIGHT, \n",
    "                   image_width=IMAGE_WIDTH, \n",
    "                   max_videos_per_class=None,\n",
    "                   augmentations=False\n",
    "                  ):\n",
    "    \n",
    "    # Initialize lists to store features, labels, and video file paths\n",
    "    videos = []\n",
    "    labels = []\n",
    "\n",
    "    # Check if dataset directory exists\n",
    "    if not os.path.exists(dataset_dir):\n",
    "        raise FileNotFoundError(f\"Dataset directory not found: {dataset_dir}\")\n",
    "\n",
    "    # Iterate through all classes in the classes list\n",
    "    for class_index, class_name in enumerate(classes_list):\n",
    "        class_path = os.path.join(dataset_dir, class_name)\n",
    "        \n",
    "        # Check if class directory exists\n",
    "        if not os.path.exists(class_path):\n",
    "            print(f\"Warning: Class directory not found: {class_path}\")\n",
    "            continue\n",
    "\n",
    "        print(f'Extracting Data of Class: {class_name}')\n",
    "\n",
    "        # Get the list of video files in the class directory\n",
    "        files_list = os.listdir(class_path)\n",
    "\n",
    "        # Limit the number of videos if specified\n",
    "        if max_videos_per_class is not None:\n",
    "            files_list = files_list[:max_videos_per_class]\n",
    "\n",
    "        # Iterate through all video files\n",
    "        for file_name in files_list:\n",
    "            video_file_path = os.path.join(class_path, file_name)\n",
    "\n",
    "            # Extract frames using the updated frames_extraction function\n",
    "            frames = frames_extraction(video_file_path, \n",
    "                                       sequence_length, \n",
    "                                       image_height, \n",
    "                                       image_width)\n",
    "\n",
    "            # Skip videos where frame extraction failed\n",
    "            if frames is None:\n",
    "                print(f\"Skipping video {video_file_path} due to frame extraction failure\")\n",
    "                continue\n",
    "\n",
    "            # Append the data to respective lists\n",
    "            videos.append(frames)\n",
    "            labels.append(class_index)\n",
    "\n",
    "    # Convert lists to numpy arrays\n",
    "    if not videos:\n",
    "        raise ValueError(\"No valid videos were processed. Check dataset or parameters.\")\n",
    "    videos = np.asarray(videos)\n",
    "    labels = np.array(labels)\n",
    "\n",
    "    print(f\"Dataset created with {len(videos)} videos\")\n",
    "    print(f\"Features shape: {videos.shape}\")\n",
    "    print(f\"Labels shape: {labels.shape}\")\n",
    "\n",
    "    return videos, labels"
   ]
  },
  {
   "cell_type": "markdown",
   "id": "64a01685",
   "metadata": {
    "papermill": {
     "duration": 0.009254,
     "end_time": "2025-07-06T08:58:29.078842",
     "exception": false,
     "start_time": "2025-07-06T08:58:29.069588",
     "status": "completed"
    },
    "tags": []
   },
   "source": [
    "## 🪄 Video Data Generator"
   ]
  },
  {
   "cell_type": "code",
   "execution_count": 7,
   "id": "a333ac42",
   "metadata": {
    "execution": {
     "iopub.execute_input": "2025-07-06T08:58:29.099413Z",
     "iopub.status.busy": "2025-07-06T08:58:29.099179Z",
     "iopub.status.idle": "2025-07-06T08:58:29.164666Z",
     "shell.execute_reply": "2025-07-06T08:58:29.163794Z"
    },
    "papermill": {
     "duration": 0.077133,
     "end_time": "2025-07-06T08:58:29.165960",
     "exception": false,
     "start_time": "2025-07-06T08:58:29.088827",
     "status": "completed"
    },
    "tags": []
   },
   "outputs": [],
   "source": [
    "from tensorflow.keras.utils import Sequence, to_categorical\n",
    "import tensorflow as tf\n",
    "import numpy as np\n",
    "import cv2\n",
    "\n",
    "\n",
    "\n",
    "\n",
    "class VideoDataGenerator(Sequence):\n",
    "    def __init__(self, videos, labels, batch_size, is_training=False):\n",
    "        self.videos = list(videos)  # List of video file paths\n",
    "        self.labels = list(labels)  # List or array of labels encoded\n",
    "        self.batch_size = batch_size\n",
    "        self.indices = np.arange(len(self.videos))  # For shuffling\n",
    "        self.is_training = is_training  # Flag to control whether augmentation is applied\n",
    "        self.temp_videos=[]\n",
    "        self.temp_labels=[]\n",
    "        \n",
    "        \n",
    "        print(f\"Total {len(videos)} videos and {len(labels)} classes\")\n",
    "\n",
    "    def __len__(self):\n",
    "        # Return the number of batches per epoch\n",
    "        return int(np.ceil(len(self.videos) / self.batch_size))\n",
    "\n",
    "    def __getitem__(self, idx):\n",
    "        # Get batch indices\n",
    "        batch_indices = self.indices[idx * self.batch_size:(idx + 1) * self.batch_size]\n",
    "        \n",
    "        # Handle case where batch_indices is empty\n",
    "        if len(batch_indices) == 0:\n",
    "            return np.array([], dtype=np.float32), np.array([], dtype=np.float32)\n",
    "        \n",
    "        # Initialize lists to store frames and labels\n",
    "        all_frames = []\n",
    "        all_labels = []\n",
    "        \n",
    "        # Process each video in the batch\n",
    "        for i, index in enumerate(batch_indices):\n",
    "            sequence = self.videos[index]\n",
    "            label = self.labels[index]\n",
    "            \n",
    "            # Load and process video\n",
    "            # sequence = frames_extraction(video_path)\n",
    "\n",
    "            # if sequence is not None:\n",
    "            #     # Apply augmentations: 1 original + 4 augmentations (horizontal flip, shear, rotation, noise)\n",
    "            #     augmented_sequences = [sequence]  # Add original sequence\n",
    "\n",
    "            #     if self.is_training:\n",
    "            #         # Apply augmentations\n",
    "            #         augmented_sequences.append(np.array(horizontal_flip(sequence)))  # Horizontal Flip\n",
    "            #         augmented_sequences.append(np.array(apply_shear_frames(sequence, shear_right=0)))  # Random Shear\n",
    "            #         augmented_sequences.append(np.array(apply_shear_frames(sequence, shear_right=1)))  # Random Rotation\n",
    "            #         augmented_sequences.append(np.array(noise_video(sequence)))  # Salt and Pepper Noise\n",
    "\n",
    "            #     # Add augmented sequences to the batch\n",
    "            #     all_frames.extend(augmented_sequences)\n",
    "            #     all_labels.extend([label] * len(augmented_sequences))  # Each augmentation has the same label\n",
    "\n",
    "            \n",
    "            # Append the sequence and label\n",
    "            all_frames.append(sequence)\n",
    "            all_labels.append(label)\n",
    "        \n",
    "        # Convert to numpy arrays\n",
    "        all_frames = np.array(all_frames, dtype=np.float32)\n",
    "        all_labels = np.array(all_labels)\n",
    "            \n",
    "        \n",
    "        return all_frames, all_labels\n",
    "    def add(self, new_videos, new_labels):\n",
    "        print(f\"Adding {len(new_videos)} videos with {len(new_labels)} classes.\")\n",
    "        self.temp_videos.extend(new_videos)\n",
    "        self.temp_labels.extend(new_labels)\n",
    "        print(f\"PENDING - Total {len(self.temp_videos)} videos and {len(self.temp_labels)} classes are waiting to be added...\")\n",
    "    \n",
    "    def confirm(self):\n",
    "        print(f\"Adding {len(self.temp_videos)} videos with {len(self.temp_labels)} classes.\")\n",
    "        self.videos.extend(self.temp_videos)\n",
    "        self.labels.extend(self.temp_labels)\n",
    "        print(f\"Successfully added - {len(self.temp_videos)} videos and {len(self.temp_labels)} classes.\")\n",
    "        self.temp_videos=[]\n",
    "        self.temp_labels=[]\n",
    "        self.indices = np.arange(len(self.videos))\n",
    "        print(f\"Now Total - {len(self.videos)} videos and {len(self.labels)} classes.\")\n",
    "        print(f\"PENDING for Augmentations - {len(self.temp_videos)} videos and {len(self.temp_labels)} classes.\")\n",
    "    \n",
    "    def on_epoch_end(self):\n",
    "        # Shuffle indices at the end of each epoch\n",
    "        np.random.shuffle(self.indices)\n",
    "\n",
    "    def as_dataset(self):\n",
    "        def generator():\n",
    "            for idx in range(len(self)):\n",
    "                frames, labels = self[idx]\n",
    "                # Skip empty batches\n",
    "                if frames.size == 0:\n",
    "                    continue\n",
    "                yield frames, labels\n",
    "        self.labels=np.array(self.labels)\n",
    "    \n",
    "        # Create a tf.data.Dataset\n",
    "        dataset = tf.data.Dataset.from_generator(\n",
    "            generator,\n",
    "            output_types=(tf.float32, tf.float32),\n",
    "            output_shapes=(\n",
    "                (None, SEQUENCE_LENGTH, IMAGE_HEIGHT, IMAGE_WIDTH, 3),\n",
    "                (None, NO_OF_CLASSES)\n",
    "            )\n",
    "        )\n",
    "        dataset = dataset.prefetch(tf.data.AUTOTUNE)\n",
    "        return dataset"
   ]
  },
  {
   "cell_type": "markdown",
   "id": "1a7c8fec",
   "metadata": {
    "papermill": {
     "duration": 0.053717,
     "end_time": "2025-07-06T08:58:29.230750",
     "exception": false,
     "start_time": "2025-07-06T08:58:29.177033",
     "status": "completed"
    },
    "tags": []
   },
   "source": [
    "## Debug and Helpers"
   ]
  },
  {
   "cell_type": "markdown",
   "id": "fea72438",
   "metadata": {
    "papermill": {
     "duration": 0.01037,
     "end_time": "2025-07-06T08:58:29.251726",
     "exception": false,
     "start_time": "2025-07-06T08:58:29.241356",
     "status": "completed"
    },
    "tags": []
   },
   "source": [
    "## 💫 Augmentation Helper function"
   ]
  },
  {
   "cell_type": "code",
   "execution_count": 8,
   "id": "ee9c15cf",
   "metadata": {
    "execution": {
     "iopub.execute_input": "2025-07-06T08:58:29.274460Z",
     "iopub.status.busy": "2025-07-06T08:58:29.273598Z",
     "iopub.status.idle": "2025-07-06T08:58:29.278557Z",
     "shell.execute_reply": "2025-07-06T08:58:29.277889Z"
    },
    "papermill": {
     "duration": 0.017409,
     "end_time": "2025-07-06T08:58:29.279823",
     "exception": false,
     "start_time": "2025-07-06T08:58:29.262414",
     "status": "completed"
    },
    "tags": []
   },
   "outputs": [],
   "source": [
    "def apply_augmentation(augmentation_function, generator, confirm=False, *args, **kwargs):\n",
    "    \n",
    "    for i in range(len(generator)):\n",
    "        batch_videos, batch_labels = generator[i]\n",
    "        augmented_videos=[]\n",
    "        for videos in batch_videos:\n",
    "            augmented_videos.append(augmentation_function(videos, *args, **kwargs))\n",
    "        generator.add(augmented_videos, batch_labels)\n",
    "    if confirm:\n",
    "        generator.confirm()"
   ]
  },
  {
   "cell_type": "markdown",
   "id": "7166f9e0",
   "metadata": {
    "papermill": {
     "duration": 0.009271,
     "end_time": "2025-07-06T08:58:29.298994",
     "exception": false,
     "start_time": "2025-07-06T08:58:29.289723",
     "status": "completed"
    },
    "tags": []
   },
   "source": [
    "### Show Frames"
   ]
  },
  {
   "cell_type": "code",
   "execution_count": 9,
   "id": "a9971249",
   "metadata": {
    "execution": {
     "iopub.execute_input": "2025-07-06T08:58:29.319248Z",
     "iopub.status.busy": "2025-07-06T08:58:29.318985Z",
     "iopub.status.idle": "2025-07-06T08:58:29.322533Z",
     "shell.execute_reply": "2025-07-06T08:58:29.322006Z"
    },
    "papermill": {
     "duration": 0.015134,
     "end_time": "2025-07-06T08:58:29.323661",
     "exception": false,
     "start_time": "2025-07-06T08:58:29.308527",
     "status": "completed"
    },
    "tags": []
   },
   "outputs": [],
   "source": [
    "# show frame def\n",
    "import matplotlib.pyplot as plt\n",
    "\n",
    "def show_frame(frame):\n",
    "    plt.figure(figsize=(3,3))\n",
    "    plt.imshow(frame)\n",
    "    plt.axis(\"off\")\n",
    "    plt.tight_layout()"
   ]
  },
  {
   "cell_type": "markdown",
   "id": "4ccfa846",
   "metadata": {
    "papermill": {
     "duration": 0.009426,
     "end_time": "2025-07-06T08:58:29.342723",
     "exception": false,
     "start_time": "2025-07-06T08:58:29.333297",
     "status": "completed"
    },
    "tags": []
   },
   "source": [
    "### Helper Function"
   ]
  },
  {
   "cell_type": "code",
   "execution_count": 10,
   "id": "ca5f7433",
   "metadata": {
    "execution": {
     "iopub.execute_input": "2025-07-06T08:58:29.362594Z",
     "iopub.status.busy": "2025-07-06T08:58:29.362373Z",
     "iopub.status.idle": "2025-07-06T08:58:29.366483Z",
     "shell.execute_reply": "2025-07-06T08:58:29.365965Z"
    },
    "papermill": {
     "duration": 0.015321,
     "end_time": "2025-07-06T08:58:29.367604",
     "exception": false,
     "start_time": "2025-07-06T08:58:29.352283",
     "status": "completed"
    },
    "tags": []
   },
   "outputs": [],
   "source": [
    "def show_frame_vs(frame1, frame2, title1=\"Frame 1\", title2=\"Frame 2\"):\n",
    "    plt.figure(figsize=(10, 5))\n",
    "\n",
    "    # First frame\n",
    "    plt.subplot(1, 2, 1)\n",
    "    plt.imshow(frame1)\n",
    "    plt.title(title1)\n",
    "    plt.axis('off')\n",
    "\n",
    "    # Second frame\n",
    "    plt.subplot(1, 2, 2)\n",
    "    plt.imshow(frame2)\n",
    "    plt.title(title2)\n",
    "    plt.axis('off')\n",
    "\n",
    "    plt.tight_layout()\n",
    "    plt.show()"
   ]
  },
  {
   "cell_type": "code",
   "execution_count": 11,
   "id": "d7397dad",
   "metadata": {
    "execution": {
     "iopub.execute_input": "2025-07-06T08:58:29.389835Z",
     "iopub.status.busy": "2025-07-06T08:58:29.389608Z",
     "iopub.status.idle": "2025-07-06T08:58:29.393170Z",
     "shell.execute_reply": "2025-07-06T08:58:29.392610Z"
    },
    "papermill": {
     "duration": 0.016606,
     "end_time": "2025-07-06T08:58:29.394388",
     "exception": false,
     "start_time": "2025-07-06T08:58:29.377782",
     "status": "completed"
    },
    "tags": []
   },
   "outputs": [],
   "source": [
    "# reusable video loop helper function\n",
    "def apply_function(function, videos, *arg, **kwargs):\n",
    "    new_videos=[]\n",
    "    \n",
    "    for video in videos:\n",
    "        new_videos.append(function(video, *arg, **kwargs))\n",
    "        \n",
    "    return new_videos"
   ]
  },
  {
   "cell_type": "code",
   "execution_count": 12,
   "id": "efc3ed41",
   "metadata": {
    "execution": {
     "iopub.execute_input": "2025-07-06T08:58:29.415111Z",
     "iopub.status.busy": "2025-07-06T08:58:29.414568Z",
     "iopub.status.idle": "2025-07-06T08:58:29.418808Z",
     "shell.execute_reply": "2025-07-06T08:58:29.418110Z"
    },
    "papermill": {
     "duration": 0.015389,
     "end_time": "2025-07-06T08:58:29.419852",
     "exception": false,
     "start_time": "2025-07-06T08:58:29.404463",
     "status": "completed"
    },
    "tags": []
   },
   "outputs": [],
   "source": [
    "# reusable video loop helper function\n",
    "def apply(function, videos, labels, *arg, **kwargs):\n",
    "    new_videos=[]\n",
    "    new_labels=[]\n",
    "    combined=zip(labels, videos)\n",
    "    \n",
    "    for label, video in combined:\n",
    "        new_videos.append(function(video, *arg, **kwargs))\n",
    "        new_labels.append(label)\n",
    "        \n",
    "    new_videos=np.asarray(new_videos)\n",
    "    new_labels=np.asarray(new_labels)\n",
    "    \n",
    "    return new_videos, new_labels"
   ]
  },
  {
   "cell_type": "markdown",
   "id": "537addb5",
   "metadata": {
    "papermill": {
     "duration": 0.009163,
     "end_time": "2025-07-06T08:58:29.438683",
     "exception": false,
     "start_time": "2025-07-06T08:58:29.429520",
     "status": "completed"
    },
    "tags": []
   },
   "source": [
    "## Salt and Pepper Noise "
   ]
  },
  {
   "cell_type": "code",
   "execution_count": 13,
   "id": "d3fe9548",
   "metadata": {
    "execution": {
     "iopub.execute_input": "2025-07-06T08:58:29.458309Z",
     "iopub.status.busy": "2025-07-06T08:58:29.458098Z",
     "iopub.status.idle": "2025-07-06T08:58:29.462159Z",
     "shell.execute_reply": "2025-07-06T08:58:29.461485Z"
    },
    "papermill": {
     "duration": 0.015106,
     "end_time": "2025-07-06T08:58:29.463398",
     "exception": false,
     "start_time": "2025-07-06T08:58:29.448292",
     "status": "completed"
    },
    "tags": []
   },
   "outputs": [],
   "source": [
    "# Noise function def\n",
    "\n",
    "def noise_video(video,noise_factor=NOISE_FACTOR):\n",
    "    noisy_video=[]\n",
    "    for frame in video:\n",
    "        # Generate random noise\n",
    "        noise = np.random.rand(*frame.shape)  # Generate random noise\n",
    "        salt_pepper_noise = np.random.choice([0, 1], size=frame.shape, p=[1-noise_factor, noise_factor])\n",
    "        noisy_frame = frame * (1 - salt_pepper_noise) + salt_pepper_noise * np.random.rand(*frame.shape)\n",
    "        noisy_video.append(noisy_frame)\n",
    "    return np.array(noisy_video)"
   ]
  },
  {
   "cell_type": "markdown",
   "id": "2c66d5de",
   "metadata": {
    "papermill": {
     "duration": 0.010481,
     "end_time": "2025-07-06T08:58:29.483240",
     "exception": false,
     "start_time": "2025-07-06T08:58:29.472759",
     "status": "completed"
    },
    "tags": []
   },
   "source": [
    "## Horizontal Flip"
   ]
  },
  {
   "cell_type": "code",
   "execution_count": 14,
   "id": "64accbbe",
   "metadata": {
    "execution": {
     "iopub.execute_input": "2025-07-06T08:58:29.504167Z",
     "iopub.status.busy": "2025-07-06T08:58:29.503966Z",
     "iopub.status.idle": "2025-07-06T08:58:29.507267Z",
     "shell.execute_reply": "2025-07-06T08:58:29.506619Z"
    },
    "papermill": {
     "duration": 0.014418,
     "end_time": "2025-07-06T08:58:29.508267",
     "exception": false,
     "start_time": "2025-07-06T08:58:29.493849",
     "status": "completed"
    },
    "tags": []
   },
   "outputs": [],
   "source": [
    "# horizontal flip function def\n",
    "# Testing Flip feautes[0] -> first video\n",
    "def horizontal_flip(video):\n",
    "    return [tf.image.flip_left_right(frame) for frame in video]"
   ]
  },
  {
   "cell_type": "markdown",
   "id": "324c35fc",
   "metadata": {
    "papermill": {
     "duration": 0.010103,
     "end_time": "2025-07-06T08:58:29.528115",
     "exception": false,
     "start_time": "2025-07-06T08:58:29.518012",
     "status": "completed"
    },
    "tags": []
   },
   "source": [
    "## Random Shear"
   ]
  },
  {
   "cell_type": "code",
   "execution_count": 15,
   "id": "df74dc06",
   "metadata": {
    "execution": {
     "iopub.execute_input": "2025-07-06T08:58:29.547508Z",
     "iopub.status.busy": "2025-07-06T08:58:29.547274Z",
     "iopub.status.idle": "2025-07-06T08:58:29.553262Z",
     "shell.execute_reply": "2025-07-06T08:58:29.552571Z"
    },
    "papermill": {
     "duration": 0.016955,
     "end_time": "2025-07-06T08:58:29.554411",
     "exception": false,
     "start_time": "2025-07-06T08:58:29.537456",
     "status": "completed"
    },
    "tags": []
   },
   "outputs": [],
   "source": [
    "# random shear function def\n",
    "import numpy as np\n",
    "import tensorflow as tf\n",
    "from scipy.ndimage import affine_transform\n",
    "\n",
    "def apply_shear_frames(frames, shear_right):\n",
    "    return [apply_shear(frame, shear_right) for frame in frames]\n",
    "\n",
    "def apply_shear(frame, shear_right=0):\n",
    "    frame_resized = tf.image.resize(frame, (IMAGE_HEIGHT, IMAGE_WIDTH)).numpy()\n",
    "    if shear_right:\n",
    "        shear_x = 0.09\n",
    "        shear_y = 0.1\n",
    "    else:\n",
    "        shear_x = -0.09\n",
    "        shear_y = 0.3\n",
    "    # Construct the affine matrix for scipy: inverse of the transformation matrix\n",
    "    # scipy applies the inverse transform matrix\n",
    "    shear_matrix = np.array([\n",
    "        [1, shear_x, 0],\n",
    "        [shear_y, 1, 0],\n",
    "        [0, 0, 1]\n",
    "    ], dtype=np.float32)\n",
    "\n",
    "    # Extract 2x2 part for affine_transform\n",
    "    matrix = shear_matrix[:2, :2]\n",
    "\n",
    "    # Offset (no translation)\n",
    "    offset = [0, 0]\n",
    "\n",
    "    # Apply affine transform on each channel separately\n",
    "    sheared = np.zeros_like(frame_resized)\n",
    "    for c in range(3):\n",
    "        sheared[..., c] = affine_transform(\n",
    "            frame_resized[..., c],\n",
    "            matrix=matrix,\n",
    "            offset=offset,\n",
    "            order=1,          # bilinear interpolation\n",
    "            mode='nearest'    # fill_mode\n",
    "        )\n",
    "    return sheared"
   ]
  },
  {
   "cell_type": "markdown",
   "id": "c6c95640",
   "metadata": {
    "papermill": {
     "duration": 0.010783,
     "end_time": "2025-07-06T08:58:29.576112",
     "exception": false,
     "start_time": "2025-07-06T08:58:29.565329",
     "status": "completed"
    },
    "tags": []
   },
   "source": [
    "# 📌 Model Related\n",
    "## 🗼 Model Architecture `create_model`"
   ]
  },
  {
   "cell_type": "code",
   "execution_count": 16,
   "id": "e9df9397",
   "metadata": {
    "execution": {
     "iopub.execute_input": "2025-07-06T08:58:29.597140Z",
     "iopub.status.busy": "2025-07-06T08:58:29.596934Z",
     "iopub.status.idle": "2025-07-06T08:58:29.609597Z",
     "shell.execute_reply": "2025-07-06T08:58:29.608923Z"
    },
    "papermill": {
     "duration": 0.023848,
     "end_time": "2025-07-06T08:58:29.610663",
     "exception": false,
     "start_time": "2025-07-06T08:58:29.586815",
     "status": "completed"
    },
    "tags": []
   },
   "outputs": [],
   "source": [
    "from tensorflow.keras.applications import Xception\n",
    "from tensorflow.keras.models import Sequential\n",
    "from tensorflow.keras.layers import GlobalAveragePooling2D, TimeDistributed, LSTM, Dropout, Dense\n",
    "from tensorflow.keras.regularizers import l2\n",
    "from tensorflow.keras.layers import BatchNormalization\n",
    "\n",
    "def create_xception_lstm_model(sequence_length, image_height, image_width, classes_list=None, dropout_rate=0.5):\n",
    "    if classes_list is None:\n",
    "        raise ValueError(\"classes_list must be provided to define the output layer size\")\n",
    "\n",
    "    try:\n",
    "        # Load Xception model with pre-trained ImageNet weights\n",
    "        print(\"Loading Xception base model...\")\n",
    "        xception = Xception(\n",
    "            weights='imagenet',\n",
    "            include_top=False,\n",
    "            input_shape=(image_height, image_width, 3),\n",
    "            name=\"Xception\"\n",
    "        )\n",
    "        # Freeze Xception layers\n",
    "        for layer in xception.layers[:-10]:  # Unfreeze last 10 layers\n",
    "            layer.trainable = False\n",
    "        for layer in xception.layers[-10:]:\n",
    "            layer.trainable = True\n",
    "\n",
    "        # Define the Sequential model\n",
    "        model = Sequential([\n",
    "            # InputLayer and TimeDistributed Xception\n",
    "            TimeDistributed(\n",
    "                xception,\n",
    "                input_shape=(sequence_length, image_height, image_width, 3),\n",
    "                name=\"time_distributed\"\n",
    "            ),\n",
    "            # TimeDistributed GlobalAveragePooling2D\n",
    "            TimeDistributed(GlobalAveragePooling2D(), name=\"time_distributed_1\"),\n",
    "            # LSTM layer with 128 units\n",
    "            LSTM(128, activation=\"tanh\", return_sequences=False, kernel_regularizer=l2(0.01), name=\"lstm\"),\n",
    "            \n",
    "            BatchNormalization(name=\"batch_normalization\"),\n",
    "            # Dropout after LSTM\n",
    "            Dropout(dropout_rate, name=\"dropout_lstm\"),\n",
    "            # Dense layer with 512 units\n",
    "            Dense(512, activation=\"relu\", kernel_regularizer=l2(0.01), name=\"dense\"),\n",
    "            # Dropout after Dense\n",
    "            Dropout(dropout_rate + 0.1, name=\"dropout_dense\"),\n",
    "            # Output Dense layer with softmax activation\n",
    "            Dense(len(classes_list), activation=\"softmax\", name=\"dense_1\")\n",
    "        ])\n",
    "        \n",
    "        # Print model summary\n",
    "        print(\"Model architecture created successfully!\")\n",
    "        model.summary()\n",
    "\n",
    "        return model\n",
    "\n",
    "    except Exception as e:\n",
    "        print(f\"Error creating model: {e}\")\n",
    "        return None"
   ]
  },
  {
   "cell_type": "code",
   "execution_count": 17,
   "id": "2e0599c7",
   "metadata": {
    "execution": {
     "iopub.execute_input": "2025-07-06T08:58:29.630498Z",
     "iopub.status.busy": "2025-07-06T08:58:29.630225Z",
     "iopub.status.idle": "2025-07-06T08:58:33.459552Z",
     "shell.execute_reply": "2025-07-06T08:58:33.458669Z"
    },
    "papermill": {
     "duration": 3.840548,
     "end_time": "2025-07-06T08:58:33.460730",
     "exception": false,
     "start_time": "2025-07-06T08:58:29.620182",
     "status": "completed"
    },
    "tags": []
   },
   "outputs": [
    {
     "name": "stdout",
     "output_type": "stream",
     "text": [
      "Pre-loading Xception weights...\n"
     ]
    },
    {
     "name": "stderr",
     "output_type": "stream",
     "text": [
      "I0000 00:00:1751792310.752859      19 gpu_device.cc:2022] Created device /job:localhost/replica:0/task:0/device:GPU:0 with 13942 MB memory:  -> device: 0, name: Tesla T4, pci bus id: 0000:00:04.0, compute capability: 7.5\n",
      "I0000 00:00:1751792310.753669      19 gpu_device.cc:2022] Created device /job:localhost/replica:0/task:0/device:GPU:1 with 13942 MB memory:  -> device: 1, name: Tesla T4, pci bus id: 0000:00:05.0, compute capability: 7.5\n"
     ]
    },
    {
     "name": "stdout",
     "output_type": "stream",
     "text": [
      "Downloading data from https://storage.googleapis.com/tensorflow/keras-applications/xception/xception_weights_tf_dim_ordering_tf_kernels_notop.h5\n",
      "\u001b[1m83683744/83683744\u001b[0m \u001b[32m━━━━━━━━━━━━━━━━━━━━\u001b[0m\u001b[37m\u001b[0m \u001b[1m0s\u001b[0m 0us/step\n",
      "Weights loaded successfully!\n"
     ]
    }
   ],
   "source": [
    "# donwload model weights\n",
    "from tensorflow.keras.applications import Xception\n",
    "print(\"Pre-loading Xception weights...\")\n",
    "base_model = Xception(weights='imagenet', include_top=False, input_shape=(IMAGE_HEIGHT, IMAGE_WIDTH, 3))\n",
    "print(\"Weights loaded successfully!\")"
   ]
  },
  {
   "cell_type": "markdown",
   "id": "59d4f934",
   "metadata": {
    "papermill": {
     "duration": 0.010252,
     "end_time": "2025-07-06T08:58:33.481768",
     "exception": false,
     "start_time": "2025-07-06T08:58:33.471516",
     "status": "completed"
    },
    "tags": []
   },
   "source": [
    "# 📌 Execution\n",
    "## Creating Dataset\n",
    "The following functions are executed\n",
    "- `frame extraction`\n",
    "- `resize`\n",
    "\n",
    "which returns:\n",
    "- `features` - `np.array` of all the videos\n",
    "- `labels` - `np.array` of all the class labels"
   ]
  },
  {
   "cell_type": "code",
   "execution_count": 18,
   "id": "c2a89d0e",
   "metadata": {
    "execution": {
     "iopub.execute_input": "2025-07-06T08:58:33.502693Z",
     "iopub.status.busy": "2025-07-06T08:58:33.502462Z",
     "iopub.status.idle": "2025-07-06T09:17:09.076878Z",
     "shell.execute_reply": "2025-07-06T09:17:09.076093Z"
    },
    "papermill": {
     "duration": 1115.596768,
     "end_time": "2025-07-06T09:17:09.088574",
     "exception": false,
     "start_time": "2025-07-06T08:58:33.491806",
     "status": "completed"
    },
    "tags": []
   },
   "outputs": [
    {
     "name": "stdout",
     "output_type": "stream",
     "text": [
      "Extracting Data of Class: write\n",
      "Extracting Data of Class: sit still\n",
      "Extracting Data of Class: sit down\n",
      "Extracting Data of Class: move hands in front of the body\n",
      "Extracting Data of Class: raise one leg up\n",
      "Extracting Data of Class: drink from a bottle\n",
      "Extracting Data of Class: stand up\n",
      "Extracting Data of Class: read\n",
      "Extracting Data of Class: throw paper\n",
      "Extracting Data of Class: walk\n",
      "Extracting Data of Class: drink from a mug\n",
      "Extracting Data of Class: fall from bed\n",
      "Extracting Data of Class: faint\n",
      "Extracting Data of Class: raise one hand up\n",
      "Extracting Data of Class: cheer up\n",
      "Extracting Data of Class: move hands close to the body\n",
      "Dataset created with 800 videos\n",
      "Features shape: (800, 10, 128, 128, 3)\n",
      "Labels shape: (800,)\n"
     ]
    },
    {
     "data": {
      "text/plain": [
       "((800, 10, 128, 128, 3), (800,))"
      ]
     },
     "execution_count": 18,
     "metadata": {},
     "output_type": "execute_result"
    }
   ],
   "source": [
    "# RUN Create the dataset with explicit parameters\n",
    "try:\n",
    "    videos, labels = create_dataset(\n",
    "        dataset_dir=DATASET_DIR,\n",
    "        classes_list=CLASSES_LIST,\n",
    "        sequence_length=SEQUENCE_LENGTH,\n",
    "        image_height=IMAGE_HEIGHT,\n",
    "        image_width=IMAGE_WIDTH,\n",
    "        # Limit to 10 videos per class to manage memory\n",
    "        augmentations=True,\n",
    "        max_videos_per_class=MAX_VIDEO_PER_CLASS\n",
    "    )\n",
    "except FileNotFoundError as e:\n",
    "    print(f\"Error: {e}\")\n",
    "except ValueError as e:\n",
    "    print(f\"Error: {e}\")\n",
    "except Exception as e:\n",
    "    print(f\"Unexpected error: {e}\")\n",
    "\n",
    "videos.shape, labels.shape"
   ]
  },
  {
   "cell_type": "code",
   "execution_count": 19,
   "id": "01427bcd",
   "metadata": {
    "execution": {
     "iopub.execute_input": "2025-07-06T09:17:09.110665Z",
     "iopub.status.busy": "2025-07-06T09:17:09.110439Z",
     "iopub.status.idle": "2025-07-06T09:17:09.114791Z",
     "shell.execute_reply": "2025-07-06T09:17:09.114065Z"
    },
    "papermill": {
     "duration": 0.016464,
     "end_time": "2025-07-06T09:17:09.115809",
     "exception": false,
     "start_time": "2025-07-06T09:17:09.099345",
     "status": "completed"
    },
    "tags": []
   },
   "outputs": [
    {
     "name": "stdout",
     "output_type": "stream",
     "text": [
      "Total 800 videos and 800 classes\n"
     ]
    }
   ],
   "source": [
    "video_generator = VideoDataGenerator(\n",
    "    videos=videos,\n",
    "    labels=labels,\n",
    "    batch_size=BATCH_SIZE\n",
    ")"
   ]
  },
  {
   "cell_type": "code",
   "execution_count": 20,
   "id": "b4d8bec8",
   "metadata": {
    "execution": {
     "iopub.execute_input": "2025-07-06T09:17:09.138020Z",
     "iopub.status.busy": "2025-07-06T09:17:09.137820Z",
     "iopub.status.idle": "2025-07-06T09:17:09.159568Z",
     "shell.execute_reply": "2025-07-06T09:17:09.158988Z"
    },
    "papermill": {
     "duration": 0.034176,
     "end_time": "2025-07-06T09:17:09.160705",
     "exception": false,
     "start_time": "2025-07-06T09:17:09.126529",
     "status": "completed"
    },
    "tags": []
   },
   "outputs": [
    {
     "data": {
      "text/plain": [
       "((32, 10, 128, 128, 3), (32,))"
      ]
     },
     "execution_count": 20,
     "metadata": {},
     "output_type": "execute_result"
    }
   ],
   "source": [
    "videos, labels = video_generator[3]\n",
    "\n",
    "videos.shape, labels.shape"
   ]
  },
  {
   "cell_type": "code",
   "execution_count": 21,
   "id": "ef9ae835",
   "metadata": {
    "execution": {
     "iopub.execute_input": "2025-07-06T09:17:09.183445Z",
     "iopub.status.busy": "2025-07-06T09:17:09.183185Z",
     "iopub.status.idle": "2025-07-06T09:17:09.187110Z",
     "shell.execute_reply": "2025-07-06T09:17:09.186607Z"
    },
    "papermill": {
     "duration": 0.016308,
     "end_time": "2025-07-06T09:17:09.188066",
     "exception": false,
     "start_time": "2025-07-06T09:17:09.171758",
     "status": "completed"
    },
    "tags": []
   },
   "outputs": [
    {
     "data": {
      "text/plain": [
       "800"
      ]
     },
     "execution_count": 21,
     "metadata": {},
     "output_type": "execute_result"
    }
   ],
   "source": [
    "len(video_generator.videos) "
   ]
  },
  {
   "cell_type": "code",
   "execution_count": 22,
   "id": "dedeae90",
   "metadata": {
    "execution": {
     "iopub.execute_input": "2025-07-06T09:17:09.210562Z",
     "iopub.status.busy": "2025-07-06T09:17:09.209871Z",
     "iopub.status.idle": "2025-07-06T09:17:09.214227Z",
     "shell.execute_reply": "2025-07-06T09:17:09.213539Z"
    },
    "papermill": {
     "duration": 0.016535,
     "end_time": "2025-07-06T09:17:09.215347",
     "exception": false,
     "start_time": "2025-07-06T09:17:09.198812",
     "status": "completed"
    },
    "tags": []
   },
   "outputs": [
    {
     "data": {
      "text/plain": [
       "25"
      ]
     },
     "execution_count": 22,
     "metadata": {},
     "output_type": "execute_result"
    }
   ],
   "source": [
    "len(video_generator)"
   ]
  },
  {
   "cell_type": "markdown",
   "id": "b6adff7c",
   "metadata": {
    "papermill": {
     "duration": 0.010585,
     "end_time": "2025-07-06T09:17:09.236665",
     "exception": false,
     "start_time": "2025-07-06T09:17:09.226080",
     "status": "completed"
    },
    "tags": []
   },
   "source": [
    "## Apply ***horizontal flip*** (Augmentation)"
   ]
  },
  {
   "cell_type": "code",
   "execution_count": 23,
   "id": "f5ae6ebd",
   "metadata": {
    "execution": {
     "iopub.execute_input": "2025-07-06T09:17:09.259048Z",
     "iopub.status.busy": "2025-07-06T09:17:09.258590Z",
     "iopub.status.idle": "2025-07-06T09:17:14.231067Z",
     "shell.execute_reply": "2025-07-06T09:17:14.230430Z"
    },
    "papermill": {
     "duration": 4.98487,
     "end_time": "2025-07-06T09:17:14.232284",
     "exception": false,
     "start_time": "2025-07-06T09:17:09.247414",
     "status": "completed"
    },
    "tags": []
   },
   "outputs": [
    {
     "name": "stdout",
     "output_type": "stream",
     "text": [
      "Adding 32 videos with 32 classes.\n",
      "PENDING - Total 32 videos and 32 classes are waiting to be added...\n",
      "Adding 32 videos with 32 classes.\n",
      "PENDING - Total 64 videos and 64 classes are waiting to be added...\n",
      "Adding 32 videos with 32 classes.\n",
      "PENDING - Total 96 videos and 96 classes are waiting to be added...\n",
      "Adding 32 videos with 32 classes.\n",
      "PENDING - Total 128 videos and 128 classes are waiting to be added...\n",
      "Adding 32 videos with 32 classes.\n",
      "PENDING - Total 160 videos and 160 classes are waiting to be added...\n",
      "Adding 32 videos with 32 classes.\n",
      "PENDING - Total 192 videos and 192 classes are waiting to be added...\n",
      "Adding 32 videos with 32 classes.\n",
      "PENDING - Total 224 videos and 224 classes are waiting to be added...\n",
      "Adding 32 videos with 32 classes.\n",
      "PENDING - Total 256 videos and 256 classes are waiting to be added...\n",
      "Adding 32 videos with 32 classes.\n",
      "PENDING - Total 288 videos and 288 classes are waiting to be added...\n",
      "Adding 32 videos with 32 classes.\n",
      "PENDING - Total 320 videos and 320 classes are waiting to be added...\n",
      "Adding 32 videos with 32 classes.\n",
      "PENDING - Total 352 videos and 352 classes are waiting to be added...\n",
      "Adding 32 videos with 32 classes.\n",
      "PENDING - Total 384 videos and 384 classes are waiting to be added...\n",
      "Adding 32 videos with 32 classes.\n",
      "PENDING - Total 416 videos and 416 classes are waiting to be added...\n",
      "Adding 32 videos with 32 classes.\n",
      "PENDING - Total 448 videos and 448 classes are waiting to be added...\n",
      "Adding 32 videos with 32 classes.\n",
      "PENDING - Total 480 videos and 480 classes are waiting to be added...\n",
      "Adding 32 videos with 32 classes.\n",
      "PENDING - Total 512 videos and 512 classes are waiting to be added...\n",
      "Adding 32 videos with 32 classes.\n",
      "PENDING - Total 544 videos and 544 classes are waiting to be added...\n",
      "Adding 32 videos with 32 classes.\n",
      "PENDING - Total 576 videos and 576 classes are waiting to be added...\n",
      "Adding 32 videos with 32 classes.\n",
      "PENDING - Total 608 videos and 608 classes are waiting to be added...\n",
      "Adding 32 videos with 32 classes.\n",
      "PENDING - Total 640 videos and 640 classes are waiting to be added...\n",
      "Adding 32 videos with 32 classes.\n",
      "PENDING - Total 672 videos and 672 classes are waiting to be added...\n",
      "Adding 32 videos with 32 classes.\n",
      "PENDING - Total 704 videos and 704 classes are waiting to be added...\n",
      "Adding 32 videos with 32 classes.\n",
      "PENDING - Total 736 videos and 736 classes are waiting to be added...\n",
      "Adding 32 videos with 32 classes.\n",
      "PENDING - Total 768 videos and 768 classes are waiting to be added...\n",
      "Adding 32 videos with 32 classes.\n",
      "PENDING - Total 800 videos and 800 classes are waiting to be added...\n"
     ]
    }
   ],
   "source": [
    "apply_augmentation(horizontal_flip, video_generator)"
   ]
  },
  {
   "cell_type": "code",
   "execution_count": 24,
   "id": "af42931b",
   "metadata": {
    "execution": {
     "iopub.execute_input": "2025-07-06T09:17:14.258336Z",
     "iopub.status.busy": "2025-07-06T09:17:14.257808Z",
     "iopub.status.idle": "2025-07-06T09:17:14.261818Z",
     "shell.execute_reply": "2025-07-06T09:17:14.261252Z"
    },
    "papermill": {
     "duration": 0.018218,
     "end_time": "2025-07-06T09:17:14.262872",
     "exception": false,
     "start_time": "2025-07-06T09:17:14.244654",
     "status": "completed"
    },
    "tags": []
   },
   "outputs": [
    {
     "name": "stdout",
     "output_type": "stream",
     "text": [
      "Checking Total Videos and Class Count: 800, 800\n",
      "PENDING Total Videos and Class Count: 800, 800\n"
     ]
    }
   ],
   "source": [
    "print(f\"Checking Total Videos and Class Count: {len(video_generator.videos)}, {len(video_generator.labels)}\")\n",
    "print(f\"PENDING Total Videos and Class Count: {len(video_generator.temp_videos)}, {len(video_generator.temp_labels)}\")"
   ]
  },
  {
   "cell_type": "markdown",
   "id": "df95c9bd",
   "metadata": {
    "papermill": {
     "duration": 0.01134,
     "end_time": "2025-07-06T09:17:14.286087",
     "exception": false,
     "start_time": "2025-07-06T09:17:14.274747",
     "status": "completed"
    },
    "tags": []
   },
   "source": [
    "## Apply ***Noise*** (Augmentation)"
   ]
  },
  {
   "cell_type": "code",
   "execution_count": 25,
   "id": "7bf339eb",
   "metadata": {
    "execution": {
     "iopub.execute_input": "2025-07-06T09:17:14.310263Z",
     "iopub.status.busy": "2025-07-06T09:17:14.310049Z",
     "iopub.status.idle": "2025-07-06T09:17:33.149555Z",
     "shell.execute_reply": "2025-07-06T09:17:33.148777Z"
    },
    "papermill": {
     "duration": 18.853045,
     "end_time": "2025-07-06T09:17:33.150791",
     "exception": false,
     "start_time": "2025-07-06T09:17:14.297746",
     "status": "completed"
    },
    "tags": []
   },
   "outputs": [
    {
     "name": "stdout",
     "output_type": "stream",
     "text": [
      "Adding 32 videos with 32 classes.\n",
      "PENDING - Total 832 videos and 832 classes are waiting to be added...\n",
      "Adding 32 videos with 32 classes.\n",
      "PENDING - Total 864 videos and 864 classes are waiting to be added...\n",
      "Adding 32 videos with 32 classes.\n",
      "PENDING - Total 896 videos and 896 classes are waiting to be added...\n",
      "Adding 32 videos with 32 classes.\n",
      "PENDING - Total 928 videos and 928 classes are waiting to be added...\n",
      "Adding 32 videos with 32 classes.\n",
      "PENDING - Total 960 videos and 960 classes are waiting to be added...\n",
      "Adding 32 videos with 32 classes.\n",
      "PENDING - Total 992 videos and 992 classes are waiting to be added...\n",
      "Adding 32 videos with 32 classes.\n",
      "PENDING - Total 1024 videos and 1024 classes are waiting to be added...\n",
      "Adding 32 videos with 32 classes.\n",
      "PENDING - Total 1056 videos and 1056 classes are waiting to be added...\n",
      "Adding 32 videos with 32 classes.\n",
      "PENDING - Total 1088 videos and 1088 classes are waiting to be added...\n",
      "Adding 32 videos with 32 classes.\n",
      "PENDING - Total 1120 videos and 1120 classes are waiting to be added...\n",
      "Adding 32 videos with 32 classes.\n",
      "PENDING - Total 1152 videos and 1152 classes are waiting to be added...\n",
      "Adding 32 videos with 32 classes.\n",
      "PENDING - Total 1184 videos and 1184 classes are waiting to be added...\n",
      "Adding 32 videos with 32 classes.\n",
      "PENDING - Total 1216 videos and 1216 classes are waiting to be added...\n",
      "Adding 32 videos with 32 classes.\n",
      "PENDING - Total 1248 videos and 1248 classes are waiting to be added...\n",
      "Adding 32 videos with 32 classes.\n",
      "PENDING - Total 1280 videos and 1280 classes are waiting to be added...\n",
      "Adding 32 videos with 32 classes.\n",
      "PENDING - Total 1312 videos and 1312 classes are waiting to be added...\n",
      "Adding 32 videos with 32 classes.\n",
      "PENDING - Total 1344 videos and 1344 classes are waiting to be added...\n",
      "Adding 32 videos with 32 classes.\n",
      "PENDING - Total 1376 videos and 1376 classes are waiting to be added...\n",
      "Adding 32 videos with 32 classes.\n",
      "PENDING - Total 1408 videos and 1408 classes are waiting to be added...\n",
      "Adding 32 videos with 32 classes.\n",
      "PENDING - Total 1440 videos and 1440 classes are waiting to be added...\n",
      "Adding 32 videos with 32 classes.\n",
      "PENDING - Total 1472 videos and 1472 classes are waiting to be added...\n",
      "Adding 32 videos with 32 classes.\n",
      "PENDING - Total 1504 videos and 1504 classes are waiting to be added...\n",
      "Adding 32 videos with 32 classes.\n",
      "PENDING - Total 1536 videos and 1536 classes are waiting to be added...\n",
      "Adding 32 videos with 32 classes.\n",
      "PENDING - Total 1568 videos and 1568 classes are waiting to be added...\n",
      "Adding 32 videos with 32 classes.\n",
      "PENDING - Total 1600 videos and 1600 classes are waiting to be added...\n"
     ]
    }
   ],
   "source": [
    "apply_augmentation(noise_video, video_generator)"
   ]
  },
  {
   "cell_type": "code",
   "execution_count": 26,
   "id": "b8b3e595",
   "metadata": {
    "execution": {
     "iopub.execute_input": "2025-07-06T09:17:33.178009Z",
     "iopub.status.busy": "2025-07-06T09:17:33.177792Z",
     "iopub.status.idle": "2025-07-06T09:17:33.181781Z",
     "shell.execute_reply": "2025-07-06T09:17:33.181248Z"
    },
    "papermill": {
     "duration": 0.018682,
     "end_time": "2025-07-06T09:17:33.182734",
     "exception": false,
     "start_time": "2025-07-06T09:17:33.164052",
     "status": "completed"
    },
    "tags": []
   },
   "outputs": [
    {
     "name": "stdout",
     "output_type": "stream",
     "text": [
      "Checking Total Videos and Class Count: 800, 800\n",
      "PENDING Total Videos and Class Count: 1600, 1600\n"
     ]
    }
   ],
   "source": [
    "print(f\"Checking Total Videos and Class Count: {len(video_generator.videos)}, {len(video_generator.labels)}\")\n",
    "print(f\"PENDING Total Videos and Class Count: {len(video_generator.temp_videos)}, {len(video_generator.temp_labels)}\")"
   ]
  },
  {
   "cell_type": "markdown",
   "id": "fa3bfc3b",
   "metadata": {
    "papermill": {
     "duration": 0.012298,
     "end_time": "2025-07-06T09:17:33.207653",
     "exception": false,
     "start_time": "2025-07-06T09:17:33.195355",
     "status": "completed"
    },
    "tags": []
   },
   "source": [
    "## Apply ***Random Shear x2*** (Augmentation)"
   ]
  },
  {
   "cell_type": "code",
   "execution_count": 27,
   "id": "1b2c346d",
   "metadata": {
    "execution": {
     "iopub.execute_input": "2025-07-06T09:17:33.233537Z",
     "iopub.status.busy": "2025-07-06T09:17:33.233319Z",
     "iopub.status.idle": "2025-07-06T09:18:36.102806Z",
     "shell.execute_reply": "2025-07-06T09:18:36.101716Z"
    },
    "papermill": {
     "duration": 62.884263,
     "end_time": "2025-07-06T09:18:36.104511",
     "exception": false,
     "start_time": "2025-07-06T09:17:33.220248",
     "status": "completed"
    },
    "tags": []
   },
   "outputs": [
    {
     "name": "stdout",
     "output_type": "stream",
     "text": [
      "Adding 32 videos with 32 classes.\n",
      "PENDING - Total 1632 videos and 1632 classes are waiting to be added...\n",
      "Adding 32 videos with 32 classes.\n",
      "PENDING - Total 1664 videos and 1664 classes are waiting to be added...\n",
      "Adding 32 videos with 32 classes.\n",
      "PENDING - Total 1696 videos and 1696 classes are waiting to be added...\n",
      "Adding 32 videos with 32 classes.\n",
      "PENDING - Total 1728 videos and 1728 classes are waiting to be added...\n",
      "Adding 32 videos with 32 classes.\n",
      "PENDING - Total 1760 videos and 1760 classes are waiting to be added...\n",
      "Adding 32 videos with 32 classes.\n",
      "PENDING - Total 1792 videos and 1792 classes are waiting to be added...\n",
      "Adding 32 videos with 32 classes.\n",
      "PENDING - Total 1824 videos and 1824 classes are waiting to be added...\n",
      "Adding 32 videos with 32 classes.\n",
      "PENDING - Total 1856 videos and 1856 classes are waiting to be added...\n",
      "Adding 32 videos with 32 classes.\n",
      "PENDING - Total 1888 videos and 1888 classes are waiting to be added...\n",
      "Adding 32 videos with 32 classes.\n",
      "PENDING - Total 1920 videos and 1920 classes are waiting to be added...\n",
      "Adding 32 videos with 32 classes.\n",
      "PENDING - Total 1952 videos and 1952 classes are waiting to be added...\n",
      "Adding 32 videos with 32 classes.\n",
      "PENDING - Total 1984 videos and 1984 classes are waiting to be added...\n",
      "Adding 32 videos with 32 classes.\n",
      "PENDING - Total 2016 videos and 2016 classes are waiting to be added...\n",
      "Adding 32 videos with 32 classes.\n",
      "PENDING - Total 2048 videos and 2048 classes are waiting to be added...\n",
      "Adding 32 videos with 32 classes.\n",
      "PENDING - Total 2080 videos and 2080 classes are waiting to be added...\n",
      "Adding 32 videos with 32 classes.\n",
      "PENDING - Total 2112 videos and 2112 classes are waiting to be added...\n",
      "Adding 32 videos with 32 classes.\n",
      "PENDING - Total 2144 videos and 2144 classes are waiting to be added...\n",
      "Adding 32 videos with 32 classes.\n",
      "PENDING - Total 2176 videos and 2176 classes are waiting to be added...\n",
      "Adding 32 videos with 32 classes.\n",
      "PENDING - Total 2208 videos and 2208 classes are waiting to be added...\n",
      "Adding 32 videos with 32 classes.\n",
      "PENDING - Total 2240 videos and 2240 classes are waiting to be added...\n",
      "Adding 32 videos with 32 classes.\n",
      "PENDING - Total 2272 videos and 2272 classes are waiting to be added...\n",
      "Adding 32 videos with 32 classes.\n",
      "PENDING - Total 2304 videos and 2304 classes are waiting to be added...\n",
      "Adding 32 videos with 32 classes.\n",
      "PENDING - Total 2336 videos and 2336 classes are waiting to be added...\n",
      "Adding 32 videos with 32 classes.\n",
      "PENDING - Total 2368 videos and 2368 classes are waiting to be added...\n",
      "Adding 32 videos with 32 classes.\n",
      "PENDING - Total 2400 videos and 2400 classes are waiting to be added...\n",
      "Adding 32 videos with 32 classes.\n",
      "PENDING - Total 2432 videos and 2432 classes are waiting to be added...\n",
      "Adding 32 videos with 32 classes.\n",
      "PENDING - Total 2464 videos and 2464 classes are waiting to be added...\n",
      "Adding 32 videos with 32 classes.\n",
      "PENDING - Total 2496 videos and 2496 classes are waiting to be added...\n",
      "Adding 32 videos with 32 classes.\n",
      "PENDING - Total 2528 videos and 2528 classes are waiting to be added...\n",
      "Adding 32 videos with 32 classes.\n",
      "PENDING - Total 2560 videos and 2560 classes are waiting to be added...\n",
      "Adding 32 videos with 32 classes.\n",
      "PENDING - Total 2592 videos and 2592 classes are waiting to be added...\n",
      "Adding 32 videos with 32 classes.\n",
      "PENDING - Total 2624 videos and 2624 classes are waiting to be added...\n",
      "Adding 32 videos with 32 classes.\n",
      "PENDING - Total 2656 videos and 2656 classes are waiting to be added...\n",
      "Adding 32 videos with 32 classes.\n",
      "PENDING - Total 2688 videos and 2688 classes are waiting to be added...\n",
      "Adding 32 videos with 32 classes.\n",
      "PENDING - Total 2720 videos and 2720 classes are waiting to be added...\n",
      "Adding 32 videos with 32 classes.\n",
      "PENDING - Total 2752 videos and 2752 classes are waiting to be added...\n",
      "Adding 32 videos with 32 classes.\n",
      "PENDING - Total 2784 videos and 2784 classes are waiting to be added...\n",
      "Adding 32 videos with 32 classes.\n",
      "PENDING - Total 2816 videos and 2816 classes are waiting to be added...\n",
      "Adding 32 videos with 32 classes.\n",
      "PENDING - Total 2848 videos and 2848 classes are waiting to be added...\n",
      "Adding 32 videos with 32 classes.\n",
      "PENDING - Total 2880 videos and 2880 classes are waiting to be added...\n",
      "Adding 32 videos with 32 classes.\n",
      "PENDING - Total 2912 videos and 2912 classes are waiting to be added...\n",
      "Adding 32 videos with 32 classes.\n",
      "PENDING - Total 2944 videos and 2944 classes are waiting to be added...\n",
      "Adding 32 videos with 32 classes.\n",
      "PENDING - Total 2976 videos and 2976 classes are waiting to be added...\n",
      "Adding 32 videos with 32 classes.\n",
      "PENDING - Total 3008 videos and 3008 classes are waiting to be added...\n",
      "Adding 32 videos with 32 classes.\n",
      "PENDING - Total 3040 videos and 3040 classes are waiting to be added...\n",
      "Adding 32 videos with 32 classes.\n",
      "PENDING - Total 3072 videos and 3072 classes are waiting to be added...\n",
      "Adding 32 videos with 32 classes.\n",
      "PENDING - Total 3104 videos and 3104 classes are waiting to be added...\n",
      "Adding 32 videos with 32 classes.\n",
      "PENDING - Total 3136 videos and 3136 classes are waiting to be added...\n",
      "Adding 32 videos with 32 classes.\n",
      "PENDING - Total 3168 videos and 3168 classes are waiting to be added...\n",
      "Adding 32 videos with 32 classes.\n",
      "PENDING - Total 3200 videos and 3200 classes are waiting to be added...\n"
     ]
    }
   ],
   "source": [
    "apply_augmentation(apply_shear_frames, video_generator, shear_right=0)\n",
    "apply_augmentation(apply_shear_frames, video_generator, shear_right=1)"
   ]
  },
  {
   "cell_type": "code",
   "execution_count": 28,
   "id": "9f7767f4",
   "metadata": {
    "execution": {
     "iopub.execute_input": "2025-07-06T09:18:36.152024Z",
     "iopub.status.busy": "2025-07-06T09:18:36.151689Z",
     "iopub.status.idle": "2025-07-06T09:18:36.156388Z",
     "shell.execute_reply": "2025-07-06T09:18:36.155734Z"
    },
    "papermill": {
     "duration": 0.027259,
     "end_time": "2025-07-06T09:18:36.157615",
     "exception": false,
     "start_time": "2025-07-06T09:18:36.130356",
     "status": "completed"
    },
    "tags": []
   },
   "outputs": [
    {
     "name": "stdout",
     "output_type": "stream",
     "text": [
      "Checking Total Videos and Class Count: 800, 800\n",
      "PENDING Total Videos and Class Count: 3200, 3200\n"
     ]
    }
   ],
   "source": [
    "print(f\"Checking Total Videos and Class Count: {len(video_generator.videos)}, {len(video_generator.labels)}\")\n",
    "print(f\"PENDING Total Videos and Class Count: {len(video_generator.temp_videos)}, {len(video_generator.temp_labels)}\")"
   ]
  },
  {
   "cell_type": "code",
   "execution_count": 29,
   "id": "04a056fe",
   "metadata": {
    "execution": {
     "iopub.execute_input": "2025-07-06T09:18:36.187837Z",
     "iopub.status.busy": "2025-07-06T09:18:36.187450Z",
     "iopub.status.idle": "2025-07-06T09:18:36.191183Z",
     "shell.execute_reply": "2025-07-06T09:18:36.190516Z"
    },
    "papermill": {
     "duration": 0.019784,
     "end_time": "2025-07-06T09:18:36.192235",
     "exception": false,
     "start_time": "2025-07-06T09:18:36.172451",
     "status": "completed"
    },
    "tags": []
   },
   "outputs": [
    {
     "name": "stdout",
     "output_type": "stream",
     "text": [
      "Adding 3200 videos with 3200 classes.\n",
      "Successfully added - 3200 videos and 3200 classes.\n",
      "Now Total - 4000 videos and 4000 classes.\n",
      "PENDING for Augmentations - 0 videos and 0 classes.\n"
     ]
    }
   ],
   "source": [
    "# confirm changes to generator\n",
    "video_generator.confirm()"
   ]
  },
  {
   "cell_type": "code",
   "execution_count": 30,
   "id": "7b9df73d",
   "metadata": {
    "execution": {
     "iopub.execute_input": "2025-07-06T09:18:36.222095Z",
     "iopub.status.busy": "2025-07-06T09:18:36.221541Z",
     "iopub.status.idle": "2025-07-06T09:18:36.225331Z",
     "shell.execute_reply": "2025-07-06T09:18:36.224639Z"
    },
    "papermill": {
     "duration": 0.019601,
     "end_time": "2025-07-06T09:18:36.226372",
     "exception": false,
     "start_time": "2025-07-06T09:18:36.206771",
     "status": "completed"
    },
    "tags": []
   },
   "outputs": [
    {
     "name": "stdout",
     "output_type": "stream",
     "text": [
      "Checking Video Generator Total Videos and Class Count: 4000, 4000\n"
     ]
    }
   ],
   "source": [
    "print(f\"Checking Video Generator Total Videos and Class Count: {len(video_generator.videos)}, {len(video_generator.labels)}\")"
   ]
  },
  {
   "cell_type": "markdown",
   "id": "ea3e8fbe",
   "metadata": {
    "papermill": {
     "duration": 0.014286,
     "end_time": "2025-07-06T09:18:36.255286",
     "exception": false,
     "start_time": "2025-07-06T09:18:36.241000",
     "status": "completed"
    },
    "tags": []
   },
   "source": [
    "## Cheking (Output)"
   ]
  },
  {
   "cell_type": "code",
   "execution_count": 31,
   "id": "015e6ec0",
   "metadata": {
    "execution": {
     "iopub.execute_input": "2025-07-06T09:18:36.285029Z",
     "iopub.status.busy": "2025-07-06T09:18:36.284831Z",
     "iopub.status.idle": "2025-07-06T09:18:36.569791Z",
     "shell.execute_reply": "2025-07-06T09:18:36.569165Z"
    },
    "papermill": {
     "duration": 0.302597,
     "end_time": "2025-07-06T09:18:36.572467",
     "exception": false,
     "start_time": "2025-07-06T09:18:36.269870",
     "status": "completed"
    },
    "tags": []
   },
   "outputs": [
    {
     "name": "stdout",
     "output_type": "stream",
     "text": [
      "(32, 10, 128, 128, 3) (32,)\n"
     ]
    },
    {
     "data": {
      "image/png": "[encoded data removed]",
      "text/plain": [
       "<Figure size 1000x500 with 2 Axes>"
      ]
     },
     "metadata": {},
     "output_type": "display_data"
    },
    {
     "name": "stdout",
     "output_type": "stream",
     "text": [
      "Might be two different action, but to check the flipping focus on the door behind.\n"
     ]
    }
   ],
   "source": [
    "# check horizontal flips\n",
    "videos, labels = video_generator[7]\n",
    "videos1, labels1 = video_generator[1]\n",
    "\n",
    "print(videos.shape, labels.shape)\n",
    "\n",
    "show_frame_vs(videos[0,0],videos1[1,0], title1=\"Flipped Frame 1\", title2=\"Non Flipped Frame 1\")\n",
    "print(\"Might be two different action, but to check the flipping focus on the door behind.\")"
   ]
  },
  {
   "cell_type": "markdown",
   "id": "fc5e5a64",
   "metadata": {
    "papermill": {
     "duration": 0.016583,
     "end_time": "2025-07-06T09:18:36.606752",
     "exception": false,
     "start_time": "2025-07-06T09:18:36.590169",
     "status": "completed"
    },
    "tags": []
   },
   "source": [
    "# 🧪 Test Augmentation (Output)\n",
    "## 🖼️ Horizontal Flip Output"
   ]
  },
  {
   "cell_type": "code",
   "execution_count": 32,
   "id": "9b0f3014",
   "metadata": {
    "execution": {
     "iopub.execute_input": "2025-07-06T09:18:36.640973Z",
     "iopub.status.busy": "2025-07-06T09:18:36.640756Z",
     "iopub.status.idle": "2025-07-06T09:18:36.643957Z",
     "shell.execute_reply": "2025-07-06T09:18:36.643250Z"
    },
    "papermill": {
     "duration": 0.021474,
     "end_time": "2025-07-06T09:18:36.644990",
     "exception": false,
     "start_time": "2025-07-06T09:18:36.623516",
     "status": "completed"
    },
    "tags": []
   },
   "outputs": [],
   "source": [
    "# flipped_video_1 = horizontal_flip(features[0])\n",
    "\n",
    "# flipped_video_1=np.asarray(flipped_video_1)\n",
    "\n",
    "# show_frame(flipped_video_1[0])\n",
    "# flipped_video_1.shape"
   ]
  },
  {
   "cell_type": "markdown",
   "id": "f7ef0a4f",
   "metadata": {
    "papermill": {
     "duration": 0.016864,
     "end_time": "2025-07-06T09:18:36.678818",
     "exception": false,
     "start_time": "2025-07-06T09:18:36.661954",
     "status": "completed"
    },
    "tags": []
   },
   "source": [
    "## 🖼️ Salt and Pepper Noise Output"
   ]
  },
  {
   "cell_type": "code",
   "execution_count": 33,
   "id": "f4da309c",
   "metadata": {
    "execution": {
     "iopub.execute_input": "2025-07-06T09:18:36.713943Z",
     "iopub.status.busy": "2025-07-06T09:18:36.713716Z",
     "iopub.status.idle": "2025-07-06T09:18:36.717060Z",
     "shell.execute_reply": "2025-07-06T09:18:36.716394Z"
    },
    "papermill": {
     "duration": 0.022039,
     "end_time": "2025-07-06T09:18:36.718192",
     "exception": false,
     "start_time": "2025-07-06T09:18:36.696153",
     "status": "completed"
    },
    "tags": []
   },
   "outputs": [],
   "source": [
    "# noised_video = noise_video(features[0])\n",
    "\n",
    "# print(noised_video.shape)\n",
    "# show_frame(noised_video[0])"
   ]
  },
  {
   "cell_type": "markdown",
   "id": "7a6bcc33",
   "metadata": {
    "papermill": {
     "duration": 0.016799,
     "end_time": "2025-07-06T09:18:36.752536",
     "exception": false,
     "start_time": "2025-07-06T09:18:36.735737",
     "status": "completed"
    },
    "tags": []
   },
   "source": [
    "## 🖼️ Random Shear Output"
   ]
  },
  {
   "cell_type": "code",
   "execution_count": 34,
   "id": "94661daf",
   "metadata": {
    "execution": {
     "iopub.execute_input": "2025-07-06T09:18:36.787181Z",
     "iopub.status.busy": "2025-07-06T09:18:36.786983Z",
     "iopub.status.idle": "2025-07-06T09:18:36.790183Z",
     "shell.execute_reply": "2025-07-06T09:18:36.789524Z"
    },
    "papermill": {
     "duration": 0.021656,
     "end_time": "2025-07-06T09:18:36.791195",
     "exception": false,
     "start_time": "2025-07-06T09:18:36.769539",
     "status": "completed"
    },
    "tags": []
   },
   "outputs": [],
   "source": [
    "# print(features.shape)\n",
    "\n",
    "# sheared_1 = apply_shear_frames(features[0], shear_right=0)\n",
    "# sheared_2 = apply_shear_frames(features[0], shear_right=1)\n",
    "\n",
    "# sheared_1 = np.asarray(sheared_1)\n",
    "# sheared_2 = np.asarray(sheared_2)\n",
    "\n",
    "# print(sheared_1.shape)\n",
    "# show_frame(sheared_1[0])\n",
    "# show_frame(sheared_2[0])"
   ]
  },
  {
   "cell_type": "markdown",
   "id": "c4c55405",
   "metadata": {
    "papermill": {
     "duration": 0.016561,
     "end_time": "2025-07-06T09:18:36.825371",
     "exception": false,
     "start_time": "2025-07-06T09:18:36.808810",
     "status": "completed"
    },
    "tags": []
   },
   "source": [
    "# 📌 Preparing Data for Training"
   ]
  },
  {
   "cell_type": "code",
   "execution_count": 35,
   "id": "0943a5e3",
   "metadata": {
    "execution": {
     "iopub.execute_input": "2025-07-06T09:18:36.860536Z",
     "iopub.status.busy": "2025-07-06T09:18:36.860078Z",
     "iopub.status.idle": "2025-07-06T09:18:37.298024Z",
     "shell.execute_reply": "2025-07-06T09:18:37.297252Z"
    },
    "papermill": {
     "duration": 0.457221,
     "end_time": "2025-07-06T09:18:37.299420",
     "exception": false,
     "start_time": "2025-07-06T09:18:36.842199",
     "status": "completed"
    },
    "tags": []
   },
   "outputs": [],
   "source": [
    "# Clear previous session to free memory\n",
    "import gc\n",
    "\n",
    "gc.collect()\n",
    "tf.keras.backend.clear_session()"
   ]
  },
  {
   "cell_type": "markdown",
   "id": "8c0735cf",
   "metadata": {
    "papermill": {
     "duration": 0.016978,
     "end_time": "2025-07-06T09:18:37.334455",
     "exception": false,
     "start_time": "2025-07-06T09:18:37.317477",
     "status": "completed"
    },
    "tags": []
   },
   "source": [
    "## Splitting data for ***Trainig*** and ***Testing***"
   ]
  },
  {
   "cell_type": "code",
   "execution_count": 36,
   "id": "4b965b8d",
   "metadata": {
    "execution": {
     "iopub.execute_input": "2025-07-06T09:18:37.368967Z",
     "iopub.status.busy": "2025-07-06T09:18:37.368732Z",
     "iopub.status.idle": "2025-07-06T09:18:42.020503Z",
     "shell.execute_reply": "2025-07-06T09:18:42.019817Z"
    },
    "papermill": {
     "duration": 4.670452,
     "end_time": "2025-07-06T09:18:42.021705",
     "exception": false,
     "start_time": "2025-07-06T09:18:37.351253",
     "status": "completed"
    },
    "tags": []
   },
   "outputs": [
    {
     "data": {
      "text/plain": [
       "((4000, 10, 128, 128, 3), (4000,))"
      ]
     },
     "execution_count": 36,
     "metadata": {},
     "output_type": "execute_result"
    }
   ],
   "source": [
    "videos = video_generator.videos\n",
    "labels = video_generator.labels\n",
    "\n",
    "videos = np.array(videos, dtype='float32')\n",
    "labels = np.array(labels)\n",
    "\n",
    "videos.shape, labels.shape"
   ]
  },
  {
   "cell_type": "code",
   "execution_count": 37,
   "id": "04cd88a1",
   "metadata": {
    "execution": {
     "iopub.execute_input": "2025-07-06T09:18:42.057788Z",
     "iopub.status.busy": "2025-07-06T09:18:42.057563Z",
     "iopub.status.idle": "2025-07-06T09:18:42.062325Z",
     "shell.execute_reply": "2025-07-06T09:18:42.061745Z"
    },
    "papermill": {
     "duration": 0.023649,
     "end_time": "2025-07-06T09:18:42.063374",
     "exception": false,
     "start_time": "2025-07-06T09:18:42.039725",
     "status": "completed"
    },
    "tags": []
   },
   "outputs": [
    {
     "data": {
      "text/plain": [
       "(4000, 16)"
      ]
     },
     "execution_count": 37,
     "metadata": {},
     "output_type": "execute_result"
    }
   ],
   "source": [
    "from tensorflow.keras.utils import to_categorical\n",
    "\n",
    "one_hot_encoded_labels = to_categorical(labels)\n",
    "\n",
    "one_hot_encoded_labels.shape"
   ]
  },
  {
   "cell_type": "code",
   "execution_count": 38,
   "id": "0c3fd7c4",
   "metadata": {
    "execution": {
     "iopub.execute_input": "2025-07-06T09:18:42.098912Z",
     "iopub.status.busy": "2025-07-06T09:18:42.098716Z",
     "iopub.status.idle": "2025-07-06T09:18:42.332258Z",
     "shell.execute_reply": "2025-07-06T09:18:42.331651Z"
    },
    "papermill": {
     "duration": 0.252617,
     "end_time": "2025-07-06T09:18:42.333468",
     "exception": false,
     "start_time": "2025-07-06T09:18:42.080851",
     "status": "completed"
    },
    "tags": []
   },
   "outputs": [
    {
     "data": {
      "text/plain": [
       "0"
      ]
     },
     "execution_count": 38,
     "metadata": {},
     "output_type": "execute_result"
    }
   ],
   "source": [
    "gc.collect()"
   ]
  },
  {
   "cell_type": "code",
   "execution_count": 39,
   "id": "db58603f",
   "metadata": {
    "execution": {
     "iopub.execute_input": "2025-07-06T09:18:42.370278Z",
     "iopub.status.busy": "2025-07-06T09:18:42.370001Z",
     "iopub.status.idle": "2025-07-06T09:18:47.815846Z",
     "shell.execute_reply": "2025-07-06T09:18:47.815195Z"
    },
    "papermill": {
     "duration": 5.465572,
     "end_time": "2025-07-06T09:18:47.817019",
     "exception": false,
     "start_time": "2025-07-06T09:18:42.351447",
     "status": "completed"
    },
    "tags": []
   },
   "outputs": [
    {
     "data": {
      "text/plain": [
       "((3200, 10, 128, 128, 3), (3200, 16), (800, 10, 128, 128, 3), (800, 16))"
      ]
     },
     "execution_count": 39,
     "metadata": {},
     "output_type": "execute_result"
    }
   ],
   "source": [
    "# RUN Split the Data into Train ( 75% ) and Test Set ( 25% ).\n",
    "from sklearn.model_selection import train_test_split\n",
    "features_train, features_test, labels_train, labels_test = train_test_split(videos,\n",
    "                                                                            one_hot_encoded_labels,\n",
    "                                                                            test_size = TEST_SIZE,\n",
    "                                                                            shuffle = True,\n",
    "                                                                            random_state = seed_constant)\n",
    "\n",
    "features_train.shape, labels_train.shape, features_test.shape, labels_test.shape"
   ]
  },
  {
   "cell_type": "markdown",
   "id": "acf2530c",
   "metadata": {
    "papermill": {
     "duration": 0.018696,
     "end_time": "2025-07-06T09:18:47.853596",
     "exception": false,
     "start_time": "2025-07-06T09:18:47.834900",
     "status": "completed"
    },
    "tags": []
   },
   "source": [
    "## Splitting data for ***Training Set*** and ***Validation Set***"
   ]
  },
  {
   "cell_type": "code",
   "execution_count": 40,
   "id": "fbd4afdb",
   "metadata": {
    "execution": {
     "iopub.execute_input": "2025-07-06T09:18:47.888717Z",
     "iopub.status.busy": "2025-07-06T09:18:47.888525Z",
     "iopub.status.idle": "2025-07-06T09:18:47.894077Z",
     "shell.execute_reply": "2025-07-06T09:18:47.893594Z"
    },
    "papermill": {
     "duration": 0.024275,
     "end_time": "2025-07-06T09:18:47.895071",
     "exception": false,
     "start_time": "2025-07-06T09:18:47.870796",
     "status": "completed"
    },
    "tags": []
   },
   "outputs": [
    {
     "data": {
      "text/plain": [
       "((2560, 10, 128, 128, 3), (2560, 16), (640, 10, 128, 128, 3), (640, 16))"
      ]
     },
     "execution_count": 40,
     "metadata": {},
     "output_type": "execute_result"
    }
   ],
   "source": [
    "# Assuming features_train and labels_train are defined\n",
    "train_set = 1-VALIDATION_SPLIT\n",
    "\n",
    "train_video_frames, val_video_frames = features_train[:int(train_set * len(features_train))], features_train[int(train_set * len(features_train)):]\n",
    "train_labels, val_labels = labels_train[:int(train_set * len(labels_train))], labels_train[int(train_set * len(labels_train)):]\n",
    "\n",
    "train_video_frames.shape, train_labels.shape, val_video_frames.shape, val_labels.shape"
   ]
  },
  {
   "cell_type": "markdown",
   "id": "44c53521",
   "metadata": {
    "papermill": {
     "duration": 0.018096,
     "end_time": "2025-07-06T09:18:47.930766",
     "exception": false,
     "start_time": "2025-07-06T09:18:47.912670",
     "status": "completed"
    },
    "tags": []
   },
   "source": [
    "## Use Generator `Video Data Generator`"
   ]
  },
  {
   "cell_type": "code",
   "execution_count": 41,
   "id": "91457eee",
   "metadata": {
    "execution": {
     "iopub.execute_input": "2025-07-06T09:18:47.967006Z",
     "iopub.status.busy": "2025-07-06T09:18:47.966805Z",
     "iopub.status.idle": "2025-07-06T09:18:47.974182Z",
     "shell.execute_reply": "2025-07-06T09:18:47.973665Z"
    },
    "papermill": {
     "duration": 0.026688,
     "end_time": "2025-07-06T09:18:47.975260",
     "exception": false,
     "start_time": "2025-07-06T09:18:47.948572",
     "status": "completed"
    },
    "tags": []
   },
   "outputs": [
    {
     "name": "stdout",
     "output_type": "stream",
     "text": [
      "Total 2560 videos and 2560 classes\n",
      "Total 640 videos and 640 classes\n"
     ]
    },
    {
     "data": {
      "text/plain": [
       "(80, 20)"
      ]
     },
     "execution_count": 41,
     "metadata": {},
     "output_type": "execute_result"
    }
   ],
   "source": [
    "# Create the training and validation generators\n",
    "train_gen = VideoDataGenerator(\n",
    "    videos=train_video_frames, \n",
    "    labels=train_labels, \n",
    "    batch_size=BATCH_SIZE,\n",
    ")\n",
    "\n",
    "val_gen = VideoDataGenerator(\n",
    "    videos=val_video_frames, \n",
    "    labels=val_labels, \n",
    "    batch_size=BATCH_SIZE,\n",
    ")\n",
    "\n",
    "len(train_gen), len(val_gen)"
   ]
  },
  {
   "cell_type": "markdown",
   "id": "7ce61dab",
   "metadata": {
    "papermill": {
     "duration": 0.017475,
     "end_time": "2025-07-06T09:18:48.011372",
     "exception": false,
     "start_time": "2025-07-06T09:18:47.993897",
     "status": "completed"
    },
    "tags": []
   },
   "source": [
    "## Inspect ***Generator*** Data on Epochs"
   ]
  },
  {
   "cell_type": "code",
   "execution_count": 42,
   "id": "d984c68e",
   "metadata": {
    "execution": {
     "iopub.execute_input": "2025-07-06T09:18:48.047448Z",
     "iopub.status.busy": "2025-07-06T09:18:48.047193Z",
     "iopub.status.idle": "2025-07-06T09:18:48.109964Z",
     "shell.execute_reply": "2025-07-06T09:18:48.109145Z"
    },
    "papermill": {
     "duration": 0.081938,
     "end_time": "2025-07-06T09:18:48.111232",
     "exception": false,
     "start_time": "2025-07-06T09:18:48.029294",
     "status": "completed"
    },
    "tags": []
   },
   "outputs": [
    {
     "name": "stdout",
     "output_type": "stream",
     "text": [
      "[   0    1    2 ... 2557 2558 2559]\n",
      "[ 958 1051 1047 ... 2126  604  885]\n"
     ]
    },
    {
     "data": {
      "text/plain": [
       "(32, (32, 10, 128, 128, 3), (32, 16))"
      ]
     },
     "execution_count": 42,
     "metadata": {},
     "output_type": "execute_result"
    }
   ],
   "source": [
    "features, labels = train_gen[1]\n",
    "\n",
    "print(train_gen.indices)\n",
    "\n",
    "train_gen.on_epoch_end()\n",
    "\n",
    "print(train_gen.indices)\n",
    "\n",
    "BATCH_SIZE, features.shape, labels.shape"
   ]
  },
  {
   "cell_type": "markdown",
   "id": "5a22f53e",
   "metadata": {
    "papermill": {
     "duration": 0.017483,
     "end_time": "2025-07-06T09:18:48.148335",
     "exception": false,
     "start_time": "2025-07-06T09:18:48.130852",
     "status": "completed"
    },
    "tags": []
   },
   "source": [
    "## Compute Class Weight"
   ]
  },
  {
   "cell_type": "code",
   "execution_count": 43,
   "id": "7c35ad20",
   "metadata": {
    "execution": {
     "iopub.execute_input": "2025-07-06T09:18:48.183662Z",
     "iopub.status.busy": "2025-07-06T09:18:48.183452Z",
     "iopub.status.idle": "2025-07-06T09:18:48.190037Z",
     "shell.execute_reply": "2025-07-06T09:18:48.189324Z"
    },
    "papermill": {
     "duration": 0.025638,
     "end_time": "2025-07-06T09:18:48.191231",
     "exception": false,
     "start_time": "2025-07-06T09:18:48.165593",
     "status": "completed"
    },
    "tags": []
   },
   "outputs": [
    {
     "name": "stdout",
     "output_type": "stream",
     "text": [
      "Class weights: {0: 1.0, 1: 1.0, 2: 1.0, 3: 1.0, 4: 1.0, 5: 1.0, 6: 1.0, 7: 1.0, 8: 1.0, 9: 1.0, 10: 1.0, 11: 1.0, 12: 1.0, 13: 1.0, 14: 1.0, 15: 1.0}\n"
     ]
    }
   ],
   "source": [
    "from sklearn.utils.class_weight import compute_class_weight\n",
    "import numpy as np\n",
    "\n",
    "# Assuming y_int are integer labels (not one-hot)\n",
    "y_int = np.argmax(one_hot_encoded_labels, axis=1)  # or just integer labels if you have them\n",
    "\n",
    "classes = np.arange(NO_OF_CLASSES)  # e.g. np.arange(16)\n",
    "class_weights_values = compute_class_weight(class_weight='balanced', classes=classes, y=y_int)\n",
    "\n",
    "class_weights = dict(zip(classes, class_weights_values))\n",
    "\n",
    "print(\"Class weights:\", class_weights)\n"
   ]
  },
  {
   "cell_type": "code",
   "execution_count": 44,
   "id": "f2033b66",
   "metadata": {
    "execution": {
     "iopub.execute_input": "2025-07-06T09:18:48.227286Z",
     "iopub.status.busy": "2025-07-06T09:18:48.227053Z",
     "iopub.status.idle": "2025-07-06T09:18:48.474764Z",
     "shell.execute_reply": "2025-07-06T09:18:48.473992Z"
    },
    "papermill": {
     "duration": 0.266834,
     "end_time": "2025-07-06T09:18:48.475964",
     "exception": false,
     "start_time": "2025-07-06T09:18:48.209130",
     "status": "completed"
    },
    "tags": []
   },
   "outputs": [],
   "source": [
    "gc.collect()\n",
    "del videos, one_hot_encoded_labels, labels_train\n",
    "del features_train, val_labels, train_labels\n",
    "del val_video_frames, train_video_frames"
   ]
  },
  {
   "cell_type": "markdown",
   "id": "9fc9cd26",
   "metadata": {
    "papermill": {
     "duration": 0.017644,
     "end_time": "2025-07-06T09:18:48.512233",
     "exception": false,
     "start_time": "2025-07-06T09:18:48.494589",
     "status": "completed"
    },
    "tags": []
   },
   "source": [
    "# ✨ Model Execution\n",
    "## Creating Model"
   ]
  },
  {
   "cell_type": "code",
   "execution_count": 45,
   "id": "0312d2c7",
   "metadata": {
    "execution": {
     "iopub.execute_input": "2025-07-06T09:18:48.549519Z",
     "iopub.status.busy": "2025-07-06T09:18:48.548778Z",
     "iopub.status.idle": "2025-07-06T09:18:49.849249Z",
     "shell.execute_reply": "2025-07-06T09:18:49.848613Z"
    },
    "papermill": {
     "duration": 1.320195,
     "end_time": "2025-07-06T09:18:49.850233",
     "exception": false,
     "start_time": "2025-07-06T09:18:48.530038",
     "status": "completed"
    },
    "tags": []
   },
   "outputs": [
    {
     "name": "stdout",
     "output_type": "stream",
     "text": [
      "Loading Xception base model...\n",
      "Model architecture created successfully!\n"
     ]
    },
    {
     "name": "stderr",
     "output_type": "stream",
     "text": [
      "/usr/local/lib/python3.11/dist-packages/keras/src/layers/core/wrapper.py:27: UserWarning: Do not pass an `input_shape`/`input_dim` argument to a layer. When using Sequential models, prefer using an `Input(shape)` object as the first layer in the model instead.\n",
      "  super().__init__(**kwargs)\n"
     ]
    },
    {
     "data": {
      "text/html": [
       "<pre style=\"white-space:pre;overflow-x:auto;line-height:normal;font-family:Menlo,'DejaVu Sans Mono',consolas,'Courier New',monospace\"><span style=\"font-weight: bold\">Model: \"sequential\"</span>\n",
       "</pre>\n"
      ],
      "text/plain": [
       "\u001b[1mModel: \"sequential\"\u001b[0m\n"
      ]
     },
     "metadata": {},
     "output_type": "display_data"
    },
    {
     "data": {
      "text/html": [
       "<pre style=\"white-space:pre;overflow-x:auto;line-height:normal;font-family:Menlo,'DejaVu Sans Mono',consolas,'Courier New',monospace\">┏━━━━━━━━━━━━━━━━━━━━━━━━━━━━━━━━━━━━━━┳━━━━━━━━━━━━━━━━━━━━━━━━━━━━━┳━━━━━━━━━━━━━━━━━┓\n",
       "┃<span style=\"font-weight: bold\"> Layer (type)                         </span>┃<span style=\"font-weight: bold\"> Output Shape                </span>┃<span style=\"font-weight: bold\">         Param # </span>┃\n",
       "┡━━━━━━━━━━━━━━━━━━━━━━━━━━━━━━━━━━━━━━╇━━━━━━━━━━━━━━━━━━━━━━━━━━━━━╇━━━━━━━━━━━━━━━━━┩\n",
       "│ time_distributed (<span style=\"color: #0087ff; text-decoration-color: #0087ff\">TimeDistributed</span>)   │ (<span style=\"color: #00d7ff; text-decoration-color: #00d7ff\">None</span>, <span style=\"color: #00af00; text-decoration-color: #00af00\">10</span>, <span style=\"color: #00af00; text-decoration-color: #00af00\">4</span>, <span style=\"color: #00af00; text-decoration-color: #00af00\">4</span>, <span style=\"color: #00af00; text-decoration-color: #00af00\">2048</span>)      │      <span style=\"color: #00af00; text-decoration-color: #00af00\">20,861,480</span> │\n",
       "├──────────────────────────────────────┼─────────────────────────────┼─────────────────┤\n",
       "│ time_distributed_1 (<span style=\"color: #0087ff; text-decoration-color: #0087ff\">TimeDistributed</span>) │ (<span style=\"color: #00d7ff; text-decoration-color: #00d7ff\">None</span>, <span style=\"color: #00af00; text-decoration-color: #00af00\">10</span>, <span style=\"color: #00af00; text-decoration-color: #00af00\">2048</span>)            │               <span style=\"color: #00af00; text-decoration-color: #00af00\">0</span> │\n",
       "├──────────────────────────────────────┼─────────────────────────────┼─────────────────┤\n",
       "│ lstm (<span style=\"color: #0087ff; text-decoration-color: #0087ff\">LSTM</span>)                          │ (<span style=\"color: #00d7ff; text-decoration-color: #00d7ff\">None</span>, <span style=\"color: #00af00; text-decoration-color: #00af00\">128</span>)                 │       <span style=\"color: #00af00; text-decoration-color: #00af00\">1,114,624</span> │\n",
       "├──────────────────────────────────────┼─────────────────────────────┼─────────────────┤\n",
       "│ batch_normalization                  │ (<span style=\"color: #00d7ff; text-decoration-color: #00d7ff\">None</span>, <span style=\"color: #00af00; text-decoration-color: #00af00\">128</span>)                 │             <span style=\"color: #00af00; text-decoration-color: #00af00\">512</span> │\n",
       "│ (<span style=\"color: #0087ff; text-decoration-color: #0087ff\">BatchNormalization</span>)                 │                             │                 │\n",
       "├──────────────────────────────────────┼─────────────────────────────┼─────────────────┤\n",
       "│ dropout_lstm (<span style=\"color: #0087ff; text-decoration-color: #0087ff\">Dropout</span>)               │ (<span style=\"color: #00d7ff; text-decoration-color: #00d7ff\">None</span>, <span style=\"color: #00af00; text-decoration-color: #00af00\">128</span>)                 │               <span style=\"color: #00af00; text-decoration-color: #00af00\">0</span> │\n",
       "├──────────────────────────────────────┼─────────────────────────────┼─────────────────┤\n",
       "│ dense (<span style=\"color: #0087ff; text-decoration-color: #0087ff\">Dense</span>)                        │ (<span style=\"color: #00d7ff; text-decoration-color: #00d7ff\">None</span>, <span style=\"color: #00af00; text-decoration-color: #00af00\">512</span>)                 │          <span style=\"color: #00af00; text-decoration-color: #00af00\">66,048</span> │\n",
       "├──────────────────────────────────────┼─────────────────────────────┼─────────────────┤\n",
       "│ dropout_dense (<span style=\"color: #0087ff; text-decoration-color: #0087ff\">Dropout</span>)              │ (<span style=\"color: #00d7ff; text-decoration-color: #00d7ff\">None</span>, <span style=\"color: #00af00; text-decoration-color: #00af00\">512</span>)                 │               <span style=\"color: #00af00; text-decoration-color: #00af00\">0</span> │\n",
       "├──────────────────────────────────────┼─────────────────────────────┼─────────────────┤\n",
       "│ dense_1 (<span style=\"color: #0087ff; text-decoration-color: #0087ff\">Dense</span>)                      │ (<span style=\"color: #00d7ff; text-decoration-color: #00d7ff\">None</span>, <span style=\"color: #00af00; text-decoration-color: #00af00\">16</span>)                  │           <span style=\"color: #00af00; text-decoration-color: #00af00\">8,208</span> │\n",
       "└──────────────────────────────────────┴─────────────────────────────┴─────────────────┘\n",
       "</pre>\n"
      ],
      "text/plain": [
       "┏━━━━━━━━━━━━━━━━━━━━━━━━━━━━━━━━━━━━━━┳━━━━━━━━━━━━━━━━━━━━━━━━━━━━━┳━━━━━━━━━━━━━━━━━┓\n",
       "┃\u001b[1m \u001b[0m\u001b[1mLayer (type)                        \u001b[0m\u001b[1m \u001b[0m┃\u001b[1m \u001b[0m\u001b[1mOutput Shape               \u001b[0m\u001b[1m \u001b[0m┃\u001b[1m \u001b[0m\u001b[1m        Param #\u001b[0m\u001b[1m \u001b[0m┃\n",
       "┡━━━━━━━━━━━━━━━━━━━━━━━━━━━━━━━━━━━━━━╇━━━━━━━━━━━━━━━━━━━━━━━━━━━━━╇━━━━━━━━━━━━━━━━━┩\n",
       "│ time_distributed (\u001b[38;5;33mTimeDistributed\u001b[0m)   │ (\u001b[38;5;45mNone\u001b[0m, \u001b[38;5;34m10\u001b[0m, \u001b[38;5;34m4\u001b[0m, \u001b[38;5;34m4\u001b[0m, \u001b[38;5;34m2048\u001b[0m)      │      \u001b[38;5;34m20,861,480\u001b[0m │\n",
       "├──────────────────────────────────────┼─────────────────────────────┼─────────────────┤\n",
       "│ time_distributed_1 (\u001b[38;5;33mTimeDistributed\u001b[0m) │ (\u001b[38;5;45mNone\u001b[0m, \u001b[38;5;34m10\u001b[0m, \u001b[38;5;34m2048\u001b[0m)            │               \u001b[38;5;34m0\u001b[0m │\n",
       "├──────────────────────────────────────┼─────────────────────────────┼─────────────────┤\n",
       "│ lstm (\u001b[38;5;33mLSTM\u001b[0m)                          │ (\u001b[38;5;45mNone\u001b[0m, \u001b[38;5;34m128\u001b[0m)                 │       \u001b[38;5;34m1,114,624\u001b[0m │\n",
       "├──────────────────────────────────────┼─────────────────────────────┼─────────────────┤\n",
       "│ batch_normalization                  │ (\u001b[38;5;45mNone\u001b[0m, \u001b[38;5;34m128\u001b[0m)                 │             \u001b[38;5;34m512\u001b[0m │\n",
       "│ (\u001b[38;5;33mBatchNormalization\u001b[0m)                 │                             │                 │\n",
       "├──────────────────────────────────────┼─────────────────────────────┼─────────────────┤\n",
       "│ dropout_lstm (\u001b[38;5;33mDropout\u001b[0m)               │ (\u001b[38;5;45mNone\u001b[0m, \u001b[38;5;34m128\u001b[0m)                 │               \u001b[38;5;34m0\u001b[0m │\n",
       "├──────────────────────────────────────┼─────────────────────────────┼─────────────────┤\n",
       "│ dense (\u001b[38;5;33mDense\u001b[0m)                        │ (\u001b[38;5;45mNone\u001b[0m, \u001b[38;5;34m512\u001b[0m)                 │          \u001b[38;5;34m66,048\u001b[0m │\n",
       "├──────────────────────────────────────┼─────────────────────────────┼─────────────────┤\n",
       "│ dropout_dense (\u001b[38;5;33mDropout\u001b[0m)              │ (\u001b[38;5;45mNone\u001b[0m, \u001b[38;5;34m512\u001b[0m)                 │               \u001b[38;5;34m0\u001b[0m │\n",
       "├──────────────────────────────────────┼─────────────────────────────┼─────────────────┤\n",
       "│ dense_1 (\u001b[38;5;33mDense\u001b[0m)                      │ (\u001b[38;5;45mNone\u001b[0m, \u001b[38;5;34m16\u001b[0m)                  │           \u001b[38;5;34m8,208\u001b[0m │\n",
       "└──────────────────────────────────────┴─────────────────────────────┴─────────────────┘\n"
      ]
     },
     "metadata": {},
     "output_type": "display_data"
    },
    {
     "data": {
      "text/html": [
       "<pre style=\"white-space:pre;overflow-x:auto;line-height:normal;font-family:Menlo,'DejaVu Sans Mono',consolas,'Courier New',monospace\"><span style=\"font-weight: bold\"> Total params: </span><span style=\"color: #00af00; text-decoration-color: #00af00\">22,050,872</span> (84.12 MB)\n",
       "</pre>\n"
      ],
      "text/plain": [
       "\u001b[1m Total params: \u001b[0m\u001b[38;5;34m22,050,872\u001b[0m (84.12 MB)\n"
      ]
     },
     "metadata": {},
     "output_type": "display_data"
    },
    {
     "data": {
      "text/html": [
       "<pre style=\"white-space:pre;overflow-x:auto;line-height:normal;font-family:Menlo,'DejaVu Sans Mono',consolas,'Courier New',monospace\"><span style=\"font-weight: bold\"> Trainable params: </span><span style=\"color: #00af00; text-decoration-color: #00af00\">6,685,456</span> (25.50 MB)\n",
       "</pre>\n"
      ],
      "text/plain": [
       "\u001b[1m Trainable params: \u001b[0m\u001b[38;5;34m6,685,456\u001b[0m (25.50 MB)\n"
      ]
     },
     "metadata": {},
     "output_type": "display_data"
    },
    {
     "data": {
      "text/html": [
       "<pre style=\"white-space:pre;overflow-x:auto;line-height:normal;font-family:Menlo,'DejaVu Sans Mono',consolas,'Courier New',monospace\"><span style=\"font-weight: bold\"> Non-trainable params: </span><span style=\"color: #00af00; text-decoration-color: #00af00\">15,365,416</span> (58.61 MB)\n",
       "</pre>\n"
      ],
      "text/plain": [
       "\u001b[1m Non-trainable params: \u001b[0m\u001b[38;5;34m15,365,416\u001b[0m (58.61 MB)\n"
      ]
     },
     "metadata": {},
     "output_type": "display_data"
    },
    {
     "name": "stdout",
     "output_type": "stream",
     "text": [
      "Model Created Successfully!\n"
     ]
    }
   ],
   "source": [
    "# Create the model\n",
    "xlstm_model = create_xception_lstm_model(\n",
    "    sequence_length=SEQUENCE_LENGTH,\n",
    "    image_height=IMAGE_HEIGHT,\n",
    "    image_width=IMAGE_WIDTH,\n",
    "    classes_list=CLASSES_LIST,\n",
    "    dropout_rate=DROPOUT_RATE\n",
    ")\n",
    "\n",
    "# Check if model was created successfully\n",
    "if xlstm_model is None:\n",
    "    print(\"Failed to create model. Check error messages above.\")\n",
    "else:\n",
    "    print(\"Model Created Successfully!\")"
   ]
  },
  {
   "cell_type": "markdown",
   "id": "81e4703d",
   "metadata": {
    "papermill": {
     "duration": 0.018155,
     "end_time": "2025-07-06T09:18:49.887221",
     "exception": false,
     "start_time": "2025-07-06T09:18:49.869066",
     "status": "completed"
    },
    "tags": []
   },
   "source": [
    "## Plot Model Structure"
   ]
  },
  {
   "cell_type": "code",
   "execution_count": 46,
   "id": "c2a08ffe",
   "metadata": {
    "execution": {
     "iopub.execute_input": "2025-07-06T09:18:49.923881Z",
     "iopub.status.busy": "2025-07-06T09:18:49.923670Z",
     "iopub.status.idle": "2025-07-06T09:18:50.301105Z",
     "shell.execute_reply": "2025-07-06T09:18:50.300453Z"
    },
    "papermill": {
     "duration": 0.397176,
     "end_time": "2025-07-06T09:18:50.302255",
     "exception": false,
     "start_time": "2025-07-06T09:18:49.905079",
     "status": "completed"
    },
    "tags": []
   },
   "outputs": [
    {
     "name": "stdout",
     "output_type": "stream",
     "text": [
      "Xception Model Plot saved successfully...\n"
     ]
    }
   ],
   "source": [
    "# Plot the structure of the contructed model.\n",
    "from tensorflow.keras.utils import plot_model\n",
    "\n",
    "plot_model(xlstm_model, to_file = f'{MODEL_NAME}_model_Plot.png', show_shapes = True, show_layer_names = True)\n",
    "\n",
    "print(f\"{MODEL_NAME} Model Plot saved successfully...\")"
   ]
  },
  {
   "cell_type": "markdown",
   "id": "69b8c72b",
   "metadata": {
    "papermill": {
     "duration": 0.018335,
     "end_time": "2025-07-06T09:18:50.339833",
     "exception": false,
     "start_time": "2025-07-06T09:18:50.321498",
     "status": "completed"
    },
    "tags": []
   },
   "source": [
    "## Model Compile"
   ]
  },
  {
   "cell_type": "code",
   "execution_count": 47,
   "id": "1850e864",
   "metadata": {
    "execution": {
     "iopub.execute_input": "2025-07-06T09:18:50.377977Z",
     "iopub.status.busy": "2025-07-06T09:18:50.377310Z",
     "iopub.status.idle": "2025-07-06T09:18:50.392961Z",
     "shell.execute_reply": "2025-07-06T09:18:50.392478Z"
    },
    "papermill": {
     "duration": 0.035602,
     "end_time": "2025-07-06T09:18:50.394064",
     "exception": false,
     "start_time": "2025-07-06T09:18:50.358462",
     "status": "completed"
    },
    "tags": []
   },
   "outputs": [],
   "source": [
    "# Create an Instance of Early Stopping Callback\n",
    "from tensorflow.keras.callbacks import EarlyStopping\n",
    "\n",
    "early_stopping_callback = EarlyStopping(monitor = 'val_loss', \n",
    "                                        patience = 7, \n",
    "                                        mode = 'min', \n",
    "                                        restore_best_weights = True)\n",
    "\n",
    "# Compile the model and specify loss function, optimizer and metrics values to the model\n",
    "xlstm_model.compile(loss = 'categorical_crossentropy', \n",
    "                    optimizer=tf.keras.optimizers.Adam(learning_rate=0.0001),\n",
    "                    metrics = [\"accuracy\"])\n"
   ]
  },
  {
   "cell_type": "markdown",
   "id": "9fe7e0bb",
   "metadata": {
    "papermill": {
     "duration": 0.01818,
     "end_time": "2025-07-06T09:18:50.430940",
     "exception": false,
     "start_time": "2025-07-06T09:18:50.412760",
     "status": "completed"
    },
    "tags": []
   },
   "source": [
    "## 💪 Model Fit"
   ]
  },
  {
   "cell_type": "code",
   "execution_count": 48,
   "id": "2b60cc44",
   "metadata": {
    "execution": {
     "iopub.execute_input": "2025-07-06T09:18:50.468106Z",
     "iopub.status.busy": "2025-07-06T09:18:50.467923Z",
     "iopub.status.idle": "2025-07-06T09:18:50.474805Z",
     "shell.execute_reply": "2025-07-06T09:18:50.473969Z"
    },
    "papermill": {
     "duration": 0.026792,
     "end_time": "2025-07-06T09:18:50.475923",
     "exception": false,
     "start_time": "2025-07-06T09:18:50.449131",
     "status": "completed"
    },
    "tags": []
   },
   "outputs": [
    {
     "name": "stdout",
     "output_type": "stream",
     "text": [
      "Unique labels: [ 0  1  2  3  4  5  6  7  8  9 10 11 12 13 14 15]\n",
      "NO_OF_CLASSES: 16\n"
     ]
    }
   ],
   "source": [
    "labels = np.argmax(train_gen.labels, axis=1)  # assuming one-hot encoded\n",
    "print(\"Unique labels:\", np.unique(labels))\n",
    "print(\"NO_OF_CLASSES:\", NO_OF_CLASSES)\n"
   ]
  },
  {
   "cell_type": "code",
   "execution_count": 49,
   "id": "fd2146b4",
   "metadata": {
    "execution": {
     "iopub.execute_input": "2025-07-06T09:18:50.515262Z",
     "iopub.status.busy": "2025-07-06T09:18:50.515028Z",
     "iopub.status.idle": "2025-07-06T09:18:50.521297Z",
     "shell.execute_reply": "2025-07-06T09:18:50.520661Z"
    },
    "papermill": {
     "duration": 0.026903,
     "end_time": "2025-07-06T09:18:50.522309",
     "exception": false,
     "start_time": "2025-07-06T09:18:50.495406",
     "status": "completed"
    },
    "tags": []
   },
   "outputs": [
    {
     "name": "stdout",
     "output_type": "stream",
     "text": [
      "Train label shape: (2560, 16)\n",
      "Val label shape: (640, 16)\n"
     ]
    }
   ],
   "source": [
    "print(\"Train label shape:\", np.shape(train_gen.labels))\n",
    "print(\"Val label shape:\", np.shape(val_gen.labels))\n"
   ]
  },
  {
   "cell_type": "code",
   "execution_count": 50,
   "id": "be4d6a27",
   "metadata": {
    "execution": {
     "iopub.execute_input": "2025-07-06T09:18:50.560233Z",
     "iopub.status.busy": "2025-07-06T09:18:50.560034Z",
     "iopub.status.idle": "2025-07-06T09:55:10.729087Z",
     "shell.execute_reply": "2025-07-06T09:55:10.728227Z"
    },
    "papermill": {
     "duration": 2180.189396,
     "end_time": "2025-07-06T09:55:10.730424",
     "exception": false,
     "start_time": "2025-07-06T09:18:50.541028",
     "status": "completed"
    },
    "tags": []
   },
   "outputs": [
    {
     "name": "stdout",
     "output_type": "stream",
     "text": [
      "Dataset - Precis Har Rgb\n",
      "There are total 16 classes, selected 16 classes\n",
      "Setting 50 videos/class to train the model.\n",
      "Image size 128x128 with 10 sequence length\n",
      "Dropout rate: 0.5\n",
      "Train-Test split ratio 80/20\n",
      "Validation data from Train set 20.0%\n",
      "\n",
      "\n",
      "Training started for 2560 videos of 16 classes with 640 videos for validation...\n",
      "Epoch 1/30\n"
     ]
    },
    {
     "name": "stderr",
     "output_type": "stream",
     "text": [
      "I0000 00:00:1751793587.266099      61 cuda_dnn.cc:529] Loaded cuDNN version 90300\n"
     ]
    },
    {
     "name": "stdout",
     "output_type": "stream",
     "text": [
      "     80/Unknown \u001b[1m120s\u001b[0m 744ms/step - accuracy: 0.1017 - loss: 13.1427"
     ]
    },
    {
     "name": "stderr",
     "output_type": "stream",
     "text": [
      "/usr/local/lib/python3.11/dist-packages/keras/src/trainers/epoch_iterator.py:151: UserWarning: Your input ran out of data; interrupting training. Make sure that your dataset or generator can generate at least `steps_per_epoch * epochs` batches. You may need to use the `.repeat()` function when building your dataset.\n",
      "  self._interrupted_warning()\n"
     ]
    },
    {
     "name": "stdout",
     "output_type": "stream",
     "text": [
      "\u001b[1m80/80\u001b[0m \u001b[32m━━━━━━━━━━━━━━━━━━━━\u001b[0m\u001b[37m\u001b[0m \u001b[1m144s\u001b[0m 1s/step - accuracy: 0.1021 - loss: 13.1372 - val_accuracy: 0.4375 - val_loss: 11.7750 - learning_rate: 1.0000e-04\n",
      "Epoch 2/30\n",
      "\u001b[1m80/80\u001b[0m \u001b[32m━━━━━━━━━━━━━━━━━━━━\u001b[0m\u001b[37m\u001b[0m \u001b[1m72s\u001b[0m 897ms/step - accuracy: 0.2897 - loss: 11.3542 - val_accuracy: 0.5188 - val_loss: 10.4952 - learning_rate: 1.0000e-04\n",
      "Epoch 3/30\n",
      "\u001b[1m80/80\u001b[0m \u001b[32m━━━━━━━━━━━━━━━━━━━━\u001b[0m\u001b[37m\u001b[0m \u001b[1m70s\u001b[0m 879ms/step - accuracy: 0.3841 - loss: 10.0254 - val_accuracy: 0.5859 - val_loss: 9.2810 - learning_rate: 1.0000e-04\n",
      "Epoch 4/30\n",
      "\u001b[1m80/80\u001b[0m \u001b[32m━━━━━━━━━━━━━━━━━━━━\u001b[0m\u001b[37m\u001b[0m \u001b[1m70s\u001b[0m 877ms/step - accuracy: 0.5025 - loss: 8.9228 - val_accuracy: 0.6219 - val_loss: 8.2459 - learning_rate: 1.0000e-04\n",
      "Epoch 5/30\n",
      "\u001b[1m80/80\u001b[0m \u001b[32m━━━━━━━━━━━━━━━━━━━━\u001b[0m\u001b[37m\u001b[0m \u001b[1m70s\u001b[0m 879ms/step - accuracy: 0.5741 - loss: 8.0260 - val_accuracy: 0.6359 - val_loss: 7.3576 - learning_rate: 1.0000e-04\n",
      "Epoch 6/30\n",
      "\u001b[1m80/80\u001b[0m \u001b[32m━━━━━━━━━━━━━━━━━━━━\u001b[0m\u001b[37m\u001b[0m \u001b[1m70s\u001b[0m 876ms/step - accuracy: 0.6114 - loss: 7.2569 - val_accuracy: 0.6453 - val_loss: 6.6475 - learning_rate: 1.0000e-04\n",
      "Epoch 7/30\n",
      "\u001b[1m80/80\u001b[0m \u001b[32m━━━━━━━━━━━━━━━━━━━━\u001b[0m\u001b[37m\u001b[0m \u001b[1m70s\u001b[0m 874ms/step - accuracy: 0.6624 - loss: 6.5577 - val_accuracy: 0.6500 - val_loss: 6.0872 - learning_rate: 1.0000e-04\n",
      "Epoch 8/30\n",
      "\u001b[1m80/80\u001b[0m \u001b[32m━━━━━━━━━━━━━━━━━━━━\u001b[0m\u001b[37m\u001b[0m \u001b[1m70s\u001b[0m 877ms/step - accuracy: 0.7354 - loss: 5.9027 - val_accuracy: 0.6687 - val_loss: 5.6150 - learning_rate: 1.0000e-04\n",
      "Epoch 9/30\n",
      "\u001b[1m80/80\u001b[0m \u001b[32m━━━━━━━━━━━━━━━━━━━━\u001b[0m\u001b[37m\u001b[0m \u001b[1m70s\u001b[0m 876ms/step - accuracy: 0.7537 - loss: 5.4226 - val_accuracy: 0.6891 - val_loss: 5.2158 - learning_rate: 1.0000e-04\n",
      "Epoch 10/30\n",
      "\u001b[1m80/80\u001b[0m \u001b[32m━━━━━━━━━━━━━━━━━━━━\u001b[0m\u001b[37m\u001b[0m \u001b[1m70s\u001b[0m 879ms/step - accuracy: 0.7853 - loss: 4.9754 - val_accuracy: 0.7031 - val_loss: 4.8613 - learning_rate: 1.0000e-04\n",
      "Epoch 11/30\n",
      "\u001b[1m80/80\u001b[0m \u001b[32m━━━━━━━━━━━━━━━━━━━━\u001b[0m\u001b[37m\u001b[0m \u001b[1m70s\u001b[0m 875ms/step - accuracy: 0.8214 - loss: 4.5649 - val_accuracy: 0.7078 - val_loss: 4.5819 - learning_rate: 1.0000e-04\n",
      "Epoch 12/30\n",
      "\u001b[1m80/80\u001b[0m \u001b[32m━━━━━━━━━━━━━━━━━━━━\u001b[0m\u001b[37m\u001b[0m \u001b[1m70s\u001b[0m 875ms/step - accuracy: 0.8608 - loss: 4.2056 - val_accuracy: 0.6984 - val_loss: 4.3465 - learning_rate: 1.0000e-04\n",
      "Epoch 13/30\n",
      "\u001b[1m80/80\u001b[0m \u001b[32m━━━━━━━━━━━━━━━━━━━━\u001b[0m\u001b[37m\u001b[0m \u001b[1m70s\u001b[0m 880ms/step - accuracy: 0.8843 - loss: 3.8821 - val_accuracy: 0.7094 - val_loss: 4.1221 - learning_rate: 1.0000e-04\n",
      "Epoch 14/30\n",
      "\u001b[1m80/80\u001b[0m \u001b[32m━━━━━━━━━━━━━━━━━━━━\u001b[0m\u001b[37m\u001b[0m \u001b[1m70s\u001b[0m 877ms/step - accuracy: 0.8964 - loss: 3.6165 - val_accuracy: 0.7078 - val_loss: 3.9409 - learning_rate: 1.0000e-04\n",
      "Epoch 15/30\n",
      "\u001b[1m80/80\u001b[0m \u001b[32m━━━━━━━━━━━━━━━━━━━━\u001b[0m\u001b[37m\u001b[0m \u001b[1m70s\u001b[0m 878ms/step - accuracy: 0.9240 - loss: 3.3720 - val_accuracy: 0.7281 - val_loss: 3.7700 - learning_rate: 1.0000e-04\n",
      "Epoch 16/30\n",
      "\u001b[1m80/80\u001b[0m \u001b[32m━━━━━━━━━━━━━━━━━━━━\u001b[0m\u001b[37m\u001b[0m \u001b[1m70s\u001b[0m 879ms/step - accuracy: 0.9369 - loss: 3.1463 - val_accuracy: 0.7125 - val_loss: 3.6364 - learning_rate: 1.0000e-04\n",
      "Epoch 17/30\n",
      "\u001b[1m80/80\u001b[0m \u001b[32m━━━━━━━━━━━━━━━━━━━━\u001b[0m\u001b[37m\u001b[0m \u001b[1m70s\u001b[0m 879ms/step - accuracy: 0.9587 - loss: 2.9388 - val_accuracy: 0.7125 - val_loss: 3.4898 - learning_rate: 1.0000e-04\n",
      "Epoch 18/30\n",
      "\u001b[1m80/80\u001b[0m \u001b[32m━━━━━━━━━━━━━━━━━━━━\u001b[0m\u001b[37m\u001b[0m \u001b[1m70s\u001b[0m 878ms/step - accuracy: 0.9669 - loss: 2.7683 - val_accuracy: 0.7172 - val_loss: 3.3534 - learning_rate: 1.0000e-04\n",
      "Epoch 19/30\n",
      "\u001b[1m80/80\u001b[0m \u001b[32m━━━━━━━━━━━━━━━━━━━━\u001b[0m\u001b[37m\u001b[0m \u001b[1m70s\u001b[0m 878ms/step - accuracy: 0.9806 - loss: 2.5912 - val_accuracy: 0.7328 - val_loss: 3.2576 - learning_rate: 1.0000e-04\n",
      "Epoch 20/30\n",
      "\u001b[1m80/80\u001b[0m \u001b[32m━━━━━━━━━━━━━━━━━━━━\u001b[0m\u001b[37m\u001b[0m \u001b[1m70s\u001b[0m 877ms/step - accuracy: 0.9726 - loss: 2.4572 - val_accuracy: 0.7281 - val_loss: 3.1318 - learning_rate: 1.0000e-04\n",
      "Epoch 21/30\n",
      "\u001b[1m80/80\u001b[0m \u001b[32m━━━━━━━━━━━━━━━━━━━━\u001b[0m\u001b[37m\u001b[0m \u001b[1m70s\u001b[0m 876ms/step - accuracy: 0.9870 - loss: 2.3074 - val_accuracy: 0.7281 - val_loss: 3.0285 - learning_rate: 1.0000e-04\n",
      "Epoch 22/30\n",
      "\u001b[1m80/80\u001b[0m \u001b[32m━━━━━━━━━━━━━━━━━━━━\u001b[0m\u001b[37m\u001b[0m \u001b[1m70s\u001b[0m 877ms/step - accuracy: 0.9900 - loss: 2.1748 - val_accuracy: 0.7063 - val_loss: 2.9093 - learning_rate: 1.0000e-04\n",
      "Epoch 23/30\n",
      "\u001b[1m80/80\u001b[0m \u001b[32m━━━━━━━━━━━━━━━━━━━━\u001b[0m\u001b[37m\u001b[0m \u001b[1m70s\u001b[0m 875ms/step - accuracy: 0.9940 - loss: 2.0610 - val_accuracy: 0.7047 - val_loss: 2.8692 - learning_rate: 1.0000e-04\n",
      "Epoch 24/30\n",
      "\u001b[1m80/80\u001b[0m \u001b[32m━━━━━━━━━━━━━━━━━━━━\u001b[0m\u001b[37m\u001b[0m \u001b[1m70s\u001b[0m 880ms/step - accuracy: 0.9951 - loss: 1.9363 - val_accuracy: 0.7156 - val_loss: 2.7256 - learning_rate: 1.0000e-04\n",
      "Epoch 25/30\n",
      "\u001b[1m80/80\u001b[0m \u001b[32m━━━━━━━━━━━━━━━━━━━━\u001b[0m\u001b[37m\u001b[0m \u001b[1m70s\u001b[0m 877ms/step - accuracy: 0.9935 - loss: 1.8269 - val_accuracy: 0.7141 - val_loss: 2.6111 - learning_rate: 1.0000e-04\n",
      "Epoch 26/30\n",
      "\u001b[1m80/80\u001b[0m \u001b[32m━━━━━━━━━━━━━━━━━━━━\u001b[0m\u001b[37m\u001b[0m \u001b[1m70s\u001b[0m 878ms/step - accuracy: 0.9934 - loss: 1.7247 - val_accuracy: 0.7047 - val_loss: 2.5319 - learning_rate: 1.0000e-04\n",
      "Epoch 27/30\n",
      "\u001b[1m80/80\u001b[0m \u001b[32m━━━━━━━━━━━━━━━━━━━━\u001b[0m\u001b[37m\u001b[0m \u001b[1m70s\u001b[0m 877ms/step - accuracy: 0.9941 - loss: 1.6252 - val_accuracy: 0.7094 - val_loss: 2.4373 - learning_rate: 1.0000e-04\n",
      "Epoch 28/30\n",
      "\u001b[1m80/80\u001b[0m \u001b[32m━━━━━━━━━━━━━━━━━━━━\u001b[0m\u001b[37m\u001b[0m \u001b[1m70s\u001b[0m 880ms/step - accuracy: 0.9977 - loss: 1.5248 - val_accuracy: 0.7203 - val_loss: 2.3544 - learning_rate: 1.0000e-04\n",
      "Epoch 29/30\n",
      "\u001b[1m80/80\u001b[0m \u001b[32m━━━━━━━━━━━━━━━━━━━━\u001b[0m\u001b[37m\u001b[0m \u001b[1m70s\u001b[0m 877ms/step - accuracy: 0.9987 - loss: 1.4302 - val_accuracy: 0.7250 - val_loss: 2.2737 - learning_rate: 1.0000e-04\n",
      "Epoch 30/30\n",
      "\u001b[1m80/80\u001b[0m \u001b[32m━━━━━━━━━━━━━━━━━━━━\u001b[0m\u001b[37m\u001b[0m \u001b[1m70s\u001b[0m 878ms/step - accuracy: 0.9983 - loss: 1.3375 - val_accuracy: 0.7266 - val_loss: 2.1844 - learning_rate: 1.0000e-04\n"
     ]
    }
   ],
   "source": [
    "from tensorflow.keras.callbacks import ReduceLROnPlateau\n",
    "\n",
    "lr_scheduler = ReduceLROnPlateau(monitor='val_loss', \n",
    "                                 factor=0.5, \n",
    "                                 patience=3, \n",
    "                                 min_lr=1e-6)\n",
    "\n",
    "\n",
    "\n",
    "print(f\"Dataset - {DATASET_NAME}\")\n",
    "print(f\"There are total {len(ALL_CLASS_NAMES)} classes, selected {NO_OF_CLASSES} classes\")\n",
    "print(f\"Setting {MAX_VIDEO_PER_CLASS} videos/class to train the model.\")\n",
    "print(f\"Image size {IMAGE_HEIGHT}x{IMAGE_WIDTH} with {SEQUENCE_LENGTH} sequence length\")\n",
    "print(f\"Dropout rate: {DROPOUT_RATE}\")\n",
    "print(f\"Train-Test split ratio {int((1-TEST_SIZE)*100)}/{int(TEST_SIZE*100)}\")\n",
    "print(f\"Validation data from Train set {VALIDATION_SPLIT*100}%\")\n",
    "\n",
    "print(\"\\n\")\n",
    "\n",
    "print(f\"Training started for {len(train_gen.videos)} videos of {NO_OF_CLASSES} classes with {len(val_gen.videos)} videos for validation...\")\n",
    "\n",
    "model_history = xlstm_model.fit(\n",
    "    train_gen.as_dataset(),\n",
    "    validation_data=val_gen.as_dataset(),\n",
    "    epochs=EPOCHS,\n",
    "    # class_weight=class_weight_dict,\n",
    "    callbacks=[early_stopping_callback, lr_scheduler]\n",
    ")"
   ]
  },
  {
   "cell_type": "markdown",
   "id": "64e6d11e",
   "metadata": {
    "papermill": {
     "duration": 0.120625,
     "end_time": "2025-07-06T09:55:10.973487",
     "exception": false,
     "start_time": "2025-07-06T09:55:10.852862",
     "status": "completed"
    },
    "tags": []
   },
   "source": [
    "# Evaluation"
   ]
  },
  {
   "cell_type": "markdown",
   "id": "e9c28e0c",
   "metadata": {
    "papermill": {
     "duration": 0.120599,
     "end_time": "2025-07-06T09:55:11.216271",
     "exception": false,
     "start_time": "2025-07-06T09:55:11.095672",
     "status": "completed"
    },
    "tags": []
   },
   "source": [
    "## ⚡ Model Evaluate"
   ]
  },
  {
   "cell_type": "code",
   "execution_count": 51,
   "id": "9e7446bb",
   "metadata": {
    "execution": {
     "iopub.execute_input": "2025-07-06T09:55:11.513517Z",
     "iopub.status.busy": "2025-07-06T09:55:11.512786Z",
     "iopub.status.idle": "2025-07-06T09:55:30.393841Z",
     "shell.execute_reply": "2025-07-06T09:55:30.393262Z"
    },
    "papermill": {
     "duration": 19.00646,
     "end_time": "2025-07-06T09:55:30.395017",
     "exception": false,
     "start_time": "2025-07-06T09:55:11.388557",
     "status": "completed"
    },
    "tags": []
   },
   "outputs": [
    {
     "name": "stdout",
     "output_type": "stream",
     "text": [
      "\u001b[1m25/25\u001b[0m \u001b[32m━━━━━━━━━━━━━━━━━━━━\u001b[0m\u001b[37m\u001b[0m \u001b[1m15s\u001b[0m 589ms/step - accuracy: 0.6959 - loss: 2.2630\n"
     ]
    }
   ],
   "source": [
    "# previous code\n",
    "model_evaluation_history = xlstm_model.evaluate(features_test, labels_test)"
   ]
  },
  {
   "cell_type": "code",
   "execution_count": 52,
   "id": "3eafd4ab",
   "metadata": {
    "execution": {
     "iopub.execute_input": "2025-07-06T09:55:30.642076Z",
     "iopub.status.busy": "2025-07-06T09:55:30.641852Z",
     "iopub.status.idle": "2025-07-06T09:55:30.988762Z",
     "shell.execute_reply": "2025-07-06T09:55:30.988120Z"
    },
    "papermill": {
     "duration": 0.469788,
     "end_time": "2025-07-06T09:55:30.990416",
     "exception": false,
     "start_time": "2025-07-06T09:55:30.520628",
     "status": "completed"
    },
    "tags": []
   },
   "outputs": [
    {
     "data": {
      "image/png": "[encoded data removed]",
      "text/plain": [
       "<Figure size 1200x500 with 2 Axes>"
      ]
     },
     "metadata": {},
     "output_type": "display_data"
    }
   ],
   "source": [
    "import matplotlib.pyplot as plt\n",
    "\n",
    "# Accuracy\n",
    "plt.figure(figsize=(12, 5))\n",
    "\n",
    "plt.subplot(1, 2, 1)\n",
    "plt.plot(model_history.history['accuracy'], label='Train Accuracy')\n",
    "plt.plot(model_history.history['val_accuracy'], label='Validation Accuracy')\n",
    "plt.title('Model Accuracy')\n",
    "plt.xlabel('Epoch')\n",
    "plt.ylabel('Accuracy')\n",
    "plt.legend()\n",
    "\n",
    "# Loss\n",
    "plt.subplot(1, 2, 2)\n",
    "plt.plot(model_history.history['loss'], label='Train Loss')\n",
    "plt.plot(model_history.history['val_loss'], label='Validation Loss')\n",
    "plt.title('Model Loss')\n",
    "plt.xlabel('Epoch')\n",
    "plt.ylabel('Loss')\n",
    "plt.legend()\n",
    "\n",
    "plt.tight_layout()\n",
    "plt.show()\n"
   ]
  },
  {
   "cell_type": "markdown",
   "id": "3b164c52",
   "metadata": {
    "papermill": {
     "duration": 0.122609,
     "end_time": "2025-07-06T09:55:31.238280",
     "exception": false,
     "start_time": "2025-07-06T09:55:31.115671",
     "status": "completed"
    },
    "tags": []
   },
   "source": [
    "## 📈 Confusion Matrix"
   ]
  },
  {
   "cell_type": "code",
   "execution_count": 53,
   "id": "bedc70f8",
   "metadata": {
    "execution": {
     "iopub.execute_input": "2025-07-06T09:55:31.488060Z",
     "iopub.status.busy": "2025-07-06T09:55:31.487498Z",
     "iopub.status.idle": "2025-07-06T09:56:07.919547Z",
     "shell.execute_reply": "2025-07-06T09:56:07.918787Z"
    },
    "papermill": {
     "duration": 36.560022,
     "end_time": "2025-07-06T09:56:07.920817",
     "exception": false,
     "start_time": "2025-07-06T09:55:31.360795",
     "status": "completed"
    },
    "tags": []
   },
   "outputs": [
    {
     "name": "stdout",
     "output_type": "stream",
     "text": [
      "Total 800 videos and 800 classes\n",
      "\u001b[1m200/200\u001b[0m \u001b[32m━━━━━━━━━━━━━━━━━━━━\u001b[0m\u001b[37m\u001b[0m \u001b[1m35s\u001b[0m 107ms/step\n",
      "True classes shape: (800,)\n",
      "Predicted classes shape: (800,)\n",
      "Classification Report:\n",
      "                                 precision    recall  f1-score   support\n",
      "\n",
      "                          write       0.41      0.39      0.40        56\n",
      "                      sit still       0.52      0.41      0.46        41\n",
      "                       sit down       1.00      1.00      1.00        42\n",
      "move hands in front of the body       0.78      0.87      0.82        45\n",
      "               raise one leg up       0.96      1.00      0.98        50\n",
      "            drink from a bottle       0.20      0.19      0.19        59\n",
      "                       stand up       0.84      1.00      0.91        43\n",
      "                           read       0.40      0.49      0.44        43\n",
      "                    throw paper       0.46      0.41      0.43        56\n",
      "                           walk       1.00      0.98      0.99        52\n",
      "               drink from a mug       0.23      0.20      0.22        54\n",
      "                  fall from bed       0.98      0.98      0.98        53\n",
      "                          faint       0.97      1.00      0.98        60\n",
      "              raise one hand up       1.00      0.96      0.98        51\n",
      "                       cheer up       0.80      0.82      0.81        45\n",
      "   move hands close to the body       0.78      0.84      0.81        50\n",
      "\n",
      "                       accuracy                           0.71       800\n",
      "                      macro avg       0.71      0.72      0.71       800\n",
      "                   weighted avg       0.70      0.71      0.71       800\n",
      "\n"
     ]
    },
    {
     "name": "stderr",
     "output_type": "stream",
     "text": [
      "/usr/local/lib/python3.11/dist-packages/keras/src/trainers/epoch_iterator.py:151: UserWarning: Your input ran out of data; interrupting training. Make sure that your dataset or generator can generate at least `steps_per_epoch * epochs` batches. You may need to use the `.repeat()` function when building your dataset.\n",
      "  self._interrupted_warning()\n"
     ]
    },
    {
     "data": {
      "image/png": "[encoded data removed]",
      "text/plain": [
       "<Figure size 800x600 with 2 Axes>"
      ]
     },
     "metadata": {},
     "output_type": "display_data"
    }
   ],
   "source": [
    "from sklearn.metrics import classification_report, confusion_matrix\n",
    "import seaborn as sns\n",
    "import matplotlib.pyplot as plt\n",
    "\n",
    "# Create test generator with batch_size matching test set size\n",
    "test_gen = VideoDataGenerator(\n",
    "    videos=features_test,\n",
    "    labels=labels_test,\n",
    "    batch_size=4,  # Process all test samples at once\n",
    ")\n",
    "\n",
    "# Get predictions\n",
    "predictions = xlstm_model.predict(test_gen.as_dataset())\n",
    "predicted_classes = np.argmax(predictions, axis=1)\n",
    "true_classes = np.argmax(labels_test, axis=1)\n",
    "\n",
    "# Verify shapes\n",
    "print(f\"True classes shape: {true_classes.shape}\")\n",
    "print(f\"Predicted classes shape: {predicted_classes.shape}\")\n",
    "assert len(true_classes) == len(predicted_classes), \"Sample counts do not match!\"\n",
    "\n",
    "# Generate classification report\n",
    "print(\"Classification Report:\")\n",
    "print(classification_report(true_classes, predicted_classes, target_names=CLASSES_LIST))\n",
    "\n",
    "# Plot confusion matrix\n",
    "cm = confusion_matrix(true_classes, predicted_classes)\n",
    "plt.figure(figsize=(8, 6))\n",
    "sns.heatmap(cm, annot=True, fmt='d', cmap='Blues', xticklabels=CLASSES_LIST, yticklabels=CLASSES_LIST[-1])\n",
    "plt.xlabel('Predicted')\n",
    "plt.ylabel('True')\n",
    "plt.title('Confusion Matrix')\n",
    "plt.show()"
   ]
  }
 ],
 "metadata": {
  "kaggle": {
   "accelerator": "nvidiaTeslaT4",
   "dataSources": [
    {
     "datasetId": 1357563,
     "sourceId": 2256095,
     "sourceType": "datasetVersion"
    },
    {
     "datasetId": 7763484,
     "sourceId": 12338519,
     "sourceType": "datasetVersion"
    },
    {
     "datasetId": 7801555,
     "sourceId": 12373067,
     "sourceType": "datasetVersion"
    },
    {
     "datasetId": 7801884,
     "sourceId": 12373562,
     "sourceType": "datasetVersion"
    }
   ],
   "dockerImageVersionId": 31041,
   "isGpuEnabled": true,
   "isInternetEnabled": true,
   "language": "python",
   "sourceType": "notebook"
  },
  "kernelspec": {
   "display_name": "Python 3",
   "language": "python",
   "name": "python3"
  },
  "language_info": {
   "codemirror_mode": {
    "name": "ipython",
    "version": 3
   },
   "file_extension": ".py",
   "mimetype": "text/x-python",
   "name": "python",
   "nbconvert_exporter": "python",
   "pygments_lexer": "ipython3",
   "version": "3.11.11"
  },
  "papermill": {
   "default_parameters": {},
   "duration": 3482.184075,
   "end_time": "2025-07-06T09:56:12.067486",
   "environment_variables": {},
   "exception": null,
   "input_path": "__notebook__.ipynb",
   "output_path": "__notebook__.ipynb",
   "parameters": {},
   "start_time": "2025-07-06T08:58:09.883411",
   "version": "2.6.0"
  }
 },
 "nbformat": 4,
 "nbformat_minor": 5
}
