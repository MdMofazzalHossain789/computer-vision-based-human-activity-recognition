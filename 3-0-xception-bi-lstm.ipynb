{
 "cells": [
  {
   "cell_type": "markdown",
   "id": "ac2036d2",
   "metadata": {
    "papermill": {
     "duration": 0.011211,
     "end_time": "2025-07-06T18:56:00.517985",
     "exception": false,
     "start_time": "2025-07-06T18:56:00.506774",
     "status": "completed"
    },
    "tags": []
   },
   "source": [
    "# Initialization\n",
    "## Import Libraries"
   ]
  },
  {
   "cell_type": "code",
   "execution_count": 1,
   "id": "a136791a",
   "metadata": {
    "execution": {
     "iopub.execute_input": "2025-07-06T18:56:00.539673Z",
     "iopub.status.busy": "2025-07-06T18:56:00.538989Z",
     "iopub.status.idle": "2025-07-06T18:56:16.195411Z",
     "shell.execute_reply": "2025-07-06T18:56:16.194386Z"
    },
    "papermill": {
     "duration": 15.668963,
     "end_time": "2025-07-06T18:56:16.196980",
     "exception": false,
     "start_time": "2025-07-06T18:56:00.528017",
     "status": "completed"
    },
    "tags": []
   },
   "outputs": [
    {
     "name": "stdout",
     "output_type": "stream",
     "text": [
      "Collecting mediapipe\r\n",
      "  Downloading mediapipe-0.10.21-cp311-cp311-manylinux_2_28_x86_64.whl.metadata (9.7 kB)\r\n",
      "Requirement already satisfied: absl-py in /usr/local/lib/python3.11/dist-packages (from mediapipe) (1.4.0)\r\n",
      "Requirement already satisfied: attrs>=19.1.0 in /usr/local/lib/python3.11/dist-packages (from mediapipe) (25.3.0)\r\n",
      "Requirement already satisfied: flatbuffers>=2.0 in /usr/local/lib/python3.11/dist-packages (from mediapipe) (25.2.10)\r\n",
      "Requirement already satisfied: jax in /usr/local/lib/python3.11/dist-packages (from mediapipe) (0.5.2)\r\n",
      "Requirement already satisfied: jaxlib in /usr/local/lib/python3.11/dist-packages (from mediapipe) (0.5.1)\r\n",
      "Requirement already satisfied: matplotlib in /usr/local/lib/python3.11/dist-packages (from mediapipe) (3.7.2)\r\n",
      "Requirement already satisfied: numpy<2 in /usr/local/lib/python3.11/dist-packages (from mediapipe) (1.26.4)\r\n",
      "Requirement already satisfied: opencv-contrib-python in /usr/local/lib/python3.11/dist-packages (from mediapipe) (4.11.0.86)\r\n",
      "Collecting protobuf<5,>=4.25.3 (from mediapipe)\r\n",
      "  Downloading protobuf-4.25.8-cp37-abi3-manylinux2014_x86_64.whl.metadata (541 bytes)\r\n",
      "Collecting sounddevice>=0.4.4 (from mediapipe)\r\n",
      "  Downloading sounddevice-0.5.2-py3-none-any.whl.metadata (1.6 kB)\r\n",
      "Requirement already satisfied: sentencepiece in /usr/local/lib/python3.11/dist-packages (from mediapipe) (0.2.0)\r\n",
      "Requirement already satisfied: mkl_fft in /usr/local/lib/python3.11/dist-packages (from numpy<2->mediapipe) (1.3.8)\r\n",
      "Requirement already satisfied: mkl_random in /usr/local/lib/python3.11/dist-packages (from numpy<2->mediapipe) (1.2.4)\r\n",
      "Requirement already satisfied: mkl_umath in /usr/local/lib/python3.11/dist-packages (from numpy<2->mediapipe) (0.1.1)\r\n",
      "Requirement already satisfied: mkl in /usr/local/lib/python3.11/dist-packages (from numpy<2->mediapipe) (2025.1.0)\r\n",
      "Requirement already satisfied: tbb4py in /usr/local/lib/python3.11/dist-packages (from numpy<2->mediapipe) (2022.1.0)\r\n",
      "Requirement already satisfied: mkl-service in /usr/local/lib/python3.11/dist-packages (from numpy<2->mediapipe) (2.4.1)\r\n",
      "Requirement already satisfied: CFFI>=1.0 in /usr/local/lib/python3.11/dist-packages (from sounddevice>=0.4.4->mediapipe) (1.17.1)\r\n",
      "Requirement already satisfied: ml_dtypes>=0.4.0 in /usr/local/lib/python3.11/dist-packages (from jax->mediapipe) (0.4.1)\r\n",
      "Requirement already satisfied: opt_einsum in /usr/local/lib/python3.11/dist-packages (from jax->mediapipe) (3.4.0)\r\n",
      "Requirement already satisfied: scipy>=1.11.1 in /usr/local/lib/python3.11/dist-packages (from jax->mediapipe) (1.15.2)\r\n",
      "Requirement already satisfied: contourpy>=1.0.1 in /usr/local/lib/python3.11/dist-packages (from matplotlib->mediapipe) (1.3.1)\r\n",
      "Requirement already satisfied: cycler>=0.10 in /usr/local/lib/python3.11/dist-packages (from matplotlib->mediapipe) (0.12.1)\r\n",
      "Requirement already satisfied: fonttools>=4.22.0 in /usr/local/lib/python3.11/dist-packages (from matplotlib->mediapipe) (4.57.0)\r\n",
      "Requirement already satisfied: kiwisolver>=1.0.1 in /usr/local/lib/python3.11/dist-packages (from matplotlib->mediapipe) (1.4.8)\r\n",
      "Requirement already satisfied: packaging>=20.0 in /usr/local/lib/python3.11/dist-packages (from matplotlib->mediapipe) (25.0)\r\n",
      "Requirement already satisfied: pillow>=6.2.0 in /usr/local/lib/python3.11/dist-packages (from matplotlib->mediapipe) (11.1.0)\r\n",
      "Requirement already satisfied: pyparsing<3.1,>=2.3.1 in /usr/local/lib/python3.11/dist-packages (from matplotlib->mediapipe) (3.0.9)\r\n",
      "Requirement already satisfied: python-dateutil>=2.7 in /usr/local/lib/python3.11/dist-packages (from matplotlib->mediapipe) (2.9.0.post0)\r\n",
      "Requirement already satisfied: pycparser in /usr/local/lib/python3.11/dist-packages (from CFFI>=1.0->sounddevice>=0.4.4->mediapipe) (2.22)\r\n",
      "Requirement already satisfied: six>=1.5 in /usr/local/lib/python3.11/dist-packages (from python-dateutil>=2.7->matplotlib->mediapipe) (1.17.0)\r\n",
      "Requirement already satisfied: intel-openmp<2026,>=2024 in /usr/local/lib/python3.11/dist-packages (from mkl->numpy<2->mediapipe) (2024.2.0)\r\n",
      "Requirement already satisfied: tbb==2022.* in /usr/local/lib/python3.11/dist-packages (from mkl->numpy<2->mediapipe) (2022.1.0)\r\n",
      "Requirement already satisfied: tcmlib==1.* in /usr/local/lib/python3.11/dist-packages (from tbb==2022.*->mkl->numpy<2->mediapipe) (1.3.0)\r\n",
      "Requirement already satisfied: intel-cmplr-lib-rt in /usr/local/lib/python3.11/dist-packages (from mkl_umath->numpy<2->mediapipe) (2024.2.0)\r\n",
      "Requirement already satisfied: intel-cmplr-lib-ur==2024.2.0 in /usr/local/lib/python3.11/dist-packages (from intel-openmp<2026,>=2024->mkl->numpy<2->mediapipe) (2024.2.0)\r\n",
      "Downloading mediapipe-0.10.21-cp311-cp311-manylinux_2_28_x86_64.whl (35.6 MB)\r\n",
      "\u001b[2K   \u001b[90m━━━━━━━━━━━━━━━━━━━━━━━━━━━━━━━━━━━━━━━━\u001b[0m \u001b[32m35.6/35.6 MB\u001b[0m \u001b[31m54.3 MB/s\u001b[0m eta \u001b[36m0:00:00\u001b[0m\r\n",
      "\u001b[?25hDownloading protobuf-4.25.8-cp37-abi3-manylinux2014_x86_64.whl (294 kB)\r\n",
      "\u001b[2K   \u001b[90m━━━━━━━━━━━━━━━━━━━━━━━━━━━━━━━━━━━━━━━━\u001b[0m \u001b[32m294.9/294.9 kB\u001b[0m \u001b[31m21.8 MB/s\u001b[0m eta \u001b[36m0:00:00\u001b[0m\r\n",
      "\u001b[?25hDownloading sounddevice-0.5.2-py3-none-any.whl (32 kB)\r\n",
      "Installing collected packages: protobuf, sounddevice, mediapipe\r\n",
      "  Attempting uninstall: protobuf\r\n",
      "    Found existing installation: protobuf 3.20.3\r\n",
      "    Uninstalling protobuf-3.20.3:\r\n",
      "      Successfully uninstalled protobuf-3.20.3\r\n",
      "\u001b[31mERROR: pip's dependency resolver does not currently take into account all the packages that are installed. This behaviour is the source of the following dependency conflicts.\r\n",
      "google-api-core 1.34.1 requires protobuf!=3.20.0,!=3.20.1,!=4.21.0,!=4.21.1,!=4.21.2,!=4.21.3,!=4.21.4,!=4.21.5,<4.0.0dev,>=3.19.5, but you have protobuf 4.25.8 which is incompatible.\r\n",
      "bigframes 1.42.0 requires rich<14,>=12.4.4, but you have rich 14.0.0 which is incompatible.\r\n",
      "google-spark-connect 0.5.2 requires google-api-core>=2.19.1, but you have google-api-core 1.34.1 which is incompatible.\r\n",
      "google-cloud-bigtable 2.30.0 requires google-api-core[grpc]<3.0.0,>=2.16.0, but you have google-api-core 1.34.1 which is incompatible.\r\n",
      "google-cloud-storage 2.19.0 requires google-api-core<3.0.0dev,>=2.15.0, but you have google-api-core 1.34.1 which is incompatible.\r\n",
      "pandas-gbq 0.28.0 requires google-api-core<3.0.0dev,>=2.10.2, but you have google-api-core 1.34.1 which is incompatible.\u001b[0m\u001b[31m\r\n",
      "\u001b[0mSuccessfully installed mediapipe-0.10.21 protobuf-4.25.8 sounddevice-0.5.2\r\n",
      "Note: you may need to restart the kernel to use updated packages.\n"
     ]
    }
   ],
   "source": [
    "pip install mediapipe"
   ]
  },
  {
   "cell_type": "code",
   "execution_count": 2,
   "id": "74eb648c",
   "metadata": {
    "_cell_guid": "b1076dfc-b9ad-4769-8c92-a6c4dae69d19",
    "_uuid": "8f2839f25d086af736a60e9eeb907d3b93b6e0e5",
    "execution": {
     "iopub.execute_input": "2025-07-06T18:56:16.223723Z",
     "iopub.status.busy": "2025-07-06T18:56:16.223133Z",
     "iopub.status.idle": "2025-07-06T18:56:30.446802Z",
     "shell.execute_reply": "2025-07-06T18:56:30.445989Z"
    },
    "papermill": {
     "duration": 14.238025,
     "end_time": "2025-07-06T18:56:30.448298",
     "exception": false,
     "start_time": "2025-07-06T18:56:16.210273",
     "status": "completed"
    },
    "tags": []
   },
   "outputs": [
    {
     "name": "stderr",
     "output_type": "stream",
     "text": [
      "2025-07-06 18:56:17.729278: E external/local_xla/xla/stream_executor/cuda/cuda_fft.cc:477] Unable to register cuFFT factory: Attempting to register factory for plugin cuFFT when one has already been registered\n",
      "WARNING: All log messages before absl::InitializeLog() is called are written to STDERR\n",
      "E0000 00:00:1751828177.914963      19 cuda_dnn.cc:8310] Unable to register cuDNN factory: Attempting to register factory for plugin cuDNN when one has already been registered\n",
      "E0000 00:00:1751828177.971656      19 cuda_blas.cc:1418] Unable to register cuBLAS factory: Attempting to register factory for plugin cuBLAS when one has already been registered\n"
     ]
    }
   ],
   "source": [
    "# install librarires\n",
    "import os\n",
    "import tensorflow as tf\n",
    "import numpy as np\n",
    "import random"
   ]
  },
  {
   "cell_type": "markdown",
   "id": "491ad602",
   "metadata": {
    "papermill": {
     "duration": 0.010764,
     "end_time": "2025-07-06T18:56:30.470455",
     "exception": false,
     "start_time": "2025-07-06T18:56:30.459691",
     "status": "completed"
    },
    "tags": []
   },
   "source": [
    "## ℹ️ Set Global Constants"
   ]
  },
  {
   "cell_type": "code",
   "execution_count": 3,
   "id": "385fa43d",
   "metadata": {
    "execution": {
     "iopub.execute_input": "2025-07-06T18:56:30.493502Z",
     "iopub.status.busy": "2025-07-06T18:56:30.493044Z",
     "iopub.status.idle": "2025-07-06T18:56:30.511640Z",
     "shell.execute_reply": "2025-07-06T18:56:30.510971Z"
    },
    "papermill": {
     "duration": 0.031328,
     "end_time": "2025-07-06T18:56:30.512704",
     "exception": false,
     "start_time": "2025-07-06T18:56:30.481376",
     "status": "completed"
    },
    "tags": []
   },
   "outputs": [
    {
     "name": "stdout",
     "output_type": "stream",
     "text": [
      "Precis Har Rgb\n",
      "There are total 16 classes, selected 16 classes\n",
      "Setting 30/class to train the model.\n",
      "Image size 128x128 with 5 sequence length\n",
      "Dropout rate: 0.5\n",
      "Train-Test split ratio 80/20\n",
      "Validation data from Train set 20.0%\n"
     ]
    }
   ],
   "source": [
    "# global variables\n",
    "# set dataset directories\n",
    "\n",
    "\n",
    "DATASET_DIR = \"/kaggle/input/precis-har-rgb\"\n",
    "DATASET_NAME = DATASET_DIR.split(\"/\")[-1].replace(\"-\", \" \").title()\n",
    "\n",
    "print(DATASET_NAME)\n",
    "\n",
    "ALL_CLASS_NAMES = os.listdir(DATASET_DIR)\n",
    "\n",
    "# Global constant variables -> \n",
    "NO_OF_CLASSES = 16\n",
    "CLASSES_LIST = ALL_CLASS_NAMES[:NO_OF_CLASSES]\n",
    "\n",
    "# Model Configuration\n",
    "IMAGE_HEIGHT, IMAGE_WIDTH = 128, 128\n",
    "SEQUENCE_LENGTH = 5\n",
    "\n",
    "# set drop out rate\n",
    "DROPOUT_RATE = 0.5\n",
    "\n",
    "# set datas\n",
    "MAX_VIDEO_PER_CLASS = 30\n",
    "\n",
    "# split dataset\n",
    "TEST_SIZE = 0.20\n",
    "\n",
    "# model fit parameters\n",
    "EPOCHS = 30\n",
    "BATCH_SIZE = 16\n",
    "VALIDATION_SPLIT = 0.20\n",
    "\n",
    "# augmentation values\n",
    "NOISE_FACTOR = 0.02\n",
    "SHEAR_X= 1\n",
    "SHEAR_Y= 1\n",
    "\n",
    "# give a name of the model to save\n",
    "MODEL_NAME = \"Xception\"\n",
    "\n",
    "print(f\"There are total {len(ALL_CLASS_NAMES)} classes, selected {NO_OF_CLASSES} classes\")\n",
    "print(f\"Setting {MAX_VIDEO_PER_CLASS}/class to train the model.\")\n",
    "print(f\"Image size {IMAGE_HEIGHT}x{IMAGE_WIDTH} with {SEQUENCE_LENGTH} sequence length\")\n",
    "print(f\"Dropout rate: {DROPOUT_RATE}\")\n",
    "print(f\"Train-Test split ratio {int((1-TEST_SIZE)*100)}/{int(TEST_SIZE*100)}\")\n",
    "print(f\"Validation data from Train set {VALIDATION_SPLIT*100}%\")"
   ]
  },
  {
   "cell_type": "markdown",
   "id": "fefeffe5",
   "metadata": {
    "papermill": {
     "duration": 0.010604,
     "end_time": "2025-07-06T18:56:30.534015",
     "exception": false,
     "start_time": "2025-07-06T18:56:30.523411",
     "status": "completed"
    },
    "tags": []
   },
   "source": [
    "## Set `Seed` Values"
   ]
  },
  {
   "cell_type": "code",
   "execution_count": 4,
   "id": "df8962dc",
   "metadata": {
    "execution": {
     "iopub.execute_input": "2025-07-06T18:56:30.556177Z",
     "iopub.status.busy": "2025-07-06T18:56:30.555993Z",
     "iopub.status.idle": "2025-07-06T18:56:30.559581Z",
     "shell.execute_reply": "2025-07-06T18:56:30.559032Z"
    },
    "papermill": {
     "duration": 0.015829,
     "end_time": "2025-07-06T18:56:30.560553",
     "exception": false,
     "start_time": "2025-07-06T18:56:30.544724",
     "status": "completed"
    },
    "tags": []
   },
   "outputs": [],
   "source": [
    "# set seeed to get similar values\n",
    "seed_constant = 27\n",
    "np.random.seed(seed_constant)\n",
    "random.seed(seed_constant)\n",
    "tf.random.set_seed(seed_constant)"
   ]
  },
  {
   "cell_type": "markdown",
   "id": "a740785e",
   "metadata": {
    "papermill": {
     "duration": 0.010509,
     "end_time": "2025-07-06T18:56:30.582283",
     "exception": false,
     "start_time": "2025-07-06T18:56:30.571774",
     "status": "completed"
    },
    "tags": []
   },
   "source": [
    "# 📌 Function Definition\n",
    "## Resize and Frame Extraction"
   ]
  },
  {
   "cell_type": "code",
   "execution_count": 5,
   "id": "bb255985",
   "metadata": {
    "execution": {
     "iopub.execute_input": "2025-07-06T18:56:30.646671Z",
     "iopub.status.busy": "2025-07-06T18:56:30.646437Z",
     "iopub.status.idle": "2025-07-06T18:56:30.656148Z",
     "shell.execute_reply": "2025-07-06T18:56:30.655446Z"
    },
    "papermill": {
     "duration": 0.022515,
     "end_time": "2025-07-06T18:56:30.657240",
     "exception": false,
     "start_time": "2025-07-06T18:56:30.634725",
     "status": "completed"
    },
    "tags": []
   },
   "outputs": [],
   "source": [
    "import cv2\n",
    "from concurrent.futures import ThreadPoolExecutor\n",
    "\n",
    "def resize_and_normalize_frame(frame, image_height, image_width):\n",
    "    try:\n",
    "        resized_frame = cv2.resize(frame, (image_width, image_height), interpolation=cv2.INTER_LINEAR)\n",
    "        normalized_frame = resized_frame / 255.0\n",
    "        return normalized_frame\n",
    "    except Exception as e:\n",
    "        print(f\"Error processing frame: {e}\")\n",
    "        return None\n",
    "\n",
    "def frames_extraction(video_path, \n",
    "                      sequence_length=SEQUENCE_LENGTH, \n",
    "                      image_height=IMAGE_HEIGHT, \n",
    "                      image_width=IMAGE_WIDTH):\n",
    "    # Declare a list to store video frames\n",
    "    frames_list = []\n",
    "\n",
    "    # Check if video file exists\n",
    "    if not os.path.exists(video_path):\n",
    "        print(f\"Error: Video file not found at {video_path}\")\n",
    "        return None\n",
    "\n",
    "    # Read the video file using VideoCapture with optimized settings\n",
    "    video_reader = cv2.VideoCapture(video_path, cv2.CAP_FFMPEG)\n",
    "\n",
    "    # Check if the video was opened successfully\n",
    "    if not video_reader.isOpened():\n",
    "        print(f\"Error: Could not open video file {video_path}\")\n",
    "        video_reader.release()\n",
    "        return None\n",
    "\n",
    "    # Get the total number of frames in the video\n",
    "    video_frames_count = int(video_reader.get(cv2.CAP_PROP_FRAME_COUNT))\n",
    "\n",
    "    # Ensure the video has enough frames\n",
    "    if video_frames_count < sequence_length:\n",
    "        print(f\"Warning: Video {video_path} has only {video_frames_count} frames, less than required {sequence_length}\")\n",
    "        video_reader.release()\n",
    "        return None\n",
    "\n",
    "    # Calculate the interval after which frames will be sampled\n",
    "    skip_frames_window = max(int(video_frames_count / sequence_length), 1)\n",
    "\n",
    "    # Pre-allocate frame indices to extract\n",
    "    frame_indices = [i * skip_frames_window for i in range(sequence_length)]\n",
    "\n",
    "    # Read and process frames in parallel\n",
    "    frames = []\n",
    "    for idx in frame_indices:\n",
    "        video_reader.set(cv2.CAP_PROP_POS_FRAMES, idx)\n",
    "        success, frame = video_reader.read()\n",
    "        if not success or frame is None:\n",
    "            print(f\"Warning: Failed to read frame at index {idx} from {video_path}\")\n",
    "            break\n",
    "        frame = cv2.cvtColor(frame, cv2.COLOR_BGR2RGB)\n",
    "        frames.append(frame)\n",
    "\n",
    "    # Release the VideoCapture object early\n",
    "    video_reader.release()\n",
    "\n",
    "    # Ensure the correct number of frames is read\n",
    "    if len(frames) != sequence_length:\n",
    "        print(f\"Warning: Read {len(frames)} frames instead of {sequence_length} from {video_path}\")\n",
    "        return None\n",
    "\n",
    "    # Process frames in parallel using ThreadPoolExecutor\n",
    "    with ThreadPoolExecutor() as executor:\n",
    "        processed_frames = list(executor.map(\n",
    "            lambda f: resize_and_normalize_frame(f, image_height, image_width), \n",
    "            frames\n",
    "        ))\n",
    "\n",
    "    # Check for any failed frame processing\n",
    "    if any(f is None for f in processed_frames):\n",
    "        print(f\"Warning: Some frames failed to process in {video_path}\")\n",
    "        return None\n",
    "\n",
    "    # Convert to NumPy array\n",
    "    frames_array = np.array(processed_frames, dtype=np.float32)\n",
    "\n",
    "    return frames_array"
   ]
  },
  {
   "cell_type": "code",
   "execution_count": 6,
   "id": "b14045e1",
   "metadata": {
    "execution": {
     "iopub.execute_input": "2025-07-06T18:56:30.679800Z",
     "iopub.status.busy": "2025-07-06T18:56:30.679591Z",
     "iopub.status.idle": "2025-07-06T18:56:30.682881Z",
     "shell.execute_reply": "2025-07-06T18:56:30.682168Z"
    },
    "papermill": {
     "duration": 0.015679,
     "end_time": "2025-07-06T18:56:30.683989",
     "exception": false,
     "start_time": "2025-07-06T18:56:30.668310",
     "status": "completed"
    },
    "tags": []
   },
   "outputs": [],
   "source": [
    " # # Iterate through all video files\n",
    " #        for file_name in files_list:\n",
    " #            video_file_path = os.path.join(class_path, file_name)\n",
    "\n",
    " #            # Extract frames using the updated frames_extraction function\n",
    " #            frames = frames_extraction(video_file_path, sequence_length, image_height, image_width)\n",
    "\n",
    " #            # Skip videos where frame extraction failed\n",
    " #            if frames is None:\n",
    " #                print(f\"Skipping video {video_file_path} due to frame extraction failure\")\n",
    " #                continue\n",
    "\n",
    " #            # Append the data to respective lists\n",
    " #            features.append(frames)\n",
    " #            labels.append(class_index)"
   ]
  },
  {
   "cell_type": "markdown",
   "id": "7d3eb912",
   "metadata": {
    "papermill": {
     "duration": 0.010647,
     "end_time": "2025-07-06T18:56:30.705549",
     "exception": false,
     "start_time": "2025-07-06T18:56:30.694902",
     "status": "completed"
    },
    "tags": []
   },
   "source": [
    "## Create Dataset"
   ]
  },
  {
   "cell_type": "code",
   "execution_count": 7,
   "id": "3810fde1",
   "metadata": {
    "execution": {
     "iopub.execute_input": "2025-07-06T18:56:30.727711Z",
     "iopub.status.busy": "2025-07-06T18:56:30.727529Z",
     "iopub.status.idle": "2025-07-06T18:56:30.733782Z",
     "shell.execute_reply": "2025-07-06T18:56:30.733282Z"
    },
    "papermill": {
     "duration": 0.018641,
     "end_time": "2025-07-06T18:56:30.734790",
     "exception": false,
     "start_time": "2025-07-06T18:56:30.716149",
     "status": "completed"
    },
    "tags": []
   },
   "outputs": [],
   "source": [
    "# RUN create dataset function definition\n",
    "def create_dataset(dataset_dir,\n",
    "                   classes_list, \n",
    "                   sequence_length=SEQUENCE_LENGTH, \n",
    "                   image_height=IMAGE_HEIGHT, \n",
    "                   image_width=IMAGE_WIDTH, \n",
    "                   max_videos_per_class=None,\n",
    "                   augmentations=False\n",
    "                  ):\n",
    "    \n",
    "    # Initialize lists to store features, labels, and video file paths\n",
    "    videos = []\n",
    "    labels = []\n",
    "\n",
    "    # Check if dataset directory exists\n",
    "    if not os.path.exists(dataset_dir):\n",
    "        raise FileNotFoundError(f\"Dataset directory not found: {dataset_dir}\")\n",
    "\n",
    "    # Iterate through all classes in the classes list\n",
    "    for class_index, class_name in enumerate(classes_list):\n",
    "        class_path = os.path.join(dataset_dir, class_name)\n",
    "        \n",
    "        # Check if class directory exists\n",
    "        if not os.path.exists(class_path):\n",
    "            print(f\"Warning: Class directory not found: {class_path}\")\n",
    "            continue\n",
    "\n",
    "        print(f'Class: {class_name}')\n",
    "\n",
    "        # Get the list of video files in the class directory\n",
    "        files_list = os.listdir(class_path)\n",
    "\n",
    "        # Limit the number of videos if specified\n",
    "        if max_videos_per_class is not None:\n",
    "            files_list = files_list[:max_videos_per_class]\n",
    "\n",
    "        # Iterate through all video files\n",
    "        for (index, file_name) in enumerate(files_list):\n",
    "            video_file_path = os.path.join(class_path, file_name)\n",
    "\n",
    "            if index == (len(files_list)-1):\n",
    "                print(f'Extracting frames from file {index+1}: {file_name}', flush=True)\n",
    "            else:\n",
    "                print(f'Extracting frames from file {index+1}: {file_name}', end=\"\\r\", flush=True)\n",
    "            \n",
    "            # Extract frames using the updated frames_extraction function\n",
    "            frames = frames_extraction(video_file_path, \n",
    "                                       sequence_length, \n",
    "                                       image_height, \n",
    "                                       image_width)\n",
    "\n",
    "            # Skip videos where frame extraction failed\n",
    "            if frames is None:\n",
    "                print(f\"Skipping video {video_file_path} due to frame extraction failure\")\n",
    "                continue\n",
    "\n",
    "            # Append the data to respective lists\n",
    "            videos.append(frames)\n",
    "            labels.append(class_index)\n",
    "\n",
    "    # Convert lists to numpy arrays\n",
    "    if not videos:\n",
    "        raise ValueError(\"No valid videos were processed. Check dataset or parameters.\")\n",
    "    videos = np.asarray(videos)\n",
    "    labels = np.array(labels)\n",
    "\n",
    "    print(f\"Dataset created with {len(videos)} videos\")\n",
    "    print(f\"Features shape: {videos.shape}\")\n",
    "    print(f\"Labels shape: {labels.shape}\")\n",
    "\n",
    "    return videos, labels"
   ]
  },
  {
   "cell_type": "markdown",
   "id": "ff98793f",
   "metadata": {
    "papermill": {
     "duration": 0.010608,
     "end_time": "2025-07-06T18:56:30.756362",
     "exception": false,
     "start_time": "2025-07-06T18:56:30.745754",
     "status": "completed"
    },
    "tags": []
   },
   "source": [
    "## 🪄 Video Data Generator"
   ]
  },
  {
   "cell_type": "code",
   "execution_count": 8,
   "id": "a4dcf810",
   "metadata": {
    "execution": {
     "iopub.execute_input": "2025-07-06T18:56:30.779455Z",
     "iopub.status.busy": "2025-07-06T18:56:30.779266Z",
     "iopub.status.idle": "2025-07-06T18:56:30.840181Z",
     "shell.execute_reply": "2025-07-06T18:56:30.839702Z"
    },
    "papermill": {
     "duration": 0.074187,
     "end_time": "2025-07-06T18:56:30.841318",
     "exception": false,
     "start_time": "2025-07-06T18:56:30.767131",
     "status": "completed"
    },
    "tags": []
   },
   "outputs": [],
   "source": [
    "from tensorflow.keras.utils import Sequence, to_categorical\n",
    "import tensorflow as tf\n",
    "import numpy as np\n",
    "import cv2\n",
    "\n",
    "\n",
    "\n",
    "\n",
    "class VideoDataGenerator(Sequence):\n",
    "    def __init__(self, videos, labels, batch_size, is_training=False):\n",
    "        self.videos = list(videos)  # List of video file paths\n",
    "        self.labels = list(labels)  # List or array of labels encoded\n",
    "        self.batch_size = batch_size\n",
    "        self.indices = np.arange(len(self.videos))  # For shuffling\n",
    "        self.is_training = is_training  # Flag to control whether augmentation is applied\n",
    "        self.temp_videos=[]\n",
    "        self.temp_labels=[]\n",
    "        \n",
    "        \n",
    "        print(f\"Total {len(videos)} videos and {len(labels)} classes\")\n",
    "\n",
    "    def __len__(self):\n",
    "        # Return the number of batches per epoch\n",
    "        return int(np.ceil(len(self.videos) / self.batch_size))\n",
    "\n",
    "    def __getitem__(self, idx):\n",
    "        # Get batch indices\n",
    "        batch_indices = self.indices[idx * self.batch_size:(idx + 1) * self.batch_size]\n",
    "        \n",
    "        # Handle case where batch_indices is empty\n",
    "        if len(batch_indices) == 0:\n",
    "            return np.array([], dtype=np.float32), np.array([], dtype=np.float32)\n",
    "        \n",
    "        # Initialize lists to store frames and labels\n",
    "        all_frames = []\n",
    "        all_labels = []\n",
    "        \n",
    "        # Process each video in the batch\n",
    "        for i, index in enumerate(batch_indices):\n",
    "            sequence = self.videos[index]\n",
    "            label = self.labels[index]\n",
    "            \n",
    "            # Append the sequence and label\n",
    "            all_frames.append(sequence)\n",
    "            all_labels.append(label)\n",
    "        \n",
    "        # Convert to numpy arrays\n",
    "        all_frames = np.array(all_frames, dtype=np.float32)\n",
    "        all_labels = np.array(all_labels)\n",
    "            \n",
    "        \n",
    "        return all_frames, all_labels\n",
    "    def add(self, new_videos, new_labels):\n",
    "        self.temp_videos.extend(new_videos)\n",
    "        self.temp_labels.extend(new_labels)\n",
    "    \n",
    "    def confirm(self):\n",
    "        self.videos.extend(self.temp_videos)\n",
    "        self.labels.extend(self.temp_labels)\n",
    "        print(f\"Successfully added - {len(self.temp_videos)} videos and {len(self.temp_labels)} classes.\")\n",
    "        self.temp_videos=[]\n",
    "        self.temp_labels=[]\n",
    "        self.indices = np.arange(len(self.videos))\n",
    "        print(f\"Now Total - {len(self.videos)} videos and {len(self.labels)} classes.\")\n",
    "        print(f\"PENDING for Augmentations - {len(self.temp_videos)} videos and {len(self.temp_labels)} classes.\")\n",
    "        \n",
    "    def replace_original(self):\n",
    "        self.videos=self.temp_videos\n",
    "        self.labels=self.temp_labels\n",
    "        self.temp_videos=[]\n",
    "        self.temp_labels=[]\n",
    "        print(f\"Successfully replaced, total original videos - {len(self.videos)} and augmented videos {len(self.temp_videos)}\")\n",
    "        \n",
    "    def on_epoch_end(self):\n",
    "        # Shuffle indices at the end of each epoch\n",
    "        np.random.shuffle(self.indices)\n",
    "\n",
    "    def as_dataset(self):\n",
    "        def generator():\n",
    "            for idx in range(len(self)):\n",
    "                frames, labels = self[idx]\n",
    "                # Skip empty batches\n",
    "                if frames.size == 0:\n",
    "                    continue\n",
    "                yield frames, labels\n",
    "        self.labels=np.array(self.labels)\n",
    "    \n",
    "        # Create a tf.data.Dataset\n",
    "        dataset = tf.data.Dataset.from_generator(\n",
    "            generator,\n",
    "            output_types=(tf.float32, tf.float32),\n",
    "            output_shapes=(\n",
    "                (None, SEQUENCE_LENGTH, IMAGE_HEIGHT, IMAGE_WIDTH, 3),\n",
    "                (None, NO_OF_CLASSES)\n",
    "            )\n",
    "        )\n",
    "        dataset = dataset.prefetch(tf.data.AUTOTUNE)\n",
    "        return dataset"
   ]
  },
  {
   "cell_type": "markdown",
   "id": "a38b32d5",
   "metadata": {
    "papermill": {
     "duration": 0.010802,
     "end_time": "2025-07-06T18:56:30.863099",
     "exception": false,
     "start_time": "2025-07-06T18:56:30.852297",
     "status": "completed"
    },
    "tags": []
   },
   "source": [
    "## 🔥 Segmentation using N-Frames Ensemble"
   ]
  },
  {
   "cell_type": "code",
   "execution_count": 9,
   "id": "46d2f75d",
   "metadata": {
    "execution": {
     "iopub.execute_input": "2025-07-06T18:56:30.885464Z",
     "iopub.status.busy": "2025-07-06T18:56:30.885285Z",
     "iopub.status.idle": "2025-07-06T18:56:31.119475Z",
     "shell.execute_reply": "2025-07-06T18:56:31.118489Z"
    },
    "papermill": {
     "duration": 0.24678,
     "end_time": "2025-07-06T18:56:31.120723",
     "exception": false,
     "start_time": "2025-07-06T18:56:30.873943",
     "status": "completed"
    },
    "tags": []
   },
   "outputs": [
    {
     "name": "stdout",
     "output_type": "stream",
     "text": [
      "MediaPipe initialized successfully\n"
     ]
    },
    {
     "name": "stderr",
     "output_type": "stream",
     "text": [
      "INFO: Created TensorFlow Lite XNNPACK delegate for CPU.\n"
     ]
    }
   ],
   "source": [
    "import cv2\n",
    "import numpy as np\n",
    "from collections import deque\n",
    "import mediapipe as mp\n",
    "\n",
    "# Parameters\n",
    "N_FRAMES = 5  # Number of frames for ensemble\n",
    "THRESHOLD = 0.2  # Segmentation confidence threshold\n",
    "\n",
    "def initialize_segmentor():\n",
    "    \"\"\"Initialize MediaPipe Selfie Segmentation with error handling.\"\"\"\n",
    "    try:\n",
    "        mp_selfie_segmentation = mp.solutions.selfie_segmentation\n",
    "        segmentor = mp_selfie_segmentation.SelfieSegmentation(model_selection=1)  # 1 for general model\n",
    "        print(\"MediaPipe initialized successfully\")\n",
    "        return segmentor\n",
    "    except Exception as e:\n",
    "        print(f\"Failed to initialize MediaPipe: {e}\")\n",
    "        return None\n",
    "\n",
    "# Initialize segmentor\n",
    "segmentor = initialize_segmentor()\n",
    "\n",
    "\n",
    "def segmentation_frames(sequence):\n",
    "    \"\"\"Process a sequence of frames with N-frame ensemble segmentation.\"\"\"\n",
    "    # Input sequence: (sequence_length, height, width, 3), values in [0, 1]\n",
    "    sequence_length, height, width, _ = sequence.shape\n",
    "    segmented_sequence = np.zeros_like(sequence, dtype=np.float32)\n",
    "    \n",
    "    if segmentor is None:\n",
    "        print(\"Returning original sequence due to initialization failure\")\n",
    "        return sequence  # Fallback to original sequence\n",
    "    # Queue to store segmentation masks\n",
    "    mask_queue = deque(maxlen=N_FRAMES)\n",
    "    \n",
    "    # Kernel for morphological operations\n",
    "    kernel = cv2.getStructuringElement(cv2.MORPH_ELLIPSE, (5, 5))\n",
    "    \n",
    "    for t in range(sequence_length):\n",
    "        try:\n",
    "            # Convert frame to uint8 for MediaPipe\n",
    "            frame = (sequence[t] * 255).astype(np.uint8)\n",
    "            \n",
    "            # Process frame with MediaPipe\n",
    "            results = segmentor.process(frame)\n",
    "            if results.segmentation_mask is None:\n",
    "                print(f\"Warning: No mask returned for frame {t}\")\n",
    "                mask = np.zeros((height, width), dtype=np.float32)\n",
    "            else:\n",
    "                mask = results.segmentation_mask  # Shape: (height, width), values in [0, 1]\n",
    "            \n",
    "            # Add mask to queue\n",
    "            mask_queue.append(mask)\n",
    "            \n",
    "            # Compute ensemble mask by averaging (if enough frames)\n",
    "            ensemble_mask = np.mean(np.array(mask_queue), axis=0) if len(mask_queue) > 1 else mask\n",
    "            \n",
    "            # Binarize the ensemble mask\n",
    "            binary_mask = (ensemble_mask > THRESHOLD).astype(np.uint8)\n",
    "            \n",
    "            # Refine the mask using morphological operations\n",
    "            binary_mask = cv2.morphologyEx(binary_mask, cv2.MORPH_CLOSE, kernel)\n",
    "            binary_mask = cv2.morphologyEx(binary_mask, cv2.MORPH_OPEN, kernel)\n",
    "            \n",
    "            # Convert binary mask to 3 channels\n",
    "            mask_3ch = np.stack([binary_mask] * 3, axis=-1)  # Shape: (height, width, 3)\n",
    "            \n",
    "            # Apply mask to isolate human subject (set background to black)\n",
    "            segmented_frame = frame * mask_3ch\n",
    "            \n",
    "            # Normalize back to [0, 1]\n",
    "            segmented_sequence[t] = segmented_frame / 255.0\n",
    "        \n",
    "        except Exception as e:\n",
    "            print(f\"Error processing frame {t}: {e}\")\n",
    "            segmented_sequence[t] = sequence[t]  # Fallback to original frame\n",
    "    \n",
    "    return segmented_sequence"
   ]
  },
  {
   "cell_type": "markdown",
   "id": "4794bf1f",
   "metadata": {
    "papermill": {
     "duration": 0.01092,
     "end_time": "2025-07-06T18:56:31.143320",
     "exception": false,
     "start_time": "2025-07-06T18:56:31.132400",
     "status": "completed"
    },
    "tags": []
   },
   "source": [
    "## 💫 Augmentation Helper function"
   ]
  },
  {
   "cell_type": "code",
   "execution_count": 10,
   "id": "216f7c38",
   "metadata": {
    "execution": {
     "iopub.execute_input": "2025-07-06T18:56:31.166831Z",
     "iopub.status.busy": "2025-07-06T18:56:31.166611Z",
     "iopub.status.idle": "2025-07-06T18:56:31.171738Z",
     "shell.execute_reply": "2025-07-06T18:56:31.170919Z"
    },
    "papermill": {
     "duration": 0.017947,
     "end_time": "2025-07-06T18:56:31.172784",
     "exception": false,
     "start_time": "2025-07-06T18:56:31.154837",
     "status": "completed"
    },
    "tags": []
   },
   "outputs": [
    {
     "name": "stderr",
     "output_type": "stream",
     "text": [
      "WARNING: All log messages before absl::InitializeLog() is called are written to STDERR\n",
      "W0000 00:00:1751828191.123596      69 inference_feedback_manager.cc:114] Feedback manager requires a model with a single signature inference. Disabling support for feedback tensors.\n"
     ]
    }
   ],
   "source": [
    "def apply_augmentation(augmentation_function, generator, confirm=False, *args, **kwargs):\n",
    "    count=0\n",
    "    for i in range(len(generator)):\n",
    "        batch_videos, batch_labels = generator[i]\n",
    "        augmented_videos=[]\n",
    "        for videos in batch_videos:\n",
    "            count=count+1\n",
    "            augmented_videos.append(augmentation_function(videos, *args, **kwargs))\n",
    "            print(f\"Adding {count} new videos...\", end=\"\\r\", flush=True)\n",
    "        generator.add(augmented_videos, batch_labels)\n",
    "    \n",
    "    print(f\"Total {len(generator.temp_videos)} augmented videos generated\")\n",
    "    if confirm:\n",
    "        generator.confirm()\n",
    "    else:\n",
    "        print(\"Ready to be merged with original videos...\")"
   ]
  },
  {
   "cell_type": "markdown",
   "id": "9131031b",
   "metadata": {
    "papermill": {
     "duration": 0.012552,
     "end_time": "2025-07-06T18:56:31.196642",
     "exception": false,
     "start_time": "2025-07-06T18:56:31.184090",
     "status": "completed"
    },
    "tags": []
   },
   "source": [
    "### Show Frames"
   ]
  },
  {
   "cell_type": "code",
   "execution_count": 11,
   "id": "99b1b858",
   "metadata": {
    "execution": {
     "iopub.execute_input": "2025-07-06T18:56:31.223823Z",
     "iopub.status.busy": "2025-07-06T18:56:31.223072Z",
     "iopub.status.idle": "2025-07-06T18:56:31.227505Z",
     "shell.execute_reply": "2025-07-06T18:56:31.226853Z"
    },
    "papermill": {
     "duration": 0.019225,
     "end_time": "2025-07-06T18:56:31.228734",
     "exception": false,
     "start_time": "2025-07-06T18:56:31.209509",
     "status": "completed"
    },
    "tags": []
   },
   "outputs": [],
   "source": [
    "# show frame def\n",
    "import matplotlib.pyplot as plt\n",
    "\n",
    "def show_frame(frame):\n",
    "    plt.figure(figsize=(3,3))\n",
    "    plt.imshow(frame)\n",
    "    plt.axis(\"off\")\n",
    "    plt.tight_layout()"
   ]
  },
  {
   "cell_type": "markdown",
   "id": "79a633c9",
   "metadata": {
    "papermill": {
     "duration": 0.012792,
     "end_time": "2025-07-06T18:56:31.254538",
     "exception": false,
     "start_time": "2025-07-06T18:56:31.241746",
     "status": "completed"
    },
    "tags": []
   },
   "source": [
    "### Helper Function"
   ]
  },
  {
   "cell_type": "code",
   "execution_count": 12,
   "id": "883d974e",
   "metadata": {
    "execution": {
     "iopub.execute_input": "2025-07-06T18:56:31.281482Z",
     "iopub.status.busy": "2025-07-06T18:56:31.281161Z",
     "iopub.status.idle": "2025-07-06T18:56:31.285782Z",
     "shell.execute_reply": "2025-07-06T18:56:31.285167Z"
    },
    "papermill": {
     "duration": 0.01952,
     "end_time": "2025-07-06T18:56:31.286981",
     "exception": false,
     "start_time": "2025-07-06T18:56:31.267461",
     "status": "completed"
    },
    "tags": []
   },
   "outputs": [],
   "source": [
    "def show_frame_vs(frame1, frame2, title1=\"Frame 1\", title2=\"Frame 2\"):\n",
    "    plt.figure(figsize=(10, 5))\n",
    "\n",
    "    # First frame\n",
    "    plt.subplot(1, 2, 1)\n",
    "    plt.imshow(frame1)\n",
    "    plt.title(title1)\n",
    "    plt.axis('off')\n",
    "\n",
    "    # Second frame\n",
    "    plt.subplot(1, 2, 2)\n",
    "    plt.imshow(frame2)\n",
    "    plt.title(title2)\n",
    "    plt.axis('off')\n",
    "\n",
    "    plt.tight_layout()\n",
    "    plt.show()"
   ]
  },
  {
   "cell_type": "code",
   "execution_count": 13,
   "id": "87ea6cf3",
   "metadata": {
    "execution": {
     "iopub.execute_input": "2025-07-06T18:56:31.313206Z",
     "iopub.status.busy": "2025-07-06T18:56:31.312980Z",
     "iopub.status.idle": "2025-07-06T18:56:31.316800Z",
     "shell.execute_reply": "2025-07-06T18:56:31.316278Z"
    },
    "papermill": {
     "duration": 0.018153,
     "end_time": "2025-07-06T18:56:31.317910",
     "exception": false,
     "start_time": "2025-07-06T18:56:31.299757",
     "status": "completed"
    },
    "tags": []
   },
   "outputs": [],
   "source": [
    "# reusable video loop helper function\n",
    "def apply_function(function, videos, *arg, **kwargs):\n",
    "    new_videos=[]\n",
    "    \n",
    "    for video in videos:\n",
    "        new_videos.append(function(video, *arg, **kwargs))\n",
    "        \n",
    "    return new_videos"
   ]
  },
  {
   "cell_type": "code",
   "execution_count": 14,
   "id": "54924819",
   "metadata": {
    "execution": {
     "iopub.execute_input": "2025-07-06T18:56:31.342020Z",
     "iopub.status.busy": "2025-07-06T18:56:31.341819Z",
     "iopub.status.idle": "2025-07-06T18:56:31.345836Z",
     "shell.execute_reply": "2025-07-06T18:56:31.345165Z"
    },
    "papermill": {
     "duration": 0.016912,
     "end_time": "2025-07-06T18:56:31.346847",
     "exception": false,
     "start_time": "2025-07-06T18:56:31.329935",
     "status": "completed"
    },
    "tags": []
   },
   "outputs": [],
   "source": [
    "# reusable video loop helper function\n",
    "def apply(function, videos, labels, *arg, **kwargs):\n",
    "    new_videos=[]\n",
    "    new_labels=[]\n",
    "    combined=zip(labels, videos)\n",
    "    \n",
    "    for label, video in combined:\n",
    "        new_videos.append(function(video, *arg, **kwargs))\n",
    "        new_labels.append(label)\n",
    "        \n",
    "    new_videos=np.asarray(new_videos)\n",
    "    new_labels=np.asarray(new_labels)\n",
    "    \n",
    "    return new_videos, new_labels"
   ]
  },
  {
   "cell_type": "markdown",
   "id": "d5d467ee",
   "metadata": {
    "papermill": {
     "duration": 0.011788,
     "end_time": "2025-07-06T18:56:31.369971",
     "exception": false,
     "start_time": "2025-07-06T18:56:31.358183",
     "status": "completed"
    },
    "tags": []
   },
   "source": [
    "## Salt and Pepper Noise "
   ]
  },
  {
   "cell_type": "code",
   "execution_count": 15,
   "id": "785869dc",
   "metadata": {
    "execution": {
     "iopub.execute_input": "2025-07-06T18:56:31.392634Z",
     "iopub.status.busy": "2025-07-06T18:56:31.392433Z",
     "iopub.status.idle": "2025-07-06T18:56:31.396757Z",
     "shell.execute_reply": "2025-07-06T18:56:31.395904Z"
    },
    "papermill": {
     "duration": 0.01709,
     "end_time": "2025-07-06T18:56:31.397921",
     "exception": false,
     "start_time": "2025-07-06T18:56:31.380831",
     "status": "completed"
    },
    "tags": []
   },
   "outputs": [],
   "source": [
    "# Noise function def\n",
    "\n",
    "def noise_video(video,noise_factor=NOISE_FACTOR):\n",
    "    noisy_video=[]\n",
    "    for frame in video:\n",
    "        # Generate random noise\n",
    "        noise = np.random.rand(*frame.shape)  # Generate random noise\n",
    "        salt_pepper_noise = np.random.choice([0, 1], size=frame.shape, p=[1-noise_factor, noise_factor])\n",
    "        noisy_frame = frame * (1 - salt_pepper_noise) + salt_pepper_noise * np.random.rand(*frame.shape)\n",
    "        noisy_video.append(noisy_frame)\n",
    "    return np.array(noisy_video)"
   ]
  },
  {
   "cell_type": "markdown",
   "id": "80386c45",
   "metadata": {
    "papermill": {
     "duration": 0.012825,
     "end_time": "2025-07-06T18:56:31.423937",
     "exception": false,
     "start_time": "2025-07-06T18:56:31.411112",
     "status": "completed"
    },
    "tags": []
   },
   "source": [
    "## Horizontal Flip"
   ]
  },
  {
   "cell_type": "code",
   "execution_count": 16,
   "id": "7172f53b",
   "metadata": {
    "execution": {
     "iopub.execute_input": "2025-07-06T18:56:31.449011Z",
     "iopub.status.busy": "2025-07-06T18:56:31.448785Z",
     "iopub.status.idle": "2025-07-06T18:56:31.452022Z",
     "shell.execute_reply": "2025-07-06T18:56:31.451558Z"
    },
    "papermill": {
     "duration": 0.016491,
     "end_time": "2025-07-06T18:56:31.453057",
     "exception": false,
     "start_time": "2025-07-06T18:56:31.436566",
     "status": "completed"
    },
    "tags": []
   },
   "outputs": [],
   "source": [
    "# horizontal flip function def\n",
    "# Testing Flip feautes[0] -> first video\n",
    "def horizontal_flip(video):\n",
    "    return [tf.image.flip_left_right(frame) for frame in video]"
   ]
  },
  {
   "cell_type": "markdown",
   "id": "2a3f14fd",
   "metadata": {
    "papermill": {
     "duration": 0.010691,
     "end_time": "2025-07-06T18:56:31.475302",
     "exception": false,
     "start_time": "2025-07-06T18:56:31.464611",
     "status": "completed"
    },
    "tags": []
   },
   "source": [
    "## Random Shear"
   ]
  },
  {
   "cell_type": "code",
   "execution_count": 17,
   "id": "8187d63d",
   "metadata": {
    "execution": {
     "iopub.execute_input": "2025-07-06T18:56:31.498146Z",
     "iopub.status.busy": "2025-07-06T18:56:31.497953Z",
     "iopub.status.idle": "2025-07-06T18:56:31.503629Z",
     "shell.execute_reply": "2025-07-06T18:56:31.503102Z"
    },
    "papermill": {
     "duration": 0.018394,
     "end_time": "2025-07-06T18:56:31.504533",
     "exception": false,
     "start_time": "2025-07-06T18:56:31.486139",
     "status": "completed"
    },
    "tags": []
   },
   "outputs": [],
   "source": [
    "# random shear function def\n",
    "import numpy as np\n",
    "import tensorflow as tf\n",
    "from scipy.ndimage import affine_transform\n",
    "\n",
    "def apply_shear_frames(frames, shear_right):\n",
    "    return [apply_shear(frame, shear_right) for frame in frames]\n",
    "\n",
    "def apply_shear(frame, shear_right=0):\n",
    "    frame_resized = tf.image.resize(frame, (IMAGE_HEIGHT, IMAGE_WIDTH)).numpy()\n",
    "    if shear_right:\n",
    "        shear_x = 0.09\n",
    "        shear_y = 0.1\n",
    "    else:\n",
    "        shear_x = -0.09\n",
    "        shear_y = 0.3\n",
    "    # Construct the affine matrix for scipy: inverse of the transformation matrix\n",
    "    # scipy applies the inverse transform matrix\n",
    "    shear_matrix = np.array([\n",
    "        [1, shear_x, 0],\n",
    "        [shear_y, 1, 0],\n",
    "        [0, 0, 1]\n",
    "    ], dtype=np.float32)\n",
    "\n",
    "    # Extract 2x2 part for affine_transform\n",
    "    matrix = shear_matrix[:2, :2]\n",
    "\n",
    "    # Offset (no translation)\n",
    "    offset = [0, 0]\n",
    "\n",
    "    # Apply affine transform on each channel separately\n",
    "    sheared = np.zeros_like(frame_resized)\n",
    "    for c in range(3):\n",
    "        sheared[..., c] = affine_transform(\n",
    "            frame_resized[..., c],\n",
    "            matrix=matrix,\n",
    "            offset=offset,\n",
    "            order=1,          # bilinear interpolation\n",
    "            mode='nearest'    # fill_mode\n",
    "        )\n",
    "    return sheared"
   ]
  },
  {
   "cell_type": "markdown",
   "id": "da4cbfd6",
   "metadata": {
    "papermill": {
     "duration": 0.010793,
     "end_time": "2025-07-06T18:56:31.526141",
     "exception": false,
     "start_time": "2025-07-06T18:56:31.515348",
     "status": "completed"
    },
    "tags": []
   },
   "source": [
    "# 📌 Model Related\n",
    "## 🗼 Model Architecture `create_model`"
   ]
  },
  {
   "cell_type": "code",
   "execution_count": 18,
   "id": "255248b7",
   "metadata": {
    "execution": {
     "iopub.execute_input": "2025-07-06T18:56:31.549355Z",
     "iopub.status.busy": "2025-07-06T18:56:31.548651Z",
     "iopub.status.idle": "2025-07-06T18:56:31.560678Z",
     "shell.execute_reply": "2025-07-06T18:56:31.560124Z"
    },
    "papermill": {
     "duration": 0.024706,
     "end_time": "2025-07-06T18:56:31.561733",
     "exception": false,
     "start_time": "2025-07-06T18:56:31.537027",
     "status": "completed"
    },
    "tags": []
   },
   "outputs": [],
   "source": [
    "from tensorflow.keras.applications import Xception\n",
    "from tensorflow.keras.models import Sequential\n",
    "from tensorflow.keras.layers import GlobalAveragePooling2D, TimeDistributed, Bidirectional, LSTM, Dropout, Dense, BatchNormalization\n",
    "from tensorflow.keras.regularizers import l2\n",
    "\n",
    "def create_model(sequence_length, image_height, image_width, classes_list=None, dropout_rate=0.5):\n",
    "    if classes_list is None:\n",
    "        raise ValueError(\"classes_list must be provided to define the output layer size\")\n",
    "\n",
    "    try:\n",
    "        # Load Xception model with pre-trained ImageNet weights\n",
    "        print(\"Loading Xception base model...\")\n",
    "        xception = Xception(\n",
    "            weights='imagenet',\n",
    "            include_top=False,\n",
    "            input_shape=(image_height, image_width, 3),\n",
    "            name=\"Xception\"\n",
    "        )\n",
    "        \n",
    "        # Define the Sequential model\n",
    "        model = Sequential([\n",
    "            # TimeDistributed Xception model\n",
    "            TimeDistributed(\n",
    "                xception,\n",
    "                input_shape=(sequence_length, image_height, image_width, 3),\n",
    "                name=\"time_distributed\"\n",
    "            ),\n",
    "            # TimeDistributed GlobalAveragePooling2D\n",
    "            TimeDistributed(GlobalAveragePooling2D(), name=\"time_distributed_1\"),\n",
    "            # Bidirectional LSTM layer with 256 units (512 / 2 to maintain similar parameter count)\n",
    "            Bidirectional(\n",
    "                LSTM(256, activation=\"tanh\", return_sequences=False, kernel_regularizer=l2(0.01)),\n",
    "                name=\"bilstm\"\n",
    "            ),\n",
    "            BatchNormalization(name=\"batch_normalization\"),\n",
    "            # Dropout after BiLSTM\n",
    "            Dropout(dropout_rate, name=\"dropout_bilstm\"),\n",
    "            # Dense layer with 512 units\n",
    "            Dense(512, activation=\"relu\", kernel_regularizer=l2(0.01), name=\"dense\"),\n",
    "            # Dropout after Dense\n",
    "            Dropout(dropout_rate + 0.1, name=\"dropout_dense\"),\n",
    "            # Output Dense layer with softmax activation\n",
    "            Dense(len(classes_list), activation=\"softmax\", name=\"dense_1\")\n",
    "        ])\n",
    "\n",
    "        # Print model summary\n",
    "        print(\"Model architecture with BiLSTM created successfully!\")\n",
    "        model.summary()\n",
    "\n",
    "        return model\n",
    "\n",
    "    except Exception as e:\n",
    "        print(f\"Error creating model: {e}\")\n",
    "        return None"
   ]
  },
  {
   "cell_type": "code",
   "execution_count": 19,
   "id": "dc370d07",
   "metadata": {
    "execution": {
     "iopub.execute_input": "2025-07-06T18:56:31.584424Z",
     "iopub.status.busy": "2025-07-06T18:56:31.584188Z",
     "iopub.status.idle": "2025-07-06T18:56:35.125362Z",
     "shell.execute_reply": "2025-07-06T18:56:35.124541Z"
    },
    "papermill": {
     "duration": 3.553724,
     "end_time": "2025-07-06T18:56:35.126653",
     "exception": false,
     "start_time": "2025-07-06T18:56:31.572929",
     "status": "completed"
    },
    "tags": []
   },
   "outputs": [
    {
     "name": "stdout",
     "output_type": "stream",
     "text": [
      "Pre-loading Xception weights...\n"
     ]
    },
    {
     "name": "stderr",
     "output_type": "stream",
     "text": [
      "I0000 00:00:1751828192.607968      19 gpu_device.cc:2022] Created device /job:localhost/replica:0/task:0/device:GPU:0 with 13942 MB memory:  -> device: 0, name: Tesla T4, pci bus id: 0000:00:04.0, compute capability: 7.5\n",
      "I0000 00:00:1751828192.608739      19 gpu_device.cc:2022] Created device /job:localhost/replica:0/task:0/device:GPU:1 with 13942 MB memory:  -> device: 1, name: Tesla T4, pci bus id: 0000:00:05.0, compute capability: 7.5\n"
     ]
    },
    {
     "name": "stdout",
     "output_type": "stream",
     "text": [
      "Downloading data from https://storage.googleapis.com/tensorflow/keras-applications/xception/xception_weights_tf_dim_ordering_tf_kernels_notop.h5\n",
      "\u001b[1m83683744/83683744\u001b[0m \u001b[32m━━━━━━━━━━━━━━━━━━━━\u001b[0m\u001b[37m\u001b[0m \u001b[1m0s\u001b[0m 0us/step\n",
      "Weights loaded successfully!\n"
     ]
    }
   ],
   "source": [
    "# donwload model weights\n",
    "from tensorflow.keras.applications import Xception\n",
    "print(\"Pre-loading Xception weights...\")\n",
    "base_model = Xception(weights='imagenet', include_top=False, input_shape=(IMAGE_HEIGHT, IMAGE_WIDTH, 3))\n",
    "print(\"Weights loaded successfully!\")"
   ]
  },
  {
   "cell_type": "markdown",
   "id": "6db68303",
   "metadata": {
    "papermill": {
     "duration": 0.012033,
     "end_time": "2025-07-06T18:56:35.151202",
     "exception": false,
     "start_time": "2025-07-06T18:56:35.139169",
     "status": "completed"
    },
    "tags": []
   },
   "source": [
    "# 📌 Execution\n",
    "## Creating Dataset\n",
    "The following functions are executed\n",
    "- `frame extraction`\n",
    "- `resize`\n",
    "\n",
    "which returns:\n",
    "- `features` - `np.array` of all the videos\n",
    "- `labels` - `np.array` of all the class labels"
   ]
  },
  {
   "cell_type": "code",
   "execution_count": 20,
   "id": "d50193dd",
   "metadata": {
    "execution": {
     "iopub.execute_input": "2025-07-06T18:56:35.174993Z",
     "iopub.status.busy": "2025-07-06T18:56:35.174790Z",
     "iopub.status.idle": "2025-07-06T19:02:00.835847Z",
     "shell.execute_reply": "2025-07-06T19:02:00.834881Z"
    },
    "papermill": {
     "duration": 325.674534,
     "end_time": "2025-07-06T19:02:00.837199",
     "exception": false,
     "start_time": "2025-07-06T18:56:35.162665",
     "status": "completed"
    },
    "tags": []
   },
   "outputs": [
    {
     "name": "stdout",
     "output_type": "stream",
     "text": [
      "Class: write\n",
      "Extracting frames from file 30: subject_22_activity_5.mp4\n",
      "Class: sit still\n",
      "Extracting frames from file 30: subject_5_activity_3.mp4\n",
      "Class: sit down\n",
      "Extracting frames from file 30: subject_33_activity_2.mp4\n",
      "Class: move hands in front of the body\n",
      "Extracting frames from file 30: subject_14_activity_11.mp4\n",
      "Class: raise one leg up\n",
      "Extracting frames from file 30: subject_26_activity_14.mp4\n",
      "Class: drink from a bottle\n",
      "Extracting frames from file 30: subject_15_activity_9.mp4\n",
      "Class: stand up\n",
      "Extracting frames from file 30: subject_26_activity_1.mp4\n",
      "Class: read\n",
      "Extracting frames from file 30: subject_43_activity_4.mp4\n",
      "Class: throw paper\n",
      "Extracting frames from file 30: subject_41_activity_8.mp4\n",
      "Class: walk\n",
      "Extracting frames from file 30: subject_12_activity_7.mp4\n",
      "Class: drink from a mug\n",
      "Extracting frames from file 30: subject_21_activity_10.mp4\n",
      "Class: fall from bed\n",
      "Extracting frames from file 30: subject_12_activity_15.mp4\n",
      "Class: faint\n",
      "Extracting frames from file 30: subject_31_activity_16.mp4\n",
      "Class: raise one hand up\n",
      "Extracting frames from file 30: subject_4_activity_13.mp4\n",
      "Class: cheer up\n",
      "Extracting frames from file 30: subject_31_activity_6.mp4\n",
      "Class: move hands close to the body\n",
      "Extracting frames from file 30: subject_33_activity_12.mp4\n",
      "Dataset created with 480 videos\n",
      "Features shape: (480, 5, 128, 128, 3)\n",
      "Labels shape: (480,)\n"
     ]
    },
    {
     "data": {
      "text/plain": [
       "((480, 5, 128, 128, 3), (480,))"
      ]
     },
     "execution_count": 20,
     "metadata": {},
     "output_type": "execute_result"
    }
   ],
   "source": [
    "# RUN Create the dataset with explicit parameters\n",
    "try:\n",
    "    videos, labels = create_dataset(\n",
    "        dataset_dir=DATASET_DIR,\n",
    "        classes_list=CLASSES_LIST,\n",
    "        sequence_length=SEQUENCE_LENGTH,\n",
    "        image_height=IMAGE_HEIGHT,\n",
    "        image_width=IMAGE_WIDTH,\n",
    "        # Limit to 10 videos per class to manage memory\n",
    "        augmentations=True,\n",
    "        max_videos_per_class=MAX_VIDEO_PER_CLASS\n",
    "    )\n",
    "except FileNotFoundError as e:\n",
    "    print(f\"Error: {e}\")\n",
    "except ValueError as e:\n",
    "    print(f\"Error: {e}\")\n",
    "except Exception as e:\n",
    "    print(f\"Unexpected error: {e}\")\n",
    "\n",
    "videos.shape, labels.shape"
   ]
  },
  {
   "cell_type": "code",
   "execution_count": 21,
   "id": "d660cb13",
   "metadata": {
    "execution": {
     "iopub.execute_input": "2025-07-06T19:02:00.898638Z",
     "iopub.status.busy": "2025-07-06T19:02:00.898404Z",
     "iopub.status.idle": "2025-07-06T19:02:00.902258Z",
     "shell.execute_reply": "2025-07-06T19:02:00.901477Z"
    },
    "papermill": {
     "duration": 0.035366,
     "end_time": "2025-07-06T19:02:00.903298",
     "exception": false,
     "start_time": "2025-07-06T19:02:00.867932",
     "status": "completed"
    },
    "tags": []
   },
   "outputs": [
    {
     "name": "stdout",
     "output_type": "stream",
     "text": [
      "Total 480 videos and 480 classes\n"
     ]
    }
   ],
   "source": [
    "video_generator = VideoDataGenerator(\n",
    "    videos=videos,\n",
    "    labels=labels,\n",
    "    batch_size=BATCH_SIZE\n",
    ")"
   ]
  },
  {
   "cell_type": "code",
   "execution_count": 22,
   "id": "28025a08",
   "metadata": {
    "execution": {
     "iopub.execute_input": "2025-07-06T19:02:00.964706Z",
     "iopub.status.busy": "2025-07-06T19:02:00.964410Z",
     "iopub.status.idle": "2025-07-06T19:02:00.972347Z",
     "shell.execute_reply": "2025-07-06T19:02:00.971784Z"
    },
    "papermill": {
     "duration": 0.040108,
     "end_time": "2025-07-06T19:02:00.973525",
     "exception": false,
     "start_time": "2025-07-06T19:02:00.933417",
     "status": "completed"
    },
    "tags": []
   },
   "outputs": [
    {
     "data": {
      "text/plain": [
       "((16, 5, 128, 128, 3), (16,))"
      ]
     },
     "execution_count": 22,
     "metadata": {},
     "output_type": "execute_result"
    }
   ],
   "source": [
    "videos, labels = video_generator[0]\n",
    "\n",
    "videos.shape, labels.shape"
   ]
  },
  {
   "cell_type": "code",
   "execution_count": 23,
   "id": "4c7f6e95",
   "metadata": {
    "execution": {
     "iopub.execute_input": "2025-07-06T19:02:01.033576Z",
     "iopub.status.busy": "2025-07-06T19:02:01.033350Z",
     "iopub.status.idle": "2025-07-06T19:02:01.037422Z",
     "shell.execute_reply": "2025-07-06T19:02:01.036871Z"
    },
    "papermill": {
     "duration": 0.034769,
     "end_time": "2025-07-06T19:02:01.038378",
     "exception": false,
     "start_time": "2025-07-06T19:02:01.003609",
     "status": "completed"
    },
    "tags": []
   },
   "outputs": [
    {
     "data": {
      "text/plain": [
       "480"
      ]
     },
     "execution_count": 23,
     "metadata": {},
     "output_type": "execute_result"
    }
   ],
   "source": [
    "len(video_generator.videos) "
   ]
  },
  {
   "cell_type": "code",
   "execution_count": 24,
   "id": "e2470b15",
   "metadata": {
    "execution": {
     "iopub.execute_input": "2025-07-06T19:02:01.099483Z",
     "iopub.status.busy": "2025-07-06T19:02:01.099252Z",
     "iopub.status.idle": "2025-07-06T19:02:01.103566Z",
     "shell.execute_reply": "2025-07-06T19:02:01.102916Z"
    },
    "papermill": {
     "duration": 0.035515,
     "end_time": "2025-07-06T19:02:01.104631",
     "exception": false,
     "start_time": "2025-07-06T19:02:01.069116",
     "status": "completed"
    },
    "tags": []
   },
   "outputs": [
    {
     "data": {
      "text/plain": [
       "30"
      ]
     },
     "execution_count": 24,
     "metadata": {},
     "output_type": "execute_result"
    }
   ],
   "source": [
    "len(video_generator)"
   ]
  },
  {
   "cell_type": "code",
   "execution_count": 25,
   "id": "b1e06e64",
   "metadata": {
    "execution": {
     "iopub.execute_input": "2025-07-06T19:02:01.164862Z",
     "iopub.status.busy": "2025-07-06T19:02:01.164640Z",
     "iopub.status.idle": "2025-07-06T19:02:11.508255Z",
     "shell.execute_reply": "2025-07-06T19:02:11.507332Z"
    },
    "papermill": {
     "duration": 10.375122,
     "end_time": "2025-07-06T19:02:11.509472",
     "exception": false,
     "start_time": "2025-07-06T19:02:01.134350",
     "status": "completed"
    },
    "tags": []
   },
   "outputs": [
    {
     "name": "stdout",
     "output_type": "stream",
     "text": [
      "Total 480 augmented videos generated\n",
      "Ready to be merged with original videos...\n"
     ]
    }
   ],
   "source": [
    "apply_augmentation(segmentation_frames, video_generator)"
   ]
  },
  {
   "cell_type": "code",
   "execution_count": 26,
   "id": "d5a33828",
   "metadata": {
    "execution": {
     "iopub.execute_input": "2025-07-06T19:02:11.607339Z",
     "iopub.status.busy": "2025-07-06T19:02:11.607088Z",
     "iopub.status.idle": "2025-07-06T19:02:11.611724Z",
     "shell.execute_reply": "2025-07-06T19:02:11.611023Z"
    },
    "papermill": {
     "duration": 0.054531,
     "end_time": "2025-07-06T19:02:11.613010",
     "exception": false,
     "start_time": "2025-07-06T19:02:11.558479",
     "status": "completed"
    },
    "tags": []
   },
   "outputs": [
    {
     "data": {
      "text/plain": [
       "(480, 480)"
      ]
     },
     "execution_count": 26,
     "metadata": {},
     "output_type": "execute_result"
    }
   ],
   "source": [
    "len(video_generator.temp_videos), len(video_generator.videos)"
   ]
  },
  {
   "cell_type": "code",
   "execution_count": 27,
   "id": "65cf1885",
   "metadata": {
    "execution": {
     "iopub.execute_input": "2025-07-06T19:02:11.722146Z",
     "iopub.status.busy": "2025-07-06T19:02:11.721934Z",
     "iopub.status.idle": "2025-07-06T19:02:11.727419Z",
     "shell.execute_reply": "2025-07-06T19:02:11.726537Z"
    },
    "papermill": {
     "duration": 0.059674,
     "end_time": "2025-07-06T19:02:11.728570",
     "exception": false,
     "start_time": "2025-07-06T19:02:11.668896",
     "status": "completed"
    },
    "tags": []
   },
   "outputs": [
    {
     "name": "stdout",
     "output_type": "stream",
     "text": [
      "Successfully replaced, total original videos - 480 and augmented videos 0\n"
     ]
    }
   ],
   "source": [
    "video_generator.replace_original()"
   ]
  },
  {
   "cell_type": "code",
   "execution_count": 28,
   "id": "5bcae29d",
   "metadata": {
    "execution": {
     "iopub.execute_input": "2025-07-06T19:02:11.836626Z",
     "iopub.status.busy": "2025-07-06T19:02:11.836379Z",
     "iopub.status.idle": "2025-07-06T19:02:11.840871Z",
     "shell.execute_reply": "2025-07-06T19:02:11.840175Z"
    },
    "papermill": {
     "duration": 0.057028,
     "end_time": "2025-07-06T19:02:11.841992",
     "exception": false,
     "start_time": "2025-07-06T19:02:11.784964",
     "status": "completed"
    },
    "tags": []
   },
   "outputs": [
    {
     "data": {
      "text/plain": [
       "(0, 480)"
      ]
     },
     "execution_count": 28,
     "metadata": {},
     "output_type": "execute_result"
    }
   ],
   "source": [
    "len(video_generator.temp_videos), len(video_generator.videos)"
   ]
  },
  {
   "cell_type": "code",
   "execution_count": 29,
   "id": "4687b27a",
   "metadata": {
    "execution": {
     "iopub.execute_input": "2025-07-06T19:02:11.947575Z",
     "iopub.status.busy": "2025-07-06T19:02:11.947367Z",
     "iopub.status.idle": "2025-07-06T19:02:12.095332Z",
     "shell.execute_reply": "2025-07-06T19:02:12.094610Z"
    },
    "papermill": {
     "duration": 0.199228,
     "end_time": "2025-07-06T19:02:12.096686",
     "exception": false,
     "start_time": "2025-07-06T19:02:11.897458",
     "status": "completed"
    },
    "tags": []
   },
   "outputs": [
    {
     "data": {
      "text/plain": [
       "(480, 5, 128, 128, 3)"
      ]
     },
     "execution_count": 29,
     "metadata": {},
     "output_type": "execute_result"
    }
   ],
   "source": [
    "test = np.array(video_generator.videos)\n",
    "\n",
    "test.shape"
   ]
  },
  {
   "cell_type": "code",
   "execution_count": 30,
   "id": "0ac13565",
   "metadata": {
    "execution": {
     "iopub.execute_input": "2025-07-06T19:02:12.194962Z",
     "iopub.status.busy": "2025-07-06T19:02:12.194740Z",
     "iopub.status.idle": "2025-07-06T19:02:12.197872Z",
     "shell.execute_reply": "2025-07-06T19:02:12.197227Z"
    },
    "papermill": {
     "duration": 0.052417,
     "end_time": "2025-07-06T19:02:12.198995",
     "exception": false,
     "start_time": "2025-07-06T19:02:12.146578",
     "status": "completed"
    },
    "tags": []
   },
   "outputs": [],
   "source": [
    "# show_frame(test[1,0])"
   ]
  },
  {
   "cell_type": "markdown",
   "id": "9cda0cfd",
   "metadata": {
    "papermill": {
     "duration": 0.048028,
     "end_time": "2025-07-06T19:02:12.295481",
     "exception": false,
     "start_time": "2025-07-06T19:02:12.247453",
     "status": "completed"
    },
    "tags": []
   },
   "source": [
    "## Apply ***horizontal flip*** (Augmentation)"
   ]
  },
  {
   "cell_type": "code",
   "execution_count": 31,
   "id": "3e080881",
   "metadata": {
    "execution": {
     "iopub.execute_input": "2025-07-06T19:02:12.401873Z",
     "iopub.status.busy": "2025-07-06T19:02:12.401634Z",
     "iopub.status.idle": "2025-07-06T19:02:14.281706Z",
     "shell.execute_reply": "2025-07-06T19:02:14.280893Z"
    },
    "papermill": {
     "duration": 1.936319,
     "end_time": "2025-07-06T19:02:14.282828",
     "exception": false,
     "start_time": "2025-07-06T19:02:12.346509",
     "status": "completed"
    },
    "tags": []
   },
   "outputs": [
    {
     "name": "stdout",
     "output_type": "stream",
     "text": [
      "Total 480 augmented videos generated\n",
      "Ready to be merged with original videos...\n"
     ]
    }
   ],
   "source": [
    "apply_augmentation(horizontal_flip, video_generator)"
   ]
  },
  {
   "cell_type": "code",
   "execution_count": 32,
   "id": "3994f8de",
   "metadata": {
    "execution": {
     "iopub.execute_input": "2025-07-06T19:02:14.422905Z",
     "iopub.status.busy": "2025-07-06T19:02:14.422659Z",
     "iopub.status.idle": "2025-07-06T19:02:14.427050Z",
     "shell.execute_reply": "2025-07-06T19:02:14.426289Z"
    },
    "papermill": {
     "duration": 0.075243,
     "end_time": "2025-07-06T19:02:14.428171",
     "exception": false,
     "start_time": "2025-07-06T19:02:14.352928",
     "status": "completed"
    },
    "tags": []
   },
   "outputs": [
    {
     "name": "stdout",
     "output_type": "stream",
     "text": [
      "Checking Total Videos and Class Count: 480, 480\n",
      "PENDING Total Videos and Class Count: 480, 480\n"
     ]
    }
   ],
   "source": [
    "print(f\"Checking Total Videos and Class Count: {len(video_generator.videos)}, {len(video_generator.labels)}\")\n",
    "print(f\"PENDING Total Videos and Class Count: {len(video_generator.temp_videos)}, {len(video_generator.temp_labels)}\")"
   ]
  },
  {
   "cell_type": "code",
   "execution_count": 33,
   "id": "57347f93",
   "metadata": {
    "execution": {
     "iopub.execute_input": "2025-07-06T19:02:14.559757Z",
     "iopub.status.busy": "2025-07-06T19:02:14.559557Z",
     "iopub.status.idle": "2025-07-06T19:02:14.563454Z",
     "shell.execute_reply": "2025-07-06T19:02:14.562723Z"
    },
    "papermill": {
     "duration": 0.069958,
     "end_time": "2025-07-06T19:02:14.564523",
     "exception": false,
     "start_time": "2025-07-06T19:02:14.494565",
     "status": "completed"
    },
    "tags": []
   },
   "outputs": [
    {
     "name": "stdout",
     "output_type": "stream",
     "text": [
      "Successfully added - 480 videos and 480 classes.\n",
      "Now Total - 960 videos and 960 classes.\n",
      "PENDING for Augmentations - 0 videos and 0 classes.\n"
     ]
    }
   ],
   "source": [
    "video_generator.confirm()"
   ]
  },
  {
   "cell_type": "markdown",
   "id": "18ea0cf2",
   "metadata": {
    "papermill": {
     "duration": 0.064686,
     "end_time": "2025-07-06T19:02:14.694968",
     "exception": false,
     "start_time": "2025-07-06T19:02:14.630282",
     "status": "completed"
    },
    "tags": []
   },
   "source": [
    "## Apply ***Noise*** (Augmentation)"
   ]
  },
  {
   "cell_type": "code",
   "execution_count": 34,
   "id": "e5cfd413",
   "metadata": {
    "execution": {
     "iopub.execute_input": "2025-07-06T19:02:14.825669Z",
     "iopub.status.busy": "2025-07-06T19:02:14.825166Z",
     "iopub.status.idle": "2025-07-06T19:02:26.841684Z",
     "shell.execute_reply": "2025-07-06T19:02:26.840876Z"
    },
    "papermill": {
     "duration": 12.082857,
     "end_time": "2025-07-06T19:02:26.842883",
     "exception": false,
     "start_time": "2025-07-06T19:02:14.760026",
     "status": "completed"
    },
    "tags": []
   },
   "outputs": [
    {
     "name": "stdout",
     "output_type": "stream",
     "text": [
      "Total 960 augmented videos generated\n",
      "Ready to be merged with original videos...\n"
     ]
    }
   ],
   "source": [
    "apply_augmentation(noise_video, video_generator)"
   ]
  },
  {
   "cell_type": "code",
   "execution_count": 35,
   "id": "7870a237",
   "metadata": {
    "execution": {
     "iopub.execute_input": "2025-07-06T19:02:27.049104Z",
     "iopub.status.busy": "2025-07-06T19:02:27.048471Z",
     "iopub.status.idle": "2025-07-06T19:02:27.052604Z",
     "shell.execute_reply": "2025-07-06T19:02:27.051861Z"
    },
    "papermill": {
     "duration": 0.107303,
     "end_time": "2025-07-06T19:02:27.053751",
     "exception": false,
     "start_time": "2025-07-06T19:02:26.946448",
     "status": "completed"
    },
    "tags": []
   },
   "outputs": [
    {
     "name": "stdout",
     "output_type": "stream",
     "text": [
      "Checking Total Videos and Class Count: 960, 960\n",
      "PENDING Total Videos and Class Count: 960, 960\n"
     ]
    }
   ],
   "source": [
    "print(f\"Checking Total Videos and Class Count: {len(video_generator.videos)}, {len(video_generator.labels)}\")\n",
    "print(f\"PENDING Total Videos and Class Count: {len(video_generator.temp_videos)}, {len(video_generator.temp_labels)}\")"
   ]
  },
  {
   "cell_type": "markdown",
   "id": "eb6d616d",
   "metadata": {
    "papermill": {
     "duration": 0.149308,
     "end_time": "2025-07-06T19:02:27.303808",
     "exception": false,
     "start_time": "2025-07-06T19:02:27.154500",
     "status": "completed"
    },
    "tags": []
   },
   "source": [
    "## Apply ***Random Shear x2*** (Augmentation)"
   ]
  },
  {
   "cell_type": "code",
   "execution_count": 36,
   "id": "ef6579bf",
   "metadata": {
    "execution": {
     "iopub.execute_input": "2025-07-06T19:02:27.504290Z",
     "iopub.status.busy": "2025-07-06T19:02:27.503986Z",
     "iopub.status.idle": "2025-07-06T19:03:05.394847Z",
     "shell.execute_reply": "2025-07-06T19:03:05.394012Z"
    },
    "papermill": {
     "duration": 37.992233,
     "end_time": "2025-07-06T19:03:05.395905",
     "exception": false,
     "start_time": "2025-07-06T19:02:27.403672",
     "status": "completed"
    },
    "tags": []
   },
   "outputs": [
    {
     "name": "stdout",
     "output_type": "stream",
     "text": [
      "Total 1920 augmented videos generated\n",
      "Ready to be merged with original videos...\n",
      "Total 2880 augmented videos generated\n",
      "Ready to be merged with original videos...\n"
     ]
    }
   ],
   "source": [
    "apply_augmentation(apply_shear_frames, video_generator, shear_right=0)\n",
    "apply_augmentation(apply_shear_frames, video_generator, shear_right=1)"
   ]
  },
  {
   "cell_type": "code",
   "execution_count": 37,
   "id": "c0f9262f",
   "metadata": {
    "execution": {
     "iopub.execute_input": "2025-07-06T19:03:05.741899Z",
     "iopub.status.busy": "2025-07-06T19:03:05.741630Z",
     "iopub.status.idle": "2025-07-06T19:03:05.745809Z",
     "shell.execute_reply": "2025-07-06T19:03:05.745167Z"
    },
    "papermill": {
     "duration": 0.17556,
     "end_time": "2025-07-06T19:03:05.746817",
     "exception": false,
     "start_time": "2025-07-06T19:03:05.571257",
     "status": "completed"
    },
    "tags": []
   },
   "outputs": [
    {
     "name": "stdout",
     "output_type": "stream",
     "text": [
      "Checking Total Videos and Class Count: 960, 960\n",
      "PENDING Total Videos and Class Count: 2880, 2880\n"
     ]
    }
   ],
   "source": [
    "print(f\"Checking Total Videos and Class Count: {len(video_generator.videos)}, {len(video_generator.labels)}\")\n",
    "print(f\"PENDING Total Videos and Class Count: {len(video_generator.temp_videos)}, {len(video_generator.temp_labels)}\")"
   ]
  },
  {
   "cell_type": "code",
   "execution_count": 38,
   "id": "4d0ee371",
   "metadata": {
    "execution": {
     "iopub.execute_input": "2025-07-06T19:03:06.136748Z",
     "iopub.status.busy": "2025-07-06T19:03:06.136476Z",
     "iopub.status.idle": "2025-07-06T19:03:06.140559Z",
     "shell.execute_reply": "2025-07-06T19:03:06.139897Z"
    },
    "papermill": {
     "duration": 0.221341,
     "end_time": "2025-07-06T19:03:06.141577",
     "exception": false,
     "start_time": "2025-07-06T19:03:05.920236",
     "status": "completed"
    },
    "tags": []
   },
   "outputs": [
    {
     "name": "stdout",
     "output_type": "stream",
     "text": [
      "Successfully added - 2880 videos and 2880 classes.\n",
      "Now Total - 3840 videos and 3840 classes.\n",
      "PENDING for Augmentations - 0 videos and 0 classes.\n"
     ]
    }
   ],
   "source": [
    "# confirm changes to generator\n",
    "video_generator.confirm()"
   ]
  },
  {
   "cell_type": "code",
   "execution_count": 39,
   "id": "26203b35",
   "metadata": {
    "execution": {
     "iopub.execute_input": "2025-07-06T19:03:06.487098Z",
     "iopub.status.busy": "2025-07-06T19:03:06.486851Z",
     "iopub.status.idle": "2025-07-06T19:03:06.490995Z",
     "shell.execute_reply": "2025-07-06T19:03:06.490251Z"
    },
    "papermill": {
     "duration": 0.176475,
     "end_time": "2025-07-06T19:03:06.492089",
     "exception": false,
     "start_time": "2025-07-06T19:03:06.315614",
     "status": "completed"
    },
    "tags": []
   },
   "outputs": [
    {
     "name": "stdout",
     "output_type": "stream",
     "text": [
      "Checking Video Generator Total Videos and Class Count: 3840, 3840\n"
     ]
    }
   ],
   "source": [
    "print(f\"Checking Video Generator Total Videos and Class Count: {len(video_generator.videos)}, {len(video_generator.labels)}\")"
   ]
  },
  {
   "cell_type": "markdown",
   "id": "3bd37942",
   "metadata": {
    "papermill": {
     "duration": 0.188333,
     "end_time": "2025-07-06T19:03:06.851401",
     "exception": false,
     "start_time": "2025-07-06T19:03:06.663068",
     "status": "completed"
    },
    "tags": []
   },
   "source": [
    "## Cheking (Output)"
   ]
  },
  {
   "cell_type": "code",
   "execution_count": 40,
   "id": "cf475d07",
   "metadata": {
    "execution": {
     "iopub.execute_input": "2025-07-06T19:03:07.201576Z",
     "iopub.status.busy": "2025-07-06T19:03:07.200779Z",
     "iopub.status.idle": "2025-07-06T19:03:07.442837Z",
     "shell.execute_reply": "2025-07-06T19:03:07.442135Z"
    },
    "papermill": {
     "duration": 0.417923,
     "end_time": "2025-07-06T19:03:07.443839",
     "exception": false,
     "start_time": "2025-07-06T19:03:07.025916",
     "status": "completed"
    },
    "tags": []
   },
   "outputs": [
    {
     "name": "stdout",
     "output_type": "stream",
     "text": [
      "(16, 5, 128, 128, 3) (16,)\n"
     ]
    },
    {
     "data": {
      "image/png": "[encoded data removed]",
      "text/plain": [
       "<Figure size 1000x500 with 2 Axes>"
      ]
     },
     "metadata": {},
     "output_type": "display_data"
    },
    {
     "name": "stdout",
     "output_type": "stream",
     "text": [
      "Might be two different action, but to check the flipping focus on the door behind.\n"
     ]
    }
   ],
   "source": [
    "# check horizontal flips\n",
    "videos, labels = video_generator[7]\n",
    "videos1, labels1 = video_generator[1]\n",
    "\n",
    "print(videos.shape, labels.shape)\n",
    "\n",
    "show_frame_vs(videos[0,0],videos1[1,0], title1=\"Flipped Frame 1\", title2=\"Non Flipped Frame 1\")\n",
    "print(\"Might be two different action, but to check the flipping focus on the door behind.\")"
   ]
  },
  {
   "cell_type": "markdown",
   "id": "efe6d529",
   "metadata": {
    "papermill": {
     "duration": 0.169741,
     "end_time": "2025-07-06T19:03:07.829408",
     "exception": false,
     "start_time": "2025-07-06T19:03:07.659667",
     "status": "completed"
    },
    "tags": []
   },
   "source": [
    "# 🧪 Test Augmentation (Output)\n",
    "## 🖼️ Horizontal Flip Output"
   ]
  },
  {
   "cell_type": "code",
   "execution_count": 41,
   "id": "0f65ab7f",
   "metadata": {
    "execution": {
     "iopub.execute_input": "2025-07-06T19:03:08.172670Z",
     "iopub.status.busy": "2025-07-06T19:03:08.172384Z",
     "iopub.status.idle": "2025-07-06T19:03:08.175825Z",
     "shell.execute_reply": "2025-07-06T19:03:08.175101Z"
    },
    "papermill": {
     "duration": 0.176694,
     "end_time": "2025-07-06T19:03:08.176855",
     "exception": false,
     "start_time": "2025-07-06T19:03:08.000161",
     "status": "completed"
    },
    "tags": []
   },
   "outputs": [],
   "source": [
    "# flipped_video_1 = horizontal_flip(features[0])\n",
    "\n",
    "# flipped_video_1=np.asarray(flipped_video_1)\n",
    "\n",
    "# show_frame(flipped_video_1[0])\n",
    "# flipped_video_1.shape"
   ]
  },
  {
   "cell_type": "markdown",
   "id": "ba5e1807",
   "metadata": {
    "papermill": {
     "duration": 0.171371,
     "end_time": "2025-07-06T19:03:08.520290",
     "exception": false,
     "start_time": "2025-07-06T19:03:08.348919",
     "status": "completed"
    },
    "tags": []
   },
   "source": [
    "## 🖼️ Salt and Pepper Noise Output"
   ]
  },
  {
   "cell_type": "code",
   "execution_count": 42,
   "id": "8ff13eb8",
   "metadata": {
    "execution": {
     "iopub.execute_input": "2025-07-06T19:03:08.911675Z",
     "iopub.status.busy": "2025-07-06T19:03:08.911373Z",
     "iopub.status.idle": "2025-07-06T19:03:08.914549Z",
     "shell.execute_reply": "2025-07-06T19:03:08.914044Z"
    },
    "papermill": {
     "duration": 0.180159,
     "end_time": "2025-07-06T19:03:08.915680",
     "exception": false,
     "start_time": "2025-07-06T19:03:08.735521",
     "status": "completed"
    },
    "tags": []
   },
   "outputs": [],
   "source": [
    "# noised_video = noise_video(features[0])\n",
    "\n",
    "# print(noised_video.shape)\n",
    "# show_frame(noised_video[0])"
   ]
  },
  {
   "cell_type": "markdown",
   "id": "b02e4953",
   "metadata": {
    "papermill": {
     "duration": 0.176296,
     "end_time": "2025-07-06T19:03:09.275854",
     "exception": false,
     "start_time": "2025-07-06T19:03:09.099558",
     "status": "completed"
    },
    "tags": []
   },
   "source": [
    "## 🖼️ Random Shear Output"
   ]
  },
  {
   "cell_type": "code",
   "execution_count": 43,
   "id": "4ad5cd90",
   "metadata": {
    "execution": {
     "iopub.execute_input": "2025-07-06T19:03:09.625047Z",
     "iopub.status.busy": "2025-07-06T19:03:09.624787Z",
     "iopub.status.idle": "2025-07-06T19:03:09.628248Z",
     "shell.execute_reply": "2025-07-06T19:03:09.627553Z"
    },
    "papermill": {
     "duration": 0.177427,
     "end_time": "2025-07-06T19:03:09.629427",
     "exception": false,
     "start_time": "2025-07-06T19:03:09.452000",
     "status": "completed"
    },
    "tags": []
   },
   "outputs": [],
   "source": [
    "# print(features.shape)\n",
    "\n",
    "# sheared_1 = apply_shear_frames(features[0], shear_right=0)\n",
    "# sheared_2 = apply_shear_frames(features[0], shear_right=1)\n",
    "\n",
    "# sheared_1 = np.asarray(sheared_1)\n",
    "# sheared_2 = np.asarray(sheared_2)\n",
    "\n",
    "# print(sheared_1.shape)\n",
    "# show_frame(sheared_1[0])\n",
    "# show_frame(sheared_2[0])"
   ]
  },
  {
   "cell_type": "markdown",
   "id": "04366b0f",
   "metadata": {
    "papermill": {
     "duration": 0.171306,
     "end_time": "2025-07-06T19:03:10.019467",
     "exception": false,
     "start_time": "2025-07-06T19:03:09.848161",
     "status": "completed"
    },
    "tags": []
   },
   "source": [
    "# 📌 Preparing Data for Training"
   ]
  },
  {
   "cell_type": "code",
   "execution_count": 44,
   "id": "3521737c",
   "metadata": {
    "execution": {
     "iopub.execute_input": "2025-07-06T19:03:10.372202Z",
     "iopub.status.busy": "2025-07-06T19:03:10.371932Z",
     "iopub.status.idle": "2025-07-06T19:03:10.755283Z",
     "shell.execute_reply": "2025-07-06T19:03:10.754642Z"
    },
    "papermill": {
     "duration": 0.560909,
     "end_time": "2025-07-06T19:03:10.756408",
     "exception": false,
     "start_time": "2025-07-06T19:03:10.195499",
     "status": "completed"
    },
    "tags": []
   },
   "outputs": [],
   "source": [
    "# Clear previous session to free memory\n",
    "import gc\n",
    "\n",
    "gc.collect()\n",
    "tf.keras.backend.clear_session()"
   ]
  },
  {
   "cell_type": "markdown",
   "id": "4ff372e5",
   "metadata": {
    "papermill": {
     "duration": 0.169489,
     "end_time": "2025-07-06T19:03:11.109911",
     "exception": false,
     "start_time": "2025-07-06T19:03:10.940422",
     "status": "completed"
    },
    "tags": []
   },
   "source": [
    "## Splitting data for ***Trainig*** and ***Testing***"
   ]
  },
  {
   "cell_type": "code",
   "execution_count": 45,
   "id": "79de5b38",
   "metadata": {
    "execution": {
     "iopub.execute_input": "2025-07-06T19:03:11.503362Z",
     "iopub.status.busy": "2025-07-06T19:03:11.503051Z",
     "iopub.status.idle": "2025-07-06T19:03:12.743885Z",
     "shell.execute_reply": "2025-07-06T19:03:12.743155Z"
    },
    "papermill": {
     "duration": 1.458626,
     "end_time": "2025-07-06T19:03:12.745135",
     "exception": false,
     "start_time": "2025-07-06T19:03:11.286509",
     "status": "completed"
    },
    "tags": []
   },
   "outputs": [
    {
     "data": {
      "text/plain": [
       "((3840, 5, 128, 128, 3), (3840,))"
      ]
     },
     "execution_count": 45,
     "metadata": {},
     "output_type": "execute_result"
    }
   ],
   "source": [
    "videos = video_generator.videos\n",
    "labels = video_generator.labels\n",
    "\n",
    "videos = np.array(videos, dtype='float32')\n",
    "labels = np.array(labels)\n",
    "\n",
    "videos.shape, labels.shape"
   ]
  },
  {
   "cell_type": "code",
   "execution_count": 46,
   "id": "104aa079",
   "metadata": {
    "execution": {
     "iopub.execute_input": "2025-07-06T19:03:13.096644Z",
     "iopub.status.busy": "2025-07-06T19:03:13.096368Z",
     "iopub.status.idle": "2025-07-06T19:03:13.101651Z",
     "shell.execute_reply": "2025-07-06T19:03:13.100922Z"
    },
    "papermill": {
     "duration": 0.180455,
     "end_time": "2025-07-06T19:03:13.102872",
     "exception": false,
     "start_time": "2025-07-06T19:03:12.922417",
     "status": "completed"
    },
    "tags": []
   },
   "outputs": [
    {
     "data": {
      "text/plain": [
       "(3840, 16)"
      ]
     },
     "execution_count": 46,
     "metadata": {},
     "output_type": "execute_result"
    }
   ],
   "source": [
    "from tensorflow.keras.utils import to_categorical\n",
    "\n",
    "one_hot_encoded_labels = to_categorical(labels)\n",
    "\n",
    "one_hot_encoded_labels.shape"
   ]
  },
  {
   "cell_type": "code",
   "execution_count": 47,
   "id": "e471de9b",
   "metadata": {
    "execution": {
     "iopub.execute_input": "2025-07-06T19:03:13.463971Z",
     "iopub.status.busy": "2025-07-06T19:03:13.463430Z",
     "iopub.status.idle": "2025-07-06T19:03:13.651905Z",
     "shell.execute_reply": "2025-07-06T19:03:13.651285Z"
    },
    "papermill": {
     "duration": 0.359969,
     "end_time": "2025-07-06T19:03:13.653066",
     "exception": false,
     "start_time": "2025-07-06T19:03:13.293097",
     "status": "completed"
    },
    "tags": []
   },
   "outputs": [
    {
     "data": {
      "text/plain": [
       "0"
      ]
     },
     "execution_count": 47,
     "metadata": {},
     "output_type": "execute_result"
    }
   ],
   "source": [
    "gc.collect()"
   ]
  },
  {
   "cell_type": "code",
   "execution_count": 48,
   "id": "65794286",
   "metadata": {
    "execution": {
     "iopub.execute_input": "2025-07-06T19:03:13.997802Z",
     "iopub.status.busy": "2025-07-06T19:03:13.997239Z",
     "iopub.status.idle": "2025-07-06T19:03:15.168902Z",
     "shell.execute_reply": "2025-07-06T19:03:15.168149Z"
    },
    "papermill": {
     "duration": 1.343837,
     "end_time": "2025-07-06T19:03:15.170093",
     "exception": false,
     "start_time": "2025-07-06T19:03:13.826256",
     "status": "completed"
    },
    "tags": []
   },
   "outputs": [
    {
     "data": {
      "text/plain": [
       "((3072, 5, 128, 128, 3), (3072, 16), (768, 5, 128, 128, 3), (768, 16))"
      ]
     },
     "execution_count": 48,
     "metadata": {},
     "output_type": "execute_result"
    }
   ],
   "source": [
    "# RUN Split the Data into Train ( 75% ) and Test Set ( 25% ).\n",
    "from sklearn.model_selection import train_test_split\n",
    "features_train, features_test, labels_train, labels_test = train_test_split(videos,\n",
    "                                                                            one_hot_encoded_labels,\n",
    "                                                                            test_size = TEST_SIZE,\n",
    "                                                                            shuffle = True,\n",
    "                                                                            random_state = seed_constant)\n",
    "\n",
    "features_train.shape, labels_train.shape, features_test.shape, labels_test.shape"
   ]
  },
  {
   "cell_type": "markdown",
   "id": "20c2f503",
   "metadata": {
    "papermill": {
     "duration": 0.185989,
     "end_time": "2025-07-06T19:03:15.571616",
     "exception": false,
     "start_time": "2025-07-06T19:03:15.385627",
     "status": "completed"
    },
    "tags": []
   },
   "source": [
    "## Splitting data for ***Training Set*** and ***Validation Set***"
   ]
  },
  {
   "cell_type": "code",
   "execution_count": 49,
   "id": "4cdc93e2",
   "metadata": {
    "execution": {
     "iopub.execute_input": "2025-07-06T19:03:15.973048Z",
     "iopub.status.busy": "2025-07-06T19:03:15.972713Z",
     "iopub.status.idle": "2025-07-06T19:03:15.979615Z",
     "shell.execute_reply": "2025-07-06T19:03:15.978996Z"
    },
    "papermill": {
     "duration": 0.206268,
     "end_time": "2025-07-06T19:03:15.980625",
     "exception": false,
     "start_time": "2025-07-06T19:03:15.774357",
     "status": "completed"
    },
    "tags": []
   },
   "outputs": [
    {
     "data": {
      "text/plain": [
       "((2457, 5, 128, 128, 3), (2457, 16), (615, 5, 128, 128, 3), (615, 16))"
      ]
     },
     "execution_count": 49,
     "metadata": {},
     "output_type": "execute_result"
    }
   ],
   "source": [
    "# Assuming features_train and labels_train are defined\n",
    "train_set = 1-VALIDATION_SPLIT\n",
    "\n",
    "train_video_frames, val_video_frames = features_train[:int(train_set * len(features_train))], features_train[int(train_set * len(features_train)):]\n",
    "train_labels, val_labels = labels_train[:int(train_set * len(labels_train))], labels_train[int(train_set * len(labels_train)):]\n",
    "\n",
    "train_video_frames.shape, train_labels.shape, val_video_frames.shape, val_labels.shape"
   ]
  },
  {
   "cell_type": "markdown",
   "id": "f4fdd97c",
   "metadata": {
    "papermill": {
     "duration": 0.181191,
     "end_time": "2025-07-06T19:03:16.359500",
     "exception": false,
     "start_time": "2025-07-06T19:03:16.178309",
     "status": "completed"
    },
    "tags": []
   },
   "source": [
    "## Use Generator `Video Data Generator`"
   ]
  },
  {
   "cell_type": "code",
   "execution_count": 50,
   "id": "40a98e79",
   "metadata": {
    "execution": {
     "iopub.execute_input": "2025-07-06T19:03:16.772514Z",
     "iopub.status.busy": "2025-07-06T19:03:16.772172Z",
     "iopub.status.idle": "2025-07-06T19:03:16.779607Z",
     "shell.execute_reply": "2025-07-06T19:03:16.778957Z"
    },
    "papermill": {
     "duration": 0.188485,
     "end_time": "2025-07-06T19:03:16.780665",
     "exception": false,
     "start_time": "2025-07-06T19:03:16.592180",
     "status": "completed"
    },
    "tags": []
   },
   "outputs": [
    {
     "name": "stdout",
     "output_type": "stream",
     "text": [
      "Total 2457 videos and 2457 classes\n",
      "Total 615 videos and 615 classes\n"
     ]
    },
    {
     "data": {
      "text/plain": [
       "(154, 39)"
      ]
     },
     "execution_count": 50,
     "metadata": {},
     "output_type": "execute_result"
    }
   ],
   "source": [
    "# Create the training and validation generators\n",
    "train_gen = VideoDataGenerator(\n",
    "    videos=train_video_frames, \n",
    "    labels=train_labels, \n",
    "    batch_size=BATCH_SIZE,\n",
    ")\n",
    "\n",
    "val_gen = VideoDataGenerator(\n",
    "    videos=val_video_frames, \n",
    "    labels=val_labels, \n",
    "    batch_size=BATCH_SIZE,\n",
    ")\n",
    "\n",
    "len(train_gen), len(val_gen)"
   ]
  },
  {
   "cell_type": "markdown",
   "id": "09020a14",
   "metadata": {
    "papermill": {
     "duration": 0.171462,
     "end_time": "2025-07-06T19:03:17.124511",
     "exception": false,
     "start_time": "2025-07-06T19:03:16.953049",
     "status": "completed"
    },
    "tags": []
   },
   "source": [
    "## Inspect ***Generator*** Data on Epochs"
   ]
  },
  {
   "cell_type": "code",
   "execution_count": 51,
   "id": "f2b65dac",
   "metadata": {
    "execution": {
     "iopub.execute_input": "2025-07-06T19:03:17.471831Z",
     "iopub.status.busy": "2025-07-06T19:03:17.471568Z",
     "iopub.status.idle": "2025-07-06T19:03:17.482478Z",
     "shell.execute_reply": "2025-07-06T19:03:17.481743Z"
    },
    "papermill": {
     "duration": 0.184356,
     "end_time": "2025-07-06T19:03:17.483552",
     "exception": false,
     "start_time": "2025-07-06T19:03:17.299196",
     "status": "completed"
    },
    "tags": []
   },
   "outputs": [
    {
     "name": "stdout",
     "output_type": "stream",
     "text": [
      "[   0    1    2 ... 2454 2455 2456]\n",
      "[2236  966 2422 ... 2381 1911 1104]\n"
     ]
    },
    {
     "data": {
      "text/plain": [
       "(16, (16, 5, 128, 128, 3), (16, 16))"
      ]
     },
     "execution_count": 51,
     "metadata": {},
     "output_type": "execute_result"
    }
   ],
   "source": [
    "features, labels = train_gen[1]\n",
    "\n",
    "print(train_gen.indices)\n",
    "\n",
    "train_gen.on_epoch_end()\n",
    "\n",
    "print(train_gen.indices)\n",
    "\n",
    "BATCH_SIZE, features.shape, labels.shape"
   ]
  },
  {
   "cell_type": "markdown",
   "id": "3f9b404e",
   "metadata": {
    "papermill": {
     "duration": 0.173424,
     "end_time": "2025-07-06T19:03:17.874696",
     "exception": false,
     "start_time": "2025-07-06T19:03:17.701272",
     "status": "completed"
    },
    "tags": []
   },
   "source": [
    "## Compute Class Weight"
   ]
  },
  {
   "cell_type": "code",
   "execution_count": 52,
   "id": "ff4d0bcd",
   "metadata": {
    "execution": {
     "iopub.execute_input": "2025-07-06T19:03:18.239549Z",
     "iopub.status.busy": "2025-07-06T19:03:18.239268Z",
     "iopub.status.idle": "2025-07-06T19:03:18.245820Z",
     "shell.execute_reply": "2025-07-06T19:03:18.245180Z"
    },
    "papermill": {
     "duration": 0.191891,
     "end_time": "2025-07-06T19:03:18.246915",
     "exception": false,
     "start_time": "2025-07-06T19:03:18.055024",
     "status": "completed"
    },
    "tags": []
   },
   "outputs": [
    {
     "name": "stdout",
     "output_type": "stream",
     "text": [
      "Class weights: {0: 1.0, 1: 1.0, 2: 1.0, 3: 1.0, 4: 1.0, 5: 1.0, 6: 1.0, 7: 1.0, 8: 1.0, 9: 1.0, 10: 1.0, 11: 1.0, 12: 1.0, 13: 1.0, 14: 1.0, 15: 1.0}\n"
     ]
    }
   ],
   "source": [
    "from sklearn.utils.class_weight import compute_class_weight\n",
    "import numpy as np\n",
    "\n",
    "# Assuming y_int are integer labels (not one-hot)\n",
    "y_int = np.argmax(one_hot_encoded_labels, axis=1)  # or just integer labels if you have them\n",
    "\n",
    "classes = np.arange(NO_OF_CLASSES)  # e.g. np.arange(16)\n",
    "class_weights_values = compute_class_weight(class_weight='balanced', classes=classes, y=y_int)\n",
    "\n",
    "class_weights = dict(zip(classes, class_weights_values))\n",
    "\n",
    "print(\"Class weights:\", class_weights)\n"
   ]
  },
  {
   "cell_type": "code",
   "execution_count": 53,
   "id": "9c5ac075",
   "metadata": {
    "execution": {
     "iopub.execute_input": "2025-07-06T19:03:18.599305Z",
     "iopub.status.busy": "2025-07-06T19:03:18.598623Z",
     "iopub.status.idle": "2025-07-06T19:03:18.806339Z",
     "shell.execute_reply": "2025-07-06T19:03:18.805735Z"
    },
    "papermill": {
     "duration": 0.381757,
     "end_time": "2025-07-06T19:03:18.807508",
     "exception": false,
     "start_time": "2025-07-06T19:03:18.425751",
     "status": "completed"
    },
    "tags": []
   },
   "outputs": [],
   "source": [
    "gc.collect()\n",
    "del videos, one_hot_encoded_labels, labels_train\n",
    "del features_train, val_labels, train_labels\n",
    "del val_video_frames, train_video_frames"
   ]
  },
  {
   "cell_type": "markdown",
   "id": "93b885be",
   "metadata": {
    "papermill": {
     "duration": 0.230246,
     "end_time": "2025-07-06T19:03:19.215883",
     "exception": false,
     "start_time": "2025-07-06T19:03:18.985637",
     "status": "completed"
    },
    "tags": []
   },
   "source": [
    "# ✨ Model Execution\n",
    "## Creating Model"
   ]
  },
  {
   "cell_type": "code",
   "execution_count": 54,
   "id": "5319f540",
   "metadata": {
    "execution": {
     "iopub.execute_input": "2025-07-06T19:03:19.563770Z",
     "iopub.status.busy": "2025-07-06T19:03:19.563519Z",
     "iopub.status.idle": "2025-07-06T19:03:20.791099Z",
     "shell.execute_reply": "2025-07-06T19:03:20.790505Z"
    },
    "papermill": {
     "duration": 1.399246,
     "end_time": "2025-07-06T19:03:20.792245",
     "exception": false,
     "start_time": "2025-07-06T19:03:19.392999",
     "status": "completed"
    },
    "tags": []
   },
   "outputs": [
    {
     "name": "stdout",
     "output_type": "stream",
     "text": [
      "Loading Xception base model...\n",
      "Model architecture with BiLSTM created successfully!\n"
     ]
    },
    {
     "name": "stderr",
     "output_type": "stream",
     "text": [
      "/usr/local/lib/python3.11/dist-packages/keras/src/layers/core/wrapper.py:27: UserWarning: Do not pass an `input_shape`/`input_dim` argument to a layer. When using Sequential models, prefer using an `Input(shape)` object as the first layer in the model instead.\n",
      "  super().__init__(**kwargs)\n"
     ]
    },
    {
     "data": {
      "text/html": [
       "<pre style=\"white-space:pre;overflow-x:auto;line-height:normal;font-family:Menlo,'DejaVu Sans Mono',consolas,'Courier New',monospace\"><span style=\"font-weight: bold\">Model: \"sequential\"</span>\n",
       "</pre>\n"
      ],
      "text/plain": [
       "\u001b[1mModel: \"sequential\"\u001b[0m\n"
      ]
     },
     "metadata": {},
     "output_type": "display_data"
    },
    {
     "data": {
      "text/html": [
       "<pre style=\"white-space:pre;overflow-x:auto;line-height:normal;font-family:Menlo,'DejaVu Sans Mono',consolas,'Courier New',monospace\">┏━━━━━━━━━━━━━━━━━━━━━━━━━━━━━━━━━━━━━━┳━━━━━━━━━━━━━━━━━━━━━━━━━━━━━┳━━━━━━━━━━━━━━━━━┓\n",
       "┃<span style=\"font-weight: bold\"> Layer (type)                         </span>┃<span style=\"font-weight: bold\"> Output Shape                </span>┃<span style=\"font-weight: bold\">         Param # </span>┃\n",
       "┡━━━━━━━━━━━━━━━━━━━━━━━━━━━━━━━━━━━━━━╇━━━━━━━━━━━━━━━━━━━━━━━━━━━━━╇━━━━━━━━━━━━━━━━━┩\n",
       "│ time_distributed (<span style=\"color: #0087ff; text-decoration-color: #0087ff\">TimeDistributed</span>)   │ (<span style=\"color: #00d7ff; text-decoration-color: #00d7ff\">None</span>, <span style=\"color: #00af00; text-decoration-color: #00af00\">5</span>, <span style=\"color: #00af00; text-decoration-color: #00af00\">4</span>, <span style=\"color: #00af00; text-decoration-color: #00af00\">4</span>, <span style=\"color: #00af00; text-decoration-color: #00af00\">2048</span>)       │      <span style=\"color: #00af00; text-decoration-color: #00af00\">20,861,480</span> │\n",
       "├──────────────────────────────────────┼─────────────────────────────┼─────────────────┤\n",
       "│ time_distributed_1 (<span style=\"color: #0087ff; text-decoration-color: #0087ff\">TimeDistributed</span>) │ (<span style=\"color: #00d7ff; text-decoration-color: #00d7ff\">None</span>, <span style=\"color: #00af00; text-decoration-color: #00af00\">5</span>, <span style=\"color: #00af00; text-decoration-color: #00af00\">2048</span>)             │               <span style=\"color: #00af00; text-decoration-color: #00af00\">0</span> │\n",
       "├──────────────────────────────────────┼─────────────────────────────┼─────────────────┤\n",
       "│ bilstm (<span style=\"color: #0087ff; text-decoration-color: #0087ff\">Bidirectional</span>)               │ (<span style=\"color: #00d7ff; text-decoration-color: #00d7ff\">None</span>, <span style=\"color: #00af00; text-decoration-color: #00af00\">512</span>)                 │       <span style=\"color: #00af00; text-decoration-color: #00af00\">4,720,640</span> │\n",
       "├──────────────────────────────────────┼─────────────────────────────┼─────────────────┤\n",
       "│ batch_normalization                  │ (<span style=\"color: #00d7ff; text-decoration-color: #00d7ff\">None</span>, <span style=\"color: #00af00; text-decoration-color: #00af00\">512</span>)                 │           <span style=\"color: #00af00; text-decoration-color: #00af00\">2,048</span> │\n",
       "│ (<span style=\"color: #0087ff; text-decoration-color: #0087ff\">BatchNormalization</span>)                 │                             │                 │\n",
       "├──────────────────────────────────────┼─────────────────────────────┼─────────────────┤\n",
       "│ dropout_bilstm (<span style=\"color: #0087ff; text-decoration-color: #0087ff\">Dropout</span>)             │ (<span style=\"color: #00d7ff; text-decoration-color: #00d7ff\">None</span>, <span style=\"color: #00af00; text-decoration-color: #00af00\">512</span>)                 │               <span style=\"color: #00af00; text-decoration-color: #00af00\">0</span> │\n",
       "├──────────────────────────────────────┼─────────────────────────────┼─────────────────┤\n",
       "│ dense (<span style=\"color: #0087ff; text-decoration-color: #0087ff\">Dense</span>)                        │ (<span style=\"color: #00d7ff; text-decoration-color: #00d7ff\">None</span>, <span style=\"color: #00af00; text-decoration-color: #00af00\">512</span>)                 │         <span style=\"color: #00af00; text-decoration-color: #00af00\">262,656</span> │\n",
       "├──────────────────────────────────────┼─────────────────────────────┼─────────────────┤\n",
       "│ dropout_dense (<span style=\"color: #0087ff; text-decoration-color: #0087ff\">Dropout</span>)              │ (<span style=\"color: #00d7ff; text-decoration-color: #00d7ff\">None</span>, <span style=\"color: #00af00; text-decoration-color: #00af00\">512</span>)                 │               <span style=\"color: #00af00; text-decoration-color: #00af00\">0</span> │\n",
       "├──────────────────────────────────────┼─────────────────────────────┼─────────────────┤\n",
       "│ dense_1 (<span style=\"color: #0087ff; text-decoration-color: #0087ff\">Dense</span>)                      │ (<span style=\"color: #00d7ff; text-decoration-color: #00d7ff\">None</span>, <span style=\"color: #00af00; text-decoration-color: #00af00\">16</span>)                  │           <span style=\"color: #00af00; text-decoration-color: #00af00\">8,208</span> │\n",
       "└──────────────────────────────────────┴─────────────────────────────┴─────────────────┘\n",
       "</pre>\n"
      ],
      "text/plain": [
       "┏━━━━━━━━━━━━━━━━━━━━━━━━━━━━━━━━━━━━━━┳━━━━━━━━━━━━━━━━━━━━━━━━━━━━━┳━━━━━━━━━━━━━━━━━┓\n",
       "┃\u001b[1m \u001b[0m\u001b[1mLayer (type)                        \u001b[0m\u001b[1m \u001b[0m┃\u001b[1m \u001b[0m\u001b[1mOutput Shape               \u001b[0m\u001b[1m \u001b[0m┃\u001b[1m \u001b[0m\u001b[1m        Param #\u001b[0m\u001b[1m \u001b[0m┃\n",
       "┡━━━━━━━━━━━━━━━━━━━━━━━━━━━━━━━━━━━━━━╇━━━━━━━━━━━━━━━━━━━━━━━━━━━━━╇━━━━━━━━━━━━━━━━━┩\n",
       "│ time_distributed (\u001b[38;5;33mTimeDistributed\u001b[0m)   │ (\u001b[38;5;45mNone\u001b[0m, \u001b[38;5;34m5\u001b[0m, \u001b[38;5;34m4\u001b[0m, \u001b[38;5;34m4\u001b[0m, \u001b[38;5;34m2048\u001b[0m)       │      \u001b[38;5;34m20,861,480\u001b[0m │\n",
       "├──────────────────────────────────────┼─────────────────────────────┼─────────────────┤\n",
       "│ time_distributed_1 (\u001b[38;5;33mTimeDistributed\u001b[0m) │ (\u001b[38;5;45mNone\u001b[0m, \u001b[38;5;34m5\u001b[0m, \u001b[38;5;34m2048\u001b[0m)             │               \u001b[38;5;34m0\u001b[0m │\n",
       "├──────────────────────────────────────┼─────────────────────────────┼─────────────────┤\n",
       "│ bilstm (\u001b[38;5;33mBidirectional\u001b[0m)               │ (\u001b[38;5;45mNone\u001b[0m, \u001b[38;5;34m512\u001b[0m)                 │       \u001b[38;5;34m4,720,640\u001b[0m │\n",
       "├──────────────────────────────────────┼─────────────────────────────┼─────────────────┤\n",
       "│ batch_normalization                  │ (\u001b[38;5;45mNone\u001b[0m, \u001b[38;5;34m512\u001b[0m)                 │           \u001b[38;5;34m2,048\u001b[0m │\n",
       "│ (\u001b[38;5;33mBatchNormalization\u001b[0m)                 │                             │                 │\n",
       "├──────────────────────────────────────┼─────────────────────────────┼─────────────────┤\n",
       "│ dropout_bilstm (\u001b[38;5;33mDropout\u001b[0m)             │ (\u001b[38;5;45mNone\u001b[0m, \u001b[38;5;34m512\u001b[0m)                 │               \u001b[38;5;34m0\u001b[0m │\n",
       "├──────────────────────────────────────┼─────────────────────────────┼─────────────────┤\n",
       "│ dense (\u001b[38;5;33mDense\u001b[0m)                        │ (\u001b[38;5;45mNone\u001b[0m, \u001b[38;5;34m512\u001b[0m)                 │         \u001b[38;5;34m262,656\u001b[0m │\n",
       "├──────────────────────────────────────┼─────────────────────────────┼─────────────────┤\n",
       "│ dropout_dense (\u001b[38;5;33mDropout\u001b[0m)              │ (\u001b[38;5;45mNone\u001b[0m, \u001b[38;5;34m512\u001b[0m)                 │               \u001b[38;5;34m0\u001b[0m │\n",
       "├──────────────────────────────────────┼─────────────────────────────┼─────────────────┤\n",
       "│ dense_1 (\u001b[38;5;33mDense\u001b[0m)                      │ (\u001b[38;5;45mNone\u001b[0m, \u001b[38;5;34m16\u001b[0m)                  │           \u001b[38;5;34m8,208\u001b[0m │\n",
       "└──────────────────────────────────────┴─────────────────────────────┴─────────────────┘\n"
      ]
     },
     "metadata": {},
     "output_type": "display_data"
    },
    {
     "data": {
      "text/html": [
       "<pre style=\"white-space:pre;overflow-x:auto;line-height:normal;font-family:Menlo,'DejaVu Sans Mono',consolas,'Courier New',monospace\"><span style=\"font-weight: bold\"> Total params: </span><span style=\"color: #00af00; text-decoration-color: #00af00\">25,855,032</span> (98.63 MB)\n",
       "</pre>\n"
      ],
      "text/plain": [
       "\u001b[1m Total params: \u001b[0m\u001b[38;5;34m25,855,032\u001b[0m (98.63 MB)\n"
      ]
     },
     "metadata": {},
     "output_type": "display_data"
    },
    {
     "data": {
      "text/html": [
       "<pre style=\"white-space:pre;overflow-x:auto;line-height:normal;font-family:Menlo,'DejaVu Sans Mono',consolas,'Courier New',monospace\"><span style=\"font-weight: bold\"> Trainable params: </span><span style=\"color: #00af00; text-decoration-color: #00af00\">25,799,480</span> (98.42 MB)\n",
       "</pre>\n"
      ],
      "text/plain": [
       "\u001b[1m Trainable params: \u001b[0m\u001b[38;5;34m25,799,480\u001b[0m (98.42 MB)\n"
      ]
     },
     "metadata": {},
     "output_type": "display_data"
    },
    {
     "data": {
      "text/html": [
       "<pre style=\"white-space:pre;overflow-x:auto;line-height:normal;font-family:Menlo,'DejaVu Sans Mono',consolas,'Courier New',monospace\"><span style=\"font-weight: bold\"> Non-trainable params: </span><span style=\"color: #00af00; text-decoration-color: #00af00\">55,552</span> (217.00 KB)\n",
       "</pre>\n"
      ],
      "text/plain": [
       "\u001b[1m Non-trainable params: \u001b[0m\u001b[38;5;34m55,552\u001b[0m (217.00 KB)\n"
      ]
     },
     "metadata": {},
     "output_type": "display_data"
    },
    {
     "name": "stdout",
     "output_type": "stream",
     "text": [
      "Model Created Successfully!\n"
     ]
    }
   ],
   "source": [
    "# Create the model\n",
    "xlstm_model = create_model(\n",
    "    sequence_length=SEQUENCE_LENGTH,\n",
    "    image_height=IMAGE_HEIGHT,\n",
    "    image_width=IMAGE_WIDTH,\n",
    "    classes_list=CLASSES_LIST,\n",
    "    dropout_rate=DROPOUT_RATE\n",
    ")\n",
    "\n",
    "# Check if model was created successfully\n",
    "if xlstm_model is None:\n",
    "    print(\"Failed to create model. Check error messages above.\")\n",
    "else:\n",
    "    print(\"Model Created Successfully!\")"
   ]
  },
  {
   "cell_type": "markdown",
   "id": "7d11c924",
   "metadata": {
    "papermill": {
     "duration": 0.174846,
     "end_time": "2025-07-06T19:03:21.142018",
     "exception": false,
     "start_time": "2025-07-06T19:03:20.967172",
     "status": "completed"
    },
    "tags": []
   },
   "source": [
    "## Plot Model Structure"
   ]
  },
  {
   "cell_type": "code",
   "execution_count": 55,
   "id": "bdd4dee6",
   "metadata": {
    "execution": {
     "iopub.execute_input": "2025-07-06T19:03:21.493021Z",
     "iopub.status.busy": "2025-07-06T19:03:21.492577Z",
     "iopub.status.idle": "2025-07-06T19:03:21.806897Z",
     "shell.execute_reply": "2025-07-06T19:03:21.806158Z"
    },
    "papermill": {
     "duration": 0.487376,
     "end_time": "2025-07-06T19:03:21.807935",
     "exception": false,
     "start_time": "2025-07-06T19:03:21.320559",
     "status": "completed"
    },
    "tags": []
   },
   "outputs": [
    {
     "name": "stdout",
     "output_type": "stream",
     "text": [
      "Xception Model Plot saved successfully...\n"
     ]
    }
   ],
   "source": [
    "# Plot the structure of the contructed model.\n",
    "from tensorflow.keras.utils import plot_model\n",
    "\n",
    "plot_model(xlstm_model, to_file = f'{MODEL_NAME}_model_Plot.png', show_shapes = True, show_layer_names = True)\n",
    "\n",
    "print(f\"{MODEL_NAME} Model Plot saved successfully...\")"
   ]
  },
  {
   "cell_type": "markdown",
   "id": "eb7e76f6",
   "metadata": {
    "papermill": {
     "duration": 0.188818,
     "end_time": "2025-07-06T19:03:22.232508",
     "exception": false,
     "start_time": "2025-07-06T19:03:22.043690",
     "status": "completed"
    },
    "tags": []
   },
   "source": [
    "## Model Compile"
   ]
  },
  {
   "cell_type": "code",
   "execution_count": 56,
   "id": "5c60ce0c",
   "metadata": {
    "execution": {
     "iopub.execute_input": "2025-07-06T19:03:22.580940Z",
     "iopub.status.busy": "2025-07-06T19:03:22.580383Z",
     "iopub.status.idle": "2025-07-06T19:03:22.595952Z",
     "shell.execute_reply": "2025-07-06T19:03:22.595256Z"
    },
    "papermill": {
     "duration": 0.189712,
     "end_time": "2025-07-06T19:03:22.597093",
     "exception": false,
     "start_time": "2025-07-06T19:03:22.407381",
     "status": "completed"
    },
    "tags": []
   },
   "outputs": [],
   "source": [
    "# Create an Instance of Early Stopping Callback\n",
    "from tensorflow.keras.callbacks import EarlyStopping\n",
    "\n",
    "early_stopping_callback = EarlyStopping(monitor = 'val_loss', \n",
    "                                        patience = 7, \n",
    "                                        mode = 'min', \n",
    "                                        restore_best_weights = True)\n",
    "\n",
    "# Compile the model and specify loss function, optimizer and metrics values to the model\n",
    "xlstm_model.compile(loss = 'categorical_crossentropy', \n",
    "                    optimizer=tf.keras.optimizers.Adam(learning_rate=0.0001),\n",
    "                    metrics = [\"accuracy\"])\n"
   ]
  },
  {
   "cell_type": "markdown",
   "id": "cc5d9347",
   "metadata": {
    "papermill": {
     "duration": 0.174599,
     "end_time": "2025-07-06T19:03:22.957584",
     "exception": false,
     "start_time": "2025-07-06T19:03:22.782985",
     "status": "completed"
    },
    "tags": []
   },
   "source": [
    "## 💪 Model Fit"
   ]
  },
  {
   "cell_type": "code",
   "execution_count": 57,
   "id": "5235c2e7",
   "metadata": {
    "execution": {
     "iopub.execute_input": "2025-07-06T19:03:23.352063Z",
     "iopub.status.busy": "2025-07-06T19:03:23.351367Z",
     "iopub.status.idle": "2025-07-06T19:03:23.358432Z",
     "shell.execute_reply": "2025-07-06T19:03:23.357640Z"
    },
    "papermill": {
     "duration": 0.227326,
     "end_time": "2025-07-06T19:03:23.359650",
     "exception": false,
     "start_time": "2025-07-06T19:03:23.132324",
     "status": "completed"
    },
    "tags": []
   },
   "outputs": [
    {
     "name": "stdout",
     "output_type": "stream",
     "text": [
      "Unique labels: [ 0  1  2  3  4  5  6  7  8  9 10 11 12 13 14 15]\n",
      "NO_OF_CLASSES: 16\n"
     ]
    }
   ],
   "source": [
    "labels = np.argmax(train_gen.labels, axis=1)  # assuming one-hot encoded\n",
    "print(\"Unique labels:\", np.unique(labels))\n",
    "print(\"NO_OF_CLASSES:\", NO_OF_CLASSES)\n"
   ]
  },
  {
   "cell_type": "code",
   "execution_count": 58,
   "id": "752c6577",
   "metadata": {
    "execution": {
     "iopub.execute_input": "2025-07-06T19:03:23.703106Z",
     "iopub.status.busy": "2025-07-06T19:03:23.702888Z",
     "iopub.status.idle": "2025-07-06T19:03:23.709058Z",
     "shell.execute_reply": "2025-07-06T19:03:23.708454Z"
    },
    "papermill": {
     "duration": 0.178656,
     "end_time": "2025-07-06T19:03:23.710141",
     "exception": false,
     "start_time": "2025-07-06T19:03:23.531485",
     "status": "completed"
    },
    "tags": []
   },
   "outputs": [
    {
     "name": "stdout",
     "output_type": "stream",
     "text": [
      "Train label shape: (2457, 16)\n",
      "Val label shape: (615, 16)\n"
     ]
    }
   ],
   "source": [
    "print(\"Train label shape:\", np.shape(train_gen.labels))\n",
    "print(\"Val label shape:\", np.shape(val_gen.labels))\n"
   ]
  },
  {
   "cell_type": "code",
   "execution_count": 59,
   "id": "5bfd71b7",
   "metadata": {
    "execution": {
     "iopub.execute_input": "2025-07-06T19:03:24.078197Z",
     "iopub.status.busy": "2025-07-06T19:03:24.077604Z",
     "iopub.status.idle": "2025-07-06T19:53:34.589991Z",
     "shell.execute_reply": "2025-07-06T19:53:34.589237Z"
    },
    "papermill": {
     "duration": 3010.708817,
     "end_time": "2025-07-06T19:53:34.591580",
     "exception": false,
     "start_time": "2025-07-06T19:03:23.882763",
     "status": "completed"
    },
    "tags": []
   },
   "outputs": [
    {
     "name": "stdout",
     "output_type": "stream",
     "text": [
      "Dataset - Precis Har Rgb\n",
      "There are total 16 classes, selected 16 classes\n",
      "Setting 30 videos/class to train the model.\n",
      "Image size 128x128 with 5 sequence length\n",
      "Dropout rate: 0.5\n",
      "Train-Test split ratio 80/20\n",
      "Validation data from Train set 20.0%\n",
      "\n",
      "\n",
      "Training started for 2457 videos of 16 classes with 615 videos for validation...\n",
      "Epoch 1/30\n"
     ]
    },
    {
     "name": "stderr",
     "output_type": "stream",
     "text": [
      "I0000 00:00:1751828664.097057      86 cuda_dnn.cc:529] Loaded cuDNN version 90300\n"
     ]
    },
    {
     "name": "stdout",
     "output_type": "stream",
     "text": [
      "    154/Unknown \u001b[1m157s\u001b[0m 605ms/step - accuracy: 0.1203 - loss: 33.9875"
     ]
    },
    {
     "name": "stderr",
     "output_type": "stream",
     "text": [
      "/usr/local/lib/python3.11/dist-packages/keras/src/trainers/epoch_iterator.py:151: UserWarning: Your input ran out of data; interrupting training. Make sure that your dataset or generator can generate at least `steps_per_epoch * epochs` batches. You may need to use the `.repeat()` function when building your dataset.\n",
      "  self._interrupted_warning()\n"
     ]
    },
    {
     "name": "stdout",
     "output_type": "stream",
     "text": [
      "\u001b[1m154/154\u001b[0m \u001b[32m━━━━━━━━━━━━━━━━━━━━\u001b[0m\u001b[37m\u001b[0m \u001b[1m168s\u001b[0m 678ms/step - accuracy: 0.1206 - loss: 33.9714 - val_accuracy: 0.3919 - val_loss: 26.9965 - learning_rate: 1.0000e-04\n",
      "Epoch 2/30\n",
      "\u001b[1m154/154\u001b[0m \u001b[32m━━━━━━━━━━━━━━━━━━━━\u001b[0m\u001b[37m\u001b[0m \u001b[1m98s\u001b[0m 635ms/step - accuracy: 0.3517 - loss: 24.4185 - val_accuracy: 0.5220 - val_loss: 19.4110 - learning_rate: 1.0000e-04\n",
      "Epoch 3/30\n",
      "\u001b[1m154/154\u001b[0m \u001b[32m━━━━━━━━━━━━━━━━━━━━\u001b[0m\u001b[37m\u001b[0m \u001b[1m98s\u001b[0m 636ms/step - accuracy: 0.5313 - loss: 17.4813 - val_accuracy: 0.6390 - val_loss: 14.2111 - learning_rate: 1.0000e-04\n",
      "Epoch 4/30\n",
      "\u001b[1m154/154\u001b[0m \u001b[32m━━━━━━━━━━━━━━━━━━━━\u001b[0m\u001b[37m\u001b[0m \u001b[1m98s\u001b[0m 635ms/step - accuracy: 0.6585 - loss: 13.2314 - val_accuracy: 0.6846 - val_loss: 11.5298 - learning_rate: 1.0000e-04\n",
      "Epoch 5/30\n",
      "\u001b[1m154/154\u001b[0m \u001b[32m━━━━━━━━━━━━━━━━━━━━\u001b[0m\u001b[37m\u001b[0m \u001b[1m98s\u001b[0m 636ms/step - accuracy: 0.8028 - loss: 10.7385 - val_accuracy: 0.7220 - val_loss: 9.9175 - learning_rate: 1.0000e-04\n",
      "Epoch 6/30\n",
      "\u001b[1m154/154\u001b[0m \u001b[32m━━━━━━━━━━━━━━━━━━━━\u001b[0m\u001b[37m\u001b[0m \u001b[1m98s\u001b[0m 635ms/step - accuracy: 0.8978 - loss: 9.2397 - val_accuracy: 0.7415 - val_loss: 9.0426 - learning_rate: 1.0000e-04\n",
      "Epoch 7/30\n",
      "\u001b[1m154/154\u001b[0m \u001b[32m━━━━━━━━━━━━━━━━━━━━\u001b[0m\u001b[37m\u001b[0m \u001b[1m98s\u001b[0m 635ms/step - accuracy: 0.9493 - loss: 8.1550 - val_accuracy: 0.7593 - val_loss: 8.2029 - learning_rate: 1.0000e-04\n",
      "Epoch 8/30\n",
      "\u001b[1m154/154\u001b[0m \u001b[32m━━━━━━━━━━━━━━━━━━━━\u001b[0m\u001b[37m\u001b[0m \u001b[1m98s\u001b[0m 634ms/step - accuracy: 0.9808 - loss: 7.3237 - val_accuracy: 0.7707 - val_loss: 7.3613 - learning_rate: 1.0000e-04\n",
      "Epoch 9/30\n",
      "\u001b[1m154/154\u001b[0m \u001b[32m━━━━━━━━━━━━━━━━━━━━\u001b[0m\u001b[37m\u001b[0m \u001b[1m98s\u001b[0m 636ms/step - accuracy: 0.9750 - loss: 6.6128 - val_accuracy: 0.7967 - val_loss: 6.7611 - learning_rate: 1.0000e-04\n",
      "Epoch 10/30\n",
      "\u001b[1m154/154\u001b[0m \u001b[32m━━━━━━━━━━━━━━━━━━━━\u001b[0m\u001b[37m\u001b[0m \u001b[1m98s\u001b[0m 636ms/step - accuracy: 0.9871 - loss: 5.9209 - val_accuracy: 0.7967 - val_loss: 6.0715 - learning_rate: 1.0000e-04\n",
      "Epoch 11/30\n",
      "\u001b[1m154/154\u001b[0m \u001b[32m━━━━━━━━━━━━━━━━━━━━\u001b[0m\u001b[37m\u001b[0m \u001b[1m98s\u001b[0m 637ms/step - accuracy: 0.9946 - loss: 5.2635 - val_accuracy: 0.7984 - val_loss: 5.5442 - learning_rate: 1.0000e-04\n",
      "Epoch 12/30\n",
      "\u001b[1m154/154\u001b[0m \u001b[32m━━━━━━━━━━━━━━━━━━━━\u001b[0m\u001b[37m\u001b[0m \u001b[1m98s\u001b[0m 637ms/step - accuracy: 0.9883 - loss: 4.6854 - val_accuracy: 0.7659 - val_loss: 5.0063 - learning_rate: 1.0000e-04\n",
      "Epoch 13/30\n",
      "\u001b[1m154/154\u001b[0m \u001b[32m━━━━━━━━━━━━━━━━━━━━\u001b[0m\u001b[37m\u001b[0m \u001b[1m98s\u001b[0m 636ms/step - accuracy: 0.9871 - loss: 4.1159 - val_accuracy: 0.8163 - val_loss: 4.3320 - learning_rate: 1.0000e-04\n",
      "Epoch 14/30\n",
      "\u001b[1m154/154\u001b[0m \u001b[32m━━━━━━━━━━━━━━━━━━━━\u001b[0m\u001b[37m\u001b[0m \u001b[1m98s\u001b[0m 636ms/step - accuracy: 0.9981 - loss: 3.5622 - val_accuracy: 0.8146 - val_loss: 3.7778 - learning_rate: 1.0000e-04\n",
      "Epoch 15/30\n",
      "\u001b[1m154/154\u001b[0m \u001b[32m━━━━━━━━━━━━━━━━━━━━\u001b[0m\u001b[37m\u001b[0m \u001b[1m98s\u001b[0m 637ms/step - accuracy: 0.9982 - loss: 3.0679 - val_accuracy: 0.8195 - val_loss: 3.2672 - learning_rate: 1.0000e-04\n",
      "Epoch 16/30\n",
      "\u001b[1m154/154\u001b[0m \u001b[32m━━━━━━━━━━━━━━━━━━━━\u001b[0m\u001b[37m\u001b[0m \u001b[1m98s\u001b[0m 637ms/step - accuracy: 0.9997 - loss: 2.6165 - val_accuracy: 0.8211 - val_loss: 2.9017 - learning_rate: 1.0000e-04\n",
      "Epoch 17/30\n",
      "\u001b[1m154/154\u001b[0m \u001b[32m━━━━━━━━━━━━━━━━━━━━\u001b[0m\u001b[37m\u001b[0m \u001b[1m98s\u001b[0m 637ms/step - accuracy: 0.9999 - loss: 2.2079 - val_accuracy: 0.8374 - val_loss: 2.4470 - learning_rate: 1.0000e-04\n",
      "Epoch 18/30\n",
      "\u001b[1m154/154\u001b[0m \u001b[32m━━━━━━━━━━━━━━━━━━━━\u001b[0m\u001b[37m\u001b[0m \u001b[1m98s\u001b[0m 638ms/step - accuracy: 0.9999 - loss: 1.8454 - val_accuracy: 0.8455 - val_loss: 2.0779 - learning_rate: 1.0000e-04\n",
      "Epoch 19/30\n",
      "\u001b[1m154/154\u001b[0m \u001b[32m━━━━━━━━━━━━━━━━━━━━\u001b[0m\u001b[37m\u001b[0m \u001b[1m98s\u001b[0m 638ms/step - accuracy: 0.9997 - loss: 1.5255 - val_accuracy: 0.8439 - val_loss: 1.8134 - learning_rate: 1.0000e-04\n",
      "Epoch 20/30\n",
      "\u001b[1m154/154\u001b[0m \u001b[32m━━━━━━━━━━━━━━━━━━━━\u001b[0m\u001b[37m\u001b[0m \u001b[1m98s\u001b[0m 638ms/step - accuracy: 0.9999 - loss: 1.2455 - val_accuracy: 0.8553 - val_loss: 1.5355 - learning_rate: 1.0000e-04\n",
      "Epoch 21/30\n",
      "\u001b[1m154/154\u001b[0m \u001b[32m━━━━━━━━━━━━━━━━━━━━\u001b[0m\u001b[37m\u001b[0m \u001b[1m98s\u001b[0m 637ms/step - accuracy: 0.9998 - loss: 1.0084 - val_accuracy: 0.8407 - val_loss: 1.3651 - learning_rate: 1.0000e-04\n",
      "Epoch 22/30\n",
      "\u001b[1m154/154\u001b[0m \u001b[32m━━━━━━━━━━━━━━━━━━━━\u001b[0m\u001b[37m\u001b[0m \u001b[1m98s\u001b[0m 638ms/step - accuracy: 0.9997 - loss: 0.8099 - val_accuracy: 0.8276 - val_loss: 1.2260 - learning_rate: 1.0000e-04\n",
      "Epoch 23/30\n",
      "\u001b[1m154/154\u001b[0m \u001b[32m━━━━━━━━━━━━━━━━━━━━\u001b[0m\u001b[37m\u001b[0m \u001b[1m98s\u001b[0m 637ms/step - accuracy: 0.9999 - loss: 0.6449 - val_accuracy: 0.8390 - val_loss: 1.0634 - learning_rate: 1.0000e-04\n",
      "Epoch 24/30\n",
      "\u001b[1m154/154\u001b[0m \u001b[32m━━━━━━━━━━━━━━━━━━━━\u001b[0m\u001b[37m\u001b[0m \u001b[1m98s\u001b[0m 638ms/step - accuracy: 0.9991 - loss: 0.5102 - val_accuracy: 0.8146 - val_loss: 1.0534 - learning_rate: 1.0000e-04\n",
      "Epoch 25/30\n",
      "\u001b[1m154/154\u001b[0m \u001b[32m━━━━━━━━━━━━━━━━━━━━\u001b[0m\u001b[37m\u001b[0m \u001b[1m98s\u001b[0m 636ms/step - accuracy: 0.9914 - loss: 0.4373 - val_accuracy: 0.7902 - val_loss: 1.0334 - learning_rate: 1.0000e-04\n",
      "Epoch 26/30\n",
      "\u001b[1m154/154\u001b[0m \u001b[32m━━━━━━━━━━━━━━━━━━━━\u001b[0m\u001b[37m\u001b[0m \u001b[1m98s\u001b[0m 637ms/step - accuracy: 0.9858 - loss: 0.3996 - val_accuracy: 0.6455 - val_loss: 1.6261 - learning_rate: 1.0000e-04\n",
      "Epoch 27/30\n",
      "\u001b[1m154/154\u001b[0m \u001b[32m━━━━━━━━━━━━━━━━━━━━\u001b[0m\u001b[37m\u001b[0m \u001b[1m98s\u001b[0m 637ms/step - accuracy: 0.8765 - loss: 0.7702 - val_accuracy: 0.8146 - val_loss: 1.1794 - learning_rate: 1.0000e-04\n",
      "Epoch 28/30\n",
      "\u001b[1m154/154\u001b[0m \u001b[32m━━━━━━━━━━━━━━━━━━━━\u001b[0m\u001b[37m\u001b[0m \u001b[1m98s\u001b[0m 637ms/step - accuracy: 0.9554 - loss: 0.4899 - val_accuracy: 0.7951 - val_loss: 1.0081 - learning_rate: 1.0000e-04\n",
      "Epoch 29/30\n",
      "\u001b[1m154/154\u001b[0m \u001b[32m━━━━━━━━━━━━━━━━━━━━\u001b[0m\u001b[37m\u001b[0m \u001b[1m98s\u001b[0m 637ms/step - accuracy: 0.9735 - loss: 0.3873 - val_accuracy: 0.8667 - val_loss: 0.8172 - learning_rate: 1.0000e-04\n",
      "Epoch 30/30\n",
      "\u001b[1m154/154\u001b[0m \u001b[32m━━━━━━━━━━━━━━━━━━━━\u001b[0m\u001b[37m\u001b[0m \u001b[1m98s\u001b[0m 637ms/step - accuracy: 0.9940 - loss: 0.2808 - val_accuracy: 0.8569 - val_loss: 0.7183 - learning_rate: 1.0000e-04\n"
     ]
    }
   ],
   "source": [
    "from tensorflow.keras.callbacks import ReduceLROnPlateau\n",
    "\n",
    "lr_scheduler = ReduceLROnPlateau(monitor='val_loss', \n",
    "                                 factor=0.5, \n",
    "                                 patience=3, \n",
    "                                 min_lr=1e-6)\n",
    "\n",
    "\n",
    "\n",
    "print(f\"Dataset - {DATASET_NAME}\")\n",
    "print(f\"There are total {len(ALL_CLASS_NAMES)} classes, selected {NO_OF_CLASSES} classes\")\n",
    "print(f\"Setting {MAX_VIDEO_PER_CLASS} videos/class to train the model.\")\n",
    "print(f\"Image size {IMAGE_HEIGHT}x{IMAGE_WIDTH} with {SEQUENCE_LENGTH} sequence length\")\n",
    "print(f\"Dropout rate: {DROPOUT_RATE}\")\n",
    "print(f\"Train-Test split ratio {int((1-TEST_SIZE)*100)}/{int(TEST_SIZE*100)}\")\n",
    "print(f\"Validation data from Train set {VALIDATION_SPLIT*100}%\")\n",
    "\n",
    "print(\"\\n\")\n",
    "\n",
    "print(f\"Training started for {len(train_gen.videos)} videos of {NO_OF_CLASSES} classes with {len(val_gen.videos)} videos for validation...\")\n",
    "\n",
    "model_history = xlstm_model.fit(\n",
    "    train_gen.as_dataset(),\n",
    "    validation_data=val_gen.as_dataset(),\n",
    "    epochs=EPOCHS,\n",
    "    # class_weight=class_weight_dict,\n",
    "    callbacks=[early_stopping_callback, lr_scheduler]\n",
    ")"
   ]
  },
  {
   "cell_type": "markdown",
   "id": "0df2a358",
   "metadata": {
    "papermill": {
     "duration": 0.425454,
     "end_time": "2025-07-06T19:53:35.395988",
     "exception": false,
     "start_time": "2025-07-06T19:53:34.970534",
     "status": "completed"
    },
    "tags": []
   },
   "source": [
    "# Evaluation"
   ]
  },
  {
   "cell_type": "markdown",
   "id": "5e4ae2cf",
   "metadata": {
    "papermill": {
     "duration": 0.369527,
     "end_time": "2025-07-06T19:53:36.137766",
     "exception": false,
     "start_time": "2025-07-06T19:53:35.768239",
     "status": "completed"
    },
    "tags": []
   },
   "source": [
    "## ⚡ Model Evaluate"
   ]
  },
  {
   "cell_type": "code",
   "execution_count": 60,
   "id": "6eceeb65",
   "metadata": {
    "execution": {
     "iopub.execute_input": "2025-07-06T19:53:36.927333Z",
     "iopub.status.busy": "2025-07-06T19:53:36.926585Z",
     "iopub.status.idle": "2025-07-06T19:53:45.501975Z",
     "shell.execute_reply": "2025-07-06T19:53:45.501396Z"
    },
    "papermill": {
     "duration": 8.944767,
     "end_time": "2025-07-06T19:53:45.503082",
     "exception": false,
     "start_time": "2025-07-06T19:53:36.558315",
     "status": "completed"
    },
    "tags": []
   },
   "outputs": [
    {
     "name": "stdout",
     "output_type": "stream",
     "text": [
      "\u001b[1m24/24\u001b[0m \u001b[32m━━━━━━━━━━━━━━━━━━━━\u001b[0m\u001b[37m\u001b[0m \u001b[1m7s\u001b[0m 252ms/step - accuracy: 0.8381 - loss: 0.7629\n"
     ]
    }
   ],
   "source": [
    "# previous code\n",
    "model_evaluation_history = xlstm_model.evaluate(features_test, labels_test)"
   ]
  },
  {
   "cell_type": "code",
   "execution_count": 61,
   "id": "0ff05919",
   "metadata": {
    "execution": {
     "iopub.execute_input": "2025-07-06T19:53:46.299703Z",
     "iopub.status.busy": "2025-07-06T19:53:46.299443Z",
     "iopub.status.idle": "2025-07-06T19:53:46.649940Z",
     "shell.execute_reply": "2025-07-06T19:53:46.649265Z"
    },
    "papermill": {
     "duration": 0.774951,
     "end_time": "2025-07-06T19:53:46.651403",
     "exception": false,
     "start_time": "2025-07-06T19:53:45.876452",
     "status": "completed"
    },
    "tags": []
   },
   "outputs": [
    {
     "data": {
      "image/png": "[encoded data removed]",
      "text/plain": [
       "<Figure size 1200x500 with 2 Axes>"
      ]
     },
     "metadata": {},
     "output_type": "display_data"
    }
   ],
   "source": [
    "import matplotlib.pyplot as plt\n",
    "\n",
    "# Accuracy\n",
    "plt.figure(figsize=(12, 5))\n",
    "\n",
    "plt.subplot(1, 2, 1)\n",
    "plt.plot(model_history.history['accuracy'], label='Train Accuracy')\n",
    "plt.plot(model_history.history['val_accuracy'], label='Validation Accuracy')\n",
    "plt.title('Model Accuracy')\n",
    "plt.xlabel('Epoch')\n",
    "plt.ylabel('Accuracy')\n",
    "plt.legend()\n",
    "\n",
    "# Loss\n",
    "plt.subplot(1, 2, 2)\n",
    "plt.plot(model_history.history['loss'], label='Train Loss')\n",
    "plt.plot(model_history.history['val_loss'], label='Validation Loss')\n",
    "plt.title('Model Loss')\n",
    "plt.xlabel('Epoch')\n",
    "plt.ylabel('Loss')\n",
    "plt.legend()\n",
    "\n",
    "plt.tight_layout()\n",
    "plt.show()\n"
   ]
  },
  {
   "cell_type": "markdown",
   "id": "aa1ecd20",
   "metadata": {
    "papermill": {
     "duration": 0.425721,
     "end_time": "2025-07-06T19:53:47.466978",
     "exception": false,
     "start_time": "2025-07-06T19:53:47.041257",
     "status": "completed"
    },
    "tags": []
   },
   "source": [
    "## 📈 Confusion Matrix"
   ]
  },
  {
   "cell_type": "code",
   "execution_count": 62,
   "id": "6540ce48",
   "metadata": {
    "execution": {
     "iopub.execute_input": "2025-07-06T19:53:48.219562Z",
     "iopub.status.busy": "2025-07-06T19:53:48.219270Z",
     "iopub.status.idle": "2025-07-06T19:54:03.828703Z",
     "shell.execute_reply": "2025-07-06T19:54:03.827996Z"
    },
    "papermill": {
     "duration": 15.982991,
     "end_time": "2025-07-06T19:54:03.830127",
     "exception": false,
     "start_time": "2025-07-06T19:53:47.847136",
     "status": "completed"
    },
    "tags": []
   },
   "outputs": [
    {
     "name": "stdout",
     "output_type": "stream",
     "text": [
      "Total 768 videos and 768 classes\n",
      "\u001b[1m192/192\u001b[0m \u001b[32m━━━━━━━━━━━━━━━━━━━━\u001b[0m\u001b[37m\u001b[0m \u001b[1m14s\u001b[0m 49ms/step\n",
      "True classes shape: (768,)\n",
      "Predicted classes shape: (768,)\n",
      "Classification Report:\n",
      "                                 precision    recall  f1-score   support\n",
      "\n",
      "                          write       0.73      0.82      0.77        49\n",
      "                      sit still       0.72      0.68      0.70        57\n",
      "                       sit down       1.00      1.00      1.00        53\n",
      "move hands in front of the body       1.00      0.84      0.91        38\n",
      "               raise one leg up       0.94      0.81      0.87        42\n",
      "            drink from a bottle       0.78      0.53      0.63        53\n",
      "                       stand up       0.76      0.96      0.85        50\n",
      "                           read       0.80      0.71      0.75        51\n",
      "                    throw paper       0.73      0.64      0.68        42\n",
      "                           walk       1.00      0.93      0.96        44\n",
      "               drink from a mug       0.70      0.81      0.75        53\n",
      "                  fall from bed       0.97      0.81      0.89        43\n",
      "                          faint       0.75      1.00      0.86        43\n",
      "              raise one hand up       0.85      0.92      0.88        50\n",
      "                       cheer up       0.94      0.94      0.94        47\n",
      "   move hands close to the body       0.87      1.00      0.93        53\n",
      "\n",
      "                       accuracy                           0.84       768\n",
      "                      macro avg       0.85      0.84      0.84       768\n",
      "                   weighted avg       0.84      0.84      0.83       768\n",
      "\n"
     ]
    },
    {
     "name": "stderr",
     "output_type": "stream",
     "text": [
      "/usr/local/lib/python3.11/dist-packages/keras/src/trainers/epoch_iterator.py:151: UserWarning: Your input ran out of data; interrupting training. Make sure that your dataset or generator can generate at least `steps_per_epoch * epochs` batches. You may need to use the `.repeat()` function when building your dataset.\n",
      "  self._interrupted_warning()\n"
     ]
    },
    {
     "data": {
      "image/png": "[encoded data removed]",
      "text/plain": [
       "<Figure size 800x600 with 2 Axes>"
      ]
     },
     "metadata": {},
     "output_type": "display_data"
    }
   ],
   "source": [
    "from sklearn.metrics import classification_report, confusion_matrix\n",
    "import seaborn as sns\n",
    "import matplotlib.pyplot as plt\n",
    "\n",
    "# Create test generator with batch_size matching test set size\n",
    "test_gen = VideoDataGenerator(\n",
    "    videos=features_test,\n",
    "    labels=labels_test,\n",
    "    batch_size=4,  # Process all test samples at once\n",
    ")\n",
    "\n",
    "# Get predictions\n",
    "predictions = xlstm_model.predict(test_gen.as_dataset())\n",
    "predicted_classes = np.argmax(predictions, axis=1)\n",
    "true_classes = np.argmax(labels_test, axis=1)\n",
    "\n",
    "# Verify shapes\n",
    "print(f\"True classes shape: {true_classes.shape}\")\n",
    "print(f\"Predicted classes shape: {predicted_classes.shape}\")\n",
    "assert len(true_classes) == len(predicted_classes), \"Sample counts do not match!\"\n",
    "\n",
    "# Generate classification report\n",
    "print(\"Classification Report:\")\n",
    "print(classification_report(true_classes, predicted_classes, target_names=CLASSES_LIST))\n",
    "\n",
    "# Plot confusion matrix\n",
    "cm = confusion_matrix(true_classes, predicted_classes)\n",
    "plt.figure(figsize=(8, 6))\n",
    "sns.heatmap(cm, annot=True, fmt='d', cmap='Blues', xticklabels=CLASSES_LIST, yticklabels=CLASSES_LIST[-1])\n",
    "plt.xlabel('Predicted')\n",
    "plt.ylabel('True')\n",
    "plt.title('Confusion Matrix')\n",
    "plt.show()"
   ]
  }
 ],
 "metadata": {
  "kaggle": {
   "accelerator": "nvidiaTeslaT4",
   "dataSources": [
    {
     "datasetId": 1357563,
     "sourceId": 2256095,
     "sourceType": "datasetVersion"
    },
    {
     "datasetId": 7763484,
     "sourceId": 12338519,
     "sourceType": "datasetVersion"
    },
    {
     "datasetId": 7801555,
     "sourceId": 12373067,
     "sourceType": "datasetVersion"
    },
    {
     "datasetId": 7801884,
     "sourceId": 12373562,
     "sourceType": "datasetVersion"
    }
   ],
   "dockerImageVersionId": 31041,
   "isGpuEnabled": true,
   "isInternetEnabled": true,
   "language": "python",
   "sourceType": "notebook"
  },
  "kernelspec": {
   "display_name": "Python 3",
   "language": "python",
   "name": "python3"
  },
  "language_info": {
   "codemirror_mode": {
    "name": "ipython",
    "version": 3
   },
   "file_extension": ".py",
   "mimetype": "text/x-python",
   "name": "python",
   "nbconvert_exporter": "python",
   "pygments_lexer": "ipython3",
   "version": "3.11.11"
  },
  "papermill": {
   "default_parameters": {},
   "duration": 3491.417385,
   "end_time": "2025-07-06T19:54:07.786971",
   "environment_variables": {},
   "exception": null,
   "input_path": "__notebook__.ipynb",
   "output_path": "__notebook__.ipynb",
   "parameters": {},
   "start_time": "2025-07-06T18:55:56.369586",
   "version": "2.6.0"
  }
 },
 "nbformat": 4,
 "nbformat_minor": 5
}
