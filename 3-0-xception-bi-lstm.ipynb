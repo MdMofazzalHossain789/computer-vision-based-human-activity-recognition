{
 "cells": [
  {
   "cell_type": "markdown",
   "id": "88285c42",
   "metadata": {
    "papermill": {
     "duration": 0.0115,
     "end_time": "2025-07-06T16:55:26.060937",
     "exception": false,
     "start_time": "2025-07-06T16:55:26.049437",
     "status": "completed"
    },
    "tags": []
   },
   "source": [
    "# Initialization\n",
    "## Import Libraries"
   ]
  },
  {
   "cell_type": "code",
   "execution_count": 1,
   "id": "9a60a75c",
   "metadata": {
    "execution": {
     "iopub.execute_input": "2025-07-06T16:55:26.082260Z",
     "iopub.status.busy": "2025-07-06T16:55:26.082041Z",
     "iopub.status.idle": "2025-07-06T16:55:41.545156Z",
     "shell.execute_reply": "2025-07-06T16:55:41.544294Z"
    },
    "papermill": {
     "duration": 15.475657,
     "end_time": "2025-07-06T16:55:41.546534",
     "exception": false,
     "start_time": "2025-07-06T16:55:26.070877",
     "status": "completed"
    },
    "tags": []
   },
   "outputs": [
    {
     "name": "stdout",
     "output_type": "stream",
     "text": [
      "Collecting mediapipe\r\n",
      "  Downloading mediapipe-0.10.21-cp311-cp311-manylinux_2_28_x86_64.whl.metadata (9.7 kB)\r\n",
      "Requirement already satisfied: absl-py in /usr/local/lib/python3.11/dist-packages (from mediapipe) (1.4.0)\r\n",
      "Requirement already satisfied: attrs>=19.1.0 in /usr/local/lib/python3.11/dist-packages (from mediapipe) (25.3.0)\r\n",
      "Requirement already satisfied: flatbuffers>=2.0 in /usr/local/lib/python3.11/dist-packages (from mediapipe) (25.2.10)\r\n",
      "Requirement already satisfied: jax in /usr/local/lib/python3.11/dist-packages (from mediapipe) (0.5.2)\r\n",
      "Requirement already satisfied: jaxlib in /usr/local/lib/python3.11/dist-packages (from mediapipe) (0.5.1)\r\n",
      "Requirement already satisfied: matplotlib in /usr/local/lib/python3.11/dist-packages (from mediapipe) (3.7.2)\r\n",
      "Requirement already satisfied: numpy<2 in /usr/local/lib/python3.11/dist-packages (from mediapipe) (1.26.4)\r\n",
      "Requirement already satisfied: opencv-contrib-python in /usr/local/lib/python3.11/dist-packages (from mediapipe) (4.11.0.86)\r\n",
      "Collecting protobuf<5,>=4.25.3 (from mediapipe)\r\n",
      "  Downloading protobuf-4.25.8-cp37-abi3-manylinux2014_x86_64.whl.metadata (541 bytes)\r\n",
      "Collecting sounddevice>=0.4.4 (from mediapipe)\r\n",
      "  Downloading sounddevice-0.5.2-py3-none-any.whl.metadata (1.6 kB)\r\n",
      "Requirement already satisfied: sentencepiece in /usr/local/lib/python3.11/dist-packages (from mediapipe) (0.2.0)\r\n",
      "Requirement already satisfied: mkl_fft in /usr/local/lib/python3.11/dist-packages (from numpy<2->mediapipe) (1.3.8)\r\n",
      "Requirement already satisfied: mkl_random in /usr/local/lib/python3.11/dist-packages (from numpy<2->mediapipe) (1.2.4)\r\n",
      "Requirement already satisfied: mkl_umath in /usr/local/lib/python3.11/dist-packages (from numpy<2->mediapipe) (0.1.1)\r\n",
      "Requirement already satisfied: mkl in /usr/local/lib/python3.11/dist-packages (from numpy<2->mediapipe) (2025.1.0)\r\n",
      "Requirement already satisfied: tbb4py in /usr/local/lib/python3.11/dist-packages (from numpy<2->mediapipe) (2022.1.0)\r\n",
      "Requirement already satisfied: mkl-service in /usr/local/lib/python3.11/dist-packages (from numpy<2->mediapipe) (2.4.1)\r\n",
      "Requirement already satisfied: CFFI>=1.0 in /usr/local/lib/python3.11/dist-packages (from sounddevice>=0.4.4->mediapipe) (1.17.1)\r\n",
      "Requirement already satisfied: ml_dtypes>=0.4.0 in /usr/local/lib/python3.11/dist-packages (from jax->mediapipe) (0.4.1)\r\n",
      "Requirement already satisfied: opt_einsum in /usr/local/lib/python3.11/dist-packages (from jax->mediapipe) (3.4.0)\r\n",
      "Requirement already satisfied: scipy>=1.11.1 in /usr/local/lib/python3.11/dist-packages (from jax->mediapipe) (1.15.2)\r\n",
      "Requirement already satisfied: contourpy>=1.0.1 in /usr/local/lib/python3.11/dist-packages (from matplotlib->mediapipe) (1.3.1)\r\n",
      "Requirement already satisfied: cycler>=0.10 in /usr/local/lib/python3.11/dist-packages (from matplotlib->mediapipe) (0.12.1)\r\n",
      "Requirement already satisfied: fonttools>=4.22.0 in /usr/local/lib/python3.11/dist-packages (from matplotlib->mediapipe) (4.57.0)\r\n",
      "Requirement already satisfied: kiwisolver>=1.0.1 in /usr/local/lib/python3.11/dist-packages (from matplotlib->mediapipe) (1.4.8)\r\n",
      "Requirement already satisfied: packaging>=20.0 in /usr/local/lib/python3.11/dist-packages (from matplotlib->mediapipe) (25.0)\r\n",
      "Requirement already satisfied: pillow>=6.2.0 in /usr/local/lib/python3.11/dist-packages (from matplotlib->mediapipe) (11.1.0)\r\n",
      "Requirement already satisfied: pyparsing<3.1,>=2.3.1 in /usr/local/lib/python3.11/dist-packages (from matplotlib->mediapipe) (3.0.9)\r\n",
      "Requirement already satisfied: python-dateutil>=2.7 in /usr/local/lib/python3.11/dist-packages (from matplotlib->mediapipe) (2.9.0.post0)\r\n",
      "Requirement already satisfied: pycparser in /usr/local/lib/python3.11/dist-packages (from CFFI>=1.0->sounddevice>=0.4.4->mediapipe) (2.22)\r\n",
      "Requirement already satisfied: six>=1.5 in /usr/local/lib/python3.11/dist-packages (from python-dateutil>=2.7->matplotlib->mediapipe) (1.17.0)\r\n",
      "Requirement already satisfied: intel-openmp<2026,>=2024 in /usr/local/lib/python3.11/dist-packages (from mkl->numpy<2->mediapipe) (2024.2.0)\r\n",
      "Requirement already satisfied: tbb==2022.* in /usr/local/lib/python3.11/dist-packages (from mkl->numpy<2->mediapipe) (2022.1.0)\r\n",
      "Requirement already satisfied: tcmlib==1.* in /usr/local/lib/python3.11/dist-packages (from tbb==2022.*->mkl->numpy<2->mediapipe) (1.3.0)\r\n",
      "Requirement already satisfied: intel-cmplr-lib-rt in /usr/local/lib/python3.11/dist-packages (from mkl_umath->numpy<2->mediapipe) (2024.2.0)\r\n",
      "Requirement already satisfied: intel-cmplr-lib-ur==2024.2.0 in /usr/local/lib/python3.11/dist-packages (from intel-openmp<2026,>=2024->mkl->numpy<2->mediapipe) (2024.2.0)\r\n",
      "Downloading mediapipe-0.10.21-cp311-cp311-manylinux_2_28_x86_64.whl (35.6 MB)\r\n",
      "\u001b[2K   \u001b[90m━━━━━━━━━━━━━━━━━━━━━━━━━━━━━━━━━━━━━━━━\u001b[0m \u001b[32m35.6/35.6 MB\u001b[0m \u001b[31m53.7 MB/s\u001b[0m eta \u001b[36m0:00:00\u001b[0m\r\n",
      "\u001b[?25hDownloading protobuf-4.25.8-cp37-abi3-manylinux2014_x86_64.whl (294 kB)\r\n",
      "\u001b[2K   \u001b[90m━━━━━━━━━━━━━━━━━━━━━━━━━━━━━━━━━━━━━━━━\u001b[0m \u001b[32m294.9/294.9 kB\u001b[0m \u001b[31m24.0 MB/s\u001b[0m eta \u001b[36m0:00:00\u001b[0m\r\n",
      "\u001b[?25hDownloading sounddevice-0.5.2-py3-none-any.whl (32 kB)\r\n",
      "Installing collected packages: protobuf, sounddevice, mediapipe\r\n",
      "  Attempting uninstall: protobuf\r\n",
      "    Found existing installation: protobuf 3.20.3\r\n",
      "    Uninstalling protobuf-3.20.3:\r\n",
      "      Successfully uninstalled protobuf-3.20.3\r\n",
      "\u001b[31mERROR: pip's dependency resolver does not currently take into account all the packages that are installed. This behaviour is the source of the following dependency conflicts.\r\n",
      "google-api-core 1.34.1 requires protobuf!=3.20.0,!=3.20.1,!=4.21.0,!=4.21.1,!=4.21.2,!=4.21.3,!=4.21.4,!=4.21.5,<4.0.0dev,>=3.19.5, but you have protobuf 4.25.8 which is incompatible.\r\n",
      "bigframes 1.42.0 requires rich<14,>=12.4.4, but you have rich 14.0.0 which is incompatible.\r\n",
      "google-spark-connect 0.5.2 requires google-api-core>=2.19.1, but you have google-api-core 1.34.1 which is incompatible.\r\n",
      "google-cloud-bigtable 2.30.0 requires google-api-core[grpc]<3.0.0,>=2.16.0, but you have google-api-core 1.34.1 which is incompatible.\r\n",
      "google-cloud-storage 2.19.0 requires google-api-core<3.0.0dev,>=2.15.0, but you have google-api-core 1.34.1 which is incompatible.\r\n",
      "pandas-gbq 0.28.0 requires google-api-core<3.0.0dev,>=2.10.2, but you have google-api-core 1.34.1 which is incompatible.\u001b[0m\u001b[31m\r\n",
      "\u001b[0mSuccessfully installed mediapipe-0.10.21 protobuf-4.25.8 sounddevice-0.5.2\r\n",
      "Note: you may need to restart the kernel to use updated packages.\n"
     ]
    }
   ],
   "source": [
    "pip install mediapipe"
   ]
  },
  {
   "cell_type": "code",
   "execution_count": 2,
   "id": "a869b82e",
   "metadata": {
    "_cell_guid": "b1076dfc-b9ad-4769-8c92-a6c4dae69d19",
    "_uuid": "8f2839f25d086af736a60e9eeb907d3b93b6e0e5",
    "execution": {
     "iopub.execute_input": "2025-07-06T16:55:41.569495Z",
     "iopub.status.busy": "2025-07-06T16:55:41.569231Z",
     "iopub.status.idle": "2025-07-06T16:55:55.112771Z",
     "shell.execute_reply": "2025-07-06T16:55:55.112165Z"
    },
    "papermill": {
     "duration": 13.55633,
     "end_time": "2025-07-06T16:55:55.114132",
     "exception": false,
     "start_time": "2025-07-06T16:55:41.557802",
     "status": "completed"
    },
    "tags": []
   },
   "outputs": [
    {
     "name": "stderr",
     "output_type": "stream",
     "text": [
      "2025-07-06 16:55:42.915927: E external/local_xla/xla/stream_executor/cuda/cuda_fft.cc:477] Unable to register cuFFT factory: Attempting to register factory for plugin cuFFT when one has already been registered\n",
      "WARNING: All log messages before absl::InitializeLog() is called are written to STDERR\n",
      "E0000 00:00:1751820943.075251      19 cuda_dnn.cc:8310] Unable to register cuDNN factory: Attempting to register factory for plugin cuDNN when one has already been registered\n",
      "E0000 00:00:1751820943.126189      19 cuda_blas.cc:1418] Unable to register cuBLAS factory: Attempting to register factory for plugin cuBLAS when one has already been registered\n"
     ]
    }
   ],
   "source": [
    "# install librarires\n",
    "import os\n",
    "import tensorflow as tf\n",
    "import numpy as np\n",
    "import random"
   ]
  },
  {
   "cell_type": "markdown",
   "id": "e1b67d42",
   "metadata": {
    "papermill": {
     "duration": 0.010741,
     "end_time": "2025-07-06T16:55:55.135943",
     "exception": false,
     "start_time": "2025-07-06T16:55:55.125202",
     "status": "completed"
    },
    "tags": []
   },
   "source": [
    "## ℹ️ Set Global Constants"
   ]
  },
  {
   "cell_type": "code",
   "execution_count": 3,
   "id": "d3c51e9e",
   "metadata": {
    "execution": {
     "iopub.execute_input": "2025-07-06T16:55:55.158536Z",
     "iopub.status.busy": "2025-07-06T16:55:55.158087Z",
     "iopub.status.idle": "2025-07-06T16:55:55.173601Z",
     "shell.execute_reply": "2025-07-06T16:55:55.172882Z"
    },
    "papermill": {
     "duration": 0.028071,
     "end_time": "2025-07-06T16:55:55.174721",
     "exception": false,
     "start_time": "2025-07-06T16:55:55.146650",
     "status": "completed"
    },
    "tags": []
   },
   "outputs": [
    {
     "name": "stdout",
     "output_type": "stream",
     "text": [
      "Ucf50\n",
      "There are total 50 classes, selected 16 classes\n",
      "Setting 30/class to train the model.\n",
      "Image size 128x128 with 5 sequence length\n",
      "Dropout rate: 0.5\n",
      "Train-Test split ratio 80/20\n",
      "Validation data from Train set 20.0%\n"
     ]
    }
   ],
   "source": [
    "# global variables\n",
    "# set dataset directories\n",
    "\n",
    "\n",
    "DATASET_DIR = \"/kaggle/input/ucf50/UCF50\"\n",
    "DATASET_NAME = DATASET_DIR.split(\"/\")[-1].replace(\"-\", \" \").title()\n",
    "\n",
    "print(DATASET_NAME)\n",
    "\n",
    "ALL_CLASS_NAMES = os.listdir(DATASET_DIR)\n",
    "\n",
    "# Global constant variables -> \n",
    "NO_OF_CLASSES = 16\n",
    "CLASSES_LIST = ALL_CLASS_NAMES[:NO_OF_CLASSES]\n",
    "\n",
    "# Model Configuration\n",
    "IMAGE_HEIGHT, IMAGE_WIDTH = 128, 128\n",
    "SEQUENCE_LENGTH = 5\n",
    "\n",
    "# set drop out rate\n",
    "DROPOUT_RATE = 0.5\n",
    "\n",
    "# set datas\n",
    "MAX_VIDEO_PER_CLASS = 30\n",
    "\n",
    "# split dataset\n",
    "TEST_SIZE = 0.20\n",
    "\n",
    "# model fit parameters\n",
    "EPOCHS = 30\n",
    "BATCH_SIZE = 16\n",
    "VALIDATION_SPLIT = 0.20\n",
    "\n",
    "# augmentation values\n",
    "NOISE_FACTOR = 0.02\n",
    "SHEAR_X= 1\n",
    "SHEAR_Y= 1\n",
    "\n",
    "# give a name of the model to save\n",
    "MODEL_NAME = \"Xception\"\n",
    "\n",
    "print(f\"There are total {len(ALL_CLASS_NAMES)} classes, selected {NO_OF_CLASSES} classes\")\n",
    "print(f\"Setting {MAX_VIDEO_PER_CLASS}/class to train the model.\")\n",
    "print(f\"Image size {IMAGE_HEIGHT}x{IMAGE_WIDTH} with {SEQUENCE_LENGTH} sequence length\")\n",
    "print(f\"Dropout rate: {DROPOUT_RATE}\")\n",
    "print(f\"Train-Test split ratio {int((1-TEST_SIZE)*100)}/{int(TEST_SIZE*100)}\")\n",
    "print(f\"Validation data from Train set {VALIDATION_SPLIT*100}%\")"
   ]
  },
  {
   "cell_type": "markdown",
   "id": "595bead9",
   "metadata": {
    "papermill": {
     "duration": 0.010671,
     "end_time": "2025-07-06T16:55:55.196340",
     "exception": false,
     "start_time": "2025-07-06T16:55:55.185669",
     "status": "completed"
    },
    "tags": []
   },
   "source": [
    "## Set `Seed` Values"
   ]
  },
  {
   "cell_type": "code",
   "execution_count": 4,
   "id": "34db797f",
   "metadata": {
    "execution": {
     "iopub.execute_input": "2025-07-06T16:55:55.218739Z",
     "iopub.status.busy": "2025-07-06T16:55:55.218545Z",
     "iopub.status.idle": "2025-07-06T16:55:55.222269Z",
     "shell.execute_reply": "2025-07-06T16:55:55.221592Z"
    },
    "papermill": {
     "duration": 0.016239,
     "end_time": "2025-07-06T16:55:55.223450",
     "exception": false,
     "start_time": "2025-07-06T16:55:55.207211",
     "status": "completed"
    },
    "tags": []
   },
   "outputs": [],
   "source": [
    "# set seeed to get similar values\n",
    "seed_constant = 27\n",
    "np.random.seed(seed_constant)\n",
    "random.seed(seed_constant)\n",
    "tf.random.set_seed(seed_constant)"
   ]
  },
  {
   "cell_type": "markdown",
   "id": "231ebd6d",
   "metadata": {
    "papermill": {
     "duration": 0.010863,
     "end_time": "2025-07-06T16:55:55.244859",
     "exception": false,
     "start_time": "2025-07-06T16:55:55.233996",
     "status": "completed"
    },
    "tags": []
   },
   "source": [
    "# 📌 Function Definition\n",
    "## Resize and Frame Extraction"
   ]
  },
  {
   "cell_type": "code",
   "execution_count": 5,
   "id": "3e6eebec",
   "metadata": {
    "execution": {
     "iopub.execute_input": "2025-07-06T16:55:55.314183Z",
     "iopub.status.busy": "2025-07-06T16:55:55.313725Z",
     "iopub.status.idle": "2025-07-06T16:55:55.324456Z",
     "shell.execute_reply": "2025-07-06T16:55:55.323719Z"
    },
    "papermill": {
     "duration": 0.025264,
     "end_time": "2025-07-06T16:55:55.325684",
     "exception": false,
     "start_time": "2025-07-06T16:55:55.300420",
     "status": "completed"
    },
    "tags": []
   },
   "outputs": [],
   "source": [
    "import cv2\n",
    "from concurrent.futures import ThreadPoolExecutor\n",
    "\n",
    "def resize_and_normalize_frame(frame, image_height, image_width):\n",
    "    try:\n",
    "        resized_frame = cv2.resize(frame, (image_width, image_height), interpolation=cv2.INTER_LINEAR)\n",
    "        normalized_frame = resized_frame / 255.0\n",
    "        return normalized_frame\n",
    "    except Exception as e:\n",
    "        print(f\"Error processing frame: {e}\")\n",
    "        return None\n",
    "\n",
    "def frames_extraction(video_path, \n",
    "                      sequence_length=SEQUENCE_LENGTH, \n",
    "                      image_height=IMAGE_HEIGHT, \n",
    "                      image_width=IMAGE_WIDTH):\n",
    "    # Declare a list to store video frames\n",
    "    frames_list = []\n",
    "\n",
    "    # Check if video file exists\n",
    "    if not os.path.exists(video_path):\n",
    "        print(f\"Error: Video file not found at {video_path}\")\n",
    "        return None\n",
    "\n",
    "    # Read the video file using VideoCapture with optimized settings\n",
    "    video_reader = cv2.VideoCapture(video_path, cv2.CAP_FFMPEG)\n",
    "\n",
    "    # Check if the video was opened successfully\n",
    "    if not video_reader.isOpened():\n",
    "        print(f\"Error: Could not open video file {video_path}\")\n",
    "        video_reader.release()\n",
    "        return None\n",
    "\n",
    "    # Get the total number of frames in the video\n",
    "    video_frames_count = int(video_reader.get(cv2.CAP_PROP_FRAME_COUNT))\n",
    "\n",
    "    # Ensure the video has enough frames\n",
    "    if video_frames_count < sequence_length:\n",
    "        print(f\"Warning: Video {video_path} has only {video_frames_count} frames, less than required {sequence_length}\")\n",
    "        video_reader.release()\n",
    "        return None\n",
    "\n",
    "    # Calculate the interval after which frames will be sampled\n",
    "    skip_frames_window = max(int(video_frames_count / sequence_length), 1)\n",
    "\n",
    "    # Pre-allocate frame indices to extract\n",
    "    frame_indices = [i * skip_frames_window for i in range(sequence_length)]\n",
    "\n",
    "    # Read and process frames in parallel\n",
    "    frames = []\n",
    "    for idx in frame_indices:\n",
    "        video_reader.set(cv2.CAP_PROP_POS_FRAMES, idx)\n",
    "        success, frame = video_reader.read()\n",
    "        if not success or frame is None:\n",
    "            print(f\"Warning: Failed to read frame at index {idx} from {video_path}\")\n",
    "            break\n",
    "        frame = cv2.cvtColor(frame, cv2.COLOR_BGR2RGB)\n",
    "        frames.append(frame)\n",
    "\n",
    "    # Release the VideoCapture object early\n",
    "    video_reader.release()\n",
    "\n",
    "    # Ensure the correct number of frames is read\n",
    "    if len(frames) != sequence_length:\n",
    "        print(f\"Warning: Read {len(frames)} frames instead of {sequence_length} from {video_path}\")\n",
    "        return None\n",
    "\n",
    "    # Process frames in parallel using ThreadPoolExecutor\n",
    "    with ThreadPoolExecutor() as executor:\n",
    "        processed_frames = list(executor.map(\n",
    "            lambda f: resize_and_normalize_frame(f, image_height, image_width), \n",
    "            frames\n",
    "        ))\n",
    "\n",
    "    # Check for any failed frame processing\n",
    "    if any(f is None for f in processed_frames):\n",
    "        print(f\"Warning: Some frames failed to process in {video_path}\")\n",
    "        return None\n",
    "\n",
    "    # Convert to NumPy array\n",
    "    frames_array = np.array(processed_frames, dtype=np.float32)\n",
    "\n",
    "    return frames_array"
   ]
  },
  {
   "cell_type": "code",
   "execution_count": 6,
   "id": "bc82ee11",
   "metadata": {
    "execution": {
     "iopub.execute_input": "2025-07-06T16:55:55.348930Z",
     "iopub.status.busy": "2025-07-06T16:55:55.348419Z",
     "iopub.status.idle": "2025-07-06T16:55:55.351555Z",
     "shell.execute_reply": "2025-07-06T16:55:55.351040Z"
    },
    "papermill": {
     "duration": 0.015876,
     "end_time": "2025-07-06T16:55:55.352616",
     "exception": false,
     "start_time": "2025-07-06T16:55:55.336740",
     "status": "completed"
    },
    "tags": []
   },
   "outputs": [],
   "source": [
    " # # Iterate through all video files\n",
    " #        for file_name in files_list:\n",
    " #            video_file_path = os.path.join(class_path, file_name)\n",
    "\n",
    " #            # Extract frames using the updated frames_extraction function\n",
    " #            frames = frames_extraction(video_file_path, sequence_length, image_height, image_width)\n",
    "\n",
    " #            # Skip videos where frame extraction failed\n",
    " #            if frames is None:\n",
    " #                print(f\"Skipping video {video_file_path} due to frame extraction failure\")\n",
    " #                continue\n",
    "\n",
    " #            # Append the data to respective lists\n",
    " #            features.append(frames)\n",
    " #            labels.append(class_index)"
   ]
  },
  {
   "cell_type": "markdown",
   "id": "8e19804d",
   "metadata": {
    "papermill": {
     "duration": 0.010982,
     "end_time": "2025-07-06T16:55:55.374566",
     "exception": false,
     "start_time": "2025-07-06T16:55:55.363584",
     "status": "completed"
    },
    "tags": []
   },
   "source": [
    "## Create Dataset"
   ]
  },
  {
   "cell_type": "code",
   "execution_count": 7,
   "id": "3d9300f6",
   "metadata": {
    "execution": {
     "iopub.execute_input": "2025-07-06T16:55:55.397579Z",
     "iopub.status.busy": "2025-07-06T16:55:55.397379Z",
     "iopub.status.idle": "2025-07-06T16:55:55.403938Z",
     "shell.execute_reply": "2025-07-06T16:55:55.403308Z"
    },
    "papermill": {
     "duration": 0.019444,
     "end_time": "2025-07-06T16:55:55.404935",
     "exception": false,
     "start_time": "2025-07-06T16:55:55.385491",
     "status": "completed"
    },
    "tags": []
   },
   "outputs": [],
   "source": [
    "# RUN create dataset function definition\n",
    "def create_dataset(dataset_dir,\n",
    "                   classes_list, \n",
    "                   sequence_length=SEQUENCE_LENGTH, \n",
    "                   image_height=IMAGE_HEIGHT, \n",
    "                   image_width=IMAGE_WIDTH, \n",
    "                   max_videos_per_class=None,\n",
    "                   augmentations=False\n",
    "                  ):\n",
    "    \n",
    "    # Initialize lists to store features, labels, and video file paths\n",
    "    videos = []\n",
    "    labels = []\n",
    "\n",
    "    # Check if dataset directory exists\n",
    "    if not os.path.exists(dataset_dir):\n",
    "        raise FileNotFoundError(f\"Dataset directory not found: {dataset_dir}\")\n",
    "\n",
    "    # Iterate through all classes in the classes list\n",
    "    for class_index, class_name in enumerate(classes_list):\n",
    "        class_path = os.path.join(dataset_dir, class_name)\n",
    "        \n",
    "        # Check if class directory exists\n",
    "        if not os.path.exists(class_path):\n",
    "            print(f\"Warning: Class directory not found: {class_path}\")\n",
    "            continue\n",
    "\n",
    "        print(f'Class: {class_name}')\n",
    "\n",
    "        # Get the list of video files in the class directory\n",
    "        files_list = os.listdir(class_path)\n",
    "\n",
    "        # Limit the number of videos if specified\n",
    "        if max_videos_per_class is not None:\n",
    "            files_list = files_list[:max_videos_per_class]\n",
    "\n",
    "        # Iterate through all video files\n",
    "        for (index, file_name) in enumerate(files_list):\n",
    "            video_file_path = os.path.join(class_path, file_name)\n",
    "\n",
    "            if index == (len(files_list)-1):\n",
    "                print(f'Extracting frames from file {index+1}: {file_name}', flush=True)\n",
    "            else:\n",
    "                print(f'Extracting frames from file {index+1}: {file_name}', end=\"\\r\", flush=True)\n",
    "            \n",
    "            # Extract frames using the updated frames_extraction function\n",
    "            frames = frames_extraction(video_file_path, \n",
    "                                       sequence_length, \n",
    "                                       image_height, \n",
    "                                       image_width)\n",
    "\n",
    "            # Skip videos where frame extraction failed\n",
    "            if frames is None:\n",
    "                print(f\"Skipping video {video_file_path} due to frame extraction failure\")\n",
    "                continue\n",
    "\n",
    "            # Append the data to respective lists\n",
    "            videos.append(frames)\n",
    "            labels.append(class_index)\n",
    "\n",
    "    # Convert lists to numpy arrays\n",
    "    if not videos:\n",
    "        raise ValueError(\"No valid videos were processed. Check dataset or parameters.\")\n",
    "    videos = np.asarray(videos)\n",
    "    labels = np.array(labels)\n",
    "\n",
    "    print(f\"Dataset created with {len(videos)} videos\")\n",
    "    print(f\"Features shape: {videos.shape}\")\n",
    "    print(f\"Labels shape: {labels.shape}\")\n",
    "\n",
    "    return videos, labels"
   ]
  },
  {
   "cell_type": "markdown",
   "id": "7c52c185",
   "metadata": {
    "papermill": {
     "duration": 0.011099,
     "end_time": "2025-07-06T16:55:55.427190",
     "exception": false,
     "start_time": "2025-07-06T16:55:55.416091",
     "status": "completed"
    },
    "tags": []
   },
   "source": [
    "## 🪄 Video Data Generator"
   ]
  },
  {
   "cell_type": "code",
   "execution_count": 8,
   "id": "86317e7b",
   "metadata": {
    "execution": {
     "iopub.execute_input": "2025-07-06T16:55:55.450421Z",
     "iopub.status.busy": "2025-07-06T16:55:55.450171Z",
     "iopub.status.idle": "2025-07-06T16:55:55.510934Z",
     "shell.execute_reply": "2025-07-06T16:55:55.510290Z"
    },
    "papermill": {
     "duration": 0.07402,
     "end_time": "2025-07-06T16:55:55.512066",
     "exception": false,
     "start_time": "2025-07-06T16:55:55.438046",
     "status": "completed"
    },
    "tags": []
   },
   "outputs": [],
   "source": [
    "from tensorflow.keras.utils import Sequence, to_categorical\n",
    "import tensorflow as tf\n",
    "import numpy as np\n",
    "import cv2\n",
    "\n",
    "\n",
    "\n",
    "\n",
    "class VideoDataGenerator(Sequence):\n",
    "    def __init__(self, videos, labels, batch_size, is_training=False):\n",
    "        self.videos = list(videos)  # List of video file paths\n",
    "        self.labels = list(labels)  # List or array of labels encoded\n",
    "        self.batch_size = batch_size\n",
    "        self.indices = np.arange(len(self.videos))  # For shuffling\n",
    "        self.is_training = is_training  # Flag to control whether augmentation is applied\n",
    "        self.temp_videos=[]\n",
    "        self.temp_labels=[]\n",
    "        \n",
    "        \n",
    "        print(f\"Total {len(videos)} videos and {len(labels)} classes\")\n",
    "\n",
    "    def __len__(self):\n",
    "        # Return the number of batches per epoch\n",
    "        return int(np.ceil(len(self.videos) / self.batch_size))\n",
    "\n",
    "    def __getitem__(self, idx):\n",
    "        # Get batch indices\n",
    "        batch_indices = self.indices[idx * self.batch_size:(idx + 1) * self.batch_size]\n",
    "        \n",
    "        # Handle case where batch_indices is empty\n",
    "        if len(batch_indices) == 0:\n",
    "            return np.array([], dtype=np.float32), np.array([], dtype=np.float32)\n",
    "        \n",
    "        # Initialize lists to store frames and labels\n",
    "        all_frames = []\n",
    "        all_labels = []\n",
    "        \n",
    "        # Process each video in the batch\n",
    "        for i, index in enumerate(batch_indices):\n",
    "            sequence = self.videos[index]\n",
    "            label = self.labels[index]\n",
    "            \n",
    "            # Append the sequence and label\n",
    "            all_frames.append(sequence)\n",
    "            all_labels.append(label)\n",
    "        \n",
    "        # Convert to numpy arrays\n",
    "        all_frames = np.array(all_frames, dtype=np.float32)\n",
    "        all_labels = np.array(all_labels)\n",
    "            \n",
    "        \n",
    "        return all_frames, all_labels\n",
    "    def add(self, new_videos, new_labels):\n",
    "        self.temp_videos.extend(new_videos)\n",
    "        self.temp_labels.extend(new_labels)\n",
    "    \n",
    "    def confirm(self):\n",
    "        self.videos.extend(self.temp_videos)\n",
    "        self.labels.extend(self.temp_labels)\n",
    "        print(f\"Successfully added - {len(self.temp_videos)} videos and {len(self.temp_labels)} classes.\")\n",
    "        self.temp_videos=[]\n",
    "        self.temp_labels=[]\n",
    "        self.indices = np.arange(len(self.videos))\n",
    "        print(f\"Now Total - {len(self.videos)} videos and {len(self.labels)} classes.\")\n",
    "        print(f\"PENDING for Augmentations - {len(self.temp_videos)} videos and {len(self.temp_labels)} classes.\")\n",
    "        \n",
    "    def replace_original(self):\n",
    "        self.videos=self.temp_videos\n",
    "        self.labels=self.temp_labels\n",
    "        self.temp_videos=[]\n",
    "        self.temp_labels=[]\n",
    "        print(f\"Successfully replaced, total original videos - {len(self.videos)} and augmented videos {len(self.temp_videos)}\")\n",
    "        \n",
    "    def on_epoch_end(self):\n",
    "        # Shuffle indices at the end of each epoch\n",
    "        np.random.shuffle(self.indices)\n",
    "\n",
    "    def as_dataset(self):\n",
    "        def generator():\n",
    "            for idx in range(len(self)):\n",
    "                frames, labels = self[idx]\n",
    "                # Skip empty batches\n",
    "                if frames.size == 0:\n",
    "                    continue\n",
    "                yield frames, labels\n",
    "        self.labels=np.array(self.labels)\n",
    "    \n",
    "        # Create a tf.data.Dataset\n",
    "        dataset = tf.data.Dataset.from_generator(\n",
    "            generator,\n",
    "            output_types=(tf.float32, tf.float32),\n",
    "            output_shapes=(\n",
    "                (None, SEQUENCE_LENGTH, IMAGE_HEIGHT, IMAGE_WIDTH, 3),\n",
    "                (None, NO_OF_CLASSES)\n",
    "            )\n",
    "        )\n",
    "        dataset = dataset.prefetch(tf.data.AUTOTUNE)\n",
    "        return dataset"
   ]
  },
  {
   "cell_type": "markdown",
   "id": "f7a39974",
   "metadata": {
    "papermill": {
     "duration": 0.010554,
     "end_time": "2025-07-06T16:55:55.533295",
     "exception": false,
     "start_time": "2025-07-06T16:55:55.522741",
     "status": "completed"
    },
    "tags": []
   },
   "source": [
    "## 🔥 Segmentation using N-Frames Ensemble"
   ]
  },
  {
   "cell_type": "code",
   "execution_count": 9,
   "id": "1aca239a",
   "metadata": {
    "execution": {
     "iopub.execute_input": "2025-07-06T16:55:55.555624Z",
     "iopub.status.busy": "2025-07-06T16:55:55.555448Z",
     "iopub.status.idle": "2025-07-06T16:55:55.783693Z",
     "shell.execute_reply": "2025-07-06T16:55:55.782794Z"
    },
    "papermill": {
     "duration": 0.240684,
     "end_time": "2025-07-06T16:55:55.784829",
     "exception": false,
     "start_time": "2025-07-06T16:55:55.544145",
     "status": "completed"
    },
    "tags": []
   },
   "outputs": [
    {
     "name": "stdout",
     "output_type": "stream",
     "text": [
      "MediaPipe initialized successfully\n"
     ]
    },
    {
     "name": "stderr",
     "output_type": "stream",
     "text": [
      "INFO: Created TensorFlow Lite XNNPACK delegate for CPU.\n"
     ]
    }
   ],
   "source": [
    "import cv2\n",
    "import numpy as np\n",
    "from collections import deque\n",
    "import mediapipe as mp\n",
    "\n",
    "# Parameters\n",
    "N_FRAMES = 5  # Number of frames for ensemble\n",
    "THRESHOLD = 0.2  # Segmentation confidence threshold\n",
    "\n",
    "def initialize_segmentor():\n",
    "    \"\"\"Initialize MediaPipe Selfie Segmentation with error handling.\"\"\"\n",
    "    try:\n",
    "        mp_selfie_segmentation = mp.solutions.selfie_segmentation\n",
    "        segmentor = mp_selfie_segmentation.SelfieSegmentation(model_selection=1)  # 1 for general model\n",
    "        print(\"MediaPipe initialized successfully\")\n",
    "        return segmentor\n",
    "    except Exception as e:\n",
    "        print(f\"Failed to initialize MediaPipe: {e}\")\n",
    "        return None\n",
    "\n",
    "# Initialize segmentor\n",
    "segmentor = initialize_segmentor()\n",
    "\n",
    "\n",
    "def segmentation_frames(sequence):\n",
    "    \"\"\"Process a sequence of frames with N-frame ensemble segmentation.\"\"\"\n",
    "    # Input sequence: (sequence_length, height, width, 3), values in [0, 1]\n",
    "    sequence_length, height, width, _ = sequence.shape\n",
    "    segmented_sequence = np.zeros_like(sequence, dtype=np.float32)\n",
    "    \n",
    "    if segmentor is None:\n",
    "        print(\"Returning original sequence due to initialization failure\")\n",
    "        return sequence  # Fallback to original sequence\n",
    "    # Queue to store segmentation masks\n",
    "    mask_queue = deque(maxlen=N_FRAMES)\n",
    "    \n",
    "    # Kernel for morphological operations\n",
    "    kernel = cv2.getStructuringElement(cv2.MORPH_ELLIPSE, (5, 5))\n",
    "    \n",
    "    for t in range(sequence_length):\n",
    "        try:\n",
    "            # Convert frame to uint8 for MediaPipe\n",
    "            frame = (sequence[t] * 255).astype(np.uint8)\n",
    "            \n",
    "            # Process frame with MediaPipe\n",
    "            results = segmentor.process(frame)\n",
    "            if results.segmentation_mask is None:\n",
    "                print(f\"Warning: No mask returned for frame {t}\")\n",
    "                mask = np.zeros((height, width), dtype=np.float32)\n",
    "            else:\n",
    "                mask = results.segmentation_mask  # Shape: (height, width), values in [0, 1]\n",
    "            \n",
    "            # Add mask to queue\n",
    "            mask_queue.append(mask)\n",
    "            \n",
    "            # Compute ensemble mask by averaging (if enough frames)\n",
    "            ensemble_mask = np.mean(np.array(mask_queue), axis=0) if len(mask_queue) > 1 else mask\n",
    "            \n",
    "            # Binarize the ensemble mask\n",
    "            binary_mask = (ensemble_mask > THRESHOLD).astype(np.uint8)\n",
    "            \n",
    "            # Refine the mask using morphological operations\n",
    "            binary_mask = cv2.morphologyEx(binary_mask, cv2.MORPH_CLOSE, kernel)\n",
    "            binary_mask = cv2.morphologyEx(binary_mask, cv2.MORPH_OPEN, kernel)\n",
    "            \n",
    "            # Convert binary mask to 3 channels\n",
    "            mask_3ch = np.stack([binary_mask] * 3, axis=-1)  # Shape: (height, width, 3)\n",
    "            \n",
    "            # Apply mask to isolate human subject (set background to black)\n",
    "            segmented_frame = frame * mask_3ch\n",
    "            \n",
    "            # Normalize back to [0, 1]\n",
    "            segmented_sequence[t] = segmented_frame / 255.0\n",
    "        \n",
    "        except Exception as e:\n",
    "            print(f\"Error processing frame {t}: {e}\")\n",
    "            segmented_sequence[t] = sequence[t]  # Fallback to original frame\n",
    "    \n",
    "    return segmented_sequence"
   ]
  },
  {
   "cell_type": "markdown",
   "id": "86a6517f",
   "metadata": {
    "papermill": {
     "duration": 0.010733,
     "end_time": "2025-07-06T16:55:55.807207",
     "exception": false,
     "start_time": "2025-07-06T16:55:55.796474",
     "status": "completed"
    },
    "tags": []
   },
   "source": [
    "## 💫 Augmentation Helper function"
   ]
  },
  {
   "cell_type": "code",
   "execution_count": 10,
   "id": "37f1ab2a",
   "metadata": {
    "execution": {
     "iopub.execute_input": "2025-07-06T16:55:55.829808Z",
     "iopub.status.busy": "2025-07-06T16:55:55.829602Z",
     "iopub.status.idle": "2025-07-06T16:55:55.834375Z",
     "shell.execute_reply": "2025-07-06T16:55:55.833555Z"
    },
    "papermill": {
     "duration": 0.017379,
     "end_time": "2025-07-06T16:55:55.835330",
     "exception": false,
     "start_time": "2025-07-06T16:55:55.817951",
     "status": "completed"
    },
    "tags": []
   },
   "outputs": [
    {
     "name": "stderr",
     "output_type": "stream",
     "text": [
      "WARNING: All log messages before absl::InitializeLog() is called are written to STDERR\n",
      "W0000 00:00:1751820955.787814      70 inference_feedback_manager.cc:114] Feedback manager requires a model with a single signature inference. Disabling support for feedback tensors.\n"
     ]
    }
   ],
   "source": [
    "def apply_augmentation(augmentation_function, generator, confirm=False, *args, **kwargs):\n",
    "    count=0\n",
    "    for i in range(len(generator)):\n",
    "        batch_videos, batch_labels = generator[i]\n",
    "        augmented_videos=[]\n",
    "        for videos in batch_videos:\n",
    "            count=count+1\n",
    "            augmented_videos.append(augmentation_function(videos, *args, **kwargs))\n",
    "            print(f\"Adding {count} new videos...\", end=\"\\r\", flush=True)\n",
    "        generator.add(augmented_videos, batch_labels)\n",
    "    \n",
    "    print(f\"Total {len(generator.temp_videos)} augmented videos generated\")\n",
    "    if confirm:\n",
    "        generator.confirm()\n",
    "    else:\n",
    "        print(\"Ready to be merged with original videos...\")"
   ]
  },
  {
   "cell_type": "markdown",
   "id": "b81b3ac4",
   "metadata": {
    "papermill": {
     "duration": 0.010646,
     "end_time": "2025-07-06T16:55:55.856851",
     "exception": false,
     "start_time": "2025-07-06T16:55:55.846205",
     "status": "completed"
    },
    "tags": []
   },
   "source": [
    "### Show Frames"
   ]
  },
  {
   "cell_type": "code",
   "execution_count": 11,
   "id": "873252bb",
   "metadata": {
    "execution": {
     "iopub.execute_input": "2025-07-06T16:55:55.879249Z",
     "iopub.status.busy": "2025-07-06T16:55:55.879047Z",
     "iopub.status.idle": "2025-07-06T16:55:55.882421Z",
     "shell.execute_reply": "2025-07-06T16:55:55.881893Z"
    },
    "papermill": {
     "duration": 0.015693,
     "end_time": "2025-07-06T16:55:55.883377",
     "exception": false,
     "start_time": "2025-07-06T16:55:55.867684",
     "status": "completed"
    },
    "tags": []
   },
   "outputs": [],
   "source": [
    "# show frame def\n",
    "import matplotlib.pyplot as plt\n",
    "\n",
    "def show_frame(frame):\n",
    "    plt.figure(figsize=(3,3))\n",
    "    plt.imshow(frame)\n",
    "    plt.axis(\"off\")\n",
    "    plt.tight_layout()"
   ]
  },
  {
   "cell_type": "markdown",
   "id": "ae065086",
   "metadata": {
    "papermill": {
     "duration": 0.010623,
     "end_time": "2025-07-06T16:55:55.904922",
     "exception": false,
     "start_time": "2025-07-06T16:55:55.894299",
     "status": "completed"
    },
    "tags": []
   },
   "source": [
    "### Helper Function"
   ]
  },
  {
   "cell_type": "code",
   "execution_count": 12,
   "id": "a541e4d9",
   "metadata": {
    "execution": {
     "iopub.execute_input": "2025-07-06T16:55:55.927636Z",
     "iopub.status.busy": "2025-07-06T16:55:55.927133Z",
     "iopub.status.idle": "2025-07-06T16:55:55.931346Z",
     "shell.execute_reply": "2025-07-06T16:55:55.930676Z"
    },
    "papermill": {
     "duration": 0.016732,
     "end_time": "2025-07-06T16:55:55.932467",
     "exception": false,
     "start_time": "2025-07-06T16:55:55.915735",
     "status": "completed"
    },
    "tags": []
   },
   "outputs": [],
   "source": [
    "def show_frame_vs(frame1, frame2, title1=\"Frame 1\", title2=\"Frame 2\"):\n",
    "    plt.figure(figsize=(10, 5))\n",
    "\n",
    "    # First frame\n",
    "    plt.subplot(1, 2, 1)\n",
    "    plt.imshow(frame1)\n",
    "    plt.title(title1)\n",
    "    plt.axis('off')\n",
    "\n",
    "    # Second frame\n",
    "    plt.subplot(1, 2, 2)\n",
    "    plt.imshow(frame2)\n",
    "    plt.title(title2)\n",
    "    plt.axis('off')\n",
    "\n",
    "    plt.tight_layout()\n",
    "    plt.show()"
   ]
  },
  {
   "cell_type": "code",
   "execution_count": 13,
   "id": "d69e2157",
   "metadata": {
    "execution": {
     "iopub.execute_input": "2025-07-06T16:55:55.955009Z",
     "iopub.status.busy": "2025-07-06T16:55:55.954532Z",
     "iopub.status.idle": "2025-07-06T16:55:55.957827Z",
     "shell.execute_reply": "2025-07-06T16:55:55.957329Z"
    },
    "papermill": {
     "duration": 0.01549,
     "end_time": "2025-07-06T16:55:55.958813",
     "exception": false,
     "start_time": "2025-07-06T16:55:55.943323",
     "status": "completed"
    },
    "tags": []
   },
   "outputs": [],
   "source": [
    "# reusable video loop helper function\n",
    "def apply_function(function, videos, *arg, **kwargs):\n",
    "    new_videos=[]\n",
    "    \n",
    "    for video in videos:\n",
    "        new_videos.append(function(video, *arg, **kwargs))\n",
    "        \n",
    "    return new_videos"
   ]
  },
  {
   "cell_type": "code",
   "execution_count": 14,
   "id": "080f27f1",
   "metadata": {
    "execution": {
     "iopub.execute_input": "2025-07-06T16:55:55.981347Z",
     "iopub.status.busy": "2025-07-06T16:55:55.980953Z",
     "iopub.status.idle": "2025-07-06T16:55:55.984920Z",
     "shell.execute_reply": "2025-07-06T16:55:55.984260Z"
    },
    "papermill": {
     "duration": 0.016341,
     "end_time": "2025-07-06T16:55:55.986034",
     "exception": false,
     "start_time": "2025-07-06T16:55:55.969693",
     "status": "completed"
    },
    "tags": []
   },
   "outputs": [],
   "source": [
    "# reusable video loop helper function\n",
    "def apply(function, videos, labels, *arg, **kwargs):\n",
    "    new_videos=[]\n",
    "    new_labels=[]\n",
    "    combined=zip(labels, videos)\n",
    "    \n",
    "    for label, video in combined:\n",
    "        new_videos.append(function(video, *arg, **kwargs))\n",
    "        new_labels.append(label)\n",
    "        \n",
    "    new_videos=np.asarray(new_videos)\n",
    "    new_labels=np.asarray(new_labels)\n",
    "    \n",
    "    return new_videos, new_labels"
   ]
  },
  {
   "cell_type": "markdown",
   "id": "f636b450",
   "metadata": {
    "papermill": {
     "duration": 0.010726,
     "end_time": "2025-07-06T16:55:56.007520",
     "exception": false,
     "start_time": "2025-07-06T16:55:55.996794",
     "status": "completed"
    },
    "tags": []
   },
   "source": [
    "## Salt and Pepper Noise "
   ]
  },
  {
   "cell_type": "code",
   "execution_count": 15,
   "id": "78f7a2b7",
   "metadata": {
    "execution": {
     "iopub.execute_input": "2025-07-06T16:55:56.031059Z",
     "iopub.status.busy": "2025-07-06T16:55:56.030675Z",
     "iopub.status.idle": "2025-07-06T16:55:56.034588Z",
     "shell.execute_reply": "2025-07-06T16:55:56.034055Z"
    },
    "papermill": {
     "duration": 0.017374,
     "end_time": "2025-07-06T16:55:56.035612",
     "exception": false,
     "start_time": "2025-07-06T16:55:56.018238",
     "status": "completed"
    },
    "tags": []
   },
   "outputs": [],
   "source": [
    "# Noise function def\n",
    "\n",
    "def noise_video(video,noise_factor=NOISE_FACTOR):\n",
    "    noisy_video=[]\n",
    "    for frame in video:\n",
    "        # Generate random noise\n",
    "        noise = np.random.rand(*frame.shape)  # Generate random noise\n",
    "        salt_pepper_noise = np.random.choice([0, 1], size=frame.shape, p=[1-noise_factor, noise_factor])\n",
    "        noisy_frame = frame * (1 - salt_pepper_noise) + salt_pepper_noise * np.random.rand(*frame.shape)\n",
    "        noisy_video.append(noisy_frame)\n",
    "    return np.array(noisy_video)"
   ]
  },
  {
   "cell_type": "markdown",
   "id": "9498df75",
   "metadata": {
    "papermill": {
     "duration": 0.011132,
     "end_time": "2025-07-06T16:55:56.057686",
     "exception": false,
     "start_time": "2025-07-06T16:55:56.046554",
     "status": "completed"
    },
    "tags": []
   },
   "source": [
    "## Horizontal Flip"
   ]
  },
  {
   "cell_type": "code",
   "execution_count": 16,
   "id": "a9079ab2",
   "metadata": {
    "execution": {
     "iopub.execute_input": "2025-07-06T16:55:56.080826Z",
     "iopub.status.busy": "2025-07-06T16:55:56.080433Z",
     "iopub.status.idle": "2025-07-06T16:55:56.083484Z",
     "shell.execute_reply": "2025-07-06T16:55:56.082984Z"
    },
    "papermill": {
     "duration": 0.015655,
     "end_time": "2025-07-06T16:55:56.084500",
     "exception": false,
     "start_time": "2025-07-06T16:55:56.068845",
     "status": "completed"
    },
    "tags": []
   },
   "outputs": [],
   "source": [
    "# horizontal flip function def\n",
    "# Testing Flip feautes[0] -> first video\n",
    "def horizontal_flip(video):\n",
    "    return [tf.image.flip_left_right(frame) for frame in video]"
   ]
  },
  {
   "cell_type": "markdown",
   "id": "104347c9",
   "metadata": {
    "papermill": {
     "duration": 0.011343,
     "end_time": "2025-07-06T16:55:56.106953",
     "exception": false,
     "start_time": "2025-07-06T16:55:56.095610",
     "status": "completed"
    },
    "tags": []
   },
   "source": [
    "## Random Shear"
   ]
  },
  {
   "cell_type": "code",
   "execution_count": 17,
   "id": "1cfdf49e",
   "metadata": {
    "execution": {
     "iopub.execute_input": "2025-07-06T16:55:56.129708Z",
     "iopub.status.busy": "2025-07-06T16:55:56.129538Z",
     "iopub.status.idle": "2025-07-06T16:55:56.135237Z",
     "shell.execute_reply": "2025-07-06T16:55:56.134606Z"
    },
    "papermill": {
     "duration": 0.01835,
     "end_time": "2025-07-06T16:55:56.136308",
     "exception": false,
     "start_time": "2025-07-06T16:55:56.117958",
     "status": "completed"
    },
    "tags": []
   },
   "outputs": [],
   "source": [
    "# random shear function def\n",
    "import numpy as np\n",
    "import tensorflow as tf\n",
    "from scipy.ndimage import affine_transform\n",
    "\n",
    "def apply_shear_frames(frames, shear_right):\n",
    "    return [apply_shear(frame, shear_right) for frame in frames]\n",
    "\n",
    "def apply_shear(frame, shear_right=0):\n",
    "    frame_resized = tf.image.resize(frame, (IMAGE_HEIGHT, IMAGE_WIDTH)).numpy()\n",
    "    if shear_right:\n",
    "        shear_x = 0.09\n",
    "        shear_y = 0.1\n",
    "    else:\n",
    "        shear_x = -0.09\n",
    "        shear_y = 0.3\n",
    "    # Construct the affine matrix for scipy: inverse of the transformation matrix\n",
    "    # scipy applies the inverse transform matrix\n",
    "    shear_matrix = np.array([\n",
    "        [1, shear_x, 0],\n",
    "        [shear_y, 1, 0],\n",
    "        [0, 0, 1]\n",
    "    ], dtype=np.float32)\n",
    "\n",
    "    # Extract 2x2 part for affine_transform\n",
    "    matrix = shear_matrix[:2, :2]\n",
    "\n",
    "    # Offset (no translation)\n",
    "    offset = [0, 0]\n",
    "\n",
    "    # Apply affine transform on each channel separately\n",
    "    sheared = np.zeros_like(frame_resized)\n",
    "    for c in range(3):\n",
    "        sheared[..., c] = affine_transform(\n",
    "            frame_resized[..., c],\n",
    "            matrix=matrix,\n",
    "            offset=offset,\n",
    "            order=1,          # bilinear interpolation\n",
    "            mode='nearest'    # fill_mode\n",
    "        )\n",
    "    return sheared"
   ]
  },
  {
   "cell_type": "markdown",
   "id": "2288a435",
   "metadata": {
    "papermill": {
     "duration": 0.010817,
     "end_time": "2025-07-06T16:55:56.157866",
     "exception": false,
     "start_time": "2025-07-06T16:55:56.147049",
     "status": "completed"
    },
    "tags": []
   },
   "source": [
    "# 📌 Model Related\n",
    "## 🗼 Model Architecture `create_model`"
   ]
  },
  {
   "cell_type": "code",
   "execution_count": 18,
   "id": "980a50ed",
   "metadata": {
    "execution": {
     "iopub.execute_input": "2025-07-06T16:55:56.180322Z",
     "iopub.status.busy": "2025-07-06T16:55:56.180056Z",
     "iopub.status.idle": "2025-07-06T16:55:56.190675Z",
     "shell.execute_reply": "2025-07-06T16:55:56.190208Z"
    },
    "papermill": {
     "duration": 0.023031,
     "end_time": "2025-07-06T16:55:56.191638",
     "exception": false,
     "start_time": "2025-07-06T16:55:56.168607",
     "status": "completed"
    },
    "tags": []
   },
   "outputs": [],
   "source": [
    "from tensorflow.keras.applications import Xception\n",
    "from tensorflow.keras.models import Sequential\n",
    "from tensorflow.keras.layers import GlobalAveragePooling2D, TimeDistributed, Bidirectional, LSTM, Dropout, Dense, BatchNormalization\n",
    "from tensorflow.keras.regularizers import l2\n",
    "\n",
    "def create_model(sequence_length, image_height, image_width, classes_list=None, dropout_rate=0.5):\n",
    "    if classes_list is None:\n",
    "        raise ValueError(\"classes_list must be provided to define the output layer size\")\n",
    "\n",
    "    try:\n",
    "        # Load Xception model with pre-trained ImageNet weights\n",
    "        print(\"Loading Xception base model...\")\n",
    "        xception = Xception(\n",
    "            weights='imagenet',\n",
    "            include_top=False,\n",
    "            input_shape=(image_height, image_width, 3),\n",
    "            name=\"Xception\"\n",
    "        )\n",
    "        \n",
    "        # Define the Sequential model\n",
    "        model = Sequential([\n",
    "            # TimeDistributed Xception model\n",
    "            TimeDistributed(\n",
    "                xception,\n",
    "                input_shape=(sequence_length, image_height, image_width, 3),\n",
    "                name=\"time_distributed\"\n",
    "            ),\n",
    "            # TimeDistributed GlobalAveragePooling2D\n",
    "            TimeDistributed(GlobalAveragePooling2D(), name=\"time_distributed_1\"),\n",
    "            # Bidirectional LSTM layer with 256 units (512 / 2 to maintain similar parameter count)\n",
    "            Bidirectional(\n",
    "                LSTM(256, activation=\"tanh\", return_sequences=False, kernel_regularizer=l2(0.01)),\n",
    "                name=\"bilstm\"\n",
    "            ),\n",
    "            BatchNormalization(name=\"batch_normalization\"),\n",
    "            # Dropout after BiLSTM\n",
    "            Dropout(dropout_rate, name=\"dropout_bilstm\"),\n",
    "            # Dense layer with 512 units\n",
    "            Dense(512, activation=\"relu\", kernel_regularizer=l2(0.01), name=\"dense\"),\n",
    "            # Dropout after Dense\n",
    "            Dropout(dropout_rate + 0.1, name=\"dropout_dense\"),\n",
    "            # Output Dense layer with softmax activation\n",
    "            Dense(len(classes_list), activation=\"softmax\", name=\"dense_1\")\n",
    "        ])\n",
    "\n",
    "        # Print model summary\n",
    "        print(\"Model architecture with BiLSTM created successfully!\")\n",
    "        model.summary()\n",
    "\n",
    "        return model\n",
    "\n",
    "    except Exception as e:\n",
    "        print(f\"Error creating model: {e}\")\n",
    "        return None"
   ]
  },
  {
   "cell_type": "code",
   "execution_count": 19,
   "id": "d6bf4f24",
   "metadata": {
    "execution": {
     "iopub.execute_input": "2025-07-06T16:55:56.214408Z",
     "iopub.status.busy": "2025-07-06T16:55:56.214017Z",
     "iopub.status.idle": "2025-07-06T16:55:59.905096Z",
     "shell.execute_reply": "2025-07-06T16:55:59.904242Z"
    },
    "papermill": {
     "duration": 3.70391,
     "end_time": "2025-07-06T16:55:59.906410",
     "exception": false,
     "start_time": "2025-07-06T16:55:56.202500",
     "status": "completed"
    },
    "tags": []
   },
   "outputs": [
    {
     "name": "stdout",
     "output_type": "stream",
     "text": [
      "Pre-loading Xception weights...\n"
     ]
    },
    {
     "name": "stderr",
     "output_type": "stream",
     "text": [
      "I0000 00:00:1751820957.244981      19 gpu_device.cc:2022] Created device /job:localhost/replica:0/task:0/device:GPU:0 with 13942 MB memory:  -> device: 0, name: Tesla T4, pci bus id: 0000:00:04.0, compute capability: 7.5\n",
      "I0000 00:00:1751820957.245636      19 gpu_device.cc:2022] Created device /job:localhost/replica:0/task:0/device:GPU:1 with 13942 MB memory:  -> device: 1, name: Tesla T4, pci bus id: 0000:00:05.0, compute capability: 7.5\n"
     ]
    },
    {
     "name": "stdout",
     "output_type": "stream",
     "text": [
      "Downloading data from https://storage.googleapis.com/tensorflow/keras-applications/xception/xception_weights_tf_dim_ordering_tf_kernels_notop.h5\n",
      "\u001b[1m83683744/83683744\u001b[0m \u001b[32m━━━━━━━━━━━━━━━━━━━━\u001b[0m\u001b[37m\u001b[0m \u001b[1m0s\u001b[0m 0us/step\n",
      "Weights loaded successfully!\n"
     ]
    }
   ],
   "source": [
    "# donwload model weights\n",
    "from tensorflow.keras.applications import Xception\n",
    "print(\"Pre-loading Xception weights...\")\n",
    "base_model = Xception(weights='imagenet', include_top=False, input_shape=(IMAGE_HEIGHT, IMAGE_WIDTH, 3))\n",
    "print(\"Weights loaded successfully!\")"
   ]
  },
  {
   "cell_type": "markdown",
   "id": "ab0c408d",
   "metadata": {
    "papermill": {
     "duration": 0.011154,
     "end_time": "2025-07-06T16:55:59.929854",
     "exception": false,
     "start_time": "2025-07-06T16:55:59.918700",
     "status": "completed"
    },
    "tags": []
   },
   "source": [
    "# 📌 Execution\n",
    "## Creating Dataset\n",
    "The following functions are executed\n",
    "- `frame extraction`\n",
    "- `resize`\n",
    "\n",
    "which returns:\n",
    "- `features` - `np.array` of all the videos\n",
    "- `labels` - `np.array` of all the class labels"
   ]
  },
  {
   "cell_type": "code",
   "execution_count": 20,
   "id": "dd2e9f8f",
   "metadata": {
    "execution": {
     "iopub.execute_input": "2025-07-06T16:55:59.953255Z",
     "iopub.status.busy": "2025-07-06T16:55:59.953032Z",
     "iopub.status.idle": "2025-07-06T16:56:14.899613Z",
     "shell.execute_reply": "2025-07-06T16:56:14.898877Z"
    },
    "papermill": {
     "duration": 14.959618,
     "end_time": "2025-07-06T16:56:14.900701",
     "exception": false,
     "start_time": "2025-07-06T16:55:59.941083",
     "status": "completed"
    },
    "tags": []
   },
   "outputs": [
    {
     "name": "stdout",
     "output_type": "stream",
     "text": [
      "Class: HorseRace\n",
      "Extracting frames from file 30: v_HorseRace_g21_c04.avi\n",
      "Class: VolleyballSpiking\n",
      "Extracting frames from file 30: v_VolleyballSpiking_g07_c03.avi\n",
      "Class: Biking\n",
      "Extracting frames from file 30: v_Biking_g10_c02.avi\n",
      "Class: TaiChi\n",
      "Extracting frames from file 30: v_TaiChi_g14_c03.avi\n",
      "Class: Punch\n",
      "Extracting frames from file 30: v_Punch_g05_c02.avi\n",
      "Class: BreastStroke\n",
      "Extracting frames from file 30: v_BreastStroke_g02_c03.avi\n",
      "Class: Billiards\n",
      "Extracting frames from file 30: v_Billards_g16_c03.avi\n",
      "Class: PoleVault\n",
      "Extracting frames from file 30: v_PoleVault_g23_c01.avi\n",
      "Class: ThrowDiscus\n",
      "Extracting frames from file 30: v_ThrowDiscus_g10_c05.avi\n",
      "Class: BaseballPitch\n",
      "Extracting frames from file 30: v_BaseballPitch_g03_c04.avi\n",
      "Class: HorseRiding\n",
      "Extracting frames from file 30: v_HorseRiding_g20_c03.avi\n",
      "Class: Mixing\n",
      "Extracting frames from file 30: v_Mixing_g05_c06.avi\n",
      "Class: HighJump\n",
      "Extracting frames from file 30: v_HighJump_g11_c05.avi\n",
      "Class: Skijet\n",
      "Extracting frames from file 30: v_Skijet_g05_c04.avi\n",
      "Class: SkateBoarding\n",
      "Extracting frames from file 30: v_SkateBoarding_g13_c01.avi\n",
      "Class: MilitaryParade\n",
      "Extracting frames from file 30: v_MilitaryParade_g04_c02.avi\n",
      "Dataset created with 480 videos\n",
      "Features shape: (480, 5, 128, 128, 3)\n",
      "Labels shape: (480,)\n"
     ]
    },
    {
     "data": {
      "text/plain": [
       "((480, 5, 128, 128, 3), (480,))"
      ]
     },
     "execution_count": 20,
     "metadata": {},
     "output_type": "execute_result"
    }
   ],
   "source": [
    "# RUN Create the dataset with explicit parameters\n",
    "try:\n",
    "    videos, labels = create_dataset(\n",
    "        dataset_dir=DATASET_DIR,\n",
    "        classes_list=CLASSES_LIST,\n",
    "        sequence_length=SEQUENCE_LENGTH,\n",
    "        image_height=IMAGE_HEIGHT,\n",
    "        image_width=IMAGE_WIDTH,\n",
    "        # Limit to 10 videos per class to manage memory\n",
    "        augmentations=True,\n",
    "        max_videos_per_class=MAX_VIDEO_PER_CLASS\n",
    "    )\n",
    "except FileNotFoundError as e:\n",
    "    print(f\"Error: {e}\")\n",
    "except ValueError as e:\n",
    "    print(f\"Error: {e}\")\n",
    "except Exception as e:\n",
    "    print(f\"Unexpected error: {e}\")\n",
    "\n",
    "videos.shape, labels.shape"
   ]
  },
  {
   "cell_type": "code",
   "execution_count": 21,
   "id": "51327bd8",
   "metadata": {
    "execution": {
     "iopub.execute_input": "2025-07-06T16:56:14.962714Z",
     "iopub.status.busy": "2025-07-06T16:56:14.962494Z",
     "iopub.status.idle": "2025-07-06T16:56:14.966524Z",
     "shell.execute_reply": "2025-07-06T16:56:14.965888Z"
    },
    "papermill": {
     "duration": 0.035004,
     "end_time": "2025-07-06T16:56:14.967586",
     "exception": false,
     "start_time": "2025-07-06T16:56:14.932582",
     "status": "completed"
    },
    "tags": []
   },
   "outputs": [
    {
     "name": "stdout",
     "output_type": "stream",
     "text": [
      "Total 480 videos and 480 classes\n"
     ]
    }
   ],
   "source": [
    "video_generator = VideoDataGenerator(\n",
    "    videos=videos,\n",
    "    labels=labels,\n",
    "    batch_size=BATCH_SIZE\n",
    ")"
   ]
  },
  {
   "cell_type": "code",
   "execution_count": 22,
   "id": "ebda631b",
   "metadata": {
    "execution": {
     "iopub.execute_input": "2025-07-06T16:56:15.027458Z",
     "iopub.status.busy": "2025-07-06T16:56:15.027230Z",
     "iopub.status.idle": "2025-07-06T16:56:15.037251Z",
     "shell.execute_reply": "2025-07-06T16:56:15.036739Z"
    },
    "papermill": {
     "duration": 0.041098,
     "end_time": "2025-07-06T16:56:15.038361",
     "exception": false,
     "start_time": "2025-07-06T16:56:14.997263",
     "status": "completed"
    },
    "tags": []
   },
   "outputs": [
    {
     "data": {
      "text/plain": [
       "((16, 5, 128, 128, 3), (16,))"
      ]
     },
     "execution_count": 22,
     "metadata": {},
     "output_type": "execute_result"
    }
   ],
   "source": [
    "videos, labels = video_generator[0]\n",
    "\n",
    "videos.shape, labels.shape"
   ]
  },
  {
   "cell_type": "code",
   "execution_count": 23,
   "id": "c8d06c82",
   "metadata": {
    "execution": {
     "iopub.execute_input": "2025-07-06T16:56:15.099621Z",
     "iopub.status.busy": "2025-07-06T16:56:15.099412Z",
     "iopub.status.idle": "2025-07-06T16:56:15.103377Z",
     "shell.execute_reply": "2025-07-06T16:56:15.102855Z"
    },
    "papermill": {
     "duration": 0.036926,
     "end_time": "2025-07-06T16:56:15.104533",
     "exception": false,
     "start_time": "2025-07-06T16:56:15.067607",
     "status": "completed"
    },
    "tags": []
   },
   "outputs": [
    {
     "data": {
      "text/plain": [
       "480"
      ]
     },
     "execution_count": 23,
     "metadata": {},
     "output_type": "execute_result"
    }
   ],
   "source": [
    "len(video_generator.videos) "
   ]
  },
  {
   "cell_type": "code",
   "execution_count": 24,
   "id": "24f1d835",
   "metadata": {
    "execution": {
     "iopub.execute_input": "2025-07-06T16:56:15.164414Z",
     "iopub.status.busy": "2025-07-06T16:56:15.164199Z",
     "iopub.status.idle": "2025-07-06T16:56:15.168128Z",
     "shell.execute_reply": "2025-07-06T16:56:15.167604Z"
    },
    "papermill": {
     "duration": 0.035327,
     "end_time": "2025-07-06T16:56:15.169201",
     "exception": false,
     "start_time": "2025-07-06T16:56:15.133874",
     "status": "completed"
    },
    "tags": []
   },
   "outputs": [
    {
     "data": {
      "text/plain": [
       "30"
      ]
     },
     "execution_count": 24,
     "metadata": {},
     "output_type": "execute_result"
    }
   ],
   "source": [
    "len(video_generator)"
   ]
  },
  {
   "cell_type": "code",
   "execution_count": 25,
   "id": "79675cf2",
   "metadata": {
    "execution": {
     "iopub.execute_input": "2025-07-06T16:56:15.229691Z",
     "iopub.status.busy": "2025-07-06T16:56:15.229521Z",
     "iopub.status.idle": "2025-07-06T16:56:25.132873Z",
     "shell.execute_reply": "2025-07-06T16:56:25.131969Z"
    },
    "papermill": {
     "duration": 9.93477,
     "end_time": "2025-07-06T16:56:25.134107",
     "exception": false,
     "start_time": "2025-07-06T16:56:15.199337",
     "status": "completed"
    },
    "tags": []
   },
   "outputs": [
    {
     "name": "stdout",
     "output_type": "stream",
     "text": [
      "Total 480 augmented videos generated\n",
      "Ready to be merged with original videos...\n"
     ]
    }
   ],
   "source": [
    "apply_augmentation(segmentation_frames, video_generator)"
   ]
  },
  {
   "cell_type": "code",
   "execution_count": 26,
   "id": "5a3aa031",
   "metadata": {
    "execution": {
     "iopub.execute_input": "2025-07-06T16:56:25.233950Z",
     "iopub.status.busy": "2025-07-06T16:56:25.233717Z",
     "iopub.status.idle": "2025-07-06T16:56:25.238416Z",
     "shell.execute_reply": "2025-07-06T16:56:25.237828Z"
    },
    "papermill": {
     "duration": 0.053772,
     "end_time": "2025-07-06T16:56:25.239450",
     "exception": false,
     "start_time": "2025-07-06T16:56:25.185678",
     "status": "completed"
    },
    "tags": []
   },
   "outputs": [
    {
     "data": {
      "text/plain": [
       "(480, 480)"
      ]
     },
     "execution_count": 26,
     "metadata": {},
     "output_type": "execute_result"
    }
   ],
   "source": [
    "len(video_generator.temp_videos), len(video_generator.videos)"
   ]
  },
  {
   "cell_type": "code",
   "execution_count": 27,
   "id": "5d7027a9",
   "metadata": {
    "execution": {
     "iopub.execute_input": "2025-07-06T16:56:25.335827Z",
     "iopub.status.busy": "2025-07-06T16:56:25.335644Z",
     "iopub.status.idle": "2025-07-06T16:56:25.340910Z",
     "shell.execute_reply": "2025-07-06T16:56:25.340173Z"
    },
    "papermill": {
     "duration": 0.054864,
     "end_time": "2025-07-06T16:56:25.342066",
     "exception": false,
     "start_time": "2025-07-06T16:56:25.287202",
     "status": "completed"
    },
    "tags": []
   },
   "outputs": [
    {
     "name": "stdout",
     "output_type": "stream",
     "text": [
      "Successfully replaced, total original videos - 480 and augmented videos 0\n"
     ]
    }
   ],
   "source": [
    "video_generator.replace_original()"
   ]
  },
  {
   "cell_type": "code",
   "execution_count": 28,
   "id": "2961a65c",
   "metadata": {
    "execution": {
     "iopub.execute_input": "2025-07-06T16:56:25.438432Z",
     "iopub.status.busy": "2025-07-06T16:56:25.437743Z",
     "iopub.status.idle": "2025-07-06T16:56:25.442156Z",
     "shell.execute_reply": "2025-07-06T16:56:25.441652Z"
    },
    "papermill": {
     "duration": 0.053537,
     "end_time": "2025-07-06T16:56:25.443248",
     "exception": false,
     "start_time": "2025-07-06T16:56:25.389711",
     "status": "completed"
    },
    "tags": []
   },
   "outputs": [
    {
     "data": {
      "text/plain": [
       "(0, 480)"
      ]
     },
     "execution_count": 28,
     "metadata": {},
     "output_type": "execute_result"
    }
   ],
   "source": [
    "len(video_generator.temp_videos), len(video_generator.videos)"
   ]
  },
  {
   "cell_type": "code",
   "execution_count": 29,
   "id": "9fd4028b",
   "metadata": {
    "execution": {
     "iopub.execute_input": "2025-07-06T16:56:25.539263Z",
     "iopub.status.busy": "2025-07-06T16:56:25.539082Z",
     "iopub.status.idle": "2025-07-06T16:56:25.677524Z",
     "shell.execute_reply": "2025-07-06T16:56:25.676769Z"
    },
    "papermill": {
     "duration": 0.187502,
     "end_time": "2025-07-06T16:56:25.678795",
     "exception": false,
     "start_time": "2025-07-06T16:56:25.491293",
     "status": "completed"
    },
    "tags": []
   },
   "outputs": [
    {
     "data": {
      "text/plain": [
       "(480, 5, 128, 128, 3)"
      ]
     },
     "execution_count": 29,
     "metadata": {},
     "output_type": "execute_result"
    }
   ],
   "source": [
    "test = np.array(video_generator.videos)\n",
    "\n",
    "test.shape"
   ]
  },
  {
   "cell_type": "code",
   "execution_count": 30,
   "id": "72ac771d",
   "metadata": {
    "execution": {
     "iopub.execute_input": "2025-07-06T16:56:25.775909Z",
     "iopub.status.busy": "2025-07-06T16:56:25.775420Z",
     "iopub.status.idle": "2025-07-06T16:56:25.778499Z",
     "shell.execute_reply": "2025-07-06T16:56:25.777926Z"
    },
    "papermill": {
     "duration": 0.051648,
     "end_time": "2025-07-06T16:56:25.779474",
     "exception": false,
     "start_time": "2025-07-06T16:56:25.727826",
     "status": "completed"
    },
    "tags": []
   },
   "outputs": [],
   "source": [
    "# show_frame(test[1,0])"
   ]
  },
  {
   "cell_type": "markdown",
   "id": "52c4fb4f",
   "metadata": {
    "papermill": {
     "duration": 0.047139,
     "end_time": "2025-07-06T16:56:25.873802",
     "exception": false,
     "start_time": "2025-07-06T16:56:25.826663",
     "status": "completed"
    },
    "tags": []
   },
   "source": [
    "## Apply ***horizontal flip*** (Augmentation)"
   ]
  },
  {
   "cell_type": "code",
   "execution_count": 31,
   "id": "8c3ae295",
   "metadata": {
    "execution": {
     "iopub.execute_input": "2025-07-06T16:56:25.968980Z",
     "iopub.status.busy": "2025-07-06T16:56:25.968776Z",
     "iopub.status.idle": "2025-07-06T16:56:27.826864Z",
     "shell.execute_reply": "2025-07-06T16:56:27.826038Z"
    },
    "papermill": {
     "duration": 1.907042,
     "end_time": "2025-07-06T16:56:27.828021",
     "exception": false,
     "start_time": "2025-07-06T16:56:25.920979",
     "status": "completed"
    },
    "tags": []
   },
   "outputs": [
    {
     "name": "stdout",
     "output_type": "stream",
     "text": [
      "Total 480 augmented videos generated\n",
      "Ready to be merged with original videos...\n"
     ]
    }
   ],
   "source": [
    "apply_augmentation(horizontal_flip, video_generator)"
   ]
  },
  {
   "cell_type": "code",
   "execution_count": 32,
   "id": "06b8f7ec",
   "metadata": {
    "execution": {
     "iopub.execute_input": "2025-07-06T16:56:27.972744Z",
     "iopub.status.busy": "2025-07-06T16:56:27.972116Z",
     "iopub.status.idle": "2025-07-06T16:56:27.976403Z",
     "shell.execute_reply": "2025-07-06T16:56:27.975703Z"
    },
    "papermill": {
     "duration": 0.079803,
     "end_time": "2025-07-06T16:56:27.977514",
     "exception": false,
     "start_time": "2025-07-06T16:56:27.897711",
     "status": "completed"
    },
    "tags": []
   },
   "outputs": [
    {
     "name": "stdout",
     "output_type": "stream",
     "text": [
      "Checking Total Videos and Class Count: 480, 480\n",
      "PENDING Total Videos and Class Count: 480, 480\n"
     ]
    }
   ],
   "source": [
    "print(f\"Checking Total Videos and Class Count: {len(video_generator.videos)}, {len(video_generator.labels)}\")\n",
    "print(f\"PENDING Total Videos and Class Count: {len(video_generator.temp_videos)}, {len(video_generator.temp_labels)}\")"
   ]
  },
  {
   "cell_type": "code",
   "execution_count": 33,
   "id": "40684055",
   "metadata": {
    "execution": {
     "iopub.execute_input": "2025-07-06T16:56:28.138407Z",
     "iopub.status.busy": "2025-07-06T16:56:28.138159Z",
     "iopub.status.idle": "2025-07-06T16:56:28.142002Z",
     "shell.execute_reply": "2025-07-06T16:56:28.141321Z"
    },
    "papermill": {
     "duration": 0.098085,
     "end_time": "2025-07-06T16:56:28.143056",
     "exception": false,
     "start_time": "2025-07-06T16:56:28.044971",
     "status": "completed"
    },
    "tags": []
   },
   "outputs": [
    {
     "name": "stdout",
     "output_type": "stream",
     "text": [
      "Successfully added - 480 videos and 480 classes.\n",
      "Now Total - 960 videos and 960 classes.\n",
      "PENDING for Augmentations - 0 videos and 0 classes.\n"
     ]
    }
   ],
   "source": [
    "video_generator.confirm()"
   ]
  },
  {
   "cell_type": "markdown",
   "id": "1b59e543",
   "metadata": {
    "papermill": {
     "duration": 0.065001,
     "end_time": "2025-07-06T16:56:28.274545",
     "exception": false,
     "start_time": "2025-07-06T16:56:28.209544",
     "status": "completed"
    },
    "tags": []
   },
   "source": [
    "## Apply ***Noise*** (Augmentation)"
   ]
  },
  {
   "cell_type": "code",
   "execution_count": 34,
   "id": "e247d338",
   "metadata": {
    "execution": {
     "iopub.execute_input": "2025-07-06T16:56:28.406245Z",
     "iopub.status.busy": "2025-07-06T16:56:28.405698Z",
     "iopub.status.idle": "2025-07-06T16:56:40.695685Z",
     "shell.execute_reply": "2025-07-06T16:56:40.694864Z"
    },
    "papermill": {
     "duration": 12.356338,
     "end_time": "2025-07-06T16:56:40.696833",
     "exception": false,
     "start_time": "2025-07-06T16:56:28.340495",
     "status": "completed"
    },
    "tags": []
   },
   "outputs": [
    {
     "name": "stdout",
     "output_type": "stream",
     "text": [
      "Total 960 augmented videos generated\n",
      "Ready to be merged with original videos...\n"
     ]
    }
   ],
   "source": [
    "apply_augmentation(noise_video, video_generator)"
   ]
  },
  {
   "cell_type": "code",
   "execution_count": 35,
   "id": "85323a66",
   "metadata": {
    "execution": {
     "iopub.execute_input": "2025-07-06T16:56:40.902847Z",
     "iopub.status.busy": "2025-07-06T16:56:40.902232Z",
     "iopub.status.idle": "2025-07-06T16:56:40.906012Z",
     "shell.execute_reply": "2025-07-06T16:56:40.905342Z"
    },
    "papermill": {
     "duration": 0.106246,
     "end_time": "2025-07-06T16:56:40.907045",
     "exception": false,
     "start_time": "2025-07-06T16:56:40.800799",
     "status": "completed"
    },
    "tags": []
   },
   "outputs": [
    {
     "name": "stdout",
     "output_type": "stream",
     "text": [
      "Checking Total Videos and Class Count: 960, 960\n",
      "PENDING Total Videos and Class Count: 960, 960\n"
     ]
    }
   ],
   "source": [
    "print(f\"Checking Total Videos and Class Count: {len(video_generator.videos)}, {len(video_generator.labels)}\")\n",
    "print(f\"PENDING Total Videos and Class Count: {len(video_generator.temp_videos)}, {len(video_generator.temp_labels)}\")"
   ]
  },
  {
   "cell_type": "markdown",
   "id": "43fbf626",
   "metadata": {
    "papermill": {
     "duration": 0.102726,
     "end_time": "2025-07-06T16:56:41.154796",
     "exception": false,
     "start_time": "2025-07-06T16:56:41.052070",
     "status": "completed"
    },
    "tags": []
   },
   "source": [
    "## Apply ***Random Shear x2*** (Augmentation)"
   ]
  },
  {
   "cell_type": "code",
   "execution_count": 36,
   "id": "72eb562b",
   "metadata": {
    "execution": {
     "iopub.execute_input": "2025-07-06T16:56:41.361035Z",
     "iopub.status.busy": "2025-07-06T16:56:41.360567Z",
     "iopub.status.idle": "2025-07-06T16:57:19.614096Z",
     "shell.execute_reply": "2025-07-06T16:57:19.613317Z"
    },
    "papermill": {
     "duration": 38.357101,
     "end_time": "2025-07-06T16:57:19.615105",
     "exception": false,
     "start_time": "2025-07-06T16:56:41.258004",
     "status": "completed"
    },
    "tags": []
   },
   "outputs": [
    {
     "name": "stdout",
     "output_type": "stream",
     "text": [
      "Total 1920 augmented videos generated\n",
      "Ready to be merged with original videos...\n",
      "Total 2880 augmented videos generated\n",
      "Ready to be merged with original videos...\n"
     ]
    }
   ],
   "source": [
    "apply_augmentation(apply_shear_frames, video_generator, shear_right=0)\n",
    "apply_augmentation(apply_shear_frames, video_generator, shear_right=1)"
   ]
  },
  {
   "cell_type": "code",
   "execution_count": 37,
   "id": "483923c4",
   "metadata": {
    "execution": {
     "iopub.execute_input": "2025-07-06T16:57:19.958800Z",
     "iopub.status.busy": "2025-07-06T16:57:19.958566Z",
     "iopub.status.idle": "2025-07-06T16:57:19.962827Z",
     "shell.execute_reply": "2025-07-06T16:57:19.962086Z"
    },
    "papermill": {
     "duration": 0.175203,
     "end_time": "2025-07-06T16:57:19.963900",
     "exception": false,
     "start_time": "2025-07-06T16:57:19.788697",
     "status": "completed"
    },
    "tags": []
   },
   "outputs": [
    {
     "name": "stdout",
     "output_type": "stream",
     "text": [
      "Checking Total Videos and Class Count: 960, 960\n",
      "PENDING Total Videos and Class Count: 2880, 2880\n"
     ]
    }
   ],
   "source": [
    "print(f\"Checking Total Videos and Class Count: {len(video_generator.videos)}, {len(video_generator.labels)}\")\n",
    "print(f\"PENDING Total Videos and Class Count: {len(video_generator.temp_videos)}, {len(video_generator.temp_labels)}\")"
   ]
  },
  {
   "cell_type": "code",
   "execution_count": 38,
   "id": "3d83ad0a",
   "metadata": {
    "execution": {
     "iopub.execute_input": "2025-07-06T16:57:20.354689Z",
     "iopub.status.busy": "2025-07-06T16:57:20.354429Z",
     "iopub.status.idle": "2025-07-06T16:57:20.358380Z",
     "shell.execute_reply": "2025-07-06T16:57:20.357597Z"
    },
    "papermill": {
     "duration": 0.224282,
     "end_time": "2025-07-06T16:57:20.359451",
     "exception": false,
     "start_time": "2025-07-06T16:57:20.135169",
     "status": "completed"
    },
    "tags": []
   },
   "outputs": [
    {
     "name": "stdout",
     "output_type": "stream",
     "text": [
      "Successfully added - 2880 videos and 2880 classes.\n",
      "Now Total - 3840 videos and 3840 classes.\n",
      "PENDING for Augmentations - 0 videos and 0 classes.\n"
     ]
    }
   ],
   "source": [
    "# confirm changes to generator\n",
    "video_generator.confirm()"
   ]
  },
  {
   "cell_type": "code",
   "execution_count": 39,
   "id": "34c975f4",
   "metadata": {
    "execution": {
     "iopub.execute_input": "2025-07-06T16:57:20.704606Z",
     "iopub.status.busy": "2025-07-06T16:57:20.703996Z",
     "iopub.status.idle": "2025-07-06T16:57:20.707890Z",
     "shell.execute_reply": "2025-07-06T16:57:20.707304Z"
    },
    "papermill": {
     "duration": 0.176014,
     "end_time": "2025-07-06T16:57:20.708913",
     "exception": false,
     "start_time": "2025-07-06T16:57:20.532899",
     "status": "completed"
    },
    "tags": []
   },
   "outputs": [
    {
     "name": "stdout",
     "output_type": "stream",
     "text": [
      "Checking Video Generator Total Videos and Class Count: 3840, 3840\n"
     ]
    }
   ],
   "source": [
    "print(f\"Checking Video Generator Total Videos and Class Count: {len(video_generator.videos)}, {len(video_generator.labels)}\")"
   ]
  },
  {
   "cell_type": "markdown",
   "id": "deacac27",
   "metadata": {
    "papermill": {
     "duration": 0.169972,
     "end_time": "2025-07-06T16:57:21.049156",
     "exception": false,
     "start_time": "2025-07-06T16:57:20.879184",
     "status": "completed"
    },
    "tags": []
   },
   "source": [
    "## Cheking (Output)"
   ]
  },
  {
   "cell_type": "code",
   "execution_count": 40,
   "id": "a08f875a",
   "metadata": {
    "execution": {
     "iopub.execute_input": "2025-07-06T16:57:21.439991Z",
     "iopub.status.busy": "2025-07-06T16:57:21.439594Z",
     "iopub.status.idle": "2025-07-06T16:57:21.682510Z",
     "shell.execute_reply": "2025-07-06T16:57:21.681742Z"
    },
    "papermill": {
     "duration": 0.461885,
     "end_time": "2025-07-06T16:57:21.683671",
     "exception": false,
     "start_time": "2025-07-06T16:57:21.221786",
     "status": "completed"
    },
    "tags": []
   },
   "outputs": [
    {
     "name": "stdout",
     "output_type": "stream",
     "text": [
      "(16, 5, 128, 128, 3) (16,)\n"
     ]
    },
    {
     "data": {
      "image/png": "[encoded data removed]",
      "text/plain": [
       "<Figure size 1000x500 with 2 Axes>"
      ]
     },
     "metadata": {},
     "output_type": "display_data"
    },
    {
     "name": "stdout",
     "output_type": "stream",
     "text": [
      "Might be two different action, but to check the flipping focus on the door behind.\n"
     ]
    }
   ],
   "source": [
    "# check horizontal flips\n",
    "videos, labels = video_generator[7]\n",
    "videos1, labels1 = video_generator[1]\n",
    "\n",
    "print(videos.shape, labels.shape)\n",
    "\n",
    "show_frame_vs(videos[0,0],videos1[1,0], title1=\"Flipped Frame 1\", title2=\"Non Flipped Frame 1\")\n",
    "print(\"Might be two different action, but to check the flipping focus on the door behind.\")"
   ]
  },
  {
   "cell_type": "markdown",
   "id": "f3513e5d",
   "metadata": {
    "papermill": {
     "duration": 0.171247,
     "end_time": "2025-07-06T16:57:22.029084",
     "exception": false,
     "start_time": "2025-07-06T16:57:21.857837",
     "status": "completed"
    },
    "tags": []
   },
   "source": [
    "# 🧪 Test Augmentation (Output)\n",
    "## 🖼️ Horizontal Flip Output"
   ]
  },
  {
   "cell_type": "code",
   "execution_count": 41,
   "id": "873a4508",
   "metadata": {
    "execution": {
     "iopub.execute_input": "2025-07-06T16:57:22.388707Z",
     "iopub.status.busy": "2025-07-06T16:57:22.388136Z",
     "iopub.status.idle": "2025-07-06T16:57:22.391148Z",
     "shell.execute_reply": "2025-07-06T16:57:22.390638Z"
    },
    "papermill": {
     "duration": 0.179509,
     "end_time": "2025-07-06T16:57:22.392186",
     "exception": false,
     "start_time": "2025-07-06T16:57:22.212677",
     "status": "completed"
    },
    "tags": []
   },
   "outputs": [],
   "source": [
    "# flipped_video_1 = horizontal_flip(features[0])\n",
    "\n",
    "# flipped_video_1=np.asarray(flipped_video_1)\n",
    "\n",
    "# show_frame(flipped_video_1[0])\n",
    "# flipped_video_1.shape"
   ]
  },
  {
   "cell_type": "markdown",
   "id": "4b2f6f8e",
   "metadata": {
    "papermill": {
     "duration": 0.171356,
     "end_time": "2025-07-06T16:57:22.736333",
     "exception": false,
     "start_time": "2025-07-06T16:57:22.564977",
     "status": "completed"
    },
    "tags": []
   },
   "source": [
    "## 🖼️ Salt and Pepper Noise Output"
   ]
  },
  {
   "cell_type": "code",
   "execution_count": 42,
   "id": "08b1f7e1",
   "metadata": {
    "execution": {
     "iopub.execute_input": "2025-07-06T16:57:23.125975Z",
     "iopub.status.busy": "2025-07-06T16:57:23.125343Z",
     "iopub.status.idle": "2025-07-06T16:57:23.128643Z",
     "shell.execute_reply": "2025-07-06T16:57:23.127954Z"
    },
    "papermill": {
     "duration": 0.177774,
     "end_time": "2025-07-06T16:57:23.129791",
     "exception": false,
     "start_time": "2025-07-06T16:57:22.952017",
     "status": "completed"
    },
    "tags": []
   },
   "outputs": [],
   "source": [
    "# noised_video = noise_video(features[0])\n",
    "\n",
    "# print(noised_video.shape)\n",
    "# show_frame(noised_video[0])"
   ]
  },
  {
   "cell_type": "markdown",
   "id": "09149fcc",
   "metadata": {
    "papermill": {
     "duration": 0.171255,
     "end_time": "2025-07-06T16:57:23.478152",
     "exception": false,
     "start_time": "2025-07-06T16:57:23.306897",
     "status": "completed"
    },
    "tags": []
   },
   "source": [
    "## 🖼️ Random Shear Output"
   ]
  },
  {
   "cell_type": "code",
   "execution_count": 43,
   "id": "48507dd1",
   "metadata": {
    "execution": {
     "iopub.execute_input": "2025-07-06T16:57:23.821583Z",
     "iopub.status.busy": "2025-07-06T16:57:23.820985Z",
     "iopub.status.idle": "2025-07-06T16:57:23.824070Z",
     "shell.execute_reply": "2025-07-06T16:57:23.823574Z"
    },
    "papermill": {
     "duration": 0.175954,
     "end_time": "2025-07-06T16:57:23.825180",
     "exception": false,
     "start_time": "2025-07-06T16:57:23.649226",
     "status": "completed"
    },
    "tags": []
   },
   "outputs": [],
   "source": [
    "# print(features.shape)\n",
    "\n",
    "# sheared_1 = apply_shear_frames(features[0], shear_right=0)\n",
    "# sheared_2 = apply_shear_frames(features[0], shear_right=1)\n",
    "\n",
    "# sheared_1 = np.asarray(sheared_1)\n",
    "# sheared_2 = np.asarray(sheared_2)\n",
    "\n",
    "# print(sheared_1.shape)\n",
    "# show_frame(sheared_1[0])\n",
    "# show_frame(sheared_2[0])"
   ]
  },
  {
   "cell_type": "markdown",
   "id": "e6d99e77",
   "metadata": {
    "papermill": {
     "duration": 0.173839,
     "end_time": "2025-07-06T16:57:24.226383",
     "exception": false,
     "start_time": "2025-07-06T16:57:24.052544",
     "status": "completed"
    },
    "tags": []
   },
   "source": [
    "# 📌 Preparing Data for Training"
   ]
  },
  {
   "cell_type": "code",
   "execution_count": 44,
   "id": "83652bb5",
   "metadata": {
    "execution": {
     "iopub.execute_input": "2025-07-06T16:57:24.571507Z",
     "iopub.status.busy": "2025-07-06T16:57:24.571047Z",
     "iopub.status.idle": "2025-07-06T16:57:24.944475Z",
     "shell.execute_reply": "2025-07-06T16:57:24.943892Z"
    },
    "papermill": {
     "duration": 0.549032,
     "end_time": "2025-07-06T16:57:24.948652",
     "exception": false,
     "start_time": "2025-07-06T16:57:24.399620",
     "status": "completed"
    },
    "tags": []
   },
   "outputs": [],
   "source": [
    "# Clear previous session to free memory\n",
    "import gc\n",
    "\n",
    "gc.collect()\n",
    "tf.keras.backend.clear_session()"
   ]
  },
  {
   "cell_type": "markdown",
   "id": "ba1aebe2",
   "metadata": {
    "papermill": {
     "duration": 0.176624,
     "end_time": "2025-07-06T16:57:25.299801",
     "exception": false,
     "start_time": "2025-07-06T16:57:25.123177",
     "status": "completed"
    },
    "tags": []
   },
   "source": [
    "## Splitting data for ***Trainig*** and ***Testing***"
   ]
  },
  {
   "cell_type": "code",
   "execution_count": 45,
   "id": "82446cea",
   "metadata": {
    "execution": {
     "iopub.execute_input": "2025-07-06T16:57:25.694587Z",
     "iopub.status.busy": "2025-07-06T16:57:25.694316Z",
     "iopub.status.idle": "2025-07-06T16:57:26.904547Z",
     "shell.execute_reply": "2025-07-06T16:57:26.903756Z"
    },
    "papermill": {
     "duration": 1.428924,
     "end_time": "2025-07-06T16:57:26.905909",
     "exception": false,
     "start_time": "2025-07-06T16:57:25.476985",
     "status": "completed"
    },
    "tags": []
   },
   "outputs": [
    {
     "data": {
      "text/plain": [
       "((3840, 5, 128, 128, 3), (3840,))"
      ]
     },
     "execution_count": 45,
     "metadata": {},
     "output_type": "execute_result"
    }
   ],
   "source": [
    "videos = video_generator.videos\n",
    "labels = video_generator.labels\n",
    "\n",
    "videos = np.array(videos, dtype='float32')\n",
    "labels = np.array(labels)\n",
    "\n",
    "videos.shape, labels.shape"
   ]
  },
  {
   "cell_type": "code",
   "execution_count": 46,
   "id": "cc6e3bd0",
   "metadata": {
    "execution": {
     "iopub.execute_input": "2025-07-06T16:57:27.273373Z",
     "iopub.status.busy": "2025-07-06T16:57:27.273080Z",
     "iopub.status.idle": "2025-07-06T16:57:27.278832Z",
     "shell.execute_reply": "2025-07-06T16:57:27.278075Z"
    },
    "papermill": {
     "duration": 0.188973,
     "end_time": "2025-07-06T16:57:27.279984",
     "exception": false,
     "start_time": "2025-07-06T16:57:27.091011",
     "status": "completed"
    },
    "tags": []
   },
   "outputs": [
    {
     "data": {
      "text/plain": [
       "(3840, 16)"
      ]
     },
     "execution_count": 46,
     "metadata": {},
     "output_type": "execute_result"
    }
   ],
   "source": [
    "from tensorflow.keras.utils import to_categorical\n",
    "\n",
    "one_hot_encoded_labels = to_categorical(labels)\n",
    "\n",
    "one_hot_encoded_labels.shape"
   ]
  },
  {
   "cell_type": "code",
   "execution_count": 47,
   "id": "5a1653d3",
   "metadata": {
    "execution": {
     "iopub.execute_input": "2025-07-06T16:57:27.627270Z",
     "iopub.status.busy": "2025-07-06T16:57:27.627029Z",
     "iopub.status.idle": "2025-07-06T16:57:27.821333Z",
     "shell.execute_reply": "2025-07-06T16:57:27.820704Z"
    },
    "papermill": {
     "duration": 0.369758,
     "end_time": "2025-07-06T16:57:27.822533",
     "exception": false,
     "start_time": "2025-07-06T16:57:27.452775",
     "status": "completed"
    },
    "tags": []
   },
   "outputs": [
    {
     "data": {
      "text/plain": [
       "0"
      ]
     },
     "execution_count": 47,
     "metadata": {},
     "output_type": "execute_result"
    }
   ],
   "source": [
    "gc.collect()"
   ]
  },
  {
   "cell_type": "code",
   "execution_count": 48,
   "id": "581aff80",
   "metadata": {
    "execution": {
     "iopub.execute_input": "2025-07-06T16:57:28.254052Z",
     "iopub.status.busy": "2025-07-06T16:57:28.253798Z",
     "iopub.status.idle": "2025-07-06T16:57:29.445158Z",
     "shell.execute_reply": "2025-07-06T16:57:29.444536Z"
    },
    "papermill": {
     "duration": 1.436472,
     "end_time": "2025-07-06T16:57:29.446306",
     "exception": false,
     "start_time": "2025-07-06T16:57:28.009834",
     "status": "completed"
    },
    "tags": []
   },
   "outputs": [
    {
     "data": {
      "text/plain": [
       "((3072, 5, 128, 128, 3), (3072, 16), (768, 5, 128, 128, 3), (768, 16))"
      ]
     },
     "execution_count": 48,
     "metadata": {},
     "output_type": "execute_result"
    }
   ],
   "source": [
    "# RUN Split the Data into Train ( 75% ) and Test Set ( 25% ).\n",
    "from sklearn.model_selection import train_test_split\n",
    "features_train, features_test, labels_train, labels_test = train_test_split(videos,\n",
    "                                                                            one_hot_encoded_labels,\n",
    "                                                                            test_size = TEST_SIZE,\n",
    "                                                                            shuffle = True,\n",
    "                                                                            random_state = seed_constant)\n",
    "\n",
    "features_train.shape, labels_train.shape, features_test.shape, labels_test.shape"
   ]
  },
  {
   "cell_type": "markdown",
   "id": "8ea89ce9",
   "metadata": {
    "papermill": {
     "duration": 0.17116,
     "end_time": "2025-07-06T16:57:29.791497",
     "exception": false,
     "start_time": "2025-07-06T16:57:29.620337",
     "status": "completed"
    },
    "tags": []
   },
   "source": [
    "## Splitting data for ***Training Set*** and ***Validation Set***"
   ]
  },
  {
   "cell_type": "code",
   "execution_count": 49,
   "id": "cf365c02",
   "metadata": {
    "execution": {
     "iopub.execute_input": "2025-07-06T16:57:30.133013Z",
     "iopub.status.busy": "2025-07-06T16:57:30.132780Z",
     "iopub.status.idle": "2025-07-06T16:57:30.139141Z",
     "shell.execute_reply": "2025-07-06T16:57:30.138418Z"
    },
    "papermill": {
     "duration": 0.178437,
     "end_time": "2025-07-06T16:57:30.140195",
     "exception": false,
     "start_time": "2025-07-06T16:57:29.961758",
     "status": "completed"
    },
    "tags": []
   },
   "outputs": [
    {
     "data": {
      "text/plain": [
       "((2457, 5, 128, 128, 3), (2457, 16), (615, 5, 128, 128, 3), (615, 16))"
      ]
     },
     "execution_count": 49,
     "metadata": {},
     "output_type": "execute_result"
    }
   ],
   "source": [
    "# Assuming features_train and labels_train are defined\n",
    "train_set = 1-VALIDATION_SPLIT\n",
    "\n",
    "train_video_frames, val_video_frames = features_train[:int(train_set * len(features_train))], features_train[int(train_set * len(features_train)):]\n",
    "train_labels, val_labels = labels_train[:int(train_set * len(labels_train))], labels_train[int(train_set * len(labels_train)):]\n",
    "\n",
    "train_video_frames.shape, train_labels.shape, val_video_frames.shape, val_labels.shape"
   ]
  },
  {
   "cell_type": "markdown",
   "id": "92bbb916",
   "metadata": {
    "papermill": {
     "duration": 0.215374,
     "end_time": "2025-07-06T16:57:30.532696",
     "exception": false,
     "start_time": "2025-07-06T16:57:30.317322",
     "status": "completed"
    },
    "tags": []
   },
   "source": [
    "## Use Generator `Video Data Generator`"
   ]
  },
  {
   "cell_type": "code",
   "execution_count": 50,
   "id": "96184335",
   "metadata": {
    "execution": {
     "iopub.execute_input": "2025-07-06T16:57:30.874917Z",
     "iopub.status.busy": "2025-07-06T16:57:30.874441Z",
     "iopub.status.idle": "2025-07-06T16:57:30.882075Z",
     "shell.execute_reply": "2025-07-06T16:57:30.881549Z"
    },
    "papermill": {
     "duration": 0.179415,
     "end_time": "2025-07-06T16:57:30.883117",
     "exception": false,
     "start_time": "2025-07-06T16:57:30.703702",
     "status": "completed"
    },
    "tags": []
   },
   "outputs": [
    {
     "name": "stdout",
     "output_type": "stream",
     "text": [
      "Total 2457 videos and 2457 classes\n",
      "Total 615 videos and 615 classes\n"
     ]
    },
    {
     "data": {
      "text/plain": [
       "(154, 39)"
      ]
     },
     "execution_count": 50,
     "metadata": {},
     "output_type": "execute_result"
    }
   ],
   "source": [
    "# Create the training and validation generators\n",
    "train_gen = VideoDataGenerator(\n",
    "    videos=train_video_frames, \n",
    "    labels=train_labels, \n",
    "    batch_size=BATCH_SIZE,\n",
    ")\n",
    "\n",
    "val_gen = VideoDataGenerator(\n",
    "    videos=val_video_frames, \n",
    "    labels=val_labels, \n",
    "    batch_size=BATCH_SIZE,\n",
    ")\n",
    "\n",
    "len(train_gen), len(val_gen)"
   ]
  },
  {
   "cell_type": "markdown",
   "id": "a967fe0a",
   "metadata": {
    "papermill": {
     "duration": 0.177689,
     "end_time": "2025-07-06T16:57:31.231218",
     "exception": false,
     "start_time": "2025-07-06T16:57:31.053529",
     "status": "completed"
    },
    "tags": []
   },
   "source": [
    "## Inspect ***Generator*** Data on Epochs"
   ]
  },
  {
   "cell_type": "code",
   "execution_count": 51,
   "id": "66f297dc",
   "metadata": {
    "execution": {
     "iopub.execute_input": "2025-07-06T16:57:31.580253Z",
     "iopub.status.busy": "2025-07-06T16:57:31.579719Z",
     "iopub.status.idle": "2025-07-06T16:57:31.590460Z",
     "shell.execute_reply": "2025-07-06T16:57:31.589835Z"
    },
    "papermill": {
     "duration": 0.183827,
     "end_time": "2025-07-06T16:57:31.591564",
     "exception": false,
     "start_time": "2025-07-06T16:57:31.407737",
     "status": "completed"
    },
    "tags": []
   },
   "outputs": [
    {
     "name": "stdout",
     "output_type": "stream",
     "text": [
      "[   0    1    2 ... 2454 2455 2456]\n",
      "[2236  966 2422 ... 2381 1911 1104]\n"
     ]
    },
    {
     "data": {
      "text/plain": [
       "(16, (16, 5, 128, 128, 3), (16, 16))"
      ]
     },
     "execution_count": 51,
     "metadata": {},
     "output_type": "execute_result"
    }
   ],
   "source": [
    "features, labels = train_gen[1]\n",
    "\n",
    "print(train_gen.indices)\n",
    "\n",
    "train_gen.on_epoch_end()\n",
    "\n",
    "print(train_gen.indices)\n",
    "\n",
    "BATCH_SIZE, features.shape, labels.shape"
   ]
  },
  {
   "cell_type": "markdown",
   "id": "9feb82be",
   "metadata": {
    "papermill": {
     "duration": 0.17134,
     "end_time": "2025-07-06T16:57:31.976849",
     "exception": false,
     "start_time": "2025-07-06T16:57:31.805509",
     "status": "completed"
    },
    "tags": []
   },
   "source": [
    "## Compute Class Weight"
   ]
  },
  {
   "cell_type": "code",
   "execution_count": 52,
   "id": "28d6c86d",
   "metadata": {
    "execution": {
     "iopub.execute_input": "2025-07-06T16:57:32.322465Z",
     "iopub.status.busy": "2025-07-06T16:57:32.322115Z",
     "iopub.status.idle": "2025-07-06T16:57:32.328620Z",
     "shell.execute_reply": "2025-07-06T16:57:32.327931Z"
    },
    "papermill": {
     "duration": 0.182123,
     "end_time": "2025-07-06T16:57:32.329842",
     "exception": false,
     "start_time": "2025-07-06T16:57:32.147719",
     "status": "completed"
    },
    "tags": []
   },
   "outputs": [
    {
     "name": "stdout",
     "output_type": "stream",
     "text": [
      "Class weights: {0: 1.0, 1: 1.0, 2: 1.0, 3: 1.0, 4: 1.0, 5: 1.0, 6: 1.0, 7: 1.0, 8: 1.0, 9: 1.0, 10: 1.0, 11: 1.0, 12: 1.0, 13: 1.0, 14: 1.0, 15: 1.0}\n"
     ]
    }
   ],
   "source": [
    "from sklearn.utils.class_weight import compute_class_weight\n",
    "import numpy as np\n",
    "\n",
    "# Assuming y_int are integer labels (not one-hot)\n",
    "y_int = np.argmax(one_hot_encoded_labels, axis=1)  # or just integer labels if you have them\n",
    "\n",
    "classes = np.arange(NO_OF_CLASSES)  # e.g. np.arange(16)\n",
    "class_weights_values = compute_class_weight(class_weight='balanced', classes=classes, y=y_int)\n",
    "\n",
    "class_weights = dict(zip(classes, class_weights_values))\n",
    "\n",
    "print(\"Class weights:\", class_weights)\n"
   ]
  },
  {
   "cell_type": "code",
   "execution_count": 53,
   "id": "d775c505",
   "metadata": {
    "execution": {
     "iopub.execute_input": "2025-07-06T16:57:32.672815Z",
     "iopub.status.busy": "2025-07-06T16:57:32.672609Z",
     "iopub.status.idle": "2025-07-06T16:57:32.880339Z",
     "shell.execute_reply": "2025-07-06T16:57:32.879739Z"
    },
    "papermill": {
     "duration": 0.379175,
     "end_time": "2025-07-06T16:57:32.881597",
     "exception": false,
     "start_time": "2025-07-06T16:57:32.502422",
     "status": "completed"
    },
    "tags": []
   },
   "outputs": [],
   "source": [
    "gc.collect()\n",
    "del videos, one_hot_encoded_labels, labels_train\n",
    "del features_train, val_labels, train_labels\n",
    "del val_video_frames, train_video_frames"
   ]
  },
  {
   "cell_type": "markdown",
   "id": "0c116609",
   "metadata": {
    "papermill": {
     "duration": 0.18562,
     "end_time": "2025-07-06T16:57:33.288232",
     "exception": false,
     "start_time": "2025-07-06T16:57:33.102612",
     "status": "completed"
    },
    "tags": []
   },
   "source": [
    "# ✨ Model Execution\n",
    "## Creating Model"
   ]
  },
  {
   "cell_type": "code",
   "execution_count": 54,
   "id": "5333fe31",
   "metadata": {
    "execution": {
     "iopub.execute_input": "2025-07-06T16:57:33.635532Z",
     "iopub.status.busy": "2025-07-06T16:57:33.635245Z",
     "iopub.status.idle": "2025-07-06T16:57:34.894858Z",
     "shell.execute_reply": "2025-07-06T16:57:34.894242Z"
    },
    "papermill": {
     "duration": 1.434945,
     "end_time": "2025-07-06T16:57:34.895842",
     "exception": false,
     "start_time": "2025-07-06T16:57:33.460897",
     "status": "completed"
    },
    "tags": []
   },
   "outputs": [
    {
     "name": "stdout",
     "output_type": "stream",
     "text": [
      "Loading Xception base model...\n",
      "Model architecture with BiLSTM created successfully!\n"
     ]
    },
    {
     "name": "stderr",
     "output_type": "stream",
     "text": [
      "/usr/local/lib/python3.11/dist-packages/keras/src/layers/core/wrapper.py:27: UserWarning: Do not pass an `input_shape`/`input_dim` argument to a layer. When using Sequential models, prefer using an `Input(shape)` object as the first layer in the model instead.\n",
      "  super().__init__(**kwargs)\n"
     ]
    },
    {
     "data": {
      "text/html": [
       "<pre style=\"white-space:pre;overflow-x:auto;line-height:normal;font-family:Menlo,'DejaVu Sans Mono',consolas,'Courier New',monospace\"><span style=\"font-weight: bold\">Model: \"sequential\"</span>\n",
       "</pre>\n"
      ],
      "text/plain": [
       "\u001b[1mModel: \"sequential\"\u001b[0m\n"
      ]
     },
     "metadata": {},
     "output_type": "display_data"
    },
    {
     "data": {
      "text/html": [
       "<pre style=\"white-space:pre;overflow-x:auto;line-height:normal;font-family:Menlo,'DejaVu Sans Mono',consolas,'Courier New',monospace\">┏━━━━━━━━━━━━━━━━━━━━━━━━━━━━━━━━━━━━━━┳━━━━━━━━━━━━━━━━━━━━━━━━━━━━━┳━━━━━━━━━━━━━━━━━┓\n",
       "┃<span style=\"font-weight: bold\"> Layer (type)                         </span>┃<span style=\"font-weight: bold\"> Output Shape                </span>┃<span style=\"font-weight: bold\">         Param # </span>┃\n",
       "┡━━━━━━━━━━━━━━━━━━━━━━━━━━━━━━━━━━━━━━╇━━━━━━━━━━━━━━━━━━━━━━━━━━━━━╇━━━━━━━━━━━━━━━━━┩\n",
       "│ time_distributed (<span style=\"color: #0087ff; text-decoration-color: #0087ff\">TimeDistributed</span>)   │ (<span style=\"color: #00d7ff; text-decoration-color: #00d7ff\">None</span>, <span style=\"color: #00af00; text-decoration-color: #00af00\">5</span>, <span style=\"color: #00af00; text-decoration-color: #00af00\">4</span>, <span style=\"color: #00af00; text-decoration-color: #00af00\">4</span>, <span style=\"color: #00af00; text-decoration-color: #00af00\">2048</span>)       │      <span style=\"color: #00af00; text-decoration-color: #00af00\">20,861,480</span> │\n",
       "├──────────────────────────────────────┼─────────────────────────────┼─────────────────┤\n",
       "│ time_distributed_1 (<span style=\"color: #0087ff; text-decoration-color: #0087ff\">TimeDistributed</span>) │ (<span style=\"color: #00d7ff; text-decoration-color: #00d7ff\">None</span>, <span style=\"color: #00af00; text-decoration-color: #00af00\">5</span>, <span style=\"color: #00af00; text-decoration-color: #00af00\">2048</span>)             │               <span style=\"color: #00af00; text-decoration-color: #00af00\">0</span> │\n",
       "├──────────────────────────────────────┼─────────────────────────────┼─────────────────┤\n",
       "│ bilstm (<span style=\"color: #0087ff; text-decoration-color: #0087ff\">Bidirectional</span>)               │ (<span style=\"color: #00d7ff; text-decoration-color: #00d7ff\">None</span>, <span style=\"color: #00af00; text-decoration-color: #00af00\">512</span>)                 │       <span style=\"color: #00af00; text-decoration-color: #00af00\">4,720,640</span> │\n",
       "├──────────────────────────────────────┼─────────────────────────────┼─────────────────┤\n",
       "│ batch_normalization                  │ (<span style=\"color: #00d7ff; text-decoration-color: #00d7ff\">None</span>, <span style=\"color: #00af00; text-decoration-color: #00af00\">512</span>)                 │           <span style=\"color: #00af00; text-decoration-color: #00af00\">2,048</span> │\n",
       "│ (<span style=\"color: #0087ff; text-decoration-color: #0087ff\">BatchNormalization</span>)                 │                             │                 │\n",
       "├──────────────────────────────────────┼─────────────────────────────┼─────────────────┤\n",
       "│ dropout_bilstm (<span style=\"color: #0087ff; text-decoration-color: #0087ff\">Dropout</span>)             │ (<span style=\"color: #00d7ff; text-decoration-color: #00d7ff\">None</span>, <span style=\"color: #00af00; text-decoration-color: #00af00\">512</span>)                 │               <span style=\"color: #00af00; text-decoration-color: #00af00\">0</span> │\n",
       "├──────────────────────────────────────┼─────────────────────────────┼─────────────────┤\n",
       "│ dense (<span style=\"color: #0087ff; text-decoration-color: #0087ff\">Dense</span>)                        │ (<span style=\"color: #00d7ff; text-decoration-color: #00d7ff\">None</span>, <span style=\"color: #00af00; text-decoration-color: #00af00\">512</span>)                 │         <span style=\"color: #00af00; text-decoration-color: #00af00\">262,656</span> │\n",
       "├──────────────────────────────────────┼─────────────────────────────┼─────────────────┤\n",
       "│ dropout_dense (<span style=\"color: #0087ff; text-decoration-color: #0087ff\">Dropout</span>)              │ (<span style=\"color: #00d7ff; text-decoration-color: #00d7ff\">None</span>, <span style=\"color: #00af00; text-decoration-color: #00af00\">512</span>)                 │               <span style=\"color: #00af00; text-decoration-color: #00af00\">0</span> │\n",
       "├──────────────────────────────────────┼─────────────────────────────┼─────────────────┤\n",
       "│ dense_1 (<span style=\"color: #0087ff; text-decoration-color: #0087ff\">Dense</span>)                      │ (<span style=\"color: #00d7ff; text-decoration-color: #00d7ff\">None</span>, <span style=\"color: #00af00; text-decoration-color: #00af00\">16</span>)                  │           <span style=\"color: #00af00; text-decoration-color: #00af00\">8,208</span> │\n",
       "└──────────────────────────────────────┴─────────────────────────────┴─────────────────┘\n",
       "</pre>\n"
      ],
      "text/plain": [
       "┏━━━━━━━━━━━━━━━━━━━━━━━━━━━━━━━━━━━━━━┳━━━━━━━━━━━━━━━━━━━━━━━━━━━━━┳━━━━━━━━━━━━━━━━━┓\n",
       "┃\u001b[1m \u001b[0m\u001b[1mLayer (type)                        \u001b[0m\u001b[1m \u001b[0m┃\u001b[1m \u001b[0m\u001b[1mOutput Shape               \u001b[0m\u001b[1m \u001b[0m┃\u001b[1m \u001b[0m\u001b[1m        Param #\u001b[0m\u001b[1m \u001b[0m┃\n",
       "┡━━━━━━━━━━━━━━━━━━━━━━━━━━━━━━━━━━━━━━╇━━━━━━━━━━━━━━━━━━━━━━━━━━━━━╇━━━━━━━━━━━━━━━━━┩\n",
       "│ time_distributed (\u001b[38;5;33mTimeDistributed\u001b[0m)   │ (\u001b[38;5;45mNone\u001b[0m, \u001b[38;5;34m5\u001b[0m, \u001b[38;5;34m4\u001b[0m, \u001b[38;5;34m4\u001b[0m, \u001b[38;5;34m2048\u001b[0m)       │      \u001b[38;5;34m20,861,480\u001b[0m │\n",
       "├──────────────────────────────────────┼─────────────────────────────┼─────────────────┤\n",
       "│ time_distributed_1 (\u001b[38;5;33mTimeDistributed\u001b[0m) │ (\u001b[38;5;45mNone\u001b[0m, \u001b[38;5;34m5\u001b[0m, \u001b[38;5;34m2048\u001b[0m)             │               \u001b[38;5;34m0\u001b[0m │\n",
       "├──────────────────────────────────────┼─────────────────────────────┼─────────────────┤\n",
       "│ bilstm (\u001b[38;5;33mBidirectional\u001b[0m)               │ (\u001b[38;5;45mNone\u001b[0m, \u001b[38;5;34m512\u001b[0m)                 │       \u001b[38;5;34m4,720,640\u001b[0m │\n",
       "├──────────────────────────────────────┼─────────────────────────────┼─────────────────┤\n",
       "│ batch_normalization                  │ (\u001b[38;5;45mNone\u001b[0m, \u001b[38;5;34m512\u001b[0m)                 │           \u001b[38;5;34m2,048\u001b[0m │\n",
       "│ (\u001b[38;5;33mBatchNormalization\u001b[0m)                 │                             │                 │\n",
       "├──────────────────────────────────────┼─────────────────────────────┼─────────────────┤\n",
       "│ dropout_bilstm (\u001b[38;5;33mDropout\u001b[0m)             │ (\u001b[38;5;45mNone\u001b[0m, \u001b[38;5;34m512\u001b[0m)                 │               \u001b[38;5;34m0\u001b[0m │\n",
       "├──────────────────────────────────────┼─────────────────────────────┼─────────────────┤\n",
       "│ dense (\u001b[38;5;33mDense\u001b[0m)                        │ (\u001b[38;5;45mNone\u001b[0m, \u001b[38;5;34m512\u001b[0m)                 │         \u001b[38;5;34m262,656\u001b[0m │\n",
       "├──────────────────────────────────────┼─────────────────────────────┼─────────────────┤\n",
       "│ dropout_dense (\u001b[38;5;33mDropout\u001b[0m)              │ (\u001b[38;5;45mNone\u001b[0m, \u001b[38;5;34m512\u001b[0m)                 │               \u001b[38;5;34m0\u001b[0m │\n",
       "├──────────────────────────────────────┼─────────────────────────────┼─────────────────┤\n",
       "│ dense_1 (\u001b[38;5;33mDense\u001b[0m)                      │ (\u001b[38;5;45mNone\u001b[0m, \u001b[38;5;34m16\u001b[0m)                  │           \u001b[38;5;34m8,208\u001b[0m │\n",
       "└──────────────────────────────────────┴─────────────────────────────┴─────────────────┘\n"
      ]
     },
     "metadata": {},
     "output_type": "display_data"
    },
    {
     "data": {
      "text/html": [
       "<pre style=\"white-space:pre;overflow-x:auto;line-height:normal;font-family:Menlo,'DejaVu Sans Mono',consolas,'Courier New',monospace\"><span style=\"font-weight: bold\"> Total params: </span><span style=\"color: #00af00; text-decoration-color: #00af00\">25,855,032</span> (98.63 MB)\n",
       "</pre>\n"
      ],
      "text/plain": [
       "\u001b[1m Total params: \u001b[0m\u001b[38;5;34m25,855,032\u001b[0m (98.63 MB)\n"
      ]
     },
     "metadata": {},
     "output_type": "display_data"
    },
    {
     "data": {
      "text/html": [
       "<pre style=\"white-space:pre;overflow-x:auto;line-height:normal;font-family:Menlo,'DejaVu Sans Mono',consolas,'Courier New',monospace\"><span style=\"font-weight: bold\"> Trainable params: </span><span style=\"color: #00af00; text-decoration-color: #00af00\">25,799,480</span> (98.42 MB)\n",
       "</pre>\n"
      ],
      "text/plain": [
       "\u001b[1m Trainable params: \u001b[0m\u001b[38;5;34m25,799,480\u001b[0m (98.42 MB)\n"
      ]
     },
     "metadata": {},
     "output_type": "display_data"
    },
    {
     "data": {
      "text/html": [
       "<pre style=\"white-space:pre;overflow-x:auto;line-height:normal;font-family:Menlo,'DejaVu Sans Mono',consolas,'Courier New',monospace\"><span style=\"font-weight: bold\"> Non-trainable params: </span><span style=\"color: #00af00; text-decoration-color: #00af00\">55,552</span> (217.00 KB)\n",
       "</pre>\n"
      ],
      "text/plain": [
       "\u001b[1m Non-trainable params: \u001b[0m\u001b[38;5;34m55,552\u001b[0m (217.00 KB)\n"
      ]
     },
     "metadata": {},
     "output_type": "display_data"
    },
    {
     "name": "stdout",
     "output_type": "stream",
     "text": [
      "Model Created Successfully!\n"
     ]
    }
   ],
   "source": [
    "# Create the model\n",
    "xlstm_model = create_model(\n",
    "    sequence_length=SEQUENCE_LENGTH,\n",
    "    image_height=IMAGE_HEIGHT,\n",
    "    image_width=IMAGE_WIDTH,\n",
    "    classes_list=CLASSES_LIST,\n",
    "    dropout_rate=DROPOUT_RATE\n",
    ")\n",
    "\n",
    "# Check if model was created successfully\n",
    "if xlstm_model is None:\n",
    "    print(\"Failed to create model. Check error messages above.\")\n",
    "else:\n",
    "    print(\"Model Created Successfully!\")"
   ]
  },
  {
   "cell_type": "markdown",
   "id": "0135e8b5",
   "metadata": {
    "papermill": {
     "duration": 0.171837,
     "end_time": "2025-07-06T16:57:35.243656",
     "exception": false,
     "start_time": "2025-07-06T16:57:35.071819",
     "status": "completed"
    },
    "tags": []
   },
   "source": [
    "## Plot Model Structure"
   ]
  },
  {
   "cell_type": "code",
   "execution_count": 55,
   "id": "4da53190",
   "metadata": {
    "execution": {
     "iopub.execute_input": "2025-07-06T16:57:35.634882Z",
     "iopub.status.busy": "2025-07-06T16:57:35.634616Z",
     "iopub.status.idle": "2025-07-06T16:57:35.948196Z",
     "shell.execute_reply": "2025-07-06T16:57:35.947491Z"
    },
    "papermill": {
     "duration": 0.486613,
     "end_time": "2025-07-06T16:57:35.949334",
     "exception": false,
     "start_time": "2025-07-06T16:57:35.462721",
     "status": "completed"
    },
    "tags": []
   },
   "outputs": [
    {
     "name": "stdout",
     "output_type": "stream",
     "text": [
      "Xception Model Plot saved successfully...\n"
     ]
    }
   ],
   "source": [
    "# Plot the structure of the contructed model.\n",
    "from tensorflow.keras.utils import plot_model\n",
    "\n",
    "plot_model(xlstm_model, to_file = f'{MODEL_NAME}_model_Plot.png', show_shapes = True, show_layer_names = True)\n",
    "\n",
    "print(f\"{MODEL_NAME} Model Plot saved successfully...\")"
   ]
  },
  {
   "cell_type": "markdown",
   "id": "4d2d038a",
   "metadata": {
    "papermill": {
     "duration": 0.173449,
     "end_time": "2025-07-06T16:57:36.297260",
     "exception": false,
     "start_time": "2025-07-06T16:57:36.123811",
     "status": "completed"
    },
    "tags": []
   },
   "source": [
    "## Model Compile"
   ]
  },
  {
   "cell_type": "code",
   "execution_count": 56,
   "id": "beaef18c",
   "metadata": {
    "execution": {
     "iopub.execute_input": "2025-07-06T16:57:36.641956Z",
     "iopub.status.busy": "2025-07-06T16:57:36.641693Z",
     "iopub.status.idle": "2025-07-06T16:57:36.656977Z",
     "shell.execute_reply": "2025-07-06T16:57:36.656270Z"
    },
    "papermill": {
     "duration": 0.188796,
     "end_time": "2025-07-06T16:57:36.658141",
     "exception": false,
     "start_time": "2025-07-06T16:57:36.469345",
     "status": "completed"
    },
    "tags": []
   },
   "outputs": [],
   "source": [
    "# Create an Instance of Early Stopping Callback\n",
    "from tensorflow.keras.callbacks import EarlyStopping\n",
    "\n",
    "early_stopping_callback = EarlyStopping(monitor = 'val_loss', \n",
    "                                        patience = 7, \n",
    "                                        mode = 'min', \n",
    "                                        restore_best_weights = True)\n",
    "\n",
    "# Compile the model and specify loss function, optimizer and metrics values to the model\n",
    "xlstm_model.compile(loss = 'categorical_crossentropy', \n",
    "                    optimizer=tf.keras.optimizers.Adam(learning_rate=0.0001),\n",
    "                    metrics = [\"accuracy\"])\n"
   ]
  },
  {
   "cell_type": "markdown",
   "id": "42963de7",
   "metadata": {
    "papermill": {
     "duration": 0.170942,
     "end_time": "2025-07-06T16:57:37.045435",
     "exception": false,
     "start_time": "2025-07-06T16:57:36.874493",
     "status": "completed"
    },
    "tags": []
   },
   "source": [
    "## 💪 Model Fit"
   ]
  },
  {
   "cell_type": "code",
   "execution_count": 57,
   "id": "756cb287",
   "metadata": {
    "execution": {
     "iopub.execute_input": "2025-07-06T16:57:37.392211Z",
     "iopub.status.busy": "2025-07-06T16:57:37.391708Z",
     "iopub.status.idle": "2025-07-06T16:57:37.398613Z",
     "shell.execute_reply": "2025-07-06T16:57:37.397786Z"
    },
    "papermill": {
     "duration": 0.182,
     "end_time": "2025-07-06T16:57:37.399702",
     "exception": false,
     "start_time": "2025-07-06T16:57:37.217702",
     "status": "completed"
    },
    "tags": []
   },
   "outputs": [
    {
     "name": "stdout",
     "output_type": "stream",
     "text": [
      "Unique labels: [ 0  1  2  3  4  5  6  7  8  9 10 11 12 13 14 15]\n",
      "NO_OF_CLASSES: 16\n"
     ]
    }
   ],
   "source": [
    "labels = np.argmax(train_gen.labels, axis=1)  # assuming one-hot encoded\n",
    "print(\"Unique labels:\", np.unique(labels))\n",
    "print(\"NO_OF_CLASSES:\", NO_OF_CLASSES)\n"
   ]
  },
  {
   "cell_type": "code",
   "execution_count": 58,
   "id": "1e384a42",
   "metadata": {
    "execution": {
     "iopub.execute_input": "2025-07-06T16:57:37.746105Z",
     "iopub.status.busy": "2025-07-06T16:57:37.745715Z",
     "iopub.status.idle": "2025-07-06T16:57:37.751800Z",
     "shell.execute_reply": "2025-07-06T16:57:37.751221Z"
    },
    "papermill": {
     "duration": 0.180541,
     "end_time": "2025-07-06T16:57:37.752803",
     "exception": false,
     "start_time": "2025-07-06T16:57:37.572262",
     "status": "completed"
    },
    "tags": []
   },
   "outputs": [
    {
     "name": "stdout",
     "output_type": "stream",
     "text": [
      "Train label shape: (2457, 16)\n",
      "Val label shape: (615, 16)\n"
     ]
    }
   ],
   "source": [
    "print(\"Train label shape:\", np.shape(train_gen.labels))\n",
    "print(\"Val label shape:\", np.shape(val_gen.labels))\n"
   ]
  },
  {
   "cell_type": "code",
   "execution_count": 59,
   "id": "a0a9f7ee",
   "metadata": {
    "execution": {
     "iopub.execute_input": "2025-07-06T16:57:38.168624Z",
     "iopub.status.busy": "2025-07-06T16:57:38.168081Z",
     "iopub.status.idle": "2025-07-06T17:51:19.592368Z",
     "shell.execute_reply": "2025-07-06T17:51:19.591573Z"
    },
    "papermill": {
     "duration": 3221.669509,
     "end_time": "2025-07-06T17:51:19.593748",
     "exception": false,
     "start_time": "2025-07-06T16:57:37.924239",
     "status": "completed"
    },
    "tags": []
   },
   "outputs": [
    {
     "name": "stdout",
     "output_type": "stream",
     "text": [
      "Dataset - Ucf50\n",
      "There are total 50 classes, selected 16 classes\n",
      "Setting 30 videos/class to train the model.\n",
      "Image size 128x128 with 5 sequence length\n",
      "Dropout rate: 0.5\n",
      "Train-Test split ratio 80/20\n",
      "Validation data from Train set 20.0%\n",
      "\n",
      "\n",
      "Training started for 2457 videos of 16 classes with 615 videos for validation...\n",
      "Epoch 1/30\n"
     ]
    },
    {
     "name": "stderr",
     "output_type": "stream",
     "text": [
      "I0000 00:00:1751821117.614898      87 cuda_dnn.cc:529] Loaded cuDNN version 90300\n"
     ]
    },
    {
     "name": "stdout",
     "output_type": "stream",
     "text": [
      "    154/Unknown \u001b[1m162s\u001b[0m 642ms/step - accuracy: 0.0921 - loss: 33.5093"
     ]
    },
    {
     "name": "stderr",
     "output_type": "stream",
     "text": [
      "/usr/local/lib/python3.11/dist-packages/keras/src/trainers/epoch_iterator.py:151: UserWarning: Your input ran out of data; interrupting training. Make sure that your dataset or generator can generate at least `steps_per_epoch * epochs` batches. You may need to use the `.repeat()` function when building your dataset.\n",
      "  self._interrupted_warning()\n"
     ]
    },
    {
     "name": "stdout",
     "output_type": "stream",
     "text": [
      "\u001b[1m154/154\u001b[0m \u001b[32m━━━━━━━━━━━━━━━━━━━━\u001b[0m\u001b[37m\u001b[0m \u001b[1m173s\u001b[0m 717ms/step - accuracy: 0.0924 - loss: 33.4909 - val_accuracy: 0.4033 - val_loss: 25.4703 - learning_rate: 1.0000e-04\n",
      "Epoch 2/30\n",
      "\u001b[1m154/154\u001b[0m \u001b[32m━━━━━━━━━━━━━━━━━━━━\u001b[0m\u001b[37m\u001b[0m \u001b[1m105s\u001b[0m 681ms/step - accuracy: 0.3776 - loss: 22.6973 - val_accuracy: 0.6862 - val_loss: 17.4300 - learning_rate: 1.0000e-04\n",
      "Epoch 3/30\n",
      "\u001b[1m154/154\u001b[0m \u001b[32m━━━━━━━━━━━━━━━━━━━━\u001b[0m\u001b[37m\u001b[0m \u001b[1m105s\u001b[0m 680ms/step - accuracy: 0.6413 - loss: 15.7162 - val_accuracy: 0.8276 - val_loss: 12.7304 - learning_rate: 1.0000e-04\n",
      "Epoch 4/30\n",
      "\u001b[1m154/154\u001b[0m \u001b[32m━━━━━━━━━━━━━━━━━━━━\u001b[0m\u001b[37m\u001b[0m \u001b[1m105s\u001b[0m 680ms/step - accuracy: 0.8047 - loss: 11.9494 - val_accuracy: 0.9041 - val_loss: 10.2515 - learning_rate: 1.0000e-04\n",
      "Epoch 5/30\n",
      "\u001b[1m154/154\u001b[0m \u001b[32m━━━━━━━━━━━━━━━━━━━━\u001b[0m\u001b[37m\u001b[0m \u001b[1m105s\u001b[0m 683ms/step - accuracy: 0.8874 - loss: 9.9246 - val_accuracy: 0.9252 - val_loss: 8.9303 - learning_rate: 1.0000e-04\n",
      "Epoch 6/30\n",
      "\u001b[1m154/154\u001b[0m \u001b[32m━━━━━━━━━━━━━━━━━━━━\u001b[0m\u001b[37m\u001b[0m \u001b[1m105s\u001b[0m 681ms/step - accuracy: 0.9477 - loss: 8.6035 - val_accuracy: 0.9073 - val_loss: 8.0585 - learning_rate: 1.0000e-04\n",
      "Epoch 7/30\n",
      "\u001b[1m154/154\u001b[0m \u001b[32m━━━━━━━━━━━━━━━━━━━━\u001b[0m\u001b[37m\u001b[0m \u001b[1m105s\u001b[0m 683ms/step - accuracy: 0.9621 - loss: 7.6823 - val_accuracy: 0.9431 - val_loss: 7.1528 - learning_rate: 1.0000e-04\n",
      "Epoch 8/30\n",
      "\u001b[1m154/154\u001b[0m \u001b[32m━━━━━━━━━━━━━━━━━━━━\u001b[0m\u001b[37m\u001b[0m \u001b[1m105s\u001b[0m 681ms/step - accuracy: 0.9776 - loss: 6.8680 - val_accuracy: 0.9366 - val_loss: 6.4370 - learning_rate: 1.0000e-04\n",
      "Epoch 9/30\n",
      "\u001b[1m154/154\u001b[0m \u001b[32m━━━━━━━━━━━━━━━━━━━━\u001b[0m\u001b[37m\u001b[0m \u001b[1m105s\u001b[0m 680ms/step - accuracy: 0.9776 - loss: 6.1271 - val_accuracy: 0.9528 - val_loss: 5.7094 - learning_rate: 1.0000e-04\n",
      "Epoch 10/30\n",
      "\u001b[1m154/154\u001b[0m \u001b[32m━━━━━━━━━━━━━━━━━━━━\u001b[0m\u001b[37m\u001b[0m \u001b[1m105s\u001b[0m 683ms/step - accuracy: 0.9889 - loss: 5.4219 - val_accuracy: 0.9382 - val_loss: 5.0825 - learning_rate: 1.0000e-04\n",
      "Epoch 11/30\n",
      "\u001b[1m154/154\u001b[0m \u001b[32m━━━━━━━━━━━━━━━━━━━━\u001b[0m\u001b[37m\u001b[0m \u001b[1m105s\u001b[0m 682ms/step - accuracy: 0.9853 - loss: 4.7810 - val_accuracy: 0.9350 - val_loss: 4.5028 - learning_rate: 1.0000e-04\n",
      "Epoch 12/30\n",
      "\u001b[1m154/154\u001b[0m \u001b[32m━━━━━━━━━━━━━━━━━━━━\u001b[0m\u001b[37m\u001b[0m \u001b[1m105s\u001b[0m 682ms/step - accuracy: 0.9918 - loss: 4.1511 - val_accuracy: 0.9480 - val_loss: 3.8587 - learning_rate: 1.0000e-04\n",
      "Epoch 13/30\n",
      "\u001b[1m154/154\u001b[0m \u001b[32m━━━━━━━━━━━━━━━━━━━━\u001b[0m\u001b[37m\u001b[0m \u001b[1m105s\u001b[0m 684ms/step - accuracy: 0.9901 - loss: 3.5823 - val_accuracy: 0.9463 - val_loss: 3.3409 - learning_rate: 1.0000e-04\n",
      "Epoch 14/30\n",
      "\u001b[1m154/154\u001b[0m \u001b[32m━━━━━━━━━━━━━━━━━━━━\u001b[0m\u001b[37m\u001b[0m \u001b[1m105s\u001b[0m 682ms/step - accuracy: 0.9960 - loss: 3.0601 - val_accuracy: 0.9545 - val_loss: 2.8386 - learning_rate: 1.0000e-04\n",
      "Epoch 15/30\n",
      "\u001b[1m154/154\u001b[0m \u001b[32m━━━━━━━━━━━━━━━━━━━━\u001b[0m\u001b[37m\u001b[0m \u001b[1m105s\u001b[0m 682ms/step - accuracy: 0.9964 - loss: 2.5862 - val_accuracy: 0.9528 - val_loss: 2.4166 - learning_rate: 1.0000e-04\n",
      "Epoch 16/30\n",
      "\u001b[1m154/154\u001b[0m \u001b[32m━━━━━━━━━━━━━━━━━━━━\u001b[0m\u001b[37m\u001b[0m \u001b[1m105s\u001b[0m 683ms/step - accuracy: 0.9982 - loss: 2.1634 - val_accuracy: 0.9528 - val_loss: 2.0511 - learning_rate: 1.0000e-04\n",
      "Epoch 17/30\n",
      "\u001b[1m154/154\u001b[0m \u001b[32m━━━━━━━━━━━━━━━━━━━━\u001b[0m\u001b[37m\u001b[0m \u001b[1m105s\u001b[0m 684ms/step - accuracy: 0.9991 - loss: 1.7923 - val_accuracy: 0.9512 - val_loss: 1.6795 - learning_rate: 1.0000e-04\n",
      "Epoch 18/30\n",
      "\u001b[1m154/154\u001b[0m \u001b[32m━━━━━━━━━━━━━━━━━━━━\u001b[0m\u001b[37m\u001b[0m \u001b[1m105s\u001b[0m 683ms/step - accuracy: 0.9986 - loss: 1.4714 - val_accuracy: 0.9431 - val_loss: 1.4589 - learning_rate: 1.0000e-04\n",
      "Epoch 19/30\n",
      "\u001b[1m154/154\u001b[0m \u001b[32m━━━━━━━━━━━━━━━━━━━━\u001b[0m\u001b[37m\u001b[0m \u001b[1m105s\u001b[0m 684ms/step - accuracy: 0.9974 - loss: 1.2075 - val_accuracy: 0.9512 - val_loss: 1.1907 - learning_rate: 1.0000e-04\n",
      "Epoch 20/30\n",
      "\u001b[1m154/154\u001b[0m \u001b[32m━━━━━━━━━━━━━━━━━━━━\u001b[0m\u001b[37m\u001b[0m \u001b[1m105s\u001b[0m 684ms/step - accuracy: 0.9976 - loss: 0.9737 - val_accuracy: 0.9561 - val_loss: 0.9767 - learning_rate: 1.0000e-04\n",
      "Epoch 21/30\n",
      "\u001b[1m154/154\u001b[0m \u001b[32m━━━━━━━━━━━━━━━━━━━━\u001b[0m\u001b[37m\u001b[0m \u001b[1m105s\u001b[0m 684ms/step - accuracy: 0.9956 - loss: 0.7937 - val_accuracy: 0.9528 - val_loss: 0.8102 - learning_rate: 1.0000e-04\n",
      "Epoch 22/30\n",
      "\u001b[1m154/154\u001b[0m \u001b[32m━━━━━━━━━━━━━━━━━━━━\u001b[0m\u001b[37m\u001b[0m \u001b[1m105s\u001b[0m 684ms/step - accuracy: 0.9975 - loss: 0.6223 - val_accuracy: 0.9398 - val_loss: 0.7121 - learning_rate: 1.0000e-04\n",
      "Epoch 23/30\n",
      "\u001b[1m154/154\u001b[0m \u001b[32m━━━━━━━━━━━━━━━━━━━━\u001b[0m\u001b[37m\u001b[0m \u001b[1m105s\u001b[0m 684ms/step - accuracy: 0.9972 - loss: 0.5019 - val_accuracy: 0.9398 - val_loss: 0.6262 - learning_rate: 1.0000e-04\n",
      "Epoch 24/30\n",
      "\u001b[1m154/154\u001b[0m \u001b[32m━━━━━━━━━━━━━━━━━━━━\u001b[0m\u001b[37m\u001b[0m \u001b[1m105s\u001b[0m 684ms/step - accuracy: 0.9970 - loss: 0.4010 - val_accuracy: 0.9561 - val_loss: 0.4976 - learning_rate: 1.0000e-04\n",
      "Epoch 25/30\n",
      "\u001b[1m154/154\u001b[0m \u001b[32m━━━━━━━━━━━━━━━━━━━━\u001b[0m\u001b[37m\u001b[0m \u001b[1m105s\u001b[0m 684ms/step - accuracy: 0.9981 - loss: 0.3165 - val_accuracy: 0.9577 - val_loss: 0.4399 - learning_rate: 1.0000e-04\n",
      "Epoch 26/30\n",
      "\u001b[1m154/154\u001b[0m \u001b[32m━━━━━━━━━━━━━━━━━━━━\u001b[0m\u001b[37m\u001b[0m \u001b[1m105s\u001b[0m 684ms/step - accuracy: 0.9975 - loss: 0.2566 - val_accuracy: 0.9577 - val_loss: 0.3641 - learning_rate: 1.0000e-04\n",
      "Epoch 27/30\n",
      "\u001b[1m154/154\u001b[0m \u001b[32m━━━━━━━━━━━━━━━━━━━━\u001b[0m\u001b[37m\u001b[0m \u001b[1m105s\u001b[0m 684ms/step - accuracy: 0.9988 - loss: 0.2017 - val_accuracy: 0.9512 - val_loss: 0.3331 - learning_rate: 1.0000e-04\n",
      "Epoch 28/30\n",
      "\u001b[1m154/154\u001b[0m \u001b[32m━━━━━━━━━━━━━━━━━━━━\u001b[0m\u001b[37m\u001b[0m \u001b[1m105s\u001b[0m 683ms/step - accuracy: 0.9976 - loss: 0.1688 - val_accuracy: 0.9382 - val_loss: 0.3973 - learning_rate: 1.0000e-04\n",
      "Epoch 29/30\n",
      "\u001b[1m154/154\u001b[0m \u001b[32m━━━━━━━━━━━━━━━━━━━━\u001b[0m\u001b[37m\u001b[0m \u001b[1m105s\u001b[0m 683ms/step - accuracy: 0.9543 - loss: 0.3378 - val_accuracy: 0.8585 - val_loss: 0.7123 - learning_rate: 1.0000e-04\n",
      "Epoch 30/30\n",
      "\u001b[1m154/154\u001b[0m \u001b[32m━━━━━━━━━━━━━━━━━━━━\u001b[0m\u001b[37m\u001b[0m \u001b[1m105s\u001b[0m 683ms/step - accuracy: 0.9285 - loss: 0.4970 - val_accuracy: 0.9187 - val_loss: 0.4934 - learning_rate: 1.0000e-04\n"
     ]
    }
   ],
   "source": [
    "from tensorflow.keras.callbacks import ReduceLROnPlateau\n",
    "\n",
    "lr_scheduler = ReduceLROnPlateau(monitor='val_loss', \n",
    "                                 factor=0.5, \n",
    "                                 patience=3, \n",
    "                                 min_lr=1e-6)\n",
    "\n",
    "\n",
    "\n",
    "print(f\"Dataset - {DATASET_NAME}\")\n",
    "print(f\"There are total {len(ALL_CLASS_NAMES)} classes, selected {NO_OF_CLASSES} classes\")\n",
    "print(f\"Setting {MAX_VIDEO_PER_CLASS} videos/class to train the model.\")\n",
    "print(f\"Image size {IMAGE_HEIGHT}x{IMAGE_WIDTH} with {SEQUENCE_LENGTH} sequence length\")\n",
    "print(f\"Dropout rate: {DROPOUT_RATE}\")\n",
    "print(f\"Train-Test split ratio {int((1-TEST_SIZE)*100)}/{int(TEST_SIZE*100)}\")\n",
    "print(f\"Validation data from Train set {VALIDATION_SPLIT*100}%\")\n",
    "\n",
    "print(\"\\n\")\n",
    "\n",
    "print(f\"Training started for {len(train_gen.videos)} videos of {NO_OF_CLASSES} classes with {len(val_gen.videos)} videos for validation...\")\n",
    "\n",
    "model_history = xlstm_model.fit(\n",
    "    train_gen.as_dataset(),\n",
    "    validation_data=val_gen.as_dataset(),\n",
    "    epochs=EPOCHS,\n",
    "    # class_weight=class_weight_dict,\n",
    "    callbacks=[early_stopping_callback, lr_scheduler]\n",
    ")"
   ]
  },
  {
   "cell_type": "markdown",
   "id": "9ea5f94a",
   "metadata": {
    "papermill": {
     "duration": 0.370532,
     "end_time": "2025-07-06T17:51:20.335633",
     "exception": false,
     "start_time": "2025-07-06T17:51:19.965101",
     "status": "completed"
    },
    "tags": []
   },
   "source": [
    "# Evaluation"
   ]
  },
  {
   "cell_type": "markdown",
   "id": "0fe87710",
   "metadata": {
    "papermill": {
     "duration": 0.367664,
     "end_time": "2025-07-06T17:51:21.132640",
     "exception": false,
     "start_time": "2025-07-06T17:51:20.764976",
     "status": "completed"
    },
    "tags": []
   },
   "source": [
    "## ⚡ Model Evaluate"
   ]
  },
  {
   "cell_type": "code",
   "execution_count": 60,
   "id": "a2a59a49",
   "metadata": {
    "execution": {
     "iopub.execute_input": "2025-07-06T17:51:21.979044Z",
     "iopub.status.busy": "2025-07-06T17:51:21.978382Z",
     "iopub.status.idle": "2025-07-06T17:51:31.434712Z",
     "shell.execute_reply": "2025-07-06T17:51:31.434148Z"
    },
    "papermill": {
     "duration": 9.893939,
     "end_time": "2025-07-06T17:51:31.435910",
     "exception": false,
     "start_time": "2025-07-06T17:51:21.541971",
     "status": "completed"
    },
    "tags": []
   },
   "outputs": [
    {
     "name": "stdout",
     "output_type": "stream",
     "text": [
      "\u001b[1m24/24\u001b[0m \u001b[32m━━━━━━━━━━━━━━━━━━━━\u001b[0m\u001b[37m\u001b[0m \u001b[1m8s\u001b[0m 288ms/step - accuracy: 0.9162 - loss: 0.4602\n"
     ]
    }
   ],
   "source": [
    "# previous code\n",
    "model_evaluation_history = xlstm_model.evaluate(features_test, labels_test)"
   ]
  },
  {
   "cell_type": "code",
   "execution_count": 61,
   "id": "cb2b636f",
   "metadata": {
    "execution": {
     "iopub.execute_input": "2025-07-06T17:51:32.227091Z",
     "iopub.status.busy": "2025-07-06T17:51:32.226293Z",
     "iopub.status.idle": "2025-07-06T17:51:32.619778Z",
     "shell.execute_reply": "2025-07-06T17:51:32.619007Z"
    },
    "papermill": {
     "duration": 0.811582,
     "end_time": "2025-07-06T17:51:32.621037",
     "exception": false,
     "start_time": "2025-07-06T17:51:31.809455",
     "status": "completed"
    },
    "tags": []
   },
   "outputs": [
    {
     "data": {
      "image/png": "[encoded data removed]",
      "text/plain": [
       "<Figure size 1200x500 with 2 Axes>"
      ]
     },
     "metadata": {},
     "output_type": "display_data"
    }
   ],
   "source": [
    "import matplotlib.pyplot as plt\n",
    "\n",
    "# Accuracy\n",
    "plt.figure(figsize=(12, 5))\n",
    "\n",
    "plt.subplot(1, 2, 1)\n",
    "plt.plot(model_history.history['accuracy'], label='Train Accuracy')\n",
    "plt.plot(model_history.history['val_accuracy'], label='Validation Accuracy')\n",
    "plt.title('Model Accuracy')\n",
    "plt.xlabel('Epoch')\n",
    "plt.ylabel('Accuracy')\n",
    "plt.legend()\n",
    "\n",
    "# Loss\n",
    "plt.subplot(1, 2, 2)\n",
    "plt.plot(model_history.history['loss'], label='Train Loss')\n",
    "plt.plot(model_history.history['val_loss'], label='Validation Loss')\n",
    "plt.title('Model Loss')\n",
    "plt.xlabel('Epoch')\n",
    "plt.ylabel('Loss')\n",
    "plt.legend()\n",
    "\n",
    "plt.tight_layout()\n",
    "plt.show()\n"
   ]
  },
  {
   "cell_type": "markdown",
   "id": "e5664df4",
   "metadata": {
    "papermill": {
     "duration": 0.375553,
     "end_time": "2025-07-06T17:51:33.426577",
     "exception": false,
     "start_time": "2025-07-06T17:51:33.051024",
     "status": "completed"
    },
    "tags": []
   },
   "source": [
    "## 📈 Confusion Matrix"
   ]
  },
  {
   "cell_type": "code",
   "execution_count": 62,
   "id": "8133eafc",
   "metadata": {
    "execution": {
     "iopub.execute_input": "2025-07-06T17:51:34.228774Z",
     "iopub.status.busy": "2025-07-06T17:51:34.228506Z",
     "iopub.status.idle": "2025-07-06T17:51:50.287616Z",
     "shell.execute_reply": "2025-07-06T17:51:50.286852Z"
    },
    "papermill": {
     "duration": 16.48307,
     "end_time": "2025-07-06T17:51:50.288817",
     "exception": false,
     "start_time": "2025-07-06T17:51:33.805747",
     "status": "completed"
    },
    "tags": []
   },
   "outputs": [
    {
     "name": "stdout",
     "output_type": "stream",
     "text": [
      "Total 768 videos and 768 classes\n",
      "\u001b[1m192/192\u001b[0m \u001b[32m━━━━━━━━━━━━━━━━━━━━\u001b[0m\u001b[37m\u001b[0m \u001b[1m15s\u001b[0m 52ms/step\n",
      "True classes shape: (768,)\n",
      "Predicted classes shape: (768,)\n",
      "Classification Report:\n",
      "                   precision    recall  f1-score   support\n",
      "\n",
      "        HorseRace       0.83      0.80      0.81        49\n",
      "VolleyballSpiking       0.69      0.86      0.77        57\n",
      "           Biking       1.00      1.00      1.00        53\n",
      "           TaiChi       0.95      0.97      0.96        38\n",
      "            Punch       1.00      1.00      1.00        42\n",
      "     BreastStroke       0.98      0.91      0.94        53\n",
      "        Billiards       0.96      1.00      0.98        50\n",
      "        PoleVault       0.98      0.86      0.92        51\n",
      "      ThrowDiscus       1.00      0.93      0.96        42\n",
      "    BaseballPitch       1.00      0.91      0.95        44\n",
      "      HorseRiding       1.00      1.00      1.00        53\n",
      "           Mixing       1.00      1.00      1.00        43\n",
      "         HighJump       0.87      0.91      0.89        43\n",
      "           Skijet       0.98      0.90      0.94        50\n",
      "    SkateBoarding       0.96      1.00      0.98        47\n",
      "   MilitaryParade       0.84      0.87      0.85        53\n",
      "\n",
      "         accuracy                           0.93       768\n",
      "        macro avg       0.94      0.93      0.93       768\n",
      "     weighted avg       0.94      0.93      0.93       768\n",
      "\n"
     ]
    },
    {
     "name": "stderr",
     "output_type": "stream",
     "text": [
      "/usr/local/lib/python3.11/dist-packages/keras/src/trainers/epoch_iterator.py:151: UserWarning: Your input ran out of data; interrupting training. Make sure that your dataset or generator can generate at least `steps_per_epoch * epochs` batches. You may need to use the `.repeat()` function when building your dataset.\n",
      "  self._interrupted_warning()\n"
     ]
    },
    {
     "data": {
      "image/png": "[encoded data removed]",
      "text/plain": [
       "<Figure size 800x600 with 2 Axes>"
      ]
     },
     "metadata": {},
     "output_type": "display_data"
    }
   ],
   "source": [
    "from sklearn.metrics import classification_report, confusion_matrix\n",
    "import seaborn as sns\n",
    "import matplotlib.pyplot as plt\n",
    "\n",
    "# Create test generator with batch_size matching test set size\n",
    "test_gen = VideoDataGenerator(\n",
    "    videos=features_test,\n",
    "    labels=labels_test,\n",
    "    batch_size=4,  # Process all test samples at once\n",
    ")\n",
    "\n",
    "# Get predictions\n",
    "predictions = xlstm_model.predict(test_gen.as_dataset())\n",
    "predicted_classes = np.argmax(predictions, axis=1)\n",
    "true_classes = np.argmax(labels_test, axis=1)\n",
    "\n",
    "# Verify shapes\n",
    "print(f\"True classes shape: {true_classes.shape}\")\n",
    "print(f\"Predicted classes shape: {predicted_classes.shape}\")\n",
    "assert len(true_classes) == len(predicted_classes), \"Sample counts do not match!\"\n",
    "\n",
    "# Generate classification report\n",
    "print(\"Classification Report:\")\n",
    "print(classification_report(true_classes, predicted_classes, target_names=CLASSES_LIST))\n",
    "\n",
    "# Plot confusion matrix\n",
    "cm = confusion_matrix(true_classes, predicted_classes)\n",
    "plt.figure(figsize=(8, 6))\n",
    "sns.heatmap(cm, annot=True, fmt='d', cmap='Blues', xticklabels=CLASSES_LIST, yticklabels=CLASSES_LIST[-1])\n",
    "plt.xlabel('Predicted')\n",
    "plt.ylabel('True')\n",
    "plt.title('Confusion Matrix')\n",
    "plt.show()"
   ]
  }
 ],
 "metadata": {
  "kaggle": {
   "accelerator": "nvidiaTeslaT4",
   "dataSources": [
    {
     "datasetId": 1357563,
     "sourceId": 2256095,
     "sourceType": "datasetVersion"
    },
    {
     "datasetId": 7763484,
     "sourceId": 12338519,
     "sourceType": "datasetVersion"
    },
    {
     "datasetId": 7801555,
     "sourceId": 12373067,
     "sourceType": "datasetVersion"
    },
    {
     "datasetId": 7801884,
     "sourceId": 12373562,
     "sourceType": "datasetVersion"
    }
   ],
   "dockerImageVersionId": 31041,
   "isGpuEnabled": true,
   "isInternetEnabled": true,
   "language": "python",
   "sourceType": "notebook"
  },
  "kernelspec": {
   "display_name": "Python 3",
   "language": "python",
   "name": "python3"
  },
  "language_info": {
   "codemirror_mode": {
    "name": "ipython",
    "version": 3
   },
   "file_extension": ".py",
   "mimetype": "text/x-python",
   "name": "python",
   "nbconvert_exporter": "python",
   "pygments_lexer": "ipython3",
   "version": "3.11.11"
  },
  "papermill": {
   "default_parameters": {},
   "duration": 3392.265664,
   "end_time": "2025-07-06T17:51:54.389995",
   "environment_variables": {},
   "exception": null,
   "input_path": "__notebook__.ipynb",
   "output_path": "__notebook__.ipynb",
   "parameters": {},
   "start_time": "2025-07-06T16:55:22.124331",
   "version": "2.6.0"
  }
 },
 "nbformat": 4,
 "nbformat_minor": 5
}
