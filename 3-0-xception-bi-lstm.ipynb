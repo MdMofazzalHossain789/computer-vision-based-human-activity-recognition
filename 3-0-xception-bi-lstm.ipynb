{
 "cells": [
  {
   "cell_type": "markdown",
   "id": "a4530bdb",
   "metadata": {
    "papermill": {
     "duration": 0.011498,
     "end_time": "2025-07-06T15:58:29.947451",
     "exception": false,
     "start_time": "2025-07-06T15:58:29.935953",
     "status": "completed"
    },
    "tags": []
   },
   "source": [
    "# Initialization\n",
    "## Import Libraries"
   ]
  },
  {
   "cell_type": "code",
   "execution_count": 1,
   "id": "dba5a815",
   "metadata": {
    "execution": {
     "iopub.execute_input": "2025-07-06T15:58:29.969358Z",
     "iopub.status.busy": "2025-07-06T15:58:29.969099Z",
     "iopub.status.idle": "2025-07-06T15:59:05.357101Z",
     "shell.execute_reply": "2025-07-06T15:59:05.356147Z"
    },
    "papermill": {
     "duration": 35.400818,
     "end_time": "2025-07-06T15:59:05.358521",
     "exception": false,
     "start_time": "2025-07-06T15:58:29.957703",
     "status": "completed"
    },
    "tags": []
   },
   "outputs": [
    {
     "name": "stdout",
     "output_type": "stream",
     "text": [
      "Collecting mediapipe\r\n",
      "  Downloading mediapipe-0.10.21-cp311-cp311-manylinux_2_28_x86_64.whl.metadata (9.7 kB)\r\n",
      "Requirement already satisfied: absl-py in /usr/local/lib/python3.11/dist-packages (from mediapipe) (1.4.0)\r\n",
      "Requirement already satisfied: attrs>=19.1.0 in /usr/local/lib/python3.11/dist-packages (from mediapipe) (25.3.0)\r\n",
      "Requirement already satisfied: flatbuffers>=2.0 in /usr/local/lib/python3.11/dist-packages (from mediapipe) (25.2.10)\r\n",
      "Requirement already satisfied: jax in /usr/local/lib/python3.11/dist-packages (from mediapipe) (0.5.2)\r\n",
      "Requirement already satisfied: jaxlib in /usr/local/lib/python3.11/dist-packages (from mediapipe) (0.5.1)\r\n",
      "Requirement already satisfied: matplotlib in /usr/local/lib/python3.11/dist-packages (from mediapipe) (3.7.2)\r\n",
      "Requirement already satisfied: numpy<2 in /usr/local/lib/python3.11/dist-packages (from mediapipe) (1.26.4)\r\n",
      "Requirement already satisfied: opencv-contrib-python in /usr/local/lib/python3.11/dist-packages (from mediapipe) (4.11.0.86)\r\n",
      "Collecting protobuf<5,>=4.25.3 (from mediapipe)\r\n",
      "  Downloading protobuf-4.25.8-cp37-abi3-manylinux2014_x86_64.whl.metadata (541 bytes)\r\n",
      "Collecting sounddevice>=0.4.4 (from mediapipe)\r\n",
      "  Downloading sounddevice-0.5.2-py3-none-any.whl.metadata (1.6 kB)\r\n",
      "Requirement already satisfied: sentencepiece in /usr/local/lib/python3.11/dist-packages (from mediapipe) (0.2.0)\r\n",
      "Requirement already satisfied: mkl_fft in /usr/local/lib/python3.11/dist-packages (from numpy<2->mediapipe) (1.3.8)\r\n",
      "Requirement already satisfied: mkl_random in /usr/local/lib/python3.11/dist-packages (from numpy<2->mediapipe) (1.2.4)\r\n",
      "Requirement already satisfied: mkl_umath in /usr/local/lib/python3.11/dist-packages (from numpy<2->mediapipe) (0.1.1)\r\n",
      "Requirement already satisfied: mkl in /usr/local/lib/python3.11/dist-packages (from numpy<2->mediapipe) (2025.1.0)\r\n",
      "Requirement already satisfied: tbb4py in /usr/local/lib/python3.11/dist-packages (from numpy<2->mediapipe) (2022.1.0)\r\n",
      "Requirement already satisfied: mkl-service in /usr/local/lib/python3.11/dist-packages (from numpy<2->mediapipe) (2.4.1)\r\n",
      "Requirement already satisfied: CFFI>=1.0 in /usr/local/lib/python3.11/dist-packages (from sounddevice>=0.4.4->mediapipe) (1.17.1)\r\n",
      "Requirement already satisfied: ml_dtypes>=0.4.0 in /usr/local/lib/python3.11/dist-packages (from jax->mediapipe) (0.4.1)\r\n",
      "Requirement already satisfied: opt_einsum in /usr/local/lib/python3.11/dist-packages (from jax->mediapipe) (3.4.0)\r\n",
      "Requirement already satisfied: scipy>=1.11.1 in /usr/local/lib/python3.11/dist-packages (from jax->mediapipe) (1.15.2)\r\n",
      "Requirement already satisfied: contourpy>=1.0.1 in /usr/local/lib/python3.11/dist-packages (from matplotlib->mediapipe) (1.3.1)\r\n",
      "Requirement already satisfied: cycler>=0.10 in /usr/local/lib/python3.11/dist-packages (from matplotlib->mediapipe) (0.12.1)\r\n",
      "Requirement already satisfied: fonttools>=4.22.0 in /usr/local/lib/python3.11/dist-packages (from matplotlib->mediapipe) (4.57.0)\r\n",
      "Requirement already satisfied: kiwisolver>=1.0.1 in /usr/local/lib/python3.11/dist-packages (from matplotlib->mediapipe) (1.4.8)\r\n",
      "Requirement already satisfied: packaging>=20.0 in /usr/local/lib/python3.11/dist-packages (from matplotlib->mediapipe) (25.0)\r\n",
      "Requirement already satisfied: pillow>=6.2.0 in /usr/local/lib/python3.11/dist-packages (from matplotlib->mediapipe) (11.1.0)\r\n",
      "Requirement already satisfied: pyparsing<3.1,>=2.3.1 in /usr/local/lib/python3.11/dist-packages (from matplotlib->mediapipe) (3.0.9)\r\n",
      "Requirement already satisfied: python-dateutil>=2.7 in /usr/local/lib/python3.11/dist-packages (from matplotlib->mediapipe) (2.9.0.post0)\r\n",
      "Requirement already satisfied: pycparser in /usr/local/lib/python3.11/dist-packages (from CFFI>=1.0->sounddevice>=0.4.4->mediapipe) (2.22)\r\n",
      "Requirement already satisfied: six>=1.5 in /usr/local/lib/python3.11/dist-packages (from python-dateutil>=2.7->matplotlib->mediapipe) (1.17.0)\r\n",
      "Requirement already satisfied: intel-openmp<2026,>=2024 in /usr/local/lib/python3.11/dist-packages (from mkl->numpy<2->mediapipe) (2024.2.0)\r\n",
      "Requirement already satisfied: tbb==2022.* in /usr/local/lib/python3.11/dist-packages (from mkl->numpy<2->mediapipe) (2022.1.0)\r\n",
      "Requirement already satisfied: tcmlib==1.* in /usr/local/lib/python3.11/dist-packages (from tbb==2022.*->mkl->numpy<2->mediapipe) (1.3.0)\r\n",
      "Requirement already satisfied: intel-cmplr-lib-rt in /usr/local/lib/python3.11/dist-packages (from mkl_umath->numpy<2->mediapipe) (2024.2.0)\r\n",
      "Requirement already satisfied: intel-cmplr-lib-ur==2024.2.0 in /usr/local/lib/python3.11/dist-packages (from intel-openmp<2026,>=2024->mkl->numpy<2->mediapipe) (2024.2.0)\r\n",
      "Downloading mediapipe-0.10.21-cp311-cp311-manylinux_2_28_x86_64.whl (35.6 MB)\r\n",
      "\u001b[2K   \u001b[90m━━━━━━━━━━━━━━━━━━━━━━━━━━━━━━━━━━━━━━━━\u001b[0m \u001b[32m35.6/35.6 MB\u001b[0m \u001b[31m50.9 MB/s\u001b[0m eta \u001b[36m0:00:00\u001b[0m\r\n",
      "\u001b[?25hDownloading protobuf-4.25.8-cp37-abi3-manylinux2014_x86_64.whl (294 kB)\r\n",
      "\u001b[2K   \u001b[90m━━━━━━━━━━━━━━━━━━━━━━━━━━━━━━━━━━━━━━━━\u001b[0m \u001b[32m294.9/294.9 kB\u001b[0m \u001b[31m11.1 MB/s\u001b[0m eta \u001b[36m0:00:00\u001b[0m\r\n",
      "\u001b[?25hDownloading sounddevice-0.5.2-py3-none-any.whl (32 kB)\r\n",
      "Installing collected packages: protobuf, sounddevice, mediapipe\r\n",
      "  Attempting uninstall: protobuf\r\n",
      "    Found existing installation: protobuf 3.20.3\r\n",
      "    Uninstalling protobuf-3.20.3:\r\n",
      "      Successfully uninstalled protobuf-3.20.3\r\n",
      "\u001b[31mERROR: pip's dependency resolver does not currently take into account all the packages that are installed. This behaviour is the source of the following dependency conflicts.\r\n",
      "google-api-core 1.34.1 requires protobuf!=3.20.0,!=3.20.1,!=4.21.0,!=4.21.1,!=4.21.2,!=4.21.3,!=4.21.4,!=4.21.5,<4.0.0dev,>=3.19.5, but you have protobuf 4.25.8 which is incompatible.\r\n",
      "bigframes 1.42.0 requires rich<14,>=12.4.4, but you have rich 14.0.0 which is incompatible.\r\n",
      "google-spark-connect 0.5.2 requires google-api-core>=2.19.1, but you have google-api-core 1.34.1 which is incompatible.\r\n",
      "google-cloud-bigtable 2.30.0 requires google-api-core[grpc]<3.0.0,>=2.16.0, but you have google-api-core 1.34.1 which is incompatible.\r\n",
      "google-cloud-storage 2.19.0 requires google-api-core<3.0.0dev,>=2.15.0, but you have google-api-core 1.34.1 which is incompatible.\r\n",
      "pandas-gbq 0.28.0 requires google-api-core<3.0.0dev,>=2.10.2, but you have google-api-core 1.34.1 which is incompatible.\u001b[0m\u001b[31m\r\n",
      "\u001b[0mSuccessfully installed mediapipe-0.10.21 protobuf-4.25.8 sounddevice-0.5.2\r\n",
      "Note: you may need to restart the kernel to use updated packages.\n"
     ]
    }
   ],
   "source": [
    "pip install mediapipe"
   ]
  },
  {
   "cell_type": "code",
   "execution_count": 2,
   "id": "198cb53e",
   "metadata": {
    "_cell_guid": "b1076dfc-b9ad-4769-8c92-a6c4dae69d19",
    "_uuid": "8f2839f25d086af736a60e9eeb907d3b93b6e0e5",
    "execution": {
     "iopub.execute_input": "2025-07-06T15:59:05.382487Z",
     "iopub.status.busy": "2025-07-06T15:59:05.382252Z",
     "iopub.status.idle": "2025-07-06T15:59:26.532254Z",
     "shell.execute_reply": "2025-07-06T15:59:26.531651Z"
    },
    "papermill": {
     "duration": 21.163457,
     "end_time": "2025-07-06T15:59:26.533574",
     "exception": false,
     "start_time": "2025-07-06T15:59:05.370117",
     "status": "completed"
    },
    "tags": []
   },
   "outputs": [
    {
     "name": "stderr",
     "output_type": "stream",
     "text": [
      "2025-07-06 15:59:08.397888: E external/local_xla/xla/stream_executor/cuda/cuda_fft.cc:477] Unable to register cuFFT factory: Attempting to register factory for plugin cuFFT when one has already been registered\n",
      "WARNING: All log messages before absl::InitializeLog() is called are written to STDERR\n",
      "E0000 00:00:1751817548.823184      19 cuda_dnn.cc:8310] Unable to register cuDNN factory: Attempting to register factory for plugin cuDNN when one has already been registered\n",
      "E0000 00:00:1751817548.935847      19 cuda_blas.cc:1418] Unable to register cuBLAS factory: Attempting to register factory for plugin cuBLAS when one has already been registered\n"
     ]
    }
   ],
   "source": [
    "# install librarires\n",
    "import os\n",
    "import tensorflow as tf\n",
    "import numpy as np\n",
    "import random"
   ]
  },
  {
   "cell_type": "markdown",
   "id": "ef24068a",
   "metadata": {
    "papermill": {
     "duration": 0.01047,
     "end_time": "2025-07-06T15:59:26.555485",
     "exception": false,
     "start_time": "2025-07-06T15:59:26.545015",
     "status": "completed"
    },
    "tags": []
   },
   "source": [
    "## ℹ️ Set Global Constants"
   ]
  },
  {
   "cell_type": "code",
   "execution_count": 3,
   "id": "e50309a1",
   "metadata": {
    "execution": {
     "iopub.execute_input": "2025-07-06T15:59:26.578517Z",
     "iopub.status.busy": "2025-07-06T15:59:26.578014Z",
     "iopub.status.idle": "2025-07-06T15:59:26.591349Z",
     "shell.execute_reply": "2025-07-06T15:59:26.590475Z"
    },
    "papermill": {
     "duration": 0.026341,
     "end_time": "2025-07-06T15:59:26.592579",
     "exception": false,
     "start_time": "2025-07-06T15:59:26.566238",
     "status": "completed"
    },
    "tags": []
   },
   "outputs": [
    {
     "name": "stdout",
     "output_type": "stream",
     "text": [
      "Msrdailyactivity3D Rgb Videos Only\n",
      "There are total 16 classes, selected 16 classes\n",
      "Setting 20/class to train the model.\n",
      "Image size 128x128 with 5 sequence length\n",
      "Dropout rate: 0.5\n",
      "Train-Test split ratio 80/20\n",
      "Validation data from Train set 20.0%\n"
     ]
    }
   ],
   "source": [
    "# global variables\n",
    "# set dataset directories\n",
    "\n",
    "\n",
    "DATASET_DIR = \"/kaggle/input/msrdailyactivity3d-rgb-videos-only\"\n",
    "DATASET_NAME = DATASET_DIR.split(\"/\")[-1].replace(\"-\", \" \").title()\n",
    "\n",
    "print(DATASET_NAME)\n",
    "\n",
    "ALL_CLASS_NAMES = os.listdir(DATASET_DIR)\n",
    "\n",
    "# Global constant variables -> \n",
    "NO_OF_CLASSES = 16\n",
    "CLASSES_LIST = ALL_CLASS_NAMES[:NO_OF_CLASSES]\n",
    "\n",
    "# Model Configuration\n",
    "IMAGE_HEIGHT, IMAGE_WIDTH = 128, 128\n",
    "SEQUENCE_LENGTH = 5\n",
    "\n",
    "# set drop out rate\n",
    "DROPOUT_RATE = 0.5\n",
    "\n",
    "# set datas\n",
    "MAX_VIDEO_PER_CLASS = 20\n",
    "\n",
    "# split dataset\n",
    "TEST_SIZE = 0.20\n",
    "\n",
    "# model fit parameters\n",
    "EPOCHS = 30\n",
    "BATCH_SIZE = 16\n",
    "VALIDATION_SPLIT = 0.20\n",
    "\n",
    "# augmentation values\n",
    "NOISE_FACTOR = 0.02\n",
    "SHEAR_X= 1\n",
    "SHEAR_Y= 1\n",
    "\n",
    "# give a name of the model to save\n",
    "MODEL_NAME = \"Xception\"\n",
    "\n",
    "print(f\"There are total {len(ALL_CLASS_NAMES)} classes, selected {NO_OF_CLASSES} classes\")\n",
    "print(f\"Setting {MAX_VIDEO_PER_CLASS}/class to train the model.\")\n",
    "print(f\"Image size {IMAGE_HEIGHT}x{IMAGE_WIDTH} with {SEQUENCE_LENGTH} sequence length\")\n",
    "print(f\"Dropout rate: {DROPOUT_RATE}\")\n",
    "print(f\"Train-Test split ratio {int((1-TEST_SIZE)*100)}/{int(TEST_SIZE*100)}\")\n",
    "print(f\"Validation data from Train set {VALIDATION_SPLIT*100}%\")"
   ]
  },
  {
   "cell_type": "markdown",
   "id": "ec047dcd",
   "metadata": {
    "papermill": {
     "duration": 0.016984,
     "end_time": "2025-07-06T15:59:26.625821",
     "exception": false,
     "start_time": "2025-07-06T15:59:26.608837",
     "status": "completed"
    },
    "tags": []
   },
   "source": [
    "## Set `Seed` Values"
   ]
  },
  {
   "cell_type": "code",
   "execution_count": 4,
   "id": "be8b5649",
   "metadata": {
    "execution": {
     "iopub.execute_input": "2025-07-06T15:59:26.658843Z",
     "iopub.status.busy": "2025-07-06T15:59:26.658336Z",
     "iopub.status.idle": "2025-07-06T15:59:26.664814Z",
     "shell.execute_reply": "2025-07-06T15:59:26.663939Z"
    },
    "papermill": {
     "duration": 0.02256,
     "end_time": "2025-07-06T15:59:26.666849",
     "exception": false,
     "start_time": "2025-07-06T15:59:26.644289",
     "status": "completed"
    },
    "tags": []
   },
   "outputs": [],
   "source": [
    "# set seeed to get similar values\n",
    "seed_constant = 27\n",
    "np.random.seed(seed_constant)\n",
    "random.seed(seed_constant)\n",
    "tf.random.set_seed(seed_constant)"
   ]
  },
  {
   "cell_type": "markdown",
   "id": "b2b62355",
   "metadata": {
    "papermill": {
     "duration": 0.011174,
     "end_time": "2025-07-06T15:59:26.751394",
     "exception": false,
     "start_time": "2025-07-06T15:59:26.740220",
     "status": "completed"
    },
    "tags": []
   },
   "source": [
    "# 📌 Function Definition\n",
    "## Resize and Frame Extraction"
   ]
  },
  {
   "cell_type": "code",
   "execution_count": 5,
   "id": "d236aa23",
   "metadata": {
    "execution": {
     "iopub.execute_input": "2025-07-06T15:59:26.775319Z",
     "iopub.status.busy": "2025-07-06T15:59:26.774705Z",
     "iopub.status.idle": "2025-07-06T15:59:26.783675Z",
     "shell.execute_reply": "2025-07-06T15:59:26.783122Z"
    },
    "papermill": {
     "duration": 0.021908,
     "end_time": "2025-07-06T15:59:26.784739",
     "exception": false,
     "start_time": "2025-07-06T15:59:26.762831",
     "status": "completed"
    },
    "tags": []
   },
   "outputs": [],
   "source": [
    "import cv2\n",
    "from concurrent.futures import ThreadPoolExecutor\n",
    "\n",
    "def resize_and_normalize_frame(frame, image_height, image_width):\n",
    "    try:\n",
    "        resized_frame = cv2.resize(frame, (image_width, image_height), interpolation=cv2.INTER_LINEAR)\n",
    "        normalized_frame = resized_frame / 255.0\n",
    "        return normalized_frame\n",
    "    except Exception as e:\n",
    "        print(f\"Error processing frame: {e}\")\n",
    "        return None\n",
    "\n",
    "def frames_extraction(video_path, \n",
    "                      sequence_length=SEQUENCE_LENGTH, \n",
    "                      image_height=IMAGE_HEIGHT, \n",
    "                      image_width=IMAGE_WIDTH):\n",
    "    # Declare a list to store video frames\n",
    "    frames_list = []\n",
    "\n",
    "    # Check if video file exists\n",
    "    if not os.path.exists(video_path):\n",
    "        print(f\"Error: Video file not found at {video_path}\")\n",
    "        return None\n",
    "\n",
    "    # Read the video file using VideoCapture with optimized settings\n",
    "    video_reader = cv2.VideoCapture(video_path, cv2.CAP_FFMPEG)\n",
    "\n",
    "    # Check if the video was opened successfully\n",
    "    if not video_reader.isOpened():\n",
    "        print(f\"Error: Could not open video file {video_path}\")\n",
    "        video_reader.release()\n",
    "        return None\n",
    "\n",
    "    # Get the total number of frames in the video\n",
    "    video_frames_count = int(video_reader.get(cv2.CAP_PROP_FRAME_COUNT))\n",
    "\n",
    "    # Ensure the video has enough frames\n",
    "    if video_frames_count < sequence_length:\n",
    "        print(f\"Warning: Video {video_path} has only {video_frames_count} frames, less than required {sequence_length}\")\n",
    "        video_reader.release()\n",
    "        return None\n",
    "\n",
    "    # Calculate the interval after which frames will be sampled\n",
    "    skip_frames_window = max(int(video_frames_count / sequence_length), 1)\n",
    "\n",
    "    # Pre-allocate frame indices to extract\n",
    "    frame_indices = [i * skip_frames_window for i in range(sequence_length)]\n",
    "\n",
    "    # Read and process frames in parallel\n",
    "    frames = []\n",
    "    for idx in frame_indices:\n",
    "        video_reader.set(cv2.CAP_PROP_POS_FRAMES, idx)\n",
    "        success, frame = video_reader.read()\n",
    "        if not success or frame is None:\n",
    "            print(f\"Warning: Failed to read frame at index {idx} from {video_path}\")\n",
    "            break\n",
    "        frame = cv2.cvtColor(frame, cv2.COLOR_BGR2RGB)\n",
    "        frames.append(frame)\n",
    "\n",
    "    # Release the VideoCapture object early\n",
    "    video_reader.release()\n",
    "\n",
    "    # Ensure the correct number of frames is read\n",
    "    if len(frames) != sequence_length:\n",
    "        print(f\"Warning: Read {len(frames)} frames instead of {sequence_length} from {video_path}\")\n",
    "        return None\n",
    "\n",
    "    # Process frames in parallel using ThreadPoolExecutor\n",
    "    with ThreadPoolExecutor() as executor:\n",
    "        processed_frames = list(executor.map(\n",
    "            lambda f: resize_and_normalize_frame(f, image_height, image_width), \n",
    "            frames\n",
    "        ))\n",
    "\n",
    "    # Check for any failed frame processing\n",
    "    if any(f is None for f in processed_frames):\n",
    "        print(f\"Warning: Some frames failed to process in {video_path}\")\n",
    "        return None\n",
    "\n",
    "    # Convert to NumPy array\n",
    "    frames_array = np.array(processed_frames, dtype=np.float32)\n",
    "\n",
    "    return frames_array"
   ]
  },
  {
   "cell_type": "code",
   "execution_count": 6,
   "id": "05f05e45",
   "metadata": {
    "execution": {
     "iopub.execute_input": "2025-07-06T15:59:26.808816Z",
     "iopub.status.busy": "2025-07-06T15:59:26.808231Z",
     "iopub.status.idle": "2025-07-06T15:59:26.811783Z",
     "shell.execute_reply": "2025-07-06T15:59:26.811222Z"
    },
    "papermill": {
     "duration": 0.016532,
     "end_time": "2025-07-06T15:59:26.812897",
     "exception": false,
     "start_time": "2025-07-06T15:59:26.796365",
     "status": "completed"
    },
    "tags": []
   },
   "outputs": [],
   "source": [
    " # # Iterate through all video files\n",
    " #        for file_name in files_list:\n",
    " #            video_file_path = os.path.join(class_path, file_name)\n",
    "\n",
    " #            # Extract frames using the updated frames_extraction function\n",
    " #            frames = frames_extraction(video_file_path, sequence_length, image_height, image_width)\n",
    "\n",
    " #            # Skip videos where frame extraction failed\n",
    " #            if frames is None:\n",
    " #                print(f\"Skipping video {video_file_path} due to frame extraction failure\")\n",
    " #                continue\n",
    "\n",
    " #            # Append the data to respective lists\n",
    " #            features.append(frames)\n",
    " #            labels.append(class_index)"
   ]
  },
  {
   "cell_type": "markdown",
   "id": "8b69d58f",
   "metadata": {
    "papermill": {
     "duration": 0.010971,
     "end_time": "2025-07-06T15:59:26.835194",
     "exception": false,
     "start_time": "2025-07-06T15:59:26.824223",
     "status": "completed"
    },
    "tags": []
   },
   "source": [
    "## Create Dataset"
   ]
  },
  {
   "cell_type": "code",
   "execution_count": 7,
   "id": "90b12579",
   "metadata": {
    "execution": {
     "iopub.execute_input": "2025-07-06T15:59:26.858680Z",
     "iopub.status.busy": "2025-07-06T15:59:26.858401Z",
     "iopub.status.idle": "2025-07-06T15:59:26.865772Z",
     "shell.execute_reply": "2025-07-06T15:59:26.865068Z"
    },
    "papermill": {
     "duration": 0.020626,
     "end_time": "2025-07-06T15:59:26.867013",
     "exception": false,
     "start_time": "2025-07-06T15:59:26.846387",
     "status": "completed"
    },
    "tags": []
   },
   "outputs": [],
   "source": [
    "# RUN create dataset function definition\n",
    "def create_dataset(dataset_dir,\n",
    "                   classes_list, \n",
    "                   sequence_length=SEQUENCE_LENGTH, \n",
    "                   image_height=IMAGE_HEIGHT, \n",
    "                   image_width=IMAGE_WIDTH, \n",
    "                   max_videos_per_class=None,\n",
    "                   augmentations=False\n",
    "                  ):\n",
    "    \n",
    "    # Initialize lists to store features, labels, and video file paths\n",
    "    videos = []\n",
    "    labels = []\n",
    "\n",
    "    # Check if dataset directory exists\n",
    "    if not os.path.exists(dataset_dir):\n",
    "        raise FileNotFoundError(f\"Dataset directory not found: {dataset_dir}\")\n",
    "\n",
    "    # Iterate through all classes in the classes list\n",
    "    for class_index, class_name in enumerate(classes_list):\n",
    "        class_path = os.path.join(dataset_dir, class_name)\n",
    "        \n",
    "        # Check if class directory exists\n",
    "        if not os.path.exists(class_path):\n",
    "            print(f\"Warning: Class directory not found: {class_path}\")\n",
    "            continue\n",
    "\n",
    "        print(f'Class: {class_name}')\n",
    "\n",
    "        # Get the list of video files in the class directory\n",
    "        files_list = os.listdir(class_path)\n",
    "\n",
    "        # Limit the number of videos if specified\n",
    "        if max_videos_per_class is not None:\n",
    "            files_list = files_list[:max_videos_per_class]\n",
    "\n",
    "        # Iterate through all video files\n",
    "        for (index, file_name) in enumerate(files_list):\n",
    "            video_file_path = os.path.join(class_path, file_name)\n",
    "\n",
    "            if index == (len(files_list)-1):\n",
    "                print(f'Extracting frames from file {index+1}: {file_name}', flush=True)\n",
    "            else:\n",
    "                print(f'Extracting frames from file {index+1}: {file_name}', end=\"\\r\", flush=True)\n",
    "            \n",
    "            # Extract frames using the updated frames_extraction function\n",
    "            frames = frames_extraction(video_file_path, \n",
    "                                       sequence_length, \n",
    "                                       image_height, \n",
    "                                       image_width)\n",
    "\n",
    "            # Skip videos where frame extraction failed\n",
    "            if frames is None:\n",
    "                print(f\"Skipping video {video_file_path} due to frame extraction failure\")\n",
    "                continue\n",
    "\n",
    "            # Append the data to respective lists\n",
    "            videos.append(frames)\n",
    "            labels.append(class_index)\n",
    "\n",
    "    # Convert lists to numpy arrays\n",
    "    if not videos:\n",
    "        raise ValueError(\"No valid videos were processed. Check dataset or parameters.\")\n",
    "    videos = np.asarray(videos)\n",
    "    labels = np.array(labels)\n",
    "\n",
    "    print(f\"Dataset created with {len(videos)} videos\")\n",
    "    print(f\"Features shape: {videos.shape}\")\n",
    "    print(f\"Labels shape: {labels.shape}\")\n",
    "\n",
    "    return videos, labels"
   ]
  },
  {
   "cell_type": "markdown",
   "id": "3ee29104",
   "metadata": {
    "papermill": {
     "duration": 0.011029,
     "end_time": "2025-07-06T15:59:26.889262",
     "exception": false,
     "start_time": "2025-07-06T15:59:26.878233",
     "status": "completed"
    },
    "tags": []
   },
   "source": [
    "## 🪄 Video Data Generator"
   ]
  },
  {
   "cell_type": "code",
   "execution_count": 8,
   "id": "a412bf3e",
   "metadata": {
    "execution": {
     "iopub.execute_input": "2025-07-06T15:59:26.912982Z",
     "iopub.status.busy": "2025-07-06T15:59:26.912373Z",
     "iopub.status.idle": "2025-07-06T15:59:26.990160Z",
     "shell.execute_reply": "2025-07-06T15:59:26.989546Z"
    },
    "papermill": {
     "duration": 0.09109,
     "end_time": "2025-07-06T15:59:26.991518",
     "exception": false,
     "start_time": "2025-07-06T15:59:26.900428",
     "status": "completed"
    },
    "tags": []
   },
   "outputs": [],
   "source": [
    "from tensorflow.keras.utils import Sequence, to_categorical\n",
    "import tensorflow as tf\n",
    "import numpy as np\n",
    "import cv2\n",
    "\n",
    "\n",
    "\n",
    "\n",
    "class VideoDataGenerator(Sequence):\n",
    "    def __init__(self, videos, labels, batch_size, is_training=False):\n",
    "        self.videos = list(videos)  # List of video file paths\n",
    "        self.labels = list(labels)  # List or array of labels encoded\n",
    "        self.batch_size = batch_size\n",
    "        self.indices = np.arange(len(self.videos))  # For shuffling\n",
    "        self.is_training = is_training  # Flag to control whether augmentation is applied\n",
    "        self.temp_videos=[]\n",
    "        self.temp_labels=[]\n",
    "        \n",
    "        \n",
    "        print(f\"Total {len(videos)} videos and {len(labels)} classes\")\n",
    "\n",
    "    def __len__(self):\n",
    "        # Return the number of batches per epoch\n",
    "        return int(np.ceil(len(self.videos) / self.batch_size))\n",
    "\n",
    "    def __getitem__(self, idx):\n",
    "        # Get batch indices\n",
    "        batch_indices = self.indices[idx * self.batch_size:(idx + 1) * self.batch_size]\n",
    "        \n",
    "        # Handle case where batch_indices is empty\n",
    "        if len(batch_indices) == 0:\n",
    "            return np.array([], dtype=np.float32), np.array([], dtype=np.float32)\n",
    "        \n",
    "        # Initialize lists to store frames and labels\n",
    "        all_frames = []\n",
    "        all_labels = []\n",
    "        \n",
    "        # Process each video in the batch\n",
    "        for i, index in enumerate(batch_indices):\n",
    "            sequence = self.videos[index]\n",
    "            label = self.labels[index]\n",
    "            \n",
    "            # Append the sequence and label\n",
    "            all_frames.append(sequence)\n",
    "            all_labels.append(label)\n",
    "        \n",
    "        # Convert to numpy arrays\n",
    "        all_frames = np.array(all_frames, dtype=np.float32)\n",
    "        all_labels = np.array(all_labels)\n",
    "            \n",
    "        \n",
    "        return all_frames, all_labels\n",
    "    def add(self, new_videos, new_labels):\n",
    "        self.temp_videos.extend(new_videos)\n",
    "        self.temp_labels.extend(new_labels)\n",
    "    \n",
    "    def confirm(self):\n",
    "        self.videos.extend(self.temp_videos)\n",
    "        self.labels.extend(self.temp_labels)\n",
    "        print(f\"Successfully added - {len(self.temp_videos)} videos and {len(self.temp_labels)} classes.\")\n",
    "        self.temp_videos=[]\n",
    "        self.temp_labels=[]\n",
    "        self.indices = np.arange(len(self.videos))\n",
    "        print(f\"Now Total - {len(self.videos)} videos and {len(self.labels)} classes.\")\n",
    "        print(f\"PENDING for Augmentations - {len(self.temp_videos)} videos and {len(self.temp_labels)} classes.\")\n",
    "        \n",
    "    def replace_original(self):\n",
    "        self.videos=self.temp_videos\n",
    "        self.labels=self.temp_labels\n",
    "        self.temp_videos=[]\n",
    "        self.temp_labels=[]\n",
    "        print(f\"Successfully replaced, total original videos - {len(self.videos)} and augmented videos {len(self.temp_videos)}\")\n",
    "        \n",
    "    def on_epoch_end(self):\n",
    "        # Shuffle indices at the end of each epoch\n",
    "        np.random.shuffle(self.indices)\n",
    "\n",
    "    def as_dataset(self):\n",
    "        def generator():\n",
    "            for idx in range(len(self)):\n",
    "                frames, labels = self[idx]\n",
    "                # Skip empty batches\n",
    "                if frames.size == 0:\n",
    "                    continue\n",
    "                yield frames, labels\n",
    "        self.labels=np.array(self.labels)\n",
    "    \n",
    "        # Create a tf.data.Dataset\n",
    "        dataset = tf.data.Dataset.from_generator(\n",
    "            generator,\n",
    "            output_types=(tf.float32, tf.float32),\n",
    "            output_shapes=(\n",
    "                (None, SEQUENCE_LENGTH, IMAGE_HEIGHT, IMAGE_WIDTH, 3),\n",
    "                (None, NO_OF_CLASSES)\n",
    "            )\n",
    "        )\n",
    "        dataset = dataset.prefetch(tf.data.AUTOTUNE)\n",
    "        return dataset"
   ]
  },
  {
   "cell_type": "markdown",
   "id": "5e03de69",
   "metadata": {
    "papermill": {
     "duration": 0.011201,
     "end_time": "2025-07-06T15:59:27.014687",
     "exception": false,
     "start_time": "2025-07-06T15:59:27.003486",
     "status": "completed"
    },
    "tags": []
   },
   "source": [
    "## 🔥 Segmentation using N-Frames Ensemble"
   ]
  },
  {
   "cell_type": "code",
   "execution_count": 9,
   "id": "db108ace",
   "metadata": {
    "execution": {
     "iopub.execute_input": "2025-07-06T15:59:27.038610Z",
     "iopub.status.busy": "2025-07-06T15:59:27.038247Z",
     "iopub.status.idle": "2025-07-06T15:59:27.367634Z",
     "shell.execute_reply": "2025-07-06T15:59:27.366385Z"
    },
    "papermill": {
     "duration": 0.343188,
     "end_time": "2025-07-06T15:59:27.369141",
     "exception": false,
     "start_time": "2025-07-06T15:59:27.025953",
     "status": "completed"
    },
    "tags": []
   },
   "outputs": [
    {
     "name": "stdout",
     "output_type": "stream",
     "text": [
      "MediaPipe initialized successfully\n"
     ]
    },
    {
     "name": "stderr",
     "output_type": "stream",
     "text": [
      "INFO: Created TensorFlow Lite XNNPACK delegate for CPU.\n"
     ]
    }
   ],
   "source": [
    "import cv2\n",
    "import numpy as np\n",
    "from collections import deque\n",
    "import mediapipe as mp\n",
    "\n",
    "# Parameters\n",
    "N_FRAMES = 5  # Number of frames for ensemble\n",
    "THRESHOLD = 0.2  # Segmentation confidence threshold\n",
    "\n",
    "def initialize_segmentor():\n",
    "    \"\"\"Initialize MediaPipe Selfie Segmentation with error handling.\"\"\"\n",
    "    try:\n",
    "        mp_selfie_segmentation = mp.solutions.selfie_segmentation\n",
    "        segmentor = mp_selfie_segmentation.SelfieSegmentation(model_selection=1)  # 1 for general model\n",
    "        print(\"MediaPipe initialized successfully\")\n",
    "        return segmentor\n",
    "    except Exception as e:\n",
    "        print(f\"Failed to initialize MediaPipe: {e}\")\n",
    "        return None\n",
    "\n",
    "# Initialize segmentor\n",
    "segmentor = initialize_segmentor()\n",
    "\n",
    "\n",
    "def segmentation_frames(sequence):\n",
    "    \"\"\"Process a sequence of frames with N-frame ensemble segmentation.\"\"\"\n",
    "    # Input sequence: (sequence_length, height, width, 3), values in [0, 1]\n",
    "    sequence_length, height, width, _ = sequence.shape\n",
    "    segmented_sequence = np.zeros_like(sequence, dtype=np.float32)\n",
    "    \n",
    "    if segmentor is None:\n",
    "        print(\"Returning original sequence due to initialization failure\")\n",
    "        return sequence  # Fallback to original sequence\n",
    "    # Queue to store segmentation masks\n",
    "    mask_queue = deque(maxlen=N_FRAMES)\n",
    "    \n",
    "    # Kernel for morphological operations\n",
    "    kernel = cv2.getStructuringElement(cv2.MORPH_ELLIPSE, (5, 5))\n",
    "    \n",
    "    for t in range(sequence_length):\n",
    "        try:\n",
    "            # Convert frame to uint8 for MediaPipe\n",
    "            frame = (sequence[t] * 255).astype(np.uint8)\n",
    "            \n",
    "            # Process frame with MediaPipe\n",
    "            results = segmentor.process(frame)\n",
    "            if results.segmentation_mask is None:\n",
    "                print(f\"Warning: No mask returned for frame {t}\")\n",
    "                mask = np.zeros((height, width), dtype=np.float32)\n",
    "            else:\n",
    "                mask = results.segmentation_mask  # Shape: (height, width), values in [0, 1]\n",
    "            \n",
    "            # Add mask to queue\n",
    "            mask_queue.append(mask)\n",
    "            \n",
    "            # Compute ensemble mask by averaging (if enough frames)\n",
    "            ensemble_mask = np.mean(np.array(mask_queue), axis=0) if len(mask_queue) > 1 else mask\n",
    "            \n",
    "            # Binarize the ensemble mask\n",
    "            binary_mask = (ensemble_mask > THRESHOLD).astype(np.uint8)\n",
    "            \n",
    "            # Refine the mask using morphological operations\n",
    "            binary_mask = cv2.morphologyEx(binary_mask, cv2.MORPH_CLOSE, kernel)\n",
    "            binary_mask = cv2.morphologyEx(binary_mask, cv2.MORPH_OPEN, kernel)\n",
    "            \n",
    "            # Convert binary mask to 3 channels\n",
    "            mask_3ch = np.stack([binary_mask] * 3, axis=-1)  # Shape: (height, width, 3)\n",
    "            \n",
    "            # Apply mask to isolate human subject (set background to black)\n",
    "            segmented_frame = frame * mask_3ch\n",
    "            \n",
    "            # Normalize back to [0, 1]\n",
    "            segmented_sequence[t] = segmented_frame / 255.0\n",
    "        \n",
    "        except Exception as e:\n",
    "            print(f\"Error processing frame {t}: {e}\")\n",
    "            segmented_sequence[t] = sequence[t]  # Fallback to original frame\n",
    "    \n",
    "    return segmented_sequence"
   ]
  },
  {
   "cell_type": "markdown",
   "id": "3e6225bc",
   "metadata": {
    "papermill": {
     "duration": 0.011432,
     "end_time": "2025-07-06T15:59:27.392836",
     "exception": false,
     "start_time": "2025-07-06T15:59:27.381404",
     "status": "completed"
    },
    "tags": []
   },
   "source": [
    "## 💫 Augmentation Helper function"
   ]
  },
  {
   "cell_type": "code",
   "execution_count": 10,
   "id": "08bac5ab",
   "metadata": {
    "execution": {
     "iopub.execute_input": "2025-07-06T15:59:27.416534Z",
     "iopub.status.busy": "2025-07-06T15:59:27.416030Z",
     "iopub.status.idle": "2025-07-06T15:59:27.421422Z",
     "shell.execute_reply": "2025-07-06T15:59:27.420607Z"
    },
    "papermill": {
     "duration": 0.018626,
     "end_time": "2025-07-06T15:59:27.422513",
     "exception": false,
     "start_time": "2025-07-06T15:59:27.403887",
     "status": "completed"
    },
    "tags": []
   },
   "outputs": [
    {
     "name": "stderr",
     "output_type": "stream",
     "text": [
      "WARNING: All log messages before absl::InitializeLog() is called are written to STDERR\n",
      "W0000 00:00:1751817567.372349      71 inference_feedback_manager.cc:114] Feedback manager requires a model with a single signature inference. Disabling support for feedback tensors.\n"
     ]
    }
   ],
   "source": [
    "def apply_augmentation(augmentation_function, generator, confirm=False, *args, **kwargs):\n",
    "    count=0\n",
    "    for i in range(len(generator)):\n",
    "        batch_videos, batch_labels = generator[i]\n",
    "        augmented_videos=[]\n",
    "        for videos in batch_videos:\n",
    "            count=count+1\n",
    "            augmented_videos.append(augmentation_function(videos, *args, **kwargs))\n",
    "            print(f\"Adding {count} new videos...\", end=\"\\r\", flush=True)\n",
    "        generator.add(augmented_videos, batch_labels)\n",
    "    \n",
    "    print(f\"Total {len(generator.temp_videos)} augmented videos generated\")\n",
    "    if confirm:\n",
    "        generator.confirm()\n",
    "    else:\n",
    "        print(\"Ready to be merged with original videos...\")"
   ]
  },
  {
   "cell_type": "markdown",
   "id": "d177d289",
   "metadata": {
    "papermill": {
     "duration": 0.011053,
     "end_time": "2025-07-06T15:59:27.444866",
     "exception": false,
     "start_time": "2025-07-06T15:59:27.433813",
     "status": "completed"
    },
    "tags": []
   },
   "source": [
    "### Show Frames"
   ]
  },
  {
   "cell_type": "code",
   "execution_count": 11,
   "id": "7e01fd25",
   "metadata": {
    "execution": {
     "iopub.execute_input": "2025-07-06T15:59:27.469041Z",
     "iopub.status.busy": "2025-07-06T15:59:27.468739Z",
     "iopub.status.idle": "2025-07-06T15:59:27.472697Z",
     "shell.execute_reply": "2025-07-06T15:59:27.472126Z"
    },
    "papermill": {
     "duration": 0.017254,
     "end_time": "2025-07-06T15:59:27.473788",
     "exception": false,
     "start_time": "2025-07-06T15:59:27.456534",
     "status": "completed"
    },
    "tags": []
   },
   "outputs": [],
   "source": [
    "# show frame def\n",
    "import matplotlib.pyplot as plt\n",
    "\n",
    "def show_frame(frame):\n",
    "    plt.figure(figsize=(3,3))\n",
    "    plt.imshow(frame)\n",
    "    plt.axis(\"off\")\n",
    "    plt.tight_layout()"
   ]
  },
  {
   "cell_type": "markdown",
   "id": "978693ec",
   "metadata": {
    "papermill": {
     "duration": 0.011041,
     "end_time": "2025-07-06T15:59:27.496311",
     "exception": false,
     "start_time": "2025-07-06T15:59:27.485270",
     "status": "completed"
    },
    "tags": []
   },
   "source": [
    "### Helper Function"
   ]
  },
  {
   "cell_type": "code",
   "execution_count": 12,
   "id": "32519e34",
   "metadata": {
    "execution": {
     "iopub.execute_input": "2025-07-06T15:59:27.519756Z",
     "iopub.status.busy": "2025-07-06T15:59:27.519480Z",
     "iopub.status.idle": "2025-07-06T15:59:27.523830Z",
     "shell.execute_reply": "2025-07-06T15:59:27.523288Z"
    },
    "papermill": {
     "duration": 0.017368,
     "end_time": "2025-07-06T15:59:27.524922",
     "exception": false,
     "start_time": "2025-07-06T15:59:27.507554",
     "status": "completed"
    },
    "tags": []
   },
   "outputs": [],
   "source": [
    "def show_frame_vs(frame1, frame2, title1=\"Frame 1\", title2=\"Frame 2\"):\n",
    "    plt.figure(figsize=(10, 5))\n",
    "\n",
    "    # First frame\n",
    "    plt.subplot(1, 2, 1)\n",
    "    plt.imshow(frame1)\n",
    "    plt.title(title1)\n",
    "    plt.axis('off')\n",
    "\n",
    "    # Second frame\n",
    "    plt.subplot(1, 2, 2)\n",
    "    plt.imshow(frame2)\n",
    "    plt.title(title2)\n",
    "    plt.axis('off')\n",
    "\n",
    "    plt.tight_layout()\n",
    "    plt.show()"
   ]
  },
  {
   "cell_type": "code",
   "execution_count": 13,
   "id": "7b244196",
   "metadata": {
    "execution": {
     "iopub.execute_input": "2025-07-06T15:59:27.548729Z",
     "iopub.status.busy": "2025-07-06T15:59:27.548460Z",
     "iopub.status.idle": "2025-07-06T15:59:27.552215Z",
     "shell.execute_reply": "2025-07-06T15:59:27.551657Z"
    },
    "papermill": {
     "duration": 0.016763,
     "end_time": "2025-07-06T15:59:27.553272",
     "exception": false,
     "start_time": "2025-07-06T15:59:27.536509",
     "status": "completed"
    },
    "tags": []
   },
   "outputs": [],
   "source": [
    "# reusable video loop helper function\n",
    "def apply_function(function, videos, *arg, **kwargs):\n",
    "    new_videos=[]\n",
    "    \n",
    "    for video in videos:\n",
    "        new_videos.append(function(video, *arg, **kwargs))\n",
    "        \n",
    "    return new_videos"
   ]
  },
  {
   "cell_type": "code",
   "execution_count": 14,
   "id": "e2f1e002",
   "metadata": {
    "execution": {
     "iopub.execute_input": "2025-07-06T15:59:27.577074Z",
     "iopub.status.busy": "2025-07-06T15:59:27.576776Z",
     "iopub.status.idle": "2025-07-06T15:59:27.581089Z",
     "shell.execute_reply": "2025-07-06T15:59:27.580513Z"
    },
    "papermill": {
     "duration": 0.017463,
     "end_time": "2025-07-06T15:59:27.582110",
     "exception": false,
     "start_time": "2025-07-06T15:59:27.564647",
     "status": "completed"
    },
    "tags": []
   },
   "outputs": [],
   "source": [
    "# reusable video loop helper function\n",
    "def apply(function, videos, labels, *arg, **kwargs):\n",
    "    new_videos=[]\n",
    "    new_labels=[]\n",
    "    combined=zip(labels, videos)\n",
    "    \n",
    "    for label, video in combined:\n",
    "        new_videos.append(function(video, *arg, **kwargs))\n",
    "        new_labels.append(label)\n",
    "        \n",
    "    new_videos=np.asarray(new_videos)\n",
    "    new_labels=np.asarray(new_labels)\n",
    "    \n",
    "    return new_videos, new_labels"
   ]
  },
  {
   "cell_type": "markdown",
   "id": "2dfbf0a3",
   "metadata": {
    "papermill": {
     "duration": 0.012009,
     "end_time": "2025-07-06T15:59:27.606730",
     "exception": false,
     "start_time": "2025-07-06T15:59:27.594721",
     "status": "completed"
    },
    "tags": []
   },
   "source": [
    "## Salt and Pepper Noise "
   ]
  },
  {
   "cell_type": "code",
   "execution_count": 15,
   "id": "7bb7539f",
   "metadata": {
    "execution": {
     "iopub.execute_input": "2025-07-06T15:59:27.631963Z",
     "iopub.status.busy": "2025-07-06T15:59:27.631645Z",
     "iopub.status.idle": "2025-07-06T15:59:27.637186Z",
     "shell.execute_reply": "2025-07-06T15:59:27.636499Z"
    },
    "papermill": {
     "duration": 0.020062,
     "end_time": "2025-07-06T15:59:27.638277",
     "exception": false,
     "start_time": "2025-07-06T15:59:27.618215",
     "status": "completed"
    },
    "tags": []
   },
   "outputs": [],
   "source": [
    "# Noise function def\n",
    "\n",
    "def noise_video(video,noise_factor=NOISE_FACTOR):\n",
    "    noisy_video=[]\n",
    "    for frame in video:\n",
    "        # Generate random noise\n",
    "        noise = np.random.rand(*frame.shape)  # Generate random noise\n",
    "        salt_pepper_noise = np.random.choice([0, 1], size=frame.shape, p=[1-noise_factor, noise_factor])\n",
    "        noisy_frame = frame * (1 - salt_pepper_noise) + salt_pepper_noise * np.random.rand(*frame.shape)\n",
    "        noisy_video.append(noisy_frame)\n",
    "    return np.array(noisy_video)"
   ]
  },
  {
   "cell_type": "markdown",
   "id": "acf2c20b",
   "metadata": {
    "papermill": {
     "duration": 0.013162,
     "end_time": "2025-07-06T15:59:27.663323",
     "exception": false,
     "start_time": "2025-07-06T15:59:27.650161",
     "status": "completed"
    },
    "tags": []
   },
   "source": [
    "## Horizontal Flip"
   ]
  },
  {
   "cell_type": "code",
   "execution_count": 16,
   "id": "a50afc5c",
   "metadata": {
    "execution": {
     "iopub.execute_input": "2025-07-06T15:59:27.691314Z",
     "iopub.status.busy": "2025-07-06T15:59:27.691023Z",
     "iopub.status.idle": "2025-07-06T15:59:27.694693Z",
     "shell.execute_reply": "2025-07-06T15:59:27.694143Z"
    },
    "papermill": {
     "duration": 0.018855,
     "end_time": "2025-07-06T15:59:27.695835",
     "exception": false,
     "start_time": "2025-07-06T15:59:27.676980",
     "status": "completed"
    },
    "tags": []
   },
   "outputs": [],
   "source": [
    "# horizontal flip function def\n",
    "# Testing Flip feautes[0] -> first video\n",
    "def horizontal_flip(video):\n",
    "    return [tf.image.flip_left_right(frame) for frame in video]"
   ]
  },
  {
   "cell_type": "markdown",
   "id": "db6f4342",
   "metadata": {
    "papermill": {
     "duration": 0.01141,
     "end_time": "2025-07-06T15:59:27.719016",
     "exception": false,
     "start_time": "2025-07-06T15:59:27.707606",
     "status": "completed"
    },
    "tags": []
   },
   "source": [
    "## Random Shear"
   ]
  },
  {
   "cell_type": "code",
   "execution_count": 17,
   "id": "0a235a10",
   "metadata": {
    "execution": {
     "iopub.execute_input": "2025-07-06T15:59:27.743591Z",
     "iopub.status.busy": "2025-07-06T15:59:27.742908Z",
     "iopub.status.idle": "2025-07-06T15:59:27.749155Z",
     "shell.execute_reply": "2025-07-06T15:59:27.748598Z"
    },
    "papermill": {
     "duration": 0.019774,
     "end_time": "2025-07-06T15:59:27.750264",
     "exception": false,
     "start_time": "2025-07-06T15:59:27.730490",
     "status": "completed"
    },
    "tags": []
   },
   "outputs": [],
   "source": [
    "# random shear function def\n",
    "import numpy as np\n",
    "import tensorflow as tf\n",
    "from scipy.ndimage import affine_transform\n",
    "\n",
    "def apply_shear_frames(frames, shear_right):\n",
    "    return [apply_shear(frame, shear_right) for frame in frames]\n",
    "\n",
    "def apply_shear(frame, shear_right=0):\n",
    "    frame_resized = tf.image.resize(frame, (IMAGE_HEIGHT, IMAGE_WIDTH)).numpy()\n",
    "    if shear_right:\n",
    "        shear_x = 0.09\n",
    "        shear_y = 0.1\n",
    "    else:\n",
    "        shear_x = -0.09\n",
    "        shear_y = 0.3\n",
    "    # Construct the affine matrix for scipy: inverse of the transformation matrix\n",
    "    # scipy applies the inverse transform matrix\n",
    "    shear_matrix = np.array([\n",
    "        [1, shear_x, 0],\n",
    "        [shear_y, 1, 0],\n",
    "        [0, 0, 1]\n",
    "    ], dtype=np.float32)\n",
    "\n",
    "    # Extract 2x2 part for affine_transform\n",
    "    matrix = shear_matrix[:2, :2]\n",
    "\n",
    "    # Offset (no translation)\n",
    "    offset = [0, 0]\n",
    "\n",
    "    # Apply affine transform on each channel separately\n",
    "    sheared = np.zeros_like(frame_resized)\n",
    "    for c in range(3):\n",
    "        sheared[..., c] = affine_transform(\n",
    "            frame_resized[..., c],\n",
    "            matrix=matrix,\n",
    "            offset=offset,\n",
    "            order=1,          # bilinear interpolation\n",
    "            mode='nearest'    # fill_mode\n",
    "        )\n",
    "    return sheared"
   ]
  },
  {
   "cell_type": "markdown",
   "id": "16829fb6",
   "metadata": {
    "papermill": {
     "duration": 0.011118,
     "end_time": "2025-07-06T15:59:27.773144",
     "exception": false,
     "start_time": "2025-07-06T15:59:27.762026",
     "status": "completed"
    },
    "tags": []
   },
   "source": [
    "# 📌 Model Related\n",
    "## 🗼 Model Architecture `create_model`"
   ]
  },
  {
   "cell_type": "code",
   "execution_count": 18,
   "id": "3d14af81",
   "metadata": {
    "execution": {
     "iopub.execute_input": "2025-07-06T15:59:27.797145Z",
     "iopub.status.busy": "2025-07-06T15:59:27.796541Z",
     "iopub.status.idle": "2025-07-06T15:59:27.810734Z",
     "shell.execute_reply": "2025-07-06T15:59:27.810184Z"
    },
    "papermill": {
     "duration": 0.027482,
     "end_time": "2025-07-06T15:59:27.811933",
     "exception": false,
     "start_time": "2025-07-06T15:59:27.784451",
     "status": "completed"
    },
    "tags": []
   },
   "outputs": [],
   "source": [
    "from tensorflow.keras.applications import Xception\n",
    "from tensorflow.keras.models import Sequential\n",
    "from tensorflow.keras.layers import GlobalAveragePooling2D, TimeDistributed, Bidirectional, LSTM, Dropout, Dense, BatchNormalization\n",
    "from tensorflow.keras.regularizers import l2\n",
    "\n",
    "def create_model(sequence_length, image_height, image_width, classes_list=None, dropout_rate=0.5):\n",
    "    if classes_list is None:\n",
    "        raise ValueError(\"classes_list must be provided to define the output layer size\")\n",
    "\n",
    "    try:\n",
    "        # Load Xception model with pre-trained ImageNet weights\n",
    "        print(\"Loading Xception base model...\")\n",
    "        xception = Xception(\n",
    "            weights='imagenet',\n",
    "            include_top=False,\n",
    "            input_shape=(image_height, image_width, 3),\n",
    "            name=\"Xception\"\n",
    "        )\n",
    "        \n",
    "        # Define the Sequential model\n",
    "        model = Sequential([\n",
    "            # TimeDistributed Xception model\n",
    "            TimeDistributed(\n",
    "                xception,\n",
    "                input_shape=(sequence_length, image_height, image_width, 3),\n",
    "                name=\"time_distributed\"\n",
    "            ),\n",
    "            # TimeDistributed GlobalAveragePooling2D\n",
    "            TimeDistributed(GlobalAveragePooling2D(), name=\"time_distributed_1\"),\n",
    "            # Bidirectional LSTM layer with 256 units (512 / 2 to maintain similar parameter count)\n",
    "            Bidirectional(\n",
    "                LSTM(256, activation=\"tanh\", return_sequences=False, kernel_regularizer=l2(0.01)),\n",
    "                name=\"bilstm\"\n",
    "            ),\n",
    "            BatchNormalization(name=\"batch_normalization\"),\n",
    "            # Dropout after BiLSTM\n",
    "            Dropout(dropout_rate, name=\"dropout_bilstm\"),\n",
    "            # Dense layer with 512 units\n",
    "            Dense(512, activation=\"relu\", kernel_regularizer=l2(0.01), name=\"dense\"),\n",
    "            # Dropout after Dense\n",
    "            Dropout(dropout_rate + 0.1, name=\"dropout_dense\"),\n",
    "            # Output Dense layer with softmax activation\n",
    "            Dense(len(classes_list), activation=\"softmax\", name=\"dense_1\")\n",
    "        ])\n",
    "\n",
    "        # Print model summary\n",
    "        print(\"Model architecture with BiLSTM created successfully!\")\n",
    "        model.summary()\n",
    "\n",
    "        return model\n",
    "\n",
    "    except Exception as e:\n",
    "        print(f\"Error creating model: {e}\")\n",
    "        return None"
   ]
  },
  {
   "cell_type": "code",
   "execution_count": 19,
   "id": "ce0538f2",
   "metadata": {
    "execution": {
     "iopub.execute_input": "2025-07-06T15:59:27.836600Z",
     "iopub.status.busy": "2025-07-06T15:59:27.836043Z",
     "iopub.status.idle": "2025-07-06T15:59:33.487214Z",
     "shell.execute_reply": "2025-07-06T15:59:33.486458Z"
    },
    "papermill": {
     "duration": 5.664715,
     "end_time": "2025-07-06T15:59:33.488345",
     "exception": false,
     "start_time": "2025-07-06T15:59:27.823630",
     "status": "completed"
    },
    "tags": []
   },
   "outputs": [
    {
     "name": "stdout",
     "output_type": "stream",
     "text": [
      "Pre-loading Xception weights...\n"
     ]
    },
    {
     "name": "stderr",
     "output_type": "stream",
     "text": [
      "I0000 00:00:1751817570.218550      19 gpu_device.cc:2022] Created device /job:localhost/replica:0/task:0/device:GPU:0 with 13942 MB memory:  -> device: 0, name: Tesla T4, pci bus id: 0000:00:04.0, compute capability: 7.5\n",
      "I0000 00:00:1751817570.219315      19 gpu_device.cc:2022] Created device /job:localhost/replica:0/task:0/device:GPU:1 with 13942 MB memory:  -> device: 1, name: Tesla T4, pci bus id: 0000:00:05.0, compute capability: 7.5\n"
     ]
    },
    {
     "name": "stdout",
     "output_type": "stream",
     "text": [
      "Downloading data from https://storage.googleapis.com/tensorflow/keras-applications/xception/xception_weights_tf_dim_ordering_tf_kernels_notop.h5\n",
      "\u001b[1m83683744/83683744\u001b[0m \u001b[32m━━━━━━━━━━━━━━━━━━━━\u001b[0m\u001b[37m\u001b[0m \u001b[1m0s\u001b[0m 0us/step\n",
      "Weights loaded successfully!\n"
     ]
    }
   ],
   "source": [
    "# donwload model weights\n",
    "from tensorflow.keras.applications import Xception\n",
    "print(\"Pre-loading Xception weights...\")\n",
    "base_model = Xception(weights='imagenet', include_top=False, input_shape=(IMAGE_HEIGHT, IMAGE_WIDTH, 3))\n",
    "print(\"Weights loaded successfully!\")"
   ]
  },
  {
   "cell_type": "markdown",
   "id": "d03b56f4",
   "metadata": {
    "papermill": {
     "duration": 0.01211,
     "end_time": "2025-07-06T15:59:33.512983",
     "exception": false,
     "start_time": "2025-07-06T15:59:33.500873",
     "status": "completed"
    },
    "tags": []
   },
   "source": [
    "# 📌 Execution\n",
    "## Creating Dataset\n",
    "The following functions are executed\n",
    "- `frame extraction`\n",
    "- `resize`\n",
    "\n",
    "which returns:\n",
    "- `features` - `np.array` of all the videos\n",
    "- `labels` - `np.array` of all the class labels"
   ]
  },
  {
   "cell_type": "code",
   "execution_count": 20,
   "id": "44e656d3",
   "metadata": {
    "execution": {
     "iopub.execute_input": "2025-07-06T15:59:33.537906Z",
     "iopub.status.busy": "2025-07-06T15:59:33.537265Z",
     "iopub.status.idle": "2025-07-06T16:00:12.716665Z",
     "shell.execute_reply": "2025-07-06T16:00:12.715839Z"
    },
    "papermill": {
     "duration": 39.193105,
     "end_time": "2025-07-06T16:00:12.717796",
     "exception": false,
     "start_time": "2025-07-06T15:59:33.524691",
     "status": "completed"
    },
    "tags": []
   },
   "outputs": [
    {
     "name": "stdout",
     "output_type": "stream",
     "text": [
      "Class: write on a paper\n",
      "Extracting frames from file 20: a05_s10_e01_rgb.avi\n",
      "Class: use laptop\n",
      "Extracting frames from file 20: a06_s04_e02_rgb.avi\n",
      "Class: read book\n",
      "Extracting frames from file 20: a03_s06_e01_rgb.avi\n",
      "Class: sit still\n",
      "Extracting frames from file 20: a09_s06_e02_rgb.avi\n",
      "Class: drink\n",
      "Extracting frames from file 20: a01_s01_e01_rgb.avi\n",
      "Class: sit down\n",
      "Extracting frames from file 20: a16_s06_e02_rgb.avi\n",
      "Class: use vacuum cleaner\n",
      "Extracting frames from file 20: a07_s10_e01_rgb.avi\n",
      "Class: eat\n",
      "Extracting frames from file 20: a02_s02_e01_rgb.avi\n",
      "Class: play guitar\n",
      "Extracting frames from file 20: a14_s06_e02_rgb.avi\n",
      "Class: lie down on sofa\n",
      "Extracting frames from file 20: a12_s05_e01_rgb.avi\n",
      "Class: stand up\n",
      "Extracting frames from file 20: a15_s09_e01_rgb.avi\n",
      "Class: toss paper\n",
      "Extracting frames from file 20: a10_s04_e01_rgb.avi\n",
      "Class: walk\n",
      "Extracting frames from file 20: a13_s09_e01_rgb.avi\n",
      "Class: play game\n",
      "Extracting frames from file 20: a11_s01_e02_rgb.avi\n",
      "Class: cheer up\n",
      "Extracting frames from file 20: a08_s07_e02_rgb.avi\n",
      "Class: call cellphone\n",
      "Extracting frames from file 20: a04_s06_e01_rgb.avi\n",
      "Dataset created with 320 videos\n",
      "Features shape: (320, 5, 128, 128, 3)\n",
      "Labels shape: (320,)\n"
     ]
    },
    {
     "data": {
      "text/plain": [
       "((320, 5, 128, 128, 3), (320,))"
      ]
     },
     "execution_count": 20,
     "metadata": {},
     "output_type": "execute_result"
    }
   ],
   "source": [
    "# RUN Create the dataset with explicit parameters\n",
    "try:\n",
    "    videos, labels = create_dataset(\n",
    "        dataset_dir=DATASET_DIR,\n",
    "        classes_list=CLASSES_LIST,\n",
    "        sequence_length=SEQUENCE_LENGTH,\n",
    "        image_height=IMAGE_HEIGHT,\n",
    "        image_width=IMAGE_WIDTH,\n",
    "        # Limit to 10 videos per class to manage memory\n",
    "        augmentations=True,\n",
    "        max_videos_per_class=MAX_VIDEO_PER_CLASS\n",
    "    )\n",
    "except FileNotFoundError as e:\n",
    "    print(f\"Error: {e}\")\n",
    "except ValueError as e:\n",
    "    print(f\"Error: {e}\")\n",
    "except Exception as e:\n",
    "    print(f\"Unexpected error: {e}\")\n",
    "\n",
    "videos.shape, labels.shape"
   ]
  },
  {
   "cell_type": "code",
   "execution_count": 21,
   "id": "14a1ea8f",
   "metadata": {
    "execution": {
     "iopub.execute_input": "2025-07-06T16:00:12.769868Z",
     "iopub.status.busy": "2025-07-06T16:00:12.769184Z",
     "iopub.status.idle": "2025-07-06T16:00:12.773636Z",
     "shell.execute_reply": "2025-07-06T16:00:12.772886Z"
    },
    "papermill": {
     "duration": 0.032229,
     "end_time": "2025-07-06T16:00:12.774800",
     "exception": false,
     "start_time": "2025-07-06T16:00:12.742571",
     "status": "completed"
    },
    "tags": []
   },
   "outputs": [
    {
     "name": "stdout",
     "output_type": "stream",
     "text": [
      "Total 320 videos and 320 classes\n"
     ]
    }
   ],
   "source": [
    "video_generator = VideoDataGenerator(\n",
    "    videos=videos,\n",
    "    labels=labels,\n",
    "    batch_size=BATCH_SIZE\n",
    ")"
   ]
  },
  {
   "cell_type": "code",
   "execution_count": 22,
   "id": "84b0bb02",
   "metadata": {
    "execution": {
     "iopub.execute_input": "2025-07-06T16:00:12.825546Z",
     "iopub.status.busy": "2025-07-06T16:00:12.825262Z",
     "iopub.status.idle": "2025-07-06T16:00:12.836136Z",
     "shell.execute_reply": "2025-07-06T16:00:12.835518Z"
    },
    "papermill": {
     "duration": 0.037508,
     "end_time": "2025-07-06T16:00:12.837289",
     "exception": false,
     "start_time": "2025-07-06T16:00:12.799781",
     "status": "completed"
    },
    "tags": []
   },
   "outputs": [
    {
     "data": {
      "text/plain": [
       "((16, 5, 128, 128, 3), (16,))"
      ]
     },
     "execution_count": 22,
     "metadata": {},
     "output_type": "execute_result"
    }
   ],
   "source": [
    "videos, labels = video_generator[0]\n",
    "\n",
    "videos.shape, labels.shape"
   ]
  },
  {
   "cell_type": "code",
   "execution_count": 23,
   "id": "02298973",
   "metadata": {
    "execution": {
     "iopub.execute_input": "2025-07-06T16:00:12.887590Z",
     "iopub.status.busy": "2025-07-06T16:00:12.887319Z",
     "iopub.status.idle": "2025-07-06T16:00:12.891899Z",
     "shell.execute_reply": "2025-07-06T16:00:12.891196Z"
    },
    "papermill": {
     "duration": 0.031245,
     "end_time": "2025-07-06T16:00:12.893158",
     "exception": false,
     "start_time": "2025-07-06T16:00:12.861913",
     "status": "completed"
    },
    "tags": []
   },
   "outputs": [
    {
     "data": {
      "text/plain": [
       "320"
      ]
     },
     "execution_count": 23,
     "metadata": {},
     "output_type": "execute_result"
    }
   ],
   "source": [
    "len(video_generator.videos) "
   ]
  },
  {
   "cell_type": "code",
   "execution_count": 24,
   "id": "96b7085c",
   "metadata": {
    "execution": {
     "iopub.execute_input": "2025-07-06T16:00:12.943879Z",
     "iopub.status.busy": "2025-07-06T16:00:12.943564Z",
     "iopub.status.idle": "2025-07-06T16:00:12.948245Z",
     "shell.execute_reply": "2025-07-06T16:00:12.947548Z"
    },
    "papermill": {
     "duration": 0.031388,
     "end_time": "2025-07-06T16:00:12.949456",
     "exception": false,
     "start_time": "2025-07-06T16:00:12.918068",
     "status": "completed"
    },
    "tags": []
   },
   "outputs": [
    {
     "data": {
      "text/plain": [
       "20"
      ]
     },
     "execution_count": 24,
     "metadata": {},
     "output_type": "execute_result"
    }
   ],
   "source": [
    "len(video_generator)"
   ]
  },
  {
   "cell_type": "code",
   "execution_count": 25,
   "id": "c0707b6c",
   "metadata": {
    "execution": {
     "iopub.execute_input": "2025-07-06T16:00:12.999833Z",
     "iopub.status.busy": "2025-07-06T16:00:12.999562Z",
     "iopub.status.idle": "2025-07-06T16:00:19.883325Z",
     "shell.execute_reply": "2025-07-06T16:00:19.882531Z"
    },
    "papermill": {
     "duration": 6.910303,
     "end_time": "2025-07-06T16:00:19.884401",
     "exception": false,
     "start_time": "2025-07-06T16:00:12.974098",
     "status": "completed"
    },
    "tags": []
   },
   "outputs": [
    {
     "name": "stdout",
     "output_type": "stream",
     "text": [
      "Total 320 augmented videos generated\n",
      "Ready to be merged with original videos...\n"
     ]
    }
   ],
   "source": [
    "apply_augmentation(segmentation_frames, video_generator)"
   ]
  },
  {
   "cell_type": "code",
   "execution_count": 26,
   "id": "2c5129c1",
   "metadata": {
    "execution": {
     "iopub.execute_input": "2025-07-06T16:00:19.958917Z",
     "iopub.status.busy": "2025-07-06T16:00:19.958622Z",
     "iopub.status.idle": "2025-07-06T16:00:19.963305Z",
     "shell.execute_reply": "2025-07-06T16:00:19.962608Z"
    },
    "papermill": {
     "duration": 0.042162,
     "end_time": "2025-07-06T16:00:19.964440",
     "exception": false,
     "start_time": "2025-07-06T16:00:19.922278",
     "status": "completed"
    },
    "tags": []
   },
   "outputs": [
    {
     "data": {
      "text/plain": [
       "(320, 320)"
      ]
     },
     "execution_count": 26,
     "metadata": {},
     "output_type": "execute_result"
    }
   ],
   "source": [
    "len(video_generator.temp_videos), len(video_generator.videos)"
   ]
  },
  {
   "cell_type": "code",
   "execution_count": 27,
   "id": "a55cfb85",
   "metadata": {
    "execution": {
     "iopub.execute_input": "2025-07-06T16:00:20.036116Z",
     "iopub.status.busy": "2025-07-06T16:00:20.035907Z",
     "iopub.status.idle": "2025-07-06T16:00:20.040297Z",
     "shell.execute_reply": "2025-07-06T16:00:20.039675Z"
    },
    "papermill": {
     "duration": 0.041397,
     "end_time": "2025-07-06T16:00:20.041340",
     "exception": false,
     "start_time": "2025-07-06T16:00:19.999943",
     "status": "completed"
    },
    "tags": []
   },
   "outputs": [
    {
     "name": "stdout",
     "output_type": "stream",
     "text": [
      "Successfully replaced, total original videos - 320 and augmented videos 0\n"
     ]
    }
   ],
   "source": [
    "video_generator.replace_original()"
   ]
  },
  {
   "cell_type": "code",
   "execution_count": 28,
   "id": "85de9532",
   "metadata": {
    "execution": {
     "iopub.execute_input": "2025-07-06T16:00:20.113512Z",
     "iopub.status.busy": "2025-07-06T16:00:20.113308Z",
     "iopub.status.idle": "2025-07-06T16:00:20.117671Z",
     "shell.execute_reply": "2025-07-06T16:00:20.117143Z"
    },
    "papermill": {
     "duration": 0.04149,
     "end_time": "2025-07-06T16:00:20.118724",
     "exception": false,
     "start_time": "2025-07-06T16:00:20.077234",
     "status": "completed"
    },
    "tags": []
   },
   "outputs": [
    {
     "data": {
      "text/plain": [
       "(0, 320)"
      ]
     },
     "execution_count": 28,
     "metadata": {},
     "output_type": "execute_result"
    }
   ],
   "source": [
    "len(video_generator.temp_videos), len(video_generator.videos)"
   ]
  },
  {
   "cell_type": "code",
   "execution_count": 29,
   "id": "33aeb621",
   "metadata": {
    "execution": {
     "iopub.execute_input": "2025-07-06T16:00:20.191521Z",
     "iopub.status.busy": "2025-07-06T16:00:20.191314Z",
     "iopub.status.idle": "2025-07-06T16:00:20.284644Z",
     "shell.execute_reply": "2025-07-06T16:00:20.283981Z"
    },
    "papermill": {
     "duration": 0.13142,
     "end_time": "2025-07-06T16:00:20.285722",
     "exception": false,
     "start_time": "2025-07-06T16:00:20.154302",
     "status": "completed"
    },
    "tags": []
   },
   "outputs": [
    {
     "data": {
      "text/plain": [
       "(320, 5, 128, 128, 3)"
      ]
     },
     "execution_count": 29,
     "metadata": {},
     "output_type": "execute_result"
    }
   ],
   "source": [
    "test = np.array(video_generator.videos)\n",
    "\n",
    "test.shape"
   ]
  },
  {
   "cell_type": "code",
   "execution_count": 30,
   "id": "d07338ae",
   "metadata": {
    "execution": {
     "iopub.execute_input": "2025-07-06T16:00:20.359101Z",
     "iopub.status.busy": "2025-07-06T16:00:20.358889Z",
     "iopub.status.idle": "2025-07-06T16:00:20.361683Z",
     "shell.execute_reply": "2025-07-06T16:00:20.361205Z"
    },
    "papermill": {
     "duration": 0.040016,
     "end_time": "2025-07-06T16:00:20.362587",
     "exception": false,
     "start_time": "2025-07-06T16:00:20.322571",
     "status": "completed"
    },
    "tags": []
   },
   "outputs": [],
   "source": [
    "# show_frame(test[1,0])"
   ]
  },
  {
   "cell_type": "markdown",
   "id": "973bf3ac",
   "metadata": {
    "papermill": {
     "duration": 0.035462,
     "end_time": "2025-07-06T16:00:20.433900",
     "exception": false,
     "start_time": "2025-07-06T16:00:20.398438",
     "status": "completed"
    },
    "tags": []
   },
   "source": [
    "## Apply ***horizontal flip*** (Augmentation)"
   ]
  },
  {
   "cell_type": "code",
   "execution_count": 31,
   "id": "221b7c6e",
   "metadata": {
    "execution": {
     "iopub.execute_input": "2025-07-06T16:00:20.506597Z",
     "iopub.status.busy": "2025-07-06T16:00:20.506398Z",
     "iopub.status.idle": "2025-07-06T16:00:21.750056Z",
     "shell.execute_reply": "2025-07-06T16:00:21.749426Z"
    },
    "papermill": {
     "duration": 1.281075,
     "end_time": "2025-07-06T16:00:21.751115",
     "exception": false,
     "start_time": "2025-07-06T16:00:20.470040",
     "status": "completed"
    },
    "tags": []
   },
   "outputs": [
    {
     "name": "stdout",
     "output_type": "stream",
     "text": [
      "Total 320 augmented videos generated\n",
      "Ready to be merged with original videos...\n"
     ]
    }
   ],
   "source": [
    "apply_augmentation(horizontal_flip, video_generator)"
   ]
  },
  {
   "cell_type": "code",
   "execution_count": 32,
   "id": "1fa34a7e",
   "metadata": {
    "execution": {
     "iopub.execute_input": "2025-07-06T16:00:21.854354Z",
     "iopub.status.busy": "2025-07-06T16:00:21.854079Z",
     "iopub.status.idle": "2025-07-06T16:00:21.858209Z",
     "shell.execute_reply": "2025-07-06T16:00:21.857542Z"
    },
    "papermill": {
     "duration": 0.056058,
     "end_time": "2025-07-06T16:00:21.859325",
     "exception": false,
     "start_time": "2025-07-06T16:00:21.803267",
     "status": "completed"
    },
    "tags": []
   },
   "outputs": [
    {
     "name": "stdout",
     "output_type": "stream",
     "text": [
      "Checking Total Videos and Class Count: 320, 320\n",
      "PENDING Total Videos and Class Count: 320, 320\n"
     ]
    }
   ],
   "source": [
    "print(f\"Checking Total Videos and Class Count: {len(video_generator.videos)}, {len(video_generator.labels)}\")\n",
    "print(f\"PENDING Total Videos and Class Count: {len(video_generator.temp_videos)}, {len(video_generator.temp_labels)}\")"
   ]
  },
  {
   "cell_type": "code",
   "execution_count": 33,
   "id": "bc100bbd",
   "metadata": {
    "execution": {
     "iopub.execute_input": "2025-07-06T16:00:21.962289Z",
     "iopub.status.busy": "2025-07-06T16:00:21.961790Z",
     "iopub.status.idle": "2025-07-06T16:00:21.965841Z",
     "shell.execute_reply": "2025-07-06T16:00:21.965203Z"
    },
    "papermill": {
     "duration": 0.05653,
     "end_time": "2025-07-06T16:00:21.966985",
     "exception": false,
     "start_time": "2025-07-06T16:00:21.910455",
     "status": "completed"
    },
    "tags": []
   },
   "outputs": [
    {
     "name": "stdout",
     "output_type": "stream",
     "text": [
      "Successfully added - 320 videos and 320 classes.\n",
      "Now Total - 640 videos and 640 classes.\n",
      "PENDING for Augmentations - 0 videos and 0 classes.\n"
     ]
    }
   ],
   "source": [
    "video_generator.confirm()"
   ]
  },
  {
   "cell_type": "markdown",
   "id": "6349a2c4",
   "metadata": {
    "papermill": {
     "duration": 0.049999,
     "end_time": "2025-07-06T16:00:22.067434",
     "exception": false,
     "start_time": "2025-07-06T16:00:22.017435",
     "status": "completed"
    },
    "tags": []
   },
   "source": [
    "## Apply ***Noise*** (Augmentation)"
   ]
  },
  {
   "cell_type": "code",
   "execution_count": 34,
   "id": "388123f5",
   "metadata": {
    "execution": {
     "iopub.execute_input": "2025-07-06T16:00:22.169177Z",
     "iopub.status.busy": "2025-07-06T16:00:22.168245Z",
     "iopub.status.idle": "2025-07-06T16:00:30.505105Z",
     "shell.execute_reply": "2025-07-06T16:00:30.504065Z"
    },
    "papermill": {
     "duration": 8.388867,
     "end_time": "2025-07-06T16:00:30.506457",
     "exception": false,
     "start_time": "2025-07-06T16:00:22.117590",
     "status": "completed"
    },
    "tags": []
   },
   "outputs": [
    {
     "name": "stdout",
     "output_type": "stream",
     "text": [
      "Total 640 augmented videos generated\n",
      "Ready to be merged with original videos...\n"
     ]
    }
   ],
   "source": [
    "apply_augmentation(noise_video, video_generator)"
   ]
  },
  {
   "cell_type": "code",
   "execution_count": 35,
   "id": "7c870437",
   "metadata": {
    "execution": {
     "iopub.execute_input": "2025-07-06T16:00:30.656411Z",
     "iopub.status.busy": "2025-07-06T16:00:30.656066Z",
     "iopub.status.idle": "2025-07-06T16:00:30.660336Z",
     "shell.execute_reply": "2025-07-06T16:00:30.659530Z"
    },
    "papermill": {
     "duration": 0.079785,
     "end_time": "2025-07-06T16:00:30.661496",
     "exception": false,
     "start_time": "2025-07-06T16:00:30.581711",
     "status": "completed"
    },
    "tags": []
   },
   "outputs": [
    {
     "name": "stdout",
     "output_type": "stream",
     "text": [
      "Checking Total Videos and Class Count: 640, 640\n",
      "PENDING Total Videos and Class Count: 640, 640\n"
     ]
    }
   ],
   "source": [
    "print(f\"Checking Total Videos and Class Count: {len(video_generator.videos)}, {len(video_generator.labels)}\")\n",
    "print(f\"PENDING Total Videos and Class Count: {len(video_generator.temp_videos)}, {len(video_generator.temp_labels)}\")"
   ]
  },
  {
   "cell_type": "markdown",
   "id": "56c4ec2c",
   "metadata": {
    "papermill": {
     "duration": 0.072102,
     "end_time": "2025-07-06T16:00:30.807646",
     "exception": false,
     "start_time": "2025-07-06T16:00:30.735544",
     "status": "completed"
    },
    "tags": []
   },
   "source": [
    "## Apply ***Random Shear x2*** (Augmentation)"
   ]
  },
  {
   "cell_type": "code",
   "execution_count": 36,
   "id": "32f13e31",
   "metadata": {
    "execution": {
     "iopub.execute_input": "2025-07-06T16:00:30.956708Z",
     "iopub.status.busy": "2025-07-06T16:00:30.956435Z",
     "iopub.status.idle": "2025-07-06T16:00:56.841368Z",
     "shell.execute_reply": "2025-07-06T16:00:56.840756Z"
    },
    "papermill": {
     "duration": 25.960399,
     "end_time": "2025-07-06T16:00:56.842428",
     "exception": false,
     "start_time": "2025-07-06T16:00:30.882029",
     "status": "completed"
    },
    "tags": []
   },
   "outputs": [
    {
     "name": "stdout",
     "output_type": "stream",
     "text": [
      "Total 1280 augmented videos generated\n",
      "Ready to be merged with original videos...\n",
      "Total 1920 augmented videos generated\n",
      "Ready to be merged with original videos...\n"
     ]
    }
   ],
   "source": [
    "apply_augmentation(apply_shear_frames, video_generator, shear_right=0)\n",
    "apply_augmentation(apply_shear_frames, video_generator, shear_right=1)"
   ]
  },
  {
   "cell_type": "code",
   "execution_count": 37,
   "id": "bb8432c2",
   "metadata": {
    "execution": {
     "iopub.execute_input": "2025-07-06T16:00:57.086162Z",
     "iopub.status.busy": "2025-07-06T16:00:57.085529Z",
     "iopub.status.idle": "2025-07-06T16:00:57.089692Z",
     "shell.execute_reply": "2025-07-06T16:00:57.089021Z"
    },
    "papermill": {
     "duration": 0.125664,
     "end_time": "2025-07-06T16:00:57.090738",
     "exception": false,
     "start_time": "2025-07-06T16:00:56.965074",
     "status": "completed"
    },
    "tags": []
   },
   "outputs": [
    {
     "name": "stdout",
     "output_type": "stream",
     "text": [
      "Checking Total Videos and Class Count: 640, 640\n",
      "PENDING Total Videos and Class Count: 1920, 1920\n"
     ]
    }
   ],
   "source": [
    "print(f\"Checking Total Videos and Class Count: {len(video_generator.videos)}, {len(video_generator.labels)}\")\n",
    "print(f\"PENDING Total Videos and Class Count: {len(video_generator.temp_videos)}, {len(video_generator.temp_labels)}\")"
   ]
  },
  {
   "cell_type": "code",
   "execution_count": 38,
   "id": "499b7568",
   "metadata": {
    "execution": {
     "iopub.execute_input": "2025-07-06T16:00:57.400716Z",
     "iopub.status.busy": "2025-07-06T16:00:57.400164Z",
     "iopub.status.idle": "2025-07-06T16:00:57.404031Z",
     "shell.execute_reply": "2025-07-06T16:00:57.403284Z"
    },
    "papermill": {
     "duration": 0.128817,
     "end_time": "2025-07-06T16:00:57.405248",
     "exception": false,
     "start_time": "2025-07-06T16:00:57.276431",
     "status": "completed"
    },
    "tags": []
   },
   "outputs": [
    {
     "name": "stdout",
     "output_type": "stream",
     "text": [
      "Successfully added - 1920 videos and 1920 classes.\n",
      "Now Total - 2560 videos and 2560 classes.\n",
      "PENDING for Augmentations - 0 videos and 0 classes.\n"
     ]
    }
   ],
   "source": [
    "# confirm changes to generator\n",
    "video_generator.confirm()"
   ]
  },
  {
   "cell_type": "code",
   "execution_count": 39,
   "id": "ca33b11a",
   "metadata": {
    "execution": {
     "iopub.execute_input": "2025-07-06T16:00:57.655096Z",
     "iopub.status.busy": "2025-07-06T16:00:57.654775Z",
     "iopub.status.idle": "2025-07-06T16:00:57.659214Z",
     "shell.execute_reply": "2025-07-06T16:00:57.658322Z"
    },
    "papermill": {
     "duration": 0.13193,
     "end_time": "2025-07-06T16:00:57.660328",
     "exception": false,
     "start_time": "2025-07-06T16:00:57.528398",
     "status": "completed"
    },
    "tags": []
   },
   "outputs": [
    {
     "name": "stdout",
     "output_type": "stream",
     "text": [
      "Checking Video Generator Total Videos and Class Count: 2560, 2560\n"
     ]
    }
   ],
   "source": [
    "print(f\"Checking Video Generator Total Videos and Class Count: {len(video_generator.videos)}, {len(video_generator.labels)}\")"
   ]
  },
  {
   "cell_type": "markdown",
   "id": "247e0fa2",
   "metadata": {
    "papermill": {
     "duration": 0.125657,
     "end_time": "2025-07-06T16:00:57.909236",
     "exception": false,
     "start_time": "2025-07-06T16:00:57.783579",
     "status": "completed"
    },
    "tags": []
   },
   "source": [
    "## Cheking (Output)"
   ]
  },
  {
   "cell_type": "code",
   "execution_count": 40,
   "id": "8de4bc77",
   "metadata": {
    "execution": {
     "iopub.execute_input": "2025-07-06T16:00:58.156881Z",
     "iopub.status.busy": "2025-07-06T16:00:58.156230Z",
     "iopub.status.idle": "2025-07-06T16:00:58.442174Z",
     "shell.execute_reply": "2025-07-06T16:00:58.441538Z"
    },
    "papermill": {
     "duration": 0.411962,
     "end_time": "2025-07-06T16:00:58.443724",
     "exception": false,
     "start_time": "2025-07-06T16:00:58.031762",
     "status": "completed"
    },
    "tags": []
   },
   "outputs": [
    {
     "name": "stdout",
     "output_type": "stream",
     "text": [
      "(16, 5, 128, 128, 3) (16,)\n"
     ]
    },
    {
     "data": {
      "image/png": "[encoded data removed]",
      "text/plain": [
       "<Figure size 1000x500 with 2 Axes>"
      ]
     },
     "metadata": {},
     "output_type": "display_data"
    },
    {
     "name": "stdout",
     "output_type": "stream",
     "text": [
      "Might be two different action, but to check the flipping focus on the door behind.\n"
     ]
    }
   ],
   "source": [
    "# check horizontal flips\n",
    "videos, labels = video_generator[7]\n",
    "videos1, labels1 = video_generator[1]\n",
    "\n",
    "print(videos.shape, labels.shape)\n",
    "\n",
    "show_frame_vs(videos[0,0],videos1[1,0], title1=\"Flipped Frame 1\", title2=\"Non Flipped Frame 1\")\n",
    "print(\"Might be two different action, but to check the flipping focus on the door behind.\")"
   ]
  },
  {
   "cell_type": "markdown",
   "id": "12611fb4",
   "metadata": {
    "papermill": {
     "duration": 0.122086,
     "end_time": "2025-07-06T16:00:58.689276",
     "exception": false,
     "start_time": "2025-07-06T16:00:58.567190",
     "status": "completed"
    },
    "tags": []
   },
   "source": [
    "# 🧪 Test Augmentation (Output)\n",
    "## 🖼️ Horizontal Flip Output"
   ]
  },
  {
   "cell_type": "code",
   "execution_count": 41,
   "id": "75b79870",
   "metadata": {
    "execution": {
     "iopub.execute_input": "2025-07-06T16:00:58.999197Z",
     "iopub.status.busy": "2025-07-06T16:00:58.998925Z",
     "iopub.status.idle": "2025-07-06T16:00:59.001961Z",
     "shell.execute_reply": "2025-07-06T16:00:59.001441Z"
    },
    "papermill": {
     "duration": 0.189424,
     "end_time": "2025-07-06T16:00:59.002993",
     "exception": false,
     "start_time": "2025-07-06T16:00:58.813569",
     "status": "completed"
    },
    "tags": []
   },
   "outputs": [],
   "source": [
    "# flipped_video_1 = horizontal_flip(features[0])\n",
    "\n",
    "# flipped_video_1=np.asarray(flipped_video_1)\n",
    "\n",
    "# show_frame(flipped_video_1[0])\n",
    "# flipped_video_1.shape"
   ]
  },
  {
   "cell_type": "markdown",
   "id": "d6078553",
   "metadata": {
    "papermill": {
     "duration": 0.132067,
     "end_time": "2025-07-06T16:00:59.259273",
     "exception": false,
     "start_time": "2025-07-06T16:00:59.127206",
     "status": "completed"
    },
    "tags": []
   },
   "source": [
    "## 🖼️ Salt and Pepper Noise Output"
   ]
  },
  {
   "cell_type": "code",
   "execution_count": 42,
   "id": "fc33403a",
   "metadata": {
    "execution": {
     "iopub.execute_input": "2025-07-06T16:00:59.511003Z",
     "iopub.status.busy": "2025-07-06T16:00:59.510721Z",
     "iopub.status.idle": "2025-07-06T16:00:59.514058Z",
     "shell.execute_reply": "2025-07-06T16:00:59.513371Z"
    },
    "papermill": {
     "duration": 0.122915,
     "end_time": "2025-07-06T16:00:59.515172",
     "exception": false,
     "start_time": "2025-07-06T16:00:59.392257",
     "status": "completed"
    },
    "tags": []
   },
   "outputs": [],
   "source": [
    "# noised_video = noise_video(features[0])\n",
    "\n",
    "# print(noised_video.shape)\n",
    "# show_frame(noised_video[0])"
   ]
  },
  {
   "cell_type": "markdown",
   "id": "7d8580df",
   "metadata": {
    "papermill": {
     "duration": 0.117121,
     "end_time": "2025-07-06T16:00:59.749538",
     "exception": false,
     "start_time": "2025-07-06T16:00:59.632417",
     "status": "completed"
    },
    "tags": []
   },
   "source": [
    "## 🖼️ Random Shear Output"
   ]
  },
  {
   "cell_type": "code",
   "execution_count": 43,
   "id": "efefd900",
   "metadata": {
    "execution": {
     "iopub.execute_input": "2025-07-06T16:01:00.038896Z",
     "iopub.status.busy": "2025-07-06T16:01:00.038605Z",
     "iopub.status.idle": "2025-07-06T16:01:00.041954Z",
     "shell.execute_reply": "2025-07-06T16:01:00.041370Z"
    },
    "papermill": {
     "duration": 0.173545,
     "end_time": "2025-07-06T16:01:00.043015",
     "exception": false,
     "start_time": "2025-07-06T16:00:59.869470",
     "status": "completed"
    },
    "tags": []
   },
   "outputs": [],
   "source": [
    "# print(features.shape)\n",
    "\n",
    "# sheared_1 = apply_shear_frames(features[0], shear_right=0)\n",
    "# sheared_2 = apply_shear_frames(features[0], shear_right=1)\n",
    "\n",
    "# sheared_1 = np.asarray(sheared_1)\n",
    "# sheared_2 = np.asarray(sheared_2)\n",
    "\n",
    "# print(sheared_1.shape)\n",
    "# show_frame(sheared_1[0])\n",
    "# show_frame(sheared_2[0])"
   ]
  },
  {
   "cell_type": "markdown",
   "id": "93999856",
   "metadata": {
    "papermill": {
     "duration": 0.12367,
     "end_time": "2025-07-06T16:01:00.288911",
     "exception": false,
     "start_time": "2025-07-06T16:01:00.165241",
     "status": "completed"
    },
    "tags": []
   },
   "source": [
    "# 📌 Preparing Data for Training"
   ]
  },
  {
   "cell_type": "code",
   "execution_count": 44,
   "id": "19b22694",
   "metadata": {
    "execution": {
     "iopub.execute_input": "2025-07-06T16:01:00.535995Z",
     "iopub.status.busy": "2025-07-06T16:01:00.535262Z",
     "iopub.status.idle": "2025-07-06T16:01:00.985970Z",
     "shell.execute_reply": "2025-07-06T16:01:00.985192Z"
    },
    "papermill": {
     "duration": 0.576421,
     "end_time": "2025-07-06T16:01:00.987368",
     "exception": false,
     "start_time": "2025-07-06T16:01:00.410947",
     "status": "completed"
    },
    "tags": []
   },
   "outputs": [],
   "source": [
    "# Clear previous session to free memory\n",
    "import gc\n",
    "\n",
    "gc.collect()\n",
    "tf.keras.backend.clear_session()"
   ]
  },
  {
   "cell_type": "markdown",
   "id": "d15657ce",
   "metadata": {
    "papermill": {
     "duration": 0.122899,
     "end_time": "2025-07-06T16:01:01.234765",
     "exception": false,
     "start_time": "2025-07-06T16:01:01.111866",
     "status": "completed"
    },
    "tags": []
   },
   "source": [
    "## Splitting data for ***Trainig*** and ***Testing***"
   ]
  },
  {
   "cell_type": "code",
   "execution_count": 45,
   "id": "88aec858",
   "metadata": {
    "execution": {
     "iopub.execute_input": "2025-07-06T16:01:01.480757Z",
     "iopub.status.busy": "2025-07-06T16:01:01.480291Z",
     "iopub.status.idle": "2025-07-06T16:01:02.272147Z",
     "shell.execute_reply": "2025-07-06T16:01:02.271389Z"
    },
    "papermill": {
     "duration": 0.916105,
     "end_time": "2025-07-06T16:01:02.273275",
     "exception": false,
     "start_time": "2025-07-06T16:01:01.357170",
     "status": "completed"
    },
    "tags": []
   },
   "outputs": [
    {
     "data": {
      "text/plain": [
       "((2560, 5, 128, 128, 3), (2560,))"
      ]
     },
     "execution_count": 45,
     "metadata": {},
     "output_type": "execute_result"
    }
   ],
   "source": [
    "videos = video_generator.videos\n",
    "labels = video_generator.labels\n",
    "\n",
    "videos = np.array(videos, dtype='float32')\n",
    "labels = np.array(labels)\n",
    "\n",
    "videos.shape, labels.shape"
   ]
  },
  {
   "cell_type": "code",
   "execution_count": 46,
   "id": "e2af6cb5",
   "metadata": {
    "execution": {
     "iopub.execute_input": "2025-07-06T16:01:02.517273Z",
     "iopub.status.busy": "2025-07-06T16:01:02.516722Z",
     "iopub.status.idle": "2025-07-06T16:01:02.521768Z",
     "shell.execute_reply": "2025-07-06T16:01:02.521226Z"
    },
    "papermill": {
     "duration": 0.127263,
     "end_time": "2025-07-06T16:01:02.522831",
     "exception": false,
     "start_time": "2025-07-06T16:01:02.395568",
     "status": "completed"
    },
    "tags": []
   },
   "outputs": [
    {
     "data": {
      "text/plain": [
       "(2560, 16)"
      ]
     },
     "execution_count": 46,
     "metadata": {},
     "output_type": "execute_result"
    }
   ],
   "source": [
    "from tensorflow.keras.utils import to_categorical\n",
    "\n",
    "one_hot_encoded_labels = to_categorical(labels)\n",
    "\n",
    "one_hot_encoded_labels.shape"
   ]
  },
  {
   "cell_type": "code",
   "execution_count": 47,
   "id": "4ee6d078",
   "metadata": {
    "execution": {
     "iopub.execute_input": "2025-07-06T16:01:02.802465Z",
     "iopub.status.busy": "2025-07-06T16:01:02.802016Z",
     "iopub.status.idle": "2025-07-06T16:01:03.003662Z",
     "shell.execute_reply": "2025-07-06T16:01:03.003135Z"
    },
    "papermill": {
     "duration": 0.322118,
     "end_time": "2025-07-06T16:01:03.004710",
     "exception": false,
     "start_time": "2025-07-06T16:01:02.682592",
     "status": "completed"
    },
    "tags": []
   },
   "outputs": [
    {
     "data": {
      "text/plain": [
       "0"
      ]
     },
     "execution_count": 47,
     "metadata": {},
     "output_type": "execute_result"
    }
   ],
   "source": [
    "gc.collect()"
   ]
  },
  {
   "cell_type": "code",
   "execution_count": 48,
   "id": "599a33e0",
   "metadata": {
    "execution": {
     "iopub.execute_input": "2025-07-06T16:01:03.249811Z",
     "iopub.status.busy": "2025-07-06T16:01:03.249164Z",
     "iopub.status.idle": "2025-07-06T16:01:04.175625Z",
     "shell.execute_reply": "2025-07-06T16:01:04.174909Z"
    },
    "papermill": {
     "duration": 1.052089,
     "end_time": "2025-07-06T16:01:04.176824",
     "exception": false,
     "start_time": "2025-07-06T16:01:03.124735",
     "status": "completed"
    },
    "tags": []
   },
   "outputs": [
    {
     "data": {
      "text/plain": [
       "((2048, 5, 128, 128, 3), (2048, 16), (512, 5, 128, 128, 3), (512, 16))"
      ]
     },
     "execution_count": 48,
     "metadata": {},
     "output_type": "execute_result"
    }
   ],
   "source": [
    "# RUN Split the Data into Train ( 75% ) and Test Set ( 25% ).\n",
    "from sklearn.model_selection import train_test_split\n",
    "features_train, features_test, labels_train, labels_test = train_test_split(videos,\n",
    "                                                                            one_hot_encoded_labels,\n",
    "                                                                            test_size = TEST_SIZE,\n",
    "                                                                            shuffle = True,\n",
    "                                                                            random_state = seed_constant)\n",
    "\n",
    "features_train.shape, labels_train.shape, features_test.shape, labels_test.shape"
   ]
  },
  {
   "cell_type": "markdown",
   "id": "0d69e198",
   "metadata": {
    "papermill": {
     "duration": 0.123275,
     "end_time": "2025-07-06T16:01:04.425485",
     "exception": false,
     "start_time": "2025-07-06T16:01:04.302210",
     "status": "completed"
    },
    "tags": []
   },
   "source": [
    "## Splitting data for ***Training Set*** and ***Validation Set***"
   ]
  },
  {
   "cell_type": "code",
   "execution_count": 49,
   "id": "47b67b06",
   "metadata": {
    "execution": {
     "iopub.execute_input": "2025-07-06T16:01:04.672573Z",
     "iopub.status.busy": "2025-07-06T16:01:04.672293Z",
     "iopub.status.idle": "2025-07-06T16:01:04.678074Z",
     "shell.execute_reply": "2025-07-06T16:01:04.677527Z"
    },
    "papermill": {
     "duration": 0.13061,
     "end_time": "2025-07-06T16:01:04.679116",
     "exception": false,
     "start_time": "2025-07-06T16:01:04.548506",
     "status": "completed"
    },
    "tags": []
   },
   "outputs": [
    {
     "data": {
      "text/plain": [
       "((1638, 5, 128, 128, 3), (1638, 16), (410, 5, 128, 128, 3), (410, 16))"
      ]
     },
     "execution_count": 49,
     "metadata": {},
     "output_type": "execute_result"
    }
   ],
   "source": [
    "# Assuming features_train and labels_train are defined\n",
    "train_set = 1-VALIDATION_SPLIT\n",
    "\n",
    "train_video_frames, val_video_frames = features_train[:int(train_set * len(features_train))], features_train[int(train_set * len(features_train)):]\n",
    "train_labels, val_labels = labels_train[:int(train_set * len(labels_train))], labels_train[int(train_set * len(labels_train)):]\n",
    "\n",
    "train_video_frames.shape, train_labels.shape, val_video_frames.shape, val_labels.shape"
   ]
  },
  {
   "cell_type": "markdown",
   "id": "1fbc155a",
   "metadata": {
    "papermill": {
     "duration": 0.12907,
     "end_time": "2025-07-06T16:01:04.931190",
     "exception": false,
     "start_time": "2025-07-06T16:01:04.802120",
     "status": "completed"
    },
    "tags": []
   },
   "source": [
    "## Use Generator `Video Data Generator`"
   ]
  },
  {
   "cell_type": "code",
   "execution_count": 50,
   "id": "f95b23a3",
   "metadata": {
    "execution": {
     "iopub.execute_input": "2025-07-06T16:01:05.221991Z",
     "iopub.status.busy": "2025-07-06T16:01:05.221701Z",
     "iopub.status.idle": "2025-07-06T16:01:05.228339Z",
     "shell.execute_reply": "2025-07-06T16:01:05.227760Z"
    },
    "papermill": {
     "duration": 0.174286,
     "end_time": "2025-07-06T16:01:05.229340",
     "exception": false,
     "start_time": "2025-07-06T16:01:05.055054",
     "status": "completed"
    },
    "tags": []
   },
   "outputs": [
    {
     "name": "stdout",
     "output_type": "stream",
     "text": [
      "Total 1638 videos and 1638 classes\n",
      "Total 410 videos and 410 classes\n"
     ]
    },
    {
     "data": {
      "text/plain": [
       "(103, 26)"
      ]
     },
     "execution_count": 50,
     "metadata": {},
     "output_type": "execute_result"
    }
   ],
   "source": [
    "# Create the training and validation generators\n",
    "train_gen = VideoDataGenerator(\n",
    "    videos=train_video_frames, \n",
    "    labels=train_labels, \n",
    "    batch_size=BATCH_SIZE,\n",
    ")\n",
    "\n",
    "val_gen = VideoDataGenerator(\n",
    "    videos=val_video_frames, \n",
    "    labels=val_labels, \n",
    "    batch_size=BATCH_SIZE,\n",
    ")\n",
    "\n",
    "len(train_gen), len(val_gen)"
   ]
  },
  {
   "cell_type": "markdown",
   "id": "a49a1b60",
   "metadata": {
    "papermill": {
     "duration": 0.117163,
     "end_time": "2025-07-06T16:01:05.465336",
     "exception": false,
     "start_time": "2025-07-06T16:01:05.348173",
     "status": "completed"
    },
    "tags": []
   },
   "source": [
    "## Inspect ***Generator*** Data on Epochs"
   ]
  },
  {
   "cell_type": "code",
   "execution_count": 51,
   "id": "add1dcd2",
   "metadata": {
    "execution": {
     "iopub.execute_input": "2025-07-06T16:01:05.721786Z",
     "iopub.status.busy": "2025-07-06T16:01:05.721500Z",
     "iopub.status.idle": "2025-07-06T16:01:05.733057Z",
     "shell.execute_reply": "2025-07-06T16:01:05.732336Z"
    },
    "papermill": {
     "duration": 0.148807,
     "end_time": "2025-07-06T16:01:05.734281",
     "exception": false,
     "start_time": "2025-07-06T16:01:05.585474",
     "status": "completed"
    },
    "tags": []
   },
   "outputs": [
    {
     "name": "stdout",
     "output_type": "stream",
     "text": [
      "[   0    1    2 ... 1635 1636 1637]\n",
      "[ 658 1561 1395 ...  691  912  158]\n"
     ]
    },
    {
     "data": {
      "text/plain": [
       "(16, (16, 5, 128, 128, 3), (16, 16))"
      ]
     },
     "execution_count": 51,
     "metadata": {},
     "output_type": "execute_result"
    }
   ],
   "source": [
    "features, labels = train_gen[1]\n",
    "\n",
    "print(train_gen.indices)\n",
    "\n",
    "train_gen.on_epoch_end()\n",
    "\n",
    "print(train_gen.indices)\n",
    "\n",
    "BATCH_SIZE, features.shape, labels.shape"
   ]
  },
  {
   "cell_type": "markdown",
   "id": "f355defd",
   "metadata": {
    "papermill": {
     "duration": 0.124197,
     "end_time": "2025-07-06T16:01:05.993380",
     "exception": false,
     "start_time": "2025-07-06T16:01:05.869183",
     "status": "completed"
    },
    "tags": []
   },
   "source": [
    "## Compute Class Weight"
   ]
  },
  {
   "cell_type": "code",
   "execution_count": 52,
   "id": "050b34d1",
   "metadata": {
    "execution": {
     "iopub.execute_input": "2025-07-06T16:01:06.240205Z",
     "iopub.status.busy": "2025-07-06T16:01:06.239932Z",
     "iopub.status.idle": "2025-07-06T16:01:06.246266Z",
     "shell.execute_reply": "2025-07-06T16:01:06.245440Z"
    },
    "papermill": {
     "duration": 0.134483,
     "end_time": "2025-07-06T16:01:06.247464",
     "exception": false,
     "start_time": "2025-07-06T16:01:06.112981",
     "status": "completed"
    },
    "tags": []
   },
   "outputs": [
    {
     "name": "stdout",
     "output_type": "stream",
     "text": [
      "Class weights: {0: 1.0, 1: 1.0, 2: 1.0, 3: 1.0, 4: 1.0, 5: 1.0, 6: 1.0, 7: 1.0, 8: 1.0, 9: 1.0, 10: 1.0, 11: 1.0, 12: 1.0, 13: 1.0, 14: 1.0, 15: 1.0}\n"
     ]
    }
   ],
   "source": [
    "from sklearn.utils.class_weight import compute_class_weight\n",
    "import numpy as np\n",
    "\n",
    "# Assuming y_int are integer labels (not one-hot)\n",
    "y_int = np.argmax(one_hot_encoded_labels, axis=1)  # or just integer labels if you have them\n",
    "\n",
    "classes = np.arange(NO_OF_CLASSES)  # e.g. np.arange(16)\n",
    "class_weights_values = compute_class_weight(class_weight='balanced', classes=classes, y=y_int)\n",
    "\n",
    "class_weights = dict(zip(classes, class_weights_values))\n",
    "\n",
    "print(\"Class weights:\", class_weights)\n"
   ]
  },
  {
   "cell_type": "code",
   "execution_count": 53,
   "id": "5554585a",
   "metadata": {
    "execution": {
     "iopub.execute_input": "2025-07-06T16:01:06.505040Z",
     "iopub.status.busy": "2025-07-06T16:01:06.504575Z",
     "iopub.status.idle": "2025-07-06T16:01:06.745478Z",
     "shell.execute_reply": "2025-07-06T16:01:06.744668Z"
    },
    "papermill": {
     "duration": 0.373128,
     "end_time": "2025-07-06T16:01:06.746772",
     "exception": false,
     "start_time": "2025-07-06T16:01:06.373644",
     "status": "completed"
    },
    "tags": []
   },
   "outputs": [],
   "source": [
    "gc.collect()\n",
    "del videos, one_hot_encoded_labels, labels_train\n",
    "del features_train, val_labels, train_labels\n",
    "del val_video_frames, train_video_frames"
   ]
  },
  {
   "cell_type": "markdown",
   "id": "44c0fff4",
   "metadata": {
    "papermill": {
     "duration": 0.123441,
     "end_time": "2025-07-06T16:01:07.054344",
     "exception": false,
     "start_time": "2025-07-06T16:01:06.930903",
     "status": "completed"
    },
    "tags": []
   },
   "source": [
    "# ✨ Model Execution\n",
    "## Creating Model"
   ]
  },
  {
   "cell_type": "code",
   "execution_count": 54,
   "id": "56885aaf",
   "metadata": {
    "execution": {
     "iopub.execute_input": "2025-07-06T16:01:07.306597Z",
     "iopub.status.busy": "2025-07-06T16:01:07.306324Z",
     "iopub.status.idle": "2025-07-06T16:01:08.572503Z",
     "shell.execute_reply": "2025-07-06T16:01:08.571769Z"
    },
    "papermill": {
     "duration": 1.392018,
     "end_time": "2025-07-06T16:01:08.573620",
     "exception": false,
     "start_time": "2025-07-06T16:01:07.181602",
     "status": "completed"
    },
    "tags": []
   },
   "outputs": [
    {
     "name": "stdout",
     "output_type": "stream",
     "text": [
      "Loading Xception base model...\n"
     ]
    },
    {
     "name": "stderr",
     "output_type": "stream",
     "text": [
      "/usr/local/lib/python3.11/dist-packages/keras/src/layers/core/wrapper.py:27: UserWarning: Do not pass an `input_shape`/`input_dim` argument to a layer. When using Sequential models, prefer using an `Input(shape)` object as the first layer in the model instead.\n",
      "  super().__init__(**kwargs)\n"
     ]
    },
    {
     "name": "stdout",
     "output_type": "stream",
     "text": [
      "Model architecture with BiLSTM created successfully!\n"
     ]
    },
    {
     "data": {
      "text/html": [
       "<pre style=\"white-space:pre;overflow-x:auto;line-height:normal;font-family:Menlo,'DejaVu Sans Mono',consolas,'Courier New',monospace\"><span style=\"font-weight: bold\">Model: \"sequential\"</span>\n",
       "</pre>\n"
      ],
      "text/plain": [
       "\u001b[1mModel: \"sequential\"\u001b[0m\n"
      ]
     },
     "metadata": {},
     "output_type": "display_data"
    },
    {
     "data": {
      "text/html": [
       "<pre style=\"white-space:pre;overflow-x:auto;line-height:normal;font-family:Menlo,'DejaVu Sans Mono',consolas,'Courier New',monospace\">┏━━━━━━━━━━━━━━━━━━━━━━━━━━━━━━━━━━━━━━┳━━━━━━━━━━━━━━━━━━━━━━━━━━━━━┳━━━━━━━━━━━━━━━━━┓\n",
       "┃<span style=\"font-weight: bold\"> Layer (type)                         </span>┃<span style=\"font-weight: bold\"> Output Shape                </span>┃<span style=\"font-weight: bold\">         Param # </span>┃\n",
       "┡━━━━━━━━━━━━━━━━━━━━━━━━━━━━━━━━━━━━━━╇━━━━━━━━━━━━━━━━━━━━━━━━━━━━━╇━━━━━━━━━━━━━━━━━┩\n",
       "│ time_distributed (<span style=\"color: #0087ff; text-decoration-color: #0087ff\">TimeDistributed</span>)   │ (<span style=\"color: #00d7ff; text-decoration-color: #00d7ff\">None</span>, <span style=\"color: #00af00; text-decoration-color: #00af00\">5</span>, <span style=\"color: #00af00; text-decoration-color: #00af00\">4</span>, <span style=\"color: #00af00; text-decoration-color: #00af00\">4</span>, <span style=\"color: #00af00; text-decoration-color: #00af00\">2048</span>)       │      <span style=\"color: #00af00; text-decoration-color: #00af00\">20,861,480</span> │\n",
       "├──────────────────────────────────────┼─────────────────────────────┼─────────────────┤\n",
       "│ time_distributed_1 (<span style=\"color: #0087ff; text-decoration-color: #0087ff\">TimeDistributed</span>) │ (<span style=\"color: #00d7ff; text-decoration-color: #00d7ff\">None</span>, <span style=\"color: #00af00; text-decoration-color: #00af00\">5</span>, <span style=\"color: #00af00; text-decoration-color: #00af00\">2048</span>)             │               <span style=\"color: #00af00; text-decoration-color: #00af00\">0</span> │\n",
       "├──────────────────────────────────────┼─────────────────────────────┼─────────────────┤\n",
       "│ bilstm (<span style=\"color: #0087ff; text-decoration-color: #0087ff\">Bidirectional</span>)               │ (<span style=\"color: #00d7ff; text-decoration-color: #00d7ff\">None</span>, <span style=\"color: #00af00; text-decoration-color: #00af00\">512</span>)                 │       <span style=\"color: #00af00; text-decoration-color: #00af00\">4,720,640</span> │\n",
       "├──────────────────────────────────────┼─────────────────────────────┼─────────────────┤\n",
       "│ batch_normalization                  │ (<span style=\"color: #00d7ff; text-decoration-color: #00d7ff\">None</span>, <span style=\"color: #00af00; text-decoration-color: #00af00\">512</span>)                 │           <span style=\"color: #00af00; text-decoration-color: #00af00\">2,048</span> │\n",
       "│ (<span style=\"color: #0087ff; text-decoration-color: #0087ff\">BatchNormalization</span>)                 │                             │                 │\n",
       "├──────────────────────────────────────┼─────────────────────────────┼─────────────────┤\n",
       "│ dropout_bilstm (<span style=\"color: #0087ff; text-decoration-color: #0087ff\">Dropout</span>)             │ (<span style=\"color: #00d7ff; text-decoration-color: #00d7ff\">None</span>, <span style=\"color: #00af00; text-decoration-color: #00af00\">512</span>)                 │               <span style=\"color: #00af00; text-decoration-color: #00af00\">0</span> │\n",
       "├──────────────────────────────────────┼─────────────────────────────┼─────────────────┤\n",
       "│ dense (<span style=\"color: #0087ff; text-decoration-color: #0087ff\">Dense</span>)                        │ (<span style=\"color: #00d7ff; text-decoration-color: #00d7ff\">None</span>, <span style=\"color: #00af00; text-decoration-color: #00af00\">512</span>)                 │         <span style=\"color: #00af00; text-decoration-color: #00af00\">262,656</span> │\n",
       "├──────────────────────────────────────┼─────────────────────────────┼─────────────────┤\n",
       "│ dropout_dense (<span style=\"color: #0087ff; text-decoration-color: #0087ff\">Dropout</span>)              │ (<span style=\"color: #00d7ff; text-decoration-color: #00d7ff\">None</span>, <span style=\"color: #00af00; text-decoration-color: #00af00\">512</span>)                 │               <span style=\"color: #00af00; text-decoration-color: #00af00\">0</span> │\n",
       "├──────────────────────────────────────┼─────────────────────────────┼─────────────────┤\n",
       "│ dense_1 (<span style=\"color: #0087ff; text-decoration-color: #0087ff\">Dense</span>)                      │ (<span style=\"color: #00d7ff; text-decoration-color: #00d7ff\">None</span>, <span style=\"color: #00af00; text-decoration-color: #00af00\">16</span>)                  │           <span style=\"color: #00af00; text-decoration-color: #00af00\">8,208</span> │\n",
       "└──────────────────────────────────────┴─────────────────────────────┴─────────────────┘\n",
       "</pre>\n"
      ],
      "text/plain": [
       "┏━━━━━━━━━━━━━━━━━━━━━━━━━━━━━━━━━━━━━━┳━━━━━━━━━━━━━━━━━━━━━━━━━━━━━┳━━━━━━━━━━━━━━━━━┓\n",
       "┃\u001b[1m \u001b[0m\u001b[1mLayer (type)                        \u001b[0m\u001b[1m \u001b[0m┃\u001b[1m \u001b[0m\u001b[1mOutput Shape               \u001b[0m\u001b[1m \u001b[0m┃\u001b[1m \u001b[0m\u001b[1m        Param #\u001b[0m\u001b[1m \u001b[0m┃\n",
       "┡━━━━━━━━━━━━━━━━━━━━━━━━━━━━━━━━━━━━━━╇━━━━━━━━━━━━━━━━━━━━━━━━━━━━━╇━━━━━━━━━━━━━━━━━┩\n",
       "│ time_distributed (\u001b[38;5;33mTimeDistributed\u001b[0m)   │ (\u001b[38;5;45mNone\u001b[0m, \u001b[38;5;34m5\u001b[0m, \u001b[38;5;34m4\u001b[0m, \u001b[38;5;34m4\u001b[0m, \u001b[38;5;34m2048\u001b[0m)       │      \u001b[38;5;34m20,861,480\u001b[0m │\n",
       "├──────────────────────────────────────┼─────────────────────────────┼─────────────────┤\n",
       "│ time_distributed_1 (\u001b[38;5;33mTimeDistributed\u001b[0m) │ (\u001b[38;5;45mNone\u001b[0m, \u001b[38;5;34m5\u001b[0m, \u001b[38;5;34m2048\u001b[0m)             │               \u001b[38;5;34m0\u001b[0m │\n",
       "├──────────────────────────────────────┼─────────────────────────────┼─────────────────┤\n",
       "│ bilstm (\u001b[38;5;33mBidirectional\u001b[0m)               │ (\u001b[38;5;45mNone\u001b[0m, \u001b[38;5;34m512\u001b[0m)                 │       \u001b[38;5;34m4,720,640\u001b[0m │\n",
       "├──────────────────────────────────────┼─────────────────────────────┼─────────────────┤\n",
       "│ batch_normalization                  │ (\u001b[38;5;45mNone\u001b[0m, \u001b[38;5;34m512\u001b[0m)                 │           \u001b[38;5;34m2,048\u001b[0m │\n",
       "│ (\u001b[38;5;33mBatchNormalization\u001b[0m)                 │                             │                 │\n",
       "├──────────────────────────────────────┼─────────────────────────────┼─────────────────┤\n",
       "│ dropout_bilstm (\u001b[38;5;33mDropout\u001b[0m)             │ (\u001b[38;5;45mNone\u001b[0m, \u001b[38;5;34m512\u001b[0m)                 │               \u001b[38;5;34m0\u001b[0m │\n",
       "├──────────────────────────────────────┼─────────────────────────────┼─────────────────┤\n",
       "│ dense (\u001b[38;5;33mDense\u001b[0m)                        │ (\u001b[38;5;45mNone\u001b[0m, \u001b[38;5;34m512\u001b[0m)                 │         \u001b[38;5;34m262,656\u001b[0m │\n",
       "├──────────────────────────────────────┼─────────────────────────────┼─────────────────┤\n",
       "│ dropout_dense (\u001b[38;5;33mDropout\u001b[0m)              │ (\u001b[38;5;45mNone\u001b[0m, \u001b[38;5;34m512\u001b[0m)                 │               \u001b[38;5;34m0\u001b[0m │\n",
       "├──────────────────────────────────────┼─────────────────────────────┼─────────────────┤\n",
       "│ dense_1 (\u001b[38;5;33mDense\u001b[0m)                      │ (\u001b[38;5;45mNone\u001b[0m, \u001b[38;5;34m16\u001b[0m)                  │           \u001b[38;5;34m8,208\u001b[0m │\n",
       "└──────────────────────────────────────┴─────────────────────────────┴─────────────────┘\n"
      ]
     },
     "metadata": {},
     "output_type": "display_data"
    },
    {
     "data": {
      "text/html": [
       "<pre style=\"white-space:pre;overflow-x:auto;line-height:normal;font-family:Menlo,'DejaVu Sans Mono',consolas,'Courier New',monospace\"><span style=\"font-weight: bold\"> Total params: </span><span style=\"color: #00af00; text-decoration-color: #00af00\">25,855,032</span> (98.63 MB)\n",
       "</pre>\n"
      ],
      "text/plain": [
       "\u001b[1m Total params: \u001b[0m\u001b[38;5;34m25,855,032\u001b[0m (98.63 MB)\n"
      ]
     },
     "metadata": {},
     "output_type": "display_data"
    },
    {
     "data": {
      "text/html": [
       "<pre style=\"white-space:pre;overflow-x:auto;line-height:normal;font-family:Menlo,'DejaVu Sans Mono',consolas,'Courier New',monospace\"><span style=\"font-weight: bold\"> Trainable params: </span><span style=\"color: #00af00; text-decoration-color: #00af00\">25,799,480</span> (98.42 MB)\n",
       "</pre>\n"
      ],
      "text/plain": [
       "\u001b[1m Trainable params: \u001b[0m\u001b[38;5;34m25,799,480\u001b[0m (98.42 MB)\n"
      ]
     },
     "metadata": {},
     "output_type": "display_data"
    },
    {
     "data": {
      "text/html": [
       "<pre style=\"white-space:pre;overflow-x:auto;line-height:normal;font-family:Menlo,'DejaVu Sans Mono',consolas,'Courier New',monospace\"><span style=\"font-weight: bold\"> Non-trainable params: </span><span style=\"color: #00af00; text-decoration-color: #00af00\">55,552</span> (217.00 KB)\n",
       "</pre>\n"
      ],
      "text/plain": [
       "\u001b[1m Non-trainable params: \u001b[0m\u001b[38;5;34m55,552\u001b[0m (217.00 KB)\n"
      ]
     },
     "metadata": {},
     "output_type": "display_data"
    },
    {
     "name": "stdout",
     "output_type": "stream",
     "text": [
      "Model Created Successfully!\n"
     ]
    }
   ],
   "source": [
    "# Create the model\n",
    "xlstm_model = create_model(\n",
    "    sequence_length=SEQUENCE_LENGTH,\n",
    "    image_height=IMAGE_HEIGHT,\n",
    "    image_width=IMAGE_WIDTH,\n",
    "    classes_list=CLASSES_LIST,\n",
    "    dropout_rate=DROPOUT_RATE\n",
    ")\n",
    "\n",
    "# Check if model was created successfully\n",
    "if xlstm_model is None:\n",
    "    print(\"Failed to create model. Check error messages above.\")\n",
    "else:\n",
    "    print(\"Model Created Successfully!\")"
   ]
  },
  {
   "cell_type": "markdown",
   "id": "f237c167",
   "metadata": {
    "papermill": {
     "duration": 0.118817,
     "end_time": "2025-07-06T16:01:08.814379",
     "exception": false,
     "start_time": "2025-07-06T16:01:08.695562",
     "status": "completed"
    },
    "tags": []
   },
   "source": [
    "## Plot Model Structure"
   ]
  },
  {
   "cell_type": "code",
   "execution_count": 55,
   "id": "98da4a16",
   "metadata": {
    "execution": {
     "iopub.execute_input": "2025-07-06T16:01:09.065894Z",
     "iopub.status.busy": "2025-07-06T16:01:09.065159Z",
     "iopub.status.idle": "2025-07-06T16:01:09.485019Z",
     "shell.execute_reply": "2025-07-06T16:01:09.484117Z"
    },
    "papermill": {
     "duration": 0.550649,
     "end_time": "2025-07-06T16:01:09.486251",
     "exception": false,
     "start_time": "2025-07-06T16:01:08.935602",
     "status": "completed"
    },
    "tags": []
   },
   "outputs": [
    {
     "name": "stdout",
     "output_type": "stream",
     "text": [
      "Xception Model Plot saved successfully...\n"
     ]
    }
   ],
   "source": [
    "# Plot the structure of the contructed model.\n",
    "from tensorflow.keras.utils import plot_model\n",
    "\n",
    "plot_model(xlstm_model, to_file = f'{MODEL_NAME}_model_Plot.png', show_shapes = True, show_layer_names = True)\n",
    "\n",
    "print(f\"{MODEL_NAME} Model Plot saved successfully...\")"
   ]
  },
  {
   "cell_type": "markdown",
   "id": "b3938c4a",
   "metadata": {
    "papermill": {
     "duration": 0.125223,
     "end_time": "2025-07-06T16:01:09.736865",
     "exception": false,
     "start_time": "2025-07-06T16:01:09.611642",
     "status": "completed"
    },
    "tags": []
   },
   "source": [
    "## Model Compile"
   ]
  },
  {
   "cell_type": "code",
   "execution_count": 56,
   "id": "c1a5c369",
   "metadata": {
    "execution": {
     "iopub.execute_input": "2025-07-06T16:01:10.046794Z",
     "iopub.status.busy": "2025-07-06T16:01:10.046039Z",
     "iopub.status.idle": "2025-07-06T16:01:10.062775Z",
     "shell.execute_reply": "2025-07-06T16:01:10.062228Z"
    },
    "papermill": {
     "duration": 0.143808,
     "end_time": "2025-07-06T16:01:10.064141",
     "exception": false,
     "start_time": "2025-07-06T16:01:09.920333",
     "status": "completed"
    },
    "tags": []
   },
   "outputs": [],
   "source": [
    "# Create an Instance of Early Stopping Callback\n",
    "from tensorflow.keras.callbacks import EarlyStopping\n",
    "\n",
    "early_stopping_callback = EarlyStopping(monitor = 'val_loss', \n",
    "                                        patience = 7, \n",
    "                                        mode = 'min', \n",
    "                                        restore_best_weights = True)\n",
    "\n",
    "# Compile the model and specify loss function, optimizer and metrics values to the model\n",
    "xlstm_model.compile(loss = 'categorical_crossentropy', \n",
    "                    optimizer=tf.keras.optimizers.Adam(learning_rate=0.0001),\n",
    "                    metrics = [\"accuracy\"])\n"
   ]
  },
  {
   "cell_type": "markdown",
   "id": "ec987567",
   "metadata": {
    "papermill": {
     "duration": 0.123981,
     "end_time": "2025-07-06T16:01:10.316736",
     "exception": false,
     "start_time": "2025-07-06T16:01:10.192755",
     "status": "completed"
    },
    "tags": []
   },
   "source": [
    "## 💪 Model Fit"
   ]
  },
  {
   "cell_type": "code",
   "execution_count": 57,
   "id": "b5d0637c",
   "metadata": {
    "execution": {
     "iopub.execute_input": "2025-07-06T16:01:10.567454Z",
     "iopub.status.busy": "2025-07-06T16:01:10.567203Z",
     "iopub.status.idle": "2025-07-06T16:01:10.573389Z",
     "shell.execute_reply": "2025-07-06T16:01:10.572749Z"
    },
    "papermill": {
     "duration": 0.131428,
     "end_time": "2025-07-06T16:01:10.574408",
     "exception": false,
     "start_time": "2025-07-06T16:01:10.442980",
     "status": "completed"
    },
    "tags": []
   },
   "outputs": [
    {
     "name": "stdout",
     "output_type": "stream",
     "text": [
      "Unique labels: [ 0  1  2  3  4  5  6  7  8  9 10 11 12 13 14 15]\n",
      "NO_OF_CLASSES: 16\n"
     ]
    }
   ],
   "source": [
    "labels = np.argmax(train_gen.labels, axis=1)  # assuming one-hot encoded\n",
    "print(\"Unique labels:\", np.unique(labels))\n",
    "print(\"NO_OF_CLASSES:\", NO_OF_CLASSES)\n"
   ]
  },
  {
   "cell_type": "code",
   "execution_count": 58,
   "id": "309f69e8",
   "metadata": {
    "execution": {
     "iopub.execute_input": "2025-07-06T16:01:10.828679Z",
     "iopub.status.busy": "2025-07-06T16:01:10.828396Z",
     "iopub.status.idle": "2025-07-06T16:01:10.834306Z",
     "shell.execute_reply": "2025-07-06T16:01:10.833625Z"
    },
    "papermill": {
     "duration": 0.131929,
     "end_time": "2025-07-06T16:01:10.835398",
     "exception": false,
     "start_time": "2025-07-06T16:01:10.703469",
     "status": "completed"
    },
    "tags": []
   },
   "outputs": [
    {
     "name": "stdout",
     "output_type": "stream",
     "text": [
      "Train label shape: (1638, 16)\n",
      "Val label shape: (410, 16)\n"
     ]
    }
   ],
   "source": [
    "print(\"Train label shape:\", np.shape(train_gen.labels))\n",
    "print(\"Val label shape:\", np.shape(val_gen.labels))\n"
   ]
  },
  {
   "cell_type": "code",
   "execution_count": 59,
   "id": "a674265d",
   "metadata": {
    "execution": {
     "iopub.execute_input": "2025-07-06T16:01:11.088590Z",
     "iopub.status.busy": "2025-07-06T16:01:11.088329Z",
     "iopub.status.idle": "2025-07-06T16:38:20.105085Z",
     "shell.execute_reply": "2025-07-06T16:38:20.104443Z"
    },
    "papermill": {
     "duration": 2229.144499,
     "end_time": "2025-07-06T16:38:20.106501",
     "exception": false,
     "start_time": "2025-07-06T16:01:10.962002",
     "status": "completed"
    },
    "tags": []
   },
   "outputs": [
    {
     "name": "stdout",
     "output_type": "stream",
     "text": [
      "Dataset - Msrdailyactivity3D Rgb Videos Only\n",
      "There are total 16 classes, selected 16 classes\n",
      "Setting 20 videos/class to train the model.\n",
      "Image size 128x128 with 5 sequence length\n",
      "Dropout rate: 0.5\n",
      "Train-Test split ratio 80/20\n",
      "Validation data from Train set 20.0%\n",
      "\n",
      "\n",
      "Training started for 1638 videos of 16 classes with 410 videos for validation...\n",
      "Epoch 1/30\n"
     ]
    },
    {
     "name": "stderr",
     "output_type": "stream",
     "text": [
      "I0000 00:00:1751817733.715920      87 cuda_dnn.cc:529] Loaded cuDNN version 90300\n"
     ]
    },
    {
     "name": "stdout",
     "output_type": "stream",
     "text": [
      "    103/Unknown \u001b[1m132s\u001b[0m 624ms/step - accuracy: 0.0849 - loss: 35.0426"
     ]
    },
    {
     "name": "stderr",
     "output_type": "stream",
     "text": [
      "/usr/local/lib/python3.11/dist-packages/keras/src/trainers/epoch_iterator.py:151: UserWarning: Your input ran out of data; interrupting training. Make sure that your dataset or generator can generate at least `steps_per_epoch * epochs` batches. You may need to use the `.repeat()` function when building your dataset.\n",
      "  self._interrupted_warning()\n"
     ]
    },
    {
     "name": "stdout",
     "output_type": "stream",
     "text": [
      "\u001b[1m103/103\u001b[0m \u001b[32m━━━━━━━━━━━━━━━━━━━━\u001b[0m\u001b[37m\u001b[0m \u001b[1m142s\u001b[0m 722ms/step - accuracy: 0.0849 - loss: 35.0274 - val_accuracy: 0.1000 - val_loss: 30.3332 - learning_rate: 1.0000e-04\n",
      "Epoch 2/30\n",
      "\u001b[1m103/103\u001b[0m \u001b[32m━━━━━━━━━━━━━━━━━━━━\u001b[0m\u001b[37m\u001b[0m \u001b[1m72s\u001b[0m 698ms/step - accuracy: 0.1617 - loss: 28.9116 - val_accuracy: 0.2561 - val_loss: 25.1159 - learning_rate: 1.0000e-04\n",
      "Epoch 3/30\n",
      "\u001b[1m103/103\u001b[0m \u001b[32m━━━━━━━━━━━━━━━━━━━━\u001b[0m\u001b[37m\u001b[0m \u001b[1m72s\u001b[0m 697ms/step - accuracy: 0.2805 - loss: 23.4792 - val_accuracy: 0.4537 - val_loss: 20.5140 - learning_rate: 1.0000e-04\n",
      "Epoch 4/30\n",
      "\u001b[1m103/103\u001b[0m \u001b[32m━━━━━━━━━━━━━━━━━━━━\u001b[0m\u001b[37m\u001b[0m \u001b[1m72s\u001b[0m 696ms/step - accuracy: 0.4686 - loss: 18.7955 - val_accuracy: 0.5537 - val_loss: 16.7044 - learning_rate: 1.0000e-04\n",
      "Epoch 5/30\n",
      "\u001b[1m103/103\u001b[0m \u001b[32m━━━━━━━━━━━━━━━━━━━━\u001b[0m\u001b[37m\u001b[0m \u001b[1m72s\u001b[0m 699ms/step - accuracy: 0.6681 - loss: 15.2604 - val_accuracy: 0.6732 - val_loss: 13.7836 - learning_rate: 1.0000e-04\n",
      "Epoch 6/30\n",
      "\u001b[1m103/103\u001b[0m \u001b[32m━━━━━━━━━━━━━━━━━━━━\u001b[0m\u001b[37m\u001b[0m \u001b[1m72s\u001b[0m 698ms/step - accuracy: 0.8100 - loss: 12.7601 - val_accuracy: 0.7293 - val_loss: 11.8386 - learning_rate: 1.0000e-04\n",
      "Epoch 7/30\n",
      "\u001b[1m103/103\u001b[0m \u001b[32m━━━━━━━━━━━━━━━━━━━━\u001b[0m\u001b[37m\u001b[0m \u001b[1m72s\u001b[0m 697ms/step - accuracy: 0.8901 - loss: 11.0674 - val_accuracy: 0.7439 - val_loss: 10.7149 - learning_rate: 1.0000e-04\n",
      "Epoch 8/30\n",
      "\u001b[1m103/103\u001b[0m \u001b[32m━━━━━━━━━━━━━━━━━━━━\u001b[0m\u001b[37m\u001b[0m \u001b[1m72s\u001b[0m 700ms/step - accuracy: 0.9527 - loss: 9.8499 - val_accuracy: 0.7585 - val_loss: 9.7205 - learning_rate: 1.0000e-04\n",
      "Epoch 9/30\n",
      "\u001b[1m103/103\u001b[0m \u001b[32m━━━━━━━━━━━━━━━━━━━━\u001b[0m\u001b[37m\u001b[0m \u001b[1m72s\u001b[0m 698ms/step - accuracy: 0.9596 - loss: 8.9971 - val_accuracy: 0.8195 - val_loss: 8.8992 - learning_rate: 1.0000e-04\n",
      "Epoch 10/30\n",
      "\u001b[1m103/103\u001b[0m \u001b[32m━━━━━━━━━━━━━━━━━━━━\u001b[0m\u001b[37m\u001b[0m \u001b[1m72s\u001b[0m 699ms/step - accuracy: 0.9858 - loss: 8.2707 - val_accuracy: 0.8171 - val_loss: 8.3812 - learning_rate: 1.0000e-04\n",
      "Epoch 11/30\n",
      "\u001b[1m103/103\u001b[0m \u001b[32m━━━━━━━━━━━━━━━━━━━━\u001b[0m\u001b[37m\u001b[0m \u001b[1m72s\u001b[0m 700ms/step - accuracy: 0.9857 - loss: 7.6756 - val_accuracy: 0.8512 - val_loss: 7.7702 - learning_rate: 1.0000e-04\n",
      "Epoch 12/30\n",
      "\u001b[1m103/103\u001b[0m \u001b[32m━━━━━━━━━━━━━━━━━━━━\u001b[0m\u001b[37m\u001b[0m \u001b[1m72s\u001b[0m 697ms/step - accuracy: 0.9940 - loss: 7.1416 - val_accuracy: 0.8366 - val_loss: 7.3006 - learning_rate: 1.0000e-04\n",
      "Epoch 13/30\n",
      "\u001b[1m103/103\u001b[0m \u001b[32m━━━━━━━━━━━━━━━━━━━━\u001b[0m\u001b[37m\u001b[0m \u001b[1m72s\u001b[0m 698ms/step - accuracy: 0.9957 - loss: 6.6260 - val_accuracy: 0.8341 - val_loss: 6.7751 - learning_rate: 1.0000e-04\n",
      "Epoch 14/30\n",
      "\u001b[1m103/103\u001b[0m \u001b[32m━━━━━━━━━━━━━━━━━━━━\u001b[0m\u001b[37m\u001b[0m \u001b[1m72s\u001b[0m 700ms/step - accuracy: 0.9979 - loss: 6.1473 - val_accuracy: 0.8415 - val_loss: 6.2789 - learning_rate: 1.0000e-04\n",
      "Epoch 15/30\n",
      "\u001b[1m103/103\u001b[0m \u001b[32m━━━━━━━━━━━━━━━━━━━━\u001b[0m\u001b[37m\u001b[0m \u001b[1m72s\u001b[0m 700ms/step - accuracy: 0.9955 - loss: 5.6862 - val_accuracy: 0.8512 - val_loss: 5.7953 - learning_rate: 1.0000e-04\n",
      "Epoch 16/30\n",
      "\u001b[1m103/103\u001b[0m \u001b[32m━━━━━━━━━━━━━━━━━━━━\u001b[0m\u001b[37m\u001b[0m \u001b[1m72s\u001b[0m 700ms/step - accuracy: 0.9993 - loss: 5.2308 - val_accuracy: 0.8390 - val_loss: 5.3714 - learning_rate: 1.0000e-04\n",
      "Epoch 17/30\n",
      "\u001b[1m103/103\u001b[0m \u001b[32m━━━━━━━━━━━━━━━━━━━━\u001b[0m\u001b[37m\u001b[0m \u001b[1m72s\u001b[0m 699ms/step - accuracy: 0.9997 - loss: 4.7974 - val_accuracy: 0.8732 - val_loss: 4.9207 - learning_rate: 1.0000e-04\n",
      "Epoch 18/30\n",
      "\u001b[1m103/103\u001b[0m \u001b[32m━━━━━━━━━━━━━━━━━━━━\u001b[0m\u001b[37m\u001b[0m \u001b[1m72s\u001b[0m 699ms/step - accuracy: 0.9990 - loss: 4.3831 - val_accuracy: 0.8512 - val_loss: 4.5445 - learning_rate: 1.0000e-04\n",
      "Epoch 19/30\n",
      "\u001b[1m103/103\u001b[0m \u001b[32m━━━━━━━━━━━━━━━━━━━━\u001b[0m\u001b[37m\u001b[0m \u001b[1m72s\u001b[0m 701ms/step - accuracy: 1.0000 - loss: 3.9853 - val_accuracy: 0.8585 - val_loss: 4.1404 - learning_rate: 1.0000e-04\n",
      "Epoch 20/30\n",
      "\u001b[1m103/103\u001b[0m \u001b[32m━━━━━━━━━━━━━━━━━━━━\u001b[0m\u001b[37m\u001b[0m \u001b[1m72s\u001b[0m 698ms/step - accuracy: 1.0000 - loss: 3.6035 - val_accuracy: 0.8659 - val_loss: 3.7537 - learning_rate: 1.0000e-04\n",
      "Epoch 21/30\n",
      "\u001b[1m103/103\u001b[0m \u001b[32m━━━━━━━━━━━━━━━━━━━━\u001b[0m\u001b[37m\u001b[0m \u001b[1m72s\u001b[0m 699ms/step - accuracy: 1.0000 - loss: 3.2427 - val_accuracy: 0.8634 - val_loss: 3.4158 - learning_rate: 1.0000e-04\n",
      "Epoch 22/30\n",
      "\u001b[1m103/103\u001b[0m \u001b[32m━━━━━━━━━━━━━━━━━━━━\u001b[0m\u001b[37m\u001b[0m \u001b[1m72s\u001b[0m 700ms/step - accuracy: 0.9982 - loss: 2.9072 - val_accuracy: 0.8561 - val_loss: 3.1052 - learning_rate: 1.0000e-04\n",
      "Epoch 23/30\n",
      "\u001b[1m103/103\u001b[0m \u001b[32m━━━━━━━━━━━━━━━━━━━━\u001b[0m\u001b[37m\u001b[0m \u001b[1m72s\u001b[0m 702ms/step - accuracy: 0.9995 - loss: 2.5871 - val_accuracy: 0.8659 - val_loss: 2.7828 - learning_rate: 1.0000e-04\n",
      "Epoch 24/30\n",
      "\u001b[1m103/103\u001b[0m \u001b[32m━━━━━━━━━━━━━━━━━━━━\u001b[0m\u001b[37m\u001b[0m \u001b[1m72s\u001b[0m 700ms/step - accuracy: 1.0000 - loss: 2.2916 - val_accuracy: 0.8683 - val_loss: 2.5111 - learning_rate: 1.0000e-04\n",
      "Epoch 25/30\n",
      "\u001b[1m103/103\u001b[0m \u001b[32m━━━━━━━━━━━━━━━━━━━━\u001b[0m\u001b[37m\u001b[0m \u001b[1m72s\u001b[0m 699ms/step - accuracy: 1.0000 - loss: 2.0208 - val_accuracy: 0.8707 - val_loss: 2.2476 - learning_rate: 1.0000e-04\n",
      "Epoch 26/30\n",
      "\u001b[1m103/103\u001b[0m \u001b[32m━━━━━━━━━━━━━━━━━━━━\u001b[0m\u001b[37m\u001b[0m \u001b[1m72s\u001b[0m 699ms/step - accuracy: 1.0000 - loss: 1.7706 - val_accuracy: 0.8585 - val_loss: 2.0512 - learning_rate: 1.0000e-04\n",
      "Epoch 27/30\n",
      "\u001b[1m103/103\u001b[0m \u001b[32m━━━━━━━━━━━━━━━━━━━━\u001b[0m\u001b[37m\u001b[0m \u001b[1m72s\u001b[0m 699ms/step - accuracy: 1.0000 - loss: 1.5428 - val_accuracy: 0.8585 - val_loss: 1.8040 - learning_rate: 1.0000e-04\n",
      "Epoch 28/30\n",
      "\u001b[1m103/103\u001b[0m \u001b[32m━━━━━━━━━━━━━━━━━━━━\u001b[0m\u001b[37m\u001b[0m \u001b[1m72s\u001b[0m 698ms/step - accuracy: 1.0000 - loss: 1.3383 - val_accuracy: 0.8585 - val_loss: 1.6356 - learning_rate: 1.0000e-04\n",
      "Epoch 29/30\n",
      "\u001b[1m103/103\u001b[0m \u001b[32m━━━━━━━━━━━━━━━━━━━━\u001b[0m\u001b[37m\u001b[0m \u001b[1m72s\u001b[0m 699ms/step - accuracy: 1.0000 - loss: 1.1537 - val_accuracy: 0.8634 - val_loss: 1.4607 - learning_rate: 1.0000e-04\n",
      "Epoch 30/30\n",
      "\u001b[1m103/103\u001b[0m \u001b[32m━━━━━━━━━━━━━━━━━━━━\u001b[0m\u001b[37m\u001b[0m \u001b[1m72s\u001b[0m 699ms/step - accuracy: 1.0000 - loss: 0.9878 - val_accuracy: 0.8585 - val_loss: 1.3085 - learning_rate: 1.0000e-04\n"
     ]
    }
   ],
   "source": [
    "from tensorflow.keras.callbacks import ReduceLROnPlateau\n",
    "\n",
    "lr_scheduler = ReduceLROnPlateau(monitor='val_loss', \n",
    "                                 factor=0.5, \n",
    "                                 patience=3, \n",
    "                                 min_lr=1e-6)\n",
    "\n",
    "\n",
    "\n",
    "print(f\"Dataset - {DATASET_NAME}\")\n",
    "print(f\"There are total {len(ALL_CLASS_NAMES)} classes, selected {NO_OF_CLASSES} classes\")\n",
    "print(f\"Setting {MAX_VIDEO_PER_CLASS} videos/class to train the model.\")\n",
    "print(f\"Image size {IMAGE_HEIGHT}x{IMAGE_WIDTH} with {SEQUENCE_LENGTH} sequence length\")\n",
    "print(f\"Dropout rate: {DROPOUT_RATE}\")\n",
    "print(f\"Train-Test split ratio {int((1-TEST_SIZE)*100)}/{int(TEST_SIZE*100)}\")\n",
    "print(f\"Validation data from Train set {VALIDATION_SPLIT*100}%\")\n",
    "\n",
    "print(\"\\n\")\n",
    "\n",
    "print(f\"Training started for {len(train_gen.videos)} videos of {NO_OF_CLASSES} classes with {len(val_gen.videos)} videos for validation...\")\n",
    "\n",
    "model_history = xlstm_model.fit(\n",
    "    train_gen.as_dataset(),\n",
    "    validation_data=val_gen.as_dataset(),\n",
    "    epochs=EPOCHS,\n",
    "    # class_weight=class_weight_dict,\n",
    "    callbacks=[early_stopping_callback, lr_scheduler]\n",
    ")"
   ]
  },
  {
   "cell_type": "markdown",
   "id": "e7ab284d",
   "metadata": {
    "papermill": {
     "duration": 0.263781,
     "end_time": "2025-07-06T16:38:20.632583",
     "exception": false,
     "start_time": "2025-07-06T16:38:20.368802",
     "status": "completed"
    },
    "tags": []
   },
   "source": [
    "# Evaluation"
   ]
  },
  {
   "cell_type": "markdown",
   "id": "31e3b15a",
   "metadata": {
    "papermill": {
     "duration": 0.33282,
     "end_time": "2025-07-06T16:38:21.230751",
     "exception": false,
     "start_time": "2025-07-06T16:38:20.897931",
     "status": "completed"
    },
    "tags": []
   },
   "source": [
    "## ⚡ Model Evaluate"
   ]
  },
  {
   "cell_type": "code",
   "execution_count": 60,
   "id": "eb5c3aa6",
   "metadata": {
    "execution": {
     "iopub.execute_input": "2025-07-06T16:38:21.758734Z",
     "iopub.status.busy": "2025-07-06T16:38:21.758458Z",
     "iopub.status.idle": "2025-07-06T16:38:28.230141Z",
     "shell.execute_reply": "2025-07-06T16:38:28.229570Z"
    },
    "papermill": {
     "duration": 6.736313,
     "end_time": "2025-07-06T16:38:28.231278",
     "exception": false,
     "start_time": "2025-07-06T16:38:21.494965",
     "status": "completed"
    },
    "tags": []
   },
   "outputs": [
    {
     "name": "stdout",
     "output_type": "stream",
     "text": [
      "\u001b[1m16/16\u001b[0m \u001b[32m━━━━━━━━━━━━━━━━━━━━\u001b[0m\u001b[37m\u001b[0m \u001b[1m5s\u001b[0m 283ms/step - accuracy: 0.8697 - loss: 1.3161\n"
     ]
    }
   ],
   "source": [
    "# previous code\n",
    "model_evaluation_history = xlstm_model.evaluate(features_test, labels_test)"
   ]
  },
  {
   "cell_type": "code",
   "execution_count": 61,
   "id": "76994fb0",
   "metadata": {
    "execution": {
     "iopub.execute_input": "2025-07-06T16:38:28.795223Z",
     "iopub.status.busy": "2025-07-06T16:38:28.794525Z",
     "iopub.status.idle": "2025-07-06T16:38:29.160678Z",
     "shell.execute_reply": "2025-07-06T16:38:29.159885Z"
    },
    "papermill": {
     "duration": 0.674533,
     "end_time": "2025-07-06T16:38:29.161834",
     "exception": false,
     "start_time": "2025-07-06T16:38:28.487301",
     "status": "completed"
    },
    "tags": []
   },
   "outputs": [
    {
     "data": {
      "image/png": "[encoded data removed]",
      "text/plain": [
       "<Figure size 1200x500 with 2 Axes>"
      ]
     },
     "metadata": {},
     "output_type": "display_data"
    }
   ],
   "source": [
    "import matplotlib.pyplot as plt\n",
    "\n",
    "# Accuracy\n",
    "plt.figure(figsize=(12, 5))\n",
    "\n",
    "plt.subplot(1, 2, 1)\n",
    "plt.plot(model_history.history['accuracy'], label='Train Accuracy')\n",
    "plt.plot(model_history.history['val_accuracy'], label='Validation Accuracy')\n",
    "plt.title('Model Accuracy')\n",
    "plt.xlabel('Epoch')\n",
    "plt.ylabel('Accuracy')\n",
    "plt.legend()\n",
    "\n",
    "# Loss\n",
    "plt.subplot(1, 2, 2)\n",
    "plt.plot(model_history.history['loss'], label='Train Loss')\n",
    "plt.plot(model_history.history['val_loss'], label='Validation Loss')\n",
    "plt.title('Model Loss')\n",
    "plt.xlabel('Epoch')\n",
    "plt.ylabel('Loss')\n",
    "plt.legend()\n",
    "\n",
    "plt.tight_layout()\n",
    "plt.show()\n"
   ]
  },
  {
   "cell_type": "markdown",
   "id": "8ddde9a4",
   "metadata": {
    "papermill": {
     "duration": 0.264146,
     "end_time": "2025-07-06T16:38:29.689847",
     "exception": false,
     "start_time": "2025-07-06T16:38:29.425701",
     "status": "completed"
    },
    "tags": []
   },
   "source": [
    "## 📈 Confusion Matrix"
   ]
  },
  {
   "cell_type": "code",
   "execution_count": 62,
   "id": "716b7cef",
   "metadata": {
    "execution": {
     "iopub.execute_input": "2025-07-06T16:38:30.217990Z",
     "iopub.status.busy": "2025-07-06T16:38:30.217158Z",
     "iopub.status.idle": "2025-07-06T16:38:43.796310Z",
     "shell.execute_reply": "2025-07-06T16:38:43.795535Z"
    },
    "papermill": {
     "duration": 13.844421,
     "end_time": "2025-07-06T16:38:43.797536",
     "exception": false,
     "start_time": "2025-07-06T16:38:29.953115",
     "status": "completed"
    },
    "tags": []
   },
   "outputs": [
    {
     "name": "stdout",
     "output_type": "stream",
     "text": [
      "Total 512 videos and 512 classes\n",
      "\u001b[1m128/128\u001b[0m \u001b[32m━━━━━━━━━━━━━━━━━━━━\u001b[0m\u001b[37m\u001b[0m \u001b[1m12s\u001b[0m 55ms/step\n",
      "True classes shape: (512,)\n",
      "Predicted classes shape: (512,)\n",
      "Classification Report:\n",
      "                    precision    recall  f1-score   support\n",
      "\n",
      "  write on a paper       0.72      0.90      0.80        29\n",
      "        use laptop       0.85      0.97      0.91        36\n",
      "         read book       1.00      0.76      0.86        29\n",
      "         sit still       0.88      0.78      0.83        37\n",
      "             drink       0.73      0.77      0.75        35\n",
      "          sit down       1.00      0.92      0.96        38\n",
      "use vacuum cleaner       1.00      1.00      1.00        28\n",
      "               eat       1.00      0.96      0.98        28\n",
      "       play guitar       1.00      0.95      0.97        39\n",
      "  lie down on sofa       0.88      1.00      0.93        28\n",
      "          stand up       0.86      1.00      0.92        36\n",
      "        toss paper       0.72      0.82      0.77        28\n",
      "              walk       0.96      0.83      0.89        30\n",
      "         play game       0.72      0.88      0.79        26\n",
      "          cheer up       0.97      0.92      0.94        37\n",
      "    call cellphone       0.94      0.57      0.71        28\n",
      "\n",
      "          accuracy                           0.88       512\n",
      "         macro avg       0.89      0.88      0.88       512\n",
      "      weighted avg       0.89      0.88      0.88       512\n",
      "\n"
     ]
    },
    {
     "name": "stderr",
     "output_type": "stream",
     "text": [
      "/usr/local/lib/python3.11/dist-packages/keras/src/trainers/epoch_iterator.py:151: UserWarning: Your input ran out of data; interrupting training. Make sure that your dataset or generator can generate at least `steps_per_epoch * epochs` batches. You may need to use the `.repeat()` function when building your dataset.\n",
      "  self._interrupted_warning()\n"
     ]
    },
    {
     "data": {
      "image/png": "[encoded data removed]",
      "text/plain": [
       "<Figure size 800x600 with 2 Axes>"
      ]
     },
     "metadata": {},
     "output_type": "display_data"
    }
   ],
   "source": [
    "from sklearn.metrics import classification_report, confusion_matrix\n",
    "import seaborn as sns\n",
    "import matplotlib.pyplot as plt\n",
    "\n",
    "# Create test generator with batch_size matching test set size\n",
    "test_gen = VideoDataGenerator(\n",
    "    videos=features_test,\n",
    "    labels=labels_test,\n",
    "    batch_size=4,  # Process all test samples at once\n",
    ")\n",
    "\n",
    "# Get predictions\n",
    "predictions = xlstm_model.predict(test_gen.as_dataset())\n",
    "predicted_classes = np.argmax(predictions, axis=1)\n",
    "true_classes = np.argmax(labels_test, axis=1)\n",
    "\n",
    "# Verify shapes\n",
    "print(f\"True classes shape: {true_classes.shape}\")\n",
    "print(f\"Predicted classes shape: {predicted_classes.shape}\")\n",
    "assert len(true_classes) == len(predicted_classes), \"Sample counts do not match!\"\n",
    "\n",
    "# Generate classification report\n",
    "print(\"Classification Report:\")\n",
    "print(classification_report(true_classes, predicted_classes, target_names=CLASSES_LIST))\n",
    "\n",
    "# Plot confusion matrix\n",
    "cm = confusion_matrix(true_classes, predicted_classes)\n",
    "plt.figure(figsize=(8, 6))\n",
    "sns.heatmap(cm, annot=True, fmt='d', cmap='Blues', xticklabels=CLASSES_LIST, yticklabels=CLASSES_LIST[-1])\n",
    "plt.xlabel('Predicted')\n",
    "plt.ylabel('True')\n",
    "plt.title('Confusion Matrix')\n",
    "plt.show()"
   ]
  }
 ],
 "metadata": {
  "kaggle": {
   "accelerator": "nvidiaTeslaT4",
   "dataSources": [
    {
     "datasetId": 1357563,
     "sourceId": 2256095,
     "sourceType": "datasetVersion"
    },
    {
     "datasetId": 7763484,
     "sourceId": 12338519,
     "sourceType": "datasetVersion"
    },
    {
     "datasetId": 7801555,
     "sourceId": 12373067,
     "sourceType": "datasetVersion"
    },
    {
     "datasetId": 7801884,
     "sourceId": 12373562,
     "sourceType": "datasetVersion"
    }
   ],
   "dockerImageVersionId": 31041,
   "isGpuEnabled": true,
   "isInternetEnabled": true,
   "language": "python",
   "sourceType": "notebook"
  },
  "kernelspec": {
   "display_name": "Python 3",
   "language": "python",
   "name": "python3"
  },
  "language_info": {
   "codemirror_mode": {
    "name": "ipython",
    "version": 3
   },
   "file_extension": ".py",
   "mimetype": "text/x-python",
   "name": "python",
   "nbconvert_exporter": "python",
   "pygments_lexer": "ipython3",
   "version": "3.11.11"
  },
  "papermill": {
   "default_parameters": {},
   "duration": 2423.54253,
   "end_time": "2025-07-06T16:38:47.726291",
   "environment_variables": {},
   "exception": null,
   "input_path": "__notebook__.ipynb",
   "output_path": "__notebook__.ipynb",
   "parameters": {},
   "start_time": "2025-07-06T15:58:24.183761",
   "version": "2.6.0"
  }
 },
 "nbformat": 4,
 "nbformat_minor": 5
}
