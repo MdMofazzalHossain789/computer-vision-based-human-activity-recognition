{
 "cells": [
  {
   "cell_type": "markdown",
   "id": "9d75c989",
   "metadata": {
    "papermill": {
     "duration": 0.011362,
     "end_time": "2025-07-06T16:54:59.140007",
     "exception": false,
     "start_time": "2025-07-06T16:54:59.128645",
     "status": "completed"
    },
    "tags": []
   },
   "source": [
    "# Initialization\n",
    "## Import Libraries"
   ]
  },
  {
   "cell_type": "code",
   "execution_count": 1,
   "id": "5be42da5",
   "metadata": {
    "execution": {
     "iopub.execute_input": "2025-07-06T16:54:59.161283Z",
     "iopub.status.busy": "2025-07-06T16:54:59.161055Z",
     "iopub.status.idle": "2025-07-06T16:55:15.485525Z",
     "shell.execute_reply": "2025-07-06T16:55:15.484581Z"
    },
    "papermill": {
     "duration": 16.336832,
     "end_time": "2025-07-06T16:55:15.486909",
     "exception": false,
     "start_time": "2025-07-06T16:54:59.150077",
     "status": "completed"
    },
    "tags": []
   },
   "outputs": [
    {
     "name": "stdout",
     "output_type": "stream",
     "text": [
      "Collecting mediapipe\r\n",
      "  Downloading mediapipe-0.10.21-cp311-cp311-manylinux_2_28_x86_64.whl.metadata (9.7 kB)\r\n",
      "Requirement already satisfied: absl-py in /usr/local/lib/python3.11/dist-packages (from mediapipe) (1.4.0)\r\n",
      "Requirement already satisfied: attrs>=19.1.0 in /usr/local/lib/python3.11/dist-packages (from mediapipe) (25.3.0)\r\n",
      "Requirement already satisfied: flatbuffers>=2.0 in /usr/local/lib/python3.11/dist-packages (from mediapipe) (25.2.10)\r\n",
      "Requirement already satisfied: jax in /usr/local/lib/python3.11/dist-packages (from mediapipe) (0.5.2)\r\n",
      "Requirement already satisfied: jaxlib in /usr/local/lib/python3.11/dist-packages (from mediapipe) (0.5.1)\r\n",
      "Requirement already satisfied: matplotlib in /usr/local/lib/python3.11/dist-packages (from mediapipe) (3.7.2)\r\n",
      "Requirement already satisfied: numpy<2 in /usr/local/lib/python3.11/dist-packages (from mediapipe) (1.26.4)\r\n",
      "Requirement already satisfied: opencv-contrib-python in /usr/local/lib/python3.11/dist-packages (from mediapipe) (4.11.0.86)\r\n",
      "Collecting protobuf<5,>=4.25.3 (from mediapipe)\r\n",
      "  Downloading protobuf-4.25.8-cp37-abi3-manylinux2014_x86_64.whl.metadata (541 bytes)\r\n",
      "Collecting sounddevice>=0.4.4 (from mediapipe)\r\n",
      "  Downloading sounddevice-0.5.2-py3-none-any.whl.metadata (1.6 kB)\r\n",
      "Requirement already satisfied: sentencepiece in /usr/local/lib/python3.11/dist-packages (from mediapipe) (0.2.0)\r\n",
      "Requirement already satisfied: mkl_fft in /usr/local/lib/python3.11/dist-packages (from numpy<2->mediapipe) (1.3.8)\r\n",
      "Requirement already satisfied: mkl_random in /usr/local/lib/python3.11/dist-packages (from numpy<2->mediapipe) (1.2.4)\r\n",
      "Requirement already satisfied: mkl_umath in /usr/local/lib/python3.11/dist-packages (from numpy<2->mediapipe) (0.1.1)\r\n",
      "Requirement already satisfied: mkl in /usr/local/lib/python3.11/dist-packages (from numpy<2->mediapipe) (2025.1.0)\r\n",
      "Requirement already satisfied: tbb4py in /usr/local/lib/python3.11/dist-packages (from numpy<2->mediapipe) (2022.1.0)\r\n",
      "Requirement already satisfied: mkl-service in /usr/local/lib/python3.11/dist-packages (from numpy<2->mediapipe) (2.4.1)\r\n",
      "Requirement already satisfied: CFFI>=1.0 in /usr/local/lib/python3.11/dist-packages (from sounddevice>=0.4.4->mediapipe) (1.17.1)\r\n",
      "Requirement already satisfied: ml_dtypes>=0.4.0 in /usr/local/lib/python3.11/dist-packages (from jax->mediapipe) (0.4.1)\r\n",
      "Requirement already satisfied: opt_einsum in /usr/local/lib/python3.11/dist-packages (from jax->mediapipe) (3.4.0)\r\n",
      "Requirement already satisfied: scipy>=1.11.1 in /usr/local/lib/python3.11/dist-packages (from jax->mediapipe) (1.15.2)\r\n",
      "Requirement already satisfied: contourpy>=1.0.1 in /usr/local/lib/python3.11/dist-packages (from matplotlib->mediapipe) (1.3.1)\r\n",
      "Requirement already satisfied: cycler>=0.10 in /usr/local/lib/python3.11/dist-packages (from matplotlib->mediapipe) (0.12.1)\r\n",
      "Requirement already satisfied: fonttools>=4.22.0 in /usr/local/lib/python3.11/dist-packages (from matplotlib->mediapipe) (4.57.0)\r\n",
      "Requirement already satisfied: kiwisolver>=1.0.1 in /usr/local/lib/python3.11/dist-packages (from matplotlib->mediapipe) (1.4.8)\r\n",
      "Requirement already satisfied: packaging>=20.0 in /usr/local/lib/python3.11/dist-packages (from matplotlib->mediapipe) (25.0)\r\n",
      "Requirement already satisfied: pillow>=6.2.0 in /usr/local/lib/python3.11/dist-packages (from matplotlib->mediapipe) (11.1.0)\r\n",
      "Requirement already satisfied: pyparsing<3.1,>=2.3.1 in /usr/local/lib/python3.11/dist-packages (from matplotlib->mediapipe) (3.0.9)\r\n",
      "Requirement already satisfied: python-dateutil>=2.7 in /usr/local/lib/python3.11/dist-packages (from matplotlib->mediapipe) (2.9.0.post0)\r\n",
      "Requirement already satisfied: pycparser in /usr/local/lib/python3.11/dist-packages (from CFFI>=1.0->sounddevice>=0.4.4->mediapipe) (2.22)\r\n",
      "Requirement already satisfied: six>=1.5 in /usr/local/lib/python3.11/dist-packages (from python-dateutil>=2.7->matplotlib->mediapipe) (1.17.0)\r\n",
      "Requirement already satisfied: intel-openmp<2026,>=2024 in /usr/local/lib/python3.11/dist-packages (from mkl->numpy<2->mediapipe) (2024.2.0)\r\n",
      "Requirement already satisfied: tbb==2022.* in /usr/local/lib/python3.11/dist-packages (from mkl->numpy<2->mediapipe) (2022.1.0)\r\n",
      "Requirement already satisfied: tcmlib==1.* in /usr/local/lib/python3.11/dist-packages (from tbb==2022.*->mkl->numpy<2->mediapipe) (1.3.0)\r\n",
      "Requirement already satisfied: intel-cmplr-lib-rt in /usr/local/lib/python3.11/dist-packages (from mkl_umath->numpy<2->mediapipe) (2024.2.0)\r\n",
      "Requirement already satisfied: intel-cmplr-lib-ur==2024.2.0 in /usr/local/lib/python3.11/dist-packages (from intel-openmp<2026,>=2024->mkl->numpy<2->mediapipe) (2024.2.0)\r\n",
      "Downloading mediapipe-0.10.21-cp311-cp311-manylinux_2_28_x86_64.whl (35.6 MB)\r\n",
      "\u001b[2K   \u001b[90m━━━━━━━━━━━━━━━━━━━━━━━━━━━━━━━━━━━━━━━━\u001b[0m \u001b[32m35.6/35.6 MB\u001b[0m \u001b[31m52.6 MB/s\u001b[0m eta \u001b[36m0:00:00\u001b[0m\r\n",
      "\u001b[?25hDownloading protobuf-4.25.8-cp37-abi3-manylinux2014_x86_64.whl (294 kB)\r\n",
      "\u001b[2K   \u001b[90m━━━━━━━━━━━━━━━━━━━━━━━━━━━━━━━━━━━━━━━━\u001b[0m \u001b[32m294.9/294.9 kB\u001b[0m \u001b[31m18.1 MB/s\u001b[0m eta \u001b[36m0:00:00\u001b[0m\r\n",
      "\u001b[?25hDownloading sounddevice-0.5.2-py3-none-any.whl (32 kB)\r\n",
      "Installing collected packages: protobuf, sounddevice, mediapipe\r\n",
      "  Attempting uninstall: protobuf\r\n",
      "    Found existing installation: protobuf 3.20.3\r\n",
      "    Uninstalling protobuf-3.20.3:\r\n",
      "      Successfully uninstalled protobuf-3.20.3\r\n",
      "\u001b[31mERROR: pip's dependency resolver does not currently take into account all the packages that are installed. This behaviour is the source of the following dependency conflicts.\r\n",
      "google-api-core 1.34.1 requires protobuf!=3.20.0,!=3.20.1,!=4.21.0,!=4.21.1,!=4.21.2,!=4.21.3,!=4.21.4,!=4.21.5,<4.0.0dev,>=3.19.5, but you have protobuf 4.25.8 which is incompatible.\r\n",
      "bigframes 1.42.0 requires rich<14,>=12.4.4, but you have rich 14.0.0 which is incompatible.\r\n",
      "google-spark-connect 0.5.2 requires google-api-core>=2.19.1, but you have google-api-core 1.34.1 which is incompatible.\r\n",
      "google-cloud-bigtable 2.30.0 requires google-api-core[grpc]<3.0.0,>=2.16.0, but you have google-api-core 1.34.1 which is incompatible.\r\n",
      "google-cloud-storage 2.19.0 requires google-api-core<3.0.0dev,>=2.15.0, but you have google-api-core 1.34.1 which is incompatible.\r\n",
      "pandas-gbq 0.28.0 requires google-api-core<3.0.0dev,>=2.10.2, but you have google-api-core 1.34.1 which is incompatible.\u001b[0m\u001b[31m\r\n",
      "\u001b[0mSuccessfully installed mediapipe-0.10.21 protobuf-4.25.8 sounddevice-0.5.2\r\n",
      "Note: you may need to restart the kernel to use updated packages.\n"
     ]
    }
   ],
   "source": [
    "pip install mediapipe"
   ]
  },
  {
   "cell_type": "code",
   "execution_count": 2,
   "id": "3505b349",
   "metadata": {
    "_cell_guid": "b1076dfc-b9ad-4769-8c92-a6c4dae69d19",
    "_uuid": "8f2839f25d086af736a60e9eeb907d3b93b6e0e5",
    "execution": {
     "iopub.execute_input": "2025-07-06T16:55:15.510206Z",
     "iopub.status.busy": "2025-07-06T16:55:15.509961Z",
     "iopub.status.idle": "2025-07-06T16:55:29.988393Z",
     "shell.execute_reply": "2025-07-06T16:55:29.987588Z"
    },
    "papermill": {
     "duration": 14.491287,
     "end_time": "2025-07-06T16:55:29.989905",
     "exception": false,
     "start_time": "2025-07-06T16:55:15.498618",
     "status": "completed"
    },
    "tags": []
   },
   "outputs": [
    {
     "name": "stderr",
     "output_type": "stream",
     "text": [
      "2025-07-06 16:55:17.061035: E external/local_xla/xla/stream_executor/cuda/cuda_fft.cc:477] Unable to register cuFFT factory: Attempting to register factory for plugin cuFFT when one has already been registered\n",
      "WARNING: All log messages before absl::InitializeLog() is called are written to STDERR\n",
      "E0000 00:00:1751820917.252084      19 cuda_dnn.cc:8310] Unable to register cuDNN factory: Attempting to register factory for plugin cuDNN when one has already been registered\n",
      "E0000 00:00:1751820917.306600      19 cuda_blas.cc:1418] Unable to register cuBLAS factory: Attempting to register factory for plugin cuBLAS when one has already been registered\n"
     ]
    }
   ],
   "source": [
    "# install librarires\n",
    "import os\n",
    "import tensorflow as tf\n",
    "import numpy as np\n",
    "import random"
   ]
  },
  {
   "cell_type": "markdown",
   "id": "df0dc035",
   "metadata": {
    "papermill": {
     "duration": 0.010611,
     "end_time": "2025-07-06T16:55:30.012259",
     "exception": false,
     "start_time": "2025-07-06T16:55:30.001648",
     "status": "completed"
    },
    "tags": []
   },
   "source": [
    "## ℹ️ Set Global Constants"
   ]
  },
  {
   "cell_type": "code",
   "execution_count": 3,
   "id": "5d72cf56",
   "metadata": {
    "execution": {
     "iopub.execute_input": "2025-07-06T16:55:30.034807Z",
     "iopub.status.busy": "2025-07-06T16:55:30.034377Z",
     "iopub.status.idle": "2025-07-06T16:55:30.050468Z",
     "shell.execute_reply": "2025-07-06T16:55:30.049695Z"
    },
    "papermill": {
     "duration": 0.028706,
     "end_time": "2025-07-06T16:55:30.051617",
     "exception": false,
     "start_time": "2025-07-06T16:55:30.022911",
     "status": "completed"
    },
    "tags": []
   },
   "outputs": [
    {
     "name": "stdout",
     "output_type": "stream",
     "text": [
      "Kard Kinect Activity Recognition Dataset\n",
      "There are total 18 classes, selected 18 classes\n",
      "Setting 30/class to train the model.\n",
      "Image size 128x128 with 5 sequence length\n",
      "Dropout rate: 0.5\n",
      "Train-Test split ratio 80/20\n",
      "Validation data from Train set 20.0%\n"
     ]
    }
   ],
   "source": [
    "# global variables\n",
    "# set dataset directories\n",
    "\n",
    "\n",
    "DATASET_DIR = \"/kaggle/input/kard-kinect-activity-recognition-dataset\"\n",
    "DATASET_NAME = DATASET_DIR.split(\"/\")[-1].replace(\"-\", \" \").title()\n",
    "\n",
    "print(DATASET_NAME)\n",
    "\n",
    "ALL_CLASS_NAMES = os.listdir(DATASET_DIR)\n",
    "\n",
    "# Global constant variables -> \n",
    "NO_OF_CLASSES = 18\n",
    "CLASSES_LIST = ALL_CLASS_NAMES[:NO_OF_CLASSES]\n",
    "\n",
    "# Model Configuration\n",
    "IMAGE_HEIGHT, IMAGE_WIDTH = 128, 128\n",
    "SEQUENCE_LENGTH = 5\n",
    "\n",
    "# set drop out rate\n",
    "DROPOUT_RATE = 0.5\n",
    "\n",
    "# set datas\n",
    "MAX_VIDEO_PER_CLASS = 30\n",
    "\n",
    "# split dataset\n",
    "TEST_SIZE = 0.20\n",
    "\n",
    "# model fit parameters\n",
    "EPOCHS = 30\n",
    "BATCH_SIZE = 16\n",
    "VALIDATION_SPLIT = 0.20\n",
    "\n",
    "# augmentation values\n",
    "NOISE_FACTOR = 0.02\n",
    "SHEAR_X= 1\n",
    "SHEAR_Y= 1\n",
    "\n",
    "# give a name of the model to save\n",
    "MODEL_NAME = \"Xception\"\n",
    "\n",
    "print(f\"There are total {len(ALL_CLASS_NAMES)} classes, selected {NO_OF_CLASSES} classes\")\n",
    "print(f\"Setting {MAX_VIDEO_PER_CLASS}/class to train the model.\")\n",
    "print(f\"Image size {IMAGE_HEIGHT}x{IMAGE_WIDTH} with {SEQUENCE_LENGTH} sequence length\")\n",
    "print(f\"Dropout rate: {DROPOUT_RATE}\")\n",
    "print(f\"Train-Test split ratio {int((1-TEST_SIZE)*100)}/{int(TEST_SIZE*100)}\")\n",
    "print(f\"Validation data from Train set {VALIDATION_SPLIT*100}%\")"
   ]
  },
  {
   "cell_type": "markdown",
   "id": "fff0c120",
   "metadata": {
    "papermill": {
     "duration": 0.01076,
     "end_time": "2025-07-06T16:55:30.073400",
     "exception": false,
     "start_time": "2025-07-06T16:55:30.062640",
     "status": "completed"
    },
    "tags": []
   },
   "source": [
    "## Set `Seed` Values"
   ]
  },
  {
   "cell_type": "code",
   "execution_count": 4,
   "id": "2c99f115",
   "metadata": {
    "execution": {
     "iopub.execute_input": "2025-07-06T16:55:30.095819Z",
     "iopub.status.busy": "2025-07-06T16:55:30.095614Z",
     "iopub.status.idle": "2025-07-06T16:55:30.099076Z",
     "shell.execute_reply": "2025-07-06T16:55:30.098520Z"
    },
    "papermill": {
     "duration": 0.015763,
     "end_time": "2025-07-06T16:55:30.100029",
     "exception": false,
     "start_time": "2025-07-06T16:55:30.084266",
     "status": "completed"
    },
    "tags": []
   },
   "outputs": [],
   "source": [
    "# set seeed to get similar values\n",
    "seed_constant = 27\n",
    "np.random.seed(seed_constant)\n",
    "random.seed(seed_constant)\n",
    "tf.random.set_seed(seed_constant)"
   ]
  },
  {
   "cell_type": "markdown",
   "id": "1a196c46",
   "metadata": {
    "papermill": {
     "duration": 0.010699,
     "end_time": "2025-07-06T16:55:30.121496",
     "exception": false,
     "start_time": "2025-07-06T16:55:30.110797",
     "status": "completed"
    },
    "tags": []
   },
   "source": [
    "# 📌 Function Definition\n",
    "## Resize and Frame Extraction"
   ]
  },
  {
   "cell_type": "code",
   "execution_count": 5,
   "id": "91ba8d52",
   "metadata": {
    "execution": {
     "iopub.execute_input": "2025-07-06T16:55:30.190702Z",
     "iopub.status.busy": "2025-07-06T16:55:30.190425Z",
     "iopub.status.idle": "2025-07-06T16:55:30.200442Z",
     "shell.execute_reply": "2025-07-06T16:55:30.199836Z"
    },
    "papermill": {
     "duration": 0.023012,
     "end_time": "2025-07-06T16:55:30.201615",
     "exception": false,
     "start_time": "2025-07-06T16:55:30.178603",
     "status": "completed"
    },
    "tags": []
   },
   "outputs": [],
   "source": [
    "import cv2\n",
    "from concurrent.futures import ThreadPoolExecutor\n",
    "\n",
    "def resize_and_normalize_frame(frame, image_height, image_width):\n",
    "    try:\n",
    "        resized_frame = cv2.resize(frame, (image_width, image_height), interpolation=cv2.INTER_LINEAR)\n",
    "        normalized_frame = resized_frame / 255.0\n",
    "        return normalized_frame\n",
    "    except Exception as e:\n",
    "        print(f\"Error processing frame: {e}\")\n",
    "        return None\n",
    "\n",
    "def frames_extraction(video_path, \n",
    "                      sequence_length=SEQUENCE_LENGTH, \n",
    "                      image_height=IMAGE_HEIGHT, \n",
    "                      image_width=IMAGE_WIDTH):\n",
    "    # Declare a list to store video frames\n",
    "    frames_list = []\n",
    "\n",
    "    # Check if video file exists\n",
    "    if not os.path.exists(video_path):\n",
    "        print(f\"Error: Video file not found at {video_path}\")\n",
    "        return None\n",
    "\n",
    "    # Read the video file using VideoCapture with optimized settings\n",
    "    video_reader = cv2.VideoCapture(video_path, cv2.CAP_FFMPEG)\n",
    "\n",
    "    # Check if the video was opened successfully\n",
    "    if not video_reader.isOpened():\n",
    "        print(f\"Error: Could not open video file {video_path}\")\n",
    "        video_reader.release()\n",
    "        return None\n",
    "\n",
    "    # Get the total number of frames in the video\n",
    "    video_frames_count = int(video_reader.get(cv2.CAP_PROP_FRAME_COUNT))\n",
    "\n",
    "    # Ensure the video has enough frames\n",
    "    if video_frames_count < sequence_length:\n",
    "        print(f\"Warning: Video {video_path} has only {video_frames_count} frames, less than required {sequence_length}\")\n",
    "        video_reader.release()\n",
    "        return None\n",
    "\n",
    "    # Calculate the interval after which frames will be sampled\n",
    "    skip_frames_window = max(int(video_frames_count / sequence_length), 1)\n",
    "\n",
    "    # Pre-allocate frame indices to extract\n",
    "    frame_indices = [i * skip_frames_window for i in range(sequence_length)]\n",
    "\n",
    "    # Read and process frames in parallel\n",
    "    frames = []\n",
    "    for idx in frame_indices:\n",
    "        video_reader.set(cv2.CAP_PROP_POS_FRAMES, idx)\n",
    "        success, frame = video_reader.read()\n",
    "        if not success or frame is None:\n",
    "            print(f\"Warning: Failed to read frame at index {idx} from {video_path}\")\n",
    "            break\n",
    "        frame = cv2.cvtColor(frame, cv2.COLOR_BGR2RGB)\n",
    "        frames.append(frame)\n",
    "\n",
    "    # Release the VideoCapture object early\n",
    "    video_reader.release()\n",
    "\n",
    "    # Ensure the correct number of frames is read\n",
    "    if len(frames) != sequence_length:\n",
    "        print(f\"Warning: Read {len(frames)} frames instead of {sequence_length} from {video_path}\")\n",
    "        return None\n",
    "\n",
    "    # Process frames in parallel using ThreadPoolExecutor\n",
    "    with ThreadPoolExecutor() as executor:\n",
    "        processed_frames = list(executor.map(\n",
    "            lambda f: resize_and_normalize_frame(f, image_height, image_width), \n",
    "            frames\n",
    "        ))\n",
    "\n",
    "    # Check for any failed frame processing\n",
    "    if any(f is None for f in processed_frames):\n",
    "        print(f\"Warning: Some frames failed to process in {video_path}\")\n",
    "        return None\n",
    "\n",
    "    # Convert to NumPy array\n",
    "    frames_array = np.array(processed_frames, dtype=np.float32)\n",
    "\n",
    "    return frames_array"
   ]
  },
  {
   "cell_type": "code",
   "execution_count": 6,
   "id": "73497af4",
   "metadata": {
    "execution": {
     "iopub.execute_input": "2025-07-06T16:55:30.224505Z",
     "iopub.status.busy": "2025-07-06T16:55:30.224284Z",
     "iopub.status.idle": "2025-07-06T16:55:30.227432Z",
     "shell.execute_reply": "2025-07-06T16:55:30.226878Z"
    },
    "papermill": {
     "duration": 0.015958,
     "end_time": "2025-07-06T16:55:30.228546",
     "exception": false,
     "start_time": "2025-07-06T16:55:30.212588",
     "status": "completed"
    },
    "tags": []
   },
   "outputs": [],
   "source": [
    " # # Iterate through all video files\n",
    " #        for file_name in files_list:\n",
    " #            video_file_path = os.path.join(class_path, file_name)\n",
    "\n",
    " #            # Extract frames using the updated frames_extraction function\n",
    " #            frames = frames_extraction(video_file_path, sequence_length, image_height, image_width)\n",
    "\n",
    " #            # Skip videos where frame extraction failed\n",
    " #            if frames is None:\n",
    " #                print(f\"Skipping video {video_file_path} due to frame extraction failure\")\n",
    " #                continue\n",
    "\n",
    " #            # Append the data to respective lists\n",
    " #            features.append(frames)\n",
    " #            labels.append(class_index)"
   ]
  },
  {
   "cell_type": "markdown",
   "id": "fb128b42",
   "metadata": {
    "papermill": {
     "duration": 0.010669,
     "end_time": "2025-07-06T16:55:30.250014",
     "exception": false,
     "start_time": "2025-07-06T16:55:30.239345",
     "status": "completed"
    },
    "tags": []
   },
   "source": [
    "## Create Dataset"
   ]
  },
  {
   "cell_type": "code",
   "execution_count": 7,
   "id": "1083644b",
   "metadata": {
    "execution": {
     "iopub.execute_input": "2025-07-06T16:55:30.272728Z",
     "iopub.status.busy": "2025-07-06T16:55:30.272528Z",
     "iopub.status.idle": "2025-07-06T16:55:30.279347Z",
     "shell.execute_reply": "2025-07-06T16:55:30.278682Z"
    },
    "papermill": {
     "duration": 0.019692,
     "end_time": "2025-07-06T16:55:30.280423",
     "exception": false,
     "start_time": "2025-07-06T16:55:30.260731",
     "status": "completed"
    },
    "tags": []
   },
   "outputs": [],
   "source": [
    "# RUN create dataset function definition\n",
    "def create_dataset(dataset_dir,\n",
    "                   classes_list, \n",
    "                   sequence_length=SEQUENCE_LENGTH, \n",
    "                   image_height=IMAGE_HEIGHT, \n",
    "                   image_width=IMAGE_WIDTH, \n",
    "                   max_videos_per_class=None,\n",
    "                   augmentations=False\n",
    "                  ):\n",
    "    \n",
    "    # Initialize lists to store features, labels, and video file paths\n",
    "    videos = []\n",
    "    labels = []\n",
    "\n",
    "    # Check if dataset directory exists\n",
    "    if not os.path.exists(dataset_dir):\n",
    "        raise FileNotFoundError(f\"Dataset directory not found: {dataset_dir}\")\n",
    "\n",
    "    # Iterate through all classes in the classes list\n",
    "    for class_index, class_name in enumerate(classes_list):\n",
    "        class_path = os.path.join(dataset_dir, class_name)\n",
    "        \n",
    "        # Check if class directory exists\n",
    "        if not os.path.exists(class_path):\n",
    "            print(f\"Warning: Class directory not found: {class_path}\")\n",
    "            continue\n",
    "\n",
    "        print(f'Class: {class_name}')\n",
    "\n",
    "        # Get the list of video files in the class directory\n",
    "        files_list = os.listdir(class_path)\n",
    "\n",
    "        # Limit the number of videos if specified\n",
    "        if max_videos_per_class is not None:\n",
    "            files_list = files_list[:max_videos_per_class]\n",
    "\n",
    "        # Iterate through all video files\n",
    "        for (index, file_name) in enumerate(files_list):\n",
    "            video_file_path = os.path.join(class_path, file_name)\n",
    "\n",
    "            if index == (len(files_list)-1):\n",
    "                print(f'Extracting frames from file {index+1}: {file_name}', flush=True)\n",
    "            else:\n",
    "                print(f'Extracting frames from file {index+1}: {file_name}', end=\"\\r\", flush=True)\n",
    "            \n",
    "            # Extract frames using the updated frames_extraction function\n",
    "            frames = frames_extraction(video_file_path, \n",
    "                                       sequence_length, \n",
    "                                       image_height, \n",
    "                                       image_width)\n",
    "\n",
    "            # Skip videos where frame extraction failed\n",
    "            if frames is None:\n",
    "                print(f\"Skipping video {video_file_path} due to frame extraction failure\")\n",
    "                continue\n",
    "\n",
    "            # Append the data to respective lists\n",
    "            videos.append(frames)\n",
    "            labels.append(class_index)\n",
    "\n",
    "    # Convert lists to numpy arrays\n",
    "    if not videos:\n",
    "        raise ValueError(\"No valid videos were processed. Check dataset or parameters.\")\n",
    "    videos = np.asarray(videos)\n",
    "    labels = np.array(labels)\n",
    "\n",
    "    print(f\"Dataset created with {len(videos)} videos\")\n",
    "    print(f\"Features shape: {videos.shape}\")\n",
    "    print(f\"Labels shape: {labels.shape}\")\n",
    "\n",
    "    return videos, labels"
   ]
  },
  {
   "cell_type": "markdown",
   "id": "6fd31db3",
   "metadata": {
    "papermill": {
     "duration": 0.010522,
     "end_time": "2025-07-06T16:55:30.301788",
     "exception": false,
     "start_time": "2025-07-06T16:55:30.291266",
     "status": "completed"
    },
    "tags": []
   },
   "source": [
    "## 🪄 Video Data Generator"
   ]
  },
  {
   "cell_type": "code",
   "execution_count": 8,
   "id": "bfe93935",
   "metadata": {
    "execution": {
     "iopub.execute_input": "2025-07-06T16:55:30.324632Z",
     "iopub.status.busy": "2025-07-06T16:55:30.324414Z",
     "iopub.status.idle": "2025-07-06T16:55:30.401356Z",
     "shell.execute_reply": "2025-07-06T16:55:30.400703Z"
    },
    "papermill": {
     "duration": 0.089679,
     "end_time": "2025-07-06T16:55:30.402579",
     "exception": false,
     "start_time": "2025-07-06T16:55:30.312900",
     "status": "completed"
    },
    "tags": []
   },
   "outputs": [],
   "source": [
    "from tensorflow.keras.utils import Sequence, to_categorical\n",
    "import tensorflow as tf\n",
    "import numpy as np\n",
    "import cv2\n",
    "\n",
    "\n",
    "\n",
    "\n",
    "class VideoDataGenerator(Sequence):\n",
    "    def __init__(self, videos, labels, batch_size, is_training=False):\n",
    "        self.videos = list(videos)  # List of video file paths\n",
    "        self.labels = list(labels)  # List or array of labels encoded\n",
    "        self.batch_size = batch_size\n",
    "        self.indices = np.arange(len(self.videos))  # For shuffling\n",
    "        self.is_training = is_training  # Flag to control whether augmentation is applied\n",
    "        self.temp_videos=[]\n",
    "        self.temp_labels=[]\n",
    "        \n",
    "        \n",
    "        print(f\"Total {len(videos)} videos and {len(labels)} classes\")\n",
    "\n",
    "    def __len__(self):\n",
    "        # Return the number of batches per epoch\n",
    "        return int(np.ceil(len(self.videos) / self.batch_size))\n",
    "\n",
    "    def __getitem__(self, idx):\n",
    "        # Get batch indices\n",
    "        batch_indices = self.indices[idx * self.batch_size:(idx + 1) * self.batch_size]\n",
    "        \n",
    "        # Handle case where batch_indices is empty\n",
    "        if len(batch_indices) == 0:\n",
    "            return np.array([], dtype=np.float32), np.array([], dtype=np.float32)\n",
    "        \n",
    "        # Initialize lists to store frames and labels\n",
    "        all_frames = []\n",
    "        all_labels = []\n",
    "        \n",
    "        # Process each video in the batch\n",
    "        for i, index in enumerate(batch_indices):\n",
    "            sequence = self.videos[index]\n",
    "            label = self.labels[index]\n",
    "            \n",
    "            # Append the sequence and label\n",
    "            all_frames.append(sequence)\n",
    "            all_labels.append(label)\n",
    "        \n",
    "        # Convert to numpy arrays\n",
    "        all_frames = np.array(all_frames, dtype=np.float32)\n",
    "        all_labels = np.array(all_labels)\n",
    "            \n",
    "        \n",
    "        return all_frames, all_labels\n",
    "    def add(self, new_videos, new_labels):\n",
    "        self.temp_videos.extend(new_videos)\n",
    "        self.temp_labels.extend(new_labels)\n",
    "    \n",
    "    def confirm(self):\n",
    "        self.videos.extend(self.temp_videos)\n",
    "        self.labels.extend(self.temp_labels)\n",
    "        print(f\"Successfully added - {len(self.temp_videos)} videos and {len(self.temp_labels)} classes.\")\n",
    "        self.temp_videos=[]\n",
    "        self.temp_labels=[]\n",
    "        self.indices = np.arange(len(self.videos))\n",
    "        print(f\"Now Total - {len(self.videos)} videos and {len(self.labels)} classes.\")\n",
    "        print(f\"PENDING for Augmentations - {len(self.temp_videos)} videos and {len(self.temp_labels)} classes.\")\n",
    "        \n",
    "    def replace_original(self):\n",
    "        self.videos=self.temp_videos\n",
    "        self.labels=self.temp_labels\n",
    "        self.temp_videos=[]\n",
    "        self.temp_labels=[]\n",
    "        print(f\"Successfully replaced, total original videos - {len(self.videos)} and augmented videos {len(self.temp_videos)}\")\n",
    "        \n",
    "    def on_epoch_end(self):\n",
    "        # Shuffle indices at the end of each epoch\n",
    "        np.random.shuffle(self.indices)\n",
    "\n",
    "    def as_dataset(self):\n",
    "        def generator():\n",
    "            for idx in range(len(self)):\n",
    "                frames, labels = self[idx]\n",
    "                # Skip empty batches\n",
    "                if frames.size == 0:\n",
    "                    continue\n",
    "                yield frames, labels\n",
    "        self.labels=np.array(self.labels)\n",
    "    \n",
    "        # Create a tf.data.Dataset\n",
    "        dataset = tf.data.Dataset.from_generator(\n",
    "            generator,\n",
    "            output_types=(tf.float32, tf.float32),\n",
    "            output_shapes=(\n",
    "                (None, SEQUENCE_LENGTH, IMAGE_HEIGHT, IMAGE_WIDTH, 3),\n",
    "                (None, NO_OF_CLASSES)\n",
    "            )\n",
    "        )\n",
    "        dataset = dataset.prefetch(tf.data.AUTOTUNE)\n",
    "        return dataset"
   ]
  },
  {
   "cell_type": "markdown",
   "id": "4beb7512",
   "metadata": {
    "papermill": {
     "duration": 0.010767,
     "end_time": "2025-07-06T16:55:30.424645",
     "exception": false,
     "start_time": "2025-07-06T16:55:30.413878",
     "status": "completed"
    },
    "tags": []
   },
   "source": [
    "## 🔥 Segmentation using N-Frames Ensemble"
   ]
  },
  {
   "cell_type": "code",
   "execution_count": 9,
   "id": "1cde3f72",
   "metadata": {
    "execution": {
     "iopub.execute_input": "2025-07-06T16:55:30.447507Z",
     "iopub.status.busy": "2025-07-06T16:55:30.447263Z",
     "iopub.status.idle": "2025-07-06T16:55:30.716223Z",
     "shell.execute_reply": "2025-07-06T16:55:30.715027Z"
    },
    "papermill": {
     "duration": 0.281937,
     "end_time": "2025-07-06T16:55:30.717486",
     "exception": false,
     "start_time": "2025-07-06T16:55:30.435549",
     "status": "completed"
    },
    "tags": []
   },
   "outputs": [
    {
     "name": "stdout",
     "output_type": "stream",
     "text": [
      "MediaPipe initialized successfully\n"
     ]
    },
    {
     "name": "stderr",
     "output_type": "stream",
     "text": [
      "INFO: Created TensorFlow Lite XNNPACK delegate for CPU.\n"
     ]
    }
   ],
   "source": [
    "import cv2\n",
    "import numpy as np\n",
    "from collections import deque\n",
    "import mediapipe as mp\n",
    "\n",
    "# Parameters\n",
    "N_FRAMES = 5  # Number of frames for ensemble\n",
    "THRESHOLD = 0.2  # Segmentation confidence threshold\n",
    "\n",
    "def initialize_segmentor():\n",
    "    \"\"\"Initialize MediaPipe Selfie Segmentation with error handling.\"\"\"\n",
    "    try:\n",
    "        mp_selfie_segmentation = mp.solutions.selfie_segmentation\n",
    "        segmentor = mp_selfie_segmentation.SelfieSegmentation(model_selection=1)  # 1 for general model\n",
    "        print(\"MediaPipe initialized successfully\")\n",
    "        return segmentor\n",
    "    except Exception as e:\n",
    "        print(f\"Failed to initialize MediaPipe: {e}\")\n",
    "        return None\n",
    "\n",
    "# Initialize segmentor\n",
    "segmentor = initialize_segmentor()\n",
    "\n",
    "\n",
    "def segmentation_frames(sequence):\n",
    "    \"\"\"Process a sequence of frames with N-frame ensemble segmentation.\"\"\"\n",
    "    # Input sequence: (sequence_length, height, width, 3), values in [0, 1]\n",
    "    sequence_length, height, width, _ = sequence.shape\n",
    "    segmented_sequence = np.zeros_like(sequence, dtype=np.float32)\n",
    "    \n",
    "    if segmentor is None:\n",
    "        print(\"Returning original sequence due to initialization failure\")\n",
    "        return sequence  # Fallback to original sequence\n",
    "    # Queue to store segmentation masks\n",
    "    mask_queue = deque(maxlen=N_FRAMES)\n",
    "    \n",
    "    # Kernel for morphological operations\n",
    "    kernel = cv2.getStructuringElement(cv2.MORPH_ELLIPSE, (5, 5))\n",
    "    \n",
    "    for t in range(sequence_length):\n",
    "        try:\n",
    "            # Convert frame to uint8 for MediaPipe\n",
    "            frame = (sequence[t] * 255).astype(np.uint8)\n",
    "            \n",
    "            # Process frame with MediaPipe\n",
    "            results = segmentor.process(frame)\n",
    "            if results.segmentation_mask is None:\n",
    "                print(f\"Warning: No mask returned for frame {t}\")\n",
    "                mask = np.zeros((height, width), dtype=np.float32)\n",
    "            else:\n",
    "                mask = results.segmentation_mask  # Shape: (height, width), values in [0, 1]\n",
    "            \n",
    "            # Add mask to queue\n",
    "            mask_queue.append(mask)\n",
    "            \n",
    "            # Compute ensemble mask by averaging (if enough frames)\n",
    "            ensemble_mask = np.mean(np.array(mask_queue), axis=0) if len(mask_queue) > 1 else mask\n",
    "            \n",
    "            # Binarize the ensemble mask\n",
    "            binary_mask = (ensemble_mask > THRESHOLD).astype(np.uint8)\n",
    "            \n",
    "            # Refine the mask using morphological operations\n",
    "            binary_mask = cv2.morphologyEx(binary_mask, cv2.MORPH_CLOSE, kernel)\n",
    "            binary_mask = cv2.morphologyEx(binary_mask, cv2.MORPH_OPEN, kernel)\n",
    "            \n",
    "            # Convert binary mask to 3 channels\n",
    "            mask_3ch = np.stack([binary_mask] * 3, axis=-1)  # Shape: (height, width, 3)\n",
    "            \n",
    "            # Apply mask to isolate human subject (set background to black)\n",
    "            segmented_frame = frame * mask_3ch\n",
    "            \n",
    "            # Normalize back to [0, 1]\n",
    "            segmented_sequence[t] = segmented_frame / 255.0\n",
    "        \n",
    "        except Exception as e:\n",
    "            print(f\"Error processing frame {t}: {e}\")\n",
    "            segmented_sequence[t] = sequence[t]  # Fallback to original frame\n",
    "    \n",
    "    return segmented_sequence"
   ]
  },
  {
   "cell_type": "markdown",
   "id": "9813aef1",
   "metadata": {
    "papermill": {
     "duration": 0.01153,
     "end_time": "2025-07-06T16:55:30.745949",
     "exception": false,
     "start_time": "2025-07-06T16:55:30.734419",
     "status": "completed"
    },
    "tags": []
   },
   "source": [
    "## 💫 Augmentation Helper function"
   ]
  },
  {
   "cell_type": "code",
   "execution_count": 10,
   "id": "08f3a65d",
   "metadata": {
    "execution": {
     "iopub.execute_input": "2025-07-06T16:55:30.775028Z",
     "iopub.status.busy": "2025-07-06T16:55:30.774650Z",
     "iopub.status.idle": "2025-07-06T16:55:30.781754Z",
     "shell.execute_reply": "2025-07-06T16:55:30.780756Z"
    },
    "papermill": {
     "duration": 0.021477,
     "end_time": "2025-07-06T16:55:30.782872",
     "exception": false,
     "start_time": "2025-07-06T16:55:30.761395",
     "status": "completed"
    },
    "tags": []
   },
   "outputs": [
    {
     "name": "stderr",
     "output_type": "stream",
     "text": [
      "WARNING: All log messages before absl::InitializeLog() is called are written to STDERR\n",
      "W0000 00:00:1751820930.720872      72 inference_feedback_manager.cc:114] Feedback manager requires a model with a single signature inference. Disabling support for feedback tensors.\n"
     ]
    }
   ],
   "source": [
    "def apply_augmentation(augmentation_function, generator, confirm=False, *args, **kwargs):\n",
    "    count=0\n",
    "    for i in range(len(generator)):\n",
    "        batch_videos, batch_labels = generator[i]\n",
    "        augmented_videos=[]\n",
    "        for videos in batch_videos:\n",
    "            count=count+1\n",
    "            augmented_videos.append(augmentation_function(videos, *args, **kwargs))\n",
    "            print(f\"Adding {count} new videos...\", end=\"\\r\", flush=True)\n",
    "        generator.add(augmented_videos, batch_labels)\n",
    "    \n",
    "    print(f\"Total {len(generator.temp_videos)} augmented videos generated\")\n",
    "    if confirm:\n",
    "        generator.confirm()\n",
    "    else:\n",
    "        print(\"Ready to be merged with original videos...\")"
   ]
  },
  {
   "cell_type": "markdown",
   "id": "7814c02e",
   "metadata": {
    "papermill": {
     "duration": 0.013912,
     "end_time": "2025-07-06T16:55:30.813679",
     "exception": false,
     "start_time": "2025-07-06T16:55:30.799767",
     "status": "completed"
    },
    "tags": []
   },
   "source": [
    "### Show Frames"
   ]
  },
  {
   "cell_type": "code",
   "execution_count": 11,
   "id": "2ba373c4",
   "metadata": {
    "execution": {
     "iopub.execute_input": "2025-07-06T16:55:30.842232Z",
     "iopub.status.busy": "2025-07-06T16:55:30.841551Z",
     "iopub.status.idle": "2025-07-06T16:55:30.845416Z",
     "shell.execute_reply": "2025-07-06T16:55:30.844877Z"
    },
    "papermill": {
     "duration": 0.017446,
     "end_time": "2025-07-06T16:55:30.846711",
     "exception": false,
     "start_time": "2025-07-06T16:55:30.829265",
     "status": "completed"
    },
    "tags": []
   },
   "outputs": [],
   "source": [
    "# show frame def\n",
    "import matplotlib.pyplot as plt\n",
    "\n",
    "def show_frame(frame):\n",
    "    plt.figure(figsize=(3,3))\n",
    "    plt.imshow(frame)\n",
    "    plt.axis(\"off\")\n",
    "    plt.tight_layout()"
   ]
  },
  {
   "cell_type": "markdown",
   "id": "5d4dd00f",
   "metadata": {
    "papermill": {
     "duration": 0.010893,
     "end_time": "2025-07-06T16:55:30.868906",
     "exception": false,
     "start_time": "2025-07-06T16:55:30.858013",
     "status": "completed"
    },
    "tags": []
   },
   "source": [
    "### Helper Function"
   ]
  },
  {
   "cell_type": "code",
   "execution_count": 12,
   "id": "16f6aebf",
   "metadata": {
    "execution": {
     "iopub.execute_input": "2025-07-06T16:55:30.891973Z",
     "iopub.status.busy": "2025-07-06T16:55:30.891727Z",
     "iopub.status.idle": "2025-07-06T16:55:30.896084Z",
     "shell.execute_reply": "2025-07-06T16:55:30.895522Z"
    },
    "papermill": {
     "duration": 0.017228,
     "end_time": "2025-07-06T16:55:30.897117",
     "exception": false,
     "start_time": "2025-07-06T16:55:30.879889",
     "status": "completed"
    },
    "tags": []
   },
   "outputs": [],
   "source": [
    "def show_frame_vs(frame1, frame2, title1=\"Frame 1\", title2=\"Frame 2\"):\n",
    "    plt.figure(figsize=(10, 5))\n",
    "\n",
    "    # First frame\n",
    "    plt.subplot(1, 2, 1)\n",
    "    plt.imshow(frame1)\n",
    "    plt.title(title1)\n",
    "    plt.axis('off')\n",
    "\n",
    "    # Second frame\n",
    "    plt.subplot(1, 2, 2)\n",
    "    plt.imshow(frame2)\n",
    "    plt.title(title2)\n",
    "    plt.axis('off')\n",
    "\n",
    "    plt.tight_layout()\n",
    "    plt.show()"
   ]
  },
  {
   "cell_type": "code",
   "execution_count": 13,
   "id": "0e3ad91e",
   "metadata": {
    "execution": {
     "iopub.execute_input": "2025-07-06T16:55:30.920526Z",
     "iopub.status.busy": "2025-07-06T16:55:30.920334Z",
     "iopub.status.idle": "2025-07-06T16:55:30.923792Z",
     "shell.execute_reply": "2025-07-06T16:55:30.923278Z"
    },
    "papermill": {
     "duration": 0.016565,
     "end_time": "2025-07-06T16:55:30.924840",
     "exception": false,
     "start_time": "2025-07-06T16:55:30.908275",
     "status": "completed"
    },
    "tags": []
   },
   "outputs": [],
   "source": [
    "# reusable video loop helper function\n",
    "def apply_function(function, videos, *arg, **kwargs):\n",
    "    new_videos=[]\n",
    "    \n",
    "    for video in videos:\n",
    "        new_videos.append(function(video, *arg, **kwargs))\n",
    "        \n",
    "    return new_videos"
   ]
  },
  {
   "cell_type": "code",
   "execution_count": 14,
   "id": "4ab339b7",
   "metadata": {
    "execution": {
     "iopub.execute_input": "2025-07-06T16:55:30.948353Z",
     "iopub.status.busy": "2025-07-06T16:55:30.948114Z",
     "iopub.status.idle": "2025-07-06T16:55:30.952073Z",
     "shell.execute_reply": "2025-07-06T16:55:30.951561Z"
    },
    "papermill": {
     "duration": 0.016645,
     "end_time": "2025-07-06T16:55:30.953094",
     "exception": false,
     "start_time": "2025-07-06T16:55:30.936449",
     "status": "completed"
    },
    "tags": []
   },
   "outputs": [],
   "source": [
    "# reusable video loop helper function\n",
    "def apply(function, videos, labels, *arg, **kwargs):\n",
    "    new_videos=[]\n",
    "    new_labels=[]\n",
    "    combined=zip(labels, videos)\n",
    "    \n",
    "    for label, video in combined:\n",
    "        new_videos.append(function(video, *arg, **kwargs))\n",
    "        new_labels.append(label)\n",
    "        \n",
    "    new_videos=np.asarray(new_videos)\n",
    "    new_labels=np.asarray(new_labels)\n",
    "    \n",
    "    return new_videos, new_labels"
   ]
  },
  {
   "cell_type": "markdown",
   "id": "e700fc2f",
   "metadata": {
    "papermill": {
     "duration": 0.011031,
     "end_time": "2025-07-06T16:55:30.975692",
     "exception": false,
     "start_time": "2025-07-06T16:55:30.964661",
     "status": "completed"
    },
    "tags": []
   },
   "source": [
    "## Salt and Pepper Noise "
   ]
  },
  {
   "cell_type": "code",
   "execution_count": 15,
   "id": "4fd4dbb8",
   "metadata": {
    "execution": {
     "iopub.execute_input": "2025-07-06T16:55:30.999934Z",
     "iopub.status.busy": "2025-07-06T16:55:30.999200Z",
     "iopub.status.idle": "2025-07-06T16:55:31.004017Z",
     "shell.execute_reply": "2025-07-06T16:55:31.003432Z"
    },
    "papermill": {
     "duration": 0.017952,
     "end_time": "2025-07-06T16:55:31.005010",
     "exception": false,
     "start_time": "2025-07-06T16:55:30.987058",
     "status": "completed"
    },
    "tags": []
   },
   "outputs": [],
   "source": [
    "# Noise function def\n",
    "\n",
    "def noise_video(video,noise_factor=NOISE_FACTOR):\n",
    "    noisy_video=[]\n",
    "    for frame in video:\n",
    "        # Generate random noise\n",
    "        noise = np.random.rand(*frame.shape)  # Generate random noise\n",
    "        salt_pepper_noise = np.random.choice([0, 1], size=frame.shape, p=[1-noise_factor, noise_factor])\n",
    "        noisy_frame = frame * (1 - salt_pepper_noise) + salt_pepper_noise * np.random.rand(*frame.shape)\n",
    "        noisy_video.append(noisy_frame)\n",
    "    return np.array(noisy_video)"
   ]
  },
  {
   "cell_type": "markdown",
   "id": "a829503e",
   "metadata": {
    "papermill": {
     "duration": 0.011576,
     "end_time": "2025-07-06T16:55:31.028020",
     "exception": false,
     "start_time": "2025-07-06T16:55:31.016444",
     "status": "completed"
    },
    "tags": []
   },
   "source": [
    "## Horizontal Flip"
   ]
  },
  {
   "cell_type": "code",
   "execution_count": 16,
   "id": "559073ff",
   "metadata": {
    "execution": {
     "iopub.execute_input": "2025-07-06T16:55:31.051025Z",
     "iopub.status.busy": "2025-07-06T16:55:31.050749Z",
     "iopub.status.idle": "2025-07-06T16:55:31.054429Z",
     "shell.execute_reply": "2025-07-06T16:55:31.053732Z"
    },
    "papermill": {
     "duration": 0.016615,
     "end_time": "2025-07-06T16:55:31.055611",
     "exception": false,
     "start_time": "2025-07-06T16:55:31.038996",
     "status": "completed"
    },
    "tags": []
   },
   "outputs": [],
   "source": [
    "# horizontal flip function def\n",
    "# Testing Flip feautes[0] -> first video\n",
    "def horizontal_flip(video):\n",
    "    return [tf.image.flip_left_right(frame) for frame in video]"
   ]
  },
  {
   "cell_type": "markdown",
   "id": "2e0a264a",
   "metadata": {
    "papermill": {
     "duration": 0.011132,
     "end_time": "2025-07-06T16:55:31.077886",
     "exception": false,
     "start_time": "2025-07-06T16:55:31.066754",
     "status": "completed"
    },
    "tags": []
   },
   "source": [
    "## Random Shear"
   ]
  },
  {
   "cell_type": "code",
   "execution_count": 17,
   "id": "330be355",
   "metadata": {
    "execution": {
     "iopub.execute_input": "2025-07-06T16:55:31.101216Z",
     "iopub.status.busy": "2025-07-06T16:55:31.100961Z",
     "iopub.status.idle": "2025-07-06T16:55:31.106705Z",
     "shell.execute_reply": "2025-07-06T16:55:31.106183Z"
    },
    "papermill": {
     "duration": 0.018503,
     "end_time": "2025-07-06T16:55:31.107791",
     "exception": false,
     "start_time": "2025-07-06T16:55:31.089288",
     "status": "completed"
    },
    "tags": []
   },
   "outputs": [],
   "source": [
    "# random shear function def\n",
    "import numpy as np\n",
    "import tensorflow as tf\n",
    "from scipy.ndimage import affine_transform\n",
    "\n",
    "def apply_shear_frames(frames, shear_right):\n",
    "    return [apply_shear(frame, shear_right) for frame in frames]\n",
    "\n",
    "def apply_shear(frame, shear_right=0):\n",
    "    frame_resized = tf.image.resize(frame, (IMAGE_HEIGHT, IMAGE_WIDTH)).numpy()\n",
    "    if shear_right:\n",
    "        shear_x = 0.09\n",
    "        shear_y = 0.1\n",
    "    else:\n",
    "        shear_x = -0.09\n",
    "        shear_y = 0.3\n",
    "    # Construct the affine matrix for scipy: inverse of the transformation matrix\n",
    "    # scipy applies the inverse transform matrix\n",
    "    shear_matrix = np.array([\n",
    "        [1, shear_x, 0],\n",
    "        [shear_y, 1, 0],\n",
    "        [0, 0, 1]\n",
    "    ], dtype=np.float32)\n",
    "\n",
    "    # Extract 2x2 part for affine_transform\n",
    "    matrix = shear_matrix[:2, :2]\n",
    "\n",
    "    # Offset (no translation)\n",
    "    offset = [0, 0]\n",
    "\n",
    "    # Apply affine transform on each channel separately\n",
    "    sheared = np.zeros_like(frame_resized)\n",
    "    for c in range(3):\n",
    "        sheared[..., c] = affine_transform(\n",
    "            frame_resized[..., c],\n",
    "            matrix=matrix,\n",
    "            offset=offset,\n",
    "            order=1,          # bilinear interpolation\n",
    "            mode='nearest'    # fill_mode\n",
    "        )\n",
    "    return sheared"
   ]
  },
  {
   "cell_type": "markdown",
   "id": "956f3c20",
   "metadata": {
    "papermill": {
     "duration": 0.010939,
     "end_time": "2025-07-06T16:55:31.130077",
     "exception": false,
     "start_time": "2025-07-06T16:55:31.119138",
     "status": "completed"
    },
    "tags": []
   },
   "source": [
    "# 📌 Model Related\n",
    "## 🗼 Model Architecture `create_model`"
   ]
  },
  {
   "cell_type": "code",
   "execution_count": 18,
   "id": "259a7d7e",
   "metadata": {
    "execution": {
     "iopub.execute_input": "2025-07-06T16:55:31.153371Z",
     "iopub.status.busy": "2025-07-06T16:55:31.153094Z",
     "iopub.status.idle": "2025-07-06T16:55:31.164837Z",
     "shell.execute_reply": "2025-07-06T16:55:31.164363Z"
    },
    "papermill": {
     "duration": 0.024674,
     "end_time": "2025-07-06T16:55:31.165874",
     "exception": false,
     "start_time": "2025-07-06T16:55:31.141200",
     "status": "completed"
    },
    "tags": []
   },
   "outputs": [],
   "source": [
    "from tensorflow.keras.applications import Xception\n",
    "from tensorflow.keras.models import Sequential\n",
    "from tensorflow.keras.layers import GlobalAveragePooling2D, TimeDistributed, Bidirectional, LSTM, Dropout, Dense, BatchNormalization\n",
    "from tensorflow.keras.regularizers import l2\n",
    "\n",
    "def create_model(sequence_length, image_height, image_width, classes_list=None, dropout_rate=0.5):\n",
    "    if classes_list is None:\n",
    "        raise ValueError(\"classes_list must be provided to define the output layer size\")\n",
    "\n",
    "    try:\n",
    "        # Load Xception model with pre-trained ImageNet weights\n",
    "        print(\"Loading Xception base model...\")\n",
    "        xception = Xception(\n",
    "            weights='imagenet',\n",
    "            include_top=False,\n",
    "            input_shape=(image_height, image_width, 3),\n",
    "            name=\"Xception\"\n",
    "        )\n",
    "        \n",
    "        # Define the Sequential model\n",
    "        model = Sequential([\n",
    "            # TimeDistributed Xception model\n",
    "            TimeDistributed(\n",
    "                xception,\n",
    "                input_shape=(sequence_length, image_height, image_width, 3),\n",
    "                name=\"time_distributed\"\n",
    "            ),\n",
    "            # TimeDistributed GlobalAveragePooling2D\n",
    "            TimeDistributed(GlobalAveragePooling2D(), name=\"time_distributed_1\"),\n",
    "            # Bidirectional LSTM layer with 256 units (512 / 2 to maintain similar parameter count)\n",
    "            Bidirectional(\n",
    "                LSTM(256, activation=\"tanh\", return_sequences=False, kernel_regularizer=l2(0.01)),\n",
    "                name=\"bilstm\"\n",
    "            ),\n",
    "            BatchNormalization(name=\"batch_normalization\"),\n",
    "            # Dropout after BiLSTM\n",
    "            Dropout(dropout_rate, name=\"dropout_bilstm\"),\n",
    "            # Dense layer with 512 units\n",
    "            Dense(512, activation=\"relu\", kernel_regularizer=l2(0.01), name=\"dense\"),\n",
    "            # Dropout after Dense\n",
    "            Dropout(dropout_rate + 0.1, name=\"dropout_dense\"),\n",
    "            # Output Dense layer with softmax activation\n",
    "            Dense(len(classes_list), activation=\"softmax\", name=\"dense_1\")\n",
    "        ])\n",
    "\n",
    "        # Print model summary\n",
    "        print(\"Model architecture with BiLSTM created successfully!\")\n",
    "        model.summary()\n",
    "\n",
    "        return model\n",
    "\n",
    "    except Exception as e:\n",
    "        print(f\"Error creating model: {e}\")\n",
    "        return None"
   ]
  },
  {
   "cell_type": "code",
   "execution_count": 19,
   "id": "81b10673",
   "metadata": {
    "execution": {
     "iopub.execute_input": "2025-07-06T16:55:31.189072Z",
     "iopub.status.busy": "2025-07-06T16:55:31.188872Z",
     "iopub.status.idle": "2025-07-06T16:55:35.022652Z",
     "shell.execute_reply": "2025-07-06T16:55:35.021804Z"
    },
    "papermill": {
     "duration": 3.846638,
     "end_time": "2025-07-06T16:55:35.023835",
     "exception": false,
     "start_time": "2025-07-06T16:55:31.177197",
     "status": "completed"
    },
    "tags": []
   },
   "outputs": [
    {
     "name": "stdout",
     "output_type": "stream",
     "text": [
      "Pre-loading Xception weights...\n"
     ]
    },
    {
     "name": "stderr",
     "output_type": "stream",
     "text": [
      "I0000 00:00:1751820932.358695      19 gpu_device.cc:2022] Created device /job:localhost/replica:0/task:0/device:GPU:0 with 13942 MB memory:  -> device: 0, name: Tesla T4, pci bus id: 0000:00:04.0, compute capability: 7.5\n",
      "I0000 00:00:1751820932.359472      19 gpu_device.cc:2022] Created device /job:localhost/replica:0/task:0/device:GPU:1 with 13942 MB memory:  -> device: 1, name: Tesla T4, pci bus id: 0000:00:05.0, compute capability: 7.5\n"
     ]
    },
    {
     "name": "stdout",
     "output_type": "stream",
     "text": [
      "Downloading data from https://storage.googleapis.com/tensorflow/keras-applications/xception/xception_weights_tf_dim_ordering_tf_kernels_notop.h5\n",
      "\u001b[1m83683744/83683744\u001b[0m \u001b[32m━━━━━━━━━━━━━━━━━━━━\u001b[0m\u001b[37m\u001b[0m \u001b[1m0s\u001b[0m 0us/step\n",
      "Weights loaded successfully!\n"
     ]
    }
   ],
   "source": [
    "# donwload model weights\n",
    "from tensorflow.keras.applications import Xception\n",
    "print(\"Pre-loading Xception weights...\")\n",
    "base_model = Xception(weights='imagenet', include_top=False, input_shape=(IMAGE_HEIGHT, IMAGE_WIDTH, 3))\n",
    "print(\"Weights loaded successfully!\")"
   ]
  },
  {
   "cell_type": "markdown",
   "id": "7cba9df1",
   "metadata": {
    "papermill": {
     "duration": 0.011305,
     "end_time": "2025-07-06T16:55:35.047604",
     "exception": false,
     "start_time": "2025-07-06T16:55:35.036299",
     "status": "completed"
    },
    "tags": []
   },
   "source": [
    "# 📌 Execution\n",
    "## Creating Dataset\n",
    "The following functions are executed\n",
    "- `frame extraction`\n",
    "- `resize`\n",
    "\n",
    "which returns:\n",
    "- `features` - `np.array` of all the videos\n",
    "- `labels` - `np.array` of all the class labels"
   ]
  },
  {
   "cell_type": "code",
   "execution_count": 20,
   "id": "6169f359",
   "metadata": {
    "execution": {
     "iopub.execute_input": "2025-07-06T16:55:35.072183Z",
     "iopub.status.busy": "2025-07-06T16:55:35.071608Z",
     "iopub.status.idle": "2025-07-06T16:57:08.632233Z",
     "shell.execute_reply": "2025-07-06T16:57:08.631432Z"
    },
    "papermill": {
     "duration": 93.573819,
     "end_time": "2025-07-06T16:57:08.633513",
     "exception": false,
     "start_time": "2025-07-06T16:55:35.059694",
     "status": "completed"
    },
    "tags": []
   },
   "outputs": [
    {
     "name": "stdout",
     "output_type": "stream",
     "text": [
      "Class: Catch Cap\n",
      "Extracting frames from file 30: a04_s04_e03.mp4\n",
      "Class: Drink\n",
      "Extracting frames from file 30: a16_s08_e03.mp4\n",
      "Class: Sit down\n",
      "Extracting frames from file 30: a17_s04_e03.mp4\n",
      "Class: Draw Tick\n",
      "Extracting frames from file 30: a07_s07_e01.mp4\n",
      "Class: Phone Call\n",
      "Extracting frames from file 30: a15_s10_e03.mp4\n",
      "Class: Horizontal arm wave\n",
      "Extracting frames from file 30: a01_s10_e03.mp4\n",
      "Class: Hand Clap\n",
      "Extracting frames from file 30: a13_s08_e03.mp4\n",
      "Class: High throw\n",
      "Extracting frames from file 30: a05_s06_e01.mp4\n",
      "Class: Forward Kick\n",
      "Extracting frames from file 30: a09_s08_e01.mp4\n",
      "Class: Stand up\n",
      "Extracting frames from file 30: a18_s09_e03.mp4\n",
      "Class: Two hand wave\n",
      "Extracting frames from file 30: a03_s06_e03.mp4\n",
      "Class: Toss Paper\n",
      "Extracting frames from file 30: a08_s04_e02.mp4\n",
      "Class: Walk\n",
      "Extracting frames from file 30: a14_s04_e01.mp4\n",
      "Class: Side Kick\n",
      "Extracting frames from file 30: a10_s07_e03.mp4\n",
      "Class: Bend\n",
      "Extracting frames from file 30: a12_s01_e02.mp4\n",
      "Class: Take Umbrella\n",
      "Extracting frames from file 30: a11_s06_e01.mp4\n",
      "Class: High arm wave\n",
      "Extracting frames from file 30: a02_s09_e01.mp4\n",
      "Class: Draw X\n",
      "Extracting frames from file 30: a06_s01_e02.mp4\n",
      "Dataset created with 540 videos\n",
      "Features shape: (540, 5, 128, 128, 3)\n",
      "Labels shape: (540,)\n"
     ]
    },
    {
     "data": {
      "text/plain": [
       "((540, 5, 128, 128, 3), (540,))"
      ]
     },
     "execution_count": 20,
     "metadata": {},
     "output_type": "execute_result"
    }
   ],
   "source": [
    "# RUN Create the dataset with explicit parameters\n",
    "try:\n",
    "    videos, labels = create_dataset(\n",
    "        dataset_dir=DATASET_DIR,\n",
    "        classes_list=CLASSES_LIST,\n",
    "        sequence_length=SEQUENCE_LENGTH,\n",
    "        image_height=IMAGE_HEIGHT,\n",
    "        image_width=IMAGE_WIDTH,\n",
    "        # Limit to 10 videos per class to manage memory\n",
    "        augmentations=True,\n",
    "        max_videos_per_class=MAX_VIDEO_PER_CLASS\n",
    "    )\n",
    "except FileNotFoundError as e:\n",
    "    print(f\"Error: {e}\")\n",
    "except ValueError as e:\n",
    "    print(f\"Error: {e}\")\n",
    "except Exception as e:\n",
    "    print(f\"Unexpected error: {e}\")\n",
    "\n",
    "videos.shape, labels.shape"
   ]
  },
  {
   "cell_type": "code",
   "execution_count": 21,
   "id": "45686197",
   "metadata": {
    "execution": {
     "iopub.execute_input": "2025-07-06T16:57:08.699233Z",
     "iopub.status.busy": "2025-07-06T16:57:08.698782Z",
     "iopub.status.idle": "2025-07-06T16:57:08.702781Z",
     "shell.execute_reply": "2025-07-06T16:57:08.702014Z"
    },
    "papermill": {
     "duration": 0.037648,
     "end_time": "2025-07-06T16:57:08.703896",
     "exception": false,
     "start_time": "2025-07-06T16:57:08.666248",
     "status": "completed"
    },
    "tags": []
   },
   "outputs": [
    {
     "name": "stdout",
     "output_type": "stream",
     "text": [
      "Total 540 videos and 540 classes\n"
     ]
    }
   ],
   "source": [
    "video_generator = VideoDataGenerator(\n",
    "    videos=videos,\n",
    "    labels=labels,\n",
    "    batch_size=BATCH_SIZE\n",
    ")"
   ]
  },
  {
   "cell_type": "code",
   "execution_count": 22,
   "id": "1fa87bee",
   "metadata": {
    "execution": {
     "iopub.execute_input": "2025-07-06T16:57:08.769765Z",
     "iopub.status.busy": "2025-07-06T16:57:08.769105Z",
     "iopub.status.idle": "2025-07-06T16:57:08.777514Z",
     "shell.execute_reply": "2025-07-06T16:57:08.776822Z"
    },
    "papermill": {
     "duration": 0.041748,
     "end_time": "2025-07-06T16:57:08.778624",
     "exception": false,
     "start_time": "2025-07-06T16:57:08.736876",
     "status": "completed"
    },
    "tags": []
   },
   "outputs": [
    {
     "data": {
      "text/plain": [
       "((16, 5, 128, 128, 3), (16,))"
      ]
     },
     "execution_count": 22,
     "metadata": {},
     "output_type": "execute_result"
    }
   ],
   "source": [
    "videos, labels = video_generator[0]\n",
    "\n",
    "videos.shape, labels.shape"
   ]
  },
  {
   "cell_type": "code",
   "execution_count": 23,
   "id": "ba59ccd3",
   "metadata": {
    "execution": {
     "iopub.execute_input": "2025-07-06T16:57:08.843390Z",
     "iopub.status.busy": "2025-07-06T16:57:08.843117Z",
     "iopub.status.idle": "2025-07-06T16:57:08.847357Z",
     "shell.execute_reply": "2025-07-06T16:57:08.846801Z"
    },
    "papermill": {
     "duration": 0.037529,
     "end_time": "2025-07-06T16:57:08.848316",
     "exception": false,
     "start_time": "2025-07-06T16:57:08.810787",
     "status": "completed"
    },
    "tags": []
   },
   "outputs": [
    {
     "data": {
      "text/plain": [
       "540"
      ]
     },
     "execution_count": 23,
     "metadata": {},
     "output_type": "execute_result"
    }
   ],
   "source": [
    "len(video_generator.videos) "
   ]
  },
  {
   "cell_type": "code",
   "execution_count": 24,
   "id": "6e8b9646",
   "metadata": {
    "execution": {
     "iopub.execute_input": "2025-07-06T16:57:08.915411Z",
     "iopub.status.busy": "2025-07-06T16:57:08.915240Z",
     "iopub.status.idle": "2025-07-06T16:57:08.919130Z",
     "shell.execute_reply": "2025-07-06T16:57:08.918587Z"
    },
    "papermill": {
     "duration": 0.03969,
     "end_time": "2025-07-06T16:57:08.920207",
     "exception": false,
     "start_time": "2025-07-06T16:57:08.880517",
     "status": "completed"
    },
    "tags": []
   },
   "outputs": [
    {
     "data": {
      "text/plain": [
       "34"
      ]
     },
     "execution_count": 24,
     "metadata": {},
     "output_type": "execute_result"
    }
   ],
   "source": [
    "len(video_generator)"
   ]
  },
  {
   "cell_type": "code",
   "execution_count": 25,
   "id": "f1fabca2",
   "metadata": {
    "execution": {
     "iopub.execute_input": "2025-07-06T16:57:08.984403Z",
     "iopub.status.busy": "2025-07-06T16:57:08.984232Z",
     "iopub.status.idle": "2025-07-06T16:57:20.897855Z",
     "shell.execute_reply": "2025-07-06T16:57:20.896949Z"
    },
    "papermill": {
     "duration": 11.947016,
     "end_time": "2025-07-06T16:57:20.899026",
     "exception": false,
     "start_time": "2025-07-06T16:57:08.952010",
     "status": "completed"
    },
    "tags": []
   },
   "outputs": [
    {
     "name": "stdout",
     "output_type": "stream",
     "text": [
      "Total 540 augmented videos generated\n",
      "Ready to be merged with original videos...\n"
     ]
    }
   ],
   "source": [
    "apply_augmentation(segmentation_frames, video_generator)"
   ]
  },
  {
   "cell_type": "code",
   "execution_count": 26,
   "id": "48b35c7f",
   "metadata": {
    "execution": {
     "iopub.execute_input": "2025-07-06T16:57:21.010484Z",
     "iopub.status.busy": "2025-07-06T16:57:21.010211Z",
     "iopub.status.idle": "2025-07-06T16:57:21.014779Z",
     "shell.execute_reply": "2025-07-06T16:57:21.014184Z"
    },
    "papermill": {
     "duration": 0.060449,
     "end_time": "2025-07-06T16:57:21.015814",
     "exception": false,
     "start_time": "2025-07-06T16:57:20.955365",
     "status": "completed"
    },
    "tags": []
   },
   "outputs": [
    {
     "data": {
      "text/plain": [
       "(540, 540)"
      ]
     },
     "execution_count": 26,
     "metadata": {},
     "output_type": "execute_result"
    }
   ],
   "source": [
    "len(video_generator.temp_videos), len(video_generator.videos)"
   ]
  },
  {
   "cell_type": "code",
   "execution_count": 27,
   "id": "ef3f053f",
   "metadata": {
    "execution": {
     "iopub.execute_input": "2025-07-06T16:57:21.128712Z",
     "iopub.status.busy": "2025-07-06T16:57:21.128016Z",
     "iopub.status.idle": "2025-07-06T16:57:21.133946Z",
     "shell.execute_reply": "2025-07-06T16:57:21.133184Z"
    },
    "papermill": {
     "duration": 0.061757,
     "end_time": "2025-07-06T16:57:21.135183",
     "exception": false,
     "start_time": "2025-07-06T16:57:21.073426",
     "status": "completed"
    },
    "tags": []
   },
   "outputs": [
    {
     "name": "stdout",
     "output_type": "stream",
     "text": [
      "Successfully replaced, total original videos - 540 and augmented videos 0\n"
     ]
    }
   ],
   "source": [
    "video_generator.replace_original()"
   ]
  },
  {
   "cell_type": "code",
   "execution_count": 28,
   "id": "8e821040",
   "metadata": {
    "execution": {
     "iopub.execute_input": "2025-07-06T16:57:21.245815Z",
     "iopub.status.busy": "2025-07-06T16:57:21.245529Z",
     "iopub.status.idle": "2025-07-06T16:57:21.250093Z",
     "shell.execute_reply": "2025-07-06T16:57:21.249539Z"
    },
    "papermill": {
     "duration": 0.062066,
     "end_time": "2025-07-06T16:57:21.251246",
     "exception": false,
     "start_time": "2025-07-06T16:57:21.189180",
     "status": "completed"
    },
    "tags": []
   },
   "outputs": [
    {
     "data": {
      "text/plain": [
       "(0, 540)"
      ]
     },
     "execution_count": 28,
     "metadata": {},
     "output_type": "execute_result"
    }
   ],
   "source": [
    "len(video_generator.temp_videos), len(video_generator.videos)"
   ]
  },
  {
   "cell_type": "code",
   "execution_count": 29,
   "id": "34f79491",
   "metadata": {
    "execution": {
     "iopub.execute_input": "2025-07-06T16:57:21.363161Z",
     "iopub.status.busy": "2025-07-06T16:57:21.362863Z",
     "iopub.status.idle": "2025-07-06T16:57:21.520752Z",
     "shell.execute_reply": "2025-07-06T16:57:21.519985Z"
    },
    "papermill": {
     "duration": 0.215144,
     "end_time": "2025-07-06T16:57:21.521996",
     "exception": false,
     "start_time": "2025-07-06T16:57:21.306852",
     "status": "completed"
    },
    "tags": []
   },
   "outputs": [
    {
     "data": {
      "text/plain": [
       "(540, 5, 128, 128, 3)"
      ]
     },
     "execution_count": 29,
     "metadata": {},
     "output_type": "execute_result"
    }
   ],
   "source": [
    "test = np.array(video_generator.videos)\n",
    "\n",
    "test.shape"
   ]
  },
  {
   "cell_type": "code",
   "execution_count": 30,
   "id": "81be4d0a",
   "metadata": {
    "execution": {
     "iopub.execute_input": "2025-07-06T16:57:21.635818Z",
     "iopub.status.busy": "2025-07-06T16:57:21.635090Z",
     "iopub.status.idle": "2025-07-06T16:57:21.638525Z",
     "shell.execute_reply": "2025-07-06T16:57:21.637969Z"
    },
    "papermill": {
     "duration": 0.06145,
     "end_time": "2025-07-06T16:57:21.639632",
     "exception": false,
     "start_time": "2025-07-06T16:57:21.578182",
     "status": "completed"
    },
    "tags": []
   },
   "outputs": [],
   "source": [
    "# show_frame(test[1,0])"
   ]
  },
  {
   "cell_type": "markdown",
   "id": "274b11ca",
   "metadata": {
    "papermill": {
     "duration": 0.055249,
     "end_time": "2025-07-06T16:57:21.750316",
     "exception": false,
     "start_time": "2025-07-06T16:57:21.695067",
     "status": "completed"
    },
    "tags": []
   },
   "source": [
    "## Apply ***horizontal flip*** (Augmentation)"
   ]
  },
  {
   "cell_type": "code",
   "execution_count": 31,
   "id": "5c84da6f",
   "metadata": {
    "execution": {
     "iopub.execute_input": "2025-07-06T16:57:21.863019Z",
     "iopub.status.busy": "2025-07-06T16:57:21.862316Z",
     "iopub.status.idle": "2025-07-06T16:57:24.101358Z",
     "shell.execute_reply": "2025-07-06T16:57:24.100645Z"
    },
    "papermill": {
     "duration": 2.297415,
     "end_time": "2025-07-06T16:57:24.102572",
     "exception": false,
     "start_time": "2025-07-06T16:57:21.805157",
     "status": "completed"
    },
    "tags": []
   },
   "outputs": [
    {
     "name": "stdout",
     "output_type": "stream",
     "text": [
      "Total 540 augmented videos generated\n",
      "Ready to be merged with original videos...\n"
     ]
    }
   ],
   "source": [
    "apply_augmentation(horizontal_flip, video_generator)"
   ]
  },
  {
   "cell_type": "code",
   "execution_count": 32,
   "id": "396932b6",
   "metadata": {
    "execution": {
     "iopub.execute_input": "2025-07-06T16:57:24.256858Z",
     "iopub.status.busy": "2025-07-06T16:57:24.256269Z",
     "iopub.status.idle": "2025-07-06T16:57:24.260559Z",
     "shell.execute_reply": "2025-07-06T16:57:24.259625Z"
    },
    "papermill": {
     "duration": 0.08157,
     "end_time": "2025-07-06T16:57:24.261750",
     "exception": false,
     "start_time": "2025-07-06T16:57:24.180180",
     "status": "completed"
    },
    "tags": []
   },
   "outputs": [
    {
     "name": "stdout",
     "output_type": "stream",
     "text": [
      "Checking Total Videos and Class Count: 540, 540\n",
      "PENDING Total Videos and Class Count: 540, 540\n"
     ]
    }
   ],
   "source": [
    "print(f\"Checking Total Videos and Class Count: {len(video_generator.videos)}, {len(video_generator.labels)}\")\n",
    "print(f\"PENDING Total Videos and Class Count: {len(video_generator.temp_videos)}, {len(video_generator.temp_labels)}\")"
   ]
  },
  {
   "cell_type": "code",
   "execution_count": 33,
   "id": "0d61b82a",
   "metadata": {
    "execution": {
     "iopub.execute_input": "2025-07-06T16:57:24.409804Z",
     "iopub.status.busy": "2025-07-06T16:57:24.409550Z",
     "iopub.status.idle": "2025-07-06T16:57:24.413558Z",
     "shell.execute_reply": "2025-07-06T16:57:24.412899Z"
    },
    "papermill": {
     "duration": 0.078651,
     "end_time": "2025-07-06T16:57:24.414725",
     "exception": false,
     "start_time": "2025-07-06T16:57:24.336074",
     "status": "completed"
    },
    "tags": []
   },
   "outputs": [
    {
     "name": "stdout",
     "output_type": "stream",
     "text": [
      "Successfully added - 540 videos and 540 classes.\n",
      "Now Total - 1080 videos and 1080 classes.\n",
      "PENDING for Augmentations - 0 videos and 0 classes.\n"
     ]
    }
   ],
   "source": [
    "video_generator.confirm()"
   ]
  },
  {
   "cell_type": "markdown",
   "id": "95b8527f",
   "metadata": {
    "papermill": {
     "duration": 0.078785,
     "end_time": "2025-07-06T16:57:24.568292",
     "exception": false,
     "start_time": "2025-07-06T16:57:24.489507",
     "status": "completed"
    },
    "tags": []
   },
   "source": [
    "## Apply ***Noise*** (Augmentation)"
   ]
  },
  {
   "cell_type": "code",
   "execution_count": 34,
   "id": "99631d60",
   "metadata": {
    "execution": {
     "iopub.execute_input": "2025-07-06T16:57:24.720459Z",
     "iopub.status.busy": "2025-07-06T16:57:24.719758Z",
     "iopub.status.idle": "2025-07-06T16:57:39.105707Z",
     "shell.execute_reply": "2025-07-06T16:57:39.104970Z"
    },
    "papermill": {
     "duration": 14.462428,
     "end_time": "2025-07-06T16:57:39.106822",
     "exception": false,
     "start_time": "2025-07-06T16:57:24.644394",
     "status": "completed"
    },
    "tags": []
   },
   "outputs": [
    {
     "name": "stdout",
     "output_type": "stream",
     "text": [
      "Total 1080 augmented videos generated\n",
      "Ready to be merged with original videos...\n"
     ]
    }
   ],
   "source": [
    "apply_augmentation(noise_video, video_generator)"
   ]
  },
  {
   "cell_type": "code",
   "execution_count": 35,
   "id": "1d25fe46",
   "metadata": {
    "execution": {
     "iopub.execute_input": "2025-07-06T16:57:39.386277Z",
     "iopub.status.busy": "2025-07-06T16:57:39.385620Z",
     "iopub.status.idle": "2025-07-06T16:57:39.389816Z",
     "shell.execute_reply": "2025-07-06T16:57:39.389234Z"
    },
    "papermill": {
     "duration": 0.120397,
     "end_time": "2025-07-06T16:57:39.390759",
     "exception": false,
     "start_time": "2025-07-06T16:57:39.270362",
     "status": "completed"
    },
    "tags": []
   },
   "outputs": [
    {
     "name": "stdout",
     "output_type": "stream",
     "text": [
      "Checking Total Videos and Class Count: 1080, 1080\n",
      "PENDING Total Videos and Class Count: 1080, 1080\n"
     ]
    }
   ],
   "source": [
    "print(f\"Checking Total Videos and Class Count: {len(video_generator.videos)}, {len(video_generator.labels)}\")\n",
    "print(f\"PENDING Total Videos and Class Count: {len(video_generator.temp_videos)}, {len(video_generator.temp_labels)}\")"
   ]
  },
  {
   "cell_type": "markdown",
   "id": "564564fe",
   "metadata": {
    "papermill": {
     "duration": 0.114411,
     "end_time": "2025-07-06T16:57:39.618330",
     "exception": false,
     "start_time": "2025-07-06T16:57:39.503919",
     "status": "completed"
    },
    "tags": []
   },
   "source": [
    "## Apply ***Random Shear x2*** (Augmentation)"
   ]
  },
  {
   "cell_type": "code",
   "execution_count": 36,
   "id": "b5a05416",
   "metadata": {
    "execution": {
     "iopub.execute_input": "2025-07-06T16:57:39.845371Z",
     "iopub.status.busy": "2025-07-06T16:57:39.845100Z",
     "iopub.status.idle": "2025-07-06T16:58:23.526490Z",
     "shell.execute_reply": "2025-07-06T16:58:23.525726Z"
    },
    "papermill": {
     "duration": 43.796586,
     "end_time": "2025-07-06T16:58:23.527676",
     "exception": false,
     "start_time": "2025-07-06T16:57:39.731090",
     "status": "completed"
    },
    "tags": []
   },
   "outputs": [
    {
     "name": "stdout",
     "output_type": "stream",
     "text": [
      "Total 2160 augmented videos generated\n",
      "Ready to be merged with original videos...\n",
      "Total 3240 augmented videos generated\n",
      "Ready to be merged with original videos...\n"
     ]
    }
   ],
   "source": [
    "apply_augmentation(apply_shear_frames, video_generator, shear_right=0)\n",
    "apply_augmentation(apply_shear_frames, video_generator, shear_right=1)"
   ]
  },
  {
   "cell_type": "code",
   "execution_count": 37,
   "id": "126795b5",
   "metadata": {
    "execution": {
     "iopub.execute_input": "2025-07-06T16:58:23.979206Z",
     "iopub.status.busy": "2025-07-06T16:58:23.978910Z",
     "iopub.status.idle": "2025-07-06T16:58:23.983371Z",
     "shell.execute_reply": "2025-07-06T16:58:23.982628Z"
    },
    "papermill": {
     "duration": 0.25779,
     "end_time": "2025-07-06T16:58:23.984495",
     "exception": false,
     "start_time": "2025-07-06T16:58:23.726705",
     "status": "completed"
    },
    "tags": []
   },
   "outputs": [
    {
     "name": "stdout",
     "output_type": "stream",
     "text": [
      "Checking Total Videos and Class Count: 1080, 1080\n",
      "PENDING Total Videos and Class Count: 3240, 3240\n"
     ]
    }
   ],
   "source": [
    "print(f\"Checking Total Videos and Class Count: {len(video_generator.videos)}, {len(video_generator.labels)}\")\n",
    "print(f\"PENDING Total Videos and Class Count: {len(video_generator.temp_videos)}, {len(video_generator.temp_labels)}\")"
   ]
  },
  {
   "cell_type": "code",
   "execution_count": 38,
   "id": "be0609ad",
   "metadata": {
    "execution": {
     "iopub.execute_input": "2025-07-06T16:58:24.384966Z",
     "iopub.status.busy": "2025-07-06T16:58:24.384663Z",
     "iopub.status.idle": "2025-07-06T16:58:24.388865Z",
     "shell.execute_reply": "2025-07-06T16:58:24.387977Z"
    },
    "papermill": {
     "duration": 0.207614,
     "end_time": "2025-07-06T16:58:24.390103",
     "exception": false,
     "start_time": "2025-07-06T16:58:24.182489",
     "status": "completed"
    },
    "tags": []
   },
   "outputs": [
    {
     "name": "stdout",
     "output_type": "stream",
     "text": [
      "Successfully added - 3240 videos and 3240 classes.\n",
      "Now Total - 4320 videos and 4320 classes.\n",
      "PENDING for Augmentations - 0 videos and 0 classes.\n"
     ]
    }
   ],
   "source": [
    "# confirm changes to generator\n",
    "video_generator.confirm()"
   ]
  },
  {
   "cell_type": "code",
   "execution_count": 39,
   "id": "e1f9356c",
   "metadata": {
    "execution": {
     "iopub.execute_input": "2025-07-06T16:58:24.791087Z",
     "iopub.status.busy": "2025-07-06T16:58:24.790799Z",
     "iopub.status.idle": "2025-07-06T16:58:24.795320Z",
     "shell.execute_reply": "2025-07-06T16:58:24.794708Z"
    },
    "papermill": {
     "duration": 0.205039,
     "end_time": "2025-07-06T16:58:24.796343",
     "exception": false,
     "start_time": "2025-07-06T16:58:24.591304",
     "status": "completed"
    },
    "tags": []
   },
   "outputs": [
    {
     "name": "stdout",
     "output_type": "stream",
     "text": [
      "Checking Video Generator Total Videos and Class Count: 4320, 4320\n"
     ]
    }
   ],
   "source": [
    "print(f\"Checking Video Generator Total Videos and Class Count: {len(video_generator.videos)}, {len(video_generator.labels)}\")"
   ]
  },
  {
   "cell_type": "markdown",
   "id": "e2eeab3c",
   "metadata": {
    "papermill": {
     "duration": 0.249576,
     "end_time": "2025-07-06T16:58:25.246619",
     "exception": false,
     "start_time": "2025-07-06T16:58:24.997043",
     "status": "completed"
    },
    "tags": []
   },
   "source": [
    "## Cheking (Output)"
   ]
  },
  {
   "cell_type": "code",
   "execution_count": 40,
   "id": "d58a2c5d",
   "metadata": {
    "execution": {
     "iopub.execute_input": "2025-07-06T16:58:25.648206Z",
     "iopub.status.busy": "2025-07-06T16:58:25.647454Z",
     "iopub.status.idle": "2025-07-06T16:58:25.897446Z",
     "shell.execute_reply": "2025-07-06T16:58:25.896695Z"
    },
    "papermill": {
     "duration": 0.45142,
     "end_time": "2025-07-06T16:58:25.898583",
     "exception": false,
     "start_time": "2025-07-06T16:58:25.447163",
     "status": "completed"
    },
    "tags": []
   },
   "outputs": [
    {
     "name": "stdout",
     "output_type": "stream",
     "text": [
      "(16, 5, 128, 128, 3) (16,)\n"
     ]
    },
    {
     "data": {
      "image/png": "[encoded data removed]",
      "text/plain": [
       "<Figure size 1000x500 with 2 Axes>"
      ]
     },
     "metadata": {},
     "output_type": "display_data"
    },
    {
     "name": "stdout",
     "output_type": "stream",
     "text": [
      "Might be two different action, but to check the flipping focus on the door behind.\n"
     ]
    }
   ],
   "source": [
    "# check horizontal flips\n",
    "videos, labels = video_generator[7]\n",
    "videos1, labels1 = video_generator[1]\n",
    "\n",
    "print(videos.shape, labels.shape)\n",
    "\n",
    "show_frame_vs(videos[0,0],videos1[1,0], title1=\"Flipped Frame 1\", title2=\"Non Flipped Frame 1\")\n",
    "print(\"Might be two different action, but to check the flipping focus on the door behind.\")"
   ]
  },
  {
   "cell_type": "markdown",
   "id": "8157d368",
   "metadata": {
    "papermill": {
     "duration": 0.195276,
     "end_time": "2025-07-06T16:58:26.295394",
     "exception": false,
     "start_time": "2025-07-06T16:58:26.100118",
     "status": "completed"
    },
    "tags": []
   },
   "source": [
    "# 🧪 Test Augmentation (Output)\n",
    "## 🖼️ Horizontal Flip Output"
   ]
  },
  {
   "cell_type": "code",
   "execution_count": 41,
   "id": "6e438242",
   "metadata": {
    "execution": {
     "iopub.execute_input": "2025-07-06T16:58:26.692317Z",
     "iopub.status.busy": "2025-07-06T16:58:26.692012Z",
     "iopub.status.idle": "2025-07-06T16:58:26.695355Z",
     "shell.execute_reply": "2025-07-06T16:58:26.694750Z"
    },
    "papermill": {
     "duration": 0.205405,
     "end_time": "2025-07-06T16:58:26.696435",
     "exception": false,
     "start_time": "2025-07-06T16:58:26.491030",
     "status": "completed"
    },
    "tags": []
   },
   "outputs": [],
   "source": [
    "# flipped_video_1 = horizontal_flip(features[0])\n",
    "\n",
    "# flipped_video_1=np.asarray(flipped_video_1)\n",
    "\n",
    "# show_frame(flipped_video_1[0])\n",
    "# flipped_video_1.shape"
   ]
  },
  {
   "cell_type": "markdown",
   "id": "42334b78",
   "metadata": {
    "papermill": {
     "duration": 0.215469,
     "end_time": "2025-07-06T16:58:27.158955",
     "exception": false,
     "start_time": "2025-07-06T16:58:26.943486",
     "status": "completed"
    },
    "tags": []
   },
   "source": [
    "## 🖼️ Salt and Pepper Noise Output"
   ]
  },
  {
   "cell_type": "code",
   "execution_count": 42,
   "id": "773bf94f",
   "metadata": {
    "execution": {
     "iopub.execute_input": "2025-07-06T16:58:27.557022Z",
     "iopub.status.busy": "2025-07-06T16:58:27.556349Z",
     "iopub.status.idle": "2025-07-06T16:58:27.559590Z",
     "shell.execute_reply": "2025-07-06T16:58:27.559024Z"
    },
    "papermill": {
     "duration": 0.199838,
     "end_time": "2025-07-06T16:58:27.560724",
     "exception": false,
     "start_time": "2025-07-06T16:58:27.360886",
     "status": "completed"
    },
    "tags": []
   },
   "outputs": [],
   "source": [
    "# noised_video = noise_video(features[0])\n",
    "\n",
    "# print(noised_video.shape)\n",
    "# show_frame(noised_video[0])"
   ]
  },
  {
   "cell_type": "markdown",
   "id": "eb1dafe4",
   "metadata": {
    "papermill": {
     "duration": 0.241716,
     "end_time": "2025-07-06T16:58:27.998552",
     "exception": false,
     "start_time": "2025-07-06T16:58:27.756836",
     "status": "completed"
    },
    "tags": []
   },
   "source": [
    "## 🖼️ Random Shear Output"
   ]
  },
  {
   "cell_type": "code",
   "execution_count": 43,
   "id": "6ff55e8c",
   "metadata": {
    "execution": {
     "iopub.execute_input": "2025-07-06T16:58:28.392855Z",
     "iopub.status.busy": "2025-07-06T16:58:28.392604Z",
     "iopub.status.idle": "2025-07-06T16:58:28.395970Z",
     "shell.execute_reply": "2025-07-06T16:58:28.395417Z"
    },
    "papermill": {
     "duration": 0.202495,
     "end_time": "2025-07-06T16:58:28.396969",
     "exception": false,
     "start_time": "2025-07-06T16:58:28.194474",
     "status": "completed"
    },
    "tags": []
   },
   "outputs": [],
   "source": [
    "# print(features.shape)\n",
    "\n",
    "# sheared_1 = apply_shear_frames(features[0], shear_right=0)\n",
    "# sheared_2 = apply_shear_frames(features[0], shear_right=1)\n",
    "\n",
    "# sheared_1 = np.asarray(sheared_1)\n",
    "# sheared_2 = np.asarray(sheared_2)\n",
    "\n",
    "# print(sheared_1.shape)\n",
    "# show_frame(sheared_1[0])\n",
    "# show_frame(sheared_2[0])"
   ]
  },
  {
   "cell_type": "markdown",
   "id": "d261a55d",
   "metadata": {
    "papermill": {
     "duration": 0.205398,
     "end_time": "2025-07-06T16:58:28.798378",
     "exception": false,
     "start_time": "2025-07-06T16:58:28.592980",
     "status": "completed"
    },
    "tags": []
   },
   "source": [
    "# 📌 Preparing Data for Training"
   ]
  },
  {
   "cell_type": "code",
   "execution_count": 44,
   "id": "504dbf5c",
   "metadata": {
    "execution": {
     "iopub.execute_input": "2025-07-06T16:58:29.252336Z",
     "iopub.status.busy": "2025-07-06T16:58:29.251853Z",
     "iopub.status.idle": "2025-07-06T16:58:29.713344Z",
     "shell.execute_reply": "2025-07-06T16:58:29.712649Z"
    },
    "papermill": {
     "duration": 0.717474,
     "end_time": "2025-07-06T16:58:29.714468",
     "exception": false,
     "start_time": "2025-07-06T16:58:28.996994",
     "status": "completed"
    },
    "tags": []
   },
   "outputs": [],
   "source": [
    "# Clear previous session to free memory\n",
    "import gc\n",
    "\n",
    "gc.collect()\n",
    "tf.keras.backend.clear_session()"
   ]
  },
  {
   "cell_type": "markdown",
   "id": "c290449f",
   "metadata": {
    "papermill": {
     "duration": 0.203025,
     "end_time": "2025-07-06T16:58:30.124841",
     "exception": false,
     "start_time": "2025-07-06T16:58:29.921816",
     "status": "completed"
    },
    "tags": []
   },
   "source": [
    "## Splitting data for ***Trainig*** and ***Testing***"
   ]
  },
  {
   "cell_type": "code",
   "execution_count": 45,
   "id": "4f30c1bd",
   "metadata": {
    "execution": {
     "iopub.execute_input": "2025-07-06T16:58:30.533231Z",
     "iopub.status.busy": "2025-07-06T16:58:30.532471Z",
     "iopub.status.idle": "2025-07-06T16:58:31.936878Z",
     "shell.execute_reply": "2025-07-06T16:58:31.936166Z"
    },
    "papermill": {
     "duration": 1.608414,
     "end_time": "2025-07-06T16:58:31.938103",
     "exception": false,
     "start_time": "2025-07-06T16:58:30.329689",
     "status": "completed"
    },
    "tags": []
   },
   "outputs": [
    {
     "data": {
      "text/plain": [
       "((4320, 5, 128, 128, 3), (4320,))"
      ]
     },
     "execution_count": 45,
     "metadata": {},
     "output_type": "execute_result"
    }
   ],
   "source": [
    "videos = video_generator.videos\n",
    "labels = video_generator.labels\n",
    "\n",
    "videos = np.array(videos, dtype='float32')\n",
    "labels = np.array(labels)\n",
    "\n",
    "videos.shape, labels.shape"
   ]
  },
  {
   "cell_type": "code",
   "execution_count": 46,
   "id": "5fb6be7f",
   "metadata": {
    "execution": {
     "iopub.execute_input": "2025-07-06T16:58:32.384033Z",
     "iopub.status.busy": "2025-07-06T16:58:32.383312Z",
     "iopub.status.idle": "2025-07-06T16:58:32.388568Z",
     "shell.execute_reply": "2025-07-06T16:58:32.387930Z"
    },
    "papermill": {
     "duration": 0.254074,
     "end_time": "2025-07-06T16:58:32.389687",
     "exception": false,
     "start_time": "2025-07-06T16:58:32.135613",
     "status": "completed"
    },
    "tags": []
   },
   "outputs": [
    {
     "data": {
      "text/plain": [
       "(4320, 18)"
      ]
     },
     "execution_count": 46,
     "metadata": {},
     "output_type": "execute_result"
    }
   ],
   "source": [
    "from tensorflow.keras.utils import to_categorical\n",
    "\n",
    "one_hot_encoded_labels = to_categorical(labels)\n",
    "\n",
    "one_hot_encoded_labels.shape"
   ]
  },
  {
   "cell_type": "code",
   "execution_count": 47,
   "id": "58e16858",
   "metadata": {
    "execution": {
     "iopub.execute_input": "2025-07-06T16:58:32.789225Z",
     "iopub.status.busy": "2025-07-06T16:58:32.788922Z",
     "iopub.status.idle": "2025-07-06T16:58:32.989776Z",
     "shell.execute_reply": "2025-07-06T16:58:32.989256Z"
    },
    "papermill": {
     "duration": 0.40023,
     "end_time": "2025-07-06T16:58:32.990850",
     "exception": false,
     "start_time": "2025-07-06T16:58:32.590620",
     "status": "completed"
    },
    "tags": []
   },
   "outputs": [
    {
     "data": {
      "text/plain": [
       "0"
      ]
     },
     "execution_count": 47,
     "metadata": {},
     "output_type": "execute_result"
    }
   ],
   "source": [
    "gc.collect()"
   ]
  },
  {
   "cell_type": "code",
   "execution_count": 48,
   "id": "3956b91a",
   "metadata": {
    "execution": {
     "iopub.execute_input": "2025-07-06T16:58:33.386237Z",
     "iopub.status.busy": "2025-07-06T16:58:33.385923Z",
     "iopub.status.idle": "2025-07-06T16:58:34.718965Z",
     "shell.execute_reply": "2025-07-06T16:58:34.718262Z"
    },
    "papermill": {
     "duration": 1.532909,
     "end_time": "2025-07-06T16:58:34.720090",
     "exception": false,
     "start_time": "2025-07-06T16:58:33.187181",
     "status": "completed"
    },
    "tags": []
   },
   "outputs": [
    {
     "data": {
      "text/plain": [
       "((3456, 5, 128, 128, 3), (3456, 18), (864, 5, 128, 128, 3), (864, 18))"
      ]
     },
     "execution_count": 48,
     "metadata": {},
     "output_type": "execute_result"
    }
   ],
   "source": [
    "# RUN Split the Data into Train ( 75% ) and Test Set ( 25% ).\n",
    "from sklearn.model_selection import train_test_split\n",
    "features_train, features_test, labels_train, labels_test = train_test_split(videos,\n",
    "                                                                            one_hot_encoded_labels,\n",
    "                                                                            test_size = TEST_SIZE,\n",
    "                                                                            shuffle = True,\n",
    "                                                                            random_state = seed_constant)\n",
    "\n",
    "features_train.shape, labels_train.shape, features_test.shape, labels_test.shape"
   ]
  },
  {
   "cell_type": "markdown",
   "id": "aa71f6c9",
   "metadata": {
    "papermill": {
     "duration": 0.20225,
     "end_time": "2025-07-06T16:58:35.173254",
     "exception": false,
     "start_time": "2025-07-06T16:58:34.971004",
     "status": "completed"
    },
    "tags": []
   },
   "source": [
    "## Splitting data for ***Training Set*** and ***Validation Set***"
   ]
  },
  {
   "cell_type": "code",
   "execution_count": 49,
   "id": "57693344",
   "metadata": {
    "execution": {
     "iopub.execute_input": "2025-07-06T16:58:35.574263Z",
     "iopub.status.busy": "2025-07-06T16:58:35.573930Z",
     "iopub.status.idle": "2025-07-06T16:58:35.579880Z",
     "shell.execute_reply": "2025-07-06T16:58:35.579299Z"
    },
    "papermill": {
     "duration": 0.208639,
     "end_time": "2025-07-06T16:58:35.580981",
     "exception": false,
     "start_time": "2025-07-06T16:58:35.372342",
     "status": "completed"
    },
    "tags": []
   },
   "outputs": [
    {
     "data": {
      "text/plain": [
       "((2764, 5, 128, 128, 3), (2764, 18), (692, 5, 128, 128, 3), (692, 18))"
      ]
     },
     "execution_count": 49,
     "metadata": {},
     "output_type": "execute_result"
    }
   ],
   "source": [
    "# Assuming features_train and labels_train are defined\n",
    "train_set = 1-VALIDATION_SPLIT\n",
    "\n",
    "train_video_frames, val_video_frames = features_train[:int(train_set * len(features_train))], features_train[int(train_set * len(features_train)):]\n",
    "train_labels, val_labels = labels_train[:int(train_set * len(labels_train))], labels_train[int(train_set * len(labels_train)):]\n",
    "\n",
    "train_video_frames.shape, train_labels.shape, val_video_frames.shape, val_labels.shape"
   ]
  },
  {
   "cell_type": "markdown",
   "id": "57ae05df",
   "metadata": {
    "papermill": {
     "duration": 0.219181,
     "end_time": "2025-07-06T16:58:35.998896",
     "exception": false,
     "start_time": "2025-07-06T16:58:35.779715",
     "status": "completed"
    },
    "tags": []
   },
   "source": [
    "## Use Generator `Video Data Generator`"
   ]
  },
  {
   "cell_type": "code",
   "execution_count": 50,
   "id": "77e88d1b",
   "metadata": {
    "execution": {
     "iopub.execute_input": "2025-07-06T16:58:36.449063Z",
     "iopub.status.busy": "2025-07-06T16:58:36.448780Z",
     "iopub.status.idle": "2025-07-06T16:58:36.456776Z",
     "shell.execute_reply": "2025-07-06T16:58:36.456022Z"
    },
    "papermill": {
     "duration": 0.205206,
     "end_time": "2025-07-06T16:58:36.457790",
     "exception": false,
     "start_time": "2025-07-06T16:58:36.252584",
     "status": "completed"
    },
    "tags": []
   },
   "outputs": [
    {
     "name": "stdout",
     "output_type": "stream",
     "text": [
      "Total 2764 videos and 2764 classes\n",
      "Total 692 videos and 692 classes\n"
     ]
    },
    {
     "data": {
      "text/plain": [
       "(173, 44)"
      ]
     },
     "execution_count": 50,
     "metadata": {},
     "output_type": "execute_result"
    }
   ],
   "source": [
    "# Create the training and validation generators\n",
    "train_gen = VideoDataGenerator(\n",
    "    videos=train_video_frames, \n",
    "    labels=train_labels, \n",
    "    batch_size=BATCH_SIZE,\n",
    ")\n",
    "\n",
    "val_gen = VideoDataGenerator(\n",
    "    videos=val_video_frames, \n",
    "    labels=val_labels, \n",
    "    batch_size=BATCH_SIZE,\n",
    ")\n",
    "\n",
    "len(train_gen), len(val_gen)"
   ]
  },
  {
   "cell_type": "markdown",
   "id": "36115ac8",
   "metadata": {
    "papermill": {
     "duration": 0.197007,
     "end_time": "2025-07-06T16:58:36.853684",
     "exception": false,
     "start_time": "2025-07-06T16:58:36.656677",
     "status": "completed"
    },
    "tags": []
   },
   "source": [
    "## Inspect ***Generator*** Data on Epochs"
   ]
  },
  {
   "cell_type": "code",
   "execution_count": 51,
   "id": "fb775ed4",
   "metadata": {
    "execution": {
     "iopub.execute_input": "2025-07-06T16:58:37.246276Z",
     "iopub.status.busy": "2025-07-06T16:58:37.245604Z",
     "iopub.status.idle": "2025-07-06T16:58:37.255218Z",
     "shell.execute_reply": "2025-07-06T16:58:37.254396Z"
    },
    "papermill": {
     "duration": 0.209373,
     "end_time": "2025-07-06T16:58:37.256461",
     "exception": false,
     "start_time": "2025-07-06T16:58:37.047088",
     "status": "completed"
    },
    "tags": []
   },
   "outputs": [
    {
     "name": "stdout",
     "output_type": "stream",
     "text": [
      "[   0    1    2 ... 2761 2762 2763]\n",
      "[ 298 1988 1344 ...  975  495  426]\n"
     ]
    },
    {
     "data": {
      "text/plain": [
       "(16, (16, 5, 128, 128, 3), (16, 18))"
      ]
     },
     "execution_count": 51,
     "metadata": {},
     "output_type": "execute_result"
    }
   ],
   "source": [
    "features, labels = train_gen[1]\n",
    "\n",
    "print(train_gen.indices)\n",
    "\n",
    "train_gen.on_epoch_end()\n",
    "\n",
    "print(train_gen.indices)\n",
    "\n",
    "BATCH_SIZE, features.shape, labels.shape"
   ]
  },
  {
   "cell_type": "markdown",
   "id": "646daf63",
   "metadata": {
    "papermill": {
     "duration": 0.19486,
     "end_time": "2025-07-06T16:58:37.699701",
     "exception": false,
     "start_time": "2025-07-06T16:58:37.504841",
     "status": "completed"
    },
    "tags": []
   },
   "source": [
    "## Compute Class Weight"
   ]
  },
  {
   "cell_type": "code",
   "execution_count": 52,
   "id": "3faaa4ed",
   "metadata": {
    "execution": {
     "iopub.execute_input": "2025-07-06T16:58:38.102637Z",
     "iopub.status.busy": "2025-07-06T16:58:38.102341Z",
     "iopub.status.idle": "2025-07-06T16:58:38.109179Z",
     "shell.execute_reply": "2025-07-06T16:58:38.108403Z"
    },
    "papermill": {
     "duration": 0.208954,
     "end_time": "2025-07-06T16:58:38.110267",
     "exception": false,
     "start_time": "2025-07-06T16:58:37.901313",
     "status": "completed"
    },
    "tags": []
   },
   "outputs": [
    {
     "name": "stdout",
     "output_type": "stream",
     "text": [
      "Class weights: {0: 1.0, 1: 1.0, 2: 1.0, 3: 1.0, 4: 1.0, 5: 1.0, 6: 1.0, 7: 1.0, 8: 1.0, 9: 1.0, 10: 1.0, 11: 1.0, 12: 1.0, 13: 1.0, 14: 1.0, 15: 1.0, 16: 1.0, 17: 1.0}\n"
     ]
    }
   ],
   "source": [
    "from sklearn.utils.class_weight import compute_class_weight\n",
    "import numpy as np\n",
    "\n",
    "# Assuming y_int are integer labels (not one-hot)\n",
    "y_int = np.argmax(one_hot_encoded_labels, axis=1)  # or just integer labels if you have them\n",
    "\n",
    "classes = np.arange(NO_OF_CLASSES)  # e.g. np.arange(16)\n",
    "class_weights_values = compute_class_weight(class_weight='balanced', classes=classes, y=y_int)\n",
    "\n",
    "class_weights = dict(zip(classes, class_weights_values))\n",
    "\n",
    "print(\"Class weights:\", class_weights)\n"
   ]
  },
  {
   "cell_type": "code",
   "execution_count": 53,
   "id": "cd889004",
   "metadata": {
    "execution": {
     "iopub.execute_input": "2025-07-06T16:58:38.557814Z",
     "iopub.status.busy": "2025-07-06T16:58:38.557527Z",
     "iopub.status.idle": "2025-07-06T16:58:38.773765Z",
     "shell.execute_reply": "2025-07-06T16:58:38.773155Z"
    },
    "papermill": {
     "duration": 0.464011,
     "end_time": "2025-07-06T16:58:38.774881",
     "exception": false,
     "start_time": "2025-07-06T16:58:38.310870",
     "status": "completed"
    },
    "tags": []
   },
   "outputs": [],
   "source": [
    "gc.collect()\n",
    "del videos, one_hot_encoded_labels, labels_train\n",
    "del features_train, val_labels, train_labels\n",
    "del val_video_frames, train_video_frames"
   ]
  },
  {
   "cell_type": "markdown",
   "id": "ced70ac8",
   "metadata": {
    "papermill": {
     "duration": 0.196138,
     "end_time": "2025-07-06T16:58:39.169979",
     "exception": false,
     "start_time": "2025-07-06T16:58:38.973841",
     "status": "completed"
    },
    "tags": []
   },
   "source": [
    "# ✨ Model Execution\n",
    "## Creating Model"
   ]
  },
  {
   "cell_type": "code",
   "execution_count": 54,
   "id": "0784ecb0",
   "metadata": {
    "execution": {
     "iopub.execute_input": "2025-07-06T16:58:39.566677Z",
     "iopub.status.busy": "2025-07-06T16:58:39.565940Z",
     "iopub.status.idle": "2025-07-06T16:58:40.914512Z",
     "shell.execute_reply": "2025-07-06T16:58:40.913790Z"
    },
    "papermill": {
     "duration": 1.547555,
     "end_time": "2025-07-06T16:58:40.915585",
     "exception": false,
     "start_time": "2025-07-06T16:58:39.368030",
     "status": "completed"
    },
    "tags": []
   },
   "outputs": [
    {
     "name": "stdout",
     "output_type": "stream",
     "text": [
      "Loading Xception base model...\n"
     ]
    },
    {
     "name": "stderr",
     "output_type": "stream",
     "text": [
      "/usr/local/lib/python3.11/dist-packages/keras/src/layers/core/wrapper.py:27: UserWarning: Do not pass an `input_shape`/`input_dim` argument to a layer. When using Sequential models, prefer using an `Input(shape)` object as the first layer in the model instead.\n",
      "  super().__init__(**kwargs)\n"
     ]
    },
    {
     "name": "stdout",
     "output_type": "stream",
     "text": [
      "Model architecture with BiLSTM created successfully!\n"
     ]
    },
    {
     "data": {
      "text/html": [
       "<pre style=\"white-space:pre;overflow-x:auto;line-height:normal;font-family:Menlo,'DejaVu Sans Mono',consolas,'Courier New',monospace\"><span style=\"font-weight: bold\">Model: \"sequential\"</span>\n",
       "</pre>\n"
      ],
      "text/plain": [
       "\u001b[1mModel: \"sequential\"\u001b[0m\n"
      ]
     },
     "metadata": {},
     "output_type": "display_data"
    },
    {
     "data": {
      "text/html": [
       "<pre style=\"white-space:pre;overflow-x:auto;line-height:normal;font-family:Menlo,'DejaVu Sans Mono',consolas,'Courier New',monospace\">┏━━━━━━━━━━━━━━━━━━━━━━━━━━━━━━━━━━━━━━┳━━━━━━━━━━━━━━━━━━━━━━━━━━━━━┳━━━━━━━━━━━━━━━━━┓\n",
       "┃<span style=\"font-weight: bold\"> Layer (type)                         </span>┃<span style=\"font-weight: bold\"> Output Shape                </span>┃<span style=\"font-weight: bold\">         Param # </span>┃\n",
       "┡━━━━━━━━━━━━━━━━━━━━━━━━━━━━━━━━━━━━━━╇━━━━━━━━━━━━━━━━━━━━━━━━━━━━━╇━━━━━━━━━━━━━━━━━┩\n",
       "│ time_distributed (<span style=\"color: #0087ff; text-decoration-color: #0087ff\">TimeDistributed</span>)   │ (<span style=\"color: #00d7ff; text-decoration-color: #00d7ff\">None</span>, <span style=\"color: #00af00; text-decoration-color: #00af00\">5</span>, <span style=\"color: #00af00; text-decoration-color: #00af00\">4</span>, <span style=\"color: #00af00; text-decoration-color: #00af00\">4</span>, <span style=\"color: #00af00; text-decoration-color: #00af00\">2048</span>)       │      <span style=\"color: #00af00; text-decoration-color: #00af00\">20,861,480</span> │\n",
       "├──────────────────────────────────────┼─────────────────────────────┼─────────────────┤\n",
       "│ time_distributed_1 (<span style=\"color: #0087ff; text-decoration-color: #0087ff\">TimeDistributed</span>) │ (<span style=\"color: #00d7ff; text-decoration-color: #00d7ff\">None</span>, <span style=\"color: #00af00; text-decoration-color: #00af00\">5</span>, <span style=\"color: #00af00; text-decoration-color: #00af00\">2048</span>)             │               <span style=\"color: #00af00; text-decoration-color: #00af00\">0</span> │\n",
       "├──────────────────────────────────────┼─────────────────────────────┼─────────────────┤\n",
       "│ bilstm (<span style=\"color: #0087ff; text-decoration-color: #0087ff\">Bidirectional</span>)               │ (<span style=\"color: #00d7ff; text-decoration-color: #00d7ff\">None</span>, <span style=\"color: #00af00; text-decoration-color: #00af00\">512</span>)                 │       <span style=\"color: #00af00; text-decoration-color: #00af00\">4,720,640</span> │\n",
       "├──────────────────────────────────────┼─────────────────────────────┼─────────────────┤\n",
       "│ batch_normalization                  │ (<span style=\"color: #00d7ff; text-decoration-color: #00d7ff\">None</span>, <span style=\"color: #00af00; text-decoration-color: #00af00\">512</span>)                 │           <span style=\"color: #00af00; text-decoration-color: #00af00\">2,048</span> │\n",
       "│ (<span style=\"color: #0087ff; text-decoration-color: #0087ff\">BatchNormalization</span>)                 │                             │                 │\n",
       "├──────────────────────────────────────┼─────────────────────────────┼─────────────────┤\n",
       "│ dropout_bilstm (<span style=\"color: #0087ff; text-decoration-color: #0087ff\">Dropout</span>)             │ (<span style=\"color: #00d7ff; text-decoration-color: #00d7ff\">None</span>, <span style=\"color: #00af00; text-decoration-color: #00af00\">512</span>)                 │               <span style=\"color: #00af00; text-decoration-color: #00af00\">0</span> │\n",
       "├──────────────────────────────────────┼─────────────────────────────┼─────────────────┤\n",
       "│ dense (<span style=\"color: #0087ff; text-decoration-color: #0087ff\">Dense</span>)                        │ (<span style=\"color: #00d7ff; text-decoration-color: #00d7ff\">None</span>, <span style=\"color: #00af00; text-decoration-color: #00af00\">512</span>)                 │         <span style=\"color: #00af00; text-decoration-color: #00af00\">262,656</span> │\n",
       "├──────────────────────────────────────┼─────────────────────────────┼─────────────────┤\n",
       "│ dropout_dense (<span style=\"color: #0087ff; text-decoration-color: #0087ff\">Dropout</span>)              │ (<span style=\"color: #00d7ff; text-decoration-color: #00d7ff\">None</span>, <span style=\"color: #00af00; text-decoration-color: #00af00\">512</span>)                 │               <span style=\"color: #00af00; text-decoration-color: #00af00\">0</span> │\n",
       "├──────────────────────────────────────┼─────────────────────────────┼─────────────────┤\n",
       "│ dense_1 (<span style=\"color: #0087ff; text-decoration-color: #0087ff\">Dense</span>)                      │ (<span style=\"color: #00d7ff; text-decoration-color: #00d7ff\">None</span>, <span style=\"color: #00af00; text-decoration-color: #00af00\">18</span>)                  │           <span style=\"color: #00af00; text-decoration-color: #00af00\">9,234</span> │\n",
       "└──────────────────────────────────────┴─────────────────────────────┴─────────────────┘\n",
       "</pre>\n"
      ],
      "text/plain": [
       "┏━━━━━━━━━━━━━━━━━━━━━━━━━━━━━━━━━━━━━━┳━━━━━━━━━━━━━━━━━━━━━━━━━━━━━┳━━━━━━━━━━━━━━━━━┓\n",
       "┃\u001b[1m \u001b[0m\u001b[1mLayer (type)                        \u001b[0m\u001b[1m \u001b[0m┃\u001b[1m \u001b[0m\u001b[1mOutput Shape               \u001b[0m\u001b[1m \u001b[0m┃\u001b[1m \u001b[0m\u001b[1m        Param #\u001b[0m\u001b[1m \u001b[0m┃\n",
       "┡━━━━━━━━━━━━━━━━━━━━━━━━━━━━━━━━━━━━━━╇━━━━━━━━━━━━━━━━━━━━━━━━━━━━━╇━━━━━━━━━━━━━━━━━┩\n",
       "│ time_distributed (\u001b[38;5;33mTimeDistributed\u001b[0m)   │ (\u001b[38;5;45mNone\u001b[0m, \u001b[38;5;34m5\u001b[0m, \u001b[38;5;34m4\u001b[0m, \u001b[38;5;34m4\u001b[0m, \u001b[38;5;34m2048\u001b[0m)       │      \u001b[38;5;34m20,861,480\u001b[0m │\n",
       "├──────────────────────────────────────┼─────────────────────────────┼─────────────────┤\n",
       "│ time_distributed_1 (\u001b[38;5;33mTimeDistributed\u001b[0m) │ (\u001b[38;5;45mNone\u001b[0m, \u001b[38;5;34m5\u001b[0m, \u001b[38;5;34m2048\u001b[0m)             │               \u001b[38;5;34m0\u001b[0m │\n",
       "├──────────────────────────────────────┼─────────────────────────────┼─────────────────┤\n",
       "│ bilstm (\u001b[38;5;33mBidirectional\u001b[0m)               │ (\u001b[38;5;45mNone\u001b[0m, \u001b[38;5;34m512\u001b[0m)                 │       \u001b[38;5;34m4,720,640\u001b[0m │\n",
       "├──────────────────────────────────────┼─────────────────────────────┼─────────────────┤\n",
       "│ batch_normalization                  │ (\u001b[38;5;45mNone\u001b[0m, \u001b[38;5;34m512\u001b[0m)                 │           \u001b[38;5;34m2,048\u001b[0m │\n",
       "│ (\u001b[38;5;33mBatchNormalization\u001b[0m)                 │                             │                 │\n",
       "├──────────────────────────────────────┼─────────────────────────────┼─────────────────┤\n",
       "│ dropout_bilstm (\u001b[38;5;33mDropout\u001b[0m)             │ (\u001b[38;5;45mNone\u001b[0m, \u001b[38;5;34m512\u001b[0m)                 │               \u001b[38;5;34m0\u001b[0m │\n",
       "├──────────────────────────────────────┼─────────────────────────────┼─────────────────┤\n",
       "│ dense (\u001b[38;5;33mDense\u001b[0m)                        │ (\u001b[38;5;45mNone\u001b[0m, \u001b[38;5;34m512\u001b[0m)                 │         \u001b[38;5;34m262,656\u001b[0m │\n",
       "├──────────────────────────────────────┼─────────────────────────────┼─────────────────┤\n",
       "│ dropout_dense (\u001b[38;5;33mDropout\u001b[0m)              │ (\u001b[38;5;45mNone\u001b[0m, \u001b[38;5;34m512\u001b[0m)                 │               \u001b[38;5;34m0\u001b[0m │\n",
       "├──────────────────────────────────────┼─────────────────────────────┼─────────────────┤\n",
       "│ dense_1 (\u001b[38;5;33mDense\u001b[0m)                      │ (\u001b[38;5;45mNone\u001b[0m, \u001b[38;5;34m18\u001b[0m)                  │           \u001b[38;5;34m9,234\u001b[0m │\n",
       "└──────────────────────────────────────┴─────────────────────────────┴─────────────────┘\n"
      ]
     },
     "metadata": {},
     "output_type": "display_data"
    },
    {
     "data": {
      "text/html": [
       "<pre style=\"white-space:pre;overflow-x:auto;line-height:normal;font-family:Menlo,'DejaVu Sans Mono',consolas,'Courier New',monospace\"><span style=\"font-weight: bold\"> Total params: </span><span style=\"color: #00af00; text-decoration-color: #00af00\">25,856,058</span> (98.63 MB)\n",
       "</pre>\n"
      ],
      "text/plain": [
       "\u001b[1m Total params: \u001b[0m\u001b[38;5;34m25,856,058\u001b[0m (98.63 MB)\n"
      ]
     },
     "metadata": {},
     "output_type": "display_data"
    },
    {
     "data": {
      "text/html": [
       "<pre style=\"white-space:pre;overflow-x:auto;line-height:normal;font-family:Menlo,'DejaVu Sans Mono',consolas,'Courier New',monospace\"><span style=\"font-weight: bold\"> Trainable params: </span><span style=\"color: #00af00; text-decoration-color: #00af00\">25,800,506</span> (98.42 MB)\n",
       "</pre>\n"
      ],
      "text/plain": [
       "\u001b[1m Trainable params: \u001b[0m\u001b[38;5;34m25,800,506\u001b[0m (98.42 MB)\n"
      ]
     },
     "metadata": {},
     "output_type": "display_data"
    },
    {
     "data": {
      "text/html": [
       "<pre style=\"white-space:pre;overflow-x:auto;line-height:normal;font-family:Menlo,'DejaVu Sans Mono',consolas,'Courier New',monospace\"><span style=\"font-weight: bold\"> Non-trainable params: </span><span style=\"color: #00af00; text-decoration-color: #00af00\">55,552</span> (217.00 KB)\n",
       "</pre>\n"
      ],
      "text/plain": [
       "\u001b[1m Non-trainable params: \u001b[0m\u001b[38;5;34m55,552\u001b[0m (217.00 KB)\n"
      ]
     },
     "metadata": {},
     "output_type": "display_data"
    },
    {
     "name": "stdout",
     "output_type": "stream",
     "text": [
      "Model Created Successfully!\n"
     ]
    }
   ],
   "source": [
    "# Create the model\n",
    "xlstm_model = create_model(\n",
    "    sequence_length=SEQUENCE_LENGTH,\n",
    "    image_height=IMAGE_HEIGHT,\n",
    "    image_width=IMAGE_WIDTH,\n",
    "    classes_list=CLASSES_LIST,\n",
    "    dropout_rate=DROPOUT_RATE\n",
    ")\n",
    "\n",
    "# Check if model was created successfully\n",
    "if xlstm_model is None:\n",
    "    print(\"Failed to create model. Check error messages above.\")\n",
    "else:\n",
    "    print(\"Model Created Successfully!\")"
   ]
  },
  {
   "cell_type": "markdown",
   "id": "acdb54b0",
   "metadata": {
    "papermill": {
     "duration": 0.267849,
     "end_time": "2025-07-06T16:58:41.388151",
     "exception": false,
     "start_time": "2025-07-06T16:58:41.120302",
     "status": "completed"
    },
    "tags": []
   },
   "source": [
    "## Plot Model Structure"
   ]
  },
  {
   "cell_type": "code",
   "execution_count": 55,
   "id": "4e784923",
   "metadata": {
    "execution": {
     "iopub.execute_input": "2025-07-06T16:58:41.792560Z",
     "iopub.status.busy": "2025-07-06T16:58:41.792279Z",
     "iopub.status.idle": "2025-07-06T16:58:42.121450Z",
     "shell.execute_reply": "2025-07-06T16:58:42.120620Z"
    },
    "papermill": {
     "duration": 0.530552,
     "end_time": "2025-07-06T16:58:42.122809",
     "exception": false,
     "start_time": "2025-07-06T16:58:41.592257",
     "status": "completed"
    },
    "tags": []
   },
   "outputs": [
    {
     "name": "stdout",
     "output_type": "stream",
     "text": [
      "Xception Model Plot saved successfully...\n"
     ]
    }
   ],
   "source": [
    "# Plot the structure of the contructed model.\n",
    "from tensorflow.keras.utils import plot_model\n",
    "\n",
    "plot_model(xlstm_model, to_file = f'{MODEL_NAME}_model_Plot.png', show_shapes = True, show_layer_names = True)\n",
    "\n",
    "print(f\"{MODEL_NAME} Model Plot saved successfully...\")"
   ]
  },
  {
   "cell_type": "markdown",
   "id": "02ded1fe",
   "metadata": {
    "papermill": {
     "duration": 0.206658,
     "end_time": "2025-07-06T16:58:42.532810",
     "exception": false,
     "start_time": "2025-07-06T16:58:42.326152",
     "status": "completed"
    },
    "tags": []
   },
   "source": [
    "## Model Compile"
   ]
  },
  {
   "cell_type": "code",
   "execution_count": 56,
   "id": "00c457fa",
   "metadata": {
    "execution": {
     "iopub.execute_input": "2025-07-06T16:58:42.989816Z",
     "iopub.status.busy": "2025-07-06T16:58:42.989068Z",
     "iopub.status.idle": "2025-07-06T16:58:43.004643Z",
     "shell.execute_reply": "2025-07-06T16:58:43.004156Z"
    },
    "papermill": {
     "duration": 0.268339,
     "end_time": "2025-07-06T16:58:43.005726",
     "exception": false,
     "start_time": "2025-07-06T16:58:42.737387",
     "status": "completed"
    },
    "tags": []
   },
   "outputs": [],
   "source": [
    "# Create an Instance of Early Stopping Callback\n",
    "from tensorflow.keras.callbacks import EarlyStopping\n",
    "\n",
    "early_stopping_callback = EarlyStopping(monitor = 'val_loss', \n",
    "                                        patience = 7, \n",
    "                                        mode = 'min', \n",
    "                                        restore_best_weights = True)\n",
    "\n",
    "# Compile the model and specify loss function, optimizer and metrics values to the model\n",
    "xlstm_model.compile(loss = 'categorical_crossentropy', \n",
    "                    optimizer=tf.keras.optimizers.Adam(learning_rate=0.0001),\n",
    "                    metrics = [\"accuracy\"])\n"
   ]
  },
  {
   "cell_type": "markdown",
   "id": "89fe9dca",
   "metadata": {
    "papermill": {
     "duration": 0.20066,
     "end_time": "2025-07-06T16:58:43.405355",
     "exception": false,
     "start_time": "2025-07-06T16:58:43.204695",
     "status": "completed"
    },
    "tags": []
   },
   "source": [
    "## 💪 Model Fit"
   ]
  },
  {
   "cell_type": "code",
   "execution_count": 57,
   "id": "15464178",
   "metadata": {
    "execution": {
     "iopub.execute_input": "2025-07-06T16:58:43.803221Z",
     "iopub.status.busy": "2025-07-06T16:58:43.802599Z",
     "iopub.status.idle": "2025-07-06T16:58:43.809675Z",
     "shell.execute_reply": "2025-07-06T16:58:43.808833Z"
    },
    "papermill": {
     "duration": 0.206961,
     "end_time": "2025-07-06T16:58:43.810772",
     "exception": false,
     "start_time": "2025-07-06T16:58:43.603811",
     "status": "completed"
    },
    "tags": []
   },
   "outputs": [
    {
     "name": "stdout",
     "output_type": "stream",
     "text": [
      "Unique labels: [ 0  1  2  3  4  5  6  7  8  9 10 11 12 13 14 15 16 17]\n",
      "NO_OF_CLASSES: 18\n"
     ]
    }
   ],
   "source": [
    "labels = np.argmax(train_gen.labels, axis=1)  # assuming one-hot encoded\n",
    "print(\"Unique labels:\", np.unique(labels))\n",
    "print(\"NO_OF_CLASSES:\", NO_OF_CLASSES)\n"
   ]
  },
  {
   "cell_type": "code",
   "execution_count": 58,
   "id": "15fd3f9d",
   "metadata": {
    "execution": {
     "iopub.execute_input": "2025-07-06T16:58:44.256496Z",
     "iopub.status.busy": "2025-07-06T16:58:44.255748Z",
     "iopub.status.idle": "2025-07-06T16:58:44.263748Z",
     "shell.execute_reply": "2025-07-06T16:58:44.263097Z"
    },
    "papermill": {
     "duration": 0.208274,
     "end_time": "2025-07-06T16:58:44.264816",
     "exception": false,
     "start_time": "2025-07-06T16:58:44.056542",
     "status": "completed"
    },
    "tags": []
   },
   "outputs": [
    {
     "name": "stdout",
     "output_type": "stream",
     "text": [
      "Train label shape: (2764, 18)\n",
      "Val label shape: (692, 18)\n"
     ]
    }
   ],
   "source": [
    "print(\"Train label shape:\", np.shape(train_gen.labels))\n",
    "print(\"Val label shape:\", np.shape(val_gen.labels))\n"
   ]
  },
  {
   "cell_type": "code",
   "execution_count": 59,
   "id": "4d9ab5a9",
   "metadata": {
    "execution": {
     "iopub.execute_input": "2025-07-06T16:58:44.664962Z",
     "iopub.status.busy": "2025-07-06T16:58:44.664677Z",
     "iopub.status.idle": "2025-07-06T17:57:41.521105Z",
     "shell.execute_reply": "2025-07-06T17:57:41.520429Z"
    },
    "papermill": {
     "duration": 3537.059431,
     "end_time": "2025-07-06T17:57:41.522732",
     "exception": false,
     "start_time": "2025-07-06T16:58:44.463301",
     "status": "completed"
    },
    "tags": []
   },
   "outputs": [
    {
     "name": "stdout",
     "output_type": "stream",
     "text": [
      "Dataset - Kard Kinect Activity Recognition Dataset\n",
      "There are total 18 classes, selected 18 classes\n",
      "Setting 30 videos/class to train the model.\n",
      "Image size 128x128 with 5 sequence length\n",
      "Dropout rate: 0.5\n",
      "Train-Test split ratio 80/20\n",
      "Validation data from Train set 20.0%\n",
      "\n",
      "\n",
      "Training started for 2764 videos of 18 classes with 692 videos for validation...\n",
      "Epoch 1/30\n"
     ]
    },
    {
     "name": "stderr",
     "output_type": "stream",
     "text": [
      "I0000 00:00:1751821186.248612      85 cuda_dnn.cc:529] Loaded cuDNN version 90300\n"
     ]
    },
    {
     "name": "stdout",
     "output_type": "stream",
     "text": [
      "    173/Unknown \u001b[1m172s\u001b[0m 618ms/step - accuracy: 0.0496 - loss: 31.7620"
     ]
    },
    {
     "name": "stderr",
     "output_type": "stream",
     "text": [
      "/usr/local/lib/python3.11/dist-packages/keras/src/trainers/epoch_iterator.py:151: UserWarning: Your input ran out of data; interrupting training. Make sure that your dataset or generator can generate at least `steps_per_epoch * epochs` batches. You may need to use the `.repeat()` function when building your dataset.\n",
      "  self._interrupted_warning()\n"
     ]
    },
    {
     "name": "stdout",
     "output_type": "stream",
     "text": [
      "\u001b[1m173/173\u001b[0m \u001b[32m━━━━━━━━━━━━━━━━━━━━\u001b[0m\u001b[37m\u001b[0m \u001b[1m184s\u001b[0m 689ms/step - accuracy: 0.0496 - loss: 31.7389 - val_accuracy: 0.0535 - val_loss: 20.6713 - learning_rate: 1.0000e-04\n",
      "Epoch 2/30\n",
      "\u001b[1m173/173\u001b[0m \u001b[32m━━━━━━━━━━━━━━━━━━━━\u001b[0m\u001b[37m\u001b[0m \u001b[1m113s\u001b[0m 652ms/step - accuracy: 0.0696 - loss: 18.3774 - val_accuracy: 0.0607 - val_loss: 13.1665 - learning_rate: 1.0000e-04\n",
      "Epoch 3/30\n",
      "\u001b[1m173/173\u001b[0m \u001b[32m━━━━━━━━━━━━━━━━━━━━\u001b[0m\u001b[37m\u001b[0m \u001b[1m114s\u001b[0m 656ms/step - accuracy: 0.0651 - loss: 12.0801 - val_accuracy: 0.0549 - val_loss: 9.4882 - learning_rate: 1.0000e-04\n",
      "Epoch 4/30\n",
      "\u001b[1m173/173\u001b[0m \u001b[32m━━━━━━━━━━━━━━━━━━━━\u001b[0m\u001b[37m\u001b[0m \u001b[1m115s\u001b[0m 665ms/step - accuracy: 0.0570 - loss: 8.8840 - val_accuracy: 0.0737 - val_loss: 7.3436 - learning_rate: 1.0000e-04\n",
      "Epoch 5/30\n",
      "\u001b[1m173/173\u001b[0m \u001b[32m━━━━━━━━━━━━━━━━━━━━\u001b[0m\u001b[37m\u001b[0m \u001b[1m116s\u001b[0m 671ms/step - accuracy: 0.1251 - loss: 6.8525 - val_accuracy: 0.3468 - val_loss: 5.7278 - learning_rate: 1.0000e-04\n",
      "Epoch 6/30\n",
      "\u001b[1m173/173\u001b[0m \u001b[32m━━━━━━━━━━━━━━━━━━━━\u001b[0m\u001b[37m\u001b[0m \u001b[1m116s\u001b[0m 670ms/step - accuracy: 0.3971 - loss: 5.0025 - val_accuracy: 0.6257 - val_loss: 3.8726 - learning_rate: 1.0000e-04\n",
      "Epoch 7/30\n",
      "\u001b[1m173/173\u001b[0m \u001b[32m━━━━━━━━━━━━━━━━━━━━\u001b[0m\u001b[37m\u001b[0m \u001b[1m116s\u001b[0m 669ms/step - accuracy: 0.6081 - loss: 3.7981 - val_accuracy: 0.7630 - val_loss: 3.0834 - learning_rate: 1.0000e-04\n",
      "Epoch 8/30\n",
      "\u001b[1m173/173\u001b[0m \u001b[32m━━━━━━━━━━━━━━━━━━━━\u001b[0m\u001b[37m\u001b[0m \u001b[1m116s\u001b[0m 669ms/step - accuracy: 0.7644 - loss: 3.0034 - val_accuracy: 0.7876 - val_loss: 2.6617 - learning_rate: 1.0000e-04\n",
      "Epoch 9/30\n",
      "\u001b[1m173/173\u001b[0m \u001b[32m━━━━━━━━━━━━━━━━━━━━\u001b[0m\u001b[37m\u001b[0m \u001b[1m116s\u001b[0m 670ms/step - accuracy: 0.8604 - loss: 2.4294 - val_accuracy: 0.8728 - val_loss: 2.1873 - learning_rate: 1.0000e-04\n",
      "Epoch 10/30\n",
      "\u001b[1m173/173\u001b[0m \u001b[32m━━━━━━━━━━━━━━━━━━━━\u001b[0m\u001b[37m\u001b[0m \u001b[1m116s\u001b[0m 671ms/step - accuracy: 0.9130 - loss: 2.0368 - val_accuracy: 0.8555 - val_loss: 2.1070 - learning_rate: 1.0000e-04\n",
      "Epoch 11/30\n",
      "\u001b[1m173/173\u001b[0m \u001b[32m━━━━━━━━━━━━━━━━━━━━\u001b[0m\u001b[37m\u001b[0m \u001b[1m116s\u001b[0m 670ms/step - accuracy: 0.9426 - loss: 1.7398 - val_accuracy: 0.8685 - val_loss: 1.8129 - learning_rate: 1.0000e-04\n",
      "Epoch 12/30\n",
      "\u001b[1m173/173\u001b[0m \u001b[32m━━━━━━━━━━━━━━━━━━━━\u001b[0m\u001b[37m\u001b[0m \u001b[1m116s\u001b[0m 670ms/step - accuracy: 0.9691 - loss: 1.4794 - val_accuracy: 0.9147 - val_loss: 1.5175 - learning_rate: 1.0000e-04\n",
      "Epoch 13/30\n",
      "\u001b[1m173/173\u001b[0m \u001b[32m━━━━━━━━━━━━━━━━━━━━\u001b[0m\u001b[37m\u001b[0m \u001b[1m116s\u001b[0m 670ms/step - accuracy: 0.9785 - loss: 1.2965 - val_accuracy: 0.8931 - val_loss: 1.4458 - learning_rate: 1.0000e-04\n",
      "Epoch 14/30\n",
      "\u001b[1m173/173\u001b[0m \u001b[32m━━━━━━━━━━━━━━━━━━━━\u001b[0m\u001b[37m\u001b[0m \u001b[1m116s\u001b[0m 670ms/step - accuracy: 0.9799 - loss: 1.1334 - val_accuracy: 0.9205 - val_loss: 1.1669 - learning_rate: 1.0000e-04\n",
      "Epoch 15/30\n",
      "\u001b[1m173/173\u001b[0m \u001b[32m━━━━━━━━━━━━━━━━━━━━\u001b[0m\u001b[37m\u001b[0m \u001b[1m116s\u001b[0m 670ms/step - accuracy: 0.9935 - loss: 0.9582 - val_accuracy: 0.9292 - val_loss: 1.0731 - learning_rate: 1.0000e-04\n",
      "Epoch 16/30\n",
      "\u001b[1m173/173\u001b[0m \u001b[32m━━━━━━━━━━━━━━━━━━━━\u001b[0m\u001b[37m\u001b[0m \u001b[1m116s\u001b[0m 670ms/step - accuracy: 0.9949 - loss: 0.8298 - val_accuracy: 0.9364 - val_loss: 0.9045 - learning_rate: 1.0000e-04\n",
      "Epoch 17/30\n",
      "\u001b[1m173/173\u001b[0m \u001b[32m━━━━━━━━━━━━━━━━━━━━\u001b[0m\u001b[37m\u001b[0m \u001b[1m116s\u001b[0m 670ms/step - accuracy: 0.9953 - loss: 0.7162 - val_accuracy: 0.9321 - val_loss: 0.8220 - learning_rate: 1.0000e-04\n",
      "Epoch 18/30\n",
      "\u001b[1m173/173\u001b[0m \u001b[32m━━━━━━━━━━━━━━━━━━━━\u001b[0m\u001b[37m\u001b[0m \u001b[1m116s\u001b[0m 670ms/step - accuracy: 0.9998 - loss: 0.6057 - val_accuracy: 0.9436 - val_loss: 0.6754 - learning_rate: 1.0000e-04\n",
      "Epoch 19/30\n",
      "\u001b[1m173/173\u001b[0m \u001b[32m━━━━━━━━━━━━━━━━━━━━\u001b[0m\u001b[37m\u001b[0m \u001b[1m116s\u001b[0m 669ms/step - accuracy: 1.0000 - loss: 0.5092 - val_accuracy: 0.9436 - val_loss: 0.6028 - learning_rate: 1.0000e-04\n",
      "Epoch 20/30\n",
      "\u001b[1m173/173\u001b[0m \u001b[32m━━━━━━━━━━━━━━━━━━━━\u001b[0m\u001b[37m\u001b[0m \u001b[1m116s\u001b[0m 670ms/step - accuracy: 1.0000 - loss: 0.4295 - val_accuracy: 0.9408 - val_loss: 0.5346 - learning_rate: 1.0000e-04\n",
      "Epoch 21/30\n",
      "\u001b[1m173/173\u001b[0m \u001b[32m━━━━━━━━━━━━━━━━━━━━\u001b[0m\u001b[37m\u001b[0m \u001b[1m116s\u001b[0m 671ms/step - accuracy: 1.0000 - loss: 0.3600 - val_accuracy: 0.9436 - val_loss: 0.4641 - learning_rate: 1.0000e-04\n",
      "Epoch 22/30\n",
      "\u001b[1m173/173\u001b[0m \u001b[32m━━━━━━━━━━━━━━━━━━━━\u001b[0m\u001b[37m\u001b[0m \u001b[1m116s\u001b[0m 670ms/step - accuracy: 1.0000 - loss: 0.2997 - val_accuracy: 0.9494 - val_loss: 0.3952 - learning_rate: 1.0000e-04\n",
      "Epoch 23/30\n",
      "\u001b[1m173/173\u001b[0m \u001b[32m━━━━━━━━━━━━━━━━━━━━\u001b[0m\u001b[37m\u001b[0m \u001b[1m116s\u001b[0m 669ms/step - accuracy: 1.0000 - loss: 0.2488 - val_accuracy: 0.9509 - val_loss: 0.3567 - learning_rate: 1.0000e-04\n",
      "Epoch 24/30\n",
      "\u001b[1m173/173\u001b[0m \u001b[32m━━━━━━━━━━━━━━━━━━━━\u001b[0m\u001b[37m\u001b[0m \u001b[1m116s\u001b[0m 670ms/step - accuracy: 1.0000 - loss: 0.2086 - val_accuracy: 0.9494 - val_loss: 0.3151 - learning_rate: 1.0000e-04\n",
      "Epoch 25/30\n",
      "\u001b[1m173/173\u001b[0m \u001b[32m━━━━━━━━━━━━━━━━━━━━\u001b[0m\u001b[37m\u001b[0m \u001b[1m116s\u001b[0m 670ms/step - accuracy: 1.0000 - loss: 0.1727 - val_accuracy: 0.9566 - val_loss: 0.2832 - learning_rate: 1.0000e-04\n",
      "Epoch 26/30\n",
      "\u001b[1m173/173\u001b[0m \u001b[32m━━━━━━━━━━━━━━━━━━━━\u001b[0m\u001b[37m\u001b[0m \u001b[1m115s\u001b[0m 667ms/step - accuracy: 1.0000 - loss: 0.1454 - val_accuracy: 0.9436 - val_loss: 0.2797 - learning_rate: 1.0000e-04\n",
      "Epoch 27/30\n",
      "\u001b[1m173/173\u001b[0m \u001b[32m━━━━━━━━━━━━━━━━━━━━\u001b[0m\u001b[37m\u001b[0m \u001b[1m115s\u001b[0m 668ms/step - accuracy: 1.0000 - loss: 0.1223 - val_accuracy: 0.9509 - val_loss: 0.2478 - learning_rate: 1.0000e-04\n",
      "Epoch 28/30\n",
      "\u001b[1m173/173\u001b[0m \u001b[32m━━━━━━━━━━━━━━━━━━━━\u001b[0m\u001b[37m\u001b[0m \u001b[1m115s\u001b[0m 667ms/step - accuracy: 1.0000 - loss: 0.1040 - val_accuracy: 0.9436 - val_loss: 0.2410 - learning_rate: 1.0000e-04\n",
      "Epoch 29/30\n",
      "\u001b[1m173/173\u001b[0m \u001b[32m━━━━━━━━━━━━━━━━━━━━\u001b[0m\u001b[37m\u001b[0m \u001b[1m115s\u001b[0m 667ms/step - accuracy: 1.0000 - loss: 0.0888 - val_accuracy: 0.9509 - val_loss: 0.2343 - learning_rate: 1.0000e-04\n",
      "Epoch 30/30\n",
      "\u001b[1m173/173\u001b[0m \u001b[32m━━━━━━━━━━━━━━━━━━━━\u001b[0m\u001b[37m\u001b[0m \u001b[1m116s\u001b[0m 668ms/step - accuracy: 1.0000 - loss: 0.0775 - val_accuracy: 0.9523 - val_loss: 0.2087 - learning_rate: 1.0000e-04\n"
     ]
    }
   ],
   "source": [
    "from tensorflow.keras.callbacks import ReduceLROnPlateau\n",
    "\n",
    "lr_scheduler = ReduceLROnPlateau(monitor='val_loss', \n",
    "                                 factor=0.5, \n",
    "                                 patience=3, \n",
    "                                 min_lr=1e-6)\n",
    "\n",
    "\n",
    "\n",
    "print(f\"Dataset - {DATASET_NAME}\")\n",
    "print(f\"There are total {len(ALL_CLASS_NAMES)} classes, selected {NO_OF_CLASSES} classes\")\n",
    "print(f\"Setting {MAX_VIDEO_PER_CLASS} videos/class to train the model.\")\n",
    "print(f\"Image size {IMAGE_HEIGHT}x{IMAGE_WIDTH} with {SEQUENCE_LENGTH} sequence length\")\n",
    "print(f\"Dropout rate: {DROPOUT_RATE}\")\n",
    "print(f\"Train-Test split ratio {int((1-TEST_SIZE)*100)}/{int(TEST_SIZE*100)}\")\n",
    "print(f\"Validation data from Train set {VALIDATION_SPLIT*100}%\")\n",
    "\n",
    "print(\"\\n\")\n",
    "\n",
    "print(f\"Training started for {len(train_gen.videos)} videos of {NO_OF_CLASSES} classes with {len(val_gen.videos)} videos for validation...\")\n",
    "\n",
    "model_history = xlstm_model.fit(\n",
    "    train_gen.as_dataset(),\n",
    "    validation_data=val_gen.as_dataset(),\n",
    "    epochs=EPOCHS,\n",
    "    # class_weight=class_weight_dict,\n",
    "    callbacks=[early_stopping_callback, lr_scheduler]\n",
    ")"
   ]
  },
  {
   "cell_type": "markdown",
   "id": "5321b388",
   "metadata": {
    "papermill": {
     "duration": 0.575136,
     "end_time": "2025-07-06T17:57:42.590182",
     "exception": false,
     "start_time": "2025-07-06T17:57:42.015046",
     "status": "completed"
    },
    "tags": []
   },
   "source": [
    "# Evaluation"
   ]
  },
  {
   "cell_type": "markdown",
   "id": "12d33a06",
   "metadata": {
    "papermill": {
     "duration": 0.500098,
     "end_time": "2025-07-06T17:57:43.582677",
     "exception": false,
     "start_time": "2025-07-06T17:57:43.082579",
     "status": "completed"
    },
    "tags": []
   },
   "source": [
    "## ⚡ Model Evaluate"
   ]
  },
  {
   "cell_type": "code",
   "execution_count": 60,
   "id": "16d8185b",
   "metadata": {
    "execution": {
     "iopub.execute_input": "2025-07-06T17:57:44.655203Z",
     "iopub.status.busy": "2025-07-06T17:57:44.654584Z",
     "iopub.status.idle": "2025-07-06T17:57:54.885063Z",
     "shell.execute_reply": "2025-07-06T17:57:54.884403Z"
    },
    "papermill": {
     "duration": 10.734174,
     "end_time": "2025-07-06T17:57:54.886496",
     "exception": false,
     "start_time": "2025-07-06T17:57:44.152322",
     "status": "completed"
    },
    "tags": []
   },
   "outputs": [
    {
     "name": "stdout",
     "output_type": "stream",
     "text": [
      "\u001b[1m27/27\u001b[0m \u001b[32m━━━━━━━━━━━━━━━━━━━━\u001b[0m\u001b[37m\u001b[0m \u001b[1m8s\u001b[0m 269ms/step - accuracy: 0.9576 - loss: 0.1986\n"
     ]
    }
   ],
   "source": [
    "# previous code\n",
    "model_evaluation_history = xlstm_model.evaluate(features_test, labels_test)"
   ]
  },
  {
   "cell_type": "code",
   "execution_count": 61,
   "id": "c4760a6d",
   "metadata": {
    "execution": {
     "iopub.execute_input": "2025-07-06T17:57:55.914176Z",
     "iopub.status.busy": "2025-07-06T17:57:55.913283Z",
     "iopub.status.idle": "2025-07-06T17:57:56.351702Z",
     "shell.execute_reply": "2025-07-06T17:57:56.350787Z"
    },
    "papermill": {
     "duration": 0.983611,
     "end_time": "2025-07-06T17:57:56.353833",
     "exception": false,
     "start_time": "2025-07-06T17:57:55.370222",
     "status": "completed"
    },
    "tags": []
   },
   "outputs": [
    {
     "data": {
      "image/png": "[encoded data removed]",
      "text/plain": [
       "<Figure size 1200x500 with 2 Axes>"
      ]
     },
     "metadata": {},
     "output_type": "display_data"
    }
   ],
   "source": [
    "import matplotlib.pyplot as plt\n",
    "\n",
    "# Accuracy\n",
    "plt.figure(figsize=(12, 5))\n",
    "\n",
    "plt.subplot(1, 2, 1)\n",
    "plt.plot(model_history.history['accuracy'], label='Train Accuracy')\n",
    "plt.plot(model_history.history['val_accuracy'], label='Validation Accuracy')\n",
    "plt.title('Model Accuracy')\n",
    "plt.xlabel('Epoch')\n",
    "plt.ylabel('Accuracy')\n",
    "plt.legend()\n",
    "\n",
    "# Loss\n",
    "plt.subplot(1, 2, 2)\n",
    "plt.plot(model_history.history['loss'], label='Train Loss')\n",
    "plt.plot(model_history.history['val_loss'], label='Validation Loss')\n",
    "plt.title('Model Loss')\n",
    "plt.xlabel('Epoch')\n",
    "plt.ylabel('Loss')\n",
    "plt.legend()\n",
    "\n",
    "plt.tight_layout()\n",
    "plt.show()\n"
   ]
  },
  {
   "cell_type": "markdown",
   "id": "3012f849",
   "metadata": {
    "papermill": {
     "duration": 0.466391,
     "end_time": "2025-07-06T17:57:57.384027",
     "exception": false,
     "start_time": "2025-07-06T17:57:56.917636",
     "status": "completed"
    },
    "tags": []
   },
   "source": [
    "## 📈 Confusion Matrix"
   ]
  },
  {
   "cell_type": "code",
   "execution_count": 62,
   "id": "cd988b00",
   "metadata": {
    "execution": {
     "iopub.execute_input": "2025-07-06T17:57:58.430431Z",
     "iopub.status.busy": "2025-07-06T17:57:58.429833Z",
     "iopub.status.idle": "2025-07-06T17:58:16.371969Z",
     "shell.execute_reply": "2025-07-06T17:58:16.371265Z"
    },
    "papermill": {
     "duration": 18.507137,
     "end_time": "2025-07-06T17:58:16.373447",
     "exception": false,
     "start_time": "2025-07-06T17:57:57.866310",
     "status": "completed"
    },
    "tags": []
   },
   "outputs": [
    {
     "name": "stdout",
     "output_type": "stream",
     "text": [
      "Total 864 videos and 864 classes\n",
      "\u001b[1m216/216\u001b[0m \u001b[32m━━━━━━━━━━━━━━━━━━━━\u001b[0m\u001b[37m\u001b[0m \u001b[1m17s\u001b[0m 53ms/step\n",
      "True classes shape: (864,)\n",
      "Predicted classes shape: (864,)\n",
      "Classification Report:\n",
      "                     precision    recall  f1-score   support\n",
      "\n",
      "          Catch Cap       0.98      1.00      0.99        54\n",
      "              Drink       1.00      0.97      0.98        59\n",
      "           Sit down       1.00      1.00      1.00        40\n",
      "          Draw Tick       0.71      0.74      0.73        47\n",
      "         Phone Call       1.00      0.98      0.99        49\n",
      "Horizontal arm wave       0.88      0.88      0.88        52\n",
      "          Hand Clap       0.98      0.98      0.98        53\n",
      "         High throw       0.90      0.88      0.89        50\n",
      "       Forward Kick       0.96      1.00      0.98        45\n",
      "           Stand up       1.00      1.00      1.00        34\n",
      "      Two hand wave       1.00      1.00      1.00        35\n",
      "         Toss Paper       1.00      0.98      0.99        42\n",
      "               Walk       1.00      1.00      1.00        57\n",
      "          Side Kick       1.00      0.98      0.99        56\n",
      "               Bend       1.00      1.00      1.00        42\n",
      "      Take Umbrella       0.98      1.00      0.99        55\n",
      "      High arm wave       0.98      0.96      0.97        49\n",
      "             Draw X       0.78      0.80      0.79        45\n",
      "\n",
      "           accuracy                           0.95       864\n",
      "          macro avg       0.95      0.95      0.95       864\n",
      "       weighted avg       0.95      0.95      0.95       864\n",
      "\n"
     ]
    },
    {
     "name": "stderr",
     "output_type": "stream",
     "text": [
      "/usr/local/lib/python3.11/dist-packages/keras/src/trainers/epoch_iterator.py:151: UserWarning: Your input ran out of data; interrupting training. Make sure that your dataset or generator can generate at least `steps_per_epoch * epochs` batches. You may need to use the `.repeat()` function when building your dataset.\n",
      "  self._interrupted_warning()\n"
     ]
    },
    {
     "data": {
      "image/png": "[encoded data removed]",
      "text/plain": [
       "<Figure size 800x600 with 2 Axes>"
      ]
     },
     "metadata": {},
     "output_type": "display_data"
    }
   ],
   "source": [
    "from sklearn.metrics import classification_report, confusion_matrix\n",
    "import seaborn as sns\n",
    "import matplotlib.pyplot as plt\n",
    "\n",
    "# Create test generator with batch_size matching test set size\n",
    "test_gen = VideoDataGenerator(\n",
    "    videos=features_test,\n",
    "    labels=labels_test,\n",
    "    batch_size=4,  # Process all test samples at once\n",
    ")\n",
    "\n",
    "# Get predictions\n",
    "predictions = xlstm_model.predict(test_gen.as_dataset())\n",
    "predicted_classes = np.argmax(predictions, axis=1)\n",
    "true_classes = np.argmax(labels_test, axis=1)\n",
    "\n",
    "# Verify shapes\n",
    "print(f\"True classes shape: {true_classes.shape}\")\n",
    "print(f\"Predicted classes shape: {predicted_classes.shape}\")\n",
    "assert len(true_classes) == len(predicted_classes), \"Sample counts do not match!\"\n",
    "\n",
    "# Generate classification report\n",
    "print(\"Classification Report:\")\n",
    "print(classification_report(true_classes, predicted_classes, target_names=CLASSES_LIST))\n",
    "\n",
    "# Plot confusion matrix\n",
    "cm = confusion_matrix(true_classes, predicted_classes)\n",
    "plt.figure(figsize=(8, 6))\n",
    "sns.heatmap(cm, annot=True, fmt='d', cmap='Blues', xticklabels=CLASSES_LIST, yticklabels=CLASSES_LIST[-1])\n",
    "plt.xlabel('Predicted')\n",
    "plt.ylabel('True')\n",
    "plt.title('Confusion Matrix')\n",
    "plt.show()"
   ]
  }
 ],
 "metadata": {
  "kaggle": {
   "accelerator": "nvidiaTeslaT4",
   "dataSources": [
    {
     "datasetId": 1357563,
     "sourceId": 2256095,
     "sourceType": "datasetVersion"
    },
    {
     "datasetId": 7763484,
     "sourceId": 12338519,
     "sourceType": "datasetVersion"
    },
    {
     "datasetId": 7801555,
     "sourceId": 12373067,
     "sourceType": "datasetVersion"
    },
    {
     "datasetId": 7801884,
     "sourceId": 12373562,
     "sourceType": "datasetVersion"
    }
   ],
   "dockerImageVersionId": 31041,
   "isGpuEnabled": true,
   "isInternetEnabled": true,
   "language": "python",
   "sourceType": "notebook"
  },
  "kernelspec": {
   "display_name": "Python 3",
   "language": "python",
   "name": "python3"
  },
  "language_info": {
   "codemirror_mode": {
    "name": "ipython",
    "version": 3
   },
   "file_extension": ".py",
   "mimetype": "text/x-python",
   "name": "python",
   "nbconvert_exporter": "python",
   "pygments_lexer": "ipython3",
   "version": "3.11.11"
  },
  "papermill": {
   "default_parameters": {},
   "duration": 3805.772426,
   "end_time": "2025-07-06T17:58:20.707423",
   "environment_variables": {},
   "exception": null,
   "input_path": "__notebook__.ipynb",
   "output_path": "__notebook__.ipynb",
   "parameters": {},
   "start_time": "2025-07-06T16:54:54.934997",
   "version": "2.6.0"
  }
 },
 "nbformat": 4,
 "nbformat_minor": 5
}
