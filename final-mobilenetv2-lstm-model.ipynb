{
 "cells": [
  {
   "cell_type": "markdown",
   "id": "dc14b668",
   "metadata": {
    "papermill": {
     "duration": 0.009658,
     "end_time": "2025-07-11T14:43:43.160255",
     "exception": false,
     "start_time": "2025-07-11T14:43:43.150597",
     "status": "completed"
    },
    "tags": []
   },
   "source": [
    "# Initialization\n",
    "## Import Libraries"
   ]
  },
  {
   "cell_type": "code",
   "execution_count": 1,
   "id": "b51779fa",
   "metadata": {
    "_cell_guid": "b1076dfc-b9ad-4769-8c92-a6c4dae69d19",
    "_uuid": "8f2839f25d086af736a60e9eeb907d3b93b6e0e5",
    "execution": {
     "iopub.execute_input": "2025-07-11T14:43:43.178199Z",
     "iopub.status.busy": "2025-07-11T14:43:43.177553Z",
     "iopub.status.idle": "2025-07-11T14:44:05.981537Z",
     "shell.execute_reply": "2025-07-11T14:44:05.980706Z"
    },
    "papermill": {
     "duration": 22.81428,
     "end_time": "2025-07-11T14:44:05.983002",
     "exception": false,
     "start_time": "2025-07-11T14:43:43.168722",
     "status": "completed"
    },
    "tags": []
   },
   "outputs": [
    {
     "name": "stderr",
     "output_type": "stream",
     "text": [
      "2025-07-11 14:43:46.549407: E external/local_xla/xla/stream_executor/cuda/cuda_fft.cc:477] Unable to register cuFFT factory: Attempting to register factory for plugin cuFFT when one has already been registered\n",
      "WARNING: All log messages before absl::InitializeLog() is called are written to STDERR\n",
      "E0000 00:00:1752245026.934326      19 cuda_dnn.cc:8310] Unable to register cuDNN factory: Attempting to register factory for plugin cuDNN when one has already been registered\n",
      "E0000 00:00:1752245027.040111      19 cuda_blas.cc:1418] Unable to register cuBLAS factory: Attempting to register factory for plugin cuBLAS when one has already been registered\n"
     ]
    }
   ],
   "source": [
    "# install librarires\n",
    "import os\n",
    "import tensorflow as tf\n",
    "import numpy as np\n",
    "import random"
   ]
  },
  {
   "cell_type": "markdown",
   "id": "0ff38129",
   "metadata": {
    "papermill": {
     "duration": 0.009234,
     "end_time": "2025-07-11T14:44:06.001771",
     "exception": false,
     "start_time": "2025-07-11T14:44:05.992537",
     "status": "completed"
    },
    "tags": []
   },
   "source": [
    "## ℹ️ Set Global Constants"
   ]
  },
  {
   "cell_type": "code",
   "execution_count": 2,
   "id": "361621d3",
   "metadata": {
    "execution": {
     "iopub.execute_input": "2025-07-11T14:44:06.018892Z",
     "iopub.status.busy": "2025-07-11T14:44:06.018435Z",
     "iopub.status.idle": "2025-07-11T14:44:06.031246Z",
     "shell.execute_reply": "2025-07-11T14:44:06.030628Z"
    },
    "papermill": {
     "duration": 0.022642,
     "end_time": "2025-07-11T14:44:06.032409",
     "exception": false,
     "start_time": "2025-07-11T14:44:06.009767",
     "status": "completed"
    },
    "tags": []
   },
   "outputs": [
    {
     "name": "stdout",
     "output_type": "stream",
     "text": [
      "Kard Kinect Activity Recognition Dataset\n",
      "There are total 18 classes, selected 18 classes\n",
      "Setting None/class to train the model.\n",
      "Image size 128x128 with 5 sequence length\n",
      "Dropout rate: 0.5\n",
      "Train-Test split ratio 80/20\n",
      "Validation data from Train set 20.0%\n"
     ]
    }
   ],
   "source": [
    "# global variables\n",
    "# set dataset directories\n",
    "\n",
    "\n",
    "DATASET_DIR = \"/kaggle/input/kard-kinect-activity-recognition-dataset\"\n",
    "DATASET_NAME = DATASET_DIR.split(\"/\")[-1].replace(\"-\", \" \").title()\n",
    "\n",
    "print(DATASET_NAME)\n",
    "\n",
    "ALL_CLASS_NAMES = os.listdir(DATASET_DIR)\n",
    "\n",
    "# Global constant variables -> \n",
    "NO_OF_CLASSES = len(ALL_CLASS_NAMES)\n",
    "CLASSES_LIST = ALL_CLASS_NAMES[:NO_OF_CLASSES]\n",
    "\n",
    "# Model Configuration\n",
    "IMAGE_HEIGHT, IMAGE_WIDTH = 128, 128\n",
    "SEQUENCE_LENGTH = 5\n",
    "\n",
    "# set drop out rate\n",
    "DROPOUT_RATE = 0.5\n",
    "\n",
    "# set datas\n",
    "MAX_VIDEO_PER_CLASS = None\n",
    "\n",
    "# split dataset\n",
    "TEST_SIZE = 0.20\n",
    "\n",
    "# model fit parameters\n",
    "EPOCHS = 30\n",
    "BATCH_SIZE = 24\n",
    "VALIDATION_SPLIT = 0.20\n",
    "\n",
    "# augmentation values\n",
    "NOISE_FACTOR = 0.02\n",
    "SHEAR_X= 1\n",
    "SHEAR_Y= 1\n",
    "\n",
    "# give a name of the model to save\n",
    "MODEL_NAME = \"Xception\"\n",
    "\n",
    "print(f\"There are total {len(ALL_CLASS_NAMES)} classes, selected {NO_OF_CLASSES} classes\")\n",
    "print(f\"Setting {MAX_VIDEO_PER_CLASS}/class to train the model.\")\n",
    "print(f\"Image size {IMAGE_HEIGHT}x{IMAGE_WIDTH} with {SEQUENCE_LENGTH} sequence length\")\n",
    "print(f\"Dropout rate: {DROPOUT_RATE}\")\n",
    "print(f\"Train-Test split ratio {int((1-TEST_SIZE)*100)}/{int(TEST_SIZE*100)}\")\n",
    "print(f\"Validation data from Train set {VALIDATION_SPLIT*100}%\")"
   ]
  },
  {
   "cell_type": "markdown",
   "id": "31ba0419",
   "metadata": {
    "papermill": {
     "duration": 0.0078,
     "end_time": "2025-07-11T14:44:06.048311",
     "exception": false,
     "start_time": "2025-07-11T14:44:06.040511",
     "status": "completed"
    },
    "tags": []
   },
   "source": [
    "## Set `Seed` Values"
   ]
  },
  {
   "cell_type": "code",
   "execution_count": 3,
   "id": "f053cbd4",
   "metadata": {
    "execution": {
     "iopub.execute_input": "2025-07-11T14:44:06.065404Z",
     "iopub.status.busy": "2025-07-11T14:44:06.065181Z",
     "iopub.status.idle": "2025-07-11T14:44:06.069420Z",
     "shell.execute_reply": "2025-07-11T14:44:06.068640Z"
    },
    "papermill": {
     "duration": 0.014136,
     "end_time": "2025-07-11T14:44:06.070394",
     "exception": false,
     "start_time": "2025-07-11T14:44:06.056258",
     "status": "completed"
    },
    "tags": []
   },
   "outputs": [],
   "source": [
    "# set seeed to get similar values\n",
    "seed_constant = 27\n",
    "np.random.seed(seed_constant)\n",
    "random.seed(seed_constant)\n",
    "tf.random.set_seed(seed_constant)"
   ]
  },
  {
   "cell_type": "markdown",
   "id": "08229a47",
   "metadata": {
    "papermill": {
     "duration": 0.007825,
     "end_time": "2025-07-11T14:44:06.086137",
     "exception": false,
     "start_time": "2025-07-11T14:44:06.078312",
     "status": "completed"
    },
    "tags": []
   },
   "source": [
    "# 📌 Function Definition\n",
    "## Resize and Frame Extraction"
   ]
  },
  {
   "cell_type": "code",
   "execution_count": 4,
   "id": "35493579",
   "metadata": {
    "execution": {
     "iopub.execute_input": "2025-07-11T14:44:06.103169Z",
     "iopub.status.busy": "2025-07-11T14:44:06.102966Z",
     "iopub.status.idle": "2025-07-11T14:44:06.110946Z",
     "shell.execute_reply": "2025-07-11T14:44:06.110420Z"
    },
    "papermill": {
     "duration": 0.017947,
     "end_time": "2025-07-11T14:44:06.111980",
     "exception": false,
     "start_time": "2025-07-11T14:44:06.094033",
     "status": "completed"
    },
    "tags": []
   },
   "outputs": [],
   "source": [
    "import cv2\n",
    "from concurrent.futures import ThreadPoolExecutor\n",
    "\n",
    "def resize_and_normalize_frame(frame, image_height, image_width):\n",
    "    try:\n",
    "        resized_frame = cv2.resize(frame, (image_width, image_height), interpolation=cv2.INTER_LINEAR)\n",
    "        normalized_frame = resized_frame / 255.0\n",
    "        return normalized_frame\n",
    "    except Exception as e:\n",
    "        print(f\"Error processing frame: {e}\")\n",
    "        return None\n",
    "\n",
    "def frames_extraction(video_path, \n",
    "                      sequence_length=SEQUENCE_LENGTH, \n",
    "                      image_height=IMAGE_HEIGHT, \n",
    "                      image_width=IMAGE_WIDTH):\n",
    "    # Declare a list to store video frames\n",
    "    frames_list = []\n",
    "\n",
    "    # Check if video file exists\n",
    "    if not os.path.exists(video_path):\n",
    "        print(f\"Error: Video file not found at {video_path}\")\n",
    "        return None\n",
    "\n",
    "    # Read the video file using VideoCapture with optimized settings\n",
    "    video_reader = cv2.VideoCapture(video_path, cv2.CAP_FFMPEG)\n",
    "\n",
    "    # Check if the video was opened successfully\n",
    "    if not video_reader.isOpened():\n",
    "        print(f\"Error: Could not open video file {video_path}\")\n",
    "        video_reader.release()\n",
    "        return None\n",
    "\n",
    "    # Get the total number of frames in the video\n",
    "    video_frames_count = int(video_reader.get(cv2.CAP_PROP_FRAME_COUNT))\n",
    "\n",
    "    # Ensure the video has enough frames\n",
    "    if video_frames_count < sequence_length:\n",
    "        print(f\"Warning: Video {video_path} has only {video_frames_count} frames, less than required {sequence_length}\")\n",
    "        video_reader.release()\n",
    "        return None\n",
    "\n",
    "    # Calculate the interval after which frames will be sampled\n",
    "    skip_frames_window = max(int(video_frames_count / sequence_length), 1)\n",
    "\n",
    "    # Pre-allocate frame indices to extract\n",
    "    frame_indices = [i * skip_frames_window for i in range(sequence_length)]\n",
    "\n",
    "    # Read and process frames in parallel\n",
    "    frames = []\n",
    "    for idx in frame_indices:\n",
    "        video_reader.set(cv2.CAP_PROP_POS_FRAMES, idx)\n",
    "        success, frame = video_reader.read()\n",
    "        if not success or frame is None:\n",
    "            print(f\"Warning: Failed to read frame at index {idx} from {video_path}\")\n",
    "            break\n",
    "        frame = cv2.cvtColor(frame, cv2.COLOR_BGR2RGB)\n",
    "        frames.append(frame)\n",
    "\n",
    "    # Release the VideoCapture object early\n",
    "    video_reader.release()\n",
    "\n",
    "    # Ensure the correct number of frames is read\n",
    "    if len(frames) != sequence_length:\n",
    "        print(f\"Warning: Read {len(frames)} frames instead of {sequence_length} from {video_path}\")\n",
    "        return None\n",
    "\n",
    "    # Process frames in parallel using ThreadPoolExecutor\n",
    "    with ThreadPoolExecutor() as executor:\n",
    "        processed_frames = list(executor.map(\n",
    "            lambda f: resize_and_normalize_frame(f, image_height, image_width), \n",
    "            frames\n",
    "        ))\n",
    "\n",
    "    # Check for any failed frame processing\n",
    "    if any(f is None for f in processed_frames):\n",
    "        print(f\"Warning: Some frames failed to process in {video_path}\")\n",
    "        return None\n",
    "\n",
    "    # Convert to NumPy array\n",
    "    frames_array = np.array(processed_frames, dtype=np.float32)\n",
    "\n",
    "    return frames_array"
   ]
  },
  {
   "cell_type": "code",
   "execution_count": 5,
   "id": "bb77fb80",
   "metadata": {
    "execution": {
     "iopub.execute_input": "2025-07-11T14:44:06.128873Z",
     "iopub.status.busy": "2025-07-11T14:44:06.128661Z",
     "iopub.status.idle": "2025-07-11T14:44:06.131920Z",
     "shell.execute_reply": "2025-07-11T14:44:06.131319Z"
    },
    "papermill": {
     "duration": 0.012734,
     "end_time": "2025-07-11T14:44:06.132903",
     "exception": false,
     "start_time": "2025-07-11T14:44:06.120169",
     "status": "completed"
    },
    "tags": []
   },
   "outputs": [],
   "source": [
    " # # Iterate through all video files\n",
    " #        for file_name in files_list:\n",
    " #            video_file_path = os.path.join(class_path, file_name)\n",
    "\n",
    " #            # Extract frames using the updated frames_extraction function\n",
    " #            frames = frames_extraction(video_file_path, sequence_length, image_height, image_width)\n",
    "\n",
    " #            # Skip videos where frame extraction failed\n",
    " #            if frames is None:\n",
    " #                print(f\"Skipping video {video_file_path} due to frame extraction failure\")\n",
    " #                continue\n",
    "\n",
    " #            # Append the data to respective lists\n",
    " #            features.append(frames)\n",
    " #            labels.append(class_index)"
   ]
  },
  {
   "cell_type": "markdown",
   "id": "e05c5244",
   "metadata": {
    "papermill": {
     "duration": 0.007729,
     "end_time": "2025-07-11T14:44:06.148536",
     "exception": false,
     "start_time": "2025-07-11T14:44:06.140807",
     "status": "completed"
    },
    "tags": []
   },
   "source": [
    "## Create Dataset"
   ]
  },
  {
   "cell_type": "code",
   "execution_count": 6,
   "id": "2e15aa1d",
   "metadata": {
    "execution": {
     "iopub.execute_input": "2025-07-11T14:44:06.165205Z",
     "iopub.status.busy": "2025-07-11T14:44:06.164978Z",
     "iopub.status.idle": "2025-07-11T14:44:06.171417Z",
     "shell.execute_reply": "2025-07-11T14:44:06.170740Z"
    },
    "papermill": {
     "duration": 0.016217,
     "end_time": "2025-07-11T14:44:06.172580",
     "exception": false,
     "start_time": "2025-07-11T14:44:06.156363",
     "status": "completed"
    },
    "tags": []
   },
   "outputs": [],
   "source": [
    "# RUN create dataset function definition\n",
    "def create_dataset(dataset_dir,\n",
    "                   classes_list, \n",
    "                   sequence_length=SEQUENCE_LENGTH, \n",
    "                   image_height=IMAGE_HEIGHT, \n",
    "                   image_width=IMAGE_WIDTH, \n",
    "                   max_videos_per_class=None,\n",
    "                   augmentations=False\n",
    "                  ):\n",
    "    \n",
    "    # Initialize lists to store features, labels, and video file paths\n",
    "    videos = []\n",
    "    labels = []\n",
    "\n",
    "    # Check if dataset directory exists\n",
    "    if not os.path.exists(dataset_dir):\n",
    "        raise FileNotFoundError(f\"Dataset directory not found: {dataset_dir}\")\n",
    "\n",
    "    # Iterate through all classes in the classes list\n",
    "    for class_index, class_name in enumerate(classes_list):\n",
    "        class_path = os.path.join(dataset_dir, class_name)\n",
    "        \n",
    "        # Check if class directory exists\n",
    "        if not os.path.exists(class_path):\n",
    "            print(f\"Warning: Class directory not found: {class_path}\")\n",
    "            continue\n",
    "\n",
    "        print(f'Extracting Data of Class: {class_name}')\n",
    "\n",
    "        # Get the list of video files in the class directory\n",
    "        files_list = os.listdir(class_path)\n",
    "\n",
    "        # Limit the number of videos if specified\n",
    "        if max_videos_per_class is not None:\n",
    "            files_list = files_list[:max_videos_per_class]\n",
    "\n",
    "        # Iterate through all video files\n",
    "        for file_name in files_list:\n",
    "            video_file_path = os.path.join(class_path, file_name)\n",
    "\n",
    "            # Extract frames using the updated frames_extraction function\n",
    "            frames = frames_extraction(video_file_path, \n",
    "                                       sequence_length, \n",
    "                                       image_height, \n",
    "                                       image_width)\n",
    "\n",
    "            # Skip videos where frame extraction failed\n",
    "            if frames is None:\n",
    "                print(f\"Skipping video {video_file_path} due to frame extraction failure\")\n",
    "                continue\n",
    "\n",
    "            # Append the data to respective lists\n",
    "            videos.append(frames)\n",
    "            labels.append(class_index)\n",
    "\n",
    "    # Convert lists to numpy arrays\n",
    "    if not videos:\n",
    "        raise ValueError(\"No valid videos were processed. Check dataset or parameters.\")\n",
    "    videos = np.asarray(videos)\n",
    "    labels = np.array(labels)\n",
    "\n",
    "    print(f\"Dataset created with {len(videos)} videos\")\n",
    "    print(f\"Features shape: {videos.shape}\")\n",
    "    print(f\"Labels shape: {labels.shape}\")\n",
    "\n",
    "    return videos, labels"
   ]
  },
  {
   "cell_type": "markdown",
   "id": "c367b92b",
   "metadata": {
    "papermill": {
     "duration": 0.007664,
     "end_time": "2025-07-11T14:44:06.188245",
     "exception": false,
     "start_time": "2025-07-11T14:44:06.180581",
     "status": "completed"
    },
    "tags": []
   },
   "source": [
    "## 🪄 Video Data Generator"
   ]
  },
  {
   "cell_type": "code",
   "execution_count": 7,
   "id": "0243bc3d",
   "metadata": {
    "execution": {
     "iopub.execute_input": "2025-07-11T14:44:06.205219Z",
     "iopub.status.busy": "2025-07-11T14:44:06.204649Z",
     "iopub.status.idle": "2025-07-11T14:44:06.291983Z",
     "shell.execute_reply": "2025-07-11T14:44:06.291324Z"
    },
    "papermill": {
     "duration": 0.097052,
     "end_time": "2025-07-11T14:44:06.293132",
     "exception": false,
     "start_time": "2025-07-11T14:44:06.196080",
     "status": "completed"
    },
    "tags": []
   },
   "outputs": [],
   "source": [
    "from tensorflow.keras.utils import Sequence, to_categorical\n",
    "import tensorflow as tf\n",
    "import numpy as np\n",
    "import cv2\n",
    "\n",
    "\n",
    "\n",
    "\n",
    "class VideoDataGenerator(Sequence):\n",
    "    def __init__(self, videos, labels, batch_size, is_training=False):\n",
    "        self.videos = list(videos)  # List of video file paths\n",
    "        self.labels = list(labels)  # List or array of labels encoded\n",
    "        self.batch_size = batch_size\n",
    "        self.indices = np.arange(len(self.videos))  # For shuffling\n",
    "        self.is_training = is_training  # Flag to control whether augmentation is applied\n",
    "        self.temp_videos=[]\n",
    "        self.temp_labels=[]\n",
    "        \n",
    "        \n",
    "        print(f\"Total {len(videos)} videos and {len(labels)} classes\")\n",
    "\n",
    "    def __len__(self):\n",
    "        # Return the number of batches per epoch\n",
    "        return int(np.ceil(len(self.videos) / self.batch_size))\n",
    "\n",
    "    def __getitem__(self, idx):\n",
    "        # Get batch indices\n",
    "        batch_indices = self.indices[idx * self.batch_size:(idx + 1) * self.batch_size]\n",
    "        \n",
    "        # Handle case where batch_indices is empty\n",
    "        if len(batch_indices) == 0:\n",
    "            return np.array([], dtype=np.float32), np.array([], dtype=np.float32)\n",
    "        \n",
    "        # Initialize lists to store frames and labels\n",
    "        all_frames = []\n",
    "        all_labels = []\n",
    "        \n",
    "        # Process each video in the batch\n",
    "        for i, index in enumerate(batch_indices):\n",
    "            sequence = self.videos[index]\n",
    "            label = self.labels[index]\n",
    "            \n",
    "            # Load and process video\n",
    "            # sequence = frames_extraction(video_path)\n",
    "\n",
    "            # if sequence is not None:\n",
    "            #     # Apply augmentations: 1 original + 4 augmentations (horizontal flip, shear, rotation, noise)\n",
    "            #     augmented_sequences = [sequence]  # Add original sequence\n",
    "\n",
    "            #     if self.is_training:\n",
    "            #         # Apply augmentations\n",
    "            #         augmented_sequences.append(np.array(horizontal_flip(sequence)))  # Horizontal Flip\n",
    "            #         augmented_sequences.append(np.array(apply_shear_frames(sequence, shear_right=0)))  # Random Shear\n",
    "            #         augmented_sequences.append(np.array(apply_shear_frames(sequence, shear_right=1)))  # Random Rotation\n",
    "            #         augmented_sequences.append(np.array(noise_video(sequence)))  # Salt and Pepper Noise\n",
    "\n",
    "            #     # Add augmented sequences to the batch\n",
    "            #     all_frames.extend(augmented_sequences)\n",
    "            #     all_labels.extend([label] * len(augmented_sequences))  # Each augmentation has the same label\n",
    "\n",
    "            \n",
    "            # Append the sequence and label\n",
    "            all_frames.append(sequence)\n",
    "            all_labels.append(label)\n",
    "        \n",
    "        # Convert to numpy arrays\n",
    "        all_frames = np.array(all_frames, dtype=np.float32)\n",
    "        all_labels = np.array(all_labels)\n",
    "            \n",
    "        \n",
    "        return all_frames, all_labels\n",
    "    def add(self, new_videos, new_labels):\n",
    "        self.temp_videos.extend(new_videos)\n",
    "        self.temp_labels.extend(new_labels)\n",
    "    \n",
    "    def confirm(self):\n",
    "        print(f\"Adding {len(self.temp_videos)} videos with {len(self.temp_labels)} classes.\")\n",
    "        self.videos.extend(self.temp_videos)\n",
    "        self.labels.extend(self.temp_labels)\n",
    "        print(f\"Successfully added - {len(self.temp_videos)} videos and {len(self.temp_labels)} classes.\")\n",
    "        self.temp_videos=[]\n",
    "        self.temp_labels=[]\n",
    "        self.indices = np.arange(len(self.videos))\n",
    "        print(f\"Now Total - {len(self.videos)} videos and {len(self.labels)} classes.\")\n",
    "        print(f\"PENDING for Augmentations - {len(self.temp_videos)} videos and {len(self.temp_labels)} classes.\")\n",
    "    \n",
    "    def on_epoch_end(self):\n",
    "        # Shuffle indices at the end of each epoch\n",
    "        np.random.shuffle(self.indices)\n",
    "\n",
    "    def as_dataset(self):\n",
    "        def generator():\n",
    "            for idx in range(len(self)):\n",
    "                frames, labels = self[idx]\n",
    "                # Skip empty batches\n",
    "                if frames.size == 0:\n",
    "                    continue\n",
    "                yield frames, labels\n",
    "        self.labels=np.array(self.labels)\n",
    "    \n",
    "        # Create a tf.data.Dataset\n",
    "        dataset = tf.data.Dataset.from_generator(\n",
    "            generator,\n",
    "            output_types=(tf.float32, tf.float32),\n",
    "            output_shapes=(\n",
    "                (None, SEQUENCE_LENGTH, IMAGE_HEIGHT, IMAGE_WIDTH, 3),\n",
    "                (None, NO_OF_CLASSES)\n",
    "            )\n",
    "        )\n",
    "        dataset = dataset.prefetch(tf.data.AUTOTUNE)\n",
    "        return dataset"
   ]
  },
  {
   "cell_type": "markdown",
   "id": "f65ca490",
   "metadata": {
    "papermill": {
     "duration": 0.007973,
     "end_time": "2025-07-11T14:44:06.309561",
     "exception": false,
     "start_time": "2025-07-11T14:44:06.301588",
     "status": "completed"
    },
    "tags": []
   },
   "source": [
    "## Debug and Helpers"
   ]
  },
  {
   "cell_type": "markdown",
   "id": "6abd0019",
   "metadata": {
    "papermill": {
     "duration": 0.055175,
     "end_time": "2025-07-11T14:44:06.372838",
     "exception": false,
     "start_time": "2025-07-11T14:44:06.317663",
     "status": "completed"
    },
    "tags": []
   },
   "source": [
    "## 💫 Augmentation Helper function"
   ]
  },
  {
   "cell_type": "code",
   "execution_count": 8,
   "id": "dddd8c7d",
   "metadata": {
    "execution": {
     "iopub.execute_input": "2025-07-11T14:44:06.391026Z",
     "iopub.status.busy": "2025-07-11T14:44:06.390312Z",
     "iopub.status.idle": "2025-07-11T14:44:06.395209Z",
     "shell.execute_reply": "2025-07-11T14:44:06.394540Z"
    },
    "papermill": {
     "duration": 0.01474,
     "end_time": "2025-07-11T14:44:06.396264",
     "exception": false,
     "start_time": "2025-07-11T14:44:06.381524",
     "status": "completed"
    },
    "tags": []
   },
   "outputs": [],
   "source": [
    "import time\n",
    "\n",
    "    \n",
    "\n",
    "def apply_augmentation(augmentation_function, generator, confirm=False, *args, **kwargs):\n",
    "    \n",
    "    for i in range(len(generator)):\n",
    "        batch_videos, batch_labels = generator[i]\n",
    "        augmented_videos=[]\n",
    "        for videos in batch_videos:\n",
    "            augmented_videos.append(augmentation_function(videos, *args, **kwargs))\n",
    "        generator.add(augmented_videos, batch_labels)\n",
    "        print(f\"Processing video {len(generator.temp_videos)}...\", end=\"\\r\", flush=True)\n",
    "        time.sleep(0.5)  # simulate work\n",
    "    if confirm:\n",
    "        generator.confirm()"
   ]
  },
  {
   "cell_type": "markdown",
   "id": "9e1c19c4",
   "metadata": {
    "papermill": {
     "duration": 0.008014,
     "end_time": "2025-07-11T14:44:06.412508",
     "exception": false,
     "start_time": "2025-07-11T14:44:06.404494",
     "status": "completed"
    },
    "tags": []
   },
   "source": [
    "### Show Frames"
   ]
  },
  {
   "cell_type": "code",
   "execution_count": 9,
   "id": "60534b86",
   "metadata": {
    "execution": {
     "iopub.execute_input": "2025-07-11T14:44:06.429264Z",
     "iopub.status.busy": "2025-07-11T14:44:06.429036Z",
     "iopub.status.idle": "2025-07-11T14:44:06.432709Z",
     "shell.execute_reply": "2025-07-11T14:44:06.432178Z"
    },
    "papermill": {
     "duration": 0.013377,
     "end_time": "2025-07-11T14:44:06.433818",
     "exception": false,
     "start_time": "2025-07-11T14:44:06.420441",
     "status": "completed"
    },
    "tags": []
   },
   "outputs": [],
   "source": [
    "# show frame def\n",
    "import matplotlib.pyplot as plt\n",
    "\n",
    "def show_frame(frame):\n",
    "    plt.figure(figsize=(3,3))\n",
    "    plt.imshow(frame)\n",
    "    plt.axis(\"off\")\n",
    "    plt.tight_layout()"
   ]
  },
  {
   "cell_type": "markdown",
   "id": "039db872",
   "metadata": {
    "papermill": {
     "duration": 0.007835,
     "end_time": "2025-07-11T14:44:06.449843",
     "exception": false,
     "start_time": "2025-07-11T14:44:06.442008",
     "status": "completed"
    },
    "tags": []
   },
   "source": [
    "### Helper Function"
   ]
  },
  {
   "cell_type": "code",
   "execution_count": 10,
   "id": "c4e6b27c",
   "metadata": {
    "execution": {
     "iopub.execute_input": "2025-07-11T14:44:06.466913Z",
     "iopub.status.busy": "2025-07-11T14:44:06.466703Z",
     "iopub.status.idle": "2025-07-11T14:44:06.470905Z",
     "shell.execute_reply": "2025-07-11T14:44:06.470412Z"
    },
    "papermill": {
     "duration": 0.01383,
     "end_time": "2025-07-11T14:44:06.471859",
     "exception": false,
     "start_time": "2025-07-11T14:44:06.458029",
     "status": "completed"
    },
    "tags": []
   },
   "outputs": [],
   "source": [
    "def show_frame_vs(frame1, frame2, title1=\"Frame 1\", title2=\"Frame 2\"):\n",
    "    plt.figure(figsize=(10, 5))\n",
    "\n",
    "    # First frame\n",
    "    plt.subplot(1, 2, 1)\n",
    "    plt.imshow(frame1)\n",
    "    plt.title(title1)\n",
    "    plt.axis('off')\n",
    "\n",
    "    # Second frame\n",
    "    plt.subplot(1, 2, 2)\n",
    "    plt.imshow(frame2)\n",
    "    plt.title(title2)\n",
    "    plt.axis('off')\n",
    "\n",
    "    plt.tight_layout()\n",
    "    plt.show()"
   ]
  },
  {
   "cell_type": "code",
   "execution_count": 11,
   "id": "7351c3e8",
   "metadata": {
    "execution": {
     "iopub.execute_input": "2025-07-11T14:44:06.488987Z",
     "iopub.status.busy": "2025-07-11T14:44:06.488779Z",
     "iopub.status.idle": "2025-07-11T14:44:06.492233Z",
     "shell.execute_reply": "2025-07-11T14:44:06.491763Z"
    },
    "papermill": {
     "duration": 0.013167,
     "end_time": "2025-07-11T14:44:06.493206",
     "exception": false,
     "start_time": "2025-07-11T14:44:06.480039",
     "status": "completed"
    },
    "tags": []
   },
   "outputs": [],
   "source": [
    "# reusable video loop helper function\n",
    "def apply_function(function, videos, *arg, **kwargs):\n",
    "    new_videos=[]\n",
    "    \n",
    "    for video in videos:\n",
    "        new_videos.append(function(video, *arg, **kwargs))\n",
    "        \n",
    "    return new_videos"
   ]
  },
  {
   "cell_type": "code",
   "execution_count": 12,
   "id": "939d282a",
   "metadata": {
    "execution": {
     "iopub.execute_input": "2025-07-11T14:44:06.510060Z",
     "iopub.status.busy": "2025-07-11T14:44:06.509857Z",
     "iopub.status.idle": "2025-07-11T14:44:06.513644Z",
     "shell.execute_reply": "2025-07-11T14:44:06.513148Z"
    },
    "papermill": {
     "duration": 0.013434,
     "end_time": "2025-07-11T14:44:06.514690",
     "exception": false,
     "start_time": "2025-07-11T14:44:06.501256",
     "status": "completed"
    },
    "tags": []
   },
   "outputs": [],
   "source": [
    "# reusable video loop helper function\n",
    "def apply(function, videos, labels, *arg, **kwargs):\n",
    "    new_videos=[]\n",
    "    new_labels=[]\n",
    "    combined=zip(labels, videos)\n",
    "    \n",
    "    for label, video in combined:\n",
    "        new_videos.append(function(video, *arg, **kwargs))\n",
    "        new_labels.append(label)\n",
    "        \n",
    "    new_videos=np.asarray(new_videos)\n",
    "    new_labels=np.asarray(new_labels)\n",
    "    \n",
    "    return new_videos, new_labels"
   ]
  },
  {
   "cell_type": "markdown",
   "id": "cccd7268",
   "metadata": {
    "papermill": {
     "duration": 0.007841,
     "end_time": "2025-07-11T14:44:06.530594",
     "exception": false,
     "start_time": "2025-07-11T14:44:06.522753",
     "status": "completed"
    },
    "tags": []
   },
   "source": [
    "## Salt and Pepper Noise "
   ]
  },
  {
   "cell_type": "code",
   "execution_count": 13,
   "id": "8eb40a1c",
   "metadata": {
    "execution": {
     "iopub.execute_input": "2025-07-11T14:44:06.548041Z",
     "iopub.status.busy": "2025-07-11T14:44:06.547767Z",
     "iopub.status.idle": "2025-07-11T14:44:06.552257Z",
     "shell.execute_reply": "2025-07-11T14:44:06.551720Z"
    },
    "papermill": {
     "duration": 0.014516,
     "end_time": "2025-07-11T14:44:06.553232",
     "exception": false,
     "start_time": "2025-07-11T14:44:06.538716",
     "status": "completed"
    },
    "tags": []
   },
   "outputs": [],
   "source": [
    "# Noise function def\n",
    "\n",
    "def noise_video(video,noise_factor=NOISE_FACTOR):\n",
    "    noisy_video=[]\n",
    "    for frame in video:\n",
    "        # Generate random noise\n",
    "        noise = np.random.rand(*frame.shape)  # Generate random noise\n",
    "        salt_pepper_noise = np.random.choice([0, 1], size=frame.shape, p=[1-noise_factor, noise_factor])\n",
    "        noisy_frame = frame * (1 - salt_pepper_noise) + salt_pepper_noise * np.random.rand(*frame.shape)\n",
    "        noisy_video.append(noisy_frame)\n",
    "    return np.array(noisy_video)"
   ]
  },
  {
   "cell_type": "markdown",
   "id": "01965cd1",
   "metadata": {
    "papermill": {
     "duration": 0.007908,
     "end_time": "2025-07-11T14:44:06.569239",
     "exception": false,
     "start_time": "2025-07-11T14:44:06.561331",
     "status": "completed"
    },
    "tags": []
   },
   "source": [
    "## Horizontal Flip"
   ]
  },
  {
   "cell_type": "code",
   "execution_count": 14,
   "id": "85b283e3",
   "metadata": {
    "execution": {
     "iopub.execute_input": "2025-07-11T14:44:06.585875Z",
     "iopub.status.busy": "2025-07-11T14:44:06.585659Z",
     "iopub.status.idle": "2025-07-11T14:44:06.588986Z",
     "shell.execute_reply": "2025-07-11T14:44:06.588482Z"
    },
    "papermill": {
     "duration": 0.012854,
     "end_time": "2025-07-11T14:44:06.590014",
     "exception": false,
     "start_time": "2025-07-11T14:44:06.577160",
     "status": "completed"
    },
    "tags": []
   },
   "outputs": [],
   "source": [
    "# horizontal flip function def\n",
    "# Testing Flip feautes[0] -> first video\n",
    "def horizontal_flip(video):\n",
    "    return [tf.image.flip_left_right(frame) for frame in video]"
   ]
  },
  {
   "cell_type": "markdown",
   "id": "6d9cbf38",
   "metadata": {
    "papermill": {
     "duration": 0.007783,
     "end_time": "2025-07-11T14:44:06.606026",
     "exception": false,
     "start_time": "2025-07-11T14:44:06.598243",
     "status": "completed"
    },
    "tags": []
   },
   "source": [
    "## Random Shear"
   ]
  },
  {
   "cell_type": "code",
   "execution_count": 15,
   "id": "5176589f",
   "metadata": {
    "execution": {
     "iopub.execute_input": "2025-07-11T14:44:06.622810Z",
     "iopub.status.busy": "2025-07-11T14:44:06.622591Z",
     "iopub.status.idle": "2025-07-11T14:44:06.627971Z",
     "shell.execute_reply": "2025-07-11T14:44:06.627437Z"
    },
    "papermill": {
     "duration": 0.015105,
     "end_time": "2025-07-11T14:44:06.629030",
     "exception": false,
     "start_time": "2025-07-11T14:44:06.613925",
     "status": "completed"
    },
    "tags": []
   },
   "outputs": [],
   "source": [
    "# random shear function def\n",
    "import numpy as np\n",
    "import tensorflow as tf\n",
    "from scipy.ndimage import affine_transform\n",
    "\n",
    "def apply_shear_frames(frames, shear_right):\n",
    "    return [apply_shear(frame, shear_right) for frame in frames]\n",
    "\n",
    "def apply_shear(frame, shear_right=0):\n",
    "    frame_resized = tf.image.resize(frame, (IMAGE_HEIGHT, IMAGE_WIDTH)).numpy()\n",
    "    if shear_right:\n",
    "        shear_x = 0.09\n",
    "        shear_y = 0.1\n",
    "    else:\n",
    "        shear_x = -0.09\n",
    "        shear_y = 0.3\n",
    "    # Construct the affine matrix for scipy: inverse of the transformation matrix\n",
    "    # scipy applies the inverse transform matrix\n",
    "    shear_matrix = np.array([\n",
    "        [1, shear_x, 0],\n",
    "        [shear_y, 1, 0],\n",
    "        [0, 0, 1]\n",
    "    ], dtype=np.float32)\n",
    "\n",
    "    # Extract 2x2 part for affine_transform\n",
    "    matrix = shear_matrix[:2, :2]\n",
    "\n",
    "    # Offset (no translation)\n",
    "    offset = [0, 0]\n",
    "\n",
    "    # Apply affine transform on each channel separately\n",
    "    sheared = np.zeros_like(frame_resized)\n",
    "    for c in range(3):\n",
    "        sheared[..., c] = affine_transform(\n",
    "            frame_resized[..., c],\n",
    "            matrix=matrix,\n",
    "            offset=offset,\n",
    "            order=1,          # bilinear interpolation\n",
    "            mode='nearest'    # fill_mode\n",
    "        )\n",
    "    return sheared"
   ]
  },
  {
   "cell_type": "markdown",
   "id": "f301cbe8",
   "metadata": {
    "papermill": {
     "duration": 0.007896,
     "end_time": "2025-07-11T14:44:06.644955",
     "exception": false,
     "start_time": "2025-07-11T14:44:06.637059",
     "status": "completed"
    },
    "tags": []
   },
   "source": [
    "# 📌 Model Related\n",
    "## 🗼 Model Architecture `create_model`"
   ]
  },
  {
   "cell_type": "markdown",
   "id": "5be089f6",
   "metadata": {
    "papermill": {
     "duration": 0.007822,
     "end_time": "2025-07-11T14:44:06.660713",
     "exception": false,
     "start_time": "2025-07-11T14:44:06.652891",
     "status": "completed"
    },
    "tags": []
   },
   "source": [
    "# 📌 Execution\n",
    "## Creating Dataset\n",
    "The following functions are executed\n",
    "- `frame extraction`\n",
    "- `resize`\n",
    "\n",
    "which returns:\n",
    "- `features` - `np.array` of all the videos\n",
    "- `labels` - `np.array` of all the class labels"
   ]
  },
  {
   "cell_type": "code",
   "execution_count": 16,
   "id": "d1940ecc",
   "metadata": {
    "execution": {
     "iopub.execute_input": "2025-07-11T14:44:06.677614Z",
     "iopub.status.busy": "2025-07-11T14:44:06.677352Z",
     "iopub.status.idle": "2025-07-11T14:45:46.078000Z",
     "shell.execute_reply": "2025-07-11T14:45:46.077170Z"
    },
    "papermill": {
     "duration": 99.410549,
     "end_time": "2025-07-11T14:45:46.079256",
     "exception": false,
     "start_time": "2025-07-11T14:44:06.668707",
     "status": "completed"
    },
    "tags": []
   },
   "outputs": [
    {
     "name": "stdout",
     "output_type": "stream",
     "text": [
      "Extracting Data of Class: Catch Cap\n",
      "Extracting Data of Class: Drink\n",
      "Extracting Data of Class: Sit down\n",
      "Extracting Data of Class: Draw Tick\n",
      "Extracting Data of Class: Phone Call\n",
      "Extracting Data of Class: Horizontal arm wave\n",
      "Extracting Data of Class: Hand Clap\n",
      "Extracting Data of Class: High throw\n",
      "Extracting Data of Class: Forward Kick\n",
      "Extracting Data of Class: Stand up\n",
      "Extracting Data of Class: Two hand wave\n",
      "Extracting Data of Class: Toss Paper\n",
      "Extracting Data of Class: Walk\n",
      "Extracting Data of Class: Side Kick\n",
      "Extracting Data of Class: Bend\n",
      "Extracting Data of Class: Take Umbrella\n",
      "Extracting Data of Class: High arm wave\n",
      "Extracting Data of Class: Draw X\n",
      "Dataset created with 540 videos\n",
      "Features shape: (540, 5, 128, 128, 3)\n",
      "Labels shape: (540,)\n"
     ]
    },
    {
     "data": {
      "text/plain": [
       "((540, 5, 128, 128, 3), (540,))"
      ]
     },
     "execution_count": 16,
     "metadata": {},
     "output_type": "execute_result"
    }
   ],
   "source": [
    "# RUN Create the dataset with explicit parameters\n",
    "try:\n",
    "    videos, labels = create_dataset(\n",
    "        dataset_dir=DATASET_DIR,\n",
    "        classes_list=CLASSES_LIST,\n",
    "        sequence_length=SEQUENCE_LENGTH,\n",
    "        image_height=IMAGE_HEIGHT,\n",
    "        image_width=IMAGE_WIDTH,\n",
    "        # Limit to 10 videos per class to manage memory\n",
    "        augmentations=True,\n",
    "        max_videos_per_class=MAX_VIDEO_PER_CLASS\n",
    "    )\n",
    "except FileNotFoundError as e:\n",
    "    print(f\"Error: {e}\")\n",
    "except ValueError as e:\n",
    "    print(f\"Error: {e}\")\n",
    "except Exception as e:\n",
    "    print(f\"Unexpected error: {e}\")\n",
    "\n",
    "videos.shape, labels.shape"
   ]
  },
  {
   "cell_type": "code",
   "execution_count": 17,
   "id": "2912fc3f",
   "metadata": {
    "execution": {
     "iopub.execute_input": "2025-07-11T14:45:46.100185Z",
     "iopub.status.busy": "2025-07-11T14:45:46.099975Z",
     "iopub.status.idle": "2025-07-11T14:45:46.103926Z",
     "shell.execute_reply": "2025-07-11T14:45:46.103360Z"
    },
    "papermill": {
     "duration": 0.015268,
     "end_time": "2025-07-11T14:45:46.104931",
     "exception": false,
     "start_time": "2025-07-11T14:45:46.089663",
     "status": "completed"
    },
    "tags": []
   },
   "outputs": [
    {
     "name": "stdout",
     "output_type": "stream",
     "text": [
      "Total 540 videos and 540 classes\n"
     ]
    }
   ],
   "source": [
    "video_generator = VideoDataGenerator(\n",
    "    videos=videos,\n",
    "    labels=labels,\n",
    "    batch_size=BATCH_SIZE\n",
    ")"
   ]
  },
  {
   "cell_type": "code",
   "execution_count": 18,
   "id": "69562b84",
   "metadata": {
    "execution": {
     "iopub.execute_input": "2025-07-11T14:45:46.123894Z",
     "iopub.status.busy": "2025-07-11T14:45:46.123723Z",
     "iopub.status.idle": "2025-07-11T14:45:46.132252Z",
     "shell.execute_reply": "2025-07-11T14:45:46.131742Z"
    },
    "papermill": {
     "duration": 0.018888,
     "end_time": "2025-07-11T14:45:46.133227",
     "exception": false,
     "start_time": "2025-07-11T14:45:46.114339",
     "status": "completed"
    },
    "tags": []
   },
   "outputs": [
    {
     "data": {
      "text/plain": [
       "((24, 5, 128, 128, 3), (24,))"
      ]
     },
     "execution_count": 18,
     "metadata": {},
     "output_type": "execute_result"
    }
   ],
   "source": [
    "videos, labels = video_generator[3]\n",
    "\n",
    "videos.shape, labels.shape"
   ]
  },
  {
   "cell_type": "code",
   "execution_count": 19,
   "id": "74005e4c",
   "metadata": {
    "execution": {
     "iopub.execute_input": "2025-07-11T14:45:46.151718Z",
     "iopub.status.busy": "2025-07-11T14:45:46.151509Z",
     "iopub.status.idle": "2025-07-11T14:45:46.155356Z",
     "shell.execute_reply": "2025-07-11T14:45:46.154888Z"
    },
    "papermill": {
     "duration": 0.014232,
     "end_time": "2025-07-11T14:45:46.156306",
     "exception": false,
     "start_time": "2025-07-11T14:45:46.142074",
     "status": "completed"
    },
    "tags": []
   },
   "outputs": [
    {
     "data": {
      "text/plain": [
       "540"
      ]
     },
     "execution_count": 19,
     "metadata": {},
     "output_type": "execute_result"
    }
   ],
   "source": [
    "len(video_generator.videos) "
   ]
  },
  {
   "cell_type": "code",
   "execution_count": 20,
   "id": "bd613dd2",
   "metadata": {
    "execution": {
     "iopub.execute_input": "2025-07-11T14:45:46.175905Z",
     "iopub.status.busy": "2025-07-11T14:45:46.175687Z",
     "iopub.status.idle": "2025-07-11T14:45:46.179996Z",
     "shell.execute_reply": "2025-07-11T14:45:46.179341Z"
    },
    "papermill": {
     "duration": 0.015451,
     "end_time": "2025-07-11T14:45:46.181168",
     "exception": false,
     "start_time": "2025-07-11T14:45:46.165717",
     "status": "completed"
    },
    "tags": []
   },
   "outputs": [
    {
     "data": {
      "text/plain": [
       "23"
      ]
     },
     "execution_count": 20,
     "metadata": {},
     "output_type": "execute_result"
    }
   ],
   "source": [
    "len(video_generator)"
   ]
  },
  {
   "cell_type": "markdown",
   "id": "5094722a",
   "metadata": {
    "papermill": {
     "duration": 0.009063,
     "end_time": "2025-07-11T14:45:46.199207",
     "exception": false,
     "start_time": "2025-07-11T14:45:46.190144",
     "status": "completed"
    },
    "tags": []
   },
   "source": [
    "## Apply ***horizontal flip*** (Augmentation)"
   ]
  },
  {
   "cell_type": "code",
   "execution_count": 21,
   "id": "e4889eab",
   "metadata": {
    "execution": {
     "iopub.execute_input": "2025-07-11T14:45:46.218007Z",
     "iopub.status.busy": "2025-07-11T14:45:46.217813Z",
     "iopub.status.idle": "2025-07-11T14:46:01.068775Z",
     "shell.execute_reply": "2025-07-11T14:46:01.068186Z"
    },
    "papermill": {
     "duration": 14.861885,
     "end_time": "2025-07-11T14:46:01.070095",
     "exception": false,
     "start_time": "2025-07-11T14:45:46.208210",
     "status": "completed"
    },
    "tags": []
   },
   "outputs": [
    {
     "name": "stdout",
     "output_type": "stream",
     "text": [
      "Processing video 24...\r"
     ]
    },
    {
     "name": "stderr",
     "output_type": "stream",
     "text": [
      "I0000 00:00:1752245147.864165      19 gpu_device.cc:2022] Created device /job:localhost/replica:0/task:0/device:GPU:0 with 13942 MB memory:  -> device: 0, name: Tesla T4, pci bus id: 0000:00:04.0, compute capability: 7.5\n",
      "I0000 00:00:1752245147.864863      19 gpu_device.cc:2022] Created device /job:localhost/replica:0/task:0/device:GPU:1 with 13942 MB memory:  -> device: 1, name: Tesla T4, pci bus id: 0000:00:05.0, compute capability: 7.5\n"
     ]
    },
    {
     "name": "stdout",
     "output_type": "stream",
     "text": [
      "Processing video 540...\r"
     ]
    }
   ],
   "source": [
    "apply_augmentation(horizontal_flip, video_generator)"
   ]
  },
  {
   "cell_type": "code",
   "execution_count": 22,
   "id": "b9489dbe",
   "metadata": {
    "execution": {
     "iopub.execute_input": "2025-07-11T14:46:01.092466Z",
     "iopub.status.busy": "2025-07-11T14:46:01.092208Z",
     "iopub.status.idle": "2025-07-11T14:46:01.096122Z",
     "shell.execute_reply": "2025-07-11T14:46:01.095340Z"
    },
    "papermill": {
     "duration": 0.01577,
     "end_time": "2025-07-11T14:46:01.097137",
     "exception": false,
     "start_time": "2025-07-11T14:46:01.081367",
     "status": "completed"
    },
    "tags": []
   },
   "outputs": [
    {
     "name": "stdout",
     "output_type": "stream",
     "text": [
      "Checking Total Videos and Class Count: 540, 540\n",
      "PENDING Total Videos and Class Count: 540, 540\n"
     ]
    }
   ],
   "source": [
    "print(f\"Checking Total Videos and Class Count: {len(video_generator.videos)}, {len(video_generator.labels)}\")\n",
    "print(f\"PENDING Total Videos and Class Count: {len(video_generator.temp_videos)}, {len(video_generator.temp_labels)}\")"
   ]
  },
  {
   "cell_type": "code",
   "execution_count": 23,
   "id": "badb675c",
   "metadata": {
    "execution": {
     "iopub.execute_input": "2025-07-11T14:46:01.118506Z",
     "iopub.status.busy": "2025-07-11T14:46:01.117998Z",
     "iopub.status.idle": "2025-07-11T14:46:01.121706Z",
     "shell.execute_reply": "2025-07-11T14:46:01.120873Z"
    },
    "papermill": {
     "duration": 0.015418,
     "end_time": "2025-07-11T14:46:01.122833",
     "exception": false,
     "start_time": "2025-07-11T14:46:01.107415",
     "status": "completed"
    },
    "tags": []
   },
   "outputs": [
    {
     "name": "stdout",
     "output_type": "stream",
     "text": [
      "Adding 540 videos with 540 classes.\n",
      "Successfully added - 540 videos and 540 classes.\n",
      "Now Total - 1080 videos and 1080 classes.\n",
      "PENDING for Augmentations - 0 videos and 0 classes.\n"
     ]
    }
   ],
   "source": [
    "video_generator.confirm()"
   ]
  },
  {
   "cell_type": "markdown",
   "id": "1796d4dd",
   "metadata": {
    "papermill": {
     "duration": 0.009867,
     "end_time": "2025-07-11T14:46:01.143359",
     "exception": false,
     "start_time": "2025-07-11T14:46:01.133492",
     "status": "completed"
    },
    "tags": []
   },
   "source": [
    "## Apply ***Noise*** (Augmentation)"
   ]
  },
  {
   "cell_type": "code",
   "execution_count": 24,
   "id": "2ebd5b04",
   "metadata": {
    "execution": {
     "iopub.execute_input": "2025-07-11T14:46:01.164046Z",
     "iopub.status.busy": "2025-07-11T14:46:01.163867Z",
     "iopub.status.idle": "2025-07-11T14:46:36.393238Z",
     "shell.execute_reply": "2025-07-11T14:46:36.392673Z"
    },
    "papermill": {
     "duration": 35.241121,
     "end_time": "2025-07-11T14:46:36.394480",
     "exception": false,
     "start_time": "2025-07-11T14:46:01.153359",
     "status": "completed"
    },
    "tags": []
   },
   "outputs": [
    {
     "name": "stdout",
     "output_type": "stream",
     "text": [
      "Processing video 1080...\r"
     ]
    }
   ],
   "source": [
    "apply_augmentation(noise_video, video_generator)"
   ]
  },
  {
   "cell_type": "code",
   "execution_count": 25,
   "id": "faa116d8",
   "metadata": {
    "execution": {
     "iopub.execute_input": "2025-07-11T14:46:36.419460Z",
     "iopub.status.busy": "2025-07-11T14:46:36.418925Z",
     "iopub.status.idle": "2025-07-11T14:46:36.423396Z",
     "shell.execute_reply": "2025-07-11T14:46:36.422697Z"
    },
    "papermill": {
     "duration": 0.017615,
     "end_time": "2025-07-11T14:46:36.424354",
     "exception": false,
     "start_time": "2025-07-11T14:46:36.406739",
     "status": "completed"
    },
    "tags": []
   },
   "outputs": [
    {
     "name": "stdout",
     "output_type": "stream",
     "text": [
      "Checking Total Videos and Class Count: 1080, 1080\n",
      "PENDING Total Videos and Class Count: 1080, 1080\n"
     ]
    }
   ],
   "source": [
    "print(f\"Checking Total Videos and Class Count: {len(video_generator.videos)}, {len(video_generator.labels)}\")\n",
    "print(f\"PENDING Total Videos and Class Count: {len(video_generator.temp_videos)}, {len(video_generator.temp_labels)}\")"
   ]
  },
  {
   "cell_type": "markdown",
   "id": "1933bec9",
   "metadata": {
    "papermill": {
     "duration": 0.011842,
     "end_time": "2025-07-11T14:46:36.448332",
     "exception": false,
     "start_time": "2025-07-11T14:46:36.436490",
     "status": "completed"
    },
    "tags": []
   },
   "source": [
    "## Apply ***Random Shear x2*** (Augmentation)"
   ]
  },
  {
   "cell_type": "code",
   "execution_count": 26,
   "id": "dc24e72f",
   "metadata": {
    "execution": {
     "iopub.execute_input": "2025-07-11T14:46:36.473449Z",
     "iopub.status.busy": "2025-07-11T14:46:36.472960Z",
     "iopub.status.idle": "2025-07-11T14:48:02.900669Z",
     "shell.execute_reply": "2025-07-11T14:48:02.899895Z"
    },
    "papermill": {
     "duration": 86.441941,
     "end_time": "2025-07-11T14:48:02.902014",
     "exception": false,
     "start_time": "2025-07-11T14:46:36.460073",
     "status": "completed"
    },
    "tags": []
   },
   "outputs": [
    {
     "name": "stdout",
     "output_type": "stream",
     "text": [
      "Processing video 3240...\r"
     ]
    }
   ],
   "source": [
    "apply_augmentation(apply_shear_frames, video_generator, shear_right=0)\n",
    "apply_augmentation(apply_shear_frames, video_generator, shear_right=1)"
   ]
  },
  {
   "cell_type": "code",
   "execution_count": 27,
   "id": "c1d51701",
   "metadata": {
    "execution": {
     "iopub.execute_input": "2025-07-11T14:48:02.933719Z",
     "iopub.status.busy": "2025-07-11T14:48:02.933124Z",
     "iopub.status.idle": "2025-07-11T14:48:02.937323Z",
     "shell.execute_reply": "2025-07-11T14:48:02.936635Z"
    },
    "papermill": {
     "duration": 0.020903,
     "end_time": "2025-07-11T14:48:02.938535",
     "exception": false,
     "start_time": "2025-07-11T14:48:02.917632",
     "status": "completed"
    },
    "tags": []
   },
   "outputs": [
    {
     "name": "stdout",
     "output_type": "stream",
     "text": [
      "Checking Total Videos and Class Count: 1080, 1080\n",
      "PENDING Total Videos and Class Count: 3240, 3240\n"
     ]
    }
   ],
   "source": [
    "print(f\"Checking Total Videos and Class Count: {len(video_generator.videos)}, {len(video_generator.labels)}\")\n",
    "print(f\"PENDING Total Videos and Class Count: {len(video_generator.temp_videos)}, {len(video_generator.temp_labels)}\")"
   ]
  },
  {
   "cell_type": "code",
   "execution_count": 28,
   "id": "137f16ef",
   "metadata": {
    "execution": {
     "iopub.execute_input": "2025-07-11T14:48:02.969415Z",
     "iopub.status.busy": "2025-07-11T14:48:02.969036Z",
     "iopub.status.idle": "2025-07-11T14:48:02.972492Z",
     "shell.execute_reply": "2025-07-11T14:48:02.971820Z"
    },
    "papermill": {
     "duration": 0.019806,
     "end_time": "2025-07-11T14:48:02.973460",
     "exception": false,
     "start_time": "2025-07-11T14:48:02.953654",
     "status": "completed"
    },
    "tags": []
   },
   "outputs": [
    {
     "name": "stdout",
     "output_type": "stream",
     "text": [
      "Adding 3240 videos with 3240 classes.\n",
      "Successfully added - 3240 videos and 3240 classes.\n",
      "Now Total - 4320 videos and 4320 classes.\n",
      "PENDING for Augmentations - 0 videos and 0 classes.\n"
     ]
    }
   ],
   "source": [
    "# confirm changes to generator\n",
    "video_generator.confirm()"
   ]
  },
  {
   "cell_type": "code",
   "execution_count": 29,
   "id": "1b24a9b9",
   "metadata": {
    "execution": {
     "iopub.execute_input": "2025-07-11T14:48:03.005076Z",
     "iopub.status.busy": "2025-07-11T14:48:03.004891Z",
     "iopub.status.idle": "2025-07-11T14:48:03.008539Z",
     "shell.execute_reply": "2025-07-11T14:48:03.007874Z"
    },
    "papermill": {
     "duration": 0.021075,
     "end_time": "2025-07-11T14:48:03.009541",
     "exception": false,
     "start_time": "2025-07-11T14:48:02.988466",
     "status": "completed"
    },
    "tags": []
   },
   "outputs": [
    {
     "name": "stdout",
     "output_type": "stream",
     "text": [
      "Checking Video Generator Total Videos and Class Count: 4320, 4320\n"
     ]
    }
   ],
   "source": [
    "print(f\"Checking Video Generator Total Videos and Class Count: {len(video_generator.videos)}, {len(video_generator.labels)}\")"
   ]
  },
  {
   "cell_type": "markdown",
   "id": "4b2fea24",
   "metadata": {
    "papermill": {
     "duration": 0.014764,
     "end_time": "2025-07-11T14:48:03.039409",
     "exception": false,
     "start_time": "2025-07-11T14:48:03.024645",
     "status": "completed"
    },
    "tags": []
   },
   "source": [
    "## Cheking (Output)"
   ]
  },
  {
   "cell_type": "code",
   "execution_count": 30,
   "id": "9efe46c0",
   "metadata": {
    "execution": {
     "iopub.execute_input": "2025-07-11T14:48:03.070624Z",
     "iopub.status.busy": "2025-07-11T14:48:03.070113Z",
     "iopub.status.idle": "2025-07-11T14:48:03.413588Z",
     "shell.execute_reply": "2025-07-11T14:48:03.412909Z"
    },
    "papermill": {
     "duration": 0.361582,
     "end_time": "2025-07-11T14:48:03.416182",
     "exception": false,
     "start_time": "2025-07-11T14:48:03.054600",
     "status": "completed"
    },
    "tags": []
   },
   "outputs": [
    {
     "name": "stdout",
     "output_type": "stream",
     "text": [
      "(24, 5, 128, 128, 3) (24,)\n"
     ]
    },
    {
     "data": {
      "image/png": "[encoded data removed]",
      "text/plain": [
       "<Figure size 1000x500 with 2 Axes>"
      ]
     },
     "metadata": {},
     "output_type": "display_data"
    },
    {
     "name": "stdout",
     "output_type": "stream",
     "text": [
      "Might be two different action, but to check the flipping focus on the door behind.\n"
     ]
    }
   ],
   "source": [
    "# check horizontal flips\n",
    "videos, labels = video_generator[7]\n",
    "videos1, labels1 = video_generator[1]\n",
    "\n",
    "print(videos.shape, labels.shape)\n",
    "\n",
    "show_frame_vs(videos[0,0],videos1[1,0], title1=\"Flipped Frame 1\", title2=\"Non Flipped Frame 1\")\n",
    "print(\"Might be two different action, but to check the flipping focus on the door behind.\")"
   ]
  },
  {
   "cell_type": "markdown",
   "id": "9dfe4f06",
   "metadata": {
    "papermill": {
     "duration": 0.017362,
     "end_time": "2025-07-11T14:48:03.451810",
     "exception": false,
     "start_time": "2025-07-11T14:48:03.434448",
     "status": "completed"
    },
    "tags": []
   },
   "source": [
    "# 📌 Preparing Data for Training"
   ]
  },
  {
   "cell_type": "code",
   "execution_count": 31,
   "id": "c473fa47",
   "metadata": {
    "execution": {
     "iopub.execute_input": "2025-07-11T14:48:03.488506Z",
     "iopub.status.busy": "2025-07-11T14:48:03.488241Z",
     "iopub.status.idle": "2025-07-11T14:48:03.905121Z",
     "shell.execute_reply": "2025-07-11T14:48:03.904541Z"
    },
    "papermill": {
     "duration": 0.437192,
     "end_time": "2025-07-11T14:48:03.906284",
     "exception": false,
     "start_time": "2025-07-11T14:48:03.469092",
     "status": "completed"
    },
    "tags": []
   },
   "outputs": [],
   "source": [
    "# Clear previous session to free memory\n",
    "import gc\n",
    "\n",
    "gc.collect()\n",
    "tf.keras.backend.clear_session()"
   ]
  },
  {
   "cell_type": "markdown",
   "id": "08988000",
   "metadata": {
    "papermill": {
     "duration": 0.017359,
     "end_time": "2025-07-11T14:48:03.941975",
     "exception": false,
     "start_time": "2025-07-11T14:48:03.924616",
     "status": "completed"
    },
    "tags": []
   },
   "source": [
    "## Splitting data for ***Trainig*** and ***Testing***"
   ]
  },
  {
   "cell_type": "code",
   "execution_count": 32,
   "id": "c20c6d35",
   "metadata": {
    "execution": {
     "iopub.execute_input": "2025-07-11T14:48:03.977682Z",
     "iopub.status.busy": "2025-07-11T14:48:03.977451Z",
     "iopub.status.idle": "2025-07-11T14:48:05.333544Z",
     "shell.execute_reply": "2025-07-11T14:48:05.332892Z"
    },
    "papermill": {
     "duration": 1.3755,
     "end_time": "2025-07-11T14:48:05.334776",
     "exception": false,
     "start_time": "2025-07-11T14:48:03.959276",
     "status": "completed"
    },
    "tags": []
   },
   "outputs": [
    {
     "data": {
      "text/plain": [
       "((4320, 5, 128, 128, 3), (4320,))"
      ]
     },
     "execution_count": 32,
     "metadata": {},
     "output_type": "execute_result"
    }
   ],
   "source": [
    "videos = video_generator.videos\n",
    "labels = video_generator.labels\n",
    "\n",
    "videos = np.array(videos, dtype='float32')\n",
    "labels = np.array(labels)\n",
    "\n",
    "videos.shape, labels.shape"
   ]
  },
  {
   "cell_type": "code",
   "execution_count": 33,
   "id": "48ece942",
   "metadata": {
    "execution": {
     "iopub.execute_input": "2025-07-11T14:48:05.371753Z",
     "iopub.status.busy": "2025-07-11T14:48:05.371548Z",
     "iopub.status.idle": "2025-07-11T14:48:05.376369Z",
     "shell.execute_reply": "2025-07-11T14:48:05.375860Z"
    },
    "papermill": {
     "duration": 0.023921,
     "end_time": "2025-07-11T14:48:05.377343",
     "exception": false,
     "start_time": "2025-07-11T14:48:05.353422",
     "status": "completed"
    },
    "tags": []
   },
   "outputs": [
    {
     "data": {
      "text/plain": [
       "(4320, 18)"
      ]
     },
     "execution_count": 33,
     "metadata": {},
     "output_type": "execute_result"
    }
   ],
   "source": [
    "from tensorflow.keras.utils import to_categorical\n",
    "\n",
    "one_hot_encoded_labels = to_categorical(labels)\n",
    "\n",
    "one_hot_encoded_labels.shape"
   ]
  },
  {
   "cell_type": "code",
   "execution_count": 34,
   "id": "7dc63fe8",
   "metadata": {
    "execution": {
     "iopub.execute_input": "2025-07-11T14:48:05.414488Z",
     "iopub.status.busy": "2025-07-11T14:48:05.414261Z",
     "iopub.status.idle": "2025-07-11T14:48:05.631569Z",
     "shell.execute_reply": "2025-07-11T14:48:05.630808Z"
    },
    "papermill": {
     "duration": 0.237432,
     "end_time": "2025-07-11T14:48:05.633085",
     "exception": false,
     "start_time": "2025-07-11T14:48:05.395653",
     "status": "completed"
    },
    "tags": []
   },
   "outputs": [
    {
     "data": {
      "text/plain": [
       "0"
      ]
     },
     "execution_count": 34,
     "metadata": {},
     "output_type": "execute_result"
    }
   ],
   "source": [
    "gc.collect()"
   ]
  },
  {
   "cell_type": "code",
   "execution_count": 35,
   "id": "f6f18183",
   "metadata": {
    "execution": {
     "iopub.execute_input": "2025-07-11T14:48:05.672424Z",
     "iopub.status.busy": "2025-07-11T14:48:05.671815Z",
     "iopub.status.idle": "2025-07-11T14:48:07.114821Z",
     "shell.execute_reply": "2025-07-11T14:48:07.113919Z"
    },
    "papermill": {
     "duration": 1.463833,
     "end_time": "2025-07-11T14:48:07.117005",
     "exception": false,
     "start_time": "2025-07-11T14:48:05.653172",
     "status": "completed"
    },
    "tags": []
   },
   "outputs": [
    {
     "data": {
      "text/plain": [
       "((3456, 5, 128, 128, 3), (3456, 18), (864, 5, 128, 128, 3), (864, 18))"
      ]
     },
     "execution_count": 35,
     "metadata": {},
     "output_type": "execute_result"
    }
   ],
   "source": [
    "# RUN Split the Data into Train ( 75% ) and Test Set ( 25% ).\n",
    "from sklearn.model_selection import train_test_split\n",
    "features_train, features_test, labels_train, labels_test = train_test_split(videos,\n",
    "                                                                            one_hot_encoded_labels,\n",
    "                                                                            test_size = TEST_SIZE,\n",
    "                                                                            shuffle = True,\n",
    "                                                                            random_state = seed_constant)\n",
    "\n",
    "features_train.shape, labels_train.shape, features_test.shape, labels_test.shape"
   ]
  },
  {
   "cell_type": "markdown",
   "id": "b7d7b685",
   "metadata": {
    "papermill": {
     "duration": 0.017787,
     "end_time": "2025-07-11T14:48:07.156292",
     "exception": false,
     "start_time": "2025-07-11T14:48:07.138505",
     "status": "completed"
    },
    "tags": []
   },
   "source": [
    "## Splitting data for ***Training Set*** and ***Validation Set***"
   ]
  },
  {
   "cell_type": "code",
   "execution_count": 36,
   "id": "060e6505",
   "metadata": {
    "execution": {
     "iopub.execute_input": "2025-07-11T14:48:07.192966Z",
     "iopub.status.busy": "2025-07-11T14:48:07.192757Z",
     "iopub.status.idle": "2025-07-11T14:48:07.198540Z",
     "shell.execute_reply": "2025-07-11T14:48:07.197824Z"
    },
    "papermill": {
     "duration": 0.025446,
     "end_time": "2025-07-11T14:48:07.199731",
     "exception": false,
     "start_time": "2025-07-11T14:48:07.174285",
     "status": "completed"
    },
    "tags": []
   },
   "outputs": [
    {
     "data": {
      "text/plain": [
       "((2764, 5, 128, 128, 3), (2764, 18), (692, 5, 128, 128, 3), (692, 18))"
      ]
     },
     "execution_count": 36,
     "metadata": {},
     "output_type": "execute_result"
    }
   ],
   "source": [
    "# Assuming features_train and labels_train are defined\n",
    "train_set = 1-VALIDATION_SPLIT\n",
    "\n",
    "train_video_frames, val_video_frames = features_train[:int(train_set * len(features_train))], features_train[int(train_set * len(features_train)):]\n",
    "train_labels, val_labels = labels_train[:int(train_set * len(labels_train))], labels_train[int(train_set * len(labels_train)):]\n",
    "\n",
    "train_video_frames.shape, train_labels.shape, val_video_frames.shape, val_labels.shape"
   ]
  },
  {
   "cell_type": "markdown",
   "id": "6f6d3e6a",
   "metadata": {
    "papermill": {
     "duration": 0.018826,
     "end_time": "2025-07-11T14:48:07.236821",
     "exception": false,
     "start_time": "2025-07-11T14:48:07.217995",
     "status": "completed"
    },
    "tags": []
   },
   "source": [
    "## Use Generator `Video Data Generator`"
   ]
  },
  {
   "cell_type": "code",
   "execution_count": 37,
   "id": "48b9d285",
   "metadata": {
    "execution": {
     "iopub.execute_input": "2025-07-11T14:48:07.276297Z",
     "iopub.status.busy": "2025-07-11T14:48:07.275739Z",
     "iopub.status.idle": "2025-07-11T14:48:07.283125Z",
     "shell.execute_reply": "2025-07-11T14:48:07.282556Z"
    },
    "papermill": {
     "duration": 0.028462,
     "end_time": "2025-07-11T14:48:07.284216",
     "exception": false,
     "start_time": "2025-07-11T14:48:07.255754",
     "status": "completed"
    },
    "tags": []
   },
   "outputs": [
    {
     "name": "stdout",
     "output_type": "stream",
     "text": [
      "Total 2764 videos and 2764 classes\n",
      "Total 692 videos and 692 classes\n"
     ]
    },
    {
     "data": {
      "text/plain": [
       "(116, 29)"
      ]
     },
     "execution_count": 37,
     "metadata": {},
     "output_type": "execute_result"
    }
   ],
   "source": [
    "# Create the training and validation generators\n",
    "train_gen = VideoDataGenerator(\n",
    "    videos=train_video_frames, \n",
    "    labels=train_labels, \n",
    "    batch_size=BATCH_SIZE,\n",
    ")\n",
    "\n",
    "val_gen = VideoDataGenerator(\n",
    "    videos=val_video_frames, \n",
    "    labels=val_labels, \n",
    "    batch_size=BATCH_SIZE,\n",
    ")\n",
    "\n",
    "len(train_gen), len(val_gen)"
   ]
  },
  {
   "cell_type": "markdown",
   "id": "c0d2ba47",
   "metadata": {
    "papermill": {
     "duration": 0.018734,
     "end_time": "2025-07-11T14:48:07.322557",
     "exception": false,
     "start_time": "2025-07-11T14:48:07.303823",
     "status": "completed"
    },
    "tags": []
   },
   "source": [
    "## Inspect ***Generator*** Data on Epochs"
   ]
  },
  {
   "cell_type": "code",
   "execution_count": 38,
   "id": "967d9146",
   "metadata": {
    "execution": {
     "iopub.execute_input": "2025-07-11T14:48:07.361011Z",
     "iopub.status.busy": "2025-07-11T14:48:07.360799Z",
     "iopub.status.idle": "2025-07-11T14:48:07.371369Z",
     "shell.execute_reply": "2025-07-11T14:48:07.370753Z"
    },
    "papermill": {
     "duration": 0.030811,
     "end_time": "2025-07-11T14:48:07.372542",
     "exception": false,
     "start_time": "2025-07-11T14:48:07.341731",
     "status": "completed"
    },
    "tags": []
   },
   "outputs": [
    {
     "name": "stdout",
     "output_type": "stream",
     "text": [
      "[   0    1    2 ... 2761 2762 2763]\n",
      "[ 298 1988 1344 ...  975  495  426]\n"
     ]
    },
    {
     "data": {
      "text/plain": [
       "(24, (24, 5, 128, 128, 3), (24, 18))"
      ]
     },
     "execution_count": 38,
     "metadata": {},
     "output_type": "execute_result"
    }
   ],
   "source": [
    "features, labels = train_gen[1]\n",
    "\n",
    "print(train_gen.indices)\n",
    "\n",
    "train_gen.on_epoch_end()\n",
    "\n",
    "print(train_gen.indices)\n",
    "\n",
    "BATCH_SIZE, features.shape, labels.shape"
   ]
  },
  {
   "cell_type": "markdown",
   "id": "042f5896",
   "metadata": {
    "papermill": {
     "duration": 0.018339,
     "end_time": "2025-07-11T14:48:07.409200",
     "exception": false,
     "start_time": "2025-07-11T14:48:07.390861",
     "status": "completed"
    },
    "tags": []
   },
   "source": [
    "## Compute Class Weight"
   ]
  },
  {
   "cell_type": "code",
   "execution_count": 39,
   "id": "ba2ee086",
   "metadata": {
    "execution": {
     "iopub.execute_input": "2025-07-11T14:48:07.446574Z",
     "iopub.status.busy": "2025-07-11T14:48:07.445932Z",
     "iopub.status.idle": "2025-07-11T14:48:07.451955Z",
     "shell.execute_reply": "2025-07-11T14:48:07.451230Z"
    },
    "papermill": {
     "duration": 0.025719,
     "end_time": "2025-07-11T14:48:07.453036",
     "exception": false,
     "start_time": "2025-07-11T14:48:07.427317",
     "status": "completed"
    },
    "tags": []
   },
   "outputs": [
    {
     "name": "stdout",
     "output_type": "stream",
     "text": [
      "Class weights: {0: 1.0, 1: 1.0, 2: 1.0, 3: 1.0, 4: 1.0, 5: 1.0, 6: 1.0, 7: 1.0, 8: 1.0, 9: 1.0, 10: 1.0, 11: 1.0, 12: 1.0, 13: 1.0, 14: 1.0, 15: 1.0, 16: 1.0, 17: 1.0}\n"
     ]
    }
   ],
   "source": [
    "from sklearn.utils.class_weight import compute_class_weight\n",
    "import numpy as np\n",
    "\n",
    "# Assuming y_int are integer labels (not one-hot)\n",
    "y_int = np.argmax(one_hot_encoded_labels, axis=1)  # or just integer labels if you have them\n",
    "\n",
    "classes = np.arange(NO_OF_CLASSES)  # e.g. np.arange(16)\n",
    "class_weights_values = compute_class_weight(class_weight='balanced', classes=classes, y=y_int)\n",
    "\n",
    "class_weights = dict(zip(classes, class_weights_values))\n",
    "\n",
    "print(\"Class weights:\", class_weights)\n"
   ]
  },
  {
   "cell_type": "code",
   "execution_count": 40,
   "id": "838c25e0",
   "metadata": {
    "execution": {
     "iopub.execute_input": "2025-07-11T14:48:07.491518Z",
     "iopub.status.busy": "2025-07-11T14:48:07.491019Z",
     "iopub.status.idle": "2025-07-11T14:48:07.719018Z",
     "shell.execute_reply": "2025-07-11T14:48:07.718253Z"
    },
    "papermill": {
     "duration": 0.248758,
     "end_time": "2025-07-11T14:48:07.720123",
     "exception": false,
     "start_time": "2025-07-11T14:48:07.471365",
     "status": "completed"
    },
    "tags": []
   },
   "outputs": [],
   "source": [
    "gc.collect()\n",
    "del videos, one_hot_encoded_labels, labels_train\n",
    "del features_train, val_labels, train_labels\n",
    "del val_video_frames, train_video_frames"
   ]
  },
  {
   "cell_type": "markdown",
   "id": "f9b3e8eb",
   "metadata": {
    "papermill": {
     "duration": 0.018075,
     "end_time": "2025-07-11T14:48:07.757723",
     "exception": false,
     "start_time": "2025-07-11T14:48:07.739648",
     "status": "completed"
    },
    "tags": []
   },
   "source": [
    "# ✨ Model Execution\n",
    "## Creating Model"
   ]
  },
  {
   "cell_type": "markdown",
   "id": "85ba50cc",
   "metadata": {
    "papermill": {
     "duration": 0.017834,
     "end_time": "2025-07-11T14:48:07.793612",
     "exception": false,
     "start_time": "2025-07-11T14:48:07.775778",
     "status": "completed"
    },
    "tags": []
   },
   "source": [
    "## Plot Model Structure"
   ]
  },
  {
   "cell_type": "markdown",
   "id": "373037dd",
   "metadata": {
    "papermill": {
     "duration": 0.018239,
     "end_time": "2025-07-11T14:48:07.829797",
     "exception": false,
     "start_time": "2025-07-11T14:48:07.811558",
     "status": "completed"
    },
    "tags": []
   },
   "source": [
    "## 📈 Model Training"
   ]
  },
  {
   "cell_type": "code",
   "execution_count": 41,
   "id": "0fc6efdc",
   "metadata": {
    "execution": {
     "iopub.execute_input": "2025-07-11T14:48:07.866801Z",
     "iopub.status.busy": "2025-07-11T14:48:07.866575Z",
     "iopub.status.idle": "2025-07-11T14:54:43.486599Z",
     "shell.execute_reply": "2025-07-11T14:54:43.485792Z"
    },
    "papermill": {
     "duration": 395.640281,
     "end_time": "2025-07-11T14:54:43.487978",
     "exception": false,
     "start_time": "2025-07-11T14:48:07.847697",
     "status": "completed"
    },
    "tags": []
   },
   "outputs": [
    {
     "name": "stdout",
     "output_type": "stream",
     "text": [
      "Memory cleared before creating VGG19+LSTM model\n",
      "TensorFlow version: 2.18.0\n",
      "Pre-loading VGG19 weights...\n",
      "Downloading data from https://storage.googleapis.com/tensorflow/keras-applications/mobilenet_v2/mobilenet_v2_weights_tf_dim_ordering_tf_kernels_1.0_128_no_top.h5\n",
      "\u001b[1m9406464/9406464\u001b[0m \u001b[32m━━━━━━━━━━━━━━━━━━━━\u001b[0m\u001b[37m\u001b[0m \u001b[1m0s\u001b[0m 0us/step\n",
      "VGG19 weights loaded successfully!\n",
      "Creating VGG19+LSTM model with parameters:\n",
      "sequence_length: 5, image_height: 128, image_width: 128, classes_list length: 18, dropout_rate: 0.5\n"
     ]
    },
    {
     "name": "stderr",
     "output_type": "stream",
     "text": [
      "/usr/local/lib/python3.11/dist-packages/keras/src/layers/core/wrapper.py:27: UserWarning: Do not pass an `input_shape`/`input_dim` argument to a layer. When using Sequential models, prefer using an `Input(shape)` object as the first layer in the model instead.\n",
      "  super().__init__(**kwargs)\n"
     ]
    },
    {
     "name": "stdout",
     "output_type": "stream",
     "text": [
      "VGG19+LSTM model architecture created successfully!\n"
     ]
    },
    {
     "data": {
      "text/html": [
       "<pre style=\"white-space:pre;overflow-x:auto;line-height:normal;font-family:Menlo,'DejaVu Sans Mono',consolas,'Courier New',monospace\"><span style=\"font-weight: bold\">Model: \"sequential\"</span>\n",
       "</pre>\n"
      ],
      "text/plain": [
       "\u001b[1mModel: \"sequential\"\u001b[0m\n"
      ]
     },
     "metadata": {},
     "output_type": "display_data"
    },
    {
     "data": {
      "text/html": [
       "<pre style=\"white-space:pre;overflow-x:auto;line-height:normal;font-family:Menlo,'DejaVu Sans Mono',consolas,'Courier New',monospace\">┏━━━━━━━━━━━━━━━━━━━━━━━━━━━━━━━━━┳━━━━━━━━━━━━━━━━━━━━━━━━┳━━━━━━━━━━━━━━━┓\n",
       "┃<span style=\"font-weight: bold\"> Layer (type)                    </span>┃<span style=\"font-weight: bold\"> Output Shape           </span>┃<span style=\"font-weight: bold\">       Param # </span>┃\n",
       "┡━━━━━━━━━━━━━━━━━━━━━━━━━━━━━━━━━╇━━━━━━━━━━━━━━━━━━━━━━━━╇━━━━━━━━━━━━━━━┩\n",
       "│ time_distributed_vgg19          │ (<span style=\"color: #00d7ff; text-decoration-color: #00d7ff\">None</span>, <span style=\"color: #00af00; text-decoration-color: #00af00\">5</span>, <span style=\"color: #00af00; text-decoration-color: #00af00\">4</span>, <span style=\"color: #00af00; text-decoration-color: #00af00\">4</span>, <span style=\"color: #00af00; text-decoration-color: #00af00\">1280</span>)  │     <span style=\"color: #00af00; text-decoration-color: #00af00\">2,257,984</span> │\n",
       "│ (<span style=\"color: #0087ff; text-decoration-color: #0087ff\">TimeDistributed</span>)               │                        │               │\n",
       "├─────────────────────────────────┼────────────────────────┼───────────────┤\n",
       "│ time_distributed_pooling        │ (<span style=\"color: #00d7ff; text-decoration-color: #00d7ff\">None</span>, <span style=\"color: #00af00; text-decoration-color: #00af00\">5</span>, <span style=\"color: #00af00; text-decoration-color: #00af00\">1280</span>)        │             <span style=\"color: #00af00; text-decoration-color: #00af00\">0</span> │\n",
       "│ (<span style=\"color: #0087ff; text-decoration-color: #0087ff\">TimeDistributed</span>)               │                        │               │\n",
       "├─────────────────────────────────┼────────────────────────┼───────────────┤\n",
       "│ lstm_vgg19 (<span style=\"color: #0087ff; text-decoration-color: #0087ff\">LSTM</span>)               │ (<span style=\"color: #00d7ff; text-decoration-color: #00d7ff\">None</span>, <span style=\"color: #00af00; text-decoration-color: #00af00\">512</span>)            │     <span style=\"color: #00af00; text-decoration-color: #00af00\">3,672,064</span> │\n",
       "├─────────────────────────────────┼────────────────────────┼───────────────┤\n",
       "│ batch_normalization_vgg19       │ (<span style=\"color: #00d7ff; text-decoration-color: #00d7ff\">None</span>, <span style=\"color: #00af00; text-decoration-color: #00af00\">512</span>)            │         <span style=\"color: #00af00; text-decoration-color: #00af00\">2,048</span> │\n",
       "│ (<span style=\"color: #0087ff; text-decoration-color: #0087ff\">BatchNormalization</span>)            │                        │               │\n",
       "├─────────────────────────────────┼────────────────────────┼───────────────┤\n",
       "│ dropout_lstm_vgg19 (<span style=\"color: #0087ff; text-decoration-color: #0087ff\">Dropout</span>)    │ (<span style=\"color: #00d7ff; text-decoration-color: #00d7ff\">None</span>, <span style=\"color: #00af00; text-decoration-color: #00af00\">512</span>)            │             <span style=\"color: #00af00; text-decoration-color: #00af00\">0</span> │\n",
       "├─────────────────────────────────┼────────────────────────┼───────────────┤\n",
       "│ dense_vgg19_1 (<span style=\"color: #0087ff; text-decoration-color: #0087ff\">Dense</span>)           │ (<span style=\"color: #00d7ff; text-decoration-color: #00d7ff\">None</span>, <span style=\"color: #00af00; text-decoration-color: #00af00\">512</span>)            │       <span style=\"color: #00af00; text-decoration-color: #00af00\">262,656</span> │\n",
       "├─────────────────────────────────┼────────────────────────┼───────────────┤\n",
       "│ dropout_dense_vgg19_1 (<span style=\"color: #0087ff; text-decoration-color: #0087ff\">Dropout</span>) │ (<span style=\"color: #00d7ff; text-decoration-color: #00d7ff\">None</span>, <span style=\"color: #00af00; text-decoration-color: #00af00\">512</span>)            │             <span style=\"color: #00af00; text-decoration-color: #00af00\">0</span> │\n",
       "├─────────────────────────────────┼────────────────────────┼───────────────┤\n",
       "│ dense_vgg19_2 (<span style=\"color: #0087ff; text-decoration-color: #0087ff\">Dense</span>)           │ (<span style=\"color: #00d7ff; text-decoration-color: #00d7ff\">None</span>, <span style=\"color: #00af00; text-decoration-color: #00af00\">128</span>)            │        <span style=\"color: #00af00; text-decoration-color: #00af00\">65,664</span> │\n",
       "├─────────────────────────────────┼────────────────────────┼───────────────┤\n",
       "│ dropout_dense_vgg19_2 (<span style=\"color: #0087ff; text-decoration-color: #0087ff\">Dropout</span>) │ (<span style=\"color: #00d7ff; text-decoration-color: #00d7ff\">None</span>, <span style=\"color: #00af00; text-decoration-color: #00af00\">128</span>)            │             <span style=\"color: #00af00; text-decoration-color: #00af00\">0</span> │\n",
       "├─────────────────────────────────┼────────────────────────┼───────────────┤\n",
       "│ output_vgg19 (<span style=\"color: #0087ff; text-decoration-color: #0087ff\">Dense</span>)            │ (<span style=\"color: #00d7ff; text-decoration-color: #00d7ff\">None</span>, <span style=\"color: #00af00; text-decoration-color: #00af00\">18</span>)             │         <span style=\"color: #00af00; text-decoration-color: #00af00\">2,322</span> │\n",
       "└─────────────────────────────────┴────────────────────────┴───────────────┘\n",
       "</pre>\n"
      ],
      "text/plain": [
       "┏━━━━━━━━━━━━━━━━━━━━━━━━━━━━━━━━━┳━━━━━━━━━━━━━━━━━━━━━━━━┳━━━━━━━━━━━━━━━┓\n",
       "┃\u001b[1m \u001b[0m\u001b[1mLayer (type)                   \u001b[0m\u001b[1m \u001b[0m┃\u001b[1m \u001b[0m\u001b[1mOutput Shape          \u001b[0m\u001b[1m \u001b[0m┃\u001b[1m \u001b[0m\u001b[1m      Param #\u001b[0m\u001b[1m \u001b[0m┃\n",
       "┡━━━━━━━━━━━━━━━━━━━━━━━━━━━━━━━━━╇━━━━━━━━━━━━━━━━━━━━━━━━╇━━━━━━━━━━━━━━━┩\n",
       "│ time_distributed_vgg19          │ (\u001b[38;5;45mNone\u001b[0m, \u001b[38;5;34m5\u001b[0m, \u001b[38;5;34m4\u001b[0m, \u001b[38;5;34m4\u001b[0m, \u001b[38;5;34m1280\u001b[0m)  │     \u001b[38;5;34m2,257,984\u001b[0m │\n",
       "│ (\u001b[38;5;33mTimeDistributed\u001b[0m)               │                        │               │\n",
       "├─────────────────────────────────┼────────────────────────┼───────────────┤\n",
       "│ time_distributed_pooling        │ (\u001b[38;5;45mNone\u001b[0m, \u001b[38;5;34m5\u001b[0m, \u001b[38;5;34m1280\u001b[0m)        │             \u001b[38;5;34m0\u001b[0m │\n",
       "│ (\u001b[38;5;33mTimeDistributed\u001b[0m)               │                        │               │\n",
       "├─────────────────────────────────┼────────────────────────┼───────────────┤\n",
       "│ lstm_vgg19 (\u001b[38;5;33mLSTM\u001b[0m)               │ (\u001b[38;5;45mNone\u001b[0m, \u001b[38;5;34m512\u001b[0m)            │     \u001b[38;5;34m3,672,064\u001b[0m │\n",
       "├─────────────────────────────────┼────────────────────────┼───────────────┤\n",
       "│ batch_normalization_vgg19       │ (\u001b[38;5;45mNone\u001b[0m, \u001b[38;5;34m512\u001b[0m)            │         \u001b[38;5;34m2,048\u001b[0m │\n",
       "│ (\u001b[38;5;33mBatchNormalization\u001b[0m)            │                        │               │\n",
       "├─────────────────────────────────┼────────────────────────┼───────────────┤\n",
       "│ dropout_lstm_vgg19 (\u001b[38;5;33mDropout\u001b[0m)    │ (\u001b[38;5;45mNone\u001b[0m, \u001b[38;5;34m512\u001b[0m)            │             \u001b[38;5;34m0\u001b[0m │\n",
       "├─────────────────────────────────┼────────────────────────┼───────────────┤\n",
       "│ dense_vgg19_1 (\u001b[38;5;33mDense\u001b[0m)           │ (\u001b[38;5;45mNone\u001b[0m, \u001b[38;5;34m512\u001b[0m)            │       \u001b[38;5;34m262,656\u001b[0m │\n",
       "├─────────────────────────────────┼────────────────────────┼───────────────┤\n",
       "│ dropout_dense_vgg19_1 (\u001b[38;5;33mDropout\u001b[0m) │ (\u001b[38;5;45mNone\u001b[0m, \u001b[38;5;34m512\u001b[0m)            │             \u001b[38;5;34m0\u001b[0m │\n",
       "├─────────────────────────────────┼────────────────────────┼───────────────┤\n",
       "│ dense_vgg19_2 (\u001b[38;5;33mDense\u001b[0m)           │ (\u001b[38;5;45mNone\u001b[0m, \u001b[38;5;34m128\u001b[0m)            │        \u001b[38;5;34m65,664\u001b[0m │\n",
       "├─────────────────────────────────┼────────────────────────┼───────────────┤\n",
       "│ dropout_dense_vgg19_2 (\u001b[38;5;33mDropout\u001b[0m) │ (\u001b[38;5;45mNone\u001b[0m, \u001b[38;5;34m128\u001b[0m)            │             \u001b[38;5;34m0\u001b[0m │\n",
       "├─────────────────────────────────┼────────────────────────┼───────────────┤\n",
       "│ output_vgg19 (\u001b[38;5;33mDense\u001b[0m)            │ (\u001b[38;5;45mNone\u001b[0m, \u001b[38;5;34m18\u001b[0m)             │         \u001b[38;5;34m2,322\u001b[0m │\n",
       "└─────────────────────────────────┴────────────────────────┴───────────────┘\n"
      ]
     },
     "metadata": {},
     "output_type": "display_data"
    },
    {
     "data": {
      "text/html": [
       "<pre style=\"white-space:pre;overflow-x:auto;line-height:normal;font-family:Menlo,'DejaVu Sans Mono',consolas,'Courier New',monospace\"><span style=\"font-weight: bold\"> Total params: </span><span style=\"color: #00af00; text-decoration-color: #00af00\">6,262,738</span> (23.89 MB)\n",
       "</pre>\n"
      ],
      "text/plain": [
       "\u001b[1m Total params: \u001b[0m\u001b[38;5;34m6,262,738\u001b[0m (23.89 MB)\n"
      ]
     },
     "metadata": {},
     "output_type": "display_data"
    },
    {
     "data": {
      "text/html": [
       "<pre style=\"white-space:pre;overflow-x:auto;line-height:normal;font-family:Menlo,'DejaVu Sans Mono',consolas,'Courier New',monospace\"><span style=\"font-weight: bold\"> Trainable params: </span><span style=\"color: #00af00; text-decoration-color: #00af00\">4,003,730</span> (15.27 MB)\n",
       "</pre>\n"
      ],
      "text/plain": [
       "\u001b[1m Trainable params: \u001b[0m\u001b[38;5;34m4,003,730\u001b[0m (15.27 MB)\n"
      ]
     },
     "metadata": {},
     "output_type": "display_data"
    },
    {
     "data": {
      "text/html": [
       "<pre style=\"white-space:pre;overflow-x:auto;line-height:normal;font-family:Menlo,'DejaVu Sans Mono',consolas,'Courier New',monospace\"><span style=\"font-weight: bold\"> Non-trainable params: </span><span style=\"color: #00af00; text-decoration-color: #00af00\">2,259,008</span> (8.62 MB)\n",
       "</pre>\n"
      ],
      "text/plain": [
       "\u001b[1m Non-trainable params: \u001b[0m\u001b[38;5;34m2,259,008\u001b[0m (8.62 MB)\n"
      ]
     },
     "metadata": {},
     "output_type": "display_data"
    },
    {
     "name": "stdout",
     "output_type": "stream",
     "text": [
      "VGG19+LSTM Model Created Successfully!\n",
      "Xception_VGG19_LSTM Model Plot saved successfully...\n",
      "train_gen.videos shape: (2764, 5, 128, 128, 3)\n",
      "train_gen.labels shape: (2764, 18)\n",
      "val_gen.videos shape: (692, 5, 128, 128, 3)\n",
      "val_gen.labels shape: (692, 18)\n",
      "features_test shape: (864, 5, 128, 128, 3)\n",
      "labels_test shape: (864, 18)\n",
      "train_gen batch videos shape: (24, 5, 128, 128, 3)\n",
      "train_gen batch labels shape: (24, 18)\n",
      "val_gen batch videos shape: (24, 5, 128, 128, 3)\n",
      "val_gen batch labels shape: (24, 18)\n",
      "Dataset - Kard Kinect Activity Recognition Dataset\n",
      "There are total 18 classes, selected 18 classes\n",
      "Setting None videos/class to train the model.\n",
      "Image size 128x128 with 5 sequence length\n",
      "Dropout rate: 0.5\n",
      "Train-Test split ratio 80/20\n",
      "Validation data from Train set 20.0%\n",
      "\n",
      "\n",
      "Initial training started for VGG19+LSTM model with 2764 videos of 18 classes with 692 videos for validation...\n",
      "Epoch 1/30\n"
     ]
    },
    {
     "name": "stderr",
     "output_type": "stream",
     "text": [
      "I0000 00:00:1752245321.543242    4387 cuda_dnn.cc:529] Loaded cuDNN version 90300\n"
     ]
    },
    {
     "name": "stdout",
     "output_type": "stream",
     "text": [
      "    116/Unknown \u001b[1m41s\u001b[0m 79ms/step - accuracy: 0.0591 - loss: 22.0487"
     ]
    },
    {
     "name": "stderr",
     "output_type": "stream",
     "text": [
      "/usr/local/lib/python3.11/dist-packages/keras/src/trainers/epoch_iterator.py:151: UserWarning: Your input ran out of data; interrupting training. Make sure that your dataset or generator can generate at least `steps_per_epoch * epochs` batches. You may need to use the `.repeat()` function when building your dataset.\n",
      "  self._interrupted_warning()\n"
     ]
    },
    {
     "name": "stdout",
     "output_type": "stream",
     "text": [
      "\u001b[1m116/116\u001b[0m \u001b[32m━━━━━━━━━━━━━━━━━━━━\u001b[0m\u001b[37m\u001b[0m \u001b[1m51s\u001b[0m 164ms/step - accuracy: 0.0593 - loss: 22.0163 - val_accuracy: 0.1705 - val_loss: 12.7539 - learning_rate: 0.0010\n",
      "Epoch 2/30\n",
      "\u001b[1m116/116\u001b[0m \u001b[32m━━━━━━━━━━━━━━━━━━━━\u001b[0m\u001b[37m\u001b[0m \u001b[1m11s\u001b[0m 98ms/step - accuracy: 0.1518 - loss: 11.3607 - val_accuracy: 0.2645 - val_loss: 8.2273 - learning_rate: 0.0010\n",
      "Epoch 3/30\n",
      "\u001b[1m116/116\u001b[0m \u001b[32m━━━━━━━━━━━━━━━━━━━━\u001b[0m\u001b[37m\u001b[0m \u001b[1m12s\u001b[0m 99ms/step - accuracy: 0.2654 - loss: 7.4601 - val_accuracy: 0.3338 - val_loss: 5.8412 - learning_rate: 0.0010\n",
      "Epoch 4/30\n",
      "\u001b[1m116/116\u001b[0m \u001b[32m━━━━━━━━━━━━━━━━━━━━\u001b[0m\u001b[37m\u001b[0m \u001b[1m12s\u001b[0m 101ms/step - accuracy: 0.3587 - loss: 5.3633 - val_accuracy: 0.4855 - val_loss: 4.0257 - learning_rate: 0.0010\n",
      "Epoch 5/30\n",
      "\u001b[1m116/116\u001b[0m \u001b[32m━━━━━━━━━━━━━━━━━━━━\u001b[0m\u001b[37m\u001b[0m \u001b[1m12s\u001b[0m 102ms/step - accuracy: 0.4180 - loss: 4.0181 - val_accuracy: 0.5159 - val_loss: 3.1502 - learning_rate: 0.0010\n",
      "Epoch 6/30\n",
      "\u001b[1m116/116\u001b[0m \u001b[32m━━━━━━━━━━━━━━━━━━━━\u001b[0m\u001b[37m\u001b[0m \u001b[1m12s\u001b[0m 104ms/step - accuracy: 0.4694 - loss: 3.2053 - val_accuracy: 0.6012 - val_loss: 2.5350 - learning_rate: 0.0010\n",
      "Epoch 7/30\n",
      "\u001b[1m116/116\u001b[0m \u001b[32m━━━━━━━━━━━━━━━━━━━━\u001b[0m\u001b[37m\u001b[0m \u001b[1m12s\u001b[0m 102ms/step - accuracy: 0.5368 - loss: 2.6541 - val_accuracy: 0.5751 - val_loss: 2.4288 - learning_rate: 0.0010\n",
      "Epoch 8/30\n",
      "\u001b[1m116/116\u001b[0m \u001b[32m━━━━━━━━━━━━━━━━━━━━\u001b[0m\u001b[37m\u001b[0m \u001b[1m12s\u001b[0m 101ms/step - accuracy: 0.5478 - loss: 2.5316 - val_accuracy: 0.6503 - val_loss: 2.0856 - learning_rate: 0.0010\n",
      "Epoch 9/30\n",
      "\u001b[1m116/116\u001b[0m \u001b[32m━━━━━━━━━━━━━━━━━━━━\u001b[0m\u001b[37m\u001b[0m \u001b[1m12s\u001b[0m 100ms/step - accuracy: 0.6310 - loss: 2.1247 - val_accuracy: 0.5448 - val_loss: 2.4208 - learning_rate: 0.0010\n",
      "Epoch 10/30\n",
      "\u001b[1m116/116\u001b[0m \u001b[32m━━━━━━━━━━━━━━━━━━━━\u001b[0m\u001b[37m\u001b[0m \u001b[1m12s\u001b[0m 100ms/step - accuracy: 0.6529 - loss: 2.0338 - val_accuracy: 0.6676 - val_loss: 1.8797 - learning_rate: 0.0010\n",
      "Epoch 11/30\n",
      "\u001b[1m116/116\u001b[0m \u001b[32m━━━━━━━━━━━━━━━━━━━━\u001b[0m\u001b[37m\u001b[0m \u001b[1m12s\u001b[0m 100ms/step - accuracy: 0.6617 - loss: 2.0143 - val_accuracy: 0.6618 - val_loss: 1.9629 - learning_rate: 0.0010\n",
      "Epoch 12/30\n",
      "\u001b[1m116/116\u001b[0m \u001b[32m━━━━━━━━━━━━━━━━━━━━\u001b[0m\u001b[37m\u001b[0m \u001b[1m12s\u001b[0m 101ms/step - accuracy: 0.6872 - loss: 1.9674 - val_accuracy: 0.6214 - val_loss: 2.0429 - learning_rate: 0.0010\n",
      "Epoch 13/30\n",
      "\u001b[1m116/116\u001b[0m \u001b[32m━━━━━━━━━━━━━━━━━━━━\u001b[0m\u001b[37m\u001b[0m \u001b[1m12s\u001b[0m 101ms/step - accuracy: 0.7198 - loss: 1.8747 - val_accuracy: 0.6055 - val_loss: 2.1866 - learning_rate: 0.0010\n",
      "Epoch 14/30\n",
      "\u001b[1m116/116\u001b[0m \u001b[32m━━━━━━━━━━━━━━━━━━━━\u001b[0m\u001b[37m\u001b[0m \u001b[1m12s\u001b[0m 102ms/step - accuracy: 0.7584 - loss: 1.6822 - val_accuracy: 0.7746 - val_loss: 1.4703 - learning_rate: 5.0000e-04\n",
      "Epoch 15/30\n",
      "\u001b[1m116/116\u001b[0m \u001b[32m━━━━━━━━━━━━━━━━━━━━\u001b[0m\u001b[37m\u001b[0m \u001b[1m12s\u001b[0m 101ms/step - accuracy: 0.8179 - loss: 1.3570 - val_accuracy: 0.7803 - val_loss: 1.2997 - learning_rate: 5.0000e-04\n",
      "Epoch 16/30\n",
      "\u001b[1m116/116\u001b[0m \u001b[32m━━━━━━━━━━━━━━━━━━━━\u001b[0m\u001b[37m\u001b[0m \u001b[1m12s\u001b[0m 101ms/step - accuracy: 0.8371 - loss: 1.2061 - val_accuracy: 0.8049 - val_loss: 1.1636 - learning_rate: 5.0000e-04\n",
      "Epoch 17/30\n",
      "\u001b[1m116/116\u001b[0m \u001b[32m━━━━━━━━━━━━━━━━━━━━\u001b[0m\u001b[37m\u001b[0m \u001b[1m12s\u001b[0m 100ms/step - accuracy: 0.8470 - loss: 1.1495 - val_accuracy: 0.7905 - val_loss: 1.2804 - learning_rate: 5.0000e-04\n",
      "Epoch 18/30\n",
      "\u001b[1m116/116\u001b[0m \u001b[32m━━━━━━━━━━━━━━━━━━━━\u001b[0m\u001b[37m\u001b[0m \u001b[1m12s\u001b[0m 100ms/step - accuracy: 0.8423 - loss: 1.1818 - val_accuracy: 0.7775 - val_loss: 1.3190 - learning_rate: 5.0000e-04\n",
      "Epoch 19/30\n",
      "\u001b[1m116/116\u001b[0m \u001b[32m━━━━━━━━━━━━━━━━━━━━\u001b[0m\u001b[37m\u001b[0m \u001b[1m12s\u001b[0m 101ms/step - accuracy: 0.8550 - loss: 1.1260 - val_accuracy: 0.7384 - val_loss: 1.4774 - learning_rate: 5.0000e-04\n",
      "Epoch 20/30\n",
      "\u001b[1m116/116\u001b[0m \u001b[32m━━━━━━━━━━━━━━━━━━━━\u001b[0m\u001b[37m\u001b[0m \u001b[1m12s\u001b[0m 101ms/step - accuracy: 0.9022 - loss: 0.9834 - val_accuracy: 0.8642 - val_loss: 0.9817 - learning_rate: 2.5000e-04\n",
      "Epoch 21/30\n",
      "\u001b[1m116/116\u001b[0m \u001b[32m━━━━━━━━━━━━━━━━━━━━\u001b[0m\u001b[37m\u001b[0m \u001b[1m12s\u001b[0m 102ms/step - accuracy: 0.9246 - loss: 0.8629 - val_accuracy: 0.8671 - val_loss: 0.9357 - learning_rate: 2.5000e-04\n",
      "Epoch 22/30\n",
      "\u001b[1m116/116\u001b[0m \u001b[32m━━━━━━━━━━━━━━━━━━━━\u001b[0m\u001b[37m\u001b[0m \u001b[1m12s\u001b[0m 100ms/step - accuracy: 0.9413 - loss: 0.7786 - val_accuracy: 0.8627 - val_loss: 0.9578 - learning_rate: 2.5000e-04\n",
      "Epoch 23/30\n",
      "\u001b[1m116/116\u001b[0m \u001b[32m━━━━━━━━━━━━━━━━━━━━\u001b[0m\u001b[37m\u001b[0m \u001b[1m12s\u001b[0m 101ms/step - accuracy: 0.9387 - loss: 0.7465 - val_accuracy: 0.8671 - val_loss: 0.8403 - learning_rate: 2.5000e-04\n",
      "Epoch 24/30\n",
      "\u001b[1m116/116\u001b[0m \u001b[32m━━━━━━━━━━━━━━━━━━━━\u001b[0m\u001b[37m\u001b[0m \u001b[1m12s\u001b[0m 100ms/step - accuracy: 0.9441 - loss: 0.7080 - val_accuracy: 0.8627 - val_loss: 0.8993 - learning_rate: 2.5000e-04\n",
      "Epoch 25/30\n",
      "\u001b[1m116/116\u001b[0m \u001b[32m━━━━━━━━━━━━━━━━━━━━\u001b[0m\u001b[37m\u001b[0m \u001b[1m12s\u001b[0m 101ms/step - accuracy: 0.9448 - loss: 0.6826 - val_accuracy: 0.8714 - val_loss: 0.8574 - learning_rate: 2.5000e-04\n",
      "Epoch 26/30\n",
      "\u001b[1m116/116\u001b[0m \u001b[32m━━━━━━━━━━━━━━━━━━━━\u001b[0m\u001b[37m\u001b[0m \u001b[1m12s\u001b[0m 101ms/step - accuracy: 0.9334 - loss: 0.7057 - val_accuracy: 0.8714 - val_loss: 0.8518 - learning_rate: 2.5000e-04\n",
      "Epoch 27/30\n",
      "\u001b[1m116/116\u001b[0m \u001b[32m━━━━━━━━━━━━━━━━━━━━\u001b[0m\u001b[37m\u001b[0m \u001b[1m12s\u001b[0m 101ms/step - accuracy: 0.9556 - loss: 0.6419 - val_accuracy: 0.9046 - val_loss: 0.7130 - learning_rate: 1.2500e-04\n",
      "Epoch 28/30\n",
      "\u001b[1m116/116\u001b[0m \u001b[32m━━━━━━━━━━━━━━━━━━━━\u001b[0m\u001b[37m\u001b[0m \u001b[1m12s\u001b[0m 102ms/step - accuracy: 0.9716 - loss: 0.5720 - val_accuracy: 0.9032 - val_loss: 0.6897 - learning_rate: 1.2500e-04\n",
      "Epoch 29/30\n",
      "\u001b[1m116/116\u001b[0m \u001b[32m━━━━━━━━━━━━━━━━━━━━\u001b[0m\u001b[37m\u001b[0m \u001b[1m12s\u001b[0m 100ms/step - accuracy: 0.9644 - loss: 0.5626 - val_accuracy: 0.9191 - val_loss: 0.6581 - learning_rate: 1.2500e-04\n",
      "Epoch 30/30\n",
      "\u001b[1m116/116\u001b[0m \u001b[32m━━━━━━━━━━━━━━━━━━━━\u001b[0m\u001b[37m\u001b[0m \u001b[1m12s\u001b[0m 100ms/step - accuracy: 0.9754 - loss: 0.5270 - val_accuracy: 0.9046 - val_loss: 0.6636 - learning_rate: 1.2500e-04\n"
     ]
    }
   ],
   "source": [
    "# Import necessary libraries\n",
    "from tensorflow.keras.applications import MobileNetV2\n",
    "from tensorflow.keras.models import Sequential\n",
    "from tensorflow.keras.layers import TimeDistributed, GlobalAveragePooling2D, LSTM, Dropout, Dense, BatchNormalization\n",
    "from tensorflow.keras.regularizers import l2\n",
    "from tensorflow.keras.callbacks import EarlyStopping, ReduceLROnPlateau\n",
    "from tensorflow.keras.utils import to_categorical\n",
    "import tensorflow as tf\n",
    "import numpy as np\n",
    "import gc\n",
    "\n",
    "# Clear memory before creating the new model\n",
    "gc.collect()\n",
    "tf.keras.backend.clear_session()\n",
    "print(\"Memory cleared before creating VGG19+LSTM model\")\n",
    "\n",
    "# Print TensorFlow version\n",
    "print(f\"TensorFlow version: {tf.__version__}\")\n",
    "\n",
    "# Pre-load VGG19 weights\n",
    "print(\"Pre-loading VGG19 weights...\")\n",
    "try:\n",
    "    base_model = MobileNetV2(weights='imagenet', include_top=False, input_shape=(IMAGE_HEIGHT, IMAGE_WIDTH, 3))\n",
    "    print(\"VGG19 weights loaded successfully!\")\n",
    "except Exception as e:\n",
    "    print(f\"Failed to load VGG19 weights: {str(e)}\")\n",
    "\n",
    "# Define function to create VGG19+LSTM model\n",
    "def create_model(sequence_length, image_height, image_width, classes_list=None, dropout_rate=0.5, base_model=None):\n",
    "    print(\"Creating VGG19+LSTM model with parameters:\")\n",
    "    print(f\"sequence_length: {sequence_length}, image_height: {image_height}, image_width: {image_width}, classes_list length: {len(classes_list) if classes_list is not None else None}, dropout_rate: {dropout_rate}\")\n",
    "    \n",
    "    if classes_list is None:\n",
    "        raise ValueError(\"classes_list must be provided to define the output layer size\")\n",
    "    if base_model is None:\n",
    "        raise ValueError(\"base_model must be provided to avoid re-downloading weights\")\n",
    "\n",
    "    try:\n",
    "        # Use the pre-loaded base model\n",
    "        # Freeze the base model for initial training\n",
    "        base_model.trainable = False\n",
    "\n",
    "        # Define the Sequential model\n",
    "        model = Sequential([\n",
    "            # TimeDistributed VGG19 model\n",
    "            TimeDistributed(\n",
    "                base_model,\n",
    "                input_shape=(sequence_length, image_height, image_width, 3),\n",
    "                name=\"time_distributed_vgg19\"\n",
    "            ),\n",
    "            # TimeDistributed GlobalAveragePooling2D\n",
    "            TimeDistributed(GlobalAveragePooling2D(), name=\"time_distributed_pooling\"),\n",
    "            # LSTM layer with 512 units\n",
    "            LSTM(512, activation=\"tanh\", return_sequences=False, kernel_regularizer=l2(0.01), name=\"lstm_vgg19\"),\n",
    "            BatchNormalization(name=\"batch_normalization_vgg19\"),\n",
    "            # Dropout after LSTM\n",
    "            Dropout(dropout_rate, name=\"dropout_lstm_vgg19\"),\n",
    "            # Dense layer with 512 units\n",
    "            Dense(512, activation=\"relu\", kernel_regularizer=l2(0.01), name=\"dense_vgg19_1\"),\n",
    "            # Dropout after first Dense\n",
    "            Dropout(dropout_rate, name=\"dropout_dense_vgg19_1\"),\n",
    "            # Dense layer with 128 units\n",
    "            Dense(128, activation=\"relu\", kernel_regularizer=l2(0.01), name=\"dense_vgg19_2\"),\n",
    "            # Dropout after second Dense\n",
    "            Dropout(dropout_rate, name=\"dropout_dense_vgg19_2\"),\n",
    "            # Output Dense layer with softmax activation\n",
    "            Dense(len(classes_list), activation=\"softmax\", name=\"output_vgg19\")\n",
    "        ])\n",
    "\n",
    "        # Print model summary\n",
    "        print(\"VGG19+LSTM model architecture created successfully!\")\n",
    "        model.summary()\n",
    "\n",
    "        return model\n",
    "\n",
    "    except Exception as e:\n",
    "        print(f\"Error creating VGG19+LSTM model: {str(e)}\")\n",
    "        import traceback\n",
    "        traceback.print_exc()\n",
    "        return None\n",
    "\n",
    "# Create the VGG19+LSTM model using the pre-loaded base model\n",
    "model = create_model(\n",
    "    sequence_length=SEQUENCE_LENGTH,\n",
    "    image_height=IMAGE_HEIGHT,\n",
    "    image_width=IMAGE_WIDTH,\n",
    "    classes_list=CLASSES_LIST,\n",
    "    dropout_rate=DROPOUT_RATE,\n",
    "    base_model=base_model\n",
    ")\n",
    "\n",
    "# Check if model was created successfully\n",
    "if model is None:\n",
    "    raise ValueError(\"Failed to create VGG19+LSTM model. Check error messages above.\")\n",
    "else:\n",
    "    print(\"VGG19+LSTM Model Created Successfully!\")\n",
    "\n",
    "# Plot the model structure\n",
    "from tensorflow.keras.utils import plot_model\n",
    "try:\n",
    "    plot_model(model, to_file=f'{MODEL_NAME}_model_Plot.png', show_shapes=True, show_layer_names=True)\n",
    "    print(f\"{MODEL_NAME}_VGG19_LSTM Model Plot saved successfully...\")\n",
    "except Exception as e:\n",
    "    print(f\"Failed to plot model: {str(e)}\")\n",
    "\n",
    "# Verify data shapes\n",
    "print(f\"train_gen.videos shape: {np.shape(train_gen.videos)}\")\n",
    "print(f\"train_gen.labels shape: {np.shape(train_gen.labels)}\")\n",
    "print(f\"val_gen.videos shape: {np.shape(val_gen.videos)}\")\n",
    "print(f\"val_gen.labels shape: {np.shape(val_gen.labels)}\")\n",
    "print(f\"features_test shape: {np.shape(features_test)}\")\n",
    "print(f\"labels_test shape: {np.shape(labels_test)}\")\n",
    "\n",
    "# Ensure labels_test is one-hot encoded\n",
    "if len(labels_test.shape) == 1:\n",
    "    print(\"Converting labels_test to one-hot encoded format...\")\n",
    "    labels_test = to_categorical(labels_test, num_classes=NO_OF_CLASSES)\n",
    "    print(f\"New labels_test shape: {labels_test.shape}\")\n",
    "\n",
    "# Verify generator batch shapes\n",
    "try:\n",
    "    videos, labels = train_gen[0]\n",
    "    print(f\"train_gen batch videos shape: {videos.shape}\")\n",
    "    print(f\"train_gen batch labels shape: {labels.shape}\")\n",
    "    videos, labels = val_gen[0]\n",
    "    print(f\"val_gen batch videos shape: {videos.shape}\")\n",
    "    print(f\"val_gen batch labels shape: {labels.shape}\")\n",
    "except Exception as e:\n",
    "    print(f\"Error accessing generator data: {str(e)}\")\n",
    "\n",
    "# Compile the model for initial training\n",
    "early_stopping_callback = EarlyStopping(monitor='val_loss', patience=7, mode='min', restore_best_weights=True)\n",
    "lr_scheduler = ReduceLROnPlateau(monitor='val_loss', factor=0.5, patience=3, min_lr=1e-6)\n",
    "\n",
    "model.compile(\n",
    "    loss='categorical_crossentropy',\n",
    "    optimizer=tf.keras.optimizers.Adam(learning_rate=0.001),  # Higher learning rate for initial training\n",
    "    metrics=['accuracy']\n",
    ")\n",
    "\n",
    "# Print dataset summary\n",
    "print(f\"Dataset - {DATASET_NAME}\")\n",
    "print(f\"There are total {len(ALL_CLASS_NAMES)} classes, selected {NO_OF_CLASSES} classes\")\n",
    "print(f\"Setting {MAX_VIDEO_PER_CLASS} videos/class to train the model.\")\n",
    "print(f\"Image size {IMAGE_HEIGHT}x{IMAGE_WIDTH} with {SEQUENCE_LENGTH} sequence length\")\n",
    "print(f\"Dropout rate: {DROPOUT_RATE}\")\n",
    "print(f\"Train-Test split ratio {int((1-TEST_SIZE)*100)}/{int(TEST_SIZE*100)}\")\n",
    "print(f\"Validation data from Train set {VALIDATION_SPLIT*100}%\")\n",
    "print(\"\\n\")\n",
    "\n",
    "# Initial training with frozen base model\n",
    "print(f\"Initial training started for VGG19+LSTM model with {len(train_gen.videos)} videos of {NO_OF_CLASSES} classes with {len(val_gen.videos)} videos for validation...\")\n",
    "try:\n",
    "    initial_model_history = model.fit(\n",
    "        train_gen.as_dataset(),\n",
    "        validation_data=val_gen.as_dataset(),\n",
    "        epochs=EPOCHS,\n",
    "        class_weight=class_weights,\n",
    "        callbacks=[early_stopping_callback, lr_scheduler]\n",
    "    )\n",
    "except Exception as e:\n",
    "    print(f\"Error during initial model training: {str(e)}\")\n",
    "    import traceback\n",
    "    traceback.print_exc()\n"
   ]
  },
  {
   "cell_type": "code",
   "execution_count": 42,
   "id": "86493083",
   "metadata": {
    "execution": {
     "iopub.execute_input": "2025-07-11T14:54:43.874742Z",
     "iopub.status.busy": "2025-07-11T14:54:43.874164Z",
     "iopub.status.idle": "2025-07-11T15:02:15.691449Z",
     "shell.execute_reply": "2025-07-11T15:02:15.690647Z"
    },
    "papermill": {
     "duration": 451.986967,
     "end_time": "2025-07-11T15:02:15.692674",
     "exception": false,
     "start_time": "2025-07-11T14:54:43.705707",
     "status": "completed"
    },
    "tags": []
   },
   "outputs": [
    {
     "name": "stdout",
     "output_type": "stream",
     "text": [
      "\n",
      "Fine-tuning started for VGG19+LSTM model with 2764 videos of 18 classes with 692 videos for validation...\n",
      "Epoch 1/30\n",
      "\u001b[1m116/116\u001b[0m \u001b[32m━━━━━━━━━━━━━━━━━━━━\u001b[0m\u001b[37m\u001b[0m \u001b[1m53s\u001b[0m 182ms/step - accuracy: 0.7976 - loss: 1.0787 - val_accuracy: 0.8598 - val_loss: 0.8358 - learning_rate: 1.0000e-04\n",
      "Epoch 2/30\n",
      "\u001b[1m116/116\u001b[0m \u001b[32m━━━━━━━━━━━━━━━━━━━━\u001b[0m\u001b[37m\u001b[0m \u001b[1m14s\u001b[0m 121ms/step - accuracy: 0.9270 - loss: 0.6450 - val_accuracy: 0.9032 - val_loss: 0.6704 - learning_rate: 1.0000e-04\n",
      "Epoch 3/30\n",
      "\u001b[1m116/116\u001b[0m \u001b[32m━━━━━━━━━━━━━━━━━━━━\u001b[0m\u001b[37m\u001b[0m \u001b[1m14s\u001b[0m 120ms/step - accuracy: 0.9614 - loss: 0.5601 - val_accuracy: 0.9220 - val_loss: 0.6235 - learning_rate: 1.0000e-04\n",
      "Epoch 4/30\n",
      "\u001b[1m116/116\u001b[0m \u001b[32m━━━━━━━━━━━━━━━━━━━━\u001b[0m\u001b[37m\u001b[0m \u001b[1m14s\u001b[0m 117ms/step - accuracy: 0.9739 - loss: 0.5092 - val_accuracy: 0.8960 - val_loss: 0.6733 - learning_rate: 1.0000e-04\n",
      "Epoch 5/30\n",
      "\u001b[1m116/116\u001b[0m \u001b[32m━━━━━━━━━━━━━━━━━━━━\u001b[0m\u001b[37m\u001b[0m \u001b[1m14s\u001b[0m 117ms/step - accuracy: 0.9812 - loss: 0.4758 - val_accuracy: 0.9191 - val_loss: 0.5968 - learning_rate: 1.0000e-04\n",
      "Epoch 6/30\n",
      "\u001b[1m116/116\u001b[0m \u001b[32m━━━━━━━━━━━━━━━━━━━━\u001b[0m\u001b[37m\u001b[0m \u001b[1m13s\u001b[0m 116ms/step - accuracy: 0.9909 - loss: 0.4423 - val_accuracy: 0.9061 - val_loss: 0.6303 - learning_rate: 1.0000e-04\n",
      "Epoch 7/30\n",
      "\u001b[1m116/116\u001b[0m \u001b[32m━━━━━━━━━━━━━━━━━━━━\u001b[0m\u001b[37m\u001b[0m \u001b[1m13s\u001b[0m 116ms/step - accuracy: 0.9838 - loss: 0.4330 - val_accuracy: 0.9104 - val_loss: 0.5991 - learning_rate: 1.0000e-04\n",
      "Epoch 8/30\n",
      "\u001b[1m116/116\u001b[0m \u001b[32m━━━━━━━━━━━━━━━━━━━━\u001b[0m\u001b[37m\u001b[0m \u001b[1m14s\u001b[0m 116ms/step - accuracy: 0.9941 - loss: 0.4028 - val_accuracy: 0.8945 - val_loss: 0.6423 - learning_rate: 1.0000e-04\n",
      "Epoch 9/30\n",
      "\u001b[1m116/116\u001b[0m \u001b[32m━━━━━━━━━━━━━━━━━━━━\u001b[0m\u001b[37m\u001b[0m \u001b[1m14s\u001b[0m 118ms/step - accuracy: 0.9838 - loss: 0.4028 - val_accuracy: 0.9133 - val_loss: 0.5556 - learning_rate: 5.0000e-05\n",
      "Epoch 10/30\n",
      "\u001b[1m116/116\u001b[0m \u001b[32m━━━━━━━━━━━━━━━━━━━━\u001b[0m\u001b[37m\u001b[0m \u001b[1m14s\u001b[0m 118ms/step - accuracy: 0.9965 - loss: 0.3706 - val_accuracy: 0.9205 - val_loss: 0.5296 - learning_rate: 5.0000e-05\n",
      "Epoch 11/30\n",
      "\u001b[1m116/116\u001b[0m \u001b[32m━━━━━━━━━━━━━━━━━━━━\u001b[0m\u001b[37m\u001b[0m \u001b[1m14s\u001b[0m 117ms/step - accuracy: 0.9978 - loss: 0.3630 - val_accuracy: 0.9205 - val_loss: 0.5231 - learning_rate: 5.0000e-05\n",
      "Epoch 12/30\n",
      "\u001b[1m116/116\u001b[0m \u001b[32m━━━━━━━━━━━━━━━━━━━━\u001b[0m\u001b[37m\u001b[0m \u001b[1m14s\u001b[0m 118ms/step - accuracy: 0.9941 - loss: 0.3505 - val_accuracy: 0.9162 - val_loss: 0.5215 - learning_rate: 5.0000e-05\n",
      "Epoch 13/30\n",
      "\u001b[1m116/116\u001b[0m \u001b[32m━━━━━━━━━━━━━━━━━━━━\u001b[0m\u001b[37m\u001b[0m \u001b[1m14s\u001b[0m 117ms/step - accuracy: 0.9977 - loss: 0.3369 - val_accuracy: 0.9205 - val_loss: 0.5137 - learning_rate: 5.0000e-05\n",
      "Epoch 14/30\n",
      "\u001b[1m116/116\u001b[0m \u001b[32m━━━━━━━━━━━━━━━━━━━━\u001b[0m\u001b[37m\u001b[0m \u001b[1m14s\u001b[0m 118ms/step - accuracy: 0.9975 - loss: 0.3269 - val_accuracy: 0.9350 - val_loss: 0.4729 - learning_rate: 5.0000e-05\n",
      "Epoch 15/30\n",
      "\u001b[1m116/116\u001b[0m \u001b[32m━━━━━━━━━━━━━━━━━━━━\u001b[0m\u001b[37m\u001b[0m \u001b[1m14s\u001b[0m 117ms/step - accuracy: 0.9977 - loss: 0.3179 - val_accuracy: 0.9249 - val_loss: 0.4818 - learning_rate: 5.0000e-05\n",
      "Epoch 16/30\n",
      "\u001b[1m116/116\u001b[0m \u001b[32m━━━━━━━━━━━━━━━━━━━━\u001b[0m\u001b[37m\u001b[0m \u001b[1m14s\u001b[0m 118ms/step - accuracy: 0.9985 - loss: 0.3079 - val_accuracy: 0.9249 - val_loss: 0.4687 - learning_rate: 5.0000e-05\n",
      "Epoch 17/30\n",
      "\u001b[1m116/116\u001b[0m \u001b[32m━━━━━━━━━━━━━━━━━━━━\u001b[0m\u001b[37m\u001b[0m \u001b[1m14s\u001b[0m 118ms/step - accuracy: 0.9971 - loss: 0.3032 - val_accuracy: 0.9321 - val_loss: 0.4550 - learning_rate: 5.0000e-05\n",
      "Epoch 18/30\n",
      "\u001b[1m116/116\u001b[0m \u001b[32m━━━━━━━━━━━━━━━━━━━━\u001b[0m\u001b[37m\u001b[0m \u001b[1m14s\u001b[0m 118ms/step - accuracy: 0.9992 - loss: 0.2930 - val_accuracy: 0.9393 - val_loss: 0.4347 - learning_rate: 5.0000e-05\n",
      "Epoch 19/30\n",
      "\u001b[1m116/116\u001b[0m \u001b[32m━━━━━━━━━━━━━━━━━━━━\u001b[0m\u001b[37m\u001b[0m \u001b[1m14s\u001b[0m 117ms/step - accuracy: 0.9963 - loss: 0.2865 - val_accuracy: 0.9306 - val_loss: 0.4321 - learning_rate: 5.0000e-05\n",
      "Epoch 20/30\n",
      "\u001b[1m116/116\u001b[0m \u001b[32m━━━━━━━━━━━━━━━━━━━━\u001b[0m\u001b[37m\u001b[0m \u001b[1m14s\u001b[0m 117ms/step - accuracy: 0.9941 - loss: 0.2791 - val_accuracy: 0.9306 - val_loss: 0.4388 - learning_rate: 5.0000e-05\n",
      "Epoch 21/30\n",
      "\u001b[1m116/116\u001b[0m \u001b[32m━━━━━━━━━━━━━━━━━━━━\u001b[0m\u001b[37m\u001b[0m \u001b[1m14s\u001b[0m 117ms/step - accuracy: 0.9958 - loss: 0.2802 - val_accuracy: 0.9277 - val_loss: 0.4331 - learning_rate: 5.0000e-05\n",
      "Epoch 22/30\n",
      "\u001b[1m116/116\u001b[0m \u001b[32m━━━━━━━━━━━━━━━━━━━━\u001b[0m\u001b[37m\u001b[0m \u001b[1m14s\u001b[0m 117ms/step - accuracy: 0.9968 - loss: 0.2715 - val_accuracy: 0.9263 - val_loss: 0.4190 - learning_rate: 5.0000e-05\n",
      "Epoch 23/30\n",
      "\u001b[1m116/116\u001b[0m \u001b[32m━━━━━━━━━━━━━━━━━━━━\u001b[0m\u001b[37m\u001b[0m \u001b[1m14s\u001b[0m 117ms/step - accuracy: 0.9972 - loss: 0.2679 - val_accuracy: 0.9133 - val_loss: 0.4520 - learning_rate: 5.0000e-05\n",
      "Epoch 24/30\n",
      "\u001b[1m116/116\u001b[0m \u001b[32m━━━━━━━━━━━━━━━━━━━━\u001b[0m\u001b[37m\u001b[0m \u001b[1m14s\u001b[0m 116ms/step - accuracy: 0.9913 - loss: 0.2806 - val_accuracy: 0.9263 - val_loss: 0.4316 - learning_rate: 5.0000e-05\n",
      "Epoch 25/30\n",
      "\u001b[1m116/116\u001b[0m \u001b[32m━━━━━━━━━━━━━━━━━━━━\u001b[0m\u001b[37m\u001b[0m \u001b[1m14s\u001b[0m 118ms/step - accuracy: 0.9893 - loss: 0.2815 - val_accuracy: 0.9306 - val_loss: 0.4116 - learning_rate: 5.0000e-05\n",
      "Epoch 26/30\n",
      "\u001b[1m116/116\u001b[0m \u001b[32m━━━━━━━━━━━━━━━━━━━━\u001b[0m\u001b[37m\u001b[0m \u001b[1m14s\u001b[0m 118ms/step - accuracy: 0.9972 - loss: 0.2653 - val_accuracy: 0.9277 - val_loss: 0.3977 - learning_rate: 5.0000e-05\n",
      "Epoch 27/30\n",
      "\u001b[1m116/116\u001b[0m \u001b[32m━━━━━━━━━━━━━━━━━━━━\u001b[0m\u001b[37m\u001b[0m \u001b[1m14s\u001b[0m 117ms/step - accuracy: 0.9956 - loss: 0.2536 - val_accuracy: 0.9321 - val_loss: 0.3904 - learning_rate: 5.0000e-05\n",
      "Epoch 28/30\n",
      "\u001b[1m116/116\u001b[0m \u001b[32m━━━━━━━━━━━━━━━━━━━━\u001b[0m\u001b[37m\u001b[0m \u001b[1m13s\u001b[0m 116ms/step - accuracy: 0.9982 - loss: 0.2441 - val_accuracy: 0.9292 - val_loss: 0.4030 - learning_rate: 5.0000e-05\n",
      "Epoch 29/30\n",
      "\u001b[1m116/116\u001b[0m \u001b[32m━━━━━━━━━━━━━━━━━━━━\u001b[0m\u001b[37m\u001b[0m \u001b[1m14s\u001b[0m 117ms/step - accuracy: 0.9998 - loss: 0.2405 - val_accuracy: 0.9350 - val_loss: 0.3804 - learning_rate: 5.0000e-05\n",
      "Epoch 30/30\n",
      "\u001b[1m116/116\u001b[0m \u001b[32m━━━━━━━━━━━━━━━━━━━━\u001b[0m\u001b[37m\u001b[0m \u001b[1m14s\u001b[0m 116ms/step - accuracy: 0.9979 - loss: 0.2341 - val_accuracy: 0.9249 - val_loss: 0.3951 - learning_rate: 5.0000e-05\n",
      "\n",
      "Evaluating VGG19+LSTM model on test set...\n",
      "Total 864 videos and 864 classes\n",
      "test_gen batch videos shape: (24, 5, 128, 128, 3)\n",
      "test_gen batch labels shape: (24, 18)\n",
      "\u001b[1m36/36\u001b[0m \u001b[32m━━━━━━━━━━━━━━━━━━━━\u001b[0m\u001b[37m\u001b[0m \u001b[1m3s\u001b[0m 76ms/step - accuracy: 0.9419 - loss: 0.3672\n",
      "VGG19+LSTM Test Loss: 0.3590\n",
      "VGG19+LSTM Test Accuracy: 95.25%\n"
     ]
    }
   ],
   "source": [
    "\n",
    "# Unfreeze some layers for fine-tuning\n",
    "base_model.trainable = True\n",
    "# Freeze all layers except the last 8 layers (consistent with previous VGG19 code)\n",
    "for layer in base_model.layers[:-8]:\n",
    "    layer.trainable = False\n",
    "\n",
    "# Recompile the model with a lower learning rate for fine-tuning\n",
    "model.compile(\n",
    "    loss='categorical_crossentropy',\n",
    "    optimizer=tf.keras.optimizers.Adam(learning_rate=0.0001),  # Lower learning rate for fine-tuning\n",
    "    metrics=['accuracy']\n",
    ")\n",
    "\n",
    "# Fine-tune the model\n",
    "print(f\"\\nFine-tuning started for VGG19+LSTM model with {len(train_gen.videos)} videos of {NO_OF_CLASSES} classes with {len(val_gen.videos)} videos for validation...\")\n",
    "try:\n",
    "    fine_tune_model_history = model.fit(\n",
    "        train_gen.as_dataset(),\n",
    "        validation_data=val_gen.as_dataset(),\n",
    "        epochs=EPOCHS,\n",
    "        class_weight=class_weights,\n",
    "        callbacks=[early_stopping_callback, lr_scheduler]\n",
    "    )\n",
    "except Exception as e:\n",
    "    print(f\"Error during fine-tuning: {str(e)}\")\n",
    "    import traceback\n",
    "    traceback.print_exc()\n",
    "\n",
    "# Evaluate the model on the test set\n",
    "print(\"\\nEvaluating VGG19+LSTM model on test set...\")\n",
    "test_gen = VideoDataGenerator(\n",
    "    videos=features_test,\n",
    "    labels=labels_test,\n",
    "    batch_size=BATCH_SIZE\n",
    ")\n",
    "try:\n",
    "    videos, labels = test_gen[0]\n",
    "    print(f\"test_gen batch videos shape: {videos.shape}\")\n",
    "    print(f\"test_gen batch labels shape: {labels.shape}\")\n",
    "    loss, accuracy = model.evaluate(test_gen.as_dataset())\n",
    "    print(f'VGG19+LSTM Test Loss: {loss:.4f}')\n",
    "    print(f'VGG19+LSTM Test Accuracy: {accuracy * 100:.2f}%')\n",
    "except Exception as e:\n",
    "    print(f\"Error during model evaluation: {str(e)}\")\n",
    "    import traceback\n",
    "    traceback.print_exc()\n"
   ]
  },
  {
   "cell_type": "code",
   "execution_count": 43,
   "id": "fdd1ceae",
   "metadata": {
    "execution": {
     "iopub.execute_input": "2025-07-11T15:02:16.332280Z",
     "iopub.status.busy": "2025-07-11T15:02:16.332016Z",
     "iopub.status.idle": "2025-07-11T15:02:27.825484Z",
     "shell.execute_reply": "2025-07-11T15:02:27.824708Z"
    },
    "papermill": {
     "duration": 11.820363,
     "end_time": "2025-07-11T15:02:27.827083",
     "exception": false,
     "start_time": "2025-07-11T15:02:16.006720",
     "status": "completed"
    },
    "tags": []
   },
   "outputs": [
    {
     "data": {
      "image/png": "[encoded data removed]",
      "text/plain": [
       "<Figure size 1200x500 with 2 Axes>"
      ]
     },
     "metadata": {},
     "output_type": "display_data"
    },
    {
     "name": "stdout",
     "output_type": "stream",
     "text": [
      "\u001b[1m36/36\u001b[0m \u001b[32m━━━━━━━━━━━━━━━━━━━━\u001b[0m\u001b[37m\u001b[0m \u001b[1m10s\u001b[0m 75ms/step\n",
      "True classes shape: (864,)\n",
      "Predicted classes shape: (864,)\n",
      "\n",
      "VGG19+LSTM Classification Report:\n",
      "                     precision    recall  f1-score   support\n",
      "\n",
      "          Catch Cap       1.00      1.00      1.00        54\n",
      "              Drink       0.90      0.97      0.93        59\n",
      "           Sit down       1.00      1.00      1.00        40\n",
      "          Draw Tick       0.89      0.87      0.88        47\n",
      "         Phone Call       1.00      1.00      1.00        49\n",
      "Horizontal arm wave       0.94      0.90      0.92        52\n",
      "          Hand Clap       0.96      0.94      0.95        53\n",
      "         High throw       0.87      0.92      0.89        50\n",
      "       Forward Kick       0.93      0.91      0.92        45\n",
      "           Stand up       1.00      1.00      1.00        34\n",
      "      Two hand wave       1.00      0.91      0.96        35\n",
      "         Toss Paper       0.91      0.98      0.94        42\n",
      "               Walk       1.00      1.00      1.00        57\n",
      "          Side Kick       0.96      0.95      0.95        56\n",
      "               Bend       1.00      1.00      1.00        42\n",
      "      Take Umbrella       1.00      1.00      1.00        55\n",
      "      High arm wave       0.90      0.96      0.93        49\n",
      "             Draw X       0.90      0.82      0.86        45\n",
      "\n",
      "           accuracy                           0.95       864\n",
      "          macro avg       0.95      0.95      0.95       864\n",
      "       weighted avg       0.95      0.95      0.95       864\n",
      "\n"
     ]
    },
    {
     "name": "stderr",
     "output_type": "stream",
     "text": [
      "/usr/local/lib/python3.11/dist-packages/keras/src/trainers/epoch_iterator.py:151: UserWarning: Your input ran out of data; interrupting training. Make sure that your dataset or generator can generate at least `steps_per_epoch * epochs` batches. You may need to use the `.repeat()` function when building your dataset.\n",
      "  self._interrupted_warning()\n"
     ]
    },
    {
     "data": {
      "image/png": "[encoded data removed]",
      "text/plain": [
       "<Figure size 800x600 with 2 Axes>"
      ]
     },
     "metadata": {},
     "output_type": "display_data"
    }
   ],
   "source": [
    "\n",
    "# Plot training history (combine initial and fine-tuning)\n",
    "import matplotlib.pyplot as plt\n",
    "\n",
    "try:\n",
    "    # Combine histories\n",
    "    history_accuracy = initial_model_history.history['accuracy'] + fine_tune_model_history.history['accuracy']\n",
    "    history_val_accuracy = initial_model_history.history['val_accuracy'] + fine_tune_model_history.history['val_accuracy']\n",
    "    history_loss = initial_model_history.history['loss'] + fine_tune_model_history.history['loss']\n",
    "    history_val_loss = initial_model_history.history['val_loss'] + fine_tune_model_history.history['val_loss']\n",
    "\n",
    "    plt.figure(figsize=(12, 5))\n",
    "\n",
    "    # Accuracy\n",
    "    plt.subplot(1, 2, 1)\n",
    "    plt.plot(history_accuracy, label='Train Accuracy')\n",
    "    plt.plot(history_val_accuracy, label='Validation Accuracy')\n",
    "    plt.axvline(x=len(initial_model_history.history['accuracy']), color='r', linestyle='--', label='Start Fine-Tuning')\n",
    "    plt.title('VGG19+LSTM Model Accuracy')\n",
    "    plt.xlabel('Epoch')\n",
    "    plt.ylabel('Accuracy')\n",
    "    plt.legend()\n",
    "\n",
    "    # Loss\n",
    "    plt.subplot(1, 2, 2)\n",
    "    plt.plot(history_loss, label='Train Loss')\n",
    "    plt.plot(history_val_loss, label='Validation Loss')\n",
    "    plt.axvline(x=len(initial_model_history.history['loss']), color='r', linestyle='--', label='Start Fine-Tuning')\n",
    "    plt.title('VGG19+LSTM Model Loss')\n",
    "    plt.xlabel('Epoch')\n",
    "    plt.ylabel('Loss')\n",
    "    plt.legend()\n",
    "\n",
    "    plt.tight_layout()\n",
    "    plt.show()\n",
    "except Exception as e:\n",
    "    print(f\"Error plotting training history: {str(e)}\")\n",
    "\n",
    "# Generate confusion matrix and classification report\n",
    "from sklearn.metrics import classification_report, confusion_matrix\n",
    "import seaborn as sns\n",
    "\n",
    "# Get predictions\n",
    "try:\n",
    "    predictions = model.predict(test_gen.as_dataset())\n",
    "    predicted_classes = np.argmax(predictions, axis=1)\n",
    "    true_classes = np.argmax(labels_test, axis=1)\n",
    "\n",
    "    # Verify shapes\n",
    "    print(f\"True classes shape: {true_classes.shape}\")\n",
    "    print(f\"Predicted classes shape: {predicted_classes.shape}\")\n",
    "    assert len(true_classes) == len(predicted_classes), \"Sample counts do not match!\"\n",
    "\n",
    "    # Generate classification report\n",
    "    print(\"\\nVGG19+LSTM Classification Report:\")\n",
    "    print(classification_report(true_classes, predicted_classes, target_names=CLASSES_LIST))\n",
    "\n",
    "    # Plot confusion matrix\n",
    "    cm = confusion_matrix(true_classes, predicted_classes)\n",
    "    plt.figure(figsize=(8, 6))\n",
    "    sns.heatmap(cm, annot=True, fmt='d', cmap='Blues', xticklabels=CLASSES_LIST, yticklabels=CLASSES_LIST)\n",
    "    plt.xlabel('Predicted')\n",
    "    plt.ylabel('True')\n",
    "    plt.title('VGG19+LSTM Confusion Matrix')\n",
    "    plt.show()\n",
    "except Exception as e:\n",
    "    print(f\"Error during prediction or plotting: {str(e)}\")\n",
    "    import traceback\n",
    "    traceback.print_exc()"
   ]
  },
  {
   "cell_type": "code",
   "execution_count": 44,
   "id": "aa654228",
   "metadata": {
    "execution": {
     "iopub.execute_input": "2025-07-11T15:02:28.528628Z",
     "iopub.status.busy": "2025-07-11T15:02:28.528054Z",
     "iopub.status.idle": "2025-07-11T15:02:33.747347Z",
     "shell.execute_reply": "2025-07-11T15:02:33.746798Z"
    },
    "papermill": {
     "duration": 5.586335,
     "end_time": "2025-07-11T15:02:33.748485",
     "exception": false,
     "start_time": "2025-07-11T15:02:28.162150",
     "status": "completed"
    },
    "tags": []
   },
   "outputs": [
    {
     "name": "stdout",
     "output_type": "stream",
     "text": [
      "\u001b[1m27/27\u001b[0m \u001b[32m━━━━━━━━━━━━━━━━━━━━\u001b[0m\u001b[37m\u001b[0m \u001b[1m3s\u001b[0m 93ms/step - accuracy: 0.9434 - loss: 0.3639\n"
     ]
    }
   ],
   "source": [
    "# previous code\n",
    "model_evaluation_history = model.evaluate(features_test, labels_test)"
   ]
  }
 ],
 "metadata": {
  "kaggle": {
   "accelerator": "nvidiaTeslaT4",
   "dataSources": [
    {
     "datasetId": 1357563,
     "sourceId": 2256095,
     "sourceType": "datasetVersion"
    },
    {
     "datasetId": 7763484,
     "sourceId": 12338519,
     "sourceType": "datasetVersion"
    },
    {
     "datasetId": 7801555,
     "sourceId": 12373067,
     "sourceType": "datasetVersion"
    },
    {
     "datasetId": 7801884,
     "sourceId": 12373562,
     "sourceType": "datasetVersion"
    }
   ],
   "dockerImageVersionId": 31090,
   "isGpuEnabled": true,
   "isInternetEnabled": true,
   "language": "python",
   "sourceType": "notebook"
  },
  "kernelspec": {
   "display_name": "Python 3",
   "language": "python",
   "name": "python3"
  },
  "language_info": {
   "codemirror_mode": {
    "name": "ipython",
    "version": 3
   },
   "file_extension": ".py",
   "mimetype": "text/x-python",
   "name": "python",
   "nbconvert_exporter": "python",
   "pygments_lexer": "ipython3",
   "version": "3.11.13"
  },
  "papermill": {
   "default_parameters": {},
   "duration": 1140.646077,
   "end_time": "2025-07-11T15:02:37.919622",
   "environment_variables": {},
   "exception": null,
   "input_path": "__notebook__.ipynb",
   "output_path": "__notebook__.ipynb",
   "parameters": {},
   "start_time": "2025-07-11T14:43:37.273545",
   "version": "2.6.0"
  }
 },
 "nbformat": 4,
 "nbformat_minor": 5
}
