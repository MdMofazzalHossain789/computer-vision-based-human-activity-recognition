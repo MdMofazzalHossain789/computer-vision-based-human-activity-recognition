{
 "cells": [
  {
   "cell_type": "markdown",
   "id": "f19f1e7a",
   "metadata": {
    "papermill": {
     "duration": 0.010237,
     "end_time": "2025-07-11T09:42:05.199210",
     "exception": false,
     "start_time": "2025-07-11T09:42:05.188973",
     "status": "completed"
    },
    "tags": []
   },
   "source": [
    "# Initialization\n",
    "## Import Libraries"
   ]
  },
  {
   "cell_type": "code",
   "execution_count": 1,
   "id": "6e9398be",
   "metadata": {
    "_cell_guid": "b1076dfc-b9ad-4769-8c92-a6c4dae69d19",
    "_uuid": "8f2839f25d086af736a60e9eeb907d3b93b6e0e5",
    "execution": {
     "iopub.execute_input": "2025-07-11T09:42:05.217316Z",
     "iopub.status.busy": "2025-07-11T09:42:05.216653Z",
     "iopub.status.idle": "2025-07-11T09:42:29.118862Z",
     "shell.execute_reply": "2025-07-11T09:42:29.118060Z"
    },
    "papermill": {
     "duration": 23.912316,
     "end_time": "2025-07-11T09:42:29.120367",
     "exception": false,
     "start_time": "2025-07-11T09:42:05.208051",
     "status": "completed"
    },
    "tags": []
   },
   "outputs": [
    {
     "name": "stderr",
     "output_type": "stream",
     "text": [
      "2025-07-11 09:42:08.596701: E external/local_xla/xla/stream_executor/cuda/cuda_fft.cc:477] Unable to register cuFFT factory: Attempting to register factory for plugin cuFFT when one has already been registered\n",
      "WARNING: All log messages before absl::InitializeLog() is called are written to STDERR\n",
      "E0000 00:00:1752226928.971095      19 cuda_dnn.cc:8310] Unable to register cuDNN factory: Attempting to register factory for plugin cuDNN when one has already been registered\n",
      "E0000 00:00:1752226929.078876      19 cuda_blas.cc:1418] Unable to register cuBLAS factory: Attempting to register factory for plugin cuBLAS when one has already been registered\n"
     ]
    }
   ],
   "source": [
    "# install librarires\n",
    "import os\n",
    "import tensorflow as tf\n",
    "import numpy as np\n",
    "import random"
   ]
  },
  {
   "cell_type": "markdown",
   "id": "35efdc51",
   "metadata": {
    "papermill": {
     "duration": 0.008541,
     "end_time": "2025-07-11T09:42:29.139116",
     "exception": false,
     "start_time": "2025-07-11T09:42:29.130575",
     "status": "completed"
    },
    "tags": []
   },
   "source": [
    "## ℹ️ Set Global Constants"
   ]
  },
  {
   "cell_type": "code",
   "execution_count": 2,
   "id": "a98e3464",
   "metadata": {
    "execution": {
     "iopub.execute_input": "2025-07-11T09:42:29.156960Z",
     "iopub.status.busy": "2025-07-11T09:42:29.156434Z",
     "iopub.status.idle": "2025-07-11T09:42:29.168951Z",
     "shell.execute_reply": "2025-07-11T09:42:29.168204Z"
    },
    "papermill": {
     "duration": 0.022809,
     "end_time": "2025-07-11T09:42:29.170175",
     "exception": false,
     "start_time": "2025-07-11T09:42:29.147366",
     "status": "completed"
    },
    "tags": []
   },
   "outputs": [
    {
     "name": "stdout",
     "output_type": "stream",
     "text": [
      "Msrdailyactivity3D Rgb Videos Only\n",
      "There are total 16 classes, selected 16 classes\n",
      "Setting 20/class to train the model.\n",
      "Image size 128x128 with 5 sequence length\n",
      "Dropout rate: 0.5\n",
      "Train-Test split ratio 80/20\n",
      "Validation data from Train set 20.0%\n"
     ]
    }
   ],
   "source": [
    "# global variables\n",
    "# set dataset directories\n",
    "\n",
    "\n",
    "DATASET_DIR = \"/kaggle/input/msrdailyactivity3d-rgb-videos-only\"\n",
    "DATASET_NAME = DATASET_DIR.split(\"/\")[-1].replace(\"-\", \" \").title()\n",
    "\n",
    "print(DATASET_NAME)\n",
    "\n",
    "ALL_CLASS_NAMES = os.listdir(DATASET_DIR)\n",
    "\n",
    "# Global constant variables -> \n",
    "NO_OF_CLASSES = 16\n",
    "CLASSES_LIST = ALL_CLASS_NAMES[:NO_OF_CLASSES]\n",
    "\n",
    "# Model Configuration\n",
    "IMAGE_HEIGHT, IMAGE_WIDTH = 128, 128\n",
    "SEQUENCE_LENGTH = 5\n",
    "\n",
    "# set drop out rate\n",
    "DROPOUT_RATE = 0.5\n",
    "\n",
    "# set datas\n",
    "MAX_VIDEO_PER_CLASS = 20\n",
    "\n",
    "# split dataset\n",
    "TEST_SIZE = 0.20\n",
    "\n",
    "# model fit parameters\n",
    "EPOCHS = 30\n",
    "BATCH_SIZE = 24\n",
    "VALIDATION_SPLIT = 0.20\n",
    "\n",
    "# augmentation values\n",
    "NOISE_FACTOR = 0.02\n",
    "SHEAR_X= 1\n",
    "SHEAR_Y= 1\n",
    "\n",
    "# give a name of the model to save\n",
    "MODEL_NAME = \"Xception\"\n",
    "\n",
    "print(f\"There are total {len(ALL_CLASS_NAMES)} classes, selected {NO_OF_CLASSES} classes\")\n",
    "print(f\"Setting {MAX_VIDEO_PER_CLASS}/class to train the model.\")\n",
    "print(f\"Image size {IMAGE_HEIGHT}x{IMAGE_WIDTH} with {SEQUENCE_LENGTH} sequence length\")\n",
    "print(f\"Dropout rate: {DROPOUT_RATE}\")\n",
    "print(f\"Train-Test split ratio {int((1-TEST_SIZE)*100)}/{int(TEST_SIZE*100)}\")\n",
    "print(f\"Validation data from Train set {VALIDATION_SPLIT*100}%\")"
   ]
  },
  {
   "cell_type": "markdown",
   "id": "c4adf593",
   "metadata": {
    "papermill": {
     "duration": 0.008051,
     "end_time": "2025-07-11T09:42:29.186605",
     "exception": false,
     "start_time": "2025-07-11T09:42:29.178554",
     "status": "completed"
    },
    "tags": []
   },
   "source": [
    "## Set `Seed` Values"
   ]
  },
  {
   "cell_type": "code",
   "execution_count": 3,
   "id": "43122688",
   "metadata": {
    "execution": {
     "iopub.execute_input": "2025-07-11T09:42:29.209201Z",
     "iopub.status.busy": "2025-07-11T09:42:29.208903Z",
     "iopub.status.idle": "2025-07-11T09:42:29.213269Z",
     "shell.execute_reply": "2025-07-11T09:42:29.212632Z"
    },
    "papermill": {
     "duration": 0.019643,
     "end_time": "2025-07-11T09:42:29.214471",
     "exception": false,
     "start_time": "2025-07-11T09:42:29.194828",
     "status": "completed"
    },
    "tags": []
   },
   "outputs": [],
   "source": [
    "# set seeed to get similar values\n",
    "seed_constant = 27\n",
    "np.random.seed(seed_constant)\n",
    "random.seed(seed_constant)\n",
    "tf.random.set_seed(seed_constant)"
   ]
  },
  {
   "cell_type": "markdown",
   "id": "e105bc8d",
   "metadata": {
    "papermill": {
     "duration": 0.010078,
     "end_time": "2025-07-11T09:42:29.239465",
     "exception": false,
     "start_time": "2025-07-11T09:42:29.229387",
     "status": "completed"
    },
    "tags": []
   },
   "source": [
    "# 📌 Function Definition\n",
    "## Resize and Frame Extraction"
   ]
  },
  {
   "cell_type": "code",
   "execution_count": 4,
   "id": "14d0c245",
   "metadata": {
    "execution": {
     "iopub.execute_input": "2025-07-11T09:42:29.257431Z",
     "iopub.status.busy": "2025-07-11T09:42:29.257214Z",
     "iopub.status.idle": "2025-07-11T09:42:29.266065Z",
     "shell.execute_reply": "2025-07-11T09:42:29.265396Z"
    },
    "papermill": {
     "duration": 0.019105,
     "end_time": "2025-07-11T09:42:29.267195",
     "exception": false,
     "start_time": "2025-07-11T09:42:29.248090",
     "status": "completed"
    },
    "tags": []
   },
   "outputs": [],
   "source": [
    "import cv2\n",
    "from concurrent.futures import ThreadPoolExecutor\n",
    "\n",
    "def resize_and_normalize_frame(frame, image_height, image_width):\n",
    "    try:\n",
    "        resized_frame = cv2.resize(frame, (image_width, image_height), interpolation=cv2.INTER_LINEAR)\n",
    "        normalized_frame = resized_frame / 255.0\n",
    "        return normalized_frame\n",
    "    except Exception as e:\n",
    "        print(f\"Error processing frame: {e}\")\n",
    "        return None\n",
    "\n",
    "def frames_extraction(video_path, \n",
    "                      sequence_length=SEQUENCE_LENGTH, \n",
    "                      image_height=IMAGE_HEIGHT, \n",
    "                      image_width=IMAGE_WIDTH):\n",
    "    # Declare a list to store video frames\n",
    "    frames_list = []\n",
    "\n",
    "    # Check if video file exists\n",
    "    if not os.path.exists(video_path):\n",
    "        print(f\"Error: Video file not found at {video_path}\")\n",
    "        return None\n",
    "\n",
    "    # Read the video file using VideoCapture with optimized settings\n",
    "    video_reader = cv2.VideoCapture(video_path, cv2.CAP_FFMPEG)\n",
    "\n",
    "    # Check if the video was opened successfully\n",
    "    if not video_reader.isOpened():\n",
    "        print(f\"Error: Could not open video file {video_path}\")\n",
    "        video_reader.release()\n",
    "        return None\n",
    "\n",
    "    # Get the total number of frames in the video\n",
    "    video_frames_count = int(video_reader.get(cv2.CAP_PROP_FRAME_COUNT))\n",
    "\n",
    "    # Ensure the video has enough frames\n",
    "    if video_frames_count < sequence_length:\n",
    "        print(f\"Warning: Video {video_path} has only {video_frames_count} frames, less than required {sequence_length}\")\n",
    "        video_reader.release()\n",
    "        return None\n",
    "\n",
    "    # Calculate the interval after which frames will be sampled\n",
    "    skip_frames_window = max(int(video_frames_count / sequence_length), 1)\n",
    "\n",
    "    # Pre-allocate frame indices to extract\n",
    "    frame_indices = [i * skip_frames_window for i in range(sequence_length)]\n",
    "\n",
    "    # Read and process frames in parallel\n",
    "    frames = []\n",
    "    for idx in frame_indices:\n",
    "        video_reader.set(cv2.CAP_PROP_POS_FRAMES, idx)\n",
    "        success, frame = video_reader.read()\n",
    "        if not success or frame is None:\n",
    "            print(f\"Warning: Failed to read frame at index {idx} from {video_path}\")\n",
    "            break\n",
    "        frame = cv2.cvtColor(frame, cv2.COLOR_BGR2RGB)\n",
    "        frames.append(frame)\n",
    "\n",
    "    # Release the VideoCapture object early\n",
    "    video_reader.release()\n",
    "\n",
    "    # Ensure the correct number of frames is read\n",
    "    if len(frames) != sequence_length:\n",
    "        print(f\"Warning: Read {len(frames)} frames instead of {sequence_length} from {video_path}\")\n",
    "        return None\n",
    "\n",
    "    # Process frames in parallel using ThreadPoolExecutor\n",
    "    with ThreadPoolExecutor() as executor:\n",
    "        processed_frames = list(executor.map(\n",
    "            lambda f: resize_and_normalize_frame(f, image_height, image_width), \n",
    "            frames\n",
    "        ))\n",
    "\n",
    "    # Check for any failed frame processing\n",
    "    if any(f is None for f in processed_frames):\n",
    "        print(f\"Warning: Some frames failed to process in {video_path}\")\n",
    "        return None\n",
    "\n",
    "    # Convert to NumPy array\n",
    "    frames_array = np.array(processed_frames, dtype=np.float32)\n",
    "\n",
    "    return frames_array"
   ]
  },
  {
   "cell_type": "code",
   "execution_count": 5,
   "id": "b67280f8",
   "metadata": {
    "execution": {
     "iopub.execute_input": "2025-07-11T09:42:29.284511Z",
     "iopub.status.busy": "2025-07-11T09:42:29.284060Z",
     "iopub.status.idle": "2025-07-11T09:42:29.287887Z",
     "shell.execute_reply": "2025-07-11T09:42:29.287199Z"
    },
    "papermill": {
     "duration": 0.013605,
     "end_time": "2025-07-11T09:42:29.288928",
     "exception": false,
     "start_time": "2025-07-11T09:42:29.275323",
     "status": "completed"
    },
    "tags": []
   },
   "outputs": [],
   "source": [
    " # # Iterate through all video files\n",
    " #        for file_name in files_list:\n",
    " #            video_file_path = os.path.join(class_path, file_name)\n",
    "\n",
    " #            # Extract frames using the updated frames_extraction function\n",
    " #            frames = frames_extraction(video_file_path, sequence_length, image_height, image_width)\n",
    "\n",
    " #            # Skip videos where frame extraction failed\n",
    " #            if frames is None:\n",
    " #                print(f\"Skipping video {video_file_path} due to frame extraction failure\")\n",
    " #                continue\n",
    "\n",
    " #            # Append the data to respective lists\n",
    " #            features.append(frames)\n",
    " #            labels.append(class_index)"
   ]
  },
  {
   "cell_type": "markdown",
   "id": "001dd815",
   "metadata": {
    "papermill": {
     "duration": 0.007968,
     "end_time": "2025-07-11T09:42:29.305035",
     "exception": false,
     "start_time": "2025-07-11T09:42:29.297067",
     "status": "completed"
    },
    "tags": []
   },
   "source": [
    "## Create Dataset"
   ]
  },
  {
   "cell_type": "code",
   "execution_count": 6,
   "id": "a3ba6609",
   "metadata": {
    "execution": {
     "iopub.execute_input": "2025-07-11T09:42:29.323620Z",
     "iopub.status.busy": "2025-07-11T09:42:29.323371Z",
     "iopub.status.idle": "2025-07-11T09:42:29.332275Z",
     "shell.execute_reply": "2025-07-11T09:42:29.331579Z"
    },
    "papermill": {
     "duration": 0.019227,
     "end_time": "2025-07-11T09:42:29.333343",
     "exception": false,
     "start_time": "2025-07-11T09:42:29.314116",
     "status": "completed"
    },
    "tags": []
   },
   "outputs": [],
   "source": [
    "# RUN create dataset function definition\n",
    "def create_dataset(dataset_dir,\n",
    "                   classes_list, \n",
    "                   sequence_length=SEQUENCE_LENGTH, \n",
    "                   image_height=IMAGE_HEIGHT, \n",
    "                   image_width=IMAGE_WIDTH, \n",
    "                   max_videos_per_class=None,\n",
    "                   augmentations=False\n",
    "                  ):\n",
    "    \n",
    "    # Initialize lists to store features, labels, and video file paths\n",
    "    videos = []\n",
    "    labels = []\n",
    "\n",
    "    # Check if dataset directory exists\n",
    "    if not os.path.exists(dataset_dir):\n",
    "        raise FileNotFoundError(f\"Dataset directory not found: {dataset_dir}\")\n",
    "\n",
    "    # Iterate through all classes in the classes list\n",
    "    for class_index, class_name in enumerate(classes_list):\n",
    "        class_path = os.path.join(dataset_dir, class_name)\n",
    "        \n",
    "        # Check if class directory exists\n",
    "        if not os.path.exists(class_path):\n",
    "            print(f\"Warning: Class directory not found: {class_path}\")\n",
    "            continue\n",
    "\n",
    "        print(f'Extracting Data of Class: {class_name}')\n",
    "\n",
    "        # Get the list of video files in the class directory\n",
    "        files_list = os.listdir(class_path)\n",
    "\n",
    "        # Limit the number of videos if specified\n",
    "        if max_videos_per_class is not None:\n",
    "            files_list = files_list[:max_videos_per_class]\n",
    "\n",
    "        # Iterate through all video files\n",
    "        for file_name in files_list:\n",
    "            video_file_path = os.path.join(class_path, file_name)\n",
    "\n",
    "            # Extract frames using the updated frames_extraction function\n",
    "            frames = frames_extraction(video_file_path, \n",
    "                                       sequence_length, \n",
    "                                       image_height, \n",
    "                                       image_width)\n",
    "\n",
    "            # Skip videos where frame extraction failed\n",
    "            if frames is None:\n",
    "                print(f\"Skipping video {video_file_path} due to frame extraction failure\")\n",
    "                continue\n",
    "\n",
    "            # Append the data to respective lists\n",
    "            videos.append(frames)\n",
    "            labels.append(class_index)\n",
    "\n",
    "    # Convert lists to numpy arrays\n",
    "    if not videos:\n",
    "        raise ValueError(\"No valid videos were processed. Check dataset or parameters.\")\n",
    "    videos = np.asarray(videos)\n",
    "    labels = np.array(labels)\n",
    "\n",
    "    print(f\"Dataset created with {len(videos)} videos\")\n",
    "    print(f\"Features shape: {videos.shape}\")\n",
    "    print(f\"Labels shape: {labels.shape}\")\n",
    "\n",
    "    return videos, labels"
   ]
  },
  {
   "cell_type": "markdown",
   "id": "9cf415e3",
   "metadata": {
    "papermill": {
     "duration": 0.007982,
     "end_time": "2025-07-11T09:42:29.349514",
     "exception": false,
     "start_time": "2025-07-11T09:42:29.341532",
     "status": "completed"
    },
    "tags": []
   },
   "source": [
    "## 🪄 Video Data Generator"
   ]
  },
  {
   "cell_type": "code",
   "execution_count": 7,
   "id": "c21b340d",
   "metadata": {
    "execution": {
     "iopub.execute_input": "2025-07-11T09:42:29.373288Z",
     "iopub.status.busy": "2025-07-11T09:42:29.372879Z",
     "iopub.status.idle": "2025-07-11T09:42:29.470342Z",
     "shell.execute_reply": "2025-07-11T09:42:29.469605Z"
    },
    "papermill": {
     "duration": 0.108985,
     "end_time": "2025-07-11T09:42:29.471938",
     "exception": false,
     "start_time": "2025-07-11T09:42:29.362953",
     "status": "completed"
    },
    "tags": []
   },
   "outputs": [],
   "source": [
    "from tensorflow.keras.utils import Sequence, to_categorical\n",
    "import tensorflow as tf\n",
    "import numpy as np\n",
    "import cv2\n",
    "\n",
    "\n",
    "\n",
    "\n",
    "class VideoDataGenerator(Sequence):\n",
    "    def __init__(self, videos, labels, batch_size, is_training=False):\n",
    "        self.videos = list(videos)  # List of video file paths\n",
    "        self.labels = list(labels)  # List or array of labels encoded\n",
    "        self.batch_size = batch_size\n",
    "        self.indices = np.arange(len(self.videos))  # For shuffling\n",
    "        self.is_training = is_training  # Flag to control whether augmentation is applied\n",
    "        self.temp_videos=[]\n",
    "        self.temp_labels=[]\n",
    "        \n",
    "        \n",
    "        print(f\"Total {len(videos)} videos and {len(labels)} classes\")\n",
    "\n",
    "    def __len__(self):\n",
    "        # Return the number of batches per epoch\n",
    "        return int(np.ceil(len(self.videos) / self.batch_size))\n",
    "\n",
    "    def __getitem__(self, idx):\n",
    "        # Get batch indices\n",
    "        batch_indices = self.indices[idx * self.batch_size:(idx + 1) * self.batch_size]\n",
    "        \n",
    "        # Handle case where batch_indices is empty\n",
    "        if len(batch_indices) == 0:\n",
    "            return np.array([], dtype=np.float32), np.array([], dtype=np.float32)\n",
    "        \n",
    "        # Initialize lists to store frames and labels\n",
    "        all_frames = []\n",
    "        all_labels = []\n",
    "        \n",
    "        # Process each video in the batch\n",
    "        for i, index in enumerate(batch_indices):\n",
    "            sequence = self.videos[index]\n",
    "            label = self.labels[index]\n",
    "            \n",
    "            # Load and process video\n",
    "            # sequence = frames_extraction(video_path)\n",
    "\n",
    "            # if sequence is not None:\n",
    "            #     # Apply augmentations: 1 original + 4 augmentations (horizontal flip, shear, rotation, noise)\n",
    "            #     augmented_sequences = [sequence]  # Add original sequence\n",
    "\n",
    "            #     if self.is_training:\n",
    "            #         # Apply augmentations\n",
    "            #         augmented_sequences.append(np.array(horizontal_flip(sequence)))  # Horizontal Flip\n",
    "            #         augmented_sequences.append(np.array(apply_shear_frames(sequence, shear_right=0)))  # Random Shear\n",
    "            #         augmented_sequences.append(np.array(apply_shear_frames(sequence, shear_right=1)))  # Random Rotation\n",
    "            #         augmented_sequences.append(np.array(noise_video(sequence)))  # Salt and Pepper Noise\n",
    "\n",
    "            #     # Add augmented sequences to the batch\n",
    "            #     all_frames.extend(augmented_sequences)\n",
    "            #     all_labels.extend([label] * len(augmented_sequences))  # Each augmentation has the same label\n",
    "\n",
    "            \n",
    "            # Append the sequence and label\n",
    "            all_frames.append(sequence)\n",
    "            all_labels.append(label)\n",
    "        \n",
    "        # Convert to numpy arrays\n",
    "        all_frames = np.array(all_frames, dtype=np.float32)\n",
    "        all_labels = np.array(all_labels)\n",
    "            \n",
    "        \n",
    "        return all_frames, all_labels\n",
    "    def add(self, new_videos, new_labels):\n",
    "        self.temp_videos.extend(new_videos)\n",
    "        self.temp_labels.extend(new_labels)\n",
    "    \n",
    "    def confirm(self):\n",
    "        print(f\"Adding {len(self.temp_videos)} videos with {len(self.temp_labels)} classes.\")\n",
    "        self.videos.extend(self.temp_videos)\n",
    "        self.labels.extend(self.temp_labels)\n",
    "        print(f\"Successfully added - {len(self.temp_videos)} videos and {len(self.temp_labels)} classes.\")\n",
    "        self.temp_videos=[]\n",
    "        self.temp_labels=[]\n",
    "        self.indices = np.arange(len(self.videos))\n",
    "        print(f\"Now Total - {len(self.videos)} videos and {len(self.labels)} classes.\")\n",
    "        print(f\"PENDING for Augmentations - {len(self.temp_videos)} videos and {len(self.temp_labels)} classes.\")\n",
    "    \n",
    "    def on_epoch_end(self):\n",
    "        # Shuffle indices at the end of each epoch\n",
    "        np.random.shuffle(self.indices)\n",
    "\n",
    "    def as_dataset(self):\n",
    "        def generator():\n",
    "            for idx in range(len(self)):\n",
    "                frames, labels = self[idx]\n",
    "                # Skip empty batches\n",
    "                if frames.size == 0:\n",
    "                    continue\n",
    "                yield frames, labels\n",
    "        self.labels=np.array(self.labels)\n",
    "    \n",
    "        # Create a tf.data.Dataset\n",
    "        dataset = tf.data.Dataset.from_generator(\n",
    "            generator,\n",
    "            output_types=(tf.float32, tf.float32),\n",
    "            output_shapes=(\n",
    "                (None, SEQUENCE_LENGTH, IMAGE_HEIGHT, IMAGE_WIDTH, 3),\n",
    "                (None, NO_OF_CLASSES)\n",
    "            )\n",
    "        )\n",
    "        dataset = dataset.prefetch(tf.data.AUTOTUNE)\n",
    "        return dataset"
   ]
  },
  {
   "cell_type": "markdown",
   "id": "fe470921",
   "metadata": {
    "papermill": {
     "duration": 0.008695,
     "end_time": "2025-07-11T09:42:29.494943",
     "exception": false,
     "start_time": "2025-07-11T09:42:29.486248",
     "status": "completed"
    },
    "tags": []
   },
   "source": [
    "## Debug and Helpers"
   ]
  },
  {
   "cell_type": "markdown",
   "id": "39b8d1bc",
   "metadata": {
    "papermill": {
     "duration": 0.058878,
     "end_time": "2025-07-11T09:42:29.563305",
     "exception": false,
     "start_time": "2025-07-11T09:42:29.504427",
     "status": "completed"
    },
    "tags": []
   },
   "source": [
    "## 💫 Augmentation Helper function"
   ]
  },
  {
   "cell_type": "code",
   "execution_count": 8,
   "id": "c8006cc2",
   "metadata": {
    "execution": {
     "iopub.execute_input": "2025-07-11T09:42:29.581216Z",
     "iopub.status.busy": "2025-07-11T09:42:29.580439Z",
     "iopub.status.idle": "2025-07-11T09:42:29.586924Z",
     "shell.execute_reply": "2025-07-11T09:42:29.586162Z"
    },
    "papermill": {
     "duration": 0.016738,
     "end_time": "2025-07-11T09:42:29.588202",
     "exception": false,
     "start_time": "2025-07-11T09:42:29.571464",
     "status": "completed"
    },
    "tags": []
   },
   "outputs": [],
   "source": [
    "import time\n",
    "\n",
    "    \n",
    "\n",
    "def apply_augmentation(augmentation_function, generator, confirm=False, *args, **kwargs):\n",
    "    \n",
    "    for i in range(len(generator)):\n",
    "        batch_videos, batch_labels = generator[i]\n",
    "        augmented_videos=[]\n",
    "        for videos in batch_videos:\n",
    "            augmented_videos.append(augmentation_function(videos, *args, **kwargs))\n",
    "        generator.add(augmented_videos, batch_labels)\n",
    "        print(f\"Processing video {len(generator.temp_videos)}...\", end=\"\\r\", flush=True)\n",
    "        time.sleep(0.5)  # simulate work\n",
    "    if confirm:\n",
    "        generator.confirm()"
   ]
  },
  {
   "cell_type": "markdown",
   "id": "d1cf813a",
   "metadata": {
    "papermill": {
     "duration": 0.008363,
     "end_time": "2025-07-11T09:42:29.610337",
     "exception": false,
     "start_time": "2025-07-11T09:42:29.601974",
     "status": "completed"
    },
    "tags": []
   },
   "source": [
    "### Show Frames"
   ]
  },
  {
   "cell_type": "code",
   "execution_count": 9,
   "id": "6cffe0d2",
   "metadata": {
    "execution": {
     "iopub.execute_input": "2025-07-11T09:42:29.627984Z",
     "iopub.status.busy": "2025-07-11T09:42:29.627428Z",
     "iopub.status.idle": "2025-07-11T09:42:29.631930Z",
     "shell.execute_reply": "2025-07-11T09:42:29.631254Z"
    },
    "papermill": {
     "duration": 0.014806,
     "end_time": "2025-07-11T09:42:29.633156",
     "exception": false,
     "start_time": "2025-07-11T09:42:29.618350",
     "status": "completed"
    },
    "tags": []
   },
   "outputs": [],
   "source": [
    "# show frame def\n",
    "import matplotlib.pyplot as plt\n",
    "\n",
    "def show_frame(frame):\n",
    "    plt.figure(figsize=(3,3))\n",
    "    plt.imshow(frame)\n",
    "    plt.axis(\"off\")\n",
    "    plt.tight_layout()"
   ]
  },
  {
   "cell_type": "markdown",
   "id": "1658ea5b",
   "metadata": {
    "papermill": {
     "duration": 0.008439,
     "end_time": "2025-07-11T09:42:29.649805",
     "exception": false,
     "start_time": "2025-07-11T09:42:29.641366",
     "status": "completed"
    },
    "tags": []
   },
   "source": [
    "### Helper Function"
   ]
  },
  {
   "cell_type": "code",
   "execution_count": 10,
   "id": "87a6f51a",
   "metadata": {
    "execution": {
     "iopub.execute_input": "2025-07-11T09:42:29.667419Z",
     "iopub.status.busy": "2025-07-11T09:42:29.667142Z",
     "iopub.status.idle": "2025-07-11T09:42:29.672647Z",
     "shell.execute_reply": "2025-07-11T09:42:29.671985Z"
    },
    "papermill": {
     "duration": 0.01595,
     "end_time": "2025-07-11T09:42:29.673925",
     "exception": false,
     "start_time": "2025-07-11T09:42:29.657975",
     "status": "completed"
    },
    "tags": []
   },
   "outputs": [],
   "source": [
    "def show_frame_vs(frame1, frame2, title1=\"Frame 1\", title2=\"Frame 2\"):\n",
    "    plt.figure(figsize=(10, 5))\n",
    "\n",
    "    # First frame\n",
    "    plt.subplot(1, 2, 1)\n",
    "    plt.imshow(frame1)\n",
    "    plt.title(title1)\n",
    "    plt.axis('off')\n",
    "\n",
    "    # Second frame\n",
    "    plt.subplot(1, 2, 2)\n",
    "    plt.imshow(frame2)\n",
    "    plt.title(title2)\n",
    "    plt.axis('off')\n",
    "\n",
    "    plt.tight_layout()\n",
    "    plt.show()"
   ]
  },
  {
   "cell_type": "code",
   "execution_count": 11,
   "id": "166b2574",
   "metadata": {
    "execution": {
     "iopub.execute_input": "2025-07-11T09:42:29.696338Z",
     "iopub.status.busy": "2025-07-11T09:42:29.695847Z",
     "iopub.status.idle": "2025-07-11T09:42:29.700267Z",
     "shell.execute_reply": "2025-07-11T09:42:29.699636Z"
    },
    "papermill": {
     "duration": 0.014715,
     "end_time": "2025-07-11T09:42:29.701453",
     "exception": false,
     "start_time": "2025-07-11T09:42:29.686738",
     "status": "completed"
    },
    "tags": []
   },
   "outputs": [],
   "source": [
    "# reusable video loop helper function\n",
    "def apply_function(function, videos, *arg, **kwargs):\n",
    "    new_videos=[]\n",
    "    \n",
    "    for video in videos:\n",
    "        new_videos.append(function(video, *arg, **kwargs))\n",
    "        \n",
    "    return new_videos"
   ]
  },
  {
   "cell_type": "code",
   "execution_count": 12,
   "id": "2e4a3624",
   "metadata": {
    "execution": {
     "iopub.execute_input": "2025-07-11T09:42:29.718859Z",
     "iopub.status.busy": "2025-07-11T09:42:29.718641Z",
     "iopub.status.idle": "2025-07-11T09:42:29.722935Z",
     "shell.execute_reply": "2025-07-11T09:42:29.722248Z"
    },
    "papermill": {
     "duration": 0.014365,
     "end_time": "2025-07-11T09:42:29.724145",
     "exception": false,
     "start_time": "2025-07-11T09:42:29.709780",
     "status": "completed"
    },
    "tags": []
   },
   "outputs": [],
   "source": [
    "# reusable video loop helper function\n",
    "def apply(function, videos, labels, *arg, **kwargs):\n",
    "    new_videos=[]\n",
    "    new_labels=[]\n",
    "    combined=zip(labels, videos)\n",
    "    \n",
    "    for label, video in combined:\n",
    "        new_videos.append(function(video, *arg, **kwargs))\n",
    "        new_labels.append(label)\n",
    "        \n",
    "    new_videos=np.asarray(new_videos)\n",
    "    new_labels=np.asarray(new_labels)\n",
    "    \n",
    "    return new_videos, new_labels"
   ]
  },
  {
   "cell_type": "markdown",
   "id": "b422b218",
   "metadata": {
    "papermill": {
     "duration": 0.008515,
     "end_time": "2025-07-11T09:42:29.741279",
     "exception": false,
     "start_time": "2025-07-11T09:42:29.732764",
     "status": "completed"
    },
    "tags": []
   },
   "source": [
    "## Salt and Pepper Noise "
   ]
  },
  {
   "cell_type": "code",
   "execution_count": 13,
   "id": "da9b4169",
   "metadata": {
    "execution": {
     "iopub.execute_input": "2025-07-11T09:42:29.758947Z",
     "iopub.status.busy": "2025-07-11T09:42:29.758670Z",
     "iopub.status.idle": "2025-07-11T09:42:29.764424Z",
     "shell.execute_reply": "2025-07-11T09:42:29.763784Z"
    },
    "papermill": {
     "duration": 0.015661,
     "end_time": "2025-07-11T09:42:29.765492",
     "exception": false,
     "start_time": "2025-07-11T09:42:29.749831",
     "status": "completed"
    },
    "tags": []
   },
   "outputs": [],
   "source": [
    "# Noise function def\n",
    "\n",
    "def noise_video(video,noise_factor=NOISE_FACTOR):\n",
    "    noisy_video=[]\n",
    "    for frame in video:\n",
    "        # Generate random noise\n",
    "        noise = np.random.rand(*frame.shape)  # Generate random noise\n",
    "        salt_pepper_noise = np.random.choice([0, 1], size=frame.shape, p=[1-noise_factor, noise_factor])\n",
    "        noisy_frame = frame * (1 - salt_pepper_noise) + salt_pepper_noise * np.random.rand(*frame.shape)\n",
    "        noisy_video.append(noisy_frame)\n",
    "    return np.array(noisy_video)"
   ]
  },
  {
   "cell_type": "markdown",
   "id": "eaec8393",
   "metadata": {
    "papermill": {
     "duration": 0.008054,
     "end_time": "2025-07-11T09:42:29.781722",
     "exception": false,
     "start_time": "2025-07-11T09:42:29.773668",
     "status": "completed"
    },
    "tags": []
   },
   "source": [
    "## Horizontal Flip"
   ]
  },
  {
   "cell_type": "code",
   "execution_count": 14,
   "id": "d28d3ade",
   "metadata": {
    "execution": {
     "iopub.execute_input": "2025-07-11T09:42:29.799639Z",
     "iopub.status.busy": "2025-07-11T09:42:29.799144Z",
     "iopub.status.idle": "2025-07-11T09:42:29.803013Z",
     "shell.execute_reply": "2025-07-11T09:42:29.802395Z"
    },
    "papermill": {
     "duration": 0.013725,
     "end_time": "2025-07-11T09:42:29.804124",
     "exception": false,
     "start_time": "2025-07-11T09:42:29.790399",
     "status": "completed"
    },
    "tags": []
   },
   "outputs": [],
   "source": [
    "# horizontal flip function def\n",
    "# Testing Flip feautes[0] -> first video\n",
    "def horizontal_flip(video):\n",
    "    return [tf.image.flip_left_right(frame) for frame in video]"
   ]
  },
  {
   "cell_type": "markdown",
   "id": "896695ef",
   "metadata": {
    "papermill": {
     "duration": 0.007955,
     "end_time": "2025-07-11T09:42:29.820169",
     "exception": false,
     "start_time": "2025-07-11T09:42:29.812214",
     "status": "completed"
    },
    "tags": []
   },
   "source": [
    "## Random Shear"
   ]
  },
  {
   "cell_type": "code",
   "execution_count": 15,
   "id": "1e2ec459",
   "metadata": {
    "execution": {
     "iopub.execute_input": "2025-07-11T09:42:29.837831Z",
     "iopub.status.busy": "2025-07-11T09:42:29.837095Z",
     "iopub.status.idle": "2025-07-11T09:42:29.845137Z",
     "shell.execute_reply": "2025-07-11T09:42:29.844497Z"
    },
    "papermill": {
     "duration": 0.017778,
     "end_time": "2025-07-11T09:42:29.846210",
     "exception": false,
     "start_time": "2025-07-11T09:42:29.828432",
     "status": "completed"
    },
    "tags": []
   },
   "outputs": [],
   "source": [
    "# random shear function def\n",
    "import numpy as np\n",
    "import tensorflow as tf\n",
    "from scipy.ndimage import affine_transform\n",
    "\n",
    "def apply_shear_frames(frames, shear_right):\n",
    "    return [apply_shear(frame, shear_right) for frame in frames]\n",
    "\n",
    "def apply_shear(frame, shear_right=0):\n",
    "    frame_resized = tf.image.resize(frame, (IMAGE_HEIGHT, IMAGE_WIDTH)).numpy()\n",
    "    if shear_right:\n",
    "        shear_x = 0.09\n",
    "        shear_y = 0.1\n",
    "    else:\n",
    "        shear_x = -0.09\n",
    "        shear_y = 0.3\n",
    "    # Construct the affine matrix for scipy: inverse of the transformation matrix\n",
    "    # scipy applies the inverse transform matrix\n",
    "    shear_matrix = np.array([\n",
    "        [1, shear_x, 0],\n",
    "        [shear_y, 1, 0],\n",
    "        [0, 0, 1]\n",
    "    ], dtype=np.float32)\n",
    "\n",
    "    # Extract 2x2 part for affine_transform\n",
    "    matrix = shear_matrix[:2, :2]\n",
    "\n",
    "    # Offset (no translation)\n",
    "    offset = [0, 0]\n",
    "\n",
    "    # Apply affine transform on each channel separately\n",
    "    sheared = np.zeros_like(frame_resized)\n",
    "    for c in range(3):\n",
    "        sheared[..., c] = affine_transform(\n",
    "            frame_resized[..., c],\n",
    "            matrix=matrix,\n",
    "            offset=offset,\n",
    "            order=1,          # bilinear interpolation\n",
    "            mode='nearest'    # fill_mode\n",
    "        )\n",
    "    return sheared"
   ]
  },
  {
   "cell_type": "markdown",
   "id": "af9ca002",
   "metadata": {
    "papermill": {
     "duration": 0.008163,
     "end_time": "2025-07-11T09:42:29.862386",
     "exception": false,
     "start_time": "2025-07-11T09:42:29.854223",
     "status": "completed"
    },
    "tags": []
   },
   "source": [
    "# 📌 Model Related\n",
    "## 🗼 Model Architecture `create_model`"
   ]
  },
  {
   "cell_type": "markdown",
   "id": "a22be04e",
   "metadata": {
    "papermill": {
     "duration": 0.00927,
     "end_time": "2025-07-11T09:42:29.879807",
     "exception": false,
     "start_time": "2025-07-11T09:42:29.870537",
     "status": "completed"
    },
    "tags": []
   },
   "source": [
    "# 📌 Execution\n",
    "## Creating Dataset\n",
    "The following functions are executed\n",
    "- `frame extraction`\n",
    "- `resize`\n",
    "\n",
    "which returns:\n",
    "- `features` - `np.array` of all the videos\n",
    "- `labels` - `np.array` of all the class labels"
   ]
  },
  {
   "cell_type": "code",
   "execution_count": 16,
   "id": "55ed7c0f",
   "metadata": {
    "execution": {
     "iopub.execute_input": "2025-07-11T09:42:29.897274Z",
     "iopub.status.busy": "2025-07-11T09:42:29.897010Z",
     "iopub.status.idle": "2025-07-11T09:43:07.835137Z",
     "shell.execute_reply": "2025-07-11T09:43:07.834423Z"
    },
    "papermill": {
     "duration": 37.948299,
     "end_time": "2025-07-11T09:43:07.836382",
     "exception": false,
     "start_time": "2025-07-11T09:42:29.888083",
     "status": "completed"
    },
    "tags": []
   },
   "outputs": [
    {
     "name": "stdout",
     "output_type": "stream",
     "text": [
      "Extracting Data of Class: write on a paper\n",
      "Extracting Data of Class: use laptop\n",
      "Extracting Data of Class: read book\n",
      "Extracting Data of Class: sit still\n",
      "Extracting Data of Class: drink\n",
      "Extracting Data of Class: sit down\n",
      "Extracting Data of Class: use vacuum cleaner\n",
      "Extracting Data of Class: eat\n",
      "Extracting Data of Class: play guitar\n",
      "Extracting Data of Class: lie down on sofa\n",
      "Extracting Data of Class: stand up\n",
      "Extracting Data of Class: toss paper\n",
      "Extracting Data of Class: walk\n",
      "Extracting Data of Class: play game\n",
      "Extracting Data of Class: cheer up\n",
      "Extracting Data of Class: call cellphone\n",
      "Dataset created with 320 videos\n",
      "Features shape: (320, 5, 128, 128, 3)\n",
      "Labels shape: (320,)\n"
     ]
    },
    {
     "data": {
      "text/plain": [
       "((320, 5, 128, 128, 3), (320,))"
      ]
     },
     "execution_count": 16,
     "metadata": {},
     "output_type": "execute_result"
    }
   ],
   "source": [
    "# RUN Create the dataset with explicit parameters\n",
    "try:\n",
    "    videos, labels = create_dataset(\n",
    "        dataset_dir=DATASET_DIR,\n",
    "        classes_list=CLASSES_LIST,\n",
    "        sequence_length=SEQUENCE_LENGTH,\n",
    "        image_height=IMAGE_HEIGHT,\n",
    "        image_width=IMAGE_WIDTH,\n",
    "        # Limit to 10 videos per class to manage memory\n",
    "        augmentations=True,\n",
    "        max_videos_per_class=MAX_VIDEO_PER_CLASS\n",
    "    )\n",
    "except FileNotFoundError as e:\n",
    "    print(f\"Error: {e}\")\n",
    "except ValueError as e:\n",
    "    print(f\"Error: {e}\")\n",
    "except Exception as e:\n",
    "    print(f\"Unexpected error: {e}\")\n",
    "\n",
    "videos.shape, labels.shape"
   ]
  },
  {
   "cell_type": "code",
   "execution_count": 17,
   "id": "e58518f3",
   "metadata": {
    "execution": {
     "iopub.execute_input": "2025-07-11T09:43:07.856194Z",
     "iopub.status.busy": "2025-07-11T09:43:07.855984Z",
     "iopub.status.idle": "2025-07-11T09:43:07.860005Z",
     "shell.execute_reply": "2025-07-11T09:43:07.859233Z"
    },
    "papermill": {
     "duration": 0.014852,
     "end_time": "2025-07-11T09:43:07.861187",
     "exception": false,
     "start_time": "2025-07-11T09:43:07.846335",
     "status": "completed"
    },
    "tags": []
   },
   "outputs": [
    {
     "name": "stdout",
     "output_type": "stream",
     "text": [
      "Total 320 videos and 320 classes\n"
     ]
    }
   ],
   "source": [
    "video_generator = VideoDataGenerator(\n",
    "    videos=videos,\n",
    "    labels=labels,\n",
    "    batch_size=BATCH_SIZE\n",
    ")"
   ]
  },
  {
   "cell_type": "code",
   "execution_count": 18,
   "id": "71d379e2",
   "metadata": {
    "execution": {
     "iopub.execute_input": "2025-07-11T09:43:07.879619Z",
     "iopub.status.busy": "2025-07-11T09:43:07.879409Z",
     "iopub.status.idle": "2025-07-11T09:43:07.890823Z",
     "shell.execute_reply": "2025-07-11T09:43:07.890113Z"
    },
    "papermill": {
     "duration": 0.021782,
     "end_time": "2025-07-11T09:43:07.891917",
     "exception": false,
     "start_time": "2025-07-11T09:43:07.870135",
     "status": "completed"
    },
    "tags": []
   },
   "outputs": [
    {
     "data": {
      "text/plain": [
       "((24, 5, 128, 128, 3), (24,))"
      ]
     },
     "execution_count": 18,
     "metadata": {},
     "output_type": "execute_result"
    }
   ],
   "source": [
    "videos, labels = video_generator[3]\n",
    "\n",
    "videos.shape, labels.shape"
   ]
  },
  {
   "cell_type": "code",
   "execution_count": 19,
   "id": "9f5964a2",
   "metadata": {
    "execution": {
     "iopub.execute_input": "2025-07-11T09:43:07.918476Z",
     "iopub.status.busy": "2025-07-11T09:43:07.918163Z",
     "iopub.status.idle": "2025-07-11T09:43:07.923291Z",
     "shell.execute_reply": "2025-07-11T09:43:07.922637Z"
    },
    "papermill": {
     "duration": 0.021739,
     "end_time": "2025-07-11T09:43:07.924312",
     "exception": false,
     "start_time": "2025-07-11T09:43:07.902573",
     "status": "completed"
    },
    "tags": []
   },
   "outputs": [
    {
     "data": {
      "text/plain": [
       "320"
      ]
     },
     "execution_count": 19,
     "metadata": {},
     "output_type": "execute_result"
    }
   ],
   "source": [
    "len(video_generator.videos) "
   ]
  },
  {
   "cell_type": "code",
   "execution_count": 20,
   "id": "85c937b5",
   "metadata": {
    "execution": {
     "iopub.execute_input": "2025-07-11T09:43:07.954284Z",
     "iopub.status.busy": "2025-07-11T09:43:07.953964Z",
     "iopub.status.idle": "2025-07-11T09:43:07.958767Z",
     "shell.execute_reply": "2025-07-11T09:43:07.958245Z"
    },
    "papermill": {
     "duration": 0.020754,
     "end_time": "2025-07-11T09:43:07.959737",
     "exception": false,
     "start_time": "2025-07-11T09:43:07.938983",
     "status": "completed"
    },
    "tags": []
   },
   "outputs": [
    {
     "data": {
      "text/plain": [
       "14"
      ]
     },
     "execution_count": 20,
     "metadata": {},
     "output_type": "execute_result"
    }
   ],
   "source": [
    "len(video_generator)"
   ]
  },
  {
   "cell_type": "markdown",
   "id": "b8d06f21",
   "metadata": {
    "papermill": {
     "duration": 0.011144,
     "end_time": "2025-07-11T09:43:07.987528",
     "exception": false,
     "start_time": "2025-07-11T09:43:07.976384",
     "status": "completed"
    },
    "tags": []
   },
   "source": [
    "## Apply ***horizontal flip*** (Augmentation)"
   ]
  },
  {
   "cell_type": "code",
   "execution_count": 21,
   "id": "abbf21c4",
   "metadata": {
    "execution": {
     "iopub.execute_input": "2025-07-11T09:43:08.007292Z",
     "iopub.status.busy": "2025-07-11T09:43:08.006707Z",
     "iopub.status.idle": "2025-07-11T09:43:17.972801Z",
     "shell.execute_reply": "2025-07-11T09:43:17.971979Z"
    },
    "papermill": {
     "duration": 9.977722,
     "end_time": "2025-07-11T09:43:17.974657",
     "exception": false,
     "start_time": "2025-07-11T09:43:07.996935",
     "status": "completed"
    },
    "tags": []
   },
   "outputs": [
    {
     "name": "stdout",
     "output_type": "stream",
     "text": [
      "Processing video 24...\r"
     ]
    },
    {
     "name": "stderr",
     "output_type": "stream",
     "text": [
      "I0000 00:00:1752226989.898978      19 gpu_device.cc:2022] Created device /job:localhost/replica:0/task:0/device:GPU:0 with 13942 MB memory:  -> device: 0, name: Tesla T4, pci bus id: 0000:00:04.0, compute capability: 7.5\n",
      "I0000 00:00:1752226989.899670      19 gpu_device.cc:2022] Created device /job:localhost/replica:0/task:0/device:GPU:1 with 13942 MB memory:  -> device: 1, name: Tesla T4, pci bus id: 0000:00:05.0, compute capability: 7.5\n"
     ]
    },
    {
     "name": "stdout",
     "output_type": "stream",
     "text": [
      "Processing video 320...\r"
     ]
    }
   ],
   "source": [
    "apply_augmentation(horizontal_flip, video_generator)"
   ]
  },
  {
   "cell_type": "code",
   "execution_count": 22,
   "id": "1ac39971",
   "metadata": {
    "execution": {
     "iopub.execute_input": "2025-07-11T09:43:17.997682Z",
     "iopub.status.busy": "2025-07-11T09:43:17.997443Z",
     "iopub.status.idle": "2025-07-11T09:43:18.001670Z",
     "shell.execute_reply": "2025-07-11T09:43:18.001005Z"
    },
    "papermill": {
     "duration": 0.016239,
     "end_time": "2025-07-11T09:43:18.002866",
     "exception": false,
     "start_time": "2025-07-11T09:43:17.986627",
     "status": "completed"
    },
    "tags": []
   },
   "outputs": [
    {
     "name": "stdout",
     "output_type": "stream",
     "text": [
      "Checking Total Videos and Class Count: 320, 320\n",
      "PENDING Total Videos and Class Count: 320, 320\n"
     ]
    }
   ],
   "source": [
    "print(f\"Checking Total Videos and Class Count: {len(video_generator.videos)}, {len(video_generator.labels)}\")\n",
    "print(f\"PENDING Total Videos and Class Count: {len(video_generator.temp_videos)}, {len(video_generator.temp_labels)}\")"
   ]
  },
  {
   "cell_type": "code",
   "execution_count": 23,
   "id": "fa592eb7",
   "metadata": {
    "execution": {
     "iopub.execute_input": "2025-07-11T09:43:18.025053Z",
     "iopub.status.busy": "2025-07-11T09:43:18.024369Z",
     "iopub.status.idle": "2025-07-11T09:43:18.028187Z",
     "shell.execute_reply": "2025-07-11T09:43:18.027597Z"
    },
    "papermill": {
     "duration": 0.015783,
     "end_time": "2025-07-11T09:43:18.029187",
     "exception": false,
     "start_time": "2025-07-11T09:43:18.013404",
     "status": "completed"
    },
    "tags": []
   },
   "outputs": [
    {
     "name": "stdout",
     "output_type": "stream",
     "text": [
      "Adding 320 videos with 320 classes.\n",
      "Successfully added - 320 videos and 320 classes.\n",
      "Now Total - 640 videos and 640 classes.\n",
      "PENDING for Augmentations - 0 videos and 0 classes.\n"
     ]
    }
   ],
   "source": [
    "video_generator.confirm()"
   ]
  },
  {
   "cell_type": "markdown",
   "id": "5631b609",
   "metadata": {
    "papermill": {
     "duration": 0.009685,
     "end_time": "2025-07-11T09:43:18.048450",
     "exception": false,
     "start_time": "2025-07-11T09:43:18.038765",
     "status": "completed"
    },
    "tags": []
   },
   "source": [
    "## Apply ***Noise*** (Augmentation)"
   ]
  },
  {
   "cell_type": "code",
   "execution_count": 24,
   "id": "236d30b6",
   "metadata": {
    "execution": {
     "iopub.execute_input": "2025-07-11T09:43:18.068717Z",
     "iopub.status.busy": "2025-07-11T09:43:18.068541Z",
     "iopub.status.idle": "2025-07-11T09:43:39.334962Z",
     "shell.execute_reply": "2025-07-11T09:43:39.334157Z"
    },
    "papermill": {
     "duration": 21.278429,
     "end_time": "2025-07-11T09:43:39.336469",
     "exception": false,
     "start_time": "2025-07-11T09:43:18.058040",
     "status": "completed"
    },
    "tags": []
   },
   "outputs": [
    {
     "name": "stdout",
     "output_type": "stream",
     "text": [
      "Processing video 640...\r"
     ]
    }
   ],
   "source": [
    "apply_augmentation(noise_video, video_generator)"
   ]
  },
  {
   "cell_type": "code",
   "execution_count": 25,
   "id": "65bf048a",
   "metadata": {
    "execution": {
     "iopub.execute_input": "2025-07-11T09:43:39.360386Z",
     "iopub.status.busy": "2025-07-11T09:43:39.360184Z",
     "iopub.status.idle": "2025-07-11T09:43:39.364023Z",
     "shell.execute_reply": "2025-07-11T09:43:39.363445Z"
    },
    "papermill": {
     "duration": 0.016444,
     "end_time": "2025-07-11T09:43:39.365168",
     "exception": false,
     "start_time": "2025-07-11T09:43:39.348724",
     "status": "completed"
    },
    "tags": []
   },
   "outputs": [
    {
     "name": "stdout",
     "output_type": "stream",
     "text": [
      "Checking Total Videos and Class Count: 640, 640\n",
      "PENDING Total Videos and Class Count: 640, 640\n"
     ]
    }
   ],
   "source": [
    "print(f\"Checking Total Videos and Class Count: {len(video_generator.videos)}, {len(video_generator.labels)}\")\n",
    "print(f\"PENDING Total Videos and Class Count: {len(video_generator.temp_videos)}, {len(video_generator.temp_labels)}\")"
   ]
  },
  {
   "cell_type": "markdown",
   "id": "db12e589",
   "metadata": {
    "papermill": {
     "duration": 0.011164,
     "end_time": "2025-07-11T09:43:39.387114",
     "exception": false,
     "start_time": "2025-07-11T09:43:39.375950",
     "status": "completed"
    },
    "tags": []
   },
   "source": [
    "## Apply ***Random Shear x2*** (Augmentation)"
   ]
  },
  {
   "cell_type": "code",
   "execution_count": 26,
   "id": "63fa396e",
   "metadata": {
    "execution": {
     "iopub.execute_input": "2025-07-11T09:43:39.409648Z",
     "iopub.status.busy": "2025-07-11T09:43:39.409448Z",
     "iopub.status.idle": "2025-07-11T09:44:31.287589Z",
     "shell.execute_reply": "2025-07-11T09:44:31.286991Z"
    },
    "papermill": {
     "duration": 51.890751,
     "end_time": "2025-07-11T09:44:31.288923",
     "exception": false,
     "start_time": "2025-07-11T09:43:39.398172",
     "status": "completed"
    },
    "tags": []
   },
   "outputs": [
    {
     "name": "stdout",
     "output_type": "stream",
     "text": [
      "Processing video 1920...\r"
     ]
    }
   ],
   "source": [
    "apply_augmentation(apply_shear_frames, video_generator, shear_right=0)\n",
    "apply_augmentation(apply_shear_frames, video_generator, shear_right=1)"
   ]
  },
  {
   "cell_type": "code",
   "execution_count": 27,
   "id": "e9bf8f1f",
   "metadata": {
    "execution": {
     "iopub.execute_input": "2025-07-11T09:44:31.316719Z",
     "iopub.status.busy": "2025-07-11T09:44:31.316479Z",
     "iopub.status.idle": "2025-07-11T09:44:31.320716Z",
     "shell.execute_reply": "2025-07-11T09:44:31.319941Z"
    },
    "papermill": {
     "duration": 0.01913,
     "end_time": "2025-07-11T09:44:31.321807",
     "exception": false,
     "start_time": "2025-07-11T09:44:31.302677",
     "status": "completed"
    },
    "tags": []
   },
   "outputs": [
    {
     "name": "stdout",
     "output_type": "stream",
     "text": [
      "Checking Total Videos and Class Count: 640, 640\n",
      "PENDING Total Videos and Class Count: 1920, 1920\n"
     ]
    }
   ],
   "source": [
    "print(f\"Checking Total Videos and Class Count: {len(video_generator.videos)}, {len(video_generator.labels)}\")\n",
    "print(f\"PENDING Total Videos and Class Count: {len(video_generator.temp_videos)}, {len(video_generator.temp_labels)}\")"
   ]
  },
  {
   "cell_type": "code",
   "execution_count": 28,
   "id": "f64b2119",
   "metadata": {
    "execution": {
     "iopub.execute_input": "2025-07-11T09:44:31.348526Z",
     "iopub.status.busy": "2025-07-11T09:44:31.348344Z",
     "iopub.status.idle": "2025-07-11T09:44:31.352271Z",
     "shell.execute_reply": "2025-07-11T09:44:31.351522Z"
    },
    "papermill": {
     "duration": 0.018528,
     "end_time": "2025-07-11T09:44:31.353464",
     "exception": false,
     "start_time": "2025-07-11T09:44:31.334936",
     "status": "completed"
    },
    "tags": []
   },
   "outputs": [
    {
     "name": "stdout",
     "output_type": "stream",
     "text": [
      "Adding 1920 videos with 1920 classes.\n",
      "Successfully added - 1920 videos and 1920 classes.\n",
      "Now Total - 2560 videos and 2560 classes.\n",
      "PENDING for Augmentations - 0 videos and 0 classes.\n"
     ]
    }
   ],
   "source": [
    "# confirm changes to generator\n",
    "video_generator.confirm()"
   ]
  },
  {
   "cell_type": "code",
   "execution_count": 29,
   "id": "5993e577",
   "metadata": {
    "execution": {
     "iopub.execute_input": "2025-07-11T09:44:31.380386Z",
     "iopub.status.busy": "2025-07-11T09:44:31.380169Z",
     "iopub.status.idle": "2025-07-11T09:44:31.383737Z",
     "shell.execute_reply": "2025-07-11T09:44:31.383096Z"
    },
    "papermill": {
     "duration": 0.01796,
     "end_time": "2025-07-11T09:44:31.384734",
     "exception": false,
     "start_time": "2025-07-11T09:44:31.366774",
     "status": "completed"
    },
    "tags": []
   },
   "outputs": [
    {
     "name": "stdout",
     "output_type": "stream",
     "text": [
      "Checking Video Generator Total Videos and Class Count: 2560, 2560\n"
     ]
    }
   ],
   "source": [
    "print(f\"Checking Video Generator Total Videos and Class Count: {len(video_generator.videos)}, {len(video_generator.labels)}\")"
   ]
  },
  {
   "cell_type": "markdown",
   "id": "2e8bb23d",
   "metadata": {
    "papermill": {
     "duration": 0.012727,
     "end_time": "2025-07-11T09:44:31.410352",
     "exception": false,
     "start_time": "2025-07-11T09:44:31.397625",
     "status": "completed"
    },
    "tags": []
   },
   "source": [
    "## Cheking (Output)"
   ]
  },
  {
   "cell_type": "code",
   "execution_count": 30,
   "id": "f86488f6",
   "metadata": {
    "execution": {
     "iopub.execute_input": "2025-07-11T09:44:31.437454Z",
     "iopub.status.busy": "2025-07-11T09:44:31.436823Z",
     "iopub.status.idle": "2025-07-11T09:44:31.837036Z",
     "shell.execute_reply": "2025-07-11T09:44:31.836253Z"
    },
    "papermill": {
     "duration": 0.416185,
     "end_time": "2025-07-11T09:44:31.839653",
     "exception": false,
     "start_time": "2025-07-11T09:44:31.423468",
     "status": "completed"
    },
    "tags": []
   },
   "outputs": [
    {
     "name": "stdout",
     "output_type": "stream",
     "text": [
      "(24, 5, 128, 128, 3) (24,)\n"
     ]
    },
    {
     "data": {
      "image/png": "[encoded data removed]",
      "text/plain": [
       "<Figure size 1000x500 with 2 Axes>"
      ]
     },
     "metadata": {},
     "output_type": "display_data"
    },
    {
     "name": "stdout",
     "output_type": "stream",
     "text": [
      "Might be two different action, but to check the flipping focus on the door behind.\n"
     ]
    }
   ],
   "source": [
    "# check horizontal flips\n",
    "videos, labels = video_generator[7]\n",
    "videos1, labels1 = video_generator[1]\n",
    "\n",
    "print(videos.shape, labels.shape)\n",
    "\n",
    "show_frame_vs(videos[0,0],videos1[1,0], title1=\"Flipped Frame 1\", title2=\"Non Flipped Frame 1\")\n",
    "print(\"Might be two different action, but to check the flipping focus on the door behind.\")"
   ]
  },
  {
   "cell_type": "markdown",
   "id": "8daa9471",
   "metadata": {
    "papermill": {
     "duration": 0.016053,
     "end_time": "2025-07-11T09:44:31.872912",
     "exception": false,
     "start_time": "2025-07-11T09:44:31.856859",
     "status": "completed"
    },
    "tags": []
   },
   "source": [
    "# 📌 Preparing Data for Training"
   ]
  },
  {
   "cell_type": "code",
   "execution_count": 31,
   "id": "646680ed",
   "metadata": {
    "execution": {
     "iopub.execute_input": "2025-07-11T09:44:31.905287Z",
     "iopub.status.busy": "2025-07-11T09:44:31.905037Z",
     "iopub.status.idle": "2025-07-11T09:44:32.346418Z",
     "shell.execute_reply": "2025-07-11T09:44:32.345802Z"
    },
    "papermill": {
     "duration": 0.458815,
     "end_time": "2025-07-11T09:44:32.347644",
     "exception": false,
     "start_time": "2025-07-11T09:44:31.888829",
     "status": "completed"
    },
    "tags": []
   },
   "outputs": [],
   "source": [
    "# Clear previous session to free memory\n",
    "import gc\n",
    "\n",
    "gc.collect()\n",
    "tf.keras.backend.clear_session()"
   ]
  },
  {
   "cell_type": "markdown",
   "id": "18df3195",
   "metadata": {
    "papermill": {
     "duration": 0.015483,
     "end_time": "2025-07-11T09:44:32.380073",
     "exception": false,
     "start_time": "2025-07-11T09:44:32.364590",
     "status": "completed"
    },
    "tags": []
   },
   "source": [
    "## Splitting data for ***Trainig*** and ***Testing***"
   ]
  },
  {
   "cell_type": "code",
   "execution_count": 32,
   "id": "aaff20a5",
   "metadata": {
    "execution": {
     "iopub.execute_input": "2025-07-11T09:44:32.411968Z",
     "iopub.status.busy": "2025-07-11T09:44:32.411690Z",
     "iopub.status.idle": "2025-07-11T09:44:33.242402Z",
     "shell.execute_reply": "2025-07-11T09:44:33.241712Z"
    },
    "papermill": {
     "duration": 0.847987,
     "end_time": "2025-07-11T09:44:33.243501",
     "exception": false,
     "start_time": "2025-07-11T09:44:32.395514",
     "status": "completed"
    },
    "tags": []
   },
   "outputs": [
    {
     "data": {
      "text/plain": [
       "((2560, 5, 128, 128, 3), (2560,))"
      ]
     },
     "execution_count": 32,
     "metadata": {},
     "output_type": "execute_result"
    }
   ],
   "source": [
    "videos = video_generator.videos\n",
    "labels = video_generator.labels\n",
    "\n",
    "videos = np.array(videos, dtype='float32')\n",
    "labels = np.array(labels)\n",
    "\n",
    "videos.shape, labels.shape"
   ]
  },
  {
   "cell_type": "code",
   "execution_count": 33,
   "id": "acc494c8",
   "metadata": {
    "execution": {
     "iopub.execute_input": "2025-07-11T09:44:33.277904Z",
     "iopub.status.busy": "2025-07-11T09:44:33.277375Z",
     "iopub.status.idle": "2025-07-11T09:44:33.283120Z",
     "shell.execute_reply": "2025-07-11T09:44:33.282360Z"
    },
    "papermill": {
     "duration": 0.023661,
     "end_time": "2025-07-11T09:44:33.284160",
     "exception": false,
     "start_time": "2025-07-11T09:44:33.260499",
     "status": "completed"
    },
    "tags": []
   },
   "outputs": [
    {
     "data": {
      "text/plain": [
       "(2560, 16)"
      ]
     },
     "execution_count": 33,
     "metadata": {},
     "output_type": "execute_result"
    }
   ],
   "source": [
    "from tensorflow.keras.utils import to_categorical\n",
    "\n",
    "one_hot_encoded_labels = to_categorical(labels)\n",
    "\n",
    "one_hot_encoded_labels.shape"
   ]
  },
  {
   "cell_type": "code",
   "execution_count": 34,
   "id": "7b8a8d68",
   "metadata": {
    "execution": {
     "iopub.execute_input": "2025-07-11T09:44:33.316827Z",
     "iopub.status.busy": "2025-07-11T09:44:33.316605Z",
     "iopub.status.idle": "2025-07-11T09:44:33.534916Z",
     "shell.execute_reply": "2025-07-11T09:44:33.534136Z"
    },
    "papermill": {
     "duration": 0.235762,
     "end_time": "2025-07-11T09:44:33.536124",
     "exception": false,
     "start_time": "2025-07-11T09:44:33.300362",
     "status": "completed"
    },
    "tags": []
   },
   "outputs": [
    {
     "data": {
      "text/plain": [
       "0"
      ]
     },
     "execution_count": 34,
     "metadata": {},
     "output_type": "execute_result"
    }
   ],
   "source": [
    "gc.collect()"
   ]
  },
  {
   "cell_type": "code",
   "execution_count": 35,
   "id": "a848f7d8",
   "metadata": {
    "execution": {
     "iopub.execute_input": "2025-07-11T09:44:33.569964Z",
     "iopub.status.busy": "2025-07-11T09:44:33.569722Z",
     "iopub.status.idle": "2025-07-11T09:44:34.526630Z",
     "shell.execute_reply": "2025-07-11T09:44:34.525920Z"
    },
    "papermill": {
     "duration": 0.975148,
     "end_time": "2025-07-11T09:44:34.527842",
     "exception": false,
     "start_time": "2025-07-11T09:44:33.552694",
     "status": "completed"
    },
    "tags": []
   },
   "outputs": [
    {
     "data": {
      "text/plain": [
       "((2048, 5, 128, 128, 3), (2048, 16), (512, 5, 128, 128, 3), (512, 16))"
      ]
     },
     "execution_count": 35,
     "metadata": {},
     "output_type": "execute_result"
    }
   ],
   "source": [
    "# RUN Split the Data into Train ( 75% ) and Test Set ( 25% ).\n",
    "from sklearn.model_selection import train_test_split\n",
    "features_train, features_test, labels_train, labels_test = train_test_split(videos,\n",
    "                                                                            one_hot_encoded_labels,\n",
    "                                                                            test_size = TEST_SIZE,\n",
    "                                                                            shuffle = True,\n",
    "                                                                            random_state = seed_constant)\n",
    "\n",
    "features_train.shape, labels_train.shape, features_test.shape, labels_test.shape"
   ]
  },
  {
   "cell_type": "markdown",
   "id": "419bf64f",
   "metadata": {
    "papermill": {
     "duration": 0.015653,
     "end_time": "2025-07-11T09:44:34.559586",
     "exception": false,
     "start_time": "2025-07-11T09:44:34.543933",
     "status": "completed"
    },
    "tags": []
   },
   "source": [
    "## Splitting data for ***Training Set*** and ***Validation Set***"
   ]
  },
  {
   "cell_type": "code",
   "execution_count": 36,
   "id": "96365030",
   "metadata": {
    "execution": {
     "iopub.execute_input": "2025-07-11T09:44:34.591232Z",
     "iopub.status.busy": "2025-07-11T09:44:34.590996Z",
     "iopub.status.idle": "2025-07-11T09:44:34.596690Z",
     "shell.execute_reply": "2025-07-11T09:44:34.596221Z"
    },
    "papermill": {
     "duration": 0.022831,
     "end_time": "2025-07-11T09:44:34.597803",
     "exception": false,
     "start_time": "2025-07-11T09:44:34.574972",
     "status": "completed"
    },
    "tags": []
   },
   "outputs": [
    {
     "data": {
      "text/plain": [
       "((1638, 5, 128, 128, 3), (1638, 16), (410, 5, 128, 128, 3), (410, 16))"
      ]
     },
     "execution_count": 36,
     "metadata": {},
     "output_type": "execute_result"
    }
   ],
   "source": [
    "# Assuming features_train and labels_train are defined\n",
    "train_set = 1-VALIDATION_SPLIT\n",
    "\n",
    "train_video_frames, val_video_frames = features_train[:int(train_set * len(features_train))], features_train[int(train_set * len(features_train)):]\n",
    "train_labels, val_labels = labels_train[:int(train_set * len(labels_train))], labels_train[int(train_set * len(labels_train)):]\n",
    "\n",
    "train_video_frames.shape, train_labels.shape, val_video_frames.shape, val_labels.shape"
   ]
  },
  {
   "cell_type": "markdown",
   "id": "15aebadd",
   "metadata": {
    "papermill": {
     "duration": 0.015248,
     "end_time": "2025-07-11T09:44:34.629214",
     "exception": false,
     "start_time": "2025-07-11T09:44:34.613966",
     "status": "completed"
    },
    "tags": []
   },
   "source": [
    "## Use Generator `Video Data Generator`"
   ]
  },
  {
   "cell_type": "code",
   "execution_count": 37,
   "id": "907ef009",
   "metadata": {
    "execution": {
     "iopub.execute_input": "2025-07-11T09:44:34.661029Z",
     "iopub.status.busy": "2025-07-11T09:44:34.660795Z",
     "iopub.status.idle": "2025-07-11T09:44:34.667249Z",
     "shell.execute_reply": "2025-07-11T09:44:34.666677Z"
    },
    "papermill": {
     "duration": 0.023426,
     "end_time": "2025-07-11T09:44:34.668277",
     "exception": false,
     "start_time": "2025-07-11T09:44:34.644851",
     "status": "completed"
    },
    "tags": []
   },
   "outputs": [
    {
     "name": "stdout",
     "output_type": "stream",
     "text": [
      "Total 1638 videos and 1638 classes\n",
      "Total 410 videos and 410 classes\n"
     ]
    },
    {
     "data": {
      "text/plain": [
       "(69, 18)"
      ]
     },
     "execution_count": 37,
     "metadata": {},
     "output_type": "execute_result"
    }
   ],
   "source": [
    "# Create the training and validation generators\n",
    "train_gen = VideoDataGenerator(\n",
    "    videos=train_video_frames, \n",
    "    labels=train_labels, \n",
    "    batch_size=BATCH_SIZE,\n",
    ")\n",
    "\n",
    "val_gen = VideoDataGenerator(\n",
    "    videos=val_video_frames, \n",
    "    labels=val_labels, \n",
    "    batch_size=BATCH_SIZE,\n",
    ")\n",
    "\n",
    "len(train_gen), len(val_gen)"
   ]
  },
  {
   "cell_type": "markdown",
   "id": "1097bee9",
   "metadata": {
    "papermill": {
     "duration": 0.015989,
     "end_time": "2025-07-11T09:44:34.700144",
     "exception": false,
     "start_time": "2025-07-11T09:44:34.684155",
     "status": "completed"
    },
    "tags": []
   },
   "source": [
    "## Inspect ***Generator*** Data on Epochs"
   ]
  },
  {
   "cell_type": "code",
   "execution_count": 38,
   "id": "6fac3f8c",
   "metadata": {
    "execution": {
     "iopub.execute_input": "2025-07-11T09:44:34.733899Z",
     "iopub.status.busy": "2025-07-11T09:44:34.733329Z",
     "iopub.status.idle": "2025-07-11T09:44:34.748269Z",
     "shell.execute_reply": "2025-07-11T09:44:34.746021Z"
    },
    "papermill": {
     "duration": 0.032908,
     "end_time": "2025-07-11T09:44:34.749382",
     "exception": false,
     "start_time": "2025-07-11T09:44:34.716474",
     "status": "completed"
    },
    "tags": []
   },
   "outputs": [
    {
     "name": "stdout",
     "output_type": "stream",
     "text": [
      "[   0    1    2 ... 1635 1636 1637]\n",
      "[ 658 1561 1395 ...  691  912  158]\n"
     ]
    },
    {
     "data": {
      "text/plain": [
       "(24, (24, 5, 128, 128, 3), (24, 16))"
      ]
     },
     "execution_count": 38,
     "metadata": {},
     "output_type": "execute_result"
    }
   ],
   "source": [
    "features, labels = train_gen[1]\n",
    "\n",
    "print(train_gen.indices)\n",
    "\n",
    "train_gen.on_epoch_end()\n",
    "\n",
    "print(train_gen.indices)\n",
    "\n",
    "BATCH_SIZE, features.shape, labels.shape"
   ]
  },
  {
   "cell_type": "markdown",
   "id": "be5e4b89",
   "metadata": {
    "papermill": {
     "duration": 0.015489,
     "end_time": "2025-07-11T09:44:34.781849",
     "exception": false,
     "start_time": "2025-07-11T09:44:34.766360",
     "status": "completed"
    },
    "tags": []
   },
   "source": [
    "## Compute Class Weight"
   ]
  },
  {
   "cell_type": "code",
   "execution_count": 39,
   "id": "df2c0f85",
   "metadata": {
    "execution": {
     "iopub.execute_input": "2025-07-11T09:44:34.813715Z",
     "iopub.status.busy": "2025-07-11T09:44:34.813508Z",
     "iopub.status.idle": "2025-07-11T09:44:34.819778Z",
     "shell.execute_reply": "2025-07-11T09:44:34.819159Z"
    },
    "papermill": {
     "duration": 0.02339,
     "end_time": "2025-07-11T09:44:34.820886",
     "exception": false,
     "start_time": "2025-07-11T09:44:34.797496",
     "status": "completed"
    },
    "tags": []
   },
   "outputs": [
    {
     "name": "stdout",
     "output_type": "stream",
     "text": [
      "Class weights: {0: 1.0, 1: 1.0, 2: 1.0, 3: 1.0, 4: 1.0, 5: 1.0, 6: 1.0, 7: 1.0, 8: 1.0, 9: 1.0, 10: 1.0, 11: 1.0, 12: 1.0, 13: 1.0, 14: 1.0, 15: 1.0}\n"
     ]
    }
   ],
   "source": [
    "from sklearn.utils.class_weight import compute_class_weight\n",
    "import numpy as np\n",
    "\n",
    "# Assuming y_int are integer labels (not one-hot)\n",
    "y_int = np.argmax(one_hot_encoded_labels, axis=1)  # or just integer labels if you have them\n",
    "\n",
    "classes = np.arange(NO_OF_CLASSES)  # e.g. np.arange(16)\n",
    "class_weights_values = compute_class_weight(class_weight='balanced', classes=classes, y=y_int)\n",
    "\n",
    "class_weights = dict(zip(classes, class_weights_values))\n",
    "\n",
    "print(\"Class weights:\", class_weights)\n"
   ]
  },
  {
   "cell_type": "code",
   "execution_count": 40,
   "id": "aa4e93bf",
   "metadata": {
    "execution": {
     "iopub.execute_input": "2025-07-11T09:44:34.853961Z",
     "iopub.status.busy": "2025-07-11T09:44:34.853715Z",
     "iopub.status.idle": "2025-07-11T09:44:35.075030Z",
     "shell.execute_reply": "2025-07-11T09:44:35.074234Z"
    },
    "papermill": {
     "duration": 0.238997,
     "end_time": "2025-07-11T09:44:35.076140",
     "exception": false,
     "start_time": "2025-07-11T09:44:34.837143",
     "status": "completed"
    },
    "tags": []
   },
   "outputs": [],
   "source": [
    "gc.collect()\n",
    "del videos, one_hot_encoded_labels, labels_train\n",
    "del features_train, val_labels, train_labels\n",
    "del val_video_frames, train_video_frames"
   ]
  },
  {
   "cell_type": "markdown",
   "id": "6fb35dcc",
   "metadata": {
    "papermill": {
     "duration": 0.01582,
     "end_time": "2025-07-11T09:44:35.108851",
     "exception": false,
     "start_time": "2025-07-11T09:44:35.093031",
     "status": "completed"
    },
    "tags": []
   },
   "source": [
    "# ✨ Model Execution\n",
    "## Creating Model"
   ]
  },
  {
   "cell_type": "markdown",
   "id": "80756aec",
   "metadata": {
    "papermill": {
     "duration": 0.015746,
     "end_time": "2025-07-11T09:44:35.140624",
     "exception": false,
     "start_time": "2025-07-11T09:44:35.124878",
     "status": "completed"
    },
    "tags": []
   },
   "source": [
    "## Plot Model Structure"
   ]
  },
  {
   "cell_type": "markdown",
   "id": "2806111a",
   "metadata": {
    "papermill": {
     "duration": 0.015704,
     "end_time": "2025-07-11T09:44:35.172590",
     "exception": false,
     "start_time": "2025-07-11T09:44:35.156886",
     "status": "completed"
    },
    "tags": []
   },
   "source": [
    "## 📈 Model Training"
   ]
  },
  {
   "cell_type": "code",
   "execution_count": 41,
   "id": "490e2b1a",
   "metadata": {
    "execution": {
     "iopub.execute_input": "2025-07-11T09:44:35.207329Z",
     "iopub.status.busy": "2025-07-11T09:44:35.206813Z",
     "iopub.status.idle": "2025-07-11T09:48:45.331224Z",
     "shell.execute_reply": "2025-07-11T09:48:45.330600Z"
    },
    "papermill": {
     "duration": 250.144065,
     "end_time": "2025-07-11T09:48:45.332515",
     "exception": false,
     "start_time": "2025-07-11T09:44:35.188450",
     "status": "completed"
    },
    "tags": []
   },
   "outputs": [
    {
     "name": "stdout",
     "output_type": "stream",
     "text": [
      "Memory cleared before creating VGG19+LSTM model\n",
      "TensorFlow version: 2.18.0\n",
      "Pre-loading VGG19 weights...\n",
      "Downloading data from https://storage.googleapis.com/tensorflow/keras-applications/mobilenet_v2/mobilenet_v2_weights_tf_dim_ordering_tf_kernels_1.0_128_no_top.h5\n",
      "\u001b[1m9406464/9406464\u001b[0m \u001b[32m━━━━━━━━━━━━━━━━━━━━\u001b[0m\u001b[37m\u001b[0m \u001b[1m0s\u001b[0m 0us/step\n",
      "VGG19 weights loaded successfully!\n",
      "Creating VGG19+LSTM model with parameters:\n",
      "sequence_length: 5, image_height: 128, image_width: 128, classes_list length: 16, dropout_rate: 0.5\n"
     ]
    },
    {
     "name": "stderr",
     "output_type": "stream",
     "text": [
      "/usr/local/lib/python3.11/dist-packages/keras/src/layers/core/wrapper.py:27: UserWarning: Do not pass an `input_shape`/`input_dim` argument to a layer. When using Sequential models, prefer using an `Input(shape)` object as the first layer in the model instead.\n",
      "  super().__init__(**kwargs)\n"
     ]
    },
    {
     "name": "stdout",
     "output_type": "stream",
     "text": [
      "VGG19+LSTM model architecture created successfully!\n"
     ]
    },
    {
     "data": {
      "text/html": [
       "<pre style=\"white-space:pre;overflow-x:auto;line-height:normal;font-family:Menlo,'DejaVu Sans Mono',consolas,'Courier New',monospace\"><span style=\"font-weight: bold\">Model: \"sequential\"</span>\n",
       "</pre>\n"
      ],
      "text/plain": [
       "\u001b[1mModel: \"sequential\"\u001b[0m\n"
      ]
     },
     "metadata": {},
     "output_type": "display_data"
    },
    {
     "data": {
      "text/html": [
       "<pre style=\"white-space:pre;overflow-x:auto;line-height:normal;font-family:Menlo,'DejaVu Sans Mono',consolas,'Courier New',monospace\">┏━━━━━━━━━━━━━━━━━━━━━━━━━━━━━━━━━┳━━━━━━━━━━━━━━━━━━━━━━━━┳━━━━━━━━━━━━━━━┓\n",
       "┃<span style=\"font-weight: bold\"> Layer (type)                    </span>┃<span style=\"font-weight: bold\"> Output Shape           </span>┃<span style=\"font-weight: bold\">       Param # </span>┃\n",
       "┡━━━━━━━━━━━━━━━━━━━━━━━━━━━━━━━━━╇━━━━━━━━━━━━━━━━━━━━━━━━╇━━━━━━━━━━━━━━━┩\n",
       "│ time_distributed_vgg19          │ (<span style=\"color: #00d7ff; text-decoration-color: #00d7ff\">None</span>, <span style=\"color: #00af00; text-decoration-color: #00af00\">5</span>, <span style=\"color: #00af00; text-decoration-color: #00af00\">4</span>, <span style=\"color: #00af00; text-decoration-color: #00af00\">4</span>, <span style=\"color: #00af00; text-decoration-color: #00af00\">1280</span>)  │     <span style=\"color: #00af00; text-decoration-color: #00af00\">2,257,984</span> │\n",
       "│ (<span style=\"color: #0087ff; text-decoration-color: #0087ff\">TimeDistributed</span>)               │                        │               │\n",
       "├─────────────────────────────────┼────────────────────────┼───────────────┤\n",
       "│ time_distributed_pooling        │ (<span style=\"color: #00d7ff; text-decoration-color: #00d7ff\">None</span>, <span style=\"color: #00af00; text-decoration-color: #00af00\">5</span>, <span style=\"color: #00af00; text-decoration-color: #00af00\">1280</span>)        │             <span style=\"color: #00af00; text-decoration-color: #00af00\">0</span> │\n",
       "│ (<span style=\"color: #0087ff; text-decoration-color: #0087ff\">TimeDistributed</span>)               │                        │               │\n",
       "├─────────────────────────────────┼────────────────────────┼───────────────┤\n",
       "│ lstm_vgg19 (<span style=\"color: #0087ff; text-decoration-color: #0087ff\">LSTM</span>)               │ (<span style=\"color: #00d7ff; text-decoration-color: #00d7ff\">None</span>, <span style=\"color: #00af00; text-decoration-color: #00af00\">512</span>)            │     <span style=\"color: #00af00; text-decoration-color: #00af00\">3,672,064</span> │\n",
       "├─────────────────────────────────┼────────────────────────┼───────────────┤\n",
       "│ batch_normalization_vgg19       │ (<span style=\"color: #00d7ff; text-decoration-color: #00d7ff\">None</span>, <span style=\"color: #00af00; text-decoration-color: #00af00\">512</span>)            │         <span style=\"color: #00af00; text-decoration-color: #00af00\">2,048</span> │\n",
       "│ (<span style=\"color: #0087ff; text-decoration-color: #0087ff\">BatchNormalization</span>)            │                        │               │\n",
       "├─────────────────────────────────┼────────────────────────┼───────────────┤\n",
       "│ dropout_lstm_vgg19 (<span style=\"color: #0087ff; text-decoration-color: #0087ff\">Dropout</span>)    │ (<span style=\"color: #00d7ff; text-decoration-color: #00d7ff\">None</span>, <span style=\"color: #00af00; text-decoration-color: #00af00\">512</span>)            │             <span style=\"color: #00af00; text-decoration-color: #00af00\">0</span> │\n",
       "├─────────────────────────────────┼────────────────────────┼───────────────┤\n",
       "│ dense_vgg19_1 (<span style=\"color: #0087ff; text-decoration-color: #0087ff\">Dense</span>)           │ (<span style=\"color: #00d7ff; text-decoration-color: #00d7ff\">None</span>, <span style=\"color: #00af00; text-decoration-color: #00af00\">512</span>)            │       <span style=\"color: #00af00; text-decoration-color: #00af00\">262,656</span> │\n",
       "├─────────────────────────────────┼────────────────────────┼───────────────┤\n",
       "│ dropout_dense_vgg19_1 (<span style=\"color: #0087ff; text-decoration-color: #0087ff\">Dropout</span>) │ (<span style=\"color: #00d7ff; text-decoration-color: #00d7ff\">None</span>, <span style=\"color: #00af00; text-decoration-color: #00af00\">512</span>)            │             <span style=\"color: #00af00; text-decoration-color: #00af00\">0</span> │\n",
       "├─────────────────────────────────┼────────────────────────┼───────────────┤\n",
       "│ dense_vgg19_2 (<span style=\"color: #0087ff; text-decoration-color: #0087ff\">Dense</span>)           │ (<span style=\"color: #00d7ff; text-decoration-color: #00d7ff\">None</span>, <span style=\"color: #00af00; text-decoration-color: #00af00\">128</span>)            │        <span style=\"color: #00af00; text-decoration-color: #00af00\">65,664</span> │\n",
       "├─────────────────────────────────┼────────────────────────┼───────────────┤\n",
       "│ dropout_dense_vgg19_2 (<span style=\"color: #0087ff; text-decoration-color: #0087ff\">Dropout</span>) │ (<span style=\"color: #00d7ff; text-decoration-color: #00d7ff\">None</span>, <span style=\"color: #00af00; text-decoration-color: #00af00\">128</span>)            │             <span style=\"color: #00af00; text-decoration-color: #00af00\">0</span> │\n",
       "├─────────────────────────────────┼────────────────────────┼───────────────┤\n",
       "│ output_vgg19 (<span style=\"color: #0087ff; text-decoration-color: #0087ff\">Dense</span>)            │ (<span style=\"color: #00d7ff; text-decoration-color: #00d7ff\">None</span>, <span style=\"color: #00af00; text-decoration-color: #00af00\">16</span>)             │         <span style=\"color: #00af00; text-decoration-color: #00af00\">2,064</span> │\n",
       "└─────────────────────────────────┴────────────────────────┴───────────────┘\n",
       "</pre>\n"
      ],
      "text/plain": [
       "┏━━━━━━━━━━━━━━━━━━━━━━━━━━━━━━━━━┳━━━━━━━━━━━━━━━━━━━━━━━━┳━━━━━━━━━━━━━━━┓\n",
       "┃\u001b[1m \u001b[0m\u001b[1mLayer (type)                   \u001b[0m\u001b[1m \u001b[0m┃\u001b[1m \u001b[0m\u001b[1mOutput Shape          \u001b[0m\u001b[1m \u001b[0m┃\u001b[1m \u001b[0m\u001b[1m      Param #\u001b[0m\u001b[1m \u001b[0m┃\n",
       "┡━━━━━━━━━━━━━━━━━━━━━━━━━━━━━━━━━╇━━━━━━━━━━━━━━━━━━━━━━━━╇━━━━━━━━━━━━━━━┩\n",
       "│ time_distributed_vgg19          │ (\u001b[38;5;45mNone\u001b[0m, \u001b[38;5;34m5\u001b[0m, \u001b[38;5;34m4\u001b[0m, \u001b[38;5;34m4\u001b[0m, \u001b[38;5;34m1280\u001b[0m)  │     \u001b[38;5;34m2,257,984\u001b[0m │\n",
       "│ (\u001b[38;5;33mTimeDistributed\u001b[0m)               │                        │               │\n",
       "├─────────────────────────────────┼────────────────────────┼───────────────┤\n",
       "│ time_distributed_pooling        │ (\u001b[38;5;45mNone\u001b[0m, \u001b[38;5;34m5\u001b[0m, \u001b[38;5;34m1280\u001b[0m)        │             \u001b[38;5;34m0\u001b[0m │\n",
       "│ (\u001b[38;5;33mTimeDistributed\u001b[0m)               │                        │               │\n",
       "├─────────────────────────────────┼────────────────────────┼───────────────┤\n",
       "│ lstm_vgg19 (\u001b[38;5;33mLSTM\u001b[0m)               │ (\u001b[38;5;45mNone\u001b[0m, \u001b[38;5;34m512\u001b[0m)            │     \u001b[38;5;34m3,672,064\u001b[0m │\n",
       "├─────────────────────────────────┼────────────────────────┼───────────────┤\n",
       "│ batch_normalization_vgg19       │ (\u001b[38;5;45mNone\u001b[0m, \u001b[38;5;34m512\u001b[0m)            │         \u001b[38;5;34m2,048\u001b[0m │\n",
       "│ (\u001b[38;5;33mBatchNormalization\u001b[0m)            │                        │               │\n",
       "├─────────────────────────────────┼────────────────────────┼───────────────┤\n",
       "│ dropout_lstm_vgg19 (\u001b[38;5;33mDropout\u001b[0m)    │ (\u001b[38;5;45mNone\u001b[0m, \u001b[38;5;34m512\u001b[0m)            │             \u001b[38;5;34m0\u001b[0m │\n",
       "├─────────────────────────────────┼────────────────────────┼───────────────┤\n",
       "│ dense_vgg19_1 (\u001b[38;5;33mDense\u001b[0m)           │ (\u001b[38;5;45mNone\u001b[0m, \u001b[38;5;34m512\u001b[0m)            │       \u001b[38;5;34m262,656\u001b[0m │\n",
       "├─────────────────────────────────┼────────────────────────┼───────────────┤\n",
       "│ dropout_dense_vgg19_1 (\u001b[38;5;33mDropout\u001b[0m) │ (\u001b[38;5;45mNone\u001b[0m, \u001b[38;5;34m512\u001b[0m)            │             \u001b[38;5;34m0\u001b[0m │\n",
       "├─────────────────────────────────┼────────────────────────┼───────────────┤\n",
       "│ dense_vgg19_2 (\u001b[38;5;33mDense\u001b[0m)           │ (\u001b[38;5;45mNone\u001b[0m, \u001b[38;5;34m128\u001b[0m)            │        \u001b[38;5;34m65,664\u001b[0m │\n",
       "├─────────────────────────────────┼────────────────────────┼───────────────┤\n",
       "│ dropout_dense_vgg19_2 (\u001b[38;5;33mDropout\u001b[0m) │ (\u001b[38;5;45mNone\u001b[0m, \u001b[38;5;34m128\u001b[0m)            │             \u001b[38;5;34m0\u001b[0m │\n",
       "├─────────────────────────────────┼────────────────────────┼───────────────┤\n",
       "│ output_vgg19 (\u001b[38;5;33mDense\u001b[0m)            │ (\u001b[38;5;45mNone\u001b[0m, \u001b[38;5;34m16\u001b[0m)             │         \u001b[38;5;34m2,064\u001b[0m │\n",
       "└─────────────────────────────────┴────────────────────────┴───────────────┘\n"
      ]
     },
     "metadata": {},
     "output_type": "display_data"
    },
    {
     "data": {
      "text/html": [
       "<pre style=\"white-space:pre;overflow-x:auto;line-height:normal;font-family:Menlo,'DejaVu Sans Mono',consolas,'Courier New',monospace\"><span style=\"font-weight: bold\"> Total params: </span><span style=\"color: #00af00; text-decoration-color: #00af00\">6,262,480</span> (23.89 MB)\n",
       "</pre>\n"
      ],
      "text/plain": [
       "\u001b[1m Total params: \u001b[0m\u001b[38;5;34m6,262,480\u001b[0m (23.89 MB)\n"
      ]
     },
     "metadata": {},
     "output_type": "display_data"
    },
    {
     "data": {
      "text/html": [
       "<pre style=\"white-space:pre;overflow-x:auto;line-height:normal;font-family:Menlo,'DejaVu Sans Mono',consolas,'Courier New',monospace\"><span style=\"font-weight: bold\"> Trainable params: </span><span style=\"color: #00af00; text-decoration-color: #00af00\">4,003,472</span> (15.27 MB)\n",
       "</pre>\n"
      ],
      "text/plain": [
       "\u001b[1m Trainable params: \u001b[0m\u001b[38;5;34m4,003,472\u001b[0m (15.27 MB)\n"
      ]
     },
     "metadata": {},
     "output_type": "display_data"
    },
    {
     "data": {
      "text/html": [
       "<pre style=\"white-space:pre;overflow-x:auto;line-height:normal;font-family:Menlo,'DejaVu Sans Mono',consolas,'Courier New',monospace\"><span style=\"font-weight: bold\"> Non-trainable params: </span><span style=\"color: #00af00; text-decoration-color: #00af00\">2,259,008</span> (8.62 MB)\n",
       "</pre>\n"
      ],
      "text/plain": [
       "\u001b[1m Non-trainable params: \u001b[0m\u001b[38;5;34m2,259,008\u001b[0m (8.62 MB)\n"
      ]
     },
     "metadata": {},
     "output_type": "display_data"
    },
    {
     "name": "stdout",
     "output_type": "stream",
     "text": [
      "VGG19+LSTM Model Created Successfully!\n",
      "Xception_VGG19_LSTM Model Plot saved successfully...\n",
      "train_gen.videos shape: (1638, 5, 128, 128, 3)\n",
      "train_gen.labels shape: (1638, 16)\n",
      "val_gen.videos shape: (410, 5, 128, 128, 3)\n",
      "val_gen.labels shape: (410, 16)\n",
      "features_test shape: (512, 5, 128, 128, 3)\n",
      "labels_test shape: (512, 16)\n",
      "train_gen batch videos shape: (24, 5, 128, 128, 3)\n",
      "train_gen batch labels shape: (24, 16)\n",
      "val_gen batch videos shape: (24, 5, 128, 128, 3)\n",
      "val_gen batch labels shape: (24, 16)\n",
      "Dataset - Msrdailyactivity3D Rgb Videos Only\n",
      "There are total 16 classes, selected 16 classes\n",
      "Setting 20 videos/class to train the model.\n",
      "Image size 128x128 with 5 sequence length\n",
      "Dropout rate: 0.5\n",
      "Train-Test split ratio 80/20\n",
      "Validation data from Train set 20.0%\n",
      "\n",
      "\n",
      "Initial training started for VGG19+LSTM model with 1638 videos of 16 classes with 410 videos for validation...\n",
      "Epoch 1/30\n"
     ]
    },
    {
     "name": "stderr",
     "output_type": "stream",
     "text": [
      "I0000 00:00:1752227109.812136    2514 cuda_dnn.cc:529] Loaded cuDNN version 90300\n"
     ]
    },
    {
     "name": "stdout",
     "output_type": "stream",
     "text": [
      "     69/Unknown \u001b[1m39s\u001b[0m 79ms/step - accuracy: 0.0622 - loss: 23.8848"
     ]
    },
    {
     "name": "stderr",
     "output_type": "stream",
     "text": [
      "/usr/local/lib/python3.11/dist-packages/keras/src/trainers/epoch_iterator.py:151: UserWarning: Your input ran out of data; interrupting training. Make sure that your dataset or generator can generate at least `steps_per_epoch * epochs` batches. You may need to use the `.repeat()` function when building your dataset.\n",
      "  self._interrupted_warning()\n"
     ]
    },
    {
     "name": "stdout",
     "output_type": "stream",
     "text": [
      "\u001b[1m69/69\u001b[0m \u001b[32m━━━━━━━━━━━━━━━━━━━━\u001b[0m\u001b[37m\u001b[0m \u001b[1m48s\u001b[0m 211ms/step - accuracy: 0.0622 - loss: 23.8422 - val_accuracy: 0.1024 - val_loss: 15.9911 - learning_rate: 0.0010\n",
      "Epoch 2/30\n",
      "\u001b[1m69/69\u001b[0m \u001b[32m━━━━━━━━━━━━━━━━━━━━\u001b[0m\u001b[37m\u001b[0m \u001b[1m7s\u001b[0m 97ms/step - accuracy: 0.1020 - loss: 14.7547 - val_accuracy: 0.1390 - val_loss: 11.5559 - learning_rate: 0.0010\n",
      "Epoch 3/30\n",
      "\u001b[1m69/69\u001b[0m \u001b[32m━━━━━━━━━━━━━━━━━━━━\u001b[0m\u001b[37m\u001b[0m \u001b[1m7s\u001b[0m 97ms/step - accuracy: 0.1366 - loss: 10.7994 - val_accuracy: 0.1634 - val_loss: 9.0314 - learning_rate: 0.0010\n",
      "Epoch 4/30\n",
      "\u001b[1m69/69\u001b[0m \u001b[32m━━━━━━━━━━━━━━━━━━━━\u001b[0m\u001b[37m\u001b[0m \u001b[1m7s\u001b[0m 97ms/step - accuracy: 0.1907 - loss: 8.4487 - val_accuracy: 0.2122 - val_loss: 7.3240 - learning_rate: 0.0010\n",
      "Epoch 5/30\n",
      "\u001b[1m69/69\u001b[0m \u001b[32m━━━━━━━━━━━━━━━━━━━━\u001b[0m\u001b[37m\u001b[0m \u001b[1m7s\u001b[0m 97ms/step - accuracy: 0.2325 - loss: 6.8917 - val_accuracy: 0.2805 - val_loss: 6.0227 - learning_rate: 0.0010\n",
      "Epoch 6/30\n",
      "\u001b[1m69/69\u001b[0m \u001b[32m━━━━━━━━━━━━━━━━━━━━\u001b[0m\u001b[37m\u001b[0m \u001b[1m7s\u001b[0m 97ms/step - accuracy: 0.2917 - loss: 5.7194 - val_accuracy: 0.3171 - val_loss: 5.0743 - learning_rate: 0.0010\n",
      "Epoch 7/30\n",
      "\u001b[1m69/69\u001b[0m \u001b[32m━━━━━━━━━━━━━━━━━━━━\u001b[0m\u001b[37m\u001b[0m \u001b[1m7s\u001b[0m 97ms/step - accuracy: 0.3358 - loss: 4.8476 - val_accuracy: 0.3561 - val_loss: 4.3547 - learning_rate: 0.0010\n",
      "Epoch 8/30\n",
      "\u001b[1m69/69\u001b[0m \u001b[32m━━━━━━━━━━━━━━━━━━━━\u001b[0m\u001b[37m\u001b[0m \u001b[1m7s\u001b[0m 99ms/step - accuracy: 0.3765 - loss: 4.1846 - val_accuracy: 0.4488 - val_loss: 3.7688 - learning_rate: 0.0010\n",
      "Epoch 9/30\n",
      "\u001b[1m69/69\u001b[0m \u001b[32m━━━━━━━━━━━━━━━━━━━━\u001b[0m\u001b[37m\u001b[0m \u001b[1m7s\u001b[0m 98ms/step - accuracy: 0.4394 - loss: 3.6078 - val_accuracy: 0.3634 - val_loss: 3.6013 - learning_rate: 0.0010\n",
      "Epoch 10/30\n",
      "\u001b[1m69/69\u001b[0m \u001b[32m━━━━━━━━━━━━━━━━━━━━\u001b[0m\u001b[37m\u001b[0m \u001b[1m7s\u001b[0m 99ms/step - accuracy: 0.4858 - loss: 3.2841 - val_accuracy: 0.3805 - val_loss: 3.4347 - learning_rate: 0.0010\n",
      "Epoch 11/30\n",
      "\u001b[1m69/69\u001b[0m \u001b[32m━━━━━━━━━━━━━━━━━━━━\u001b[0m\u001b[37m\u001b[0m \u001b[1m7s\u001b[0m 97ms/step - accuracy: 0.4396 - loss: 3.1800 - val_accuracy: 0.3171 - val_loss: 3.5174 - learning_rate: 0.0010\n",
      "Epoch 12/30\n",
      "\u001b[1m69/69\u001b[0m \u001b[32m━━━━━━━━━━━━━━━━━━━━\u001b[0m\u001b[37m\u001b[0m \u001b[1m7s\u001b[0m 99ms/step - accuracy: 0.4693 - loss: 2.9960 - val_accuracy: 0.4293 - val_loss: 3.0398 - learning_rate: 0.0010\n",
      "Epoch 13/30\n",
      "\u001b[1m69/69\u001b[0m \u001b[32m━━━━━━━━━━━━━━━━━━━━\u001b[0m\u001b[37m\u001b[0m \u001b[1m7s\u001b[0m 100ms/step - accuracy: 0.5156 - loss: 2.6733 - val_accuracy: 0.3732 - val_loss: 3.0097 - learning_rate: 0.0010\n",
      "Epoch 14/30\n",
      "\u001b[1m69/69\u001b[0m \u001b[32m━━━━━━━━━━━━━━━━━━━━\u001b[0m\u001b[37m\u001b[0m \u001b[1m7s\u001b[0m 99ms/step - accuracy: 0.5357 - loss: 2.4707 - val_accuracy: 0.4683 - val_loss: 2.5304 - learning_rate: 0.0010\n",
      "Epoch 15/30\n",
      "\u001b[1m69/69\u001b[0m \u001b[32m━━━━━━━━━━━━━━━━━━━━\u001b[0m\u001b[37m\u001b[0m \u001b[1m7s\u001b[0m 99ms/step - accuracy: 0.5564 - loss: 2.3676 - val_accuracy: 0.4659 - val_loss: 2.5196 - learning_rate: 0.0010\n",
      "Epoch 16/30\n",
      "\u001b[1m69/69\u001b[0m \u001b[32m━━━━━━━━━━━━━━━━━━━━\u001b[0m\u001b[37m\u001b[0m \u001b[1m7s\u001b[0m 97ms/step - accuracy: 0.5387 - loss: 2.3426 - val_accuracy: 0.4634 - val_loss: 2.6495 - learning_rate: 0.0010\n",
      "Epoch 17/30\n",
      "\u001b[1m69/69\u001b[0m \u001b[32m━━━━━━━━━━━━━━━━━━━━\u001b[0m\u001b[37m\u001b[0m \u001b[1m7s\u001b[0m 98ms/step - accuracy: 0.5642 - loss: 2.2927 - val_accuracy: 0.4024 - val_loss: 2.8017 - learning_rate: 0.0010\n",
      "Epoch 18/30\n",
      "\u001b[1m69/69\u001b[0m \u001b[32m━━━━━━━━━━━━━━━━━━━━\u001b[0m\u001b[37m\u001b[0m \u001b[1m7s\u001b[0m 97ms/step - accuracy: 0.5660 - loss: 2.2475 - val_accuracy: 0.4537 - val_loss: 2.5350 - learning_rate: 0.0010\n",
      "Epoch 19/30\n",
      "\u001b[1m69/69\u001b[0m \u001b[32m━━━━━━━━━━━━━━━━━━━━\u001b[0m\u001b[37m\u001b[0m \u001b[1m7s\u001b[0m 98ms/step - accuracy: 0.5998 - loss: 2.1395 - val_accuracy: 0.4902 - val_loss: 2.4191 - learning_rate: 5.0000e-04\n",
      "Epoch 20/30\n",
      "\u001b[1m69/69\u001b[0m \u001b[32m━━━━━━━━━━━━━━━━━━━━\u001b[0m\u001b[37m\u001b[0m \u001b[1m7s\u001b[0m 99ms/step - accuracy: 0.6708 - loss: 1.8010 - val_accuracy: 0.5463 - val_loss: 2.1597 - learning_rate: 5.0000e-04\n",
      "Epoch 21/30\n",
      "\u001b[1m69/69\u001b[0m \u001b[32m━━━━━━━━━━━━━━━━━━━━\u001b[0m\u001b[37m\u001b[0m \u001b[1m7s\u001b[0m 97ms/step - accuracy: 0.6752 - loss: 1.7090 - val_accuracy: 0.4634 - val_loss: 2.3930 - learning_rate: 5.0000e-04\n",
      "Epoch 22/30\n",
      "\u001b[1m69/69\u001b[0m \u001b[32m━━━━━━━━━━━━━━━━━━━━\u001b[0m\u001b[37m\u001b[0m \u001b[1m7s\u001b[0m 99ms/step - accuracy: 0.6894 - loss: 1.6942 - val_accuracy: 0.5244 - val_loss: 2.2157 - learning_rate: 5.0000e-04\n",
      "Epoch 23/30\n",
      "\u001b[1m69/69\u001b[0m \u001b[32m━━━━━━━━━━━━━━━━━━━━\u001b[0m\u001b[37m\u001b[0m \u001b[1m7s\u001b[0m 97ms/step - accuracy: 0.7134 - loss: 1.5716 - val_accuracy: 0.4756 - val_loss: 2.5786 - learning_rate: 5.0000e-04\n",
      "Epoch 24/30\n",
      "\u001b[1m69/69\u001b[0m \u001b[32m━━━━━━━━━━━━━━━━━━━━\u001b[0m\u001b[37m\u001b[0m \u001b[1m7s\u001b[0m 99ms/step - accuracy: 0.7202 - loss: 1.4828 - val_accuracy: 0.5585 - val_loss: 1.9893 - learning_rate: 2.5000e-04\n",
      "Epoch 25/30\n",
      "\u001b[1m69/69\u001b[0m \u001b[32m━━━━━━━━━━━━━━━━━━━━\u001b[0m\u001b[37m\u001b[0m \u001b[1m7s\u001b[0m 100ms/step - accuracy: 0.7512 - loss: 1.3866 - val_accuracy: 0.5927 - val_loss: 1.7929 - learning_rate: 2.5000e-04\n",
      "Epoch 26/30\n",
      "\u001b[1m69/69\u001b[0m \u001b[32m━━━━━━━━━━━━━━━━━━━━\u001b[0m\u001b[37m\u001b[0m \u001b[1m7s\u001b[0m 100ms/step - accuracy: 0.8030 - loss: 1.2289 - val_accuracy: 0.6268 - val_loss: 1.7829 - learning_rate: 2.5000e-04\n",
      "Epoch 27/30\n",
      "\u001b[1m69/69\u001b[0m \u001b[32m━━━━━━━━━━━━━━━━━━━━\u001b[0m\u001b[37m\u001b[0m \u001b[1m7s\u001b[0m 98ms/step - accuracy: 0.8094 - loss: 1.2124 - val_accuracy: 0.6098 - val_loss: 1.8081 - learning_rate: 2.5000e-04\n",
      "Epoch 28/30\n",
      "\u001b[1m69/69\u001b[0m \u001b[32m━━━━━━━━━━━━━━━━━━━━\u001b[0m\u001b[37m\u001b[0m \u001b[1m7s\u001b[0m 97ms/step - accuracy: 0.8199 - loss: 1.1699 - val_accuracy: 0.5976 - val_loss: 1.8538 - learning_rate: 2.5000e-04\n",
      "Epoch 29/30\n",
      "\u001b[1m69/69\u001b[0m \u001b[32m━━━━━━━━━━━━━━━━━━━━\u001b[0m\u001b[37m\u001b[0m \u001b[1m7s\u001b[0m 98ms/step - accuracy: 0.8127 - loss: 1.1338 - val_accuracy: 0.6049 - val_loss: 1.7531 - learning_rate: 2.5000e-04\n",
      "Epoch 30/30\n",
      "\u001b[1m69/69\u001b[0m \u001b[32m━━━━━━━━━━━━━━━━━━━━\u001b[0m\u001b[37m\u001b[0m \u001b[1m7s\u001b[0m 98ms/step - accuracy: 0.8505 - loss: 1.0615 - val_accuracy: 0.5756 - val_loss: 2.0477 - learning_rate: 2.5000e-04\n"
     ]
    }
   ],
   "source": [
    "# Import necessary libraries\n",
    "from tensorflow.keras.applications import MobileNetV2\n",
    "from tensorflow.keras.models import Sequential\n",
    "from tensorflow.keras.layers import TimeDistributed, GlobalAveragePooling2D, LSTM, Dropout, Dense, BatchNormalization\n",
    "from tensorflow.keras.regularizers import l2\n",
    "from tensorflow.keras.callbacks import EarlyStopping, ReduceLROnPlateau\n",
    "from tensorflow.keras.utils import to_categorical\n",
    "import tensorflow as tf\n",
    "import numpy as np\n",
    "import gc\n",
    "\n",
    "# Clear memory before creating the new model\n",
    "gc.collect()\n",
    "tf.keras.backend.clear_session()\n",
    "print(\"Memory cleared before creating VGG19+LSTM model\")\n",
    "\n",
    "# Print TensorFlow version\n",
    "print(f\"TensorFlow version: {tf.__version__}\")\n",
    "\n",
    "# Pre-load VGG19 weights\n",
    "print(\"Pre-loading VGG19 weights...\")\n",
    "try:\n",
    "    base_model = MobileNetV2(weights='imagenet', include_top=False, input_shape=(IMAGE_HEIGHT, IMAGE_WIDTH, 3))\n",
    "    print(\"VGG19 weights loaded successfully!\")\n",
    "except Exception as e:\n",
    "    print(f\"Failed to load VGG19 weights: {str(e)}\")\n",
    "\n",
    "# Define function to create VGG19+LSTM model\n",
    "def create_model(sequence_length, image_height, image_width, classes_list=None, dropout_rate=0.5, base_model=None):\n",
    "    print(\"Creating VGG19+LSTM model with parameters:\")\n",
    "    print(f\"sequence_length: {sequence_length}, image_height: {image_height}, image_width: {image_width}, classes_list length: {len(classes_list) if classes_list is not None else None}, dropout_rate: {dropout_rate}\")\n",
    "    \n",
    "    if classes_list is None:\n",
    "        raise ValueError(\"classes_list must be provided to define the output layer size\")\n",
    "    if base_model is None:\n",
    "        raise ValueError(\"base_model must be provided to avoid re-downloading weights\")\n",
    "\n",
    "    try:\n",
    "        # Use the pre-loaded base model\n",
    "        # Freeze the base model for initial training\n",
    "        base_model.trainable = False\n",
    "\n",
    "        # Define the Sequential model\n",
    "        model = Sequential([\n",
    "            # TimeDistributed VGG19 model\n",
    "            TimeDistributed(\n",
    "                base_model,\n",
    "                input_shape=(sequence_length, image_height, image_width, 3),\n",
    "                name=\"time_distributed_vgg19\"\n",
    "            ),\n",
    "            # TimeDistributed GlobalAveragePooling2D\n",
    "            TimeDistributed(GlobalAveragePooling2D(), name=\"time_distributed_pooling\"),\n",
    "            # LSTM layer with 512 units\n",
    "            LSTM(512, activation=\"tanh\", return_sequences=False, kernel_regularizer=l2(0.01), name=\"lstm_vgg19\"),\n",
    "            BatchNormalization(name=\"batch_normalization_vgg19\"),\n",
    "            # Dropout after LSTM\n",
    "            Dropout(dropout_rate, name=\"dropout_lstm_vgg19\"),\n",
    "            # Dense layer with 512 units\n",
    "            Dense(512, activation=\"relu\", kernel_regularizer=l2(0.01), name=\"dense_vgg19_1\"),\n",
    "            # Dropout after first Dense\n",
    "            Dropout(dropout_rate, name=\"dropout_dense_vgg19_1\"),\n",
    "            # Dense layer with 128 units\n",
    "            Dense(128, activation=\"relu\", kernel_regularizer=l2(0.01), name=\"dense_vgg19_2\"),\n",
    "            # Dropout after second Dense\n",
    "            Dropout(dropout_rate, name=\"dropout_dense_vgg19_2\"),\n",
    "            # Output Dense layer with softmax activation\n",
    "            Dense(len(classes_list), activation=\"softmax\", name=\"output_vgg19\")\n",
    "        ])\n",
    "\n",
    "        # Print model summary\n",
    "        print(\"VGG19+LSTM model architecture created successfully!\")\n",
    "        model.summary()\n",
    "\n",
    "        return model\n",
    "\n",
    "    except Exception as e:\n",
    "        print(f\"Error creating VGG19+LSTM model: {str(e)}\")\n",
    "        import traceback\n",
    "        traceback.print_exc()\n",
    "        return None\n",
    "\n",
    "# Create the VGG19+LSTM model using the pre-loaded base model\n",
    "model = create_model(\n",
    "    sequence_length=SEQUENCE_LENGTH,\n",
    "    image_height=IMAGE_HEIGHT,\n",
    "    image_width=IMAGE_WIDTH,\n",
    "    classes_list=CLASSES_LIST,\n",
    "    dropout_rate=DROPOUT_RATE,\n",
    "    base_model=base_model\n",
    ")\n",
    "\n",
    "# Check if model was created successfully\n",
    "if model is None:\n",
    "    raise ValueError(\"Failed to create VGG19+LSTM model. Check error messages above.\")\n",
    "else:\n",
    "    print(\"VGG19+LSTM Model Created Successfully!\")\n",
    "\n",
    "# Plot the model structure\n",
    "from tensorflow.keras.utils import plot_model\n",
    "try:\n",
    "    plot_model(model, to_file=f'{MODEL_NAME}_model_Plot.png', show_shapes=True, show_layer_names=True)\n",
    "    print(f\"{MODEL_NAME}_VGG19_LSTM Model Plot saved successfully...\")\n",
    "except Exception as e:\n",
    "    print(f\"Failed to plot model: {str(e)}\")\n",
    "\n",
    "# Verify data shapes\n",
    "print(f\"train_gen.videos shape: {np.shape(train_gen.videos)}\")\n",
    "print(f\"train_gen.labels shape: {np.shape(train_gen.labels)}\")\n",
    "print(f\"val_gen.videos shape: {np.shape(val_gen.videos)}\")\n",
    "print(f\"val_gen.labels shape: {np.shape(val_gen.labels)}\")\n",
    "print(f\"features_test shape: {np.shape(features_test)}\")\n",
    "print(f\"labels_test shape: {np.shape(labels_test)}\")\n",
    "\n",
    "# Ensure labels_test is one-hot encoded\n",
    "if len(labels_test.shape) == 1:\n",
    "    print(\"Converting labels_test to one-hot encoded format...\")\n",
    "    labels_test = to_categorical(labels_test, num_classes=NO_OF_CLASSES)\n",
    "    print(f\"New labels_test shape: {labels_test.shape}\")\n",
    "\n",
    "# Verify generator batch shapes\n",
    "try:\n",
    "    videos, labels = train_gen[0]\n",
    "    print(f\"train_gen batch videos shape: {videos.shape}\")\n",
    "    print(f\"train_gen batch labels shape: {labels.shape}\")\n",
    "    videos, labels = val_gen[0]\n",
    "    print(f\"val_gen batch videos shape: {videos.shape}\")\n",
    "    print(f\"val_gen batch labels shape: {labels.shape}\")\n",
    "except Exception as e:\n",
    "    print(f\"Error accessing generator data: {str(e)}\")\n",
    "\n",
    "# Compile the model for initial training\n",
    "early_stopping_callback = EarlyStopping(monitor='val_loss', patience=7, mode='min', restore_best_weights=True)\n",
    "lr_scheduler = ReduceLROnPlateau(monitor='val_loss', factor=0.5, patience=3, min_lr=1e-6)\n",
    "\n",
    "model.compile(\n",
    "    loss='categorical_crossentropy',\n",
    "    optimizer=tf.keras.optimizers.Adam(learning_rate=0.001),  # Higher learning rate for initial training\n",
    "    metrics=['accuracy']\n",
    ")\n",
    "\n",
    "# Print dataset summary\n",
    "print(f\"Dataset - {DATASET_NAME}\")\n",
    "print(f\"There are total {len(ALL_CLASS_NAMES)} classes, selected {NO_OF_CLASSES} classes\")\n",
    "print(f\"Setting {MAX_VIDEO_PER_CLASS} videos/class to train the model.\")\n",
    "print(f\"Image size {IMAGE_HEIGHT}x{IMAGE_WIDTH} with {SEQUENCE_LENGTH} sequence length\")\n",
    "print(f\"Dropout rate: {DROPOUT_RATE}\")\n",
    "print(f\"Train-Test split ratio {int((1-TEST_SIZE)*100)}/{int(TEST_SIZE*100)}\")\n",
    "print(f\"Validation data from Train set {VALIDATION_SPLIT*100}%\")\n",
    "print(\"\\n\")\n",
    "\n",
    "# Initial training with frozen base model\n",
    "print(f\"Initial training started for VGG19+LSTM model with {len(train_gen.videos)} videos of {NO_OF_CLASSES} classes with {len(val_gen.videos)} videos for validation...\")\n",
    "try:\n",
    "    initial_model_history = model.fit(\n",
    "        train_gen.as_dataset(),\n",
    "        validation_data=val_gen.as_dataset(),\n",
    "        epochs=EPOCHS,\n",
    "        class_weight=class_weights,\n",
    "        callbacks=[early_stopping_callback, lr_scheduler]\n",
    "    )\n",
    "except Exception as e:\n",
    "    print(f\"Error during initial model training: {str(e)}\")\n",
    "    import traceback\n",
    "    traceback.print_exc()\n"
   ]
  },
  {
   "cell_type": "code",
   "execution_count": 42,
   "id": "342de1d2",
   "metadata": {
    "execution": {
     "iopub.execute_input": "2025-07-11T09:48:45.545336Z",
     "iopub.status.busy": "2025-07-11T09:48:45.545073Z",
     "iopub.status.idle": "2025-07-11T09:53:25.690362Z",
     "shell.execute_reply": "2025-07-11T09:53:25.689683Z"
    },
    "papermill": {
     "duration": 280.252135,
     "end_time": "2025-07-11T09:53:25.691502",
     "exception": false,
     "start_time": "2025-07-11T09:48:45.439367",
     "status": "completed"
    },
    "tags": []
   },
   "outputs": [
    {
     "name": "stdout",
     "output_type": "stream",
     "text": [
      "\n",
      "Fine-tuning started for VGG19+LSTM model with 1638 videos of 16 classes with 410 videos for validation...\n",
      "Epoch 1/30\n",
      "\u001b[1m69/69\u001b[0m \u001b[32m━━━━━━━━━━━━━━━━━━━━\u001b[0m\u001b[37m\u001b[0m \u001b[1m48s\u001b[0m 218ms/step - accuracy: 0.5884 - loss: 1.9963 - val_accuracy: 0.3951 - val_loss: 3.0684 - learning_rate: 1.0000e-04\n",
      "Epoch 2/30\n",
      "\u001b[1m69/69\u001b[0m \u001b[32m━━━━━━━━━━━━━━━━━━━━\u001b[0m\u001b[37m\u001b[0m \u001b[1m8s\u001b[0m 116ms/step - accuracy: 0.7963 - loss: 1.2385 - val_accuracy: 0.4927 - val_loss: 2.2428 - learning_rate: 1.0000e-04\n",
      "Epoch 3/30\n",
      "\u001b[1m69/69\u001b[0m \u001b[32m━━━━━━━━━━━━━━━━━━━━\u001b[0m\u001b[37m\u001b[0m \u001b[1m8s\u001b[0m 116ms/step - accuracy: 0.8466 - loss: 1.0597 - val_accuracy: 0.5293 - val_loss: 2.2354 - learning_rate: 1.0000e-04\n",
      "Epoch 4/30\n",
      "\u001b[1m69/69\u001b[0m \u001b[32m━━━━━━━━━━━━━━━━━━━━\u001b[0m\u001b[37m\u001b[0m \u001b[1m8s\u001b[0m 117ms/step - accuracy: 0.8824 - loss: 0.9821 - val_accuracy: 0.6293 - val_loss: 1.6960 - learning_rate: 1.0000e-04\n",
      "Epoch 5/30\n",
      "\u001b[1m69/69\u001b[0m \u001b[32m━━━━━━━━━━━━━━━━━━━━\u001b[0m\u001b[37m\u001b[0m \u001b[1m8s\u001b[0m 116ms/step - accuracy: 0.8963 - loss: 0.9151 - val_accuracy: 0.6537 - val_loss: 1.6884 - learning_rate: 1.0000e-04\n",
      "Epoch 6/30\n",
      "\u001b[1m69/69\u001b[0m \u001b[32m━━━━━━━━━━━━━━━━━━━━\u001b[0m\u001b[37m\u001b[0m \u001b[1m8s\u001b[0m 116ms/step - accuracy: 0.9208 - loss: 0.8568 - val_accuracy: 0.6561 - val_loss: 1.5805 - learning_rate: 1.0000e-04\n",
      "Epoch 7/30\n",
      "\u001b[1m69/69\u001b[0m \u001b[32m━━━━━━━━━━━━━━━━━━━━\u001b[0m\u001b[37m\u001b[0m \u001b[1m8s\u001b[0m 114ms/step - accuracy: 0.9275 - loss: 0.8139 - val_accuracy: 0.6732 - val_loss: 1.5700 - learning_rate: 1.0000e-04\n",
      "Epoch 8/30\n",
      "\u001b[1m69/69\u001b[0m \u001b[32m━━━━━━━━━━━━━━━━━━━━\u001b[0m\u001b[37m\u001b[0m \u001b[1m8s\u001b[0m 114ms/step - accuracy: 0.9405 - loss: 0.7613 - val_accuracy: 0.6585 - val_loss: 1.6690 - learning_rate: 1.0000e-04\n",
      "Epoch 9/30\n",
      "\u001b[1m69/69\u001b[0m \u001b[32m━━━━━━━━━━━━━━━━━━━━\u001b[0m\u001b[37m\u001b[0m \u001b[1m8s\u001b[0m 114ms/step - accuracy: 0.9458 - loss: 0.7341 - val_accuracy: 0.6512 - val_loss: 1.5530 - learning_rate: 1.0000e-04\n",
      "Epoch 10/30\n",
      "\u001b[1m69/69\u001b[0m \u001b[32m━━━━━━━━━━━━━━━━━━━━\u001b[0m\u001b[37m\u001b[0m \u001b[1m8s\u001b[0m 112ms/step - accuracy: 0.9464 - loss: 0.7174 - val_accuracy: 0.6561 - val_loss: 1.5878 - learning_rate: 1.0000e-04\n",
      "Epoch 11/30\n",
      "\u001b[1m69/69\u001b[0m \u001b[32m━━━━━━━━━━━━━━━━━━━━\u001b[0m\u001b[37m\u001b[0m \u001b[1m8s\u001b[0m 113ms/step - accuracy: 0.9442 - loss: 0.6919 - val_accuracy: 0.6878 - val_loss: 1.6202 - learning_rate: 1.0000e-04\n",
      "Epoch 12/30\n",
      "\u001b[1m69/69\u001b[0m \u001b[32m━━━━━━━━━━━━━━━━━━━━\u001b[0m\u001b[37m\u001b[0m \u001b[1m8s\u001b[0m 114ms/step - accuracy: 0.9553 - loss: 0.6772 - val_accuracy: 0.6659 - val_loss: 1.6561 - learning_rate: 1.0000e-04\n",
      "Epoch 13/30\n",
      "\u001b[1m69/69\u001b[0m \u001b[32m━━━━━━━━━━━━━━━━━━━━\u001b[0m\u001b[37m\u001b[0m \u001b[1m8s\u001b[0m 115ms/step - accuracy: 0.9741 - loss: 0.6162 - val_accuracy: 0.7073 - val_loss: 1.4206 - learning_rate: 5.0000e-05\n",
      "Epoch 14/30\n",
      "\u001b[1m69/69\u001b[0m \u001b[32m━━━━━━━━━━━━━━━━━━━━\u001b[0m\u001b[37m\u001b[0m \u001b[1m8s\u001b[0m 113ms/step - accuracy: 0.9905 - loss: 0.5701 - val_accuracy: 0.6951 - val_loss: 1.4580 - learning_rate: 5.0000e-05\n",
      "Epoch 15/30\n",
      "\u001b[1m69/69\u001b[0m \u001b[32m━━━━━━━━━━━━━━━━━━━━\u001b[0m\u001b[37m\u001b[0m \u001b[1m8s\u001b[0m 116ms/step - accuracy: 0.9838 - loss: 0.5590 - val_accuracy: 0.7049 - val_loss: 1.4137 - learning_rate: 5.0000e-05\n",
      "Epoch 16/30\n",
      "\u001b[1m69/69\u001b[0m \u001b[32m━━━━━━━━━━━━━━━━━━━━\u001b[0m\u001b[37m\u001b[0m \u001b[1m8s\u001b[0m 116ms/step - accuracy: 0.9950 - loss: 0.5348 - val_accuracy: 0.7073 - val_loss: 1.3787 - learning_rate: 5.0000e-05\n",
      "Epoch 17/30\n",
      "\u001b[1m69/69\u001b[0m \u001b[32m━━━━━━━━━━━━━━━━━━━━\u001b[0m\u001b[37m\u001b[0m \u001b[1m8s\u001b[0m 113ms/step - accuracy: 0.9852 - loss: 0.5440 - val_accuracy: 0.7195 - val_loss: 1.3960 - learning_rate: 5.0000e-05\n",
      "Epoch 18/30\n",
      "\u001b[1m69/69\u001b[0m \u001b[32m━━━━━━━━━━━━━━━━━━━━\u001b[0m\u001b[37m\u001b[0m \u001b[1m8s\u001b[0m 115ms/step - accuracy: 0.9925 - loss: 0.5245 - val_accuracy: 0.7098 - val_loss: 1.3714 - learning_rate: 5.0000e-05\n",
      "Epoch 19/30\n",
      "\u001b[1m69/69\u001b[0m \u001b[32m━━━━━━━━━━━━━━━━━━━━\u001b[0m\u001b[37m\u001b[0m \u001b[1m8s\u001b[0m 114ms/step - accuracy: 0.9950 - loss: 0.4977 - val_accuracy: 0.7000 - val_loss: 1.4062 - learning_rate: 5.0000e-05\n",
      "Epoch 20/30\n",
      "\u001b[1m69/69\u001b[0m \u001b[32m━━━━━━━━━━━━━━━━━━━━\u001b[0m\u001b[37m\u001b[0m \u001b[1m8s\u001b[0m 114ms/step - accuracy: 0.9968 - loss: 0.4844 - val_accuracy: 0.6976 - val_loss: 1.3843 - learning_rate: 5.0000e-05\n",
      "Epoch 21/30\n",
      "\u001b[1m69/69\u001b[0m \u001b[32m━━━━━━━━━━━━━━━━━━━━\u001b[0m\u001b[37m\u001b[0m \u001b[1m8s\u001b[0m 114ms/step - accuracy: 0.9960 - loss: 0.4795 - val_accuracy: 0.7049 - val_loss: 1.3357 - learning_rate: 5.0000e-05\n",
      "Epoch 22/30\n",
      "\u001b[1m69/69\u001b[0m \u001b[32m━━━━━━━━━━━━━━━━━━━━\u001b[0m\u001b[37m\u001b[0m \u001b[1m8s\u001b[0m 113ms/step - accuracy: 0.9936 - loss: 0.4700 - val_accuracy: 0.7024 - val_loss: 1.4125 - learning_rate: 5.0000e-05\n",
      "Epoch 23/30\n",
      "\u001b[1m69/69\u001b[0m \u001b[32m━━━━━━━━━━━━━━━━━━━━\u001b[0m\u001b[37m\u001b[0m \u001b[1m8s\u001b[0m 113ms/step - accuracy: 0.9942 - loss: 0.4626 - val_accuracy: 0.7146 - val_loss: 1.3440 - learning_rate: 5.0000e-05\n",
      "Epoch 24/30\n",
      "\u001b[1m69/69\u001b[0m \u001b[32m━━━━━━━━━━━━━━━━━━━━\u001b[0m\u001b[37m\u001b[0m \u001b[1m8s\u001b[0m 115ms/step - accuracy: 0.9949 - loss: 0.4496 - val_accuracy: 0.7195 - val_loss: 1.2966 - learning_rate: 5.0000e-05\n",
      "Epoch 25/30\n",
      "\u001b[1m69/69\u001b[0m \u001b[32m━━━━━━━━━━━━━━━━━━━━\u001b[0m\u001b[37m\u001b[0m \u001b[1m8s\u001b[0m 113ms/step - accuracy: 0.9915 - loss: 0.4482 - val_accuracy: 0.7268 - val_loss: 1.2964 - learning_rate: 5.0000e-05\n",
      "Epoch 26/30\n",
      "\u001b[1m69/69\u001b[0m \u001b[32m━━━━━━━━━━━━━━━━━━━━\u001b[0m\u001b[37m\u001b[0m \u001b[1m8s\u001b[0m 115ms/step - accuracy: 0.9976 - loss: 0.4256 - val_accuracy: 0.7220 - val_loss: 1.2750 - learning_rate: 5.0000e-05\n",
      "Epoch 27/30\n",
      "\u001b[1m69/69\u001b[0m \u001b[32m━━━━━━━━━━━━━━━━━━━━\u001b[0m\u001b[37m\u001b[0m \u001b[1m8s\u001b[0m 114ms/step - accuracy: 0.9992 - loss: 0.4232 - val_accuracy: 0.7293 - val_loss: 1.2907 - learning_rate: 5.0000e-05\n",
      "Epoch 28/30\n",
      "\u001b[1m69/69\u001b[0m \u001b[32m━━━━━━━━━━━━━━━━━━━━\u001b[0m\u001b[37m\u001b[0m \u001b[1m8s\u001b[0m 114ms/step - accuracy: 0.9885 - loss: 0.4399 - val_accuracy: 0.6829 - val_loss: 1.4181 - learning_rate: 5.0000e-05\n",
      "Epoch 29/30\n",
      "\u001b[1m69/69\u001b[0m \u001b[32m━━━━━━━━━━━━━━━━━━━━\u001b[0m\u001b[37m\u001b[0m \u001b[1m8s\u001b[0m 114ms/step - accuracy: 0.9925 - loss: 0.4279 - val_accuracy: 0.7171 - val_loss: 1.3069 - learning_rate: 5.0000e-05\n",
      "Epoch 30/30\n",
      "\u001b[1m69/69\u001b[0m \u001b[32m━━━━━━━━━━━━━━━━━━━━\u001b[0m\u001b[37m\u001b[0m \u001b[1m8s\u001b[0m 115ms/step - accuracy: 0.9959 - loss: 0.4028 - val_accuracy: 0.7268 - val_loss: 1.2621 - learning_rate: 2.5000e-05\n",
      "\n",
      "Evaluating VGG19+LSTM model on test set...\n",
      "Total 512 videos and 512 classes\n",
      "test_gen batch videos shape: (24, 5, 128, 128, 3)\n",
      "test_gen batch labels shape: (24, 16)\n",
      "\u001b[1m22/22\u001b[0m \u001b[32m━━━━━━━━━━━━━━━━━━━━\u001b[0m\u001b[37m\u001b[0m \u001b[1m2s\u001b[0m 85ms/step - accuracy: 0.7738 - loss: 1.0924\n",
      "VGG19+LSTM Test Loss: 1.1796\n",
      "VGG19+LSTM Test Accuracy: 75.00%\n"
     ]
    }
   ],
   "source": [
    "\n",
    "# Unfreeze some layers for fine-tuning\n",
    "base_model.trainable = True\n",
    "# Freeze all layers except the last 8 layers (consistent with previous VGG19 code)\n",
    "for layer in base_model.layers[:-8]:\n",
    "    layer.trainable = False\n",
    "\n",
    "# Recompile the model with a lower learning rate for fine-tuning\n",
    "model.compile(\n",
    "    loss='categorical_crossentropy',\n",
    "    optimizer=tf.keras.optimizers.Adam(learning_rate=0.0001),  # Lower learning rate for fine-tuning\n",
    "    metrics=['accuracy']\n",
    ")\n",
    "\n",
    "# Fine-tune the model\n",
    "print(f\"\\nFine-tuning started for VGG19+LSTM model with {len(train_gen.videos)} videos of {NO_OF_CLASSES} classes with {len(val_gen.videos)} videos for validation...\")\n",
    "try:\n",
    "    fine_tune_model_history = model.fit(\n",
    "        train_gen.as_dataset(),\n",
    "        validation_data=val_gen.as_dataset(),\n",
    "        epochs=EPOCHS,\n",
    "        class_weight=class_weights,\n",
    "        callbacks=[early_stopping_callback, lr_scheduler]\n",
    "    )\n",
    "except Exception as e:\n",
    "    print(f\"Error during fine-tuning: {str(e)}\")\n",
    "    import traceback\n",
    "    traceback.print_exc()\n",
    "\n",
    "# Evaluate the model on the test set\n",
    "print(\"\\nEvaluating VGG19+LSTM model on test set...\")\n",
    "test_gen = VideoDataGenerator(\n",
    "    videos=features_test,\n",
    "    labels=labels_test,\n",
    "    batch_size=BATCH_SIZE\n",
    ")\n",
    "try:\n",
    "    videos, labels = test_gen[0]\n",
    "    print(f\"test_gen batch videos shape: {videos.shape}\")\n",
    "    print(f\"test_gen batch labels shape: {labels.shape}\")\n",
    "    loss, accuracy = model.evaluate(test_gen.as_dataset())\n",
    "    print(f'VGG19+LSTM Test Loss: {loss:.4f}')\n",
    "    print(f'VGG19+LSTM Test Accuracy: {accuracy * 100:.2f}%')\n",
    "except Exception as e:\n",
    "    print(f\"Error during model evaluation: {str(e)}\")\n",
    "    import traceback\n",
    "    traceback.print_exc()\n"
   ]
  },
  {
   "cell_type": "code",
   "execution_count": 43,
   "id": "e570cb87",
   "metadata": {
    "execution": {
     "iopub.execute_input": "2025-07-11T09:53:26.090682Z",
     "iopub.status.busy": "2025-07-11T09:53:26.090393Z",
     "iopub.status.idle": "2025-07-11T09:53:43.700086Z",
     "shell.execute_reply": "2025-07-11T09:53:43.699208Z"
    },
    "papermill": {
     "duration": 17.81258,
     "end_time": "2025-07-11T09:53:43.701666",
     "exception": false,
     "start_time": "2025-07-11T09:53:25.889086",
     "status": "completed"
    },
    "tags": []
   },
   "outputs": [
    {
     "data": {
      "image/png": "[encoded data removed]",
      "text/plain": [
       "<Figure size 1200x500 with 2 Axes>"
      ]
     },
     "metadata": {},
     "output_type": "display_data"
    },
    {
     "name": "stdout",
     "output_type": "stream",
     "text": [
      "\u001b[1m22/22\u001b[0m \u001b[32m━━━━━━━━━━━━━━━━━━━━\u001b[0m\u001b[37m\u001b[0m \u001b[1m16s\u001b[0m 412ms/step\n",
      "True classes shape: (512,)\n",
      "Predicted classes shape: (512,)\n",
      "\n",
      "VGG19+LSTM Classification Report:\n",
      "                    precision    recall  f1-score   support\n",
      "\n",
      "  write on a paper       0.43      0.45      0.44        29\n",
      "        use laptop       0.78      0.86      0.82        36\n",
      "         read book       0.51      0.62      0.56        29\n",
      "         sit still       0.53      0.49      0.51        37\n",
      "             drink       0.58      0.54      0.56        35\n",
      "          sit down       1.00      0.95      0.97        38\n",
      "use vacuum cleaner       0.93      1.00      0.97        28\n",
      "               eat       0.91      0.75      0.82        28\n",
      "       play guitar       0.93      0.95      0.94        39\n",
      "  lie down on sofa       0.97      1.00      0.98        28\n",
      "          stand up       1.00      0.94      0.97        36\n",
      "        toss paper       0.54      0.46      0.50        28\n",
      "              walk       0.97      1.00      0.98        30\n",
      "         play game       0.59      0.65      0.62        26\n",
      "          cheer up       0.82      0.73      0.77        37\n",
      "    call cellphone       0.45      0.50      0.47        28\n",
      "\n",
      "          accuracy                           0.75       512\n",
      "         macro avg       0.75      0.74      0.74       512\n",
      "      weighted avg       0.75      0.75      0.75       512\n",
      "\n"
     ]
    },
    {
     "name": "stderr",
     "output_type": "stream",
     "text": [
      "/usr/local/lib/python3.11/dist-packages/keras/src/trainers/epoch_iterator.py:151: UserWarning: Your input ran out of data; interrupting training. Make sure that your dataset or generator can generate at least `steps_per_epoch * epochs` batches. You may need to use the `.repeat()` function when building your dataset.\n",
      "  self._interrupted_warning()\n"
     ]
    },
    {
     "data": {
      "image/png": "[encoded data removed]",
      "text/plain": [
       "<Figure size 800x600 with 2 Axes>"
      ]
     },
     "metadata": {},
     "output_type": "display_data"
    }
   ],
   "source": [
    "\n",
    "# Plot training history (combine initial and fine-tuning)\n",
    "import matplotlib.pyplot as plt\n",
    "\n",
    "try:\n",
    "    # Combine histories\n",
    "    history_accuracy = initial_model_history.history['accuracy'] + fine_tune_model_history.history['accuracy']\n",
    "    history_val_accuracy = initial_model_history.history['val_accuracy'] + fine_tune_model_history.history['val_accuracy']\n",
    "    history_loss = initial_model_history.history['loss'] + fine_tune_model_history.history['loss']\n",
    "    history_val_loss = initial_model_history.history['val_loss'] + fine_tune_model_history.history['val_loss']\n",
    "\n",
    "    plt.figure(figsize=(12, 5))\n",
    "\n",
    "    # Accuracy\n",
    "    plt.subplot(1, 2, 1)\n",
    "    plt.plot(history_accuracy, label='Train Accuracy')\n",
    "    plt.plot(history_val_accuracy, label='Validation Accuracy')\n",
    "    plt.axvline(x=len(initial_model_history.history['accuracy']), color='r', linestyle='--', label='Start Fine-Tuning')\n",
    "    plt.title('VGG19+LSTM Model Accuracy')\n",
    "    plt.xlabel('Epoch')\n",
    "    plt.ylabel('Accuracy')\n",
    "    plt.legend()\n",
    "\n",
    "    # Loss\n",
    "    plt.subplot(1, 2, 2)\n",
    "    plt.plot(history_loss, label='Train Loss')\n",
    "    plt.plot(history_val_loss, label='Validation Loss')\n",
    "    plt.axvline(x=len(initial_model_history.history['loss']), color='r', linestyle='--', label='Start Fine-Tuning')\n",
    "    plt.title('VGG19+LSTM Model Loss')\n",
    "    plt.xlabel('Epoch')\n",
    "    plt.ylabel('Loss')\n",
    "    plt.legend()\n",
    "\n",
    "    plt.tight_layout()\n",
    "    plt.show()\n",
    "except Exception as e:\n",
    "    print(f\"Error plotting training history: {str(e)}\")\n",
    "\n",
    "# Generate confusion matrix and classification report\n",
    "from sklearn.metrics import classification_report, confusion_matrix\n",
    "import seaborn as sns\n",
    "\n",
    "# Get predictions\n",
    "try:\n",
    "    predictions = model.predict(test_gen.as_dataset())\n",
    "    predicted_classes = np.argmax(predictions, axis=1)\n",
    "    true_classes = np.argmax(labels_test, axis=1)\n",
    "\n",
    "    # Verify shapes\n",
    "    print(f\"True classes shape: {true_classes.shape}\")\n",
    "    print(f\"Predicted classes shape: {predicted_classes.shape}\")\n",
    "    assert len(true_classes) == len(predicted_classes), \"Sample counts do not match!\"\n",
    "\n",
    "    # Generate classification report\n",
    "    print(\"\\nVGG19+LSTM Classification Report:\")\n",
    "    print(classification_report(true_classes, predicted_classes, target_names=CLASSES_LIST))\n",
    "\n",
    "    # Plot confusion matrix\n",
    "    cm = confusion_matrix(true_classes, predicted_classes)\n",
    "    plt.figure(figsize=(8, 6))\n",
    "    sns.heatmap(cm, annot=True, fmt='d', cmap='Blues', xticklabels=CLASSES_LIST, yticklabels=CLASSES_LIST)\n",
    "    plt.xlabel('Predicted')\n",
    "    plt.ylabel('True')\n",
    "    plt.title('VGG19+LSTM Confusion Matrix')\n",
    "    plt.show()\n",
    "except Exception as e:\n",
    "    print(f\"Error during prediction or plotting: {str(e)}\")\n",
    "    import traceback\n",
    "    traceback.print_exc()"
   ]
  },
  {
   "cell_type": "code",
   "execution_count": 44,
   "id": "e82122b2",
   "metadata": {
    "execution": {
     "iopub.execute_input": "2025-07-11T09:53:44.101460Z",
     "iopub.status.busy": "2025-07-11T09:53:44.100922Z",
     "iopub.status.idle": "2025-07-11T09:53:47.446115Z",
     "shell.execute_reply": "2025-07-11T09:53:47.445369Z"
    },
    "papermill": {
     "duration": 3.54383,
     "end_time": "2025-07-11T09:53:47.447480",
     "exception": false,
     "start_time": "2025-07-11T09:53:43.903650",
     "status": "completed"
    },
    "tags": []
   },
   "outputs": [
    {
     "name": "stdout",
     "output_type": "stream",
     "text": [
      "\u001b[1m16/16\u001b[0m \u001b[32m━━━━━━━━━━━━━━━━━━━━\u001b[0m\u001b[37m\u001b[0m \u001b[1m2s\u001b[0m 94ms/step - accuracy: 0.7749 - loss: 1.0942\n"
     ]
    }
   ],
   "source": [
    "# previous code\n",
    "model_evaluation_history = model.evaluate(features_test, labels_test)"
   ]
  }
 ],
 "metadata": {
  "kaggle": {
   "accelerator": "nvidiaTeslaT4",
   "dataSources": [
    {
     "datasetId": 1357563,
     "sourceId": 2256095,
     "sourceType": "datasetVersion"
    },
    {
     "datasetId": 7763484,
     "sourceId": 12338519,
     "sourceType": "datasetVersion"
    },
    {
     "datasetId": 7801555,
     "sourceId": 12373067,
     "sourceType": "datasetVersion"
    },
    {
     "datasetId": 7801884,
     "sourceId": 12373562,
     "sourceType": "datasetVersion"
    }
   ],
   "dockerImageVersionId": 31090,
   "isGpuEnabled": true,
   "isInternetEnabled": true,
   "language": "python",
   "sourceType": "notebook"
  },
  "kernelspec": {
   "display_name": "Python 3",
   "language": "python",
   "name": "python3"
  },
  "language_info": {
   "codemirror_mode": {
    "name": "ipython",
    "version": 3
   },
   "file_extension": ".py",
   "mimetype": "text/x-python",
   "name": "python",
   "nbconvert_exporter": "python",
   "pygments_lexer": "ipython3",
   "version": "3.11.13"
  },
  "papermill": {
   "default_parameters": {},
   "duration": 712.549878,
   "end_time": "2025-07-11T09:53:51.524127",
   "environment_variables": {},
   "exception": null,
   "input_path": "__notebook__.ipynb",
   "output_path": "__notebook__.ipynb",
   "parameters": {},
   "start_time": "2025-07-11T09:41:58.974249",
   "version": "2.6.0"
  }
 },
 "nbformat": 4,
 "nbformat_minor": 5
}
