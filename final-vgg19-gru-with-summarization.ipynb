{
 "cells": [
  {
   "cell_type": "markdown",
   "id": "5bf248d6",
   "metadata": {
    "papermill": {
     "duration": 0.011557,
     "end_time": "2025-07-12T16:36:41.841354",
     "exception": false,
     "start_time": "2025-07-12T16:36:41.829797",
     "status": "completed"
    },
    "tags": []
   },
   "source": [
    "# Initialization\n",
    "## Import Libraries"
   ]
  },
  {
   "cell_type": "code",
   "execution_count": 1,
   "id": "fc02e476",
   "metadata": {
    "_cell_guid": "b1076dfc-b9ad-4769-8c92-a6c4dae69d19",
    "_uuid": "8f2839f25d086af736a60e9eeb907d3b93b6e0e5",
    "execution": {
     "iopub.execute_input": "2025-07-12T16:36:41.862469Z",
     "iopub.status.busy": "2025-07-12T16:36:41.862267Z",
     "iopub.status.idle": "2025-07-12T16:36:56.935539Z",
     "shell.execute_reply": "2025-07-12T16:36:56.934759Z"
    },
    "papermill": {
     "duration": 15.085775,
     "end_time": "2025-07-12T16:36:56.937053",
     "exception": false,
     "start_time": "2025-07-12T16:36:41.851278",
     "status": "completed"
    },
    "tags": []
   },
   "outputs": [
    {
     "name": "stderr",
     "output_type": "stream",
     "text": [
      "2025-07-12 16:36:43.756321: E external/local_xla/xla/stream_executor/cuda/cuda_fft.cc:477] Unable to register cuFFT factory: Attempting to register factory for plugin cuFFT when one has already been registered\n",
      "WARNING: All log messages before absl::InitializeLog() is called are written to STDERR\n",
      "E0000 00:00:1752338203.968226      19 cuda_dnn.cc:8310] Unable to register cuDNN factory: Attempting to register factory for plugin cuDNN when one has already been registered\n",
      "E0000 00:00:1752338204.031365      19 cuda_blas.cc:1418] Unable to register cuBLAS factory: Attempting to register factory for plugin cuBLAS when one has already been registered\n"
     ]
    }
   ],
   "source": [
    "# install librarires\n",
    "import os\n",
    "import tensorflow as tf\n",
    "import numpy as np\n",
    "import random"
   ]
  },
  {
   "cell_type": "markdown",
   "id": "1bbbbaf8",
   "metadata": {
    "papermill": {
     "duration": 0.009671,
     "end_time": "2025-07-12T16:36:56.957075",
     "exception": false,
     "start_time": "2025-07-12T16:36:56.947404",
     "status": "completed"
    },
    "tags": []
   },
   "source": [
    "## ℹ️ Set Global Constants"
   ]
  },
  {
   "cell_type": "code",
   "execution_count": 2,
   "id": "43e2d475",
   "metadata": {
    "execution": {
     "iopub.execute_input": "2025-07-12T16:36:56.977999Z",
     "iopub.status.busy": "2025-07-12T16:36:56.977320Z",
     "iopub.status.idle": "2025-07-12T16:36:56.992218Z",
     "shell.execute_reply": "2025-07-12T16:36:56.991631Z"
    },
    "papermill": {
     "duration": 0.026415,
     "end_time": "2025-07-12T16:36:56.993267",
     "exception": false,
     "start_time": "2025-07-12T16:36:56.966852",
     "status": "completed"
    },
    "tags": []
   },
   "outputs": [
    {
     "name": "stdout",
     "output_type": "stream",
     "text": [
      "Kard Kinect Activity Recognition Dataset\n",
      "There are total 18 classes, selected 18 classes\n",
      "Setting 50/class to train the model.\n",
      "Image size 128x128 with 5 sequence length\n",
      "Dropout rate: 0.5\n",
      "Train-Test split ratio 80/20\n",
      "Validation data from Train set 20.0%\n"
     ]
    }
   ],
   "source": [
    "# global variables\n",
    "# set dataset directories\n",
    "\n",
    "\n",
    "DATASET_DIR = \"/kaggle/input/kard-kinect-activity-recognition-dataset\"\n",
    "DATASET_NAME = DATASET_DIR.split(\"/\")[-1].replace(\"-\", \" \").title()\n",
    "\n",
    "print(DATASET_NAME)\n",
    "\n",
    "ALL_CLASS_NAMES = os.listdir(DATASET_DIR)\n",
    "\n",
    "# Global constant variables -> \n",
    "NO_OF_CLASSES = len(ALL_CLASS_NAMES)\n",
    "CLASSES_LIST = ALL_CLASS_NAMES[:NO_OF_CLASSES]\n",
    "\n",
    "# Model Configuration\n",
    "IMAGE_HEIGHT, IMAGE_WIDTH = 128, 128\n",
    "SEQUENCE_LENGTH = 5\n",
    "\n",
    "# set drop out rate\n",
    "DROPOUT_RATE = 0.5\n",
    "\n",
    "# set datas\n",
    "MAX_VIDEO_PER_CLASS = 50\n",
    "\n",
    "# split dataset\n",
    "TEST_SIZE = 0.20\n",
    "\n",
    "# model fit parameters\n",
    "EPOCHS = 30\n",
    "BATCH_SIZE = 24\n",
    "VALIDATION_SPLIT = 0.20\n",
    "\n",
    "# augmentation values\n",
    "NOISE_FACTOR = 0.02\n",
    "SHEAR_X= 1\n",
    "SHEAR_Y= 1\n",
    "\n",
    "# give a name of the model to save\n",
    "MODEL_NAME = \"Xception\"\n",
    "\n",
    "print(f\"There are total {len(ALL_CLASS_NAMES)} classes, selected {NO_OF_CLASSES} classes\")\n",
    "print(f\"Setting {MAX_VIDEO_PER_CLASS}/class to train the model.\")\n",
    "print(f\"Image size {IMAGE_HEIGHT}x{IMAGE_WIDTH} with {SEQUENCE_LENGTH} sequence length\")\n",
    "print(f\"Dropout rate: {DROPOUT_RATE}\")\n",
    "print(f\"Train-Test split ratio {int((1-TEST_SIZE)*100)}/{int(TEST_SIZE*100)}\")\n",
    "print(f\"Validation data from Train set {VALIDATION_SPLIT*100}%\")"
   ]
  },
  {
   "cell_type": "markdown",
   "id": "66563419",
   "metadata": {
    "papermill": {
     "duration": 0.00968,
     "end_time": "2025-07-12T16:36:57.012889",
     "exception": false,
     "start_time": "2025-07-12T16:36:57.003209",
     "status": "completed"
    },
    "tags": []
   },
   "source": [
    "## Set `Seed` Values"
   ]
  },
  {
   "cell_type": "code",
   "execution_count": 3,
   "id": "940ecbbc",
   "metadata": {
    "execution": {
     "iopub.execute_input": "2025-07-12T16:36:57.033413Z",
     "iopub.status.busy": "2025-07-12T16:36:57.033206Z",
     "iopub.status.idle": "2025-07-12T16:36:57.036787Z",
     "shell.execute_reply": "2025-07-12T16:36:57.036232Z"
    },
    "papermill": {
     "duration": 0.015166,
     "end_time": "2025-07-12T16:36:57.037802",
     "exception": false,
     "start_time": "2025-07-12T16:36:57.022636",
     "status": "completed"
    },
    "tags": []
   },
   "outputs": [],
   "source": [
    "# set seeed to get similar values\n",
    "seed_constant = 27\n",
    "np.random.seed(seed_constant)\n",
    "random.seed(seed_constant)\n",
    "tf.random.set_seed(seed_constant)"
   ]
  },
  {
   "cell_type": "markdown",
   "id": "9b90628b",
   "metadata": {
    "papermill": {
     "duration": 0.009663,
     "end_time": "2025-07-12T16:36:57.057410",
     "exception": false,
     "start_time": "2025-07-12T16:36:57.047747",
     "status": "completed"
    },
    "tags": []
   },
   "source": [
    "# 📌 Function Definition\n",
    "## Resize and Frame Extraction"
   ]
  },
  {
   "cell_type": "code",
   "execution_count": 4,
   "id": "5657d8f1",
   "metadata": {
    "execution": {
     "iopub.execute_input": "2025-07-12T16:36:57.078184Z",
     "iopub.status.busy": "2025-07-12T16:36:57.077978Z",
     "iopub.status.idle": "2025-07-12T16:36:57.524607Z",
     "shell.execute_reply": "2025-07-12T16:36:57.524085Z"
    },
    "papermill": {
     "duration": 0.458753,
     "end_time": "2025-07-12T16:36:57.525992",
     "exception": false,
     "start_time": "2025-07-12T16:36:57.067239",
     "status": "completed"
    },
    "tags": []
   },
   "outputs": [],
   "source": [
    "import matplotlib.pyplot as plt\n",
    "import os\n",
    "import cv2\n",
    "import numpy as np\n",
    "from sklearn.cluster import KMeans\n",
    "from sklearn.metrics import silhouette_score\n",
    "from skimage.metrics import structural_similarity as ssim\n",
    "\n",
    "# Placeholder for kmeans_silhouette function\n",
    "def kmeans_silhouette(sub_features):\n",
    "    if len(sub_features) < 2:\n",
    "        return [], [], 1, [0]  # Return empty results for insufficient frames\n",
    "    \n",
    "    # Try different k values (2 to min(5, len(sub_features)))\n",
    "    best_k = 2\n",
    "    best_labels = None\n",
    "    best_centers = None\n",
    "    best_score = -1\n",
    "    best_indices = []\n",
    "    \n",
    "    for k in range(2, min(6, len(sub_features) + 1)):\n",
    "        kmeans = KMeans(n_clusters=k, random_state=42, n_init='auto')\n",
    "        labels = kmeans.fit_predict(sub_features)\n",
    "        if len(np.unique(labels)) > 1:  # Silhouette score requires at least 2 clusters\n",
    "            score = silhouette_score(sub_features, labels)\n",
    "            if score > best_score:\n",
    "                best_score = score\n",
    "                best_k = k\n",
    "                best_labels = labels\n",
    "                best_centers = kmeans.cluster_centers_\n",
    "        \n",
    "        # Find indices of frames closest to cluster centers\n",
    "        indices = []\n",
    "        for i in range(best_k):\n",
    "            if i in labels:\n",
    "                cluster_points = sub_features[labels == i]\n",
    "                distances = np.linalg.norm(cluster_points - best_centers[i], axis=1)\n",
    "                if len(distances) > 0:\n",
    "                    idx = np.argmin(distances)\n",
    "                    indices.append(idx)\n",
    "    \n",
    "    return best_labels, best_centers, best_k, indices\n",
    "\n",
    "# Placeholder for redundancy function\n",
    "def redundancy(video_path, indices, threshold=0.94):\n",
    "    if not indices:\n",
    "        return []\n",
    "    \n",
    "    video_reader = cv2.VideoCapture(video_path)\n",
    "    if not video_reader.isOpened():\n",
    "        return indices\n",
    "    \n",
    "    # Compute histogram for each frame\n",
    "    def get_histogram(frame):\n",
    "        gray = cv2.cvtColor(frame, cv2.COLOR_BGR2GRAY)\n",
    "        hist = cv2.calcHist([gray], [0], None, [256], [0, 256])\n",
    "        cv2.normalize(hist, hist)\n",
    "        return hist\n",
    "    \n",
    "    filtered_indices = [indices[0]]  # Keep first index\n",
    "    prev_frame = None\n",
    "    \n",
    "    for idx in indices[1:]:\n",
    "        video_reader.set(cv2.CAP_PROP_POS_FRAMES, idx)\n",
    "        success, frame = video_reader.read()\n",
    "        if not success:\n",
    "            continue\n",
    "        hist = get_histogram(frame)\n",
    "        \n",
    "        if prev_frame is not None:\n",
    "            # Compute histogram correlation\n",
    "            corr = cv2.compareHist(get_histogram(prev_frame), hist, cv2.HISTCMP_CORREL)\n",
    "            if corr < threshold:  # Keep frame if significantly different\n",
    "                filtered_indices.append(idx)\n",
    "        prev_frame = frame\n",
    "    \n",
    "    video_reader.release()\n",
    "    return filtered_indices\n",
    "\n",
    "# Modified scen_keyframe_extraction function\n",
    "def frames_extraction(video_path,  file_name, video_index, is_last_video, num_segments=SEQUENCE_LENGTH):\n",
    "    # Open video to get frame count\n",
    "    video_reader = cv2.VideoCapture(video_path)\n",
    "    if not video_reader.isOpened():\n",
    "        raise ValueError(f\"Failed to open video {video_path}.\")\n",
    "    \n",
    "    frame_count = int(video_reader.get(cv2.CAP_PROP_FRAME_COUNT))\n",
    "    if frame_count == 0:\n",
    "        video_reader.release()\n",
    "        raise ValueError(f\"No frames in video {video_path}.\")\n",
    "    \n",
    "    # Generate synthetic scene segmentation (divide video into equal segments)\n",
    "    segment_length = frame_count // num_segments\n",
    "    number_list = []\n",
    "    for i in range(num_segments):\n",
    "        start = i * segment_length\n",
    "        end = min((i + 1) * segment_length, frame_count)\n",
    "        number_list.extend([start, end])\n",
    "\n",
    "    features = []\n",
    "    frame_idx = 0\n",
    "    \n",
    "    while True:\n",
    "        success, frame = video_reader.read()\n",
    "        if not success:\n",
    "            break\n",
    "    \n",
    "        gray = cv2.cvtColor(frame, cv2.COLOR_BGR2GRAY)\n",
    "        hist = cv2.calcHist([gray], [0], None, [256], [0, 256])\n",
    "        cv2.normalize(hist, hist)\n",
    "        features.append(hist.flatten())\n",
    "        \n",
    "        frame_idx += 1\n",
    "    \n",
    "    video_reader.release()\n",
    "    features = np.asarray(features)\n",
    "    \n",
    "    # Clustering at each shot to obtain keyframe sequence numbers\n",
    "    keyframe_index = []\n",
    "    for i in range(0, len(number_list), 2):\n",
    "        start = number_list[i]\n",
    "        end = min(number_list[i + 1], len(features))\n",
    "        if end <= start:\n",
    "            continue\n",
    "        sub_features = features[start:end]\n",
    "        best_labels, best_centers, k, indices = kmeans_silhouette(sub_features)\n",
    "        final_index = [x + start for x in indices if x + start < frame_count]\n",
    "        final_index = redundancy(video_path, final_index, 0.94)\n",
    "        keyframe_index += final_index\n",
    "    \n",
    "    keyframe_index = sorted(list(set(keyframe_index)))  # Remove duplicates and sort\n",
    "    # print(\"final_index:\", keyframe_index, end=\"\\r\", flush=True)\n",
    "    \n",
    "    # Visualize keyframes\n",
    "    num_keyframes = len(keyframe_index)\n",
    "    if num_keyframes == 0:\n",
    "        print(\"No keyframes extracted.\")\n",
    "        return\n",
    "    \n",
    "    video_reader = cv2.VideoCapture(video_path)\n",
    "    class_name = os.path.basename(os.path.dirname(video_path))\n",
    "    # print(keyframe_index)\n",
    "    frames=[]\n",
    "    frames_index=[]\n",
    "    for idx, frame_idx in enumerate(keyframe_index, 1):\n",
    "        video_reader.set(cv2.CAP_PROP_POS_FRAMES, frame_idx)\n",
    "        success, frame = video_reader.read()\n",
    "        if not success:\n",
    "            continue\n",
    "        rgb_frame = cv2.cvtColor(frame, cv2.COLOR_BGR2RGB)\n",
    "        try:\n",
    "            resized_frame = cv2.resize(rgb_frame, (IMAGE_WIDTH, IMAGE_HEIGHT), interpolation=cv2.INTER_AREA)\n",
    "            normalized_frame = resized_frame.astype('float32') / 255.0\n",
    "\n",
    "            \n",
    "            if normalized_frame.shape != (IMAGE_HEIGHT, IMAGE_WIDTH, 3):\n",
    "                print(f\"Warning: Frame at index {frame_idx} has incorrect shape: {normalized_frame.shape}\")\n",
    "                continue  # Skip malformed frame\n",
    "            if is_last_video and idx == num_keyframes:\n",
    "                print(f\"Extracted {len(frames)+1} frames from file {video_index+1}: {file_name}\", end=\"\\n\", flush=True)\n",
    "            else:\n",
    "                print(f\"Extracted {len(frames)+1} frames from file {video_index+1}: {file_name}\", end=\"\\r\", flush=True)\n",
    "                \n",
    "            frames.append(normalized_frame)\n",
    "            frames_index.append(frame_idx)\n",
    "        \n",
    "        except Exception as e:\n",
    "            print(f\"Error processing frame {frame_idx}: {e}\")\n",
    "            continue\n",
    "    video_reader.release()\n",
    "\n",
    "    # handle inhomogenous frames or shape mismatch\n",
    "    if len(frames) > SEQUENCE_LENGTH:\n",
    "        # if it is greater than sequence length then leave the last frames\n",
    "        frames=frames[:SEQUENCE_LENGTH]\n",
    "    \n",
    "    frames=np.asarray(frames)\n",
    "    frames_index=np.asarray(frames_index)\n",
    "    return frames, frames_index\n",
    "\n",
    "    \n",
    "# # Run the keyframe extraction\n",
    "# sequence, index = scen_keyframe_extraction(video_path, num_segments=5)\n",
    "\n",
    "# print(sequence.shape)\n",
    "\n",
    "# show_frames(sequence, index)"
   ]
  },
  {
   "cell_type": "markdown",
   "id": "d8f05021",
   "metadata": {
    "papermill": {
     "duration": 0.009726,
     "end_time": "2025-07-12T16:36:57.546058",
     "exception": false,
     "start_time": "2025-07-12T16:36:57.536332",
     "status": "completed"
    },
    "tags": []
   },
   "source": [
    "## Create Dataset"
   ]
  },
  {
   "cell_type": "code",
   "execution_count": 5,
   "id": "a58eb4d1",
   "metadata": {
    "execution": {
     "iopub.execute_input": "2025-07-12T16:36:57.566522Z",
     "iopub.status.busy": "2025-07-12T16:36:57.566288Z",
     "iopub.status.idle": "2025-07-12T16:36:57.573220Z",
     "shell.execute_reply": "2025-07-12T16:36:57.572524Z"
    },
    "papermill": {
     "duration": 0.01854,
     "end_time": "2025-07-12T16:36:57.574360",
     "exception": false,
     "start_time": "2025-07-12T16:36:57.555820",
     "status": "completed"
    },
    "tags": []
   },
   "outputs": [],
   "source": [
    "# RUN create dataset function definition\n",
    "def create_dataset(dataset_dir,\n",
    "                   classes_list, \n",
    "                   sequence_length=SEQUENCE_LENGTH, \n",
    "                   image_height=IMAGE_HEIGHT, \n",
    "                   image_width=IMAGE_WIDTH, \n",
    "                   max_videos_per_class=None,\n",
    "                   augmentations=False\n",
    "                  ):\n",
    "    \n",
    "    # Initialize lists to store features, labels, and video file paths\n",
    "    videos = []\n",
    "    labels = []\n",
    "\n",
    "    # Check if dataset directory exists\n",
    "    if not os.path.exists(dataset_dir):\n",
    "        raise FileNotFoundError(f\"Dataset directory not found: {dataset_dir}\")\n",
    "\n",
    "    # Iterate through all classes in the classes list\n",
    "    for class_index, class_name in enumerate(classes_list):\n",
    "        class_path = os.path.join(dataset_dir, class_name)\n",
    "        \n",
    "        # Check if class directory exists\n",
    "        if not os.path.exists(class_path):\n",
    "            print(f\"Warning: Class directory not found: {class_path}\")\n",
    "            continue\n",
    "\n",
    "        print(f'Extracting Data of Class: {class_name}')\n",
    "\n",
    "        # Get the list of video files in the class directory\n",
    "        files_list = os.listdir(class_path)\n",
    "\n",
    "        # Limit the number of videos if specified\n",
    "        if max_videos_per_class is not None:\n",
    "            files_list = files_list[:max_videos_per_class]\n",
    "\n",
    "        # Iterate through all video files\n",
    "        is_last_video=False\n",
    "        for (index, file_name) in enumerate(files_list):\n",
    "            video_file_path = os.path.join(class_path, file_name)\n",
    "\n",
    "            if index == (len(files_list)-1):\n",
    "                is_last_video=True\n",
    "                # print(f'Extracting frames from file {index+1}: {file_name}', flush=True)\n",
    "            else:\n",
    "                is_last_video=False\n",
    "                # print(f'Extracting frames from file {index+1}: {file_name}', end=\"\\r\", flush=True)\n",
    "            \n",
    "            # Extract frames using the updated frames_extraction function\n",
    "            # frames = frames_extraction(video_file_path, \n",
    "            #                            sequence_length, \n",
    "            #                            image_height, \n",
    "            #                            image_width)\n",
    "            frames, index = frames_extraction(video_path=video_file_path, \n",
    "                                                     file_name=file_name,\n",
    "                                                     video_index=index,\n",
    "                                                     is_last_video=is_last_video,\n",
    "                                                     num_segments=SEQUENCE_LENGTH)\n",
    "\n",
    "            # Skip videos where frame extraction failed\n",
    "            if frames is None:\n",
    "                print(f\"Skipping video {video_file_path} due to frame extraction failure\")\n",
    "                continue\n",
    "\n",
    "            # Append the data to respective lists\n",
    "            videos.append(frames)\n",
    "            labels.append(class_index)\n",
    "\n",
    "    # Convert lists to numpy arrays\n",
    "    if not videos:\n",
    "        raise ValueError(\"No valid videos were processed. Check dataset or parameters.\")\n",
    "    videos = np.asarray(videos)\n",
    "    labels = np.array(labels)\n",
    "\n",
    "    print(f\"Dataset created with {len(videos)} videos\")\n",
    "    print(f\"Features shape: {videos.shape}\")\n",
    "    print(f\"Labels shape: {labels.shape}\")\n",
    "\n",
    "    return videos, labels"
   ]
  },
  {
   "cell_type": "markdown",
   "id": "a66456d7",
   "metadata": {
    "papermill": {
     "duration": 0.009582,
     "end_time": "2025-07-12T16:36:57.593651",
     "exception": false,
     "start_time": "2025-07-12T16:36:57.584069",
     "status": "completed"
    },
    "tags": []
   },
   "source": [
    "## 🪄 Video Data Generator"
   ]
  },
  {
   "cell_type": "code",
   "execution_count": 6,
   "id": "0f77b0ba",
   "metadata": {
    "execution": {
     "iopub.execute_input": "2025-07-12T16:36:57.614043Z",
     "iopub.status.busy": "2025-07-12T16:36:57.613830Z",
     "iopub.status.idle": "2025-07-12T16:36:57.677120Z",
     "shell.execute_reply": "2025-07-12T16:36:57.676441Z"
    },
    "papermill": {
     "duration": 0.074926,
     "end_time": "2025-07-12T16:36:57.678323",
     "exception": false,
     "start_time": "2025-07-12T16:36:57.603397",
     "status": "completed"
    },
    "tags": []
   },
   "outputs": [],
   "source": [
    "from tensorflow.keras.utils import Sequence, to_categorical\n",
    "import tensorflow as tf\n",
    "import numpy as np\n",
    "import cv2\n",
    "\n",
    "\n",
    "\n",
    "\n",
    "class VideoDataGenerator(Sequence):\n",
    "    def __init__(self, videos, labels, batch_size, is_training=False):\n",
    "        self.videos = list(videos)  # List of video file paths\n",
    "        self.labels = list(labels)  # List or array of labels encoded\n",
    "        self.batch_size = batch_size\n",
    "        self.indices = np.arange(len(self.videos))  # For shuffling\n",
    "        self.is_training = is_training  # Flag to control whether augmentation is applied\n",
    "        self.temp_videos=[]\n",
    "        self.temp_labels=[]\n",
    "        \n",
    "        \n",
    "        print(f\"Total {len(videos)} videos and {len(labels)} classes\")\n",
    "\n",
    "    def __len__(self):\n",
    "        # Return the number of batches per epoch\n",
    "        return int(np.ceil(len(self.videos) / self.batch_size))\n",
    "\n",
    "    def __getitem__(self, idx):\n",
    "        # Get batch indices\n",
    "        batch_indices = self.indices[idx * self.batch_size:(idx + 1) * self.batch_size]\n",
    "        \n",
    "        # Handle case where batch_indices is empty\n",
    "        if len(batch_indices) == 0:\n",
    "            return np.array([], dtype=np.float32), np.array([], dtype=np.float32)\n",
    "        \n",
    "        # Initialize lists to store frames and labels\n",
    "        all_frames = []\n",
    "        all_labels = []\n",
    "        \n",
    "        # Process each video in the batch\n",
    "        for i, index in enumerate(batch_indices):\n",
    "            sequence = self.videos[index]\n",
    "            label = self.labels[index]\n",
    "            \n",
    "            # Load and process video\n",
    "            # sequence = frames_extraction(video_path)\n",
    "\n",
    "            # if sequence is not None:\n",
    "            #     # Apply augmentations: 1 original + 4 augmentations (horizontal flip, shear, rotation, noise)\n",
    "            #     augmented_sequences = [sequence]  # Add original sequence\n",
    "\n",
    "            #     if self.is_training:\n",
    "            #         # Apply augmentations\n",
    "            #         augmented_sequences.append(np.array(horizontal_flip(sequence)))  # Horizontal Flip\n",
    "            #         augmented_sequences.append(np.array(apply_shear_frames(sequence, shear_right=0)))  # Random Shear\n",
    "            #         augmented_sequences.append(np.array(apply_shear_frames(sequence, shear_right=1)))  # Random Rotation\n",
    "            #         augmented_sequences.append(np.array(noise_video(sequence)))  # Salt and Pepper Noise\n",
    "\n",
    "            #     # Add augmented sequences to the batch\n",
    "            #     all_frames.extend(augmented_sequences)\n",
    "            #     all_labels.extend([label] * len(augmented_sequences))  # Each augmentation has the same label\n",
    "\n",
    "            \n",
    "            # Append the sequence and label\n",
    "            all_frames.append(sequence)\n",
    "            all_labels.append(label)\n",
    "        \n",
    "        # Convert to numpy arrays\n",
    "        all_frames = np.array(all_frames, dtype=np.float32)\n",
    "        all_labels = np.array(all_labels)\n",
    "            \n",
    "        \n",
    "        return all_frames, all_labels\n",
    "    def add(self, new_videos, new_labels):\n",
    "        self.temp_videos.extend(new_videos)\n",
    "        self.temp_labels.extend(new_labels)\n",
    "    \n",
    "    def confirm(self):\n",
    "        print(f\"Adding {len(self.temp_videos)} videos with {len(self.temp_labels)} classes.\")\n",
    "        self.videos.extend(self.temp_videos)\n",
    "        self.labels.extend(self.temp_labels)\n",
    "        print(f\"Successfully added - {len(self.temp_videos)} videos and {len(self.temp_labels)} classes.\")\n",
    "        self.temp_videos=[]\n",
    "        self.temp_labels=[]\n",
    "        self.indices = np.arange(len(self.videos))\n",
    "        print(f\"Now Total - {len(self.videos)} videos and {len(self.labels)} classes.\")\n",
    "        print(f\"PENDING for Augmentations - {len(self.temp_videos)} videos and {len(self.temp_labels)} classes.\")\n",
    "    \n",
    "    def on_epoch_end(self):\n",
    "        # Shuffle indices at the end of each epoch\n",
    "        np.random.shuffle(self.indices)\n",
    "\n",
    "    def as_dataset(self):\n",
    "        def generator():\n",
    "            for idx in range(len(self)):\n",
    "                frames, labels = self[idx]\n",
    "                # Skip empty batches\n",
    "                if frames.size == 0:\n",
    "                    continue\n",
    "                yield frames, labels\n",
    "        self.labels=np.array(self.labels)\n",
    "    \n",
    "        # Create a tf.data.Dataset\n",
    "        dataset = tf.data.Dataset.from_generator(\n",
    "            generator,\n",
    "            output_types=(tf.float32, tf.float32),\n",
    "            output_shapes=(\n",
    "                (None, SEQUENCE_LENGTH, IMAGE_HEIGHT, IMAGE_WIDTH, 3),\n",
    "                (None, NO_OF_CLASSES)\n",
    "            )\n",
    "        )\n",
    "        dataset = dataset.prefetch(tf.data.AUTOTUNE)\n",
    "        return dataset"
   ]
  },
  {
   "cell_type": "markdown",
   "id": "eccc0f97",
   "metadata": {
    "papermill": {
     "duration": 0.009904,
     "end_time": "2025-07-12T16:36:57.740587",
     "exception": false,
     "start_time": "2025-07-12T16:36:57.730683",
     "status": "completed"
    },
    "tags": []
   },
   "source": [
    "## Debug and Helpers"
   ]
  },
  {
   "cell_type": "markdown",
   "id": "fb5cfa1d",
   "metadata": {
    "papermill": {
     "duration": 0.009733,
     "end_time": "2025-07-12T16:36:57.760184",
     "exception": false,
     "start_time": "2025-07-12T16:36:57.750451",
     "status": "completed"
    },
    "tags": []
   },
   "source": [
    "## 💫 Augmentation Helper function"
   ]
  },
  {
   "cell_type": "code",
   "execution_count": 7,
   "id": "f11d1f13",
   "metadata": {
    "execution": {
     "iopub.execute_input": "2025-07-12T16:36:57.781227Z",
     "iopub.status.busy": "2025-07-12T16:36:57.780674Z",
     "iopub.status.idle": "2025-07-12T16:36:57.785269Z",
     "shell.execute_reply": "2025-07-12T16:36:57.784747Z"
    },
    "papermill": {
     "duration": 0.016203,
     "end_time": "2025-07-12T16:36:57.786280",
     "exception": false,
     "start_time": "2025-07-12T16:36:57.770077",
     "status": "completed"
    },
    "tags": []
   },
   "outputs": [],
   "source": [
    "import time\n",
    "\n",
    "    \n",
    "\n",
    "def apply_augmentation(augmentation_function, generator, confirm=False, *args, **kwargs):\n",
    "    \n",
    "    for i in range(len(generator)):\n",
    "        batch_videos, batch_labels = generator[i]\n",
    "        augmented_videos=[]\n",
    "        for videos in batch_videos:\n",
    "            augmented_videos.append(augmentation_function(videos, *args, **kwargs))\n",
    "        generator.add(augmented_videos, batch_labels)\n",
    "        print(f\"Processing video {len(generator.temp_videos)}...\", end=\"\\r\", flush=True)\n",
    "        time.sleep(0.5)  # simulate work\n",
    "    if confirm:\n",
    "        generator.confirm()"
   ]
  },
  {
   "cell_type": "markdown",
   "id": "06fce094",
   "metadata": {
    "papermill": {
     "duration": 0.009667,
     "end_time": "2025-07-12T16:36:57.805791",
     "exception": false,
     "start_time": "2025-07-12T16:36:57.796124",
     "status": "completed"
    },
    "tags": []
   },
   "source": [
    "### Show Frames"
   ]
  },
  {
   "cell_type": "code",
   "execution_count": 8,
   "id": "324b4944",
   "metadata": {
    "execution": {
     "iopub.execute_input": "2025-07-12T16:36:57.826591Z",
     "iopub.status.busy": "2025-07-12T16:36:57.826407Z",
     "iopub.status.idle": "2025-07-12T16:36:57.830099Z",
     "shell.execute_reply": "2025-07-12T16:36:57.829490Z"
    },
    "papermill": {
     "duration": 0.015222,
     "end_time": "2025-07-12T16:36:57.831198",
     "exception": false,
     "start_time": "2025-07-12T16:36:57.815976",
     "status": "completed"
    },
    "tags": []
   },
   "outputs": [],
   "source": [
    "# show frame def\n",
    "import matplotlib.pyplot as plt\n",
    "\n",
    "def show_frame(frame):\n",
    "    plt.figure(figsize=(3,3))\n",
    "    plt.imshow(frame)\n",
    "    plt.axis(\"off\")\n",
    "    plt.tight_layout()"
   ]
  },
  {
   "cell_type": "markdown",
   "id": "54146112",
   "metadata": {
    "papermill": {
     "duration": 0.009686,
     "end_time": "2025-07-12T16:36:57.850702",
     "exception": false,
     "start_time": "2025-07-12T16:36:57.841016",
     "status": "completed"
    },
    "tags": []
   },
   "source": [
    "### Helper Function"
   ]
  },
  {
   "cell_type": "code",
   "execution_count": 9,
   "id": "7164d9f1",
   "metadata": {
    "execution": {
     "iopub.execute_input": "2025-07-12T16:36:57.871268Z",
     "iopub.status.busy": "2025-07-12T16:36:57.871065Z",
     "iopub.status.idle": "2025-07-12T16:36:57.875044Z",
     "shell.execute_reply": "2025-07-12T16:36:57.874526Z"
    },
    "papermill": {
     "duration": 0.015549,
     "end_time": "2025-07-12T16:36:57.876028",
     "exception": false,
     "start_time": "2025-07-12T16:36:57.860479",
     "status": "completed"
    },
    "tags": []
   },
   "outputs": [],
   "source": [
    "def show_frame_vs(frame1, frame2, title1=\"Frame 1\", title2=\"Frame 2\"):\n",
    "    plt.figure(figsize=(10, 5))\n",
    "\n",
    "    # First frame\n",
    "    plt.subplot(1, 2, 1)\n",
    "    plt.imshow(frame1)\n",
    "    plt.title(title1)\n",
    "    plt.axis('off')\n",
    "\n",
    "    # Second frame\n",
    "    plt.subplot(1, 2, 2)\n",
    "    plt.imshow(frame2)\n",
    "    plt.title(title2)\n",
    "    plt.axis('off')\n",
    "\n",
    "    plt.tight_layout()\n",
    "    plt.show()"
   ]
  },
  {
   "cell_type": "code",
   "execution_count": 10,
   "id": "933dbc21",
   "metadata": {
    "execution": {
     "iopub.execute_input": "2025-07-12T16:36:57.896377Z",
     "iopub.status.busy": "2025-07-12T16:36:57.896181Z",
     "iopub.status.idle": "2025-07-12T16:36:57.899574Z",
     "shell.execute_reply": "2025-07-12T16:36:57.899065Z"
    },
    "papermill": {
     "duration": 0.014636,
     "end_time": "2025-07-12T16:36:57.900553",
     "exception": false,
     "start_time": "2025-07-12T16:36:57.885917",
     "status": "completed"
    },
    "tags": []
   },
   "outputs": [],
   "source": [
    "# reusable video loop helper function\n",
    "def apply_function(function, videos, *arg, **kwargs):\n",
    "    new_videos=[]\n",
    "    \n",
    "    for video in videos:\n",
    "        new_videos.append(function(video, *arg, **kwargs))\n",
    "        \n",
    "    return new_videos"
   ]
  },
  {
   "cell_type": "code",
   "execution_count": 11,
   "id": "edc623a9",
   "metadata": {
    "execution": {
     "iopub.execute_input": "2025-07-12T16:36:57.920972Z",
     "iopub.status.busy": "2025-07-12T16:36:57.920770Z",
     "iopub.status.idle": "2025-07-12T16:36:57.924699Z",
     "shell.execute_reply": "2025-07-12T16:36:57.924184Z"
    },
    "papermill": {
     "duration": 0.015396,
     "end_time": "2025-07-12T16:36:57.925806",
     "exception": false,
     "start_time": "2025-07-12T16:36:57.910410",
     "status": "completed"
    },
    "tags": []
   },
   "outputs": [],
   "source": [
    "# reusable video loop helper function\n",
    "def apply(function, videos, labels, *arg, **kwargs):\n",
    "    new_videos=[]\n",
    "    new_labels=[]\n",
    "    combined=zip(labels, videos)\n",
    "    \n",
    "    for label, video in combined:\n",
    "        new_videos.append(function(video, *arg, **kwargs))\n",
    "        new_labels.append(label)\n",
    "        \n",
    "    new_videos=np.asarray(new_videos)\n",
    "    new_labels=np.asarray(new_labels)\n",
    "    \n",
    "    return new_videos, new_labels"
   ]
  },
  {
   "cell_type": "markdown",
   "id": "e86b5a7c",
   "metadata": {
    "papermill": {
     "duration": 0.009862,
     "end_time": "2025-07-12T16:36:57.945460",
     "exception": false,
     "start_time": "2025-07-12T16:36:57.935598",
     "status": "completed"
    },
    "tags": []
   },
   "source": [
    "## Salt and Pepper Noise "
   ]
  },
  {
   "cell_type": "code",
   "execution_count": 12,
   "id": "35d87400",
   "metadata": {
    "execution": {
     "iopub.execute_input": "2025-07-12T16:36:57.966044Z",
     "iopub.status.busy": "2025-07-12T16:36:57.965852Z",
     "iopub.status.idle": "2025-07-12T16:36:57.969611Z",
     "shell.execute_reply": "2025-07-12T16:36:57.969127Z"
    },
    "papermill": {
     "duration": 0.015094,
     "end_time": "2025-07-12T16:36:57.970568",
     "exception": false,
     "start_time": "2025-07-12T16:36:57.955474",
     "status": "completed"
    },
    "tags": []
   },
   "outputs": [],
   "source": [
    "# Noise function def\n",
    "\n",
    "def noise_video(video,noise_factor=NOISE_FACTOR):\n",
    "    noisy_video=[]\n",
    "    for frame in video:\n",
    "        # Generate random noise\n",
    "        noise = np.random.rand(*frame.shape)  # Generate random noise\n",
    "        salt_pepper_noise = np.random.choice([0, 1], size=frame.shape, p=[1-noise_factor, noise_factor])\n",
    "        noisy_frame = frame * (1 - salt_pepper_noise) + salt_pepper_noise * np.random.rand(*frame.shape)\n",
    "        noisy_video.append(noisy_frame)\n",
    "    return np.array(noisy_video)"
   ]
  },
  {
   "cell_type": "markdown",
   "id": "555a3e5b",
   "metadata": {
    "papermill": {
     "duration": 0.010017,
     "end_time": "2025-07-12T16:36:57.990400",
     "exception": false,
     "start_time": "2025-07-12T16:36:57.980383",
     "status": "completed"
    },
    "tags": []
   },
   "source": [
    "## Horizontal Flip"
   ]
  },
  {
   "cell_type": "code",
   "execution_count": 13,
   "id": "8ac6ec31",
   "metadata": {
    "execution": {
     "iopub.execute_input": "2025-07-12T16:36:58.010663Z",
     "iopub.status.busy": "2025-07-12T16:36:58.010465Z",
     "iopub.status.idle": "2025-07-12T16:36:58.013476Z",
     "shell.execute_reply": "2025-07-12T16:36:58.012989Z"
    },
    "papermill": {
     "duration": 0.014304,
     "end_time": "2025-07-12T16:36:58.014444",
     "exception": false,
     "start_time": "2025-07-12T16:36:58.000140",
     "status": "completed"
    },
    "tags": []
   },
   "outputs": [],
   "source": [
    "# horizontal flip function def\n",
    "# Testing Flip feautes[0] -> first video\n",
    "def horizontal_flip(video):\n",
    "    return [tf.image.flip_left_right(frame) for frame in video]"
   ]
  },
  {
   "cell_type": "markdown",
   "id": "ef4a5941",
   "metadata": {
    "papermill": {
     "duration": 0.009806,
     "end_time": "2025-07-12T16:36:58.034014",
     "exception": false,
     "start_time": "2025-07-12T16:36:58.024208",
     "status": "completed"
    },
    "tags": []
   },
   "source": [
    "## Random Shear"
   ]
  },
  {
   "cell_type": "code",
   "execution_count": 14,
   "id": "cbd7957a",
   "metadata": {
    "execution": {
     "iopub.execute_input": "2025-07-12T16:36:58.054503Z",
     "iopub.status.busy": "2025-07-12T16:36:58.054305Z",
     "iopub.status.idle": "2025-07-12T16:36:58.059673Z",
     "shell.execute_reply": "2025-07-12T16:36:58.059167Z"
    },
    "papermill": {
     "duration": 0.016829,
     "end_time": "2025-07-12T16:36:58.060636",
     "exception": false,
     "start_time": "2025-07-12T16:36:58.043807",
     "status": "completed"
    },
    "tags": []
   },
   "outputs": [],
   "source": [
    "# random shear function def\n",
    "import numpy as np\n",
    "import tensorflow as tf\n",
    "from scipy.ndimage import affine_transform\n",
    "\n",
    "def apply_shear_frames(frames, shear_right):\n",
    "    return [apply_shear(frame, shear_right) for frame in frames]\n",
    "\n",
    "def apply_shear(frame, shear_right=0):\n",
    "    frame_resized = tf.image.resize(frame, (IMAGE_HEIGHT, IMAGE_WIDTH)).numpy()\n",
    "    if shear_right:\n",
    "        shear_x = 0.09\n",
    "        shear_y = 0.1\n",
    "    else:\n",
    "        shear_x = -0.09\n",
    "        shear_y = 0.3\n",
    "    # Construct the affine matrix for scipy: inverse of the transformation matrix\n",
    "    # scipy applies the inverse transform matrix\n",
    "    shear_matrix = np.array([\n",
    "        [1, shear_x, 0],\n",
    "        [shear_y, 1, 0],\n",
    "        [0, 0, 1]\n",
    "    ], dtype=np.float32)\n",
    "\n",
    "    # Extract 2x2 part for affine_transform\n",
    "    matrix = shear_matrix[:2, :2]\n",
    "\n",
    "    # Offset (no translation)\n",
    "    offset = [0, 0]\n",
    "\n",
    "    # Apply affine transform on each channel separately\n",
    "    sheared = np.zeros_like(frame_resized)\n",
    "    for c in range(3):\n",
    "        sheared[..., c] = affine_transform(\n",
    "            frame_resized[..., c],\n",
    "            matrix=matrix,\n",
    "            offset=offset,\n",
    "            order=1,          # bilinear interpolation\n",
    "            mode='nearest'    # fill_mode\n",
    "        )\n",
    "    return sheared"
   ]
  },
  {
   "cell_type": "markdown",
   "id": "7da419dd",
   "metadata": {
    "papermill": {
     "duration": 0.009592,
     "end_time": "2025-07-12T16:36:58.080205",
     "exception": false,
     "start_time": "2025-07-12T16:36:58.070613",
     "status": "completed"
    },
    "tags": []
   },
   "source": [
    "# 📌 Model Related\n",
    "## 🗼 Model Architecture `create_model`"
   ]
  },
  {
   "cell_type": "code",
   "execution_count": 15,
   "id": "fe6010b3",
   "metadata": {
    "execution": {
     "iopub.execute_input": "2025-07-12T16:36:58.100511Z",
     "iopub.status.busy": "2025-07-12T16:36:58.100306Z",
     "iopub.status.idle": "2025-07-12T16:36:58.112500Z",
     "shell.execute_reply": "2025-07-12T16:36:58.112029Z"
    },
    "papermill": {
     "duration": 0.023519,
     "end_time": "2025-07-12T16:36:58.113420",
     "exception": false,
     "start_time": "2025-07-12T16:36:58.089901",
     "status": "completed"
    },
    "tags": []
   },
   "outputs": [],
   "source": [
    "from tensorflow.keras.applications import Xception\n",
    "from tensorflow.keras.models import Sequential\n",
    "from tensorflow.keras.layers import GlobalAveragePooling2D, TimeDistributed, LSTM, Dropout, Dense\n",
    "from tensorflow.keras.regularizers import l2\n",
    "from tensorflow.keras.layers import BatchNormalization\n",
    "\n",
    "def create_xception_lstm_model(sequence_length, image_height, image_width, classes_list=None, dropout_rate=0.5):\n",
    "    if classes_list is None:\n",
    "        raise ValueError(\"classes_list must be provided to define the output layer size\")\n",
    "\n",
    "    try:\n",
    "        # Load Xception model with pre-trained ImageNet weights\n",
    "        print(\"Loading Xception base model...\")\n",
    "        xception = Xception(\n",
    "            weights='imagenet',\n",
    "            include_top=False,\n",
    "            input_shape=(image_height, image_width, 3),\n",
    "            name=\"Xception\"\n",
    "        )\n",
    "        # Freeze Xception layers\n",
    "        for layer in xception.layers[:-10]:  # Unfreeze last 10 layers\n",
    "            layer.trainable = False\n",
    "        for layer in xception.layers[-10:]:\n",
    "            layer.trainable = True\n",
    "\n",
    "        # Define the Sequential model\n",
    "        model = Sequential([\n",
    "            # InputLayer and TimeDistributed Xception\n",
    "            TimeDistributed(\n",
    "                xception,\n",
    "                input_shape=(sequence_length, image_height, image_width, 3),\n",
    "                name=\"time_distributed\"\n",
    "            ),\n",
    "            # TimeDistributed GlobalAveragePooling2D\n",
    "            TimeDistributed(GlobalAveragePooling2D(), name=\"time_distributed_1\"),\n",
    "            # LSTM layer with 128 units\n",
    "            LSTM(128, activation=\"tanh\", return_sequences=False, kernel_regularizer=l2(0.01), name=\"lstm\"),\n",
    "            \n",
    "            BatchNormalization(name=\"batch_normalization\"),\n",
    "            # Dropout after LSTM\n",
    "            Dropout(dropout_rate, name=\"dropout_lstm\"),\n",
    "            # Dense layer with 512 units\n",
    "            Dense(512, activation=\"relu\", kernel_regularizer=l2(0.01), name=\"dense\"),\n",
    "            # Dropout after Dense\n",
    "            Dropout(dropout_rate + 0.1, name=\"dropout_dense\"),\n",
    "            # Output Dense layer with softmax activation\n",
    "            Dense(len(classes_list), activation=\"softmax\", name=\"dense_1\")\n",
    "        ])\n",
    "        \n",
    "        # Print model summary\n",
    "        print(\"Model architecture created successfully!\")\n",
    "        model.summary()\n",
    "\n",
    "        return model\n",
    "\n",
    "    except Exception as e:\n",
    "        print(f\"Error creating model: {e}\")\n",
    "        return None"
   ]
  },
  {
   "cell_type": "code",
   "execution_count": 16,
   "id": "58ce2f2a",
   "metadata": {
    "execution": {
     "iopub.execute_input": "2025-07-12T16:36:58.134166Z",
     "iopub.status.busy": "2025-07-12T16:36:58.133615Z",
     "iopub.status.idle": "2025-07-12T16:37:01.961085Z",
     "shell.execute_reply": "2025-07-12T16:37:01.960372Z"
    },
    "papermill": {
     "duration": 3.83882,
     "end_time": "2025-07-12T16:37:01.962227",
     "exception": false,
     "start_time": "2025-07-12T16:36:58.123407",
     "status": "completed"
    },
    "tags": []
   },
   "outputs": [
    {
     "name": "stdout",
     "output_type": "stream",
     "text": [
      "Pre-loading Xception weights...\n"
     ]
    },
    {
     "name": "stderr",
     "output_type": "stream",
     "text": [
      "I0000 00:00:1752338219.097155      19 gpu_device.cc:2022] Created device /job:localhost/replica:0/task:0/device:GPU:0 with 13942 MB memory:  -> device: 0, name: Tesla T4, pci bus id: 0000:00:04.0, compute capability: 7.5\n",
      "I0000 00:00:1752338219.097858      19 gpu_device.cc:2022] Created device /job:localhost/replica:0/task:0/device:GPU:1 with 13942 MB memory:  -> device: 1, name: Tesla T4, pci bus id: 0000:00:05.0, compute capability: 7.5\n"
     ]
    },
    {
     "name": "stdout",
     "output_type": "stream",
     "text": [
      "Downloading data from https://storage.googleapis.com/tensorflow/keras-applications/xception/xception_weights_tf_dim_ordering_tf_kernels_notop.h5\n",
      "\u001b[1m83683744/83683744\u001b[0m \u001b[32m━━━━━━━━━━━━━━━━━━━━\u001b[0m\u001b[37m\u001b[0m \u001b[1m0s\u001b[0m 0us/step\n",
      "Weights loaded successfully!\n"
     ]
    }
   ],
   "source": [
    "# donwload model weights\n",
    "from tensorflow.keras.applications import Xception\n",
    "print(\"Pre-loading Xception weights...\")\n",
    "base_model = Xception(weights='imagenet', include_top=False, input_shape=(IMAGE_HEIGHT, IMAGE_WIDTH, 3))\n",
    "print(\"Weights loaded successfully!\")"
   ]
  },
  {
   "cell_type": "markdown",
   "id": "2b0a8e23",
   "metadata": {
    "papermill": {
     "duration": 0.011491,
     "end_time": "2025-07-12T16:37:01.985300",
     "exception": false,
     "start_time": "2025-07-12T16:37:01.973809",
     "status": "completed"
    },
    "tags": []
   },
   "source": [
    "# 📌 Execution\n",
    "## Creating Dataset\n",
    "The following functions are executed\n",
    "- `frame extraction`\n",
    "- `resize`\n",
    "\n",
    "which returns:\n",
    "- `features` - `np.array` of all the videos\n",
    "- `labels` - `np.array` of all the class labels"
   ]
  },
  {
   "cell_type": "code",
   "execution_count": 17,
   "id": "1df57bdd",
   "metadata": {
    "execution": {
     "iopub.execute_input": "2025-07-12T16:37:02.007839Z",
     "iopub.status.busy": "2025-07-12T16:37:02.007604Z",
     "iopub.status.idle": "2025-07-12T16:44:31.459734Z",
     "shell.execute_reply": "2025-07-12T16:44:31.458965Z"
    },
    "papermill": {
     "duration": 449.464202,
     "end_time": "2025-07-12T16:44:31.460863",
     "exception": false,
     "start_time": "2025-07-12T16:37:01.996661",
     "status": "completed"
    },
    "tags": []
   },
   "outputs": [
    {
     "name": "stdout",
     "output_type": "stream",
     "text": [
      "Extracting Data of Class: Catch Cap\n",
      "Extracted 5 frames from file 30: a04_s04_e03.mp4\n",
      "Extracting Data of Class: Drink\n",
      "Extracted 5 frames from file 30: a16_s08_e03.mp4\n",
      "Extracting Data of Class: Sit down\n",
      "Extracted 5 frames from file 30: a17_s04_e03.mp4\n",
      "Extracting Data of Class: Draw Tick\n",
      "Extracted 5 frames from file 30: a07_s07_e01.mp4\n",
      "Extracting Data of Class: Phone Call\n",
      "Extracted 5 frames from file 30: a15_s10_e03.mp4\n",
      "Extracting Data of Class: Horizontal arm wave\n",
      "Extracted 5 frames from file 30: a01_s10_e03.mp4\n",
      "Extracting Data of Class: Hand Clap\n",
      "Extracted 5 frames from file 30: a13_s08_e03.mp4\n",
      "Extracting Data of Class: High throw\n",
      "Extracted 5 frames from file 30: a05_s06_e01.mp4\n",
      "Extracting Data of Class: Forward Kick\n",
      "Extracted 5 frames from file 30: a09_s08_e01.mp4\n",
      "Extracting Data of Class: Stand up\n",
      "Extracted 5 frames from file 30: a18_s09_e03.mp4\n",
      "Extracting Data of Class: Two hand wave\n",
      "Extracted 5 frames from file 30: a03_s06_e03.mp4\n",
      "Extracting Data of Class: Toss Paper\n",
      "Extracted 5 frames from file 30: a08_s04_e02.mp4\n",
      "Extracting Data of Class: Walk\n",
      "Extracted 6 frames from file 30: a14_s04_e01.mp4\n",
      "Extracting Data of Class: Side Kick\n",
      "Extracted 5 frames from file 30: a10_s07_e03.mp4\n",
      "Extracting Data of Class: Bend\n",
      "Extracted 5 frames from file 30: a12_s01_e02.mp4\n",
      "Extracting Data of Class: Take Umbrella\n",
      "Extracted 5 frames from file 30: a11_s06_e01.mp4\n",
      "Extracting Data of Class: High arm wave\n",
      "Extracted 5 frames from file 30: a02_s09_e01.mp4\n",
      "Extracting Data of Class: Draw X\n",
      "Extracted 5 frames from file 30: a06_s01_e02.mp4\n",
      "Dataset created with 540 videos\n",
      "Features shape: (540, 5, 128, 128, 3)\n",
      "Labels shape: (540,)\n"
     ]
    },
    {
     "data": {
      "text/plain": [
       "((540, 5, 128, 128, 3), (540,))"
      ]
     },
     "execution_count": 17,
     "metadata": {},
     "output_type": "execute_result"
    }
   ],
   "source": [
    "# RUN Create the dataset with explicit parameters\n",
    "try:\n",
    "    videos, labels = create_dataset(\n",
    "        dataset_dir=DATASET_DIR,\n",
    "        classes_list=CLASSES_LIST,\n",
    "        sequence_length=SEQUENCE_LENGTH,\n",
    "        image_height=IMAGE_HEIGHT,\n",
    "        image_width=IMAGE_WIDTH,\n",
    "        # Limit to 10 videos per class to manage memory\n",
    "        augmentations=True,\n",
    "        max_videos_per_class=MAX_VIDEO_PER_CLASS\n",
    "    )\n",
    "except FileNotFoundError as e:\n",
    "    print(f\"Error: {e}\")\n",
    "except ValueError as e:\n",
    "    print(f\"Error: {e}\")\n",
    "except Exception as e:\n",
    "    print(f\"Unexpected error: {e}\")\n",
    "\n",
    "videos.shape, labels.shape"
   ]
  },
  {
   "cell_type": "code",
   "execution_count": 18,
   "id": "f2f06114",
   "metadata": {
    "execution": {
     "iopub.execute_input": "2025-07-12T16:44:31.685086Z",
     "iopub.status.busy": "2025-07-12T16:44:31.684766Z",
     "iopub.status.idle": "2025-07-12T16:44:31.689122Z",
     "shell.execute_reply": "2025-07-12T16:44:31.688326Z"
    },
    "papermill": {
     "duration": 0.116315,
     "end_time": "2025-07-12T16:44:31.690243",
     "exception": false,
     "start_time": "2025-07-12T16:44:31.573928",
     "status": "completed"
    },
    "tags": []
   },
   "outputs": [
    {
     "name": "stdout",
     "output_type": "stream",
     "text": [
      "Total 540 videos and 540 classes\n"
     ]
    }
   ],
   "source": [
    "video_generator = VideoDataGenerator(\n",
    "    videos=videos,\n",
    "    labels=labels,\n",
    "    batch_size=BATCH_SIZE\n",
    ")"
   ]
  },
  {
   "cell_type": "code",
   "execution_count": 19,
   "id": "838c2951",
   "metadata": {
    "execution": {
     "iopub.execute_input": "2025-07-12T16:44:31.959412Z",
     "iopub.status.busy": "2025-07-12T16:44:31.959174Z",
     "iopub.status.idle": "2025-07-12T16:44:31.968890Z",
     "shell.execute_reply": "2025-07-12T16:44:31.968291Z"
    },
    "papermill": {
     "duration": 0.123262,
     "end_time": "2025-07-12T16:44:31.969922",
     "exception": false,
     "start_time": "2025-07-12T16:44:31.846660",
     "status": "completed"
    },
    "tags": []
   },
   "outputs": [
    {
     "data": {
      "text/plain": [
       "((24, 5, 128, 128, 3), (24,))"
      ]
     },
     "execution_count": 19,
     "metadata": {},
     "output_type": "execute_result"
    }
   ],
   "source": [
    "videos, labels = video_generator[3]\n",
    "\n",
    "videos.shape, labels.shape"
   ]
  },
  {
   "cell_type": "code",
   "execution_count": 20,
   "id": "957af385",
   "metadata": {
    "execution": {
     "iopub.execute_input": "2025-07-12T16:44:32.194173Z",
     "iopub.status.busy": "2025-07-12T16:44:32.193566Z",
     "iopub.status.idle": "2025-07-12T16:44:32.197787Z",
     "shell.execute_reply": "2025-07-12T16:44:32.197181Z"
    },
    "papermill": {
     "duration": 0.116341,
     "end_time": "2025-07-12T16:44:32.198879",
     "exception": false,
     "start_time": "2025-07-12T16:44:32.082538",
     "status": "completed"
    },
    "tags": []
   },
   "outputs": [
    {
     "data": {
      "text/plain": [
       "540"
      ]
     },
     "execution_count": 20,
     "metadata": {},
     "output_type": "execute_result"
    }
   ],
   "source": [
    "len(video_generator.videos) "
   ]
  },
  {
   "cell_type": "code",
   "execution_count": 21,
   "id": "f6453bd9",
   "metadata": {
    "execution": {
     "iopub.execute_input": "2025-07-12T16:44:32.422945Z",
     "iopub.status.busy": "2025-07-12T16:44:32.422322Z",
     "iopub.status.idle": "2025-07-12T16:44:32.426518Z",
     "shell.execute_reply": "2025-07-12T16:44:32.426011Z"
    },
    "papermill": {
     "duration": 0.117151,
     "end_time": "2025-07-12T16:44:32.427494",
     "exception": false,
     "start_time": "2025-07-12T16:44:32.310343",
     "status": "completed"
    },
    "tags": []
   },
   "outputs": [
    {
     "data": {
      "text/plain": [
       "23"
      ]
     },
     "execution_count": 21,
     "metadata": {},
     "output_type": "execute_result"
    }
   ],
   "source": [
    "len(video_generator)"
   ]
  },
  {
   "cell_type": "markdown",
   "id": "0252abc2",
   "metadata": {
    "papermill": {
     "duration": 0.111037,
     "end_time": "2025-07-12T16:44:32.649852",
     "exception": false,
     "start_time": "2025-07-12T16:44:32.538815",
     "status": "completed"
    },
    "tags": []
   },
   "source": [
    "## Apply ***horizontal flip*** (Augmentation)"
   ]
  },
  {
   "cell_type": "code",
   "execution_count": 22,
   "id": "00aa0402",
   "metadata": {
    "execution": {
     "iopub.execute_input": "2025-07-12T16:44:32.903944Z",
     "iopub.status.busy": "2025-07-12T16:44:32.903588Z",
     "iopub.status.idle": "2025-07-12T16:44:46.073456Z",
     "shell.execute_reply": "2025-07-12T16:44:46.072897Z"
    },
    "papermill": {
     "duration": 13.303749,
     "end_time": "2025-07-12T16:44:46.074642",
     "exception": false,
     "start_time": "2025-07-12T16:44:32.770893",
     "status": "completed"
    },
    "tags": []
   },
   "outputs": [
    {
     "name": "stdout",
     "output_type": "stream",
     "text": [
      "Processing video 540...\r"
     ]
    }
   ],
   "source": [
    "apply_augmentation(horizontal_flip, video_generator)"
   ]
  },
  {
   "cell_type": "code",
   "execution_count": 23,
   "id": "7f20ced0",
   "metadata": {
    "execution": {
     "iopub.execute_input": "2025-07-12T16:44:46.302878Z",
     "iopub.status.busy": "2025-07-12T16:44:46.302617Z",
     "iopub.status.idle": "2025-07-12T16:44:46.306573Z",
     "shell.execute_reply": "2025-07-12T16:44:46.305884Z"
    },
    "papermill": {
     "duration": 0.117202,
     "end_time": "2025-07-12T16:44:46.307616",
     "exception": false,
     "start_time": "2025-07-12T16:44:46.190414",
     "status": "completed"
    },
    "tags": []
   },
   "outputs": [
    {
     "name": "stdout",
     "output_type": "stream",
     "text": [
      "Checking Total Videos and Class Count: 540, 540\n",
      "PENDING Total Videos and Class Count: 540, 540\n"
     ]
    }
   ],
   "source": [
    "print(f\"Checking Total Videos and Class Count: {len(video_generator.videos)}, {len(video_generator.labels)}\")\n",
    "print(f\"PENDING Total Videos and Class Count: {len(video_generator.temp_videos)}, {len(video_generator.temp_labels)}\")"
   ]
  },
  {
   "cell_type": "code",
   "execution_count": 24,
   "id": "326fc718",
   "metadata": {
    "execution": {
     "iopub.execute_input": "2025-07-12T16:44:46.574638Z",
     "iopub.status.busy": "2025-07-12T16:44:46.574156Z",
     "iopub.status.idle": "2025-07-12T16:44:46.578329Z",
     "shell.execute_reply": "2025-07-12T16:44:46.577577Z"
    },
    "papermill": {
     "duration": 0.116214,
     "end_time": "2025-07-12T16:44:46.579493",
     "exception": false,
     "start_time": "2025-07-12T16:44:46.463279",
     "status": "completed"
    },
    "tags": []
   },
   "outputs": [
    {
     "name": "stdout",
     "output_type": "stream",
     "text": [
      "Adding 540 videos with 540 classes.\n",
      "Successfully added - 540 videos and 540 classes.\n",
      "Now Total - 1080 videos and 1080 classes.\n",
      "PENDING for Augmentations - 0 videos and 0 classes.\n"
     ]
    }
   ],
   "source": [
    "video_generator.confirm()"
   ]
  },
  {
   "cell_type": "markdown",
   "id": "99f7cba2",
   "metadata": {
    "papermill": {
     "duration": 0.111657,
     "end_time": "2025-07-12T16:44:46.801950",
     "exception": false,
     "start_time": "2025-07-12T16:44:46.690293",
     "status": "completed"
    },
    "tags": []
   },
   "source": [
    "## Apply ***Noise*** (Augmentation)"
   ]
  },
  {
   "cell_type": "code",
   "execution_count": 25,
   "id": "9e289e21",
   "metadata": {
    "execution": {
     "iopub.execute_input": "2025-07-12T16:44:47.025465Z",
     "iopub.status.busy": "2025-07-12T16:44:47.025238Z",
     "iopub.status.idle": "2025-07-12T16:45:21.863582Z",
     "shell.execute_reply": "2025-07-12T16:45:21.863042Z"
    },
    "papermill": {
     "duration": 34.951368,
     "end_time": "2025-07-12T16:45:21.864819",
     "exception": false,
     "start_time": "2025-07-12T16:44:46.913451",
     "status": "completed"
    },
    "tags": []
   },
   "outputs": [
    {
     "name": "stdout",
     "output_type": "stream",
     "text": [
      "Processing video 1080...\r"
     ]
    }
   ],
   "source": [
    "apply_augmentation(noise_video, video_generator)"
   ]
  },
  {
   "cell_type": "code",
   "execution_count": 26,
   "id": "5a0404d7",
   "metadata": {
    "execution": {
     "iopub.execute_input": "2025-07-12T16:45:22.098926Z",
     "iopub.status.busy": "2025-07-12T16:45:22.098659Z",
     "iopub.status.idle": "2025-07-12T16:45:22.102836Z",
     "shell.execute_reply": "2025-07-12T16:45:22.102153Z"
    },
    "papermill": {
     "duration": 0.118862,
     "end_time": "2025-07-12T16:45:22.103854",
     "exception": false,
     "start_time": "2025-07-12T16:45:21.984992",
     "status": "completed"
    },
    "tags": []
   },
   "outputs": [
    {
     "name": "stdout",
     "output_type": "stream",
     "text": [
      "Checking Total Videos and Class Count: 1080, 1080\n",
      "PENDING Total Videos and Class Count: 1080, 1080\n"
     ]
    }
   ],
   "source": [
    "print(f\"Checking Total Videos and Class Count: {len(video_generator.videos)}, {len(video_generator.labels)}\")\n",
    "print(f\"PENDING Total Videos and Class Count: {len(video_generator.temp_videos)}, {len(video_generator.temp_labels)}\")"
   ]
  },
  {
   "cell_type": "markdown",
   "id": "712180eb",
   "metadata": {
    "papermill": {
     "duration": 0.111984,
     "end_time": "2025-07-12T16:45:22.329480",
     "exception": false,
     "start_time": "2025-07-12T16:45:22.217496",
     "status": "completed"
    },
    "tags": []
   },
   "source": [
    "## Apply ***Random Shear x2*** (Augmentation)"
   ]
  },
  {
   "cell_type": "code",
   "execution_count": 27,
   "id": "62412268",
   "metadata": {
    "execution": {
     "iopub.execute_input": "2025-07-12T16:45:22.601247Z",
     "iopub.status.busy": "2025-07-12T16:45:22.600536Z",
     "iopub.status.idle": "2025-07-12T16:46:48.195205Z",
     "shell.execute_reply": "2025-07-12T16:46:48.194609Z"
    },
    "papermill": {
     "duration": 85.754458,
     "end_time": "2025-07-12T16:46:48.196526",
     "exception": false,
     "start_time": "2025-07-12T16:45:22.442068",
     "status": "completed"
    },
    "tags": []
   },
   "outputs": [
    {
     "name": "stdout",
     "output_type": "stream",
     "text": [
      "Processing video 3240...\r"
     ]
    }
   ],
   "source": [
    "apply_augmentation(apply_shear_frames, video_generator, shear_right=0)\n",
    "apply_augmentation(apply_shear_frames, video_generator, shear_right=1)"
   ]
  },
  {
   "cell_type": "code",
   "execution_count": 28,
   "id": "68194a51",
   "metadata": {
    "execution": {
     "iopub.execute_input": "2025-07-12T16:46:48.432688Z",
     "iopub.status.busy": "2025-07-12T16:46:48.432443Z",
     "iopub.status.idle": "2025-07-12T16:46:48.436477Z",
     "shell.execute_reply": "2025-07-12T16:46:48.435686Z"
    },
    "papermill": {
     "duration": 0.123043,
     "end_time": "2025-07-12T16:46:48.437572",
     "exception": false,
     "start_time": "2025-07-12T16:46:48.314529",
     "status": "completed"
    },
    "tags": []
   },
   "outputs": [
    {
     "name": "stdout",
     "output_type": "stream",
     "text": [
      "Checking Total Videos and Class Count: 1080, 1080\n",
      "PENDING Total Videos and Class Count: 3240, 3240\n"
     ]
    }
   ],
   "source": [
    "print(f\"Checking Total Videos and Class Count: {len(video_generator.videos)}, {len(video_generator.labels)}\")\n",
    "print(f\"PENDING Total Videos and Class Count: {len(video_generator.temp_videos)}, {len(video_generator.temp_labels)}\")"
   ]
  },
  {
   "cell_type": "code",
   "execution_count": 29,
   "id": "d9cac8c1",
   "metadata": {
    "execution": {
     "iopub.execute_input": "2025-07-12T16:46:48.693259Z",
     "iopub.status.busy": "2025-07-12T16:46:48.693002Z",
     "iopub.status.idle": "2025-07-12T16:46:48.697086Z",
     "shell.execute_reply": "2025-07-12T16:46:48.696414Z"
    },
    "papermill": {
     "duration": 0.133869,
     "end_time": "2025-07-12T16:46:48.698175",
     "exception": false,
     "start_time": "2025-07-12T16:46:48.564306",
     "status": "completed"
    },
    "tags": []
   },
   "outputs": [
    {
     "name": "stdout",
     "output_type": "stream",
     "text": [
      "Adding 3240 videos with 3240 classes.\n",
      "Successfully added - 3240 videos and 3240 classes.\n",
      "Now Total - 4320 videos and 4320 classes.\n",
      "PENDING for Augmentations - 0 videos and 0 classes.\n"
     ]
    }
   ],
   "source": [
    "# confirm changes to generator\n",
    "video_generator.confirm()"
   ]
  },
  {
   "cell_type": "code",
   "execution_count": 30,
   "id": "56adb4f5",
   "metadata": {
    "execution": {
     "iopub.execute_input": "2025-07-12T16:46:48.934781Z",
     "iopub.status.busy": "2025-07-12T16:46:48.934520Z",
     "iopub.status.idle": "2025-07-12T16:46:48.938490Z",
     "shell.execute_reply": "2025-07-12T16:46:48.937806Z"
    },
    "papermill": {
     "duration": 0.122011,
     "end_time": "2025-07-12T16:46:48.939548",
     "exception": false,
     "start_time": "2025-07-12T16:46:48.817537",
     "status": "completed"
    },
    "tags": []
   },
   "outputs": [
    {
     "name": "stdout",
     "output_type": "stream",
     "text": [
      "Checking Video Generator Total Videos and Class Count: 4320, 4320\n"
     ]
    }
   ],
   "source": [
    "print(f\"Checking Video Generator Total Videos and Class Count: {len(video_generator.videos)}, {len(video_generator.labels)}\")"
   ]
  },
  {
   "cell_type": "markdown",
   "id": "654c82fc",
   "metadata": {
    "papermill": {
     "duration": 0.115874,
     "end_time": "2025-07-12T16:46:49.172236",
     "exception": false,
     "start_time": "2025-07-12T16:46:49.056362",
     "status": "completed"
    },
    "tags": []
   },
   "source": [
    "## Cheking (Output)"
   ]
  },
  {
   "cell_type": "code",
   "execution_count": 31,
   "id": "58aa747b",
   "metadata": {
    "execution": {
     "iopub.execute_input": "2025-07-12T16:46:49.407290Z",
     "iopub.status.busy": "2025-07-12T16:46:49.407029Z",
     "iopub.status.idle": "2025-07-12T16:46:49.721757Z",
     "shell.execute_reply": "2025-07-12T16:46:49.721090Z"
    },
    "papermill": {
     "duration": 0.436355,
     "end_time": "2025-07-12T16:46:49.724522",
     "exception": false,
     "start_time": "2025-07-12T16:46:49.288167",
     "status": "completed"
    },
    "tags": []
   },
   "outputs": [
    {
     "name": "stdout",
     "output_type": "stream",
     "text": [
      "(24, 5, 128, 128, 3) (24,)\n"
     ]
    },
    {
     "data": {
      "image/png": "[encoded data removed]",
      "text/plain": [
       "<Figure size 1000x500 with 2 Axes>"
      ]
     },
     "metadata": {},
     "output_type": "display_data"
    },
    {
     "name": "stdout",
     "output_type": "stream",
     "text": [
      "Might be two different action, but to check the flipping focus on the door behind.\n"
     ]
    }
   ],
   "source": [
    "# check horizontal flips\n",
    "videos, labels = video_generator[7]\n",
    "videos1, labels1 = video_generator[1]\n",
    "\n",
    "print(videos.shape, labels.shape)\n",
    "\n",
    "show_frame_vs(videos[0,0],videos1[1,0], title1=\"Flipped Frame 1\", title2=\"Non Flipped Frame 1\")\n",
    "print(\"Might be two different action, but to check the flipping focus on the door behind.\")"
   ]
  },
  {
   "cell_type": "markdown",
   "id": "6a19fd7d",
   "metadata": {
    "papermill": {
     "duration": 0.117793,
     "end_time": "2025-07-12T16:46:49.962016",
     "exception": false,
     "start_time": "2025-07-12T16:46:49.844223",
     "status": "completed"
    },
    "tags": []
   },
   "source": [
    "# 🧪 Test Augmentation (Output)\n",
    "## 🖼️ Horizontal Flip Output"
   ]
  },
  {
   "cell_type": "code",
   "execution_count": 32,
   "id": "c54bbd2c",
   "metadata": {
    "execution": {
     "iopub.execute_input": "2025-07-12T16:46:50.247512Z",
     "iopub.status.busy": "2025-07-12T16:46:50.247240Z",
     "iopub.status.idle": "2025-07-12T16:46:50.250698Z",
     "shell.execute_reply": "2025-07-12T16:46:50.250009Z"
    },
    "papermill": {
     "duration": 0.170631,
     "end_time": "2025-07-12T16:46:50.251853",
     "exception": false,
     "start_time": "2025-07-12T16:46:50.081222",
     "status": "completed"
    },
    "tags": []
   },
   "outputs": [],
   "source": [
    "# flipped_video_1 = horizontal_flip(features[0])\n",
    "\n",
    "# flipped_video_1=np.asarray(flipped_video_1)\n",
    "\n",
    "# show_frame(flipped_video_1[0])\n",
    "# flipped_video_1.shape"
   ]
  },
  {
   "cell_type": "markdown",
   "id": "1c604449",
   "metadata": {
    "papermill": {
     "duration": 0.118944,
     "end_time": "2025-07-12T16:46:50.490425",
     "exception": false,
     "start_time": "2025-07-12T16:46:50.371481",
     "status": "completed"
    },
    "tags": []
   },
   "source": [
    "## 🖼️ Salt and Pepper Noise Output"
   ]
  },
  {
   "cell_type": "code",
   "execution_count": 33,
   "id": "32b15d97",
   "metadata": {
    "execution": {
     "iopub.execute_input": "2025-07-12T16:46:50.726227Z",
     "iopub.status.busy": "2025-07-12T16:46:50.725989Z",
     "iopub.status.idle": "2025-07-12T16:46:50.728960Z",
     "shell.execute_reply": "2025-07-12T16:46:50.728431Z"
    },
    "papermill": {
     "duration": 0.121765,
     "end_time": "2025-07-12T16:46:50.730018",
     "exception": false,
     "start_time": "2025-07-12T16:46:50.608253",
     "status": "completed"
    },
    "tags": []
   },
   "outputs": [],
   "source": [
    "# noised_video = noise_video(features[0])\n",
    "\n",
    "# print(noised_video.shape)\n",
    "# show_frame(noised_video[0])"
   ]
  },
  {
   "cell_type": "markdown",
   "id": "69f213d6",
   "metadata": {
    "papermill": {
     "duration": 0.118503,
     "end_time": "2025-07-12T16:46:50.967875",
     "exception": false,
     "start_time": "2025-07-12T16:46:50.849372",
     "status": "completed"
    },
    "tags": []
   },
   "source": [
    "## 🖼️ Random Shear Output"
   ]
  },
  {
   "cell_type": "code",
   "execution_count": 34,
   "id": "4976342f",
   "metadata": {
    "execution": {
     "iopub.execute_input": "2025-07-12T16:46:51.205618Z",
     "iopub.status.busy": "2025-07-12T16:46:51.205022Z",
     "iopub.status.idle": "2025-07-12T16:46:51.208312Z",
     "shell.execute_reply": "2025-07-12T16:46:51.207760Z"
    },
    "papermill": {
     "duration": 0.123429,
     "end_time": "2025-07-12T16:46:51.209335",
     "exception": false,
     "start_time": "2025-07-12T16:46:51.085906",
     "status": "completed"
    },
    "tags": []
   },
   "outputs": [],
   "source": [
    "# print(features.shape)\n",
    "\n",
    "# sheared_1 = apply_shear_frames(features[0], shear_right=0)\n",
    "# sheared_2 = apply_shear_frames(features[0], shear_right=1)\n",
    "\n",
    "# sheared_1 = np.asarray(sheared_1)\n",
    "# sheared_2 = np.asarray(sheared_2)\n",
    "\n",
    "# print(sheared_1.shape)\n",
    "# show_frame(sheared_1[0])\n",
    "# show_frame(sheared_2[0])"
   ]
  },
  {
   "cell_type": "markdown",
   "id": "6e90a10b",
   "metadata": {
    "papermill": {
     "duration": 0.120688,
     "end_time": "2025-07-12T16:46:51.491153",
     "exception": false,
     "start_time": "2025-07-12T16:46:51.370465",
     "status": "completed"
    },
    "tags": []
   },
   "source": [
    "# 📌 Preparing Data for Training"
   ]
  },
  {
   "cell_type": "code",
   "execution_count": 35,
   "id": "09045fd5",
   "metadata": {
    "execution": {
     "iopub.execute_input": "2025-07-12T16:46:51.730179Z",
     "iopub.status.busy": "2025-07-12T16:46:51.729910Z",
     "iopub.status.idle": "2025-07-12T16:46:52.171056Z",
     "shell.execute_reply": "2025-07-12T16:46:52.170463Z"
    },
    "papermill": {
     "duration": 0.559779,
     "end_time": "2025-07-12T16:46:52.172132",
     "exception": false,
     "start_time": "2025-07-12T16:46:51.612353",
     "status": "completed"
    },
    "tags": []
   },
   "outputs": [],
   "source": [
    "# Clear previous session to free memory\n",
    "import gc\n",
    "\n",
    "gc.collect()\n",
    "tf.keras.backend.clear_session()"
   ]
  },
  {
   "cell_type": "markdown",
   "id": "5113be61",
   "metadata": {
    "papermill": {
     "duration": 0.118015,
     "end_time": "2025-07-12T16:46:52.410468",
     "exception": false,
     "start_time": "2025-07-12T16:46:52.292453",
     "status": "completed"
    },
    "tags": []
   },
   "source": [
    "## Splitting data for ***Trainig*** and ***Testing***"
   ]
  },
  {
   "cell_type": "code",
   "execution_count": 36,
   "id": "96514919",
   "metadata": {
    "execution": {
     "iopub.execute_input": "2025-07-12T16:46:52.648287Z",
     "iopub.status.busy": "2025-07-12T16:46:52.647611Z",
     "iopub.status.idle": "2025-07-12T16:46:53.998179Z",
     "shell.execute_reply": "2025-07-12T16:46:53.997384Z"
    },
    "papermill": {
     "duration": 1.470794,
     "end_time": "2025-07-12T16:46:53.999423",
     "exception": false,
     "start_time": "2025-07-12T16:46:52.528629",
     "status": "completed"
    },
    "tags": []
   },
   "outputs": [
    {
     "data": {
      "text/plain": [
       "((4320, 5, 128, 128, 3), (4320,))"
      ]
     },
     "execution_count": 36,
     "metadata": {},
     "output_type": "execute_result"
    }
   ],
   "source": [
    "videos = video_generator.videos\n",
    "labels = video_generator.labels\n",
    "\n",
    "videos = np.array(videos, dtype='float32')\n",
    "labels = np.array(labels)\n",
    "\n",
    "videos.shape, labels.shape"
   ]
  },
  {
   "cell_type": "code",
   "execution_count": 37,
   "id": "c7f756b5",
   "metadata": {
    "execution": {
     "iopub.execute_input": "2025-07-12T16:46:54.238731Z",
     "iopub.status.busy": "2025-07-12T16:46:54.238502Z",
     "iopub.status.idle": "2025-07-12T16:46:54.243438Z",
     "shell.execute_reply": "2025-07-12T16:46:54.242861Z"
    },
    "papermill": {
     "duration": 0.124533,
     "end_time": "2025-07-12T16:46:54.244428",
     "exception": false,
     "start_time": "2025-07-12T16:46:54.119895",
     "status": "completed"
    },
    "tags": []
   },
   "outputs": [
    {
     "data": {
      "text/plain": [
       "(4320, 18)"
      ]
     },
     "execution_count": 37,
     "metadata": {},
     "output_type": "execute_result"
    }
   ],
   "source": [
    "from tensorflow.keras.utils import to_categorical\n",
    "\n",
    "one_hot_encoded_labels = to_categorical(labels)\n",
    "\n",
    "one_hot_encoded_labels.shape"
   ]
  },
  {
   "cell_type": "code",
   "execution_count": 38,
   "id": "c7d4dbac",
   "metadata": {
    "execution": {
     "iopub.execute_input": "2025-07-12T16:46:54.486037Z",
     "iopub.status.busy": "2025-07-12T16:46:54.485804Z",
     "iopub.status.idle": "2025-07-12T16:46:54.712158Z",
     "shell.execute_reply": "2025-07-12T16:46:54.711450Z"
    },
    "papermill": {
     "duration": 0.346832,
     "end_time": "2025-07-12T16:46:54.713421",
     "exception": false,
     "start_time": "2025-07-12T16:46:54.366589",
     "status": "completed"
    },
    "tags": []
   },
   "outputs": [
    {
     "data": {
      "text/plain": [
       "0"
      ]
     },
     "execution_count": 38,
     "metadata": {},
     "output_type": "execute_result"
    }
   ],
   "source": [
    "gc.collect()"
   ]
  },
  {
   "cell_type": "code",
   "execution_count": 39,
   "id": "a3d084cc",
   "metadata": {
    "execution": {
     "iopub.execute_input": "2025-07-12T16:46:54.998207Z",
     "iopub.status.busy": "2025-07-12T16:46:54.997505Z",
     "iopub.status.idle": "2025-07-12T16:46:56.180088Z",
     "shell.execute_reply": "2025-07-12T16:46:56.179317Z"
    },
    "papermill": {
     "duration": 1.302871,
     "end_time": "2025-07-12T16:46:56.181354",
     "exception": false,
     "start_time": "2025-07-12T16:46:54.878483",
     "status": "completed"
    },
    "tags": []
   },
   "outputs": [
    {
     "data": {
      "text/plain": [
       "((3456, 5, 128, 128, 3), (3456, 18), (864, 5, 128, 128, 3), (864, 18))"
      ]
     },
     "execution_count": 39,
     "metadata": {},
     "output_type": "execute_result"
    }
   ],
   "source": [
    "# RUN Split the Data into Train ( 75% ) and Test Set ( 25% ).\n",
    "from sklearn.model_selection import train_test_split\n",
    "features_train, features_test, labels_train, labels_test = train_test_split(videos,\n",
    "                                                                            one_hot_encoded_labels,\n",
    "                                                                            test_size = TEST_SIZE,\n",
    "                                                                            shuffle = True,\n",
    "                                                                            random_state = seed_constant)\n",
    "\n",
    "features_train.shape, labels_train.shape, features_test.shape, labels_test.shape"
   ]
  },
  {
   "cell_type": "markdown",
   "id": "5c87546a",
   "metadata": {
    "papermill": {
     "duration": 0.118843,
     "end_time": "2025-07-12T16:46:56.421263",
     "exception": false,
     "start_time": "2025-07-12T16:46:56.302420",
     "status": "completed"
    },
    "tags": []
   },
   "source": [
    "## Splitting data for ***Training Set*** and ***Validation Set***"
   ]
  },
  {
   "cell_type": "code",
   "execution_count": 40,
   "id": "d2d8fc23",
   "metadata": {
    "execution": {
     "iopub.execute_input": "2025-07-12T16:46:56.659482Z",
     "iopub.status.busy": "2025-07-12T16:46:56.659237Z",
     "iopub.status.idle": "2025-07-12T16:46:56.664920Z",
     "shell.execute_reply": "2025-07-12T16:46:56.664212Z"
    },
    "papermill": {
     "duration": 0.126113,
     "end_time": "2025-07-12T16:46:56.666019",
     "exception": false,
     "start_time": "2025-07-12T16:46:56.539906",
     "status": "completed"
    },
    "tags": []
   },
   "outputs": [
    {
     "data": {
      "text/plain": [
       "((2764, 5, 128, 128, 3), (2764, 18), (692, 5, 128, 128, 3), (692, 18))"
      ]
     },
     "execution_count": 40,
     "metadata": {},
     "output_type": "execute_result"
    }
   ],
   "source": [
    "# Assuming features_train and labels_train are defined\n",
    "train_set = 1-VALIDATION_SPLIT\n",
    "\n",
    "train_video_frames, val_video_frames = features_train[:int(train_set * len(features_train))], features_train[int(train_set * len(features_train)):]\n",
    "train_labels, val_labels = labels_train[:int(train_set * len(labels_train))], labels_train[int(train_set * len(labels_train)):]\n",
    "\n",
    "train_video_frames.shape, train_labels.shape, val_video_frames.shape, val_labels.shape"
   ]
  },
  {
   "cell_type": "markdown",
   "id": "40d08ecd",
   "metadata": {
    "papermill": {
     "duration": 0.117459,
     "end_time": "2025-07-12T16:46:56.902278",
     "exception": false,
     "start_time": "2025-07-12T16:46:56.784819",
     "status": "completed"
    },
    "tags": []
   },
   "source": [
    "## Use Generator `Video Data Generator`"
   ]
  },
  {
   "cell_type": "code",
   "execution_count": 41,
   "id": "2fc35f68",
   "metadata": {
    "execution": {
     "iopub.execute_input": "2025-07-12T16:46:57.138603Z",
     "iopub.status.busy": "2025-07-12T16:46:57.138147Z",
     "iopub.status.idle": "2025-07-12T16:46:57.145724Z",
     "shell.execute_reply": "2025-07-12T16:46:57.144994Z"
    },
    "papermill": {
     "duration": 0.126672,
     "end_time": "2025-07-12T16:46:57.146820",
     "exception": false,
     "start_time": "2025-07-12T16:46:57.020148",
     "status": "completed"
    },
    "tags": []
   },
   "outputs": [
    {
     "name": "stdout",
     "output_type": "stream",
     "text": [
      "Total 2764 videos and 2764 classes\n",
      "Total 692 videos and 692 classes\n"
     ]
    },
    {
     "data": {
      "text/plain": [
       "(116, 29)"
      ]
     },
     "execution_count": 41,
     "metadata": {},
     "output_type": "execute_result"
    }
   ],
   "source": [
    "# Create the training and validation generators\n",
    "train_gen = VideoDataGenerator(\n",
    "    videos=train_video_frames, \n",
    "    labels=train_labels, \n",
    "    batch_size=BATCH_SIZE,\n",
    ")\n",
    "\n",
    "val_gen = VideoDataGenerator(\n",
    "    videos=val_video_frames, \n",
    "    labels=val_labels, \n",
    "    batch_size=BATCH_SIZE,\n",
    ")\n",
    "\n",
    "len(train_gen), len(val_gen)"
   ]
  },
  {
   "cell_type": "markdown",
   "id": "3a62b61d",
   "metadata": {
    "papermill": {
     "duration": 0.119444,
     "end_time": "2025-07-12T16:46:57.384213",
     "exception": false,
     "start_time": "2025-07-12T16:46:57.264769",
     "status": "completed"
    },
    "tags": []
   },
   "source": [
    "## Inspect ***Generator*** Data on Epochs"
   ]
  },
  {
   "cell_type": "code",
   "execution_count": 42,
   "id": "ed946466",
   "metadata": {
    "execution": {
     "iopub.execute_input": "2025-07-12T16:46:57.622475Z",
     "iopub.status.busy": "2025-07-12T16:46:57.621920Z",
     "iopub.status.idle": "2025-07-12T16:46:57.633089Z",
     "shell.execute_reply": "2025-07-12T16:46:57.632404Z"
    },
    "papermill": {
     "duration": 0.130863,
     "end_time": "2025-07-12T16:46:57.634217",
     "exception": false,
     "start_time": "2025-07-12T16:46:57.503354",
     "status": "completed"
    },
    "tags": []
   },
   "outputs": [
    {
     "name": "stdout",
     "output_type": "stream",
     "text": [
      "[   0    1    2 ... 2761 2762 2763]\n",
      "[ 298 1988 1344 ...  975  495  426]\n"
     ]
    },
    {
     "data": {
      "text/plain": [
       "(24, (24, 5, 128, 128, 3), (24, 18))"
      ]
     },
     "execution_count": 42,
     "metadata": {},
     "output_type": "execute_result"
    }
   ],
   "source": [
    "features, labels = train_gen[1]\n",
    "\n",
    "print(train_gen.indices)\n",
    "\n",
    "train_gen.on_epoch_end()\n",
    "\n",
    "print(train_gen.indices)\n",
    "\n",
    "BATCH_SIZE, features.shape, labels.shape"
   ]
  },
  {
   "cell_type": "markdown",
   "id": "e85396dc",
   "metadata": {
    "papermill": {
     "duration": 0.118791,
     "end_time": "2025-07-12T16:46:57.872022",
     "exception": false,
     "start_time": "2025-07-12T16:46:57.753231",
     "status": "completed"
    },
    "tags": []
   },
   "source": [
    "## Compute Class Weight"
   ]
  },
  {
   "cell_type": "code",
   "execution_count": 43,
   "id": "3160282c",
   "metadata": {
    "execution": {
     "iopub.execute_input": "2025-07-12T16:46:58.155590Z",
     "iopub.status.busy": "2025-07-12T16:46:58.154835Z",
     "iopub.status.idle": "2025-07-12T16:46:58.161043Z",
     "shell.execute_reply": "2025-07-12T16:46:58.160357Z"
    },
    "papermill": {
     "duration": 0.127103,
     "end_time": "2025-07-12T16:46:58.162134",
     "exception": false,
     "start_time": "2025-07-12T16:46:58.035031",
     "status": "completed"
    },
    "tags": []
   },
   "outputs": [
    {
     "name": "stdout",
     "output_type": "stream",
     "text": [
      "Class weights: {0: 1.0, 1: 1.0, 2: 1.0, 3: 1.0, 4: 1.0, 5: 1.0, 6: 1.0, 7: 1.0, 8: 1.0, 9: 1.0, 10: 1.0, 11: 1.0, 12: 1.0, 13: 1.0, 14: 1.0, 15: 1.0, 16: 1.0, 17: 1.0}\n"
     ]
    }
   ],
   "source": [
    "from sklearn.utils.class_weight import compute_class_weight\n",
    "import numpy as np\n",
    "\n",
    "# Assuming y_int are integer labels (not one-hot)\n",
    "y_int = np.argmax(one_hot_encoded_labels, axis=1)  # or just integer labels if you have them\n",
    "\n",
    "classes = np.arange(NO_OF_CLASSES)  # e.g. np.arange(16)\n",
    "class_weights_values = compute_class_weight(class_weight='balanced', classes=classes, y=y_int)\n",
    "\n",
    "class_weights = dict(zip(classes, class_weights_values))\n",
    "\n",
    "print(\"Class weights:\", class_weights)\n"
   ]
  },
  {
   "cell_type": "code",
   "execution_count": 44,
   "id": "63a7325b",
   "metadata": {
    "execution": {
     "iopub.execute_input": "2025-07-12T16:46:58.401425Z",
     "iopub.status.busy": "2025-07-12T16:46:58.401201Z",
     "iopub.status.idle": "2025-07-12T16:46:58.636548Z",
     "shell.execute_reply": "2025-07-12T16:46:58.635965Z"
    },
    "papermill": {
     "duration": 0.357273,
     "end_time": "2025-07-12T16:46:58.637605",
     "exception": false,
     "start_time": "2025-07-12T16:46:58.280332",
     "status": "completed"
    },
    "tags": []
   },
   "outputs": [],
   "source": [
    "gc.collect()\n",
    "del videos, one_hot_encoded_labels, labels_train\n",
    "del features_train, val_labels, train_labels\n",
    "del val_video_frames, train_video_frames"
   ]
  },
  {
   "cell_type": "markdown",
   "id": "a8ab0e9e",
   "metadata": {
    "papermill": {
     "duration": 0.118746,
     "end_time": "2025-07-12T16:46:58.877786",
     "exception": false,
     "start_time": "2025-07-12T16:46:58.759040",
     "status": "completed"
    },
    "tags": []
   },
   "source": [
    "# ✨ Model Execution\n",
    "## Creating Model"
   ]
  },
  {
   "cell_type": "code",
   "execution_count": 45,
   "id": "f88ae4d7",
   "metadata": {
    "execution": {
     "iopub.execute_input": "2025-07-12T16:46:59.121046Z",
     "iopub.status.busy": "2025-07-12T16:46:59.120703Z",
     "iopub.status.idle": "2025-07-12T16:47:00.305095Z",
     "shell.execute_reply": "2025-07-12T16:47:00.304457Z"
    },
    "papermill": {
     "duration": 1.306456,
     "end_time": "2025-07-12T16:47:00.306150",
     "exception": false,
     "start_time": "2025-07-12T16:46:58.999694",
     "status": "completed"
    },
    "tags": []
   },
   "outputs": [
    {
     "name": "stdout",
     "output_type": "stream",
     "text": [
      "Loading Xception base model...\n",
      "Model architecture created successfully!\n"
     ]
    },
    {
     "name": "stderr",
     "output_type": "stream",
     "text": [
      "/usr/local/lib/python3.11/dist-packages/keras/src/layers/core/wrapper.py:27: UserWarning: Do not pass an `input_shape`/`input_dim` argument to a layer. When using Sequential models, prefer using an `Input(shape)` object as the first layer in the model instead.\n",
      "  super().__init__(**kwargs)\n"
     ]
    },
    {
     "data": {
      "text/html": [
       "<pre style=\"white-space:pre;overflow-x:auto;line-height:normal;font-family:Menlo,'DejaVu Sans Mono',consolas,'Courier New',monospace\"><span style=\"font-weight: bold\">Model: \"sequential\"</span>\n",
       "</pre>\n"
      ],
      "text/plain": [
       "\u001b[1mModel: \"sequential\"\u001b[0m\n"
      ]
     },
     "metadata": {},
     "output_type": "display_data"
    },
    {
     "data": {
      "text/html": [
       "<pre style=\"white-space:pre;overflow-x:auto;line-height:normal;font-family:Menlo,'DejaVu Sans Mono',consolas,'Courier New',monospace\">┏━━━━━━━━━━━━━━━━━━━━━━━━━━━━━━━━━┳━━━━━━━━━━━━━━━━━━━━━━━━┳━━━━━━━━━━━━━━━┓\n",
       "┃<span style=\"font-weight: bold\"> Layer (type)                    </span>┃<span style=\"font-weight: bold\"> Output Shape           </span>┃<span style=\"font-weight: bold\">       Param # </span>┃\n",
       "┡━━━━━━━━━━━━━━━━━━━━━━━━━━━━━━━━━╇━━━━━━━━━━━━━━━━━━━━━━━━╇━━━━━━━━━━━━━━━┩\n",
       "│ time_distributed                │ (<span style=\"color: #00d7ff; text-decoration-color: #00d7ff\">None</span>, <span style=\"color: #00af00; text-decoration-color: #00af00\">5</span>, <span style=\"color: #00af00; text-decoration-color: #00af00\">4</span>, <span style=\"color: #00af00; text-decoration-color: #00af00\">4</span>, <span style=\"color: #00af00; text-decoration-color: #00af00\">2048</span>)  │    <span style=\"color: #00af00; text-decoration-color: #00af00\">20,861,480</span> │\n",
       "│ (<span style=\"color: #0087ff; text-decoration-color: #0087ff\">TimeDistributed</span>)               │                        │               │\n",
       "├─────────────────────────────────┼────────────────────────┼───────────────┤\n",
       "│ time_distributed_1              │ (<span style=\"color: #00d7ff; text-decoration-color: #00d7ff\">None</span>, <span style=\"color: #00af00; text-decoration-color: #00af00\">5</span>, <span style=\"color: #00af00; text-decoration-color: #00af00\">2048</span>)        │             <span style=\"color: #00af00; text-decoration-color: #00af00\">0</span> │\n",
       "│ (<span style=\"color: #0087ff; text-decoration-color: #0087ff\">TimeDistributed</span>)               │                        │               │\n",
       "├─────────────────────────────────┼────────────────────────┼───────────────┤\n",
       "│ lstm (<span style=\"color: #0087ff; text-decoration-color: #0087ff\">LSTM</span>)                     │ (<span style=\"color: #00d7ff; text-decoration-color: #00d7ff\">None</span>, <span style=\"color: #00af00; text-decoration-color: #00af00\">128</span>)            │     <span style=\"color: #00af00; text-decoration-color: #00af00\">1,114,624</span> │\n",
       "├─────────────────────────────────┼────────────────────────┼───────────────┤\n",
       "│ batch_normalization             │ (<span style=\"color: #00d7ff; text-decoration-color: #00d7ff\">None</span>, <span style=\"color: #00af00; text-decoration-color: #00af00\">128</span>)            │           <span style=\"color: #00af00; text-decoration-color: #00af00\">512</span> │\n",
       "│ (<span style=\"color: #0087ff; text-decoration-color: #0087ff\">BatchNormalization</span>)            │                        │               │\n",
       "├─────────────────────────────────┼────────────────────────┼───────────────┤\n",
       "│ dropout_lstm (<span style=\"color: #0087ff; text-decoration-color: #0087ff\">Dropout</span>)          │ (<span style=\"color: #00d7ff; text-decoration-color: #00d7ff\">None</span>, <span style=\"color: #00af00; text-decoration-color: #00af00\">128</span>)            │             <span style=\"color: #00af00; text-decoration-color: #00af00\">0</span> │\n",
       "├─────────────────────────────────┼────────────────────────┼───────────────┤\n",
       "│ dense (<span style=\"color: #0087ff; text-decoration-color: #0087ff\">Dense</span>)                   │ (<span style=\"color: #00d7ff; text-decoration-color: #00d7ff\">None</span>, <span style=\"color: #00af00; text-decoration-color: #00af00\">512</span>)            │        <span style=\"color: #00af00; text-decoration-color: #00af00\">66,048</span> │\n",
       "├─────────────────────────────────┼────────────────────────┼───────────────┤\n",
       "│ dropout_dense (<span style=\"color: #0087ff; text-decoration-color: #0087ff\">Dropout</span>)         │ (<span style=\"color: #00d7ff; text-decoration-color: #00d7ff\">None</span>, <span style=\"color: #00af00; text-decoration-color: #00af00\">512</span>)            │             <span style=\"color: #00af00; text-decoration-color: #00af00\">0</span> │\n",
       "├─────────────────────────────────┼────────────────────────┼───────────────┤\n",
       "│ dense_1 (<span style=\"color: #0087ff; text-decoration-color: #0087ff\">Dense</span>)                 │ (<span style=\"color: #00d7ff; text-decoration-color: #00d7ff\">None</span>, <span style=\"color: #00af00; text-decoration-color: #00af00\">18</span>)             │         <span style=\"color: #00af00; text-decoration-color: #00af00\">9,234</span> │\n",
       "└─────────────────────────────────┴────────────────────────┴───────────────┘\n",
       "</pre>\n"
      ],
      "text/plain": [
       "┏━━━━━━━━━━━━━━━━━━━━━━━━━━━━━━━━━┳━━━━━━━━━━━━━━━━━━━━━━━━┳━━━━━━━━━━━━━━━┓\n",
       "┃\u001b[1m \u001b[0m\u001b[1mLayer (type)                   \u001b[0m\u001b[1m \u001b[0m┃\u001b[1m \u001b[0m\u001b[1mOutput Shape          \u001b[0m\u001b[1m \u001b[0m┃\u001b[1m \u001b[0m\u001b[1m      Param #\u001b[0m\u001b[1m \u001b[0m┃\n",
       "┡━━━━━━━━━━━━━━━━━━━━━━━━━━━━━━━━━╇━━━━━━━━━━━━━━━━━━━━━━━━╇━━━━━━━━━━━━━━━┩\n",
       "│ time_distributed                │ (\u001b[38;5;45mNone\u001b[0m, \u001b[38;5;34m5\u001b[0m, \u001b[38;5;34m4\u001b[0m, \u001b[38;5;34m4\u001b[0m, \u001b[38;5;34m2048\u001b[0m)  │    \u001b[38;5;34m20,861,480\u001b[0m │\n",
       "│ (\u001b[38;5;33mTimeDistributed\u001b[0m)               │                        │               │\n",
       "├─────────────────────────────────┼────────────────────────┼───────────────┤\n",
       "│ time_distributed_1              │ (\u001b[38;5;45mNone\u001b[0m, \u001b[38;5;34m5\u001b[0m, \u001b[38;5;34m2048\u001b[0m)        │             \u001b[38;5;34m0\u001b[0m │\n",
       "│ (\u001b[38;5;33mTimeDistributed\u001b[0m)               │                        │               │\n",
       "├─────────────────────────────────┼────────────────────────┼───────────────┤\n",
       "│ lstm (\u001b[38;5;33mLSTM\u001b[0m)                     │ (\u001b[38;5;45mNone\u001b[0m, \u001b[38;5;34m128\u001b[0m)            │     \u001b[38;5;34m1,114,624\u001b[0m │\n",
       "├─────────────────────────────────┼────────────────────────┼───────────────┤\n",
       "│ batch_normalization             │ (\u001b[38;5;45mNone\u001b[0m, \u001b[38;5;34m128\u001b[0m)            │           \u001b[38;5;34m512\u001b[0m │\n",
       "│ (\u001b[38;5;33mBatchNormalization\u001b[0m)            │                        │               │\n",
       "├─────────────────────────────────┼────────────────────────┼───────────────┤\n",
       "│ dropout_lstm (\u001b[38;5;33mDropout\u001b[0m)          │ (\u001b[38;5;45mNone\u001b[0m, \u001b[38;5;34m128\u001b[0m)            │             \u001b[38;5;34m0\u001b[0m │\n",
       "├─────────────────────────────────┼────────────────────────┼───────────────┤\n",
       "│ dense (\u001b[38;5;33mDense\u001b[0m)                   │ (\u001b[38;5;45mNone\u001b[0m, \u001b[38;5;34m512\u001b[0m)            │        \u001b[38;5;34m66,048\u001b[0m │\n",
       "├─────────────────────────────────┼────────────────────────┼───────────────┤\n",
       "│ dropout_dense (\u001b[38;5;33mDropout\u001b[0m)         │ (\u001b[38;5;45mNone\u001b[0m, \u001b[38;5;34m512\u001b[0m)            │             \u001b[38;5;34m0\u001b[0m │\n",
       "├─────────────────────────────────┼────────────────────────┼───────────────┤\n",
       "│ dense_1 (\u001b[38;5;33mDense\u001b[0m)                 │ (\u001b[38;5;45mNone\u001b[0m, \u001b[38;5;34m18\u001b[0m)             │         \u001b[38;5;34m9,234\u001b[0m │\n",
       "└─────────────────────────────────┴────────────────────────┴───────────────┘\n"
      ]
     },
     "metadata": {},
     "output_type": "display_data"
    },
    {
     "data": {
      "text/html": [
       "<pre style=\"white-space:pre;overflow-x:auto;line-height:normal;font-family:Menlo,'DejaVu Sans Mono',consolas,'Courier New',monospace\"><span style=\"font-weight: bold\"> Total params: </span><span style=\"color: #00af00; text-decoration-color: #00af00\">22,051,898</span> (84.12 MB)\n",
       "</pre>\n"
      ],
      "text/plain": [
       "\u001b[1m Total params: \u001b[0m\u001b[38;5;34m22,051,898\u001b[0m (84.12 MB)\n"
      ]
     },
     "metadata": {},
     "output_type": "display_data"
    },
    {
     "data": {
      "text/html": [
       "<pre style=\"white-space:pre;overflow-x:auto;line-height:normal;font-family:Menlo,'DejaVu Sans Mono',consolas,'Courier New',monospace\"><span style=\"font-weight: bold\"> Trainable params: </span><span style=\"color: #00af00; text-decoration-color: #00af00\">6,686,482</span> (25.51 MB)\n",
       "</pre>\n"
      ],
      "text/plain": [
       "\u001b[1m Trainable params: \u001b[0m\u001b[38;5;34m6,686,482\u001b[0m (25.51 MB)\n"
      ]
     },
     "metadata": {},
     "output_type": "display_data"
    },
    {
     "data": {
      "text/html": [
       "<pre style=\"white-space:pre;overflow-x:auto;line-height:normal;font-family:Menlo,'DejaVu Sans Mono',consolas,'Courier New',monospace\"><span style=\"font-weight: bold\"> Non-trainable params: </span><span style=\"color: #00af00; text-decoration-color: #00af00\">15,365,416</span> (58.61 MB)\n",
       "</pre>\n"
      ],
      "text/plain": [
       "\u001b[1m Non-trainable params: \u001b[0m\u001b[38;5;34m15,365,416\u001b[0m (58.61 MB)\n"
      ]
     },
     "metadata": {},
     "output_type": "display_data"
    },
    {
     "name": "stdout",
     "output_type": "stream",
     "text": [
      "Model Created Successfully!\n"
     ]
    }
   ],
   "source": [
    "# Create the model\n",
    "xlstm_model = create_xception_lstm_model(\n",
    "    sequence_length=SEQUENCE_LENGTH,\n",
    "    image_height=IMAGE_HEIGHT,\n",
    "    image_width=IMAGE_WIDTH,\n",
    "    classes_list=CLASSES_LIST,\n",
    "    dropout_rate=DROPOUT_RATE\n",
    ")\n",
    "\n",
    "# Check if model was created successfully\n",
    "if xlstm_model is None:\n",
    "    print(\"Failed to create model. Check error messages above.\")\n",
    "else:\n",
    "    print(\"Model Created Successfully!\")"
   ]
  },
  {
   "cell_type": "markdown",
   "id": "ba5e3e35",
   "metadata": {
    "papermill": {
     "duration": 0.164807,
     "end_time": "2025-07-12T16:47:00.595233",
     "exception": false,
     "start_time": "2025-07-12T16:47:00.430426",
     "status": "completed"
    },
    "tags": []
   },
   "source": [
    "## Plot Model Structure"
   ]
  },
  {
   "cell_type": "code",
   "execution_count": 46,
   "id": "7199932c",
   "metadata": {
    "execution": {
     "iopub.execute_input": "2025-07-12T16:47:00.834848Z",
     "iopub.status.busy": "2025-07-12T16:47:00.834567Z",
     "iopub.status.idle": "2025-07-12T16:47:01.170254Z",
     "shell.execute_reply": "2025-07-12T16:47:01.169453Z"
    },
    "papermill": {
     "duration": 0.4569,
     "end_time": "2025-07-12T16:47:01.171460",
     "exception": false,
     "start_time": "2025-07-12T16:47:00.714560",
     "status": "completed"
    },
    "tags": []
   },
   "outputs": [
    {
     "name": "stdout",
     "output_type": "stream",
     "text": [
      "Xception Model Plot saved successfully...\n"
     ]
    }
   ],
   "source": [
    "# Plot the structure of the contructed model.\n",
    "from tensorflow.keras.utils import plot_model\n",
    "\n",
    "plot_model(xlstm_model, to_file = f'{MODEL_NAME}_model_Plot.png', show_shapes = True, show_layer_names = True)\n",
    "\n",
    "print(f\"{MODEL_NAME} Model Plot saved successfully...\")"
   ]
  },
  {
   "cell_type": "markdown",
   "id": "790eefeb",
   "metadata": {
    "papermill": {
     "duration": 0.122096,
     "end_time": "2025-07-12T16:47:01.415128",
     "exception": false,
     "start_time": "2025-07-12T16:47:01.293032",
     "status": "completed"
    },
    "tags": []
   },
   "source": [
    "## Model Compile"
   ]
  },
  {
   "cell_type": "code",
   "execution_count": 47,
   "id": "41641e53",
   "metadata": {
    "execution": {
     "iopub.execute_input": "2025-07-12T16:47:01.655328Z",
     "iopub.status.busy": "2025-07-12T16:47:01.654847Z",
     "iopub.status.idle": "2025-07-12T16:47:01.672095Z",
     "shell.execute_reply": "2025-07-12T16:47:01.671382Z"
    },
    "papermill": {
     "duration": 0.139349,
     "end_time": "2025-07-12T16:47:01.673278",
     "exception": false,
     "start_time": "2025-07-12T16:47:01.533929",
     "status": "completed"
    },
    "tags": []
   },
   "outputs": [],
   "source": [
    "# Create an Instance of Early Stopping Callback\n",
    "from tensorflow.keras.callbacks import EarlyStopping\n",
    "\n",
    "early_stopping_callback = EarlyStopping(monitor = 'val_loss', \n",
    "                                        patience = 7, \n",
    "                                        mode = 'min', \n",
    "                                        restore_best_weights = True)\n",
    "\n",
    "# Compile the model and specify loss function, optimizer and metrics values to the model\n",
    "xlstm_model.compile(loss = 'categorical_crossentropy', \n",
    "                    optimizer=tf.keras.optimizers.Adam(learning_rate=0.0001),\n",
    "                    metrics = [\"accuracy\"])\n"
   ]
  },
  {
   "cell_type": "markdown",
   "id": "33529a8a",
   "metadata": {
    "papermill": {
     "duration": 0.120521,
     "end_time": "2025-07-12T16:47:01.913099",
     "exception": false,
     "start_time": "2025-07-12T16:47:01.792578",
     "status": "completed"
    },
    "tags": []
   },
   "source": [
    "## 💪 Model Fit"
   ]
  },
  {
   "cell_type": "code",
   "execution_count": 48,
   "id": "d289a481",
   "metadata": {
    "execution": {
     "iopub.execute_input": "2025-07-12T16:47:02.150705Z",
     "iopub.status.busy": "2025-07-12T16:47:02.150211Z",
     "iopub.status.idle": "2025-07-12T16:47:02.157001Z",
     "shell.execute_reply": "2025-07-12T16:47:02.156409Z"
    },
    "papermill": {
     "duration": 0.126936,
     "end_time": "2025-07-12T16:47:02.158051",
     "exception": false,
     "start_time": "2025-07-12T16:47:02.031115",
     "status": "completed"
    },
    "tags": []
   },
   "outputs": [
    {
     "name": "stdout",
     "output_type": "stream",
     "text": [
      "Unique labels: [ 0  1  2  3  4  5  6  7  8  9 10 11 12 13 14 15 16 17]\n",
      "NO_OF_CLASSES: 18\n"
     ]
    }
   ],
   "source": [
    "labels = np.argmax(train_gen.labels, axis=1)  # assuming one-hot encoded\n",
    "print(\"Unique labels:\", np.unique(labels))\n",
    "print(\"NO_OF_CLASSES:\", NO_OF_CLASSES)\n"
   ]
  },
  {
   "cell_type": "code",
   "execution_count": 49,
   "id": "a9477054",
   "metadata": {
    "execution": {
     "iopub.execute_input": "2025-07-12T16:47:02.444781Z",
     "iopub.status.busy": "2025-07-12T16:47:02.444217Z",
     "iopub.status.idle": "2025-07-12T16:47:02.450579Z",
     "shell.execute_reply": "2025-07-12T16:47:02.449956Z"
    },
    "papermill": {
     "duration": 0.173814,
     "end_time": "2025-07-12T16:47:02.451614",
     "exception": false,
     "start_time": "2025-07-12T16:47:02.277800",
     "status": "completed"
    },
    "tags": []
   },
   "outputs": [
    {
     "name": "stdout",
     "output_type": "stream",
     "text": [
      "Train label shape: (2764, 18)\n",
      "Val label shape: (692, 18)\n"
     ]
    }
   ],
   "source": [
    "print(\"Train label shape:\", np.shape(train_gen.labels))\n",
    "print(\"Val label shape:\", np.shape(val_gen.labels))\n"
   ]
  },
  {
   "cell_type": "code",
   "execution_count": 50,
   "id": "df2d1c43",
   "metadata": {
    "execution": {
     "iopub.execute_input": "2025-07-12T16:47:02.693555Z",
     "iopub.status.busy": "2025-07-12T16:47:02.692968Z",
     "iopub.status.idle": "2025-07-12T16:47:02.696729Z",
     "shell.execute_reply": "2025-07-12T16:47:02.696000Z"
    },
    "papermill": {
     "duration": 0.124735,
     "end_time": "2025-07-12T16:47:02.697956",
     "exception": false,
     "start_time": "2025-07-12T16:47:02.573221",
     "status": "completed"
    },
    "tags": []
   },
   "outputs": [],
   "source": [
    "# from tensorflow.keras.callbacks import ReduceLROnPlateau\n",
    "\n",
    "# lr_scheduler = ReduceLROnPlateau(monitor='val_loss', \n",
    "#                                  factor=0.5, \n",
    "#                                  patience=3, \n",
    "#                                  min_lr=1e-6)\n",
    "\n",
    "\n",
    "\n",
    "# print(f\"Dataset - {DATASET_NAME}\")\n",
    "# print(f\"There are total {len(ALL_CLASS_NAMES)} classes, selected {NO_OF_CLASSES} classes\")\n",
    "# print(f\"Setting {MAX_VIDEO_PER_CLASS} videos/class to train the model.\")\n",
    "# print(f\"Image size {IMAGE_HEIGHT}x{IMAGE_WIDTH} with {SEQUENCE_LENGTH} sequence length\")\n",
    "# print(f\"Dropout rate: {DROPOUT_RATE}\")\n",
    "# print(f\"Train-Test split ratio {int((1-TEST_SIZE)*100)}/{int(TEST_SIZE*100)}\")\n",
    "# print(f\"Validation data from Train set {VALIDATION_SPLIT*100}%\")\n",
    "\n",
    "# print(\"\\n\")\n",
    "\n",
    "# print(f\"Training started for {len(train_gen.videos)} videos of {NO_OF_CLASSES} classes with {len(val_gen.videos)} videos for validation...\")\n",
    "\n",
    "# model_history = xlstm_model.fit(\n",
    "#     train_gen.as_dataset(),\n",
    "#     validation_data=val_gen.as_dataset(),\n",
    "#     epochs=EPOCHS,\n",
    "#     # class_weight=class_weight_dict,\n",
    "#     callbacks=[early_stopping_callback, lr_scheduler]\n",
    "# )"
   ]
  },
  {
   "cell_type": "markdown",
   "id": "2c085fe3",
   "metadata": {
    "papermill": {
     "duration": 0.119321,
     "end_time": "2025-07-12T16:47:02.937076",
     "exception": false,
     "start_time": "2025-07-12T16:47:02.817755",
     "status": "completed"
    },
    "tags": []
   },
   "source": [
    "# Evaluation"
   ]
  },
  {
   "cell_type": "markdown",
   "id": "fae378a6",
   "metadata": {
    "papermill": {
     "duration": 0.118158,
     "end_time": "2025-07-12T16:47:03.174449",
     "exception": false,
     "start_time": "2025-07-12T16:47:03.056291",
     "status": "completed"
    },
    "tags": []
   },
   "source": [
    "## ⚡ Model Evaluate"
   ]
  },
  {
   "cell_type": "code",
   "execution_count": 51,
   "id": "8ab84b70",
   "metadata": {
    "execution": {
     "iopub.execute_input": "2025-07-12T16:47:03.415443Z",
     "iopub.status.busy": "2025-07-12T16:47:03.414924Z",
     "iopub.status.idle": "2025-07-12T16:47:03.417958Z",
     "shell.execute_reply": "2025-07-12T16:47:03.417375Z"
    },
    "papermill": {
     "duration": 0.125173,
     "end_time": "2025-07-12T16:47:03.418994",
     "exception": false,
     "start_time": "2025-07-12T16:47:03.293821",
     "status": "completed"
    },
    "tags": []
   },
   "outputs": [],
   "source": [
    "# # previous code\n",
    "# model_evaluation_history = xlstm_model.evaluate(features_test, labels_test)"
   ]
  },
  {
   "cell_type": "code",
   "execution_count": 52,
   "id": "500cc2ae",
   "metadata": {
    "execution": {
     "iopub.execute_input": "2025-07-12T16:47:03.663941Z",
     "iopub.status.busy": "2025-07-12T16:47:03.663341Z",
     "iopub.status.idle": "2025-07-12T16:47:03.666705Z",
     "shell.execute_reply": "2025-07-12T16:47:03.666172Z"
    },
    "papermill": {
     "duration": 0.128356,
     "end_time": "2025-07-12T16:47:03.667725",
     "exception": false,
     "start_time": "2025-07-12T16:47:03.539369",
     "status": "completed"
    },
    "tags": []
   },
   "outputs": [],
   "source": [
    "# import matplotlib.pyplot as plt\n",
    "\n",
    "# # Accuracy\n",
    "# plt.figure(figsize=(12, 5))\n",
    "\n",
    "# plt.subplot(1, 2, 1)\n",
    "# plt.plot(model_history.history['accuracy'], label='Train Accuracy')\n",
    "# plt.plot(model_history.history['val_accuracy'], label='Validation Accuracy')\n",
    "# plt.title('Model Accuracy')\n",
    "# plt.xlabel('Epoch')\n",
    "# plt.ylabel('Accuracy')\n",
    "# plt.legend()\n",
    "\n",
    "# # Loss\n",
    "# plt.subplot(1, 2, 2)\n",
    "# plt.plot(model_history.history['loss'], label='Train Loss')\n",
    "# plt.plot(model_history.history['val_loss'], label='Validation Loss')\n",
    "# plt.title('Model Loss')\n",
    "# plt.xlabel('Epoch')\n",
    "# plt.ylabel('Loss')\n",
    "# plt.legend()\n",
    "\n",
    "# plt.tight_layout()\n",
    "# plt.show()\n"
   ]
  },
  {
   "cell_type": "markdown",
   "id": "488ea244",
   "metadata": {
    "papermill": {
     "duration": 0.120612,
     "end_time": "2025-07-12T16:47:03.934617",
     "exception": false,
     "start_time": "2025-07-12T16:47:03.814005",
     "status": "completed"
    },
    "tags": []
   },
   "source": [
    "## 📈 Confusion Matrix"
   ]
  },
  {
   "cell_type": "code",
   "execution_count": 53,
   "id": "ae2665d7",
   "metadata": {
    "execution": {
     "iopub.execute_input": "2025-07-12T16:47:04.176893Z",
     "iopub.status.busy": "2025-07-12T16:47:04.176400Z",
     "iopub.status.idle": "2025-07-12T16:47:04.180235Z",
     "shell.execute_reply": "2025-07-12T16:47:04.179531Z"
    },
    "papermill": {
     "duration": 0.127226,
     "end_time": "2025-07-12T16:47:04.181737",
     "exception": false,
     "start_time": "2025-07-12T16:47:04.054511",
     "status": "completed"
    },
    "tags": []
   },
   "outputs": [],
   "source": [
    "# from sklearn.metrics import classification_report, confusion_matrix\n",
    "# import seaborn as sns\n",
    "# import matplotlib.pyplot as plt\n",
    "\n",
    "# # Create test generator with batch_size matching test set size\n",
    "# test_gen = VideoDataGenerator(\n",
    "#     videos=features_test,\n",
    "#     labels=labels_test,\n",
    "#     batch_size=4,  # Process all test samples at once\n",
    "# )\n",
    "\n",
    "# # Get predictions\n",
    "# predictions = xlstm_model.predict(test_gen.as_dataset())\n",
    "# predicted_classes = np.argmax(predictions, axis=1)\n",
    "# true_classes = np.argmax(labels_test, axis=1)\n",
    "\n",
    "# # Verify shapes\n",
    "# print(f\"True classes shape: {true_classes.shape}\")\n",
    "# print(f\"Predicted classes shape: {predicted_classes.shape}\")\n",
    "# assert len(true_classes) == len(predicted_classes), \"Sample counts do not match!\"\n",
    "\n",
    "# # Generate classification report\n",
    "# print(\"Classification Report:\")\n",
    "# print(classification_report(true_classes, predicted_classes, target_names=CLASSES_LIST))\n",
    "\n",
    "# # Plot confusion matrix\n",
    "# cm = confusion_matrix(true_classes, predicted_classes)\n",
    "# plt.figure(figsize=(8, 6))\n",
    "# sns.heatmap(cm, annot=True, fmt='d', cmap='Blues', xticklabels=CLASSES_LIST, yticklabels=CLASSES_LIST[-1])\n",
    "# plt.xlabel('Predicted')\n",
    "# plt.ylabel('True')\n",
    "# plt.title('Confusion Matrix')\n",
    "# plt.show()"
   ]
  },
  {
   "cell_type": "code",
   "execution_count": 54,
   "id": "db18aba2",
   "metadata": {
    "execution": {
     "iopub.execute_input": "2025-07-12T16:47:04.474347Z",
     "iopub.status.busy": "2025-07-12T16:47:04.473845Z",
     "iopub.status.idle": "2025-07-12T17:38:23.331589Z",
     "shell.execute_reply": "2025-07-12T17:38:23.330760Z"
    },
    "papermill": {
     "duration": 3079.028425,
     "end_time": "2025-07-12T17:38:23.333451",
     "exception": false,
     "start_time": "2025-07-12T16:47:04.305026",
     "status": "completed"
    },
    "tags": []
   },
   "outputs": [
    {
     "name": "stdout",
     "output_type": "stream",
     "text": [
      "Memory cleared before creating VGG19+LSTM model\n",
      "TensorFlow version: 2.18.0\n",
      "Pre-loading VGG19 weights...\n",
      "Downloading data from https://storage.googleapis.com/tensorflow/keras-applications/vgg19/vgg19_weights_tf_dim_ordering_tf_kernels_notop.h5\n",
      "\u001b[1m80134624/80134624\u001b[0m \u001b[32m━━━━━━━━━━━━━━━━━━━━\u001b[0m\u001b[37m\u001b[0m \u001b[1m0s\u001b[0m 0us/step\n",
      "VGG19 weights loaded successfully!\n",
      "Creating VGG19+LSTM model with parameters:\n",
      "sequence_length: 5, image_height: 128, image_width: 128, classes_list length: 18, dropout_rate: 0.5\n",
      "VGG19+LSTM model architecture created successfully!\n"
     ]
    },
    {
     "name": "stderr",
     "output_type": "stream",
     "text": [
      "/usr/local/lib/python3.11/dist-packages/keras/src/layers/core/wrapper.py:27: UserWarning: Do not pass an `input_shape`/`input_dim` argument to a layer. When using Sequential models, prefer using an `Input(shape)` object as the first layer in the model instead.\n",
      "  super().__init__(**kwargs)\n"
     ]
    },
    {
     "data": {
      "text/html": [
       "<pre style=\"white-space:pre;overflow-x:auto;line-height:normal;font-family:Menlo,'DejaVu Sans Mono',consolas,'Courier New',monospace\"><span style=\"font-weight: bold\">Model: \"sequential\"</span>\n",
       "</pre>\n"
      ],
      "text/plain": [
       "\u001b[1mModel: \"sequential\"\u001b[0m\n"
      ]
     },
     "metadata": {},
     "output_type": "display_data"
    },
    {
     "data": {
      "text/html": [
       "<pre style=\"white-space:pre;overflow-x:auto;line-height:normal;font-family:Menlo,'DejaVu Sans Mono',consolas,'Courier New',monospace\">┏━━━━━━━━━━━━━━━━━━━━━━━━━━━━━━━━━┳━━━━━━━━━━━━━━━━━━━━━━━━┳━━━━━━━━━━━━━━━┓\n",
       "┃<span style=\"font-weight: bold\"> Layer (type)                    </span>┃<span style=\"font-weight: bold\"> Output Shape           </span>┃<span style=\"font-weight: bold\">       Param # </span>┃\n",
       "┡━━━━━━━━━━━━━━━━━━━━━━━━━━━━━━━━━╇━━━━━━━━━━━━━━━━━━━━━━━━╇━━━━━━━━━━━━━━━┩\n",
       "│ time_distributed_vgg19          │ (<span style=\"color: #00d7ff; text-decoration-color: #00d7ff\">None</span>, <span style=\"color: #00af00; text-decoration-color: #00af00\">5</span>, <span style=\"color: #00af00; text-decoration-color: #00af00\">4</span>, <span style=\"color: #00af00; text-decoration-color: #00af00\">4</span>, <span style=\"color: #00af00; text-decoration-color: #00af00\">512</span>)   │    <span style=\"color: #00af00; text-decoration-color: #00af00\">20,024,384</span> │\n",
       "│ (<span style=\"color: #0087ff; text-decoration-color: #0087ff\">TimeDistributed</span>)               │                        │               │\n",
       "├─────────────────────────────────┼────────────────────────┼───────────────┤\n",
       "│ time_distributed_pooling        │ (<span style=\"color: #00d7ff; text-decoration-color: #00d7ff\">None</span>, <span style=\"color: #00af00; text-decoration-color: #00af00\">5</span>, <span style=\"color: #00af00; text-decoration-color: #00af00\">512</span>)         │             <span style=\"color: #00af00; text-decoration-color: #00af00\">0</span> │\n",
       "│ (<span style=\"color: #0087ff; text-decoration-color: #0087ff\">TimeDistributed</span>)               │                        │               │\n",
       "├─────────────────────────────────┼────────────────────────┼───────────────┤\n",
       "│ lstm_vgg19 (<span style=\"color: #0087ff; text-decoration-color: #0087ff\">GRU</span>)                │ (<span style=\"color: #00d7ff; text-decoration-color: #00d7ff\">None</span>, <span style=\"color: #00af00; text-decoration-color: #00af00\">256</span>)            │       <span style=\"color: #00af00; text-decoration-color: #00af00\">591,360</span> │\n",
       "├─────────────────────────────────┼────────────────────────┼───────────────┤\n",
       "│ batch_normalization_vgg19       │ (<span style=\"color: #00d7ff; text-decoration-color: #00d7ff\">None</span>, <span style=\"color: #00af00; text-decoration-color: #00af00\">256</span>)            │         <span style=\"color: #00af00; text-decoration-color: #00af00\">1,024</span> │\n",
       "│ (<span style=\"color: #0087ff; text-decoration-color: #0087ff\">BatchNormalization</span>)            │                        │               │\n",
       "├─────────────────────────────────┼────────────────────────┼───────────────┤\n",
       "│ dropout_lstm_vgg19 (<span style=\"color: #0087ff; text-decoration-color: #0087ff\">Dropout</span>)    │ (<span style=\"color: #00d7ff; text-decoration-color: #00d7ff\">None</span>, <span style=\"color: #00af00; text-decoration-color: #00af00\">256</span>)            │             <span style=\"color: #00af00; text-decoration-color: #00af00\">0</span> │\n",
       "├─────────────────────────────────┼────────────────────────┼───────────────┤\n",
       "│ dense_vgg19_1 (<span style=\"color: #0087ff; text-decoration-color: #0087ff\">Dense</span>)           │ (<span style=\"color: #00d7ff; text-decoration-color: #00d7ff\">None</span>, <span style=\"color: #00af00; text-decoration-color: #00af00\">512</span>)            │       <span style=\"color: #00af00; text-decoration-color: #00af00\">131,584</span> │\n",
       "├─────────────────────────────────┼────────────────────────┼───────────────┤\n",
       "│ dropout_dense_vgg19_1 (<span style=\"color: #0087ff; text-decoration-color: #0087ff\">Dropout</span>) │ (<span style=\"color: #00d7ff; text-decoration-color: #00d7ff\">None</span>, <span style=\"color: #00af00; text-decoration-color: #00af00\">512</span>)            │             <span style=\"color: #00af00; text-decoration-color: #00af00\">0</span> │\n",
       "├─────────────────────────────────┼────────────────────────┼───────────────┤\n",
       "│ dense_vgg19_2 (<span style=\"color: #0087ff; text-decoration-color: #0087ff\">Dense</span>)           │ (<span style=\"color: #00d7ff; text-decoration-color: #00d7ff\">None</span>, <span style=\"color: #00af00; text-decoration-color: #00af00\">128</span>)            │        <span style=\"color: #00af00; text-decoration-color: #00af00\">65,664</span> │\n",
       "├─────────────────────────────────┼────────────────────────┼───────────────┤\n",
       "│ dropout_dense_vgg19_2 (<span style=\"color: #0087ff; text-decoration-color: #0087ff\">Dropout</span>) │ (<span style=\"color: #00d7ff; text-decoration-color: #00d7ff\">None</span>, <span style=\"color: #00af00; text-decoration-color: #00af00\">128</span>)            │             <span style=\"color: #00af00; text-decoration-color: #00af00\">0</span> │\n",
       "├─────────────────────────────────┼────────────────────────┼───────────────┤\n",
       "│ output_vgg19 (<span style=\"color: #0087ff; text-decoration-color: #0087ff\">Dense</span>)            │ (<span style=\"color: #00d7ff; text-decoration-color: #00d7ff\">None</span>, <span style=\"color: #00af00; text-decoration-color: #00af00\">18</span>)             │         <span style=\"color: #00af00; text-decoration-color: #00af00\">2,322</span> │\n",
       "└─────────────────────────────────┴────────────────────────┴───────────────┘\n",
       "</pre>\n"
      ],
      "text/plain": [
       "┏━━━━━━━━━━━━━━━━━━━━━━━━━━━━━━━━━┳━━━━━━━━━━━━━━━━━━━━━━━━┳━━━━━━━━━━━━━━━┓\n",
       "┃\u001b[1m \u001b[0m\u001b[1mLayer (type)                   \u001b[0m\u001b[1m \u001b[0m┃\u001b[1m \u001b[0m\u001b[1mOutput Shape          \u001b[0m\u001b[1m \u001b[0m┃\u001b[1m \u001b[0m\u001b[1m      Param #\u001b[0m\u001b[1m \u001b[0m┃\n",
       "┡━━━━━━━━━━━━━━━━━━━━━━━━━━━━━━━━━╇━━━━━━━━━━━━━━━━━━━━━━━━╇━━━━━━━━━━━━━━━┩\n",
       "│ time_distributed_vgg19          │ (\u001b[38;5;45mNone\u001b[0m, \u001b[38;5;34m5\u001b[0m, \u001b[38;5;34m4\u001b[0m, \u001b[38;5;34m4\u001b[0m, \u001b[38;5;34m512\u001b[0m)   │    \u001b[38;5;34m20,024,384\u001b[0m │\n",
       "│ (\u001b[38;5;33mTimeDistributed\u001b[0m)               │                        │               │\n",
       "├─────────────────────────────────┼────────────────────────┼───────────────┤\n",
       "│ time_distributed_pooling        │ (\u001b[38;5;45mNone\u001b[0m, \u001b[38;5;34m5\u001b[0m, \u001b[38;5;34m512\u001b[0m)         │             \u001b[38;5;34m0\u001b[0m │\n",
       "│ (\u001b[38;5;33mTimeDistributed\u001b[0m)               │                        │               │\n",
       "├─────────────────────────────────┼────────────────────────┼───────────────┤\n",
       "│ lstm_vgg19 (\u001b[38;5;33mGRU\u001b[0m)                │ (\u001b[38;5;45mNone\u001b[0m, \u001b[38;5;34m256\u001b[0m)            │       \u001b[38;5;34m591,360\u001b[0m │\n",
       "├─────────────────────────────────┼────────────────────────┼───────────────┤\n",
       "│ batch_normalization_vgg19       │ (\u001b[38;5;45mNone\u001b[0m, \u001b[38;5;34m256\u001b[0m)            │         \u001b[38;5;34m1,024\u001b[0m │\n",
       "│ (\u001b[38;5;33mBatchNormalization\u001b[0m)            │                        │               │\n",
       "├─────────────────────────────────┼────────────────────────┼───────────────┤\n",
       "│ dropout_lstm_vgg19 (\u001b[38;5;33mDropout\u001b[0m)    │ (\u001b[38;5;45mNone\u001b[0m, \u001b[38;5;34m256\u001b[0m)            │             \u001b[38;5;34m0\u001b[0m │\n",
       "├─────────────────────────────────┼────────────────────────┼───────────────┤\n",
       "│ dense_vgg19_1 (\u001b[38;5;33mDense\u001b[0m)           │ (\u001b[38;5;45mNone\u001b[0m, \u001b[38;5;34m512\u001b[0m)            │       \u001b[38;5;34m131,584\u001b[0m │\n",
       "├─────────────────────────────────┼────────────────────────┼───────────────┤\n",
       "│ dropout_dense_vgg19_1 (\u001b[38;5;33mDropout\u001b[0m) │ (\u001b[38;5;45mNone\u001b[0m, \u001b[38;5;34m512\u001b[0m)            │             \u001b[38;5;34m0\u001b[0m │\n",
       "├─────────────────────────────────┼────────────────────────┼───────────────┤\n",
       "│ dense_vgg19_2 (\u001b[38;5;33mDense\u001b[0m)           │ (\u001b[38;5;45mNone\u001b[0m, \u001b[38;5;34m128\u001b[0m)            │        \u001b[38;5;34m65,664\u001b[0m │\n",
       "├─────────────────────────────────┼────────────────────────┼───────────────┤\n",
       "│ dropout_dense_vgg19_2 (\u001b[38;5;33mDropout\u001b[0m) │ (\u001b[38;5;45mNone\u001b[0m, \u001b[38;5;34m128\u001b[0m)            │             \u001b[38;5;34m0\u001b[0m │\n",
       "├─────────────────────────────────┼────────────────────────┼───────────────┤\n",
       "│ output_vgg19 (\u001b[38;5;33mDense\u001b[0m)            │ (\u001b[38;5;45mNone\u001b[0m, \u001b[38;5;34m18\u001b[0m)             │         \u001b[38;5;34m2,322\u001b[0m │\n",
       "└─────────────────────────────────┴────────────────────────┴───────────────┘\n"
      ]
     },
     "metadata": {},
     "output_type": "display_data"
    },
    {
     "data": {
      "text/html": [
       "<pre style=\"white-space:pre;overflow-x:auto;line-height:normal;font-family:Menlo,'DejaVu Sans Mono',consolas,'Courier New',monospace\"><span style=\"font-weight: bold\"> Total params: </span><span style=\"color: #00af00; text-decoration-color: #00af00\">20,816,338</span> (79.41 MB)\n",
       "</pre>\n"
      ],
      "text/plain": [
       "\u001b[1m Total params: \u001b[0m\u001b[38;5;34m20,816,338\u001b[0m (79.41 MB)\n"
      ]
     },
     "metadata": {},
     "output_type": "display_data"
    },
    {
     "data": {
      "text/html": [
       "<pre style=\"white-space:pre;overflow-x:auto;line-height:normal;font-family:Menlo,'DejaVu Sans Mono',consolas,'Courier New',monospace\"><span style=\"font-weight: bold\"> Trainable params: </span><span style=\"color: #00af00; text-decoration-color: #00af00\">791,442</span> (3.02 MB)\n",
       "</pre>\n"
      ],
      "text/plain": [
       "\u001b[1m Trainable params: \u001b[0m\u001b[38;5;34m791,442\u001b[0m (3.02 MB)\n"
      ]
     },
     "metadata": {},
     "output_type": "display_data"
    },
    {
     "data": {
      "text/html": [
       "<pre style=\"white-space:pre;overflow-x:auto;line-height:normal;font-family:Menlo,'DejaVu Sans Mono',consolas,'Courier New',monospace\"><span style=\"font-weight: bold\"> Non-trainable params: </span><span style=\"color: #00af00; text-decoration-color: #00af00\">20,024,896</span> (76.39 MB)\n",
       "</pre>\n"
      ],
      "text/plain": [
       "\u001b[1m Non-trainable params: \u001b[0m\u001b[38;5;34m20,024,896\u001b[0m (76.39 MB)\n"
      ]
     },
     "metadata": {},
     "output_type": "display_data"
    },
    {
     "name": "stdout",
     "output_type": "stream",
     "text": [
      "VGG19+LSTM Model Created Successfully!\n",
      "Xception_VGG19_LSTM Model Plot saved successfully...\n",
      "train_gen.videos shape: (2764, 5, 128, 128, 3)\n",
      "train_gen.labels shape: (2764, 18)\n",
      "val_gen.videos shape: (692, 5, 128, 128, 3)\n",
      "val_gen.labels shape: (692, 18)\n",
      "features_test shape: (864, 5, 128, 128, 3)\n",
      "labels_test shape: (864, 18)\n",
      "train_gen batch videos shape: (24, 5, 128, 128, 3)\n",
      "train_gen batch labels shape: (24, 18)\n",
      "val_gen batch videos shape: (24, 5, 128, 128, 3)\n",
      "val_gen batch labels shape: (24, 18)\n",
      "Dataset - Kard Kinect Activity Recognition Dataset\n",
      "There are total 18 classes, selected 18 classes\n",
      "Setting 50 videos/class to train the model.\n",
      "Image size 128x128 with 5 sequence length\n",
      "Dropout rate: 0.5\n",
      "Train-Test split ratio 80/20\n",
      "Validation data from Train set 20.0%\n",
      "\n",
      "\n",
      "Initial training started for VGG19+LSTM model with 2764 videos of 18 classes with 692 videos for validation...\n",
      "Epoch 1/30\n"
     ]
    },
    {
     "name": "stderr",
     "output_type": "stream",
     "text": [
      "I0000 00:00:1752338834.862230      62 cuda_dnn.cc:529] Loaded cuDNN version 90300\n"
     ]
    },
    {
     "name": "stdout",
     "output_type": "stream",
     "text": [
      "    116/Unknown \u001b[1m43s\u001b[0m 268ms/step - accuracy: 0.1021 - loss: 12.1387"
     ]
    },
    {
     "name": "stderr",
     "output_type": "stream",
     "text": [
      "/usr/local/lib/python3.11/dist-packages/keras/src/trainers/epoch_iterator.py:151: UserWarning: Your input ran out of data; interrupting training. Make sure that your dataset or generator can generate at least `steps_per_epoch * epochs` batches. You may need to use the `.repeat()` function when building your dataset.\n",
      "  self._interrupted_warning()\n"
     ]
    },
    {
     "name": "stdout",
     "output_type": "stream",
     "text": [
      "\u001b[1m116/116\u001b[0m \u001b[32m━━━━━━━━━━━━━━━━━━━━\u001b[0m\u001b[37m\u001b[0m \u001b[1m54s\u001b[0m 366ms/step - accuracy: 0.1025 - loss: 12.1221 - val_accuracy: 0.1734 - val_loss: 8.0774 - learning_rate: 0.0010\n",
      "Epoch 2/30\n",
      "\u001b[1m116/116\u001b[0m \u001b[32m━━━━━━━━━━━━━━━━━━━━\u001b[0m\u001b[37m\u001b[0m \u001b[1m42s\u001b[0m 363ms/step - accuracy: 0.2728 - loss: 7.0858 - val_accuracy: 0.2558 - val_loss: 6.0091 - learning_rate: 0.0010\n",
      "Epoch 3/30\n",
      "\u001b[1m116/116\u001b[0m \u001b[32m━━━━━━━━━━━━━━━━━━━━\u001b[0m\u001b[37m\u001b[0m \u001b[1m40s\u001b[0m 343ms/step - accuracy: 0.4042 - loss: 5.0552 - val_accuracy: 0.4277 - val_loss: 4.2694 - learning_rate: 0.0010\n",
      "Epoch 4/30\n",
      "\u001b[1m116/116\u001b[0m \u001b[32m━━━━━━━━━━━━━━━━━━━━\u001b[0m\u001b[37m\u001b[0m \u001b[1m41s\u001b[0m 357ms/step - accuracy: 0.5423 - loss: 3.6399 - val_accuracy: 0.3699 - val_loss: 3.7336 - learning_rate: 0.0010\n",
      "Epoch 5/30\n",
      "\u001b[1m116/116\u001b[0m \u001b[32m━━━━━━━━━━━━━━━━━━━━\u001b[0m\u001b[37m\u001b[0m \u001b[1m41s\u001b[0m 351ms/step - accuracy: 0.6221 - loss: 2.7803 - val_accuracy: 0.5087 - val_loss: 2.7997 - learning_rate: 0.0010\n",
      "Epoch 6/30\n",
      "\u001b[1m116/116\u001b[0m \u001b[32m━━━━━━━━━━━━━━━━━━━━\u001b[0m\u001b[37m\u001b[0m \u001b[1m41s\u001b[0m 352ms/step - accuracy: 0.7025 - loss: 2.2038 - val_accuracy: 0.5000 - val_loss: 3.2979 - learning_rate: 0.0010\n",
      "Epoch 7/30\n",
      "\u001b[1m116/116\u001b[0m \u001b[32m━━━━━━━━━━━━━━━━━━━━\u001b[0m\u001b[37m\u001b[0m \u001b[1m41s\u001b[0m 354ms/step - accuracy: 0.7423 - loss: 1.8671 - val_accuracy: 0.3916 - val_loss: 3.6285 - learning_rate: 0.0010\n",
      "Epoch 8/30\n",
      "\u001b[1m116/116\u001b[0m \u001b[32m━━━━━━━━━━━━━━━━━━━━\u001b[0m\u001b[37m\u001b[0m \u001b[1m41s\u001b[0m 353ms/step - accuracy: 0.8001 - loss: 1.5295 - val_accuracy: 0.5014 - val_loss: 2.7143 - learning_rate: 0.0010\n",
      "Epoch 9/30\n",
      "\u001b[1m116/116\u001b[0m \u001b[32m━━━━━━━━━━━━━━━━━━━━\u001b[0m\u001b[37m\u001b[0m \u001b[1m41s\u001b[0m 352ms/step - accuracy: 0.8037 - loss: 1.4194 - val_accuracy: 0.5130 - val_loss: 2.3346 - learning_rate: 0.0010\n",
      "Epoch 10/30\n",
      "\u001b[1m116/116\u001b[0m \u001b[32m━━━━━━━━━━━━━━━━━━━━\u001b[0m\u001b[37m\u001b[0m \u001b[1m41s\u001b[0m 352ms/step - accuracy: 0.8248 - loss: 1.2886 - val_accuracy: 0.0896 - val_loss: 9.0353 - learning_rate: 0.0010\n",
      "Epoch 11/30\n",
      "\u001b[1m116/116\u001b[0m \u001b[32m━━━━━━━━━━━━━━━━━━━━\u001b[0m\u001b[37m\u001b[0m \u001b[1m41s\u001b[0m 352ms/step - accuracy: 0.8289 - loss: 1.2704 - val_accuracy: 0.2832 - val_loss: 5.2076 - learning_rate: 0.0010\n",
      "Epoch 12/30\n",
      "\u001b[1m116/116\u001b[0m \u001b[32m━━━━━━━━━━━━━━━━━━━━\u001b[0m\u001b[37m\u001b[0m \u001b[1m41s\u001b[0m 353ms/step - accuracy: 0.8316 - loss: 1.1971 - val_accuracy: 0.6734 - val_loss: 1.8515 - learning_rate: 0.0010\n",
      "Epoch 13/30\n",
      "\u001b[1m116/116\u001b[0m \u001b[32m━━━━━━━━━━━━━━━━━━━━\u001b[0m\u001b[37m\u001b[0m \u001b[1m41s\u001b[0m 352ms/step - accuracy: 0.8381 - loss: 1.2282 - val_accuracy: 0.4509 - val_loss: 3.2218 - learning_rate: 0.0010\n",
      "Epoch 14/30\n",
      "\u001b[1m116/116\u001b[0m \u001b[32m━━━━━━━━━━━━━━━━━━━━\u001b[0m\u001b[37m\u001b[0m \u001b[1m41s\u001b[0m 352ms/step - accuracy: 0.8599 - loss: 1.0940 - val_accuracy: 0.4639 - val_loss: 4.2972 - learning_rate: 0.0010\n",
      "Epoch 15/30\n",
      "\u001b[1m116/116\u001b[0m \u001b[32m━━━━━━━━━━━━━━━━━━━━\u001b[0m\u001b[37m\u001b[0m \u001b[1m41s\u001b[0m 353ms/step - accuracy: 0.8411 - loss: 1.1784 - val_accuracy: 0.6445 - val_loss: 1.8151 - learning_rate: 0.0010\n",
      "Epoch 16/30\n",
      "\u001b[1m116/116\u001b[0m \u001b[32m━━━━━━━━━━━━━━━━━━━━\u001b[0m\u001b[37m\u001b[0m \u001b[1m41s\u001b[0m 352ms/step - accuracy: 0.8465 - loss: 1.1415 - val_accuracy: 0.5766 - val_loss: 2.4588 - learning_rate: 0.0010\n",
      "Epoch 17/30\n",
      "\u001b[1m116/116\u001b[0m \u001b[32m━━━━━━━━━━━━━━━━━━━━\u001b[0m\u001b[37m\u001b[0m \u001b[1m41s\u001b[0m 352ms/step - accuracy: 0.8898 - loss: 1.0098 - val_accuracy: 0.4942 - val_loss: 3.5288 - learning_rate: 0.0010\n",
      "Epoch 18/30\n",
      "\u001b[1m116/116\u001b[0m \u001b[32m━━━━━━━━━━━━━━━━━━━━\u001b[0m\u001b[37m\u001b[0m \u001b[1m41s\u001b[0m 352ms/step - accuracy: 0.8963 - loss: 0.9796 - val_accuracy: 0.3685 - val_loss: 4.3831 - learning_rate: 0.0010\n",
      "Epoch 19/30\n",
      "\u001b[1m116/116\u001b[0m \u001b[32m━━━━━━━━━━━━━━━━━━━━\u001b[0m\u001b[37m\u001b[0m \u001b[1m41s\u001b[0m 353ms/step - accuracy: 0.8870 - loss: 0.9530 - val_accuracy: 0.6185 - val_loss: 1.9261 - learning_rate: 5.0000e-04\n",
      "Epoch 20/30\n",
      "\u001b[1m116/116\u001b[0m \u001b[32m━━━━━━━━━━━━━━━━━━━━\u001b[0m\u001b[37m\u001b[0m \u001b[1m41s\u001b[0m 354ms/step - accuracy: 0.9400 - loss: 0.7520 - val_accuracy: 0.8425 - val_loss: 0.9690 - learning_rate: 5.0000e-04\n",
      "Epoch 21/30\n",
      "\u001b[1m116/116\u001b[0m \u001b[32m━━━━━━━━━━━━━━━━━━━━\u001b[0m\u001b[37m\u001b[0m \u001b[1m41s\u001b[0m 353ms/step - accuracy: 0.9550 - loss: 0.6681 - val_accuracy: 0.7399 - val_loss: 1.3168 - learning_rate: 5.0000e-04\n",
      "Epoch 22/30\n",
      "\u001b[1m116/116\u001b[0m \u001b[32m━━━━━━━━━━━━━━━━━━━━\u001b[0m\u001b[37m\u001b[0m \u001b[1m41s\u001b[0m 353ms/step - accuracy: 0.9441 - loss: 0.6443 - val_accuracy: 0.7355 - val_loss: 1.4575 - learning_rate: 5.0000e-04\n",
      "Epoch 23/30\n",
      "\u001b[1m116/116\u001b[0m \u001b[32m━━━━━━━━━━━━━━━━━━━━\u001b[0m\u001b[37m\u001b[0m \u001b[1m41s\u001b[0m 353ms/step - accuracy: 0.9445 - loss: 0.6269 - val_accuracy: 0.8916 - val_loss: 0.7205 - learning_rate: 5.0000e-04\n",
      "Epoch 24/30\n",
      "\u001b[1m116/116\u001b[0m \u001b[32m━━━━━━━━━━━━━━━━━━━━\u001b[0m\u001b[37m\u001b[0m \u001b[1m41s\u001b[0m 352ms/step - accuracy: 0.9295 - loss: 0.6562 - val_accuracy: 0.7110 - val_loss: 1.2777 - learning_rate: 5.0000e-04\n",
      "Epoch 25/30\n",
      "\u001b[1m116/116\u001b[0m \u001b[32m━━━━━━━━━━━━━━━━━━━━\u001b[0m\u001b[37m\u001b[0m \u001b[1m41s\u001b[0m 352ms/step - accuracy: 0.9397 - loss: 0.6438 - val_accuracy: 0.7023 - val_loss: 1.6216 - learning_rate: 5.0000e-04\n",
      "Epoch 26/30\n",
      "\u001b[1m116/116\u001b[0m \u001b[32m━━━━━━━━━━━━━━━━━━━━\u001b[0m\u001b[37m\u001b[0m \u001b[1m41s\u001b[0m 352ms/step - accuracy: 0.9518 - loss: 0.5894 - val_accuracy: 0.7081 - val_loss: 1.3684 - learning_rate: 5.0000e-04\n",
      "Epoch 27/30\n",
      "\u001b[1m116/116\u001b[0m \u001b[32m━━━━━━━━━━━━━━━━━━━━\u001b[0m\u001b[37m\u001b[0m \u001b[1m41s\u001b[0m 353ms/step - accuracy: 0.9586 - loss: 0.5502 - val_accuracy: 0.9220 - val_loss: 0.6049 - learning_rate: 2.5000e-04\n",
      "Epoch 28/30\n",
      "\u001b[1m116/116\u001b[0m \u001b[32m━━━━━━━━━━━━━━━━━━━━\u001b[0m\u001b[37m\u001b[0m \u001b[1m41s\u001b[0m 354ms/step - accuracy: 0.9746 - loss: 0.4832 - val_accuracy: 0.9494 - val_loss: 0.5126 - learning_rate: 2.5000e-04\n",
      "Epoch 29/30\n",
      "\u001b[1m116/116\u001b[0m \u001b[32m━━━━━━━━━━━━━━━━━━━━\u001b[0m\u001b[37m\u001b[0m \u001b[1m41s\u001b[0m 352ms/step - accuracy: 0.9776 - loss: 0.4596 - val_accuracy: 0.9451 - val_loss: 0.5151 - learning_rate: 2.5000e-04\n",
      "Epoch 30/30\n",
      "\u001b[1m116/116\u001b[0m \u001b[32m━━━━━━━━━━━━━━━━━━━━\u001b[0m\u001b[37m\u001b[0m \u001b[1m41s\u001b[0m 352ms/step - accuracy: 0.9779 - loss: 0.4352 - val_accuracy: 0.9480 - val_loss: 0.4951 - learning_rate: 2.5000e-04\n",
      "\n",
      "Fine-tuning started for VGG19+LSTM model with 2764 videos of 18 classes with 692 videos for validation...\n",
      "Epoch 1/30\n",
      "\u001b[1m116/116\u001b[0m \u001b[32m━━━━━━━━━━━━━━━━━━━━\u001b[0m\u001b[37m\u001b[0m \u001b[1m73s\u001b[0m 540ms/step - accuracy: 0.8167 - loss: 0.9523 - val_accuracy: 0.9393 - val_loss: 0.5325 - learning_rate: 1.0000e-04\n",
      "Epoch 2/30\n",
      "\u001b[1m116/116\u001b[0m \u001b[32m━━━━━━━━━━━━━━━━━━━━\u001b[0m\u001b[37m\u001b[0m \u001b[1m60s\u001b[0m 514ms/step - accuracy: 0.9387 - loss: 0.5273 - val_accuracy: 0.9610 - val_loss: 0.4130 - learning_rate: 1.0000e-04\n",
      "Epoch 3/30\n",
      "\u001b[1m116/116\u001b[0m \u001b[32m━━━━━━━━━━━━━━━━━━━━\u001b[0m\u001b[37m\u001b[0m \u001b[1m60s\u001b[0m 519ms/step - accuracy: 0.9657 - loss: 0.4216 - val_accuracy: 0.9306 - val_loss: 0.4960 - learning_rate: 1.0000e-04\n",
      "Epoch 4/30\n",
      "\u001b[1m116/116\u001b[0m \u001b[32m━━━━━━━━━━━━━━━━━━━━\u001b[0m\u001b[37m\u001b[0m \u001b[1m60s\u001b[0m 514ms/step - accuracy: 0.9526 - loss: 0.4621 - val_accuracy: 0.9220 - val_loss: 0.4959 - learning_rate: 1.0000e-04\n",
      "Epoch 5/30\n",
      "\u001b[1m116/116\u001b[0m \u001b[32m━━━━━━━━━━━━━━━━━━━━\u001b[0m\u001b[37m\u001b[0m \u001b[1m60s\u001b[0m 515ms/step - accuracy: 0.9739 - loss: 0.3702 - val_accuracy: 0.9234 - val_loss: 0.4739 - learning_rate: 1.0000e-04\n",
      "Epoch 6/30\n",
      "\u001b[1m116/116\u001b[0m \u001b[32m━━━━━━━━━━━━━━━━━━━━\u001b[0m\u001b[37m\u001b[0m \u001b[1m60s\u001b[0m 516ms/step - accuracy: 0.9924 - loss: 0.3143 - val_accuracy: 0.9986 - val_loss: 0.2778 - learning_rate: 5.0000e-05\n",
      "Epoch 7/30\n",
      "\u001b[1m116/116\u001b[0m \u001b[32m━━━━━━━━━━━━━━━━━━━━\u001b[0m\u001b[37m\u001b[0m \u001b[1m60s\u001b[0m 519ms/step - accuracy: 0.9979 - loss: 0.2977 - val_accuracy: 0.9971 - val_loss: 0.2777 - learning_rate: 5.0000e-05\n",
      "Epoch 8/30\n",
      "\u001b[1m116/116\u001b[0m \u001b[32m━━━━━━━━━━━━━━━━━━━━\u001b[0m\u001b[37m\u001b[0m \u001b[1m60s\u001b[0m 519ms/step - accuracy: 0.9989 - loss: 0.2830 - val_accuracy: 0.9971 - val_loss: 0.2619 - learning_rate: 5.0000e-05\n",
      "Epoch 9/30\n",
      "\u001b[1m116/116\u001b[0m \u001b[32m━━━━━━━━━━━━━━━━━━━━\u001b[0m\u001b[37m\u001b[0m \u001b[1m60s\u001b[0m 516ms/step - accuracy: 0.9946 - loss: 0.2791 - val_accuracy: 0.9986 - val_loss: 0.2584 - learning_rate: 5.0000e-05\n",
      "Epoch 10/30\n",
      "\u001b[1m116/116\u001b[0m \u001b[32m━━━━━━━━━━━━━━━━━━━━\u001b[0m\u001b[37m\u001b[0m \u001b[1m60s\u001b[0m 516ms/step - accuracy: 0.9997 - loss: 0.2660 - val_accuracy: 1.0000 - val_loss: 0.2482 - learning_rate: 5.0000e-05\n",
      "Epoch 11/30\n",
      "\u001b[1m116/116\u001b[0m \u001b[32m━━━━━━━━━━━━━━━━━━━━\u001b[0m\u001b[37m\u001b[0m \u001b[1m60s\u001b[0m 516ms/step - accuracy: 0.9992 - loss: 0.2624 - val_accuracy: 1.0000 - val_loss: 0.2375 - learning_rate: 5.0000e-05\n",
      "Epoch 12/30\n",
      "\u001b[1m116/116\u001b[0m \u001b[32m━━━━━━━━━━━━━━━━━━━━\u001b[0m\u001b[37m\u001b[0m \u001b[1m60s\u001b[0m 516ms/step - accuracy: 0.9988 - loss: 0.2569 - val_accuracy: 1.0000 - val_loss: 0.2295 - learning_rate: 5.0000e-05\n",
      "Epoch 13/30\n",
      "\u001b[1m116/116\u001b[0m \u001b[32m━━━━━━━━━━━━━━━━━━━━\u001b[0m\u001b[37m\u001b[0m \u001b[1m60s\u001b[0m 516ms/step - accuracy: 0.9999 - loss: 0.2470 - val_accuracy: 0.9986 - val_loss: 0.2252 - learning_rate: 5.0000e-05\n",
      "Epoch 14/30\n",
      "\u001b[1m116/116\u001b[0m \u001b[32m━━━━━━━━━━━━━━━━━━━━\u001b[0m\u001b[37m\u001b[0m \u001b[1m60s\u001b[0m 517ms/step - accuracy: 0.9997 - loss: 0.2385 - val_accuracy: 0.9986 - val_loss: 0.2194 - learning_rate: 5.0000e-05\n",
      "Epoch 15/30\n",
      "\u001b[1m116/116\u001b[0m \u001b[32m━━━━━━━━━━━━━━━━━━━━\u001b[0m\u001b[37m\u001b[0m \u001b[1m60s\u001b[0m 518ms/step - accuracy: 0.9991 - loss: 0.2317 - val_accuracy: 0.9986 - val_loss: 0.2122 - learning_rate: 5.0000e-05\n",
      "Epoch 16/30\n",
      "\u001b[1m116/116\u001b[0m \u001b[32m━━━━━━━━━━━━━━━━━━━━\u001b[0m\u001b[37m\u001b[0m \u001b[1m60s\u001b[0m 518ms/step - accuracy: 0.9994 - loss: 0.2292 - val_accuracy: 0.9986 - val_loss: 0.2040 - learning_rate: 5.0000e-05\n",
      "Epoch 17/30\n",
      "\u001b[1m116/116\u001b[0m \u001b[32m━━━━━━━━━━━━━━━━━━━━\u001b[0m\u001b[37m\u001b[0m \u001b[1m60s\u001b[0m 518ms/step - accuracy: 1.0000 - loss: 0.2195 - val_accuracy: 0.9986 - val_loss: 0.1980 - learning_rate: 5.0000e-05\n",
      "Epoch 18/30\n",
      "\u001b[1m116/116\u001b[0m \u001b[32m━━━━━━━━━━━━━━━━━━━━\u001b[0m\u001b[37m\u001b[0m \u001b[1m60s\u001b[0m 518ms/step - accuracy: 1.0000 - loss: 0.2131 - val_accuracy: 0.9986 - val_loss: 0.1919 - learning_rate: 5.0000e-05\n",
      "Epoch 19/30\n",
      "\u001b[1m116/116\u001b[0m \u001b[32m━━━━━━━━━━━━━━━━━━━━\u001b[0m\u001b[37m\u001b[0m \u001b[1m60s\u001b[0m 520ms/step - accuracy: 1.0000 - loss: 0.2092 - val_accuracy: 0.9971 - val_loss: 0.1911 - learning_rate: 5.0000e-05\n",
      "Epoch 20/30\n",
      "\u001b[1m116/116\u001b[0m \u001b[32m━━━━━━━━━━━━━━━━━━━━\u001b[0m\u001b[37m\u001b[0m \u001b[1m60s\u001b[0m 521ms/step - accuracy: 0.9993 - loss: 0.2033 - val_accuracy: 0.9986 - val_loss: 0.1809 - learning_rate: 5.0000e-05\n",
      "Epoch 21/30\n",
      "\u001b[1m116/116\u001b[0m \u001b[32m━━━━━━━━━━━━━━━━━━━━\u001b[0m\u001b[37m\u001b[0m \u001b[1m60s\u001b[0m 520ms/step - accuracy: 0.9996 - loss: 0.2015 - val_accuracy: 1.0000 - val_loss: 0.1796 - learning_rate: 5.0000e-05\n",
      "Epoch 22/30\n",
      "\u001b[1m116/116\u001b[0m \u001b[32m━━━━━━━━━━━━━━━━━━━━\u001b[0m\u001b[37m\u001b[0m \u001b[1m60s\u001b[0m 520ms/step - accuracy: 1.0000 - loss: 0.1933 - val_accuracy: 1.0000 - val_loss: 0.1736 - learning_rate: 5.0000e-05\n",
      "Epoch 23/30\n",
      "\u001b[1m116/116\u001b[0m \u001b[32m━━━━━━━━━━━━━━━━━━━━\u001b[0m\u001b[37m\u001b[0m \u001b[1m60s\u001b[0m 519ms/step - accuracy: 0.9993 - loss: 0.1918 - val_accuracy: 0.9884 - val_loss: 0.2067 - learning_rate: 5.0000e-05\n",
      "Epoch 24/30\n",
      "\u001b[1m116/116\u001b[0m \u001b[32m━━━━━━━━━━━━━━━━━━━━\u001b[0m\u001b[37m\u001b[0m \u001b[1m60s\u001b[0m 519ms/step - accuracy: 0.9991 - loss: 0.1929 - val_accuracy: 1.0000 - val_loss: 0.1755 - learning_rate: 5.0000e-05\n",
      "Epoch 25/30\n",
      "\u001b[1m116/116\u001b[0m \u001b[32m━━━━━━━━━━━━━━━━━━━━\u001b[0m\u001b[37m\u001b[0m \u001b[1m60s\u001b[0m 519ms/step - accuracy: 0.9985 - loss: 0.1890 - val_accuracy: 0.9971 - val_loss: 0.1706 - learning_rate: 5.0000e-05\n",
      "Epoch 26/30\n",
      "\u001b[1m116/116\u001b[0m \u001b[32m━━━━━━━━━━━━━━━━━━━━\u001b[0m\u001b[37m\u001b[0m \u001b[1m60s\u001b[0m 518ms/step - accuracy: 0.9990 - loss: 0.1806 - val_accuracy: 0.9884 - val_loss: 0.1949 - learning_rate: 5.0000e-05\n",
      "Epoch 27/30\n",
      "\u001b[1m116/116\u001b[0m \u001b[32m━━━━━━━━━━━━━━━━━━━━\u001b[0m\u001b[37m\u001b[0m \u001b[1m60s\u001b[0m 518ms/step - accuracy: 0.9950 - loss: 0.1888 - val_accuracy: 0.9928 - val_loss: 0.1688 - learning_rate: 5.0000e-05\n",
      "Epoch 28/30\n",
      "\u001b[1m116/116\u001b[0m \u001b[32m━━━━━━━━━━━━━━━━━━━━\u001b[0m\u001b[37m\u001b[0m \u001b[1m60s\u001b[0m 518ms/step - accuracy: 0.9966 - loss: 0.1775 - val_accuracy: 1.0000 - val_loss: 0.1552 - learning_rate: 5.0000e-05\n",
      "Epoch 29/30\n",
      "\u001b[1m116/116\u001b[0m \u001b[32m━━━━━━━━━━━━━━━━━━━━\u001b[0m\u001b[37m\u001b[0m \u001b[1m60s\u001b[0m 518ms/step - accuracy: 0.9999 - loss: 0.1699 - val_accuracy: 0.9957 - val_loss: 0.1668 - learning_rate: 5.0000e-05\n",
      "Epoch 30/30\n",
      "\u001b[1m116/116\u001b[0m \u001b[32m━━━━━━━━━━━━━━━━━━━━\u001b[0m\u001b[37m\u001b[0m \u001b[1m60s\u001b[0m 518ms/step - accuracy: 0.9992 - loss: 0.1695 - val_accuracy: 0.9971 - val_loss: 0.1533 - learning_rate: 5.0000e-05\n",
      "\n",
      "Evaluating VGG19+LSTM model on test set...\n",
      "Total 864 videos and 864 classes\n",
      "test_gen batch videos shape: (24, 5, 128, 128, 3)\n",
      "test_gen batch labels shape: (24, 18)\n",
      "\u001b[1m36/36\u001b[0m \u001b[32m━━━━━━━━━━━━━━━━━━━━\u001b[0m\u001b[37m\u001b[0m \u001b[1m10s\u001b[0m 283ms/step - accuracy: 0.9997 - loss: 0.1496\n",
      "VGG19+LSTM Test Loss: 0.1507\n",
      "VGG19+LSTM Test Accuracy: 99.88%\n"
     ]
    },
    {
     "data": {
      "image/png": "[encoded data removed]",
      "text/plain": [
       "<Figure size 1200x500 with 2 Axes>"
      ]
     },
     "metadata": {},
     "output_type": "display_data"
    },
    {
     "name": "stdout",
     "output_type": "stream",
     "text": [
      "\u001b[1m36/36\u001b[0m \u001b[32m━━━━━━━━━━━━━━━━━━━━\u001b[0m\u001b[37m\u001b[0m \u001b[1m12s\u001b[0m 280ms/step\n",
      "True classes shape: (864,)\n",
      "Predicted classes shape: (864,)\n",
      "\n",
      "VGG19+LSTM Classification Report:\n",
      "                     precision    recall  f1-score   support\n",
      "\n",
      "          Catch Cap       1.00      1.00      1.00        54\n",
      "              Drink       1.00      1.00      1.00        59\n",
      "           Sit down       1.00      1.00      1.00        40\n",
      "          Draw Tick       0.98      1.00      0.99        47\n",
      "         Phone Call       1.00      1.00      1.00        49\n",
      "Horizontal arm wave       1.00      1.00      1.00        52\n",
      "          Hand Clap       1.00      1.00      1.00        53\n",
      "         High throw       1.00      1.00      1.00        50\n",
      "       Forward Kick       1.00      1.00      1.00        45\n",
      "           Stand up       1.00      1.00      1.00        34\n",
      "      Two hand wave       1.00      1.00      1.00        35\n",
      "         Toss Paper       1.00      1.00      1.00        42\n",
      "               Walk       1.00      1.00      1.00        57\n",
      "          Side Kick       1.00      1.00      1.00        56\n",
      "               Bend       1.00      1.00      1.00        42\n",
      "      Take Umbrella       1.00      1.00      1.00        55\n",
      "      High arm wave       1.00      1.00      1.00        49\n",
      "             Draw X       1.00      0.98      0.99        45\n",
      "\n",
      "           accuracy                           1.00       864\n",
      "          macro avg       1.00      1.00      1.00       864\n",
      "       weighted avg       1.00      1.00      1.00       864\n",
      "\n"
     ]
    },
    {
     "name": "stderr",
     "output_type": "stream",
     "text": [
      "/usr/local/lib/python3.11/dist-packages/keras/src/trainers/epoch_iterator.py:151: UserWarning: Your input ran out of data; interrupting training. Make sure that your dataset or generator can generate at least `steps_per_epoch * epochs` batches. You may need to use the `.repeat()` function when building your dataset.\n",
      "  self._interrupted_warning()\n"
     ]
    },
    {
     "data": {
      "image/png": "[encoded data removed]",
      "text/plain": [
       "<Figure size 800x600 with 2 Axes>"
      ]
     },
     "metadata": {},
     "output_type": "display_data"
    }
   ],
   "source": [
    "# Import necessary libraries\n",
    "from tensorflow.keras.applications import VGG19\n",
    "from tensorflow.keras.models import Sequential\n",
    "from tensorflow.keras.layers import TimeDistributed, GlobalAveragePooling2D, Dropout, Dense, BatchNormalization, GRU\n",
    "from tensorflow.keras.regularizers import l2\n",
    "from tensorflow.keras.callbacks import EarlyStopping, ReduceLROnPlateau\n",
    "from tensorflow.keras.utils import to_categorical\n",
    "import tensorflow as tf\n",
    "import numpy as np\n",
    "import gc\n",
    "\n",
    "# Clear memory before creating the new model\n",
    "gc.collect()\n",
    "tf.keras.backend.clear_session()\n",
    "print(\"Memory cleared before creating VGG19+LSTM model\")\n",
    "\n",
    "# Print TensorFlow version\n",
    "print(f\"TensorFlow version: {tf.__version__}\")\n",
    "\n",
    "# Pre-load VGG19 weights\n",
    "print(\"Pre-loading VGG19 weights...\")\n",
    "try:\n",
    "    base_model = VGG19(weights='imagenet', include_top=False, input_shape=(IMAGE_HEIGHT, IMAGE_WIDTH, 3))\n",
    "    print(\"VGG19 weights loaded successfully!\")\n",
    "except Exception as e:\n",
    "    print(f\"Failed to load VGG19 weights: {str(e)}\")\n",
    "    print(\"Falling back to initializing VGG19 without pre-trained weights...\")\n",
    "    base_model = VGG19(weights=None, include_top=False, input_shape=(IMAGE_HEIGHT, IMAGE_WIDTH, 3))\n",
    "\n",
    "# Define function to create VGG19+LSTM model\n",
    "def create_vgg19_lstm_model(sequence_length, image_height, image_width, classes_list=None, dropout_rate=0.5, base_model=None):\n",
    "    print(\"Creating VGG19+LSTM model with parameters:\")\n",
    "    print(f\"sequence_length: {sequence_length}, image_height: {image_height}, image_width: {image_width}, classes_list length: {len(classes_list) if classes_list is not None else None}, dropout_rate: {dropout_rate}\")\n",
    "    \n",
    "    if classes_list is None:\n",
    "        raise ValueError(\"classes_list must be provided to define the output layer size\")\n",
    "    if base_model is None:\n",
    "        raise ValueError(\"base_model must be provided to avoid re-downloading weights\")\n",
    "\n",
    "    try:\n",
    "        # Use the pre-loaded base model\n",
    "        vgg19 = base_model\n",
    "        # Freeze the base model for initial training\n",
    "        vgg19.trainable = False\n",
    "\n",
    "        # Define the Sequential model\n",
    "        model = Sequential([\n",
    "            # TimeDistributed VGG19 model\n",
    "            TimeDistributed(\n",
    "                vgg19,\n",
    "                input_shape=(sequence_length, image_height, image_width, 3),\n",
    "                name=\"time_distributed_vgg19\"\n",
    "            ),\n",
    "            # TimeDistributed GlobalAveragePooling2D\n",
    "            TimeDistributed(GlobalAveragePooling2D(), name=\"time_distributed_pooling\"),\n",
    "            # LSTM layer with 512 units\n",
    "            GRU(256, activation=\"tanh\", return_sequences=False, kernel_regularizer=l2(0.01), name=\"lstm_vgg19\"),\n",
    "            BatchNormalization(name=\"batch_normalization_vgg19\"),\n",
    "            # Dropout after LSTM\n",
    "            Dropout(dropout_rate, name=\"dropout_lstm_vgg19\"),\n",
    "            # Dense layer with 512 units\n",
    "            Dense(512, activation=\"relu\", kernel_regularizer=l2(0.01), name=\"dense_vgg19_1\"),\n",
    "            # Dropout after first Dense\n",
    "            Dropout(dropout_rate, name=\"dropout_dense_vgg19_1\"),\n",
    "            # Dense layer with 128 units\n",
    "            Dense(128, activation=\"relu\", kernel_regularizer=l2(0.01), name=\"dense_vgg19_2\"),\n",
    "            # Dropout after second Dense\n",
    "            Dropout(dropout_rate, name=\"dropout_dense_vgg19_2\"),\n",
    "            # Output Dense layer with softmax activation\n",
    "            Dense(len(classes_list), activation=\"softmax\", name=\"output_vgg19\")\n",
    "        ])\n",
    "\n",
    "        # Print model summary\n",
    "        print(\"VGG19+LSTM model architecture created successfully!\")\n",
    "        model.summary()\n",
    "\n",
    "        return model\n",
    "\n",
    "    except Exception as e:\n",
    "        print(f\"Error creating VGG19+LSTM model: {str(e)}\")\n",
    "        import traceback\n",
    "        traceback.print_exc()\n",
    "        return None\n",
    "\n",
    "# Create the VGG19+LSTM model using the pre-loaded base model\n",
    "vgg19_lstm_model = create_vgg19_lstm_model(\n",
    "    sequence_length=SEQUENCE_LENGTH,\n",
    "    image_height=IMAGE_HEIGHT,\n",
    "    image_width=IMAGE_WIDTH,\n",
    "    classes_list=CLASSES_LIST,\n",
    "    dropout_rate=DROPOUT_RATE,\n",
    "    base_model=base_model\n",
    ")\n",
    "\n",
    "# Check if model was created successfully\n",
    "if vgg19_lstm_model is None:\n",
    "    raise ValueError(\"Failed to create VGG19+LSTM model. Check error messages above.\")\n",
    "else:\n",
    "    print(\"VGG19+LSTM Model Created Successfully!\")\n",
    "\n",
    "# Plot the model structure\n",
    "from tensorflow.keras.utils import plot_model\n",
    "try:\n",
    "    plot_model(vgg19_lstm_model, to_file=f'{MODEL_NAME}_VGG19_LSTM_model_Plot.png', show_shapes=True, show_layer_names=True)\n",
    "    print(f\"{MODEL_NAME}_VGG19_LSTM Model Plot saved successfully...\")\n",
    "except Exception as e:\n",
    "    print(f\"Failed to plot model: {str(e)}\")\n",
    "\n",
    "# Verify data shapes\n",
    "print(f\"train_gen.videos shape: {np.shape(train_gen.videos)}\")\n",
    "print(f\"train_gen.labels shape: {np.shape(train_gen.labels)}\")\n",
    "print(f\"val_gen.videos shape: {np.shape(val_gen.videos)}\")\n",
    "print(f\"val_gen.labels shape: {np.shape(val_gen.labels)}\")\n",
    "print(f\"features_test shape: {np.shape(features_test)}\")\n",
    "print(f\"labels_test shape: {np.shape(labels_test)}\")\n",
    "\n",
    "# Ensure labels_test is one-hot encoded\n",
    "if len(labels_test.shape) == 1:\n",
    "    print(\"Converting labels_test to one-hot encoded format...\")\n",
    "    labels_test = to_categorical(labels_test, num_classes=NO_OF_CLASSES)\n",
    "    print(f\"New labels_test shape: {labels_test.shape}\")\n",
    "\n",
    "# Verify generator batch shapes\n",
    "try:\n",
    "    videos, labels = train_gen[0]\n",
    "    print(f\"train_gen batch videos shape: {videos.shape}\")\n",
    "    print(f\"train_gen batch labels shape: {labels.shape}\")\n",
    "    videos, labels = val_gen[0]\n",
    "    print(f\"val_gen batch videos shape: {videos.shape}\")\n",
    "    print(f\"val_gen batch labels shape: {labels.shape}\")\n",
    "except Exception as e:\n",
    "    print(f\"Error accessing generator data: {str(e)}\")\n",
    "\n",
    "# Compile the model for initial training\n",
    "early_stopping_callback = EarlyStopping(monitor='val_loss', patience=7, mode='min', restore_best_weights=True)\n",
    "lr_scheduler = ReduceLROnPlateau(monitor='val_loss', factor=0.5, patience=3, min_lr=1e-6)\n",
    "\n",
    "vgg19_lstm_model.compile(\n",
    "    loss='categorical_crossentropy',\n",
    "    optimizer=tf.keras.optimizers.Adam(learning_rate=0.001),  # Higher learning rate for initial training\n",
    "    metrics=['accuracy']\n",
    ")\n",
    "\n",
    "# Print dataset summary\n",
    "print(f\"Dataset - {DATASET_NAME}\")\n",
    "print(f\"There are total {len(ALL_CLASS_NAMES)} classes, selected {NO_OF_CLASSES} classes\")\n",
    "print(f\"Setting {MAX_VIDEO_PER_CLASS} videos/class to train the model.\")\n",
    "print(f\"Image size {IMAGE_HEIGHT}x{IMAGE_WIDTH} with {SEQUENCE_LENGTH} sequence length\")\n",
    "print(f\"Dropout rate: {DROPOUT_RATE}\")\n",
    "print(f\"Train-Test split ratio {int((1-TEST_SIZE)*100)}/{int(TEST_SIZE*100)}\")\n",
    "print(f\"Validation data from Train set {VALIDATION_SPLIT*100}%\")\n",
    "print(\"\\n\")\n",
    "\n",
    "# Initial training with frozen base model\n",
    "print(f\"Initial training started for VGG19+LSTM model with {len(train_gen.videos)} videos of {NO_OF_CLASSES} classes with {len(val_gen.videos)} videos for validation...\")\n",
    "try:\n",
    "    vgg19_history_initial = vgg19_lstm_model.fit(\n",
    "        train_gen.as_dataset(),\n",
    "        validation_data=val_gen.as_dataset(),\n",
    "        epochs=EPOCHS,\n",
    "        class_weight=class_weights,\n",
    "        callbacks=[early_stopping_callback, lr_scheduler]\n",
    "    )\n",
    "except Exception as e:\n",
    "    print(f\"Error during initial model training: {str(e)}\")\n",
    "    import traceback\n",
    "    traceback.print_exc()\n",
    "\n",
    "# Unfreeze some layers for fine-tuning\n",
    "base_model.trainable = True\n",
    "# Freeze all layers except the last 8 layers (consistent with previous VGG19 code)\n",
    "for layer in base_model.layers[:-8]:\n",
    "    layer.trainable = False\n",
    "\n",
    "# Recompile the model with a lower learning rate for fine-tuning\n",
    "vgg19_lstm_model.compile(\n",
    "    loss='categorical_crossentropy',\n",
    "    optimizer=tf.keras.optimizers.Adam(learning_rate=0.0001),  # Lower learning rate for fine-tuning\n",
    "    metrics=['accuracy']\n",
    ")\n",
    "\n",
    "# Fine-tune the model\n",
    "print(f\"\\nFine-tuning started for VGG19+LSTM model with {len(train_gen.videos)} videos of {NO_OF_CLASSES} classes with {len(val_gen.videos)} videos for validation...\")\n",
    "try:\n",
    "    vgg19_history_fine = vgg19_lstm_model.fit(\n",
    "        train_gen.as_dataset(),\n",
    "        validation_data=val_gen.as_dataset(),\n",
    "        epochs=EPOCHS,\n",
    "        class_weight=class_weights,\n",
    "        callbacks=[early_stopping_callback, lr_scheduler]\n",
    "    )\n",
    "except Exception as e:\n",
    "    print(f\"Error during fine-tuning: {str(e)}\")\n",
    "    import traceback\n",
    "    traceback.print_exc()\n",
    "\n",
    "# Evaluate the model on the test set\n",
    "print(\"\\nEvaluating VGG19+LSTM model on test set...\")\n",
    "test_gen = VideoDataGenerator(\n",
    "    videos=features_test,\n",
    "    labels=labels_test,\n",
    "    batch_size=BATCH_SIZE\n",
    ")\n",
    "try:\n",
    "    videos, labels = test_gen[0]\n",
    "    print(f\"test_gen batch videos shape: {videos.shape}\")\n",
    "    print(f\"test_gen batch labels shape: {labels.shape}\")\n",
    "    loss, accuracy = vgg19_lstm_model.evaluate(test_gen.as_dataset())\n",
    "    print(f'VGG19+LSTM Test Loss: {loss:.4f}')\n",
    "    print(f'VGG19+LSTM Test Accuracy: {accuracy * 100:.2f}%')\n",
    "except Exception as e:\n",
    "    print(f\"Error during model evaluation: {str(e)}\")\n",
    "    import traceback\n",
    "    traceback.print_exc()\n",
    "\n",
    "# Plot training history (combine initial and fine-tuning)\n",
    "import matplotlib.pyplot as plt\n",
    "\n",
    "try:\n",
    "    # Combine histories\n",
    "    history_accuracy = vgg19_history_initial.history['accuracy'] + vgg19_history_fine.history['accuracy']\n",
    "    history_val_accuracy = vgg19_history_initial.history['val_accuracy'] + vgg19_history_fine.history['val_accuracy']\n",
    "    history_loss = vgg19_history_initial.history['loss'] + vgg19_history_fine.history['loss']\n",
    "    history_val_loss = vgg19_history_initial.history['val_loss'] + vgg19_history_fine.history['val_loss']\n",
    "\n",
    "    plt.figure(figsize=(12, 5))\n",
    "\n",
    "    # Accuracy\n",
    "    plt.subplot(1, 2, 1)\n",
    "    plt.plot(history_accuracy, label='Train Accuracy')\n",
    "    plt.plot(history_val_accuracy, label='Validation Accuracy')\n",
    "    plt.axvline(x=len(vgg19_history_initial.history['accuracy']), color='r', linestyle='--', label='Start Fine-Tuning')\n",
    "    plt.title('VGG19+LSTM Model Accuracy')\n",
    "    plt.xlabel('Epoch')\n",
    "    plt.ylabel('Accuracy')\n",
    "    plt.legend()\n",
    "\n",
    "    # Loss\n",
    "    plt.subplot(1, 2, 2)\n",
    "    plt.plot(history_loss, label='Train Loss')\n",
    "    plt.plot(history_val_loss, label='Validation Loss')\n",
    "    plt.axvline(x=len(vgg19_history_initial.history['loss']), color='r', linestyle='--', label='Start Fine-Tuning')\n",
    "    plt.title('VGG19+LSTM Model Loss')\n",
    "    plt.xlabel('Epoch')\n",
    "    plt.ylabel('Loss')\n",
    "    plt.legend()\n",
    "\n",
    "    plt.tight_layout()\n",
    "    plt.show()\n",
    "except Exception as e:\n",
    "    print(f\"Error plotting training history: {str(e)}\")\n",
    "\n",
    "# Generate confusion matrix and classification report\n",
    "from sklearn.metrics import classification_report, confusion_matrix\n",
    "import seaborn as sns\n",
    "\n",
    "# Get predictions\n",
    "try:\n",
    "    predictions = vgg19_lstm_model.predict(test_gen.as_dataset())\n",
    "    predicted_classes = np.argmax(predictions, axis=1)\n",
    "    true_classes = np.argmax(labels_test, axis=1)\n",
    "\n",
    "    # Verify shapes\n",
    "    print(f\"True classes shape: {true_classes.shape}\")\n",
    "    print(f\"Predicted classes shape: {predicted_classes.shape}\")\n",
    "    assert len(true_classes) == len(predicted_classes), \"Sample counts do not match!\"\n",
    "\n",
    "    # Generate classification report\n",
    "    print(\"\\nVGG19+LSTM Classification Report:\")\n",
    "    print(classification_report(true_classes, predicted_classes, target_names=CLASSES_LIST))\n",
    "\n",
    "    # Plot confusion matrix\n",
    "    cm = confusion_matrix(true_classes, predicted_classes)\n",
    "    plt.figure(figsize=(8, 6))\n",
    "    sns.heatmap(cm, annot=True, fmt='d', cmap='Blues', xticklabels=CLASSES_LIST, yticklabels=CLASSES_LIST)\n",
    "    plt.xlabel('Predicted')\n",
    "    plt.ylabel('True')\n",
    "    plt.title('VGG19+LSTM Confusion Matrix')\n",
    "    plt.show()\n",
    "except Exception as e:\n",
    "    print(f\"Error during prediction or plotting: {str(e)}\")\n",
    "    import traceback\n",
    "    traceback.print_exc()"
   ]
  },
  {
   "cell_type": "code",
   "execution_count": 55,
   "id": "5790f056",
   "metadata": {
    "execution": {
     "iopub.execute_input": "2025-07-12T17:38:24.223876Z",
     "iopub.status.busy": "2025-07-12T17:38:24.222891Z",
     "iopub.status.idle": "2025-07-12T17:38:36.168326Z",
     "shell.execute_reply": "2025-07-12T17:38:36.167764Z"
    },
    "papermill": {
     "duration": 12.373969,
     "end_time": "2025-07-12T17:38:36.169409",
     "exception": false,
     "start_time": "2025-07-12T17:38:23.795440",
     "status": "completed"
    },
    "tags": []
   },
   "outputs": [
    {
     "name": "stdout",
     "output_type": "stream",
     "text": [
      "\u001b[1m27/27\u001b[0m \u001b[32m━━━━━━━━━━━━━━━━━━━━\u001b[0m\u001b[37m\u001b[0m \u001b[1m10s\u001b[0m 307ms/step - accuracy: 0.9997 - loss: 0.1499\n"
     ]
    }
   ],
   "source": [
    "# previous code\n",
    "model_evaluation_history = vgg19_lstm_model.evaluate(features_test, labels_test)"
   ]
  }
 ],
 "metadata": {
  "kaggle": {
   "accelerator": "nvidiaTeslaT4",
   "dataSources": [
    {
     "datasetId": 1357563,
     "sourceId": 2256095,
     "sourceType": "datasetVersion"
    },
    {
     "datasetId": 7763484,
     "sourceId": 12338519,
     "sourceType": "datasetVersion"
    },
    {
     "datasetId": 7801555,
     "sourceId": 12373067,
     "sourceType": "datasetVersion"
    },
    {
     "datasetId": 7801884,
     "sourceId": 12373562,
     "sourceType": "datasetVersion"
    }
   ],
   "dockerImageVersionId": 31090,
   "isGpuEnabled": true,
   "isInternetEnabled": true,
   "language": "python",
   "sourceType": "notebook"
  },
  "kernelspec": {
   "display_name": "Python 3",
   "language": "python",
   "name": "python3"
  },
  "language_info": {
   "codemirror_mode": {
    "name": "ipython",
    "version": 3
   },
   "file_extension": ".py",
   "mimetype": "text/x-python",
   "name": "python",
   "nbconvert_exporter": "python",
   "pygments_lexer": "ipython3",
   "version": "3.11.13"
  },
  "papermill": {
   "default_parameters": {},
   "duration": 3722.374362,
   "end_time": "2025-07-12T17:38:40.133137",
   "environment_variables": {},
   "exception": null,
   "input_path": "__notebook__.ipynb",
   "output_path": "__notebook__.ipynb",
   "parameters": {},
   "start_time": "2025-07-12T16:36:37.758775",
   "version": "2.6.0"
  }
 },
 "nbformat": 4,
 "nbformat_minor": 5
}
