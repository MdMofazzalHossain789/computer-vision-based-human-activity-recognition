{
 "cells": [
  {
   "cell_type": "markdown",
   "id": "ac3fbdd7",
   "metadata": {
    "papermill": {
     "duration": 0.009496,
     "end_time": "2025-07-12T16:19:01.417784",
     "exception": false,
     "start_time": "2025-07-12T16:19:01.408288",
     "status": "completed"
    },
    "tags": []
   },
   "source": [
    "# Initialization\n",
    "## Import Libraries"
   ]
  },
  {
   "cell_type": "code",
   "execution_count": 1,
   "id": "cf92577f",
   "metadata": {
    "_cell_guid": "b1076dfc-b9ad-4769-8c92-a6c4dae69d19",
    "_uuid": "8f2839f25d086af736a60e9eeb907d3b93b6e0e5",
    "execution": {
     "iopub.execute_input": "2025-07-12T16:19:01.434904Z",
     "iopub.status.busy": "2025-07-12T16:19:01.434688Z",
     "iopub.status.idle": "2025-07-12T16:19:15.562916Z",
     "shell.execute_reply": "2025-07-12T16:19:15.562352Z"
    },
    "papermill": {
     "duration": 14.138257,
     "end_time": "2025-07-12T16:19:15.564420",
     "exception": false,
     "start_time": "2025-07-12T16:19:01.426163",
     "status": "completed"
    },
    "tags": []
   },
   "outputs": [
    {
     "name": "stderr",
     "output_type": "stream",
     "text": [
      "2025-07-12 16:19:02.745155: E external/local_xla/xla/stream_executor/cuda/cuda_fft.cc:477] Unable to register cuFFT factory: Attempting to register factory for plugin cuFFT when one has already been registered\n",
      "WARNING: All log messages before absl::InitializeLog() is called are written to STDERR\n",
      "E0000 00:00:1752337142.918319      19 cuda_dnn.cc:8310] Unable to register cuDNN factory: Attempting to register factory for plugin cuDNN when one has already been registered\n",
      "E0000 00:00:1752337142.967677      19 cuda_blas.cc:1418] Unable to register cuBLAS factory: Attempting to register factory for plugin cuBLAS when one has already been registered\n"
     ]
    }
   ],
   "source": [
    "# install librarires\n",
    "import os\n",
    "import tensorflow as tf\n",
    "import numpy as np\n",
    "import random"
   ]
  },
  {
   "cell_type": "markdown",
   "id": "3572f59f",
   "metadata": {
    "papermill": {
     "duration": 0.009382,
     "end_time": "2025-07-12T16:19:15.582518",
     "exception": false,
     "start_time": "2025-07-12T16:19:15.573136",
     "status": "completed"
    },
    "tags": []
   },
   "source": [
    "## ℹ️ Set Global Constants"
   ]
  },
  {
   "cell_type": "code",
   "execution_count": 2,
   "id": "a75f2e25",
   "metadata": {
    "execution": {
     "iopub.execute_input": "2025-07-12T16:19:15.599826Z",
     "iopub.status.busy": "2025-07-12T16:19:15.599423Z",
     "iopub.status.idle": "2025-07-12T16:19:15.611908Z",
     "shell.execute_reply": "2025-07-12T16:19:15.611040Z"
    },
    "papermill": {
     "duration": 0.022304,
     "end_time": "2025-07-12T16:19:15.613049",
     "exception": false,
     "start_time": "2025-07-12T16:19:15.590745",
     "status": "completed"
    },
    "tags": []
   },
   "outputs": [
    {
     "name": "stdout",
     "output_type": "stream",
     "text": [
      "Precis Har Rgb\n",
      "There are total 16 classes, selected 16 classes\n",
      "Setting None/class to train the model.\n",
      "Image size 128x128 with 5 sequence length\n",
      "Dropout rate: 0.5\n",
      "Train-Test split ratio 80/20\n",
      "Validation data from Train set 20.0%\n"
     ]
    }
   ],
   "source": [
    "# global variables\n",
    "# set dataset directories\n",
    "\n",
    "\n",
    "DATASET_DIR = \"/kaggle/input/precis-har-rgb\"\n",
    "DATASET_NAME = DATASET_DIR.split(\"/\")[-1].replace(\"-\", \" \").title()\n",
    "\n",
    "print(DATASET_NAME)\n",
    "\n",
    "ALL_CLASS_NAMES = os.listdir(DATASET_DIR)\n",
    "\n",
    "# Global constant variables -> \n",
    "NO_OF_CLASSES = len(ALL_CLASS_NAMES)\n",
    "CLASSES_LIST = ALL_CLASS_NAMES[:NO_OF_CLASSES]\n",
    "\n",
    "# Model Configuration\n",
    "IMAGE_HEIGHT, IMAGE_WIDTH = 128, 128\n",
    "SEQUENCE_LENGTH = 5\n",
    "\n",
    "# set drop out rate\n",
    "DROPOUT_RATE = 0.5\n",
    "\n",
    "# set datas\n",
    "MAX_VIDEO_PER_CLASS = None\n",
    "\n",
    "# split dataset\n",
    "TEST_SIZE = 0.20\n",
    "\n",
    "# model fit parameters\n",
    "EPOCHS = 30\n",
    "BATCH_SIZE = 24\n",
    "VALIDATION_SPLIT = 0.20\n",
    "\n",
    "# augmentation values\n",
    "NOISE_FACTOR = 0.02\n",
    "SHEAR_X= 1\n",
    "SHEAR_Y= 1\n",
    "\n",
    "# give a name of the model to save\n",
    "MODEL_NAME = \"Xception\"\n",
    "\n",
    "print(f\"There are total {len(ALL_CLASS_NAMES)} classes, selected {NO_OF_CLASSES} classes\")\n",
    "print(f\"Setting {MAX_VIDEO_PER_CLASS}/class to train the model.\")\n",
    "print(f\"Image size {IMAGE_HEIGHT}x{IMAGE_WIDTH} with {SEQUENCE_LENGTH} sequence length\")\n",
    "print(f\"Dropout rate: {DROPOUT_RATE}\")\n",
    "print(f\"Train-Test split ratio {int((1-TEST_SIZE)*100)}/{int(TEST_SIZE*100)}\")\n",
    "print(f\"Validation data from Train set {VALIDATION_SPLIT*100}%\")"
   ]
  },
  {
   "cell_type": "markdown",
   "id": "76a993ca",
   "metadata": {
    "papermill": {
     "duration": 0.008051,
     "end_time": "2025-07-12T16:19:15.629398",
     "exception": false,
     "start_time": "2025-07-12T16:19:15.621347",
     "status": "completed"
    },
    "tags": []
   },
   "source": [
    "## Set `Seed` Values"
   ]
  },
  {
   "cell_type": "code",
   "execution_count": 3,
   "id": "3113bc7a",
   "metadata": {
    "execution": {
     "iopub.execute_input": "2025-07-12T16:19:15.646765Z",
     "iopub.status.busy": "2025-07-12T16:19:15.645983Z",
     "iopub.status.idle": "2025-07-12T16:19:15.649646Z",
     "shell.execute_reply": "2025-07-12T16:19:15.649239Z"
    },
    "papermill": {
     "duration": 0.013259,
     "end_time": "2025-07-12T16:19:15.650698",
     "exception": false,
     "start_time": "2025-07-12T16:19:15.637439",
     "status": "completed"
    },
    "tags": []
   },
   "outputs": [],
   "source": [
    "# set seeed to get similar values\n",
    "seed_constant = 27\n",
    "np.random.seed(seed_constant)\n",
    "random.seed(seed_constant)\n",
    "tf.random.set_seed(seed_constant)"
   ]
  },
  {
   "cell_type": "markdown",
   "id": "02f7c9c7",
   "metadata": {
    "papermill": {
     "duration": 0.007907,
     "end_time": "2025-07-12T16:19:15.666784",
     "exception": false,
     "start_time": "2025-07-12T16:19:15.658877",
     "status": "completed"
    },
    "tags": []
   },
   "source": [
    "# 📌 Function Definition\n",
    "## Resize and Frame Extraction"
   ]
  },
  {
   "cell_type": "code",
   "execution_count": 4,
   "id": "84b4b5dc",
   "metadata": {
    "execution": {
     "iopub.execute_input": "2025-07-12T16:19:15.683918Z",
     "iopub.status.busy": "2025-07-12T16:19:15.683714Z",
     "iopub.status.idle": "2025-07-12T16:19:15.692081Z",
     "shell.execute_reply": "2025-07-12T16:19:15.691559Z"
    },
    "papermill": {
     "duration": 0.018294,
     "end_time": "2025-07-12T16:19:15.693044",
     "exception": false,
     "start_time": "2025-07-12T16:19:15.674750",
     "status": "completed"
    },
    "tags": []
   },
   "outputs": [],
   "source": [
    "import cv2\n",
    "from concurrent.futures import ThreadPoolExecutor\n",
    "\n",
    "def resize_and_normalize_frame(frame, image_height, image_width):\n",
    "    try:\n",
    "        resized_frame = cv2.resize(frame, (image_width, image_height), interpolation=cv2.INTER_LINEAR)\n",
    "        normalized_frame = resized_frame / 255.0\n",
    "        return normalized_frame\n",
    "    except Exception as e:\n",
    "        print(f\"Error processing frame: {e}\")\n",
    "        return None\n",
    "\n",
    "def frames_extraction(video_path, \n",
    "                      sequence_length=SEQUENCE_LENGTH, \n",
    "                      image_height=IMAGE_HEIGHT, \n",
    "                      image_width=IMAGE_WIDTH):\n",
    "    # Declare a list to store video frames\n",
    "    frames_list = []\n",
    "\n",
    "    # Check if video file exists\n",
    "    if not os.path.exists(video_path):\n",
    "        print(f\"Error: Video file not found at {video_path}\")\n",
    "        return None\n",
    "\n",
    "    # Read the video file using VideoCapture with optimized settings\n",
    "    video_reader = cv2.VideoCapture(video_path, cv2.CAP_FFMPEG)\n",
    "\n",
    "    # Check if the video was opened successfully\n",
    "    if not video_reader.isOpened():\n",
    "        print(f\"Error: Could not open video file {video_path}\")\n",
    "        video_reader.release()\n",
    "        return None\n",
    "\n",
    "    # Get the total number of frames in the video\n",
    "    video_frames_count = int(video_reader.get(cv2.CAP_PROP_FRAME_COUNT))\n",
    "\n",
    "    # Ensure the video has enough frames\n",
    "    if video_frames_count < sequence_length:\n",
    "        print(f\"Warning: Video {video_path} has only {video_frames_count} frames, less than required {sequence_length}\")\n",
    "        video_reader.release()\n",
    "        return None\n",
    "\n",
    "    # Calculate the interval after which frames will be sampled\n",
    "    skip_frames_window = max(int(video_frames_count / sequence_length), 1)\n",
    "\n",
    "    # Pre-allocate frame indices to extract\n",
    "    frame_indices = [i * skip_frames_window for i in range(sequence_length)]\n",
    "\n",
    "    # Read and process frames in parallel\n",
    "    frames = []\n",
    "    for idx in frame_indices:\n",
    "        video_reader.set(cv2.CAP_PROP_POS_FRAMES, idx)\n",
    "        success, frame = video_reader.read()\n",
    "        if not success or frame is None:\n",
    "            print(f\"Warning: Failed to read frame at index {idx} from {video_path}\")\n",
    "            break\n",
    "        frame = cv2.cvtColor(frame, cv2.COLOR_BGR2RGB)\n",
    "        frames.append(frame)\n",
    "\n",
    "    # Release the VideoCapture object early\n",
    "    video_reader.release()\n",
    "\n",
    "    # Ensure the correct number of frames is read\n",
    "    if len(frames) != sequence_length:\n",
    "        print(f\"Warning: Read {len(frames)} frames instead of {sequence_length} from {video_path}\")\n",
    "        return None\n",
    "\n",
    "    # Process frames in parallel using ThreadPoolExecutor\n",
    "    with ThreadPoolExecutor() as executor:\n",
    "        processed_frames = list(executor.map(\n",
    "            lambda f: resize_and_normalize_frame(f, image_height, image_width), \n",
    "            frames\n",
    "        ))\n",
    "\n",
    "    # Check for any failed frame processing\n",
    "    if any(f is None for f in processed_frames):\n",
    "        print(f\"Warning: Some frames failed to process in {video_path}\")\n",
    "        return None\n",
    "\n",
    "    # Convert to NumPy array\n",
    "    frames_array = np.array(processed_frames, dtype=np.float32)\n",
    "\n",
    "    return frames_array"
   ]
  },
  {
   "cell_type": "code",
   "execution_count": 5,
   "id": "aef4eabf",
   "metadata": {
    "execution": {
     "iopub.execute_input": "2025-07-12T16:19:15.710561Z",
     "iopub.status.busy": "2025-07-12T16:19:15.710085Z",
     "iopub.status.idle": "2025-07-12T16:19:15.713257Z",
     "shell.execute_reply": "2025-07-12T16:19:15.712565Z"
    },
    "papermill": {
     "duration": 0.012898,
     "end_time": "2025-07-12T16:19:15.714232",
     "exception": false,
     "start_time": "2025-07-12T16:19:15.701334",
     "status": "completed"
    },
    "tags": []
   },
   "outputs": [],
   "source": [
    " # # Iterate through all video files\n",
    " #        for file_name in files_list:\n",
    " #            video_file_path = os.path.join(class_path, file_name)\n",
    "\n",
    " #            # Extract frames using the updated frames_extraction function\n",
    " #            frames = frames_extraction(video_file_path, sequence_length, image_height, image_width)\n",
    "\n",
    " #            # Skip videos where frame extraction failed\n",
    " #            if frames is None:\n",
    " #                print(f\"Skipping video {video_file_path} due to frame extraction failure\")\n",
    " #                continue\n",
    "\n",
    " #            # Append the data to respective lists\n",
    " #            features.append(frames)\n",
    " #            labels.append(class_index)"
   ]
  },
  {
   "cell_type": "markdown",
   "id": "dc925615",
   "metadata": {
    "papermill": {
     "duration": 0.008248,
     "end_time": "2025-07-12T16:19:15.731367",
     "exception": false,
     "start_time": "2025-07-12T16:19:15.723119",
     "status": "completed"
    },
    "tags": []
   },
   "source": [
    "## Create Dataset"
   ]
  },
  {
   "cell_type": "code",
   "execution_count": 6,
   "id": "83018783",
   "metadata": {
    "execution": {
     "iopub.execute_input": "2025-07-12T16:19:15.748818Z",
     "iopub.status.busy": "2025-07-12T16:19:15.748581Z",
     "iopub.status.idle": "2025-07-12T16:19:15.754683Z",
     "shell.execute_reply": "2025-07-12T16:19:15.754000Z"
    },
    "papermill": {
     "duration": 0.016271,
     "end_time": "2025-07-12T16:19:15.755823",
     "exception": false,
     "start_time": "2025-07-12T16:19:15.739552",
     "status": "completed"
    },
    "tags": []
   },
   "outputs": [],
   "source": [
    "# RUN create dataset function definition\n",
    "def create_dataset(dataset_dir,\n",
    "                   classes_list, \n",
    "                   sequence_length=SEQUENCE_LENGTH, \n",
    "                   image_height=IMAGE_HEIGHT, \n",
    "                   image_width=IMAGE_WIDTH, \n",
    "                   max_videos_per_class=None,\n",
    "                   augmentations=False\n",
    "                  ):\n",
    "    \n",
    "    # Initialize lists to store features, labels, and video file paths\n",
    "    videos = []\n",
    "    labels = []\n",
    "\n",
    "    # Check if dataset directory exists\n",
    "    if not os.path.exists(dataset_dir):\n",
    "        raise FileNotFoundError(f\"Dataset directory not found: {dataset_dir}\")\n",
    "\n",
    "    # Iterate through all classes in the classes list\n",
    "    for class_index, class_name in enumerate(classes_list):\n",
    "        class_path = os.path.join(dataset_dir, class_name)\n",
    "        \n",
    "        # Check if class directory exists\n",
    "        if not os.path.exists(class_path):\n",
    "            print(f\"Warning: Class directory not found: {class_path}\")\n",
    "            continue\n",
    "\n",
    "        print(f'Extracting Data of Class: {class_name}')\n",
    "\n",
    "        # Get the list of video files in the class directory\n",
    "        files_list = os.listdir(class_path)\n",
    "\n",
    "        # Limit the number of videos if specified\n",
    "        if max_videos_per_class is not None:\n",
    "            files_list = files_list[:max_videos_per_class]\n",
    "\n",
    "        # Iterate through all video files\n",
    "        for file_name in files_list:\n",
    "            video_file_path = os.path.join(class_path, file_name)\n",
    "\n",
    "            # Extract frames using the updated frames_extraction function\n",
    "            frames = frames_extraction(video_file_path, \n",
    "                                       sequence_length, \n",
    "                                       image_height, \n",
    "                                       image_width)\n",
    "\n",
    "            # Skip videos where frame extraction failed\n",
    "            if frames is None:\n",
    "                print(f\"Skipping video {video_file_path} due to frame extraction failure\")\n",
    "                continue\n",
    "\n",
    "            # Append the data to respective lists\n",
    "            videos.append(frames)\n",
    "            labels.append(class_index)\n",
    "\n",
    "    # Convert lists to numpy arrays\n",
    "    if not videos:\n",
    "        raise ValueError(\"No valid videos were processed. Check dataset or parameters.\")\n",
    "    videos = np.asarray(videos)\n",
    "    labels = np.array(labels)\n",
    "\n",
    "    print(f\"Dataset created with {len(videos)} videos\")\n",
    "    print(f\"Features shape: {videos.shape}\")\n",
    "    print(f\"Labels shape: {labels.shape}\")\n",
    "\n",
    "    return videos, labels"
   ]
  },
  {
   "cell_type": "markdown",
   "id": "f0523cc1",
   "metadata": {
    "papermill": {
     "duration": 0.007985,
     "end_time": "2025-07-12T16:19:15.771812",
     "exception": false,
     "start_time": "2025-07-12T16:19:15.763827",
     "status": "completed"
    },
    "tags": []
   },
   "source": [
    "## 🪄 Video Data Generator"
   ]
  },
  {
   "cell_type": "code",
   "execution_count": 7,
   "id": "f8e0a2d6",
   "metadata": {
    "execution": {
     "iopub.execute_input": "2025-07-12T16:19:15.789545Z",
     "iopub.status.busy": "2025-07-12T16:19:15.789338Z",
     "iopub.status.idle": "2025-07-12T16:19:15.854531Z",
     "shell.execute_reply": "2025-07-12T16:19:15.853823Z"
    },
    "papermill": {
     "duration": 0.075555,
     "end_time": "2025-07-12T16:19:15.855809",
     "exception": false,
     "start_time": "2025-07-12T16:19:15.780254",
     "status": "completed"
    },
    "tags": []
   },
   "outputs": [],
   "source": [
    "from tensorflow.keras.utils import Sequence, to_categorical\n",
    "import tensorflow as tf\n",
    "import numpy as np\n",
    "import cv2\n",
    "\n",
    "\n",
    "\n",
    "\n",
    "class VideoDataGenerator(Sequence):\n",
    "    def __init__(self, videos, labels, batch_size, is_training=False):\n",
    "        self.videos = list(videos)  # List of video file paths\n",
    "        self.labels = list(labels)  # List or array of labels encoded\n",
    "        self.batch_size = batch_size\n",
    "        self.indices = np.arange(len(self.videos))  # For shuffling\n",
    "        self.is_training = is_training  # Flag to control whether augmentation is applied\n",
    "        self.temp_videos=[]\n",
    "        self.temp_labels=[]\n",
    "        \n",
    "        \n",
    "        print(f\"Total {len(videos)} videos and {len(labels)} classes\")\n",
    "\n",
    "    def __len__(self):\n",
    "        # Return the number of batches per epoch\n",
    "        return int(np.ceil(len(self.videos) / self.batch_size))\n",
    "\n",
    "    def __getitem__(self, idx):\n",
    "        # Get batch indices\n",
    "        batch_indices = self.indices[idx * self.batch_size:(idx + 1) * self.batch_size]\n",
    "        \n",
    "        # Handle case where batch_indices is empty\n",
    "        if len(batch_indices) == 0:\n",
    "            return np.array([], dtype=np.float32), np.array([], dtype=np.float32)\n",
    "        \n",
    "        # Initialize lists to store frames and labels\n",
    "        all_frames = []\n",
    "        all_labels = []\n",
    "        \n",
    "        # Process each video in the batch\n",
    "        for i, index in enumerate(batch_indices):\n",
    "            sequence = self.videos[index]\n",
    "            label = self.labels[index]\n",
    "            \n",
    "            # Load and process video\n",
    "            # sequence = frames_extraction(video_path)\n",
    "\n",
    "            # if sequence is not None:\n",
    "            #     # Apply augmentations: 1 original + 4 augmentations (horizontal flip, shear, rotation, noise)\n",
    "            #     augmented_sequences = [sequence]  # Add original sequence\n",
    "\n",
    "            #     if self.is_training:\n",
    "            #         # Apply augmentations\n",
    "            #         augmented_sequences.append(np.array(horizontal_flip(sequence)))  # Horizontal Flip\n",
    "            #         augmented_sequences.append(np.array(apply_shear_frames(sequence, shear_right=0)))  # Random Shear\n",
    "            #         augmented_sequences.append(np.array(apply_shear_frames(sequence, shear_right=1)))  # Random Rotation\n",
    "            #         augmented_sequences.append(np.array(noise_video(sequence)))  # Salt and Pepper Noise\n",
    "\n",
    "            #     # Add augmented sequences to the batch\n",
    "            #     all_frames.extend(augmented_sequences)\n",
    "            #     all_labels.extend([label] * len(augmented_sequences))  # Each augmentation has the same label\n",
    "\n",
    "            \n",
    "            # Append the sequence and label\n",
    "            all_frames.append(sequence)\n",
    "            all_labels.append(label)\n",
    "        \n",
    "        # Convert to numpy arrays\n",
    "        all_frames = np.array(all_frames, dtype=np.float32)\n",
    "        all_labels = np.array(all_labels)\n",
    "            \n",
    "        \n",
    "        return all_frames, all_labels\n",
    "    def add(self, new_videos, new_labels):\n",
    "        self.temp_videos.extend(new_videos)\n",
    "        self.temp_labels.extend(new_labels)\n",
    "    \n",
    "    def confirm(self):\n",
    "        print(f\"Adding {len(self.temp_videos)} videos with {len(self.temp_labels)} classes.\")\n",
    "        self.videos.extend(self.temp_videos)\n",
    "        self.labels.extend(self.temp_labels)\n",
    "        print(f\"Successfully added - {len(self.temp_videos)} videos and {len(self.temp_labels)} classes.\")\n",
    "        self.temp_videos=[]\n",
    "        self.temp_labels=[]\n",
    "        self.indices = np.arange(len(self.videos))\n",
    "        print(f\"Now Total - {len(self.videos)} videos and {len(self.labels)} classes.\")\n",
    "        print(f\"PENDING for Augmentations - {len(self.temp_videos)} videos and {len(self.temp_labels)} classes.\")\n",
    "    \n",
    "    def on_epoch_end(self):\n",
    "        # Shuffle indices at the end of each epoch\n",
    "        np.random.shuffle(self.indices)\n",
    "\n",
    "    def as_dataset(self):\n",
    "        def generator():\n",
    "            for idx in range(len(self)):\n",
    "                frames, labels = self[idx]\n",
    "                # Skip empty batches\n",
    "                if frames.size == 0:\n",
    "                    continue\n",
    "                yield frames, labels\n",
    "        self.labels=np.array(self.labels)\n",
    "    \n",
    "        # Create a tf.data.Dataset\n",
    "        dataset = tf.data.Dataset.from_generator(\n",
    "            generator,\n",
    "            output_types=(tf.float32, tf.float32),\n",
    "            output_shapes=(\n",
    "                (None, SEQUENCE_LENGTH, IMAGE_HEIGHT, IMAGE_WIDTH, 3),\n",
    "                (None, NO_OF_CLASSES)\n",
    "            )\n",
    "        )\n",
    "        dataset = dataset.prefetch(tf.data.AUTOTUNE)\n",
    "        return dataset"
   ]
  },
  {
   "cell_type": "markdown",
   "id": "5df5789d",
   "metadata": {
    "papermill": {
     "duration": 0.007956,
     "end_time": "2025-07-12T16:19:15.872265",
     "exception": false,
     "start_time": "2025-07-12T16:19:15.864309",
     "status": "completed"
    },
    "tags": []
   },
   "source": [
    "## Debug and Helpers"
   ]
  },
  {
   "cell_type": "markdown",
   "id": "c181e4d8",
   "metadata": {
    "papermill": {
     "duration": 0.007974,
     "end_time": "2025-07-12T16:19:15.888490",
     "exception": false,
     "start_time": "2025-07-12T16:19:15.880516",
     "status": "completed"
    },
    "tags": []
   },
   "source": [
    "## 💫 Augmentation Helper function"
   ]
  },
  {
   "cell_type": "code",
   "execution_count": 8,
   "id": "22289be0",
   "metadata": {
    "execution": {
     "iopub.execute_input": "2025-07-12T16:19:15.948765Z",
     "iopub.status.busy": "2025-07-12T16:19:15.948497Z",
     "iopub.status.idle": "2025-07-12T16:19:15.953447Z",
     "shell.execute_reply": "2025-07-12T16:19:15.952722Z"
    },
    "papermill": {
     "duration": 0.015215,
     "end_time": "2025-07-12T16:19:15.954543",
     "exception": false,
     "start_time": "2025-07-12T16:19:15.939328",
     "status": "completed"
    },
    "tags": []
   },
   "outputs": [],
   "source": [
    "import time\n",
    "\n",
    "    \n",
    "\n",
    "def apply_augmentation(augmentation_function, generator, confirm=False, *args, **kwargs):\n",
    "    \n",
    "    for i in range(len(generator)):\n",
    "        batch_videos, batch_labels = generator[i]\n",
    "        augmented_videos=[]\n",
    "        for videos in batch_videos:\n",
    "            augmented_videos.append(augmentation_function(videos, *args, **kwargs))\n",
    "        generator.add(augmented_videos, batch_labels)\n",
    "        print(f\"Processing video {len(generator.temp_videos)}...\", end=\"\\r\", flush=True)\n",
    "        time.sleep(0.5)  # simulate work\n",
    "    if confirm:\n",
    "        generator.confirm()"
   ]
  },
  {
   "cell_type": "markdown",
   "id": "8a75147f",
   "metadata": {
    "papermill": {
     "duration": 0.008262,
     "end_time": "2025-07-12T16:19:15.971165",
     "exception": false,
     "start_time": "2025-07-12T16:19:15.962903",
     "status": "completed"
    },
    "tags": []
   },
   "source": [
    "### Show Frames"
   ]
  },
  {
   "cell_type": "code",
   "execution_count": 9,
   "id": "ad688690",
   "metadata": {
    "execution": {
     "iopub.execute_input": "2025-07-12T16:19:15.988551Z",
     "iopub.status.busy": "2025-07-12T16:19:15.988369Z",
     "iopub.status.idle": "2025-07-12T16:19:15.991907Z",
     "shell.execute_reply": "2025-07-12T16:19:15.991390Z"
    },
    "papermill": {
     "duration": 0.01344,
     "end_time": "2025-07-12T16:19:15.992938",
     "exception": false,
     "start_time": "2025-07-12T16:19:15.979498",
     "status": "completed"
    },
    "tags": []
   },
   "outputs": [],
   "source": [
    "# show frame def\n",
    "import matplotlib.pyplot as plt\n",
    "\n",
    "def show_frame(frame):\n",
    "    plt.figure(figsize=(3,3))\n",
    "    plt.imshow(frame)\n",
    "    plt.axis(\"off\")\n",
    "    plt.tight_layout()"
   ]
  },
  {
   "cell_type": "markdown",
   "id": "0a65d5c0",
   "metadata": {
    "papermill": {
     "duration": 0.008218,
     "end_time": "2025-07-12T16:19:16.009303",
     "exception": false,
     "start_time": "2025-07-12T16:19:16.001085",
     "status": "completed"
    },
    "tags": []
   },
   "source": [
    "### Helper Function"
   ]
  },
  {
   "cell_type": "code",
   "execution_count": 10,
   "id": "061d4412",
   "metadata": {
    "execution": {
     "iopub.execute_input": "2025-07-12T16:19:16.026734Z",
     "iopub.status.busy": "2025-07-12T16:19:16.026524Z",
     "iopub.status.idle": "2025-07-12T16:19:16.030621Z",
     "shell.execute_reply": "2025-07-12T16:19:16.030100Z"
    },
    "papermill": {
     "duration": 0.013968,
     "end_time": "2025-07-12T16:19:16.031626",
     "exception": false,
     "start_time": "2025-07-12T16:19:16.017658",
     "status": "completed"
    },
    "tags": []
   },
   "outputs": [],
   "source": [
    "def show_frame_vs(frame1, frame2, title1=\"Frame 1\", title2=\"Frame 2\"):\n",
    "    plt.figure(figsize=(10, 5))\n",
    "\n",
    "    # First frame\n",
    "    plt.subplot(1, 2, 1)\n",
    "    plt.imshow(frame1)\n",
    "    plt.title(title1)\n",
    "    plt.axis('off')\n",
    "\n",
    "    # Second frame\n",
    "    plt.subplot(1, 2, 2)\n",
    "    plt.imshow(frame2)\n",
    "    plt.title(title2)\n",
    "    plt.axis('off')\n",
    "\n",
    "    plt.tight_layout()\n",
    "    plt.show()"
   ]
  },
  {
   "cell_type": "code",
   "execution_count": 11,
   "id": "ef3ceb67",
   "metadata": {
    "execution": {
     "iopub.execute_input": "2025-07-12T16:19:16.049387Z",
     "iopub.status.busy": "2025-07-12T16:19:16.049120Z",
     "iopub.status.idle": "2025-07-12T16:19:16.052906Z",
     "shell.execute_reply": "2025-07-12T16:19:16.052205Z"
    },
    "papermill": {
     "duration": 0.014042,
     "end_time": "2025-07-12T16:19:16.054043",
     "exception": false,
     "start_time": "2025-07-12T16:19:16.040001",
     "status": "completed"
    },
    "tags": []
   },
   "outputs": [],
   "source": [
    "# reusable video loop helper function\n",
    "def apply_function(function, videos, *arg, **kwargs):\n",
    "    new_videos=[]\n",
    "    \n",
    "    for video in videos:\n",
    "        new_videos.append(function(video, *arg, **kwargs))\n",
    "        \n",
    "    return new_videos"
   ]
  },
  {
   "cell_type": "code",
   "execution_count": 12,
   "id": "c1f9c9ef",
   "metadata": {
    "execution": {
     "iopub.execute_input": "2025-07-12T16:19:16.072629Z",
     "iopub.status.busy": "2025-07-12T16:19:16.072097Z",
     "iopub.status.idle": "2025-07-12T16:19:16.076252Z",
     "shell.execute_reply": "2025-07-12T16:19:16.075498Z"
    },
    "papermill": {
     "duration": 0.014468,
     "end_time": "2025-07-12T16:19:16.077355",
     "exception": false,
     "start_time": "2025-07-12T16:19:16.062887",
     "status": "completed"
    },
    "tags": []
   },
   "outputs": [],
   "source": [
    "# reusable video loop helper function\n",
    "def apply(function, videos, labels, *arg, **kwargs):\n",
    "    new_videos=[]\n",
    "    new_labels=[]\n",
    "    combined=zip(labels, videos)\n",
    "    \n",
    "    for label, video in combined:\n",
    "        new_videos.append(function(video, *arg, **kwargs))\n",
    "        new_labels.append(label)\n",
    "        \n",
    "    new_videos=np.asarray(new_videos)\n",
    "    new_labels=np.asarray(new_labels)\n",
    "    \n",
    "    return new_videos, new_labels"
   ]
  },
  {
   "cell_type": "markdown",
   "id": "e2c4a7ef",
   "metadata": {
    "papermill": {
     "duration": 0.008061,
     "end_time": "2025-07-12T16:19:16.093738",
     "exception": false,
     "start_time": "2025-07-12T16:19:16.085677",
     "status": "completed"
    },
    "tags": []
   },
   "source": [
    "## Salt and Pepper Noise "
   ]
  },
  {
   "cell_type": "code",
   "execution_count": 13,
   "id": "92afcb59",
   "metadata": {
    "execution": {
     "iopub.execute_input": "2025-07-12T16:19:16.111458Z",
     "iopub.status.busy": "2025-07-12T16:19:16.111280Z",
     "iopub.status.idle": "2025-07-12T16:19:16.115756Z",
     "shell.execute_reply": "2025-07-12T16:19:16.115113Z"
    },
    "papermill": {
     "duration": 0.014588,
     "end_time": "2025-07-12T16:19:16.116948",
     "exception": false,
     "start_time": "2025-07-12T16:19:16.102360",
     "status": "completed"
    },
    "tags": []
   },
   "outputs": [],
   "source": [
    "# Noise function def\n",
    "\n",
    "def noise_video(video,noise_factor=NOISE_FACTOR):\n",
    "    noisy_video=[]\n",
    "    for frame in video:\n",
    "        # Generate random noise\n",
    "        noise = np.random.rand(*frame.shape)  # Generate random noise\n",
    "        salt_pepper_noise = np.random.choice([0, 1], size=frame.shape, p=[1-noise_factor, noise_factor])\n",
    "        noisy_frame = frame * (1 - salt_pepper_noise) + salt_pepper_noise * np.random.rand(*frame.shape)\n",
    "        noisy_video.append(noisy_frame)\n",
    "    return np.array(noisy_video)"
   ]
  },
  {
   "cell_type": "markdown",
   "id": "c9957f8d",
   "metadata": {
    "papermill": {
     "duration": 0.008239,
     "end_time": "2025-07-12T16:19:16.133542",
     "exception": false,
     "start_time": "2025-07-12T16:19:16.125303",
     "status": "completed"
    },
    "tags": []
   },
   "source": [
    "## Horizontal Flip"
   ]
  },
  {
   "cell_type": "code",
   "execution_count": 14,
   "id": "628f73f4",
   "metadata": {
    "execution": {
     "iopub.execute_input": "2025-07-12T16:19:16.150831Z",
     "iopub.status.busy": "2025-07-12T16:19:16.150656Z",
     "iopub.status.idle": "2025-07-12T16:19:16.153733Z",
     "shell.execute_reply": "2025-07-12T16:19:16.153232Z"
    },
    "papermill": {
     "duration": 0.012961,
     "end_time": "2025-07-12T16:19:16.154681",
     "exception": false,
     "start_time": "2025-07-12T16:19:16.141720",
     "status": "completed"
    },
    "tags": []
   },
   "outputs": [],
   "source": [
    "# horizontal flip function def\n",
    "# Testing Flip feautes[0] -> first video\n",
    "def horizontal_flip(video):\n",
    "    return [tf.image.flip_left_right(frame) for frame in video]"
   ]
  },
  {
   "cell_type": "markdown",
   "id": "6003bfbe",
   "metadata": {
    "papermill": {
     "duration": 0.008269,
     "end_time": "2025-07-12T16:19:16.171140",
     "exception": false,
     "start_time": "2025-07-12T16:19:16.162871",
     "status": "completed"
    },
    "tags": []
   },
   "source": [
    "## Random Shear"
   ]
  },
  {
   "cell_type": "code",
   "execution_count": 15,
   "id": "b9ab2be0",
   "metadata": {
    "execution": {
     "iopub.execute_input": "2025-07-12T16:19:16.188721Z",
     "iopub.status.busy": "2025-07-12T16:19:16.188345Z",
     "iopub.status.idle": "2025-07-12T16:19:16.193871Z",
     "shell.execute_reply": "2025-07-12T16:19:16.193215Z"
    },
    "papermill": {
     "duration": 0.015588,
     "end_time": "2025-07-12T16:19:16.194884",
     "exception": false,
     "start_time": "2025-07-12T16:19:16.179296",
     "status": "completed"
    },
    "tags": []
   },
   "outputs": [],
   "source": [
    "# random shear function def\n",
    "import numpy as np\n",
    "import tensorflow as tf\n",
    "from scipy.ndimage import affine_transform\n",
    "\n",
    "def apply_shear_frames(frames, shear_right):\n",
    "    return [apply_shear(frame, shear_right) for frame in frames]\n",
    "\n",
    "def apply_shear(frame, shear_right=0):\n",
    "    frame_resized = tf.image.resize(frame, (IMAGE_HEIGHT, IMAGE_WIDTH)).numpy()\n",
    "    if shear_right:\n",
    "        shear_x = 0.09\n",
    "        shear_y = 0.1\n",
    "    else:\n",
    "        shear_x = -0.09\n",
    "        shear_y = 0.3\n",
    "    # Construct the affine matrix for scipy: inverse of the transformation matrix\n",
    "    # scipy applies the inverse transform matrix\n",
    "    shear_matrix = np.array([\n",
    "        [1, shear_x, 0],\n",
    "        [shear_y, 1, 0],\n",
    "        [0, 0, 1]\n",
    "    ], dtype=np.float32)\n",
    "\n",
    "    # Extract 2x2 part for affine_transform\n",
    "    matrix = shear_matrix[:2, :2]\n",
    "\n",
    "    # Offset (no translation)\n",
    "    offset = [0, 0]\n",
    "\n",
    "    # Apply affine transform on each channel separately\n",
    "    sheared = np.zeros_like(frame_resized)\n",
    "    for c in range(3):\n",
    "        sheared[..., c] = affine_transform(\n",
    "            frame_resized[..., c],\n",
    "            matrix=matrix,\n",
    "            offset=offset,\n",
    "            order=1,          # bilinear interpolation\n",
    "            mode='nearest'    # fill_mode\n",
    "        )\n",
    "    return sheared"
   ]
  },
  {
   "cell_type": "markdown",
   "id": "82c58f2b",
   "metadata": {
    "papermill": {
     "duration": 0.008142,
     "end_time": "2025-07-12T16:19:16.211450",
     "exception": false,
     "start_time": "2025-07-12T16:19:16.203308",
     "status": "completed"
    },
    "tags": []
   },
   "source": [
    "# 📌 Model Related\n",
    "## 🗼 Model Architecture `create_model`"
   ]
  },
  {
   "cell_type": "markdown",
   "id": "47633b72",
   "metadata": {
    "papermill": {
     "duration": 0.008266,
     "end_time": "2025-07-12T16:19:16.227873",
     "exception": false,
     "start_time": "2025-07-12T16:19:16.219607",
     "status": "completed"
    },
    "tags": []
   },
   "source": [
    "# 📌 Execution\n",
    "## Creating Dataset\n",
    "The following functions are executed\n",
    "- `frame extraction`\n",
    "- `resize`\n",
    "\n",
    "which returns:\n",
    "- `features` - `np.array` of all the videos\n",
    "- `labels` - `np.array` of all the class labels"
   ]
  },
  {
   "cell_type": "code",
   "execution_count": 16,
   "id": "3058e4a1",
   "metadata": {
    "execution": {
     "iopub.execute_input": "2025-07-12T16:19:16.245295Z",
     "iopub.status.busy": "2025-07-12T16:19:16.244798Z",
     "iopub.status.idle": "2025-07-12T16:28:27.765408Z",
     "shell.execute_reply": "2025-07-12T16:28:27.764720Z"
    },
    "papermill": {
     "duration": 551.53976,
     "end_time": "2025-07-12T16:28:27.776022",
     "exception": false,
     "start_time": "2025-07-12T16:19:16.236262",
     "status": "completed"
    },
    "tags": []
   },
   "outputs": [
    {
     "name": "stdout",
     "output_type": "stream",
     "text": [
      "Extracting Data of Class: write\n",
      "Extracting Data of Class: sit still\n",
      "Extracting Data of Class: sit down\n",
      "Extracting Data of Class: move hands in front of the body\n",
      "Extracting Data of Class: raise one leg up\n",
      "Extracting Data of Class: drink from a bottle\n",
      "Extracting Data of Class: stand up\n",
      "Extracting Data of Class: read\n",
      "Extracting Data of Class: throw paper\n",
      "Extracting Data of Class: walk\n",
      "Extracting Data of Class: drink from a mug\n",
      "Extracting Data of Class: fall from bed\n",
      "Extracting Data of Class: faint\n",
      "Extracting Data of Class: raise one hand up\n",
      "Extracting Data of Class: cheer up\n",
      "Extracting Data of Class: move hands close to the body\n",
      "Dataset created with 800 videos\n",
      "Features shape: (800, 5, 128, 128, 3)\n",
      "Labels shape: (800,)\n"
     ]
    },
    {
     "data": {
      "text/plain": [
       "((800, 5, 128, 128, 3), (800,))"
      ]
     },
     "execution_count": 16,
     "metadata": {},
     "output_type": "execute_result"
    }
   ],
   "source": [
    "# RUN Create the dataset with explicit parameters\n",
    "try:\n",
    "    videos, labels = create_dataset(\n",
    "        dataset_dir=DATASET_DIR,\n",
    "        classes_list=CLASSES_LIST,\n",
    "        sequence_length=SEQUENCE_LENGTH,\n",
    "        image_height=IMAGE_HEIGHT,\n",
    "        image_width=IMAGE_WIDTH,\n",
    "        # Limit to 10 videos per class to manage memory\n",
    "        augmentations=True,\n",
    "        max_videos_per_class=MAX_VIDEO_PER_CLASS\n",
    "    )\n",
    "except FileNotFoundError as e:\n",
    "    print(f\"Error: {e}\")\n",
    "except ValueError as e:\n",
    "    print(f\"Error: {e}\")\n",
    "except Exception as e:\n",
    "    print(f\"Unexpected error: {e}\")\n",
    "\n",
    "videos.shape, labels.shape"
   ]
  },
  {
   "cell_type": "code",
   "execution_count": 17,
   "id": "62e2ed8a",
   "metadata": {
    "execution": {
     "iopub.execute_input": "2025-07-12T16:28:27.794891Z",
     "iopub.status.busy": "2025-07-12T16:28:27.794664Z",
     "iopub.status.idle": "2025-07-12T16:28:27.798618Z",
     "shell.execute_reply": "2025-07-12T16:28:27.798022Z"
    },
    "papermill": {
     "duration": 0.014521,
     "end_time": "2025-07-12T16:28:27.799645",
     "exception": false,
     "start_time": "2025-07-12T16:28:27.785124",
     "status": "completed"
    },
    "tags": []
   },
   "outputs": [
    {
     "name": "stdout",
     "output_type": "stream",
     "text": [
      "Total 800 videos and 800 classes\n"
     ]
    }
   ],
   "source": [
    "video_generator = VideoDataGenerator(\n",
    "    videos=videos,\n",
    "    labels=labels,\n",
    "    batch_size=BATCH_SIZE\n",
    ")"
   ]
  },
  {
   "cell_type": "code",
   "execution_count": 18,
   "id": "10917898",
   "metadata": {
    "execution": {
     "iopub.execute_input": "2025-07-12T16:28:27.818742Z",
     "iopub.status.busy": "2025-07-12T16:28:27.818524Z",
     "iopub.status.idle": "2025-07-12T16:28:27.830557Z",
     "shell.execute_reply": "2025-07-12T16:28:27.830008Z"
    },
    "papermill": {
     "duration": 0.022706,
     "end_time": "2025-07-12T16:28:27.831574",
     "exception": false,
     "start_time": "2025-07-12T16:28:27.808868",
     "status": "completed"
    },
    "tags": []
   },
   "outputs": [
    {
     "data": {
      "text/plain": [
       "((24, 5, 128, 128, 3), (24,))"
      ]
     },
     "execution_count": 18,
     "metadata": {},
     "output_type": "execute_result"
    }
   ],
   "source": [
    "videos, labels = video_generator[3]\n",
    "\n",
    "videos.shape, labels.shape"
   ]
  },
  {
   "cell_type": "code",
   "execution_count": 19,
   "id": "344feaef",
   "metadata": {
    "execution": {
     "iopub.execute_input": "2025-07-12T16:28:27.850899Z",
     "iopub.status.busy": "2025-07-12T16:28:27.850350Z",
     "iopub.status.idle": "2025-07-12T16:28:27.854428Z",
     "shell.execute_reply": "2025-07-12T16:28:27.853934Z"
    },
    "papermill": {
     "duration": 0.014632,
     "end_time": "2025-07-12T16:28:27.855426",
     "exception": false,
     "start_time": "2025-07-12T16:28:27.840794",
     "status": "completed"
    },
    "tags": []
   },
   "outputs": [
    {
     "data": {
      "text/plain": [
       "800"
      ]
     },
     "execution_count": 19,
     "metadata": {},
     "output_type": "execute_result"
    }
   ],
   "source": [
    "len(video_generator.videos) "
   ]
  },
  {
   "cell_type": "code",
   "execution_count": 20,
   "id": "71aea5dc",
   "metadata": {
    "execution": {
     "iopub.execute_input": "2025-07-12T16:28:27.874697Z",
     "iopub.status.busy": "2025-07-12T16:28:27.874134Z",
     "iopub.status.idle": "2025-07-12T16:28:27.878302Z",
     "shell.execute_reply": "2025-07-12T16:28:27.877648Z"
    },
    "papermill": {
     "duration": 0.014716,
     "end_time": "2025-07-12T16:28:27.879321",
     "exception": false,
     "start_time": "2025-07-12T16:28:27.864605",
     "status": "completed"
    },
    "tags": []
   },
   "outputs": [
    {
     "data": {
      "text/plain": [
       "34"
      ]
     },
     "execution_count": 20,
     "metadata": {},
     "output_type": "execute_result"
    }
   ],
   "source": [
    "len(video_generator)"
   ]
  },
  {
   "cell_type": "markdown",
   "id": "427612a3",
   "metadata": {
    "papermill": {
     "duration": 0.008883,
     "end_time": "2025-07-12T16:28:27.897211",
     "exception": false,
     "start_time": "2025-07-12T16:28:27.888328",
     "status": "completed"
    },
    "tags": []
   },
   "source": [
    "## Apply ***horizontal flip*** (Augmentation)"
   ]
  },
  {
   "cell_type": "code",
   "execution_count": 21,
   "id": "f0e73492",
   "metadata": {
    "execution": {
     "iopub.execute_input": "2025-07-12T16:28:27.915998Z",
     "iopub.status.busy": "2025-07-12T16:28:27.915797Z",
     "iopub.status.idle": "2025-07-12T16:28:48.257820Z",
     "shell.execute_reply": "2025-07-12T16:28:48.257217Z"
    },
    "papermill": {
     "duration": 20.352873,
     "end_time": "2025-07-12T16:28:48.259133",
     "exception": false,
     "start_time": "2025-07-12T16:28:27.906260",
     "status": "completed"
    },
    "tags": []
   },
   "outputs": [
    {
     "name": "stdout",
     "output_type": "stream",
     "text": [
      "Processing video 24...\r"
     ]
    },
    {
     "name": "stderr",
     "output_type": "stream",
     "text": [
      "I0000 00:00:1752337708.751734      19 gpu_device.cc:2022] Created device /job:localhost/replica:0/task:0/device:GPU:0 with 13942 MB memory:  -> device: 0, name: Tesla T4, pci bus id: 0000:00:04.0, compute capability: 7.5\n",
      "I0000 00:00:1752337708.752439      19 gpu_device.cc:2022] Created device /job:localhost/replica:0/task:0/device:GPU:1 with 13942 MB memory:  -> device: 1, name: Tesla T4, pci bus id: 0000:00:05.0, compute capability: 7.5\n"
     ]
    },
    {
     "name": "stdout",
     "output_type": "stream",
     "text": [
      "Processing video 800...\r"
     ]
    }
   ],
   "source": [
    "apply_augmentation(horizontal_flip, video_generator)"
   ]
  },
  {
   "cell_type": "code",
   "execution_count": 22,
   "id": "18ebdbfe",
   "metadata": {
    "execution": {
     "iopub.execute_input": "2025-07-12T16:28:48.282023Z",
     "iopub.status.busy": "2025-07-12T16:28:48.281794Z",
     "iopub.status.idle": "2025-07-12T16:28:48.285742Z",
     "shell.execute_reply": "2025-07-12T16:28:48.285106Z"
    },
    "papermill": {
     "duration": 0.016167,
     "end_time": "2025-07-12T16:28:48.286697",
     "exception": false,
     "start_time": "2025-07-12T16:28:48.270530",
     "status": "completed"
    },
    "tags": []
   },
   "outputs": [
    {
     "name": "stdout",
     "output_type": "stream",
     "text": [
      "Checking Total Videos and Class Count: 800, 800\n",
      "PENDING Total Videos and Class Count: 800, 800\n"
     ]
    }
   ],
   "source": [
    "print(f\"Checking Total Videos and Class Count: {len(video_generator.videos)}, {len(video_generator.labels)}\")\n",
    "print(f\"PENDING Total Videos and Class Count: {len(video_generator.temp_videos)}, {len(video_generator.temp_labels)}\")"
   ]
  },
  {
   "cell_type": "code",
   "execution_count": 23,
   "id": "3624bca2",
   "metadata": {
    "execution": {
     "iopub.execute_input": "2025-07-12T16:28:48.308413Z",
     "iopub.status.busy": "2025-07-12T16:28:48.308230Z",
     "iopub.status.idle": "2025-07-12T16:28:48.311882Z",
     "shell.execute_reply": "2025-07-12T16:28:48.311156Z"
    },
    "papermill": {
     "duration": 0.015407,
     "end_time": "2025-07-12T16:28:48.312838",
     "exception": false,
     "start_time": "2025-07-12T16:28:48.297431",
     "status": "completed"
    },
    "tags": []
   },
   "outputs": [
    {
     "name": "stdout",
     "output_type": "stream",
     "text": [
      "Adding 800 videos with 800 classes.\n",
      "Successfully added - 800 videos and 800 classes.\n",
      "Now Total - 1600 videos and 1600 classes.\n",
      "PENDING for Augmentations - 0 videos and 0 classes.\n"
     ]
    }
   ],
   "source": [
    "video_generator.confirm()"
   ]
  },
  {
   "cell_type": "markdown",
   "id": "ed256d4e",
   "metadata": {
    "papermill": {
     "duration": 0.010357,
     "end_time": "2025-07-12T16:28:48.333650",
     "exception": false,
     "start_time": "2025-07-12T16:28:48.323293",
     "status": "completed"
    },
    "tags": []
   },
   "source": [
    "## Apply ***Noise*** (Augmentation)"
   ]
  },
  {
   "cell_type": "code",
   "execution_count": 24,
   "id": "404c06e3",
   "metadata": {
    "execution": {
     "iopub.execute_input": "2025-07-12T16:28:48.355001Z",
     "iopub.status.busy": "2025-07-12T16:28:48.354799Z",
     "iopub.status.idle": "2025-07-12T16:29:41.477353Z",
     "shell.execute_reply": "2025-07-12T16:29:41.476677Z"
    },
    "papermill": {
     "duration": 53.134723,
     "end_time": "2025-07-12T16:29:41.478638",
     "exception": false,
     "start_time": "2025-07-12T16:28:48.343915",
     "status": "completed"
    },
    "tags": []
   },
   "outputs": [
    {
     "name": "stdout",
     "output_type": "stream",
     "text": [
      "Processing video 1600...\r"
     ]
    }
   ],
   "source": [
    "apply_augmentation(noise_video, video_generator)"
   ]
  },
  {
   "cell_type": "code",
   "execution_count": 25,
   "id": "de2cc53e",
   "metadata": {
    "execution": {
     "iopub.execute_input": "2025-07-12T16:29:41.505971Z",
     "iopub.status.busy": "2025-07-12T16:29:41.505764Z",
     "iopub.status.idle": "2025-07-12T16:29:41.510222Z",
     "shell.execute_reply": "2025-07-12T16:29:41.509472Z"
    },
    "papermill": {
     "duration": 0.018902,
     "end_time": "2025-07-12T16:29:41.511281",
     "exception": false,
     "start_time": "2025-07-12T16:29:41.492379",
     "status": "completed"
    },
    "tags": []
   },
   "outputs": [
    {
     "name": "stdout",
     "output_type": "stream",
     "text": [
      "Checking Total Videos and Class Count: 1600, 1600\n",
      "PENDING Total Videos and Class Count: 1600, 1600\n"
     ]
    }
   ],
   "source": [
    "print(f\"Checking Total Videos and Class Count: {len(video_generator.videos)}, {len(video_generator.labels)}\")\n",
    "print(f\"PENDING Total Videos and Class Count: {len(video_generator.temp_videos)}, {len(video_generator.temp_labels)}\")"
   ]
  },
  {
   "cell_type": "markdown",
   "id": "3092955a",
   "metadata": {
    "papermill": {
     "duration": 0.012603,
     "end_time": "2025-07-12T16:29:41.536815",
     "exception": false,
     "start_time": "2025-07-12T16:29:41.524212",
     "status": "completed"
    },
    "tags": []
   },
   "source": [
    "## Apply ***Random Shear x2*** (Augmentation)"
   ]
  },
  {
   "cell_type": "code",
   "execution_count": 26,
   "id": "4ccd61d4",
   "metadata": {
    "execution": {
     "iopub.execute_input": "2025-07-12T16:29:41.563771Z",
     "iopub.status.busy": "2025-07-12T16:29:41.563594Z",
     "iopub.status.idle": "2025-07-12T16:31:50.074431Z",
     "shell.execute_reply": "2025-07-12T16:31:50.073629Z"
    },
    "papermill": {
     "duration": 128.525999,
     "end_time": "2025-07-12T16:31:50.075887",
     "exception": false,
     "start_time": "2025-07-12T16:29:41.549888",
     "status": "completed"
    },
    "tags": []
   },
   "outputs": [
    {
     "name": "stdout",
     "output_type": "stream",
     "text": [
      "Processing video 4800...\r"
     ]
    }
   ],
   "source": [
    "apply_augmentation(apply_shear_frames, video_generator, shear_right=0)\n",
    "apply_augmentation(apply_shear_frames, video_generator, shear_right=1)"
   ]
  },
  {
   "cell_type": "code",
   "execution_count": 27,
   "id": "b5a6e24f",
   "metadata": {
    "execution": {
     "iopub.execute_input": "2025-07-12T16:31:50.113060Z",
     "iopub.status.busy": "2025-07-12T16:31:50.112826Z",
     "iopub.status.idle": "2025-07-12T16:31:50.117059Z",
     "shell.execute_reply": "2025-07-12T16:31:50.116317Z"
    },
    "papermill": {
     "duration": 0.023888,
     "end_time": "2025-07-12T16:31:50.118219",
     "exception": false,
     "start_time": "2025-07-12T16:31:50.094331",
     "status": "completed"
    },
    "tags": []
   },
   "outputs": [
    {
     "name": "stdout",
     "output_type": "stream",
     "text": [
      "Checking Total Videos and Class Count: 1600, 1600\n",
      "PENDING Total Videos and Class Count: 4800, 4800\n"
     ]
    }
   ],
   "source": [
    "print(f\"Checking Total Videos and Class Count: {len(video_generator.videos)}, {len(video_generator.labels)}\")\n",
    "print(f\"PENDING Total Videos and Class Count: {len(video_generator.temp_videos)}, {len(video_generator.temp_labels)}\")"
   ]
  },
  {
   "cell_type": "code",
   "execution_count": 28,
   "id": "69adca61",
   "metadata": {
    "execution": {
     "iopub.execute_input": "2025-07-12T16:31:50.154267Z",
     "iopub.status.busy": "2025-07-12T16:31:50.154051Z",
     "iopub.status.idle": "2025-07-12T16:31:50.157623Z",
     "shell.execute_reply": "2025-07-12T16:31:50.156968Z"
    },
    "papermill": {
     "duration": 0.022751,
     "end_time": "2025-07-12T16:31:50.158617",
     "exception": false,
     "start_time": "2025-07-12T16:31:50.135866",
     "status": "completed"
    },
    "tags": []
   },
   "outputs": [
    {
     "name": "stdout",
     "output_type": "stream",
     "text": [
      "Adding 4800 videos with 4800 classes.\n",
      "Successfully added - 4800 videos and 4800 classes.\n",
      "Now Total - 6400 videos and 6400 classes.\n",
      "PENDING for Augmentations - 0 videos and 0 classes.\n"
     ]
    }
   ],
   "source": [
    "# confirm changes to generator\n",
    "video_generator.confirm()"
   ]
  },
  {
   "cell_type": "code",
   "execution_count": 29,
   "id": "e4ef4d89",
   "metadata": {
    "execution": {
     "iopub.execute_input": "2025-07-12T16:31:50.195302Z",
     "iopub.status.busy": "2025-07-12T16:31:50.194834Z",
     "iopub.status.idle": "2025-07-12T16:31:50.198453Z",
     "shell.execute_reply": "2025-07-12T16:31:50.197689Z"
    },
    "papermill": {
     "duration": 0.023069,
     "end_time": "2025-07-12T16:31:50.199603",
     "exception": false,
     "start_time": "2025-07-12T16:31:50.176534",
     "status": "completed"
    },
    "tags": []
   },
   "outputs": [
    {
     "name": "stdout",
     "output_type": "stream",
     "text": [
      "Checking Video Generator Total Videos and Class Count: 6400, 6400\n"
     ]
    }
   ],
   "source": [
    "print(f\"Checking Video Generator Total Videos and Class Count: {len(video_generator.videos)}, {len(video_generator.labels)}\")"
   ]
  },
  {
   "cell_type": "markdown",
   "id": "ea5cfc71",
   "metadata": {
    "papermill": {
     "duration": 0.017963,
     "end_time": "2025-07-12T16:31:50.235608",
     "exception": false,
     "start_time": "2025-07-12T16:31:50.217645",
     "status": "completed"
    },
    "tags": []
   },
   "source": [
    "## Cheking (Output)"
   ]
  },
  {
   "cell_type": "code",
   "execution_count": 30,
   "id": "b4cdd521",
   "metadata": {
    "execution": {
     "iopub.execute_input": "2025-07-12T16:31:50.272350Z",
     "iopub.status.busy": "2025-07-12T16:31:50.271701Z",
     "iopub.status.idle": "2025-07-12T16:31:50.614719Z",
     "shell.execute_reply": "2025-07-12T16:31:50.613988Z"
    },
    "papermill": {
     "duration": 0.363146,
     "end_time": "2025-07-12T16:31:50.616594",
     "exception": false,
     "start_time": "2025-07-12T16:31:50.253448",
     "status": "completed"
    },
    "tags": []
   },
   "outputs": [
    {
     "name": "stdout",
     "output_type": "stream",
     "text": [
      "(24, 5, 128, 128, 3) (24,)\n"
     ]
    },
    {
     "data": {
      "image/png": "[encoded data removed]",
      "text/plain": [
       "<Figure size 1000x500 with 2 Axes>"
      ]
     },
     "metadata": {},
     "output_type": "display_data"
    },
    {
     "name": "stdout",
     "output_type": "stream",
     "text": [
      "Might be two different action, but to check the flipping focus on the door behind.\n"
     ]
    }
   ],
   "source": [
    "# check horizontal flips\n",
    "videos, labels = video_generator[7]\n",
    "videos1, labels1 = video_generator[1]\n",
    "\n",
    "print(videos.shape, labels.shape)\n",
    "\n",
    "show_frame_vs(videos[0,0],videos1[1,0], title1=\"Flipped Frame 1\", title2=\"Non Flipped Frame 1\")\n",
    "print(\"Might be two different action, but to check the flipping focus on the door behind.\")"
   ]
  },
  {
   "cell_type": "markdown",
   "id": "15f9082d",
   "metadata": {
    "papermill": {
     "duration": 0.020393,
     "end_time": "2025-07-12T16:31:50.658025",
     "exception": false,
     "start_time": "2025-07-12T16:31:50.637632",
     "status": "completed"
    },
    "tags": []
   },
   "source": [
    "# 📌 Preparing Data for Training"
   ]
  },
  {
   "cell_type": "code",
   "execution_count": 31,
   "id": "ac82ac3a",
   "metadata": {
    "execution": {
     "iopub.execute_input": "2025-07-12T16:31:50.699921Z",
     "iopub.status.busy": "2025-07-12T16:31:50.699686Z",
     "iopub.status.idle": "2025-07-12T16:31:51.121062Z",
     "shell.execute_reply": "2025-07-12T16:31:51.120306Z"
    },
    "papermill": {
     "duration": 0.444065,
     "end_time": "2025-07-12T16:31:51.122476",
     "exception": false,
     "start_time": "2025-07-12T16:31:50.678411",
     "status": "completed"
    },
    "tags": []
   },
   "outputs": [],
   "source": [
    "# Clear previous session to free memory\n",
    "import gc\n",
    "\n",
    "gc.collect()\n",
    "tf.keras.backend.clear_session()"
   ]
  },
  {
   "cell_type": "markdown",
   "id": "2a19672e",
   "metadata": {
    "papermill": {
     "duration": 0.019758,
     "end_time": "2025-07-12T16:31:51.163247",
     "exception": false,
     "start_time": "2025-07-12T16:31:51.143489",
     "status": "completed"
    },
    "tags": []
   },
   "source": [
    "## Splitting data for ***Trainig*** and ***Testing***"
   ]
  },
  {
   "cell_type": "code",
   "execution_count": 32,
   "id": "34167a6d",
   "metadata": {
    "execution": {
     "iopub.execute_input": "2025-07-12T16:31:51.204042Z",
     "iopub.status.busy": "2025-07-12T16:31:51.203841Z",
     "iopub.status.idle": "2025-07-12T16:31:53.190875Z",
     "shell.execute_reply": "2025-07-12T16:31:53.190069Z"
    },
    "papermill": {
     "duration": 2.00881,
     "end_time": "2025-07-12T16:31:53.192062",
     "exception": false,
     "start_time": "2025-07-12T16:31:51.183252",
     "status": "completed"
    },
    "tags": []
   },
   "outputs": [
    {
     "data": {
      "text/plain": [
       "((6400, 5, 128, 128, 3), (6400,))"
      ]
     },
     "execution_count": 32,
     "metadata": {},
     "output_type": "execute_result"
    }
   ],
   "source": [
    "videos = video_generator.videos\n",
    "labels = video_generator.labels\n",
    "\n",
    "videos = np.array(videos, dtype='float32')\n",
    "labels = np.array(labels)\n",
    "\n",
    "videos.shape, labels.shape"
   ]
  },
  {
   "cell_type": "code",
   "execution_count": 33,
   "id": "4c51a438",
   "metadata": {
    "execution": {
     "iopub.execute_input": "2025-07-12T16:31:53.234621Z",
     "iopub.status.busy": "2025-07-12T16:31:53.234402Z",
     "iopub.status.idle": "2025-07-12T16:31:53.239694Z",
     "shell.execute_reply": "2025-07-12T16:31:53.238942Z"
    },
    "papermill": {
     "duration": 0.027694,
     "end_time": "2025-07-12T16:31:53.240724",
     "exception": false,
     "start_time": "2025-07-12T16:31:53.213030",
     "status": "completed"
    },
    "tags": []
   },
   "outputs": [
    {
     "data": {
      "text/plain": [
       "(6400, 16)"
      ]
     },
     "execution_count": 33,
     "metadata": {},
     "output_type": "execute_result"
    }
   ],
   "source": [
    "from tensorflow.keras.utils import to_categorical\n",
    "\n",
    "one_hot_encoded_labels = to_categorical(labels)\n",
    "\n",
    "one_hot_encoded_labels.shape"
   ]
  },
  {
   "cell_type": "code",
   "execution_count": 34,
   "id": "9313c3de",
   "metadata": {
    "execution": {
     "iopub.execute_input": "2025-07-12T16:31:53.282232Z",
     "iopub.status.busy": "2025-07-12T16:31:53.282009Z",
     "iopub.status.idle": "2025-07-12T16:31:53.495508Z",
     "shell.execute_reply": "2025-07-12T16:31:53.494903Z"
    },
    "papermill": {
     "duration": 0.235549,
     "end_time": "2025-07-12T16:31:53.496607",
     "exception": false,
     "start_time": "2025-07-12T16:31:53.261058",
     "status": "completed"
    },
    "tags": []
   },
   "outputs": [
    {
     "data": {
      "text/plain": [
       "0"
      ]
     },
     "execution_count": 34,
     "metadata": {},
     "output_type": "execute_result"
    }
   ],
   "source": [
    "gc.collect()"
   ]
  },
  {
   "cell_type": "code",
   "execution_count": 35,
   "id": "efdf2656",
   "metadata": {
    "execution": {
     "iopub.execute_input": "2025-07-12T16:31:53.539926Z",
     "iopub.status.busy": "2025-07-12T16:31:53.539460Z",
     "iopub.status.idle": "2025-07-12T16:31:55.446900Z",
     "shell.execute_reply": "2025-07-12T16:31:55.446149Z"
    },
    "papermill": {
     "duration": 1.930032,
     "end_time": "2025-07-12T16:31:55.448066",
     "exception": false,
     "start_time": "2025-07-12T16:31:53.518034",
     "status": "completed"
    },
    "tags": []
   },
   "outputs": [
    {
     "data": {
      "text/plain": [
       "((5120, 5, 128, 128, 3), (5120, 16), (1280, 5, 128, 128, 3), (1280, 16))"
      ]
     },
     "execution_count": 35,
     "metadata": {},
     "output_type": "execute_result"
    }
   ],
   "source": [
    "# RUN Split the Data into Train ( 75% ) and Test Set ( 25% ).\n",
    "from sklearn.model_selection import train_test_split\n",
    "features_train, features_test, labels_train, labels_test = train_test_split(videos,\n",
    "                                                                            one_hot_encoded_labels,\n",
    "                                                                            test_size = TEST_SIZE,\n",
    "                                                                            shuffle = True,\n",
    "                                                                            random_state = seed_constant)\n",
    "\n",
    "features_train.shape, labels_train.shape, features_test.shape, labels_test.shape"
   ]
  },
  {
   "cell_type": "markdown",
   "id": "985b41a3",
   "metadata": {
    "papermill": {
     "duration": 0.021348,
     "end_time": "2025-07-12T16:31:55.491407",
     "exception": false,
     "start_time": "2025-07-12T16:31:55.470059",
     "status": "completed"
    },
    "tags": []
   },
   "source": [
    "## Splitting data for ***Training Set*** and ***Validation Set***"
   ]
  },
  {
   "cell_type": "code",
   "execution_count": 36,
   "id": "a1b8807c",
   "metadata": {
    "execution": {
     "iopub.execute_input": "2025-07-12T16:31:55.533605Z",
     "iopub.status.busy": "2025-07-12T16:31:55.533364Z",
     "iopub.status.idle": "2025-07-12T16:31:55.539133Z",
     "shell.execute_reply": "2025-07-12T16:31:55.538440Z"
    },
    "papermill": {
     "duration": 0.028361,
     "end_time": "2025-07-12T16:31:55.540502",
     "exception": false,
     "start_time": "2025-07-12T16:31:55.512141",
     "status": "completed"
    },
    "tags": []
   },
   "outputs": [
    {
     "data": {
      "text/plain": [
       "((4096, 5, 128, 128, 3), (4096, 16), (1024, 5, 128, 128, 3), (1024, 16))"
      ]
     },
     "execution_count": 36,
     "metadata": {},
     "output_type": "execute_result"
    }
   ],
   "source": [
    "# Assuming features_train and labels_train are defined\n",
    "train_set = 1-VALIDATION_SPLIT\n",
    "\n",
    "train_video_frames, val_video_frames = features_train[:int(train_set * len(features_train))], features_train[int(train_set * len(features_train)):]\n",
    "train_labels, val_labels = labels_train[:int(train_set * len(labels_train))], labels_train[int(train_set * len(labels_train)):]\n",
    "\n",
    "train_video_frames.shape, train_labels.shape, val_video_frames.shape, val_labels.shape"
   ]
  },
  {
   "cell_type": "markdown",
   "id": "e3724953",
   "metadata": {
    "papermill": {
     "duration": 0.020671,
     "end_time": "2025-07-12T16:31:55.582627",
     "exception": false,
     "start_time": "2025-07-12T16:31:55.561956",
     "status": "completed"
    },
    "tags": []
   },
   "source": [
    "## Use Generator `Video Data Generator`"
   ]
  },
  {
   "cell_type": "code",
   "execution_count": 37,
   "id": "fe3893a6",
   "metadata": {
    "execution": {
     "iopub.execute_input": "2025-07-12T16:31:55.626376Z",
     "iopub.status.busy": "2025-07-12T16:31:55.626129Z",
     "iopub.status.idle": "2025-07-12T16:31:55.634247Z",
     "shell.execute_reply": "2025-07-12T16:31:55.633663Z"
    },
    "papermill": {
     "duration": 0.031361,
     "end_time": "2025-07-12T16:31:55.635248",
     "exception": false,
     "start_time": "2025-07-12T16:31:55.603887",
     "status": "completed"
    },
    "tags": []
   },
   "outputs": [
    {
     "name": "stdout",
     "output_type": "stream",
     "text": [
      "Total 4096 videos and 4096 classes\n",
      "Total 1024 videos and 1024 classes\n"
     ]
    },
    {
     "data": {
      "text/plain": [
       "(171, 43)"
      ]
     },
     "execution_count": 37,
     "metadata": {},
     "output_type": "execute_result"
    }
   ],
   "source": [
    "# Create the training and validation generators\n",
    "train_gen = VideoDataGenerator(\n",
    "    videos=train_video_frames, \n",
    "    labels=train_labels, \n",
    "    batch_size=BATCH_SIZE,\n",
    ")\n",
    "\n",
    "val_gen = VideoDataGenerator(\n",
    "    videos=val_video_frames, \n",
    "    labels=val_labels, \n",
    "    batch_size=BATCH_SIZE,\n",
    ")\n",
    "\n",
    "len(train_gen), len(val_gen)"
   ]
  },
  {
   "cell_type": "markdown",
   "id": "57e06963",
   "metadata": {
    "papermill": {
     "duration": 0.020086,
     "end_time": "2025-07-12T16:31:55.676246",
     "exception": false,
     "start_time": "2025-07-12T16:31:55.656160",
     "status": "completed"
    },
    "tags": []
   },
   "source": [
    "## Inspect ***Generator*** Data on Epochs"
   ]
  },
  {
   "cell_type": "code",
   "execution_count": 38,
   "id": "6d0c9afc",
   "metadata": {
    "execution": {
     "iopub.execute_input": "2025-07-12T16:31:55.717721Z",
     "iopub.status.busy": "2025-07-12T16:31:55.717513Z",
     "iopub.status.idle": "2025-07-12T16:31:55.730830Z",
     "shell.execute_reply": "2025-07-12T16:31:55.729997Z"
    },
    "papermill": {
     "duration": 0.035345,
     "end_time": "2025-07-12T16:31:55.732036",
     "exception": false,
     "start_time": "2025-07-12T16:31:55.696691",
     "status": "completed"
    },
    "tags": []
   },
   "outputs": [
    {
     "name": "stdout",
     "output_type": "stream",
     "text": [
      "[   0    1    2 ... 4093 4094 4095]\n",
      "[1355  207 1540 ...  885 3068 2783]\n"
     ]
    },
    {
     "data": {
      "text/plain": [
       "(24, (24, 5, 128, 128, 3), (24, 16))"
      ]
     },
     "execution_count": 38,
     "metadata": {},
     "output_type": "execute_result"
    }
   ],
   "source": [
    "features, labels = train_gen[1]\n",
    "\n",
    "print(train_gen.indices)\n",
    "\n",
    "train_gen.on_epoch_end()\n",
    "\n",
    "print(train_gen.indices)\n",
    "\n",
    "BATCH_SIZE, features.shape, labels.shape"
   ]
  },
  {
   "cell_type": "markdown",
   "id": "6b8b999d",
   "metadata": {
    "papermill": {
     "duration": 0.020758,
     "end_time": "2025-07-12T16:31:55.774305",
     "exception": false,
     "start_time": "2025-07-12T16:31:55.753547",
     "status": "completed"
    },
    "tags": []
   },
   "source": [
    "## Compute Class Weight"
   ]
  },
  {
   "cell_type": "code",
   "execution_count": 39,
   "id": "04944bce",
   "metadata": {
    "execution": {
     "iopub.execute_input": "2025-07-12T16:31:55.817570Z",
     "iopub.status.busy": "2025-07-12T16:31:55.817364Z",
     "iopub.status.idle": "2025-07-12T16:31:55.823941Z",
     "shell.execute_reply": "2025-07-12T16:31:55.823222Z"
    },
    "papermill": {
     "duration": 0.028772,
     "end_time": "2025-07-12T16:31:55.825033",
     "exception": false,
     "start_time": "2025-07-12T16:31:55.796261",
     "status": "completed"
    },
    "tags": []
   },
   "outputs": [
    {
     "name": "stdout",
     "output_type": "stream",
     "text": [
      "Class weights: {0: 1.0, 1: 1.0, 2: 1.0, 3: 1.0, 4: 1.0, 5: 1.0, 6: 1.0, 7: 1.0, 8: 1.0, 9: 1.0, 10: 1.0, 11: 1.0, 12: 1.0, 13: 1.0, 14: 1.0, 15: 1.0}\n"
     ]
    }
   ],
   "source": [
    "from sklearn.utils.class_weight import compute_class_weight\n",
    "import numpy as np\n",
    "\n",
    "# Assuming y_int are integer labels (not one-hot)\n",
    "y_int = np.argmax(one_hot_encoded_labels, axis=1)  # or just integer labels if you have them\n",
    "\n",
    "classes = np.arange(NO_OF_CLASSES)  # e.g. np.arange(16)\n",
    "class_weights_values = compute_class_weight(class_weight='balanced', classes=classes, y=y_int)\n",
    "\n",
    "class_weights = dict(zip(classes, class_weights_values))\n",
    "\n",
    "print(\"Class weights:\", class_weights)\n"
   ]
  },
  {
   "cell_type": "code",
   "execution_count": 40,
   "id": "029b1e43",
   "metadata": {
    "execution": {
     "iopub.execute_input": "2025-07-12T16:31:55.870538Z",
     "iopub.status.busy": "2025-07-12T16:31:55.870326Z",
     "iopub.status.idle": "2025-07-12T16:31:56.115882Z",
     "shell.execute_reply": "2025-07-12T16:31:56.115249Z"
    },
    "papermill": {
     "duration": 0.269635,
     "end_time": "2025-07-12T16:31:56.116997",
     "exception": false,
     "start_time": "2025-07-12T16:31:55.847362",
     "status": "completed"
    },
    "tags": []
   },
   "outputs": [],
   "source": [
    "gc.collect()\n",
    "del videos, one_hot_encoded_labels, labels_train\n",
    "del features_train, val_labels, train_labels\n",
    "del val_video_frames, train_video_frames"
   ]
  },
  {
   "cell_type": "markdown",
   "id": "6653442f",
   "metadata": {
    "papermill": {
     "duration": 0.021205,
     "end_time": "2025-07-12T16:31:56.160887",
     "exception": false,
     "start_time": "2025-07-12T16:31:56.139682",
     "status": "completed"
    },
    "tags": []
   },
   "source": [
    "# ✨ Model Execution\n",
    "## Creating Model"
   ]
  },
  {
   "cell_type": "markdown",
   "id": "64627556",
   "metadata": {
    "papermill": {
     "duration": 0.021299,
     "end_time": "2025-07-12T16:31:56.203385",
     "exception": false,
     "start_time": "2025-07-12T16:31:56.182086",
     "status": "completed"
    },
    "tags": []
   },
   "source": [
    "## Plot Model Structure"
   ]
  },
  {
   "cell_type": "markdown",
   "id": "096485d3",
   "metadata": {
    "papermill": {
     "duration": 0.021483,
     "end_time": "2025-07-12T16:31:56.246374",
     "exception": false,
     "start_time": "2025-07-12T16:31:56.224891",
     "status": "completed"
    },
    "tags": []
   },
   "source": [
    "## 📈 Model Training"
   ]
  },
  {
   "cell_type": "code",
   "execution_count": 41,
   "id": "bd9c9c80",
   "metadata": {
    "execution": {
     "iopub.execute_input": "2025-07-12T16:31:56.293063Z",
     "iopub.status.busy": "2025-07-12T16:31:56.292847Z",
     "iopub.status.idle": "2025-07-12T16:54:44.662979Z",
     "shell.execute_reply": "2025-07-12T16:54:44.662391Z"
    },
    "papermill": {
     "duration": 1368.395741,
     "end_time": "2025-07-12T16:54:44.664578",
     "exception": false,
     "start_time": "2025-07-12T16:31:56.268837",
     "status": "completed"
    },
    "tags": []
   },
   "outputs": [
    {
     "name": "stdout",
     "output_type": "stream",
     "text": [
      "Memory cleared before creating VGG19+LSTM model\n",
      "TensorFlow version: 2.18.0\n",
      "Pre-loading VGG19 weights...\n",
      "Downloading data from https://storage.googleapis.com/tensorflow/keras-applications/xception/xception_weights_tf_dim_ordering_tf_kernels_notop.h5\n",
      "\u001b[1m83683744/83683744\u001b[0m \u001b[32m━━━━━━━━━━━━━━━━━━━━\u001b[0m\u001b[37m\u001b[0m \u001b[1m0s\u001b[0m 0us/step\n",
      "VGG19 weights loaded successfully!\n",
      "Creating VGG19+LSTM model with parameters:\n",
      "sequence_length: 5, image_height: 128, image_width: 128, classes_list length: 16, dropout_rate: 0.5\n"
     ]
    },
    {
     "name": "stderr",
     "output_type": "stream",
     "text": [
      "/usr/local/lib/python3.11/dist-packages/keras/src/layers/core/wrapper.py:27: UserWarning: Do not pass an `input_shape`/`input_dim` argument to a layer. When using Sequential models, prefer using an `Input(shape)` object as the first layer in the model instead.\n",
      "  super().__init__(**kwargs)\n"
     ]
    },
    {
     "name": "stdout",
     "output_type": "stream",
     "text": [
      "VGG19+LSTM model architecture created successfully!\n"
     ]
    },
    {
     "data": {
      "text/html": [
       "<pre style=\"white-space:pre;overflow-x:auto;line-height:normal;font-family:Menlo,'DejaVu Sans Mono',consolas,'Courier New',monospace\"><span style=\"font-weight: bold\">Model: \"sequential\"</span>\n",
       "</pre>\n"
      ],
      "text/plain": [
       "\u001b[1mModel: \"sequential\"\u001b[0m\n"
      ]
     },
     "metadata": {},
     "output_type": "display_data"
    },
    {
     "data": {
      "text/html": [
       "<pre style=\"white-space:pre;overflow-x:auto;line-height:normal;font-family:Menlo,'DejaVu Sans Mono',consolas,'Courier New',monospace\">┏━━━━━━━━━━━━━━━━━━━━━━━━━━━━━━━━━┳━━━━━━━━━━━━━━━━━━━━━━━━┳━━━━━━━━━━━━━━━┓\n",
       "┃<span style=\"font-weight: bold\"> Layer (type)                    </span>┃<span style=\"font-weight: bold\"> Output Shape           </span>┃<span style=\"font-weight: bold\">       Param # </span>┃\n",
       "┡━━━━━━━━━━━━━━━━━━━━━━━━━━━━━━━━━╇━━━━━━━━━━━━━━━━━━━━━━━━╇━━━━━━━━━━━━━━━┩\n",
       "│ time_distributed_vgg19          │ (<span style=\"color: #00d7ff; text-decoration-color: #00d7ff\">None</span>, <span style=\"color: #00af00; text-decoration-color: #00af00\">5</span>, <span style=\"color: #00af00; text-decoration-color: #00af00\">4</span>, <span style=\"color: #00af00; text-decoration-color: #00af00\">4</span>, <span style=\"color: #00af00; text-decoration-color: #00af00\">2048</span>)  │    <span style=\"color: #00af00; text-decoration-color: #00af00\">20,861,480</span> │\n",
       "│ (<span style=\"color: #0087ff; text-decoration-color: #0087ff\">TimeDistributed</span>)               │                        │               │\n",
       "├─────────────────────────────────┼────────────────────────┼───────────────┤\n",
       "│ time_distributed_pooling        │ (<span style=\"color: #00d7ff; text-decoration-color: #00d7ff\">None</span>, <span style=\"color: #00af00; text-decoration-color: #00af00\">5</span>, <span style=\"color: #00af00; text-decoration-color: #00af00\">2048</span>)        │             <span style=\"color: #00af00; text-decoration-color: #00af00\">0</span> │\n",
       "│ (<span style=\"color: #0087ff; text-decoration-color: #0087ff\">TimeDistributed</span>)               │                        │               │\n",
       "├─────────────────────────────────┼────────────────────────┼───────────────┤\n",
       "│ bidirectional (<span style=\"color: #0087ff; text-decoration-color: #0087ff\">Bidirectional</span>)   │ (<span style=\"color: #00d7ff; text-decoration-color: #00d7ff\">None</span>, <span style=\"color: #00af00; text-decoration-color: #00af00\">512</span>)            │     <span style=\"color: #00af00; text-decoration-color: #00af00\">4,720,640</span> │\n",
       "├─────────────────────────────────┼────────────────────────┼───────────────┤\n",
       "│ batch_normalization_vgg19       │ (<span style=\"color: #00d7ff; text-decoration-color: #00d7ff\">None</span>, <span style=\"color: #00af00; text-decoration-color: #00af00\">512</span>)            │         <span style=\"color: #00af00; text-decoration-color: #00af00\">2,048</span> │\n",
       "│ (<span style=\"color: #0087ff; text-decoration-color: #0087ff\">BatchNormalization</span>)            │                        │               │\n",
       "├─────────────────────────────────┼────────────────────────┼───────────────┤\n",
       "│ dropout_lstm_vgg19 (<span style=\"color: #0087ff; text-decoration-color: #0087ff\">Dropout</span>)    │ (<span style=\"color: #00d7ff; text-decoration-color: #00d7ff\">None</span>, <span style=\"color: #00af00; text-decoration-color: #00af00\">512</span>)            │             <span style=\"color: #00af00; text-decoration-color: #00af00\">0</span> │\n",
       "├─────────────────────────────────┼────────────────────────┼───────────────┤\n",
       "│ dense_vgg19_1 (<span style=\"color: #0087ff; text-decoration-color: #0087ff\">Dense</span>)           │ (<span style=\"color: #00d7ff; text-decoration-color: #00d7ff\">None</span>, <span style=\"color: #00af00; text-decoration-color: #00af00\">512</span>)            │       <span style=\"color: #00af00; text-decoration-color: #00af00\">262,656</span> │\n",
       "├─────────────────────────────────┼────────────────────────┼───────────────┤\n",
       "│ dropout_dense_vgg19_1 (<span style=\"color: #0087ff; text-decoration-color: #0087ff\">Dropout</span>) │ (<span style=\"color: #00d7ff; text-decoration-color: #00d7ff\">None</span>, <span style=\"color: #00af00; text-decoration-color: #00af00\">512</span>)            │             <span style=\"color: #00af00; text-decoration-color: #00af00\">0</span> │\n",
       "├─────────────────────────────────┼────────────────────────┼───────────────┤\n",
       "│ dense_vgg19_2 (<span style=\"color: #0087ff; text-decoration-color: #0087ff\">Dense</span>)           │ (<span style=\"color: #00d7ff; text-decoration-color: #00d7ff\">None</span>, <span style=\"color: #00af00; text-decoration-color: #00af00\">128</span>)            │        <span style=\"color: #00af00; text-decoration-color: #00af00\">65,664</span> │\n",
       "├─────────────────────────────────┼────────────────────────┼───────────────┤\n",
       "│ dropout_dense_vgg19_2 (<span style=\"color: #0087ff; text-decoration-color: #0087ff\">Dropout</span>) │ (<span style=\"color: #00d7ff; text-decoration-color: #00d7ff\">None</span>, <span style=\"color: #00af00; text-decoration-color: #00af00\">128</span>)            │             <span style=\"color: #00af00; text-decoration-color: #00af00\">0</span> │\n",
       "├─────────────────────────────────┼────────────────────────┼───────────────┤\n",
       "│ output_vgg19 (<span style=\"color: #0087ff; text-decoration-color: #0087ff\">Dense</span>)            │ (<span style=\"color: #00d7ff; text-decoration-color: #00d7ff\">None</span>, <span style=\"color: #00af00; text-decoration-color: #00af00\">16</span>)             │         <span style=\"color: #00af00; text-decoration-color: #00af00\">2,064</span> │\n",
       "└─────────────────────────────────┴────────────────────────┴───────────────┘\n",
       "</pre>\n"
      ],
      "text/plain": [
       "┏━━━━━━━━━━━━━━━━━━━━━━━━━━━━━━━━━┳━━━━━━━━━━━━━━━━━━━━━━━━┳━━━━━━━━━━━━━━━┓\n",
       "┃\u001b[1m \u001b[0m\u001b[1mLayer (type)                   \u001b[0m\u001b[1m \u001b[0m┃\u001b[1m \u001b[0m\u001b[1mOutput Shape          \u001b[0m\u001b[1m \u001b[0m┃\u001b[1m \u001b[0m\u001b[1m      Param #\u001b[0m\u001b[1m \u001b[0m┃\n",
       "┡━━━━━━━━━━━━━━━━━━━━━━━━━━━━━━━━━╇━━━━━━━━━━━━━━━━━━━━━━━━╇━━━━━━━━━━━━━━━┩\n",
       "│ time_distributed_vgg19          │ (\u001b[38;5;45mNone\u001b[0m, \u001b[38;5;34m5\u001b[0m, \u001b[38;5;34m4\u001b[0m, \u001b[38;5;34m4\u001b[0m, \u001b[38;5;34m2048\u001b[0m)  │    \u001b[38;5;34m20,861,480\u001b[0m │\n",
       "│ (\u001b[38;5;33mTimeDistributed\u001b[0m)               │                        │               │\n",
       "├─────────────────────────────────┼────────────────────────┼───────────────┤\n",
       "│ time_distributed_pooling        │ (\u001b[38;5;45mNone\u001b[0m, \u001b[38;5;34m5\u001b[0m, \u001b[38;5;34m2048\u001b[0m)        │             \u001b[38;5;34m0\u001b[0m │\n",
       "│ (\u001b[38;5;33mTimeDistributed\u001b[0m)               │                        │               │\n",
       "├─────────────────────────────────┼────────────────────────┼───────────────┤\n",
       "│ bidirectional (\u001b[38;5;33mBidirectional\u001b[0m)   │ (\u001b[38;5;45mNone\u001b[0m, \u001b[38;5;34m512\u001b[0m)            │     \u001b[38;5;34m4,720,640\u001b[0m │\n",
       "├─────────────────────────────────┼────────────────────────┼───────────────┤\n",
       "│ batch_normalization_vgg19       │ (\u001b[38;5;45mNone\u001b[0m, \u001b[38;5;34m512\u001b[0m)            │         \u001b[38;5;34m2,048\u001b[0m │\n",
       "│ (\u001b[38;5;33mBatchNormalization\u001b[0m)            │                        │               │\n",
       "├─────────────────────────────────┼────────────────────────┼───────────────┤\n",
       "│ dropout_lstm_vgg19 (\u001b[38;5;33mDropout\u001b[0m)    │ (\u001b[38;5;45mNone\u001b[0m, \u001b[38;5;34m512\u001b[0m)            │             \u001b[38;5;34m0\u001b[0m │\n",
       "├─────────────────────────────────┼────────────────────────┼───────────────┤\n",
       "│ dense_vgg19_1 (\u001b[38;5;33mDense\u001b[0m)           │ (\u001b[38;5;45mNone\u001b[0m, \u001b[38;5;34m512\u001b[0m)            │       \u001b[38;5;34m262,656\u001b[0m │\n",
       "├─────────────────────────────────┼────────────────────────┼───────────────┤\n",
       "│ dropout_dense_vgg19_1 (\u001b[38;5;33mDropout\u001b[0m) │ (\u001b[38;5;45mNone\u001b[0m, \u001b[38;5;34m512\u001b[0m)            │             \u001b[38;5;34m0\u001b[0m │\n",
       "├─────────────────────────────────┼────────────────────────┼───────────────┤\n",
       "│ dense_vgg19_2 (\u001b[38;5;33mDense\u001b[0m)           │ (\u001b[38;5;45mNone\u001b[0m, \u001b[38;5;34m128\u001b[0m)            │        \u001b[38;5;34m65,664\u001b[0m │\n",
       "├─────────────────────────────────┼────────────────────────┼───────────────┤\n",
       "│ dropout_dense_vgg19_2 (\u001b[38;5;33mDropout\u001b[0m) │ (\u001b[38;5;45mNone\u001b[0m, \u001b[38;5;34m128\u001b[0m)            │             \u001b[38;5;34m0\u001b[0m │\n",
       "├─────────────────────────────────┼────────────────────────┼───────────────┤\n",
       "│ output_vgg19 (\u001b[38;5;33mDense\u001b[0m)            │ (\u001b[38;5;45mNone\u001b[0m, \u001b[38;5;34m16\u001b[0m)             │         \u001b[38;5;34m2,064\u001b[0m │\n",
       "└─────────────────────────────────┴────────────────────────┴───────────────┘\n"
      ]
     },
     "metadata": {},
     "output_type": "display_data"
    },
    {
     "data": {
      "text/html": [
       "<pre style=\"white-space:pre;overflow-x:auto;line-height:normal;font-family:Menlo,'DejaVu Sans Mono',consolas,'Courier New',monospace\"><span style=\"font-weight: bold\"> Total params: </span><span style=\"color: #00af00; text-decoration-color: #00af00\">25,914,552</span> (98.86 MB)\n",
       "</pre>\n"
      ],
      "text/plain": [
       "\u001b[1m Total params: \u001b[0m\u001b[38;5;34m25,914,552\u001b[0m (98.86 MB)\n"
      ]
     },
     "metadata": {},
     "output_type": "display_data"
    },
    {
     "data": {
      "text/html": [
       "<pre style=\"white-space:pre;overflow-x:auto;line-height:normal;font-family:Menlo,'DejaVu Sans Mono',consolas,'Courier New',monospace\"><span style=\"font-weight: bold\"> Trainable params: </span><span style=\"color: #00af00; text-decoration-color: #00af00\">5,052,048</span> (19.27 MB)\n",
       "</pre>\n"
      ],
      "text/plain": [
       "\u001b[1m Trainable params: \u001b[0m\u001b[38;5;34m5,052,048\u001b[0m (19.27 MB)\n"
      ]
     },
     "metadata": {},
     "output_type": "display_data"
    },
    {
     "data": {
      "text/html": [
       "<pre style=\"white-space:pre;overflow-x:auto;line-height:normal;font-family:Menlo,'DejaVu Sans Mono',consolas,'Courier New',monospace\"><span style=\"font-weight: bold\"> Non-trainable params: </span><span style=\"color: #00af00; text-decoration-color: #00af00\">20,862,504</span> (79.58 MB)\n",
       "</pre>\n"
      ],
      "text/plain": [
       "\u001b[1m Non-trainable params: \u001b[0m\u001b[38;5;34m20,862,504\u001b[0m (79.58 MB)\n"
      ]
     },
     "metadata": {},
     "output_type": "display_data"
    },
    {
     "name": "stdout",
     "output_type": "stream",
     "text": [
      "VGG19+LSTM Model Created Successfully!\n",
      "Xception_VGG19_LSTM Model Plot saved successfully...\n",
      "train_gen.videos shape: (4096, 5, 128, 128, 3)\n",
      "train_gen.labels shape: (4096, 16)\n",
      "val_gen.videos shape: (1024, 5, 128, 128, 3)\n",
      "val_gen.labels shape: (1024, 16)\n",
      "features_test shape: (1280, 5, 128, 128, 3)\n",
      "labels_test shape: (1280, 16)\n",
      "train_gen batch videos shape: (24, 5, 128, 128, 3)\n",
      "train_gen batch labels shape: (24, 16)\n",
      "val_gen batch videos shape: (24, 5, 128, 128, 3)\n",
      "val_gen batch labels shape: (24, 16)\n",
      "Dataset - Precis Har Rgb\n",
      "There are total 16 classes, selected 16 classes\n",
      "Setting None videos/class to train the model.\n",
      "Image size 128x128 with 5 sequence length\n",
      "Dropout rate: 0.5\n",
      "Train-Test split ratio 80/20\n",
      "Validation data from Train set 20.0%\n",
      "\n",
      "\n",
      "Initial training started for VGG19+LSTM model with 4096 videos of 16 classes with 1024 videos for validation...\n",
      "Epoch 1/30\n"
     ]
    },
    {
     "name": "stderr",
     "output_type": "stream",
     "text": [
      "I0000 00:00:1752337949.384336    6555 cuda_dnn.cc:529] Loaded cuDNN version 90300\n"
     ]
    },
    {
     "name": "stdout",
     "output_type": "stream",
     "text": [
      "    171/Unknown \u001b[1m65s\u001b[0m 202ms/step - accuracy: 0.1594 - loss: 27.2144"
     ]
    },
    {
     "name": "stderr",
     "output_type": "stream",
     "text": [
      "/usr/local/lib/python3.11/dist-packages/keras/src/trainers/epoch_iterator.py:151: UserWarning: Your input ran out of data; interrupting training. Make sure that your dataset or generator can generate at least `steps_per_epoch * epochs` batches. You may need to use the `.repeat()` function when building your dataset.\n",
      "  self._interrupted_warning()\n"
     ]
    },
    {
     "name": "stdout",
     "output_type": "stream",
     "text": [
      "\u001b[1m171/171\u001b[0m \u001b[32m━━━━━━━━━━━━━━━━━━━━\u001b[0m\u001b[37m\u001b[0m \u001b[1m81s\u001b[0m 295ms/step - accuracy: 0.1598 - loss: 27.1729 - val_accuracy: 0.4395 - val_loss: 11.2478 - learning_rate: 0.0010\n",
      "Epoch 2/30\n",
      "\u001b[1m171/171\u001b[0m \u001b[32m━━━━━━━━━━━━━━━━━━━━\u001b[0m\u001b[37m\u001b[0m \u001b[1m45s\u001b[0m 262ms/step - accuracy: 0.3761 - loss: 9.5187 - val_accuracy: 0.5107 - val_loss: 5.9940 - learning_rate: 0.0010\n",
      "Epoch 3/30\n",
      "\u001b[1m171/171\u001b[0m \u001b[32m━━━━━━━━━━━━━━━━━━━━\u001b[0m\u001b[37m\u001b[0m \u001b[1m44s\u001b[0m 257ms/step - accuracy: 0.4682 - loss: 5.4508 - val_accuracy: 0.4688 - val_loss: 4.0288 - learning_rate: 0.0010\n",
      "Epoch 4/30\n",
      "\u001b[1m171/171\u001b[0m \u001b[32m━━━━━━━━━━━━━━━━━━━━\u001b[0m\u001b[37m\u001b[0m \u001b[1m44s\u001b[0m 259ms/step - accuracy: 0.5039 - loss: 3.7500 - val_accuracy: 0.5762 - val_loss: 2.8633 - learning_rate: 0.0010\n",
      "Epoch 5/30\n",
      "\u001b[1m171/171\u001b[0m \u001b[32m━━━━━━━━━━━━━━━━━━━━\u001b[0m\u001b[37m\u001b[0m \u001b[1m44s\u001b[0m 259ms/step - accuracy: 0.5137 - loss: 2.8730 - val_accuracy: 0.5479 - val_loss: 2.4901 - learning_rate: 0.0010\n",
      "Epoch 6/30\n",
      "\u001b[1m171/171\u001b[0m \u001b[32m━━━━━━━━━━━━━━━━━━━━\u001b[0m\u001b[37m\u001b[0m \u001b[1m44s\u001b[0m 258ms/step - accuracy: 0.5455 - loss: 2.4843 - val_accuracy: 0.5791 - val_loss: 2.2090 - learning_rate: 0.0010\n",
      "Epoch 7/30\n",
      "\u001b[1m171/171\u001b[0m \u001b[32m━━━━━━━━━━━━━━━━━━━━\u001b[0m\u001b[37m\u001b[0m \u001b[1m44s\u001b[0m 260ms/step - accuracy: 0.5454 - loss: 2.2650 - val_accuracy: 0.5361 - val_loss: 2.1190 - learning_rate: 0.0010\n",
      "Epoch 8/30\n",
      "\u001b[1m171/171\u001b[0m \u001b[32m━━━━━━━━━━━━━━━━━━━━\u001b[0m\u001b[37m\u001b[0m \u001b[1m44s\u001b[0m 259ms/step - accuracy: 0.5519 - loss: 2.1584 - val_accuracy: 0.5967 - val_loss: 2.0438 - learning_rate: 0.0010\n",
      "Epoch 9/30\n",
      "\u001b[1m171/171\u001b[0m \u001b[32m━━━━━━━━━━━━━━━━━━━━\u001b[0m\u001b[37m\u001b[0m \u001b[1m44s\u001b[0m 259ms/step - accuracy: 0.5500 - loss: 2.1326 - val_accuracy: 0.5957 - val_loss: 1.9520 - learning_rate: 0.0010\n",
      "Epoch 10/30\n",
      "\u001b[1m171/171\u001b[0m \u001b[32m━━━━━━━━━━━━━━━━━━━━\u001b[0m\u001b[37m\u001b[0m \u001b[1m44s\u001b[0m 259ms/step - accuracy: 0.5771 - loss: 2.0597 - val_accuracy: 0.5879 - val_loss: 1.9321 - learning_rate: 0.0010\n",
      "Epoch 11/30\n",
      "\u001b[1m171/171\u001b[0m \u001b[32m━━━━━━━━━━━━━━━━━━━━\u001b[0m\u001b[37m\u001b[0m \u001b[1m44s\u001b[0m 258ms/step - accuracy: 0.5635 - loss: 2.0870 - val_accuracy: 0.5684 - val_loss: 2.1034 - learning_rate: 0.0010\n",
      "Epoch 12/30\n",
      "\u001b[1m171/171\u001b[0m \u001b[32m━━━━━━━━━━━━━━━━━━━━\u001b[0m\u001b[37m\u001b[0m \u001b[1m44s\u001b[0m 258ms/step - accuracy: 0.5659 - loss: 2.0797 - val_accuracy: 0.5625 - val_loss: 2.0938 - learning_rate: 0.0010\n",
      "Epoch 13/30\n",
      "\u001b[1m171/171\u001b[0m \u001b[32m━━━━━━━━━━━━━━━━━━━━\u001b[0m\u001b[37m\u001b[0m \u001b[1m44s\u001b[0m 258ms/step - accuracy: 0.5674 - loss: 2.1034 - val_accuracy: 0.6230 - val_loss: 1.7858 - learning_rate: 0.0010\n",
      "Epoch 14/30\n",
      "\u001b[1m171/171\u001b[0m \u001b[32m━━━━━━━━━━━━━━━━━━━━\u001b[0m\u001b[37m\u001b[0m \u001b[1m44s\u001b[0m 257ms/step - accuracy: 0.5790 - loss: 1.9248 - val_accuracy: 0.5771 - val_loss: 2.0530 - learning_rate: 0.0010\n",
      "Epoch 15/30\n",
      "\u001b[1m171/171\u001b[0m \u001b[32m━━━━━━━━━━━━━━━━━━━━\u001b[0m\u001b[37m\u001b[0m \u001b[1m44s\u001b[0m 258ms/step - accuracy: 0.5819 - loss: 2.1020 - val_accuracy: 0.6074 - val_loss: 1.8775 - learning_rate: 0.0010\n",
      "Epoch 16/30\n",
      "\u001b[1m171/171\u001b[0m \u001b[32m━━━━━━━━━━━━━━━━━━━━\u001b[0m\u001b[37m\u001b[0m \u001b[1m44s\u001b[0m 258ms/step - accuracy: 0.5835 - loss: 2.0298 - val_accuracy: 0.5674 - val_loss: 1.9930 - learning_rate: 0.0010\n",
      "Epoch 17/30\n",
      "\u001b[1m171/171\u001b[0m \u001b[32m━━━━━━━━━━━━━━━━━━━━\u001b[0m\u001b[37m\u001b[0m \u001b[1m44s\u001b[0m 259ms/step - accuracy: 0.6154 - loss: 1.7844 - val_accuracy: 0.6504 - val_loss: 1.5261 - learning_rate: 5.0000e-04\n",
      "Epoch 18/30\n",
      "\u001b[1m171/171\u001b[0m \u001b[32m━━━━━━━━━━━━━━━━━━━━\u001b[0m\u001b[37m\u001b[0m \u001b[1m44s\u001b[0m 259ms/step - accuracy: 0.6510 - loss: 1.4974 - val_accuracy: 0.6484 - val_loss: 1.4268 - learning_rate: 5.0000e-04\n",
      "Epoch 19/30\n",
      "\u001b[1m171/171\u001b[0m \u001b[32m━━━━━━━━━━━━━━━━━━━━\u001b[0m\u001b[37m\u001b[0m \u001b[1m44s\u001b[0m 258ms/step - accuracy: 0.6585 - loss: 1.4132 - val_accuracy: 0.6387 - val_loss: 1.5008 - learning_rate: 5.0000e-04\n",
      "Epoch 20/30\n",
      "\u001b[1m171/171\u001b[0m \u001b[32m━━━━━━━━━━━━━━━━━━━━\u001b[0m\u001b[37m\u001b[0m \u001b[1m44s\u001b[0m 259ms/step - accuracy: 0.6691 - loss: 1.4050 - val_accuracy: 0.6289 - val_loss: 1.5000 - learning_rate: 5.0000e-04\n",
      "Epoch 21/30\n",
      "\u001b[1m171/171\u001b[0m \u001b[32m━━━━━━━━━━━━━━━━━━━━\u001b[0m\u001b[37m\u001b[0m \u001b[1m44s\u001b[0m 259ms/step - accuracy: 0.6688 - loss: 1.4121 - val_accuracy: 0.6162 - val_loss: 1.6220 - learning_rate: 5.0000e-04\n",
      "Epoch 22/30\n",
      "\u001b[1m171/171\u001b[0m \u001b[32m━━━━━━━━━━━━━━━━━━━━\u001b[0m\u001b[37m\u001b[0m \u001b[1m44s\u001b[0m 259ms/step - accuracy: 0.6934 - loss: 1.3005 - val_accuracy: 0.6631 - val_loss: 1.3019 - learning_rate: 2.5000e-04\n",
      "Epoch 23/30\n",
      "\u001b[1m171/171\u001b[0m \u001b[32m━━━━━━━━━━━━━━━━━━━━\u001b[0m\u001b[37m\u001b[0m \u001b[1m44s\u001b[0m 259ms/step - accuracy: 0.7260 - loss: 1.1465 - val_accuracy: 0.6758 - val_loss: 1.2402 - learning_rate: 2.5000e-04\n",
      "Epoch 24/30\n",
      "\u001b[1m171/171\u001b[0m \u001b[32m━━━━━━━━━━━━━━━━━━━━\u001b[0m\u001b[37m\u001b[0m \u001b[1m44s\u001b[0m 258ms/step - accuracy: 0.7325 - loss: 1.0725 - val_accuracy: 0.6475 - val_loss: 1.2974 - learning_rate: 2.5000e-04\n",
      "Epoch 25/30\n",
      "\u001b[1m171/171\u001b[0m \u001b[32m━━━━━━━━━━━━━━━━━━━━\u001b[0m\u001b[37m\u001b[0m \u001b[1m44s\u001b[0m 259ms/step - accuracy: 0.7406 - loss: 1.0557 - val_accuracy: 0.6768 - val_loss: 1.2397 - learning_rate: 2.5000e-04\n",
      "Epoch 26/30\n",
      "\u001b[1m171/171\u001b[0m \u001b[32m━━━━━━━━━━━━━━━━━━━━\u001b[0m\u001b[37m\u001b[0m \u001b[1m44s\u001b[0m 258ms/step - accuracy: 0.7611 - loss: 1.0053 - val_accuracy: 0.6543 - val_loss: 1.3096 - learning_rate: 2.5000e-04\n",
      "Epoch 27/30\n",
      "\u001b[1m171/171\u001b[0m \u001b[32m━━━━━━━━━━━━━━━━━━━━\u001b[0m\u001b[37m\u001b[0m \u001b[1m44s\u001b[0m 258ms/step - accuracy: 0.7650 - loss: 1.0009 - val_accuracy: 0.6553 - val_loss: 1.3874 - learning_rate: 2.5000e-04\n",
      "Epoch 28/30\n",
      "\u001b[1m171/171\u001b[0m \u001b[32m━━━━━━━━━━━━━━━━━━━━\u001b[0m\u001b[37m\u001b[0m \u001b[1m44s\u001b[0m 258ms/step - accuracy: 0.7599 - loss: 1.0120 - val_accuracy: 0.6719 - val_loss: 1.3446 - learning_rate: 2.5000e-04\n",
      "Epoch 29/30\n",
      "\u001b[1m171/171\u001b[0m \u001b[32m━━━━━━━━━━━━━━━━━━━━\u001b[0m\u001b[37m\u001b[0m \u001b[1m44s\u001b[0m 258ms/step - accuracy: 0.7872 - loss: 0.9316 - val_accuracy: 0.6943 - val_loss: 1.2020 - learning_rate: 1.2500e-04\n",
      "Epoch 30/30\n",
      "\u001b[1m171/171\u001b[0m \u001b[32m━━━━━━━━━━━━━━━━━━━━\u001b[0m\u001b[37m\u001b[0m \u001b[1m44s\u001b[0m 258ms/step - accuracy: 0.8097 - loss: 0.8238 - val_accuracy: 0.6914 - val_loss: 1.2076 - learning_rate: 1.2500e-04\n"
     ]
    }
   ],
   "source": [
    "# Import necessary libraries\n",
    "from tensorflow.keras.applications import Xception\n",
    "from tensorflow.keras.models import Sequential\n",
    "from tensorflow.keras.layers import TimeDistributed, GlobalAveragePooling2D, LSTM, Dropout, Dense, BatchNormalization, Bidirectional\n",
    "from tensorflow.keras.regularizers import l2\n",
    "from tensorflow.keras.callbacks import EarlyStopping, ReduceLROnPlateau\n",
    "from tensorflow.keras.utils import to_categorical\n",
    "import tensorflow as tf\n",
    "import numpy as np\n",
    "import gc\n",
    "\n",
    "# Clear memory before creating the new model\n",
    "gc.collect()\n",
    "tf.keras.backend.clear_session()\n",
    "print(\"Memory cleared before creating VGG19+LSTM model\")\n",
    "\n",
    "# Print TensorFlow version\n",
    "print(f\"TensorFlow version: {tf.__version__}\")\n",
    "\n",
    "# Pre-load VGG19 weights\n",
    "print(\"Pre-loading VGG19 weights...\")\n",
    "try:\n",
    "    base_model = Xception(weights='imagenet', include_top=False, input_shape=(IMAGE_HEIGHT, IMAGE_WIDTH, 3))\n",
    "    print(\"VGG19 weights loaded successfully!\")\n",
    "except Exception as e:\n",
    "    print(f\"Failed to load VGG19 weights: {str(e)}\")\n",
    "    print(\"Falling back to initializing VGG19 without pre-trained weights...\")\n",
    "    base_model = Xception(weights=None, include_top=False, input_shape=(IMAGE_HEIGHT, IMAGE_WIDTH, 3))\n",
    "\n",
    "# Define function to create VGG19+LSTM model\n",
    "def create_model(sequence_length, image_height, image_width, classes_list=None, dropout_rate=0.5, base_model=None):\n",
    "    print(\"Creating VGG19+LSTM model with parameters:\")\n",
    "    print(f\"sequence_length: {sequence_length}, image_height: {image_height}, image_width: {image_width}, classes_list length: {len(classes_list) if classes_list is not None else None}, dropout_rate: {dropout_rate}\")\n",
    "    \n",
    "    if classes_list is None:\n",
    "        raise ValueError(\"classes_list must be provided to define the output layer size\")\n",
    "    if base_model is None:\n",
    "        raise ValueError(\"base_model must be provided to avoid re-downloading weights\")\n",
    "\n",
    "    try:\n",
    "        # Use the pre-loaded base model\n",
    "        # Freeze the base model for initial training\n",
    "        base_model.trainable = False\n",
    "\n",
    "        # Define the Sequential model\n",
    "        model = Sequential([\n",
    "            # TimeDistributed VGG19 model\n",
    "            TimeDistributed(\n",
    "                base_model,\n",
    "                input_shape=(sequence_length, image_height, image_width, 3),\n",
    "                name=\"time_distributed_vgg19\"\n",
    "            ),\n",
    "            # TimeDistributed GlobalAveragePooling2D\n",
    "            TimeDistributed(GlobalAveragePooling2D(), name=\"time_distributed_pooling\"),\n",
    "            # LSTM layer with 512 units\n",
    "            Bidirectional(LSTM(256, activation=\"tanh\", return_sequences=False, kernel_regularizer=l2(0.01), name=\"lstm_vgg19\")),\n",
    "            BatchNormalization(name=\"batch_normalization_vgg19\"),\n",
    "            # Dropout after LSTM\n",
    "            Dropout(dropout_rate, name=\"dropout_lstm_vgg19\"),\n",
    "            # Dense layer with 512 units\n",
    "            Dense(512, activation=\"relu\", kernel_regularizer=l2(0.01), name=\"dense_vgg19_1\"),\n",
    "            # Dropout after first Dense\n",
    "            Dropout(dropout_rate, name=\"dropout_dense_vgg19_1\"),\n",
    "            # Dense layer with 128 units\n",
    "            Dense(128, activation=\"relu\", kernel_regularizer=l2(0.01), name=\"dense_vgg19_2\"),\n",
    "            # Dropout after second Dense\n",
    "            Dropout(dropout_rate, name=\"dropout_dense_vgg19_2\"),\n",
    "            # Output Dense layer with softmax activation\n",
    "            Dense(len(classes_list), activation=\"softmax\", name=\"output_vgg19\")\n",
    "        ])\n",
    "\n",
    "        # Print model summary\n",
    "        print(\"VGG19+LSTM model architecture created successfully!\")\n",
    "        model.summary()\n",
    "\n",
    "        return model\n",
    "\n",
    "    except Exception as e:\n",
    "        print(f\"Error creating VGG19+LSTM model: {str(e)}\")\n",
    "        import traceback\n",
    "        traceback.print_exc()\n",
    "        return None\n",
    "\n",
    "# Create the VGG19+LSTM model using the pre-loaded base model\n",
    "model = create_model(\n",
    "    sequence_length=SEQUENCE_LENGTH,\n",
    "    image_height=IMAGE_HEIGHT,\n",
    "    image_width=IMAGE_WIDTH,\n",
    "    classes_list=CLASSES_LIST,\n",
    "    dropout_rate=DROPOUT_RATE,\n",
    "    base_model=base_model\n",
    ")\n",
    "\n",
    "# Check if model was created successfully\n",
    "if model is None:\n",
    "    raise ValueError(\"Failed to create VGG19+LSTM model. Check error messages above.\")\n",
    "else:\n",
    "    print(\"VGG19+LSTM Model Created Successfully!\")\n",
    "\n",
    "# Plot the model structure\n",
    "from tensorflow.keras.utils import plot_model\n",
    "try:\n",
    "    plot_model(model, to_file=f'{MODEL_NAME}_model_Plot.png', show_shapes=True, show_layer_names=True)\n",
    "    print(f\"{MODEL_NAME}_VGG19_LSTM Model Plot saved successfully...\")\n",
    "except Exception as e:\n",
    "    print(f\"Failed to plot model: {str(e)}\")\n",
    "\n",
    "# Verify data shapes\n",
    "print(f\"train_gen.videos shape: {np.shape(train_gen.videos)}\")\n",
    "print(f\"train_gen.labels shape: {np.shape(train_gen.labels)}\")\n",
    "print(f\"val_gen.videos shape: {np.shape(val_gen.videos)}\")\n",
    "print(f\"val_gen.labels shape: {np.shape(val_gen.labels)}\")\n",
    "print(f\"features_test shape: {np.shape(features_test)}\")\n",
    "print(f\"labels_test shape: {np.shape(labels_test)}\")\n",
    "\n",
    "# Ensure labels_test is one-hot encoded\n",
    "if len(labels_test.shape) == 1:\n",
    "    print(\"Converting labels_test to one-hot encoded format...\")\n",
    "    labels_test = to_categorical(labels_test, num_classes=NO_OF_CLASSES)\n",
    "    print(f\"New labels_test shape: {labels_test.shape}\")\n",
    "\n",
    "# Verify generator batch shapes\n",
    "try:\n",
    "    videos, labels = train_gen[0]\n",
    "    print(f\"train_gen batch videos shape: {videos.shape}\")\n",
    "    print(f\"train_gen batch labels shape: {labels.shape}\")\n",
    "    videos, labels = val_gen[0]\n",
    "    print(f\"val_gen batch videos shape: {videos.shape}\")\n",
    "    print(f\"val_gen batch labels shape: {labels.shape}\")\n",
    "except Exception as e:\n",
    "    print(f\"Error accessing generator data: {str(e)}\")\n",
    "\n",
    "# Compile the model for initial training\n",
    "early_stopping_callback = EarlyStopping(monitor='val_loss', patience=7, mode='min', restore_best_weights=True)\n",
    "lr_scheduler = ReduceLROnPlateau(monitor='val_loss', factor=0.5, patience=3, min_lr=1e-6)\n",
    "\n",
    "model.compile(\n",
    "    loss='categorical_crossentropy',\n",
    "    optimizer=tf.keras.optimizers.Adam(learning_rate=0.001),  # Higher learning rate for initial training\n",
    "    metrics=['accuracy']\n",
    ")\n",
    "\n",
    "# Print dataset summary\n",
    "print(f\"Dataset - {DATASET_NAME}\")\n",
    "print(f\"There are total {len(ALL_CLASS_NAMES)} classes, selected {NO_OF_CLASSES} classes\")\n",
    "print(f\"Setting {MAX_VIDEO_PER_CLASS} videos/class to train the model.\")\n",
    "print(f\"Image size {IMAGE_HEIGHT}x{IMAGE_WIDTH} with {SEQUENCE_LENGTH} sequence length\")\n",
    "print(f\"Dropout rate: {DROPOUT_RATE}\")\n",
    "print(f\"Train-Test split ratio {int((1-TEST_SIZE)*100)}/{int(TEST_SIZE*100)}\")\n",
    "print(f\"Validation data from Train set {VALIDATION_SPLIT*100}%\")\n",
    "print(\"\\n\")\n",
    "\n",
    "# Initial training with frozen base model\n",
    "print(f\"Initial training started for VGG19+LSTM model with {len(train_gen.videos)} videos of {NO_OF_CLASSES} classes with {len(val_gen.videos)} videos for validation...\")\n",
    "try:\n",
    "    initial_model_history = model.fit(\n",
    "        train_gen.as_dataset(),\n",
    "        validation_data=val_gen.as_dataset(),\n",
    "        epochs=EPOCHS,\n",
    "        class_weight=class_weights,\n",
    "        callbacks=[early_stopping_callback, lr_scheduler]\n",
    "    )\n",
    "except Exception as e:\n",
    "    print(f\"Error during initial model training: {str(e)}\")\n",
    "    import traceback\n",
    "    traceback.print_exc()\n"
   ]
  },
  {
   "cell_type": "code",
   "execution_count": 42,
   "id": "0b7c16ae",
   "metadata": {
    "execution": {
     "iopub.execute_input": "2025-07-12T16:54:45.150412Z",
     "iopub.status.busy": "2025-07-12T16:54:45.150107Z",
     "iopub.status.idle": "2025-07-12T17:21:37.327888Z",
     "shell.execute_reply": "2025-07-12T17:21:37.327040Z"
    },
    "papermill": {
     "duration": 1612.420065,
     "end_time": "2025-07-12T17:21:37.328919",
     "exception": false,
     "start_time": "2025-07-12T16:54:44.908854",
     "status": "completed"
    },
    "tags": []
   },
   "outputs": [
    {
     "name": "stdout",
     "output_type": "stream",
     "text": [
      "\n",
      "Fine-tuning started for VGG19+LSTM model with 4096 videos of 16 classes with 1024 videos for validation...\n",
      "Epoch 1/30\n",
      "\u001b[1m171/171\u001b[0m \u001b[32m━━━━━━━━━━━━━━━━━━━━\u001b[0m\u001b[37m\u001b[0m \u001b[1m92s\u001b[0m 349ms/step - accuracy: 0.6434 - loss: 1.4661 - val_accuracy: 0.6729 - val_loss: 1.1977 - learning_rate: 1.0000e-04\n",
      "Epoch 2/30\n",
      "\u001b[1m171/171\u001b[0m \u001b[32m━━━━━━━━━━━━━━━━━━━━\u001b[0m\u001b[37m\u001b[0m \u001b[1m52s\u001b[0m 305ms/step - accuracy: 0.7586 - loss: 0.9630 - val_accuracy: 0.6904 - val_loss: 1.1559 - learning_rate: 1.0000e-04\n",
      "Epoch 3/30\n",
      "\u001b[1m171/171\u001b[0m \u001b[32m━━━━━━━━━━━━━━━━━━━━\u001b[0m\u001b[37m\u001b[0m \u001b[1m52s\u001b[0m 304ms/step - accuracy: 0.8046 - loss: 0.8232 - val_accuracy: 0.6982 - val_loss: 1.1264 - learning_rate: 1.0000e-04\n",
      "Epoch 4/30\n",
      "\u001b[1m171/171\u001b[0m \u001b[32m━━━━━━━━━━━━━━━━━━━━\u001b[0m\u001b[37m\u001b[0m \u001b[1m52s\u001b[0m 304ms/step - accuracy: 0.8297 - loss: 0.7430 - val_accuracy: 0.6875 - val_loss: 1.1556 - learning_rate: 1.0000e-04\n",
      "Epoch 5/30\n",
      "\u001b[1m171/171\u001b[0m \u001b[32m━━━━━━━━━━━━━━━━━━━━\u001b[0m\u001b[37m\u001b[0m \u001b[1m52s\u001b[0m 305ms/step - accuracy: 0.8436 - loss: 0.7124 - val_accuracy: 0.7012 - val_loss: 1.1084 - learning_rate: 1.0000e-04\n",
      "Epoch 6/30\n",
      "\u001b[1m171/171\u001b[0m \u001b[32m━━━━━━━━━━━━━━━━━━━━\u001b[0m\u001b[37m\u001b[0m \u001b[1m52s\u001b[0m 305ms/step - accuracy: 0.8581 - loss: 0.6589 - val_accuracy: 0.7070 - val_loss: 1.0544 - learning_rate: 1.0000e-04\n",
      "Epoch 7/30\n",
      "\u001b[1m171/171\u001b[0m \u001b[32m━━━━━━━━━━━━━━━━━━━━\u001b[0m\u001b[37m\u001b[0m \u001b[1m52s\u001b[0m 304ms/step - accuracy: 0.8771 - loss: 0.6095 - val_accuracy: 0.6953 - val_loss: 1.1401 - learning_rate: 1.0000e-04\n",
      "Epoch 8/30\n",
      "\u001b[1m171/171\u001b[0m \u001b[32m━━━━━━━━━━━━━━━━━━━━\u001b[0m\u001b[37m\u001b[0m \u001b[1m52s\u001b[0m 304ms/step - accuracy: 0.8783 - loss: 0.6182 - val_accuracy: 0.7305 - val_loss: 1.0661 - learning_rate: 1.0000e-04\n",
      "Epoch 9/30\n",
      "\u001b[1m171/171\u001b[0m \u001b[32m━━━━━━━━━━━━━━━━━━━━\u001b[0m\u001b[37m\u001b[0m \u001b[1m52s\u001b[0m 305ms/step - accuracy: 0.9066 - loss: 0.5655 - val_accuracy: 0.7402 - val_loss: 1.0318 - learning_rate: 1.0000e-04\n",
      "Epoch 10/30\n",
      "\u001b[1m171/171\u001b[0m \u001b[32m━━━━━━━━━━━━━━━━━━━━\u001b[0m\u001b[37m\u001b[0m \u001b[1m52s\u001b[0m 303ms/step - accuracy: 0.9222 - loss: 0.5128 - val_accuracy: 0.7393 - val_loss: 1.0667 - learning_rate: 1.0000e-04\n",
      "Epoch 11/30\n",
      "\u001b[1m171/171\u001b[0m \u001b[32m━━━━━━━━━━━━━━━━━━━━\u001b[0m\u001b[37m\u001b[0m \u001b[1m52s\u001b[0m 304ms/step - accuracy: 0.9386 - loss: 0.4943 - val_accuracy: 0.7305 - val_loss: 1.1024 - learning_rate: 1.0000e-04\n",
      "Epoch 12/30\n",
      "\u001b[1m171/171\u001b[0m \u001b[32m━━━━━━━━━━━━━━━━━━━━\u001b[0m\u001b[37m\u001b[0m \u001b[1m52s\u001b[0m 304ms/step - accuracy: 0.9467 - loss: 0.4594 - val_accuracy: 0.7393 - val_loss: 1.0847 - learning_rate: 1.0000e-04\n",
      "Epoch 13/30\n",
      "\u001b[1m171/171\u001b[0m \u001b[32m━━━━━━━━━━━━━━━━━━━━\u001b[0m\u001b[37m\u001b[0m \u001b[1m52s\u001b[0m 305ms/step - accuracy: 0.9599 - loss: 0.4331 - val_accuracy: 0.7617 - val_loss: 0.9652 - learning_rate: 5.0000e-05\n",
      "Epoch 14/30\n",
      "\u001b[1m171/171\u001b[0m \u001b[32m━━━━━━━━━━━━━━━━━━━━\u001b[0m\u001b[37m\u001b[0m \u001b[1m52s\u001b[0m 304ms/step - accuracy: 0.9752 - loss: 0.3747 - val_accuracy: 0.7451 - val_loss: 1.0063 - learning_rate: 5.0000e-05\n",
      "Epoch 15/30\n",
      "\u001b[1m171/171\u001b[0m \u001b[32m━━━━━━━━━━━━━━━━━━━━\u001b[0m\u001b[37m\u001b[0m \u001b[1m52s\u001b[0m 304ms/step - accuracy: 0.9832 - loss: 0.3498 - val_accuracy: 0.7393 - val_loss: 1.0223 - learning_rate: 5.0000e-05\n",
      "Epoch 16/30\n",
      "\u001b[1m171/171\u001b[0m \u001b[32m━━━━━━━━━━━━━━━━━━━━\u001b[0m\u001b[37m\u001b[0m \u001b[1m52s\u001b[0m 304ms/step - accuracy: 0.9868 - loss: 0.3275 - val_accuracy: 0.7617 - val_loss: 0.9960 - learning_rate: 5.0000e-05\n",
      "Epoch 17/30\n",
      "\u001b[1m171/171\u001b[0m \u001b[32m━━━━━━━━━━━━━━━━━━━━\u001b[0m\u001b[37m\u001b[0m \u001b[1m52s\u001b[0m 304ms/step - accuracy: 0.9893 - loss: 0.3123 - val_accuracy: 0.7656 - val_loss: 0.9675 - learning_rate: 2.5000e-05\n",
      "Epoch 18/30\n",
      "\u001b[1m171/171\u001b[0m \u001b[32m━━━━━━━━━━━━━━━━━━━━\u001b[0m\u001b[37m\u001b[0m \u001b[1m52s\u001b[0m 305ms/step - accuracy: 0.9939 - loss: 0.3041 - val_accuracy: 0.7646 - val_loss: 0.9617 - learning_rate: 2.5000e-05\n",
      "Epoch 19/30\n",
      "\u001b[1m171/171\u001b[0m \u001b[32m━━━━━━━━━━━━━━━━━━━━\u001b[0m\u001b[37m\u001b[0m \u001b[1m52s\u001b[0m 304ms/step - accuracy: 0.9930 - loss: 0.2976 - val_accuracy: 0.7646 - val_loss: 0.9692 - learning_rate: 2.5000e-05\n",
      "Epoch 20/30\n",
      "\u001b[1m171/171\u001b[0m \u001b[32m━━━━━━━━━━━━━━━━━━━━\u001b[0m\u001b[37m\u001b[0m \u001b[1m52s\u001b[0m 305ms/step - accuracy: 0.9949 - loss: 0.2865 - val_accuracy: 0.7598 - val_loss: 0.9775 - learning_rate: 2.5000e-05\n",
      "Epoch 21/30\n",
      "\u001b[1m171/171\u001b[0m \u001b[32m━━━━━━━━━━━━━━━━━━━━\u001b[0m\u001b[37m\u001b[0m \u001b[1m52s\u001b[0m 304ms/step - accuracy: 0.9981 - loss: 0.2750 - val_accuracy: 0.7607 - val_loss: 0.9644 - learning_rate: 2.5000e-05\n",
      "Epoch 22/30\n",
      "\u001b[1m171/171\u001b[0m \u001b[32m━━━━━━━━━━━━━━━━━━━━\u001b[0m\u001b[37m\u001b[0m \u001b[1m52s\u001b[0m 306ms/step - accuracy: 0.9955 - loss: 0.2708 - val_accuracy: 0.7646 - val_loss: 0.9515 - learning_rate: 1.2500e-05\n",
      "Epoch 23/30\n",
      "\u001b[1m171/171\u001b[0m \u001b[32m━━━━━━━━━━━━━━━━━━━━\u001b[0m\u001b[37m\u001b[0m \u001b[1m52s\u001b[0m 305ms/step - accuracy: 0.9963 - loss: 0.2660 - val_accuracy: 0.7559 - val_loss: 0.9501 - learning_rate: 1.2500e-05\n",
      "Epoch 24/30\n",
      "\u001b[1m171/171\u001b[0m \u001b[32m━━━━━━━━━━━━━━━━━━━━\u001b[0m\u001b[37m\u001b[0m \u001b[1m52s\u001b[0m 304ms/step - accuracy: 0.9956 - loss: 0.2646 - val_accuracy: 0.7646 - val_loss: 0.9568 - learning_rate: 1.2500e-05\n",
      "Epoch 25/30\n",
      "\u001b[1m171/171\u001b[0m \u001b[32m━━━━━━━━━━━━━━━━━━━━\u001b[0m\u001b[37m\u001b[0m \u001b[1m52s\u001b[0m 304ms/step - accuracy: 0.9976 - loss: 0.2569 - val_accuracy: 0.7588 - val_loss: 0.9605 - learning_rate: 1.2500e-05\n",
      "Epoch 26/30\n",
      "\u001b[1m171/171\u001b[0m \u001b[32m━━━━━━━━━━━━━━━━━━━━\u001b[0m\u001b[37m\u001b[0m \u001b[1m52s\u001b[0m 304ms/step - accuracy: 0.9965 - loss: 0.2581 - val_accuracy: 0.7598 - val_loss: 0.9465 - learning_rate: 1.2500e-05\n",
      "Epoch 27/30\n",
      "\u001b[1m171/171\u001b[0m \u001b[32m━━━━━━━━━━━━━━━━━━━━\u001b[0m\u001b[37m\u001b[0m \u001b[1m52s\u001b[0m 304ms/step - accuracy: 0.9964 - loss: 0.2539 - val_accuracy: 0.7607 - val_loss: 0.9555 - learning_rate: 1.2500e-05\n",
      "Epoch 28/30\n",
      "\u001b[1m171/171\u001b[0m \u001b[32m━━━━━━━━━━━━━━━━━━━━\u001b[0m\u001b[37m\u001b[0m \u001b[1m52s\u001b[0m 304ms/step - accuracy: 0.9957 - loss: 0.2516 - val_accuracy: 0.7578 - val_loss: 0.9463 - learning_rate: 1.2500e-05\n",
      "Epoch 29/30\n",
      "\u001b[1m171/171\u001b[0m \u001b[32m━━━━━━━━━━━━━━━━━━━━\u001b[0m\u001b[37m\u001b[0m \u001b[1m52s\u001b[0m 305ms/step - accuracy: 0.9980 - loss: 0.2484 - val_accuracy: 0.7578 - val_loss: 0.9442 - learning_rate: 1.2500e-05\n",
      "Epoch 30/30\n",
      "\u001b[1m171/171\u001b[0m \u001b[32m━━━━━━━━━━━━━━━━━━━━\u001b[0m\u001b[37m\u001b[0m \u001b[1m52s\u001b[0m 304ms/step - accuracy: 0.9980 - loss: 0.2445 - val_accuracy: 0.7578 - val_loss: 0.9494 - learning_rate: 1.2500e-05\n",
      "\n",
      "Evaluating VGG19+LSTM model on test set...\n",
      "Total 1280 videos and 1280 classes\n",
      "test_gen batch videos shape: (24, 5, 128, 128, 3)\n",
      "test_gen batch labels shape: (24, 16)\n",
      "\u001b[1m54/54\u001b[0m \u001b[32m━━━━━━━━━━━━━━━━━━━━\u001b[0m\u001b[37m\u001b[0m \u001b[1m11s\u001b[0m 205ms/step - accuracy: 0.7491 - loss: 0.9521\n",
      "VGG19+LSTM Test Loss: 0.9574\n",
      "VGG19+LSTM Test Accuracy: 75.23%\n"
     ]
    }
   ],
   "source": [
    "\n",
    "# Unfreeze some layers for fine-tuning\n",
    "base_model.trainable = True\n",
    "# Freeze all layers except the last 8 layers (consistent with previous VGG19 code)\n",
    "for layer in base_model.layers[:-8]:\n",
    "    layer.trainable = False\n",
    "\n",
    "# Recompile the model with a lower learning rate for fine-tuning\n",
    "model.compile(\n",
    "    loss='categorical_crossentropy',\n",
    "    optimizer=tf.keras.optimizers.Adam(learning_rate=0.0001),  # Lower learning rate for fine-tuning\n",
    "    metrics=['accuracy']\n",
    ")\n",
    "\n",
    "# Fine-tune the model\n",
    "print(f\"\\nFine-tuning started for VGG19+LSTM model with {len(train_gen.videos)} videos of {NO_OF_CLASSES} classes with {len(val_gen.videos)} videos for validation...\")\n",
    "try:\n",
    "    fine_tune_model_history = model.fit(\n",
    "        train_gen.as_dataset(),\n",
    "        validation_data=val_gen.as_dataset(),\n",
    "        epochs=EPOCHS,\n",
    "        class_weight=class_weights,\n",
    "        callbacks=[early_stopping_callback, lr_scheduler]\n",
    "    )\n",
    "except Exception as e:\n",
    "    print(f\"Error during fine-tuning: {str(e)}\")\n",
    "    import traceback\n",
    "    traceback.print_exc()\n",
    "\n",
    "# Evaluate the model on the test set\n",
    "print(\"\\nEvaluating VGG19+LSTM model on test set...\")\n",
    "test_gen = VideoDataGenerator(\n",
    "    videos=features_test,\n",
    "    labels=labels_test,\n",
    "    batch_size=BATCH_SIZE\n",
    ")\n",
    "try:\n",
    "    videos, labels = test_gen[0]\n",
    "    print(f\"test_gen batch videos shape: {videos.shape}\")\n",
    "    print(f\"test_gen batch labels shape: {labels.shape}\")\n",
    "    loss, accuracy = model.evaluate(test_gen.as_dataset())\n",
    "    print(f'VGG19+LSTM Test Loss: {loss:.4f}')\n",
    "    print(f'VGG19+LSTM Test Accuracy: {accuracy * 100:.2f}%')\n",
    "except Exception as e:\n",
    "    print(f\"Error during model evaluation: {str(e)}\")\n",
    "    import traceback\n",
    "    traceback.print_exc()\n"
   ]
  },
  {
   "cell_type": "code",
   "execution_count": 43,
   "id": "665fe6f1",
   "metadata": {
    "execution": {
     "iopub.execute_input": "2025-07-12T17:21:38.325691Z",
     "iopub.status.busy": "2025-07-12T17:21:38.325353Z",
     "iopub.status.idle": "2025-07-12T17:22:05.369225Z",
     "shell.execute_reply": "2025-07-12T17:22:05.368329Z"
    },
    "papermill": {
     "duration": 27.511838,
     "end_time": "2025-07-12T17:22:05.370634",
     "exception": false,
     "start_time": "2025-07-12T17:21:37.858796",
     "status": "completed"
    },
    "tags": []
   },
   "outputs": [
    {
     "data": {
      "image/png": "[encoded data removed]",
      "text/plain": [
       "<Figure size 1200x500 with 2 Axes>"
      ]
     },
     "metadata": {},
     "output_type": "display_data"
    },
    {
     "name": "stdout",
     "output_type": "stream",
     "text": [
      "\u001b[1m54/54\u001b[0m \u001b[32m━━━━━━━━━━━━━━━━━━━━\u001b[0m\u001b[37m\u001b[0m \u001b[1m25s\u001b[0m 324ms/step\n",
      "True classes shape: (1280,)\n",
      "Predicted classes shape: (1280,)\n",
      "\n",
      "VGG19+LSTM Classification Report:\n",
      "                                 precision    recall  f1-score   support\n",
      "\n",
      "                          write       0.51      0.55      0.53        82\n",
      "                      sit still       0.49      0.59      0.54        76\n",
      "                       sit down       0.95      0.98      0.96        84\n",
      "move hands in front of the body       0.79      0.89      0.84        80\n",
      "               raise one leg up       0.99      0.96      0.97        78\n",
      "            drink from a bottle       0.44      0.35      0.39        79\n",
      "                       stand up       0.96      0.95      0.96        83\n",
      "                           read       0.43      0.40      0.41        81\n",
      "                    throw paper       0.51      0.52      0.52        81\n",
      "                           walk       0.99      1.00      0.99        74\n",
      "               drink from a mug       0.48      0.50      0.49        90\n",
      "                  fall from bed       0.99      1.00      0.99        78\n",
      "                          faint       1.00      1.00      1.00        82\n",
      "              raise one hand up       0.96      0.99      0.97        69\n",
      "                       cheer up       0.82      0.75      0.78        77\n",
      "   move hands close to the body       0.81      0.69      0.74        86\n",
      "\n",
      "                       accuracy                           0.75      1280\n",
      "                      macro avg       0.76      0.76      0.76      1280\n",
      "                   weighted avg       0.75      0.75      0.75      1280\n",
      "\n"
     ]
    },
    {
     "name": "stderr",
     "output_type": "stream",
     "text": [
      "/usr/local/lib/python3.11/dist-packages/keras/src/trainers/epoch_iterator.py:151: UserWarning: Your input ran out of data; interrupting training. Make sure that your dataset or generator can generate at least `steps_per_epoch * epochs` batches. You may need to use the `.repeat()` function when building your dataset.\n",
      "  self._interrupted_warning()\n"
     ]
    },
    {
     "data": {
      "image/png": "[encoded data removed]",
      "text/plain": [
       "<Figure size 800x600 with 2 Axes>"
      ]
     },
     "metadata": {},
     "output_type": "display_data"
    }
   ],
   "source": [
    "\n",
    "# Plot training history (combine initial and fine-tuning)\n",
    "import matplotlib.pyplot as plt\n",
    "\n",
    "try:\n",
    "    # Combine histories\n",
    "    history_accuracy = initial_model_history.history['accuracy'] + fine_tune_model_history.history['accuracy']\n",
    "    history_val_accuracy = initial_model_history.history['val_accuracy'] + fine_tune_model_history.history['val_accuracy']\n",
    "    history_loss = initial_model_history.history['loss'] + fine_tune_model_history.history['loss']\n",
    "    history_val_loss = initial_model_history.history['val_loss'] + fine_tune_model_history.history['val_loss']\n",
    "\n",
    "    plt.figure(figsize=(12, 5))\n",
    "\n",
    "    # Accuracy\n",
    "    plt.subplot(1, 2, 1)\n",
    "    plt.plot(history_accuracy, label='Train Accuracy')\n",
    "    plt.plot(history_val_accuracy, label='Validation Accuracy')\n",
    "    plt.axvline(x=len(initial_model_history.history['accuracy']), color='r', linestyle='--', label='Start Fine-Tuning')\n",
    "    plt.title('VGG19+LSTM Model Accuracy')\n",
    "    plt.xlabel('Epoch')\n",
    "    plt.ylabel('Accuracy')\n",
    "    plt.legend()\n",
    "\n",
    "    # Loss\n",
    "    plt.subplot(1, 2, 2)\n",
    "    plt.plot(history_loss, label='Train Loss')\n",
    "    plt.plot(history_val_loss, label='Validation Loss')\n",
    "    plt.axvline(x=len(initial_model_history.history['loss']), color='r', linestyle='--', label='Start Fine-Tuning')\n",
    "    plt.title('VGG19+LSTM Model Loss')\n",
    "    plt.xlabel('Epoch')\n",
    "    plt.ylabel('Loss')\n",
    "    plt.legend()\n",
    "\n",
    "    plt.tight_layout()\n",
    "    plt.show()\n",
    "except Exception as e:\n",
    "    print(f\"Error plotting training history: {str(e)}\")\n",
    "\n",
    "# Generate confusion matrix and classification report\n",
    "from sklearn.metrics import classification_report, confusion_matrix\n",
    "import seaborn as sns\n",
    "\n",
    "# Get predictions\n",
    "try:\n",
    "    predictions = model.predict(test_gen.as_dataset())\n",
    "    predicted_classes = np.argmax(predictions, axis=1)\n",
    "    true_classes = np.argmax(labels_test, axis=1)\n",
    "\n",
    "    # Verify shapes\n",
    "    print(f\"True classes shape: {true_classes.shape}\")\n",
    "    print(f\"Predicted classes shape: {predicted_classes.shape}\")\n",
    "    assert len(true_classes) == len(predicted_classes), \"Sample counts do not match!\"\n",
    "\n",
    "    # Generate classification report\n",
    "    print(\"\\nVGG19+LSTM Classification Report:\")\n",
    "    print(classification_report(true_classes, predicted_classes, target_names=CLASSES_LIST))\n",
    "\n",
    "    # Plot confusion matrix\n",
    "    cm = confusion_matrix(true_classes, predicted_classes)\n",
    "    plt.figure(figsize=(8, 6))\n",
    "    sns.heatmap(cm, annot=True, fmt='d', cmap='Blues', xticklabels=CLASSES_LIST, yticklabels=CLASSES_LIST)\n",
    "    plt.xlabel('Predicted')\n",
    "    plt.ylabel('True')\n",
    "    plt.title('VGG19+LSTM Confusion Matrix')\n",
    "    plt.show()\n",
    "except Exception as e:\n",
    "    print(f\"Error during prediction or plotting: {str(e)}\")\n",
    "    import traceback\n",
    "    traceback.print_exc()"
   ]
  },
  {
   "cell_type": "code",
   "execution_count": 44,
   "id": "4e2315d2",
   "metadata": {
    "execution": {
     "iopub.execute_input": "2025-07-12T17:22:06.433113Z",
     "iopub.status.busy": "2025-07-12T17:22:06.432604Z",
     "iopub.status.idle": "2025-07-12T17:22:21.007028Z",
     "shell.execute_reply": "2025-07-12T17:22:21.006426Z"
    },
    "papermill": {
     "duration": 15.051688,
     "end_time": "2025-07-12T17:22:21.008387",
     "exception": false,
     "start_time": "2025-07-12T17:22:05.956699",
     "status": "completed"
    },
    "tags": []
   },
   "outputs": [
    {
     "name": "stdout",
     "output_type": "stream",
     "text": [
      "\u001b[1m40/40\u001b[0m \u001b[32m━━━━━━━━━━━━━━━━━━━━\u001b[0m\u001b[37m\u001b[0m \u001b[1m11s\u001b[0m 268ms/step - accuracy: 0.7507 - loss: 0.9490\n"
     ]
    }
   ],
   "source": [
    "# previous code\n",
    "model_evaluation_history = model.evaluate(features_test, labels_test)"
   ]
  }
 ],
 "metadata": {
  "kaggle": {
   "accelerator": "nvidiaTeslaT4",
   "dataSources": [
    {
     "datasetId": 1357563,
     "sourceId": 2256095,
     "sourceType": "datasetVersion"
    },
    {
     "datasetId": 7763484,
     "sourceId": 12338519,
     "sourceType": "datasetVersion"
    },
    {
     "datasetId": 7801555,
     "sourceId": 12373067,
     "sourceType": "datasetVersion"
    },
    {
     "datasetId": 7801884,
     "sourceId": 12373562,
     "sourceType": "datasetVersion"
    }
   ],
   "dockerImageVersionId": 31090,
   "isGpuEnabled": true,
   "isInternetEnabled": true,
   "language": "python",
   "sourceType": "notebook"
  },
  "kernelspec": {
   "display_name": "Python 3",
   "language": "python",
   "name": "python3"
  },
  "language_info": {
   "codemirror_mode": {
    "name": "ipython",
    "version": 3
   },
   "file_extension": ".py",
   "mimetype": "text/x-python",
   "name": "python",
   "nbconvert_exporter": "python",
   "pygments_lexer": "ipython3",
   "version": "3.11.13"
  },
  "papermill": {
   "default_parameters": {},
   "duration": 3807.331562,
   "end_time": "2025-07-12T17:22:24.886223",
   "environment_variables": {},
   "exception": null,
   "input_path": "__notebook__.ipynb",
   "output_path": "__notebook__.ipynb",
   "parameters": {},
   "start_time": "2025-07-12T16:18:57.554661",
   "version": "2.6.0"
  }
 },
 "nbformat": 4,
 "nbformat_minor": 5
}
