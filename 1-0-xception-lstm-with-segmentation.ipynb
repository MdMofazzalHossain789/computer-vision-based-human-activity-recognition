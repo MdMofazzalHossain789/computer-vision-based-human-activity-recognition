{
 "cells": [
  {
   "cell_type": "markdown",
   "id": "d3c1cc95",
   "metadata": {
    "papermill": {
     "duration": 0.012019,
     "end_time": "2025-07-05T17:27:53.944944",
     "exception": false,
     "start_time": "2025-07-05T17:27:53.932925",
     "status": "completed"
    },
    "tags": []
   },
   "source": [
    "# Initialization\n",
    "## Import Libraries"
   ]
  },
  {
   "cell_type": "code",
   "execution_count": 1,
   "id": "888df3ee",
   "metadata": {
    "execution": {
     "iopub.execute_input": "2025-07-05T17:27:53.968577Z",
     "iopub.status.busy": "2025-07-05T17:27:53.967820Z",
     "iopub.status.idle": "2025-07-05T17:28:12.684446Z",
     "shell.execute_reply": "2025-07-05T17:28:12.683553Z"
    },
    "papermill": {
     "duration": 18.729965,
     "end_time": "2025-07-05T17:28:12.685746",
     "exception": false,
     "start_time": "2025-07-05T17:27:53.955781",
     "status": "completed"
    },
    "tags": []
   },
   "outputs": [
    {
     "name": "stdout",
     "output_type": "stream",
     "text": [
      "Collecting mediapipe\r\n",
      "  Downloading mediapipe-0.10.21-cp311-cp311-manylinux_2_28_x86_64.whl.metadata (9.7 kB)\r\n",
      "Requirement already satisfied: absl-py in /usr/local/lib/python3.11/dist-packages (from mediapipe) (1.4.0)\r\n",
      "Requirement already satisfied: attrs>=19.1.0 in /usr/local/lib/python3.11/dist-packages (from mediapipe) (25.3.0)\r\n",
      "Requirement already satisfied: flatbuffers>=2.0 in /usr/local/lib/python3.11/dist-packages (from mediapipe) (25.2.10)\r\n",
      "Requirement already satisfied: jax in /usr/local/lib/python3.11/dist-packages (from mediapipe) (0.5.2)\r\n",
      "Requirement already satisfied: jaxlib in /usr/local/lib/python3.11/dist-packages (from mediapipe) (0.5.1)\r\n",
      "Requirement already satisfied: matplotlib in /usr/local/lib/python3.11/dist-packages (from mediapipe) (3.7.2)\r\n",
      "Requirement already satisfied: numpy<2 in /usr/local/lib/python3.11/dist-packages (from mediapipe) (1.26.4)\r\n",
      "Requirement already satisfied: opencv-contrib-python in /usr/local/lib/python3.11/dist-packages (from mediapipe) (4.11.0.86)\r\n",
      "Collecting protobuf<5,>=4.25.3 (from mediapipe)\r\n",
      "  Downloading protobuf-4.25.8-cp37-abi3-manylinux2014_x86_64.whl.metadata (541 bytes)\r\n",
      "Collecting sounddevice>=0.4.4 (from mediapipe)\r\n",
      "  Downloading sounddevice-0.5.2-py3-none-any.whl.metadata (1.6 kB)\r\n",
      "Requirement already satisfied: sentencepiece in /usr/local/lib/python3.11/dist-packages (from mediapipe) (0.2.0)\r\n",
      "Requirement already satisfied: mkl_fft in /usr/local/lib/python3.11/dist-packages (from numpy<2->mediapipe) (1.3.8)\r\n",
      "Requirement already satisfied: mkl_random in /usr/local/lib/python3.11/dist-packages (from numpy<2->mediapipe) (1.2.4)\r\n",
      "Requirement already satisfied: mkl_umath in /usr/local/lib/python3.11/dist-packages (from numpy<2->mediapipe) (0.1.1)\r\n",
      "Requirement already satisfied: mkl in /usr/local/lib/python3.11/dist-packages (from numpy<2->mediapipe) (2025.1.0)\r\n",
      "Requirement already satisfied: tbb4py in /usr/local/lib/python3.11/dist-packages (from numpy<2->mediapipe) (2022.1.0)\r\n",
      "Requirement already satisfied: mkl-service in /usr/local/lib/python3.11/dist-packages (from numpy<2->mediapipe) (2.4.1)\r\n",
      "Requirement already satisfied: CFFI>=1.0 in /usr/local/lib/python3.11/dist-packages (from sounddevice>=0.4.4->mediapipe) (1.17.1)\r\n",
      "Requirement already satisfied: ml_dtypes>=0.4.0 in /usr/local/lib/python3.11/dist-packages (from jax->mediapipe) (0.4.1)\r\n",
      "Requirement already satisfied: opt_einsum in /usr/local/lib/python3.11/dist-packages (from jax->mediapipe) (3.4.0)\r\n",
      "Requirement already satisfied: scipy>=1.11.1 in /usr/local/lib/python3.11/dist-packages (from jax->mediapipe) (1.15.2)\r\n",
      "Requirement already satisfied: contourpy>=1.0.1 in /usr/local/lib/python3.11/dist-packages (from matplotlib->mediapipe) (1.3.1)\r\n",
      "Requirement already satisfied: cycler>=0.10 in /usr/local/lib/python3.11/dist-packages (from matplotlib->mediapipe) (0.12.1)\r\n",
      "Requirement already satisfied: fonttools>=4.22.0 in /usr/local/lib/python3.11/dist-packages (from matplotlib->mediapipe) (4.57.0)\r\n",
      "Requirement already satisfied: kiwisolver>=1.0.1 in /usr/local/lib/python3.11/dist-packages (from matplotlib->mediapipe) (1.4.8)\r\n",
      "Requirement already satisfied: packaging>=20.0 in /usr/local/lib/python3.11/dist-packages (from matplotlib->mediapipe) (25.0)\r\n",
      "Requirement already satisfied: pillow>=6.2.0 in /usr/local/lib/python3.11/dist-packages (from matplotlib->mediapipe) (11.1.0)\r\n",
      "Requirement already satisfied: pyparsing<3.1,>=2.3.1 in /usr/local/lib/python3.11/dist-packages (from matplotlib->mediapipe) (3.0.9)\r\n",
      "Requirement already satisfied: python-dateutil>=2.7 in /usr/local/lib/python3.11/dist-packages (from matplotlib->mediapipe) (2.9.0.post0)\r\n",
      "Requirement already satisfied: pycparser in /usr/local/lib/python3.11/dist-packages (from CFFI>=1.0->sounddevice>=0.4.4->mediapipe) (2.22)\r\n",
      "Requirement already satisfied: six>=1.5 in /usr/local/lib/python3.11/dist-packages (from python-dateutil>=2.7->matplotlib->mediapipe) (1.17.0)\r\n",
      "Requirement already satisfied: intel-openmp<2026,>=2024 in /usr/local/lib/python3.11/dist-packages (from mkl->numpy<2->mediapipe) (2024.2.0)\r\n",
      "Requirement already satisfied: tbb==2022.* in /usr/local/lib/python3.11/dist-packages (from mkl->numpy<2->mediapipe) (2022.1.0)\r\n",
      "Requirement already satisfied: tcmlib==1.* in /usr/local/lib/python3.11/dist-packages (from tbb==2022.*->mkl->numpy<2->mediapipe) (1.3.0)\r\n",
      "Requirement already satisfied: intel-cmplr-lib-rt in /usr/local/lib/python3.11/dist-packages (from mkl_umath->numpy<2->mediapipe) (2024.2.0)\r\n",
      "Requirement already satisfied: intel-cmplr-lib-ur==2024.2.0 in /usr/local/lib/python3.11/dist-packages (from intel-openmp<2026,>=2024->mkl->numpy<2->mediapipe) (2024.2.0)\r\n",
      "Downloading mediapipe-0.10.21-cp311-cp311-manylinux_2_28_x86_64.whl (35.6 MB)\r\n",
      "\u001b[2K   \u001b[90m━━━━━━━━━━━━━━━━━━━━━━━━━━━━━━━━━━━━━━━━\u001b[0m \u001b[32m35.6/35.6 MB\u001b[0m \u001b[31m50.2 MB/s\u001b[0m eta \u001b[36m0:00:00\u001b[0m\r\n",
      "\u001b[?25hDownloading protobuf-4.25.8-cp37-abi3-manylinux2014_x86_64.whl (294 kB)\r\n",
      "\u001b[2K   \u001b[90m━━━━━━━━━━━━━━━━━━━━━━━━━━━━━━━━━━━━━━━━\u001b[0m \u001b[32m294.9/294.9 kB\u001b[0m \u001b[31m17.5 MB/s\u001b[0m eta \u001b[36m0:00:00\u001b[0m\r\n",
      "\u001b[?25hDownloading sounddevice-0.5.2-py3-none-any.whl (32 kB)\r\n",
      "Installing collected packages: protobuf, sounddevice, mediapipe\r\n",
      "  Attempting uninstall: protobuf\r\n",
      "    Found existing installation: protobuf 3.20.3\r\n",
      "    Uninstalling protobuf-3.20.3:\r\n",
      "      Successfully uninstalled protobuf-3.20.3\r\n",
      "\u001b[31mERROR: pip's dependency resolver does not currently take into account all the packages that are installed. This behaviour is the source of the following dependency conflicts.\r\n",
      "google-api-core 1.34.1 requires protobuf!=3.20.0,!=3.20.1,!=4.21.0,!=4.21.1,!=4.21.2,!=4.21.3,!=4.21.4,!=4.21.5,<4.0.0dev,>=3.19.5, but you have protobuf 4.25.8 which is incompatible.\r\n",
      "bigframes 1.42.0 requires rich<14,>=12.4.4, but you have rich 14.0.0 which is incompatible.\r\n",
      "google-spark-connect 0.5.2 requires google-api-core>=2.19.1, but you have google-api-core 1.34.1 which is incompatible.\r\n",
      "google-cloud-bigtable 2.30.0 requires google-api-core[grpc]<3.0.0,>=2.16.0, but you have google-api-core 1.34.1 which is incompatible.\r\n",
      "google-cloud-storage 2.19.0 requires google-api-core<3.0.0dev,>=2.15.0, but you have google-api-core 1.34.1 which is incompatible.\r\n",
      "pandas-gbq 0.28.0 requires google-api-core<3.0.0dev,>=2.10.2, but you have google-api-core 1.34.1 which is incompatible.\u001b[0m\u001b[31m\r\n",
      "\u001b[0mSuccessfully installed mediapipe-0.10.21 protobuf-4.25.8 sounddevice-0.5.2\r\n",
      "Note: you may need to restart the kernel to use updated packages.\n"
     ]
    }
   ],
   "source": [
    "pip install mediapipe"
   ]
  },
  {
   "cell_type": "code",
   "execution_count": 2,
   "id": "95250eb8",
   "metadata": {
    "_cell_guid": "b1076dfc-b9ad-4769-8c92-a6c4dae69d19",
    "_uuid": "8f2839f25d086af736a60e9eeb907d3b93b6e0e5",
    "execution": {
     "iopub.execute_input": "2025-07-05T17:28:12.710984Z",
     "iopub.status.busy": "2025-07-05T17:28:12.710441Z",
     "iopub.status.idle": "2025-07-05T17:28:27.698588Z",
     "shell.execute_reply": "2025-07-05T17:28:27.697584Z"
    },
    "papermill": {
     "duration": 15.002331,
     "end_time": "2025-07-05T17:28:27.700431",
     "exception": false,
     "start_time": "2025-07-05T17:28:12.698100",
     "status": "completed"
    },
    "tags": []
   },
   "outputs": [
    {
     "name": "stderr",
     "output_type": "stream",
     "text": [
      "2025-07-05 17:28:14.230823: E external/local_xla/xla/stream_executor/cuda/cuda_fft.cc:477] Unable to register cuFFT factory: Attempting to register factory for plugin cuFFT when one has already been registered\n",
      "WARNING: All log messages before absl::InitializeLog() is called are written to STDERR\n",
      "E0000 00:00:1751736494.432794      19 cuda_dnn.cc:8310] Unable to register cuDNN factory: Attempting to register factory for plugin cuDNN when one has already been registered\n",
      "E0000 00:00:1751736494.490100      19 cuda_blas.cc:1418] Unable to register cuBLAS factory: Attempting to register factory for plugin cuBLAS when one has already been registered\n"
     ]
    }
   ],
   "source": [
    "# install librarires\n",
    "import os\n",
    "import tensorflow as tf\n",
    "import numpy as np\n",
    "import random"
   ]
  },
  {
   "cell_type": "markdown",
   "id": "bc876d55",
   "metadata": {
    "papermill": {
     "duration": 0.011573,
     "end_time": "2025-07-05T17:28:27.725360",
     "exception": false,
     "start_time": "2025-07-05T17:28:27.713787",
     "status": "completed"
    },
    "tags": []
   },
   "source": [
    "## ℹ️ Set Global Constants"
   ]
  },
  {
   "cell_type": "code",
   "execution_count": 3,
   "id": "3fba967b",
   "metadata": {
    "execution": {
     "iopub.execute_input": "2025-07-05T17:28:27.751157Z",
     "iopub.status.busy": "2025-07-05T17:28:27.750710Z",
     "iopub.status.idle": "2025-07-05T17:28:27.763163Z",
     "shell.execute_reply": "2025-07-05T17:28:27.762528Z"
    },
    "papermill": {
     "duration": 0.025382,
     "end_time": "2025-07-05T17:28:27.764178",
     "exception": false,
     "start_time": "2025-07-05T17:28:27.738796",
     "status": "completed"
    },
    "tags": []
   },
   "outputs": [
    {
     "name": "stdout",
     "output_type": "stream",
     "text": [
      "Msrdailyactivity3D Rgb Videos Only\n",
      "There are total 16 classes, selected 16 classes\n",
      "Setting 20/class to train the model.\n",
      "Image size 128x128 with 5 sequence length\n",
      "Dropout rate: 0.5\n",
      "Train-Test split ratio 80/20\n",
      "Validation data from Train set 20.0%\n"
     ]
    }
   ],
   "source": [
    "# global variables\n",
    "# set dataset directories\n",
    "\n",
    "\n",
    "DATASET_DIR = \"/kaggle/input/msrdailyactivity3d-rgb-videos-only\"\n",
    "DATASET_NAME = DATASET_DIR.split(\"/\")[-1].replace(\"-\", \" \").title()\n",
    "\n",
    "print(DATASET_NAME)\n",
    "\n",
    "ALL_CLASS_NAMES = os.listdir(DATASET_DIR)\n",
    "\n",
    "# Global constant variables -> \n",
    "NO_OF_CLASSES = 16\n",
    "CLASSES_LIST = ALL_CLASS_NAMES[:NO_OF_CLASSES]\n",
    "\n",
    "# Model Configuration\n",
    "IMAGE_HEIGHT, IMAGE_WIDTH = 128, 128\n",
    "SEQUENCE_LENGTH = 5\n",
    "\n",
    "# set drop out rate\n",
    "DROPOUT_RATE = 0.5\n",
    "\n",
    "# set datas\n",
    "MAX_VIDEO_PER_CLASS = 20\n",
    "\n",
    "# split dataset\n",
    "TEST_SIZE = 0.20\n",
    "\n",
    "# model fit parameters\n",
    "EPOCHS = 30\n",
    "BATCH_SIZE = 16\n",
    "VALIDATION_SPLIT = 0.20\n",
    "\n",
    "# augmentation values\n",
    "NOISE_FACTOR = 0.02\n",
    "SHEAR_X= 1\n",
    "SHEAR_Y= 1\n",
    "\n",
    "# give a name of the model to save\n",
    "MODEL_NAME = \"Xception\"\n",
    "\n",
    "print(f\"There are total {len(ALL_CLASS_NAMES)} classes, selected {NO_OF_CLASSES} classes\")\n",
    "print(f\"Setting {MAX_VIDEO_PER_CLASS}/class to train the model.\")\n",
    "print(f\"Image size {IMAGE_HEIGHT}x{IMAGE_WIDTH} with {SEQUENCE_LENGTH} sequence length\")\n",
    "print(f\"Dropout rate: {DROPOUT_RATE}\")\n",
    "print(f\"Train-Test split ratio {int((1-TEST_SIZE)*100)}/{int(TEST_SIZE*100)}\")\n",
    "print(f\"Validation data from Train set {VALIDATION_SPLIT*100}%\")"
   ]
  },
  {
   "cell_type": "markdown",
   "id": "0d9b98a2",
   "metadata": {
    "papermill": {
     "duration": 0.011097,
     "end_time": "2025-07-05T17:28:27.786762",
     "exception": false,
     "start_time": "2025-07-05T17:28:27.775665",
     "status": "completed"
    },
    "tags": []
   },
   "source": [
    "## Set `Seed` Values"
   ]
  },
  {
   "cell_type": "code",
   "execution_count": 4,
   "id": "8af4ca66",
   "metadata": {
    "execution": {
     "iopub.execute_input": "2025-07-05T17:28:27.810018Z",
     "iopub.status.busy": "2025-07-05T17:28:27.809478Z",
     "iopub.status.idle": "2025-07-05T17:28:27.813262Z",
     "shell.execute_reply": "2025-07-05T17:28:27.812597Z"
    },
    "papermill": {
     "duration": 0.016575,
     "end_time": "2025-07-05T17:28:27.814421",
     "exception": false,
     "start_time": "2025-07-05T17:28:27.797846",
     "status": "completed"
    },
    "tags": []
   },
   "outputs": [],
   "source": [
    "# set seeed to get similar values\n",
    "seed_constant = 27\n",
    "np.random.seed(seed_constant)\n",
    "random.seed(seed_constant)\n",
    "tf.random.set_seed(seed_constant)"
   ]
  },
  {
   "cell_type": "markdown",
   "id": "d4448d94",
   "metadata": {
    "papermill": {
     "duration": 0.011062,
     "end_time": "2025-07-05T17:28:27.837039",
     "exception": false,
     "start_time": "2025-07-05T17:28:27.825977",
     "status": "completed"
    },
    "tags": []
   },
   "source": [
    "# 📌 Function Definition\n",
    "## Resize and Frame Extraction"
   ]
  },
  {
   "cell_type": "code",
   "execution_count": 5,
   "id": "bf028b50",
   "metadata": {
    "execution": {
     "iopub.execute_input": "2025-07-05T17:28:27.905157Z",
     "iopub.status.busy": "2025-07-05T17:28:27.904873Z",
     "iopub.status.idle": "2025-07-05T17:28:27.913574Z",
     "shell.execute_reply": "2025-07-05T17:28:27.912986Z"
    },
    "papermill": {
     "duration": 0.022169,
     "end_time": "2025-07-05T17:28:27.914623",
     "exception": false,
     "start_time": "2025-07-05T17:28:27.892454",
     "status": "completed"
    },
    "tags": []
   },
   "outputs": [],
   "source": [
    "import cv2\n",
    "from concurrent.futures import ThreadPoolExecutor\n",
    "\n",
    "def resize_and_normalize_frame(frame, image_height, image_width):\n",
    "    try:\n",
    "        resized_frame = cv2.resize(frame, (image_width, image_height), interpolation=cv2.INTER_LINEAR)\n",
    "        normalized_frame = resized_frame / 255.0\n",
    "        return normalized_frame\n",
    "    except Exception as e:\n",
    "        print(f\"Error processing frame: {e}\")\n",
    "        return None\n",
    "\n",
    "def frames_extraction(video_path, \n",
    "                      sequence_length=SEQUENCE_LENGTH, \n",
    "                      image_height=IMAGE_HEIGHT, \n",
    "                      image_width=IMAGE_WIDTH):\n",
    "    # Declare a list to store video frames\n",
    "    frames_list = []\n",
    "\n",
    "    # Check if video file exists\n",
    "    if not os.path.exists(video_path):\n",
    "        print(f\"Error: Video file not found at {video_path}\")\n",
    "        return None\n",
    "\n",
    "    # Read the video file using VideoCapture with optimized settings\n",
    "    video_reader = cv2.VideoCapture(video_path, cv2.CAP_FFMPEG)\n",
    "\n",
    "    # Check if the video was opened successfully\n",
    "    if not video_reader.isOpened():\n",
    "        print(f\"Error: Could not open video file {video_path}\")\n",
    "        video_reader.release()\n",
    "        return None\n",
    "\n",
    "    # Get the total number of frames in the video\n",
    "    video_frames_count = int(video_reader.get(cv2.CAP_PROP_FRAME_COUNT))\n",
    "\n",
    "    # Ensure the video has enough frames\n",
    "    if video_frames_count < sequence_length:\n",
    "        print(f\"Warning: Video {video_path} has only {video_frames_count} frames, less than required {sequence_length}\")\n",
    "        video_reader.release()\n",
    "        return None\n",
    "\n",
    "    # Calculate the interval after which frames will be sampled\n",
    "    skip_frames_window = max(int(video_frames_count / sequence_length), 1)\n",
    "\n",
    "    # Pre-allocate frame indices to extract\n",
    "    frame_indices = [i * skip_frames_window for i in range(sequence_length)]\n",
    "\n",
    "    # Read and process frames in parallel\n",
    "    frames = []\n",
    "    for idx in frame_indices:\n",
    "        video_reader.set(cv2.CAP_PROP_POS_FRAMES, idx)\n",
    "        success, frame = video_reader.read()\n",
    "        if not success or frame is None:\n",
    "            print(f\"Warning: Failed to read frame at index {idx} from {video_path}\")\n",
    "            break\n",
    "        frame = cv2.cvtColor(frame, cv2.COLOR_BGR2RGB)\n",
    "        frames.append(frame)\n",
    "\n",
    "    # Release the VideoCapture object early\n",
    "    video_reader.release()\n",
    "\n",
    "    # Ensure the correct number of frames is read\n",
    "    if len(frames) != sequence_length:\n",
    "        print(f\"Warning: Read {len(frames)} frames instead of {sequence_length} from {video_path}\")\n",
    "        return None\n",
    "\n",
    "    # Process frames in parallel using ThreadPoolExecutor\n",
    "    with ThreadPoolExecutor() as executor:\n",
    "        processed_frames = list(executor.map(\n",
    "            lambda f: resize_and_normalize_frame(f, image_height, image_width), \n",
    "            frames\n",
    "        ))\n",
    "\n",
    "    # Check for any failed frame processing\n",
    "    if any(f is None for f in processed_frames):\n",
    "        print(f\"Warning: Some frames failed to process in {video_path}\")\n",
    "        return None\n",
    "\n",
    "    # Convert to NumPy array\n",
    "    frames_array = np.array(processed_frames, dtype=np.float32)\n",
    "\n",
    "    return frames_array"
   ]
  },
  {
   "cell_type": "code",
   "execution_count": 6,
   "id": "47e4c0d3",
   "metadata": {
    "execution": {
     "iopub.execute_input": "2025-07-05T17:28:27.939508Z",
     "iopub.status.busy": "2025-07-05T17:28:27.939257Z",
     "iopub.status.idle": "2025-07-05T17:28:27.942508Z",
     "shell.execute_reply": "2025-07-05T17:28:27.941831Z"
    },
    "papermill": {
     "duration": 0.017121,
     "end_time": "2025-07-05T17:28:27.943656",
     "exception": false,
     "start_time": "2025-07-05T17:28:27.926535",
     "status": "completed"
    },
    "tags": []
   },
   "outputs": [],
   "source": [
    " # # Iterate through all video files\n",
    " #        for file_name in files_list:\n",
    " #            video_file_path = os.path.join(class_path, file_name)\n",
    "\n",
    " #            # Extract frames using the updated frames_extraction function\n",
    " #            frames = frames_extraction(video_file_path, sequence_length, image_height, image_width)\n",
    "\n",
    " #            # Skip videos where frame extraction failed\n",
    " #            if frames is None:\n",
    " #                print(f\"Skipping video {video_file_path} due to frame extraction failure\")\n",
    " #                continue\n",
    "\n",
    " #            # Append the data to respective lists\n",
    " #            features.append(frames)\n",
    " #            labels.append(class_index)"
   ]
  },
  {
   "cell_type": "markdown",
   "id": "0723ae33",
   "metadata": {
    "papermill": {
     "duration": 0.01101,
     "end_time": "2025-07-05T17:28:27.965966",
     "exception": false,
     "start_time": "2025-07-05T17:28:27.954956",
     "status": "completed"
    },
    "tags": []
   },
   "source": [
    "## Create Dataset"
   ]
  },
  {
   "cell_type": "code",
   "execution_count": 7,
   "id": "b8f9cff2",
   "metadata": {
    "execution": {
     "iopub.execute_input": "2025-07-05T17:28:27.989593Z",
     "iopub.status.busy": "2025-07-05T17:28:27.989385Z",
     "iopub.status.idle": "2025-07-05T17:28:27.996173Z",
     "shell.execute_reply": "2025-07-05T17:28:27.995539Z"
    },
    "papermill": {
     "duration": 0.020071,
     "end_time": "2025-07-05T17:28:27.997178",
     "exception": false,
     "start_time": "2025-07-05T17:28:27.977107",
     "status": "completed"
    },
    "tags": []
   },
   "outputs": [],
   "source": [
    "# RUN create dataset function definition\n",
    "def create_dataset(dataset_dir,\n",
    "                   classes_list, \n",
    "                   sequence_length=SEQUENCE_LENGTH, \n",
    "                   image_height=IMAGE_HEIGHT, \n",
    "                   image_width=IMAGE_WIDTH, \n",
    "                   max_videos_per_class=None,\n",
    "                   augmentations=False\n",
    "                  ):\n",
    "    \n",
    "    # Initialize lists to store features, labels, and video file paths\n",
    "    videos = []\n",
    "    labels = []\n",
    "\n",
    "    # Check if dataset directory exists\n",
    "    if not os.path.exists(dataset_dir):\n",
    "        raise FileNotFoundError(f\"Dataset directory not found: {dataset_dir}\")\n",
    "\n",
    "    # Iterate through all classes in the classes list\n",
    "    for class_index, class_name in enumerate(classes_list):\n",
    "        class_path = os.path.join(dataset_dir, class_name)\n",
    "        \n",
    "        # Check if class directory exists\n",
    "        if not os.path.exists(class_path):\n",
    "            print(f\"Warning: Class directory not found: {class_path}\")\n",
    "            continue\n",
    "\n",
    "        print(f'Class: {class_name}')\n",
    "\n",
    "        # Get the list of video files in the class directory\n",
    "        files_list = os.listdir(class_path)\n",
    "\n",
    "        # Limit the number of videos if specified\n",
    "        if max_videos_per_class is not None:\n",
    "            files_list = files_list[:max_videos_per_class]\n",
    "\n",
    "        # Iterate through all video files\n",
    "        for (index, file_name) in enumerate(files_list):\n",
    "            video_file_path = os.path.join(class_path, file_name)\n",
    "\n",
    "            if index == (len(files_list)-1):\n",
    "                print(f'Extracting frames from file {index+1}: {file_name}', flush=True)\n",
    "            else:\n",
    "                print(f'Extracting frames from file {index+1}: {file_name}', end=\"\\r\", flush=True)\n",
    "            \n",
    "            # Extract frames using the updated frames_extraction function\n",
    "            frames = frames_extraction(video_file_path, \n",
    "                                       sequence_length, \n",
    "                                       image_height, \n",
    "                                       image_width)\n",
    "\n",
    "            # Skip videos where frame extraction failed\n",
    "            if frames is None:\n",
    "                print(f\"Skipping video {video_file_path} due to frame extraction failure\")\n",
    "                continue\n",
    "\n",
    "            # Append the data to respective lists\n",
    "            videos.append(frames)\n",
    "            labels.append(class_index)\n",
    "\n",
    "    # Convert lists to numpy arrays\n",
    "    if not videos:\n",
    "        raise ValueError(\"No valid videos were processed. Check dataset or parameters.\")\n",
    "    videos = np.asarray(videos)\n",
    "    labels = np.array(labels)\n",
    "\n",
    "    print(f\"Dataset created with {len(videos)} videos\")\n",
    "    print(f\"Features shape: {videos.shape}\")\n",
    "    print(f\"Labels shape: {labels.shape}\")\n",
    "\n",
    "    return videos, labels"
   ]
  },
  {
   "cell_type": "markdown",
   "id": "0b2605f8",
   "metadata": {
    "papermill": {
     "duration": 0.010983,
     "end_time": "2025-07-05T17:28:28.019366",
     "exception": false,
     "start_time": "2025-07-05T17:28:28.008383",
     "status": "completed"
    },
    "tags": []
   },
   "source": [
    "## 🪄 Video Data Generator"
   ]
  },
  {
   "cell_type": "code",
   "execution_count": 8,
   "id": "ffd98726",
   "metadata": {
    "execution": {
     "iopub.execute_input": "2025-07-05T17:28:28.042433Z",
     "iopub.status.busy": "2025-07-05T17:28:28.042195Z",
     "iopub.status.idle": "2025-07-05T17:28:28.110027Z",
     "shell.execute_reply": "2025-07-05T17:28:28.109340Z"
    },
    "papermill": {
     "duration": 0.080739,
     "end_time": "2025-07-05T17:28:28.111262",
     "exception": false,
     "start_time": "2025-07-05T17:28:28.030523",
     "status": "completed"
    },
    "tags": []
   },
   "outputs": [],
   "source": [
    "from tensorflow.keras.utils import Sequence, to_categorical\n",
    "import tensorflow as tf\n",
    "import numpy as np\n",
    "import cv2\n",
    "\n",
    "\n",
    "\n",
    "\n",
    "class VideoDataGenerator(Sequence):\n",
    "    def __init__(self, videos, labels, batch_size, is_training=False):\n",
    "        self.videos = list(videos)  # List of video file paths\n",
    "        self.labels = list(labels)  # List or array of labels encoded\n",
    "        self.batch_size = batch_size\n",
    "        self.indices = np.arange(len(self.videos))  # For shuffling\n",
    "        self.is_training = is_training  # Flag to control whether augmentation is applied\n",
    "        self.temp_videos=[]\n",
    "        self.temp_labels=[]\n",
    "        \n",
    "        \n",
    "        print(f\"Total {len(videos)} videos and {len(labels)} classes\")\n",
    "\n",
    "    def __len__(self):\n",
    "        # Return the number of batches per epoch\n",
    "        return int(np.ceil(len(self.videos) / self.batch_size))\n",
    "\n",
    "    def __getitem__(self, idx):\n",
    "        # Get batch indices\n",
    "        batch_indices = self.indices[idx * self.batch_size:(idx + 1) * self.batch_size]\n",
    "        \n",
    "        # Handle case where batch_indices is empty\n",
    "        if len(batch_indices) == 0:\n",
    "            return np.array([], dtype=np.float32), np.array([], dtype=np.float32)\n",
    "        \n",
    "        # Initialize lists to store frames and labels\n",
    "        all_frames = []\n",
    "        all_labels = []\n",
    "        \n",
    "        # Process each video in the batch\n",
    "        for i, index in enumerate(batch_indices):\n",
    "            sequence = self.videos[index]\n",
    "            label = self.labels[index]\n",
    "            \n",
    "            # Append the sequence and label\n",
    "            all_frames.append(sequence)\n",
    "            all_labels.append(label)\n",
    "        \n",
    "        # Convert to numpy arrays\n",
    "        all_frames = np.array(all_frames, dtype=np.float32)\n",
    "        all_labels = np.array(all_labels)\n",
    "            \n",
    "        \n",
    "        return all_frames, all_labels\n",
    "    def add(self, new_videos, new_labels):\n",
    "        self.temp_videos.extend(new_videos)\n",
    "        self.temp_labels.extend(new_labels)\n",
    "    \n",
    "    def confirm(self):\n",
    "        self.videos.extend(self.temp_videos)\n",
    "        self.labels.extend(self.temp_labels)\n",
    "        print(f\"Successfully added - {len(self.temp_videos)} videos and {len(self.temp_labels)} classes.\")\n",
    "        self.temp_videos=[]\n",
    "        self.temp_labels=[]\n",
    "        self.indices = np.arange(len(self.videos))\n",
    "        print(f\"Now Total - {len(self.videos)} videos and {len(self.labels)} classes.\")\n",
    "        print(f\"PENDING for Augmentations - {len(self.temp_videos)} videos and {len(self.temp_labels)} classes.\")\n",
    "        \n",
    "    def replace_original(self):\n",
    "        self.videos=self.temp_videos\n",
    "        self.labels=self.temp_labels\n",
    "        self.temp_videos=[]\n",
    "        self.temp_labels=[]\n",
    "        print(f\"Successfully replaced, total original videos - {len(self.videos)} and augmented videos {len(self.temp_videos)}\")\n",
    "        \n",
    "    def on_epoch_end(self):\n",
    "        # Shuffle indices at the end of each epoch\n",
    "        np.random.shuffle(self.indices)\n",
    "\n",
    "    def as_dataset(self):\n",
    "        def generator():\n",
    "            for idx in range(len(self)):\n",
    "                frames, labels = self[idx]\n",
    "                # Skip empty batches\n",
    "                if frames.size == 0:\n",
    "                    continue\n",
    "                yield frames, labels\n",
    "        self.labels=np.array(self.labels)\n",
    "    \n",
    "        # Create a tf.data.Dataset\n",
    "        dataset = tf.data.Dataset.from_generator(\n",
    "            generator,\n",
    "            output_types=(tf.float32, tf.float32),\n",
    "            output_shapes=(\n",
    "                (None, SEQUENCE_LENGTH, IMAGE_HEIGHT, IMAGE_WIDTH, 3),\n",
    "                (None, NO_OF_CLASSES)\n",
    "            )\n",
    "        )\n",
    "        dataset = dataset.prefetch(tf.data.AUTOTUNE)\n",
    "        return dataset"
   ]
  },
  {
   "cell_type": "markdown",
   "id": "2b27b52d",
   "metadata": {
    "papermill": {
     "duration": 0.011075,
     "end_time": "2025-07-05T17:28:28.134149",
     "exception": false,
     "start_time": "2025-07-05T17:28:28.123074",
     "status": "completed"
    },
    "tags": []
   },
   "source": [
    "## 🔥 Segmentation using N-Frames Ensemble"
   ]
  },
  {
   "cell_type": "code",
   "execution_count": 9,
   "id": "dbf79d29",
   "metadata": {
    "execution": {
     "iopub.execute_input": "2025-07-05T17:28:28.157379Z",
     "iopub.status.busy": "2025-07-05T17:28:28.157128Z",
     "iopub.status.idle": "2025-07-05T17:28:28.399689Z",
     "shell.execute_reply": "2025-07-05T17:28:28.398739Z"
    },
    "papermill": {
     "duration": 0.255781,
     "end_time": "2025-07-05T17:28:28.401019",
     "exception": false,
     "start_time": "2025-07-05T17:28:28.145238",
     "status": "completed"
    },
    "tags": []
   },
   "outputs": [
    {
     "name": "stdout",
     "output_type": "stream",
     "text": [
      "MediaPipe initialized successfully\n"
     ]
    },
    {
     "name": "stderr",
     "output_type": "stream",
     "text": [
      "INFO: Created TensorFlow Lite XNNPACK delegate for CPU.\n"
     ]
    }
   ],
   "source": [
    "import cv2\n",
    "import numpy as np\n",
    "from collections import deque\n",
    "import mediapipe as mp\n",
    "\n",
    "# Parameters\n",
    "N_FRAMES = 5  # Number of frames for ensemble\n",
    "THRESHOLD = 0.2  # Segmentation confidence threshold\n",
    "\n",
    "def initialize_segmentor():\n",
    "    \"\"\"Initialize MediaPipe Selfie Segmentation with error handling.\"\"\"\n",
    "    try:\n",
    "        mp_selfie_segmentation = mp.solutions.selfie_segmentation\n",
    "        segmentor = mp_selfie_segmentation.SelfieSegmentation(model_selection=1)  # 1 for general model\n",
    "        print(\"MediaPipe initialized successfully\")\n",
    "        return segmentor\n",
    "    except Exception as e:\n",
    "        print(f\"Failed to initialize MediaPipe: {e}\")\n",
    "        return None\n",
    "\n",
    "# Initialize segmentor\n",
    "segmentor = initialize_segmentor()\n",
    "\n",
    "\n",
    "def segmentation_frames(sequence):\n",
    "    \"\"\"Process a sequence of frames with N-frame ensemble segmentation.\"\"\"\n",
    "    # Input sequence: (sequence_length, height, width, 3), values in [0, 1]\n",
    "    sequence_length, height, width, _ = sequence.shape\n",
    "    segmented_sequence = np.zeros_like(sequence, dtype=np.float32)\n",
    "    \n",
    "    if segmentor is None:\n",
    "        print(\"Returning original sequence due to initialization failure\")\n",
    "        return sequence  # Fallback to original sequence\n",
    "    # Queue to store segmentation masks\n",
    "    mask_queue = deque(maxlen=N_FRAMES)\n",
    "    \n",
    "    # Kernel for morphological operations\n",
    "    kernel = cv2.getStructuringElement(cv2.MORPH_ELLIPSE, (5, 5))\n",
    "    \n",
    "    for t in range(sequence_length):\n",
    "        try:\n",
    "            # Convert frame to uint8 for MediaPipe\n",
    "            frame = (sequence[t] * 255).astype(np.uint8)\n",
    "            \n",
    "            # Process frame with MediaPipe\n",
    "            results = segmentor.process(frame)\n",
    "            if results.segmentation_mask is None:\n",
    "                print(f\"Warning: No mask returned for frame {t}\")\n",
    "                mask = np.zeros((height, width), dtype=np.float32)\n",
    "            else:\n",
    "                mask = results.segmentation_mask  # Shape: (height, width), values in [0, 1]\n",
    "            \n",
    "            # Add mask to queue\n",
    "            mask_queue.append(mask)\n",
    "            \n",
    "            # Compute ensemble mask by averaging (if enough frames)\n",
    "            ensemble_mask = np.mean(np.array(mask_queue), axis=0) if len(mask_queue) > 1 else mask\n",
    "            \n",
    "            # Binarize the ensemble mask\n",
    "            binary_mask = (ensemble_mask > THRESHOLD).astype(np.uint8)\n",
    "            \n",
    "            # Refine the mask using morphological operations\n",
    "            binary_mask = cv2.morphologyEx(binary_mask, cv2.MORPH_CLOSE, kernel)\n",
    "            binary_mask = cv2.morphologyEx(binary_mask, cv2.MORPH_OPEN, kernel)\n",
    "            \n",
    "            # Convert binary mask to 3 channels\n",
    "            mask_3ch = np.stack([binary_mask] * 3, axis=-1)  # Shape: (height, width, 3)\n",
    "            \n",
    "            # Apply mask to isolate human subject (set background to black)\n",
    "            segmented_frame = frame * mask_3ch\n",
    "            \n",
    "            # Normalize back to [0, 1]\n",
    "            segmented_sequence[t] = segmented_frame / 255.0\n",
    "        \n",
    "        except Exception as e:\n",
    "            print(f\"Error processing frame {t}: {e}\")\n",
    "            segmented_sequence[t] = sequence[t]  # Fallback to original frame\n",
    "    \n",
    "    return segmented_sequence"
   ]
  },
  {
   "cell_type": "markdown",
   "id": "339093eb",
   "metadata": {
    "papermill": {
     "duration": 0.0122,
     "end_time": "2025-07-05T17:28:28.425943",
     "exception": false,
     "start_time": "2025-07-05T17:28:28.413743",
     "status": "completed"
    },
    "tags": []
   },
   "source": [
    "## 💫 Augmentation Helper function"
   ]
  },
  {
   "cell_type": "code",
   "execution_count": 10,
   "id": "d623d1f1",
   "metadata": {
    "execution": {
     "iopub.execute_input": "2025-07-05T17:28:28.450244Z",
     "iopub.status.busy": "2025-07-05T17:28:28.450030Z",
     "iopub.status.idle": "2025-07-05T17:28:28.455051Z",
     "shell.execute_reply": "2025-07-05T17:28:28.454259Z"
    },
    "papermill": {
     "duration": 0.018533,
     "end_time": "2025-07-05T17:28:28.456140",
     "exception": false,
     "start_time": "2025-07-05T17:28:28.437607",
     "status": "completed"
    },
    "tags": []
   },
   "outputs": [
    {
     "name": "stderr",
     "output_type": "stream",
     "text": [
      "WARNING: All log messages before absl::InitializeLog() is called are written to STDERR\n",
      "W0000 00:00:1751736508.404510      70 inference_feedback_manager.cc:114] Feedback manager requires a model with a single signature inference. Disabling support for feedback tensors.\n"
     ]
    }
   ],
   "source": [
    "def apply_augmentation(augmentation_function, generator, confirm=False, *args, **kwargs):\n",
    "    count=0\n",
    "    for i in range(len(generator)):\n",
    "        batch_videos, batch_labels = generator[i]\n",
    "        augmented_videos=[]\n",
    "        for videos in batch_videos:\n",
    "            count=count+1\n",
    "            augmented_videos.append(augmentation_function(videos, *args, **kwargs))\n",
    "            print(f\"Adding {count} new videos...\", end=\"\\r\", flush=True)\n",
    "        generator.add(augmented_videos, batch_labels)\n",
    "    \n",
    "    print(f\"Total {len(generator.temp_videos)} augmented videos generated\")\n",
    "    if confirm:\n",
    "        generator.confirm()\n",
    "    else:\n",
    "        print(\"Ready to be merged with original videos...\")"
   ]
  },
  {
   "cell_type": "markdown",
   "id": "44ce8dd9",
   "metadata": {
    "papermill": {
     "duration": 0.012255,
     "end_time": "2025-07-05T17:28:28.480835",
     "exception": false,
     "start_time": "2025-07-05T17:28:28.468580",
     "status": "completed"
    },
    "tags": []
   },
   "source": [
    "### Show Frames"
   ]
  },
  {
   "cell_type": "code",
   "execution_count": 11,
   "id": "da429a94",
   "metadata": {
    "execution": {
     "iopub.execute_input": "2025-07-05T17:28:28.504999Z",
     "iopub.status.busy": "2025-07-05T17:28:28.504812Z",
     "iopub.status.idle": "2025-07-05T17:28:28.508453Z",
     "shell.execute_reply": "2025-07-05T17:28:28.507878Z"
    },
    "papermill": {
     "duration": 0.016869,
     "end_time": "2025-07-05T17:28:28.509624",
     "exception": false,
     "start_time": "2025-07-05T17:28:28.492755",
     "status": "completed"
    },
    "tags": []
   },
   "outputs": [],
   "source": [
    "# show frame def\n",
    "import matplotlib.pyplot as plt\n",
    "\n",
    "def show_frame(frame):\n",
    "    plt.figure(figsize=(3,3))\n",
    "    plt.imshow(frame)\n",
    "    plt.axis(\"off\")\n",
    "    plt.tight_layout()"
   ]
  },
  {
   "cell_type": "markdown",
   "id": "5153605f",
   "metadata": {
    "papermill": {
     "duration": 0.011856,
     "end_time": "2025-07-05T17:28:28.532935",
     "exception": false,
     "start_time": "2025-07-05T17:28:28.521079",
     "status": "completed"
    },
    "tags": []
   },
   "source": [
    "### Helper Function"
   ]
  },
  {
   "cell_type": "code",
   "execution_count": 12,
   "id": "e70c49e7",
   "metadata": {
    "execution": {
     "iopub.execute_input": "2025-07-05T17:28:28.556496Z",
     "iopub.status.busy": "2025-07-05T17:28:28.556263Z",
     "iopub.status.idle": "2025-07-05T17:28:28.560329Z",
     "shell.execute_reply": "2025-07-05T17:28:28.559786Z"
    },
    "papermill": {
     "duration": 0.01698,
     "end_time": "2025-07-05T17:28:28.561281",
     "exception": false,
     "start_time": "2025-07-05T17:28:28.544301",
     "status": "completed"
    },
    "tags": []
   },
   "outputs": [],
   "source": [
    "def show_frame_vs(frame1, frame2, title1=\"Frame 1\", title2=\"Frame 2\"):\n",
    "    plt.figure(figsize=(10, 5))\n",
    "\n",
    "    # First frame\n",
    "    plt.subplot(1, 2, 1)\n",
    "    plt.imshow(frame1)\n",
    "    plt.title(title1)\n",
    "    plt.axis('off')\n",
    "\n",
    "    # Second frame\n",
    "    plt.subplot(1, 2, 2)\n",
    "    plt.imshow(frame2)\n",
    "    plt.title(title2)\n",
    "    plt.axis('off')\n",
    "\n",
    "    plt.tight_layout()\n",
    "    plt.show()"
   ]
  },
  {
   "cell_type": "code",
   "execution_count": 13,
   "id": "2f3de220",
   "metadata": {
    "execution": {
     "iopub.execute_input": "2025-07-05T17:28:28.584852Z",
     "iopub.status.busy": "2025-07-05T17:28:28.584655Z",
     "iopub.status.idle": "2025-07-05T17:28:28.587867Z",
     "shell.execute_reply": "2025-07-05T17:28:28.587368Z"
    },
    "papermill": {
     "duration": 0.015961,
     "end_time": "2025-07-05T17:28:28.588795",
     "exception": false,
     "start_time": "2025-07-05T17:28:28.572834",
     "status": "completed"
    },
    "tags": []
   },
   "outputs": [],
   "source": [
    "# reusable video loop helper function\n",
    "def apply_function(function, videos, *arg, **kwargs):\n",
    "    new_videos=[]\n",
    "    \n",
    "    for video in videos:\n",
    "        new_videos.append(function(video, *arg, **kwargs))\n",
    "        \n",
    "    return new_videos"
   ]
  },
  {
   "cell_type": "code",
   "execution_count": 14,
   "id": "f28bbd93",
   "metadata": {
    "execution": {
     "iopub.execute_input": "2025-07-05T17:28:28.612392Z",
     "iopub.status.busy": "2025-07-05T17:28:28.612147Z",
     "iopub.status.idle": "2025-07-05T17:28:28.615836Z",
     "shell.execute_reply": "2025-07-05T17:28:28.615357Z"
    },
    "papermill": {
     "duration": 0.0165,
     "end_time": "2025-07-05T17:28:28.616782",
     "exception": false,
     "start_time": "2025-07-05T17:28:28.600282",
     "status": "completed"
    },
    "tags": []
   },
   "outputs": [],
   "source": [
    "# reusable video loop helper function\n",
    "def apply(function, videos, labels, *arg, **kwargs):\n",
    "    new_videos=[]\n",
    "    new_labels=[]\n",
    "    combined=zip(labels, videos)\n",
    "    \n",
    "    for label, video in combined:\n",
    "        new_videos.append(function(video, *arg, **kwargs))\n",
    "        new_labels.append(label)\n",
    "        \n",
    "    new_videos=np.asarray(new_videos)\n",
    "    new_labels=np.asarray(new_labels)\n",
    "    \n",
    "    return new_videos, new_labels"
   ]
  },
  {
   "cell_type": "markdown",
   "id": "c9c7975c",
   "metadata": {
    "papermill": {
     "duration": 0.011651,
     "end_time": "2025-07-05T17:28:28.640077",
     "exception": false,
     "start_time": "2025-07-05T17:28:28.628426",
     "status": "completed"
    },
    "tags": []
   },
   "source": [
    "## Salt and Pepper Noise "
   ]
  },
  {
   "cell_type": "code",
   "execution_count": 15,
   "id": "d3486dd1",
   "metadata": {
    "execution": {
     "iopub.execute_input": "2025-07-05T17:28:28.663924Z",
     "iopub.status.busy": "2025-07-05T17:28:28.663738Z",
     "iopub.status.idle": "2025-07-05T17:28:28.667971Z",
     "shell.execute_reply": "2025-07-05T17:28:28.667277Z"
    },
    "papermill": {
     "duration": 0.017282,
     "end_time": "2025-07-05T17:28:28.668962",
     "exception": false,
     "start_time": "2025-07-05T17:28:28.651680",
     "status": "completed"
    },
    "tags": []
   },
   "outputs": [],
   "source": [
    "# Noise function def\n",
    "\n",
    "def noise_video(video,noise_factor=NOISE_FACTOR):\n",
    "    noisy_video=[]\n",
    "    for frame in video:\n",
    "        # Generate random noise\n",
    "        noise = np.random.rand(*frame.shape)  # Generate random noise\n",
    "        salt_pepper_noise = np.random.choice([0, 1], size=frame.shape, p=[1-noise_factor, noise_factor])\n",
    "        noisy_frame = frame * (1 - salt_pepper_noise) + salt_pepper_noise * np.random.rand(*frame.shape)\n",
    "        noisy_video.append(noisy_frame)\n",
    "    return np.array(noisy_video)"
   ]
  },
  {
   "cell_type": "markdown",
   "id": "a358faa2",
   "metadata": {
    "papermill": {
     "duration": 0.011487,
     "end_time": "2025-07-05T17:28:28.691840",
     "exception": false,
     "start_time": "2025-07-05T17:28:28.680353",
     "status": "completed"
    },
    "tags": []
   },
   "source": [
    "## Horizontal Flip"
   ]
  },
  {
   "cell_type": "code",
   "execution_count": 16,
   "id": "ac618ac2",
   "metadata": {
    "execution": {
     "iopub.execute_input": "2025-07-05T17:28:28.716215Z",
     "iopub.status.busy": "2025-07-05T17:28:28.715998Z",
     "iopub.status.idle": "2025-07-05T17:28:28.719392Z",
     "shell.execute_reply": "2025-07-05T17:28:28.718730Z"
    },
    "papermill": {
     "duration": 0.017005,
     "end_time": "2025-07-05T17:28:28.720600",
     "exception": false,
     "start_time": "2025-07-05T17:28:28.703595",
     "status": "completed"
    },
    "tags": []
   },
   "outputs": [],
   "source": [
    "# horizontal flip function def\n",
    "# Testing Flip feautes[0] -> first video\n",
    "def horizontal_flip(video):\n",
    "    return [tf.image.flip_left_right(frame) for frame in video]"
   ]
  },
  {
   "cell_type": "markdown",
   "id": "7a4506a1",
   "metadata": {
    "papermill": {
     "duration": 0.011452,
     "end_time": "2025-07-05T17:28:28.744129",
     "exception": false,
     "start_time": "2025-07-05T17:28:28.732677",
     "status": "completed"
    },
    "tags": []
   },
   "source": [
    "## Random Shear"
   ]
  },
  {
   "cell_type": "code",
   "execution_count": 17,
   "id": "970360db",
   "metadata": {
    "execution": {
     "iopub.execute_input": "2025-07-05T17:28:28.768765Z",
     "iopub.status.busy": "2025-07-05T17:28:28.768589Z",
     "iopub.status.idle": "2025-07-05T17:28:28.775394Z",
     "shell.execute_reply": "2025-07-05T17:28:28.774875Z"
    },
    "papermill": {
     "duration": 0.02026,
     "end_time": "2025-07-05T17:28:28.776416",
     "exception": false,
     "start_time": "2025-07-05T17:28:28.756156",
     "status": "completed"
    },
    "tags": []
   },
   "outputs": [],
   "source": [
    "# random shear function def\n",
    "import numpy as np\n",
    "import tensorflow as tf\n",
    "from scipy.ndimage import affine_transform\n",
    "\n",
    "def apply_shear_frames(frames, shear_right):\n",
    "    return [apply_shear(frame, shear_right) for frame in frames]\n",
    "\n",
    "def apply_shear(frame, shear_right=0):\n",
    "    frame_resized = tf.image.resize(frame, (IMAGE_HEIGHT, IMAGE_WIDTH)).numpy()\n",
    "    if shear_right:\n",
    "        shear_x = 0.09\n",
    "        shear_y = 0.1\n",
    "    else:\n",
    "        shear_x = -0.09\n",
    "        shear_y = 0.3\n",
    "    # Construct the affine matrix for scipy: inverse of the transformation matrix\n",
    "    # scipy applies the inverse transform matrix\n",
    "    shear_matrix = np.array([\n",
    "        [1, shear_x, 0],\n",
    "        [shear_y, 1, 0],\n",
    "        [0, 0, 1]\n",
    "    ], dtype=np.float32)\n",
    "\n",
    "    # Extract 2x2 part for affine_transform\n",
    "    matrix = shear_matrix[:2, :2]\n",
    "\n",
    "    # Offset (no translation)\n",
    "    offset = [0, 0]\n",
    "\n",
    "    # Apply affine transform on each channel separately\n",
    "    sheared = np.zeros_like(frame_resized)\n",
    "    for c in range(3):\n",
    "        sheared[..., c] = affine_transform(\n",
    "            frame_resized[..., c],\n",
    "            matrix=matrix,\n",
    "            offset=offset,\n",
    "            order=1,          # bilinear interpolation\n",
    "            mode='nearest'    # fill_mode\n",
    "        )\n",
    "    return sheared"
   ]
  },
  {
   "cell_type": "markdown",
   "id": "58c5c03e",
   "metadata": {
    "papermill": {
     "duration": 0.011403,
     "end_time": "2025-07-05T17:28:28.799558",
     "exception": false,
     "start_time": "2025-07-05T17:28:28.788155",
     "status": "completed"
    },
    "tags": []
   },
   "source": [
    "# 📌 Model Related\n",
    "## 🗼 Model Architecture `create_model`"
   ]
  },
  {
   "cell_type": "code",
   "execution_count": 18,
   "id": "147f04db",
   "metadata": {
    "execution": {
     "iopub.execute_input": "2025-07-05T17:28:28.823410Z",
     "iopub.status.busy": "2025-07-05T17:28:28.823184Z",
     "iopub.status.idle": "2025-07-05T17:28:28.834775Z",
     "shell.execute_reply": "2025-07-05T17:28:28.834292Z"
    },
    "papermill": {
     "duration": 0.024798,
     "end_time": "2025-07-05T17:28:28.835781",
     "exception": false,
     "start_time": "2025-07-05T17:28:28.810983",
     "status": "completed"
    },
    "tags": []
   },
   "outputs": [],
   "source": [
    "from tensorflow.keras.applications import Xception\n",
    "from tensorflow.keras.models import Sequential\n",
    "from tensorflow.keras.layers import GlobalAveragePooling2D, TimeDistributed, LSTM, Dropout, Dense, BatchNormalization\n",
    "from tensorflow.keras.regularizers import l2\n",
    "\n",
    "def create_xception_lstm_model(sequence_length, image_height, image_width, classes_list=None, dropout_rate=0.5):\n",
    "    if classes_list is None:\n",
    "        raise ValueError(\"classes_list must be provided to define the output layer size\")\n",
    "\n",
    "    try:\n",
    "        # Load Xception model with pre-trained ImageNet weights\n",
    "        print(\"Loading Xception base model...\")\n",
    "        xception = Xception(\n",
    "            weights='imagenet',\n",
    "            include_top=False,\n",
    "            input_shape=(image_height, image_width, 3),\n",
    "            name=\"Xception\"\n",
    "        )\n",
    "        \n",
    "        # # Unfreeze more layers to fine-tune\n",
    "        # for layer in xception.layers[:-10]:  # Unfreeze more layers to fine-tune more\n",
    "        #     layer.trainable = False\n",
    "        # for layer in xception.layers[-10:]:\n",
    "        #     layer.trainable = True\n",
    "\n",
    "        # Define the Sequential model\n",
    "        model = Sequential([\n",
    "            # TimeDistributed Xception model\n",
    "            TimeDistributed(\n",
    "                xception,\n",
    "                input_shape=(sequence_length, image_height, image_width, 3),\n",
    "                name=\"time_distributed\"\n",
    "            ),\n",
    "            # TimeDistributed GlobalAveragePooling2D\n",
    "            TimeDistributed(GlobalAveragePooling2D(), name=\"time_distributed_1\"),\n",
    "            # LSTM layer with 256 units (increased)\n",
    "            LSTM(512, activation=\"tanh\", return_sequences=False, kernel_regularizer=l2(0.01), name=\"lstm\"),\n",
    "            BatchNormalization(name=\"batch_normalization\"),\n",
    "            # Dropout after LSTM\n",
    "            Dropout(dropout_rate, name=\"dropout_lstm\"),\n",
    "            # Dense layer with 512 units\n",
    "            Dense(512, activation=\"relu\", kernel_regularizer=l2(0.01), name=\"dense\"),\n",
    "            # Dropout after Dense\n",
    "            Dropout(dropout_rate + 0.1, name=\"dropout_dense\"),\n",
    "            # Output Dense layer with softmax activation\n",
    "            Dense(len(classes_list), activation=\"softmax\", name=\"dense_1\")\n",
    "        ])\n",
    "\n",
    "        # Print model summary\n",
    "        print(\"Model architecture created successfully!\")\n",
    "        model.summary()\n",
    "\n",
    "        return model\n",
    "\n",
    "    except Exception as e:\n",
    "        print(f\"Error creating model: {e}\")\n",
    "        return None\n"
   ]
  },
  {
   "cell_type": "code",
   "execution_count": 19,
   "id": "ec75afc3",
   "metadata": {
    "execution": {
     "iopub.execute_input": "2025-07-05T17:28:28.860826Z",
     "iopub.status.busy": "2025-07-05T17:28:28.860655Z",
     "iopub.status.idle": "2025-07-05T17:28:32.810116Z",
     "shell.execute_reply": "2025-07-05T17:28:32.809110Z"
    },
    "papermill": {
     "duration": 3.963611,
     "end_time": "2025-07-05T17:28:32.811436",
     "exception": false,
     "start_time": "2025-07-05T17:28:28.847825",
     "status": "completed"
    },
    "tags": []
   },
   "outputs": [
    {
     "name": "stdout",
     "output_type": "stream",
     "text": [
      "Pre-loading Xception weights...\n"
     ]
    },
    {
     "name": "stderr",
     "output_type": "stream",
     "text": [
      "I0000 00:00:1751736510.115581      19 gpu_device.cc:2022] Created device /job:localhost/replica:0/task:0/device:GPU:0 with 13942 MB memory:  -> device: 0, name: Tesla T4, pci bus id: 0000:00:04.0, compute capability: 7.5\n",
      "I0000 00:00:1751736510.116335      19 gpu_device.cc:2022] Created device /job:localhost/replica:0/task:0/device:GPU:1 with 13942 MB memory:  -> device: 1, name: Tesla T4, pci bus id: 0000:00:05.0, compute capability: 7.5\n"
     ]
    },
    {
     "name": "stdout",
     "output_type": "stream",
     "text": [
      "Downloading data from https://storage.googleapis.com/tensorflow/keras-applications/xception/xception_weights_tf_dim_ordering_tf_kernels_notop.h5\n",
      "\u001b[1m83683744/83683744\u001b[0m \u001b[32m━━━━━━━━━━━━━━━━━━━━\u001b[0m\u001b[37m\u001b[0m \u001b[1m0s\u001b[0m 0us/step\n",
      "Weights loaded successfully!\n"
     ]
    }
   ],
   "source": [
    "# donwload model weights\n",
    "from tensorflow.keras.applications import Xception\n",
    "print(\"Pre-loading Xception weights...\")\n",
    "base_model = Xception(weights='imagenet', include_top=False, input_shape=(IMAGE_HEIGHT, IMAGE_WIDTH, 3))\n",
    "print(\"Weights loaded successfully!\")"
   ]
  },
  {
   "cell_type": "markdown",
   "id": "5a0a89ea",
   "metadata": {
    "papermill": {
     "duration": 0.011988,
     "end_time": "2025-07-05T17:28:32.837527",
     "exception": false,
     "start_time": "2025-07-05T17:28:32.825539",
     "status": "completed"
    },
    "tags": []
   },
   "source": [
    "# 📌 Execution\n",
    "## Creating Dataset\n",
    "The following functions are executed\n",
    "- `frame extraction`\n",
    "- `resize`\n",
    "\n",
    "which returns:\n",
    "- `features` - `np.array` of all the videos\n",
    "- `labels` - `np.array` of all the class labels"
   ]
  },
  {
   "cell_type": "code",
   "execution_count": 20,
   "id": "89bee12c",
   "metadata": {
    "execution": {
     "iopub.execute_input": "2025-07-05T17:28:32.864212Z",
     "iopub.status.busy": "2025-07-05T17:28:32.863696Z",
     "iopub.status.idle": "2025-07-05T17:29:06.498147Z",
     "shell.execute_reply": "2025-07-05T17:29:06.497377Z"
    },
    "papermill": {
     "duration": 33.649389,
     "end_time": "2025-07-05T17:29:06.499299",
     "exception": false,
     "start_time": "2025-07-05T17:28:32.849910",
     "status": "completed"
    },
    "tags": []
   },
   "outputs": [
    {
     "name": "stdout",
     "output_type": "stream",
     "text": [
      "Class: write on a paper\n",
      "Extracting frames from file 20: a05_s10_e01_rgb.avi\n",
      "Class: use laptop\n",
      "Extracting frames from file 20: a06_s04_e02_rgb.avi\n",
      "Class: read book\n",
      "Extracting frames from file 20: a03_s06_e01_rgb.avi\n",
      "Class: sit still\n",
      "Extracting frames from file 20: a09_s06_e02_rgb.avi\n",
      "Class: drink\n",
      "Extracting frames from file 20: a01_s01_e01_rgb.avi\n",
      "Class: sit down\n",
      "Extracting frames from file 20: a16_s06_e02_rgb.avi\n",
      "Class: use vacuum cleaner\n",
      "Extracting frames from file 20: a07_s10_e01_rgb.avi\n",
      "Class: eat\n",
      "Extracting frames from file 20: a02_s02_e01_rgb.avi\n",
      "Class: play guitar\n",
      "Extracting frames from file 20: a14_s06_e02_rgb.avi\n",
      "Class: lie down on sofa\n",
      "Extracting frames from file 20: a12_s05_e01_rgb.avi\n",
      "Class: stand up\n",
      "Extracting frames from file 20: a15_s09_e01_rgb.avi\n",
      "Class: toss paper\n",
      "Extracting frames from file 20: a10_s04_e01_rgb.avi\n",
      "Class: walk\n",
      "Extracting frames from file 20: a13_s09_e01_rgb.avi\n",
      "Class: play game\n",
      "Extracting frames from file 20: a11_s01_e02_rgb.avi\n",
      "Class: cheer up\n",
      "Extracting frames from file 20: a08_s07_e02_rgb.avi\n",
      "Class: call cellphone\n",
      "Extracting frames from file 20: a04_s06_e01_rgb.avi\n",
      "Dataset created with 320 videos\n",
      "Features shape: (320, 5, 128, 128, 3)\n",
      "Labels shape: (320,)\n"
     ]
    },
    {
     "data": {
      "text/plain": [
       "((320, 5, 128, 128, 3), (320,))"
      ]
     },
     "execution_count": 20,
     "metadata": {},
     "output_type": "execute_result"
    }
   ],
   "source": [
    "# RUN Create the dataset with explicit parameters\n",
    "try:\n",
    "    videos, labels = create_dataset(\n",
    "        dataset_dir=DATASET_DIR,\n",
    "        classes_list=CLASSES_LIST,\n",
    "        sequence_length=SEQUENCE_LENGTH,\n",
    "        image_height=IMAGE_HEIGHT,\n",
    "        image_width=IMAGE_WIDTH,\n",
    "        # Limit to 10 videos per class to manage memory\n",
    "        augmentations=True,\n",
    "        max_videos_per_class=MAX_VIDEO_PER_CLASS\n",
    "    )\n",
    "except FileNotFoundError as e:\n",
    "    print(f\"Error: {e}\")\n",
    "except ValueError as e:\n",
    "    print(f\"Error: {e}\")\n",
    "except Exception as e:\n",
    "    print(f\"Unexpected error: {e}\")\n",
    "\n",
    "videos.shape, labels.shape"
   ]
  },
  {
   "cell_type": "code",
   "execution_count": 21,
   "id": "31efdfc0",
   "metadata": {
    "execution": {
     "iopub.execute_input": "2025-07-05T17:29:06.550827Z",
     "iopub.status.busy": "2025-07-05T17:29:06.550218Z",
     "iopub.status.idle": "2025-07-05T17:29:06.554510Z",
     "shell.execute_reply": "2025-07-05T17:29:06.553754Z"
    },
    "papermill": {
     "duration": 0.030776,
     "end_time": "2025-07-05T17:29:06.555560",
     "exception": false,
     "start_time": "2025-07-05T17:29:06.524784",
     "status": "completed"
    },
    "tags": []
   },
   "outputs": [
    {
     "name": "stdout",
     "output_type": "stream",
     "text": [
      "Total 320 videos and 320 classes\n"
     ]
    }
   ],
   "source": [
    "video_generator = VideoDataGenerator(\n",
    "    videos=videos,\n",
    "    labels=labels,\n",
    "    batch_size=BATCH_SIZE\n",
    ")"
   ]
  },
  {
   "cell_type": "code",
   "execution_count": 22,
   "id": "775511ff",
   "metadata": {
    "execution": {
     "iopub.execute_input": "2025-07-05T17:29:06.605954Z",
     "iopub.status.busy": "2025-07-05T17:29:06.605578Z",
     "iopub.status.idle": "2025-07-05T17:29:06.616153Z",
     "shell.execute_reply": "2025-07-05T17:29:06.615657Z"
    },
    "papermill": {
     "duration": 0.037378,
     "end_time": "2025-07-05T17:29:06.617203",
     "exception": false,
     "start_time": "2025-07-05T17:29:06.579825",
     "status": "completed"
    },
    "tags": []
   },
   "outputs": [
    {
     "data": {
      "text/plain": [
       "((16, 5, 128, 128, 3), (16,))"
      ]
     },
     "execution_count": 22,
     "metadata": {},
     "output_type": "execute_result"
    }
   ],
   "source": [
    "videos, labels = video_generator[0]\n",
    "\n",
    "videos.shape, labels.shape"
   ]
  },
  {
   "cell_type": "code",
   "execution_count": 23,
   "id": "bfd6c61b",
   "metadata": {
    "execution": {
     "iopub.execute_input": "2025-07-05T17:29:06.667194Z",
     "iopub.status.busy": "2025-07-05T17:29:06.666655Z",
     "iopub.status.idle": "2025-07-05T17:29:06.670816Z",
     "shell.execute_reply": "2025-07-05T17:29:06.670331Z"
    },
    "papermill": {
     "duration": 0.029986,
     "end_time": "2025-07-05T17:29:06.671766",
     "exception": false,
     "start_time": "2025-07-05T17:29:06.641780",
     "status": "completed"
    },
    "tags": []
   },
   "outputs": [
    {
     "data": {
      "text/plain": [
       "320"
      ]
     },
     "execution_count": 23,
     "metadata": {},
     "output_type": "execute_result"
    }
   ],
   "source": [
    "len(video_generator.videos) "
   ]
  },
  {
   "cell_type": "code",
   "execution_count": 24,
   "id": "5d18b4e2",
   "metadata": {
    "execution": {
     "iopub.execute_input": "2025-07-05T17:29:06.721991Z",
     "iopub.status.busy": "2025-07-05T17:29:06.721786Z",
     "iopub.status.idle": "2025-07-05T17:29:06.725917Z",
     "shell.execute_reply": "2025-07-05T17:29:06.725431Z"
    },
    "papermill": {
     "duration": 0.030541,
     "end_time": "2025-07-05T17:29:06.726914",
     "exception": false,
     "start_time": "2025-07-05T17:29:06.696373",
     "status": "completed"
    },
    "tags": []
   },
   "outputs": [
    {
     "data": {
      "text/plain": [
       "20"
      ]
     },
     "execution_count": 24,
     "metadata": {},
     "output_type": "execute_result"
    }
   ],
   "source": [
    "len(video_generator)"
   ]
  },
  {
   "cell_type": "code",
   "execution_count": 25,
   "id": "c6b7cc57",
   "metadata": {
    "execution": {
     "iopub.execute_input": "2025-07-05T17:29:06.776241Z",
     "iopub.status.busy": "2025-07-05T17:29:06.776033Z",
     "iopub.status.idle": "2025-07-05T17:29:13.823950Z",
     "shell.execute_reply": "2025-07-05T17:29:13.823003Z"
    },
    "papermill": {
     "duration": 7.074101,
     "end_time": "2025-07-05T17:29:13.825343",
     "exception": false,
     "start_time": "2025-07-05T17:29:06.751242",
     "status": "completed"
    },
    "tags": []
   },
   "outputs": [
    {
     "name": "stdout",
     "output_type": "stream",
     "text": [
      "Total 320 augmented videos generated\n",
      "Ready to be merged with original videos...\n"
     ]
    }
   ],
   "source": [
    "apply_augmentation(segmentation_frames, video_generator)"
   ]
  },
  {
   "cell_type": "code",
   "execution_count": 26,
   "id": "c251e2b5",
   "metadata": {
    "execution": {
     "iopub.execute_input": "2025-07-05T17:29:13.902877Z",
     "iopub.status.busy": "2025-07-05T17:29:13.902631Z",
     "iopub.status.idle": "2025-07-05T17:29:13.907283Z",
     "shell.execute_reply": "2025-07-05T17:29:13.906570Z"
    },
    "papermill": {
     "duration": 0.042789,
     "end_time": "2025-07-05T17:29:13.908493",
     "exception": false,
     "start_time": "2025-07-05T17:29:13.865704",
     "status": "completed"
    },
    "tags": []
   },
   "outputs": [
    {
     "data": {
      "text/plain": [
       "(320, 320)"
      ]
     },
     "execution_count": 26,
     "metadata": {},
     "output_type": "execute_result"
    }
   ],
   "source": [
    "len(video_generator.temp_videos), len(video_generator.videos)"
   ]
  },
  {
   "cell_type": "code",
   "execution_count": 27,
   "id": "b7c0f5c2",
   "metadata": {
    "execution": {
     "iopub.execute_input": "2025-07-05T17:29:13.981644Z",
     "iopub.status.busy": "2025-07-05T17:29:13.981432Z",
     "iopub.status.idle": "2025-07-05T17:29:13.986024Z",
     "shell.execute_reply": "2025-07-05T17:29:13.985361Z"
    },
    "papermill": {
     "duration": 0.042514,
     "end_time": "2025-07-05T17:29:13.987610",
     "exception": false,
     "start_time": "2025-07-05T17:29:13.945096",
     "status": "completed"
    },
    "tags": []
   },
   "outputs": [
    {
     "name": "stdout",
     "output_type": "stream",
     "text": [
      "Successfully replaced, total original videos - 320 and augmented videos 0\n"
     ]
    }
   ],
   "source": [
    "video_generator.replace_original()"
   ]
  },
  {
   "cell_type": "code",
   "execution_count": 28,
   "id": "c5c9e639",
   "metadata": {
    "execution": {
     "iopub.execute_input": "2025-07-05T17:29:14.065144Z",
     "iopub.status.busy": "2025-07-05T17:29:14.064934Z",
     "iopub.status.idle": "2025-07-05T17:29:14.069202Z",
     "shell.execute_reply": "2025-07-05T17:29:14.068541Z"
    },
    "papermill": {
     "duration": 0.042451,
     "end_time": "2025-07-05T17:29:14.070258",
     "exception": false,
     "start_time": "2025-07-05T17:29:14.027807",
     "status": "completed"
    },
    "tags": []
   },
   "outputs": [
    {
     "data": {
      "text/plain": [
       "(0, 320)"
      ]
     },
     "execution_count": 28,
     "metadata": {},
     "output_type": "execute_result"
    }
   ],
   "source": [
    "len(video_generator.temp_videos), len(video_generator.videos)"
   ]
  },
  {
   "cell_type": "code",
   "execution_count": 29,
   "id": "defd6b5b",
   "metadata": {
    "execution": {
     "iopub.execute_input": "2025-07-05T17:29:14.143376Z",
     "iopub.status.busy": "2025-07-05T17:29:14.143129Z",
     "iopub.status.idle": "2025-07-05T17:29:14.235763Z",
     "shell.execute_reply": "2025-07-05T17:29:14.234990Z"
    },
    "papermill": {
     "duration": 0.130097,
     "end_time": "2025-07-05T17:29:14.236925",
     "exception": false,
     "start_time": "2025-07-05T17:29:14.106828",
     "status": "completed"
    },
    "tags": []
   },
   "outputs": [
    {
     "data": {
      "text/plain": [
       "(320, 5, 128, 128, 3)"
      ]
     },
     "execution_count": 29,
     "metadata": {},
     "output_type": "execute_result"
    }
   ],
   "source": [
    "test = np.array(video_generator.videos)\n",
    "\n",
    "test.shape"
   ]
  },
  {
   "cell_type": "code",
   "execution_count": 30,
   "id": "b38a2cf8",
   "metadata": {
    "execution": {
     "iopub.execute_input": "2025-07-05T17:29:14.311295Z",
     "iopub.status.busy": "2025-07-05T17:29:14.311092Z",
     "iopub.status.idle": "2025-07-05T17:29:14.439413Z",
     "shell.execute_reply": "2025-07-05T17:29:14.438763Z"
    },
    "papermill": {
     "duration": 0.166582,
     "end_time": "2025-07-05T17:29:14.440533",
     "exception": false,
     "start_time": "2025-07-05T17:29:14.273951",
     "status": "completed"
    },
    "tags": []
   },
   "outputs": [
    {
     "data": {
      "image/png": "[encoded data removed]",
      "text/plain": [
       "<Figure size 300x300 with 1 Axes>"
      ]
     },
     "metadata": {},
     "output_type": "display_data"
    }
   ],
   "source": [
    "show_frame(test[1,0])"
   ]
  },
  {
   "cell_type": "markdown",
   "id": "ff58f076",
   "metadata": {
    "papermill": {
     "duration": 0.037456,
     "end_time": "2025-07-05T17:29:14.517145",
     "exception": false,
     "start_time": "2025-07-05T17:29:14.479689",
     "status": "completed"
    },
    "tags": []
   },
   "source": [
    "## Apply ***horizontal flip*** (Augmentation)"
   ]
  },
  {
   "cell_type": "code",
   "execution_count": 31,
   "id": "6358e674",
   "metadata": {
    "execution": {
     "iopub.execute_input": "2025-07-05T17:29:14.591722Z",
     "iopub.status.busy": "2025-07-05T17:29:14.591116Z",
     "iopub.status.idle": "2025-07-05T17:29:15.895102Z",
     "shell.execute_reply": "2025-07-05T17:29:15.894247Z"
    },
    "papermill": {
     "duration": 1.342222,
     "end_time": "2025-07-05T17:29:15.896179",
     "exception": false,
     "start_time": "2025-07-05T17:29:14.553957",
     "status": "completed"
    },
    "tags": []
   },
   "outputs": [
    {
     "name": "stdout",
     "output_type": "stream",
     "text": [
      "Total 320 augmented videos generated\n",
      "Ready to be merged with original videos...\n"
     ]
    }
   ],
   "source": [
    "apply_augmentation(horizontal_flip, video_generator)"
   ]
  },
  {
   "cell_type": "code",
   "execution_count": 32,
   "id": "1a10bcde",
   "metadata": {
    "execution": {
     "iopub.execute_input": "2025-07-05T17:29:15.998150Z",
     "iopub.status.busy": "2025-07-05T17:29:15.997645Z",
     "iopub.status.idle": "2025-07-05T17:29:16.001574Z",
     "shell.execute_reply": "2025-07-05T17:29:16.000813Z"
    },
    "papermill": {
     "duration": 0.055824,
     "end_time": "2025-07-05T17:29:16.002672",
     "exception": false,
     "start_time": "2025-07-05T17:29:15.946848",
     "status": "completed"
    },
    "tags": []
   },
   "outputs": [
    {
     "name": "stdout",
     "output_type": "stream",
     "text": [
      "Checking Total Videos and Class Count: 320, 320\n",
      "PENDING Total Videos and Class Count: 320, 320\n"
     ]
    }
   ],
   "source": [
    "print(f\"Checking Total Videos and Class Count: {len(video_generator.videos)}, {len(video_generator.labels)}\")\n",
    "print(f\"PENDING Total Videos and Class Count: {len(video_generator.temp_videos)}, {len(video_generator.temp_labels)}\")"
   ]
  },
  {
   "cell_type": "code",
   "execution_count": 33,
   "id": "777674b3",
   "metadata": {
    "execution": {
     "iopub.execute_input": "2025-07-05T17:29:16.100417Z",
     "iopub.status.busy": "2025-07-05T17:29:16.100170Z",
     "iopub.status.idle": "2025-07-05T17:29:16.103857Z",
     "shell.execute_reply": "2025-07-05T17:29:16.103208Z"
    },
    "papermill": {
     "duration": 0.053331,
     "end_time": "2025-07-05T17:29:16.104858",
     "exception": false,
     "start_time": "2025-07-05T17:29:16.051527",
     "status": "completed"
    },
    "tags": []
   },
   "outputs": [
    {
     "name": "stdout",
     "output_type": "stream",
     "text": [
      "Successfully added - 320 videos and 320 classes.\n",
      "Now Total - 640 videos and 640 classes.\n",
      "PENDING for Augmentations - 0 videos and 0 classes.\n"
     ]
    }
   ],
   "source": [
    "video_generator.confirm()"
   ]
  },
  {
   "cell_type": "markdown",
   "id": "5f00525f",
   "metadata": {
    "papermill": {
     "duration": 0.048322,
     "end_time": "2025-07-05T17:29:16.202690",
     "exception": false,
     "start_time": "2025-07-05T17:29:16.154368",
     "status": "completed"
    },
    "tags": []
   },
   "source": [
    "## Apply ***Noise*** (Augmentation)"
   ]
  },
  {
   "cell_type": "code",
   "execution_count": 34,
   "id": "e2bdded7",
   "metadata": {
    "execution": {
     "iopub.execute_input": "2025-07-05T17:29:16.301000Z",
     "iopub.status.busy": "2025-07-05T17:29:16.300459Z",
     "iopub.status.idle": "2025-07-05T17:29:24.740973Z",
     "shell.execute_reply": "2025-07-05T17:29:24.739945Z"
    },
    "papermill": {
     "duration": 8.49112,
     "end_time": "2025-07-05T17:29:24.742617",
     "exception": false,
     "start_time": "2025-07-05T17:29:16.251497",
     "status": "completed"
    },
    "tags": []
   },
   "outputs": [
    {
     "name": "stdout",
     "output_type": "stream",
     "text": [
      "Total 640 augmented videos generated\n",
      "Ready to be merged with original videos...\n"
     ]
    }
   ],
   "source": [
    "apply_augmentation(noise_video, video_generator)"
   ]
  },
  {
   "cell_type": "code",
   "execution_count": 35,
   "id": "9598223c",
   "metadata": {
    "execution": {
     "iopub.execute_input": "2025-07-05T17:29:24.916331Z",
     "iopub.status.busy": "2025-07-05T17:29:24.915725Z",
     "iopub.status.idle": "2025-07-05T17:29:24.921930Z",
     "shell.execute_reply": "2025-07-05T17:29:24.920999Z"
    },
    "papermill": {
     "duration": 0.099153,
     "end_time": "2025-07-05T17:29:24.923682",
     "exception": false,
     "start_time": "2025-07-05T17:29:24.824529",
     "status": "completed"
    },
    "tags": []
   },
   "outputs": [
    {
     "name": "stdout",
     "output_type": "stream",
     "text": [
      "Checking Total Videos and Class Count: 640, 640\n",
      "PENDING Total Videos and Class Count: 640, 640\n"
     ]
    }
   ],
   "source": [
    "print(f\"Checking Total Videos and Class Count: {len(video_generator.videos)}, {len(video_generator.labels)}\")\n",
    "print(f\"PENDING Total Videos and Class Count: {len(video_generator.temp_videos)}, {len(video_generator.temp_labels)}\")"
   ]
  },
  {
   "cell_type": "markdown",
   "id": "5b6754df",
   "metadata": {
    "papermill": {
     "duration": 0.074161,
     "end_time": "2025-07-05T17:29:25.081592",
     "exception": false,
     "start_time": "2025-07-05T17:29:25.007431",
     "status": "completed"
    },
    "tags": []
   },
   "source": [
    "## Apply ***Random Shear x2*** (Augmentation)"
   ]
  },
  {
   "cell_type": "code",
   "execution_count": 36,
   "id": "2cd6aef9",
   "metadata": {
    "execution": {
     "iopub.execute_input": "2025-07-05T17:29:25.225450Z",
     "iopub.status.busy": "2025-07-05T17:29:25.224981Z",
     "iopub.status.idle": "2025-07-05T17:29:50.885981Z",
     "shell.execute_reply": "2025-07-05T17:29:50.885177Z"
    },
    "papermill": {
     "duration": 25.734486,
     "end_time": "2025-07-05T17:29:50.887238",
     "exception": false,
     "start_time": "2025-07-05T17:29:25.152752",
     "status": "completed"
    },
    "tags": []
   },
   "outputs": [
    {
     "name": "stdout",
     "output_type": "stream",
     "text": [
      "Total 1280 augmented videos generated\n",
      "Ready to be merged with original videos...\n",
      "Total 1920 augmented videos generated\n",
      "Ready to be merged with original videos...\n"
     ]
    }
   ],
   "source": [
    "apply_augmentation(apply_shear_frames, video_generator, shear_right=0)\n",
    "apply_augmentation(apply_shear_frames, video_generator, shear_right=1)"
   ]
  },
  {
   "cell_type": "code",
   "execution_count": 37,
   "id": "8d8dda37",
   "metadata": {
    "execution": {
     "iopub.execute_input": "2025-07-05T17:29:51.149737Z",
     "iopub.status.busy": "2025-07-05T17:29:51.149024Z",
     "iopub.status.idle": "2025-07-05T17:29:51.153601Z",
     "shell.execute_reply": "2025-07-05T17:29:51.152871Z"
    },
    "papermill": {
     "duration": 0.136932,
     "end_time": "2025-07-05T17:29:51.154735",
     "exception": false,
     "start_time": "2025-07-05T17:29:51.017803",
     "status": "completed"
    },
    "tags": []
   },
   "outputs": [
    {
     "name": "stdout",
     "output_type": "stream",
     "text": [
      "Checking Total Videos and Class Count: 640, 640\n",
      "PENDING Total Videos and Class Count: 1920, 1920\n"
     ]
    }
   ],
   "source": [
    "print(f\"Checking Total Videos and Class Count: {len(video_generator.videos)}, {len(video_generator.labels)}\")\n",
    "print(f\"PENDING Total Videos and Class Count: {len(video_generator.temp_videos)}, {len(video_generator.temp_labels)}\")"
   ]
  },
  {
   "cell_type": "code",
   "execution_count": 38,
   "id": "595983bc",
   "metadata": {
    "execution": {
     "iopub.execute_input": "2025-07-05T17:29:51.447621Z",
     "iopub.status.busy": "2025-07-05T17:29:51.446943Z",
     "iopub.status.idle": "2025-07-05T17:29:51.451580Z",
     "shell.execute_reply": "2025-07-05T17:29:51.450837Z"
    },
    "papermill": {
     "duration": 0.127354,
     "end_time": "2025-07-05T17:29:51.452701",
     "exception": false,
     "start_time": "2025-07-05T17:29:51.325347",
     "status": "completed"
    },
    "tags": []
   },
   "outputs": [
    {
     "name": "stdout",
     "output_type": "stream",
     "text": [
      "Successfully added - 1920 videos and 1920 classes.\n",
      "Now Total - 2560 videos and 2560 classes.\n",
      "PENDING for Augmentations - 0 videos and 0 classes.\n"
     ]
    }
   ],
   "source": [
    "# confirm changes to generator\n",
    "video_generator.confirm()"
   ]
  },
  {
   "cell_type": "code",
   "execution_count": 39,
   "id": "86c12b13",
   "metadata": {
    "execution": {
     "iopub.execute_input": "2025-07-05T17:29:51.703667Z",
     "iopub.status.busy": "2025-07-05T17:29:51.703370Z",
     "iopub.status.idle": "2025-07-05T17:29:51.707659Z",
     "shell.execute_reply": "2025-07-05T17:29:51.706847Z"
    },
    "papermill": {
     "duration": 0.131731,
     "end_time": "2025-07-05T17:29:51.708930",
     "exception": false,
     "start_time": "2025-07-05T17:29:51.577199",
     "status": "completed"
    },
    "tags": []
   },
   "outputs": [
    {
     "name": "stdout",
     "output_type": "stream",
     "text": [
      "Checking Video Generator Total Videos and Class Count: 2560, 2560\n"
     ]
    }
   ],
   "source": [
    "print(f\"Checking Video Generator Total Videos and Class Count: {len(video_generator.videos)}, {len(video_generator.labels)}\")"
   ]
  },
  {
   "cell_type": "markdown",
   "id": "47c05471",
   "metadata": {
    "papermill": {
     "duration": 0.12619,
     "end_time": "2025-07-05T17:29:51.957725",
     "exception": false,
     "start_time": "2025-07-05T17:29:51.831535",
     "status": "completed"
    },
    "tags": []
   },
   "source": [
    "## Cheking (Output)"
   ]
  },
  {
   "cell_type": "code",
   "execution_count": 40,
   "id": "e0277b91",
   "metadata": {
    "execution": {
     "iopub.execute_input": "2025-07-05T17:29:52.201792Z",
     "iopub.status.busy": "2025-07-05T17:29:52.201541Z",
     "iopub.status.idle": "2025-07-05T17:29:52.590759Z",
     "shell.execute_reply": "2025-07-05T17:29:52.590050Z"
    },
    "papermill": {
     "duration": 0.512949,
     "end_time": "2025-07-05T17:29:52.592137",
     "exception": false,
     "start_time": "2025-07-05T17:29:52.079188",
     "status": "completed"
    },
    "tags": []
   },
   "outputs": [
    {
     "name": "stdout",
     "output_type": "stream",
     "text": [
      "(16, 5, 128, 128, 3) (16,)\n"
     ]
    },
    {
     "data": {
      "image/png": "[encoded data removed]",
      "text/plain": [
       "<Figure size 1000x500 with 2 Axes>"
      ]
     },
     "metadata": {},
     "output_type": "display_data"
    },
    {
     "name": "stdout",
     "output_type": "stream",
     "text": [
      "Might be two different action, but to check the flipping focus on the door behind.\n"
     ]
    }
   ],
   "source": [
    "# check horizontal flips\n",
    "videos, labels = video_generator[7]\n",
    "videos1, labels1 = video_generator[1]\n",
    "\n",
    "print(videos.shape, labels.shape)\n",
    "\n",
    "show_frame_vs(videos[0,0],videos1[1,0], title1=\"Flipped Frame 1\", title2=\"Non Flipped Frame 1\")\n",
    "print(\"Might be two different action, but to check the flipping focus on the door behind.\")"
   ]
  },
  {
   "cell_type": "markdown",
   "id": "60a07685",
   "metadata": {
    "papermill": {
     "duration": 0.118738,
     "end_time": "2025-07-05T17:29:52.834397",
     "exception": false,
     "start_time": "2025-07-05T17:29:52.715659",
     "status": "completed"
    },
    "tags": []
   },
   "source": [
    "# 🧪 Test Augmentation (Output)\n",
    "## 🖼️ Horizontal Flip Output"
   ]
  },
  {
   "cell_type": "code",
   "execution_count": 41,
   "id": "5a44ad56",
   "metadata": {
    "execution": {
     "iopub.execute_input": "2025-07-05T17:29:53.077382Z",
     "iopub.status.busy": "2025-07-05T17:29:53.077095Z",
     "iopub.status.idle": "2025-07-05T17:29:53.080340Z",
     "shell.execute_reply": "2025-07-05T17:29:53.079800Z"
    },
    "papermill": {
     "duration": 0.125255,
     "end_time": "2025-07-05T17:29:53.081488",
     "exception": false,
     "start_time": "2025-07-05T17:29:52.956233",
     "status": "completed"
    },
    "tags": []
   },
   "outputs": [],
   "source": [
    "# flipped_video_1 = horizontal_flip(features[0])\n",
    "\n",
    "# flipped_video_1=np.asarray(flipped_video_1)\n",
    "\n",
    "# show_frame(flipped_video_1[0])\n",
    "# flipped_video_1.shape"
   ]
  },
  {
   "cell_type": "markdown",
   "id": "62e2d0f1",
   "metadata": {
    "papermill": {
     "duration": 0.165778,
     "end_time": "2025-07-05T17:29:53.369930",
     "exception": false,
     "start_time": "2025-07-05T17:29:53.204152",
     "status": "completed"
    },
    "tags": []
   },
   "source": [
    "## 🖼️ Salt and Pepper Noise Output"
   ]
  },
  {
   "cell_type": "code",
   "execution_count": 42,
   "id": "ebe3e660",
   "metadata": {
    "execution": {
     "iopub.execute_input": "2025-07-05T17:29:53.615237Z",
     "iopub.status.busy": "2025-07-05T17:29:53.614672Z",
     "iopub.status.idle": "2025-07-05T17:29:53.618043Z",
     "shell.execute_reply": "2025-07-05T17:29:53.617359Z"
    },
    "papermill": {
     "duration": 0.126892,
     "end_time": "2025-07-05T17:29:53.619186",
     "exception": false,
     "start_time": "2025-07-05T17:29:53.492294",
     "status": "completed"
    },
    "tags": []
   },
   "outputs": [],
   "source": [
    "# noised_video = noise_video(features[0])\n",
    "\n",
    "# print(noised_video.shape)\n",
    "# show_frame(noised_video[0])"
   ]
  },
  {
   "cell_type": "markdown",
   "id": "2f2b30a1",
   "metadata": {
    "papermill": {
     "duration": 0.12036,
     "end_time": "2025-07-05T17:29:53.861158",
     "exception": false,
     "start_time": "2025-07-05T17:29:53.740798",
     "status": "completed"
    },
    "tags": []
   },
   "source": [
    "## 🖼️ Random Shear Output"
   ]
  },
  {
   "cell_type": "code",
   "execution_count": 43,
   "id": "3468bb2e",
   "metadata": {
    "execution": {
     "iopub.execute_input": "2025-07-05T17:29:54.109171Z",
     "iopub.status.busy": "2025-07-05T17:29:54.108583Z",
     "iopub.status.idle": "2025-07-05T17:29:54.112074Z",
     "shell.execute_reply": "2025-07-05T17:29:54.111349Z"
    },
    "papermill": {
     "duration": 0.132378,
     "end_time": "2025-07-05T17:29:54.113369",
     "exception": false,
     "start_time": "2025-07-05T17:29:53.980991",
     "status": "completed"
    },
    "tags": []
   },
   "outputs": [],
   "source": [
    "# print(features.shape)\n",
    "\n",
    "# sheared_1 = apply_shear_frames(features[0], shear_right=0)\n",
    "# sheared_2 = apply_shear_frames(features[0], shear_right=1)\n",
    "\n",
    "# sheared_1 = np.asarray(sheared_1)\n",
    "# sheared_2 = np.asarray(sheared_2)\n",
    "\n",
    "# print(sheared_1.shape)\n",
    "# show_frame(sheared_1[0])\n",
    "# show_frame(sheared_2[0])"
   ]
  },
  {
   "cell_type": "markdown",
   "id": "8726cf01",
   "metadata": {
    "papermill": {
     "duration": 0.120013,
     "end_time": "2025-07-05T17:29:54.354608",
     "exception": false,
     "start_time": "2025-07-05T17:29:54.234595",
     "status": "completed"
    },
    "tags": []
   },
   "source": [
    "# 📌 Preparing Data for Training"
   ]
  },
  {
   "cell_type": "code",
   "execution_count": 44,
   "id": "2eb75380",
   "metadata": {
    "execution": {
     "iopub.execute_input": "2025-07-05T17:29:54.639832Z",
     "iopub.status.busy": "2025-07-05T17:29:54.639567Z",
     "iopub.status.idle": "2025-07-05T17:29:55.064363Z",
     "shell.execute_reply": "2025-07-05T17:29:55.063573Z"
    },
    "papermill": {
     "duration": 0.590082,
     "end_time": "2025-07-05T17:29:55.065487",
     "exception": false,
     "start_time": "2025-07-05T17:29:54.475405",
     "status": "completed"
    },
    "tags": []
   },
   "outputs": [],
   "source": [
    "# Clear previous session to free memory\n",
    "import gc\n",
    "\n",
    "gc.collect()\n",
    "tf.keras.backend.clear_session()"
   ]
  },
  {
   "cell_type": "markdown",
   "id": "99f52edb",
   "metadata": {
    "papermill": {
     "duration": 0.120447,
     "end_time": "2025-07-05T17:29:55.310799",
     "exception": false,
     "start_time": "2025-07-05T17:29:55.190352",
     "status": "completed"
    },
    "tags": []
   },
   "source": [
    "## Splitting data for ***Trainig*** and ***Testing***"
   ]
  },
  {
   "cell_type": "code",
   "execution_count": 45,
   "id": "b056d4c7",
   "metadata": {
    "execution": {
     "iopub.execute_input": "2025-07-05T17:29:55.555887Z",
     "iopub.status.busy": "2025-07-05T17:29:55.555283Z",
     "iopub.status.idle": "2025-07-05T17:29:56.362669Z",
     "shell.execute_reply": "2025-07-05T17:29:56.362025Z"
    },
    "papermill": {
     "duration": 0.931884,
     "end_time": "2025-07-05T17:29:56.363919",
     "exception": false,
     "start_time": "2025-07-05T17:29:55.432035",
     "status": "completed"
    },
    "tags": []
   },
   "outputs": [
    {
     "data": {
      "text/plain": [
       "((2560, 5, 128, 128, 3), (2560,))"
      ]
     },
     "execution_count": 45,
     "metadata": {},
     "output_type": "execute_result"
    }
   ],
   "source": [
    "videos = video_generator.videos\n",
    "labels = video_generator.labels\n",
    "\n",
    "videos = np.array(videos, dtype='float32')\n",
    "labels = np.array(labels)\n",
    "\n",
    "videos.shape, labels.shape"
   ]
  },
  {
   "cell_type": "code",
   "execution_count": 46,
   "id": "eb63a173",
   "metadata": {
    "execution": {
     "iopub.execute_input": "2025-07-05T17:29:56.615134Z",
     "iopub.status.busy": "2025-07-05T17:29:56.614880Z",
     "iopub.status.idle": "2025-07-05T17:29:56.620201Z",
     "shell.execute_reply": "2025-07-05T17:29:56.619628Z"
    },
    "papermill": {
     "duration": 0.13327,
     "end_time": "2025-07-05T17:29:56.621239",
     "exception": false,
     "start_time": "2025-07-05T17:29:56.487969",
     "status": "completed"
    },
    "tags": []
   },
   "outputs": [
    {
     "data": {
      "text/plain": [
       "(2560, 16)"
      ]
     },
     "execution_count": 46,
     "metadata": {},
     "output_type": "execute_result"
    }
   ],
   "source": [
    "from tensorflow.keras.utils import to_categorical\n",
    "\n",
    "one_hot_encoded_labels = to_categorical(labels)\n",
    "\n",
    "one_hot_encoded_labels.shape"
   ]
  },
  {
   "cell_type": "code",
   "execution_count": 47,
   "id": "c00fa264",
   "metadata": {
    "execution": {
     "iopub.execute_input": "2025-07-05T17:29:56.869156Z",
     "iopub.status.busy": "2025-07-05T17:29:56.868902Z",
     "iopub.status.idle": "2025-07-05T17:29:57.072725Z",
     "shell.execute_reply": "2025-07-05T17:29:57.072143Z"
    },
    "papermill": {
     "duration": 0.328789,
     "end_time": "2025-07-05T17:29:57.073784",
     "exception": false,
     "start_time": "2025-07-05T17:29:56.744995",
     "status": "completed"
    },
    "tags": []
   },
   "outputs": [
    {
     "data": {
      "text/plain": [
       "0"
      ]
     },
     "execution_count": 47,
     "metadata": {},
     "output_type": "execute_result"
    }
   ],
   "source": [
    "gc.collect()"
   ]
  },
  {
   "cell_type": "code",
   "execution_count": 48,
   "id": "362c4105",
   "metadata": {
    "execution": {
     "iopub.execute_input": "2025-07-05T17:29:57.364373Z",
     "iopub.status.busy": "2025-07-05T17:29:57.363701Z",
     "iopub.status.idle": "2025-07-05T17:29:58.200724Z",
     "shell.execute_reply": "2025-07-05T17:29:58.199936Z"
    },
    "papermill": {
     "duration": 0.959723,
     "end_time": "2025-07-05T17:29:58.201889",
     "exception": false,
     "start_time": "2025-07-05T17:29:57.242166",
     "status": "completed"
    },
    "tags": []
   },
   "outputs": [
    {
     "data": {
      "text/plain": [
       "((2048, 5, 128, 128, 3), (2048, 16), (512, 5, 128, 128, 3), (512, 16))"
      ]
     },
     "execution_count": 48,
     "metadata": {},
     "output_type": "execute_result"
    }
   ],
   "source": [
    "# RUN Split the Data into Train ( 75% ) and Test Set ( 25% ).\n",
    "from sklearn.model_selection import train_test_split\n",
    "features_train, features_test, labels_train, labels_test = train_test_split(videos,\n",
    "                                                                            one_hot_encoded_labels,\n",
    "                                                                            test_size = TEST_SIZE,\n",
    "                                                                            shuffle = True,\n",
    "                                                                            random_state = seed_constant)\n",
    "\n",
    "features_train.shape, labels_train.shape, features_test.shape, labels_test.shape"
   ]
  },
  {
   "cell_type": "markdown",
   "id": "70593da5",
   "metadata": {
    "papermill": {
     "duration": 0.121858,
     "end_time": "2025-07-05T17:29:58.445077",
     "exception": false,
     "start_time": "2025-07-05T17:29:58.323219",
     "status": "completed"
    },
    "tags": []
   },
   "source": [
    "## Splitting data for ***Training Set*** and ***Validation Set***"
   ]
  },
  {
   "cell_type": "code",
   "execution_count": 49,
   "id": "c53889cd",
   "metadata": {
    "execution": {
     "iopub.execute_input": "2025-07-05T17:29:58.693941Z",
     "iopub.status.busy": "2025-07-05T17:29:58.693397Z",
     "iopub.status.idle": "2025-07-05T17:29:58.699100Z",
     "shell.execute_reply": "2025-07-05T17:29:58.698474Z"
    },
    "papermill": {
     "duration": 0.1301,
     "end_time": "2025-07-05T17:29:58.700153",
     "exception": false,
     "start_time": "2025-07-05T17:29:58.570053",
     "status": "completed"
    },
    "tags": []
   },
   "outputs": [
    {
     "data": {
      "text/plain": [
       "((1638, 5, 128, 128, 3), (1638, 16), (410, 5, 128, 128, 3), (410, 16))"
      ]
     },
     "execution_count": 49,
     "metadata": {},
     "output_type": "execute_result"
    }
   ],
   "source": [
    "# Assuming features_train and labels_train are defined\n",
    "train_set = 1-VALIDATION_SPLIT\n",
    "\n",
    "train_video_frames, val_video_frames = features_train[:int(train_set * len(features_train))], features_train[int(train_set * len(features_train)):]\n",
    "train_labels, val_labels = labels_train[:int(train_set * len(labels_train))], labels_train[int(train_set * len(labels_train)):]\n",
    "\n",
    "train_video_frames.shape, train_labels.shape, val_video_frames.shape, val_labels.shape"
   ]
  },
  {
   "cell_type": "markdown",
   "id": "d3cf6366",
   "metadata": {
    "papermill": {
     "duration": 0.120829,
     "end_time": "2025-07-05T17:29:58.941507",
     "exception": false,
     "start_time": "2025-07-05T17:29:58.820678",
     "status": "completed"
    },
    "tags": []
   },
   "source": [
    "## Use Generator `Video Data Generator`"
   ]
  },
  {
   "cell_type": "code",
   "execution_count": 50,
   "id": "6e1df0fd",
   "metadata": {
    "execution": {
     "iopub.execute_input": "2025-07-05T17:29:59.186451Z",
     "iopub.status.busy": "2025-07-05T17:29:59.185716Z",
     "iopub.status.idle": "2025-07-05T17:29:59.192851Z",
     "shell.execute_reply": "2025-07-05T17:29:59.192299Z"
    },
    "papermill": {
     "duration": 0.131802,
     "end_time": "2025-07-05T17:29:59.193904",
     "exception": false,
     "start_time": "2025-07-05T17:29:59.062102",
     "status": "completed"
    },
    "tags": []
   },
   "outputs": [
    {
     "name": "stdout",
     "output_type": "stream",
     "text": [
      "Total 1638 videos and 1638 classes\n",
      "Total 410 videos and 410 classes\n"
     ]
    },
    {
     "data": {
      "text/plain": [
       "(103, 26)"
      ]
     },
     "execution_count": 50,
     "metadata": {},
     "output_type": "execute_result"
    }
   ],
   "source": [
    "# Create the training and validation generators\n",
    "train_gen = VideoDataGenerator(\n",
    "    videos=train_video_frames, \n",
    "    labels=train_labels, \n",
    "    batch_size=BATCH_SIZE,\n",
    ")\n",
    "\n",
    "val_gen = VideoDataGenerator(\n",
    "    videos=val_video_frames, \n",
    "    labels=val_labels, \n",
    "    batch_size=BATCH_SIZE,\n",
    ")\n",
    "\n",
    "len(train_gen), len(val_gen)"
   ]
  },
  {
   "cell_type": "markdown",
   "id": "068488e5",
   "metadata": {
    "papermill": {
     "duration": 0.121857,
     "end_time": "2025-07-05T17:29:59.481977",
     "exception": false,
     "start_time": "2025-07-05T17:29:59.360120",
     "status": "completed"
    },
    "tags": []
   },
   "source": [
    "## Inspect ***Generator*** Data on Epochs"
   ]
  },
  {
   "cell_type": "code",
   "execution_count": 51,
   "id": "2b9b4099",
   "metadata": {
    "execution": {
     "iopub.execute_input": "2025-07-05T17:29:59.725729Z",
     "iopub.status.busy": "2025-07-05T17:29:59.725135Z",
     "iopub.status.idle": "2025-07-05T17:29:59.734903Z",
     "shell.execute_reply": "2025-07-05T17:29:59.734111Z"
    },
    "papermill": {
     "duration": 0.132515,
     "end_time": "2025-07-05T17:29:59.736041",
     "exception": false,
     "start_time": "2025-07-05T17:29:59.603526",
     "status": "completed"
    },
    "tags": []
   },
   "outputs": [
    {
     "name": "stdout",
     "output_type": "stream",
     "text": [
      "[   0    1    2 ... 1635 1636 1637]\n",
      "[ 658 1561 1395 ...  691  912  158]\n"
     ]
    },
    {
     "data": {
      "text/plain": [
       "(16, (16, 5, 128, 128, 3), (16, 16))"
      ]
     },
     "execution_count": 51,
     "metadata": {},
     "output_type": "execute_result"
    }
   ],
   "source": [
    "features, labels = train_gen[1]\n",
    "\n",
    "print(train_gen.indices)\n",
    "\n",
    "train_gen.on_epoch_end()\n",
    "\n",
    "print(train_gen.indices)\n",
    "\n",
    "BATCH_SIZE, features.shape, labels.shape"
   ]
  },
  {
   "cell_type": "markdown",
   "id": "3a06769d",
   "metadata": {
    "papermill": {
     "duration": 0.11966,
     "end_time": "2025-07-05T17:29:59.977335",
     "exception": false,
     "start_time": "2025-07-05T17:29:59.857675",
     "status": "completed"
    },
    "tags": []
   },
   "source": [
    "## Compute Class Weight"
   ]
  },
  {
   "cell_type": "code",
   "execution_count": 52,
   "id": "e67e1b59",
   "metadata": {
    "execution": {
     "iopub.execute_input": "2025-07-05T17:30:00.223812Z",
     "iopub.status.busy": "2025-07-05T17:30:00.223224Z",
     "iopub.status.idle": "2025-07-05T17:30:00.229769Z",
     "shell.execute_reply": "2025-07-05T17:30:00.229140Z"
    },
    "papermill": {
     "duration": 0.131457,
     "end_time": "2025-07-05T17:30:00.230841",
     "exception": false,
     "start_time": "2025-07-05T17:30:00.099384",
     "status": "completed"
    },
    "tags": []
   },
   "outputs": [
    {
     "name": "stdout",
     "output_type": "stream",
     "text": [
      "Class weights: {0: 1.0, 1: 1.0, 2: 1.0, 3: 1.0, 4: 1.0, 5: 1.0, 6: 1.0, 7: 1.0, 8: 1.0, 9: 1.0, 10: 1.0, 11: 1.0, 12: 1.0, 13: 1.0, 14: 1.0, 15: 1.0}\n"
     ]
    }
   ],
   "source": [
    "from sklearn.utils.class_weight import compute_class_weight\n",
    "import numpy as np\n",
    "\n",
    "# Assuming y_int are integer labels (not one-hot)\n",
    "y_int = np.argmax(one_hot_encoded_labels, axis=1)  # or just integer labels if you have them\n",
    "\n",
    "classes = np.arange(NO_OF_CLASSES)  # e.g. np.arange(16)\n",
    "class_weights_values = compute_class_weight(class_weight='balanced', classes=classes, y=y_int)\n",
    "\n",
    "class_weights = dict(zip(classes, class_weights_values))\n",
    "\n",
    "print(\"Class weights:\", class_weights)\n"
   ]
  },
  {
   "cell_type": "code",
   "execution_count": 53,
   "id": "a37d643c",
   "metadata": {
    "execution": {
     "iopub.execute_input": "2025-07-05T17:30:00.480562Z",
     "iopub.status.busy": "2025-07-05T17:30:00.480268Z",
     "iopub.status.idle": "2025-07-05T17:30:00.687254Z",
     "shell.execute_reply": "2025-07-05T17:30:00.686525Z"
    },
    "papermill": {
     "duration": 0.33164,
     "end_time": "2025-07-05T17:30:00.688535",
     "exception": false,
     "start_time": "2025-07-05T17:30:00.356895",
     "status": "completed"
    },
    "tags": []
   },
   "outputs": [],
   "source": [
    "gc.collect()\n",
    "del videos, one_hot_encoded_labels, labels_train\n",
    "del features_train, val_labels, train_labels\n",
    "del val_video_frames, train_video_frames"
   ]
  },
  {
   "cell_type": "markdown",
   "id": "3879c379",
   "metadata": {
    "papermill": {
     "duration": 0.120651,
     "end_time": "2025-07-05T17:30:00.980115",
     "exception": false,
     "start_time": "2025-07-05T17:30:00.859464",
     "status": "completed"
    },
    "tags": []
   },
   "source": [
    "# ✨ Model Execution\n",
    "## Creating Model"
   ]
  },
  {
   "cell_type": "code",
   "execution_count": 54,
   "id": "8e367c85",
   "metadata": {
    "execution": {
     "iopub.execute_input": "2025-07-05T17:30:01.224563Z",
     "iopub.status.busy": "2025-07-05T17:30:01.223821Z",
     "iopub.status.idle": "2025-07-05T17:30:02.585172Z",
     "shell.execute_reply": "2025-07-05T17:30:02.584595Z"
    },
    "papermill": {
     "duration": 1.484662,
     "end_time": "2025-07-05T17:30:02.586235",
     "exception": false,
     "start_time": "2025-07-05T17:30:01.101573",
     "status": "completed"
    },
    "tags": []
   },
   "outputs": [
    {
     "name": "stdout",
     "output_type": "stream",
     "text": [
      "Loading Xception base model...\n"
     ]
    },
    {
     "name": "stderr",
     "output_type": "stream",
     "text": [
      "/usr/local/lib/python3.11/dist-packages/keras/src/layers/core/wrapper.py:27: UserWarning: Do not pass an `input_shape`/`input_dim` argument to a layer. When using Sequential models, prefer using an `Input(shape)` object as the first layer in the model instead.\n",
      "  super().__init__(**kwargs)\n"
     ]
    },
    {
     "name": "stdout",
     "output_type": "stream",
     "text": [
      "Model architecture created successfully!\n"
     ]
    },
    {
     "data": {
      "text/html": [
       "<pre style=\"white-space:pre;overflow-x:auto;line-height:normal;font-family:Menlo,'DejaVu Sans Mono',consolas,'Courier New',monospace\"><span style=\"font-weight: bold\">Model: \"sequential\"</span>\n",
       "</pre>\n"
      ],
      "text/plain": [
       "\u001b[1mModel: \"sequential\"\u001b[0m\n"
      ]
     },
     "metadata": {},
     "output_type": "display_data"
    },
    {
     "data": {
      "text/html": [
       "<pre style=\"white-space:pre;overflow-x:auto;line-height:normal;font-family:Menlo,'DejaVu Sans Mono',consolas,'Courier New',monospace\">┏━━━━━━━━━━━━━━━━━━━━━━━━━━━━━━━━━━━━━━┳━━━━━━━━━━━━━━━━━━━━━━━━━━━━━┳━━━━━━━━━━━━━━━━━┓\n",
       "┃<span style=\"font-weight: bold\"> Layer (type)                         </span>┃<span style=\"font-weight: bold\"> Output Shape                </span>┃<span style=\"font-weight: bold\">         Param # </span>┃\n",
       "┡━━━━━━━━━━━━━━━━━━━━━━━━━━━━━━━━━━━━━━╇━━━━━━━━━━━━━━━━━━━━━━━━━━━━━╇━━━━━━━━━━━━━━━━━┩\n",
       "│ time_distributed (<span style=\"color: #0087ff; text-decoration-color: #0087ff\">TimeDistributed</span>)   │ (<span style=\"color: #00d7ff; text-decoration-color: #00d7ff\">None</span>, <span style=\"color: #00af00; text-decoration-color: #00af00\">5</span>, <span style=\"color: #00af00; text-decoration-color: #00af00\">4</span>, <span style=\"color: #00af00; text-decoration-color: #00af00\">4</span>, <span style=\"color: #00af00; text-decoration-color: #00af00\">2048</span>)       │      <span style=\"color: #00af00; text-decoration-color: #00af00\">20,861,480</span> │\n",
       "├──────────────────────────────────────┼─────────────────────────────┼─────────────────┤\n",
       "│ time_distributed_1 (<span style=\"color: #0087ff; text-decoration-color: #0087ff\">TimeDistributed</span>) │ (<span style=\"color: #00d7ff; text-decoration-color: #00d7ff\">None</span>, <span style=\"color: #00af00; text-decoration-color: #00af00\">5</span>, <span style=\"color: #00af00; text-decoration-color: #00af00\">2048</span>)             │               <span style=\"color: #00af00; text-decoration-color: #00af00\">0</span> │\n",
       "├──────────────────────────────────────┼─────────────────────────────┼─────────────────┤\n",
       "│ lstm (<span style=\"color: #0087ff; text-decoration-color: #0087ff\">LSTM</span>)                          │ (<span style=\"color: #00d7ff; text-decoration-color: #00d7ff\">None</span>, <span style=\"color: #00af00; text-decoration-color: #00af00\">512</span>)                 │       <span style=\"color: #00af00; text-decoration-color: #00af00\">5,244,928</span> │\n",
       "├──────────────────────────────────────┼─────────────────────────────┼─────────────────┤\n",
       "│ batch_normalization                  │ (<span style=\"color: #00d7ff; text-decoration-color: #00d7ff\">None</span>, <span style=\"color: #00af00; text-decoration-color: #00af00\">512</span>)                 │           <span style=\"color: #00af00; text-decoration-color: #00af00\">2,048</span> │\n",
       "│ (<span style=\"color: #0087ff; text-decoration-color: #0087ff\">BatchNormalization</span>)                 │                             │                 │\n",
       "├──────────────────────────────────────┼─────────────────────────────┼─────────────────┤\n",
       "│ dropout_lstm (<span style=\"color: #0087ff; text-decoration-color: #0087ff\">Dropout</span>)               │ (<span style=\"color: #00d7ff; text-decoration-color: #00d7ff\">None</span>, <span style=\"color: #00af00; text-decoration-color: #00af00\">512</span>)                 │               <span style=\"color: #00af00; text-decoration-color: #00af00\">0</span> │\n",
       "├──────────────────────────────────────┼─────────────────────────────┼─────────────────┤\n",
       "│ dense (<span style=\"color: #0087ff; text-decoration-color: #0087ff\">Dense</span>)                        │ (<span style=\"color: #00d7ff; text-decoration-color: #00d7ff\">None</span>, <span style=\"color: #00af00; text-decoration-color: #00af00\">512</span>)                 │         <span style=\"color: #00af00; text-decoration-color: #00af00\">262,656</span> │\n",
       "├──────────────────────────────────────┼─────────────────────────────┼─────────────────┤\n",
       "│ dropout_dense (<span style=\"color: #0087ff; text-decoration-color: #0087ff\">Dropout</span>)              │ (<span style=\"color: #00d7ff; text-decoration-color: #00d7ff\">None</span>, <span style=\"color: #00af00; text-decoration-color: #00af00\">512</span>)                 │               <span style=\"color: #00af00; text-decoration-color: #00af00\">0</span> │\n",
       "├──────────────────────────────────────┼─────────────────────────────┼─────────────────┤\n",
       "│ dense_1 (<span style=\"color: #0087ff; text-decoration-color: #0087ff\">Dense</span>)                      │ (<span style=\"color: #00d7ff; text-decoration-color: #00d7ff\">None</span>, <span style=\"color: #00af00; text-decoration-color: #00af00\">16</span>)                  │           <span style=\"color: #00af00; text-decoration-color: #00af00\">8,208</span> │\n",
       "└──────────────────────────────────────┴─────────────────────────────┴─────────────────┘\n",
       "</pre>\n"
      ],
      "text/plain": [
       "┏━━━━━━━━━━━━━━━━━━━━━━━━━━━━━━━━━━━━━━┳━━━━━━━━━━━━━━━━━━━━━━━━━━━━━┳━━━━━━━━━━━━━━━━━┓\n",
       "┃\u001b[1m \u001b[0m\u001b[1mLayer (type)                        \u001b[0m\u001b[1m \u001b[0m┃\u001b[1m \u001b[0m\u001b[1mOutput Shape               \u001b[0m\u001b[1m \u001b[0m┃\u001b[1m \u001b[0m\u001b[1m        Param #\u001b[0m\u001b[1m \u001b[0m┃\n",
       "┡━━━━━━━━━━━━━━━━━━━━━━━━━━━━━━━━━━━━━━╇━━━━━━━━━━━━━━━━━━━━━━━━━━━━━╇━━━━━━━━━━━━━━━━━┩\n",
       "│ time_distributed (\u001b[38;5;33mTimeDistributed\u001b[0m)   │ (\u001b[38;5;45mNone\u001b[0m, \u001b[38;5;34m5\u001b[0m, \u001b[38;5;34m4\u001b[0m, \u001b[38;5;34m4\u001b[0m, \u001b[38;5;34m2048\u001b[0m)       │      \u001b[38;5;34m20,861,480\u001b[0m │\n",
       "├──────────────────────────────────────┼─────────────────────────────┼─────────────────┤\n",
       "│ time_distributed_1 (\u001b[38;5;33mTimeDistributed\u001b[0m) │ (\u001b[38;5;45mNone\u001b[0m, \u001b[38;5;34m5\u001b[0m, \u001b[38;5;34m2048\u001b[0m)             │               \u001b[38;5;34m0\u001b[0m │\n",
       "├──────────────────────────────────────┼─────────────────────────────┼─────────────────┤\n",
       "│ lstm (\u001b[38;5;33mLSTM\u001b[0m)                          │ (\u001b[38;5;45mNone\u001b[0m, \u001b[38;5;34m512\u001b[0m)                 │       \u001b[38;5;34m5,244,928\u001b[0m │\n",
       "├──────────────────────────────────────┼─────────────────────────────┼─────────────────┤\n",
       "│ batch_normalization                  │ (\u001b[38;5;45mNone\u001b[0m, \u001b[38;5;34m512\u001b[0m)                 │           \u001b[38;5;34m2,048\u001b[0m │\n",
       "│ (\u001b[38;5;33mBatchNormalization\u001b[0m)                 │                             │                 │\n",
       "├──────────────────────────────────────┼─────────────────────────────┼─────────────────┤\n",
       "│ dropout_lstm (\u001b[38;5;33mDropout\u001b[0m)               │ (\u001b[38;5;45mNone\u001b[0m, \u001b[38;5;34m512\u001b[0m)                 │               \u001b[38;5;34m0\u001b[0m │\n",
       "├──────────────────────────────────────┼─────────────────────────────┼─────────────────┤\n",
       "│ dense (\u001b[38;5;33mDense\u001b[0m)                        │ (\u001b[38;5;45mNone\u001b[0m, \u001b[38;5;34m512\u001b[0m)                 │         \u001b[38;5;34m262,656\u001b[0m │\n",
       "├──────────────────────────────────────┼─────────────────────────────┼─────────────────┤\n",
       "│ dropout_dense (\u001b[38;5;33mDropout\u001b[0m)              │ (\u001b[38;5;45mNone\u001b[0m, \u001b[38;5;34m512\u001b[0m)                 │               \u001b[38;5;34m0\u001b[0m │\n",
       "├──────────────────────────────────────┼─────────────────────────────┼─────────────────┤\n",
       "│ dense_1 (\u001b[38;5;33mDense\u001b[0m)                      │ (\u001b[38;5;45mNone\u001b[0m, \u001b[38;5;34m16\u001b[0m)                  │           \u001b[38;5;34m8,208\u001b[0m │\n",
       "└──────────────────────────────────────┴─────────────────────────────┴─────────────────┘\n"
      ]
     },
     "metadata": {},
     "output_type": "display_data"
    },
    {
     "data": {
      "text/html": [
       "<pre style=\"white-space:pre;overflow-x:auto;line-height:normal;font-family:Menlo,'DejaVu Sans Mono',consolas,'Courier New',monospace\"><span style=\"font-weight: bold\"> Total params: </span><span style=\"color: #00af00; text-decoration-color: #00af00\">26,379,320</span> (100.63 MB)\n",
       "</pre>\n"
      ],
      "text/plain": [
       "\u001b[1m Total params: \u001b[0m\u001b[38;5;34m26,379,320\u001b[0m (100.63 MB)\n"
      ]
     },
     "metadata": {},
     "output_type": "display_data"
    },
    {
     "data": {
      "text/html": [
       "<pre style=\"white-space:pre;overflow-x:auto;line-height:normal;font-family:Menlo,'DejaVu Sans Mono',consolas,'Courier New',monospace\"><span style=\"font-weight: bold\"> Trainable params: </span><span style=\"color: #00af00; text-decoration-color: #00af00\">26,323,768</span> (100.42 MB)\n",
       "</pre>\n"
      ],
      "text/plain": [
       "\u001b[1m Trainable params: \u001b[0m\u001b[38;5;34m26,323,768\u001b[0m (100.42 MB)\n"
      ]
     },
     "metadata": {},
     "output_type": "display_data"
    },
    {
     "data": {
      "text/html": [
       "<pre style=\"white-space:pre;overflow-x:auto;line-height:normal;font-family:Menlo,'DejaVu Sans Mono',consolas,'Courier New',monospace\"><span style=\"font-weight: bold\"> Non-trainable params: </span><span style=\"color: #00af00; text-decoration-color: #00af00\">55,552</span> (217.00 KB)\n",
       "</pre>\n"
      ],
      "text/plain": [
       "\u001b[1m Non-trainable params: \u001b[0m\u001b[38;5;34m55,552\u001b[0m (217.00 KB)\n"
      ]
     },
     "metadata": {},
     "output_type": "display_data"
    },
    {
     "name": "stdout",
     "output_type": "stream",
     "text": [
      "Model Created Successfully!\n"
     ]
    }
   ],
   "source": [
    "# Create the model\n",
    "xlstm_model = create_xception_lstm_model(\n",
    "    sequence_length=SEQUENCE_LENGTH,\n",
    "    image_height=IMAGE_HEIGHT,\n",
    "    image_width=IMAGE_WIDTH,\n",
    "    classes_list=CLASSES_LIST,\n",
    "    dropout_rate=DROPOUT_RATE\n",
    ")\n",
    "\n",
    "# Check if model was created successfully\n",
    "if xlstm_model is None:\n",
    "    print(\"Failed to create model. Check error messages above.\")\n",
    "else:\n",
    "    print(\"Model Created Successfully!\")"
   ]
  },
  {
   "cell_type": "markdown",
   "id": "f228be31",
   "metadata": {
    "papermill": {
     "duration": 0.12139,
     "end_time": "2025-07-05T17:30:02.830730",
     "exception": false,
     "start_time": "2025-07-05T17:30:02.709340",
     "status": "completed"
    },
    "tags": []
   },
   "source": [
    "## Plot Model Structure"
   ]
  },
  {
   "cell_type": "code",
   "execution_count": 55,
   "id": "23a19292",
   "metadata": {
    "execution": {
     "iopub.execute_input": "2025-07-05T17:30:03.079512Z",
     "iopub.status.busy": "2025-07-05T17:30:03.079195Z",
     "iopub.status.idle": "2025-07-05T17:30:03.417035Z",
     "shell.execute_reply": "2025-07-05T17:30:03.416028Z"
    },
    "papermill": {
     "duration": 0.46345,
     "end_time": "2025-07-05T17:30:03.418726",
     "exception": false,
     "start_time": "2025-07-05T17:30:02.955276",
     "status": "completed"
    },
    "tags": []
   },
   "outputs": [
    {
     "name": "stdout",
     "output_type": "stream",
     "text": [
      "Xception Model Plot saved successfully...\n"
     ]
    }
   ],
   "source": [
    "# Plot the structure of the contructed model.\n",
    "from tensorflow.keras.utils import plot_model\n",
    "\n",
    "plot_model(xlstm_model, to_file = f'{MODEL_NAME}_model_Plot.png', show_shapes = True, show_layer_names = True)\n",
    "\n",
    "print(f\"{MODEL_NAME} Model Plot saved successfully...\")"
   ]
  },
  {
   "cell_type": "markdown",
   "id": "3e0ce8bf",
   "metadata": {
    "papermill": {
     "duration": 0.124442,
     "end_time": "2025-07-05T17:30:03.673072",
     "exception": false,
     "start_time": "2025-07-05T17:30:03.548630",
     "status": "completed"
    },
    "tags": []
   },
   "source": [
    "## Model Compile"
   ]
  },
  {
   "cell_type": "code",
   "execution_count": 56,
   "id": "adff5a61",
   "metadata": {
    "execution": {
     "iopub.execute_input": "2025-07-05T17:30:03.966579Z",
     "iopub.status.busy": "2025-07-05T17:30:03.966265Z",
     "iopub.status.idle": "2025-07-05T17:30:03.982103Z",
     "shell.execute_reply": "2025-07-05T17:30:03.981328Z"
    },
    "papermill": {
     "duration": 0.186345,
     "end_time": "2025-07-05T17:30:03.983310",
     "exception": false,
     "start_time": "2025-07-05T17:30:03.796965",
     "status": "completed"
    },
    "tags": []
   },
   "outputs": [],
   "source": [
    "# Create an Instance of Early Stopping Callback\n",
    "from tensorflow.keras.callbacks import EarlyStopping\n",
    "\n",
    "early_stopping_callback = EarlyStopping(monitor = 'val_loss', \n",
    "                                        patience = 7, \n",
    "                                        mode = 'min', \n",
    "                                        restore_best_weights = True)\n",
    "\n",
    "# Compile the model and specify loss function, optimizer and metrics values to the model\n",
    "xlstm_model.compile(loss = 'categorical_crossentropy', \n",
    "                    optimizer=tf.keras.optimizers.Adam(learning_rate=0.0001),\n",
    "                    metrics = [\"accuracy\"])\n"
   ]
  },
  {
   "cell_type": "markdown",
   "id": "47fae15c",
   "metadata": {
    "papermill": {
     "duration": 0.122476,
     "end_time": "2025-07-05T17:30:04.230046",
     "exception": false,
     "start_time": "2025-07-05T17:30:04.107570",
     "status": "completed"
    },
    "tags": []
   },
   "source": [
    "## 💪 Model Fit"
   ]
  },
  {
   "cell_type": "code",
   "execution_count": 57,
   "id": "08da0af0",
   "metadata": {
    "execution": {
     "iopub.execute_input": "2025-07-05T17:30:04.474085Z",
     "iopub.status.busy": "2025-07-05T17:30:04.473402Z",
     "iopub.status.idle": "2025-07-05T17:30:04.479510Z",
     "shell.execute_reply": "2025-07-05T17:30:04.478709Z"
    },
    "papermill": {
     "duration": 0.128589,
     "end_time": "2025-07-05T17:30:04.480556",
     "exception": false,
     "start_time": "2025-07-05T17:30:04.351967",
     "status": "completed"
    },
    "tags": []
   },
   "outputs": [
    {
     "name": "stdout",
     "output_type": "stream",
     "text": [
      "Unique labels: [ 0  1  2  3  4  5  6  7  8  9 10 11 12 13 14 15]\n",
      "NO_OF_CLASSES: 16\n"
     ]
    }
   ],
   "source": [
    "labels = np.argmax(train_gen.labels, axis=1)  # assuming one-hot encoded\n",
    "print(\"Unique labels:\", np.unique(labels))\n",
    "print(\"NO_OF_CLASSES:\", NO_OF_CLASSES)\n"
   ]
  },
  {
   "cell_type": "code",
   "execution_count": 58,
   "id": "2fbfb4a8",
   "metadata": {
    "execution": {
     "iopub.execute_input": "2025-07-05T17:30:04.725458Z",
     "iopub.status.busy": "2025-07-05T17:30:04.724853Z",
     "iopub.status.idle": "2025-07-05T17:30:04.730812Z",
     "shell.execute_reply": "2025-07-05T17:30:04.730102Z"
    },
    "papermill": {
     "duration": 0.130514,
     "end_time": "2025-07-05T17:30:04.731953",
     "exception": false,
     "start_time": "2025-07-05T17:30:04.601439",
     "status": "completed"
    },
    "tags": []
   },
   "outputs": [
    {
     "name": "stdout",
     "output_type": "stream",
     "text": [
      "Train label shape: (1638, 16)\n",
      "Val label shape: (410, 16)\n"
     ]
    }
   ],
   "source": [
    "print(\"Train label shape:\", np.shape(train_gen.labels))\n",
    "print(\"Val label shape:\", np.shape(val_gen.labels))\n"
   ]
  },
  {
   "cell_type": "code",
   "execution_count": 59,
   "id": "064338b7",
   "metadata": {
    "execution": {
     "iopub.execute_input": "2025-07-05T17:30:05.007876Z",
     "iopub.status.busy": "2025-07-05T17:30:05.007299Z",
     "iopub.status.idle": "2025-07-05T18:05:27.985012Z",
     "shell.execute_reply": "2025-07-05T18:05:27.984365Z"
    },
    "papermill": {
     "duration": 2123.127796,
     "end_time": "2025-07-05T18:05:27.986466",
     "exception": false,
     "start_time": "2025-07-05T17:30:04.858670",
     "status": "completed"
    },
    "tags": []
   },
   "outputs": [
    {
     "name": "stdout",
     "output_type": "stream",
     "text": [
      "Dataset - Msrdailyactivity3D Rgb Videos Only\n",
      "There are total 16 classes, selected 16 classes\n",
      "Setting 20 videos/class to train the model.\n",
      "Image size 128x128 with 5 sequence length\n",
      "Dropout rate: 0.5\n",
      "Train-Test split ratio 80/20\n",
      "Validation data from Train set 20.0%\n",
      "\n",
      "\n",
      "Training started for 1638 videos of 16 classes with 410 videos for validation...\n",
      "Epoch 1/30\n"
     ]
    },
    {
     "name": "stderr",
     "output_type": "stream",
     "text": [
      "I0000 00:00:1751736664.335162      86 cuda_dnn.cc:529] Loaded cuDNN version 90300\n"
     ]
    },
    {
     "name": "stdout",
     "output_type": "stream",
     "text": [
      "    103/Unknown \u001b[1m123s\u001b[0m 580ms/step - accuracy: 0.0538 - loss: 28.1338"
     ]
    },
    {
     "name": "stderr",
     "output_type": "stream",
     "text": [
      "/usr/local/lib/python3.11/dist-packages/keras/src/trainers/epoch_iterator.py:151: UserWarning: Your input ran out of data; interrupting training. Make sure that your dataset or generator can generate at least `steps_per_epoch * epochs` batches. You may need to use the `.repeat()` function when building your dataset.\n",
      "  self._interrupted_warning()\n"
     ]
    },
    {
     "name": "stdout",
     "output_type": "stream",
     "text": [
      "\u001b[1m103/103\u001b[0m \u001b[32m━━━━━━━━━━━━━━━━━━━━\u001b[0m\u001b[37m\u001b[0m \u001b[1m132s\u001b[0m 671ms/step - accuracy: 0.0539 - loss: 28.1188 - val_accuracy: 0.0585 - val_loss: 23.6802 - learning_rate: 1.0000e-04\n",
      "Epoch 2/30\n",
      "\u001b[1m103/103\u001b[0m \u001b[32m━━━━━━━━━━━━━━━━━━━━\u001b[0m\u001b[37m\u001b[0m \u001b[1m65s\u001b[0m 633ms/step - accuracy: 0.0699 - loss: 22.3927 - val_accuracy: 0.0707 - val_loss: 18.8414 - learning_rate: 1.0000e-04\n",
      "Epoch 3/30\n",
      "\u001b[1m103/103\u001b[0m \u001b[32m━━━━━━━━━━━━━━━━━━━━\u001b[0m\u001b[37m\u001b[0m \u001b[1m67s\u001b[0m 649ms/step - accuracy: 0.1211 - loss: 17.7744 - val_accuracy: 0.1537 - val_loss: 15.2297 - learning_rate: 1.0000e-04\n",
      "Epoch 4/30\n",
      "\u001b[1m103/103\u001b[0m \u001b[32m━━━━━━━━━━━━━━━━━━━━\u001b[0m\u001b[37m\u001b[0m \u001b[1m68s\u001b[0m 660ms/step - accuracy: 0.2425 - loss: 14.2932 - val_accuracy: 0.3585 - val_loss: 12.5491 - learning_rate: 1.0000e-04\n",
      "Epoch 5/30\n",
      "\u001b[1m103/103\u001b[0m \u001b[32m━━━━━━━━━━━━━━━━━━━━\u001b[0m\u001b[37m\u001b[0m \u001b[1m68s\u001b[0m 665ms/step - accuracy: 0.4410 - loss: 11.6109 - val_accuracy: 0.5756 - val_loss: 10.3608 - learning_rate: 1.0000e-04\n",
      "Epoch 6/30\n",
      "\u001b[1m103/103\u001b[0m \u001b[32m━━━━━━━━━━━━━━━━━━━━\u001b[0m\u001b[37m\u001b[0m \u001b[1m69s\u001b[0m 669ms/step - accuracy: 0.6419 - loss: 9.7191 - val_accuracy: 0.6878 - val_loss: 8.9174 - learning_rate: 1.0000e-04\n",
      "Epoch 7/30\n",
      "\u001b[1m103/103\u001b[0m \u001b[32m━━━━━━━━━━━━━━━━━━━━\u001b[0m\u001b[37m\u001b[0m \u001b[1m69s\u001b[0m 668ms/step - accuracy: 0.8149 - loss: 8.3498 - val_accuracy: 0.7829 - val_loss: 8.0374 - learning_rate: 1.0000e-04\n",
      "Epoch 8/30\n",
      "\u001b[1m103/103\u001b[0m \u001b[32m━━━━━━━━━━━━━━━━━━━━\u001b[0m\u001b[37m\u001b[0m \u001b[1m69s\u001b[0m 670ms/step - accuracy: 0.9189 - loss: 7.4780 - val_accuracy: 0.8122 - val_loss: 7.4365 - learning_rate: 1.0000e-04\n",
      "Epoch 9/30\n",
      "\u001b[1m103/103\u001b[0m \u001b[32m━━━━━━━━━━━━━━━━━━━━\u001b[0m\u001b[37m\u001b[0m \u001b[1m69s\u001b[0m 670ms/step - accuracy: 0.9533 - loss: 6.8918 - val_accuracy: 0.8683 - val_loss: 6.8993 - learning_rate: 1.0000e-04\n",
      "Epoch 10/30\n",
      "\u001b[1m103/103\u001b[0m \u001b[32m━━━━━━━━━━━━━━━━━━━━\u001b[0m\u001b[37m\u001b[0m \u001b[1m69s\u001b[0m 669ms/step - accuracy: 0.9757 - loss: 6.3945 - val_accuracy: 0.8171 - val_loss: 6.6189 - learning_rate: 1.0000e-04\n",
      "Epoch 11/30\n",
      "\u001b[1m103/103\u001b[0m \u001b[32m━━━━━━━━━━━━━━━━━━━━\u001b[0m\u001b[37m\u001b[0m \u001b[1m69s\u001b[0m 668ms/step - accuracy: 0.9819 - loss: 5.9786 - val_accuracy: 0.8732 - val_loss: 6.0432 - learning_rate: 1.0000e-04\n",
      "Epoch 12/30\n",
      "\u001b[1m103/103\u001b[0m \u001b[32m━━━━━━━━━━━━━━━━━━━━\u001b[0m\u001b[37m\u001b[0m \u001b[1m69s\u001b[0m 670ms/step - accuracy: 0.9905 - loss: 5.5616 - val_accuracy: 0.8951 - val_loss: 5.5953 - learning_rate: 1.0000e-04\n",
      "Epoch 13/30\n",
      "\u001b[1m103/103\u001b[0m \u001b[32m━━━━━━━━━━━━━━━━━━━━\u001b[0m\u001b[37m\u001b[0m \u001b[1m69s\u001b[0m 669ms/step - accuracy: 0.9941 - loss: 5.1568 - val_accuracy: 0.9024 - val_loss: 5.2278 - learning_rate: 1.0000e-04\n",
      "Epoch 14/30\n",
      "\u001b[1m103/103\u001b[0m \u001b[32m━━━━━━━━━━━━━━━━━━━━\u001b[0m\u001b[37m\u001b[0m \u001b[1m69s\u001b[0m 669ms/step - accuracy: 0.9973 - loss: 4.7827 - val_accuracy: 0.8829 - val_loss: 4.8922 - learning_rate: 1.0000e-04\n",
      "Epoch 15/30\n",
      "\u001b[1m103/103\u001b[0m \u001b[32m━━━━━━━━━━━━━━━━━━━━\u001b[0m\u001b[37m\u001b[0m \u001b[1m69s\u001b[0m 670ms/step - accuracy: 0.9977 - loss: 4.4146 - val_accuracy: 0.8927 - val_loss: 4.4625 - learning_rate: 1.0000e-04\n",
      "Epoch 16/30\n",
      "\u001b[1m103/103\u001b[0m \u001b[32m━━━━━━━━━━━━━━━━━━━━\u001b[0m\u001b[37m\u001b[0m \u001b[1m69s\u001b[0m 668ms/step - accuracy: 0.9992 - loss: 4.0518 - val_accuracy: 0.8976 - val_loss: 4.0912 - learning_rate: 1.0000e-04\n",
      "Epoch 17/30\n",
      "\u001b[1m103/103\u001b[0m \u001b[32m━━━━━━━━━━━━━━━━━━━━\u001b[0m\u001b[37m\u001b[0m \u001b[1m69s\u001b[0m 669ms/step - accuracy: 0.9975 - loss: 3.7107 - val_accuracy: 0.9073 - val_loss: 3.7721 - learning_rate: 1.0000e-04\n",
      "Epoch 18/30\n",
      "\u001b[1m103/103\u001b[0m \u001b[32m━━━━━━━━━━━━━━━━━━━━\u001b[0m\u001b[37m\u001b[0m \u001b[1m69s\u001b[0m 670ms/step - accuracy: 0.9991 - loss: 3.3799 - val_accuracy: 0.9146 - val_loss: 3.4304 - learning_rate: 1.0000e-04\n",
      "Epoch 19/30\n",
      "\u001b[1m103/103\u001b[0m \u001b[32m━━━━━━━━━━━━━━━━━━━━\u001b[0m\u001b[37m\u001b[0m \u001b[1m69s\u001b[0m 668ms/step - accuracy: 0.9993 - loss: 3.0647 - val_accuracy: 0.9195 - val_loss: 3.1167 - learning_rate: 1.0000e-04\n",
      "Epoch 20/30\n",
      "\u001b[1m103/103\u001b[0m \u001b[32m━━━━━━━━━━━━━━━━━━━━\u001b[0m\u001b[37m\u001b[0m \u001b[1m69s\u001b[0m 668ms/step - accuracy: 0.9993 - loss: 2.7662 - val_accuracy: 0.9220 - val_loss: 2.8243 - learning_rate: 1.0000e-04\n",
      "Epoch 21/30\n",
      "\u001b[1m103/103\u001b[0m \u001b[32m━━━━━━━━━━━━━━━━━━━━\u001b[0m\u001b[37m\u001b[0m \u001b[1m69s\u001b[0m 668ms/step - accuracy: 1.0000 - loss: 2.4847 - val_accuracy: 0.9293 - val_loss: 2.5430 - learning_rate: 1.0000e-04\n",
      "Epoch 22/30\n",
      "\u001b[1m103/103\u001b[0m \u001b[32m━━━━━━━━━━━━━━━━━━━━\u001b[0m\u001b[37m\u001b[0m \u001b[1m69s\u001b[0m 670ms/step - accuracy: 1.0000 - loss: 2.2188 - val_accuracy: 0.9220 - val_loss: 2.2871 - learning_rate: 1.0000e-04\n",
      "Epoch 23/30\n",
      "\u001b[1m103/103\u001b[0m \u001b[32m━━━━━━━━━━━━━━━━━━━━\u001b[0m\u001b[37m\u001b[0m \u001b[1m69s\u001b[0m 669ms/step - accuracy: 1.0000 - loss: 1.9730 - val_accuracy: 0.9317 - val_loss: 2.0424 - learning_rate: 1.0000e-04\n",
      "Epoch 24/30\n",
      "\u001b[1m103/103\u001b[0m \u001b[32m━━━━━━━━━━━━━━━━━━━━\u001b[0m\u001b[37m\u001b[0m \u001b[1m69s\u001b[0m 668ms/step - accuracy: 1.0000 - loss: 1.7425 - val_accuracy: 0.9220 - val_loss: 1.8399 - learning_rate: 1.0000e-04\n",
      "Epoch 25/30\n",
      "\u001b[1m103/103\u001b[0m \u001b[32m━━━━━━━━━━━━━━━━━━━━\u001b[0m\u001b[37m\u001b[0m \u001b[1m69s\u001b[0m 670ms/step - accuracy: 1.0000 - loss: 1.5332 - val_accuracy: 0.9244 - val_loss: 1.6391 - learning_rate: 1.0000e-04\n",
      "Epoch 26/30\n",
      "\u001b[1m103/103\u001b[0m \u001b[32m━━━━━━━━━━━━━━━━━━━━\u001b[0m\u001b[37m\u001b[0m \u001b[1m69s\u001b[0m 668ms/step - accuracy: 1.0000 - loss: 1.3413 - val_accuracy: 0.9268 - val_loss: 1.4704 - learning_rate: 1.0000e-04\n",
      "Epoch 27/30\n",
      "\u001b[1m103/103\u001b[0m \u001b[32m━━━━━━━━━━━━━━━━━━━━\u001b[0m\u001b[37m\u001b[0m \u001b[1m69s\u001b[0m 668ms/step - accuracy: 1.0000 - loss: 1.1663 - val_accuracy: 0.9220 - val_loss: 1.2955 - learning_rate: 1.0000e-04\n",
      "Epoch 28/30\n",
      "\u001b[1m103/103\u001b[0m \u001b[32m━━━━━━━━━━━━━━━━━━━━\u001b[0m\u001b[37m\u001b[0m \u001b[1m69s\u001b[0m 669ms/step - accuracy: 1.0000 - loss: 1.0128 - val_accuracy: 0.9268 - val_loss: 1.1586 - learning_rate: 1.0000e-04\n",
      "Epoch 29/30\n",
      "\u001b[1m103/103\u001b[0m \u001b[32m━━━━━━━━━━━━━━━━━━━━\u001b[0m\u001b[37m\u001b[0m \u001b[1m69s\u001b[0m 668ms/step - accuracy: 1.0000 - loss: 0.8711 - val_accuracy: 0.9341 - val_loss: 1.0326 - learning_rate: 1.0000e-04\n",
      "Epoch 30/30\n",
      "\u001b[1m103/103\u001b[0m \u001b[32m━━━━━━━━━━━━━━━━━━━━\u001b[0m\u001b[37m\u001b[0m \u001b[1m69s\u001b[0m 669ms/step - accuracy: 1.0000 - loss: 0.7468 - val_accuracy: 0.9317 - val_loss: 0.9307 - learning_rate: 1.0000e-04\n"
     ]
    }
   ],
   "source": [
    "from tensorflow.keras.callbacks import ReduceLROnPlateau\n",
    "\n",
    "lr_scheduler = ReduceLROnPlateau(monitor='val_loss', \n",
    "                                 factor=0.5, \n",
    "                                 patience=3, \n",
    "                                 min_lr=1e-6)\n",
    "\n",
    "\n",
    "\n",
    "print(f\"Dataset - {DATASET_NAME}\")\n",
    "print(f\"There are total {len(ALL_CLASS_NAMES)} classes, selected {NO_OF_CLASSES} classes\")\n",
    "print(f\"Setting {MAX_VIDEO_PER_CLASS} videos/class to train the model.\")\n",
    "print(f\"Image size {IMAGE_HEIGHT}x{IMAGE_WIDTH} with {SEQUENCE_LENGTH} sequence length\")\n",
    "print(f\"Dropout rate: {DROPOUT_RATE}\")\n",
    "print(f\"Train-Test split ratio {int((1-TEST_SIZE)*100)}/{int(TEST_SIZE*100)}\")\n",
    "print(f\"Validation data from Train set {VALIDATION_SPLIT*100}%\")\n",
    "\n",
    "print(\"\\n\")\n",
    "\n",
    "print(f\"Training started for {len(train_gen.videos)} videos of {NO_OF_CLASSES} classes with {len(val_gen.videos)} videos for validation...\")\n",
    "\n",
    "model_history = xlstm_model.fit(\n",
    "    train_gen.as_dataset(),\n",
    "    validation_data=val_gen.as_dataset(),\n",
    "    epochs=EPOCHS,\n",
    "    # class_weight=class_weight_dict,\n",
    "    callbacks=[early_stopping_callback, lr_scheduler]\n",
    ")"
   ]
  },
  {
   "cell_type": "markdown",
   "id": "75bc6765",
   "metadata": {
    "papermill": {
     "duration": 0.305123,
     "end_time": "2025-07-05T18:05:28.544579",
     "exception": false,
     "start_time": "2025-07-05T18:05:28.239456",
     "status": "completed"
    },
    "tags": []
   },
   "source": [
    "# Evaluation"
   ]
  },
  {
   "cell_type": "markdown",
   "id": "b66d04e0",
   "metadata": {
    "papermill": {
     "duration": 0.256014,
     "end_time": "2025-07-05T18:05:29.056097",
     "exception": false,
     "start_time": "2025-07-05T18:05:28.800083",
     "status": "completed"
    },
    "tags": []
   },
   "source": [
    "## ⚡ Model Evaluate"
   ]
  },
  {
   "cell_type": "code",
   "execution_count": 60,
   "id": "91b87189",
   "metadata": {
    "execution": {
     "iopub.execute_input": "2025-07-05T18:05:29.614800Z",
     "iopub.status.busy": "2025-07-05T18:05:29.614513Z",
     "iopub.status.idle": "2025-07-05T18:05:36.005018Z",
     "shell.execute_reply": "2025-07-05T18:05:36.004456Z"
    },
    "papermill": {
     "duration": 6.695806,
     "end_time": "2025-07-05T18:05:36.006278",
     "exception": false,
     "start_time": "2025-07-05T18:05:29.310472",
     "status": "completed"
    },
    "tags": []
   },
   "outputs": [
    {
     "name": "stdout",
     "output_type": "stream",
     "text": [
      "\u001b[1m16/16\u001b[0m \u001b[32m━━━━━━━━━━━━━━━━━━━━\u001b[0m\u001b[37m\u001b[0m \u001b[1m5s\u001b[0m 280ms/step - accuracy: 0.9147 - loss: 0.9450\n"
     ]
    }
   ],
   "source": [
    "# previous code\n",
    "model_evaluation_history = xlstm_model.evaluate(features_test, labels_test)"
   ]
  },
  {
   "cell_type": "code",
   "execution_count": 61,
   "id": "eb41b8de",
   "metadata": {
    "execution": {
     "iopub.execute_input": "2025-07-05T18:05:36.516462Z",
     "iopub.status.busy": "2025-07-05T18:05:36.516131Z",
     "iopub.status.idle": "2025-07-05T18:05:36.885461Z",
     "shell.execute_reply": "2025-07-05T18:05:36.884777Z"
    },
    "papermill": {
     "duration": 0.625063,
     "end_time": "2025-07-05T18:05:36.887167",
     "exception": false,
     "start_time": "2025-07-05T18:05:36.262104",
     "status": "completed"
    },
    "tags": []
   },
   "outputs": [
    {
     "data": {
      "image/png": "[encoded data removed]",
      "text/plain": [
       "<Figure size 1200x500 with 2 Axes>"
      ]
     },
     "metadata": {},
     "output_type": "display_data"
    }
   ],
   "source": [
    "import matplotlib.pyplot as plt\n",
    "\n",
    "# Accuracy\n",
    "plt.figure(figsize=(12, 5))\n",
    "\n",
    "plt.subplot(1, 2, 1)\n",
    "plt.plot(model_history.history['accuracy'], label='Train Accuracy')\n",
    "plt.plot(model_history.history['val_accuracy'], label='Validation Accuracy')\n",
    "plt.title('Model Accuracy')\n",
    "plt.xlabel('Epoch')\n",
    "plt.ylabel('Accuracy')\n",
    "plt.legend()\n",
    "\n",
    "# Loss\n",
    "plt.subplot(1, 2, 2)\n",
    "plt.plot(model_history.history['loss'], label='Train Loss')\n",
    "plt.plot(model_history.history['val_loss'], label='Validation Loss')\n",
    "plt.title('Model Loss')\n",
    "plt.xlabel('Epoch')\n",
    "plt.ylabel('Loss')\n",
    "plt.legend()\n",
    "\n",
    "plt.tight_layout()\n",
    "plt.show()\n"
   ]
  },
  {
   "cell_type": "markdown",
   "id": "6c6e00e3",
   "metadata": {
    "papermill": {
     "duration": 0.25473,
     "end_time": "2025-07-05T18:05:37.396947",
     "exception": false,
     "start_time": "2025-07-05T18:05:37.142217",
     "status": "completed"
    },
    "tags": []
   },
   "source": [
    "## 📈 Confusion Matrix"
   ]
  },
  {
   "cell_type": "code",
   "execution_count": 62,
   "id": "56af8057",
   "metadata": {
    "execution": {
     "iopub.execute_input": "2025-07-05T18:05:37.962695Z",
     "iopub.status.busy": "2025-07-05T18:05:37.962410Z",
     "iopub.status.idle": "2025-07-05T18:05:50.561088Z",
     "shell.execute_reply": "2025-07-05T18:05:50.560346Z"
    },
    "papermill": {
     "duration": 12.908106,
     "end_time": "2025-07-05T18:05:50.562339",
     "exception": false,
     "start_time": "2025-07-05T18:05:37.654233",
     "status": "completed"
    },
    "tags": []
   },
   "outputs": [
    {
     "name": "stdout",
     "output_type": "stream",
     "text": [
      "Total 512 videos and 512 classes\n",
      "\u001b[1m128/128\u001b[0m \u001b[32m━━━━━━━━━━━━━━━━━━━━\u001b[0m\u001b[37m\u001b[0m \u001b[1m11s\u001b[0m 51ms/step\n",
      "True classes shape: (512,)\n",
      "Predicted classes shape: (512,)\n",
      "Classification Report:\n",
      "                    precision    recall  f1-score   support\n",
      "\n",
      "  write on a paper       0.79      0.79      0.79        29\n",
      "        use laptop       0.88      0.97      0.92        36\n",
      "         read book       0.96      0.93      0.95        29\n",
      "         sit still       0.97      0.84      0.90        37\n",
      "             drink       0.69      0.83      0.75        35\n",
      "          sit down       1.00      0.97      0.99        38\n",
      "use vacuum cleaner       1.00      1.00      1.00        28\n",
      "               eat       1.00      1.00      1.00        28\n",
      "       play guitar       1.00      0.97      0.99        39\n",
      "  lie down on sofa       0.97      1.00      0.98        28\n",
      "          stand up       0.92      1.00      0.96        36\n",
      "        toss paper       0.93      0.89      0.91        28\n",
      "              walk       1.00      0.83      0.91        30\n",
      "         play game       0.83      0.92      0.87        26\n",
      "          cheer up       0.89      0.86      0.88        37\n",
      "    call cellphone       0.76      0.68      0.72        28\n",
      "\n",
      "          accuracy                           0.91       512\n",
      "         macro avg       0.91      0.91      0.91       512\n",
      "      weighted avg       0.91      0.91      0.91       512\n",
      "\n"
     ]
    },
    {
     "name": "stderr",
     "output_type": "stream",
     "text": [
      "/usr/local/lib/python3.11/dist-packages/keras/src/trainers/epoch_iterator.py:151: UserWarning: Your input ran out of data; interrupting training. Make sure that your dataset or generator can generate at least `steps_per_epoch * epochs` batches. You may need to use the `.repeat()` function when building your dataset.\n",
      "  self._interrupted_warning()\n"
     ]
    },
    {
     "data": {
      "image/png": "[encoded data removed]",
      "text/plain": [
       "<Figure size 800x600 with 2 Axes>"
      ]
     },
     "metadata": {},
     "output_type": "display_data"
    }
   ],
   "source": [
    "from sklearn.metrics import classification_report, confusion_matrix\n",
    "import seaborn as sns\n",
    "import matplotlib.pyplot as plt\n",
    "\n",
    "# Create test generator with batch_size matching test set size\n",
    "test_gen = VideoDataGenerator(\n",
    "    videos=features_test,\n",
    "    labels=labels_test,\n",
    "    batch_size=4,  # Process all test samples at once\n",
    ")\n",
    "\n",
    "# Get predictions\n",
    "predictions = xlstm_model.predict(test_gen.as_dataset())\n",
    "predicted_classes = np.argmax(predictions, axis=1)\n",
    "true_classes = np.argmax(labels_test, axis=1)\n",
    "\n",
    "# Verify shapes\n",
    "print(f\"True classes shape: {true_classes.shape}\")\n",
    "print(f\"Predicted classes shape: {predicted_classes.shape}\")\n",
    "assert len(true_classes) == len(predicted_classes), \"Sample counts do not match!\"\n",
    "\n",
    "# Generate classification report\n",
    "print(\"Classification Report:\")\n",
    "print(classification_report(true_classes, predicted_classes, target_names=CLASSES_LIST))\n",
    "\n",
    "# Plot confusion matrix\n",
    "cm = confusion_matrix(true_classes, predicted_classes)\n",
    "plt.figure(figsize=(8, 6))\n",
    "sns.heatmap(cm, annot=True, fmt='d', cmap='Blues', xticklabels=CLASSES_LIST, yticklabels=CLASSES_LIST[-1])\n",
    "plt.xlabel('Predicted')\n",
    "plt.ylabel('True')\n",
    "plt.title('Confusion Matrix')\n",
    "plt.show()"
   ]
  }
 ],
 "metadata": {
  "kaggle": {
   "accelerator": "nvidiaTeslaT4",
   "dataSources": [
    {
     "datasetId": 1357563,
     "sourceId": 2256095,
     "sourceType": "datasetVersion"
    },
    {
     "datasetId": 7763484,
     "sourceId": 12338519,
     "sourceType": "datasetVersion"
    },
    {
     "datasetId": 7801884,
     "sourceId": 12373562,
     "sourceType": "datasetVersion"
    }
   ],
   "dockerImageVersionId": 31040,
   "isGpuEnabled": true,
   "isInternetEnabled": true,
   "language": "python",
   "sourceType": "notebook"
  },
  "kernelspec": {
   "display_name": "Python 3",
   "language": "python",
   "name": "python3"
  },
  "language_info": {
   "codemirror_mode": {
    "name": "ipython",
    "version": 3
   },
   "file_extension": ".py",
   "mimetype": "text/x-python",
   "name": "python",
   "nbconvert_exporter": "python",
   "pygments_lexer": "ipython3",
   "version": "3.11.11"
  },
  "papermill": {
   "default_parameters": {},
   "duration": 2284.785928,
   "end_time": "2025-07-05T18:05:54.310946",
   "environment_variables": {},
   "exception": null,
   "input_path": "__notebook__.ipynb",
   "output_path": "__notebook__.ipynb",
   "parameters": {},
   "start_time": "2025-07-05T17:27:49.525018",
   "version": "2.6.0"
  }
 },
 "nbformat": 4,
 "nbformat_minor": 5
}
