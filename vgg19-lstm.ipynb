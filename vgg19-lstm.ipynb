{
 "cells": [
  {
   "cell_type": "markdown",
   "id": "1beed851",
   "metadata": {
    "papermill": {
     "duration": 0.011469,
     "end_time": "2025-07-11T10:11:59.968814",
     "exception": false,
     "start_time": "2025-07-11T10:11:59.957345",
     "status": "completed"
    },
    "tags": []
   },
   "source": [
    "# Initialization\n",
    "## Import Libraries"
   ]
  },
  {
   "cell_type": "code",
   "execution_count": 1,
   "id": "0be1bb91",
   "metadata": {
    "_cell_guid": "b1076dfc-b9ad-4769-8c92-a6c4dae69d19",
    "_uuid": "8f2839f25d086af736a60e9eeb907d3b93b6e0e5",
    "execution": {
     "iopub.execute_input": "2025-07-11T10:11:59.990248Z",
     "iopub.status.busy": "2025-07-11T10:11:59.989472Z",
     "iopub.status.idle": "2025-07-11T10:12:15.134158Z",
     "shell.execute_reply": "2025-07-11T10:12:15.133540Z"
    },
    "papermill": {
     "duration": 15.156789,
     "end_time": "2025-07-11T10:12:15.135556",
     "exception": false,
     "start_time": "2025-07-11T10:11:59.978767",
     "status": "completed"
    },
    "tags": []
   },
   "outputs": [
    {
     "name": "stderr",
     "output_type": "stream",
     "text": [
      "2025-07-11 10:12:01.528544: E external/local_xla/xla/stream_executor/cuda/cuda_fft.cc:477] Unable to register cuFFT factory: Attempting to register factory for plugin cuFFT when one has already been registered\n",
      "WARNING: All log messages before absl::InitializeLog() is called are written to STDERR\n",
      "E0000 00:00:1752228721.728982      19 cuda_dnn.cc:8310] Unable to register cuDNN factory: Attempting to register factory for plugin cuDNN when one has already been registered\n",
      "E0000 00:00:1752228721.787435      19 cuda_blas.cc:1418] Unable to register cuBLAS factory: Attempting to register factory for plugin cuBLAS when one has already been registered\n"
     ]
    }
   ],
   "source": [
    "# install librarires\n",
    "import os\n",
    "import tensorflow as tf\n",
    "import numpy as np\n",
    "import random"
   ]
  },
  {
   "cell_type": "markdown",
   "id": "a94d4ae3",
   "metadata": {
    "papermill": {
     "duration": 0.011246,
     "end_time": "2025-07-11T10:12:15.157902",
     "exception": false,
     "start_time": "2025-07-11T10:12:15.146656",
     "status": "completed"
    },
    "tags": []
   },
   "source": [
    "## ℹ️ Set Global Constants"
   ]
  },
  {
   "cell_type": "code",
   "execution_count": 2,
   "id": "39a51770",
   "metadata": {
    "execution": {
     "iopub.execute_input": "2025-07-11T10:12:15.183482Z",
     "iopub.status.busy": "2025-07-11T10:12:15.182940Z",
     "iopub.status.idle": "2025-07-11T10:12:15.197870Z",
     "shell.execute_reply": "2025-07-11T10:12:15.197082Z"
    },
    "papermill": {
     "duration": 0.028896,
     "end_time": "2025-07-11T10:12:15.199366",
     "exception": false,
     "start_time": "2025-07-11T10:12:15.170470",
     "status": "completed"
    },
    "tags": []
   },
   "outputs": [
    {
     "name": "stdout",
     "output_type": "stream",
     "text": [
      "Ucf50\n",
      "There are total 50 classes, selected 11 classes\n",
      "Setting 20/class to train the model.\n",
      "Image size 128x128 with 5 sequence length\n",
      "Dropout rate: 0.5\n",
      "Train-Test split ratio 80/20\n",
      "Validation data from Train set 20.0%\n"
     ]
    }
   ],
   "source": [
    "# global variables\n",
    "# set dataset directories\n",
    "\n",
    "\n",
    "DATASET_DIR = \"/kaggle/input/ucf50/UCF50\"\n",
    "DATASET_NAME = DATASET_DIR.split(\"/\")[-1].replace(\"-\", \" \").title()\n",
    "\n",
    "print(DATASET_NAME)\n",
    "\n",
    "ALL_CLASS_NAMES = os.listdir(DATASET_DIR)\n",
    "\n",
    "# Global constant variables -> \n",
    "NO_OF_CLASSES = 11\n",
    "CLASSES_LIST = [\n",
    "    \"Basketball\",\n",
    "    \"Biking\",\n",
    "    \"Diving\",\n",
    "    \"GolfSwing\",\n",
    "    \"HorseRiding\",\n",
    "    \"Skiing\",\n",
    "    # \"Running\", # not found in UCF50, so took an outdoor class\n",
    "    \"SkateBoarding\",\n",
    "    \"Swing\",\n",
    "    \"TennisSwing\",\n",
    "    \"TrampolineJumping\",\n",
    "    \"WalkingWithDog\"\n",
    "]\n",
    "\n",
    "\n",
    "# Model Configuration\n",
    "IMAGE_HEIGHT, IMAGE_WIDTH = 128, 128\n",
    "SEQUENCE_LENGTH = 5\n",
    "\n",
    "# set drop out rate\n",
    "DROPOUT_RATE = 0.5\n",
    "\n",
    "# set datas\n",
    "MAX_VIDEO_PER_CLASS = 20\n",
    "\n",
    "# split dataset\n",
    "TEST_SIZE = 0.20\n",
    "\n",
    "# model fit parameters\n",
    "EPOCHS = 30\n",
    "BATCH_SIZE = 24\n",
    "VALIDATION_SPLIT = 0.20\n",
    "\n",
    "# augmentation values\n",
    "NOISE_FACTOR = 0.02\n",
    "SHEAR_X= 1\n",
    "SHEAR_Y= 1\n",
    "\n",
    "# give a name of the model to save\n",
    "MODEL_NAME = \"Xception\"\n",
    "\n",
    "print(f\"There are total {len(ALL_CLASS_NAMES)} classes, selected {NO_OF_CLASSES} classes\")\n",
    "print(f\"Setting {MAX_VIDEO_PER_CLASS}/class to train the model.\")\n",
    "print(f\"Image size {IMAGE_HEIGHT}x{IMAGE_WIDTH} with {SEQUENCE_LENGTH} sequence length\")\n",
    "print(f\"Dropout rate: {DROPOUT_RATE}\")\n",
    "print(f\"Train-Test split ratio {int((1-TEST_SIZE)*100)}/{int(TEST_SIZE*100)}\")\n",
    "print(f\"Validation data from Train set {VALIDATION_SPLIT*100}%\")"
   ]
  },
  {
   "cell_type": "markdown",
   "id": "083df266",
   "metadata": {
    "papermill": {
     "duration": 0.013148,
     "end_time": "2025-07-11T10:12:15.224322",
     "exception": false,
     "start_time": "2025-07-11T10:12:15.211174",
     "status": "completed"
    },
    "tags": []
   },
   "source": [
    "## Set `Seed` Values"
   ]
  },
  {
   "cell_type": "code",
   "execution_count": 3,
   "id": "2553d0e8",
   "metadata": {
    "execution": {
     "iopub.execute_input": "2025-07-11T10:12:15.245501Z",
     "iopub.status.busy": "2025-07-11T10:12:15.245282Z",
     "iopub.status.idle": "2025-07-11T10:12:15.249005Z",
     "shell.execute_reply": "2025-07-11T10:12:15.248352Z"
    },
    "papermill": {
     "duration": 0.01548,
     "end_time": "2025-07-11T10:12:15.250203",
     "exception": false,
     "start_time": "2025-07-11T10:12:15.234723",
     "status": "completed"
    },
    "tags": []
   },
   "outputs": [],
   "source": [
    "# set seeed to get similar values\n",
    "seed_constant = 27\n",
    "np.random.seed(seed_constant)\n",
    "random.seed(seed_constant)\n",
    "tf.random.set_seed(seed_constant)"
   ]
  },
  {
   "cell_type": "markdown",
   "id": "4d27332b",
   "metadata": {
    "papermill": {
     "duration": 0.009819,
     "end_time": "2025-07-11T10:12:15.270002",
     "exception": false,
     "start_time": "2025-07-11T10:12:15.260183",
     "status": "completed"
    },
    "tags": []
   },
   "source": [
    "# 📌 Function Definition\n",
    "## Resize and Frame Extraction"
   ]
  },
  {
   "cell_type": "code",
   "execution_count": 4,
   "id": "f7154bc7",
   "metadata": {
    "execution": {
     "iopub.execute_input": "2025-07-11T10:12:15.291486Z",
     "iopub.status.busy": "2025-07-11T10:12:15.290894Z",
     "iopub.status.idle": "2025-07-11T10:12:15.304482Z",
     "shell.execute_reply": "2025-07-11T10:12:15.303894Z"
    },
    "papermill": {
     "duration": 0.02557,
     "end_time": "2025-07-11T10:12:15.305555",
     "exception": false,
     "start_time": "2025-07-11T10:12:15.279985",
     "status": "completed"
    },
    "tags": []
   },
   "outputs": [],
   "source": [
    "import cv2\n",
    "from concurrent.futures import ThreadPoolExecutor\n",
    "\n",
    "def resize_and_normalize_frame(frame, image_height, image_width):\n",
    "    try:\n",
    "        resized_frame = cv2.resize(frame, (image_width, image_height), interpolation=cv2.INTER_LINEAR)\n",
    "        normalized_frame = resized_frame / 255.0\n",
    "        return normalized_frame\n",
    "    except Exception as e:\n",
    "        print(f\"Error processing frame: {e}\")\n",
    "        return None\n",
    "\n",
    "def frames_extraction(video_path, \n",
    "                      sequence_length=SEQUENCE_LENGTH, \n",
    "                      image_height=IMAGE_HEIGHT, \n",
    "                      image_width=IMAGE_WIDTH):\n",
    "    # Declare a list to store video frames\n",
    "    frames_list = []\n",
    "\n",
    "    # Check if video file exists\n",
    "    if not os.path.exists(video_path):\n",
    "        print(f\"Error: Video file not found at {video_path}\")\n",
    "        return None\n",
    "\n",
    "    # Read the video file using VideoCapture with optimized settings\n",
    "    video_reader = cv2.VideoCapture(video_path, cv2.CAP_FFMPEG)\n",
    "\n",
    "    # Check if the video was opened successfully\n",
    "    if not video_reader.isOpened():\n",
    "        print(f\"Error: Could not open video file {video_path}\")\n",
    "        video_reader.release()\n",
    "        return None\n",
    "\n",
    "    # Get the total number of frames in the video\n",
    "    video_frames_count = int(video_reader.get(cv2.CAP_PROP_FRAME_COUNT))\n",
    "\n",
    "    # Ensure the video has enough frames\n",
    "    if video_frames_count < sequence_length:\n",
    "        print(f\"Warning: Video {video_path} has only {video_frames_count} frames, less than required {sequence_length}\")\n",
    "        video_reader.release()\n",
    "        return None\n",
    "\n",
    "    # Calculate the interval after which frames will be sampled\n",
    "    skip_frames_window = max(int(video_frames_count / sequence_length), 1)\n",
    "\n",
    "    # Pre-allocate frame indices to extract\n",
    "    frame_indices = [i * skip_frames_window for i in range(sequence_length)]\n",
    "\n",
    "    # Read and process frames in parallel\n",
    "    frames = []\n",
    "    for idx in frame_indices:\n",
    "        video_reader.set(cv2.CAP_PROP_POS_FRAMES, idx)\n",
    "        success, frame = video_reader.read()\n",
    "        if not success or frame is None:\n",
    "            print(f\"Warning: Failed to read frame at index {idx} from {video_path}\")\n",
    "            break\n",
    "        frame = cv2.cvtColor(frame, cv2.COLOR_BGR2RGB)\n",
    "        frames.append(frame)\n",
    "\n",
    "    # Release the VideoCapture object early\n",
    "    video_reader.release()\n",
    "\n",
    "    # Ensure the correct number of frames is read\n",
    "    if len(frames) != sequence_length:\n",
    "        print(f\"Warning: Read {len(frames)} frames instead of {sequence_length} from {video_path}\")\n",
    "        return None\n",
    "\n",
    "    # Process frames in parallel using ThreadPoolExecutor\n",
    "    with ThreadPoolExecutor() as executor:\n",
    "        processed_frames = list(executor.map(\n",
    "            lambda f: resize_and_normalize_frame(f, image_height, image_width), \n",
    "            frames\n",
    "        ))\n",
    "\n",
    "    # Check for any failed frame processing\n",
    "    if any(f is None for f in processed_frames):\n",
    "        print(f\"Warning: Some frames failed to process in {video_path}\")\n",
    "        return None\n",
    "\n",
    "    # Convert to NumPy array\n",
    "    frames_array = np.array(processed_frames, dtype=np.float32)\n",
    "\n",
    "    return frames_array"
   ]
  },
  {
   "cell_type": "code",
   "execution_count": 5,
   "id": "fb1779be",
   "metadata": {
    "execution": {
     "iopub.execute_input": "2025-07-11T10:12:15.326454Z",
     "iopub.status.busy": "2025-07-11T10:12:15.326230Z",
     "iopub.status.idle": "2025-07-11T10:12:15.329509Z",
     "shell.execute_reply": "2025-07-11T10:12:15.328842Z"
    },
    "papermill": {
     "duration": 0.014942,
     "end_time": "2025-07-11T10:12:15.330521",
     "exception": false,
     "start_time": "2025-07-11T10:12:15.315579",
     "status": "completed"
    },
    "tags": []
   },
   "outputs": [],
   "source": [
    " # # Iterate through all video files\n",
    " #        for file_name in files_list:\n",
    " #            video_file_path = os.path.join(class_path, file_name)\n",
    "\n",
    " #            # Extract frames using the updated frames_extraction function\n",
    " #            frames = frames_extraction(video_file_path, sequence_length, image_height, image_width)\n",
    "\n",
    " #            # Skip videos where frame extraction failed\n",
    " #            if frames is None:\n",
    " #                print(f\"Skipping video {video_file_path} due to frame extraction failure\")\n",
    " #                continue\n",
    "\n",
    " #            # Append the data to respective lists\n",
    " #            features.append(frames)\n",
    " #            labels.append(class_index)"
   ]
  },
  {
   "cell_type": "markdown",
   "id": "b8a1fa4b",
   "metadata": {
    "papermill": {
     "duration": 0.009969,
     "end_time": "2025-07-11T10:12:15.350518",
     "exception": false,
     "start_time": "2025-07-11T10:12:15.340549",
     "status": "completed"
    },
    "tags": []
   },
   "source": [
    "## Create Dataset"
   ]
  },
  {
   "cell_type": "code",
   "execution_count": 6,
   "id": "abf67654",
   "metadata": {
    "execution": {
     "iopub.execute_input": "2025-07-11T10:12:15.371833Z",
     "iopub.status.busy": "2025-07-11T10:12:15.371356Z",
     "iopub.status.idle": "2025-07-11T10:12:15.384118Z",
     "shell.execute_reply": "2025-07-11T10:12:15.383356Z"
    },
    "papermill": {
     "duration": 0.025063,
     "end_time": "2025-07-11T10:12:15.385630",
     "exception": false,
     "start_time": "2025-07-11T10:12:15.360567",
     "status": "completed"
    },
    "tags": []
   },
   "outputs": [],
   "source": [
    "# RUN create dataset function definition\n",
    "def create_dataset(dataset_dir,\n",
    "                   classes_list, \n",
    "                   sequence_length=SEQUENCE_LENGTH, \n",
    "                   image_height=IMAGE_HEIGHT, \n",
    "                   image_width=IMAGE_WIDTH, \n",
    "                   max_videos_per_class=None,\n",
    "                   augmentations=False\n",
    "                  ):\n",
    "    \n",
    "    # Initialize lists to store features, labels, and video file paths\n",
    "    videos = []\n",
    "    labels = []\n",
    "\n",
    "    # Check if dataset directory exists\n",
    "    if not os.path.exists(dataset_dir):\n",
    "        raise FileNotFoundError(f\"Dataset directory not found: {dataset_dir}\")\n",
    "\n",
    "    # Iterate through all classes in the classes list\n",
    "    for class_index, class_name in enumerate(classes_list):\n",
    "        class_path = os.path.join(dataset_dir, class_name)\n",
    "        \n",
    "        # Check if class directory exists\n",
    "        if not os.path.exists(class_path):\n",
    "            print(f\"Warning: Class directory not found: {class_path}\")\n",
    "            continue\n",
    "\n",
    "        print(f'Extracting Data of Class: {class_name}')\n",
    "\n",
    "        # Get the list of video files in the class directory\n",
    "        files_list = os.listdir(class_path)\n",
    "\n",
    "        # Limit the number of videos if specified\n",
    "        if max_videos_per_class is not None:\n",
    "            files_list = files_list[:max_videos_per_class]\n",
    "\n",
    "        # Iterate through all video files\n",
    "        for file_name in files_list:\n",
    "            video_file_path = os.path.join(class_path, file_name)\n",
    "\n",
    "            # Extract frames using the updated frames_extraction function\n",
    "            frames = frames_extraction(video_file_path, \n",
    "                                       sequence_length, \n",
    "                                       image_height, \n",
    "                                       image_width)\n",
    "\n",
    "            # Skip videos where frame extraction failed\n",
    "            if frames is None:\n",
    "                print(f\"Skipping video {video_file_path} due to frame extraction failure\")\n",
    "                continue\n",
    "\n",
    "            # Append the data to respective lists\n",
    "            videos.append(frames)\n",
    "            labels.append(class_index)\n",
    "\n",
    "    # Convert lists to numpy arrays\n",
    "    if not videos:\n",
    "        raise ValueError(\"No valid videos were processed. Check dataset or parameters.\")\n",
    "    videos = np.asarray(videos)\n",
    "    labels = np.array(labels)\n",
    "\n",
    "    print(f\"Dataset created with {len(videos)} videos\")\n",
    "    print(f\"Features shape: {videos.shape}\")\n",
    "    print(f\"Labels shape: {labels.shape}\")\n",
    "\n",
    "    return videos, labels"
   ]
  },
  {
   "cell_type": "markdown",
   "id": "32fa3067",
   "metadata": {
    "papermill": {
     "duration": 0.010117,
     "end_time": "2025-07-11T10:12:15.408233",
     "exception": false,
     "start_time": "2025-07-11T10:12:15.398116",
     "status": "completed"
    },
    "tags": []
   },
   "source": [
    "## 🪄 Video Data Generator"
   ]
  },
  {
   "cell_type": "code",
   "execution_count": 7,
   "id": "88991fb3",
   "metadata": {
    "execution": {
     "iopub.execute_input": "2025-07-11T10:12:15.429391Z",
     "iopub.status.busy": "2025-07-11T10:12:15.429185Z",
     "iopub.status.idle": "2025-07-11T10:12:15.492754Z",
     "shell.execute_reply": "2025-07-11T10:12:15.491976Z"
    },
    "papermill": {
     "duration": 0.075788,
     "end_time": "2025-07-11T10:12:15.494136",
     "exception": false,
     "start_time": "2025-07-11T10:12:15.418348",
     "status": "completed"
    },
    "tags": []
   },
   "outputs": [],
   "source": [
    "from tensorflow.keras.utils import Sequence, to_categorical\n",
    "import tensorflow as tf\n",
    "import numpy as np\n",
    "import cv2\n",
    "\n",
    "\n",
    "\n",
    "\n",
    "class VideoDataGenerator(Sequence):\n",
    "    def __init__(self, videos, labels, batch_size, is_training=False):\n",
    "        self.videos = list(videos)  # List of video file paths\n",
    "        self.labels = list(labels)  # List or array of labels encoded\n",
    "        self.batch_size = batch_size\n",
    "        self.indices = np.arange(len(self.videos))  # For shuffling\n",
    "        self.is_training = is_training  # Flag to control whether augmentation is applied\n",
    "        self.temp_videos=[]\n",
    "        self.temp_labels=[]\n",
    "        \n",
    "        \n",
    "        print(f\"Total {len(videos)} videos and {len(labels)} classes\")\n",
    "\n",
    "    def __len__(self):\n",
    "        # Return the number of batches per epoch\n",
    "        return int(np.ceil(len(self.videos) / self.batch_size))\n",
    "\n",
    "    def __getitem__(self, idx):\n",
    "        # Get batch indices\n",
    "        batch_indices = self.indices[idx * self.batch_size:(idx + 1) * self.batch_size]\n",
    "        \n",
    "        # Handle case where batch_indices is empty\n",
    "        if len(batch_indices) == 0:\n",
    "            return np.array([], dtype=np.float32), np.array([], dtype=np.float32)\n",
    "        \n",
    "        # Initialize lists to store frames and labels\n",
    "        all_frames = []\n",
    "        all_labels = []\n",
    "        \n",
    "        # Process each video in the batch\n",
    "        for i, index in enumerate(batch_indices):\n",
    "            sequence = self.videos[index]\n",
    "            label = self.labels[index]\n",
    "            \n",
    "            # Load and process video\n",
    "            # sequence = frames_extraction(video_path)\n",
    "\n",
    "            # if sequence is not None:\n",
    "            #     # Apply augmentations: 1 original + 4 augmentations (horizontal flip, shear, rotation, noise)\n",
    "            #     augmented_sequences = [sequence]  # Add original sequence\n",
    "\n",
    "            #     if self.is_training:\n",
    "            #         # Apply augmentations\n",
    "            #         augmented_sequences.append(np.array(horizontal_flip(sequence)))  # Horizontal Flip\n",
    "            #         augmented_sequences.append(np.array(apply_shear_frames(sequence, shear_right=0)))  # Random Shear\n",
    "            #         augmented_sequences.append(np.array(apply_shear_frames(sequence, shear_right=1)))  # Random Rotation\n",
    "            #         augmented_sequences.append(np.array(noise_video(sequence)))  # Salt and Pepper Noise\n",
    "\n",
    "            #     # Add augmented sequences to the batch\n",
    "            #     all_frames.extend(augmented_sequences)\n",
    "            #     all_labels.extend([label] * len(augmented_sequences))  # Each augmentation has the same label\n",
    "\n",
    "            \n",
    "            # Append the sequence and label\n",
    "            all_frames.append(sequence)\n",
    "            all_labels.append(label)\n",
    "        \n",
    "        # Convert to numpy arrays\n",
    "        all_frames = np.array(all_frames, dtype=np.float32)\n",
    "        all_labels = np.array(all_labels)\n",
    "            \n",
    "        \n",
    "        return all_frames, all_labels\n",
    "    def add(self, new_videos, new_labels):\n",
    "        self.temp_videos.extend(new_videos)\n",
    "        self.temp_labels.extend(new_labels)\n",
    "    \n",
    "    def confirm(self):\n",
    "        print(f\"Adding {len(self.temp_videos)} videos with {len(self.temp_labels)} classes.\")\n",
    "        self.videos.extend(self.temp_videos)\n",
    "        self.labels.extend(self.temp_labels)\n",
    "        print(f\"Successfully added - {len(self.temp_videos)} videos and {len(self.temp_labels)} classes.\")\n",
    "        self.temp_videos=[]\n",
    "        self.temp_labels=[]\n",
    "        self.indices = np.arange(len(self.videos))\n",
    "        print(f\"Now Total - {len(self.videos)} videos and {len(self.labels)} classes.\")\n",
    "        print(f\"PENDING for Augmentations - {len(self.temp_videos)} videos and {len(self.temp_labels)} classes.\")\n",
    "    \n",
    "    def on_epoch_end(self):\n",
    "        # Shuffle indices at the end of each epoch\n",
    "        np.random.shuffle(self.indices)\n",
    "\n",
    "    def as_dataset(self):\n",
    "        def generator():\n",
    "            for idx in range(len(self)):\n",
    "                frames, labels = self[idx]\n",
    "                # Skip empty batches\n",
    "                if frames.size == 0:\n",
    "                    continue\n",
    "                yield frames, labels\n",
    "        self.labels=np.array(self.labels)\n",
    "    \n",
    "        # Create a tf.data.Dataset\n",
    "        dataset = tf.data.Dataset.from_generator(\n",
    "            generator,\n",
    "            output_types=(tf.float32, tf.float32),\n",
    "            output_shapes=(\n",
    "                (None, SEQUENCE_LENGTH, IMAGE_HEIGHT, IMAGE_WIDTH, 3),\n",
    "                (None, NO_OF_CLASSES)\n",
    "            )\n",
    "        )\n",
    "        dataset = dataset.prefetch(tf.data.AUTOTUNE)\n",
    "        return dataset"
   ]
  },
  {
   "cell_type": "markdown",
   "id": "39acfe30",
   "metadata": {
    "papermill": {
     "duration": 0.063665,
     "end_time": "2025-07-11T10:12:15.568179",
     "exception": false,
     "start_time": "2025-07-11T10:12:15.504514",
     "status": "completed"
    },
    "tags": []
   },
   "source": [
    "## Debug and Helpers"
   ]
  },
  {
   "cell_type": "markdown",
   "id": "c29b6120",
   "metadata": {
    "papermill": {
     "duration": 0.014252,
     "end_time": "2025-07-11T10:12:15.596916",
     "exception": false,
     "start_time": "2025-07-11T10:12:15.582664",
     "status": "completed"
    },
    "tags": []
   },
   "source": [
    "## 💫 Augmentation Helper function"
   ]
  },
  {
   "cell_type": "code",
   "execution_count": 8,
   "id": "859c15e0",
   "metadata": {
    "execution": {
     "iopub.execute_input": "2025-07-11T10:12:15.627451Z",
     "iopub.status.busy": "2025-07-11T10:12:15.627179Z",
     "iopub.status.idle": "2025-07-11T10:12:15.632301Z",
     "shell.execute_reply": "2025-07-11T10:12:15.631610Z"
    },
    "papermill": {
     "duration": 0.020863,
     "end_time": "2025-07-11T10:12:15.633489",
     "exception": false,
     "start_time": "2025-07-11T10:12:15.612626",
     "status": "completed"
    },
    "tags": []
   },
   "outputs": [],
   "source": [
    "import time\n",
    "\n",
    "    \n",
    "\n",
    "def apply_augmentation(augmentation_function, generator, confirm=False, *args, **kwargs):\n",
    "    \n",
    "    for i in range(len(generator)):\n",
    "        batch_videos, batch_labels = generator[i]\n",
    "        augmented_videos=[]\n",
    "        for videos in batch_videos:\n",
    "            augmented_videos.append(augmentation_function(videos, *args, **kwargs))\n",
    "        generator.add(augmented_videos, batch_labels)\n",
    "        print(f\"Processing video {len(generator.temp_videos)}...\", end=\"\\r\", flush=True)\n",
    "        time.sleep(0.5)  # simulate work\n",
    "    if confirm:\n",
    "        generator.confirm()"
   ]
  },
  {
   "cell_type": "markdown",
   "id": "bc460b2d",
   "metadata": {
    "papermill": {
     "duration": 0.009872,
     "end_time": "2025-07-11T10:12:15.653366",
     "exception": false,
     "start_time": "2025-07-11T10:12:15.643494",
     "status": "completed"
    },
    "tags": []
   },
   "source": [
    "### Show Frames"
   ]
  },
  {
   "cell_type": "code",
   "execution_count": 9,
   "id": "54412e74",
   "metadata": {
    "execution": {
     "iopub.execute_input": "2025-07-11T10:12:15.674016Z",
     "iopub.status.busy": "2025-07-11T10:12:15.673806Z",
     "iopub.status.idle": "2025-07-11T10:12:15.677666Z",
     "shell.execute_reply": "2025-07-11T10:12:15.676986Z"
    },
    "papermill": {
     "duration": 0.015686,
     "end_time": "2025-07-11T10:12:15.678899",
     "exception": false,
     "start_time": "2025-07-11T10:12:15.663213",
     "status": "completed"
    },
    "tags": []
   },
   "outputs": [],
   "source": [
    "# show frame def\n",
    "import matplotlib.pyplot as plt\n",
    "\n",
    "def show_frame(frame):\n",
    "    plt.figure(figsize=(3,3))\n",
    "    plt.imshow(frame)\n",
    "    plt.axis(\"off\")\n",
    "    plt.tight_layout()"
   ]
  },
  {
   "cell_type": "markdown",
   "id": "ecef6061",
   "metadata": {
    "papermill": {
     "duration": 0.009701,
     "end_time": "2025-07-11T10:12:15.706961",
     "exception": false,
     "start_time": "2025-07-11T10:12:15.697260",
     "status": "completed"
    },
    "tags": []
   },
   "source": [
    "### Helper Function"
   ]
  },
  {
   "cell_type": "code",
   "execution_count": 10,
   "id": "d7d6f734",
   "metadata": {
    "execution": {
     "iopub.execute_input": "2025-07-11T10:12:15.727395Z",
     "iopub.status.busy": "2025-07-11T10:12:15.727199Z",
     "iopub.status.idle": "2025-07-11T10:12:15.731667Z",
     "shell.execute_reply": "2025-07-11T10:12:15.731089Z"
    },
    "papermill": {
     "duration": 0.015893,
     "end_time": "2025-07-11T10:12:15.732685",
     "exception": false,
     "start_time": "2025-07-11T10:12:15.716792",
     "status": "completed"
    },
    "tags": []
   },
   "outputs": [],
   "source": [
    "def show_frame_vs(frame1, frame2, title1=\"Frame 1\", title2=\"Frame 2\"):\n",
    "    plt.figure(figsize=(10, 5))\n",
    "\n",
    "    # First frame\n",
    "    plt.subplot(1, 2, 1)\n",
    "    plt.imshow(frame1)\n",
    "    plt.title(title1)\n",
    "    plt.axis('off')\n",
    "\n",
    "    # Second frame\n",
    "    plt.subplot(1, 2, 2)\n",
    "    plt.imshow(frame2)\n",
    "    plt.title(title2)\n",
    "    plt.axis('off')\n",
    "\n",
    "    plt.tight_layout()\n",
    "    plt.show()"
   ]
  },
  {
   "cell_type": "code",
   "execution_count": 11,
   "id": "d4da5c56",
   "metadata": {
    "execution": {
     "iopub.execute_input": "2025-07-11T10:12:15.753384Z",
     "iopub.status.busy": "2025-07-11T10:12:15.753188Z",
     "iopub.status.idle": "2025-07-11T10:12:15.756638Z",
     "shell.execute_reply": "2025-07-11T10:12:15.756076Z"
    },
    "papermill": {
     "duration": 0.015145,
     "end_time": "2025-07-11T10:12:15.757809",
     "exception": false,
     "start_time": "2025-07-11T10:12:15.742664",
     "status": "completed"
    },
    "tags": []
   },
   "outputs": [],
   "source": [
    "# reusable video loop helper function\n",
    "def apply_function(function, videos, *arg, **kwargs):\n",
    "    new_videos=[]\n",
    "    \n",
    "    for video in videos:\n",
    "        new_videos.append(function(video, *arg, **kwargs))\n",
    "        \n",
    "    return new_videos"
   ]
  },
  {
   "cell_type": "code",
   "execution_count": 12,
   "id": "85ab8ea0",
   "metadata": {
    "execution": {
     "iopub.execute_input": "2025-07-11T10:12:15.785801Z",
     "iopub.status.busy": "2025-07-11T10:12:15.785608Z",
     "iopub.status.idle": "2025-07-11T10:12:15.789597Z",
     "shell.execute_reply": "2025-07-11T10:12:15.788999Z"
    },
    "papermill": {
     "duration": 0.015393,
     "end_time": "2025-07-11T10:12:15.790565",
     "exception": false,
     "start_time": "2025-07-11T10:12:15.775172",
     "status": "completed"
    },
    "tags": []
   },
   "outputs": [],
   "source": [
    "# reusable video loop helper function\n",
    "def apply(function, videos, labels, *arg, **kwargs):\n",
    "    new_videos=[]\n",
    "    new_labels=[]\n",
    "    combined=zip(labels, videos)\n",
    "    \n",
    "    for label, video in combined:\n",
    "        new_videos.append(function(video, *arg, **kwargs))\n",
    "        new_labels.append(label)\n",
    "        \n",
    "    new_videos=np.asarray(new_videos)\n",
    "    new_labels=np.asarray(new_labels)\n",
    "    \n",
    "    return new_videos, new_labels"
   ]
  },
  {
   "cell_type": "markdown",
   "id": "17650e7a",
   "metadata": {
    "papermill": {
     "duration": 0.009936,
     "end_time": "2025-07-11T10:12:15.810521",
     "exception": false,
     "start_time": "2025-07-11T10:12:15.800585",
     "status": "completed"
    },
    "tags": []
   },
   "source": [
    "## Salt and Pepper Noise "
   ]
  },
  {
   "cell_type": "code",
   "execution_count": 13,
   "id": "46592623",
   "metadata": {
    "execution": {
     "iopub.execute_input": "2025-07-11T10:12:15.831407Z",
     "iopub.status.busy": "2025-07-11T10:12:15.831167Z",
     "iopub.status.idle": "2025-07-11T10:12:15.836387Z",
     "shell.execute_reply": "2025-07-11T10:12:15.835788Z"
    },
    "papermill": {
     "duration": 0.016972,
     "end_time": "2025-07-11T10:12:15.837439",
     "exception": false,
     "start_time": "2025-07-11T10:12:15.820467",
     "status": "completed"
    },
    "tags": []
   },
   "outputs": [],
   "source": [
    "# Noise function def\n",
    "\n",
    "def noise_video(video,noise_factor=NOISE_FACTOR):\n",
    "    noisy_video=[]\n",
    "    for frame in video:\n",
    "        # Generate random noise\n",
    "        noise = np.random.rand(*frame.shape)  # Generate random noise\n",
    "        salt_pepper_noise = np.random.choice([0, 1], size=frame.shape, p=[1-noise_factor, noise_factor])\n",
    "        noisy_frame = frame * (1 - salt_pepper_noise) + salt_pepper_noise * np.random.rand(*frame.shape)\n",
    "        noisy_video.append(noisy_frame)\n",
    "    return np.array(noisy_video)"
   ]
  },
  {
   "cell_type": "markdown",
   "id": "441e17df",
   "metadata": {
    "papermill": {
     "duration": 0.009733,
     "end_time": "2025-07-11T10:12:15.857176",
     "exception": false,
     "start_time": "2025-07-11T10:12:15.847443",
     "status": "completed"
    },
    "tags": []
   },
   "source": [
    "## Horizontal Flip"
   ]
  },
  {
   "cell_type": "code",
   "execution_count": 14,
   "id": "5e3145ae",
   "metadata": {
    "execution": {
     "iopub.execute_input": "2025-07-11T10:12:15.877581Z",
     "iopub.status.busy": "2025-07-11T10:12:15.877388Z",
     "iopub.status.idle": "2025-07-11T10:12:15.880645Z",
     "shell.execute_reply": "2025-07-11T10:12:15.880081Z"
    },
    "papermill": {
     "duration": 0.014652,
     "end_time": "2025-07-11T10:12:15.881653",
     "exception": false,
     "start_time": "2025-07-11T10:12:15.867001",
     "status": "completed"
    },
    "tags": []
   },
   "outputs": [],
   "source": [
    "# horizontal flip function def\n",
    "# Testing Flip feautes[0] -> first video\n",
    "def horizontal_flip(video):\n",
    "    return [tf.image.flip_left_right(frame) for frame in video]"
   ]
  },
  {
   "cell_type": "markdown",
   "id": "449f3690",
   "metadata": {
    "papermill": {
     "duration": 0.010107,
     "end_time": "2025-07-11T10:12:15.903406",
     "exception": false,
     "start_time": "2025-07-11T10:12:15.893299",
     "status": "completed"
    },
    "tags": []
   },
   "source": [
    "## Random Shear"
   ]
  },
  {
   "cell_type": "code",
   "execution_count": 15,
   "id": "a5fd0ad4",
   "metadata": {
    "execution": {
     "iopub.execute_input": "2025-07-11T10:12:15.923887Z",
     "iopub.status.busy": "2025-07-11T10:12:15.923672Z",
     "iopub.status.idle": "2025-07-11T10:12:15.929178Z",
     "shell.execute_reply": "2025-07-11T10:12:15.928574Z"
    },
    "papermill": {
     "duration": 0.017008,
     "end_time": "2025-07-11T10:12:15.930248",
     "exception": false,
     "start_time": "2025-07-11T10:12:15.913240",
     "status": "completed"
    },
    "tags": []
   },
   "outputs": [],
   "source": [
    "# random shear function def\n",
    "import numpy as np\n",
    "import tensorflow as tf\n",
    "from scipy.ndimage import affine_transform\n",
    "\n",
    "def apply_shear_frames(frames, shear_right):\n",
    "    return [apply_shear(frame, shear_right) for frame in frames]\n",
    "\n",
    "def apply_shear(frame, shear_right=0):\n",
    "    frame_resized = tf.image.resize(frame, (IMAGE_HEIGHT, IMAGE_WIDTH)).numpy()\n",
    "    if shear_right:\n",
    "        shear_x = 0.09\n",
    "        shear_y = 0.1\n",
    "    else:\n",
    "        shear_x = -0.09\n",
    "        shear_y = 0.3\n",
    "    # Construct the affine matrix for scipy: inverse of the transformation matrix\n",
    "    # scipy applies the inverse transform matrix\n",
    "    shear_matrix = np.array([\n",
    "        [1, shear_x, 0],\n",
    "        [shear_y, 1, 0],\n",
    "        [0, 0, 1]\n",
    "    ], dtype=np.float32)\n",
    "\n",
    "    # Extract 2x2 part for affine_transform\n",
    "    matrix = shear_matrix[:2, :2]\n",
    "\n",
    "    # Offset (no translation)\n",
    "    offset = [0, 0]\n",
    "\n",
    "    # Apply affine transform on each channel separately\n",
    "    sheared = np.zeros_like(frame_resized)\n",
    "    for c in range(3):\n",
    "        sheared[..., c] = affine_transform(\n",
    "            frame_resized[..., c],\n",
    "            matrix=matrix,\n",
    "            offset=offset,\n",
    "            order=1,          # bilinear interpolation\n",
    "            mode='nearest'    # fill_mode\n",
    "        )\n",
    "    return sheared"
   ]
  },
  {
   "cell_type": "markdown",
   "id": "2ab6d831",
   "metadata": {
    "papermill": {
     "duration": 0.010011,
     "end_time": "2025-07-11T10:12:15.950281",
     "exception": false,
     "start_time": "2025-07-11T10:12:15.940270",
     "status": "completed"
    },
    "tags": []
   },
   "source": [
    "# 📌 Model Related\n",
    "## 🗼 Model Architecture `create_model`"
   ]
  },
  {
   "cell_type": "code",
   "execution_count": 16,
   "id": "ff9a9ab8",
   "metadata": {
    "execution": {
     "iopub.execute_input": "2025-07-11T10:12:15.972703Z",
     "iopub.status.busy": "2025-07-11T10:12:15.972504Z",
     "iopub.status.idle": "2025-07-11T10:12:15.984501Z",
     "shell.execute_reply": "2025-07-11T10:12:15.983883Z"
    },
    "papermill": {
     "duration": 0.025234,
     "end_time": "2025-07-11T10:12:15.985518",
     "exception": false,
     "start_time": "2025-07-11T10:12:15.960284",
     "status": "completed"
    },
    "tags": []
   },
   "outputs": [],
   "source": [
    "from tensorflow.keras.applications import Xception\n",
    "from tensorflow.keras.models import Sequential\n",
    "from tensorflow.keras.layers import GlobalAveragePooling2D, TimeDistributed, LSTM, Dropout, Dense\n",
    "from tensorflow.keras.regularizers import l2\n",
    "from tensorflow.keras.layers import BatchNormalization\n",
    "\n",
    "def create_xception_lstm_model(sequence_length, image_height, image_width, classes_list=None, dropout_rate=0.5):\n",
    "    if classes_list is None:\n",
    "        raise ValueError(\"classes_list must be provided to define the output layer size\")\n",
    "\n",
    "    try:\n",
    "        # Load Xception model with pre-trained ImageNet weights\n",
    "        print(\"Loading Xception base model...\")\n",
    "        xception = Xception(\n",
    "            weights='imagenet',\n",
    "            include_top=False,\n",
    "            input_shape=(image_height, image_width, 3),\n",
    "            name=\"Xception\"\n",
    "        )\n",
    "        # Freeze Xception layers\n",
    "        for layer in xception.layers[:-10]:  # Unfreeze last 10 layers\n",
    "            layer.trainable = False\n",
    "        for layer in xception.layers[-10:]:\n",
    "            layer.trainable = True\n",
    "\n",
    "        # Define the Sequential model\n",
    "        model = Sequential([\n",
    "            # InputLayer and TimeDistributed Xception\n",
    "            TimeDistributed(\n",
    "                xception,\n",
    "                input_shape=(sequence_length, image_height, image_width, 3),\n",
    "                name=\"time_distributed\"\n",
    "            ),\n",
    "            # TimeDistributed GlobalAveragePooling2D\n",
    "            TimeDistributed(GlobalAveragePooling2D(), name=\"time_distributed_1\"),\n",
    "            # LSTM layer with 128 units\n",
    "            LSTM(128, activation=\"tanh\", return_sequences=False, kernel_regularizer=l2(0.01), name=\"lstm\"),\n",
    "            \n",
    "            BatchNormalization(name=\"batch_normalization\"),\n",
    "            # Dropout after LSTM\n",
    "            Dropout(dropout_rate, name=\"dropout_lstm\"),\n",
    "            # Dense layer with 512 units\n",
    "            Dense(512, activation=\"relu\", kernel_regularizer=l2(0.01), name=\"dense\"),\n",
    "            # Dropout after Dense\n",
    "            Dropout(dropout_rate + 0.1, name=\"dropout_dense\"),\n",
    "            # Output Dense layer with softmax activation\n",
    "            Dense(len(classes_list), activation=\"softmax\", name=\"dense_1\")\n",
    "        ])\n",
    "        \n",
    "        # Print model summary\n",
    "        print(\"Model architecture created successfully!\")\n",
    "        model.summary()\n",
    "\n",
    "        return model\n",
    "\n",
    "    except Exception as e:\n",
    "        print(f\"Error creating model: {e}\")\n",
    "        return None"
   ]
  },
  {
   "cell_type": "code",
   "execution_count": 17,
   "id": "735cfee7",
   "metadata": {
    "execution": {
     "iopub.execute_input": "2025-07-11T10:12:16.007217Z",
     "iopub.status.busy": "2025-07-11T10:12:16.006718Z",
     "iopub.status.idle": "2025-07-11T10:12:19.922192Z",
     "shell.execute_reply": "2025-07-11T10:12:19.921336Z"
    },
    "papermill": {
     "duration": 3.927992,
     "end_time": "2025-07-11T10:12:19.923527",
     "exception": false,
     "start_time": "2025-07-11T10:12:15.995535",
     "status": "completed"
    },
    "tags": []
   },
   "outputs": [
    {
     "name": "stdout",
     "output_type": "stream",
     "text": [
      "Pre-loading Xception weights...\n"
     ]
    },
    {
     "name": "stderr",
     "output_type": "stream",
     "text": [
      "I0000 00:00:1752228737.206124      19 gpu_device.cc:2022] Created device /job:localhost/replica:0/task:0/device:GPU:0 with 13942 MB memory:  -> device: 0, name: Tesla T4, pci bus id: 0000:00:04.0, compute capability: 7.5\n",
      "I0000 00:00:1752228737.206804      19 gpu_device.cc:2022] Created device /job:localhost/replica:0/task:0/device:GPU:1 with 13942 MB memory:  -> device: 1, name: Tesla T4, pci bus id: 0000:00:05.0, compute capability: 7.5\n"
     ]
    },
    {
     "name": "stdout",
     "output_type": "stream",
     "text": [
      "Downloading data from https://storage.googleapis.com/tensorflow/keras-applications/xception/xception_weights_tf_dim_ordering_tf_kernels_notop.h5\n",
      "\u001b[1m83683744/83683744\u001b[0m \u001b[32m━━━━━━━━━━━━━━━━━━━━\u001b[0m\u001b[37m\u001b[0m \u001b[1m0s\u001b[0m 0us/step\n",
      "Weights loaded successfully!\n"
     ]
    }
   ],
   "source": [
    "# donwload model weights\n",
    "from tensorflow.keras.applications import Xception\n",
    "print(\"Pre-loading Xception weights...\")\n",
    "base_model = Xception(weights='imagenet', include_top=False, input_shape=(IMAGE_HEIGHT, IMAGE_WIDTH, 3))\n",
    "print(\"Weights loaded successfully!\")"
   ]
  },
  {
   "cell_type": "markdown",
   "id": "7148b9b2",
   "metadata": {
    "papermill": {
     "duration": 0.010464,
     "end_time": "2025-07-11T10:12:19.945320",
     "exception": false,
     "start_time": "2025-07-11T10:12:19.934856",
     "status": "completed"
    },
    "tags": []
   },
   "source": [
    "# 📌 Execution\n",
    "## Creating Dataset\n",
    "The following functions are executed\n",
    "- `frame extraction`\n",
    "- `resize`\n",
    "\n",
    "which returns:\n",
    "- `features` - `np.array` of all the videos\n",
    "- `labels` - `np.array` of all the class labels"
   ]
  },
  {
   "cell_type": "code",
   "execution_count": 18,
   "id": "1df05796",
   "metadata": {
    "execution": {
     "iopub.execute_input": "2025-07-11T10:12:19.967497Z",
     "iopub.status.busy": "2025-07-11T10:12:19.967263Z",
     "iopub.status.idle": "2025-07-11T10:12:25.925211Z",
     "shell.execute_reply": "2025-07-11T10:12:25.924475Z"
    },
    "papermill": {
     "duration": 5.970524,
     "end_time": "2025-07-11T10:12:25.926354",
     "exception": false,
     "start_time": "2025-07-11T10:12:19.955830",
     "status": "completed"
    },
    "tags": []
   },
   "outputs": [
    {
     "name": "stdout",
     "output_type": "stream",
     "text": [
      "Extracting Data of Class: Basketball\n",
      "Extracting Data of Class: Biking\n",
      "Extracting Data of Class: Diving\n",
      "Extracting Data of Class: GolfSwing\n",
      "Extracting Data of Class: HorseRiding\n",
      "Extracting Data of Class: Skiing\n",
      "Extracting Data of Class: SkateBoarding\n",
      "Extracting Data of Class: Swing\n",
      "Extracting Data of Class: TennisSwing\n",
      "Extracting Data of Class: TrampolineJumping\n",
      "Extracting Data of Class: WalkingWithDog\n",
      "Dataset created with 220 videos\n",
      "Features shape: (220, 5, 128, 128, 3)\n",
      "Labels shape: (220,)\n"
     ]
    },
    {
     "data": {
      "text/plain": [
       "((220, 5, 128, 128, 3), (220,))"
      ]
     },
     "execution_count": 18,
     "metadata": {},
     "output_type": "execute_result"
    }
   ],
   "source": [
    "# RUN Create the dataset with explicit parameters\n",
    "try:\n",
    "    videos, labels = create_dataset(\n",
    "        dataset_dir=DATASET_DIR,\n",
    "        classes_list=CLASSES_LIST,\n",
    "        sequence_length=SEQUENCE_LENGTH,\n",
    "        image_height=IMAGE_HEIGHT,\n",
    "        image_width=IMAGE_WIDTH,\n",
    "        # Limit to 10 videos per class to manage memory\n",
    "        augmentations=True,\n",
    "        max_videos_per_class=MAX_VIDEO_PER_CLASS\n",
    "    )\n",
    "except FileNotFoundError as e:\n",
    "    print(f\"Error: {e}\")\n",
    "except ValueError as e:\n",
    "    print(f\"Error: {e}\")\n",
    "except Exception as e:\n",
    "    print(f\"Unexpected error: {e}\")\n",
    "\n",
    "videos.shape, labels.shape"
   ]
  },
  {
   "cell_type": "code",
   "execution_count": 19,
   "id": "75af1910",
   "metadata": {
    "execution": {
     "iopub.execute_input": "2025-07-11T10:12:25.949920Z",
     "iopub.status.busy": "2025-07-11T10:12:25.949698Z",
     "iopub.status.idle": "2025-07-11T10:12:25.953604Z",
     "shell.execute_reply": "2025-07-11T10:12:25.952897Z"
    },
    "papermill": {
     "duration": 0.016864,
     "end_time": "2025-07-11T10:12:25.954632",
     "exception": false,
     "start_time": "2025-07-11T10:12:25.937768",
     "status": "completed"
    },
    "tags": []
   },
   "outputs": [
    {
     "name": "stdout",
     "output_type": "stream",
     "text": [
      "Total 220 videos and 220 classes\n"
     ]
    }
   ],
   "source": [
    "video_generator = VideoDataGenerator(\n",
    "    videos=videos,\n",
    "    labels=labels,\n",
    "    batch_size=BATCH_SIZE\n",
    ")"
   ]
  },
  {
   "cell_type": "code",
   "execution_count": 20,
   "id": "e2221086",
   "metadata": {
    "execution": {
     "iopub.execute_input": "2025-07-11T10:12:25.977652Z",
     "iopub.status.busy": "2025-07-11T10:12:25.977444Z",
     "iopub.status.idle": "2025-07-11T10:12:25.989785Z",
     "shell.execute_reply": "2025-07-11T10:12:25.989259Z"
    },
    "papermill": {
     "duration": 0.024741,
     "end_time": "2025-07-11T10:12:25.990704",
     "exception": false,
     "start_time": "2025-07-11T10:12:25.965963",
     "status": "completed"
    },
    "tags": []
   },
   "outputs": [
    {
     "data": {
      "text/plain": [
       "((24, 5, 128, 128, 3), (24,))"
      ]
     },
     "execution_count": 20,
     "metadata": {},
     "output_type": "execute_result"
    }
   ],
   "source": [
    "videos, labels = video_generator[3]\n",
    "\n",
    "videos.shape, labels.shape"
   ]
  },
  {
   "cell_type": "code",
   "execution_count": 21,
   "id": "c4982151",
   "metadata": {
    "execution": {
     "iopub.execute_input": "2025-07-11T10:12:26.014398Z",
     "iopub.status.busy": "2025-07-11T10:12:26.014186Z",
     "iopub.status.idle": "2025-07-11T10:12:26.018272Z",
     "shell.execute_reply": "2025-07-11T10:12:26.017746Z"
    },
    "papermill": {
     "duration": 0.016583,
     "end_time": "2025-07-11T10:12:26.019230",
     "exception": false,
     "start_time": "2025-07-11T10:12:26.002647",
     "status": "completed"
    },
    "tags": []
   },
   "outputs": [
    {
     "data": {
      "text/plain": [
       "220"
      ]
     },
     "execution_count": 21,
     "metadata": {},
     "output_type": "execute_result"
    }
   ],
   "source": [
    "len(video_generator.videos) "
   ]
  },
  {
   "cell_type": "code",
   "execution_count": 22,
   "id": "04bc8866",
   "metadata": {
    "execution": {
     "iopub.execute_input": "2025-07-11T10:12:26.042346Z",
     "iopub.status.busy": "2025-07-11T10:12:26.042148Z",
     "iopub.status.idle": "2025-07-11T10:12:26.045883Z",
     "shell.execute_reply": "2025-07-11T10:12:26.045419Z"
    },
    "papermill": {
     "duration": 0.016431,
     "end_time": "2025-07-11T10:12:26.046875",
     "exception": false,
     "start_time": "2025-07-11T10:12:26.030444",
     "status": "completed"
    },
    "tags": []
   },
   "outputs": [
    {
     "data": {
      "text/plain": [
       "10"
      ]
     },
     "execution_count": 22,
     "metadata": {},
     "output_type": "execute_result"
    }
   ],
   "source": [
    "len(video_generator)"
   ]
  },
  {
   "cell_type": "markdown",
   "id": "1453751f",
   "metadata": {
    "papermill": {
     "duration": 0.011135,
     "end_time": "2025-07-11T10:12:26.069137",
     "exception": false,
     "start_time": "2025-07-11T10:12:26.058002",
     "status": "completed"
    },
    "tags": []
   },
   "source": [
    "## Apply ***horizontal flip*** (Augmentation)"
   ]
  },
  {
   "cell_type": "code",
   "execution_count": 23,
   "id": "4f74484c",
   "metadata": {
    "execution": {
     "iopub.execute_input": "2025-07-11T10:12:26.092247Z",
     "iopub.status.busy": "2025-07-11T10:12:26.091990Z",
     "iopub.status.idle": "2025-07-11T10:12:31.747292Z",
     "shell.execute_reply": "2025-07-11T10:12:31.746691Z"
    },
    "papermill": {
     "duration": 5.668322,
     "end_time": "2025-07-11T10:12:31.748593",
     "exception": false,
     "start_time": "2025-07-11T10:12:26.080271",
     "status": "completed"
    },
    "tags": []
   },
   "outputs": [
    {
     "name": "stdout",
     "output_type": "stream",
     "text": [
      "Processing video 220...\r"
     ]
    }
   ],
   "source": [
    "apply_augmentation(horizontal_flip, video_generator)"
   ]
  },
  {
   "cell_type": "code",
   "execution_count": 24,
   "id": "303383c3",
   "metadata": {
    "execution": {
     "iopub.execute_input": "2025-07-11T10:12:31.773484Z",
     "iopub.status.busy": "2025-07-11T10:12:31.773290Z",
     "iopub.status.idle": "2025-07-11T10:12:31.777419Z",
     "shell.execute_reply": "2025-07-11T10:12:31.776670Z"
    },
    "papermill": {
     "duration": 0.017597,
     "end_time": "2025-07-11T10:12:31.778542",
     "exception": false,
     "start_time": "2025-07-11T10:12:31.760945",
     "status": "completed"
    },
    "tags": []
   },
   "outputs": [
    {
     "name": "stdout",
     "output_type": "stream",
     "text": [
      "Checking Total Videos and Class Count: 220, 220\n",
      "PENDING Total Videos and Class Count: 220, 220\n"
     ]
    }
   ],
   "source": [
    "print(f\"Checking Total Videos and Class Count: {len(video_generator.videos)}, {len(video_generator.labels)}\")\n",
    "print(f\"PENDING Total Videos and Class Count: {len(video_generator.temp_videos)}, {len(video_generator.temp_labels)}\")"
   ]
  },
  {
   "cell_type": "code",
   "execution_count": 25,
   "id": "3981662c",
   "metadata": {
    "execution": {
     "iopub.execute_input": "2025-07-11T10:12:31.802890Z",
     "iopub.status.busy": "2025-07-11T10:12:31.802217Z",
     "iopub.status.idle": "2025-07-11T10:12:31.805883Z",
     "shell.execute_reply": "2025-07-11T10:12:31.805286Z"
    },
    "papermill": {
     "duration": 0.016739,
     "end_time": "2025-07-11T10:12:31.806873",
     "exception": false,
     "start_time": "2025-07-11T10:12:31.790134",
     "status": "completed"
    },
    "tags": []
   },
   "outputs": [
    {
     "name": "stdout",
     "output_type": "stream",
     "text": [
      "Adding 220 videos with 220 classes.\n",
      "Successfully added - 220 videos and 220 classes.\n",
      "Now Total - 440 videos and 440 classes.\n",
      "PENDING for Augmentations - 0 videos and 0 classes.\n"
     ]
    }
   ],
   "source": [
    "video_generator.confirm()"
   ]
  },
  {
   "cell_type": "markdown",
   "id": "0c62799d",
   "metadata": {
    "papermill": {
     "duration": 0.014983,
     "end_time": "2025-07-11T10:12:31.833350",
     "exception": false,
     "start_time": "2025-07-11T10:12:31.818367",
     "status": "completed"
    },
    "tags": []
   },
   "source": [
    "## Apply ***Noise*** (Augmentation)"
   ]
  },
  {
   "cell_type": "code",
   "execution_count": 26,
   "id": "0f0a09f4",
   "metadata": {
    "execution": {
     "iopub.execute_input": "2025-07-11T10:12:31.858935Z",
     "iopub.status.busy": "2025-07-11T10:12:31.858709Z",
     "iopub.status.idle": "2025-07-11T10:12:46.471635Z",
     "shell.execute_reply": "2025-07-11T10:12:46.471081Z"
    },
    "papermill": {
     "duration": 14.626728,
     "end_time": "2025-07-11T10:12:46.472928",
     "exception": false,
     "start_time": "2025-07-11T10:12:31.846200",
     "status": "completed"
    },
    "tags": []
   },
   "outputs": [
    {
     "name": "stdout",
     "output_type": "stream",
     "text": [
      "Processing video 440...\r"
     ]
    }
   ],
   "source": [
    "apply_augmentation(noise_video, video_generator)"
   ]
  },
  {
   "cell_type": "code",
   "execution_count": 27,
   "id": "8e862cde",
   "metadata": {
    "execution": {
     "iopub.execute_input": "2025-07-11T10:12:46.499355Z",
     "iopub.status.busy": "2025-07-11T10:12:46.498802Z",
     "iopub.status.idle": "2025-07-11T10:12:46.502686Z",
     "shell.execute_reply": "2025-07-11T10:12:46.502076Z"
    },
    "papermill": {
     "duration": 0.017733,
     "end_time": "2025-07-11T10:12:46.503632",
     "exception": false,
     "start_time": "2025-07-11T10:12:46.485899",
     "status": "completed"
    },
    "tags": []
   },
   "outputs": [
    {
     "name": "stdout",
     "output_type": "stream",
     "text": [
      "Checking Total Videos and Class Count: 440, 440\n",
      "PENDING Total Videos and Class Count: 440, 440\n"
     ]
    }
   ],
   "source": [
    "print(f\"Checking Total Videos and Class Count: {len(video_generator.videos)}, {len(video_generator.labels)}\")\n",
    "print(f\"PENDING Total Videos and Class Count: {len(video_generator.temp_videos)}, {len(video_generator.temp_labels)}\")"
   ]
  },
  {
   "cell_type": "markdown",
   "id": "2e14d491",
   "metadata": {
    "papermill": {
     "duration": 0.012139,
     "end_time": "2025-07-11T10:12:46.528325",
     "exception": false,
     "start_time": "2025-07-11T10:12:46.516186",
     "status": "completed"
    },
    "tags": []
   },
   "source": [
    "## Apply ***Random Shear x2*** (Augmentation)"
   ]
  },
  {
   "cell_type": "code",
   "execution_count": 28,
   "id": "80eec3c1",
   "metadata": {
    "execution": {
     "iopub.execute_input": "2025-07-11T10:12:46.553755Z",
     "iopub.status.busy": "2025-07-11T10:12:46.553369Z",
     "iopub.status.idle": "2025-07-11T10:13:22.161002Z",
     "shell.execute_reply": "2025-07-11T10:13:22.160419Z"
    },
    "papermill": {
     "duration": 35.621851,
     "end_time": "2025-07-11T10:13:22.162411",
     "exception": false,
     "start_time": "2025-07-11T10:12:46.540560",
     "status": "completed"
    },
    "tags": []
   },
   "outputs": [
    {
     "name": "stdout",
     "output_type": "stream",
     "text": [
      "Processing video 1320...\r"
     ]
    }
   ],
   "source": [
    "apply_augmentation(apply_shear_frames, video_generator, shear_right=0)\n",
    "apply_augmentation(apply_shear_frames, video_generator, shear_right=1)"
   ]
  },
  {
   "cell_type": "code",
   "execution_count": 29,
   "id": "d6a3530d",
   "metadata": {
    "execution": {
     "iopub.execute_input": "2025-07-11T10:13:22.191401Z",
     "iopub.status.busy": "2025-07-11T10:13:22.191149Z",
     "iopub.status.idle": "2025-07-11T10:13:22.195385Z",
     "shell.execute_reply": "2025-07-11T10:13:22.194620Z"
    },
    "papermill": {
     "duration": 0.01976,
     "end_time": "2025-07-11T10:13:22.196508",
     "exception": false,
     "start_time": "2025-07-11T10:13:22.176748",
     "status": "completed"
    },
    "tags": []
   },
   "outputs": [
    {
     "name": "stdout",
     "output_type": "stream",
     "text": [
      "Checking Total Videos and Class Count: 440, 440\n",
      "PENDING Total Videos and Class Count: 1320, 1320\n"
     ]
    }
   ],
   "source": [
    "print(f\"Checking Total Videos and Class Count: {len(video_generator.videos)}, {len(video_generator.labels)}\")\n",
    "print(f\"PENDING Total Videos and Class Count: {len(video_generator.temp_videos)}, {len(video_generator.temp_labels)}\")"
   ]
  },
  {
   "cell_type": "code",
   "execution_count": 30,
   "id": "7249344d",
   "metadata": {
    "execution": {
     "iopub.execute_input": "2025-07-11T10:13:22.226243Z",
     "iopub.status.busy": "2025-07-11T10:13:22.225995Z",
     "iopub.status.idle": "2025-07-11T10:13:22.229490Z",
     "shell.execute_reply": "2025-07-11T10:13:22.228829Z"
    },
    "papermill": {
     "duration": 0.019892,
     "end_time": "2025-07-11T10:13:22.230457",
     "exception": false,
     "start_time": "2025-07-11T10:13:22.210565",
     "status": "completed"
    },
    "tags": []
   },
   "outputs": [
    {
     "name": "stdout",
     "output_type": "stream",
     "text": [
      "Adding 1320 videos with 1320 classes.\n",
      "Successfully added - 1320 videos and 1320 classes.\n",
      "Now Total - 1760 videos and 1760 classes.\n",
      "PENDING for Augmentations - 0 videos and 0 classes.\n"
     ]
    }
   ],
   "source": [
    "# confirm changes to generator\n",
    "video_generator.confirm()"
   ]
  },
  {
   "cell_type": "code",
   "execution_count": 31,
   "id": "b149eb31",
   "metadata": {
    "execution": {
     "iopub.execute_input": "2025-07-11T10:13:22.258889Z",
     "iopub.status.busy": "2025-07-11T10:13:22.258441Z",
     "iopub.status.idle": "2025-07-11T10:13:22.262128Z",
     "shell.execute_reply": "2025-07-11T10:13:22.261506Z"
    },
    "papermill": {
     "duration": 0.018879,
     "end_time": "2025-07-11T10:13:22.263137",
     "exception": false,
     "start_time": "2025-07-11T10:13:22.244258",
     "status": "completed"
    },
    "tags": []
   },
   "outputs": [
    {
     "name": "stdout",
     "output_type": "stream",
     "text": [
      "Checking Video Generator Total Videos and Class Count: 1760, 1760\n"
     ]
    }
   ],
   "source": [
    "print(f\"Checking Video Generator Total Videos and Class Count: {len(video_generator.videos)}, {len(video_generator.labels)}\")"
   ]
  },
  {
   "cell_type": "markdown",
   "id": "a74583bb",
   "metadata": {
    "papermill": {
     "duration": 0.013816,
     "end_time": "2025-07-11T10:13:22.290705",
     "exception": false,
     "start_time": "2025-07-11T10:13:22.276889",
     "status": "completed"
    },
    "tags": []
   },
   "source": [
    "## Cheking (Output)"
   ]
  },
  {
   "cell_type": "code",
   "execution_count": 32,
   "id": "7c5c1ff7",
   "metadata": {
    "execution": {
     "iopub.execute_input": "2025-07-11T10:13:22.318984Z",
     "iopub.status.busy": "2025-07-11T10:13:22.318811Z",
     "iopub.status.idle": "2025-07-11T10:13:22.568143Z",
     "shell.execute_reply": "2025-07-11T10:13:22.567572Z"
    },
    "papermill": {
     "duration": 0.266006,
     "end_time": "2025-07-11T10:13:22.570504",
     "exception": false,
     "start_time": "2025-07-11T10:13:22.304498",
     "status": "completed"
    },
    "tags": []
   },
   "outputs": [
    {
     "name": "stdout",
     "output_type": "stream",
     "text": [
      "(24, 5, 128, 128, 3) (24,)\n"
     ]
    },
    {
     "data": {
      "image/png": "[encoded data removed]",
      "text/plain": [
       "<Figure size 1000x500 with 2 Axes>"
      ]
     },
     "metadata": {},
     "output_type": "display_data"
    },
    {
     "name": "stdout",
     "output_type": "stream",
     "text": [
      "Might be two different action, but to check the flipping focus on the door behind.\n"
     ]
    }
   ],
   "source": [
    "# check horizontal flips\n",
    "videos, labels = video_generator[7]\n",
    "videos1, labels1 = video_generator[1]\n",
    "\n",
    "print(videos.shape, labels.shape)\n",
    "\n",
    "show_frame_vs(videos[0,0],videos1[1,0], title1=\"Flipped Frame 1\", title2=\"Non Flipped Frame 1\")\n",
    "print(\"Might be two different action, but to check the flipping focus on the door behind.\")"
   ]
  },
  {
   "cell_type": "markdown",
   "id": "342ebb34",
   "metadata": {
    "papermill": {
     "duration": 0.015556,
     "end_time": "2025-07-11T10:13:22.602538",
     "exception": false,
     "start_time": "2025-07-11T10:13:22.586982",
     "status": "completed"
    },
    "tags": []
   },
   "source": [
    "# 🧪 Test Augmentation (Output)\n",
    "## 🖼️ Horizontal Flip Output"
   ]
  },
  {
   "cell_type": "code",
   "execution_count": 33,
   "id": "283db9f9",
   "metadata": {
    "execution": {
     "iopub.execute_input": "2025-07-11T10:13:22.635396Z",
     "iopub.status.busy": "2025-07-11T10:13:22.634761Z",
     "iopub.status.idle": "2025-07-11T10:13:22.638075Z",
     "shell.execute_reply": "2025-07-11T10:13:22.637353Z"
    },
    "papermill": {
     "duration": 0.020752,
     "end_time": "2025-07-11T10:13:22.639244",
     "exception": false,
     "start_time": "2025-07-11T10:13:22.618492",
     "status": "completed"
    },
    "tags": []
   },
   "outputs": [],
   "source": [
    "# flipped_video_1 = horizontal_flip(features[0])\n",
    "\n",
    "# flipped_video_1=np.asarray(flipped_video_1)\n",
    "\n",
    "# show_frame(flipped_video_1[0])\n",
    "# flipped_video_1.shape"
   ]
  },
  {
   "cell_type": "markdown",
   "id": "f8d3966e",
   "metadata": {
    "papermill": {
     "duration": 0.015706,
     "end_time": "2025-07-11T10:13:22.670898",
     "exception": false,
     "start_time": "2025-07-11T10:13:22.655192",
     "status": "completed"
    },
    "tags": []
   },
   "source": [
    "## 🖼️ Salt and Pepper Noise Output"
   ]
  },
  {
   "cell_type": "code",
   "execution_count": 34,
   "id": "cd887886",
   "metadata": {
    "execution": {
     "iopub.execute_input": "2025-07-11T10:13:22.703308Z",
     "iopub.status.busy": "2025-07-11T10:13:22.703076Z",
     "iopub.status.idle": "2025-07-11T10:13:22.705832Z",
     "shell.execute_reply": "2025-07-11T10:13:22.705335Z"
    },
    "papermill": {
     "duration": 0.02023,
     "end_time": "2025-07-11T10:13:22.706891",
     "exception": false,
     "start_time": "2025-07-11T10:13:22.686661",
     "status": "completed"
    },
    "tags": []
   },
   "outputs": [],
   "source": [
    "# noised_video = noise_video(features[0])\n",
    "\n",
    "# print(noised_video.shape)\n",
    "# show_frame(noised_video[0])"
   ]
  },
  {
   "cell_type": "markdown",
   "id": "8d4d5b60",
   "metadata": {
    "papermill": {
     "duration": 0.015699,
     "end_time": "2025-07-11T10:13:22.738628",
     "exception": false,
     "start_time": "2025-07-11T10:13:22.722929",
     "status": "completed"
    },
    "tags": []
   },
   "source": [
    "## 🖼️ Random Shear Output"
   ]
  },
  {
   "cell_type": "code",
   "execution_count": 35,
   "id": "f1a304c6",
   "metadata": {
    "execution": {
     "iopub.execute_input": "2025-07-11T10:13:22.770656Z",
     "iopub.status.busy": "2025-07-11T10:13:22.770458Z",
     "iopub.status.idle": "2025-07-11T10:13:22.773255Z",
     "shell.execute_reply": "2025-07-11T10:13:22.772791Z"
    },
    "papermill": {
     "duration": 0.02002,
     "end_time": "2025-07-11T10:13:22.774291",
     "exception": false,
     "start_time": "2025-07-11T10:13:22.754271",
     "status": "completed"
    },
    "tags": []
   },
   "outputs": [],
   "source": [
    "# print(features.shape)\n",
    "\n",
    "# sheared_1 = apply_shear_frames(features[0], shear_right=0)\n",
    "# sheared_2 = apply_shear_frames(features[0], shear_right=1)\n",
    "\n",
    "# sheared_1 = np.asarray(sheared_1)\n",
    "# sheared_2 = np.asarray(sheared_2)\n",
    "\n",
    "# print(sheared_1.shape)\n",
    "# show_frame(sheared_1[0])\n",
    "# show_frame(sheared_2[0])"
   ]
  },
  {
   "cell_type": "markdown",
   "id": "86e7591d",
   "metadata": {
    "papermill": {
     "duration": 0.01565,
     "end_time": "2025-07-11T10:13:22.806215",
     "exception": false,
     "start_time": "2025-07-11T10:13:22.790565",
     "status": "completed"
    },
    "tags": []
   },
   "source": [
    "# 📌 Preparing Data for Training"
   ]
  },
  {
   "cell_type": "code",
   "execution_count": 36,
   "id": "68398b93",
   "metadata": {
    "execution": {
     "iopub.execute_input": "2025-07-11T10:13:22.838639Z",
     "iopub.status.busy": "2025-07-11T10:13:22.838411Z",
     "iopub.status.idle": "2025-07-11T10:13:23.292826Z",
     "shell.execute_reply": "2025-07-11T10:13:23.292072Z"
    },
    "papermill": {
     "duration": 0.472049,
     "end_time": "2025-07-11T10:13:23.293960",
     "exception": false,
     "start_time": "2025-07-11T10:13:22.821911",
     "status": "completed"
    },
    "tags": []
   },
   "outputs": [],
   "source": [
    "# Clear previous session to free memory\n",
    "import gc\n",
    "\n",
    "gc.collect()\n",
    "tf.keras.backend.clear_session()"
   ]
  },
  {
   "cell_type": "markdown",
   "id": "3f7d1b27",
   "metadata": {
    "papermill": {
     "duration": 0.015654,
     "end_time": "2025-07-11T10:13:23.326418",
     "exception": false,
     "start_time": "2025-07-11T10:13:23.310764",
     "status": "completed"
    },
    "tags": []
   },
   "source": [
    "## Splitting data for ***Trainig*** and ***Testing***"
   ]
  },
  {
   "cell_type": "code",
   "execution_count": 37,
   "id": "ef22d8f3",
   "metadata": {
    "execution": {
     "iopub.execute_input": "2025-07-11T10:13:23.359233Z",
     "iopub.status.busy": "2025-07-11T10:13:23.358494Z",
     "iopub.status.idle": "2025-07-11T10:13:23.911893Z",
     "shell.execute_reply": "2025-07-11T10:13:23.911179Z"
    },
    "papermill": {
     "duration": 0.571129,
     "end_time": "2025-07-11T10:13:23.913205",
     "exception": false,
     "start_time": "2025-07-11T10:13:23.342076",
     "status": "completed"
    },
    "tags": []
   },
   "outputs": [
    {
     "data": {
      "text/plain": [
       "((1760, 5, 128, 128, 3), (1760,))"
      ]
     },
     "execution_count": 37,
     "metadata": {},
     "output_type": "execute_result"
    }
   ],
   "source": [
    "videos = video_generator.videos\n",
    "labels = video_generator.labels\n",
    "\n",
    "videos = np.array(videos, dtype='float32')\n",
    "labels = np.array(labels)\n",
    "\n",
    "videos.shape, labels.shape"
   ]
  },
  {
   "cell_type": "code",
   "execution_count": 38,
   "id": "0db9be1f",
   "metadata": {
    "execution": {
     "iopub.execute_input": "2025-07-11T10:13:23.946963Z",
     "iopub.status.busy": "2025-07-11T10:13:23.946530Z",
     "iopub.status.idle": "2025-07-11T10:13:23.951560Z",
     "shell.execute_reply": "2025-07-11T10:13:23.951017Z"
    },
    "papermill": {
     "duration": 0.022537,
     "end_time": "2025-07-11T10:13:23.952537",
     "exception": false,
     "start_time": "2025-07-11T10:13:23.930000",
     "status": "completed"
    },
    "tags": []
   },
   "outputs": [
    {
     "data": {
      "text/plain": [
       "(1760, 11)"
      ]
     },
     "execution_count": 38,
     "metadata": {},
     "output_type": "execute_result"
    }
   ],
   "source": [
    "from tensorflow.keras.utils import to_categorical\n",
    "\n",
    "one_hot_encoded_labels = to_categorical(labels)\n",
    "\n",
    "one_hot_encoded_labels.shape"
   ]
  },
  {
   "cell_type": "code",
   "execution_count": 39,
   "id": "e4e20959",
   "metadata": {
    "execution": {
     "iopub.execute_input": "2025-07-11T10:13:23.985698Z",
     "iopub.status.busy": "2025-07-11T10:13:23.985252Z",
     "iopub.status.idle": "2025-07-11T10:13:24.210366Z",
     "shell.execute_reply": "2025-07-11T10:13:24.209793Z"
    },
    "papermill": {
     "duration": 0.242686,
     "end_time": "2025-07-11T10:13:24.211391",
     "exception": false,
     "start_time": "2025-07-11T10:13:23.968705",
     "status": "completed"
    },
    "tags": []
   },
   "outputs": [
    {
     "data": {
      "text/plain": [
       "0"
      ]
     },
     "execution_count": 39,
     "metadata": {},
     "output_type": "execute_result"
    }
   ],
   "source": [
    "gc.collect()"
   ]
  },
  {
   "cell_type": "code",
   "execution_count": 40,
   "id": "a17b7cdc",
   "metadata": {
    "execution": {
     "iopub.execute_input": "2025-07-11T10:13:24.244988Z",
     "iopub.status.busy": "2025-07-11T10:13:24.244795Z",
     "iopub.status.idle": "2025-07-11T10:13:24.854162Z",
     "shell.execute_reply": "2025-07-11T10:13:24.853360Z"
    },
    "papermill": {
     "duration": 0.627529,
     "end_time": "2025-07-11T10:13:24.855522",
     "exception": false,
     "start_time": "2025-07-11T10:13:24.227993",
     "status": "completed"
    },
    "tags": []
   },
   "outputs": [
    {
     "data": {
      "text/plain": [
       "((1408, 5, 128, 128, 3), (1408, 11), (352, 5, 128, 128, 3), (352, 11))"
      ]
     },
     "execution_count": 40,
     "metadata": {},
     "output_type": "execute_result"
    }
   ],
   "source": [
    "# RUN Split the Data into Train ( 75% ) and Test Set ( 25% ).\n",
    "from sklearn.model_selection import train_test_split\n",
    "features_train, features_test, labels_train, labels_test = train_test_split(videos,\n",
    "                                                                            one_hot_encoded_labels,\n",
    "                                                                            test_size = TEST_SIZE,\n",
    "                                                                            shuffle = True,\n",
    "                                                                            random_state = seed_constant)\n",
    "\n",
    "features_train.shape, labels_train.shape, features_test.shape, labels_test.shape"
   ]
  },
  {
   "cell_type": "markdown",
   "id": "d4f62fb6",
   "metadata": {
    "papermill": {
     "duration": 0.015864,
     "end_time": "2025-07-11T10:13:24.888332",
     "exception": false,
     "start_time": "2025-07-11T10:13:24.872468",
     "status": "completed"
    },
    "tags": []
   },
   "source": [
    "## Splitting data for ***Training Set*** and ***Validation Set***"
   ]
  },
  {
   "cell_type": "code",
   "execution_count": 41,
   "id": "7fadd9ae",
   "metadata": {
    "execution": {
     "iopub.execute_input": "2025-07-11T10:13:24.921666Z",
     "iopub.status.busy": "2025-07-11T10:13:24.920952Z",
     "iopub.status.idle": "2025-07-11T10:13:24.926867Z",
     "shell.execute_reply": "2025-07-11T10:13:24.926340Z"
    },
    "papermill": {
     "duration": 0.023704,
     "end_time": "2025-07-11T10:13:24.927887",
     "exception": false,
     "start_time": "2025-07-11T10:13:24.904183",
     "status": "completed"
    },
    "tags": []
   },
   "outputs": [
    {
     "data": {
      "text/plain": [
       "((1126, 5, 128, 128, 3), (1126, 11), (282, 5, 128, 128, 3), (282, 11))"
      ]
     },
     "execution_count": 41,
     "metadata": {},
     "output_type": "execute_result"
    }
   ],
   "source": [
    "# Assuming features_train and labels_train are defined\n",
    "train_set = 1-VALIDATION_SPLIT\n",
    "\n",
    "train_video_frames, val_video_frames = features_train[:int(train_set * len(features_train))], features_train[int(train_set * len(features_train)):]\n",
    "train_labels, val_labels = labels_train[:int(train_set * len(labels_train))], labels_train[int(train_set * len(labels_train)):]\n",
    "\n",
    "train_video_frames.shape, train_labels.shape, val_video_frames.shape, val_labels.shape"
   ]
  },
  {
   "cell_type": "markdown",
   "id": "ad6d3b22",
   "metadata": {
    "papermill": {
     "duration": 0.016329,
     "end_time": "2025-07-11T10:13:24.960405",
     "exception": false,
     "start_time": "2025-07-11T10:13:24.944076",
     "status": "completed"
    },
    "tags": []
   },
   "source": [
    "## Use Generator `Video Data Generator`"
   ]
  },
  {
   "cell_type": "code",
   "execution_count": 42,
   "id": "ca3a0bd5",
   "metadata": {
    "execution": {
     "iopub.execute_input": "2025-07-11T10:13:24.993416Z",
     "iopub.status.busy": "2025-07-11T10:13:24.993205Z",
     "iopub.status.idle": "2025-07-11T10:13:24.999502Z",
     "shell.execute_reply": "2025-07-11T10:13:24.998947Z"
    },
    "papermill": {
     "duration": 0.024068,
     "end_time": "2025-07-11T10:13:25.000472",
     "exception": false,
     "start_time": "2025-07-11T10:13:24.976404",
     "status": "completed"
    },
    "tags": []
   },
   "outputs": [
    {
     "name": "stdout",
     "output_type": "stream",
     "text": [
      "Total 1126 videos and 1126 classes\n",
      "Total 282 videos and 282 classes\n"
     ]
    },
    {
     "data": {
      "text/plain": [
       "(47, 12)"
      ]
     },
     "execution_count": 42,
     "metadata": {},
     "output_type": "execute_result"
    }
   ],
   "source": [
    "# Create the training and validation generators\n",
    "train_gen = VideoDataGenerator(\n",
    "    videos=train_video_frames, \n",
    "    labels=train_labels, \n",
    "    batch_size=BATCH_SIZE,\n",
    ")\n",
    "\n",
    "val_gen = VideoDataGenerator(\n",
    "    videos=val_video_frames, \n",
    "    labels=val_labels, \n",
    "    batch_size=BATCH_SIZE,\n",
    ")\n",
    "\n",
    "len(train_gen), len(val_gen)"
   ]
  },
  {
   "cell_type": "markdown",
   "id": "d26361b2",
   "metadata": {
    "papermill": {
     "duration": 0.016211,
     "end_time": "2025-07-11T10:13:25.033617",
     "exception": false,
     "start_time": "2025-07-11T10:13:25.017406",
     "status": "completed"
    },
    "tags": []
   },
   "source": [
    "## Inspect ***Generator*** Data on Epochs"
   ]
  },
  {
   "cell_type": "code",
   "execution_count": 43,
   "id": "10aa6381",
   "metadata": {
    "execution": {
     "iopub.execute_input": "2025-07-11T10:13:25.067584Z",
     "iopub.status.busy": "2025-07-11T10:13:25.067395Z",
     "iopub.status.idle": "2025-07-11T10:13:25.077763Z",
     "shell.execute_reply": "2025-07-11T10:13:25.077200Z"
    },
    "papermill": {
     "duration": 0.029047,
     "end_time": "2025-07-11T10:13:25.078809",
     "exception": false,
     "start_time": "2025-07-11T10:13:25.049762",
     "status": "completed"
    },
    "tags": []
   },
   "outputs": [
    {
     "name": "stdout",
     "output_type": "stream",
     "text": [
      "[   0    1    2 ... 1123 1124 1125]\n",
      "[ 79  52 710 ... 397  67 802]\n"
     ]
    },
    {
     "data": {
      "text/plain": [
       "(24, (24, 5, 128, 128, 3), (24, 11))"
      ]
     },
     "execution_count": 43,
     "metadata": {},
     "output_type": "execute_result"
    }
   ],
   "source": [
    "features, labels = train_gen[1]\n",
    "\n",
    "print(train_gen.indices)\n",
    "\n",
    "train_gen.on_epoch_end()\n",
    "\n",
    "print(train_gen.indices)\n",
    "\n",
    "BATCH_SIZE, features.shape, labels.shape"
   ]
  },
  {
   "cell_type": "markdown",
   "id": "8efb6cf9",
   "metadata": {
    "papermill": {
     "duration": 0.016072,
     "end_time": "2025-07-11T10:13:25.112540",
     "exception": false,
     "start_time": "2025-07-11T10:13:25.096468",
     "status": "completed"
    },
    "tags": []
   },
   "source": [
    "## Compute Class Weight"
   ]
  },
  {
   "cell_type": "code",
   "execution_count": 44,
   "id": "d69b64a6",
   "metadata": {
    "execution": {
     "iopub.execute_input": "2025-07-11T10:13:25.146034Z",
     "iopub.status.busy": "2025-07-11T10:13:25.145850Z",
     "iopub.status.idle": "2025-07-11T10:13:25.151833Z",
     "shell.execute_reply": "2025-07-11T10:13:25.151103Z"
    },
    "papermill": {
     "duration": 0.024133,
     "end_time": "2025-07-11T10:13:25.152977",
     "exception": false,
     "start_time": "2025-07-11T10:13:25.128844",
     "status": "completed"
    },
    "tags": []
   },
   "outputs": [
    {
     "name": "stdout",
     "output_type": "stream",
     "text": [
      "Class weights: {0: 1.0, 1: 1.0, 2: 1.0, 3: 1.0, 4: 1.0, 5: 1.0, 6: 1.0, 7: 1.0, 8: 1.0, 9: 1.0, 10: 1.0}\n"
     ]
    }
   ],
   "source": [
    "from sklearn.utils.class_weight import compute_class_weight\n",
    "import numpy as np\n",
    "\n",
    "# Assuming y_int are integer labels (not one-hot)\n",
    "y_int = np.argmax(one_hot_encoded_labels, axis=1)  # or just integer labels if you have them\n",
    "\n",
    "classes = np.arange(NO_OF_CLASSES)  # e.g. np.arange(16)\n",
    "class_weights_values = compute_class_weight(class_weight='balanced', classes=classes, y=y_int)\n",
    "\n",
    "class_weights = dict(zip(classes, class_weights_values))\n",
    "\n",
    "print(\"Class weights:\", class_weights)\n"
   ]
  },
  {
   "cell_type": "code",
   "execution_count": 45,
   "id": "07ece35d",
   "metadata": {
    "execution": {
     "iopub.execute_input": "2025-07-11T10:13:25.186747Z",
     "iopub.status.busy": "2025-07-11T10:13:25.186272Z",
     "iopub.status.idle": "2025-07-11T10:13:25.427729Z",
     "shell.execute_reply": "2025-07-11T10:13:25.427013Z"
    },
    "papermill": {
     "duration": 0.259238,
     "end_time": "2025-07-11T10:13:25.428947",
     "exception": false,
     "start_time": "2025-07-11T10:13:25.169709",
     "status": "completed"
    },
    "tags": []
   },
   "outputs": [],
   "source": [
    "gc.collect()\n",
    "del videos, one_hot_encoded_labels, labels_train\n",
    "del features_train, val_labels, train_labels\n",
    "del val_video_frames, train_video_frames"
   ]
  },
  {
   "cell_type": "markdown",
   "id": "4e8d32c0",
   "metadata": {
    "papermill": {
     "duration": 0.016564,
     "end_time": "2025-07-11T10:13:25.463582",
     "exception": false,
     "start_time": "2025-07-11T10:13:25.447018",
     "status": "completed"
    },
    "tags": []
   },
   "source": [
    "# ✨ Model Execution\n",
    "## Creating Model"
   ]
  },
  {
   "cell_type": "code",
   "execution_count": 46,
   "id": "0d4e0372",
   "metadata": {
    "execution": {
     "iopub.execute_input": "2025-07-11T10:13:25.497539Z",
     "iopub.status.busy": "2025-07-11T10:13:25.497285Z",
     "iopub.status.idle": "2025-07-11T10:13:26.692726Z",
     "shell.execute_reply": "2025-07-11T10:13:26.692099Z"
    },
    "papermill": {
     "duration": 1.213787,
     "end_time": "2025-07-11T10:13:26.693725",
     "exception": false,
     "start_time": "2025-07-11T10:13:25.479938",
     "status": "completed"
    },
    "tags": []
   },
   "outputs": [
    {
     "name": "stdout",
     "output_type": "stream",
     "text": [
      "Loading Xception base model...\n",
      "Model architecture created successfully!\n"
     ]
    },
    {
     "name": "stderr",
     "output_type": "stream",
     "text": [
      "/usr/local/lib/python3.11/dist-packages/keras/src/layers/core/wrapper.py:27: UserWarning: Do not pass an `input_shape`/`input_dim` argument to a layer. When using Sequential models, prefer using an `Input(shape)` object as the first layer in the model instead.\n",
      "  super().__init__(**kwargs)\n"
     ]
    },
    {
     "data": {
      "text/html": [
       "<pre style=\"white-space:pre;overflow-x:auto;line-height:normal;font-family:Menlo,'DejaVu Sans Mono',consolas,'Courier New',monospace\"><span style=\"font-weight: bold\">Model: \"sequential\"</span>\n",
       "</pre>\n"
      ],
      "text/plain": [
       "\u001b[1mModel: \"sequential\"\u001b[0m\n"
      ]
     },
     "metadata": {},
     "output_type": "display_data"
    },
    {
     "data": {
      "text/html": [
       "<pre style=\"white-space:pre;overflow-x:auto;line-height:normal;font-family:Menlo,'DejaVu Sans Mono',consolas,'Courier New',monospace\">┏━━━━━━━━━━━━━━━━━━━━━━━━━━━━━━━━━━━━━━┳━━━━━━━━━━━━━━━━━━━━━━━━━━━━━┳━━━━━━━━━━━━━━━━━┓\n",
       "┃<span style=\"font-weight: bold\"> Layer (type)                         </span>┃<span style=\"font-weight: bold\"> Output Shape                </span>┃<span style=\"font-weight: bold\">         Param # </span>┃\n",
       "┡━━━━━━━━━━━━━━━━━━━━━━━━━━━━━━━━━━━━━━╇━━━━━━━━━━━━━━━━━━━━━━━━━━━━━╇━━━━━━━━━━━━━━━━━┩\n",
       "│ time_distributed (<span style=\"color: #0087ff; text-decoration-color: #0087ff\">TimeDistributed</span>)   │ (<span style=\"color: #00d7ff; text-decoration-color: #00d7ff\">None</span>, <span style=\"color: #00af00; text-decoration-color: #00af00\">5</span>, <span style=\"color: #00af00; text-decoration-color: #00af00\">4</span>, <span style=\"color: #00af00; text-decoration-color: #00af00\">4</span>, <span style=\"color: #00af00; text-decoration-color: #00af00\">2048</span>)       │      <span style=\"color: #00af00; text-decoration-color: #00af00\">20,861,480</span> │\n",
       "├──────────────────────────────────────┼─────────────────────────────┼─────────────────┤\n",
       "│ time_distributed_1 (<span style=\"color: #0087ff; text-decoration-color: #0087ff\">TimeDistributed</span>) │ (<span style=\"color: #00d7ff; text-decoration-color: #00d7ff\">None</span>, <span style=\"color: #00af00; text-decoration-color: #00af00\">5</span>, <span style=\"color: #00af00; text-decoration-color: #00af00\">2048</span>)             │               <span style=\"color: #00af00; text-decoration-color: #00af00\">0</span> │\n",
       "├──────────────────────────────────────┼─────────────────────────────┼─────────────────┤\n",
       "│ lstm (<span style=\"color: #0087ff; text-decoration-color: #0087ff\">LSTM</span>)                          │ (<span style=\"color: #00d7ff; text-decoration-color: #00d7ff\">None</span>, <span style=\"color: #00af00; text-decoration-color: #00af00\">128</span>)                 │       <span style=\"color: #00af00; text-decoration-color: #00af00\">1,114,624</span> │\n",
       "├──────────────────────────────────────┼─────────────────────────────┼─────────────────┤\n",
       "│ batch_normalization                  │ (<span style=\"color: #00d7ff; text-decoration-color: #00d7ff\">None</span>, <span style=\"color: #00af00; text-decoration-color: #00af00\">128</span>)                 │             <span style=\"color: #00af00; text-decoration-color: #00af00\">512</span> │\n",
       "│ (<span style=\"color: #0087ff; text-decoration-color: #0087ff\">BatchNormalization</span>)                 │                             │                 │\n",
       "├──────────────────────────────────────┼─────────────────────────────┼─────────────────┤\n",
       "│ dropout_lstm (<span style=\"color: #0087ff; text-decoration-color: #0087ff\">Dropout</span>)               │ (<span style=\"color: #00d7ff; text-decoration-color: #00d7ff\">None</span>, <span style=\"color: #00af00; text-decoration-color: #00af00\">128</span>)                 │               <span style=\"color: #00af00; text-decoration-color: #00af00\">0</span> │\n",
       "├──────────────────────────────────────┼─────────────────────────────┼─────────────────┤\n",
       "│ dense (<span style=\"color: #0087ff; text-decoration-color: #0087ff\">Dense</span>)                        │ (<span style=\"color: #00d7ff; text-decoration-color: #00d7ff\">None</span>, <span style=\"color: #00af00; text-decoration-color: #00af00\">512</span>)                 │          <span style=\"color: #00af00; text-decoration-color: #00af00\">66,048</span> │\n",
       "├──────────────────────────────────────┼─────────────────────────────┼─────────────────┤\n",
       "│ dropout_dense (<span style=\"color: #0087ff; text-decoration-color: #0087ff\">Dropout</span>)              │ (<span style=\"color: #00d7ff; text-decoration-color: #00d7ff\">None</span>, <span style=\"color: #00af00; text-decoration-color: #00af00\">512</span>)                 │               <span style=\"color: #00af00; text-decoration-color: #00af00\">0</span> │\n",
       "├──────────────────────────────────────┼─────────────────────────────┼─────────────────┤\n",
       "│ dense_1 (<span style=\"color: #0087ff; text-decoration-color: #0087ff\">Dense</span>)                      │ (<span style=\"color: #00d7ff; text-decoration-color: #00d7ff\">None</span>, <span style=\"color: #00af00; text-decoration-color: #00af00\">11</span>)                  │           <span style=\"color: #00af00; text-decoration-color: #00af00\">5,643</span> │\n",
       "└──────────────────────────────────────┴─────────────────────────────┴─────────────────┘\n",
       "</pre>\n"
      ],
      "text/plain": [
       "┏━━━━━━━━━━━━━━━━━━━━━━━━━━━━━━━━━━━━━━┳━━━━━━━━━━━━━━━━━━━━━━━━━━━━━┳━━━━━━━━━━━━━━━━━┓\n",
       "┃\u001b[1m \u001b[0m\u001b[1mLayer (type)                        \u001b[0m\u001b[1m \u001b[0m┃\u001b[1m \u001b[0m\u001b[1mOutput Shape               \u001b[0m\u001b[1m \u001b[0m┃\u001b[1m \u001b[0m\u001b[1m        Param #\u001b[0m\u001b[1m \u001b[0m┃\n",
       "┡━━━━━━━━━━━━━━━━━━━━━━━━━━━━━━━━━━━━━━╇━━━━━━━━━━━━━━━━━━━━━━━━━━━━━╇━━━━━━━━━━━━━━━━━┩\n",
       "│ time_distributed (\u001b[38;5;33mTimeDistributed\u001b[0m)   │ (\u001b[38;5;45mNone\u001b[0m, \u001b[38;5;34m5\u001b[0m, \u001b[38;5;34m4\u001b[0m, \u001b[38;5;34m4\u001b[0m, \u001b[38;5;34m2048\u001b[0m)       │      \u001b[38;5;34m20,861,480\u001b[0m │\n",
       "├──────────────────────────────────────┼─────────────────────────────┼─────────────────┤\n",
       "│ time_distributed_1 (\u001b[38;5;33mTimeDistributed\u001b[0m) │ (\u001b[38;5;45mNone\u001b[0m, \u001b[38;5;34m5\u001b[0m, \u001b[38;5;34m2048\u001b[0m)             │               \u001b[38;5;34m0\u001b[0m │\n",
       "├──────────────────────────────────────┼─────────────────────────────┼─────────────────┤\n",
       "│ lstm (\u001b[38;5;33mLSTM\u001b[0m)                          │ (\u001b[38;5;45mNone\u001b[0m, \u001b[38;5;34m128\u001b[0m)                 │       \u001b[38;5;34m1,114,624\u001b[0m │\n",
       "├──────────────────────────────────────┼─────────────────────────────┼─────────────────┤\n",
       "│ batch_normalization                  │ (\u001b[38;5;45mNone\u001b[0m, \u001b[38;5;34m128\u001b[0m)                 │             \u001b[38;5;34m512\u001b[0m │\n",
       "│ (\u001b[38;5;33mBatchNormalization\u001b[0m)                 │                             │                 │\n",
       "├──────────────────────────────────────┼─────────────────────────────┼─────────────────┤\n",
       "│ dropout_lstm (\u001b[38;5;33mDropout\u001b[0m)               │ (\u001b[38;5;45mNone\u001b[0m, \u001b[38;5;34m128\u001b[0m)                 │               \u001b[38;5;34m0\u001b[0m │\n",
       "├──────────────────────────────────────┼─────────────────────────────┼─────────────────┤\n",
       "│ dense (\u001b[38;5;33mDense\u001b[0m)                        │ (\u001b[38;5;45mNone\u001b[0m, \u001b[38;5;34m512\u001b[0m)                 │          \u001b[38;5;34m66,048\u001b[0m │\n",
       "├──────────────────────────────────────┼─────────────────────────────┼─────────────────┤\n",
       "│ dropout_dense (\u001b[38;5;33mDropout\u001b[0m)              │ (\u001b[38;5;45mNone\u001b[0m, \u001b[38;5;34m512\u001b[0m)                 │               \u001b[38;5;34m0\u001b[0m │\n",
       "├──────────────────────────────────────┼─────────────────────────────┼─────────────────┤\n",
       "│ dense_1 (\u001b[38;5;33mDense\u001b[0m)                      │ (\u001b[38;5;45mNone\u001b[0m, \u001b[38;5;34m11\u001b[0m)                  │           \u001b[38;5;34m5,643\u001b[0m │\n",
       "└──────────────────────────────────────┴─────────────────────────────┴─────────────────┘\n"
      ]
     },
     "metadata": {},
     "output_type": "display_data"
    },
    {
     "data": {
      "text/html": [
       "<pre style=\"white-space:pre;overflow-x:auto;line-height:normal;font-family:Menlo,'DejaVu Sans Mono',consolas,'Courier New',monospace\"><span style=\"font-weight: bold\"> Total params: </span><span style=\"color: #00af00; text-decoration-color: #00af00\">22,048,307</span> (84.11 MB)\n",
       "</pre>\n"
      ],
      "text/plain": [
       "\u001b[1m Total params: \u001b[0m\u001b[38;5;34m22,048,307\u001b[0m (84.11 MB)\n"
      ]
     },
     "metadata": {},
     "output_type": "display_data"
    },
    {
     "data": {
      "text/html": [
       "<pre style=\"white-space:pre;overflow-x:auto;line-height:normal;font-family:Menlo,'DejaVu Sans Mono',consolas,'Courier New',monospace\"><span style=\"font-weight: bold\"> Trainable params: </span><span style=\"color: #00af00; text-decoration-color: #00af00\">6,682,891</span> (25.49 MB)\n",
       "</pre>\n"
      ],
      "text/plain": [
       "\u001b[1m Trainable params: \u001b[0m\u001b[38;5;34m6,682,891\u001b[0m (25.49 MB)\n"
      ]
     },
     "metadata": {},
     "output_type": "display_data"
    },
    {
     "data": {
      "text/html": [
       "<pre style=\"white-space:pre;overflow-x:auto;line-height:normal;font-family:Menlo,'DejaVu Sans Mono',consolas,'Courier New',monospace\"><span style=\"font-weight: bold\"> Non-trainable params: </span><span style=\"color: #00af00; text-decoration-color: #00af00\">15,365,416</span> (58.61 MB)\n",
       "</pre>\n"
      ],
      "text/plain": [
       "\u001b[1m Non-trainable params: \u001b[0m\u001b[38;5;34m15,365,416\u001b[0m (58.61 MB)\n"
      ]
     },
     "metadata": {},
     "output_type": "display_data"
    },
    {
     "name": "stdout",
     "output_type": "stream",
     "text": [
      "Model Created Successfully!\n"
     ]
    }
   ],
   "source": [
    "# Create the model\n",
    "xlstm_model = create_xception_lstm_model(\n",
    "    sequence_length=SEQUENCE_LENGTH,\n",
    "    image_height=IMAGE_HEIGHT,\n",
    "    image_width=IMAGE_WIDTH,\n",
    "    classes_list=CLASSES_LIST,\n",
    "    dropout_rate=DROPOUT_RATE\n",
    ")\n",
    "\n",
    "# Check if model was created successfully\n",
    "if xlstm_model is None:\n",
    "    print(\"Failed to create model. Check error messages above.\")\n",
    "else:\n",
    "    print(\"Model Created Successfully!\")"
   ]
  },
  {
   "cell_type": "markdown",
   "id": "02afa2b3",
   "metadata": {
    "papermill": {
     "duration": 0.017009,
     "end_time": "2025-07-11T10:13:26.728868",
     "exception": false,
     "start_time": "2025-07-11T10:13:26.711859",
     "status": "completed"
    },
    "tags": []
   },
   "source": [
    "## Plot Model Structure"
   ]
  },
  {
   "cell_type": "code",
   "execution_count": 47,
   "id": "b66216c0",
   "metadata": {
    "execution": {
     "iopub.execute_input": "2025-07-11T10:13:26.764069Z",
     "iopub.status.busy": "2025-07-11T10:13:26.763564Z",
     "iopub.status.idle": "2025-07-11T10:13:27.082839Z",
     "shell.execute_reply": "2025-07-11T10:13:27.082057Z"
    },
    "papermill": {
     "duration": 0.338232,
     "end_time": "2025-07-11T10:13:27.084098",
     "exception": false,
     "start_time": "2025-07-11T10:13:26.745866",
     "status": "completed"
    },
    "tags": []
   },
   "outputs": [
    {
     "name": "stdout",
     "output_type": "stream",
     "text": [
      "Xception Model Plot saved successfully...\n"
     ]
    }
   ],
   "source": [
    "# Plot the structure of the contructed model.\n",
    "from tensorflow.keras.utils import plot_model\n",
    "\n",
    "plot_model(xlstm_model, to_file = f'{MODEL_NAME}_model_Plot.png', show_shapes = True, show_layer_names = True)\n",
    "\n",
    "print(f\"{MODEL_NAME} Model Plot saved successfully...\")"
   ]
  },
  {
   "cell_type": "markdown",
   "id": "08993c62",
   "metadata": {
    "papermill": {
     "duration": 0.017013,
     "end_time": "2025-07-11T10:13:27.119847",
     "exception": false,
     "start_time": "2025-07-11T10:13:27.102834",
     "status": "completed"
    },
    "tags": []
   },
   "source": [
    "## Model Compile"
   ]
  },
  {
   "cell_type": "code",
   "execution_count": 48,
   "id": "59e1d72e",
   "metadata": {
    "execution": {
     "iopub.execute_input": "2025-07-11T10:13:27.157093Z",
     "iopub.status.busy": "2025-07-11T10:13:27.156484Z",
     "iopub.status.idle": "2025-07-11T10:13:27.172224Z",
     "shell.execute_reply": "2025-07-11T10:13:27.171720Z"
    },
    "papermill": {
     "duration": 0.03556,
     "end_time": "2025-07-11T10:13:27.173270",
     "exception": false,
     "start_time": "2025-07-11T10:13:27.137710",
     "status": "completed"
    },
    "tags": []
   },
   "outputs": [],
   "source": [
    "# Create an Instance of Early Stopping Callback\n",
    "from tensorflow.keras.callbacks import EarlyStopping\n",
    "\n",
    "early_stopping_callback = EarlyStopping(monitor = 'val_loss', \n",
    "                                        patience = 7, \n",
    "                                        mode = 'min', \n",
    "                                        restore_best_weights = True)\n",
    "\n",
    "# Compile the model and specify loss function, optimizer and metrics values to the model\n",
    "xlstm_model.compile(loss = 'categorical_crossentropy', \n",
    "                    optimizer=tf.keras.optimizers.Adam(learning_rate=0.0001),\n",
    "                    metrics = [\"accuracy\"])\n"
   ]
  },
  {
   "cell_type": "markdown",
   "id": "6e342142",
   "metadata": {
    "papermill": {
     "duration": 0.017889,
     "end_time": "2025-07-11T10:13:27.208900",
     "exception": false,
     "start_time": "2025-07-11T10:13:27.191011",
     "status": "completed"
    },
    "tags": []
   },
   "source": [
    "## 💪 Model Fit"
   ]
  },
  {
   "cell_type": "code",
   "execution_count": 49,
   "id": "71ee72cd",
   "metadata": {
    "execution": {
     "iopub.execute_input": "2025-07-11T10:13:27.246929Z",
     "iopub.status.busy": "2025-07-11T10:13:27.246737Z",
     "iopub.status.idle": "2025-07-11T10:13:27.252340Z",
     "shell.execute_reply": "2025-07-11T10:13:27.251651Z"
    },
    "papermill": {
     "duration": 0.026749,
     "end_time": "2025-07-11T10:13:27.253534",
     "exception": false,
     "start_time": "2025-07-11T10:13:27.226785",
     "status": "completed"
    },
    "tags": []
   },
   "outputs": [
    {
     "name": "stdout",
     "output_type": "stream",
     "text": [
      "Unique labels: [ 0  1  2  3  4  5  6  7  8  9 10]\n",
      "NO_OF_CLASSES: 11\n"
     ]
    }
   ],
   "source": [
    "labels = np.argmax(train_gen.labels, axis=1)  # assuming one-hot encoded\n",
    "print(\"Unique labels:\", np.unique(labels))\n",
    "print(\"NO_OF_CLASSES:\", NO_OF_CLASSES)\n"
   ]
  },
  {
   "cell_type": "code",
   "execution_count": 50,
   "id": "f09f22d8",
   "metadata": {
    "execution": {
     "iopub.execute_input": "2025-07-11T10:13:27.289331Z",
     "iopub.status.busy": "2025-07-11T10:13:27.289143Z",
     "iopub.status.idle": "2025-07-11T10:13:27.294189Z",
     "shell.execute_reply": "2025-07-11T10:13:27.293486Z"
    },
    "papermill": {
     "duration": 0.023774,
     "end_time": "2025-07-11T10:13:27.295166",
     "exception": false,
     "start_time": "2025-07-11T10:13:27.271392",
     "status": "completed"
    },
    "tags": []
   },
   "outputs": [
    {
     "name": "stdout",
     "output_type": "stream",
     "text": [
      "Train label shape: (1126, 11)\n",
      "Val label shape: (282, 11)\n"
     ]
    }
   ],
   "source": [
    "print(\"Train label shape:\", np.shape(train_gen.labels))\n",
    "print(\"Val label shape:\", np.shape(val_gen.labels))\n"
   ]
  },
  {
   "cell_type": "code",
   "execution_count": 51,
   "id": "57a49fc8",
   "metadata": {
    "execution": {
     "iopub.execute_input": "2025-07-11T10:13:27.330219Z",
     "iopub.status.busy": "2025-07-11T10:13:27.329980Z",
     "iopub.status.idle": "2025-07-11T10:13:27.333541Z",
     "shell.execute_reply": "2025-07-11T10:13:27.332857Z"
    },
    "papermill": {
     "duration": 0.022314,
     "end_time": "2025-07-11T10:13:27.334658",
     "exception": false,
     "start_time": "2025-07-11T10:13:27.312344",
     "status": "completed"
    },
    "tags": []
   },
   "outputs": [],
   "source": [
    "# from tensorflow.keras.callbacks import ReduceLROnPlateau\n",
    "\n",
    "# lr_scheduler = ReduceLROnPlateau(monitor='val_loss', \n",
    "#                                  factor=0.5, \n",
    "#                                  patience=3, \n",
    "#                                  min_lr=1e-6)\n",
    "\n",
    "\n",
    "\n",
    "# print(f\"Dataset - {DATASET_NAME}\")\n",
    "# print(f\"There are total {len(ALL_CLASS_NAMES)} classes, selected {NO_OF_CLASSES} classes\")\n",
    "# print(f\"Setting {MAX_VIDEO_PER_CLASS} videos/class to train the model.\")\n",
    "# print(f\"Image size {IMAGE_HEIGHT}x{IMAGE_WIDTH} with {SEQUENCE_LENGTH} sequence length\")\n",
    "# print(f\"Dropout rate: {DROPOUT_RATE}\")\n",
    "# print(f\"Train-Test split ratio {int((1-TEST_SIZE)*100)}/{int(TEST_SIZE*100)}\")\n",
    "# print(f\"Validation data from Train set {VALIDATION_SPLIT*100}%\")\n",
    "\n",
    "# print(\"\\n\")\n",
    "\n",
    "# print(f\"Training started for {len(train_gen.videos)} videos of {NO_OF_CLASSES} classes with {len(val_gen.videos)} videos for validation...\")\n",
    "\n",
    "# model_history = xlstm_model.fit(\n",
    "#     train_gen.as_dataset(),\n",
    "#     validation_data=val_gen.as_dataset(),\n",
    "#     epochs=EPOCHS,\n",
    "#     # class_weight=class_weight_dict,\n",
    "#     callbacks=[early_stopping_callback, lr_scheduler]\n",
    "# )"
   ]
  },
  {
   "cell_type": "markdown",
   "id": "52cabc24",
   "metadata": {
    "papermill": {
     "duration": 0.017008,
     "end_time": "2025-07-11T10:13:27.369248",
     "exception": false,
     "start_time": "2025-07-11T10:13:27.352240",
     "status": "completed"
    },
    "tags": []
   },
   "source": [
    "# Evaluation"
   ]
  },
  {
   "cell_type": "markdown",
   "id": "596e22e2",
   "metadata": {
    "papermill": {
     "duration": 0.017101,
     "end_time": "2025-07-11T10:13:27.403641",
     "exception": false,
     "start_time": "2025-07-11T10:13:27.386540",
     "status": "completed"
    },
    "tags": []
   },
   "source": [
    "## ⚡ Model Evaluate"
   ]
  },
  {
   "cell_type": "code",
   "execution_count": 52,
   "id": "8de78ad9",
   "metadata": {
    "execution": {
     "iopub.execute_input": "2025-07-11T10:13:27.439227Z",
     "iopub.status.busy": "2025-07-11T10:13:27.438582Z",
     "iopub.status.idle": "2025-07-11T10:13:27.441927Z",
     "shell.execute_reply": "2025-07-11T10:13:27.441285Z"
    },
    "papermill": {
     "duration": 0.022152,
     "end_time": "2025-07-11T10:13:27.443027",
     "exception": false,
     "start_time": "2025-07-11T10:13:27.420875",
     "status": "completed"
    },
    "tags": []
   },
   "outputs": [],
   "source": [
    "# # previous code\n",
    "# model_evaluation_history = xlstm_model.evaluate(features_test, labels_test)"
   ]
  },
  {
   "cell_type": "code",
   "execution_count": 53,
   "id": "f92dbc82",
   "metadata": {
    "execution": {
     "iopub.execute_input": "2025-07-11T10:13:27.478188Z",
     "iopub.status.busy": "2025-07-11T10:13:27.477966Z",
     "iopub.status.idle": "2025-07-11T10:13:27.481218Z",
     "shell.execute_reply": "2025-07-11T10:13:27.480520Z"
    },
    "papermill": {
     "duration": 0.021909,
     "end_time": "2025-07-11T10:13:27.482333",
     "exception": false,
     "start_time": "2025-07-11T10:13:27.460424",
     "status": "completed"
    },
    "tags": []
   },
   "outputs": [],
   "source": [
    "# import matplotlib.pyplot as plt\n",
    "\n",
    "# # Accuracy\n",
    "# plt.figure(figsize=(12, 5))\n",
    "\n",
    "# plt.subplot(1, 2, 1)\n",
    "# plt.plot(model_history.history['accuracy'], label='Train Accuracy')\n",
    "# plt.plot(model_history.history['val_accuracy'], label='Validation Accuracy')\n",
    "# plt.title('Model Accuracy')\n",
    "# plt.xlabel('Epoch')\n",
    "# plt.ylabel('Accuracy')\n",
    "# plt.legend()\n",
    "\n",
    "# # Loss\n",
    "# plt.subplot(1, 2, 2)\n",
    "# plt.plot(model_history.history['loss'], label='Train Loss')\n",
    "# plt.plot(model_history.history['val_loss'], label='Validation Loss')\n",
    "# plt.title('Model Loss')\n",
    "# plt.xlabel('Epoch')\n",
    "# plt.ylabel('Loss')\n",
    "# plt.legend()\n",
    "\n",
    "# plt.tight_layout()\n",
    "# plt.show()\n"
   ]
  },
  {
   "cell_type": "markdown",
   "id": "2617e2aa",
   "metadata": {
    "papermill": {
     "duration": 0.017003,
     "end_time": "2025-07-11T10:13:27.516784",
     "exception": false,
     "start_time": "2025-07-11T10:13:27.499781",
     "status": "completed"
    },
    "tags": []
   },
   "source": [
    "## 📈 Confusion Matrix"
   ]
  },
  {
   "cell_type": "code",
   "execution_count": 54,
   "id": "5eb1922e",
   "metadata": {
    "execution": {
     "iopub.execute_input": "2025-07-11T10:13:27.551794Z",
     "iopub.status.busy": "2025-07-11T10:13:27.551420Z",
     "iopub.status.idle": "2025-07-11T10:13:27.554861Z",
     "shell.execute_reply": "2025-07-11T10:13:27.554220Z"
    },
    "papermill": {
     "duration": 0.022028,
     "end_time": "2025-07-11T10:13:27.555872",
     "exception": false,
     "start_time": "2025-07-11T10:13:27.533844",
     "status": "completed"
    },
    "tags": []
   },
   "outputs": [],
   "source": [
    "# from sklearn.metrics import classification_report, confusion_matrix\n",
    "# import seaborn as sns\n",
    "# import matplotlib.pyplot as plt\n",
    "\n",
    "# # Create test generator with batch_size matching test set size\n",
    "# test_gen = VideoDataGenerator(\n",
    "#     videos=features_test,\n",
    "#     labels=labels_test,\n",
    "#     batch_size=4,  # Process all test samples at once\n",
    "# )\n",
    "\n",
    "# # Get predictions\n",
    "# predictions = xlstm_model.predict(test_gen.as_dataset())\n",
    "# predicted_classes = np.argmax(predictions, axis=1)\n",
    "# true_classes = np.argmax(labels_test, axis=1)\n",
    "\n",
    "# # Verify shapes\n",
    "# print(f\"True classes shape: {true_classes.shape}\")\n",
    "# print(f\"Predicted classes shape: {predicted_classes.shape}\")\n",
    "# assert len(true_classes) == len(predicted_classes), \"Sample counts do not match!\"\n",
    "\n",
    "# # Generate classification report\n",
    "# print(\"Classification Report:\")\n",
    "# print(classification_report(true_classes, predicted_classes, target_names=CLASSES_LIST))\n",
    "\n",
    "# # Plot confusion matrix\n",
    "# cm = confusion_matrix(true_classes, predicted_classes)\n",
    "# plt.figure(figsize=(8, 6))\n",
    "# sns.heatmap(cm, annot=True, fmt='d', cmap='Blues', xticklabels=CLASSES_LIST, yticklabels=CLASSES_LIST[-1])\n",
    "# plt.xlabel('Predicted')\n",
    "# plt.ylabel('True')\n",
    "# plt.title('Confusion Matrix')\n",
    "# plt.show()"
   ]
  },
  {
   "cell_type": "code",
   "execution_count": 55,
   "id": "0cbc9e6c",
   "metadata": {
    "execution": {
     "iopub.execute_input": "2025-07-11T10:13:27.591464Z",
     "iopub.status.busy": "2025-07-11T10:13:27.591257Z",
     "iopub.status.idle": "2025-07-11T10:32:07.934600Z",
     "shell.execute_reply": "2025-07-11T10:32:07.933946Z"
    },
    "papermill": {
     "duration": 1120.362851,
     "end_time": "2025-07-11T10:32:07.935951",
     "exception": false,
     "start_time": "2025-07-11T10:13:27.573100",
     "status": "completed"
    },
    "tags": []
   },
   "outputs": [
    {
     "name": "stdout",
     "output_type": "stream",
     "text": [
      "Memory cleared before creating VGG19+LSTM model\n",
      "TensorFlow version: 2.18.0\n",
      "Pre-loading VGG19 weights...\n",
      "Downloading data from https://storage.googleapis.com/tensorflow/keras-applications/vgg19/vgg19_weights_tf_dim_ordering_tf_kernels_notop.h5\n",
      "\u001b[1m80134624/80134624\u001b[0m \u001b[32m━━━━━━━━━━━━━━━━━━━━\u001b[0m\u001b[37m\u001b[0m \u001b[1m0s\u001b[0m 0us/step\n",
      "VGG19 weights loaded successfully!\n",
      "Creating VGG19+LSTM model with parameters:\n",
      "sequence_length: 5, image_height: 128, image_width: 128, classes_list length: 11, dropout_rate: 0.5\n",
      "VGG19+LSTM model architecture created successfully!\n"
     ]
    },
    {
     "name": "stderr",
     "output_type": "stream",
     "text": [
      "/usr/local/lib/python3.11/dist-packages/keras/src/layers/core/wrapper.py:27: UserWarning: Do not pass an `input_shape`/`input_dim` argument to a layer. When using Sequential models, prefer using an `Input(shape)` object as the first layer in the model instead.\n",
      "  super().__init__(**kwargs)\n"
     ]
    },
    {
     "data": {
      "text/html": [
       "<pre style=\"white-space:pre;overflow-x:auto;line-height:normal;font-family:Menlo,'DejaVu Sans Mono',consolas,'Courier New',monospace\"><span style=\"font-weight: bold\">Model: \"sequential\"</span>\n",
       "</pre>\n"
      ],
      "text/plain": [
       "\u001b[1mModel: \"sequential\"\u001b[0m\n"
      ]
     },
     "metadata": {},
     "output_type": "display_data"
    },
    {
     "data": {
      "text/html": [
       "<pre style=\"white-space:pre;overflow-x:auto;line-height:normal;font-family:Menlo,'DejaVu Sans Mono',consolas,'Courier New',monospace\">┏━━━━━━━━━━━━━━━━━━━━━━━━━━━━━━━━━━━━━━┳━━━━━━━━━━━━━━━━━━━━━━━━━━━━━┳━━━━━━━━━━━━━━━━━┓\n",
       "┃<span style=\"font-weight: bold\"> Layer (type)                         </span>┃<span style=\"font-weight: bold\"> Output Shape                </span>┃<span style=\"font-weight: bold\">         Param # </span>┃\n",
       "┡━━━━━━━━━━━━━━━━━━━━━━━━━━━━━━━━━━━━━━╇━━━━━━━━━━━━━━━━━━━━━━━━━━━━━╇━━━━━━━━━━━━━━━━━┩\n",
       "│ time_distributed_vgg19               │ (<span style=\"color: #00d7ff; text-decoration-color: #00d7ff\">None</span>, <span style=\"color: #00af00; text-decoration-color: #00af00\">5</span>, <span style=\"color: #00af00; text-decoration-color: #00af00\">4</span>, <span style=\"color: #00af00; text-decoration-color: #00af00\">4</span>, <span style=\"color: #00af00; text-decoration-color: #00af00\">512</span>)        │      <span style=\"color: #00af00; text-decoration-color: #00af00\">20,024,384</span> │\n",
       "│ (<span style=\"color: #0087ff; text-decoration-color: #0087ff\">TimeDistributed</span>)                    │                             │                 │\n",
       "├──────────────────────────────────────┼─────────────────────────────┼─────────────────┤\n",
       "│ time_distributed_pooling             │ (<span style=\"color: #00d7ff; text-decoration-color: #00d7ff\">None</span>, <span style=\"color: #00af00; text-decoration-color: #00af00\">5</span>, <span style=\"color: #00af00; text-decoration-color: #00af00\">512</span>)              │               <span style=\"color: #00af00; text-decoration-color: #00af00\">0</span> │\n",
       "│ (<span style=\"color: #0087ff; text-decoration-color: #0087ff\">TimeDistributed</span>)                    │                             │                 │\n",
       "├──────────────────────────────────────┼─────────────────────────────┼─────────────────┤\n",
       "│ lstm_vgg19 (<span style=\"color: #0087ff; text-decoration-color: #0087ff\">LSTM</span>)                    │ (<span style=\"color: #00d7ff; text-decoration-color: #00d7ff\">None</span>, <span style=\"color: #00af00; text-decoration-color: #00af00\">512</span>)                 │       <span style=\"color: #00af00; text-decoration-color: #00af00\">2,099,200</span> │\n",
       "├──────────────────────────────────────┼─────────────────────────────┼─────────────────┤\n",
       "│ batch_normalization_vgg19            │ (<span style=\"color: #00d7ff; text-decoration-color: #00d7ff\">None</span>, <span style=\"color: #00af00; text-decoration-color: #00af00\">512</span>)                 │           <span style=\"color: #00af00; text-decoration-color: #00af00\">2,048</span> │\n",
       "│ (<span style=\"color: #0087ff; text-decoration-color: #0087ff\">BatchNormalization</span>)                 │                             │                 │\n",
       "├──────────────────────────────────────┼─────────────────────────────┼─────────────────┤\n",
       "│ dropout_lstm_vgg19 (<span style=\"color: #0087ff; text-decoration-color: #0087ff\">Dropout</span>)         │ (<span style=\"color: #00d7ff; text-decoration-color: #00d7ff\">None</span>, <span style=\"color: #00af00; text-decoration-color: #00af00\">512</span>)                 │               <span style=\"color: #00af00; text-decoration-color: #00af00\">0</span> │\n",
       "├──────────────────────────────────────┼─────────────────────────────┼─────────────────┤\n",
       "│ dense_vgg19_1 (<span style=\"color: #0087ff; text-decoration-color: #0087ff\">Dense</span>)                │ (<span style=\"color: #00d7ff; text-decoration-color: #00d7ff\">None</span>, <span style=\"color: #00af00; text-decoration-color: #00af00\">512</span>)                 │         <span style=\"color: #00af00; text-decoration-color: #00af00\">262,656</span> │\n",
       "├──────────────────────────────────────┼─────────────────────────────┼─────────────────┤\n",
       "│ dropout_dense_vgg19_1 (<span style=\"color: #0087ff; text-decoration-color: #0087ff\">Dropout</span>)      │ (<span style=\"color: #00d7ff; text-decoration-color: #00d7ff\">None</span>, <span style=\"color: #00af00; text-decoration-color: #00af00\">512</span>)                 │               <span style=\"color: #00af00; text-decoration-color: #00af00\">0</span> │\n",
       "├──────────────────────────────────────┼─────────────────────────────┼─────────────────┤\n",
       "│ dense_vgg19_2 (<span style=\"color: #0087ff; text-decoration-color: #0087ff\">Dense</span>)                │ (<span style=\"color: #00d7ff; text-decoration-color: #00d7ff\">None</span>, <span style=\"color: #00af00; text-decoration-color: #00af00\">128</span>)                 │          <span style=\"color: #00af00; text-decoration-color: #00af00\">65,664</span> │\n",
       "├──────────────────────────────────────┼─────────────────────────────┼─────────────────┤\n",
       "│ dropout_dense_vgg19_2 (<span style=\"color: #0087ff; text-decoration-color: #0087ff\">Dropout</span>)      │ (<span style=\"color: #00d7ff; text-decoration-color: #00d7ff\">None</span>, <span style=\"color: #00af00; text-decoration-color: #00af00\">128</span>)                 │               <span style=\"color: #00af00; text-decoration-color: #00af00\">0</span> │\n",
       "├──────────────────────────────────────┼─────────────────────────────┼─────────────────┤\n",
       "│ output_vgg19 (<span style=\"color: #0087ff; text-decoration-color: #0087ff\">Dense</span>)                 │ (<span style=\"color: #00d7ff; text-decoration-color: #00d7ff\">None</span>, <span style=\"color: #00af00; text-decoration-color: #00af00\">11</span>)                  │           <span style=\"color: #00af00; text-decoration-color: #00af00\">1,419</span> │\n",
       "└──────────────────────────────────────┴─────────────────────────────┴─────────────────┘\n",
       "</pre>\n"
      ],
      "text/plain": [
       "┏━━━━━━━━━━━━━━━━━━━━━━━━━━━━━━━━━━━━━━┳━━━━━━━━━━━━━━━━━━━━━━━━━━━━━┳━━━━━━━━━━━━━━━━━┓\n",
       "┃\u001b[1m \u001b[0m\u001b[1mLayer (type)                        \u001b[0m\u001b[1m \u001b[0m┃\u001b[1m \u001b[0m\u001b[1mOutput Shape               \u001b[0m\u001b[1m \u001b[0m┃\u001b[1m \u001b[0m\u001b[1m        Param #\u001b[0m\u001b[1m \u001b[0m┃\n",
       "┡━━━━━━━━━━━━━━━━━━━━━━━━━━━━━━━━━━━━━━╇━━━━━━━━━━━━━━━━━━━━━━━━━━━━━╇━━━━━━━━━━━━━━━━━┩\n",
       "│ time_distributed_vgg19               │ (\u001b[38;5;45mNone\u001b[0m, \u001b[38;5;34m5\u001b[0m, \u001b[38;5;34m4\u001b[0m, \u001b[38;5;34m4\u001b[0m, \u001b[38;5;34m512\u001b[0m)        │      \u001b[38;5;34m20,024,384\u001b[0m │\n",
       "│ (\u001b[38;5;33mTimeDistributed\u001b[0m)                    │                             │                 │\n",
       "├──────────────────────────────────────┼─────────────────────────────┼─────────────────┤\n",
       "│ time_distributed_pooling             │ (\u001b[38;5;45mNone\u001b[0m, \u001b[38;5;34m5\u001b[0m, \u001b[38;5;34m512\u001b[0m)              │               \u001b[38;5;34m0\u001b[0m │\n",
       "│ (\u001b[38;5;33mTimeDistributed\u001b[0m)                    │                             │                 │\n",
       "├──────────────────────────────────────┼─────────────────────────────┼─────────────────┤\n",
       "│ lstm_vgg19 (\u001b[38;5;33mLSTM\u001b[0m)                    │ (\u001b[38;5;45mNone\u001b[0m, \u001b[38;5;34m512\u001b[0m)                 │       \u001b[38;5;34m2,099,200\u001b[0m │\n",
       "├──────────────────────────────────────┼─────────────────────────────┼─────────────────┤\n",
       "│ batch_normalization_vgg19            │ (\u001b[38;5;45mNone\u001b[0m, \u001b[38;5;34m512\u001b[0m)                 │           \u001b[38;5;34m2,048\u001b[0m │\n",
       "│ (\u001b[38;5;33mBatchNormalization\u001b[0m)                 │                             │                 │\n",
       "├──────────────────────────────────────┼─────────────────────────────┼─────────────────┤\n",
       "│ dropout_lstm_vgg19 (\u001b[38;5;33mDropout\u001b[0m)         │ (\u001b[38;5;45mNone\u001b[0m, \u001b[38;5;34m512\u001b[0m)                 │               \u001b[38;5;34m0\u001b[0m │\n",
       "├──────────────────────────────────────┼─────────────────────────────┼─────────────────┤\n",
       "│ dense_vgg19_1 (\u001b[38;5;33mDense\u001b[0m)                │ (\u001b[38;5;45mNone\u001b[0m, \u001b[38;5;34m512\u001b[0m)                 │         \u001b[38;5;34m262,656\u001b[0m │\n",
       "├──────────────────────────────────────┼─────────────────────────────┼─────────────────┤\n",
       "│ dropout_dense_vgg19_1 (\u001b[38;5;33mDropout\u001b[0m)      │ (\u001b[38;5;45mNone\u001b[0m, \u001b[38;5;34m512\u001b[0m)                 │               \u001b[38;5;34m0\u001b[0m │\n",
       "├──────────────────────────────────────┼─────────────────────────────┼─────────────────┤\n",
       "│ dense_vgg19_2 (\u001b[38;5;33mDense\u001b[0m)                │ (\u001b[38;5;45mNone\u001b[0m, \u001b[38;5;34m128\u001b[0m)                 │          \u001b[38;5;34m65,664\u001b[0m │\n",
       "├──────────────────────────────────────┼─────────────────────────────┼─────────────────┤\n",
       "│ dropout_dense_vgg19_2 (\u001b[38;5;33mDropout\u001b[0m)      │ (\u001b[38;5;45mNone\u001b[0m, \u001b[38;5;34m128\u001b[0m)                 │               \u001b[38;5;34m0\u001b[0m │\n",
       "├──────────────────────────────────────┼─────────────────────────────┼─────────────────┤\n",
       "│ output_vgg19 (\u001b[38;5;33mDense\u001b[0m)                 │ (\u001b[38;5;45mNone\u001b[0m, \u001b[38;5;34m11\u001b[0m)                  │           \u001b[38;5;34m1,419\u001b[0m │\n",
       "└──────────────────────────────────────┴─────────────────────────────┴─────────────────┘\n"
      ]
     },
     "metadata": {},
     "output_type": "display_data"
    },
    {
     "data": {
      "text/html": [
       "<pre style=\"white-space:pre;overflow-x:auto;line-height:normal;font-family:Menlo,'DejaVu Sans Mono',consolas,'Courier New',monospace\"><span style=\"font-weight: bold\"> Total params: </span><span style=\"color: #00af00; text-decoration-color: #00af00\">22,455,371</span> (85.66 MB)\n",
       "</pre>\n"
      ],
      "text/plain": [
       "\u001b[1m Total params: \u001b[0m\u001b[38;5;34m22,455,371\u001b[0m (85.66 MB)\n"
      ]
     },
     "metadata": {},
     "output_type": "display_data"
    },
    {
     "data": {
      "text/html": [
       "<pre style=\"white-space:pre;overflow-x:auto;line-height:normal;font-family:Menlo,'DejaVu Sans Mono',consolas,'Courier New',monospace\"><span style=\"font-weight: bold\"> Trainable params: </span><span style=\"color: #00af00; text-decoration-color: #00af00\">2,429,963</span> (9.27 MB)\n",
       "</pre>\n"
      ],
      "text/plain": [
       "\u001b[1m Trainable params: \u001b[0m\u001b[38;5;34m2,429,963\u001b[0m (9.27 MB)\n"
      ]
     },
     "metadata": {},
     "output_type": "display_data"
    },
    {
     "data": {
      "text/html": [
       "<pre style=\"white-space:pre;overflow-x:auto;line-height:normal;font-family:Menlo,'DejaVu Sans Mono',consolas,'Courier New',monospace\"><span style=\"font-weight: bold\"> Non-trainable params: </span><span style=\"color: #00af00; text-decoration-color: #00af00\">20,025,408</span> (76.39 MB)\n",
       "</pre>\n"
      ],
      "text/plain": [
       "\u001b[1m Non-trainable params: \u001b[0m\u001b[38;5;34m20,025,408\u001b[0m (76.39 MB)\n"
      ]
     },
     "metadata": {},
     "output_type": "display_data"
    },
    {
     "name": "stdout",
     "output_type": "stream",
     "text": [
      "VGG19+LSTM Model Created Successfully!\n",
      "Xception_VGG19_LSTM Model Plot saved successfully...\n",
      "train_gen.videos shape: (1126, 5, 128, 128, 3)\n",
      "train_gen.labels shape: (1126, 11)\n",
      "val_gen.videos shape: (282, 5, 128, 128, 3)\n",
      "val_gen.labels shape: (282, 11)\n",
      "features_test shape: (352, 5, 128, 128, 3)\n",
      "labels_test shape: (352, 11)\n",
      "train_gen batch videos shape: (24, 5, 128, 128, 3)\n",
      "train_gen batch labels shape: (24, 11)\n",
      "val_gen batch videos shape: (24, 5, 128, 128, 3)\n",
      "val_gen batch labels shape: (24, 11)\n",
      "Dataset - Ucf50\n",
      "There are total 50 classes, selected 11 classes\n",
      "Setting 20 videos/class to train the model.\n",
      "Image size 128x128 with 5 sequence length\n",
      "Dropout rate: 0.5\n",
      "Train-Test split ratio 80/20\n",
      "Validation data from Train set 20.0%\n",
      "\n",
      "\n",
      "Initial training started for VGG19+LSTM model with 1126 videos of 11 classes with 282 videos for validation...\n",
      "Epoch 1/30\n"
     ]
    },
    {
     "name": "stderr",
     "output_type": "stream",
     "text": [
      "I0000 00:00:1752228817.858405      60 cuda_dnn.cc:529] Loaded cuDNN version 90300\n"
     ]
    },
    {
     "name": "stdout",
     "output_type": "stream",
     "text": [
      "     47/Unknown \u001b[1m23s\u001b[0m 239ms/step - accuracy: 0.1973 - loss: 16.2539"
     ]
    },
    {
     "name": "stderr",
     "output_type": "stream",
     "text": [
      "/usr/local/lib/python3.11/dist-packages/keras/src/trainers/epoch_iterator.py:151: UserWarning: Your input ran out of data; interrupting training. Make sure that your dataset or generator can generate at least `steps_per_epoch * epochs` batches. You may need to use the `.repeat()` function when building your dataset.\n",
      "  self._interrupted_warning()\n"
     ]
    },
    {
     "name": "stdout",
     "output_type": "stream",
     "text": [
      "\u001b[1m47/47\u001b[0m \u001b[32m━━━━━━━━━━━━━━━━━━━━\u001b[0m\u001b[37m\u001b[0m \u001b[1m28s\u001b[0m 351ms/step - accuracy: 0.1993 - loss: 16.2151 - val_accuracy: 0.4255 - val_loss: 12.2015 - learning_rate: 0.0010\n",
      "Epoch 2/30\n",
      "\u001b[1m47/47\u001b[0m \u001b[32m━━━━━━━━━━━━━━━━━━━━\u001b[0m\u001b[37m\u001b[0m \u001b[1m13s\u001b[0m 281ms/step - accuracy: 0.5279 - loss: 10.7320 - val_accuracy: 0.4929 - val_loss: 9.8973 - learning_rate: 0.0010\n",
      "Epoch 3/30\n",
      "\u001b[1m47/47\u001b[0m \u001b[32m━━━━━━━━━━━━━━━━━━━━\u001b[0m\u001b[37m\u001b[0m \u001b[1m13s\u001b[0m 285ms/step - accuracy: 0.6955 - loss: 8.4030 - val_accuracy: 0.7021 - val_loss: 8.2725 - learning_rate: 0.0010\n",
      "Epoch 4/30\n",
      "\u001b[1m47/47\u001b[0m \u001b[32m━━━━━━━━━━━━━━━━━━━━\u001b[0m\u001b[37m\u001b[0m \u001b[1m14s\u001b[0m 288ms/step - accuracy: 0.7777 - loss: 6.8056 - val_accuracy: 0.6702 - val_loss: 6.8702 - learning_rate: 0.0010\n",
      "Epoch 5/30\n",
      "\u001b[1m47/47\u001b[0m \u001b[32m━━━━━━━━━━━━━━━━━━━━\u001b[0m\u001b[37m\u001b[0m \u001b[1m14s\u001b[0m 291ms/step - accuracy: 0.8384 - loss: 5.6286 - val_accuracy: 0.5000 - val_loss: 5.9145 - learning_rate: 0.0010\n",
      "Epoch 6/30\n",
      "\u001b[1m47/47\u001b[0m \u001b[32m━━━━━━━━━━━━━━━━━━━━\u001b[0m\u001b[37m\u001b[0m \u001b[1m14s\u001b[0m 295ms/step - accuracy: 0.8538 - loss: 4.7762 - val_accuracy: 0.8440 - val_loss: 4.8412 - learning_rate: 0.0010\n",
      "Epoch 7/30\n",
      "\u001b[1m47/47\u001b[0m \u001b[32m━━━━━━━━━━━━━━━━━━━━\u001b[0m\u001b[37m\u001b[0m \u001b[1m14s\u001b[0m 301ms/step - accuracy: 0.9028 - loss: 3.9390 - val_accuracy: 0.6348 - val_loss: 4.1988 - learning_rate: 0.0010\n",
      "Epoch 8/30\n",
      "\u001b[1m47/47\u001b[0m \u001b[32m━━━━━━━━━━━━━━━━━━━━\u001b[0m\u001b[37m\u001b[0m \u001b[1m15s\u001b[0m 310ms/step - accuracy: 0.9110 - loss: 3.3448 - val_accuracy: 0.7447 - val_loss: 3.4550 - learning_rate: 0.0010\n",
      "Epoch 9/30\n",
      "\u001b[1m47/47\u001b[0m \u001b[32m━━━━━━━━━━━━━━━━━━━━\u001b[0m\u001b[37m\u001b[0m \u001b[1m15s\u001b[0m 310ms/step - accuracy: 0.9278 - loss: 2.7976 - val_accuracy: 0.5993 - val_loss: 3.6549 - learning_rate: 0.0010\n",
      "Epoch 10/30\n",
      "\u001b[1m47/47\u001b[0m \u001b[32m━━━━━━━━━━━━━━━━━━━━\u001b[0m\u001b[37m\u001b[0m \u001b[1m14s\u001b[0m 303ms/step - accuracy: 0.9188 - loss: 2.4290 - val_accuracy: 0.4610 - val_loss: 4.0544 - learning_rate: 0.0010\n",
      "Epoch 11/30\n",
      "\u001b[1m47/47\u001b[0m \u001b[32m━━━━━━━━━━━━━━━━━━━━\u001b[0m\u001b[37m\u001b[0m \u001b[1m14s\u001b[0m 301ms/step - accuracy: 0.9258 - loss: 2.0889 - val_accuracy: 0.6525 - val_loss: 2.6438 - learning_rate: 0.0010\n",
      "Epoch 12/30\n",
      "\u001b[1m47/47\u001b[0m \u001b[32m━━━━━━━━━━━━━━━━━━━━\u001b[0m\u001b[37m\u001b[0m \u001b[1m14s\u001b[0m 301ms/step - accuracy: 0.9538 - loss: 1.7679 - val_accuracy: 0.7553 - val_loss: 2.2537 - learning_rate: 0.0010\n",
      "Epoch 13/30\n",
      "\u001b[1m47/47\u001b[0m \u001b[32m━━━━━━━━━━━━━━━━━━━━\u001b[0m\u001b[37m\u001b[0m \u001b[1m14s\u001b[0m 301ms/step - accuracy: 0.9480 - loss: 1.5931 - val_accuracy: 0.6418 - val_loss: 2.5794 - learning_rate: 0.0010\n",
      "Epoch 14/30\n",
      "\u001b[1m47/47\u001b[0m \u001b[32m━━━━━━━━━━━━━━━━━━━━\u001b[0m\u001b[37m\u001b[0m \u001b[1m14s\u001b[0m 304ms/step - accuracy: 0.9275 - loss: 1.4025 - val_accuracy: 0.5745 - val_loss: 2.8824 - learning_rate: 0.0010\n",
      "Epoch 15/30\n",
      "\u001b[1m47/47\u001b[0m \u001b[32m━━━━━━━━━━━━━━━━━━━━\u001b[0m\u001b[37m\u001b[0m \u001b[1m14s\u001b[0m 307ms/step - accuracy: 0.9336 - loss: 1.2853 - val_accuracy: 0.7447 - val_loss: 2.0725 - learning_rate: 0.0010\n",
      "Epoch 16/30\n",
      "\u001b[1m47/47\u001b[0m \u001b[32m━━━━━━━━━━━━━━━━━━━━\u001b[0m\u001b[37m\u001b[0m \u001b[1m14s\u001b[0m 305ms/step - accuracy: 0.9244 - loss: 1.2272 - val_accuracy: 0.7660 - val_loss: 1.9063 - learning_rate: 0.0010\n",
      "Epoch 17/30\n",
      "\u001b[1m47/47\u001b[0m \u001b[32m━━━━━━━━━━━━━━━━━━━━\u001b[0m\u001b[37m\u001b[0m \u001b[1m14s\u001b[0m 305ms/step - accuracy: 0.9352 - loss: 1.1242 - val_accuracy: 0.7305 - val_loss: 1.8272 - learning_rate: 0.0010\n",
      "Epoch 18/30\n",
      "\u001b[1m47/47\u001b[0m \u001b[32m━━━━━━━━━━━━━━━━━━━━\u001b[0m\u001b[37m\u001b[0m \u001b[1m14s\u001b[0m 303ms/step - accuracy: 0.9403 - loss: 1.0597 - val_accuracy: 0.4894 - val_loss: 4.1749 - learning_rate: 0.0010\n",
      "Epoch 19/30\n",
      "\u001b[1m47/47\u001b[0m \u001b[32m━━━━━━━━━━━━━━━━━━━━\u001b[0m\u001b[37m\u001b[0m \u001b[1m14s\u001b[0m 303ms/step - accuracy: 0.9501 - loss: 0.9539 - val_accuracy: 0.5142 - val_loss: 3.2015 - learning_rate: 0.0010\n",
      "Epoch 20/30\n",
      "\u001b[1m47/47\u001b[0m \u001b[32m━━━━━━━━━━━━━━━━━━━━\u001b[0m\u001b[37m\u001b[0m \u001b[1m14s\u001b[0m 303ms/step - accuracy: 0.9446 - loss: 0.9378 - val_accuracy: 0.6667 - val_loss: 2.4687 - learning_rate: 0.0010\n",
      "Epoch 21/30\n",
      "\u001b[1m47/47\u001b[0m \u001b[32m━━━━━━━━━━━━━━━━━━━━\u001b[0m\u001b[37m\u001b[0m \u001b[1m14s\u001b[0m 305ms/step - accuracy: 0.9424 - loss: 0.9054 - val_accuracy: 0.8901 - val_loss: 0.9223 - learning_rate: 5.0000e-04\n",
      "Epoch 22/30\n",
      "\u001b[1m47/47\u001b[0m \u001b[32m━━━━━━━━━━━━━━━━━━━━\u001b[0m\u001b[37m\u001b[0m \u001b[1m14s\u001b[0m 305ms/step - accuracy: 0.9814 - loss: 0.7183 - val_accuracy: 0.9716 - val_loss: 0.7058 - learning_rate: 5.0000e-04\n",
      "Epoch 23/30\n",
      "\u001b[1m47/47\u001b[0m \u001b[32m━━━━━━━━━━━━━━━━━━━━\u001b[0m\u001b[37m\u001b[0m \u001b[1m14s\u001b[0m 305ms/step - accuracy: 0.9925 - loss: 0.6403 - val_accuracy: 0.9149 - val_loss: 0.7616 - learning_rate: 5.0000e-04\n",
      "Epoch 24/30\n",
      "\u001b[1m47/47\u001b[0m \u001b[32m━━━━━━━━━━━━━━━━━━━━\u001b[0m\u001b[37m\u001b[0m \u001b[1m14s\u001b[0m 305ms/step - accuracy: 0.9950 - loss: 0.5707 - val_accuracy: 0.9823 - val_loss: 0.5698 - learning_rate: 5.0000e-04\n",
      "Epoch 25/30\n",
      "\u001b[1m47/47\u001b[0m \u001b[32m━━━━━━━━━━━━━━━━━━━━\u001b[0m\u001b[37m\u001b[0m \u001b[1m14s\u001b[0m 303ms/step - accuracy: 0.9949 - loss: 0.5227 - val_accuracy: 0.9504 - val_loss: 0.5821 - learning_rate: 5.0000e-04\n",
      "Epoch 26/30\n",
      "\u001b[1m47/47\u001b[0m \u001b[32m━━━━━━━━━━━━━━━━━━━━\u001b[0m\u001b[37m\u001b[0m \u001b[1m14s\u001b[0m 305ms/step - accuracy: 0.9970 - loss: 0.4716 - val_accuracy: 0.9716 - val_loss: 0.4890 - learning_rate: 5.0000e-04\n",
      "Epoch 27/30\n",
      "\u001b[1m47/47\u001b[0m \u001b[32m━━━━━━━━━━━━━━━━━━━━\u001b[0m\u001b[37m\u001b[0m \u001b[1m14s\u001b[0m 304ms/step - accuracy: 0.9941 - loss: 0.4441 - val_accuracy: 0.9787 - val_loss: 0.4593 - learning_rate: 5.0000e-04\n",
      "Epoch 28/30\n",
      "\u001b[1m47/47\u001b[0m \u001b[32m━━━━━━━━━━━━━━━━━━━━\u001b[0m\u001b[37m\u001b[0m \u001b[1m14s\u001b[0m 305ms/step - accuracy: 0.9960 - loss: 0.4191 - val_accuracy: 0.9787 - val_loss: 0.3934 - learning_rate: 5.0000e-04\n",
      "Epoch 29/30\n",
      "\u001b[1m47/47\u001b[0m \u001b[32m━━━━━━━━━━━━━━━━━━━━\u001b[0m\u001b[37m\u001b[0m \u001b[1m14s\u001b[0m 304ms/step - accuracy: 0.9985 - loss: 0.3789 - val_accuracy: 0.9504 - val_loss: 0.4828 - learning_rate: 5.0000e-04\n",
      "Epoch 30/30\n",
      "\u001b[1m47/47\u001b[0m \u001b[32m━━━━━━━━━━━━━━━━━━━━\u001b[0m\u001b[37m\u001b[0m \u001b[1m14s\u001b[0m 304ms/step - accuracy: 0.9981 - loss: 0.3592 - val_accuracy: 0.9362 - val_loss: 0.4633 - learning_rate: 5.0000e-04\n",
      "\n",
      "Fine-tuning started for VGG19+LSTM model with 1126 videos of 11 classes with 282 videos for validation...\n",
      "Epoch 1/30\n",
      "\u001b[1m47/47\u001b[0m \u001b[32m━━━━━━━━━━━━━━━━━━━━\u001b[0m\u001b[37m\u001b[0m \u001b[1m34s\u001b[0m 508ms/step - accuracy: 0.8191 - loss: 0.9470 - val_accuracy: 0.5993 - val_loss: 2.4365 - learning_rate: 1.0000e-04\n",
      "Epoch 2/30\n",
      "\u001b[1m47/47\u001b[0m \u001b[32m━━━━━━━━━━━━━━━━━━━━\u001b[0m\u001b[37m\u001b[0m \u001b[1m22s\u001b[0m 474ms/step - accuracy: 0.9558 - loss: 0.4725 - val_accuracy: 0.9113 - val_loss: 0.6541 - learning_rate: 1.0000e-04\n",
      "Epoch 3/30\n",
      "\u001b[1m47/47\u001b[0m \u001b[32m━━━━━━━━━━━━━━━━━━━━\u001b[0m\u001b[37m\u001b[0m \u001b[1m22s\u001b[0m 463ms/step - accuracy: 0.9842 - loss: 0.3874 - val_accuracy: 0.9858 - val_loss: 0.3565 - learning_rate: 1.0000e-04\n",
      "Epoch 4/30\n",
      "\u001b[1m47/47\u001b[0m \u001b[32m━━━━━━━━━━━━━━━━━━━━\u001b[0m\u001b[37m\u001b[0m \u001b[1m22s\u001b[0m 461ms/step - accuracy: 0.9993 - loss: 0.3430 - val_accuracy: 0.9326 - val_loss: 0.5608 - learning_rate: 1.0000e-04\n",
      "Epoch 5/30\n",
      "\u001b[1m47/47\u001b[0m \u001b[32m━━━━━━━━━━━━━━━━━━━━\u001b[0m\u001b[37m\u001b[0m \u001b[1m22s\u001b[0m 466ms/step - accuracy: 0.9901 - loss: 0.3469 - val_accuracy: 0.9468 - val_loss: 0.5495 - learning_rate: 1.0000e-04\n",
      "Epoch 6/30\n",
      "\u001b[1m47/47\u001b[0m \u001b[32m━━━━━━━━━━━━━━━━━━━━\u001b[0m\u001b[37m\u001b[0m \u001b[1m22s\u001b[0m 466ms/step - accuracy: 0.9901 - loss: 0.3435 - val_accuracy: 0.9326 - val_loss: 0.4859 - learning_rate: 1.0000e-04\n",
      "Epoch 7/30\n",
      "\u001b[1m47/47\u001b[0m \u001b[32m━━━━━━━━━━━━━━━━━━━━\u001b[0m\u001b[37m\u001b[0m \u001b[1m22s\u001b[0m 465ms/step - accuracy: 0.9919 - loss: 0.3394 - val_accuracy: 0.9929 - val_loss: 0.3161 - learning_rate: 5.0000e-05\n",
      "Epoch 8/30\n",
      "\u001b[1m47/47\u001b[0m \u001b[32m━━━━━━━━━━━━━━━━━━━━\u001b[0m\u001b[37m\u001b[0m \u001b[1m22s\u001b[0m 464ms/step - accuracy: 0.9950 - loss: 0.3281 - val_accuracy: 0.9965 - val_loss: 0.3104 - learning_rate: 5.0000e-05\n",
      "Epoch 9/30\n",
      "\u001b[1m47/47\u001b[0m \u001b[32m━━━━━━━━━━━━━━━━━━━━\u001b[0m\u001b[37m\u001b[0m \u001b[1m22s\u001b[0m 465ms/step - accuracy: 1.0000 - loss: 0.3001 - val_accuracy: 1.0000 - val_loss: 0.2880 - learning_rate: 5.0000e-05\n",
      "Epoch 10/30\n",
      "\u001b[1m47/47\u001b[0m \u001b[32m━━━━━━━━━━━━━━━━━━━━\u001b[0m\u001b[37m\u001b[0m \u001b[1m22s\u001b[0m 464ms/step - accuracy: 1.0000 - loss: 0.2928 - val_accuracy: 1.0000 - val_loss: 0.2814 - learning_rate: 5.0000e-05\n",
      "Epoch 11/30\n",
      "\u001b[1m47/47\u001b[0m \u001b[32m━━━━━━━━━━━━━━━━━━━━\u001b[0m\u001b[37m\u001b[0m \u001b[1m22s\u001b[0m 463ms/step - accuracy: 1.0000 - loss: 0.2861 - val_accuracy: 1.0000 - val_loss: 0.2752 - learning_rate: 5.0000e-05\n",
      "Epoch 12/30\n",
      "\u001b[1m47/47\u001b[0m \u001b[32m━━━━━━━━━━━━━━━━━━━━\u001b[0m\u001b[37m\u001b[0m \u001b[1m22s\u001b[0m 465ms/step - accuracy: 1.0000 - loss: 0.2803 - val_accuracy: 1.0000 - val_loss: 0.2691 - learning_rate: 5.0000e-05\n",
      "Epoch 13/30\n",
      "\u001b[1m47/47\u001b[0m \u001b[32m━━━━━━━━━━━━━━━━━━━━\u001b[0m\u001b[37m\u001b[0m \u001b[1m22s\u001b[0m 468ms/step - accuracy: 1.0000 - loss: 0.2723 - val_accuracy: 1.0000 - val_loss: 0.2625 - learning_rate: 5.0000e-05\n",
      "Epoch 14/30\n",
      "\u001b[1m47/47\u001b[0m \u001b[32m━━━━━━━━━━━━━━━━━━━━\u001b[0m\u001b[37m\u001b[0m \u001b[1m22s\u001b[0m 467ms/step - accuracy: 1.0000 - loss: 0.2661 - val_accuracy: 1.0000 - val_loss: 0.2561 - learning_rate: 5.0000e-05\n",
      "Epoch 15/30\n",
      "\u001b[1m47/47\u001b[0m \u001b[32m━━━━━━━━━━━━━━━━━━━━\u001b[0m\u001b[37m\u001b[0m \u001b[1m22s\u001b[0m 465ms/step - accuracy: 1.0000 - loss: 0.2605 - val_accuracy: 1.0000 - val_loss: 0.2496 - learning_rate: 5.0000e-05\n",
      "Epoch 16/30\n",
      "\u001b[1m47/47\u001b[0m \u001b[32m━━━━━━━━━━━━━━━━━━━━\u001b[0m\u001b[37m\u001b[0m \u001b[1m22s\u001b[0m 464ms/step - accuracy: 1.0000 - loss: 0.2530 - val_accuracy: 1.0000 - val_loss: 0.2435 - learning_rate: 5.0000e-05\n",
      "Epoch 17/30\n",
      "\u001b[1m47/47\u001b[0m \u001b[32m━━━━━━━━━━━━━━━━━━━━\u001b[0m\u001b[37m\u001b[0m \u001b[1m22s\u001b[0m 465ms/step - accuracy: 1.0000 - loss: 0.2501 - val_accuracy: 1.0000 - val_loss: 0.2378 - learning_rate: 5.0000e-05\n",
      "Epoch 18/30\n",
      "\u001b[1m47/47\u001b[0m \u001b[32m━━━━━━━━━━━━━━━━━━━━\u001b[0m\u001b[37m\u001b[0m \u001b[1m22s\u001b[0m 466ms/step - accuracy: 1.0000 - loss: 0.2443 - val_accuracy: 1.0000 - val_loss: 0.2318 - learning_rate: 5.0000e-05\n",
      "Epoch 19/30\n",
      "\u001b[1m47/47\u001b[0m \u001b[32m━━━━━━━━━━━━━━━━━━━━\u001b[0m\u001b[37m\u001b[0m \u001b[1m22s\u001b[0m 465ms/step - accuracy: 1.0000 - loss: 0.2405 - val_accuracy: 1.0000 - val_loss: 0.2262 - learning_rate: 5.0000e-05\n",
      "Epoch 20/30\n",
      "\u001b[1m47/47\u001b[0m \u001b[32m━━━━━━━━━━━━━━━━━━━━\u001b[0m\u001b[37m\u001b[0m \u001b[1m22s\u001b[0m 465ms/step - accuracy: 1.0000 - loss: 0.2320 - val_accuracy: 1.0000 - val_loss: 0.2210 - learning_rate: 5.0000e-05\n",
      "Epoch 21/30\n",
      "\u001b[1m47/47\u001b[0m \u001b[32m━━━━━━━━━━━━━━━━━━━━\u001b[0m\u001b[37m\u001b[0m \u001b[1m22s\u001b[0m 464ms/step - accuracy: 1.0000 - loss: 0.2272 - val_accuracy: 1.0000 - val_loss: 0.2151 - learning_rate: 5.0000e-05\n",
      "Epoch 22/30\n",
      "\u001b[1m47/47\u001b[0m \u001b[32m━━━━━━━━━━━━━━━━━━━━\u001b[0m\u001b[37m\u001b[0m \u001b[1m22s\u001b[0m 464ms/step - accuracy: 1.0000 - loss: 0.2240 - val_accuracy: 1.0000 - val_loss: 0.2100 - learning_rate: 5.0000e-05\n",
      "Epoch 23/30\n",
      "\u001b[1m47/47\u001b[0m \u001b[32m━━━━━━━━━━━━━━━━━━━━\u001b[0m\u001b[37m\u001b[0m \u001b[1m22s\u001b[0m 467ms/step - accuracy: 1.0000 - loss: 0.2183 - val_accuracy: 1.0000 - val_loss: 0.2052 - learning_rate: 5.0000e-05\n",
      "Epoch 24/30\n",
      "\u001b[1m47/47\u001b[0m \u001b[32m━━━━━━━━━━━━━━━━━━━━\u001b[0m\u001b[37m\u001b[0m \u001b[1m22s\u001b[0m 466ms/step - accuracy: 1.0000 - loss: 0.2154 - val_accuracy: 1.0000 - val_loss: 0.2000 - learning_rate: 5.0000e-05\n",
      "Epoch 25/30\n",
      "\u001b[1m47/47\u001b[0m \u001b[32m━━━━━━━━━━━━━━━━━━━━\u001b[0m\u001b[37m\u001b[0m \u001b[1m22s\u001b[0m 465ms/step - accuracy: 1.0000 - loss: 0.2110 - val_accuracy: 1.0000 - val_loss: 0.1958 - learning_rate: 5.0000e-05\n",
      "Epoch 26/30\n",
      "\u001b[1m47/47\u001b[0m \u001b[32m━━━━━━━━━━━━━━━━━━━━\u001b[0m\u001b[37m\u001b[0m \u001b[1m22s\u001b[0m 464ms/step - accuracy: 1.0000 - loss: 0.2034 - val_accuracy: 1.0000 - val_loss: 0.1908 - learning_rate: 5.0000e-05\n",
      "Epoch 27/30\n",
      "\u001b[1m47/47\u001b[0m \u001b[32m━━━━━━━━━━━━━━━━━━━━\u001b[0m\u001b[37m\u001b[0m \u001b[1m22s\u001b[0m 466ms/step - accuracy: 1.0000 - loss: 0.2016 - val_accuracy: 1.0000 - val_loss: 0.1871 - learning_rate: 5.0000e-05\n",
      "Epoch 28/30\n",
      "\u001b[1m47/47\u001b[0m \u001b[32m━━━━━━━━━━━━━━━━━━━━\u001b[0m\u001b[37m\u001b[0m \u001b[1m22s\u001b[0m 467ms/step - accuracy: 1.0000 - loss: 0.1948 - val_accuracy: 1.0000 - val_loss: 0.1815 - learning_rate: 5.0000e-05\n",
      "Epoch 29/30\n",
      "\u001b[1m47/47\u001b[0m \u001b[32m━━━━━━━━━━━━━━━━━━━━\u001b[0m\u001b[37m\u001b[0m \u001b[1m22s\u001b[0m 465ms/step - accuracy: 1.0000 - loss: 0.1911 - val_accuracy: 1.0000 - val_loss: 0.1773 - learning_rate: 5.0000e-05\n",
      "Epoch 30/30\n",
      "\u001b[1m47/47\u001b[0m \u001b[32m━━━━━━━━━━━━━━━━━━━━\u001b[0m\u001b[37m\u001b[0m \u001b[1m22s\u001b[0m 465ms/step - accuracy: 1.0000 - loss: 0.1870 - val_accuracy: 1.0000 - val_loss: 0.1741 - learning_rate: 5.0000e-05\n",
      "\n",
      "Evaluating VGG19+LSTM model on test set...\n",
      "Total 352 videos and 352 classes\n",
      "test_gen batch videos shape: (24, 5, 128, 128, 3)\n",
      "test_gen batch labels shape: (24, 11)\n",
      "\u001b[1m15/15\u001b[0m \u001b[32m━━━━━━━━━━━━━━━━━━━━\u001b[0m\u001b[37m\u001b[0m \u001b[1m4s\u001b[0m 290ms/step - accuracy: 1.0000 - loss: 0.1747\n",
      "VGG19+LSTM Test Loss: 0.1753\n",
      "VGG19+LSTM Test Accuracy: 100.00%\n"
     ]
    },
    {
     "data": {
      "image/png": "[encoded data removed]",
      "text/plain": [
       "<Figure size 1200x500 with 2 Axes>"
      ]
     },
     "metadata": {},
     "output_type": "display_data"
    },
    {
     "name": "stdout",
     "output_type": "stream",
     "text": [
      "\u001b[1m15/15\u001b[0m \u001b[32m━━━━━━━━━━━━━━━━━━━━\u001b[0m\u001b[37m\u001b[0m \u001b[1m6s\u001b[0m 304ms/step\n",
      "True classes shape: (352,)\n",
      "Predicted classes shape: (352,)\n",
      "\n",
      "VGG19+LSTM Classification Report:\n",
      "                   precision    recall  f1-score   support\n",
      "\n",
      "       Basketball       1.00      1.00      1.00        31\n",
      "           Biking       1.00      1.00      1.00        27\n",
      "           Diving       1.00      1.00      1.00        26\n",
      "        GolfSwing       1.00      1.00      1.00        30\n",
      "      HorseRiding       1.00      1.00      1.00        32\n",
      "           Skiing       1.00      1.00      1.00        40\n",
      "    SkateBoarding       1.00      1.00      1.00        29\n",
      "            Swing       1.00      1.00      1.00        34\n",
      "      TennisSwing       1.00      1.00      1.00        34\n",
      "TrampolineJumping       1.00      1.00      1.00        27\n",
      "   WalkingWithDog       1.00      1.00      1.00        42\n",
      "\n",
      "         accuracy                           1.00       352\n",
      "        macro avg       1.00      1.00      1.00       352\n",
      "     weighted avg       1.00      1.00      1.00       352\n",
      "\n"
     ]
    },
    {
     "name": "stderr",
     "output_type": "stream",
     "text": [
      "/usr/local/lib/python3.11/dist-packages/keras/src/trainers/epoch_iterator.py:151: UserWarning: Your input ran out of data; interrupting training. Make sure that your dataset or generator can generate at least `steps_per_epoch * epochs` batches. You may need to use the `.repeat()` function when building your dataset.\n",
      "  self._interrupted_warning()\n"
     ]
    },
    {
     "data": {
      "image/png": "[encoded data removed]",
      "text/plain": [
       "<Figure size 800x600 with 2 Axes>"
      ]
     },
     "metadata": {},
     "output_type": "display_data"
    }
   ],
   "source": [
    "# Import necessary libraries\n",
    "from tensorflow.keras.applications import VGG19\n",
    "from tensorflow.keras.models import Sequential\n",
    "from tensorflow.keras.layers import TimeDistributed, GlobalAveragePooling2D, LSTM, Dropout, Dense, BatchNormalization\n",
    "from tensorflow.keras.regularizers import l2\n",
    "from tensorflow.keras.callbacks import EarlyStopping, ReduceLROnPlateau\n",
    "from tensorflow.keras.utils import to_categorical\n",
    "import tensorflow as tf\n",
    "import numpy as np\n",
    "import gc\n",
    "\n",
    "# Clear memory before creating the new model\n",
    "gc.collect()\n",
    "tf.keras.backend.clear_session()\n",
    "print(\"Memory cleared before creating VGG19+LSTM model\")\n",
    "\n",
    "# Print TensorFlow version\n",
    "print(f\"TensorFlow version: {tf.__version__}\")\n",
    "\n",
    "# Pre-load VGG19 weights\n",
    "print(\"Pre-loading VGG19 weights...\")\n",
    "try:\n",
    "    base_model = VGG19(weights='imagenet', include_top=False, input_shape=(IMAGE_HEIGHT, IMAGE_WIDTH, 3))\n",
    "    print(\"VGG19 weights loaded successfully!\")\n",
    "except Exception as e:\n",
    "    print(f\"Failed to load VGG19 weights: {str(e)}\")\n",
    "    print(\"Falling back to initializing VGG19 without pre-trained weights...\")\n",
    "    base_model = VGG19(weights=None, include_top=False, input_shape=(IMAGE_HEIGHT, IMAGE_WIDTH, 3))\n",
    "\n",
    "# Define function to create VGG19+LSTM model\n",
    "def create_vgg19_lstm_model(sequence_length, image_height, image_width, classes_list=None, dropout_rate=0.5, base_model=None):\n",
    "    print(\"Creating VGG19+LSTM model with parameters:\")\n",
    "    print(f\"sequence_length: {sequence_length}, image_height: {image_height}, image_width: {image_width}, classes_list length: {len(classes_list) if classes_list is not None else None}, dropout_rate: {dropout_rate}\")\n",
    "    \n",
    "    if classes_list is None:\n",
    "        raise ValueError(\"classes_list must be provided to define the output layer size\")\n",
    "    if base_model is None:\n",
    "        raise ValueError(\"base_model must be provided to avoid re-downloading weights\")\n",
    "\n",
    "    try:\n",
    "        # Use the pre-loaded base model\n",
    "        vgg19 = base_model\n",
    "        # Freeze the base model for initial training\n",
    "        vgg19.trainable = False\n",
    "\n",
    "        # Define the Sequential model\n",
    "        model = Sequential([\n",
    "            # TimeDistributed VGG19 model\n",
    "            TimeDistributed(\n",
    "                vgg19,\n",
    "                input_shape=(sequence_length, image_height, image_width, 3),\n",
    "                name=\"time_distributed_vgg19\"\n",
    "            ),\n",
    "            # TimeDistributed GlobalAveragePooling2D\n",
    "            TimeDistributed(GlobalAveragePooling2D(), name=\"time_distributed_pooling\"),\n",
    "            # LSTM layer with 512 units\n",
    "            LSTM(512, activation=\"tanh\", return_sequences=False, kernel_regularizer=l2(0.01), name=\"lstm_vgg19\"),\n",
    "            BatchNormalization(name=\"batch_normalization_vgg19\"),\n",
    "            # Dropout after LSTM\n",
    "            Dropout(dropout_rate, name=\"dropout_lstm_vgg19\"),\n",
    "            # Dense layer with 512 units\n",
    "            Dense(512, activation=\"relu\", kernel_regularizer=l2(0.01), name=\"dense_vgg19_1\"),\n",
    "            # Dropout after first Dense\n",
    "            Dropout(dropout_rate, name=\"dropout_dense_vgg19_1\"),\n",
    "            # Dense layer with 128 units\n",
    "            Dense(128, activation=\"relu\", kernel_regularizer=l2(0.01), name=\"dense_vgg19_2\"),\n",
    "            # Dropout after second Dense\n",
    "            Dropout(dropout_rate, name=\"dropout_dense_vgg19_2\"),\n",
    "            # Output Dense layer with softmax activation\n",
    "            Dense(len(classes_list), activation=\"softmax\", name=\"output_vgg19\")\n",
    "        ])\n",
    "\n",
    "        # Print model summary\n",
    "        print(\"VGG19+LSTM model architecture created successfully!\")\n",
    "        model.summary()\n",
    "\n",
    "        return model\n",
    "\n",
    "    except Exception as e:\n",
    "        print(f\"Error creating VGG19+LSTM model: {str(e)}\")\n",
    "        import traceback\n",
    "        traceback.print_exc()\n",
    "        return None\n",
    "\n",
    "# Create the VGG19+LSTM model using the pre-loaded base model\n",
    "vgg19_lstm_model = create_vgg19_lstm_model(\n",
    "    sequence_length=SEQUENCE_LENGTH,\n",
    "    image_height=IMAGE_HEIGHT,\n",
    "    image_width=IMAGE_WIDTH,\n",
    "    classes_list=CLASSES_LIST,\n",
    "    dropout_rate=DROPOUT_RATE,\n",
    "    base_model=base_model\n",
    ")\n",
    "\n",
    "# Check if model was created successfully\n",
    "if vgg19_lstm_model is None:\n",
    "    raise ValueError(\"Failed to create VGG19+LSTM model. Check error messages above.\")\n",
    "else:\n",
    "    print(\"VGG19+LSTM Model Created Successfully!\")\n",
    "\n",
    "# Plot the model structure\n",
    "from tensorflow.keras.utils import plot_model\n",
    "try:\n",
    "    plot_model(vgg19_lstm_model, to_file=f'{MODEL_NAME}_VGG19_LSTM_model_Plot.png', show_shapes=True, show_layer_names=True)\n",
    "    print(f\"{MODEL_NAME}_VGG19_LSTM Model Plot saved successfully...\")\n",
    "except Exception as e:\n",
    "    print(f\"Failed to plot model: {str(e)}\")\n",
    "\n",
    "# Verify data shapes\n",
    "print(f\"train_gen.videos shape: {np.shape(train_gen.videos)}\")\n",
    "print(f\"train_gen.labels shape: {np.shape(train_gen.labels)}\")\n",
    "print(f\"val_gen.videos shape: {np.shape(val_gen.videos)}\")\n",
    "print(f\"val_gen.labels shape: {np.shape(val_gen.labels)}\")\n",
    "print(f\"features_test shape: {np.shape(features_test)}\")\n",
    "print(f\"labels_test shape: {np.shape(labels_test)}\")\n",
    "\n",
    "# Ensure labels_test is one-hot encoded\n",
    "if len(labels_test.shape) == 1:\n",
    "    print(\"Converting labels_test to one-hot encoded format...\")\n",
    "    labels_test = to_categorical(labels_test, num_classes=NO_OF_CLASSES)\n",
    "    print(f\"New labels_test shape: {labels_test.shape}\")\n",
    "\n",
    "# Verify generator batch shapes\n",
    "try:\n",
    "    videos, labels = train_gen[0]\n",
    "    print(f\"train_gen batch videos shape: {videos.shape}\")\n",
    "    print(f\"train_gen batch labels shape: {labels.shape}\")\n",
    "    videos, labels = val_gen[0]\n",
    "    print(f\"val_gen batch videos shape: {videos.shape}\")\n",
    "    print(f\"val_gen batch labels shape: {labels.shape}\")\n",
    "except Exception as e:\n",
    "    print(f\"Error accessing generator data: {str(e)}\")\n",
    "\n",
    "# Compile the model for initial training\n",
    "early_stopping_callback = EarlyStopping(monitor='val_loss', patience=7, mode='min', restore_best_weights=True)\n",
    "lr_scheduler = ReduceLROnPlateau(monitor='val_loss', factor=0.5, patience=3, min_lr=1e-6)\n",
    "\n",
    "vgg19_lstm_model.compile(\n",
    "    loss='categorical_crossentropy',\n",
    "    optimizer=tf.keras.optimizers.Adam(learning_rate=0.001),  # Higher learning rate for initial training\n",
    "    metrics=['accuracy']\n",
    ")\n",
    "\n",
    "# Print dataset summary\n",
    "print(f\"Dataset - {DATASET_NAME}\")\n",
    "print(f\"There are total {len(ALL_CLASS_NAMES)} classes, selected {NO_OF_CLASSES} classes\")\n",
    "print(f\"Setting {MAX_VIDEO_PER_CLASS} videos/class to train the model.\")\n",
    "print(f\"Image size {IMAGE_HEIGHT}x{IMAGE_WIDTH} with {SEQUENCE_LENGTH} sequence length\")\n",
    "print(f\"Dropout rate: {DROPOUT_RATE}\")\n",
    "print(f\"Train-Test split ratio {int((1-TEST_SIZE)*100)}/{int(TEST_SIZE*100)}\")\n",
    "print(f\"Validation data from Train set {VALIDATION_SPLIT*100}%\")\n",
    "print(\"\\n\")\n",
    "\n",
    "# Initial training with frozen base model\n",
    "print(f\"Initial training started for VGG19+LSTM model with {len(train_gen.videos)} videos of {NO_OF_CLASSES} classes with {len(val_gen.videos)} videos for validation...\")\n",
    "try:\n",
    "    vgg19_history_initial = vgg19_lstm_model.fit(\n",
    "        train_gen.as_dataset(),\n",
    "        validation_data=val_gen.as_dataset(),\n",
    "        epochs=EPOCHS,\n",
    "        class_weight=class_weights,\n",
    "        callbacks=[early_stopping_callback, lr_scheduler]\n",
    "    )\n",
    "except Exception as e:\n",
    "    print(f\"Error during initial model training: {str(e)}\")\n",
    "    import traceback\n",
    "    traceback.print_exc()\n",
    "\n",
    "# Unfreeze some layers for fine-tuning\n",
    "base_model.trainable = True\n",
    "# Freeze all layers except the last 8 layers (consistent with previous VGG19 code)\n",
    "for layer in base_model.layers[:-8]:\n",
    "    layer.trainable = False\n",
    "\n",
    "# Recompile the model with a lower learning rate for fine-tuning\n",
    "vgg19_lstm_model.compile(\n",
    "    loss='categorical_crossentropy',\n",
    "    optimizer=tf.keras.optimizers.Adam(learning_rate=0.0001),  # Lower learning rate for fine-tuning\n",
    "    metrics=['accuracy']\n",
    ")\n",
    "\n",
    "# Fine-tune the model\n",
    "print(f\"\\nFine-tuning started for VGG19+LSTM model with {len(train_gen.videos)} videos of {NO_OF_CLASSES} classes with {len(val_gen.videos)} videos for validation...\")\n",
    "try:\n",
    "    vgg19_history_fine = vgg19_lstm_model.fit(\n",
    "        train_gen.as_dataset(),\n",
    "        validation_data=val_gen.as_dataset(),\n",
    "        epochs=EPOCHS,\n",
    "        class_weight=class_weights,\n",
    "        callbacks=[early_stopping_callback, lr_scheduler]\n",
    "    )\n",
    "except Exception as e:\n",
    "    print(f\"Error during fine-tuning: {str(e)}\")\n",
    "    import traceback\n",
    "    traceback.print_exc()\n",
    "\n",
    "# Evaluate the model on the test set\n",
    "print(\"\\nEvaluating VGG19+LSTM model on test set...\")\n",
    "test_gen = VideoDataGenerator(\n",
    "    videos=features_test,\n",
    "    labels=labels_test,\n",
    "    batch_size=BATCH_SIZE\n",
    ")\n",
    "try:\n",
    "    videos, labels = test_gen[0]\n",
    "    print(f\"test_gen batch videos shape: {videos.shape}\")\n",
    "    print(f\"test_gen batch labels shape: {labels.shape}\")\n",
    "    loss, accuracy = vgg19_lstm_model.evaluate(test_gen.as_dataset())\n",
    "    print(f'VGG19+LSTM Test Loss: {loss:.4f}')\n",
    "    print(f'VGG19+LSTM Test Accuracy: {accuracy * 100:.2f}%')\n",
    "except Exception as e:\n",
    "    print(f\"Error during model evaluation: {str(e)}\")\n",
    "    import traceback\n",
    "    traceback.print_exc()\n",
    "\n",
    "# Plot training history (combine initial and fine-tuning)\n",
    "import matplotlib.pyplot as plt\n",
    "\n",
    "try:\n",
    "    # Combine histories\n",
    "    history_accuracy = vgg19_history_initial.history['accuracy'] + vgg19_history_fine.history['accuracy']\n",
    "    history_val_accuracy = vgg19_history_initial.history['val_accuracy'] + vgg19_history_fine.history['val_accuracy']\n",
    "    history_loss = vgg19_history_initial.history['loss'] + vgg19_history_fine.history['loss']\n",
    "    history_val_loss = vgg19_history_initial.history['val_loss'] + vgg19_history_fine.history['val_loss']\n",
    "\n",
    "    plt.figure(figsize=(12, 5))\n",
    "\n",
    "    # Accuracy\n",
    "    plt.subplot(1, 2, 1)\n",
    "    plt.plot(history_accuracy, label='Train Accuracy')\n",
    "    plt.plot(history_val_accuracy, label='Validation Accuracy')\n",
    "    plt.axvline(x=len(vgg19_history_initial.history['accuracy']), color='r', linestyle='--', label='Start Fine-Tuning')\n",
    "    plt.title('VGG19+LSTM Model Accuracy')\n",
    "    plt.xlabel('Epoch')\n",
    "    plt.ylabel('Accuracy')\n",
    "    plt.legend()\n",
    "\n",
    "    # Loss\n",
    "    plt.subplot(1, 2, 2)\n",
    "    plt.plot(history_loss, label='Train Loss')\n",
    "    plt.plot(history_val_loss, label='Validation Loss')\n",
    "    plt.axvline(x=len(vgg19_history_initial.history['loss']), color='r', linestyle='--', label='Start Fine-Tuning')\n",
    "    plt.title('VGG19+LSTM Model Loss')\n",
    "    plt.xlabel('Epoch')\n",
    "    plt.ylabel('Loss')\n",
    "    plt.legend()\n",
    "\n",
    "    plt.tight_layout()\n",
    "    plt.show()\n",
    "except Exception as e:\n",
    "    print(f\"Error plotting training history: {str(e)}\")\n",
    "\n",
    "# Generate confusion matrix and classification report\n",
    "from sklearn.metrics import classification_report, confusion_matrix\n",
    "import seaborn as sns\n",
    "\n",
    "# Get predictions\n",
    "try:\n",
    "    predictions = vgg19_lstm_model.predict(test_gen.as_dataset())\n",
    "    predicted_classes = np.argmax(predictions, axis=1)\n",
    "    true_classes = np.argmax(labels_test, axis=1)\n",
    "\n",
    "    # Verify shapes\n",
    "    print(f\"True classes shape: {true_classes.shape}\")\n",
    "    print(f\"Predicted classes shape: {predicted_classes.shape}\")\n",
    "    assert len(true_classes) == len(predicted_classes), \"Sample counts do not match!\"\n",
    "\n",
    "    # Generate classification report\n",
    "    print(\"\\nVGG19+LSTM Classification Report:\")\n",
    "    print(classification_report(true_classes, predicted_classes, target_names=CLASSES_LIST))\n",
    "\n",
    "    # Plot confusion matrix\n",
    "    cm = confusion_matrix(true_classes, predicted_classes)\n",
    "    plt.figure(figsize=(8, 6))\n",
    "    sns.heatmap(cm, annot=True, fmt='d', cmap='Blues', xticklabels=CLASSES_LIST, yticklabels=CLASSES_LIST)\n",
    "    plt.xlabel('Predicted')\n",
    "    plt.ylabel('True')\n",
    "    plt.title('VGG19+LSTM Confusion Matrix')\n",
    "    plt.show()\n",
    "except Exception as e:\n",
    "    print(f\"Error during prediction or plotting: {str(e)}\")\n",
    "    import traceback\n",
    "    traceback.print_exc()"
   ]
  },
  {
   "cell_type": "code",
   "execution_count": 56,
   "id": "4d1671a7",
   "metadata": {
    "execution": {
     "iopub.execute_input": "2025-07-11T10:32:08.224520Z",
     "iopub.status.busy": "2025-07-11T10:32:08.224083Z",
     "iopub.status.idle": "2025-07-11T10:32:13.351910Z",
     "shell.execute_reply": "2025-07-11T10:32:13.351374Z"
    },
    "papermill": {
     "duration": 5.271692,
     "end_time": "2025-07-11T10:32:13.353082",
     "exception": false,
     "start_time": "2025-07-11T10:32:08.081390",
     "status": "completed"
    },
    "tags": []
   },
   "outputs": [
    {
     "name": "stdout",
     "output_type": "stream",
     "text": [
      "\u001b[1m11/11\u001b[0m \u001b[32m━━━━━━━━━━━━━━━━━━━━\u001b[0m\u001b[37m\u001b[0m \u001b[1m4s\u001b[0m 261ms/step - accuracy: 1.0000 - loss: 0.1748\n"
     ]
    }
   ],
   "source": [
    "# previous code\n",
    "model_evaluation_history = vgg19_lstm_model.evaluate(features_test, labels_test)"
   ]
  }
 ],
 "metadata": {
  "kaggle": {
   "accelerator": "nvidiaTeslaT4",
   "dataSources": [
    {
     "datasetId": 1357563,
     "sourceId": 2256095,
     "sourceType": "datasetVersion"
    },
    {
     "datasetId": 7763484,
     "sourceId": 12338519,
     "sourceType": "datasetVersion"
    },
    {
     "datasetId": 7801555,
     "sourceId": 12373067,
     "sourceType": "datasetVersion"
    },
    {
     "datasetId": 7801884,
     "sourceId": 12373562,
     "sourceType": "datasetVersion"
    }
   ],
   "dockerImageVersionId": 31041,
   "isGpuEnabled": true,
   "isInternetEnabled": true,
   "language": "python",
   "sourceType": "notebook"
  },
  "kernelspec": {
   "display_name": "Python 3",
   "language": "python",
   "name": "python3"
  },
  "language_info": {
   "codemirror_mode": {
    "name": "ipython",
    "version": 3
   },
   "file_extension": ".py",
   "mimetype": "text/x-python",
   "name": "python",
   "nbconvert_exporter": "python",
   "pygments_lexer": "ipython3",
   "version": "3.11.11"
  },
  "papermill": {
   "default_parameters": {},
   "duration": 1220.722149,
   "end_time": "2025-07-11T10:32:16.596995",
   "environment_variables": {},
   "exception": null,
   "input_path": "__notebook__.ipynb",
   "output_path": "__notebook__.ipynb",
   "parameters": {},
   "start_time": "2025-07-11T10:11:55.874846",
   "version": "2.6.0"
  }
 },
 "nbformat": 4,
 "nbformat_minor": 5
}
