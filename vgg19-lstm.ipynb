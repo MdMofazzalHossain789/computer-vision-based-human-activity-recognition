{
 "cells": [
  {
   "cell_type": "markdown",
   "id": "b398dfbc",
   "metadata": {
    "papermill": {
     "duration": 0.012003,
     "end_time": "2025-07-11T14:41:20.098590",
     "exception": false,
     "start_time": "2025-07-11T14:41:20.086587",
     "status": "completed"
    },
    "tags": []
   },
   "source": [
    "# Initialization\n",
    "## Import Libraries"
   ]
  },
  {
   "cell_type": "code",
   "execution_count": 1,
   "id": "3543e719",
   "metadata": {
    "_cell_guid": "b1076dfc-b9ad-4769-8c92-a6c4dae69d19",
    "_uuid": "8f2839f25d086af736a60e9eeb907d3b93b6e0e5",
    "execution": {
     "iopub.execute_input": "2025-07-11T14:41:20.120497Z",
     "iopub.status.busy": "2025-07-11T14:41:20.120232Z",
     "iopub.status.idle": "2025-07-11T14:41:35.419689Z",
     "shell.execute_reply": "2025-07-11T14:41:35.418808Z"
    },
    "papermill": {
     "duration": 15.31217,
     "end_time": "2025-07-11T14:41:35.421235",
     "exception": false,
     "start_time": "2025-07-11T14:41:20.109065",
     "status": "completed"
    },
    "tags": []
   },
   "outputs": [
    {
     "name": "stderr",
     "output_type": "stream",
     "text": [
      "2025-07-11 14:41:21.596792: E external/local_xla/xla/stream_executor/cuda/cuda_fft.cc:477] Unable to register cuFFT factory: Attempting to register factory for plugin cuFFT when one has already been registered\n",
      "WARNING: All log messages before absl::InitializeLog() is called are written to STDERR\n",
      "E0000 00:00:1752244881.778401      19 cuda_dnn.cc:8310] Unable to register cuDNN factory: Attempting to register factory for plugin cuDNN when one has already been registered\n",
      "E0000 00:00:1752244881.831926      19 cuda_blas.cc:1418] Unable to register cuBLAS factory: Attempting to register factory for plugin cuBLAS when one has already been registered\n"
     ]
    }
   ],
   "source": [
    "# install librarires\n",
    "import os\n",
    "import tensorflow as tf\n",
    "import numpy as np\n",
    "import random"
   ]
  },
  {
   "cell_type": "markdown",
   "id": "89d5b816",
   "metadata": {
    "papermill": {
     "duration": 0.010047,
     "end_time": "2025-07-11T14:41:35.442800",
     "exception": false,
     "start_time": "2025-07-11T14:41:35.432753",
     "status": "completed"
    },
    "tags": []
   },
   "source": [
    "## ℹ️ Set Global Constants"
   ]
  },
  {
   "cell_type": "code",
   "execution_count": 2,
   "id": "b8682a16",
   "metadata": {
    "execution": {
     "iopub.execute_input": "2025-07-11T14:41:35.464196Z",
     "iopub.status.busy": "2025-07-11T14:41:35.463732Z",
     "iopub.status.idle": "2025-07-11T14:41:35.479463Z",
     "shell.execute_reply": "2025-07-11T14:41:35.478652Z"
    },
    "papermill": {
     "duration": 0.027787,
     "end_time": "2025-07-11T14:41:35.480650",
     "exception": false,
     "start_time": "2025-07-11T14:41:35.452863",
     "status": "completed"
    },
    "tags": []
   },
   "outputs": [
    {
     "name": "stdout",
     "output_type": "stream",
     "text": [
      "Weizmann Dataset\n",
      "There are total 10 classes, selected 10 classes\n",
      "Setting 20/class to train the model.\n",
      "Image size 128x128 with 5 sequence length\n",
      "Dropout rate: 0.5\n",
      "Train-Test split ratio 80/20\n",
      "Validation data from Train set 20.0%\n"
     ]
    }
   ],
   "source": [
    "# global variables\n",
    "# set dataset directories\n",
    "\n",
    "\n",
    "DATASET_DIR = \"/kaggle/input/weizmann-video-dataset/Weizmann Dataset\"\n",
    "DATASET_NAME = DATASET_DIR.split(\"/\")[-1].replace(\"-\", \" \").title()\n",
    "\n",
    "print(DATASET_NAME)\n",
    "\n",
    "ALL_CLASS_NAMES = os.listdir(DATASET_DIR)\n",
    "\n",
    "# Global constant variables -> \n",
    "NO_OF_CLASSES = len(ALL_CLASS_NAMES)\n",
    "CLASSES_LIST = ALL_CLASS_NAMES\n",
    "\n",
    "\n",
    "# Model Configuration\n",
    "IMAGE_HEIGHT, IMAGE_WIDTH = 128, 128\n",
    "SEQUENCE_LENGTH = 5\n",
    "\n",
    "# set drop out rate\n",
    "DROPOUT_RATE = 0.5\n",
    "\n",
    "# set datas\n",
    "MAX_VIDEO_PER_CLASS = 20\n",
    "\n",
    "# split dataset\n",
    "TEST_SIZE = 0.20\n",
    "\n",
    "# model fit parameters\n",
    "EPOCHS = 30\n",
    "BATCH_SIZE = 24\n",
    "VALIDATION_SPLIT = 0.20\n",
    "\n",
    "# augmentation values\n",
    "NOISE_FACTOR = 0.02\n",
    "SHEAR_X= 1\n",
    "SHEAR_Y= 1\n",
    "\n",
    "# give a name of the model to save\n",
    "MODEL_NAME = \"Xception\"\n",
    "\n",
    "print(f\"There are total {len(ALL_CLASS_NAMES)} classes, selected {NO_OF_CLASSES} classes\")\n",
    "print(f\"Setting {MAX_VIDEO_PER_CLASS}/class to train the model.\")\n",
    "print(f\"Image size {IMAGE_HEIGHT}x{IMAGE_WIDTH} with {SEQUENCE_LENGTH} sequence length\")\n",
    "print(f\"Dropout rate: {DROPOUT_RATE}\")\n",
    "print(f\"Train-Test split ratio {int((1-TEST_SIZE)*100)}/{int(TEST_SIZE*100)}\")\n",
    "print(f\"Validation data from Train set {VALIDATION_SPLIT*100}%\")"
   ]
  },
  {
   "cell_type": "markdown",
   "id": "c8233e5d",
   "metadata": {
    "papermill": {
     "duration": 0.009983,
     "end_time": "2025-07-11T14:41:35.500724",
     "exception": false,
     "start_time": "2025-07-11T14:41:35.490741",
     "status": "completed"
    },
    "tags": []
   },
   "source": [
    "## Set `Seed` Values"
   ]
  },
  {
   "cell_type": "code",
   "execution_count": 3,
   "id": "0aead896",
   "metadata": {
    "execution": {
     "iopub.execute_input": "2025-07-11T14:41:35.521620Z",
     "iopub.status.busy": "2025-07-11T14:41:35.521410Z",
     "iopub.status.idle": "2025-07-11T14:41:35.525066Z",
     "shell.execute_reply": "2025-07-11T14:41:35.524398Z"
    },
    "papermill": {
     "duration": 0.015467,
     "end_time": "2025-07-11T14:41:35.526080",
     "exception": false,
     "start_time": "2025-07-11T14:41:35.510613",
     "status": "completed"
    },
    "tags": []
   },
   "outputs": [],
   "source": [
    "# set seeed to get similar values\n",
    "seed_constant = 27\n",
    "np.random.seed(seed_constant)\n",
    "random.seed(seed_constant)\n",
    "tf.random.set_seed(seed_constant)"
   ]
  },
  {
   "cell_type": "markdown",
   "id": "3e43ef6c",
   "metadata": {
    "papermill": {
     "duration": 0.009752,
     "end_time": "2025-07-11T14:41:35.546604",
     "exception": false,
     "start_time": "2025-07-11T14:41:35.536852",
     "status": "completed"
    },
    "tags": []
   },
   "source": [
    "# 📌 Function Definition\n",
    "## Resize and Frame Extraction"
   ]
  },
  {
   "cell_type": "code",
   "execution_count": 4,
   "id": "bfdf19b0",
   "metadata": {
    "execution": {
     "iopub.execute_input": "2025-07-11T14:41:35.568273Z",
     "iopub.status.busy": "2025-07-11T14:41:35.568059Z",
     "iopub.status.idle": "2025-07-11T14:41:35.576322Z",
     "shell.execute_reply": "2025-07-11T14:41:35.575820Z"
    },
    "papermill": {
     "duration": 0.020452,
     "end_time": "2025-07-11T14:41:35.577325",
     "exception": false,
     "start_time": "2025-07-11T14:41:35.556873",
     "status": "completed"
    },
    "tags": []
   },
   "outputs": [],
   "source": [
    "import cv2\n",
    "from concurrent.futures import ThreadPoolExecutor\n",
    "\n",
    "def resize_and_normalize_frame(frame, image_height, image_width):\n",
    "    try:\n",
    "        resized_frame = cv2.resize(frame, (image_width, image_height), interpolation=cv2.INTER_LINEAR)\n",
    "        normalized_frame = resized_frame / 255.0\n",
    "        return normalized_frame\n",
    "    except Exception as e:\n",
    "        print(f\"Error processing frame: {e}\")\n",
    "        return None\n",
    "\n",
    "def frames_extraction(video_path, \n",
    "                      sequence_length=SEQUENCE_LENGTH, \n",
    "                      image_height=IMAGE_HEIGHT, \n",
    "                      image_width=IMAGE_WIDTH):\n",
    "    # Declare a list to store video frames\n",
    "    frames_list = []\n",
    "\n",
    "    # Check if video file exists\n",
    "    if not os.path.exists(video_path):\n",
    "        print(f\"Error: Video file not found at {video_path}\")\n",
    "        return None\n",
    "\n",
    "    # Read the video file using VideoCapture with optimized settings\n",
    "    video_reader = cv2.VideoCapture(video_path, cv2.CAP_FFMPEG)\n",
    "\n",
    "    # Check if the video was opened successfully\n",
    "    if not video_reader.isOpened():\n",
    "        print(f\"Error: Could not open video file {video_path}\")\n",
    "        video_reader.release()\n",
    "        return None\n",
    "\n",
    "    # Get the total number of frames in the video\n",
    "    video_frames_count = int(video_reader.get(cv2.CAP_PROP_FRAME_COUNT))\n",
    "\n",
    "    # Ensure the video has enough frames\n",
    "    if video_frames_count < sequence_length:\n",
    "        print(f\"Warning: Video {video_path} has only {video_frames_count} frames, less than required {sequence_length}\")\n",
    "        video_reader.release()\n",
    "        return None\n",
    "\n",
    "    # Calculate the interval after which frames will be sampled\n",
    "    skip_frames_window = max(int(video_frames_count / sequence_length), 1)\n",
    "\n",
    "    # Pre-allocate frame indices to extract\n",
    "    frame_indices = [i * skip_frames_window for i in range(sequence_length)]\n",
    "\n",
    "    # Read and process frames in parallel\n",
    "    frames = []\n",
    "    for idx in frame_indices:\n",
    "        video_reader.set(cv2.CAP_PROP_POS_FRAMES, idx)\n",
    "        success, frame = video_reader.read()\n",
    "        if not success or frame is None:\n",
    "            print(f\"Warning: Failed to read frame at index {idx} from {video_path}\")\n",
    "            break\n",
    "        frame = cv2.cvtColor(frame, cv2.COLOR_BGR2RGB)\n",
    "        frames.append(frame)\n",
    "\n",
    "    # Release the VideoCapture object early\n",
    "    video_reader.release()\n",
    "\n",
    "    # Ensure the correct number of frames is read\n",
    "    if len(frames) != sequence_length:\n",
    "        print(f\"Warning: Read {len(frames)} frames instead of {sequence_length} from {video_path}\")\n",
    "        return None\n",
    "\n",
    "    # Process frames in parallel using ThreadPoolExecutor\n",
    "    with ThreadPoolExecutor() as executor:\n",
    "        processed_frames = list(executor.map(\n",
    "            lambda f: resize_and_normalize_frame(f, image_height, image_width), \n",
    "            frames\n",
    "        ))\n",
    "\n",
    "    # Check for any failed frame processing\n",
    "    if any(f is None for f in processed_frames):\n",
    "        print(f\"Warning: Some frames failed to process in {video_path}\")\n",
    "        return None\n",
    "\n",
    "    # Convert to NumPy array\n",
    "    frames_array = np.array(processed_frames, dtype=np.float32)\n",
    "\n",
    "    return frames_array"
   ]
  },
  {
   "cell_type": "code",
   "execution_count": 5,
   "id": "72642aea",
   "metadata": {
    "execution": {
     "iopub.execute_input": "2025-07-11T14:41:35.598796Z",
     "iopub.status.busy": "2025-07-11T14:41:35.598573Z",
     "iopub.status.idle": "2025-07-11T14:41:35.601586Z",
     "shell.execute_reply": "2025-07-11T14:41:35.601064Z"
    },
    "papermill": {
     "duration": 0.015215,
     "end_time": "2025-07-11T14:41:35.602739",
     "exception": false,
     "start_time": "2025-07-11T14:41:35.587524",
     "status": "completed"
    },
    "tags": []
   },
   "outputs": [],
   "source": [
    " # # Iterate through all video files\n",
    " #        for file_name in files_list:\n",
    " #            video_file_path = os.path.join(class_path, file_name)\n",
    "\n",
    " #            # Extract frames using the updated frames_extraction function\n",
    " #            frames = frames_extraction(video_file_path, sequence_length, image_height, image_width)\n",
    "\n",
    " #            # Skip videos where frame extraction failed\n",
    " #            if frames is None:\n",
    " #                print(f\"Skipping video {video_file_path} due to frame extraction failure\")\n",
    " #                continue\n",
    "\n",
    " #            # Append the data to respective lists\n",
    " #            features.append(frames)\n",
    " #            labels.append(class_index)"
   ]
  },
  {
   "cell_type": "markdown",
   "id": "7c8215f0",
   "metadata": {
    "papermill": {
     "duration": 0.00996,
     "end_time": "2025-07-11T14:41:35.622962",
     "exception": false,
     "start_time": "2025-07-11T14:41:35.613002",
     "status": "completed"
    },
    "tags": []
   },
   "source": [
    "## Create Dataset"
   ]
  },
  {
   "cell_type": "code",
   "execution_count": 6,
   "id": "8bd9c101",
   "metadata": {
    "execution": {
     "iopub.execute_input": "2025-07-11T14:41:35.644178Z",
     "iopub.status.busy": "2025-07-11T14:41:35.643999Z",
     "iopub.status.idle": "2025-07-11T14:41:35.649669Z",
     "shell.execute_reply": "2025-07-11T14:41:35.649167Z"
    },
    "papermill": {
     "duration": 0.017775,
     "end_time": "2025-07-11T14:41:35.650774",
     "exception": false,
     "start_time": "2025-07-11T14:41:35.632999",
     "status": "completed"
    },
    "tags": []
   },
   "outputs": [],
   "source": [
    "# RUN create dataset function definition\n",
    "def create_dataset(dataset_dir,\n",
    "                   classes_list, \n",
    "                   sequence_length=SEQUENCE_LENGTH, \n",
    "                   image_height=IMAGE_HEIGHT, \n",
    "                   image_width=IMAGE_WIDTH, \n",
    "                   max_videos_per_class=None,\n",
    "                   augmentations=False\n",
    "                  ):\n",
    "    \n",
    "    # Initialize lists to store features, labels, and video file paths\n",
    "    videos = []\n",
    "    labels = []\n",
    "\n",
    "    # Check if dataset directory exists\n",
    "    if not os.path.exists(dataset_dir):\n",
    "        raise FileNotFoundError(f\"Dataset directory not found: {dataset_dir}\")\n",
    "\n",
    "    # Iterate through all classes in the classes list\n",
    "    for class_index, class_name in enumerate(classes_list):\n",
    "        class_path = os.path.join(dataset_dir, class_name)\n",
    "        \n",
    "        # Check if class directory exists\n",
    "        if not os.path.exists(class_path):\n",
    "            print(f\"Warning: Class directory not found: {class_path}\")\n",
    "            continue\n",
    "\n",
    "        print(f'Extracting Data of Class: {class_name}')\n",
    "\n",
    "        # Get the list of video files in the class directory\n",
    "        files_list = os.listdir(class_path)\n",
    "\n",
    "        # Limit the number of videos if specified\n",
    "        if max_videos_per_class is not None:\n",
    "            files_list = files_list[:max_videos_per_class]\n",
    "\n",
    "        # Iterate through all video files\n",
    "        for file_name in files_list:\n",
    "            video_file_path = os.path.join(class_path, file_name)\n",
    "\n",
    "            # Extract frames using the updated frames_extraction function\n",
    "            frames = frames_extraction(video_file_path, \n",
    "                                       sequence_length, \n",
    "                                       image_height, \n",
    "                                       image_width)\n",
    "\n",
    "            # Skip videos where frame extraction failed\n",
    "            if frames is None:\n",
    "                print(f\"Skipping video {video_file_path} due to frame extraction failure\")\n",
    "                continue\n",
    "\n",
    "            # Append the data to respective lists\n",
    "            videos.append(frames)\n",
    "            labels.append(class_index)\n",
    "\n",
    "    # Convert lists to numpy arrays\n",
    "    if not videos:\n",
    "        raise ValueError(\"No valid videos were processed. Check dataset or parameters.\")\n",
    "    videos = np.asarray(videos)\n",
    "    labels = np.array(labels)\n",
    "\n",
    "    print(f\"Dataset created with {len(videos)} videos\")\n",
    "    print(f\"Features shape: {videos.shape}\")\n",
    "    print(f\"Labels shape: {labels.shape}\")\n",
    "\n",
    "    return videos, labels"
   ]
  },
  {
   "cell_type": "markdown",
   "id": "e5de39fb",
   "metadata": {
    "papermill": {
     "duration": 0.009858,
     "end_time": "2025-07-11T14:41:35.670967",
     "exception": false,
     "start_time": "2025-07-11T14:41:35.661109",
     "status": "completed"
    },
    "tags": []
   },
   "source": [
    "## 🪄 Video Data Generator"
   ]
  },
  {
   "cell_type": "code",
   "execution_count": 7,
   "id": "5303be45",
   "metadata": {
    "execution": {
     "iopub.execute_input": "2025-07-11T14:41:35.692453Z",
     "iopub.status.busy": "2025-07-11T14:41:35.692216Z",
     "iopub.status.idle": "2025-07-11T14:41:35.756607Z",
     "shell.execute_reply": "2025-07-11T14:41:35.756112Z"
    },
    "papermill": {
     "duration": 0.076486,
     "end_time": "2025-07-11T14:41:35.757557",
     "exception": false,
     "start_time": "2025-07-11T14:41:35.681071",
     "status": "completed"
    },
    "tags": []
   },
   "outputs": [],
   "source": [
    "from tensorflow.keras.utils import Sequence, to_categorical\n",
    "import tensorflow as tf\n",
    "import numpy as np\n",
    "import cv2\n",
    "\n",
    "\n",
    "\n",
    "\n",
    "class VideoDataGenerator(Sequence):\n",
    "    def __init__(self, videos, labels, batch_size, is_training=False):\n",
    "        self.videos = list(videos)  # List of video file paths\n",
    "        self.labels = list(labels)  # List or array of labels encoded\n",
    "        self.batch_size = batch_size\n",
    "        self.indices = np.arange(len(self.videos))  # For shuffling\n",
    "        self.is_training = is_training  # Flag to control whether augmentation is applied\n",
    "        self.temp_videos=[]\n",
    "        self.temp_labels=[]\n",
    "        \n",
    "        \n",
    "        print(f\"Total {len(videos)} videos and {len(labels)} classes\")\n",
    "\n",
    "    def __len__(self):\n",
    "        # Return the number of batches per epoch\n",
    "        return int(np.ceil(len(self.videos) / self.batch_size))\n",
    "\n",
    "    def __getitem__(self, idx):\n",
    "        # Get batch indices\n",
    "        batch_indices = self.indices[idx * self.batch_size:(idx + 1) * self.batch_size]\n",
    "        \n",
    "        # Handle case where batch_indices is empty\n",
    "        if len(batch_indices) == 0:\n",
    "            return np.array([], dtype=np.float32), np.array([], dtype=np.float32)\n",
    "        \n",
    "        # Initialize lists to store frames and labels\n",
    "        all_frames = []\n",
    "        all_labels = []\n",
    "        \n",
    "        # Process each video in the batch\n",
    "        for i, index in enumerate(batch_indices):\n",
    "            sequence = self.videos[index]\n",
    "            label = self.labels[index]\n",
    "            \n",
    "            # Load and process video\n",
    "            # sequence = frames_extraction(video_path)\n",
    "\n",
    "            # if sequence is not None:\n",
    "            #     # Apply augmentations: 1 original + 4 augmentations (horizontal flip, shear, rotation, noise)\n",
    "            #     augmented_sequences = [sequence]  # Add original sequence\n",
    "\n",
    "            #     if self.is_training:\n",
    "            #         # Apply augmentations\n",
    "            #         augmented_sequences.append(np.array(horizontal_flip(sequence)))  # Horizontal Flip\n",
    "            #         augmented_sequences.append(np.array(apply_shear_frames(sequence, shear_right=0)))  # Random Shear\n",
    "            #         augmented_sequences.append(np.array(apply_shear_frames(sequence, shear_right=1)))  # Random Rotation\n",
    "            #         augmented_sequences.append(np.array(noise_video(sequence)))  # Salt and Pepper Noise\n",
    "\n",
    "            #     # Add augmented sequences to the batch\n",
    "            #     all_frames.extend(augmented_sequences)\n",
    "            #     all_labels.extend([label] * len(augmented_sequences))  # Each augmentation has the same label\n",
    "\n",
    "            \n",
    "            # Append the sequence and label\n",
    "            all_frames.append(sequence)\n",
    "            all_labels.append(label)\n",
    "        \n",
    "        # Convert to numpy arrays\n",
    "        all_frames = np.array(all_frames, dtype=np.float32)\n",
    "        all_labels = np.array(all_labels)\n",
    "            \n",
    "        \n",
    "        return all_frames, all_labels\n",
    "    def add(self, new_videos, new_labels):\n",
    "        self.temp_videos.extend(new_videos)\n",
    "        self.temp_labels.extend(new_labels)\n",
    "    \n",
    "    def confirm(self):\n",
    "        print(f\"Adding {len(self.temp_videos)} videos with {len(self.temp_labels)} classes.\")\n",
    "        self.videos.extend(self.temp_videos)\n",
    "        self.labels.extend(self.temp_labels)\n",
    "        print(f\"Successfully added - {len(self.temp_videos)} videos and {len(self.temp_labels)} classes.\")\n",
    "        self.temp_videos=[]\n",
    "        self.temp_labels=[]\n",
    "        self.indices = np.arange(len(self.videos))\n",
    "        print(f\"Now Total - {len(self.videos)} videos and {len(self.labels)} classes.\")\n",
    "        print(f\"PENDING for Augmentations - {len(self.temp_videos)} videos and {len(self.temp_labels)} classes.\")\n",
    "    \n",
    "    def on_epoch_end(self):\n",
    "        # Shuffle indices at the end of each epoch\n",
    "        np.random.shuffle(self.indices)\n",
    "\n",
    "    def as_dataset(self):\n",
    "        def generator():\n",
    "            for idx in range(len(self)):\n",
    "                frames, labels = self[idx]\n",
    "                # Skip empty batches\n",
    "                if frames.size == 0:\n",
    "                    continue\n",
    "                yield frames, labels\n",
    "        self.labels=np.array(self.labels)\n",
    "    \n",
    "        # Create a tf.data.Dataset\n",
    "        dataset = tf.data.Dataset.from_generator(\n",
    "            generator,\n",
    "            output_types=(tf.float32, tf.float32),\n",
    "            output_shapes=(\n",
    "                (None, SEQUENCE_LENGTH, IMAGE_HEIGHT, IMAGE_WIDTH, 3),\n",
    "                (None, NO_OF_CLASSES)\n",
    "            )\n",
    "        )\n",
    "        dataset = dataset.prefetch(tf.data.AUTOTUNE)\n",
    "        return dataset"
   ]
  },
  {
   "cell_type": "markdown",
   "id": "d8f90aba",
   "metadata": {
    "papermill": {
     "duration": 0.052395,
     "end_time": "2025-07-11T14:41:35.820100",
     "exception": false,
     "start_time": "2025-07-11T14:41:35.767705",
     "status": "completed"
    },
    "tags": []
   },
   "source": [
    "## Debug and Helpers"
   ]
  },
  {
   "cell_type": "markdown",
   "id": "f7eca289",
   "metadata": {
    "papermill": {
     "duration": 0.009904,
     "end_time": "2025-07-11T14:41:35.840167",
     "exception": false,
     "start_time": "2025-07-11T14:41:35.830263",
     "status": "completed"
    },
    "tags": []
   },
   "source": [
    "## 💫 Augmentation Helper function"
   ]
  },
  {
   "cell_type": "code",
   "execution_count": 8,
   "id": "933fa414",
   "metadata": {
    "execution": {
     "iopub.execute_input": "2025-07-11T14:41:35.861568Z",
     "iopub.status.busy": "2025-07-11T14:41:35.861263Z",
     "iopub.status.idle": "2025-07-11T14:41:35.865926Z",
     "shell.execute_reply": "2025-07-11T14:41:35.865400Z"
    },
    "papermill": {
     "duration": 0.016711,
     "end_time": "2025-07-11T14:41:35.867010",
     "exception": false,
     "start_time": "2025-07-11T14:41:35.850299",
     "status": "completed"
    },
    "tags": []
   },
   "outputs": [],
   "source": [
    "import time\n",
    "\n",
    "    \n",
    "\n",
    "def apply_augmentation(augmentation_function, generator, confirm=False, *args, **kwargs):\n",
    "    \n",
    "    for i in range(len(generator)):\n",
    "        batch_videos, batch_labels = generator[i]\n",
    "        augmented_videos=[]\n",
    "        for videos in batch_videos:\n",
    "            augmented_videos.append(augmentation_function(videos, *args, **kwargs))\n",
    "        generator.add(augmented_videos, batch_labels)\n",
    "        print(f\"Processing video {len(generator.temp_videos)}...\", end=\"\\r\", flush=True)\n",
    "        time.sleep(0.5)  # simulate work\n",
    "    if confirm:\n",
    "        generator.confirm()"
   ]
  },
  {
   "cell_type": "markdown",
   "id": "f66569f1",
   "metadata": {
    "papermill": {
     "duration": 0.010459,
     "end_time": "2025-07-11T14:41:35.887530",
     "exception": false,
     "start_time": "2025-07-11T14:41:35.877071",
     "status": "completed"
    },
    "tags": []
   },
   "source": [
    "### Show Frames"
   ]
  },
  {
   "cell_type": "code",
   "execution_count": 9,
   "id": "a915609a",
   "metadata": {
    "execution": {
     "iopub.execute_input": "2025-07-11T14:41:35.910064Z",
     "iopub.status.busy": "2025-07-11T14:41:35.909823Z",
     "iopub.status.idle": "2025-07-11T14:41:35.913856Z",
     "shell.execute_reply": "2025-07-11T14:41:35.913244Z"
    },
    "papermill": {
     "duration": 0.016451,
     "end_time": "2025-07-11T14:41:35.914937",
     "exception": false,
     "start_time": "2025-07-11T14:41:35.898486",
     "status": "completed"
    },
    "tags": []
   },
   "outputs": [],
   "source": [
    "# show frame def\n",
    "import matplotlib.pyplot as plt\n",
    "\n",
    "def show_frame(frame):\n",
    "    plt.figure(figsize=(3,3))\n",
    "    plt.imshow(frame)\n",
    "    plt.axis(\"off\")\n",
    "    plt.tight_layout()"
   ]
  },
  {
   "cell_type": "markdown",
   "id": "e68fad5b",
   "metadata": {
    "papermill": {
     "duration": 0.010429,
     "end_time": "2025-07-11T14:41:35.935997",
     "exception": false,
     "start_time": "2025-07-11T14:41:35.925568",
     "status": "completed"
    },
    "tags": []
   },
   "source": [
    "### Helper Function"
   ]
  },
  {
   "cell_type": "code",
   "execution_count": 10,
   "id": "ab35597c",
   "metadata": {
    "execution": {
     "iopub.execute_input": "2025-07-11T14:41:35.957746Z",
     "iopub.status.busy": "2025-07-11T14:41:35.957514Z",
     "iopub.status.idle": "2025-07-11T14:41:35.961801Z",
     "shell.execute_reply": "2025-07-11T14:41:35.961078Z"
    },
    "papermill": {
     "duration": 0.016373,
     "end_time": "2025-07-11T14:41:35.962836",
     "exception": false,
     "start_time": "2025-07-11T14:41:35.946463",
     "status": "completed"
    },
    "tags": []
   },
   "outputs": [],
   "source": [
    "def show_frame_vs(frame1, frame2, title1=\"Frame 1\", title2=\"Frame 2\"):\n",
    "    plt.figure(figsize=(10, 5))\n",
    "\n",
    "    # First frame\n",
    "    plt.subplot(1, 2, 1)\n",
    "    plt.imshow(frame1)\n",
    "    plt.title(title1)\n",
    "    plt.axis('off')\n",
    "\n",
    "    # Second frame\n",
    "    plt.subplot(1, 2, 2)\n",
    "    plt.imshow(frame2)\n",
    "    plt.title(title2)\n",
    "    plt.axis('off')\n",
    "\n",
    "    plt.tight_layout()\n",
    "    plt.show()"
   ]
  },
  {
   "cell_type": "code",
   "execution_count": 11,
   "id": "d5eaebfd",
   "metadata": {
    "execution": {
     "iopub.execute_input": "2025-07-11T14:41:35.985003Z",
     "iopub.status.busy": "2025-07-11T14:41:35.984793Z",
     "iopub.status.idle": "2025-07-11T14:41:35.988471Z",
     "shell.execute_reply": "2025-07-11T14:41:35.987781Z"
    },
    "papermill": {
     "duration": 0.01589,
     "end_time": "2025-07-11T14:41:35.989666",
     "exception": false,
     "start_time": "2025-07-11T14:41:35.973776",
     "status": "completed"
    },
    "tags": []
   },
   "outputs": [],
   "source": [
    "# reusable video loop helper function\n",
    "def apply_function(function, videos, *arg, **kwargs):\n",
    "    new_videos=[]\n",
    "    \n",
    "    for video in videos:\n",
    "        new_videos.append(function(video, *arg, **kwargs))\n",
    "        \n",
    "    return new_videos"
   ]
  },
  {
   "cell_type": "code",
   "execution_count": 12,
   "id": "711ca873",
   "metadata": {
    "execution": {
     "iopub.execute_input": "2025-07-11T14:41:36.011070Z",
     "iopub.status.busy": "2025-07-11T14:41:36.010691Z",
     "iopub.status.idle": "2025-07-11T14:41:36.014817Z",
     "shell.execute_reply": "2025-07-11T14:41:36.014269Z"
    },
    "papermill": {
     "duration": 0.015824,
     "end_time": "2025-07-11T14:41:36.015745",
     "exception": false,
     "start_time": "2025-07-11T14:41:35.999921",
     "status": "completed"
    },
    "tags": []
   },
   "outputs": [],
   "source": [
    "# reusable video loop helper function\n",
    "def apply(function, videos, labels, *arg, **kwargs):\n",
    "    new_videos=[]\n",
    "    new_labels=[]\n",
    "    combined=zip(labels, videos)\n",
    "    \n",
    "    for label, video in combined:\n",
    "        new_videos.append(function(video, *arg, **kwargs))\n",
    "        new_labels.append(label)\n",
    "        \n",
    "    new_videos=np.asarray(new_videos)\n",
    "    new_labels=np.asarray(new_labels)\n",
    "    \n",
    "    return new_videos, new_labels"
   ]
  },
  {
   "cell_type": "markdown",
   "id": "0127bd02",
   "metadata": {
    "papermill": {
     "duration": 0.009961,
     "end_time": "2025-07-11T14:41:36.035786",
     "exception": false,
     "start_time": "2025-07-11T14:41:36.025825",
     "status": "completed"
    },
    "tags": []
   },
   "source": [
    "## Salt and Pepper Noise "
   ]
  },
  {
   "cell_type": "code",
   "execution_count": 13,
   "id": "f478f82c",
   "metadata": {
    "execution": {
     "iopub.execute_input": "2025-07-11T14:41:36.056992Z",
     "iopub.status.busy": "2025-07-11T14:41:36.056549Z",
     "iopub.status.idle": "2025-07-11T14:41:36.060524Z",
     "shell.execute_reply": "2025-07-11T14:41:36.059996Z"
    },
    "papermill": {
     "duration": 0.015851,
     "end_time": "2025-07-11T14:41:36.061596",
     "exception": false,
     "start_time": "2025-07-11T14:41:36.045745",
     "status": "completed"
    },
    "tags": []
   },
   "outputs": [],
   "source": [
    "# Noise function def\n",
    "\n",
    "def noise_video(video,noise_factor=NOISE_FACTOR):\n",
    "    noisy_video=[]\n",
    "    for frame in video:\n",
    "        # Generate random noise\n",
    "        noise = np.random.rand(*frame.shape)  # Generate random noise\n",
    "        salt_pepper_noise = np.random.choice([0, 1], size=frame.shape, p=[1-noise_factor, noise_factor])\n",
    "        noisy_frame = frame * (1 - salt_pepper_noise) + salt_pepper_noise * np.random.rand(*frame.shape)\n",
    "        noisy_video.append(noisy_frame)\n",
    "    return np.array(noisy_video)"
   ]
  },
  {
   "cell_type": "markdown",
   "id": "09229ab7",
   "metadata": {
    "papermill": {
     "duration": 0.009923,
     "end_time": "2025-07-11T14:41:36.081843",
     "exception": false,
     "start_time": "2025-07-11T14:41:36.071920",
     "status": "completed"
    },
    "tags": []
   },
   "source": [
    "## Horizontal Flip"
   ]
  },
  {
   "cell_type": "code",
   "execution_count": 14,
   "id": "aa13a5fe",
   "metadata": {
    "execution": {
     "iopub.execute_input": "2025-07-11T14:41:36.103307Z",
     "iopub.status.busy": "2025-07-11T14:41:36.103102Z",
     "iopub.status.idle": "2025-07-11T14:41:36.106643Z",
     "shell.execute_reply": "2025-07-11T14:41:36.105975Z"
    },
    "papermill": {
     "duration": 0.015142,
     "end_time": "2025-07-11T14:41:36.107707",
     "exception": false,
     "start_time": "2025-07-11T14:41:36.092565",
     "status": "completed"
    },
    "tags": []
   },
   "outputs": [],
   "source": [
    "# horizontal flip function def\n",
    "# Testing Flip feautes[0] -> first video\n",
    "def horizontal_flip(video):\n",
    "    return [tf.image.flip_left_right(frame) for frame in video]"
   ]
  },
  {
   "cell_type": "markdown",
   "id": "f897281c",
   "metadata": {
    "papermill": {
     "duration": 0.009837,
     "end_time": "2025-07-11T14:41:36.127845",
     "exception": false,
     "start_time": "2025-07-11T14:41:36.118008",
     "status": "completed"
    },
    "tags": []
   },
   "source": [
    "## Random Shear"
   ]
  },
  {
   "cell_type": "code",
   "execution_count": 15,
   "id": "3ffdedb3",
   "metadata": {
    "execution": {
     "iopub.execute_input": "2025-07-11T14:41:36.148808Z",
     "iopub.status.busy": "2025-07-11T14:41:36.148607Z",
     "iopub.status.idle": "2025-07-11T14:41:36.154087Z",
     "shell.execute_reply": "2025-07-11T14:41:36.153538Z"
    },
    "papermill": {
     "duration": 0.017233,
     "end_time": "2025-07-11T14:41:36.155155",
     "exception": false,
     "start_time": "2025-07-11T14:41:36.137922",
     "status": "completed"
    },
    "tags": []
   },
   "outputs": [],
   "source": [
    "# random shear function def\n",
    "import numpy as np\n",
    "import tensorflow as tf\n",
    "from scipy.ndimage import affine_transform\n",
    "\n",
    "def apply_shear_frames(frames, shear_right):\n",
    "    return [apply_shear(frame, shear_right) for frame in frames]\n",
    "\n",
    "def apply_shear(frame, shear_right=0):\n",
    "    frame_resized = tf.image.resize(frame, (IMAGE_HEIGHT, IMAGE_WIDTH)).numpy()\n",
    "    if shear_right:\n",
    "        shear_x = 0.09\n",
    "        shear_y = 0.1\n",
    "    else:\n",
    "        shear_x = -0.09\n",
    "        shear_y = 0.3\n",
    "    # Construct the affine matrix for scipy: inverse of the transformation matrix\n",
    "    # scipy applies the inverse transform matrix\n",
    "    shear_matrix = np.array([\n",
    "        [1, shear_x, 0],\n",
    "        [shear_y, 1, 0],\n",
    "        [0, 0, 1]\n",
    "    ], dtype=np.float32)\n",
    "\n",
    "    # Extract 2x2 part for affine_transform\n",
    "    matrix = shear_matrix[:2, :2]\n",
    "\n",
    "    # Offset (no translation)\n",
    "    offset = [0, 0]\n",
    "\n",
    "    # Apply affine transform on each channel separately\n",
    "    sheared = np.zeros_like(frame_resized)\n",
    "    for c in range(3):\n",
    "        sheared[..., c] = affine_transform(\n",
    "            frame_resized[..., c],\n",
    "            matrix=matrix,\n",
    "            offset=offset,\n",
    "            order=1,          # bilinear interpolation\n",
    "            mode='nearest'    # fill_mode\n",
    "        )\n",
    "    return sheared"
   ]
  },
  {
   "cell_type": "markdown",
   "id": "31b9180a",
   "metadata": {
    "papermill": {
     "duration": 0.009915,
     "end_time": "2025-07-11T14:41:36.175259",
     "exception": false,
     "start_time": "2025-07-11T14:41:36.165344",
     "status": "completed"
    },
    "tags": []
   },
   "source": [
    "# 📌 Model Related\n",
    "## 🗼 Model Architecture `create_model`"
   ]
  },
  {
   "cell_type": "code",
   "execution_count": 16,
   "id": "d5eb0051",
   "metadata": {
    "execution": {
     "iopub.execute_input": "2025-07-11T14:41:36.196055Z",
     "iopub.status.busy": "2025-07-11T14:41:36.195886Z",
     "iopub.status.idle": "2025-07-11T14:41:36.207640Z",
     "shell.execute_reply": "2025-07-11T14:41:36.207152Z"
    },
    "papermill": {
     "duration": 0.023546,
     "end_time": "2025-07-11T14:41:36.208790",
     "exception": false,
     "start_time": "2025-07-11T14:41:36.185244",
     "status": "completed"
    },
    "tags": []
   },
   "outputs": [],
   "source": [
    "from tensorflow.keras.applications import Xception\n",
    "from tensorflow.keras.models import Sequential\n",
    "from tensorflow.keras.layers import GlobalAveragePooling2D, TimeDistributed, LSTM, Dropout, Dense\n",
    "from tensorflow.keras.regularizers import l2\n",
    "from tensorflow.keras.layers import BatchNormalization\n",
    "\n",
    "def create_xception_lstm_model(sequence_length, image_height, image_width, classes_list=None, dropout_rate=0.5):\n",
    "    if classes_list is None:\n",
    "        raise ValueError(\"classes_list must be provided to define the output layer size\")\n",
    "\n",
    "    try:\n",
    "        # Load Xception model with pre-trained ImageNet weights\n",
    "        print(\"Loading Xception base model...\")\n",
    "        xception = Xception(\n",
    "            weights='imagenet',\n",
    "            include_top=False,\n",
    "            input_shape=(image_height, image_width, 3),\n",
    "            name=\"Xception\"\n",
    "        )\n",
    "        # Freeze Xception layers\n",
    "        for layer in xception.layers[:-10]:  # Unfreeze last 10 layers\n",
    "            layer.trainable = False\n",
    "        for layer in xception.layers[-10:]:\n",
    "            layer.trainable = True\n",
    "\n",
    "        # Define the Sequential model\n",
    "        model = Sequential([\n",
    "            # InputLayer and TimeDistributed Xception\n",
    "            TimeDistributed(\n",
    "                xception,\n",
    "                input_shape=(sequence_length, image_height, image_width, 3),\n",
    "                name=\"time_distributed\"\n",
    "            ),\n",
    "            # TimeDistributed GlobalAveragePooling2D\n",
    "            TimeDistributed(GlobalAveragePooling2D(), name=\"time_distributed_1\"),\n",
    "            # LSTM layer with 128 units\n",
    "            LSTM(128, activation=\"tanh\", return_sequences=False, kernel_regularizer=l2(0.01), name=\"lstm\"),\n",
    "            \n",
    "            BatchNormalization(name=\"batch_normalization\"),\n",
    "            # Dropout after LSTM\n",
    "            Dropout(dropout_rate, name=\"dropout_lstm\"),\n",
    "            # Dense layer with 512 units\n",
    "            Dense(512, activation=\"relu\", kernel_regularizer=l2(0.01), name=\"dense\"),\n",
    "            # Dropout after Dense\n",
    "            Dropout(dropout_rate + 0.1, name=\"dropout_dense\"),\n",
    "            # Output Dense layer with softmax activation\n",
    "            Dense(len(classes_list), activation=\"softmax\", name=\"dense_1\")\n",
    "        ])\n",
    "        \n",
    "        # Print model summary\n",
    "        print(\"Model architecture created successfully!\")\n",
    "        model.summary()\n",
    "\n",
    "        return model\n",
    "\n",
    "    except Exception as e:\n",
    "        print(f\"Error creating model: {e}\")\n",
    "        return None"
   ]
  },
  {
   "cell_type": "code",
   "execution_count": 17,
   "id": "bf2b0e1a",
   "metadata": {
    "execution": {
     "iopub.execute_input": "2025-07-11T14:41:36.230746Z",
     "iopub.status.busy": "2025-07-11T14:41:36.230280Z",
     "iopub.status.idle": "2025-07-11T14:41:40.409184Z",
     "shell.execute_reply": "2025-07-11T14:41:40.408138Z"
    },
    "papermill": {
     "duration": 4.191328,
     "end_time": "2025-07-11T14:41:40.410610",
     "exception": false,
     "start_time": "2025-07-11T14:41:36.219282",
     "status": "completed"
    },
    "tags": []
   },
   "outputs": [
    {
     "name": "stdout",
     "output_type": "stream",
     "text": [
      "Pre-loading Xception weights...\n"
     ]
    },
    {
     "name": "stderr",
     "output_type": "stream",
     "text": [
      "I0000 00:00:1752244897.398174      19 gpu_device.cc:2022] Created device /job:localhost/replica:0/task:0/device:GPU:0 with 13942 MB memory:  -> device: 0, name: Tesla T4, pci bus id: 0000:00:04.0, compute capability: 7.5\n",
      "I0000 00:00:1752244897.398850      19 gpu_device.cc:2022] Created device /job:localhost/replica:0/task:0/device:GPU:1 with 13942 MB memory:  -> device: 1, name: Tesla T4, pci bus id: 0000:00:05.0, compute capability: 7.5\n"
     ]
    },
    {
     "name": "stdout",
     "output_type": "stream",
     "text": [
      "Downloading data from https://storage.googleapis.com/tensorflow/keras-applications/xception/xception_weights_tf_dim_ordering_tf_kernels_notop.h5\n",
      "\u001b[1m83683744/83683744\u001b[0m \u001b[32m━━━━━━━━━━━━━━━━━━━━\u001b[0m\u001b[37m\u001b[0m \u001b[1m1s\u001b[0m 0us/step\n",
      "Weights loaded successfully!\n"
     ]
    }
   ],
   "source": [
    "# donwload model weights\n",
    "from tensorflow.keras.applications import Xception\n",
    "print(\"Pre-loading Xception weights...\")\n",
    "base_model = Xception(weights='imagenet', include_top=False, input_shape=(IMAGE_HEIGHT, IMAGE_WIDTH, 3))\n",
    "print(\"Weights loaded successfully!\")"
   ]
  },
  {
   "cell_type": "markdown",
   "id": "301a7395",
   "metadata": {
    "papermill": {
     "duration": 0.012024,
     "end_time": "2025-07-11T14:41:40.434873",
     "exception": false,
     "start_time": "2025-07-11T14:41:40.422849",
     "status": "completed"
    },
    "tags": []
   },
   "source": [
    "# 📌 Execution\n",
    "## Creating Dataset\n",
    "The following functions are executed\n",
    "- `frame extraction`\n",
    "- `resize`\n",
    "\n",
    "which returns:\n",
    "- `features` - `np.array` of all the videos\n",
    "- `labels` - `np.array` of all the class labels"
   ]
  },
  {
   "cell_type": "code",
   "execution_count": 18,
   "id": "27c9c4ac",
   "metadata": {
    "execution": {
     "iopub.execute_input": "2025-07-11T14:41:40.460029Z",
     "iopub.status.busy": "2025-07-11T14:41:40.459792Z",
     "iopub.status.idle": "2025-07-11T14:41:45.622753Z",
     "shell.execute_reply": "2025-07-11T14:41:45.620869Z"
    },
    "papermill": {
     "duration": 5.177864,
     "end_time": "2025-07-11T14:41:45.624631",
     "exception": false,
     "start_time": "2025-07-11T14:41:40.446767",
     "status": "completed"
    },
    "tags": []
   },
   "outputs": [
    {
     "name": "stdout",
     "output_type": "stream",
     "text": [
      "Extracting Data of Class: two hands wave\n",
      "Extracting Data of Class: skip\n",
      "Extracting Data of Class: jump in place\n",
      "Extracting Data of Class: jump\n",
      "Extracting Data of Class: walk\n",
      "Extracting Data of Class: bend\n",
      "Extracting Data of Class: gallop sideways\n",
      "Extracting Data of Class: run\n",
      "Extracting Data of Class: jumping jack\n",
      "Extracting Data of Class: one hand wave\n",
      "Dataset created with 93 videos\n",
      "Features shape: (93, 5, 128, 128, 3)\n",
      "Labels shape: (93,)\n"
     ]
    },
    {
     "data": {
      "text/plain": [
       "((93, 5, 128, 128, 3), (93,))"
      ]
     },
     "execution_count": 18,
     "metadata": {},
     "output_type": "execute_result"
    }
   ],
   "source": [
    "# RUN Create the dataset with explicit parameters\n",
    "try:\n",
    "    videos, labels = create_dataset(\n",
    "        dataset_dir=DATASET_DIR,\n",
    "        classes_list=CLASSES_LIST,\n",
    "        sequence_length=SEQUENCE_LENGTH,\n",
    "        image_height=IMAGE_HEIGHT,\n",
    "        image_width=IMAGE_WIDTH,\n",
    "        # Limit to 10 videos per class to manage memory\n",
    "        augmentations=True,\n",
    "        max_videos_per_class=MAX_VIDEO_PER_CLASS\n",
    "    )\n",
    "except FileNotFoundError as e:\n",
    "    print(f\"Error: {e}\")\n",
    "except ValueError as e:\n",
    "    print(f\"Error: {e}\")\n",
    "except Exception as e:\n",
    "    print(f\"Unexpected error: {e}\")\n",
    "\n",
    "videos.shape, labels.shape"
   ]
  },
  {
   "cell_type": "code",
   "execution_count": 19,
   "id": "2b640a73",
   "metadata": {
    "execution": {
     "iopub.execute_input": "2025-07-11T14:41:45.656388Z",
     "iopub.status.busy": "2025-07-11T14:41:45.656133Z",
     "iopub.status.idle": "2025-07-11T14:41:45.660265Z",
     "shell.execute_reply": "2025-07-11T14:41:45.659602Z"
    },
    "papermill": {
     "duration": 0.018102,
     "end_time": "2025-07-11T14:41:45.661308",
     "exception": false,
     "start_time": "2025-07-11T14:41:45.643206",
     "status": "completed"
    },
    "tags": []
   },
   "outputs": [
    {
     "name": "stdout",
     "output_type": "stream",
     "text": [
      "Total 93 videos and 93 classes\n"
     ]
    }
   ],
   "source": [
    "video_generator = VideoDataGenerator(\n",
    "    videos=videos,\n",
    "    labels=labels,\n",
    "    batch_size=BATCH_SIZE\n",
    ")"
   ]
  },
  {
   "cell_type": "code",
   "execution_count": 20,
   "id": "cf259fad",
   "metadata": {
    "execution": {
     "iopub.execute_input": "2025-07-11T14:41:45.686172Z",
     "iopub.status.busy": "2025-07-11T14:41:45.685562Z",
     "iopub.status.idle": "2025-07-11T14:41:45.700206Z",
     "shell.execute_reply": "2025-07-11T14:41:45.699555Z"
    },
    "papermill": {
     "duration": 0.027809,
     "end_time": "2025-07-11T14:41:45.701246",
     "exception": false,
     "start_time": "2025-07-11T14:41:45.673437",
     "status": "completed"
    },
    "tags": []
   },
   "outputs": [
    {
     "data": {
      "text/plain": [
       "((21, 5, 128, 128, 3), (21,))"
      ]
     },
     "execution_count": 20,
     "metadata": {},
     "output_type": "execute_result"
    }
   ],
   "source": [
    "videos, labels = video_generator[3]\n",
    "\n",
    "videos.shape, labels.shape"
   ]
  },
  {
   "cell_type": "code",
   "execution_count": 21,
   "id": "fa9fcfba",
   "metadata": {
    "execution": {
     "iopub.execute_input": "2025-07-11T14:41:45.726193Z",
     "iopub.status.busy": "2025-07-11T14:41:45.725950Z",
     "iopub.status.idle": "2025-07-11T14:41:45.731306Z",
     "shell.execute_reply": "2025-07-11T14:41:45.730706Z"
    },
    "papermill": {
     "duration": 0.018986,
     "end_time": "2025-07-11T14:41:45.732433",
     "exception": false,
     "start_time": "2025-07-11T14:41:45.713447",
     "status": "completed"
    },
    "tags": []
   },
   "outputs": [
    {
     "data": {
      "text/plain": [
       "93"
      ]
     },
     "execution_count": 21,
     "metadata": {},
     "output_type": "execute_result"
    }
   ],
   "source": [
    "len(video_generator.videos) "
   ]
  },
  {
   "cell_type": "code",
   "execution_count": 22,
   "id": "a818a1ea",
   "metadata": {
    "execution": {
     "iopub.execute_input": "2025-07-11T14:41:45.757000Z",
     "iopub.status.busy": "2025-07-11T14:41:45.756520Z",
     "iopub.status.idle": "2025-07-11T14:41:45.761279Z",
     "shell.execute_reply": "2025-07-11T14:41:45.760630Z"
    },
    "papermill": {
     "duration": 0.018073,
     "end_time": "2025-07-11T14:41:45.762413",
     "exception": false,
     "start_time": "2025-07-11T14:41:45.744340",
     "status": "completed"
    },
    "tags": []
   },
   "outputs": [
    {
     "data": {
      "text/plain": [
       "4"
      ]
     },
     "execution_count": 22,
     "metadata": {},
     "output_type": "execute_result"
    }
   ],
   "source": [
    "len(video_generator)"
   ]
  },
  {
   "cell_type": "markdown",
   "id": "0fc89ae9",
   "metadata": {
    "papermill": {
     "duration": 0.014096,
     "end_time": "2025-07-11T14:41:45.788430",
     "exception": false,
     "start_time": "2025-07-11T14:41:45.774334",
     "status": "completed"
    },
    "tags": []
   },
   "source": [
    "## Apply ***horizontal flip*** (Augmentation)"
   ]
  },
  {
   "cell_type": "code",
   "execution_count": 23,
   "id": "274bce8b",
   "metadata": {
    "execution": {
     "iopub.execute_input": "2025-07-11T14:41:45.823547Z",
     "iopub.status.busy": "2025-07-11T14:41:45.823270Z",
     "iopub.status.idle": "2025-07-11T14:41:48.161993Z",
     "shell.execute_reply": "2025-07-11T14:41:48.161398Z"
    },
    "papermill": {
     "duration": 2.354415,
     "end_time": "2025-07-11T14:41:48.163299",
     "exception": false,
     "start_time": "2025-07-11T14:41:45.808884",
     "status": "completed"
    },
    "tags": []
   },
   "outputs": [
    {
     "name": "stdout",
     "output_type": "stream",
     "text": [
      "Processing video 93...\r"
     ]
    }
   ],
   "source": [
    "apply_augmentation(horizontal_flip, video_generator)"
   ]
  },
  {
   "cell_type": "code",
   "execution_count": 24,
   "id": "07f0c43a",
   "metadata": {
    "execution": {
     "iopub.execute_input": "2025-07-11T14:41:48.188592Z",
     "iopub.status.busy": "2025-07-11T14:41:48.188339Z",
     "iopub.status.idle": "2025-07-11T14:41:48.192347Z",
     "shell.execute_reply": "2025-07-11T14:41:48.191563Z"
    },
    "papermill": {
     "duration": 0.017594,
     "end_time": "2025-07-11T14:41:48.193551",
     "exception": false,
     "start_time": "2025-07-11T14:41:48.175957",
     "status": "completed"
    },
    "tags": []
   },
   "outputs": [
    {
     "name": "stdout",
     "output_type": "stream",
     "text": [
      "Checking Total Videos and Class Count: 93, 93\n",
      "PENDING Total Videos and Class Count: 93, 93\n"
     ]
    }
   ],
   "source": [
    "print(f\"Checking Total Videos and Class Count: {len(video_generator.videos)}, {len(video_generator.labels)}\")\n",
    "print(f\"PENDING Total Videos and Class Count: {len(video_generator.temp_videos)}, {len(video_generator.temp_labels)}\")"
   ]
  },
  {
   "cell_type": "code",
   "execution_count": 25,
   "id": "afbbded4",
   "metadata": {
    "execution": {
     "iopub.execute_input": "2025-07-11T14:41:48.217898Z",
     "iopub.status.busy": "2025-07-11T14:41:48.217705Z",
     "iopub.status.idle": "2025-07-11T14:41:48.221305Z",
     "shell.execute_reply": "2025-07-11T14:41:48.220682Z"
    },
    "papermill": {
     "duration": 0.016899,
     "end_time": "2025-07-11T14:41:48.222348",
     "exception": false,
     "start_time": "2025-07-11T14:41:48.205449",
     "status": "completed"
    },
    "tags": []
   },
   "outputs": [
    {
     "name": "stdout",
     "output_type": "stream",
     "text": [
      "Adding 93 videos with 93 classes.\n",
      "Successfully added - 93 videos and 93 classes.\n",
      "Now Total - 186 videos and 186 classes.\n",
      "PENDING for Augmentations - 0 videos and 0 classes.\n"
     ]
    }
   ],
   "source": [
    "video_generator.confirm()"
   ]
  },
  {
   "cell_type": "markdown",
   "id": "b950abfd",
   "metadata": {
    "papermill": {
     "duration": 0.012096,
     "end_time": "2025-07-11T14:41:48.246816",
     "exception": false,
     "start_time": "2025-07-11T14:41:48.234720",
     "status": "completed"
    },
    "tags": []
   },
   "source": [
    "## Apply ***Noise*** (Augmentation)"
   ]
  },
  {
   "cell_type": "code",
   "execution_count": 26,
   "id": "1a0d8b95",
   "metadata": {
    "execution": {
     "iopub.execute_input": "2025-07-11T14:41:48.271349Z",
     "iopub.status.busy": "2025-07-11T14:41:48.271120Z",
     "iopub.status.idle": "2025-07-11T14:41:54.513368Z",
     "shell.execute_reply": "2025-07-11T14:41:54.512765Z"
    },
    "papermill": {
     "duration": 6.25593,
     "end_time": "2025-07-11T14:41:54.514836",
     "exception": false,
     "start_time": "2025-07-11T14:41:48.258906",
     "status": "completed"
    },
    "tags": []
   },
   "outputs": [
    {
     "name": "stdout",
     "output_type": "stream",
     "text": [
      "Processing video 186...\r"
     ]
    }
   ],
   "source": [
    "apply_augmentation(noise_video, video_generator)"
   ]
  },
  {
   "cell_type": "code",
   "execution_count": 27,
   "id": "2bc8ce85",
   "metadata": {
    "execution": {
     "iopub.execute_input": "2025-07-11T14:41:54.541034Z",
     "iopub.status.busy": "2025-07-11T14:41:54.540801Z",
     "iopub.status.idle": "2025-07-11T14:41:54.544883Z",
     "shell.execute_reply": "2025-07-11T14:41:54.544167Z"
    },
    "papermill": {
     "duration": 0.018131,
     "end_time": "2025-07-11T14:41:54.545896",
     "exception": false,
     "start_time": "2025-07-11T14:41:54.527765",
     "status": "completed"
    },
    "tags": []
   },
   "outputs": [
    {
     "name": "stdout",
     "output_type": "stream",
     "text": [
      "Checking Total Videos and Class Count: 186, 186\n",
      "PENDING Total Videos and Class Count: 186, 186\n"
     ]
    }
   ],
   "source": [
    "print(f\"Checking Total Videos and Class Count: {len(video_generator.videos)}, {len(video_generator.labels)}\")\n",
    "print(f\"PENDING Total Videos and Class Count: {len(video_generator.temp_videos)}, {len(video_generator.temp_labels)}\")"
   ]
  },
  {
   "cell_type": "markdown",
   "id": "8bc09485",
   "metadata": {
    "papermill": {
     "duration": 0.012255,
     "end_time": "2025-07-11T14:41:54.570685",
     "exception": false,
     "start_time": "2025-07-11T14:41:54.558430",
     "status": "completed"
    },
    "tags": []
   },
   "source": [
    "## Apply ***Random Shear x2*** (Augmentation)"
   ]
  },
  {
   "cell_type": "code",
   "execution_count": 28,
   "id": "4e5e9727",
   "metadata": {
    "execution": {
     "iopub.execute_input": "2025-07-11T14:41:54.596198Z",
     "iopub.status.busy": "2025-07-11T14:41:54.595989Z",
     "iopub.status.idle": "2025-07-11T14:42:09.784410Z",
     "shell.execute_reply": "2025-07-11T14:42:09.783807Z"
    },
    "papermill": {
     "duration": 15.202537,
     "end_time": "2025-07-11T14:42:09.785849",
     "exception": false,
     "start_time": "2025-07-11T14:41:54.583312",
     "status": "completed"
    },
    "tags": []
   },
   "outputs": [
    {
     "name": "stdout",
     "output_type": "stream",
     "text": [
      "Processing video 558...\r"
     ]
    }
   ],
   "source": [
    "apply_augmentation(apply_shear_frames, video_generator, shear_right=0)\n",
    "apply_augmentation(apply_shear_frames, video_generator, shear_right=1)"
   ]
  },
  {
   "cell_type": "code",
   "execution_count": 29,
   "id": "3edb84eb",
   "metadata": {
    "execution": {
     "iopub.execute_input": "2025-07-11T14:42:09.813436Z",
     "iopub.status.busy": "2025-07-11T14:42:09.812839Z",
     "iopub.status.idle": "2025-07-11T14:42:09.817109Z",
     "shell.execute_reply": "2025-07-11T14:42:09.816398Z"
    },
    "papermill": {
     "duration": 0.018707,
     "end_time": "2025-07-11T14:42:09.818143",
     "exception": false,
     "start_time": "2025-07-11T14:42:09.799436",
     "status": "completed"
    },
    "tags": []
   },
   "outputs": [
    {
     "name": "stdout",
     "output_type": "stream",
     "text": [
      "Checking Total Videos and Class Count: 186, 186\n",
      "PENDING Total Videos and Class Count: 558, 558\n"
     ]
    }
   ],
   "source": [
    "print(f\"Checking Total Videos and Class Count: {len(video_generator.videos)}, {len(video_generator.labels)}\")\n",
    "print(f\"PENDING Total Videos and Class Count: {len(video_generator.temp_videos)}, {len(video_generator.temp_labels)}\")"
   ]
  },
  {
   "cell_type": "code",
   "execution_count": 30,
   "id": "9652fd98",
   "metadata": {
    "execution": {
     "iopub.execute_input": "2025-07-11T14:42:09.844272Z",
     "iopub.status.busy": "2025-07-11T14:42:09.844066Z",
     "iopub.status.idle": "2025-07-11T14:42:09.847836Z",
     "shell.execute_reply": "2025-07-11T14:42:09.847135Z"
    },
    "papermill": {
     "duration": 0.018176,
     "end_time": "2025-07-11T14:42:09.848944",
     "exception": false,
     "start_time": "2025-07-11T14:42:09.830768",
     "status": "completed"
    },
    "tags": []
   },
   "outputs": [
    {
     "name": "stdout",
     "output_type": "stream",
     "text": [
      "Adding 558 videos with 558 classes.\n",
      "Successfully added - 558 videos and 558 classes.\n",
      "Now Total - 744 videos and 744 classes.\n",
      "PENDING for Augmentations - 0 videos and 0 classes.\n"
     ]
    }
   ],
   "source": [
    "# confirm changes to generator\n",
    "video_generator.confirm()"
   ]
  },
  {
   "cell_type": "code",
   "execution_count": 31,
   "id": "2c6ad849",
   "metadata": {
    "execution": {
     "iopub.execute_input": "2025-07-11T14:42:09.875468Z",
     "iopub.status.busy": "2025-07-11T14:42:09.874974Z",
     "iopub.status.idle": "2025-07-11T14:42:09.878693Z",
     "shell.execute_reply": "2025-07-11T14:42:09.877927Z"
    },
    "papermill": {
     "duration": 0.018119,
     "end_time": "2025-07-11T14:42:09.879808",
     "exception": false,
     "start_time": "2025-07-11T14:42:09.861689",
     "status": "completed"
    },
    "tags": []
   },
   "outputs": [
    {
     "name": "stdout",
     "output_type": "stream",
     "text": [
      "Checking Video Generator Total Videos and Class Count: 744, 744\n"
     ]
    }
   ],
   "source": [
    "print(f\"Checking Video Generator Total Videos and Class Count: {len(video_generator.videos)}, {len(video_generator.labels)}\")"
   ]
  },
  {
   "cell_type": "markdown",
   "id": "88910a9e",
   "metadata": {
    "papermill": {
     "duration": 0.013826,
     "end_time": "2025-07-11T14:42:09.908183",
     "exception": false,
     "start_time": "2025-07-11T14:42:09.894357",
     "status": "completed"
    },
    "tags": []
   },
   "source": [
    "## Cheking (Output)"
   ]
  },
  {
   "cell_type": "code",
   "execution_count": 32,
   "id": "f8c058ac",
   "metadata": {
    "execution": {
     "iopub.execute_input": "2025-07-11T14:42:09.934599Z",
     "iopub.status.busy": "2025-07-11T14:42:09.934382Z",
     "iopub.status.idle": "2025-07-11T14:42:10.198278Z",
     "shell.execute_reply": "2025-07-11T14:42:10.197560Z"
    },
    "papermill": {
     "duration": 0.279014,
     "end_time": "2025-07-11T14:42:10.200286",
     "exception": false,
     "start_time": "2025-07-11T14:42:09.921272",
     "status": "completed"
    },
    "tags": []
   },
   "outputs": [
    {
     "name": "stdout",
     "output_type": "stream",
     "text": [
      "(24, 5, 128, 128, 3) (24,)\n"
     ]
    },
    {
     "data": {
      "image/png": "[encoded data removed]",
      "text/plain": [
       "<Figure size 1000x500 with 2 Axes>"
      ]
     },
     "metadata": {},
     "output_type": "display_data"
    },
    {
     "name": "stdout",
     "output_type": "stream",
     "text": [
      "Might be two different action, but to check the flipping focus on the door behind.\n"
     ]
    }
   ],
   "source": [
    "# check horizontal flips\n",
    "videos, labels = video_generator[7]\n",
    "videos1, labels1 = video_generator[1]\n",
    "\n",
    "print(videos.shape, labels.shape)\n",
    "\n",
    "show_frame_vs(videos[0,0],videos1[1,0], title1=\"Flipped Frame 1\", title2=\"Non Flipped Frame 1\")\n",
    "print(\"Might be two different action, but to check the flipping focus on the door behind.\")"
   ]
  },
  {
   "cell_type": "markdown",
   "id": "b3efad8a",
   "metadata": {
    "papermill": {
     "duration": 0.015143,
     "end_time": "2025-07-11T14:42:10.231977",
     "exception": false,
     "start_time": "2025-07-11T14:42:10.216834",
     "status": "completed"
    },
    "tags": []
   },
   "source": [
    "# 🧪 Test Augmentation (Output)\n",
    "## 🖼️ Horizontal Flip Output"
   ]
  },
  {
   "cell_type": "code",
   "execution_count": 33,
   "id": "181c6590",
   "metadata": {
    "execution": {
     "iopub.execute_input": "2025-07-11T14:42:10.263920Z",
     "iopub.status.busy": "2025-07-11T14:42:10.263693Z",
     "iopub.status.idle": "2025-07-11T14:42:10.266915Z",
     "shell.execute_reply": "2025-07-11T14:42:10.266396Z"
    },
    "papermill": {
     "duration": 0.020265,
     "end_time": "2025-07-11T14:42:10.267873",
     "exception": false,
     "start_time": "2025-07-11T14:42:10.247608",
     "status": "completed"
    },
    "tags": []
   },
   "outputs": [],
   "source": [
    "# flipped_video_1 = horizontal_flip(features[0])\n",
    "\n",
    "# flipped_video_1=np.asarray(flipped_video_1)\n",
    "\n",
    "# show_frame(flipped_video_1[0])\n",
    "# flipped_video_1.shape"
   ]
  },
  {
   "cell_type": "markdown",
   "id": "bb929064",
   "metadata": {
    "papermill": {
     "duration": 0.015808,
     "end_time": "2025-07-11T14:42:10.299810",
     "exception": false,
     "start_time": "2025-07-11T14:42:10.284002",
     "status": "completed"
    },
    "tags": []
   },
   "source": [
    "## 🖼️ Salt and Pepper Noise Output"
   ]
  },
  {
   "cell_type": "code",
   "execution_count": 34,
   "id": "180d0671",
   "metadata": {
    "execution": {
     "iopub.execute_input": "2025-07-11T14:42:10.333314Z",
     "iopub.status.busy": "2025-07-11T14:42:10.333086Z",
     "iopub.status.idle": "2025-07-11T14:42:10.336289Z",
     "shell.execute_reply": "2025-07-11T14:42:10.335656Z"
    },
    "papermill": {
     "duration": 0.020717,
     "end_time": "2025-07-11T14:42:10.337281",
     "exception": false,
     "start_time": "2025-07-11T14:42:10.316564",
     "status": "completed"
    },
    "tags": []
   },
   "outputs": [],
   "source": [
    "# noised_video = noise_video(features[0])\n",
    "\n",
    "# print(noised_video.shape)\n",
    "# show_frame(noised_video[0])"
   ]
  },
  {
   "cell_type": "markdown",
   "id": "c8eadedb",
   "metadata": {
    "papermill": {
     "duration": 0.01619,
     "end_time": "2025-07-11T14:42:10.369754",
     "exception": false,
     "start_time": "2025-07-11T14:42:10.353564",
     "status": "completed"
    },
    "tags": []
   },
   "source": [
    "## 🖼️ Random Shear Output"
   ]
  },
  {
   "cell_type": "code",
   "execution_count": 35,
   "id": "26cd231b",
   "metadata": {
    "execution": {
     "iopub.execute_input": "2025-07-11T14:42:10.404294Z",
     "iopub.status.busy": "2025-07-11T14:42:10.404036Z",
     "iopub.status.idle": "2025-07-11T14:42:10.407324Z",
     "shell.execute_reply": "2025-07-11T14:42:10.406781Z"
    },
    "papermill": {
     "duration": 0.021935,
     "end_time": "2025-07-11T14:42:10.408601",
     "exception": false,
     "start_time": "2025-07-11T14:42:10.386666",
     "status": "completed"
    },
    "tags": []
   },
   "outputs": [],
   "source": [
    "# print(features.shape)\n",
    "\n",
    "# sheared_1 = apply_shear_frames(features[0], shear_right=0)\n",
    "# sheared_2 = apply_shear_frames(features[0], shear_right=1)\n",
    "\n",
    "# sheared_1 = np.asarray(sheared_1)\n",
    "# sheared_2 = np.asarray(sheared_2)\n",
    "\n",
    "# print(sheared_1.shape)\n",
    "# show_frame(sheared_1[0])\n",
    "# show_frame(sheared_2[0])"
   ]
  },
  {
   "cell_type": "markdown",
   "id": "41c62544",
   "metadata": {
    "papermill": {
     "duration": 0.016366,
     "end_time": "2025-07-11T14:42:10.441790",
     "exception": false,
     "start_time": "2025-07-11T14:42:10.425424",
     "status": "completed"
    },
    "tags": []
   },
   "source": [
    "# 📌 Preparing Data for Training"
   ]
  },
  {
   "cell_type": "code",
   "execution_count": 36,
   "id": "5ff32e2f",
   "metadata": {
    "execution": {
     "iopub.execute_input": "2025-07-11T14:42:10.475050Z",
     "iopub.status.busy": "2025-07-11T14:42:10.474817Z",
     "iopub.status.idle": "2025-07-11T14:42:10.918616Z",
     "shell.execute_reply": "2025-07-11T14:42:10.917838Z"
    },
    "papermill": {
     "duration": 0.461939,
     "end_time": "2025-07-11T14:42:10.919805",
     "exception": false,
     "start_time": "2025-07-11T14:42:10.457866",
     "status": "completed"
    },
    "tags": []
   },
   "outputs": [],
   "source": [
    "# Clear previous session to free memory\n",
    "import gc\n",
    "\n",
    "gc.collect()\n",
    "tf.keras.backend.clear_session()"
   ]
  },
  {
   "cell_type": "markdown",
   "id": "15a0f6ac",
   "metadata": {
    "papermill": {
     "duration": 0.015606,
     "end_time": "2025-07-11T14:42:10.951534",
     "exception": false,
     "start_time": "2025-07-11T14:42:10.935928",
     "status": "completed"
    },
    "tags": []
   },
   "source": [
    "## Splitting data for ***Trainig*** and ***Testing***"
   ]
  },
  {
   "cell_type": "code",
   "execution_count": 37,
   "id": "cebaa7f6",
   "metadata": {
    "execution": {
     "iopub.execute_input": "2025-07-11T14:42:10.984408Z",
     "iopub.status.busy": "2025-07-11T14:42:10.983956Z",
     "iopub.status.idle": "2025-07-11T14:42:11.220991Z",
     "shell.execute_reply": "2025-07-11T14:42:11.220247Z"
    },
    "papermill": {
     "duration": 0.255184,
     "end_time": "2025-07-11T14:42:11.222191",
     "exception": false,
     "start_time": "2025-07-11T14:42:10.967007",
     "status": "completed"
    },
    "tags": []
   },
   "outputs": [
    {
     "data": {
      "text/plain": [
       "((744, 5, 128, 128, 3), (744,))"
      ]
     },
     "execution_count": 37,
     "metadata": {},
     "output_type": "execute_result"
    }
   ],
   "source": [
    "videos = video_generator.videos\n",
    "labels = video_generator.labels\n",
    "\n",
    "videos = np.array(videos, dtype='float32')\n",
    "labels = np.array(labels)\n",
    "\n",
    "videos.shape, labels.shape"
   ]
  },
  {
   "cell_type": "code",
   "execution_count": 38,
   "id": "00a75d0b",
   "metadata": {
    "execution": {
     "iopub.execute_input": "2025-07-11T14:42:11.255271Z",
     "iopub.status.busy": "2025-07-11T14:42:11.255002Z",
     "iopub.status.idle": "2025-07-11T14:42:11.260114Z",
     "shell.execute_reply": "2025-07-11T14:42:11.259578Z"
    },
    "papermill": {
     "duration": 0.022242,
     "end_time": "2025-07-11T14:42:11.261041",
     "exception": false,
     "start_time": "2025-07-11T14:42:11.238799",
     "status": "completed"
    },
    "tags": []
   },
   "outputs": [
    {
     "data": {
      "text/plain": [
       "(744, 10)"
      ]
     },
     "execution_count": 38,
     "metadata": {},
     "output_type": "execute_result"
    }
   ],
   "source": [
    "from tensorflow.keras.utils import to_categorical\n",
    "\n",
    "one_hot_encoded_labels = to_categorical(labels)\n",
    "\n",
    "one_hot_encoded_labels.shape"
   ]
  },
  {
   "cell_type": "code",
   "execution_count": 39,
   "id": "3232d9fe",
   "metadata": {
    "execution": {
     "iopub.execute_input": "2025-07-11T14:42:11.293340Z",
     "iopub.status.busy": "2025-07-11T14:42:11.293119Z",
     "iopub.status.idle": "2025-07-11T14:42:11.514488Z",
     "shell.execute_reply": "2025-07-11T14:42:11.513855Z"
    },
    "papermill": {
     "duration": 0.238903,
     "end_time": "2025-07-11T14:42:11.515926",
     "exception": false,
     "start_time": "2025-07-11T14:42:11.277023",
     "status": "completed"
    },
    "tags": []
   },
   "outputs": [
    {
     "data": {
      "text/plain": [
       "0"
      ]
     },
     "execution_count": 39,
     "metadata": {},
     "output_type": "execute_result"
    }
   ],
   "source": [
    "gc.collect()"
   ]
  },
  {
   "cell_type": "code",
   "execution_count": 40,
   "id": "b9e65492",
   "metadata": {
    "execution": {
     "iopub.execute_input": "2025-07-11T14:42:11.549696Z",
     "iopub.status.busy": "2025-07-11T14:42:11.549460Z",
     "iopub.status.idle": "2025-07-11T14:42:11.883751Z",
     "shell.execute_reply": "2025-07-11T14:42:11.882619Z"
    },
    "papermill": {
     "duration": 0.352043,
     "end_time": "2025-07-11T14:42:11.885276",
     "exception": false,
     "start_time": "2025-07-11T14:42:11.533233",
     "status": "completed"
    },
    "tags": []
   },
   "outputs": [
    {
     "data": {
      "text/plain": [
       "((595, 5, 128, 128, 3), (595, 10), (149, 5, 128, 128, 3), (149, 10))"
      ]
     },
     "execution_count": 40,
     "metadata": {},
     "output_type": "execute_result"
    }
   ],
   "source": [
    "# RUN Split the Data into Train ( 75% ) and Test Set ( 25% ).\n",
    "from sklearn.model_selection import train_test_split\n",
    "features_train, features_test, labels_train, labels_test = train_test_split(videos,\n",
    "                                                                            one_hot_encoded_labels,\n",
    "                                                                            test_size = TEST_SIZE,\n",
    "                                                                            shuffle = True,\n",
    "                                                                            random_state = seed_constant)\n",
    "\n",
    "features_train.shape, labels_train.shape, features_test.shape, labels_test.shape"
   ]
  },
  {
   "cell_type": "markdown",
   "id": "ec1277dd",
   "metadata": {
    "papermill": {
     "duration": 0.023943,
     "end_time": "2025-07-11T14:42:11.931586",
     "exception": false,
     "start_time": "2025-07-11T14:42:11.907643",
     "status": "completed"
    },
    "tags": []
   },
   "source": [
    "## Splitting data for ***Training Set*** and ***Validation Set***"
   ]
  },
  {
   "cell_type": "code",
   "execution_count": 41,
   "id": "ea115177",
   "metadata": {
    "execution": {
     "iopub.execute_input": "2025-07-11T14:42:11.974974Z",
     "iopub.status.busy": "2025-07-11T14:42:11.974724Z",
     "iopub.status.idle": "2025-07-11T14:42:11.980653Z",
     "shell.execute_reply": "2025-07-11T14:42:11.980094Z"
    },
    "papermill": {
     "duration": 0.025834,
     "end_time": "2025-07-11T14:42:11.981723",
     "exception": false,
     "start_time": "2025-07-11T14:42:11.955889",
     "status": "completed"
    },
    "tags": []
   },
   "outputs": [
    {
     "data": {
      "text/plain": [
       "((476, 5, 128, 128, 3), (476, 10), (119, 5, 128, 128, 3), (119, 10))"
      ]
     },
     "execution_count": 41,
     "metadata": {},
     "output_type": "execute_result"
    }
   ],
   "source": [
    "# Assuming features_train and labels_train are defined\n",
    "train_set = 1-VALIDATION_SPLIT\n",
    "\n",
    "train_video_frames, val_video_frames = features_train[:int(train_set * len(features_train))], features_train[int(train_set * len(features_train)):]\n",
    "train_labels, val_labels = labels_train[:int(train_set * len(labels_train))], labels_train[int(train_set * len(labels_train)):]\n",
    "\n",
    "train_video_frames.shape, train_labels.shape, val_video_frames.shape, val_labels.shape"
   ]
  },
  {
   "cell_type": "markdown",
   "id": "dd49a5c6",
   "metadata": {
    "papermill": {
     "duration": 0.015358,
     "end_time": "2025-07-11T14:42:12.012785",
     "exception": false,
     "start_time": "2025-07-11T14:42:11.997427",
     "status": "completed"
    },
    "tags": []
   },
   "source": [
    "## Use Generator `Video Data Generator`"
   ]
  },
  {
   "cell_type": "code",
   "execution_count": 42,
   "id": "1f0aef66",
   "metadata": {
    "execution": {
     "iopub.execute_input": "2025-07-11T14:42:12.044419Z",
     "iopub.status.busy": "2025-07-11T14:42:12.044209Z",
     "iopub.status.idle": "2025-07-11T14:42:12.050090Z",
     "shell.execute_reply": "2025-07-11T14:42:12.049549Z"
    },
    "papermill": {
     "duration": 0.022753,
     "end_time": "2025-07-11T14:42:12.051032",
     "exception": false,
     "start_time": "2025-07-11T14:42:12.028279",
     "status": "completed"
    },
    "tags": []
   },
   "outputs": [
    {
     "name": "stdout",
     "output_type": "stream",
     "text": [
      "Total 476 videos and 476 classes\n",
      "Total 119 videos and 119 classes\n"
     ]
    },
    {
     "data": {
      "text/plain": [
       "(20, 5)"
      ]
     },
     "execution_count": 42,
     "metadata": {},
     "output_type": "execute_result"
    }
   ],
   "source": [
    "# Create the training and validation generators\n",
    "train_gen = VideoDataGenerator(\n",
    "    videos=train_video_frames, \n",
    "    labels=train_labels, \n",
    "    batch_size=BATCH_SIZE,\n",
    ")\n",
    "\n",
    "val_gen = VideoDataGenerator(\n",
    "    videos=val_video_frames, \n",
    "    labels=val_labels, \n",
    "    batch_size=BATCH_SIZE,\n",
    ")\n",
    "\n",
    "len(train_gen), len(val_gen)"
   ]
  },
  {
   "cell_type": "markdown",
   "id": "1fef9cb9",
   "metadata": {
    "papermill": {
     "duration": 0.015435,
     "end_time": "2025-07-11T14:42:12.082219",
     "exception": false,
     "start_time": "2025-07-11T14:42:12.066784",
     "status": "completed"
    },
    "tags": []
   },
   "source": [
    "## Inspect ***Generator*** Data on Epochs"
   ]
  },
  {
   "cell_type": "code",
   "execution_count": 43,
   "id": "a5cea8dd",
   "metadata": {
    "execution": {
     "iopub.execute_input": "2025-07-11T14:42:12.114332Z",
     "iopub.status.busy": "2025-07-11T14:42:12.114149Z",
     "iopub.status.idle": "2025-07-11T14:42:12.125205Z",
     "shell.execute_reply": "2025-07-11T14:42:12.124567Z"
    },
    "papermill": {
     "duration": 0.028273,
     "end_time": "2025-07-11T14:42:12.126349",
     "exception": false,
     "start_time": "2025-07-11T14:42:12.098076",
     "status": "completed"
    },
    "tags": []
   },
   "outputs": [
    {
     "name": "stdout",
     "output_type": "stream",
     "text": [
      "[  0   1   2   3   4   5   6   7   8   9  10  11  12  13  14  15  16  17\n",
      "  18  19  20  21  22  23  24  25  26  27  28  29  30  31  32  33  34  35\n",
      "  36  37  38  39  40  41  42  43  44  45  46  47  48  49  50  51  52  53\n",
      "  54  55  56  57  58  59  60  61  62  63  64  65  66  67  68  69  70  71\n",
      "  72  73  74  75  76  77  78  79  80  81  82  83  84  85  86  87  88  89\n",
      "  90  91  92  93  94  95  96  97  98  99 100 101 102 103 104 105 106 107\n",
      " 108 109 110 111 112 113 114 115 116 117 118 119 120 121 122 123 124 125\n",
      " 126 127 128 129 130 131 132 133 134 135 136 137 138 139 140 141 142 143\n",
      " 144 145 146 147 148 149 150 151 152 153 154 155 156 157 158 159 160 161\n",
      " 162 163 164 165 166 167 168 169 170 171 172 173 174 175 176 177 178 179\n",
      " 180 181 182 183 184 185 186 187 188 189 190 191 192 193 194 195 196 197\n",
      " 198 199 200 201 202 203 204 205 206 207 208 209 210 211 212 213 214 215\n",
      " 216 217 218 219 220 221 222 223 224 225 226 227 228 229 230 231 232 233\n",
      " 234 235 236 237 238 239 240 241 242 243 244 245 246 247 248 249 250 251\n",
      " 252 253 254 255 256 257 258 259 260 261 262 263 264 265 266 267 268 269\n",
      " 270 271 272 273 274 275 276 277 278 279 280 281 282 283 284 285 286 287\n",
      " 288 289 290 291 292 293 294 295 296 297 298 299 300 301 302 303 304 305\n",
      " 306 307 308 309 310 311 312 313 314 315 316 317 318 319 320 321 322 323\n",
      " 324 325 326 327 328 329 330 331 332 333 334 335 336 337 338 339 340 341\n",
      " 342 343 344 345 346 347 348 349 350 351 352 353 354 355 356 357 358 359\n",
      " 360 361 362 363 364 365 366 367 368 369 370 371 372 373 374 375 376 377\n",
      " 378 379 380 381 382 383 384 385 386 387 388 389 390 391 392 393 394 395\n",
      " 396 397 398 399 400 401 402 403 404 405 406 407 408 409 410 411 412 413\n",
      " 414 415 416 417 418 419 420 421 422 423 424 425 426 427 428 429 430 431\n",
      " 432 433 434 435 436 437 438 439 440 441 442 443 444 445 446 447 448 449\n",
      " 450 451 452 453 454 455 456 457 458 459 460 461 462 463 464 465 466 467\n",
      " 468 469 470 471 472 473 474 475]\n",
      "[205 430 304 277 132 355 237 204 413 113 254 326 387 183 337 445 279 139\n",
      "  27 321 440 252  96 429 453  57 377 216 168  34 333 365 212  31 443 315\n",
      "  82 405  21 314  73 107 261 106 363 220 225 448 104 378 345 111 399  14\n",
      " 423 100 319 353 364 327 251  25 235 395 145 406   1 114 325 126 266 284\n",
      " 268 459 306 384 332 318 381 351 302  10 187 293  37 452 219 197 146  66\n",
      " 287 341  19 391 359 461 472 463 274 349 444 190 415 425 390 348 194 178\n",
      " 121  72 285 143 344  50 320 228   6 189  11 117  48  17 241 416 324 226\n",
      " 421  77 215 432 174 176 211  28 300 179 396 288  49 373 281  65  99 130\n",
      " 433  42 369 157 462 164  76 385 127  90  79 379 224 271 165 260 250  30\n",
      "  92  59 163 193  84 247 182 259   9 383 141 123 290 263 414 329 110 402\n",
      " 368  74 456  16 242 144 289 454  20 172 468 256 420 278  33 196 129 217\n",
      " 244  64  98  78 441  15 449 426 169 249 434 152 191 398 229 424 262 438\n",
      "  12  45  36  94 166  40 273 404 328 280 455 148 305 392 198 170 397 223\n",
      " 330 199 446 109 296 467 231  81  61 243 310 470 134 408 372 299 227 282\n",
      " 389 407 151 388 236 316 403 255 128  93 175 253 180  88  89  86  29 188\n",
      " 346 233 342 119 386 469 238 120 156 428 412 311 103 162 160 475 436 200\n",
      " 208 108 435 101 291  38 246 292  85 447 184 298 136 258 177 122 380 147\n",
      " 214 474  71 240 185 173   3 158 400  35  53 234 336 374 105 464 267 269\n",
      " 286 360 331 350 340 431 427 303 376  87 218 409 209 264 153   8 150 308\n",
      " 460 295  26 135 313 442 131 167 230  22 410 366  24  46 257 301 202 339\n",
      " 347  67 362  63 221  56 394  23 307 418 361 206 112  62 133 213 352  41\n",
      " 125   7  51  70  39 451 422 419 155 159  69 439 201 417  60 471  83 466\n",
      " 181 375  18  47  97 116  43 356 450 437 312 276 161 102 323 473 322   5\n",
      " 309  54 358 142 115  68 138  52  32   0 265 186 239 245 171 370 124  13\n",
      " 367 465   4  58 272  75 283 270 137 382 334   2  44 203 411  95 335 207\n",
      " 354 357 154 222 297 192 317 338 210 457  55 401  80  91 118 458 371 149\n",
      " 294 232 393 195 275 140 343 248]\n"
     ]
    },
    {
     "data": {
      "text/plain": [
       "(24, (24, 5, 128, 128, 3), (24, 10))"
      ]
     },
     "execution_count": 43,
     "metadata": {},
     "output_type": "execute_result"
    }
   ],
   "source": [
    "features, labels = train_gen[1]\n",
    "\n",
    "print(train_gen.indices)\n",
    "\n",
    "train_gen.on_epoch_end()\n",
    "\n",
    "print(train_gen.indices)\n",
    "\n",
    "BATCH_SIZE, features.shape, labels.shape"
   ]
  },
  {
   "cell_type": "markdown",
   "id": "978aae72",
   "metadata": {
    "papermill": {
     "duration": 0.015955,
     "end_time": "2025-07-11T14:42:12.158340",
     "exception": false,
     "start_time": "2025-07-11T14:42:12.142385",
     "status": "completed"
    },
    "tags": []
   },
   "source": [
    "## Compute Class Weight"
   ]
  },
  {
   "cell_type": "code",
   "execution_count": 44,
   "id": "187750ec",
   "metadata": {
    "execution": {
     "iopub.execute_input": "2025-07-11T14:42:12.191683Z",
     "iopub.status.busy": "2025-07-11T14:42:12.191464Z",
     "iopub.status.idle": "2025-07-11T14:42:12.197974Z",
     "shell.execute_reply": "2025-07-11T14:42:12.197186Z"
    },
    "papermill": {
     "duration": 0.02453,
     "end_time": "2025-07-11T14:42:12.199046",
     "exception": false,
     "start_time": "2025-07-11T14:42:12.174516",
     "status": "completed"
    },
    "tags": []
   },
   "outputs": [
    {
     "name": "stdout",
     "output_type": "stream",
     "text": [
      "Class weights: {0: 1.0333333333333334, 1: 0.93, 2: 1.0333333333333334, 3: 1.0333333333333334, 4: 0.93, 5: 1.0333333333333334, 6: 1.0333333333333334, 7: 0.93, 8: 1.0333333333333334, 9: 1.0333333333333334}\n"
     ]
    }
   ],
   "source": [
    "from sklearn.utils.class_weight import compute_class_weight\n",
    "import numpy as np\n",
    "\n",
    "# Assuming y_int are integer labels (not one-hot)\n",
    "y_int = np.argmax(one_hot_encoded_labels, axis=1)  # or just integer labels if you have them\n",
    "\n",
    "classes = np.arange(NO_OF_CLASSES)  # e.g. np.arange(16)\n",
    "class_weights_values = compute_class_weight(class_weight='balanced', classes=classes, y=y_int)\n",
    "\n",
    "class_weights = dict(zip(classes, class_weights_values))\n",
    "\n",
    "print(\"Class weights:\", class_weights)\n"
   ]
  },
  {
   "cell_type": "code",
   "execution_count": 45,
   "id": "3a6f31cb",
   "metadata": {
    "execution": {
     "iopub.execute_input": "2025-07-11T14:42:12.232711Z",
     "iopub.status.busy": "2025-07-11T14:42:12.232512Z",
     "iopub.status.idle": "2025-07-11T14:42:12.461573Z",
     "shell.execute_reply": "2025-07-11T14:42:12.460765Z"
    },
    "papermill": {
     "duration": 0.247285,
     "end_time": "2025-07-11T14:42:12.462877",
     "exception": false,
     "start_time": "2025-07-11T14:42:12.215592",
     "status": "completed"
    },
    "tags": []
   },
   "outputs": [],
   "source": [
    "gc.collect()\n",
    "del videos, one_hot_encoded_labels, labels_train\n",
    "del features_train, val_labels, train_labels\n",
    "del val_video_frames, train_video_frames"
   ]
  },
  {
   "cell_type": "markdown",
   "id": "6dd6b55b",
   "metadata": {
    "papermill": {
     "duration": 0.016191,
     "end_time": "2025-07-11T14:42:12.496679",
     "exception": false,
     "start_time": "2025-07-11T14:42:12.480488",
     "status": "completed"
    },
    "tags": []
   },
   "source": [
    "# ✨ Model Execution\n",
    "## Creating Model"
   ]
  },
  {
   "cell_type": "code",
   "execution_count": 46,
   "id": "6ede6b9d",
   "metadata": {
    "execution": {
     "iopub.execute_input": "2025-07-11T14:42:12.530049Z",
     "iopub.status.busy": "2025-07-11T14:42:12.529817Z",
     "iopub.status.idle": "2025-07-11T14:42:13.757601Z",
     "shell.execute_reply": "2025-07-11T14:42:13.756930Z"
    },
    "papermill": {
     "duration": 1.245521,
     "end_time": "2025-07-11T14:42:13.758651",
     "exception": false,
     "start_time": "2025-07-11T14:42:12.513130",
     "status": "completed"
    },
    "tags": []
   },
   "outputs": [
    {
     "name": "stdout",
     "output_type": "stream",
     "text": [
      "Loading Xception base model...\n",
      "Model architecture created successfully!\n"
     ]
    },
    {
     "name": "stderr",
     "output_type": "stream",
     "text": [
      "/usr/local/lib/python3.11/dist-packages/keras/src/layers/core/wrapper.py:27: UserWarning: Do not pass an `input_shape`/`input_dim` argument to a layer. When using Sequential models, prefer using an `Input(shape)` object as the first layer in the model instead.\n",
      "  super().__init__(**kwargs)\n"
     ]
    },
    {
     "data": {
      "text/html": [
       "<pre style=\"white-space:pre;overflow-x:auto;line-height:normal;font-family:Menlo,'DejaVu Sans Mono',consolas,'Courier New',monospace\"><span style=\"font-weight: bold\">Model: \"sequential\"</span>\n",
       "</pre>\n"
      ],
      "text/plain": [
       "\u001b[1mModel: \"sequential\"\u001b[0m\n"
      ]
     },
     "metadata": {},
     "output_type": "display_data"
    },
    {
     "data": {
      "text/html": [
       "<pre style=\"white-space:pre;overflow-x:auto;line-height:normal;font-family:Menlo,'DejaVu Sans Mono',consolas,'Courier New',monospace\">┏━━━━━━━━━━━━━━━━━━━━━━━━━━━━━━━━━━━━━━┳━━━━━━━━━━━━━━━━━━━━━━━━━━━━━┳━━━━━━━━━━━━━━━━━┓\n",
       "┃<span style=\"font-weight: bold\"> Layer (type)                         </span>┃<span style=\"font-weight: bold\"> Output Shape                </span>┃<span style=\"font-weight: bold\">         Param # </span>┃\n",
       "┡━━━━━━━━━━━━━━━━━━━━━━━━━━━━━━━━━━━━━━╇━━━━━━━━━━━━━━━━━━━━━━━━━━━━━╇━━━━━━━━━━━━━━━━━┩\n",
       "│ time_distributed (<span style=\"color: #0087ff; text-decoration-color: #0087ff\">TimeDistributed</span>)   │ (<span style=\"color: #00d7ff; text-decoration-color: #00d7ff\">None</span>, <span style=\"color: #00af00; text-decoration-color: #00af00\">5</span>, <span style=\"color: #00af00; text-decoration-color: #00af00\">4</span>, <span style=\"color: #00af00; text-decoration-color: #00af00\">4</span>, <span style=\"color: #00af00; text-decoration-color: #00af00\">2048</span>)       │      <span style=\"color: #00af00; text-decoration-color: #00af00\">20,861,480</span> │\n",
       "├──────────────────────────────────────┼─────────────────────────────┼─────────────────┤\n",
       "│ time_distributed_1 (<span style=\"color: #0087ff; text-decoration-color: #0087ff\">TimeDistributed</span>) │ (<span style=\"color: #00d7ff; text-decoration-color: #00d7ff\">None</span>, <span style=\"color: #00af00; text-decoration-color: #00af00\">5</span>, <span style=\"color: #00af00; text-decoration-color: #00af00\">2048</span>)             │               <span style=\"color: #00af00; text-decoration-color: #00af00\">0</span> │\n",
       "├──────────────────────────────────────┼─────────────────────────────┼─────────────────┤\n",
       "│ lstm (<span style=\"color: #0087ff; text-decoration-color: #0087ff\">LSTM</span>)                          │ (<span style=\"color: #00d7ff; text-decoration-color: #00d7ff\">None</span>, <span style=\"color: #00af00; text-decoration-color: #00af00\">128</span>)                 │       <span style=\"color: #00af00; text-decoration-color: #00af00\">1,114,624</span> │\n",
       "├──────────────────────────────────────┼─────────────────────────────┼─────────────────┤\n",
       "│ batch_normalization                  │ (<span style=\"color: #00d7ff; text-decoration-color: #00d7ff\">None</span>, <span style=\"color: #00af00; text-decoration-color: #00af00\">128</span>)                 │             <span style=\"color: #00af00; text-decoration-color: #00af00\">512</span> │\n",
       "│ (<span style=\"color: #0087ff; text-decoration-color: #0087ff\">BatchNormalization</span>)                 │                             │                 │\n",
       "├──────────────────────────────────────┼─────────────────────────────┼─────────────────┤\n",
       "│ dropout_lstm (<span style=\"color: #0087ff; text-decoration-color: #0087ff\">Dropout</span>)               │ (<span style=\"color: #00d7ff; text-decoration-color: #00d7ff\">None</span>, <span style=\"color: #00af00; text-decoration-color: #00af00\">128</span>)                 │               <span style=\"color: #00af00; text-decoration-color: #00af00\">0</span> │\n",
       "├──────────────────────────────────────┼─────────────────────────────┼─────────────────┤\n",
       "│ dense (<span style=\"color: #0087ff; text-decoration-color: #0087ff\">Dense</span>)                        │ (<span style=\"color: #00d7ff; text-decoration-color: #00d7ff\">None</span>, <span style=\"color: #00af00; text-decoration-color: #00af00\">512</span>)                 │          <span style=\"color: #00af00; text-decoration-color: #00af00\">66,048</span> │\n",
       "├──────────────────────────────────────┼─────────────────────────────┼─────────────────┤\n",
       "│ dropout_dense (<span style=\"color: #0087ff; text-decoration-color: #0087ff\">Dropout</span>)              │ (<span style=\"color: #00d7ff; text-decoration-color: #00d7ff\">None</span>, <span style=\"color: #00af00; text-decoration-color: #00af00\">512</span>)                 │               <span style=\"color: #00af00; text-decoration-color: #00af00\">0</span> │\n",
       "├──────────────────────────────────────┼─────────────────────────────┼─────────────────┤\n",
       "│ dense_1 (<span style=\"color: #0087ff; text-decoration-color: #0087ff\">Dense</span>)                      │ (<span style=\"color: #00d7ff; text-decoration-color: #00d7ff\">None</span>, <span style=\"color: #00af00; text-decoration-color: #00af00\">10</span>)                  │           <span style=\"color: #00af00; text-decoration-color: #00af00\">5,130</span> │\n",
       "└──────────────────────────────────────┴─────────────────────────────┴─────────────────┘\n",
       "</pre>\n"
      ],
      "text/plain": [
       "┏━━━━━━━━━━━━━━━━━━━━━━━━━━━━━━━━━━━━━━┳━━━━━━━━━━━━━━━━━━━━━━━━━━━━━┳━━━━━━━━━━━━━━━━━┓\n",
       "┃\u001b[1m \u001b[0m\u001b[1mLayer (type)                        \u001b[0m\u001b[1m \u001b[0m┃\u001b[1m \u001b[0m\u001b[1mOutput Shape               \u001b[0m\u001b[1m \u001b[0m┃\u001b[1m \u001b[0m\u001b[1m        Param #\u001b[0m\u001b[1m \u001b[0m┃\n",
       "┡━━━━━━━━━━━━━━━━━━━━━━━━━━━━━━━━━━━━━━╇━━━━━━━━━━━━━━━━━━━━━━━━━━━━━╇━━━━━━━━━━━━━━━━━┩\n",
       "│ time_distributed (\u001b[38;5;33mTimeDistributed\u001b[0m)   │ (\u001b[38;5;45mNone\u001b[0m, \u001b[38;5;34m5\u001b[0m, \u001b[38;5;34m4\u001b[0m, \u001b[38;5;34m4\u001b[0m, \u001b[38;5;34m2048\u001b[0m)       │      \u001b[38;5;34m20,861,480\u001b[0m │\n",
       "├──────────────────────────────────────┼─────────────────────────────┼─────────────────┤\n",
       "│ time_distributed_1 (\u001b[38;5;33mTimeDistributed\u001b[0m) │ (\u001b[38;5;45mNone\u001b[0m, \u001b[38;5;34m5\u001b[0m, \u001b[38;5;34m2048\u001b[0m)             │               \u001b[38;5;34m0\u001b[0m │\n",
       "├──────────────────────────────────────┼─────────────────────────────┼─────────────────┤\n",
       "│ lstm (\u001b[38;5;33mLSTM\u001b[0m)                          │ (\u001b[38;5;45mNone\u001b[0m, \u001b[38;5;34m128\u001b[0m)                 │       \u001b[38;5;34m1,114,624\u001b[0m │\n",
       "├──────────────────────────────────────┼─────────────────────────────┼─────────────────┤\n",
       "│ batch_normalization                  │ (\u001b[38;5;45mNone\u001b[0m, \u001b[38;5;34m128\u001b[0m)                 │             \u001b[38;5;34m512\u001b[0m │\n",
       "│ (\u001b[38;5;33mBatchNormalization\u001b[0m)                 │                             │                 │\n",
       "├──────────────────────────────────────┼─────────────────────────────┼─────────────────┤\n",
       "│ dropout_lstm (\u001b[38;5;33mDropout\u001b[0m)               │ (\u001b[38;5;45mNone\u001b[0m, \u001b[38;5;34m128\u001b[0m)                 │               \u001b[38;5;34m0\u001b[0m │\n",
       "├──────────────────────────────────────┼─────────────────────────────┼─────────────────┤\n",
       "│ dense (\u001b[38;5;33mDense\u001b[0m)                        │ (\u001b[38;5;45mNone\u001b[0m, \u001b[38;5;34m512\u001b[0m)                 │          \u001b[38;5;34m66,048\u001b[0m │\n",
       "├──────────────────────────────────────┼─────────────────────────────┼─────────────────┤\n",
       "│ dropout_dense (\u001b[38;5;33mDropout\u001b[0m)              │ (\u001b[38;5;45mNone\u001b[0m, \u001b[38;5;34m512\u001b[0m)                 │               \u001b[38;5;34m0\u001b[0m │\n",
       "├──────────────────────────────────────┼─────────────────────────────┼─────────────────┤\n",
       "│ dense_1 (\u001b[38;5;33mDense\u001b[0m)                      │ (\u001b[38;5;45mNone\u001b[0m, \u001b[38;5;34m10\u001b[0m)                  │           \u001b[38;5;34m5,130\u001b[0m │\n",
       "└──────────────────────────────────────┴─────────────────────────────┴─────────────────┘\n"
      ]
     },
     "metadata": {},
     "output_type": "display_data"
    },
    {
     "data": {
      "text/html": [
       "<pre style=\"white-space:pre;overflow-x:auto;line-height:normal;font-family:Menlo,'DejaVu Sans Mono',consolas,'Courier New',monospace\"><span style=\"font-weight: bold\"> Total params: </span><span style=\"color: #00af00; text-decoration-color: #00af00\">22,047,794</span> (84.11 MB)\n",
       "</pre>\n"
      ],
      "text/plain": [
       "\u001b[1m Total params: \u001b[0m\u001b[38;5;34m22,047,794\u001b[0m (84.11 MB)\n"
      ]
     },
     "metadata": {},
     "output_type": "display_data"
    },
    {
     "data": {
      "text/html": [
       "<pre style=\"white-space:pre;overflow-x:auto;line-height:normal;font-family:Menlo,'DejaVu Sans Mono',consolas,'Courier New',monospace\"><span style=\"font-weight: bold\"> Trainable params: </span><span style=\"color: #00af00; text-decoration-color: #00af00\">6,682,378</span> (25.49 MB)\n",
       "</pre>\n"
      ],
      "text/plain": [
       "\u001b[1m Trainable params: \u001b[0m\u001b[38;5;34m6,682,378\u001b[0m (25.49 MB)\n"
      ]
     },
     "metadata": {},
     "output_type": "display_data"
    },
    {
     "data": {
      "text/html": [
       "<pre style=\"white-space:pre;overflow-x:auto;line-height:normal;font-family:Menlo,'DejaVu Sans Mono',consolas,'Courier New',monospace\"><span style=\"font-weight: bold\"> Non-trainable params: </span><span style=\"color: #00af00; text-decoration-color: #00af00\">15,365,416</span> (58.61 MB)\n",
       "</pre>\n"
      ],
      "text/plain": [
       "\u001b[1m Non-trainable params: \u001b[0m\u001b[38;5;34m15,365,416\u001b[0m (58.61 MB)\n"
      ]
     },
     "metadata": {},
     "output_type": "display_data"
    },
    {
     "name": "stdout",
     "output_type": "stream",
     "text": [
      "Model Created Successfully!\n"
     ]
    }
   ],
   "source": [
    "# Create the model\n",
    "xlstm_model = create_xception_lstm_model(\n",
    "    sequence_length=SEQUENCE_LENGTH,\n",
    "    image_height=IMAGE_HEIGHT,\n",
    "    image_width=IMAGE_WIDTH,\n",
    "    classes_list=CLASSES_LIST,\n",
    "    dropout_rate=DROPOUT_RATE\n",
    ")\n",
    "\n",
    "# Check if model was created successfully\n",
    "if xlstm_model is None:\n",
    "    print(\"Failed to create model. Check error messages above.\")\n",
    "else:\n",
    "    print(\"Model Created Successfully!\")"
   ]
  },
  {
   "cell_type": "markdown",
   "id": "e9e021d0",
   "metadata": {
    "papermill": {
     "duration": 0.016614,
     "end_time": "2025-07-11T14:42:13.792812",
     "exception": false,
     "start_time": "2025-07-11T14:42:13.776198",
     "status": "completed"
    },
    "tags": []
   },
   "source": [
    "## Plot Model Structure"
   ]
  },
  {
   "cell_type": "code",
   "execution_count": 47,
   "id": "da101fb3",
   "metadata": {
    "execution": {
     "iopub.execute_input": "2025-07-11T14:42:13.826929Z",
     "iopub.status.busy": "2025-07-11T14:42:13.826433Z",
     "iopub.status.idle": "2025-07-11T14:42:14.145022Z",
     "shell.execute_reply": "2025-07-11T14:42:14.144283Z"
    },
    "papermill": {
     "duration": 0.336952,
     "end_time": "2025-07-11T14:42:14.146238",
     "exception": false,
     "start_time": "2025-07-11T14:42:13.809286",
     "status": "completed"
    },
    "tags": []
   },
   "outputs": [
    {
     "name": "stdout",
     "output_type": "stream",
     "text": [
      "Xception Model Plot saved successfully...\n"
     ]
    }
   ],
   "source": [
    "# Plot the structure of the contructed model.\n",
    "from tensorflow.keras.utils import plot_model\n",
    "\n",
    "plot_model(xlstm_model, to_file = f'{MODEL_NAME}_model_Plot.png', show_shapes = True, show_layer_names = True)\n",
    "\n",
    "print(f\"{MODEL_NAME} Model Plot saved successfully...\")"
   ]
  },
  {
   "cell_type": "markdown",
   "id": "e534ff1e",
   "metadata": {
    "papermill": {
     "duration": 0.016944,
     "end_time": "2025-07-11T14:42:14.181090",
     "exception": false,
     "start_time": "2025-07-11T14:42:14.164146",
     "status": "completed"
    },
    "tags": []
   },
   "source": [
    "## Model Compile"
   ]
  },
  {
   "cell_type": "code",
   "execution_count": 48,
   "id": "ac064694",
   "metadata": {
    "execution": {
     "iopub.execute_input": "2025-07-11T14:42:14.215849Z",
     "iopub.status.busy": "2025-07-11T14:42:14.215632Z",
     "iopub.status.idle": "2025-07-11T14:42:14.231112Z",
     "shell.execute_reply": "2025-07-11T14:42:14.230581Z"
    },
    "papermill": {
     "duration": 0.033928,
     "end_time": "2025-07-11T14:42:14.232152",
     "exception": false,
     "start_time": "2025-07-11T14:42:14.198224",
     "status": "completed"
    },
    "tags": []
   },
   "outputs": [],
   "source": [
    "# Create an Instance of Early Stopping Callback\n",
    "from tensorflow.keras.callbacks import EarlyStopping\n",
    "\n",
    "early_stopping_callback = EarlyStopping(monitor = 'val_loss', \n",
    "                                        patience = 7, \n",
    "                                        mode = 'min', \n",
    "                                        restore_best_weights = True)\n",
    "\n",
    "# Compile the model and specify loss function, optimizer and metrics values to the model\n",
    "xlstm_model.compile(loss = 'categorical_crossentropy', \n",
    "                    optimizer=tf.keras.optimizers.Adam(learning_rate=0.0001),\n",
    "                    metrics = [\"accuracy\"])\n"
   ]
  },
  {
   "cell_type": "markdown",
   "id": "2d36a7c5",
   "metadata": {
    "papermill": {
     "duration": 0.016932,
     "end_time": "2025-07-11T14:42:14.266537",
     "exception": false,
     "start_time": "2025-07-11T14:42:14.249605",
     "status": "completed"
    },
    "tags": []
   },
   "source": [
    "## 💪 Model Fit"
   ]
  },
  {
   "cell_type": "code",
   "execution_count": 49,
   "id": "b5d6be01",
   "metadata": {
    "execution": {
     "iopub.execute_input": "2025-07-11T14:42:14.300900Z",
     "iopub.status.busy": "2025-07-11T14:42:14.300711Z",
     "iopub.status.idle": "2025-07-11T14:42:14.305977Z",
     "shell.execute_reply": "2025-07-11T14:42:14.304998Z"
    },
    "papermill": {
     "duration": 0.023937,
     "end_time": "2025-07-11T14:42:14.307165",
     "exception": false,
     "start_time": "2025-07-11T14:42:14.283228",
     "status": "completed"
    },
    "tags": []
   },
   "outputs": [
    {
     "name": "stdout",
     "output_type": "stream",
     "text": [
      "Unique labels: [0 1 2 3 4 5 6 7 8 9]\n",
      "NO_OF_CLASSES: 10\n"
     ]
    }
   ],
   "source": [
    "labels = np.argmax(train_gen.labels, axis=1)  # assuming one-hot encoded\n",
    "print(\"Unique labels:\", np.unique(labels))\n",
    "print(\"NO_OF_CLASSES:\", NO_OF_CLASSES)\n"
   ]
  },
  {
   "cell_type": "code",
   "execution_count": 50,
   "id": "67a14f26",
   "metadata": {
    "execution": {
     "iopub.execute_input": "2025-07-11T14:42:14.342532Z",
     "iopub.status.busy": "2025-07-11T14:42:14.341955Z",
     "iopub.status.idle": "2025-07-11T14:42:14.346413Z",
     "shell.execute_reply": "2025-07-11T14:42:14.345782Z"
    },
    "papermill": {
     "duration": 0.022921,
     "end_time": "2025-07-11T14:42:14.347502",
     "exception": false,
     "start_time": "2025-07-11T14:42:14.324581",
     "status": "completed"
    },
    "tags": []
   },
   "outputs": [
    {
     "name": "stdout",
     "output_type": "stream",
     "text": [
      "Train label shape: (476, 10)\n",
      "Val label shape: (119, 10)\n"
     ]
    }
   ],
   "source": [
    "print(\"Train label shape:\", np.shape(train_gen.labels))\n",
    "print(\"Val label shape:\", np.shape(val_gen.labels))\n"
   ]
  },
  {
   "cell_type": "code",
   "execution_count": 51,
   "id": "10f1b65e",
   "metadata": {
    "execution": {
     "iopub.execute_input": "2025-07-11T14:42:14.382066Z",
     "iopub.status.busy": "2025-07-11T14:42:14.381874Z",
     "iopub.status.idle": "2025-07-11T14:42:14.385224Z",
     "shell.execute_reply": "2025-07-11T14:42:14.384706Z"
    },
    "papermill": {
     "duration": 0.021725,
     "end_time": "2025-07-11T14:42:14.386202",
     "exception": false,
     "start_time": "2025-07-11T14:42:14.364477",
     "status": "completed"
    },
    "tags": []
   },
   "outputs": [],
   "source": [
    "# from tensorflow.keras.callbacks import ReduceLROnPlateau\n",
    "\n",
    "# lr_scheduler = ReduceLROnPlateau(monitor='val_loss', \n",
    "#                                  factor=0.5, \n",
    "#                                  patience=3, \n",
    "#                                  min_lr=1e-6)\n",
    "\n",
    "\n",
    "\n",
    "# print(f\"Dataset - {DATASET_NAME}\")\n",
    "# print(f\"There are total {len(ALL_CLASS_NAMES)} classes, selected {NO_OF_CLASSES} classes\")\n",
    "# print(f\"Setting {MAX_VIDEO_PER_CLASS} videos/class to train the model.\")\n",
    "# print(f\"Image size {IMAGE_HEIGHT}x{IMAGE_WIDTH} with {SEQUENCE_LENGTH} sequence length\")\n",
    "# print(f\"Dropout rate: {DROPOUT_RATE}\")\n",
    "# print(f\"Train-Test split ratio {int((1-TEST_SIZE)*100)}/{int(TEST_SIZE*100)}\")\n",
    "# print(f\"Validation data from Train set {VALIDATION_SPLIT*100}%\")\n",
    "\n",
    "# print(\"\\n\")\n",
    "\n",
    "# print(f\"Training started for {len(train_gen.videos)} videos of {NO_OF_CLASSES} classes with {len(val_gen.videos)} videos for validation...\")\n",
    "\n",
    "# model_history = xlstm_model.fit(\n",
    "#     train_gen.as_dataset(),\n",
    "#     validation_data=val_gen.as_dataset(),\n",
    "#     epochs=EPOCHS,\n",
    "#     # class_weight=class_weight_dict,\n",
    "#     callbacks=[early_stopping_callback, lr_scheduler]\n",
    "# )"
   ]
  },
  {
   "cell_type": "markdown",
   "id": "9cb4777f",
   "metadata": {
    "papermill": {
     "duration": 0.016486,
     "end_time": "2025-07-11T14:42:14.419624",
     "exception": false,
     "start_time": "2025-07-11T14:42:14.403138",
     "status": "completed"
    },
    "tags": []
   },
   "source": [
    "# Evaluation"
   ]
  },
  {
   "cell_type": "markdown",
   "id": "f92afd88",
   "metadata": {
    "papermill": {
     "duration": 0.016741,
     "end_time": "2025-07-11T14:42:14.453347",
     "exception": false,
     "start_time": "2025-07-11T14:42:14.436606",
     "status": "completed"
    },
    "tags": []
   },
   "source": [
    "## ⚡ Model Evaluate"
   ]
  },
  {
   "cell_type": "code",
   "execution_count": 52,
   "id": "f6f815ac",
   "metadata": {
    "execution": {
     "iopub.execute_input": "2025-07-11T14:42:14.487376Z",
     "iopub.status.busy": "2025-07-11T14:42:14.487177Z",
     "iopub.status.idle": "2025-07-11T14:42:14.489858Z",
     "shell.execute_reply": "2025-07-11T14:42:14.489339Z"
    },
    "papermill": {
     "duration": 0.0208,
     "end_time": "2025-07-11T14:42:14.490865",
     "exception": false,
     "start_time": "2025-07-11T14:42:14.470065",
     "status": "completed"
    },
    "tags": []
   },
   "outputs": [],
   "source": [
    "# # previous code\n",
    "# model_evaluation_history = xlstm_model.evaluate(features_test, labels_test)"
   ]
  },
  {
   "cell_type": "code",
   "execution_count": 53,
   "id": "c065e71d",
   "metadata": {
    "execution": {
     "iopub.execute_input": "2025-07-11T14:42:14.526020Z",
     "iopub.status.busy": "2025-07-11T14:42:14.525802Z",
     "iopub.status.idle": "2025-07-11T14:42:14.528913Z",
     "shell.execute_reply": "2025-07-11T14:42:14.528416Z"
    },
    "papermill": {
     "duration": 0.021924,
     "end_time": "2025-07-11T14:42:14.529913",
     "exception": false,
     "start_time": "2025-07-11T14:42:14.507989",
     "status": "completed"
    },
    "tags": []
   },
   "outputs": [],
   "source": [
    "# import matplotlib.pyplot as plt\n",
    "\n",
    "# # Accuracy\n",
    "# plt.figure(figsize=(12, 5))\n",
    "\n",
    "# plt.subplot(1, 2, 1)\n",
    "# plt.plot(model_history.history['accuracy'], label='Train Accuracy')\n",
    "# plt.plot(model_history.history['val_accuracy'], label='Validation Accuracy')\n",
    "# plt.title('Model Accuracy')\n",
    "# plt.xlabel('Epoch')\n",
    "# plt.ylabel('Accuracy')\n",
    "# plt.legend()\n",
    "\n",
    "# # Loss\n",
    "# plt.subplot(1, 2, 2)\n",
    "# plt.plot(model_history.history['loss'], label='Train Loss')\n",
    "# plt.plot(model_history.history['val_loss'], label='Validation Loss')\n",
    "# plt.title('Model Loss')\n",
    "# plt.xlabel('Epoch')\n",
    "# plt.ylabel('Loss')\n",
    "# plt.legend()\n",
    "\n",
    "# plt.tight_layout()\n",
    "# plt.show()\n"
   ]
  },
  {
   "cell_type": "markdown",
   "id": "4e58f350",
   "metadata": {
    "papermill": {
     "duration": 0.016712,
     "end_time": "2025-07-11T14:42:14.564215",
     "exception": false,
     "start_time": "2025-07-11T14:42:14.547503",
     "status": "completed"
    },
    "tags": []
   },
   "source": [
    "## 📈 Confusion Matrix"
   ]
  },
  {
   "cell_type": "code",
   "execution_count": 54,
   "id": "bdf3bcd7",
   "metadata": {
    "execution": {
     "iopub.execute_input": "2025-07-11T14:42:14.599230Z",
     "iopub.status.busy": "2025-07-11T14:42:14.599042Z",
     "iopub.status.idle": "2025-07-11T14:42:14.602447Z",
     "shell.execute_reply": "2025-07-11T14:42:14.601892Z"
    },
    "papermill": {
     "duration": 0.022205,
     "end_time": "2025-07-11T14:42:14.603402",
     "exception": false,
     "start_time": "2025-07-11T14:42:14.581197",
     "status": "completed"
    },
    "tags": []
   },
   "outputs": [],
   "source": [
    "# from sklearn.metrics import classification_report, confusion_matrix\n",
    "# import seaborn as sns\n",
    "# import matplotlib.pyplot as plt\n",
    "\n",
    "# # Create test generator with batch_size matching test set size\n",
    "# test_gen = VideoDataGenerator(\n",
    "#     videos=features_test,\n",
    "#     labels=labels_test,\n",
    "#     batch_size=4,  # Process all test samples at once\n",
    "# )\n",
    "\n",
    "# # Get predictions\n",
    "# predictions = xlstm_model.predict(test_gen.as_dataset())\n",
    "# predicted_classes = np.argmax(predictions, axis=1)\n",
    "# true_classes = np.argmax(labels_test, axis=1)\n",
    "\n",
    "# # Verify shapes\n",
    "# print(f\"True classes shape: {true_classes.shape}\")\n",
    "# print(f\"Predicted classes shape: {predicted_classes.shape}\")\n",
    "# assert len(true_classes) == len(predicted_classes), \"Sample counts do not match!\"\n",
    "\n",
    "# # Generate classification report\n",
    "# print(\"Classification Report:\")\n",
    "# print(classification_report(true_classes, predicted_classes, target_names=CLASSES_LIST))\n",
    "\n",
    "# # Plot confusion matrix\n",
    "# cm = confusion_matrix(true_classes, predicted_classes)\n",
    "# plt.figure(figsize=(8, 6))\n",
    "# sns.heatmap(cm, annot=True, fmt='d', cmap='Blues', xticklabels=CLASSES_LIST, yticklabels=CLASSES_LIST[-1])\n",
    "# plt.xlabel('Predicted')\n",
    "# plt.ylabel('True')\n",
    "# plt.title('Confusion Matrix')\n",
    "# plt.show()"
   ]
  },
  {
   "cell_type": "code",
   "execution_count": 55,
   "id": "d3f431e3",
   "metadata": {
    "execution": {
     "iopub.execute_input": "2025-07-11T14:42:14.638624Z",
     "iopub.status.busy": "2025-07-11T14:42:14.638435Z",
     "iopub.status.idle": "2025-07-11T14:50:29.866454Z",
     "shell.execute_reply": "2025-07-11T14:50:29.865634Z"
    },
    "papermill": {
     "duration": 495.247188,
     "end_time": "2025-07-11T14:50:29.867814",
     "exception": false,
     "start_time": "2025-07-11T14:42:14.620626",
     "status": "completed"
    },
    "tags": []
   },
   "outputs": [
    {
     "name": "stdout",
     "output_type": "stream",
     "text": [
      "Memory cleared before creating VGG19+LSTM model\n",
      "TensorFlow version: 2.18.0\n",
      "Pre-loading VGG19 weights...\n",
      "Downloading data from https://storage.googleapis.com/tensorflow/keras-applications/vgg19/vgg19_weights_tf_dim_ordering_tf_kernels_notop.h5\n",
      "\u001b[1m80134624/80134624\u001b[0m \u001b[32m━━━━━━━━━━━━━━━━━━━━\u001b[0m\u001b[37m\u001b[0m \u001b[1m0s\u001b[0m 0us/step\n",
      "VGG19 weights loaded successfully!\n",
      "Creating VGG19+LSTM model with parameters:\n",
      "sequence_length: 5, image_height: 128, image_width: 128, classes_list length: 10, dropout_rate: 0.5\n",
      "VGG19+LSTM model architecture created successfully!\n"
     ]
    },
    {
     "name": "stderr",
     "output_type": "stream",
     "text": [
      "/usr/local/lib/python3.11/dist-packages/keras/src/layers/core/wrapper.py:27: UserWarning: Do not pass an `input_shape`/`input_dim` argument to a layer. When using Sequential models, prefer using an `Input(shape)` object as the first layer in the model instead.\n",
      "  super().__init__(**kwargs)\n"
     ]
    },
    {
     "data": {
      "text/html": [
       "<pre style=\"white-space:pre;overflow-x:auto;line-height:normal;font-family:Menlo,'DejaVu Sans Mono',consolas,'Courier New',monospace\"><span style=\"font-weight: bold\">Model: \"sequential\"</span>\n",
       "</pre>\n"
      ],
      "text/plain": [
       "\u001b[1mModel: \"sequential\"\u001b[0m\n"
      ]
     },
     "metadata": {},
     "output_type": "display_data"
    },
    {
     "data": {
      "text/html": [
       "<pre style=\"white-space:pre;overflow-x:auto;line-height:normal;font-family:Menlo,'DejaVu Sans Mono',consolas,'Courier New',monospace\">┏━━━━━━━━━━━━━━━━━━━━━━━━━━━━━━━━━━━━━━┳━━━━━━━━━━━━━━━━━━━━━━━━━━━━━┳━━━━━━━━━━━━━━━━━┓\n",
       "┃<span style=\"font-weight: bold\"> Layer (type)                         </span>┃<span style=\"font-weight: bold\"> Output Shape                </span>┃<span style=\"font-weight: bold\">         Param # </span>┃\n",
       "┡━━━━━━━━━━━━━━━━━━━━━━━━━━━━━━━━━━━━━━╇━━━━━━━━━━━━━━━━━━━━━━━━━━━━━╇━━━━━━━━━━━━━━━━━┩\n",
       "│ time_distributed_vgg19               │ (<span style=\"color: #00d7ff; text-decoration-color: #00d7ff\">None</span>, <span style=\"color: #00af00; text-decoration-color: #00af00\">5</span>, <span style=\"color: #00af00; text-decoration-color: #00af00\">4</span>, <span style=\"color: #00af00; text-decoration-color: #00af00\">4</span>, <span style=\"color: #00af00; text-decoration-color: #00af00\">512</span>)        │      <span style=\"color: #00af00; text-decoration-color: #00af00\">20,024,384</span> │\n",
       "│ (<span style=\"color: #0087ff; text-decoration-color: #0087ff\">TimeDistributed</span>)                    │                             │                 │\n",
       "├──────────────────────────────────────┼─────────────────────────────┼─────────────────┤\n",
       "│ time_distributed_pooling             │ (<span style=\"color: #00d7ff; text-decoration-color: #00d7ff\">None</span>, <span style=\"color: #00af00; text-decoration-color: #00af00\">5</span>, <span style=\"color: #00af00; text-decoration-color: #00af00\">512</span>)              │               <span style=\"color: #00af00; text-decoration-color: #00af00\">0</span> │\n",
       "│ (<span style=\"color: #0087ff; text-decoration-color: #0087ff\">TimeDistributed</span>)                    │                             │                 │\n",
       "├──────────────────────────────────────┼─────────────────────────────┼─────────────────┤\n",
       "│ lstm_vgg19 (<span style=\"color: #0087ff; text-decoration-color: #0087ff\">LSTM</span>)                    │ (<span style=\"color: #00d7ff; text-decoration-color: #00d7ff\">None</span>, <span style=\"color: #00af00; text-decoration-color: #00af00\">512</span>)                 │       <span style=\"color: #00af00; text-decoration-color: #00af00\">2,099,200</span> │\n",
       "├──────────────────────────────────────┼─────────────────────────────┼─────────────────┤\n",
       "│ batch_normalization_vgg19            │ (<span style=\"color: #00d7ff; text-decoration-color: #00d7ff\">None</span>, <span style=\"color: #00af00; text-decoration-color: #00af00\">512</span>)                 │           <span style=\"color: #00af00; text-decoration-color: #00af00\">2,048</span> │\n",
       "│ (<span style=\"color: #0087ff; text-decoration-color: #0087ff\">BatchNormalization</span>)                 │                             │                 │\n",
       "├──────────────────────────────────────┼─────────────────────────────┼─────────────────┤\n",
       "│ dropout_lstm_vgg19 (<span style=\"color: #0087ff; text-decoration-color: #0087ff\">Dropout</span>)         │ (<span style=\"color: #00d7ff; text-decoration-color: #00d7ff\">None</span>, <span style=\"color: #00af00; text-decoration-color: #00af00\">512</span>)                 │               <span style=\"color: #00af00; text-decoration-color: #00af00\">0</span> │\n",
       "├──────────────────────────────────────┼─────────────────────────────┼─────────────────┤\n",
       "│ dense_vgg19_1 (<span style=\"color: #0087ff; text-decoration-color: #0087ff\">Dense</span>)                │ (<span style=\"color: #00d7ff; text-decoration-color: #00d7ff\">None</span>, <span style=\"color: #00af00; text-decoration-color: #00af00\">512</span>)                 │         <span style=\"color: #00af00; text-decoration-color: #00af00\">262,656</span> │\n",
       "├──────────────────────────────────────┼─────────────────────────────┼─────────────────┤\n",
       "│ dropout_dense_vgg19_1 (<span style=\"color: #0087ff; text-decoration-color: #0087ff\">Dropout</span>)      │ (<span style=\"color: #00d7ff; text-decoration-color: #00d7ff\">None</span>, <span style=\"color: #00af00; text-decoration-color: #00af00\">512</span>)                 │               <span style=\"color: #00af00; text-decoration-color: #00af00\">0</span> │\n",
       "├──────────────────────────────────────┼─────────────────────────────┼─────────────────┤\n",
       "│ dense_vgg19_2 (<span style=\"color: #0087ff; text-decoration-color: #0087ff\">Dense</span>)                │ (<span style=\"color: #00d7ff; text-decoration-color: #00d7ff\">None</span>, <span style=\"color: #00af00; text-decoration-color: #00af00\">128</span>)                 │          <span style=\"color: #00af00; text-decoration-color: #00af00\">65,664</span> │\n",
       "├──────────────────────────────────────┼─────────────────────────────┼─────────────────┤\n",
       "│ dropout_dense_vgg19_2 (<span style=\"color: #0087ff; text-decoration-color: #0087ff\">Dropout</span>)      │ (<span style=\"color: #00d7ff; text-decoration-color: #00d7ff\">None</span>, <span style=\"color: #00af00; text-decoration-color: #00af00\">128</span>)                 │               <span style=\"color: #00af00; text-decoration-color: #00af00\">0</span> │\n",
       "├──────────────────────────────────────┼─────────────────────────────┼─────────────────┤\n",
       "│ output_vgg19 (<span style=\"color: #0087ff; text-decoration-color: #0087ff\">Dense</span>)                 │ (<span style=\"color: #00d7ff; text-decoration-color: #00d7ff\">None</span>, <span style=\"color: #00af00; text-decoration-color: #00af00\">10</span>)                  │           <span style=\"color: #00af00; text-decoration-color: #00af00\">1,290</span> │\n",
       "└──────────────────────────────────────┴─────────────────────────────┴─────────────────┘\n",
       "</pre>\n"
      ],
      "text/plain": [
       "┏━━━━━━━━━━━━━━━━━━━━━━━━━━━━━━━━━━━━━━┳━━━━━━━━━━━━━━━━━━━━━━━━━━━━━┳━━━━━━━━━━━━━━━━━┓\n",
       "┃\u001b[1m \u001b[0m\u001b[1mLayer (type)                        \u001b[0m\u001b[1m \u001b[0m┃\u001b[1m \u001b[0m\u001b[1mOutput Shape               \u001b[0m\u001b[1m \u001b[0m┃\u001b[1m \u001b[0m\u001b[1m        Param #\u001b[0m\u001b[1m \u001b[0m┃\n",
       "┡━━━━━━━━━━━━━━━━━━━━━━━━━━━━━━━━━━━━━━╇━━━━━━━━━━━━━━━━━━━━━━━━━━━━━╇━━━━━━━━━━━━━━━━━┩\n",
       "│ time_distributed_vgg19               │ (\u001b[38;5;45mNone\u001b[0m, \u001b[38;5;34m5\u001b[0m, \u001b[38;5;34m4\u001b[0m, \u001b[38;5;34m4\u001b[0m, \u001b[38;5;34m512\u001b[0m)        │      \u001b[38;5;34m20,024,384\u001b[0m │\n",
       "│ (\u001b[38;5;33mTimeDistributed\u001b[0m)                    │                             │                 │\n",
       "├──────────────────────────────────────┼─────────────────────────────┼─────────────────┤\n",
       "│ time_distributed_pooling             │ (\u001b[38;5;45mNone\u001b[0m, \u001b[38;5;34m5\u001b[0m, \u001b[38;5;34m512\u001b[0m)              │               \u001b[38;5;34m0\u001b[0m │\n",
       "│ (\u001b[38;5;33mTimeDistributed\u001b[0m)                    │                             │                 │\n",
       "├──────────────────────────────────────┼─────────────────────────────┼─────────────────┤\n",
       "│ lstm_vgg19 (\u001b[38;5;33mLSTM\u001b[0m)                    │ (\u001b[38;5;45mNone\u001b[0m, \u001b[38;5;34m512\u001b[0m)                 │       \u001b[38;5;34m2,099,200\u001b[0m │\n",
       "├──────────────────────────────────────┼─────────────────────────────┼─────────────────┤\n",
       "│ batch_normalization_vgg19            │ (\u001b[38;5;45mNone\u001b[0m, \u001b[38;5;34m512\u001b[0m)                 │           \u001b[38;5;34m2,048\u001b[0m │\n",
       "│ (\u001b[38;5;33mBatchNormalization\u001b[0m)                 │                             │                 │\n",
       "├──────────────────────────────────────┼─────────────────────────────┼─────────────────┤\n",
       "│ dropout_lstm_vgg19 (\u001b[38;5;33mDropout\u001b[0m)         │ (\u001b[38;5;45mNone\u001b[0m, \u001b[38;5;34m512\u001b[0m)                 │               \u001b[38;5;34m0\u001b[0m │\n",
       "├──────────────────────────────────────┼─────────────────────────────┼─────────────────┤\n",
       "│ dense_vgg19_1 (\u001b[38;5;33mDense\u001b[0m)                │ (\u001b[38;5;45mNone\u001b[0m, \u001b[38;5;34m512\u001b[0m)                 │         \u001b[38;5;34m262,656\u001b[0m │\n",
       "├──────────────────────────────────────┼─────────────────────────────┼─────────────────┤\n",
       "│ dropout_dense_vgg19_1 (\u001b[38;5;33mDropout\u001b[0m)      │ (\u001b[38;5;45mNone\u001b[0m, \u001b[38;5;34m512\u001b[0m)                 │               \u001b[38;5;34m0\u001b[0m │\n",
       "├──────────────────────────────────────┼─────────────────────────────┼─────────────────┤\n",
       "│ dense_vgg19_2 (\u001b[38;5;33mDense\u001b[0m)                │ (\u001b[38;5;45mNone\u001b[0m, \u001b[38;5;34m128\u001b[0m)                 │          \u001b[38;5;34m65,664\u001b[0m │\n",
       "├──────────────────────────────────────┼─────────────────────────────┼─────────────────┤\n",
       "│ dropout_dense_vgg19_2 (\u001b[38;5;33mDropout\u001b[0m)      │ (\u001b[38;5;45mNone\u001b[0m, \u001b[38;5;34m128\u001b[0m)                 │               \u001b[38;5;34m0\u001b[0m │\n",
       "├──────────────────────────────────────┼─────────────────────────────┼─────────────────┤\n",
       "│ output_vgg19 (\u001b[38;5;33mDense\u001b[0m)                 │ (\u001b[38;5;45mNone\u001b[0m, \u001b[38;5;34m10\u001b[0m)                  │           \u001b[38;5;34m1,290\u001b[0m │\n",
       "└──────────────────────────────────────┴─────────────────────────────┴─────────────────┘\n"
      ]
     },
     "metadata": {},
     "output_type": "display_data"
    },
    {
     "data": {
      "text/html": [
       "<pre style=\"white-space:pre;overflow-x:auto;line-height:normal;font-family:Menlo,'DejaVu Sans Mono',consolas,'Courier New',monospace\"><span style=\"font-weight: bold\"> Total params: </span><span style=\"color: #00af00; text-decoration-color: #00af00\">22,455,242</span> (85.66 MB)\n",
       "</pre>\n"
      ],
      "text/plain": [
       "\u001b[1m Total params: \u001b[0m\u001b[38;5;34m22,455,242\u001b[0m (85.66 MB)\n"
      ]
     },
     "metadata": {},
     "output_type": "display_data"
    },
    {
     "data": {
      "text/html": [
       "<pre style=\"white-space:pre;overflow-x:auto;line-height:normal;font-family:Menlo,'DejaVu Sans Mono',consolas,'Courier New',monospace\"><span style=\"font-weight: bold\"> Trainable params: </span><span style=\"color: #00af00; text-decoration-color: #00af00\">2,429,834</span> (9.27 MB)\n",
       "</pre>\n"
      ],
      "text/plain": [
       "\u001b[1m Trainable params: \u001b[0m\u001b[38;5;34m2,429,834\u001b[0m (9.27 MB)\n"
      ]
     },
     "metadata": {},
     "output_type": "display_data"
    },
    {
     "data": {
      "text/html": [
       "<pre style=\"white-space:pre;overflow-x:auto;line-height:normal;font-family:Menlo,'DejaVu Sans Mono',consolas,'Courier New',monospace\"><span style=\"font-weight: bold\"> Non-trainable params: </span><span style=\"color: #00af00; text-decoration-color: #00af00\">20,025,408</span> (76.39 MB)\n",
       "</pre>\n"
      ],
      "text/plain": [
       "\u001b[1m Non-trainable params: \u001b[0m\u001b[38;5;34m20,025,408\u001b[0m (76.39 MB)\n"
      ]
     },
     "metadata": {},
     "output_type": "display_data"
    },
    {
     "name": "stdout",
     "output_type": "stream",
     "text": [
      "VGG19+LSTM Model Created Successfully!\n",
      "Xception_VGG19_LSTM Model Plot saved successfully...\n",
      "train_gen.videos shape: (476, 5, 128, 128, 3)\n",
      "train_gen.labels shape: (476, 10)\n",
      "val_gen.videos shape: (119, 5, 128, 128, 3)\n",
      "val_gen.labels shape: (119, 10)\n",
      "features_test shape: (149, 5, 128, 128, 3)\n",
      "labels_test shape: (149, 10)\n",
      "train_gen batch videos shape: (24, 5, 128, 128, 3)\n",
      "train_gen batch labels shape: (24, 10)\n",
      "val_gen batch videos shape: (24, 5, 128, 128, 3)\n",
      "val_gen batch labels shape: (24, 10)\n",
      "Dataset - Weizmann Dataset\n",
      "There are total 10 classes, selected 10 classes\n",
      "Setting 20 videos/class to train the model.\n",
      "Image size 128x128 with 5 sequence length\n",
      "Dropout rate: 0.5\n",
      "Train-Test split ratio 80/20\n",
      "Validation data from Train set 20.0%\n",
      "\n",
      "\n",
      "Initial training started for VGG19+LSTM model with 476 videos of 10 classes with 119 videos for validation...\n",
      "Epoch 1/30\n"
     ]
    },
    {
     "name": "stderr",
     "output_type": "stream",
     "text": [
      "I0000 00:00:1752244945.257582      62 cuda_dnn.cc:529] Loaded cuDNN version 90300\n"
     ]
    },
    {
     "name": "stdout",
     "output_type": "stream",
     "text": [
      "     20/Unknown \u001b[1m17s\u001b[0m 268ms/step - accuracy: 0.1565 - loss: 16.7110"
     ]
    },
    {
     "name": "stderr",
     "output_type": "stream",
     "text": [
      "/usr/local/lib/python3.11/dist-packages/keras/src/trainers/epoch_iterator.py:151: UserWarning: Your input ran out of data; interrupting training. Make sure that your dataset or generator can generate at least `steps_per_epoch * epochs` batches. You may need to use the `.repeat()` function when building your dataset.\n",
      "  self._interrupted_warning()\n"
     ]
    },
    {
     "name": "stdout",
     "output_type": "stream",
     "text": [
      "\u001b[1m20/20\u001b[0m \u001b[32m━━━━━━━━━━━━━━━━━━━━\u001b[0m\u001b[37m\u001b[0m \u001b[1m21s\u001b[0m 475ms/step - accuracy: 0.1566 - loss: 16.6562 - val_accuracy: 0.1849 - val_loss: 13.1220 - learning_rate: 0.0010\n",
      "Epoch 2/30\n",
      "\u001b[1m20/20\u001b[0m \u001b[32m━━━━━━━━━━━━━━━━━━━━\u001b[0m\u001b[37m\u001b[0m \u001b[1m6s\u001b[0m 288ms/step - accuracy: 0.2868 - loss: 12.3355 - val_accuracy: 0.2101 - val_loss: 10.9717 - learning_rate: 0.0010\n",
      "Epoch 3/30\n",
      "\u001b[1m20/20\u001b[0m \u001b[32m━━━━━━━━━━━━━━━━━━━━\u001b[0m\u001b[37m\u001b[0m \u001b[1m6s\u001b[0m 288ms/step - accuracy: 0.3241 - loss: 10.2777 - val_accuracy: 0.3613 - val_loss: 9.7233 - learning_rate: 0.0010\n",
      "Epoch 4/30\n",
      "\u001b[1m20/20\u001b[0m \u001b[32m━━━━━━━━━━━━━━━━━━━━\u001b[0m\u001b[37m\u001b[0m \u001b[1m6s\u001b[0m 289ms/step - accuracy: 0.4726 - loss: 8.7868 - val_accuracy: 0.1933 - val_loss: 8.8048 - learning_rate: 0.0010\n",
      "Epoch 5/30\n",
      "\u001b[1m20/20\u001b[0m \u001b[32m━━━━━━━━━━━━━━━━━━━━\u001b[0m\u001b[37m\u001b[0m \u001b[1m6s\u001b[0m 292ms/step - accuracy: 0.5360 - loss: 7.7080 - val_accuracy: 0.4538 - val_loss: 7.9206 - learning_rate: 0.0010\n",
      "Epoch 6/30\n",
      "\u001b[1m20/20\u001b[0m \u001b[32m━━━━━━━━━━━━━━━━━━━━\u001b[0m\u001b[37m\u001b[0m \u001b[1m6s\u001b[0m 294ms/step - accuracy: 0.5688 - loss: 6.9409 - val_accuracy: 0.3445 - val_loss: 7.3619 - learning_rate: 0.0010\n",
      "Epoch 7/30\n",
      "\u001b[1m20/20\u001b[0m \u001b[32m━━━━━━━━━━━━━━━━━━━━\u001b[0m\u001b[37m\u001b[0m \u001b[1m6s\u001b[0m 294ms/step - accuracy: 0.6874 - loss: 6.0669 - val_accuracy: 0.1933 - val_loss: 7.1395 - learning_rate: 0.0010\n",
      "Epoch 8/30\n",
      "\u001b[1m20/20\u001b[0m \u001b[32m━━━━━━━━━━━━━━━━━━━━\u001b[0m\u001b[37m\u001b[0m \u001b[1m6s\u001b[0m 297ms/step - accuracy: 0.6688 - loss: 5.5479 - val_accuracy: 0.4622 - val_loss: 6.0887 - learning_rate: 0.0010\n",
      "Epoch 9/30\n",
      "\u001b[1m20/20\u001b[0m \u001b[32m━━━━━━━━━━━━━━━━━━━━\u001b[0m\u001b[37m\u001b[0m \u001b[1m6s\u001b[0m 302ms/step - accuracy: 0.7750 - loss: 4.9506 - val_accuracy: 0.3361 - val_loss: 5.7579 - learning_rate: 0.0010\n",
      "Epoch 10/30\n",
      "\u001b[1m20/20\u001b[0m \u001b[32m━━━━━━━━━━━━━━━━━━━━\u001b[0m\u001b[37m\u001b[0m \u001b[1m6s\u001b[0m 299ms/step - accuracy: 0.7857 - loss: 4.4707 - val_accuracy: 0.1933 - val_loss: 5.8375 - learning_rate: 0.0010\n",
      "Epoch 11/30\n",
      "\u001b[1m20/20\u001b[0m \u001b[32m━━━━━━━━━━━━━━━━━━━━\u001b[0m\u001b[37m\u001b[0m \u001b[1m6s\u001b[0m 304ms/step - accuracy: 0.8089 - loss: 4.0956 - val_accuracy: 0.1681 - val_loss: 5.5692 - learning_rate: 0.0010\n",
      "Epoch 12/30\n",
      "\u001b[1m20/20\u001b[0m \u001b[32m━━━━━━━━━━━━━━━━━━━━\u001b[0m\u001b[37m\u001b[0m \u001b[1m6s\u001b[0m 303ms/step - accuracy: 0.8073 - loss: 3.8000 - val_accuracy: 0.2353 - val_loss: 5.8616 - learning_rate: 0.0010\n",
      "Epoch 13/30\n",
      "\u001b[1m20/20\u001b[0m \u001b[32m━━━━━━━━━━━━━━━━━━━━\u001b[0m\u001b[37m\u001b[0m \u001b[1m6s\u001b[0m 307ms/step - accuracy: 0.8323 - loss: 3.4425 - val_accuracy: 0.1176 - val_loss: 6.9329 - learning_rate: 0.0010\n",
      "Epoch 14/30\n",
      "\u001b[1m20/20\u001b[0m \u001b[32m━━━━━━━━━━━━━━━━━━━━\u001b[0m\u001b[37m\u001b[0m \u001b[1m6s\u001b[0m 312ms/step - accuracy: 0.8740 - loss: 3.1134 - val_accuracy: 0.0840 - val_loss: 6.3296 - learning_rate: 0.0010\n",
      "Epoch 15/30\n",
      "\u001b[1m20/20\u001b[0m \u001b[32m━━━━━━━━━━━━━━━━━━━━\u001b[0m\u001b[37m\u001b[0m \u001b[1m6s\u001b[0m 316ms/step - accuracy: 0.8574 - loss: 2.9665 - val_accuracy: 0.5210 - val_loss: 3.6963 - learning_rate: 5.0000e-04\n",
      "Epoch 16/30\n",
      "\u001b[1m20/20\u001b[0m \u001b[32m━━━━━━━━━━━━━━━━━━━━\u001b[0m\u001b[37m\u001b[0m \u001b[1m6s\u001b[0m 313ms/step - accuracy: 0.9064 - loss: 2.6923 - val_accuracy: 0.6050 - val_loss: 3.4190 - learning_rate: 5.0000e-04\n",
      "Epoch 17/30\n",
      "\u001b[1m20/20\u001b[0m \u001b[32m━━━━━━━━━━━━━━━━━━━━\u001b[0m\u001b[37m\u001b[0m \u001b[1m6s\u001b[0m 307ms/step - accuracy: 0.9472 - loss: 2.5317 - val_accuracy: 0.5546 - val_loss: 3.4367 - learning_rate: 5.0000e-04\n",
      "Epoch 18/30\n",
      "\u001b[1m20/20\u001b[0m \u001b[32m━━━━━━━━━━━━━━━━━━━━\u001b[0m\u001b[37m\u001b[0m \u001b[1m6s\u001b[0m 307ms/step - accuracy: 0.9108 - loss: 2.4163 - val_accuracy: 0.7479 - val_loss: 2.8733 - learning_rate: 5.0000e-04\n",
      "Epoch 19/30\n",
      "\u001b[1m20/20\u001b[0m \u001b[32m━━━━━━━━━━━━━━━━━━━━\u001b[0m\u001b[37m\u001b[0m \u001b[1m6s\u001b[0m 306ms/step - accuracy: 0.9359 - loss: 2.2790 - val_accuracy: 0.7731 - val_loss: 2.7188 - learning_rate: 5.0000e-04\n",
      "Epoch 20/30\n",
      "\u001b[1m20/20\u001b[0m \u001b[32m━━━━━━━━━━━━━━━━━━━━\u001b[0m\u001b[37m\u001b[0m \u001b[1m6s\u001b[0m 306ms/step - accuracy: 0.9415 - loss: 2.1757 - val_accuracy: 0.7227 - val_loss: 2.5667 - learning_rate: 5.0000e-04\n",
      "Epoch 21/30\n",
      "\u001b[1m20/20\u001b[0m \u001b[32m━━━━━━━━━━━━━━━━━━━━\u001b[0m\u001b[37m\u001b[0m \u001b[1m6s\u001b[0m 302ms/step - accuracy: 0.9396 - loss: 2.0644 - val_accuracy: 0.5630 - val_loss: 2.8861 - learning_rate: 5.0000e-04\n",
      "Epoch 22/30\n",
      "\u001b[1m20/20\u001b[0m \u001b[32m━━━━━━━━━━━━━━━━━━━━\u001b[0m\u001b[37m\u001b[0m \u001b[1m6s\u001b[0m 302ms/step - accuracy: 0.9310 - loss: 2.0131 - val_accuracy: 0.6387 - val_loss: 2.8718 - learning_rate: 5.0000e-04\n",
      "Epoch 23/30\n",
      "\u001b[1m20/20\u001b[0m \u001b[32m━━━━━━━━━━━━━━━━━━━━\u001b[0m\u001b[37m\u001b[0m \u001b[1m6s\u001b[0m 304ms/step - accuracy: 0.9485 - loss: 1.8691 - val_accuracy: 0.6134 - val_loss: 2.5242 - learning_rate: 5.0000e-04\n",
      "Epoch 24/30\n",
      "\u001b[1m20/20\u001b[0m \u001b[32m━━━━━━━━━━━━━━━━━━━━\u001b[0m\u001b[37m\u001b[0m \u001b[1m6s\u001b[0m 302ms/step - accuracy: 0.9572 - loss: 1.7849 - val_accuracy: 0.6471 - val_loss: 2.6777 - learning_rate: 5.0000e-04\n",
      "Epoch 25/30\n",
      "\u001b[1m20/20\u001b[0m \u001b[32m━━━━━━━━━━━━━━━━━━━━\u001b[0m\u001b[37m\u001b[0m \u001b[1m6s\u001b[0m 303ms/step - accuracy: 0.9527 - loss: 1.6747 - val_accuracy: 0.7227 - val_loss: 2.6156 - learning_rate: 5.0000e-04\n",
      "Epoch 26/30\n",
      "\u001b[1m20/20\u001b[0m \u001b[32m━━━━━━━━━━━━━━━━━━━━\u001b[0m\u001b[37m\u001b[0m \u001b[1m6s\u001b[0m 303ms/step - accuracy: 0.9613 - loss: 1.5927 - val_accuracy: 0.3361 - val_loss: 4.6922 - learning_rate: 5.0000e-04\n",
      "Epoch 27/30\n",
      "\u001b[1m20/20\u001b[0m \u001b[32m━━━━━━━━━━━━━━━━━━━━\u001b[0m\u001b[37m\u001b[0m \u001b[1m6s\u001b[0m 307ms/step - accuracy: 0.9808 - loss: 1.5102 - val_accuracy: 0.8655 - val_loss: 1.8133 - learning_rate: 2.5000e-04\n",
      "Epoch 28/30\n",
      "\u001b[1m20/20\u001b[0m \u001b[32m━━━━━━━━━━━━━━━━━━━━\u001b[0m\u001b[37m\u001b[0m \u001b[1m6s\u001b[0m 308ms/step - accuracy: 0.9650 - loss: 1.4787 - val_accuracy: 0.8824 - val_loss: 1.6187 - learning_rate: 2.5000e-04\n",
      "Epoch 29/30\n",
      "\u001b[1m20/20\u001b[0m \u001b[32m━━━━━━━━━━━━━━━━━━━━\u001b[0m\u001b[37m\u001b[0m \u001b[1m6s\u001b[0m 305ms/step - accuracy: 0.9702 - loss: 1.4349 - val_accuracy: 0.8992 - val_loss: 1.6245 - learning_rate: 2.5000e-04\n",
      "Epoch 30/30\n",
      "\u001b[1m20/20\u001b[0m \u001b[32m━━━━━━━━━━━━━━━━━━━━\u001b[0m\u001b[37m\u001b[0m \u001b[1m6s\u001b[0m 306ms/step - accuracy: 0.9834 - loss: 1.3824 - val_accuracy: 0.5462 - val_loss: 3.2832 - learning_rate: 2.5000e-04\n",
      "\n",
      "Fine-tuning started for VGG19+LSTM model with 476 videos of 10 classes with 119 videos for validation...\n",
      "Epoch 1/30\n",
      "\u001b[1m20/20\u001b[0m \u001b[32m━━━━━━━━━━━━━━━━━━━━\u001b[0m\u001b[37m\u001b[0m \u001b[1m22s\u001b[0m 565ms/step - accuracy: 0.5595 - loss: 3.6919 - val_accuracy: 0.2269 - val_loss: 15.4647 - learning_rate: 1.0000e-04\n",
      "Epoch 2/30\n",
      "\u001b[1m20/20\u001b[0m \u001b[32m━━━━━━━━━━━━━━━━━━━━\u001b[0m\u001b[37m\u001b[0m \u001b[1m9s\u001b[0m 467ms/step - accuracy: 0.8491 - loss: 1.8266 - val_accuracy: 0.3529 - val_loss: 11.6149 - learning_rate: 1.0000e-04\n",
      "Epoch 3/30\n",
      "\u001b[1m20/20\u001b[0m \u001b[32m━━━━━━━━━━━━━━━━━━━━\u001b[0m\u001b[37m\u001b[0m \u001b[1m9s\u001b[0m 475ms/step - accuracy: 0.9274 - loss: 1.5348 - val_accuracy: 0.4034 - val_loss: 8.0671 - learning_rate: 1.0000e-04\n",
      "Epoch 4/30\n",
      "\u001b[1m20/20\u001b[0m \u001b[32m━━━━━━━━━━━━━━━━━━━━\u001b[0m\u001b[37m\u001b[0m \u001b[1m9s\u001b[0m 472ms/step - accuracy: 0.9468 - loss: 1.4388 - val_accuracy: 0.5882 - val_loss: 4.0084 - learning_rate: 1.0000e-04\n",
      "Epoch 5/30\n",
      "\u001b[1m20/20\u001b[0m \u001b[32m━━━━━━━━━━━━━━━━━━━━\u001b[0m\u001b[37m\u001b[0m \u001b[1m9s\u001b[0m 464ms/step - accuracy: 0.9550 - loss: 1.3897 - val_accuracy: 0.5546 - val_loss: 5.4482 - learning_rate: 1.0000e-04\n",
      "Epoch 6/30\n",
      "\u001b[1m20/20\u001b[0m \u001b[32m━━━━━━━━━━━━━━━━━━━━\u001b[0m\u001b[37m\u001b[0m \u001b[1m9s\u001b[0m 462ms/step - accuracy: 0.9445 - loss: 1.3983 - val_accuracy: 0.6303 - val_loss: 3.5744 - learning_rate: 1.0000e-04\n",
      "Epoch 7/30\n",
      "\u001b[1m20/20\u001b[0m \u001b[32m━━━━━━━━━━━━━━━━━━━━\u001b[0m\u001b[37m\u001b[0m \u001b[1m9s\u001b[0m 462ms/step - accuracy: 0.9606 - loss: 1.3342 - val_accuracy: 0.8151 - val_loss: 2.0268 - learning_rate: 1.0000e-04\n",
      "Epoch 8/30\n",
      "\u001b[1m20/20\u001b[0m \u001b[32m━━━━━━━━━━━━━━━━━━━━\u001b[0m\u001b[37m\u001b[0m \u001b[1m9s\u001b[0m 460ms/step - accuracy: 0.9809 - loss: 1.2952 - val_accuracy: 0.7815 - val_loss: 2.0006 - learning_rate: 1.0000e-04\n",
      "Epoch 9/30\n",
      "\u001b[1m20/20\u001b[0m \u001b[32m━━━━━━━━━━━━━━━━━━━━\u001b[0m\u001b[37m\u001b[0m \u001b[1m9s\u001b[0m 461ms/step - accuracy: 0.9899 - loss: 1.2642 - val_accuracy: 0.9580 - val_loss: 1.3728 - learning_rate: 1.0000e-04\n",
      "Epoch 10/30\n",
      "\u001b[1m20/20\u001b[0m \u001b[32m━━━━━━━━━━━━━━━━━━━━\u001b[0m\u001b[37m\u001b[0m \u001b[1m9s\u001b[0m 461ms/step - accuracy: 0.9880 - loss: 1.2152 - val_accuracy: 0.9496 - val_loss: 1.3385 - learning_rate: 1.0000e-04\n",
      "Epoch 11/30\n",
      "\u001b[1m20/20\u001b[0m \u001b[32m━━━━━━━━━━━━━━━━━━━━\u001b[0m\u001b[37m\u001b[0m \u001b[1m9s\u001b[0m 463ms/step - accuracy: 0.9893 - loss: 1.1825 - val_accuracy: 0.9832 - val_loss: 1.1774 - learning_rate: 1.0000e-04\n",
      "Epoch 12/30\n",
      "\u001b[1m20/20\u001b[0m \u001b[32m━━━━━━━━━━━━━━━━━━━━\u001b[0m\u001b[37m\u001b[0m \u001b[1m9s\u001b[0m 462ms/step - accuracy: 0.9940 - loss: 1.1656 - val_accuracy: 0.9664 - val_loss: 1.2759 - learning_rate: 1.0000e-04\n",
      "Epoch 13/30\n",
      "\u001b[1m20/20\u001b[0m \u001b[32m━━━━━━━━━━━━━━━━━━━━\u001b[0m\u001b[37m\u001b[0m \u001b[1m9s\u001b[0m 465ms/step - accuracy: 1.0000 - loss: 1.1370 - val_accuracy: 0.9916 - val_loss: 1.1307 - learning_rate: 1.0000e-04\n",
      "Epoch 14/30\n",
      "\u001b[1m20/20\u001b[0m \u001b[32m━━━━━━━━━━━━━━━━━━━━\u001b[0m\u001b[37m\u001b[0m \u001b[1m9s\u001b[0m 461ms/step - accuracy: 1.0000 - loss: 1.1140 - val_accuracy: 0.9832 - val_loss: 1.1380 - learning_rate: 1.0000e-04\n",
      "Epoch 15/30\n",
      "\u001b[1m20/20\u001b[0m \u001b[32m━━━━━━━━━━━━━━━━━━━━\u001b[0m\u001b[37m\u001b[0m \u001b[1m9s\u001b[0m 459ms/step - accuracy: 0.9982 - loss: 1.0926 - val_accuracy: 0.9748 - val_loss: 1.1527 - learning_rate: 1.0000e-04\n",
      "Epoch 16/30\n",
      "\u001b[1m20/20\u001b[0m \u001b[32m━━━━━━━━━━━━━━━━━━━━\u001b[0m\u001b[37m\u001b[0m \u001b[1m9s\u001b[0m 460ms/step - accuracy: 0.9928 - loss: 1.0842 - val_accuracy: 0.9580 - val_loss: 1.1451 - learning_rate: 1.0000e-04\n",
      "Epoch 17/30\n",
      "\u001b[1m20/20\u001b[0m \u001b[32m━━━━━━━━━━━━━━━━━━━━\u001b[0m\u001b[37m\u001b[0m \u001b[1m9s\u001b[0m 462ms/step - accuracy: 0.9940 - loss: 1.0656 - val_accuracy: 0.9832 - val_loss: 1.0588 - learning_rate: 5.0000e-05\n",
      "Epoch 18/30\n",
      "\u001b[1m20/20\u001b[0m \u001b[32m━━━━━━━━━━━━━━━━━━━━\u001b[0m\u001b[37m\u001b[0m \u001b[1m9s\u001b[0m 458ms/step - accuracy: 0.9960 - loss: 1.0501 - val_accuracy: 0.9580 - val_loss: 1.1290 - learning_rate: 5.0000e-05\n",
      "Epoch 19/30\n",
      "\u001b[1m20/20\u001b[0m \u001b[32m━━━━━━━━━━━━━━━━━━━━\u001b[0m\u001b[37m\u001b[0m \u001b[1m9s\u001b[0m 462ms/step - accuracy: 0.9855 - loss: 1.0444 - val_accuracy: 1.0000 - val_loss: 1.0210 - learning_rate: 5.0000e-05\n",
      "Epoch 20/30\n",
      "\u001b[1m20/20\u001b[0m \u001b[32m━━━━━━━━━━━━━━━━━━━━\u001b[0m\u001b[37m\u001b[0m \u001b[1m9s\u001b[0m 461ms/step - accuracy: 0.9989 - loss: 1.0192 - val_accuracy: 1.0000 - val_loss: 1.0046 - learning_rate: 5.0000e-05\n",
      "Epoch 21/30\n",
      "\u001b[1m20/20\u001b[0m \u001b[32m━━━━━━━━━━━━━━━━━━━━\u001b[0m\u001b[37m\u001b[0m \u001b[1m9s\u001b[0m 463ms/step - accuracy: 1.0000 - loss: 1.0094 - val_accuracy: 1.0000 - val_loss: 0.9961 - learning_rate: 5.0000e-05\n",
      "Epoch 22/30\n",
      "\u001b[1m20/20\u001b[0m \u001b[32m━━━━━━━━━━━━━━━━━━━━\u001b[0m\u001b[37m\u001b[0m \u001b[1m9s\u001b[0m 463ms/step - accuracy: 1.0000 - loss: 0.9966 - val_accuracy: 1.0000 - val_loss: 0.9846 - learning_rate: 5.0000e-05\n",
      "Epoch 23/30\n",
      "\u001b[1m20/20\u001b[0m \u001b[32m━━━━━━━━━━━━━━━━━━━━\u001b[0m\u001b[37m\u001b[0m \u001b[1m9s\u001b[0m 463ms/step - accuracy: 1.0000 - loss: 0.9834 - val_accuracy: 1.0000 - val_loss: 0.9703 - learning_rate: 5.0000e-05\n",
      "Epoch 24/30\n",
      "\u001b[1m20/20\u001b[0m \u001b[32m━━━━━━━━━━━━━━━━━━━━\u001b[0m\u001b[37m\u001b[0m \u001b[1m9s\u001b[0m 462ms/step - accuracy: 1.0000 - loss: 0.9773 - val_accuracy: 1.0000 - val_loss: 0.9609 - learning_rate: 5.0000e-05\n",
      "Epoch 25/30\n",
      "\u001b[1m20/20\u001b[0m \u001b[32m━━━━━━━━━━━━━━━━━━━━\u001b[0m\u001b[37m\u001b[0m \u001b[1m9s\u001b[0m 461ms/step - accuracy: 1.0000 - loss: 0.9653 - val_accuracy: 0.9916 - val_loss: 0.9673 - learning_rate: 5.0000e-05\n",
      "Epoch 26/30\n",
      "\u001b[1m20/20\u001b[0m \u001b[32m━━━━━━━━━━━━━━━━━━━━\u001b[0m\u001b[37m\u001b[0m \u001b[1m9s\u001b[0m 461ms/step - accuracy: 1.0000 - loss: 0.9539 - val_accuracy: 0.9832 - val_loss: 0.9628 - learning_rate: 5.0000e-05\n",
      "Epoch 27/30\n",
      "\u001b[1m20/20\u001b[0m \u001b[32m━━━━━━━━━━━━━━━━━━━━\u001b[0m\u001b[37m\u001b[0m \u001b[1m9s\u001b[0m 461ms/step - accuracy: 0.9984 - loss: 0.9485 - val_accuracy: 0.9832 - val_loss: 0.9846 - learning_rate: 5.0000e-05\n",
      "Epoch 28/30\n",
      "\u001b[1m20/20\u001b[0m \u001b[32m━━━━━━━━━━━━━━━━━━━━\u001b[0m\u001b[37m\u001b[0m \u001b[1m9s\u001b[0m 464ms/step - accuracy: 0.9969 - loss: 0.9432 - val_accuracy: 0.9916 - val_loss: 0.9292 - learning_rate: 2.5000e-05\n",
      "Epoch 29/30\n",
      "\u001b[1m20/20\u001b[0m \u001b[32m━━━━━━━━━━━━━━━━━━━━\u001b[0m\u001b[37m\u001b[0m \u001b[1m9s\u001b[0m 465ms/step - accuracy: 1.0000 - loss: 0.9292 - val_accuracy: 1.0000 - val_loss: 0.9138 - learning_rate: 2.5000e-05\n",
      "Epoch 30/30\n",
      "\u001b[1m20/20\u001b[0m \u001b[32m━━━━━━━━━━━━━━━━━━━━\u001b[0m\u001b[37m\u001b[0m \u001b[1m9s\u001b[0m 464ms/step - accuracy: 1.0000 - loss: 0.9245 - val_accuracy: 1.0000 - val_loss: 0.9104 - learning_rate: 2.5000e-05\n",
      "\n",
      "Evaluating VGG19+LSTM model on test set...\n",
      "Total 149 videos and 149 classes\n",
      "test_gen batch videos shape: (24, 5, 128, 128, 3)\n",
      "test_gen batch labels shape: (24, 10)\n",
      "\u001b[1m7/7\u001b[0m \u001b[32m━━━━━━━━━━━━━━━━━━━━\u001b[0m\u001b[37m\u001b[0m \u001b[1m2s\u001b[0m 297ms/step - accuracy: 0.9908 - loss: 0.9173\n",
      "VGG19+LSTM Test Loss: 0.9147\n",
      "VGG19+LSTM Test Accuracy: 99.33%\n"
     ]
    },
    {
     "data": {
      "image/png": "[encoded data removed]",
      "text/plain": [
       "<Figure size 1200x500 with 2 Axes>"
      ]
     },
     "metadata": {},
     "output_type": "display_data"
    },
    {
     "name": "stdout",
     "output_type": "stream",
     "text": [
      "\u001b[1m7/7\u001b[0m \u001b[32m━━━━━━━━━━━━━━━━━━━━\u001b[0m\u001b[37m\u001b[0m \u001b[1m4s\u001b[0m 396ms/step\n",
      "True classes shape: (149,)\n",
      "Predicted classes shape: (149,)\n",
      "\n",
      "VGG19+LSTM Classification Report:\n",
      "                 precision    recall  f1-score   support\n",
      "\n",
      " two hands wave       1.00      1.00      1.00        14\n",
      "           skip       1.00      1.00      1.00        19\n",
      "  jump in place       1.00      1.00      1.00        13\n",
      "           jump       0.93      1.00      0.96        13\n",
      "           walk       1.00      0.94      0.97        17\n",
      "           bend       1.00      1.00      1.00        12\n",
      "gallop sideways       1.00      1.00      1.00        10\n",
      "            run       1.00      1.00      1.00        16\n",
      "   jumping jack       1.00      1.00      1.00        14\n",
      "  one hand wave       1.00      1.00      1.00        21\n",
      "\n",
      "       accuracy                           0.99       149\n",
      "      macro avg       0.99      0.99      0.99       149\n",
      "   weighted avg       0.99      0.99      0.99       149\n",
      "\n"
     ]
    },
    {
     "name": "stderr",
     "output_type": "stream",
     "text": [
      "/usr/local/lib/python3.11/dist-packages/keras/src/trainers/epoch_iterator.py:151: UserWarning: Your input ran out of data; interrupting training. Make sure that your dataset or generator can generate at least `steps_per_epoch * epochs` batches. You may need to use the `.repeat()` function when building your dataset.\n",
      "  self._interrupted_warning()\n"
     ]
    },
    {
     "data": {
      "image/png": "[encoded data removed]",
      "text/plain": [
       "<Figure size 800x600 with 2 Axes>"
      ]
     },
     "metadata": {},
     "output_type": "display_data"
    }
   ],
   "source": [
    "# Import necessary libraries\n",
    "from tensorflow.keras.applications import VGG19\n",
    "from tensorflow.keras.models import Sequential\n",
    "from tensorflow.keras.layers import TimeDistributed, GlobalAveragePooling2D, LSTM, Dropout, Dense, BatchNormalization\n",
    "from tensorflow.keras.regularizers import l2\n",
    "from tensorflow.keras.callbacks import EarlyStopping, ReduceLROnPlateau\n",
    "from tensorflow.keras.utils import to_categorical\n",
    "import tensorflow as tf\n",
    "import numpy as np\n",
    "import gc\n",
    "\n",
    "# Clear memory before creating the new model\n",
    "gc.collect()\n",
    "tf.keras.backend.clear_session()\n",
    "print(\"Memory cleared before creating VGG19+LSTM model\")\n",
    "\n",
    "# Print TensorFlow version\n",
    "print(f\"TensorFlow version: {tf.__version__}\")\n",
    "\n",
    "# Pre-load VGG19 weights\n",
    "print(\"Pre-loading VGG19 weights...\")\n",
    "try:\n",
    "    base_model = VGG19(weights='imagenet', include_top=False, input_shape=(IMAGE_HEIGHT, IMAGE_WIDTH, 3))\n",
    "    print(\"VGG19 weights loaded successfully!\")\n",
    "except Exception as e:\n",
    "    print(f\"Failed to load VGG19 weights: {str(e)}\")\n",
    "    print(\"Falling back to initializing VGG19 without pre-trained weights...\")\n",
    "    base_model = VGG19(weights=None, include_top=False, input_shape=(IMAGE_HEIGHT, IMAGE_WIDTH, 3))\n",
    "\n",
    "# Define function to create VGG19+LSTM model\n",
    "def create_vgg19_lstm_model(sequence_length, image_height, image_width, classes_list=None, dropout_rate=0.5, base_model=None):\n",
    "    print(\"Creating VGG19+LSTM model with parameters:\")\n",
    "    print(f\"sequence_length: {sequence_length}, image_height: {image_height}, image_width: {image_width}, classes_list length: {len(classes_list) if classes_list is not None else None}, dropout_rate: {dropout_rate}\")\n",
    "    \n",
    "    if classes_list is None:\n",
    "        raise ValueError(\"classes_list must be provided to define the output layer size\")\n",
    "    if base_model is None:\n",
    "        raise ValueError(\"base_model must be provided to avoid re-downloading weights\")\n",
    "\n",
    "    try:\n",
    "        # Use the pre-loaded base model\n",
    "        vgg19 = base_model\n",
    "        # Freeze the base model for initial training\n",
    "        vgg19.trainable = False\n",
    "\n",
    "        # Define the Sequential model\n",
    "        model = Sequential([\n",
    "            # TimeDistributed VGG19 model\n",
    "            TimeDistributed(\n",
    "                vgg19,\n",
    "                input_shape=(sequence_length, image_height, image_width, 3),\n",
    "                name=\"time_distributed_vgg19\"\n",
    "            ),\n",
    "            # TimeDistributed GlobalAveragePooling2D\n",
    "            TimeDistributed(GlobalAveragePooling2D(), name=\"time_distributed_pooling\"),\n",
    "            # LSTM layer with 512 units\n",
    "            LSTM(512, activation=\"tanh\", return_sequences=False, kernel_regularizer=l2(0.01), name=\"lstm_vgg19\"),\n",
    "            BatchNormalization(name=\"batch_normalization_vgg19\"),\n",
    "            # Dropout after LSTM\n",
    "            Dropout(dropout_rate, name=\"dropout_lstm_vgg19\"),\n",
    "            # Dense layer with 512 units\n",
    "            Dense(512, activation=\"relu\", kernel_regularizer=l2(0.01), name=\"dense_vgg19_1\"),\n",
    "            # Dropout after first Dense\n",
    "            Dropout(dropout_rate, name=\"dropout_dense_vgg19_1\"),\n",
    "            # Dense layer with 128 units\n",
    "            Dense(128, activation=\"relu\", kernel_regularizer=l2(0.01), name=\"dense_vgg19_2\"),\n",
    "            # Dropout after second Dense\n",
    "            Dropout(dropout_rate, name=\"dropout_dense_vgg19_2\"),\n",
    "            # Output Dense layer with softmax activation\n",
    "            Dense(len(classes_list), activation=\"softmax\", name=\"output_vgg19\")\n",
    "        ])\n",
    "\n",
    "        # Print model summary\n",
    "        print(\"VGG19+LSTM model architecture created successfully!\")\n",
    "        model.summary()\n",
    "\n",
    "        return model\n",
    "\n",
    "    except Exception as e:\n",
    "        print(f\"Error creating VGG19+LSTM model: {str(e)}\")\n",
    "        import traceback\n",
    "        traceback.print_exc()\n",
    "        return None\n",
    "\n",
    "# Create the VGG19+LSTM model using the pre-loaded base model\n",
    "vgg19_lstm_model = create_vgg19_lstm_model(\n",
    "    sequence_length=SEQUENCE_LENGTH,\n",
    "    image_height=IMAGE_HEIGHT,\n",
    "    image_width=IMAGE_WIDTH,\n",
    "    classes_list=CLASSES_LIST,\n",
    "    dropout_rate=DROPOUT_RATE,\n",
    "    base_model=base_model\n",
    ")\n",
    "\n",
    "# Check if model was created successfully\n",
    "if vgg19_lstm_model is None:\n",
    "    raise ValueError(\"Failed to create VGG19+LSTM model. Check error messages above.\")\n",
    "else:\n",
    "    print(\"VGG19+LSTM Model Created Successfully!\")\n",
    "\n",
    "# Plot the model structure\n",
    "from tensorflow.keras.utils import plot_model\n",
    "try:\n",
    "    plot_model(vgg19_lstm_model, to_file=f'{MODEL_NAME}_VGG19_LSTM_model_Plot.png', show_shapes=True, show_layer_names=True)\n",
    "    print(f\"{MODEL_NAME}_VGG19_LSTM Model Plot saved successfully...\")\n",
    "except Exception as e:\n",
    "    print(f\"Failed to plot model: {str(e)}\")\n",
    "\n",
    "# Verify data shapes\n",
    "print(f\"train_gen.videos shape: {np.shape(train_gen.videos)}\")\n",
    "print(f\"train_gen.labels shape: {np.shape(train_gen.labels)}\")\n",
    "print(f\"val_gen.videos shape: {np.shape(val_gen.videos)}\")\n",
    "print(f\"val_gen.labels shape: {np.shape(val_gen.labels)}\")\n",
    "print(f\"features_test shape: {np.shape(features_test)}\")\n",
    "print(f\"labels_test shape: {np.shape(labels_test)}\")\n",
    "\n",
    "# Ensure labels_test is one-hot encoded\n",
    "if len(labels_test.shape) == 1:\n",
    "    print(\"Converting labels_test to one-hot encoded format...\")\n",
    "    labels_test = to_categorical(labels_test, num_classes=NO_OF_CLASSES)\n",
    "    print(f\"New labels_test shape: {labels_test.shape}\")\n",
    "\n",
    "# Verify generator batch shapes\n",
    "try:\n",
    "    videos, labels = train_gen[0]\n",
    "    print(f\"train_gen batch videos shape: {videos.shape}\")\n",
    "    print(f\"train_gen batch labels shape: {labels.shape}\")\n",
    "    videos, labels = val_gen[0]\n",
    "    print(f\"val_gen batch videos shape: {videos.shape}\")\n",
    "    print(f\"val_gen batch labels shape: {labels.shape}\")\n",
    "except Exception as e:\n",
    "    print(f\"Error accessing generator data: {str(e)}\")\n",
    "\n",
    "# Compile the model for initial training\n",
    "early_stopping_callback = EarlyStopping(monitor='val_loss', patience=7, mode='min', restore_best_weights=True)\n",
    "lr_scheduler = ReduceLROnPlateau(monitor='val_loss', factor=0.5, patience=3, min_lr=1e-6)\n",
    "\n",
    "vgg19_lstm_model.compile(\n",
    "    loss='categorical_crossentropy',\n",
    "    optimizer=tf.keras.optimizers.Adam(learning_rate=0.001),  # Higher learning rate for initial training\n",
    "    metrics=['accuracy']\n",
    ")\n",
    "\n",
    "# Print dataset summary\n",
    "print(f\"Dataset - {DATASET_NAME}\")\n",
    "print(f\"There are total {len(ALL_CLASS_NAMES)} classes, selected {NO_OF_CLASSES} classes\")\n",
    "print(f\"Setting {MAX_VIDEO_PER_CLASS} videos/class to train the model.\")\n",
    "print(f\"Image size {IMAGE_HEIGHT}x{IMAGE_WIDTH} with {SEQUENCE_LENGTH} sequence length\")\n",
    "print(f\"Dropout rate: {DROPOUT_RATE}\")\n",
    "print(f\"Train-Test split ratio {int((1-TEST_SIZE)*100)}/{int(TEST_SIZE*100)}\")\n",
    "print(f\"Validation data from Train set {VALIDATION_SPLIT*100}%\")\n",
    "print(\"\\n\")\n",
    "\n",
    "# Initial training with frozen base model\n",
    "print(f\"Initial training started for VGG19+LSTM model with {len(train_gen.videos)} videos of {NO_OF_CLASSES} classes with {len(val_gen.videos)} videos for validation...\")\n",
    "try:\n",
    "    vgg19_history_initial = vgg19_lstm_model.fit(\n",
    "        train_gen.as_dataset(),\n",
    "        validation_data=val_gen.as_dataset(),\n",
    "        epochs=EPOCHS,\n",
    "        class_weight=class_weights,\n",
    "        callbacks=[early_stopping_callback, lr_scheduler]\n",
    "    )\n",
    "except Exception as e:\n",
    "    print(f\"Error during initial model training: {str(e)}\")\n",
    "    import traceback\n",
    "    traceback.print_exc()\n",
    "\n",
    "# Unfreeze some layers for fine-tuning\n",
    "base_model.trainable = True\n",
    "# Freeze all layers except the last 8 layers (consistent with previous VGG19 code)\n",
    "for layer in base_model.layers[:-8]:\n",
    "    layer.trainable = False\n",
    "\n",
    "# Recompile the model with a lower learning rate for fine-tuning\n",
    "vgg19_lstm_model.compile(\n",
    "    loss='categorical_crossentropy',\n",
    "    optimizer=tf.keras.optimizers.Adam(learning_rate=0.0001),  # Lower learning rate for fine-tuning\n",
    "    metrics=['accuracy']\n",
    ")\n",
    "\n",
    "# Fine-tune the model\n",
    "print(f\"\\nFine-tuning started for VGG19+LSTM model with {len(train_gen.videos)} videos of {NO_OF_CLASSES} classes with {len(val_gen.videos)} videos for validation...\")\n",
    "try:\n",
    "    vgg19_history_fine = vgg19_lstm_model.fit(\n",
    "        train_gen.as_dataset(),\n",
    "        validation_data=val_gen.as_dataset(),\n",
    "        epochs=EPOCHS,\n",
    "        class_weight=class_weights,\n",
    "        callbacks=[early_stopping_callback, lr_scheduler]\n",
    "    )\n",
    "except Exception as e:\n",
    "    print(f\"Error during fine-tuning: {str(e)}\")\n",
    "    import traceback\n",
    "    traceback.print_exc()\n",
    "\n",
    "# Evaluate the model on the test set\n",
    "print(\"\\nEvaluating VGG19+LSTM model on test set...\")\n",
    "test_gen = VideoDataGenerator(\n",
    "    videos=features_test,\n",
    "    labels=labels_test,\n",
    "    batch_size=BATCH_SIZE\n",
    ")\n",
    "try:\n",
    "    videos, labels = test_gen[0]\n",
    "    print(f\"test_gen batch videos shape: {videos.shape}\")\n",
    "    print(f\"test_gen batch labels shape: {labels.shape}\")\n",
    "    loss, accuracy = vgg19_lstm_model.evaluate(test_gen.as_dataset())\n",
    "    print(f'VGG19+LSTM Test Loss: {loss:.4f}')\n",
    "    print(f'VGG19+LSTM Test Accuracy: {accuracy * 100:.2f}%')\n",
    "except Exception as e:\n",
    "    print(f\"Error during model evaluation: {str(e)}\")\n",
    "    import traceback\n",
    "    traceback.print_exc()\n",
    "\n",
    "# Plot training history (combine initial and fine-tuning)\n",
    "import matplotlib.pyplot as plt\n",
    "\n",
    "try:\n",
    "    # Combine histories\n",
    "    history_accuracy = vgg19_history_initial.history['accuracy'] + vgg19_history_fine.history['accuracy']\n",
    "    history_val_accuracy = vgg19_history_initial.history['val_accuracy'] + vgg19_history_fine.history['val_accuracy']\n",
    "    history_loss = vgg19_history_initial.history['loss'] + vgg19_history_fine.history['loss']\n",
    "    history_val_loss = vgg19_history_initial.history['val_loss'] + vgg19_history_fine.history['val_loss']\n",
    "\n",
    "    plt.figure(figsize=(12, 5))\n",
    "\n",
    "    # Accuracy\n",
    "    plt.subplot(1, 2, 1)\n",
    "    plt.plot(history_accuracy, label='Train Accuracy')\n",
    "    plt.plot(history_val_accuracy, label='Validation Accuracy')\n",
    "    plt.axvline(x=len(vgg19_history_initial.history['accuracy']), color='r', linestyle='--', label='Start Fine-Tuning')\n",
    "    plt.title('VGG19+LSTM Model Accuracy')\n",
    "    plt.xlabel('Epoch')\n",
    "    plt.ylabel('Accuracy')\n",
    "    plt.legend()\n",
    "\n",
    "    # Loss\n",
    "    plt.subplot(1, 2, 2)\n",
    "    plt.plot(history_loss, label='Train Loss')\n",
    "    plt.plot(history_val_loss, label='Validation Loss')\n",
    "    plt.axvline(x=len(vgg19_history_initial.history['loss']), color='r', linestyle='--', label='Start Fine-Tuning')\n",
    "    plt.title('VGG19+LSTM Model Loss')\n",
    "    plt.xlabel('Epoch')\n",
    "    plt.ylabel('Loss')\n",
    "    plt.legend()\n",
    "\n",
    "    plt.tight_layout()\n",
    "    plt.show()\n",
    "except Exception as e:\n",
    "    print(f\"Error plotting training history: {str(e)}\")\n",
    "\n",
    "# Generate confusion matrix and classification report\n",
    "from sklearn.metrics import classification_report, confusion_matrix\n",
    "import seaborn as sns\n",
    "\n",
    "# Get predictions\n",
    "try:\n",
    "    predictions = vgg19_lstm_model.predict(test_gen.as_dataset())\n",
    "    predicted_classes = np.argmax(predictions, axis=1)\n",
    "    true_classes = np.argmax(labels_test, axis=1)\n",
    "\n",
    "    # Verify shapes\n",
    "    print(f\"True classes shape: {true_classes.shape}\")\n",
    "    print(f\"Predicted classes shape: {predicted_classes.shape}\")\n",
    "    assert len(true_classes) == len(predicted_classes), \"Sample counts do not match!\"\n",
    "\n",
    "    # Generate classification report\n",
    "    print(\"\\nVGG19+LSTM Classification Report:\")\n",
    "    print(classification_report(true_classes, predicted_classes, target_names=CLASSES_LIST))\n",
    "\n",
    "    # Plot confusion matrix\n",
    "    cm = confusion_matrix(true_classes, predicted_classes)\n",
    "    plt.figure(figsize=(8, 6))\n",
    "    sns.heatmap(cm, annot=True, fmt='d', cmap='Blues', xticklabels=CLASSES_LIST, yticklabels=CLASSES_LIST)\n",
    "    plt.xlabel('Predicted')\n",
    "    plt.ylabel('True')\n",
    "    plt.title('VGG19+LSTM Confusion Matrix')\n",
    "    plt.show()\n",
    "except Exception as e:\n",
    "    print(f\"Error during prediction or plotting: {str(e)}\")\n",
    "    import traceback\n",
    "    traceback.print_exc()"
   ]
  },
  {
   "cell_type": "code",
   "execution_count": 56,
   "id": "9ed7faad",
   "metadata": {
    "execution": {
     "iopub.execute_input": "2025-07-11T14:50:30.029438Z",
     "iopub.status.busy": "2025-07-11T14:50:30.028880Z",
     "iopub.status.idle": "2025-07-11T14:50:34.099724Z",
     "shell.execute_reply": "2025-07-11T14:50:34.098947Z"
    },
    "papermill": {
     "duration": 4.149211,
     "end_time": "2025-07-11T14:50:34.100876",
     "exception": false,
     "start_time": "2025-07-11T14:50:29.951665",
     "status": "completed"
    },
    "tags": []
   },
   "outputs": [
    {
     "name": "stdout",
     "output_type": "stream",
     "text": [
      "\u001b[1m5/5\u001b[0m \u001b[32m━━━━━━━━━━━━━━━━━━━━\u001b[0m\u001b[37m\u001b[0m \u001b[1m4s\u001b[0m 504ms/step - accuracy: 0.9869 - loss: 0.9206\n"
     ]
    }
   ],
   "source": [
    "# previous code\n",
    "model_evaluation_history = vgg19_lstm_model.evaluate(features_test, labels_test)"
   ]
  }
 ],
 "metadata": {
  "kaggle": {
   "accelerator": "nvidiaTeslaT4",
   "dataSources": [
    {
     "datasetId": 1357563,
     "sourceId": 2256095,
     "sourceType": "datasetVersion"
    },
    {
     "datasetId": 7763484,
     "sourceId": 12338519,
     "sourceType": "datasetVersion"
    },
    {
     "datasetId": 7801555,
     "sourceId": 12373067,
     "sourceType": "datasetVersion"
    },
    {
     "datasetId": 7801884,
     "sourceId": 12373562,
     "sourceType": "datasetVersion"
    },
    {
     "datasetId": 7818195,
     "sourceId": 12397892,
     "sourceType": "datasetVersion"
    }
   ],
   "dockerImageVersionId": 31041,
   "isGpuEnabled": true,
   "isInternetEnabled": true,
   "language": "python",
   "sourceType": "notebook"
  },
  "kernelspec": {
   "display_name": "Python 3",
   "language": "python",
   "name": "python3"
  },
  "language_info": {
   "codemirror_mode": {
    "name": "ipython",
    "version": 3
   },
   "file_extension": ".py",
   "mimetype": "text/x-python",
   "name": "python",
   "nbconvert_exporter": "python",
   "pygments_lexer": "ipython3",
   "version": "3.11.11"
  },
  "papermill": {
   "default_parameters": {},
   "duration": 561.466161,
   "end_time": "2025-07-11T14:50:37.381650",
   "environment_variables": {},
   "exception": null,
   "input_path": "__notebook__.ipynb",
   "output_path": "__notebook__.ipynb",
   "parameters": {},
   "start_time": "2025-07-11T14:41:15.915489",
   "version": "2.6.0"
  }
 },
 "nbformat": 4,
 "nbformat_minor": 5
}
