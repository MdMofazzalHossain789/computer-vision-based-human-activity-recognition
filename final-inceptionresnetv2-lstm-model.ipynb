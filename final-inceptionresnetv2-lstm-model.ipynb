{
 "cells": [
  {
   "cell_type": "markdown",
   "id": "024b900a",
   "metadata": {
    "papermill": {
     "duration": 0.009479,
     "end_time": "2025-07-11T09:44:56.578521",
     "exception": false,
     "start_time": "2025-07-11T09:44:56.569042",
     "status": "completed"
    },
    "tags": []
   },
   "source": [
    "# Initialization\n",
    "## Import Libraries"
   ]
  },
  {
   "cell_type": "code",
   "execution_count": 1,
   "id": "62434567",
   "metadata": {
    "_cell_guid": "b1076dfc-b9ad-4769-8c92-a6c4dae69d19",
    "_uuid": "8f2839f25d086af736a60e9eeb907d3b93b6e0e5",
    "execution": {
     "iopub.execute_input": "2025-07-11T09:44:56.598419Z",
     "iopub.status.busy": "2025-07-11T09:44:56.598178Z",
     "iopub.status.idle": "2025-07-11T09:45:10.863551Z",
     "shell.execute_reply": "2025-07-11T09:45:10.862750Z"
    },
    "papermill": {
     "duration": 14.277052,
     "end_time": "2025-07-11T09:45:10.864891",
     "exception": false,
     "start_time": "2025-07-11T09:44:56.587839",
     "status": "completed"
    },
    "tags": []
   },
   "outputs": [
    {
     "name": "stderr",
     "output_type": "stream",
     "text": [
      "2025-07-11 09:44:57.958715: E external/local_xla/xla/stream_executor/cuda/cuda_fft.cc:477] Unable to register cuFFT factory: Attempting to register factory for plugin cuFFT when one has already been registered\n",
      "WARNING: All log messages before absl::InitializeLog() is called are written to STDERR\n",
      "E0000 00:00:1752227098.134542      19 cuda_dnn.cc:8310] Unable to register cuDNN factory: Attempting to register factory for plugin cuDNN when one has already been registered\n",
      "E0000 00:00:1752227098.186073      19 cuda_blas.cc:1418] Unable to register cuBLAS factory: Attempting to register factory for plugin cuBLAS when one has already been registered\n"
     ]
    }
   ],
   "source": [
    "# install librarires\n",
    "import os\n",
    "import tensorflow as tf\n",
    "import numpy as np\n",
    "import random"
   ]
  },
  {
   "cell_type": "markdown",
   "id": "5b6b7760",
   "metadata": {
    "papermill": {
     "duration": 0.00859,
     "end_time": "2025-07-11T09:45:10.882631",
     "exception": false,
     "start_time": "2025-07-11T09:45:10.874041",
     "status": "completed"
    },
    "tags": []
   },
   "source": [
    "## ℹ️ Set Global Constants"
   ]
  },
  {
   "cell_type": "code",
   "execution_count": 2,
   "id": "508c69ee",
   "metadata": {
    "execution": {
     "iopub.execute_input": "2025-07-11T09:45:10.900179Z",
     "iopub.status.busy": "2025-07-11T09:45:10.899503Z",
     "iopub.status.idle": "2025-07-11T09:45:10.913428Z",
     "shell.execute_reply": "2025-07-11T09:45:10.912726Z"
    },
    "papermill": {
     "duration": 0.023498,
     "end_time": "2025-07-11T09:45:10.914402",
     "exception": false,
     "start_time": "2025-07-11T09:45:10.890904",
     "status": "completed"
    },
    "tags": []
   },
   "outputs": [
    {
     "name": "stdout",
     "output_type": "stream",
     "text": [
      "Msrdailyactivity3D Rgb Videos Only\n",
      "There are total 16 classes, selected 16 classes\n",
      "Setting 20/class to train the model.\n",
      "Image size 128x128 with 5 sequence length\n",
      "Dropout rate: 0.5\n",
      "Train-Test split ratio 80/20\n",
      "Validation data from Train set 20.0%\n"
     ]
    }
   ],
   "source": [
    "# global variables\n",
    "# set dataset directories\n",
    "\n",
    "\n",
    "DATASET_DIR = \"/kaggle/input/msrdailyactivity3d-rgb-videos-only\"\n",
    "DATASET_NAME = DATASET_DIR.split(\"/\")[-1].replace(\"-\", \" \").title()\n",
    "\n",
    "print(DATASET_NAME)\n",
    "\n",
    "ALL_CLASS_NAMES = os.listdir(DATASET_DIR)\n",
    "\n",
    "# Global constant variables -> \n",
    "NO_OF_CLASSES = 16\n",
    "CLASSES_LIST = ALL_CLASS_NAMES[:NO_OF_CLASSES]\n",
    "\n",
    "# Model Configuration\n",
    "IMAGE_HEIGHT, IMAGE_WIDTH = 128, 128\n",
    "SEQUENCE_LENGTH = 5\n",
    "\n",
    "# set drop out rate\n",
    "DROPOUT_RATE = 0.5\n",
    "\n",
    "# set datas\n",
    "MAX_VIDEO_PER_CLASS = 20\n",
    "\n",
    "# split dataset\n",
    "TEST_SIZE = 0.20\n",
    "\n",
    "# model fit parameters\n",
    "EPOCHS = 30\n",
    "BATCH_SIZE = 24\n",
    "VALIDATION_SPLIT = 0.20\n",
    "\n",
    "# augmentation values\n",
    "NOISE_FACTOR = 0.02\n",
    "SHEAR_X= 1\n",
    "SHEAR_Y= 1\n",
    "\n",
    "# give a name of the model to save\n",
    "MODEL_NAME = \"Xception\"\n",
    "\n",
    "print(f\"There are total {len(ALL_CLASS_NAMES)} classes, selected {NO_OF_CLASSES} classes\")\n",
    "print(f\"Setting {MAX_VIDEO_PER_CLASS}/class to train the model.\")\n",
    "print(f\"Image size {IMAGE_HEIGHT}x{IMAGE_WIDTH} with {SEQUENCE_LENGTH} sequence length\")\n",
    "print(f\"Dropout rate: {DROPOUT_RATE}\")\n",
    "print(f\"Train-Test split ratio {int((1-TEST_SIZE)*100)}/{int(TEST_SIZE*100)}\")\n",
    "print(f\"Validation data from Train set {VALIDATION_SPLIT*100}%\")"
   ]
  },
  {
   "cell_type": "markdown",
   "id": "326f2387",
   "metadata": {
    "papermill": {
     "duration": 0.008328,
     "end_time": "2025-07-11T09:45:10.931733",
     "exception": false,
     "start_time": "2025-07-11T09:45:10.923405",
     "status": "completed"
    },
    "tags": []
   },
   "source": [
    "## Set `Seed` Values"
   ]
  },
  {
   "cell_type": "code",
   "execution_count": 3,
   "id": "cec68286",
   "metadata": {
    "execution": {
     "iopub.execute_input": "2025-07-11T09:45:10.949256Z",
     "iopub.status.busy": "2025-07-11T09:45:10.948986Z",
     "iopub.status.idle": "2025-07-11T09:45:10.952746Z",
     "shell.execute_reply": "2025-07-11T09:45:10.952177Z"
    },
    "papermill": {
     "duration": 0.01369,
     "end_time": "2025-07-11T09:45:10.953684",
     "exception": false,
     "start_time": "2025-07-11T09:45:10.939994",
     "status": "completed"
    },
    "tags": []
   },
   "outputs": [],
   "source": [
    "# set seeed to get similar values\n",
    "seed_constant = 27\n",
    "np.random.seed(seed_constant)\n",
    "random.seed(seed_constant)\n",
    "tf.random.set_seed(seed_constant)"
   ]
  },
  {
   "cell_type": "markdown",
   "id": "5aac3986",
   "metadata": {
    "papermill": {
     "duration": 0.008471,
     "end_time": "2025-07-11T09:45:10.971202",
     "exception": false,
     "start_time": "2025-07-11T09:45:10.962731",
     "status": "completed"
    },
    "tags": []
   },
   "source": [
    "# 📌 Function Definition\n",
    "## Resize and Frame Extraction"
   ]
  },
  {
   "cell_type": "code",
   "execution_count": 4,
   "id": "cbedf53b",
   "metadata": {
    "execution": {
     "iopub.execute_input": "2025-07-11T09:45:10.989722Z",
     "iopub.status.busy": "2025-07-11T09:45:10.989515Z",
     "iopub.status.idle": "2025-07-11T09:45:10.998201Z",
     "shell.execute_reply": "2025-07-11T09:45:10.997490Z"
    },
    "papermill": {
     "duration": 0.019456,
     "end_time": "2025-07-11T09:45:10.999372",
     "exception": false,
     "start_time": "2025-07-11T09:45:10.979916",
     "status": "completed"
    },
    "tags": []
   },
   "outputs": [],
   "source": [
    "import cv2\n",
    "from concurrent.futures import ThreadPoolExecutor\n",
    "\n",
    "def resize_and_normalize_frame(frame, image_height, image_width):\n",
    "    try:\n",
    "        resized_frame = cv2.resize(frame, (image_width, image_height), interpolation=cv2.INTER_LINEAR)\n",
    "        normalized_frame = resized_frame / 255.0\n",
    "        return normalized_frame\n",
    "    except Exception as e:\n",
    "        print(f\"Error processing frame: {e}\")\n",
    "        return None\n",
    "\n",
    "def frames_extraction(video_path, \n",
    "                      sequence_length=SEQUENCE_LENGTH, \n",
    "                      image_height=IMAGE_HEIGHT, \n",
    "                      image_width=IMAGE_WIDTH):\n",
    "    # Declare a list to store video frames\n",
    "    frames_list = []\n",
    "\n",
    "    # Check if video file exists\n",
    "    if not os.path.exists(video_path):\n",
    "        print(f\"Error: Video file not found at {video_path}\")\n",
    "        return None\n",
    "\n",
    "    # Read the video file using VideoCapture with optimized settings\n",
    "    video_reader = cv2.VideoCapture(video_path, cv2.CAP_FFMPEG)\n",
    "\n",
    "    # Check if the video was opened successfully\n",
    "    if not video_reader.isOpened():\n",
    "        print(f\"Error: Could not open video file {video_path}\")\n",
    "        video_reader.release()\n",
    "        return None\n",
    "\n",
    "    # Get the total number of frames in the video\n",
    "    video_frames_count = int(video_reader.get(cv2.CAP_PROP_FRAME_COUNT))\n",
    "\n",
    "    # Ensure the video has enough frames\n",
    "    if video_frames_count < sequence_length:\n",
    "        print(f\"Warning: Video {video_path} has only {video_frames_count} frames, less than required {sequence_length}\")\n",
    "        video_reader.release()\n",
    "        return None\n",
    "\n",
    "    # Calculate the interval after which frames will be sampled\n",
    "    skip_frames_window = max(int(video_frames_count / sequence_length), 1)\n",
    "\n",
    "    # Pre-allocate frame indices to extract\n",
    "    frame_indices = [i * skip_frames_window for i in range(sequence_length)]\n",
    "\n",
    "    # Read and process frames in parallel\n",
    "    frames = []\n",
    "    for idx in frame_indices:\n",
    "        video_reader.set(cv2.CAP_PROP_POS_FRAMES, idx)\n",
    "        success, frame = video_reader.read()\n",
    "        if not success or frame is None:\n",
    "            print(f\"Warning: Failed to read frame at index {idx} from {video_path}\")\n",
    "            break\n",
    "        frame = cv2.cvtColor(frame, cv2.COLOR_BGR2RGB)\n",
    "        frames.append(frame)\n",
    "\n",
    "    # Release the VideoCapture object early\n",
    "    video_reader.release()\n",
    "\n",
    "    # Ensure the correct number of frames is read\n",
    "    if len(frames) != sequence_length:\n",
    "        print(f\"Warning: Read {len(frames)} frames instead of {sequence_length} from {video_path}\")\n",
    "        return None\n",
    "\n",
    "    # Process frames in parallel using ThreadPoolExecutor\n",
    "    with ThreadPoolExecutor() as executor:\n",
    "        processed_frames = list(executor.map(\n",
    "            lambda f: resize_and_normalize_frame(f, image_height, image_width), \n",
    "            frames\n",
    "        ))\n",
    "\n",
    "    # Check for any failed frame processing\n",
    "    if any(f is None for f in processed_frames):\n",
    "        print(f\"Warning: Some frames failed to process in {video_path}\")\n",
    "        return None\n",
    "\n",
    "    # Convert to NumPy array\n",
    "    frames_array = np.array(processed_frames, dtype=np.float32)\n",
    "\n",
    "    return frames_array"
   ]
  },
  {
   "cell_type": "code",
   "execution_count": 5,
   "id": "f1634631",
   "metadata": {
    "execution": {
     "iopub.execute_input": "2025-07-11T09:45:11.017010Z",
     "iopub.status.busy": "2025-07-11T09:45:11.016522Z",
     "iopub.status.idle": "2025-07-11T09:45:11.019721Z",
     "shell.execute_reply": "2025-07-11T09:45:11.019207Z"
    },
    "papermill": {
     "duration": 0.01277,
     "end_time": "2025-07-11T09:45:11.020669",
     "exception": false,
     "start_time": "2025-07-11T09:45:11.007899",
     "status": "completed"
    },
    "tags": []
   },
   "outputs": [],
   "source": [
    " # # Iterate through all video files\n",
    " #        for file_name in files_list:\n",
    " #            video_file_path = os.path.join(class_path, file_name)\n",
    "\n",
    " #            # Extract frames using the updated frames_extraction function\n",
    " #            frames = frames_extraction(video_file_path, sequence_length, image_height, image_width)\n",
    "\n",
    " #            # Skip videos where frame extraction failed\n",
    " #            if frames is None:\n",
    " #                print(f\"Skipping video {video_file_path} due to frame extraction failure\")\n",
    " #                continue\n",
    "\n",
    " #            # Append the data to respective lists\n",
    " #            features.append(frames)\n",
    " #            labels.append(class_index)"
   ]
  },
  {
   "cell_type": "markdown",
   "id": "ffce0760",
   "metadata": {
    "papermill": {
     "duration": 0.007771,
     "end_time": "2025-07-11T09:45:11.036383",
     "exception": false,
     "start_time": "2025-07-11T09:45:11.028612",
     "status": "completed"
    },
    "tags": []
   },
   "source": [
    "## Create Dataset"
   ]
  },
  {
   "cell_type": "code",
   "execution_count": 6,
   "id": "e0532573",
   "metadata": {
    "execution": {
     "iopub.execute_input": "2025-07-11T09:45:11.053245Z",
     "iopub.status.busy": "2025-07-11T09:45:11.052996Z",
     "iopub.status.idle": "2025-07-11T09:45:11.058662Z",
     "shell.execute_reply": "2025-07-11T09:45:11.058230Z"
    },
    "papermill": {
     "duration": 0.015428,
     "end_time": "2025-07-11T09:45:11.059686",
     "exception": false,
     "start_time": "2025-07-11T09:45:11.044258",
     "status": "completed"
    },
    "tags": []
   },
   "outputs": [],
   "source": [
    "# RUN create dataset function definition\n",
    "def create_dataset(dataset_dir,\n",
    "                   classes_list, \n",
    "                   sequence_length=SEQUENCE_LENGTH, \n",
    "                   image_height=IMAGE_HEIGHT, \n",
    "                   image_width=IMAGE_WIDTH, \n",
    "                   max_videos_per_class=None,\n",
    "                   augmentations=False\n",
    "                  ):\n",
    "    \n",
    "    # Initialize lists to store features, labels, and video file paths\n",
    "    videos = []\n",
    "    labels = []\n",
    "\n",
    "    # Check if dataset directory exists\n",
    "    if not os.path.exists(dataset_dir):\n",
    "        raise FileNotFoundError(f\"Dataset directory not found: {dataset_dir}\")\n",
    "\n",
    "    # Iterate through all classes in the classes list\n",
    "    for class_index, class_name in enumerate(classes_list):\n",
    "        class_path = os.path.join(dataset_dir, class_name)\n",
    "        \n",
    "        # Check if class directory exists\n",
    "        if not os.path.exists(class_path):\n",
    "            print(f\"Warning: Class directory not found: {class_path}\")\n",
    "            continue\n",
    "\n",
    "        print(f'Extracting Data of Class: {class_name}')\n",
    "\n",
    "        # Get the list of video files in the class directory\n",
    "        files_list = os.listdir(class_path)\n",
    "\n",
    "        # Limit the number of videos if specified\n",
    "        if max_videos_per_class is not None:\n",
    "            files_list = files_list[:max_videos_per_class]\n",
    "\n",
    "        # Iterate through all video files\n",
    "        for file_name in files_list:\n",
    "            video_file_path = os.path.join(class_path, file_name)\n",
    "\n",
    "            # Extract frames using the updated frames_extraction function\n",
    "            frames = frames_extraction(video_file_path, \n",
    "                                       sequence_length, \n",
    "                                       image_height, \n",
    "                                       image_width)\n",
    "\n",
    "            # Skip videos where frame extraction failed\n",
    "            if frames is None:\n",
    "                print(f\"Skipping video {video_file_path} due to frame extraction failure\")\n",
    "                continue\n",
    "\n",
    "            # Append the data to respective lists\n",
    "            videos.append(frames)\n",
    "            labels.append(class_index)\n",
    "\n",
    "    # Convert lists to numpy arrays\n",
    "    if not videos:\n",
    "        raise ValueError(\"No valid videos were processed. Check dataset or parameters.\")\n",
    "    videos = np.asarray(videos)\n",
    "    labels = np.array(labels)\n",
    "\n",
    "    print(f\"Dataset created with {len(videos)} videos\")\n",
    "    print(f\"Features shape: {videos.shape}\")\n",
    "    print(f\"Labels shape: {labels.shape}\")\n",
    "\n",
    "    return videos, labels"
   ]
  },
  {
   "cell_type": "markdown",
   "id": "5127d43a",
   "metadata": {
    "papermill": {
     "duration": 0.007816,
     "end_time": "2025-07-11T09:45:11.075552",
     "exception": false,
     "start_time": "2025-07-11T09:45:11.067736",
     "status": "completed"
    },
    "tags": []
   },
   "source": [
    "## 🪄 Video Data Generator"
   ]
  },
  {
   "cell_type": "code",
   "execution_count": 7,
   "id": "5576b801",
   "metadata": {
    "execution": {
     "iopub.execute_input": "2025-07-11T09:45:11.092348Z",
     "iopub.status.busy": "2025-07-11T09:45:11.092169Z",
     "iopub.status.idle": "2025-07-11T09:45:11.154413Z",
     "shell.execute_reply": "2025-07-11T09:45:11.153908Z"
    },
    "papermill": {
     "duration": 0.071931,
     "end_time": "2025-07-11T09:45:11.155457",
     "exception": false,
     "start_time": "2025-07-11T09:45:11.083526",
     "status": "completed"
    },
    "tags": []
   },
   "outputs": [],
   "source": [
    "from tensorflow.keras.utils import Sequence, to_categorical\n",
    "import tensorflow as tf\n",
    "import numpy as np\n",
    "import cv2\n",
    "\n",
    "\n",
    "\n",
    "\n",
    "class VideoDataGenerator(Sequence):\n",
    "    def __init__(self, videos, labels, batch_size, is_training=False):\n",
    "        self.videos = list(videos)  # List of video file paths\n",
    "        self.labels = list(labels)  # List or array of labels encoded\n",
    "        self.batch_size = batch_size\n",
    "        self.indices = np.arange(len(self.videos))  # For shuffling\n",
    "        self.is_training = is_training  # Flag to control whether augmentation is applied\n",
    "        self.temp_videos=[]\n",
    "        self.temp_labels=[]\n",
    "        \n",
    "        \n",
    "        print(f\"Total {len(videos)} videos and {len(labels)} classes\")\n",
    "\n",
    "    def __len__(self):\n",
    "        # Return the number of batches per epoch\n",
    "        return int(np.ceil(len(self.videos) / self.batch_size))\n",
    "\n",
    "    def __getitem__(self, idx):\n",
    "        # Get batch indices\n",
    "        batch_indices = self.indices[idx * self.batch_size:(idx + 1) * self.batch_size]\n",
    "        \n",
    "        # Handle case where batch_indices is empty\n",
    "        if len(batch_indices) == 0:\n",
    "            return np.array([], dtype=np.float32), np.array([], dtype=np.float32)\n",
    "        \n",
    "        # Initialize lists to store frames and labels\n",
    "        all_frames = []\n",
    "        all_labels = []\n",
    "        \n",
    "        # Process each video in the batch\n",
    "        for i, index in enumerate(batch_indices):\n",
    "            sequence = self.videos[index]\n",
    "            label = self.labels[index]\n",
    "            \n",
    "            # Load and process video\n",
    "            # sequence = frames_extraction(video_path)\n",
    "\n",
    "            # if sequence is not None:\n",
    "            #     # Apply augmentations: 1 original + 4 augmentations (horizontal flip, shear, rotation, noise)\n",
    "            #     augmented_sequences = [sequence]  # Add original sequence\n",
    "\n",
    "            #     if self.is_training:\n",
    "            #         # Apply augmentations\n",
    "            #         augmented_sequences.append(np.array(horizontal_flip(sequence)))  # Horizontal Flip\n",
    "            #         augmented_sequences.append(np.array(apply_shear_frames(sequence, shear_right=0)))  # Random Shear\n",
    "            #         augmented_sequences.append(np.array(apply_shear_frames(sequence, shear_right=1)))  # Random Rotation\n",
    "            #         augmented_sequences.append(np.array(noise_video(sequence)))  # Salt and Pepper Noise\n",
    "\n",
    "            #     # Add augmented sequences to the batch\n",
    "            #     all_frames.extend(augmented_sequences)\n",
    "            #     all_labels.extend([label] * len(augmented_sequences))  # Each augmentation has the same label\n",
    "\n",
    "            \n",
    "            # Append the sequence and label\n",
    "            all_frames.append(sequence)\n",
    "            all_labels.append(label)\n",
    "        \n",
    "        # Convert to numpy arrays\n",
    "        all_frames = np.array(all_frames, dtype=np.float32)\n",
    "        all_labels = np.array(all_labels)\n",
    "            \n",
    "        \n",
    "        return all_frames, all_labels\n",
    "    def add(self, new_videos, new_labels):\n",
    "        self.temp_videos.extend(new_videos)\n",
    "        self.temp_labels.extend(new_labels)\n",
    "    \n",
    "    def confirm(self):\n",
    "        print(f\"Adding {len(self.temp_videos)} videos with {len(self.temp_labels)} classes.\")\n",
    "        self.videos.extend(self.temp_videos)\n",
    "        self.labels.extend(self.temp_labels)\n",
    "        print(f\"Successfully added - {len(self.temp_videos)} videos and {len(self.temp_labels)} classes.\")\n",
    "        self.temp_videos=[]\n",
    "        self.temp_labels=[]\n",
    "        self.indices = np.arange(len(self.videos))\n",
    "        print(f\"Now Total - {len(self.videos)} videos and {len(self.labels)} classes.\")\n",
    "        print(f\"PENDING for Augmentations - {len(self.temp_videos)} videos and {len(self.temp_labels)} classes.\")\n",
    "    \n",
    "    def on_epoch_end(self):\n",
    "        # Shuffle indices at the end of each epoch\n",
    "        np.random.shuffle(self.indices)\n",
    "\n",
    "    def as_dataset(self):\n",
    "        def generator():\n",
    "            for idx in range(len(self)):\n",
    "                frames, labels = self[idx]\n",
    "                # Skip empty batches\n",
    "                if frames.size == 0:\n",
    "                    continue\n",
    "                yield frames, labels\n",
    "        self.labels=np.array(self.labels)\n",
    "    \n",
    "        # Create a tf.data.Dataset\n",
    "        dataset = tf.data.Dataset.from_generator(\n",
    "            generator,\n",
    "            output_types=(tf.float32, tf.float32),\n",
    "            output_shapes=(\n",
    "                (None, SEQUENCE_LENGTH, IMAGE_HEIGHT, IMAGE_WIDTH, 3),\n",
    "                (None, NO_OF_CLASSES)\n",
    "            )\n",
    "        )\n",
    "        dataset = dataset.prefetch(tf.data.AUTOTUNE)\n",
    "        return dataset"
   ]
  },
  {
   "cell_type": "markdown",
   "id": "375d5527",
   "metadata": {
    "papermill": {
     "duration": 0.00779,
     "end_time": "2025-07-11T09:45:11.171441",
     "exception": false,
     "start_time": "2025-07-11T09:45:11.163651",
     "status": "completed"
    },
    "tags": []
   },
   "source": [
    "## Debug and Helpers"
   ]
  },
  {
   "cell_type": "markdown",
   "id": "14896ef4",
   "metadata": {
    "papermill": {
     "duration": 0.007709,
     "end_time": "2025-07-11T09:45:11.187118",
     "exception": false,
     "start_time": "2025-07-11T09:45:11.179409",
     "status": "completed"
    },
    "tags": []
   },
   "source": [
    "## 💫 Augmentation Helper function"
   ]
  },
  {
   "cell_type": "code",
   "execution_count": 8,
   "id": "74ccce70",
   "metadata": {
    "execution": {
     "iopub.execute_input": "2025-07-11T09:45:11.246770Z",
     "iopub.status.busy": "2025-07-11T09:45:11.246187Z",
     "iopub.status.idle": "2025-07-11T09:45:11.250816Z",
     "shell.execute_reply": "2025-07-11T09:45:11.250292Z"
    },
    "papermill": {
     "duration": 0.014643,
     "end_time": "2025-07-11T09:45:11.251814",
     "exception": false,
     "start_time": "2025-07-11T09:45:11.237171",
     "status": "completed"
    },
    "tags": []
   },
   "outputs": [],
   "source": [
    "import time\n",
    "\n",
    "    \n",
    "\n",
    "def apply_augmentation(augmentation_function, generator, confirm=False, *args, **kwargs):\n",
    "    \n",
    "    for i in range(len(generator)):\n",
    "        batch_videos, batch_labels = generator[i]\n",
    "        augmented_videos=[]\n",
    "        for videos in batch_videos:\n",
    "            augmented_videos.append(augmentation_function(videos, *args, **kwargs))\n",
    "        generator.add(augmented_videos, batch_labels)\n",
    "        print(f\"Processing video {len(generator.temp_videos)}...\", end=\"\\r\", flush=True)\n",
    "        time.sleep(0.5)  # simulate work\n",
    "    if confirm:\n",
    "        generator.confirm()"
   ]
  },
  {
   "cell_type": "markdown",
   "id": "7f02c7f5",
   "metadata": {
    "papermill": {
     "duration": 0.007928,
     "end_time": "2025-07-11T09:45:11.267937",
     "exception": false,
     "start_time": "2025-07-11T09:45:11.260009",
     "status": "completed"
    },
    "tags": []
   },
   "source": [
    "### Show Frames"
   ]
  },
  {
   "cell_type": "code",
   "execution_count": 9,
   "id": "2865bc7e",
   "metadata": {
    "execution": {
     "iopub.execute_input": "2025-07-11T09:45:11.284832Z",
     "iopub.status.busy": "2025-07-11T09:45:11.284642Z",
     "iopub.status.idle": "2025-07-11T09:45:11.288274Z",
     "shell.execute_reply": "2025-07-11T09:45:11.287761Z"
    },
    "papermill": {
     "duration": 0.013339,
     "end_time": "2025-07-11T09:45:11.289236",
     "exception": false,
     "start_time": "2025-07-11T09:45:11.275897",
     "status": "completed"
    },
    "tags": []
   },
   "outputs": [],
   "source": [
    "# show frame def\n",
    "import matplotlib.pyplot as plt\n",
    "\n",
    "def show_frame(frame):\n",
    "    plt.figure(figsize=(3,3))\n",
    "    plt.imshow(frame)\n",
    "    plt.axis(\"off\")\n",
    "    plt.tight_layout()"
   ]
  },
  {
   "cell_type": "markdown",
   "id": "2d2a2897",
   "metadata": {
    "papermill": {
     "duration": 0.007958,
     "end_time": "2025-07-11T09:45:11.305464",
     "exception": false,
     "start_time": "2025-07-11T09:45:11.297506",
     "status": "completed"
    },
    "tags": []
   },
   "source": [
    "### Helper Function"
   ]
  },
  {
   "cell_type": "code",
   "execution_count": 10,
   "id": "deff9949",
   "metadata": {
    "execution": {
     "iopub.execute_input": "2025-07-11T09:45:11.323354Z",
     "iopub.status.busy": "2025-07-11T09:45:11.322750Z",
     "iopub.status.idle": "2025-07-11T09:45:11.327143Z",
     "shell.execute_reply": "2025-07-11T09:45:11.326457Z"
    },
    "papermill": {
     "duration": 0.01461,
     "end_time": "2025-07-11T09:45:11.328146",
     "exception": false,
     "start_time": "2025-07-11T09:45:11.313536",
     "status": "completed"
    },
    "tags": []
   },
   "outputs": [],
   "source": [
    "def show_frame_vs(frame1, frame2, title1=\"Frame 1\", title2=\"Frame 2\"):\n",
    "    plt.figure(figsize=(10, 5))\n",
    "\n",
    "    # First frame\n",
    "    plt.subplot(1, 2, 1)\n",
    "    plt.imshow(frame1)\n",
    "    plt.title(title1)\n",
    "    plt.axis('off')\n",
    "\n",
    "    # Second frame\n",
    "    plt.subplot(1, 2, 2)\n",
    "    plt.imshow(frame2)\n",
    "    plt.title(title2)\n",
    "    plt.axis('off')\n",
    "\n",
    "    plt.tight_layout()\n",
    "    plt.show()"
   ]
  },
  {
   "cell_type": "code",
   "execution_count": 11,
   "id": "77e32254",
   "metadata": {
    "execution": {
     "iopub.execute_input": "2025-07-11T09:45:11.345342Z",
     "iopub.status.busy": "2025-07-11T09:45:11.345131Z",
     "iopub.status.idle": "2025-07-11T09:45:11.348526Z",
     "shell.execute_reply": "2025-07-11T09:45:11.348052Z"
    },
    "papermill": {
     "duration": 0.013159,
     "end_time": "2025-07-11T09:45:11.349535",
     "exception": false,
     "start_time": "2025-07-11T09:45:11.336376",
     "status": "completed"
    },
    "tags": []
   },
   "outputs": [],
   "source": [
    "# reusable video loop helper function\n",
    "def apply_function(function, videos, *arg, **kwargs):\n",
    "    new_videos=[]\n",
    "    \n",
    "    for video in videos:\n",
    "        new_videos.append(function(video, *arg, **kwargs))\n",
    "        \n",
    "    return new_videos"
   ]
  },
  {
   "cell_type": "code",
   "execution_count": 12,
   "id": "d21e0478",
   "metadata": {
    "execution": {
     "iopub.execute_input": "2025-07-11T09:45:11.366700Z",
     "iopub.status.busy": "2025-07-11T09:45:11.366117Z",
     "iopub.status.idle": "2025-07-11T09:45:11.370255Z",
     "shell.execute_reply": "2025-07-11T09:45:11.369592Z"
    },
    "papermill": {
     "duration": 0.01362,
     "end_time": "2025-07-11T09:45:11.371268",
     "exception": false,
     "start_time": "2025-07-11T09:45:11.357648",
     "status": "completed"
    },
    "tags": []
   },
   "outputs": [],
   "source": [
    "# reusable video loop helper function\n",
    "def apply(function, videos, labels, *arg, **kwargs):\n",
    "    new_videos=[]\n",
    "    new_labels=[]\n",
    "    combined=zip(labels, videos)\n",
    "    \n",
    "    for label, video in combined:\n",
    "        new_videos.append(function(video, *arg, **kwargs))\n",
    "        new_labels.append(label)\n",
    "        \n",
    "    new_videos=np.asarray(new_videos)\n",
    "    new_labels=np.asarray(new_labels)\n",
    "    \n",
    "    return new_videos, new_labels"
   ]
  },
  {
   "cell_type": "markdown",
   "id": "a93c0f1d",
   "metadata": {
    "papermill": {
     "duration": 0.008003,
     "end_time": "2025-07-11T09:45:11.388370",
     "exception": false,
     "start_time": "2025-07-11T09:45:11.380367",
     "status": "completed"
    },
    "tags": []
   },
   "source": [
    "## Salt and Pepper Noise "
   ]
  },
  {
   "cell_type": "code",
   "execution_count": 13,
   "id": "324ce26d",
   "metadata": {
    "execution": {
     "iopub.execute_input": "2025-07-11T09:45:11.405198Z",
     "iopub.status.busy": "2025-07-11T09:45:11.404957Z",
     "iopub.status.idle": "2025-07-11T09:45:11.409297Z",
     "shell.execute_reply": "2025-07-11T09:45:11.408560Z"
    },
    "papermill": {
     "duration": 0.013896,
     "end_time": "2025-07-11T09:45:11.410353",
     "exception": false,
     "start_time": "2025-07-11T09:45:11.396457",
     "status": "completed"
    },
    "tags": []
   },
   "outputs": [],
   "source": [
    "# Noise function def\n",
    "\n",
    "def noise_video(video,noise_factor=NOISE_FACTOR):\n",
    "    noisy_video=[]\n",
    "    for frame in video:\n",
    "        # Generate random noise\n",
    "        noise = np.random.rand(*frame.shape)  # Generate random noise\n",
    "        salt_pepper_noise = np.random.choice([0, 1], size=frame.shape, p=[1-noise_factor, noise_factor])\n",
    "        noisy_frame = frame * (1 - salt_pepper_noise) + salt_pepper_noise * np.random.rand(*frame.shape)\n",
    "        noisy_video.append(noisy_frame)\n",
    "    return np.array(noisy_video)"
   ]
  },
  {
   "cell_type": "markdown",
   "id": "754f3022",
   "metadata": {
    "papermill": {
     "duration": 0.00776,
     "end_time": "2025-07-11T09:45:11.426097",
     "exception": false,
     "start_time": "2025-07-11T09:45:11.418337",
     "status": "completed"
    },
    "tags": []
   },
   "source": [
    "## Horizontal Flip"
   ]
  },
  {
   "cell_type": "code",
   "execution_count": 14,
   "id": "34907a82",
   "metadata": {
    "execution": {
     "iopub.execute_input": "2025-07-11T09:45:11.442572Z",
     "iopub.status.busy": "2025-07-11T09:45:11.442368Z",
     "iopub.status.idle": "2025-07-11T09:45:11.445699Z",
     "shell.execute_reply": "2025-07-11T09:45:11.445051Z"
    },
    "papermill": {
     "duration": 0.012737,
     "end_time": "2025-07-11T09:45:11.446672",
     "exception": false,
     "start_time": "2025-07-11T09:45:11.433935",
     "status": "completed"
    },
    "tags": []
   },
   "outputs": [],
   "source": [
    "# horizontal flip function def\n",
    "# Testing Flip feautes[0] -> first video\n",
    "def horizontal_flip(video):\n",
    "    return [tf.image.flip_left_right(frame) for frame in video]"
   ]
  },
  {
   "cell_type": "markdown",
   "id": "29614a62",
   "metadata": {
    "papermill": {
     "duration": 0.007798,
     "end_time": "2025-07-11T09:45:11.462442",
     "exception": false,
     "start_time": "2025-07-11T09:45:11.454644",
     "status": "completed"
    },
    "tags": []
   },
   "source": [
    "## Random Shear"
   ]
  },
  {
   "cell_type": "code",
   "execution_count": 15,
   "id": "7874882c",
   "metadata": {
    "execution": {
     "iopub.execute_input": "2025-07-11T09:45:11.479657Z",
     "iopub.status.busy": "2025-07-11T09:45:11.479135Z",
     "iopub.status.idle": "2025-07-11T09:45:11.484898Z",
     "shell.execute_reply": "2025-07-11T09:45:11.484252Z"
    },
    "papermill": {
     "duration": 0.015316,
     "end_time": "2025-07-11T09:45:11.485990",
     "exception": false,
     "start_time": "2025-07-11T09:45:11.470674",
     "status": "completed"
    },
    "tags": []
   },
   "outputs": [],
   "source": [
    "# random shear function def\n",
    "import numpy as np\n",
    "import tensorflow as tf\n",
    "from scipy.ndimage import affine_transform\n",
    "\n",
    "def apply_shear_frames(frames, shear_right):\n",
    "    return [apply_shear(frame, shear_right) for frame in frames]\n",
    "\n",
    "def apply_shear(frame, shear_right=0):\n",
    "    frame_resized = tf.image.resize(frame, (IMAGE_HEIGHT, IMAGE_WIDTH)).numpy()\n",
    "    if shear_right:\n",
    "        shear_x = 0.09\n",
    "        shear_y = 0.1\n",
    "    else:\n",
    "        shear_x = -0.09\n",
    "        shear_y = 0.3\n",
    "    # Construct the affine matrix for scipy: inverse of the transformation matrix\n",
    "    # scipy applies the inverse transform matrix\n",
    "    shear_matrix = np.array([\n",
    "        [1, shear_x, 0],\n",
    "        [shear_y, 1, 0],\n",
    "        [0, 0, 1]\n",
    "    ], dtype=np.float32)\n",
    "\n",
    "    # Extract 2x2 part for affine_transform\n",
    "    matrix = shear_matrix[:2, :2]\n",
    "\n",
    "    # Offset (no translation)\n",
    "    offset = [0, 0]\n",
    "\n",
    "    # Apply affine transform on each channel separately\n",
    "    sheared = np.zeros_like(frame_resized)\n",
    "    for c in range(3):\n",
    "        sheared[..., c] = affine_transform(\n",
    "            frame_resized[..., c],\n",
    "            matrix=matrix,\n",
    "            offset=offset,\n",
    "            order=1,          # bilinear interpolation\n",
    "            mode='nearest'    # fill_mode\n",
    "        )\n",
    "    return sheared"
   ]
  },
  {
   "cell_type": "markdown",
   "id": "16efd506",
   "metadata": {
    "papermill": {
     "duration": 0.007864,
     "end_time": "2025-07-11T09:45:11.501905",
     "exception": false,
     "start_time": "2025-07-11T09:45:11.494041",
     "status": "completed"
    },
    "tags": []
   },
   "source": [
    "# 📌 Model Related\n",
    "## 🗼 Model Architecture `create_model`"
   ]
  },
  {
   "cell_type": "markdown",
   "id": "b6ffb640",
   "metadata": {
    "papermill": {
     "duration": 0.00787,
     "end_time": "2025-07-11T09:45:11.517730",
     "exception": false,
     "start_time": "2025-07-11T09:45:11.509860",
     "status": "completed"
    },
    "tags": []
   },
   "source": [
    "# 📌 Execution\n",
    "## Creating Dataset\n",
    "The following functions are executed\n",
    "- `frame extraction`\n",
    "- `resize`\n",
    "\n",
    "which returns:\n",
    "- `features` - `np.array` of all the videos\n",
    "- `labels` - `np.array` of all the class labels"
   ]
  },
  {
   "cell_type": "code",
   "execution_count": 16,
   "id": "ad651378",
   "metadata": {
    "execution": {
     "iopub.execute_input": "2025-07-11T09:45:11.534729Z",
     "iopub.status.busy": "2025-07-11T09:45:11.534506Z",
     "iopub.status.idle": "2025-07-11T09:45:43.585412Z",
     "shell.execute_reply": "2025-07-11T09:45:43.584711Z"
    },
    "papermill": {
     "duration": 32.070016,
     "end_time": "2025-07-11T09:45:43.595886",
     "exception": false,
     "start_time": "2025-07-11T09:45:11.525870",
     "status": "completed"
    },
    "tags": []
   },
   "outputs": [
    {
     "name": "stdout",
     "output_type": "stream",
     "text": [
      "Extracting Data of Class: write on a paper\n",
      "Extracting Data of Class: use laptop\n",
      "Extracting Data of Class: read book\n",
      "Extracting Data of Class: sit still\n",
      "Extracting Data of Class: drink\n",
      "Extracting Data of Class: sit down\n",
      "Extracting Data of Class: use vacuum cleaner\n",
      "Extracting Data of Class: eat\n",
      "Extracting Data of Class: play guitar\n",
      "Extracting Data of Class: lie down on sofa\n",
      "Extracting Data of Class: stand up\n",
      "Extracting Data of Class: toss paper\n",
      "Extracting Data of Class: walk\n",
      "Extracting Data of Class: play game\n",
      "Extracting Data of Class: cheer up\n",
      "Extracting Data of Class: call cellphone\n",
      "Dataset created with 320 videos\n",
      "Features shape: (320, 5, 128, 128, 3)\n",
      "Labels shape: (320,)\n"
     ]
    },
    {
     "data": {
      "text/plain": [
       "((320, 5, 128, 128, 3), (320,))"
      ]
     },
     "execution_count": 16,
     "metadata": {},
     "output_type": "execute_result"
    }
   ],
   "source": [
    "# RUN Create the dataset with explicit parameters\n",
    "try:\n",
    "    videos, labels = create_dataset(\n",
    "        dataset_dir=DATASET_DIR,\n",
    "        classes_list=CLASSES_LIST,\n",
    "        sequence_length=SEQUENCE_LENGTH,\n",
    "        image_height=IMAGE_HEIGHT,\n",
    "        image_width=IMAGE_WIDTH,\n",
    "        # Limit to 10 videos per class to manage memory\n",
    "        augmentations=True,\n",
    "        max_videos_per_class=MAX_VIDEO_PER_CLASS\n",
    "    )\n",
    "except FileNotFoundError as e:\n",
    "    print(f\"Error: {e}\")\n",
    "except ValueError as e:\n",
    "    print(f\"Error: {e}\")\n",
    "except Exception as e:\n",
    "    print(f\"Unexpected error: {e}\")\n",
    "\n",
    "videos.shape, labels.shape"
   ]
  },
  {
   "cell_type": "code",
   "execution_count": 17,
   "id": "5bb90f5f",
   "metadata": {
    "execution": {
     "iopub.execute_input": "2025-07-11T09:45:43.614620Z",
     "iopub.status.busy": "2025-07-11T09:45:43.614396Z",
     "iopub.status.idle": "2025-07-11T09:45:43.618418Z",
     "shell.execute_reply": "2025-07-11T09:45:43.617826Z"
    },
    "papermill": {
     "duration": 0.014737,
     "end_time": "2025-07-11T09:45:43.619483",
     "exception": false,
     "start_time": "2025-07-11T09:45:43.604746",
     "status": "completed"
    },
    "tags": []
   },
   "outputs": [
    {
     "name": "stdout",
     "output_type": "stream",
     "text": [
      "Total 320 videos and 320 classes\n"
     ]
    }
   ],
   "source": [
    "video_generator = VideoDataGenerator(\n",
    "    videos=videos,\n",
    "    labels=labels,\n",
    "    batch_size=BATCH_SIZE\n",
    ")"
   ]
  },
  {
   "cell_type": "code",
   "execution_count": 18,
   "id": "1e162c0c",
   "metadata": {
    "execution": {
     "iopub.execute_input": "2025-07-11T09:45:43.638432Z",
     "iopub.status.busy": "2025-07-11T09:45:43.638213Z",
     "iopub.status.idle": "2025-07-11T09:45:43.649499Z",
     "shell.execute_reply": "2025-07-11T09:45:43.648917Z"
    },
    "papermill": {
     "duration": 0.021835,
     "end_time": "2025-07-11T09:45:43.650546",
     "exception": false,
     "start_time": "2025-07-11T09:45:43.628711",
     "status": "completed"
    },
    "tags": []
   },
   "outputs": [
    {
     "data": {
      "text/plain": [
       "((24, 5, 128, 128, 3), (24,))"
      ]
     },
     "execution_count": 18,
     "metadata": {},
     "output_type": "execute_result"
    }
   ],
   "source": [
    "videos, labels = video_generator[3]\n",
    "\n",
    "videos.shape, labels.shape"
   ]
  },
  {
   "cell_type": "code",
   "execution_count": 19,
   "id": "2bb39b07",
   "metadata": {
    "execution": {
     "iopub.execute_input": "2025-07-11T09:45:43.669239Z",
     "iopub.status.busy": "2025-07-11T09:45:43.668996Z",
     "iopub.status.idle": "2025-07-11T09:45:43.673494Z",
     "shell.execute_reply": "2025-07-11T09:45:43.672786Z"
    },
    "papermill": {
     "duration": 0.014888,
     "end_time": "2025-07-11T09:45:43.674544",
     "exception": false,
     "start_time": "2025-07-11T09:45:43.659656",
     "status": "completed"
    },
    "tags": []
   },
   "outputs": [
    {
     "data": {
      "text/plain": [
       "320"
      ]
     },
     "execution_count": 19,
     "metadata": {},
     "output_type": "execute_result"
    }
   ],
   "source": [
    "len(video_generator.videos) "
   ]
  },
  {
   "cell_type": "code",
   "execution_count": 20,
   "id": "80b84752",
   "metadata": {
    "execution": {
     "iopub.execute_input": "2025-07-11T09:45:43.693008Z",
     "iopub.status.busy": "2025-07-11T09:45:43.692828Z",
     "iopub.status.idle": "2025-07-11T09:45:43.696782Z",
     "shell.execute_reply": "2025-07-11T09:45:43.696299Z"
    },
    "papermill": {
     "duration": 0.014327,
     "end_time": "2025-07-11T09:45:43.697801",
     "exception": false,
     "start_time": "2025-07-11T09:45:43.683474",
     "status": "completed"
    },
    "tags": []
   },
   "outputs": [
    {
     "data": {
      "text/plain": [
       "14"
      ]
     },
     "execution_count": 20,
     "metadata": {},
     "output_type": "execute_result"
    }
   ],
   "source": [
    "len(video_generator)"
   ]
  },
  {
   "cell_type": "markdown",
   "id": "7ed9cea3",
   "metadata": {
    "papermill": {
     "duration": 0.008644,
     "end_time": "2025-07-11T09:45:43.715467",
     "exception": false,
     "start_time": "2025-07-11T09:45:43.706823",
     "status": "completed"
    },
    "tags": []
   },
   "source": [
    "## Apply ***horizontal flip*** (Augmentation)"
   ]
  },
  {
   "cell_type": "code",
   "execution_count": 21,
   "id": "fdce273b",
   "metadata": {
    "execution": {
     "iopub.execute_input": "2025-07-11T09:45:43.734747Z",
     "iopub.status.busy": "2025-07-11T09:45:43.734474Z",
     "iopub.status.idle": "2025-07-11T09:45:52.668177Z",
     "shell.execute_reply": "2025-07-11T09:45:52.667277Z"
    },
    "papermill": {
     "duration": 8.94501,
     "end_time": "2025-07-11T09:45:52.669637",
     "exception": false,
     "start_time": "2025-07-11T09:45:43.724627",
     "status": "completed"
    },
    "tags": []
   },
   "outputs": [
    {
     "name": "stdout",
     "output_type": "stream",
     "text": [
      "Processing video 24...\r"
     ]
    },
    {
     "name": "stderr",
     "output_type": "stream",
     "text": [
      "I0000 00:00:1752227144.646501      19 gpu_device.cc:2022] Created device /job:localhost/replica:0/task:0/device:GPU:0 with 13942 MB memory:  -> device: 0, name: Tesla T4, pci bus id: 0000:00:04.0, compute capability: 7.5\n",
      "I0000 00:00:1752227144.647207      19 gpu_device.cc:2022] Created device /job:localhost/replica:0/task:0/device:GPU:1 with 13942 MB memory:  -> device: 1, name: Tesla T4, pci bus id: 0000:00:05.0, compute capability: 7.5\n"
     ]
    },
    {
     "name": "stdout",
     "output_type": "stream",
     "text": [
      "Processing video 320...\r"
     ]
    }
   ],
   "source": [
    "apply_augmentation(horizontal_flip, video_generator)"
   ]
  },
  {
   "cell_type": "code",
   "execution_count": 22,
   "id": "db1219f6",
   "metadata": {
    "execution": {
     "iopub.execute_input": "2025-07-11T09:45:52.690614Z",
     "iopub.status.busy": "2025-07-11T09:45:52.690367Z",
     "iopub.status.idle": "2025-07-11T09:45:52.694557Z",
     "shell.execute_reply": "2025-07-11T09:45:52.693976Z"
    },
    "papermill": {
     "duration": 0.015883,
     "end_time": "2025-07-11T09:45:52.695632",
     "exception": false,
     "start_time": "2025-07-11T09:45:52.679749",
     "status": "completed"
    },
    "tags": []
   },
   "outputs": [
    {
     "name": "stdout",
     "output_type": "stream",
     "text": [
      "Checking Total Videos and Class Count: 320, 320\n",
      "PENDING Total Videos and Class Count: 320, 320\n"
     ]
    }
   ],
   "source": [
    "print(f\"Checking Total Videos and Class Count: {len(video_generator.videos)}, {len(video_generator.labels)}\")\n",
    "print(f\"PENDING Total Videos and Class Count: {len(video_generator.temp_videos)}, {len(video_generator.temp_labels)}\")"
   ]
  },
  {
   "cell_type": "code",
   "execution_count": 23,
   "id": "4ecf3a3a",
   "metadata": {
    "execution": {
     "iopub.execute_input": "2025-07-11T09:45:52.715836Z",
     "iopub.status.busy": "2025-07-11T09:45:52.715649Z",
     "iopub.status.idle": "2025-07-11T09:45:52.719449Z",
     "shell.execute_reply": "2025-07-11T09:45:52.718788Z"
    },
    "papermill": {
     "duration": 0.015035,
     "end_time": "2025-07-11T09:45:52.720449",
     "exception": false,
     "start_time": "2025-07-11T09:45:52.705414",
     "status": "completed"
    },
    "tags": []
   },
   "outputs": [
    {
     "name": "stdout",
     "output_type": "stream",
     "text": [
      "Adding 320 videos with 320 classes.\n",
      "Successfully added - 320 videos and 320 classes.\n",
      "Now Total - 640 videos and 640 classes.\n",
      "PENDING for Augmentations - 0 videos and 0 classes.\n"
     ]
    }
   ],
   "source": [
    "video_generator.confirm()"
   ]
  },
  {
   "cell_type": "markdown",
   "id": "525caecb",
   "metadata": {
    "papermill": {
     "duration": 0.009295,
     "end_time": "2025-07-11T09:45:52.739457",
     "exception": false,
     "start_time": "2025-07-11T09:45:52.730162",
     "status": "completed"
    },
    "tags": []
   },
   "source": [
    "## Apply ***Noise*** (Augmentation)"
   ]
  },
  {
   "cell_type": "code",
   "execution_count": 24,
   "id": "8ece5161",
   "metadata": {
    "execution": {
     "iopub.execute_input": "2025-07-11T09:45:52.759734Z",
     "iopub.status.busy": "2025-07-11T09:45:52.759466Z",
     "iopub.status.idle": "2025-07-11T09:46:13.867378Z",
     "shell.execute_reply": "2025-07-11T09:46:13.866735Z"
    },
    "papermill": {
     "duration": 21.11974,
     "end_time": "2025-07-11T09:46:13.868828",
     "exception": false,
     "start_time": "2025-07-11T09:45:52.749088",
     "status": "completed"
    },
    "tags": []
   },
   "outputs": [
    {
     "name": "stdout",
     "output_type": "stream",
     "text": [
      "Processing video 640...\r"
     ]
    }
   ],
   "source": [
    "apply_augmentation(noise_video, video_generator)"
   ]
  },
  {
   "cell_type": "code",
   "execution_count": 25,
   "id": "cf8536c0",
   "metadata": {
    "execution": {
     "iopub.execute_input": "2025-07-11T09:46:13.892285Z",
     "iopub.status.busy": "2025-07-11T09:46:13.891995Z",
     "iopub.status.idle": "2025-07-11T09:46:13.895826Z",
     "shell.execute_reply": "2025-07-11T09:46:13.895069Z"
    },
    "papermill": {
     "duration": 0.016844,
     "end_time": "2025-07-11T09:46:13.897054",
     "exception": false,
     "start_time": "2025-07-11T09:46:13.880210",
     "status": "completed"
    },
    "tags": []
   },
   "outputs": [
    {
     "name": "stdout",
     "output_type": "stream",
     "text": [
      "Checking Total Videos and Class Count: 640, 640\n",
      "PENDING Total Videos and Class Count: 640, 640\n"
     ]
    }
   ],
   "source": [
    "print(f\"Checking Total Videos and Class Count: {len(video_generator.videos)}, {len(video_generator.labels)}\")\n",
    "print(f\"PENDING Total Videos and Class Count: {len(video_generator.temp_videos)}, {len(video_generator.temp_labels)}\")"
   ]
  },
  {
   "cell_type": "markdown",
   "id": "ab95b75b",
   "metadata": {
    "papermill": {
     "duration": 0.010842,
     "end_time": "2025-07-11T09:46:13.918732",
     "exception": false,
     "start_time": "2025-07-11T09:46:13.907890",
     "status": "completed"
    },
    "tags": []
   },
   "source": [
    "## Apply ***Random Shear x2*** (Augmentation)"
   ]
  },
  {
   "cell_type": "code",
   "execution_count": 26,
   "id": "5a62e8e3",
   "metadata": {
    "execution": {
     "iopub.execute_input": "2025-07-11T09:46:13.941406Z",
     "iopub.status.busy": "2025-07-11T09:46:13.940874Z",
     "iopub.status.idle": "2025-07-11T09:47:05.160150Z",
     "shell.execute_reply": "2025-07-11T09:47:05.159373Z"
    },
    "papermill": {
     "duration": 51.232146,
     "end_time": "2025-07-11T09:47:05.161591",
     "exception": false,
     "start_time": "2025-07-11T09:46:13.929445",
     "status": "completed"
    },
    "tags": []
   },
   "outputs": [
    {
     "name": "stdout",
     "output_type": "stream",
     "text": [
      "Processing video 1920...\r"
     ]
    }
   ],
   "source": [
    "apply_augmentation(apply_shear_frames, video_generator, shear_right=0)\n",
    "apply_augmentation(apply_shear_frames, video_generator, shear_right=1)"
   ]
  },
  {
   "cell_type": "code",
   "execution_count": 27,
   "id": "c8f274ea",
   "metadata": {
    "execution": {
     "iopub.execute_input": "2025-07-11T09:47:05.188127Z",
     "iopub.status.busy": "2025-07-11T09:47:05.187887Z",
     "iopub.status.idle": "2025-07-11T09:47:05.192076Z",
     "shell.execute_reply": "2025-07-11T09:47:05.191249Z"
    },
    "papermill": {
     "duration": 0.018428,
     "end_time": "2025-07-11T09:47:05.193171",
     "exception": false,
     "start_time": "2025-07-11T09:47:05.174743",
     "status": "completed"
    },
    "tags": []
   },
   "outputs": [
    {
     "name": "stdout",
     "output_type": "stream",
     "text": [
      "Checking Total Videos and Class Count: 640, 640\n",
      "PENDING Total Videos and Class Count: 1920, 1920\n"
     ]
    }
   ],
   "source": [
    "print(f\"Checking Total Videos and Class Count: {len(video_generator.videos)}, {len(video_generator.labels)}\")\n",
    "print(f\"PENDING Total Videos and Class Count: {len(video_generator.temp_videos)}, {len(video_generator.temp_labels)}\")"
   ]
  },
  {
   "cell_type": "code",
   "execution_count": 28,
   "id": "68ecd6d1",
   "metadata": {
    "execution": {
     "iopub.execute_input": "2025-07-11T09:47:05.218914Z",
     "iopub.status.busy": "2025-07-11T09:47:05.218731Z",
     "iopub.status.idle": "2025-07-11T09:47:05.222521Z",
     "shell.execute_reply": "2025-07-11T09:47:05.221760Z"
    },
    "papermill": {
     "duration": 0.017768,
     "end_time": "2025-07-11T09:47:05.223626",
     "exception": false,
     "start_time": "2025-07-11T09:47:05.205858",
     "status": "completed"
    },
    "tags": []
   },
   "outputs": [
    {
     "name": "stdout",
     "output_type": "stream",
     "text": [
      "Adding 1920 videos with 1920 classes.\n",
      "Successfully added - 1920 videos and 1920 classes.\n",
      "Now Total - 2560 videos and 2560 classes.\n",
      "PENDING for Augmentations - 0 videos and 0 classes.\n"
     ]
    }
   ],
   "source": [
    "# confirm changes to generator\n",
    "video_generator.confirm()"
   ]
  },
  {
   "cell_type": "code",
   "execution_count": 29,
   "id": "c9c3731b",
   "metadata": {
    "execution": {
     "iopub.execute_input": "2025-07-11T09:47:05.250099Z",
     "iopub.status.busy": "2025-07-11T09:47:05.249870Z",
     "iopub.status.idle": "2025-07-11T09:47:05.253534Z",
     "shell.execute_reply": "2025-07-11T09:47:05.252938Z"
    },
    "papermill": {
     "duration": 0.017916,
     "end_time": "2025-07-11T09:47:05.254522",
     "exception": false,
     "start_time": "2025-07-11T09:47:05.236606",
     "status": "completed"
    },
    "tags": []
   },
   "outputs": [
    {
     "name": "stdout",
     "output_type": "stream",
     "text": [
      "Checking Video Generator Total Videos and Class Count: 2560, 2560\n"
     ]
    }
   ],
   "source": [
    "print(f\"Checking Video Generator Total Videos and Class Count: {len(video_generator.videos)}, {len(video_generator.labels)}\")"
   ]
  },
  {
   "cell_type": "markdown",
   "id": "32fe6157",
   "metadata": {
    "papermill": {
     "duration": 0.012595,
     "end_time": "2025-07-11T09:47:05.280103",
     "exception": false,
     "start_time": "2025-07-11T09:47:05.267508",
     "status": "completed"
    },
    "tags": []
   },
   "source": [
    "## Cheking (Output)"
   ]
  },
  {
   "cell_type": "code",
   "execution_count": 30,
   "id": "c1877591",
   "metadata": {
    "execution": {
     "iopub.execute_input": "2025-07-11T09:47:05.306469Z",
     "iopub.status.busy": "2025-07-11T09:47:05.306200Z",
     "iopub.status.idle": "2025-07-11T09:47:05.612792Z",
     "shell.execute_reply": "2025-07-11T09:47:05.612138Z"
    },
    "papermill": {
     "duration": 0.32284,
     "end_time": "2025-07-11T09:47:05.615603",
     "exception": false,
     "start_time": "2025-07-11T09:47:05.292763",
     "status": "completed"
    },
    "tags": []
   },
   "outputs": [
    {
     "name": "stdout",
     "output_type": "stream",
     "text": [
      "(24, 5, 128, 128, 3) (24,)\n"
     ]
    },
    {
     "data": {
      "image/png": "[encoded data removed]",
      "text/plain": [
       "<Figure size 1000x500 with 2 Axes>"
      ]
     },
     "metadata": {},
     "output_type": "display_data"
    },
    {
     "name": "stdout",
     "output_type": "stream",
     "text": [
      "Might be two different action, but to check the flipping focus on the door behind.\n"
     ]
    }
   ],
   "source": [
    "# check horizontal flips\n",
    "videos, labels = video_generator[7]\n",
    "videos1, labels1 = video_generator[1]\n",
    "\n",
    "print(videos.shape, labels.shape)\n",
    "\n",
    "show_frame_vs(videos[0,0],videos1[1,0], title1=\"Flipped Frame 1\", title2=\"Non Flipped Frame 1\")\n",
    "print(\"Might be two different action, but to check the flipping focus on the door behind.\")"
   ]
  },
  {
   "cell_type": "markdown",
   "id": "3dd1f81c",
   "metadata": {
    "papermill": {
     "duration": 0.015327,
     "end_time": "2025-07-11T09:47:05.646858",
     "exception": false,
     "start_time": "2025-07-11T09:47:05.631531",
     "status": "completed"
    },
    "tags": []
   },
   "source": [
    "# 📌 Preparing Data for Training"
   ]
  },
  {
   "cell_type": "code",
   "execution_count": 31,
   "id": "150f226a",
   "metadata": {
    "execution": {
     "iopub.execute_input": "2025-07-11T09:47:05.681949Z",
     "iopub.status.busy": "2025-07-11T09:47:05.681671Z",
     "iopub.status.idle": "2025-07-11T09:47:06.146794Z",
     "shell.execute_reply": "2025-07-11T09:47:06.146174Z"
    },
    "papermill": {
     "duration": 0.48581,
     "end_time": "2025-07-11T09:47:06.147949",
     "exception": false,
     "start_time": "2025-07-11T09:47:05.662139",
     "status": "completed"
    },
    "tags": []
   },
   "outputs": [],
   "source": [
    "# Clear previous session to free memory\n",
    "import gc\n",
    "\n",
    "gc.collect()\n",
    "tf.keras.backend.clear_session()"
   ]
  },
  {
   "cell_type": "markdown",
   "id": "89c09f51",
   "metadata": {
    "papermill": {
     "duration": 0.014939,
     "end_time": "2025-07-11T09:47:06.178832",
     "exception": false,
     "start_time": "2025-07-11T09:47:06.163893",
     "status": "completed"
    },
    "tags": []
   },
   "source": [
    "## Splitting data for ***Trainig*** and ***Testing***"
   ]
  },
  {
   "cell_type": "code",
   "execution_count": 32,
   "id": "9f26c8ea",
   "metadata": {
    "execution": {
     "iopub.execute_input": "2025-07-11T09:47:06.210578Z",
     "iopub.status.busy": "2025-07-11T09:47:06.210329Z",
     "iopub.status.idle": "2025-07-11T09:47:07.013914Z",
     "shell.execute_reply": "2025-07-11T09:47:07.013234Z"
    },
    "papermill": {
     "duration": 0.821057,
     "end_time": "2025-07-11T09:47:07.015255",
     "exception": false,
     "start_time": "2025-07-11T09:47:06.194198",
     "status": "completed"
    },
    "tags": []
   },
   "outputs": [
    {
     "data": {
      "text/plain": [
       "((2560, 5, 128, 128, 3), (2560,))"
      ]
     },
     "execution_count": 32,
     "metadata": {},
     "output_type": "execute_result"
    }
   ],
   "source": [
    "videos = video_generator.videos\n",
    "labels = video_generator.labels\n",
    "\n",
    "videos = np.array(videos, dtype='float32')\n",
    "labels = np.array(labels)\n",
    "\n",
    "videos.shape, labels.shape"
   ]
  },
  {
   "cell_type": "code",
   "execution_count": 33,
   "id": "121e92a7",
   "metadata": {
    "execution": {
     "iopub.execute_input": "2025-07-11T09:47:07.048814Z",
     "iopub.status.busy": "2025-07-11T09:47:07.048526Z",
     "iopub.status.idle": "2025-07-11T09:47:07.055079Z",
     "shell.execute_reply": "2025-07-11T09:47:07.054284Z"
    },
    "papermill": {
     "duration": 0.024938,
     "end_time": "2025-07-11T09:47:07.056392",
     "exception": false,
     "start_time": "2025-07-11T09:47:07.031454",
     "status": "completed"
    },
    "tags": []
   },
   "outputs": [
    {
     "data": {
      "text/plain": [
       "(2560, 16)"
      ]
     },
     "execution_count": 33,
     "metadata": {},
     "output_type": "execute_result"
    }
   ],
   "source": [
    "from tensorflow.keras.utils import to_categorical\n",
    "\n",
    "one_hot_encoded_labels = to_categorical(labels)\n",
    "\n",
    "one_hot_encoded_labels.shape"
   ]
  },
  {
   "cell_type": "code",
   "execution_count": 34,
   "id": "f8fa50a6",
   "metadata": {
    "execution": {
     "iopub.execute_input": "2025-07-11T09:47:07.089754Z",
     "iopub.status.busy": "2025-07-11T09:47:07.088912Z",
     "iopub.status.idle": "2025-07-11T09:47:07.313919Z",
     "shell.execute_reply": "2025-07-11T09:47:07.313365Z"
    },
    "papermill": {
     "duration": 0.242116,
     "end_time": "2025-07-11T09:47:07.314964",
     "exception": false,
     "start_time": "2025-07-11T09:47:07.072848",
     "status": "completed"
    },
    "tags": []
   },
   "outputs": [
    {
     "data": {
      "text/plain": [
       "0"
      ]
     },
     "execution_count": 34,
     "metadata": {},
     "output_type": "execute_result"
    }
   ],
   "source": [
    "gc.collect()"
   ]
  },
  {
   "cell_type": "code",
   "execution_count": 35,
   "id": "3131fc80",
   "metadata": {
    "execution": {
     "iopub.execute_input": "2025-07-11T09:47:07.346961Z",
     "iopub.status.busy": "2025-07-11T09:47:07.346769Z",
     "iopub.status.idle": "2025-07-11T09:47:08.149411Z",
     "shell.execute_reply": "2025-07-11T09:47:08.148671Z"
    },
    "papermill": {
     "duration": 0.819765,
     "end_time": "2025-07-11T09:47:08.150628",
     "exception": false,
     "start_time": "2025-07-11T09:47:07.330863",
     "status": "completed"
    },
    "tags": []
   },
   "outputs": [
    {
     "data": {
      "text/plain": [
       "((2048, 5, 128, 128, 3), (2048, 16), (512, 5, 128, 128, 3), (512, 16))"
      ]
     },
     "execution_count": 35,
     "metadata": {},
     "output_type": "execute_result"
    }
   ],
   "source": [
    "# RUN Split the Data into Train ( 75% ) and Test Set ( 25% ).\n",
    "from sklearn.model_selection import train_test_split\n",
    "features_train, features_test, labels_train, labels_test = train_test_split(videos,\n",
    "                                                                            one_hot_encoded_labels,\n",
    "                                                                            test_size = TEST_SIZE,\n",
    "                                                                            shuffle = True,\n",
    "                                                                            random_state = seed_constant)\n",
    "\n",
    "features_train.shape, labels_train.shape, features_test.shape, labels_test.shape"
   ]
  },
  {
   "cell_type": "markdown",
   "id": "51567cee",
   "metadata": {
    "papermill": {
     "duration": 0.015079,
     "end_time": "2025-07-11T09:47:08.181711",
     "exception": false,
     "start_time": "2025-07-11T09:47:08.166632",
     "status": "completed"
    },
    "tags": []
   },
   "source": [
    "## Splitting data for ***Training Set*** and ***Validation Set***"
   ]
  },
  {
   "cell_type": "code",
   "execution_count": 36,
   "id": "16683187",
   "metadata": {
    "execution": {
     "iopub.execute_input": "2025-07-11T09:47:08.216530Z",
     "iopub.status.busy": "2025-07-11T09:47:08.216068Z",
     "iopub.status.idle": "2025-07-11T09:47:08.221509Z",
     "shell.execute_reply": "2025-07-11T09:47:08.220837Z"
    },
    "papermill": {
     "duration": 0.024039,
     "end_time": "2025-07-11T09:47:08.222524",
     "exception": false,
     "start_time": "2025-07-11T09:47:08.198485",
     "status": "completed"
    },
    "tags": []
   },
   "outputs": [
    {
     "data": {
      "text/plain": [
       "((1638, 5, 128, 128, 3), (1638, 16), (410, 5, 128, 128, 3), (410, 16))"
      ]
     },
     "execution_count": 36,
     "metadata": {},
     "output_type": "execute_result"
    }
   ],
   "source": [
    "# Assuming features_train and labels_train are defined\n",
    "train_set = 1-VALIDATION_SPLIT\n",
    "\n",
    "train_video_frames, val_video_frames = features_train[:int(train_set * len(features_train))], features_train[int(train_set * len(features_train)):]\n",
    "train_labels, val_labels = labels_train[:int(train_set * len(labels_train))], labels_train[int(train_set * len(labels_train)):]\n",
    "\n",
    "train_video_frames.shape, train_labels.shape, val_video_frames.shape, val_labels.shape"
   ]
  },
  {
   "cell_type": "markdown",
   "id": "25d8be3f",
   "metadata": {
    "papermill": {
     "duration": 0.014963,
     "end_time": "2025-07-11T09:47:08.253170",
     "exception": false,
     "start_time": "2025-07-11T09:47:08.238207",
     "status": "completed"
    },
    "tags": []
   },
   "source": [
    "## Use Generator `Video Data Generator`"
   ]
  },
  {
   "cell_type": "code",
   "execution_count": 37,
   "id": "ddf703e8",
   "metadata": {
    "execution": {
     "iopub.execute_input": "2025-07-11T09:47:08.284408Z",
     "iopub.status.busy": "2025-07-11T09:47:08.284196Z",
     "iopub.status.idle": "2025-07-11T09:47:08.290575Z",
     "shell.execute_reply": "2025-07-11T09:47:08.289867Z"
    },
    "papermill": {
     "duration": 0.02315,
     "end_time": "2025-07-11T09:47:08.291673",
     "exception": false,
     "start_time": "2025-07-11T09:47:08.268523",
     "status": "completed"
    },
    "tags": []
   },
   "outputs": [
    {
     "name": "stdout",
     "output_type": "stream",
     "text": [
      "Total 1638 videos and 1638 classes\n",
      "Total 410 videos and 410 classes\n"
     ]
    },
    {
     "data": {
      "text/plain": [
       "(69, 18)"
      ]
     },
     "execution_count": 37,
     "metadata": {},
     "output_type": "execute_result"
    }
   ],
   "source": [
    "# Create the training and validation generators\n",
    "train_gen = VideoDataGenerator(\n",
    "    videos=train_video_frames, \n",
    "    labels=train_labels, \n",
    "    batch_size=BATCH_SIZE,\n",
    ")\n",
    "\n",
    "val_gen = VideoDataGenerator(\n",
    "    videos=val_video_frames, \n",
    "    labels=val_labels, \n",
    "    batch_size=BATCH_SIZE,\n",
    ")\n",
    "\n",
    "len(train_gen), len(val_gen)"
   ]
  },
  {
   "cell_type": "markdown",
   "id": "2c16ba36",
   "metadata": {
    "papermill": {
     "duration": 0.019728,
     "end_time": "2025-07-11T09:47:08.326932",
     "exception": false,
     "start_time": "2025-07-11T09:47:08.307204",
     "status": "completed"
    },
    "tags": []
   },
   "source": [
    "## Inspect ***Generator*** Data on Epochs"
   ]
  },
  {
   "cell_type": "code",
   "execution_count": 38,
   "id": "ba2a7851",
   "metadata": {
    "execution": {
     "iopub.execute_input": "2025-07-11T09:47:08.359702Z",
     "iopub.status.busy": "2025-07-11T09:47:08.359492Z",
     "iopub.status.idle": "2025-07-11T09:47:08.369940Z",
     "shell.execute_reply": "2025-07-11T09:47:08.369408Z"
    },
    "papermill": {
     "duration": 0.027833,
     "end_time": "2025-07-11T09:47:08.371111",
     "exception": false,
     "start_time": "2025-07-11T09:47:08.343278",
     "status": "completed"
    },
    "tags": []
   },
   "outputs": [
    {
     "name": "stdout",
     "output_type": "stream",
     "text": [
      "[   0    1    2 ... 1635 1636 1637]\n",
      "[ 658 1561 1395 ...  691  912  158]\n"
     ]
    },
    {
     "data": {
      "text/plain": [
       "(24, (24, 5, 128, 128, 3), (24, 16))"
      ]
     },
     "execution_count": 38,
     "metadata": {},
     "output_type": "execute_result"
    }
   ],
   "source": [
    "features, labels = train_gen[1]\n",
    "\n",
    "print(train_gen.indices)\n",
    "\n",
    "train_gen.on_epoch_end()\n",
    "\n",
    "print(train_gen.indices)\n",
    "\n",
    "BATCH_SIZE, features.shape, labels.shape"
   ]
  },
  {
   "cell_type": "markdown",
   "id": "a6f7ba4a",
   "metadata": {
    "papermill": {
     "duration": 0.015605,
     "end_time": "2025-07-11T09:47:08.403890",
     "exception": false,
     "start_time": "2025-07-11T09:47:08.388285",
     "status": "completed"
    },
    "tags": []
   },
   "source": [
    "## Compute Class Weight"
   ]
  },
  {
   "cell_type": "code",
   "execution_count": 39,
   "id": "de554c5f",
   "metadata": {
    "execution": {
     "iopub.execute_input": "2025-07-11T09:47:08.435788Z",
     "iopub.status.busy": "2025-07-11T09:47:08.435606Z",
     "iopub.status.idle": "2025-07-11T09:47:08.441364Z",
     "shell.execute_reply": "2025-07-11T09:47:08.440739Z"
    },
    "papermill": {
     "duration": 0.022908,
     "end_time": "2025-07-11T09:47:08.442402",
     "exception": false,
     "start_time": "2025-07-11T09:47:08.419494",
     "status": "completed"
    },
    "tags": []
   },
   "outputs": [
    {
     "name": "stdout",
     "output_type": "stream",
     "text": [
      "Class weights: {0: 1.0, 1: 1.0, 2: 1.0, 3: 1.0, 4: 1.0, 5: 1.0, 6: 1.0, 7: 1.0, 8: 1.0, 9: 1.0, 10: 1.0, 11: 1.0, 12: 1.0, 13: 1.0, 14: 1.0, 15: 1.0}\n"
     ]
    }
   ],
   "source": [
    "from sklearn.utils.class_weight import compute_class_weight\n",
    "import numpy as np\n",
    "\n",
    "# Assuming y_int are integer labels (not one-hot)\n",
    "y_int = np.argmax(one_hot_encoded_labels, axis=1)  # or just integer labels if you have them\n",
    "\n",
    "classes = np.arange(NO_OF_CLASSES)  # e.g. np.arange(16)\n",
    "class_weights_values = compute_class_weight(class_weight='balanced', classes=classes, y=y_int)\n",
    "\n",
    "class_weights = dict(zip(classes, class_weights_values))\n",
    "\n",
    "print(\"Class weights:\", class_weights)\n"
   ]
  },
  {
   "cell_type": "code",
   "execution_count": 40,
   "id": "5604e971",
   "metadata": {
    "execution": {
     "iopub.execute_input": "2025-07-11T09:47:08.479595Z",
     "iopub.status.busy": "2025-07-11T09:47:08.479104Z",
     "iopub.status.idle": "2025-07-11T09:47:08.712697Z",
     "shell.execute_reply": "2025-07-11T09:47:08.712037Z"
    },
    "papermill": {
     "duration": 0.253234,
     "end_time": "2025-07-11T09:47:08.713833",
     "exception": false,
     "start_time": "2025-07-11T09:47:08.460599",
     "status": "completed"
    },
    "tags": []
   },
   "outputs": [],
   "source": [
    "gc.collect()\n",
    "del videos, one_hot_encoded_labels, labels_train\n",
    "del features_train, val_labels, train_labels\n",
    "del val_video_frames, train_video_frames"
   ]
  },
  {
   "cell_type": "markdown",
   "id": "4342bd2b",
   "metadata": {
    "papermill": {
     "duration": 0.017385,
     "end_time": "2025-07-11T09:47:08.749238",
     "exception": false,
     "start_time": "2025-07-11T09:47:08.731853",
     "status": "completed"
    },
    "tags": []
   },
   "source": [
    "# ✨ Model Execution\n",
    "## Creating Model"
   ]
  },
  {
   "cell_type": "markdown",
   "id": "d56dfee4",
   "metadata": {
    "papermill": {
     "duration": 0.016621,
     "end_time": "2025-07-11T09:47:08.782824",
     "exception": false,
     "start_time": "2025-07-11T09:47:08.766203",
     "status": "completed"
    },
    "tags": []
   },
   "source": [
    "## Plot Model Structure"
   ]
  },
  {
   "cell_type": "markdown",
   "id": "c8d06a7e",
   "metadata": {
    "papermill": {
     "duration": 0.015686,
     "end_time": "2025-07-11T09:47:08.814513",
     "exception": false,
     "start_time": "2025-07-11T09:47:08.798827",
     "status": "completed"
    },
    "tags": []
   },
   "source": [
    "## 📈 Model Training"
   ]
  },
  {
   "cell_type": "code",
   "execution_count": 41,
   "id": "fe4a468a",
   "metadata": {
    "execution": {
     "iopub.execute_input": "2025-07-11T09:47:08.847169Z",
     "iopub.status.busy": "2025-07-11T09:47:08.846908Z",
     "iopub.status.idle": "2025-07-11T10:02:28.864732Z",
     "shell.execute_reply": "2025-07-11T10:02:28.863893Z"
    },
    "papermill": {
     "duration": 920.03592,
     "end_time": "2025-07-11T10:02:28.866143",
     "exception": false,
     "start_time": "2025-07-11T09:47:08.830223",
     "status": "completed"
    },
    "tags": []
   },
   "outputs": [
    {
     "name": "stdout",
     "output_type": "stream",
     "text": [
      "Memory cleared before creating InceptionResNetV2+LSTM model\n",
      "TensorFlow version: 2.18.0\n",
      "Pre-loading InceptionResNetV2 weights...\n",
      "Downloading data from https://storage.googleapis.com/tensorflow/keras-applications/inception_resnet_v2/inception_resnet_v2_weights_tf_dim_ordering_tf_kernels_notop.h5\n",
      "\u001b[1m219055592/219055592\u001b[0m \u001b[32m━━━━━━━━━━━━━━━━━━━━\u001b[0m\u001b[37m\u001b[0m \u001b[1m1s\u001b[0m 0us/step\n",
      "InceptionResNetV2 weights loaded successfully!\n",
      "Creating InceptionResNetV2+LSTM model with parameters:\n",
      "sequence_length: 5, image_height: 128, image_width: 128, classes_list length: 16, dropout_rate: 0.5\n"
     ]
    },
    {
     "name": "stderr",
     "output_type": "stream",
     "text": [
      "/usr/local/lib/python3.11/dist-packages/keras/src/layers/core/wrapper.py:27: UserWarning: Do not pass an `input_shape`/`input_dim` argument to a layer. When using Sequential models, prefer using an `Input(shape)` object as the first layer in the model instead.\n",
      "  super().__init__(**kwargs)\n"
     ]
    },
    {
     "name": "stdout",
     "output_type": "stream",
     "text": [
      "InceptionResNetV2+LSTM model architecture created successfully!\n"
     ]
    },
    {
     "data": {
      "text/html": [
       "<pre style=\"white-space:pre;overflow-x:auto;line-height:normal;font-family:Menlo,'DejaVu Sans Mono',consolas,'Courier New',monospace\"><span style=\"font-weight: bold\">Model: \"sequential\"</span>\n",
       "</pre>\n"
      ],
      "text/plain": [
       "\u001b[1mModel: \"sequential\"\u001b[0m\n"
      ]
     },
     "metadata": {},
     "output_type": "display_data"
    },
    {
     "data": {
      "text/html": [
       "<pre style=\"white-space:pre;overflow-x:auto;line-height:normal;font-family:Menlo,'DejaVu Sans Mono',consolas,'Courier New',monospace\">┏━━━━━━━━━━━━━━━━━━━━━━━━━━━━━━━━━┳━━━━━━━━━━━━━━━━━━━━━━━━┳━━━━━━━━━━━━━━━┓\n",
       "┃<span style=\"font-weight: bold\"> Layer (type)                    </span>┃<span style=\"font-weight: bold\"> Output Shape           </span>┃<span style=\"font-weight: bold\">       Param # </span>┃\n",
       "┡━━━━━━━━━━━━━━━━━━━━━━━━━━━━━━━━━╇━━━━━━━━━━━━━━━━━━━━━━━━╇━━━━━━━━━━━━━━━┩\n",
       "│ time_distributed_InceptionResN… │ (<span style=\"color: #00d7ff; text-decoration-color: #00d7ff\">None</span>, <span style=\"color: #00af00; text-decoration-color: #00af00\">5</span>, <span style=\"color: #00af00; text-decoration-color: #00af00\">2</span>, <span style=\"color: #00af00; text-decoration-color: #00af00\">2</span>, <span style=\"color: #00af00; text-decoration-color: #00af00\">1536</span>)  │    <span style=\"color: #00af00; text-decoration-color: #00af00\">54,336,736</span> │\n",
       "│ (<span style=\"color: #0087ff; text-decoration-color: #0087ff\">TimeDistributed</span>)               │                        │               │\n",
       "├─────────────────────────────────┼────────────────────────┼───────────────┤\n",
       "│ time_distributed_pooling        │ (<span style=\"color: #00d7ff; text-decoration-color: #00d7ff\">None</span>, <span style=\"color: #00af00; text-decoration-color: #00af00\">5</span>, <span style=\"color: #00af00; text-decoration-color: #00af00\">1536</span>)        │             <span style=\"color: #00af00; text-decoration-color: #00af00\">0</span> │\n",
       "│ (<span style=\"color: #0087ff; text-decoration-color: #0087ff\">TimeDistributed</span>)               │                        │               │\n",
       "├─────────────────────────────────┼────────────────────────┼───────────────┤\n",
       "│ lstm_InceptionResNetV2 (<span style=\"color: #0087ff; text-decoration-color: #0087ff\">LSTM</span>)   │ (<span style=\"color: #00d7ff; text-decoration-color: #00d7ff\">None</span>, <span style=\"color: #00af00; text-decoration-color: #00af00\">512</span>)            │     <span style=\"color: #00af00; text-decoration-color: #00af00\">4,196,352</span> │\n",
       "├─────────────────────────────────┼────────────────────────┼───────────────┤\n",
       "│ batch_normalization_InceptionR… │ (<span style=\"color: #00d7ff; text-decoration-color: #00d7ff\">None</span>, <span style=\"color: #00af00; text-decoration-color: #00af00\">512</span>)            │         <span style=\"color: #00af00; text-decoration-color: #00af00\">2,048</span> │\n",
       "│ (<span style=\"color: #0087ff; text-decoration-color: #0087ff\">BatchNormalization</span>)            │                        │               │\n",
       "├─────────────────────────────────┼────────────────────────┼───────────────┤\n",
       "│ dropout_lstm_InceptionResNetV2  │ (<span style=\"color: #00d7ff; text-decoration-color: #00d7ff\">None</span>, <span style=\"color: #00af00; text-decoration-color: #00af00\">512</span>)            │             <span style=\"color: #00af00; text-decoration-color: #00af00\">0</span> │\n",
       "│ (<span style=\"color: #0087ff; text-decoration-color: #0087ff\">Dropout</span>)                       │                        │               │\n",
       "├─────────────────────────────────┼────────────────────────┼───────────────┤\n",
       "│ dense_InceptionResNetV2_1       │ (<span style=\"color: #00d7ff; text-decoration-color: #00d7ff\">None</span>, <span style=\"color: #00af00; text-decoration-color: #00af00\">512</span>)            │       <span style=\"color: #00af00; text-decoration-color: #00af00\">262,656</span> │\n",
       "│ (<span style=\"color: #0087ff; text-decoration-color: #0087ff\">Dense</span>)                         │                        │               │\n",
       "├─────────────────────────────────┼────────────────────────┼───────────────┤\n",
       "│ dropout_dense_InceptionResNetV… │ (<span style=\"color: #00d7ff; text-decoration-color: #00d7ff\">None</span>, <span style=\"color: #00af00; text-decoration-color: #00af00\">512</span>)            │             <span style=\"color: #00af00; text-decoration-color: #00af00\">0</span> │\n",
       "│ (<span style=\"color: #0087ff; text-decoration-color: #0087ff\">Dropout</span>)                       │                        │               │\n",
       "├─────────────────────────────────┼────────────────────────┼───────────────┤\n",
       "│ dense_InceptionResNetV2_2       │ (<span style=\"color: #00d7ff; text-decoration-color: #00d7ff\">None</span>, <span style=\"color: #00af00; text-decoration-color: #00af00\">128</span>)            │        <span style=\"color: #00af00; text-decoration-color: #00af00\">65,664</span> │\n",
       "│ (<span style=\"color: #0087ff; text-decoration-color: #0087ff\">Dense</span>)                         │                        │               │\n",
       "├─────────────────────────────────┼────────────────────────┼───────────────┤\n",
       "│ dropout_dense_InceptionResNetV… │ (<span style=\"color: #00d7ff; text-decoration-color: #00d7ff\">None</span>, <span style=\"color: #00af00; text-decoration-color: #00af00\">128</span>)            │             <span style=\"color: #00af00; text-decoration-color: #00af00\">0</span> │\n",
       "│ (<span style=\"color: #0087ff; text-decoration-color: #0087ff\">Dropout</span>)                       │                        │               │\n",
       "├─────────────────────────────────┼────────────────────────┼───────────────┤\n",
       "│ output_InceptionResNetV2        │ (<span style=\"color: #00d7ff; text-decoration-color: #00d7ff\">None</span>, <span style=\"color: #00af00; text-decoration-color: #00af00\">16</span>)             │         <span style=\"color: #00af00; text-decoration-color: #00af00\">2,064</span> │\n",
       "│ (<span style=\"color: #0087ff; text-decoration-color: #0087ff\">Dense</span>)                         │                        │               │\n",
       "└─────────────────────────────────┴────────────────────────┴───────────────┘\n",
       "</pre>\n"
      ],
      "text/plain": [
       "┏━━━━━━━━━━━━━━━━━━━━━━━━━━━━━━━━━┳━━━━━━━━━━━━━━━━━━━━━━━━┳━━━━━━━━━━━━━━━┓\n",
       "┃\u001b[1m \u001b[0m\u001b[1mLayer (type)                   \u001b[0m\u001b[1m \u001b[0m┃\u001b[1m \u001b[0m\u001b[1mOutput Shape          \u001b[0m\u001b[1m \u001b[0m┃\u001b[1m \u001b[0m\u001b[1m      Param #\u001b[0m\u001b[1m \u001b[0m┃\n",
       "┡━━━━━━━━━━━━━━━━━━━━━━━━━━━━━━━━━╇━━━━━━━━━━━━━━━━━━━━━━━━╇━━━━━━━━━━━━━━━┩\n",
       "│ time_distributed_InceptionResN… │ (\u001b[38;5;45mNone\u001b[0m, \u001b[38;5;34m5\u001b[0m, \u001b[38;5;34m2\u001b[0m, \u001b[38;5;34m2\u001b[0m, \u001b[38;5;34m1536\u001b[0m)  │    \u001b[38;5;34m54,336,736\u001b[0m │\n",
       "│ (\u001b[38;5;33mTimeDistributed\u001b[0m)               │                        │               │\n",
       "├─────────────────────────────────┼────────────────────────┼───────────────┤\n",
       "│ time_distributed_pooling        │ (\u001b[38;5;45mNone\u001b[0m, \u001b[38;5;34m5\u001b[0m, \u001b[38;5;34m1536\u001b[0m)        │             \u001b[38;5;34m0\u001b[0m │\n",
       "│ (\u001b[38;5;33mTimeDistributed\u001b[0m)               │                        │               │\n",
       "├─────────────────────────────────┼────────────────────────┼───────────────┤\n",
       "│ lstm_InceptionResNetV2 (\u001b[38;5;33mLSTM\u001b[0m)   │ (\u001b[38;5;45mNone\u001b[0m, \u001b[38;5;34m512\u001b[0m)            │     \u001b[38;5;34m4,196,352\u001b[0m │\n",
       "├─────────────────────────────────┼────────────────────────┼───────────────┤\n",
       "│ batch_normalization_InceptionR… │ (\u001b[38;5;45mNone\u001b[0m, \u001b[38;5;34m512\u001b[0m)            │         \u001b[38;5;34m2,048\u001b[0m │\n",
       "│ (\u001b[38;5;33mBatchNormalization\u001b[0m)            │                        │               │\n",
       "├─────────────────────────────────┼────────────────────────┼───────────────┤\n",
       "│ dropout_lstm_InceptionResNetV2  │ (\u001b[38;5;45mNone\u001b[0m, \u001b[38;5;34m512\u001b[0m)            │             \u001b[38;5;34m0\u001b[0m │\n",
       "│ (\u001b[38;5;33mDropout\u001b[0m)                       │                        │               │\n",
       "├─────────────────────────────────┼────────────────────────┼───────────────┤\n",
       "│ dense_InceptionResNetV2_1       │ (\u001b[38;5;45mNone\u001b[0m, \u001b[38;5;34m512\u001b[0m)            │       \u001b[38;5;34m262,656\u001b[0m │\n",
       "│ (\u001b[38;5;33mDense\u001b[0m)                         │                        │               │\n",
       "├─────────────────────────────────┼────────────────────────┼───────────────┤\n",
       "│ dropout_dense_InceptionResNetV… │ (\u001b[38;5;45mNone\u001b[0m, \u001b[38;5;34m512\u001b[0m)            │             \u001b[38;5;34m0\u001b[0m │\n",
       "│ (\u001b[38;5;33mDropout\u001b[0m)                       │                        │               │\n",
       "├─────────────────────────────────┼────────────────────────┼───────────────┤\n",
       "│ dense_InceptionResNetV2_2       │ (\u001b[38;5;45mNone\u001b[0m, \u001b[38;5;34m128\u001b[0m)            │        \u001b[38;5;34m65,664\u001b[0m │\n",
       "│ (\u001b[38;5;33mDense\u001b[0m)                         │                        │               │\n",
       "├─────────────────────────────────┼────────────────────────┼───────────────┤\n",
       "│ dropout_dense_InceptionResNetV… │ (\u001b[38;5;45mNone\u001b[0m, \u001b[38;5;34m128\u001b[0m)            │             \u001b[38;5;34m0\u001b[0m │\n",
       "│ (\u001b[38;5;33mDropout\u001b[0m)                       │                        │               │\n",
       "├─────────────────────────────────┼────────────────────────┼───────────────┤\n",
       "│ output_InceptionResNetV2        │ (\u001b[38;5;45mNone\u001b[0m, \u001b[38;5;34m16\u001b[0m)             │         \u001b[38;5;34m2,064\u001b[0m │\n",
       "│ (\u001b[38;5;33mDense\u001b[0m)                         │                        │               │\n",
       "└─────────────────────────────────┴────────────────────────┴───────────────┘\n"
      ]
     },
     "metadata": {},
     "output_type": "display_data"
    },
    {
     "data": {
      "text/html": [
       "<pre style=\"white-space:pre;overflow-x:auto;line-height:normal;font-family:Menlo,'DejaVu Sans Mono',consolas,'Courier New',monospace\"><span style=\"font-weight: bold\"> Total params: </span><span style=\"color: #00af00; text-decoration-color: #00af00\">58,865,520</span> (224.55 MB)\n",
       "</pre>\n"
      ],
      "text/plain": [
       "\u001b[1m Total params: \u001b[0m\u001b[38;5;34m58,865,520\u001b[0m (224.55 MB)\n"
      ]
     },
     "metadata": {},
     "output_type": "display_data"
    },
    {
     "data": {
      "text/html": [
       "<pre style=\"white-space:pre;overflow-x:auto;line-height:normal;font-family:Menlo,'DejaVu Sans Mono',consolas,'Courier New',monospace\"><span style=\"font-weight: bold\"> Trainable params: </span><span style=\"color: #00af00; text-decoration-color: #00af00\">4,527,760</span> (17.27 MB)\n",
       "</pre>\n"
      ],
      "text/plain": [
       "\u001b[1m Trainable params: \u001b[0m\u001b[38;5;34m4,527,760\u001b[0m (17.27 MB)\n"
      ]
     },
     "metadata": {},
     "output_type": "display_data"
    },
    {
     "data": {
      "text/html": [
       "<pre style=\"white-space:pre;overflow-x:auto;line-height:normal;font-family:Menlo,'DejaVu Sans Mono',consolas,'Courier New',monospace\"><span style=\"font-weight: bold\"> Non-trainable params: </span><span style=\"color: #00af00; text-decoration-color: #00af00\">54,337,760</span> (207.28 MB)\n",
       "</pre>\n"
      ],
      "text/plain": [
       "\u001b[1m Non-trainable params: \u001b[0m\u001b[38;5;34m54,337,760\u001b[0m (207.28 MB)\n"
      ]
     },
     "metadata": {},
     "output_type": "display_data"
    },
    {
     "name": "stdout",
     "output_type": "stream",
     "text": [
      "InceptionResNetV2+LSTM Model Created Successfully!\n",
      "Xception_InceptionResNetV2_LSTM Model Plot saved successfully...\n",
      "train_gen.videos shape: (1638, 5, 128, 128, 3)\n",
      "train_gen.labels shape: (1638, 16)\n",
      "val_gen.videos shape: (410, 5, 128, 128, 3)\n",
      "val_gen.labels shape: (410, 16)\n",
      "features_test shape: (512, 5, 128, 128, 3)\n",
      "labels_test shape: (512, 16)\n",
      "train_gen batch videos shape: (24, 5, 128, 128, 3)\n",
      "train_gen batch labels shape: (24, 16)\n",
      "val_gen batch videos shape: (24, 5, 128, 128, 3)\n",
      "val_gen batch labels shape: (24, 16)\n",
      "Dataset - Msrdailyactivity3D Rgb Videos Only\n",
      "There are total 16 classes, selected 16 classes\n",
      "Setting 20 videos/class to train the model.\n",
      "Image size 128x128 with 5 sequence length\n",
      "Dropout rate: 0.5\n",
      "Train-Test split ratio 80/20\n",
      "Validation data from Train set 20.0%\n",
      "\n",
      "\n",
      "Initial training started for InceptionResNetV2+LSTM model with 1638 videos of 16 classes with 410 videos for validation...\n",
      "Epoch 1/30\n"
     ]
    },
    {
     "name": "stderr",
     "output_type": "stream",
     "text": [
      "I0000 00:00:1752227351.922425    2525 cuda_dnn.cc:529] Loaded cuDNN version 90300\n"
     ]
    },
    {
     "name": "stdout",
     "output_type": "stream",
     "text": [
      "     69/Unknown \u001b[1m137s\u001b[0m 279ms/step - accuracy: 0.0705 - loss: 25.4537"
     ]
    },
    {
     "name": "stderr",
     "output_type": "stream",
     "text": [
      "/usr/local/lib/python3.11/dist-packages/keras/src/trainers/epoch_iterator.py:151: UserWarning: Your input ran out of data; interrupting training. Make sure that your dataset or generator can generate at least `steps_per_epoch * epochs` batches. You may need to use the `.repeat()` function when building your dataset.\n",
      "  self._interrupted_warning()\n"
     ]
    },
    {
     "name": "stdout",
     "output_type": "stream",
     "text": [
      "\u001b[1m69/69\u001b[0m \u001b[32m━━━━━━━━━━━━━━━━━━━━\u001b[0m\u001b[37m\u001b[0m \u001b[1m183s\u001b[0m 960ms/step - accuracy: 0.0706 - loss: 25.4094 - val_accuracy: 0.0683 - val_loss: 16.9417 - learning_rate: 0.0010\n",
      "Epoch 2/30\n",
      "\u001b[1m69/69\u001b[0m \u001b[32m━━━━━━━━━━━━━━━━━━━━\u001b[0m\u001b[37m\u001b[0m \u001b[1m24s\u001b[0m 352ms/step - accuracy: 0.0880 - loss: 15.5388 - val_accuracy: 0.1122 - val_loss: 11.8710 - learning_rate: 0.0010\n",
      "Epoch 3/30\n",
      "\u001b[1m69/69\u001b[0m \u001b[32m━━━━━━━━━━━━━━━━━━━━\u001b[0m\u001b[37m\u001b[0m \u001b[1m25s\u001b[0m 357ms/step - accuracy: 0.1056 - loss: 11.0421 - val_accuracy: 0.1146 - val_loss: 9.0293 - learning_rate: 0.0010\n",
      "Epoch 4/30\n",
      "\u001b[1m69/69\u001b[0m \u001b[32m━━━━━━━━━━━━━━━━━━━━\u001b[0m\u001b[37m\u001b[0m \u001b[1m25s\u001b[0m 366ms/step - accuracy: 0.1322 - loss: 8.4968 - val_accuracy: 0.1683 - val_loss: 7.2327 - learning_rate: 0.0010\n",
      "Epoch 5/30\n",
      "\u001b[1m69/69\u001b[0m \u001b[32m━━━━━━━━━━━━━━━━━━━━\u001b[0m\u001b[37m\u001b[0m \u001b[1m26s\u001b[0m 370ms/step - accuracy: 0.1593 - loss: 6.8576 - val_accuracy: 0.1610 - val_loss: 6.0123 - learning_rate: 0.0010\n",
      "Epoch 6/30\n",
      "\u001b[1m69/69\u001b[0m \u001b[32m━━━━━━━━━━━━━━━━━━━━\u001b[0m\u001b[37m\u001b[0m \u001b[1m25s\u001b[0m 368ms/step - accuracy: 0.1650 - loss: 5.7553 - val_accuracy: 0.1488 - val_loss: 5.2636 - learning_rate: 0.0010\n",
      "Epoch 7/30\n",
      "\u001b[1m69/69\u001b[0m \u001b[32m━━━━━━━━━━━━━━━━━━━━\u001b[0m\u001b[37m\u001b[0m \u001b[1m25s\u001b[0m 366ms/step - accuracy: 0.1948 - loss: 4.9517 - val_accuracy: 0.2024 - val_loss: 4.6520 - learning_rate: 0.0010\n",
      "Epoch 8/30\n",
      "\u001b[1m69/69\u001b[0m \u001b[32m━━━━━━━━━━━━━━━━━━━━\u001b[0m\u001b[37m\u001b[0m \u001b[1m25s\u001b[0m 366ms/step - accuracy: 0.2195 - loss: 4.4082 - val_accuracy: 0.2098 - val_loss: 4.3450 - learning_rate: 0.0010\n",
      "Epoch 9/30\n",
      "\u001b[1m69/69\u001b[0m \u001b[32m━━━━━━━━━━━━━━━━━━━━\u001b[0m\u001b[37m\u001b[0m \u001b[1m25s\u001b[0m 368ms/step - accuracy: 0.2526 - loss: 4.0392 - val_accuracy: 0.1902 - val_loss: 4.1002 - learning_rate: 0.0010\n",
      "Epoch 10/30\n",
      "\u001b[1m69/69\u001b[0m \u001b[32m━━━━━━━━━━━━━━━━━━━━\u001b[0m\u001b[37m\u001b[0m \u001b[1m25s\u001b[0m 367ms/step - accuracy: 0.2648 - loss: 3.8458 - val_accuracy: 0.1927 - val_loss: 3.8932 - learning_rate: 0.0010\n",
      "Epoch 11/30\n",
      "\u001b[1m69/69\u001b[0m \u001b[32m━━━━━━━━━━━━━━━━━━━━\u001b[0m\u001b[37m\u001b[0m \u001b[1m25s\u001b[0m 362ms/step - accuracy: 0.2721 - loss: 3.6145 - val_accuracy: 0.1659 - val_loss: 4.2410 - learning_rate: 0.0010\n",
      "Epoch 12/30\n",
      "\u001b[1m69/69\u001b[0m \u001b[32m━━━━━━━━━━━━━━━━━━━━\u001b[0m\u001b[37m\u001b[0m \u001b[1m25s\u001b[0m 367ms/step - accuracy: 0.2834 - loss: 3.5157 - val_accuracy: 0.2244 - val_loss: 3.6257 - learning_rate: 0.0010\n",
      "Epoch 13/30\n",
      "\u001b[1m69/69\u001b[0m \u001b[32m━━━━━━━━━━━━━━━━━━━━\u001b[0m\u001b[37m\u001b[0m \u001b[1m25s\u001b[0m 363ms/step - accuracy: 0.2986 - loss: 3.4464 - val_accuracy: 0.2366 - val_loss: 3.9076 - learning_rate: 0.0010\n",
      "Epoch 14/30\n",
      "\u001b[1m69/69\u001b[0m \u001b[32m━━━━━━━━━━━━━━━━━━━━\u001b[0m\u001b[37m\u001b[0m \u001b[1m25s\u001b[0m 368ms/step - accuracy: 0.3130 - loss: 3.3930 - val_accuracy: 0.2244 - val_loss: 3.5852 - learning_rate: 0.0010\n",
      "Epoch 15/30\n",
      "\u001b[1m69/69\u001b[0m \u001b[32m━━━━━━━━━━━━━━━━━━━━\u001b[0m\u001b[37m\u001b[0m \u001b[1m25s\u001b[0m 366ms/step - accuracy: 0.2986 - loss: 3.2878 - val_accuracy: 0.2366 - val_loss: 3.5354 - learning_rate: 0.0010\n",
      "Epoch 16/30\n",
      "\u001b[1m69/69\u001b[0m \u001b[32m━━━━━━━━━━━━━━━━━━━━\u001b[0m\u001b[37m\u001b[0m \u001b[1m25s\u001b[0m 368ms/step - accuracy: 0.3245 - loss: 3.3143 - val_accuracy: 0.2439 - val_loss: 3.5054 - learning_rate: 0.0010\n",
      "Epoch 17/30\n",
      "\u001b[1m69/69\u001b[0m \u001b[32m━━━━━━━━━━━━━━━━━━━━\u001b[0m\u001b[37m\u001b[0m \u001b[1m25s\u001b[0m 368ms/step - accuracy: 0.3024 - loss: 3.2756 - val_accuracy: 0.2561 - val_loss: 3.3961 - learning_rate: 0.0010\n",
      "Epoch 18/30\n",
      "\u001b[1m69/69\u001b[0m \u001b[32m━━━━━━━━━━━━━━━━━━━━\u001b[0m\u001b[37m\u001b[0m \u001b[1m25s\u001b[0m 363ms/step - accuracy: 0.3351 - loss: 3.0731 - val_accuracy: 0.1683 - val_loss: 4.2113 - learning_rate: 0.0010\n",
      "Epoch 19/30\n",
      "\u001b[1m69/69\u001b[0m \u001b[32m━━━━━━━━━━━━━━━━━━━━\u001b[0m\u001b[37m\u001b[0m \u001b[1m25s\u001b[0m 361ms/step - accuracy: 0.3365 - loss: 3.1080 - val_accuracy: 0.2024 - val_loss: 3.5985 - learning_rate: 0.0010\n",
      "Epoch 20/30\n",
      "\u001b[1m69/69\u001b[0m \u001b[32m━━━━━━━━━━━━━━━━━━━━\u001b[0m\u001b[37m\u001b[0m \u001b[1m25s\u001b[0m 361ms/step - accuracy: 0.3459 - loss: 3.0760 - val_accuracy: 0.2537 - val_loss: 3.4009 - learning_rate: 0.0010\n",
      "Epoch 21/30\n",
      "\u001b[1m69/69\u001b[0m \u001b[32m━━━━━━━━━━━━━━━━━━━━\u001b[0m\u001b[37m\u001b[0m \u001b[1m25s\u001b[0m 366ms/step - accuracy: 0.3746 - loss: 2.9130 - val_accuracy: 0.3073 - val_loss: 3.0085 - learning_rate: 5.0000e-04\n",
      "Epoch 22/30\n",
      "\u001b[1m69/69\u001b[0m \u001b[32m━━━━━━━━━━━━━━━━━━━━\u001b[0m\u001b[37m\u001b[0m \u001b[1m25s\u001b[0m 365ms/step - accuracy: 0.4084 - loss: 2.6474 - val_accuracy: 0.3610 - val_loss: 2.7453 - learning_rate: 5.0000e-04\n",
      "Epoch 23/30\n",
      "\u001b[1m69/69\u001b[0m \u001b[32m━━━━━━━━━━━━━━━━━━━━\u001b[0m\u001b[37m\u001b[0m \u001b[1m25s\u001b[0m 362ms/step - accuracy: 0.3929 - loss: 2.5928 - val_accuracy: 0.3463 - val_loss: 2.7489 - learning_rate: 5.0000e-04\n",
      "Epoch 24/30\n",
      "\u001b[1m69/69\u001b[0m \u001b[32m━━━━━━━━━━━━━━━━━━━━\u001b[0m\u001b[37m\u001b[0m \u001b[1m25s\u001b[0m 367ms/step - accuracy: 0.4265 - loss: 2.4940 - val_accuracy: 0.4024 - val_loss: 2.5351 - learning_rate: 5.0000e-04\n",
      "Epoch 25/30\n",
      "\u001b[1m69/69\u001b[0m \u001b[32m━━━━━━━━━━━━━━━━━━━━\u001b[0m\u001b[37m\u001b[0m \u001b[1m25s\u001b[0m 361ms/step - accuracy: 0.4223 - loss: 2.4284 - val_accuracy: 0.3073 - val_loss: 2.8596 - learning_rate: 5.0000e-04\n",
      "Epoch 26/30\n",
      "\u001b[1m69/69\u001b[0m \u001b[32m━━━━━━━━━━━━━━━━━━━━\u001b[0m\u001b[37m\u001b[0m \u001b[1m25s\u001b[0m 361ms/step - accuracy: 0.4410 - loss: 2.3743 - val_accuracy: 0.3488 - val_loss: 2.6909 - learning_rate: 5.0000e-04\n",
      "Epoch 27/30\n",
      "\u001b[1m69/69\u001b[0m \u001b[32m━━━━━━━━━━━━━━━━━━━━\u001b[0m\u001b[37m\u001b[0m \u001b[1m25s\u001b[0m 368ms/step - accuracy: 0.4830 - loss: 2.2627 - val_accuracy: 0.3976 - val_loss: 2.4355 - learning_rate: 5.0000e-04\n",
      "Epoch 28/30\n",
      "\u001b[1m69/69\u001b[0m \u001b[32m━━━━━━━━━━━━━━━━━━━━\u001b[0m\u001b[37m\u001b[0m \u001b[1m25s\u001b[0m 367ms/step - accuracy: 0.4550 - loss: 2.3155 - val_accuracy: 0.4439 - val_loss: 2.3190 - learning_rate: 5.0000e-04\n",
      "Epoch 29/30\n",
      "\u001b[1m69/69\u001b[0m \u001b[32m━━━━━━━━━━━━━━━━━━━━\u001b[0m\u001b[37m\u001b[0m \u001b[1m25s\u001b[0m 361ms/step - accuracy: 0.4575 - loss: 2.2694 - val_accuracy: 0.3537 - val_loss: 2.5853 - learning_rate: 5.0000e-04\n",
      "Epoch 30/30\n",
      "\u001b[1m69/69\u001b[0m \u001b[32m━━━━━━━━━━━━━━━━━━━━\u001b[0m\u001b[37m\u001b[0m \u001b[1m25s\u001b[0m 360ms/step - accuracy: 0.4526 - loss: 2.2757 - val_accuracy: 0.3317 - val_loss: 2.7425 - learning_rate: 5.0000e-04\n"
     ]
    }
   ],
   "source": [
    "# Import necessary libraries\n",
    "from tensorflow.keras.applications import InceptionResNetV2\n",
    "from tensorflow.keras.models import Sequential\n",
    "from tensorflow.keras.layers import TimeDistributed, GlobalAveragePooling2D, LSTM, Dropout, Dense, BatchNormalization\n",
    "from tensorflow.keras.regularizers import l2\n",
    "from tensorflow.keras.callbacks import EarlyStopping, ReduceLROnPlateau\n",
    "from tensorflow.keras.utils import to_categorical\n",
    "import tensorflow as tf\n",
    "import numpy as np\n",
    "import gc\n",
    "\n",
    "# Clear memory before creating the new model\n",
    "gc.collect()\n",
    "tf.keras.backend.clear_session()\n",
    "print(\"Memory cleared before creating InceptionResNetV2+LSTM model\")\n",
    "\n",
    "# Print TensorFlow version\n",
    "print(f\"TensorFlow version: {tf.__version__}\")\n",
    "\n",
    "# Pre-load InceptionResNetV2 weights\n",
    "print(\"Pre-loading InceptionResNetV2 weights...\")\n",
    "try:\n",
    "    base_model = InceptionResNetV2(weights='imagenet', include_top=False, input_shape=(IMAGE_HEIGHT, IMAGE_WIDTH, 3))\n",
    "    print(\"InceptionResNetV2 weights loaded successfully!\")\n",
    "except Exception as e:\n",
    "    print(f\"Failed to load InceptionResNetV2 weights: {str(e)}\")\n",
    "    print(\"Falling back to initializing InceptionResNetV2 without pre-trained weights...\")\n",
    "    base_model = InceptionResNetV2(weights=None, include_top=False, input_shape=(IMAGE_HEIGHT, IMAGE_WIDTH, 3))\n",
    "\n",
    "# Define function to create InceptionResNetV2+LSTM model\n",
    "def create_model(sequence_length, image_height, image_width, classes_list=None, dropout_rate=0.5, base_model=None):\n",
    "    print(\"Creating InceptionResNetV2+LSTM model with parameters:\")\n",
    "    print(f\"sequence_length: {sequence_length}, image_height: {image_height}, image_width: {image_width}, classes_list length: {len(classes_list) if classes_list is not None else None}, dropout_rate: {dropout_rate}\")\n",
    "    \n",
    "    if classes_list is None:\n",
    "        raise ValueError(\"classes_list must be provided to define the output layer size\")\n",
    "    if base_model is None:\n",
    "        raise ValueError(\"base_model must be provided to avoid re-downloading weights\")\n",
    "\n",
    "    try:\n",
    "        # Use the pre-loaded base model\n",
    "        # Freeze the base model for initial training\n",
    "        base_model.trainable = False\n",
    "\n",
    "        # Define the Sequential model\n",
    "        model = Sequential([\n",
    "            # TimeDistributed InceptionResNetV2 model\n",
    "            TimeDistributed(\n",
    "                base_model,\n",
    "                input_shape=(sequence_length, image_height, image_width, 3),\n",
    "                name=\"time_distributed_InceptionResNetV2\"\n",
    "            ),\n",
    "            # TimeDistributed GlobalAveragePooling2D\n",
    "            TimeDistributed(GlobalAveragePooling2D(), name=\"time_distributed_pooling\"),\n",
    "            # LSTM layer with 512 units\n",
    "            LSTM(512, activation=\"tanh\", return_sequences=False, kernel_regularizer=l2(0.01), name=\"lstm_InceptionResNetV2\"),\n",
    "            BatchNormalization(name=\"batch_normalization_InceptionResNetV2\"),\n",
    "            # Dropout after LSTM\n",
    "            Dropout(dropout_rate, name=\"dropout_lstm_InceptionResNetV2\"),\n",
    "            # Dense layer with 512 units\n",
    "            Dense(512, activation=\"relu\", kernel_regularizer=l2(0.01), name=\"dense_InceptionResNetV2_1\"),\n",
    "            # Dropout after first Dense\n",
    "            Dropout(dropout_rate, name=\"dropout_dense_InceptionResNetV2_1\"),\n",
    "            # Dense layer with 128 units\n",
    "            Dense(128, activation=\"relu\", kernel_regularizer=l2(0.01), name=\"dense_InceptionResNetV2_2\"),\n",
    "            # Dropout after second Dense\n",
    "            Dropout(dropout_rate, name=\"dropout_dense_InceptionResNetV2_2\"),\n",
    "            # Output Dense layer with softmax activation\n",
    "            Dense(len(classes_list), activation=\"softmax\", name=\"output_InceptionResNetV2\")\n",
    "        ])\n",
    "\n",
    "        # Print model summary\n",
    "        print(\"InceptionResNetV2+LSTM model architecture created successfully!\")\n",
    "        model.summary()\n",
    "\n",
    "        return model\n",
    "\n",
    "    except Exception as e:\n",
    "        print(f\"Error creating InceptionResNetV2+LSTM model: {str(e)}\")\n",
    "        import traceback\n",
    "        traceback.print_exc()\n",
    "        return None\n",
    "\n",
    "# Create the InceptionResNetV2+LSTM model using the pre-loaded base model\n",
    "model = create_model(\n",
    "    sequence_length=SEQUENCE_LENGTH,\n",
    "    image_height=IMAGE_HEIGHT,\n",
    "    image_width=IMAGE_WIDTH,\n",
    "    classes_list=CLASSES_LIST,\n",
    "    dropout_rate=DROPOUT_RATE,\n",
    "    base_model=base_model\n",
    ")\n",
    "\n",
    "# Check if model was created successfully\n",
    "if model is None:\n",
    "    raise ValueError(\"Failed to create InceptionResNetV2+LSTM model. Check error messages above.\")\n",
    "else:\n",
    "    print(\"InceptionResNetV2+LSTM Model Created Successfully!\")\n",
    "\n",
    "# Plot the model structure\n",
    "from tensorflow.keras.utils import plot_model\n",
    "try:\n",
    "    plot_model(model, to_file=f'{MODEL_NAME}_model_Plot.png', show_shapes=True, show_layer_names=True)\n",
    "    print(f\"{MODEL_NAME}_InceptionResNetV2_LSTM Model Plot saved successfully...\")\n",
    "except Exception as e:\n",
    "    print(f\"Failed to plot model: {str(e)}\")\n",
    "\n",
    "# Verify data shapes\n",
    "print(f\"train_gen.videos shape: {np.shape(train_gen.videos)}\")\n",
    "print(f\"train_gen.labels shape: {np.shape(train_gen.labels)}\")\n",
    "print(f\"val_gen.videos shape: {np.shape(val_gen.videos)}\")\n",
    "print(f\"val_gen.labels shape: {np.shape(val_gen.labels)}\")\n",
    "print(f\"features_test shape: {np.shape(features_test)}\")\n",
    "print(f\"labels_test shape: {np.shape(labels_test)}\")\n",
    "\n",
    "# Ensure labels_test is one-hot encoded\n",
    "if len(labels_test.shape) == 1:\n",
    "    print(\"Converting labels_test to one-hot encoded format...\")\n",
    "    labels_test = to_categorical(labels_test, num_classes=NO_OF_CLASSES)\n",
    "    print(f\"New labels_test shape: {labels_test.shape}\")\n",
    "\n",
    "# Verify generator batch shapes\n",
    "try:\n",
    "    videos, labels = train_gen[0]\n",
    "    print(f\"train_gen batch videos shape: {videos.shape}\")\n",
    "    print(f\"train_gen batch labels shape: {labels.shape}\")\n",
    "    videos, labels = val_gen[0]\n",
    "    print(f\"val_gen batch videos shape: {videos.shape}\")\n",
    "    print(f\"val_gen batch labels shape: {labels.shape}\")\n",
    "except Exception as e:\n",
    "    print(f\"Error accessing generator data: {str(e)}\")\n",
    "\n",
    "# Compile the model for initial training\n",
    "early_stopping_callback = EarlyStopping(monitor='val_loss', patience=7, mode='min', restore_best_weights=True)\n",
    "lr_scheduler = ReduceLROnPlateau(monitor='val_loss', factor=0.5, patience=3, min_lr=1e-6)\n",
    "\n",
    "model.compile(\n",
    "    loss='categorical_crossentropy',\n",
    "    optimizer=tf.keras.optimizers.Adam(learning_rate=0.001),  # Higher learning rate for initial training\n",
    "    metrics=['accuracy']\n",
    ")\n",
    "\n",
    "# Print dataset summary\n",
    "print(f\"Dataset - {DATASET_NAME}\")\n",
    "print(f\"There are total {len(ALL_CLASS_NAMES)} classes, selected {NO_OF_CLASSES} classes\")\n",
    "print(f\"Setting {MAX_VIDEO_PER_CLASS} videos/class to train the model.\")\n",
    "print(f\"Image size {IMAGE_HEIGHT}x{IMAGE_WIDTH} with {SEQUENCE_LENGTH} sequence length\")\n",
    "print(f\"Dropout rate: {DROPOUT_RATE}\")\n",
    "print(f\"Train-Test split ratio {int((1-TEST_SIZE)*100)}/{int(TEST_SIZE*100)}\")\n",
    "print(f\"Validation data from Train set {VALIDATION_SPLIT*100}%\")\n",
    "print(\"\\n\")\n",
    "\n",
    "# Initial training with frozen base model\n",
    "print(f\"Initial training started for InceptionResNetV2+LSTM model with {len(train_gen.videos)} videos of {NO_OF_CLASSES} classes with {len(val_gen.videos)} videos for validation...\")\n",
    "try:\n",
    "    initial_model_history = model.fit(\n",
    "        train_gen.as_dataset(),\n",
    "        validation_data=val_gen.as_dataset(),\n",
    "        epochs=EPOCHS,\n",
    "        class_weight=class_weights,\n",
    "        callbacks=[early_stopping_callback, lr_scheduler]\n",
    "    )\n",
    "except Exception as e:\n",
    "    print(f\"Error during initial model training: {str(e)}\")\n",
    "    import traceback\n",
    "    traceback.print_exc()\n"
   ]
  },
  {
   "cell_type": "code",
   "execution_count": 42,
   "id": "9109d9f9",
   "metadata": {
    "execution": {
     "iopub.execute_input": "2025-07-11T10:02:29.077071Z",
     "iopub.status.busy": "2025-07-11T10:02:29.076406Z",
     "iopub.status.idle": "2025-07-11T10:16:56.593902Z",
     "shell.execute_reply": "2025-07-11T10:16:56.593073Z"
    },
    "papermill": {
     "duration": 867.622419,
     "end_time": "2025-07-11T10:16:56.595073",
     "exception": false,
     "start_time": "2025-07-11T10:02:28.972654",
     "status": "completed"
    },
    "tags": []
   },
   "outputs": [
    {
     "name": "stdout",
     "output_type": "stream",
     "text": [
      "\n",
      "Fine-tuning started for InceptionResNetV2+LSTM model with 1638 videos of 16 classes with 410 videos for validation...\n",
      "Epoch 1/30\n",
      "\u001b[1m69/69\u001b[0m \u001b[32m━━━━━━━━━━━━━━━━━━━━\u001b[0m\u001b[37m\u001b[0m \u001b[1m189s\u001b[0m 995ms/step - accuracy: 0.4404 - loss: 2.3873 - val_accuracy: 0.2976 - val_loss: 2.7975 - learning_rate: 1.0000e-04\n",
      "Epoch 2/30\n",
      "\u001b[1m69/69\u001b[0m \u001b[32m━━━━━━━━━━━━━━━━━━━━\u001b[0m\u001b[37m\u001b[0m \u001b[1m26s\u001b[0m 381ms/step - accuracy: 0.5325 - loss: 1.9851 - val_accuracy: 0.4854 - val_loss: 2.0757 - learning_rate: 1.0000e-04\n",
      "Epoch 3/30\n",
      "\u001b[1m69/69\u001b[0m \u001b[32m━━━━━━━━━━━━━━━━━━━━\u001b[0m\u001b[37m\u001b[0m \u001b[1m26s\u001b[0m 373ms/step - accuracy: 0.5738 - loss: 1.8043 - val_accuracy: 0.4537 - val_loss: 2.1732 - learning_rate: 1.0000e-04\n",
      "Epoch 4/30\n",
      "\u001b[1m69/69\u001b[0m \u001b[32m━━━━━━━━━━━━━━━━━━━━\u001b[0m\u001b[37m\u001b[0m \u001b[1m26s\u001b[0m 376ms/step - accuracy: 0.6012 - loss: 1.6954 - val_accuracy: 0.5268 - val_loss: 1.8846 - learning_rate: 1.0000e-04\n",
      "Epoch 5/30\n",
      "\u001b[1m69/69\u001b[0m \u001b[32m━━━━━━━━━━━━━━━━━━━━\u001b[0m\u001b[37m\u001b[0m \u001b[1m26s\u001b[0m 372ms/step - accuracy: 0.6348 - loss: 1.5641 - val_accuracy: 0.5683 - val_loss: 1.8968 - learning_rate: 1.0000e-04\n",
      "Epoch 6/30\n",
      "\u001b[1m69/69\u001b[0m \u001b[32m━━━━━━━━━━━━━━━━━━━━\u001b[0m\u001b[37m\u001b[0m \u001b[1m26s\u001b[0m 380ms/step - accuracy: 0.6608 - loss: 1.4907 - val_accuracy: 0.5488 - val_loss: 1.8204 - learning_rate: 1.0000e-04\n",
      "Epoch 7/30\n",
      "\u001b[1m69/69\u001b[0m \u001b[32m━━━━━━━━━━━━━━━━━━━━\u001b[0m\u001b[37m\u001b[0m \u001b[1m26s\u001b[0m 372ms/step - accuracy: 0.6865 - loss: 1.4271 - val_accuracy: 0.5634 - val_loss: 1.8314 - learning_rate: 1.0000e-04\n",
      "Epoch 8/30\n",
      "\u001b[1m69/69\u001b[0m \u001b[32m━━━━━━━━━━━━━━━━━━━━\u001b[0m\u001b[37m\u001b[0m \u001b[1m26s\u001b[0m 372ms/step - accuracy: 0.6931 - loss: 1.3813 - val_accuracy: 0.5756 - val_loss: 1.8890 - learning_rate: 1.0000e-04\n",
      "Epoch 9/30\n",
      "\u001b[1m69/69\u001b[0m \u001b[32m━━━━━━━━━━━━━━━━━━━━\u001b[0m\u001b[37m\u001b[0m \u001b[1m26s\u001b[0m 372ms/step - accuracy: 0.7498 - loss: 1.2920 - val_accuracy: 0.5902 - val_loss: 1.8613 - learning_rate: 1.0000e-04\n",
      "Epoch 10/30\n",
      "\u001b[1m69/69\u001b[0m \u001b[32m━━━━━━━━━━━━━━━━━━━━\u001b[0m\u001b[37m\u001b[0m \u001b[1m26s\u001b[0m 377ms/step - accuracy: 0.7869 - loss: 1.1613 - val_accuracy: 0.6195 - val_loss: 1.6414 - learning_rate: 5.0000e-05\n",
      "Epoch 11/30\n",
      "\u001b[1m69/69\u001b[0m \u001b[32m━━━━━━━━━━━━━━━━━━━━\u001b[0m\u001b[37m\u001b[0m \u001b[1m26s\u001b[0m 379ms/step - accuracy: 0.7991 - loss: 1.0835 - val_accuracy: 0.6366 - val_loss: 1.5846 - learning_rate: 5.0000e-05\n",
      "Epoch 12/30\n",
      "\u001b[1m69/69\u001b[0m \u001b[32m━━━━━━━━━━━━━━━━━━━━\u001b[0m\u001b[37m\u001b[0m \u001b[1m26s\u001b[0m 374ms/step - accuracy: 0.8119 - loss: 1.0520 - val_accuracy: 0.6244 - val_loss: 1.6278 - learning_rate: 5.0000e-05\n",
      "Epoch 13/30\n",
      "\u001b[1m69/69\u001b[0m \u001b[32m━━━━━━━━━━━━━━━━━━━━\u001b[0m\u001b[37m\u001b[0m \u001b[1m26s\u001b[0m 372ms/step - accuracy: 0.8278 - loss: 1.0053 - val_accuracy: 0.6220 - val_loss: 1.5965 - learning_rate: 5.0000e-05\n",
      "Epoch 14/30\n",
      "\u001b[1m69/69\u001b[0m \u001b[32m━━━━━━━━━━━━━━━━━━━━\u001b[0m\u001b[37m\u001b[0m \u001b[1m26s\u001b[0m 373ms/step - accuracy: 0.8483 - loss: 0.9577 - val_accuracy: 0.6146 - val_loss: 1.6535 - learning_rate: 5.0000e-05\n",
      "Epoch 15/30\n",
      "\u001b[1m69/69\u001b[0m \u001b[32m━━━━━━━━━━━━━━━━━━━━\u001b[0m\u001b[37m\u001b[0m \u001b[1m26s\u001b[0m 378ms/step - accuracy: 0.8609 - loss: 0.9135 - val_accuracy: 0.6317 - val_loss: 1.5630 - learning_rate: 2.5000e-05\n",
      "Epoch 16/30\n",
      "\u001b[1m69/69\u001b[0m \u001b[32m━━━━━━━━━━━━━━━━━━━━\u001b[0m\u001b[37m\u001b[0m \u001b[1m26s\u001b[0m 378ms/step - accuracy: 0.8890 - loss: 0.8656 - val_accuracy: 0.6634 - val_loss: 1.5288 - learning_rate: 2.5000e-05\n",
      "Epoch 17/30\n",
      "\u001b[1m69/69\u001b[0m \u001b[32m━━━━━━━━━━━━━━━━━━━━\u001b[0m\u001b[37m\u001b[0m \u001b[1m26s\u001b[0m 373ms/step - accuracy: 0.9087 - loss: 0.8176 - val_accuracy: 0.6390 - val_loss: 1.5735 - learning_rate: 2.5000e-05\n",
      "Epoch 18/30\n",
      "\u001b[1m69/69\u001b[0m \u001b[32m━━━━━━━━━━━━━━━━━━━━\u001b[0m\u001b[37m\u001b[0m \u001b[1m26s\u001b[0m 371ms/step - accuracy: 0.9002 - loss: 0.8022 - val_accuracy: 0.6390 - val_loss: 1.5931 - learning_rate: 2.5000e-05\n",
      "Epoch 19/30\n",
      "\u001b[1m69/69\u001b[0m \u001b[32m━━━━━━━━━━━━━━━━━━━━\u001b[0m\u001b[37m\u001b[0m \u001b[1m26s\u001b[0m 373ms/step - accuracy: 0.9105 - loss: 0.7839 - val_accuracy: 0.6512 - val_loss: 1.5719 - learning_rate: 2.5000e-05\n",
      "Epoch 20/30\n",
      "\u001b[1m69/69\u001b[0m \u001b[32m━━━━━━━━━━━━━━━━━━━━\u001b[0m\u001b[37m\u001b[0m \u001b[1m26s\u001b[0m 378ms/step - accuracy: 0.9243 - loss: 0.7657 - val_accuracy: 0.6683 - val_loss: 1.5109 - learning_rate: 1.2500e-05\n",
      "Epoch 21/30\n",
      "\u001b[1m69/69\u001b[0m \u001b[32m━━━━━━━━━━━━━━━━━━━━\u001b[0m\u001b[37m\u001b[0m \u001b[1m26s\u001b[0m 372ms/step - accuracy: 0.9259 - loss: 0.7326 - val_accuracy: 0.6659 - val_loss: 1.5201 - learning_rate: 1.2500e-05\n",
      "Epoch 22/30\n",
      "\u001b[1m69/69\u001b[0m \u001b[32m━━━━━━━━━━━━━━━━━━━━\u001b[0m\u001b[37m\u001b[0m \u001b[1m26s\u001b[0m 373ms/step - accuracy: 0.9549 - loss: 0.6976 - val_accuracy: 0.6634 - val_loss: 1.5318 - learning_rate: 1.2500e-05\n",
      "Epoch 23/30\n",
      "\u001b[1m69/69\u001b[0m \u001b[32m━━━━━━━━━━━━━━━━━━━━\u001b[0m\u001b[37m\u001b[0m \u001b[1m26s\u001b[0m 373ms/step - accuracy: 0.9488 - loss: 0.6857 - val_accuracy: 0.6707 - val_loss: 1.5323 - learning_rate: 1.2500e-05\n",
      "Epoch 24/30\n",
      "\u001b[1m69/69\u001b[0m \u001b[32m━━━━━━━━━━━━━━━━━━━━\u001b[0m\u001b[37m\u001b[0m \u001b[1m26s\u001b[0m 371ms/step - accuracy: 0.9410 - loss: 0.6870 - val_accuracy: 0.6634 - val_loss: 1.5444 - learning_rate: 6.2500e-06\n",
      "Epoch 25/30\n",
      "\u001b[1m69/69\u001b[0m \u001b[32m━━━━━━━━━━━━━━━━━━━━\u001b[0m\u001b[37m\u001b[0m \u001b[1m26s\u001b[0m 371ms/step - accuracy: 0.9585 - loss: 0.6748 - val_accuracy: 0.6683 - val_loss: 1.5357 - learning_rate: 6.2500e-06\n",
      "Epoch 26/30\n",
      "\u001b[1m69/69\u001b[0m \u001b[32m━━━━━━━━━━━━━━━━━━━━\u001b[0m\u001b[37m\u001b[0m \u001b[1m26s\u001b[0m 372ms/step - accuracy: 0.9532 - loss: 0.6693 - val_accuracy: 0.6829 - val_loss: 1.5166 - learning_rate: 6.2500e-06\n",
      "Epoch 27/30\n",
      "\u001b[1m69/69\u001b[0m \u001b[32m━━━━━━━━━━━━━━━━━━━━\u001b[0m\u001b[37m\u001b[0m \u001b[1m26s\u001b[0m 372ms/step - accuracy: 0.9583 - loss: 0.6643 - val_accuracy: 0.6829 - val_loss: 1.5130 - learning_rate: 3.1250e-06\n",
      "\n",
      "Evaluating InceptionResNetV2+LSTM model on test set...\n",
      "Total 512 videos and 512 classes\n",
      "test_gen batch videos shape: (24, 5, 128, 128, 3)\n",
      "test_gen batch labels shape: (24, 16)\n",
      "\u001b[1m22/22\u001b[0m \u001b[32m━━━━━━━━━━━━━━━━━━━━\u001b[0m\u001b[37m\u001b[0m \u001b[1m7s\u001b[0m 303ms/step - accuracy: 0.6554 - loss: 1.4875\n",
      "InceptionResNetV2+LSTM Test Loss: 1.5015\n",
      "InceptionResNetV2+LSTM Test Accuracy: 66.02%\n"
     ]
    }
   ],
   "source": [
    "\n",
    "# Unfreeze some layers for fine-tuning\n",
    "base_model.trainable = True\n",
    "# Freeze all layers except the last 8 layers (consistent with previous InceptionResNetV2 code)\n",
    "for layer in base_model.layers[:-8]:\n",
    "    layer.trainable = False\n",
    "\n",
    "# Recompile the model with a lower learning rate for fine-tuning\n",
    "model.compile(\n",
    "    loss='categorical_crossentropy',\n",
    "    optimizer=tf.keras.optimizers.Adam(learning_rate=0.0001),  # Lower learning rate for fine-tuning\n",
    "    metrics=['accuracy']\n",
    ")\n",
    "\n",
    "# Fine-tune the model\n",
    "print(f\"\\nFine-tuning started for InceptionResNetV2+LSTM model with {len(train_gen.videos)} videos of {NO_OF_CLASSES} classes with {len(val_gen.videos)} videos for validation...\")\n",
    "try:\n",
    "    fine_tune_model_history = model.fit(\n",
    "        train_gen.as_dataset(),\n",
    "        validation_data=val_gen.as_dataset(),\n",
    "        epochs=EPOCHS,\n",
    "        class_weight=class_weights,\n",
    "        callbacks=[early_stopping_callback, lr_scheduler]\n",
    "    )\n",
    "except Exception as e:\n",
    "    print(f\"Error during fine-tuning: {str(e)}\")\n",
    "    import traceback\n",
    "    traceback.print_exc()\n",
    "\n",
    "# Evaluate the model on the test set\n",
    "print(\"\\nEvaluating InceptionResNetV2+LSTM model on test set...\")\n",
    "test_gen = VideoDataGenerator(\n",
    "    videos=features_test,\n",
    "    labels=labels_test,\n",
    "    batch_size=BATCH_SIZE\n",
    ")\n",
    "try:\n",
    "    videos, labels = test_gen[0]\n",
    "    print(f\"test_gen batch videos shape: {videos.shape}\")\n",
    "    print(f\"test_gen batch labels shape: {labels.shape}\")\n",
    "    loss, accuracy = model.evaluate(test_gen.as_dataset())\n",
    "    print(f'InceptionResNetV2+LSTM Test Loss: {loss:.4f}')\n",
    "    print(f'InceptionResNetV2+LSTM Test Accuracy: {accuracy * 100:.2f}%')\n",
    "except Exception as e:\n",
    "    print(f\"Error during model evaluation: {str(e)}\")\n",
    "    import traceback\n",
    "    traceback.print_exc()\n"
   ]
  },
  {
   "cell_type": "code",
   "execution_count": 43,
   "id": "4403c4d8",
   "metadata": {
    "execution": {
     "iopub.execute_input": "2025-07-11T10:16:56.974928Z",
     "iopub.status.busy": "2025-07-11T10:16:56.974653Z",
     "iopub.status.idle": "2025-07-11T10:18:22.455134Z",
     "shell.execute_reply": "2025-07-11T10:18:22.454459Z"
    },
    "papermill": {
     "duration": 85.673359,
     "end_time": "2025-07-11T10:18:22.456945",
     "exception": false,
     "start_time": "2025-07-11T10:16:56.783586",
     "status": "completed"
    },
    "tags": []
   },
   "outputs": [
    {
     "data": {
      "image/png": "[encoded data removed]",
      "text/plain": [
       "<Figure size 1200x500 with 2 Axes>"
      ]
     },
     "metadata": {},
     "output_type": "display_data"
    },
    {
     "name": "stdout",
     "output_type": "stream",
     "text": [
      "\u001b[1m22/22\u001b[0m \u001b[32m━━━━━━━━━━━━━━━━━━━━\u001b[0m\u001b[37m\u001b[0m \u001b[1m84s\u001b[0m 2s/step\n",
      "True classes shape: (512,)\n",
      "Predicted classes shape: (512,)\n",
      "\n",
      "InceptionResNetV2+LSTM Classification Report:\n",
      "                    precision    recall  f1-score   support\n",
      "\n",
      "  write on a paper       0.50      0.34      0.41        29\n",
      "        use laptop       0.67      0.81      0.73        36\n",
      "         read book       0.51      0.62      0.56        29\n",
      "         sit still       0.35      0.38      0.36        37\n",
      "             drink       0.40      0.46      0.43        35\n",
      "          sit down       0.97      0.95      0.96        38\n",
      "use vacuum cleaner       0.87      0.96      0.92        28\n",
      "               eat       0.54      0.68      0.60        28\n",
      "       play guitar       0.92      0.85      0.88        39\n",
      "  lie down on sofa       0.87      0.96      0.92        28\n",
      "          stand up       0.94      0.89      0.91        36\n",
      "        toss paper       0.69      0.64      0.67        28\n",
      "              walk       0.81      1.00      0.90        30\n",
      "         play game       0.33      0.23      0.27        26\n",
      "          cheer up       0.64      0.43      0.52        37\n",
      "    call cellphone       0.29      0.25      0.27        28\n",
      "\n",
      "          accuracy                           0.66       512\n",
      "         macro avg       0.65      0.65      0.64       512\n",
      "      weighted avg       0.66      0.66      0.65       512\n",
      "\n"
     ]
    },
    {
     "name": "stderr",
     "output_type": "stream",
     "text": [
      "/usr/local/lib/python3.11/dist-packages/keras/src/trainers/epoch_iterator.py:151: UserWarning: Your input ran out of data; interrupting training. Make sure that your dataset or generator can generate at least `steps_per_epoch * epochs` batches. You may need to use the `.repeat()` function when building your dataset.\n",
      "  self._interrupted_warning()\n"
     ]
    },
    {
     "data": {
      "image/png": "[encoded data removed]",
      "text/plain": [
       "<Figure size 800x600 with 2 Axes>"
      ]
     },
     "metadata": {},
     "output_type": "display_data"
    }
   ],
   "source": [
    "\n",
    "# Plot training history (combine initial and fine-tuning)\n",
    "import matplotlib.pyplot as plt\n",
    "\n",
    "try:\n",
    "    # Combine histories\n",
    "    history_accuracy = initial_model_history.history['accuracy'] + fine_tune_model_history.history['accuracy']\n",
    "    history_val_accuracy = initial_model_history.history['val_accuracy'] + fine_tune_model_history.history['val_accuracy']\n",
    "    history_loss = initial_model_history.history['loss'] + fine_tune_model_history.history['loss']\n",
    "    history_val_loss = initial_model_history.history['val_loss'] + fine_tune_model_history.history['val_loss']\n",
    "\n",
    "    plt.figure(figsize=(12, 5))\n",
    "\n",
    "    # Accuracy\n",
    "    plt.subplot(1, 2, 1)\n",
    "    plt.plot(history_accuracy, label='Train Accuracy')\n",
    "    plt.plot(history_val_accuracy, label='Validation Accuracy')\n",
    "    plt.axvline(x=len(initial_model_history.history['accuracy']), color='r', linestyle='--', label='Start Fine-Tuning')\n",
    "    plt.title('InceptionResNetV2+LSTM Model Accuracy')\n",
    "    plt.xlabel('Epoch')\n",
    "    plt.ylabel('Accuracy')\n",
    "    plt.legend()\n",
    "\n",
    "    # Loss\n",
    "    plt.subplot(1, 2, 2)\n",
    "    plt.plot(history_loss, label='Train Loss')\n",
    "    plt.plot(history_val_loss, label='Validation Loss')\n",
    "    plt.axvline(x=len(initial_model_history.history['loss']), color='r', linestyle='--', label='Start Fine-Tuning')\n",
    "    plt.title('InceptionResNetV2+LSTM Model Loss')\n",
    "    plt.xlabel('Epoch')\n",
    "    plt.ylabel('Loss')\n",
    "    plt.legend()\n",
    "\n",
    "    plt.tight_layout()\n",
    "    plt.show()\n",
    "except Exception as e:\n",
    "    print(f\"Error plotting training history: {str(e)}\")\n",
    "\n",
    "# Generate confusion matrix and classification report\n",
    "from sklearn.metrics import classification_report, confusion_matrix\n",
    "import seaborn as sns\n",
    "\n",
    "# Get predictions\n",
    "try:\n",
    "    predictions = model.predict(test_gen.as_dataset())\n",
    "    predicted_classes = np.argmax(predictions, axis=1)\n",
    "    true_classes = np.argmax(labels_test, axis=1)\n",
    "\n",
    "    # Verify shapes\n",
    "    print(f\"True classes shape: {true_classes.shape}\")\n",
    "    print(f\"Predicted classes shape: {predicted_classes.shape}\")\n",
    "    assert len(true_classes) == len(predicted_classes), \"Sample counts do not match!\"\n",
    "\n",
    "    # Generate classification report\n",
    "    print(\"\\nInceptionResNetV2+LSTM Classification Report:\")\n",
    "    print(classification_report(true_classes, predicted_classes, target_names=CLASSES_LIST))\n",
    "\n",
    "    # Plot confusion matrix\n",
    "    cm = confusion_matrix(true_classes, predicted_classes)\n",
    "    plt.figure(figsize=(8, 6))\n",
    "    sns.heatmap(cm, annot=True, fmt='d', cmap='Blues', xticklabels=CLASSES_LIST, yticklabels=CLASSES_LIST)\n",
    "    plt.xlabel('Predicted')\n",
    "    plt.ylabel('True')\n",
    "    plt.title('InceptionResNetV2+LSTM Confusion Matrix')\n",
    "    plt.show()\n",
    "except Exception as e:\n",
    "    print(f\"Error during prediction or plotting: {str(e)}\")\n",
    "    import traceback\n",
    "    traceback.print_exc()"
   ]
  },
  {
   "cell_type": "code",
   "execution_count": 44,
   "id": "35c068a0",
   "metadata": {
    "execution": {
     "iopub.execute_input": "2025-07-11T10:18:22.836910Z",
     "iopub.status.busy": "2025-07-11T10:18:22.836443Z",
     "iopub.status.idle": "2025-07-11T10:18:30.360855Z",
     "shell.execute_reply": "2025-07-11T10:18:30.360059Z"
    },
    "papermill": {
     "duration": 7.713688,
     "end_time": "2025-07-11T10:18:30.362258",
     "exception": false,
     "start_time": "2025-07-11T10:18:22.648570",
     "status": "completed"
    },
    "tags": []
   },
   "outputs": [
    {
     "name": "stdout",
     "output_type": "stream",
     "text": [
      "\u001b[1m16/16\u001b[0m \u001b[32m━━━━━━━━━━━━━━━━━━━━\u001b[0m\u001b[37m\u001b[0m \u001b[1m6s\u001b[0m 335ms/step - accuracy: 0.6559 - loss: 1.4854\n"
     ]
    }
   ],
   "source": [
    "# previous code\n",
    "model_evaluation_history = model.evaluate(features_test, labels_test)"
   ]
  }
 ],
 "metadata": {
  "kaggle": {
   "accelerator": "nvidiaTeslaT4",
   "dataSources": [
    {
     "datasetId": 1357563,
     "sourceId": 2256095,
     "sourceType": "datasetVersion"
    },
    {
     "datasetId": 7763484,
     "sourceId": 12338519,
     "sourceType": "datasetVersion"
    },
    {
     "datasetId": 7801555,
     "sourceId": 12373067,
     "sourceType": "datasetVersion"
    },
    {
     "datasetId": 7801884,
     "sourceId": 12373562,
     "sourceType": "datasetVersion"
    }
   ],
   "dockerImageVersionId": 31090,
   "isGpuEnabled": true,
   "isInternetEnabled": true,
   "language": "python",
   "sourceType": "notebook"
  },
  "kernelspec": {
   "display_name": "Python 3",
   "language": "python",
   "name": "python3"
  },
  "language_info": {
   "codemirror_mode": {
    "name": "ipython",
    "version": 3
   },
   "file_extension": ".py",
   "mimetype": "text/x-python",
   "name": "python",
   "nbconvert_exporter": "python",
   "pygments_lexer": "ipython3",
   "version": "3.11.13"
  },
  "papermill": {
   "default_parameters": {},
   "duration": 2021.314404,
   "end_time": "2025-07-11T10:18:33.876610",
   "environment_variables": {},
   "exception": null,
   "input_path": "__notebook__.ipynb",
   "output_path": "__notebook__.ipynb",
   "parameters": {},
   "start_time": "2025-07-11T09:44:52.562206",
   "version": "2.6.0"
  }
 },
 "nbformat": 4,
 "nbformat_minor": 5
}
