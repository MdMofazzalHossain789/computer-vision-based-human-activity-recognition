{
 "cells": [
  {
   "cell_type": "markdown",
   "id": "0cca665f",
   "metadata": {
    "papermill": {
     "duration": 0.012174,
     "end_time": "2025-07-09T17:33:26.877369",
     "exception": false,
     "start_time": "2025-07-09T17:33:26.865195",
     "status": "completed"
    },
    "tags": []
   },
   "source": [
    "# Initialization\n",
    "## Import Libraries"
   ]
  },
  {
   "cell_type": "code",
   "execution_count": 1,
   "id": "7f7bad69",
   "metadata": {
    "execution": {
     "iopub.execute_input": "2025-07-09T17:33:26.900269Z",
     "iopub.status.busy": "2025-07-09T17:33:26.899678Z",
     "iopub.status.idle": "2025-07-09T17:33:43.851535Z",
     "shell.execute_reply": "2025-07-09T17:33:43.850544Z"
    },
    "papermill": {
     "duration": 16.965005,
     "end_time": "2025-07-09T17:33:43.852912",
     "exception": false,
     "start_time": "2025-07-09T17:33:26.887907",
     "status": "completed"
    },
    "tags": []
   },
   "outputs": [
    {
     "name": "stdout",
     "output_type": "stream",
     "text": [
      "Collecting mediapipe\r\n",
      "  Downloading mediapipe-0.10.21-cp311-cp311-manylinux_2_28_x86_64.whl.metadata (9.7 kB)\r\n",
      "Requirement already satisfied: absl-py in /usr/local/lib/python3.11/dist-packages (from mediapipe) (1.4.0)\r\n",
      "Requirement already satisfied: attrs>=19.1.0 in /usr/local/lib/python3.11/dist-packages (from mediapipe) (25.3.0)\r\n",
      "Requirement already satisfied: flatbuffers>=2.0 in /usr/local/lib/python3.11/dist-packages (from mediapipe) (25.2.10)\r\n",
      "Requirement already satisfied: jax in /usr/local/lib/python3.11/dist-packages (from mediapipe) (0.5.2)\r\n",
      "Requirement already satisfied: jaxlib in /usr/local/lib/python3.11/dist-packages (from mediapipe) (0.5.1)\r\n",
      "Requirement already satisfied: matplotlib in /usr/local/lib/python3.11/dist-packages (from mediapipe) (3.7.2)\r\n",
      "Requirement already satisfied: numpy<2 in /usr/local/lib/python3.11/dist-packages (from mediapipe) (1.26.4)\r\n",
      "Requirement already satisfied: opencv-contrib-python in /usr/local/lib/python3.11/dist-packages (from mediapipe) (4.11.0.86)\r\n",
      "Collecting protobuf<5,>=4.25.3 (from mediapipe)\r\n",
      "  Downloading protobuf-4.25.8-cp37-abi3-manylinux2014_x86_64.whl.metadata (541 bytes)\r\n",
      "Collecting sounddevice>=0.4.4 (from mediapipe)\r\n",
      "  Downloading sounddevice-0.5.2-py3-none-any.whl.metadata (1.6 kB)\r\n",
      "Requirement already satisfied: sentencepiece in /usr/local/lib/python3.11/dist-packages (from mediapipe) (0.2.0)\r\n",
      "Requirement already satisfied: mkl_fft in /usr/local/lib/python3.11/dist-packages (from numpy<2->mediapipe) (1.3.8)\r\n",
      "Requirement already satisfied: mkl_random in /usr/local/lib/python3.11/dist-packages (from numpy<2->mediapipe) (1.2.4)\r\n",
      "Requirement already satisfied: mkl_umath in /usr/local/lib/python3.11/dist-packages (from numpy<2->mediapipe) (0.1.1)\r\n",
      "Requirement already satisfied: mkl in /usr/local/lib/python3.11/dist-packages (from numpy<2->mediapipe) (2025.1.0)\r\n",
      "Requirement already satisfied: tbb4py in /usr/local/lib/python3.11/dist-packages (from numpy<2->mediapipe) (2022.1.0)\r\n",
      "Requirement already satisfied: mkl-service in /usr/local/lib/python3.11/dist-packages (from numpy<2->mediapipe) (2.4.1)\r\n",
      "Requirement already satisfied: CFFI>=1.0 in /usr/local/lib/python3.11/dist-packages (from sounddevice>=0.4.4->mediapipe) (1.17.1)\r\n",
      "Requirement already satisfied: ml_dtypes>=0.4.0 in /usr/local/lib/python3.11/dist-packages (from jax->mediapipe) (0.4.1)\r\n",
      "Requirement already satisfied: opt_einsum in /usr/local/lib/python3.11/dist-packages (from jax->mediapipe) (3.4.0)\r\n",
      "Requirement already satisfied: scipy>=1.11.1 in /usr/local/lib/python3.11/dist-packages (from jax->mediapipe) (1.15.2)\r\n",
      "Requirement already satisfied: contourpy>=1.0.1 in /usr/local/lib/python3.11/dist-packages (from matplotlib->mediapipe) (1.3.1)\r\n",
      "Requirement already satisfied: cycler>=0.10 in /usr/local/lib/python3.11/dist-packages (from matplotlib->mediapipe) (0.12.1)\r\n",
      "Requirement already satisfied: fonttools>=4.22.0 in /usr/local/lib/python3.11/dist-packages (from matplotlib->mediapipe) (4.57.0)\r\n",
      "Requirement already satisfied: kiwisolver>=1.0.1 in /usr/local/lib/python3.11/dist-packages (from matplotlib->mediapipe) (1.4.8)\r\n",
      "Requirement already satisfied: packaging>=20.0 in /usr/local/lib/python3.11/dist-packages (from matplotlib->mediapipe) (25.0)\r\n",
      "Requirement already satisfied: pillow>=6.2.0 in /usr/local/lib/python3.11/dist-packages (from matplotlib->mediapipe) (11.1.0)\r\n",
      "Requirement already satisfied: pyparsing<3.1,>=2.3.1 in /usr/local/lib/python3.11/dist-packages (from matplotlib->mediapipe) (3.0.9)\r\n",
      "Requirement already satisfied: python-dateutil>=2.7 in /usr/local/lib/python3.11/dist-packages (from matplotlib->mediapipe) (2.9.0.post0)\r\n",
      "Requirement already satisfied: pycparser in /usr/local/lib/python3.11/dist-packages (from CFFI>=1.0->sounddevice>=0.4.4->mediapipe) (2.22)\r\n",
      "Requirement already satisfied: six>=1.5 in /usr/local/lib/python3.11/dist-packages (from python-dateutil>=2.7->matplotlib->mediapipe) (1.17.0)\r\n",
      "Requirement already satisfied: intel-openmp<2026,>=2024 in /usr/local/lib/python3.11/dist-packages (from mkl->numpy<2->mediapipe) (2024.2.0)\r\n",
      "Requirement already satisfied: tbb==2022.* in /usr/local/lib/python3.11/dist-packages (from mkl->numpy<2->mediapipe) (2022.1.0)\r\n",
      "Requirement already satisfied: tcmlib==1.* in /usr/local/lib/python3.11/dist-packages (from tbb==2022.*->mkl->numpy<2->mediapipe) (1.3.0)\r\n",
      "Requirement already satisfied: intel-cmplr-lib-rt in /usr/local/lib/python3.11/dist-packages (from mkl_umath->numpy<2->mediapipe) (2024.2.0)\r\n",
      "Requirement already satisfied: intel-cmplr-lib-ur==2024.2.0 in /usr/local/lib/python3.11/dist-packages (from intel-openmp<2026,>=2024->mkl->numpy<2->mediapipe) (2024.2.0)\r\n",
      "Downloading mediapipe-0.10.21-cp311-cp311-manylinux_2_28_x86_64.whl (35.6 MB)\r\n",
      "\u001b[2K   \u001b[90m━━━━━━━━━━━━━━━━━━━━━━━━━━━━━━━━━━━━━━━━\u001b[0m \u001b[32m35.6/35.6 MB\u001b[0m \u001b[31m50.8 MB/s\u001b[0m eta \u001b[36m0:00:00\u001b[0m\r\n",
      "\u001b[?25hDownloading protobuf-4.25.8-cp37-abi3-manylinux2014_x86_64.whl (294 kB)\r\n",
      "\u001b[2K   \u001b[90m━━━━━━━━━━━━━━━━━━━━━━━━━━━━━━━━━━━━━━━━\u001b[0m \u001b[32m294.9/294.9 kB\u001b[0m \u001b[31m21.8 MB/s\u001b[0m eta \u001b[36m0:00:00\u001b[0m\r\n",
      "\u001b[?25hDownloading sounddevice-0.5.2-py3-none-any.whl (32 kB)\r\n",
      "Installing collected packages: protobuf, sounddevice, mediapipe\r\n",
      "  Attempting uninstall: protobuf\r\n",
      "    Found existing installation: protobuf 3.20.3\r\n",
      "    Uninstalling protobuf-3.20.3:\r\n",
      "      Successfully uninstalled protobuf-3.20.3\r\n",
      "\u001b[31mERROR: pip's dependency resolver does not currently take into account all the packages that are installed. This behaviour is the source of the following dependency conflicts.\r\n",
      "google-api-core 1.34.1 requires protobuf!=3.20.0,!=3.20.1,!=4.21.0,!=4.21.1,!=4.21.2,!=4.21.3,!=4.21.4,!=4.21.5,<4.0.0dev,>=3.19.5, but you have protobuf 4.25.8 which is incompatible.\r\n",
      "bigframes 1.42.0 requires rich<14,>=12.4.4, but you have rich 14.0.0 which is incompatible.\r\n",
      "google-spark-connect 0.5.2 requires google-api-core>=2.19.1, but you have google-api-core 1.34.1 which is incompatible.\r\n",
      "google-cloud-bigtable 2.30.0 requires google-api-core[grpc]<3.0.0,>=2.16.0, but you have google-api-core 1.34.1 which is incompatible.\r\n",
      "google-cloud-storage 2.19.0 requires google-api-core<3.0.0dev,>=2.15.0, but you have google-api-core 1.34.1 which is incompatible.\r\n",
      "pandas-gbq 0.28.0 requires google-api-core<3.0.0dev,>=2.10.2, but you have google-api-core 1.34.1 which is incompatible.\u001b[0m\u001b[31m\r\n",
      "\u001b[0mSuccessfully installed mediapipe-0.10.21 protobuf-4.25.8 sounddevice-0.5.2\r\n",
      "Note: you may need to restart the kernel to use updated packages.\n"
     ]
    }
   ],
   "source": [
    "pip install mediapipe"
   ]
  },
  {
   "cell_type": "code",
   "execution_count": 2,
   "id": "5caafec9",
   "metadata": {
    "_cell_guid": "b1076dfc-b9ad-4769-8c92-a6c4dae69d19",
    "_uuid": "8f2839f25d086af736a60e9eeb907d3b93b6e0e5",
    "execution": {
     "iopub.execute_input": "2025-07-09T17:33:43.877221Z",
     "iopub.status.busy": "2025-07-09T17:33:43.876989Z",
     "iopub.status.idle": "2025-07-09T17:33:58.805663Z",
     "shell.execute_reply": "2025-07-09T17:33:58.804862Z"
    },
    "papermill": {
     "duration": 14.942296,
     "end_time": "2025-07-09T17:33:58.807177",
     "exception": false,
     "start_time": "2025-07-09T17:33:43.864881",
     "status": "completed"
    },
    "tags": []
   },
   "outputs": [
    {
     "name": "stderr",
     "output_type": "stream",
     "text": [
      "2025-07-09 17:33:45.552633: E external/local_xla/xla/stream_executor/cuda/cuda_fft.cc:477] Unable to register cuFFT factory: Attempting to register factory for plugin cuFFT when one has already been registered\n",
      "WARNING: All log messages before absl::InitializeLog() is called are written to STDERR\n",
      "E0000 00:00:1752082425.767147      19 cuda_dnn.cc:8310] Unable to register cuDNN factory: Attempting to register factory for plugin cuDNN when one has already been registered\n",
      "E0000 00:00:1752082425.825125      19 cuda_blas.cc:1418] Unable to register cuBLAS factory: Attempting to register factory for plugin cuBLAS when one has already been registered\n"
     ]
    }
   ],
   "source": [
    "# install librarires\n",
    "import os\n",
    "import tensorflow as tf\n",
    "import numpy as np\n",
    "import random"
   ]
  },
  {
   "cell_type": "markdown",
   "id": "2835c099",
   "metadata": {
    "papermill": {
     "duration": 0.013616,
     "end_time": "2025-07-09T17:33:58.843916",
     "exception": false,
     "start_time": "2025-07-09T17:33:58.830300",
     "status": "completed"
    },
    "tags": []
   },
   "source": [
    "## ℹ️ Set Global Constants"
   ]
  },
  {
   "cell_type": "code",
   "execution_count": 3,
   "id": "a64189c9",
   "metadata": {
    "execution": {
     "iopub.execute_input": "2025-07-09T17:33:58.869229Z",
     "iopub.status.busy": "2025-07-09T17:33:58.868489Z",
     "iopub.status.idle": "2025-07-09T17:33:58.884700Z",
     "shell.execute_reply": "2025-07-09T17:33:58.884005Z"
    },
    "papermill": {
     "duration": 0.029856,
     "end_time": "2025-07-09T17:33:58.885839",
     "exception": false,
     "start_time": "2025-07-09T17:33:58.855983",
     "status": "completed"
    },
    "tags": []
   },
   "outputs": [
    {
     "name": "stdout",
     "output_type": "stream",
     "text": [
      "Ucf50\n",
      "There are total 50 classes, selected 11 classes\n",
      "Setting 20/class to train the model.\n",
      "Image size 128x128 with 15 sequence length\n",
      "Dropout rate: 0.5\n",
      "Train-Test split ratio 80/20\n",
      "Validation data from Train set 20.0%\n"
     ]
    }
   ],
   "source": [
    "# global variables\n",
    "# set dataset directories\n",
    "\n",
    "\n",
    "DATASET_DIR = \"/kaggle/input/ucf50/UCF50\"\n",
    "DATASET_NAME = DATASET_DIR.split(\"/\")[-1].replace(\"-\", \" \").title()\n",
    "\n",
    "print(DATASET_NAME)\n",
    "\n",
    "ALL_CLASS_NAMES = os.listdir(DATASET_DIR)\n",
    "\n",
    "# Global constant variables -> \n",
    "NO_OF_CLASSES = 11\n",
    "CLASSES_LIST = [\n",
    "    \"Basketball\",\n",
    "    \"Biking\",\n",
    "    \"Diving\",\n",
    "    \"GolfSwing\",\n",
    "    \"HorseRiding\",\n",
    "    \"Skiing\",\n",
    "    # \"Running\", # not found in UCF50, so took an outdoor class\n",
    "    \"SkateBoarding\",\n",
    "    \"Swing\",\n",
    "    \"TennisSwing\",\n",
    "    \"TrampolineJumping\",\n",
    "    \"WalkingWithDog\"\n",
    "]\n",
    "\n",
    "\n",
    "# Model Configuration\n",
    "IMAGE_HEIGHT, IMAGE_WIDTH = 128, 128\n",
    "SEQUENCE_LENGTH = 15\n",
    "\n",
    "# set drop out rate\n",
    "DROPOUT_RATE = 0.5\n",
    "\n",
    "# set datas\n",
    "MAX_VIDEO_PER_CLASS = 20\n",
    "\n",
    "# split dataset\n",
    "TEST_SIZE = 0.20\n",
    "\n",
    "# model fit parameters\n",
    "EPOCHS = 30\n",
    "BATCH_SIZE = 16\n",
    "VALIDATION_SPLIT = 0.20\n",
    "\n",
    "# augmentation values\n",
    "NOISE_FACTOR = 0.02\n",
    "SHEAR_X= 1\n",
    "SHEAR_Y= 1\n",
    "\n",
    "# give a name of the model to save\n",
    "MODEL_NAME = \"Xception\"\n",
    "\n",
    "print(f\"There are total {len(ALL_CLASS_NAMES)} classes, selected {NO_OF_CLASSES} classes\")\n",
    "print(f\"Setting {MAX_VIDEO_PER_CLASS}/class to train the model.\")\n",
    "print(f\"Image size {IMAGE_HEIGHT}x{IMAGE_WIDTH} with {SEQUENCE_LENGTH} sequence length\")\n",
    "print(f\"Dropout rate: {DROPOUT_RATE}\")\n",
    "print(f\"Train-Test split ratio {int((1-TEST_SIZE)*100)}/{int(TEST_SIZE*100)}\")\n",
    "print(f\"Validation data from Train set {VALIDATION_SPLIT*100}%\")"
   ]
  },
  {
   "cell_type": "markdown",
   "id": "a9a59b8b",
   "metadata": {
    "papermill": {
     "duration": 0.011161,
     "end_time": "2025-07-09T17:33:58.908524",
     "exception": false,
     "start_time": "2025-07-09T17:33:58.897363",
     "status": "completed"
    },
    "tags": []
   },
   "source": [
    "## Set `Seed` Values"
   ]
  },
  {
   "cell_type": "code",
   "execution_count": 4,
   "id": "54a4f839",
   "metadata": {
    "execution": {
     "iopub.execute_input": "2025-07-09T17:33:58.931873Z",
     "iopub.status.busy": "2025-07-09T17:33:58.931638Z",
     "iopub.status.idle": "2025-07-09T17:33:58.935459Z",
     "shell.execute_reply": "2025-07-09T17:33:58.934949Z"
    },
    "papermill": {
     "duration": 0.01658,
     "end_time": "2025-07-09T17:33:58.936389",
     "exception": false,
     "start_time": "2025-07-09T17:33:58.919809",
     "status": "completed"
    },
    "tags": []
   },
   "outputs": [],
   "source": [
    "# set seeed to get similar values\n",
    "seed_constant = 27\n",
    "np.random.seed(seed_constant)\n",
    "random.seed(seed_constant)\n",
    "tf.random.set_seed(seed_constant)"
   ]
  },
  {
   "cell_type": "markdown",
   "id": "c067cecd",
   "metadata": {
    "papermill": {
     "duration": 0.011338,
     "end_time": "2025-07-09T17:33:58.959477",
     "exception": false,
     "start_time": "2025-07-09T17:33:58.948139",
     "status": "completed"
    },
    "tags": []
   },
   "source": [
    "# 📌 Function Definition\n",
    "## Resize and Frame Extraction"
   ]
  },
  {
   "cell_type": "code",
   "execution_count": 5,
   "id": "f19fac19",
   "metadata": {
    "execution": {
     "iopub.execute_input": "2025-07-09T17:33:59.026844Z",
     "iopub.status.busy": "2025-07-09T17:33:59.026554Z",
     "iopub.status.idle": "2025-07-09T17:33:59.035073Z",
     "shell.execute_reply": "2025-07-09T17:33:59.034528Z"
    },
    "papermill": {
     "duration": 0.022204,
     "end_time": "2025-07-09T17:33:59.036261",
     "exception": false,
     "start_time": "2025-07-09T17:33:59.014057",
     "status": "completed"
    },
    "tags": []
   },
   "outputs": [],
   "source": [
    "import cv2\n",
    "from concurrent.futures import ThreadPoolExecutor\n",
    "\n",
    "def resize_and_normalize_frame(frame, image_height, image_width):\n",
    "    try:\n",
    "        resized_frame = cv2.resize(frame, (image_width, image_height), interpolation=cv2.INTER_LINEAR)\n",
    "        normalized_frame = resized_frame / 255.0\n",
    "        return normalized_frame\n",
    "    except Exception as e:\n",
    "        print(f\"Error processing frame: {e}\")\n",
    "        return None\n",
    "\n",
    "def frames_extraction(video_path, \n",
    "                      sequence_length=SEQUENCE_LENGTH, \n",
    "                      image_height=IMAGE_HEIGHT, \n",
    "                      image_width=IMAGE_WIDTH):\n",
    "    # Declare a list to store video frames\n",
    "    frames_list = []\n",
    "\n",
    "    # Check if video file exists\n",
    "    if not os.path.exists(video_path):\n",
    "        print(f\"Error: Video file not found at {video_path}\")\n",
    "        return None\n",
    "\n",
    "    # Read the video file using VideoCapture with optimized settings\n",
    "    video_reader = cv2.VideoCapture(video_path, cv2.CAP_FFMPEG)\n",
    "\n",
    "    # Check if the video was opened successfully\n",
    "    if not video_reader.isOpened():\n",
    "        print(f\"Error: Could not open video file {video_path}\")\n",
    "        video_reader.release()\n",
    "        return None\n",
    "\n",
    "    # Get the total number of frames in the video\n",
    "    video_frames_count = int(video_reader.get(cv2.CAP_PROP_FRAME_COUNT))\n",
    "\n",
    "    # Ensure the video has enough frames\n",
    "    if video_frames_count < sequence_length:\n",
    "        print(f\"Warning: Video {video_path} has only {video_frames_count} frames, less than required {sequence_length}\")\n",
    "        video_reader.release()\n",
    "        return None\n",
    "\n",
    "    # Calculate the interval after which frames will be sampled\n",
    "    skip_frames_window = max(int(video_frames_count / sequence_length), 1)\n",
    "\n",
    "    # Pre-allocate frame indices to extract\n",
    "    frame_indices = [i * skip_frames_window for i in range(sequence_length)]\n",
    "\n",
    "    # Read and process frames in parallel\n",
    "    frames = []\n",
    "    for idx in frame_indices:\n",
    "        video_reader.set(cv2.CAP_PROP_POS_FRAMES, idx)\n",
    "        success, frame = video_reader.read()\n",
    "        if not success or frame is None:\n",
    "            print(f\"Warning: Failed to read frame at index {idx} from {video_path}\")\n",
    "            break\n",
    "        frame = cv2.cvtColor(frame, cv2.COLOR_BGR2RGB)\n",
    "        frames.append(frame)\n",
    "\n",
    "    # Release the VideoCapture object early\n",
    "    video_reader.release()\n",
    "\n",
    "    # Ensure the correct number of frames is read\n",
    "    if len(frames) != sequence_length:\n",
    "        print(f\"Warning: Read {len(frames)} frames instead of {sequence_length} from {video_path}\")\n",
    "        return None\n",
    "\n",
    "    # Process frames in parallel using ThreadPoolExecutor\n",
    "    with ThreadPoolExecutor() as executor:\n",
    "        processed_frames = list(executor.map(\n",
    "            lambda f: resize_and_normalize_frame(f, image_height, image_width), \n",
    "            frames\n",
    "        ))\n",
    "\n",
    "    # Check for any failed frame processing\n",
    "    if any(f is None for f in processed_frames):\n",
    "        print(f\"Warning: Some frames failed to process in {video_path}\")\n",
    "        return None\n",
    "\n",
    "    # Convert to NumPy array\n",
    "    frames_array = np.array(processed_frames, dtype=np.float32)\n",
    "\n",
    "    return frames_array"
   ]
  },
  {
   "cell_type": "code",
   "execution_count": 6,
   "id": "c34a615d",
   "metadata": {
    "execution": {
     "iopub.execute_input": "2025-07-09T17:33:59.060485Z",
     "iopub.status.busy": "2025-07-09T17:33:59.060294Z",
     "iopub.status.idle": "2025-07-09T17:33:59.063636Z",
     "shell.execute_reply": "2025-07-09T17:33:59.062986Z"
    },
    "papermill": {
     "duration": 0.016604,
     "end_time": "2025-07-09T17:33:59.064691",
     "exception": false,
     "start_time": "2025-07-09T17:33:59.048087",
     "status": "completed"
    },
    "tags": []
   },
   "outputs": [],
   "source": [
    " # # Iterate through all video files\n",
    " #        for file_name in files_list:\n",
    " #            video_file_path = os.path.join(class_path, file_name)\n",
    "\n",
    " #            # Extract frames using the updated frames_extraction function\n",
    " #            frames = frames_extraction(video_file_path, sequence_length, image_height, image_width)\n",
    "\n",
    " #            # Skip videos where frame extraction failed\n",
    " #            if frames is None:\n",
    " #                print(f\"Skipping video {video_file_path} due to frame extraction failure\")\n",
    " #                continue\n",
    "\n",
    " #            # Append the data to respective lists\n",
    " #            features.append(frames)\n",
    " #            labels.append(class_index)"
   ]
  },
  {
   "cell_type": "markdown",
   "id": "57fde2a4",
   "metadata": {
    "papermill": {
     "duration": 0.011506,
     "end_time": "2025-07-09T17:33:59.087672",
     "exception": false,
     "start_time": "2025-07-09T17:33:59.076166",
     "status": "completed"
    },
    "tags": []
   },
   "source": [
    "## Create Dataset"
   ]
  },
  {
   "cell_type": "code",
   "execution_count": 7,
   "id": "35ae433d",
   "metadata": {
    "execution": {
     "iopub.execute_input": "2025-07-09T17:33:59.111448Z",
     "iopub.status.busy": "2025-07-09T17:33:59.111259Z",
     "iopub.status.idle": "2025-07-09T17:33:59.118022Z",
     "shell.execute_reply": "2025-07-09T17:33:59.117503Z"
    },
    "papermill": {
     "duration": 0.019935,
     "end_time": "2025-07-09T17:33:59.119002",
     "exception": false,
     "start_time": "2025-07-09T17:33:59.099067",
     "status": "completed"
    },
    "tags": []
   },
   "outputs": [],
   "source": [
    "# RUN create dataset function definition\n",
    "def create_dataset(dataset_dir,\n",
    "                   classes_list, \n",
    "                   sequence_length=SEQUENCE_LENGTH, \n",
    "                   image_height=IMAGE_HEIGHT, \n",
    "                   image_width=IMAGE_WIDTH, \n",
    "                   max_videos_per_class=None,\n",
    "                   augmentations=False\n",
    "                  ):\n",
    "    \n",
    "    # Initialize lists to store features, labels, and video file paths\n",
    "    videos = []\n",
    "    labels = []\n",
    "\n",
    "    # Check if dataset directory exists\n",
    "    if not os.path.exists(dataset_dir):\n",
    "        raise FileNotFoundError(f\"Dataset directory not found: {dataset_dir}\")\n",
    "\n",
    "    # Iterate through all classes in the classes list\n",
    "    for class_index, class_name in enumerate(classes_list):\n",
    "        class_path = os.path.join(dataset_dir, class_name)\n",
    "        \n",
    "        # Check if class directory exists\n",
    "        if not os.path.exists(class_path):\n",
    "            print(f\"Warning: Class directory not found: {class_path}\")\n",
    "            continue\n",
    "\n",
    "        print(f'Class: {class_name}')\n",
    "\n",
    "        # Get the list of video files in the class directory\n",
    "        files_list = os.listdir(class_path)\n",
    "\n",
    "        # Limit the number of videos if specified\n",
    "        if max_videos_per_class is not None:\n",
    "            files_list = files_list[:max_videos_per_class]\n",
    "\n",
    "        # Iterate through all video files\n",
    "        for (index, file_name) in enumerate(files_list):\n",
    "            video_file_path = os.path.join(class_path, file_name)\n",
    "\n",
    "            if index == (len(files_list)-1):\n",
    "                print(f'Extracting frames from file {index+1}: {file_name}', flush=True)\n",
    "            else:\n",
    "                print(f'Extracting frames from file {index+1}: {file_name}', end=\"\\r\", flush=True)\n",
    "            \n",
    "            # Extract frames using the updated frames_extraction function\n",
    "            frames = frames_extraction(video_file_path, \n",
    "                                       sequence_length, \n",
    "                                       image_height, \n",
    "                                       image_width)\n",
    "\n",
    "            # Skip videos where frame extraction failed\n",
    "            if frames is None:\n",
    "                print(f\"Skipping video {video_file_path} due to frame extraction failure\")\n",
    "                continue\n",
    "\n",
    "            # Append the data to respective lists\n",
    "            videos.append(frames)\n",
    "            labels.append(class_index)\n",
    "\n",
    "    # Convert lists to numpy arrays\n",
    "    if not videos:\n",
    "        raise ValueError(\"No valid videos were processed. Check dataset or parameters.\")\n",
    "    videos = np.asarray(videos)\n",
    "    labels = np.array(labels)\n",
    "\n",
    "    print(f\"Dataset created with {len(videos)} videos\")\n",
    "    print(f\"Features shape: {videos.shape}\")\n",
    "    print(f\"Labels shape: {labels.shape}\")\n",
    "\n",
    "    return videos, labels"
   ]
  },
  {
   "cell_type": "markdown",
   "id": "e452e6a7",
   "metadata": {
    "papermill": {
     "duration": 0.011454,
     "end_time": "2025-07-09T17:33:59.142488",
     "exception": false,
     "start_time": "2025-07-09T17:33:59.131034",
     "status": "completed"
    },
    "tags": []
   },
   "source": [
    "## 🪄 Video Data Generator"
   ]
  },
  {
   "cell_type": "code",
   "execution_count": 8,
   "id": "b697caaf",
   "metadata": {
    "execution": {
     "iopub.execute_input": "2025-07-09T17:33:59.166494Z",
     "iopub.status.busy": "2025-07-09T17:33:59.166290Z",
     "iopub.status.idle": "2025-07-09T17:33:59.228097Z",
     "shell.execute_reply": "2025-07-09T17:33:59.227401Z"
    },
    "papermill": {
     "duration": 0.075175,
     "end_time": "2025-07-09T17:33:59.229253",
     "exception": false,
     "start_time": "2025-07-09T17:33:59.154078",
     "status": "completed"
    },
    "tags": []
   },
   "outputs": [],
   "source": [
    "from tensorflow.keras.utils import Sequence, to_categorical\n",
    "import tensorflow as tf\n",
    "import numpy as np\n",
    "import cv2\n",
    "\n",
    "\n",
    "\n",
    "\n",
    "class VideoDataGenerator(Sequence):\n",
    "    def __init__(self, videos, labels, batch_size, is_training=False):\n",
    "        self.videos = list(videos)  # List of video file paths\n",
    "        self.labels = list(labels)  # List or array of labels encoded\n",
    "        self.batch_size = batch_size\n",
    "        self.indices = np.arange(len(self.videos))  # For shuffling\n",
    "        self.is_training = is_training  # Flag to control whether augmentation is applied\n",
    "        self.temp_videos=[]\n",
    "        self.temp_labels=[]\n",
    "        \n",
    "        \n",
    "        print(f\"Total {len(videos)} videos and {len(labels)} classes\")\n",
    "\n",
    "    def __len__(self):\n",
    "        # Return the number of batches per epoch\n",
    "        return int(np.ceil(len(self.videos) / self.batch_size))\n",
    "\n",
    "    def __getitem__(self, idx):\n",
    "        # Get batch indices\n",
    "        batch_indices = self.indices[idx * self.batch_size:(idx + 1) * self.batch_size]\n",
    "        \n",
    "        # Handle case where batch_indices is empty\n",
    "        if len(batch_indices) == 0:\n",
    "            return np.array([], dtype=np.float32), np.array([], dtype=np.float32)\n",
    "        \n",
    "        # Initialize lists to store frames and labels\n",
    "        all_frames = []\n",
    "        all_labels = []\n",
    "        \n",
    "        # Process each video in the batch\n",
    "        for i, index in enumerate(batch_indices):\n",
    "            sequence = self.videos[index]\n",
    "            label = self.labels[index]\n",
    "            \n",
    "            # Append the sequence and label\n",
    "            all_frames.append(sequence)\n",
    "            all_labels.append(label)\n",
    "        \n",
    "        # Convert to numpy arrays\n",
    "        all_frames = np.array(all_frames, dtype=np.float32)\n",
    "        all_labels = np.array(all_labels)\n",
    "            \n",
    "        \n",
    "        return all_frames, all_labels\n",
    "    def add(self, new_videos, new_labels):\n",
    "        self.temp_videos.extend(new_videos)\n",
    "        self.temp_labels.extend(new_labels)\n",
    "    \n",
    "    def confirm(self):\n",
    "        self.videos.extend(self.temp_videos)\n",
    "        self.labels.extend(self.temp_labels)\n",
    "        print(f\"Successfully added - {len(self.temp_videos)} videos and {len(self.temp_labels)} classes.\")\n",
    "        self.temp_videos=[]\n",
    "        self.temp_labels=[]\n",
    "        self.indices = np.arange(len(self.videos))\n",
    "        print(f\"Now Total - {len(self.videos)} videos and {len(self.labels)} classes.\")\n",
    "        print(f\"PENDING for Augmentations - {len(self.temp_videos)} videos and {len(self.temp_labels)} classes.\")\n",
    "        \n",
    "    def replace_original(self):\n",
    "        self.videos=self.temp_videos\n",
    "        self.labels=self.temp_labels\n",
    "        self.temp_videos=[]\n",
    "        self.temp_labels=[]\n",
    "        print(f\"Successfully replaced, total original videos - {len(self.videos)} and augmented videos {len(self.temp_videos)}\")\n",
    "        \n",
    "    def on_epoch_end(self):\n",
    "        # Shuffle indices at the end of each epoch\n",
    "        np.random.shuffle(self.indices)\n",
    "\n",
    "    def as_dataset(self):\n",
    "        def generator():\n",
    "            for idx in range(len(self)):\n",
    "                frames, labels = self[idx]\n",
    "                # Skip empty batches\n",
    "                if frames.size == 0:\n",
    "                    continue\n",
    "                yield frames, labels\n",
    "        self.labels=np.array(self.labels)\n",
    "    \n",
    "        # Create a tf.data.Dataset\n",
    "        dataset = tf.data.Dataset.from_generator(\n",
    "            generator,\n",
    "            output_types=(tf.float32, tf.float32),\n",
    "            output_shapes=(\n",
    "                (None, SEQUENCE_LENGTH, IMAGE_HEIGHT, IMAGE_WIDTH, 3),\n",
    "                (None, NO_OF_CLASSES)\n",
    "            )\n",
    "        )\n",
    "        dataset = dataset.prefetch(tf.data.AUTOTUNE)\n",
    "        return dataset"
   ]
  },
  {
   "cell_type": "markdown",
   "id": "f0871d2b",
   "metadata": {
    "papermill": {
     "duration": 0.011327,
     "end_time": "2025-07-09T17:33:59.252282",
     "exception": false,
     "start_time": "2025-07-09T17:33:59.240955",
     "status": "completed"
    },
    "tags": []
   },
   "source": [
    "## 🔥 Segmentation using N-Frames Ensemble"
   ]
  },
  {
   "cell_type": "code",
   "execution_count": 9,
   "id": "6caad9de",
   "metadata": {
    "execution": {
     "iopub.execute_input": "2025-07-09T17:33:59.276315Z",
     "iopub.status.busy": "2025-07-09T17:33:59.276088Z",
     "iopub.status.idle": "2025-07-09T17:33:59.514223Z",
     "shell.execute_reply": "2025-07-09T17:33:59.513283Z"
    },
    "papermill": {
     "duration": 0.251752,
     "end_time": "2025-07-09T17:33:59.515495",
     "exception": false,
     "start_time": "2025-07-09T17:33:59.263743",
     "status": "completed"
    },
    "tags": []
   },
   "outputs": [
    {
     "name": "stdout",
     "output_type": "stream",
     "text": [
      "MediaPipe initialized successfully\n"
     ]
    },
    {
     "name": "stderr",
     "output_type": "stream",
     "text": [
      "INFO: Created TensorFlow Lite XNNPACK delegate for CPU.\n"
     ]
    }
   ],
   "source": [
    "import cv2\n",
    "import numpy as np\n",
    "from collections import deque\n",
    "import mediapipe as mp\n",
    "\n",
    "# Parameters\n",
    "N_FRAMES = 5  # Number of frames for ensemble\n",
    "THRESHOLD = 0.2  # Segmentation confidence threshold\n",
    "\n",
    "def initialize_segmentor():\n",
    "    \"\"\"Initialize MediaPipe Selfie Segmentation with error handling.\"\"\"\n",
    "    try:\n",
    "        mp_selfie_segmentation = mp.solutions.selfie_segmentation\n",
    "        segmentor = mp_selfie_segmentation.SelfieSegmentation(model_selection=1)  # 1 for general model\n",
    "        print(\"MediaPipe initialized successfully\")\n",
    "        return segmentor\n",
    "    except Exception as e:\n",
    "        print(f\"Failed to initialize MediaPipe: {e}\")\n",
    "        return None\n",
    "\n",
    "# Initialize segmentor\n",
    "segmentor = initialize_segmentor()\n",
    "\n",
    "\n",
    "def segmentation_frames(sequence):\n",
    "    \"\"\"Process a sequence of frames with N-frame ensemble segmentation.\"\"\"\n",
    "    # Input sequence: (sequence_length, height, width, 3), values in [0, 1]\n",
    "    sequence_length, height, width, _ = sequence.shape\n",
    "    segmented_sequence = np.zeros_like(sequence, dtype=np.float32)\n",
    "    \n",
    "    if segmentor is None:\n",
    "        print(\"Returning original sequence due to initialization failure\")\n",
    "        return sequence  # Fallback to original sequence\n",
    "    # Queue to store segmentation masks\n",
    "    mask_queue = deque(maxlen=N_FRAMES)\n",
    "    \n",
    "    # Kernel for morphological operations\n",
    "    kernel = cv2.getStructuringElement(cv2.MORPH_ELLIPSE, (5, 5))\n",
    "    \n",
    "    for t in range(sequence_length):\n",
    "        try:\n",
    "            # Convert frame to uint8 for MediaPipe\n",
    "            frame = (sequence[t] * 255).astype(np.uint8)\n",
    "            \n",
    "            # Process frame with MediaPipe\n",
    "            results = segmentor.process(frame)\n",
    "            if results.segmentation_mask is None:\n",
    "                print(f\"Warning: No mask returned for frame {t}\")\n",
    "                mask = np.zeros((height, width), dtype=np.float32)\n",
    "            else:\n",
    "                mask = results.segmentation_mask  # Shape: (height, width), values in [0, 1]\n",
    "            \n",
    "            # Add mask to queue\n",
    "            mask_queue.append(mask)\n",
    "            \n",
    "            # Compute ensemble mask by averaging (if enough frames)\n",
    "            ensemble_mask = np.mean(np.array(mask_queue), axis=0) if len(mask_queue) > 1 else mask\n",
    "            \n",
    "            # Binarize the ensemble mask\n",
    "            binary_mask = (ensemble_mask > THRESHOLD).astype(np.uint8)\n",
    "            \n",
    "            # Refine the mask using morphological operations\n",
    "            binary_mask = cv2.morphologyEx(binary_mask, cv2.MORPH_CLOSE, kernel)\n",
    "            binary_mask = cv2.morphologyEx(binary_mask, cv2.MORPH_OPEN, kernel)\n",
    "            \n",
    "            # Convert binary mask to 3 channels\n",
    "            mask_3ch = np.stack([binary_mask] * 3, axis=-1)  # Shape: (height, width, 3)\n",
    "            \n",
    "            # Apply mask to isolate human subject (set background to black)\n",
    "            segmented_frame = frame * mask_3ch\n",
    "            \n",
    "            # Normalize back to [0, 1]\n",
    "            segmented_sequence[t] = segmented_frame / 255.0\n",
    "        \n",
    "        except Exception as e:\n",
    "            print(f\"Error processing frame {t}: {e}\")\n",
    "            segmented_sequence[t] = sequence[t]  # Fallback to original frame\n",
    "    \n",
    "    return segmented_sequence"
   ]
  },
  {
   "cell_type": "markdown",
   "id": "1523ad60",
   "metadata": {
    "papermill": {
     "duration": 0.011707,
     "end_time": "2025-07-09T17:33:59.539957",
     "exception": false,
     "start_time": "2025-07-09T17:33:59.528250",
     "status": "completed"
    },
    "tags": []
   },
   "source": [
    "## 💫 Augmentation Helper function"
   ]
  },
  {
   "cell_type": "code",
   "execution_count": 10,
   "id": "56af3bc8",
   "metadata": {
    "execution": {
     "iopub.execute_input": "2025-07-09T17:33:59.565202Z",
     "iopub.status.busy": "2025-07-09T17:33:59.564982Z",
     "iopub.status.idle": "2025-07-09T17:33:59.570265Z",
     "shell.execute_reply": "2025-07-09T17:33:59.569490Z"
    },
    "papermill": {
     "duration": 0.018403,
     "end_time": "2025-07-09T17:33:59.571296",
     "exception": false,
     "start_time": "2025-07-09T17:33:59.552893",
     "status": "completed"
    },
    "tags": []
   },
   "outputs": [
    {
     "name": "stderr",
     "output_type": "stream",
     "text": [
      "WARNING: All log messages before absl::InitializeLog() is called are written to STDERR\n",
      "W0000 00:00:1752082439.518557      70 inference_feedback_manager.cc:114] Feedback manager requires a model with a single signature inference. Disabling support for feedback tensors.\n"
     ]
    }
   ],
   "source": [
    "def apply_augmentation(augmentation_function, generator, confirm=False, *args, **kwargs):\n",
    "    count=0\n",
    "    for i in range(len(generator)):\n",
    "        batch_videos, batch_labels = generator[i]\n",
    "        augmented_videos=[]\n",
    "        for videos in batch_videos:\n",
    "            count=count+1\n",
    "            augmented_videos.append(augmentation_function(videos, *args, **kwargs))\n",
    "            print(f\"Adding {count} new videos...\", end=\"\\r\", flush=True)\n",
    "        generator.add(augmented_videos, batch_labels)\n",
    "    \n",
    "    print(f\"Total {len(generator.temp_videos)} augmented videos generated\")\n",
    "    if confirm:\n",
    "        generator.confirm()\n",
    "    else:\n",
    "        print(\"Ready to be merged with original videos...\")"
   ]
  },
  {
   "cell_type": "markdown",
   "id": "63fad531",
   "metadata": {
    "papermill": {
     "duration": 0.011398,
     "end_time": "2025-07-09T17:33:59.594305",
     "exception": false,
     "start_time": "2025-07-09T17:33:59.582907",
     "status": "completed"
    },
    "tags": []
   },
   "source": [
    "### Show Frames"
   ]
  },
  {
   "cell_type": "code",
   "execution_count": 11,
   "id": "5989b40e",
   "metadata": {
    "execution": {
     "iopub.execute_input": "2025-07-09T17:33:59.619300Z",
     "iopub.status.busy": "2025-07-09T17:33:59.619108Z",
     "iopub.status.idle": "2025-07-09T17:33:59.622907Z",
     "shell.execute_reply": "2025-07-09T17:33:59.622226Z"
    },
    "papermill": {
     "duration": 0.017785,
     "end_time": "2025-07-09T17:33:59.623945",
     "exception": false,
     "start_time": "2025-07-09T17:33:59.606160",
     "status": "completed"
    },
    "tags": []
   },
   "outputs": [],
   "source": [
    "# show frame def\n",
    "import matplotlib.pyplot as plt\n",
    "\n",
    "def show_frame(frame):\n",
    "    plt.figure(figsize=(3,3))\n",
    "    plt.imshow(frame)\n",
    "    plt.axis(\"off\")\n",
    "    plt.tight_layout()"
   ]
  },
  {
   "cell_type": "markdown",
   "id": "bc98629c",
   "metadata": {
    "papermill": {
     "duration": 0.0115,
     "end_time": "2025-07-09T17:33:59.647292",
     "exception": false,
     "start_time": "2025-07-09T17:33:59.635792",
     "status": "completed"
    },
    "tags": []
   },
   "source": [
    "### Helper Function"
   ]
  },
  {
   "cell_type": "code",
   "execution_count": 12,
   "id": "4d166ce7",
   "metadata": {
    "execution": {
     "iopub.execute_input": "2025-07-09T17:33:59.671512Z",
     "iopub.status.busy": "2025-07-09T17:33:59.671295Z",
     "iopub.status.idle": "2025-07-09T17:33:59.675391Z",
     "shell.execute_reply": "2025-07-09T17:33:59.674748Z"
    },
    "papermill": {
     "duration": 0.01729,
     "end_time": "2025-07-09T17:33:59.676382",
     "exception": false,
     "start_time": "2025-07-09T17:33:59.659092",
     "status": "completed"
    },
    "tags": []
   },
   "outputs": [],
   "source": [
    "def show_frame_vs(frame1, frame2, title1=\"Frame 1\", title2=\"Frame 2\"):\n",
    "    plt.figure(figsize=(10, 5))\n",
    "\n",
    "    # First frame\n",
    "    plt.subplot(1, 2, 1)\n",
    "    plt.imshow(frame1)\n",
    "    plt.title(title1)\n",
    "    plt.axis('off')\n",
    "\n",
    "    # Second frame\n",
    "    plt.subplot(1, 2, 2)\n",
    "    plt.imshow(frame2)\n",
    "    plt.title(title2)\n",
    "    plt.axis('off')\n",
    "\n",
    "    plt.tight_layout()\n",
    "    plt.show()"
   ]
  },
  {
   "cell_type": "code",
   "execution_count": 13,
   "id": "9b040072",
   "metadata": {
    "execution": {
     "iopub.execute_input": "2025-07-09T17:33:59.700473Z",
     "iopub.status.busy": "2025-07-09T17:33:59.700234Z",
     "iopub.status.idle": "2025-07-09T17:33:59.703771Z",
     "shell.execute_reply": "2025-07-09T17:33:59.703249Z"
    },
    "papermill": {
     "duration": 0.016734,
     "end_time": "2025-07-09T17:33:59.704739",
     "exception": false,
     "start_time": "2025-07-09T17:33:59.688005",
     "status": "completed"
    },
    "tags": []
   },
   "outputs": [],
   "source": [
    "# reusable video loop helper function\n",
    "def apply_function(function, videos, *arg, **kwargs):\n",
    "    new_videos=[]\n",
    "    \n",
    "    for video in videos:\n",
    "        new_videos.append(function(video, *arg, **kwargs))\n",
    "        \n",
    "    return new_videos"
   ]
  },
  {
   "cell_type": "code",
   "execution_count": 14,
   "id": "9325c129",
   "metadata": {
    "execution": {
     "iopub.execute_input": "2025-07-09T17:33:59.728873Z",
     "iopub.status.busy": "2025-07-09T17:33:59.728650Z",
     "iopub.status.idle": "2025-07-09T17:33:59.732455Z",
     "shell.execute_reply": "2025-07-09T17:33:59.731965Z"
    },
    "papermill": {
     "duration": 0.0172,
     "end_time": "2025-07-09T17:33:59.733485",
     "exception": false,
     "start_time": "2025-07-09T17:33:59.716285",
     "status": "completed"
    },
    "tags": []
   },
   "outputs": [],
   "source": [
    "# reusable video loop helper function\n",
    "def apply(function, videos, labels, *arg, **kwargs):\n",
    "    new_videos=[]\n",
    "    new_labels=[]\n",
    "    combined=zip(labels, videos)\n",
    "    \n",
    "    for label, video in combined:\n",
    "        new_videos.append(function(video, *arg, **kwargs))\n",
    "        new_labels.append(label)\n",
    "        \n",
    "    new_videos=np.asarray(new_videos)\n",
    "    new_labels=np.asarray(new_labels)\n",
    "    \n",
    "    return new_videos, new_labels"
   ]
  },
  {
   "cell_type": "markdown",
   "id": "62bd9305",
   "metadata": {
    "papermill": {
     "duration": 0.011342,
     "end_time": "2025-07-09T17:33:59.756510",
     "exception": false,
     "start_time": "2025-07-09T17:33:59.745168",
     "status": "completed"
    },
    "tags": []
   },
   "source": [
    "## Salt and Pepper Noise "
   ]
  },
  {
   "cell_type": "code",
   "execution_count": 15,
   "id": "c7183ea4",
   "metadata": {
    "execution": {
     "iopub.execute_input": "2025-07-09T17:33:59.780586Z",
     "iopub.status.busy": "2025-07-09T17:33:59.780022Z",
     "iopub.status.idle": "2025-07-09T17:33:59.784398Z",
     "shell.execute_reply": "2025-07-09T17:33:59.783749Z"
    },
    "papermill": {
     "duration": 0.017392,
     "end_time": "2025-07-09T17:33:59.785403",
     "exception": false,
     "start_time": "2025-07-09T17:33:59.768011",
     "status": "completed"
    },
    "tags": []
   },
   "outputs": [],
   "source": [
    "# Noise function def\n",
    "\n",
    "def noise_video(video,noise_factor=NOISE_FACTOR):\n",
    "    noisy_video=[]\n",
    "    for frame in video:\n",
    "        # Generate random noise\n",
    "        noise = np.random.rand(*frame.shape)  # Generate random noise\n",
    "        salt_pepper_noise = np.random.choice([0, 1], size=frame.shape, p=[1-noise_factor, noise_factor])\n",
    "        noisy_frame = frame * (1 - salt_pepper_noise) + salt_pepper_noise * np.random.rand(*frame.shape)\n",
    "        noisy_video.append(noisy_frame)\n",
    "    return np.array(noisy_video)"
   ]
  },
  {
   "cell_type": "markdown",
   "id": "6c1837cd",
   "metadata": {
    "papermill": {
     "duration": 0.011443,
     "end_time": "2025-07-09T17:33:59.808618",
     "exception": false,
     "start_time": "2025-07-09T17:33:59.797175",
     "status": "completed"
    },
    "tags": []
   },
   "source": [
    "## Horizontal Flip"
   ]
  },
  {
   "cell_type": "code",
   "execution_count": 16,
   "id": "e843329e",
   "metadata": {
    "execution": {
     "iopub.execute_input": "2025-07-09T17:33:59.832548Z",
     "iopub.status.busy": "2025-07-09T17:33:59.832342Z",
     "iopub.status.idle": "2025-07-09T17:33:59.835734Z",
     "shell.execute_reply": "2025-07-09T17:33:59.835094Z"
    },
    "papermill": {
     "duration": 0.016676,
     "end_time": "2025-07-09T17:33:59.836912",
     "exception": false,
     "start_time": "2025-07-09T17:33:59.820236",
     "status": "completed"
    },
    "tags": []
   },
   "outputs": [],
   "source": [
    "# horizontal flip function def\n",
    "# Testing Flip feautes[0] -> first video\n",
    "def horizontal_flip(video):\n",
    "    return [tf.image.flip_left_right(frame) for frame in video]"
   ]
  },
  {
   "cell_type": "markdown",
   "id": "b58f9c62",
   "metadata": {
    "papermill": {
     "duration": 0.011454,
     "end_time": "2025-07-09T17:33:59.859996",
     "exception": false,
     "start_time": "2025-07-09T17:33:59.848542",
     "status": "completed"
    },
    "tags": []
   },
   "source": [
    "## Random Shear"
   ]
  },
  {
   "cell_type": "code",
   "execution_count": 17,
   "id": "51069b5c",
   "metadata": {
    "execution": {
     "iopub.execute_input": "2025-07-09T17:33:59.883919Z",
     "iopub.status.busy": "2025-07-09T17:33:59.883699Z",
     "iopub.status.idle": "2025-07-09T17:33:59.890560Z",
     "shell.execute_reply": "2025-07-09T17:33:59.889917Z"
    },
    "papermill": {
     "duration": 0.020132,
     "end_time": "2025-07-09T17:33:59.891659",
     "exception": false,
     "start_time": "2025-07-09T17:33:59.871527",
     "status": "completed"
    },
    "tags": []
   },
   "outputs": [],
   "source": [
    "# random shear function def\n",
    "import numpy as np\n",
    "import tensorflow as tf\n",
    "from scipy.ndimage import affine_transform\n",
    "\n",
    "def apply_shear_frames(frames, shear_right):\n",
    "    return [apply_shear(frame, shear_right) for frame in frames]\n",
    "\n",
    "def apply_shear(frame, shear_right=0):\n",
    "    frame_resized = tf.image.resize(frame, (IMAGE_HEIGHT, IMAGE_WIDTH)).numpy()\n",
    "    if shear_right:\n",
    "        shear_x = 0.09\n",
    "        shear_y = 0.1\n",
    "    else:\n",
    "        shear_x = -0.09\n",
    "        shear_y = 0.3\n",
    "    # Construct the affine matrix for scipy: inverse of the transformation matrix\n",
    "    # scipy applies the inverse transform matrix\n",
    "    shear_matrix = np.array([\n",
    "        [1, shear_x, 0],\n",
    "        [shear_y, 1, 0],\n",
    "        [0, 0, 1]\n",
    "    ], dtype=np.float32)\n",
    "\n",
    "    # Extract 2x2 part for affine_transform\n",
    "    matrix = shear_matrix[:2, :2]\n",
    "\n",
    "    # Offset (no translation)\n",
    "    offset = [0, 0]\n",
    "\n",
    "    # Apply affine transform on each channel separately\n",
    "    sheared = np.zeros_like(frame_resized)\n",
    "    for c in range(3):\n",
    "        sheared[..., c] = affine_transform(\n",
    "            frame_resized[..., c],\n",
    "            matrix=matrix,\n",
    "            offset=offset,\n",
    "            order=1,          # bilinear interpolation\n",
    "            mode='nearest'    # fill_mode\n",
    "        )\n",
    "    return sheared"
   ]
  },
  {
   "cell_type": "markdown",
   "id": "4e908c6c",
   "metadata": {
    "papermill": {
     "duration": 0.01157,
     "end_time": "2025-07-09T17:33:59.914992",
     "exception": false,
     "start_time": "2025-07-09T17:33:59.903422",
     "status": "completed"
    },
    "tags": []
   },
   "source": [
    "# 📌 Model Related\n",
    "## 🗼 Model Architecture `create_model`"
   ]
  },
  {
   "cell_type": "code",
   "execution_count": 18,
   "id": "c4e31390",
   "metadata": {
    "execution": {
     "iopub.execute_input": "2025-07-09T17:33:59.939331Z",
     "iopub.status.busy": "2025-07-09T17:33:59.939130Z",
     "iopub.status.idle": "2025-07-09T17:33:59.951040Z",
     "shell.execute_reply": "2025-07-09T17:33:59.950356Z"
    },
    "papermill": {
     "duration": 0.025405,
     "end_time": "2025-07-09T17:33:59.952102",
     "exception": false,
     "start_time": "2025-07-09T17:33:59.926697",
     "status": "completed"
    },
    "tags": []
   },
   "outputs": [],
   "source": [
    "from tensorflow.keras.applications import Xception\n",
    "from tensorflow.keras.models import Sequential\n",
    "from tensorflow.keras.layers import TimeDistributed, GlobalAveragePooling2D, LSTM, Dropout, Dense, BatchNormalization\n",
    "from tensorflow.keras.regularizers import l2\n",
    "\n",
    "def create_xception_lstm_model(sequence_length, image_height, image_width, classes_list=None, dropout_rate=0.5):\n",
    "    if classes_list is None:\n",
    "        raise ValueError(\"classes_list must be provided to define the output layer size\")\n",
    "\n",
    "    try:\n",
    "        # Load Xception base model\n",
    "        print(\"Loading Xception base model...\")\n",
    "        xception = Xception(\n",
    "            weights='imagenet',\n",
    "            include_top=False,\n",
    "            input_shape=(image_height, image_width, 3),\n",
    "            name=\"Xception\"\n",
    "        )\n",
    "        xception.trainable = False  # Freeze during initial training\n",
    "\n",
    "        # Define the model\n",
    "        model = Sequential([\n",
    "            TimeDistributed(\n",
    "                xception,\n",
    "                input_shape=(sequence_length, image_height, image_width, 3),\n",
    "                name=\"time_distributed_xception\"\n",
    "            ),\n",
    "            TimeDistributed(GlobalAveragePooling2D(), name=\"time_distributed_pooling\"),\n",
    "            LSTM(512, activation=\"tanh\", return_sequences=False, kernel_regularizer=l2(0.01), name=\"lstm_xception\"),\n",
    "            BatchNormalization(name=\"batch_normalization_xception\"),\n",
    "            Dropout(dropout_rate, name=\"dropout_lstm_xception\"),\n",
    "            Dense(512, activation=\"relu\", kernel_regularizer=l2(0.01), name=\"dense_xception_1\"),\n",
    "            Dropout(dropout_rate, name=\"dropout_dense_xception_1\"),\n",
    "            Dense(128, activation=\"relu\", kernel_regularizer=l2(0.01), name=\"dense_xception_2\"),\n",
    "            Dropout(dropout_rate, name=\"dropout_dense_xception_2\"),\n",
    "            Dense(len(classes_list), activation=\"softmax\", name=\"output_xception\")\n",
    "        ])\n",
    "\n",
    "        print(\"Xception+LSTM model (mirroring VGG19 architecture) created successfully!\")\n",
    "        model.summary()\n",
    "\n",
    "        return model\n",
    "\n",
    "    except Exception as e:\n",
    "        print(f\"Error creating Xception+LSTM model: {e}\")\n",
    "        return None\n"
   ]
  },
  {
   "cell_type": "code",
   "execution_count": 19,
   "id": "eda213a7",
   "metadata": {
    "execution": {
     "iopub.execute_input": "2025-07-09T17:33:59.976492Z",
     "iopub.status.busy": "2025-07-09T17:33:59.976277Z",
     "iopub.status.idle": "2025-07-09T17:34:04.047209Z",
     "shell.execute_reply": "2025-07-09T17:34:04.046243Z"
    },
    "papermill": {
     "duration": 4.084966,
     "end_time": "2025-07-09T17:34:04.048944",
     "exception": false,
     "start_time": "2025-07-09T17:33:59.963978",
     "status": "completed"
    },
    "tags": []
   },
   "outputs": [
    {
     "name": "stdout",
     "output_type": "stream",
     "text": [
      "Pre-loading Xception weights...\n"
     ]
    },
    {
     "name": "stderr",
     "output_type": "stream",
     "text": [
      "I0000 00:00:1752082441.278363      19 gpu_device.cc:2022] Created device /job:localhost/replica:0/task:0/device:GPU:0 with 13942 MB memory:  -> device: 0, name: Tesla T4, pci bus id: 0000:00:04.0, compute capability: 7.5\n",
      "I0000 00:00:1752082441.279058      19 gpu_device.cc:2022] Created device /job:localhost/replica:0/task:0/device:GPU:1 with 13942 MB memory:  -> device: 1, name: Tesla T4, pci bus id: 0000:00:05.0, compute capability: 7.5\n"
     ]
    },
    {
     "name": "stdout",
     "output_type": "stream",
     "text": [
      "Downloading data from https://storage.googleapis.com/tensorflow/keras-applications/xception/xception_weights_tf_dim_ordering_tf_kernels_notop.h5\n",
      "\u001b[1m83683744/83683744\u001b[0m \u001b[32m━━━━━━━━━━━━━━━━━━━━\u001b[0m\u001b[37m\u001b[0m \u001b[1m0s\u001b[0m 0us/step\n",
      "Weights loaded successfully!\n"
     ]
    }
   ],
   "source": [
    "# donwload model weights\n",
    "from tensorflow.keras.applications import Xception\n",
    "print(\"Pre-loading Xception weights...\")\n",
    "base_model = Xception(weights='imagenet', include_top=False, input_shape=(IMAGE_HEIGHT, IMAGE_WIDTH, 3))\n",
    "print(\"Weights loaded successfully!\")"
   ]
  },
  {
   "cell_type": "markdown",
   "id": "1f65ec2e",
   "metadata": {
    "papermill": {
     "duration": 0.012038,
     "end_time": "2025-07-09T17:34:04.074958",
     "exception": false,
     "start_time": "2025-07-09T17:34:04.062920",
     "status": "completed"
    },
    "tags": []
   },
   "source": [
    "# 📌 Execution\n",
    "## Creating Dataset\n",
    "The following functions are executed\n",
    "- `frame extraction`\n",
    "- `resize`\n",
    "\n",
    "which returns:\n",
    "- `features` - `np.array` of all the videos\n",
    "- `labels` - `np.array` of all the class labels"
   ]
  },
  {
   "cell_type": "code",
   "execution_count": 20,
   "id": "410873fa",
   "metadata": {
    "execution": {
     "iopub.execute_input": "2025-07-09T17:34:04.100494Z",
     "iopub.status.busy": "2025-07-09T17:34:04.100245Z",
     "iopub.status.idle": "2025-07-09T17:34:16.932679Z",
     "shell.execute_reply": "2025-07-09T17:34:16.931811Z"
    },
    "papermill": {
     "duration": 12.846712,
     "end_time": "2025-07-09T17:34:16.934059",
     "exception": false,
     "start_time": "2025-07-09T17:34:04.087347",
     "status": "completed"
    },
    "tags": []
   },
   "outputs": [
    {
     "name": "stdout",
     "output_type": "stream",
     "text": [
      "Class: Basketball\n",
      "Extracting frames from file 20: v_Basketball_g10_c05.avi\n",
      "Class: Biking\n",
      "Extracting frames from file 20: v_Biking_g19_c03.avi\n",
      "Class: Diving\n",
      "Extracting frames from file 20: v_Diving_g13_c01.avi\n",
      "Class: GolfSwing\n",
      "Extracting frames from file 20: v_GolfSwing_g05_c07.avi\n",
      "Class: HorseRiding\n",
      "Extracting frames from file 20: v_HorseRiding_g01_c08.avi\n",
      "Class: Skiing\n",
      "Extracting frames from file 20: v_Skiing_g09_c01.avi\n",
      "Class: SkateBoarding\n",
      "Extracting frames from file 20: v_SkateBoarding_g07_c04.avi\n",
      "Class: Swing\n",
      "Extracting frames from file 20: v_Swing_g20_c04.avi\n",
      "Class: TennisSwing\n",
      "Extracting frames from file 20: v_TennisSwing_g04_c05.avi\n",
      "Class: TrampolineJumping\n",
      "Extracting frames from file 20: v_TrampolineJumping_g18_c04.avi\n",
      "Class: WalkingWithDog\n",
      "Extracting frames from file 20: v_WalkingWithDog_g05_c02.avi\n",
      "Dataset created with 220 videos\n",
      "Features shape: (220, 15, 128, 128, 3)\n",
      "Labels shape: (220,)\n"
     ]
    },
    {
     "data": {
      "text/plain": [
       "((220, 15, 128, 128, 3), (220,))"
      ]
     },
     "execution_count": 20,
     "metadata": {},
     "output_type": "execute_result"
    }
   ],
   "source": [
    "# RUN Create the dataset with explicit parameters\n",
    "try:\n",
    "    videos, labels = create_dataset(\n",
    "        dataset_dir=DATASET_DIR,\n",
    "        classes_list=CLASSES_LIST,\n",
    "        sequence_length=SEQUENCE_LENGTH,\n",
    "        image_height=IMAGE_HEIGHT,\n",
    "        image_width=IMAGE_WIDTH,\n",
    "        # Limit to 10 videos per class to manage memory\n",
    "        augmentations=True,\n",
    "        max_videos_per_class=MAX_VIDEO_PER_CLASS\n",
    "    )\n",
    "except FileNotFoundError as e:\n",
    "    print(f\"Error: {e}\")\n",
    "except ValueError as e:\n",
    "    print(f\"Error: {e}\")\n",
    "except Exception as e:\n",
    "    print(f\"Unexpected error: {e}\")\n",
    "\n",
    "videos.shape, labels.shape"
   ]
  },
  {
   "cell_type": "code",
   "execution_count": 21,
   "id": "a6247162",
   "metadata": {
    "execution": {
     "iopub.execute_input": "2025-07-09T17:34:16.987494Z",
     "iopub.status.busy": "2025-07-09T17:34:16.987248Z",
     "iopub.status.idle": "2025-07-09T17:34:16.991429Z",
     "shell.execute_reply": "2025-07-09T17:34:16.990793Z"
    },
    "papermill": {
     "duration": 0.027181,
     "end_time": "2025-07-09T17:34:16.992597",
     "exception": false,
     "start_time": "2025-07-09T17:34:16.965416",
     "status": "completed"
    },
    "tags": []
   },
   "outputs": [
    {
     "name": "stdout",
     "output_type": "stream",
     "text": [
      "Total 220 videos and 220 classes\n"
     ]
    }
   ],
   "source": [
    "video_generator = VideoDataGenerator(\n",
    "    videos=videos,\n",
    "    labels=labels,\n",
    "    batch_size=BATCH_SIZE\n",
    ")"
   ]
  },
  {
   "cell_type": "code",
   "execution_count": 22,
   "id": "1b465738",
   "metadata": {
    "execution": {
     "iopub.execute_input": "2025-07-09T17:34:17.043959Z",
     "iopub.status.busy": "2025-07-09T17:34:17.043665Z",
     "iopub.status.idle": "2025-07-09T17:34:17.064639Z",
     "shell.execute_reply": "2025-07-09T17:34:17.063984Z"
    },
    "papermill": {
     "duration": 0.043748,
     "end_time": "2025-07-09T17:34:17.065811",
     "exception": false,
     "start_time": "2025-07-09T17:34:17.022063",
     "status": "completed"
    },
    "tags": []
   },
   "outputs": [
    {
     "data": {
      "text/plain": [
       "((16, 15, 128, 128, 3), (16,))"
      ]
     },
     "execution_count": 22,
     "metadata": {},
     "output_type": "execute_result"
    }
   ],
   "source": [
    "videos, labels = video_generator[0]\n",
    "\n",
    "videos.shape, labels.shape"
   ]
  },
  {
   "cell_type": "code",
   "execution_count": 23,
   "id": "2d192b4c",
   "metadata": {
    "execution": {
     "iopub.execute_input": "2025-07-09T17:34:17.109902Z",
     "iopub.status.busy": "2025-07-09T17:34:17.109425Z",
     "iopub.status.idle": "2025-07-09T17:34:17.114424Z",
     "shell.execute_reply": "2025-07-09T17:34:17.113751Z"
    },
    "papermill": {
     "duration": 0.027989,
     "end_time": "2025-07-09T17:34:17.115517",
     "exception": false,
     "start_time": "2025-07-09T17:34:17.087528",
     "status": "completed"
    },
    "tags": []
   },
   "outputs": [
    {
     "name": "stdout",
     "output_type": "stream",
     "text": [
      "Total videos: 220, Videos per batch: 14\n"
     ]
    }
   ],
   "source": [
    "print(f\"Total videos: {len(video_generator.videos)}, Videos per batch: {len(video_generator)}\") "
   ]
  },
  {
   "cell_type": "code",
   "execution_count": 24,
   "id": "b6ff3870",
   "metadata": {
    "execution": {
     "iopub.execute_input": "2025-07-09T17:34:17.159718Z",
     "iopub.status.busy": "2025-07-09T17:34:17.159224Z",
     "iopub.status.idle": "2025-07-09T17:34:17.162662Z",
     "shell.execute_reply": "2025-07-09T17:34:17.162030Z"
    },
    "papermill": {
     "duration": 0.026636,
     "end_time": "2025-07-09T17:34:17.163741",
     "exception": false,
     "start_time": "2025-07-09T17:34:17.137105",
     "status": "completed"
    },
    "tags": []
   },
   "outputs": [],
   "source": [
    "# apply_augmentation(segmentation_frames, video_generator)"
   ]
  },
  {
   "cell_type": "code",
   "execution_count": 25,
   "id": "a0d1b1c9",
   "metadata": {
    "execution": {
     "iopub.execute_input": "2025-07-09T17:34:17.207017Z",
     "iopub.status.busy": "2025-07-09T17:34:17.206769Z",
     "iopub.status.idle": "2025-07-09T17:34:17.210007Z",
     "shell.execute_reply": "2025-07-09T17:34:17.209379Z"
    },
    "papermill": {
     "duration": 0.026475,
     "end_time": "2025-07-09T17:34:17.211110",
     "exception": false,
     "start_time": "2025-07-09T17:34:17.184635",
     "status": "completed"
    },
    "tags": []
   },
   "outputs": [],
   "source": [
    "# print(f\"Total segmented videos: {len(video_generator.temp_videos)} , Original Videos: {len(video_generator.videos)}\")"
   ]
  },
  {
   "cell_type": "code",
   "execution_count": 26,
   "id": "7308ed97",
   "metadata": {
    "execution": {
     "iopub.execute_input": "2025-07-09T17:34:17.254743Z",
     "iopub.status.busy": "2025-07-09T17:34:17.254186Z",
     "iopub.status.idle": "2025-07-09T17:34:17.257448Z",
     "shell.execute_reply": "2025-07-09T17:34:17.256851Z"
    },
    "papermill": {
     "duration": 0.026069,
     "end_time": "2025-07-09T17:34:17.258525",
     "exception": false,
     "start_time": "2025-07-09T17:34:17.232456",
     "status": "completed"
    },
    "tags": []
   },
   "outputs": [],
   "source": [
    "# video_generator.replace_original()"
   ]
  },
  {
   "cell_type": "code",
   "execution_count": 27,
   "id": "8f8687f6",
   "metadata": {
    "execution": {
     "iopub.execute_input": "2025-07-09T17:34:17.301840Z",
     "iopub.status.busy": "2025-07-09T17:34:17.301570Z",
     "iopub.status.idle": "2025-07-09T17:34:17.304880Z",
     "shell.execute_reply": "2025-07-09T17:34:17.304235Z"
    },
    "papermill": {
     "duration": 0.026219,
     "end_time": "2025-07-09T17:34:17.306018",
     "exception": false,
     "start_time": "2025-07-09T17:34:17.279799",
     "status": "completed"
    },
    "tags": []
   },
   "outputs": [],
   "source": [
    "# len(video_generator.temp_videos), len(video_generator.temp_labels), len(video_generator.videos), len(video_generator.labels)"
   ]
  },
  {
   "cell_type": "code",
   "execution_count": 28,
   "id": "ea95d37f",
   "metadata": {
    "execution": {
     "iopub.execute_input": "2025-07-09T17:34:17.350972Z",
     "iopub.status.busy": "2025-07-09T17:34:17.350764Z",
     "iopub.status.idle": "2025-07-09T17:34:17.353770Z",
     "shell.execute_reply": "2025-07-09T17:34:17.353109Z"
    },
    "papermill": {
     "duration": 0.027459,
     "end_time": "2025-07-09T17:34:17.354808",
     "exception": false,
     "start_time": "2025-07-09T17:34:17.327349",
     "status": "completed"
    },
    "tags": []
   },
   "outputs": [],
   "source": [
    "# test = np.array(video_generator.videos)\n",
    "\n",
    "# test.shape"
   ]
  },
  {
   "cell_type": "code",
   "execution_count": 29,
   "id": "da31bae2",
   "metadata": {
    "execution": {
     "iopub.execute_input": "2025-07-09T17:34:17.397492Z",
     "iopub.status.busy": "2025-07-09T17:34:17.397294Z",
     "iopub.status.idle": "2025-07-09T17:34:17.400058Z",
     "shell.execute_reply": "2025-07-09T17:34:17.399546Z"
    },
    "papermill": {
     "duration": 0.025254,
     "end_time": "2025-07-09T17:34:17.401105",
     "exception": false,
     "start_time": "2025-07-09T17:34:17.375851",
     "status": "completed"
    },
    "tags": []
   },
   "outputs": [],
   "source": [
    "# show_frame(test[1,0])"
   ]
  },
  {
   "cell_type": "code",
   "execution_count": 30,
   "id": "b043c175",
   "metadata": {
    "execution": {
     "iopub.execute_input": "2025-07-09T17:34:17.443497Z",
     "iopub.status.busy": "2025-07-09T17:34:17.443298Z",
     "iopub.status.idle": "2025-07-09T17:34:17.448063Z",
     "shell.execute_reply": "2025-07-09T17:34:17.447483Z"
    },
    "papermill": {
     "duration": 0.027088,
     "end_time": "2025-07-09T17:34:17.449159",
     "exception": false,
     "start_time": "2025-07-09T17:34:17.422071",
     "status": "completed"
    },
    "tags": []
   },
   "outputs": [
    {
     "data": {
      "text/plain": [
       "(220, 11)"
      ]
     },
     "execution_count": 30,
     "metadata": {},
     "output_type": "execute_result"
    }
   ],
   "source": [
    "from tensorflow.keras.utils import to_categorical\n",
    "\n",
    "one_hot_encoded_labels = to_categorical(video_generator.labels)\n",
    "\n",
    "one_hot_encoded_labels.shape"
   ]
  },
  {
   "cell_type": "code",
   "execution_count": 31,
   "id": "3e06f1d2",
   "metadata": {
    "execution": {
     "iopub.execute_input": "2025-07-09T17:34:17.492357Z",
     "iopub.status.busy": "2025-07-09T17:34:17.492182Z",
     "iopub.status.idle": "2025-07-09T17:34:17.676996Z",
     "shell.execute_reply": "2025-07-09T17:34:17.676287Z"
    },
    "papermill": {
     "duration": 0.207897,
     "end_time": "2025-07-09T17:34:17.678257",
     "exception": false,
     "start_time": "2025-07-09T17:34:17.470360",
     "status": "completed"
    },
    "tags": []
   },
   "outputs": [
    {
     "data": {
      "text/plain": [
       "(220, 15, 128, 128, 3)"
      ]
     },
     "execution_count": 31,
     "metadata": {},
     "output_type": "execute_result"
    }
   ],
   "source": [
    "np.array(video_generator.videos).shape"
   ]
  },
  {
   "cell_type": "code",
   "execution_count": 32,
   "id": "b237805e",
   "metadata": {
    "execution": {
     "iopub.execute_input": "2025-07-09T17:34:17.722407Z",
     "iopub.status.busy": "2025-07-09T17:34:17.722178Z",
     "iopub.status.idle": "2025-07-09T17:34:18.018664Z",
     "shell.execute_reply": "2025-07-09T17:34:18.017902Z"
    },
    "papermill": {
     "duration": 0.319319,
     "end_time": "2025-07-09T17:34:18.019891",
     "exception": false,
     "start_time": "2025-07-09T17:34:17.700572",
     "status": "completed"
    },
    "tags": []
   },
   "outputs": [
    {
     "data": {
      "text/plain": [
       "((176, 15, 128, 128, 3), (176, 11), (44, 15, 128, 128, 3), (44, 11))"
      ]
     },
     "execution_count": 32,
     "metadata": {},
     "output_type": "execute_result"
    }
   ],
   "source": [
    "# RUN Split the Data into Train ( 75% ) and Test Set ( 25% ).\n",
    "from sklearn.model_selection import train_test_split\n",
    "features_train, features_test, labels_train, labels_test = train_test_split(video_generator.videos,\n",
    "                                                                            one_hot_encoded_labels,\n",
    "                                                                            test_size = TEST_SIZE,\n",
    "                                                                            shuffle = True,\n",
    "                                                                            random_state = seed_constant)\n",
    "\n",
    "\n",
    "features_train= np.array(features_train)\n",
    "labels_train= np.array(labels_train) \n",
    "features_test= np.array(features_test)\n",
    "labels_test=np.array(labels_test)\n",
    "\n",
    "features_train.shape, labels_train.shape, features_test.shape, labels_test.shape"
   ]
  },
  {
   "cell_type": "code",
   "execution_count": 33,
   "id": "bd891912",
   "metadata": {
    "execution": {
     "iopub.execute_input": "2025-07-09T17:34:18.064402Z",
     "iopub.status.busy": "2025-07-09T17:34:18.064178Z",
     "iopub.status.idle": "2025-07-09T17:34:18.069732Z",
     "shell.execute_reply": "2025-07-09T17:34:18.069057Z"
    },
    "papermill": {
     "duration": 0.028209,
     "end_time": "2025-07-09T17:34:18.070793",
     "exception": false,
     "start_time": "2025-07-09T17:34:18.042584",
     "status": "completed"
    },
    "tags": []
   },
   "outputs": [
    {
     "data": {
      "text/plain": [
       "((140, 15, 128, 128, 3), (140, 11), (36, 15, 128, 128, 3), (36, 11))"
      ]
     },
     "execution_count": 33,
     "metadata": {},
     "output_type": "execute_result"
    }
   ],
   "source": [
    "# Assuming features_train and labels_train are defined\n",
    "train_set = 1-VALIDATION_SPLIT\n",
    "\n",
    "train_video_frames, val_video_frames = features_train[:int(train_set * len(features_train))], features_train[int(train_set * len(features_train)):]\n",
    "train_labels, val_labels = labels_train[:int(train_set * len(labels_train))], labels_train[int(train_set * len(labels_train)):]\n",
    "\n",
    "train_video_frames.shape, train_labels.shape, val_video_frames.shape, val_labels.shape"
   ]
  },
  {
   "cell_type": "code",
   "execution_count": 34,
   "id": "45584dd5",
   "metadata": {
    "execution": {
     "iopub.execute_input": "2025-07-09T17:34:18.113799Z",
     "iopub.status.busy": "2025-07-09T17:34:18.113583Z",
     "iopub.status.idle": "2025-07-09T17:34:18.118204Z",
     "shell.execute_reply": "2025-07-09T17:34:18.117622Z"
    },
    "papermill": {
     "duration": 0.026948,
     "end_time": "2025-07-09T17:34:18.119141",
     "exception": false,
     "start_time": "2025-07-09T17:34:18.092193",
     "status": "completed"
    },
    "tags": []
   },
   "outputs": [
    {
     "name": "stdout",
     "output_type": "stream",
     "text": [
      "Training Set: Total 140 videos and 140 classes\n",
      "Testing Set: Total 44 videos and 44 classes\n",
      "Validation Set: Total 36 videos and 36 classes\n"
     ]
    }
   ],
   "source": [
    "print(\"Training Set: \", end=\"\")\n",
    "train_gen = VideoDataGenerator(\n",
    "    videos=train_video_frames,\n",
    "    labels=train_labels,\n",
    "    batch_size=BATCH_SIZE\n",
    ")\n",
    "\n",
    "print(\"Testing Set: \", end=\"\")\n",
    "test_gen = VideoDataGenerator(\n",
    "    videos=features_test,\n",
    "    labels=labels_test,\n",
    "    batch_size=BATCH_SIZE\n",
    ")\n",
    "\n",
    "\n",
    "print(\"Validation Set: \", end=\"\")\n",
    "val_gen = VideoDataGenerator(\n",
    "    videos=val_video_frames,\n",
    "    labels=val_labels,\n",
    "    batch_size=BATCH_SIZE\n",
    ")\n"
   ]
  },
  {
   "cell_type": "markdown",
   "id": "ccf469d0",
   "metadata": {
    "papermill": {
     "duration": 0.021163,
     "end_time": "2025-07-09T17:34:18.161643",
     "exception": false,
     "start_time": "2025-07-09T17:34:18.140480",
     "status": "completed"
    },
    "tags": []
   },
   "source": [
    "## Apply ***horizontal flip*** (Augmentation)"
   ]
  },
  {
   "cell_type": "code",
   "execution_count": 35,
   "id": "2bb41391",
   "metadata": {
    "execution": {
     "iopub.execute_input": "2025-07-09T17:34:18.204647Z",
     "iopub.status.busy": "2025-07-09T17:34:18.204447Z",
     "iopub.status.idle": "2025-07-09T17:34:19.659679Z",
     "shell.execute_reply": "2025-07-09T17:34:19.659042Z"
    },
    "papermill": {
     "duration": 1.478148,
     "end_time": "2025-07-09T17:34:19.660802",
     "exception": false,
     "start_time": "2025-07-09T17:34:18.182654",
     "status": "completed"
    },
    "tags": []
   },
   "outputs": [
    {
     "name": "stdout",
     "output_type": "stream",
     "text": [
      "Total 140 augmented videos generated\n",
      "Ready to be merged with original videos...\n"
     ]
    }
   ],
   "source": [
    "apply_augmentation(horizontal_flip, train_gen)"
   ]
  },
  {
   "cell_type": "code",
   "execution_count": 36,
   "id": "d4541b27",
   "metadata": {
    "execution": {
     "iopub.execute_input": "2025-07-09T17:34:19.716076Z",
     "iopub.status.busy": "2025-07-09T17:34:19.715373Z",
     "iopub.status.idle": "2025-07-09T17:34:19.719619Z",
     "shell.execute_reply": "2025-07-09T17:34:19.718921Z"
    },
    "papermill": {
     "duration": 0.032287,
     "end_time": "2025-07-09T17:34:19.720866",
     "exception": false,
     "start_time": "2025-07-09T17:34:19.688579",
     "status": "completed"
    },
    "tags": []
   },
   "outputs": [
    {
     "name": "stdout",
     "output_type": "stream",
     "text": [
      "Checking Total Videos and Class Count: 140, 140\n",
      "PENDING Total Videos and Class Count: 140, 140\n"
     ]
    }
   ],
   "source": [
    "print(f\"Checking Total Videos and Class Count: {len(train_gen.videos)}, {len(train_gen.labels)}\")\n",
    "print(f\"PENDING Total Videos and Class Count: {len(train_gen.temp_videos)}, {len(train_gen.temp_labels)}\")"
   ]
  },
  {
   "cell_type": "code",
   "execution_count": 37,
   "id": "81e78e9e",
   "metadata": {
    "execution": {
     "iopub.execute_input": "2025-07-09T17:34:19.774432Z",
     "iopub.status.busy": "2025-07-09T17:34:19.773918Z",
     "iopub.status.idle": "2025-07-09T17:34:19.777696Z",
     "shell.execute_reply": "2025-07-09T17:34:19.777009Z"
    },
    "papermill": {
     "duration": 0.031832,
     "end_time": "2025-07-09T17:34:19.778838",
     "exception": false,
     "start_time": "2025-07-09T17:34:19.747006",
     "status": "completed"
    },
    "tags": []
   },
   "outputs": [
    {
     "name": "stdout",
     "output_type": "stream",
     "text": [
      "Successfully added - 140 videos and 140 classes.\n",
      "Now Total - 280 videos and 280 classes.\n",
      "PENDING for Augmentations - 0 videos and 0 classes.\n"
     ]
    }
   ],
   "source": [
    "train_gen.confirm()"
   ]
  },
  {
   "cell_type": "markdown",
   "id": "8b34f22e",
   "metadata": {
    "papermill": {
     "duration": 0.026068,
     "end_time": "2025-07-09T17:34:19.831227",
     "exception": false,
     "start_time": "2025-07-09T17:34:19.805159",
     "status": "completed"
    },
    "tags": []
   },
   "source": [
    "## Apply ***Noise*** (Augmentation)"
   ]
  },
  {
   "cell_type": "code",
   "execution_count": 38,
   "id": "17973974",
   "metadata": {
    "execution": {
     "iopub.execute_input": "2025-07-09T17:34:19.884535Z",
     "iopub.status.busy": "2025-07-09T17:34:19.884292Z",
     "iopub.status.idle": "2025-07-09T17:34:30.073462Z",
     "shell.execute_reply": "2025-07-09T17:34:30.072604Z"
    },
    "papermill": {
     "duration": 10.217111,
     "end_time": "2025-07-09T17:34:30.074604",
     "exception": false,
     "start_time": "2025-07-09T17:34:19.857493",
     "status": "completed"
    },
    "tags": []
   },
   "outputs": [
    {
     "name": "stdout",
     "output_type": "stream",
     "text": [
      "Total 280 augmented videos generated\n",
      "Ready to be merged with original videos...\n"
     ]
    }
   ],
   "source": [
    "apply_augmentation(noise_video, train_gen)"
   ]
  },
  {
   "cell_type": "code",
   "execution_count": 39,
   "id": "aeb68ad0",
   "metadata": {
    "execution": {
     "iopub.execute_input": "2025-07-09T17:34:30.151284Z",
     "iopub.status.busy": "2025-07-09T17:34:30.150548Z",
     "iopub.status.idle": "2025-07-09T17:34:30.155163Z",
     "shell.execute_reply": "2025-07-09T17:34:30.154458Z"
    },
    "papermill": {
     "duration": 0.043357,
     "end_time": "2025-07-09T17:34:30.156253",
     "exception": false,
     "start_time": "2025-07-09T17:34:30.112896",
     "status": "completed"
    },
    "tags": []
   },
   "outputs": [
    {
     "name": "stdout",
     "output_type": "stream",
     "text": [
      "Checking Total Videos and Class Count: 280, 280\n",
      "PENDING Total Videos and Class Count: 280, 280\n"
     ]
    }
   ],
   "source": [
    "print(f\"Checking Total Videos and Class Count: {len(train_gen.videos)}, {len(train_gen.labels)}\")\n",
    "print(f\"PENDING Total Videos and Class Count: {len(train_gen.temp_videos)}, {len(train_gen.temp_labels)}\")"
   ]
  },
  {
   "cell_type": "markdown",
   "id": "94069ce2",
   "metadata": {
    "papermill": {
     "duration": 0.036793,
     "end_time": "2025-07-09T17:34:30.230294",
     "exception": false,
     "start_time": "2025-07-09T17:34:30.193501",
     "status": "completed"
    },
    "tags": []
   },
   "source": [
    "## Apply ***Random Shear x2*** (Augmentation)"
   ]
  },
  {
   "cell_type": "code",
   "execution_count": 40,
   "id": "6c94b43a",
   "metadata": {
    "execution": {
     "iopub.execute_input": "2025-07-09T17:34:30.303648Z",
     "iopub.status.busy": "2025-07-09T17:34:30.303441Z",
     "iopub.status.idle": "2025-07-09T17:35:03.666639Z",
     "shell.execute_reply": "2025-07-09T17:35:03.665753Z"
    },
    "papermill": {
     "duration": 33.401372,
     "end_time": "2025-07-09T17:35:03.667876",
     "exception": false,
     "start_time": "2025-07-09T17:34:30.266504",
     "status": "completed"
    },
    "tags": []
   },
   "outputs": [
    {
     "name": "stdout",
     "output_type": "stream",
     "text": [
      "Total 560 augmented videos generated\n",
      "Ready to be merged with original videos...\n",
      "Total 840 augmented videos generated\n",
      "Ready to be merged with original videos...\n"
     ]
    }
   ],
   "source": [
    "apply_augmentation(apply_shear_frames, train_gen, shear_right=0)\n",
    "apply_augmentation(apply_shear_frames, train_gen, shear_right=1)"
   ]
  },
  {
   "cell_type": "code",
   "execution_count": 41,
   "id": "cb9040f7",
   "metadata": {
    "execution": {
     "iopub.execute_input": "2025-07-09T17:35:03.785700Z",
     "iopub.status.busy": "2025-07-09T17:35:03.785461Z",
     "iopub.status.idle": "2025-07-09T17:35:03.789368Z",
     "shell.execute_reply": "2025-07-09T17:35:03.788498Z"
    },
    "papermill": {
     "duration": 0.063203,
     "end_time": "2025-07-09T17:35:03.790465",
     "exception": false,
     "start_time": "2025-07-09T17:35:03.727262",
     "status": "completed"
    },
    "tags": []
   },
   "outputs": [
    {
     "name": "stdout",
     "output_type": "stream",
     "text": [
      "Checking Total Videos and Class Count: 280, 280\n",
      "PENDING Total Videos and Class Count: 840, 840\n"
     ]
    }
   ],
   "source": [
    "print(f\"Checking Total Videos and Class Count: {len(train_gen.videos)}, {len(train_gen.labels)}\")\n",
    "print(f\"PENDING Total Videos and Class Count: {len(train_gen.temp_videos)}, {len(train_gen.temp_labels)}\")"
   ]
  },
  {
   "cell_type": "code",
   "execution_count": 42,
   "id": "12cce335",
   "metadata": {
    "execution": {
     "iopub.execute_input": "2025-07-09T17:35:03.905444Z",
     "iopub.status.busy": "2025-07-09T17:35:03.904953Z",
     "iopub.status.idle": "2025-07-09T17:35:03.908621Z",
     "shell.execute_reply": "2025-07-09T17:35:03.907966Z"
    },
    "papermill": {
     "duration": 0.062556,
     "end_time": "2025-07-09T17:35:03.909748",
     "exception": false,
     "start_time": "2025-07-09T17:35:03.847192",
     "status": "completed"
    },
    "tags": []
   },
   "outputs": [
    {
     "name": "stdout",
     "output_type": "stream",
     "text": [
      "Successfully added - 840 videos and 840 classes.\n",
      "Now Total - 1120 videos and 1120 classes.\n",
      "PENDING for Augmentations - 0 videos and 0 classes.\n"
     ]
    }
   ],
   "source": [
    "# confirm changes to generator\n",
    "train_gen.confirm()"
   ]
  },
  {
   "cell_type": "code",
   "execution_count": 43,
   "id": "bde9bf83",
   "metadata": {
    "execution": {
     "iopub.execute_input": "2025-07-09T17:35:04.024963Z",
     "iopub.status.busy": "2025-07-09T17:35:04.024462Z",
     "iopub.status.idle": "2025-07-09T17:35:04.028570Z",
     "shell.execute_reply": "2025-07-09T17:35:04.027841Z"
    },
    "papermill": {
     "duration": 0.062982,
     "end_time": "2025-07-09T17:35:04.029681",
     "exception": false,
     "start_time": "2025-07-09T17:35:03.966699",
     "status": "completed"
    },
    "tags": []
   },
   "outputs": [
    {
     "name": "stdout",
     "output_type": "stream",
     "text": [
      "Checking Video Generator Total Videos and Class Count: 1120, 1120\n"
     ]
    }
   ],
   "source": [
    "print(f\"Checking Video Generator Total Videos and Class Count: {len(train_gen.videos)}, {len(train_gen.labels)}\")"
   ]
  },
  {
   "cell_type": "markdown",
   "id": "05234065",
   "metadata": {
    "papermill": {
     "duration": 0.059746,
     "end_time": "2025-07-09T17:35:04.149883",
     "exception": false,
     "start_time": "2025-07-09T17:35:04.090137",
     "status": "completed"
    },
    "tags": []
   },
   "source": [
    "## Cheking (Output)"
   ]
  },
  {
   "cell_type": "code",
   "execution_count": 44,
   "id": "3d922d54",
   "metadata": {
    "execution": {
     "iopub.execute_input": "2025-07-09T17:35:04.264274Z",
     "iopub.status.busy": "2025-07-09T17:35:04.263965Z",
     "iopub.status.idle": "2025-07-09T17:35:04.737958Z",
     "shell.execute_reply": "2025-07-09T17:35:04.737240Z"
    },
    "papermill": {
     "duration": 0.532996,
     "end_time": "2025-07-09T17:35:04.739930",
     "exception": false,
     "start_time": "2025-07-09T17:35:04.206934",
     "status": "completed"
    },
    "tags": []
   },
   "outputs": [
    {
     "name": "stdout",
     "output_type": "stream",
     "text": [
      "(16, 15, 128, 128, 3) (16, 11)\n"
     ]
    },
    {
     "data": {
      "image/png": "[encoded data removed]",
      "text/plain": [
       "<Figure size 1000x500 with 2 Axes>"
      ]
     },
     "metadata": {},
     "output_type": "display_data"
    },
    {
     "name": "stdout",
     "output_type": "stream",
     "text": [
      "Might be two different action, but to check the flipping focus on the door behind.\n"
     ]
    }
   ],
   "source": [
    "# check horizontal flips\n",
    "videos, labels = train_gen[7]\n",
    "videos1, labels1 = train_gen[1]\n",
    "\n",
    "print(videos.shape, labels.shape)\n",
    "\n",
    "show_frame_vs(videos[0,0],videos1[1,0], title1=\"Flipped Frame 1\", title2=\"Non Flipped Frame 1\")\n",
    "print(\"Might be two different action, but to check the flipping focus on the door behind.\")"
   ]
  },
  {
   "cell_type": "markdown",
   "id": "9b30af64",
   "metadata": {
    "papermill": {
     "duration": 0.058471,
     "end_time": "2025-07-09T17:35:04.858673",
     "exception": false,
     "start_time": "2025-07-09T17:35:04.800202",
     "status": "completed"
    },
    "tags": []
   },
   "source": [
    "# 🧪 Test Augmentation (Output)\n",
    "## 🖼️ Horizontal Flip Output"
   ]
  },
  {
   "cell_type": "code",
   "execution_count": 45,
   "id": "60fd5bd8",
   "metadata": {
    "execution": {
     "iopub.execute_input": "2025-07-09T17:35:04.978252Z",
     "iopub.status.busy": "2025-07-09T17:35:04.977635Z",
     "iopub.status.idle": "2025-07-09T17:35:04.981064Z",
     "shell.execute_reply": "2025-07-09T17:35:04.980378Z"
    },
    "papermill": {
     "duration": 0.063859,
     "end_time": "2025-07-09T17:35:04.982112",
     "exception": false,
     "start_time": "2025-07-09T17:35:04.918253",
     "status": "completed"
    },
    "tags": []
   },
   "outputs": [],
   "source": [
    "# flipped_video_1 = horizontal_flip(features[0])\n",
    "\n",
    "# flipped_video_1=np.asarray(flipped_video_1)\n",
    "\n",
    "# show_frame(flipped_video_1[0])\n",
    "# flipped_video_1.shape"
   ]
  },
  {
   "cell_type": "markdown",
   "id": "79220037",
   "metadata": {
    "papermill": {
     "duration": 0.0598,
     "end_time": "2025-07-09T17:35:05.101498",
     "exception": false,
     "start_time": "2025-07-09T17:35:05.041698",
     "status": "completed"
    },
    "tags": []
   },
   "source": [
    "## 🖼️ Salt and Pepper Noise Output"
   ]
  },
  {
   "cell_type": "code",
   "execution_count": 46,
   "id": "b056fbb8",
   "metadata": {
    "execution": {
     "iopub.execute_input": "2025-07-09T17:35:05.220284Z",
     "iopub.status.busy": "2025-07-09T17:35:05.219762Z",
     "iopub.status.idle": "2025-07-09T17:35:05.223156Z",
     "shell.execute_reply": "2025-07-09T17:35:05.222467Z"
    },
    "papermill": {
     "duration": 0.063987,
     "end_time": "2025-07-09T17:35:05.224304",
     "exception": false,
     "start_time": "2025-07-09T17:35:05.160317",
     "status": "completed"
    },
    "tags": []
   },
   "outputs": [],
   "source": [
    "# noised_video = noise_video(features[0])\n",
    "\n",
    "# print(noised_video.shape)\n",
    "# show_frame(noised_video[0])"
   ]
  },
  {
   "cell_type": "markdown",
   "id": "8a339631",
   "metadata": {
    "papermill": {
     "duration": 0.058479,
     "end_time": "2025-07-09T17:35:05.343324",
     "exception": false,
     "start_time": "2025-07-09T17:35:05.284845",
     "status": "completed"
    },
    "tags": []
   },
   "source": [
    "## 🖼️ Random Shear Output"
   ]
  },
  {
   "cell_type": "code",
   "execution_count": 47,
   "id": "640e2d3f",
   "metadata": {
    "execution": {
     "iopub.execute_input": "2025-07-09T17:35:05.465124Z",
     "iopub.status.busy": "2025-07-09T17:35:05.464575Z",
     "iopub.status.idle": "2025-07-09T17:35:05.467691Z",
     "shell.execute_reply": "2025-07-09T17:35:05.467142Z"
    },
    "papermill": {
     "duration": 0.065866,
     "end_time": "2025-07-09T17:35:05.468743",
     "exception": false,
     "start_time": "2025-07-09T17:35:05.402877",
     "status": "completed"
    },
    "tags": []
   },
   "outputs": [],
   "source": [
    "# print(features.shape)\n",
    "\n",
    "# sheared_1 = apply_shear_frames(features[0], shear_right=0)\n",
    "# sheared_2 = apply_shear_frames(features[0], shear_right=1)\n",
    "\n",
    "# sheared_1 = np.asarray(sheared_1)\n",
    "# sheared_2 = np.asarray(sheared_2)\n",
    "\n",
    "# print(sheared_1.shape)\n",
    "# show_frame(sheared_1[0])\n",
    "# show_frame(sheared_2[0])"
   ]
  },
  {
   "cell_type": "markdown",
   "id": "fd1eaec7",
   "metadata": {
    "papermill": {
     "duration": 0.058764,
     "end_time": "2025-07-09T17:35:05.634397",
     "exception": false,
     "start_time": "2025-07-09T17:35:05.575633",
     "status": "completed"
    },
    "tags": []
   },
   "source": [
    "# 📌 Preparing Data for Training"
   ]
  },
  {
   "cell_type": "code",
   "execution_count": 48,
   "id": "e5e1140c",
   "metadata": {
    "execution": {
     "iopub.execute_input": "2025-07-09T17:35:05.755577Z",
     "iopub.status.busy": "2025-07-09T17:35:05.755007Z",
     "iopub.status.idle": "2025-07-09T17:35:06.149769Z",
     "shell.execute_reply": "2025-07-09T17:35:06.149179Z"
    },
    "papermill": {
     "duration": 0.457322,
     "end_time": "2025-07-09T17:35:06.151053",
     "exception": false,
     "start_time": "2025-07-09T17:35:05.693731",
     "status": "completed"
    },
    "tags": []
   },
   "outputs": [],
   "source": [
    "# Clear previous session to free memory\n",
    "import gc\n",
    "\n",
    "gc.collect()\n",
    "tf.keras.backend.clear_session()"
   ]
  },
  {
   "cell_type": "code",
   "execution_count": 49,
   "id": "f104c189",
   "metadata": {
    "execution": {
     "iopub.execute_input": "2025-07-09T17:35:06.273676Z",
     "iopub.status.busy": "2025-07-09T17:35:06.273252Z",
     "iopub.status.idle": "2025-07-09T17:35:06.472443Z",
     "shell.execute_reply": "2025-07-09T17:35:06.471743Z"
    },
    "papermill": {
     "duration": 0.260589,
     "end_time": "2025-07-09T17:35:06.473623",
     "exception": false,
     "start_time": "2025-07-09T17:35:06.213034",
     "status": "completed"
    },
    "tags": []
   },
   "outputs": [
    {
     "data": {
      "text/plain": [
       "0"
      ]
     },
     "execution_count": 49,
     "metadata": {},
     "output_type": "execute_result"
    }
   ],
   "source": [
    "gc.collect()"
   ]
  },
  {
   "cell_type": "markdown",
   "id": "a8f51dd3",
   "metadata": {
    "papermill": {
     "duration": 0.058313,
     "end_time": "2025-07-09T17:35:06.592462",
     "exception": false,
     "start_time": "2025-07-09T17:35:06.534149",
     "status": "completed"
    },
    "tags": []
   },
   "source": [
    "## Compute Class Weight"
   ]
  },
  {
   "cell_type": "code",
   "execution_count": 50,
   "id": "446febef",
   "metadata": {
    "execution": {
     "iopub.execute_input": "2025-07-09T17:35:06.711106Z",
     "iopub.status.busy": "2025-07-09T17:35:06.710474Z",
     "iopub.status.idle": "2025-07-09T17:35:06.716655Z",
     "shell.execute_reply": "2025-07-09T17:35:06.715974Z"
    },
    "papermill": {
     "duration": 0.066602,
     "end_time": "2025-07-09T17:35:06.718027",
     "exception": false,
     "start_time": "2025-07-09T17:35:06.651425",
     "status": "completed"
    },
    "tags": []
   },
   "outputs": [
    {
     "name": "stdout",
     "output_type": "stream",
     "text": [
      "Class weights: {0: 1.0, 1: 1.0, 2: 1.0, 3: 1.0, 4: 1.0, 5: 1.0, 6: 1.0, 7: 1.0, 8: 1.0, 9: 1.0, 10: 1.0}\n"
     ]
    }
   ],
   "source": [
    "from sklearn.utils.class_weight import compute_class_weight\n",
    "import numpy as np\n",
    "\n",
    "# Assuming y_int are integer labels (not one-hot)\n",
    "y_int = np.argmax(one_hot_encoded_labels, axis=1)  # or just integer labels if you have them\n",
    "\n",
    "classes = np.arange(NO_OF_CLASSES)  # e.g. np.arange(16)\n",
    "class_weights_values = compute_class_weight(class_weight='balanced', classes=classes, y=y_int)\n",
    "\n",
    "class_weights = dict(zip(classes, class_weights_values))\n",
    "\n",
    "print(\"Class weights:\", class_weights)\n"
   ]
  },
  {
   "cell_type": "code",
   "execution_count": 51,
   "id": "6acf9427",
   "metadata": {
    "execution": {
     "iopub.execute_input": "2025-07-09T17:35:06.839765Z",
     "iopub.status.busy": "2025-07-09T17:35:06.839516Z",
     "iopub.status.idle": "2025-07-09T17:35:07.041666Z",
     "shell.execute_reply": "2025-07-09T17:35:07.041029Z"
    },
    "papermill": {
     "duration": 0.262871,
     "end_time": "2025-07-09T17:35:07.042683",
     "exception": false,
     "start_time": "2025-07-09T17:35:06.779812",
     "status": "completed"
    },
    "tags": []
   },
   "outputs": [],
   "source": [
    "gc.collect()\n",
    "del videos, one_hot_encoded_labels, labels_train\n",
    "del features_train, val_labels, train_labels\n",
    "del val_video_frames, train_video_frames"
   ]
  },
  {
   "cell_type": "markdown",
   "id": "48c455a0",
   "metadata": {
    "papermill": {
     "duration": 0.058763,
     "end_time": "2025-07-09T17:35:07.163255",
     "exception": false,
     "start_time": "2025-07-09T17:35:07.104492",
     "status": "completed"
    },
    "tags": []
   },
   "source": [
    "# ✨ Model Execution\n",
    "## Creating Model"
   ]
  },
  {
   "cell_type": "code",
   "execution_count": 52,
   "id": "b15de4ac",
   "metadata": {
    "execution": {
     "iopub.execute_input": "2025-07-09T17:35:07.283037Z",
     "iopub.status.busy": "2025-07-09T17:35:07.282770Z",
     "iopub.status.idle": "2025-07-09T17:35:08.631039Z",
     "shell.execute_reply": "2025-07-09T17:35:08.630239Z"
    },
    "papermill": {
     "duration": 1.410327,
     "end_time": "2025-07-09T17:35:08.632454",
     "exception": false,
     "start_time": "2025-07-09T17:35:07.222127",
     "status": "completed"
    },
    "tags": []
   },
   "outputs": [
    {
     "name": "stdout",
     "output_type": "stream",
     "text": [
      "Loading Xception base model...\n"
     ]
    },
    {
     "name": "stderr",
     "output_type": "stream",
     "text": [
      "/usr/local/lib/python3.11/dist-packages/keras/src/layers/core/wrapper.py:27: UserWarning: Do not pass an `input_shape`/`input_dim` argument to a layer. When using Sequential models, prefer using an `Input(shape)` object as the first layer in the model instead.\n",
      "  super().__init__(**kwargs)\n"
     ]
    },
    {
     "name": "stdout",
     "output_type": "stream",
     "text": [
      "Xception+LSTM model (mirroring VGG19 architecture) created successfully!\n"
     ]
    },
    {
     "data": {
      "text/html": [
       "<pre style=\"white-space:pre;overflow-x:auto;line-height:normal;font-family:Menlo,'DejaVu Sans Mono',consolas,'Courier New',monospace\"><span style=\"font-weight: bold\">Model: \"sequential\"</span>\n",
       "</pre>\n"
      ],
      "text/plain": [
       "\u001b[1mModel: \"sequential\"\u001b[0m\n"
      ]
     },
     "metadata": {},
     "output_type": "display_data"
    },
    {
     "data": {
      "text/html": [
       "<pre style=\"white-space:pre;overflow-x:auto;line-height:normal;font-family:Menlo,'DejaVu Sans Mono',consolas,'Courier New',monospace\">┏━━━━━━━━━━━━━━━━━━━━━━━━━━━━━━━━━━━━━━┳━━━━━━━━━━━━━━━━━━━━━━━━━━━━━┳━━━━━━━━━━━━━━━━━┓\n",
       "┃<span style=\"font-weight: bold\"> Layer (type)                         </span>┃<span style=\"font-weight: bold\"> Output Shape                </span>┃<span style=\"font-weight: bold\">         Param # </span>┃\n",
       "┡━━━━━━━━━━━━━━━━━━━━━━━━━━━━━━━━━━━━━━╇━━━━━━━━━━━━━━━━━━━━━━━━━━━━━╇━━━━━━━━━━━━━━━━━┩\n",
       "│ time_distributed_xception            │ (<span style=\"color: #00d7ff; text-decoration-color: #00d7ff\">None</span>, <span style=\"color: #00af00; text-decoration-color: #00af00\">15</span>, <span style=\"color: #00af00; text-decoration-color: #00af00\">4</span>, <span style=\"color: #00af00; text-decoration-color: #00af00\">4</span>, <span style=\"color: #00af00; text-decoration-color: #00af00\">2048</span>)      │      <span style=\"color: #00af00; text-decoration-color: #00af00\">20,861,480</span> │\n",
       "│ (<span style=\"color: #0087ff; text-decoration-color: #0087ff\">TimeDistributed</span>)                    │                             │                 │\n",
       "├──────────────────────────────────────┼─────────────────────────────┼─────────────────┤\n",
       "│ time_distributed_pooling             │ (<span style=\"color: #00d7ff; text-decoration-color: #00d7ff\">None</span>, <span style=\"color: #00af00; text-decoration-color: #00af00\">15</span>, <span style=\"color: #00af00; text-decoration-color: #00af00\">2048</span>)            │               <span style=\"color: #00af00; text-decoration-color: #00af00\">0</span> │\n",
       "│ (<span style=\"color: #0087ff; text-decoration-color: #0087ff\">TimeDistributed</span>)                    │                             │                 │\n",
       "├──────────────────────────────────────┼─────────────────────────────┼─────────────────┤\n",
       "│ lstm_xception (<span style=\"color: #0087ff; text-decoration-color: #0087ff\">LSTM</span>)                 │ (<span style=\"color: #00d7ff; text-decoration-color: #00d7ff\">None</span>, <span style=\"color: #00af00; text-decoration-color: #00af00\">512</span>)                 │       <span style=\"color: #00af00; text-decoration-color: #00af00\">5,244,928</span> │\n",
       "├──────────────────────────────────────┼─────────────────────────────┼─────────────────┤\n",
       "│ batch_normalization_xception         │ (<span style=\"color: #00d7ff; text-decoration-color: #00d7ff\">None</span>, <span style=\"color: #00af00; text-decoration-color: #00af00\">512</span>)                 │           <span style=\"color: #00af00; text-decoration-color: #00af00\">2,048</span> │\n",
       "│ (<span style=\"color: #0087ff; text-decoration-color: #0087ff\">BatchNormalization</span>)                 │                             │                 │\n",
       "├──────────────────────────────────────┼─────────────────────────────┼─────────────────┤\n",
       "│ dropout_lstm_xception (<span style=\"color: #0087ff; text-decoration-color: #0087ff\">Dropout</span>)      │ (<span style=\"color: #00d7ff; text-decoration-color: #00d7ff\">None</span>, <span style=\"color: #00af00; text-decoration-color: #00af00\">512</span>)                 │               <span style=\"color: #00af00; text-decoration-color: #00af00\">0</span> │\n",
       "├──────────────────────────────────────┼─────────────────────────────┼─────────────────┤\n",
       "│ dense_xception_1 (<span style=\"color: #0087ff; text-decoration-color: #0087ff\">Dense</span>)             │ (<span style=\"color: #00d7ff; text-decoration-color: #00d7ff\">None</span>, <span style=\"color: #00af00; text-decoration-color: #00af00\">512</span>)                 │         <span style=\"color: #00af00; text-decoration-color: #00af00\">262,656</span> │\n",
       "├──────────────────────────────────────┼─────────────────────────────┼─────────────────┤\n",
       "│ dropout_dense_xception_1 (<span style=\"color: #0087ff; text-decoration-color: #0087ff\">Dropout</span>)   │ (<span style=\"color: #00d7ff; text-decoration-color: #00d7ff\">None</span>, <span style=\"color: #00af00; text-decoration-color: #00af00\">512</span>)                 │               <span style=\"color: #00af00; text-decoration-color: #00af00\">0</span> │\n",
       "├──────────────────────────────────────┼─────────────────────────────┼─────────────────┤\n",
       "│ dense_xception_2 (<span style=\"color: #0087ff; text-decoration-color: #0087ff\">Dense</span>)             │ (<span style=\"color: #00d7ff; text-decoration-color: #00d7ff\">None</span>, <span style=\"color: #00af00; text-decoration-color: #00af00\">128</span>)                 │          <span style=\"color: #00af00; text-decoration-color: #00af00\">65,664</span> │\n",
       "├──────────────────────────────────────┼─────────────────────────────┼─────────────────┤\n",
       "│ dropout_dense_xception_2 (<span style=\"color: #0087ff; text-decoration-color: #0087ff\">Dropout</span>)   │ (<span style=\"color: #00d7ff; text-decoration-color: #00d7ff\">None</span>, <span style=\"color: #00af00; text-decoration-color: #00af00\">128</span>)                 │               <span style=\"color: #00af00; text-decoration-color: #00af00\">0</span> │\n",
       "├──────────────────────────────────────┼─────────────────────────────┼─────────────────┤\n",
       "│ output_xception (<span style=\"color: #0087ff; text-decoration-color: #0087ff\">Dense</span>)              │ (<span style=\"color: #00d7ff; text-decoration-color: #00d7ff\">None</span>, <span style=\"color: #00af00; text-decoration-color: #00af00\">11</span>)                  │           <span style=\"color: #00af00; text-decoration-color: #00af00\">1,419</span> │\n",
       "└──────────────────────────────────────┴─────────────────────────────┴─────────────────┘\n",
       "</pre>\n"
      ],
      "text/plain": [
       "┏━━━━━━━━━━━━━━━━━━━━━━━━━━━━━━━━━━━━━━┳━━━━━━━━━━━━━━━━━━━━━━━━━━━━━┳━━━━━━━━━━━━━━━━━┓\n",
       "┃\u001b[1m \u001b[0m\u001b[1mLayer (type)                        \u001b[0m\u001b[1m \u001b[0m┃\u001b[1m \u001b[0m\u001b[1mOutput Shape               \u001b[0m\u001b[1m \u001b[0m┃\u001b[1m \u001b[0m\u001b[1m        Param #\u001b[0m\u001b[1m \u001b[0m┃\n",
       "┡━━━━━━━━━━━━━━━━━━━━━━━━━━━━━━━━━━━━━━╇━━━━━━━━━━━━━━━━━━━━━━━━━━━━━╇━━━━━━━━━━━━━━━━━┩\n",
       "│ time_distributed_xception            │ (\u001b[38;5;45mNone\u001b[0m, \u001b[38;5;34m15\u001b[0m, \u001b[38;5;34m4\u001b[0m, \u001b[38;5;34m4\u001b[0m, \u001b[38;5;34m2048\u001b[0m)      │      \u001b[38;5;34m20,861,480\u001b[0m │\n",
       "│ (\u001b[38;5;33mTimeDistributed\u001b[0m)                    │                             │                 │\n",
       "├──────────────────────────────────────┼─────────────────────────────┼─────────────────┤\n",
       "│ time_distributed_pooling             │ (\u001b[38;5;45mNone\u001b[0m, \u001b[38;5;34m15\u001b[0m, \u001b[38;5;34m2048\u001b[0m)            │               \u001b[38;5;34m0\u001b[0m │\n",
       "│ (\u001b[38;5;33mTimeDistributed\u001b[0m)                    │                             │                 │\n",
       "├──────────────────────────────────────┼─────────────────────────────┼─────────────────┤\n",
       "│ lstm_xception (\u001b[38;5;33mLSTM\u001b[0m)                 │ (\u001b[38;5;45mNone\u001b[0m, \u001b[38;5;34m512\u001b[0m)                 │       \u001b[38;5;34m5,244,928\u001b[0m │\n",
       "├──────────────────────────────────────┼─────────────────────────────┼─────────────────┤\n",
       "│ batch_normalization_xception         │ (\u001b[38;5;45mNone\u001b[0m, \u001b[38;5;34m512\u001b[0m)                 │           \u001b[38;5;34m2,048\u001b[0m │\n",
       "│ (\u001b[38;5;33mBatchNormalization\u001b[0m)                 │                             │                 │\n",
       "├──────────────────────────────────────┼─────────────────────────────┼─────────────────┤\n",
       "│ dropout_lstm_xception (\u001b[38;5;33mDropout\u001b[0m)      │ (\u001b[38;5;45mNone\u001b[0m, \u001b[38;5;34m512\u001b[0m)                 │               \u001b[38;5;34m0\u001b[0m │\n",
       "├──────────────────────────────────────┼─────────────────────────────┼─────────────────┤\n",
       "│ dense_xception_1 (\u001b[38;5;33mDense\u001b[0m)             │ (\u001b[38;5;45mNone\u001b[0m, \u001b[38;5;34m512\u001b[0m)                 │         \u001b[38;5;34m262,656\u001b[0m │\n",
       "├──────────────────────────────────────┼─────────────────────────────┼─────────────────┤\n",
       "│ dropout_dense_xception_1 (\u001b[38;5;33mDropout\u001b[0m)   │ (\u001b[38;5;45mNone\u001b[0m, \u001b[38;5;34m512\u001b[0m)                 │               \u001b[38;5;34m0\u001b[0m │\n",
       "├──────────────────────────────────────┼─────────────────────────────┼─────────────────┤\n",
       "│ dense_xception_2 (\u001b[38;5;33mDense\u001b[0m)             │ (\u001b[38;5;45mNone\u001b[0m, \u001b[38;5;34m128\u001b[0m)                 │          \u001b[38;5;34m65,664\u001b[0m │\n",
       "├──────────────────────────────────────┼─────────────────────────────┼─────────────────┤\n",
       "│ dropout_dense_xception_2 (\u001b[38;5;33mDropout\u001b[0m)   │ (\u001b[38;5;45mNone\u001b[0m, \u001b[38;5;34m128\u001b[0m)                 │               \u001b[38;5;34m0\u001b[0m │\n",
       "├──────────────────────────────────────┼─────────────────────────────┼─────────────────┤\n",
       "│ output_xception (\u001b[38;5;33mDense\u001b[0m)              │ (\u001b[38;5;45mNone\u001b[0m, \u001b[38;5;34m11\u001b[0m)                  │           \u001b[38;5;34m1,419\u001b[0m │\n",
       "└──────────────────────────────────────┴─────────────────────────────┴─────────────────┘\n"
      ]
     },
     "metadata": {},
     "output_type": "display_data"
    },
    {
     "data": {
      "text/html": [
       "<pre style=\"white-space:pre;overflow-x:auto;line-height:normal;font-family:Menlo,'DejaVu Sans Mono',consolas,'Courier New',monospace\"><span style=\"font-weight: bold\"> Total params: </span><span style=\"color: #00af00; text-decoration-color: #00af00\">26,438,195</span> (100.85 MB)\n",
       "</pre>\n"
      ],
      "text/plain": [
       "\u001b[1m Total params: \u001b[0m\u001b[38;5;34m26,438,195\u001b[0m (100.85 MB)\n"
      ]
     },
     "metadata": {},
     "output_type": "display_data"
    },
    {
     "data": {
      "text/html": [
       "<pre style=\"white-space:pre;overflow-x:auto;line-height:normal;font-family:Menlo,'DejaVu Sans Mono',consolas,'Courier New',monospace\"><span style=\"font-weight: bold\"> Trainable params: </span><span style=\"color: #00af00; text-decoration-color: #00af00\">5,575,691</span> (21.27 MB)\n",
       "</pre>\n"
      ],
      "text/plain": [
       "\u001b[1m Trainable params: \u001b[0m\u001b[38;5;34m5,575,691\u001b[0m (21.27 MB)\n"
      ]
     },
     "metadata": {},
     "output_type": "display_data"
    },
    {
     "data": {
      "text/html": [
       "<pre style=\"white-space:pre;overflow-x:auto;line-height:normal;font-family:Menlo,'DejaVu Sans Mono',consolas,'Courier New',monospace\"><span style=\"font-weight: bold\"> Non-trainable params: </span><span style=\"color: #00af00; text-decoration-color: #00af00\">20,862,504</span> (79.58 MB)\n",
       "</pre>\n"
      ],
      "text/plain": [
       "\u001b[1m Non-trainable params: \u001b[0m\u001b[38;5;34m20,862,504\u001b[0m (79.58 MB)\n"
      ]
     },
     "metadata": {},
     "output_type": "display_data"
    },
    {
     "name": "stdout",
     "output_type": "stream",
     "text": [
      "Model Created Successfully!\n"
     ]
    }
   ],
   "source": [
    "# Create the model\n",
    "xlstm_model = create_xception_lstm_model(\n",
    "    sequence_length=SEQUENCE_LENGTH,\n",
    "    image_height=IMAGE_HEIGHT,\n",
    "    image_width=IMAGE_WIDTH,\n",
    "    classes_list=CLASSES_LIST,\n",
    "    dropout_rate=DROPOUT_RATE\n",
    ")\n",
    "\n",
    "# Check if model was created successfully\n",
    "if xlstm_model is None:\n",
    "    print(\"Failed to create model. Check error messages above.\")\n",
    "else:\n",
    "    print(\"Model Created Successfully!\")"
   ]
  },
  {
   "cell_type": "markdown",
   "id": "12e00c56",
   "metadata": {
    "papermill": {
     "duration": 0.060871,
     "end_time": "2025-07-09T17:35:08.759699",
     "exception": false,
     "start_time": "2025-07-09T17:35:08.698828",
     "status": "completed"
    },
    "tags": []
   },
   "source": [
    "## Plot Model Structure"
   ]
  },
  {
   "cell_type": "code",
   "execution_count": 53,
   "id": "e6cdc333",
   "metadata": {
    "execution": {
     "iopub.execute_input": "2025-07-09T17:35:08.880867Z",
     "iopub.status.busy": "2025-07-09T17:35:08.880405Z",
     "iopub.status.idle": "2025-07-09T17:35:09.267724Z",
     "shell.execute_reply": "2025-07-09T17:35:09.266906Z"
    },
    "papermill": {
     "duration": 0.448586,
     "end_time": "2025-07-09T17:35:09.268998",
     "exception": false,
     "start_time": "2025-07-09T17:35:08.820412",
     "status": "completed"
    },
    "tags": []
   },
   "outputs": [
    {
     "name": "stdout",
     "output_type": "stream",
     "text": [
      "Xception Model Plot saved successfully...\n"
     ]
    }
   ],
   "source": [
    "# Plot the structure of the contructed model.\n",
    "from tensorflow.keras.utils import plot_model\n",
    "\n",
    "plot_model(xlstm_model, to_file = f'{MODEL_NAME}_model_Plot.png', show_shapes = True, show_layer_names = True)\n",
    "\n",
    "print(f\"{MODEL_NAME} Model Plot saved successfully...\")"
   ]
  },
  {
   "cell_type": "markdown",
   "id": "9da15560",
   "metadata": {
    "papermill": {
     "duration": 0.060707,
     "end_time": "2025-07-09T17:35:09.393110",
     "exception": false,
     "start_time": "2025-07-09T17:35:09.332403",
     "status": "completed"
    },
    "tags": []
   },
   "source": [
    "## Model Compile"
   ]
  },
  {
   "cell_type": "code",
   "execution_count": 54,
   "id": "d66cb338",
   "metadata": {
    "execution": {
     "iopub.execute_input": "2025-07-09T17:35:09.515830Z",
     "iopub.status.busy": "2025-07-09T17:35:09.515339Z",
     "iopub.status.idle": "2025-07-09T17:35:09.530678Z",
     "shell.execute_reply": "2025-07-09T17:35:09.529953Z"
    },
    "papermill": {
     "duration": 0.077498,
     "end_time": "2025-07-09T17:35:09.531851",
     "exception": false,
     "start_time": "2025-07-09T17:35:09.454353",
     "status": "completed"
    },
    "tags": []
   },
   "outputs": [],
   "source": [
    "# Create an Instance of Early Stopping Callback\n",
    "from tensorflow.keras.callbacks import EarlyStopping\n",
    "\n",
    "early_stopping_callback = EarlyStopping(monitor = 'val_loss', \n",
    "                                        patience = 7, \n",
    "                                        mode = 'min', \n",
    "                                        restore_best_weights = True)\n",
    "\n",
    "# Compile the model and specify loss function, optimizer and metrics values to the model\n",
    "xlstm_model.compile(loss = 'categorical_crossentropy', \n",
    "                    optimizer=tf.keras.optimizers.Adam(learning_rate=0.0001),\n",
    "                    metrics = [\"accuracy\"])\n"
   ]
  },
  {
   "cell_type": "markdown",
   "id": "eee469a4",
   "metadata": {
    "papermill": {
     "duration": 0.105215,
     "end_time": "2025-07-09T17:35:09.696965",
     "exception": false,
     "start_time": "2025-07-09T17:35:09.591750",
     "status": "completed"
    },
    "tags": []
   },
   "source": [
    "## 💪 Model Fit"
   ]
  },
  {
   "cell_type": "code",
   "execution_count": 55,
   "id": "eb97e93e",
   "metadata": {
    "execution": {
     "iopub.execute_input": "2025-07-09T17:35:09.819349Z",
     "iopub.status.busy": "2025-07-09T17:35:09.818837Z",
     "iopub.status.idle": "2025-07-09T17:35:09.824456Z",
     "shell.execute_reply": "2025-07-09T17:35:09.823873Z"
    },
    "papermill": {
     "duration": 0.06705,
     "end_time": "2025-07-09T17:35:09.825515",
     "exception": false,
     "start_time": "2025-07-09T17:35:09.758465",
     "status": "completed"
    },
    "tags": []
   },
   "outputs": [
    {
     "name": "stdout",
     "output_type": "stream",
     "text": [
      "Unique labels: [ 0  1  2  3  4  5  6  7  8  9 10]\n",
      "NO_OF_CLASSES: 11\n"
     ]
    }
   ],
   "source": [
    "labels = np.argmax(train_gen.labels, axis=1)  # assuming one-hot encoded\n",
    "print(\"Unique labels:\", np.unique(labels))\n",
    "print(\"NO_OF_CLASSES:\", NO_OF_CLASSES)\n"
   ]
  },
  {
   "cell_type": "code",
   "execution_count": 56,
   "id": "2b5974a2",
   "metadata": {
    "execution": {
     "iopub.execute_input": "2025-07-09T17:35:09.946816Z",
     "iopub.status.busy": "2025-07-09T17:35:09.946558Z",
     "iopub.status.idle": "2025-07-09T17:35:09.951763Z",
     "shell.execute_reply": "2025-07-09T17:35:09.951140Z"
    },
    "papermill": {
     "duration": 0.066068,
     "end_time": "2025-07-09T17:35:09.952896",
     "exception": false,
     "start_time": "2025-07-09T17:35:09.886828",
     "status": "completed"
    },
    "tags": []
   },
   "outputs": [
    {
     "name": "stdout",
     "output_type": "stream",
     "text": [
      "Train label shape: (1120, 11)\n",
      "Val label shape: (36, 11)\n"
     ]
    }
   ],
   "source": [
    "print(\"Train label shape:\", np.shape(train_gen.labels))\n",
    "print(\"Val label shape:\", np.shape(val_gen.labels))\n"
   ]
  },
  {
   "cell_type": "code",
   "execution_count": 57,
   "id": "8ea1d89b",
   "metadata": {
    "execution": {
     "iopub.execute_input": "2025-07-09T17:35:10.075426Z",
     "iopub.status.busy": "2025-07-09T17:35:10.075187Z",
     "iopub.status.idle": "2025-07-09T17:52:41.407179Z",
     "shell.execute_reply": "2025-07-09T17:52:41.406370Z"
    },
    "papermill": {
     "duration": 1051.395424,
     "end_time": "2025-07-09T17:52:41.408959",
     "exception": false,
     "start_time": "2025-07-09T17:35:10.013535",
     "status": "completed"
    },
    "tags": []
   },
   "outputs": [
    {
     "name": "stdout",
     "output_type": "stream",
     "text": [
      "Dataset - Ucf50\n",
      "There are total 50 classes, selected 11 classes\n",
      "Setting 20 videos/class to train the model.\n",
      "Image size 128x128 with 15 sequence length\n",
      "Dropout rate: 0.5\n",
      "Train-Test split ratio 80/20\n",
      "Validation data from Train set 20.0%\n",
      "\n",
      "\n",
      "Training started for 1120 videos of 11 classes with 36 videos for validation...\n",
      "Epoch 1/30\n"
     ]
    },
    {
     "name": "stderr",
     "output_type": "stream",
     "text": [
      "I0000 00:00:1752082558.779126      86 cuda_dnn.cc:529] Loaded cuDNN version 90300\n"
     ]
    },
    {
     "name": "stdout",
     "output_type": "stream",
     "text": [
      "     70/Unknown \u001b[1m82s\u001b[0m 434ms/step - accuracy: 0.1469 - loss: 30.8123"
     ]
    },
    {
     "name": "stderr",
     "output_type": "stream",
     "text": [
      "/usr/local/lib/python3.11/dist-packages/keras/src/trainers/epoch_iterator.py:151: UserWarning: Your input ran out of data; interrupting training. Make sure that your dataset or generator can generate at least `steps_per_epoch * epochs` batches. You may need to use the `.repeat()` function when building your dataset.\n",
      "  self._interrupted_warning()\n"
     ]
    },
    {
     "name": "stdout",
     "output_type": "stream",
     "text": [
      "\u001b[1m70/70\u001b[0m \u001b[32m━━━━━━━━━━━━━━━━━━━━\u001b[0m\u001b[37m\u001b[0m \u001b[1m98s\u001b[0m 674ms/step - accuracy: 0.1473 - loss: 30.8026 - val_accuracy: 0.5833 - val_loss: 28.3786 - learning_rate: 1.0000e-04\n",
      "Epoch 2/30\n",
      "\u001b[1m70/70\u001b[0m \u001b[32m━━━━━━━━━━━━━━━━━━━━\u001b[0m\u001b[37m\u001b[0m \u001b[1m34s\u001b[0m 481ms/step - accuracy: 0.4045 - loss: 28.0262 - val_accuracy: 0.7500 - val_loss: 26.7149 - learning_rate: 1.0000e-04\n",
      "Epoch 3/30\n",
      "\u001b[1m70/70\u001b[0m \u001b[32m━━━━━━━━━━━━━━━━━━━━\u001b[0m\u001b[37m\u001b[0m \u001b[1m33s\u001b[0m 466ms/step - accuracy: 0.5662 - loss: 26.2689 - val_accuracy: 0.8056 - val_loss: 25.1523 - learning_rate: 1.0000e-04\n",
      "Epoch 4/30\n",
      "\u001b[1m70/70\u001b[0m \u001b[32m━━━━━━━━━━━━━━━━━━━━\u001b[0m\u001b[37m\u001b[0m \u001b[1m33s\u001b[0m 466ms/step - accuracy: 0.6779 - loss: 24.7490 - val_accuracy: 0.8611 - val_loss: 23.6936 - learning_rate: 1.0000e-04\n",
      "Epoch 5/30\n",
      "\u001b[1m70/70\u001b[0m \u001b[32m━━━━━━━━━━━━━━━━━━━━\u001b[0m\u001b[37m\u001b[0m \u001b[1m33s\u001b[0m 474ms/step - accuracy: 0.7475 - loss: 23.4033 - val_accuracy: 0.8611 - val_loss: 22.4139 - learning_rate: 1.0000e-04\n",
      "Epoch 6/30\n",
      "\u001b[1m70/70\u001b[0m \u001b[32m━━━━━━━━━━━━━━━━━━━━\u001b[0m\u001b[37m\u001b[0m \u001b[1m33s\u001b[0m 466ms/step - accuracy: 0.8040 - loss: 22.0352 - val_accuracy: 0.8056 - val_loss: 21.2678 - learning_rate: 1.0000e-04\n",
      "Epoch 7/30\n",
      "\u001b[1m70/70\u001b[0m \u001b[32m━━━━━━━━━━━━━━━━━━━━\u001b[0m\u001b[37m\u001b[0m \u001b[1m33s\u001b[0m 468ms/step - accuracy: 0.8716 - loss: 20.7564 - val_accuracy: 0.8056 - val_loss: 20.1760 - learning_rate: 1.0000e-04\n",
      "Epoch 8/30\n",
      "\u001b[1m70/70\u001b[0m \u001b[32m━━━━━━━━━━━━━━━━━━━━\u001b[0m\u001b[37m\u001b[0m \u001b[1m33s\u001b[0m 469ms/step - accuracy: 0.8697 - loss: 19.6798 - val_accuracy: 0.8333 - val_loss: 19.0859 - learning_rate: 1.0000e-04\n",
      "Epoch 9/30\n",
      "\u001b[1m70/70\u001b[0m \u001b[32m━━━━━━━━━━━━━━━━━━━━\u001b[0m\u001b[37m\u001b[0m \u001b[1m33s\u001b[0m 467ms/step - accuracy: 0.9233 - loss: 18.4946 - val_accuracy: 0.8333 - val_loss: 18.1935 - learning_rate: 1.0000e-04\n",
      "Epoch 10/30\n",
      "\u001b[1m70/70\u001b[0m \u001b[32m━━━━━━━━━━━━━━━━━━━━\u001b[0m\u001b[37m\u001b[0m \u001b[1m33s\u001b[0m 469ms/step - accuracy: 0.9435 - loss: 17.4647 - val_accuracy: 0.8611 - val_loss: 17.1729 - learning_rate: 1.0000e-04\n",
      "Epoch 11/30\n",
      "\u001b[1m70/70\u001b[0m \u001b[32m━━━━━━━━━━━━━━━━━━━━\u001b[0m\u001b[37m\u001b[0m \u001b[1m33s\u001b[0m 468ms/step - accuracy: 0.9466 - loss: 16.5229 - val_accuracy: 0.8056 - val_loss: 16.3439 - learning_rate: 1.0000e-04\n",
      "Epoch 12/30\n",
      "\u001b[1m70/70\u001b[0m \u001b[32m━━━━━━━━━━━━━━━━━━━━\u001b[0m\u001b[37m\u001b[0m \u001b[1m33s\u001b[0m 468ms/step - accuracy: 0.9455 - loss: 15.6140 - val_accuracy: 0.8333 - val_loss: 15.4452 - learning_rate: 1.0000e-04\n",
      "Epoch 13/30\n",
      "\u001b[1m70/70\u001b[0m \u001b[32m━━━━━━━━━━━━━━━━━━━━\u001b[0m\u001b[37m\u001b[0m \u001b[1m33s\u001b[0m 466ms/step - accuracy: 0.9634 - loss: 14.7452 - val_accuracy: 0.8611 - val_loss: 14.6605 - learning_rate: 1.0000e-04\n",
      "Epoch 14/30\n",
      "\u001b[1m70/70\u001b[0m \u001b[32m━━━━━━━━━━━━━━━━━━━━\u001b[0m\u001b[37m\u001b[0m \u001b[1m33s\u001b[0m 468ms/step - accuracy: 0.9658 - loss: 13.9496 - val_accuracy: 0.8333 - val_loss: 13.9121 - learning_rate: 1.0000e-04\n",
      "Epoch 15/30\n",
      "\u001b[1m70/70\u001b[0m \u001b[32m━━━━━━━━━━━━━━━━━━━━\u001b[0m\u001b[37m\u001b[0m \u001b[1m33s\u001b[0m 469ms/step - accuracy: 0.9814 - loss: 13.1842 - val_accuracy: 0.8611 - val_loss: 13.1896 - learning_rate: 1.0000e-04\n",
      "Epoch 16/30\n",
      "\u001b[1m70/70\u001b[0m \u001b[32m━━━━━━━━━━━━━━━━━━━━\u001b[0m\u001b[37m\u001b[0m \u001b[1m33s\u001b[0m 468ms/step - accuracy: 0.9759 - loss: 12.4908 - val_accuracy: 0.8056 - val_loss: 12.6954 - learning_rate: 1.0000e-04\n",
      "Epoch 17/30\n",
      "\u001b[1m70/70\u001b[0m \u001b[32m━━━━━━━━━━━━━━━━━━━━\u001b[0m\u001b[37m\u001b[0m \u001b[1m33s\u001b[0m 468ms/step - accuracy: 0.9869 - loss: 11.8185 - val_accuracy: 0.8611 - val_loss: 11.9791 - learning_rate: 1.0000e-04\n",
      "Epoch 18/30\n",
      "\u001b[1m70/70\u001b[0m \u001b[32m━━━━━━━━━━━━━━━━━━━━\u001b[0m\u001b[37m\u001b[0m \u001b[1m33s\u001b[0m 469ms/step - accuracy: 0.9840 - loss: 11.2294 - val_accuracy: 0.8333 - val_loss: 11.4545 - learning_rate: 1.0000e-04\n",
      "Epoch 19/30\n",
      "\u001b[1m70/70\u001b[0m \u001b[32m━━━━━━━━━━━━━━━━━━━━\u001b[0m\u001b[37m\u001b[0m \u001b[1m33s\u001b[0m 468ms/step - accuracy: 0.9865 - loss: 10.6442 - val_accuracy: 0.8333 - val_loss: 10.8496 - learning_rate: 1.0000e-04\n",
      "Epoch 20/30\n",
      "\u001b[1m70/70\u001b[0m \u001b[32m━━━━━━━━━━━━━━━━━━━━\u001b[0m\u001b[37m\u001b[0m \u001b[1m33s\u001b[0m 470ms/step - accuracy: 0.9898 - loss: 10.0907 - val_accuracy: 0.8333 - val_loss: 10.4789 - learning_rate: 1.0000e-04\n",
      "Epoch 21/30\n",
      "\u001b[1m70/70\u001b[0m \u001b[32m━━━━━━━━━━━━━━━━━━━━\u001b[0m\u001b[37m\u001b[0m \u001b[1m33s\u001b[0m 469ms/step - accuracy: 0.9889 - loss: 9.5817 - val_accuracy: 0.8056 - val_loss: 9.8106 - learning_rate: 1.0000e-04\n",
      "Epoch 22/30\n",
      "\u001b[1m70/70\u001b[0m \u001b[32m━━━━━━━━━━━━━━━━━━━━\u001b[0m\u001b[37m\u001b[0m \u001b[1m33s\u001b[0m 469ms/step - accuracy: 0.9923 - loss: 9.1040 - val_accuracy: 0.8056 - val_loss: 9.6961 - learning_rate: 1.0000e-04\n",
      "Epoch 23/30\n",
      "\u001b[1m70/70\u001b[0m \u001b[32m━━━━━━━━━━━━━━━━━━━━\u001b[0m\u001b[37m\u001b[0m \u001b[1m33s\u001b[0m 468ms/step - accuracy: 0.9944 - loss: 8.6480 - val_accuracy: 0.8333 - val_loss: 9.2631 - learning_rate: 1.0000e-04\n",
      "Epoch 24/30\n",
      "\u001b[1m70/70\u001b[0m \u001b[32m━━━━━━━━━━━━━━━━━━━━\u001b[0m\u001b[37m\u001b[0m \u001b[1m33s\u001b[0m 469ms/step - accuracy: 0.9987 - loss: 8.2083 - val_accuracy: 0.8889 - val_loss: 8.4933 - learning_rate: 1.0000e-04\n",
      "Epoch 25/30\n",
      "\u001b[1m70/70\u001b[0m \u001b[32m━━━━━━━━━━━━━━━━━━━━\u001b[0m\u001b[37m\u001b[0m \u001b[1m33s\u001b[0m 467ms/step - accuracy: 0.9903 - loss: 7.8243 - val_accuracy: 0.8056 - val_loss: 8.6239 - learning_rate: 1.0000e-04\n",
      "Epoch 26/30\n",
      "\u001b[1m70/70\u001b[0m \u001b[32m━━━━━━━━━━━━━━━━━━━━\u001b[0m\u001b[37m\u001b[0m \u001b[1m33s\u001b[0m 469ms/step - accuracy: 0.9955 - loss: 7.4272 - val_accuracy: 0.8611 - val_loss: 7.8145 - learning_rate: 1.0000e-04\n",
      "Epoch 27/30\n",
      "\u001b[1m70/70\u001b[0m \u001b[32m━━━━━━━━━━━━━━━━━━━━\u001b[0m\u001b[37m\u001b[0m \u001b[1m33s\u001b[0m 467ms/step - accuracy: 0.9964 - loss: 7.0571 - val_accuracy: 0.8056 - val_loss: 7.6037 - learning_rate: 1.0000e-04\n",
      "Epoch 28/30\n",
      "\u001b[1m70/70\u001b[0m \u001b[32m━━━━━━━━━━━━━━━━━━━━\u001b[0m\u001b[37m\u001b[0m \u001b[1m33s\u001b[0m 468ms/step - accuracy: 0.9947 - loss: 6.7119 - val_accuracy: 0.8056 - val_loss: 7.3878 - learning_rate: 1.0000e-04\n",
      "Epoch 29/30\n",
      "\u001b[1m70/70\u001b[0m \u001b[32m━━━━━━━━━━━━━━━━━━━━\u001b[0m\u001b[37m\u001b[0m \u001b[1m33s\u001b[0m 469ms/step - accuracy: 0.9979 - loss: 6.3717 - val_accuracy: 0.8333 - val_loss: 6.8424 - learning_rate: 1.0000e-04\n",
      "Epoch 30/30\n",
      "\u001b[1m70/70\u001b[0m \u001b[32m━━━━━━━━━━━━━━━━━━━━\u001b[0m\u001b[37m\u001b[0m \u001b[1m33s\u001b[0m 470ms/step - accuracy: 0.9991 - loss: 6.0471 - val_accuracy: 0.8056 - val_loss: 6.5909 - learning_rate: 1.0000e-04\n"
     ]
    }
   ],
   "source": [
    "from tensorflow.keras.callbacks import ReduceLROnPlateau\n",
    "\n",
    "lr_scheduler = ReduceLROnPlateau(monitor='val_loss', \n",
    "                                 factor=0.5, \n",
    "                                 patience=3, \n",
    "                                 min_lr=1e-6)\n",
    "\n",
    "\n",
    "\n",
    "print(f\"Dataset - {DATASET_NAME}\")\n",
    "print(f\"There are total {len(ALL_CLASS_NAMES)} classes, selected {NO_OF_CLASSES} classes\")\n",
    "print(f\"Setting {MAX_VIDEO_PER_CLASS} videos/class to train the model.\")\n",
    "print(f\"Image size {IMAGE_HEIGHT}x{IMAGE_WIDTH} with {SEQUENCE_LENGTH} sequence length\")\n",
    "print(f\"Dropout rate: {DROPOUT_RATE}\")\n",
    "print(f\"Train-Test split ratio {int((1-TEST_SIZE)*100)}/{int(TEST_SIZE*100)}\")\n",
    "print(f\"Validation data from Train set {VALIDATION_SPLIT*100}%\")\n",
    "\n",
    "print(\"\\n\")\n",
    "\n",
    "print(f\"Training started for {len(train_gen.videos)} videos of {NO_OF_CLASSES} classes with {len(val_gen.videos)} videos for validation...\")\n",
    "\n",
    "model_history = xlstm_model.fit(\n",
    "    train_gen.as_dataset(),\n",
    "    validation_data=val_gen.as_dataset(),\n",
    "    epochs=EPOCHS,\n",
    "    # class_weight=class_weight_dict,\n",
    "    callbacks=[early_stopping_callback, lr_scheduler]\n",
    ")"
   ]
  },
  {
   "cell_type": "markdown",
   "id": "32874a1d",
   "metadata": {
    "papermill": {
     "duration": 0.150553,
     "end_time": "2025-07-09T17:52:41.760203",
     "exception": false,
     "start_time": "2025-07-09T17:52:41.609650",
     "status": "completed"
    },
    "tags": []
   },
   "source": [
    "# Evaluation"
   ]
  },
  {
   "cell_type": "markdown",
   "id": "b8332ab3",
   "metadata": {
    "papermill": {
     "duration": 0.150978,
     "end_time": "2025-07-09T17:52:42.063523",
     "exception": false,
     "start_time": "2025-07-09T17:52:41.912545",
     "status": "completed"
    },
    "tags": []
   },
   "source": [
    "## ⚡ Model Evaluate"
   ]
  },
  {
   "cell_type": "code",
   "execution_count": 58,
   "id": "44282c50",
   "metadata": {
    "execution": {
     "iopub.execute_input": "2025-07-09T17:52:42.368184Z",
     "iopub.status.busy": "2025-07-09T17:52:42.367908Z",
     "iopub.status.idle": "2025-07-09T17:52:45.273849Z",
     "shell.execute_reply": "2025-07-09T17:52:45.273257Z"
    },
    "papermill": {
     "duration": 3.061087,
     "end_time": "2025-07-09T17:52:45.275230",
     "exception": false,
     "start_time": "2025-07-09T17:52:42.214143",
     "status": "completed"
    },
    "tags": []
   },
   "outputs": [
    {
     "name": "stdout",
     "output_type": "stream",
     "text": [
      "\u001b[1m2/2\u001b[0m \u001b[32m━━━━━━━━━━━━━━━━━━━━\u001b[0m\u001b[37m\u001b[0m \u001b[1m3s\u001b[0m 702ms/step - accuracy: 0.7803 - loss: 6.7849\n"
     ]
    }
   ],
   "source": [
    "# previous code\n",
    "model_evaluation_history = xlstm_model.evaluate(features_test, labels_test)"
   ]
  },
  {
   "cell_type": "markdown",
   "id": "b0615819",
   "metadata": {
    "papermill": {
     "duration": 0.197914,
     "end_time": "2025-07-09T17:52:45.625150",
     "exception": false,
     "start_time": "2025-07-09T17:52:45.427236",
     "status": "completed"
    },
    "tags": []
   },
   "source": [
    "## Fine Tuning "
   ]
  },
  {
   "cell_type": "code",
   "execution_count": 59,
   "id": "1215a203",
   "metadata": {
    "execution": {
     "iopub.execute_input": "2025-07-09T17:52:45.939648Z",
     "iopub.status.busy": "2025-07-09T17:52:45.939376Z",
     "iopub.status.idle": "2025-07-09T17:52:45.946693Z",
     "shell.execute_reply": "2025-07-09T17:52:45.946056Z"
    },
    "papermill": {
     "duration": 0.172393,
     "end_time": "2025-07-09T17:52:45.947877",
     "exception": false,
     "start_time": "2025-07-09T17:52:45.775484",
     "status": "completed"
    },
    "tags": []
   },
   "outputs": [
    {
     "name": "stdout",
     "output_type": "stream",
     "text": [
      "Unfroze last 10 layers of Xception for fine-tuning.\n"
     ]
    }
   ],
   "source": [
    "# Unfreeze last N layers of Xception for fine-tuning\n",
    "base_model = xlstm_model.get_layer(\"time_distributed_xception\").layer  # Extract the Xception model\n",
    "\n",
    "base_model.trainable = True\n",
    "for layer in base_model.layers[:-10]:  # Freeze all but last 10 layers\n",
    "    layer.trainable = False\n",
    "\n",
    "print(\"Unfroze last 10 layers of Xception for fine-tuning.\")\n"
   ]
  },
  {
   "cell_type": "code",
   "execution_count": 60,
   "id": "f3aa1ec1",
   "metadata": {
    "execution": {
     "iopub.execute_input": "2025-07-09T17:52:46.248639Z",
     "iopub.status.busy": "2025-07-09T17:52:46.248372Z",
     "iopub.status.idle": "2025-07-09T17:52:46.438357Z",
     "shell.execute_reply": "2025-07-09T17:52:46.437429Z"
    },
    "papermill": {
     "duration": 0.341329,
     "end_time": "2025-07-09T17:52:46.439884",
     "exception": false,
     "start_time": "2025-07-09T17:52:46.098555",
     "status": "completed"
    },
    "tags": []
   },
   "outputs": [],
   "source": [
    "from tensorflow.keras.optimizers import Adam\n",
    "\n",
    "xlstm_model.compile(\n",
    "    loss='categorical_crossentropy',\n",
    "    optimizer=Adam(learning_rate=1e-4),  # Lower LR for fine-tuning\n",
    "    metrics=['accuracy']\n",
    ")\n"
   ]
  },
  {
   "cell_type": "code",
   "execution_count": 61,
   "id": "1d2ec16e",
   "metadata": {
    "execution": {
     "iopub.execute_input": "2025-07-09T17:52:46.743965Z",
     "iopub.status.busy": "2025-07-09T17:52:46.743653Z",
     "iopub.status.idle": "2025-07-09T18:14:17.589745Z",
     "shell.execute_reply": "2025-07-09T18:14:17.589112Z"
    },
    "papermill": {
     "duration": 1290.999006,
     "end_time": "2025-07-09T18:14:17.591094",
     "exception": false,
     "start_time": "2025-07-09T17:52:46.592088",
     "status": "completed"
    },
    "tags": []
   },
   "outputs": [
    {
     "name": "stdout",
     "output_type": "stream",
     "text": [
      "\n",
      "Fine-tuning started for Xception+LSTM model...\n",
      "Epoch 1/30\n",
      "\u001b[1m70/70\u001b[0m \u001b[32m━━━━━━━━━━━━━━━━━━━━\u001b[0m\u001b[37m\u001b[0m \u001b[1m113s\u001b[0m 804ms/step - accuracy: 0.9442 - loss: 5.8408 - val_accuracy: 0.9167 - val_loss: 5.6995 - learning_rate: 1.0000e-04\n",
      "Epoch 2/30\n",
      "\u001b[1m70/70\u001b[0m \u001b[32m━━━━━━━━━━━━━━━━━━━━\u001b[0m\u001b[37m\u001b[0m \u001b[1m41s\u001b[0m 587ms/step - accuracy: 0.9927 - loss: 5.2827 - val_accuracy: 0.8056 - val_loss: 5.6972 - learning_rate: 1.0000e-04\n",
      "Epoch 3/30\n",
      "\u001b[1m70/70\u001b[0m \u001b[32m━━━━━━━━━━━━━━━━━━━━\u001b[0m\u001b[37m\u001b[0m \u001b[1m41s\u001b[0m 580ms/step - accuracy: 0.9898 - loss: 4.9020 - val_accuracy: 0.8333 - val_loss: 5.1506 - learning_rate: 1.0000e-04\n",
      "Epoch 4/30\n",
      "\u001b[1m70/70\u001b[0m \u001b[32m━━━━━━━━━━━━━━━━━━━━\u001b[0m\u001b[37m\u001b[0m \u001b[1m40s\u001b[0m 578ms/step - accuracy: 0.9952 - loss: 4.5200 - val_accuracy: 0.8889 - val_loss: 4.5702 - learning_rate: 1.0000e-04\n",
      "Epoch 5/30\n",
      "\u001b[1m70/70\u001b[0m \u001b[32m━━━━━━━━━━━━━━━━━━━━\u001b[0m\u001b[37m\u001b[0m \u001b[1m41s\u001b[0m 581ms/step - accuracy: 0.9993 - loss: 4.1408 - val_accuracy: 0.8333 - val_loss: 4.4185 - learning_rate: 1.0000e-04\n",
      "Epoch 6/30\n",
      "\u001b[1m70/70\u001b[0m \u001b[32m━━━━━━━━━━━━━━━━━━━━\u001b[0m\u001b[37m\u001b[0m \u001b[1m41s\u001b[0m 578ms/step - accuracy: 0.9975 - loss: 3.7886 - val_accuracy: 0.9167 - val_loss: 3.9363 - learning_rate: 1.0000e-04\n",
      "Epoch 7/30\n",
      "\u001b[1m70/70\u001b[0m \u001b[32m━━━━━━━━━━━━━━━━━━━━\u001b[0m\u001b[37m\u001b[0m \u001b[1m41s\u001b[0m 582ms/step - accuracy: 0.9975 - loss: 3.4439 - val_accuracy: 0.8889 - val_loss: 3.6533 - learning_rate: 1.0000e-04\n",
      "Epoch 8/30\n",
      "\u001b[1m70/70\u001b[0m \u001b[32m━━━━━━━━━━━━━━━━━━━━\u001b[0m\u001b[37m\u001b[0m \u001b[1m40s\u001b[0m 577ms/step - accuracy: 0.9972 - loss: 3.1180 - val_accuracy: 0.9167 - val_loss: 3.3122 - learning_rate: 1.0000e-04\n",
      "Epoch 9/30\n",
      "\u001b[1m70/70\u001b[0m \u001b[32m━━━━━━━━━━━━━━━━━━━━\u001b[0m\u001b[37m\u001b[0m \u001b[1m41s\u001b[0m 580ms/step - accuracy: 1.0000 - loss: 2.8128 - val_accuracy: 0.9167 - val_loss: 2.9911 - learning_rate: 1.0000e-04\n",
      "Epoch 10/30\n",
      "\u001b[1m70/70\u001b[0m \u001b[32m━━━━━━━━━━━━━━━━━━━━\u001b[0m\u001b[37m\u001b[0m \u001b[1m41s\u001b[0m 582ms/step - accuracy: 1.0000 - loss: 2.5190 - val_accuracy: 0.8889 - val_loss: 2.7067 - learning_rate: 1.0000e-04\n",
      "Epoch 11/30\n",
      "\u001b[1m70/70\u001b[0m \u001b[32m━━━━━━━━━━━━━━━━━━━━\u001b[0m\u001b[37m\u001b[0m \u001b[1m41s\u001b[0m 579ms/step - accuracy: 0.9997 - loss: 2.2500 - val_accuracy: 0.8333 - val_loss: 2.5314 - learning_rate: 1.0000e-04\n",
      "Epoch 12/30\n",
      "\u001b[1m70/70\u001b[0m \u001b[32m━━━━━━━━━━━━━━━━━━━━\u001b[0m\u001b[37m\u001b[0m \u001b[1m41s\u001b[0m 580ms/step - accuracy: 1.0000 - loss: 2.0067 - val_accuracy: 0.8611 - val_loss: 2.2251 - learning_rate: 1.0000e-04\n",
      "Epoch 13/30\n",
      "\u001b[1m70/70\u001b[0m \u001b[32m━━━━━━━━━━━━━━━━━━━━\u001b[0m\u001b[37m\u001b[0m \u001b[1m41s\u001b[0m 580ms/step - accuracy: 0.9989 - loss: 1.7809 - val_accuracy: 0.9167 - val_loss: 1.9984 - learning_rate: 1.0000e-04\n",
      "Epoch 14/30\n",
      "\u001b[1m70/70\u001b[0m \u001b[32m━━━━━━━━━━━━━━━━━━━━\u001b[0m\u001b[37m\u001b[0m \u001b[1m41s\u001b[0m 580ms/step - accuracy: 1.0000 - loss: 1.5754 - val_accuracy: 0.8611 - val_loss: 1.8109 - learning_rate: 1.0000e-04\n",
      "Epoch 15/30\n",
      "\u001b[1m70/70\u001b[0m \u001b[32m━━━━━━━━━━━━━━━━━━━━\u001b[0m\u001b[37m\u001b[0m \u001b[1m41s\u001b[0m 582ms/step - accuracy: 1.0000 - loss: 1.3929 - val_accuracy: 0.9167 - val_loss: 1.6537 - learning_rate: 1.0000e-04\n",
      "Epoch 16/30\n",
      "\u001b[1m70/70\u001b[0m \u001b[32m━━━━━━━━━━━━━━━━━━━━\u001b[0m\u001b[37m\u001b[0m \u001b[1m41s\u001b[0m 580ms/step - accuracy: 1.0000 - loss: 1.2256 - val_accuracy: 0.8611 - val_loss: 1.5829 - learning_rate: 1.0000e-04\n",
      "Epoch 17/30\n",
      "\u001b[1m70/70\u001b[0m \u001b[32m━━━━━━━━━━━━━━━━━━━━\u001b[0m\u001b[37m\u001b[0m \u001b[1m41s\u001b[0m 579ms/step - accuracy: 1.0000 - loss: 1.0738 - val_accuracy: 0.9167 - val_loss: 1.3237 - learning_rate: 1.0000e-04\n",
      "Epoch 18/30\n",
      "\u001b[1m70/70\u001b[0m \u001b[32m━━━━━━━━━━━━━━━━━━━━\u001b[0m\u001b[37m\u001b[0m \u001b[1m41s\u001b[0m 580ms/step - accuracy: 1.0000 - loss: 0.9419 - val_accuracy: 0.8889 - val_loss: 1.2769 - learning_rate: 1.0000e-04\n",
      "Epoch 19/30\n",
      "\u001b[1m70/70\u001b[0m \u001b[32m━━━━━━━━━━━━━━━━━━━━\u001b[0m\u001b[37m\u001b[0m \u001b[1m41s\u001b[0m 580ms/step - accuracy: 1.0000 - loss: 0.8274 - val_accuracy: 0.8889 - val_loss: 1.1586 - learning_rate: 1.0000e-04\n",
      "Epoch 20/30\n",
      "\u001b[1m70/70\u001b[0m \u001b[32m━━━━━━━━━━━━━━━━━━━━\u001b[0m\u001b[37m\u001b[0m \u001b[1m41s\u001b[0m 583ms/step - accuracy: 1.0000 - loss: 0.7245 - val_accuracy: 0.9167 - val_loss: 0.9915 - learning_rate: 1.0000e-04\n",
      "Epoch 21/30\n",
      "\u001b[1m70/70\u001b[0m \u001b[32m━━━━━━━━━━━━━━━━━━━━\u001b[0m\u001b[37m\u001b[0m \u001b[1m41s\u001b[0m 579ms/step - accuracy: 1.0000 - loss: 0.6391 - val_accuracy: 0.8889 - val_loss: 1.1007 - learning_rate: 1.0000e-04\n",
      "Epoch 22/30\n",
      "\u001b[1m70/70\u001b[0m \u001b[32m━━━━━━━━━━━━━━━━━━━━\u001b[0m\u001b[37m\u001b[0m \u001b[1m41s\u001b[0m 579ms/step - accuracy: 1.0000 - loss: 0.5655 - val_accuracy: 0.8611 - val_loss: 0.9486 - learning_rate: 1.0000e-04\n",
      "Epoch 23/30\n",
      "\u001b[1m70/70\u001b[0m \u001b[32m━━━━━━━━━━━━━━━━━━━━\u001b[0m\u001b[37m\u001b[0m \u001b[1m40s\u001b[0m 577ms/step - accuracy: 0.9930 - loss: 0.5429 - val_accuracy: 0.7778 - val_loss: 1.6135 - learning_rate: 1.0000e-04\n",
      "Epoch 24/30\n",
      "\u001b[1m70/70\u001b[0m \u001b[32m━━━━━━━━━━━━━━━━━━━━\u001b[0m\u001b[37m\u001b[0m \u001b[1m41s\u001b[0m 578ms/step - accuracy: 0.9928 - loss: 0.5157 - val_accuracy: 0.8611 - val_loss: 0.9661 - learning_rate: 1.0000e-04\n",
      "Epoch 25/30\n",
      "\u001b[1m70/70\u001b[0m \u001b[32m━━━━━━━━━━━━━━━━━━━━\u001b[0m\u001b[37m\u001b[0m \u001b[1m41s\u001b[0m 578ms/step - accuracy: 0.9985 - loss: 0.4737 - val_accuracy: 0.7778 - val_loss: 1.4134 - learning_rate: 1.0000e-04\n",
      "Epoch 26/30\n",
      "\u001b[1m70/70\u001b[0m \u001b[32m━━━━━━━━━━━━━━━━━━━━\u001b[0m\u001b[37m\u001b[0m \u001b[1m40s\u001b[0m 577ms/step - accuracy: 0.9994 - loss: 0.4097 - val_accuracy: 0.7778 - val_loss: 1.4478 - learning_rate: 5.0000e-05\n",
      "Epoch 27/30\n",
      "\u001b[1m70/70\u001b[0m \u001b[32m━━━━━━━━━━━━━━━━━━━━\u001b[0m\u001b[37m\u001b[0m \u001b[1m41s\u001b[0m 579ms/step - accuracy: 1.0000 - loss: 0.3841 - val_accuracy: 0.8333 - val_loss: 1.0378 - learning_rate: 5.0000e-05\n",
      "Epoch 28/30\n",
      "\u001b[1m70/70\u001b[0m \u001b[32m━━━━━━━━━━━━━━━━━━━━\u001b[0m\u001b[37m\u001b[0m \u001b[1m41s\u001b[0m 579ms/step - accuracy: 1.0000 - loss: 0.3618 - val_accuracy: 0.7778 - val_loss: 0.9625 - learning_rate: 5.0000e-05\n",
      "Epoch 29/30\n",
      "\u001b[1m70/70\u001b[0m \u001b[32m━━━━━━━━━━━━━━━━━━━━\u001b[0m\u001b[37m\u001b[0m \u001b[1m40s\u001b[0m 578ms/step - accuracy: 1.0000 - loss: 0.3409 - val_accuracy: 0.8333 - val_loss: 0.9187 - learning_rate: 2.5000e-05\n",
      "Epoch 30/30\n",
      "\u001b[1m70/70\u001b[0m \u001b[32m━━━━━━━━━━━━━━━━━━━━\u001b[0m\u001b[37m\u001b[0m \u001b[1m40s\u001b[0m 578ms/step - accuracy: 1.0000 - loss: 0.3318 - val_accuracy: 0.8056 - val_loss: 0.9065 - learning_rate: 2.5000e-05\n"
     ]
    }
   ],
   "source": [
    "print(\"\\nFine-tuning started for Xception+LSTM model...\")\n",
    "\n",
    "xception_finetune_history = xlstm_model.fit(\n",
    "    train_gen.as_dataset(),\n",
    "    validation_data=val_gen.as_dataset(),\n",
    "    epochs=EPOCHS,  # You can reduce this (e.g., 10–20)\n",
    "    callbacks=[early_stopping_callback, lr_scheduler]\n",
    ")\n"
   ]
  },
  {
   "cell_type": "code",
   "execution_count": 62,
   "id": "16247f64",
   "metadata": {
    "execution": {
     "iopub.execute_input": "2025-07-09T18:14:18.127620Z",
     "iopub.status.busy": "2025-07-09T18:14:18.126960Z",
     "iopub.status.idle": "2025-07-09T18:14:19.841682Z",
     "shell.execute_reply": "2025-07-09T18:14:19.841097Z"
    },
    "papermill": {
     "duration": 2.00865,
     "end_time": "2025-07-09T18:14:19.842801",
     "exception": false,
     "start_time": "2025-07-09T18:14:17.834151",
     "status": "completed"
    },
    "tags": []
   },
   "outputs": [
    {
     "name": "stdout",
     "output_type": "stream",
     "text": [
      "\u001b[1m2/2\u001b[0m \u001b[32m━━━━━━━━━━━━━━━━━━━━\u001b[0m\u001b[37m\u001b[0m \u001b[1m1s\u001b[0m 369ms/step - accuracy: 0.8314 - loss: 0.9273\n"
     ]
    }
   ],
   "source": [
    "# previous code\n",
    "model_evaluation_history = xlstm_model.evaluate(features_test, labels_test)"
   ]
  },
  {
   "cell_type": "code",
   "execution_count": 63,
   "id": "e1a21d77",
   "metadata": {
    "execution": {
     "iopub.execute_input": "2025-07-09T18:14:20.329844Z",
     "iopub.status.busy": "2025-07-09T18:14:20.329271Z",
     "iopub.status.idle": "2025-07-09T18:14:20.333398Z",
     "shell.execute_reply": "2025-07-09T18:14:20.332696Z"
    },
    "papermill": {
     "duration": 0.245381,
     "end_time": "2025-07-09T18:14:20.334510",
     "exception": false,
     "start_time": "2025-07-09T18:14:20.089129",
     "status": "completed"
    },
    "tags": []
   },
   "outputs": [],
   "source": [
    "# Combine metrics\n",
    "history_accuracy = model_history.history['accuracy'] + xception_finetune_history.history['accuracy']\n",
    "history_val_accuracy = model_history.history['val_accuracy'] + xception_finetune_history.history['val_accuracy']\n",
    "history_loss = model_history.history['loss'] + xception_finetune_history.history['loss']\n",
    "history_val_loss = model_history.history['val_loss'] + xception_finetune_history.history['val_loss']"
   ]
  },
  {
   "cell_type": "code",
   "execution_count": 64,
   "id": "5a884e92",
   "metadata": {
    "execution": {
     "iopub.execute_input": "2025-07-09T18:14:20.866500Z",
     "iopub.status.busy": "2025-07-09T18:14:20.865940Z",
     "iopub.status.idle": "2025-07-09T18:14:21.231158Z",
     "shell.execute_reply": "2025-07-09T18:14:21.230379Z"
    },
    "papermill": {
     "duration": 0.657249,
     "end_time": "2025-07-09T18:14:21.233153",
     "exception": false,
     "start_time": "2025-07-09T18:14:20.575904",
     "status": "completed"
    },
    "tags": []
   },
   "outputs": [
    {
     "data": {
      "image/png": "[encoded data removed]",
      "text/plain": [
       "<Figure size 1200x500 with 2 Axes>"
      ]
     },
     "metadata": {},
     "output_type": "display_data"
    }
   ],
   "source": [
    "import matplotlib.pyplot as plt\n",
    "\n",
    "# Calculate where fine-tuning started (after initial training)\n",
    "fine_tune_start_epoch = len(model_history.history['accuracy'])\n",
    "\n",
    "plt.figure(figsize=(12, 5))\n",
    "\n",
    "# Accuracy Plot\n",
    "plt.subplot(1, 2, 1)\n",
    "plt.plot(history_accuracy, label='Train Accuracy')\n",
    "plt.plot(history_val_accuracy, label='Validation Accuracy')\n",
    "plt.axvline(x=fine_tune_start_epoch, color='r', linestyle='--', label='Start Fine-Tuning')\n",
    "plt.title('Xception+LSTM Accuracy')\n",
    "plt.xlabel('Epoch')\n",
    "plt.ylabel('Accuracy')\n",
    "plt.legend()\n",
    "\n",
    "# Loss Plot\n",
    "plt.subplot(1, 2, 2)\n",
    "plt.plot(history_loss, label='Train Loss')\n",
    "plt.plot(history_val_loss, label='Validation Loss')\n",
    "plt.axvline(x=fine_tune_start_epoch, color='r', linestyle='--', label='Start Fine-Tuning')\n",
    "plt.title('Xception+LSTM Loss')\n",
    "plt.xlabel('Epoch')\n",
    "plt.ylabel('Loss')\n",
    "plt.legend()\n",
    "\n",
    "plt.tight_layout()\n",
    "plt.show()"
   ]
  },
  {
   "cell_type": "code",
   "execution_count": 65,
   "id": "141544b5",
   "metadata": {
    "execution": {
     "iopub.execute_input": "2025-07-09T18:14:21.740633Z",
     "iopub.status.busy": "2025-07-09T18:14:21.740360Z",
     "iopub.status.idle": "2025-07-09T18:14:22.082788Z",
     "shell.execute_reply": "2025-07-09T18:14:22.081970Z"
    },
    "papermill": {
     "duration": 0.587464,
     "end_time": "2025-07-09T18:14:22.083997",
     "exception": false,
     "start_time": "2025-07-09T18:14:21.496533",
     "status": "completed"
    },
    "tags": []
   },
   "outputs": [
    {
     "data": {
      "image/png": "[encoded data removed]",
      "text/plain": [
       "<Figure size 1200x500 with 2 Axes>"
      ]
     },
     "metadata": {},
     "output_type": "display_data"
    }
   ],
   "source": [
    "import matplotlib.pyplot as plt\n",
    "\n",
    "# Accuracy\n",
    "plt.figure(figsize=(12, 5))\n",
    "\n",
    "plt.subplot(1, 2, 1)\n",
    "plt.plot(model_history.history['accuracy'], label='Train Accuracy')\n",
    "plt.plot(model_history.history['val_accuracy'], label='Validation Accuracy')\n",
    "plt.title('Model Accuracy')\n",
    "plt.xlabel('Epoch')\n",
    "plt.ylabel('Accuracy')\n",
    "plt.legend()\n",
    "\n",
    "# Loss\n",
    "plt.subplot(1, 2, 2)\n",
    "plt.plot(model_history.history['loss'], label='Train Loss')\n",
    "plt.plot(model_history.history['val_loss'], label='Validation Loss')\n",
    "plt.title('Model Loss')\n",
    "plt.xlabel('Epoch')\n",
    "plt.ylabel('Loss')\n",
    "plt.legend()\n",
    "\n",
    "plt.tight_layout()\n",
    "plt.show()\n"
   ]
  },
  {
   "cell_type": "markdown",
   "id": "7ba73f38",
   "metadata": {
    "papermill": {
     "duration": 0.242667,
     "end_time": "2025-07-09T18:14:22.571645",
     "exception": false,
     "start_time": "2025-07-09T18:14:22.328978",
     "status": "completed"
    },
    "tags": []
   },
   "source": [
    "## 📈 Confusion Matrix"
   ]
  },
  {
   "cell_type": "code",
   "execution_count": 66,
   "id": "b616ed2a",
   "metadata": {
    "execution": {
     "iopub.execute_input": "2025-07-09T18:14:23.121982Z",
     "iopub.status.busy": "2025-07-09T18:14:23.121666Z",
     "iopub.status.idle": "2025-07-09T18:14:39.562990Z",
     "shell.execute_reply": "2025-07-09T18:14:39.562320Z"
    },
    "papermill": {
     "duration": 16.694802,
     "end_time": "2025-07-09T18:14:39.564440",
     "exception": false,
     "start_time": "2025-07-09T18:14:22.869638",
     "status": "completed"
    },
    "tags": []
   },
   "outputs": [
    {
     "name": "stdout",
     "output_type": "stream",
     "text": [
      "Total 44 videos and 44 classes\n",
      "\u001b[1m11/11\u001b[0m \u001b[32m━━━━━━━━━━━━━━━━━━━━\u001b[0m\u001b[37m\u001b[0m \u001b[1m16s\u001b[0m 155ms/step\n",
      "True classes shape: (44,)\n",
      "Predicted classes shape: (44,)\n",
      "Classification Report:\n",
      "                   precision    recall  f1-score   support\n",
      "\n",
      "       Basketball       1.00      0.67      0.80         3\n",
      "           Biking       1.00      0.50      0.67         2\n",
      "           Diving       1.00      1.00      1.00         6\n",
      "        GolfSwing       0.83      1.00      0.91         5\n",
      "      HorseRiding       0.83      1.00      0.91         5\n",
      "           Skiing       0.67      1.00      0.80         2\n",
      "    SkateBoarding       0.83      0.71      0.77         7\n",
      "            Swing       1.00      1.00      1.00         3\n",
      "      TennisSwing       0.57      1.00      0.73         4\n",
      "TrampolineJumping       1.00      0.33      0.50         3\n",
      "   WalkingWithDog       1.00      0.75      0.86         4\n",
      "\n",
      "         accuracy                           0.84        44\n",
      "        macro avg       0.89      0.81      0.81        44\n",
      "     weighted avg       0.88      0.84      0.83        44\n",
      "\n"
     ]
    },
    {
     "name": "stderr",
     "output_type": "stream",
     "text": [
      "/usr/local/lib/python3.11/dist-packages/keras/src/trainers/epoch_iterator.py:151: UserWarning: Your input ran out of data; interrupting training. Make sure that your dataset or generator can generate at least `steps_per_epoch * epochs` batches. You may need to use the `.repeat()` function when building your dataset.\n",
      "  self._interrupted_warning()\n"
     ]
    },
    {
     "data": {
      "image/png": "[encoded data removed]",
      "text/plain": [
       "<Figure size 800x600 with 2 Axes>"
      ]
     },
     "metadata": {},
     "output_type": "display_data"
    }
   ],
   "source": [
    "from sklearn.metrics import classification_report, confusion_matrix\n",
    "import seaborn as sns\n",
    "import matplotlib.pyplot as plt\n",
    "\n",
    "# Create test generator with batch_size matching test set size\n",
    "test_gen = VideoDataGenerator(\n",
    "    videos=features_test,\n",
    "    labels=labels_test,\n",
    "    batch_size=4,  # Process all test samples at once\n",
    ")\n",
    "\n",
    "# Get predictions\n",
    "predictions = xlstm_model.predict(test_gen.as_dataset())\n",
    "predicted_classes = np.argmax(predictions, axis=1)\n",
    "true_classes = np.argmax(labels_test, axis=1)\n",
    "\n",
    "# Verify shapes\n",
    "print(f\"True classes shape: {true_classes.shape}\")\n",
    "print(f\"Predicted classes shape: {predicted_classes.shape}\")\n",
    "assert len(true_classes) == len(predicted_classes), \"Sample counts do not match!\"\n",
    "\n",
    "# Generate classification report\n",
    "print(\"Classification Report:\")\n",
    "print(classification_report(true_classes, predicted_classes, target_names=CLASSES_LIST))\n",
    "\n",
    "# Plot confusion matrix\n",
    "cm = confusion_matrix(true_classes, predicted_classes)\n",
    "plt.figure(figsize=(8, 6))\n",
    "sns.heatmap(cm, annot=True, fmt='d', cmap='Blues', xticklabels=CLASSES_LIST, yticklabels=CLASSES_LIST[-1])\n",
    "plt.xlabel('Predicted')\n",
    "plt.ylabel('True')\n",
    "plt.title('Confusion Matrix')\n",
    "plt.show()"
   ]
  }
 ],
 "metadata": {
  "kaggle": {
   "accelerator": "nvidiaTeslaT4",
   "dataSources": [
    {
     "datasetId": 1357563,
     "sourceId": 2256095,
     "sourceType": "datasetVersion"
    },
    {
     "datasetId": 7763484,
     "sourceId": 12338519,
     "sourceType": "datasetVersion"
    },
    {
     "datasetId": 7801555,
     "sourceId": 12373067,
     "sourceType": "datasetVersion"
    },
    {
     "datasetId": 7801884,
     "sourceId": 12373562,
     "sourceType": "datasetVersion"
    }
   ],
   "dockerImageVersionId": 31041,
   "isGpuEnabled": true,
   "isInternetEnabled": true,
   "language": "python",
   "sourceType": "notebook"
  },
  "kernelspec": {
   "display_name": "Python 3",
   "language": "python",
   "name": "python3"
  },
  "language_info": {
   "codemirror_mode": {
    "name": "ipython",
    "version": 3
   },
   "file_extension": ".py",
   "mimetype": "text/x-python",
   "name": "python",
   "nbconvert_exporter": "python",
   "pygments_lexer": "ipython3",
   "version": "3.11.11"
  },
  "papermill": {
   "default_parameters": {},
   "duration": 2480.624555,
   "end_time": "2025-07-09T18:14:43.325659",
   "environment_variables": {},
   "exception": null,
   "input_path": "__notebook__.ipynb",
   "output_path": "__notebook__.ipynb",
   "parameters": {},
   "start_time": "2025-07-09T17:33:22.701104",
   "version": "2.6.0"
  }
 },
 "nbformat": 4,
 "nbformat_minor": 5
}
