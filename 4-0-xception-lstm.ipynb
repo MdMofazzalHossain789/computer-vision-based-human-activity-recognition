{
 "cells": [
  {
   "cell_type": "markdown",
   "id": "9f20e1fe",
   "metadata": {
    "papermill": {
     "duration": 0.01318,
     "end_time": "2025-07-07T08:43:39.231260",
     "exception": false,
     "start_time": "2025-07-07T08:43:39.218080",
     "status": "completed"
    },
    "tags": []
   },
   "source": [
    "# Initialization\n",
    "## Import Libraries"
   ]
  },
  {
   "cell_type": "code",
   "execution_count": 1,
   "id": "650243f9",
   "metadata": {
    "execution": {
     "iopub.execute_input": "2025-07-07T08:43:39.255710Z",
     "iopub.status.busy": "2025-07-07T08:43:39.255436Z",
     "iopub.status.idle": "2025-07-07T08:43:59.718263Z",
     "shell.execute_reply": "2025-07-07T08:43:59.717408Z"
    },
    "papermill": {
     "duration": 20.476569,
     "end_time": "2025-07-07T08:43:59.719467",
     "exception": false,
     "start_time": "2025-07-07T08:43:39.242898",
     "status": "completed"
    },
    "tags": []
   },
   "outputs": [
    {
     "name": "stdout",
     "output_type": "stream",
     "text": [
      "Collecting mediapipe\r\n",
      "  Downloading mediapipe-0.10.21-cp311-cp311-manylinux_2_28_x86_64.whl.metadata (9.7 kB)\r\n",
      "Requirement already satisfied: absl-py in /usr/local/lib/python3.11/dist-packages (from mediapipe) (1.4.0)\r\n",
      "Requirement already satisfied: attrs>=19.1.0 in /usr/local/lib/python3.11/dist-packages (from mediapipe) (25.3.0)\r\n",
      "Requirement already satisfied: flatbuffers>=2.0 in /usr/local/lib/python3.11/dist-packages (from mediapipe) (25.2.10)\r\n",
      "Requirement already satisfied: jax in /usr/local/lib/python3.11/dist-packages (from mediapipe) (0.5.2)\r\n",
      "Requirement already satisfied: jaxlib in /usr/local/lib/python3.11/dist-packages (from mediapipe) (0.5.1)\r\n",
      "Requirement already satisfied: matplotlib in /usr/local/lib/python3.11/dist-packages (from mediapipe) (3.7.2)\r\n",
      "Requirement already satisfied: numpy<2 in /usr/local/lib/python3.11/dist-packages (from mediapipe) (1.26.4)\r\n",
      "Requirement already satisfied: opencv-contrib-python in /usr/local/lib/python3.11/dist-packages (from mediapipe) (4.11.0.86)\r\n",
      "Collecting protobuf<5,>=4.25.3 (from mediapipe)\r\n",
      "  Downloading protobuf-4.25.8-cp37-abi3-manylinux2014_x86_64.whl.metadata (541 bytes)\r\n",
      "Collecting sounddevice>=0.4.4 (from mediapipe)\r\n",
      "  Downloading sounddevice-0.5.2-py3-none-any.whl.metadata (1.6 kB)\r\n",
      "Requirement already satisfied: sentencepiece in /usr/local/lib/python3.11/dist-packages (from mediapipe) (0.2.0)\r\n",
      "Requirement already satisfied: mkl_fft in /usr/local/lib/python3.11/dist-packages (from numpy<2->mediapipe) (1.3.8)\r\n",
      "Requirement already satisfied: mkl_random in /usr/local/lib/python3.11/dist-packages (from numpy<2->mediapipe) (1.2.4)\r\n",
      "Requirement already satisfied: mkl_umath in /usr/local/lib/python3.11/dist-packages (from numpy<2->mediapipe) (0.1.1)\r\n",
      "Requirement already satisfied: mkl in /usr/local/lib/python3.11/dist-packages (from numpy<2->mediapipe) (2025.1.0)\r\n",
      "Requirement already satisfied: tbb4py in /usr/local/lib/python3.11/dist-packages (from numpy<2->mediapipe) (2022.1.0)\r\n",
      "Requirement already satisfied: mkl-service in /usr/local/lib/python3.11/dist-packages (from numpy<2->mediapipe) (2.4.1)\r\n",
      "Requirement already satisfied: CFFI>=1.0 in /usr/local/lib/python3.11/dist-packages (from sounddevice>=0.4.4->mediapipe) (1.17.1)\r\n",
      "Requirement already satisfied: ml_dtypes>=0.4.0 in /usr/local/lib/python3.11/dist-packages (from jax->mediapipe) (0.4.1)\r\n",
      "Requirement already satisfied: opt_einsum in /usr/local/lib/python3.11/dist-packages (from jax->mediapipe) (3.4.0)\r\n",
      "Requirement already satisfied: scipy>=1.11.1 in /usr/local/lib/python3.11/dist-packages (from jax->mediapipe) (1.15.2)\r\n",
      "Requirement already satisfied: contourpy>=1.0.1 in /usr/local/lib/python3.11/dist-packages (from matplotlib->mediapipe) (1.3.1)\r\n",
      "Requirement already satisfied: cycler>=0.10 in /usr/local/lib/python3.11/dist-packages (from matplotlib->mediapipe) (0.12.1)\r\n",
      "Requirement already satisfied: fonttools>=4.22.0 in /usr/local/lib/python3.11/dist-packages (from matplotlib->mediapipe) (4.57.0)\r\n",
      "Requirement already satisfied: kiwisolver>=1.0.1 in /usr/local/lib/python3.11/dist-packages (from matplotlib->mediapipe) (1.4.8)\r\n",
      "Requirement already satisfied: packaging>=20.0 in /usr/local/lib/python3.11/dist-packages (from matplotlib->mediapipe) (25.0)\r\n",
      "Requirement already satisfied: pillow>=6.2.0 in /usr/local/lib/python3.11/dist-packages (from matplotlib->mediapipe) (11.1.0)\r\n",
      "Requirement already satisfied: pyparsing<3.1,>=2.3.1 in /usr/local/lib/python3.11/dist-packages (from matplotlib->mediapipe) (3.0.9)\r\n",
      "Requirement already satisfied: python-dateutil>=2.7 in /usr/local/lib/python3.11/dist-packages (from matplotlib->mediapipe) (2.9.0.post0)\r\n",
      "Requirement already satisfied: pycparser in /usr/local/lib/python3.11/dist-packages (from CFFI>=1.0->sounddevice>=0.4.4->mediapipe) (2.22)\r\n",
      "Requirement already satisfied: six>=1.5 in /usr/local/lib/python3.11/dist-packages (from python-dateutil>=2.7->matplotlib->mediapipe) (1.17.0)\r\n",
      "Requirement already satisfied: intel-openmp<2026,>=2024 in /usr/local/lib/python3.11/dist-packages (from mkl->numpy<2->mediapipe) (2024.2.0)\r\n",
      "Requirement already satisfied: tbb==2022.* in /usr/local/lib/python3.11/dist-packages (from mkl->numpy<2->mediapipe) (2022.1.0)\r\n",
      "Requirement already satisfied: tcmlib==1.* in /usr/local/lib/python3.11/dist-packages (from tbb==2022.*->mkl->numpy<2->mediapipe) (1.3.0)\r\n",
      "Requirement already satisfied: intel-cmplr-lib-rt in /usr/local/lib/python3.11/dist-packages (from mkl_umath->numpy<2->mediapipe) (2024.2.0)\r\n",
      "Requirement already satisfied: intel-cmplr-lib-ur==2024.2.0 in /usr/local/lib/python3.11/dist-packages (from intel-openmp<2026,>=2024->mkl->numpy<2->mediapipe) (2024.2.0)\r\n",
      "Downloading mediapipe-0.10.21-cp311-cp311-manylinux_2_28_x86_64.whl (35.6 MB)\r\n",
      "\u001b[2K   \u001b[90m━━━━━━━━━━━━━━━━━━━━━━━━━━━━━━━━━━━━━━━━\u001b[0m \u001b[32m35.6/35.6 MB\u001b[0m \u001b[31m46.7 MB/s\u001b[0m eta \u001b[36m0:00:00\u001b[0m\r\n",
      "\u001b[?25hDownloading protobuf-4.25.8-cp37-abi3-manylinux2014_x86_64.whl (294 kB)\r\n",
      "\u001b[2K   \u001b[90m━━━━━━━━━━━━━━━━━━━━━━━━━━━━━━━━━━━━━━━━\u001b[0m \u001b[32m294.9/294.9 kB\u001b[0m \u001b[31m12.9 MB/s\u001b[0m eta \u001b[36m0:00:00\u001b[0m\r\n",
      "\u001b[?25hDownloading sounddevice-0.5.2-py3-none-any.whl (32 kB)\r\n",
      "Installing collected packages: protobuf, sounddevice, mediapipe\r\n",
      "  Attempting uninstall: protobuf\r\n",
      "    Found existing installation: protobuf 3.20.3\r\n",
      "    Uninstalling protobuf-3.20.3:\r\n",
      "      Successfully uninstalled protobuf-3.20.3\r\n",
      "\u001b[31mERROR: pip's dependency resolver does not currently take into account all the packages that are installed. This behaviour is the source of the following dependency conflicts.\r\n",
      "google-api-core 1.34.1 requires protobuf!=3.20.0,!=3.20.1,!=4.21.0,!=4.21.1,!=4.21.2,!=4.21.3,!=4.21.4,!=4.21.5,<4.0.0dev,>=3.19.5, but you have protobuf 4.25.8 which is incompatible.\r\n",
      "bigframes 1.42.0 requires rich<14,>=12.4.4, but you have rich 14.0.0 which is incompatible.\r\n",
      "google-spark-connect 0.5.2 requires google-api-core>=2.19.1, but you have google-api-core 1.34.1 which is incompatible.\r\n",
      "google-cloud-bigtable 2.30.0 requires google-api-core[grpc]<3.0.0,>=2.16.0, but you have google-api-core 1.34.1 which is incompatible.\r\n",
      "google-cloud-storage 2.19.0 requires google-api-core<3.0.0dev,>=2.15.0, but you have google-api-core 1.34.1 which is incompatible.\r\n",
      "pandas-gbq 0.28.0 requires google-api-core<3.0.0dev,>=2.10.2, but you have google-api-core 1.34.1 which is incompatible.\u001b[0m\u001b[31m\r\n",
      "\u001b[0mSuccessfully installed mediapipe-0.10.21 protobuf-4.25.8 sounddevice-0.5.2\r\n",
      "Note: you may need to restart the kernel to use updated packages.\n"
     ]
    }
   ],
   "source": [
    "pip install mediapipe"
   ]
  },
  {
   "cell_type": "code",
   "execution_count": 2,
   "id": "76d150c0",
   "metadata": {
    "_cell_guid": "b1076dfc-b9ad-4769-8c92-a6c4dae69d19",
    "_uuid": "8f2839f25d086af736a60e9eeb907d3b93b6e0e5",
    "execution": {
     "iopub.execute_input": "2025-07-07T08:43:59.744445Z",
     "iopub.status.busy": "2025-07-07T08:43:59.744171Z",
     "iopub.status.idle": "2025-07-07T08:44:15.773283Z",
     "shell.execute_reply": "2025-07-07T08:44:15.772527Z"
    },
    "papermill": {
     "duration": 16.043056,
     "end_time": "2025-07-07T08:44:15.774771",
     "exception": false,
     "start_time": "2025-07-07T08:43:59.731715",
     "status": "completed"
    },
    "tags": []
   },
   "outputs": [
    {
     "name": "stderr",
     "output_type": "stream",
     "text": [
      "2025-07-07 08:44:01.659787: E external/local_xla/xla/stream_executor/cuda/cuda_fft.cc:477] Unable to register cuFFT factory: Attempting to register factory for plugin cuFFT when one has already been registered\n",
      "WARNING: All log messages before absl::InitializeLog() is called are written to STDERR\n",
      "E0000 00:00:1751877841.893473      19 cuda_dnn.cc:8310] Unable to register cuDNN factory: Attempting to register factory for plugin cuDNN when one has already been registered\n",
      "E0000 00:00:1751877841.963155      19 cuda_blas.cc:1418] Unable to register cuBLAS factory: Attempting to register factory for plugin cuBLAS when one has already been registered\n"
     ]
    }
   ],
   "source": [
    "# install librarires\n",
    "import os\n",
    "import tensorflow as tf\n",
    "import numpy as np\n",
    "import random"
   ]
  },
  {
   "cell_type": "markdown",
   "id": "28bff0e4",
   "metadata": {
    "papermill": {
     "duration": 0.011576,
     "end_time": "2025-07-07T08:44:15.798825",
     "exception": false,
     "start_time": "2025-07-07T08:44:15.787249",
     "status": "completed"
    },
    "tags": []
   },
   "source": [
    "## ℹ️ Set Global Constants"
   ]
  },
  {
   "cell_type": "code",
   "execution_count": 3,
   "id": "ca37cf80",
   "metadata": {
    "execution": {
     "iopub.execute_input": "2025-07-07T08:44:15.823808Z",
     "iopub.status.busy": "2025-07-07T08:44:15.823029Z",
     "iopub.status.idle": "2025-07-07T08:44:15.865863Z",
     "shell.execute_reply": "2025-07-07T08:44:15.865044Z"
    },
    "papermill": {
     "duration": 0.056548,
     "end_time": "2025-07-07T08:44:15.867089",
     "exception": false,
     "start_time": "2025-07-07T08:44:15.810541",
     "status": "completed"
    },
    "tags": []
   },
   "outputs": [
    {
     "name": "stdout",
     "output_type": "stream",
     "text": [
      "Ucf50\n",
      "There are total 50 classes, selected 11 classes\n",
      "Setting 20/class to train the model.\n",
      "Image size 128x128 with 15 sequence length\n",
      "Dropout rate: 0.5\n",
      "Train-Test split ratio 80/20\n",
      "Validation data from Train set 20.0%\n"
     ]
    }
   ],
   "source": [
    "# global variables\n",
    "# set dataset directories\n",
    "\n",
    "\n",
    "DATASET_DIR = \"/kaggle/input/ucf50/UCF50\"\n",
    "DATASET_NAME = DATASET_DIR.split(\"/\")[-1].replace(\"-\", \" \").title()\n",
    "\n",
    "print(DATASET_NAME)\n",
    "\n",
    "ALL_CLASS_NAMES = os.listdir(DATASET_DIR)\n",
    "\n",
    "# Global constant variables -> \n",
    "NO_OF_CLASSES = 11\n",
    "CLASSES_LIST = [\n",
    "    \"Basketball\",\n",
    "    \"Biking\",\n",
    "    \"Diving\",\n",
    "    \"GolfSwing\",\n",
    "    \"HorseRiding\",\n",
    "    \"Skiing\",\n",
    "    # \"Running\", # not found in UCF50, so took an outdoor class\n",
    "    \"SkateBoarding\",\n",
    "    \"Swing\",\n",
    "    \"TennisSwing\",\n",
    "    \"TrampolineJumping\",\n",
    "    \"WalkingWithDog\"\n",
    "]\n",
    "\n",
    "\n",
    "# Model Configuration\n",
    "IMAGE_HEIGHT, IMAGE_WIDTH = 128, 128\n",
    "SEQUENCE_LENGTH = 15\n",
    "\n",
    "# set drop out rate\n",
    "DROPOUT_RATE = 0.5\n",
    "\n",
    "# set datas\n",
    "MAX_VIDEO_PER_CLASS = 20\n",
    "\n",
    "# split dataset\n",
    "TEST_SIZE = 0.20\n",
    "\n",
    "# model fit parameters\n",
    "EPOCHS = 30\n",
    "BATCH_SIZE = 16\n",
    "VALIDATION_SPLIT = 0.20\n",
    "\n",
    "# augmentation values\n",
    "NOISE_FACTOR = 0.02\n",
    "SHEAR_X= 1\n",
    "SHEAR_Y= 1\n",
    "\n",
    "# give a name of the model to save\n",
    "MODEL_NAME = \"Xception\"\n",
    "\n",
    "print(f\"There are total {len(ALL_CLASS_NAMES)} classes, selected {NO_OF_CLASSES} classes\")\n",
    "print(f\"Setting {MAX_VIDEO_PER_CLASS}/class to train the model.\")\n",
    "print(f\"Image size {IMAGE_HEIGHT}x{IMAGE_WIDTH} with {SEQUENCE_LENGTH} sequence length\")\n",
    "print(f\"Dropout rate: {DROPOUT_RATE}\")\n",
    "print(f\"Train-Test split ratio {int((1-TEST_SIZE)*100)}/{int(TEST_SIZE*100)}\")\n",
    "print(f\"Validation data from Train set {VALIDATION_SPLIT*100}%\")"
   ]
  },
  {
   "cell_type": "markdown",
   "id": "dafcf826",
   "metadata": {
    "papermill": {
     "duration": 0.01205,
     "end_time": "2025-07-07T08:44:15.891662",
     "exception": false,
     "start_time": "2025-07-07T08:44:15.879612",
     "status": "completed"
    },
    "tags": []
   },
   "source": [
    "## Set `Seed` Values"
   ]
  },
  {
   "cell_type": "code",
   "execution_count": 4,
   "id": "1c98cd16",
   "metadata": {
    "execution": {
     "iopub.execute_input": "2025-07-07T08:44:15.917068Z",
     "iopub.status.busy": "2025-07-07T08:44:15.916412Z",
     "iopub.status.idle": "2025-07-07T08:44:15.920348Z",
     "shell.execute_reply": "2025-07-07T08:44:15.919791Z"
    },
    "papermill": {
     "duration": 0.017464,
     "end_time": "2025-07-07T08:44:15.921423",
     "exception": false,
     "start_time": "2025-07-07T08:44:15.903959",
     "status": "completed"
    },
    "tags": []
   },
   "outputs": [],
   "source": [
    "# set seeed to get similar values\n",
    "seed_constant = 27\n",
    "np.random.seed(seed_constant)\n",
    "random.seed(seed_constant)\n",
    "tf.random.set_seed(seed_constant)"
   ]
  },
  {
   "cell_type": "markdown",
   "id": "190712f2",
   "metadata": {
    "papermill": {
     "duration": 0.011533,
     "end_time": "2025-07-07T08:44:15.944743",
     "exception": false,
     "start_time": "2025-07-07T08:44:15.933210",
     "status": "completed"
    },
    "tags": []
   },
   "source": [
    "# 📌 Function Definition\n",
    "## Resize and Frame Extraction"
   ]
  },
  {
   "cell_type": "code",
   "execution_count": 5,
   "id": "b22b26b5",
   "metadata": {
    "execution": {
     "iopub.execute_input": "2025-07-07T08:44:16.020038Z",
     "iopub.status.busy": "2025-07-07T08:44:16.019366Z",
     "iopub.status.idle": "2025-07-07T08:44:16.029242Z",
     "shell.execute_reply": "2025-07-07T08:44:16.028717Z"
    },
    "papermill": {
     "duration": 0.023577,
     "end_time": "2025-07-07T08:44:16.030414",
     "exception": false,
     "start_time": "2025-07-07T08:44:16.006837",
     "status": "completed"
    },
    "tags": []
   },
   "outputs": [],
   "source": [
    "import cv2\n",
    "from concurrent.futures import ThreadPoolExecutor\n",
    "\n",
    "def resize_and_normalize_frame(frame, image_height, image_width):\n",
    "    try:\n",
    "        resized_frame = cv2.resize(frame, (image_width, image_height), interpolation=cv2.INTER_LINEAR)\n",
    "        normalized_frame = resized_frame / 255.0\n",
    "        return normalized_frame\n",
    "    except Exception as e:\n",
    "        print(f\"Error processing frame: {e}\")\n",
    "        return None\n",
    "\n",
    "def frames_extraction(video_path, \n",
    "                      sequence_length=SEQUENCE_LENGTH, \n",
    "                      image_height=IMAGE_HEIGHT, \n",
    "                      image_width=IMAGE_WIDTH):\n",
    "    # Declare a list to store video frames\n",
    "    frames_list = []\n",
    "\n",
    "    # Check if video file exists\n",
    "    if not os.path.exists(video_path):\n",
    "        print(f\"Error: Video file not found at {video_path}\")\n",
    "        return None\n",
    "\n",
    "    # Read the video file using VideoCapture with optimized settings\n",
    "    video_reader = cv2.VideoCapture(video_path, cv2.CAP_FFMPEG)\n",
    "\n",
    "    # Check if the video was opened successfully\n",
    "    if not video_reader.isOpened():\n",
    "        print(f\"Error: Could not open video file {video_path}\")\n",
    "        video_reader.release()\n",
    "        return None\n",
    "\n",
    "    # Get the total number of frames in the video\n",
    "    video_frames_count = int(video_reader.get(cv2.CAP_PROP_FRAME_COUNT))\n",
    "\n",
    "    # Ensure the video has enough frames\n",
    "    if video_frames_count < sequence_length:\n",
    "        print(f\"Warning: Video {video_path} has only {video_frames_count} frames, less than required {sequence_length}\")\n",
    "        video_reader.release()\n",
    "        return None\n",
    "\n",
    "    # Calculate the interval after which frames will be sampled\n",
    "    skip_frames_window = max(int(video_frames_count / sequence_length), 1)\n",
    "\n",
    "    # Pre-allocate frame indices to extract\n",
    "    frame_indices = [i * skip_frames_window for i in range(sequence_length)]\n",
    "\n",
    "    # Read and process frames in parallel\n",
    "    frames = []\n",
    "    for idx in frame_indices:\n",
    "        video_reader.set(cv2.CAP_PROP_POS_FRAMES, idx)\n",
    "        success, frame = video_reader.read()\n",
    "        if not success or frame is None:\n",
    "            print(f\"Warning: Failed to read frame at index {idx} from {video_path}\")\n",
    "            break\n",
    "        frame = cv2.cvtColor(frame, cv2.COLOR_BGR2RGB)\n",
    "        frames.append(frame)\n",
    "\n",
    "    # Release the VideoCapture object early\n",
    "    video_reader.release()\n",
    "\n",
    "    # Ensure the correct number of frames is read\n",
    "    if len(frames) != sequence_length:\n",
    "        print(f\"Warning: Read {len(frames)} frames instead of {sequence_length} from {video_path}\")\n",
    "        return None\n",
    "\n",
    "    # Process frames in parallel using ThreadPoolExecutor\n",
    "    with ThreadPoolExecutor() as executor:\n",
    "        processed_frames = list(executor.map(\n",
    "            lambda f: resize_and_normalize_frame(f, image_height, image_width), \n",
    "            frames\n",
    "        ))\n",
    "\n",
    "    # Check for any failed frame processing\n",
    "    if any(f is None for f in processed_frames):\n",
    "        print(f\"Warning: Some frames failed to process in {video_path}\")\n",
    "        return None\n",
    "\n",
    "    # Convert to NumPy array\n",
    "    frames_array = np.array(processed_frames, dtype=np.float32)\n",
    "\n",
    "    return frames_array"
   ]
  },
  {
   "cell_type": "code",
   "execution_count": 6,
   "id": "033f4ae4",
   "metadata": {
    "execution": {
     "iopub.execute_input": "2025-07-07T08:44:16.056261Z",
     "iopub.status.busy": "2025-07-07T08:44:16.055783Z",
     "iopub.status.idle": "2025-07-07T08:44:16.059114Z",
     "shell.execute_reply": "2025-07-07T08:44:16.058603Z"
    },
    "papermill": {
     "duration": 0.017015,
     "end_time": "2025-07-07T08:44:16.060174",
     "exception": false,
     "start_time": "2025-07-07T08:44:16.043159",
     "status": "completed"
    },
    "tags": []
   },
   "outputs": [],
   "source": [
    " # # Iterate through all video files\n",
    " #        for file_name in files_list:\n",
    " #            video_file_path = os.path.join(class_path, file_name)\n",
    "\n",
    " #            # Extract frames using the updated frames_extraction function\n",
    " #            frames = frames_extraction(video_file_path, sequence_length, image_height, image_width)\n",
    "\n",
    " #            # Skip videos where frame extraction failed\n",
    " #            if frames is None:\n",
    " #                print(f\"Skipping video {video_file_path} due to frame extraction failure\")\n",
    " #                continue\n",
    "\n",
    " #            # Append the data to respective lists\n",
    " #            features.append(frames)\n",
    " #            labels.append(class_index)"
   ]
  },
  {
   "cell_type": "markdown",
   "id": "17879595",
   "metadata": {
    "papermill": {
     "duration": 0.011627,
     "end_time": "2025-07-07T08:44:16.084063",
     "exception": false,
     "start_time": "2025-07-07T08:44:16.072436",
     "status": "completed"
    },
    "tags": []
   },
   "source": [
    "## Create Dataset"
   ]
  },
  {
   "cell_type": "code",
   "execution_count": 7,
   "id": "f00fb647",
   "metadata": {
    "execution": {
     "iopub.execute_input": "2025-07-07T08:44:16.108948Z",
     "iopub.status.busy": "2025-07-07T08:44:16.108486Z",
     "iopub.status.idle": "2025-07-07T08:44:16.115588Z",
     "shell.execute_reply": "2025-07-07T08:44:16.114920Z"
    },
    "papermill": {
     "duration": 0.020811,
     "end_time": "2025-07-07T08:44:16.116597",
     "exception": false,
     "start_time": "2025-07-07T08:44:16.095786",
     "status": "completed"
    },
    "tags": []
   },
   "outputs": [],
   "source": [
    "# RUN create dataset function definition\n",
    "def create_dataset(dataset_dir,\n",
    "                   classes_list, \n",
    "                   sequence_length=SEQUENCE_LENGTH, \n",
    "                   image_height=IMAGE_HEIGHT, \n",
    "                   image_width=IMAGE_WIDTH, \n",
    "                   max_videos_per_class=None,\n",
    "                   augmentations=False\n",
    "                  ):\n",
    "    \n",
    "    # Initialize lists to store features, labels, and video file paths\n",
    "    videos = []\n",
    "    labels = []\n",
    "\n",
    "    # Check if dataset directory exists\n",
    "    if not os.path.exists(dataset_dir):\n",
    "        raise FileNotFoundError(f\"Dataset directory not found: {dataset_dir}\")\n",
    "\n",
    "    # Iterate through all classes in the classes list\n",
    "    for class_index, class_name in enumerate(classes_list):\n",
    "        class_path = os.path.join(dataset_dir, class_name)\n",
    "        \n",
    "        # Check if class directory exists\n",
    "        if not os.path.exists(class_path):\n",
    "            print(f\"Warning: Class directory not found: {class_path}\")\n",
    "            continue\n",
    "\n",
    "        print(f'Class: {class_name}')\n",
    "\n",
    "        # Get the list of video files in the class directory\n",
    "        files_list = os.listdir(class_path)\n",
    "\n",
    "        # Limit the number of videos if specified\n",
    "        if max_videos_per_class is not None:\n",
    "            files_list = files_list[:max_videos_per_class]\n",
    "\n",
    "        # Iterate through all video files\n",
    "        for (index, file_name) in enumerate(files_list):\n",
    "            video_file_path = os.path.join(class_path, file_name)\n",
    "\n",
    "            if index == (len(files_list)-1):\n",
    "                print(f'Extracting frames from file {index+1}: {file_name}', flush=True)\n",
    "            else:\n",
    "                print(f'Extracting frames from file {index+1}: {file_name}', end=\"\\r\", flush=True)\n",
    "            \n",
    "            # Extract frames using the updated frames_extraction function\n",
    "            frames = frames_extraction(video_file_path, \n",
    "                                       sequence_length, \n",
    "                                       image_height, \n",
    "                                       image_width)\n",
    "\n",
    "            # Skip videos where frame extraction failed\n",
    "            if frames is None:\n",
    "                print(f\"Skipping video {video_file_path} due to frame extraction failure\")\n",
    "                continue\n",
    "\n",
    "            # Append the data to respective lists\n",
    "            videos.append(frames)\n",
    "            labels.append(class_index)\n",
    "\n",
    "    # Convert lists to numpy arrays\n",
    "    if not videos:\n",
    "        raise ValueError(\"No valid videos were processed. Check dataset or parameters.\")\n",
    "    videos = np.asarray(videos)\n",
    "    labels = np.array(labels)\n",
    "\n",
    "    print(f\"Dataset created with {len(videos)} videos\")\n",
    "    print(f\"Features shape: {videos.shape}\")\n",
    "    print(f\"Labels shape: {labels.shape}\")\n",
    "\n",
    "    return videos, labels"
   ]
  },
  {
   "cell_type": "markdown",
   "id": "a21ac746",
   "metadata": {
    "papermill": {
     "duration": 0.011589,
     "end_time": "2025-07-07T08:44:16.140034",
     "exception": false,
     "start_time": "2025-07-07T08:44:16.128445",
     "status": "completed"
    },
    "tags": []
   },
   "source": [
    "## 🪄 Video Data Generator"
   ]
  },
  {
   "cell_type": "code",
   "execution_count": 8,
   "id": "52de2125",
   "metadata": {
    "execution": {
     "iopub.execute_input": "2025-07-07T08:44:16.164551Z",
     "iopub.status.busy": "2025-07-07T08:44:16.164167Z",
     "iopub.status.idle": "2025-07-07T08:44:16.229632Z",
     "shell.execute_reply": "2025-07-07T08:44:16.228888Z"
    },
    "papermill": {
     "duration": 0.079238,
     "end_time": "2025-07-07T08:44:16.230945",
     "exception": false,
     "start_time": "2025-07-07T08:44:16.151707",
     "status": "completed"
    },
    "tags": []
   },
   "outputs": [],
   "source": [
    "from tensorflow.keras.utils import Sequence, to_categorical\n",
    "import tensorflow as tf\n",
    "import numpy as np\n",
    "import cv2\n",
    "\n",
    "\n",
    "\n",
    "\n",
    "class VideoDataGenerator(Sequence):\n",
    "    def __init__(self, videos, labels, batch_size, is_training=False):\n",
    "        self.videos = list(videos)  # List of video file paths\n",
    "        self.labels = list(labels)  # List or array of labels encoded\n",
    "        self.batch_size = batch_size\n",
    "        self.indices = np.arange(len(self.videos))  # For shuffling\n",
    "        self.is_training = is_training  # Flag to control whether augmentation is applied\n",
    "        self.temp_videos=[]\n",
    "        self.temp_labels=[]\n",
    "        \n",
    "        \n",
    "        print(f\"Total {len(videos)} videos and {len(labels)} classes\")\n",
    "\n",
    "    def __len__(self):\n",
    "        # Return the number of batches per epoch\n",
    "        return int(np.ceil(len(self.videos) / self.batch_size))\n",
    "\n",
    "    def __getitem__(self, idx):\n",
    "        # Get batch indices\n",
    "        batch_indices = self.indices[idx * self.batch_size:(idx + 1) * self.batch_size]\n",
    "        \n",
    "        # Handle case where batch_indices is empty\n",
    "        if len(batch_indices) == 0:\n",
    "            return np.array([], dtype=np.float32), np.array([], dtype=np.float32)\n",
    "        \n",
    "        # Initialize lists to store frames and labels\n",
    "        all_frames = []\n",
    "        all_labels = []\n",
    "        \n",
    "        # Process each video in the batch\n",
    "        for i, index in enumerate(batch_indices):\n",
    "            sequence = self.videos[index]\n",
    "            label = self.labels[index]\n",
    "            \n",
    "            # Append the sequence and label\n",
    "            all_frames.append(sequence)\n",
    "            all_labels.append(label)\n",
    "        \n",
    "        # Convert to numpy arrays\n",
    "        all_frames = np.array(all_frames, dtype=np.float32)\n",
    "        all_labels = np.array(all_labels)\n",
    "            \n",
    "        \n",
    "        return all_frames, all_labels\n",
    "    def add(self, new_videos, new_labels):\n",
    "        self.temp_videos.extend(new_videos)\n",
    "        self.temp_labels.extend(new_labels)\n",
    "    \n",
    "    def confirm(self):\n",
    "        self.videos.extend(self.temp_videos)\n",
    "        self.labels.extend(self.temp_labels)\n",
    "        print(f\"Successfully added - {len(self.temp_videos)} videos and {len(self.temp_labels)} classes.\")\n",
    "        self.temp_videos=[]\n",
    "        self.temp_labels=[]\n",
    "        self.indices = np.arange(len(self.videos))\n",
    "        print(f\"Now Total - {len(self.videos)} videos and {len(self.labels)} classes.\")\n",
    "        print(f\"PENDING for Augmentations - {len(self.temp_videos)} videos and {len(self.temp_labels)} classes.\")\n",
    "        \n",
    "    def replace_original(self):\n",
    "        self.videos=self.temp_videos\n",
    "        self.labels=self.temp_labels\n",
    "        self.temp_videos=[]\n",
    "        self.temp_labels=[]\n",
    "        print(f\"Successfully replaced, total original videos - {len(self.videos)} and augmented videos {len(self.temp_videos)}\")\n",
    "        \n",
    "    def on_epoch_end(self):\n",
    "        # Shuffle indices at the end of each epoch\n",
    "        np.random.shuffle(self.indices)\n",
    "\n",
    "    def as_dataset(self):\n",
    "        def generator():\n",
    "            for idx in range(len(self)):\n",
    "                frames, labels = self[idx]\n",
    "                # Skip empty batches\n",
    "                if frames.size == 0:\n",
    "                    continue\n",
    "                yield frames, labels\n",
    "        self.labels=np.array(self.labels)\n",
    "    \n",
    "        # Create a tf.data.Dataset\n",
    "        dataset = tf.data.Dataset.from_generator(\n",
    "            generator,\n",
    "            output_types=(tf.float32, tf.float32),\n",
    "            output_shapes=(\n",
    "                (None, SEQUENCE_LENGTH, IMAGE_HEIGHT, IMAGE_WIDTH, 3),\n",
    "                (None, NO_OF_CLASSES)\n",
    "            )\n",
    "        )\n",
    "        dataset = dataset.prefetch(tf.data.AUTOTUNE)\n",
    "        return dataset"
   ]
  },
  {
   "cell_type": "markdown",
   "id": "fab54427",
   "metadata": {
    "papermill": {
     "duration": 0.01174,
     "end_time": "2025-07-07T08:44:16.255147",
     "exception": false,
     "start_time": "2025-07-07T08:44:16.243407",
     "status": "completed"
    },
    "tags": []
   },
   "source": [
    "## 🔥 Segmentation using N-Frames Ensemble"
   ]
  },
  {
   "cell_type": "code",
   "execution_count": 9,
   "id": "0f2686d2",
   "metadata": {
    "execution": {
     "iopub.execute_input": "2025-07-07T08:44:16.279844Z",
     "iopub.status.busy": "2025-07-07T08:44:16.279337Z",
     "iopub.status.idle": "2025-07-07T08:44:16.538190Z",
     "shell.execute_reply": "2025-07-07T08:44:16.537232Z"
    },
    "papermill": {
     "duration": 0.272688,
     "end_time": "2025-07-07T08:44:16.539466",
     "exception": false,
     "start_time": "2025-07-07T08:44:16.266778",
     "status": "completed"
    },
    "tags": []
   },
   "outputs": [
    {
     "name": "stdout",
     "output_type": "stream",
     "text": [
      "MediaPipe initialized successfully\n"
     ]
    },
    {
     "name": "stderr",
     "output_type": "stream",
     "text": [
      "INFO: Created TensorFlow Lite XNNPACK delegate for CPU.\n"
     ]
    }
   ],
   "source": [
    "import cv2\n",
    "import numpy as np\n",
    "from collections import deque\n",
    "import mediapipe as mp\n",
    "\n",
    "# Parameters\n",
    "N_FRAMES = 5  # Number of frames for ensemble\n",
    "THRESHOLD = 0.2  # Segmentation confidence threshold\n",
    "\n",
    "def initialize_segmentor():\n",
    "    \"\"\"Initialize MediaPipe Selfie Segmentation with error handling.\"\"\"\n",
    "    try:\n",
    "        mp_selfie_segmentation = mp.solutions.selfie_segmentation\n",
    "        segmentor = mp_selfie_segmentation.SelfieSegmentation(model_selection=1)  # 1 for general model\n",
    "        print(\"MediaPipe initialized successfully\")\n",
    "        return segmentor\n",
    "    except Exception as e:\n",
    "        print(f\"Failed to initialize MediaPipe: {e}\")\n",
    "        return None\n",
    "\n",
    "# Initialize segmentor\n",
    "segmentor = initialize_segmentor()\n",
    "\n",
    "\n",
    "def segmentation_frames(sequence):\n",
    "    \"\"\"Process a sequence of frames with N-frame ensemble segmentation.\"\"\"\n",
    "    # Input sequence: (sequence_length, height, width, 3), values in [0, 1]\n",
    "    sequence_length, height, width, _ = sequence.shape\n",
    "    segmented_sequence = np.zeros_like(sequence, dtype=np.float32)\n",
    "    \n",
    "    if segmentor is None:\n",
    "        print(\"Returning original sequence due to initialization failure\")\n",
    "        return sequence  # Fallback to original sequence\n",
    "    # Queue to store segmentation masks\n",
    "    mask_queue = deque(maxlen=N_FRAMES)\n",
    "    \n",
    "    # Kernel for morphological operations\n",
    "    kernel = cv2.getStructuringElement(cv2.MORPH_ELLIPSE, (5, 5))\n",
    "    \n",
    "    for t in range(sequence_length):\n",
    "        try:\n",
    "            # Convert frame to uint8 for MediaPipe\n",
    "            frame = (sequence[t] * 255).astype(np.uint8)\n",
    "            \n",
    "            # Process frame with MediaPipe\n",
    "            results = segmentor.process(frame)\n",
    "            if results.segmentation_mask is None:\n",
    "                print(f\"Warning: No mask returned for frame {t}\")\n",
    "                mask = np.zeros((height, width), dtype=np.float32)\n",
    "            else:\n",
    "                mask = results.segmentation_mask  # Shape: (height, width), values in [0, 1]\n",
    "            \n",
    "            # Add mask to queue\n",
    "            mask_queue.append(mask)\n",
    "            \n",
    "            # Compute ensemble mask by averaging (if enough frames)\n",
    "            ensemble_mask = np.mean(np.array(mask_queue), axis=0) if len(mask_queue) > 1 else mask\n",
    "            \n",
    "            # Binarize the ensemble mask\n",
    "            binary_mask = (ensemble_mask > THRESHOLD).astype(np.uint8)\n",
    "            \n",
    "            # Refine the mask using morphological operations\n",
    "            binary_mask = cv2.morphologyEx(binary_mask, cv2.MORPH_CLOSE, kernel)\n",
    "            binary_mask = cv2.morphologyEx(binary_mask, cv2.MORPH_OPEN, kernel)\n",
    "            \n",
    "            # Convert binary mask to 3 channels\n",
    "            mask_3ch = np.stack([binary_mask] * 3, axis=-1)  # Shape: (height, width, 3)\n",
    "            \n",
    "            # Apply mask to isolate human subject (set background to black)\n",
    "            segmented_frame = frame * mask_3ch\n",
    "            \n",
    "            # Normalize back to [0, 1]\n",
    "            segmented_sequence[t] = segmented_frame / 255.0\n",
    "        \n",
    "        except Exception as e:\n",
    "            print(f\"Error processing frame {t}: {e}\")\n",
    "            segmented_sequence[t] = sequence[t]  # Fallback to original frame\n",
    "    \n",
    "    return segmented_sequence"
   ]
  },
  {
   "cell_type": "markdown",
   "id": "9ce4402e",
   "metadata": {
    "papermill": {
     "duration": 0.012098,
     "end_time": "2025-07-07T08:44:16.564364",
     "exception": false,
     "start_time": "2025-07-07T08:44:16.552266",
     "status": "completed"
    },
    "tags": []
   },
   "source": [
    "## 💫 Augmentation Helper function"
   ]
  },
  {
   "cell_type": "code",
   "execution_count": 10,
   "id": "9fa9d225",
   "metadata": {
    "execution": {
     "iopub.execute_input": "2025-07-07T08:44:16.589850Z",
     "iopub.status.busy": "2025-07-07T08:44:16.589328Z",
     "iopub.status.idle": "2025-07-07T08:44:16.594401Z",
     "shell.execute_reply": "2025-07-07T08:44:16.593768Z"
    },
    "papermill": {
     "duration": 0.019017,
     "end_time": "2025-07-07T08:44:16.595366",
     "exception": false,
     "start_time": "2025-07-07T08:44:16.576349",
     "status": "completed"
    },
    "tags": []
   },
   "outputs": [
    {
     "name": "stderr",
     "output_type": "stream",
     "text": [
      "WARNING: All log messages before absl::InitializeLog() is called are written to STDERR\n",
      "W0000 00:00:1751877856.543091      72 inference_feedback_manager.cc:114] Feedback manager requires a model with a single signature inference. Disabling support for feedback tensors.\n"
     ]
    }
   ],
   "source": [
    "def apply_augmentation(augmentation_function, generator, confirm=False, *args, **kwargs):\n",
    "    count=0\n",
    "    for i in range(len(generator)):\n",
    "        batch_videos, batch_labels = generator[i]\n",
    "        augmented_videos=[]\n",
    "        for videos in batch_videos:\n",
    "            count=count+1\n",
    "            augmented_videos.append(augmentation_function(videos, *args, **kwargs))\n",
    "            print(f\"Adding {count} new videos...\", end=\"\\r\", flush=True)\n",
    "        generator.add(augmented_videos, batch_labels)\n",
    "    \n",
    "    print(f\"Total {len(generator.temp_videos)} augmented videos generated\")\n",
    "    if confirm:\n",
    "        generator.confirm()\n",
    "    else:\n",
    "        print(\"Ready to be merged with original videos...\")"
   ]
  },
  {
   "cell_type": "markdown",
   "id": "d4f8565c",
   "metadata": {
    "papermill": {
     "duration": 0.011688,
     "end_time": "2025-07-07T08:44:16.619597",
     "exception": false,
     "start_time": "2025-07-07T08:44:16.607909",
     "status": "completed"
    },
    "tags": []
   },
   "source": [
    "### Show Frames"
   ]
  },
  {
   "cell_type": "code",
   "execution_count": 11,
   "id": "8183f00b",
   "metadata": {
    "execution": {
     "iopub.execute_input": "2025-07-07T08:44:16.644956Z",
     "iopub.status.busy": "2025-07-07T08:44:16.644255Z",
     "iopub.status.idle": "2025-07-07T08:44:16.648462Z",
     "shell.execute_reply": "2025-07-07T08:44:16.647750Z"
    },
    "papermill": {
     "duration": 0.0179,
     "end_time": "2025-07-07T08:44:16.649554",
     "exception": false,
     "start_time": "2025-07-07T08:44:16.631654",
     "status": "completed"
    },
    "tags": []
   },
   "outputs": [],
   "source": [
    "# show frame def\n",
    "import matplotlib.pyplot as plt\n",
    "\n",
    "def show_frame(frame):\n",
    "    plt.figure(figsize=(3,3))\n",
    "    plt.imshow(frame)\n",
    "    plt.axis(\"off\")\n",
    "    plt.tight_layout()"
   ]
  },
  {
   "cell_type": "markdown",
   "id": "7ba54adf",
   "metadata": {
    "papermill": {
     "duration": 0.012072,
     "end_time": "2025-07-07T08:44:16.673577",
     "exception": false,
     "start_time": "2025-07-07T08:44:16.661505",
     "status": "completed"
    },
    "tags": []
   },
   "source": [
    "### Helper Function"
   ]
  },
  {
   "cell_type": "code",
   "execution_count": 12,
   "id": "cca2cda2",
   "metadata": {
    "execution": {
     "iopub.execute_input": "2025-07-07T08:44:16.698714Z",
     "iopub.status.busy": "2025-07-07T08:44:16.698087Z",
     "iopub.status.idle": "2025-07-07T08:44:16.702882Z",
     "shell.execute_reply": "2025-07-07T08:44:16.702171Z"
    },
    "papermill": {
     "duration": 0.018403,
     "end_time": "2025-07-07T08:44:16.703947",
     "exception": false,
     "start_time": "2025-07-07T08:44:16.685544",
     "status": "completed"
    },
    "tags": []
   },
   "outputs": [],
   "source": [
    "def show_frame_vs(frame1, frame2, title1=\"Frame 1\", title2=\"Frame 2\"):\n",
    "    plt.figure(figsize=(10, 5))\n",
    "\n",
    "    # First frame\n",
    "    plt.subplot(1, 2, 1)\n",
    "    plt.imshow(frame1)\n",
    "    plt.title(title1)\n",
    "    plt.axis('off')\n",
    "\n",
    "    # Second frame\n",
    "    plt.subplot(1, 2, 2)\n",
    "    plt.imshow(frame2)\n",
    "    plt.title(title2)\n",
    "    plt.axis('off')\n",
    "\n",
    "    plt.tight_layout()\n",
    "    plt.show()"
   ]
  },
  {
   "cell_type": "code",
   "execution_count": 13,
   "id": "4c2d3bea",
   "metadata": {
    "execution": {
     "iopub.execute_input": "2025-07-07T08:44:16.729191Z",
     "iopub.status.busy": "2025-07-07T08:44:16.728944Z",
     "iopub.status.idle": "2025-07-07T08:44:16.732656Z",
     "shell.execute_reply": "2025-07-07T08:44:16.732087Z"
    },
    "papermill": {
     "duration": 0.017654,
     "end_time": "2025-07-07T08:44:16.733712",
     "exception": false,
     "start_time": "2025-07-07T08:44:16.716058",
     "status": "completed"
    },
    "tags": []
   },
   "outputs": [],
   "source": [
    "# reusable video loop helper function\n",
    "def apply_function(function, videos, *arg, **kwargs):\n",
    "    new_videos=[]\n",
    "    \n",
    "    for video in videos:\n",
    "        new_videos.append(function(video, *arg, **kwargs))\n",
    "        \n",
    "    return new_videos"
   ]
  },
  {
   "cell_type": "code",
   "execution_count": 14,
   "id": "5fe4048f",
   "metadata": {
    "execution": {
     "iopub.execute_input": "2025-07-07T08:44:16.758092Z",
     "iopub.status.busy": "2025-07-07T08:44:16.757862Z",
     "iopub.status.idle": "2025-07-07T08:44:16.762174Z",
     "shell.execute_reply": "2025-07-07T08:44:16.761544Z"
    },
    "papermill": {
     "duration": 0.017781,
     "end_time": "2025-07-07T08:44:16.763364",
     "exception": false,
     "start_time": "2025-07-07T08:44:16.745583",
     "status": "completed"
    },
    "tags": []
   },
   "outputs": [],
   "source": [
    "# reusable video loop helper function\n",
    "def apply(function, videos, labels, *arg, **kwargs):\n",
    "    new_videos=[]\n",
    "    new_labels=[]\n",
    "    combined=zip(labels, videos)\n",
    "    \n",
    "    for label, video in combined:\n",
    "        new_videos.append(function(video, *arg, **kwargs))\n",
    "        new_labels.append(label)\n",
    "        \n",
    "    new_videos=np.asarray(new_videos)\n",
    "    new_labels=np.asarray(new_labels)\n",
    "    \n",
    "    return new_videos, new_labels"
   ]
  },
  {
   "cell_type": "markdown",
   "id": "3d869aef",
   "metadata": {
    "papermill": {
     "duration": 0.011471,
     "end_time": "2025-07-07T08:44:16.786867",
     "exception": false,
     "start_time": "2025-07-07T08:44:16.775396",
     "status": "completed"
    },
    "tags": []
   },
   "source": [
    "## Salt and Pepper Noise "
   ]
  },
  {
   "cell_type": "code",
   "execution_count": 15,
   "id": "8af6a9b7",
   "metadata": {
    "execution": {
     "iopub.execute_input": "2025-07-07T08:44:16.811278Z",
     "iopub.status.busy": "2025-07-07T08:44:16.810810Z",
     "iopub.status.idle": "2025-07-07T08:44:16.815287Z",
     "shell.execute_reply": "2025-07-07T08:44:16.814577Z"
    },
    "papermill": {
     "duration": 0.017936,
     "end_time": "2025-07-07T08:44:16.816495",
     "exception": false,
     "start_time": "2025-07-07T08:44:16.798559",
     "status": "completed"
    },
    "tags": []
   },
   "outputs": [],
   "source": [
    "# Noise function def\n",
    "\n",
    "def noise_video(video,noise_factor=NOISE_FACTOR):\n",
    "    noisy_video=[]\n",
    "    for frame in video:\n",
    "        # Generate random noise\n",
    "        noise = np.random.rand(*frame.shape)  # Generate random noise\n",
    "        salt_pepper_noise = np.random.choice([0, 1], size=frame.shape, p=[1-noise_factor, noise_factor])\n",
    "        noisy_frame = frame * (1 - salt_pepper_noise) + salt_pepper_noise * np.random.rand(*frame.shape)\n",
    "        noisy_video.append(noisy_frame)\n",
    "    return np.array(noisy_video)"
   ]
  },
  {
   "cell_type": "markdown",
   "id": "c1e6832a",
   "metadata": {
    "papermill": {
     "duration": 0.011642,
     "end_time": "2025-07-07T08:44:16.840270",
     "exception": false,
     "start_time": "2025-07-07T08:44:16.828628",
     "status": "completed"
    },
    "tags": []
   },
   "source": [
    "## Horizontal Flip"
   ]
  },
  {
   "cell_type": "code",
   "execution_count": 16,
   "id": "dd9c0726",
   "metadata": {
    "execution": {
     "iopub.execute_input": "2025-07-07T08:44:16.865056Z",
     "iopub.status.busy": "2025-07-07T08:44:16.864806Z",
     "iopub.status.idle": "2025-07-07T08:44:16.868141Z",
     "shell.execute_reply": "2025-07-07T08:44:16.867627Z"
    },
    "papermill": {
     "duration": 0.017097,
     "end_time": "2025-07-07T08:44:16.869068",
     "exception": false,
     "start_time": "2025-07-07T08:44:16.851971",
     "status": "completed"
    },
    "tags": []
   },
   "outputs": [],
   "source": [
    "# horizontal flip function def\n",
    "# Testing Flip feautes[0] -> first video\n",
    "def horizontal_flip(video):\n",
    "    return [tf.image.flip_left_right(frame) for frame in video]"
   ]
  },
  {
   "cell_type": "markdown",
   "id": "ab0ccd85",
   "metadata": {
    "papermill": {
     "duration": 0.011509,
     "end_time": "2025-07-07T08:44:16.892277",
     "exception": false,
     "start_time": "2025-07-07T08:44:16.880768",
     "status": "completed"
    },
    "tags": []
   },
   "source": [
    "## Random Shear"
   ]
  },
  {
   "cell_type": "code",
   "execution_count": 17,
   "id": "7eb77376",
   "metadata": {
    "execution": {
     "iopub.execute_input": "2025-07-07T08:44:16.918397Z",
     "iopub.status.busy": "2025-07-07T08:44:16.917867Z",
     "iopub.status.idle": "2025-07-07T08:44:16.923941Z",
     "shell.execute_reply": "2025-07-07T08:44:16.923434Z"
    },
    "papermill": {
     "duration": 0.019916,
     "end_time": "2025-07-07T08:44:16.925011",
     "exception": false,
     "start_time": "2025-07-07T08:44:16.905095",
     "status": "completed"
    },
    "tags": []
   },
   "outputs": [],
   "source": [
    "# random shear function def\n",
    "import numpy as np\n",
    "import tensorflow as tf\n",
    "from scipy.ndimage import affine_transform\n",
    "\n",
    "def apply_shear_frames(frames, shear_right):\n",
    "    return [apply_shear(frame, shear_right) for frame in frames]\n",
    "\n",
    "def apply_shear(frame, shear_right=0):\n",
    "    frame_resized = tf.image.resize(frame, (IMAGE_HEIGHT, IMAGE_WIDTH)).numpy()\n",
    "    if shear_right:\n",
    "        shear_x = 0.09\n",
    "        shear_y = 0.1\n",
    "    else:\n",
    "        shear_x = -0.09\n",
    "        shear_y = 0.3\n",
    "    # Construct the affine matrix for scipy: inverse of the transformation matrix\n",
    "    # scipy applies the inverse transform matrix\n",
    "    shear_matrix = np.array([\n",
    "        [1, shear_x, 0],\n",
    "        [shear_y, 1, 0],\n",
    "        [0, 0, 1]\n",
    "    ], dtype=np.float32)\n",
    "\n",
    "    # Extract 2x2 part for affine_transform\n",
    "    matrix = shear_matrix[:2, :2]\n",
    "\n",
    "    # Offset (no translation)\n",
    "    offset = [0, 0]\n",
    "\n",
    "    # Apply affine transform on each channel separately\n",
    "    sheared = np.zeros_like(frame_resized)\n",
    "    for c in range(3):\n",
    "        sheared[..., c] = affine_transform(\n",
    "            frame_resized[..., c],\n",
    "            matrix=matrix,\n",
    "            offset=offset,\n",
    "            order=1,          # bilinear interpolation\n",
    "            mode='nearest'    # fill_mode\n",
    "        )\n",
    "    return sheared"
   ]
  },
  {
   "cell_type": "markdown",
   "id": "030e6478",
   "metadata": {
    "papermill": {
     "duration": 0.011518,
     "end_time": "2025-07-07T08:44:16.948435",
     "exception": false,
     "start_time": "2025-07-07T08:44:16.936917",
     "status": "completed"
    },
    "tags": []
   },
   "source": [
    "# 📌 Model Related\n",
    "## 🗼 Model Architecture `create_model`"
   ]
  },
  {
   "cell_type": "code",
   "execution_count": 18,
   "id": "3be7409d",
   "metadata": {
    "execution": {
     "iopub.execute_input": "2025-07-07T08:44:16.974855Z",
     "iopub.status.busy": "2025-07-07T08:44:16.974339Z",
     "iopub.status.idle": "2025-07-07T08:44:16.987087Z",
     "shell.execute_reply": "2025-07-07T08:44:16.986552Z"
    },
    "papermill": {
     "duration": 0.027975,
     "end_time": "2025-07-07T08:44:16.988232",
     "exception": false,
     "start_time": "2025-07-07T08:44:16.960257",
     "status": "completed"
    },
    "tags": []
   },
   "outputs": [],
   "source": [
    "from tensorflow.keras.applications import Xception\n",
    "from tensorflow.keras.models import Sequential\n",
    "from tensorflow.keras.layers import TimeDistributed, GlobalAveragePooling2D, LSTM, Dropout, Dense, BatchNormalization\n",
    "from tensorflow.keras.regularizers import l2\n",
    "\n",
    "def create_xception_lstm_model(sequence_length, image_height, image_width, classes_list=None, dropout_rate=0.5):\n",
    "    if classes_list is None:\n",
    "        raise ValueError(\"classes_list must be provided to define the output layer size\")\n",
    "\n",
    "    try:\n",
    "        # Load Xception base model\n",
    "        print(\"Loading Xception base model...\")\n",
    "        xception = Xception(\n",
    "            weights='imagenet',\n",
    "            include_top=False,\n",
    "            input_shape=(image_height, image_width, 3),\n",
    "            name=\"Xception\"\n",
    "        )\n",
    "        xception.trainable = False  # Freeze during initial training\n",
    "\n",
    "        # Define the model\n",
    "        model = Sequential([\n",
    "            TimeDistributed(\n",
    "                xception,\n",
    "                input_shape=(sequence_length, image_height, image_width, 3),\n",
    "                name=\"time_distributed_xception\"\n",
    "            ),\n",
    "            TimeDistributed(GlobalAveragePooling2D(), name=\"time_distributed_pooling\"),\n",
    "            LSTM(512, activation=\"tanh\", return_sequences=False, kernel_regularizer=l2(0.01), name=\"lstm_xception\"),\n",
    "            BatchNormalization(name=\"batch_normalization_xception\"),\n",
    "            Dropout(dropout_rate, name=\"dropout_lstm_xception\"),\n",
    "            Dense(512, activation=\"relu\", kernel_regularizer=l2(0.01), name=\"dense_xception_1\"),\n",
    "            Dropout(dropout_rate, name=\"dropout_dense_xception_1\"),\n",
    "            Dense(128, activation=\"relu\", kernel_regularizer=l2(0.01), name=\"dense_xception_2\"),\n",
    "            Dropout(dropout_rate, name=\"dropout_dense_xception_2\"),\n",
    "            Dense(len(classes_list), activation=\"softmax\", name=\"output_xception\")\n",
    "        ])\n",
    "\n",
    "        print(\"Xception+LSTM model (mirroring VGG19 architecture) created successfully!\")\n",
    "        model.summary()\n",
    "\n",
    "        return model\n",
    "\n",
    "    except Exception as e:\n",
    "        print(f\"Error creating Xception+LSTM model: {e}\")\n",
    "        return None\n"
   ]
  },
  {
   "cell_type": "code",
   "execution_count": 19,
   "id": "4a3047be",
   "metadata": {
    "execution": {
     "iopub.execute_input": "2025-07-07T08:44:17.013547Z",
     "iopub.status.busy": "2025-07-07T08:44:17.013264Z",
     "iopub.status.idle": "2025-07-07T08:44:21.410528Z",
     "shell.execute_reply": "2025-07-07T08:44:21.409833Z"
    },
    "papermill": {
     "duration": 4.411096,
     "end_time": "2025-07-07T08:44:21.411675",
     "exception": false,
     "start_time": "2025-07-07T08:44:17.000579",
     "status": "completed"
    },
    "tags": []
   },
   "outputs": [
    {
     "name": "stdout",
     "output_type": "stream",
     "text": [
      "Pre-loading Xception weights...\n"
     ]
    },
    {
     "name": "stderr",
     "output_type": "stream",
     "text": [
      "I0000 00:00:1751877858.608002      19 gpu_device.cc:2022] Created device /job:localhost/replica:0/task:0/device:GPU:0 with 13942 MB memory:  -> device: 0, name: Tesla T4, pci bus id: 0000:00:04.0, compute capability: 7.5\n",
      "I0000 00:00:1751877858.608689      19 gpu_device.cc:2022] Created device /job:localhost/replica:0/task:0/device:GPU:1 with 13942 MB memory:  -> device: 1, name: Tesla T4, pci bus id: 0000:00:05.0, compute capability: 7.5\n"
     ]
    },
    {
     "name": "stdout",
     "output_type": "stream",
     "text": [
      "Downloading data from https://storage.googleapis.com/tensorflow/keras-applications/xception/xception_weights_tf_dim_ordering_tf_kernels_notop.h5\n",
      "\u001b[1m83683744/83683744\u001b[0m \u001b[32m━━━━━━━━━━━━━━━━━━━━\u001b[0m\u001b[37m\u001b[0m \u001b[1m0s\u001b[0m 0us/step\n",
      "Weights loaded successfully!\n"
     ]
    }
   ],
   "source": [
    "# donwload model weights\n",
    "from tensorflow.keras.applications import Xception\n",
    "print(\"Pre-loading Xception weights...\")\n",
    "base_model = Xception(weights='imagenet', include_top=False, input_shape=(IMAGE_HEIGHT, IMAGE_WIDTH, 3))\n",
    "print(\"Weights loaded successfully!\")"
   ]
  },
  {
   "cell_type": "markdown",
   "id": "7037b32f",
   "metadata": {
    "papermill": {
     "duration": 0.013414,
     "end_time": "2025-07-07T08:44:21.437968",
     "exception": false,
     "start_time": "2025-07-07T08:44:21.424554",
     "status": "completed"
    },
    "tags": []
   },
   "source": [
    "# 📌 Execution\n",
    "## Creating Dataset\n",
    "The following functions are executed\n",
    "- `frame extraction`\n",
    "- `resize`\n",
    "\n",
    "which returns:\n",
    "- `features` - `np.array` of all the videos\n",
    "- `labels` - `np.array` of all the class labels"
   ]
  },
  {
   "cell_type": "code",
   "execution_count": 20,
   "id": "0236f0d1",
   "metadata": {
    "execution": {
     "iopub.execute_input": "2025-07-07T08:44:21.464844Z",
     "iopub.status.busy": "2025-07-07T08:44:21.464096Z",
     "iopub.status.idle": "2025-07-07T08:44:36.395664Z",
     "shell.execute_reply": "2025-07-07T08:44:36.394966Z"
    },
    "papermill": {
     "duration": 14.945753,
     "end_time": "2025-07-07T08:44:36.396804",
     "exception": false,
     "start_time": "2025-07-07T08:44:21.451051",
     "status": "completed"
    },
    "tags": []
   },
   "outputs": [
    {
     "name": "stdout",
     "output_type": "stream",
     "text": [
      "Class: Basketball\n",
      "Extracting frames from file 20: v_Basketball_g10_c05.avi\n",
      "Class: Biking\n",
      "Extracting frames from file 20: v_Biking_g19_c03.avi\n",
      "Class: Diving\n",
      "Extracting frames from file 20: v_Diving_g13_c01.avi\n",
      "Class: GolfSwing\n",
      "Extracting frames from file 20: v_GolfSwing_g05_c07.avi\n",
      "Class: HorseRiding\n",
      "Extracting frames from file 20: v_HorseRiding_g01_c08.avi\n",
      "Class: Skiing\n",
      "Extracting frames from file 20: v_Skiing_g09_c01.avi\n",
      "Class: SkateBoarding\n",
      "Extracting frames from file 20: v_SkateBoarding_g07_c04.avi\n",
      "Class: Swing\n",
      "Extracting frames from file 20: v_Swing_g20_c04.avi\n",
      "Class: TennisSwing\n",
      "Extracting frames from file 20: v_TennisSwing_g04_c05.avi\n",
      "Class: TrampolineJumping\n",
      "Extracting frames from file 20: v_TrampolineJumping_g18_c04.avi\n",
      "Class: WalkingWithDog\n",
      "Extracting frames from file 20: v_WalkingWithDog_g05_c02.avi\n",
      "Dataset created with 220 videos\n",
      "Features shape: (220, 15, 128, 128, 3)\n",
      "Labels shape: (220,)\n"
     ]
    },
    {
     "data": {
      "text/plain": [
       "((220, 15, 128, 128, 3), (220,))"
      ]
     },
     "execution_count": 20,
     "metadata": {},
     "output_type": "execute_result"
    }
   ],
   "source": [
    "# RUN Create the dataset with explicit parameters\n",
    "try:\n",
    "    videos, labels = create_dataset(\n",
    "        dataset_dir=DATASET_DIR,\n",
    "        classes_list=CLASSES_LIST,\n",
    "        sequence_length=SEQUENCE_LENGTH,\n",
    "        image_height=IMAGE_HEIGHT,\n",
    "        image_width=IMAGE_WIDTH,\n",
    "        # Limit to 10 videos per class to manage memory\n",
    "        augmentations=True,\n",
    "        max_videos_per_class=MAX_VIDEO_PER_CLASS\n",
    "    )\n",
    "except FileNotFoundError as e:\n",
    "    print(f\"Error: {e}\")\n",
    "except ValueError as e:\n",
    "    print(f\"Error: {e}\")\n",
    "except Exception as e:\n",
    "    print(f\"Unexpected error: {e}\")\n",
    "\n",
    "videos.shape, labels.shape"
   ]
  },
  {
   "cell_type": "code",
   "execution_count": 21,
   "id": "b7f19cf2",
   "metadata": {
    "execution": {
     "iopub.execute_input": "2025-07-07T08:44:36.441845Z",
     "iopub.status.busy": "2025-07-07T08:44:36.441133Z",
     "iopub.status.idle": "2025-07-07T08:44:36.445694Z",
     "shell.execute_reply": "2025-07-07T08:44:36.444881Z"
    },
    "papermill": {
     "duration": 0.028144,
     "end_time": "2025-07-07T08:44:36.446913",
     "exception": false,
     "start_time": "2025-07-07T08:44:36.418769",
     "status": "completed"
    },
    "tags": []
   },
   "outputs": [
    {
     "name": "stdout",
     "output_type": "stream",
     "text": [
      "Total 220 videos and 220 classes\n"
     ]
    }
   ],
   "source": [
    "video_generator = VideoDataGenerator(\n",
    "    videos=videos,\n",
    "    labels=labels,\n",
    "    batch_size=BATCH_SIZE\n",
    ")"
   ]
  },
  {
   "cell_type": "code",
   "execution_count": 22,
   "id": "6f7a64f3",
   "metadata": {
    "execution": {
     "iopub.execute_input": "2025-07-07T08:44:36.491127Z",
     "iopub.status.busy": "2025-07-07T08:44:36.490911Z",
     "iopub.status.idle": "2025-07-07T08:44:36.510720Z",
     "shell.execute_reply": "2025-07-07T08:44:36.509995Z"
    },
    "papermill": {
     "duration": 0.043386,
     "end_time": "2025-07-07T08:44:36.511922",
     "exception": false,
     "start_time": "2025-07-07T08:44:36.468536",
     "status": "completed"
    },
    "tags": []
   },
   "outputs": [
    {
     "data": {
      "text/plain": [
       "((16, 15, 128, 128, 3), (16,))"
      ]
     },
     "execution_count": 22,
     "metadata": {},
     "output_type": "execute_result"
    }
   ],
   "source": [
    "videos, labels = video_generator[0]\n",
    "\n",
    "videos.shape, labels.shape"
   ]
  },
  {
   "cell_type": "code",
   "execution_count": 23,
   "id": "3fb4796b",
   "metadata": {
    "execution": {
     "iopub.execute_input": "2025-07-07T08:44:36.557831Z",
     "iopub.status.busy": "2025-07-07T08:44:36.557569Z",
     "iopub.status.idle": "2025-07-07T08:44:36.561600Z",
     "shell.execute_reply": "2025-07-07T08:44:36.560887Z"
    },
    "papermill": {
     "duration": 0.027936,
     "end_time": "2025-07-07T08:44:36.562630",
     "exception": false,
     "start_time": "2025-07-07T08:44:36.534694",
     "status": "completed"
    },
    "tags": []
   },
   "outputs": [
    {
     "name": "stdout",
     "output_type": "stream",
     "text": [
      "Total videos: 220, Videos per batch: 14\n"
     ]
    }
   ],
   "source": [
    "print(f\"Total videos: {len(video_generator.videos)}, Videos per batch: {len(video_generator)}\") "
   ]
  },
  {
   "cell_type": "code",
   "execution_count": 24,
   "id": "95bab260",
   "metadata": {
    "execution": {
     "iopub.execute_input": "2025-07-07T08:44:36.607282Z",
     "iopub.status.busy": "2025-07-07T08:44:36.607058Z",
     "iopub.status.idle": "2025-07-07T08:44:50.802492Z",
     "shell.execute_reply": "2025-07-07T08:44:50.801618Z"
    },
    "papermill": {
     "duration": 14.218933,
     "end_time": "2025-07-07T08:44:50.803700",
     "exception": false,
     "start_time": "2025-07-07T08:44:36.584767",
     "status": "completed"
    },
    "tags": []
   },
   "outputs": [
    {
     "name": "stdout",
     "output_type": "stream",
     "text": [
      "Total 220 augmented videos generated\n",
      "Ready to be merged with original videos...\n"
     ]
    }
   ],
   "source": [
    "apply_augmentation(segmentation_frames, video_generator)"
   ]
  },
  {
   "cell_type": "code",
   "execution_count": 25,
   "id": "df81b1a4",
   "metadata": {
    "execution": {
     "iopub.execute_input": "2025-07-07T08:44:50.865278Z",
     "iopub.status.busy": "2025-07-07T08:44:50.865038Z",
     "iopub.status.idle": "2025-07-07T08:44:50.868970Z",
     "shell.execute_reply": "2025-07-07T08:44:50.868291Z"
    },
    "papermill": {
     "duration": 0.034775,
     "end_time": "2025-07-07T08:44:50.870147",
     "exception": false,
     "start_time": "2025-07-07T08:44:50.835372",
     "status": "completed"
    },
    "tags": []
   },
   "outputs": [
    {
     "name": "stdout",
     "output_type": "stream",
     "text": [
      "Total segmented videos: 220 , Original Videos: 220\n"
     ]
    }
   ],
   "source": [
    "print(f\"Total segmented videos: {len(video_generator.temp_videos)} , Original Videos: {len(video_generator.videos)}\")"
   ]
  },
  {
   "cell_type": "code",
   "execution_count": 26,
   "id": "7993b6b9",
   "metadata": {
    "execution": {
     "iopub.execute_input": "2025-07-07T08:44:50.930613Z",
     "iopub.status.busy": "2025-07-07T08:44:50.930192Z",
     "iopub.status.idle": "2025-07-07T08:44:50.935667Z",
     "shell.execute_reply": "2025-07-07T08:44:50.935000Z"
    },
    "papermill": {
     "duration": 0.036562,
     "end_time": "2025-07-07T08:44:50.936834",
     "exception": false,
     "start_time": "2025-07-07T08:44:50.900272",
     "status": "completed"
    },
    "tags": []
   },
   "outputs": [
    {
     "name": "stdout",
     "output_type": "stream",
     "text": [
      "Successfully replaced, total original videos - 220 and augmented videos 0\n"
     ]
    }
   ],
   "source": [
    "video_generator.replace_original()"
   ]
  },
  {
   "cell_type": "code",
   "execution_count": 27,
   "id": "f22bc57a",
   "metadata": {
    "execution": {
     "iopub.execute_input": "2025-07-07T08:44:51.000886Z",
     "iopub.status.busy": "2025-07-07T08:44:51.000205Z",
     "iopub.status.idle": "2025-07-07T08:44:51.005382Z",
     "shell.execute_reply": "2025-07-07T08:44:51.004625Z"
    },
    "papermill": {
     "duration": 0.038234,
     "end_time": "2025-07-07T08:44:51.006586",
     "exception": false,
     "start_time": "2025-07-07T08:44:50.968352",
     "status": "completed"
    },
    "tags": []
   },
   "outputs": [
    {
     "data": {
      "text/plain": [
       "(0, 0, 220, 220)"
      ]
     },
     "execution_count": 27,
     "metadata": {},
     "output_type": "execute_result"
    }
   ],
   "source": [
    "len(video_generator.temp_videos), len(video_generator.temp_labels), len(video_generator.videos), len(video_generator.labels)"
   ]
  },
  {
   "cell_type": "code",
   "execution_count": 28,
   "id": "816207a2",
   "metadata": {
    "execution": {
     "iopub.execute_input": "2025-07-07T08:44:51.069713Z",
     "iopub.status.busy": "2025-07-07T08:44:51.069484Z",
     "iopub.status.idle": "2025-07-07T08:44:51.259403Z",
     "shell.execute_reply": "2025-07-07T08:44:51.258717Z"
    },
    "papermill": {
     "duration": 0.222235,
     "end_time": "2025-07-07T08:44:51.260521",
     "exception": false,
     "start_time": "2025-07-07T08:44:51.038286",
     "status": "completed"
    },
    "tags": []
   },
   "outputs": [
    {
     "data": {
      "text/plain": [
       "(220, 15, 128, 128, 3)"
      ]
     },
     "execution_count": 28,
     "metadata": {},
     "output_type": "execute_result"
    }
   ],
   "source": [
    "test = np.array(video_generator.videos)\n",
    "\n",
    "test.shape"
   ]
  },
  {
   "cell_type": "code",
   "execution_count": 29,
   "id": "f9f9d83a",
   "metadata": {
    "execution": {
     "iopub.execute_input": "2025-07-07T08:44:51.320606Z",
     "iopub.status.busy": "2025-07-07T08:44:51.320376Z",
     "iopub.status.idle": "2025-07-07T08:44:51.454942Z",
     "shell.execute_reply": "2025-07-07T08:44:51.454171Z"
    },
    "papermill": {
     "duration": 0.165658,
     "end_time": "2025-07-07T08:44:51.456125",
     "exception": false,
     "start_time": "2025-07-07T08:44:51.290467",
     "status": "completed"
    },
    "tags": []
   },
   "outputs": [
    {
     "data": {
      "image/png": "[encoded data removed]",
      "text/plain": [
       "<Figure size 300x300 with 1 Axes>"
      ]
     },
     "metadata": {},
     "output_type": "display_data"
    }
   ],
   "source": [
    "show_frame(test[1,0])"
   ]
  },
  {
   "cell_type": "code",
   "execution_count": 30,
   "id": "fb3f2d3b",
   "metadata": {
    "execution": {
     "iopub.execute_input": "2025-07-07T08:44:51.518637Z",
     "iopub.status.busy": "2025-07-07T08:44:51.517993Z",
     "iopub.status.idle": "2025-07-07T08:44:51.523366Z",
     "shell.execute_reply": "2025-07-07T08:44:51.522790Z"
    },
    "papermill": {
     "duration": 0.037203,
     "end_time": "2025-07-07T08:44:51.524475",
     "exception": false,
     "start_time": "2025-07-07T08:44:51.487272",
     "status": "completed"
    },
    "tags": []
   },
   "outputs": [
    {
     "data": {
      "text/plain": [
       "(220, 11)"
      ]
     },
     "execution_count": 30,
     "metadata": {},
     "output_type": "execute_result"
    }
   ],
   "source": [
    "from tensorflow.keras.utils import to_categorical\n",
    "\n",
    "one_hot_encoded_labels = to_categorical(video_generator.labels)\n",
    "\n",
    "one_hot_encoded_labels.shape"
   ]
  },
  {
   "cell_type": "code",
   "execution_count": 31,
   "id": "b89afb6e",
   "metadata": {
    "execution": {
     "iopub.execute_input": "2025-07-07T08:44:51.585482Z",
     "iopub.status.busy": "2025-07-07T08:44:51.585237Z",
     "iopub.status.idle": "2025-07-07T08:44:51.773999Z",
     "shell.execute_reply": "2025-07-07T08:44:51.773367Z"
    },
    "papermill": {
     "duration": 0.220626,
     "end_time": "2025-07-07T08:44:51.775146",
     "exception": false,
     "start_time": "2025-07-07T08:44:51.554520",
     "status": "completed"
    },
    "tags": []
   },
   "outputs": [
    {
     "data": {
      "text/plain": [
       "(220, 15, 128, 128, 3)"
      ]
     },
     "execution_count": 31,
     "metadata": {},
     "output_type": "execute_result"
    }
   ],
   "source": [
    "np.array(video_generator.videos).shape"
   ]
  },
  {
   "cell_type": "code",
   "execution_count": 32,
   "id": "657fe6a4",
   "metadata": {
    "execution": {
     "iopub.execute_input": "2025-07-07T08:44:51.836890Z",
     "iopub.status.busy": "2025-07-07T08:44:51.836671Z",
     "iopub.status.idle": "2025-07-07T08:44:52.135447Z",
     "shell.execute_reply": "2025-07-07T08:44:52.134797Z"
    },
    "papermill": {
     "duration": 0.330572,
     "end_time": "2025-07-07T08:44:52.136642",
     "exception": false,
     "start_time": "2025-07-07T08:44:51.806070",
     "status": "completed"
    },
    "tags": []
   },
   "outputs": [
    {
     "data": {
      "text/plain": [
       "((176, 15, 128, 128, 3), (176, 11), (44, 15, 128, 128, 3), (44, 11))"
      ]
     },
     "execution_count": 32,
     "metadata": {},
     "output_type": "execute_result"
    }
   ],
   "source": [
    "# RUN Split the Data into Train ( 75% ) and Test Set ( 25% ).\n",
    "from sklearn.model_selection import train_test_split\n",
    "features_train, features_test, labels_train, labels_test = train_test_split(video_generator.videos,\n",
    "                                                                            one_hot_encoded_labels,\n",
    "                                                                            test_size = TEST_SIZE,\n",
    "                                                                            shuffle = True,\n",
    "                                                                            random_state = seed_constant)\n",
    "\n",
    "\n",
    "features_train= np.array(features_train)\n",
    "labels_train= np.array(labels_train) \n",
    "features_test= np.array(features_test)\n",
    "labels_test=np.array(labels_test)\n",
    "\n",
    "features_train.shape, labels_train.shape, features_test.shape, labels_test.shape"
   ]
  },
  {
   "cell_type": "code",
   "execution_count": 33,
   "id": "3b74086d",
   "metadata": {
    "execution": {
     "iopub.execute_input": "2025-07-07T08:44:52.198036Z",
     "iopub.status.busy": "2025-07-07T08:44:52.197805Z",
     "iopub.status.idle": "2025-07-07T08:44:52.203531Z",
     "shell.execute_reply": "2025-07-07T08:44:52.202976Z"
    },
    "papermill": {
     "duration": 0.037181,
     "end_time": "2025-07-07T08:44:52.204507",
     "exception": false,
     "start_time": "2025-07-07T08:44:52.167326",
     "status": "completed"
    },
    "tags": []
   },
   "outputs": [
    {
     "data": {
      "text/plain": [
       "((140, 15, 128, 128, 3), (140, 11), (36, 15, 128, 128, 3), (36, 11))"
      ]
     },
     "execution_count": 33,
     "metadata": {},
     "output_type": "execute_result"
    }
   ],
   "source": [
    "# Assuming features_train and labels_train are defined\n",
    "train_set = 1-VALIDATION_SPLIT\n",
    "\n",
    "train_video_frames, val_video_frames = features_train[:int(train_set * len(features_train))], features_train[int(train_set * len(features_train)):]\n",
    "train_labels, val_labels = labels_train[:int(train_set * len(labels_train))], labels_train[int(train_set * len(labels_train)):]\n",
    "\n",
    "train_video_frames.shape, train_labels.shape, val_video_frames.shape, val_labels.shape"
   ]
  },
  {
   "cell_type": "code",
   "execution_count": 34,
   "id": "98a85706",
   "metadata": {
    "execution": {
     "iopub.execute_input": "2025-07-07T08:44:52.264997Z",
     "iopub.status.busy": "2025-07-07T08:44:52.264432Z",
     "iopub.status.idle": "2025-07-07T08:44:52.269243Z",
     "shell.execute_reply": "2025-07-07T08:44:52.268623Z"
    },
    "papermill": {
     "duration": 0.035837,
     "end_time": "2025-07-07T08:44:52.270201",
     "exception": false,
     "start_time": "2025-07-07T08:44:52.234364",
     "status": "completed"
    },
    "tags": []
   },
   "outputs": [
    {
     "name": "stdout",
     "output_type": "stream",
     "text": [
      "Training Set: Total 140 videos and 140 classes\n",
      "Testing Set: Total 44 videos and 44 classes\n",
      "Validation Set: Total 36 videos and 36 classes\n"
     ]
    }
   ],
   "source": [
    "print(\"Training Set: \", end=\"\")\n",
    "train_gen = VideoDataGenerator(\n",
    "    videos=train_video_frames,\n",
    "    labels=train_labels,\n",
    "    batch_size=BATCH_SIZE\n",
    ")\n",
    "\n",
    "print(\"Testing Set: \", end=\"\")\n",
    "test_gen = VideoDataGenerator(\n",
    "    videos=features_test,\n",
    "    labels=labels_test,\n",
    "    batch_size=BATCH_SIZE\n",
    ")\n",
    "\n",
    "\n",
    "print(\"Validation Set: \", end=\"\")\n",
    "val_gen = VideoDataGenerator(\n",
    "    videos=val_video_frames,\n",
    "    labels=val_labels,\n",
    "    batch_size=BATCH_SIZE\n",
    ")\n"
   ]
  },
  {
   "cell_type": "markdown",
   "id": "2f3d6168",
   "metadata": {
    "papermill": {
     "duration": 0.030084,
     "end_time": "2025-07-07T08:44:52.330349",
     "exception": false,
     "start_time": "2025-07-07T08:44:52.300265",
     "status": "completed"
    },
    "tags": []
   },
   "source": [
    "## Apply ***horizontal flip*** (Augmentation)"
   ]
  },
  {
   "cell_type": "code",
   "execution_count": 35,
   "id": "d2a21b3e",
   "metadata": {
    "execution": {
     "iopub.execute_input": "2025-07-07T08:44:52.391432Z",
     "iopub.status.busy": "2025-07-07T08:44:52.390765Z",
     "iopub.status.idle": "2025-07-07T08:44:54.069593Z",
     "shell.execute_reply": "2025-07-07T08:44:54.068833Z"
    },
    "papermill": {
     "duration": 1.710805,
     "end_time": "2025-07-07T08:44:54.070948",
     "exception": false,
     "start_time": "2025-07-07T08:44:52.360143",
     "status": "completed"
    },
    "tags": []
   },
   "outputs": [
    {
     "name": "stdout",
     "output_type": "stream",
     "text": [
      "Total 140 augmented videos generated\n",
      "Ready to be merged with original videos...\n"
     ]
    }
   ],
   "source": [
    "apply_augmentation(horizontal_flip, train_gen)"
   ]
  },
  {
   "cell_type": "code",
   "execution_count": 36,
   "id": "23035f27",
   "metadata": {
    "execution": {
     "iopub.execute_input": "2025-07-07T08:44:54.144955Z",
     "iopub.status.busy": "2025-07-07T08:44:54.144290Z",
     "iopub.status.idle": "2025-07-07T08:44:54.148430Z",
     "shell.execute_reply": "2025-07-07T08:44:54.147804Z"
    },
    "papermill": {
     "duration": 0.041952,
     "end_time": "2025-07-07T08:44:54.149506",
     "exception": false,
     "start_time": "2025-07-07T08:44:54.107554",
     "status": "completed"
    },
    "tags": []
   },
   "outputs": [
    {
     "name": "stdout",
     "output_type": "stream",
     "text": [
      "Checking Total Videos and Class Count: 140, 140\n",
      "PENDING Total Videos and Class Count: 140, 140\n"
     ]
    }
   ],
   "source": [
    "print(f\"Checking Total Videos and Class Count: {len(train_gen.videos)}, {len(train_gen.labels)}\")\n",
    "print(f\"PENDING Total Videos and Class Count: {len(train_gen.temp_videos)}, {len(train_gen.temp_labels)}\")"
   ]
  },
  {
   "cell_type": "code",
   "execution_count": 37,
   "id": "b0ba3a61",
   "metadata": {
    "execution": {
     "iopub.execute_input": "2025-07-07T08:44:54.221296Z",
     "iopub.status.busy": "2025-07-07T08:44:54.221077Z",
     "iopub.status.idle": "2025-07-07T08:44:54.224785Z",
     "shell.execute_reply": "2025-07-07T08:44:54.224137Z"
    },
    "papermill": {
     "duration": 0.040766,
     "end_time": "2025-07-07T08:44:54.225781",
     "exception": false,
     "start_time": "2025-07-07T08:44:54.185015",
     "status": "completed"
    },
    "tags": []
   },
   "outputs": [
    {
     "name": "stdout",
     "output_type": "stream",
     "text": [
      "Successfully added - 140 videos and 140 classes.\n",
      "Now Total - 280 videos and 280 classes.\n",
      "PENDING for Augmentations - 0 videos and 0 classes.\n"
     ]
    }
   ],
   "source": [
    "train_gen.confirm()"
   ]
  },
  {
   "cell_type": "markdown",
   "id": "8f8e0c32",
   "metadata": {
    "papermill": {
     "duration": 0.035961,
     "end_time": "2025-07-07T08:44:54.297117",
     "exception": false,
     "start_time": "2025-07-07T08:44:54.261156",
     "status": "completed"
    },
    "tags": []
   },
   "source": [
    "## Apply ***Noise*** (Augmentation)"
   ]
  },
  {
   "cell_type": "code",
   "execution_count": 38,
   "id": "9d6dced7",
   "metadata": {
    "execution": {
     "iopub.execute_input": "2025-07-07T08:44:54.369241Z",
     "iopub.status.busy": "2025-07-07T08:44:54.369024Z",
     "iopub.status.idle": "2025-07-07T08:45:04.904843Z",
     "shell.execute_reply": "2025-07-07T08:45:04.904075Z"
    },
    "papermill": {
     "duration": 10.572975,
     "end_time": "2025-07-07T08:45:04.905965",
     "exception": false,
     "start_time": "2025-07-07T08:44:54.332990",
     "status": "completed"
    },
    "tags": []
   },
   "outputs": [
    {
     "name": "stdout",
     "output_type": "stream",
     "text": [
      "Total 280 augmented videos generated\n",
      "Ready to be merged with original videos...\n"
     ]
    }
   ],
   "source": [
    "apply_augmentation(noise_video, train_gen)"
   ]
  },
  {
   "cell_type": "code",
   "execution_count": 39,
   "id": "5688897f",
   "metadata": {
    "execution": {
     "iopub.execute_input": "2025-07-07T08:45:05.000655Z",
     "iopub.status.busy": "2025-07-07T08:45:05.000405Z",
     "iopub.status.idle": "2025-07-07T08:45:05.004739Z",
     "shell.execute_reply": "2025-07-07T08:45:05.004124Z"
    },
    "papermill": {
     "duration": 0.051887,
     "end_time": "2025-07-07T08:45:05.005798",
     "exception": false,
     "start_time": "2025-07-07T08:45:04.953911",
     "status": "completed"
    },
    "tags": []
   },
   "outputs": [
    {
     "name": "stdout",
     "output_type": "stream",
     "text": [
      "Checking Total Videos and Class Count: 280, 280\n",
      "PENDING Total Videos and Class Count: 280, 280\n"
     ]
    }
   ],
   "source": [
    "print(f\"Checking Total Videos and Class Count: {len(train_gen.videos)}, {len(train_gen.labels)}\")\n",
    "print(f\"PENDING Total Videos and Class Count: {len(train_gen.temp_videos)}, {len(train_gen.temp_labels)}\")"
   ]
  },
  {
   "cell_type": "markdown",
   "id": "29a7417e",
   "metadata": {
    "papermill": {
     "duration": 0.046541,
     "end_time": "2025-07-07T08:45:05.098140",
     "exception": false,
     "start_time": "2025-07-07T08:45:05.051599",
     "status": "completed"
    },
    "tags": []
   },
   "source": [
    "## Apply ***Random Shear x2*** (Augmentation)"
   ]
  },
  {
   "cell_type": "code",
   "execution_count": 40,
   "id": "02724d49",
   "metadata": {
    "execution": {
     "iopub.execute_input": "2025-07-07T08:45:05.191368Z",
     "iopub.status.busy": "2025-07-07T08:45:05.190734Z",
     "iopub.status.idle": "2025-07-07T08:45:38.441854Z",
     "shell.execute_reply": "2025-07-07T08:45:38.441126Z"
    },
    "papermill": {
     "duration": 33.298051,
     "end_time": "2025-07-07T08:45:38.442905",
     "exception": false,
     "start_time": "2025-07-07T08:45:05.144854",
     "status": "completed"
    },
    "tags": []
   },
   "outputs": [
    {
     "name": "stdout",
     "output_type": "stream",
     "text": [
      "Total 560 augmented videos generated\n",
      "Ready to be merged with original videos...\n",
      "Total 840 augmented videos generated\n",
      "Ready to be merged with original videos...\n"
     ]
    }
   ],
   "source": [
    "apply_augmentation(apply_shear_frames, train_gen, shear_right=0)\n",
    "apply_augmentation(apply_shear_frames, train_gen, shear_right=1)"
   ]
  },
  {
   "cell_type": "code",
   "execution_count": 41,
   "id": "6fcbd079",
   "metadata": {
    "execution": {
     "iopub.execute_input": "2025-07-07T08:45:38.578559Z",
     "iopub.status.busy": "2025-07-07T08:45:38.578266Z",
     "iopub.status.idle": "2025-07-07T08:45:38.582468Z",
     "shell.execute_reply": "2025-07-07T08:45:38.581862Z"
    },
    "papermill": {
     "duration": 0.073617,
     "end_time": "2025-07-07T08:45:38.583555",
     "exception": false,
     "start_time": "2025-07-07T08:45:38.509938",
     "status": "completed"
    },
    "tags": []
   },
   "outputs": [
    {
     "name": "stdout",
     "output_type": "stream",
     "text": [
      "Checking Total Videos and Class Count: 280, 280\n",
      "PENDING Total Videos and Class Count: 840, 840\n"
     ]
    }
   ],
   "source": [
    "print(f\"Checking Total Videos and Class Count: {len(train_gen.videos)}, {len(train_gen.labels)}\")\n",
    "print(f\"PENDING Total Videos and Class Count: {len(train_gen.temp_videos)}, {len(train_gen.temp_labels)}\")"
   ]
  },
  {
   "cell_type": "code",
   "execution_count": 42,
   "id": "f0700d71",
   "metadata": {
    "execution": {
     "iopub.execute_input": "2025-07-07T08:45:38.718346Z",
     "iopub.status.busy": "2025-07-07T08:45:38.717823Z",
     "iopub.status.idle": "2025-07-07T08:45:38.721787Z",
     "shell.execute_reply": "2025-07-07T08:45:38.721066Z"
    },
    "papermill": {
     "duration": 0.072794,
     "end_time": "2025-07-07T08:45:38.722918",
     "exception": false,
     "start_time": "2025-07-07T08:45:38.650124",
     "status": "completed"
    },
    "tags": []
   },
   "outputs": [
    {
     "name": "stdout",
     "output_type": "stream",
     "text": [
      "Successfully added - 840 videos and 840 classes.\n",
      "Now Total - 1120 videos and 1120 classes.\n",
      "PENDING for Augmentations - 0 videos and 0 classes.\n"
     ]
    }
   ],
   "source": [
    "# confirm changes to generator\n",
    "train_gen.confirm()"
   ]
  },
  {
   "cell_type": "code",
   "execution_count": 43,
   "id": "331bfcec",
   "metadata": {
    "execution": {
     "iopub.execute_input": "2025-07-07T08:45:38.862560Z",
     "iopub.status.busy": "2025-07-07T08:45:38.861995Z",
     "iopub.status.idle": "2025-07-07T08:45:38.865988Z",
     "shell.execute_reply": "2025-07-07T08:45:38.865343Z"
    },
    "papermill": {
     "duration": 0.077964,
     "end_time": "2025-07-07T08:45:38.867028",
     "exception": false,
     "start_time": "2025-07-07T08:45:38.789064",
     "status": "completed"
    },
    "tags": []
   },
   "outputs": [
    {
     "name": "stdout",
     "output_type": "stream",
     "text": [
      "Checking Video Generator Total Videos and Class Count: 1120, 1120\n"
     ]
    }
   ],
   "source": [
    "print(f\"Checking Video Generator Total Videos and Class Count: {len(train_gen.videos)}, {len(train_gen.labels)}\")"
   ]
  },
  {
   "cell_type": "markdown",
   "id": "5ffedc0d",
   "metadata": {
    "papermill": {
     "duration": 0.094577,
     "end_time": "2025-07-07T08:45:39.074431",
     "exception": false,
     "start_time": "2025-07-07T08:45:38.979854",
     "status": "completed"
    },
    "tags": []
   },
   "source": [
    "## Cheking (Output)"
   ]
  },
  {
   "cell_type": "code",
   "execution_count": 44,
   "id": "56192992",
   "metadata": {
    "execution": {
     "iopub.execute_input": "2025-07-07T08:45:39.210277Z",
     "iopub.status.busy": "2025-07-07T08:45:39.209719Z",
     "iopub.status.idle": "2025-07-07T08:45:39.407154Z",
     "shell.execute_reply": "2025-07-07T08:45:39.406458Z"
    },
    "papermill": {
     "duration": 0.26719,
     "end_time": "2025-07-07T08:45:39.408639",
     "exception": false,
     "start_time": "2025-07-07T08:45:39.141449",
     "status": "completed"
    },
    "tags": []
   },
   "outputs": [
    {
     "name": "stdout",
     "output_type": "stream",
     "text": [
      "(16, 15, 128, 128, 3) (16, 11)\n"
     ]
    },
    {
     "data": {
      "image/png": "[encoded data removed]",
      "text/plain": [
       "<Figure size 1000x500 with 2 Axes>"
      ]
     },
     "metadata": {},
     "output_type": "display_data"
    },
    {
     "name": "stdout",
     "output_type": "stream",
     "text": [
      "Might be two different action, but to check the flipping focus on the door behind.\n"
     ]
    }
   ],
   "source": [
    "# check horizontal flips\n",
    "videos, labels = train_gen[7]\n",
    "videos1, labels1 = train_gen[1]\n",
    "\n",
    "print(videos.shape, labels.shape)\n",
    "\n",
    "show_frame_vs(videos[0,0],videos1[1,0], title1=\"Flipped Frame 1\", title2=\"Non Flipped Frame 1\")\n",
    "print(\"Might be two different action, but to check the flipping focus on the door behind.\")"
   ]
  },
  {
   "cell_type": "markdown",
   "id": "16b00d36",
   "metadata": {
    "papermill": {
     "duration": 0.068506,
     "end_time": "2025-07-07T08:45:39.549400",
     "exception": false,
     "start_time": "2025-07-07T08:45:39.480894",
     "status": "completed"
    },
    "tags": []
   },
   "source": [
    "# 🧪 Test Augmentation (Output)\n",
    "## 🖼️ Horizontal Flip Output"
   ]
  },
  {
   "cell_type": "code",
   "execution_count": 45,
   "id": "0d625f24",
   "metadata": {
    "execution": {
     "iopub.execute_input": "2025-07-07T08:45:39.687817Z",
     "iopub.status.busy": "2025-07-07T08:45:39.687556Z",
     "iopub.status.idle": "2025-07-07T08:45:39.691058Z",
     "shell.execute_reply": "2025-07-07T08:45:39.690346Z"
    },
    "papermill": {
     "duration": 0.073244,
     "end_time": "2025-07-07T08:45:39.692217",
     "exception": false,
     "start_time": "2025-07-07T08:45:39.618973",
     "status": "completed"
    },
    "tags": []
   },
   "outputs": [],
   "source": [
    "# flipped_video_1 = horizontal_flip(features[0])\n",
    "\n",
    "# flipped_video_1=np.asarray(flipped_video_1)\n",
    "\n",
    "# show_frame(flipped_video_1[0])\n",
    "# flipped_video_1.shape"
   ]
  },
  {
   "cell_type": "markdown",
   "id": "47a913e5",
   "metadata": {
    "papermill": {
     "duration": 0.067478,
     "end_time": "2025-07-07T08:45:39.828510",
     "exception": false,
     "start_time": "2025-07-07T08:45:39.761032",
     "status": "completed"
    },
    "tags": []
   },
   "source": [
    "## 🖼️ Salt and Pepper Noise Output"
   ]
  },
  {
   "cell_type": "code",
   "execution_count": 46,
   "id": "fc97d8e3",
   "metadata": {
    "execution": {
     "iopub.execute_input": "2025-07-07T08:45:39.965428Z",
     "iopub.status.busy": "2025-07-07T08:45:39.965139Z",
     "iopub.status.idle": "2025-07-07T08:45:39.968353Z",
     "shell.execute_reply": "2025-07-07T08:45:39.967827Z"
    },
    "papermill": {
     "duration": 0.073431,
     "end_time": "2025-07-07T08:45:39.969339",
     "exception": false,
     "start_time": "2025-07-07T08:45:39.895908",
     "status": "completed"
    },
    "tags": []
   },
   "outputs": [],
   "source": [
    "# noised_video = noise_video(features[0])\n",
    "\n",
    "# print(noised_video.shape)\n",
    "# show_frame(noised_video[0])"
   ]
  },
  {
   "cell_type": "markdown",
   "id": "460ac036",
   "metadata": {
    "papermill": {
     "duration": 0.068027,
     "end_time": "2025-07-07T08:45:40.104102",
     "exception": false,
     "start_time": "2025-07-07T08:45:40.036075",
     "status": "completed"
    },
    "tags": []
   },
   "source": [
    "## 🖼️ Random Shear Output"
   ]
  },
  {
   "cell_type": "code",
   "execution_count": 47,
   "id": "b0aa0ae4",
   "metadata": {
    "execution": {
     "iopub.execute_input": "2025-07-07T08:45:40.242243Z",
     "iopub.status.busy": "2025-07-07T08:45:40.241720Z",
     "iopub.status.idle": "2025-07-07T08:45:40.244752Z",
     "shell.execute_reply": "2025-07-07T08:45:40.244218Z"
    },
    "papermill": {
     "duration": 0.074107,
     "end_time": "2025-07-07T08:45:40.245940",
     "exception": false,
     "start_time": "2025-07-07T08:45:40.171833",
     "status": "completed"
    },
    "tags": []
   },
   "outputs": [],
   "source": [
    "# print(features.shape)\n",
    "\n",
    "# sheared_1 = apply_shear_frames(features[0], shear_right=0)\n",
    "# sheared_2 = apply_shear_frames(features[0], shear_right=1)\n",
    "\n",
    "# sheared_1 = np.asarray(sheared_1)\n",
    "# sheared_2 = np.asarray(sheared_2)\n",
    "\n",
    "# print(sheared_1.shape)\n",
    "# show_frame(sheared_1[0])\n",
    "# show_frame(sheared_2[0])"
   ]
  },
  {
   "cell_type": "markdown",
   "id": "fb50f627",
   "metadata": {
    "papermill": {
     "duration": 0.067711,
     "end_time": "2025-07-07T08:45:40.382239",
     "exception": false,
     "start_time": "2025-07-07T08:45:40.314528",
     "status": "completed"
    },
    "tags": []
   },
   "source": [
    "# 📌 Preparing Data for Training"
   ]
  },
  {
   "cell_type": "code",
   "execution_count": 48,
   "id": "196bef08",
   "metadata": {
    "execution": {
     "iopub.execute_input": "2025-07-07T08:45:40.517642Z",
     "iopub.status.busy": "2025-07-07T08:45:40.517099Z",
     "iopub.status.idle": "2025-07-07T08:45:40.923104Z",
     "shell.execute_reply": "2025-07-07T08:45:40.922535Z"
    },
    "papermill": {
     "duration": 0.475453,
     "end_time": "2025-07-07T08:45:40.924205",
     "exception": false,
     "start_time": "2025-07-07T08:45:40.448752",
     "status": "completed"
    },
    "tags": []
   },
   "outputs": [],
   "source": [
    "# Clear previous session to free memory\n",
    "import gc\n",
    "\n",
    "gc.collect()\n",
    "tf.keras.backend.clear_session()"
   ]
  },
  {
   "cell_type": "code",
   "execution_count": 49,
   "id": "070cd8af",
   "metadata": {
    "execution": {
     "iopub.execute_input": "2025-07-07T08:45:41.062557Z",
     "iopub.status.busy": "2025-07-07T08:45:41.061936Z",
     "iopub.status.idle": "2025-07-07T08:45:41.272117Z",
     "shell.execute_reply": "2025-07-07T08:45:41.271535Z"
    },
    "papermill": {
     "duration": 0.279586,
     "end_time": "2025-07-07T08:45:41.273112",
     "exception": false,
     "start_time": "2025-07-07T08:45:40.993526",
     "status": "completed"
    },
    "tags": []
   },
   "outputs": [
    {
     "data": {
      "text/plain": [
       "0"
      ]
     },
     "execution_count": 49,
     "metadata": {},
     "output_type": "execute_result"
    }
   ],
   "source": [
    "gc.collect()"
   ]
  },
  {
   "cell_type": "markdown",
   "id": "9e445e66",
   "metadata": {
    "papermill": {
     "duration": 0.06676,
     "end_time": "2025-07-07T08:45:41.407703",
     "exception": false,
     "start_time": "2025-07-07T08:45:41.340943",
     "status": "completed"
    },
    "tags": []
   },
   "source": [
    "## Compute Class Weight"
   ]
  },
  {
   "cell_type": "code",
   "execution_count": 50,
   "id": "f670410b",
   "metadata": {
    "execution": {
     "iopub.execute_input": "2025-07-07T08:45:41.544156Z",
     "iopub.status.busy": "2025-07-07T08:45:41.543649Z",
     "iopub.status.idle": "2025-07-07T08:45:41.549846Z",
     "shell.execute_reply": "2025-07-07T08:45:41.549110Z"
    },
    "papermill": {
     "duration": 0.076507,
     "end_time": "2025-07-07T08:45:41.551204",
     "exception": false,
     "start_time": "2025-07-07T08:45:41.474697",
     "status": "completed"
    },
    "tags": []
   },
   "outputs": [
    {
     "name": "stdout",
     "output_type": "stream",
     "text": [
      "Class weights: {0: 1.0, 1: 1.0, 2: 1.0, 3: 1.0, 4: 1.0, 5: 1.0, 6: 1.0, 7: 1.0, 8: 1.0, 9: 1.0, 10: 1.0}\n"
     ]
    }
   ],
   "source": [
    "from sklearn.utils.class_weight import compute_class_weight\n",
    "import numpy as np\n",
    "\n",
    "# Assuming y_int are integer labels (not one-hot)\n",
    "y_int = np.argmax(one_hot_encoded_labels, axis=1)  # or just integer labels if you have them\n",
    "\n",
    "classes = np.arange(NO_OF_CLASSES)  # e.g. np.arange(16)\n",
    "class_weights_values = compute_class_weight(class_weight='balanced', classes=classes, y=y_int)\n",
    "\n",
    "class_weights = dict(zip(classes, class_weights_values))\n",
    "\n",
    "print(\"Class weights:\", class_weights)\n"
   ]
  },
  {
   "cell_type": "code",
   "execution_count": 51,
   "id": "7ad1551b",
   "metadata": {
    "execution": {
     "iopub.execute_input": "2025-07-07T08:45:41.685695Z",
     "iopub.status.busy": "2025-07-07T08:45:41.685482Z",
     "iopub.status.idle": "2025-07-07T08:45:41.888897Z",
     "shell.execute_reply": "2025-07-07T08:45:41.888284Z"
    },
    "papermill": {
     "duration": 0.271178,
     "end_time": "2025-07-07T08:45:41.889973",
     "exception": false,
     "start_time": "2025-07-07T08:45:41.618795",
     "status": "completed"
    },
    "tags": []
   },
   "outputs": [],
   "source": [
    "gc.collect()\n",
    "del videos, one_hot_encoded_labels, labels_train\n",
    "del features_train, val_labels, train_labels\n",
    "del val_video_frames, train_video_frames"
   ]
  },
  {
   "cell_type": "markdown",
   "id": "fa4f06a0",
   "metadata": {
    "papermill": {
     "duration": 0.067756,
     "end_time": "2025-07-07T08:45:42.026365",
     "exception": false,
     "start_time": "2025-07-07T08:45:41.958609",
     "status": "completed"
    },
    "tags": []
   },
   "source": [
    "# ✨ Model Execution\n",
    "## Creating Model"
   ]
  },
  {
   "cell_type": "code",
   "execution_count": 52,
   "id": "80513980",
   "metadata": {
    "execution": {
     "iopub.execute_input": "2025-07-07T08:45:42.211519Z",
     "iopub.status.busy": "2025-07-07T08:45:42.210934Z",
     "iopub.status.idle": "2025-07-07T08:45:43.541036Z",
     "shell.execute_reply": "2025-07-07T08:45:43.540346Z"
    },
    "papermill": {
     "duration": 1.448549,
     "end_time": "2025-07-07T08:45:43.542010",
     "exception": false,
     "start_time": "2025-07-07T08:45:42.093461",
     "status": "completed"
    },
    "tags": []
   },
   "outputs": [
    {
     "name": "stdout",
     "output_type": "stream",
     "text": [
      "Loading Xception base model...\n"
     ]
    },
    {
     "name": "stderr",
     "output_type": "stream",
     "text": [
      "/usr/local/lib/python3.11/dist-packages/keras/src/layers/core/wrapper.py:27: UserWarning: Do not pass an `input_shape`/`input_dim` argument to a layer. When using Sequential models, prefer using an `Input(shape)` object as the first layer in the model instead.\n",
      "  super().__init__(**kwargs)\n"
     ]
    },
    {
     "name": "stdout",
     "output_type": "stream",
     "text": [
      "Xception+LSTM model (mirroring VGG19 architecture) created successfully!\n"
     ]
    },
    {
     "data": {
      "text/html": [
       "<pre style=\"white-space:pre;overflow-x:auto;line-height:normal;font-family:Menlo,'DejaVu Sans Mono',consolas,'Courier New',monospace\"><span style=\"font-weight: bold\">Model: \"sequential\"</span>\n",
       "</pre>\n"
      ],
      "text/plain": [
       "\u001b[1mModel: \"sequential\"\u001b[0m\n"
      ]
     },
     "metadata": {},
     "output_type": "display_data"
    },
    {
     "data": {
      "text/html": [
       "<pre style=\"white-space:pre;overflow-x:auto;line-height:normal;font-family:Menlo,'DejaVu Sans Mono',consolas,'Courier New',monospace\">┏━━━━━━━━━━━━━━━━━━━━━━━━━━━━━━━━━━━━━━┳━━━━━━━━━━━━━━━━━━━━━━━━━━━━━┳━━━━━━━━━━━━━━━━━┓\n",
       "┃<span style=\"font-weight: bold\"> Layer (type)                         </span>┃<span style=\"font-weight: bold\"> Output Shape                </span>┃<span style=\"font-weight: bold\">         Param # </span>┃\n",
       "┡━━━━━━━━━━━━━━━━━━━━━━━━━━━━━━━━━━━━━━╇━━━━━━━━━━━━━━━━━━━━━━━━━━━━━╇━━━━━━━━━━━━━━━━━┩\n",
       "│ time_distributed_xception            │ (<span style=\"color: #00d7ff; text-decoration-color: #00d7ff\">None</span>, <span style=\"color: #00af00; text-decoration-color: #00af00\">15</span>, <span style=\"color: #00af00; text-decoration-color: #00af00\">4</span>, <span style=\"color: #00af00; text-decoration-color: #00af00\">4</span>, <span style=\"color: #00af00; text-decoration-color: #00af00\">2048</span>)      │      <span style=\"color: #00af00; text-decoration-color: #00af00\">20,861,480</span> │\n",
       "│ (<span style=\"color: #0087ff; text-decoration-color: #0087ff\">TimeDistributed</span>)                    │                             │                 │\n",
       "├──────────────────────────────────────┼─────────────────────────────┼─────────────────┤\n",
       "│ time_distributed_pooling             │ (<span style=\"color: #00d7ff; text-decoration-color: #00d7ff\">None</span>, <span style=\"color: #00af00; text-decoration-color: #00af00\">15</span>, <span style=\"color: #00af00; text-decoration-color: #00af00\">2048</span>)            │               <span style=\"color: #00af00; text-decoration-color: #00af00\">0</span> │\n",
       "│ (<span style=\"color: #0087ff; text-decoration-color: #0087ff\">TimeDistributed</span>)                    │                             │                 │\n",
       "├──────────────────────────────────────┼─────────────────────────────┼─────────────────┤\n",
       "│ lstm_xception (<span style=\"color: #0087ff; text-decoration-color: #0087ff\">LSTM</span>)                 │ (<span style=\"color: #00d7ff; text-decoration-color: #00d7ff\">None</span>, <span style=\"color: #00af00; text-decoration-color: #00af00\">512</span>)                 │       <span style=\"color: #00af00; text-decoration-color: #00af00\">5,244,928</span> │\n",
       "├──────────────────────────────────────┼─────────────────────────────┼─────────────────┤\n",
       "│ batch_normalization_xception         │ (<span style=\"color: #00d7ff; text-decoration-color: #00d7ff\">None</span>, <span style=\"color: #00af00; text-decoration-color: #00af00\">512</span>)                 │           <span style=\"color: #00af00; text-decoration-color: #00af00\">2,048</span> │\n",
       "│ (<span style=\"color: #0087ff; text-decoration-color: #0087ff\">BatchNormalization</span>)                 │                             │                 │\n",
       "├──────────────────────────────────────┼─────────────────────────────┼─────────────────┤\n",
       "│ dropout_lstm_xception (<span style=\"color: #0087ff; text-decoration-color: #0087ff\">Dropout</span>)      │ (<span style=\"color: #00d7ff; text-decoration-color: #00d7ff\">None</span>, <span style=\"color: #00af00; text-decoration-color: #00af00\">512</span>)                 │               <span style=\"color: #00af00; text-decoration-color: #00af00\">0</span> │\n",
       "├──────────────────────────────────────┼─────────────────────────────┼─────────────────┤\n",
       "│ dense_xception_1 (<span style=\"color: #0087ff; text-decoration-color: #0087ff\">Dense</span>)             │ (<span style=\"color: #00d7ff; text-decoration-color: #00d7ff\">None</span>, <span style=\"color: #00af00; text-decoration-color: #00af00\">512</span>)                 │         <span style=\"color: #00af00; text-decoration-color: #00af00\">262,656</span> │\n",
       "├──────────────────────────────────────┼─────────────────────────────┼─────────────────┤\n",
       "│ dropout_dense_xception_1 (<span style=\"color: #0087ff; text-decoration-color: #0087ff\">Dropout</span>)   │ (<span style=\"color: #00d7ff; text-decoration-color: #00d7ff\">None</span>, <span style=\"color: #00af00; text-decoration-color: #00af00\">512</span>)                 │               <span style=\"color: #00af00; text-decoration-color: #00af00\">0</span> │\n",
       "├──────────────────────────────────────┼─────────────────────────────┼─────────────────┤\n",
       "│ dense_xception_2 (<span style=\"color: #0087ff; text-decoration-color: #0087ff\">Dense</span>)             │ (<span style=\"color: #00d7ff; text-decoration-color: #00d7ff\">None</span>, <span style=\"color: #00af00; text-decoration-color: #00af00\">128</span>)                 │          <span style=\"color: #00af00; text-decoration-color: #00af00\">65,664</span> │\n",
       "├──────────────────────────────────────┼─────────────────────────────┼─────────────────┤\n",
       "│ dropout_dense_xception_2 (<span style=\"color: #0087ff; text-decoration-color: #0087ff\">Dropout</span>)   │ (<span style=\"color: #00d7ff; text-decoration-color: #00d7ff\">None</span>, <span style=\"color: #00af00; text-decoration-color: #00af00\">128</span>)                 │               <span style=\"color: #00af00; text-decoration-color: #00af00\">0</span> │\n",
       "├──────────────────────────────────────┼─────────────────────────────┼─────────────────┤\n",
       "│ output_xception (<span style=\"color: #0087ff; text-decoration-color: #0087ff\">Dense</span>)              │ (<span style=\"color: #00d7ff; text-decoration-color: #00d7ff\">None</span>, <span style=\"color: #00af00; text-decoration-color: #00af00\">11</span>)                  │           <span style=\"color: #00af00; text-decoration-color: #00af00\">1,419</span> │\n",
       "└──────────────────────────────────────┴─────────────────────────────┴─────────────────┘\n",
       "</pre>\n"
      ],
      "text/plain": [
       "┏━━━━━━━━━━━━━━━━━━━━━━━━━━━━━━━━━━━━━━┳━━━━━━━━━━━━━━━━━━━━━━━━━━━━━┳━━━━━━━━━━━━━━━━━┓\n",
       "┃\u001b[1m \u001b[0m\u001b[1mLayer (type)                        \u001b[0m\u001b[1m \u001b[0m┃\u001b[1m \u001b[0m\u001b[1mOutput Shape               \u001b[0m\u001b[1m \u001b[0m┃\u001b[1m \u001b[0m\u001b[1m        Param #\u001b[0m\u001b[1m \u001b[0m┃\n",
       "┡━━━━━━━━━━━━━━━━━━━━━━━━━━━━━━━━━━━━━━╇━━━━━━━━━━━━━━━━━━━━━━━━━━━━━╇━━━━━━━━━━━━━━━━━┩\n",
       "│ time_distributed_xception            │ (\u001b[38;5;45mNone\u001b[0m, \u001b[38;5;34m15\u001b[0m, \u001b[38;5;34m4\u001b[0m, \u001b[38;5;34m4\u001b[0m, \u001b[38;5;34m2048\u001b[0m)      │      \u001b[38;5;34m20,861,480\u001b[0m │\n",
       "│ (\u001b[38;5;33mTimeDistributed\u001b[0m)                    │                             │                 │\n",
       "├──────────────────────────────────────┼─────────────────────────────┼─────────────────┤\n",
       "│ time_distributed_pooling             │ (\u001b[38;5;45mNone\u001b[0m, \u001b[38;5;34m15\u001b[0m, \u001b[38;5;34m2048\u001b[0m)            │               \u001b[38;5;34m0\u001b[0m │\n",
       "│ (\u001b[38;5;33mTimeDistributed\u001b[0m)                    │                             │                 │\n",
       "├──────────────────────────────────────┼─────────────────────────────┼─────────────────┤\n",
       "│ lstm_xception (\u001b[38;5;33mLSTM\u001b[0m)                 │ (\u001b[38;5;45mNone\u001b[0m, \u001b[38;5;34m512\u001b[0m)                 │       \u001b[38;5;34m5,244,928\u001b[0m │\n",
       "├──────────────────────────────────────┼─────────────────────────────┼─────────────────┤\n",
       "│ batch_normalization_xception         │ (\u001b[38;5;45mNone\u001b[0m, \u001b[38;5;34m512\u001b[0m)                 │           \u001b[38;5;34m2,048\u001b[0m │\n",
       "│ (\u001b[38;5;33mBatchNormalization\u001b[0m)                 │                             │                 │\n",
       "├──────────────────────────────────────┼─────────────────────────────┼─────────────────┤\n",
       "│ dropout_lstm_xception (\u001b[38;5;33mDropout\u001b[0m)      │ (\u001b[38;5;45mNone\u001b[0m, \u001b[38;5;34m512\u001b[0m)                 │               \u001b[38;5;34m0\u001b[0m │\n",
       "├──────────────────────────────────────┼─────────────────────────────┼─────────────────┤\n",
       "│ dense_xception_1 (\u001b[38;5;33mDense\u001b[0m)             │ (\u001b[38;5;45mNone\u001b[0m, \u001b[38;5;34m512\u001b[0m)                 │         \u001b[38;5;34m262,656\u001b[0m │\n",
       "├──────────────────────────────────────┼─────────────────────────────┼─────────────────┤\n",
       "│ dropout_dense_xception_1 (\u001b[38;5;33mDropout\u001b[0m)   │ (\u001b[38;5;45mNone\u001b[0m, \u001b[38;5;34m512\u001b[0m)                 │               \u001b[38;5;34m0\u001b[0m │\n",
       "├──────────────────────────────────────┼─────────────────────────────┼─────────────────┤\n",
       "│ dense_xception_2 (\u001b[38;5;33mDense\u001b[0m)             │ (\u001b[38;5;45mNone\u001b[0m, \u001b[38;5;34m128\u001b[0m)                 │          \u001b[38;5;34m65,664\u001b[0m │\n",
       "├──────────────────────────────────────┼─────────────────────────────┼─────────────────┤\n",
       "│ dropout_dense_xception_2 (\u001b[38;5;33mDropout\u001b[0m)   │ (\u001b[38;5;45mNone\u001b[0m, \u001b[38;5;34m128\u001b[0m)                 │               \u001b[38;5;34m0\u001b[0m │\n",
       "├──────────────────────────────────────┼─────────────────────────────┼─────────────────┤\n",
       "│ output_xception (\u001b[38;5;33mDense\u001b[0m)              │ (\u001b[38;5;45mNone\u001b[0m, \u001b[38;5;34m11\u001b[0m)                  │           \u001b[38;5;34m1,419\u001b[0m │\n",
       "└──────────────────────────────────────┴─────────────────────────────┴─────────────────┘\n"
      ]
     },
     "metadata": {},
     "output_type": "display_data"
    },
    {
     "data": {
      "text/html": [
       "<pre style=\"white-space:pre;overflow-x:auto;line-height:normal;font-family:Menlo,'DejaVu Sans Mono',consolas,'Courier New',monospace\"><span style=\"font-weight: bold\"> Total params: </span><span style=\"color: #00af00; text-decoration-color: #00af00\">26,438,195</span> (100.85 MB)\n",
       "</pre>\n"
      ],
      "text/plain": [
       "\u001b[1m Total params: \u001b[0m\u001b[38;5;34m26,438,195\u001b[0m (100.85 MB)\n"
      ]
     },
     "metadata": {},
     "output_type": "display_data"
    },
    {
     "data": {
      "text/html": [
       "<pre style=\"white-space:pre;overflow-x:auto;line-height:normal;font-family:Menlo,'DejaVu Sans Mono',consolas,'Courier New',monospace\"><span style=\"font-weight: bold\"> Trainable params: </span><span style=\"color: #00af00; text-decoration-color: #00af00\">5,575,691</span> (21.27 MB)\n",
       "</pre>\n"
      ],
      "text/plain": [
       "\u001b[1m Trainable params: \u001b[0m\u001b[38;5;34m5,575,691\u001b[0m (21.27 MB)\n"
      ]
     },
     "metadata": {},
     "output_type": "display_data"
    },
    {
     "data": {
      "text/html": [
       "<pre style=\"white-space:pre;overflow-x:auto;line-height:normal;font-family:Menlo,'DejaVu Sans Mono',consolas,'Courier New',monospace\"><span style=\"font-weight: bold\"> Non-trainable params: </span><span style=\"color: #00af00; text-decoration-color: #00af00\">20,862,504</span> (79.58 MB)\n",
       "</pre>\n"
      ],
      "text/plain": [
       "\u001b[1m Non-trainable params: \u001b[0m\u001b[38;5;34m20,862,504\u001b[0m (79.58 MB)\n"
      ]
     },
     "metadata": {},
     "output_type": "display_data"
    },
    {
     "name": "stdout",
     "output_type": "stream",
     "text": [
      "Model Created Successfully!\n"
     ]
    }
   ],
   "source": [
    "# Create the model\n",
    "xlstm_model = create_xception_lstm_model(\n",
    "    sequence_length=SEQUENCE_LENGTH,\n",
    "    image_height=IMAGE_HEIGHT,\n",
    "    image_width=IMAGE_WIDTH,\n",
    "    classes_list=CLASSES_LIST,\n",
    "    dropout_rate=DROPOUT_RATE\n",
    ")\n",
    "\n",
    "# Check if model was created successfully\n",
    "if xlstm_model is None:\n",
    "    print(\"Failed to create model. Check error messages above.\")\n",
    "else:\n",
    "    print(\"Model Created Successfully!\")"
   ]
  },
  {
   "cell_type": "markdown",
   "id": "a6239351",
   "metadata": {
    "papermill": {
     "duration": 0.072399,
     "end_time": "2025-07-07T08:45:43.683867",
     "exception": false,
     "start_time": "2025-07-07T08:45:43.611468",
     "status": "completed"
    },
    "tags": []
   },
   "source": [
    "## Plot Model Structure"
   ]
  },
  {
   "cell_type": "code",
   "execution_count": 53,
   "id": "5c9422e0",
   "metadata": {
    "execution": {
     "iopub.execute_input": "2025-07-07T08:45:43.827597Z",
     "iopub.status.busy": "2025-07-07T08:45:43.827298Z",
     "iopub.status.idle": "2025-07-07T08:45:44.236399Z",
     "shell.execute_reply": "2025-07-07T08:45:44.235574Z"
    },
    "papermill": {
     "duration": 0.479937,
     "end_time": "2025-07-07T08:45:44.237731",
     "exception": false,
     "start_time": "2025-07-07T08:45:43.757794",
     "status": "completed"
    },
    "tags": []
   },
   "outputs": [
    {
     "name": "stdout",
     "output_type": "stream",
     "text": [
      "Xception Model Plot saved successfully...\n"
     ]
    }
   ],
   "source": [
    "# Plot the structure of the contructed model.\n",
    "from tensorflow.keras.utils import plot_model\n",
    "\n",
    "plot_model(xlstm_model, to_file = f'{MODEL_NAME}_model_Plot.png', show_shapes = True, show_layer_names = True)\n",
    "\n",
    "print(f\"{MODEL_NAME} Model Plot saved successfully...\")"
   ]
  },
  {
   "cell_type": "markdown",
   "id": "3413c0cb",
   "metadata": {
    "papermill": {
     "duration": 0.066915,
     "end_time": "2025-07-07T08:45:44.373962",
     "exception": false,
     "start_time": "2025-07-07T08:45:44.307047",
     "status": "completed"
    },
    "tags": []
   },
   "source": [
    "## Model Compile"
   ]
  },
  {
   "cell_type": "code",
   "execution_count": 54,
   "id": "6453490a",
   "metadata": {
    "execution": {
     "iopub.execute_input": "2025-07-07T08:45:44.511358Z",
     "iopub.status.busy": "2025-07-07T08:45:44.510765Z",
     "iopub.status.idle": "2025-07-07T08:45:44.525930Z",
     "shell.execute_reply": "2025-07-07T08:45:44.525433Z"
    },
    "papermill": {
     "duration": 0.085709,
     "end_time": "2025-07-07T08:45:44.526947",
     "exception": false,
     "start_time": "2025-07-07T08:45:44.441238",
     "status": "completed"
    },
    "tags": []
   },
   "outputs": [],
   "source": [
    "# Create an Instance of Early Stopping Callback\n",
    "from tensorflow.keras.callbacks import EarlyStopping\n",
    "\n",
    "early_stopping_callback = EarlyStopping(monitor = 'val_loss', \n",
    "                                        patience = 7, \n",
    "                                        mode = 'min', \n",
    "                                        restore_best_weights = True)\n",
    "\n",
    "# Compile the model and specify loss function, optimizer and metrics values to the model\n",
    "xlstm_model.compile(loss = 'categorical_crossentropy', \n",
    "                    optimizer=tf.keras.optimizers.Adam(learning_rate=0.0001),\n",
    "                    metrics = [\"accuracy\"])\n"
   ]
  },
  {
   "cell_type": "markdown",
   "id": "3f66809f",
   "metadata": {
    "papermill": {
     "duration": 0.06829,
     "end_time": "2025-07-07T08:45:44.663771",
     "exception": false,
     "start_time": "2025-07-07T08:45:44.595481",
     "status": "completed"
    },
    "tags": []
   },
   "source": [
    "## 💪 Model Fit"
   ]
  },
  {
   "cell_type": "code",
   "execution_count": 55,
   "id": "809250b7",
   "metadata": {
    "execution": {
     "iopub.execute_input": "2025-07-07T08:45:44.800678Z",
     "iopub.status.busy": "2025-07-07T08:45:44.800423Z",
     "iopub.status.idle": "2025-07-07T08:45:44.806423Z",
     "shell.execute_reply": "2025-07-07T08:45:44.805677Z"
    },
    "papermill": {
     "duration": 0.075743,
     "end_time": "2025-07-07T08:45:44.807797",
     "exception": false,
     "start_time": "2025-07-07T08:45:44.732054",
     "status": "completed"
    },
    "tags": []
   },
   "outputs": [
    {
     "name": "stdout",
     "output_type": "stream",
     "text": [
      "Unique labels: [ 0  1  2  3  4  5  6  7  8  9 10]\n",
      "NO_OF_CLASSES: 11\n"
     ]
    }
   ],
   "source": [
    "labels = np.argmax(train_gen.labels, axis=1)  # assuming one-hot encoded\n",
    "print(\"Unique labels:\", np.unique(labels))\n",
    "print(\"NO_OF_CLASSES:\", NO_OF_CLASSES)\n"
   ]
  },
  {
   "cell_type": "code",
   "execution_count": 56,
   "id": "51177d4c",
   "metadata": {
    "execution": {
     "iopub.execute_input": "2025-07-07T08:45:44.945851Z",
     "iopub.status.busy": "2025-07-07T08:45:44.945340Z",
     "iopub.status.idle": "2025-07-07T08:45:44.950402Z",
     "shell.execute_reply": "2025-07-07T08:45:44.949756Z"
    },
    "papermill": {
     "duration": 0.074855,
     "end_time": "2025-07-07T08:45:44.951564",
     "exception": false,
     "start_time": "2025-07-07T08:45:44.876709",
     "status": "completed"
    },
    "tags": []
   },
   "outputs": [
    {
     "name": "stdout",
     "output_type": "stream",
     "text": [
      "Train label shape: (1120, 11)\n",
      "Val label shape: (36, 11)\n"
     ]
    }
   ],
   "source": [
    "print(\"Train label shape:\", np.shape(train_gen.labels))\n",
    "print(\"Val label shape:\", np.shape(val_gen.labels))\n"
   ]
  },
  {
   "cell_type": "code",
   "execution_count": 57,
   "id": "063ec869",
   "metadata": {
    "execution": {
     "iopub.execute_input": "2025-07-07T08:45:45.088576Z",
     "iopub.status.busy": "2025-07-07T08:45:45.088335Z",
     "iopub.status.idle": "2025-07-07T09:02:25.338394Z",
     "shell.execute_reply": "2025-07-07T09:02:25.337574Z"
    },
    "papermill": {
     "duration": 1000.319681,
     "end_time": "2025-07-07T09:02:25.339869",
     "exception": false,
     "start_time": "2025-07-07T08:45:45.020188",
     "status": "completed"
    },
    "tags": []
   },
   "outputs": [
    {
     "name": "stdout",
     "output_type": "stream",
     "text": [
      "Dataset - Ucf50\n",
      "There are total 50 classes, selected 11 classes\n",
      "Setting 20 videos/class to train the model.\n",
      "Image size 128x128 with 15 sequence length\n",
      "Dropout rate: 0.5\n",
      "Train-Test split ratio 80/20\n",
      "Validation data from Train set 20.0%\n",
      "\n",
      "\n",
      "Training started for 1120 videos of 11 classes with 36 videos for validation...\n",
      "Epoch 1/30\n"
     ]
    },
    {
     "name": "stderr",
     "output_type": "stream",
     "text": [
      "I0000 00:00:1751877995.617806      85 cuda_dnn.cc:529] Loaded cuDNN version 90300\n"
     ]
    },
    {
     "name": "stdout",
     "output_type": "stream",
     "text": [
      "     70/Unknown \u001b[1m81s\u001b[0m 392ms/step - accuracy: 0.1196 - loss: 30.8982"
     ]
    },
    {
     "name": "stderr",
     "output_type": "stream",
     "text": [
      "/usr/local/lib/python3.11/dist-packages/keras/src/trainers/epoch_iterator.py:151: UserWarning: Your input ran out of data; interrupting training. Make sure that your dataset or generator can generate at least `steps_per_epoch * epochs` batches. You may need to use the `.repeat()` function when building your dataset.\n",
      "  self._interrupted_warning()\n"
     ]
    },
    {
     "name": "stdout",
     "output_type": "stream",
     "text": [
      "\u001b[1m70/70\u001b[0m \u001b[32m━━━━━━━━━━━━━━━━━━━━\u001b[0m\u001b[37m\u001b[0m \u001b[1m98s\u001b[0m 648ms/step - accuracy: 0.1200 - loss: 30.8881 - val_accuracy: 0.2778 - val_loss: 28.4087 - learning_rate: 1.0000e-04\n",
      "Epoch 2/30\n",
      "\u001b[1m70/70\u001b[0m \u001b[32m━━━━━━━━━━━━━━━━━━━━\u001b[0m\u001b[37m\u001b[0m \u001b[1m29s\u001b[0m 413ms/step - accuracy: 0.2548 - loss: 28.2292 - val_accuracy: 0.2778 - val_loss: 26.8672 - learning_rate: 1.0000e-04\n",
      "Epoch 3/30\n",
      "\u001b[1m70/70\u001b[0m \u001b[32m━━━━━━━━━━━━━━━━━━━━\u001b[0m\u001b[37m\u001b[0m \u001b[1m30s\u001b[0m 422ms/step - accuracy: 0.3194 - loss: 26.5502 - val_accuracy: 0.2778 - val_loss: 25.4486 - learning_rate: 1.0000e-04\n",
      "Epoch 4/30\n",
      "\u001b[1m70/70\u001b[0m \u001b[32m━━━━━━━━━━━━━━━━━━━━\u001b[0m\u001b[37m\u001b[0m \u001b[1m30s\u001b[0m 427ms/step - accuracy: 0.4077 - loss: 24.8566 - val_accuracy: 0.3611 - val_loss: 24.1313 - learning_rate: 1.0000e-04\n",
      "Epoch 5/30\n",
      "\u001b[1m70/70\u001b[0m \u001b[32m━━━━━━━━━━━━━━━━━━━━\u001b[0m\u001b[37m\u001b[0m \u001b[1m30s\u001b[0m 433ms/step - accuracy: 0.4393 - loss: 23.6149 - val_accuracy: 0.3611 - val_loss: 22.9004 - learning_rate: 1.0000e-04\n",
      "Epoch 6/30\n",
      "\u001b[1m70/70\u001b[0m \u001b[32m━━━━━━━━━━━━━━━━━━━━\u001b[0m\u001b[37m\u001b[0m \u001b[1m31s\u001b[0m 437ms/step - accuracy: 0.5273 - loss: 22.1326 - val_accuracy: 0.5000 - val_loss: 21.7320 - learning_rate: 1.0000e-04\n",
      "Epoch 7/30\n",
      "\u001b[1m70/70\u001b[0m \u001b[32m━━━━━━━━━━━━━━━━━━━━\u001b[0m\u001b[37m\u001b[0m \u001b[1m31s\u001b[0m 440ms/step - accuracy: 0.5769 - loss: 21.0209 - val_accuracy: 0.5000 - val_loss: 20.6438 - learning_rate: 1.0000e-04\n",
      "Epoch 8/30\n",
      "\u001b[1m70/70\u001b[0m \u001b[32m━━━━━━━━━━━━━━━━━━━━\u001b[0m\u001b[37m\u001b[0m \u001b[1m31s\u001b[0m 443ms/step - accuracy: 0.5900 - loss: 19.9163 - val_accuracy: 0.5000 - val_loss: 19.7229 - learning_rate: 1.0000e-04\n",
      "Epoch 9/30\n",
      "\u001b[1m70/70\u001b[0m \u001b[32m━━━━━━━━━━━━━━━━━━━━\u001b[0m\u001b[37m\u001b[0m \u001b[1m31s\u001b[0m 444ms/step - accuracy: 0.6131 - loss: 18.8985 - val_accuracy: 0.5556 - val_loss: 18.8366 - learning_rate: 1.0000e-04\n",
      "Epoch 10/30\n",
      "\u001b[1m70/70\u001b[0m \u001b[32m━━━━━━━━━━━━━━━━━━━━\u001b[0m\u001b[37m\u001b[0m \u001b[1m31s\u001b[0m 446ms/step - accuracy: 0.6694 - loss: 17.9210 - val_accuracy: 0.5278 - val_loss: 18.0870 - learning_rate: 1.0000e-04\n",
      "Epoch 11/30\n",
      "\u001b[1m70/70\u001b[0m \u001b[32m━━━━━━━━━━━━━━━━━━━━\u001b[0m\u001b[37m\u001b[0m \u001b[1m31s\u001b[0m 446ms/step - accuracy: 0.6890 - loss: 17.1047 - val_accuracy: 0.5556 - val_loss: 17.2092 - learning_rate: 1.0000e-04\n",
      "Epoch 12/30\n",
      "\u001b[1m70/70\u001b[0m \u001b[32m━━━━━━━━━━━━━━━━━━━━\u001b[0m\u001b[37m\u001b[0m \u001b[1m31s\u001b[0m 447ms/step - accuracy: 0.7348 - loss: 16.2222 - val_accuracy: 0.6389 - val_loss: 16.5672 - learning_rate: 1.0000e-04\n",
      "Epoch 13/30\n",
      "\u001b[1m70/70\u001b[0m \u001b[32m━━━━━━━━━━━━━━━━━━━━\u001b[0m\u001b[37m\u001b[0m \u001b[1m31s\u001b[0m 448ms/step - accuracy: 0.7777 - loss: 15.4329 - val_accuracy: 0.5833 - val_loss: 15.9384 - learning_rate: 1.0000e-04\n",
      "Epoch 14/30\n",
      "\u001b[1m70/70\u001b[0m \u001b[32m━━━━━━━━━━━━━━━━━━━━\u001b[0m\u001b[37m\u001b[0m \u001b[1m31s\u001b[0m 449ms/step - accuracy: 0.8060 - loss: 14.7123 - val_accuracy: 0.5833 - val_loss: 15.2745 - learning_rate: 1.0000e-04\n",
      "Epoch 15/30\n",
      "\u001b[1m70/70\u001b[0m \u001b[32m━━━━━━━━━━━━━━━━━━━━\u001b[0m\u001b[37m\u001b[0m \u001b[1m31s\u001b[0m 448ms/step - accuracy: 0.8153 - loss: 14.0506 - val_accuracy: 0.5556 - val_loss: 14.7750 - learning_rate: 1.0000e-04\n",
      "Epoch 16/30\n",
      "\u001b[1m70/70\u001b[0m \u001b[32m━━━━━━━━━━━━━━━━━━━━\u001b[0m\u001b[37m\u001b[0m \u001b[1m31s\u001b[0m 449ms/step - accuracy: 0.8242 - loss: 13.4536 - val_accuracy: 0.5833 - val_loss: 14.1914 - learning_rate: 1.0000e-04\n",
      "Epoch 17/30\n",
      "\u001b[1m70/70\u001b[0m \u001b[32m━━━━━━━━━━━━━━━━━━━━\u001b[0m\u001b[37m\u001b[0m \u001b[1m32s\u001b[0m 450ms/step - accuracy: 0.8556 - loss: 12.8255 - val_accuracy: 0.5556 - val_loss: 13.7759 - learning_rate: 1.0000e-04\n",
      "Epoch 18/30\n",
      "\u001b[1m70/70\u001b[0m \u001b[32m━━━━━━━━━━━━━━━━━━━━\u001b[0m\u001b[37m\u001b[0m \u001b[1m31s\u001b[0m 449ms/step - accuracy: 0.8697 - loss: 12.2657 - val_accuracy: 0.6111 - val_loss: 13.2271 - learning_rate: 1.0000e-04\n",
      "Epoch 19/30\n",
      "\u001b[1m70/70\u001b[0m \u001b[32m━━━━━━━━━━━━━━━━━━━━\u001b[0m\u001b[37m\u001b[0m \u001b[1m31s\u001b[0m 449ms/step - accuracy: 0.9002 - loss: 11.7269 - val_accuracy: 0.6389 - val_loss: 12.7818 - learning_rate: 1.0000e-04\n",
      "Epoch 20/30\n",
      "\u001b[1m70/70\u001b[0m \u001b[32m━━━━━━━━━━━━━━━━━━━━\u001b[0m\u001b[37m\u001b[0m \u001b[1m32s\u001b[0m 450ms/step - accuracy: 0.9044 - loss: 11.2330 - val_accuracy: 0.6389 - val_loss: 12.4625 - learning_rate: 1.0000e-04\n",
      "Epoch 21/30\n",
      "\u001b[1m70/70\u001b[0m \u001b[32m━━━━━━━━━━━━━━━━━━━━\u001b[0m\u001b[37m\u001b[0m \u001b[1m31s\u001b[0m 448ms/step - accuracy: 0.9035 - loss: 10.7608 - val_accuracy: 0.6667 - val_loss: 11.9390 - learning_rate: 1.0000e-04\n",
      "Epoch 22/30\n",
      "\u001b[1m70/70\u001b[0m \u001b[32m━━━━━━━━━━━━━━━━━━━━\u001b[0m\u001b[37m\u001b[0m \u001b[1m31s\u001b[0m 448ms/step - accuracy: 0.9158 - loss: 10.3224 - val_accuracy: 0.5278 - val_loss: 11.5351 - learning_rate: 1.0000e-04\n",
      "Epoch 23/30\n",
      "\u001b[1m70/70\u001b[0m \u001b[32m━━━━━━━━━━━━━━━━━━━━\u001b[0m\u001b[37m\u001b[0m \u001b[1m31s\u001b[0m 448ms/step - accuracy: 0.9215 - loss: 9.9120 - val_accuracy: 0.5833 - val_loss: 11.3291 - learning_rate: 1.0000e-04\n",
      "Epoch 24/30\n",
      "\u001b[1m70/70\u001b[0m \u001b[32m━━━━━━━━━━━━━━━━━━━━\u001b[0m\u001b[37m\u001b[0m \u001b[1m31s\u001b[0m 448ms/step - accuracy: 0.9220 - loss: 9.5187 - val_accuracy: 0.5833 - val_loss: 10.8864 - learning_rate: 1.0000e-04\n",
      "Epoch 25/30\n",
      "\u001b[1m70/70\u001b[0m \u001b[32m━━━━━━━━━━━━━━━━━━━━\u001b[0m\u001b[37m\u001b[0m \u001b[1m31s\u001b[0m 448ms/step - accuracy: 0.9463 - loss: 9.1252 - val_accuracy: 0.6111 - val_loss: 10.5118 - learning_rate: 1.0000e-04\n",
      "Epoch 26/30\n",
      "\u001b[1m70/70\u001b[0m \u001b[32m━━━━━━━━━━━━━━━━━━━━\u001b[0m\u001b[37m\u001b[0m \u001b[1m31s\u001b[0m 448ms/step - accuracy: 0.9469 - loss: 8.7483 - val_accuracy: 0.5833 - val_loss: 10.1442 - learning_rate: 1.0000e-04\n",
      "Epoch 27/30\n",
      "\u001b[1m70/70\u001b[0m \u001b[32m━━━━━━━━━━━━━━━━━━━━\u001b[0m\u001b[37m\u001b[0m \u001b[1m31s\u001b[0m 449ms/step - accuracy: 0.9504 - loss: 8.4114 - val_accuracy: 0.5278 - val_loss: 9.9459 - learning_rate: 1.0000e-04\n",
      "Epoch 28/30\n",
      "\u001b[1m70/70\u001b[0m \u001b[32m━━━━━━━━━━━━━━━━━━━━\u001b[0m\u001b[37m\u001b[0m \u001b[1m31s\u001b[0m 447ms/step - accuracy: 0.9380 - loss: 8.1152 - val_accuracy: 0.6111 - val_loss: 9.4528 - learning_rate: 1.0000e-04\n",
      "Epoch 29/30\n",
      "\u001b[1m70/70\u001b[0m \u001b[32m━━━━━━━━━━━━━━━━━━━━\u001b[0m\u001b[37m\u001b[0m \u001b[1m31s\u001b[0m 448ms/step - accuracy: 0.9651 - loss: 7.7639 - val_accuracy: 0.5556 - val_loss: 9.2244 - learning_rate: 1.0000e-04\n",
      "Epoch 30/30\n",
      "\u001b[1m70/70\u001b[0m \u001b[32m━━━━━━━━━━━━━━━━━━━━\u001b[0m\u001b[37m\u001b[0m \u001b[1m31s\u001b[0m 444ms/step - accuracy: 0.9485 - loss: 7.4980 - val_accuracy: 0.5000 - val_loss: 9.3908 - learning_rate: 1.0000e-04\n"
     ]
    }
   ],
   "source": [
    "from tensorflow.keras.callbacks import ReduceLROnPlateau\n",
    "\n",
    "lr_scheduler = ReduceLROnPlateau(monitor='val_loss', \n",
    "                                 factor=0.5, \n",
    "                                 patience=3, \n",
    "                                 min_lr=1e-6)\n",
    "\n",
    "\n",
    "\n",
    "print(f\"Dataset - {DATASET_NAME}\")\n",
    "print(f\"There are total {len(ALL_CLASS_NAMES)} classes, selected {NO_OF_CLASSES} classes\")\n",
    "print(f\"Setting {MAX_VIDEO_PER_CLASS} videos/class to train the model.\")\n",
    "print(f\"Image size {IMAGE_HEIGHT}x{IMAGE_WIDTH} with {SEQUENCE_LENGTH} sequence length\")\n",
    "print(f\"Dropout rate: {DROPOUT_RATE}\")\n",
    "print(f\"Train-Test split ratio {int((1-TEST_SIZE)*100)}/{int(TEST_SIZE*100)}\")\n",
    "print(f\"Validation data from Train set {VALIDATION_SPLIT*100}%\")\n",
    "\n",
    "print(\"\\n\")\n",
    "\n",
    "print(f\"Training started for {len(train_gen.videos)} videos of {NO_OF_CLASSES} classes with {len(val_gen.videos)} videos for validation...\")\n",
    "\n",
    "model_history = xlstm_model.fit(\n",
    "    train_gen.as_dataset(),\n",
    "    validation_data=val_gen.as_dataset(),\n",
    "    epochs=EPOCHS,\n",
    "    # class_weight=class_weight_dict,\n",
    "    callbacks=[early_stopping_callback, lr_scheduler]\n",
    ")"
   ]
  },
  {
   "cell_type": "markdown",
   "id": "d86f6d85",
   "metadata": {
    "papermill": {
     "duration": 0.163763,
     "end_time": "2025-07-07T09:02:25.666239",
     "exception": false,
     "start_time": "2025-07-07T09:02:25.502476",
     "status": "completed"
    },
    "tags": []
   },
   "source": [
    "# Evaluation"
   ]
  },
  {
   "cell_type": "markdown",
   "id": "91ce925d",
   "metadata": {
    "papermill": {
     "duration": 0.162412,
     "end_time": "2025-07-07T09:02:25.988944",
     "exception": false,
     "start_time": "2025-07-07T09:02:25.826532",
     "status": "completed"
    },
    "tags": []
   },
   "source": [
    "## ⚡ Model Evaluate"
   ]
  },
  {
   "cell_type": "code",
   "execution_count": 58,
   "id": "3896da85",
   "metadata": {
    "execution": {
     "iopub.execute_input": "2025-07-07T09:02:26.360838Z",
     "iopub.status.busy": "2025-07-07T09:02:26.360561Z",
     "iopub.status.idle": "2025-07-07T09:02:29.134697Z",
     "shell.execute_reply": "2025-07-07T09:02:29.134118Z"
    },
    "papermill": {
     "duration": 2.988055,
     "end_time": "2025-07-07T09:02:29.135847",
     "exception": false,
     "start_time": "2025-07-07T09:02:26.147792",
     "status": "completed"
    },
    "tags": []
   },
   "outputs": [
    {
     "name": "stdout",
     "output_type": "stream",
     "text": [
      "\u001b[1m2/2\u001b[0m \u001b[32m━━━━━━━━━━━━━━━━━━━━\u001b[0m\u001b[37m\u001b[0m \u001b[1m2s\u001b[0m 674ms/step - accuracy: 0.4593 - loss: 10.3378\n"
     ]
    }
   ],
   "source": [
    "# previous code\n",
    "model_evaluation_history = xlstm_model.evaluate(features_test, labels_test)"
   ]
  },
  {
   "cell_type": "markdown",
   "id": "792e0bf6",
   "metadata": {
    "papermill": {
     "duration": 0.160211,
     "end_time": "2025-07-07T09:02:29.454791",
     "exception": false,
     "start_time": "2025-07-07T09:02:29.294580",
     "status": "completed"
    },
    "tags": []
   },
   "source": [
    "## Fine Tuning "
   ]
  },
  {
   "cell_type": "code",
   "execution_count": 59,
   "id": "7a89087f",
   "metadata": {
    "execution": {
     "iopub.execute_input": "2025-07-07T09:02:29.774068Z",
     "iopub.status.busy": "2025-07-07T09:02:29.773787Z",
     "iopub.status.idle": "2025-07-07T09:02:29.781112Z",
     "shell.execute_reply": "2025-07-07T09:02:29.780358Z"
    },
    "papermill": {
     "duration": 0.167972,
     "end_time": "2025-07-07T09:02:29.782186",
     "exception": false,
     "start_time": "2025-07-07T09:02:29.614214",
     "status": "completed"
    },
    "tags": []
   },
   "outputs": [
    {
     "name": "stdout",
     "output_type": "stream",
     "text": [
      "Unfroze last 10 layers of Xception for fine-tuning.\n"
     ]
    }
   ],
   "source": [
    "# Unfreeze last N layers of Xception for fine-tuning\n",
    "base_model = xlstm_model.get_layer(\"time_distributed_xception\").layer  # Extract the Xception model\n",
    "\n",
    "base_model.trainable = True\n",
    "for layer in base_model.layers[:-10]:  # Freeze all but last 10 layers\n",
    "    layer.trainable = False\n",
    "\n",
    "print(\"Unfroze last 10 layers of Xception for fine-tuning.\")\n"
   ]
  },
  {
   "cell_type": "code",
   "execution_count": 60,
   "id": "929fb635",
   "metadata": {
    "execution": {
     "iopub.execute_input": "2025-07-07T09:02:30.101119Z",
     "iopub.status.busy": "2025-07-07T09:02:30.100833Z",
     "iopub.status.idle": "2025-07-07T09:02:30.305962Z",
     "shell.execute_reply": "2025-07-07T09:02:30.305261Z"
    },
    "papermill": {
     "duration": 0.364821,
     "end_time": "2025-07-07T09:02:30.307252",
     "exception": false,
     "start_time": "2025-07-07T09:02:29.942431",
     "status": "completed"
    },
    "tags": []
   },
   "outputs": [],
   "source": [
    "from tensorflow.keras.optimizers import Adam\n",
    "\n",
    "xlstm_model.compile(\n",
    "    loss='categorical_crossentropy',\n",
    "    optimizer=Adam(learning_rate=1e-4),  # Lower LR for fine-tuning\n",
    "    metrics=['accuracy']\n",
    ")\n"
   ]
  },
  {
   "cell_type": "code",
   "execution_count": 61,
   "id": "6790c24a",
   "metadata": {
    "execution": {
     "iopub.execute_input": "2025-07-07T09:02:30.680045Z",
     "iopub.status.busy": "2025-07-07T09:02:30.679749Z",
     "iopub.status.idle": "2025-07-07T09:23:07.091014Z",
     "shell.execute_reply": "2025-07-07T09:23:07.090373Z"
    },
    "papermill": {
     "duration": 1236.624991,
     "end_time": "2025-07-07T09:23:07.092411",
     "exception": false,
     "start_time": "2025-07-07T09:02:30.467420",
     "status": "completed"
    },
    "tags": []
   },
   "outputs": [
    {
     "name": "stdout",
     "output_type": "stream",
     "text": [
      "\n",
      "Fine-tuning started for Xception+LSTM model...\n",
      "Epoch 1/30\n",
      "\u001b[1m70/70\u001b[0m \u001b[32m━━━━━━━━━━━━━━━━━━━━\u001b[0m\u001b[37m\u001b[0m \u001b[1m111s\u001b[0m 760ms/step - accuracy: 0.8188 - loss: 7.8910 - val_accuracy: 0.6667 - val_loss: 8.6222 - learning_rate: 1.0000e-04\n",
      "Epoch 2/30\n",
      "\u001b[1m70/70\u001b[0m \u001b[32m━━━━━━━━━━━━━━━━━━━━\u001b[0m\u001b[37m\u001b[0m \u001b[1m37s\u001b[0m 534ms/step - accuracy: 0.9338 - loss: 7.1523 - val_accuracy: 0.5556 - val_loss: 8.9084 - learning_rate: 1.0000e-04\n",
      "Epoch 3/30\n",
      "\u001b[1m70/70\u001b[0m \u001b[32m━━━━━━━━━━━━━━━━━━━━\u001b[0m\u001b[37m\u001b[0m \u001b[1m38s\u001b[0m 540ms/step - accuracy: 0.9345 - loss: 6.7959 - val_accuracy: 0.5556 - val_loss: 8.6297 - learning_rate: 1.0000e-04\n",
      "Epoch 4/30\n",
      "\u001b[1m70/70\u001b[0m \u001b[32m━━━━━━━━━━━━━━━━━━━━\u001b[0m\u001b[37m\u001b[0m \u001b[1m38s\u001b[0m 549ms/step - accuracy: 0.9450 - loss: 6.4289 - val_accuracy: 0.6389 - val_loss: 7.8166 - learning_rate: 1.0000e-04\n",
      "Epoch 5/30\n",
      "\u001b[1m70/70\u001b[0m \u001b[32m━━━━━━━━━━━━━━━━━━━━\u001b[0m\u001b[37m\u001b[0m \u001b[1m39s\u001b[0m 550ms/step - accuracy: 0.9597 - loss: 6.0742 - val_accuracy: 0.6944 - val_loss: 7.6588 - learning_rate: 1.0000e-04\n",
      "Epoch 6/30\n",
      "\u001b[1m70/70\u001b[0m \u001b[32m━━━━━━━━━━━━━━━━━━━━\u001b[0m\u001b[37m\u001b[0m \u001b[1m39s\u001b[0m 554ms/step - accuracy: 0.9736 - loss: 5.7271 - val_accuracy: 0.6389 - val_loss: 7.0011 - learning_rate: 1.0000e-04\n",
      "Epoch 7/30\n",
      "\u001b[1m70/70\u001b[0m \u001b[32m━━━━━━━━━━━━━━━━━━━━\u001b[0m\u001b[37m\u001b[0m \u001b[1m39s\u001b[0m 554ms/step - accuracy: 0.9747 - loss: 5.3985 - val_accuracy: 0.6111 - val_loss: 7.2419 - learning_rate: 1.0000e-04\n",
      "Epoch 8/30\n",
      "\u001b[1m70/70\u001b[0m \u001b[32m━━━━━━━━━━━━━━━━━━━━\u001b[0m\u001b[37m\u001b[0m \u001b[1m39s\u001b[0m 555ms/step - accuracy: 0.9790 - loss: 5.1058 - val_accuracy: 0.6389 - val_loss: 6.7087 - learning_rate: 1.0000e-04\n",
      "Epoch 9/30\n",
      "\u001b[1m70/70\u001b[0m \u001b[32m━━━━━━━━━━━━━━━━━━━━\u001b[0m\u001b[37m\u001b[0m \u001b[1m39s\u001b[0m 555ms/step - accuracy: 0.9784 - loss: 4.8301 - val_accuracy: 0.5833 - val_loss: 6.4058 - learning_rate: 1.0000e-04\n",
      "Epoch 10/30\n",
      "\u001b[1m70/70\u001b[0m \u001b[32m━━━━━━━━━━━━━━━━━━━━\u001b[0m\u001b[37m\u001b[0m \u001b[1m39s\u001b[0m 556ms/step - accuracy: 0.9775 - loss: 4.5746 - val_accuracy: 0.6111 - val_loss: 6.1805 - learning_rate: 1.0000e-04\n",
      "Epoch 11/30\n",
      "\u001b[1m70/70\u001b[0m \u001b[32m━━━━━━━━━━━━━━━━━━━━\u001b[0m\u001b[37m\u001b[0m \u001b[1m39s\u001b[0m 555ms/step - accuracy: 0.9833 - loss: 4.2832 - val_accuracy: 0.6111 - val_loss: 5.8621 - learning_rate: 1.0000e-04\n",
      "Epoch 12/30\n",
      "\u001b[1m70/70\u001b[0m \u001b[32m━━━━━━━━━━━━━━━━━━━━\u001b[0m\u001b[37m\u001b[0m \u001b[1m39s\u001b[0m 555ms/step - accuracy: 0.9942 - loss: 4.0208 - val_accuracy: 0.5556 - val_loss: 5.8513 - learning_rate: 1.0000e-04\n",
      "Epoch 13/30\n",
      "\u001b[1m70/70\u001b[0m \u001b[32m━━━━━━━━━━━━━━━━━━━━\u001b[0m\u001b[37m\u001b[0m \u001b[1m39s\u001b[0m 556ms/step - accuracy: 0.9926 - loss: 3.7791 - val_accuracy: 0.7222 - val_loss: 5.0990 - learning_rate: 1.0000e-04\n",
      "Epoch 14/30\n",
      "\u001b[1m70/70\u001b[0m \u001b[32m━━━━━━━━━━━━━━━━━━━━\u001b[0m\u001b[37m\u001b[0m \u001b[1m39s\u001b[0m 555ms/step - accuracy: 0.9902 - loss: 3.5475 - val_accuracy: 0.6944 - val_loss: 5.0817 - learning_rate: 1.0000e-04\n",
      "Epoch 15/30\n",
      "\u001b[1m70/70\u001b[0m \u001b[32m━━━━━━━━━━━━━━━━━━━━\u001b[0m\u001b[37m\u001b[0m \u001b[1m39s\u001b[0m 554ms/step - accuracy: 0.9925 - loss: 3.3273 - val_accuracy: 0.5833 - val_loss: 5.1808 - learning_rate: 1.0000e-04\n",
      "Epoch 16/30\n",
      "\u001b[1m70/70\u001b[0m \u001b[32m━━━━━━━━━━━━━━━━━━━━\u001b[0m\u001b[37m\u001b[0m \u001b[1m39s\u001b[0m 556ms/step - accuracy: 0.9915 - loss: 3.1050 - val_accuracy: 0.5833 - val_loss: 4.7927 - learning_rate: 1.0000e-04\n",
      "Epoch 17/30\n",
      "\u001b[1m70/70\u001b[0m \u001b[32m━━━━━━━━━━━━━━━━━━━━\u001b[0m\u001b[37m\u001b[0m \u001b[1m39s\u001b[0m 556ms/step - accuracy: 0.9826 - loss: 2.9177 - val_accuracy: 0.6667 - val_loss: 4.3583 - learning_rate: 1.0000e-04\n",
      "Epoch 18/30\n",
      "\u001b[1m70/70\u001b[0m \u001b[32m━━━━━━━━━━━━━━━━━━━━\u001b[0m\u001b[37m\u001b[0m \u001b[1m39s\u001b[0m 558ms/step - accuracy: 0.9947 - loss: 2.7093 - val_accuracy: 0.6111 - val_loss: 4.3259 - learning_rate: 1.0000e-04\n",
      "Epoch 19/30\n",
      "\u001b[1m70/70\u001b[0m \u001b[32m━━━━━━━━━━━━━━━━━━━━\u001b[0m\u001b[37m\u001b[0m \u001b[1m39s\u001b[0m 555ms/step - accuracy: 0.9929 - loss: 2.5225 - val_accuracy: 0.5833 - val_loss: 4.0502 - learning_rate: 1.0000e-04\n",
      "Epoch 20/30\n",
      "\u001b[1m70/70\u001b[0m \u001b[32m━━━━━━━━━━━━━━━━━━━━\u001b[0m\u001b[37m\u001b[0m \u001b[1m39s\u001b[0m 556ms/step - accuracy: 0.9895 - loss: 2.3501 - val_accuracy: 0.5833 - val_loss: 4.0030 - learning_rate: 1.0000e-04\n",
      "Epoch 21/30\n",
      "\u001b[1m70/70\u001b[0m \u001b[32m━━━━━━━━━━━━━━━━━━━━\u001b[0m\u001b[37m\u001b[0m \u001b[1m39s\u001b[0m 556ms/step - accuracy: 0.9904 - loss: 2.2023 - val_accuracy: 0.6111 - val_loss: 3.7990 - learning_rate: 1.0000e-04\n",
      "Epoch 22/30\n",
      "\u001b[1m70/70\u001b[0m \u001b[32m━━━━━━━━━━━━━━━━━━━━\u001b[0m\u001b[37m\u001b[0m \u001b[1m39s\u001b[0m 556ms/step - accuracy: 0.9885 - loss: 2.0308 - val_accuracy: 0.6667 - val_loss: 3.3275 - learning_rate: 1.0000e-04\n",
      "Epoch 23/30\n",
      "\u001b[1m70/70\u001b[0m \u001b[32m━━━━━━━━━━━━━━━━━━━━\u001b[0m\u001b[37m\u001b[0m \u001b[1m39s\u001b[0m 553ms/step - accuracy: 0.9959 - loss: 1.8647 - val_accuracy: 0.6111 - val_loss: 3.8072 - learning_rate: 1.0000e-04\n",
      "Epoch 24/30\n",
      "\u001b[1m70/70\u001b[0m \u001b[32m━━━━━━━━━━━━━━━━━━━━\u001b[0m\u001b[37m\u001b[0m \u001b[1m39s\u001b[0m 555ms/step - accuracy: 0.9933 - loss: 1.7304 - val_accuracy: 0.5556 - val_loss: 3.4023 - learning_rate: 1.0000e-04\n",
      "Epoch 25/30\n",
      "\u001b[1m70/70\u001b[0m \u001b[32m━━━━━━━━━━━━━━━━━━━━\u001b[0m\u001b[37m\u001b[0m \u001b[1m39s\u001b[0m 556ms/step - accuracy: 0.9959 - loss: 1.5893 - val_accuracy: 0.6389 - val_loss: 3.1459 - learning_rate: 1.0000e-04\n",
      "Epoch 26/30\n",
      "\u001b[1m70/70\u001b[0m \u001b[32m━━━━━━━━━━━━━━━━━━━━\u001b[0m\u001b[37m\u001b[0m \u001b[1m39s\u001b[0m 555ms/step - accuracy: 0.9966 - loss: 1.4654 - val_accuracy: 0.6111 - val_loss: 2.9760 - learning_rate: 1.0000e-04\n",
      "Epoch 27/30\n",
      "\u001b[1m70/70\u001b[0m \u001b[32m━━━━━━━━━━━━━━━━━━━━\u001b[0m\u001b[37m\u001b[0m \u001b[1m39s\u001b[0m 554ms/step - accuracy: 0.9974 - loss: 1.3469 - val_accuracy: 0.5556 - val_loss: 3.1144 - learning_rate: 1.0000e-04\n",
      "Epoch 28/30\n",
      "\u001b[1m70/70\u001b[0m \u001b[32m━━━━━━━━━━━━━━━━━━━━\u001b[0m\u001b[37m\u001b[0m \u001b[1m39s\u001b[0m 553ms/step - accuracy: 0.9986 - loss: 1.2300 - val_accuracy: 0.5556 - val_loss: 3.0568 - learning_rate: 1.0000e-04\n",
      "Epoch 29/30\n",
      "\u001b[1m70/70\u001b[0m \u001b[32m━━━━━━━━━━━━━━━━━━━━\u001b[0m\u001b[37m\u001b[0m \u001b[1m39s\u001b[0m 556ms/step - accuracy: 0.9932 - loss: 1.1418 - val_accuracy: 0.6111 - val_loss: 2.9218 - learning_rate: 1.0000e-04\n",
      "Epoch 30/30\n",
      "\u001b[1m70/70\u001b[0m \u001b[32m━━━━━━━━━━━━━━━━━━━━\u001b[0m\u001b[37m\u001b[0m \u001b[1m39s\u001b[0m 555ms/step - accuracy: 0.9935 - loss: 1.0446 - val_accuracy: 0.5833 - val_loss: 3.0861 - learning_rate: 1.0000e-04\n"
     ]
    }
   ],
   "source": [
    "print(\"\\nFine-tuning started for Xception+LSTM model...\")\n",
    "\n",
    "xception_finetune_history = xlstm_model.fit(\n",
    "    train_gen.as_dataset(),\n",
    "    validation_data=val_gen.as_dataset(),\n",
    "    epochs=EPOCHS,  # You can reduce this (e.g., 10–20)\n",
    "    callbacks=[early_stopping_callback, lr_scheduler]\n",
    ")\n"
   ]
  },
  {
   "cell_type": "code",
   "execution_count": 62,
   "id": "73f75420",
   "metadata": {
    "execution": {
     "iopub.execute_input": "2025-07-07T09:23:07.662279Z",
     "iopub.status.busy": "2025-07-07T09:23:07.661687Z",
     "iopub.status.idle": "2025-07-07T09:23:09.237466Z",
     "shell.execute_reply": "2025-07-07T09:23:09.236847Z"
    },
    "papermill": {
     "duration": 1.834557,
     "end_time": "2025-07-07T09:23:09.239013",
     "exception": false,
     "start_time": "2025-07-07T09:23:07.404456",
     "status": "completed"
    },
    "tags": []
   },
   "outputs": [
    {
     "name": "stdout",
     "output_type": "stream",
     "text": [
      "\u001b[1m2/2\u001b[0m \u001b[32m━━━━━━━━━━━━━━━━━━━━\u001b[0m\u001b[37m\u001b[0m \u001b[1m1s\u001b[0m 344ms/step - accuracy: 0.4441 - loss: 4.2120\n"
     ]
    }
   ],
   "source": [
    "# previous code\n",
    "model_evaluation_history = xlstm_model.evaluate(features_test, labels_test)"
   ]
  },
  {
   "cell_type": "code",
   "execution_count": 63,
   "id": "f687c71b",
   "metadata": {
    "execution": {
     "iopub.execute_input": "2025-07-07T09:23:09.749846Z",
     "iopub.status.busy": "2025-07-07T09:23:09.749138Z",
     "iopub.status.idle": "2025-07-07T09:23:09.753520Z",
     "shell.execute_reply": "2025-07-07T09:23:09.752787Z"
    },
    "papermill": {
     "duration": 0.258025,
     "end_time": "2025-07-07T09:23:09.754744",
     "exception": false,
     "start_time": "2025-07-07T09:23:09.496719",
     "status": "completed"
    },
    "tags": []
   },
   "outputs": [],
   "source": [
    "# Combine metrics\n",
    "history_accuracy = model_history.history['accuracy'] + xception_finetune_history.history['accuracy']\n",
    "history_val_accuracy = model_history.history['val_accuracy'] + xception_finetune_history.history['val_accuracy']\n",
    "history_loss = model_history.history['loss'] + xception_finetune_history.history['loss']\n",
    "history_val_loss = model_history.history['val_loss'] + xception_finetune_history.history['val_loss']"
   ]
  },
  {
   "cell_type": "code",
   "execution_count": 64,
   "id": "6f60873e",
   "metadata": {
    "execution": {
     "iopub.execute_input": "2025-07-07T09:23:10.326205Z",
     "iopub.status.busy": "2025-07-07T09:23:10.325918Z",
     "iopub.status.idle": "2025-07-07T09:23:10.723914Z",
     "shell.execute_reply": "2025-07-07T09:23:10.723148Z"
    },
    "papermill": {
     "duration": 0.713838,
     "end_time": "2025-07-07T09:23:10.725972",
     "exception": false,
     "start_time": "2025-07-07T09:23:10.012134",
     "status": "completed"
    },
    "tags": []
   },
   "outputs": [
    {
     "data": {
      "image/png": "[encoded data removed]",
      "text/plain": [
       "<Figure size 1200x500 with 2 Axes>"
      ]
     },
     "metadata": {},
     "output_type": "display_data"
    }
   ],
   "source": [
    "import matplotlib.pyplot as plt\n",
    "\n",
    "# Calculate where fine-tuning started (after initial training)\n",
    "fine_tune_start_epoch = len(model_history.history['accuracy'])\n",
    "\n",
    "plt.figure(figsize=(12, 5))\n",
    "\n",
    "# Accuracy Plot\n",
    "plt.subplot(1, 2, 1)\n",
    "plt.plot(history_accuracy, label='Train Accuracy')\n",
    "plt.plot(history_val_accuracy, label='Validation Accuracy')\n",
    "plt.axvline(x=fine_tune_start_epoch, color='r', linestyle='--', label='Start Fine-Tuning')\n",
    "plt.title('Xception+LSTM Accuracy')\n",
    "plt.xlabel('Epoch')\n",
    "plt.ylabel('Accuracy')\n",
    "plt.legend()\n",
    "\n",
    "# Loss Plot\n",
    "plt.subplot(1, 2, 2)\n",
    "plt.plot(history_loss, label='Train Loss')\n",
    "plt.plot(history_val_loss, label='Validation Loss')\n",
    "plt.axvline(x=fine_tune_start_epoch, color='r', linestyle='--', label='Start Fine-Tuning')\n",
    "plt.title('Xception+LSTM Loss')\n",
    "plt.xlabel('Epoch')\n",
    "plt.ylabel('Loss')\n",
    "plt.legend()\n",
    "\n",
    "plt.tight_layout()\n",
    "plt.show()"
   ]
  },
  {
   "cell_type": "code",
   "execution_count": 65,
   "id": "e28145a7",
   "metadata": {
    "execution": {
     "iopub.execute_input": "2025-07-07T09:23:11.240767Z",
     "iopub.status.busy": "2025-07-07T09:23:11.240209Z",
     "iopub.status.idle": "2025-07-07T09:23:11.609941Z",
     "shell.execute_reply": "2025-07-07T09:23:11.609190Z"
    },
    "papermill": {
     "duration": 0.629898,
     "end_time": "2025-07-07T09:23:11.611450",
     "exception": false,
     "start_time": "2025-07-07T09:23:10.981552",
     "status": "completed"
    },
    "tags": []
   },
   "outputs": [
    {
     "data": {
      "image/png": "[encoded data removed]",
      "text/plain": [
       "<Figure size 1200x500 with 2 Axes>"
      ]
     },
     "metadata": {},
     "output_type": "display_data"
    }
   ],
   "source": [
    "import matplotlib.pyplot as plt\n",
    "\n",
    "# Accuracy\n",
    "plt.figure(figsize=(12, 5))\n",
    "\n",
    "plt.subplot(1, 2, 1)\n",
    "plt.plot(model_history.history['accuracy'], label='Train Accuracy')\n",
    "plt.plot(model_history.history['val_accuracy'], label='Validation Accuracy')\n",
    "plt.title('Model Accuracy')\n",
    "plt.xlabel('Epoch')\n",
    "plt.ylabel('Accuracy')\n",
    "plt.legend()\n",
    "\n",
    "# Loss\n",
    "plt.subplot(1, 2, 2)\n",
    "plt.plot(model_history.history['loss'], label='Train Loss')\n",
    "plt.plot(model_history.history['val_loss'], label='Validation Loss')\n",
    "plt.title('Model Loss')\n",
    "plt.xlabel('Epoch')\n",
    "plt.ylabel('Loss')\n",
    "plt.legend()\n",
    "\n",
    "plt.tight_layout()\n",
    "plt.show()\n"
   ]
  },
  {
   "cell_type": "markdown",
   "id": "e2c1d5b3",
   "metadata": {
    "papermill": {
     "duration": 0.259029,
     "end_time": "2025-07-07T09:23:12.130129",
     "exception": false,
     "start_time": "2025-07-07T09:23:11.871100",
     "status": "completed"
    },
    "tags": []
   },
   "source": [
    "## 📈 Confusion Matrix"
   ]
  },
  {
   "cell_type": "code",
   "execution_count": 66,
   "id": "1ce52bff",
   "metadata": {
    "execution": {
     "iopub.execute_input": "2025-07-07T09:23:12.698441Z",
     "iopub.status.busy": "2025-07-07T09:23:12.698113Z",
     "iopub.status.idle": "2025-07-07T09:23:30.419582Z",
     "shell.execute_reply": "2025-07-07T09:23:30.418799Z"
    },
    "papermill": {
     "duration": 18.032835,
     "end_time": "2025-07-07T09:23:30.420910",
     "exception": false,
     "start_time": "2025-07-07T09:23:12.388075",
     "status": "completed"
    },
    "tags": []
   },
   "outputs": [
    {
     "name": "stdout",
     "output_type": "stream",
     "text": [
      "Total 44 videos and 44 classes\n",
      "\u001b[1m11/11\u001b[0m \u001b[32m━━━━━━━━━━━━━━━━━━━━\u001b[0m\u001b[37m\u001b[0m \u001b[1m17s\u001b[0m 155ms/step\n",
      "True classes shape: (44,)\n",
      "Predicted classes shape: (44,)\n",
      "Classification Report:\n",
      "                   precision    recall  f1-score   support\n",
      "\n",
      "       Basketball       0.50      0.67      0.57         3\n",
      "           Biking       0.00      0.00      0.00         2\n",
      "           Diving       0.75      0.50      0.60         6\n",
      "        GolfSwing       1.00      0.60      0.75         5\n",
      "      HorseRiding       0.67      0.80      0.73         5\n",
      "           Skiing       0.00      0.00      0.00         2\n",
      "    SkateBoarding       0.00      0.00      0.00         7\n",
      "            Swing       0.67      0.67      0.67         3\n",
      "      TennisSwing       0.40      1.00      0.57         4\n",
      "TrampolineJumping       0.11      0.33      0.17         3\n",
      "   WalkingWithDog       0.00      0.00      0.00         4\n",
      "\n",
      "         accuracy                           0.43        44\n",
      "        macro avg       0.37      0.42      0.37        44\n",
      "     weighted avg       0.42      0.43      0.40        44\n",
      "\n"
     ]
    },
    {
     "name": "stderr",
     "output_type": "stream",
     "text": [
      "/usr/local/lib/python3.11/dist-packages/keras/src/trainers/epoch_iterator.py:151: UserWarning: Your input ran out of data; interrupting training. Make sure that your dataset or generator can generate at least `steps_per_epoch * epochs` batches. You may need to use the `.repeat()` function when building your dataset.\n",
      "  self._interrupted_warning()\n",
      "/usr/local/lib/python3.11/dist-packages/sklearn/metrics/_classification.py:1344: UndefinedMetricWarning: Precision and F-score are ill-defined and being set to 0.0 in labels with no predicted samples. Use `zero_division` parameter to control this behavior.\n",
      "  _warn_prf(average, modifier, msg_start, len(result))\n",
      "/usr/local/lib/python3.11/dist-packages/sklearn/metrics/_classification.py:1344: UndefinedMetricWarning: Precision and F-score are ill-defined and being set to 0.0 in labels with no predicted samples. Use `zero_division` parameter to control this behavior.\n",
      "  _warn_prf(average, modifier, msg_start, len(result))\n",
      "/usr/local/lib/python3.11/dist-packages/sklearn/metrics/_classification.py:1344: UndefinedMetricWarning: Precision and F-score are ill-defined and being set to 0.0 in labels with no predicted samples. Use `zero_division` parameter to control this behavior.\n",
      "  _warn_prf(average, modifier, msg_start, len(result))\n"
     ]
    },
    {
     "data": {
      "image/png": "[encoded data removed]",
      "text/plain": [
       "<Figure size 800x600 with 2 Axes>"
      ]
     },
     "metadata": {},
     "output_type": "display_data"
    }
   ],
   "source": [
    "from sklearn.metrics import classification_report, confusion_matrix\n",
    "import seaborn as sns\n",
    "import matplotlib.pyplot as plt\n",
    "\n",
    "# Create test generator with batch_size matching test set size\n",
    "test_gen = VideoDataGenerator(\n",
    "    videos=features_test,\n",
    "    labels=labels_test,\n",
    "    batch_size=4,  # Process all test samples at once\n",
    ")\n",
    "\n",
    "# Get predictions\n",
    "predictions = xlstm_model.predict(test_gen.as_dataset())\n",
    "predicted_classes = np.argmax(predictions, axis=1)\n",
    "true_classes = np.argmax(labels_test, axis=1)\n",
    "\n",
    "# Verify shapes\n",
    "print(f\"True classes shape: {true_classes.shape}\")\n",
    "print(f\"Predicted classes shape: {predicted_classes.shape}\")\n",
    "assert len(true_classes) == len(predicted_classes), \"Sample counts do not match!\"\n",
    "\n",
    "# Generate classification report\n",
    "print(\"Classification Report:\")\n",
    "print(classification_report(true_classes, predicted_classes, target_names=CLASSES_LIST))\n",
    "\n",
    "# Plot confusion matrix\n",
    "cm = confusion_matrix(true_classes, predicted_classes)\n",
    "plt.figure(figsize=(8, 6))\n",
    "sns.heatmap(cm, annot=True, fmt='d', cmap='Blues', xticklabels=CLASSES_LIST, yticklabels=CLASSES_LIST[-1])\n",
    "plt.xlabel('Predicted')\n",
    "plt.ylabel('True')\n",
    "plt.title('Confusion Matrix')\n",
    "plt.show()"
   ]
  }
 ],
 "metadata": {
  "kaggle": {
   "accelerator": "nvidiaTeslaT4",
   "dataSources": [
    {
     "datasetId": 1357563,
     "sourceId": 2256095,
     "sourceType": "datasetVersion"
    },
    {
     "datasetId": 7763484,
     "sourceId": 12338519,
     "sourceType": "datasetVersion"
    },
    {
     "datasetId": 7801555,
     "sourceId": 12373067,
     "sourceType": "datasetVersion"
    },
    {
     "datasetId": 7801884,
     "sourceId": 12373562,
     "sourceType": "datasetVersion"
    }
   ],
   "dockerImageVersionId": 31041,
   "isGpuEnabled": true,
   "isInternetEnabled": true,
   "language": "python",
   "sourceType": "notebook"
  },
  "kernelspec": {
   "display_name": "Python 3",
   "language": "python",
   "name": "python3"
  },
  "language_info": {
   "codemirror_mode": {
    "name": "ipython",
    "version": 3
   },
   "file_extension": ".py",
   "mimetype": "text/x-python",
   "name": "python",
   "nbconvert_exporter": "python",
   "pygments_lexer": "ipython3",
   "version": "3.11.11"
  },
  "papermill": {
   "default_parameters": {},
   "duration": 2399.813851,
   "end_time": "2025-07-07T09:23:34.357695",
   "environment_variables": {},
   "exception": null,
   "input_path": "__notebook__.ipynb",
   "output_path": "__notebook__.ipynb",
   "parameters": {},
   "start_time": "2025-07-07T08:43:34.543844",
   "version": "2.6.0"
  }
 },
 "nbformat": 4,
 "nbformat_minor": 5
}
