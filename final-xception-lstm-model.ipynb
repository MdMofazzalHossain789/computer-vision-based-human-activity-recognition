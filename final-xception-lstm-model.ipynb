{
 "cells": [
  {
   "cell_type": "markdown",
   "id": "9d6ac6a3",
   "metadata": {
    "papermill": {
     "duration": 0.011051,
     "end_time": "2025-07-11T09:47:25.945939",
     "exception": false,
     "start_time": "2025-07-11T09:47:25.934888",
     "status": "completed"
    },
    "tags": []
   },
   "source": [
    "# Initialization\n",
    "## Import Libraries"
   ]
  },
  {
   "cell_type": "code",
   "execution_count": 1,
   "id": "50c4eaaf",
   "metadata": {
    "_cell_guid": "b1076dfc-b9ad-4769-8c92-a6c4dae69d19",
    "_uuid": "8f2839f25d086af736a60e9eeb907d3b93b6e0e5",
    "execution": {
     "iopub.execute_input": "2025-07-11T09:47:25.965436Z",
     "iopub.status.busy": "2025-07-11T09:47:25.965173Z",
     "iopub.status.idle": "2025-07-11T09:47:49.410164Z",
     "shell.execute_reply": "2025-07-11T09:47:49.409286Z"
    },
    "papermill": {
     "duration": 23.45608,
     "end_time": "2025-07-11T09:47:49.411765",
     "exception": false,
     "start_time": "2025-07-11T09:47:25.955685",
     "status": "completed"
    },
    "tags": []
   },
   "outputs": [
    {
     "name": "stderr",
     "output_type": "stream",
     "text": [
      "2025-07-11 09:47:29.376545: E external/local_xla/xla/stream_executor/cuda/cuda_fft.cc:477] Unable to register cuFFT factory: Attempting to register factory for plugin cuFFT when one has already been registered\n",
      "WARNING: All log messages before absl::InitializeLog() is called are written to STDERR\n",
      "E0000 00:00:1752227249.812256      19 cuda_dnn.cc:8310] Unable to register cuDNN factory: Attempting to register factory for plugin cuDNN when one has already been registered\n",
      "E0000 00:00:1752227249.923224      19 cuda_blas.cc:1418] Unable to register cuBLAS factory: Attempting to register factory for plugin cuBLAS when one has already been registered\n"
     ]
    }
   ],
   "source": [
    "# install librarires\n",
    "import os\n",
    "import tensorflow as tf\n",
    "import numpy as np\n",
    "import random"
   ]
  },
  {
   "cell_type": "markdown",
   "id": "b34b99ac",
   "metadata": {
    "papermill": {
     "duration": 0.008737,
     "end_time": "2025-07-11T09:47:49.430828",
     "exception": false,
     "start_time": "2025-07-11T09:47:49.422091",
     "status": "completed"
    },
    "tags": []
   },
   "source": [
    "## ℹ️ Set Global Constants"
   ]
  },
  {
   "cell_type": "code",
   "execution_count": 2,
   "id": "a07f29c5",
   "metadata": {
    "execution": {
     "iopub.execute_input": "2025-07-11T09:47:49.449446Z",
     "iopub.status.busy": "2025-07-11T09:47:49.448969Z",
     "iopub.status.idle": "2025-07-11T09:47:49.461221Z",
     "shell.execute_reply": "2025-07-11T09:47:49.460466Z"
    },
    "papermill": {
     "duration": 0.022998,
     "end_time": "2025-07-11T09:47:49.462466",
     "exception": false,
     "start_time": "2025-07-11T09:47:49.439468",
     "status": "completed"
    },
    "tags": []
   },
   "outputs": [
    {
     "name": "stdout",
     "output_type": "stream",
     "text": [
      "Kard Kinect Activity Recognition Dataset\n",
      "There are total 18 classes, selected 18 classes\n",
      "Setting None/class to train the model.\n",
      "Image size 128x128 with 5 sequence length\n",
      "Dropout rate: 0.5\n",
      "Train-Test split ratio 80/20\n",
      "Validation data from Train set 20.0%\n"
     ]
    }
   ],
   "source": [
    "# global variables\n",
    "# set dataset directories\n",
    "\n",
    "\n",
    "DATASET_DIR = \"/kaggle/input/kard-kinect-activity-recognition-dataset\"\n",
    "DATASET_NAME = DATASET_DIR.split(\"/\")[-1].replace(\"-\", \" \").title()\n",
    "\n",
    "print(DATASET_NAME)\n",
    "\n",
    "ALL_CLASS_NAMES = os.listdir(DATASET_DIR)\n",
    "\n",
    "# Global constant variables -> \n",
    "NO_OF_CLASSES = len(ALL_CLASS_NAMES)\n",
    "CLASSES_LIST = ALL_CLASS_NAMES[:NO_OF_CLASSES]\n",
    "\n",
    "# Model Configuration\n",
    "IMAGE_HEIGHT, IMAGE_WIDTH = 128, 128\n",
    "SEQUENCE_LENGTH = 5\n",
    "\n",
    "# set drop out rate\n",
    "DROPOUT_RATE = 0.5\n",
    "\n",
    "# set datas\n",
    "MAX_VIDEO_PER_CLASS = None\n",
    "\n",
    "# split dataset\n",
    "TEST_SIZE = 0.20\n",
    "\n",
    "# model fit parameters\n",
    "EPOCHS = 30\n",
    "BATCH_SIZE = 24\n",
    "VALIDATION_SPLIT = 0.20\n",
    "\n",
    "# augmentation values\n",
    "NOISE_FACTOR = 0.02\n",
    "SHEAR_X= 1\n",
    "SHEAR_Y= 1\n",
    "\n",
    "# give a name of the model to save\n",
    "MODEL_NAME = \"Xception\"\n",
    "\n",
    "print(f\"There are total {len(ALL_CLASS_NAMES)} classes, selected {NO_OF_CLASSES} classes\")\n",
    "print(f\"Setting {MAX_VIDEO_PER_CLASS}/class to train the model.\")\n",
    "print(f\"Image size {IMAGE_HEIGHT}x{IMAGE_WIDTH} with {SEQUENCE_LENGTH} sequence length\")\n",
    "print(f\"Dropout rate: {DROPOUT_RATE}\")\n",
    "print(f\"Train-Test split ratio {int((1-TEST_SIZE)*100)}/{int(TEST_SIZE*100)}\")\n",
    "print(f\"Validation data from Train set {VALIDATION_SPLIT*100}%\")"
   ]
  },
  {
   "cell_type": "markdown",
   "id": "dc62ef97",
   "metadata": {
    "papermill": {
     "duration": 0.008941,
     "end_time": "2025-07-11T09:47:49.480474",
     "exception": false,
     "start_time": "2025-07-11T09:47:49.471533",
     "status": "completed"
    },
    "tags": []
   },
   "source": [
    "## Set `Seed` Values"
   ]
  },
  {
   "cell_type": "code",
   "execution_count": 3,
   "id": "d5a16c01",
   "metadata": {
    "execution": {
     "iopub.execute_input": "2025-07-11T09:47:49.498622Z",
     "iopub.status.busy": "2025-07-11T09:47:49.498431Z",
     "iopub.status.idle": "2025-07-11T09:47:49.502536Z",
     "shell.execute_reply": "2025-07-11T09:47:49.501757Z"
    },
    "papermill": {
     "duration": 0.014783,
     "end_time": "2025-07-11T09:47:49.503767",
     "exception": false,
     "start_time": "2025-07-11T09:47:49.488984",
     "status": "completed"
    },
    "tags": []
   },
   "outputs": [],
   "source": [
    "# set seeed to get similar values\n",
    "seed_constant = 27\n",
    "np.random.seed(seed_constant)\n",
    "random.seed(seed_constant)\n",
    "tf.random.set_seed(seed_constant)"
   ]
  },
  {
   "cell_type": "markdown",
   "id": "27271d1e",
   "metadata": {
    "papermill": {
     "duration": 0.013792,
     "end_time": "2025-07-11T09:47:49.526603",
     "exception": false,
     "start_time": "2025-07-11T09:47:49.512811",
     "status": "completed"
    },
    "tags": []
   },
   "source": [
    "# 📌 Function Definition\n",
    "## Resize and Frame Extraction"
   ]
  },
  {
   "cell_type": "code",
   "execution_count": 4,
   "id": "71221e5b",
   "metadata": {
    "execution": {
     "iopub.execute_input": "2025-07-11T09:47:49.545373Z",
     "iopub.status.busy": "2025-07-11T09:47:49.545146Z",
     "iopub.status.idle": "2025-07-11T09:47:49.553643Z",
     "shell.execute_reply": "2025-07-11T09:47:49.553083Z"
    },
    "papermill": {
     "duration": 0.019208,
     "end_time": "2025-07-11T09:47:49.554796",
     "exception": false,
     "start_time": "2025-07-11T09:47:49.535588",
     "status": "completed"
    },
    "tags": []
   },
   "outputs": [],
   "source": [
    "import cv2\n",
    "from concurrent.futures import ThreadPoolExecutor\n",
    "\n",
    "def resize_and_normalize_frame(frame, image_height, image_width):\n",
    "    try:\n",
    "        resized_frame = cv2.resize(frame, (image_width, image_height), interpolation=cv2.INTER_LINEAR)\n",
    "        normalized_frame = resized_frame / 255.0\n",
    "        return normalized_frame\n",
    "    except Exception as e:\n",
    "        print(f\"Error processing frame: {e}\")\n",
    "        return None\n",
    "\n",
    "def frames_extraction(video_path, \n",
    "                      sequence_length=SEQUENCE_LENGTH, \n",
    "                      image_height=IMAGE_HEIGHT, \n",
    "                      image_width=IMAGE_WIDTH):\n",
    "    # Declare a list to store video frames\n",
    "    frames_list = []\n",
    "\n",
    "    # Check if video file exists\n",
    "    if not os.path.exists(video_path):\n",
    "        print(f\"Error: Video file not found at {video_path}\")\n",
    "        return None\n",
    "\n",
    "    # Read the video file using VideoCapture with optimized settings\n",
    "    video_reader = cv2.VideoCapture(video_path, cv2.CAP_FFMPEG)\n",
    "\n",
    "    # Check if the video was opened successfully\n",
    "    if not video_reader.isOpened():\n",
    "        print(f\"Error: Could not open video file {video_path}\")\n",
    "        video_reader.release()\n",
    "        return None\n",
    "\n",
    "    # Get the total number of frames in the video\n",
    "    video_frames_count = int(video_reader.get(cv2.CAP_PROP_FRAME_COUNT))\n",
    "\n",
    "    # Ensure the video has enough frames\n",
    "    if video_frames_count < sequence_length:\n",
    "        print(f\"Warning: Video {video_path} has only {video_frames_count} frames, less than required {sequence_length}\")\n",
    "        video_reader.release()\n",
    "        return None\n",
    "\n",
    "    # Calculate the interval after which frames will be sampled\n",
    "    skip_frames_window = max(int(video_frames_count / sequence_length), 1)\n",
    "\n",
    "    # Pre-allocate frame indices to extract\n",
    "    frame_indices = [i * skip_frames_window for i in range(sequence_length)]\n",
    "\n",
    "    # Read and process frames in parallel\n",
    "    frames = []\n",
    "    for idx in frame_indices:\n",
    "        video_reader.set(cv2.CAP_PROP_POS_FRAMES, idx)\n",
    "        success, frame = video_reader.read()\n",
    "        if not success or frame is None:\n",
    "            print(f\"Warning: Failed to read frame at index {idx} from {video_path}\")\n",
    "            break\n",
    "        frame = cv2.cvtColor(frame, cv2.COLOR_BGR2RGB)\n",
    "        frames.append(frame)\n",
    "\n",
    "    # Release the VideoCapture object early\n",
    "    video_reader.release()\n",
    "\n",
    "    # Ensure the correct number of frames is read\n",
    "    if len(frames) != sequence_length:\n",
    "        print(f\"Warning: Read {len(frames)} frames instead of {sequence_length} from {video_path}\")\n",
    "        return None\n",
    "\n",
    "    # Process frames in parallel using ThreadPoolExecutor\n",
    "    with ThreadPoolExecutor() as executor:\n",
    "        processed_frames = list(executor.map(\n",
    "            lambda f: resize_and_normalize_frame(f, image_height, image_width), \n",
    "            frames\n",
    "        ))\n",
    "\n",
    "    # Check for any failed frame processing\n",
    "    if any(f is None for f in processed_frames):\n",
    "        print(f\"Warning: Some frames failed to process in {video_path}\")\n",
    "        return None\n",
    "\n",
    "    # Convert to NumPy array\n",
    "    frames_array = np.array(processed_frames, dtype=np.float32)\n",
    "\n",
    "    return frames_array"
   ]
  },
  {
   "cell_type": "code",
   "execution_count": 5,
   "id": "a131d0a0",
   "metadata": {
    "execution": {
     "iopub.execute_input": "2025-07-11T09:47:49.572823Z",
     "iopub.status.busy": "2025-07-11T09:47:49.572616Z",
     "iopub.status.idle": "2025-07-11T09:47:49.575676Z",
     "shell.execute_reply": "2025-07-11T09:47:49.575100Z"
    },
    "papermill": {
     "duration": 0.01334,
     "end_time": "2025-07-11T09:47:49.576638",
     "exception": false,
     "start_time": "2025-07-11T09:47:49.563298",
     "status": "completed"
    },
    "tags": []
   },
   "outputs": [],
   "source": [
    " # # Iterate through all video files\n",
    " #        for file_name in files_list:\n",
    " #            video_file_path = os.path.join(class_path, file_name)\n",
    "\n",
    " #            # Extract frames using the updated frames_extraction function\n",
    " #            frames = frames_extraction(video_file_path, sequence_length, image_height, image_width)\n",
    "\n",
    " #            # Skip videos where frame extraction failed\n",
    " #            if frames is None:\n",
    " #                print(f\"Skipping video {video_file_path} due to frame extraction failure\")\n",
    " #                continue\n",
    "\n",
    " #            # Append the data to respective lists\n",
    " #            features.append(frames)\n",
    " #            labels.append(class_index)"
   ]
  },
  {
   "cell_type": "markdown",
   "id": "aaba0a35",
   "metadata": {
    "papermill": {
     "duration": 0.008465,
     "end_time": "2025-07-11T09:47:49.593662",
     "exception": false,
     "start_time": "2025-07-11T09:47:49.585197",
     "status": "completed"
    },
    "tags": []
   },
   "source": [
    "## Create Dataset"
   ]
  },
  {
   "cell_type": "code",
   "execution_count": 6,
   "id": "4800193d",
   "metadata": {
    "execution": {
     "iopub.execute_input": "2025-07-11T09:47:49.612015Z",
     "iopub.status.busy": "2025-07-11T09:47:49.611783Z",
     "iopub.status.idle": "2025-07-11T09:47:49.618152Z",
     "shell.execute_reply": "2025-07-11T09:47:49.617606Z"
    },
    "papermill": {
     "duration": 0.016747,
     "end_time": "2025-07-11T09:47:49.619086",
     "exception": false,
     "start_time": "2025-07-11T09:47:49.602339",
     "status": "completed"
    },
    "tags": []
   },
   "outputs": [],
   "source": [
    "# RUN create dataset function definition\n",
    "def create_dataset(dataset_dir,\n",
    "                   classes_list, \n",
    "                   sequence_length=SEQUENCE_LENGTH, \n",
    "                   image_height=IMAGE_HEIGHT, \n",
    "                   image_width=IMAGE_WIDTH, \n",
    "                   max_videos_per_class=None,\n",
    "                   augmentations=False\n",
    "                  ):\n",
    "    \n",
    "    # Initialize lists to store features, labels, and video file paths\n",
    "    videos = []\n",
    "    labels = []\n",
    "\n",
    "    # Check if dataset directory exists\n",
    "    if not os.path.exists(dataset_dir):\n",
    "        raise FileNotFoundError(f\"Dataset directory not found: {dataset_dir}\")\n",
    "\n",
    "    # Iterate through all classes in the classes list\n",
    "    for class_index, class_name in enumerate(classes_list):\n",
    "        class_path = os.path.join(dataset_dir, class_name)\n",
    "        \n",
    "        # Check if class directory exists\n",
    "        if not os.path.exists(class_path):\n",
    "            print(f\"Warning: Class directory not found: {class_path}\")\n",
    "            continue\n",
    "\n",
    "        print(f'Extracting Data of Class: {class_name}')\n",
    "\n",
    "        # Get the list of video files in the class directory\n",
    "        files_list = os.listdir(class_path)\n",
    "\n",
    "        # Limit the number of videos if specified\n",
    "        if max_videos_per_class is not None:\n",
    "            files_list = files_list[:max_videos_per_class]\n",
    "\n",
    "        # Iterate through all video files\n",
    "        for file_name in files_list:\n",
    "            video_file_path = os.path.join(class_path, file_name)\n",
    "\n",
    "            # Extract frames using the updated frames_extraction function\n",
    "            frames = frames_extraction(video_file_path, \n",
    "                                       sequence_length, \n",
    "                                       image_height, \n",
    "                                       image_width)\n",
    "\n",
    "            # Skip videos where frame extraction failed\n",
    "            if frames is None:\n",
    "                print(f\"Skipping video {video_file_path} due to frame extraction failure\")\n",
    "                continue\n",
    "\n",
    "            # Append the data to respective lists\n",
    "            videos.append(frames)\n",
    "            labels.append(class_index)\n",
    "\n",
    "    # Convert lists to numpy arrays\n",
    "    if not videos:\n",
    "        raise ValueError(\"No valid videos were processed. Check dataset or parameters.\")\n",
    "    videos = np.asarray(videos)\n",
    "    labels = np.array(labels)\n",
    "\n",
    "    print(f\"Dataset created with {len(videos)} videos\")\n",
    "    print(f\"Features shape: {videos.shape}\")\n",
    "    print(f\"Labels shape: {labels.shape}\")\n",
    "\n",
    "    return videos, labels"
   ]
  },
  {
   "cell_type": "markdown",
   "id": "89c2338e",
   "metadata": {
    "papermill": {
     "duration": 0.008604,
     "end_time": "2025-07-11T09:47:49.636376",
     "exception": false,
     "start_time": "2025-07-11T09:47:49.627772",
     "status": "completed"
    },
    "tags": []
   },
   "source": [
    "## 🪄 Video Data Generator"
   ]
  },
  {
   "cell_type": "code",
   "execution_count": 7,
   "id": "7c4393a4",
   "metadata": {
    "execution": {
     "iopub.execute_input": "2025-07-11T09:47:49.654453Z",
     "iopub.status.busy": "2025-07-11T09:47:49.654205Z",
     "iopub.status.idle": "2025-07-11T09:47:49.749104Z",
     "shell.execute_reply": "2025-07-11T09:47:49.748478Z"
    },
    "papermill": {
     "duration": 0.105737,
     "end_time": "2025-07-11T09:47:49.750404",
     "exception": false,
     "start_time": "2025-07-11T09:47:49.644667",
     "status": "completed"
    },
    "tags": []
   },
   "outputs": [],
   "source": [
    "from tensorflow.keras.utils import Sequence, to_categorical\n",
    "import tensorflow as tf\n",
    "import numpy as np\n",
    "import cv2\n",
    "\n",
    "\n",
    "\n",
    "\n",
    "class VideoDataGenerator(Sequence):\n",
    "    def __init__(self, videos, labels, batch_size, is_training=False):\n",
    "        self.videos = list(videos)  # List of video file paths\n",
    "        self.labels = list(labels)  # List or array of labels encoded\n",
    "        self.batch_size = batch_size\n",
    "        self.indices = np.arange(len(self.videos))  # For shuffling\n",
    "        self.is_training = is_training  # Flag to control whether augmentation is applied\n",
    "        self.temp_videos=[]\n",
    "        self.temp_labels=[]\n",
    "        \n",
    "        \n",
    "        print(f\"Total {len(videos)} videos and {len(labels)} classes\")\n",
    "\n",
    "    def __len__(self):\n",
    "        # Return the number of batches per epoch\n",
    "        return int(np.ceil(len(self.videos) / self.batch_size))\n",
    "\n",
    "    def __getitem__(self, idx):\n",
    "        # Get batch indices\n",
    "        batch_indices = self.indices[idx * self.batch_size:(idx + 1) * self.batch_size]\n",
    "        \n",
    "        # Handle case where batch_indices is empty\n",
    "        if len(batch_indices) == 0:\n",
    "            return np.array([], dtype=np.float32), np.array([], dtype=np.float32)\n",
    "        \n",
    "        # Initialize lists to store frames and labels\n",
    "        all_frames = []\n",
    "        all_labels = []\n",
    "        \n",
    "        # Process each video in the batch\n",
    "        for i, index in enumerate(batch_indices):\n",
    "            sequence = self.videos[index]\n",
    "            label = self.labels[index]\n",
    "            \n",
    "            # Load and process video\n",
    "            # sequence = frames_extraction(video_path)\n",
    "\n",
    "            # if sequence is not None:\n",
    "            #     # Apply augmentations: 1 original + 4 augmentations (horizontal flip, shear, rotation, noise)\n",
    "            #     augmented_sequences = [sequence]  # Add original sequence\n",
    "\n",
    "            #     if self.is_training:\n",
    "            #         # Apply augmentations\n",
    "            #         augmented_sequences.append(np.array(horizontal_flip(sequence)))  # Horizontal Flip\n",
    "            #         augmented_sequences.append(np.array(apply_shear_frames(sequence, shear_right=0)))  # Random Shear\n",
    "            #         augmented_sequences.append(np.array(apply_shear_frames(sequence, shear_right=1)))  # Random Rotation\n",
    "            #         augmented_sequences.append(np.array(noise_video(sequence)))  # Salt and Pepper Noise\n",
    "\n",
    "            #     # Add augmented sequences to the batch\n",
    "            #     all_frames.extend(augmented_sequences)\n",
    "            #     all_labels.extend([label] * len(augmented_sequences))  # Each augmentation has the same label\n",
    "\n",
    "            \n",
    "            # Append the sequence and label\n",
    "            all_frames.append(sequence)\n",
    "            all_labels.append(label)\n",
    "        \n",
    "        # Convert to numpy arrays\n",
    "        all_frames = np.array(all_frames, dtype=np.float32)\n",
    "        all_labels = np.array(all_labels)\n",
    "            \n",
    "        \n",
    "        return all_frames, all_labels\n",
    "    def add(self, new_videos, new_labels):\n",
    "        self.temp_videos.extend(new_videos)\n",
    "        self.temp_labels.extend(new_labels)\n",
    "    \n",
    "    def confirm(self):\n",
    "        print(f\"Adding {len(self.temp_videos)} videos with {len(self.temp_labels)} classes.\")\n",
    "        self.videos.extend(self.temp_videos)\n",
    "        self.labels.extend(self.temp_labels)\n",
    "        print(f\"Successfully added - {len(self.temp_videos)} videos and {len(self.temp_labels)} classes.\")\n",
    "        self.temp_videos=[]\n",
    "        self.temp_labels=[]\n",
    "        self.indices = np.arange(len(self.videos))\n",
    "        print(f\"Now Total - {len(self.videos)} videos and {len(self.labels)} classes.\")\n",
    "        print(f\"PENDING for Augmentations - {len(self.temp_videos)} videos and {len(self.temp_labels)} classes.\")\n",
    "    \n",
    "    def on_epoch_end(self):\n",
    "        # Shuffle indices at the end of each epoch\n",
    "        np.random.shuffle(self.indices)\n",
    "\n",
    "    def as_dataset(self):\n",
    "        def generator():\n",
    "            for idx in range(len(self)):\n",
    "                frames, labels = self[idx]\n",
    "                # Skip empty batches\n",
    "                if frames.size == 0:\n",
    "                    continue\n",
    "                yield frames, labels\n",
    "        self.labels=np.array(self.labels)\n",
    "    \n",
    "        # Create a tf.data.Dataset\n",
    "        dataset = tf.data.Dataset.from_generator(\n",
    "            generator,\n",
    "            output_types=(tf.float32, tf.float32),\n",
    "            output_shapes=(\n",
    "                (None, SEQUENCE_LENGTH, IMAGE_HEIGHT, IMAGE_WIDTH, 3),\n",
    "                (None, NO_OF_CLASSES)\n",
    "            )\n",
    "        )\n",
    "        dataset = dataset.prefetch(tf.data.AUTOTUNE)\n",
    "        return dataset"
   ]
  },
  {
   "cell_type": "markdown",
   "id": "87a93644",
   "metadata": {
    "papermill": {
     "duration": 0.00936,
     "end_time": "2025-07-11T09:47:49.769813",
     "exception": false,
     "start_time": "2025-07-11T09:47:49.760453",
     "status": "completed"
    },
    "tags": []
   },
   "source": [
    "## Debug and Helpers"
   ]
  },
  {
   "cell_type": "markdown",
   "id": "e5990abf",
   "metadata": {
    "papermill": {
     "duration": 0.054014,
     "end_time": "2025-07-11T09:47:49.833007",
     "exception": false,
     "start_time": "2025-07-11T09:47:49.778993",
     "status": "completed"
    },
    "tags": []
   },
   "source": [
    "## 💫 Augmentation Helper function"
   ]
  },
  {
   "cell_type": "code",
   "execution_count": 8,
   "id": "553e23ca",
   "metadata": {
    "execution": {
     "iopub.execute_input": "2025-07-11T09:47:49.854086Z",
     "iopub.status.busy": "2025-07-11T09:47:49.853787Z",
     "iopub.status.idle": "2025-07-11T09:47:49.858891Z",
     "shell.execute_reply": "2025-07-11T09:47:49.858301Z"
    },
    "papermill": {
     "duration": 0.016617,
     "end_time": "2025-07-11T09:47:49.860100",
     "exception": false,
     "start_time": "2025-07-11T09:47:49.843483",
     "status": "completed"
    },
    "tags": []
   },
   "outputs": [],
   "source": [
    "import time\n",
    "\n",
    "    \n",
    "\n",
    "def apply_augmentation(augmentation_function, generator, confirm=False, *args, **kwargs):\n",
    "    \n",
    "    for i in range(len(generator)):\n",
    "        batch_videos, batch_labels = generator[i]\n",
    "        augmented_videos=[]\n",
    "        for videos in batch_videos:\n",
    "            augmented_videos.append(augmentation_function(videos, *args, **kwargs))\n",
    "        generator.add(augmented_videos, batch_labels)\n",
    "        print(f\"Processing video {len(generator.temp_videos)}...\", end=\"\\r\", flush=True)\n",
    "        time.sleep(0.5)  # simulate work\n",
    "    if confirm:\n",
    "        generator.confirm()"
   ]
  },
  {
   "cell_type": "markdown",
   "id": "316b7463",
   "metadata": {
    "papermill": {
     "duration": 0.010052,
     "end_time": "2025-07-11T09:47:49.879055",
     "exception": false,
     "start_time": "2025-07-11T09:47:49.869003",
     "status": "completed"
    },
    "tags": []
   },
   "source": [
    "### Show Frames"
   ]
  },
  {
   "cell_type": "code",
   "execution_count": 9,
   "id": "37d11df1",
   "metadata": {
    "execution": {
     "iopub.execute_input": "2025-07-11T09:47:49.905506Z",
     "iopub.status.busy": "2025-07-11T09:47:49.905240Z",
     "iopub.status.idle": "2025-07-11T09:47:49.909631Z",
     "shell.execute_reply": "2025-07-11T09:47:49.908863Z"
    },
    "papermill": {
     "duration": 0.017549,
     "end_time": "2025-07-11T09:47:49.910995",
     "exception": false,
     "start_time": "2025-07-11T09:47:49.893446",
     "status": "completed"
    },
    "tags": []
   },
   "outputs": [],
   "source": [
    "# show frame def\n",
    "import matplotlib.pyplot as plt\n",
    "\n",
    "def show_frame(frame):\n",
    "    plt.figure(figsize=(3,3))\n",
    "    plt.imshow(frame)\n",
    "    plt.axis(\"off\")\n",
    "    plt.tight_layout()"
   ]
  },
  {
   "cell_type": "markdown",
   "id": "b5e7e77a",
   "metadata": {
    "papermill": {
     "duration": 0.01456,
     "end_time": "2025-07-11T09:47:49.940256",
     "exception": false,
     "start_time": "2025-07-11T09:47:49.925696",
     "status": "completed"
    },
    "tags": []
   },
   "source": [
    "### Helper Function"
   ]
  },
  {
   "cell_type": "code",
   "execution_count": 10,
   "id": "376f2852",
   "metadata": {
    "execution": {
     "iopub.execute_input": "2025-07-11T09:47:49.966261Z",
     "iopub.status.busy": "2025-07-11T09:47:49.965843Z",
     "iopub.status.idle": "2025-07-11T09:47:49.971132Z",
     "shell.execute_reply": "2025-07-11T09:47:49.970346Z"
    },
    "papermill": {
     "duration": 0.02204,
     "end_time": "2025-07-11T09:47:49.972457",
     "exception": false,
     "start_time": "2025-07-11T09:47:49.950417",
     "status": "completed"
    },
    "tags": []
   },
   "outputs": [],
   "source": [
    "def show_frame_vs(frame1, frame2, title1=\"Frame 1\", title2=\"Frame 2\"):\n",
    "    plt.figure(figsize=(10, 5))\n",
    "\n",
    "    # First frame\n",
    "    plt.subplot(1, 2, 1)\n",
    "    plt.imshow(frame1)\n",
    "    plt.title(title1)\n",
    "    plt.axis('off')\n",
    "\n",
    "    # Second frame\n",
    "    plt.subplot(1, 2, 2)\n",
    "    plt.imshow(frame2)\n",
    "    plt.title(title2)\n",
    "    plt.axis('off')\n",
    "\n",
    "    plt.tight_layout()\n",
    "    plt.show()"
   ]
  },
  {
   "cell_type": "code",
   "execution_count": 11,
   "id": "ca7c1439",
   "metadata": {
    "execution": {
     "iopub.execute_input": "2025-07-11T09:47:49.992516Z",
     "iopub.status.busy": "2025-07-11T09:47:49.992282Z",
     "iopub.status.idle": "2025-07-11T09:47:49.996378Z",
     "shell.execute_reply": "2025-07-11T09:47:49.995608Z"
    },
    "papermill": {
     "duration": 0.015385,
     "end_time": "2025-07-11T09:47:49.997571",
     "exception": false,
     "start_time": "2025-07-11T09:47:49.982186",
     "status": "completed"
    },
    "tags": []
   },
   "outputs": [],
   "source": [
    "# reusable video loop helper function\n",
    "def apply_function(function, videos, *arg, **kwargs):\n",
    "    new_videos=[]\n",
    "    \n",
    "    for video in videos:\n",
    "        new_videos.append(function(video, *arg, **kwargs))\n",
    "        \n",
    "    return new_videos"
   ]
  },
  {
   "cell_type": "code",
   "execution_count": 12,
   "id": "5ed490e5",
   "metadata": {
    "execution": {
     "iopub.execute_input": "2025-07-11T09:47:50.017923Z",
     "iopub.status.busy": "2025-07-11T09:47:50.017263Z",
     "iopub.status.idle": "2025-07-11T09:47:50.021814Z",
     "shell.execute_reply": "2025-07-11T09:47:50.021024Z"
    },
    "papermill": {
     "duration": 0.015944,
     "end_time": "2025-07-11T09:47:50.022983",
     "exception": false,
     "start_time": "2025-07-11T09:47:50.007039",
     "status": "completed"
    },
    "tags": []
   },
   "outputs": [],
   "source": [
    "# reusable video loop helper function\n",
    "def apply(function, videos, labels, *arg, **kwargs):\n",
    "    new_videos=[]\n",
    "    new_labels=[]\n",
    "    combined=zip(labels, videos)\n",
    "    \n",
    "    for label, video in combined:\n",
    "        new_videos.append(function(video, *arg, **kwargs))\n",
    "        new_labels.append(label)\n",
    "        \n",
    "    new_videos=np.asarray(new_videos)\n",
    "    new_labels=np.asarray(new_labels)\n",
    "    \n",
    "    return new_videos, new_labels"
   ]
  },
  {
   "cell_type": "markdown",
   "id": "f051fdbf",
   "metadata": {
    "papermill": {
     "duration": 0.009175,
     "end_time": "2025-07-11T09:47:50.041700",
     "exception": false,
     "start_time": "2025-07-11T09:47:50.032525",
     "status": "completed"
    },
    "tags": []
   },
   "source": [
    "## Salt and Pepper Noise "
   ]
  },
  {
   "cell_type": "code",
   "execution_count": 13,
   "id": "2c6d1431",
   "metadata": {
    "execution": {
     "iopub.execute_input": "2025-07-11T09:47:50.061142Z",
     "iopub.status.busy": "2025-07-11T09:47:50.060865Z",
     "iopub.status.idle": "2025-07-11T09:47:50.065457Z",
     "shell.execute_reply": "2025-07-11T09:47:50.064680Z"
    },
    "papermill": {
     "duration": 0.015727,
     "end_time": "2025-07-11T09:47:50.066643",
     "exception": false,
     "start_time": "2025-07-11T09:47:50.050916",
     "status": "completed"
    },
    "tags": []
   },
   "outputs": [],
   "source": [
    "# Noise function def\n",
    "\n",
    "def noise_video(video,noise_factor=NOISE_FACTOR):\n",
    "    noisy_video=[]\n",
    "    for frame in video:\n",
    "        # Generate random noise\n",
    "        noise = np.random.rand(*frame.shape)  # Generate random noise\n",
    "        salt_pepper_noise = np.random.choice([0, 1], size=frame.shape, p=[1-noise_factor, noise_factor])\n",
    "        noisy_frame = frame * (1 - salt_pepper_noise) + salt_pepper_noise * np.random.rand(*frame.shape)\n",
    "        noisy_video.append(noisy_frame)\n",
    "    return np.array(noisy_video)"
   ]
  },
  {
   "cell_type": "markdown",
   "id": "85ed7636",
   "metadata": {
    "papermill": {
     "duration": 0.00951,
     "end_time": "2025-07-11T09:47:50.085362",
     "exception": false,
     "start_time": "2025-07-11T09:47:50.075852",
     "status": "completed"
    },
    "tags": []
   },
   "source": [
    "## Horizontal Flip"
   ]
  },
  {
   "cell_type": "code",
   "execution_count": 14,
   "id": "63a1aa84",
   "metadata": {
    "execution": {
     "iopub.execute_input": "2025-07-11T09:47:50.105350Z",
     "iopub.status.busy": "2025-07-11T09:47:50.105094Z",
     "iopub.status.idle": "2025-07-11T09:47:50.108945Z",
     "shell.execute_reply": "2025-07-11T09:47:50.108170Z"
    },
    "papermill": {
     "duration": 0.015351,
     "end_time": "2025-07-11T09:47:50.110294",
     "exception": false,
     "start_time": "2025-07-11T09:47:50.094943",
     "status": "completed"
    },
    "tags": []
   },
   "outputs": [],
   "source": [
    "# horizontal flip function def\n",
    "# Testing Flip feautes[0] -> first video\n",
    "def horizontal_flip(video):\n",
    "    return [tf.image.flip_left_right(frame) for frame in video]"
   ]
  },
  {
   "cell_type": "markdown",
   "id": "ddc70ced",
   "metadata": {
    "papermill": {
     "duration": 0.009005,
     "end_time": "2025-07-11T09:47:50.128676",
     "exception": false,
     "start_time": "2025-07-11T09:47:50.119671",
     "status": "completed"
    },
    "tags": []
   },
   "source": [
    "## Random Shear"
   ]
  },
  {
   "cell_type": "code",
   "execution_count": 15,
   "id": "fd44a746",
   "metadata": {
    "execution": {
     "iopub.execute_input": "2025-07-11T09:47:50.148281Z",
     "iopub.status.busy": "2025-07-11T09:47:50.148030Z",
     "iopub.status.idle": "2025-07-11T09:47:50.154690Z",
     "shell.execute_reply": "2025-07-11T09:47:50.153881Z"
    },
    "papermill": {
     "duration": 0.017922,
     "end_time": "2025-07-11T09:47:50.155910",
     "exception": false,
     "start_time": "2025-07-11T09:47:50.137988",
     "status": "completed"
    },
    "tags": []
   },
   "outputs": [],
   "source": [
    "# random shear function def\n",
    "import numpy as np\n",
    "import tensorflow as tf\n",
    "from scipy.ndimage import affine_transform\n",
    "\n",
    "def apply_shear_frames(frames, shear_right):\n",
    "    return [apply_shear(frame, shear_right) for frame in frames]\n",
    "\n",
    "def apply_shear(frame, shear_right=0):\n",
    "    frame_resized = tf.image.resize(frame, (IMAGE_HEIGHT, IMAGE_WIDTH)).numpy()\n",
    "    if shear_right:\n",
    "        shear_x = 0.09\n",
    "        shear_y = 0.1\n",
    "    else:\n",
    "        shear_x = -0.09\n",
    "        shear_y = 0.3\n",
    "    # Construct the affine matrix for scipy: inverse of the transformation matrix\n",
    "    # scipy applies the inverse transform matrix\n",
    "    shear_matrix = np.array([\n",
    "        [1, shear_x, 0],\n",
    "        [shear_y, 1, 0],\n",
    "        [0, 0, 1]\n",
    "    ], dtype=np.float32)\n",
    "\n",
    "    # Extract 2x2 part for affine_transform\n",
    "    matrix = shear_matrix[:2, :2]\n",
    "\n",
    "    # Offset (no translation)\n",
    "    offset = [0, 0]\n",
    "\n",
    "    # Apply affine transform on each channel separately\n",
    "    sheared = np.zeros_like(frame_resized)\n",
    "    for c in range(3):\n",
    "        sheared[..., c] = affine_transform(\n",
    "            frame_resized[..., c],\n",
    "            matrix=matrix,\n",
    "            offset=offset,\n",
    "            order=1,          # bilinear interpolation\n",
    "            mode='nearest'    # fill_mode\n",
    "        )\n",
    "    return sheared"
   ]
  },
  {
   "cell_type": "markdown",
   "id": "7a4bbd84",
   "metadata": {
    "papermill": {
     "duration": 0.008975,
     "end_time": "2025-07-11T09:47:50.174027",
     "exception": false,
     "start_time": "2025-07-11T09:47:50.165052",
     "status": "completed"
    },
    "tags": []
   },
   "source": [
    "# 📌 Model Related\n",
    "## 🗼 Model Architecture `create_model`"
   ]
  },
  {
   "cell_type": "markdown",
   "id": "721a005d",
   "metadata": {
    "papermill": {
     "duration": 0.008824,
     "end_time": "2025-07-11T09:47:50.191942",
     "exception": false,
     "start_time": "2025-07-11T09:47:50.183118",
     "status": "completed"
    },
    "tags": []
   },
   "source": [
    "# 📌 Execution\n",
    "## Creating Dataset\n",
    "The following functions are executed\n",
    "- `frame extraction`\n",
    "- `resize`\n",
    "\n",
    "which returns:\n",
    "- `features` - `np.array` of all the videos\n",
    "- `labels` - `np.array` of all the class labels"
   ]
  },
  {
   "cell_type": "code",
   "execution_count": 16,
   "id": "f620a5b5",
   "metadata": {
    "execution": {
     "iopub.execute_input": "2025-07-11T09:47:50.210800Z",
     "iopub.status.busy": "2025-07-11T09:47:50.210562Z",
     "iopub.status.idle": "2025-07-11T09:49:32.241874Z",
     "shell.execute_reply": "2025-07-11T09:49:32.241229Z"
    },
    "papermill": {
     "duration": 102.041912,
     "end_time": "2025-07-11T09:49:32.243044",
     "exception": false,
     "start_time": "2025-07-11T09:47:50.201132",
     "status": "completed"
    },
    "tags": []
   },
   "outputs": [
    {
     "name": "stdout",
     "output_type": "stream",
     "text": [
      "Extracting Data of Class: Catch Cap\n",
      "Extracting Data of Class: Drink\n",
      "Extracting Data of Class: Sit down\n",
      "Extracting Data of Class: Draw Tick\n",
      "Extracting Data of Class: Phone Call\n",
      "Extracting Data of Class: Horizontal arm wave\n",
      "Extracting Data of Class: Hand Clap\n",
      "Extracting Data of Class: High throw\n",
      "Extracting Data of Class: Forward Kick\n",
      "Extracting Data of Class: Stand up\n",
      "Extracting Data of Class: Two hand wave\n",
      "Extracting Data of Class: Toss Paper\n",
      "Extracting Data of Class: Walk\n",
      "Extracting Data of Class: Side Kick\n",
      "Extracting Data of Class: Bend\n",
      "Extracting Data of Class: Take Umbrella\n",
      "Extracting Data of Class: High arm wave\n",
      "Extracting Data of Class: Draw X\n",
      "Dataset created with 540 videos\n",
      "Features shape: (540, 5, 128, 128, 3)\n",
      "Labels shape: (540,)\n"
     ]
    },
    {
     "data": {
      "text/plain": [
       "((540, 5, 128, 128, 3), (540,))"
      ]
     },
     "execution_count": 16,
     "metadata": {},
     "output_type": "execute_result"
    }
   ],
   "source": [
    "# RUN Create the dataset with explicit parameters\n",
    "try:\n",
    "    videos, labels = create_dataset(\n",
    "        dataset_dir=DATASET_DIR,\n",
    "        classes_list=CLASSES_LIST,\n",
    "        sequence_length=SEQUENCE_LENGTH,\n",
    "        image_height=IMAGE_HEIGHT,\n",
    "        image_width=IMAGE_WIDTH,\n",
    "        # Limit to 10 videos per class to manage memory\n",
    "        augmentations=True,\n",
    "        max_videos_per_class=MAX_VIDEO_PER_CLASS\n",
    "    )\n",
    "except FileNotFoundError as e:\n",
    "    print(f\"Error: {e}\")\n",
    "except ValueError as e:\n",
    "    print(f\"Error: {e}\")\n",
    "except Exception as e:\n",
    "    print(f\"Unexpected error: {e}\")\n",
    "\n",
    "videos.shape, labels.shape"
   ]
  },
  {
   "cell_type": "code",
   "execution_count": 17,
   "id": "18cde8e0",
   "metadata": {
    "execution": {
     "iopub.execute_input": "2025-07-11T09:49:32.264171Z",
     "iopub.status.busy": "2025-07-11T09:49:32.263938Z",
     "iopub.status.idle": "2025-07-11T09:49:32.267981Z",
     "shell.execute_reply": "2025-07-11T09:49:32.267174Z"
    },
    "papermill": {
     "duration": 0.015543,
     "end_time": "2025-07-11T09:49:32.269121",
     "exception": false,
     "start_time": "2025-07-11T09:49:32.253578",
     "status": "completed"
    },
    "tags": []
   },
   "outputs": [
    {
     "name": "stdout",
     "output_type": "stream",
     "text": [
      "Total 540 videos and 540 classes\n"
     ]
    }
   ],
   "source": [
    "video_generator = VideoDataGenerator(\n",
    "    videos=videos,\n",
    "    labels=labels,\n",
    "    batch_size=BATCH_SIZE\n",
    ")"
   ]
  },
  {
   "cell_type": "code",
   "execution_count": 18,
   "id": "1abe1158",
   "metadata": {
    "execution": {
     "iopub.execute_input": "2025-07-11T09:49:32.289954Z",
     "iopub.status.busy": "2025-07-11T09:49:32.289386Z",
     "iopub.status.idle": "2025-07-11T09:49:32.299409Z",
     "shell.execute_reply": "2025-07-11T09:49:32.298686Z"
    },
    "papermill": {
     "duration": 0.0214,
     "end_time": "2025-07-11T09:49:32.300497",
     "exception": false,
     "start_time": "2025-07-11T09:49:32.279097",
     "status": "completed"
    },
    "tags": []
   },
   "outputs": [
    {
     "data": {
      "text/plain": [
       "((24, 5, 128, 128, 3), (24,))"
      ]
     },
     "execution_count": 18,
     "metadata": {},
     "output_type": "execute_result"
    }
   ],
   "source": [
    "videos, labels = video_generator[3]\n",
    "\n",
    "videos.shape, labels.shape"
   ]
  },
  {
   "cell_type": "code",
   "execution_count": 19,
   "id": "a0880d3f",
   "metadata": {
    "execution": {
     "iopub.execute_input": "2025-07-11T09:49:32.321144Z",
     "iopub.status.busy": "2025-07-11T09:49:32.320876Z",
     "iopub.status.idle": "2025-07-11T09:49:32.325057Z",
     "shell.execute_reply": "2025-07-11T09:49:32.324557Z"
    },
    "papermill": {
     "duration": 0.015672,
     "end_time": "2025-07-11T09:49:32.326033",
     "exception": false,
     "start_time": "2025-07-11T09:49:32.310361",
     "status": "completed"
    },
    "tags": []
   },
   "outputs": [
    {
     "data": {
      "text/plain": [
       "540"
      ]
     },
     "execution_count": 19,
     "metadata": {},
     "output_type": "execute_result"
    }
   ],
   "source": [
    "len(video_generator.videos) "
   ]
  },
  {
   "cell_type": "code",
   "execution_count": 20,
   "id": "aaefa8a3",
   "metadata": {
    "execution": {
     "iopub.execute_input": "2025-07-11T09:49:32.346426Z",
     "iopub.status.busy": "2025-07-11T09:49:32.346199Z",
     "iopub.status.idle": "2025-07-11T09:49:32.350449Z",
     "shell.execute_reply": "2025-07-11T09:49:32.349821Z"
    },
    "papermill": {
     "duration": 0.015404,
     "end_time": "2025-07-11T09:49:32.351524",
     "exception": false,
     "start_time": "2025-07-11T09:49:32.336120",
     "status": "completed"
    },
    "tags": []
   },
   "outputs": [
    {
     "data": {
      "text/plain": [
       "23"
      ]
     },
     "execution_count": 20,
     "metadata": {},
     "output_type": "execute_result"
    }
   ],
   "source": [
    "len(video_generator)"
   ]
  },
  {
   "cell_type": "markdown",
   "id": "3621ee8d",
   "metadata": {
    "papermill": {
     "duration": 0.009379,
     "end_time": "2025-07-11T09:49:32.370837",
     "exception": false,
     "start_time": "2025-07-11T09:49:32.361458",
     "status": "completed"
    },
    "tags": []
   },
   "source": [
    "## Apply ***horizontal flip*** (Augmentation)"
   ]
  },
  {
   "cell_type": "code",
   "execution_count": 21,
   "id": "1149e098",
   "metadata": {
    "execution": {
     "iopub.execute_input": "2025-07-11T09:49:32.390663Z",
     "iopub.status.busy": "2025-07-11T09:49:32.390432Z",
     "iopub.status.idle": "2025-07-11T09:49:47.629760Z",
     "shell.execute_reply": "2025-07-11T09:49:47.629082Z"
    },
    "papermill": {
     "duration": 15.250845,
     "end_time": "2025-07-11T09:49:47.631188",
     "exception": false,
     "start_time": "2025-07-11T09:49:32.380343",
     "status": "completed"
    },
    "tags": []
   },
   "outputs": [
    {
     "name": "stdout",
     "output_type": "stream",
     "text": [
      "Processing video 24...\r"
     ]
    },
    {
     "name": "stderr",
     "output_type": "stream",
     "text": [
      "I0000 00:00:1752227374.327719      19 gpu_device.cc:2022] Created device /job:localhost/replica:0/task:0/device:GPU:0 with 13942 MB memory:  -> device: 0, name: Tesla T4, pci bus id: 0000:00:04.0, compute capability: 7.5\n",
      "I0000 00:00:1752227374.328408      19 gpu_device.cc:2022] Created device /job:localhost/replica:0/task:0/device:GPU:1 with 13942 MB memory:  -> device: 1, name: Tesla T4, pci bus id: 0000:00:05.0, compute capability: 7.5\n"
     ]
    },
    {
     "name": "stdout",
     "output_type": "stream",
     "text": [
      "Processing video 540...\r"
     ]
    }
   ],
   "source": [
    "apply_augmentation(horizontal_flip, video_generator)"
   ]
  },
  {
   "cell_type": "code",
   "execution_count": 22,
   "id": "7ab98b44",
   "metadata": {
    "execution": {
     "iopub.execute_input": "2025-07-11T09:49:47.655158Z",
     "iopub.status.busy": "2025-07-11T09:49:47.654461Z",
     "iopub.status.idle": "2025-07-11T09:49:47.659057Z",
     "shell.execute_reply": "2025-07-11T09:49:47.658199Z"
    },
    "papermill": {
     "duration": 0.017585,
     "end_time": "2025-07-11T09:49:47.660293",
     "exception": false,
     "start_time": "2025-07-11T09:49:47.642708",
     "status": "completed"
    },
    "tags": []
   },
   "outputs": [
    {
     "name": "stdout",
     "output_type": "stream",
     "text": [
      "Checking Total Videos and Class Count: 540, 540\n",
      "PENDING Total Videos and Class Count: 540, 540\n"
     ]
    }
   ],
   "source": [
    "print(f\"Checking Total Videos and Class Count: {len(video_generator.videos)}, {len(video_generator.labels)}\")\n",
    "print(f\"PENDING Total Videos and Class Count: {len(video_generator.temp_videos)}, {len(video_generator.temp_labels)}\")"
   ]
  },
  {
   "cell_type": "code",
   "execution_count": 23,
   "id": "ef2e37e1",
   "metadata": {
    "execution": {
     "iopub.execute_input": "2025-07-11T09:49:47.682749Z",
     "iopub.status.busy": "2025-07-11T09:49:47.682510Z",
     "iopub.status.idle": "2025-07-11T09:49:47.686362Z",
     "shell.execute_reply": "2025-07-11T09:49:47.685753Z"
    },
    "papermill": {
     "duration": 0.016535,
     "end_time": "2025-07-11T09:49:47.687351",
     "exception": false,
     "start_time": "2025-07-11T09:49:47.670816",
     "status": "completed"
    },
    "tags": []
   },
   "outputs": [
    {
     "name": "stdout",
     "output_type": "stream",
     "text": [
      "Adding 540 videos with 540 classes.\n",
      "Successfully added - 540 videos and 540 classes.\n",
      "Now Total - 1080 videos and 1080 classes.\n",
      "PENDING for Augmentations - 0 videos and 0 classes.\n"
     ]
    }
   ],
   "source": [
    "video_generator.confirm()"
   ]
  },
  {
   "cell_type": "markdown",
   "id": "aa0f7946",
   "metadata": {
    "papermill": {
     "duration": 0.010864,
     "end_time": "2025-07-11T09:49:47.709372",
     "exception": false,
     "start_time": "2025-07-11T09:49:47.698508",
     "status": "completed"
    },
    "tags": []
   },
   "source": [
    "## Apply ***Noise*** (Augmentation)"
   ]
  },
  {
   "cell_type": "code",
   "execution_count": 24,
   "id": "ac2617ff",
   "metadata": {
    "execution": {
     "iopub.execute_input": "2025-07-11T09:49:47.732396Z",
     "iopub.status.busy": "2025-07-11T09:49:47.732142Z",
     "iopub.status.idle": "2025-07-11T09:50:24.464476Z",
     "shell.execute_reply": "2025-07-11T09:50:24.463810Z"
    },
    "papermill": {
     "duration": 36.745182,
     "end_time": "2025-07-11T09:50:24.465832",
     "exception": false,
     "start_time": "2025-07-11T09:49:47.720650",
     "status": "completed"
    },
    "tags": []
   },
   "outputs": [
    {
     "name": "stdout",
     "output_type": "stream",
     "text": [
      "Processing video 1080...\r"
     ]
    }
   ],
   "source": [
    "apply_augmentation(noise_video, video_generator)"
   ]
  },
  {
   "cell_type": "code",
   "execution_count": 25,
   "id": "69591756",
   "metadata": {
    "execution": {
     "iopub.execute_input": "2025-07-11T09:50:24.493176Z",
     "iopub.status.busy": "2025-07-11T09:50:24.492901Z",
     "iopub.status.idle": "2025-07-11T09:50:24.496962Z",
     "shell.execute_reply": "2025-07-11T09:50:24.496396Z"
    },
    "papermill": {
     "duration": 0.01853,
     "end_time": "2025-07-11T09:50:24.498108",
     "exception": false,
     "start_time": "2025-07-11T09:50:24.479578",
     "status": "completed"
    },
    "tags": []
   },
   "outputs": [
    {
     "name": "stdout",
     "output_type": "stream",
     "text": [
      "Checking Total Videos and Class Count: 1080, 1080\n",
      "PENDING Total Videos and Class Count: 1080, 1080\n"
     ]
    }
   ],
   "source": [
    "print(f\"Checking Total Videos and Class Count: {len(video_generator.videos)}, {len(video_generator.labels)}\")\n",
    "print(f\"PENDING Total Videos and Class Count: {len(video_generator.temp_videos)}, {len(video_generator.temp_labels)}\")"
   ]
  },
  {
   "cell_type": "markdown",
   "id": "35cd5e8b",
   "metadata": {
    "papermill": {
     "duration": 0.01235,
     "end_time": "2025-07-11T09:50:24.522994",
     "exception": false,
     "start_time": "2025-07-11T09:50:24.510644",
     "status": "completed"
    },
    "tags": []
   },
   "source": [
    "## Apply ***Random Shear x2*** (Augmentation)"
   ]
  },
  {
   "cell_type": "code",
   "execution_count": 26,
   "id": "bb56e8a7",
   "metadata": {
    "execution": {
     "iopub.execute_input": "2025-07-11T09:50:24.548646Z",
     "iopub.status.busy": "2025-07-11T09:50:24.548446Z",
     "iopub.status.idle": "2025-07-11T09:51:53.743702Z",
     "shell.execute_reply": "2025-07-11T09:51:53.743001Z"
    },
    "papermill": {
     "duration": 89.2095,
     "end_time": "2025-07-11T09:51:53.745013",
     "exception": false,
     "start_time": "2025-07-11T09:50:24.535513",
     "status": "completed"
    },
    "tags": []
   },
   "outputs": [
    {
     "name": "stdout",
     "output_type": "stream",
     "text": [
      "Processing video 3240...\r"
     ]
    }
   ],
   "source": [
    "apply_augmentation(apply_shear_frames, video_generator, shear_right=0)\n",
    "apply_augmentation(apply_shear_frames, video_generator, shear_right=1)"
   ]
  },
  {
   "cell_type": "code",
   "execution_count": 27,
   "id": "18112ad1",
   "metadata": {
    "execution": {
     "iopub.execute_input": "2025-07-11T09:51:53.779925Z",
     "iopub.status.busy": "2025-07-11T09:51:53.779442Z",
     "iopub.status.idle": "2025-07-11T09:51:53.784051Z",
     "shell.execute_reply": "2025-07-11T09:51:53.783187Z"
    },
    "papermill": {
     "duration": 0.022954,
     "end_time": "2025-07-11T09:51:53.785074",
     "exception": false,
     "start_time": "2025-07-11T09:51:53.762120",
     "status": "completed"
    },
    "tags": []
   },
   "outputs": [
    {
     "name": "stdout",
     "output_type": "stream",
     "text": [
      "Checking Total Videos and Class Count: 1080, 1080\n",
      "PENDING Total Videos and Class Count: 3240, 3240\n"
     ]
    }
   ],
   "source": [
    "print(f\"Checking Total Videos and Class Count: {len(video_generator.videos)}, {len(video_generator.labels)}\")\n",
    "print(f\"PENDING Total Videos and Class Count: {len(video_generator.temp_videos)}, {len(video_generator.temp_labels)}\")"
   ]
  },
  {
   "cell_type": "code",
   "execution_count": 28,
   "id": "b6dae89a",
   "metadata": {
    "execution": {
     "iopub.execute_input": "2025-07-11T09:51:53.818177Z",
     "iopub.status.busy": "2025-07-11T09:51:53.817903Z",
     "iopub.status.idle": "2025-07-11T09:51:53.821800Z",
     "shell.execute_reply": "2025-07-11T09:51:53.821091Z"
    },
    "papermill": {
     "duration": 0.021715,
     "end_time": "2025-07-11T09:51:53.823116",
     "exception": false,
     "start_time": "2025-07-11T09:51:53.801401",
     "status": "completed"
    },
    "tags": []
   },
   "outputs": [
    {
     "name": "stdout",
     "output_type": "stream",
     "text": [
      "Adding 3240 videos with 3240 classes.\n",
      "Successfully added - 3240 videos and 3240 classes.\n",
      "Now Total - 4320 videos and 4320 classes.\n",
      "PENDING for Augmentations - 0 videos and 0 classes.\n"
     ]
    }
   ],
   "source": [
    "# confirm changes to generator\n",
    "video_generator.confirm()"
   ]
  },
  {
   "cell_type": "code",
   "execution_count": 29,
   "id": "26403c99",
   "metadata": {
    "execution": {
     "iopub.execute_input": "2025-07-11T09:51:53.856477Z",
     "iopub.status.busy": "2025-07-11T09:51:53.856268Z",
     "iopub.status.idle": "2025-07-11T09:51:53.859928Z",
     "shell.execute_reply": "2025-07-11T09:51:53.859263Z"
    },
    "papermill": {
     "duration": 0.021652,
     "end_time": "2025-07-11T09:51:53.861008",
     "exception": false,
     "start_time": "2025-07-11T09:51:53.839356",
     "status": "completed"
    },
    "tags": []
   },
   "outputs": [
    {
     "name": "stdout",
     "output_type": "stream",
     "text": [
      "Checking Video Generator Total Videos and Class Count: 4320, 4320\n"
     ]
    }
   ],
   "source": [
    "print(f\"Checking Video Generator Total Videos and Class Count: {len(video_generator.videos)}, {len(video_generator.labels)}\")"
   ]
  },
  {
   "cell_type": "markdown",
   "id": "682701fd",
   "metadata": {
    "papermill": {
     "duration": 0.015575,
     "end_time": "2025-07-11T09:51:53.892700",
     "exception": false,
     "start_time": "2025-07-11T09:51:53.877125",
     "status": "completed"
    },
    "tags": []
   },
   "source": [
    "## Cheking (Output)"
   ]
  },
  {
   "cell_type": "code",
   "execution_count": 30,
   "id": "0568c544",
   "metadata": {
    "execution": {
     "iopub.execute_input": "2025-07-11T09:51:53.925084Z",
     "iopub.status.busy": "2025-07-11T09:51:53.924828Z",
     "iopub.status.idle": "2025-07-11T09:51:54.339225Z",
     "shell.execute_reply": "2025-07-11T09:51:54.338462Z"
    },
    "papermill": {
     "duration": 0.434233,
     "end_time": "2025-07-11T09:51:54.342555",
     "exception": false,
     "start_time": "2025-07-11T09:51:53.908322",
     "status": "completed"
    },
    "tags": []
   },
   "outputs": [
    {
     "name": "stdout",
     "output_type": "stream",
     "text": [
      "(24, 5, 128, 128, 3) (24,)\n"
     ]
    },
    {
     "data": {
      "image/png": "[encoded data removed]",
      "text/plain": [
       "<Figure size 1000x500 with 2 Axes>"
      ]
     },
     "metadata": {},
     "output_type": "display_data"
    },
    {
     "name": "stdout",
     "output_type": "stream",
     "text": [
      "Might be two different action, but to check the flipping focus on the door behind.\n"
     ]
    }
   ],
   "source": [
    "# check horizontal flips\n",
    "videos, labels = video_generator[7]\n",
    "videos1, labels1 = video_generator[1]\n",
    "\n",
    "print(videos.shape, labels.shape)\n",
    "\n",
    "show_frame_vs(videos[0,0],videos1[1,0], title1=\"Flipped Frame 1\", title2=\"Non Flipped Frame 1\")\n",
    "print(\"Might be two different action, but to check the flipping focus on the door behind.\")"
   ]
  },
  {
   "cell_type": "markdown",
   "id": "d5b55fac",
   "metadata": {
    "papermill": {
     "duration": 0.02035,
     "end_time": "2025-07-11T09:51:54.393831",
     "exception": false,
     "start_time": "2025-07-11T09:51:54.373481",
     "status": "completed"
    },
    "tags": []
   },
   "source": [
    "# 📌 Preparing Data for Training"
   ]
  },
  {
   "cell_type": "code",
   "execution_count": 31,
   "id": "f027a841",
   "metadata": {
    "execution": {
     "iopub.execute_input": "2025-07-11T09:51:54.435245Z",
     "iopub.status.busy": "2025-07-11T09:51:54.434550Z",
     "iopub.status.idle": "2025-07-11T09:51:54.900343Z",
     "shell.execute_reply": "2025-07-11T09:51:54.899477Z"
    },
    "papermill": {
     "duration": 0.488152,
     "end_time": "2025-07-11T09:51:54.901656",
     "exception": false,
     "start_time": "2025-07-11T09:51:54.413504",
     "status": "completed"
    },
    "tags": []
   },
   "outputs": [],
   "source": [
    "# Clear previous session to free memory\n",
    "import gc\n",
    "\n",
    "gc.collect()\n",
    "tf.keras.backend.clear_session()"
   ]
  },
  {
   "cell_type": "markdown",
   "id": "c2e9b3ab",
   "metadata": {
    "papermill": {
     "duration": 0.019478,
     "end_time": "2025-07-11T09:51:54.941152",
     "exception": false,
     "start_time": "2025-07-11T09:51:54.921674",
     "status": "completed"
    },
    "tags": []
   },
   "source": [
    "## Splitting data for ***Trainig*** and ***Testing***"
   ]
  },
  {
   "cell_type": "code",
   "execution_count": 32,
   "id": "76acc386",
   "metadata": {
    "execution": {
     "iopub.execute_input": "2025-07-11T09:51:54.979909Z",
     "iopub.status.busy": "2025-07-11T09:51:54.979309Z",
     "iopub.status.idle": "2025-07-11T09:51:56.335832Z",
     "shell.execute_reply": "2025-07-11T09:51:56.335072Z"
    },
    "papermill": {
     "duration": 1.377436,
     "end_time": "2025-07-11T09:51:56.337175",
     "exception": false,
     "start_time": "2025-07-11T09:51:54.959739",
     "status": "completed"
    },
    "tags": []
   },
   "outputs": [
    {
     "data": {
      "text/plain": [
       "((4320, 5, 128, 128, 3), (4320,))"
      ]
     },
     "execution_count": 32,
     "metadata": {},
     "output_type": "execute_result"
    }
   ],
   "source": [
    "videos = video_generator.videos\n",
    "labels = video_generator.labels\n",
    "\n",
    "videos = np.array(videos, dtype='float32')\n",
    "labels = np.array(labels)\n",
    "\n",
    "videos.shape, labels.shape"
   ]
  },
  {
   "cell_type": "code",
   "execution_count": 33,
   "id": "25ce179a",
   "metadata": {
    "execution": {
     "iopub.execute_input": "2025-07-11T09:51:56.376995Z",
     "iopub.status.busy": "2025-07-11T09:51:56.376751Z",
     "iopub.status.idle": "2025-07-11T09:51:56.382190Z",
     "shell.execute_reply": "2025-07-11T09:51:56.381587Z"
    },
    "papermill": {
     "duration": 0.026204,
     "end_time": "2025-07-11T09:51:56.383458",
     "exception": false,
     "start_time": "2025-07-11T09:51:56.357254",
     "status": "completed"
    },
    "tags": []
   },
   "outputs": [
    {
     "data": {
      "text/plain": [
       "(4320, 18)"
      ]
     },
     "execution_count": 33,
     "metadata": {},
     "output_type": "execute_result"
    }
   ],
   "source": [
    "from tensorflow.keras.utils import to_categorical\n",
    "\n",
    "one_hot_encoded_labels = to_categorical(labels)\n",
    "\n",
    "one_hot_encoded_labels.shape"
   ]
  },
  {
   "cell_type": "code",
   "execution_count": 34,
   "id": "f0d2351f",
   "metadata": {
    "execution": {
     "iopub.execute_input": "2025-07-11T09:51:56.424625Z",
     "iopub.status.busy": "2025-07-11T09:51:56.424423Z",
     "iopub.status.idle": "2025-07-11T09:51:56.650006Z",
     "shell.execute_reply": "2025-07-11T09:51:56.649220Z"
    },
    "papermill": {
     "duration": 0.246776,
     "end_time": "2025-07-11T09:51:56.651347",
     "exception": false,
     "start_time": "2025-07-11T09:51:56.404571",
     "status": "completed"
    },
    "tags": []
   },
   "outputs": [
    {
     "data": {
      "text/plain": [
       "0"
      ]
     },
     "execution_count": 34,
     "metadata": {},
     "output_type": "execute_result"
    }
   ],
   "source": [
    "gc.collect()"
   ]
  },
  {
   "cell_type": "code",
   "execution_count": 35,
   "id": "fb94be43",
   "metadata": {
    "execution": {
     "iopub.execute_input": "2025-07-11T09:51:56.693105Z",
     "iopub.status.busy": "2025-07-11T09:51:56.692444Z",
     "iopub.status.idle": "2025-07-11T09:51:58.167622Z",
     "shell.execute_reply": "2025-07-11T09:51:58.166764Z"
    },
    "papermill": {
     "duration": 1.497006,
     "end_time": "2025-07-11T09:51:58.168914",
     "exception": false,
     "start_time": "2025-07-11T09:51:56.671908",
     "status": "completed"
    },
    "tags": []
   },
   "outputs": [
    {
     "data": {
      "text/plain": [
       "((3456, 5, 128, 128, 3), (3456, 18), (864, 5, 128, 128, 3), (864, 18))"
      ]
     },
     "execution_count": 35,
     "metadata": {},
     "output_type": "execute_result"
    }
   ],
   "source": [
    "# RUN Split the Data into Train ( 75% ) and Test Set ( 25% ).\n",
    "from sklearn.model_selection import train_test_split\n",
    "features_train, features_test, labels_train, labels_test = train_test_split(videos,\n",
    "                                                                            one_hot_encoded_labels,\n",
    "                                                                            test_size = TEST_SIZE,\n",
    "                                                                            shuffle = True,\n",
    "                                                                            random_state = seed_constant)\n",
    "\n",
    "features_train.shape, labels_train.shape, features_test.shape, labels_test.shape"
   ]
  },
  {
   "cell_type": "markdown",
   "id": "ba3f8916",
   "metadata": {
    "papermill": {
     "duration": 0.019562,
     "end_time": "2025-07-11T09:51:58.208860",
     "exception": false,
     "start_time": "2025-07-11T09:51:58.189298",
     "status": "completed"
    },
    "tags": []
   },
   "source": [
    "## Splitting data for ***Training Set*** and ***Validation Set***"
   ]
  },
  {
   "cell_type": "code",
   "execution_count": 36,
   "id": "4273c5c8",
   "metadata": {
    "execution": {
     "iopub.execute_input": "2025-07-11T09:51:58.248498Z",
     "iopub.status.busy": "2025-07-11T09:51:58.247941Z",
     "iopub.status.idle": "2025-07-11T09:51:58.253801Z",
     "shell.execute_reply": "2025-07-11T09:51:58.253191Z"
    },
    "papermill": {
     "duration": 0.026523,
     "end_time": "2025-07-11T09:51:58.254924",
     "exception": false,
     "start_time": "2025-07-11T09:51:58.228401",
     "status": "completed"
    },
    "tags": []
   },
   "outputs": [
    {
     "data": {
      "text/plain": [
       "((2764, 5, 128, 128, 3), (2764, 18), (692, 5, 128, 128, 3), (692, 18))"
      ]
     },
     "execution_count": 36,
     "metadata": {},
     "output_type": "execute_result"
    }
   ],
   "source": [
    "# Assuming features_train and labels_train are defined\n",
    "train_set = 1-VALIDATION_SPLIT\n",
    "\n",
    "train_video_frames, val_video_frames = features_train[:int(train_set * len(features_train))], features_train[int(train_set * len(features_train)):]\n",
    "train_labels, val_labels = labels_train[:int(train_set * len(labels_train))], labels_train[int(train_set * len(labels_train)):]\n",
    "\n",
    "train_video_frames.shape, train_labels.shape, val_video_frames.shape, val_labels.shape"
   ]
  },
  {
   "cell_type": "markdown",
   "id": "08c8b7bc",
   "metadata": {
    "papermill": {
     "duration": 0.019739,
     "end_time": "2025-07-11T09:51:58.294055",
     "exception": false,
     "start_time": "2025-07-11T09:51:58.274316",
     "status": "completed"
    },
    "tags": []
   },
   "source": [
    "## Use Generator `Video Data Generator`"
   ]
  },
  {
   "cell_type": "code",
   "execution_count": 37,
   "id": "11259f3c",
   "metadata": {
    "execution": {
     "iopub.execute_input": "2025-07-11T09:51:58.333689Z",
     "iopub.status.busy": "2025-07-11T09:51:58.333481Z",
     "iopub.status.idle": "2025-07-11T09:51:58.341098Z",
     "shell.execute_reply": "2025-07-11T09:51:58.340303Z"
    },
    "papermill": {
     "duration": 0.029053,
     "end_time": "2025-07-11T09:51:58.342233",
     "exception": false,
     "start_time": "2025-07-11T09:51:58.313180",
     "status": "completed"
    },
    "tags": []
   },
   "outputs": [
    {
     "name": "stdout",
     "output_type": "stream",
     "text": [
      "Total 2764 videos and 2764 classes\n",
      "Total 692 videos and 692 classes\n"
     ]
    },
    {
     "data": {
      "text/plain": [
       "(116, 29)"
      ]
     },
     "execution_count": 37,
     "metadata": {},
     "output_type": "execute_result"
    }
   ],
   "source": [
    "# Create the training and validation generators\n",
    "train_gen = VideoDataGenerator(\n",
    "    videos=train_video_frames, \n",
    "    labels=train_labels, \n",
    "    batch_size=BATCH_SIZE,\n",
    ")\n",
    "\n",
    "val_gen = VideoDataGenerator(\n",
    "    videos=val_video_frames, \n",
    "    labels=val_labels, \n",
    "    batch_size=BATCH_SIZE,\n",
    ")\n",
    "\n",
    "len(train_gen), len(val_gen)"
   ]
  },
  {
   "cell_type": "markdown",
   "id": "612a41b7",
   "metadata": {
    "papermill": {
     "duration": 0.01965,
     "end_time": "2025-07-11T09:51:58.382137",
     "exception": false,
     "start_time": "2025-07-11T09:51:58.362487",
     "status": "completed"
    },
    "tags": []
   },
   "source": [
    "## Inspect ***Generator*** Data on Epochs"
   ]
  },
  {
   "cell_type": "code",
   "execution_count": 38,
   "id": "5746363b",
   "metadata": {
    "execution": {
     "iopub.execute_input": "2025-07-11T09:51:58.421911Z",
     "iopub.status.busy": "2025-07-11T09:51:58.421711Z",
     "iopub.status.idle": "2025-07-11T09:51:58.435115Z",
     "shell.execute_reply": "2025-07-11T09:51:58.434409Z"
    },
    "papermill": {
     "duration": 0.034706,
     "end_time": "2025-07-11T09:51:58.436475",
     "exception": false,
     "start_time": "2025-07-11T09:51:58.401769",
     "status": "completed"
    },
    "tags": []
   },
   "outputs": [
    {
     "name": "stdout",
     "output_type": "stream",
     "text": [
      "[   0    1    2 ... 2761 2762 2763]\n",
      "[ 298 1988 1344 ...  975  495  426]\n"
     ]
    },
    {
     "data": {
      "text/plain": [
       "(24, (24, 5, 128, 128, 3), (24, 18))"
      ]
     },
     "execution_count": 38,
     "metadata": {},
     "output_type": "execute_result"
    }
   ],
   "source": [
    "features, labels = train_gen[1]\n",
    "\n",
    "print(train_gen.indices)\n",
    "\n",
    "train_gen.on_epoch_end()\n",
    "\n",
    "print(train_gen.indices)\n",
    "\n",
    "BATCH_SIZE, features.shape, labels.shape"
   ]
  },
  {
   "cell_type": "markdown",
   "id": "ecb9be05",
   "metadata": {
    "papermill": {
     "duration": 0.020105,
     "end_time": "2025-07-11T09:51:58.478700",
     "exception": false,
     "start_time": "2025-07-11T09:51:58.458595",
     "status": "completed"
    },
    "tags": []
   },
   "source": [
    "## Compute Class Weight"
   ]
  },
  {
   "cell_type": "code",
   "execution_count": 39,
   "id": "7a268578",
   "metadata": {
    "execution": {
     "iopub.execute_input": "2025-07-11T09:51:58.520237Z",
     "iopub.status.busy": "2025-07-11T09:51:58.519976Z",
     "iopub.status.idle": "2025-07-11T09:51:58.526580Z",
     "shell.execute_reply": "2025-07-11T09:51:58.525814Z"
    },
    "papermill": {
     "duration": 0.028682,
     "end_time": "2025-07-11T09:51:58.527650",
     "exception": false,
     "start_time": "2025-07-11T09:51:58.498968",
     "status": "completed"
    },
    "tags": []
   },
   "outputs": [
    {
     "name": "stdout",
     "output_type": "stream",
     "text": [
      "Class weights: {0: 1.0, 1: 1.0, 2: 1.0, 3: 1.0, 4: 1.0, 5: 1.0, 6: 1.0, 7: 1.0, 8: 1.0, 9: 1.0, 10: 1.0, 11: 1.0, 12: 1.0, 13: 1.0, 14: 1.0, 15: 1.0, 16: 1.0, 17: 1.0}\n"
     ]
    }
   ],
   "source": [
    "from sklearn.utils.class_weight import compute_class_weight\n",
    "import numpy as np\n",
    "\n",
    "# Assuming y_int are integer labels (not one-hot)\n",
    "y_int = np.argmax(one_hot_encoded_labels, axis=1)  # or just integer labels if you have them\n",
    "\n",
    "classes = np.arange(NO_OF_CLASSES)  # e.g. np.arange(16)\n",
    "class_weights_values = compute_class_weight(class_weight='balanced', classes=classes, y=y_int)\n",
    "\n",
    "class_weights = dict(zip(classes, class_weights_values))\n",
    "\n",
    "print(\"Class weights:\", class_weights)\n"
   ]
  },
  {
   "cell_type": "code",
   "execution_count": 40,
   "id": "107d3bcb",
   "metadata": {
    "execution": {
     "iopub.execute_input": "2025-07-11T09:51:58.570748Z",
     "iopub.status.busy": "2025-07-11T09:51:58.570372Z",
     "iopub.status.idle": "2025-07-11T09:51:58.809112Z",
     "shell.execute_reply": "2025-07-11T09:51:58.808251Z"
    },
    "papermill": {
     "duration": 0.262275,
     "end_time": "2025-07-11T09:51:58.810439",
     "exception": false,
     "start_time": "2025-07-11T09:51:58.548164",
     "status": "completed"
    },
    "tags": []
   },
   "outputs": [],
   "source": [
    "gc.collect()\n",
    "del videos, one_hot_encoded_labels, labels_train\n",
    "del features_train, val_labels, train_labels\n",
    "del val_video_frames, train_video_frames"
   ]
  },
  {
   "cell_type": "markdown",
   "id": "389e0abb",
   "metadata": {
    "papermill": {
     "duration": 0.020559,
     "end_time": "2025-07-11T09:51:58.852394",
     "exception": false,
     "start_time": "2025-07-11T09:51:58.831835",
     "status": "completed"
    },
    "tags": []
   },
   "source": [
    "# ✨ Model Execution\n",
    "## Creating Model"
   ]
  },
  {
   "cell_type": "markdown",
   "id": "4af84d3b",
   "metadata": {
    "papermill": {
     "duration": 0.019617,
     "end_time": "2025-07-11T09:51:58.891443",
     "exception": false,
     "start_time": "2025-07-11T09:51:58.871826",
     "status": "completed"
    },
    "tags": []
   },
   "source": [
    "## Plot Model Structure"
   ]
  },
  {
   "cell_type": "markdown",
   "id": "257f848e",
   "metadata": {
    "papermill": {
     "duration": 0.019454,
     "end_time": "2025-07-11T09:51:58.930791",
     "exception": false,
     "start_time": "2025-07-11T09:51:58.911337",
     "status": "completed"
    },
    "tags": []
   },
   "source": [
    "## 📈 Model Training"
   ]
  },
  {
   "cell_type": "code",
   "execution_count": 41,
   "id": "606e88cf",
   "metadata": {
    "execution": {
     "iopub.execute_input": "2025-07-11T09:51:58.971615Z",
     "iopub.status.busy": "2025-07-11T09:51:58.971366Z",
     "iopub.status.idle": "2025-07-11T10:07:54.662236Z",
     "shell.execute_reply": "2025-07-11T10:07:54.661375Z"
    },
    "papermill": {
     "duration": 955.713142,
     "end_time": "2025-07-11T10:07:54.663836",
     "exception": false,
     "start_time": "2025-07-11T09:51:58.950694",
     "status": "completed"
    },
    "tags": []
   },
   "outputs": [
    {
     "name": "stdout",
     "output_type": "stream",
     "text": [
      "Memory cleared before creating VGG19+LSTM model\n",
      "TensorFlow version: 2.18.0\n",
      "Pre-loading VGG19 weights...\n",
      "Downloading data from https://storage.googleapis.com/tensorflow/keras-applications/xception/xception_weights_tf_dim_ordering_tf_kernels_notop.h5\n",
      "\u001b[1m83683744/83683744\u001b[0m \u001b[32m━━━━━━━━━━━━━━━━━━━━\u001b[0m\u001b[37m\u001b[0m \u001b[1m0s\u001b[0m 0us/step\n",
      "VGG19 weights loaded successfully!\n",
      "Creating VGG19+LSTM model with parameters:\n",
      "sequence_length: 5, image_height: 128, image_width: 128, classes_list length: 18, dropout_rate: 0.5\n"
     ]
    },
    {
     "name": "stderr",
     "output_type": "stream",
     "text": [
      "/usr/local/lib/python3.11/dist-packages/keras/src/layers/core/wrapper.py:27: UserWarning: Do not pass an `input_shape`/`input_dim` argument to a layer. When using Sequential models, prefer using an `Input(shape)` object as the first layer in the model instead.\n",
      "  super().__init__(**kwargs)\n"
     ]
    },
    {
     "name": "stdout",
     "output_type": "stream",
     "text": [
      "VGG19+LSTM model architecture created successfully!\n"
     ]
    },
    {
     "data": {
      "text/html": [
       "<pre style=\"white-space:pre;overflow-x:auto;line-height:normal;font-family:Menlo,'DejaVu Sans Mono',consolas,'Courier New',monospace\"><span style=\"font-weight: bold\">Model: \"sequential\"</span>\n",
       "</pre>\n"
      ],
      "text/plain": [
       "\u001b[1mModel: \"sequential\"\u001b[0m\n"
      ]
     },
     "metadata": {},
     "output_type": "display_data"
    },
    {
     "data": {
      "text/html": [
       "<pre style=\"white-space:pre;overflow-x:auto;line-height:normal;font-family:Menlo,'DejaVu Sans Mono',consolas,'Courier New',monospace\">┏━━━━━━━━━━━━━━━━━━━━━━━━━━━━━━━━━┳━━━━━━━━━━━━━━━━━━━━━━━━┳━━━━━━━━━━━━━━━┓\n",
       "┃<span style=\"font-weight: bold\"> Layer (type)                    </span>┃<span style=\"font-weight: bold\"> Output Shape           </span>┃<span style=\"font-weight: bold\">       Param # </span>┃\n",
       "┡━━━━━━━━━━━━━━━━━━━━━━━━━━━━━━━━━╇━━━━━━━━━━━━━━━━━━━━━━━━╇━━━━━━━━━━━━━━━┩\n",
       "│ time_distributed_vgg19          │ (<span style=\"color: #00d7ff; text-decoration-color: #00d7ff\">None</span>, <span style=\"color: #00af00; text-decoration-color: #00af00\">5</span>, <span style=\"color: #00af00; text-decoration-color: #00af00\">4</span>, <span style=\"color: #00af00; text-decoration-color: #00af00\">4</span>, <span style=\"color: #00af00; text-decoration-color: #00af00\">2048</span>)  │    <span style=\"color: #00af00; text-decoration-color: #00af00\">20,861,480</span> │\n",
       "│ (<span style=\"color: #0087ff; text-decoration-color: #0087ff\">TimeDistributed</span>)               │                        │               │\n",
       "├─────────────────────────────────┼────────────────────────┼───────────────┤\n",
       "│ time_distributed_pooling        │ (<span style=\"color: #00d7ff; text-decoration-color: #00d7ff\">None</span>, <span style=\"color: #00af00; text-decoration-color: #00af00\">5</span>, <span style=\"color: #00af00; text-decoration-color: #00af00\">2048</span>)        │             <span style=\"color: #00af00; text-decoration-color: #00af00\">0</span> │\n",
       "│ (<span style=\"color: #0087ff; text-decoration-color: #0087ff\">TimeDistributed</span>)               │                        │               │\n",
       "├─────────────────────────────────┼────────────────────────┼───────────────┤\n",
       "│ lstm_vgg19 (<span style=\"color: #0087ff; text-decoration-color: #0087ff\">LSTM</span>)               │ (<span style=\"color: #00d7ff; text-decoration-color: #00d7ff\">None</span>, <span style=\"color: #00af00; text-decoration-color: #00af00\">512</span>)            │     <span style=\"color: #00af00; text-decoration-color: #00af00\">5,244,928</span> │\n",
       "├─────────────────────────────────┼────────────────────────┼───────────────┤\n",
       "│ batch_normalization_vgg19       │ (<span style=\"color: #00d7ff; text-decoration-color: #00d7ff\">None</span>, <span style=\"color: #00af00; text-decoration-color: #00af00\">512</span>)            │         <span style=\"color: #00af00; text-decoration-color: #00af00\">2,048</span> │\n",
       "│ (<span style=\"color: #0087ff; text-decoration-color: #0087ff\">BatchNormalization</span>)            │                        │               │\n",
       "├─────────────────────────────────┼────────────────────────┼───────────────┤\n",
       "│ dropout_lstm_vgg19 (<span style=\"color: #0087ff; text-decoration-color: #0087ff\">Dropout</span>)    │ (<span style=\"color: #00d7ff; text-decoration-color: #00d7ff\">None</span>, <span style=\"color: #00af00; text-decoration-color: #00af00\">512</span>)            │             <span style=\"color: #00af00; text-decoration-color: #00af00\">0</span> │\n",
       "├─────────────────────────────────┼────────────────────────┼───────────────┤\n",
       "│ dense_vgg19_1 (<span style=\"color: #0087ff; text-decoration-color: #0087ff\">Dense</span>)           │ (<span style=\"color: #00d7ff; text-decoration-color: #00d7ff\">None</span>, <span style=\"color: #00af00; text-decoration-color: #00af00\">512</span>)            │       <span style=\"color: #00af00; text-decoration-color: #00af00\">262,656</span> │\n",
       "├─────────────────────────────────┼────────────────────────┼───────────────┤\n",
       "│ dropout_dense_vgg19_1 (<span style=\"color: #0087ff; text-decoration-color: #0087ff\">Dropout</span>) │ (<span style=\"color: #00d7ff; text-decoration-color: #00d7ff\">None</span>, <span style=\"color: #00af00; text-decoration-color: #00af00\">512</span>)            │             <span style=\"color: #00af00; text-decoration-color: #00af00\">0</span> │\n",
       "├─────────────────────────────────┼────────────────────────┼───────────────┤\n",
       "│ dense_vgg19_2 (<span style=\"color: #0087ff; text-decoration-color: #0087ff\">Dense</span>)           │ (<span style=\"color: #00d7ff; text-decoration-color: #00d7ff\">None</span>, <span style=\"color: #00af00; text-decoration-color: #00af00\">128</span>)            │        <span style=\"color: #00af00; text-decoration-color: #00af00\">65,664</span> │\n",
       "├─────────────────────────────────┼────────────────────────┼───────────────┤\n",
       "│ dropout_dense_vgg19_2 (<span style=\"color: #0087ff; text-decoration-color: #0087ff\">Dropout</span>) │ (<span style=\"color: #00d7ff; text-decoration-color: #00d7ff\">None</span>, <span style=\"color: #00af00; text-decoration-color: #00af00\">128</span>)            │             <span style=\"color: #00af00; text-decoration-color: #00af00\">0</span> │\n",
       "├─────────────────────────────────┼────────────────────────┼───────────────┤\n",
       "│ output_vgg19 (<span style=\"color: #0087ff; text-decoration-color: #0087ff\">Dense</span>)            │ (<span style=\"color: #00d7ff; text-decoration-color: #00d7ff\">None</span>, <span style=\"color: #00af00; text-decoration-color: #00af00\">18</span>)             │         <span style=\"color: #00af00; text-decoration-color: #00af00\">2,322</span> │\n",
       "└─────────────────────────────────┴────────────────────────┴───────────────┘\n",
       "</pre>\n"
      ],
      "text/plain": [
       "┏━━━━━━━━━━━━━━━━━━━━━━━━━━━━━━━━━┳━━━━━━━━━━━━━━━━━━━━━━━━┳━━━━━━━━━━━━━━━┓\n",
       "┃\u001b[1m \u001b[0m\u001b[1mLayer (type)                   \u001b[0m\u001b[1m \u001b[0m┃\u001b[1m \u001b[0m\u001b[1mOutput Shape          \u001b[0m\u001b[1m \u001b[0m┃\u001b[1m \u001b[0m\u001b[1m      Param #\u001b[0m\u001b[1m \u001b[0m┃\n",
       "┡━━━━━━━━━━━━━━━━━━━━━━━━━━━━━━━━━╇━━━━━━━━━━━━━━━━━━━━━━━━╇━━━━━━━━━━━━━━━┩\n",
       "│ time_distributed_vgg19          │ (\u001b[38;5;45mNone\u001b[0m, \u001b[38;5;34m5\u001b[0m, \u001b[38;5;34m4\u001b[0m, \u001b[38;5;34m4\u001b[0m, \u001b[38;5;34m2048\u001b[0m)  │    \u001b[38;5;34m20,861,480\u001b[0m │\n",
       "│ (\u001b[38;5;33mTimeDistributed\u001b[0m)               │                        │               │\n",
       "├─────────────────────────────────┼────────────────────────┼───────────────┤\n",
       "│ time_distributed_pooling        │ (\u001b[38;5;45mNone\u001b[0m, \u001b[38;5;34m5\u001b[0m, \u001b[38;5;34m2048\u001b[0m)        │             \u001b[38;5;34m0\u001b[0m │\n",
       "│ (\u001b[38;5;33mTimeDistributed\u001b[0m)               │                        │               │\n",
       "├─────────────────────────────────┼────────────────────────┼───────────────┤\n",
       "│ lstm_vgg19 (\u001b[38;5;33mLSTM\u001b[0m)               │ (\u001b[38;5;45mNone\u001b[0m, \u001b[38;5;34m512\u001b[0m)            │     \u001b[38;5;34m5,244,928\u001b[0m │\n",
       "├─────────────────────────────────┼────────────────────────┼───────────────┤\n",
       "│ batch_normalization_vgg19       │ (\u001b[38;5;45mNone\u001b[0m, \u001b[38;5;34m512\u001b[0m)            │         \u001b[38;5;34m2,048\u001b[0m │\n",
       "│ (\u001b[38;5;33mBatchNormalization\u001b[0m)            │                        │               │\n",
       "├─────────────────────────────────┼────────────────────────┼───────────────┤\n",
       "│ dropout_lstm_vgg19 (\u001b[38;5;33mDropout\u001b[0m)    │ (\u001b[38;5;45mNone\u001b[0m, \u001b[38;5;34m512\u001b[0m)            │             \u001b[38;5;34m0\u001b[0m │\n",
       "├─────────────────────────────────┼────────────────────────┼───────────────┤\n",
       "│ dense_vgg19_1 (\u001b[38;5;33mDense\u001b[0m)           │ (\u001b[38;5;45mNone\u001b[0m, \u001b[38;5;34m512\u001b[0m)            │       \u001b[38;5;34m262,656\u001b[0m │\n",
       "├─────────────────────────────────┼────────────────────────┼───────────────┤\n",
       "│ dropout_dense_vgg19_1 (\u001b[38;5;33mDropout\u001b[0m) │ (\u001b[38;5;45mNone\u001b[0m, \u001b[38;5;34m512\u001b[0m)            │             \u001b[38;5;34m0\u001b[0m │\n",
       "├─────────────────────────────────┼────────────────────────┼───────────────┤\n",
       "│ dense_vgg19_2 (\u001b[38;5;33mDense\u001b[0m)           │ (\u001b[38;5;45mNone\u001b[0m, \u001b[38;5;34m128\u001b[0m)            │        \u001b[38;5;34m65,664\u001b[0m │\n",
       "├─────────────────────────────────┼────────────────────────┼───────────────┤\n",
       "│ dropout_dense_vgg19_2 (\u001b[38;5;33mDropout\u001b[0m) │ (\u001b[38;5;45mNone\u001b[0m, \u001b[38;5;34m128\u001b[0m)            │             \u001b[38;5;34m0\u001b[0m │\n",
       "├─────────────────────────────────┼────────────────────────┼───────────────┤\n",
       "│ output_vgg19 (\u001b[38;5;33mDense\u001b[0m)            │ (\u001b[38;5;45mNone\u001b[0m, \u001b[38;5;34m18\u001b[0m)             │         \u001b[38;5;34m2,322\u001b[0m │\n",
       "└─────────────────────────────────┴────────────────────────┴───────────────┘\n"
      ]
     },
     "metadata": {},
     "output_type": "display_data"
    },
    {
     "data": {
      "text/html": [
       "<pre style=\"white-space:pre;overflow-x:auto;line-height:normal;font-family:Menlo,'DejaVu Sans Mono',consolas,'Courier New',monospace\"><span style=\"font-weight: bold\"> Total params: </span><span style=\"color: #00af00; text-decoration-color: #00af00\">26,439,098</span> (100.86 MB)\n",
       "</pre>\n"
      ],
      "text/plain": [
       "\u001b[1m Total params: \u001b[0m\u001b[38;5;34m26,439,098\u001b[0m (100.86 MB)\n"
      ]
     },
     "metadata": {},
     "output_type": "display_data"
    },
    {
     "data": {
      "text/html": [
       "<pre style=\"white-space:pre;overflow-x:auto;line-height:normal;font-family:Menlo,'DejaVu Sans Mono',consolas,'Courier New',monospace\"><span style=\"font-weight: bold\"> Trainable params: </span><span style=\"color: #00af00; text-decoration-color: #00af00\">5,576,594</span> (21.27 MB)\n",
       "</pre>\n"
      ],
      "text/plain": [
       "\u001b[1m Trainable params: \u001b[0m\u001b[38;5;34m5,576,594\u001b[0m (21.27 MB)\n"
      ]
     },
     "metadata": {},
     "output_type": "display_data"
    },
    {
     "data": {
      "text/html": [
       "<pre style=\"white-space:pre;overflow-x:auto;line-height:normal;font-family:Menlo,'DejaVu Sans Mono',consolas,'Courier New',monospace\"><span style=\"font-weight: bold\"> Non-trainable params: </span><span style=\"color: #00af00; text-decoration-color: #00af00\">20,862,504</span> (79.58 MB)\n",
       "</pre>\n"
      ],
      "text/plain": [
       "\u001b[1m Non-trainable params: \u001b[0m\u001b[38;5;34m20,862,504\u001b[0m (79.58 MB)\n"
      ]
     },
     "metadata": {},
     "output_type": "display_data"
    },
    {
     "name": "stdout",
     "output_type": "stream",
     "text": [
      "VGG19+LSTM Model Created Successfully!\n",
      "Xception_VGG19_LSTM Model Plot saved successfully...\n",
      "train_gen.videos shape: (2764, 5, 128, 128, 3)\n",
      "train_gen.labels shape: (2764, 18)\n",
      "val_gen.videos shape: (692, 5, 128, 128, 3)\n",
      "val_gen.labels shape: (692, 18)\n",
      "features_test shape: (864, 5, 128, 128, 3)\n",
      "labels_test shape: (864, 18)\n",
      "train_gen batch videos shape: (24, 5, 128, 128, 3)\n",
      "train_gen batch labels shape: (24, 18)\n",
      "val_gen batch videos shape: (24, 5, 128, 128, 3)\n",
      "val_gen batch labels shape: (24, 18)\n",
      "Dataset - Kard Kinect Activity Recognition Dataset\n",
      "There are total 18 classes, selected 18 classes\n",
      "Setting None videos/class to train the model.\n",
      "Image size 128x128 with 5 sequence length\n",
      "Dropout rate: 0.5\n",
      "Train-Test split ratio 80/20\n",
      "Validation data from Train set 20.0%\n",
      "\n",
      "\n",
      "Initial training started for VGG19+LSTM model with 2764 videos of 18 classes with 692 videos for validation...\n",
      "Epoch 1/30\n"
     ]
    },
    {
     "name": "stderr",
     "output_type": "stream",
     "text": [
      "I0000 00:00:1752227554.158942    4306 cuda_dnn.cc:529] Loaded cuDNN version 90300\n"
     ]
    },
    {
     "name": "stdout",
     "output_type": "stream",
     "text": [
      "    116/Unknown \u001b[1m56s\u001b[0m 197ms/step - accuracy: 0.0655 - loss: 23.7693"
     ]
    },
    {
     "name": "stderr",
     "output_type": "stream",
     "text": [
      "/usr/local/lib/python3.11/dist-packages/keras/src/trainers/epoch_iterator.py:151: UserWarning: Your input ran out of data; interrupting training. Make sure that your dataset or generator can generate at least `steps_per_epoch * epochs` batches. You may need to use the `.repeat()` function when building your dataset.\n",
      "  self._interrupted_warning()\n"
     ]
    },
    {
     "name": "stdout",
     "output_type": "stream",
     "text": [
      "\u001b[1m116/116\u001b[0m \u001b[32m━━━━━━━━━━━━━━━━━━━━\u001b[0m\u001b[37m\u001b[0m \u001b[1m70s\u001b[0m 315ms/step - accuracy: 0.0656 - loss: 23.7261 - val_accuracy: 0.1055 - val_loss: 12.0745 - learning_rate: 0.0010\n",
      "Epoch 2/30\n",
      "\u001b[1m116/116\u001b[0m \u001b[32m━━━━━━━━━━━━━━━━━━━━\u001b[0m\u001b[37m\u001b[0m \u001b[1m29s\u001b[0m 253ms/step - accuracy: 0.1240 - loss: 10.8477 - val_accuracy: 0.1792 - val_loss: 8.0500 - learning_rate: 0.0010\n",
      "Epoch 3/30\n",
      "\u001b[1m116/116\u001b[0m \u001b[32m━━━━━━━━━━━━━━━━━━━━\u001b[0m\u001b[37m\u001b[0m \u001b[1m31s\u001b[0m 264ms/step - accuracy: 0.1459 - loss: 7.4570 - val_accuracy: 0.2182 - val_loss: 6.0048 - learning_rate: 0.0010\n",
      "Epoch 4/30\n",
      "\u001b[1m116/116\u001b[0m \u001b[32m━━━━━━━━━━━━━━━━━━━━\u001b[0m\u001b[37m\u001b[0m \u001b[1m31s\u001b[0m 266ms/step - accuracy: 0.2054 - loss: 5.5980 - val_accuracy: 0.2803 - val_loss: 4.6410 - learning_rate: 0.0010\n",
      "Epoch 5/30\n",
      "\u001b[1m116/116\u001b[0m \u001b[32m━━━━━━━━━━━━━━━━━━━━\u001b[0m\u001b[37m\u001b[0m \u001b[1m30s\u001b[0m 261ms/step - accuracy: 0.2518 - loss: 4.5288 - val_accuracy: 0.2746 - val_loss: 3.9305 - learning_rate: 0.0010\n",
      "Epoch 6/30\n",
      "\u001b[1m116/116\u001b[0m \u001b[32m━━━━━━━━━━━━━━━━━━━━\u001b[0m\u001b[37m\u001b[0m \u001b[1m30s\u001b[0m 263ms/step - accuracy: 0.2669 - loss: 3.8377 - val_accuracy: 0.2775 - val_loss: 3.4946 - learning_rate: 0.0010\n",
      "Epoch 7/30\n",
      "\u001b[1m116/116\u001b[0m \u001b[32m━━━━━━━━━━━━━━━━━━━━\u001b[0m\u001b[37m\u001b[0m \u001b[1m31s\u001b[0m 264ms/step - accuracy: 0.3031 - loss: 3.4020 - val_accuracy: 0.3006 - val_loss: 3.1882 - learning_rate: 0.0010\n",
      "Epoch 8/30\n",
      "\u001b[1m116/116\u001b[0m \u001b[32m━━━━━━━━━━━━━━━━━━━━\u001b[0m\u001b[37m\u001b[0m \u001b[1m30s\u001b[0m 263ms/step - accuracy: 0.3398 - loss: 3.1524 - val_accuracy: 0.3512 - val_loss: 3.0423 - learning_rate: 0.0010\n",
      "Epoch 9/30\n",
      "\u001b[1m116/116\u001b[0m \u001b[32m━━━━━━━━━━━━━━━━━━━━\u001b[0m\u001b[37m\u001b[0m \u001b[1m30s\u001b[0m 263ms/step - accuracy: 0.3644 - loss: 2.9524 - val_accuracy: 0.3743 - val_loss: 2.7577 - learning_rate: 0.0010\n",
      "Epoch 10/30\n",
      "\u001b[1m116/116\u001b[0m \u001b[32m━━━━━━━━━━━━━━━━━━━━\u001b[0m\u001b[37m\u001b[0m \u001b[1m30s\u001b[0m 261ms/step - accuracy: 0.3974 - loss: 2.8089 - val_accuracy: 0.3801 - val_loss: 2.7623 - learning_rate: 0.0010\n",
      "Epoch 11/30\n",
      "\u001b[1m116/116\u001b[0m \u001b[32m━━━━━━━━━━━━━━━━━━━━\u001b[0m\u001b[37m\u001b[0m \u001b[1m30s\u001b[0m 262ms/step - accuracy: 0.4287 - loss: 2.6471 - val_accuracy: 0.4393 - val_loss: 2.5714 - learning_rate: 0.0010\n",
      "Epoch 12/30\n",
      "\u001b[1m116/116\u001b[0m \u001b[32m━━━━━━━━━━━━━━━━━━━━\u001b[0m\u001b[37m\u001b[0m \u001b[1m30s\u001b[0m 260ms/step - accuracy: 0.4415 - loss: 2.5670 - val_accuracy: 0.4263 - val_loss: 2.6008 - learning_rate: 0.0010\n",
      "Epoch 13/30\n",
      "\u001b[1m116/116\u001b[0m \u001b[32m━━━━━━━━━━━━━━━━━━━━\u001b[0m\u001b[37m\u001b[0m \u001b[1m30s\u001b[0m 261ms/step - accuracy: 0.4444 - loss: 2.5336 - val_accuracy: 0.4090 - val_loss: 2.5882 - learning_rate: 0.0010\n",
      "Epoch 14/30\n",
      "\u001b[1m116/116\u001b[0m \u001b[32m━━━━━━━━━━━━━━━━━━━━\u001b[0m\u001b[37m\u001b[0m \u001b[1m30s\u001b[0m 262ms/step - accuracy: 0.4781 - loss: 2.6093 - val_accuracy: 0.5217 - val_loss: 2.2523 - learning_rate: 0.0010\n",
      "Epoch 15/30\n",
      "\u001b[1m116/116\u001b[0m \u001b[32m━━━━━━━━━━━━━━━━━━━━\u001b[0m\u001b[37m\u001b[0m \u001b[1m30s\u001b[0m 261ms/step - accuracy: 0.4945 - loss: 2.3758 - val_accuracy: 0.5145 - val_loss: 2.3087 - learning_rate: 0.0010\n",
      "Epoch 16/30\n",
      "\u001b[1m116/116\u001b[0m \u001b[32m━━━━━━━━━━━━━━━━━━━━\u001b[0m\u001b[37m\u001b[0m \u001b[1m30s\u001b[0m 262ms/step - accuracy: 0.4946 - loss: 2.3123 - val_accuracy: 0.5405 - val_loss: 2.1190 - learning_rate: 0.0010\n",
      "Epoch 17/30\n",
      "\u001b[1m116/116\u001b[0m \u001b[32m━━━━━━━━━━━━━━━━━━━━\u001b[0m\u001b[37m\u001b[0m \u001b[1m30s\u001b[0m 261ms/step - accuracy: 0.5296 - loss: 2.3366 - val_accuracy: 0.5405 - val_loss: 2.1365 - learning_rate: 0.0010\n",
      "Epoch 18/30\n",
      "\u001b[1m116/116\u001b[0m \u001b[32m━━━━━━━━━━━━━━━━━━━━\u001b[0m\u001b[37m\u001b[0m \u001b[1m30s\u001b[0m 261ms/step - accuracy: 0.5443 - loss: 2.2412 - val_accuracy: 0.5014 - val_loss: 2.3313 - learning_rate: 0.0010\n",
      "Epoch 19/30\n",
      "\u001b[1m116/116\u001b[0m \u001b[32m━━━━━━━━━━━━━━━━━━━━\u001b[0m\u001b[37m\u001b[0m \u001b[1m30s\u001b[0m 262ms/step - accuracy: 0.5634 - loss: 2.1134 - val_accuracy: 0.5838 - val_loss: 1.9524 - learning_rate: 0.0010\n",
      "Epoch 20/30\n",
      "\u001b[1m116/116\u001b[0m \u001b[32m━━━━━━━━━━━━━━━━━━━━\u001b[0m\u001b[37m\u001b[0m \u001b[1m30s\u001b[0m 262ms/step - accuracy: 0.5861 - loss: 2.0067 - val_accuracy: 0.5824 - val_loss: 2.0660 - learning_rate: 0.0010\n",
      "Epoch 21/30\n",
      "\u001b[1m116/116\u001b[0m \u001b[32m━━━━━━━━━━━━━━━━━━━━\u001b[0m\u001b[37m\u001b[0m \u001b[1m30s\u001b[0m 261ms/step - accuracy: 0.6012 - loss: 2.0395 - val_accuracy: 0.5419 - val_loss: 2.3933 - learning_rate: 0.0010\n",
      "Epoch 22/30\n",
      "\u001b[1m116/116\u001b[0m \u001b[32m━━━━━━━━━━━━━━━━━━━━\u001b[0m\u001b[37m\u001b[0m \u001b[1m30s\u001b[0m 262ms/step - accuracy: 0.5792 - loss: 2.1956 - val_accuracy: 0.5332 - val_loss: 2.3284 - learning_rate: 0.0010\n",
      "Epoch 23/30\n",
      "\u001b[1m116/116\u001b[0m \u001b[32m━━━━━━━━━━━━━━━━━━━━\u001b[0m\u001b[37m\u001b[0m \u001b[1m30s\u001b[0m 262ms/step - accuracy: 0.6307 - loss: 1.9168 - val_accuracy: 0.6373 - val_loss: 1.7860 - learning_rate: 5.0000e-04\n",
      "Epoch 24/30\n",
      "\u001b[1m116/116\u001b[0m \u001b[32m━━━━━━━━━━━━━━━━━━━━\u001b[0m\u001b[37m\u001b[0m \u001b[1m30s\u001b[0m 260ms/step - accuracy: 0.6828 - loss: 1.5605 - val_accuracy: 0.6142 - val_loss: 1.8868 - learning_rate: 5.0000e-04\n",
      "Epoch 25/30\n",
      "\u001b[1m116/116\u001b[0m \u001b[32m━━━━━━━━━━━━━━━━━━━━\u001b[0m\u001b[37m\u001b[0m \u001b[1m30s\u001b[0m 262ms/step - accuracy: 0.6908 - loss: 1.4830 - val_accuracy: 0.6402 - val_loss: 1.6405 - learning_rate: 5.0000e-04\n",
      "Epoch 26/30\n",
      "\u001b[1m116/116\u001b[0m \u001b[32m━━━━━━━━━━━━━━━━━━━━\u001b[0m\u001b[37m\u001b[0m \u001b[1m30s\u001b[0m 262ms/step - accuracy: 0.7129 - loss: 1.3879 - val_accuracy: 0.6734 - val_loss: 1.5381 - learning_rate: 5.0000e-04\n",
      "Epoch 27/30\n",
      "\u001b[1m116/116\u001b[0m \u001b[32m━━━━━━━━━━━━━━━━━━━━\u001b[0m\u001b[37m\u001b[0m \u001b[1m31s\u001b[0m 263ms/step - accuracy: 0.7351 - loss: 1.3802 - val_accuracy: 0.7225 - val_loss: 1.3544 - learning_rate: 5.0000e-04\n",
      "Epoch 28/30\n",
      "\u001b[1m116/116\u001b[0m \u001b[32m━━━━━━━━━━━━━━━━━━━━\u001b[0m\u001b[37m\u001b[0m \u001b[1m30s\u001b[0m 262ms/step - accuracy: 0.7556 - loss: 1.2926 - val_accuracy: 0.6604 - val_loss: 1.6068 - learning_rate: 5.0000e-04\n",
      "Epoch 29/30\n",
      "\u001b[1m116/116\u001b[0m \u001b[32m━━━━━━━━━━━━━━━━━━━━\u001b[0m\u001b[37m\u001b[0m \u001b[1m30s\u001b[0m 261ms/step - accuracy: 0.7748 - loss: 1.2514 - val_accuracy: 0.6994 - val_loss: 1.5067 - learning_rate: 5.0000e-04\n",
      "Epoch 30/30\n",
      "\u001b[1m116/116\u001b[0m \u001b[32m━━━━━━━━━━━━━━━━━━━━\u001b[0m\u001b[37m\u001b[0m \u001b[1m30s\u001b[0m 262ms/step - accuracy: 0.7701 - loss: 1.2876 - val_accuracy: 0.6777 - val_loss: 1.5342 - learning_rate: 5.0000e-04\n"
     ]
    }
   ],
   "source": [
    "# Import necessary libraries\n",
    "from tensorflow.keras.applications import Xception\n",
    "from tensorflow.keras.models import Sequential\n",
    "from tensorflow.keras.layers import TimeDistributed, GlobalAveragePooling2D, LSTM, Dropout, Dense, BatchNormalization\n",
    "from tensorflow.keras.regularizers import l2\n",
    "from tensorflow.keras.callbacks import EarlyStopping, ReduceLROnPlateau\n",
    "from tensorflow.keras.utils import to_categorical\n",
    "import tensorflow as tf\n",
    "import numpy as np\n",
    "import gc\n",
    "\n",
    "# Clear memory before creating the new model\n",
    "gc.collect()\n",
    "tf.keras.backend.clear_session()\n",
    "print(\"Memory cleared before creating VGG19+LSTM model\")\n",
    "\n",
    "# Print TensorFlow version\n",
    "print(f\"TensorFlow version: {tf.__version__}\")\n",
    "\n",
    "# Pre-load VGG19 weights\n",
    "print(\"Pre-loading VGG19 weights...\")\n",
    "try:\n",
    "    base_model = Xception(weights='imagenet', include_top=False, input_shape=(IMAGE_HEIGHT, IMAGE_WIDTH, 3))\n",
    "    print(\"VGG19 weights loaded successfully!\")\n",
    "except Exception as e:\n",
    "    print(f\"Failed to load VGG19 weights: {str(e)}\")\n",
    "    print(\"Falling back to initializing VGG19 without pre-trained weights...\")\n",
    "    base_model = Xception(weights=None, include_top=False, input_shape=(IMAGE_HEIGHT, IMAGE_WIDTH, 3))\n",
    "\n",
    "# Define function to create VGG19+LSTM model\n",
    "def create_model(sequence_length, image_height, image_width, classes_list=None, dropout_rate=0.5, base_model=None):\n",
    "    print(\"Creating VGG19+LSTM model with parameters:\")\n",
    "    print(f\"sequence_length: {sequence_length}, image_height: {image_height}, image_width: {image_width}, classes_list length: {len(classes_list) if classes_list is not None else None}, dropout_rate: {dropout_rate}\")\n",
    "    \n",
    "    if classes_list is None:\n",
    "        raise ValueError(\"classes_list must be provided to define the output layer size\")\n",
    "    if base_model is None:\n",
    "        raise ValueError(\"base_model must be provided to avoid re-downloading weights\")\n",
    "\n",
    "    try:\n",
    "        # Use the pre-loaded base model\n",
    "        # Freeze the base model for initial training\n",
    "        base_model.trainable = False\n",
    "\n",
    "        # Define the Sequential model\n",
    "        model = Sequential([\n",
    "            # TimeDistributed VGG19 model\n",
    "            TimeDistributed(\n",
    "                base_model,\n",
    "                input_shape=(sequence_length, image_height, image_width, 3),\n",
    "                name=\"time_distributed_vgg19\"\n",
    "            ),\n",
    "            # TimeDistributed GlobalAveragePooling2D\n",
    "            TimeDistributed(GlobalAveragePooling2D(), name=\"time_distributed_pooling\"),\n",
    "            # LSTM layer with 512 units\n",
    "            LSTM(512, activation=\"tanh\", return_sequences=False, kernel_regularizer=l2(0.01), name=\"lstm_vgg19\"),\n",
    "            BatchNormalization(name=\"batch_normalization_vgg19\"),\n",
    "            # Dropout after LSTM\n",
    "            Dropout(dropout_rate, name=\"dropout_lstm_vgg19\"),\n",
    "            # Dense layer with 512 units\n",
    "            Dense(512, activation=\"relu\", kernel_regularizer=l2(0.01), name=\"dense_vgg19_1\"),\n",
    "            # Dropout after first Dense\n",
    "            Dropout(dropout_rate, name=\"dropout_dense_vgg19_1\"),\n",
    "            # Dense layer with 128 units\n",
    "            Dense(128, activation=\"relu\", kernel_regularizer=l2(0.01), name=\"dense_vgg19_2\"),\n",
    "            # Dropout after second Dense\n",
    "            Dropout(dropout_rate, name=\"dropout_dense_vgg19_2\"),\n",
    "            # Output Dense layer with softmax activation\n",
    "            Dense(len(classes_list), activation=\"softmax\", name=\"output_vgg19\")\n",
    "        ])\n",
    "\n",
    "        # Print model summary\n",
    "        print(\"VGG19+LSTM model architecture created successfully!\")\n",
    "        model.summary()\n",
    "\n",
    "        return model\n",
    "\n",
    "    except Exception as e:\n",
    "        print(f\"Error creating VGG19+LSTM model: {str(e)}\")\n",
    "        import traceback\n",
    "        traceback.print_exc()\n",
    "        return None\n",
    "\n",
    "# Create the VGG19+LSTM model using the pre-loaded base model\n",
    "model = create_model(\n",
    "    sequence_length=SEQUENCE_LENGTH,\n",
    "    image_height=IMAGE_HEIGHT,\n",
    "    image_width=IMAGE_WIDTH,\n",
    "    classes_list=CLASSES_LIST,\n",
    "    dropout_rate=DROPOUT_RATE,\n",
    "    base_model=base_model\n",
    ")\n",
    "\n",
    "# Check if model was created successfully\n",
    "if model is None:\n",
    "    raise ValueError(\"Failed to create VGG19+LSTM model. Check error messages above.\")\n",
    "else:\n",
    "    print(\"VGG19+LSTM Model Created Successfully!\")\n",
    "\n",
    "# Plot the model structure\n",
    "from tensorflow.keras.utils import plot_model\n",
    "try:\n",
    "    plot_model(model, to_file=f'{MODEL_NAME}_model_Plot.png', show_shapes=True, show_layer_names=True)\n",
    "    print(f\"{MODEL_NAME}_VGG19_LSTM Model Plot saved successfully...\")\n",
    "except Exception as e:\n",
    "    print(f\"Failed to plot model: {str(e)}\")\n",
    "\n",
    "# Verify data shapes\n",
    "print(f\"train_gen.videos shape: {np.shape(train_gen.videos)}\")\n",
    "print(f\"train_gen.labels shape: {np.shape(train_gen.labels)}\")\n",
    "print(f\"val_gen.videos shape: {np.shape(val_gen.videos)}\")\n",
    "print(f\"val_gen.labels shape: {np.shape(val_gen.labels)}\")\n",
    "print(f\"features_test shape: {np.shape(features_test)}\")\n",
    "print(f\"labels_test shape: {np.shape(labels_test)}\")\n",
    "\n",
    "# Ensure labels_test is one-hot encoded\n",
    "if len(labels_test.shape) == 1:\n",
    "    print(\"Converting labels_test to one-hot encoded format...\")\n",
    "    labels_test = to_categorical(labels_test, num_classes=NO_OF_CLASSES)\n",
    "    print(f\"New labels_test shape: {labels_test.shape}\")\n",
    "\n",
    "# Verify generator batch shapes\n",
    "try:\n",
    "    videos, labels = train_gen[0]\n",
    "    print(f\"train_gen batch videos shape: {videos.shape}\")\n",
    "    print(f\"train_gen batch labels shape: {labels.shape}\")\n",
    "    videos, labels = val_gen[0]\n",
    "    print(f\"val_gen batch videos shape: {videos.shape}\")\n",
    "    print(f\"val_gen batch labels shape: {labels.shape}\")\n",
    "except Exception as e:\n",
    "    print(f\"Error accessing generator data: {str(e)}\")\n",
    "\n",
    "# Compile the model for initial training\n",
    "early_stopping_callback = EarlyStopping(monitor='val_loss', patience=7, mode='min', restore_best_weights=True)\n",
    "lr_scheduler = ReduceLROnPlateau(monitor='val_loss', factor=0.5, patience=3, min_lr=1e-6)\n",
    "\n",
    "model.compile(\n",
    "    loss='categorical_crossentropy',\n",
    "    optimizer=tf.keras.optimizers.Adam(learning_rate=0.001),  # Higher learning rate for initial training\n",
    "    metrics=['accuracy']\n",
    ")\n",
    "\n",
    "# Print dataset summary\n",
    "print(f\"Dataset - {DATASET_NAME}\")\n",
    "print(f\"There are total {len(ALL_CLASS_NAMES)} classes, selected {NO_OF_CLASSES} classes\")\n",
    "print(f\"Setting {MAX_VIDEO_PER_CLASS} videos/class to train the model.\")\n",
    "print(f\"Image size {IMAGE_HEIGHT}x{IMAGE_WIDTH} with {SEQUENCE_LENGTH} sequence length\")\n",
    "print(f\"Dropout rate: {DROPOUT_RATE}\")\n",
    "print(f\"Train-Test split ratio {int((1-TEST_SIZE)*100)}/{int(TEST_SIZE*100)}\")\n",
    "print(f\"Validation data from Train set {VALIDATION_SPLIT*100}%\")\n",
    "print(\"\\n\")\n",
    "\n",
    "# Initial training with frozen base model\n",
    "print(f\"Initial training started for VGG19+LSTM model with {len(train_gen.videos)} videos of {NO_OF_CLASSES} classes with {len(val_gen.videos)} videos for validation...\")\n",
    "try:\n",
    "    initial_model_history = model.fit(\n",
    "        train_gen.as_dataset(),\n",
    "        validation_data=val_gen.as_dataset(),\n",
    "        epochs=EPOCHS,\n",
    "        class_weight=class_weights,\n",
    "        callbacks=[early_stopping_callback, lr_scheduler]\n",
    "    )\n",
    "except Exception as e:\n",
    "    print(f\"Error during initial model training: {str(e)}\")\n",
    "    import traceback\n",
    "    traceback.print_exc()\n"
   ]
  },
  {
   "cell_type": "code",
   "execution_count": 42,
   "id": "fd47ca31",
   "metadata": {
    "execution": {
     "iopub.execute_input": "2025-07-11T10:07:55.028591Z",
     "iopub.status.busy": "2025-07-11T10:07:55.028284Z",
     "iopub.status.idle": "2025-07-11T10:26:38.239003Z",
     "shell.execute_reply": "2025-07-11T10:26:38.238221Z"
    },
    "papermill": {
     "duration": 1123.392233,
     "end_time": "2025-07-11T10:26:38.240387",
     "exception": false,
     "start_time": "2025-07-11T10:07:54.848154",
     "status": "completed"
    },
    "tags": []
   },
   "outputs": [
    {
     "name": "stdout",
     "output_type": "stream",
     "text": [
      "\n",
      "Fine-tuning started for VGG19+LSTM model with 2764 videos of 18 classes with 692 videos for validation...\n",
      "Epoch 1/30\n",
      "\u001b[1m116/116\u001b[0m \u001b[32m━━━━━━━━━━━━━━━━━━━━\u001b[0m\u001b[37m\u001b[0m \u001b[1m78s\u001b[0m 376ms/step - accuracy: 0.5698 - loss: 1.9216 - val_accuracy: 0.7587 - val_loss: 1.2313 - learning_rate: 1.0000e-04\n",
      "Epoch 2/30\n",
      "\u001b[1m116/116\u001b[0m \u001b[32m━━━━━━━━━━━━━━━━━━━━\u001b[0m\u001b[37m\u001b[0m \u001b[1m36s\u001b[0m 312ms/step - accuracy: 0.7609 - loss: 1.2166 - val_accuracy: 0.7905 - val_loss: 1.1065 - learning_rate: 1.0000e-04\n",
      "Epoch 3/30\n",
      "\u001b[1m116/116\u001b[0m \u001b[32m━━━━━━━━━━━━━━━━━━━━\u001b[0m\u001b[37m\u001b[0m \u001b[1m36s\u001b[0m 306ms/step - accuracy: 0.8334 - loss: 1.0364 - val_accuracy: 0.7905 - val_loss: 1.0410 - learning_rate: 1.0000e-04\n",
      "Epoch 4/30\n",
      "\u001b[1m116/116\u001b[0m \u001b[32m━━━━━━━━━━━━━━━━━━━━\u001b[0m\u001b[37m\u001b[0m \u001b[1m36s\u001b[0m 311ms/step - accuracy: 0.8488 - loss: 0.9622 - val_accuracy: 0.8078 - val_loss: 0.9869 - learning_rate: 1.0000e-04\n",
      "Epoch 5/30\n",
      "\u001b[1m116/116\u001b[0m \u001b[32m━━━━━━━━━━━━━━━━━━━━\u001b[0m\u001b[37m\u001b[0m \u001b[1m36s\u001b[0m 309ms/step - accuracy: 0.8815 - loss: 0.8512 - val_accuracy: 0.8150 - val_loss: 0.9586 - learning_rate: 1.0000e-04\n",
      "Epoch 6/30\n",
      "\u001b[1m116/116\u001b[0m \u001b[32m━━━━━━━━━━━━━━━━━━━━\u001b[0m\u001b[37m\u001b[0m \u001b[1m36s\u001b[0m 308ms/step - accuracy: 0.9171 - loss: 0.7482 - val_accuracy: 0.8266 - val_loss: 0.9017 - learning_rate: 1.0000e-04\n",
      "Epoch 7/30\n",
      "\u001b[1m116/116\u001b[0m \u001b[32m━━━━━━━━━━━━━━━━━━━━\u001b[0m\u001b[37m\u001b[0m \u001b[1m36s\u001b[0m 308ms/step - accuracy: 0.9314 - loss: 0.6951 - val_accuracy: 0.8237 - val_loss: 0.9190 - learning_rate: 1.0000e-04\n",
      "Epoch 8/30\n",
      "\u001b[1m116/116\u001b[0m \u001b[32m━━━━━━━━━━━━━━━━━━━━\u001b[0m\u001b[37m\u001b[0m \u001b[1m36s\u001b[0m 310ms/step - accuracy: 0.9415 - loss: 0.6767 - val_accuracy: 0.8454 - val_loss: 0.8710 - learning_rate: 1.0000e-04\n",
      "Epoch 9/30\n",
      "\u001b[1m116/116\u001b[0m \u001b[32m━━━━━━━━━━━━━━━━━━━━\u001b[0m\u001b[37m\u001b[0m \u001b[1m36s\u001b[0m 308ms/step - accuracy: 0.9447 - loss: 0.6396 - val_accuracy: 0.8280 - val_loss: 0.8799 - learning_rate: 1.0000e-04\n",
      "Epoch 10/30\n",
      "\u001b[1m116/116\u001b[0m \u001b[32m━━━━━━━━━━━━━━━━━━━━\u001b[0m\u001b[37m\u001b[0m \u001b[1m36s\u001b[0m 308ms/step - accuracy: 0.9573 - loss: 0.5847 - val_accuracy: 0.8613 - val_loss: 0.7715 - learning_rate: 1.0000e-04\n",
      "Epoch 11/30\n",
      "\u001b[1m116/116\u001b[0m \u001b[32m━━━━━━━━━━━━━━━━━━━━\u001b[0m\u001b[37m\u001b[0m \u001b[1m36s\u001b[0m 308ms/step - accuracy: 0.9581 - loss: 0.5621 - val_accuracy: 0.8324 - val_loss: 0.8424 - learning_rate: 1.0000e-04\n",
      "Epoch 12/30\n",
      "\u001b[1m116/116\u001b[0m \u001b[32m━━━━━━━━━━━━━━━━━━━━\u001b[0m\u001b[37m\u001b[0m \u001b[1m36s\u001b[0m 308ms/step - accuracy: 0.9544 - loss: 0.5685 - val_accuracy: 0.8439 - val_loss: 0.7830 - learning_rate: 1.0000e-04\n",
      "Epoch 13/30\n",
      "\u001b[1m116/116\u001b[0m \u001b[32m━━━━━━━━━━━━━━━━━━━━\u001b[0m\u001b[37m\u001b[0m \u001b[1m36s\u001b[0m 307ms/step - accuracy: 0.9751 - loss: 0.5069 - val_accuracy: 0.8613 - val_loss: 0.7861 - learning_rate: 1.0000e-04\n",
      "Epoch 14/30\n",
      "\u001b[1m116/116\u001b[0m \u001b[32m━━━━━━━━━━━━━━━━━━━━\u001b[0m\u001b[37m\u001b[0m \u001b[1m36s\u001b[0m 309ms/step - accuracy: 0.9765 - loss: 0.4842 - val_accuracy: 0.8714 - val_loss: 0.7093 - learning_rate: 5.0000e-05\n",
      "Epoch 15/30\n",
      "\u001b[1m116/116\u001b[0m \u001b[32m━━━━━━━━━━━━━━━━━━━━\u001b[0m\u001b[37m\u001b[0m \u001b[1m36s\u001b[0m 308ms/step - accuracy: 0.9874 - loss: 0.4461 - val_accuracy: 0.8714 - val_loss: 0.7199 - learning_rate: 5.0000e-05\n",
      "Epoch 16/30\n",
      "\u001b[1m116/116\u001b[0m \u001b[32m━━━━━━━━━━━━━━━━━━━━\u001b[0m\u001b[37m\u001b[0m \u001b[1m36s\u001b[0m 309ms/step - accuracy: 0.9874 - loss: 0.4420 - val_accuracy: 0.8671 - val_loss: 0.7260 - learning_rate: 5.0000e-05\n",
      "Epoch 17/30\n",
      "\u001b[1m116/116\u001b[0m \u001b[32m━━━━━━━━━━━━━━━━━━━━\u001b[0m\u001b[37m\u001b[0m \u001b[1m36s\u001b[0m 309ms/step - accuracy: 0.9908 - loss: 0.4147 - val_accuracy: 0.8844 - val_loss: 0.6658 - learning_rate: 5.0000e-05\n",
      "Epoch 18/30\n",
      "\u001b[1m116/116\u001b[0m \u001b[32m━━━━━━━━━━━━━━━━━━━━\u001b[0m\u001b[37m\u001b[0m \u001b[1m36s\u001b[0m 307ms/step - accuracy: 0.9909 - loss: 0.4120 - val_accuracy: 0.8743 - val_loss: 0.6942 - learning_rate: 5.0000e-05\n",
      "Epoch 19/30\n",
      "\u001b[1m116/116\u001b[0m \u001b[32m━━━━━━━━━━━━━━━━━━━━\u001b[0m\u001b[37m\u001b[0m \u001b[1m36s\u001b[0m 309ms/step - accuracy: 0.9899 - loss: 0.4088 - val_accuracy: 0.8988 - val_loss: 0.6360 - learning_rate: 5.0000e-05\n",
      "Epoch 20/30\n",
      "\u001b[1m116/116\u001b[0m \u001b[32m━━━━━━━━━━━━━━━━━━━━\u001b[0m\u001b[37m\u001b[0m \u001b[1m36s\u001b[0m 307ms/step - accuracy: 0.9926 - loss: 0.3923 - val_accuracy: 0.8931 - val_loss: 0.6450 - learning_rate: 5.0000e-05\n",
      "Epoch 21/30\n",
      "\u001b[1m116/116\u001b[0m \u001b[32m━━━━━━━━━━━━━━━━━━━━\u001b[0m\u001b[37m\u001b[0m \u001b[1m36s\u001b[0m 307ms/step - accuracy: 0.9920 - loss: 0.3869 - val_accuracy: 0.8931 - val_loss: 0.6522 - learning_rate: 5.0000e-05\n",
      "Epoch 22/30\n",
      "\u001b[1m116/116\u001b[0m \u001b[32m━━━━━━━━━━━━━━━━━━━━\u001b[0m\u001b[37m\u001b[0m \u001b[1m36s\u001b[0m 308ms/step - accuracy: 0.9934 - loss: 0.3784 - val_accuracy: 0.8786 - val_loss: 0.6559 - learning_rate: 5.0000e-05\n",
      "Epoch 23/30\n",
      "\u001b[1m116/116\u001b[0m \u001b[32m━━━━━━━━━━━━━━━━━━━━\u001b[0m\u001b[37m\u001b[0m \u001b[1m36s\u001b[0m 310ms/step - accuracy: 0.9934 - loss: 0.3643 - val_accuracy: 0.8974 - val_loss: 0.6154 - learning_rate: 2.5000e-05\n",
      "Epoch 24/30\n",
      "\u001b[1m116/116\u001b[0m \u001b[32m━━━━━━━━━━━━━━━━━━━━\u001b[0m\u001b[37m\u001b[0m \u001b[1m36s\u001b[0m 308ms/step - accuracy: 0.9969 - loss: 0.3596 - val_accuracy: 0.8974 - val_loss: 0.6285 - learning_rate: 2.5000e-05\n",
      "Epoch 25/30\n",
      "\u001b[1m116/116\u001b[0m \u001b[32m━━━━━━━━━━━━━━━━━━━━\u001b[0m\u001b[37m\u001b[0m \u001b[1m36s\u001b[0m 308ms/step - accuracy: 0.9944 - loss: 0.3566 - val_accuracy: 0.8902 - val_loss: 0.6141 - learning_rate: 2.5000e-05\n",
      "Epoch 26/30\n",
      "\u001b[1m116/116\u001b[0m \u001b[32m━━━━━━━━━━━━━━━━━━━━\u001b[0m\u001b[37m\u001b[0m \u001b[1m36s\u001b[0m 309ms/step - accuracy: 0.9938 - loss: 0.3514 - val_accuracy: 0.8960 - val_loss: 0.6109 - learning_rate: 2.5000e-05\n",
      "Epoch 27/30\n",
      "\u001b[1m116/116\u001b[0m \u001b[32m━━━━━━━━━━━━━━━━━━━━\u001b[0m\u001b[37m\u001b[0m \u001b[1m36s\u001b[0m 311ms/step - accuracy: 0.9975 - loss: 0.3402 - val_accuracy: 0.8974 - val_loss: 0.5983 - learning_rate: 2.5000e-05\n",
      "Epoch 28/30\n",
      "\u001b[1m116/116\u001b[0m \u001b[32m━━━━━━━━━━━━━━━━━━━━\u001b[0m\u001b[37m\u001b[0m \u001b[1m36s\u001b[0m 309ms/step - accuracy: 0.9957 - loss: 0.3375 - val_accuracy: 0.8945 - val_loss: 0.5912 - learning_rate: 2.5000e-05\n",
      "Epoch 29/30\n",
      "\u001b[1m116/116\u001b[0m \u001b[32m━━━━━━━━━━━━━━━━━━━━\u001b[0m\u001b[37m\u001b[0m \u001b[1m36s\u001b[0m 308ms/step - accuracy: 0.9976 - loss: 0.3342 - val_accuracy: 0.8916 - val_loss: 0.6129 - learning_rate: 2.5000e-05\n",
      "Epoch 30/30\n",
      "\u001b[1m116/116\u001b[0m \u001b[32m━━━━━━━━━━━━━━━━━━━━\u001b[0m\u001b[37m\u001b[0m \u001b[1m36s\u001b[0m 309ms/step - accuracy: 0.9976 - loss: 0.3301 - val_accuracy: 0.9032 - val_loss: 0.5832 - learning_rate: 2.5000e-05\n",
      "\n",
      "Evaluating VGG19+LSTM model on test set...\n",
      "Total 864 videos and 864 classes\n",
      "test_gen batch videos shape: (24, 5, 128, 128, 3)\n",
      "test_gen batch labels shape: (24, 18)\n",
      "\u001b[1m36/36\u001b[0m \u001b[32m━━━━━━━━━━━━━━━━━━━━\u001b[0m\u001b[37m\u001b[0m \u001b[1m7s\u001b[0m 204ms/step - accuracy: 0.9033 - loss: 0.5757\n",
      "VGG19+LSTM Test Loss: 0.5732\n",
      "VGG19+LSTM Test Accuracy: 90.39%\n"
     ]
    }
   ],
   "source": [
    "\n",
    "# Unfreeze some layers for fine-tuning\n",
    "base_model.trainable = True\n",
    "# Freeze all layers except the last 8 layers (consistent with previous VGG19 code)\n",
    "for layer in base_model.layers[:-8]:\n",
    "    layer.trainable = False\n",
    "\n",
    "# Recompile the model with a lower learning rate for fine-tuning\n",
    "model.compile(\n",
    "    loss='categorical_crossentropy',\n",
    "    optimizer=tf.keras.optimizers.Adam(learning_rate=0.0001),  # Lower learning rate for fine-tuning\n",
    "    metrics=['accuracy']\n",
    ")\n",
    "\n",
    "# Fine-tune the model\n",
    "print(f\"\\nFine-tuning started for VGG19+LSTM model with {len(train_gen.videos)} videos of {NO_OF_CLASSES} classes with {len(val_gen.videos)} videos for validation...\")\n",
    "try:\n",
    "    fine_tune_model_history = model.fit(\n",
    "        train_gen.as_dataset(),\n",
    "        validation_data=val_gen.as_dataset(),\n",
    "        epochs=EPOCHS,\n",
    "        class_weight=class_weights,\n",
    "        callbacks=[early_stopping_callback, lr_scheduler]\n",
    "    )\n",
    "except Exception as e:\n",
    "    print(f\"Error during fine-tuning: {str(e)}\")\n",
    "    import traceback\n",
    "    traceback.print_exc()\n",
    "\n",
    "# Evaluate the model on the test set\n",
    "print(\"\\nEvaluating VGG19+LSTM model on test set...\")\n",
    "test_gen = VideoDataGenerator(\n",
    "    videos=features_test,\n",
    "    labels=labels_test,\n",
    "    batch_size=BATCH_SIZE\n",
    ")\n",
    "try:\n",
    "    videos, labels = test_gen[0]\n",
    "    print(f\"test_gen batch videos shape: {videos.shape}\")\n",
    "    print(f\"test_gen batch labels shape: {labels.shape}\")\n",
    "    loss, accuracy = model.evaluate(test_gen.as_dataset())\n",
    "    print(f'VGG19+LSTM Test Loss: {loss:.4f}')\n",
    "    print(f'VGG19+LSTM Test Accuracy: {accuracy * 100:.2f}%')\n",
    "except Exception as e:\n",
    "    print(f\"Error during model evaluation: {str(e)}\")\n",
    "    import traceback\n",
    "    traceback.print_exc()\n"
   ]
  },
  {
   "cell_type": "code",
   "execution_count": 43,
   "id": "14320c7d",
   "metadata": {
    "execution": {
     "iopub.execute_input": "2025-07-11T10:26:39.004635Z",
     "iopub.status.busy": "2025-07-11T10:26:39.004325Z",
     "iopub.status.idle": "2025-07-11T10:26:55.984625Z",
     "shell.execute_reply": "2025-07-11T10:26:55.983914Z"
    },
    "papermill": {
     "duration": 17.330582,
     "end_time": "2025-07-11T10:26:55.986943",
     "exception": false,
     "start_time": "2025-07-11T10:26:38.656361",
     "status": "completed"
    },
    "tags": []
   },
   "outputs": [
    {
     "data": {
      "image/png": "[encoded data removed]",
      "text/plain": [
       "<Figure size 1200x500 with 2 Axes>"
      ]
     },
     "metadata": {},
     "output_type": "display_data"
    },
    {
     "name": "stdout",
     "output_type": "stream",
     "text": [
      "\u001b[1m36/36\u001b[0m \u001b[32m━━━━━━━━━━━━━━━━━━━━\u001b[0m\u001b[37m\u001b[0m \u001b[1m14s\u001b[0m 200ms/step\n",
      "True classes shape: (864,)\n",
      "Predicted classes shape: (864,)\n",
      "\n",
      "VGG19+LSTM Classification Report:\n",
      "                     precision    recall  f1-score   support\n",
      "\n",
      "          Catch Cap       0.98      0.94      0.96        54\n",
      "              Drink       0.84      0.97      0.90        59\n",
      "           Sit down       1.00      1.00      1.00        40\n",
      "          Draw Tick       0.63      0.81      0.71        47\n",
      "         Phone Call       1.00      1.00      1.00        49\n",
      "Horizontal arm wave       0.93      0.81      0.87        52\n",
      "          Hand Clap       0.96      0.94      0.95        53\n",
      "         High throw       0.84      0.62      0.71        50\n",
      "       Forward Kick       0.95      0.91      0.93        45\n",
      "           Stand up       1.00      1.00      1.00        34\n",
      "      Two hand wave       1.00      0.97      0.99        35\n",
      "         Toss Paper       0.93      0.88      0.90        42\n",
      "               Walk       1.00      1.00      1.00        57\n",
      "          Side Kick       0.98      0.98      0.98        56\n",
      "               Bend       0.98      0.95      0.96        42\n",
      "      Take Umbrella       0.95      1.00      0.97        55\n",
      "      High arm wave       0.76      0.98      0.86        49\n",
      "             Draw X       0.63      0.49      0.55        45\n",
      "\n",
      "           accuracy                           0.90       864\n",
      "          macro avg       0.91      0.90      0.90       864\n",
      "       weighted avg       0.91      0.90      0.90       864\n",
      "\n"
     ]
    },
    {
     "name": "stderr",
     "output_type": "stream",
     "text": [
      "/usr/local/lib/python3.11/dist-packages/keras/src/trainers/epoch_iterator.py:151: UserWarning: Your input ran out of data; interrupting training. Make sure that your dataset or generator can generate at least `steps_per_epoch * epochs` batches. You may need to use the `.repeat()` function when building your dataset.\n",
      "  self._interrupted_warning()\n"
     ]
    },
    {
     "data": {
      "image/png": "[encoded data removed]",
      "text/plain": [
       "<Figure size 800x600 with 2 Axes>"
      ]
     },
     "metadata": {},
     "output_type": "display_data"
    }
   ],
   "source": [
    "\n",
    "# Plot training history (combine initial and fine-tuning)\n",
    "import matplotlib.pyplot as plt\n",
    "\n",
    "try:\n",
    "    # Combine histories\n",
    "    history_accuracy = initial_model_history.history['accuracy'] + fine_tune_model_history.history['accuracy']\n",
    "    history_val_accuracy = initial_model_history.history['val_accuracy'] + fine_tune_model_history.history['val_accuracy']\n",
    "    history_loss = initial_model_history.history['loss'] + fine_tune_model_history.history['loss']\n",
    "    history_val_loss = initial_model_history.history['val_loss'] + fine_tune_model_history.history['val_loss']\n",
    "\n",
    "    plt.figure(figsize=(12, 5))\n",
    "\n",
    "    # Accuracy\n",
    "    plt.subplot(1, 2, 1)\n",
    "    plt.plot(history_accuracy, label='Train Accuracy')\n",
    "    plt.plot(history_val_accuracy, label='Validation Accuracy')\n",
    "    plt.axvline(x=len(initial_model_history.history['accuracy']), color='r', linestyle='--', label='Start Fine-Tuning')\n",
    "    plt.title('VGG19+LSTM Model Accuracy')\n",
    "    plt.xlabel('Epoch')\n",
    "    plt.ylabel('Accuracy')\n",
    "    plt.legend()\n",
    "\n",
    "    # Loss\n",
    "    plt.subplot(1, 2, 2)\n",
    "    plt.plot(history_loss, label='Train Loss')\n",
    "    plt.plot(history_val_loss, label='Validation Loss')\n",
    "    plt.axvline(x=len(initial_model_history.history['loss']), color='r', linestyle='--', label='Start Fine-Tuning')\n",
    "    plt.title('VGG19+LSTM Model Loss')\n",
    "    plt.xlabel('Epoch')\n",
    "    plt.ylabel('Loss')\n",
    "    plt.legend()\n",
    "\n",
    "    plt.tight_layout()\n",
    "    plt.show()\n",
    "except Exception as e:\n",
    "    print(f\"Error plotting training history: {str(e)}\")\n",
    "\n",
    "# Generate confusion matrix and classification report\n",
    "from sklearn.metrics import classification_report, confusion_matrix\n",
    "import seaborn as sns\n",
    "\n",
    "# Get predictions\n",
    "try:\n",
    "    predictions = model.predict(test_gen.as_dataset())\n",
    "    predicted_classes = np.argmax(predictions, axis=1)\n",
    "    true_classes = np.argmax(labels_test, axis=1)\n",
    "\n",
    "    # Verify shapes\n",
    "    print(f\"True classes shape: {true_classes.shape}\")\n",
    "    print(f\"Predicted classes shape: {predicted_classes.shape}\")\n",
    "    assert len(true_classes) == len(predicted_classes), \"Sample counts do not match!\"\n",
    "\n",
    "    # Generate classification report\n",
    "    print(\"\\nVGG19+LSTM Classification Report:\")\n",
    "    print(classification_report(true_classes, predicted_classes, target_names=CLASSES_LIST))\n",
    "\n",
    "    # Plot confusion matrix\n",
    "    cm = confusion_matrix(true_classes, predicted_classes)\n",
    "    plt.figure(figsize=(8, 6))\n",
    "    sns.heatmap(cm, annot=True, fmt='d', cmap='Blues', xticklabels=CLASSES_LIST, yticklabels=CLASSES_LIST)\n",
    "    plt.xlabel('Predicted')\n",
    "    plt.ylabel('True')\n",
    "    plt.title('VGG19+LSTM Confusion Matrix')\n",
    "    plt.show()\n",
    "except Exception as e:\n",
    "    print(f\"Error during prediction or plotting: {str(e)}\")\n",
    "    import traceback\n",
    "    traceback.print_exc()"
   ]
  },
  {
   "cell_type": "code",
   "execution_count": 44,
   "id": "b45b44d1",
   "metadata": {
    "execution": {
     "iopub.execute_input": "2025-07-11T10:26:56.693756Z",
     "iopub.status.busy": "2025-07-11T10:26:56.692577Z",
     "iopub.status.idle": "2025-07-11T10:27:06.917185Z",
     "shell.execute_reply": "2025-07-11T10:27:06.916376Z"
    },
    "papermill": {
     "duration": 10.57793,
     "end_time": "2025-07-11T10:27:06.918508",
     "exception": false,
     "start_time": "2025-07-11T10:26:56.340578",
     "status": "completed"
    },
    "tags": []
   },
   "outputs": [
    {
     "name": "stdout",
     "output_type": "stream",
     "text": [
      "\u001b[1m27/27\u001b[0m \u001b[32m━━━━━━━━━━━━━━━━━━━━\u001b[0m\u001b[37m\u001b[0m \u001b[1m8s\u001b[0m 269ms/step - accuracy: 0.9042 - loss: 0.5722\n"
     ]
    }
   ],
   "source": [
    "# previous code\n",
    "model_evaluation_history = model.evaluate(features_test, labels_test)"
   ]
  }
 ],
 "metadata": {
  "kaggle": {
   "accelerator": "nvidiaTeslaT4",
   "dataSources": [
    {
     "datasetId": 1357563,
     "sourceId": 2256095,
     "sourceType": "datasetVersion"
    },
    {
     "datasetId": 7763484,
     "sourceId": 12338519,
     "sourceType": "datasetVersion"
    },
    {
     "datasetId": 7801555,
     "sourceId": 12373067,
     "sourceType": "datasetVersion"
    },
    {
     "datasetId": 7801884,
     "sourceId": 12373562,
     "sourceType": "datasetVersion"
    }
   ],
   "dockerImageVersionId": 31090,
   "isGpuEnabled": true,
   "isInternetEnabled": true,
   "language": "python",
   "sourceType": "notebook"
  },
  "kernelspec": {
   "display_name": "Python 3",
   "language": "python",
   "name": "python3"
  },
  "language_info": {
   "codemirror_mode": {
    "name": "ipython",
    "version": 3
   },
   "file_extension": ".py",
   "mimetype": "text/x-python",
   "name": "python",
   "nbconvert_exporter": "python",
   "pygments_lexer": "ipython3",
   "version": "3.11.13"
  },
  "papermill": {
   "default_parameters": {},
   "duration": 2391.246872,
   "end_time": "2025-07-11T10:27:11.228482",
   "environment_variables": {},
   "exception": null,
   "input_path": "__notebook__.ipynb",
   "output_path": "__notebook__.ipynb",
   "parameters": {},
   "start_time": "2025-07-11T09:47:19.981610",
   "version": "2.6.0"
  }
 },
 "nbformat": 4,
 "nbformat_minor": 5
}
