{
 "cells": [
  {
   "cell_type": "markdown",
   "id": "cb450fca",
   "metadata": {
    "papermill": {
     "duration": 0.010033,
     "end_time": "2025-07-12T14:46:14.888630",
     "exception": false,
     "start_time": "2025-07-12T14:46:14.878597",
     "status": "completed"
    },
    "tags": []
   },
   "source": [
    "# Initialization\n",
    "## Import Libraries"
   ]
  },
  {
   "cell_type": "code",
   "execution_count": 1,
   "id": "383e631f",
   "metadata": {
    "_cell_guid": "b1076dfc-b9ad-4769-8c92-a6c4dae69d19",
    "_uuid": "8f2839f25d086af736a60e9eeb907d3b93b6e0e5",
    "execution": {
     "iopub.execute_input": "2025-07-12T14:46:14.906632Z",
     "iopub.status.busy": "2025-07-12T14:46:14.906353Z",
     "iopub.status.idle": "2025-07-12T14:46:36.956625Z",
     "shell.execute_reply": "2025-07-12T14:46:36.955803Z"
    },
    "papermill": {
     "duration": 22.060676,
     "end_time": "2025-07-12T14:46:36.958047",
     "exception": false,
     "start_time": "2025-07-12T14:46:14.897371",
     "status": "completed"
    },
    "tags": []
   },
   "outputs": [
    {
     "name": "stderr",
     "output_type": "stream",
     "text": [
      "2025-07-12 14:46:18.061567: E external/local_xla/xla/stream_executor/cuda/cuda_fft.cc:477] Unable to register cuFFT factory: Attempting to register factory for plugin cuFFT when one has already been registered\n",
      "WARNING: All log messages before absl::InitializeLog() is called are written to STDERR\n",
      "E0000 00:00:1752331578.452410      19 cuda_dnn.cc:8310] Unable to register cuDNN factory: Attempting to register factory for plugin cuDNN when one has already been registered\n",
      "E0000 00:00:1752331578.557661      19 cuda_blas.cc:1418] Unable to register cuBLAS factory: Attempting to register factory for plugin cuBLAS when one has already been registered\n"
     ]
    }
   ],
   "source": [
    "# install librarires\n",
    "import os\n",
    "import tensorflow as tf\n",
    "import numpy as np\n",
    "import random"
   ]
  },
  {
   "cell_type": "markdown",
   "id": "acca0ddb",
   "metadata": {
    "papermill": {
     "duration": 0.008231,
     "end_time": "2025-07-12T14:46:36.975902",
     "exception": false,
     "start_time": "2025-07-12T14:46:36.967671",
     "status": "completed"
    },
    "tags": []
   },
   "source": [
    "## ℹ️ Set Global Constants"
   ]
  },
  {
   "cell_type": "code",
   "execution_count": 2,
   "id": "d1a6d64c",
   "metadata": {
    "execution": {
     "iopub.execute_input": "2025-07-12T14:46:36.993462Z",
     "iopub.status.busy": "2025-07-12T14:46:36.993025Z",
     "iopub.status.idle": "2025-07-12T14:46:37.028161Z",
     "shell.execute_reply": "2025-07-12T14:46:37.027350Z"
    },
    "papermill": {
     "duration": 0.045366,
     "end_time": "2025-07-12T14:46:37.029475",
     "exception": false,
     "start_time": "2025-07-12T14:46:36.984109",
     "status": "completed"
    },
    "tags": []
   },
   "outputs": [
    {
     "name": "stdout",
     "output_type": "stream",
     "text": [
      "Precis Har Rgb\n",
      "There are total 16 classes, selected 16 classes\n",
      "Setting None/class to train the model.\n",
      "Image size 128x128 with 5 sequence length\n",
      "Dropout rate: 0.5\n",
      "Train-Test split ratio 80/20\n",
      "Validation data from Train set 20.0%\n"
     ]
    }
   ],
   "source": [
    "# global variables\n",
    "# set dataset directories\n",
    "\n",
    "\n",
    "DATASET_DIR = \"/kaggle/input/precis-har-rgb\"\n",
    "DATASET_NAME = DATASET_DIR.split(\"/\")[-1].replace(\"-\", \" \").title()\n",
    "\n",
    "print(DATASET_NAME)\n",
    "\n",
    "ALL_CLASS_NAMES = os.listdir(DATASET_DIR)\n",
    "\n",
    "# Global constant variables -> \n",
    "NO_OF_CLASSES = len(ALL_CLASS_NAMES)\n",
    "CLASSES_LIST = ALL_CLASS_NAMES[:NO_OF_CLASSES]\n",
    "\n",
    "# Model Configuration\n",
    "IMAGE_HEIGHT, IMAGE_WIDTH = 128, 128\n",
    "SEQUENCE_LENGTH = 5\n",
    "\n",
    "# set drop out rate\n",
    "DROPOUT_RATE = 0.5\n",
    "\n",
    "# set datas\n",
    "MAX_VIDEO_PER_CLASS = None\n",
    "\n",
    "# split dataset\n",
    "TEST_SIZE = 0.20\n",
    "\n",
    "# model fit parameters\n",
    "EPOCHS = 30\n",
    "BATCH_SIZE = 24\n",
    "VALIDATION_SPLIT = 0.20\n",
    "\n",
    "# augmentation values\n",
    "NOISE_FACTOR = 0.02\n",
    "SHEAR_X= 1\n",
    "SHEAR_Y= 1\n",
    "\n",
    "# give a name of the model to save\n",
    "MODEL_NAME = \"Xception\"\n",
    "\n",
    "print(f\"There are total {len(ALL_CLASS_NAMES)} classes, selected {NO_OF_CLASSES} classes\")\n",
    "print(f\"Setting {MAX_VIDEO_PER_CLASS}/class to train the model.\")\n",
    "print(f\"Image size {IMAGE_HEIGHT}x{IMAGE_WIDTH} with {SEQUENCE_LENGTH} sequence length\")\n",
    "print(f\"Dropout rate: {DROPOUT_RATE}\")\n",
    "print(f\"Train-Test split ratio {int((1-TEST_SIZE)*100)}/{int(TEST_SIZE*100)}\")\n",
    "print(f\"Validation data from Train set {VALIDATION_SPLIT*100}%\")"
   ]
  },
  {
   "cell_type": "markdown",
   "id": "444db750",
   "metadata": {
    "papermill": {
     "duration": 0.008438,
     "end_time": "2025-07-12T14:46:37.046823",
     "exception": false,
     "start_time": "2025-07-12T14:46:37.038385",
     "status": "completed"
    },
    "tags": []
   },
   "source": [
    "## Set `Seed` Values"
   ]
  },
  {
   "cell_type": "code",
   "execution_count": 3,
   "id": "95182c37",
   "metadata": {
    "execution": {
     "iopub.execute_input": "2025-07-12T14:46:37.064974Z",
     "iopub.status.busy": "2025-07-12T14:46:37.064740Z",
     "iopub.status.idle": "2025-07-12T14:46:37.068579Z",
     "shell.execute_reply": "2025-07-12T14:46:37.067946Z"
    },
    "papermill": {
     "duration": 0.014406,
     "end_time": "2025-07-12T14:46:37.069786",
     "exception": false,
     "start_time": "2025-07-12T14:46:37.055380",
     "status": "completed"
    },
    "tags": []
   },
   "outputs": [],
   "source": [
    "# set seeed to get similar values\n",
    "seed_constant = 27\n",
    "np.random.seed(seed_constant)\n",
    "random.seed(seed_constant)\n",
    "tf.random.set_seed(seed_constant)"
   ]
  },
  {
   "cell_type": "markdown",
   "id": "5847fbd6",
   "metadata": {
    "papermill": {
     "duration": 0.008117,
     "end_time": "2025-07-12T14:46:37.086305",
     "exception": false,
     "start_time": "2025-07-12T14:46:37.078188",
     "status": "completed"
    },
    "tags": []
   },
   "source": [
    "# 📌 Function Definition\n",
    "## Resize and Frame Extraction"
   ]
  },
  {
   "cell_type": "code",
   "execution_count": 4,
   "id": "979b6ae8",
   "metadata": {
    "execution": {
     "iopub.execute_input": "2025-07-12T14:46:37.104388Z",
     "iopub.status.busy": "2025-07-12T14:46:37.104136Z",
     "iopub.status.idle": "2025-07-12T14:46:37.112753Z",
     "shell.execute_reply": "2025-07-12T14:46:37.112017Z"
    },
    "papermill": {
     "duration": 0.019213,
     "end_time": "2025-07-12T14:46:37.113797",
     "exception": false,
     "start_time": "2025-07-12T14:46:37.094584",
     "status": "completed"
    },
    "tags": []
   },
   "outputs": [],
   "source": [
    "import cv2\n",
    "from concurrent.futures import ThreadPoolExecutor\n",
    "\n",
    "def resize_and_normalize_frame(frame, image_height, image_width):\n",
    "    try:\n",
    "        resized_frame = cv2.resize(frame, (image_width, image_height), interpolation=cv2.INTER_LINEAR)\n",
    "        normalized_frame = resized_frame / 255.0\n",
    "        return normalized_frame\n",
    "    except Exception as e:\n",
    "        print(f\"Error processing frame: {e}\")\n",
    "        return None\n",
    "\n",
    "def frames_extraction(video_path, \n",
    "                      sequence_length=SEQUENCE_LENGTH, \n",
    "                      image_height=IMAGE_HEIGHT, \n",
    "                      image_width=IMAGE_WIDTH):\n",
    "    # Declare a list to store video frames\n",
    "    frames_list = []\n",
    "\n",
    "    # Check if video file exists\n",
    "    if not os.path.exists(video_path):\n",
    "        print(f\"Error: Video file not found at {video_path}\")\n",
    "        return None\n",
    "\n",
    "    # Read the video file using VideoCapture with optimized settings\n",
    "    video_reader = cv2.VideoCapture(video_path, cv2.CAP_FFMPEG)\n",
    "\n",
    "    # Check if the video was opened successfully\n",
    "    if not video_reader.isOpened():\n",
    "        print(f\"Error: Could not open video file {video_path}\")\n",
    "        video_reader.release()\n",
    "        return None\n",
    "\n",
    "    # Get the total number of frames in the video\n",
    "    video_frames_count = int(video_reader.get(cv2.CAP_PROP_FRAME_COUNT))\n",
    "\n",
    "    # Ensure the video has enough frames\n",
    "    if video_frames_count < sequence_length:\n",
    "        print(f\"Warning: Video {video_path} has only {video_frames_count} frames, less than required {sequence_length}\")\n",
    "        video_reader.release()\n",
    "        return None\n",
    "\n",
    "    # Calculate the interval after which frames will be sampled\n",
    "    skip_frames_window = max(int(video_frames_count / sequence_length), 1)\n",
    "\n",
    "    # Pre-allocate frame indices to extract\n",
    "    frame_indices = [i * skip_frames_window for i in range(sequence_length)]\n",
    "\n",
    "    # Read and process frames in parallel\n",
    "    frames = []\n",
    "    for idx in frame_indices:\n",
    "        video_reader.set(cv2.CAP_PROP_POS_FRAMES, idx)\n",
    "        success, frame = video_reader.read()\n",
    "        if not success or frame is None:\n",
    "            print(f\"Warning: Failed to read frame at index {idx} from {video_path}\")\n",
    "            break\n",
    "        frame = cv2.cvtColor(frame, cv2.COLOR_BGR2RGB)\n",
    "        frames.append(frame)\n",
    "\n",
    "    # Release the VideoCapture object early\n",
    "    video_reader.release()\n",
    "\n",
    "    # Ensure the correct number of frames is read\n",
    "    if len(frames) != sequence_length:\n",
    "        print(f\"Warning: Read {len(frames)} frames instead of {sequence_length} from {video_path}\")\n",
    "        return None\n",
    "\n",
    "    # Process frames in parallel using ThreadPoolExecutor\n",
    "    with ThreadPoolExecutor() as executor:\n",
    "        processed_frames = list(executor.map(\n",
    "            lambda f: resize_and_normalize_frame(f, image_height, image_width), \n",
    "            frames\n",
    "        ))\n",
    "\n",
    "    # Check for any failed frame processing\n",
    "    if any(f is None for f in processed_frames):\n",
    "        print(f\"Warning: Some frames failed to process in {video_path}\")\n",
    "        return None\n",
    "\n",
    "    # Convert to NumPy array\n",
    "    frames_array = np.array(processed_frames, dtype=np.float32)\n",
    "\n",
    "    return frames_array"
   ]
  },
  {
   "cell_type": "code",
   "execution_count": 5,
   "id": "76e20f4b",
   "metadata": {
    "execution": {
     "iopub.execute_input": "2025-07-12T14:46:37.131589Z",
     "iopub.status.busy": "2025-07-12T14:46:37.131370Z",
     "iopub.status.idle": "2025-07-12T14:46:37.134602Z",
     "shell.execute_reply": "2025-07-12T14:46:37.134048Z"
    },
    "papermill": {
     "duration": 0.013652,
     "end_time": "2025-07-12T14:46:37.135690",
     "exception": false,
     "start_time": "2025-07-12T14:46:37.122038",
     "status": "completed"
    },
    "tags": []
   },
   "outputs": [],
   "source": [
    " # # Iterate through all video files\n",
    " #        for file_name in files_list:\n",
    " #            video_file_path = os.path.join(class_path, file_name)\n",
    "\n",
    " #            # Extract frames using the updated frames_extraction function\n",
    " #            frames = frames_extraction(video_file_path, sequence_length, image_height, image_width)\n",
    "\n",
    " #            # Skip videos where frame extraction failed\n",
    " #            if frames is None:\n",
    " #                print(f\"Skipping video {video_file_path} due to frame extraction failure\")\n",
    " #                continue\n",
    "\n",
    " #            # Append the data to respective lists\n",
    " #            features.append(frames)\n",
    " #            labels.append(class_index)"
   ]
  },
  {
   "cell_type": "markdown",
   "id": "bc27a99b",
   "metadata": {
    "papermill": {
     "duration": 0.008368,
     "end_time": "2025-07-12T14:46:37.152513",
     "exception": false,
     "start_time": "2025-07-12T14:46:37.144145",
     "status": "completed"
    },
    "tags": []
   },
   "source": [
    "## Create Dataset"
   ]
  },
  {
   "cell_type": "code",
   "execution_count": 6,
   "id": "9cadb2de",
   "metadata": {
    "execution": {
     "iopub.execute_input": "2025-07-12T14:46:37.171335Z",
     "iopub.status.busy": "2025-07-12T14:46:37.171118Z",
     "iopub.status.idle": "2025-07-12T14:46:37.177004Z",
     "shell.execute_reply": "2025-07-12T14:46:37.176522Z"
    },
    "papermill": {
     "duration": 0.016583,
     "end_time": "2025-07-12T14:46:37.177954",
     "exception": false,
     "start_time": "2025-07-12T14:46:37.161371",
     "status": "completed"
    },
    "tags": []
   },
   "outputs": [],
   "source": [
    "# RUN create dataset function definition\n",
    "def create_dataset(dataset_dir,\n",
    "                   classes_list, \n",
    "                   sequence_length=SEQUENCE_LENGTH, \n",
    "                   image_height=IMAGE_HEIGHT, \n",
    "                   image_width=IMAGE_WIDTH, \n",
    "                   max_videos_per_class=None,\n",
    "                   augmentations=False\n",
    "                  ):\n",
    "    \n",
    "    # Initialize lists to store features, labels, and video file paths\n",
    "    videos = []\n",
    "    labels = []\n",
    "\n",
    "    # Check if dataset directory exists\n",
    "    if not os.path.exists(dataset_dir):\n",
    "        raise FileNotFoundError(f\"Dataset directory not found: {dataset_dir}\")\n",
    "\n",
    "    # Iterate through all classes in the classes list\n",
    "    for class_index, class_name in enumerate(classes_list):\n",
    "        class_path = os.path.join(dataset_dir, class_name)\n",
    "        \n",
    "        # Check if class directory exists\n",
    "        if not os.path.exists(class_path):\n",
    "            print(f\"Warning: Class directory not found: {class_path}\")\n",
    "            continue\n",
    "\n",
    "        print(f'Extracting Data of Class: {class_name}')\n",
    "\n",
    "        # Get the list of video files in the class directory\n",
    "        files_list = os.listdir(class_path)\n",
    "\n",
    "        # Limit the number of videos if specified\n",
    "        if max_videos_per_class is not None:\n",
    "            files_list = files_list[:max_videos_per_class]\n",
    "\n",
    "        # Iterate through all video files\n",
    "        for file_name in files_list:\n",
    "            video_file_path = os.path.join(class_path, file_name)\n",
    "\n",
    "            # Extract frames using the updated frames_extraction function\n",
    "            frames = frames_extraction(video_file_path, \n",
    "                                       sequence_length, \n",
    "                                       image_height, \n",
    "                                       image_width)\n",
    "\n",
    "            # Skip videos where frame extraction failed\n",
    "            if frames is None:\n",
    "                print(f\"Skipping video {video_file_path} due to frame extraction failure\")\n",
    "                continue\n",
    "\n",
    "            # Append the data to respective lists\n",
    "            videos.append(frames)\n",
    "            labels.append(class_index)\n",
    "\n",
    "    # Convert lists to numpy arrays\n",
    "    if not videos:\n",
    "        raise ValueError(\"No valid videos were processed. Check dataset or parameters.\")\n",
    "    videos = np.asarray(videos)\n",
    "    labels = np.array(labels)\n",
    "\n",
    "    print(f\"Dataset created with {len(videos)} videos\")\n",
    "    print(f\"Features shape: {videos.shape}\")\n",
    "    print(f\"Labels shape: {labels.shape}\")\n",
    "\n",
    "    return videos, labels"
   ]
  },
  {
   "cell_type": "markdown",
   "id": "a6db39c5",
   "metadata": {
    "papermill": {
     "duration": 0.007963,
     "end_time": "2025-07-12T14:46:37.194505",
     "exception": false,
     "start_time": "2025-07-12T14:46:37.186542",
     "status": "completed"
    },
    "tags": []
   },
   "source": [
    "## 🪄 Video Data Generator"
   ]
  },
  {
   "cell_type": "code",
   "execution_count": 7,
   "id": "7ae3d3ae",
   "metadata": {
    "execution": {
     "iopub.execute_input": "2025-07-12T14:46:37.211664Z",
     "iopub.status.busy": "2025-07-12T14:46:37.211451Z",
     "iopub.status.idle": "2025-07-12T14:46:37.296704Z",
     "shell.execute_reply": "2025-07-12T14:46:37.296172Z"
    },
    "papermill": {
     "duration": 0.095153,
     "end_time": "2025-07-12T14:46:37.297782",
     "exception": false,
     "start_time": "2025-07-12T14:46:37.202629",
     "status": "completed"
    },
    "tags": []
   },
   "outputs": [],
   "source": [
    "from tensorflow.keras.utils import Sequence, to_categorical\n",
    "import tensorflow as tf\n",
    "import numpy as np\n",
    "import cv2\n",
    "\n",
    "\n",
    "\n",
    "\n",
    "class VideoDataGenerator(Sequence):\n",
    "    def __init__(self, videos, labels, batch_size, is_training=False):\n",
    "        self.videos = list(videos)  # List of video file paths\n",
    "        self.labels = list(labels)  # List or array of labels encoded\n",
    "        self.batch_size = batch_size\n",
    "        self.indices = np.arange(len(self.videos))  # For shuffling\n",
    "        self.is_training = is_training  # Flag to control whether augmentation is applied\n",
    "        self.temp_videos=[]\n",
    "        self.temp_labels=[]\n",
    "        \n",
    "        \n",
    "        print(f\"Total {len(videos)} videos and {len(labels)} classes\")\n",
    "\n",
    "    def __len__(self):\n",
    "        # Return the number of batches per epoch\n",
    "        return int(np.ceil(len(self.videos) / self.batch_size))\n",
    "\n",
    "    def __getitem__(self, idx):\n",
    "        # Get batch indices\n",
    "        batch_indices = self.indices[idx * self.batch_size:(idx + 1) * self.batch_size]\n",
    "        \n",
    "        # Handle case where batch_indices is empty\n",
    "        if len(batch_indices) == 0:\n",
    "            return np.array([], dtype=np.float32), np.array([], dtype=np.float32)\n",
    "        \n",
    "        # Initialize lists to store frames and labels\n",
    "        all_frames = []\n",
    "        all_labels = []\n",
    "        \n",
    "        # Process each video in the batch\n",
    "        for i, index in enumerate(batch_indices):\n",
    "            sequence = self.videos[index]\n",
    "            label = self.labels[index]\n",
    "            \n",
    "            # Load and process video\n",
    "            # sequence = frames_extraction(video_path)\n",
    "\n",
    "            # if sequence is not None:\n",
    "            #     # Apply augmentations: 1 original + 4 augmentations (horizontal flip, shear, rotation, noise)\n",
    "            #     augmented_sequences = [sequence]  # Add original sequence\n",
    "\n",
    "            #     if self.is_training:\n",
    "            #         # Apply augmentations\n",
    "            #         augmented_sequences.append(np.array(horizontal_flip(sequence)))  # Horizontal Flip\n",
    "            #         augmented_sequences.append(np.array(apply_shear_frames(sequence, shear_right=0)))  # Random Shear\n",
    "            #         augmented_sequences.append(np.array(apply_shear_frames(sequence, shear_right=1)))  # Random Rotation\n",
    "            #         augmented_sequences.append(np.array(noise_video(sequence)))  # Salt and Pepper Noise\n",
    "\n",
    "            #     # Add augmented sequences to the batch\n",
    "            #     all_frames.extend(augmented_sequences)\n",
    "            #     all_labels.extend([label] * len(augmented_sequences))  # Each augmentation has the same label\n",
    "\n",
    "            \n",
    "            # Append the sequence and label\n",
    "            all_frames.append(sequence)\n",
    "            all_labels.append(label)\n",
    "        \n",
    "        # Convert to numpy arrays\n",
    "        all_frames = np.array(all_frames, dtype=np.float32)\n",
    "        all_labels = np.array(all_labels)\n",
    "            \n",
    "        \n",
    "        return all_frames, all_labels\n",
    "    def add(self, new_videos, new_labels):\n",
    "        self.temp_videos.extend(new_videos)\n",
    "        self.temp_labels.extend(new_labels)\n",
    "    \n",
    "    def confirm(self):\n",
    "        print(f\"Adding {len(self.temp_videos)} videos with {len(self.temp_labels)} classes.\")\n",
    "        self.videos.extend(self.temp_videos)\n",
    "        self.labels.extend(self.temp_labels)\n",
    "        print(f\"Successfully added - {len(self.temp_videos)} videos and {len(self.temp_labels)} classes.\")\n",
    "        self.temp_videos=[]\n",
    "        self.temp_labels=[]\n",
    "        self.indices = np.arange(len(self.videos))\n",
    "        print(f\"Now Total - {len(self.videos)} videos and {len(self.labels)} classes.\")\n",
    "        print(f\"PENDING for Augmentations - {len(self.temp_videos)} videos and {len(self.temp_labels)} classes.\")\n",
    "    \n",
    "    def on_epoch_end(self):\n",
    "        # Shuffle indices at the end of each epoch\n",
    "        np.random.shuffle(self.indices)\n",
    "\n",
    "    def as_dataset(self):\n",
    "        def generator():\n",
    "            for idx in range(len(self)):\n",
    "                frames, labels = self[idx]\n",
    "                # Skip empty batches\n",
    "                if frames.size == 0:\n",
    "                    continue\n",
    "                yield frames, labels\n",
    "        self.labels=np.array(self.labels)\n",
    "    \n",
    "        # Create a tf.data.Dataset\n",
    "        dataset = tf.data.Dataset.from_generator(\n",
    "            generator,\n",
    "            output_types=(tf.float32, tf.float32),\n",
    "            output_shapes=(\n",
    "                (None, SEQUENCE_LENGTH, IMAGE_HEIGHT, IMAGE_WIDTH, 3),\n",
    "                (None, NO_OF_CLASSES)\n",
    "            )\n",
    "        )\n",
    "        dataset = dataset.prefetch(tf.data.AUTOTUNE)\n",
    "        return dataset"
   ]
  },
  {
   "cell_type": "markdown",
   "id": "70a5a472",
   "metadata": {
    "papermill": {
     "duration": 0.008182,
     "end_time": "2025-07-12T14:46:37.314383",
     "exception": false,
     "start_time": "2025-07-12T14:46:37.306201",
     "status": "completed"
    },
    "tags": []
   },
   "source": [
    "## Debug and Helpers"
   ]
  },
  {
   "cell_type": "markdown",
   "id": "b541657f",
   "metadata": {
    "papermill": {
     "duration": 0.049645,
     "end_time": "2025-07-12T14:46:37.372214",
     "exception": false,
     "start_time": "2025-07-12T14:46:37.322569",
     "status": "completed"
    },
    "tags": []
   },
   "source": [
    "## 💫 Augmentation Helper function"
   ]
  },
  {
   "cell_type": "code",
   "execution_count": 8,
   "id": "693fd7df",
   "metadata": {
    "execution": {
     "iopub.execute_input": "2025-07-12T14:46:37.390316Z",
     "iopub.status.busy": "2025-07-12T14:46:37.389678Z",
     "iopub.status.idle": "2025-07-12T14:46:37.394417Z",
     "shell.execute_reply": "2025-07-12T14:46:37.393814Z"
    },
    "papermill": {
     "duration": 0.014815,
     "end_time": "2025-07-12T14:46:37.395417",
     "exception": false,
     "start_time": "2025-07-12T14:46:37.380602",
     "status": "completed"
    },
    "tags": []
   },
   "outputs": [],
   "source": [
    "import time\n",
    "\n",
    "    \n",
    "\n",
    "def apply_augmentation(augmentation_function, generator, confirm=False, *args, **kwargs):\n",
    "    \n",
    "    for i in range(len(generator)):\n",
    "        batch_videos, batch_labels = generator[i]\n",
    "        augmented_videos=[]\n",
    "        for videos in batch_videos:\n",
    "            augmented_videos.append(augmentation_function(videos, *args, **kwargs))\n",
    "        generator.add(augmented_videos, batch_labels)\n",
    "        print(f\"Processing video {len(generator.temp_videos)}...\", end=\"\\r\", flush=True)\n",
    "        time.sleep(0.5)  # simulate work\n",
    "    if confirm:\n",
    "        generator.confirm()"
   ]
  },
  {
   "cell_type": "markdown",
   "id": "2bffc123",
   "metadata": {
    "papermill": {
     "duration": 0.008023,
     "end_time": "2025-07-12T14:46:37.411626",
     "exception": false,
     "start_time": "2025-07-12T14:46:37.403603",
     "status": "completed"
    },
    "tags": []
   },
   "source": [
    "### Show Frames"
   ]
  },
  {
   "cell_type": "code",
   "execution_count": 9,
   "id": "8431a5a8",
   "metadata": {
    "execution": {
     "iopub.execute_input": "2025-07-12T14:46:37.428640Z",
     "iopub.status.busy": "2025-07-12T14:46:37.428457Z",
     "iopub.status.idle": "2025-07-12T14:46:37.431975Z",
     "shell.execute_reply": "2025-07-12T14:46:37.431460Z"
    },
    "papermill": {
     "duration": 0.013126,
     "end_time": "2025-07-12T14:46:37.432882",
     "exception": false,
     "start_time": "2025-07-12T14:46:37.419756",
     "status": "completed"
    },
    "tags": []
   },
   "outputs": [],
   "source": [
    "# show frame def\n",
    "import matplotlib.pyplot as plt\n",
    "\n",
    "def show_frame(frame):\n",
    "    plt.figure(figsize=(3,3))\n",
    "    plt.imshow(frame)\n",
    "    plt.axis(\"off\")\n",
    "    plt.tight_layout()"
   ]
  },
  {
   "cell_type": "markdown",
   "id": "bd7776bb",
   "metadata": {
    "papermill": {
     "duration": 0.008052,
     "end_time": "2025-07-12T14:46:37.449270",
     "exception": false,
     "start_time": "2025-07-12T14:46:37.441218",
     "status": "completed"
    },
    "tags": []
   },
   "source": [
    "### Helper Function"
   ]
  },
  {
   "cell_type": "code",
   "execution_count": 10,
   "id": "b5da4813",
   "metadata": {
    "execution": {
     "iopub.execute_input": "2025-07-12T14:46:37.466579Z",
     "iopub.status.busy": "2025-07-12T14:46:37.466196Z",
     "iopub.status.idle": "2025-07-12T14:46:37.470041Z",
     "shell.execute_reply": "2025-07-12T14:46:37.469565Z"
    },
    "papermill": {
     "duration": 0.013585,
     "end_time": "2025-07-12T14:46:37.471011",
     "exception": false,
     "start_time": "2025-07-12T14:46:37.457426",
     "status": "completed"
    },
    "tags": []
   },
   "outputs": [],
   "source": [
    "def show_frame_vs(frame1, frame2, title1=\"Frame 1\", title2=\"Frame 2\"):\n",
    "    plt.figure(figsize=(10, 5))\n",
    "\n",
    "    # First frame\n",
    "    plt.subplot(1, 2, 1)\n",
    "    plt.imshow(frame1)\n",
    "    plt.title(title1)\n",
    "    plt.axis('off')\n",
    "\n",
    "    # Second frame\n",
    "    plt.subplot(1, 2, 2)\n",
    "    plt.imshow(frame2)\n",
    "    plt.title(title2)\n",
    "    plt.axis('off')\n",
    "\n",
    "    plt.tight_layout()\n",
    "    plt.show()"
   ]
  },
  {
   "cell_type": "code",
   "execution_count": 11,
   "id": "2b5041b1",
   "metadata": {
    "execution": {
     "iopub.execute_input": "2025-07-12T14:46:37.488549Z",
     "iopub.status.busy": "2025-07-12T14:46:37.488369Z",
     "iopub.status.idle": "2025-07-12T14:46:37.491545Z",
     "shell.execute_reply": "2025-07-12T14:46:37.491043Z"
    },
    "papermill": {
     "duration": 0.01291,
     "end_time": "2025-07-12T14:46:37.492583",
     "exception": false,
     "start_time": "2025-07-12T14:46:37.479673",
     "status": "completed"
    },
    "tags": []
   },
   "outputs": [],
   "source": [
    "# reusable video loop helper function\n",
    "def apply_function(function, videos, *arg, **kwargs):\n",
    "    new_videos=[]\n",
    "    \n",
    "    for video in videos:\n",
    "        new_videos.append(function(video, *arg, **kwargs))\n",
    "        \n",
    "    return new_videos"
   ]
  },
  {
   "cell_type": "code",
   "execution_count": 12,
   "id": "841420ab",
   "metadata": {
    "execution": {
     "iopub.execute_input": "2025-07-12T14:46:37.510044Z",
     "iopub.status.busy": "2025-07-12T14:46:37.509844Z",
     "iopub.status.idle": "2025-07-12T14:46:37.513836Z",
     "shell.execute_reply": "2025-07-12T14:46:37.513143Z"
    },
    "papermill": {
     "duration": 0.013912,
     "end_time": "2025-07-12T14:46:37.514847",
     "exception": false,
     "start_time": "2025-07-12T14:46:37.500935",
     "status": "completed"
    },
    "tags": []
   },
   "outputs": [],
   "source": [
    "# reusable video loop helper function\n",
    "def apply(function, videos, labels, *arg, **kwargs):\n",
    "    new_videos=[]\n",
    "    new_labels=[]\n",
    "    combined=zip(labels, videos)\n",
    "    \n",
    "    for label, video in combined:\n",
    "        new_videos.append(function(video, *arg, **kwargs))\n",
    "        new_labels.append(label)\n",
    "        \n",
    "    new_videos=np.asarray(new_videos)\n",
    "    new_labels=np.asarray(new_labels)\n",
    "    \n",
    "    return new_videos, new_labels"
   ]
  },
  {
   "cell_type": "markdown",
   "id": "2dec672d",
   "metadata": {
    "papermill": {
     "duration": 0.008268,
     "end_time": "2025-07-12T14:46:37.531438",
     "exception": false,
     "start_time": "2025-07-12T14:46:37.523170",
     "status": "completed"
    },
    "tags": []
   },
   "source": [
    "## Salt and Pepper Noise "
   ]
  },
  {
   "cell_type": "code",
   "execution_count": 13,
   "id": "a53d212d",
   "metadata": {
    "execution": {
     "iopub.execute_input": "2025-07-12T14:46:37.548568Z",
     "iopub.status.busy": "2025-07-12T14:46:37.548389Z",
     "iopub.status.idle": "2025-07-12T14:46:37.552554Z",
     "shell.execute_reply": "2025-07-12T14:46:37.551889Z"
    },
    "papermill": {
     "duration": 0.013923,
     "end_time": "2025-07-12T14:46:37.553582",
     "exception": false,
     "start_time": "2025-07-12T14:46:37.539659",
     "status": "completed"
    },
    "tags": []
   },
   "outputs": [],
   "source": [
    "# Noise function def\n",
    "\n",
    "def noise_video(video,noise_factor=NOISE_FACTOR):\n",
    "    noisy_video=[]\n",
    "    for frame in video:\n",
    "        # Generate random noise\n",
    "        noise = np.random.rand(*frame.shape)  # Generate random noise\n",
    "        salt_pepper_noise = np.random.choice([0, 1], size=frame.shape, p=[1-noise_factor, noise_factor])\n",
    "        noisy_frame = frame * (1 - salt_pepper_noise) + salt_pepper_noise * np.random.rand(*frame.shape)\n",
    "        noisy_video.append(noisy_frame)\n",
    "    return np.array(noisy_video)"
   ]
  },
  {
   "cell_type": "markdown",
   "id": "40f9ffa8",
   "metadata": {
    "papermill": {
     "duration": 0.008098,
     "end_time": "2025-07-12T14:46:37.569860",
     "exception": false,
     "start_time": "2025-07-12T14:46:37.561762",
     "status": "completed"
    },
    "tags": []
   },
   "source": [
    "## Horizontal Flip"
   ]
  },
  {
   "cell_type": "code",
   "execution_count": 14,
   "id": "a655b594",
   "metadata": {
    "execution": {
     "iopub.execute_input": "2025-07-12T14:46:37.586813Z",
     "iopub.status.busy": "2025-07-12T14:46:37.586617Z",
     "iopub.status.idle": "2025-07-12T14:46:37.589666Z",
     "shell.execute_reply": "2025-07-12T14:46:37.589177Z"
    },
    "papermill": {
     "duration": 0.012758,
     "end_time": "2025-07-12T14:46:37.590712",
     "exception": false,
     "start_time": "2025-07-12T14:46:37.577954",
     "status": "completed"
    },
    "tags": []
   },
   "outputs": [],
   "source": [
    "# horizontal flip function def\n",
    "# Testing Flip feautes[0] -> first video\n",
    "def horizontal_flip(video):\n",
    "    return [tf.image.flip_left_right(frame) for frame in video]"
   ]
  },
  {
   "cell_type": "markdown",
   "id": "7d285ff9",
   "metadata": {
    "papermill": {
     "duration": 0.008005,
     "end_time": "2025-07-12T14:46:37.606861",
     "exception": false,
     "start_time": "2025-07-12T14:46:37.598856",
     "status": "completed"
    },
    "tags": []
   },
   "source": [
    "## Random Shear"
   ]
  },
  {
   "cell_type": "code",
   "execution_count": 15,
   "id": "96767461",
   "metadata": {
    "execution": {
     "iopub.execute_input": "2025-07-12T14:46:37.624493Z",
     "iopub.status.busy": "2025-07-12T14:46:37.624241Z",
     "iopub.status.idle": "2025-07-12T14:46:37.629642Z",
     "shell.execute_reply": "2025-07-12T14:46:37.629122Z"
    },
    "papermill": {
     "duration": 0.015628,
     "end_time": "2025-07-12T14:46:37.630758",
     "exception": false,
     "start_time": "2025-07-12T14:46:37.615130",
     "status": "completed"
    },
    "tags": []
   },
   "outputs": [],
   "source": [
    "# random shear function def\n",
    "import numpy as np\n",
    "import tensorflow as tf\n",
    "from scipy.ndimage import affine_transform\n",
    "\n",
    "def apply_shear_frames(frames, shear_right):\n",
    "    return [apply_shear(frame, shear_right) for frame in frames]\n",
    "\n",
    "def apply_shear(frame, shear_right=0):\n",
    "    frame_resized = tf.image.resize(frame, (IMAGE_HEIGHT, IMAGE_WIDTH)).numpy()\n",
    "    if shear_right:\n",
    "        shear_x = 0.09\n",
    "        shear_y = 0.1\n",
    "    else:\n",
    "        shear_x = -0.09\n",
    "        shear_y = 0.3\n",
    "    # Construct the affine matrix for scipy: inverse of the transformation matrix\n",
    "    # scipy applies the inverse transform matrix\n",
    "    shear_matrix = np.array([\n",
    "        [1, shear_x, 0],\n",
    "        [shear_y, 1, 0],\n",
    "        [0, 0, 1]\n",
    "    ], dtype=np.float32)\n",
    "\n",
    "    # Extract 2x2 part for affine_transform\n",
    "    matrix = shear_matrix[:2, :2]\n",
    "\n",
    "    # Offset (no translation)\n",
    "    offset = [0, 0]\n",
    "\n",
    "    # Apply affine transform on each channel separately\n",
    "    sheared = np.zeros_like(frame_resized)\n",
    "    for c in range(3):\n",
    "        sheared[..., c] = affine_transform(\n",
    "            frame_resized[..., c],\n",
    "            matrix=matrix,\n",
    "            offset=offset,\n",
    "            order=1,          # bilinear interpolation\n",
    "            mode='nearest'    # fill_mode\n",
    "        )\n",
    "    return sheared"
   ]
  },
  {
   "cell_type": "markdown",
   "id": "47c8796f",
   "metadata": {
    "papermill": {
     "duration": 0.008692,
     "end_time": "2025-07-12T14:46:37.649088",
     "exception": false,
     "start_time": "2025-07-12T14:46:37.640396",
     "status": "completed"
    },
    "tags": []
   },
   "source": [
    "# 📌 Model Related\n",
    "## 🗼 Model Architecture `create_model`"
   ]
  },
  {
   "cell_type": "markdown",
   "id": "18e1a7f7",
   "metadata": {
    "papermill": {
     "duration": 0.00795,
     "end_time": "2025-07-12T14:46:37.665434",
     "exception": false,
     "start_time": "2025-07-12T14:46:37.657484",
     "status": "completed"
    },
    "tags": []
   },
   "source": [
    "# 📌 Execution\n",
    "## Creating Dataset\n",
    "The following functions are executed\n",
    "- `frame extraction`\n",
    "- `resize`\n",
    "\n",
    "which returns:\n",
    "- `features` - `np.array` of all the videos\n",
    "- `labels` - `np.array` of all the class labels"
   ]
  },
  {
   "cell_type": "code",
   "execution_count": 16,
   "id": "0cf911b0",
   "metadata": {
    "execution": {
     "iopub.execute_input": "2025-07-12T14:46:37.682381Z",
     "iopub.status.busy": "2025-07-12T14:46:37.682174Z",
     "iopub.status.idle": "2025-07-12T14:56:09.092055Z",
     "shell.execute_reply": "2025-07-12T14:56:09.091324Z"
    },
    "papermill": {
     "duration": 571.429738,
     "end_time": "2025-07-12T14:56:09.103265",
     "exception": false,
     "start_time": "2025-07-12T14:46:37.673527",
     "status": "completed"
    },
    "tags": []
   },
   "outputs": [
    {
     "name": "stdout",
     "output_type": "stream",
     "text": [
      "Extracting Data of Class: write\n",
      "Extracting Data of Class: sit still\n",
      "Extracting Data of Class: sit down\n",
      "Extracting Data of Class: move hands in front of the body\n",
      "Extracting Data of Class: raise one leg up\n",
      "Extracting Data of Class: drink from a bottle\n",
      "Extracting Data of Class: stand up\n",
      "Extracting Data of Class: read\n",
      "Extracting Data of Class: throw paper\n",
      "Extracting Data of Class: walk\n",
      "Extracting Data of Class: drink from a mug\n",
      "Extracting Data of Class: fall from bed\n",
      "Extracting Data of Class: faint\n",
      "Extracting Data of Class: raise one hand up\n",
      "Extracting Data of Class: cheer up\n",
      "Extracting Data of Class: move hands close to the body\n",
      "Dataset created with 800 videos\n",
      "Features shape: (800, 5, 128, 128, 3)\n",
      "Labels shape: (800,)\n"
     ]
    },
    {
     "data": {
      "text/plain": [
       "((800, 5, 128, 128, 3), (800,))"
      ]
     },
     "execution_count": 16,
     "metadata": {},
     "output_type": "execute_result"
    }
   ],
   "source": [
    "# RUN Create the dataset with explicit parameters\n",
    "try:\n",
    "    videos, labels = create_dataset(\n",
    "        dataset_dir=DATASET_DIR,\n",
    "        classes_list=CLASSES_LIST,\n",
    "        sequence_length=SEQUENCE_LENGTH,\n",
    "        image_height=IMAGE_HEIGHT,\n",
    "        image_width=IMAGE_WIDTH,\n",
    "        # Limit to 10 videos per class to manage memory\n",
    "        augmentations=True,\n",
    "        max_videos_per_class=MAX_VIDEO_PER_CLASS\n",
    "    )\n",
    "except FileNotFoundError as e:\n",
    "    print(f\"Error: {e}\")\n",
    "except ValueError as e:\n",
    "    print(f\"Error: {e}\")\n",
    "except Exception as e:\n",
    "    print(f\"Unexpected error: {e}\")\n",
    "\n",
    "videos.shape, labels.shape"
   ]
  },
  {
   "cell_type": "code",
   "execution_count": 17,
   "id": "99cb925d",
   "metadata": {
    "execution": {
     "iopub.execute_input": "2025-07-12T14:56:09.123709Z",
     "iopub.status.busy": "2025-07-12T14:56:09.123478Z",
     "iopub.status.idle": "2025-07-12T14:56:09.127478Z",
     "shell.execute_reply": "2025-07-12T14:56:09.126925Z"
    },
    "papermill": {
     "duration": 0.015501,
     "end_time": "2025-07-12T14:56:09.128576",
     "exception": false,
     "start_time": "2025-07-12T14:56:09.113075",
     "status": "completed"
    },
    "tags": []
   },
   "outputs": [
    {
     "name": "stdout",
     "output_type": "stream",
     "text": [
      "Total 800 videos and 800 classes\n"
     ]
    }
   ],
   "source": [
    "video_generator = VideoDataGenerator(\n",
    "    videos=videos,\n",
    "    labels=labels,\n",
    "    batch_size=BATCH_SIZE\n",
    ")"
   ]
  },
  {
   "cell_type": "code",
   "execution_count": 18,
   "id": "4d6e9631",
   "metadata": {
    "execution": {
     "iopub.execute_input": "2025-07-12T14:56:09.148758Z",
     "iopub.status.busy": "2025-07-12T14:56:09.148520Z",
     "iopub.status.idle": "2025-07-12T14:56:09.160279Z",
     "shell.execute_reply": "2025-07-12T14:56:09.159550Z"
    },
    "papermill": {
     "duration": 0.023147,
     "end_time": "2025-07-12T14:56:09.161511",
     "exception": false,
     "start_time": "2025-07-12T14:56:09.138364",
     "status": "completed"
    },
    "tags": []
   },
   "outputs": [
    {
     "data": {
      "text/plain": [
       "((24, 5, 128, 128, 3), (24,))"
      ]
     },
     "execution_count": 18,
     "metadata": {},
     "output_type": "execute_result"
    }
   ],
   "source": [
    "videos, labels = video_generator[3]\n",
    "\n",
    "videos.shape, labels.shape"
   ]
  },
  {
   "cell_type": "code",
   "execution_count": 19,
   "id": "77b394df",
   "metadata": {
    "execution": {
     "iopub.execute_input": "2025-07-12T14:56:09.182310Z",
     "iopub.status.busy": "2025-07-12T14:56:09.181772Z",
     "iopub.status.idle": "2025-07-12T14:56:09.186574Z",
     "shell.execute_reply": "2025-07-12T14:56:09.185933Z"
    },
    "papermill": {
     "duration": 0.016278,
     "end_time": "2025-07-12T14:56:09.187626",
     "exception": false,
     "start_time": "2025-07-12T14:56:09.171348",
     "status": "completed"
    },
    "tags": []
   },
   "outputs": [
    {
     "data": {
      "text/plain": [
       "800"
      ]
     },
     "execution_count": 19,
     "metadata": {},
     "output_type": "execute_result"
    }
   ],
   "source": [
    "len(video_generator.videos) "
   ]
  },
  {
   "cell_type": "code",
   "execution_count": 20,
   "id": "c34d23f9",
   "metadata": {
    "execution": {
     "iopub.execute_input": "2025-07-12T14:56:09.208783Z",
     "iopub.status.busy": "2025-07-12T14:56:09.208516Z",
     "iopub.status.idle": "2025-07-12T14:56:09.213139Z",
     "shell.execute_reply": "2025-07-12T14:56:09.212559Z"
    },
    "papermill": {
     "duration": 0.016489,
     "end_time": "2025-07-12T14:56:09.214177",
     "exception": false,
     "start_time": "2025-07-12T14:56:09.197688",
     "status": "completed"
    },
    "tags": []
   },
   "outputs": [
    {
     "data": {
      "text/plain": [
       "34"
      ]
     },
     "execution_count": 20,
     "metadata": {},
     "output_type": "execute_result"
    }
   ],
   "source": [
    "len(video_generator)"
   ]
  },
  {
   "cell_type": "markdown",
   "id": "22cbf6a5",
   "metadata": {
    "papermill": {
     "duration": 0.009731,
     "end_time": "2025-07-12T14:56:09.233741",
     "exception": false,
     "start_time": "2025-07-12T14:56:09.224010",
     "status": "completed"
    },
    "tags": []
   },
   "source": [
    "## Apply ***horizontal flip*** (Augmentation)"
   ]
  },
  {
   "cell_type": "code",
   "execution_count": 21,
   "id": "6bc0979d",
   "metadata": {
    "execution": {
     "iopub.execute_input": "2025-07-12T14:56:09.254542Z",
     "iopub.status.busy": "2025-07-12T14:56:09.254277Z",
     "iopub.status.idle": "2025-07-12T14:56:31.711989Z",
     "shell.execute_reply": "2025-07-12T14:56:31.711389Z"
    },
    "papermill": {
     "duration": 22.46987,
     "end_time": "2025-07-12T14:56:31.713515",
     "exception": false,
     "start_time": "2025-07-12T14:56:09.243645",
     "status": "completed"
    },
    "tags": []
   },
   "outputs": [
    {
     "name": "stdout",
     "output_type": "stream",
     "text": [
      "Processing video 24...\r"
     ]
    },
    {
     "name": "stderr",
     "output_type": "stream",
     "text": [
      "I0000 00:00:1752332172.083522      19 gpu_device.cc:2022] Created device /job:localhost/replica:0/task:0/device:GPU:0 with 13942 MB memory:  -> device: 0, name: Tesla T4, pci bus id: 0000:00:04.0, compute capability: 7.5\n",
      "I0000 00:00:1752332172.084320      19 gpu_device.cc:2022] Created device /job:localhost/replica:0/task:0/device:GPU:1 with 13942 MB memory:  -> device: 1, name: Tesla T4, pci bus id: 0000:00:05.0, compute capability: 7.5\n"
     ]
    },
    {
     "name": "stdout",
     "output_type": "stream",
     "text": [
      "Processing video 800...\r"
     ]
    }
   ],
   "source": [
    "apply_augmentation(horizontal_flip, video_generator)"
   ]
  },
  {
   "cell_type": "code",
   "execution_count": 22,
   "id": "6574d98f",
   "metadata": {
    "execution": {
     "iopub.execute_input": "2025-07-12T14:56:31.737806Z",
     "iopub.status.busy": "2025-07-12T14:56:31.737602Z",
     "iopub.status.idle": "2025-07-12T14:56:31.741862Z",
     "shell.execute_reply": "2025-07-12T14:56:31.741219Z"
    },
    "papermill": {
     "duration": 0.0168,
     "end_time": "2025-07-12T14:56:31.742905",
     "exception": false,
     "start_time": "2025-07-12T14:56:31.726105",
     "status": "completed"
    },
    "tags": []
   },
   "outputs": [
    {
     "name": "stdout",
     "output_type": "stream",
     "text": [
      "Checking Total Videos and Class Count: 800, 800\n",
      "PENDING Total Videos and Class Count: 800, 800\n"
     ]
    }
   ],
   "source": [
    "print(f\"Checking Total Videos and Class Count: {len(video_generator.videos)}, {len(video_generator.labels)}\")\n",
    "print(f\"PENDING Total Videos and Class Count: {len(video_generator.temp_videos)}, {len(video_generator.temp_labels)}\")"
   ]
  },
  {
   "cell_type": "code",
   "execution_count": 23,
   "id": "9c0f9413",
   "metadata": {
    "execution": {
     "iopub.execute_input": "2025-07-12T14:56:31.766640Z",
     "iopub.status.busy": "2025-07-12T14:56:31.766417Z",
     "iopub.status.idle": "2025-07-12T14:56:31.770068Z",
     "shell.execute_reply": "2025-07-12T14:56:31.769241Z"
    },
    "papermill": {
     "duration": 0.016188,
     "end_time": "2025-07-12T14:56:31.771077",
     "exception": false,
     "start_time": "2025-07-12T14:56:31.754889",
     "status": "completed"
    },
    "tags": []
   },
   "outputs": [
    {
     "name": "stdout",
     "output_type": "stream",
     "text": [
      "Adding 800 videos with 800 classes.\n",
      "Successfully added - 800 videos and 800 classes.\n",
      "Now Total - 1600 videos and 1600 classes.\n",
      "PENDING for Augmentations - 0 videos and 0 classes.\n"
     ]
    }
   ],
   "source": [
    "video_generator.confirm()"
   ]
  },
  {
   "cell_type": "markdown",
   "id": "c6afd498",
   "metadata": {
    "papermill": {
     "duration": 0.010853,
     "end_time": "2025-07-12T14:56:31.792911",
     "exception": false,
     "start_time": "2025-07-12T14:56:31.782058",
     "status": "completed"
    },
    "tags": []
   },
   "source": [
    "## Apply ***Noise*** (Augmentation)"
   ]
  },
  {
   "cell_type": "code",
   "execution_count": 24,
   "id": "c8bb0943",
   "metadata": {
    "execution": {
     "iopub.execute_input": "2025-07-12T14:56:31.815383Z",
     "iopub.status.busy": "2025-07-12T14:56:31.815158Z",
     "iopub.status.idle": "2025-07-12T14:57:25.751158Z",
     "shell.execute_reply": "2025-07-12T14:57:25.750496Z"
    },
    "papermill": {
     "duration": 53.948875,
     "end_time": "2025-07-12T14:57:25.752609",
     "exception": false,
     "start_time": "2025-07-12T14:56:31.803734",
     "status": "completed"
    },
    "tags": []
   },
   "outputs": [
    {
     "name": "stdout",
     "output_type": "stream",
     "text": [
      "Processing video 1600...\r"
     ]
    }
   ],
   "source": [
    "apply_augmentation(noise_video, video_generator)"
   ]
  },
  {
   "cell_type": "code",
   "execution_count": 25,
   "id": "8708979f",
   "metadata": {
    "execution": {
     "iopub.execute_input": "2025-07-12T14:57:25.783929Z",
     "iopub.status.busy": "2025-07-12T14:57:25.783629Z",
     "iopub.status.idle": "2025-07-12T14:57:25.788139Z",
     "shell.execute_reply": "2025-07-12T14:57:25.787541Z"
    },
    "papermill": {
     "duration": 0.021116,
     "end_time": "2025-07-12T14:57:25.789383",
     "exception": false,
     "start_time": "2025-07-12T14:57:25.768267",
     "status": "completed"
    },
    "tags": []
   },
   "outputs": [
    {
     "name": "stdout",
     "output_type": "stream",
     "text": [
      "Checking Total Videos and Class Count: 1600, 1600\n",
      "PENDING Total Videos and Class Count: 1600, 1600\n"
     ]
    }
   ],
   "source": [
    "print(f\"Checking Total Videos and Class Count: {len(video_generator.videos)}, {len(video_generator.labels)}\")\n",
    "print(f\"PENDING Total Videos and Class Count: {len(video_generator.temp_videos)}, {len(video_generator.temp_labels)}\")"
   ]
  },
  {
   "cell_type": "markdown",
   "id": "4784a775",
   "metadata": {
    "papermill": {
     "duration": 0.014284,
     "end_time": "2025-07-12T14:57:25.818207",
     "exception": false,
     "start_time": "2025-07-12T14:57:25.803923",
     "status": "completed"
    },
    "tags": []
   },
   "source": [
    "## Apply ***Random Shear x2*** (Augmentation)"
   ]
  },
  {
   "cell_type": "code",
   "execution_count": 26,
   "id": "196bc287",
   "metadata": {
    "execution": {
     "iopub.execute_input": "2025-07-12T14:57:25.848501Z",
     "iopub.status.busy": "2025-07-12T14:57:25.848178Z",
     "iopub.status.idle": "2025-07-12T14:59:39.716188Z",
     "shell.execute_reply": "2025-07-12T14:59:39.715344Z"
    },
    "papermill": {
     "duration": 133.88505,
     "end_time": "2025-07-12T14:59:39.717822",
     "exception": false,
     "start_time": "2025-07-12T14:57:25.832772",
     "status": "completed"
    },
    "tags": []
   },
   "outputs": [
    {
     "name": "stdout",
     "output_type": "stream",
     "text": [
      "Processing video 4800...\r"
     ]
    }
   ],
   "source": [
    "apply_augmentation(apply_shear_frames, video_generator, shear_right=0)\n",
    "apply_augmentation(apply_shear_frames, video_generator, shear_right=1)"
   ]
  },
  {
   "cell_type": "code",
   "execution_count": 27,
   "id": "942ede0a",
   "metadata": {
    "execution": {
     "iopub.execute_input": "2025-07-12T14:59:39.772408Z",
     "iopub.status.busy": "2025-07-12T14:59:39.772128Z",
     "iopub.status.idle": "2025-07-12T14:59:39.776312Z",
     "shell.execute_reply": "2025-07-12T14:59:39.775544Z"
    },
    "papermill": {
     "duration": 0.025495,
     "end_time": "2025-07-12T14:59:39.777373",
     "exception": false,
     "start_time": "2025-07-12T14:59:39.751878",
     "status": "completed"
    },
    "tags": []
   },
   "outputs": [
    {
     "name": "stdout",
     "output_type": "stream",
     "text": [
      "Checking Total Videos and Class Count: 1600, 1600\n",
      "PENDING Total Videos and Class Count: 4800, 4800\n"
     ]
    }
   ],
   "source": [
    "print(f\"Checking Total Videos and Class Count: {len(video_generator.videos)}, {len(video_generator.labels)}\")\n",
    "print(f\"PENDING Total Videos and Class Count: {len(video_generator.temp_videos)}, {len(video_generator.temp_labels)}\")"
   ]
  },
  {
   "cell_type": "code",
   "execution_count": 28,
   "id": "54812245",
   "metadata": {
    "execution": {
     "iopub.execute_input": "2025-07-12T14:59:39.817408Z",
     "iopub.status.busy": "2025-07-12T14:59:39.817145Z",
     "iopub.status.idle": "2025-07-12T14:59:39.821055Z",
     "shell.execute_reply": "2025-07-12T14:59:39.820481Z"
    },
    "papermill": {
     "duration": 0.025452,
     "end_time": "2025-07-12T14:59:39.822236",
     "exception": false,
     "start_time": "2025-07-12T14:59:39.796784",
     "status": "completed"
    },
    "tags": []
   },
   "outputs": [
    {
     "name": "stdout",
     "output_type": "stream",
     "text": [
      "Adding 4800 videos with 4800 classes.\n",
      "Successfully added - 4800 videos and 4800 classes.\n",
      "Now Total - 6400 videos and 6400 classes.\n",
      "PENDING for Augmentations - 0 videos and 0 classes.\n"
     ]
    }
   ],
   "source": [
    "# confirm changes to generator\n",
    "video_generator.confirm()"
   ]
  },
  {
   "cell_type": "code",
   "execution_count": 29,
   "id": "9af1c0c3",
   "metadata": {
    "execution": {
     "iopub.execute_input": "2025-07-12T14:59:39.862615Z",
     "iopub.status.busy": "2025-07-12T14:59:39.862096Z",
     "iopub.status.idle": "2025-07-12T14:59:39.866439Z",
     "shell.execute_reply": "2025-07-12T14:59:39.865668Z"
    },
    "papermill": {
     "duration": 0.0255,
     "end_time": "2025-07-12T14:59:39.867541",
     "exception": false,
     "start_time": "2025-07-12T14:59:39.842041",
     "status": "completed"
    },
    "tags": []
   },
   "outputs": [
    {
     "name": "stdout",
     "output_type": "stream",
     "text": [
      "Checking Video Generator Total Videos and Class Count: 6400, 6400\n"
     ]
    }
   ],
   "source": [
    "print(f\"Checking Video Generator Total Videos and Class Count: {len(video_generator.videos)}, {len(video_generator.labels)}\")"
   ]
  },
  {
   "cell_type": "markdown",
   "id": "0a317236",
   "metadata": {
    "papermill": {
     "duration": 0.019064,
     "end_time": "2025-07-12T14:59:39.905939",
     "exception": false,
     "start_time": "2025-07-12T14:59:39.886875",
     "status": "completed"
    },
    "tags": []
   },
   "source": [
    "## Cheking (Output)"
   ]
  },
  {
   "cell_type": "code",
   "execution_count": 30,
   "id": "902698e1",
   "metadata": {
    "execution": {
     "iopub.execute_input": "2025-07-12T14:59:39.945987Z",
     "iopub.status.busy": "2025-07-12T14:59:39.945390Z",
     "iopub.status.idle": "2025-07-12T14:59:40.421671Z",
     "shell.execute_reply": "2025-07-12T14:59:40.420866Z"
    },
    "papermill": {
     "duration": 0.498209,
     "end_time": "2025-07-12T14:59:40.423655",
     "exception": false,
     "start_time": "2025-07-12T14:59:39.925446",
     "status": "completed"
    },
    "tags": []
   },
   "outputs": [
    {
     "name": "stdout",
     "output_type": "stream",
     "text": [
      "(24, 5, 128, 128, 3) (24,)\n"
     ]
    },
    {
     "data": {
      "image/png": "[encoded data removed]",
      "text/plain": [
       "<Figure size 1000x500 with 2 Axes>"
      ]
     },
     "metadata": {},
     "output_type": "display_data"
    },
    {
     "name": "stdout",
     "output_type": "stream",
     "text": [
      "Might be two different action, but to check the flipping focus on the door behind.\n"
     ]
    }
   ],
   "source": [
    "# check horizontal flips\n",
    "videos, labels = video_generator[7]\n",
    "videos1, labels1 = video_generator[1]\n",
    "\n",
    "print(videos.shape, labels.shape)\n",
    "\n",
    "show_frame_vs(videos[0,0],videos1[1,0], title1=\"Flipped Frame 1\", title2=\"Non Flipped Frame 1\")\n",
    "print(\"Might be two different action, but to check the flipping focus on the door behind.\")"
   ]
  },
  {
   "cell_type": "markdown",
   "id": "50e6cb57",
   "metadata": {
    "papermill": {
     "duration": 0.022761,
     "end_time": "2025-07-12T14:59:40.470264",
     "exception": false,
     "start_time": "2025-07-12T14:59:40.447503",
     "status": "completed"
    },
    "tags": []
   },
   "source": [
    "# 📌 Preparing Data for Training"
   ]
  },
  {
   "cell_type": "code",
   "execution_count": 31,
   "id": "665826d1",
   "metadata": {
    "execution": {
     "iopub.execute_input": "2025-07-12T14:59:40.516945Z",
     "iopub.status.busy": "2025-07-12T14:59:40.516231Z",
     "iopub.status.idle": "2025-07-12T14:59:40.969625Z",
     "shell.execute_reply": "2025-07-12T14:59:40.969068Z"
    },
    "papermill": {
     "duration": 0.478177,
     "end_time": "2025-07-12T14:59:40.970918",
     "exception": false,
     "start_time": "2025-07-12T14:59:40.492741",
     "status": "completed"
    },
    "tags": []
   },
   "outputs": [],
   "source": [
    "# Clear previous session to free memory\n",
    "import gc\n",
    "\n",
    "gc.collect()\n",
    "tf.keras.backend.clear_session()"
   ]
  },
  {
   "cell_type": "markdown",
   "id": "d871e358",
   "metadata": {
    "papermill": {
     "duration": 0.021707,
     "end_time": "2025-07-12T14:59:41.015266",
     "exception": false,
     "start_time": "2025-07-12T14:59:40.993559",
     "status": "completed"
    },
    "tags": []
   },
   "source": [
    "## Splitting data for ***Trainig*** and ***Testing***"
   ]
  },
  {
   "cell_type": "code",
   "execution_count": 32,
   "id": "7c653dac",
   "metadata": {
    "execution": {
     "iopub.execute_input": "2025-07-12T14:59:41.061204Z",
     "iopub.status.busy": "2025-07-12T14:59:41.060863Z",
     "iopub.status.idle": "2025-07-12T14:59:43.096222Z",
     "shell.execute_reply": "2025-07-12T14:59:43.095489Z"
    },
    "papermill": {
     "duration": 2.060007,
     "end_time": "2025-07-12T14:59:43.097435",
     "exception": false,
     "start_time": "2025-07-12T14:59:41.037428",
     "status": "completed"
    },
    "tags": []
   },
   "outputs": [
    {
     "data": {
      "text/plain": [
       "((6400, 5, 128, 128, 3), (6400,))"
      ]
     },
     "execution_count": 32,
     "metadata": {},
     "output_type": "execute_result"
    }
   ],
   "source": [
    "videos = video_generator.videos\n",
    "labels = video_generator.labels\n",
    "\n",
    "videos = np.array(videos, dtype='float32')\n",
    "labels = np.array(labels)\n",
    "\n",
    "videos.shape, labels.shape"
   ]
  },
  {
   "cell_type": "code",
   "execution_count": 33,
   "id": "b061a5ab",
   "metadata": {
    "execution": {
     "iopub.execute_input": "2025-07-12T14:59:43.144447Z",
     "iopub.status.busy": "2025-07-12T14:59:43.143927Z",
     "iopub.status.idle": "2025-07-12T14:59:43.149742Z",
     "shell.execute_reply": "2025-07-12T14:59:43.149128Z"
    },
    "papermill": {
     "duration": 0.029696,
     "end_time": "2025-07-12T14:59:43.150872",
     "exception": false,
     "start_time": "2025-07-12T14:59:43.121176",
     "status": "completed"
    },
    "tags": []
   },
   "outputs": [
    {
     "data": {
      "text/plain": [
       "(6400, 16)"
      ]
     },
     "execution_count": 33,
     "metadata": {},
     "output_type": "execute_result"
    }
   ],
   "source": [
    "from tensorflow.keras.utils import to_categorical\n",
    "\n",
    "one_hot_encoded_labels = to_categorical(labels)\n",
    "\n",
    "one_hot_encoded_labels.shape"
   ]
  },
  {
   "cell_type": "code",
   "execution_count": 34,
   "id": "40de50c7",
   "metadata": {
    "execution": {
     "iopub.execute_input": "2025-07-12T14:59:43.196446Z",
     "iopub.status.busy": "2025-07-12T14:59:43.195992Z",
     "iopub.status.idle": "2025-07-12T14:59:43.425758Z",
     "shell.execute_reply": "2025-07-12T14:59:43.425043Z"
    },
    "papermill": {
     "duration": 0.253645,
     "end_time": "2025-07-12T14:59:43.426889",
     "exception": false,
     "start_time": "2025-07-12T14:59:43.173244",
     "status": "completed"
    },
    "tags": []
   },
   "outputs": [
    {
     "data": {
      "text/plain": [
       "0"
      ]
     },
     "execution_count": 34,
     "metadata": {},
     "output_type": "execute_result"
    }
   ],
   "source": [
    "gc.collect()"
   ]
  },
  {
   "cell_type": "code",
   "execution_count": 35,
   "id": "e3434ae4",
   "metadata": {
    "execution": {
     "iopub.execute_input": "2025-07-12T14:59:43.472445Z",
     "iopub.status.busy": "2025-07-12T14:59:43.471741Z",
     "iopub.status.idle": "2025-07-12T14:59:45.611267Z",
     "shell.execute_reply": "2025-07-12T14:59:45.610002Z"
    },
    "papermill": {
     "duration": 2.163934,
     "end_time": "2025-07-12T14:59:45.613336",
     "exception": false,
     "start_time": "2025-07-12T14:59:43.449402",
     "status": "completed"
    },
    "tags": []
   },
   "outputs": [
    {
     "data": {
      "text/plain": [
       "((5120, 5, 128, 128, 3), (5120, 16), (1280, 5, 128, 128, 3), (1280, 16))"
      ]
     },
     "execution_count": 35,
     "metadata": {},
     "output_type": "execute_result"
    }
   ],
   "source": [
    "# RUN Split the Data into Train ( 75% ) and Test Set ( 25% ).\n",
    "from sklearn.model_selection import train_test_split\n",
    "features_train, features_test, labels_train, labels_test = train_test_split(videos,\n",
    "                                                                            one_hot_encoded_labels,\n",
    "                                                                            test_size = TEST_SIZE,\n",
    "                                                                            shuffle = True,\n",
    "                                                                            random_state = seed_constant)\n",
    "\n",
    "features_train.shape, labels_train.shape, features_test.shape, labels_test.shape"
   ]
  },
  {
   "cell_type": "markdown",
   "id": "89775eb7",
   "metadata": {
    "papermill": {
     "duration": 0.025263,
     "end_time": "2025-07-12T14:59:45.670070",
     "exception": false,
     "start_time": "2025-07-12T14:59:45.644807",
     "status": "completed"
    },
    "tags": []
   },
   "source": [
    "## Splitting data for ***Training Set*** and ***Validation Set***"
   ]
  },
  {
   "cell_type": "code",
   "execution_count": 36,
   "id": "eec5116b",
   "metadata": {
    "execution": {
     "iopub.execute_input": "2025-07-12T14:59:45.723089Z",
     "iopub.status.busy": "2025-07-12T14:59:45.722385Z",
     "iopub.status.idle": "2025-07-12T14:59:45.730063Z",
     "shell.execute_reply": "2025-07-12T14:59:45.729320Z"
    },
    "papermill": {
     "duration": 0.038323,
     "end_time": "2025-07-12T14:59:45.731192",
     "exception": false,
     "start_time": "2025-07-12T14:59:45.692869",
     "status": "completed"
    },
    "tags": []
   },
   "outputs": [
    {
     "data": {
      "text/plain": [
       "((4096, 5, 128, 128, 3), (4096, 16), (1024, 5, 128, 128, 3), (1024, 16))"
      ]
     },
     "execution_count": 36,
     "metadata": {},
     "output_type": "execute_result"
    }
   ],
   "source": [
    "# Assuming features_train and labels_train are defined\n",
    "train_set = 1-VALIDATION_SPLIT\n",
    "\n",
    "train_video_frames, val_video_frames = features_train[:int(train_set * len(features_train))], features_train[int(train_set * len(features_train)):]\n",
    "train_labels, val_labels = labels_train[:int(train_set * len(labels_train))], labels_train[int(train_set * len(labels_train)):]\n",
    "\n",
    "train_video_frames.shape, train_labels.shape, val_video_frames.shape, val_labels.shape"
   ]
  },
  {
   "cell_type": "markdown",
   "id": "2c1df887",
   "metadata": {
    "papermill": {
     "duration": 0.022552,
     "end_time": "2025-07-12T14:59:45.777137",
     "exception": false,
     "start_time": "2025-07-12T14:59:45.754585",
     "status": "completed"
    },
    "tags": []
   },
   "source": [
    "## Use Generator `Video Data Generator`"
   ]
  },
  {
   "cell_type": "code",
   "execution_count": 37,
   "id": "523079de",
   "metadata": {
    "execution": {
     "iopub.execute_input": "2025-07-12T14:59:45.823787Z",
     "iopub.status.busy": "2025-07-12T14:59:45.823507Z",
     "iopub.status.idle": "2025-07-12T14:59:45.832248Z",
     "shell.execute_reply": "2025-07-12T14:59:45.831579Z"
    },
    "papermill": {
     "duration": 0.03361,
     "end_time": "2025-07-12T14:59:45.833396",
     "exception": false,
     "start_time": "2025-07-12T14:59:45.799786",
     "status": "completed"
    },
    "tags": []
   },
   "outputs": [
    {
     "name": "stdout",
     "output_type": "stream",
     "text": [
      "Total 4096 videos and 4096 classes\n",
      "Total 1024 videos and 1024 classes\n"
     ]
    },
    {
     "data": {
      "text/plain": [
       "(171, 43)"
      ]
     },
     "execution_count": 37,
     "metadata": {},
     "output_type": "execute_result"
    }
   ],
   "source": [
    "# Create the training and validation generators\n",
    "train_gen = VideoDataGenerator(\n",
    "    videos=train_video_frames, \n",
    "    labels=train_labels, \n",
    "    batch_size=BATCH_SIZE,\n",
    ")\n",
    "\n",
    "val_gen = VideoDataGenerator(\n",
    "    videos=val_video_frames, \n",
    "    labels=val_labels, \n",
    "    batch_size=BATCH_SIZE,\n",
    ")\n",
    "\n",
    "len(train_gen), len(val_gen)"
   ]
  },
  {
   "cell_type": "markdown",
   "id": "45b3f043",
   "metadata": {
    "papermill": {
     "duration": 0.022728,
     "end_time": "2025-07-12T14:59:45.885391",
     "exception": false,
     "start_time": "2025-07-12T14:59:45.862663",
     "status": "completed"
    },
    "tags": []
   },
   "source": [
    "## Inspect ***Generator*** Data on Epochs"
   ]
  },
  {
   "cell_type": "code",
   "execution_count": 38,
   "id": "7046bb16",
   "metadata": {
    "execution": {
     "iopub.execute_input": "2025-07-12T14:59:45.931999Z",
     "iopub.status.busy": "2025-07-12T14:59:45.931231Z",
     "iopub.status.idle": "2025-07-12T14:59:45.947511Z",
     "shell.execute_reply": "2025-07-12T14:59:45.946677Z"
    },
    "papermill": {
     "duration": 0.041026,
     "end_time": "2025-07-12T14:59:45.948836",
     "exception": false,
     "start_time": "2025-07-12T14:59:45.907810",
     "status": "completed"
    },
    "tags": []
   },
   "outputs": [
    {
     "name": "stdout",
     "output_type": "stream",
     "text": [
      "[   0    1    2 ... 4093 4094 4095]\n",
      "[1355  207 1540 ...  885 3068 2783]\n"
     ]
    },
    {
     "data": {
      "text/plain": [
       "(24, (24, 5, 128, 128, 3), (24, 16))"
      ]
     },
     "execution_count": 38,
     "metadata": {},
     "output_type": "execute_result"
    }
   ],
   "source": [
    "features, labels = train_gen[1]\n",
    "\n",
    "print(train_gen.indices)\n",
    "\n",
    "train_gen.on_epoch_end()\n",
    "\n",
    "print(train_gen.indices)\n",
    "\n",
    "BATCH_SIZE, features.shape, labels.shape"
   ]
  },
  {
   "cell_type": "markdown",
   "id": "da8e673e",
   "metadata": {
    "papermill": {
     "duration": 0.022612,
     "end_time": "2025-07-12T14:59:45.994691",
     "exception": false,
     "start_time": "2025-07-12T14:59:45.972079",
     "status": "completed"
    },
    "tags": []
   },
   "source": [
    "## Compute Class Weight"
   ]
  },
  {
   "cell_type": "code",
   "execution_count": 39,
   "id": "9eadea2e",
   "metadata": {
    "execution": {
     "iopub.execute_input": "2025-07-12T14:59:46.049124Z",
     "iopub.status.busy": "2025-07-12T14:59:46.048289Z",
     "iopub.status.idle": "2025-07-12T14:59:46.057333Z",
     "shell.execute_reply": "2025-07-12T14:59:46.056511Z"
    },
    "papermill": {
     "duration": 0.041385,
     "end_time": "2025-07-12T14:59:46.058993",
     "exception": false,
     "start_time": "2025-07-12T14:59:46.017608",
     "status": "completed"
    },
    "tags": []
   },
   "outputs": [
    {
     "name": "stdout",
     "output_type": "stream",
     "text": [
      "Class weights: {0: 1.0, 1: 1.0, 2: 1.0, 3: 1.0, 4: 1.0, 5: 1.0, 6: 1.0, 7: 1.0, 8: 1.0, 9: 1.0, 10: 1.0, 11: 1.0, 12: 1.0, 13: 1.0, 14: 1.0, 15: 1.0}\n"
     ]
    }
   ],
   "source": [
    "from sklearn.utils.class_weight import compute_class_weight\n",
    "import numpy as np\n",
    "\n",
    "# Assuming y_int are integer labels (not one-hot)\n",
    "y_int = np.argmax(one_hot_encoded_labels, axis=1)  # or just integer labels if you have them\n",
    "\n",
    "classes = np.arange(NO_OF_CLASSES)  # e.g. np.arange(16)\n",
    "class_weights_values = compute_class_weight(class_weight='balanced', classes=classes, y=y_int)\n",
    "\n",
    "class_weights = dict(zip(classes, class_weights_values))\n",
    "\n",
    "print(\"Class weights:\", class_weights)\n"
   ]
  },
  {
   "cell_type": "code",
   "execution_count": 40,
   "id": "0d260975",
   "metadata": {
    "execution": {
     "iopub.execute_input": "2025-07-12T14:59:46.118825Z",
     "iopub.status.busy": "2025-07-12T14:59:46.118087Z",
     "iopub.status.idle": "2025-07-12T14:59:46.366542Z",
     "shell.execute_reply": "2025-07-12T14:59:46.365636Z"
    },
    "papermill": {
     "duration": 0.275716,
     "end_time": "2025-07-12T14:59:46.367903",
     "exception": false,
     "start_time": "2025-07-12T14:59:46.092187",
     "status": "completed"
    },
    "tags": []
   },
   "outputs": [],
   "source": [
    "gc.collect()\n",
    "del videos, one_hot_encoded_labels, labels_train\n",
    "del features_train, val_labels, train_labels\n",
    "del val_video_frames, train_video_frames"
   ]
  },
  {
   "cell_type": "markdown",
   "id": "dec9821c",
   "metadata": {
    "papermill": {
     "duration": 0.022853,
     "end_time": "2025-07-12T14:59:46.414348",
     "exception": false,
     "start_time": "2025-07-12T14:59:46.391495",
     "status": "completed"
    },
    "tags": []
   },
   "source": [
    "# ✨ Model Execution\n",
    "## Creating Model"
   ]
  },
  {
   "cell_type": "markdown",
   "id": "93348eb0",
   "metadata": {
    "papermill": {
     "duration": 0.022844,
     "end_time": "2025-07-12T14:59:46.460046",
     "exception": false,
     "start_time": "2025-07-12T14:59:46.437202",
     "status": "completed"
    },
    "tags": []
   },
   "source": [
    "## Plot Model Structure"
   ]
  },
  {
   "cell_type": "markdown",
   "id": "d4b0f3d3",
   "metadata": {
    "papermill": {
     "duration": 0.022967,
     "end_time": "2025-07-12T14:59:46.505982",
     "exception": false,
     "start_time": "2025-07-12T14:59:46.483015",
     "status": "completed"
    },
    "tags": []
   },
   "source": [
    "## 📈 Model Training"
   ]
  },
  {
   "cell_type": "code",
   "execution_count": 41,
   "id": "2d56e7d2",
   "metadata": {
    "execution": {
     "iopub.execute_input": "2025-07-12T14:59:46.553181Z",
     "iopub.status.busy": "2025-07-12T14:59:46.552721Z",
     "iopub.status.idle": "2025-07-12T15:33:13.007146Z",
     "shell.execute_reply": "2025-07-12T15:33:13.006546Z"
    },
    "papermill": {
     "duration": 2006.480285,
     "end_time": "2025-07-12T15:33:13.008655",
     "exception": false,
     "start_time": "2025-07-12T14:59:46.528370",
     "status": "completed"
    },
    "tags": []
   },
   "outputs": [
    {
     "name": "stdout",
     "output_type": "stream",
     "text": [
      "Memory cleared before creating InceptionResNetV2+LSTM model\n",
      "TensorFlow version: 2.18.0\n",
      "Pre-loading InceptionResNetV2 weights...\n",
      "Downloading data from https://storage.googleapis.com/tensorflow/keras-applications/inception_resnet_v2/inception_resnet_v2_weights_tf_dim_ordering_tf_kernels_notop.h5\n",
      "\u001b[1m219055592/219055592\u001b[0m \u001b[32m━━━━━━━━━━━━━━━━━━━━\u001b[0m\u001b[37m\u001b[0m \u001b[1m1s\u001b[0m 0us/step\n",
      "InceptionResNetV2 weights loaded successfully!\n",
      "Creating InceptionResNetV2+LSTM model with parameters:\n",
      "sequence_length: 5, image_height: 128, image_width: 128, classes_list length: 16, dropout_rate: 0.5\n"
     ]
    },
    {
     "name": "stderr",
     "output_type": "stream",
     "text": [
      "/usr/local/lib/python3.11/dist-packages/keras/src/layers/core/wrapper.py:27: UserWarning: Do not pass an `input_shape`/`input_dim` argument to a layer. When using Sequential models, prefer using an `Input(shape)` object as the first layer in the model instead.\n",
      "  super().__init__(**kwargs)\n"
     ]
    },
    {
     "name": "stdout",
     "output_type": "stream",
     "text": [
      "InceptionResNetV2+LSTM model architecture created successfully!\n"
     ]
    },
    {
     "data": {
      "text/html": [
       "<pre style=\"white-space:pre;overflow-x:auto;line-height:normal;font-family:Menlo,'DejaVu Sans Mono',consolas,'Courier New',monospace\"><span style=\"font-weight: bold\">Model: \"sequential\"</span>\n",
       "</pre>\n"
      ],
      "text/plain": [
       "\u001b[1mModel: \"sequential\"\u001b[0m\n"
      ]
     },
     "metadata": {},
     "output_type": "display_data"
    },
    {
     "data": {
      "text/html": [
       "<pre style=\"white-space:pre;overflow-x:auto;line-height:normal;font-family:Menlo,'DejaVu Sans Mono',consolas,'Courier New',monospace\">┏━━━━━━━━━━━━━━━━━━━━━━━━━━━━━━━━━┳━━━━━━━━━━━━━━━━━━━━━━━━┳━━━━━━━━━━━━━━━┓\n",
       "┃<span style=\"font-weight: bold\"> Layer (type)                    </span>┃<span style=\"font-weight: bold\"> Output Shape           </span>┃<span style=\"font-weight: bold\">       Param # </span>┃\n",
       "┡━━━━━━━━━━━━━━━━━━━━━━━━━━━━━━━━━╇━━━━━━━━━━━━━━━━━━━━━━━━╇━━━━━━━━━━━━━━━┩\n",
       "│ time_distributed_InceptionResN… │ (<span style=\"color: #00d7ff; text-decoration-color: #00d7ff\">None</span>, <span style=\"color: #00af00; text-decoration-color: #00af00\">5</span>, <span style=\"color: #00af00; text-decoration-color: #00af00\">2</span>, <span style=\"color: #00af00; text-decoration-color: #00af00\">2</span>, <span style=\"color: #00af00; text-decoration-color: #00af00\">1536</span>)  │    <span style=\"color: #00af00; text-decoration-color: #00af00\">54,336,736</span> │\n",
       "│ (<span style=\"color: #0087ff; text-decoration-color: #0087ff\">TimeDistributed</span>)               │                        │               │\n",
       "├─────────────────────────────────┼────────────────────────┼───────────────┤\n",
       "│ time_distributed_pooling        │ (<span style=\"color: #00d7ff; text-decoration-color: #00d7ff\">None</span>, <span style=\"color: #00af00; text-decoration-color: #00af00\">5</span>, <span style=\"color: #00af00; text-decoration-color: #00af00\">1536</span>)        │             <span style=\"color: #00af00; text-decoration-color: #00af00\">0</span> │\n",
       "│ (<span style=\"color: #0087ff; text-decoration-color: #0087ff\">TimeDistributed</span>)               │                        │               │\n",
       "├─────────────────────────────────┼────────────────────────┼───────────────┤\n",
       "│ gru_256 (<span style=\"color: #0087ff; text-decoration-color: #0087ff\">GRU</span>)                   │ (<span style=\"color: #00d7ff; text-decoration-color: #00d7ff\">None</span>, <span style=\"color: #00af00; text-decoration-color: #00af00\">256</span>)            │     <span style=\"color: #00af00; text-decoration-color: #00af00\">1,377,792</span> │\n",
       "├─────────────────────────────────┼────────────────────────┼───────────────┤\n",
       "│ batch_normalization_InceptionR… │ (<span style=\"color: #00d7ff; text-decoration-color: #00d7ff\">None</span>, <span style=\"color: #00af00; text-decoration-color: #00af00\">256</span>)            │         <span style=\"color: #00af00; text-decoration-color: #00af00\">1,024</span> │\n",
       "│ (<span style=\"color: #0087ff; text-decoration-color: #0087ff\">BatchNormalization</span>)            │                        │               │\n",
       "├─────────────────────────────────┼────────────────────────┼───────────────┤\n",
       "│ dropout_lstm_InceptionResNetV2  │ (<span style=\"color: #00d7ff; text-decoration-color: #00d7ff\">None</span>, <span style=\"color: #00af00; text-decoration-color: #00af00\">256</span>)            │             <span style=\"color: #00af00; text-decoration-color: #00af00\">0</span> │\n",
       "│ (<span style=\"color: #0087ff; text-decoration-color: #0087ff\">Dropout</span>)                       │                        │               │\n",
       "├─────────────────────────────────┼────────────────────────┼───────────────┤\n",
       "│ dense_InceptionResNetV2_1       │ (<span style=\"color: #00d7ff; text-decoration-color: #00d7ff\">None</span>, <span style=\"color: #00af00; text-decoration-color: #00af00\">512</span>)            │       <span style=\"color: #00af00; text-decoration-color: #00af00\">131,584</span> │\n",
       "│ (<span style=\"color: #0087ff; text-decoration-color: #0087ff\">Dense</span>)                         │                        │               │\n",
       "├─────────────────────────────────┼────────────────────────┼───────────────┤\n",
       "│ dropout_dense_InceptionResNetV… │ (<span style=\"color: #00d7ff; text-decoration-color: #00d7ff\">None</span>, <span style=\"color: #00af00; text-decoration-color: #00af00\">512</span>)            │             <span style=\"color: #00af00; text-decoration-color: #00af00\">0</span> │\n",
       "│ (<span style=\"color: #0087ff; text-decoration-color: #0087ff\">Dropout</span>)                       │                        │               │\n",
       "├─────────────────────────────────┼────────────────────────┼───────────────┤\n",
       "│ dense_InceptionResNetV2_2       │ (<span style=\"color: #00d7ff; text-decoration-color: #00d7ff\">None</span>, <span style=\"color: #00af00; text-decoration-color: #00af00\">128</span>)            │        <span style=\"color: #00af00; text-decoration-color: #00af00\">65,664</span> │\n",
       "│ (<span style=\"color: #0087ff; text-decoration-color: #0087ff\">Dense</span>)                         │                        │               │\n",
       "├─────────────────────────────────┼────────────────────────┼───────────────┤\n",
       "│ dropout_dense_InceptionResNetV… │ (<span style=\"color: #00d7ff; text-decoration-color: #00d7ff\">None</span>, <span style=\"color: #00af00; text-decoration-color: #00af00\">128</span>)            │             <span style=\"color: #00af00; text-decoration-color: #00af00\">0</span> │\n",
       "│ (<span style=\"color: #0087ff; text-decoration-color: #0087ff\">Dropout</span>)                       │                        │               │\n",
       "├─────────────────────────────────┼────────────────────────┼───────────────┤\n",
       "│ output_InceptionResNetV2        │ (<span style=\"color: #00d7ff; text-decoration-color: #00d7ff\">None</span>, <span style=\"color: #00af00; text-decoration-color: #00af00\">16</span>)             │         <span style=\"color: #00af00; text-decoration-color: #00af00\">2,064</span> │\n",
       "│ (<span style=\"color: #0087ff; text-decoration-color: #0087ff\">Dense</span>)                         │                        │               │\n",
       "└─────────────────────────────────┴────────────────────────┴───────────────┘\n",
       "</pre>\n"
      ],
      "text/plain": [
       "┏━━━━━━━━━━━━━━━━━━━━━━━━━━━━━━━━━┳━━━━━━━━━━━━━━━━━━━━━━━━┳━━━━━━━━━━━━━━━┓\n",
       "┃\u001b[1m \u001b[0m\u001b[1mLayer (type)                   \u001b[0m\u001b[1m \u001b[0m┃\u001b[1m \u001b[0m\u001b[1mOutput Shape          \u001b[0m\u001b[1m \u001b[0m┃\u001b[1m \u001b[0m\u001b[1m      Param #\u001b[0m\u001b[1m \u001b[0m┃\n",
       "┡━━━━━━━━━━━━━━━━━━━━━━━━━━━━━━━━━╇━━━━━━━━━━━━━━━━━━━━━━━━╇━━━━━━━━━━━━━━━┩\n",
       "│ time_distributed_InceptionResN… │ (\u001b[38;5;45mNone\u001b[0m, \u001b[38;5;34m5\u001b[0m, \u001b[38;5;34m2\u001b[0m, \u001b[38;5;34m2\u001b[0m, \u001b[38;5;34m1536\u001b[0m)  │    \u001b[38;5;34m54,336,736\u001b[0m │\n",
       "│ (\u001b[38;5;33mTimeDistributed\u001b[0m)               │                        │               │\n",
       "├─────────────────────────────────┼────────────────────────┼───────────────┤\n",
       "│ time_distributed_pooling        │ (\u001b[38;5;45mNone\u001b[0m, \u001b[38;5;34m5\u001b[0m, \u001b[38;5;34m1536\u001b[0m)        │             \u001b[38;5;34m0\u001b[0m │\n",
       "│ (\u001b[38;5;33mTimeDistributed\u001b[0m)               │                        │               │\n",
       "├─────────────────────────────────┼────────────────────────┼───────────────┤\n",
       "│ gru_256 (\u001b[38;5;33mGRU\u001b[0m)                   │ (\u001b[38;5;45mNone\u001b[0m, \u001b[38;5;34m256\u001b[0m)            │     \u001b[38;5;34m1,377,792\u001b[0m │\n",
       "├─────────────────────────────────┼────────────────────────┼───────────────┤\n",
       "│ batch_normalization_InceptionR… │ (\u001b[38;5;45mNone\u001b[0m, \u001b[38;5;34m256\u001b[0m)            │         \u001b[38;5;34m1,024\u001b[0m │\n",
       "│ (\u001b[38;5;33mBatchNormalization\u001b[0m)            │                        │               │\n",
       "├─────────────────────────────────┼────────────────────────┼───────────────┤\n",
       "│ dropout_lstm_InceptionResNetV2  │ (\u001b[38;5;45mNone\u001b[0m, \u001b[38;5;34m256\u001b[0m)            │             \u001b[38;5;34m0\u001b[0m │\n",
       "│ (\u001b[38;5;33mDropout\u001b[0m)                       │                        │               │\n",
       "├─────────────────────────────────┼────────────────────────┼───────────────┤\n",
       "│ dense_InceptionResNetV2_1       │ (\u001b[38;5;45mNone\u001b[0m, \u001b[38;5;34m512\u001b[0m)            │       \u001b[38;5;34m131,584\u001b[0m │\n",
       "│ (\u001b[38;5;33mDense\u001b[0m)                         │                        │               │\n",
       "├─────────────────────────────────┼────────────────────────┼───────────────┤\n",
       "│ dropout_dense_InceptionResNetV… │ (\u001b[38;5;45mNone\u001b[0m, \u001b[38;5;34m512\u001b[0m)            │             \u001b[38;5;34m0\u001b[0m │\n",
       "│ (\u001b[38;5;33mDropout\u001b[0m)                       │                        │               │\n",
       "├─────────────────────────────────┼────────────────────────┼───────────────┤\n",
       "│ dense_InceptionResNetV2_2       │ (\u001b[38;5;45mNone\u001b[0m, \u001b[38;5;34m128\u001b[0m)            │        \u001b[38;5;34m65,664\u001b[0m │\n",
       "│ (\u001b[38;5;33mDense\u001b[0m)                         │                        │               │\n",
       "├─────────────────────────────────┼────────────────────────┼───────────────┤\n",
       "│ dropout_dense_InceptionResNetV… │ (\u001b[38;5;45mNone\u001b[0m, \u001b[38;5;34m128\u001b[0m)            │             \u001b[38;5;34m0\u001b[0m │\n",
       "│ (\u001b[38;5;33mDropout\u001b[0m)                       │                        │               │\n",
       "├─────────────────────────────────┼────────────────────────┼───────────────┤\n",
       "│ output_InceptionResNetV2        │ (\u001b[38;5;45mNone\u001b[0m, \u001b[38;5;34m16\u001b[0m)             │         \u001b[38;5;34m2,064\u001b[0m │\n",
       "│ (\u001b[38;5;33mDense\u001b[0m)                         │                        │               │\n",
       "└─────────────────────────────────┴────────────────────────┴───────────────┘\n"
      ]
     },
     "metadata": {},
     "output_type": "display_data"
    },
    {
     "data": {
      "text/html": [
       "<pre style=\"white-space:pre;overflow-x:auto;line-height:normal;font-family:Menlo,'DejaVu Sans Mono',consolas,'Courier New',monospace\"><span style=\"font-weight: bold\"> Total params: </span><span style=\"color: #00af00; text-decoration-color: #00af00\">55,914,864</span> (213.30 MB)\n",
       "</pre>\n"
      ],
      "text/plain": [
       "\u001b[1m Total params: \u001b[0m\u001b[38;5;34m55,914,864\u001b[0m (213.30 MB)\n"
      ]
     },
     "metadata": {},
     "output_type": "display_data"
    },
    {
     "data": {
      "text/html": [
       "<pre style=\"white-space:pre;overflow-x:auto;line-height:normal;font-family:Menlo,'DejaVu Sans Mono',consolas,'Courier New',monospace\"><span style=\"font-weight: bold\"> Trainable params: </span><span style=\"color: #00af00; text-decoration-color: #00af00\">1,577,616</span> (6.02 MB)\n",
       "</pre>\n"
      ],
      "text/plain": [
       "\u001b[1m Trainable params: \u001b[0m\u001b[38;5;34m1,577,616\u001b[0m (6.02 MB)\n"
      ]
     },
     "metadata": {},
     "output_type": "display_data"
    },
    {
     "data": {
      "text/html": [
       "<pre style=\"white-space:pre;overflow-x:auto;line-height:normal;font-family:Menlo,'DejaVu Sans Mono',consolas,'Courier New',monospace\"><span style=\"font-weight: bold\"> Non-trainable params: </span><span style=\"color: #00af00; text-decoration-color: #00af00\">54,337,248</span> (207.28 MB)\n",
       "</pre>\n"
      ],
      "text/plain": [
       "\u001b[1m Non-trainable params: \u001b[0m\u001b[38;5;34m54,337,248\u001b[0m (207.28 MB)\n"
      ]
     },
     "metadata": {},
     "output_type": "display_data"
    },
    {
     "name": "stdout",
     "output_type": "stream",
     "text": [
      "InceptionResNetV2+LSTM Model Created Successfully!\n",
      "Xception_InceptionResNetV2_LSTM Model Plot saved successfully...\n",
      "train_gen.videos shape: (4096, 5, 128, 128, 3)\n",
      "train_gen.labels shape: (4096, 16)\n",
      "val_gen.videos shape: (1024, 5, 128, 128, 3)\n",
      "val_gen.labels shape: (1024, 16)\n",
      "features_test shape: (1280, 5, 128, 128, 3)\n",
      "labels_test shape: (1280, 16)\n",
      "train_gen batch videos shape: (24, 5, 128, 128, 3)\n",
      "train_gen batch labels shape: (24, 16)\n",
      "val_gen batch videos shape: (24, 5, 128, 128, 3)\n",
      "val_gen batch labels shape: (24, 16)\n",
      "Dataset - Precis Har Rgb\n",
      "There are total 16 classes, selected 16 classes\n",
      "Setting None videos/class to train the model.\n",
      "Image size 128x128 with 5 sequence length\n",
      "Dropout rate: 0.5\n",
      "Train-Test split ratio 80/20\n",
      "Validation data from Train set 20.0%\n",
      "\n",
      "\n",
      "Initial training started for InceptionResNetV2+LSTM model with 4096 videos of 16 classes with 1024 videos for validation...\n",
      "Epoch 1/30\n"
     ]
    },
    {
     "name": "stderr",
     "output_type": "stream",
     "text": [
      "I0000 00:00:1752332516.488454    6468 cuda_dnn.cc:529] Loaded cuDNN version 90300\n"
     ]
    },
    {
     "name": "stdout",
     "output_type": "stream",
     "text": [
      "    171/Unknown \u001b[1m173s\u001b[0m 290ms/step - accuracy: 0.1819 - loss: 14.6848"
     ]
    },
    {
     "name": "stderr",
     "output_type": "stream",
     "text": [
      "/usr/local/lib/python3.11/dist-packages/keras/src/trainers/epoch_iterator.py:151: UserWarning: Your input ran out of data; interrupting training. Make sure that your dataset or generator can generate at least `steps_per_epoch * epochs` batches. You may need to use the `.repeat()` function when building your dataset.\n",
      "  self._interrupted_warning()\n"
     ]
    },
    {
     "name": "stdout",
     "output_type": "stream",
     "text": [
      "\u001b[1m171/171\u001b[0m \u001b[32m━━━━━━━━━━━━━━━━━━━━\u001b[0m\u001b[37m\u001b[0m \u001b[1m227s\u001b[0m 608ms/step - accuracy: 0.1823 - loss: 14.6684 - val_accuracy: 0.4844 - val_loss: 7.9933 - learning_rate: 0.0010\n",
      "Epoch 2/30\n",
      "\u001b[1m171/171\u001b[0m \u001b[32m━━━━━━━━━━━━━━━━━━━━\u001b[0m\u001b[37m\u001b[0m \u001b[1m62s\u001b[0m 362ms/step - accuracy: 0.4092 - loss: 7.1104 - val_accuracy: 0.4980 - val_loss: 4.7576 - learning_rate: 0.0010\n",
      "Epoch 3/30\n",
      "\u001b[1m171/171\u001b[0m \u001b[32m━━━━━━━━━━━━━━━━━━━━\u001b[0m\u001b[37m\u001b[0m \u001b[1m61s\u001b[0m 357ms/step - accuracy: 0.4930 - loss: 4.4224 - val_accuracy: 0.5293 - val_loss: 3.2263 - learning_rate: 0.0010\n",
      "Epoch 4/30\n",
      "\u001b[1m171/171\u001b[0m \u001b[32m━━━━━━━━━━━━━━━━━━━━\u001b[0m\u001b[37m\u001b[0m \u001b[1m61s\u001b[0m 358ms/step - accuracy: 0.5116 - loss: 3.1212 - val_accuracy: 0.6045 - val_loss: 2.3496 - learning_rate: 0.0010\n",
      "Epoch 5/30\n",
      "\u001b[1m171/171\u001b[0m \u001b[32m━━━━━━━━━━━━━━━━━━━━\u001b[0m\u001b[37m\u001b[0m \u001b[1m61s\u001b[0m 355ms/step - accuracy: 0.5454 - loss: 2.4211 - val_accuracy: 0.4932 - val_loss: 2.4001 - learning_rate: 0.0010\n",
      "Epoch 6/30\n",
      "\u001b[1m171/171\u001b[0m \u001b[32m━━━━━━━━━━━━━━━━━━━━\u001b[0m\u001b[37m\u001b[0m \u001b[1m61s\u001b[0m 357ms/step - accuracy: 0.5607 - loss: 2.2202 - val_accuracy: 0.6104 - val_loss: 1.9005 - learning_rate: 0.0010\n",
      "Epoch 7/30\n",
      "\u001b[1m171/171\u001b[0m \u001b[32m━━━━━━━━━━━━━━━━━━━━\u001b[0m\u001b[37m\u001b[0m \u001b[1m61s\u001b[0m 357ms/step - accuracy: 0.5636 - loss: 2.0718 - val_accuracy: 0.5635 - val_loss: 1.9602 - learning_rate: 0.0010\n",
      "Epoch 8/30\n",
      "\u001b[1m171/171\u001b[0m \u001b[32m━━━━━━━━━━━━━━━━━━━━\u001b[0m\u001b[37m\u001b[0m \u001b[1m61s\u001b[0m 355ms/step - accuracy: 0.5526 - loss: 2.0417 - val_accuracy: 0.5928 - val_loss: 1.9404 - learning_rate: 0.0010\n",
      "Epoch 9/30\n",
      "\u001b[1m171/171\u001b[0m \u001b[32m━━━━━━━━━━━━━━━━━━━━\u001b[0m\u001b[37m\u001b[0m \u001b[1m61s\u001b[0m 355ms/step - accuracy: 0.5559 - loss: 1.9800 - val_accuracy: 0.5078 - val_loss: 2.3333 - learning_rate: 0.0010\n",
      "Epoch 10/30\n",
      "\u001b[1m171/171\u001b[0m \u001b[32m━━━━━━━━━━━━━━━━━━━━\u001b[0m\u001b[37m\u001b[0m \u001b[1m61s\u001b[0m 358ms/step - accuracy: 0.6114 - loss: 1.8322 - val_accuracy: 0.6221 - val_loss: 1.5855 - learning_rate: 5.0000e-04\n",
      "Epoch 11/30\n",
      "\u001b[1m171/171\u001b[0m \u001b[32m━━━━━━━━━━━━━━━━━━━━\u001b[0m\u001b[37m\u001b[0m \u001b[1m61s\u001b[0m 357ms/step - accuracy: 0.6279 - loss: 1.6084 - val_accuracy: 0.6338 - val_loss: 1.4863 - learning_rate: 5.0000e-04\n",
      "Epoch 12/30\n",
      "\u001b[1m171/171\u001b[0m \u001b[32m━━━━━━━━━━━━━━━━━━━━\u001b[0m\u001b[37m\u001b[0m \u001b[1m61s\u001b[0m 358ms/step - accuracy: 0.6315 - loss: 1.5095 - val_accuracy: 0.6533 - val_loss: 1.4358 - learning_rate: 5.0000e-04\n",
      "Epoch 13/30\n",
      "\u001b[1m171/171\u001b[0m \u001b[32m━━━━━━━━━━━━━━━━━━━━\u001b[0m\u001b[37m\u001b[0m \u001b[1m61s\u001b[0m 358ms/step - accuracy: 0.6484 - loss: 1.4196 - val_accuracy: 0.6797 - val_loss: 1.3059 - learning_rate: 5.0000e-04\n",
      "Epoch 14/30\n",
      "\u001b[1m171/171\u001b[0m \u001b[32m━━━━━━━━━━━━━━━━━━━━\u001b[0m\u001b[37m\u001b[0m \u001b[1m61s\u001b[0m 356ms/step - accuracy: 0.6697 - loss: 1.3898 - val_accuracy: 0.6436 - val_loss: 1.4165 - learning_rate: 5.0000e-04\n",
      "Epoch 15/30\n",
      "\u001b[1m171/171\u001b[0m \u001b[32m━━━━━━━━━━━━━━━━━━━━\u001b[0m\u001b[37m\u001b[0m \u001b[1m61s\u001b[0m 356ms/step - accuracy: 0.6613 - loss: 1.3996 - val_accuracy: 0.6562 - val_loss: 1.3949 - learning_rate: 5.0000e-04\n",
      "Epoch 16/30\n",
      "\u001b[1m171/171\u001b[0m \u001b[32m━━━━━━━━━━━━━━━━━━━━\u001b[0m\u001b[37m\u001b[0m \u001b[1m61s\u001b[0m 357ms/step - accuracy: 0.6774 - loss: 1.3837 - val_accuracy: 0.6826 - val_loss: 1.3030 - learning_rate: 5.0000e-04\n",
      "Epoch 17/30\n",
      "\u001b[1m171/171\u001b[0m \u001b[32m━━━━━━━━━━━━━━━━━━━━\u001b[0m\u001b[37m\u001b[0m \u001b[1m61s\u001b[0m 355ms/step - accuracy: 0.6784 - loss: 1.3267 - val_accuracy: 0.6895 - val_loss: 1.3184 - learning_rate: 5.0000e-04\n",
      "Epoch 18/30\n",
      "\u001b[1m171/171\u001b[0m \u001b[32m━━━━━━━━━━━━━━━━━━━━\u001b[0m\u001b[37m\u001b[0m \u001b[1m61s\u001b[0m 356ms/step - accuracy: 0.7088 - loss: 1.3137 - val_accuracy: 0.6348 - val_loss: 1.5099 - learning_rate: 5.0000e-04\n",
      "Epoch 19/30\n",
      "\u001b[1m171/171\u001b[0m \u001b[32m━━━━━━━━━━━━━━━━━━━━\u001b[0m\u001b[37m\u001b[0m \u001b[1m61s\u001b[0m 356ms/step - accuracy: 0.6699 - loss: 1.3256 - val_accuracy: 0.6748 - val_loss: 1.3417 - learning_rate: 5.0000e-04\n",
      "Epoch 20/30\n",
      "\u001b[1m171/171\u001b[0m \u001b[32m━━━━━━━━━━━━━━━━━━━━\u001b[0m\u001b[37m\u001b[0m \u001b[1m61s\u001b[0m 357ms/step - accuracy: 0.7157 - loss: 1.2275 - val_accuracy: 0.7295 - val_loss: 1.1238 - learning_rate: 2.5000e-04\n",
      "Epoch 21/30\n",
      "\u001b[1m171/171\u001b[0m \u001b[32m━━━━━━━━━━━━━━━━━━━━\u001b[0m\u001b[37m\u001b[0m \u001b[1m61s\u001b[0m 357ms/step - accuracy: 0.7269 - loss: 1.1100 - val_accuracy: 0.7148 - val_loss: 1.1156 - learning_rate: 2.5000e-04\n",
      "Epoch 22/30\n",
      "\u001b[1m171/171\u001b[0m \u001b[32m━━━━━━━━━━━━━━━━━━━━\u001b[0m\u001b[37m\u001b[0m \u001b[1m61s\u001b[0m 357ms/step - accuracy: 0.7513 - loss: 1.0187 - val_accuracy: 0.7363 - val_loss: 1.0864 - learning_rate: 2.5000e-04\n",
      "Epoch 23/30\n",
      "\u001b[1m171/171\u001b[0m \u001b[32m━━━━━━━━━━━━━━━━━━━━\u001b[0m\u001b[37m\u001b[0m \u001b[1m61s\u001b[0m 357ms/step - accuracy: 0.7420 - loss: 1.0162 - val_accuracy: 0.7305 - val_loss: 1.0395 - learning_rate: 2.5000e-04\n",
      "Epoch 24/30\n",
      "\u001b[1m171/171\u001b[0m \u001b[32m━━━━━━━━━━━━━━━━━━━━\u001b[0m\u001b[37m\u001b[0m \u001b[1m61s\u001b[0m 357ms/step - accuracy: 0.7542 - loss: 0.9915 - val_accuracy: 0.7217 - val_loss: 1.0593 - learning_rate: 2.5000e-04\n",
      "Epoch 25/30\n",
      "\u001b[1m171/171\u001b[0m \u001b[32m━━━━━━━━━━━━━━━━━━━━\u001b[0m\u001b[37m\u001b[0m \u001b[1m61s\u001b[0m 358ms/step - accuracy: 0.7724 - loss: 0.9345 - val_accuracy: 0.7324 - val_loss: 1.0335 - learning_rate: 2.5000e-04\n",
      "Epoch 26/30\n",
      "\u001b[1m171/171\u001b[0m \u001b[32m━━━━━━━━━━━━━━━━━━━━\u001b[0m\u001b[37m\u001b[0m \u001b[1m61s\u001b[0m 358ms/step - accuracy: 0.7686 - loss: 0.9448 - val_accuracy: 0.7256 - val_loss: 1.0321 - learning_rate: 2.5000e-04\n",
      "Epoch 27/30\n",
      "\u001b[1m171/171\u001b[0m \u001b[32m━━━━━━━━━━━━━━━━━━━━\u001b[0m\u001b[37m\u001b[0m \u001b[1m61s\u001b[0m 355ms/step - accuracy: 0.7903 - loss: 0.9087 - val_accuracy: 0.7305 - val_loss: 1.0351 - learning_rate: 2.5000e-04\n",
      "Epoch 28/30\n",
      "\u001b[1m171/171\u001b[0m \u001b[32m━━━━━━━━━━━━━━━━━━━━\u001b[0m\u001b[37m\u001b[0m \u001b[1m61s\u001b[0m 358ms/step - accuracy: 0.7838 - loss: 0.8857 - val_accuracy: 0.7305 - val_loss: 1.0298 - learning_rate: 2.5000e-04\n",
      "Epoch 29/30\n",
      "\u001b[1m171/171\u001b[0m \u001b[32m━━━━━━━━━━━━━━━━━━━━\u001b[0m\u001b[37m\u001b[0m \u001b[1m61s\u001b[0m 356ms/step - accuracy: 0.7838 - loss: 0.8907 - val_accuracy: 0.7354 - val_loss: 1.0439 - learning_rate: 2.5000e-04\n",
      "Epoch 30/30\n",
      "\u001b[1m171/171\u001b[0m \u001b[32m━━━━━━━━━━━━━━━━━━━━\u001b[0m\u001b[37m\u001b[0m \u001b[1m61s\u001b[0m 355ms/step - accuracy: 0.7799 - loss: 0.8600 - val_accuracy: 0.7305 - val_loss: 1.0561 - learning_rate: 2.5000e-04\n"
     ]
    }
   ],
   "source": [
    "# Import necessary libraries\n",
    "from tensorflow.keras.applications import InceptionResNetV2\n",
    "from tensorflow.keras.models import Sequential\n",
    "from tensorflow.keras.layers import TimeDistributed, GlobalAveragePooling2D, LSTM, Dropout, Dense, BatchNormalization, GRU\n",
    "from tensorflow.keras.regularizers import l2\n",
    "from tensorflow.keras.callbacks import EarlyStopping, ReduceLROnPlateau\n",
    "from tensorflow.keras.utils import to_categorical\n",
    "import tensorflow as tf\n",
    "import numpy as np\n",
    "import gc\n",
    "\n",
    "# Clear memory before creating the new model\n",
    "gc.collect()\n",
    "tf.keras.backend.clear_session()\n",
    "print(\"Memory cleared before creating InceptionResNetV2+LSTM model\")\n",
    "\n",
    "# Print TensorFlow version\n",
    "print(f\"TensorFlow version: {tf.__version__}\")\n",
    "\n",
    "# Pre-load InceptionResNetV2 weights\n",
    "print(\"Pre-loading InceptionResNetV2 weights...\")\n",
    "try:\n",
    "    base_model = InceptionResNetV2(weights='imagenet', include_top=False, input_shape=(IMAGE_HEIGHT, IMAGE_WIDTH, 3))\n",
    "    print(\"InceptionResNetV2 weights loaded successfully!\")\n",
    "except Exception as e:\n",
    "    print(f\"Failed to load InceptionResNetV2 weights: {str(e)}\")\n",
    "    print(\"Falling back to initializing InceptionResNetV2 without pre-trained weights...\")\n",
    "    base_model = InceptionResNetV2(weights=None, include_top=False, input_shape=(IMAGE_HEIGHT, IMAGE_WIDTH, 3))\n",
    "\n",
    "# Define function to create InceptionResNetV2+LSTM model\n",
    "def create_model(sequence_length, image_height, image_width, classes_list=None, dropout_rate=0.5, base_model=None):\n",
    "    print(\"Creating InceptionResNetV2+LSTM model with parameters:\")\n",
    "    print(f\"sequence_length: {sequence_length}, image_height: {image_height}, image_width: {image_width}, classes_list length: {len(classes_list) if classes_list is not None else None}, dropout_rate: {dropout_rate}\")\n",
    "    \n",
    "    if classes_list is None:\n",
    "        raise ValueError(\"classes_list must be provided to define the output layer size\")\n",
    "    if base_model is None:\n",
    "        raise ValueError(\"base_model must be provided to avoid re-downloading weights\")\n",
    "\n",
    "    try:\n",
    "        # Use the pre-loaded base model\n",
    "        # Freeze the base model for initial training\n",
    "        base_model.trainable = False\n",
    "\n",
    "        # Define the Sequential model\n",
    "        model = Sequential([\n",
    "            # TimeDistributed InceptionResNetV2 model\n",
    "            TimeDistributed(\n",
    "                base_model,\n",
    "                input_shape=(sequence_length, image_height, image_width, 3),\n",
    "                name=\"time_distributed_InceptionResNetV2\"\n",
    "            ),\n",
    "            # TimeDistributed GlobalAveragePooling2D\n",
    "            TimeDistributed(GlobalAveragePooling2D(), name=\"time_distributed_pooling\"),\n",
    "            # LSTM layer with 512 units\n",
    "            GRU(256, activation=\"tanh\", return_sequences=False, kernel_regularizer=l2(0.01), name=\"gru_256\"),\n",
    "            BatchNormalization(name=\"batch_normalization_InceptionResNetV2\"),\n",
    "            # Dropout after LSTM\n",
    "            Dropout(dropout_rate, name=\"dropout_lstm_InceptionResNetV2\"),\n",
    "            # Dense layer with 512 units\n",
    "            Dense(512, activation=\"relu\", kernel_regularizer=l2(0.01), name=\"dense_InceptionResNetV2_1\"),\n",
    "            # Dropout after first Dense\n",
    "            Dropout(dropout_rate, name=\"dropout_dense_InceptionResNetV2_1\"),\n",
    "            # Dense layer with 128 units\n",
    "            Dense(128, activation=\"relu\", kernel_regularizer=l2(0.01), name=\"dense_InceptionResNetV2_2\"),\n",
    "            # Dropout after second Dense\n",
    "            Dropout(dropout_rate, name=\"dropout_dense_InceptionResNetV2_2\"),\n",
    "            # Output Dense layer with softmax activation\n",
    "            Dense(len(classes_list), activation=\"softmax\", name=\"output_InceptionResNetV2\")\n",
    "        ])\n",
    "\n",
    "        # Print model summary\n",
    "        print(\"InceptionResNetV2+LSTM model architecture created successfully!\")\n",
    "        model.summary()\n",
    "\n",
    "        return model\n",
    "\n",
    "    except Exception as e:\n",
    "        print(f\"Error creating InceptionResNetV2+LSTM model: {str(e)}\")\n",
    "        import traceback\n",
    "        traceback.print_exc()\n",
    "        return None\n",
    "\n",
    "# Create the InceptionResNetV2+LSTM model using the pre-loaded base model\n",
    "model = create_model(\n",
    "    sequence_length=SEQUENCE_LENGTH,\n",
    "    image_height=IMAGE_HEIGHT,\n",
    "    image_width=IMAGE_WIDTH,\n",
    "    classes_list=CLASSES_LIST,\n",
    "    dropout_rate=DROPOUT_RATE,\n",
    "    base_model=base_model\n",
    ")\n",
    "\n",
    "# Check if model was created successfully\n",
    "if model is None:\n",
    "    raise ValueError(\"Failed to create InceptionResNetV2+LSTM model. Check error messages above.\")\n",
    "else:\n",
    "    print(\"InceptionResNetV2+LSTM Model Created Successfully!\")\n",
    "\n",
    "# Plot the model structure\n",
    "from tensorflow.keras.utils import plot_model\n",
    "try:\n",
    "    plot_model(model, to_file=f'{MODEL_NAME}_model_Plot.png', show_shapes=True, show_layer_names=True)\n",
    "    print(f\"{MODEL_NAME}_InceptionResNetV2_LSTM Model Plot saved successfully...\")\n",
    "except Exception as e:\n",
    "    print(f\"Failed to plot model: {str(e)}\")\n",
    "\n",
    "# Verify data shapes\n",
    "print(f\"train_gen.videos shape: {np.shape(train_gen.videos)}\")\n",
    "print(f\"train_gen.labels shape: {np.shape(train_gen.labels)}\")\n",
    "print(f\"val_gen.videos shape: {np.shape(val_gen.videos)}\")\n",
    "print(f\"val_gen.labels shape: {np.shape(val_gen.labels)}\")\n",
    "print(f\"features_test shape: {np.shape(features_test)}\")\n",
    "print(f\"labels_test shape: {np.shape(labels_test)}\")\n",
    "\n",
    "# Ensure labels_test is one-hot encoded\n",
    "if len(labels_test.shape) == 1:\n",
    "    print(\"Converting labels_test to one-hot encoded format...\")\n",
    "    labels_test = to_categorical(labels_test, num_classes=NO_OF_CLASSES)\n",
    "    print(f\"New labels_test shape: {labels_test.shape}\")\n",
    "\n",
    "# Verify generator batch shapes\n",
    "try:\n",
    "    videos, labels = train_gen[0]\n",
    "    print(f\"train_gen batch videos shape: {videos.shape}\")\n",
    "    print(f\"train_gen batch labels shape: {labels.shape}\")\n",
    "    videos, labels = val_gen[0]\n",
    "    print(f\"val_gen batch videos shape: {videos.shape}\")\n",
    "    print(f\"val_gen batch labels shape: {labels.shape}\")\n",
    "except Exception as e:\n",
    "    print(f\"Error accessing generator data: {str(e)}\")\n",
    "\n",
    "# Compile the model for initial training\n",
    "early_stopping_callback = EarlyStopping(monitor='val_loss', patience=7, mode='min', restore_best_weights=True)\n",
    "lr_scheduler = ReduceLROnPlateau(monitor='val_loss', factor=0.5, patience=3, min_lr=1e-6)\n",
    "\n",
    "model.compile(\n",
    "    loss='categorical_crossentropy',\n",
    "    optimizer=tf.keras.optimizers.Adam(learning_rate=0.001),  # Higher learning rate for initial training\n",
    "    metrics=['accuracy']\n",
    ")\n",
    "\n",
    "# Print dataset summary\n",
    "print(f\"Dataset - {DATASET_NAME}\")\n",
    "print(f\"There are total {len(ALL_CLASS_NAMES)} classes, selected {NO_OF_CLASSES} classes\")\n",
    "print(f\"Setting {MAX_VIDEO_PER_CLASS} videos/class to train the model.\")\n",
    "print(f\"Image size {IMAGE_HEIGHT}x{IMAGE_WIDTH} with {SEQUENCE_LENGTH} sequence length\")\n",
    "print(f\"Dropout rate: {DROPOUT_RATE}\")\n",
    "print(f\"Train-Test split ratio {int((1-TEST_SIZE)*100)}/{int(TEST_SIZE*100)}\")\n",
    "print(f\"Validation data from Train set {VALIDATION_SPLIT*100}%\")\n",
    "print(\"\\n\")\n",
    "\n",
    "# Initial training with frozen base model\n",
    "print(f\"Initial training started for InceptionResNetV2+LSTM model with {len(train_gen.videos)} videos of {NO_OF_CLASSES} classes with {len(val_gen.videos)} videos for validation...\")\n",
    "try:\n",
    "    initial_model_history = model.fit(\n",
    "        train_gen.as_dataset(),\n",
    "        validation_data=val_gen.as_dataset(),\n",
    "        epochs=EPOCHS,\n",
    "        class_weight=class_weights,\n",
    "        callbacks=[early_stopping_callback, lr_scheduler]\n",
    "    )\n",
    "except Exception as e:\n",
    "    print(f\"Error during initial model training: {str(e)}\")\n",
    "    import traceback\n",
    "    traceback.print_exc()\n"
   ]
  },
  {
   "cell_type": "code",
   "execution_count": 42,
   "id": "f1802164",
   "metadata": {
    "execution": {
     "iopub.execute_input": "2025-07-12T15:33:13.558831Z",
     "iopub.status.busy": "2025-07-12T15:33:13.558122Z",
     "iopub.status.idle": "2025-07-12T16:01:21.967634Z",
     "shell.execute_reply": "2025-07-12T16:01:21.967016Z"
    },
    "papermill": {
     "duration": 1688.660461,
     "end_time": "2025-07-12T16:01:21.968651",
     "exception": false,
     "start_time": "2025-07-12T15:33:13.308190",
     "status": "completed"
    },
    "tags": []
   },
   "outputs": [
    {
     "name": "stdout",
     "output_type": "stream",
     "text": [
      "\n",
      "Fine-tuning started for InceptionResNetV2+LSTM model with 4096 videos of 16 classes with 1024 videos for validation...\n",
      "Epoch 1/30\n",
      "\u001b[1m171/171\u001b[0m \u001b[32m━━━━━━━━━━━━━━━━━━━━\u001b[0m\u001b[37m\u001b[0m \u001b[1m228s\u001b[0m 617ms/step - accuracy: 0.7166 - loss: 1.0886 - val_accuracy: 0.7510 - val_loss: 0.9897 - learning_rate: 1.0000e-04\n",
      "Epoch 2/30\n",
      "\u001b[1m171/171\u001b[0m \u001b[32m━━━━━━━━━━━━━━━━━━━━\u001b[0m\u001b[37m\u001b[0m \u001b[1m63s\u001b[0m 371ms/step - accuracy: 0.8004 - loss: 0.8267 - val_accuracy: 0.7383 - val_loss: 1.0016 - learning_rate: 1.0000e-04\n",
      "Epoch 3/30\n",
      "\u001b[1m171/171\u001b[0m \u001b[32m━━━━━━━━━━━━━━━━━━━━\u001b[0m\u001b[37m\u001b[0m \u001b[1m63s\u001b[0m 367ms/step - accuracy: 0.8247 - loss: 0.7540 - val_accuracy: 0.7529 - val_loss: 0.9491 - learning_rate: 1.0000e-04\n",
      "Epoch 4/30\n",
      "\u001b[1m171/171\u001b[0m \u001b[32m━━━━━━━━━━━━━━━━━━━━\u001b[0m\u001b[37m\u001b[0m \u001b[1m63s\u001b[0m 367ms/step - accuracy: 0.8293 - loss: 0.7120 - val_accuracy: 0.7754 - val_loss: 0.8679 - learning_rate: 1.0000e-04\n",
      "Epoch 5/30\n",
      "\u001b[1m171/171\u001b[0m \u001b[32m━━━━━━━━━━━━━━━━━━━━\u001b[0m\u001b[37m\u001b[0m \u001b[1m63s\u001b[0m 366ms/step - accuracy: 0.8536 - loss: 0.6558 - val_accuracy: 0.7471 - val_loss: 0.9274 - learning_rate: 1.0000e-04\n",
      "Epoch 6/30\n",
      "\u001b[1m171/171\u001b[0m \u001b[32m━━━━━━━━━━━━━━━━━━━━\u001b[0m\u001b[37m\u001b[0m \u001b[1m62s\u001b[0m 364ms/step - accuracy: 0.8655 - loss: 0.6094 - val_accuracy: 0.7383 - val_loss: 0.9382 - learning_rate: 1.0000e-04\n",
      "Epoch 7/30\n",
      "\u001b[1m171/171\u001b[0m \u001b[32m━━━━━━━━━━━━━━━━━━━━\u001b[0m\u001b[37m\u001b[0m \u001b[1m63s\u001b[0m 366ms/step - accuracy: 0.8676 - loss: 0.5868 - val_accuracy: 0.7549 - val_loss: 0.9060 - learning_rate: 1.0000e-04\n",
      "Epoch 8/30\n",
      "\u001b[1m171/171\u001b[0m \u001b[32m━━━━━━━━━━━━━━━━━━━━\u001b[0m\u001b[37m\u001b[0m \u001b[1m63s\u001b[0m 368ms/step - accuracy: 0.8769 - loss: 0.5490 - val_accuracy: 0.7959 - val_loss: 0.7777 - learning_rate: 5.0000e-05\n",
      "Epoch 9/30\n",
      "\u001b[1m171/171\u001b[0m \u001b[32m━━━━━━━━━━━━━━━━━━━━\u001b[0m\u001b[37m\u001b[0m \u001b[1m62s\u001b[0m 366ms/step - accuracy: 0.9057 - loss: 0.5006 - val_accuracy: 0.7871 - val_loss: 0.7781 - learning_rate: 5.0000e-05\n",
      "Epoch 10/30\n",
      "\u001b[1m171/171\u001b[0m \u001b[32m━━━━━━━━━━━━━━━━━━━━\u001b[0m\u001b[37m\u001b[0m \u001b[1m63s\u001b[0m 367ms/step - accuracy: 0.8999 - loss: 0.4833 - val_accuracy: 0.7852 - val_loss: 0.7571 - learning_rate: 5.0000e-05\n",
      "Epoch 11/30\n",
      "\u001b[1m171/171\u001b[0m \u001b[32m━━━━━━━━━━━━━━━━━━━━\u001b[0m\u001b[37m\u001b[0m \u001b[1m63s\u001b[0m 370ms/step - accuracy: 0.9112 - loss: 0.4699 - val_accuracy: 0.7891 - val_loss: 0.7474 - learning_rate: 5.0000e-05\n",
      "Epoch 12/30\n",
      "\u001b[1m171/171\u001b[0m \u001b[32m━━━━━━━━━━━━━━━━━━━━\u001b[0m\u001b[37m\u001b[0m \u001b[1m62s\u001b[0m 365ms/step - accuracy: 0.9244 - loss: 0.4550 - val_accuracy: 0.7803 - val_loss: 0.8117 - learning_rate: 5.0000e-05\n",
      "Epoch 13/30\n",
      "\u001b[1m171/171\u001b[0m \u001b[32m━━━━━━━━━━━━━━━━━━━━\u001b[0m\u001b[37m\u001b[0m \u001b[1m63s\u001b[0m 366ms/step - accuracy: 0.9357 - loss: 0.4265 - val_accuracy: 0.7998 - val_loss: 0.7686 - learning_rate: 5.0000e-05\n",
      "Epoch 14/30\n",
      "\u001b[1m171/171\u001b[0m \u001b[32m━━━━━━━━━━━━━━━━━━━━\u001b[0m\u001b[37m\u001b[0m \u001b[1m63s\u001b[0m 368ms/step - accuracy: 0.9376 - loss: 0.4123 - val_accuracy: 0.7812 - val_loss: 0.8336 - learning_rate: 5.0000e-05\n",
      "Epoch 15/30\n",
      "\u001b[1m171/171\u001b[0m \u001b[32m━━━━━━━━━━━━━━━━━━━━\u001b[0m\u001b[37m\u001b[0m \u001b[1m63s\u001b[0m 369ms/step - accuracy: 0.9449 - loss: 0.4087 - val_accuracy: 0.8047 - val_loss: 0.7394 - learning_rate: 2.5000e-05\n",
      "Epoch 16/30\n",
      "\u001b[1m171/171\u001b[0m \u001b[32m━━━━━━━━━━━━━━━━━━━━\u001b[0m\u001b[37m\u001b[0m \u001b[1m63s\u001b[0m 369ms/step - accuracy: 0.9546 - loss: 0.3839 - val_accuracy: 0.7959 - val_loss: 0.7338 - learning_rate: 2.5000e-05\n",
      "Epoch 17/30\n",
      "\u001b[1m171/171\u001b[0m \u001b[32m━━━━━━━━━━━━━━━━━━━━\u001b[0m\u001b[37m\u001b[0m \u001b[1m63s\u001b[0m 370ms/step - accuracy: 0.9643 - loss: 0.3618 - val_accuracy: 0.7998 - val_loss: 0.7271 - learning_rate: 2.5000e-05\n",
      "Epoch 18/30\n",
      "\u001b[1m171/171\u001b[0m \u001b[32m━━━━━━━━━━━━━━━━━━━━\u001b[0m\u001b[37m\u001b[0m \u001b[1m63s\u001b[0m 370ms/step - accuracy: 0.9659 - loss: 0.3534 - val_accuracy: 0.7930 - val_loss: 0.7517 - learning_rate: 2.5000e-05\n",
      "Epoch 19/30\n",
      "\u001b[1m171/171\u001b[0m \u001b[32m━━━━━━━━━━━━━━━━━━━━\u001b[0m\u001b[37m\u001b[0m \u001b[1m63s\u001b[0m 368ms/step - accuracy: 0.9694 - loss: 0.3388 - val_accuracy: 0.8018 - val_loss: 0.7449 - learning_rate: 2.5000e-05\n",
      "Epoch 20/30\n",
      "\u001b[1m171/171\u001b[0m \u001b[32m━━━━━━━━━━━━━━━━━━━━\u001b[0m\u001b[37m\u001b[0m \u001b[1m63s\u001b[0m 367ms/step - accuracy: 0.9722 - loss: 0.3325 - val_accuracy: 0.7871 - val_loss: 0.7677 - learning_rate: 2.5000e-05\n",
      "Epoch 21/30\n",
      "\u001b[1m171/171\u001b[0m \u001b[32m━━━━━━━━━━━━━━━━━━━━\u001b[0m\u001b[37m\u001b[0m \u001b[1m63s\u001b[0m 368ms/step - accuracy: 0.9726 - loss: 0.3252 - val_accuracy: 0.7959 - val_loss: 0.7601 - learning_rate: 1.2500e-05\n",
      "Epoch 22/30\n",
      "\u001b[1m171/171\u001b[0m \u001b[32m━━━━━━━━━━━━━━━━━━━━\u001b[0m\u001b[37m\u001b[0m \u001b[1m62s\u001b[0m 365ms/step - accuracy: 0.9802 - loss: 0.3169 - val_accuracy: 0.8027 - val_loss: 0.7427 - learning_rate: 1.2500e-05\n",
      "Epoch 23/30\n",
      "\u001b[1m171/171\u001b[0m \u001b[32m━━━━━━━━━━━━━━━━━━━━\u001b[0m\u001b[37m\u001b[0m \u001b[1m62s\u001b[0m 365ms/step - accuracy: 0.9803 - loss: 0.3115 - val_accuracy: 0.7988 - val_loss: 0.7517 - learning_rate: 1.2500e-05\n",
      "Epoch 24/30\n",
      "\u001b[1m171/171\u001b[0m \u001b[32m━━━━━━━━━━━━━━━━━━━━\u001b[0m\u001b[37m\u001b[0m \u001b[1m62s\u001b[0m 364ms/step - accuracy: 0.9864 - loss: 0.3015 - val_accuracy: 0.8037 - val_loss: 0.7465 - learning_rate: 6.2500e-06\n",
      "\n",
      "Evaluating InceptionResNetV2+LSTM model on test set...\n",
      "Total 1280 videos and 1280 classes\n",
      "test_gen batch videos shape: (24, 5, 128, 128, 3)\n",
      "test_gen batch labels shape: (24, 16)\n",
      "\u001b[1m54/54\u001b[0m \u001b[32m━━━━━━━━━━━━━━━━━━━━\u001b[0m\u001b[37m\u001b[0m \u001b[1m16s\u001b[0m 288ms/step - accuracy: 0.7930 - loss: 0.7553\n",
      "InceptionResNetV2+LSTM Test Loss: 0.7410\n",
      "InceptionResNetV2+LSTM Test Accuracy: 79.61%\n"
     ]
    }
   ],
   "source": [
    "\n",
    "# Unfreeze some layers for fine-tuning\n",
    "base_model.trainable = True\n",
    "# Freeze all layers except the last 8 layers (consistent with previous InceptionResNetV2 code)\n",
    "for layer in base_model.layers[:-8]:\n",
    "    layer.trainable = False\n",
    "\n",
    "# Recompile the model with a lower learning rate for fine-tuning\n",
    "model.compile(\n",
    "    loss='categorical_crossentropy',\n",
    "    optimizer=tf.keras.optimizers.Adam(learning_rate=0.0001),  # Lower learning rate for fine-tuning\n",
    "    metrics=['accuracy']\n",
    ")\n",
    "\n",
    "# Fine-tune the model\n",
    "print(f\"\\nFine-tuning started for InceptionResNetV2+LSTM model with {len(train_gen.videos)} videos of {NO_OF_CLASSES} classes with {len(val_gen.videos)} videos for validation...\")\n",
    "try:\n",
    "    fine_tune_model_history = model.fit(\n",
    "        train_gen.as_dataset(),\n",
    "        validation_data=val_gen.as_dataset(),\n",
    "        epochs=EPOCHS,\n",
    "        class_weight=class_weights,\n",
    "        callbacks=[early_stopping_callback, lr_scheduler]\n",
    "    )\n",
    "except Exception as e:\n",
    "    print(f\"Error during fine-tuning: {str(e)}\")\n",
    "    import traceback\n",
    "    traceback.print_exc()\n",
    "\n",
    "# Evaluate the model on the test set\n",
    "print(\"\\nEvaluating InceptionResNetV2+LSTM model on test set...\")\n",
    "test_gen = VideoDataGenerator(\n",
    "    videos=features_test,\n",
    "    labels=labels_test,\n",
    "    batch_size=BATCH_SIZE\n",
    ")\n",
    "try:\n",
    "    videos, labels = test_gen[0]\n",
    "    print(f\"test_gen batch videos shape: {videos.shape}\")\n",
    "    print(f\"test_gen batch labels shape: {labels.shape}\")\n",
    "    loss, accuracy = model.evaluate(test_gen.as_dataset())\n",
    "    print(f'InceptionResNetV2+LSTM Test Loss: {loss:.4f}')\n",
    "    print(f'InceptionResNetV2+LSTM Test Accuracy: {accuracy * 100:.2f}%')\n",
    "except Exception as e:\n",
    "    print(f\"Error during model evaluation: {str(e)}\")\n",
    "    import traceback\n",
    "    traceback.print_exc()\n"
   ]
  },
  {
   "cell_type": "code",
   "execution_count": 43,
   "id": "e9231df0",
   "metadata": {
    "execution": {
     "iopub.execute_input": "2025-07-12T16:01:22.973145Z",
     "iopub.status.busy": "2025-07-12T16:01:22.972856Z",
     "iopub.status.idle": "2025-07-12T16:02:56.078541Z",
     "shell.execute_reply": "2025-07-12T16:02:56.077792Z"
    },
    "papermill": {
     "duration": 93.549311,
     "end_time": "2025-07-12T16:02:56.080335",
     "exception": false,
     "start_time": "2025-07-12T16:01:22.531024",
     "status": "completed"
    },
    "tags": []
   },
   "outputs": [
    {
     "data": {
      "image/png": "[encoded data removed]",
      "text/plain": [
       "<Figure size 1200x500 with 2 Axes>"
      ]
     },
     "metadata": {},
     "output_type": "display_data"
    },
    {
     "name": "stdout",
     "output_type": "stream",
     "text": [
      "\u001b[1m54/54\u001b[0m \u001b[32m━━━━━━━━━━━━━━━━━━━━\u001b[0m\u001b[37m\u001b[0m \u001b[1m91s\u001b[0m 1s/step\n",
      "True classes shape: (1280,)\n",
      "Predicted classes shape: (1280,)\n",
      "\n",
      "InceptionResNetV2+LSTM Classification Report:\n",
      "                                 precision    recall  f1-score   support\n",
      "\n",
      "                          write       0.49      0.60      0.54        82\n",
      "                      sit still       0.66      0.66      0.66        76\n",
      "                       sit down       1.00      0.99      0.99        84\n",
      "move hands in front of the body       0.77      0.95      0.85        80\n",
      "               raise one leg up       0.99      0.99      0.99        78\n",
      "            drink from a bottle       0.51      0.61      0.55        79\n",
      "                       stand up       0.99      1.00      0.99        83\n",
      "                           read       0.47      0.37      0.41        81\n",
      "                    throw paper       0.57      0.58      0.57        81\n",
      "                           walk       1.00      1.00      1.00        74\n",
      "               drink from a mug       0.60      0.37      0.46        90\n",
      "                  fall from bed       1.00      0.99      0.99        78\n",
      "                          faint       1.00      1.00      1.00        82\n",
      "              raise one hand up       0.97      0.99      0.98        69\n",
      "                       cheer up       0.86      0.86      0.86        77\n",
      "   move hands close to the body       0.90      0.88      0.89        86\n",
      "\n",
      "                       accuracy                           0.80      1280\n",
      "                      macro avg       0.80      0.80      0.80      1280\n",
      "                   weighted avg       0.80      0.80      0.79      1280\n",
      "\n"
     ]
    },
    {
     "name": "stderr",
     "output_type": "stream",
     "text": [
      "/usr/local/lib/python3.11/dist-packages/keras/src/trainers/epoch_iterator.py:151: UserWarning: Your input ran out of data; interrupting training. Make sure that your dataset or generator can generate at least `steps_per_epoch * epochs` batches. You may need to use the `.repeat()` function when building your dataset.\n",
      "  self._interrupted_warning()\n"
     ]
    },
    {
     "data": {
      "image/png": "[encoded data removed]",
      "text/plain": [
       "<Figure size 800x600 with 2 Axes>"
      ]
     },
     "metadata": {},
     "output_type": "display_data"
    }
   ],
   "source": [
    "\n",
    "# Plot training history (combine initial and fine-tuning)\n",
    "import matplotlib.pyplot as plt\n",
    "\n",
    "try:\n",
    "    # Combine histories\n",
    "    history_accuracy = initial_model_history.history['accuracy'] + fine_tune_model_history.history['accuracy']\n",
    "    history_val_accuracy = initial_model_history.history['val_accuracy'] + fine_tune_model_history.history['val_accuracy']\n",
    "    history_loss = initial_model_history.history['loss'] + fine_tune_model_history.history['loss']\n",
    "    history_val_loss = initial_model_history.history['val_loss'] + fine_tune_model_history.history['val_loss']\n",
    "\n",
    "    plt.figure(figsize=(12, 5))\n",
    "\n",
    "    # Accuracy\n",
    "    plt.subplot(1, 2, 1)\n",
    "    plt.plot(history_accuracy, label='Train Accuracy')\n",
    "    plt.plot(history_val_accuracy, label='Validation Accuracy')\n",
    "    plt.axvline(x=len(initial_model_history.history['accuracy']), color='r', linestyle='--', label='Start Fine-Tuning')\n",
    "    plt.title('InceptionResNetV2+LSTM Model Accuracy')\n",
    "    plt.xlabel('Epoch')\n",
    "    plt.ylabel('Accuracy')\n",
    "    plt.legend()\n",
    "\n",
    "    # Loss\n",
    "    plt.subplot(1, 2, 2)\n",
    "    plt.plot(history_loss, label='Train Loss')\n",
    "    plt.plot(history_val_loss, label='Validation Loss')\n",
    "    plt.axvline(x=len(initial_model_history.history['loss']), color='r', linestyle='--', label='Start Fine-Tuning')\n",
    "    plt.title('InceptionResNetV2+LSTM Model Loss')\n",
    "    plt.xlabel('Epoch')\n",
    "    plt.ylabel('Loss')\n",
    "    plt.legend()\n",
    "\n",
    "    plt.tight_layout()\n",
    "    plt.show()\n",
    "except Exception as e:\n",
    "    print(f\"Error plotting training history: {str(e)}\")\n",
    "\n",
    "# Generate confusion matrix and classification report\n",
    "from sklearn.metrics import classification_report, confusion_matrix\n",
    "import seaborn as sns\n",
    "\n",
    "# Get predictions\n",
    "try:\n",
    "    predictions = model.predict(test_gen.as_dataset())\n",
    "    predicted_classes = np.argmax(predictions, axis=1)\n",
    "    true_classes = np.argmax(labels_test, axis=1)\n",
    "\n",
    "    # Verify shapes\n",
    "    print(f\"True classes shape: {true_classes.shape}\")\n",
    "    print(f\"Predicted classes shape: {predicted_classes.shape}\")\n",
    "    assert len(true_classes) == len(predicted_classes), \"Sample counts do not match!\"\n",
    "\n",
    "    # Generate classification report\n",
    "    print(\"\\nInceptionResNetV2+LSTM Classification Report:\")\n",
    "    print(classification_report(true_classes, predicted_classes, target_names=CLASSES_LIST))\n",
    "\n",
    "    # Plot confusion matrix\n",
    "    cm = confusion_matrix(true_classes, predicted_classes)\n",
    "    plt.figure(figsize=(8, 6))\n",
    "    sns.heatmap(cm, annot=True, fmt='d', cmap='Blues', xticklabels=CLASSES_LIST, yticklabels=CLASSES_LIST)\n",
    "    plt.xlabel('Predicted')\n",
    "    plt.ylabel('True')\n",
    "    plt.title('InceptionResNetV2+LSTM Confusion Matrix')\n",
    "    plt.show()\n",
    "except Exception as e:\n",
    "    print(f\"Error during prediction or plotting: {str(e)}\")\n",
    "    import traceback\n",
    "    traceback.print_exc()"
   ]
  },
  {
   "cell_type": "code",
   "execution_count": 44,
   "id": "e1d6962c",
   "metadata": {
    "execution": {
     "iopub.execute_input": "2025-07-12T16:02:57.048236Z",
     "iopub.status.busy": "2025-07-12T16:02:57.047708Z",
     "iopub.status.idle": "2025-07-12T16:03:15.710365Z",
     "shell.execute_reply": "2025-07-12T16:03:15.709574Z"
    },
    "papermill": {
     "duration": 19.198985,
     "end_time": "2025-07-12T16:03:15.711681",
     "exception": false,
     "start_time": "2025-07-12T16:02:56.512696",
     "status": "completed"
    },
    "tags": []
   },
   "outputs": [
    {
     "name": "stdout",
     "output_type": "stream",
     "text": [
      "\u001b[1m40/40\u001b[0m \u001b[32m━━━━━━━━━━━━━━━━━━━━\u001b[0m\u001b[37m\u001b[0m \u001b[1m15s\u001b[0m 342ms/step - accuracy: 0.7930 - loss: 0.7542\n"
     ]
    }
   ],
   "source": [
    "# previous code\n",
    "model_evaluation_history = model.evaluate(features_test, labels_test)"
   ]
  }
 ],
 "metadata": {
  "kaggle": {
   "accelerator": "nvidiaTeslaT4",
   "dataSources": [
    {
     "datasetId": 1357563,
     "sourceId": 2256095,
     "sourceType": "datasetVersion"
    },
    {
     "datasetId": 7763484,
     "sourceId": 12338519,
     "sourceType": "datasetVersion"
    },
    {
     "datasetId": 7801555,
     "sourceId": 12373067,
     "sourceType": "datasetVersion"
    },
    {
     "datasetId": 7801884,
     "sourceId": 12373562,
     "sourceType": "datasetVersion"
    },
    {
     "datasetId": 7818195,
     "sourceId": 12397892,
     "sourceType": "datasetVersion"
    }
   ],
   "dockerImageVersionId": 31090,
   "isGpuEnabled": true,
   "isInternetEnabled": true,
   "language": "python",
   "sourceType": "notebook"
  },
  "kernelspec": {
   "display_name": "Python 3",
   "language": "python",
   "name": "python3"
  },
  "language_info": {
   "codemirror_mode": {
    "name": "ipython",
    "version": 3
   },
   "file_extension": ".py",
   "mimetype": "text/x-python",
   "name": "python",
   "nbconvert_exporter": "python",
   "pygments_lexer": "ipython3",
   "version": "3.11.13"
  },
  "papermill": {
   "default_parameters": {},
   "duration": 4630.392119,
   "end_time": "2025-07-12T16:03:19.708098",
   "environment_variables": {},
   "exception": null,
   "input_path": "__notebook__.ipynb",
   "output_path": "__notebook__.ipynb",
   "parameters": {},
   "start_time": "2025-07-12T14:46:09.315979",
   "version": "2.6.0"
  }
 },
 "nbformat": 4,
 "nbformat_minor": 5
}
