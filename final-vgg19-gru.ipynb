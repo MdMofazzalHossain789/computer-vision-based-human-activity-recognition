{
 "cells": [
  {
   "cell_type": "markdown",
   "id": "b42630ac",
   "metadata": {
    "papermill": {
     "duration": 0.011947,
     "end_time": "2025-07-12T14:25:24.913383",
     "exception": false,
     "start_time": "2025-07-12T14:25:24.901436",
     "status": "completed"
    },
    "tags": []
   },
   "source": [
    "# Initialization\n",
    "## Import Libraries"
   ]
  },
  {
   "cell_type": "code",
   "execution_count": 1,
   "id": "6516ad3a",
   "metadata": {
    "_cell_guid": "b1076dfc-b9ad-4769-8c92-a6c4dae69d19",
    "_uuid": "8f2839f25d086af736a60e9eeb907d3b93b6e0e5",
    "execution": {
     "iopub.execute_input": "2025-07-12T14:25:24.935681Z",
     "iopub.status.busy": "2025-07-12T14:25:24.935432Z",
     "iopub.status.idle": "2025-07-12T14:25:49.588402Z",
     "shell.execute_reply": "2025-07-12T14:25:49.587838Z"
    },
    "papermill": {
     "duration": 24.666012,
     "end_time": "2025-07-12T14:25:49.589752",
     "exception": false,
     "start_time": "2025-07-12T14:25:24.923740",
     "status": "completed"
    },
    "tags": []
   },
   "outputs": [
    {
     "name": "stderr",
     "output_type": "stream",
     "text": [
      "2025-07-12 14:25:28.447727: E external/local_xla/xla/stream_executor/cuda/cuda_fft.cc:477] Unable to register cuFFT factory: Attempting to register factory for plugin cuFFT when one has already been registered\n",
      "WARNING: All log messages before absl::InitializeLog() is called are written to STDERR\n",
      "E0000 00:00:1752330328.811024      19 cuda_dnn.cc:8310] Unable to register cuDNN factory: Attempting to register factory for plugin cuDNN when one has already been registered\n",
      "E0000 00:00:1752330328.917993      19 cuda_blas.cc:1418] Unable to register cuBLAS factory: Attempting to register factory for plugin cuBLAS when one has already been registered\n"
     ]
    }
   ],
   "source": [
    "# install librarires\n",
    "import os\n",
    "import tensorflow as tf\n",
    "import numpy as np\n",
    "import random"
   ]
  },
  {
   "cell_type": "markdown",
   "id": "6ce096cc",
   "metadata": {
    "papermill": {
     "duration": 0.009752,
     "end_time": "2025-07-12T14:25:49.610088",
     "exception": false,
     "start_time": "2025-07-12T14:25:49.600336",
     "status": "completed"
    },
    "tags": []
   },
   "source": [
    "## ℹ️ Set Global Constants"
   ]
  },
  {
   "cell_type": "code",
   "execution_count": 2,
   "id": "989a8426",
   "metadata": {
    "execution": {
     "iopub.execute_input": "2025-07-12T14:25:49.631408Z",
     "iopub.status.busy": "2025-07-12T14:25:49.630968Z",
     "iopub.status.idle": "2025-07-12T14:25:49.659869Z",
     "shell.execute_reply": "2025-07-12T14:25:49.658990Z"
    },
    "papermill": {
     "duration": 0.040887,
     "end_time": "2025-07-12T14:25:49.661028",
     "exception": false,
     "start_time": "2025-07-12T14:25:49.620141",
     "status": "completed"
    },
    "tags": []
   },
   "outputs": [
    {
     "name": "stdout",
     "output_type": "stream",
     "text": [
      "Weizmann Dataset\n",
      "There are total 10 classes, selected 10 classes\n",
      "Setting 50/class to train the model.\n",
      "Image size 128x128 with 5 sequence length\n",
      "Dropout rate: 0.5\n",
      "Train-Test split ratio 80/20\n",
      "Validation data from Train set 20.0%\n"
     ]
    }
   ],
   "source": [
    "# global variables\n",
    "# set dataset directories\n",
    "\n",
    "\n",
    "DATASET_DIR = \"/kaggle/input/weizmann-video-dataset/Weizmann Dataset\"\n",
    "DATASET_NAME = DATASET_DIR.split(\"/\")[-1].replace(\"-\", \" \").title()\n",
    "\n",
    "print(DATASET_NAME)\n",
    "\n",
    "ALL_CLASS_NAMES = os.listdir(DATASET_DIR)\n",
    "\n",
    "# Global constant variables -> \n",
    "NO_OF_CLASSES = len(ALL_CLASS_NAMES)\n",
    "CLASSES_LIST = ALL_CLASS_NAMES[:NO_OF_CLASSES]\n",
    "\n",
    "# Model Configuration\n",
    "IMAGE_HEIGHT, IMAGE_WIDTH = 128, 128\n",
    "SEQUENCE_LENGTH = 5\n",
    "\n",
    "# set drop out rate\n",
    "DROPOUT_RATE = 0.5\n",
    "\n",
    "# set datas\n",
    "MAX_VIDEO_PER_CLASS = 50\n",
    "\n",
    "# split dataset\n",
    "TEST_SIZE = 0.20\n",
    "\n",
    "# model fit parameters\n",
    "EPOCHS = 30\n",
    "BATCH_SIZE = 24\n",
    "VALIDATION_SPLIT = 0.20\n",
    "\n",
    "# augmentation values\n",
    "NOISE_FACTOR = 0.02\n",
    "SHEAR_X= 1\n",
    "SHEAR_Y= 1\n",
    "\n",
    "# give a name of the model to save\n",
    "MODEL_NAME = \"Xception\"\n",
    "\n",
    "print(f\"There are total {len(ALL_CLASS_NAMES)} classes, selected {NO_OF_CLASSES} classes\")\n",
    "print(f\"Setting {MAX_VIDEO_PER_CLASS}/class to train the model.\")\n",
    "print(f\"Image size {IMAGE_HEIGHT}x{IMAGE_WIDTH} with {SEQUENCE_LENGTH} sequence length\")\n",
    "print(f\"Dropout rate: {DROPOUT_RATE}\")\n",
    "print(f\"Train-Test split ratio {int((1-TEST_SIZE)*100)}/{int(TEST_SIZE*100)}\")\n",
    "print(f\"Validation data from Train set {VALIDATION_SPLIT*100}%\")"
   ]
  },
  {
   "cell_type": "markdown",
   "id": "e51ba49d",
   "metadata": {
    "papermill": {
     "duration": 0.009873,
     "end_time": "2025-07-12T14:25:49.680891",
     "exception": false,
     "start_time": "2025-07-12T14:25:49.671018",
     "status": "completed"
    },
    "tags": []
   },
   "source": [
    "## Set `Seed` Values"
   ]
  },
  {
   "cell_type": "code",
   "execution_count": 3,
   "id": "89686c14",
   "metadata": {
    "execution": {
     "iopub.execute_input": "2025-07-12T14:25:49.701572Z",
     "iopub.status.busy": "2025-07-12T14:25:49.701362Z",
     "iopub.status.idle": "2025-07-12T14:25:49.705189Z",
     "shell.execute_reply": "2025-07-12T14:25:49.704465Z"
    },
    "papermill": {
     "duration": 0.015592,
     "end_time": "2025-07-12T14:25:49.706351",
     "exception": false,
     "start_time": "2025-07-12T14:25:49.690759",
     "status": "completed"
    },
    "tags": []
   },
   "outputs": [],
   "source": [
    "# set seeed to get similar values\n",
    "seed_constant = 27\n",
    "np.random.seed(seed_constant)\n",
    "random.seed(seed_constant)\n",
    "tf.random.set_seed(seed_constant)"
   ]
  },
  {
   "cell_type": "markdown",
   "id": "4334acc1",
   "metadata": {
    "papermill": {
     "duration": 0.010611,
     "end_time": "2025-07-12T14:25:49.726951",
     "exception": false,
     "start_time": "2025-07-12T14:25:49.716340",
     "status": "completed"
    },
    "tags": []
   },
   "source": [
    "# 📌 Function Definition\n",
    "## Resize and Frame Extraction"
   ]
  },
  {
   "cell_type": "code",
   "execution_count": 4,
   "id": "a285bdd2",
   "metadata": {
    "execution": {
     "iopub.execute_input": "2025-07-12T14:25:49.750394Z",
     "iopub.status.busy": "2025-07-12T14:25:49.749961Z",
     "iopub.status.idle": "2025-07-12T14:25:49.759397Z",
     "shell.execute_reply": "2025-07-12T14:25:49.758636Z"
    },
    "papermill": {
     "duration": 0.023523,
     "end_time": "2025-07-12T14:25:49.760619",
     "exception": false,
     "start_time": "2025-07-12T14:25:49.737096",
     "status": "completed"
    },
    "tags": []
   },
   "outputs": [],
   "source": [
    "import cv2\n",
    "from concurrent.futures import ThreadPoolExecutor\n",
    "\n",
    "def resize_and_normalize_frame(frame, image_height, image_width):\n",
    "    try:\n",
    "        resized_frame = cv2.resize(frame, (image_width, image_height), interpolation=cv2.INTER_LINEAR)\n",
    "        normalized_frame = resized_frame / 255.0\n",
    "        return normalized_frame\n",
    "    except Exception as e:\n",
    "        print(f\"Error processing frame: {e}\")\n",
    "        return None\n",
    "\n",
    "def frames_extraction(video_path, \n",
    "                      sequence_length=SEQUENCE_LENGTH, \n",
    "                      image_height=IMAGE_HEIGHT, \n",
    "                      image_width=IMAGE_WIDTH):\n",
    "    # Declare a list to store video frames\n",
    "    frames_list = []\n",
    "\n",
    "    # Check if video file exists\n",
    "    if not os.path.exists(video_path):\n",
    "        print(f\"Error: Video file not found at {video_path}\")\n",
    "        return None\n",
    "\n",
    "    # Read the video file using VideoCapture with optimized settings\n",
    "    video_reader = cv2.VideoCapture(video_path, cv2.CAP_FFMPEG)\n",
    "\n",
    "    # Check if the video was opened successfully\n",
    "    if not video_reader.isOpened():\n",
    "        print(f\"Error: Could not open video file {video_path}\")\n",
    "        video_reader.release()\n",
    "        return None\n",
    "\n",
    "    # Get the total number of frames in the video\n",
    "    video_frames_count = int(video_reader.get(cv2.CAP_PROP_FRAME_COUNT))\n",
    "\n",
    "    # Ensure the video has enough frames\n",
    "    if video_frames_count < sequence_length:\n",
    "        print(f\"Warning: Video {video_path} has only {video_frames_count} frames, less than required {sequence_length}\")\n",
    "        video_reader.release()\n",
    "        return None\n",
    "\n",
    "    # Calculate the interval after which frames will be sampled\n",
    "    skip_frames_window = max(int(video_frames_count / sequence_length), 1)\n",
    "\n",
    "    # Pre-allocate frame indices to extract\n",
    "    frame_indices = [i * skip_frames_window for i in range(sequence_length)]\n",
    "\n",
    "    # Read and process frames in parallel\n",
    "    frames = []\n",
    "    for idx in frame_indices:\n",
    "        video_reader.set(cv2.CAP_PROP_POS_FRAMES, idx)\n",
    "        success, frame = video_reader.read()\n",
    "        if not success or frame is None:\n",
    "            print(f\"Warning: Failed to read frame at index {idx} from {video_path}\")\n",
    "            break\n",
    "        frame = cv2.cvtColor(frame, cv2.COLOR_BGR2RGB)\n",
    "        frames.append(frame)\n",
    "\n",
    "    # Release the VideoCapture object early\n",
    "    video_reader.release()\n",
    "\n",
    "    # Ensure the correct number of frames is read\n",
    "    if len(frames) != sequence_length:\n",
    "        print(f\"Warning: Read {len(frames)} frames instead of {sequence_length} from {video_path}\")\n",
    "        return None\n",
    "\n",
    "    # Process frames in parallel using ThreadPoolExecutor\n",
    "    with ThreadPoolExecutor() as executor:\n",
    "        processed_frames = list(executor.map(\n",
    "            lambda f: resize_and_normalize_frame(f, image_height, image_width), \n",
    "            frames\n",
    "        ))\n",
    "\n",
    "    # Check for any failed frame processing\n",
    "    if any(f is None for f in processed_frames):\n",
    "        print(f\"Warning: Some frames failed to process in {video_path}\")\n",
    "        return None\n",
    "\n",
    "    # Convert to NumPy array\n",
    "    frames_array = np.array(processed_frames, dtype=np.float32)\n",
    "\n",
    "    return frames_array"
   ]
  },
  {
   "cell_type": "code",
   "execution_count": 5,
   "id": "087086d9",
   "metadata": {
    "execution": {
     "iopub.execute_input": "2025-07-12T14:25:49.782454Z",
     "iopub.status.busy": "2025-07-12T14:25:49.782216Z",
     "iopub.status.idle": "2025-07-12T14:25:49.785788Z",
     "shell.execute_reply": "2025-07-12T14:25:49.785030Z"
    },
    "papermill": {
     "duration": 0.016116,
     "end_time": "2025-07-12T14:25:49.787057",
     "exception": false,
     "start_time": "2025-07-12T14:25:49.770941",
     "status": "completed"
    },
    "tags": []
   },
   "outputs": [],
   "source": [
    " # # Iterate through all video files\n",
    " #        for file_name in files_list:\n",
    " #            video_file_path = os.path.join(class_path, file_name)\n",
    "\n",
    " #            # Extract frames using the updated frames_extraction function\n",
    " #            frames = frames_extraction(video_file_path, sequence_length, image_height, image_width)\n",
    "\n",
    " #            # Skip videos where frame extraction failed\n",
    " #            if frames is None:\n",
    " #                print(f\"Skipping video {video_file_path} due to frame extraction failure\")\n",
    " #                continue\n",
    "\n",
    " #            # Append the data to respective lists\n",
    " #            features.append(frames)\n",
    " #            labels.append(class_index)"
   ]
  },
  {
   "cell_type": "markdown",
   "id": "ef2318e0",
   "metadata": {
    "papermill": {
     "duration": 0.009958,
     "end_time": "2025-07-12T14:25:49.807231",
     "exception": false,
     "start_time": "2025-07-12T14:25:49.797273",
     "status": "completed"
    },
    "tags": []
   },
   "source": [
    "## Create Dataset"
   ]
  },
  {
   "cell_type": "code",
   "execution_count": 6,
   "id": "c1ccc98d",
   "metadata": {
    "execution": {
     "iopub.execute_input": "2025-07-12T14:25:49.829107Z",
     "iopub.status.busy": "2025-07-12T14:25:49.828415Z",
     "iopub.status.idle": "2025-07-12T14:25:49.835820Z",
     "shell.execute_reply": "2025-07-12T14:25:49.835186Z"
    },
    "papermill": {
     "duration": 0.019604,
     "end_time": "2025-07-12T14:25:49.837005",
     "exception": false,
     "start_time": "2025-07-12T14:25:49.817401",
     "status": "completed"
    },
    "tags": []
   },
   "outputs": [],
   "source": [
    "# RUN create dataset function definition\n",
    "def create_dataset(dataset_dir,\n",
    "                   classes_list, \n",
    "                   sequence_length=SEQUENCE_LENGTH, \n",
    "                   image_height=IMAGE_HEIGHT, \n",
    "                   image_width=IMAGE_WIDTH, \n",
    "                   max_videos_per_class=None,\n",
    "                   augmentations=False\n",
    "                  ):\n",
    "    \n",
    "    # Initialize lists to store features, labels, and video file paths\n",
    "    videos = []\n",
    "    labels = []\n",
    "\n",
    "    # Check if dataset directory exists\n",
    "    if not os.path.exists(dataset_dir):\n",
    "        raise FileNotFoundError(f\"Dataset directory not found: {dataset_dir}\")\n",
    "\n",
    "    # Iterate through all classes in the classes list\n",
    "    for class_index, class_name in enumerate(classes_list):\n",
    "        class_path = os.path.join(dataset_dir, class_name)\n",
    "        \n",
    "        # Check if class directory exists\n",
    "        if not os.path.exists(class_path):\n",
    "            print(f\"Warning: Class directory not found: {class_path}\")\n",
    "            continue\n",
    "\n",
    "        print(f'Extracting Data of Class: {class_name}')\n",
    "\n",
    "        # Get the list of video files in the class directory\n",
    "        files_list = os.listdir(class_path)\n",
    "\n",
    "        # Limit the number of videos if specified\n",
    "        if max_videos_per_class is not None:\n",
    "            files_list = files_list[:max_videos_per_class]\n",
    "\n",
    "        # Iterate through all video files\n",
    "        for file_name in files_list:\n",
    "            video_file_path = os.path.join(class_path, file_name)\n",
    "\n",
    "            # Extract frames using the updated frames_extraction function\n",
    "            frames = frames_extraction(video_file_path, \n",
    "                                       sequence_length, \n",
    "                                       image_height, \n",
    "                                       image_width)\n",
    "\n",
    "            # Skip videos where frame extraction failed\n",
    "            if frames is None:\n",
    "                print(f\"Skipping video {video_file_path} due to frame extraction failure\")\n",
    "                continue\n",
    "\n",
    "            # Append the data to respective lists\n",
    "            videos.append(frames)\n",
    "            labels.append(class_index)\n",
    "\n",
    "    # Convert lists to numpy arrays\n",
    "    if not videos:\n",
    "        raise ValueError(\"No valid videos were processed. Check dataset or parameters.\")\n",
    "    videos = np.asarray(videos)\n",
    "    labels = np.array(labels)\n",
    "\n",
    "    print(f\"Dataset created with {len(videos)} videos\")\n",
    "    print(f\"Features shape: {videos.shape}\")\n",
    "    print(f\"Labels shape: {labels.shape}\")\n",
    "\n",
    "    return videos, labels"
   ]
  },
  {
   "cell_type": "markdown",
   "id": "298a030a",
   "metadata": {
    "papermill": {
     "duration": 0.010652,
     "end_time": "2025-07-12T14:25:49.859544",
     "exception": false,
     "start_time": "2025-07-12T14:25:49.848892",
     "status": "completed"
    },
    "tags": []
   },
   "source": [
    "## 🪄 Video Data Generator"
   ]
  },
  {
   "cell_type": "code",
   "execution_count": 7,
   "id": "a183c95c",
   "metadata": {
    "execution": {
     "iopub.execute_input": "2025-07-12T14:25:49.943573Z",
     "iopub.status.busy": "2025-07-12T14:25:49.943205Z",
     "iopub.status.idle": "2025-07-12T14:25:50.040120Z",
     "shell.execute_reply": "2025-07-12T14:25:50.039510Z"
    },
    "papermill": {
     "duration": 0.111722,
     "end_time": "2025-07-12T14:25:50.041488",
     "exception": false,
     "start_time": "2025-07-12T14:25:49.929766",
     "status": "completed"
    },
    "tags": []
   },
   "outputs": [],
   "source": [
    "from tensorflow.keras.utils import Sequence, to_categorical\n",
    "import tensorflow as tf\n",
    "import numpy as np\n",
    "import cv2\n",
    "\n",
    "\n",
    "\n",
    "\n",
    "class VideoDataGenerator(Sequence):\n",
    "    def __init__(self, videos, labels, batch_size, is_training=False):\n",
    "        self.videos = list(videos)  # List of video file paths\n",
    "        self.labels = list(labels)  # List or array of labels encoded\n",
    "        self.batch_size = batch_size\n",
    "        self.indices = np.arange(len(self.videos))  # For shuffling\n",
    "        self.is_training = is_training  # Flag to control whether augmentation is applied\n",
    "        self.temp_videos=[]\n",
    "        self.temp_labels=[]\n",
    "        \n",
    "        \n",
    "        print(f\"Total {len(videos)} videos and {len(labels)} classes\")\n",
    "\n",
    "    def __len__(self):\n",
    "        # Return the number of batches per epoch\n",
    "        return int(np.ceil(len(self.videos) / self.batch_size))\n",
    "\n",
    "    def __getitem__(self, idx):\n",
    "        # Get batch indices\n",
    "        batch_indices = self.indices[idx * self.batch_size:(idx + 1) * self.batch_size]\n",
    "        \n",
    "        # Handle case where batch_indices is empty\n",
    "        if len(batch_indices) == 0:\n",
    "            return np.array([], dtype=np.float32), np.array([], dtype=np.float32)\n",
    "        \n",
    "        # Initialize lists to store frames and labels\n",
    "        all_frames = []\n",
    "        all_labels = []\n",
    "        \n",
    "        # Process each video in the batch\n",
    "        for i, index in enumerate(batch_indices):\n",
    "            sequence = self.videos[index]\n",
    "            label = self.labels[index]\n",
    "            \n",
    "            # Load and process video\n",
    "            # sequence = frames_extraction(video_path)\n",
    "\n",
    "            # if sequence is not None:\n",
    "            #     # Apply augmentations: 1 original + 4 augmentations (horizontal flip, shear, rotation, noise)\n",
    "            #     augmented_sequences = [sequence]  # Add original sequence\n",
    "\n",
    "            #     if self.is_training:\n",
    "            #         # Apply augmentations\n",
    "            #         augmented_sequences.append(np.array(horizontal_flip(sequence)))  # Horizontal Flip\n",
    "            #         augmented_sequences.append(np.array(apply_shear_frames(sequence, shear_right=0)))  # Random Shear\n",
    "            #         augmented_sequences.append(np.array(apply_shear_frames(sequence, shear_right=1)))  # Random Rotation\n",
    "            #         augmented_sequences.append(np.array(noise_video(sequence)))  # Salt and Pepper Noise\n",
    "\n",
    "            #     # Add augmented sequences to the batch\n",
    "            #     all_frames.extend(augmented_sequences)\n",
    "            #     all_labels.extend([label] * len(augmented_sequences))  # Each augmentation has the same label\n",
    "\n",
    "            \n",
    "            # Append the sequence and label\n",
    "            all_frames.append(sequence)\n",
    "            all_labels.append(label)\n",
    "        \n",
    "        # Convert to numpy arrays\n",
    "        all_frames = np.array(all_frames, dtype=np.float32)\n",
    "        all_labels = np.array(all_labels)\n",
    "            \n",
    "        \n",
    "        return all_frames, all_labels\n",
    "    def add(self, new_videos, new_labels):\n",
    "        self.temp_videos.extend(new_videos)\n",
    "        self.temp_labels.extend(new_labels)\n",
    "    \n",
    "    def confirm(self):\n",
    "        print(f\"Adding {len(self.temp_videos)} videos with {len(self.temp_labels)} classes.\")\n",
    "        self.videos.extend(self.temp_videos)\n",
    "        self.labels.extend(self.temp_labels)\n",
    "        print(f\"Successfully added - {len(self.temp_videos)} videos and {len(self.temp_labels)} classes.\")\n",
    "        self.temp_videos=[]\n",
    "        self.temp_labels=[]\n",
    "        self.indices = np.arange(len(self.videos))\n",
    "        print(f\"Now Total - {len(self.videos)} videos and {len(self.labels)} classes.\")\n",
    "        print(f\"PENDING for Augmentations - {len(self.temp_videos)} videos and {len(self.temp_labels)} classes.\")\n",
    "    \n",
    "    def on_epoch_end(self):\n",
    "        # Shuffle indices at the end of each epoch\n",
    "        np.random.shuffle(self.indices)\n",
    "\n",
    "    def as_dataset(self):\n",
    "        def generator():\n",
    "            for idx in range(len(self)):\n",
    "                frames, labels = self[idx]\n",
    "                # Skip empty batches\n",
    "                if frames.size == 0:\n",
    "                    continue\n",
    "                yield frames, labels\n",
    "        self.labels=np.array(self.labels)\n",
    "    \n",
    "        # Create a tf.data.Dataset\n",
    "        dataset = tf.data.Dataset.from_generator(\n",
    "            generator,\n",
    "            output_types=(tf.float32, tf.float32),\n",
    "            output_shapes=(\n",
    "                (None, SEQUENCE_LENGTH, IMAGE_HEIGHT, IMAGE_WIDTH, 3),\n",
    "                (None, NO_OF_CLASSES)\n",
    "            )\n",
    "        )\n",
    "        dataset = dataset.prefetch(tf.data.AUTOTUNE)\n",
    "        return dataset"
   ]
  },
  {
   "cell_type": "markdown",
   "id": "d37d4830",
   "metadata": {
    "papermill": {
     "duration": 0.010774,
     "end_time": "2025-07-12T14:25:50.063620",
     "exception": false,
     "start_time": "2025-07-12T14:25:50.052846",
     "status": "completed"
    },
    "tags": []
   },
   "source": [
    "## Debug and Helpers"
   ]
  },
  {
   "cell_type": "markdown",
   "id": "793b079a",
   "metadata": {
    "papermill": {
     "duration": 0.010415,
     "end_time": "2025-07-12T14:25:50.084605",
     "exception": false,
     "start_time": "2025-07-12T14:25:50.074190",
     "status": "completed"
    },
    "tags": []
   },
   "source": [
    "## 💫 Augmentation Helper function"
   ]
  },
  {
   "cell_type": "code",
   "execution_count": 8,
   "id": "14ac4dd1",
   "metadata": {
    "execution": {
     "iopub.execute_input": "2025-07-12T14:25:50.107165Z",
     "iopub.status.busy": "2025-07-12T14:25:50.106483Z",
     "iopub.status.idle": "2025-07-12T14:25:50.111495Z",
     "shell.execute_reply": "2025-07-12T14:25:50.110767Z"
    },
    "papermill": {
     "duration": 0.017575,
     "end_time": "2025-07-12T14:25:50.112724",
     "exception": false,
     "start_time": "2025-07-12T14:25:50.095149",
     "status": "completed"
    },
    "tags": []
   },
   "outputs": [],
   "source": [
    "import time\n",
    "\n",
    "    \n",
    "\n",
    "def apply_augmentation(augmentation_function, generator, confirm=False, *args, **kwargs):\n",
    "    \n",
    "    for i in range(len(generator)):\n",
    "        batch_videos, batch_labels = generator[i]\n",
    "        augmented_videos=[]\n",
    "        for videos in batch_videos:\n",
    "            augmented_videos.append(augmentation_function(videos, *args, **kwargs))\n",
    "        generator.add(augmented_videos, batch_labels)\n",
    "        print(f\"Processing video {len(generator.temp_videos)}...\", end=\"\\r\", flush=True)\n",
    "        time.sleep(0.5)  # simulate work\n",
    "    if confirm:\n",
    "        generator.confirm()"
   ]
  },
  {
   "cell_type": "markdown",
   "id": "296b1d26",
   "metadata": {
    "papermill": {
     "duration": 0.010098,
     "end_time": "2025-07-12T14:25:50.133341",
     "exception": false,
     "start_time": "2025-07-12T14:25:50.123243",
     "status": "completed"
    },
    "tags": []
   },
   "source": [
    "### Show Frames"
   ]
  },
  {
   "cell_type": "code",
   "execution_count": 9,
   "id": "03c442df",
   "metadata": {
    "execution": {
     "iopub.execute_input": "2025-07-12T14:25:50.154901Z",
     "iopub.status.busy": "2025-07-12T14:25:50.154632Z",
     "iopub.status.idle": "2025-07-12T14:25:50.158438Z",
     "shell.execute_reply": "2025-07-12T14:25:50.157951Z"
    },
    "papermill": {
     "duration": 0.015722,
     "end_time": "2025-07-12T14:25:50.159510",
     "exception": false,
     "start_time": "2025-07-12T14:25:50.143788",
     "status": "completed"
    },
    "tags": []
   },
   "outputs": [],
   "source": [
    "# show frame def\n",
    "import matplotlib.pyplot as plt\n",
    "\n",
    "def show_frame(frame):\n",
    "    plt.figure(figsize=(3,3))\n",
    "    plt.imshow(frame)\n",
    "    plt.axis(\"off\")\n",
    "    plt.tight_layout()"
   ]
  },
  {
   "cell_type": "markdown",
   "id": "8cfac28c",
   "metadata": {
    "papermill": {
     "duration": 0.009983,
     "end_time": "2025-07-12T14:25:50.179900",
     "exception": false,
     "start_time": "2025-07-12T14:25:50.169917",
     "status": "completed"
    },
    "tags": []
   },
   "source": [
    "### Helper Function"
   ]
  },
  {
   "cell_type": "code",
   "execution_count": 10,
   "id": "0a74c223",
   "metadata": {
    "execution": {
     "iopub.execute_input": "2025-07-12T14:25:50.201581Z",
     "iopub.status.busy": "2025-07-12T14:25:50.201072Z",
     "iopub.status.idle": "2025-07-12T14:25:50.205663Z",
     "shell.execute_reply": "2025-07-12T14:25:50.205082Z"
    },
    "papermill": {
     "duration": 0.016711,
     "end_time": "2025-07-12T14:25:50.206772",
     "exception": false,
     "start_time": "2025-07-12T14:25:50.190061",
     "status": "completed"
    },
    "tags": []
   },
   "outputs": [],
   "source": [
    "def show_frame_vs(frame1, frame2, title1=\"Frame 1\", title2=\"Frame 2\"):\n",
    "    plt.figure(figsize=(10, 5))\n",
    "\n",
    "    # First frame\n",
    "    plt.subplot(1, 2, 1)\n",
    "    plt.imshow(frame1)\n",
    "    plt.title(title1)\n",
    "    plt.axis('off')\n",
    "\n",
    "    # Second frame\n",
    "    plt.subplot(1, 2, 2)\n",
    "    plt.imshow(frame2)\n",
    "    plt.title(title2)\n",
    "    plt.axis('off')\n",
    "\n",
    "    plt.tight_layout()\n",
    "    plt.show()"
   ]
  },
  {
   "cell_type": "code",
   "execution_count": 11,
   "id": "6ddc41c3",
   "metadata": {
    "execution": {
     "iopub.execute_input": "2025-07-12T14:25:50.228562Z",
     "iopub.status.busy": "2025-07-12T14:25:50.228325Z",
     "iopub.status.idle": "2025-07-12T14:25:50.231791Z",
     "shell.execute_reply": "2025-07-12T14:25:50.231279Z"
    },
    "papermill": {
     "duration": 0.015512,
     "end_time": "2025-07-12T14:25:50.232881",
     "exception": false,
     "start_time": "2025-07-12T14:25:50.217369",
     "status": "completed"
    },
    "tags": []
   },
   "outputs": [],
   "source": [
    "# reusable video loop helper function\n",
    "def apply_function(function, videos, *arg, **kwargs):\n",
    "    new_videos=[]\n",
    "    \n",
    "    for video in videos:\n",
    "        new_videos.append(function(video, *arg, **kwargs))\n",
    "        \n",
    "    return new_videos"
   ]
  },
  {
   "cell_type": "code",
   "execution_count": 12,
   "id": "0249c862",
   "metadata": {
    "execution": {
     "iopub.execute_input": "2025-07-12T14:25:50.255113Z",
     "iopub.status.busy": "2025-07-12T14:25:50.254847Z",
     "iopub.status.idle": "2025-07-12T14:25:50.259531Z",
     "shell.execute_reply": "2025-07-12T14:25:50.258969Z"
    },
    "papermill": {
     "duration": 0.017213,
     "end_time": "2025-07-12T14:25:50.260699",
     "exception": false,
     "start_time": "2025-07-12T14:25:50.243486",
     "status": "completed"
    },
    "tags": []
   },
   "outputs": [],
   "source": [
    "# reusable video loop helper function\n",
    "def apply(function, videos, labels, *arg, **kwargs):\n",
    "    new_videos=[]\n",
    "    new_labels=[]\n",
    "    combined=zip(labels, videos)\n",
    "    \n",
    "    for label, video in combined:\n",
    "        new_videos.append(function(video, *arg, **kwargs))\n",
    "        new_labels.append(label)\n",
    "        \n",
    "    new_videos=np.asarray(new_videos)\n",
    "    new_labels=np.asarray(new_labels)\n",
    "    \n",
    "    return new_videos, new_labels"
   ]
  },
  {
   "cell_type": "markdown",
   "id": "14798091",
   "metadata": {
    "papermill": {
     "duration": 0.010348,
     "end_time": "2025-07-12T14:25:50.281932",
     "exception": false,
     "start_time": "2025-07-12T14:25:50.271584",
     "status": "completed"
    },
    "tags": []
   },
   "source": [
    "## Salt and Pepper Noise "
   ]
  },
  {
   "cell_type": "code",
   "execution_count": 13,
   "id": "1cbc07ed",
   "metadata": {
    "execution": {
     "iopub.execute_input": "2025-07-12T14:25:50.304937Z",
     "iopub.status.busy": "2025-07-12T14:25:50.304215Z",
     "iopub.status.idle": "2025-07-12T14:25:50.308997Z",
     "shell.execute_reply": "2025-07-12T14:25:50.308350Z"
    },
    "papermill": {
     "duration": 0.017508,
     "end_time": "2025-07-12T14:25:50.310200",
     "exception": false,
     "start_time": "2025-07-12T14:25:50.292692",
     "status": "completed"
    },
    "tags": []
   },
   "outputs": [],
   "source": [
    "# Noise function def\n",
    "\n",
    "def noise_video(video,noise_factor=NOISE_FACTOR):\n",
    "    noisy_video=[]\n",
    "    for frame in video:\n",
    "        # Generate random noise\n",
    "        noise = np.random.rand(*frame.shape)  # Generate random noise\n",
    "        salt_pepper_noise = np.random.choice([0, 1], size=frame.shape, p=[1-noise_factor, noise_factor])\n",
    "        noisy_frame = frame * (1 - salt_pepper_noise) + salt_pepper_noise * np.random.rand(*frame.shape)\n",
    "        noisy_video.append(noisy_frame)\n",
    "    return np.array(noisy_video)"
   ]
  },
  {
   "cell_type": "markdown",
   "id": "a809d180",
   "metadata": {
    "papermill": {
     "duration": 0.010988,
     "end_time": "2025-07-12T14:25:50.332286",
     "exception": false,
     "start_time": "2025-07-12T14:25:50.321298",
     "status": "completed"
    },
    "tags": []
   },
   "source": [
    "## Horizontal Flip"
   ]
  },
  {
   "cell_type": "code",
   "execution_count": 14,
   "id": "248f0d83",
   "metadata": {
    "execution": {
     "iopub.execute_input": "2025-07-12T14:25:50.355441Z",
     "iopub.status.busy": "2025-07-12T14:25:50.355032Z",
     "iopub.status.idle": "2025-07-12T14:25:50.358511Z",
     "shell.execute_reply": "2025-07-12T14:25:50.357835Z"
    },
    "papermill": {
     "duration": 0.016491,
     "end_time": "2025-07-12T14:25:50.359676",
     "exception": false,
     "start_time": "2025-07-12T14:25:50.343185",
     "status": "completed"
    },
    "tags": []
   },
   "outputs": [],
   "source": [
    "# horizontal flip function def\n",
    "# Testing Flip feautes[0] -> first video\n",
    "def horizontal_flip(video):\n",
    "    return [tf.image.flip_left_right(frame) for frame in video]"
   ]
  },
  {
   "cell_type": "markdown",
   "id": "addc90c6",
   "metadata": {
    "papermill": {
     "duration": 0.010304,
     "end_time": "2025-07-12T14:25:50.381038",
     "exception": false,
     "start_time": "2025-07-12T14:25:50.370734",
     "status": "completed"
    },
    "tags": []
   },
   "source": [
    "## Random Shear"
   ]
  },
  {
   "cell_type": "code",
   "execution_count": 15,
   "id": "23c22e61",
   "metadata": {
    "execution": {
     "iopub.execute_input": "2025-07-12T14:25:50.402792Z",
     "iopub.status.busy": "2025-07-12T14:25:50.402588Z",
     "iopub.status.idle": "2025-07-12T14:25:50.408462Z",
     "shell.execute_reply": "2025-07-12T14:25:50.407778Z"
    },
    "papermill": {
     "duration": 0.018178,
     "end_time": "2025-07-12T14:25:50.409514",
     "exception": false,
     "start_time": "2025-07-12T14:25:50.391336",
     "status": "completed"
    },
    "tags": []
   },
   "outputs": [],
   "source": [
    "# random shear function def\n",
    "import numpy as np\n",
    "import tensorflow as tf\n",
    "from scipy.ndimage import affine_transform\n",
    "\n",
    "def apply_shear_frames(frames, shear_right):\n",
    "    return [apply_shear(frame, shear_right) for frame in frames]\n",
    "\n",
    "def apply_shear(frame, shear_right=0):\n",
    "    frame_resized = tf.image.resize(frame, (IMAGE_HEIGHT, IMAGE_WIDTH)).numpy()\n",
    "    if shear_right:\n",
    "        shear_x = 0.09\n",
    "        shear_y = 0.1\n",
    "    else:\n",
    "        shear_x = -0.09\n",
    "        shear_y = 0.3\n",
    "    # Construct the affine matrix for scipy: inverse of the transformation matrix\n",
    "    # scipy applies the inverse transform matrix\n",
    "    shear_matrix = np.array([\n",
    "        [1, shear_x, 0],\n",
    "        [shear_y, 1, 0],\n",
    "        [0, 0, 1]\n",
    "    ], dtype=np.float32)\n",
    "\n",
    "    # Extract 2x2 part for affine_transform\n",
    "    matrix = shear_matrix[:2, :2]\n",
    "\n",
    "    # Offset (no translation)\n",
    "    offset = [0, 0]\n",
    "\n",
    "    # Apply affine transform on each channel separately\n",
    "    sheared = np.zeros_like(frame_resized)\n",
    "    for c in range(3):\n",
    "        sheared[..., c] = affine_transform(\n",
    "            frame_resized[..., c],\n",
    "            matrix=matrix,\n",
    "            offset=offset,\n",
    "            order=1,          # bilinear interpolation\n",
    "            mode='nearest'    # fill_mode\n",
    "        )\n",
    "    return sheared"
   ]
  },
  {
   "cell_type": "markdown",
   "id": "91d3405f",
   "metadata": {
    "papermill": {
     "duration": 0.01011,
     "end_time": "2025-07-12T14:25:50.429742",
     "exception": false,
     "start_time": "2025-07-12T14:25:50.419632",
     "status": "completed"
    },
    "tags": []
   },
   "source": [
    "# 📌 Model Related\n",
    "## 🗼 Model Architecture `create_model`"
   ]
  },
  {
   "cell_type": "code",
   "execution_count": 16,
   "id": "ec684caa",
   "metadata": {
    "execution": {
     "iopub.execute_input": "2025-07-12T14:25:50.451260Z",
     "iopub.status.busy": "2025-07-12T14:25:50.451090Z",
     "iopub.status.idle": "2025-07-12T14:25:50.467839Z",
     "shell.execute_reply": "2025-07-12T14:25:50.467329Z"
    },
    "papermill": {
     "duration": 0.028581,
     "end_time": "2025-07-12T14:25:50.468941",
     "exception": false,
     "start_time": "2025-07-12T14:25:50.440360",
     "status": "completed"
    },
    "tags": []
   },
   "outputs": [],
   "source": [
    "from tensorflow.keras.applications import Xception\n",
    "from tensorflow.keras.models import Sequential\n",
    "from tensorflow.keras.layers import GlobalAveragePooling2D, TimeDistributed, LSTM, Dropout, Dense\n",
    "from tensorflow.keras.regularizers import l2\n",
    "from tensorflow.keras.layers import BatchNormalization\n",
    "\n",
    "def create_xception_lstm_model(sequence_length, image_height, image_width, classes_list=None, dropout_rate=0.5):\n",
    "    if classes_list is None:\n",
    "        raise ValueError(\"classes_list must be provided to define the output layer size\")\n",
    "\n",
    "    try:\n",
    "        # Load Xception model with pre-trained ImageNet weights\n",
    "        print(\"Loading Xception base model...\")\n",
    "        xception = Xception(\n",
    "            weights='imagenet',\n",
    "            include_top=False,\n",
    "            input_shape=(image_height, image_width, 3),\n",
    "            name=\"Xception\"\n",
    "        )\n",
    "        # Freeze Xception layers\n",
    "        for layer in xception.layers[:-10]:  # Unfreeze last 10 layers\n",
    "            layer.trainable = False\n",
    "        for layer in xception.layers[-10:]:\n",
    "            layer.trainable = True\n",
    "\n",
    "        # Define the Sequential model\n",
    "        model = Sequential([\n",
    "            # InputLayer and TimeDistributed Xception\n",
    "            TimeDistributed(\n",
    "                xception,\n",
    "                input_shape=(sequence_length, image_height, image_width, 3),\n",
    "                name=\"time_distributed\"\n",
    "            ),\n",
    "            # TimeDistributed GlobalAveragePooling2D\n",
    "            TimeDistributed(GlobalAveragePooling2D(), name=\"time_distributed_1\"),\n",
    "            # LSTM layer with 128 units\n",
    "            LSTM(128, activation=\"tanh\", return_sequences=False, kernel_regularizer=l2(0.01), name=\"lstm\"),\n",
    "            \n",
    "            BatchNormalization(name=\"batch_normalization\"),\n",
    "            # Dropout after LSTM\n",
    "            Dropout(dropout_rate, name=\"dropout_lstm\"),\n",
    "            # Dense layer with 512 units\n",
    "            Dense(512, activation=\"relu\", kernel_regularizer=l2(0.01), name=\"dense\"),\n",
    "            # Dropout after Dense\n",
    "            Dropout(dropout_rate + 0.1, name=\"dropout_dense\"),\n",
    "            # Output Dense layer with softmax activation\n",
    "            Dense(len(classes_list), activation=\"softmax\", name=\"dense_1\")\n",
    "        ])\n",
    "        \n",
    "        # Print model summary\n",
    "        print(\"Model architecture created successfully!\")\n",
    "        model.summary()\n",
    "\n",
    "        return model\n",
    "\n",
    "    except Exception as e:\n",
    "        print(f\"Error creating model: {e}\")\n",
    "        return None"
   ]
  },
  {
   "cell_type": "code",
   "execution_count": 17,
   "id": "8bc3aa4b",
   "metadata": {
    "execution": {
     "iopub.execute_input": "2025-07-12T14:25:50.490899Z",
     "iopub.status.busy": "2025-07-12T14:25:50.490686Z",
     "iopub.status.idle": "2025-07-12T14:25:55.659188Z",
     "shell.execute_reply": "2025-07-12T14:25:55.658206Z"
    },
    "papermill": {
     "duration": 5.180835,
     "end_time": "2025-07-12T14:25:55.660492",
     "exception": false,
     "start_time": "2025-07-12T14:25:50.479657",
     "status": "completed"
    },
    "tags": []
   },
   "outputs": [
    {
     "name": "stdout",
     "output_type": "stream",
     "text": [
      "Pre-loading Xception weights...\n"
     ]
    },
    {
     "name": "stderr",
     "output_type": "stream",
     "text": [
      "I0000 00:00:1752330352.403832      19 gpu_device.cc:2022] Created device /job:localhost/replica:0/task:0/device:GPU:0 with 13942 MB memory:  -> device: 0, name: Tesla T4, pci bus id: 0000:00:04.0, compute capability: 7.5\n",
      "I0000 00:00:1752330352.404587      19 gpu_device.cc:2022] Created device /job:localhost/replica:0/task:0/device:GPU:1 with 13942 MB memory:  -> device: 1, name: Tesla T4, pci bus id: 0000:00:05.0, compute capability: 7.5\n"
     ]
    },
    {
     "name": "stdout",
     "output_type": "stream",
     "text": [
      "Downloading data from https://storage.googleapis.com/tensorflow/keras-applications/xception/xception_weights_tf_dim_ordering_tf_kernels_notop.h5\n",
      "\u001b[1m83683744/83683744\u001b[0m \u001b[32m━━━━━━━━━━━━━━━━━━━━\u001b[0m\u001b[37m\u001b[0m \u001b[1m0s\u001b[0m 0us/step\n",
      "Weights loaded successfully!\n"
     ]
    }
   ],
   "source": [
    "# donwload model weights\n",
    "from tensorflow.keras.applications import Xception\n",
    "print(\"Pre-loading Xception weights...\")\n",
    "base_model = Xception(weights='imagenet', include_top=False, input_shape=(IMAGE_HEIGHT, IMAGE_WIDTH, 3))\n",
    "print(\"Weights loaded successfully!\")"
   ]
  },
  {
   "cell_type": "markdown",
   "id": "fc30a383",
   "metadata": {
    "papermill": {
     "duration": 0.010808,
     "end_time": "2025-07-12T14:25:55.682916",
     "exception": false,
     "start_time": "2025-07-12T14:25:55.672108",
     "status": "completed"
    },
    "tags": []
   },
   "source": [
    "# 📌 Execution\n",
    "## Creating Dataset\n",
    "The following functions are executed\n",
    "- `frame extraction`\n",
    "- `resize`\n",
    "\n",
    "which returns:\n",
    "- `features` - `np.array` of all the videos\n",
    "- `labels` - `np.array` of all the class labels"
   ]
  },
  {
   "cell_type": "code",
   "execution_count": 18,
   "id": "d93a5e3a",
   "metadata": {
    "execution": {
     "iopub.execute_input": "2025-07-12T14:25:55.706767Z",
     "iopub.status.busy": "2025-07-12T14:25:55.706071Z",
     "iopub.status.idle": "2025-07-12T14:26:05.277677Z",
     "shell.execute_reply": "2025-07-12T14:26:05.276984Z"
    },
    "papermill": {
     "duration": 9.584479,
     "end_time": "2025-07-12T14:26:05.278769",
     "exception": false,
     "start_time": "2025-07-12T14:25:55.694290",
     "status": "completed"
    },
    "tags": []
   },
   "outputs": [
    {
     "name": "stdout",
     "output_type": "stream",
     "text": [
      "Extracting Data of Class: two hands wave\n",
      "Extracting Data of Class: skip\n",
      "Extracting Data of Class: jump in place\n",
      "Extracting Data of Class: jump\n",
      "Extracting Data of Class: walk\n",
      "Extracting Data of Class: bend\n",
      "Extracting Data of Class: gallop sideways\n",
      "Extracting Data of Class: run\n",
      "Extracting Data of Class: jumping jack\n",
      "Extracting Data of Class: one hand wave\n",
      "Dataset created with 93 videos\n",
      "Features shape: (93, 5, 128, 128, 3)\n",
      "Labels shape: (93,)\n"
     ]
    },
    {
     "data": {
      "text/plain": [
       "((93, 5, 128, 128, 3), (93,))"
      ]
     },
     "execution_count": 18,
     "metadata": {},
     "output_type": "execute_result"
    }
   ],
   "source": [
    "# RUN Create the dataset with explicit parameters\n",
    "try:\n",
    "    videos, labels = create_dataset(\n",
    "        dataset_dir=DATASET_DIR,\n",
    "        classes_list=CLASSES_LIST,\n",
    "        sequence_length=SEQUENCE_LENGTH,\n",
    "        image_height=IMAGE_HEIGHT,\n",
    "        image_width=IMAGE_WIDTH,\n",
    "        # Limit to 10 videos per class to manage memory\n",
    "        augmentations=True,\n",
    "        max_videos_per_class=MAX_VIDEO_PER_CLASS\n",
    "    )\n",
    "except FileNotFoundError as e:\n",
    "    print(f\"Error: {e}\")\n",
    "except ValueError as e:\n",
    "    print(f\"Error: {e}\")\n",
    "except Exception as e:\n",
    "    print(f\"Unexpected error: {e}\")\n",
    "\n",
    "videos.shape, labels.shape"
   ]
  },
  {
   "cell_type": "code",
   "execution_count": 19,
   "id": "0ef00ed9",
   "metadata": {
    "execution": {
     "iopub.execute_input": "2025-07-12T14:26:05.302484Z",
     "iopub.status.busy": "2025-07-12T14:26:05.302274Z",
     "iopub.status.idle": "2025-07-12T14:26:05.306232Z",
     "shell.execute_reply": "2025-07-12T14:26:05.305537Z"
    },
    "papermill": {
     "duration": 0.016787,
     "end_time": "2025-07-12T14:26:05.307335",
     "exception": false,
     "start_time": "2025-07-12T14:26:05.290548",
     "status": "completed"
    },
    "tags": []
   },
   "outputs": [
    {
     "name": "stdout",
     "output_type": "stream",
     "text": [
      "Total 93 videos and 93 classes\n"
     ]
    }
   ],
   "source": [
    "video_generator = VideoDataGenerator(\n",
    "    videos=videos,\n",
    "    labels=labels,\n",
    "    batch_size=BATCH_SIZE\n",
    ")"
   ]
  },
  {
   "cell_type": "code",
   "execution_count": 20,
   "id": "c251e36b",
   "metadata": {
    "execution": {
     "iopub.execute_input": "2025-07-12T14:26:05.331165Z",
     "iopub.status.busy": "2025-07-12T14:26:05.330922Z",
     "iopub.status.idle": "2025-07-12T14:26:05.343329Z",
     "shell.execute_reply": "2025-07-12T14:26:05.342694Z"
    },
    "papermill": {
     "duration": 0.025699,
     "end_time": "2025-07-12T14:26:05.344513",
     "exception": false,
     "start_time": "2025-07-12T14:26:05.318814",
     "status": "completed"
    },
    "tags": []
   },
   "outputs": [
    {
     "data": {
      "text/plain": [
       "((21, 5, 128, 128, 3), (21,))"
      ]
     },
     "execution_count": 20,
     "metadata": {},
     "output_type": "execute_result"
    }
   ],
   "source": [
    "videos, labels = video_generator[3]\n",
    "\n",
    "videos.shape, labels.shape"
   ]
  },
  {
   "cell_type": "code",
   "execution_count": 21,
   "id": "54d47e0b",
   "metadata": {
    "execution": {
     "iopub.execute_input": "2025-07-12T14:26:05.381103Z",
     "iopub.status.busy": "2025-07-12T14:26:05.380790Z",
     "iopub.status.idle": "2025-07-12T14:26:05.386989Z",
     "shell.execute_reply": "2025-07-12T14:26:05.385952Z"
    },
    "papermill": {
     "duration": 0.028582,
     "end_time": "2025-07-12T14:26:05.389045",
     "exception": false,
     "start_time": "2025-07-12T14:26:05.360463",
     "status": "completed"
    },
    "tags": []
   },
   "outputs": [
    {
     "data": {
      "text/plain": [
       "93"
      ]
     },
     "execution_count": 21,
     "metadata": {},
     "output_type": "execute_result"
    }
   ],
   "source": [
    "len(video_generator.videos) "
   ]
  },
  {
   "cell_type": "code",
   "execution_count": 22,
   "id": "55672ec4",
   "metadata": {
    "execution": {
     "iopub.execute_input": "2025-07-12T14:26:05.426782Z",
     "iopub.status.busy": "2025-07-12T14:26:05.426281Z",
     "iopub.status.idle": "2025-07-12T14:26:05.432394Z",
     "shell.execute_reply": "2025-07-12T14:26:05.431568Z"
    },
    "papermill": {
     "duration": 0.024154,
     "end_time": "2025-07-12T14:26:05.433928",
     "exception": false,
     "start_time": "2025-07-12T14:26:05.409774",
     "status": "completed"
    },
    "tags": []
   },
   "outputs": [
    {
     "data": {
      "text/plain": [
       "4"
      ]
     },
     "execution_count": 22,
     "metadata": {},
     "output_type": "execute_result"
    }
   ],
   "source": [
    "len(video_generator)"
   ]
  },
  {
   "cell_type": "markdown",
   "id": "ed1e2b1e",
   "metadata": {
    "papermill": {
     "duration": 0.012013,
     "end_time": "2025-07-12T14:26:05.459998",
     "exception": false,
     "start_time": "2025-07-12T14:26:05.447985",
     "status": "completed"
    },
    "tags": []
   },
   "source": [
    "## Apply ***horizontal flip*** (Augmentation)"
   ]
  },
  {
   "cell_type": "code",
   "execution_count": 23,
   "id": "eac11f89",
   "metadata": {
    "execution": {
     "iopub.execute_input": "2025-07-12T14:26:05.485002Z",
     "iopub.status.busy": "2025-07-12T14:26:05.484441Z",
     "iopub.status.idle": "2025-07-12T14:26:07.834470Z",
     "shell.execute_reply": "2025-07-12T14:26:07.833420Z"
    },
    "papermill": {
     "duration": 2.364865,
     "end_time": "2025-07-12T14:26:07.836472",
     "exception": false,
     "start_time": "2025-07-12T14:26:05.471607",
     "status": "completed"
    },
    "tags": []
   },
   "outputs": [
    {
     "name": "stdout",
     "output_type": "stream",
     "text": [
      "Processing video 93...\r"
     ]
    }
   ],
   "source": [
    "apply_augmentation(horizontal_flip, video_generator)"
   ]
  },
  {
   "cell_type": "code",
   "execution_count": 24,
   "id": "3cdc1262",
   "metadata": {
    "execution": {
     "iopub.execute_input": "2025-07-12T14:26:07.863737Z",
     "iopub.status.busy": "2025-07-12T14:26:07.863515Z",
     "iopub.status.idle": "2025-07-12T14:26:07.867559Z",
     "shell.execute_reply": "2025-07-12T14:26:07.866834Z"
    },
    "papermill": {
     "duration": 0.017998,
     "end_time": "2025-07-12T14:26:07.868602",
     "exception": false,
     "start_time": "2025-07-12T14:26:07.850604",
     "status": "completed"
    },
    "tags": []
   },
   "outputs": [
    {
     "name": "stdout",
     "output_type": "stream",
     "text": [
      "Checking Total Videos and Class Count: 93, 93\n",
      "PENDING Total Videos and Class Count: 93, 93\n"
     ]
    }
   ],
   "source": [
    "print(f\"Checking Total Videos and Class Count: {len(video_generator.videos)}, {len(video_generator.labels)}\")\n",
    "print(f\"PENDING Total Videos and Class Count: {len(video_generator.temp_videos)}, {len(video_generator.temp_labels)}\")"
   ]
  },
  {
   "cell_type": "code",
   "execution_count": 25,
   "id": "4dd776c6",
   "metadata": {
    "execution": {
     "iopub.execute_input": "2025-07-12T14:26:07.893732Z",
     "iopub.status.busy": "2025-07-12T14:26:07.893519Z",
     "iopub.status.idle": "2025-07-12T14:26:07.897202Z",
     "shell.execute_reply": "2025-07-12T14:26:07.896565Z"
    },
    "papermill": {
     "duration": 0.017547,
     "end_time": "2025-07-12T14:26:07.898221",
     "exception": false,
     "start_time": "2025-07-12T14:26:07.880674",
     "status": "completed"
    },
    "tags": []
   },
   "outputs": [
    {
     "name": "stdout",
     "output_type": "stream",
     "text": [
      "Adding 93 videos with 93 classes.\n",
      "Successfully added - 93 videos and 93 classes.\n",
      "Now Total - 186 videos and 186 classes.\n",
      "PENDING for Augmentations - 0 videos and 0 classes.\n"
     ]
    }
   ],
   "source": [
    "video_generator.confirm()"
   ]
  },
  {
   "cell_type": "markdown",
   "id": "9019097a",
   "metadata": {
    "papermill": {
     "duration": 0.011891,
     "end_time": "2025-07-12T14:26:07.922154",
     "exception": false,
     "start_time": "2025-07-12T14:26:07.910263",
     "status": "completed"
    },
    "tags": []
   },
   "source": [
    "## Apply ***Noise*** (Augmentation)"
   ]
  },
  {
   "cell_type": "code",
   "execution_count": 26,
   "id": "06db907e",
   "metadata": {
    "execution": {
     "iopub.execute_input": "2025-07-12T14:26:07.947157Z",
     "iopub.status.busy": "2025-07-12T14:26:07.946974Z",
     "iopub.status.idle": "2025-07-12T14:26:14.202643Z",
     "shell.execute_reply": "2025-07-12T14:26:14.201841Z"
    },
    "papermill": {
     "duration": 6.27038,
     "end_time": "2025-07-12T14:26:14.204267",
     "exception": false,
     "start_time": "2025-07-12T14:26:07.933887",
     "status": "completed"
    },
    "tags": []
   },
   "outputs": [
    {
     "name": "stdout",
     "output_type": "stream",
     "text": [
      "Processing video 186...\r"
     ]
    }
   ],
   "source": [
    "apply_augmentation(noise_video, video_generator)"
   ]
  },
  {
   "cell_type": "code",
   "execution_count": 27,
   "id": "a002a5c4",
   "metadata": {
    "execution": {
     "iopub.execute_input": "2025-07-12T14:26:14.233086Z",
     "iopub.status.busy": "2025-07-12T14:26:14.232530Z",
     "iopub.status.idle": "2025-07-12T14:26:14.237095Z",
     "shell.execute_reply": "2025-07-12T14:26:14.236289Z"
    },
    "papermill": {
     "duration": 0.019817,
     "end_time": "2025-07-12T14:26:14.238294",
     "exception": false,
     "start_time": "2025-07-12T14:26:14.218477",
     "status": "completed"
    },
    "tags": []
   },
   "outputs": [
    {
     "name": "stdout",
     "output_type": "stream",
     "text": [
      "Checking Total Videos and Class Count: 186, 186\n",
      "PENDING Total Videos and Class Count: 186, 186\n"
     ]
    }
   ],
   "source": [
    "print(f\"Checking Total Videos and Class Count: {len(video_generator.videos)}, {len(video_generator.labels)}\")\n",
    "print(f\"PENDING Total Videos and Class Count: {len(video_generator.temp_videos)}, {len(video_generator.temp_labels)}\")"
   ]
  },
  {
   "cell_type": "markdown",
   "id": "d31b1897",
   "metadata": {
    "papermill": {
     "duration": 0.012952,
     "end_time": "2025-07-12T14:26:14.264450",
     "exception": false,
     "start_time": "2025-07-12T14:26:14.251498",
     "status": "completed"
    },
    "tags": []
   },
   "source": [
    "## Apply ***Random Shear x2*** (Augmentation)"
   ]
  },
  {
   "cell_type": "code",
   "execution_count": 28,
   "id": "60179ebb",
   "metadata": {
    "execution": {
     "iopub.execute_input": "2025-07-12T14:26:14.292284Z",
     "iopub.status.busy": "2025-07-12T14:26:14.292022Z",
     "iopub.status.idle": "2025-07-12T14:26:29.561151Z",
     "shell.execute_reply": "2025-07-12T14:26:29.560236Z"
    },
    "papermill": {
     "duration": 15.285089,
     "end_time": "2025-07-12T14:26:29.562637",
     "exception": false,
     "start_time": "2025-07-12T14:26:14.277548",
     "status": "completed"
    },
    "tags": []
   },
   "outputs": [
    {
     "name": "stdout",
     "output_type": "stream",
     "text": [
      "Processing video 558...\r"
     ]
    }
   ],
   "source": [
    "apply_augmentation(apply_shear_frames, video_generator, shear_right=0)\n",
    "apply_augmentation(apply_shear_frames, video_generator, shear_right=1)"
   ]
  },
  {
   "cell_type": "code",
   "execution_count": 29,
   "id": "994ea675",
   "metadata": {
    "execution": {
     "iopub.execute_input": "2025-07-12T14:26:29.589253Z",
     "iopub.status.busy": "2025-07-12T14:26:29.588743Z",
     "iopub.status.idle": "2025-07-12T14:26:29.592763Z",
     "shell.execute_reply": "2025-07-12T14:26:29.592099Z"
    },
    "papermill": {
     "duration": 0.018198,
     "end_time": "2025-07-12T14:26:29.593884",
     "exception": false,
     "start_time": "2025-07-12T14:26:29.575686",
     "status": "completed"
    },
    "tags": []
   },
   "outputs": [
    {
     "name": "stdout",
     "output_type": "stream",
     "text": [
      "Checking Total Videos and Class Count: 186, 186\n",
      "PENDING Total Videos and Class Count: 558, 558\n"
     ]
    }
   ],
   "source": [
    "print(f\"Checking Total Videos and Class Count: {len(video_generator.videos)}, {len(video_generator.labels)}\")\n",
    "print(f\"PENDING Total Videos and Class Count: {len(video_generator.temp_videos)}, {len(video_generator.temp_labels)}\")"
   ]
  },
  {
   "cell_type": "code",
   "execution_count": 30,
   "id": "ca1eee27",
   "metadata": {
    "execution": {
     "iopub.execute_input": "2025-07-12T14:26:29.619576Z",
     "iopub.status.busy": "2025-07-12T14:26:29.619366Z",
     "iopub.status.idle": "2025-07-12T14:26:29.623255Z",
     "shell.execute_reply": "2025-07-12T14:26:29.622588Z"
    },
    "papermill": {
     "duration": 0.018045,
     "end_time": "2025-07-12T14:26:29.624319",
     "exception": false,
     "start_time": "2025-07-12T14:26:29.606274",
     "status": "completed"
    },
    "tags": []
   },
   "outputs": [
    {
     "name": "stdout",
     "output_type": "stream",
     "text": [
      "Adding 558 videos with 558 classes.\n",
      "Successfully added - 558 videos and 558 classes.\n",
      "Now Total - 744 videos and 744 classes.\n",
      "PENDING for Augmentations - 0 videos and 0 classes.\n"
     ]
    }
   ],
   "source": [
    "# confirm changes to generator\n",
    "video_generator.confirm()"
   ]
  },
  {
   "cell_type": "code",
   "execution_count": 31,
   "id": "c17cfca5",
   "metadata": {
    "execution": {
     "iopub.execute_input": "2025-07-12T14:26:29.651289Z",
     "iopub.status.busy": "2025-07-12T14:26:29.651079Z",
     "iopub.status.idle": "2025-07-12T14:26:29.655076Z",
     "shell.execute_reply": "2025-07-12T14:26:29.654315Z"
    },
    "papermill": {
     "duration": 0.018598,
     "end_time": "2025-07-12T14:26:29.656180",
     "exception": false,
     "start_time": "2025-07-12T14:26:29.637582",
     "status": "completed"
    },
    "tags": []
   },
   "outputs": [
    {
     "name": "stdout",
     "output_type": "stream",
     "text": [
      "Checking Video Generator Total Videos and Class Count: 744, 744\n"
     ]
    }
   ],
   "source": [
    "print(f\"Checking Video Generator Total Videos and Class Count: {len(video_generator.videos)}, {len(video_generator.labels)}\")"
   ]
  },
  {
   "cell_type": "markdown",
   "id": "12be694b",
   "metadata": {
    "papermill": {
     "duration": 0.012991,
     "end_time": "2025-07-12T14:26:29.682330",
     "exception": false,
     "start_time": "2025-07-12T14:26:29.669339",
     "status": "completed"
    },
    "tags": []
   },
   "source": [
    "## Cheking (Output)"
   ]
  },
  {
   "cell_type": "code",
   "execution_count": 32,
   "id": "e40c239f",
   "metadata": {
    "execution": {
     "iopub.execute_input": "2025-07-12T14:26:29.708962Z",
     "iopub.status.busy": "2025-07-12T14:26:29.708653Z",
     "iopub.status.idle": "2025-07-12T14:26:30.085746Z",
     "shell.execute_reply": "2025-07-12T14:26:30.085101Z"
    },
    "papermill": {
     "duration": 0.393307,
     "end_time": "2025-07-12T14:26:30.088373",
     "exception": false,
     "start_time": "2025-07-12T14:26:29.695066",
     "status": "completed"
    },
    "tags": []
   },
   "outputs": [
    {
     "name": "stdout",
     "output_type": "stream",
     "text": [
      "(24, 5, 128, 128, 3) (24,)\n"
     ]
    },
    {
     "data": {
      "image/png": "[encoded data removed]",
      "text/plain": [
       "<Figure size 1000x500 with 2 Axes>"
      ]
     },
     "metadata": {},
     "output_type": "display_data"
    },
    {
     "name": "stdout",
     "output_type": "stream",
     "text": [
      "Might be two different action, but to check the flipping focus on the door behind.\n"
     ]
    }
   ],
   "source": [
    "# check horizontal flips\n",
    "videos, labels = video_generator[7]\n",
    "videos1, labels1 = video_generator[1]\n",
    "\n",
    "print(videos.shape, labels.shape)\n",
    "\n",
    "show_frame_vs(videos[0,0],videos1[1,0], title1=\"Flipped Frame 1\", title2=\"Non Flipped Frame 1\")\n",
    "print(\"Might be two different action, but to check the flipping focus on the door behind.\")"
   ]
  },
  {
   "cell_type": "markdown",
   "id": "0c8b8650",
   "metadata": {
    "papermill": {
     "duration": 0.014644,
     "end_time": "2025-07-12T14:26:30.119042",
     "exception": false,
     "start_time": "2025-07-12T14:26:30.104398",
     "status": "completed"
    },
    "tags": []
   },
   "source": [
    "# 🧪 Test Augmentation (Output)\n",
    "## 🖼️ Horizontal Flip Output"
   ]
  },
  {
   "cell_type": "code",
   "execution_count": 33,
   "id": "1b58a8db",
   "metadata": {
    "execution": {
     "iopub.execute_input": "2025-07-12T14:26:30.149620Z",
     "iopub.status.busy": "2025-07-12T14:26:30.149408Z",
     "iopub.status.idle": "2025-07-12T14:26:30.152293Z",
     "shell.execute_reply": "2025-07-12T14:26:30.151779Z"
    },
    "papermill": {
     "duration": 0.019479,
     "end_time": "2025-07-12T14:26:30.153251",
     "exception": false,
     "start_time": "2025-07-12T14:26:30.133772",
     "status": "completed"
    },
    "tags": []
   },
   "outputs": [],
   "source": [
    "# flipped_video_1 = horizontal_flip(features[0])\n",
    "\n",
    "# flipped_video_1=np.asarray(flipped_video_1)\n",
    "\n",
    "# show_frame(flipped_video_1[0])\n",
    "# flipped_video_1.shape"
   ]
  },
  {
   "cell_type": "markdown",
   "id": "d0065cf6",
   "metadata": {
    "papermill": {
     "duration": 0.014576,
     "end_time": "2025-07-12T14:26:30.182695",
     "exception": false,
     "start_time": "2025-07-12T14:26:30.168119",
     "status": "completed"
    },
    "tags": []
   },
   "source": [
    "## 🖼️ Salt and Pepper Noise Output"
   ]
  },
  {
   "cell_type": "code",
   "execution_count": 34,
   "id": "eca99228",
   "metadata": {
    "execution": {
     "iopub.execute_input": "2025-07-12T14:26:30.213921Z",
     "iopub.status.busy": "2025-07-12T14:26:30.213691Z",
     "iopub.status.idle": "2025-07-12T14:26:30.216661Z",
     "shell.execute_reply": "2025-07-12T14:26:30.216082Z"
    },
    "papermill": {
     "duration": 0.020211,
     "end_time": "2025-07-12T14:26:30.217725",
     "exception": false,
     "start_time": "2025-07-12T14:26:30.197514",
     "status": "completed"
    },
    "tags": []
   },
   "outputs": [],
   "source": [
    "# noised_video = noise_video(features[0])\n",
    "\n",
    "# print(noised_video.shape)\n",
    "# show_frame(noised_video[0])"
   ]
  },
  {
   "cell_type": "markdown",
   "id": "5e30c0ae",
   "metadata": {
    "papermill": {
     "duration": 0.016318,
     "end_time": "2025-07-12T14:26:30.250032",
     "exception": false,
     "start_time": "2025-07-12T14:26:30.233714",
     "status": "completed"
    },
    "tags": []
   },
   "source": [
    "## 🖼️ Random Shear Output"
   ]
  },
  {
   "cell_type": "code",
   "execution_count": 35,
   "id": "8c850f7d",
   "metadata": {
    "execution": {
     "iopub.execute_input": "2025-07-12T14:26:30.282347Z",
     "iopub.status.busy": "2025-07-12T14:26:30.281628Z",
     "iopub.status.idle": "2025-07-12T14:26:30.284883Z",
     "shell.execute_reply": "2025-07-12T14:26:30.284335Z"
    },
    "papermill": {
     "duration": 0.020594,
     "end_time": "2025-07-12T14:26:30.286009",
     "exception": false,
     "start_time": "2025-07-12T14:26:30.265415",
     "status": "completed"
    },
    "tags": []
   },
   "outputs": [],
   "source": [
    "# print(features.shape)\n",
    "\n",
    "# sheared_1 = apply_shear_frames(features[0], shear_right=0)\n",
    "# sheared_2 = apply_shear_frames(features[0], shear_right=1)\n",
    "\n",
    "# sheared_1 = np.asarray(sheared_1)\n",
    "# sheared_2 = np.asarray(sheared_2)\n",
    "\n",
    "# print(sheared_1.shape)\n",
    "# show_frame(sheared_1[0])\n",
    "# show_frame(sheared_2[0])"
   ]
  },
  {
   "cell_type": "markdown",
   "id": "8d4bf1e4",
   "metadata": {
    "papermill": {
     "duration": 0.01497,
     "end_time": "2025-07-12T14:26:30.316717",
     "exception": false,
     "start_time": "2025-07-12T14:26:30.301747",
     "status": "completed"
    },
    "tags": []
   },
   "source": [
    "# 📌 Preparing Data for Training"
   ]
  },
  {
   "cell_type": "code",
   "execution_count": 36,
   "id": "87f7443d",
   "metadata": {
    "execution": {
     "iopub.execute_input": "2025-07-12T14:26:30.349264Z",
     "iopub.status.busy": "2025-07-12T14:26:30.348724Z",
     "iopub.status.idle": "2025-07-12T14:26:30.825213Z",
     "shell.execute_reply": "2025-07-12T14:26:30.824618Z"
    },
    "papermill": {
     "duration": 0.493496,
     "end_time": "2025-07-12T14:26:30.826532",
     "exception": false,
     "start_time": "2025-07-12T14:26:30.333036",
     "status": "completed"
    },
    "tags": []
   },
   "outputs": [],
   "source": [
    "# Clear previous session to free memory\n",
    "import gc\n",
    "\n",
    "gc.collect()\n",
    "tf.keras.backend.clear_session()"
   ]
  },
  {
   "cell_type": "markdown",
   "id": "1c22eac8",
   "metadata": {
    "papermill": {
     "duration": 0.016914,
     "end_time": "2025-07-12T14:26:30.860882",
     "exception": false,
     "start_time": "2025-07-12T14:26:30.843968",
     "status": "completed"
    },
    "tags": []
   },
   "source": [
    "## Splitting data for ***Trainig*** and ***Testing***"
   ]
  },
  {
   "cell_type": "code",
   "execution_count": 37,
   "id": "cebb3fff",
   "metadata": {
    "execution": {
     "iopub.execute_input": "2025-07-12T14:26:30.893165Z",
     "iopub.status.busy": "2025-07-12T14:26:30.892478Z",
     "iopub.status.idle": "2025-07-12T14:26:31.133503Z",
     "shell.execute_reply": "2025-07-12T14:26:31.132849Z"
    },
    "papermill": {
     "duration": 0.258493,
     "end_time": "2025-07-12T14:26:31.134649",
     "exception": false,
     "start_time": "2025-07-12T14:26:30.876156",
     "status": "completed"
    },
    "tags": []
   },
   "outputs": [
    {
     "data": {
      "text/plain": [
       "((744, 5, 128, 128, 3), (744,))"
      ]
     },
     "execution_count": 37,
     "metadata": {},
     "output_type": "execute_result"
    }
   ],
   "source": [
    "videos = video_generator.videos\n",
    "labels = video_generator.labels\n",
    "\n",
    "videos = np.array(videos, dtype='float32')\n",
    "labels = np.array(labels)\n",
    "\n",
    "videos.shape, labels.shape"
   ]
  },
  {
   "cell_type": "code",
   "execution_count": 38,
   "id": "9ef9cb3e",
   "metadata": {
    "execution": {
     "iopub.execute_input": "2025-07-12T14:26:31.167006Z",
     "iopub.status.busy": "2025-07-12T14:26:31.166755Z",
     "iopub.status.idle": "2025-07-12T14:26:31.171726Z",
     "shell.execute_reply": "2025-07-12T14:26:31.171216Z"
    },
    "papermill": {
     "duration": 0.022028,
     "end_time": "2025-07-12T14:26:31.172856",
     "exception": false,
     "start_time": "2025-07-12T14:26:31.150828",
     "status": "completed"
    },
    "tags": []
   },
   "outputs": [
    {
     "data": {
      "text/plain": [
       "(744, 10)"
      ]
     },
     "execution_count": 38,
     "metadata": {},
     "output_type": "execute_result"
    }
   ],
   "source": [
    "from tensorflow.keras.utils import to_categorical\n",
    "\n",
    "one_hot_encoded_labels = to_categorical(labels)\n",
    "\n",
    "one_hot_encoded_labels.shape"
   ]
  },
  {
   "cell_type": "code",
   "execution_count": 39,
   "id": "0bbecb4b",
   "metadata": {
    "execution": {
     "iopub.execute_input": "2025-07-12T14:26:31.204068Z",
     "iopub.status.busy": "2025-07-12T14:26:31.203683Z",
     "iopub.status.idle": "2025-07-12T14:26:31.424743Z",
     "shell.execute_reply": "2025-07-12T14:26:31.424189Z"
    },
    "papermill": {
     "duration": 0.237536,
     "end_time": "2025-07-12T14:26:31.425733",
     "exception": false,
     "start_time": "2025-07-12T14:26:31.188197",
     "status": "completed"
    },
    "tags": []
   },
   "outputs": [
    {
     "data": {
      "text/plain": [
       "0"
      ]
     },
     "execution_count": 39,
     "metadata": {},
     "output_type": "execute_result"
    }
   ],
   "source": [
    "gc.collect()"
   ]
  },
  {
   "cell_type": "code",
   "execution_count": 40,
   "id": "a5c4c05c",
   "metadata": {
    "execution": {
     "iopub.execute_input": "2025-07-12T14:26:31.458347Z",
     "iopub.status.busy": "2025-07-12T14:26:31.457723Z",
     "iopub.status.idle": "2025-07-12T14:26:31.892605Z",
     "shell.execute_reply": "2025-07-12T14:26:31.891788Z"
    },
    "papermill": {
     "duration": 0.452461,
     "end_time": "2025-07-12T14:26:31.894100",
     "exception": false,
     "start_time": "2025-07-12T14:26:31.441639",
     "status": "completed"
    },
    "tags": []
   },
   "outputs": [
    {
     "data": {
      "text/plain": [
       "((595, 5, 128, 128, 3), (595, 10), (149, 5, 128, 128, 3), (149, 10))"
      ]
     },
     "execution_count": 40,
     "metadata": {},
     "output_type": "execute_result"
    }
   ],
   "source": [
    "# RUN Split the Data into Train ( 75% ) and Test Set ( 25% ).\n",
    "from sklearn.model_selection import train_test_split\n",
    "features_train, features_test, labels_train, labels_test = train_test_split(videos,\n",
    "                                                                            one_hot_encoded_labels,\n",
    "                                                                            test_size = TEST_SIZE,\n",
    "                                                                            shuffle = True,\n",
    "                                                                            random_state = seed_constant)\n",
    "\n",
    "features_train.shape, labels_train.shape, features_test.shape, labels_test.shape"
   ]
  },
  {
   "cell_type": "markdown",
   "id": "6e17bec5",
   "metadata": {
    "papermill": {
     "duration": 0.01523,
     "end_time": "2025-07-12T14:26:31.926629",
     "exception": false,
     "start_time": "2025-07-12T14:26:31.911399",
     "status": "completed"
    },
    "tags": []
   },
   "source": [
    "## Splitting data for ***Training Set*** and ***Validation Set***"
   ]
  },
  {
   "cell_type": "code",
   "execution_count": 41,
   "id": "39dd4e39",
   "metadata": {
    "execution": {
     "iopub.execute_input": "2025-07-12T14:26:31.959045Z",
     "iopub.status.busy": "2025-07-12T14:26:31.958499Z",
     "iopub.status.idle": "2025-07-12T14:26:31.964365Z",
     "shell.execute_reply": "2025-07-12T14:26:31.963677Z"
    },
    "papermill": {
     "duration": 0.023163,
     "end_time": "2025-07-12T14:26:31.965397",
     "exception": false,
     "start_time": "2025-07-12T14:26:31.942234",
     "status": "completed"
    },
    "tags": []
   },
   "outputs": [
    {
     "data": {
      "text/plain": [
       "((476, 5, 128, 128, 3), (476, 10), (119, 5, 128, 128, 3), (119, 10))"
      ]
     },
     "execution_count": 41,
     "metadata": {},
     "output_type": "execute_result"
    }
   ],
   "source": [
    "# Assuming features_train and labels_train are defined\n",
    "train_set = 1-VALIDATION_SPLIT\n",
    "\n",
    "train_video_frames, val_video_frames = features_train[:int(train_set * len(features_train))], features_train[int(train_set * len(features_train)):]\n",
    "train_labels, val_labels = labels_train[:int(train_set * len(labels_train))], labels_train[int(train_set * len(labels_train)):]\n",
    "\n",
    "train_video_frames.shape, train_labels.shape, val_video_frames.shape, val_labels.shape"
   ]
  },
  {
   "cell_type": "markdown",
   "id": "d9794718",
   "metadata": {
    "papermill": {
     "duration": 0.015053,
     "end_time": "2025-07-12T14:26:31.996199",
     "exception": false,
     "start_time": "2025-07-12T14:26:31.981146",
     "status": "completed"
    },
    "tags": []
   },
   "source": [
    "## Use Generator `Video Data Generator`"
   ]
  },
  {
   "cell_type": "code",
   "execution_count": 42,
   "id": "c7c1011a",
   "metadata": {
    "execution": {
     "iopub.execute_input": "2025-07-12T14:26:32.027588Z",
     "iopub.status.busy": "2025-07-12T14:26:32.027380Z",
     "iopub.status.idle": "2025-07-12T14:26:32.033358Z",
     "shell.execute_reply": "2025-07-12T14:26:32.032624Z"
    },
    "papermill": {
     "duration": 0.023005,
     "end_time": "2025-07-12T14:26:32.034370",
     "exception": false,
     "start_time": "2025-07-12T14:26:32.011365",
     "status": "completed"
    },
    "tags": []
   },
   "outputs": [
    {
     "name": "stdout",
     "output_type": "stream",
     "text": [
      "Total 476 videos and 476 classes\n",
      "Total 119 videos and 119 classes\n"
     ]
    },
    {
     "data": {
      "text/plain": [
       "(20, 5)"
      ]
     },
     "execution_count": 42,
     "metadata": {},
     "output_type": "execute_result"
    }
   ],
   "source": [
    "# Create the training and validation generators\n",
    "train_gen = VideoDataGenerator(\n",
    "    videos=train_video_frames, \n",
    "    labels=train_labels, \n",
    "    batch_size=BATCH_SIZE,\n",
    ")\n",
    "\n",
    "val_gen = VideoDataGenerator(\n",
    "    videos=val_video_frames, \n",
    "    labels=val_labels, \n",
    "    batch_size=BATCH_SIZE,\n",
    ")\n",
    "\n",
    "len(train_gen), len(val_gen)"
   ]
  },
  {
   "cell_type": "markdown",
   "id": "d50d7a6d",
   "metadata": {
    "papermill": {
     "duration": 0.015071,
     "end_time": "2025-07-12T14:26:32.064724",
     "exception": false,
     "start_time": "2025-07-12T14:26:32.049653",
     "status": "completed"
    },
    "tags": []
   },
   "source": [
    "## Inspect ***Generator*** Data on Epochs"
   ]
  },
  {
   "cell_type": "code",
   "execution_count": 43,
   "id": "b95f42e6",
   "metadata": {
    "execution": {
     "iopub.execute_input": "2025-07-12T14:26:32.099441Z",
     "iopub.status.busy": "2025-07-12T14:26:32.098636Z",
     "iopub.status.idle": "2025-07-12T14:26:32.110955Z",
     "shell.execute_reply": "2025-07-12T14:26:32.110202Z"
    },
    "papermill": {
     "duration": 0.03151,
     "end_time": "2025-07-12T14:26:32.112041",
     "exception": false,
     "start_time": "2025-07-12T14:26:32.080531",
     "status": "completed"
    },
    "tags": []
   },
   "outputs": [
    {
     "name": "stdout",
     "output_type": "stream",
     "text": [
      "[  0   1   2   3   4   5   6   7   8   9  10  11  12  13  14  15  16  17\n",
      "  18  19  20  21  22  23  24  25  26  27  28  29  30  31  32  33  34  35\n",
      "  36  37  38  39  40  41  42  43  44  45  46  47  48  49  50  51  52  53\n",
      "  54  55  56  57  58  59  60  61  62  63  64  65  66  67  68  69  70  71\n",
      "  72  73  74  75  76  77  78  79  80  81  82  83  84  85  86  87  88  89\n",
      "  90  91  92  93  94  95  96  97  98  99 100 101 102 103 104 105 106 107\n",
      " 108 109 110 111 112 113 114 115 116 117 118 119 120 121 122 123 124 125\n",
      " 126 127 128 129 130 131 132 133 134 135 136 137 138 139 140 141 142 143\n",
      " 144 145 146 147 148 149 150 151 152 153 154 155 156 157 158 159 160 161\n",
      " 162 163 164 165 166 167 168 169 170 171 172 173 174 175 176 177 178 179\n",
      " 180 181 182 183 184 185 186 187 188 189 190 191 192 193 194 195 196 197\n",
      " 198 199 200 201 202 203 204 205 206 207 208 209 210 211 212 213 214 215\n",
      " 216 217 218 219 220 221 222 223 224 225 226 227 228 229 230 231 232 233\n",
      " 234 235 236 237 238 239 240 241 242 243 244 245 246 247 248 249 250 251\n",
      " 252 253 254 255 256 257 258 259 260 261 262 263 264 265 266 267 268 269\n",
      " 270 271 272 273 274 275 276 277 278 279 280 281 282 283 284 285 286 287\n",
      " 288 289 290 291 292 293 294 295 296 297 298 299 300 301 302 303 304 305\n",
      " 306 307 308 309 310 311 312 313 314 315 316 317 318 319 320 321 322 323\n",
      " 324 325 326 327 328 329 330 331 332 333 334 335 336 337 338 339 340 341\n",
      " 342 343 344 345 346 347 348 349 350 351 352 353 354 355 356 357 358 359\n",
      " 360 361 362 363 364 365 366 367 368 369 370 371 372 373 374 375 376 377\n",
      " 378 379 380 381 382 383 384 385 386 387 388 389 390 391 392 393 394 395\n",
      " 396 397 398 399 400 401 402 403 404 405 406 407 408 409 410 411 412 413\n",
      " 414 415 416 417 418 419 420 421 422 423 424 425 426 427 428 429 430 431\n",
      " 432 433 434 435 436 437 438 439 440 441 442 443 444 445 446 447 448 449\n",
      " 450 451 452 453 454 455 456 457 458 459 460 461 462 463 464 465 466 467\n",
      " 468 469 470 471 472 473 474 475]\n",
      "[205 430 304 277 132 355 237 204 413 113 254 326 387 183 337 445 279 139\n",
      "  27 321 440 252  96 429 453  57 377 216 168  34 333 365 212  31 443 315\n",
      "  82 405  21 314  73 107 261 106 363 220 225 448 104 378 345 111 399  14\n",
      " 423 100 319 353 364 327 251  25 235 395 145 406   1 114 325 126 266 284\n",
      " 268 459 306 384 332 318 381 351 302  10 187 293  37 452 219 197 146  66\n",
      " 287 341  19 391 359 461 472 463 274 349 444 190 415 425 390 348 194 178\n",
      " 121  72 285 143 344  50 320 228   6 189  11 117  48  17 241 416 324 226\n",
      " 421  77 215 432 174 176 211  28 300 179 396 288  49 373 281  65  99 130\n",
      " 433  42 369 157 462 164  76 385 127  90  79 379 224 271 165 260 250  30\n",
      "  92  59 163 193  84 247 182 259   9 383 141 123 290 263 414 329 110 402\n",
      " 368  74 456  16 242 144 289 454  20 172 468 256 420 278  33 196 129 217\n",
      " 244  64  98  78 441  15 449 426 169 249 434 152 191 398 229 424 262 438\n",
      "  12  45  36  94 166  40 273 404 328 280 455 148 305 392 198 170 397 223\n",
      " 330 199 446 109 296 467 231  81  61 243 310 470 134 408 372 299 227 282\n",
      " 389 407 151 388 236 316 403 255 128  93 175 253 180  88  89  86  29 188\n",
      " 346 233 342 119 386 469 238 120 156 428 412 311 103 162 160 475 436 200\n",
      " 208 108 435 101 291  38 246 292  85 447 184 298 136 258 177 122 380 147\n",
      " 214 474  71 240 185 173   3 158 400  35  53 234 336 374 105 464 267 269\n",
      " 286 360 331 350 340 431 427 303 376  87 218 409 209 264 153   8 150 308\n",
      " 460 295  26 135 313 442 131 167 230  22 410 366  24  46 257 301 202 339\n",
      " 347  67 362  63 221  56 394  23 307 418 361 206 112  62 133 213 352  41\n",
      " 125   7  51  70  39 451 422 419 155 159  69 439 201 417  60 471  83 466\n",
      " 181 375  18  47  97 116  43 356 450 437 312 276 161 102 323 473 322   5\n",
      " 309  54 358 142 115  68 138  52  32   0 265 186 239 245 171 370 124  13\n",
      " 367 465   4  58 272  75 283 270 137 382 334   2  44 203 411  95 335 207\n",
      " 354 357 154 222 297 192 317 338 210 457  55 401  80  91 118 458 371 149\n",
      " 294 232 393 195 275 140 343 248]\n"
     ]
    },
    {
     "data": {
      "text/plain": [
       "(24, (24, 5, 128, 128, 3), (24, 10))"
      ]
     },
     "execution_count": 43,
     "metadata": {},
     "output_type": "execute_result"
    }
   ],
   "source": [
    "features, labels = train_gen[1]\n",
    "\n",
    "print(train_gen.indices)\n",
    "\n",
    "train_gen.on_epoch_end()\n",
    "\n",
    "print(train_gen.indices)\n",
    "\n",
    "BATCH_SIZE, features.shape, labels.shape"
   ]
  },
  {
   "cell_type": "markdown",
   "id": "3eebe2d4",
   "metadata": {
    "papermill": {
     "duration": 0.016509,
     "end_time": "2025-07-12T14:26:32.145114",
     "exception": false,
     "start_time": "2025-07-12T14:26:32.128605",
     "status": "completed"
    },
    "tags": []
   },
   "source": [
    "## Compute Class Weight"
   ]
  },
  {
   "cell_type": "code",
   "execution_count": 44,
   "id": "84e81d33",
   "metadata": {
    "execution": {
     "iopub.execute_input": "2025-07-12T14:26:32.178371Z",
     "iopub.status.busy": "2025-07-12T14:26:32.178158Z",
     "iopub.status.idle": "2025-07-12T14:26:32.183834Z",
     "shell.execute_reply": "2025-07-12T14:26:32.183208Z"
    },
    "papermill": {
     "duration": 0.023428,
     "end_time": "2025-07-12T14:26:32.184912",
     "exception": false,
     "start_time": "2025-07-12T14:26:32.161484",
     "status": "completed"
    },
    "tags": []
   },
   "outputs": [
    {
     "name": "stdout",
     "output_type": "stream",
     "text": [
      "Class weights: {0: 1.0333333333333334, 1: 0.93, 2: 1.0333333333333334, 3: 1.0333333333333334, 4: 0.93, 5: 1.0333333333333334, 6: 1.0333333333333334, 7: 0.93, 8: 1.0333333333333334, 9: 1.0333333333333334}\n"
     ]
    }
   ],
   "source": [
    "from sklearn.utils.class_weight import compute_class_weight\n",
    "import numpy as np\n",
    "\n",
    "# Assuming y_int are integer labels (not one-hot)\n",
    "y_int = np.argmax(one_hot_encoded_labels, axis=1)  # or just integer labels if you have them\n",
    "\n",
    "classes = np.arange(NO_OF_CLASSES)  # e.g. np.arange(16)\n",
    "class_weights_values = compute_class_weight(class_weight='balanced', classes=classes, y=y_int)\n",
    "\n",
    "class_weights = dict(zip(classes, class_weights_values))\n",
    "\n",
    "print(\"Class weights:\", class_weights)\n"
   ]
  },
  {
   "cell_type": "code",
   "execution_count": 45,
   "id": "2a21f354",
   "metadata": {
    "execution": {
     "iopub.execute_input": "2025-07-12T14:26:32.218790Z",
     "iopub.status.busy": "2025-07-12T14:26:32.218208Z",
     "iopub.status.idle": "2025-07-12T14:26:32.444126Z",
     "shell.execute_reply": "2025-07-12T14:26:32.443495Z"
    },
    "papermill": {
     "duration": 0.243388,
     "end_time": "2025-07-12T14:26:32.445408",
     "exception": false,
     "start_time": "2025-07-12T14:26:32.202020",
     "status": "completed"
    },
    "tags": []
   },
   "outputs": [],
   "source": [
    "gc.collect()\n",
    "del videos, one_hot_encoded_labels, labels_train\n",
    "del features_train, val_labels, train_labels\n",
    "del val_video_frames, train_video_frames"
   ]
  },
  {
   "cell_type": "markdown",
   "id": "4eedd43c",
   "metadata": {
    "papermill": {
     "duration": 0.016148,
     "end_time": "2025-07-12T14:26:32.478387",
     "exception": false,
     "start_time": "2025-07-12T14:26:32.462239",
     "status": "completed"
    },
    "tags": []
   },
   "source": [
    "# ✨ Model Execution\n",
    "## Creating Model"
   ]
  },
  {
   "cell_type": "code",
   "execution_count": 46,
   "id": "196dcc05",
   "metadata": {
    "execution": {
     "iopub.execute_input": "2025-07-12T14:26:32.511107Z",
     "iopub.status.busy": "2025-07-12T14:26:32.510861Z",
     "iopub.status.idle": "2025-07-12T14:26:33.773421Z",
     "shell.execute_reply": "2025-07-12T14:26:33.772650Z"
    },
    "papermill": {
     "duration": 1.280295,
     "end_time": "2025-07-12T14:26:33.774466",
     "exception": false,
     "start_time": "2025-07-12T14:26:32.494171",
     "status": "completed"
    },
    "tags": []
   },
   "outputs": [
    {
     "name": "stdout",
     "output_type": "stream",
     "text": [
      "Loading Xception base model...\n",
      "Model architecture created successfully!\n"
     ]
    },
    {
     "name": "stderr",
     "output_type": "stream",
     "text": [
      "/usr/local/lib/python3.11/dist-packages/keras/src/layers/core/wrapper.py:27: UserWarning: Do not pass an `input_shape`/`input_dim` argument to a layer. When using Sequential models, prefer using an `Input(shape)` object as the first layer in the model instead.\n",
      "  super().__init__(**kwargs)\n"
     ]
    },
    {
     "data": {
      "text/html": [
       "<pre style=\"white-space:pre;overflow-x:auto;line-height:normal;font-family:Menlo,'DejaVu Sans Mono',consolas,'Courier New',monospace\"><span style=\"font-weight: bold\">Model: \"sequential\"</span>\n",
       "</pre>\n"
      ],
      "text/plain": [
       "\u001b[1mModel: \"sequential\"\u001b[0m\n"
      ]
     },
     "metadata": {},
     "output_type": "display_data"
    },
    {
     "data": {
      "text/html": [
       "<pre style=\"white-space:pre;overflow-x:auto;line-height:normal;font-family:Menlo,'DejaVu Sans Mono',consolas,'Courier New',monospace\">┏━━━━━━━━━━━━━━━━━━━━━━━━━━━━━━━━━┳━━━━━━━━━━━━━━━━━━━━━━━━┳━━━━━━━━━━━━━━━┓\n",
       "┃<span style=\"font-weight: bold\"> Layer (type)                    </span>┃<span style=\"font-weight: bold\"> Output Shape           </span>┃<span style=\"font-weight: bold\">       Param # </span>┃\n",
       "┡━━━━━━━━━━━━━━━━━━━━━━━━━━━━━━━━━╇━━━━━━━━━━━━━━━━━━━━━━━━╇━━━━━━━━━━━━━━━┩\n",
       "│ time_distributed                │ (<span style=\"color: #00d7ff; text-decoration-color: #00d7ff\">None</span>, <span style=\"color: #00af00; text-decoration-color: #00af00\">5</span>, <span style=\"color: #00af00; text-decoration-color: #00af00\">4</span>, <span style=\"color: #00af00; text-decoration-color: #00af00\">4</span>, <span style=\"color: #00af00; text-decoration-color: #00af00\">2048</span>)  │    <span style=\"color: #00af00; text-decoration-color: #00af00\">20,861,480</span> │\n",
       "│ (<span style=\"color: #0087ff; text-decoration-color: #0087ff\">TimeDistributed</span>)               │                        │               │\n",
       "├─────────────────────────────────┼────────────────────────┼───────────────┤\n",
       "│ time_distributed_1              │ (<span style=\"color: #00d7ff; text-decoration-color: #00d7ff\">None</span>, <span style=\"color: #00af00; text-decoration-color: #00af00\">5</span>, <span style=\"color: #00af00; text-decoration-color: #00af00\">2048</span>)        │             <span style=\"color: #00af00; text-decoration-color: #00af00\">0</span> │\n",
       "│ (<span style=\"color: #0087ff; text-decoration-color: #0087ff\">TimeDistributed</span>)               │                        │               │\n",
       "├─────────────────────────────────┼────────────────────────┼───────────────┤\n",
       "│ lstm (<span style=\"color: #0087ff; text-decoration-color: #0087ff\">LSTM</span>)                     │ (<span style=\"color: #00d7ff; text-decoration-color: #00d7ff\">None</span>, <span style=\"color: #00af00; text-decoration-color: #00af00\">128</span>)            │     <span style=\"color: #00af00; text-decoration-color: #00af00\">1,114,624</span> │\n",
       "├─────────────────────────────────┼────────────────────────┼───────────────┤\n",
       "│ batch_normalization             │ (<span style=\"color: #00d7ff; text-decoration-color: #00d7ff\">None</span>, <span style=\"color: #00af00; text-decoration-color: #00af00\">128</span>)            │           <span style=\"color: #00af00; text-decoration-color: #00af00\">512</span> │\n",
       "│ (<span style=\"color: #0087ff; text-decoration-color: #0087ff\">BatchNormalization</span>)            │                        │               │\n",
       "├─────────────────────────────────┼────────────────────────┼───────────────┤\n",
       "│ dropout_lstm (<span style=\"color: #0087ff; text-decoration-color: #0087ff\">Dropout</span>)          │ (<span style=\"color: #00d7ff; text-decoration-color: #00d7ff\">None</span>, <span style=\"color: #00af00; text-decoration-color: #00af00\">128</span>)            │             <span style=\"color: #00af00; text-decoration-color: #00af00\">0</span> │\n",
       "├─────────────────────────────────┼────────────────────────┼───────────────┤\n",
       "│ dense (<span style=\"color: #0087ff; text-decoration-color: #0087ff\">Dense</span>)                   │ (<span style=\"color: #00d7ff; text-decoration-color: #00d7ff\">None</span>, <span style=\"color: #00af00; text-decoration-color: #00af00\">512</span>)            │        <span style=\"color: #00af00; text-decoration-color: #00af00\">66,048</span> │\n",
       "├─────────────────────────────────┼────────────────────────┼───────────────┤\n",
       "│ dropout_dense (<span style=\"color: #0087ff; text-decoration-color: #0087ff\">Dropout</span>)         │ (<span style=\"color: #00d7ff; text-decoration-color: #00d7ff\">None</span>, <span style=\"color: #00af00; text-decoration-color: #00af00\">512</span>)            │             <span style=\"color: #00af00; text-decoration-color: #00af00\">0</span> │\n",
       "├─────────────────────────────────┼────────────────────────┼───────────────┤\n",
       "│ dense_1 (<span style=\"color: #0087ff; text-decoration-color: #0087ff\">Dense</span>)                 │ (<span style=\"color: #00d7ff; text-decoration-color: #00d7ff\">None</span>, <span style=\"color: #00af00; text-decoration-color: #00af00\">10</span>)             │         <span style=\"color: #00af00; text-decoration-color: #00af00\">5,130</span> │\n",
       "└─────────────────────────────────┴────────────────────────┴───────────────┘\n",
       "</pre>\n"
      ],
      "text/plain": [
       "┏━━━━━━━━━━━━━━━━━━━━━━━━━━━━━━━━━┳━━━━━━━━━━━━━━━━━━━━━━━━┳━━━━━━━━━━━━━━━┓\n",
       "┃\u001b[1m \u001b[0m\u001b[1mLayer (type)                   \u001b[0m\u001b[1m \u001b[0m┃\u001b[1m \u001b[0m\u001b[1mOutput Shape          \u001b[0m\u001b[1m \u001b[0m┃\u001b[1m \u001b[0m\u001b[1m      Param #\u001b[0m\u001b[1m \u001b[0m┃\n",
       "┡━━━━━━━━━━━━━━━━━━━━━━━━━━━━━━━━━╇━━━━━━━━━━━━━━━━━━━━━━━━╇━━━━━━━━━━━━━━━┩\n",
       "│ time_distributed                │ (\u001b[38;5;45mNone\u001b[0m, \u001b[38;5;34m5\u001b[0m, \u001b[38;5;34m4\u001b[0m, \u001b[38;5;34m4\u001b[0m, \u001b[38;5;34m2048\u001b[0m)  │    \u001b[38;5;34m20,861,480\u001b[0m │\n",
       "│ (\u001b[38;5;33mTimeDistributed\u001b[0m)               │                        │               │\n",
       "├─────────────────────────────────┼────────────────────────┼───────────────┤\n",
       "│ time_distributed_1              │ (\u001b[38;5;45mNone\u001b[0m, \u001b[38;5;34m5\u001b[0m, \u001b[38;5;34m2048\u001b[0m)        │             \u001b[38;5;34m0\u001b[0m │\n",
       "│ (\u001b[38;5;33mTimeDistributed\u001b[0m)               │                        │               │\n",
       "├─────────────────────────────────┼────────────────────────┼───────────────┤\n",
       "│ lstm (\u001b[38;5;33mLSTM\u001b[0m)                     │ (\u001b[38;5;45mNone\u001b[0m, \u001b[38;5;34m128\u001b[0m)            │     \u001b[38;5;34m1,114,624\u001b[0m │\n",
       "├─────────────────────────────────┼────────────────────────┼───────────────┤\n",
       "│ batch_normalization             │ (\u001b[38;5;45mNone\u001b[0m, \u001b[38;5;34m128\u001b[0m)            │           \u001b[38;5;34m512\u001b[0m │\n",
       "│ (\u001b[38;5;33mBatchNormalization\u001b[0m)            │                        │               │\n",
       "├─────────────────────────────────┼────────────────────────┼───────────────┤\n",
       "│ dropout_lstm (\u001b[38;5;33mDropout\u001b[0m)          │ (\u001b[38;5;45mNone\u001b[0m, \u001b[38;5;34m128\u001b[0m)            │             \u001b[38;5;34m0\u001b[0m │\n",
       "├─────────────────────────────────┼────────────────────────┼───────────────┤\n",
       "│ dense (\u001b[38;5;33mDense\u001b[0m)                   │ (\u001b[38;5;45mNone\u001b[0m, \u001b[38;5;34m512\u001b[0m)            │        \u001b[38;5;34m66,048\u001b[0m │\n",
       "├─────────────────────────────────┼────────────────────────┼───────────────┤\n",
       "│ dropout_dense (\u001b[38;5;33mDropout\u001b[0m)         │ (\u001b[38;5;45mNone\u001b[0m, \u001b[38;5;34m512\u001b[0m)            │             \u001b[38;5;34m0\u001b[0m │\n",
       "├─────────────────────────────────┼────────────────────────┼───────────────┤\n",
       "│ dense_1 (\u001b[38;5;33mDense\u001b[0m)                 │ (\u001b[38;5;45mNone\u001b[0m, \u001b[38;5;34m10\u001b[0m)             │         \u001b[38;5;34m5,130\u001b[0m │\n",
       "└─────────────────────────────────┴────────────────────────┴───────────────┘\n"
      ]
     },
     "metadata": {},
     "output_type": "display_data"
    },
    {
     "data": {
      "text/html": [
       "<pre style=\"white-space:pre;overflow-x:auto;line-height:normal;font-family:Menlo,'DejaVu Sans Mono',consolas,'Courier New',monospace\"><span style=\"font-weight: bold\"> Total params: </span><span style=\"color: #00af00; text-decoration-color: #00af00\">22,047,794</span> (84.11 MB)\n",
       "</pre>\n"
      ],
      "text/plain": [
       "\u001b[1m Total params: \u001b[0m\u001b[38;5;34m22,047,794\u001b[0m (84.11 MB)\n"
      ]
     },
     "metadata": {},
     "output_type": "display_data"
    },
    {
     "data": {
      "text/html": [
       "<pre style=\"white-space:pre;overflow-x:auto;line-height:normal;font-family:Menlo,'DejaVu Sans Mono',consolas,'Courier New',monospace\"><span style=\"font-weight: bold\"> Trainable params: </span><span style=\"color: #00af00; text-decoration-color: #00af00\">6,682,378</span> (25.49 MB)\n",
       "</pre>\n"
      ],
      "text/plain": [
       "\u001b[1m Trainable params: \u001b[0m\u001b[38;5;34m6,682,378\u001b[0m (25.49 MB)\n"
      ]
     },
     "metadata": {},
     "output_type": "display_data"
    },
    {
     "data": {
      "text/html": [
       "<pre style=\"white-space:pre;overflow-x:auto;line-height:normal;font-family:Menlo,'DejaVu Sans Mono',consolas,'Courier New',monospace\"><span style=\"font-weight: bold\"> Non-trainable params: </span><span style=\"color: #00af00; text-decoration-color: #00af00\">15,365,416</span> (58.61 MB)\n",
       "</pre>\n"
      ],
      "text/plain": [
       "\u001b[1m Non-trainable params: \u001b[0m\u001b[38;5;34m15,365,416\u001b[0m (58.61 MB)\n"
      ]
     },
     "metadata": {},
     "output_type": "display_data"
    },
    {
     "name": "stdout",
     "output_type": "stream",
     "text": [
      "Model Created Successfully!\n"
     ]
    }
   ],
   "source": [
    "# Create the model\n",
    "xlstm_model = create_xception_lstm_model(\n",
    "    sequence_length=SEQUENCE_LENGTH,\n",
    "    image_height=IMAGE_HEIGHT,\n",
    "    image_width=IMAGE_WIDTH,\n",
    "    classes_list=CLASSES_LIST,\n",
    "    dropout_rate=DROPOUT_RATE\n",
    ")\n",
    "\n",
    "# Check if model was created successfully\n",
    "if xlstm_model is None:\n",
    "    print(\"Failed to create model. Check error messages above.\")\n",
    "else:\n",
    "    print(\"Model Created Successfully!\")"
   ]
  },
  {
   "cell_type": "markdown",
   "id": "d610529f",
   "metadata": {
    "papermill": {
     "duration": 0.016225,
     "end_time": "2025-07-12T14:26:33.808050",
     "exception": false,
     "start_time": "2025-07-12T14:26:33.791825",
     "status": "completed"
    },
    "tags": []
   },
   "source": [
    "## Plot Model Structure"
   ]
  },
  {
   "cell_type": "code",
   "execution_count": 47,
   "id": "e58c707c",
   "metadata": {
    "execution": {
     "iopub.execute_input": "2025-07-12T14:26:33.842306Z",
     "iopub.status.busy": "2025-07-12T14:26:33.841700Z",
     "iopub.status.idle": "2025-07-12T14:26:34.349887Z",
     "shell.execute_reply": "2025-07-12T14:26:34.349000Z"
    },
    "papermill": {
     "duration": 0.526638,
     "end_time": "2025-07-12T14:26:34.351154",
     "exception": false,
     "start_time": "2025-07-12T14:26:33.824516",
     "status": "completed"
    },
    "tags": []
   },
   "outputs": [
    {
     "name": "stdout",
     "output_type": "stream",
     "text": [
      "Xception Model Plot saved successfully...\n"
     ]
    }
   ],
   "source": [
    "# Plot the structure of the contructed model.\n",
    "from tensorflow.keras.utils import plot_model\n",
    "\n",
    "plot_model(xlstm_model, to_file = f'{MODEL_NAME}_model_Plot.png', show_shapes = True, show_layer_names = True)\n",
    "\n",
    "print(f\"{MODEL_NAME} Model Plot saved successfully...\")"
   ]
  },
  {
   "cell_type": "markdown",
   "id": "2c92711e",
   "metadata": {
    "papermill": {
     "duration": 0.016754,
     "end_time": "2025-07-12T14:26:34.385624",
     "exception": false,
     "start_time": "2025-07-12T14:26:34.368870",
     "status": "completed"
    },
    "tags": []
   },
   "source": [
    "## Model Compile"
   ]
  },
  {
   "cell_type": "code",
   "execution_count": 48,
   "id": "6558de90",
   "metadata": {
    "execution": {
     "iopub.execute_input": "2025-07-12T14:26:34.420090Z",
     "iopub.status.busy": "2025-07-12T14:26:34.419864Z",
     "iopub.status.idle": "2025-07-12T14:26:34.437229Z",
     "shell.execute_reply": "2025-07-12T14:26:34.436629Z"
    },
    "papermill": {
     "duration": 0.035872,
     "end_time": "2025-07-12T14:26:34.438413",
     "exception": false,
     "start_time": "2025-07-12T14:26:34.402541",
     "status": "completed"
    },
    "tags": []
   },
   "outputs": [],
   "source": [
    "# Create an Instance of Early Stopping Callback\n",
    "from tensorflow.keras.callbacks import EarlyStopping\n",
    "\n",
    "early_stopping_callback = EarlyStopping(monitor = 'val_loss', \n",
    "                                        patience = 7, \n",
    "                                        mode = 'min', \n",
    "                                        restore_best_weights = True)\n",
    "\n",
    "# Compile the model and specify loss function, optimizer and metrics values to the model\n",
    "xlstm_model.compile(loss = 'categorical_crossentropy', \n",
    "                    optimizer=tf.keras.optimizers.Adam(learning_rate=0.0001),\n",
    "                    metrics = [\"accuracy\"])\n"
   ]
  },
  {
   "cell_type": "markdown",
   "id": "96529696",
   "metadata": {
    "papermill": {
     "duration": 0.016645,
     "end_time": "2025-07-12T14:26:34.471689",
     "exception": false,
     "start_time": "2025-07-12T14:26:34.455044",
     "status": "completed"
    },
    "tags": []
   },
   "source": [
    "## 💪 Model Fit"
   ]
  },
  {
   "cell_type": "code",
   "execution_count": 49,
   "id": "3681a459",
   "metadata": {
    "execution": {
     "iopub.execute_input": "2025-07-12T14:26:34.507561Z",
     "iopub.status.busy": "2025-07-12T14:26:34.507286Z",
     "iopub.status.idle": "2025-07-12T14:26:34.512721Z",
     "shell.execute_reply": "2025-07-12T14:26:34.511919Z"
    },
    "papermill": {
     "duration": 0.025295,
     "end_time": "2025-07-12T14:26:34.513921",
     "exception": false,
     "start_time": "2025-07-12T14:26:34.488626",
     "status": "completed"
    },
    "tags": []
   },
   "outputs": [
    {
     "name": "stdout",
     "output_type": "stream",
     "text": [
      "Unique labels: [0 1 2 3 4 5 6 7 8 9]\n",
      "NO_OF_CLASSES: 10\n"
     ]
    }
   ],
   "source": [
    "labels = np.argmax(train_gen.labels, axis=1)  # assuming one-hot encoded\n",
    "print(\"Unique labels:\", np.unique(labels))\n",
    "print(\"NO_OF_CLASSES:\", NO_OF_CLASSES)\n"
   ]
  },
  {
   "cell_type": "code",
   "execution_count": 50,
   "id": "d137412d",
   "metadata": {
    "execution": {
     "iopub.execute_input": "2025-07-12T14:26:34.549937Z",
     "iopub.status.busy": "2025-07-12T14:26:34.549440Z",
     "iopub.status.idle": "2025-07-12T14:26:34.554533Z",
     "shell.execute_reply": "2025-07-12T14:26:34.553850Z"
    },
    "papermill": {
     "duration": 0.023693,
     "end_time": "2025-07-12T14:26:34.555546",
     "exception": false,
     "start_time": "2025-07-12T14:26:34.531853",
     "status": "completed"
    },
    "tags": []
   },
   "outputs": [
    {
     "name": "stdout",
     "output_type": "stream",
     "text": [
      "Train label shape: (476, 10)\n",
      "Val label shape: (119, 10)\n"
     ]
    }
   ],
   "source": [
    "print(\"Train label shape:\", np.shape(train_gen.labels))\n",
    "print(\"Val label shape:\", np.shape(val_gen.labels))\n"
   ]
  },
  {
   "cell_type": "code",
   "execution_count": 51,
   "id": "5a34ea89",
   "metadata": {
    "execution": {
     "iopub.execute_input": "2025-07-12T14:26:34.589642Z",
     "iopub.status.busy": "2025-07-12T14:26:34.589166Z",
     "iopub.status.idle": "2025-07-12T14:26:34.592750Z",
     "shell.execute_reply": "2025-07-12T14:26:34.592099Z"
    },
    "papermill": {
     "duration": 0.021694,
     "end_time": "2025-07-12T14:26:34.593725",
     "exception": false,
     "start_time": "2025-07-12T14:26:34.572031",
     "status": "completed"
    },
    "tags": []
   },
   "outputs": [],
   "source": [
    "# from tensorflow.keras.callbacks import ReduceLROnPlateau\n",
    "\n",
    "# lr_scheduler = ReduceLROnPlateau(monitor='val_loss', \n",
    "#                                  factor=0.5, \n",
    "#                                  patience=3, \n",
    "#                                  min_lr=1e-6)\n",
    "\n",
    "\n",
    "\n",
    "# print(f\"Dataset - {DATASET_NAME}\")\n",
    "# print(f\"There are total {len(ALL_CLASS_NAMES)} classes, selected {NO_OF_CLASSES} classes\")\n",
    "# print(f\"Setting {MAX_VIDEO_PER_CLASS} videos/class to train the model.\")\n",
    "# print(f\"Image size {IMAGE_HEIGHT}x{IMAGE_WIDTH} with {SEQUENCE_LENGTH} sequence length\")\n",
    "# print(f\"Dropout rate: {DROPOUT_RATE}\")\n",
    "# print(f\"Train-Test split ratio {int((1-TEST_SIZE)*100)}/{int(TEST_SIZE*100)}\")\n",
    "# print(f\"Validation data from Train set {VALIDATION_SPLIT*100}%\")\n",
    "\n",
    "# print(\"\\n\")\n",
    "\n",
    "# print(f\"Training started for {len(train_gen.videos)} videos of {NO_OF_CLASSES} classes with {len(val_gen.videos)} videos for validation...\")\n",
    "\n",
    "# model_history = xlstm_model.fit(\n",
    "#     train_gen.as_dataset(),\n",
    "#     validation_data=val_gen.as_dataset(),\n",
    "#     epochs=EPOCHS,\n",
    "#     # class_weight=class_weight_dict,\n",
    "#     callbacks=[early_stopping_callback, lr_scheduler]\n",
    "# )"
   ]
  },
  {
   "cell_type": "markdown",
   "id": "ed976a84",
   "metadata": {
    "papermill": {
     "duration": 0.016637,
     "end_time": "2025-07-12T14:26:34.627173",
     "exception": false,
     "start_time": "2025-07-12T14:26:34.610536",
     "status": "completed"
    },
    "tags": []
   },
   "source": [
    "# Evaluation"
   ]
  },
  {
   "cell_type": "markdown",
   "id": "391fbc6e",
   "metadata": {
    "papermill": {
     "duration": 0.01622,
     "end_time": "2025-07-12T14:26:34.660297",
     "exception": false,
     "start_time": "2025-07-12T14:26:34.644077",
     "status": "completed"
    },
    "tags": []
   },
   "source": [
    "## ⚡ Model Evaluate"
   ]
  },
  {
   "cell_type": "code",
   "execution_count": 52,
   "id": "6a670ef2",
   "metadata": {
    "execution": {
     "iopub.execute_input": "2025-07-12T14:26:34.693708Z",
     "iopub.status.busy": "2025-07-12T14:26:34.693527Z",
     "iopub.status.idle": "2025-07-12T14:26:34.696436Z",
     "shell.execute_reply": "2025-07-12T14:26:34.695926Z"
    },
    "papermill": {
     "duration": 0.020863,
     "end_time": "2025-07-12T14:26:34.697387",
     "exception": false,
     "start_time": "2025-07-12T14:26:34.676524",
     "status": "completed"
    },
    "tags": []
   },
   "outputs": [],
   "source": [
    "# # previous code\n",
    "# model_evaluation_history = xlstm_model.evaluate(features_test, labels_test)"
   ]
  },
  {
   "cell_type": "code",
   "execution_count": 53,
   "id": "c8887855",
   "metadata": {
    "execution": {
     "iopub.execute_input": "2025-07-12T14:26:34.731928Z",
     "iopub.status.busy": "2025-07-12T14:26:34.731518Z",
     "iopub.status.idle": "2025-07-12T14:26:34.734544Z",
     "shell.execute_reply": "2025-07-12T14:26:34.734057Z"
    },
    "papermill": {
     "duration": 0.021222,
     "end_time": "2025-07-12T14:26:34.735584",
     "exception": false,
     "start_time": "2025-07-12T14:26:34.714362",
     "status": "completed"
    },
    "tags": []
   },
   "outputs": [],
   "source": [
    "# import matplotlib.pyplot as plt\n",
    "\n",
    "# # Accuracy\n",
    "# plt.figure(figsize=(12, 5))\n",
    "\n",
    "# plt.subplot(1, 2, 1)\n",
    "# plt.plot(model_history.history['accuracy'], label='Train Accuracy')\n",
    "# plt.plot(model_history.history['val_accuracy'], label='Validation Accuracy')\n",
    "# plt.title('Model Accuracy')\n",
    "# plt.xlabel('Epoch')\n",
    "# plt.ylabel('Accuracy')\n",
    "# plt.legend()\n",
    "\n",
    "# # Loss\n",
    "# plt.subplot(1, 2, 2)\n",
    "# plt.plot(model_history.history['loss'], label='Train Loss')\n",
    "# plt.plot(model_history.history['val_loss'], label='Validation Loss')\n",
    "# plt.title('Model Loss')\n",
    "# plt.xlabel('Epoch')\n",
    "# plt.ylabel('Loss')\n",
    "# plt.legend()\n",
    "\n",
    "# plt.tight_layout()\n",
    "# plt.show()\n"
   ]
  },
  {
   "cell_type": "markdown",
   "id": "67c5808a",
   "metadata": {
    "papermill": {
     "duration": 0.016317,
     "end_time": "2025-07-12T14:26:34.768517",
     "exception": false,
     "start_time": "2025-07-12T14:26:34.752200",
     "status": "completed"
    },
    "tags": []
   },
   "source": [
    "## 📈 Confusion Matrix"
   ]
  },
  {
   "cell_type": "code",
   "execution_count": 54,
   "id": "4f45ad48",
   "metadata": {
    "execution": {
     "iopub.execute_input": "2025-07-12T14:26:34.801999Z",
     "iopub.status.busy": "2025-07-12T14:26:34.801496Z",
     "iopub.status.idle": "2025-07-12T14:26:34.805085Z",
     "shell.execute_reply": "2025-07-12T14:26:34.804450Z"
    },
    "papermill": {
     "duration": 0.021386,
     "end_time": "2025-07-12T14:26:34.806218",
     "exception": false,
     "start_time": "2025-07-12T14:26:34.784832",
     "status": "completed"
    },
    "tags": []
   },
   "outputs": [],
   "source": [
    "# from sklearn.metrics import classification_report, confusion_matrix\n",
    "# import seaborn as sns\n",
    "# import matplotlib.pyplot as plt\n",
    "\n",
    "# # Create test generator with batch_size matching test set size\n",
    "# test_gen = VideoDataGenerator(\n",
    "#     videos=features_test,\n",
    "#     labels=labels_test,\n",
    "#     batch_size=4,  # Process all test samples at once\n",
    "# )\n",
    "\n",
    "# # Get predictions\n",
    "# predictions = xlstm_model.predict(test_gen.as_dataset())\n",
    "# predicted_classes = np.argmax(predictions, axis=1)\n",
    "# true_classes = np.argmax(labels_test, axis=1)\n",
    "\n",
    "# # Verify shapes\n",
    "# print(f\"True classes shape: {true_classes.shape}\")\n",
    "# print(f\"Predicted classes shape: {predicted_classes.shape}\")\n",
    "# assert len(true_classes) == len(predicted_classes), \"Sample counts do not match!\"\n",
    "\n",
    "# # Generate classification report\n",
    "# print(\"Classification Report:\")\n",
    "# print(classification_report(true_classes, predicted_classes, target_names=CLASSES_LIST))\n",
    "\n",
    "# # Plot confusion matrix\n",
    "# cm = confusion_matrix(true_classes, predicted_classes)\n",
    "# plt.figure(figsize=(8, 6))\n",
    "# sns.heatmap(cm, annot=True, fmt='d', cmap='Blues', xticklabels=CLASSES_LIST, yticklabels=CLASSES_LIST[-1])\n",
    "# plt.xlabel('Predicted')\n",
    "# plt.ylabel('True')\n",
    "# plt.title('Confusion Matrix')\n",
    "# plt.show()"
   ]
  },
  {
   "cell_type": "code",
   "execution_count": 55,
   "id": "1fcf0b48",
   "metadata": {
    "execution": {
     "iopub.execute_input": "2025-07-12T14:26:34.840522Z",
     "iopub.status.busy": "2025-07-12T14:26:34.840326Z",
     "iopub.status.idle": "2025-07-12T14:35:03.876551Z",
     "shell.execute_reply": "2025-07-12T14:35:03.875740Z"
    },
    "papermill": {
     "duration": 509.055146,
     "end_time": "2025-07-12T14:35:03.878171",
     "exception": false,
     "start_time": "2025-07-12T14:26:34.823025",
     "status": "completed"
    },
    "tags": []
   },
   "outputs": [
    {
     "name": "stdout",
     "output_type": "stream",
     "text": [
      "Memory cleared before creating VGG19+LSTM model\n",
      "TensorFlow version: 2.18.0\n",
      "Pre-loading VGG19 weights...\n",
      "Downloading data from https://storage.googleapis.com/tensorflow/keras-applications/vgg19/vgg19_weights_tf_dim_ordering_tf_kernels_notop.h5\n",
      "\u001b[1m80134624/80134624\u001b[0m \u001b[32m━━━━━━━━━━━━━━━━━━━━\u001b[0m\u001b[37m\u001b[0m \u001b[1m0s\u001b[0m 0us/step\n",
      "VGG19 weights loaded successfully!\n",
      "Creating VGG19+LSTM model with parameters:\n",
      "sequence_length: 5, image_height: 128, image_width: 128, classes_list length: 10, dropout_rate: 0.5\n",
      "VGG19+LSTM model architecture created successfully!\n"
     ]
    },
    {
     "name": "stderr",
     "output_type": "stream",
     "text": [
      "/usr/local/lib/python3.11/dist-packages/keras/src/layers/core/wrapper.py:27: UserWarning: Do not pass an `input_shape`/`input_dim` argument to a layer. When using Sequential models, prefer using an `Input(shape)` object as the first layer in the model instead.\n",
      "  super().__init__(**kwargs)\n"
     ]
    },
    {
     "data": {
      "text/html": [
       "<pre style=\"white-space:pre;overflow-x:auto;line-height:normal;font-family:Menlo,'DejaVu Sans Mono',consolas,'Courier New',monospace\"><span style=\"font-weight: bold\">Model: \"sequential\"</span>\n",
       "</pre>\n"
      ],
      "text/plain": [
       "\u001b[1mModel: \"sequential\"\u001b[0m\n"
      ]
     },
     "metadata": {},
     "output_type": "display_data"
    },
    {
     "data": {
      "text/html": [
       "<pre style=\"white-space:pre;overflow-x:auto;line-height:normal;font-family:Menlo,'DejaVu Sans Mono',consolas,'Courier New',monospace\">┏━━━━━━━━━━━━━━━━━━━━━━━━━━━━━━━━━┳━━━━━━━━━━━━━━━━━━━━━━━━┳━━━━━━━━━━━━━━━┓\n",
       "┃<span style=\"font-weight: bold\"> Layer (type)                    </span>┃<span style=\"font-weight: bold\"> Output Shape           </span>┃<span style=\"font-weight: bold\">       Param # </span>┃\n",
       "┡━━━━━━━━━━━━━━━━━━━━━━━━━━━━━━━━━╇━━━━━━━━━━━━━━━━━━━━━━━━╇━━━━━━━━━━━━━━━┩\n",
       "│ time_distributed_vgg19          │ (<span style=\"color: #00d7ff; text-decoration-color: #00d7ff\">None</span>, <span style=\"color: #00af00; text-decoration-color: #00af00\">5</span>, <span style=\"color: #00af00; text-decoration-color: #00af00\">4</span>, <span style=\"color: #00af00; text-decoration-color: #00af00\">4</span>, <span style=\"color: #00af00; text-decoration-color: #00af00\">512</span>)   │    <span style=\"color: #00af00; text-decoration-color: #00af00\">20,024,384</span> │\n",
       "│ (<span style=\"color: #0087ff; text-decoration-color: #0087ff\">TimeDistributed</span>)               │                        │               │\n",
       "├─────────────────────────────────┼────────────────────────┼───────────────┤\n",
       "│ time_distributed_pooling        │ (<span style=\"color: #00d7ff; text-decoration-color: #00d7ff\">None</span>, <span style=\"color: #00af00; text-decoration-color: #00af00\">5</span>, <span style=\"color: #00af00; text-decoration-color: #00af00\">512</span>)         │             <span style=\"color: #00af00; text-decoration-color: #00af00\">0</span> │\n",
       "│ (<span style=\"color: #0087ff; text-decoration-color: #0087ff\">TimeDistributed</span>)               │                        │               │\n",
       "├─────────────────────────────────┼────────────────────────┼───────────────┤\n",
       "│ gru_256 (<span style=\"color: #0087ff; text-decoration-color: #0087ff\">GRU</span>)                   │ (<span style=\"color: #00d7ff; text-decoration-color: #00d7ff\">None</span>, <span style=\"color: #00af00; text-decoration-color: #00af00\">256</span>)            │       <span style=\"color: #00af00; text-decoration-color: #00af00\">591,360</span> │\n",
       "├─────────────────────────────────┼────────────────────────┼───────────────┤\n",
       "│ batch_normalization_vgg19       │ (<span style=\"color: #00d7ff; text-decoration-color: #00d7ff\">None</span>, <span style=\"color: #00af00; text-decoration-color: #00af00\">256</span>)            │         <span style=\"color: #00af00; text-decoration-color: #00af00\">1,024</span> │\n",
       "│ (<span style=\"color: #0087ff; text-decoration-color: #0087ff\">BatchNormalization</span>)            │                        │               │\n",
       "├─────────────────────────────────┼────────────────────────┼───────────────┤\n",
       "│ dropout_lstm_vgg19 (<span style=\"color: #0087ff; text-decoration-color: #0087ff\">Dropout</span>)    │ (<span style=\"color: #00d7ff; text-decoration-color: #00d7ff\">None</span>, <span style=\"color: #00af00; text-decoration-color: #00af00\">256</span>)            │             <span style=\"color: #00af00; text-decoration-color: #00af00\">0</span> │\n",
       "├─────────────────────────────────┼────────────────────────┼───────────────┤\n",
       "│ dense_vgg19_1 (<span style=\"color: #0087ff; text-decoration-color: #0087ff\">Dense</span>)           │ (<span style=\"color: #00d7ff; text-decoration-color: #00d7ff\">None</span>, <span style=\"color: #00af00; text-decoration-color: #00af00\">512</span>)            │       <span style=\"color: #00af00; text-decoration-color: #00af00\">131,584</span> │\n",
       "├─────────────────────────────────┼────────────────────────┼───────────────┤\n",
       "│ dropout_dense_vgg19_1 (<span style=\"color: #0087ff; text-decoration-color: #0087ff\">Dropout</span>) │ (<span style=\"color: #00d7ff; text-decoration-color: #00d7ff\">None</span>, <span style=\"color: #00af00; text-decoration-color: #00af00\">512</span>)            │             <span style=\"color: #00af00; text-decoration-color: #00af00\">0</span> │\n",
       "├─────────────────────────────────┼────────────────────────┼───────────────┤\n",
       "│ dense_vgg19_2 (<span style=\"color: #0087ff; text-decoration-color: #0087ff\">Dense</span>)           │ (<span style=\"color: #00d7ff; text-decoration-color: #00d7ff\">None</span>, <span style=\"color: #00af00; text-decoration-color: #00af00\">128</span>)            │        <span style=\"color: #00af00; text-decoration-color: #00af00\">65,664</span> │\n",
       "├─────────────────────────────────┼────────────────────────┼───────────────┤\n",
       "│ dropout_dense_vgg19_2 (<span style=\"color: #0087ff; text-decoration-color: #0087ff\">Dropout</span>) │ (<span style=\"color: #00d7ff; text-decoration-color: #00d7ff\">None</span>, <span style=\"color: #00af00; text-decoration-color: #00af00\">128</span>)            │             <span style=\"color: #00af00; text-decoration-color: #00af00\">0</span> │\n",
       "├─────────────────────────────────┼────────────────────────┼───────────────┤\n",
       "│ output_vgg19 (<span style=\"color: #0087ff; text-decoration-color: #0087ff\">Dense</span>)            │ (<span style=\"color: #00d7ff; text-decoration-color: #00d7ff\">None</span>, <span style=\"color: #00af00; text-decoration-color: #00af00\">10</span>)             │         <span style=\"color: #00af00; text-decoration-color: #00af00\">1,290</span> │\n",
       "└─────────────────────────────────┴────────────────────────┴───────────────┘\n",
       "</pre>\n"
      ],
      "text/plain": [
       "┏━━━━━━━━━━━━━━━━━━━━━━━━━━━━━━━━━┳━━━━━━━━━━━━━━━━━━━━━━━━┳━━━━━━━━━━━━━━━┓\n",
       "┃\u001b[1m \u001b[0m\u001b[1mLayer (type)                   \u001b[0m\u001b[1m \u001b[0m┃\u001b[1m \u001b[0m\u001b[1mOutput Shape          \u001b[0m\u001b[1m \u001b[0m┃\u001b[1m \u001b[0m\u001b[1m      Param #\u001b[0m\u001b[1m \u001b[0m┃\n",
       "┡━━━━━━━━━━━━━━━━━━━━━━━━━━━━━━━━━╇━━━━━━━━━━━━━━━━━━━━━━━━╇━━━━━━━━━━━━━━━┩\n",
       "│ time_distributed_vgg19          │ (\u001b[38;5;45mNone\u001b[0m, \u001b[38;5;34m5\u001b[0m, \u001b[38;5;34m4\u001b[0m, \u001b[38;5;34m4\u001b[0m, \u001b[38;5;34m512\u001b[0m)   │    \u001b[38;5;34m20,024,384\u001b[0m │\n",
       "│ (\u001b[38;5;33mTimeDistributed\u001b[0m)               │                        │               │\n",
       "├─────────────────────────────────┼────────────────────────┼───────────────┤\n",
       "│ time_distributed_pooling        │ (\u001b[38;5;45mNone\u001b[0m, \u001b[38;5;34m5\u001b[0m, \u001b[38;5;34m512\u001b[0m)         │             \u001b[38;5;34m0\u001b[0m │\n",
       "│ (\u001b[38;5;33mTimeDistributed\u001b[0m)               │                        │               │\n",
       "├─────────────────────────────────┼────────────────────────┼───────────────┤\n",
       "│ gru_256 (\u001b[38;5;33mGRU\u001b[0m)                   │ (\u001b[38;5;45mNone\u001b[0m, \u001b[38;5;34m256\u001b[0m)            │       \u001b[38;5;34m591,360\u001b[0m │\n",
       "├─────────────────────────────────┼────────────────────────┼───────────────┤\n",
       "│ batch_normalization_vgg19       │ (\u001b[38;5;45mNone\u001b[0m, \u001b[38;5;34m256\u001b[0m)            │         \u001b[38;5;34m1,024\u001b[0m │\n",
       "│ (\u001b[38;5;33mBatchNormalization\u001b[0m)            │                        │               │\n",
       "├─────────────────────────────────┼────────────────────────┼───────────────┤\n",
       "│ dropout_lstm_vgg19 (\u001b[38;5;33mDropout\u001b[0m)    │ (\u001b[38;5;45mNone\u001b[0m, \u001b[38;5;34m256\u001b[0m)            │             \u001b[38;5;34m0\u001b[0m │\n",
       "├─────────────────────────────────┼────────────────────────┼───────────────┤\n",
       "│ dense_vgg19_1 (\u001b[38;5;33mDense\u001b[0m)           │ (\u001b[38;5;45mNone\u001b[0m, \u001b[38;5;34m512\u001b[0m)            │       \u001b[38;5;34m131,584\u001b[0m │\n",
       "├─────────────────────────────────┼────────────────────────┼───────────────┤\n",
       "│ dropout_dense_vgg19_1 (\u001b[38;5;33mDropout\u001b[0m) │ (\u001b[38;5;45mNone\u001b[0m, \u001b[38;5;34m512\u001b[0m)            │             \u001b[38;5;34m0\u001b[0m │\n",
       "├─────────────────────────────────┼────────────────────────┼───────────────┤\n",
       "│ dense_vgg19_2 (\u001b[38;5;33mDense\u001b[0m)           │ (\u001b[38;5;45mNone\u001b[0m, \u001b[38;5;34m128\u001b[0m)            │        \u001b[38;5;34m65,664\u001b[0m │\n",
       "├─────────────────────────────────┼────────────────────────┼───────────────┤\n",
       "│ dropout_dense_vgg19_2 (\u001b[38;5;33mDropout\u001b[0m) │ (\u001b[38;5;45mNone\u001b[0m, \u001b[38;5;34m128\u001b[0m)            │             \u001b[38;5;34m0\u001b[0m │\n",
       "├─────────────────────────────────┼────────────────────────┼───────────────┤\n",
       "│ output_vgg19 (\u001b[38;5;33mDense\u001b[0m)            │ (\u001b[38;5;45mNone\u001b[0m, \u001b[38;5;34m10\u001b[0m)             │         \u001b[38;5;34m1,290\u001b[0m │\n",
       "└─────────────────────────────────┴────────────────────────┴───────────────┘\n"
      ]
     },
     "metadata": {},
     "output_type": "display_data"
    },
    {
     "data": {
      "text/html": [
       "<pre style=\"white-space:pre;overflow-x:auto;line-height:normal;font-family:Menlo,'DejaVu Sans Mono',consolas,'Courier New',monospace\"><span style=\"font-weight: bold\"> Total params: </span><span style=\"color: #00af00; text-decoration-color: #00af00\">20,815,306</span> (79.40 MB)\n",
       "</pre>\n"
      ],
      "text/plain": [
       "\u001b[1m Total params: \u001b[0m\u001b[38;5;34m20,815,306\u001b[0m (79.40 MB)\n"
      ]
     },
     "metadata": {},
     "output_type": "display_data"
    },
    {
     "data": {
      "text/html": [
       "<pre style=\"white-space:pre;overflow-x:auto;line-height:normal;font-family:Menlo,'DejaVu Sans Mono',consolas,'Courier New',monospace\"><span style=\"font-weight: bold\"> Trainable params: </span><span style=\"color: #00af00; text-decoration-color: #00af00\">790,410</span> (3.02 MB)\n",
       "</pre>\n"
      ],
      "text/plain": [
       "\u001b[1m Trainable params: \u001b[0m\u001b[38;5;34m790,410\u001b[0m (3.02 MB)\n"
      ]
     },
     "metadata": {},
     "output_type": "display_data"
    },
    {
     "data": {
      "text/html": [
       "<pre style=\"white-space:pre;overflow-x:auto;line-height:normal;font-family:Menlo,'DejaVu Sans Mono',consolas,'Courier New',monospace\"><span style=\"font-weight: bold\"> Non-trainable params: </span><span style=\"color: #00af00; text-decoration-color: #00af00\">20,024,896</span> (76.39 MB)\n",
       "</pre>\n"
      ],
      "text/plain": [
       "\u001b[1m Non-trainable params: \u001b[0m\u001b[38;5;34m20,024,896\u001b[0m (76.39 MB)\n"
      ]
     },
     "metadata": {},
     "output_type": "display_data"
    },
    {
     "name": "stdout",
     "output_type": "stream",
     "text": [
      "VGG19+LSTM Model Created Successfully!\n",
      "Xception_VGG19_LSTM Model Plot saved successfully...\n",
      "train_gen.videos shape: (476, 5, 128, 128, 3)\n",
      "train_gen.labels shape: (476, 10)\n",
      "val_gen.videos shape: (119, 5, 128, 128, 3)\n",
      "val_gen.labels shape: (119, 10)\n",
      "features_test shape: (149, 5, 128, 128, 3)\n",
      "labels_test shape: (149, 10)\n",
      "train_gen batch videos shape: (24, 5, 128, 128, 3)\n",
      "train_gen batch labels shape: (24, 10)\n",
      "val_gen batch videos shape: (24, 5, 128, 128, 3)\n",
      "val_gen batch labels shape: (24, 10)\n",
      "Dataset - Weizmann Dataset\n",
      "There are total 10 classes, selected 10 classes\n",
      "Setting 50 videos/class to train the model.\n",
      "Image size 128x128 with 5 sequence length\n",
      "Dropout rate: 0.5\n",
      "Train-Test split ratio 80/20\n",
      "Validation data from Train set 20.0%\n",
      "\n",
      "\n",
      "Initial training started for VGG19+LSTM model with 476 videos of 10 classes with 119 videos for validation...\n",
      "Epoch 1/30\n"
     ]
    },
    {
     "name": "stderr",
     "output_type": "stream",
     "text": [
      "I0000 00:00:1752330404.949715      63 cuda_dnn.cc:529] Loaded cuDNN version 90300\n"
     ]
    },
    {
     "name": "stdout",
     "output_type": "stream",
     "text": [
      "     20/Unknown \u001b[1m18s\u001b[0m 258ms/step - accuracy: 0.1475 - loss: 13.6676"
     ]
    },
    {
     "name": "stderr",
     "output_type": "stream",
     "text": [
      "/usr/local/lib/python3.11/dist-packages/keras/src/trainers/epoch_iterator.py:151: UserWarning: Your input ran out of data; interrupting training. Make sure that your dataset or generator can generate at least `steps_per_epoch * epochs` batches. You may need to use the `.repeat()` function when building your dataset.\n",
      "  self._interrupted_warning()\n"
     ]
    },
    {
     "name": "stdout",
     "output_type": "stream",
     "text": [
      "\u001b[1m20/20\u001b[0m \u001b[32m━━━━━━━━━━━━━━━━━━━━\u001b[0m\u001b[37m\u001b[0m \u001b[1m22s\u001b[0m 462ms/step - accuracy: 0.1477 - loss: 13.6265 - val_accuracy: 0.1513 - val_loss: 10.9681 - learning_rate: 0.0010\n",
      "Epoch 2/30\n",
      "\u001b[1m20/20\u001b[0m \u001b[32m━━━━━━━━━━━━━━━━━━━━\u001b[0m\u001b[37m\u001b[0m \u001b[1m6s\u001b[0m 276ms/step - accuracy: 0.2373 - loss: 10.4279 - val_accuracy: 0.1681 - val_loss: 9.3380 - learning_rate: 0.0010\n",
      "Epoch 3/30\n",
      "\u001b[1m20/20\u001b[0m \u001b[32m━━━━━━━━━━━━━━━━━━━━\u001b[0m\u001b[37m\u001b[0m \u001b[1m6s\u001b[0m 280ms/step - accuracy: 0.2785 - loss: 8.8375 - val_accuracy: 0.1765 - val_loss: 8.4217 - learning_rate: 0.0010\n",
      "Epoch 4/30\n",
      "\u001b[1m20/20\u001b[0m \u001b[32m━━━━━━━━━━━━━━━━━━━━\u001b[0m\u001b[37m\u001b[0m \u001b[1m6s\u001b[0m 279ms/step - accuracy: 0.3416 - loss: 7.7767 - val_accuracy: 0.1429 - val_loss: 7.8133 - learning_rate: 0.0010\n",
      "Epoch 5/30\n",
      "\u001b[1m20/20\u001b[0m \u001b[32m━━━━━━━━━━━━━━━━━━━━\u001b[0m\u001b[37m\u001b[0m \u001b[1m6s\u001b[0m 282ms/step - accuracy: 0.4816 - loss: 6.9360 - val_accuracy: 0.1765 - val_loss: 7.3512 - learning_rate: 0.0010\n",
      "Epoch 6/30\n",
      "\u001b[1m20/20\u001b[0m \u001b[32m━━━━━━━━━━━━━━━━━━━━\u001b[0m\u001b[37m\u001b[0m \u001b[1m6s\u001b[0m 284ms/step - accuracy: 0.4971 - loss: 6.3241 - val_accuracy: 0.2605 - val_loss: 6.9332 - learning_rate: 0.0010\n",
      "Epoch 7/30\n",
      "\u001b[1m20/20\u001b[0m \u001b[32m━━━━━━━━━━━━━━━━━━━━\u001b[0m\u001b[37m\u001b[0m \u001b[1m6s\u001b[0m 285ms/step - accuracy: 0.6413 - loss: 5.7117 - val_accuracy: 0.3613 - val_loss: 6.3850 - learning_rate: 0.0010\n",
      "Epoch 8/30\n",
      "\u001b[1m20/20\u001b[0m \u001b[32m━━━━━━━━━━━━━━━━━━━━\u001b[0m\u001b[37m\u001b[0m \u001b[1m6s\u001b[0m 287ms/step - accuracy: 0.6802 - loss: 5.2084 - val_accuracy: 0.5798 - val_loss: 5.9010 - learning_rate: 0.0010\n",
      "Epoch 9/30\n",
      "\u001b[1m20/20\u001b[0m \u001b[32m━━━━━━━━━━━━━━━━━━━━\u001b[0m\u001b[37m\u001b[0m \u001b[1m6s\u001b[0m 292ms/step - accuracy: 0.7279 - loss: 4.7804 - val_accuracy: 0.3277 - val_loss: 5.5469 - learning_rate: 0.0010\n",
      "Epoch 10/30\n",
      "\u001b[1m20/20\u001b[0m \u001b[32m━━━━━━━━━━━━━━━━━━━━\u001b[0m\u001b[37m\u001b[0m \u001b[1m6s\u001b[0m 296ms/step - accuracy: 0.8014 - loss: 4.3797 - val_accuracy: 0.7647 - val_loss: 4.9962 - learning_rate: 0.0010\n",
      "Epoch 11/30\n",
      "\u001b[1m20/20\u001b[0m \u001b[32m━━━━━━━━━━━━━━━━━━━━\u001b[0m\u001b[37m\u001b[0m \u001b[1m6s\u001b[0m 295ms/step - accuracy: 0.8020 - loss: 4.0771 - val_accuracy: 0.3193 - val_loss: 5.0514 - learning_rate: 0.0010\n",
      "Epoch 12/30\n",
      "\u001b[1m20/20\u001b[0m \u001b[32m━━━━━━━━━━━━━━━━━━━━\u001b[0m\u001b[37m\u001b[0m \u001b[1m6s\u001b[0m 299ms/step - accuracy: 0.7849 - loss: 3.8147 - val_accuracy: 0.1849 - val_loss: 5.0947 - learning_rate: 0.0010\n",
      "Epoch 13/30\n",
      "\u001b[1m20/20\u001b[0m \u001b[32m━━━━━━━━━━━━━━━━━━━━\u001b[0m\u001b[37m\u001b[0m \u001b[1m6s\u001b[0m 306ms/step - accuracy: 0.8575 - loss: 3.4857 - val_accuracy: 0.2185 - val_loss: 4.7781 - learning_rate: 0.0010\n",
      "Epoch 14/30\n",
      "\u001b[1m20/20\u001b[0m \u001b[32m━━━━━━━━━━━━━━━━━━━━\u001b[0m\u001b[37m\u001b[0m \u001b[1m6s\u001b[0m 309ms/step - accuracy: 0.8561 - loss: 3.2452 - val_accuracy: 0.3109 - val_loss: 4.5898 - learning_rate: 0.0010\n",
      "Epoch 15/30\n",
      "\u001b[1m20/20\u001b[0m \u001b[32m━━━━━━━━━━━━━━━━━━━━\u001b[0m\u001b[37m\u001b[0m \u001b[1m6s\u001b[0m 310ms/step - accuracy: 0.8320 - loss: 3.1306 - val_accuracy: 0.3109 - val_loss: 4.1736 - learning_rate: 0.0010\n",
      "Epoch 16/30\n",
      "\u001b[1m20/20\u001b[0m \u001b[32m━━━━━━━━━━━━━━━━━━━━\u001b[0m\u001b[37m\u001b[0m \u001b[1m6s\u001b[0m 315ms/step - accuracy: 0.9016 - loss: 2.7840 - val_accuracy: 0.4958 - val_loss: 3.7797 - learning_rate: 0.0010\n",
      "Epoch 17/30\n",
      "\u001b[1m20/20\u001b[0m \u001b[32m━━━━━━━━━━━━━━━━━━━━\u001b[0m\u001b[37m\u001b[0m \u001b[1m6s\u001b[0m 319ms/step - accuracy: 0.8735 - loss: 2.6606 - val_accuracy: 0.3950 - val_loss: 3.8880 - learning_rate: 0.0010\n",
      "Epoch 18/30\n",
      "\u001b[1m20/20\u001b[0m \u001b[32m━━━━━━━━━━━━━━━━━━━━\u001b[0m\u001b[37m\u001b[0m \u001b[1m6s\u001b[0m 324ms/step - accuracy: 0.8904 - loss: 2.4919 - val_accuracy: 0.2353 - val_loss: 4.5206 - learning_rate: 0.0010\n",
      "Epoch 19/30\n",
      "\u001b[1m20/20\u001b[0m \u001b[32m━━━━━━━━━━━━━━━━━━━━\u001b[0m\u001b[37m\u001b[0m \u001b[1m7s\u001b[0m 329ms/step - accuracy: 0.8975 - loss: 2.3118 - val_accuracy: 0.1681 - val_loss: 4.9422 - learning_rate: 0.0010\n",
      "Epoch 20/30\n",
      "\u001b[1m20/20\u001b[0m \u001b[32m━━━━━━━━━━━━━━━━━━━━\u001b[0m\u001b[37m\u001b[0m \u001b[1m7s\u001b[0m 336ms/step - accuracy: 0.9179 - loss: 2.1323 - val_accuracy: 0.7983 - val_loss: 2.4409 - learning_rate: 5.0000e-04\n",
      "Epoch 21/30\n",
      "\u001b[1m20/20\u001b[0m \u001b[32m━━━━━━━━━━━━━━━━━━━━\u001b[0m\u001b[37m\u001b[0m \u001b[1m7s\u001b[0m 331ms/step - accuracy: 0.9551 - loss: 1.9794 - val_accuracy: 0.6807 - val_loss: 2.6288 - learning_rate: 5.0000e-04\n",
      "Epoch 22/30\n",
      "\u001b[1m20/20\u001b[0m \u001b[32m━━━━━━━━━━━━━━━━━━━━\u001b[0m\u001b[37m\u001b[0m \u001b[1m6s\u001b[0m 327ms/step - accuracy: 0.9306 - loss: 1.9316 - val_accuracy: 0.4538 - val_loss: 3.2858 - learning_rate: 5.0000e-04\n",
      "Epoch 23/30\n",
      "\u001b[1m20/20\u001b[0m \u001b[32m━━━━━━━━━━━━━━━━━━━━\u001b[0m\u001b[37m\u001b[0m \u001b[1m6s\u001b[0m 324ms/step - accuracy: 0.9636 - loss: 1.8421 - val_accuracy: 0.7227 - val_loss: 2.3953 - learning_rate: 5.0000e-04\n",
      "Epoch 24/30\n",
      "\u001b[1m20/20\u001b[0m \u001b[32m━━━━━━━━━━━━━━━━━━━━\u001b[0m\u001b[37m\u001b[0m \u001b[1m6s\u001b[0m 318ms/step - accuracy: 0.9491 - loss: 1.7616 - val_accuracy: 0.6218 - val_loss: 2.6255 - learning_rate: 5.0000e-04\n",
      "Epoch 25/30\n",
      "\u001b[1m20/20\u001b[0m \u001b[32m━━━━━━━━━━━━━━━━━━━━\u001b[0m\u001b[37m\u001b[0m \u001b[1m6s\u001b[0m 319ms/step - accuracy: 0.9765 - loss: 1.6574 - val_accuracy: 0.7647 - val_loss: 2.2172 - learning_rate: 5.0000e-04\n",
      "Epoch 26/30\n",
      "\u001b[1m20/20\u001b[0m \u001b[32m━━━━━━━━━━━━━━━━━━━━\u001b[0m\u001b[37m\u001b[0m \u001b[1m6s\u001b[0m 314ms/step - accuracy: 0.9763 - loss: 1.6014 - val_accuracy: 0.7143 - val_loss: 2.2260 - learning_rate: 5.0000e-04\n",
      "Epoch 27/30\n",
      "\u001b[1m20/20\u001b[0m \u001b[32m━━━━━━━━━━━━━━━━━━━━\u001b[0m\u001b[37m\u001b[0m \u001b[1m6s\u001b[0m 317ms/step - accuracy: 0.9795 - loss: 1.5112 - val_accuracy: 0.7899 - val_loss: 1.9897 - learning_rate: 5.0000e-04\n",
      "Epoch 28/30\n",
      "\u001b[1m20/20\u001b[0m \u001b[32m━━━━━━━━━━━━━━━━━━━━\u001b[0m\u001b[37m\u001b[0m \u001b[1m6s\u001b[0m 315ms/step - accuracy: 0.9620 - loss: 1.4871 - val_accuracy: 0.6555 - val_loss: 2.1512 - learning_rate: 5.0000e-04\n",
      "Epoch 29/30\n",
      "\u001b[1m20/20\u001b[0m \u001b[32m━━━━━━━━━━━━━━━━━━━━\u001b[0m\u001b[37m\u001b[0m \u001b[1m6s\u001b[0m 318ms/step - accuracy: 0.9753 - loss: 1.4210 - val_accuracy: 0.9160 - val_loss: 1.5314 - learning_rate: 5.0000e-04\n",
      "Epoch 30/30\n",
      "\u001b[1m20/20\u001b[0m \u001b[32m━━━━━━━━━━━━━━━━━━━━\u001b[0m\u001b[37m\u001b[0m \u001b[1m6s\u001b[0m 319ms/step - accuracy: 0.9637 - loss: 1.3995 - val_accuracy: 0.5966 - val_loss: 2.5008 - learning_rate: 5.0000e-04\n",
      "\n",
      "Fine-tuning started for VGG19+LSTM model with 476 videos of 10 classes with 119 videos for validation...\n",
      "Epoch 1/30\n",
      "\u001b[1m20/20\u001b[0m \u001b[32m━━━━━━━━━━━━━━━━━━━━\u001b[0m\u001b[37m\u001b[0m \u001b[1m22s\u001b[0m 576ms/step - accuracy: 0.6598 - loss: 2.8259 - val_accuracy: 0.1261 - val_loss: 15.8218 - learning_rate: 1.0000e-04\n",
      "Epoch 2/30\n",
      "\u001b[1m20/20\u001b[0m \u001b[32m━━━━━━━━━━━━━━━━━━━━\u001b[0m\u001b[37m\u001b[0m \u001b[1m10s\u001b[0m 489ms/step - accuracy: 0.8448 - loss: 1.6673 - val_accuracy: 0.2857 - val_loss: 10.1962 - learning_rate: 1.0000e-04\n",
      "Epoch 3/30\n",
      "\u001b[1m20/20\u001b[0m \u001b[32m━━━━━━━━━━━━━━━━━━━━\u001b[0m\u001b[37m\u001b[0m \u001b[1m10s\u001b[0m 495ms/step - accuracy: 0.9263 - loss: 1.4409 - val_accuracy: 0.3109 - val_loss: 10.9166 - learning_rate: 1.0000e-04\n",
      "Epoch 4/30\n",
      "\u001b[1m20/20\u001b[0m \u001b[32m━━━━━━━━━━━━━━━━━━━━\u001b[0m\u001b[37m\u001b[0m \u001b[1m10s\u001b[0m 499ms/step - accuracy: 0.9308 - loss: 1.3994 - val_accuracy: 0.7479 - val_loss: 2.3378 - learning_rate: 1.0000e-04\n",
      "Epoch 5/30\n",
      "\u001b[1m20/20\u001b[0m \u001b[32m━━━━━━━━━━━━━━━━━━━━\u001b[0m\u001b[37m\u001b[0m \u001b[1m10s\u001b[0m 487ms/step - accuracy: 0.9687 - loss: 1.3273 - val_accuracy: 0.8824 - val_loss: 1.6098 - learning_rate: 1.0000e-04\n",
      "Epoch 6/30\n",
      "\u001b[1m20/20\u001b[0m \u001b[32m━━━━━━━━━━━━━━━━━━━━\u001b[0m\u001b[37m\u001b[0m \u001b[1m10s\u001b[0m 478ms/step - accuracy: 0.9784 - loss: 1.2850 - val_accuracy: 0.8403 - val_loss: 1.8124 - learning_rate: 1.0000e-04\n",
      "Epoch 7/30\n",
      "\u001b[1m20/20\u001b[0m \u001b[32m━━━━━━━━━━━━━━━━━━━━\u001b[0m\u001b[37m\u001b[0m \u001b[1m9s\u001b[0m 472ms/step - accuracy: 0.9729 - loss: 1.2612 - val_accuracy: 0.9496 - val_loss: 1.3161 - learning_rate: 1.0000e-04\n",
      "Epoch 8/30\n",
      "\u001b[1m20/20\u001b[0m \u001b[32m━━━━━━━━━━━━━━━━━━━━\u001b[0m\u001b[37m\u001b[0m \u001b[1m9s\u001b[0m 468ms/step - accuracy: 0.9905 - loss: 1.2346 - val_accuracy: 0.8824 - val_loss: 1.6124 - learning_rate: 1.0000e-04\n",
      "Epoch 9/30\n",
      "\u001b[1m20/20\u001b[0m \u001b[32m━━━━━━━━━━━━━━━━━━━━\u001b[0m\u001b[37m\u001b[0m \u001b[1m9s\u001b[0m 468ms/step - accuracy: 0.9664 - loss: 1.2406 - val_accuracy: 0.8571 - val_loss: 1.6581 - learning_rate: 1.0000e-04\n",
      "Epoch 10/30\n",
      "\u001b[1m20/20\u001b[0m \u001b[32m━━━━━━━━━━━━━━━━━━━━\u001b[0m\u001b[37m\u001b[0m \u001b[1m9s\u001b[0m 473ms/step - accuracy: 0.9948 - loss: 1.1817 - val_accuracy: 0.7983 - val_loss: 1.5582 - learning_rate: 1.0000e-04\n",
      "Epoch 11/30\n",
      "\u001b[1m20/20\u001b[0m \u001b[32m━━━━━━━━━━━━━━━━━━━━\u001b[0m\u001b[37m\u001b[0m \u001b[1m10s\u001b[0m 483ms/step - accuracy: 0.9730 - loss: 1.1777 - val_accuracy: 0.9664 - val_loss: 1.1776 - learning_rate: 5.0000e-05\n",
      "Epoch 12/30\n",
      "\u001b[1m20/20\u001b[0m \u001b[32m━━━━━━━━━━━━━━━━━━━━\u001b[0m\u001b[37m\u001b[0m \u001b[1m10s\u001b[0m 485ms/step - accuracy: 0.9822 - loss: 1.1667 - val_accuracy: 1.0000 - val_loss: 1.1127 - learning_rate: 5.0000e-05\n",
      "Epoch 13/30\n",
      "\u001b[1m20/20\u001b[0m \u001b[32m━━━━━━━━━━━━━━━━━━━━\u001b[0m\u001b[37m\u001b[0m \u001b[1m10s\u001b[0m 483ms/step - accuracy: 0.9991 - loss: 1.1249 - val_accuracy: 1.0000 - val_loss: 1.0992 - learning_rate: 5.0000e-05\n",
      "Epoch 14/30\n",
      "\u001b[1m20/20\u001b[0m \u001b[32m━━━━━━━━━━━━━━━━━━━━\u001b[0m\u001b[37m\u001b[0m \u001b[1m10s\u001b[0m 478ms/step - accuracy: 0.9986 - loss: 1.1084 - val_accuracy: 0.9916 - val_loss: 1.1075 - learning_rate: 5.0000e-05\n",
      "Epoch 15/30\n",
      "\u001b[1m20/20\u001b[0m \u001b[32m━━━━━━━━━━━━━━━━━━━━\u001b[0m\u001b[37m\u001b[0m \u001b[1m10s\u001b[0m 477ms/step - accuracy: 0.9989 - loss: 1.0956 - val_accuracy: 0.9664 - val_loss: 1.1468 - learning_rate: 5.0000e-05\n",
      "Epoch 16/30\n",
      "\u001b[1m20/20\u001b[0m \u001b[32m━━━━━━━━━━━━━━━━━━━━\u001b[0m\u001b[37m\u001b[0m \u001b[1m10s\u001b[0m 479ms/step - accuracy: 0.9964 - loss: 1.0865 - val_accuracy: 0.9916 - val_loss: 1.0906 - learning_rate: 5.0000e-05\n",
      "Epoch 17/30\n",
      "\u001b[1m20/20\u001b[0m \u001b[32m━━━━━━━━━━━━━━━━━━━━\u001b[0m\u001b[37m\u001b[0m \u001b[1m10s\u001b[0m 477ms/step - accuracy: 0.9979 - loss: 1.0767 - val_accuracy: 0.9916 - val_loss: 1.0749 - learning_rate: 5.0000e-05\n",
      "Epoch 18/30\n",
      "\u001b[1m20/20\u001b[0m \u001b[32m━━━━━━━━━━━━━━━━━━━━\u001b[0m\u001b[37m\u001b[0m \u001b[1m9s\u001b[0m 475ms/step - accuracy: 0.9964 - loss: 1.0651 - val_accuracy: 0.9916 - val_loss: 1.0884 - learning_rate: 5.0000e-05\n",
      "Epoch 19/30\n",
      "\u001b[1m20/20\u001b[0m \u001b[32m━━━━━━━━━━━━━━━━━━━━\u001b[0m\u001b[37m\u001b[0m \u001b[1m10s\u001b[0m 479ms/step - accuracy: 0.9989 - loss: 1.0620 - val_accuracy: 0.9916 - val_loss: 1.0528 - learning_rate: 5.0000e-05\n",
      "Epoch 20/30\n",
      "\u001b[1m20/20\u001b[0m \u001b[32m━━━━━━━━━━━━━━━━━━━━\u001b[0m\u001b[37m\u001b[0m \u001b[1m10s\u001b[0m 477ms/step - accuracy: 1.0000 - loss: 1.0418 - val_accuracy: 0.9832 - val_loss: 1.0621 - learning_rate: 5.0000e-05\n",
      "Epoch 21/30\n",
      "\u001b[1m20/20\u001b[0m \u001b[32m━━━━━━━━━━━━━━━━━━━━\u001b[0m\u001b[37m\u001b[0m \u001b[1m10s\u001b[0m 481ms/step - accuracy: 0.9964 - loss: 1.0372 - val_accuracy: 1.0000 - val_loss: 1.0172 - learning_rate: 5.0000e-05\n",
      "Epoch 22/30\n",
      "\u001b[1m20/20\u001b[0m \u001b[32m━━━━━━━━━━━━━━━━━━━━\u001b[0m\u001b[37m\u001b[0m \u001b[1m10s\u001b[0m 477ms/step - accuracy: 1.0000 - loss: 1.0217 - val_accuracy: 0.9916 - val_loss: 1.0361 - learning_rate: 5.0000e-05\n",
      "Epoch 23/30\n",
      "\u001b[1m20/20\u001b[0m \u001b[32m━━━━━━━━━━━━━━━━━━━━\u001b[0m\u001b[37m\u001b[0m \u001b[1m10s\u001b[0m 481ms/step - accuracy: 0.9992 - loss: 1.0075 - val_accuracy: 0.9916 - val_loss: 1.0048 - learning_rate: 5.0000e-05\n",
      "Epoch 24/30\n",
      "\u001b[1m20/20\u001b[0m \u001b[32m━━━━━━━━━━━━━━━━━━━━\u001b[0m\u001b[37m\u001b[0m \u001b[1m10s\u001b[0m 480ms/step - accuracy: 0.9976 - loss: 1.0102 - val_accuracy: 0.9916 - val_loss: 1.0047 - learning_rate: 5.0000e-05\n",
      "Epoch 25/30\n",
      "\u001b[1m20/20\u001b[0m \u001b[32m━━━━━━━━━━━━━━━━━━━━\u001b[0m\u001b[37m\u001b[0m \u001b[1m10s\u001b[0m 481ms/step - accuracy: 1.0000 - loss: 0.9912 - val_accuracy: 0.9832 - val_loss: 0.9944 - learning_rate: 5.0000e-05\n",
      "Epoch 26/30\n",
      "\u001b[1m20/20\u001b[0m \u001b[32m━━━━━━━━━━━━━━━━━━━━\u001b[0m\u001b[37m\u001b[0m \u001b[1m10s\u001b[0m 479ms/step - accuracy: 1.0000 - loss: 0.9808 - val_accuracy: 0.9832 - val_loss: 1.0224 - learning_rate: 5.0000e-05\n",
      "Epoch 27/30\n",
      "\u001b[1m20/20\u001b[0m \u001b[32m━━━━━━━━━━━━━━━━━━━━\u001b[0m\u001b[37m\u001b[0m \u001b[1m10s\u001b[0m 483ms/step - accuracy: 0.9885 - loss: 0.9851 - val_accuracy: 0.9916 - val_loss: 0.9813 - learning_rate: 5.0000e-05\n",
      "Epoch 28/30\n",
      "\u001b[1m20/20\u001b[0m \u001b[32m━━━━━━━━━━━━━━━━━━━━\u001b[0m\u001b[37m\u001b[0m \u001b[1m10s\u001b[0m 481ms/step - accuracy: 0.9912 - loss: 0.9747 - val_accuracy: 0.9412 - val_loss: 1.0471 - learning_rate: 5.0000e-05\n",
      "Epoch 29/30\n",
      "\u001b[1m20/20\u001b[0m \u001b[32m━━━━━━━━━━━━━━━━━━━━\u001b[0m\u001b[37m\u001b[0m \u001b[1m10s\u001b[0m 481ms/step - accuracy: 0.9960 - loss: 0.9573 - val_accuracy: 0.9916 - val_loss: 0.9442 - learning_rate: 5.0000e-05\n",
      "Epoch 30/30\n",
      "\u001b[1m20/20\u001b[0m \u001b[32m━━━━━━━━━━━━━━━━━━━━\u001b[0m\u001b[37m\u001b[0m \u001b[1m10s\u001b[0m 479ms/step - accuracy: 1.0000 - loss: 0.9348 - val_accuracy: 0.9832 - val_loss: 0.9511 - learning_rate: 5.0000e-05\n",
      "\n",
      "Evaluating VGG19+LSTM model on test set...\n",
      "Total 149 videos and 149 classes\n",
      "test_gen batch videos shape: (24, 5, 128, 128, 3)\n",
      "test_gen batch labels shape: (24, 10)\n",
      "\u001b[1m7/7\u001b[0m \u001b[32m━━━━━━━━━━━━━━━━━━━━\u001b[0m\u001b[37m\u001b[0m \u001b[1m2s\u001b[0m 317ms/step - accuracy: 0.9572 - loss: 1.0580\n",
      "VGG19+LSTM Test Loss: 1.0445\n",
      "VGG19+LSTM Test Accuracy: 95.97%\n"
     ]
    },
    {
     "data": {
      "image/png": "[encoded data removed]",
      "text/plain": [
       "<Figure size 1200x500 with 2 Axes>"
      ]
     },
     "metadata": {},
     "output_type": "display_data"
    },
    {
     "name": "stdout",
     "output_type": "stream",
     "text": [
      "\u001b[1m7/7\u001b[0m \u001b[32m━━━━━━━━━━━━━━━━━━━━\u001b[0m\u001b[37m\u001b[0m \u001b[1m4s\u001b[0m 398ms/step\n",
      "True classes shape: (149,)\n",
      "Predicted classes shape: (149,)\n",
      "\n",
      "VGG19+LSTM Classification Report:\n",
      "                 precision    recall  f1-score   support\n",
      "\n",
      " two hands wave       1.00      1.00      1.00        14\n",
      "           skip       1.00      1.00      1.00        19\n",
      "  jump in place       0.76      1.00      0.87        13\n",
      "           jump       0.93      1.00      0.96        13\n",
      "           walk       1.00      0.94      0.97        17\n",
      "           bend       1.00      1.00      1.00        12\n",
      "gallop sideways       0.91      1.00      0.95        10\n",
      "            run       1.00      0.94      0.97        16\n",
      "   jumping jack       1.00      1.00      1.00        14\n",
      "  one hand wave       1.00      0.81      0.89        21\n",
      "\n",
      "       accuracy                           0.96       149\n",
      "      macro avg       0.96      0.97      0.96       149\n",
      "   weighted avg       0.97      0.96      0.96       149\n",
      "\n"
     ]
    },
    {
     "name": "stderr",
     "output_type": "stream",
     "text": [
      "/usr/local/lib/python3.11/dist-packages/keras/src/trainers/epoch_iterator.py:151: UserWarning: Your input ran out of data; interrupting training. Make sure that your dataset or generator can generate at least `steps_per_epoch * epochs` batches. You may need to use the `.repeat()` function when building your dataset.\n",
      "  self._interrupted_warning()\n"
     ]
    },
    {
     "data": {
      "image/png": "[encoded data removed]",
      "text/plain": [
       "<Figure size 800x600 with 2 Axes>"
      ]
     },
     "metadata": {},
     "output_type": "display_data"
    }
   ],
   "source": [
    "# Import necessary libraries\n",
    "from tensorflow.keras.applications import VGG19\n",
    "from tensorflow.keras.models import Sequential\n",
    "from tensorflow.keras.layers import TimeDistributed, GlobalAveragePooling2D, LSTM, Dropout, Dense, BatchNormalization, GRU\n",
    "from tensorflow.keras.regularizers import l2\n",
    "from tensorflow.keras.callbacks import EarlyStopping, ReduceLROnPlateau\n",
    "from tensorflow.keras.utils import to_categorical\n",
    "import tensorflow as tf\n",
    "import numpy as np\n",
    "import gc\n",
    "\n",
    "# Clear memory before creating the new model\n",
    "gc.collect()\n",
    "tf.keras.backend.clear_session()\n",
    "print(\"Memory cleared before creating VGG19+LSTM model\")\n",
    "\n",
    "# Print TensorFlow version\n",
    "print(f\"TensorFlow version: {tf.__version__}\")\n",
    "\n",
    "# Pre-load VGG19 weights\n",
    "print(\"Pre-loading VGG19 weights...\")\n",
    "try:\n",
    "    base_model = VGG19(weights='imagenet', include_top=False, input_shape=(IMAGE_HEIGHT, IMAGE_WIDTH, 3))\n",
    "    print(\"VGG19 weights loaded successfully!\")\n",
    "except Exception as e:\n",
    "    print(f\"Failed to load VGG19 weights: {str(e)}\")\n",
    "    print(\"Falling back to initializing VGG19 without pre-trained weights...\")\n",
    "    base_model = VGG19(weights=None, include_top=False, input_shape=(IMAGE_HEIGHT, IMAGE_WIDTH, 3))\n",
    "\n",
    "# Define function to create VGG19+LSTM model\n",
    "def create_vgg19_lstm_model(sequence_length, image_height, image_width, classes_list=None, dropout_rate=0.5, base_model=None):\n",
    "    print(\"Creating VGG19+LSTM model with parameters:\")\n",
    "    print(f\"sequence_length: {sequence_length}, image_height: {image_height}, image_width: {image_width}, classes_list length: {len(classes_list) if classes_list is not None else None}, dropout_rate: {dropout_rate}\")\n",
    "    \n",
    "    if classes_list is None:\n",
    "        raise ValueError(\"classes_list must be provided to define the output layer size\")\n",
    "    if base_model is None:\n",
    "        raise ValueError(\"base_model must be provided to avoid re-downloading weights\")\n",
    "\n",
    "    try:\n",
    "        # Use the pre-loaded base model\n",
    "        vgg19 = base_model\n",
    "        # Freeze the base model for initial training\n",
    "        vgg19.trainable = False\n",
    "\n",
    "        # Define the Sequential model\n",
    "        model = Sequential([\n",
    "            # TimeDistributed VGG19 model\n",
    "            TimeDistributed(\n",
    "                vgg19,\n",
    "                input_shape=(sequence_length, image_height, image_width, 3),\n",
    "                name=\"time_distributed_vgg19\"\n",
    "            ),\n",
    "            # TimeDistributed GlobalAveragePooling2D\n",
    "            TimeDistributed(GlobalAveragePooling2D(), name=\"time_distributed_pooling\"),\n",
    "            # LSTM layer with 512 units\n",
    "            GRU(256, activation=\"tanh\", return_sequences=False, kernel_regularizer=l2(0.01), name=\"gru_256\"),\n",
    "            BatchNormalization(name=\"batch_normalization_vgg19\"),\n",
    "            # Dropout after LSTM\n",
    "            Dropout(dropout_rate, name=\"dropout_lstm_vgg19\"),\n",
    "            # Dense layer with 512 units\n",
    "            Dense(512, activation=\"relu\", kernel_regularizer=l2(0.01), name=\"dense_vgg19_1\"),\n",
    "            # Dropout after first Dense\n",
    "            Dropout(dropout_rate, name=\"dropout_dense_vgg19_1\"),\n",
    "            # Dense layer with 128 units\n",
    "            Dense(128, activation=\"relu\", kernel_regularizer=l2(0.01), name=\"dense_vgg19_2\"),\n",
    "            # Dropout after second Dense\n",
    "            Dropout(dropout_rate, name=\"dropout_dense_vgg19_2\"),\n",
    "            # Output Dense layer with softmax activation\n",
    "            Dense(len(classes_list), activation=\"softmax\", name=\"output_vgg19\")\n",
    "        ])\n",
    "\n",
    "        # Print model summary\n",
    "        print(\"VGG19+LSTM model architecture created successfully!\")\n",
    "        model.summary()\n",
    "\n",
    "        return model\n",
    "\n",
    "    except Exception as e:\n",
    "        print(f\"Error creating VGG19+LSTM model: {str(e)}\")\n",
    "        import traceback\n",
    "        traceback.print_exc()\n",
    "        return None\n",
    "\n",
    "# Create the VGG19+LSTM model using the pre-loaded base model\n",
    "vgg19_lstm_model = create_vgg19_lstm_model(\n",
    "    sequence_length=SEQUENCE_LENGTH,\n",
    "    image_height=IMAGE_HEIGHT,\n",
    "    image_width=IMAGE_WIDTH,\n",
    "    classes_list=CLASSES_LIST,\n",
    "    dropout_rate=DROPOUT_RATE,\n",
    "    base_model=base_model\n",
    ")\n",
    "\n",
    "# Check if model was created successfully\n",
    "if vgg19_lstm_model is None:\n",
    "    raise ValueError(\"Failed to create VGG19+LSTM model. Check error messages above.\")\n",
    "else:\n",
    "    print(\"VGG19+LSTM Model Created Successfully!\")\n",
    "\n",
    "# Plot the model structure\n",
    "from tensorflow.keras.utils import plot_model\n",
    "try:\n",
    "    plot_model(vgg19_lstm_model, to_file=f'{MODEL_NAME}_VGG19_LSTM_model_Plot.png', show_shapes=True, show_layer_names=True)\n",
    "    print(f\"{MODEL_NAME}_VGG19_LSTM Model Plot saved successfully...\")\n",
    "except Exception as e:\n",
    "    print(f\"Failed to plot model: {str(e)}\")\n",
    "\n",
    "# Verify data shapes\n",
    "print(f\"train_gen.videos shape: {np.shape(train_gen.videos)}\")\n",
    "print(f\"train_gen.labels shape: {np.shape(train_gen.labels)}\")\n",
    "print(f\"val_gen.videos shape: {np.shape(val_gen.videos)}\")\n",
    "print(f\"val_gen.labels shape: {np.shape(val_gen.labels)}\")\n",
    "print(f\"features_test shape: {np.shape(features_test)}\")\n",
    "print(f\"labels_test shape: {np.shape(labels_test)}\")\n",
    "\n",
    "# Ensure labels_test is one-hot encoded\n",
    "if len(labels_test.shape) == 1:\n",
    "    print(\"Converting labels_test to one-hot encoded format...\")\n",
    "    labels_test = to_categorical(labels_test, num_classes=NO_OF_CLASSES)\n",
    "    print(f\"New labels_test shape: {labels_test.shape}\")\n",
    "\n",
    "# Verify generator batch shapes\n",
    "try:\n",
    "    videos, labels = train_gen[0]\n",
    "    print(f\"train_gen batch videos shape: {videos.shape}\")\n",
    "    print(f\"train_gen batch labels shape: {labels.shape}\")\n",
    "    videos, labels = val_gen[0]\n",
    "    print(f\"val_gen batch videos shape: {videos.shape}\")\n",
    "    print(f\"val_gen batch labels shape: {labels.shape}\")\n",
    "except Exception as e:\n",
    "    print(f\"Error accessing generator data: {str(e)}\")\n",
    "\n",
    "# Compile the model for initial training\n",
    "early_stopping_callback = EarlyStopping(monitor='val_loss', patience=7, mode='min', restore_best_weights=True)\n",
    "lr_scheduler = ReduceLROnPlateau(monitor='val_loss', factor=0.5, patience=3, min_lr=1e-6)\n",
    "\n",
    "vgg19_lstm_model.compile(\n",
    "    loss='categorical_crossentropy',\n",
    "    optimizer=tf.keras.optimizers.Adam(learning_rate=0.001),  # Higher learning rate for initial training\n",
    "    metrics=['accuracy']\n",
    ")\n",
    "\n",
    "# Print dataset summary\n",
    "print(f\"Dataset - {DATASET_NAME}\")\n",
    "print(f\"There are total {len(ALL_CLASS_NAMES)} classes, selected {NO_OF_CLASSES} classes\")\n",
    "print(f\"Setting {MAX_VIDEO_PER_CLASS} videos/class to train the model.\")\n",
    "print(f\"Image size {IMAGE_HEIGHT}x{IMAGE_WIDTH} with {SEQUENCE_LENGTH} sequence length\")\n",
    "print(f\"Dropout rate: {DROPOUT_RATE}\")\n",
    "print(f\"Train-Test split ratio {int((1-TEST_SIZE)*100)}/{int(TEST_SIZE*100)}\")\n",
    "print(f\"Validation data from Train set {VALIDATION_SPLIT*100}%\")\n",
    "print(\"\\n\")\n",
    "\n",
    "# Initial training with frozen base model\n",
    "print(f\"Initial training started for VGG19+LSTM model with {len(train_gen.videos)} videos of {NO_OF_CLASSES} classes with {len(val_gen.videos)} videos for validation...\")\n",
    "try:\n",
    "    vgg19_history_initial = vgg19_lstm_model.fit(\n",
    "        train_gen.as_dataset(),\n",
    "        validation_data=val_gen.as_dataset(),\n",
    "        epochs=EPOCHS,\n",
    "        class_weight=class_weights,\n",
    "        callbacks=[early_stopping_callback, lr_scheduler]\n",
    "    )\n",
    "except Exception as e:\n",
    "    print(f\"Error during initial model training: {str(e)}\")\n",
    "    import traceback\n",
    "    traceback.print_exc()\n",
    "\n",
    "# Unfreeze some layers for fine-tuning\n",
    "base_model.trainable = True\n",
    "# Freeze all layers except the last 8 layers (consistent with previous VGG19 code)\n",
    "for layer in base_model.layers[:-8]:\n",
    "    layer.trainable = False\n",
    "\n",
    "# Recompile the model with a lower learning rate for fine-tuning\n",
    "vgg19_lstm_model.compile(\n",
    "    loss='categorical_crossentropy',\n",
    "    optimizer=tf.keras.optimizers.Adam(learning_rate=0.0001),  # Lower learning rate for fine-tuning\n",
    "    metrics=['accuracy']\n",
    ")\n",
    "\n",
    "# Fine-tune the model\n",
    "print(f\"\\nFine-tuning started for VGG19+LSTM model with {len(train_gen.videos)} videos of {NO_OF_CLASSES} classes with {len(val_gen.videos)} videos for validation...\")\n",
    "try:\n",
    "    vgg19_history_fine = vgg19_lstm_model.fit(\n",
    "        train_gen.as_dataset(),\n",
    "        validation_data=val_gen.as_dataset(),\n",
    "        epochs=EPOCHS,\n",
    "        class_weight=class_weights,\n",
    "        callbacks=[early_stopping_callback, lr_scheduler]\n",
    "    )\n",
    "except Exception as e:\n",
    "    print(f\"Error during fine-tuning: {str(e)}\")\n",
    "    import traceback\n",
    "    traceback.print_exc()\n",
    "\n",
    "# Evaluate the model on the test set\n",
    "print(\"\\nEvaluating VGG19+LSTM model on test set...\")\n",
    "test_gen = VideoDataGenerator(\n",
    "    videos=features_test,\n",
    "    labels=labels_test,\n",
    "    batch_size=BATCH_SIZE\n",
    ")\n",
    "try:\n",
    "    videos, labels = test_gen[0]\n",
    "    print(f\"test_gen batch videos shape: {videos.shape}\")\n",
    "    print(f\"test_gen batch labels shape: {labels.shape}\")\n",
    "    loss, accuracy = vgg19_lstm_model.evaluate(test_gen.as_dataset())\n",
    "    print(f'VGG19+LSTM Test Loss: {loss:.4f}')\n",
    "    print(f'VGG19+LSTM Test Accuracy: {accuracy * 100:.2f}%')\n",
    "except Exception as e:\n",
    "    print(f\"Error during model evaluation: {str(e)}\")\n",
    "    import traceback\n",
    "    traceback.print_exc()\n",
    "\n",
    "# Plot training history (combine initial and fine-tuning)\n",
    "import matplotlib.pyplot as plt\n",
    "\n",
    "try:\n",
    "    # Combine histories\n",
    "    history_accuracy = vgg19_history_initial.history['accuracy'] + vgg19_history_fine.history['accuracy']\n",
    "    history_val_accuracy = vgg19_history_initial.history['val_accuracy'] + vgg19_history_fine.history['val_accuracy']\n",
    "    history_loss = vgg19_history_initial.history['loss'] + vgg19_history_fine.history['loss']\n",
    "    history_val_loss = vgg19_history_initial.history['val_loss'] + vgg19_history_fine.history['val_loss']\n",
    "\n",
    "    plt.figure(figsize=(12, 5))\n",
    "\n",
    "    # Accuracy\n",
    "    plt.subplot(1, 2, 1)\n",
    "    plt.plot(history_accuracy, label='Train Accuracy')\n",
    "    plt.plot(history_val_accuracy, label='Validation Accuracy')\n",
    "    plt.axvline(x=len(vgg19_history_initial.history['accuracy']), color='r', linestyle='--', label='Start Fine-Tuning')\n",
    "    plt.title('VGG19+LSTM Model Accuracy')\n",
    "    plt.xlabel('Epoch')\n",
    "    plt.ylabel('Accuracy')\n",
    "    plt.legend()\n",
    "\n",
    "    # Loss\n",
    "    plt.subplot(1, 2, 2)\n",
    "    plt.plot(history_loss, label='Train Loss')\n",
    "    plt.plot(history_val_loss, label='Validation Loss')\n",
    "    plt.axvline(x=len(vgg19_history_initial.history['loss']), color='r', linestyle='--', label='Start Fine-Tuning')\n",
    "    plt.title('VGG19+LSTM Model Loss')\n",
    "    plt.xlabel('Epoch')\n",
    "    plt.ylabel('Loss')\n",
    "    plt.legend()\n",
    "\n",
    "    plt.tight_layout()\n",
    "    plt.show()\n",
    "except Exception as e:\n",
    "    print(f\"Error plotting training history: {str(e)}\")\n",
    "\n",
    "# Generate confusion matrix and classification report\n",
    "from sklearn.metrics import classification_report, confusion_matrix\n",
    "import seaborn as sns\n",
    "\n",
    "# Get predictions\n",
    "try:\n",
    "    predictions = vgg19_lstm_model.predict(test_gen.as_dataset())\n",
    "    predicted_classes = np.argmax(predictions, axis=1)\n",
    "    true_classes = np.argmax(labels_test, axis=1)\n",
    "\n",
    "    # Verify shapes\n",
    "    print(f\"True classes shape: {true_classes.shape}\")\n",
    "    print(f\"Predicted classes shape: {predicted_classes.shape}\")\n",
    "    assert len(true_classes) == len(predicted_classes), \"Sample counts do not match!\"\n",
    "\n",
    "    # Generate classification report\n",
    "    print(\"\\nVGG19+LSTM Classification Report:\")\n",
    "    print(classification_report(true_classes, predicted_classes, target_names=CLASSES_LIST))\n",
    "\n",
    "    # Plot confusion matrix\n",
    "    cm = confusion_matrix(true_classes, predicted_classes)\n",
    "    plt.figure(figsize=(8, 6))\n",
    "    sns.heatmap(cm, annot=True, fmt='d', cmap='Blues', xticklabels=CLASSES_LIST, yticklabels=CLASSES_LIST)\n",
    "    plt.xlabel('Predicted')\n",
    "    plt.ylabel('True')\n",
    "    plt.title('VGG19+LSTM Confusion Matrix')\n",
    "    plt.show()\n",
    "except Exception as e:\n",
    "    print(f\"Error during prediction or plotting: {str(e)}\")\n",
    "    import traceback\n",
    "    traceback.print_exc()"
   ]
  },
  {
   "cell_type": "code",
   "execution_count": 56,
   "id": "67028b91",
   "metadata": {
    "execution": {
     "iopub.execute_input": "2025-07-12T14:35:04.048284Z",
     "iopub.status.busy": "2025-07-12T14:35:04.047131Z",
     "iopub.status.idle": "2025-07-12T14:35:08.291609Z",
     "shell.execute_reply": "2025-07-12T14:35:08.290849Z"
    },
    "papermill": {
     "duration": 4.32903,
     "end_time": "2025-07-12T14:35:08.292998",
     "exception": false,
     "start_time": "2025-07-12T14:35:03.963968",
     "status": "completed"
    },
    "tags": []
   },
   "outputs": [
    {
     "name": "stdout",
     "output_type": "stream",
     "text": [
      "\u001b[1m5/5\u001b[0m \u001b[32m━━━━━━━━━━━━━━━━━━━━\u001b[0m\u001b[37m\u001b[0m \u001b[1m4s\u001b[0m 525ms/step - accuracy: 0.9493 - loss: 1.0695\n"
     ]
    }
   ],
   "source": [
    "# previous code\n",
    "model_evaluation_history = vgg19_lstm_model.evaluate(features_test, labels_test)"
   ]
  }
 ],
 "metadata": {
  "kaggle": {
   "accelerator": "nvidiaTeslaT4",
   "dataSources": [
    {
     "datasetId": 1357563,
     "sourceId": 2256095,
     "sourceType": "datasetVersion"
    },
    {
     "datasetId": 7763484,
     "sourceId": 12338519,
     "sourceType": "datasetVersion"
    },
    {
     "datasetId": 7801555,
     "sourceId": 12373067,
     "sourceType": "datasetVersion"
    },
    {
     "datasetId": 7801884,
     "sourceId": 12373562,
     "sourceType": "datasetVersion"
    },
    {
     "datasetId": 7818195,
     "sourceId": 12397892,
     "sourceType": "datasetVersion"
    }
   ],
   "dockerImageVersionId": 31090,
   "isGpuEnabled": true,
   "isInternetEnabled": true,
   "language": "python",
   "sourceType": "notebook"
  },
  "kernelspec": {
   "display_name": "Python 3",
   "language": "python",
   "name": "python3"
  },
  "language_info": {
   "codemirror_mode": {
    "name": "ipython",
    "version": 3
   },
   "file_extension": ".py",
   "mimetype": "text/x-python",
   "name": "python",
   "nbconvert_exporter": "python",
   "pygments_lexer": "ipython3",
   "version": "3.11.13"
  },
  "papermill": {
   "default_parameters": {},
   "duration": 593.468531,
   "end_time": "2025-07-12T14:35:12.159207",
   "environment_variables": {},
   "exception": null,
   "input_path": "__notebook__.ipynb",
   "output_path": "__notebook__.ipynb",
   "parameters": {},
   "start_time": "2025-07-12T14:25:18.690676",
   "version": "2.6.0"
  }
 },
 "nbformat": 4,
 "nbformat_minor": 5
}
