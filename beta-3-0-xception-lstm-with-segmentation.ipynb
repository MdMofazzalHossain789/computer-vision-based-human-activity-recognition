{
 "cells": [
  {
   "cell_type": "markdown",
   "id": "516efc8b",
   "metadata": {
    "papermill": {
     "duration": 0.011944,
     "end_time": "2025-07-06T07:05:52.938792",
     "exception": false,
     "start_time": "2025-07-06T07:05:52.926848",
     "status": "completed"
    },
    "tags": []
   },
   "source": [
    "# Initialization\n",
    "## Import Libraries"
   ]
  },
  {
   "cell_type": "code",
   "execution_count": 1,
   "id": "6bb08834",
   "metadata": {
    "execution": {
     "iopub.execute_input": "2025-07-06T07:05:52.960715Z",
     "iopub.status.busy": "2025-07-06T07:05:52.960485Z",
     "iopub.status.idle": "2025-07-06T07:06:08.687574Z",
     "shell.execute_reply": "2025-07-06T07:06:08.686716Z"
    },
    "papermill": {
     "duration": 15.739694,
     "end_time": "2025-07-06T07:06:08.688800",
     "exception": false,
     "start_time": "2025-07-06T07:05:52.949106",
     "status": "completed"
    },
    "tags": []
   },
   "outputs": [
    {
     "name": "stdout",
     "output_type": "stream",
     "text": [
      "Collecting mediapipe\r\n",
      "  Downloading mediapipe-0.10.21-cp311-cp311-manylinux_2_28_x86_64.whl.metadata (9.7 kB)\r\n",
      "Requirement already satisfied: absl-py in /usr/local/lib/python3.11/dist-packages (from mediapipe) (1.4.0)\r\n",
      "Requirement already satisfied: attrs>=19.1.0 in /usr/local/lib/python3.11/dist-packages (from mediapipe) (25.3.0)\r\n",
      "Requirement already satisfied: flatbuffers>=2.0 in /usr/local/lib/python3.11/dist-packages (from mediapipe) (25.2.10)\r\n",
      "Requirement already satisfied: jax in /usr/local/lib/python3.11/dist-packages (from mediapipe) (0.5.2)\r\n",
      "Requirement already satisfied: jaxlib in /usr/local/lib/python3.11/dist-packages (from mediapipe) (0.5.1)\r\n",
      "Requirement already satisfied: matplotlib in /usr/local/lib/python3.11/dist-packages (from mediapipe) (3.7.2)\r\n",
      "Requirement already satisfied: numpy<2 in /usr/local/lib/python3.11/dist-packages (from mediapipe) (1.26.4)\r\n",
      "Requirement already satisfied: opencv-contrib-python in /usr/local/lib/python3.11/dist-packages (from mediapipe) (4.11.0.86)\r\n",
      "Collecting protobuf<5,>=4.25.3 (from mediapipe)\r\n",
      "  Downloading protobuf-4.25.8-cp37-abi3-manylinux2014_x86_64.whl.metadata (541 bytes)\r\n",
      "Collecting sounddevice>=0.4.4 (from mediapipe)\r\n",
      "  Downloading sounddevice-0.5.2-py3-none-any.whl.metadata (1.6 kB)\r\n",
      "Requirement already satisfied: sentencepiece in /usr/local/lib/python3.11/dist-packages (from mediapipe) (0.2.0)\r\n",
      "Requirement already satisfied: mkl_fft in /usr/local/lib/python3.11/dist-packages (from numpy<2->mediapipe) (1.3.8)\r\n",
      "Requirement already satisfied: mkl_random in /usr/local/lib/python3.11/dist-packages (from numpy<2->mediapipe) (1.2.4)\r\n",
      "Requirement already satisfied: mkl_umath in /usr/local/lib/python3.11/dist-packages (from numpy<2->mediapipe) (0.1.1)\r\n",
      "Requirement already satisfied: mkl in /usr/local/lib/python3.11/dist-packages (from numpy<2->mediapipe) (2025.1.0)\r\n",
      "Requirement already satisfied: tbb4py in /usr/local/lib/python3.11/dist-packages (from numpy<2->mediapipe) (2022.1.0)\r\n",
      "Requirement already satisfied: mkl-service in /usr/local/lib/python3.11/dist-packages (from numpy<2->mediapipe) (2.4.1)\r\n",
      "Requirement already satisfied: CFFI>=1.0 in /usr/local/lib/python3.11/dist-packages (from sounddevice>=0.4.4->mediapipe) (1.17.1)\r\n",
      "Requirement already satisfied: ml_dtypes>=0.4.0 in /usr/local/lib/python3.11/dist-packages (from jax->mediapipe) (0.4.1)\r\n",
      "Requirement already satisfied: opt_einsum in /usr/local/lib/python3.11/dist-packages (from jax->mediapipe) (3.4.0)\r\n",
      "Requirement already satisfied: scipy>=1.11.1 in /usr/local/lib/python3.11/dist-packages (from jax->mediapipe) (1.15.2)\r\n",
      "Requirement already satisfied: contourpy>=1.0.1 in /usr/local/lib/python3.11/dist-packages (from matplotlib->mediapipe) (1.3.1)\r\n",
      "Requirement already satisfied: cycler>=0.10 in /usr/local/lib/python3.11/dist-packages (from matplotlib->mediapipe) (0.12.1)\r\n",
      "Requirement already satisfied: fonttools>=4.22.0 in /usr/local/lib/python3.11/dist-packages (from matplotlib->mediapipe) (4.57.0)\r\n",
      "Requirement already satisfied: kiwisolver>=1.0.1 in /usr/local/lib/python3.11/dist-packages (from matplotlib->mediapipe) (1.4.8)\r\n",
      "Requirement already satisfied: packaging>=20.0 in /usr/local/lib/python3.11/dist-packages (from matplotlib->mediapipe) (25.0)\r\n",
      "Requirement already satisfied: pillow>=6.2.0 in /usr/local/lib/python3.11/dist-packages (from matplotlib->mediapipe) (11.1.0)\r\n",
      "Requirement already satisfied: pyparsing<3.1,>=2.3.1 in /usr/local/lib/python3.11/dist-packages (from matplotlib->mediapipe) (3.0.9)\r\n",
      "Requirement already satisfied: python-dateutil>=2.7 in /usr/local/lib/python3.11/dist-packages (from matplotlib->mediapipe) (2.9.0.post0)\r\n",
      "Requirement already satisfied: pycparser in /usr/local/lib/python3.11/dist-packages (from CFFI>=1.0->sounddevice>=0.4.4->mediapipe) (2.22)\r\n",
      "Requirement already satisfied: six>=1.5 in /usr/local/lib/python3.11/dist-packages (from python-dateutil>=2.7->matplotlib->mediapipe) (1.17.0)\r\n",
      "Requirement already satisfied: intel-openmp<2026,>=2024 in /usr/local/lib/python3.11/dist-packages (from mkl->numpy<2->mediapipe) (2024.2.0)\r\n",
      "Requirement already satisfied: tbb==2022.* in /usr/local/lib/python3.11/dist-packages (from mkl->numpy<2->mediapipe) (2022.1.0)\r\n",
      "Requirement already satisfied: tcmlib==1.* in /usr/local/lib/python3.11/dist-packages (from tbb==2022.*->mkl->numpy<2->mediapipe) (1.3.0)\r\n",
      "Requirement already satisfied: intel-cmplr-lib-rt in /usr/local/lib/python3.11/dist-packages (from mkl_umath->numpy<2->mediapipe) (2024.2.0)\r\n",
      "Requirement already satisfied: intel-cmplr-lib-ur==2024.2.0 in /usr/local/lib/python3.11/dist-packages (from intel-openmp<2026,>=2024->mkl->numpy<2->mediapipe) (2024.2.0)\r\n",
      "Downloading mediapipe-0.10.21-cp311-cp311-manylinux_2_28_x86_64.whl (35.6 MB)\r\n",
      "\u001b[2K   \u001b[90m━━━━━━━━━━━━━━━━━━━━━━━━━━━━━━━━━━━━━━━━\u001b[0m \u001b[32m35.6/35.6 MB\u001b[0m \u001b[31m52.7 MB/s\u001b[0m eta \u001b[36m0:00:00\u001b[0m\r\n",
      "\u001b[?25hDownloading protobuf-4.25.8-cp37-abi3-manylinux2014_x86_64.whl (294 kB)\r\n",
      "\u001b[2K   \u001b[90m━━━━━━━━━━━━━━━━━━━━━━━━━━━━━━━━━━━━━━━━\u001b[0m \u001b[32m294.9/294.9 kB\u001b[0m \u001b[31m22.4 MB/s\u001b[0m eta \u001b[36m0:00:00\u001b[0m\r\n",
      "\u001b[?25hDownloading sounddevice-0.5.2-py3-none-any.whl (32 kB)\r\n",
      "Installing collected packages: protobuf, sounddevice, mediapipe\r\n",
      "  Attempting uninstall: protobuf\r\n",
      "    Found existing installation: protobuf 3.20.3\r\n",
      "    Uninstalling protobuf-3.20.3:\r\n",
      "      Successfully uninstalled protobuf-3.20.3\r\n",
      "\u001b[31mERROR: pip's dependency resolver does not currently take into account all the packages that are installed. This behaviour is the source of the following dependency conflicts.\r\n",
      "google-api-core 1.34.1 requires protobuf!=3.20.0,!=3.20.1,!=4.21.0,!=4.21.1,!=4.21.2,!=4.21.3,!=4.21.4,!=4.21.5,<4.0.0dev,>=3.19.5, but you have protobuf 4.25.8 which is incompatible.\r\n",
      "bigframes 1.42.0 requires rich<14,>=12.4.4, but you have rich 14.0.0 which is incompatible.\r\n",
      "google-spark-connect 0.5.2 requires google-api-core>=2.19.1, but you have google-api-core 1.34.1 which is incompatible.\r\n",
      "google-cloud-bigtable 2.30.0 requires google-api-core[grpc]<3.0.0,>=2.16.0, but you have google-api-core 1.34.1 which is incompatible.\r\n",
      "google-cloud-storage 2.19.0 requires google-api-core<3.0.0dev,>=2.15.0, but you have google-api-core 1.34.1 which is incompatible.\r\n",
      "pandas-gbq 0.28.0 requires google-api-core<3.0.0dev,>=2.10.2, but you have google-api-core 1.34.1 which is incompatible.\u001b[0m\u001b[31m\r\n",
      "\u001b[0mSuccessfully installed mediapipe-0.10.21 protobuf-4.25.8 sounddevice-0.5.2\r\n",
      "Note: you may need to restart the kernel to use updated packages.\n"
     ]
    }
   ],
   "source": [
    "pip install mediapipe"
   ]
  },
  {
   "cell_type": "code",
   "execution_count": 2,
   "id": "299b50b4",
   "metadata": {
    "_cell_guid": "b1076dfc-b9ad-4769-8c92-a6c4dae69d19",
    "_uuid": "8f2839f25d086af736a60e9eeb907d3b93b6e0e5",
    "execution": {
     "iopub.execute_input": "2025-07-06T07:06:08.712637Z",
     "iopub.status.busy": "2025-07-06T07:06:08.712344Z",
     "iopub.status.idle": "2025-07-06T07:06:22.848649Z",
     "shell.execute_reply": "2025-07-06T07:06:22.848059Z"
    },
    "papermill": {
     "duration": 14.149905,
     "end_time": "2025-07-06T07:06:22.850374",
     "exception": false,
     "start_time": "2025-07-06T07:06:08.700469",
     "status": "completed"
    },
    "tags": []
   },
   "outputs": [
    {
     "name": "stderr",
     "output_type": "stream",
     "text": [
      "2025-07-06 07:06:10.218687: E external/local_xla/xla/stream_executor/cuda/cuda_fft.cc:477] Unable to register cuFFT factory: Attempting to register factory for plugin cuFFT when one has already been registered\n",
      "WARNING: All log messages before absl::InitializeLog() is called are written to STDERR\n",
      "E0000 00:00:1751785570.399873      19 cuda_dnn.cc:8310] Unable to register cuDNN factory: Attempting to register factory for plugin cuDNN when one has already been registered\n",
      "E0000 00:00:1751785570.452892      19 cuda_blas.cc:1418] Unable to register cuBLAS factory: Attempting to register factory for plugin cuBLAS when one has already been registered\n"
     ]
    }
   ],
   "source": [
    "# install librarires\n",
    "import os\n",
    "import tensorflow as tf\n",
    "import numpy as np\n",
    "import random"
   ]
  },
  {
   "cell_type": "markdown",
   "id": "eb6bf2f7",
   "metadata": {
    "papermill": {
     "duration": 0.011937,
     "end_time": "2025-07-06T07:06:22.874740",
     "exception": false,
     "start_time": "2025-07-06T07:06:22.862803",
     "status": "completed"
    },
    "tags": []
   },
   "source": [
    "## ℹ️ Set Global Constants"
   ]
  },
  {
   "cell_type": "code",
   "execution_count": 3,
   "id": "d66a403d",
   "metadata": {
    "execution": {
     "iopub.execute_input": "2025-07-06T07:06:22.898853Z",
     "iopub.status.busy": "2025-07-06T07:06:22.898435Z",
     "iopub.status.idle": "2025-07-06T07:06:22.915234Z",
     "shell.execute_reply": "2025-07-06T07:06:22.914553Z"
    },
    "papermill": {
     "duration": 0.029825,
     "end_time": "2025-07-06T07:06:22.916292",
     "exception": false,
     "start_time": "2025-07-06T07:06:22.886467",
     "status": "completed"
    },
    "tags": []
   },
   "outputs": [
    {
     "name": "stdout",
     "output_type": "stream",
     "text": [
      "Kard Kinect Activity Recognition Dataset\n",
      "There are total 18 classes, selected 18 classes\n",
      "Setting 20/class to train the model.\n",
      "Image size 128x128 with 5 sequence length\n",
      "Dropout rate: 0.5\n",
      "Train-Test split ratio 80/20\n",
      "Validation data from Train set 20.0%\n"
     ]
    }
   ],
   "source": [
    "# global variables\n",
    "# set dataset directories\n",
    "\n",
    "\n",
    "DATASET_DIR = \"/kaggle/input/kard-kinect-activity-recognition-dataset\"\n",
    "DATASET_NAME = DATASET_DIR.split(\"/\")[-1].replace(\"-\", \" \").title()\n",
    "\n",
    "print(DATASET_NAME)\n",
    "\n",
    "ALL_CLASS_NAMES = os.listdir(DATASET_DIR)\n",
    "\n",
    "# Global constant variables -> \n",
    "NO_OF_CLASSES = 18\n",
    "CLASSES_LIST = ALL_CLASS_NAMES[:NO_OF_CLASSES]\n",
    "\n",
    "# Model Configuration\n",
    "IMAGE_HEIGHT, IMAGE_WIDTH = 128, 128\n",
    "SEQUENCE_LENGTH = 5\n",
    "\n",
    "# set drop out rate\n",
    "DROPOUT_RATE = 0.5\n",
    "\n",
    "# set datas\n",
    "MAX_VIDEO_PER_CLASS = 20\n",
    "\n",
    "# split dataset\n",
    "TEST_SIZE = 0.20\n",
    "\n",
    "# model fit parameters\n",
    "EPOCHS = 30\n",
    "BATCH_SIZE = 16\n",
    "VALIDATION_SPLIT = 0.20\n",
    "\n",
    "# augmentation values\n",
    "NOISE_FACTOR = 0.02\n",
    "SHEAR_X= 1\n",
    "SHEAR_Y= 1\n",
    "\n",
    "# give a name of the model to save\n",
    "MODEL_NAME = \"Xception\"\n",
    "\n",
    "print(f\"There are total {len(ALL_CLASS_NAMES)} classes, selected {NO_OF_CLASSES} classes\")\n",
    "print(f\"Setting {MAX_VIDEO_PER_CLASS}/class to train the model.\")\n",
    "print(f\"Image size {IMAGE_HEIGHT}x{IMAGE_WIDTH} with {SEQUENCE_LENGTH} sequence length\")\n",
    "print(f\"Dropout rate: {DROPOUT_RATE}\")\n",
    "print(f\"Train-Test split ratio {int((1-TEST_SIZE)*100)}/{int(TEST_SIZE*100)}\")\n",
    "print(f\"Validation data from Train set {VALIDATION_SPLIT*100}%\")"
   ]
  },
  {
   "cell_type": "markdown",
   "id": "0fc7438c",
   "metadata": {
    "papermill": {
     "duration": 0.011045,
     "end_time": "2025-07-06T07:06:22.938420",
     "exception": false,
     "start_time": "2025-07-06T07:06:22.927375",
     "status": "completed"
    },
    "tags": []
   },
   "source": [
    "## Set `Seed` Values"
   ]
  },
  {
   "cell_type": "code",
   "execution_count": 4,
   "id": "c7597ad9",
   "metadata": {
    "execution": {
     "iopub.execute_input": "2025-07-06T07:06:22.961890Z",
     "iopub.status.busy": "2025-07-06T07:06:22.961275Z",
     "iopub.status.idle": "2025-07-06T07:06:22.965133Z",
     "shell.execute_reply": "2025-07-06T07:06:22.964556Z"
    },
    "papermill": {
     "duration": 0.016608,
     "end_time": "2025-07-06T07:06:22.966154",
     "exception": false,
     "start_time": "2025-07-06T07:06:22.949546",
     "status": "completed"
    },
    "tags": []
   },
   "outputs": [],
   "source": [
    "# set seeed to get similar values\n",
    "seed_constant = 27\n",
    "np.random.seed(seed_constant)\n",
    "random.seed(seed_constant)\n",
    "tf.random.set_seed(seed_constant)"
   ]
  },
  {
   "cell_type": "markdown",
   "id": "055f0239",
   "metadata": {
    "papermill": {
     "duration": 0.010828,
     "end_time": "2025-07-06T07:06:22.988023",
     "exception": false,
     "start_time": "2025-07-06T07:06:22.977195",
     "status": "completed"
    },
    "tags": []
   },
   "source": [
    "# 📌 Function Definition\n",
    "## Resize and Frame Extraction"
   ]
  },
  {
   "cell_type": "code",
   "execution_count": 5,
   "id": "0bf5ec52",
   "metadata": {
    "execution": {
     "iopub.execute_input": "2025-07-06T07:06:23.052796Z",
     "iopub.status.busy": "2025-07-06T07:06:23.052242Z",
     "iopub.status.idle": "2025-07-06T07:06:23.061072Z",
     "shell.execute_reply": "2025-07-06T07:06:23.060524Z"
    },
    "papermill": {
     "duration": 0.02185,
     "end_time": "2025-07-06T07:06:23.062161",
     "exception": false,
     "start_time": "2025-07-06T07:06:23.040311",
     "status": "completed"
    },
    "tags": []
   },
   "outputs": [],
   "source": [
    "import cv2\n",
    "from concurrent.futures import ThreadPoolExecutor\n",
    "\n",
    "def resize_and_normalize_frame(frame, image_height, image_width):\n",
    "    try:\n",
    "        resized_frame = cv2.resize(frame, (image_width, image_height), interpolation=cv2.INTER_LINEAR)\n",
    "        normalized_frame = resized_frame / 255.0\n",
    "        return normalized_frame\n",
    "    except Exception as e:\n",
    "        print(f\"Error processing frame: {e}\")\n",
    "        return None\n",
    "\n",
    "def frames_extraction(video_path, \n",
    "                      sequence_length=SEQUENCE_LENGTH, \n",
    "                      image_height=IMAGE_HEIGHT, \n",
    "                      image_width=IMAGE_WIDTH):\n",
    "    # Declare a list to store video frames\n",
    "    frames_list = []\n",
    "\n",
    "    # Check if video file exists\n",
    "    if not os.path.exists(video_path):\n",
    "        print(f\"Error: Video file not found at {video_path}\")\n",
    "        return None\n",
    "\n",
    "    # Read the video file using VideoCapture with optimized settings\n",
    "    video_reader = cv2.VideoCapture(video_path, cv2.CAP_FFMPEG)\n",
    "\n",
    "    # Check if the video was opened successfully\n",
    "    if not video_reader.isOpened():\n",
    "        print(f\"Error: Could not open video file {video_path}\")\n",
    "        video_reader.release()\n",
    "        return None\n",
    "\n",
    "    # Get the total number of frames in the video\n",
    "    video_frames_count = int(video_reader.get(cv2.CAP_PROP_FRAME_COUNT))\n",
    "\n",
    "    # Ensure the video has enough frames\n",
    "    if video_frames_count < sequence_length:\n",
    "        print(f\"Warning: Video {video_path} has only {video_frames_count} frames, less than required {sequence_length}\")\n",
    "        video_reader.release()\n",
    "        return None\n",
    "\n",
    "    # Calculate the interval after which frames will be sampled\n",
    "    skip_frames_window = max(int(video_frames_count / sequence_length), 1)\n",
    "\n",
    "    # Pre-allocate frame indices to extract\n",
    "    frame_indices = [i * skip_frames_window for i in range(sequence_length)]\n",
    "\n",
    "    # Read and process frames in parallel\n",
    "    frames = []\n",
    "    for idx in frame_indices:\n",
    "        video_reader.set(cv2.CAP_PROP_POS_FRAMES, idx)\n",
    "        success, frame = video_reader.read()\n",
    "        if not success or frame is None:\n",
    "            print(f\"Warning: Failed to read frame at index {idx} from {video_path}\")\n",
    "            break\n",
    "        frame = cv2.cvtColor(frame, cv2.COLOR_BGR2RGB)\n",
    "        frames.append(frame)\n",
    "\n",
    "    # Release the VideoCapture object early\n",
    "    video_reader.release()\n",
    "\n",
    "    # Ensure the correct number of frames is read\n",
    "    if len(frames) != sequence_length:\n",
    "        print(f\"Warning: Read {len(frames)} frames instead of {sequence_length} from {video_path}\")\n",
    "        return None\n",
    "\n",
    "    # Process frames in parallel using ThreadPoolExecutor\n",
    "    with ThreadPoolExecutor() as executor:\n",
    "        processed_frames = list(executor.map(\n",
    "            lambda f: resize_and_normalize_frame(f, image_height, image_width), \n",
    "            frames\n",
    "        ))\n",
    "\n",
    "    # Check for any failed frame processing\n",
    "    if any(f is None for f in processed_frames):\n",
    "        print(f\"Warning: Some frames failed to process in {video_path}\")\n",
    "        return None\n",
    "\n",
    "    # Convert to NumPy array\n",
    "    frames_array = np.array(processed_frames, dtype=np.float32)\n",
    "\n",
    "    return frames_array"
   ]
  },
  {
   "cell_type": "code",
   "execution_count": 6,
   "id": "f4f5fa05",
   "metadata": {
    "execution": {
     "iopub.execute_input": "2025-07-06T07:06:23.087777Z",
     "iopub.status.busy": "2025-07-06T07:06:23.087023Z",
     "iopub.status.idle": "2025-07-06T07:06:23.090793Z",
     "shell.execute_reply": "2025-07-06T07:06:23.090255Z"
    },
    "papermill": {
     "duration": 0.018451,
     "end_time": "2025-07-06T07:06:23.091940",
     "exception": false,
     "start_time": "2025-07-06T07:06:23.073489",
     "status": "completed"
    },
    "tags": []
   },
   "outputs": [],
   "source": [
    " # # Iterate through all video files\n",
    " #        for file_name in files_list:\n",
    " #            video_file_path = os.path.join(class_path, file_name)\n",
    "\n",
    " #            # Extract frames using the updated frames_extraction function\n",
    " #            frames = frames_extraction(video_file_path, sequence_length, image_height, image_width)\n",
    "\n",
    " #            # Skip videos where frame extraction failed\n",
    " #            if frames is None:\n",
    " #                print(f\"Skipping video {video_file_path} due to frame extraction failure\")\n",
    " #                continue\n",
    "\n",
    " #            # Append the data to respective lists\n",
    " #            features.append(frames)\n",
    " #            labels.append(class_index)"
   ]
  },
  {
   "cell_type": "markdown",
   "id": "86c57ceb",
   "metadata": {
    "papermill": {
     "duration": 0.011007,
     "end_time": "2025-07-06T07:06:23.114715",
     "exception": false,
     "start_time": "2025-07-06T07:06:23.103708",
     "status": "completed"
    },
    "tags": []
   },
   "source": [
    "## Create Dataset"
   ]
  },
  {
   "cell_type": "code",
   "execution_count": 7,
   "id": "8dc0469f",
   "metadata": {
    "execution": {
     "iopub.execute_input": "2025-07-06T07:06:23.139714Z",
     "iopub.status.busy": "2025-07-06T07:06:23.139502Z",
     "iopub.status.idle": "2025-07-06T07:06:23.146514Z",
     "shell.execute_reply": "2025-07-06T07:06:23.145846Z"
    },
    "papermill": {
     "duration": 0.020492,
     "end_time": "2025-07-06T07:06:23.147624",
     "exception": false,
     "start_time": "2025-07-06T07:06:23.127132",
     "status": "completed"
    },
    "tags": []
   },
   "outputs": [],
   "source": [
    "# RUN create dataset function definition\n",
    "def create_dataset(dataset_dir,\n",
    "                   classes_list, \n",
    "                   sequence_length=SEQUENCE_LENGTH, \n",
    "                   image_height=IMAGE_HEIGHT, \n",
    "                   image_width=IMAGE_WIDTH, \n",
    "                   max_videos_per_class=None,\n",
    "                   augmentations=False\n",
    "                  ):\n",
    "    \n",
    "    # Initialize lists to store features, labels, and video file paths\n",
    "    videos = []\n",
    "    labels = []\n",
    "\n",
    "    # Check if dataset directory exists\n",
    "    if not os.path.exists(dataset_dir):\n",
    "        raise FileNotFoundError(f\"Dataset directory not found: {dataset_dir}\")\n",
    "\n",
    "    # Iterate through all classes in the classes list\n",
    "    for class_index, class_name in enumerate(classes_list):\n",
    "        class_path = os.path.join(dataset_dir, class_name)\n",
    "        \n",
    "        # Check if class directory exists\n",
    "        if not os.path.exists(class_path):\n",
    "            print(f\"Warning: Class directory not found: {class_path}\")\n",
    "            continue\n",
    "\n",
    "        print(f'Class: {class_name}')\n",
    "\n",
    "        # Get the list of video files in the class directory\n",
    "        files_list = os.listdir(class_path)\n",
    "\n",
    "        # Limit the number of videos if specified\n",
    "        if max_videos_per_class is not None:\n",
    "            files_list = files_list[:max_videos_per_class]\n",
    "\n",
    "        # Iterate through all video files\n",
    "        for (index, file_name) in enumerate(files_list):\n",
    "            video_file_path = os.path.join(class_path, file_name)\n",
    "\n",
    "            if index == (len(files_list)-1):\n",
    "                print(f'Extracting frames from file {index+1}: {file_name}', flush=True)\n",
    "            else:\n",
    "                print(f'Extracting frames from file {index+1}: {file_name}', end=\"\\r\", flush=True)\n",
    "            \n",
    "            # Extract frames using the updated frames_extraction function\n",
    "            frames = frames_extraction(video_file_path, \n",
    "                                       sequence_length, \n",
    "                                       image_height, \n",
    "                                       image_width)\n",
    "\n",
    "            # Skip videos where frame extraction failed\n",
    "            if frames is None:\n",
    "                print(f\"Skipping video {video_file_path} due to frame extraction failure\")\n",
    "                continue\n",
    "\n",
    "            # Append the data to respective lists\n",
    "            videos.append(frames)\n",
    "            labels.append(class_index)\n",
    "\n",
    "    # Convert lists to numpy arrays\n",
    "    if not videos:\n",
    "        raise ValueError(\"No valid videos were processed. Check dataset or parameters.\")\n",
    "    videos = np.asarray(videos)\n",
    "    labels = np.array(labels)\n",
    "\n",
    "    print(f\"Dataset created with {len(videos)} videos\")\n",
    "    print(f\"Features shape: {videos.shape}\")\n",
    "    print(f\"Labels shape: {labels.shape}\")\n",
    "\n",
    "    return videos, labels"
   ]
  },
  {
   "cell_type": "markdown",
   "id": "2f1d7a8c",
   "metadata": {
    "papermill": {
     "duration": 0.013378,
     "end_time": "2025-07-06T07:06:23.173903",
     "exception": false,
     "start_time": "2025-07-06T07:06:23.160525",
     "status": "completed"
    },
    "tags": []
   },
   "source": [
    "## 🪄 Video Data Generator"
   ]
  },
  {
   "cell_type": "code",
   "execution_count": 8,
   "id": "4719ef95",
   "metadata": {
    "execution": {
     "iopub.execute_input": "2025-07-06T07:06:23.197998Z",
     "iopub.status.busy": "2025-07-06T07:06:23.197803Z",
     "iopub.status.idle": "2025-07-06T07:06:23.259662Z",
     "shell.execute_reply": "2025-07-06T07:06:23.259127Z"
    },
    "papermill": {
     "duration": 0.074894,
     "end_time": "2025-07-06T07:06:23.260780",
     "exception": false,
     "start_time": "2025-07-06T07:06:23.185886",
     "status": "completed"
    },
    "tags": []
   },
   "outputs": [],
   "source": [
    "from tensorflow.keras.utils import Sequence, to_categorical\n",
    "import tensorflow as tf\n",
    "import numpy as np\n",
    "import cv2\n",
    "\n",
    "\n",
    "\n",
    "\n",
    "class VideoDataGenerator(Sequence):\n",
    "    def __init__(self, videos, labels, batch_size, is_training=False):\n",
    "        self.videos = list(videos)  # List of video file paths\n",
    "        self.labels = list(labels)  # List or array of labels encoded\n",
    "        self.batch_size = batch_size\n",
    "        self.indices = np.arange(len(self.videos))  # For shuffling\n",
    "        self.is_training = is_training  # Flag to control whether augmentation is applied\n",
    "        self.temp_videos=[]\n",
    "        self.temp_labels=[]\n",
    "        \n",
    "        \n",
    "        print(f\"Total {len(videos)} videos and {len(labels)} classes\")\n",
    "\n",
    "    def __len__(self):\n",
    "        # Return the number of batches per epoch\n",
    "        return int(np.ceil(len(self.videos) / self.batch_size))\n",
    "\n",
    "    def __getitem__(self, idx):\n",
    "        # Get batch indices\n",
    "        batch_indices = self.indices[idx * self.batch_size:(idx + 1) * self.batch_size]\n",
    "        \n",
    "        # Handle case where batch_indices is empty\n",
    "        if len(batch_indices) == 0:\n",
    "            return np.array([], dtype=np.float32), np.array([], dtype=np.float32)\n",
    "        \n",
    "        # Initialize lists to store frames and labels\n",
    "        all_frames = []\n",
    "        all_labels = []\n",
    "        \n",
    "        # Process each video in the batch\n",
    "        for i, index in enumerate(batch_indices):\n",
    "            sequence = self.videos[index]\n",
    "            label = self.labels[index]\n",
    "            \n",
    "            # Append the sequence and label\n",
    "            all_frames.append(sequence)\n",
    "            all_labels.append(label)\n",
    "        \n",
    "        # Convert to numpy arrays\n",
    "        all_frames = np.array(all_frames, dtype=np.float32)\n",
    "        all_labels = np.array(all_labels)\n",
    "            \n",
    "        \n",
    "        return all_frames, all_labels\n",
    "    def add(self, new_videos, new_labels):\n",
    "        self.temp_videos.extend(new_videos)\n",
    "        self.temp_labels.extend(new_labels)\n",
    "    \n",
    "    def confirm(self):\n",
    "        self.videos.extend(self.temp_videos)\n",
    "        self.labels.extend(self.temp_labels)\n",
    "        print(f\"Successfully added - {len(self.temp_videos)} videos and {len(self.temp_labels)} classes.\")\n",
    "        self.temp_videos=[]\n",
    "        self.temp_labels=[]\n",
    "        self.indices = np.arange(len(self.videos))\n",
    "        print(f\"Now Total - {len(self.videos)} videos and {len(self.labels)} classes.\")\n",
    "        print(f\"PENDING for Augmentations - {len(self.temp_videos)} videos and {len(self.temp_labels)} classes.\")\n",
    "        \n",
    "    def replace_original(self):\n",
    "        self.videos=self.temp_videos\n",
    "        self.labels=self.temp_labels\n",
    "        self.temp_videos=[]\n",
    "        self.temp_labels=[]\n",
    "        print(f\"Successfully replaced, total original videos - {len(self.videos)} and augmented videos {len(self.temp_videos)}\")\n",
    "        \n",
    "    def on_epoch_end(self):\n",
    "        # Shuffle indices at the end of each epoch\n",
    "        np.random.shuffle(self.indices)\n",
    "\n",
    "    def as_dataset(self):\n",
    "        def generator():\n",
    "            for idx in range(len(self)):\n",
    "                frames, labels = self[idx]\n",
    "                # Skip empty batches\n",
    "                if frames.size == 0:\n",
    "                    continue\n",
    "                yield frames, labels\n",
    "        self.labels=np.array(self.labels)\n",
    "    \n",
    "        # Create a tf.data.Dataset\n",
    "        dataset = tf.data.Dataset.from_generator(\n",
    "            generator,\n",
    "            output_types=(tf.float32, tf.float32),\n",
    "            output_shapes=(\n",
    "                (None, SEQUENCE_LENGTH, IMAGE_HEIGHT, IMAGE_WIDTH, 3),\n",
    "                (None, NO_OF_CLASSES)\n",
    "            )\n",
    "        )\n",
    "        dataset = dataset.prefetch(tf.data.AUTOTUNE)\n",
    "        return dataset"
   ]
  },
  {
   "cell_type": "markdown",
   "id": "ea92c55d",
   "metadata": {
    "papermill": {
     "duration": 0.01106,
     "end_time": "2025-07-06T07:06:23.283867",
     "exception": false,
     "start_time": "2025-07-06T07:06:23.272807",
     "status": "completed"
    },
    "tags": []
   },
   "source": [
    "## 🔥 Segmentation using N-Frames Ensemble"
   ]
  },
  {
   "cell_type": "code",
   "execution_count": 9,
   "id": "65234ca4",
   "metadata": {
    "execution": {
     "iopub.execute_input": "2025-07-06T07:06:23.306681Z",
     "iopub.status.busy": "2025-07-06T07:06:23.306493Z",
     "iopub.status.idle": "2025-07-06T07:06:23.545576Z",
     "shell.execute_reply": "2025-07-06T07:06:23.544702Z"
    },
    "papermill": {
     "duration": 0.252446,
     "end_time": "2025-07-06T07:06:23.547302",
     "exception": false,
     "start_time": "2025-07-06T07:06:23.294856",
     "status": "completed"
    },
    "tags": []
   },
   "outputs": [
    {
     "name": "stdout",
     "output_type": "stream",
     "text": [
      "MediaPipe initialized successfully\n"
     ]
    },
    {
     "name": "stderr",
     "output_type": "stream",
     "text": [
      "INFO: Created TensorFlow Lite XNNPACK delegate for CPU.\n"
     ]
    }
   ],
   "source": [
    "import cv2\n",
    "import numpy as np\n",
    "from collections import deque\n",
    "import mediapipe as mp\n",
    "\n",
    "# Parameters\n",
    "N_FRAMES = 5  # Number of frames for ensemble\n",
    "THRESHOLD = 0.2  # Segmentation confidence threshold\n",
    "\n",
    "def initialize_segmentor():\n",
    "    \"\"\"Initialize MediaPipe Selfie Segmentation with error handling.\"\"\"\n",
    "    try:\n",
    "        mp_selfie_segmentation = mp.solutions.selfie_segmentation\n",
    "        segmentor = mp_selfie_segmentation.SelfieSegmentation(model_selection=1)  # 1 for general model\n",
    "        print(\"MediaPipe initialized successfully\")\n",
    "        return segmentor\n",
    "    except Exception as e:\n",
    "        print(f\"Failed to initialize MediaPipe: {e}\")\n",
    "        return None\n",
    "\n",
    "# Initialize segmentor\n",
    "segmentor = initialize_segmentor()\n",
    "\n",
    "\n",
    "def segmentation_frames(sequence):\n",
    "    \"\"\"Process a sequence of frames with N-frame ensemble segmentation.\"\"\"\n",
    "    # Input sequence: (sequence_length, height, width, 3), values in [0, 1]\n",
    "    sequence_length, height, width, _ = sequence.shape\n",
    "    segmented_sequence = np.zeros_like(sequence, dtype=np.float32)\n",
    "    \n",
    "    if segmentor is None:\n",
    "        print(\"Returning original sequence due to initialization failure\")\n",
    "        return sequence  # Fallback to original sequence\n",
    "    # Queue to store segmentation masks\n",
    "    mask_queue = deque(maxlen=N_FRAMES)\n",
    "    \n",
    "    # Kernel for morphological operations\n",
    "    kernel = cv2.getStructuringElement(cv2.MORPH_ELLIPSE, (5, 5))\n",
    "    \n",
    "    for t in range(sequence_length):\n",
    "        try:\n",
    "            # Convert frame to uint8 for MediaPipe\n",
    "            frame = (sequence[t] * 255).astype(np.uint8)\n",
    "            \n",
    "            # Process frame with MediaPipe\n",
    "            results = segmentor.process(frame)\n",
    "            if results.segmentation_mask is None:\n",
    "                print(f\"Warning: No mask returned for frame {t}\")\n",
    "                mask = np.zeros((height, width), dtype=np.float32)\n",
    "            else:\n",
    "                mask = results.segmentation_mask  # Shape: (height, width), values in [0, 1]\n",
    "            \n",
    "            # Add mask to queue\n",
    "            mask_queue.append(mask)\n",
    "            \n",
    "            # Compute ensemble mask by averaging (if enough frames)\n",
    "            ensemble_mask = np.mean(np.array(mask_queue), axis=0) if len(mask_queue) > 1 else mask\n",
    "            \n",
    "            # Binarize the ensemble mask\n",
    "            binary_mask = (ensemble_mask > THRESHOLD).astype(np.uint8)\n",
    "            \n",
    "            # Refine the mask using morphological operations\n",
    "            binary_mask = cv2.morphologyEx(binary_mask, cv2.MORPH_CLOSE, kernel)\n",
    "            binary_mask = cv2.morphologyEx(binary_mask, cv2.MORPH_OPEN, kernel)\n",
    "            \n",
    "            # Convert binary mask to 3 channels\n",
    "            mask_3ch = np.stack([binary_mask] * 3, axis=-1)  # Shape: (height, width, 3)\n",
    "            \n",
    "            # Apply mask to isolate human subject (set background to black)\n",
    "            segmented_frame = frame * mask_3ch\n",
    "            \n",
    "            # Normalize back to [0, 1]\n",
    "            segmented_sequence[t] = segmented_frame / 255.0\n",
    "        \n",
    "        except Exception as e:\n",
    "            print(f\"Error processing frame {t}: {e}\")\n",
    "            segmented_sequence[t] = sequence[t]  # Fallback to original frame\n",
    "    \n",
    "    return segmented_sequence"
   ]
  },
  {
   "cell_type": "markdown",
   "id": "cfe5f6a8",
   "metadata": {
    "papermill": {
     "duration": 0.013601,
     "end_time": "2025-07-06T07:06:23.577335",
     "exception": false,
     "start_time": "2025-07-06T07:06:23.563734",
     "status": "completed"
    },
    "tags": []
   },
   "source": [
    "## 💫 Augmentation Helper function"
   ]
  },
  {
   "cell_type": "code",
   "execution_count": 10,
   "id": "e5a839ba",
   "metadata": {
    "execution": {
     "iopub.execute_input": "2025-07-06T07:06:23.604129Z",
     "iopub.status.busy": "2025-07-06T07:06:23.603903Z",
     "iopub.status.idle": "2025-07-06T07:06:23.609158Z",
     "shell.execute_reply": "2025-07-06T07:06:23.608422Z"
    },
    "papermill": {
     "duration": 0.01937,
     "end_time": "2025-07-06T07:06:23.610260",
     "exception": false,
     "start_time": "2025-07-06T07:06:23.590890",
     "status": "completed"
    },
    "tags": []
   },
   "outputs": [
    {
     "name": "stderr",
     "output_type": "stream",
     "text": [
      "WARNING: All log messages before absl::InitializeLog() is called are written to STDERR\n",
      "W0000 00:00:1751785583.551088      72 inference_feedback_manager.cc:114] Feedback manager requires a model with a single signature inference. Disabling support for feedback tensors.\n"
     ]
    }
   ],
   "source": [
    "def apply_augmentation(augmentation_function, generator, confirm=False, *args, **kwargs):\n",
    "    count=0\n",
    "    for i in range(len(generator)):\n",
    "        batch_videos, batch_labels = generator[i]\n",
    "        augmented_videos=[]\n",
    "        for videos in batch_videos:\n",
    "            count=count+1\n",
    "            augmented_videos.append(augmentation_function(videos, *args, **kwargs))\n",
    "            print(f\"Adding {count} new videos...\", end=\"\\r\", flush=True)\n",
    "        generator.add(augmented_videos, batch_labels)\n",
    "    \n",
    "    print(f\"Total {len(generator.temp_videos)} augmented videos generated\")\n",
    "    if confirm:\n",
    "        generator.confirm()\n",
    "    else:\n",
    "        print(\"Ready to be merged with original videos...\")"
   ]
  },
  {
   "cell_type": "markdown",
   "id": "303e3f53",
   "metadata": {
    "papermill": {
     "duration": 0.011728,
     "end_time": "2025-07-06T07:06:23.634272",
     "exception": false,
     "start_time": "2025-07-06T07:06:23.622544",
     "status": "completed"
    },
    "tags": []
   },
   "source": [
    "### Show Frames"
   ]
  },
  {
   "cell_type": "code",
   "execution_count": 11,
   "id": "8417f72a",
   "metadata": {
    "execution": {
     "iopub.execute_input": "2025-07-06T07:06:23.659032Z",
     "iopub.status.busy": "2025-07-06T07:06:23.658843Z",
     "iopub.status.idle": "2025-07-06T07:06:23.662577Z",
     "shell.execute_reply": "2025-07-06T07:06:23.661896Z"
    },
    "papermill": {
     "duration": 0.01832,
     "end_time": "2025-07-06T07:06:23.663804",
     "exception": false,
     "start_time": "2025-07-06T07:06:23.645484",
     "status": "completed"
    },
    "tags": []
   },
   "outputs": [],
   "source": [
    "# show frame def\n",
    "import matplotlib.pyplot as plt\n",
    "\n",
    "def show_frame(frame):\n",
    "    plt.figure(figsize=(3,3))\n",
    "    plt.imshow(frame)\n",
    "    plt.axis(\"off\")\n",
    "    plt.tight_layout()"
   ]
  },
  {
   "cell_type": "markdown",
   "id": "24453d58",
   "metadata": {
    "papermill": {
     "duration": 0.011047,
     "end_time": "2025-07-06T07:06:23.686319",
     "exception": false,
     "start_time": "2025-07-06T07:06:23.675272",
     "status": "completed"
    },
    "tags": []
   },
   "source": [
    "### Helper Function"
   ]
  },
  {
   "cell_type": "code",
   "execution_count": 12,
   "id": "d9efaf3a",
   "metadata": {
    "execution": {
     "iopub.execute_input": "2025-07-06T07:06:23.709365Z",
     "iopub.status.busy": "2025-07-06T07:06:23.709158Z",
     "iopub.status.idle": "2025-07-06T07:06:23.713413Z",
     "shell.execute_reply": "2025-07-06T07:06:23.712726Z"
    },
    "papermill": {
     "duration": 0.017144,
     "end_time": "2025-07-06T07:06:23.714618",
     "exception": false,
     "start_time": "2025-07-06T07:06:23.697474",
     "status": "completed"
    },
    "tags": []
   },
   "outputs": [],
   "source": [
    "def show_frame_vs(frame1, frame2, title1=\"Frame 1\", title2=\"Frame 2\"):\n",
    "    plt.figure(figsize=(10, 5))\n",
    "\n",
    "    # First frame\n",
    "    plt.subplot(1, 2, 1)\n",
    "    plt.imshow(frame1)\n",
    "    plt.title(title1)\n",
    "    plt.axis('off')\n",
    "\n",
    "    # Second frame\n",
    "    plt.subplot(1, 2, 2)\n",
    "    plt.imshow(frame2)\n",
    "    plt.title(title2)\n",
    "    plt.axis('off')\n",
    "\n",
    "    plt.tight_layout()\n",
    "    plt.show()"
   ]
  },
  {
   "cell_type": "code",
   "execution_count": 13,
   "id": "4b1c1345",
   "metadata": {
    "execution": {
     "iopub.execute_input": "2025-07-06T07:06:23.737938Z",
     "iopub.status.busy": "2025-07-06T07:06:23.737738Z",
     "iopub.status.idle": "2025-07-06T07:06:23.741380Z",
     "shell.execute_reply": "2025-07-06T07:06:23.740835Z"
    },
    "papermill": {
     "duration": 0.016476,
     "end_time": "2025-07-06T07:06:23.742379",
     "exception": false,
     "start_time": "2025-07-06T07:06:23.725903",
     "status": "completed"
    },
    "tags": []
   },
   "outputs": [],
   "source": [
    "# reusable video loop helper function\n",
    "def apply_function(function, videos, *arg, **kwargs):\n",
    "    new_videos=[]\n",
    "    \n",
    "    for video in videos:\n",
    "        new_videos.append(function(video, *arg, **kwargs))\n",
    "        \n",
    "    return new_videos"
   ]
  },
  {
   "cell_type": "code",
   "execution_count": 14,
   "id": "d6704ecf",
   "metadata": {
    "execution": {
     "iopub.execute_input": "2025-07-06T07:06:23.765710Z",
     "iopub.status.busy": "2025-07-06T07:06:23.765528Z",
     "iopub.status.idle": "2025-07-06T07:06:23.769299Z",
     "shell.execute_reply": "2025-07-06T07:06:23.768810Z"
    },
    "papermill": {
     "duration": 0.016374,
     "end_time": "2025-07-06T07:06:23.770292",
     "exception": false,
     "start_time": "2025-07-06T07:06:23.753918",
     "status": "completed"
    },
    "tags": []
   },
   "outputs": [],
   "source": [
    "# reusable video loop helper function\n",
    "def apply(function, videos, labels, *arg, **kwargs):\n",
    "    new_videos=[]\n",
    "    new_labels=[]\n",
    "    combined=zip(labels, videos)\n",
    "    \n",
    "    for label, video in combined:\n",
    "        new_videos.append(function(video, *arg, **kwargs))\n",
    "        new_labels.append(label)\n",
    "        \n",
    "    new_videos=np.asarray(new_videos)\n",
    "    new_labels=np.asarray(new_labels)\n",
    "    \n",
    "    return new_videos, new_labels"
   ]
  },
  {
   "cell_type": "markdown",
   "id": "a70f0929",
   "metadata": {
    "papermill": {
     "duration": 0.011139,
     "end_time": "2025-07-06T07:06:23.794304",
     "exception": false,
     "start_time": "2025-07-06T07:06:23.783165",
     "status": "completed"
    },
    "tags": []
   },
   "source": [
    "## Salt and Pepper Noise "
   ]
  },
  {
   "cell_type": "code",
   "execution_count": 15,
   "id": "660bbc2f",
   "metadata": {
    "execution": {
     "iopub.execute_input": "2025-07-06T07:06:23.819324Z",
     "iopub.status.busy": "2025-07-06T07:06:23.819148Z",
     "iopub.status.idle": "2025-07-06T07:06:23.822885Z",
     "shell.execute_reply": "2025-07-06T07:06:23.822383Z"
    },
    "papermill": {
     "duration": 0.018037,
     "end_time": "2025-07-06T07:06:23.823899",
     "exception": false,
     "start_time": "2025-07-06T07:06:23.805862",
     "status": "completed"
    },
    "tags": []
   },
   "outputs": [],
   "source": [
    "# Noise function def\n",
    "\n",
    "def noise_video(video,noise_factor=NOISE_FACTOR):\n",
    "    noisy_video=[]\n",
    "    for frame in video:\n",
    "        # Generate random noise\n",
    "        noise = np.random.rand(*frame.shape)  # Generate random noise\n",
    "        salt_pepper_noise = np.random.choice([0, 1], size=frame.shape, p=[1-noise_factor, noise_factor])\n",
    "        noisy_frame = frame * (1 - salt_pepper_noise) + salt_pepper_noise * np.random.rand(*frame.shape)\n",
    "        noisy_video.append(noisy_frame)\n",
    "    return np.array(noisy_video)"
   ]
  },
  {
   "cell_type": "markdown",
   "id": "96150df9",
   "metadata": {
    "papermill": {
     "duration": 0.010971,
     "end_time": "2025-07-06T07:06:23.846351",
     "exception": false,
     "start_time": "2025-07-06T07:06:23.835380",
     "status": "completed"
    },
    "tags": []
   },
   "source": [
    "## Horizontal Flip"
   ]
  },
  {
   "cell_type": "code",
   "execution_count": 16,
   "id": "bd9555ac",
   "metadata": {
    "execution": {
     "iopub.execute_input": "2025-07-06T07:06:23.869928Z",
     "iopub.status.busy": "2025-07-06T07:06:23.869492Z",
     "iopub.status.idle": "2025-07-06T07:06:23.872814Z",
     "shell.execute_reply": "2025-07-06T07:06:23.872184Z"
    },
    "papermill": {
     "duration": 0.016356,
     "end_time": "2025-07-06T07:06:23.873896",
     "exception": false,
     "start_time": "2025-07-06T07:06:23.857540",
     "status": "completed"
    },
    "tags": []
   },
   "outputs": [],
   "source": [
    "# horizontal flip function def\n",
    "# Testing Flip feautes[0] -> first video\n",
    "def horizontal_flip(video):\n",
    "    return [tf.image.flip_left_right(frame) for frame in video]"
   ]
  },
  {
   "cell_type": "markdown",
   "id": "eb9d38a9",
   "metadata": {
    "papermill": {
     "duration": 0.011186,
     "end_time": "2025-07-06T07:06:23.896674",
     "exception": false,
     "start_time": "2025-07-06T07:06:23.885488",
     "status": "completed"
    },
    "tags": []
   },
   "source": [
    "## Random Shear"
   ]
  },
  {
   "cell_type": "code",
   "execution_count": 17,
   "id": "2b08eeb4",
   "metadata": {
    "execution": {
     "iopub.execute_input": "2025-07-06T07:06:23.919994Z",
     "iopub.status.busy": "2025-07-06T07:06:23.919803Z",
     "iopub.status.idle": "2025-07-06T07:06:23.925544Z",
     "shell.execute_reply": "2025-07-06T07:06:23.924961Z"
    },
    "papermill": {
     "duration": 0.018691,
     "end_time": "2025-07-06T07:06:23.926650",
     "exception": false,
     "start_time": "2025-07-06T07:06:23.907959",
     "status": "completed"
    },
    "tags": []
   },
   "outputs": [],
   "source": [
    "# random shear function def\n",
    "import numpy as np\n",
    "import tensorflow as tf\n",
    "from scipy.ndimage import affine_transform\n",
    "\n",
    "def apply_shear_frames(frames, shear_right):\n",
    "    return [apply_shear(frame, shear_right) for frame in frames]\n",
    "\n",
    "def apply_shear(frame, shear_right=0):\n",
    "    frame_resized = tf.image.resize(frame, (IMAGE_HEIGHT, IMAGE_WIDTH)).numpy()\n",
    "    if shear_right:\n",
    "        shear_x = 0.09\n",
    "        shear_y = 0.1\n",
    "    else:\n",
    "        shear_x = -0.09\n",
    "        shear_y = 0.3\n",
    "    # Construct the affine matrix for scipy: inverse of the transformation matrix\n",
    "    # scipy applies the inverse transform matrix\n",
    "    shear_matrix = np.array([\n",
    "        [1, shear_x, 0],\n",
    "        [shear_y, 1, 0],\n",
    "        [0, 0, 1]\n",
    "    ], dtype=np.float32)\n",
    "\n",
    "    # Extract 2x2 part for affine_transform\n",
    "    matrix = shear_matrix[:2, :2]\n",
    "\n",
    "    # Offset (no translation)\n",
    "    offset = [0, 0]\n",
    "\n",
    "    # Apply affine transform on each channel separately\n",
    "    sheared = np.zeros_like(frame_resized)\n",
    "    for c in range(3):\n",
    "        sheared[..., c] = affine_transform(\n",
    "            frame_resized[..., c],\n",
    "            matrix=matrix,\n",
    "            offset=offset,\n",
    "            order=1,          # bilinear interpolation\n",
    "            mode='nearest'    # fill_mode\n",
    "        )\n",
    "    return sheared"
   ]
  },
  {
   "cell_type": "markdown",
   "id": "14bb8561",
   "metadata": {
    "papermill": {
     "duration": 0.011073,
     "end_time": "2025-07-06T07:06:23.949193",
     "exception": false,
     "start_time": "2025-07-06T07:06:23.938120",
     "status": "completed"
    },
    "tags": []
   },
   "source": [
    "# 📌 Model Related\n",
    "## 🗼 Model Architecture `create_model`"
   ]
  },
  {
   "cell_type": "code",
   "execution_count": 18,
   "id": "3cb8f004",
   "metadata": {
    "execution": {
     "iopub.execute_input": "2025-07-06T07:06:23.972801Z",
     "iopub.status.busy": "2025-07-06T07:06:23.972605Z",
     "iopub.status.idle": "2025-07-06T07:06:23.983741Z",
     "shell.execute_reply": "2025-07-06T07:06:23.983075Z"
    },
    "papermill": {
     "duration": 0.024296,
     "end_time": "2025-07-06T07:06:23.984819",
     "exception": false,
     "start_time": "2025-07-06T07:06:23.960523",
     "status": "completed"
    },
    "tags": []
   },
   "outputs": [],
   "source": [
    "from tensorflow.keras.applications import Xception\n",
    "from tensorflow.keras.models import Sequential\n",
    "from tensorflow.keras.layers import GlobalAveragePooling2D, TimeDistributed, LSTM, Dropout, Dense, BatchNormalization\n",
    "from tensorflow.keras.regularizers import l2\n",
    "\n",
    "def create_xception_lstm_model(sequence_length, image_height, image_width, classes_list=None, dropout_rate=0.5):\n",
    "    if classes_list is None:\n",
    "        raise ValueError(\"classes_list must be provided to define the output layer size\")\n",
    "\n",
    "    try:\n",
    "        # Load Xception model with pre-trained ImageNet weights\n",
    "        print(\"Loading Xception base model...\")\n",
    "        xception = Xception(\n",
    "            weights='imagenet',\n",
    "            include_top=False,\n",
    "            input_shape=(image_height, image_width, 3),\n",
    "            name=\"Xception\"\n",
    "        )\n",
    "        \n",
    "        # # Unfreeze more layers to fine-tune\n",
    "        # for layer in xception.layers[:-10]:  # Unfreeze more layers to fine-tune more\n",
    "        #     layer.trainable = False\n",
    "        # for layer in xception.layers[-10:]:\n",
    "        #     layer.trainable = True\n",
    "\n",
    "        # Define the Sequential model\n",
    "        model = Sequential([\n",
    "            # TimeDistributed Xception model\n",
    "            TimeDistributed(\n",
    "                xception,\n",
    "                input_shape=(sequence_length, image_height, image_width, 3),\n",
    "                name=\"time_distributed\"\n",
    "            ),\n",
    "            # TimeDistributed GlobalAveragePooling2D\n",
    "            TimeDistributed(GlobalAveragePooling2D(), name=\"time_distributed_1\"),\n",
    "            # LSTM layer with 256 units (increased)\n",
    "            LSTM(512, activation=\"tanh\", return_sequences=False, kernel_regularizer=l2(0.01), name=\"lstm\"),\n",
    "            BatchNormalization(name=\"batch_normalization\"),\n",
    "            # Dropout after LSTM\n",
    "            Dropout(dropout_rate, name=\"dropout_lstm\"),\n",
    "            # Dense layer with 512 units\n",
    "            Dense(512, activation=\"relu\", kernel_regularizer=l2(0.01), name=\"dense\"),\n",
    "            # Dropout after Dense\n",
    "            Dropout(dropout_rate + 0.1, name=\"dropout_dense\"),\n",
    "            # Output Dense layer with softmax activation\n",
    "            Dense(len(classes_list), activation=\"softmax\", name=\"dense_1\")\n",
    "        ])\n",
    "\n",
    "        # Print model summary\n",
    "        print(\"Model architecture created successfully!\")\n",
    "        model.summary()\n",
    "\n",
    "        return model\n",
    "\n",
    "    except Exception as e:\n",
    "        print(f\"Error creating model: {e}\")\n",
    "        return None\n"
   ]
  },
  {
   "cell_type": "code",
   "execution_count": 19,
   "id": "63440964",
   "metadata": {
    "execution": {
     "iopub.execute_input": "2025-07-06T07:06:24.008337Z",
     "iopub.status.busy": "2025-07-06T07:06:24.008148Z",
     "iopub.status.idle": "2025-07-06T07:06:27.811871Z",
     "shell.execute_reply": "2025-07-06T07:06:27.810951Z"
    },
    "papermill": {
     "duration": 3.816609,
     "end_time": "2025-07-06T07:06:27.813058",
     "exception": false,
     "start_time": "2025-07-06T07:06:23.996449",
     "status": "completed"
    },
    "tags": []
   },
   "outputs": [
    {
     "name": "stdout",
     "output_type": "stream",
     "text": [
      "Pre-loading Xception weights...\n"
     ]
    },
    {
     "name": "stderr",
     "output_type": "stream",
     "text": [
      "I0000 00:00:1751785585.161250      19 gpu_device.cc:2022] Created device /job:localhost/replica:0/task:0/device:GPU:0 with 13942 MB memory:  -> device: 0, name: Tesla T4, pci bus id: 0000:00:04.0, compute capability: 7.5\n",
      "I0000 00:00:1751785585.162042      19 gpu_device.cc:2022] Created device /job:localhost/replica:0/task:0/device:GPU:1 with 13942 MB memory:  -> device: 1, name: Tesla T4, pci bus id: 0000:00:05.0, compute capability: 7.5\n"
     ]
    },
    {
     "name": "stdout",
     "output_type": "stream",
     "text": [
      "Downloading data from https://storage.googleapis.com/tensorflow/keras-applications/xception/xception_weights_tf_dim_ordering_tf_kernels_notop.h5\n",
      "\u001b[1m83683744/83683744\u001b[0m \u001b[32m━━━━━━━━━━━━━━━━━━━━\u001b[0m\u001b[37m\u001b[0m \u001b[1m0s\u001b[0m 0us/step\n",
      "Weights loaded successfully!\n"
     ]
    }
   ],
   "source": [
    "# donwload model weights\n",
    "from tensorflow.keras.applications import Xception\n",
    "print(\"Pre-loading Xception weights...\")\n",
    "base_model = Xception(weights='imagenet', include_top=False, input_shape=(IMAGE_HEIGHT, IMAGE_WIDTH, 3))\n",
    "print(\"Weights loaded successfully!\")"
   ]
  },
  {
   "cell_type": "markdown",
   "id": "70288e12",
   "metadata": {
    "papermill": {
     "duration": 0.011954,
     "end_time": "2025-07-06T07:06:27.839463",
     "exception": false,
     "start_time": "2025-07-06T07:06:27.827509",
     "status": "completed"
    },
    "tags": []
   },
   "source": [
    "# 📌 Execution\n",
    "## Creating Dataset\n",
    "The following functions are executed\n",
    "- `frame extraction`\n",
    "- `resize`\n",
    "\n",
    "which returns:\n",
    "- `features` - `np.array` of all the videos\n",
    "- `labels` - `np.array` of all the class labels"
   ]
  },
  {
   "cell_type": "code",
   "execution_count": 20,
   "id": "4782d6e0",
   "metadata": {
    "execution": {
     "iopub.execute_input": "2025-07-06T07:06:27.864639Z",
     "iopub.status.busy": "2025-07-06T07:06:27.864146Z",
     "iopub.status.idle": "2025-07-06T07:07:29.285228Z",
     "shell.execute_reply": "2025-07-06T07:07:29.284438Z"
    },
    "papermill": {
     "duration": 61.435114,
     "end_time": "2025-07-06T07:07:29.286466",
     "exception": false,
     "start_time": "2025-07-06T07:06:27.851352",
     "status": "completed"
    },
    "tags": []
   },
   "outputs": [
    {
     "name": "stdout",
     "output_type": "stream",
     "text": [
      "Class: Catch Cap\n",
      "Extracting frames from file 20: a04_s05_e03.mp4\n",
      "Class: Drink\n",
      "Extracting frames from file 20: a16_s05_e03.mp4\n",
      "Class: Sit down\n",
      "Extracting frames from file 20: a17_s06_e02.mp4\n",
      "Class: Draw Tick\n",
      "Extracting frames from file 20: a07_s06_e02.mp4\n",
      "Class: Phone Call\n",
      "Extracting frames from file 20: a15_s06_e03.mp4\n",
      "Class: Horizontal arm wave\n",
      "Extracting frames from file 20: a01_s01_e03.mp4\n",
      "Class: Hand Clap\n",
      "Extracting frames from file 20: a13_s08_e01.mp4\n",
      "Class: High throw\n",
      "Extracting frames from file 20: a05_s07_e02.mp4\n",
      "Class: Forward Kick\n",
      "Extracting frames from file 20: a09_s01_e03.mp4\n",
      "Class: Stand up\n",
      "Extracting frames from file 20: a18_s05_e02.mp4\n",
      "Class: Two hand wave\n",
      "Extracting frames from file 20: a03_s08_e02.mp4\n",
      "Class: Toss Paper\n",
      "Extracting frames from file 20: a08_s07_e03.mp4\n",
      "Class: Walk\n",
      "Extracting frames from file 20: a14_s01_e03.mp4\n",
      "Class: Side Kick\n",
      "Extracting frames from file 20: a10_s02_e02.mp4\n",
      "Class: Bend\n",
      "Extracting frames from file 20: a12_s09_e03.mp4\n",
      "Class: Take Umbrella\n",
      "Extracting frames from file 20: a11_s05_e01.mp4\n",
      "Class: High arm wave\n",
      "Extracting frames from file 20: a02_s10_e01.mp4\n",
      "Class: Draw X\n",
      "Extracting frames from file 20: a06_s06_e01.mp4\n",
      "Dataset created with 360 videos\n",
      "Features shape: (360, 5, 128, 128, 3)\n",
      "Labels shape: (360,)\n"
     ]
    },
    {
     "data": {
      "text/plain": [
       "((360, 5, 128, 128, 3), (360,))"
      ]
     },
     "execution_count": 20,
     "metadata": {},
     "output_type": "execute_result"
    }
   ],
   "source": [
    "# RUN Create the dataset with explicit parameters\n",
    "try:\n",
    "    videos, labels = create_dataset(\n",
    "        dataset_dir=DATASET_DIR,\n",
    "        classes_list=CLASSES_LIST,\n",
    "        sequence_length=SEQUENCE_LENGTH,\n",
    "        image_height=IMAGE_HEIGHT,\n",
    "        image_width=IMAGE_WIDTH,\n",
    "        # Limit to 10 videos per class to manage memory\n",
    "        augmentations=True,\n",
    "        max_videos_per_class=MAX_VIDEO_PER_CLASS\n",
    "    )\n",
    "except FileNotFoundError as e:\n",
    "    print(f\"Error: {e}\")\n",
    "except ValueError as e:\n",
    "    print(f\"Error: {e}\")\n",
    "except Exception as e:\n",
    "    print(f\"Unexpected error: {e}\")\n",
    "\n",
    "videos.shape, labels.shape"
   ]
  },
  {
   "cell_type": "code",
   "execution_count": 21,
   "id": "98d6f232",
   "metadata": {
    "execution": {
     "iopub.execute_input": "2025-07-06T07:07:29.340378Z",
     "iopub.status.busy": "2025-07-06T07:07:29.340173Z",
     "iopub.status.idle": "2025-07-06T07:07:29.344476Z",
     "shell.execute_reply": "2025-07-06T07:07:29.343755Z"
    },
    "papermill": {
     "duration": 0.032017,
     "end_time": "2025-07-06T07:07:29.345536",
     "exception": false,
     "start_time": "2025-07-06T07:07:29.313519",
     "status": "completed"
    },
    "tags": []
   },
   "outputs": [
    {
     "name": "stdout",
     "output_type": "stream",
     "text": [
      "Total 360 videos and 360 classes\n"
     ]
    }
   ],
   "source": [
    "video_generator = VideoDataGenerator(\n",
    "    videos=videos,\n",
    "    labels=labels,\n",
    "    batch_size=BATCH_SIZE\n",
    ")"
   ]
  },
  {
   "cell_type": "code",
   "execution_count": 22,
   "id": "fb318ecd",
   "metadata": {
    "execution": {
     "iopub.execute_input": "2025-07-06T07:07:29.397990Z",
     "iopub.status.busy": "2025-07-06T07:07:29.397563Z",
     "iopub.status.idle": "2025-07-06T07:07:29.405420Z",
     "shell.execute_reply": "2025-07-06T07:07:29.404922Z"
    },
    "papermill": {
     "duration": 0.035364,
     "end_time": "2025-07-06T07:07:29.406602",
     "exception": false,
     "start_time": "2025-07-06T07:07:29.371238",
     "status": "completed"
    },
    "tags": []
   },
   "outputs": [
    {
     "data": {
      "text/plain": [
       "((16, 5, 128, 128, 3), (16,))"
      ]
     },
     "execution_count": 22,
     "metadata": {},
     "output_type": "execute_result"
    }
   ],
   "source": [
    "videos, labels = video_generator[0]\n",
    "\n",
    "videos.shape, labels.shape"
   ]
  },
  {
   "cell_type": "code",
   "execution_count": 23,
   "id": "abf80d07",
   "metadata": {
    "execution": {
     "iopub.execute_input": "2025-07-06T07:07:29.460116Z",
     "iopub.status.busy": "2025-07-06T07:07:29.459905Z",
     "iopub.status.idle": "2025-07-06T07:07:29.464049Z",
     "shell.execute_reply": "2025-07-06T07:07:29.463496Z"
    },
    "papermill": {
     "duration": 0.031192,
     "end_time": "2025-07-06T07:07:29.465035",
     "exception": false,
     "start_time": "2025-07-06T07:07:29.433843",
     "status": "completed"
    },
    "tags": []
   },
   "outputs": [
    {
     "data": {
      "text/plain": [
       "360"
      ]
     },
     "execution_count": 23,
     "metadata": {},
     "output_type": "execute_result"
    }
   ],
   "source": [
    "len(video_generator.videos) "
   ]
  },
  {
   "cell_type": "code",
   "execution_count": 24,
   "id": "883f870c",
   "metadata": {
    "execution": {
     "iopub.execute_input": "2025-07-06T07:07:29.519117Z",
     "iopub.status.busy": "2025-07-06T07:07:29.518936Z",
     "iopub.status.idle": "2025-07-06T07:07:29.523017Z",
     "shell.execute_reply": "2025-07-06T07:07:29.522407Z"
    },
    "papermill": {
     "duration": 0.031395,
     "end_time": "2025-07-06T07:07:29.523967",
     "exception": false,
     "start_time": "2025-07-06T07:07:29.492572",
     "status": "completed"
    },
    "tags": []
   },
   "outputs": [
    {
     "data": {
      "text/plain": [
       "23"
      ]
     },
     "execution_count": 24,
     "metadata": {},
     "output_type": "execute_result"
    }
   ],
   "source": [
    "len(video_generator)"
   ]
  },
  {
   "cell_type": "code",
   "execution_count": 25,
   "id": "92ceb3c1",
   "metadata": {
    "execution": {
     "iopub.execute_input": "2025-07-06T07:07:29.576683Z",
     "iopub.status.busy": "2025-07-06T07:07:29.576282Z",
     "iopub.status.idle": "2025-07-06T07:07:37.198216Z",
     "shell.execute_reply": "2025-07-06T07:07:37.197366Z"
    },
    "papermill": {
     "duration": 7.649596,
     "end_time": "2025-07-06T07:07:37.199609",
     "exception": false,
     "start_time": "2025-07-06T07:07:29.550013",
     "status": "completed"
    },
    "tags": []
   },
   "outputs": [
    {
     "name": "stdout",
     "output_type": "stream",
     "text": [
      "Total 360 augmented videos generated\n",
      "Ready to be merged with original videos...\n"
     ]
    }
   ],
   "source": [
    "apply_augmentation(segmentation_frames, video_generator)"
   ]
  },
  {
   "cell_type": "code",
   "execution_count": 26,
   "id": "0c619e1c",
   "metadata": {
    "execution": {
     "iopub.execute_input": "2025-07-06T07:07:37.284194Z",
     "iopub.status.busy": "2025-07-06T07:07:37.283414Z",
     "iopub.status.idle": "2025-07-06T07:07:37.288907Z",
     "shell.execute_reply": "2025-07-06T07:07:37.288227Z"
    },
    "papermill": {
     "duration": 0.048458,
     "end_time": "2025-07-06T07:07:37.290091",
     "exception": false,
     "start_time": "2025-07-06T07:07:37.241633",
     "status": "completed"
    },
    "tags": []
   },
   "outputs": [
    {
     "data": {
      "text/plain": [
       "(360, 360)"
      ]
     },
     "execution_count": 26,
     "metadata": {},
     "output_type": "execute_result"
    }
   ],
   "source": [
    "len(video_generator.temp_videos), len(video_generator.videos)"
   ]
  },
  {
   "cell_type": "code",
   "execution_count": 27,
   "id": "f0a75011",
   "metadata": {
    "execution": {
     "iopub.execute_input": "2025-07-06T07:07:37.373527Z",
     "iopub.status.busy": "2025-07-06T07:07:37.372833Z",
     "iopub.status.idle": "2025-07-06T07:07:37.379573Z",
     "shell.execute_reply": "2025-07-06T07:07:37.378671Z"
    },
    "papermill": {
     "duration": 0.04976,
     "end_time": "2025-07-06T07:07:37.380981",
     "exception": false,
     "start_time": "2025-07-06T07:07:37.331221",
     "status": "completed"
    },
    "tags": []
   },
   "outputs": [
    {
     "name": "stdout",
     "output_type": "stream",
     "text": [
      "Successfully replaced, total original videos - 360 and augmented videos 0\n"
     ]
    }
   ],
   "source": [
    "video_generator.replace_original()"
   ]
  },
  {
   "cell_type": "code",
   "execution_count": 28,
   "id": "95abd6f9",
   "metadata": {
    "execution": {
     "iopub.execute_input": "2025-07-06T07:07:37.468834Z",
     "iopub.status.busy": "2025-07-06T07:07:37.468565Z",
     "iopub.status.idle": "2025-07-06T07:07:37.473431Z",
     "shell.execute_reply": "2025-07-06T07:07:37.472675Z"
    },
    "papermill": {
     "duration": 0.047973,
     "end_time": "2025-07-06T07:07:37.474977",
     "exception": false,
     "start_time": "2025-07-06T07:07:37.427004",
     "status": "completed"
    },
    "tags": []
   },
   "outputs": [
    {
     "data": {
      "text/plain": [
       "(0, 360)"
      ]
     },
     "execution_count": 28,
     "metadata": {},
     "output_type": "execute_result"
    }
   ],
   "source": [
    "len(video_generator.temp_videos), len(video_generator.videos)"
   ]
  },
  {
   "cell_type": "code",
   "execution_count": 29,
   "id": "d0dec1c8",
   "metadata": {
    "execution": {
     "iopub.execute_input": "2025-07-06T07:07:37.563047Z",
     "iopub.status.busy": "2025-07-06T07:07:37.562834Z",
     "iopub.status.idle": "2025-07-06T07:07:37.668034Z",
     "shell.execute_reply": "2025-07-06T07:07:37.667405Z"
    },
    "papermill": {
     "duration": 0.146171,
     "end_time": "2025-07-06T07:07:37.669247",
     "exception": false,
     "start_time": "2025-07-06T07:07:37.523076",
     "status": "completed"
    },
    "tags": []
   },
   "outputs": [
    {
     "data": {
      "text/plain": [
       "(360, 5, 128, 128, 3)"
      ]
     },
     "execution_count": 29,
     "metadata": {},
     "output_type": "execute_result"
    }
   ],
   "source": [
    "test = np.array(video_generator.videos)\n",
    "\n",
    "test.shape"
   ]
  },
  {
   "cell_type": "code",
   "execution_count": 30,
   "id": "52337e09",
   "metadata": {
    "execution": {
     "iopub.execute_input": "2025-07-06T07:07:37.749068Z",
     "iopub.status.busy": "2025-07-06T07:07:37.748842Z",
     "iopub.status.idle": "2025-07-06T07:07:37.865141Z",
     "shell.execute_reply": "2025-07-06T07:07:37.864439Z"
    },
    "papermill": {
     "duration": 0.157008,
     "end_time": "2025-07-06T07:07:37.866180",
     "exception": false,
     "start_time": "2025-07-06T07:07:37.709172",
     "status": "completed"
    },
    "tags": []
   },
   "outputs": [
    {
     "data": {
      "image/png": "[encoded data removed]",
      "text/plain": [
       "<Figure size 300x300 with 1 Axes>"
      ]
     },
     "metadata": {},
     "output_type": "display_data"
    }
   ],
   "source": [
    "show_frame(test[1,0])"
   ]
  },
  {
   "cell_type": "markdown",
   "id": "c5c78ac0",
   "metadata": {
    "papermill": {
     "duration": 0.039262,
     "end_time": "2025-07-06T07:07:37.945167",
     "exception": false,
     "start_time": "2025-07-06T07:07:37.905905",
     "status": "completed"
    },
    "tags": []
   },
   "source": [
    "## Apply ***horizontal flip*** (Augmentation)"
   ]
  },
  {
   "cell_type": "code",
   "execution_count": 31,
   "id": "65de76f1",
   "metadata": {
    "execution": {
     "iopub.execute_input": "2025-07-06T07:07:38.025129Z",
     "iopub.status.busy": "2025-07-06T07:07:38.024856Z",
     "iopub.status.idle": "2025-07-06T07:07:39.477922Z",
     "shell.execute_reply": "2025-07-06T07:07:39.477144Z"
    },
    "papermill": {
     "duration": 1.494902,
     "end_time": "2025-07-06T07:07:39.479135",
     "exception": false,
     "start_time": "2025-07-06T07:07:37.984233",
     "status": "completed"
    },
    "tags": []
   },
   "outputs": [
    {
     "name": "stdout",
     "output_type": "stream",
     "text": [
      "Total 360 augmented videos generated\n",
      "Ready to be merged with original videos...\n"
     ]
    }
   ],
   "source": [
    "apply_augmentation(horizontal_flip, video_generator)"
   ]
  },
  {
   "cell_type": "code",
   "execution_count": 32,
   "id": "57cb3e03",
   "metadata": {
    "execution": {
     "iopub.execute_input": "2025-07-06T07:07:39.589714Z",
     "iopub.status.busy": "2025-07-06T07:07:39.588984Z",
     "iopub.status.idle": "2025-07-06T07:07:39.593607Z",
     "shell.execute_reply": "2025-07-06T07:07:39.592827Z"
    },
    "papermill": {
     "duration": 0.061081,
     "end_time": "2025-07-06T07:07:39.594813",
     "exception": false,
     "start_time": "2025-07-06T07:07:39.533732",
     "status": "completed"
    },
    "tags": []
   },
   "outputs": [
    {
     "name": "stdout",
     "output_type": "stream",
     "text": [
      "Checking Total Videos and Class Count: 360, 360\n",
      "PENDING Total Videos and Class Count: 360, 360\n"
     ]
    }
   ],
   "source": [
    "print(f\"Checking Total Videos and Class Count: {len(video_generator.videos)}, {len(video_generator.labels)}\")\n",
    "print(f\"PENDING Total Videos and Class Count: {len(video_generator.temp_videos)}, {len(video_generator.temp_labels)}\")"
   ]
  },
  {
   "cell_type": "code",
   "execution_count": 33,
   "id": "374270c3",
   "metadata": {
    "execution": {
     "iopub.execute_input": "2025-07-06T07:07:39.704518Z",
     "iopub.status.busy": "2025-07-06T07:07:39.703813Z",
     "iopub.status.idle": "2025-07-06T07:07:39.707998Z",
     "shell.execute_reply": "2025-07-06T07:07:39.707184Z"
    },
    "papermill": {
     "duration": 0.059927,
     "end_time": "2025-07-06T07:07:39.709207",
     "exception": false,
     "start_time": "2025-07-06T07:07:39.649280",
     "status": "completed"
    },
    "tags": []
   },
   "outputs": [
    {
     "name": "stdout",
     "output_type": "stream",
     "text": [
      "Successfully added - 360 videos and 360 classes.\n",
      "Now Total - 720 videos and 720 classes.\n",
      "PENDING for Augmentations - 0 videos and 0 classes.\n"
     ]
    }
   ],
   "source": [
    "video_generator.confirm()"
   ]
  },
  {
   "cell_type": "markdown",
   "id": "6b5071d5",
   "metadata": {
    "papermill": {
     "duration": 0.05302,
     "end_time": "2025-07-06T07:07:39.817745",
     "exception": false,
     "start_time": "2025-07-06T07:07:39.764725",
     "status": "completed"
    },
    "tags": []
   },
   "source": [
    "## Apply ***Noise*** (Augmentation)"
   ]
  },
  {
   "cell_type": "code",
   "execution_count": 34,
   "id": "26aec484",
   "metadata": {
    "execution": {
     "iopub.execute_input": "2025-07-06T07:07:39.924284Z",
     "iopub.status.busy": "2025-07-06T07:07:39.923701Z",
     "iopub.status.idle": "2025-07-06T07:07:49.038426Z",
     "shell.execute_reply": "2025-07-06T07:07:49.037529Z"
    },
    "papermill": {
     "duration": 9.168848,
     "end_time": "2025-07-06T07:07:49.039668",
     "exception": false,
     "start_time": "2025-07-06T07:07:39.870820",
     "status": "completed"
    },
    "tags": []
   },
   "outputs": [
    {
     "name": "stdout",
     "output_type": "stream",
     "text": [
      "Total 720 augmented videos generated\n",
      "Ready to be merged with original videos...\n"
     ]
    }
   ],
   "source": [
    "apply_augmentation(noise_video, video_generator)"
   ]
  },
  {
   "cell_type": "code",
   "execution_count": 35,
   "id": "286f16c8",
   "metadata": {
    "execution": {
     "iopub.execute_input": "2025-07-06T07:07:49.208588Z",
     "iopub.status.busy": "2025-07-06T07:07:49.207901Z",
     "iopub.status.idle": "2025-07-06T07:07:49.212149Z",
     "shell.execute_reply": "2025-07-06T07:07:49.211446Z"
    },
    "papermill": {
     "duration": 0.086275,
     "end_time": "2025-07-06T07:07:49.213140",
     "exception": false,
     "start_time": "2025-07-06T07:07:49.126865",
     "status": "completed"
    },
    "tags": []
   },
   "outputs": [
    {
     "name": "stdout",
     "output_type": "stream",
     "text": [
      "Checking Total Videos and Class Count: 720, 720\n",
      "PENDING Total Videos and Class Count: 720, 720\n"
     ]
    }
   ],
   "source": [
    "print(f\"Checking Total Videos and Class Count: {len(video_generator.videos)}, {len(video_generator.labels)}\")\n",
    "print(f\"PENDING Total Videos and Class Count: {len(video_generator.temp_videos)}, {len(video_generator.temp_labels)}\")"
   ]
  },
  {
   "cell_type": "markdown",
   "id": "3c250a39",
   "metadata": {
    "papermill": {
     "duration": 0.078313,
     "end_time": "2025-07-06T07:07:49.371309",
     "exception": false,
     "start_time": "2025-07-06T07:07:49.292996",
     "status": "completed"
    },
    "tags": []
   },
   "source": [
    "## Apply ***Random Shear x2*** (Augmentation)"
   ]
  },
  {
   "cell_type": "code",
   "execution_count": 36,
   "id": "13d6ead4",
   "metadata": {
    "execution": {
     "iopub.execute_input": "2025-07-06T07:07:49.530094Z",
     "iopub.status.busy": "2025-07-06T07:07:49.529592Z",
     "iopub.status.idle": "2025-07-06T07:08:17.886674Z",
     "shell.execute_reply": "2025-07-06T07:08:17.885842Z"
    },
    "papermill": {
     "duration": 28.437496,
     "end_time": "2025-07-06T07:08:17.887810",
     "exception": false,
     "start_time": "2025-07-06T07:07:49.450314",
     "status": "completed"
    },
    "tags": []
   },
   "outputs": [
    {
     "name": "stdout",
     "output_type": "stream",
     "text": [
      "Total 1440 augmented videos generated\n",
      "Ready to be merged with original videos...\n",
      "Total 2160 augmented videos generated\n",
      "Ready to be merged with original videos...\n"
     ]
    }
   ],
   "source": [
    "apply_augmentation(apply_shear_frames, video_generator, shear_right=0)\n",
    "apply_augmentation(apply_shear_frames, video_generator, shear_right=1)"
   ]
  },
  {
   "cell_type": "code",
   "execution_count": 37,
   "id": "d23ac8af",
   "metadata": {
    "execution": {
     "iopub.execute_input": "2025-07-06T07:08:18.205544Z",
     "iopub.status.busy": "2025-07-06T07:08:18.204913Z",
     "iopub.status.idle": "2025-07-06T07:08:18.209233Z",
     "shell.execute_reply": "2025-07-06T07:08:18.208579Z"
    },
    "papermill": {
     "duration": 0.186664,
     "end_time": "2025-07-06T07:08:18.210298",
     "exception": false,
     "start_time": "2025-07-06T07:08:18.023634",
     "status": "completed"
    },
    "tags": []
   },
   "outputs": [
    {
     "name": "stdout",
     "output_type": "stream",
     "text": [
      "Checking Total Videos and Class Count: 720, 720\n",
      "PENDING Total Videos and Class Count: 2160, 2160\n"
     ]
    }
   ],
   "source": [
    "print(f\"Checking Total Videos and Class Count: {len(video_generator.videos)}, {len(video_generator.labels)}\")\n",
    "print(f\"PENDING Total Videos and Class Count: {len(video_generator.temp_videos)}, {len(video_generator.temp_labels)}\")"
   ]
  },
  {
   "cell_type": "code",
   "execution_count": 38,
   "id": "444326d0",
   "metadata": {
    "execution": {
     "iopub.execute_input": "2025-07-06T07:08:18.478048Z",
     "iopub.status.busy": "2025-07-06T07:08:18.477481Z",
     "iopub.status.idle": "2025-07-06T07:08:18.481586Z",
     "shell.execute_reply": "2025-07-06T07:08:18.480790Z"
    },
    "papermill": {
     "duration": 0.139325,
     "end_time": "2025-07-06T07:08:18.482768",
     "exception": false,
     "start_time": "2025-07-06T07:08:18.343443",
     "status": "completed"
    },
    "tags": []
   },
   "outputs": [
    {
     "name": "stdout",
     "output_type": "stream",
     "text": [
      "Successfully added - 2160 videos and 2160 classes.\n",
      "Now Total - 2880 videos and 2880 classes.\n",
      "PENDING for Augmentations - 0 videos and 0 classes.\n"
     ]
    }
   ],
   "source": [
    "# confirm changes to generator\n",
    "video_generator.confirm()"
   ]
  },
  {
   "cell_type": "code",
   "execution_count": 39,
   "id": "e7cd5b9c",
   "metadata": {
    "execution": {
     "iopub.execute_input": "2025-07-06T07:08:18.747643Z",
     "iopub.status.busy": "2025-07-06T07:08:18.747144Z",
     "iopub.status.idle": "2025-07-06T07:08:18.751092Z",
     "shell.execute_reply": "2025-07-06T07:08:18.750418Z"
    },
    "papermill": {
     "duration": 0.136589,
     "end_time": "2025-07-06T07:08:18.752093",
     "exception": false,
     "start_time": "2025-07-06T07:08:18.615504",
     "status": "completed"
    },
    "tags": []
   },
   "outputs": [
    {
     "name": "stdout",
     "output_type": "stream",
     "text": [
      "Checking Video Generator Total Videos and Class Count: 2880, 2880\n"
     ]
    }
   ],
   "source": [
    "print(f\"Checking Video Generator Total Videos and Class Count: {len(video_generator.videos)}, {len(video_generator.labels)}\")"
   ]
  },
  {
   "cell_type": "markdown",
   "id": "9c8fdd2f",
   "metadata": {
    "papermill": {
     "duration": 0.131757,
     "end_time": "2025-07-06T07:08:19.016125",
     "exception": false,
     "start_time": "2025-07-06T07:08:18.884368",
     "status": "completed"
    },
    "tags": []
   },
   "source": [
    "## Cheking (Output)"
   ]
  },
  {
   "cell_type": "code",
   "execution_count": 40,
   "id": "169f179f",
   "metadata": {
    "execution": {
     "iopub.execute_input": "2025-07-06T07:08:19.282544Z",
     "iopub.status.busy": "2025-07-06T07:08:19.282091Z",
     "iopub.status.idle": "2025-07-06T07:08:19.452242Z",
     "shell.execute_reply": "2025-07-06T07:08:19.451579Z"
    },
    "papermill": {
     "duration": 0.30452,
     "end_time": "2025-07-06T07:08:19.453448",
     "exception": false,
     "start_time": "2025-07-06T07:08:19.148928",
     "status": "completed"
    },
    "tags": []
   },
   "outputs": [
    {
     "name": "stdout",
     "output_type": "stream",
     "text": [
      "(16, 5, 128, 128, 3) (16,)\n"
     ]
    },
    {
     "data": {
      "image/png": "[encoded data removed]",
      "text/plain": [
       "<Figure size 1000x500 with 2 Axes>"
      ]
     },
     "metadata": {},
     "output_type": "display_data"
    },
    {
     "name": "stdout",
     "output_type": "stream",
     "text": [
      "Might be two different action, but to check the flipping focus on the door behind.\n"
     ]
    }
   ],
   "source": [
    "# check horizontal flips\n",
    "videos, labels = video_generator[7]\n",
    "videos1, labels1 = video_generator[1]\n",
    "\n",
    "print(videos.shape, labels.shape)\n",
    "\n",
    "show_frame_vs(videos[0,0],videos1[1,0], title1=\"Flipped Frame 1\", title2=\"Non Flipped Frame 1\")\n",
    "print(\"Might be two different action, but to check the flipping focus on the door behind.\")"
   ]
  },
  {
   "cell_type": "markdown",
   "id": "0a6d5b10",
   "metadata": {
    "papermill": {
     "duration": 0.131545,
     "end_time": "2025-07-06T07:08:19.718345",
     "exception": false,
     "start_time": "2025-07-06T07:08:19.586800",
     "status": "completed"
    },
    "tags": []
   },
   "source": [
    "# 🧪 Test Augmentation (Output)\n",
    "## 🖼️ Horizontal Flip Output"
   ]
  },
  {
   "cell_type": "code",
   "execution_count": 41,
   "id": "a74a27a7",
   "metadata": {
    "execution": {
     "iopub.execute_input": "2025-07-06T07:08:20.027673Z",
     "iopub.status.busy": "2025-07-06T07:08:20.026794Z",
     "iopub.status.idle": "2025-07-06T07:08:20.030187Z",
     "shell.execute_reply": "2025-07-06T07:08:20.029688Z"
    },
    "papermill": {
     "duration": 0.137589,
     "end_time": "2025-07-06T07:08:20.031168",
     "exception": false,
     "start_time": "2025-07-06T07:08:19.893579",
     "status": "completed"
    },
    "tags": []
   },
   "outputs": [],
   "source": [
    "# flipped_video_1 = horizontal_flip(features[0])\n",
    "\n",
    "# flipped_video_1=np.asarray(flipped_video_1)\n",
    "\n",
    "# show_frame(flipped_video_1[0])\n",
    "# flipped_video_1.shape"
   ]
  },
  {
   "cell_type": "markdown",
   "id": "0de01e55",
   "metadata": {
    "papermill": {
     "duration": 0.132556,
     "end_time": "2025-07-06T07:08:20.298018",
     "exception": false,
     "start_time": "2025-07-06T07:08:20.165462",
     "status": "completed"
    },
    "tags": []
   },
   "source": [
    "## 🖼️ Salt and Pepper Noise Output"
   ]
  },
  {
   "cell_type": "code",
   "execution_count": 42,
   "id": "2617c277",
   "metadata": {
    "execution": {
     "iopub.execute_input": "2025-07-06T07:08:20.565761Z",
     "iopub.status.busy": "2025-07-06T07:08:20.565486Z",
     "iopub.status.idle": "2025-07-06T07:08:20.568675Z",
     "shell.execute_reply": "2025-07-06T07:08:20.568119Z"
    },
    "papermill": {
     "duration": 0.13893,
     "end_time": "2025-07-06T07:08:20.569684",
     "exception": false,
     "start_time": "2025-07-06T07:08:20.430754",
     "status": "completed"
    },
    "tags": []
   },
   "outputs": [],
   "source": [
    "# noised_video = noise_video(features[0])\n",
    "\n",
    "# print(noised_video.shape)\n",
    "# show_frame(noised_video[0])"
   ]
  },
  {
   "cell_type": "markdown",
   "id": "2d4ef0f7",
   "metadata": {
    "papermill": {
     "duration": 0.132451,
     "end_time": "2025-07-06T07:08:20.835718",
     "exception": false,
     "start_time": "2025-07-06T07:08:20.703267",
     "status": "completed"
    },
    "tags": []
   },
   "source": [
    "## 🖼️ Random Shear Output"
   ]
  },
  {
   "cell_type": "code",
   "execution_count": 43,
   "id": "4637fc22",
   "metadata": {
    "execution": {
     "iopub.execute_input": "2025-07-06T07:08:21.146285Z",
     "iopub.status.busy": "2025-07-06T07:08:21.146010Z",
     "iopub.status.idle": "2025-07-06T07:08:21.149131Z",
     "shell.execute_reply": "2025-07-06T07:08:21.148627Z"
    },
    "papermill": {
     "duration": 0.138268,
     "end_time": "2025-07-06T07:08:21.150176",
     "exception": false,
     "start_time": "2025-07-06T07:08:21.011908",
     "status": "completed"
    },
    "tags": []
   },
   "outputs": [],
   "source": [
    "# print(features.shape)\n",
    "\n",
    "# sheared_1 = apply_shear_frames(features[0], shear_right=0)\n",
    "# sheared_2 = apply_shear_frames(features[0], shear_right=1)\n",
    "\n",
    "# sheared_1 = np.asarray(sheared_1)\n",
    "# sheared_2 = np.asarray(sheared_2)\n",
    "\n",
    "# print(sheared_1.shape)\n",
    "# show_frame(sheared_1[0])\n",
    "# show_frame(sheared_2[0])"
   ]
  },
  {
   "cell_type": "markdown",
   "id": "f99aad0d",
   "metadata": {
    "papermill": {
     "duration": 0.131193,
     "end_time": "2025-07-06T07:08:21.416157",
     "exception": false,
     "start_time": "2025-07-06T07:08:21.284964",
     "status": "completed"
    },
    "tags": []
   },
   "source": [
    "# 📌 Preparing Data for Training"
   ]
  },
  {
   "cell_type": "code",
   "execution_count": 44,
   "id": "04593466",
   "metadata": {
    "execution": {
     "iopub.execute_input": "2025-07-06T07:08:21.682196Z",
     "iopub.status.busy": "2025-07-06T07:08:21.681926Z",
     "iopub.status.idle": "2025-07-06T07:08:22.065910Z",
     "shell.execute_reply": "2025-07-06T07:08:22.065130Z"
    },
    "papermill": {
     "duration": 0.518688,
     "end_time": "2025-07-06T07:08:22.067140",
     "exception": false,
     "start_time": "2025-07-06T07:08:21.548452",
     "status": "completed"
    },
    "tags": []
   },
   "outputs": [],
   "source": [
    "# Clear previous session to free memory\n",
    "import gc\n",
    "\n",
    "gc.collect()\n",
    "tf.keras.backend.clear_session()"
   ]
  },
  {
   "cell_type": "markdown",
   "id": "cf785ec7",
   "metadata": {
    "papermill": {
     "duration": 0.133266,
     "end_time": "2025-07-06T07:08:22.337257",
     "exception": false,
     "start_time": "2025-07-06T07:08:22.203991",
     "status": "completed"
    },
    "tags": []
   },
   "source": [
    "## Splitting data for ***Trainig*** and ***Testing***"
   ]
  },
  {
   "cell_type": "code",
   "execution_count": 45,
   "id": "723286d4",
   "metadata": {
    "execution": {
     "iopub.execute_input": "2025-07-06T07:08:22.625952Z",
     "iopub.status.busy": "2025-07-06T07:08:22.625234Z",
     "iopub.status.idle": "2025-07-06T07:08:23.513759Z",
     "shell.execute_reply": "2025-07-06T07:08:23.513083Z"
    },
    "papermill": {
     "duration": 1.032988,
     "end_time": "2025-07-06T07:08:23.514922",
     "exception": false,
     "start_time": "2025-07-06T07:08:22.481934",
     "status": "completed"
    },
    "tags": []
   },
   "outputs": [
    {
     "data": {
      "text/plain": [
       "((2880, 5, 128, 128, 3), (2880,))"
      ]
     },
     "execution_count": 45,
     "metadata": {},
     "output_type": "execute_result"
    }
   ],
   "source": [
    "videos = video_generator.videos\n",
    "labels = video_generator.labels\n",
    "\n",
    "videos = np.array(videos, dtype='float32')\n",
    "labels = np.array(labels)\n",
    "\n",
    "videos.shape, labels.shape"
   ]
  },
  {
   "cell_type": "code",
   "execution_count": 46,
   "id": "3e5e13a7",
   "metadata": {
    "execution": {
     "iopub.execute_input": "2025-07-06T07:08:23.832363Z",
     "iopub.status.busy": "2025-07-06T07:08:23.832100Z",
     "iopub.status.idle": "2025-07-06T07:08:23.837577Z",
     "shell.execute_reply": "2025-07-06T07:08:23.836993Z"
    },
    "papermill": {
     "duration": 0.183544,
     "end_time": "2025-07-06T07:08:23.838631",
     "exception": false,
     "start_time": "2025-07-06T07:08:23.655087",
     "status": "completed"
    },
    "tags": []
   },
   "outputs": [
    {
     "data": {
      "text/plain": [
       "(2880, 18)"
      ]
     },
     "execution_count": 46,
     "metadata": {},
     "output_type": "execute_result"
    }
   ],
   "source": [
    "from tensorflow.keras.utils import to_categorical\n",
    "\n",
    "one_hot_encoded_labels = to_categorical(labels)\n",
    "\n",
    "one_hot_encoded_labels.shape"
   ]
  },
  {
   "cell_type": "code",
   "execution_count": 47,
   "id": "f3e575ff",
   "metadata": {
    "execution": {
     "iopub.execute_input": "2025-07-06T07:08:24.105493Z",
     "iopub.status.busy": "2025-07-06T07:08:24.105213Z",
     "iopub.status.idle": "2025-07-06T07:08:24.301276Z",
     "shell.execute_reply": "2025-07-06T07:08:24.300715Z"
    },
    "papermill": {
     "duration": 0.330148,
     "end_time": "2025-07-06T07:08:24.302354",
     "exception": false,
     "start_time": "2025-07-06T07:08:23.972206",
     "status": "completed"
    },
    "tags": []
   },
   "outputs": [
    {
     "data": {
      "text/plain": [
       "0"
      ]
     },
     "execution_count": 47,
     "metadata": {},
     "output_type": "execute_result"
    }
   ],
   "source": [
    "gc.collect()"
   ]
  },
  {
   "cell_type": "code",
   "execution_count": 48,
   "id": "61059a47",
   "metadata": {
    "execution": {
     "iopub.execute_input": "2025-07-06T07:08:24.569800Z",
     "iopub.status.busy": "2025-07-06T07:08:24.569529Z",
     "iopub.status.idle": "2025-07-06T07:08:25.524999Z",
     "shell.execute_reply": "2025-07-06T07:08:25.524364Z"
    },
    "papermill": {
     "duration": 1.08992,
     "end_time": "2025-07-06T07:08:25.526133",
     "exception": false,
     "start_time": "2025-07-06T07:08:24.436213",
     "status": "completed"
    },
    "tags": []
   },
   "outputs": [
    {
     "data": {
      "text/plain": [
       "((2304, 5, 128, 128, 3), (2304, 18), (576, 5, 128, 128, 3), (576, 18))"
      ]
     },
     "execution_count": 48,
     "metadata": {},
     "output_type": "execute_result"
    }
   ],
   "source": [
    "# RUN Split the Data into Train ( 75% ) and Test Set ( 25% ).\n",
    "from sklearn.model_selection import train_test_split\n",
    "features_train, features_test, labels_train, labels_test = train_test_split(videos,\n",
    "                                                                            one_hot_encoded_labels,\n",
    "                                                                            test_size = TEST_SIZE,\n",
    "                                                                            shuffle = True,\n",
    "                                                                            random_state = seed_constant)\n",
    "\n",
    "features_train.shape, labels_train.shape, features_test.shape, labels_test.shape"
   ]
  },
  {
   "cell_type": "markdown",
   "id": "e30dc5d0",
   "metadata": {
    "papermill": {
     "duration": 0.131445,
     "end_time": "2025-07-06T07:08:25.792527",
     "exception": false,
     "start_time": "2025-07-06T07:08:25.661082",
     "status": "completed"
    },
    "tags": []
   },
   "source": [
    "## Splitting data for ***Training Set*** and ***Validation Set***"
   ]
  },
  {
   "cell_type": "code",
   "execution_count": 49,
   "id": "b9929e2e",
   "metadata": {
    "execution": {
     "iopub.execute_input": "2025-07-06T07:08:26.101728Z",
     "iopub.status.busy": "2025-07-06T07:08:26.100990Z",
     "iopub.status.idle": "2025-07-06T07:08:26.106977Z",
     "shell.execute_reply": "2025-07-06T07:08:26.106434Z"
    },
    "papermill": {
     "duration": 0.182172,
     "end_time": "2025-07-06T07:08:26.108077",
     "exception": false,
     "start_time": "2025-07-06T07:08:25.925905",
     "status": "completed"
    },
    "tags": []
   },
   "outputs": [
    {
     "data": {
      "text/plain": [
       "((1843, 5, 128, 128, 3), (1843, 18), (461, 5, 128, 128, 3), (461, 18))"
      ]
     },
     "execution_count": 49,
     "metadata": {},
     "output_type": "execute_result"
    }
   ],
   "source": [
    "# Assuming features_train and labels_train are defined\n",
    "train_set = 1-VALIDATION_SPLIT\n",
    "\n",
    "train_video_frames, val_video_frames = features_train[:int(train_set * len(features_train))], features_train[int(train_set * len(features_train)):]\n",
    "train_labels, val_labels = labels_train[:int(train_set * len(labels_train))], labels_train[int(train_set * len(labels_train)):]\n",
    "\n",
    "train_video_frames.shape, train_labels.shape, val_video_frames.shape, val_labels.shape"
   ]
  },
  {
   "cell_type": "markdown",
   "id": "06875100",
   "metadata": {
    "papermill": {
     "duration": 0.131903,
     "end_time": "2025-07-06T07:08:26.374701",
     "exception": false,
     "start_time": "2025-07-06T07:08:26.242798",
     "status": "completed"
    },
    "tags": []
   },
   "source": [
    "## Use Generator `Video Data Generator`"
   ]
  },
  {
   "cell_type": "code",
   "execution_count": 50,
   "id": "44dc031b",
   "metadata": {
    "execution": {
     "iopub.execute_input": "2025-07-06T07:08:26.641235Z",
     "iopub.status.busy": "2025-07-06T07:08:26.640648Z",
     "iopub.status.idle": "2025-07-06T07:08:26.647698Z",
     "shell.execute_reply": "2025-07-06T07:08:26.647027Z"
    },
    "papermill": {
     "duration": 0.141906,
     "end_time": "2025-07-06T07:08:26.648783",
     "exception": false,
     "start_time": "2025-07-06T07:08:26.506877",
     "status": "completed"
    },
    "tags": []
   },
   "outputs": [
    {
     "name": "stdout",
     "output_type": "stream",
     "text": [
      "Total 1843 videos and 1843 classes\n",
      "Total 461 videos and 461 classes\n"
     ]
    },
    {
     "data": {
      "text/plain": [
       "(116, 29)"
      ]
     },
     "execution_count": 50,
     "metadata": {},
     "output_type": "execute_result"
    }
   ],
   "source": [
    "# Create the training and validation generators\n",
    "train_gen = VideoDataGenerator(\n",
    "    videos=train_video_frames, \n",
    "    labels=train_labels, \n",
    "    batch_size=BATCH_SIZE,\n",
    ")\n",
    "\n",
    "val_gen = VideoDataGenerator(\n",
    "    videos=val_video_frames, \n",
    "    labels=val_labels, \n",
    "    batch_size=BATCH_SIZE,\n",
    ")\n",
    "\n",
    "len(train_gen), len(val_gen)"
   ]
  },
  {
   "cell_type": "markdown",
   "id": "761890ed",
   "metadata": {
    "papermill": {
     "duration": 0.133683,
     "end_time": "2025-07-06T07:08:26.919836",
     "exception": false,
     "start_time": "2025-07-06T07:08:26.786153",
     "status": "completed"
    },
    "tags": []
   },
   "source": [
    "## Inspect ***Generator*** Data on Epochs"
   ]
  },
  {
   "cell_type": "code",
   "execution_count": 51,
   "id": "17ba0ead",
   "metadata": {
    "execution": {
     "iopub.execute_input": "2025-07-06T07:08:27.189336Z",
     "iopub.status.busy": "2025-07-06T07:08:27.189064Z",
     "iopub.status.idle": "2025-07-06T07:08:27.200119Z",
     "shell.execute_reply": "2025-07-06T07:08:27.199580Z"
    },
    "papermill": {
     "duration": 0.14762,
     "end_time": "2025-07-06T07:08:27.201198",
     "exception": false,
     "start_time": "2025-07-06T07:08:27.053578",
     "status": "completed"
    },
    "tags": []
   },
   "outputs": [
    {
     "name": "stdout",
     "output_type": "stream",
     "text": [
      "[   0    1    2 ... 1840 1841 1842]\n",
      "[ 249  958 1444 ...  172 1504   28]\n"
     ]
    },
    {
     "data": {
      "text/plain": [
       "(16, (16, 5, 128, 128, 3), (16, 18))"
      ]
     },
     "execution_count": 51,
     "metadata": {},
     "output_type": "execute_result"
    }
   ],
   "source": [
    "features, labels = train_gen[1]\n",
    "\n",
    "print(train_gen.indices)\n",
    "\n",
    "train_gen.on_epoch_end()\n",
    "\n",
    "print(train_gen.indices)\n",
    "\n",
    "BATCH_SIZE, features.shape, labels.shape"
   ]
  },
  {
   "cell_type": "markdown",
   "id": "5cfbb3ab",
   "metadata": {
    "papermill": {
     "duration": 0.132495,
     "end_time": "2025-07-06T07:08:27.466928",
     "exception": false,
     "start_time": "2025-07-06T07:08:27.334433",
     "status": "completed"
    },
    "tags": []
   },
   "source": [
    "## Compute Class Weight"
   ]
  },
  {
   "cell_type": "code",
   "execution_count": 52,
   "id": "21fe74b9",
   "metadata": {
    "execution": {
     "iopub.execute_input": "2025-07-06T07:08:27.778587Z",
     "iopub.status.busy": "2025-07-06T07:08:27.778096Z",
     "iopub.status.idle": "2025-07-06T07:08:27.784452Z",
     "shell.execute_reply": "2025-07-06T07:08:27.783671Z"
    },
    "papermill": {
     "duration": 0.141107,
     "end_time": "2025-07-06T07:08:27.785587",
     "exception": false,
     "start_time": "2025-07-06T07:08:27.644480",
     "status": "completed"
    },
    "tags": []
   },
   "outputs": [
    {
     "name": "stdout",
     "output_type": "stream",
     "text": [
      "Class weights: {0: 1.0, 1: 1.0, 2: 1.0, 3: 1.0, 4: 1.0, 5: 1.0, 6: 1.0, 7: 1.0, 8: 1.0, 9: 1.0, 10: 1.0, 11: 1.0, 12: 1.0, 13: 1.0, 14: 1.0, 15: 1.0, 16: 1.0, 17: 1.0}\n"
     ]
    }
   ],
   "source": [
    "from sklearn.utils.class_weight import compute_class_weight\n",
    "import numpy as np\n",
    "\n",
    "# Assuming y_int are integer labels (not one-hot)\n",
    "y_int = np.argmax(one_hot_encoded_labels, axis=1)  # or just integer labels if you have them\n",
    "\n",
    "classes = np.arange(NO_OF_CLASSES)  # e.g. np.arange(16)\n",
    "class_weights_values = compute_class_weight(class_weight='balanced', classes=classes, y=y_int)\n",
    "\n",
    "class_weights = dict(zip(classes, class_weights_values))\n",
    "\n",
    "print(\"Class weights:\", class_weights)\n"
   ]
  },
  {
   "cell_type": "code",
   "execution_count": 53,
   "id": "a640b311",
   "metadata": {
    "execution": {
     "iopub.execute_input": "2025-07-06T07:08:28.056543Z",
     "iopub.status.busy": "2025-07-06T07:08:28.055811Z",
     "iopub.status.idle": "2025-07-06T07:08:28.259553Z",
     "shell.execute_reply": "2025-07-06T07:08:28.258969Z"
    },
    "papermill": {
     "duration": 0.340946,
     "end_time": "2025-07-06T07:08:28.260720",
     "exception": false,
     "start_time": "2025-07-06T07:08:27.919774",
     "status": "completed"
    },
    "tags": []
   },
   "outputs": [],
   "source": [
    "gc.collect()\n",
    "del videos, one_hot_encoded_labels, labels_train\n",
    "del features_train, val_labels, train_labels\n",
    "del val_video_frames, train_video_frames"
   ]
  },
  {
   "cell_type": "markdown",
   "id": "a56bc2fd",
   "metadata": {
    "papermill": {
     "duration": 0.131902,
     "end_time": "2025-07-06T07:08:28.527719",
     "exception": false,
     "start_time": "2025-07-06T07:08:28.395817",
     "status": "completed"
    },
    "tags": []
   },
   "source": [
    "# ✨ Model Execution\n",
    "## Creating Model"
   ]
  },
  {
   "cell_type": "code",
   "execution_count": 54,
   "id": "0d0af41f",
   "metadata": {
    "execution": {
     "iopub.execute_input": "2025-07-06T07:08:28.803186Z",
     "iopub.status.busy": "2025-07-06T07:08:28.802921Z",
     "iopub.status.idle": "2025-07-06T07:08:30.130182Z",
     "shell.execute_reply": "2025-07-06T07:08:30.129404Z"
    },
    "papermill": {
     "duration": 1.469949,
     "end_time": "2025-07-06T07:08:30.131275",
     "exception": false,
     "start_time": "2025-07-06T07:08:28.661326",
     "status": "completed"
    },
    "tags": []
   },
   "outputs": [
    {
     "name": "stdout",
     "output_type": "stream",
     "text": [
      "Loading Xception base model...\n"
     ]
    },
    {
     "name": "stderr",
     "output_type": "stream",
     "text": [
      "/usr/local/lib/python3.11/dist-packages/keras/src/layers/core/wrapper.py:27: UserWarning: Do not pass an `input_shape`/`input_dim` argument to a layer. When using Sequential models, prefer using an `Input(shape)` object as the first layer in the model instead.\n",
      "  super().__init__(**kwargs)\n"
     ]
    },
    {
     "name": "stdout",
     "output_type": "stream",
     "text": [
      "Model architecture created successfully!\n"
     ]
    },
    {
     "data": {
      "text/html": [
       "<pre style=\"white-space:pre;overflow-x:auto;line-height:normal;font-family:Menlo,'DejaVu Sans Mono',consolas,'Courier New',monospace\"><span style=\"font-weight: bold\">Model: \"sequential\"</span>\n",
       "</pre>\n"
      ],
      "text/plain": [
       "\u001b[1mModel: \"sequential\"\u001b[0m\n"
      ]
     },
     "metadata": {},
     "output_type": "display_data"
    },
    {
     "data": {
      "text/html": [
       "<pre style=\"white-space:pre;overflow-x:auto;line-height:normal;font-family:Menlo,'DejaVu Sans Mono',consolas,'Courier New',monospace\">┏━━━━━━━━━━━━━━━━━━━━━━━━━━━━━━━━━━━━━━┳━━━━━━━━━━━━━━━━━━━━━━━━━━━━━┳━━━━━━━━━━━━━━━━━┓\n",
       "┃<span style=\"font-weight: bold\"> Layer (type)                         </span>┃<span style=\"font-weight: bold\"> Output Shape                </span>┃<span style=\"font-weight: bold\">         Param # </span>┃\n",
       "┡━━━━━━━━━━━━━━━━━━━━━━━━━━━━━━━━━━━━━━╇━━━━━━━━━━━━━━━━━━━━━━━━━━━━━╇━━━━━━━━━━━━━━━━━┩\n",
       "│ time_distributed (<span style=\"color: #0087ff; text-decoration-color: #0087ff\">TimeDistributed</span>)   │ (<span style=\"color: #00d7ff; text-decoration-color: #00d7ff\">None</span>, <span style=\"color: #00af00; text-decoration-color: #00af00\">5</span>, <span style=\"color: #00af00; text-decoration-color: #00af00\">4</span>, <span style=\"color: #00af00; text-decoration-color: #00af00\">4</span>, <span style=\"color: #00af00; text-decoration-color: #00af00\">2048</span>)       │      <span style=\"color: #00af00; text-decoration-color: #00af00\">20,861,480</span> │\n",
       "├──────────────────────────────────────┼─────────────────────────────┼─────────────────┤\n",
       "│ time_distributed_1 (<span style=\"color: #0087ff; text-decoration-color: #0087ff\">TimeDistributed</span>) │ (<span style=\"color: #00d7ff; text-decoration-color: #00d7ff\">None</span>, <span style=\"color: #00af00; text-decoration-color: #00af00\">5</span>, <span style=\"color: #00af00; text-decoration-color: #00af00\">2048</span>)             │               <span style=\"color: #00af00; text-decoration-color: #00af00\">0</span> │\n",
       "├──────────────────────────────────────┼─────────────────────────────┼─────────────────┤\n",
       "│ lstm (<span style=\"color: #0087ff; text-decoration-color: #0087ff\">LSTM</span>)                          │ (<span style=\"color: #00d7ff; text-decoration-color: #00d7ff\">None</span>, <span style=\"color: #00af00; text-decoration-color: #00af00\">512</span>)                 │       <span style=\"color: #00af00; text-decoration-color: #00af00\">5,244,928</span> │\n",
       "├──────────────────────────────────────┼─────────────────────────────┼─────────────────┤\n",
       "│ batch_normalization                  │ (<span style=\"color: #00d7ff; text-decoration-color: #00d7ff\">None</span>, <span style=\"color: #00af00; text-decoration-color: #00af00\">512</span>)                 │           <span style=\"color: #00af00; text-decoration-color: #00af00\">2,048</span> │\n",
       "│ (<span style=\"color: #0087ff; text-decoration-color: #0087ff\">BatchNormalization</span>)                 │                             │                 │\n",
       "├──────────────────────────────────────┼─────────────────────────────┼─────────────────┤\n",
       "│ dropout_lstm (<span style=\"color: #0087ff; text-decoration-color: #0087ff\">Dropout</span>)               │ (<span style=\"color: #00d7ff; text-decoration-color: #00d7ff\">None</span>, <span style=\"color: #00af00; text-decoration-color: #00af00\">512</span>)                 │               <span style=\"color: #00af00; text-decoration-color: #00af00\">0</span> │\n",
       "├──────────────────────────────────────┼─────────────────────────────┼─────────────────┤\n",
       "│ dense (<span style=\"color: #0087ff; text-decoration-color: #0087ff\">Dense</span>)                        │ (<span style=\"color: #00d7ff; text-decoration-color: #00d7ff\">None</span>, <span style=\"color: #00af00; text-decoration-color: #00af00\">512</span>)                 │         <span style=\"color: #00af00; text-decoration-color: #00af00\">262,656</span> │\n",
       "├──────────────────────────────────────┼─────────────────────────────┼─────────────────┤\n",
       "│ dropout_dense (<span style=\"color: #0087ff; text-decoration-color: #0087ff\">Dropout</span>)              │ (<span style=\"color: #00d7ff; text-decoration-color: #00d7ff\">None</span>, <span style=\"color: #00af00; text-decoration-color: #00af00\">512</span>)                 │               <span style=\"color: #00af00; text-decoration-color: #00af00\">0</span> │\n",
       "├──────────────────────────────────────┼─────────────────────────────┼─────────────────┤\n",
       "│ dense_1 (<span style=\"color: #0087ff; text-decoration-color: #0087ff\">Dense</span>)                      │ (<span style=\"color: #00d7ff; text-decoration-color: #00d7ff\">None</span>, <span style=\"color: #00af00; text-decoration-color: #00af00\">18</span>)                  │           <span style=\"color: #00af00; text-decoration-color: #00af00\">9,234</span> │\n",
       "└──────────────────────────────────────┴─────────────────────────────┴─────────────────┘\n",
       "</pre>\n"
      ],
      "text/plain": [
       "┏━━━━━━━━━━━━━━━━━━━━━━━━━━━━━━━━━━━━━━┳━━━━━━━━━━━━━━━━━━━━━━━━━━━━━┳━━━━━━━━━━━━━━━━━┓\n",
       "┃\u001b[1m \u001b[0m\u001b[1mLayer (type)                        \u001b[0m\u001b[1m \u001b[0m┃\u001b[1m \u001b[0m\u001b[1mOutput Shape               \u001b[0m\u001b[1m \u001b[0m┃\u001b[1m \u001b[0m\u001b[1m        Param #\u001b[0m\u001b[1m \u001b[0m┃\n",
       "┡━━━━━━━━━━━━━━━━━━━━━━━━━━━━━━━━━━━━━━╇━━━━━━━━━━━━━━━━━━━━━━━━━━━━━╇━━━━━━━━━━━━━━━━━┩\n",
       "│ time_distributed (\u001b[38;5;33mTimeDistributed\u001b[0m)   │ (\u001b[38;5;45mNone\u001b[0m, \u001b[38;5;34m5\u001b[0m, \u001b[38;5;34m4\u001b[0m, \u001b[38;5;34m4\u001b[0m, \u001b[38;5;34m2048\u001b[0m)       │      \u001b[38;5;34m20,861,480\u001b[0m │\n",
       "├──────────────────────────────────────┼─────────────────────────────┼─────────────────┤\n",
       "│ time_distributed_1 (\u001b[38;5;33mTimeDistributed\u001b[0m) │ (\u001b[38;5;45mNone\u001b[0m, \u001b[38;5;34m5\u001b[0m, \u001b[38;5;34m2048\u001b[0m)             │               \u001b[38;5;34m0\u001b[0m │\n",
       "├──────────────────────────────────────┼─────────────────────────────┼─────────────────┤\n",
       "│ lstm (\u001b[38;5;33mLSTM\u001b[0m)                          │ (\u001b[38;5;45mNone\u001b[0m, \u001b[38;5;34m512\u001b[0m)                 │       \u001b[38;5;34m5,244,928\u001b[0m │\n",
       "├──────────────────────────────────────┼─────────────────────────────┼─────────────────┤\n",
       "│ batch_normalization                  │ (\u001b[38;5;45mNone\u001b[0m, \u001b[38;5;34m512\u001b[0m)                 │           \u001b[38;5;34m2,048\u001b[0m │\n",
       "│ (\u001b[38;5;33mBatchNormalization\u001b[0m)                 │                             │                 │\n",
       "├──────────────────────────────────────┼─────────────────────────────┼─────────────────┤\n",
       "│ dropout_lstm (\u001b[38;5;33mDropout\u001b[0m)               │ (\u001b[38;5;45mNone\u001b[0m, \u001b[38;5;34m512\u001b[0m)                 │               \u001b[38;5;34m0\u001b[0m │\n",
       "├──────────────────────────────────────┼─────────────────────────────┼─────────────────┤\n",
       "│ dense (\u001b[38;5;33mDense\u001b[0m)                        │ (\u001b[38;5;45mNone\u001b[0m, \u001b[38;5;34m512\u001b[0m)                 │         \u001b[38;5;34m262,656\u001b[0m │\n",
       "├──────────────────────────────────────┼─────────────────────────────┼─────────────────┤\n",
       "│ dropout_dense (\u001b[38;5;33mDropout\u001b[0m)              │ (\u001b[38;5;45mNone\u001b[0m, \u001b[38;5;34m512\u001b[0m)                 │               \u001b[38;5;34m0\u001b[0m │\n",
       "├──────────────────────────────────────┼─────────────────────────────┼─────────────────┤\n",
       "│ dense_1 (\u001b[38;5;33mDense\u001b[0m)                      │ (\u001b[38;5;45mNone\u001b[0m, \u001b[38;5;34m18\u001b[0m)                  │           \u001b[38;5;34m9,234\u001b[0m │\n",
       "└──────────────────────────────────────┴─────────────────────────────┴─────────────────┘\n"
      ]
     },
     "metadata": {},
     "output_type": "display_data"
    },
    {
     "data": {
      "text/html": [
       "<pre style=\"white-space:pre;overflow-x:auto;line-height:normal;font-family:Menlo,'DejaVu Sans Mono',consolas,'Courier New',monospace\"><span style=\"font-weight: bold\"> Total params: </span><span style=\"color: #00af00; text-decoration-color: #00af00\">26,380,346</span> (100.63 MB)\n",
       "</pre>\n"
      ],
      "text/plain": [
       "\u001b[1m Total params: \u001b[0m\u001b[38;5;34m26,380,346\u001b[0m (100.63 MB)\n"
      ]
     },
     "metadata": {},
     "output_type": "display_data"
    },
    {
     "data": {
      "text/html": [
       "<pre style=\"white-space:pre;overflow-x:auto;line-height:normal;font-family:Menlo,'DejaVu Sans Mono',consolas,'Courier New',monospace\"><span style=\"font-weight: bold\"> Trainable params: </span><span style=\"color: #00af00; text-decoration-color: #00af00\">26,324,794</span> (100.42 MB)\n",
       "</pre>\n"
      ],
      "text/plain": [
       "\u001b[1m Trainable params: \u001b[0m\u001b[38;5;34m26,324,794\u001b[0m (100.42 MB)\n"
      ]
     },
     "metadata": {},
     "output_type": "display_data"
    },
    {
     "data": {
      "text/html": [
       "<pre style=\"white-space:pre;overflow-x:auto;line-height:normal;font-family:Menlo,'DejaVu Sans Mono',consolas,'Courier New',monospace\"><span style=\"font-weight: bold\"> Non-trainable params: </span><span style=\"color: #00af00; text-decoration-color: #00af00\">55,552</span> (217.00 KB)\n",
       "</pre>\n"
      ],
      "text/plain": [
       "\u001b[1m Non-trainable params: \u001b[0m\u001b[38;5;34m55,552\u001b[0m (217.00 KB)\n"
      ]
     },
     "metadata": {},
     "output_type": "display_data"
    },
    {
     "name": "stdout",
     "output_type": "stream",
     "text": [
      "Model Created Successfully!\n"
     ]
    }
   ],
   "source": [
    "# Create the model\n",
    "xlstm_model = create_xception_lstm_model(\n",
    "    sequence_length=SEQUENCE_LENGTH,\n",
    "    image_height=IMAGE_HEIGHT,\n",
    "    image_width=IMAGE_WIDTH,\n",
    "    classes_list=CLASSES_LIST,\n",
    "    dropout_rate=DROPOUT_RATE\n",
    ")\n",
    "\n",
    "# Check if model was created successfully\n",
    "if xlstm_model is None:\n",
    "    print(\"Failed to create model. Check error messages above.\")\n",
    "else:\n",
    "    print(\"Model Created Successfully!\")"
   ]
  },
  {
   "cell_type": "markdown",
   "id": "d38d9904",
   "metadata": {
    "papermill": {
     "duration": 0.133227,
     "end_time": "2025-07-06T07:08:30.446251",
     "exception": false,
     "start_time": "2025-07-06T07:08:30.313024",
     "status": "completed"
    },
    "tags": []
   },
   "source": [
    "## Plot Model Structure"
   ]
  },
  {
   "cell_type": "code",
   "execution_count": 55,
   "id": "0df4d947",
   "metadata": {
    "execution": {
     "iopub.execute_input": "2025-07-06T07:08:30.716987Z",
     "iopub.status.busy": "2025-07-06T07:08:30.716749Z",
     "iopub.status.idle": "2025-07-06T07:08:31.031562Z",
     "shell.execute_reply": "2025-07-06T07:08:31.030709Z"
    },
    "papermill": {
     "duration": 0.451717,
     "end_time": "2025-07-06T07:08:31.032829",
     "exception": false,
     "start_time": "2025-07-06T07:08:30.581112",
     "status": "completed"
    },
    "tags": []
   },
   "outputs": [
    {
     "name": "stdout",
     "output_type": "stream",
     "text": [
      "Xception Model Plot saved successfully...\n"
     ]
    }
   ],
   "source": [
    "# Plot the structure of the contructed model.\n",
    "from tensorflow.keras.utils import plot_model\n",
    "\n",
    "plot_model(xlstm_model, to_file = f'{MODEL_NAME}_model_Plot.png', show_shapes = True, show_layer_names = True)\n",
    "\n",
    "print(f\"{MODEL_NAME} Model Plot saved successfully...\")"
   ]
  },
  {
   "cell_type": "markdown",
   "id": "0e3a2447",
   "metadata": {
    "papermill": {
     "duration": 0.13455,
     "end_time": "2025-07-06T07:08:31.305480",
     "exception": false,
     "start_time": "2025-07-06T07:08:31.170930",
     "status": "completed"
    },
    "tags": []
   },
   "source": [
    "## Model Compile"
   ]
  },
  {
   "cell_type": "code",
   "execution_count": 56,
   "id": "d6d00b20",
   "metadata": {
    "execution": {
     "iopub.execute_input": "2025-07-06T07:08:31.570831Z",
     "iopub.status.busy": "2025-07-06T07:08:31.570533Z",
     "iopub.status.idle": "2025-07-06T07:08:31.585773Z",
     "shell.execute_reply": "2025-07-06T07:08:31.585242Z"
    },
    "papermill": {
     "duration": 0.149829,
     "end_time": "2025-07-06T07:08:31.586874",
     "exception": false,
     "start_time": "2025-07-06T07:08:31.437045",
     "status": "completed"
    },
    "tags": []
   },
   "outputs": [],
   "source": [
    "# Create an Instance of Early Stopping Callback\n",
    "from tensorflow.keras.callbacks import EarlyStopping\n",
    "\n",
    "early_stopping_callback = EarlyStopping(monitor = 'val_loss', \n",
    "                                        patience = 7, \n",
    "                                        mode = 'min', \n",
    "                                        restore_best_weights = True)\n",
    "\n",
    "# Compile the model and specify loss function, optimizer and metrics values to the model\n",
    "xlstm_model.compile(loss = 'categorical_crossentropy', \n",
    "                    optimizer=tf.keras.optimizers.Adam(learning_rate=0.0001),\n",
    "                    metrics = [\"accuracy\"])\n"
   ]
  },
  {
   "cell_type": "markdown",
   "id": "939412b4",
   "metadata": {
    "papermill": {
     "duration": 0.1767,
     "end_time": "2025-07-06T07:08:31.896760",
     "exception": false,
     "start_time": "2025-07-06T07:08:31.720060",
     "status": "completed"
    },
    "tags": []
   },
   "source": [
    "## 💪 Model Fit"
   ]
  },
  {
   "cell_type": "code",
   "execution_count": 57,
   "id": "e73eee8f",
   "metadata": {
    "execution": {
     "iopub.execute_input": "2025-07-06T07:08:32.164181Z",
     "iopub.status.busy": "2025-07-06T07:08:32.163931Z",
     "iopub.status.idle": "2025-07-06T07:08:32.170565Z",
     "shell.execute_reply": "2025-07-06T07:08:32.169636Z"
    },
    "papermill": {
     "duration": 0.142522,
     "end_time": "2025-07-06T07:08:32.172092",
     "exception": false,
     "start_time": "2025-07-06T07:08:32.029570",
     "status": "completed"
    },
    "tags": []
   },
   "outputs": [
    {
     "name": "stdout",
     "output_type": "stream",
     "text": [
      "Unique labels: [ 0  1  2  3  4  5  6  7  8  9 10 11 12 13 14 15 16 17]\n",
      "NO_OF_CLASSES: 18\n"
     ]
    }
   ],
   "source": [
    "labels = np.argmax(train_gen.labels, axis=1)  # assuming one-hot encoded\n",
    "print(\"Unique labels:\", np.unique(labels))\n",
    "print(\"NO_OF_CLASSES:\", NO_OF_CLASSES)\n"
   ]
  },
  {
   "cell_type": "code",
   "execution_count": 58,
   "id": "24a47725",
   "metadata": {
    "execution": {
     "iopub.execute_input": "2025-07-06T07:08:32.442952Z",
     "iopub.status.busy": "2025-07-06T07:08:32.442322Z",
     "iopub.status.idle": "2025-07-06T07:08:32.448322Z",
     "shell.execute_reply": "2025-07-06T07:08:32.447675Z"
    },
    "papermill": {
     "duration": 0.143113,
     "end_time": "2025-07-06T07:08:32.449490",
     "exception": false,
     "start_time": "2025-07-06T07:08:32.306377",
     "status": "completed"
    },
    "tags": []
   },
   "outputs": [
    {
     "name": "stdout",
     "output_type": "stream",
     "text": [
      "Train label shape: (1843, 18)\n",
      "Val label shape: (461, 18)\n"
     ]
    }
   ],
   "source": [
    "print(\"Train label shape:\", np.shape(train_gen.labels))\n",
    "print(\"Val label shape:\", np.shape(val_gen.labels))\n"
   ]
  },
  {
   "cell_type": "code",
   "execution_count": 59,
   "id": "a426e38b",
   "metadata": {
    "execution": {
     "iopub.execute_input": "2025-07-06T07:08:32.717699Z",
     "iopub.status.busy": "2025-07-06T07:08:32.717063Z",
     "iopub.status.idle": "2025-07-06T07:47:27.542411Z",
     "shell.execute_reply": "2025-07-06T07:47:27.541540Z"
    },
    "papermill": {
     "duration": 2334.960402,
     "end_time": "2025-07-06T07:47:27.543958",
     "exception": false,
     "start_time": "2025-07-06T07:08:32.583556",
     "status": "completed"
    },
    "tags": []
   },
   "outputs": [
    {
     "name": "stdout",
     "output_type": "stream",
     "text": [
      "Dataset - Kard Kinect Activity Recognition Dataset\n",
      "There are total 18 classes, selected 18 classes\n",
      "Setting 20 videos/class to train the model.\n",
      "Image size 128x128 with 5 sequence length\n",
      "Dropout rate: 0.5\n",
      "Train-Test split ratio 80/20\n",
      "Validation data from Train set 20.0%\n",
      "\n",
      "\n",
      "Training started for 1843 videos of 18 classes with 461 videos for validation...\n",
      "Epoch 1/30\n"
     ]
    },
    {
     "name": "stderr",
     "output_type": "stream",
     "text": [
      "I0000 00:00:1751785771.423570      86 cuda_dnn.cc:529] Loaded cuDNN version 90300\n"
     ]
    },
    {
     "name": "stdout",
     "output_type": "stream",
     "text": [
      "    116/Unknown \u001b[1m131s\u001b[0m 597ms/step - accuracy: 0.0625 - loss: 26.9032"
     ]
    },
    {
     "name": "stderr",
     "output_type": "stream",
     "text": [
      "/usr/local/lib/python3.11/dist-packages/keras/src/trainers/epoch_iterator.py:151: UserWarning: Your input ran out of data; interrupting training. Make sure that your dataset or generator can generate at least `steps_per_epoch * epochs` batches. You may need to use the `.repeat()` function when building your dataset.\n",
      "  self._interrupted_warning()\n"
     ]
    },
    {
     "name": "stdout",
     "output_type": "stream",
     "text": [
      "\u001b[1m116/116\u001b[0m \u001b[32m━━━━━━━━━━━━━━━━━━━━\u001b[0m\u001b[37m\u001b[0m \u001b[1m141s\u001b[0m 685ms/step - accuracy: 0.0625 - loss: 26.8840 - val_accuracy: 0.0542 - val_loss: 20.4637 - learning_rate: 1.0000e-04\n",
      "Epoch 2/30\n",
      "\u001b[1m116/116\u001b[0m \u001b[32m━━━━━━━━━━━━━━━━━━━━\u001b[0m\u001b[37m\u001b[0m \u001b[1m75s\u001b[0m 648ms/step - accuracy: 0.0695 - loss: 18.9007 - val_accuracy: 0.1757 - val_loss: 14.9958 - learning_rate: 1.0000e-04\n",
      "Epoch 3/30\n",
      "\u001b[1m116/116\u001b[0m \u001b[32m━━━━━━━━━━━━━━━━━━━━\u001b[0m\u001b[37m\u001b[0m \u001b[1m75s\u001b[0m 649ms/step - accuracy: 0.1495 - loss: 13.8859 - val_accuracy: 0.2495 - val_loss: 11.5572 - learning_rate: 1.0000e-04\n",
      "Epoch 4/30\n",
      "\u001b[1m116/116\u001b[0m \u001b[32m━━━━━━━━━━━━━━━━━━━━\u001b[0m\u001b[37m\u001b[0m \u001b[1m75s\u001b[0m 648ms/step - accuracy: 0.2284 - loss: 10.8687 - val_accuracy: 0.4859 - val_loss: 9.3436 - learning_rate: 1.0000e-04\n",
      "Epoch 5/30\n",
      "\u001b[1m116/116\u001b[0m \u001b[32m━━━━━━━━━━━━━━━━━━━━\u001b[0m\u001b[37m\u001b[0m \u001b[1m75s\u001b[0m 650ms/step - accuracy: 0.3938 - loss: 8.8366 - val_accuracy: 0.5597 - val_loss: 7.6232 - learning_rate: 1.0000e-04\n",
      "Epoch 6/30\n",
      "\u001b[1m116/116\u001b[0m \u001b[32m━━━━━━━━━━━━━━━━━━━━\u001b[0m\u001b[37m\u001b[0m \u001b[1m76s\u001b[0m 652ms/step - accuracy: 0.5762 - loss: 7.4349 - val_accuracy: 0.7332 - val_loss: 6.4699 - learning_rate: 1.0000e-04\n",
      "Epoch 7/30\n",
      "\u001b[1m116/116\u001b[0m \u001b[32m━━━━━━━━━━━━━━━━━━━━\u001b[0m\u001b[37m\u001b[0m \u001b[1m76s\u001b[0m 652ms/step - accuracy: 0.7657 - loss: 6.2993 - val_accuracy: 0.7636 - val_loss: 5.8731 - learning_rate: 1.0000e-04\n",
      "Epoch 8/30\n",
      "\u001b[1m116/116\u001b[0m \u001b[32m━━━━━━━━━━━━━━━━━━━━\u001b[0m\u001b[37m\u001b[0m \u001b[1m76s\u001b[0m 653ms/step - accuracy: 0.8613 - loss: 5.5353 - val_accuracy: 0.8004 - val_loss: 5.4269 - learning_rate: 1.0000e-04\n",
      "Epoch 9/30\n",
      "\u001b[1m116/116\u001b[0m \u001b[32m━━━━━━━━━━━━━━━━━━━━\u001b[0m\u001b[37m\u001b[0m \u001b[1m76s\u001b[0m 654ms/step - accuracy: 0.9104 - loss: 4.9703 - val_accuracy: 0.8286 - val_loss: 4.9938 - learning_rate: 1.0000e-04\n",
      "Epoch 10/30\n",
      "\u001b[1m116/116\u001b[0m \u001b[32m━━━━━━━━━━━━━━━━━━━━\u001b[0m\u001b[37m\u001b[0m \u001b[1m76s\u001b[0m 652ms/step - accuracy: 0.9566 - loss: 4.4683 - val_accuracy: 0.8568 - val_loss: 4.5195 - learning_rate: 1.0000e-04\n",
      "Epoch 11/30\n",
      "\u001b[1m116/116\u001b[0m \u001b[32m━━━━━━━━━━━━━━━━━━━━\u001b[0m\u001b[37m\u001b[0m \u001b[1m76s\u001b[0m 652ms/step - accuracy: 0.9787 - loss: 4.0505 - val_accuracy: 0.8416 - val_loss: 4.2125 - learning_rate: 1.0000e-04\n",
      "Epoch 12/30\n",
      "\u001b[1m116/116\u001b[0m \u001b[32m━━━━━━━━━━━━━━━━━━━━\u001b[0m\u001b[37m\u001b[0m \u001b[1m75s\u001b[0m 651ms/step - accuracy: 0.9838 - loss: 3.7044 - val_accuracy: 0.8590 - val_loss: 3.8836 - learning_rate: 1.0000e-04\n",
      "Epoch 13/30\n",
      "\u001b[1m116/116\u001b[0m \u001b[32m━━━━━━━━━━━━━━━━━━━━\u001b[0m\u001b[37m\u001b[0m \u001b[1m76s\u001b[0m 652ms/step - accuracy: 0.9938 - loss: 3.3566 - val_accuracy: 0.8720 - val_loss: 3.5107 - learning_rate: 1.0000e-04\n",
      "Epoch 14/30\n",
      "\u001b[1m116/116\u001b[0m \u001b[32m━━━━━━━━━━━━━━━━━━━━\u001b[0m\u001b[37m\u001b[0m \u001b[1m76s\u001b[0m 652ms/step - accuracy: 0.9957 - loss: 3.0391 - val_accuracy: 0.8829 - val_loss: 3.1261 - learning_rate: 1.0000e-04\n",
      "Epoch 15/30\n",
      "\u001b[1m116/116\u001b[0m \u001b[32m━━━━━━━━━━━━━━━━━━━━\u001b[0m\u001b[37m\u001b[0m \u001b[1m76s\u001b[0m 653ms/step - accuracy: 0.9974 - loss: 2.7444 - val_accuracy: 0.8872 - val_loss: 2.8517 - learning_rate: 1.0000e-04\n",
      "Epoch 16/30\n",
      "\u001b[1m116/116\u001b[0m \u001b[32m━━━━━━━━━━━━━━━━━━━━\u001b[0m\u001b[37m\u001b[0m \u001b[1m76s\u001b[0m 652ms/step - accuracy: 0.9976 - loss: 2.4794 - val_accuracy: 0.9046 - val_loss: 2.5846 - learning_rate: 1.0000e-04\n",
      "Epoch 17/30\n",
      "\u001b[1m116/116\u001b[0m \u001b[32m━━━━━━━━━━━━━━━━━━━━\u001b[0m\u001b[37m\u001b[0m \u001b[1m76s\u001b[0m 653ms/step - accuracy: 0.9984 - loss: 2.2219 - val_accuracy: 0.9067 - val_loss: 2.3231 - learning_rate: 1.0000e-04\n",
      "Epoch 18/30\n",
      "\u001b[1m116/116\u001b[0m \u001b[32m━━━━━━━━━━━━━━━━━━━━\u001b[0m\u001b[37m\u001b[0m \u001b[1m76s\u001b[0m 652ms/step - accuracy: 0.9999 - loss: 1.9862 - val_accuracy: 0.8850 - val_loss: 2.2175 - learning_rate: 1.0000e-04\n",
      "Epoch 19/30\n",
      "\u001b[1m116/116\u001b[0m \u001b[32m━━━━━━━━━━━━━━━━━━━━\u001b[0m\u001b[37m\u001b[0m \u001b[1m76s\u001b[0m 653ms/step - accuracy: 0.9996 - loss: 1.7738 - val_accuracy: 0.8720 - val_loss: 2.0015 - learning_rate: 1.0000e-04\n",
      "Epoch 20/30\n",
      "\u001b[1m116/116\u001b[0m \u001b[32m━━━━━━━━━━━━━━━━━━━━\u001b[0m\u001b[37m\u001b[0m \u001b[1m76s\u001b[0m 653ms/step - accuracy: 0.9994 - loss: 1.5829 - val_accuracy: 0.9219 - val_loss: 1.6959 - learning_rate: 1.0000e-04\n",
      "Epoch 21/30\n",
      "\u001b[1m116/116\u001b[0m \u001b[32m━━━━━━━━━━━━━━━━━━━━\u001b[0m\u001b[37m\u001b[0m \u001b[1m76s\u001b[0m 654ms/step - accuracy: 0.9997 - loss: 1.3937 - val_accuracy: 0.9197 - val_loss: 1.4915 - learning_rate: 1.0000e-04\n",
      "Epoch 22/30\n",
      "\u001b[1m116/116\u001b[0m \u001b[32m━━━━━━━━━━━━━━━━━━━━\u001b[0m\u001b[37m\u001b[0m \u001b[1m76s\u001b[0m 653ms/step - accuracy: 1.0000 - loss: 1.2240 - val_accuracy: 0.9306 - val_loss: 1.3429 - learning_rate: 1.0000e-04\n",
      "Epoch 23/30\n",
      "\u001b[1m116/116\u001b[0m \u001b[32m━━━━━━━━━━━━━━━━━━━━\u001b[0m\u001b[37m\u001b[0m \u001b[1m76s\u001b[0m 654ms/step - accuracy: 1.0000 - loss: 1.0720 - val_accuracy: 0.9241 - val_loss: 1.1947 - learning_rate: 1.0000e-04\n",
      "Epoch 24/30\n",
      "\u001b[1m116/116\u001b[0m \u001b[32m━━━━━━━━━━━━━━━━━━━━\u001b[0m\u001b[37m\u001b[0m \u001b[1m76s\u001b[0m 653ms/step - accuracy: 1.0000 - loss: 0.9353 - val_accuracy: 0.9197 - val_loss: 1.0673 - learning_rate: 1.0000e-04\n",
      "Epoch 25/30\n",
      "\u001b[1m116/116\u001b[0m \u001b[32m━━━━━━━━━━━━━━━━━━━━\u001b[0m\u001b[37m\u001b[0m \u001b[1m76s\u001b[0m 651ms/step - accuracy: 1.0000 - loss: 0.8129 - val_accuracy: 0.9241 - val_loss: 0.9492 - learning_rate: 1.0000e-04\n",
      "Epoch 26/30\n",
      "\u001b[1m116/116\u001b[0m \u001b[32m━━━━━━━━━━━━━━━━━━━━\u001b[0m\u001b[37m\u001b[0m \u001b[1m76s\u001b[0m 652ms/step - accuracy: 1.0000 - loss: 0.7039 - val_accuracy: 0.9154 - val_loss: 0.8748 - learning_rate: 1.0000e-04\n",
      "Epoch 27/30\n",
      "\u001b[1m116/116\u001b[0m \u001b[32m━━━━━━━━━━━━━━━━━━━━\u001b[0m\u001b[37m\u001b[0m \u001b[1m76s\u001b[0m 652ms/step - accuracy: 1.0000 - loss: 0.6064 - val_accuracy: 0.9154 - val_loss: 0.7874 - learning_rate: 1.0000e-04\n",
      "Epoch 28/30\n",
      "\u001b[1m116/116\u001b[0m \u001b[32m━━━━━━━━━━━━━━━━━━━━\u001b[0m\u001b[37m\u001b[0m \u001b[1m76s\u001b[0m 653ms/step - accuracy: 1.0000 - loss: 0.5213 - val_accuracy: 0.9241 - val_loss: 0.7025 - learning_rate: 1.0000e-04\n",
      "Epoch 29/30\n",
      "\u001b[1m116/116\u001b[0m \u001b[32m━━━━━━━━━━━━━━━━━━━━\u001b[0m\u001b[37m\u001b[0m \u001b[1m76s\u001b[0m 652ms/step - accuracy: 1.0000 - loss: 0.4458 - val_accuracy: 0.9089 - val_loss: 0.6295 - learning_rate: 1.0000e-04\n",
      "Epoch 30/30\n",
      "\u001b[1m116/116\u001b[0m \u001b[32m━━━━━━━━━━━━━━━━━━━━\u001b[0m\u001b[37m\u001b[0m \u001b[1m76s\u001b[0m 653ms/step - accuracy: 1.0000 - loss: 0.3804 - val_accuracy: 0.9241 - val_loss: 0.5625 - learning_rate: 1.0000e-04\n"
     ]
    }
   ],
   "source": [
    "from tensorflow.keras.callbacks import ReduceLROnPlateau\n",
    "\n",
    "lr_scheduler = ReduceLROnPlateau(monitor='val_loss', \n",
    "                                 factor=0.5, \n",
    "                                 patience=3, \n",
    "                                 min_lr=1e-6)\n",
    "\n",
    "\n",
    "\n",
    "print(f\"Dataset - {DATASET_NAME}\")\n",
    "print(f\"There are total {len(ALL_CLASS_NAMES)} classes, selected {NO_OF_CLASSES} classes\")\n",
    "print(f\"Setting {MAX_VIDEO_PER_CLASS} videos/class to train the model.\")\n",
    "print(f\"Image size {IMAGE_HEIGHT}x{IMAGE_WIDTH} with {SEQUENCE_LENGTH} sequence length\")\n",
    "print(f\"Dropout rate: {DROPOUT_RATE}\")\n",
    "print(f\"Train-Test split ratio {int((1-TEST_SIZE)*100)}/{int(TEST_SIZE*100)}\")\n",
    "print(f\"Validation data from Train set {VALIDATION_SPLIT*100}%\")\n",
    "\n",
    "print(\"\\n\")\n",
    "\n",
    "print(f\"Training started for {len(train_gen.videos)} videos of {NO_OF_CLASSES} classes with {len(val_gen.videos)} videos for validation...\")\n",
    "\n",
    "model_history = xlstm_model.fit(\n",
    "    train_gen.as_dataset(),\n",
    "    validation_data=val_gen.as_dataset(),\n",
    "    epochs=EPOCHS,\n",
    "    # class_weight=class_weight_dict,\n",
    "    callbacks=[early_stopping_callback, lr_scheduler]\n",
    ")"
   ]
  },
  {
   "cell_type": "markdown",
   "id": "561f7ba3",
   "metadata": {
    "papermill": {
     "duration": 0.298304,
     "end_time": "2025-07-06T07:47:28.138256",
     "exception": false,
     "start_time": "2025-07-06T07:47:27.839952",
     "status": "completed"
    },
    "tags": []
   },
   "source": [
    "# Evaluation"
   ]
  },
  {
   "cell_type": "markdown",
   "id": "3ecd7780",
   "metadata": {
    "papermill": {
     "duration": 0.339701,
     "end_time": "2025-07-06T07:47:28.780243",
     "exception": false,
     "start_time": "2025-07-06T07:47:28.440542",
     "status": "completed"
    },
    "tags": []
   },
   "source": [
    "## ⚡ Model Evaluate"
   ]
  },
  {
   "cell_type": "code",
   "execution_count": 60,
   "id": "6f730218",
   "metadata": {
    "execution": {
     "iopub.execute_input": "2025-07-06T07:47:29.374888Z",
     "iopub.status.busy": "2025-07-06T07:47:29.374628Z",
     "iopub.status.idle": "2025-07-06T07:47:36.155773Z",
     "shell.execute_reply": "2025-07-06T07:47:36.154958Z"
    },
    "papermill": {
     "duration": 7.088689,
     "end_time": "2025-07-06T07:47:36.157134",
     "exception": false,
     "start_time": "2025-07-06T07:47:29.068445",
     "status": "completed"
    },
    "tags": []
   },
   "outputs": [
    {
     "name": "stdout",
     "output_type": "stream",
     "text": [
      "\u001b[1m18/18\u001b[0m \u001b[32m━━━━━━━━━━━━━━━━━━━━\u001b[0m\u001b[37m\u001b[0m \u001b[1m5s\u001b[0m 261ms/step - accuracy: 0.9130 - loss: 0.5761\n"
     ]
    }
   ],
   "source": [
    "# previous code\n",
    "model_evaluation_history = xlstm_model.evaluate(features_test, labels_test)"
   ]
  },
  {
   "cell_type": "code",
   "execution_count": 61,
   "id": "9f3b21ba",
   "metadata": {
    "execution": {
     "iopub.execute_input": "2025-07-06T07:47:36.793641Z",
     "iopub.status.busy": "2025-07-06T07:47:36.793336Z",
     "iopub.status.idle": "2025-07-06T07:47:37.155051Z",
     "shell.execute_reply": "2025-07-06T07:47:37.154228Z"
    },
    "papermill": {
     "duration": 0.704686,
     "end_time": "2025-07-06T07:47:37.156345",
     "exception": false,
     "start_time": "2025-07-06T07:47:36.451659",
     "status": "completed"
    },
    "tags": []
   },
   "outputs": [
    {
     "data": {
      "image/png": "[encoded data removed]",
      "text/plain": [
       "<Figure size 1200x500 with 2 Axes>"
      ]
     },
     "metadata": {},
     "output_type": "display_data"
    }
   ],
   "source": [
    "import matplotlib.pyplot as plt\n",
    "\n",
    "# Accuracy\n",
    "plt.figure(figsize=(12, 5))\n",
    "\n",
    "plt.subplot(1, 2, 1)\n",
    "plt.plot(model_history.history['accuracy'], label='Train Accuracy')\n",
    "plt.plot(model_history.history['val_accuracy'], label='Validation Accuracy')\n",
    "plt.title('Model Accuracy')\n",
    "plt.xlabel('Epoch')\n",
    "plt.ylabel('Accuracy')\n",
    "plt.legend()\n",
    "\n",
    "# Loss\n",
    "plt.subplot(1, 2, 2)\n",
    "plt.plot(model_history.history['loss'], label='Train Loss')\n",
    "plt.plot(model_history.history['val_loss'], label='Validation Loss')\n",
    "plt.title('Model Loss')\n",
    "plt.xlabel('Epoch')\n",
    "plt.ylabel('Loss')\n",
    "plt.legend()\n",
    "\n",
    "plt.tight_layout()\n",
    "plt.show()\n"
   ]
  },
  {
   "cell_type": "markdown",
   "id": "874431b7",
   "metadata": {
    "papermill": {
     "duration": 0.288273,
     "end_time": "2025-07-06T07:47:37.739020",
     "exception": false,
     "start_time": "2025-07-06T07:47:37.450747",
     "status": "completed"
    },
    "tags": []
   },
   "source": [
    "## 📈 Confusion Matrix"
   ]
  },
  {
   "cell_type": "code",
   "execution_count": 62,
   "id": "f001adc8",
   "metadata": {
    "execution": {
     "iopub.execute_input": "2025-07-06T07:47:38.379682Z",
     "iopub.status.busy": "2025-07-06T07:47:38.379382Z",
     "iopub.status.idle": "2025-07-06T07:47:52.092888Z",
     "shell.execute_reply": "2025-07-06T07:47:52.092134Z"
    },
    "papermill": {
     "duration": 14.064686,
     "end_time": "2025-07-06T07:47:52.094174",
     "exception": false,
     "start_time": "2025-07-06T07:47:38.029488",
     "status": "completed"
    },
    "tags": []
   },
   "outputs": [
    {
     "name": "stdout",
     "output_type": "stream",
     "text": [
      "Total 576 videos and 576 classes\n",
      "\u001b[1m144/144\u001b[0m \u001b[32m━━━━━━━━━━━━━━━━━━━━\u001b[0m\u001b[37m\u001b[0m \u001b[1m13s\u001b[0m 51ms/step\n",
      "True classes shape: (576,)\n",
      "Predicted classes shape: (576,)\n",
      "Classification Report:\n",
      "                     precision    recall  f1-score   support\n",
      "\n",
      "          Catch Cap       0.97      1.00      0.98        28\n",
      "              Drink       0.96      0.79      0.87        33\n",
      "           Sit down       1.00      1.00      1.00        41\n",
      "          Draw Tick       0.66      0.75      0.70        36\n",
      "         Phone Call       1.00      1.00      1.00        28\n",
      "Horizontal arm wave       1.00      0.86      0.93        36\n",
      "          Hand Clap       1.00      0.96      0.98        25\n",
      "         High throw       0.71      0.83      0.76        29\n",
      "       Forward Kick       1.00      1.00      1.00        35\n",
      "           Stand up       1.00      1.00      1.00        33\n",
      "      Two hand wave       0.93      1.00      0.96        27\n",
      "         Toss Paper       0.94      1.00      0.97        34\n",
      "               Walk       1.00      1.00      1.00        28\n",
      "          Side Kick       0.96      1.00      0.98        26\n",
      "               Bend       0.97      1.00      0.99        34\n",
      "      Take Umbrella       1.00      0.96      0.98        27\n",
      "      High arm wave       0.88      0.97      0.92        31\n",
      "             Draw X       0.79      0.67      0.72        45\n",
      "\n",
      "           accuracy                           0.92       576\n",
      "          macro avg       0.93      0.93      0.93       576\n",
      "       weighted avg       0.93      0.92      0.92       576\n",
      "\n"
     ]
    },
    {
     "name": "stderr",
     "output_type": "stream",
     "text": [
      "/usr/local/lib/python3.11/dist-packages/keras/src/trainers/epoch_iterator.py:151: UserWarning: Your input ran out of data; interrupting training. Make sure that your dataset or generator can generate at least `steps_per_epoch * epochs` batches. You may need to use the `.repeat()` function when building your dataset.\n",
      "  self._interrupted_warning()\n"
     ]
    },
    {
     "data": {
      "image/png": "[encoded data removed]",
      "text/plain": [
       "<Figure size 800x600 with 2 Axes>"
      ]
     },
     "metadata": {},
     "output_type": "display_data"
    }
   ],
   "source": [
    "from sklearn.metrics import classification_report, confusion_matrix\n",
    "import seaborn as sns\n",
    "import matplotlib.pyplot as plt\n",
    "\n",
    "# Create test generator with batch_size matching test set size\n",
    "test_gen = VideoDataGenerator(\n",
    "    videos=features_test,\n",
    "    labels=labels_test,\n",
    "    batch_size=4,  # Process all test samples at once\n",
    ")\n",
    "\n",
    "# Get predictions\n",
    "predictions = xlstm_model.predict(test_gen.as_dataset())\n",
    "predicted_classes = np.argmax(predictions, axis=1)\n",
    "true_classes = np.argmax(labels_test, axis=1)\n",
    "\n",
    "# Verify shapes\n",
    "print(f\"True classes shape: {true_classes.shape}\")\n",
    "print(f\"Predicted classes shape: {predicted_classes.shape}\")\n",
    "assert len(true_classes) == len(predicted_classes), \"Sample counts do not match!\"\n",
    "\n",
    "# Generate classification report\n",
    "print(\"Classification Report:\")\n",
    "print(classification_report(true_classes, predicted_classes, target_names=CLASSES_LIST))\n",
    "\n",
    "# Plot confusion matrix\n",
    "cm = confusion_matrix(true_classes, predicted_classes)\n",
    "plt.figure(figsize=(8, 6))\n",
    "sns.heatmap(cm, annot=True, fmt='d', cmap='Blues', xticklabels=CLASSES_LIST, yticklabels=CLASSES_LIST[-1])\n",
    "plt.xlabel('Predicted')\n",
    "plt.ylabel('True')\n",
    "plt.title('Confusion Matrix')\n",
    "plt.show()"
   ]
  }
 ],
 "metadata": {
  "kaggle": {
   "accelerator": "nvidiaTeslaT4",
   "dataSources": [
    {
     "datasetId": 1357563,
     "sourceId": 2256095,
     "sourceType": "datasetVersion"
    },
    {
     "datasetId": 7763484,
     "sourceId": 12338519,
     "sourceType": "datasetVersion"
    },
    {
     "datasetId": 7801884,
     "sourceId": 12373562,
     "sourceType": "datasetVersion"
    },
    {
     "datasetId": 7801555,
     "sourceId": 12373067,
     "sourceType": "datasetVersion"
    }
   ],
   "isGpuEnabled": true,
   "isInternetEnabled": true,
   "language": "python",
   "sourceType": "notebook"
  },
  "kernelspec": {
   "display_name": "Python 3",
   "language": "python",
   "name": "python3"
  },
  "language_info": {
   "codemirror_mode": {
    "name": "ipython",
    "version": 3
   },
   "file_extension": ".py",
   "mimetype": "text/x-python",
   "name": "python",
   "nbconvert_exporter": "python",
   "pygments_lexer": "ipython3",
   "version": "3.11.11"
  },
  "papermill": {
   "default_parameters": {},
   "duration": 2527.611945,
   "end_time": "2025-07-06T07:47:56.455794",
   "environment_variables": {},
   "exception": null,
   "input_path": "__notebook__.ipynb",
   "output_path": "__notebook__.ipynb",
   "parameters": {},
   "start_time": "2025-07-06T07:05:48.843849",
   "version": "2.6.0"
  }
 },
 "nbformat": 4,
 "nbformat_minor": 5
}
