{
 "cells": [
  {
   "cell_type": "markdown",
   "id": "edfbe5e6",
   "metadata": {
    "papermill": {
     "duration": 0.012574,
     "end_time": "2025-07-06T08:14:24.179289",
     "exception": false,
     "start_time": "2025-07-06T08:14:24.166715",
     "status": "completed"
    },
    "tags": []
   },
   "source": [
    "# Initialization\n",
    "## Import Libraries"
   ]
  },
  {
   "cell_type": "code",
   "execution_count": 1,
   "id": "79392439",
   "metadata": {
    "execution": {
     "iopub.execute_input": "2025-07-06T08:14:24.202913Z",
     "iopub.status.busy": "2025-07-06T08:14:24.202634Z",
     "iopub.status.idle": "2025-07-06T08:14:43.295205Z",
     "shell.execute_reply": "2025-07-06T08:14:43.294150Z"
    },
    "papermill": {
     "duration": 19.106536,
     "end_time": "2025-07-06T08:14:43.296882",
     "exception": false,
     "start_time": "2025-07-06T08:14:24.190346",
     "status": "completed"
    },
    "tags": []
   },
   "outputs": [
    {
     "name": "stdout",
     "output_type": "stream",
     "text": [
      "Collecting mediapipe\r\n",
      "  Downloading mediapipe-0.10.21-cp311-cp311-manylinux_2_28_x86_64.whl.metadata (9.7 kB)\r\n",
      "Requirement already satisfied: absl-py in /usr/local/lib/python3.11/dist-packages (from mediapipe) (1.4.0)\r\n",
      "Requirement already satisfied: attrs>=19.1.0 in /usr/local/lib/python3.11/dist-packages (from mediapipe) (25.3.0)\r\n",
      "Requirement already satisfied: flatbuffers>=2.0 in /usr/local/lib/python3.11/dist-packages (from mediapipe) (25.2.10)\r\n",
      "Requirement already satisfied: jax in /usr/local/lib/python3.11/dist-packages (from mediapipe) (0.5.2)\r\n",
      "Requirement already satisfied: jaxlib in /usr/local/lib/python3.11/dist-packages (from mediapipe) (0.5.1)\r\n",
      "Requirement already satisfied: matplotlib in /usr/local/lib/python3.11/dist-packages (from mediapipe) (3.7.2)\r\n",
      "Requirement already satisfied: numpy<2 in /usr/local/lib/python3.11/dist-packages (from mediapipe) (1.26.4)\r\n",
      "Requirement already satisfied: opencv-contrib-python in /usr/local/lib/python3.11/dist-packages (from mediapipe) (4.11.0.86)\r\n",
      "Collecting protobuf<5,>=4.25.3 (from mediapipe)\r\n",
      "  Downloading protobuf-4.25.8-cp37-abi3-manylinux2014_x86_64.whl.metadata (541 bytes)\r\n",
      "Collecting sounddevice>=0.4.4 (from mediapipe)\r\n",
      "  Downloading sounddevice-0.5.2-py3-none-any.whl.metadata (1.6 kB)\r\n",
      "Requirement already satisfied: sentencepiece in /usr/local/lib/python3.11/dist-packages (from mediapipe) (0.2.0)\r\n",
      "Requirement already satisfied: mkl_fft in /usr/local/lib/python3.11/dist-packages (from numpy<2->mediapipe) (1.3.8)\r\n",
      "Requirement already satisfied: mkl_random in /usr/local/lib/python3.11/dist-packages (from numpy<2->mediapipe) (1.2.4)\r\n",
      "Requirement already satisfied: mkl_umath in /usr/local/lib/python3.11/dist-packages (from numpy<2->mediapipe) (0.1.1)\r\n",
      "Requirement already satisfied: mkl in /usr/local/lib/python3.11/dist-packages (from numpy<2->mediapipe) (2025.1.0)\r\n",
      "Requirement already satisfied: tbb4py in /usr/local/lib/python3.11/dist-packages (from numpy<2->mediapipe) (2022.1.0)\r\n",
      "Requirement already satisfied: mkl-service in /usr/local/lib/python3.11/dist-packages (from numpy<2->mediapipe) (2.4.1)\r\n",
      "Requirement already satisfied: CFFI>=1.0 in /usr/local/lib/python3.11/dist-packages (from sounddevice>=0.4.4->mediapipe) (1.17.1)\r\n",
      "Requirement already satisfied: ml_dtypes>=0.4.0 in /usr/local/lib/python3.11/dist-packages (from jax->mediapipe) (0.4.1)\r\n",
      "Requirement already satisfied: opt_einsum in /usr/local/lib/python3.11/dist-packages (from jax->mediapipe) (3.4.0)\r\n",
      "Requirement already satisfied: scipy>=1.11.1 in /usr/local/lib/python3.11/dist-packages (from jax->mediapipe) (1.15.2)\r\n",
      "Requirement already satisfied: contourpy>=1.0.1 in /usr/local/lib/python3.11/dist-packages (from matplotlib->mediapipe) (1.3.1)\r\n",
      "Requirement already satisfied: cycler>=0.10 in /usr/local/lib/python3.11/dist-packages (from matplotlib->mediapipe) (0.12.1)\r\n",
      "Requirement already satisfied: fonttools>=4.22.0 in /usr/local/lib/python3.11/dist-packages (from matplotlib->mediapipe) (4.57.0)\r\n",
      "Requirement already satisfied: kiwisolver>=1.0.1 in /usr/local/lib/python3.11/dist-packages (from matplotlib->mediapipe) (1.4.8)\r\n",
      "Requirement already satisfied: packaging>=20.0 in /usr/local/lib/python3.11/dist-packages (from matplotlib->mediapipe) (25.0)\r\n",
      "Requirement already satisfied: pillow>=6.2.0 in /usr/local/lib/python3.11/dist-packages (from matplotlib->mediapipe) (11.1.0)\r\n",
      "Requirement already satisfied: pyparsing<3.1,>=2.3.1 in /usr/local/lib/python3.11/dist-packages (from matplotlib->mediapipe) (3.0.9)\r\n",
      "Requirement already satisfied: python-dateutil>=2.7 in /usr/local/lib/python3.11/dist-packages (from matplotlib->mediapipe) (2.9.0.post0)\r\n",
      "Requirement already satisfied: pycparser in /usr/local/lib/python3.11/dist-packages (from CFFI>=1.0->sounddevice>=0.4.4->mediapipe) (2.22)\r\n",
      "Requirement already satisfied: six>=1.5 in /usr/local/lib/python3.11/dist-packages (from python-dateutil>=2.7->matplotlib->mediapipe) (1.17.0)\r\n",
      "Requirement already satisfied: intel-openmp<2026,>=2024 in /usr/local/lib/python3.11/dist-packages (from mkl->numpy<2->mediapipe) (2024.2.0)\r\n",
      "Requirement already satisfied: tbb==2022.* in /usr/local/lib/python3.11/dist-packages (from mkl->numpy<2->mediapipe) (2022.1.0)\r\n",
      "Requirement already satisfied: tcmlib==1.* in /usr/local/lib/python3.11/dist-packages (from tbb==2022.*->mkl->numpy<2->mediapipe) (1.3.0)\r\n",
      "Requirement already satisfied: intel-cmplr-lib-rt in /usr/local/lib/python3.11/dist-packages (from mkl_umath->numpy<2->mediapipe) (2024.2.0)\r\n",
      "Requirement already satisfied: intel-cmplr-lib-ur==2024.2.0 in /usr/local/lib/python3.11/dist-packages (from intel-openmp<2026,>=2024->mkl->numpy<2->mediapipe) (2024.2.0)\r\n",
      "Downloading mediapipe-0.10.21-cp311-cp311-manylinux_2_28_x86_64.whl (35.6 MB)\r\n",
      "\u001b[2K   \u001b[90m━━━━━━━━━━━━━━━━━━━━━━━━━━━━━━━━━━━━━━━━\u001b[0m \u001b[32m35.6/35.6 MB\u001b[0m \u001b[31m50.2 MB/s\u001b[0m eta \u001b[36m0:00:00\u001b[0m\r\n",
      "\u001b[?25hDownloading protobuf-4.25.8-cp37-abi3-manylinux2014_x86_64.whl (294 kB)\r\n",
      "\u001b[2K   \u001b[90m━━━━━━━━━━━━━━━━━━━━━━━━━━━━━━━━━━━━━━━━\u001b[0m \u001b[32m294.9/294.9 kB\u001b[0m \u001b[31m12.5 MB/s\u001b[0m eta \u001b[36m0:00:00\u001b[0m\r\n",
      "\u001b[?25hDownloading sounddevice-0.5.2-py3-none-any.whl (32 kB)\r\n",
      "Installing collected packages: protobuf, sounddevice, mediapipe\r\n",
      "  Attempting uninstall: protobuf\r\n",
      "    Found existing installation: protobuf 3.20.3\r\n",
      "    Uninstalling protobuf-3.20.3:\r\n",
      "      Successfully uninstalled protobuf-3.20.3\r\n",
      "\u001b[31mERROR: pip's dependency resolver does not currently take into account all the packages that are installed. This behaviour is the source of the following dependency conflicts.\r\n",
      "google-api-core 1.34.1 requires protobuf!=3.20.0,!=3.20.1,!=4.21.0,!=4.21.1,!=4.21.2,!=4.21.3,!=4.21.4,!=4.21.5,<4.0.0dev,>=3.19.5, but you have protobuf 4.25.8 which is incompatible.\r\n",
      "bigframes 1.42.0 requires rich<14,>=12.4.4, but you have rich 14.0.0 which is incompatible.\r\n",
      "google-spark-connect 0.5.2 requires google-api-core>=2.19.1, but you have google-api-core 1.34.1 which is incompatible.\r\n",
      "google-cloud-bigtable 2.30.0 requires google-api-core[grpc]<3.0.0,>=2.16.0, but you have google-api-core 1.34.1 which is incompatible.\r\n",
      "google-cloud-storage 2.19.0 requires google-api-core<3.0.0dev,>=2.15.0, but you have google-api-core 1.34.1 which is incompatible.\r\n",
      "pandas-gbq 0.28.0 requires google-api-core<3.0.0dev,>=2.10.2, but you have google-api-core 1.34.1 which is incompatible.\u001b[0m\u001b[31m\r\n",
      "\u001b[0mSuccessfully installed mediapipe-0.10.21 protobuf-4.25.8 sounddevice-0.5.2\r\n",
      "Note: you may need to restart the kernel to use updated packages.\n"
     ]
    }
   ],
   "source": [
    "pip install mediapipe"
   ]
  },
  {
   "cell_type": "code",
   "execution_count": 2,
   "id": "8dc8f6bf",
   "metadata": {
    "_cell_guid": "b1076dfc-b9ad-4769-8c92-a6c4dae69d19",
    "_uuid": "8f2839f25d086af736a60e9eeb907d3b93b6e0e5",
    "execution": {
     "iopub.execute_input": "2025-07-06T08:14:43.323556Z",
     "iopub.status.busy": "2025-07-06T08:14:43.323258Z",
     "iopub.status.idle": "2025-07-06T08:14:59.152216Z",
     "shell.execute_reply": "2025-07-06T08:14:59.151594Z"
    },
    "papermill": {
     "duration": 15.843374,
     "end_time": "2025-07-06T08:14:59.153656",
     "exception": false,
     "start_time": "2025-07-06T08:14:43.310282",
     "status": "completed"
    },
    "tags": []
   },
   "outputs": [
    {
     "name": "stderr",
     "output_type": "stream",
     "text": [
      "2025-07-06 08:14:45.148645: E external/local_xla/xla/stream_executor/cuda/cuda_fft.cc:477] Unable to register cuFFT factory: Attempting to register factory for plugin cuFFT when one has already been registered\n",
      "WARNING: All log messages before absl::InitializeLog() is called are written to STDERR\n",
      "E0000 00:00:1751789685.364480      19 cuda_dnn.cc:8310] Unable to register cuDNN factory: Attempting to register factory for plugin cuDNN when one has already been registered\n",
      "E0000 00:00:1751789685.428521      19 cuda_blas.cc:1418] Unable to register cuBLAS factory: Attempting to register factory for plugin cuBLAS when one has already been registered\n"
     ]
    }
   ],
   "source": [
    "# install librarires\n",
    "import os\n",
    "import tensorflow as tf\n",
    "import numpy as np\n",
    "import random"
   ]
  },
  {
   "cell_type": "markdown",
   "id": "cb66df6e",
   "metadata": {
    "papermill": {
     "duration": 0.011917,
     "end_time": "2025-07-06T08:14:59.178340",
     "exception": false,
     "start_time": "2025-07-06T08:14:59.166423",
     "status": "completed"
    },
    "tags": []
   },
   "source": [
    "## ℹ️ Set Global Constants"
   ]
  },
  {
   "cell_type": "code",
   "execution_count": 3,
   "id": "f1f361df",
   "metadata": {
    "execution": {
     "iopub.execute_input": "2025-07-06T08:14:59.203405Z",
     "iopub.status.busy": "2025-07-06T08:14:59.202526Z",
     "iopub.status.idle": "2025-07-06T08:14:59.217122Z",
     "shell.execute_reply": "2025-07-06T08:14:59.216436Z"
    },
    "papermill": {
     "duration": 0.02815,
     "end_time": "2025-07-06T08:14:59.218277",
     "exception": false,
     "start_time": "2025-07-06T08:14:59.190127",
     "status": "completed"
    },
    "tags": []
   },
   "outputs": [
    {
     "name": "stdout",
     "output_type": "stream",
     "text": [
      "Precis Har Rgb\n",
      "There are total 16 classes, selected 16 classes\n",
      "Setting 50/class to train the model.\n",
      "Image size 128x128 with 5 sequence length\n",
      "Dropout rate: 0.5\n",
      "Train-Test split ratio 80/20\n",
      "Validation data from Train set 20.0%\n"
     ]
    }
   ],
   "source": [
    "# global variables\n",
    "# set dataset directories\n",
    "\n",
    "\n",
    "DATASET_DIR = \"/kaggle/input/precis-har-rgb\"\n",
    "DATASET_NAME = DATASET_DIR.split(\"/\")[-1].replace(\"-\", \" \").title()\n",
    "\n",
    "print(DATASET_NAME)\n",
    "\n",
    "ALL_CLASS_NAMES = os.listdir(DATASET_DIR)\n",
    "\n",
    "# Global constant variables -> \n",
    "NO_OF_CLASSES = 16\n",
    "CLASSES_LIST = ALL_CLASS_NAMES[:NO_OF_CLASSES]\n",
    "\n",
    "# Model Configuration\n",
    "IMAGE_HEIGHT, IMAGE_WIDTH = 128, 128\n",
    "SEQUENCE_LENGTH = 5\n",
    "\n",
    "# set drop out rate\n",
    "DROPOUT_RATE = 0.5\n",
    "\n",
    "# set datas\n",
    "MAX_VIDEO_PER_CLASS = 50\n",
    "\n",
    "# split dataset\n",
    "TEST_SIZE = 0.20\n",
    "\n",
    "# model fit parameters\n",
    "EPOCHS = 30\n",
    "BATCH_SIZE = 16\n",
    "VALIDATION_SPLIT = 0.20\n",
    "\n",
    "# augmentation values\n",
    "NOISE_FACTOR = 0.02\n",
    "SHEAR_X= 1\n",
    "SHEAR_Y= 1\n",
    "\n",
    "# give a name of the model to save\n",
    "MODEL_NAME = \"Xception\"\n",
    "\n",
    "print(f\"There are total {len(ALL_CLASS_NAMES)} classes, selected {NO_OF_CLASSES} classes\")\n",
    "print(f\"Setting {MAX_VIDEO_PER_CLASS}/class to train the model.\")\n",
    "print(f\"Image size {IMAGE_HEIGHT}x{IMAGE_WIDTH} with {SEQUENCE_LENGTH} sequence length\")\n",
    "print(f\"Dropout rate: {DROPOUT_RATE}\")\n",
    "print(f\"Train-Test split ratio {int((1-TEST_SIZE)*100)}/{int(TEST_SIZE*100)}\")\n",
    "print(f\"Validation data from Train set {VALIDATION_SPLIT*100}%\")"
   ]
  },
  {
   "cell_type": "markdown",
   "id": "bd76fba8",
   "metadata": {
    "papermill": {
     "duration": 0.011519,
     "end_time": "2025-07-06T08:14:59.241581",
     "exception": false,
     "start_time": "2025-07-06T08:14:59.230062",
     "status": "completed"
    },
    "tags": []
   },
   "source": [
    "## Set `Seed` Values"
   ]
  },
  {
   "cell_type": "code",
   "execution_count": 4,
   "id": "95ebea5b",
   "metadata": {
    "execution": {
     "iopub.execute_input": "2025-07-06T08:14:59.266158Z",
     "iopub.status.busy": "2025-07-06T08:14:59.265918Z",
     "iopub.status.idle": "2025-07-06T08:14:59.270227Z",
     "shell.execute_reply": "2025-07-06T08:14:59.269694Z"
    },
    "papermill": {
     "duration": 0.018093,
     "end_time": "2025-07-06T08:14:59.271244",
     "exception": false,
     "start_time": "2025-07-06T08:14:59.253151",
     "status": "completed"
    },
    "tags": []
   },
   "outputs": [],
   "source": [
    "# set seeed to get similar values\n",
    "seed_constant = 27\n",
    "np.random.seed(seed_constant)\n",
    "random.seed(seed_constant)\n",
    "tf.random.set_seed(seed_constant)"
   ]
  },
  {
   "cell_type": "markdown",
   "id": "51bb1f8e",
   "metadata": {
    "papermill": {
     "duration": 0.01119,
     "end_time": "2025-07-06T08:14:59.295251",
     "exception": false,
     "start_time": "2025-07-06T08:14:59.284061",
     "status": "completed"
    },
    "tags": []
   },
   "source": [
    "# 📌 Function Definition\n",
    "## Resize and Frame Extraction"
   ]
  },
  {
   "cell_type": "code",
   "execution_count": 5,
   "id": "6c22f1ae",
   "metadata": {
    "execution": {
     "iopub.execute_input": "2025-07-06T08:14:59.364798Z",
     "iopub.status.busy": "2025-07-06T08:14:59.364518Z",
     "iopub.status.idle": "2025-07-06T08:14:59.375063Z",
     "shell.execute_reply": "2025-07-06T08:14:59.374458Z"
    },
    "papermill": {
     "duration": 0.024195,
     "end_time": "2025-07-06T08:14:59.376132",
     "exception": false,
     "start_time": "2025-07-06T08:14:59.351937",
     "status": "completed"
    },
    "tags": []
   },
   "outputs": [],
   "source": [
    "import cv2\n",
    "from concurrent.futures import ThreadPoolExecutor\n",
    "\n",
    "def resize_and_normalize_frame(frame, image_height, image_width):\n",
    "    try:\n",
    "        resized_frame = cv2.resize(frame, (image_width, image_height), interpolation=cv2.INTER_LINEAR)\n",
    "        normalized_frame = resized_frame / 255.0\n",
    "        return normalized_frame\n",
    "    except Exception as e:\n",
    "        print(f\"Error processing frame: {e}\")\n",
    "        return None\n",
    "\n",
    "def frames_extraction(video_path, \n",
    "                      sequence_length=SEQUENCE_LENGTH, \n",
    "                      image_height=IMAGE_HEIGHT, \n",
    "                      image_width=IMAGE_WIDTH):\n",
    "    # Declare a list to store video frames\n",
    "    frames_list = []\n",
    "\n",
    "    # Check if video file exists\n",
    "    if not os.path.exists(video_path):\n",
    "        print(f\"Error: Video file not found at {video_path}\")\n",
    "        return None\n",
    "\n",
    "    # Read the video file using VideoCapture with optimized settings\n",
    "    video_reader = cv2.VideoCapture(video_path, cv2.CAP_FFMPEG)\n",
    "\n",
    "    # Check if the video was opened successfully\n",
    "    if not video_reader.isOpened():\n",
    "        print(f\"Error: Could not open video file {video_path}\")\n",
    "        video_reader.release()\n",
    "        return None\n",
    "\n",
    "    # Get the total number of frames in the video\n",
    "    video_frames_count = int(video_reader.get(cv2.CAP_PROP_FRAME_COUNT))\n",
    "\n",
    "    # Ensure the video has enough frames\n",
    "    if video_frames_count < sequence_length:\n",
    "        print(f\"Warning: Video {video_path} has only {video_frames_count} frames, less than required {sequence_length}\")\n",
    "        video_reader.release()\n",
    "        return None\n",
    "\n",
    "    # Calculate the interval after which frames will be sampled\n",
    "    skip_frames_window = max(int(video_frames_count / sequence_length), 1)\n",
    "\n",
    "    # Pre-allocate frame indices to extract\n",
    "    frame_indices = [i * skip_frames_window for i in range(sequence_length)]\n",
    "\n",
    "    # Read and process frames in parallel\n",
    "    frames = []\n",
    "    for idx in frame_indices:\n",
    "        video_reader.set(cv2.CAP_PROP_POS_FRAMES, idx)\n",
    "        success, frame = video_reader.read()\n",
    "        if not success or frame is None:\n",
    "            print(f\"Warning: Failed to read frame at index {idx} from {video_path}\")\n",
    "            break\n",
    "        frame = cv2.cvtColor(frame, cv2.COLOR_BGR2RGB)\n",
    "        frames.append(frame)\n",
    "\n",
    "    # Release the VideoCapture object early\n",
    "    video_reader.release()\n",
    "\n",
    "    # Ensure the correct number of frames is read\n",
    "    if len(frames) != sequence_length:\n",
    "        print(f\"Warning: Read {len(frames)} frames instead of {sequence_length} from {video_path}\")\n",
    "        return None\n",
    "\n",
    "    # Process frames in parallel using ThreadPoolExecutor\n",
    "    with ThreadPoolExecutor() as executor:\n",
    "        processed_frames = list(executor.map(\n",
    "            lambda f: resize_and_normalize_frame(f, image_height, image_width), \n",
    "            frames\n",
    "        ))\n",
    "\n",
    "    # Check for any failed frame processing\n",
    "    if any(f is None for f in processed_frames):\n",
    "        print(f\"Warning: Some frames failed to process in {video_path}\")\n",
    "        return None\n",
    "\n",
    "    # Convert to NumPy array\n",
    "    frames_array = np.array(processed_frames, dtype=np.float32)\n",
    "\n",
    "    return frames_array"
   ]
  },
  {
   "cell_type": "code",
   "execution_count": 6,
   "id": "5489516e",
   "metadata": {
    "execution": {
     "iopub.execute_input": "2025-07-06T08:14:59.400815Z",
     "iopub.status.busy": "2025-07-06T08:14:59.400592Z",
     "iopub.status.idle": "2025-07-06T08:14:59.403738Z",
     "shell.execute_reply": "2025-07-06T08:14:59.403210Z"
    },
    "papermill": {
     "duration": 0.016663,
     "end_time": "2025-07-06T08:14:59.404755",
     "exception": false,
     "start_time": "2025-07-06T08:14:59.388092",
     "status": "completed"
    },
    "tags": []
   },
   "outputs": [],
   "source": [
    " # # Iterate through all video files\n",
    " #        for file_name in files_list:\n",
    " #            video_file_path = os.path.join(class_path, file_name)\n",
    "\n",
    " #            # Extract frames using the updated frames_extraction function\n",
    " #            frames = frames_extraction(video_file_path, sequence_length, image_height, image_width)\n",
    "\n",
    " #            # Skip videos where frame extraction failed\n",
    " #            if frames is None:\n",
    " #                print(f\"Skipping video {video_file_path} due to frame extraction failure\")\n",
    " #                continue\n",
    "\n",
    " #            # Append the data to respective lists\n",
    " #            features.append(frames)\n",
    " #            labels.append(class_index)"
   ]
  },
  {
   "cell_type": "markdown",
   "id": "88e95750",
   "metadata": {
    "papermill": {
     "duration": 0.011751,
     "end_time": "2025-07-06T08:14:59.428303",
     "exception": false,
     "start_time": "2025-07-06T08:14:59.416552",
     "status": "completed"
    },
    "tags": []
   },
   "source": [
    "## Create Dataset"
   ]
  },
  {
   "cell_type": "code",
   "execution_count": 7,
   "id": "38dce87a",
   "metadata": {
    "execution": {
     "iopub.execute_input": "2025-07-06T08:14:59.452717Z",
     "iopub.status.busy": "2025-07-06T08:14:59.452470Z",
     "iopub.status.idle": "2025-07-06T08:14:59.459910Z",
     "shell.execute_reply": "2025-07-06T08:14:59.459204Z"
    },
    "papermill": {
     "duration": 0.021121,
     "end_time": "2025-07-06T08:14:59.461045",
     "exception": false,
     "start_time": "2025-07-06T08:14:59.439924",
     "status": "completed"
    },
    "tags": []
   },
   "outputs": [],
   "source": [
    "# RUN create dataset function definition\n",
    "def create_dataset(dataset_dir,\n",
    "                   classes_list, \n",
    "                   sequence_length=SEQUENCE_LENGTH, \n",
    "                   image_height=IMAGE_HEIGHT, \n",
    "                   image_width=IMAGE_WIDTH, \n",
    "                   max_videos_per_class=None,\n",
    "                   augmentations=False\n",
    "                  ):\n",
    "    \n",
    "    # Initialize lists to store features, labels, and video file paths\n",
    "    videos = []\n",
    "    labels = []\n",
    "\n",
    "    # Check if dataset directory exists\n",
    "    if not os.path.exists(dataset_dir):\n",
    "        raise FileNotFoundError(f\"Dataset directory not found: {dataset_dir}\")\n",
    "\n",
    "    # Iterate through all classes in the classes list\n",
    "    for class_index, class_name in enumerate(classes_list):\n",
    "        class_path = os.path.join(dataset_dir, class_name)\n",
    "        \n",
    "        # Check if class directory exists\n",
    "        if not os.path.exists(class_path):\n",
    "            print(f\"Warning: Class directory not found: {class_path}\")\n",
    "            continue\n",
    "\n",
    "        print(f'Class: {class_name}')\n",
    "\n",
    "        # Get the list of video files in the class directory\n",
    "        files_list = os.listdir(class_path)\n",
    "\n",
    "        # Limit the number of videos if specified\n",
    "        if max_videos_per_class is not None:\n",
    "            files_list = files_list[:max_videos_per_class]\n",
    "\n",
    "        # Iterate through all video files\n",
    "        for (index, file_name) in enumerate(files_list):\n",
    "            video_file_path = os.path.join(class_path, file_name)\n",
    "\n",
    "            if index == (len(files_list)-1):\n",
    "                print(f'Extracting frames from file {index+1}: {file_name}', flush=True)\n",
    "            else:\n",
    "                print(f'Extracting frames from file {index+1}: {file_name}', end=\"\\r\", flush=True)\n",
    "            \n",
    "            # Extract frames using the updated frames_extraction function\n",
    "            frames = frames_extraction(video_file_path, \n",
    "                                       sequence_length, \n",
    "                                       image_height, \n",
    "                                       image_width)\n",
    "\n",
    "            # Skip videos where frame extraction failed\n",
    "            if frames is None:\n",
    "                print(f\"Skipping video {video_file_path} due to frame extraction failure\")\n",
    "                continue\n",
    "\n",
    "            # Append the data to respective lists\n",
    "            videos.append(frames)\n",
    "            labels.append(class_index)\n",
    "\n",
    "    # Convert lists to numpy arrays\n",
    "    if not videos:\n",
    "        raise ValueError(\"No valid videos were processed. Check dataset or parameters.\")\n",
    "    videos = np.asarray(videos)\n",
    "    labels = np.array(labels)\n",
    "\n",
    "    print(f\"Dataset created with {len(videos)} videos\")\n",
    "    print(f\"Features shape: {videos.shape}\")\n",
    "    print(f\"Labels shape: {labels.shape}\")\n",
    "\n",
    "    return videos, labels"
   ]
  },
  {
   "cell_type": "markdown",
   "id": "ff2c786e",
   "metadata": {
    "papermill": {
     "duration": 0.011624,
     "end_time": "2025-07-06T08:14:59.484695",
     "exception": false,
     "start_time": "2025-07-06T08:14:59.473071",
     "status": "completed"
    },
    "tags": []
   },
   "source": [
    "## 🪄 Video Data Generator"
   ]
  },
  {
   "cell_type": "code",
   "execution_count": 8,
   "id": "e111e798",
   "metadata": {
    "execution": {
     "iopub.execute_input": "2025-07-06T08:14:59.509121Z",
     "iopub.status.busy": "2025-07-06T08:14:59.508908Z",
     "iopub.status.idle": "2025-07-06T08:14:59.575875Z",
     "shell.execute_reply": "2025-07-06T08:14:59.575353Z"
    },
    "papermill": {
     "duration": 0.080742,
     "end_time": "2025-07-06T08:14:59.576984",
     "exception": false,
     "start_time": "2025-07-06T08:14:59.496242",
     "status": "completed"
    },
    "tags": []
   },
   "outputs": [],
   "source": [
    "from tensorflow.keras.utils import Sequence, to_categorical\n",
    "import tensorflow as tf\n",
    "import numpy as np\n",
    "import cv2\n",
    "\n",
    "\n",
    "\n",
    "\n",
    "class VideoDataGenerator(Sequence):\n",
    "    def __init__(self, videos, labels, batch_size, is_training=False):\n",
    "        self.videos = list(videos)  # List of video file paths\n",
    "        self.labels = list(labels)  # List or array of labels encoded\n",
    "        self.batch_size = batch_size\n",
    "        self.indices = np.arange(len(self.videos))  # For shuffling\n",
    "        self.is_training = is_training  # Flag to control whether augmentation is applied\n",
    "        self.temp_videos=[]\n",
    "        self.temp_labels=[]\n",
    "        \n",
    "        \n",
    "        print(f\"Total {len(videos)} videos and {len(labels)} classes\")\n",
    "\n",
    "    def __len__(self):\n",
    "        # Return the number of batches per epoch\n",
    "        return int(np.ceil(len(self.videos) / self.batch_size))\n",
    "\n",
    "    def __getitem__(self, idx):\n",
    "        # Get batch indices\n",
    "        batch_indices = self.indices[idx * self.batch_size:(idx + 1) * self.batch_size]\n",
    "        \n",
    "        # Handle case where batch_indices is empty\n",
    "        if len(batch_indices) == 0:\n",
    "            return np.array([], dtype=np.float32), np.array([], dtype=np.float32)\n",
    "        \n",
    "        # Initialize lists to store frames and labels\n",
    "        all_frames = []\n",
    "        all_labels = []\n",
    "        \n",
    "        # Process each video in the batch\n",
    "        for i, index in enumerate(batch_indices):\n",
    "            sequence = self.videos[index]\n",
    "            label = self.labels[index]\n",
    "            \n",
    "            # Append the sequence and label\n",
    "            all_frames.append(sequence)\n",
    "            all_labels.append(label)\n",
    "        \n",
    "        # Convert to numpy arrays\n",
    "        all_frames = np.array(all_frames, dtype=np.float32)\n",
    "        all_labels = np.array(all_labels)\n",
    "            \n",
    "        \n",
    "        return all_frames, all_labels\n",
    "    def add(self, new_videos, new_labels):\n",
    "        self.temp_videos.extend(new_videos)\n",
    "        self.temp_labels.extend(new_labels)\n",
    "    \n",
    "    def confirm(self):\n",
    "        self.videos.extend(self.temp_videos)\n",
    "        self.labels.extend(self.temp_labels)\n",
    "        print(f\"Successfully added - {len(self.temp_videos)} videos and {len(self.temp_labels)} classes.\")\n",
    "        self.temp_videos=[]\n",
    "        self.temp_labels=[]\n",
    "        self.indices = np.arange(len(self.videos))\n",
    "        print(f\"Now Total - {len(self.videos)} videos and {len(self.labels)} classes.\")\n",
    "        print(f\"PENDING for Augmentations - {len(self.temp_videos)} videos and {len(self.temp_labels)} classes.\")\n",
    "        \n",
    "    def replace_original(self):\n",
    "        self.videos=self.temp_videos\n",
    "        self.labels=self.temp_labels\n",
    "        self.temp_videos=[]\n",
    "        self.temp_labels=[]\n",
    "        print(f\"Successfully replaced, total original videos - {len(self.videos)} and augmented videos {len(self.temp_videos)}\")\n",
    "        \n",
    "    def on_epoch_end(self):\n",
    "        # Shuffle indices at the end of each epoch\n",
    "        np.random.shuffle(self.indices)\n",
    "\n",
    "    def as_dataset(self):\n",
    "        def generator():\n",
    "            for idx in range(len(self)):\n",
    "                frames, labels = self[idx]\n",
    "                # Skip empty batches\n",
    "                if frames.size == 0:\n",
    "                    continue\n",
    "                yield frames, labels\n",
    "        self.labels=np.array(self.labels)\n",
    "    \n",
    "        # Create a tf.data.Dataset\n",
    "        dataset = tf.data.Dataset.from_generator(\n",
    "            generator,\n",
    "            output_types=(tf.float32, tf.float32),\n",
    "            output_shapes=(\n",
    "                (None, SEQUENCE_LENGTH, IMAGE_HEIGHT, IMAGE_WIDTH, 3),\n",
    "                (None, NO_OF_CLASSES)\n",
    "            )\n",
    "        )\n",
    "        dataset = dataset.prefetch(tf.data.AUTOTUNE)\n",
    "        return dataset"
   ]
  },
  {
   "cell_type": "markdown",
   "id": "93584f8a",
   "metadata": {
    "papermill": {
     "duration": 0.011363,
     "end_time": "2025-07-06T08:14:59.600443",
     "exception": false,
     "start_time": "2025-07-06T08:14:59.589080",
     "status": "completed"
    },
    "tags": []
   },
   "source": [
    "## 🔥 Segmentation using N-Frames Ensemble"
   ]
  },
  {
   "cell_type": "code",
   "execution_count": 9,
   "id": "6c1df7cc",
   "metadata": {
    "execution": {
     "iopub.execute_input": "2025-07-06T08:14:59.624994Z",
     "iopub.status.busy": "2025-07-06T08:14:59.624676Z",
     "iopub.status.idle": "2025-07-06T08:14:59.890411Z",
     "shell.execute_reply": "2025-07-06T08:14:59.889456Z"
    },
    "papermill": {
     "duration": 0.280359,
     "end_time": "2025-07-06T08:14:59.892489",
     "exception": false,
     "start_time": "2025-07-06T08:14:59.612130",
     "status": "completed"
    },
    "tags": []
   },
   "outputs": [
    {
     "name": "stdout",
     "output_type": "stream",
     "text": [
      "MediaPipe initialized successfully\n"
     ]
    },
    {
     "name": "stderr",
     "output_type": "stream",
     "text": [
      "INFO: Created TensorFlow Lite XNNPACK delegate for CPU.\n"
     ]
    }
   ],
   "source": [
    "import cv2\n",
    "import numpy as np\n",
    "from collections import deque\n",
    "import mediapipe as mp\n",
    "\n",
    "# Parameters\n",
    "N_FRAMES = 5  # Number of frames for ensemble\n",
    "THRESHOLD = 0.2  # Segmentation confidence threshold\n",
    "\n",
    "def initialize_segmentor():\n",
    "    \"\"\"Initialize MediaPipe Selfie Segmentation with error handling.\"\"\"\n",
    "    try:\n",
    "        mp_selfie_segmentation = mp.solutions.selfie_segmentation\n",
    "        segmentor = mp_selfie_segmentation.SelfieSegmentation(model_selection=1)  # 1 for general model\n",
    "        print(\"MediaPipe initialized successfully\")\n",
    "        return segmentor\n",
    "    except Exception as e:\n",
    "        print(f\"Failed to initialize MediaPipe: {e}\")\n",
    "        return None\n",
    "\n",
    "# Initialize segmentor\n",
    "segmentor = initialize_segmentor()\n",
    "\n",
    "\n",
    "def segmentation_frames(sequence):\n",
    "    \"\"\"Process a sequence of frames with N-frame ensemble segmentation.\"\"\"\n",
    "    # Input sequence: (sequence_length, height, width, 3), values in [0, 1]\n",
    "    sequence_length, height, width, _ = sequence.shape\n",
    "    segmented_sequence = np.zeros_like(sequence, dtype=np.float32)\n",
    "    \n",
    "    if segmentor is None:\n",
    "        print(\"Returning original sequence due to initialization failure\")\n",
    "        return sequence  # Fallback to original sequence\n",
    "    # Queue to store segmentation masks\n",
    "    mask_queue = deque(maxlen=N_FRAMES)\n",
    "    \n",
    "    # Kernel for morphological operations\n",
    "    kernel = cv2.getStructuringElement(cv2.MORPH_ELLIPSE, (5, 5))\n",
    "    \n",
    "    for t in range(sequence_length):\n",
    "        try:\n",
    "            # Convert frame to uint8 for MediaPipe\n",
    "            frame = (sequence[t] * 255).astype(np.uint8)\n",
    "            \n",
    "            # Process frame with MediaPipe\n",
    "            results = segmentor.process(frame)\n",
    "            if results.segmentation_mask is None:\n",
    "                print(f\"Warning: No mask returned for frame {t}\")\n",
    "                mask = np.zeros((height, width), dtype=np.float32)\n",
    "            else:\n",
    "                mask = results.segmentation_mask  # Shape: (height, width), values in [0, 1]\n",
    "            \n",
    "            # Add mask to queue\n",
    "            mask_queue.append(mask)\n",
    "            \n",
    "            # Compute ensemble mask by averaging (if enough frames)\n",
    "            ensemble_mask = np.mean(np.array(mask_queue), axis=0) if len(mask_queue) > 1 else mask\n",
    "            \n",
    "            # Binarize the ensemble mask\n",
    "            binary_mask = (ensemble_mask > THRESHOLD).astype(np.uint8)\n",
    "            \n",
    "            # Refine the mask using morphological operations\n",
    "            binary_mask = cv2.morphologyEx(binary_mask, cv2.MORPH_CLOSE, kernel)\n",
    "            binary_mask = cv2.morphologyEx(binary_mask, cv2.MORPH_OPEN, kernel)\n",
    "            \n",
    "            # Convert binary mask to 3 channels\n",
    "            mask_3ch = np.stack([binary_mask] * 3, axis=-1)  # Shape: (height, width, 3)\n",
    "            \n",
    "            # Apply mask to isolate human subject (set background to black)\n",
    "            segmented_frame = frame * mask_3ch\n",
    "            \n",
    "            # Normalize back to [0, 1]\n",
    "            segmented_sequence[t] = segmented_frame / 255.0\n",
    "        \n",
    "        except Exception as e:\n",
    "            print(f\"Error processing frame {t}: {e}\")\n",
    "            segmented_sequence[t] = sequence[t]  # Fallback to original frame\n",
    "    \n",
    "    return segmented_sequence"
   ]
  },
  {
   "cell_type": "markdown",
   "id": "e7774231",
   "metadata": {
    "papermill": {
     "duration": 0.012974,
     "end_time": "2025-07-06T08:14:59.923850",
     "exception": false,
     "start_time": "2025-07-06T08:14:59.910876",
     "status": "completed"
    },
    "tags": []
   },
   "source": [
    "## 💫 Augmentation Helper function"
   ]
  },
  {
   "cell_type": "code",
   "execution_count": 10,
   "id": "ace009a7",
   "metadata": {
    "execution": {
     "iopub.execute_input": "2025-07-06T08:14:59.951339Z",
     "iopub.status.busy": "2025-07-06T08:14:59.951089Z",
     "iopub.status.idle": "2025-07-06T08:14:59.956480Z",
     "shell.execute_reply": "2025-07-06T08:14:59.955751Z"
    },
    "papermill": {
     "duration": 0.020471,
     "end_time": "2025-07-06T08:14:59.957476",
     "exception": false,
     "start_time": "2025-07-06T08:14:59.937005",
     "status": "completed"
    },
    "tags": []
   },
   "outputs": [
    {
     "name": "stderr",
     "output_type": "stream",
     "text": [
      "WARNING: All log messages before absl::InitializeLog() is called are written to STDERR\n",
      "W0000 00:00:1751789699.899172      70 inference_feedback_manager.cc:114] Feedback manager requires a model with a single signature inference. Disabling support for feedback tensors.\n"
     ]
    }
   ],
   "source": [
    "def apply_augmentation(augmentation_function, generator, confirm=False, *args, **kwargs):\n",
    "    count=0\n",
    "    for i in range(len(generator)):\n",
    "        batch_videos, batch_labels = generator[i]\n",
    "        augmented_videos=[]\n",
    "        for videos in batch_videos:\n",
    "            count=count+1\n",
    "            augmented_videos.append(augmentation_function(videos, *args, **kwargs))\n",
    "            print(f\"Adding {count} new videos...\", end=\"\\r\", flush=True)\n",
    "        generator.add(augmented_videos, batch_labels)\n",
    "    \n",
    "    print(f\"Total {len(generator.temp_videos)} augmented videos generated\")\n",
    "    if confirm:\n",
    "        generator.confirm()\n",
    "    else:\n",
    "        print(\"Ready to be merged with original videos...\")"
   ]
  },
  {
   "cell_type": "markdown",
   "id": "864da2ec",
   "metadata": {
    "papermill": {
     "duration": 0.011957,
     "end_time": "2025-07-06T08:14:59.981479",
     "exception": false,
     "start_time": "2025-07-06T08:14:59.969522",
     "status": "completed"
    },
    "tags": []
   },
   "source": [
    "### Show Frames"
   ]
  },
  {
   "cell_type": "code",
   "execution_count": 11,
   "id": "d299c466",
   "metadata": {
    "execution": {
     "iopub.execute_input": "2025-07-06T08:15:00.006179Z",
     "iopub.status.busy": "2025-07-06T08:15:00.005967Z",
     "iopub.status.idle": "2025-07-06T08:15:00.009741Z",
     "shell.execute_reply": "2025-07-06T08:15:00.009019Z"
    },
    "papermill": {
     "duration": 0.017499,
     "end_time": "2025-07-06T08:15:00.010891",
     "exception": false,
     "start_time": "2025-07-06T08:14:59.993392",
     "status": "completed"
    },
    "tags": []
   },
   "outputs": [],
   "source": [
    "# show frame def\n",
    "import matplotlib.pyplot as plt\n",
    "\n",
    "def show_frame(frame):\n",
    "    plt.figure(figsize=(3,3))\n",
    "    plt.imshow(frame)\n",
    "    plt.axis(\"off\")\n",
    "    plt.tight_layout()"
   ]
  },
  {
   "cell_type": "markdown",
   "id": "c98eff23",
   "metadata": {
    "papermill": {
     "duration": 0.011623,
     "end_time": "2025-07-06T08:15:00.034398",
     "exception": false,
     "start_time": "2025-07-06T08:15:00.022775",
     "status": "completed"
    },
    "tags": []
   },
   "source": [
    "### Helper Function"
   ]
  },
  {
   "cell_type": "code",
   "execution_count": 12,
   "id": "504b7e21",
   "metadata": {
    "execution": {
     "iopub.execute_input": "2025-07-06T08:15:00.059038Z",
     "iopub.status.busy": "2025-07-06T08:15:00.058463Z",
     "iopub.status.idle": "2025-07-06T08:15:00.062978Z",
     "shell.execute_reply": "2025-07-06T08:15:00.062243Z"
    },
    "papermill": {
     "duration": 0.018158,
     "end_time": "2025-07-06T08:15:00.064057",
     "exception": false,
     "start_time": "2025-07-06T08:15:00.045899",
     "status": "completed"
    },
    "tags": []
   },
   "outputs": [],
   "source": [
    "def show_frame_vs(frame1, frame2, title1=\"Frame 1\", title2=\"Frame 2\"):\n",
    "    plt.figure(figsize=(10, 5))\n",
    "\n",
    "    # First frame\n",
    "    plt.subplot(1, 2, 1)\n",
    "    plt.imshow(frame1)\n",
    "    plt.title(title1)\n",
    "    plt.axis('off')\n",
    "\n",
    "    # Second frame\n",
    "    plt.subplot(1, 2, 2)\n",
    "    plt.imshow(frame2)\n",
    "    plt.title(title2)\n",
    "    plt.axis('off')\n",
    "\n",
    "    plt.tight_layout()\n",
    "    plt.show()"
   ]
  },
  {
   "cell_type": "code",
   "execution_count": 13,
   "id": "fdd217c5",
   "metadata": {
    "execution": {
     "iopub.execute_input": "2025-07-06T08:15:00.089099Z",
     "iopub.status.busy": "2025-07-06T08:15:00.088874Z",
     "iopub.status.idle": "2025-07-06T08:15:00.092579Z",
     "shell.execute_reply": "2025-07-06T08:15:00.091872Z"
    },
    "papermill": {
     "duration": 0.017248,
     "end_time": "2025-07-06T08:15:00.093653",
     "exception": false,
     "start_time": "2025-07-06T08:15:00.076405",
     "status": "completed"
    },
    "tags": []
   },
   "outputs": [],
   "source": [
    "# reusable video loop helper function\n",
    "def apply_function(function, videos, *arg, **kwargs):\n",
    "    new_videos=[]\n",
    "    \n",
    "    for video in videos:\n",
    "        new_videos.append(function(video, *arg, **kwargs))\n",
    "        \n",
    "    return new_videos"
   ]
  },
  {
   "cell_type": "code",
   "execution_count": 14,
   "id": "82ec104a",
   "metadata": {
    "execution": {
     "iopub.execute_input": "2025-07-06T08:15:00.118584Z",
     "iopub.status.busy": "2025-07-06T08:15:00.118377Z",
     "iopub.status.idle": "2025-07-06T08:15:00.122451Z",
     "shell.execute_reply": "2025-07-06T08:15:00.121781Z"
    },
    "papermill": {
     "duration": 0.01779,
     "end_time": "2025-07-06T08:15:00.123550",
     "exception": false,
     "start_time": "2025-07-06T08:15:00.105760",
     "status": "completed"
    },
    "tags": []
   },
   "outputs": [],
   "source": [
    "# reusable video loop helper function\n",
    "def apply(function, videos, labels, *arg, **kwargs):\n",
    "    new_videos=[]\n",
    "    new_labels=[]\n",
    "    combined=zip(labels, videos)\n",
    "    \n",
    "    for label, video in combined:\n",
    "        new_videos.append(function(video, *arg, **kwargs))\n",
    "        new_labels.append(label)\n",
    "        \n",
    "    new_videos=np.asarray(new_videos)\n",
    "    new_labels=np.asarray(new_labels)\n",
    "    \n",
    "    return new_videos, new_labels"
   ]
  },
  {
   "cell_type": "markdown",
   "id": "969fab3a",
   "metadata": {
    "papermill": {
     "duration": 0.011526,
     "end_time": "2025-07-06T08:15:00.147241",
     "exception": false,
     "start_time": "2025-07-06T08:15:00.135715",
     "status": "completed"
    },
    "tags": []
   },
   "source": [
    "## Salt and Pepper Noise "
   ]
  },
  {
   "cell_type": "code",
   "execution_count": 15,
   "id": "ef2e780b",
   "metadata": {
    "execution": {
     "iopub.execute_input": "2025-07-06T08:15:00.172338Z",
     "iopub.status.busy": "2025-07-06T08:15:00.171862Z",
     "iopub.status.idle": "2025-07-06T08:15:00.176225Z",
     "shell.execute_reply": "2025-07-06T08:15:00.175565Z"
    },
    "papermill": {
     "duration": 0.018149,
     "end_time": "2025-07-06T08:15:00.177268",
     "exception": false,
     "start_time": "2025-07-06T08:15:00.159119",
     "status": "completed"
    },
    "tags": []
   },
   "outputs": [],
   "source": [
    "# Noise function def\n",
    "\n",
    "def noise_video(video,noise_factor=NOISE_FACTOR):\n",
    "    noisy_video=[]\n",
    "    for frame in video:\n",
    "        # Generate random noise\n",
    "        noise = np.random.rand(*frame.shape)  # Generate random noise\n",
    "        salt_pepper_noise = np.random.choice([0, 1], size=frame.shape, p=[1-noise_factor, noise_factor])\n",
    "        noisy_frame = frame * (1 - salt_pepper_noise) + salt_pepper_noise * np.random.rand(*frame.shape)\n",
    "        noisy_video.append(noisy_frame)\n",
    "    return np.array(noisy_video)"
   ]
  },
  {
   "cell_type": "markdown",
   "id": "151d7e6f",
   "metadata": {
    "papermill": {
     "duration": 0.012871,
     "end_time": "2025-07-06T08:15:00.202145",
     "exception": false,
     "start_time": "2025-07-06T08:15:00.189274",
     "status": "completed"
    },
    "tags": []
   },
   "source": [
    "## Horizontal Flip"
   ]
  },
  {
   "cell_type": "code",
   "execution_count": 16,
   "id": "2d777d35",
   "metadata": {
    "execution": {
     "iopub.execute_input": "2025-07-06T08:15:00.228541Z",
     "iopub.status.busy": "2025-07-06T08:15:00.228053Z",
     "iopub.status.idle": "2025-07-06T08:15:00.231916Z",
     "shell.execute_reply": "2025-07-06T08:15:00.231173Z"
    },
    "papermill": {
     "duration": 0.01864,
     "end_time": "2025-07-06T08:15:00.233066",
     "exception": false,
     "start_time": "2025-07-06T08:15:00.214426",
     "status": "completed"
    },
    "tags": []
   },
   "outputs": [],
   "source": [
    "# horizontal flip function def\n",
    "# Testing Flip feautes[0] -> first video\n",
    "def horizontal_flip(video):\n",
    "    return [tf.image.flip_left_right(frame) for frame in video]"
   ]
  },
  {
   "cell_type": "markdown",
   "id": "9776e07f",
   "metadata": {
    "papermill": {
     "duration": 0.013042,
     "end_time": "2025-07-06T08:15:00.258104",
     "exception": false,
     "start_time": "2025-07-06T08:15:00.245062",
     "status": "completed"
    },
    "tags": []
   },
   "source": [
    "## Random Shear"
   ]
  },
  {
   "cell_type": "code",
   "execution_count": 17,
   "id": "78e60859",
   "metadata": {
    "execution": {
     "iopub.execute_input": "2025-07-06T08:15:00.287212Z",
     "iopub.status.busy": "2025-07-06T08:15:00.286984Z",
     "iopub.status.idle": "2025-07-06T08:15:00.292865Z",
     "shell.execute_reply": "2025-07-06T08:15:00.292355Z"
    },
    "papermill": {
     "duration": 0.021914,
     "end_time": "2025-07-06T08:15:00.293937",
     "exception": false,
     "start_time": "2025-07-06T08:15:00.272023",
     "status": "completed"
    },
    "tags": []
   },
   "outputs": [],
   "source": [
    "# random shear function def\n",
    "import numpy as np\n",
    "import tensorflow as tf\n",
    "from scipy.ndimage import affine_transform\n",
    "\n",
    "def apply_shear_frames(frames, shear_right):\n",
    "    return [apply_shear(frame, shear_right) for frame in frames]\n",
    "\n",
    "def apply_shear(frame, shear_right=0):\n",
    "    frame_resized = tf.image.resize(frame, (IMAGE_HEIGHT, IMAGE_WIDTH)).numpy()\n",
    "    if shear_right:\n",
    "        shear_x = 0.09\n",
    "        shear_y = 0.1\n",
    "    else:\n",
    "        shear_x = -0.09\n",
    "        shear_y = 0.3\n",
    "    # Construct the affine matrix for scipy: inverse of the transformation matrix\n",
    "    # scipy applies the inverse transform matrix\n",
    "    shear_matrix = np.array([\n",
    "        [1, shear_x, 0],\n",
    "        [shear_y, 1, 0],\n",
    "        [0, 0, 1]\n",
    "    ], dtype=np.float32)\n",
    "\n",
    "    # Extract 2x2 part for affine_transform\n",
    "    matrix = shear_matrix[:2, :2]\n",
    "\n",
    "    # Offset (no translation)\n",
    "    offset = [0, 0]\n",
    "\n",
    "    # Apply affine transform on each channel separately\n",
    "    sheared = np.zeros_like(frame_resized)\n",
    "    for c in range(3):\n",
    "        sheared[..., c] = affine_transform(\n",
    "            frame_resized[..., c],\n",
    "            matrix=matrix,\n",
    "            offset=offset,\n",
    "            order=1,          # bilinear interpolation\n",
    "            mode='nearest'    # fill_mode\n",
    "        )\n",
    "    return sheared"
   ]
  },
  {
   "cell_type": "markdown",
   "id": "021faeab",
   "metadata": {
    "papermill": {
     "duration": 0.011573,
     "end_time": "2025-07-06T08:15:00.317379",
     "exception": false,
     "start_time": "2025-07-06T08:15:00.305806",
     "status": "completed"
    },
    "tags": []
   },
   "source": [
    "# 📌 Model Related\n",
    "## 🗼 Model Architecture `create_model`"
   ]
  },
  {
   "cell_type": "code",
   "execution_count": 18,
   "id": "d91785a8",
   "metadata": {
    "execution": {
     "iopub.execute_input": "2025-07-06T08:15:00.344295Z",
     "iopub.status.busy": "2025-07-06T08:15:00.344096Z",
     "iopub.status.idle": "2025-07-06T08:15:00.355802Z",
     "shell.execute_reply": "2025-07-06T08:15:00.355289Z"
    },
    "papermill": {
     "duration": 0.027323,
     "end_time": "2025-07-06T08:15:00.356778",
     "exception": false,
     "start_time": "2025-07-06T08:15:00.329455",
     "status": "completed"
    },
    "tags": []
   },
   "outputs": [],
   "source": [
    "from tensorflow.keras.applications import Xception\n",
    "from tensorflow.keras.models import Sequential\n",
    "from tensorflow.keras.layers import GlobalAveragePooling2D, TimeDistributed, LSTM, Dropout, Dense, BatchNormalization\n",
    "from tensorflow.keras.regularizers import l2\n",
    "\n",
    "def create_xception_lstm_model(sequence_length, image_height, image_width, classes_list=None, dropout_rate=0.5):\n",
    "    if classes_list is None:\n",
    "        raise ValueError(\"classes_list must be provided to define the output layer size\")\n",
    "\n",
    "    try:\n",
    "        # Load Xception model with pre-trained ImageNet weights\n",
    "        print(\"Loading Xception base model...\")\n",
    "        xception = Xception(\n",
    "            weights='imagenet',\n",
    "            include_top=False,\n",
    "            input_shape=(image_height, image_width, 3),\n",
    "            name=\"Xception\"\n",
    "        )\n",
    "        \n",
    "        # # Unfreeze more layers to fine-tune\n",
    "        # for layer in xception.layers[:-10]:  # Unfreeze more layers to fine-tune more\n",
    "        #     layer.trainable = False\n",
    "        # for layer in xception.layers[-10:]:\n",
    "        #     layer.trainable = True\n",
    "\n",
    "        # Define the Sequential model\n",
    "        model = Sequential([\n",
    "            # TimeDistributed Xception model\n",
    "            TimeDistributed(\n",
    "                xception,\n",
    "                input_shape=(sequence_length, image_height, image_width, 3),\n",
    "                name=\"time_distributed\"\n",
    "            ),\n",
    "            # TimeDistributed GlobalAveragePooling2D\n",
    "            TimeDistributed(GlobalAveragePooling2D(), name=\"time_distributed_1\"),\n",
    "            # LSTM layer with 256 units (increased)\n",
    "            LSTM(512, activation=\"tanh\", return_sequences=False, kernel_regularizer=l2(0.01), name=\"lstm\"),\n",
    "            BatchNormalization(name=\"batch_normalization\"),\n",
    "            # Dropout after LSTM\n",
    "            Dropout(dropout_rate, name=\"dropout_lstm\"),\n",
    "            # Dense layer with 512 units\n",
    "            Dense(512, activation=\"relu\", kernel_regularizer=l2(0.01), name=\"dense\"),\n",
    "            # Dropout after Dense\n",
    "            Dropout(dropout_rate + 0.1, name=\"dropout_dense\"),\n",
    "            # Output Dense layer with softmax activation\n",
    "            Dense(len(classes_list), activation=\"softmax\", name=\"dense_1\")\n",
    "        ])\n",
    "\n",
    "        # Print model summary\n",
    "        print(\"Model architecture created successfully!\")\n",
    "        model.summary()\n",
    "\n",
    "        return model\n",
    "\n",
    "    except Exception as e:\n",
    "        print(f\"Error creating model: {e}\")\n",
    "        return None\n"
   ]
  },
  {
   "cell_type": "code",
   "execution_count": 19,
   "id": "fcebaaa1",
   "metadata": {
    "execution": {
     "iopub.execute_input": "2025-07-06T08:15:00.381741Z",
     "iopub.status.busy": "2025-07-06T08:15:00.381532Z",
     "iopub.status.idle": "2025-07-06T08:15:04.729890Z",
     "shell.execute_reply": "2025-07-06T08:15:04.729002Z"
    },
    "papermill": {
     "duration": 4.362147,
     "end_time": "2025-07-06T08:15:04.731061",
     "exception": false,
     "start_time": "2025-07-06T08:15:00.368914",
     "status": "completed"
    },
    "tags": []
   },
   "outputs": [
    {
     "name": "stdout",
     "output_type": "stream",
     "text": [
      "Pre-loading Xception weights...\n"
     ]
    },
    {
     "name": "stderr",
     "output_type": "stream",
     "text": [
      "I0000 00:00:1751789701.820553      19 gpu_device.cc:2022] Created device /job:localhost/replica:0/task:0/device:GPU:0 with 13942 MB memory:  -> device: 0, name: Tesla T4, pci bus id: 0000:00:04.0, compute capability: 7.5\n",
      "I0000 00:00:1751789701.821282      19 gpu_device.cc:2022] Created device /job:localhost/replica:0/task:0/device:GPU:1 with 13942 MB memory:  -> device: 1, name: Tesla T4, pci bus id: 0000:00:05.0, compute capability: 7.5\n"
     ]
    },
    {
     "name": "stdout",
     "output_type": "stream",
     "text": [
      "Downloading data from https://storage.googleapis.com/tensorflow/keras-applications/xception/xception_weights_tf_dim_ordering_tf_kernels_notop.h5\n",
      "\u001b[1m83683744/83683744\u001b[0m \u001b[32m━━━━━━━━━━━━━━━━━━━━\u001b[0m\u001b[37m\u001b[0m \u001b[1m0s\u001b[0m 0us/step\n",
      "Weights loaded successfully!\n"
     ]
    }
   ],
   "source": [
    "# donwload model weights\n",
    "from tensorflow.keras.applications import Xception\n",
    "print(\"Pre-loading Xception weights...\")\n",
    "base_model = Xception(weights='imagenet', include_top=False, input_shape=(IMAGE_HEIGHT, IMAGE_WIDTH, 3))\n",
    "print(\"Weights loaded successfully!\")"
   ]
  },
  {
   "cell_type": "markdown",
   "id": "15c1c47d",
   "metadata": {
    "papermill": {
     "duration": 0.013033,
     "end_time": "2025-07-06T08:15:04.756797",
     "exception": false,
     "start_time": "2025-07-06T08:15:04.743764",
     "status": "completed"
    },
    "tags": []
   },
   "source": [
    "# 📌 Execution\n",
    "## Creating Dataset\n",
    "The following functions are executed\n",
    "- `frame extraction`\n",
    "- `resize`\n",
    "\n",
    "which returns:\n",
    "- `features` - `np.array` of all the videos\n",
    "- `labels` - `np.array` of all the class labels"
   ]
  },
  {
   "cell_type": "code",
   "execution_count": 20,
   "id": "2bda4f98",
   "metadata": {
    "execution": {
     "iopub.execute_input": "2025-07-06T08:15:04.783059Z",
     "iopub.status.busy": "2025-07-06T08:15:04.782600Z",
     "iopub.status.idle": "2025-07-06T08:24:32.959452Z",
     "shell.execute_reply": "2025-07-06T08:24:32.958579Z"
    },
    "papermill": {
     "duration": 568.191133,
     "end_time": "2025-07-06T08:24:32.960632",
     "exception": false,
     "start_time": "2025-07-06T08:15:04.769499",
     "status": "completed"
    },
    "tags": []
   },
   "outputs": [
    {
     "name": "stdout",
     "output_type": "stream",
     "text": [
      "Class: write\n",
      "Extracting frames from file 50: subject_42_activity_5.mp4\n",
      "Class: sit still\n",
      "Extracting frames from file 50: subject_35_activity_3.mp4\n",
      "Class: sit down\n",
      "Extracting frames from file 50: subject_12_activity_2.mp4\n",
      "Class: move hands in front of the body\n",
      "Extracting frames from file 50: subject_38_activity_11.mp4\n",
      "Class: raise one leg up\n",
      "Extracting frames from file 50: subject_10_activity_14.mp4\n",
      "Class: drink from a bottle\n",
      "Extracting frames from file 50: subject_38_activity_9.mp4\n",
      "Class: stand up\n",
      "Extracting frames from file 50: subject_47_activity_1.mp4\n",
      "Class: read\n",
      "Extracting frames from file 50: subject_16_activity_4.mp4\n",
      "Class: throw paper\n",
      "Extracting frames from file 50: subject_15_activity_8.mp4\n",
      "Class: walk\n",
      "Extracting frames from file 50: subject_13_activity_7.mp4\n",
      "Class: drink from a mug\n",
      "Extracting frames from file 50: subject_29_activity_10.mp4\n",
      "Class: fall from bed\n",
      "Extracting frames from file 50: subject_30_activity_15.mp4\n",
      "Class: faint\n",
      "Extracting frames from file 50: subject_1_activity_16.mp4\n",
      "Class: raise one hand up\n",
      "Extracting frames from file 50: subject_28_activity_13.mp4\n",
      "Class: cheer up\n",
      "Extracting frames from file 50: subject_13_activity_6.mp4\n",
      "Class: move hands close to the body\n",
      "Extracting frames from file 50: subject_14_activity_12.mp4\n",
      "Dataset created with 800 videos\n",
      "Features shape: (800, 5, 128, 128, 3)\n",
      "Labels shape: (800,)\n"
     ]
    },
    {
     "data": {
      "text/plain": [
       "((800, 5, 128, 128, 3), (800,))"
      ]
     },
     "execution_count": 20,
     "metadata": {},
     "output_type": "execute_result"
    }
   ],
   "source": [
    "# RUN Create the dataset with explicit parameters\n",
    "try:\n",
    "    videos, labels = create_dataset(\n",
    "        dataset_dir=DATASET_DIR,\n",
    "        classes_list=CLASSES_LIST,\n",
    "        sequence_length=SEQUENCE_LENGTH,\n",
    "        image_height=IMAGE_HEIGHT,\n",
    "        image_width=IMAGE_WIDTH,\n",
    "        # Limit to 10 videos per class to manage memory\n",
    "        augmentations=True,\n",
    "        max_videos_per_class=MAX_VIDEO_PER_CLASS\n",
    "    )\n",
    "except FileNotFoundError as e:\n",
    "    print(f\"Error: {e}\")\n",
    "except ValueError as e:\n",
    "    print(f\"Error: {e}\")\n",
    "except Exception as e:\n",
    "    print(f\"Unexpected error: {e}\")\n",
    "\n",
    "videos.shape, labels.shape"
   ]
  },
  {
   "cell_type": "code",
   "execution_count": 21,
   "id": "6756b8e6",
   "metadata": {
    "execution": {
     "iopub.execute_input": "2025-07-06T08:24:33.048478Z",
     "iopub.status.busy": "2025-07-06T08:24:33.048063Z",
     "iopub.status.idle": "2025-07-06T08:24:33.052101Z",
     "shell.execute_reply": "2025-07-06T08:24:33.051381Z"
    },
    "papermill": {
     "duration": 0.048573,
     "end_time": "2025-07-06T08:24:33.053106",
     "exception": false,
     "start_time": "2025-07-06T08:24:33.004533",
     "status": "completed"
    },
    "tags": []
   },
   "outputs": [
    {
     "name": "stdout",
     "output_type": "stream",
     "text": [
      "Total 800 videos and 800 classes\n"
     ]
    }
   ],
   "source": [
    "video_generator = VideoDataGenerator(\n",
    "    videos=videos,\n",
    "    labels=labels,\n",
    "    batch_size=BATCH_SIZE\n",
    ")"
   ]
  },
  {
   "cell_type": "code",
   "execution_count": 22,
   "id": "1568e69a",
   "metadata": {
    "execution": {
     "iopub.execute_input": "2025-07-06T08:24:33.138127Z",
     "iopub.status.busy": "2025-07-06T08:24:33.137933Z",
     "iopub.status.idle": "2025-07-06T08:24:33.148247Z",
     "shell.execute_reply": "2025-07-06T08:24:33.147561Z"
    },
    "papermill": {
     "duration": 0.053804,
     "end_time": "2025-07-06T08:24:33.149280",
     "exception": false,
     "start_time": "2025-07-06T08:24:33.095476",
     "status": "completed"
    },
    "tags": []
   },
   "outputs": [
    {
     "data": {
      "text/plain": [
       "((16, 5, 128, 128, 3), (16,))"
      ]
     },
     "execution_count": 22,
     "metadata": {},
     "output_type": "execute_result"
    }
   ],
   "source": [
    "videos, labels = video_generator[0]\n",
    "\n",
    "videos.shape, labels.shape"
   ]
  },
  {
   "cell_type": "code",
   "execution_count": 23,
   "id": "9c5c63cb",
   "metadata": {
    "execution": {
     "iopub.execute_input": "2025-07-06T08:24:33.237565Z",
     "iopub.status.busy": "2025-07-06T08:24:33.237287Z",
     "iopub.status.idle": "2025-07-06T08:24:33.241735Z",
     "shell.execute_reply": "2025-07-06T08:24:33.241171Z"
    },
    "papermill": {
     "duration": 0.050268,
     "end_time": "2025-07-06T08:24:33.242898",
     "exception": false,
     "start_time": "2025-07-06T08:24:33.192630",
     "status": "completed"
    },
    "tags": []
   },
   "outputs": [
    {
     "data": {
      "text/plain": [
       "800"
      ]
     },
     "execution_count": 23,
     "metadata": {},
     "output_type": "execute_result"
    }
   ],
   "source": [
    "len(video_generator.videos) "
   ]
  },
  {
   "cell_type": "code",
   "execution_count": 24,
   "id": "45e96df2",
   "metadata": {
    "execution": {
     "iopub.execute_input": "2025-07-06T08:24:33.330713Z",
     "iopub.status.busy": "2025-07-06T08:24:33.330459Z",
     "iopub.status.idle": "2025-07-06T08:24:33.334798Z",
     "shell.execute_reply": "2025-07-06T08:24:33.334259Z"
    },
    "papermill": {
     "duration": 0.048824,
     "end_time": "2025-07-06T08:24:33.335844",
     "exception": false,
     "start_time": "2025-07-06T08:24:33.287020",
     "status": "completed"
    },
    "tags": []
   },
   "outputs": [
    {
     "data": {
      "text/plain": [
       "50"
      ]
     },
     "execution_count": 24,
     "metadata": {},
     "output_type": "execute_result"
    }
   ],
   "source": [
    "len(video_generator)"
   ]
  },
  {
   "cell_type": "code",
   "execution_count": 25,
   "id": "2ef40a0d",
   "metadata": {
    "execution": {
     "iopub.execute_input": "2025-07-06T08:24:33.422882Z",
     "iopub.status.busy": "2025-07-06T08:24:33.422659Z",
     "iopub.status.idle": "2025-07-06T08:24:51.168020Z",
     "shell.execute_reply": "2025-07-06T08:24:51.167186Z"
    },
    "papermill": {
     "duration": 17.791224,
     "end_time": "2025-07-06T08:24:51.169490",
     "exception": false,
     "start_time": "2025-07-06T08:24:33.378266",
     "status": "completed"
    },
    "tags": []
   },
   "outputs": [
    {
     "name": "stdout",
     "output_type": "stream",
     "text": [
      "Total 800 augmented videos generated\n",
      "Ready to be merged with original videos...\n"
     ]
    }
   ],
   "source": [
    "apply_augmentation(segmentation_frames, video_generator)"
   ]
  },
  {
   "cell_type": "code",
   "execution_count": 26,
   "id": "613b982a",
   "metadata": {
    "execution": {
     "iopub.execute_input": "2025-07-06T08:24:51.324768Z",
     "iopub.status.busy": "2025-07-06T08:24:51.324478Z",
     "iopub.status.idle": "2025-07-06T08:24:51.329326Z",
     "shell.execute_reply": "2025-07-06T08:24:51.328607Z"
    },
    "papermill": {
     "duration": 0.0833,
     "end_time": "2025-07-06T08:24:51.330580",
     "exception": false,
     "start_time": "2025-07-06T08:24:51.247280",
     "status": "completed"
    },
    "tags": []
   },
   "outputs": [
    {
     "data": {
      "text/plain": [
       "(800, 800)"
      ]
     },
     "execution_count": 26,
     "metadata": {},
     "output_type": "execute_result"
    }
   ],
   "source": [
    "len(video_generator.temp_videos), len(video_generator.videos)"
   ]
  },
  {
   "cell_type": "code",
   "execution_count": 27,
   "id": "1bc99c88",
   "metadata": {
    "execution": {
     "iopub.execute_input": "2025-07-06T08:24:51.485059Z",
     "iopub.status.busy": "2025-07-06T08:24:51.484553Z",
     "iopub.status.idle": "2025-07-06T08:24:51.491144Z",
     "shell.execute_reply": "2025-07-06T08:24:51.490275Z"
    },
    "papermill": {
     "duration": 0.084879,
     "end_time": "2025-07-06T08:24:51.492331",
     "exception": false,
     "start_time": "2025-07-06T08:24:51.407452",
     "status": "completed"
    },
    "tags": []
   },
   "outputs": [
    {
     "name": "stdout",
     "output_type": "stream",
     "text": [
      "Successfully replaced, total original videos - 800 and augmented videos 0\n"
     ]
    }
   ],
   "source": [
    "video_generator.replace_original()"
   ]
  },
  {
   "cell_type": "code",
   "execution_count": 28,
   "id": "c0450d69",
   "metadata": {
    "execution": {
     "iopub.execute_input": "2025-07-06T08:24:51.645963Z",
     "iopub.status.busy": "2025-07-06T08:24:51.645227Z",
     "iopub.status.idle": "2025-07-06T08:24:51.650090Z",
     "shell.execute_reply": "2025-07-06T08:24:51.649491Z"
    },
    "papermill": {
     "duration": 0.082756,
     "end_time": "2025-07-06T08:24:51.651258",
     "exception": false,
     "start_time": "2025-07-06T08:24:51.568502",
     "status": "completed"
    },
    "tags": []
   },
   "outputs": [
    {
     "data": {
      "text/plain": [
       "(0, 800)"
      ]
     },
     "execution_count": 28,
     "metadata": {},
     "output_type": "execute_result"
    }
   ],
   "source": [
    "len(video_generator.temp_videos), len(video_generator.videos)"
   ]
  },
  {
   "cell_type": "code",
   "execution_count": 29,
   "id": "19ac878c",
   "metadata": {
    "execution": {
     "iopub.execute_input": "2025-07-06T08:24:51.803306Z",
     "iopub.status.busy": "2025-07-06T08:24:51.803013Z",
     "iopub.status.idle": "2025-07-06T08:24:52.028983Z",
     "shell.execute_reply": "2025-07-06T08:24:52.028356Z"
    },
    "papermill": {
     "duration": 0.303501,
     "end_time": "2025-07-06T08:24:52.030187",
     "exception": false,
     "start_time": "2025-07-06T08:24:51.726686",
     "status": "completed"
    },
    "tags": []
   },
   "outputs": [
    {
     "data": {
      "text/plain": [
       "(800, 5, 128, 128, 3)"
      ]
     },
     "execution_count": 29,
     "metadata": {},
     "output_type": "execute_result"
    }
   ],
   "source": [
    "test = np.array(video_generator.videos)\n",
    "\n",
    "test.shape"
   ]
  },
  {
   "cell_type": "code",
   "execution_count": 30,
   "id": "fadc84ae",
   "metadata": {
    "execution": {
     "iopub.execute_input": "2025-07-06T08:24:52.183113Z",
     "iopub.status.busy": "2025-07-06T08:24:52.182839Z",
     "iopub.status.idle": "2025-07-06T08:24:52.401577Z",
     "shell.execute_reply": "2025-07-06T08:24:52.400805Z"
    },
    "papermill": {
     "duration": 0.296011,
     "end_time": "2025-07-06T08:24:52.402708",
     "exception": false,
     "start_time": "2025-07-06T08:24:52.106697",
     "status": "completed"
    },
    "tags": []
   },
   "outputs": [
    {
     "data": {
      "image/png": "[encoded data removed]",
      "text/plain": [
       "<Figure size 300x300 with 1 Axes>"
      ]
     },
     "metadata": {},
     "output_type": "display_data"
    }
   ],
   "source": [
    "show_frame(test[1,0])"
   ]
  },
  {
   "cell_type": "markdown",
   "id": "fe9ae351",
   "metadata": {
    "papermill": {
     "duration": 0.074615,
     "end_time": "2025-07-06T08:24:52.603320",
     "exception": false,
     "start_time": "2025-07-06T08:24:52.528705",
     "status": "completed"
    },
    "tags": []
   },
   "source": [
    "## Apply ***horizontal flip*** (Augmentation)"
   ]
  },
  {
   "cell_type": "code",
   "execution_count": 31,
   "id": "14bf3e7d",
   "metadata": {
    "execution": {
     "iopub.execute_input": "2025-07-06T08:24:52.754845Z",
     "iopub.status.busy": "2025-07-06T08:24:52.754575Z",
     "iopub.status.idle": "2025-07-06T08:24:56.074960Z",
     "shell.execute_reply": "2025-07-06T08:24:56.074074Z"
    },
    "papermill": {
     "duration": 3.397957,
     "end_time": "2025-07-06T08:24:56.076163",
     "exception": false,
     "start_time": "2025-07-06T08:24:52.678206",
     "status": "completed"
    },
    "tags": []
   },
   "outputs": [
    {
     "name": "stdout",
     "output_type": "stream",
     "text": [
      "Total 800 augmented videos generated\n",
      "Ready to be merged with original videos...\n"
     ]
    }
   ],
   "source": [
    "apply_augmentation(horizontal_flip, video_generator)"
   ]
  },
  {
   "cell_type": "code",
   "execution_count": 32,
   "id": "de295311",
   "metadata": {
    "execution": {
     "iopub.execute_input": "2025-07-06T08:24:56.295743Z",
     "iopub.status.busy": "2025-07-06T08:24:56.295449Z",
     "iopub.status.idle": "2025-07-06T08:24:56.300276Z",
     "shell.execute_reply": "2025-07-06T08:24:56.299495Z"
    },
    "papermill": {
     "duration": 0.115124,
     "end_time": "2025-07-06T08:24:56.301544",
     "exception": false,
     "start_time": "2025-07-06T08:24:56.186420",
     "status": "completed"
    },
    "tags": []
   },
   "outputs": [
    {
     "name": "stdout",
     "output_type": "stream",
     "text": [
      "Checking Total Videos and Class Count: 800, 800\n",
      "PENDING Total Videos and Class Count: 800, 800\n"
     ]
    }
   ],
   "source": [
    "print(f\"Checking Total Videos and Class Count: {len(video_generator.videos)}, {len(video_generator.labels)}\")\n",
    "print(f\"PENDING Total Videos and Class Count: {len(video_generator.temp_videos)}, {len(video_generator.temp_labels)}\")"
   ]
  },
  {
   "cell_type": "code",
   "execution_count": 33,
   "id": "ab37ba8e",
   "metadata": {
    "execution": {
     "iopub.execute_input": "2025-07-06T08:24:56.525697Z",
     "iopub.status.busy": "2025-07-06T08:24:56.525403Z",
     "iopub.status.idle": "2025-07-06T08:24:56.529600Z",
     "shell.execute_reply": "2025-07-06T08:24:56.528859Z"
    },
    "papermill": {
     "duration": 0.117923,
     "end_time": "2025-07-06T08:24:56.530808",
     "exception": false,
     "start_time": "2025-07-06T08:24:56.412885",
     "status": "completed"
    },
    "tags": []
   },
   "outputs": [
    {
     "name": "stdout",
     "output_type": "stream",
     "text": [
      "Successfully added - 800 videos and 800 classes.\n",
      "Now Total - 1600 videos and 1600 classes.\n",
      "PENDING for Augmentations - 0 videos and 0 classes.\n"
     ]
    }
   ],
   "source": [
    "video_generator.confirm()"
   ]
  },
  {
   "cell_type": "markdown",
   "id": "38849d2a",
   "metadata": {
    "papermill": {
     "duration": 0.109136,
     "end_time": "2025-07-06T08:24:56.749841",
     "exception": false,
     "start_time": "2025-07-06T08:24:56.640705",
     "status": "completed"
    },
    "tags": []
   },
   "source": [
    "## Apply ***Noise*** (Augmentation)"
   ]
  },
  {
   "cell_type": "code",
   "execution_count": 34,
   "id": "2ef6694a",
   "metadata": {
    "execution": {
     "iopub.execute_input": "2025-07-06T08:24:56.970066Z",
     "iopub.status.busy": "2025-07-06T08:24:56.969346Z",
     "iopub.status.idle": "2025-07-06T08:25:19.146866Z",
     "shell.execute_reply": "2025-07-06T08:25:19.145842Z"
    },
    "papermill": {
     "duration": 22.288222,
     "end_time": "2025-07-06T08:25:19.148383",
     "exception": false,
     "start_time": "2025-07-06T08:24:56.860161",
     "status": "completed"
    },
    "tags": []
   },
   "outputs": [
    {
     "name": "stdout",
     "output_type": "stream",
     "text": [
      "Total 1600 augmented videos generated\n",
      "Ready to be merged with original videos...\n"
     ]
    }
   ],
   "source": [
    "apply_augmentation(noise_video, video_generator)"
   ]
  },
  {
   "cell_type": "code",
   "execution_count": 35,
   "id": "4a4a3754",
   "metadata": {
    "execution": {
     "iopub.execute_input": "2025-07-06T08:25:19.513388Z",
     "iopub.status.busy": "2025-07-06T08:25:19.513105Z",
     "iopub.status.idle": "2025-07-06T08:25:19.517535Z",
     "shell.execute_reply": "2025-07-06T08:25:19.516696Z"
    },
    "papermill": {
     "duration": 0.182269,
     "end_time": "2025-07-06T08:25:19.518776",
     "exception": false,
     "start_time": "2025-07-06T08:25:19.336507",
     "status": "completed"
    },
    "tags": []
   },
   "outputs": [
    {
     "name": "stdout",
     "output_type": "stream",
     "text": [
      "Checking Total Videos and Class Count: 1600, 1600\n",
      "PENDING Total Videos and Class Count: 1600, 1600\n"
     ]
    }
   ],
   "source": [
    "print(f\"Checking Total Videos and Class Count: {len(video_generator.videos)}, {len(video_generator.labels)}\")\n",
    "print(f\"PENDING Total Videos and Class Count: {len(video_generator.temp_videos)}, {len(video_generator.temp_labels)}\")"
   ]
  },
  {
   "cell_type": "markdown",
   "id": "a7d14c41",
   "metadata": {
    "papermill": {
     "duration": 0.174111,
     "end_time": "2025-07-06T08:25:19.931170",
     "exception": false,
     "start_time": "2025-07-06T08:25:19.757059",
     "status": "completed"
    },
    "tags": []
   },
   "source": [
    "## Apply ***Random Shear x2*** (Augmentation)"
   ]
  },
  {
   "cell_type": "code",
   "execution_count": 36,
   "id": "6296b8a4",
   "metadata": {
    "execution": {
     "iopub.execute_input": "2025-07-06T08:25:20.280285Z",
     "iopub.status.busy": "2025-07-06T08:25:20.279648Z",
     "iopub.status.idle": "2025-07-06T08:26:26.993987Z",
     "shell.execute_reply": "2025-07-06T08:26:26.993149Z"
    },
    "papermill": {
     "duration": 66.889624,
     "end_time": "2025-07-06T08:26:26.995628",
     "exception": false,
     "start_time": "2025-07-06T08:25:20.106004",
     "status": "completed"
    },
    "tags": []
   },
   "outputs": [
    {
     "name": "stdout",
     "output_type": "stream",
     "text": [
      "Total 3200 augmented videos generated\n",
      "Ready to be merged with original videos...\n",
      "Total 4800 augmented videos generated\n",
      "Ready to be merged with original videos...\n"
     ]
    }
   ],
   "source": [
    "apply_augmentation(apply_shear_frames, video_generator, shear_right=0)\n",
    "apply_augmentation(apply_shear_frames, video_generator, shear_right=1)"
   ]
  },
  {
   "cell_type": "code",
   "execution_count": 37,
   "id": "87e77d60",
   "metadata": {
    "execution": {
     "iopub.execute_input": "2025-07-06T08:26:27.598061Z",
     "iopub.status.busy": "2025-07-06T08:26:27.597768Z",
     "iopub.status.idle": "2025-07-06T08:26:27.602719Z",
     "shell.execute_reply": "2025-07-06T08:26:27.601847Z"
    },
    "papermill": {
     "duration": 0.308113,
     "end_time": "2025-07-06T08:26:27.603974",
     "exception": false,
     "start_time": "2025-07-06T08:26:27.295861",
     "status": "completed"
    },
    "tags": []
   },
   "outputs": [
    {
     "name": "stdout",
     "output_type": "stream",
     "text": [
      "Checking Total Videos and Class Count: 1600, 1600\n",
      "PENDING Total Videos and Class Count: 4800, 4800\n"
     ]
    }
   ],
   "source": [
    "print(f\"Checking Total Videos and Class Count: {len(video_generator.videos)}, {len(video_generator.labels)}\")\n",
    "print(f\"PENDING Total Videos and Class Count: {len(video_generator.temp_videos)}, {len(video_generator.temp_labels)}\")"
   ]
  },
  {
   "cell_type": "code",
   "execution_count": 38,
   "id": "172d3d5e",
   "metadata": {
    "execution": {
     "iopub.execute_input": "2025-07-06T08:26:28.258943Z",
     "iopub.status.busy": "2025-07-06T08:26:28.258384Z",
     "iopub.status.idle": "2025-07-06T08:26:28.262772Z",
     "shell.execute_reply": "2025-07-06T08:26:28.262023Z"
    },
    "papermill": {
     "duration": 0.362361,
     "end_time": "2025-07-06T08:26:28.264037",
     "exception": false,
     "start_time": "2025-07-06T08:26:27.901676",
     "status": "completed"
    },
    "tags": []
   },
   "outputs": [
    {
     "name": "stdout",
     "output_type": "stream",
     "text": [
      "Successfully added - 4800 videos and 4800 classes.\n",
      "Now Total - 6400 videos and 6400 classes.\n",
      "PENDING for Augmentations - 0 videos and 0 classes.\n"
     ]
    }
   ],
   "source": [
    "# confirm changes to generator\n",
    "video_generator.confirm()"
   ]
  },
  {
   "cell_type": "code",
   "execution_count": 39,
   "id": "79ee89e1",
   "metadata": {
    "execution": {
     "iopub.execute_input": "2025-07-06T08:26:28.865933Z",
     "iopub.status.busy": "2025-07-06T08:26:28.865660Z",
     "iopub.status.idle": "2025-07-06T08:26:28.869998Z",
     "shell.execute_reply": "2025-07-06T08:26:28.869208Z"
    },
    "papermill": {
     "duration": 0.304758,
     "end_time": "2025-07-06T08:26:28.871201",
     "exception": false,
     "start_time": "2025-07-06T08:26:28.566443",
     "status": "completed"
    },
    "tags": []
   },
   "outputs": [
    {
     "name": "stdout",
     "output_type": "stream",
     "text": [
      "Checking Video Generator Total Videos and Class Count: 6400, 6400\n"
     ]
    }
   ],
   "source": [
    "print(f\"Checking Video Generator Total Videos and Class Count: {len(video_generator.videos)}, {len(video_generator.labels)}\")"
   ]
  },
  {
   "cell_type": "markdown",
   "id": "4356d6b6",
   "metadata": {
    "papermill": {
     "duration": 0.358495,
     "end_time": "2025-07-06T08:26:29.534398",
     "exception": false,
     "start_time": "2025-07-06T08:26:29.175903",
     "status": "completed"
    },
    "tags": []
   },
   "source": [
    "## Cheking (Output)"
   ]
  },
  {
   "cell_type": "code",
   "execution_count": 40,
   "id": "48d1c1c1",
   "metadata": {
    "execution": {
     "iopub.execute_input": "2025-07-06T08:26:30.137282Z",
     "iopub.status.busy": "2025-07-06T08:26:30.136780Z",
     "iopub.status.idle": "2025-07-06T08:26:30.339443Z",
     "shell.execute_reply": "2025-07-06T08:26:30.338775Z"
    },
    "papermill": {
     "duration": 0.506154,
     "end_time": "2025-07-06T08:26:30.340908",
     "exception": false,
     "start_time": "2025-07-06T08:26:29.834754",
     "status": "completed"
    },
    "tags": []
   },
   "outputs": [
    {
     "name": "stdout",
     "output_type": "stream",
     "text": [
      "(16, 5, 128, 128, 3) (16,)\n"
     ]
    },
    {
     "data": {
      "image/png": "[encoded data removed]",
      "text/plain": [
       "<Figure size 1000x500 with 2 Axes>"
      ]
     },
     "metadata": {},
     "output_type": "display_data"
    },
    {
     "name": "stdout",
     "output_type": "stream",
     "text": [
      "Might be two different action, but to check the flipping focus on the door behind.\n"
     ]
    }
   ],
   "source": [
    "# check horizontal flips\n",
    "videos, labels = video_generator[7]\n",
    "videos1, labels1 = video_generator[1]\n",
    "\n",
    "print(videos.shape, labels.shape)\n",
    "\n",
    "show_frame_vs(videos[0,0],videos1[1,0], title1=\"Flipped Frame 1\", title2=\"Non Flipped Frame 1\")\n",
    "print(\"Might be two different action, but to check the flipping focus on the door behind.\")"
   ]
  },
  {
   "cell_type": "markdown",
   "id": "2c07b099",
   "metadata": {
    "papermill": {
     "duration": 0.301121,
     "end_time": "2025-07-06T08:26:31.005300",
     "exception": false,
     "start_time": "2025-07-06T08:26:30.704179",
     "status": "completed"
    },
    "tags": []
   },
   "source": [
    "# 🧪 Test Augmentation (Output)\n",
    "## 🖼️ Horizontal Flip Output"
   ]
  },
  {
   "cell_type": "code",
   "execution_count": 41,
   "id": "0b491d34",
   "metadata": {
    "execution": {
     "iopub.execute_input": "2025-07-06T08:26:31.608450Z",
     "iopub.status.busy": "2025-07-06T08:26:31.607735Z",
     "iopub.status.idle": "2025-07-06T08:26:31.611065Z",
     "shell.execute_reply": "2025-07-06T08:26:31.610516Z"
    },
    "papermill": {
     "duration": 0.309504,
     "end_time": "2025-07-06T08:26:31.612115",
     "exception": false,
     "start_time": "2025-07-06T08:26:31.302611",
     "status": "completed"
    },
    "tags": []
   },
   "outputs": [],
   "source": [
    "# flipped_video_1 = horizontal_flip(features[0])\n",
    "\n",
    "# flipped_video_1=np.asarray(flipped_video_1)\n",
    "\n",
    "# show_frame(flipped_video_1[0])\n",
    "# flipped_video_1.shape"
   ]
  },
  {
   "cell_type": "markdown",
   "id": "967bd271",
   "metadata": {
    "papermill": {
     "duration": 0.302722,
     "end_time": "2025-07-06T08:26:32.282004",
     "exception": false,
     "start_time": "2025-07-06T08:26:31.979282",
     "status": "completed"
    },
    "tags": []
   },
   "source": [
    "## 🖼️ Salt and Pepper Noise Output"
   ]
  },
  {
   "cell_type": "code",
   "execution_count": 42,
   "id": "a4ceafa8",
   "metadata": {
    "execution": {
     "iopub.execute_input": "2025-07-06T08:26:32.891932Z",
     "iopub.status.busy": "2025-07-06T08:26:32.891661Z",
     "iopub.status.idle": "2025-07-06T08:26:32.894904Z",
     "shell.execute_reply": "2025-07-06T08:26:32.894349Z"
    },
    "papermill": {
     "duration": 0.308406,
     "end_time": "2025-07-06T08:26:32.895955",
     "exception": false,
     "start_time": "2025-07-06T08:26:32.587549",
     "status": "completed"
    },
    "tags": []
   },
   "outputs": [],
   "source": [
    "# noised_video = noise_video(features[0])\n",
    "\n",
    "# print(noised_video.shape)\n",
    "# show_frame(noised_video[0])"
   ]
  },
  {
   "cell_type": "markdown",
   "id": "2a14da64",
   "metadata": {
    "papermill": {
     "duration": 0.29916,
     "end_time": "2025-07-06T08:26:33.556250",
     "exception": false,
     "start_time": "2025-07-06T08:26:33.257090",
     "status": "completed"
    },
    "tags": []
   },
   "source": [
    "## 🖼️ Random Shear Output"
   ]
  },
  {
   "cell_type": "code",
   "execution_count": 43,
   "id": "20caf5a8",
   "metadata": {
    "execution": {
     "iopub.execute_input": "2025-07-06T08:26:34.258687Z",
     "iopub.status.busy": "2025-07-06T08:26:34.257985Z",
     "iopub.status.idle": "2025-07-06T08:26:34.261926Z",
     "shell.execute_reply": "2025-07-06T08:26:34.261275Z"
    },
    "papermill": {
     "duration": 0.403393,
     "end_time": "2025-07-06T08:26:34.263124",
     "exception": false,
     "start_time": "2025-07-06T08:26:33.859731",
     "status": "completed"
    },
    "tags": []
   },
   "outputs": [],
   "source": [
    "# print(features.shape)\n",
    "\n",
    "# sheared_1 = apply_shear_frames(features[0], shear_right=0)\n",
    "# sheared_2 = apply_shear_frames(features[0], shear_right=1)\n",
    "\n",
    "# sheared_1 = np.asarray(sheared_1)\n",
    "# sheared_2 = np.asarray(sheared_2)\n",
    "\n",
    "# print(sheared_1.shape)\n",
    "# show_frame(sheared_1[0])\n",
    "# show_frame(sheared_2[0])"
   ]
  },
  {
   "cell_type": "markdown",
   "id": "e2da585a",
   "metadata": {
    "papermill": {
     "duration": 0.303631,
     "end_time": "2025-07-06T08:26:34.908390",
     "exception": false,
     "start_time": "2025-07-06T08:26:34.604759",
     "status": "completed"
    },
    "tags": []
   },
   "source": [
    "# 📌 Preparing Data for Training"
   ]
  },
  {
   "cell_type": "code",
   "execution_count": 44,
   "id": "7e70fa8c",
   "metadata": {
    "execution": {
     "iopub.execute_input": "2025-07-06T08:26:35.616491Z",
     "iopub.status.busy": "2025-07-06T08:26:35.615886Z",
     "iopub.status.idle": "2025-07-06T08:26:36.073608Z",
     "shell.execute_reply": "2025-07-06T08:26:36.072934Z"
    },
    "papermill": {
     "duration": 0.865927,
     "end_time": "2025-07-06T08:26:36.076391",
     "exception": false,
     "start_time": "2025-07-06T08:26:35.210464",
     "status": "completed"
    },
    "tags": []
   },
   "outputs": [],
   "source": [
    "# Clear previous session to free memory\n",
    "import gc\n",
    "\n",
    "gc.collect()\n",
    "tf.keras.backend.clear_session()"
   ]
  },
  {
   "cell_type": "markdown",
   "id": "ea89466a",
   "metadata": {
    "papermill": {
     "duration": 0.303268,
     "end_time": "2025-07-06T08:26:36.673208",
     "exception": false,
     "start_time": "2025-07-06T08:26:36.369940",
     "status": "completed"
    },
    "tags": []
   },
   "source": [
    "## Splitting data for ***Trainig*** and ***Testing***"
   ]
  },
  {
   "cell_type": "code",
   "execution_count": 45,
   "id": "c8c356cc",
   "metadata": {
    "execution": {
     "iopub.execute_input": "2025-07-06T08:26:37.328571Z",
     "iopub.status.busy": "2025-07-06T08:26:37.327856Z",
     "iopub.status.idle": "2025-07-06T08:26:39.354171Z",
     "shell.execute_reply": "2025-07-06T08:26:39.353357Z"
    },
    "papermill": {
     "duration": 2.383451,
     "end_time": "2025-07-06T08:26:39.355747",
     "exception": false,
     "start_time": "2025-07-06T08:26:36.972296",
     "status": "completed"
    },
    "tags": []
   },
   "outputs": [
    {
     "data": {
      "text/plain": [
       "((6400, 5, 128, 128, 3), (6400,))"
      ]
     },
     "execution_count": 45,
     "metadata": {},
     "output_type": "execute_result"
    }
   ],
   "source": [
    "videos = video_generator.videos\n",
    "labels = video_generator.labels\n",
    "\n",
    "videos = np.array(videos, dtype='float32')\n",
    "labels = np.array(labels)\n",
    "\n",
    "videos.shape, labels.shape"
   ]
  },
  {
   "cell_type": "code",
   "execution_count": 46,
   "id": "668e70c3",
   "metadata": {
    "execution": {
     "iopub.execute_input": "2025-07-06T08:26:39.954880Z",
     "iopub.status.busy": "2025-07-06T08:26:39.954572Z",
     "iopub.status.idle": "2025-07-06T08:26:39.960461Z",
     "shell.execute_reply": "2025-07-06T08:26:39.959840Z"
    },
    "papermill": {
     "duration": 0.307494,
     "end_time": "2025-07-06T08:26:39.961554",
     "exception": false,
     "start_time": "2025-07-06T08:26:39.654060",
     "status": "completed"
    },
    "tags": []
   },
   "outputs": [
    {
     "data": {
      "text/plain": [
       "(6400, 16)"
      ]
     },
     "execution_count": 46,
     "metadata": {},
     "output_type": "execute_result"
    }
   ],
   "source": [
    "from tensorflow.keras.utils import to_categorical\n",
    "\n",
    "one_hot_encoded_labels = to_categorical(labels)\n",
    "\n",
    "one_hot_encoded_labels.shape"
   ]
  },
  {
   "cell_type": "code",
   "execution_count": 47,
   "id": "07b73e7e",
   "metadata": {
    "execution": {
     "iopub.execute_input": "2025-07-06T08:26:40.630099Z",
     "iopub.status.busy": "2025-07-06T08:26:40.629724Z",
     "iopub.status.idle": "2025-07-06T08:26:40.858555Z",
     "shell.execute_reply": "2025-07-06T08:26:40.857779Z"
    },
    "papermill": {
     "duration": 0.593711,
     "end_time": "2025-07-06T08:26:40.859799",
     "exception": false,
     "start_time": "2025-07-06T08:26:40.266088",
     "status": "completed"
    },
    "tags": []
   },
   "outputs": [
    {
     "data": {
      "text/plain": [
       "0"
      ]
     },
     "execution_count": 47,
     "metadata": {},
     "output_type": "execute_result"
    }
   ],
   "source": [
    "gc.collect()"
   ]
  },
  {
   "cell_type": "code",
   "execution_count": 48,
   "id": "981d8b9d",
   "metadata": {
    "execution": {
     "iopub.execute_input": "2025-07-06T08:26:41.469213Z",
     "iopub.status.busy": "2025-07-06T08:26:41.468706Z",
     "iopub.status.idle": "2025-07-06T08:26:44.187196Z",
     "shell.execute_reply": "2025-07-06T08:26:44.186558Z"
    },
    "papermill": {
     "duration": 3.019717,
     "end_time": "2025-07-06T08:26:44.188377",
     "exception": false,
     "start_time": "2025-07-06T08:26:41.168660",
     "status": "completed"
    },
    "tags": []
   },
   "outputs": [
    {
     "data": {
      "text/plain": [
       "((5120, 5, 128, 128, 3), (5120, 16), (1280, 5, 128, 128, 3), (1280, 16))"
      ]
     },
     "execution_count": 48,
     "metadata": {},
     "output_type": "execute_result"
    }
   ],
   "source": [
    "# RUN Split the Data into Train ( 75% ) and Test Set ( 25% ).\n",
    "from sklearn.model_selection import train_test_split\n",
    "features_train, features_test, labels_train, labels_test = train_test_split(videos,\n",
    "                                                                            one_hot_encoded_labels,\n",
    "                                                                            test_size = TEST_SIZE,\n",
    "                                                                            shuffle = True,\n",
    "                                                                            random_state = seed_constant)\n",
    "\n",
    "features_train.shape, labels_train.shape, features_test.shape, labels_test.shape"
   ]
  },
  {
   "cell_type": "markdown",
   "id": "f5a07d52",
   "metadata": {
    "papermill": {
     "duration": 0.350616,
     "end_time": "2025-07-06T08:26:44.837581",
     "exception": false,
     "start_time": "2025-07-06T08:26:44.486965",
     "status": "completed"
    },
    "tags": []
   },
   "source": [
    "## Splitting data for ***Training Set*** and ***Validation Set***"
   ]
  },
  {
   "cell_type": "code",
   "execution_count": 49,
   "id": "f7df71cf",
   "metadata": {
    "execution": {
     "iopub.execute_input": "2025-07-06T08:26:45.467598Z",
     "iopub.status.busy": "2025-07-06T08:26:45.467256Z",
     "iopub.status.idle": "2025-07-06T08:26:45.473608Z",
     "shell.execute_reply": "2025-07-06T08:26:45.473046Z"
    },
    "papermill": {
     "duration": 0.341525,
     "end_time": "2025-07-06T08:26:45.474682",
     "exception": false,
     "start_time": "2025-07-06T08:26:45.133157",
     "status": "completed"
    },
    "tags": []
   },
   "outputs": [
    {
     "data": {
      "text/plain": [
       "((4096, 5, 128, 128, 3), (4096, 16), (1024, 5, 128, 128, 3), (1024, 16))"
      ]
     },
     "execution_count": 49,
     "metadata": {},
     "output_type": "execute_result"
    }
   ],
   "source": [
    "# Assuming features_train and labels_train are defined\n",
    "train_set = 1-VALIDATION_SPLIT\n",
    "\n",
    "train_video_frames, val_video_frames = features_train[:int(train_set * len(features_train))], features_train[int(train_set * len(features_train)):]\n",
    "train_labels, val_labels = labels_train[:int(train_set * len(labels_train))], labels_train[int(train_set * len(labels_train)):]\n",
    "\n",
    "train_video_frames.shape, train_labels.shape, val_video_frames.shape, val_labels.shape"
   ]
  },
  {
   "cell_type": "markdown",
   "id": "2691a98c",
   "metadata": {
    "papermill": {
     "duration": 0.300428,
     "end_time": "2025-07-06T08:26:46.144923",
     "exception": false,
     "start_time": "2025-07-06T08:26:45.844495",
     "status": "completed"
    },
    "tags": []
   },
   "source": [
    "## Use Generator `Video Data Generator`"
   ]
  },
  {
   "cell_type": "code",
   "execution_count": 50,
   "id": "e7e15d9a",
   "metadata": {
    "execution": {
     "iopub.execute_input": "2025-07-06T08:26:46.746831Z",
     "iopub.status.busy": "2025-07-06T08:26:46.746543Z",
     "iopub.status.idle": "2025-07-06T08:26:46.755611Z",
     "shell.execute_reply": "2025-07-06T08:26:46.754814Z"
    },
    "papermill": {
     "duration": 0.316753,
     "end_time": "2025-07-06T08:26:46.756786",
     "exception": false,
     "start_time": "2025-07-06T08:26:46.440033",
     "status": "completed"
    },
    "tags": []
   },
   "outputs": [
    {
     "name": "stdout",
     "output_type": "stream",
     "text": [
      "Total 4096 videos and 4096 classes\n",
      "Total 1024 videos and 1024 classes\n"
     ]
    },
    {
     "data": {
      "text/plain": [
       "(256, 64)"
      ]
     },
     "execution_count": 50,
     "metadata": {},
     "output_type": "execute_result"
    }
   ],
   "source": [
    "# Create the training and validation generators\n",
    "train_gen = VideoDataGenerator(\n",
    "    videos=train_video_frames, \n",
    "    labels=train_labels, \n",
    "    batch_size=BATCH_SIZE,\n",
    ")\n",
    "\n",
    "val_gen = VideoDataGenerator(\n",
    "    videos=val_video_frames, \n",
    "    labels=val_labels, \n",
    "    batch_size=BATCH_SIZE,\n",
    ")\n",
    "\n",
    "len(train_gen), len(val_gen)"
   ]
  },
  {
   "cell_type": "markdown",
   "id": "74dbf96b",
   "metadata": {
    "papermill": {
     "duration": 0.300121,
     "end_time": "2025-07-06T08:26:47.422520",
     "exception": false,
     "start_time": "2025-07-06T08:26:47.122399",
     "status": "completed"
    },
    "tags": []
   },
   "source": [
    "## Inspect ***Generator*** Data on Epochs"
   ]
  },
  {
   "cell_type": "code",
   "execution_count": 51,
   "id": "921ea58b",
   "metadata": {
    "execution": {
     "iopub.execute_input": "2025-07-06T08:26:48.021762Z",
     "iopub.status.busy": "2025-07-06T08:26:48.021470Z",
     "iopub.status.idle": "2025-07-06T08:26:48.031231Z",
     "shell.execute_reply": "2025-07-06T08:26:48.030517Z"
    },
    "papermill": {
     "duration": 0.309351,
     "end_time": "2025-07-06T08:26:48.032246",
     "exception": false,
     "start_time": "2025-07-06T08:26:47.722895",
     "status": "completed"
    },
    "tags": []
   },
   "outputs": [
    {
     "name": "stdout",
     "output_type": "stream",
     "text": [
      "[   0    1    2 ... 4093 4094 4095]\n",
      "[1355  207 1540 ...  885 3068 2783]\n"
     ]
    },
    {
     "data": {
      "text/plain": [
       "(16, (16, 5, 128, 128, 3), (16, 16))"
      ]
     },
     "execution_count": 51,
     "metadata": {},
     "output_type": "execute_result"
    }
   ],
   "source": [
    "features, labels = train_gen[1]\n",
    "\n",
    "print(train_gen.indices)\n",
    "\n",
    "train_gen.on_epoch_end()\n",
    "\n",
    "print(train_gen.indices)\n",
    "\n",
    "BATCH_SIZE, features.shape, labels.shape"
   ]
  },
  {
   "cell_type": "markdown",
   "id": "9111895e",
   "metadata": {
    "papermill": {
     "duration": 0.301055,
     "end_time": "2025-07-06T08:26:48.688419",
     "exception": false,
     "start_time": "2025-07-06T08:26:48.387364",
     "status": "completed"
    },
    "tags": []
   },
   "source": [
    "## Compute Class Weight"
   ]
  },
  {
   "cell_type": "code",
   "execution_count": 52,
   "id": "c2010255",
   "metadata": {
    "execution": {
     "iopub.execute_input": "2025-07-06T08:26:49.345647Z",
     "iopub.status.busy": "2025-07-06T08:26:49.344921Z",
     "iopub.status.idle": "2025-07-06T08:26:49.356012Z",
     "shell.execute_reply": "2025-07-06T08:26:49.355128Z"
    },
    "papermill": {
     "duration": 0.370583,
     "end_time": "2025-07-06T08:26:49.357279",
     "exception": false,
     "start_time": "2025-07-06T08:26:48.986696",
     "status": "completed"
    },
    "tags": []
   },
   "outputs": [
    {
     "name": "stdout",
     "output_type": "stream",
     "text": [
      "Class weights: {0: 1.0, 1: 1.0, 2: 1.0, 3: 1.0, 4: 1.0, 5: 1.0, 6: 1.0, 7: 1.0, 8: 1.0, 9: 1.0, 10: 1.0, 11: 1.0, 12: 1.0, 13: 1.0, 14: 1.0, 15: 1.0}\n"
     ]
    }
   ],
   "source": [
    "from sklearn.utils.class_weight import compute_class_weight\n",
    "import numpy as np\n",
    "\n",
    "# Assuming y_int are integer labels (not one-hot)\n",
    "y_int = np.argmax(one_hot_encoded_labels, axis=1)  # or just integer labels if you have them\n",
    "\n",
    "classes = np.arange(NO_OF_CLASSES)  # e.g. np.arange(16)\n",
    "class_weights_values = compute_class_weight(class_weight='balanced', classes=classes, y=y_int)\n",
    "\n",
    "class_weights = dict(zip(classes, class_weights_values))\n",
    "\n",
    "print(\"Class weights:\", class_weights)\n"
   ]
  },
  {
   "cell_type": "code",
   "execution_count": 53,
   "id": "ff776618",
   "metadata": {
    "execution": {
     "iopub.execute_input": "2025-07-06T08:26:49.960982Z",
     "iopub.status.busy": "2025-07-06T08:26:49.960606Z",
     "iopub.status.idle": "2025-07-06T08:26:50.207594Z",
     "shell.execute_reply": "2025-07-06T08:26:50.206921Z"
    },
    "papermill": {
     "duration": 0.550567,
     "end_time": "2025-07-06T08:26:50.208747",
     "exception": false,
     "start_time": "2025-07-06T08:26:49.658180",
     "status": "completed"
    },
    "tags": []
   },
   "outputs": [],
   "source": [
    "gc.collect()\n",
    "del videos, one_hot_encoded_labels, labels_train\n",
    "del features_train, val_labels, train_labels\n",
    "del val_video_frames, train_video_frames"
   ]
  },
  {
   "cell_type": "markdown",
   "id": "b130f375",
   "metadata": {
    "papermill": {
     "duration": 0.364002,
     "end_time": "2025-07-06T08:26:50.873560",
     "exception": false,
     "start_time": "2025-07-06T08:26:50.509558",
     "status": "completed"
    },
    "tags": []
   },
   "source": [
    "# ✨ Model Execution\n",
    "## Creating Model"
   ]
  },
  {
   "cell_type": "code",
   "execution_count": 54,
   "id": "c0c393f0",
   "metadata": {
    "execution": {
     "iopub.execute_input": "2025-07-06T08:26:51.476171Z",
     "iopub.status.busy": "2025-07-06T08:26:51.475920Z",
     "iopub.status.idle": "2025-07-06T08:26:52.953150Z",
     "shell.execute_reply": "2025-07-06T08:26:52.952468Z"
    },
    "papermill": {
     "duration": 1.782845,
     "end_time": "2025-07-06T08:26:52.954410",
     "exception": false,
     "start_time": "2025-07-06T08:26:51.171565",
     "status": "completed"
    },
    "tags": []
   },
   "outputs": [
    {
     "name": "stdout",
     "output_type": "stream",
     "text": [
      "Loading Xception base model...\n"
     ]
    },
    {
     "name": "stderr",
     "output_type": "stream",
     "text": [
      "/usr/local/lib/python3.11/dist-packages/keras/src/layers/core/wrapper.py:27: UserWarning: Do not pass an `input_shape`/`input_dim` argument to a layer. When using Sequential models, prefer using an `Input(shape)` object as the first layer in the model instead.\n",
      "  super().__init__(**kwargs)\n"
     ]
    },
    {
     "name": "stdout",
     "output_type": "stream",
     "text": [
      "Model architecture created successfully!\n"
     ]
    },
    {
     "data": {
      "text/html": [
       "<pre style=\"white-space:pre;overflow-x:auto;line-height:normal;font-family:Menlo,'DejaVu Sans Mono',consolas,'Courier New',monospace\"><span style=\"font-weight: bold\">Model: \"sequential\"</span>\n",
       "</pre>\n"
      ],
      "text/plain": [
       "\u001b[1mModel: \"sequential\"\u001b[0m\n"
      ]
     },
     "metadata": {},
     "output_type": "display_data"
    },
    {
     "data": {
      "text/html": [
       "<pre style=\"white-space:pre;overflow-x:auto;line-height:normal;font-family:Menlo,'DejaVu Sans Mono',consolas,'Courier New',monospace\">┏━━━━━━━━━━━━━━━━━━━━━━━━━━━━━━━━━━━━━━┳━━━━━━━━━━━━━━━━━━━━━━━━━━━━━┳━━━━━━━━━━━━━━━━━┓\n",
       "┃<span style=\"font-weight: bold\"> Layer (type)                         </span>┃<span style=\"font-weight: bold\"> Output Shape                </span>┃<span style=\"font-weight: bold\">         Param # </span>┃\n",
       "┡━━━━━━━━━━━━━━━━━━━━━━━━━━━━━━━━━━━━━━╇━━━━━━━━━━━━━━━━━━━━━━━━━━━━━╇━━━━━━━━━━━━━━━━━┩\n",
       "│ time_distributed (<span style=\"color: #0087ff; text-decoration-color: #0087ff\">TimeDistributed</span>)   │ (<span style=\"color: #00d7ff; text-decoration-color: #00d7ff\">None</span>, <span style=\"color: #00af00; text-decoration-color: #00af00\">5</span>, <span style=\"color: #00af00; text-decoration-color: #00af00\">4</span>, <span style=\"color: #00af00; text-decoration-color: #00af00\">4</span>, <span style=\"color: #00af00; text-decoration-color: #00af00\">2048</span>)       │      <span style=\"color: #00af00; text-decoration-color: #00af00\">20,861,480</span> │\n",
       "├──────────────────────────────────────┼─────────────────────────────┼─────────────────┤\n",
       "│ time_distributed_1 (<span style=\"color: #0087ff; text-decoration-color: #0087ff\">TimeDistributed</span>) │ (<span style=\"color: #00d7ff; text-decoration-color: #00d7ff\">None</span>, <span style=\"color: #00af00; text-decoration-color: #00af00\">5</span>, <span style=\"color: #00af00; text-decoration-color: #00af00\">2048</span>)             │               <span style=\"color: #00af00; text-decoration-color: #00af00\">0</span> │\n",
       "├──────────────────────────────────────┼─────────────────────────────┼─────────────────┤\n",
       "│ lstm (<span style=\"color: #0087ff; text-decoration-color: #0087ff\">LSTM</span>)                          │ (<span style=\"color: #00d7ff; text-decoration-color: #00d7ff\">None</span>, <span style=\"color: #00af00; text-decoration-color: #00af00\">512</span>)                 │       <span style=\"color: #00af00; text-decoration-color: #00af00\">5,244,928</span> │\n",
       "├──────────────────────────────────────┼─────────────────────────────┼─────────────────┤\n",
       "│ batch_normalization                  │ (<span style=\"color: #00d7ff; text-decoration-color: #00d7ff\">None</span>, <span style=\"color: #00af00; text-decoration-color: #00af00\">512</span>)                 │           <span style=\"color: #00af00; text-decoration-color: #00af00\">2,048</span> │\n",
       "│ (<span style=\"color: #0087ff; text-decoration-color: #0087ff\">BatchNormalization</span>)                 │                             │                 │\n",
       "├──────────────────────────────────────┼─────────────────────────────┼─────────────────┤\n",
       "│ dropout_lstm (<span style=\"color: #0087ff; text-decoration-color: #0087ff\">Dropout</span>)               │ (<span style=\"color: #00d7ff; text-decoration-color: #00d7ff\">None</span>, <span style=\"color: #00af00; text-decoration-color: #00af00\">512</span>)                 │               <span style=\"color: #00af00; text-decoration-color: #00af00\">0</span> │\n",
       "├──────────────────────────────────────┼─────────────────────────────┼─────────────────┤\n",
       "│ dense (<span style=\"color: #0087ff; text-decoration-color: #0087ff\">Dense</span>)                        │ (<span style=\"color: #00d7ff; text-decoration-color: #00d7ff\">None</span>, <span style=\"color: #00af00; text-decoration-color: #00af00\">512</span>)                 │         <span style=\"color: #00af00; text-decoration-color: #00af00\">262,656</span> │\n",
       "├──────────────────────────────────────┼─────────────────────────────┼─────────────────┤\n",
       "│ dropout_dense (<span style=\"color: #0087ff; text-decoration-color: #0087ff\">Dropout</span>)              │ (<span style=\"color: #00d7ff; text-decoration-color: #00d7ff\">None</span>, <span style=\"color: #00af00; text-decoration-color: #00af00\">512</span>)                 │               <span style=\"color: #00af00; text-decoration-color: #00af00\">0</span> │\n",
       "├──────────────────────────────────────┼─────────────────────────────┼─────────────────┤\n",
       "│ dense_1 (<span style=\"color: #0087ff; text-decoration-color: #0087ff\">Dense</span>)                      │ (<span style=\"color: #00d7ff; text-decoration-color: #00d7ff\">None</span>, <span style=\"color: #00af00; text-decoration-color: #00af00\">16</span>)                  │           <span style=\"color: #00af00; text-decoration-color: #00af00\">8,208</span> │\n",
       "└──────────────────────────────────────┴─────────────────────────────┴─────────────────┘\n",
       "</pre>\n"
      ],
      "text/plain": [
       "┏━━━━━━━━━━━━━━━━━━━━━━━━━━━━━━━━━━━━━━┳━━━━━━━━━━━━━━━━━━━━━━━━━━━━━┳━━━━━━━━━━━━━━━━━┓\n",
       "┃\u001b[1m \u001b[0m\u001b[1mLayer (type)                        \u001b[0m\u001b[1m \u001b[0m┃\u001b[1m \u001b[0m\u001b[1mOutput Shape               \u001b[0m\u001b[1m \u001b[0m┃\u001b[1m \u001b[0m\u001b[1m        Param #\u001b[0m\u001b[1m \u001b[0m┃\n",
       "┡━━━━━━━━━━━━━━━━━━━━━━━━━━━━━━━━━━━━━━╇━━━━━━━━━━━━━━━━━━━━━━━━━━━━━╇━━━━━━━━━━━━━━━━━┩\n",
       "│ time_distributed (\u001b[38;5;33mTimeDistributed\u001b[0m)   │ (\u001b[38;5;45mNone\u001b[0m, \u001b[38;5;34m5\u001b[0m, \u001b[38;5;34m4\u001b[0m, \u001b[38;5;34m4\u001b[0m, \u001b[38;5;34m2048\u001b[0m)       │      \u001b[38;5;34m20,861,480\u001b[0m │\n",
       "├──────────────────────────────────────┼─────────────────────────────┼─────────────────┤\n",
       "│ time_distributed_1 (\u001b[38;5;33mTimeDistributed\u001b[0m) │ (\u001b[38;5;45mNone\u001b[0m, \u001b[38;5;34m5\u001b[0m, \u001b[38;5;34m2048\u001b[0m)             │               \u001b[38;5;34m0\u001b[0m │\n",
       "├──────────────────────────────────────┼─────────────────────────────┼─────────────────┤\n",
       "│ lstm (\u001b[38;5;33mLSTM\u001b[0m)                          │ (\u001b[38;5;45mNone\u001b[0m, \u001b[38;5;34m512\u001b[0m)                 │       \u001b[38;5;34m5,244,928\u001b[0m │\n",
       "├──────────────────────────────────────┼─────────────────────────────┼─────────────────┤\n",
       "│ batch_normalization                  │ (\u001b[38;5;45mNone\u001b[0m, \u001b[38;5;34m512\u001b[0m)                 │           \u001b[38;5;34m2,048\u001b[0m │\n",
       "│ (\u001b[38;5;33mBatchNormalization\u001b[0m)                 │                             │                 │\n",
       "├──────────────────────────────────────┼─────────────────────────────┼─────────────────┤\n",
       "│ dropout_lstm (\u001b[38;5;33mDropout\u001b[0m)               │ (\u001b[38;5;45mNone\u001b[0m, \u001b[38;5;34m512\u001b[0m)                 │               \u001b[38;5;34m0\u001b[0m │\n",
       "├──────────────────────────────────────┼─────────────────────────────┼─────────────────┤\n",
       "│ dense (\u001b[38;5;33mDense\u001b[0m)                        │ (\u001b[38;5;45mNone\u001b[0m, \u001b[38;5;34m512\u001b[0m)                 │         \u001b[38;5;34m262,656\u001b[0m │\n",
       "├──────────────────────────────────────┼─────────────────────────────┼─────────────────┤\n",
       "│ dropout_dense (\u001b[38;5;33mDropout\u001b[0m)              │ (\u001b[38;5;45mNone\u001b[0m, \u001b[38;5;34m512\u001b[0m)                 │               \u001b[38;5;34m0\u001b[0m │\n",
       "├──────────────────────────────────────┼─────────────────────────────┼─────────────────┤\n",
       "│ dense_1 (\u001b[38;5;33mDense\u001b[0m)                      │ (\u001b[38;5;45mNone\u001b[0m, \u001b[38;5;34m16\u001b[0m)                  │           \u001b[38;5;34m8,208\u001b[0m │\n",
       "└──────────────────────────────────────┴─────────────────────────────┴─────────────────┘\n"
      ]
     },
     "metadata": {},
     "output_type": "display_data"
    },
    {
     "data": {
      "text/html": [
       "<pre style=\"white-space:pre;overflow-x:auto;line-height:normal;font-family:Menlo,'DejaVu Sans Mono',consolas,'Courier New',monospace\"><span style=\"font-weight: bold\"> Total params: </span><span style=\"color: #00af00; text-decoration-color: #00af00\">26,379,320</span> (100.63 MB)\n",
       "</pre>\n"
      ],
      "text/plain": [
       "\u001b[1m Total params: \u001b[0m\u001b[38;5;34m26,379,320\u001b[0m (100.63 MB)\n"
      ]
     },
     "metadata": {},
     "output_type": "display_data"
    },
    {
     "data": {
      "text/html": [
       "<pre style=\"white-space:pre;overflow-x:auto;line-height:normal;font-family:Menlo,'DejaVu Sans Mono',consolas,'Courier New',monospace\"><span style=\"font-weight: bold\"> Trainable params: </span><span style=\"color: #00af00; text-decoration-color: #00af00\">26,323,768</span> (100.42 MB)\n",
       "</pre>\n"
      ],
      "text/plain": [
       "\u001b[1m Trainable params: \u001b[0m\u001b[38;5;34m26,323,768\u001b[0m (100.42 MB)\n"
      ]
     },
     "metadata": {},
     "output_type": "display_data"
    },
    {
     "data": {
      "text/html": [
       "<pre style=\"white-space:pre;overflow-x:auto;line-height:normal;font-family:Menlo,'DejaVu Sans Mono',consolas,'Courier New',monospace\"><span style=\"font-weight: bold\"> Non-trainable params: </span><span style=\"color: #00af00; text-decoration-color: #00af00\">55,552</span> (217.00 KB)\n",
       "</pre>\n"
      ],
      "text/plain": [
       "\u001b[1m Non-trainable params: \u001b[0m\u001b[38;5;34m55,552\u001b[0m (217.00 KB)\n"
      ]
     },
     "metadata": {},
     "output_type": "display_data"
    },
    {
     "name": "stdout",
     "output_type": "stream",
     "text": [
      "Model Created Successfully!\n"
     ]
    }
   ],
   "source": [
    "# Create the model\n",
    "xlstm_model = create_xception_lstm_model(\n",
    "    sequence_length=SEQUENCE_LENGTH,\n",
    "    image_height=IMAGE_HEIGHT,\n",
    "    image_width=IMAGE_WIDTH,\n",
    "    classes_list=CLASSES_LIST,\n",
    "    dropout_rate=DROPOUT_RATE\n",
    ")\n",
    "\n",
    "# Check if model was created successfully\n",
    "if xlstm_model is None:\n",
    "    print(\"Failed to create model. Check error messages above.\")\n",
    "else:\n",
    "    print(\"Model Created Successfully!\")"
   ]
  },
  {
   "cell_type": "markdown",
   "id": "5d342ae0",
   "metadata": {
    "papermill": {
     "duration": 0.363635,
     "end_time": "2025-07-06T08:26:53.621793",
     "exception": false,
     "start_time": "2025-07-06T08:26:53.258158",
     "status": "completed"
    },
    "tags": []
   },
   "source": [
    "## Plot Model Structure"
   ]
  },
  {
   "cell_type": "code",
   "execution_count": 55,
   "id": "b7a86d90",
   "metadata": {
    "execution": {
     "iopub.execute_input": "2025-07-06T08:26:54.219792Z",
     "iopub.status.busy": "2025-07-06T08:26:54.219149Z",
     "iopub.status.idle": "2025-07-06T08:26:54.756959Z",
     "shell.execute_reply": "2025-07-06T08:26:54.756144Z"
    },
    "papermill": {
     "duration": 0.841218,
     "end_time": "2025-07-06T08:26:54.758044",
     "exception": false,
     "start_time": "2025-07-06T08:26:53.916826",
     "status": "completed"
    },
    "tags": []
   },
   "outputs": [
    {
     "name": "stdout",
     "output_type": "stream",
     "text": [
      "Xception Model Plot saved successfully...\n"
     ]
    }
   ],
   "source": [
    "# Plot the structure of the contructed model.\n",
    "from tensorflow.keras.utils import plot_model\n",
    "\n",
    "plot_model(xlstm_model, to_file = f'{MODEL_NAME}_model_Plot.png', show_shapes = True, show_layer_names = True)\n",
    "\n",
    "print(f\"{MODEL_NAME} Model Plot saved successfully...\")"
   ]
  },
  {
   "cell_type": "markdown",
   "id": "6aa69e60",
   "metadata": {
    "papermill": {
     "duration": 0.330944,
     "end_time": "2025-07-06T08:26:55.446628",
     "exception": false,
     "start_time": "2025-07-06T08:26:55.115684",
     "status": "completed"
    },
    "tags": []
   },
   "source": [
    "## Model Compile"
   ]
  },
  {
   "cell_type": "code",
   "execution_count": 56,
   "id": "1ea72806",
   "metadata": {
    "execution": {
     "iopub.execute_input": "2025-07-06T08:26:56.058019Z",
     "iopub.status.busy": "2025-07-06T08:26:56.057262Z",
     "iopub.status.idle": "2025-07-06T08:26:56.075139Z",
     "shell.execute_reply": "2025-07-06T08:26:56.074579Z"
    },
    "papermill": {
     "duration": 0.322889,
     "end_time": "2025-07-06T08:26:56.076269",
     "exception": false,
     "start_time": "2025-07-06T08:26:55.753380",
     "status": "completed"
    },
    "tags": []
   },
   "outputs": [],
   "source": [
    "# Create an Instance of Early Stopping Callback\n",
    "from tensorflow.keras.callbacks import EarlyStopping\n",
    "\n",
    "early_stopping_callback = EarlyStopping(monitor = 'val_loss', \n",
    "                                        patience = 7, \n",
    "                                        mode = 'min', \n",
    "                                        restore_best_weights = True)\n",
    "\n",
    "# Compile the model and specify loss function, optimizer and metrics values to the model\n",
    "xlstm_model.compile(loss = 'categorical_crossentropy', \n",
    "                    optimizer=tf.keras.optimizers.Adam(learning_rate=0.0001),\n",
    "                    metrics = [\"accuracy\"])\n"
   ]
  },
  {
   "cell_type": "markdown",
   "id": "3ef22a97",
   "metadata": {
    "papermill": {
     "duration": 0.305326,
     "end_time": "2025-07-06T08:26:56.750693",
     "exception": false,
     "start_time": "2025-07-06T08:26:56.445367",
     "status": "completed"
    },
    "tags": []
   },
   "source": [
    "## 💪 Model Fit"
   ]
  },
  {
   "cell_type": "code",
   "execution_count": 57,
   "id": "75564c60",
   "metadata": {
    "execution": {
     "iopub.execute_input": "2025-07-06T08:26:57.354403Z",
     "iopub.status.busy": "2025-07-06T08:26:57.353778Z",
     "iopub.status.idle": "2025-07-06T08:26:57.362154Z",
     "shell.execute_reply": "2025-07-06T08:26:57.361274Z"
    },
    "papermill": {
     "duration": 0.30983,
     "end_time": "2025-07-06T08:26:57.363340",
     "exception": false,
     "start_time": "2025-07-06T08:26:57.053510",
     "status": "completed"
    },
    "tags": []
   },
   "outputs": [
    {
     "name": "stdout",
     "output_type": "stream",
     "text": [
      "Unique labels: [ 0  1  2  3  4  5  6  7  8  9 10 11 12 13 14 15]\n",
      "NO_OF_CLASSES: 16\n"
     ]
    }
   ],
   "source": [
    "labels = np.argmax(train_gen.labels, axis=1)  # assuming one-hot encoded\n",
    "print(\"Unique labels:\", np.unique(labels))\n",
    "print(\"NO_OF_CLASSES:\", NO_OF_CLASSES)\n"
   ]
  },
  {
   "cell_type": "code",
   "execution_count": 58,
   "id": "2c0b09a0",
   "metadata": {
    "execution": {
     "iopub.execute_input": "2025-07-06T08:26:58.032671Z",
     "iopub.status.busy": "2025-07-06T08:26:58.032144Z",
     "iopub.status.idle": "2025-07-06T08:26:58.040207Z",
     "shell.execute_reply": "2025-07-06T08:26:58.039374Z"
    },
    "papermill": {
     "duration": 0.309778,
     "end_time": "2025-07-06T08:26:58.041364",
     "exception": false,
     "start_time": "2025-07-06T08:26:57.731586",
     "status": "completed"
    },
    "tags": []
   },
   "outputs": [
    {
     "name": "stdout",
     "output_type": "stream",
     "text": [
      "Train label shape: (4096, 16)\n",
      "Val label shape: (1024, 16)\n"
     ]
    }
   ],
   "source": [
    "print(\"Train label shape:\", np.shape(train_gen.labels))\n",
    "print(\"Val label shape:\", np.shape(val_gen.labels))\n"
   ]
  },
  {
   "cell_type": "code",
   "execution_count": 59,
   "id": "2d282183",
   "metadata": {
    "execution": {
     "iopub.execute_input": "2025-07-06T08:26:58.648469Z",
     "iopub.status.busy": "2025-07-06T08:26:58.647889Z",
     "iopub.status.idle": "2025-07-06T09:55:24.512627Z",
     "shell.execute_reply": "2025-07-06T09:55:24.511866Z"
    },
    "papermill": {
     "duration": 5306.172146,
     "end_time": "2025-07-06T09:55:24.514075",
     "exception": false,
     "start_time": "2025-07-06T08:26:58.341929",
     "status": "completed"
    },
    "tags": []
   },
   "outputs": [
    {
     "name": "stdout",
     "output_type": "stream",
     "text": [
      "Dataset - Precis Har Rgb\n",
      "There are total 16 classes, selected 16 classes\n",
      "Setting 50 videos/class to train the model.\n",
      "Image size 128x128 with 5 sequence length\n",
      "Dropout rate: 0.5\n",
      "Train-Test split ratio 80/20\n",
      "Validation data from Train set 20.0%\n",
      "\n",
      "\n",
      "Training started for 4096 videos of 16 classes with 1024 videos for validation...\n",
      "Epoch 1/30\n"
     ]
    },
    {
     "name": "stderr",
     "output_type": "stream",
     "text": [
      "I0000 00:00:1751790481.980874      88 cuda_dnn.cc:529] Loaded cuDNN version 90300\n"
     ]
    },
    {
     "name": "stdout",
     "output_type": "stream",
     "text": [
      "    256/Unknown \u001b[1m232s\u001b[0m 641ms/step - accuracy: 0.1788 - loss: 26.4634"
     ]
    },
    {
     "name": "stderr",
     "output_type": "stream",
     "text": [
      "/usr/local/lib/python3.11/dist-packages/keras/src/trainers/epoch_iterator.py:151: UserWarning: Your input ran out of data; interrupting training. Make sure that your dataset or generator can generate at least `steps_per_epoch * epochs` batches. You may need to use the `.repeat()` function when building your dataset.\n",
      "  self._interrupted_warning()\n"
     ]
    },
    {
     "name": "stdout",
     "output_type": "stream",
     "text": [
      "\u001b[1m256/256\u001b[0m \u001b[32m━━━━━━━━━━━━━━━━━━━━\u001b[0m\u001b[37m\u001b[0m \u001b[1m247s\u001b[0m 701ms/step - accuracy: 0.1791 - loss: 26.4519 - val_accuracy: 0.4980 - val_loss: 18.6891 - learning_rate: 1.0000e-04\n",
      "Epoch 2/30\n",
      "\u001b[1m256/256\u001b[0m \u001b[32m━━━━━━━━━━━━━━━━━━━━\u001b[0m\u001b[37m\u001b[0m \u001b[1m174s\u001b[0m 680ms/step - accuracy: 0.4728 - loss: 16.1074 - val_accuracy: 0.6455 - val_loss: 11.7762 - learning_rate: 1.0000e-04\n",
      "Epoch 3/30\n",
      "\u001b[1m256/256\u001b[0m \u001b[32m━━━━━━━━━━━━━━━━━━━━\u001b[0m\u001b[37m\u001b[0m \u001b[1m174s\u001b[0m 678ms/step - accuracy: 0.6716 - loss: 10.7859 - val_accuracy: 0.7295 - val_loss: 8.8715 - learning_rate: 1.0000e-04\n",
      "Epoch 4/30\n",
      "\u001b[1m256/256\u001b[0m \u001b[32m━━━━━━━━━━━━━━━━━━━━\u001b[0m\u001b[37m\u001b[0m \u001b[1m174s\u001b[0m 680ms/step - accuracy: 0.8027 - loss: 8.3415 - val_accuracy: 0.7490 - val_loss: 7.6155 - learning_rate: 1.0000e-04\n",
      "Epoch 5/30\n",
      "\u001b[1m256/256\u001b[0m \u001b[32m━━━━━━━━━━━━━━━━━━━━\u001b[0m\u001b[37m\u001b[0m \u001b[1m174s\u001b[0m 681ms/step - accuracy: 0.8726 - loss: 6.9722 - val_accuracy: 0.7900 - val_loss: 6.6459 - learning_rate: 1.0000e-04\n",
      "Epoch 6/30\n",
      "\u001b[1m256/256\u001b[0m \u001b[32m━━━━━━━━━━━━━━━━━━━━\u001b[0m\u001b[37m\u001b[0m \u001b[1m174s\u001b[0m 680ms/step - accuracy: 0.9149 - loss: 5.9350 - val_accuracy: 0.7979 - val_loss: 5.8310 - learning_rate: 1.0000e-04\n",
      "Epoch 7/30\n",
      "\u001b[1m256/256\u001b[0m \u001b[32m━━━━━━━━━━━━━━━━━━━━\u001b[0m\u001b[37m\u001b[0m \u001b[1m174s\u001b[0m 679ms/step - accuracy: 0.9551 - loss: 4.9852 - val_accuracy: 0.8018 - val_loss: 5.0170 - learning_rate: 1.0000e-04\n",
      "Epoch 8/30\n",
      "\u001b[1m256/256\u001b[0m \u001b[32m━━━━━━━━━━━━━━━━━━━━\u001b[0m\u001b[37m\u001b[0m \u001b[1m174s\u001b[0m 679ms/step - accuracy: 0.9707 - loss: 4.1798 - val_accuracy: 0.8291 - val_loss: 4.1094 - learning_rate: 1.0000e-04\n",
      "Epoch 9/30\n",
      "\u001b[1m256/256\u001b[0m \u001b[32m━━━━━━━━━━━━━━━━━━━━\u001b[0m\u001b[37m\u001b[0m \u001b[1m173s\u001b[0m 677ms/step - accuracy: 0.9830 - loss: 3.4432 - val_accuracy: 0.8232 - val_loss: 3.5000 - learning_rate: 1.0000e-04\n",
      "Epoch 10/30\n",
      "\u001b[1m256/256\u001b[0m \u001b[32m━━━━━━━━━━━━━━━━━━━━\u001b[0m\u001b[37m\u001b[0m \u001b[1m174s\u001b[0m 679ms/step - accuracy: 0.9853 - loss: 2.7938 - val_accuracy: 0.8369 - val_loss: 2.8812 - learning_rate: 1.0000e-04\n",
      "Epoch 11/30\n",
      "\u001b[1m256/256\u001b[0m \u001b[32m━━━━━━━━━━━━━━━━━━━━\u001b[0m\u001b[37m\u001b[0m \u001b[1m174s\u001b[0m 680ms/step - accuracy: 0.9876 - loss: 2.2327 - val_accuracy: 0.8291 - val_loss: 2.3866 - learning_rate: 1.0000e-04\n",
      "Epoch 12/30\n",
      "\u001b[1m256/256\u001b[0m \u001b[32m━━━━━━━━━━━━━━━━━━━━\u001b[0m\u001b[37m\u001b[0m \u001b[1m174s\u001b[0m 680ms/step - accuracy: 0.9815 - loss: 1.7738 - val_accuracy: 0.8398 - val_loss: 1.9447 - learning_rate: 1.0000e-04\n",
      "Epoch 13/30\n",
      "\u001b[1m256/256\u001b[0m \u001b[32m━━━━━━━━━━━━━━━━━━━━\u001b[0m\u001b[37m\u001b[0m \u001b[1m175s\u001b[0m 682ms/step - accuracy: 0.9897 - loss: 1.3604 - val_accuracy: 0.8516 - val_loss: 1.5825 - learning_rate: 1.0000e-04\n",
      "Epoch 14/30\n",
      "\u001b[1m256/256\u001b[0m \u001b[32m━━━━━━━━━━━━━━━━━━━━\u001b[0m\u001b[37m\u001b[0m \u001b[1m175s\u001b[0m 682ms/step - accuracy: 0.9939 - loss: 1.0235 - val_accuracy: 0.8398 - val_loss: 1.3307 - learning_rate: 1.0000e-04\n",
      "Epoch 15/30\n",
      "\u001b[1m256/256\u001b[0m \u001b[32m━━━━━━━━━━━━━━━━━━━━\u001b[0m\u001b[37m\u001b[0m \u001b[1m175s\u001b[0m 684ms/step - accuracy: 0.9942 - loss: 0.7706 - val_accuracy: 0.8594 - val_loss: 1.0965 - learning_rate: 1.0000e-04\n",
      "Epoch 16/30\n",
      "\u001b[1m256/256\u001b[0m \u001b[32m━━━━━━━━━━━━━━━━━━━━\u001b[0m\u001b[37m\u001b[0m \u001b[1m175s\u001b[0m 682ms/step - accuracy: 0.9870 - loss: 0.5994 - val_accuracy: 0.8545 - val_loss: 0.9687 - learning_rate: 1.0000e-04\n",
      "Epoch 17/30\n",
      "\u001b[1m256/256\u001b[0m \u001b[32m━━━━━━━━━━━━━━━━━━━━\u001b[0m\u001b[37m\u001b[0m \u001b[1m175s\u001b[0m 684ms/step - accuracy: 0.9875 - loss: 0.4538 - val_accuracy: 0.8418 - val_loss: 0.9275 - learning_rate: 1.0000e-04\n",
      "Epoch 18/30\n",
      "\u001b[1m256/256\u001b[0m \u001b[32m━━━━━━━━━━━━━━━━━━━━\u001b[0m\u001b[37m\u001b[0m \u001b[1m175s\u001b[0m 683ms/step - accuracy: 0.9834 - loss: 0.3957 - val_accuracy: 0.8135 - val_loss: 0.9549 - learning_rate: 1.0000e-04\n",
      "Epoch 19/30\n",
      "\u001b[1m256/256\u001b[0m \u001b[32m━━━━━━━━━━━━━━━━━━━━\u001b[0m\u001b[37m\u001b[0m \u001b[1m175s\u001b[0m 683ms/step - accuracy: 0.9748 - loss: 0.3636 - val_accuracy: 0.8154 - val_loss: 0.8701 - learning_rate: 1.0000e-04\n",
      "Epoch 20/30\n",
      "\u001b[1m256/256\u001b[0m \u001b[32m━━━━━━━━━━━━━━━━━━━━\u001b[0m\u001b[37m\u001b[0m \u001b[1m175s\u001b[0m 683ms/step - accuracy: 0.9727 - loss: 0.3422 - val_accuracy: 0.8115 - val_loss: 0.8707 - learning_rate: 1.0000e-04\n",
      "Epoch 21/30\n",
      "\u001b[1m256/256\u001b[0m \u001b[32m━━━━━━━━━━━━━━━━━━━━\u001b[0m\u001b[37m\u001b[0m \u001b[1m175s\u001b[0m 682ms/step - accuracy: 0.9752 - loss: 0.3005 - val_accuracy: 0.8164 - val_loss: 0.8167 - learning_rate: 1.0000e-04\n",
      "Epoch 22/30\n",
      "\u001b[1m256/256\u001b[0m \u001b[32m━━━━━━━━━━━━━━━━━━━━\u001b[0m\u001b[37m\u001b[0m \u001b[1m175s\u001b[0m 683ms/step - accuracy: 0.9801 - loss: 0.2480 - val_accuracy: 0.8652 - val_loss: 0.6449 - learning_rate: 1.0000e-04\n",
      "Epoch 23/30\n",
      "\u001b[1m256/256\u001b[0m \u001b[32m━━━━━━━━━━━━━━━━━━━━\u001b[0m\u001b[37m\u001b[0m \u001b[1m175s\u001b[0m 684ms/step - accuracy: 0.9879 - loss: 0.1947 - val_accuracy: 0.8701 - val_loss: 0.6132 - learning_rate: 1.0000e-04\n",
      "Epoch 24/30\n",
      "\u001b[1m256/256\u001b[0m \u001b[32m━━━━━━━━━━━━━━━━━━━━\u001b[0m\u001b[37m\u001b[0m \u001b[1m175s\u001b[0m 682ms/step - accuracy: 0.9956 - loss: 0.1523 - val_accuracy: 0.8818 - val_loss: 0.5241 - learning_rate: 1.0000e-04\n",
      "Epoch 25/30\n",
      "\u001b[1m256/256\u001b[0m \u001b[32m━━━━━━━━━━━━━━━━━━━━\u001b[0m\u001b[37m\u001b[0m \u001b[1m175s\u001b[0m 683ms/step - accuracy: 0.9985 - loss: 0.1146 - val_accuracy: 0.8857 - val_loss: 0.5050 - learning_rate: 1.0000e-04\n",
      "Epoch 26/30\n",
      "\u001b[1m256/256\u001b[0m \u001b[32m━━━━━━━━━━━━━━━━━━━━\u001b[0m\u001b[37m\u001b[0m \u001b[1m175s\u001b[0m 682ms/step - accuracy: 0.9984 - loss: 0.0936 - val_accuracy: 0.8955 - val_loss: 0.4388 - learning_rate: 1.0000e-04\n",
      "Epoch 27/30\n",
      "\u001b[1m256/256\u001b[0m \u001b[32m━━━━━━━━━━━━━━━━━━━━\u001b[0m\u001b[37m\u001b[0m \u001b[1m174s\u001b[0m 681ms/step - accuracy: 0.9953 - loss: 0.0932 - val_accuracy: 0.8936 - val_loss: 0.4516 - learning_rate: 1.0000e-04\n",
      "Epoch 28/30\n",
      "\u001b[1m256/256\u001b[0m \u001b[32m━━━━━━━━━━━━━━━━━━━━\u001b[0m\u001b[37m\u001b[0m \u001b[1m175s\u001b[0m 682ms/step - accuracy: 0.9991 - loss: 0.0702 - val_accuracy: 0.8965 - val_loss: 0.4170 - learning_rate: 1.0000e-04\n",
      "Epoch 29/30\n",
      "\u001b[1m256/256\u001b[0m \u001b[32m━━━━━━━━━━━━━━━━━━━━\u001b[0m\u001b[37m\u001b[0m \u001b[1m174s\u001b[0m 681ms/step - accuracy: 0.9985 - loss: 0.0645 - val_accuracy: 0.8867 - val_loss: 0.4745 - learning_rate: 1.0000e-04\n",
      "Epoch 30/30\n",
      "\u001b[1m256/256\u001b[0m \u001b[32m━━━━━━━━━━━━━━━━━━━━\u001b[0m\u001b[37m\u001b[0m \u001b[1m174s\u001b[0m 682ms/step - accuracy: 0.9957 - loss: 0.0729 - val_accuracy: 0.8994 - val_loss: 0.3951 - learning_rate: 1.0000e-04\n"
     ]
    }
   ],
   "source": [
    "from tensorflow.keras.callbacks import ReduceLROnPlateau\n",
    "\n",
    "lr_scheduler = ReduceLROnPlateau(monitor='val_loss', \n",
    "                                 factor=0.5, \n",
    "                                 patience=3, \n",
    "                                 min_lr=1e-6)\n",
    "\n",
    "\n",
    "\n",
    "print(f\"Dataset - {DATASET_NAME}\")\n",
    "print(f\"There are total {len(ALL_CLASS_NAMES)} classes, selected {NO_OF_CLASSES} classes\")\n",
    "print(f\"Setting {MAX_VIDEO_PER_CLASS} videos/class to train the model.\")\n",
    "print(f\"Image size {IMAGE_HEIGHT}x{IMAGE_WIDTH} with {SEQUENCE_LENGTH} sequence length\")\n",
    "print(f\"Dropout rate: {DROPOUT_RATE}\")\n",
    "print(f\"Train-Test split ratio {int((1-TEST_SIZE)*100)}/{int(TEST_SIZE*100)}\")\n",
    "print(f\"Validation data from Train set {VALIDATION_SPLIT*100}%\")\n",
    "\n",
    "print(\"\\n\")\n",
    "\n",
    "print(f\"Training started for {len(train_gen.videos)} videos of {NO_OF_CLASSES} classes with {len(val_gen.videos)} videos for validation...\")\n",
    "\n",
    "model_history = xlstm_model.fit(\n",
    "    train_gen.as_dataset(),\n",
    "    validation_data=val_gen.as_dataset(),\n",
    "    epochs=EPOCHS,\n",
    "    # class_weight=class_weight_dict,\n",
    "    callbacks=[early_stopping_callback, lr_scheduler]\n",
    ")"
   ]
  },
  {
   "cell_type": "markdown",
   "id": "71aa826d",
   "metadata": {
    "papermill": {
     "duration": 0.648202,
     "end_time": "2025-07-06T09:55:25.845185",
     "exception": false,
     "start_time": "2025-07-06T09:55:25.196983",
     "status": "completed"
    },
    "tags": []
   },
   "source": [
    "# Evaluation"
   ]
  },
  {
   "cell_type": "markdown",
   "id": "278f9017",
   "metadata": {
    "papermill": {
     "duration": 0.618837,
     "end_time": "2025-07-06T09:55:27.151729",
     "exception": false,
     "start_time": "2025-07-06T09:55:26.532892",
     "status": "completed"
    },
    "tags": []
   },
   "source": [
    "## ⚡ Model Evaluate"
   ]
  },
  {
   "cell_type": "code",
   "execution_count": 60,
   "id": "38764ed0",
   "metadata": {
    "execution": {
     "iopub.execute_input": "2025-07-06T09:55:28.461977Z",
     "iopub.status.busy": "2025-07-06T09:55:28.461189Z",
     "iopub.status.idle": "2025-07-06T09:55:43.508568Z",
     "shell.execute_reply": "2025-07-06T09:55:43.507782Z"
    },
    "papermill": {
     "duration": 15.733396,
     "end_time": "2025-07-06T09:55:43.509859",
     "exception": false,
     "start_time": "2025-07-06T09:55:27.776463",
     "status": "completed"
    },
    "tags": []
   },
   "outputs": [
    {
     "name": "stdout",
     "output_type": "stream",
     "text": [
      "\u001b[1m40/40\u001b[0m \u001b[32m━━━━━━━━━━━━━━━━━━━━\u001b[0m\u001b[37m\u001b[0m \u001b[1m12s\u001b[0m 281ms/step - accuracy: 0.8959 - loss: 0.4017\n"
     ]
    }
   ],
   "source": [
    "# previous code\n",
    "model_evaluation_history = xlstm_model.evaluate(features_test, labels_test)"
   ]
  },
  {
   "cell_type": "code",
   "execution_count": 61,
   "id": "0ca881fa",
   "metadata": {
    "execution": {
     "iopub.execute_input": "2025-07-06T09:55:44.815142Z",
     "iopub.status.busy": "2025-07-06T09:55:44.814895Z",
     "iopub.status.idle": "2025-07-06T09:55:45.191140Z",
     "shell.execute_reply": "2025-07-06T09:55:45.190499Z"
    },
    "papermill": {
     "duration": 0.995159,
     "end_time": "2025-07-06T09:55:45.192711",
     "exception": false,
     "start_time": "2025-07-06T09:55:44.197552",
     "status": "completed"
    },
    "tags": []
   },
   "outputs": [
    {
     "data": {
      "image/png": "[encoded data removed]",
      "text/plain": [
       "<Figure size 1200x500 with 2 Axes>"
      ]
     },
     "metadata": {},
     "output_type": "display_data"
    }
   ],
   "source": [
    "import matplotlib.pyplot as plt\n",
    "\n",
    "# Accuracy\n",
    "plt.figure(figsize=(12, 5))\n",
    "\n",
    "plt.subplot(1, 2, 1)\n",
    "plt.plot(model_history.history['accuracy'], label='Train Accuracy')\n",
    "plt.plot(model_history.history['val_accuracy'], label='Validation Accuracy')\n",
    "plt.title('Model Accuracy')\n",
    "plt.xlabel('Epoch')\n",
    "plt.ylabel('Accuracy')\n",
    "plt.legend()\n",
    "\n",
    "# Loss\n",
    "plt.subplot(1, 2, 2)\n",
    "plt.plot(model_history.history['loss'], label='Train Loss')\n",
    "plt.plot(model_history.history['val_loss'], label='Validation Loss')\n",
    "plt.title('Model Loss')\n",
    "plt.xlabel('Epoch')\n",
    "plt.ylabel('Loss')\n",
    "plt.legend()\n",
    "\n",
    "plt.tight_layout()\n",
    "plt.show()\n"
   ]
  },
  {
   "cell_type": "markdown",
   "id": "7950b6f3",
   "metadata": {
    "papermill": {
     "duration": 0.678683,
     "end_time": "2025-07-06T09:55:46.525988",
     "exception": false,
     "start_time": "2025-07-06T09:55:45.847305",
     "status": "completed"
    },
    "tags": []
   },
   "source": [
    "## 📈 Confusion Matrix"
   ]
  },
  {
   "cell_type": "code",
   "execution_count": 62,
   "id": "5ba3007c",
   "metadata": {
    "execution": {
     "iopub.execute_input": "2025-07-06T09:55:47.829246Z",
     "iopub.status.busy": "2025-07-06T09:55:47.828704Z",
     "iopub.status.idle": "2025-07-06T09:56:11.238902Z",
     "shell.execute_reply": "2025-07-06T09:56:11.238211Z"
    },
    "papermill": {
     "duration": 24.091371,
     "end_time": "2025-07-06T09:56:11.240756",
     "exception": false,
     "start_time": "2025-07-06T09:55:47.149385",
     "status": "completed"
    },
    "tags": []
   },
   "outputs": [
    {
     "name": "stdout",
     "output_type": "stream",
     "text": [
      "Total 1280 videos and 1280 classes\n",
      "\u001b[1m320/320\u001b[0m \u001b[32m━━━━━━━━━━━━━━━━━━━━\u001b[0m\u001b[37m\u001b[0m \u001b[1m22s\u001b[0m 53ms/step\n",
      "True classes shape: (1280,)\n",
      "Predicted classes shape: (1280,)\n",
      "Classification Report:\n"
     ]
    },
    {
     "name": "stderr",
     "output_type": "stream",
     "text": [
      "/usr/local/lib/python3.11/dist-packages/keras/src/trainers/epoch_iterator.py:151: UserWarning: Your input ran out of data; interrupting training. Make sure that your dataset or generator can generate at least `steps_per_epoch * epochs` batches. You may need to use the `.repeat()` function when building your dataset.\n",
      "  self._interrupted_warning()\n"
     ]
    },
    {
     "name": "stdout",
     "output_type": "stream",
     "text": [
      "                                 precision    recall  f1-score   support\n",
      "\n",
      "                          write       0.72      0.83      0.77        82\n",
      "                      sit still       0.86      0.86      0.86        76\n",
      "                       sit down       1.00      0.99      0.99        84\n",
      "move hands in front of the body       0.95      0.95      0.95        80\n",
      "               raise one leg up       0.92      0.83      0.87        78\n",
      "            drink from a bottle       0.75      0.80      0.77        79\n",
      "                       stand up       0.95      0.98      0.96        83\n",
      "                           read       0.84      0.73      0.78        81\n",
      "                    throw paper       0.94      0.89      0.91        81\n",
      "                           walk       1.00      0.99      0.99        74\n",
      "               drink from a mug       0.82      0.84      0.83        90\n",
      "                  fall from bed       0.97      0.91      0.94        78\n",
      "                          faint       0.85      0.99      0.92        82\n",
      "              raise one hand up       0.89      0.90      0.89        69\n",
      "                       cheer up       0.97      0.94      0.95        77\n",
      "   move hands close to the body       0.99      0.94      0.96        86\n",
      "\n",
      "                       accuracy                           0.90      1280\n",
      "                      macro avg       0.90      0.90      0.90      1280\n",
      "                   weighted avg       0.90      0.90      0.90      1280\n",
      "\n"
     ]
    },
    {
     "data": {
      "image/png": "[encoded data removed]",
      "text/plain": [
       "<Figure size 800x600 with 2 Axes>"
      ]
     },
     "metadata": {},
     "output_type": "display_data"
    }
   ],
   "source": [
    "from sklearn.metrics import classification_report, confusion_matrix\n",
    "import seaborn as sns\n",
    "import matplotlib.pyplot as plt\n",
    "\n",
    "# Create test generator with batch_size matching test set size\n",
    "test_gen = VideoDataGenerator(\n",
    "    videos=features_test,\n",
    "    labels=labels_test,\n",
    "    batch_size=4,  # Process all test samples at once\n",
    ")\n",
    "\n",
    "# Get predictions\n",
    "predictions = xlstm_model.predict(test_gen.as_dataset())\n",
    "predicted_classes = np.argmax(predictions, axis=1)\n",
    "true_classes = np.argmax(labels_test, axis=1)\n",
    "\n",
    "# Verify shapes\n",
    "print(f\"True classes shape: {true_classes.shape}\")\n",
    "print(f\"Predicted classes shape: {predicted_classes.shape}\")\n",
    "assert len(true_classes) == len(predicted_classes), \"Sample counts do not match!\"\n",
    "\n",
    "# Generate classification report\n",
    "print(\"Classification Report:\")\n",
    "print(classification_report(true_classes, predicted_classes, target_names=CLASSES_LIST))\n",
    "\n",
    "# Plot confusion matrix\n",
    "cm = confusion_matrix(true_classes, predicted_classes)\n",
    "plt.figure(figsize=(8, 6))\n",
    "sns.heatmap(cm, annot=True, fmt='d', cmap='Blues', xticklabels=CLASSES_LIST, yticklabels=CLASSES_LIST[-1])\n",
    "plt.xlabel('Predicted')\n",
    "plt.ylabel('True')\n",
    "plt.title('Confusion Matrix')\n",
    "plt.show()"
   ]
  }
 ],
 "metadata": {
  "kaggle": {
   "accelerator": "nvidiaTeslaT4",
   "dataSources": [
    {
     "datasetId": 1357563,
     "sourceId": 2256095,
     "sourceType": "datasetVersion"
    },
    {
     "datasetId": 7763484,
     "sourceId": 12338519,
     "sourceType": "datasetVersion"
    },
    {
     "datasetId": 7801555,
     "sourceId": 12373067,
     "sourceType": "datasetVersion"
    },
    {
     "datasetId": 7801884,
     "sourceId": 12373562,
     "sourceType": "datasetVersion"
    }
   ],
   "dockerImageVersionId": 31041,
   "isGpuEnabled": true,
   "isInternetEnabled": true,
   "language": "python",
   "sourceType": "notebook"
  },
  "kernelspec": {
   "display_name": "Python 3",
   "language": "python",
   "name": "python3"
  },
  "language_info": {
   "codemirror_mode": {
    "name": "ipython",
    "version": 3
   },
   "file_extension": ".py",
   "mimetype": "text/x-python",
   "name": "python",
   "nbconvert_exporter": "python",
   "pygments_lexer": "ipython3",
   "version": "3.11.11"
  },
  "papermill": {
   "default_parameters": {},
   "duration": 6115.917244,
   "end_time": "2025-07-06T09:56:15.711772",
   "environment_variables": {},
   "exception": null,
   "input_path": "__notebook__.ipynb",
   "output_path": "__notebook__.ipynb",
   "parameters": {},
   "start_time": "2025-07-06T08:14:19.794528",
   "version": "2.6.0"
  }
 },
 "nbformat": 4,
 "nbformat_minor": 5
}
