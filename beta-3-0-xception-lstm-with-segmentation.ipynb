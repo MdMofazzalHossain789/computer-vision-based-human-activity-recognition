{
 "cells": [
  {
   "cell_type": "markdown",
   "id": "f7709d5d",
   "metadata": {
    "papermill": {
     "duration": 0.014045,
     "end_time": "2025-07-06T07:05:03.318692",
     "exception": false,
     "start_time": "2025-07-06T07:05:03.304647",
     "status": "completed"
    },
    "tags": []
   },
   "source": [
    "# Initialization\n",
    "## Import Libraries"
   ]
  },
  {
   "cell_type": "code",
   "execution_count": 1,
   "id": "a14ffb53",
   "metadata": {
    "execution": {
     "iopub.execute_input": "2025-07-06T07:05:03.344064Z",
     "iopub.status.busy": "2025-07-06T07:05:03.343727Z",
     "iopub.status.idle": "2025-07-06T07:05:41.528041Z",
     "shell.execute_reply": "2025-07-06T07:05:41.526850Z"
    },
    "papermill": {
     "duration": 38.19882,
     "end_time": "2025-07-06T07:05:41.529387",
     "exception": false,
     "start_time": "2025-07-06T07:05:03.330567",
     "status": "completed"
    },
    "tags": []
   },
   "outputs": [
    {
     "name": "stdout",
     "output_type": "stream",
     "text": [
      "Collecting mediapipe\r\n",
      "  Downloading mediapipe-0.10.21-cp311-cp311-manylinux_2_28_x86_64.whl.metadata (9.7 kB)\r\n",
      "Requirement already satisfied: absl-py in /usr/local/lib/python3.11/dist-packages (from mediapipe) (1.4.0)\r\n",
      "Requirement already satisfied: attrs>=19.1.0 in /usr/local/lib/python3.11/dist-packages (from mediapipe) (25.3.0)\r\n",
      "Requirement already satisfied: flatbuffers>=2.0 in /usr/local/lib/python3.11/dist-packages (from mediapipe) (25.2.10)\r\n",
      "Requirement already satisfied: jax in /usr/local/lib/python3.11/dist-packages (from mediapipe) (0.5.2)\r\n",
      "Requirement already satisfied: jaxlib in /usr/local/lib/python3.11/dist-packages (from mediapipe) (0.5.1)\r\n",
      "Requirement already satisfied: matplotlib in /usr/local/lib/python3.11/dist-packages (from mediapipe) (3.7.2)\r\n",
      "Requirement already satisfied: numpy<2 in /usr/local/lib/python3.11/dist-packages (from mediapipe) (1.26.4)\r\n",
      "Requirement already satisfied: opencv-contrib-python in /usr/local/lib/python3.11/dist-packages (from mediapipe) (4.11.0.86)\r\n",
      "Collecting protobuf<5,>=4.25.3 (from mediapipe)\r\n",
      "  Downloading protobuf-4.25.8-cp37-abi3-manylinux2014_x86_64.whl.metadata (541 bytes)\r\n",
      "Collecting sounddevice>=0.4.4 (from mediapipe)\r\n",
      "  Downloading sounddevice-0.5.2-py3-none-any.whl.metadata (1.6 kB)\r\n",
      "Requirement already satisfied: sentencepiece in /usr/local/lib/python3.11/dist-packages (from mediapipe) (0.2.0)\r\n",
      "Requirement already satisfied: mkl_fft in /usr/local/lib/python3.11/dist-packages (from numpy<2->mediapipe) (1.3.8)\r\n",
      "Requirement already satisfied: mkl_random in /usr/local/lib/python3.11/dist-packages (from numpy<2->mediapipe) (1.2.4)\r\n",
      "Requirement already satisfied: mkl_umath in /usr/local/lib/python3.11/dist-packages (from numpy<2->mediapipe) (0.1.1)\r\n",
      "Requirement already satisfied: mkl in /usr/local/lib/python3.11/dist-packages (from numpy<2->mediapipe) (2025.1.0)\r\n",
      "Requirement already satisfied: tbb4py in /usr/local/lib/python3.11/dist-packages (from numpy<2->mediapipe) (2022.1.0)\r\n",
      "Requirement already satisfied: mkl-service in /usr/local/lib/python3.11/dist-packages (from numpy<2->mediapipe) (2.4.1)\r\n",
      "Requirement already satisfied: CFFI>=1.0 in /usr/local/lib/python3.11/dist-packages (from sounddevice>=0.4.4->mediapipe) (1.17.1)\r\n",
      "Requirement already satisfied: ml_dtypes>=0.4.0 in /usr/local/lib/python3.11/dist-packages (from jax->mediapipe) (0.4.1)\r\n",
      "Requirement already satisfied: opt_einsum in /usr/local/lib/python3.11/dist-packages (from jax->mediapipe) (3.4.0)\r\n",
      "Requirement already satisfied: scipy>=1.11.1 in /usr/local/lib/python3.11/dist-packages (from jax->mediapipe) (1.15.2)\r\n",
      "Requirement already satisfied: contourpy>=1.0.1 in /usr/local/lib/python3.11/dist-packages (from matplotlib->mediapipe) (1.3.1)\r\n",
      "Requirement already satisfied: cycler>=0.10 in /usr/local/lib/python3.11/dist-packages (from matplotlib->mediapipe) (0.12.1)\r\n",
      "Requirement already satisfied: fonttools>=4.22.0 in /usr/local/lib/python3.11/dist-packages (from matplotlib->mediapipe) (4.57.0)\r\n",
      "Requirement already satisfied: kiwisolver>=1.0.1 in /usr/local/lib/python3.11/dist-packages (from matplotlib->mediapipe) (1.4.8)\r\n",
      "Requirement already satisfied: packaging>=20.0 in /usr/local/lib/python3.11/dist-packages (from matplotlib->mediapipe) (25.0)\r\n",
      "Requirement already satisfied: pillow>=6.2.0 in /usr/local/lib/python3.11/dist-packages (from matplotlib->mediapipe) (11.1.0)\r\n",
      "Requirement already satisfied: pyparsing<3.1,>=2.3.1 in /usr/local/lib/python3.11/dist-packages (from matplotlib->mediapipe) (3.0.9)\r\n",
      "Requirement already satisfied: python-dateutil>=2.7 in /usr/local/lib/python3.11/dist-packages (from matplotlib->mediapipe) (2.9.0.post0)\r\n",
      "Requirement already satisfied: pycparser in /usr/local/lib/python3.11/dist-packages (from CFFI>=1.0->sounddevice>=0.4.4->mediapipe) (2.22)\r\n",
      "Requirement already satisfied: six>=1.5 in /usr/local/lib/python3.11/dist-packages (from python-dateutil>=2.7->matplotlib->mediapipe) (1.17.0)\r\n",
      "Requirement already satisfied: intel-openmp<2026,>=2024 in /usr/local/lib/python3.11/dist-packages (from mkl->numpy<2->mediapipe) (2024.2.0)\r\n",
      "Requirement already satisfied: tbb==2022.* in /usr/local/lib/python3.11/dist-packages (from mkl->numpy<2->mediapipe) (2022.1.0)\r\n",
      "Requirement already satisfied: tcmlib==1.* in /usr/local/lib/python3.11/dist-packages (from tbb==2022.*->mkl->numpy<2->mediapipe) (1.3.0)\r\n",
      "Requirement already satisfied: intel-cmplr-lib-rt in /usr/local/lib/python3.11/dist-packages (from mkl_umath->numpy<2->mediapipe) (2024.2.0)\r\n",
      "Requirement already satisfied: intel-cmplr-lib-ur==2024.2.0 in /usr/local/lib/python3.11/dist-packages (from intel-openmp<2026,>=2024->mkl->numpy<2->mediapipe) (2024.2.0)\r\n",
      "Downloading mediapipe-0.10.21-cp311-cp311-manylinux_2_28_x86_64.whl (35.6 MB)\r\n",
      "\u001b[2K   \u001b[90m━━━━━━━━━━━━━━━━━━━━━━━━━━━━━━━━━━━━━━━━\u001b[0m \u001b[32m35.6/35.6 MB\u001b[0m \u001b[31m48.8 MB/s\u001b[0m eta \u001b[36m0:00:00\u001b[0m\r\n",
      "\u001b[?25hDownloading protobuf-4.25.8-cp37-abi3-manylinux2014_x86_64.whl (294 kB)\r\n",
      "\u001b[2K   \u001b[90m━━━━━━━━━━━━━━━━━━━━━━━━━━━━━━━━━━━━━━━━\u001b[0m \u001b[32m294.9/294.9 kB\u001b[0m \u001b[31m12.7 MB/s\u001b[0m eta \u001b[36m0:00:00\u001b[0m\r\n",
      "\u001b[?25hDownloading sounddevice-0.5.2-py3-none-any.whl (32 kB)\r\n",
      "Installing collected packages: protobuf, sounddevice, mediapipe\r\n",
      "  Attempting uninstall: protobuf\r\n",
      "    Found existing installation: protobuf 3.20.3\r\n",
      "    Uninstalling protobuf-3.20.3:\r\n",
      "      Successfully uninstalled protobuf-3.20.3\r\n",
      "\u001b[31mERROR: pip's dependency resolver does not currently take into account all the packages that are installed. This behaviour is the source of the following dependency conflicts.\r\n",
      "google-api-core 1.34.1 requires protobuf!=3.20.0,!=3.20.1,!=4.21.0,!=4.21.1,!=4.21.2,!=4.21.3,!=4.21.4,!=4.21.5,<4.0.0dev,>=3.19.5, but you have protobuf 4.25.8 which is incompatible.\r\n",
      "bigframes 1.42.0 requires rich<14,>=12.4.4, but you have rich 14.0.0 which is incompatible.\r\n",
      "google-spark-connect 0.5.2 requires google-api-core>=2.19.1, but you have google-api-core 1.34.1 which is incompatible.\r\n",
      "google-cloud-bigtable 2.30.0 requires google-api-core[grpc]<3.0.0,>=2.16.0, but you have google-api-core 1.34.1 which is incompatible.\r\n",
      "google-cloud-storage 2.19.0 requires google-api-core<3.0.0dev,>=2.15.0, but you have google-api-core 1.34.1 which is incompatible.\r\n",
      "pandas-gbq 0.28.0 requires google-api-core<3.0.0dev,>=2.10.2, but you have google-api-core 1.34.1 which is incompatible.\u001b[0m\u001b[31m\r\n",
      "\u001b[0mSuccessfully installed mediapipe-0.10.21 protobuf-4.25.8 sounddevice-0.5.2\r\n",
      "Note: you may need to restart the kernel to use updated packages.\n"
     ]
    }
   ],
   "source": [
    "pip install mediapipe"
   ]
  },
  {
   "cell_type": "code",
   "execution_count": 2,
   "id": "ed2c85c5",
   "metadata": {
    "_cell_guid": "b1076dfc-b9ad-4769-8c92-a6c4dae69d19",
    "_uuid": "8f2839f25d086af736a60e9eeb907d3b93b6e0e5",
    "execution": {
     "iopub.execute_input": "2025-07-06T07:05:41.555930Z",
     "iopub.status.busy": "2025-07-06T07:05:41.555369Z",
     "iopub.status.idle": "2025-07-06T07:06:03.955420Z",
     "shell.execute_reply": "2025-07-06T07:06:03.954736Z"
    },
    "papermill": {
     "duration": 22.414834,
     "end_time": "2025-07-06T07:06:03.956961",
     "exception": false,
     "start_time": "2025-07-06T07:05:41.542127",
     "status": "completed"
    },
    "tags": []
   },
   "outputs": [
    {
     "name": "stderr",
     "output_type": "stream",
     "text": [
      "2025-07-06 07:05:45.021680: E external/local_xla/xla/stream_executor/cuda/cuda_fft.cc:477] Unable to register cuFFT factory: Attempting to register factory for plugin cuFFT when one has already been registered\n",
      "WARNING: All log messages before absl::InitializeLog() is called are written to STDERR\n",
      "E0000 00:00:1751785545.464216      19 cuda_dnn.cc:8310] Unable to register cuDNN factory: Attempting to register factory for plugin cuDNN when one has already been registered\n",
      "E0000 00:00:1751785545.591928      19 cuda_blas.cc:1418] Unable to register cuBLAS factory: Attempting to register factory for plugin cuBLAS when one has already been registered\n"
     ]
    }
   ],
   "source": [
    "# install librarires\n",
    "import os\n",
    "import tensorflow as tf\n",
    "import numpy as np\n",
    "import random"
   ]
  },
  {
   "cell_type": "markdown",
   "id": "505a179b",
   "metadata": {
    "papermill": {
     "duration": 0.013028,
     "end_time": "2025-07-06T07:06:03.983769",
     "exception": false,
     "start_time": "2025-07-06T07:06:03.970741",
     "status": "completed"
    },
    "tags": []
   },
   "source": [
    "## ℹ️ Set Global Constants"
   ]
  },
  {
   "cell_type": "code",
   "execution_count": 3,
   "id": "50703ac9",
   "metadata": {
    "execution": {
     "iopub.execute_input": "2025-07-06T07:06:04.011337Z",
     "iopub.status.busy": "2025-07-06T07:06:04.010551Z",
     "iopub.status.idle": "2025-07-06T07:06:04.029232Z",
     "shell.execute_reply": "2025-07-06T07:06:04.028584Z"
    },
    "papermill": {
     "duration": 0.033952,
     "end_time": "2025-07-06T07:06:04.030321",
     "exception": false,
     "start_time": "2025-07-06T07:06:03.996369",
     "status": "completed"
    },
    "tags": []
   },
   "outputs": [
    {
     "name": "stdout",
     "output_type": "stream",
     "text": [
      "Ucf50\n",
      "There are total 50 classes, selected 16 classes\n",
      "Setting 20/class to train the model.\n",
      "Image size 128x128 with 5 sequence length\n",
      "Dropout rate: 0.5\n",
      "Train-Test split ratio 80/20\n",
      "Validation data from Train set 20.0%\n"
     ]
    }
   ],
   "source": [
    "# global variables\n",
    "# set dataset directories\n",
    "\n",
    "\n",
    "DATASET_DIR = \"/kaggle/input/ucf50/UCF50\"\n",
    "DATASET_NAME = DATASET_DIR.split(\"/\")[-1].replace(\"-\", \" \").title()\n",
    "\n",
    "print(DATASET_NAME)\n",
    "\n",
    "ALL_CLASS_NAMES = os.listdir(DATASET_DIR)\n",
    "\n",
    "# Global constant variables -> \n",
    "NO_OF_CLASSES = 16\n",
    "CLASSES_LIST = ALL_CLASS_NAMES[:NO_OF_CLASSES]\n",
    "\n",
    "# Model Configuration\n",
    "IMAGE_HEIGHT, IMAGE_WIDTH = 128, 128\n",
    "SEQUENCE_LENGTH = 5\n",
    "\n",
    "# set drop out rate\n",
    "DROPOUT_RATE = 0.5\n",
    "\n",
    "# set datas\n",
    "MAX_VIDEO_PER_CLASS = 20\n",
    "\n",
    "# split dataset\n",
    "TEST_SIZE = 0.20\n",
    "\n",
    "# model fit parameters\n",
    "EPOCHS = 30\n",
    "BATCH_SIZE = 16\n",
    "VALIDATION_SPLIT = 0.20\n",
    "\n",
    "# augmentation values\n",
    "NOISE_FACTOR = 0.02\n",
    "SHEAR_X= 1\n",
    "SHEAR_Y= 1\n",
    "\n",
    "# give a name of the model to save\n",
    "MODEL_NAME = \"Xception\"\n",
    "\n",
    "print(f\"There are total {len(ALL_CLASS_NAMES)} classes, selected {NO_OF_CLASSES} classes\")\n",
    "print(f\"Setting {MAX_VIDEO_PER_CLASS}/class to train the model.\")\n",
    "print(f\"Image size {IMAGE_HEIGHT}x{IMAGE_WIDTH} with {SEQUENCE_LENGTH} sequence length\")\n",
    "print(f\"Dropout rate: {DROPOUT_RATE}\")\n",
    "print(f\"Train-Test split ratio {int((1-TEST_SIZE)*100)}/{int(TEST_SIZE*100)}\")\n",
    "print(f\"Validation data from Train set {VALIDATION_SPLIT*100}%\")"
   ]
  },
  {
   "cell_type": "markdown",
   "id": "6e668bc1",
   "metadata": {
    "papermill": {
     "duration": 0.011835,
     "end_time": "2025-07-06T07:06:04.054862",
     "exception": false,
     "start_time": "2025-07-06T07:06:04.043027",
     "status": "completed"
    },
    "tags": []
   },
   "source": [
    "## Set `Seed` Values"
   ]
  },
  {
   "cell_type": "code",
   "execution_count": 4,
   "id": "f3f033f0",
   "metadata": {
    "execution": {
     "iopub.execute_input": "2025-07-06T07:06:04.082152Z",
     "iopub.status.busy": "2025-07-06T07:06:04.081374Z",
     "iopub.status.idle": "2025-07-06T07:06:04.086040Z",
     "shell.execute_reply": "2025-07-06T07:06:04.085223Z"
    },
    "papermill": {
     "duration": 0.019348,
     "end_time": "2025-07-06T07:06:04.087264",
     "exception": false,
     "start_time": "2025-07-06T07:06:04.067916",
     "status": "completed"
    },
    "tags": []
   },
   "outputs": [],
   "source": [
    "# set seeed to get similar values\n",
    "seed_constant = 27\n",
    "np.random.seed(seed_constant)\n",
    "random.seed(seed_constant)\n",
    "tf.random.set_seed(seed_constant)"
   ]
  },
  {
   "cell_type": "markdown",
   "id": "c1e126ce",
   "metadata": {
    "papermill": {
     "duration": 0.01223,
     "end_time": "2025-07-06T07:06:04.163097",
     "exception": false,
     "start_time": "2025-07-06T07:06:04.150867",
     "status": "completed"
    },
    "tags": []
   },
   "source": [
    "# 📌 Function Definition\n",
    "## Resize and Frame Extraction"
   ]
  },
  {
   "cell_type": "code",
   "execution_count": 5,
   "id": "54c11c5a",
   "metadata": {
    "execution": {
     "iopub.execute_input": "2025-07-06T07:06:04.190195Z",
     "iopub.status.busy": "2025-07-06T07:06:04.189706Z",
     "iopub.status.idle": "2025-07-06T07:06:04.199630Z",
     "shell.execute_reply": "2025-07-06T07:06:04.199039Z"
    },
    "papermill": {
     "duration": 0.025213,
     "end_time": "2025-07-06T07:06:04.201005",
     "exception": false,
     "start_time": "2025-07-06T07:06:04.175792",
     "status": "completed"
    },
    "tags": []
   },
   "outputs": [],
   "source": [
    "import cv2\n",
    "from concurrent.futures import ThreadPoolExecutor\n",
    "\n",
    "def resize_and_normalize_frame(frame, image_height, image_width):\n",
    "    try:\n",
    "        resized_frame = cv2.resize(frame, (image_width, image_height), interpolation=cv2.INTER_LINEAR)\n",
    "        normalized_frame = resized_frame / 255.0\n",
    "        return normalized_frame\n",
    "    except Exception as e:\n",
    "        print(f\"Error processing frame: {e}\")\n",
    "        return None\n",
    "\n",
    "def frames_extraction(video_path, \n",
    "                      sequence_length=SEQUENCE_LENGTH, \n",
    "                      image_height=IMAGE_HEIGHT, \n",
    "                      image_width=IMAGE_WIDTH):\n",
    "    # Declare a list to store video frames\n",
    "    frames_list = []\n",
    "\n",
    "    # Check if video file exists\n",
    "    if not os.path.exists(video_path):\n",
    "        print(f\"Error: Video file not found at {video_path}\")\n",
    "        return None\n",
    "\n",
    "    # Read the video file using VideoCapture with optimized settings\n",
    "    video_reader = cv2.VideoCapture(video_path, cv2.CAP_FFMPEG)\n",
    "\n",
    "    # Check if the video was opened successfully\n",
    "    if not video_reader.isOpened():\n",
    "        print(f\"Error: Could not open video file {video_path}\")\n",
    "        video_reader.release()\n",
    "        return None\n",
    "\n",
    "    # Get the total number of frames in the video\n",
    "    video_frames_count = int(video_reader.get(cv2.CAP_PROP_FRAME_COUNT))\n",
    "\n",
    "    # Ensure the video has enough frames\n",
    "    if video_frames_count < sequence_length:\n",
    "        print(f\"Warning: Video {video_path} has only {video_frames_count} frames, less than required {sequence_length}\")\n",
    "        video_reader.release()\n",
    "        return None\n",
    "\n",
    "    # Calculate the interval after which frames will be sampled\n",
    "    skip_frames_window = max(int(video_frames_count / sequence_length), 1)\n",
    "\n",
    "    # Pre-allocate frame indices to extract\n",
    "    frame_indices = [i * skip_frames_window for i in range(sequence_length)]\n",
    "\n",
    "    # Read and process frames in parallel\n",
    "    frames = []\n",
    "    for idx in frame_indices:\n",
    "        video_reader.set(cv2.CAP_PROP_POS_FRAMES, idx)\n",
    "        success, frame = video_reader.read()\n",
    "        if not success or frame is None:\n",
    "            print(f\"Warning: Failed to read frame at index {idx} from {video_path}\")\n",
    "            break\n",
    "        frame = cv2.cvtColor(frame, cv2.COLOR_BGR2RGB)\n",
    "        frames.append(frame)\n",
    "\n",
    "    # Release the VideoCapture object early\n",
    "    video_reader.release()\n",
    "\n",
    "    # Ensure the correct number of frames is read\n",
    "    if len(frames) != sequence_length:\n",
    "        print(f\"Warning: Read {len(frames)} frames instead of {sequence_length} from {video_path}\")\n",
    "        return None\n",
    "\n",
    "    # Process frames in parallel using ThreadPoolExecutor\n",
    "    with ThreadPoolExecutor() as executor:\n",
    "        processed_frames = list(executor.map(\n",
    "            lambda f: resize_and_normalize_frame(f, image_height, image_width), \n",
    "            frames\n",
    "        ))\n",
    "\n",
    "    # Check for any failed frame processing\n",
    "    if any(f is None for f in processed_frames):\n",
    "        print(f\"Warning: Some frames failed to process in {video_path}\")\n",
    "        return None\n",
    "\n",
    "    # Convert to NumPy array\n",
    "    frames_array = np.array(processed_frames, dtype=np.float32)\n",
    "\n",
    "    return frames_array"
   ]
  },
  {
   "cell_type": "code",
   "execution_count": 6,
   "id": "260e2c54",
   "metadata": {
    "execution": {
     "iopub.execute_input": "2025-07-06T07:06:04.227776Z",
     "iopub.status.busy": "2025-07-06T07:06:04.227194Z",
     "iopub.status.idle": "2025-07-06T07:06:04.230856Z",
     "shell.execute_reply": "2025-07-06T07:06:04.230107Z"
    },
    "papermill": {
     "duration": 0.018488,
     "end_time": "2025-07-06T07:06:04.232169",
     "exception": false,
     "start_time": "2025-07-06T07:06:04.213681",
     "status": "completed"
    },
    "tags": []
   },
   "outputs": [],
   "source": [
    " # # Iterate through all video files\n",
    " #        for file_name in files_list:\n",
    " #            video_file_path = os.path.join(class_path, file_name)\n",
    "\n",
    " #            # Extract frames using the updated frames_extraction function\n",
    " #            frames = frames_extraction(video_file_path, sequence_length, image_height, image_width)\n",
    "\n",
    " #            # Skip videos where frame extraction failed\n",
    " #            if frames is None:\n",
    " #                print(f\"Skipping video {video_file_path} due to frame extraction failure\")\n",
    " #                continue\n",
    "\n",
    " #            # Append the data to respective lists\n",
    " #            features.append(frames)\n",
    " #            labels.append(class_index)"
   ]
  },
  {
   "cell_type": "markdown",
   "id": "5e4ffbe1",
   "metadata": {
    "papermill": {
     "duration": 0.011826,
     "end_time": "2025-07-06T07:06:04.256321",
     "exception": false,
     "start_time": "2025-07-06T07:06:04.244495",
     "status": "completed"
    },
    "tags": []
   },
   "source": [
    "## Create Dataset"
   ]
  },
  {
   "cell_type": "code",
   "execution_count": 7,
   "id": "77f0cd41",
   "metadata": {
    "execution": {
     "iopub.execute_input": "2025-07-06T07:06:04.281254Z",
     "iopub.status.busy": "2025-07-06T07:06:04.280902Z",
     "iopub.status.idle": "2025-07-06T07:06:04.287996Z",
     "shell.execute_reply": "2025-07-06T07:06:04.287449Z"
    },
    "papermill": {
     "duration": 0.020952,
     "end_time": "2025-07-06T07:06:04.289034",
     "exception": false,
     "start_time": "2025-07-06T07:06:04.268082",
     "status": "completed"
    },
    "tags": []
   },
   "outputs": [],
   "source": [
    "# RUN create dataset function definition\n",
    "def create_dataset(dataset_dir,\n",
    "                   classes_list, \n",
    "                   sequence_length=SEQUENCE_LENGTH, \n",
    "                   image_height=IMAGE_HEIGHT, \n",
    "                   image_width=IMAGE_WIDTH, \n",
    "                   max_videos_per_class=None,\n",
    "                   augmentations=False\n",
    "                  ):\n",
    "    \n",
    "    # Initialize lists to store features, labels, and video file paths\n",
    "    videos = []\n",
    "    labels = []\n",
    "\n",
    "    # Check if dataset directory exists\n",
    "    if not os.path.exists(dataset_dir):\n",
    "        raise FileNotFoundError(f\"Dataset directory not found: {dataset_dir}\")\n",
    "\n",
    "    # Iterate through all classes in the classes list\n",
    "    for class_index, class_name in enumerate(classes_list):\n",
    "        class_path = os.path.join(dataset_dir, class_name)\n",
    "        \n",
    "        # Check if class directory exists\n",
    "        if not os.path.exists(class_path):\n",
    "            print(f\"Warning: Class directory not found: {class_path}\")\n",
    "            continue\n",
    "\n",
    "        print(f'Class: {class_name}')\n",
    "\n",
    "        # Get the list of video files in the class directory\n",
    "        files_list = os.listdir(class_path)\n",
    "\n",
    "        # Limit the number of videos if specified\n",
    "        if max_videos_per_class is not None:\n",
    "            files_list = files_list[:max_videos_per_class]\n",
    "\n",
    "        # Iterate through all video files\n",
    "        for (index, file_name) in enumerate(files_list):\n",
    "            video_file_path = os.path.join(class_path, file_name)\n",
    "\n",
    "            if index == (len(files_list)-1):\n",
    "                print(f'Extracting frames from file {index+1}: {file_name}', flush=True)\n",
    "            else:\n",
    "                print(f'Extracting frames from file {index+1}: {file_name}', end=\"\\r\", flush=True)\n",
    "            \n",
    "            # Extract frames using the updated frames_extraction function\n",
    "            frames = frames_extraction(video_file_path, \n",
    "                                       sequence_length, \n",
    "                                       image_height, \n",
    "                                       image_width)\n",
    "\n",
    "            # Skip videos where frame extraction failed\n",
    "            if frames is None:\n",
    "                print(f\"Skipping video {video_file_path} due to frame extraction failure\")\n",
    "                continue\n",
    "\n",
    "            # Append the data to respective lists\n",
    "            videos.append(frames)\n",
    "            labels.append(class_index)\n",
    "\n",
    "    # Convert lists to numpy arrays\n",
    "    if not videos:\n",
    "        raise ValueError(\"No valid videos were processed. Check dataset or parameters.\")\n",
    "    videos = np.asarray(videos)\n",
    "    labels = np.array(labels)\n",
    "\n",
    "    print(f\"Dataset created with {len(videos)} videos\")\n",
    "    print(f\"Features shape: {videos.shape}\")\n",
    "    print(f\"Labels shape: {labels.shape}\")\n",
    "\n",
    "    return videos, labels"
   ]
  },
  {
   "cell_type": "markdown",
   "id": "3599a4dd",
   "metadata": {
    "papermill": {
     "duration": 0.011573,
     "end_time": "2025-07-06T07:06:04.312546",
     "exception": false,
     "start_time": "2025-07-06T07:06:04.300973",
     "status": "completed"
    },
    "tags": []
   },
   "source": [
    "## 🪄 Video Data Generator"
   ]
  },
  {
   "cell_type": "code",
   "execution_count": 8,
   "id": "3aed0b83",
   "metadata": {
    "execution": {
     "iopub.execute_input": "2025-07-06T07:06:04.337208Z",
     "iopub.status.busy": "2025-07-06T07:06:04.336538Z",
     "iopub.status.idle": "2025-07-06T07:06:04.416841Z",
     "shell.execute_reply": "2025-07-06T07:06:04.416213Z"
    },
    "papermill": {
     "duration": 0.093934,
     "end_time": "2025-07-06T07:06:04.418193",
     "exception": false,
     "start_time": "2025-07-06T07:06:04.324259",
     "status": "completed"
    },
    "tags": []
   },
   "outputs": [],
   "source": [
    "from tensorflow.keras.utils import Sequence, to_categorical\n",
    "import tensorflow as tf\n",
    "import numpy as np\n",
    "import cv2\n",
    "\n",
    "\n",
    "\n",
    "\n",
    "class VideoDataGenerator(Sequence):\n",
    "    def __init__(self, videos, labels, batch_size, is_training=False):\n",
    "        self.videos = list(videos)  # List of video file paths\n",
    "        self.labels = list(labels)  # List or array of labels encoded\n",
    "        self.batch_size = batch_size\n",
    "        self.indices = np.arange(len(self.videos))  # For shuffling\n",
    "        self.is_training = is_training  # Flag to control whether augmentation is applied\n",
    "        self.temp_videos=[]\n",
    "        self.temp_labels=[]\n",
    "        \n",
    "        \n",
    "        print(f\"Total {len(videos)} videos and {len(labels)} classes\")\n",
    "\n",
    "    def __len__(self):\n",
    "        # Return the number of batches per epoch\n",
    "        return int(np.ceil(len(self.videos) / self.batch_size))\n",
    "\n",
    "    def __getitem__(self, idx):\n",
    "        # Get batch indices\n",
    "        batch_indices = self.indices[idx * self.batch_size:(idx + 1) * self.batch_size]\n",
    "        \n",
    "        # Handle case where batch_indices is empty\n",
    "        if len(batch_indices) == 0:\n",
    "            return np.array([], dtype=np.float32), np.array([], dtype=np.float32)\n",
    "        \n",
    "        # Initialize lists to store frames and labels\n",
    "        all_frames = []\n",
    "        all_labels = []\n",
    "        \n",
    "        # Process each video in the batch\n",
    "        for i, index in enumerate(batch_indices):\n",
    "            sequence = self.videos[index]\n",
    "            label = self.labels[index]\n",
    "            \n",
    "            # Append the sequence and label\n",
    "            all_frames.append(sequence)\n",
    "            all_labels.append(label)\n",
    "        \n",
    "        # Convert to numpy arrays\n",
    "        all_frames = np.array(all_frames, dtype=np.float32)\n",
    "        all_labels = np.array(all_labels)\n",
    "            \n",
    "        \n",
    "        return all_frames, all_labels\n",
    "    def add(self, new_videos, new_labels):\n",
    "        self.temp_videos.extend(new_videos)\n",
    "        self.temp_labels.extend(new_labels)\n",
    "    \n",
    "    def confirm(self):\n",
    "        self.videos.extend(self.temp_videos)\n",
    "        self.labels.extend(self.temp_labels)\n",
    "        print(f\"Successfully added - {len(self.temp_videos)} videos and {len(self.temp_labels)} classes.\")\n",
    "        self.temp_videos=[]\n",
    "        self.temp_labels=[]\n",
    "        self.indices = np.arange(len(self.videos))\n",
    "        print(f\"Now Total - {len(self.videos)} videos and {len(self.labels)} classes.\")\n",
    "        print(f\"PENDING for Augmentations - {len(self.temp_videos)} videos and {len(self.temp_labels)} classes.\")\n",
    "        \n",
    "    def replace_original(self):\n",
    "        self.videos=self.temp_videos\n",
    "        self.labels=self.temp_labels\n",
    "        self.temp_videos=[]\n",
    "        self.temp_labels=[]\n",
    "        print(f\"Successfully replaced, total original videos - {len(self.videos)} and augmented videos {len(self.temp_videos)}\")\n",
    "        \n",
    "    def on_epoch_end(self):\n",
    "        # Shuffle indices at the end of each epoch\n",
    "        np.random.shuffle(self.indices)\n",
    "\n",
    "    def as_dataset(self):\n",
    "        def generator():\n",
    "            for idx in range(len(self)):\n",
    "                frames, labels = self[idx]\n",
    "                # Skip empty batches\n",
    "                if frames.size == 0:\n",
    "                    continue\n",
    "                yield frames, labels\n",
    "        self.labels=np.array(self.labels)\n",
    "    \n",
    "        # Create a tf.data.Dataset\n",
    "        dataset = tf.data.Dataset.from_generator(\n",
    "            generator,\n",
    "            output_types=(tf.float32, tf.float32),\n",
    "            output_shapes=(\n",
    "                (None, SEQUENCE_LENGTH, IMAGE_HEIGHT, IMAGE_WIDTH, 3),\n",
    "                (None, NO_OF_CLASSES)\n",
    "            )\n",
    "        )\n",
    "        dataset = dataset.prefetch(tf.data.AUTOTUNE)\n",
    "        return dataset"
   ]
  },
  {
   "cell_type": "markdown",
   "id": "8cc3d49c",
   "metadata": {
    "papermill": {
     "duration": 0.011952,
     "end_time": "2025-07-06T07:06:04.442265",
     "exception": false,
     "start_time": "2025-07-06T07:06:04.430313",
     "status": "completed"
    },
    "tags": []
   },
   "source": [
    "## 🔥 Segmentation using N-Frames Ensemble"
   ]
  },
  {
   "cell_type": "code",
   "execution_count": 9,
   "id": "ec037d0d",
   "metadata": {
    "execution": {
     "iopub.execute_input": "2025-07-06T07:06:04.467270Z",
     "iopub.status.busy": "2025-07-06T07:06:04.467065Z",
     "iopub.status.idle": "2025-07-06T07:06:04.832308Z",
     "shell.execute_reply": "2025-07-06T07:06:04.831117Z"
    },
    "papermill": {
     "duration": 0.37953,
     "end_time": "2025-07-06T07:06:04.833678",
     "exception": false,
     "start_time": "2025-07-06T07:06:04.454148",
     "status": "completed"
    },
    "tags": []
   },
   "outputs": [
    {
     "name": "stdout",
     "output_type": "stream",
     "text": [
      "MediaPipe initialized successfully\n"
     ]
    },
    {
     "name": "stderr",
     "output_type": "stream",
     "text": [
      "INFO: Created TensorFlow Lite XNNPACK delegate for CPU.\n"
     ]
    }
   ],
   "source": [
    "import cv2\n",
    "import numpy as np\n",
    "from collections import deque\n",
    "import mediapipe as mp\n",
    "\n",
    "# Parameters\n",
    "N_FRAMES = 5  # Number of frames for ensemble\n",
    "THRESHOLD = 0.2  # Segmentation confidence threshold\n",
    "\n",
    "def initialize_segmentor():\n",
    "    \"\"\"Initialize MediaPipe Selfie Segmentation with error handling.\"\"\"\n",
    "    try:\n",
    "        mp_selfie_segmentation = mp.solutions.selfie_segmentation\n",
    "        segmentor = mp_selfie_segmentation.SelfieSegmentation(model_selection=1)  # 1 for general model\n",
    "        print(\"MediaPipe initialized successfully\")\n",
    "        return segmentor\n",
    "    except Exception as e:\n",
    "        print(f\"Failed to initialize MediaPipe: {e}\")\n",
    "        return None\n",
    "\n",
    "# Initialize segmentor\n",
    "segmentor = initialize_segmentor()\n",
    "\n",
    "\n",
    "def segmentation_frames(sequence):\n",
    "    \"\"\"Process a sequence of frames with N-frame ensemble segmentation.\"\"\"\n",
    "    # Input sequence: (sequence_length, height, width, 3), values in [0, 1]\n",
    "    sequence_length, height, width, _ = sequence.shape\n",
    "    segmented_sequence = np.zeros_like(sequence, dtype=np.float32)\n",
    "    \n",
    "    if segmentor is None:\n",
    "        print(\"Returning original sequence due to initialization failure\")\n",
    "        return sequence  # Fallback to original sequence\n",
    "    # Queue to store segmentation masks\n",
    "    mask_queue = deque(maxlen=N_FRAMES)\n",
    "    \n",
    "    # Kernel for morphological operations\n",
    "    kernel = cv2.getStructuringElement(cv2.MORPH_ELLIPSE, (5, 5))\n",
    "    \n",
    "    for t in range(sequence_length):\n",
    "        try:\n",
    "            # Convert frame to uint8 for MediaPipe\n",
    "            frame = (sequence[t] * 255).astype(np.uint8)\n",
    "            \n",
    "            # Process frame with MediaPipe\n",
    "            results = segmentor.process(frame)\n",
    "            if results.segmentation_mask is None:\n",
    "                print(f\"Warning: No mask returned for frame {t}\")\n",
    "                mask = np.zeros((height, width), dtype=np.float32)\n",
    "            else:\n",
    "                mask = results.segmentation_mask  # Shape: (height, width), values in [0, 1]\n",
    "            \n",
    "            # Add mask to queue\n",
    "            mask_queue.append(mask)\n",
    "            \n",
    "            # Compute ensemble mask by averaging (if enough frames)\n",
    "            ensemble_mask = np.mean(np.array(mask_queue), axis=0) if len(mask_queue) > 1 else mask\n",
    "            \n",
    "            # Binarize the ensemble mask\n",
    "            binary_mask = (ensemble_mask > THRESHOLD).astype(np.uint8)\n",
    "            \n",
    "            # Refine the mask using morphological operations\n",
    "            binary_mask = cv2.morphologyEx(binary_mask, cv2.MORPH_CLOSE, kernel)\n",
    "            binary_mask = cv2.morphologyEx(binary_mask, cv2.MORPH_OPEN, kernel)\n",
    "            \n",
    "            # Convert binary mask to 3 channels\n",
    "            mask_3ch = np.stack([binary_mask] * 3, axis=-1)  # Shape: (height, width, 3)\n",
    "            \n",
    "            # Apply mask to isolate human subject (set background to black)\n",
    "            segmented_frame = frame * mask_3ch\n",
    "            \n",
    "            # Normalize back to [0, 1]\n",
    "            segmented_sequence[t] = segmented_frame / 255.0\n",
    "        \n",
    "        except Exception as e:\n",
    "            print(f\"Error processing frame {t}: {e}\")\n",
    "            segmented_sequence[t] = sequence[t]  # Fallback to original frame\n",
    "    \n",
    "    return segmented_sequence"
   ]
  },
  {
   "cell_type": "markdown",
   "id": "02020635",
   "metadata": {
    "papermill": {
     "duration": 0.012427,
     "end_time": "2025-07-06T07:06:04.859286",
     "exception": false,
     "start_time": "2025-07-06T07:06:04.846859",
     "status": "completed"
    },
    "tags": []
   },
   "source": [
    "## 💫 Augmentation Helper function"
   ]
  },
  {
   "cell_type": "code",
   "execution_count": 10,
   "id": "b37de7a0",
   "metadata": {
    "execution": {
     "iopub.execute_input": "2025-07-06T07:06:04.885262Z",
     "iopub.status.busy": "2025-07-06T07:06:04.885045Z",
     "iopub.status.idle": "2025-07-06T07:06:04.890440Z",
     "shell.execute_reply": "2025-07-06T07:06:04.889695Z"
    },
    "papermill": {
     "duration": 0.019813,
     "end_time": "2025-07-06T07:06:04.891537",
     "exception": false,
     "start_time": "2025-07-06T07:06:04.871724",
     "status": "completed"
    },
    "tags": []
   },
   "outputs": [
    {
     "name": "stderr",
     "output_type": "stream",
     "text": [
      "WARNING: All log messages before absl::InitializeLog() is called are written to STDERR\n",
      "W0000 00:00:1751785564.837495      71 inference_feedback_manager.cc:114] Feedback manager requires a model with a single signature inference. Disabling support for feedback tensors.\n"
     ]
    }
   ],
   "source": [
    "def apply_augmentation(augmentation_function, generator, confirm=False, *args, **kwargs):\n",
    "    count=0\n",
    "    for i in range(len(generator)):\n",
    "        batch_videos, batch_labels = generator[i]\n",
    "        augmented_videos=[]\n",
    "        for videos in batch_videos:\n",
    "            count=count+1\n",
    "            augmented_videos.append(augmentation_function(videos, *args, **kwargs))\n",
    "            print(f\"Adding {count} new videos...\", end=\"\\r\", flush=True)\n",
    "        generator.add(augmented_videos, batch_labels)\n",
    "    \n",
    "    print(f\"Total {len(generator.temp_videos)} augmented videos generated\")\n",
    "    if confirm:\n",
    "        generator.confirm()\n",
    "    else:\n",
    "        print(\"Ready to be merged with original videos...\")"
   ]
  },
  {
   "cell_type": "markdown",
   "id": "311a66bc",
   "metadata": {
    "papermill": {
     "duration": 0.012228,
     "end_time": "2025-07-06T07:06:04.915860",
     "exception": false,
     "start_time": "2025-07-06T07:06:04.903632",
     "status": "completed"
    },
    "tags": []
   },
   "source": [
    "### Show Frames"
   ]
  },
  {
   "cell_type": "code",
   "execution_count": 11,
   "id": "eabbcda3",
   "metadata": {
    "execution": {
     "iopub.execute_input": "2025-07-06T07:06:04.942570Z",
     "iopub.status.busy": "2025-07-06T07:06:04.941696Z",
     "iopub.status.idle": "2025-07-06T07:06:04.946192Z",
     "shell.execute_reply": "2025-07-06T07:06:04.945449Z"
    },
    "papermill": {
     "duration": 0.018724,
     "end_time": "2025-07-06T07:06:04.947268",
     "exception": false,
     "start_time": "2025-07-06T07:06:04.928544",
     "status": "completed"
    },
    "tags": []
   },
   "outputs": [],
   "source": [
    "# show frame def\n",
    "import matplotlib.pyplot as plt\n",
    "\n",
    "def show_frame(frame):\n",
    "    plt.figure(figsize=(3,3))\n",
    "    plt.imshow(frame)\n",
    "    plt.axis(\"off\")\n",
    "    plt.tight_layout()"
   ]
  },
  {
   "cell_type": "markdown",
   "id": "bde2b9f7",
   "metadata": {
    "papermill": {
     "duration": 0.012034,
     "end_time": "2025-07-06T07:06:04.971857",
     "exception": false,
     "start_time": "2025-07-06T07:06:04.959823",
     "status": "completed"
    },
    "tags": []
   },
   "source": [
    "### Helper Function"
   ]
  },
  {
   "cell_type": "code",
   "execution_count": 12,
   "id": "577ce260",
   "metadata": {
    "execution": {
     "iopub.execute_input": "2025-07-06T07:06:04.997533Z",
     "iopub.status.busy": "2025-07-06T07:06:04.997257Z",
     "iopub.status.idle": "2025-07-06T07:06:05.001919Z",
     "shell.execute_reply": "2025-07-06T07:06:05.001123Z"
    },
    "papermill": {
     "duration": 0.01891,
     "end_time": "2025-07-06T07:06:05.003230",
     "exception": false,
     "start_time": "2025-07-06T07:06:04.984320",
     "status": "completed"
    },
    "tags": []
   },
   "outputs": [],
   "source": [
    "def show_frame_vs(frame1, frame2, title1=\"Frame 1\", title2=\"Frame 2\"):\n",
    "    plt.figure(figsize=(10, 5))\n",
    "\n",
    "    # First frame\n",
    "    plt.subplot(1, 2, 1)\n",
    "    plt.imshow(frame1)\n",
    "    plt.title(title1)\n",
    "    plt.axis('off')\n",
    "\n",
    "    # Second frame\n",
    "    plt.subplot(1, 2, 2)\n",
    "    plt.imshow(frame2)\n",
    "    plt.title(title2)\n",
    "    plt.axis('off')\n",
    "\n",
    "    plt.tight_layout()\n",
    "    plt.show()"
   ]
  },
  {
   "cell_type": "code",
   "execution_count": 13,
   "id": "095f2649",
   "metadata": {
    "execution": {
     "iopub.execute_input": "2025-07-06T07:06:05.029836Z",
     "iopub.status.busy": "2025-07-06T07:06:05.029664Z",
     "iopub.status.idle": "2025-07-06T07:06:05.033542Z",
     "shell.execute_reply": "2025-07-06T07:06:05.032757Z"
    },
    "papermill": {
     "duration": 0.017936,
     "end_time": "2025-07-06T07:06:05.034668",
     "exception": false,
     "start_time": "2025-07-06T07:06:05.016732",
     "status": "completed"
    },
    "tags": []
   },
   "outputs": [],
   "source": [
    "# reusable video loop helper function\n",
    "def apply_function(function, videos, *arg, **kwargs):\n",
    "    new_videos=[]\n",
    "    \n",
    "    for video in videos:\n",
    "        new_videos.append(function(video, *arg, **kwargs))\n",
    "        \n",
    "    return new_videos"
   ]
  },
  {
   "cell_type": "code",
   "execution_count": 14,
   "id": "c2d802ec",
   "metadata": {
    "execution": {
     "iopub.execute_input": "2025-07-06T07:06:05.059958Z",
     "iopub.status.busy": "2025-07-06T07:06:05.059743Z",
     "iopub.status.idle": "2025-07-06T07:06:05.063866Z",
     "shell.execute_reply": "2025-07-06T07:06:05.063158Z"
    },
    "papermill": {
     "duration": 0.018338,
     "end_time": "2025-07-06T07:06:05.065051",
     "exception": false,
     "start_time": "2025-07-06T07:06:05.046713",
     "status": "completed"
    },
    "tags": []
   },
   "outputs": [],
   "source": [
    "# reusable video loop helper function\n",
    "def apply(function, videos, labels, *arg, **kwargs):\n",
    "    new_videos=[]\n",
    "    new_labels=[]\n",
    "    combined=zip(labels, videos)\n",
    "    \n",
    "    for label, video in combined:\n",
    "        new_videos.append(function(video, *arg, **kwargs))\n",
    "        new_labels.append(label)\n",
    "        \n",
    "    new_videos=np.asarray(new_videos)\n",
    "    new_labels=np.asarray(new_labels)\n",
    "    \n",
    "    return new_videos, new_labels"
   ]
  },
  {
   "cell_type": "markdown",
   "id": "998be92d",
   "metadata": {
    "papermill": {
     "duration": 0.011653,
     "end_time": "2025-07-06T07:06:05.088782",
     "exception": false,
     "start_time": "2025-07-06T07:06:05.077129",
     "status": "completed"
    },
    "tags": []
   },
   "source": [
    "## Salt and Pepper Noise "
   ]
  },
  {
   "cell_type": "code",
   "execution_count": 15,
   "id": "2258e598",
   "metadata": {
    "execution": {
     "iopub.execute_input": "2025-07-06T07:06:05.116236Z",
     "iopub.status.busy": "2025-07-06T07:06:05.115777Z",
     "iopub.status.idle": "2025-07-06T07:06:05.120950Z",
     "shell.execute_reply": "2025-07-06T07:06:05.120086Z"
    },
    "papermill": {
     "duration": 0.020489,
     "end_time": "2025-07-06T07:06:05.122230",
     "exception": false,
     "start_time": "2025-07-06T07:06:05.101741",
     "status": "completed"
    },
    "tags": []
   },
   "outputs": [],
   "source": [
    "# Noise function def\n",
    "\n",
    "def noise_video(video,noise_factor=NOISE_FACTOR):\n",
    "    noisy_video=[]\n",
    "    for frame in video:\n",
    "        # Generate random noise\n",
    "        noise = np.random.rand(*frame.shape)  # Generate random noise\n",
    "        salt_pepper_noise = np.random.choice([0, 1], size=frame.shape, p=[1-noise_factor, noise_factor])\n",
    "        noisy_frame = frame * (1 - salt_pepper_noise) + salt_pepper_noise * np.random.rand(*frame.shape)\n",
    "        noisy_video.append(noisy_frame)\n",
    "    return np.array(noisy_video)"
   ]
  },
  {
   "cell_type": "markdown",
   "id": "8c17578f",
   "metadata": {
    "papermill": {
     "duration": 0.012905,
     "end_time": "2025-07-06T07:06:05.148124",
     "exception": false,
     "start_time": "2025-07-06T07:06:05.135219",
     "status": "completed"
    },
    "tags": []
   },
   "source": [
    "## Horizontal Flip"
   ]
  },
  {
   "cell_type": "code",
   "execution_count": 16,
   "id": "a2f73f65",
   "metadata": {
    "execution": {
     "iopub.execute_input": "2025-07-06T07:06:05.175849Z",
     "iopub.status.busy": "2025-07-06T07:06:05.175596Z",
     "iopub.status.idle": "2025-07-06T07:06:05.179328Z",
     "shell.execute_reply": "2025-07-06T07:06:05.178696Z"
    },
    "papermill": {
     "duration": 0.01872,
     "end_time": "2025-07-06T07:06:05.180505",
     "exception": false,
     "start_time": "2025-07-06T07:06:05.161785",
     "status": "completed"
    },
    "tags": []
   },
   "outputs": [],
   "source": [
    "# horizontal flip function def\n",
    "# Testing Flip feautes[0] -> first video\n",
    "def horizontal_flip(video):\n",
    "    return [tf.image.flip_left_right(frame) for frame in video]"
   ]
  },
  {
   "cell_type": "markdown",
   "id": "8527d55f",
   "metadata": {
    "papermill": {
     "duration": 0.011734,
     "end_time": "2025-07-06T07:06:05.205538",
     "exception": false,
     "start_time": "2025-07-06T07:06:05.193804",
     "status": "completed"
    },
    "tags": []
   },
   "source": [
    "## Random Shear"
   ]
  },
  {
   "cell_type": "code",
   "execution_count": 17,
   "id": "a1a8f7d5",
   "metadata": {
    "execution": {
     "iopub.execute_input": "2025-07-06T07:06:05.231297Z",
     "iopub.status.busy": "2025-07-06T07:06:05.230694Z",
     "iopub.status.idle": "2025-07-06T07:06:05.238185Z",
     "shell.execute_reply": "2025-07-06T07:06:05.237633Z"
    },
    "papermill": {
     "duration": 0.021473,
     "end_time": "2025-07-06T07:06:05.239278",
     "exception": false,
     "start_time": "2025-07-06T07:06:05.217805",
     "status": "completed"
    },
    "tags": []
   },
   "outputs": [],
   "source": [
    "# random shear function def\n",
    "import numpy as np\n",
    "import tensorflow as tf\n",
    "from scipy.ndimage import affine_transform\n",
    "\n",
    "def apply_shear_frames(frames, shear_right):\n",
    "    return [apply_shear(frame, shear_right) for frame in frames]\n",
    "\n",
    "def apply_shear(frame, shear_right=0):\n",
    "    frame_resized = tf.image.resize(frame, (IMAGE_HEIGHT, IMAGE_WIDTH)).numpy()\n",
    "    if shear_right:\n",
    "        shear_x = 0.09\n",
    "        shear_y = 0.1\n",
    "    else:\n",
    "        shear_x = -0.09\n",
    "        shear_y = 0.3\n",
    "    # Construct the affine matrix for scipy: inverse of the transformation matrix\n",
    "    # scipy applies the inverse transform matrix\n",
    "    shear_matrix = np.array([\n",
    "        [1, shear_x, 0],\n",
    "        [shear_y, 1, 0],\n",
    "        [0, 0, 1]\n",
    "    ], dtype=np.float32)\n",
    "\n",
    "    # Extract 2x2 part for affine_transform\n",
    "    matrix = shear_matrix[:2, :2]\n",
    "\n",
    "    # Offset (no translation)\n",
    "    offset = [0, 0]\n",
    "\n",
    "    # Apply affine transform on each channel separately\n",
    "    sheared = np.zeros_like(frame_resized)\n",
    "    for c in range(3):\n",
    "        sheared[..., c] = affine_transform(\n",
    "            frame_resized[..., c],\n",
    "            matrix=matrix,\n",
    "            offset=offset,\n",
    "            order=1,          # bilinear interpolation\n",
    "            mode='nearest'    # fill_mode\n",
    "        )\n",
    "    return sheared"
   ]
  },
  {
   "cell_type": "markdown",
   "id": "e15135fb",
   "metadata": {
    "papermill": {
     "duration": 0.012414,
     "end_time": "2025-07-06T07:06:05.263988",
     "exception": false,
     "start_time": "2025-07-06T07:06:05.251574",
     "status": "completed"
    },
    "tags": []
   },
   "source": [
    "# 📌 Model Related\n",
    "## 🗼 Model Architecture `create_model`"
   ]
  },
  {
   "cell_type": "code",
   "execution_count": 18,
   "id": "612bd0bc",
   "metadata": {
    "execution": {
     "iopub.execute_input": "2025-07-06T07:06:05.290543Z",
     "iopub.status.busy": "2025-07-06T07:06:05.289937Z",
     "iopub.status.idle": "2025-07-06T07:06:05.304762Z",
     "shell.execute_reply": "2025-07-06T07:06:05.304021Z"
    },
    "papermill": {
     "duration": 0.029373,
     "end_time": "2025-07-06T07:06:05.306068",
     "exception": false,
     "start_time": "2025-07-06T07:06:05.276695",
     "status": "completed"
    },
    "tags": []
   },
   "outputs": [],
   "source": [
    "from tensorflow.keras.applications import Xception\n",
    "from tensorflow.keras.models import Sequential\n",
    "from tensorflow.keras.layers import GlobalAveragePooling2D, TimeDistributed, LSTM, Dropout, Dense, BatchNormalization\n",
    "from tensorflow.keras.regularizers import l2\n",
    "\n",
    "def create_xception_lstm_model(sequence_length, image_height, image_width, classes_list=None, dropout_rate=0.5):\n",
    "    if classes_list is None:\n",
    "        raise ValueError(\"classes_list must be provided to define the output layer size\")\n",
    "\n",
    "    try:\n",
    "        # Load Xception model with pre-trained ImageNet weights\n",
    "        print(\"Loading Xception base model...\")\n",
    "        xception = Xception(\n",
    "            weights='imagenet',\n",
    "            include_top=False,\n",
    "            input_shape=(image_height, image_width, 3),\n",
    "            name=\"Xception\"\n",
    "        )\n",
    "        \n",
    "        # # Unfreeze more layers to fine-tune\n",
    "        # for layer in xception.layers[:-10]:  # Unfreeze more layers to fine-tune more\n",
    "        #     layer.trainable = False\n",
    "        # for layer in xception.layers[-10:]:\n",
    "        #     layer.trainable = True\n",
    "\n",
    "        # Define the Sequential model\n",
    "        model = Sequential([\n",
    "            # TimeDistributed Xception model\n",
    "            TimeDistributed(\n",
    "                xception,\n",
    "                input_shape=(sequence_length, image_height, image_width, 3),\n",
    "                name=\"time_distributed\"\n",
    "            ),\n",
    "            # TimeDistributed GlobalAveragePooling2D\n",
    "            TimeDistributed(GlobalAveragePooling2D(), name=\"time_distributed_1\"),\n",
    "            # LSTM layer with 256 units (increased)\n",
    "            LSTM(512, activation=\"tanh\", return_sequences=False, kernel_regularizer=l2(0.01), name=\"lstm\"),\n",
    "            BatchNormalization(name=\"batch_normalization\"),\n",
    "            # Dropout after LSTM\n",
    "            Dropout(dropout_rate, name=\"dropout_lstm\"),\n",
    "            # Dense layer with 512 units\n",
    "            Dense(512, activation=\"relu\", kernel_regularizer=l2(0.01), name=\"dense\"),\n",
    "            # Dropout after Dense\n",
    "            Dropout(dropout_rate + 0.1, name=\"dropout_dense\"),\n",
    "            # Output Dense layer with softmax activation\n",
    "            Dense(len(classes_list), activation=\"softmax\", name=\"dense_1\")\n",
    "        ])\n",
    "\n",
    "        # Print model summary\n",
    "        print(\"Model architecture created successfully!\")\n",
    "        model.summary()\n",
    "\n",
    "        return model\n",
    "\n",
    "    except Exception as e:\n",
    "        print(f\"Error creating model: {e}\")\n",
    "        return None\n"
   ]
  },
  {
   "cell_type": "code",
   "execution_count": 19,
   "id": "20c51fa7",
   "metadata": {
    "execution": {
     "iopub.execute_input": "2025-07-06T07:06:05.332528Z",
     "iopub.status.busy": "2025-07-06T07:06:05.331787Z",
     "iopub.status.idle": "2025-07-06T07:06:11.340386Z",
     "shell.execute_reply": "2025-07-06T07:06:11.339358Z"
    },
    "papermill": {
     "duration": 6.023302,
     "end_time": "2025-07-06T07:06:11.341851",
     "exception": false,
     "start_time": "2025-07-06T07:06:05.318549",
     "status": "completed"
    },
    "tags": []
   },
   "outputs": [
    {
     "name": "stdout",
     "output_type": "stream",
     "text": [
      "Pre-loading Xception weights...\n"
     ]
    },
    {
     "name": "stderr",
     "output_type": "stream",
     "text": [
      "I0000 00:00:1751785567.913460      19 gpu_device.cc:2022] Created device /job:localhost/replica:0/task:0/device:GPU:0 with 13942 MB memory:  -> device: 0, name: Tesla T4, pci bus id: 0000:00:04.0, compute capability: 7.5\n",
      "I0000 00:00:1751785567.914201      19 gpu_device.cc:2022] Created device /job:localhost/replica:0/task:0/device:GPU:1 with 13942 MB memory:  -> device: 1, name: Tesla T4, pci bus id: 0000:00:05.0, compute capability: 7.5\n"
     ]
    },
    {
     "name": "stdout",
     "output_type": "stream",
     "text": [
      "Downloading data from https://storage.googleapis.com/tensorflow/keras-applications/xception/xception_weights_tf_dim_ordering_tf_kernels_notop.h5\n",
      "\u001b[1m83683744/83683744\u001b[0m \u001b[32m━━━━━━━━━━━━━━━━━━━━\u001b[0m\u001b[37m\u001b[0m \u001b[1m0s\u001b[0m 0us/step\n",
      "Weights loaded successfully!\n"
     ]
    }
   ],
   "source": [
    "# donwload model weights\n",
    "from tensorflow.keras.applications import Xception\n",
    "print(\"Pre-loading Xception weights...\")\n",
    "base_model = Xception(weights='imagenet', include_top=False, input_shape=(IMAGE_HEIGHT, IMAGE_WIDTH, 3))\n",
    "print(\"Weights loaded successfully!\")"
   ]
  },
  {
   "cell_type": "markdown",
   "id": "cc2287a3",
   "metadata": {
    "papermill": {
     "duration": 0.014033,
     "end_time": "2025-07-06T07:06:11.370826",
     "exception": false,
     "start_time": "2025-07-06T07:06:11.356793",
     "status": "completed"
    },
    "tags": []
   },
   "source": [
    "# 📌 Execution\n",
    "## Creating Dataset\n",
    "The following functions are executed\n",
    "- `frame extraction`\n",
    "- `resize`\n",
    "\n",
    "which returns:\n",
    "- `features` - `np.array` of all the videos\n",
    "- `labels` - `np.array` of all the class labels"
   ]
  },
  {
   "cell_type": "code",
   "execution_count": 20,
   "id": "607edb74",
   "metadata": {
    "execution": {
     "iopub.execute_input": "2025-07-06T07:06:11.400310Z",
     "iopub.status.busy": "2025-07-06T07:06:11.400027Z",
     "iopub.status.idle": "2025-07-06T07:06:22.488088Z",
     "shell.execute_reply": "2025-07-06T07:06:22.487326Z"
    },
    "papermill": {
     "duration": 11.104225,
     "end_time": "2025-07-06T07:06:22.489275",
     "exception": false,
     "start_time": "2025-07-06T07:06:11.385050",
     "status": "completed"
    },
    "tags": []
   },
   "outputs": [
    {
     "name": "stdout",
     "output_type": "stream",
     "text": [
      "Class: HorseRace\n",
      "Extracting frames from file 20: v_HorseRace_g09_c01.avi\n",
      "Class: VolleyballSpiking\n",
      "Extracting frames from file 20: v_VolleyballSpiking_g17_c01.avi\n",
      "Class: Biking\n",
      "Extracting frames from file 20: v_Biking_g19_c03.avi\n",
      "Class: TaiChi\n",
      "Extracting frames from file 20: v_TaiChi_g02_c03.avi\n",
      "Class: Punch\n",
      "Extracting frames from file 20: v_Punch_g22_c03.avi\n",
      "Class: BreastStroke\n",
      "Extracting frames from file 20: v_BreastStroke_g09_c01.avi\n",
      "Class: Billiards\n",
      "Extracting frames from file 20: v_Billards_g14_c04.avi\n",
      "Class: PoleVault\n",
      "Extracting frames from file 20: v_PoleVault_g17_c03.avi\n",
      "Class: ThrowDiscus\n",
      "Extracting frames from file 20: v_ThrowDiscus_g01_c01.avi\n",
      "Class: BaseballPitch\n",
      "Extracting frames from file 20: v_BaseballPitch_g18_c03.avi\n",
      "Class: HorseRiding\n",
      "Extracting frames from file 20: v_HorseRiding_g01_c08.avi\n",
      "Class: Mixing\n",
      "Extracting frames from file 20: v_Mixing_g16_c03.avi\n",
      "Class: HighJump\n",
      "Extracting frames from file 20: v_HighJump_g07_c03.avi\n",
      "Class: Skijet\n",
      "Extracting frames from file 20: v_Skijet_g10_c02.avi\n",
      "Class: SkateBoarding\n",
      "Extracting frames from file 20: v_SkateBoarding_g07_c04.avi\n",
      "Class: MilitaryParade\n",
      "Extracting frames from file 20: v_MilitaryParade_g18_c06.avi\n",
      "Dataset created with 320 videos\n",
      "Features shape: (320, 5, 128, 128, 3)\n",
      "Labels shape: (320,)\n"
     ]
    },
    {
     "data": {
      "text/plain": [
       "((320, 5, 128, 128, 3), (320,))"
      ]
     },
     "execution_count": 20,
     "metadata": {},
     "output_type": "execute_result"
    }
   ],
   "source": [
    "# RUN Create the dataset with explicit parameters\n",
    "try:\n",
    "    videos, labels = create_dataset(\n",
    "        dataset_dir=DATASET_DIR,\n",
    "        classes_list=CLASSES_LIST,\n",
    "        sequence_length=SEQUENCE_LENGTH,\n",
    "        image_height=IMAGE_HEIGHT,\n",
    "        image_width=IMAGE_WIDTH,\n",
    "        # Limit to 10 videos per class to manage memory\n",
    "        augmentations=True,\n",
    "        max_videos_per_class=MAX_VIDEO_PER_CLASS\n",
    "    )\n",
    "except FileNotFoundError as e:\n",
    "    print(f\"Error: {e}\")\n",
    "except ValueError as e:\n",
    "    print(f\"Error: {e}\")\n",
    "except Exception as e:\n",
    "    print(f\"Unexpected error: {e}\")\n",
    "\n",
    "videos.shape, labels.shape"
   ]
  },
  {
   "cell_type": "code",
   "execution_count": 21,
   "id": "f1f287de",
   "metadata": {
    "execution": {
     "iopub.execute_input": "2025-07-06T07:06:22.544941Z",
     "iopub.status.busy": "2025-07-06T07:06:22.544440Z",
     "iopub.status.idle": "2025-07-06T07:06:22.548540Z",
     "shell.execute_reply": "2025-07-06T07:06:22.547777Z"
    },
    "papermill": {
     "duration": 0.033168,
     "end_time": "2025-07-06T07:06:22.549576",
     "exception": false,
     "start_time": "2025-07-06T07:06:22.516408",
     "status": "completed"
    },
    "tags": []
   },
   "outputs": [
    {
     "name": "stdout",
     "output_type": "stream",
     "text": [
      "Total 320 videos and 320 classes\n"
     ]
    }
   ],
   "source": [
    "video_generator = VideoDataGenerator(\n",
    "    videos=videos,\n",
    "    labels=labels,\n",
    "    batch_size=BATCH_SIZE\n",
    ")"
   ]
  },
  {
   "cell_type": "code",
   "execution_count": 22,
   "id": "f97a8354",
   "metadata": {
    "execution": {
     "iopub.execute_input": "2025-07-06T07:06:22.604643Z",
     "iopub.status.busy": "2025-07-06T07:06:22.604447Z",
     "iopub.status.idle": "2025-07-06T07:06:22.614824Z",
     "shell.execute_reply": "2025-07-06T07:06:22.614195Z"
    },
    "papermill": {
     "duration": 0.039315,
     "end_time": "2025-07-06T07:06:22.615924",
     "exception": false,
     "start_time": "2025-07-06T07:06:22.576609",
     "status": "completed"
    },
    "tags": []
   },
   "outputs": [
    {
     "data": {
      "text/plain": [
       "((16, 5, 128, 128, 3), (16,))"
      ]
     },
     "execution_count": 22,
     "metadata": {},
     "output_type": "execute_result"
    }
   ],
   "source": [
    "videos, labels = video_generator[0]\n",
    "\n",
    "videos.shape, labels.shape"
   ]
  },
  {
   "cell_type": "code",
   "execution_count": 23,
   "id": "13b45b50",
   "metadata": {
    "execution": {
     "iopub.execute_input": "2025-07-06T07:06:22.671125Z",
     "iopub.status.busy": "2025-07-06T07:06:22.670925Z",
     "iopub.status.idle": "2025-07-06T07:06:22.675481Z",
     "shell.execute_reply": "2025-07-06T07:06:22.674756Z"
    },
    "papermill": {
     "duration": 0.034049,
     "end_time": "2025-07-06T07:06:22.676714",
     "exception": false,
     "start_time": "2025-07-06T07:06:22.642665",
     "status": "completed"
    },
    "tags": []
   },
   "outputs": [
    {
     "data": {
      "text/plain": [
       "320"
      ]
     },
     "execution_count": 23,
     "metadata": {},
     "output_type": "execute_result"
    }
   ],
   "source": [
    "len(video_generator.videos) "
   ]
  },
  {
   "cell_type": "code",
   "execution_count": 24,
   "id": "c8e3b7e0",
   "metadata": {
    "execution": {
     "iopub.execute_input": "2025-07-06T07:06:22.732339Z",
     "iopub.status.busy": "2025-07-06T07:06:22.732089Z",
     "iopub.status.idle": "2025-07-06T07:06:22.736737Z",
     "shell.execute_reply": "2025-07-06T07:06:22.735967Z"
    },
    "papermill": {
     "duration": 0.034081,
     "end_time": "2025-07-06T07:06:22.737953",
     "exception": false,
     "start_time": "2025-07-06T07:06:22.703872",
     "status": "completed"
    },
    "tags": []
   },
   "outputs": [
    {
     "data": {
      "text/plain": [
       "20"
      ]
     },
     "execution_count": 24,
     "metadata": {},
     "output_type": "execute_result"
    }
   ],
   "source": [
    "len(video_generator)"
   ]
  },
  {
   "cell_type": "code",
   "execution_count": 25,
   "id": "ac33c9f0",
   "metadata": {
    "execution": {
     "iopub.execute_input": "2025-07-06T07:06:22.793944Z",
     "iopub.status.busy": "2025-07-06T07:06:22.793682Z",
     "iopub.status.idle": "2025-07-06T07:06:29.987864Z",
     "shell.execute_reply": "2025-07-06T07:06:29.987069Z"
    },
    "papermill": {
     "duration": 7.223626,
     "end_time": "2025-07-06T07:06:29.989401",
     "exception": false,
     "start_time": "2025-07-06T07:06:22.765775",
     "status": "completed"
    },
    "tags": []
   },
   "outputs": [
    {
     "name": "stdout",
     "output_type": "stream",
     "text": [
      "Total 320 augmented videos generated\n",
      "Ready to be merged with original videos...\n"
     ]
    }
   ],
   "source": [
    "apply_augmentation(segmentation_frames, video_generator)"
   ]
  },
  {
   "cell_type": "code",
   "execution_count": 26,
   "id": "9b6b5e44",
   "metadata": {
    "execution": {
     "iopub.execute_input": "2025-07-06T07:06:30.074133Z",
     "iopub.status.busy": "2025-07-06T07:06:30.073877Z",
     "iopub.status.idle": "2025-07-06T07:06:30.079745Z",
     "shell.execute_reply": "2025-07-06T07:06:30.078935Z"
    },
    "papermill": {
     "duration": 0.047876,
     "end_time": "2025-07-06T07:06:30.080928",
     "exception": false,
     "start_time": "2025-07-06T07:06:30.033052",
     "status": "completed"
    },
    "tags": []
   },
   "outputs": [
    {
     "data": {
      "text/plain": [
       "(320, 320)"
      ]
     },
     "execution_count": 26,
     "metadata": {},
     "output_type": "execute_result"
    }
   ],
   "source": [
    "len(video_generator.temp_videos), len(video_generator.videos)"
   ]
  },
  {
   "cell_type": "code",
   "execution_count": 27,
   "id": "3c06ede2",
   "metadata": {
    "execution": {
     "iopub.execute_input": "2025-07-06T07:06:30.167180Z",
     "iopub.status.busy": "2025-07-06T07:06:30.166919Z",
     "iopub.status.idle": "2025-07-06T07:06:30.172195Z",
     "shell.execute_reply": "2025-07-06T07:06:30.171568Z"
    },
    "papermill": {
     "duration": 0.050097,
     "end_time": "2025-07-06T07:06:30.173473",
     "exception": false,
     "start_time": "2025-07-06T07:06:30.123376",
     "status": "completed"
    },
    "tags": []
   },
   "outputs": [
    {
     "name": "stdout",
     "output_type": "stream",
     "text": [
      "Successfully replaced, total original videos - 320 and augmented videos 0\n"
     ]
    }
   ],
   "source": [
    "video_generator.replace_original()"
   ]
  },
  {
   "cell_type": "code",
   "execution_count": 28,
   "id": "001fc13c",
   "metadata": {
    "execution": {
     "iopub.execute_input": "2025-07-06T07:06:30.265681Z",
     "iopub.status.busy": "2025-07-06T07:06:30.265302Z",
     "iopub.status.idle": "2025-07-06T07:06:30.270123Z",
     "shell.execute_reply": "2025-07-06T07:06:30.269388Z"
    },
    "papermill": {
     "duration": 0.055329,
     "end_time": "2025-07-06T07:06:30.271749",
     "exception": false,
     "start_time": "2025-07-06T07:06:30.216420",
     "status": "completed"
    },
    "tags": []
   },
   "outputs": [
    {
     "data": {
      "text/plain": [
       "(0, 320)"
      ]
     },
     "execution_count": 28,
     "metadata": {},
     "output_type": "execute_result"
    }
   ],
   "source": [
    "len(video_generator.temp_videos), len(video_generator.videos)"
   ]
  },
  {
   "cell_type": "code",
   "execution_count": 29,
   "id": "0d2bf349",
   "metadata": {
    "execution": {
     "iopub.execute_input": "2025-07-06T07:06:30.364789Z",
     "iopub.status.busy": "2025-07-06T07:06:30.364507Z",
     "iopub.status.idle": "2025-07-06T07:06:30.462388Z",
     "shell.execute_reply": "2025-07-06T07:06:30.461636Z"
    },
    "papermill": {
     "duration": 0.141705,
     "end_time": "2025-07-06T07:06:30.463674",
     "exception": false,
     "start_time": "2025-07-06T07:06:30.321969",
     "status": "completed"
    },
    "tags": []
   },
   "outputs": [
    {
     "data": {
      "text/plain": [
       "(320, 5, 128, 128, 3)"
      ]
     },
     "execution_count": 29,
     "metadata": {},
     "output_type": "execute_result"
    }
   ],
   "source": [
    "test = np.array(video_generator.videos)\n",
    "\n",
    "test.shape"
   ]
  },
  {
   "cell_type": "code",
   "execution_count": 30,
   "id": "323c121c",
   "metadata": {
    "execution": {
     "iopub.execute_input": "2025-07-06T07:06:30.555530Z",
     "iopub.status.busy": "2025-07-06T07:06:30.555208Z",
     "iopub.status.idle": "2025-07-06T07:06:30.765777Z",
     "shell.execute_reply": "2025-07-06T07:06:30.764931Z"
    },
    "papermill": {
     "duration": 0.26295,
     "end_time": "2025-07-06T07:06:30.767111",
     "exception": false,
     "start_time": "2025-07-06T07:06:30.504161",
     "status": "completed"
    },
    "tags": []
   },
   "outputs": [
    {
     "data": {
      "image/png": "[encoded data removed]",
      "text/plain": [
       "<Figure size 300x300 with 1 Axes>"
      ]
     },
     "metadata": {},
     "output_type": "display_data"
    }
   ],
   "source": [
    "show_frame(test[1,0])"
   ]
  },
  {
   "cell_type": "markdown",
   "id": "10e4f313",
   "metadata": {
    "papermill": {
     "duration": 0.039571,
     "end_time": "2025-07-06T07:06:30.846502",
     "exception": false,
     "start_time": "2025-07-06T07:06:30.806931",
     "status": "completed"
    },
    "tags": []
   },
   "source": [
    "## Apply ***horizontal flip*** (Augmentation)"
   ]
  },
  {
   "cell_type": "code",
   "execution_count": 31,
   "id": "b132f12e",
   "metadata": {
    "execution": {
     "iopub.execute_input": "2025-07-06T07:06:30.925357Z",
     "iopub.status.busy": "2025-07-06T07:06:30.925092Z",
     "iopub.status.idle": "2025-07-06T07:06:32.303555Z",
     "shell.execute_reply": "2025-07-06T07:06:32.302903Z"
    },
    "papermill": {
     "duration": 1.418406,
     "end_time": "2025-07-06T07:06:32.304686",
     "exception": false,
     "start_time": "2025-07-06T07:06:30.886280",
     "status": "completed"
    },
    "tags": []
   },
   "outputs": [
    {
     "name": "stdout",
     "output_type": "stream",
     "text": [
      "Total 320 augmented videos generated\n",
      "Ready to be merged with original videos...\n"
     ]
    }
   ],
   "source": [
    "apply_augmentation(horizontal_flip, video_generator)"
   ]
  },
  {
   "cell_type": "code",
   "execution_count": 32,
   "id": "5fab806a",
   "metadata": {
    "execution": {
     "iopub.execute_input": "2025-07-06T07:06:32.409331Z",
     "iopub.status.busy": "2025-07-06T07:06:32.408810Z",
     "iopub.status.idle": "2025-07-06T07:06:32.412923Z",
     "shell.execute_reply": "2025-07-06T07:06:32.412304Z"
    },
    "papermill": {
     "duration": 0.055864,
     "end_time": "2025-07-06T07:06:32.413912",
     "exception": false,
     "start_time": "2025-07-06T07:06:32.358048",
     "status": "completed"
    },
    "tags": []
   },
   "outputs": [
    {
     "name": "stdout",
     "output_type": "stream",
     "text": [
      "Checking Total Videos and Class Count: 320, 320\n",
      "PENDING Total Videos and Class Count: 320, 320\n"
     ]
    }
   ],
   "source": [
    "print(f\"Checking Total Videos and Class Count: {len(video_generator.videos)}, {len(video_generator.labels)}\")\n",
    "print(f\"PENDING Total Videos and Class Count: {len(video_generator.temp_videos)}, {len(video_generator.temp_labels)}\")"
   ]
  },
  {
   "cell_type": "code",
   "execution_count": 33,
   "id": "9772e2bd",
   "metadata": {
    "execution": {
     "iopub.execute_input": "2025-07-06T07:06:32.515511Z",
     "iopub.status.busy": "2025-07-06T07:06:32.515265Z",
     "iopub.status.idle": "2025-07-06T07:06:32.519088Z",
     "shell.execute_reply": "2025-07-06T07:06:32.518342Z"
    },
    "papermill": {
     "duration": 0.056268,
     "end_time": "2025-07-06T07:06:32.520195",
     "exception": false,
     "start_time": "2025-07-06T07:06:32.463927",
     "status": "completed"
    },
    "tags": []
   },
   "outputs": [
    {
     "name": "stdout",
     "output_type": "stream",
     "text": [
      "Successfully added - 320 videos and 320 classes.\n",
      "Now Total - 640 videos and 640 classes.\n",
      "PENDING for Augmentations - 0 videos and 0 classes.\n"
     ]
    }
   ],
   "source": [
    "video_generator.confirm()"
   ]
  },
  {
   "cell_type": "markdown",
   "id": "74c81263",
   "metadata": {
    "papermill": {
     "duration": 0.049268,
     "end_time": "2025-07-06T07:06:32.620902",
     "exception": false,
     "start_time": "2025-07-06T07:06:32.571634",
     "status": "completed"
    },
    "tags": []
   },
   "source": [
    "## Apply ***Noise*** (Augmentation)"
   ]
  },
  {
   "cell_type": "code",
   "execution_count": 34,
   "id": "ec7d43d7",
   "metadata": {
    "execution": {
     "iopub.execute_input": "2025-07-06T07:06:32.722075Z",
     "iopub.status.busy": "2025-07-06T07:06:32.721840Z",
     "iopub.status.idle": "2025-07-06T07:06:41.427697Z",
     "shell.execute_reply": "2025-07-06T07:06:41.426852Z"
    },
    "papermill": {
     "duration": 8.758101,
     "end_time": "2025-07-06T07:06:41.428884",
     "exception": false,
     "start_time": "2025-07-06T07:06:32.670783",
     "status": "completed"
    },
    "tags": []
   },
   "outputs": [
    {
     "name": "stdout",
     "output_type": "stream",
     "text": [
      "Total 640 augmented videos generated\n",
      "Ready to be merged with original videos...\n"
     ]
    }
   ],
   "source": [
    "apply_augmentation(noise_video, video_generator)"
   ]
  },
  {
   "cell_type": "code",
   "execution_count": 35,
   "id": "2c2ec1da",
   "metadata": {
    "execution": {
     "iopub.execute_input": "2025-07-06T07:06:41.590626Z",
     "iopub.status.busy": "2025-07-06T07:06:41.589880Z",
     "iopub.status.idle": "2025-07-06T07:06:41.594745Z",
     "shell.execute_reply": "2025-07-06T07:06:41.593871Z"
    },
    "papermill": {
     "duration": 0.088205,
     "end_time": "2025-07-06T07:06:41.596028",
     "exception": false,
     "start_time": "2025-07-06T07:06:41.507823",
     "status": "completed"
    },
    "tags": []
   },
   "outputs": [
    {
     "name": "stdout",
     "output_type": "stream",
     "text": [
      "Checking Total Videos and Class Count: 640, 640\n",
      "PENDING Total Videos and Class Count: 640, 640\n"
     ]
    }
   ],
   "source": [
    "print(f\"Checking Total Videos and Class Count: {len(video_generator.videos)}, {len(video_generator.labels)}\")\n",
    "print(f\"PENDING Total Videos and Class Count: {len(video_generator.temp_videos)}, {len(video_generator.temp_labels)}\")"
   ]
  },
  {
   "cell_type": "markdown",
   "id": "42cc89d2",
   "metadata": {
    "papermill": {
     "duration": 0.07725,
     "end_time": "2025-07-06T07:06:41.752588",
     "exception": false,
     "start_time": "2025-07-06T07:06:41.675338",
     "status": "completed"
    },
    "tags": []
   },
   "source": [
    "## Apply ***Random Shear x2*** (Augmentation)"
   ]
  },
  {
   "cell_type": "code",
   "execution_count": 36,
   "id": "18ae5d47",
   "metadata": {
    "execution": {
     "iopub.execute_input": "2025-07-06T07:06:41.905572Z",
     "iopub.status.busy": "2025-07-06T07:06:41.904892Z",
     "iopub.status.idle": "2025-07-06T07:07:08.578119Z",
     "shell.execute_reply": "2025-07-06T07:07:08.577266Z"
    },
    "papermill": {
     "duration": 26.750798,
     "end_time": "2025-07-06T07:07:08.579387",
     "exception": false,
     "start_time": "2025-07-06T07:06:41.828589",
     "status": "completed"
    },
    "tags": []
   },
   "outputs": [
    {
     "name": "stdout",
     "output_type": "stream",
     "text": [
      "Total 1280 augmented videos generated\n",
      "Ready to be merged with original videos...\n",
      "Total 1920 augmented videos generated\n",
      "Ready to be merged with original videos...\n"
     ]
    }
   ],
   "source": [
    "apply_augmentation(apply_shear_frames, video_generator, shear_right=0)\n",
    "apply_augmentation(apply_shear_frames, video_generator, shear_right=1)"
   ]
  },
  {
   "cell_type": "code",
   "execution_count": 37,
   "id": "f56e5c1f",
   "metadata": {
    "execution": {
     "iopub.execute_input": "2025-07-06T07:07:08.882886Z",
     "iopub.status.busy": "2025-07-06T07:07:08.882604Z",
     "iopub.status.idle": "2025-07-06T07:07:08.886836Z",
     "shell.execute_reply": "2025-07-06T07:07:08.885947Z"
    },
    "papermill": {
     "duration": 0.180567,
     "end_time": "2025-07-06T07:07:08.888068",
     "exception": false,
     "start_time": "2025-07-06T07:07:08.707501",
     "status": "completed"
    },
    "tags": []
   },
   "outputs": [
    {
     "name": "stdout",
     "output_type": "stream",
     "text": [
      "Checking Total Videos and Class Count: 640, 640\n",
      "PENDING Total Videos and Class Count: 1920, 1920\n"
     ]
    }
   ],
   "source": [
    "print(f\"Checking Total Videos and Class Count: {len(video_generator.videos)}, {len(video_generator.labels)}\")\n",
    "print(f\"PENDING Total Videos and Class Count: {len(video_generator.temp_videos)}, {len(video_generator.temp_labels)}\")"
   ]
  },
  {
   "cell_type": "code",
   "execution_count": 38,
   "id": "eb22951f",
   "metadata": {
    "execution": {
     "iopub.execute_input": "2025-07-06T07:07:09.156320Z",
     "iopub.status.busy": "2025-07-06T07:07:09.155782Z",
     "iopub.status.idle": "2025-07-06T07:07:09.159775Z",
     "shell.execute_reply": "2025-07-06T07:07:09.158957Z"
    },
    "papermill": {
     "duration": 0.140488,
     "end_time": "2025-07-06T07:07:09.160957",
     "exception": false,
     "start_time": "2025-07-06T07:07:09.020469",
     "status": "completed"
    },
    "tags": []
   },
   "outputs": [
    {
     "name": "stdout",
     "output_type": "stream",
     "text": [
      "Successfully added - 1920 videos and 1920 classes.\n",
      "Now Total - 2560 videos and 2560 classes.\n",
      "PENDING for Augmentations - 0 videos and 0 classes.\n"
     ]
    }
   ],
   "source": [
    "# confirm changes to generator\n",
    "video_generator.confirm()"
   ]
  },
  {
   "cell_type": "code",
   "execution_count": 39,
   "id": "8956cde0",
   "metadata": {
    "execution": {
     "iopub.execute_input": "2025-07-06T07:07:09.418158Z",
     "iopub.status.busy": "2025-07-06T07:07:09.417556Z",
     "iopub.status.idle": "2025-07-06T07:07:09.421635Z",
     "shell.execute_reply": "2025-07-06T07:07:09.420823Z"
    },
    "papermill": {
     "duration": 0.132889,
     "end_time": "2025-07-06T07:07:09.422739",
     "exception": false,
     "start_time": "2025-07-06T07:07:09.289850",
     "status": "completed"
    },
    "tags": []
   },
   "outputs": [
    {
     "name": "stdout",
     "output_type": "stream",
     "text": [
      "Checking Video Generator Total Videos and Class Count: 2560, 2560\n"
     ]
    }
   ],
   "source": [
    "print(f\"Checking Video Generator Total Videos and Class Count: {len(video_generator.videos)}, {len(video_generator.labels)}\")"
   ]
  },
  {
   "cell_type": "markdown",
   "id": "5aaa60a9",
   "metadata": {
    "papermill": {
     "duration": 0.126721,
     "end_time": "2025-07-06T07:07:09.672352",
     "exception": false,
     "start_time": "2025-07-06T07:07:09.545631",
     "status": "completed"
    },
    "tags": []
   },
   "source": [
    "## Cheking (Output)"
   ]
  },
  {
   "cell_type": "code",
   "execution_count": 40,
   "id": "4c4ca514",
   "metadata": {
    "execution": {
     "iopub.execute_input": "2025-07-06T07:07:09.942839Z",
     "iopub.status.busy": "2025-07-06T07:07:09.942234Z",
     "iopub.status.idle": "2025-07-06T07:07:10.343556Z",
     "shell.execute_reply": "2025-07-06T07:07:10.342773Z"
    },
    "papermill": {
     "duration": 0.538274,
     "end_time": "2025-07-06T07:07:10.344717",
     "exception": false,
     "start_time": "2025-07-06T07:07:09.806443",
     "status": "completed"
    },
    "tags": []
   },
   "outputs": [
    {
     "name": "stdout",
     "output_type": "stream",
     "text": [
      "(16, 5, 128, 128, 3) (16,)\n"
     ]
    },
    {
     "data": {
      "image/png": "[encoded data removed]",
      "text/plain": [
       "<Figure size 1000x500 with 2 Axes>"
      ]
     },
     "metadata": {},
     "output_type": "display_data"
    },
    {
     "name": "stdout",
     "output_type": "stream",
     "text": [
      "Might be two different action, but to check the flipping focus on the door behind.\n"
     ]
    }
   ],
   "source": [
    "# check horizontal flips\n",
    "videos, labels = video_generator[7]\n",
    "videos1, labels1 = video_generator[1]\n",
    "\n",
    "print(videos.shape, labels.shape)\n",
    "\n",
    "show_frame_vs(videos[0,0],videos1[1,0], title1=\"Flipped Frame 1\", title2=\"Non Flipped Frame 1\")\n",
    "print(\"Might be two different action, but to check the flipping focus on the door behind.\")"
   ]
  },
  {
   "cell_type": "markdown",
   "id": "43278f75",
   "metadata": {
    "papermill": {
     "duration": 0.181467,
     "end_time": "2025-07-06T07:07:10.661092",
     "exception": false,
     "start_time": "2025-07-06T07:07:10.479625",
     "status": "completed"
    },
    "tags": []
   },
   "source": [
    "# 🧪 Test Augmentation (Output)\n",
    "## 🖼️ Horizontal Flip Output"
   ]
  },
  {
   "cell_type": "code",
   "execution_count": 41,
   "id": "3b19ea4d",
   "metadata": {
    "execution": {
     "iopub.execute_input": "2025-07-06T07:07:10.925174Z",
     "iopub.status.busy": "2025-07-06T07:07:10.924669Z",
     "iopub.status.idle": "2025-07-06T07:07:10.928001Z",
     "shell.execute_reply": "2025-07-06T07:07:10.927426Z"
    },
    "papermill": {
     "duration": 0.139236,
     "end_time": "2025-07-06T07:07:10.929206",
     "exception": false,
     "start_time": "2025-07-06T07:07:10.789970",
     "status": "completed"
    },
    "tags": []
   },
   "outputs": [],
   "source": [
    "# flipped_video_1 = horizontal_flip(features[0])\n",
    "\n",
    "# flipped_video_1=np.asarray(flipped_video_1)\n",
    "\n",
    "# show_frame(flipped_video_1[0])\n",
    "# flipped_video_1.shape"
   ]
  },
  {
   "cell_type": "markdown",
   "id": "8ad57d1f",
   "metadata": {
    "papermill": {
     "duration": 0.133819,
     "end_time": "2025-07-06T07:07:11.192972",
     "exception": false,
     "start_time": "2025-07-06T07:07:11.059153",
     "status": "completed"
    },
    "tags": []
   },
   "source": [
    "## 🖼️ Salt and Pepper Noise Output"
   ]
  },
  {
   "cell_type": "code",
   "execution_count": 42,
   "id": "19eb1d81",
   "metadata": {
    "execution": {
     "iopub.execute_input": "2025-07-06T07:07:11.458290Z",
     "iopub.status.busy": "2025-07-06T07:07:11.457634Z",
     "iopub.status.idle": "2025-07-06T07:07:11.461034Z",
     "shell.execute_reply": "2025-07-06T07:07:11.460355Z"
    },
    "papermill": {
     "duration": 0.134455,
     "end_time": "2025-07-06T07:07:11.462129",
     "exception": false,
     "start_time": "2025-07-06T07:07:11.327674",
     "status": "completed"
    },
    "tags": []
   },
   "outputs": [],
   "source": [
    "# noised_video = noise_video(features[0])\n",
    "\n",
    "# print(noised_video.shape)\n",
    "# show_frame(noised_video[0])"
   ]
  },
  {
   "cell_type": "markdown",
   "id": "6f9ccb62",
   "metadata": {
    "papermill": {
     "duration": 0.133681,
     "end_time": "2025-07-06T07:07:11.730974",
     "exception": false,
     "start_time": "2025-07-06T07:07:11.597293",
     "status": "completed"
    },
    "tags": []
   },
   "source": [
    "## 🖼️ Random Shear Output"
   ]
  },
  {
   "cell_type": "code",
   "execution_count": 43,
   "id": "cc298349",
   "metadata": {
    "execution": {
     "iopub.execute_input": "2025-07-06T07:07:12.028770Z",
     "iopub.status.busy": "2025-07-06T07:07:12.028146Z",
     "iopub.status.idle": "2025-07-06T07:07:12.031857Z",
     "shell.execute_reply": "2025-07-06T07:07:12.031145Z"
    },
    "papermill": {
     "duration": 0.175099,
     "end_time": "2025-07-06T07:07:12.033103",
     "exception": false,
     "start_time": "2025-07-06T07:07:11.858004",
     "status": "completed"
    },
    "tags": []
   },
   "outputs": [],
   "source": [
    "# print(features.shape)\n",
    "\n",
    "# sheared_1 = apply_shear_frames(features[0], shear_right=0)\n",
    "# sheared_2 = apply_shear_frames(features[0], shear_right=1)\n",
    "\n",
    "# sheared_1 = np.asarray(sheared_1)\n",
    "# sheared_2 = np.asarray(sheared_2)\n",
    "\n",
    "# print(sheared_1.shape)\n",
    "# show_frame(sheared_1[0])\n",
    "# show_frame(sheared_2[0])"
   ]
  },
  {
   "cell_type": "markdown",
   "id": "0e92f79f",
   "metadata": {
    "papermill": {
     "duration": 0.130391,
     "end_time": "2025-07-06T07:07:12.292600",
     "exception": false,
     "start_time": "2025-07-06T07:07:12.162209",
     "status": "completed"
    },
    "tags": []
   },
   "source": [
    "# 📌 Preparing Data for Training"
   ]
  },
  {
   "cell_type": "code",
   "execution_count": 44,
   "id": "6ea68241",
   "metadata": {
    "execution": {
     "iopub.execute_input": "2025-07-06T07:07:12.544281Z",
     "iopub.status.busy": "2025-07-06T07:07:12.543975Z",
     "iopub.status.idle": "2025-07-06T07:07:12.945571Z",
     "shell.execute_reply": "2025-07-06T07:07:12.944792Z"
    },
    "papermill": {
     "duration": 0.528348,
     "end_time": "2025-07-06T07:07:12.947078",
     "exception": false,
     "start_time": "2025-07-06T07:07:12.418730",
     "status": "completed"
    },
    "tags": []
   },
   "outputs": [],
   "source": [
    "# Clear previous session to free memory\n",
    "import gc\n",
    "\n",
    "gc.collect()\n",
    "tf.keras.backend.clear_session()"
   ]
  },
  {
   "cell_type": "markdown",
   "id": "35d1623c",
   "metadata": {
    "papermill": {
     "duration": 0.140561,
     "end_time": "2025-07-06T07:07:13.224382",
     "exception": false,
     "start_time": "2025-07-06T07:07:13.083821",
     "status": "completed"
    },
    "tags": []
   },
   "source": [
    "## Splitting data for ***Trainig*** and ***Testing***"
   ]
  },
  {
   "cell_type": "code",
   "execution_count": 45,
   "id": "a19b7cea",
   "metadata": {
    "execution": {
     "iopub.execute_input": "2025-07-06T07:07:13.487502Z",
     "iopub.status.busy": "2025-07-06T07:07:13.487170Z",
     "iopub.status.idle": "2025-07-06T07:07:14.296428Z",
     "shell.execute_reply": "2025-07-06T07:07:14.295533Z"
    },
    "papermill": {
     "duration": 0.942451,
     "end_time": "2025-07-06T07:07:14.297786",
     "exception": false,
     "start_time": "2025-07-06T07:07:13.355335",
     "status": "completed"
    },
    "tags": []
   },
   "outputs": [
    {
     "data": {
      "text/plain": [
       "((2560, 5, 128, 128, 3), (2560,))"
      ]
     },
     "execution_count": 45,
     "metadata": {},
     "output_type": "execute_result"
    }
   ],
   "source": [
    "videos = video_generator.videos\n",
    "labels = video_generator.labels\n",
    "\n",
    "videos = np.array(videos, dtype='float32')\n",
    "labels = np.array(labels)\n",
    "\n",
    "videos.shape, labels.shape"
   ]
  },
  {
   "cell_type": "code",
   "execution_count": 46,
   "id": "b5176c87",
   "metadata": {
    "execution": {
     "iopub.execute_input": "2025-07-06T07:07:14.605553Z",
     "iopub.status.busy": "2025-07-06T07:07:14.605266Z",
     "iopub.status.idle": "2025-07-06T07:07:14.610616Z",
     "shell.execute_reply": "2025-07-06T07:07:14.610026Z"
    },
    "papermill": {
     "duration": 0.181076,
     "end_time": "2025-07-06T07:07:14.611680",
     "exception": false,
     "start_time": "2025-07-06T07:07:14.430604",
     "status": "completed"
    },
    "tags": []
   },
   "outputs": [
    {
     "data": {
      "text/plain": [
       "(2560, 16)"
      ]
     },
     "execution_count": 46,
     "metadata": {},
     "output_type": "execute_result"
    }
   ],
   "source": [
    "from tensorflow.keras.utils import to_categorical\n",
    "\n",
    "one_hot_encoded_labels = to_categorical(labels)\n",
    "\n",
    "one_hot_encoded_labels.shape"
   ]
  },
  {
   "cell_type": "code",
   "execution_count": 47,
   "id": "12ed1c87",
   "metadata": {
    "execution": {
     "iopub.execute_input": "2025-07-06T07:07:14.867819Z",
     "iopub.status.busy": "2025-07-06T07:07:14.867560Z",
     "iopub.status.idle": "2025-07-06T07:07:15.069759Z",
     "shell.execute_reply": "2025-07-06T07:07:15.069126Z"
    },
    "papermill": {
     "duration": 0.328138,
     "end_time": "2025-07-06T07:07:15.070801",
     "exception": false,
     "start_time": "2025-07-06T07:07:14.742663",
     "status": "completed"
    },
    "tags": []
   },
   "outputs": [
    {
     "data": {
      "text/plain": [
       "0"
      ]
     },
     "execution_count": 47,
     "metadata": {},
     "output_type": "execute_result"
    }
   ],
   "source": [
    "gc.collect()"
   ]
  },
  {
   "cell_type": "code",
   "execution_count": 48,
   "id": "a67d3895",
   "metadata": {
    "execution": {
     "iopub.execute_input": "2025-07-06T07:07:15.344196Z",
     "iopub.status.busy": "2025-07-06T07:07:15.343913Z",
     "iopub.status.idle": "2025-07-06T07:07:16.288636Z",
     "shell.execute_reply": "2025-07-06T07:07:16.287840Z"
    },
    "papermill": {
     "duration": 1.083877,
     "end_time": "2025-07-06T07:07:16.289970",
     "exception": false,
     "start_time": "2025-07-06T07:07:15.206093",
     "status": "completed"
    },
    "tags": []
   },
   "outputs": [
    {
     "data": {
      "text/plain": [
       "((2048, 5, 128, 128, 3), (2048, 16), (512, 5, 128, 128, 3), (512, 16))"
      ]
     },
     "execution_count": 48,
     "metadata": {},
     "output_type": "execute_result"
    }
   ],
   "source": [
    "# RUN Split the Data into Train ( 75% ) and Test Set ( 25% ).\n",
    "from sklearn.model_selection import train_test_split\n",
    "features_train, features_test, labels_train, labels_test = train_test_split(videos,\n",
    "                                                                            one_hot_encoded_labels,\n",
    "                                                                            test_size = TEST_SIZE,\n",
    "                                                                            shuffle = True,\n",
    "                                                                            random_state = seed_constant)\n",
    "\n",
    "features_train.shape, labels_train.shape, features_test.shape, labels_test.shape"
   ]
  },
  {
   "cell_type": "markdown",
   "id": "62b59bf3",
   "metadata": {
    "papermill": {
     "duration": 0.124232,
     "end_time": "2025-07-06T07:07:16.542262",
     "exception": false,
     "start_time": "2025-07-06T07:07:16.418030",
     "status": "completed"
    },
    "tags": []
   },
   "source": [
    "## Splitting data for ***Training Set*** and ***Validation Set***"
   ]
  },
  {
   "cell_type": "code",
   "execution_count": 49,
   "id": "e39033ba",
   "metadata": {
    "execution": {
     "iopub.execute_input": "2025-07-06T07:07:16.798433Z",
     "iopub.status.busy": "2025-07-06T07:07:16.798098Z",
     "iopub.status.idle": "2025-07-06T07:07:16.804463Z",
     "shell.execute_reply": "2025-07-06T07:07:16.803867Z"
    },
    "papermill": {
     "duration": 0.137819,
     "end_time": "2025-07-06T07:07:16.805538",
     "exception": false,
     "start_time": "2025-07-06T07:07:16.667719",
     "status": "completed"
    },
    "tags": []
   },
   "outputs": [
    {
     "data": {
      "text/plain": [
       "((1638, 5, 128, 128, 3), (1638, 16), (410, 5, 128, 128, 3), (410, 16))"
      ]
     },
     "execution_count": 49,
     "metadata": {},
     "output_type": "execute_result"
    }
   ],
   "source": [
    "# Assuming features_train and labels_train are defined\n",
    "train_set = 1-VALIDATION_SPLIT\n",
    "\n",
    "train_video_frames, val_video_frames = features_train[:int(train_set * len(features_train))], features_train[int(train_set * len(features_train)):]\n",
    "train_labels, val_labels = labels_train[:int(train_set * len(labels_train))], labels_train[int(train_set * len(labels_train)):]\n",
    "\n",
    "train_video_frames.shape, train_labels.shape, val_video_frames.shape, val_labels.shape"
   ]
  },
  {
   "cell_type": "markdown",
   "id": "56da03f1",
   "metadata": {
    "papermill": {
     "duration": 0.128259,
     "end_time": "2025-07-06T07:07:17.065233",
     "exception": false,
     "start_time": "2025-07-06T07:07:16.936974",
     "status": "completed"
    },
    "tags": []
   },
   "source": [
    "## Use Generator `Video Data Generator`"
   ]
  },
  {
   "cell_type": "code",
   "execution_count": 50,
   "id": "f3fd997d",
   "metadata": {
    "execution": {
     "iopub.execute_input": "2025-07-06T07:07:17.389535Z",
     "iopub.status.busy": "2025-07-06T07:07:17.389216Z",
     "iopub.status.idle": "2025-07-06T07:07:17.397057Z",
     "shell.execute_reply": "2025-07-06T07:07:17.396451Z"
    },
    "papermill": {
     "duration": 0.151491,
     "end_time": "2025-07-06T07:07:17.398273",
     "exception": false,
     "start_time": "2025-07-06T07:07:17.246782",
     "status": "completed"
    },
    "tags": []
   },
   "outputs": [
    {
     "name": "stdout",
     "output_type": "stream",
     "text": [
      "Total 1638 videos and 1638 classes\n",
      "Total 410 videos and 410 classes\n"
     ]
    },
    {
     "data": {
      "text/plain": [
       "(103, 26)"
      ]
     },
     "execution_count": 50,
     "metadata": {},
     "output_type": "execute_result"
    }
   ],
   "source": [
    "# Create the training and validation generators\n",
    "train_gen = VideoDataGenerator(\n",
    "    videos=train_video_frames, \n",
    "    labels=train_labels, \n",
    "    batch_size=BATCH_SIZE,\n",
    ")\n",
    "\n",
    "val_gen = VideoDataGenerator(\n",
    "    videos=val_video_frames, \n",
    "    labels=val_labels, \n",
    "    batch_size=BATCH_SIZE,\n",
    ")\n",
    "\n",
    "len(train_gen), len(val_gen)"
   ]
  },
  {
   "cell_type": "markdown",
   "id": "e615f0e6",
   "metadata": {
    "papermill": {
     "duration": 0.130257,
     "end_time": "2025-07-06T07:07:17.656498",
     "exception": false,
     "start_time": "2025-07-06T07:07:17.526241",
     "status": "completed"
    },
    "tags": []
   },
   "source": [
    "## Inspect ***Generator*** Data on Epochs"
   ]
  },
  {
   "cell_type": "code",
   "execution_count": 51,
   "id": "af5504f4",
   "metadata": {
    "execution": {
     "iopub.execute_input": "2025-07-06T07:07:17.909536Z",
     "iopub.status.busy": "2025-07-06T07:07:17.908895Z",
     "iopub.status.idle": "2025-07-06T07:07:17.919109Z",
     "shell.execute_reply": "2025-07-06T07:07:17.918381Z"
    },
    "papermill": {
     "duration": 0.138853,
     "end_time": "2025-07-06T07:07:17.920410",
     "exception": false,
     "start_time": "2025-07-06T07:07:17.781557",
     "status": "completed"
    },
    "tags": []
   },
   "outputs": [
    {
     "name": "stdout",
     "output_type": "stream",
     "text": [
      "[   0    1    2 ... 1635 1636 1637]\n",
      "[ 658 1561 1395 ...  691  912  158]\n"
     ]
    },
    {
     "data": {
      "text/plain": [
       "(16, (16, 5, 128, 128, 3), (16, 16))"
      ]
     },
     "execution_count": 51,
     "metadata": {},
     "output_type": "execute_result"
    }
   ],
   "source": [
    "features, labels = train_gen[1]\n",
    "\n",
    "print(train_gen.indices)\n",
    "\n",
    "train_gen.on_epoch_end()\n",
    "\n",
    "print(train_gen.indices)\n",
    "\n",
    "BATCH_SIZE, features.shape, labels.shape"
   ]
  },
  {
   "cell_type": "markdown",
   "id": "c8c7e009",
   "metadata": {
    "papermill": {
     "duration": 0.128771,
     "end_time": "2025-07-06T07:07:18.189691",
     "exception": false,
     "start_time": "2025-07-06T07:07:18.060920",
     "status": "completed"
    },
    "tags": []
   },
   "source": [
    "## Compute Class Weight"
   ]
  },
  {
   "cell_type": "code",
   "execution_count": 52,
   "id": "0c674629",
   "metadata": {
    "execution": {
     "iopub.execute_input": "2025-07-06T07:07:18.489450Z",
     "iopub.status.busy": "2025-07-06T07:07:18.489119Z",
     "iopub.status.idle": "2025-07-06T07:07:18.495821Z",
     "shell.execute_reply": "2025-07-06T07:07:18.495213Z"
    },
    "papermill": {
     "duration": 0.178019,
     "end_time": "2025-07-06T07:07:18.496859",
     "exception": false,
     "start_time": "2025-07-06T07:07:18.318840",
     "status": "completed"
    },
    "tags": []
   },
   "outputs": [
    {
     "name": "stdout",
     "output_type": "stream",
     "text": [
      "Class weights: {0: 1.0, 1: 1.0, 2: 1.0, 3: 1.0, 4: 1.0, 5: 1.0, 6: 1.0, 7: 1.0, 8: 1.0, 9: 1.0, 10: 1.0, 11: 1.0, 12: 1.0, 13: 1.0, 14: 1.0, 15: 1.0}\n"
     ]
    }
   ],
   "source": [
    "from sklearn.utils.class_weight import compute_class_weight\n",
    "import numpy as np\n",
    "\n",
    "# Assuming y_int are integer labels (not one-hot)\n",
    "y_int = np.argmax(one_hot_encoded_labels, axis=1)  # or just integer labels if you have them\n",
    "\n",
    "classes = np.arange(NO_OF_CLASSES)  # e.g. np.arange(16)\n",
    "class_weights_values = compute_class_weight(class_weight='balanced', classes=classes, y=y_int)\n",
    "\n",
    "class_weights = dict(zip(classes, class_weights_values))\n",
    "\n",
    "print(\"Class weights:\", class_weights)\n"
   ]
  },
  {
   "cell_type": "code",
   "execution_count": 53,
   "id": "7d7d3aad",
   "metadata": {
    "execution": {
     "iopub.execute_input": "2025-07-06T07:07:18.773236Z",
     "iopub.status.busy": "2025-07-06T07:07:18.772947Z",
     "iopub.status.idle": "2025-07-06T07:07:18.983758Z",
     "shell.execute_reply": "2025-07-06T07:07:18.983180Z"
    },
    "papermill": {
     "duration": 0.355255,
     "end_time": "2025-07-06T07:07:18.985197",
     "exception": false,
     "start_time": "2025-07-06T07:07:18.629942",
     "status": "completed"
    },
    "tags": []
   },
   "outputs": [],
   "source": [
    "gc.collect()\n",
    "del videos, one_hot_encoded_labels, labels_train\n",
    "del features_train, val_labels, train_labels\n",
    "del val_video_frames, train_video_frames"
   ]
  },
  {
   "cell_type": "markdown",
   "id": "e28f2040",
   "metadata": {
    "papermill": {
     "duration": 0.133583,
     "end_time": "2025-07-06T07:07:19.250768",
     "exception": false,
     "start_time": "2025-07-06T07:07:19.117185",
     "status": "completed"
    },
    "tags": []
   },
   "source": [
    "# ✨ Model Execution\n",
    "## Creating Model"
   ]
  },
  {
   "cell_type": "code",
   "execution_count": 54,
   "id": "d95a8dd0",
   "metadata": {
    "execution": {
     "iopub.execute_input": "2025-07-06T07:07:19.509722Z",
     "iopub.status.busy": "2025-07-06T07:07:19.508906Z",
     "iopub.status.idle": "2025-07-06T07:07:20.921885Z",
     "shell.execute_reply": "2025-07-06T07:07:20.921196Z"
    },
    "papermill": {
     "duration": 1.541009,
     "end_time": "2025-07-06T07:07:20.923017",
     "exception": false,
     "start_time": "2025-07-06T07:07:19.382008",
     "status": "completed"
    },
    "tags": []
   },
   "outputs": [
    {
     "name": "stdout",
     "output_type": "stream",
     "text": [
      "Loading Xception base model...\n"
     ]
    },
    {
     "name": "stderr",
     "output_type": "stream",
     "text": [
      "/usr/local/lib/python3.11/dist-packages/keras/src/layers/core/wrapper.py:27: UserWarning: Do not pass an `input_shape`/`input_dim` argument to a layer. When using Sequential models, prefer using an `Input(shape)` object as the first layer in the model instead.\n",
      "  super().__init__(**kwargs)\n"
     ]
    },
    {
     "name": "stdout",
     "output_type": "stream",
     "text": [
      "Model architecture created successfully!\n"
     ]
    },
    {
     "data": {
      "text/html": [
       "<pre style=\"white-space:pre;overflow-x:auto;line-height:normal;font-family:Menlo,'DejaVu Sans Mono',consolas,'Courier New',monospace\"><span style=\"font-weight: bold\">Model: \"sequential\"</span>\n",
       "</pre>\n"
      ],
      "text/plain": [
       "\u001b[1mModel: \"sequential\"\u001b[0m\n"
      ]
     },
     "metadata": {},
     "output_type": "display_data"
    },
    {
     "data": {
      "text/html": [
       "<pre style=\"white-space:pre;overflow-x:auto;line-height:normal;font-family:Menlo,'DejaVu Sans Mono',consolas,'Courier New',monospace\">┏━━━━━━━━━━━━━━━━━━━━━━━━━━━━━━━━━━━━━━┳━━━━━━━━━━━━━━━━━━━━━━━━━━━━━┳━━━━━━━━━━━━━━━━━┓\n",
       "┃<span style=\"font-weight: bold\"> Layer (type)                         </span>┃<span style=\"font-weight: bold\"> Output Shape                </span>┃<span style=\"font-weight: bold\">         Param # </span>┃\n",
       "┡━━━━━━━━━━━━━━━━━━━━━━━━━━━━━━━━━━━━━━╇━━━━━━━━━━━━━━━━━━━━━━━━━━━━━╇━━━━━━━━━━━━━━━━━┩\n",
       "│ time_distributed (<span style=\"color: #0087ff; text-decoration-color: #0087ff\">TimeDistributed</span>)   │ (<span style=\"color: #00d7ff; text-decoration-color: #00d7ff\">None</span>, <span style=\"color: #00af00; text-decoration-color: #00af00\">5</span>, <span style=\"color: #00af00; text-decoration-color: #00af00\">4</span>, <span style=\"color: #00af00; text-decoration-color: #00af00\">4</span>, <span style=\"color: #00af00; text-decoration-color: #00af00\">2048</span>)       │      <span style=\"color: #00af00; text-decoration-color: #00af00\">20,861,480</span> │\n",
       "├──────────────────────────────────────┼─────────────────────────────┼─────────────────┤\n",
       "│ time_distributed_1 (<span style=\"color: #0087ff; text-decoration-color: #0087ff\">TimeDistributed</span>) │ (<span style=\"color: #00d7ff; text-decoration-color: #00d7ff\">None</span>, <span style=\"color: #00af00; text-decoration-color: #00af00\">5</span>, <span style=\"color: #00af00; text-decoration-color: #00af00\">2048</span>)             │               <span style=\"color: #00af00; text-decoration-color: #00af00\">0</span> │\n",
       "├──────────────────────────────────────┼─────────────────────────────┼─────────────────┤\n",
       "│ lstm (<span style=\"color: #0087ff; text-decoration-color: #0087ff\">LSTM</span>)                          │ (<span style=\"color: #00d7ff; text-decoration-color: #00d7ff\">None</span>, <span style=\"color: #00af00; text-decoration-color: #00af00\">512</span>)                 │       <span style=\"color: #00af00; text-decoration-color: #00af00\">5,244,928</span> │\n",
       "├──────────────────────────────────────┼─────────────────────────────┼─────────────────┤\n",
       "│ batch_normalization                  │ (<span style=\"color: #00d7ff; text-decoration-color: #00d7ff\">None</span>, <span style=\"color: #00af00; text-decoration-color: #00af00\">512</span>)                 │           <span style=\"color: #00af00; text-decoration-color: #00af00\">2,048</span> │\n",
       "│ (<span style=\"color: #0087ff; text-decoration-color: #0087ff\">BatchNormalization</span>)                 │                             │                 │\n",
       "├──────────────────────────────────────┼─────────────────────────────┼─────────────────┤\n",
       "│ dropout_lstm (<span style=\"color: #0087ff; text-decoration-color: #0087ff\">Dropout</span>)               │ (<span style=\"color: #00d7ff; text-decoration-color: #00d7ff\">None</span>, <span style=\"color: #00af00; text-decoration-color: #00af00\">512</span>)                 │               <span style=\"color: #00af00; text-decoration-color: #00af00\">0</span> │\n",
       "├──────────────────────────────────────┼─────────────────────────────┼─────────────────┤\n",
       "│ dense (<span style=\"color: #0087ff; text-decoration-color: #0087ff\">Dense</span>)                        │ (<span style=\"color: #00d7ff; text-decoration-color: #00d7ff\">None</span>, <span style=\"color: #00af00; text-decoration-color: #00af00\">512</span>)                 │         <span style=\"color: #00af00; text-decoration-color: #00af00\">262,656</span> │\n",
       "├──────────────────────────────────────┼─────────────────────────────┼─────────────────┤\n",
       "│ dropout_dense (<span style=\"color: #0087ff; text-decoration-color: #0087ff\">Dropout</span>)              │ (<span style=\"color: #00d7ff; text-decoration-color: #00d7ff\">None</span>, <span style=\"color: #00af00; text-decoration-color: #00af00\">512</span>)                 │               <span style=\"color: #00af00; text-decoration-color: #00af00\">0</span> │\n",
       "├──────────────────────────────────────┼─────────────────────────────┼─────────────────┤\n",
       "│ dense_1 (<span style=\"color: #0087ff; text-decoration-color: #0087ff\">Dense</span>)                      │ (<span style=\"color: #00d7ff; text-decoration-color: #00d7ff\">None</span>, <span style=\"color: #00af00; text-decoration-color: #00af00\">16</span>)                  │           <span style=\"color: #00af00; text-decoration-color: #00af00\">8,208</span> │\n",
       "└──────────────────────────────────────┴─────────────────────────────┴─────────────────┘\n",
       "</pre>\n"
      ],
      "text/plain": [
       "┏━━━━━━━━━━━━━━━━━━━━━━━━━━━━━━━━━━━━━━┳━━━━━━━━━━━━━━━━━━━━━━━━━━━━━┳━━━━━━━━━━━━━━━━━┓\n",
       "┃\u001b[1m \u001b[0m\u001b[1mLayer (type)                        \u001b[0m\u001b[1m \u001b[0m┃\u001b[1m \u001b[0m\u001b[1mOutput Shape               \u001b[0m\u001b[1m \u001b[0m┃\u001b[1m \u001b[0m\u001b[1m        Param #\u001b[0m\u001b[1m \u001b[0m┃\n",
       "┡━━━━━━━━━━━━━━━━━━━━━━━━━━━━━━━━━━━━━━╇━━━━━━━━━━━━━━━━━━━━━━━━━━━━━╇━━━━━━━━━━━━━━━━━┩\n",
       "│ time_distributed (\u001b[38;5;33mTimeDistributed\u001b[0m)   │ (\u001b[38;5;45mNone\u001b[0m, \u001b[38;5;34m5\u001b[0m, \u001b[38;5;34m4\u001b[0m, \u001b[38;5;34m4\u001b[0m, \u001b[38;5;34m2048\u001b[0m)       │      \u001b[38;5;34m20,861,480\u001b[0m │\n",
       "├──────────────────────────────────────┼─────────────────────────────┼─────────────────┤\n",
       "│ time_distributed_1 (\u001b[38;5;33mTimeDistributed\u001b[0m) │ (\u001b[38;5;45mNone\u001b[0m, \u001b[38;5;34m5\u001b[0m, \u001b[38;5;34m2048\u001b[0m)             │               \u001b[38;5;34m0\u001b[0m │\n",
       "├──────────────────────────────────────┼─────────────────────────────┼─────────────────┤\n",
       "│ lstm (\u001b[38;5;33mLSTM\u001b[0m)                          │ (\u001b[38;5;45mNone\u001b[0m, \u001b[38;5;34m512\u001b[0m)                 │       \u001b[38;5;34m5,244,928\u001b[0m │\n",
       "├──────────────────────────────────────┼─────────────────────────────┼─────────────────┤\n",
       "│ batch_normalization                  │ (\u001b[38;5;45mNone\u001b[0m, \u001b[38;5;34m512\u001b[0m)                 │           \u001b[38;5;34m2,048\u001b[0m │\n",
       "│ (\u001b[38;5;33mBatchNormalization\u001b[0m)                 │                             │                 │\n",
       "├──────────────────────────────────────┼─────────────────────────────┼─────────────────┤\n",
       "│ dropout_lstm (\u001b[38;5;33mDropout\u001b[0m)               │ (\u001b[38;5;45mNone\u001b[0m, \u001b[38;5;34m512\u001b[0m)                 │               \u001b[38;5;34m0\u001b[0m │\n",
       "├──────────────────────────────────────┼─────────────────────────────┼─────────────────┤\n",
       "│ dense (\u001b[38;5;33mDense\u001b[0m)                        │ (\u001b[38;5;45mNone\u001b[0m, \u001b[38;5;34m512\u001b[0m)                 │         \u001b[38;5;34m262,656\u001b[0m │\n",
       "├──────────────────────────────────────┼─────────────────────────────┼─────────────────┤\n",
       "│ dropout_dense (\u001b[38;5;33mDropout\u001b[0m)              │ (\u001b[38;5;45mNone\u001b[0m, \u001b[38;5;34m512\u001b[0m)                 │               \u001b[38;5;34m0\u001b[0m │\n",
       "├──────────────────────────────────────┼─────────────────────────────┼─────────────────┤\n",
       "│ dense_1 (\u001b[38;5;33mDense\u001b[0m)                      │ (\u001b[38;5;45mNone\u001b[0m, \u001b[38;5;34m16\u001b[0m)                  │           \u001b[38;5;34m8,208\u001b[0m │\n",
       "└──────────────────────────────────────┴─────────────────────────────┴─────────────────┘\n"
      ]
     },
     "metadata": {},
     "output_type": "display_data"
    },
    {
     "data": {
      "text/html": [
       "<pre style=\"white-space:pre;overflow-x:auto;line-height:normal;font-family:Menlo,'DejaVu Sans Mono',consolas,'Courier New',monospace\"><span style=\"font-weight: bold\"> Total params: </span><span style=\"color: #00af00; text-decoration-color: #00af00\">26,379,320</span> (100.63 MB)\n",
       "</pre>\n"
      ],
      "text/plain": [
       "\u001b[1m Total params: \u001b[0m\u001b[38;5;34m26,379,320\u001b[0m (100.63 MB)\n"
      ]
     },
     "metadata": {},
     "output_type": "display_data"
    },
    {
     "data": {
      "text/html": [
       "<pre style=\"white-space:pre;overflow-x:auto;line-height:normal;font-family:Menlo,'DejaVu Sans Mono',consolas,'Courier New',monospace\"><span style=\"font-weight: bold\"> Trainable params: </span><span style=\"color: #00af00; text-decoration-color: #00af00\">26,323,768</span> (100.42 MB)\n",
       "</pre>\n"
      ],
      "text/plain": [
       "\u001b[1m Trainable params: \u001b[0m\u001b[38;5;34m26,323,768\u001b[0m (100.42 MB)\n"
      ]
     },
     "metadata": {},
     "output_type": "display_data"
    },
    {
     "data": {
      "text/html": [
       "<pre style=\"white-space:pre;overflow-x:auto;line-height:normal;font-family:Menlo,'DejaVu Sans Mono',consolas,'Courier New',monospace\"><span style=\"font-weight: bold\"> Non-trainable params: </span><span style=\"color: #00af00; text-decoration-color: #00af00\">55,552</span> (217.00 KB)\n",
       "</pre>\n"
      ],
      "text/plain": [
       "\u001b[1m Non-trainable params: \u001b[0m\u001b[38;5;34m55,552\u001b[0m (217.00 KB)\n"
      ]
     },
     "metadata": {},
     "output_type": "display_data"
    },
    {
     "name": "stdout",
     "output_type": "stream",
     "text": [
      "Model Created Successfully!\n"
     ]
    }
   ],
   "source": [
    "# Create the model\n",
    "xlstm_model = create_xception_lstm_model(\n",
    "    sequence_length=SEQUENCE_LENGTH,\n",
    "    image_height=IMAGE_HEIGHT,\n",
    "    image_width=IMAGE_WIDTH,\n",
    "    classes_list=CLASSES_LIST,\n",
    "    dropout_rate=DROPOUT_RATE\n",
    ")\n",
    "\n",
    "# Check if model was created successfully\n",
    "if xlstm_model is None:\n",
    "    print(\"Failed to create model. Check error messages above.\")\n",
    "else:\n",
    "    print(\"Model Created Successfully!\")"
   ]
  },
  {
   "cell_type": "markdown",
   "id": "52109184",
   "metadata": {
    "papermill": {
     "duration": 0.130707,
     "end_time": "2025-07-06T07:07:21.188323",
     "exception": false,
     "start_time": "2025-07-06T07:07:21.057616",
     "status": "completed"
    },
    "tags": []
   },
   "source": [
    "## Plot Model Structure"
   ]
  },
  {
   "cell_type": "code",
   "execution_count": 55,
   "id": "01f12c14",
   "metadata": {
    "execution": {
     "iopub.execute_input": "2025-07-06T07:07:21.494852Z",
     "iopub.status.busy": "2025-07-06T07:07:21.494586Z",
     "iopub.status.idle": "2025-07-06T07:07:21.939906Z",
     "shell.execute_reply": "2025-07-06T07:07:21.939107Z"
    },
    "papermill": {
     "duration": 0.620073,
     "end_time": "2025-07-06T07:07:21.941092",
     "exception": false,
     "start_time": "2025-07-06T07:07:21.321019",
     "status": "completed"
    },
    "tags": []
   },
   "outputs": [
    {
     "name": "stdout",
     "output_type": "stream",
     "text": [
      "Xception Model Plot saved successfully...\n"
     ]
    }
   ],
   "source": [
    "# Plot the structure of the contructed model.\n",
    "from tensorflow.keras.utils import plot_model\n",
    "\n",
    "plot_model(xlstm_model, to_file = f'{MODEL_NAME}_model_Plot.png', show_shapes = True, show_layer_names = True)\n",
    "\n",
    "print(f\"{MODEL_NAME} Model Plot saved successfully...\")"
   ]
  },
  {
   "cell_type": "markdown",
   "id": "cd8d292f",
   "metadata": {
    "papermill": {
     "duration": 0.123311,
     "end_time": "2025-07-06T07:07:22.189729",
     "exception": false,
     "start_time": "2025-07-06T07:07:22.066418",
     "status": "completed"
    },
    "tags": []
   },
   "source": [
    "## Model Compile"
   ]
  },
  {
   "cell_type": "code",
   "execution_count": 56,
   "id": "e986e691",
   "metadata": {
    "execution": {
     "iopub.execute_input": "2025-07-06T07:07:22.445945Z",
     "iopub.status.busy": "2025-07-06T07:07:22.445664Z",
     "iopub.status.idle": "2025-07-06T07:07:22.462040Z",
     "shell.execute_reply": "2025-07-06T07:07:22.461542Z"
    },
    "papermill": {
     "duration": 0.14466,
     "end_time": "2025-07-06T07:07:22.463194",
     "exception": false,
     "start_time": "2025-07-06T07:07:22.318534",
     "status": "completed"
    },
    "tags": []
   },
   "outputs": [],
   "source": [
    "# Create an Instance of Early Stopping Callback\n",
    "from tensorflow.keras.callbacks import EarlyStopping\n",
    "\n",
    "early_stopping_callback = EarlyStopping(monitor = 'val_loss', \n",
    "                                        patience = 7, \n",
    "                                        mode = 'min', \n",
    "                                        restore_best_weights = True)\n",
    "\n",
    "# Compile the model and specify loss function, optimizer and metrics values to the model\n",
    "xlstm_model.compile(loss = 'categorical_crossentropy', \n",
    "                    optimizer=tf.keras.optimizers.Adam(learning_rate=0.0001),\n",
    "                    metrics = [\"accuracy\"])\n"
   ]
  },
  {
   "cell_type": "markdown",
   "id": "5d72060e",
   "metadata": {
    "papermill": {
     "duration": 0.124727,
     "end_time": "2025-07-06T07:07:22.716633",
     "exception": false,
     "start_time": "2025-07-06T07:07:22.591906",
     "status": "completed"
    },
    "tags": []
   },
   "source": [
    "## 💪 Model Fit"
   ]
  },
  {
   "cell_type": "code",
   "execution_count": 57,
   "id": "7ce0a95d",
   "metadata": {
    "execution": {
     "iopub.execute_input": "2025-07-06T07:07:22.969203Z",
     "iopub.status.busy": "2025-07-06T07:07:22.968673Z",
     "iopub.status.idle": "2025-07-06T07:07:22.975083Z",
     "shell.execute_reply": "2025-07-06T07:07:22.974438Z"
    },
    "papermill": {
     "duration": 0.133231,
     "end_time": "2025-07-06T07:07:22.976226",
     "exception": false,
     "start_time": "2025-07-06T07:07:22.842995",
     "status": "completed"
    },
    "tags": []
   },
   "outputs": [
    {
     "name": "stdout",
     "output_type": "stream",
     "text": [
      "Unique labels: [ 0  1  2  3  4  5  6  7  8  9 10 11 12 13 14 15]\n",
      "NO_OF_CLASSES: 16\n"
     ]
    }
   ],
   "source": [
    "labels = np.argmax(train_gen.labels, axis=1)  # assuming one-hot encoded\n",
    "print(\"Unique labels:\", np.unique(labels))\n",
    "print(\"NO_OF_CLASSES:\", NO_OF_CLASSES)\n"
   ]
  },
  {
   "cell_type": "code",
   "execution_count": 58,
   "id": "017bd63d",
   "metadata": {
    "execution": {
     "iopub.execute_input": "2025-07-06T07:07:23.279666Z",
     "iopub.status.busy": "2025-07-06T07:07:23.278854Z",
     "iopub.status.idle": "2025-07-06T07:07:23.284944Z",
     "shell.execute_reply": "2025-07-06T07:07:23.284324Z"
    },
    "papermill": {
     "duration": 0.184717,
     "end_time": "2025-07-06T07:07:23.285995",
     "exception": false,
     "start_time": "2025-07-06T07:07:23.101278",
     "status": "completed"
    },
    "tags": []
   },
   "outputs": [
    {
     "name": "stdout",
     "output_type": "stream",
     "text": [
      "Train label shape: (1638, 16)\n",
      "Val label shape: (410, 16)\n"
     ]
    }
   ],
   "source": [
    "print(\"Train label shape:\", np.shape(train_gen.labels))\n",
    "print(\"Val label shape:\", np.shape(val_gen.labels))\n"
   ]
  },
  {
   "cell_type": "code",
   "execution_count": 59,
   "id": "04901db5",
   "metadata": {
    "execution": {
     "iopub.execute_input": "2025-07-06T07:07:23.542896Z",
     "iopub.status.busy": "2025-07-06T07:07:23.542627Z",
     "iopub.status.idle": "2025-07-06T07:42:54.968982Z",
     "shell.execute_reply": "2025-07-06T07:42:54.968383Z"
    },
    "papermill": {
     "duration": 2131.555984,
     "end_time": "2025-07-06T07:42:54.970578",
     "exception": false,
     "start_time": "2025-07-06T07:07:23.414594",
     "status": "completed"
    },
    "tags": []
   },
   "outputs": [
    {
     "name": "stdout",
     "output_type": "stream",
     "text": [
      "Dataset - Ucf50\n",
      "There are total 50 classes, selected 16 classes\n",
      "Setting 20 videos/class to train the model.\n",
      "Image size 128x128 with 5 sequence length\n",
      "Dropout rate: 0.5\n",
      "Train-Test split ratio 80/20\n",
      "Validation data from Train set 20.0%\n",
      "\n",
      "\n",
      "Training started for 1638 videos of 16 classes with 410 videos for validation...\n",
      "Epoch 1/30\n"
     ]
    },
    {
     "name": "stderr",
     "output_type": "stream",
     "text": [
      "I0000 00:00:1751785705.589143      86 cuda_dnn.cc:529] Loaded cuDNN version 90300\n"
     ]
    },
    {
     "name": "stdout",
     "output_type": "stream",
     "text": [
      "    103/Unknown \u001b[1m131s\u001b[0m 614ms/step - accuracy: 0.1199 - loss: 28.0512"
     ]
    },
    {
     "name": "stderr",
     "output_type": "stream",
     "text": [
      "/usr/local/lib/python3.11/dist-packages/keras/src/trainers/epoch_iterator.py:151: UserWarning: Your input ran out of data; interrupting training. Make sure that your dataset or generator can generate at least `steps_per_epoch * epochs` batches. You may need to use the `.repeat()` function when building your dataset.\n",
      "  self._interrupted_warning()\n"
     ]
    },
    {
     "name": "stdout",
     "output_type": "stream",
     "text": [
      "\u001b[1m103/103\u001b[0m \u001b[32m━━━━━━━━━━━━━━━━━━━━\u001b[0m\u001b[37m\u001b[0m \u001b[1m141s\u001b[0m 713ms/step - accuracy: 0.1204 - loss: 28.0366 - val_accuracy: 0.3268 - val_loss: 23.9946 - learning_rate: 1.0000e-04\n",
      "Epoch 2/30\n",
      "\u001b[1m103/103\u001b[0m \u001b[32m━━━━━━━━━━━━━━━━━━━━\u001b[0m\u001b[37m\u001b[0m \u001b[1m69s\u001b[0m 668ms/step - accuracy: 0.3726 - loss: 22.1366 - val_accuracy: 0.6000 - val_loss: 19.2450 - learning_rate: 1.0000e-04\n",
      "Epoch 3/30\n",
      "\u001b[1m103/103\u001b[0m \u001b[32m━━━━━━━━━━━━━━━━━━━━\u001b[0m\u001b[37m\u001b[0m \u001b[1m69s\u001b[0m 667ms/step - accuracy: 0.6215 - loss: 17.2380 - val_accuracy: 0.7610 - val_loss: 15.1830 - learning_rate: 1.0000e-04\n",
      "Epoch 4/30\n",
      "\u001b[1m103/103\u001b[0m \u001b[32m━━━━━━━━━━━━━━━━━━━━\u001b[0m\u001b[37m\u001b[0m \u001b[1m69s\u001b[0m 666ms/step - accuracy: 0.7778 - loss: 13.8417 - val_accuracy: 0.8220 - val_loss: 12.3342 - learning_rate: 1.0000e-04\n",
      "Epoch 5/30\n",
      "\u001b[1m103/103\u001b[0m \u001b[32m━━━━━━━━━━━━━━━━━━━━\u001b[0m\u001b[37m\u001b[0m \u001b[1m69s\u001b[0m 668ms/step - accuracy: 0.8737 - loss: 11.5993 - val_accuracy: 0.8634 - val_loss: 10.5777 - learning_rate: 1.0000e-04\n",
      "Epoch 6/30\n",
      "\u001b[1m103/103\u001b[0m \u001b[32m━━━━━━━━━━━━━━━━━━━━\u001b[0m\u001b[37m\u001b[0m \u001b[1m69s\u001b[0m 667ms/step - accuracy: 0.9238 - loss: 10.1143 - val_accuracy: 0.8659 - val_loss: 9.5214 - learning_rate: 1.0000e-04\n",
      "Epoch 7/30\n",
      "\u001b[1m103/103\u001b[0m \u001b[32m━━━━━━━━━━━━━━━━━━━━\u001b[0m\u001b[37m\u001b[0m \u001b[1m69s\u001b[0m 667ms/step - accuracy: 0.9574 - loss: 9.0312 - val_accuracy: 0.8854 - val_loss: 8.7017 - learning_rate: 1.0000e-04\n",
      "Epoch 8/30\n",
      "\u001b[1m103/103\u001b[0m \u001b[32m━━━━━━━━━━━━━━━━━━━━\u001b[0m\u001b[37m\u001b[0m \u001b[1m68s\u001b[0m 665ms/step - accuracy: 0.9673 - loss: 8.2818 - val_accuracy: 0.8927 - val_loss: 8.0278 - learning_rate: 1.0000e-04\n",
      "Epoch 9/30\n",
      "\u001b[1m103/103\u001b[0m \u001b[32m━━━━━━━━━━━━━━━━━━━━\u001b[0m\u001b[37m\u001b[0m \u001b[1m69s\u001b[0m 665ms/step - accuracy: 0.9855 - loss: 7.6225 - val_accuracy: 0.8902 - val_loss: 7.5049 - learning_rate: 1.0000e-04\n",
      "Epoch 10/30\n",
      "\u001b[1m103/103\u001b[0m \u001b[32m━━━━━━━━━━━━━━━━━━━━\u001b[0m\u001b[37m\u001b[0m \u001b[1m68s\u001b[0m 665ms/step - accuracy: 0.9850 - loss: 7.0831 - val_accuracy: 0.8854 - val_loss: 7.0427 - learning_rate: 1.0000e-04\n",
      "Epoch 11/30\n",
      "\u001b[1m103/103\u001b[0m \u001b[32m━━━━━━━━━━━━━━━━━━━━\u001b[0m\u001b[37m\u001b[0m \u001b[1m68s\u001b[0m 665ms/step - accuracy: 0.9924 - loss: 6.5881 - val_accuracy: 0.8927 - val_loss: 6.5926 - learning_rate: 1.0000e-04\n",
      "Epoch 12/30\n",
      "\u001b[1m103/103\u001b[0m \u001b[32m━━━━━━━━━━━━━━━━━━━━\u001b[0m\u001b[37m\u001b[0m \u001b[1m69s\u001b[0m 666ms/step - accuracy: 0.9852 - loss: 6.1627 - val_accuracy: 0.9049 - val_loss: 6.0707 - learning_rate: 1.0000e-04\n",
      "Epoch 13/30\n",
      "\u001b[1m103/103\u001b[0m \u001b[32m━━━━━━━━━━━━━━━━━━━━\u001b[0m\u001b[37m\u001b[0m \u001b[1m69s\u001b[0m 666ms/step - accuracy: 0.9866 - loss: 5.7063 - val_accuracy: 0.8927 - val_loss: 5.6856 - learning_rate: 1.0000e-04\n",
      "Epoch 14/30\n",
      "\u001b[1m103/103\u001b[0m \u001b[32m━━━━━━━━━━━━━━━━━━━━\u001b[0m\u001b[37m\u001b[0m \u001b[1m69s\u001b[0m 666ms/step - accuracy: 0.9911 - loss: 5.2713 - val_accuracy: 0.9049 - val_loss: 5.2680 - learning_rate: 1.0000e-04\n",
      "Epoch 15/30\n",
      "\u001b[1m103/103\u001b[0m \u001b[32m━━━━━━━━━━━━━━━━━━━━\u001b[0m\u001b[37m\u001b[0m \u001b[1m69s\u001b[0m 665ms/step - accuracy: 0.9906 - loss: 4.8642 - val_accuracy: 0.9122 - val_loss: 4.8251 - learning_rate: 1.0000e-04\n",
      "Epoch 16/30\n",
      "\u001b[1m103/103\u001b[0m \u001b[32m━━━━━━━━━━━━━━━━━━━━\u001b[0m\u001b[37m\u001b[0m \u001b[1m68s\u001b[0m 665ms/step - accuracy: 0.9996 - loss: 4.4540 - val_accuracy: 0.9049 - val_loss: 4.4813 - learning_rate: 1.0000e-04\n",
      "Epoch 17/30\n",
      "\u001b[1m103/103\u001b[0m \u001b[32m━━━━━━━━━━━━━━━━━━━━\u001b[0m\u001b[37m\u001b[0m \u001b[1m69s\u001b[0m 666ms/step - accuracy: 0.9960 - loss: 4.0749 - val_accuracy: 0.9073 - val_loss: 4.0915 - learning_rate: 1.0000e-04\n",
      "Epoch 18/30\n",
      "\u001b[1m103/103\u001b[0m \u001b[32m━━━━━━━━━━━━━━━━━━━━\u001b[0m\u001b[37m\u001b[0m \u001b[1m69s\u001b[0m 665ms/step - accuracy: 0.9950 - loss: 3.7075 - val_accuracy: 0.9146 - val_loss: 3.7116 - learning_rate: 1.0000e-04\n",
      "Epoch 19/30\n",
      "\u001b[1m103/103\u001b[0m \u001b[32m━━━━━━━━━━━━━━━━━━━━\u001b[0m\u001b[37m\u001b[0m \u001b[1m69s\u001b[0m 667ms/step - accuracy: 0.9958 - loss: 3.3572 - val_accuracy: 0.8976 - val_loss: 3.3785 - learning_rate: 1.0000e-04\n",
      "Epoch 20/30\n",
      "\u001b[1m103/103\u001b[0m \u001b[32m━━━━━━━━━━━━━━━━━━━━\u001b[0m\u001b[37m\u001b[0m \u001b[1m68s\u001b[0m 664ms/step - accuracy: 0.9925 - loss: 3.0250 - val_accuracy: 0.9098 - val_loss: 3.0795 - learning_rate: 1.0000e-04\n",
      "Epoch 21/30\n",
      "\u001b[1m103/103\u001b[0m \u001b[32m━━━━━━━━━━━━━━━━━━━━\u001b[0m\u001b[37m\u001b[0m \u001b[1m69s\u001b[0m 668ms/step - accuracy: 0.9961 - loss: 2.7186 - val_accuracy: 0.9122 - val_loss: 2.7647 - learning_rate: 1.0000e-04\n",
      "Epoch 22/30\n",
      "\u001b[1m103/103\u001b[0m \u001b[32m━━━━━━━━━━━━━━━━━━━━\u001b[0m\u001b[37m\u001b[0m \u001b[1m69s\u001b[0m 669ms/step - accuracy: 0.9953 - loss: 2.4152 - val_accuracy: 0.9073 - val_loss: 2.5636 - learning_rate: 1.0000e-04\n",
      "Epoch 23/30\n",
      "\u001b[1m103/103\u001b[0m \u001b[32m━━━━━━━━━━━━━━━━━━━━\u001b[0m\u001b[37m\u001b[0m \u001b[1m69s\u001b[0m 668ms/step - accuracy: 0.9964 - loss: 2.1508 - val_accuracy: 0.9195 - val_loss: 2.2359 - learning_rate: 1.0000e-04\n",
      "Epoch 24/30\n",
      "\u001b[1m103/103\u001b[0m \u001b[32m━━━━━━━━━━━━━━━━━━━━\u001b[0m\u001b[37m\u001b[0m \u001b[1m69s\u001b[0m 666ms/step - accuracy: 0.9960 - loss: 1.8977 - val_accuracy: 0.9195 - val_loss: 1.9975 - learning_rate: 1.0000e-04\n",
      "Epoch 25/30\n",
      "\u001b[1m103/103\u001b[0m \u001b[32m━━━━━━━━━━━━━━━━━━━━\u001b[0m\u001b[37m\u001b[0m \u001b[1m69s\u001b[0m 669ms/step - accuracy: 0.9992 - loss: 1.6635 - val_accuracy: 0.9000 - val_loss: 1.8096 - learning_rate: 1.0000e-04\n",
      "Epoch 26/30\n",
      "\u001b[1m103/103\u001b[0m \u001b[32m━━━━━━━━━━━━━━━━━━━━\u001b[0m\u001b[37m\u001b[0m \u001b[1m69s\u001b[0m 667ms/step - accuracy: 0.9964 - loss: 1.4582 - val_accuracy: 0.9220 - val_loss: 1.5707 - learning_rate: 1.0000e-04\n",
      "Epoch 27/30\n",
      "\u001b[1m103/103\u001b[0m \u001b[32m━━━━━━━━━━━━━━━━━━━━\u001b[0m\u001b[37m\u001b[0m \u001b[1m69s\u001b[0m 666ms/step - accuracy: 0.9964 - loss: 1.2746 - val_accuracy: 0.9171 - val_loss: 1.3944 - learning_rate: 1.0000e-04\n",
      "Epoch 28/30\n",
      "\u001b[1m103/103\u001b[0m \u001b[32m━━━━━━━━━━━━━━━━━━━━\u001b[0m\u001b[37m\u001b[0m \u001b[1m69s\u001b[0m 668ms/step - accuracy: 0.9964 - loss: 1.0979 - val_accuracy: 0.8902 - val_loss: 1.2740 - learning_rate: 1.0000e-04\n",
      "Epoch 29/30\n",
      "\u001b[1m103/103\u001b[0m \u001b[32m━━━━━━━━━━━━━━━━━━━━\u001b[0m\u001b[37m\u001b[0m \u001b[1m69s\u001b[0m 668ms/step - accuracy: 0.9967 - loss: 0.9493 - val_accuracy: 0.9073 - val_loss: 1.1372 - learning_rate: 1.0000e-04\n",
      "Epoch 30/30\n",
      "\u001b[1m103/103\u001b[0m \u001b[32m━━━━━━━━━━━━━━━━━━━━\u001b[0m\u001b[37m\u001b[0m \u001b[1m69s\u001b[0m 667ms/step - accuracy: 0.9968 - loss: 0.8140 - val_accuracy: 0.9220 - val_loss: 0.9762 - learning_rate: 1.0000e-04\n"
     ]
    }
   ],
   "source": [
    "from tensorflow.keras.callbacks import ReduceLROnPlateau\n",
    "\n",
    "lr_scheduler = ReduceLROnPlateau(monitor='val_loss', \n",
    "                                 factor=0.5, \n",
    "                                 patience=3, \n",
    "                                 min_lr=1e-6)\n",
    "\n",
    "\n",
    "\n",
    "print(f\"Dataset - {DATASET_NAME}\")\n",
    "print(f\"There are total {len(ALL_CLASS_NAMES)} classes, selected {NO_OF_CLASSES} classes\")\n",
    "print(f\"Setting {MAX_VIDEO_PER_CLASS} videos/class to train the model.\")\n",
    "print(f\"Image size {IMAGE_HEIGHT}x{IMAGE_WIDTH} with {SEQUENCE_LENGTH} sequence length\")\n",
    "print(f\"Dropout rate: {DROPOUT_RATE}\")\n",
    "print(f\"Train-Test split ratio {int((1-TEST_SIZE)*100)}/{int(TEST_SIZE*100)}\")\n",
    "print(f\"Validation data from Train set {VALIDATION_SPLIT*100}%\")\n",
    "\n",
    "print(\"\\n\")\n",
    "\n",
    "print(f\"Training started for {len(train_gen.videos)} videos of {NO_OF_CLASSES} classes with {len(val_gen.videos)} videos for validation...\")\n",
    "\n",
    "model_history = xlstm_model.fit(\n",
    "    train_gen.as_dataset(),\n",
    "    validation_data=val_gen.as_dataset(),\n",
    "    epochs=EPOCHS,\n",
    "    # class_weight=class_weight_dict,\n",
    "    callbacks=[early_stopping_callback, lr_scheduler]\n",
    ")"
   ]
  },
  {
   "cell_type": "markdown",
   "id": "22f15dc1",
   "metadata": {
    "papermill": {
     "duration": 0.264486,
     "end_time": "2025-07-06T07:42:55.552148",
     "exception": false,
     "start_time": "2025-07-06T07:42:55.287662",
     "status": "completed"
    },
    "tags": []
   },
   "source": [
    "# Evaluation"
   ]
  },
  {
   "cell_type": "markdown",
   "id": "de2e4a7f",
   "metadata": {
    "papermill": {
     "duration": 0.286943,
     "end_time": "2025-07-06T07:42:56.119328",
     "exception": false,
     "start_time": "2025-07-06T07:42:55.832385",
     "status": "completed"
    },
    "tags": []
   },
   "source": [
    "## ⚡ Model Evaluate"
   ]
  },
  {
   "cell_type": "code",
   "execution_count": 60,
   "id": "744bcb86",
   "metadata": {
    "execution": {
     "iopub.execute_input": "2025-07-06T07:42:56.697214Z",
     "iopub.status.busy": "2025-07-06T07:42:56.696553Z",
     "iopub.status.idle": "2025-07-06T07:43:03.046487Z",
     "shell.execute_reply": "2025-07-06T07:43:03.045711Z"
    },
    "papermill": {
     "duration": 6.664935,
     "end_time": "2025-07-06T07:43:03.047870",
     "exception": false,
     "start_time": "2025-07-06T07:42:56.382935",
     "status": "completed"
    },
    "tags": []
   },
   "outputs": [
    {
     "name": "stdout",
     "output_type": "stream",
     "text": [
      "\u001b[1m16/16\u001b[0m \u001b[32m━━━━━━━━━━━━━━━━━━━━\u001b[0m\u001b[37m\u001b[0m \u001b[1m5s\u001b[0m 272ms/step - accuracy: 0.9343 - loss: 0.9548\n"
     ]
    }
   ],
   "source": [
    "# previous code\n",
    "model_evaluation_history = xlstm_model.evaluate(features_test, labels_test)"
   ]
  },
  {
   "cell_type": "code",
   "execution_count": 61,
   "id": "fd85ce29",
   "metadata": {
    "execution": {
     "iopub.execute_input": "2025-07-06T07:43:03.579870Z",
     "iopub.status.busy": "2025-07-06T07:43:03.579193Z",
     "iopub.status.idle": "2025-07-06T07:43:03.966147Z",
     "shell.execute_reply": "2025-07-06T07:43:03.965334Z"
    },
    "papermill": {
     "duration": 0.652436,
     "end_time": "2025-07-06T07:43:03.967407",
     "exception": false,
     "start_time": "2025-07-06T07:43:03.314971",
     "status": "completed"
    },
    "tags": []
   },
   "outputs": [
    {
     "data": {
      "image/png": "[encoded data removed]",
      "text/plain": [
       "<Figure size 1200x500 with 2 Axes>"
      ]
     },
     "metadata": {},
     "output_type": "display_data"
    }
   ],
   "source": [
    "import matplotlib.pyplot as plt\n",
    "\n",
    "# Accuracy\n",
    "plt.figure(figsize=(12, 5))\n",
    "\n",
    "plt.subplot(1, 2, 1)\n",
    "plt.plot(model_history.history['accuracy'], label='Train Accuracy')\n",
    "plt.plot(model_history.history['val_accuracy'], label='Validation Accuracy')\n",
    "plt.title('Model Accuracy')\n",
    "plt.xlabel('Epoch')\n",
    "plt.ylabel('Accuracy')\n",
    "plt.legend()\n",
    "\n",
    "# Loss\n",
    "plt.subplot(1, 2, 2)\n",
    "plt.plot(model_history.history['loss'], label='Train Loss')\n",
    "plt.plot(model_history.history['val_loss'], label='Validation Loss')\n",
    "plt.title('Model Loss')\n",
    "plt.xlabel('Epoch')\n",
    "plt.ylabel('Loss')\n",
    "plt.legend()\n",
    "\n",
    "plt.tight_layout()\n",
    "plt.show()\n"
   ]
  },
  {
   "cell_type": "markdown",
   "id": "fdf062cc",
   "metadata": {
    "papermill": {
     "duration": 0.313808,
     "end_time": "2025-07-06T07:43:04.550805",
     "exception": false,
     "start_time": "2025-07-06T07:43:04.236997",
     "status": "completed"
    },
    "tags": []
   },
   "source": [
    "## 📈 Confusion Matrix"
   ]
  },
  {
   "cell_type": "code",
   "execution_count": 62,
   "id": "a13e6565",
   "metadata": {
    "execution": {
     "iopub.execute_input": "2025-07-06T07:43:05.069974Z",
     "iopub.status.busy": "2025-07-06T07:43:05.069234Z",
     "iopub.status.idle": "2025-07-06T07:43:18.207289Z",
     "shell.execute_reply": "2025-07-06T07:43:18.206476Z"
    },
    "papermill": {
     "duration": 13.402125,
     "end_time": "2025-07-06T07:43:18.208865",
     "exception": false,
     "start_time": "2025-07-06T07:43:04.806740",
     "status": "completed"
    },
    "tags": []
   },
   "outputs": [
    {
     "name": "stdout",
     "output_type": "stream",
     "text": [
      "Total 512 videos and 512 classes\n",
      "\u001b[1m128/128\u001b[0m \u001b[32m━━━━━━━━━━━━━━━━━━━━\u001b[0m\u001b[37m\u001b[0m \u001b[1m12s\u001b[0m 51ms/step\n",
      "True classes shape: (512,)\n",
      "Predicted classes shape: (512,)\n",
      "Classification Report:\n",
      "                   precision    recall  f1-score   support\n",
      "\n",
      "        HorseRace       1.00      0.83      0.91        29\n",
      "VolleyballSpiking       0.67      0.94      0.78        36\n",
      "           Biking       1.00      0.90      0.95        29\n",
      "           TaiChi       1.00      1.00      1.00        37\n",
      "            Punch       1.00      1.00      1.00        35\n",
      "     BreastStroke       0.97      0.89      0.93        38\n",
      "        Billiards       0.96      0.79      0.86        28\n",
      "        PoleVault       1.00      0.89      0.94        28\n",
      "      ThrowDiscus       1.00      0.97      0.99        39\n",
      "    BaseballPitch       0.96      0.89      0.93        28\n",
      "      HorseRiding       1.00      1.00      1.00        36\n",
      "           Mixing       1.00      1.00      1.00        28\n",
      "         HighJump       0.79      1.00      0.88        30\n",
      "           Skijet       0.93      1.00      0.96        26\n",
      "    SkateBoarding       0.92      0.92      0.92        37\n",
      "   MilitaryParade       1.00      0.89      0.94        28\n",
      "\n",
      "         accuracy                           0.94       512\n",
      "        macro avg       0.95      0.93      0.94       512\n",
      "     weighted avg       0.95      0.94      0.94       512\n",
      "\n"
     ]
    },
    {
     "name": "stderr",
     "output_type": "stream",
     "text": [
      "/usr/local/lib/python3.11/dist-packages/keras/src/trainers/epoch_iterator.py:151: UserWarning: Your input ran out of data; interrupting training. Make sure that your dataset or generator can generate at least `steps_per_epoch * epochs` batches. You may need to use the `.repeat()` function when building your dataset.\n",
      "  self._interrupted_warning()\n"
     ]
    },
    {
     "data": {
      "image/png": "[encoded data removed]",
      "text/plain": [
       "<Figure size 800x600 with 2 Axes>"
      ]
     },
     "metadata": {},
     "output_type": "display_data"
    }
   ],
   "source": [
    "from sklearn.metrics import classification_report, confusion_matrix\n",
    "import seaborn as sns\n",
    "import matplotlib.pyplot as plt\n",
    "\n",
    "# Create test generator with batch_size matching test set size\n",
    "test_gen = VideoDataGenerator(\n",
    "    videos=features_test,\n",
    "    labels=labels_test,\n",
    "    batch_size=4,  # Process all test samples at once\n",
    ")\n",
    "\n",
    "# Get predictions\n",
    "predictions = xlstm_model.predict(test_gen.as_dataset())\n",
    "predicted_classes = np.argmax(predictions, axis=1)\n",
    "true_classes = np.argmax(labels_test, axis=1)\n",
    "\n",
    "# Verify shapes\n",
    "print(f\"True classes shape: {true_classes.shape}\")\n",
    "print(f\"Predicted classes shape: {predicted_classes.shape}\")\n",
    "assert len(true_classes) == len(predicted_classes), \"Sample counts do not match!\"\n",
    "\n",
    "# Generate classification report\n",
    "print(\"Classification Report:\")\n",
    "print(classification_report(true_classes, predicted_classes, target_names=CLASSES_LIST))\n",
    "\n",
    "# Plot confusion matrix\n",
    "cm = confusion_matrix(true_classes, predicted_classes)\n",
    "plt.figure(figsize=(8, 6))\n",
    "sns.heatmap(cm, annot=True, fmt='d', cmap='Blues', xticklabels=CLASSES_LIST, yticklabels=CLASSES_LIST[-1])\n",
    "plt.xlabel('Predicted')\n",
    "plt.ylabel('True')\n",
    "plt.title('Confusion Matrix')\n",
    "plt.show()"
   ]
  }
 ],
 "metadata": {
  "kaggle": {
   "accelerator": "nvidiaTeslaT4",
   "dataSources": [
    {
     "datasetId": 1357563,
     "sourceId": 2256095,
     "sourceType": "datasetVersion"
    },
    {
     "datasetId": 7763484,
     "sourceId": 12338519,
     "sourceType": "datasetVersion"
    },
    {
     "datasetId": 7801884,
     "sourceId": 12373562,
     "sourceType": "datasetVersion"
    },
    {
     "datasetId": 7801555,
     "sourceId": 12373067,
     "sourceType": "datasetVersion"
    }
   ],
   "isGpuEnabled": true,
   "isInternetEnabled": true,
   "language": "python",
   "sourceType": "notebook"
  },
  "kernelspec": {
   "display_name": "Python 3",
   "language": "python",
   "name": "python3"
  },
  "language_info": {
   "codemirror_mode": {
    "name": "ipython",
    "version": 3
   },
   "file_extension": ".py",
   "mimetype": "text/x-python",
   "name": "python",
   "nbconvert_exporter": "python",
   "pygments_lexer": "ipython3",
   "version": "3.11.11"
  },
  "papermill": {
   "default_parameters": {},
   "duration": 2304.77641,
   "end_time": "2025-07-06T07:43:21.614936",
   "environment_variables": {},
   "exception": null,
   "input_path": "__notebook__.ipynb",
   "output_path": "__notebook__.ipynb",
   "parameters": {},
   "start_time": "2025-07-06T07:04:56.838526",
   "version": "2.6.0"
  }
 },
 "nbformat": 4,
 "nbformat_minor": 5
}
