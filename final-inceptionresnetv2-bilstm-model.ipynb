{
 "cells": [
  {
   "cell_type": "markdown",
   "id": "7b4139d1",
   "metadata": {
    "papermill": {
     "duration": 0.010688,
     "end_time": "2025-07-12T05:26:29.143031",
     "exception": false,
     "start_time": "2025-07-12T05:26:29.132343",
     "status": "completed"
    },
    "tags": []
   },
   "source": [
    "# Initialization\n",
    "## Import Libraries"
   ]
  },
  {
   "cell_type": "code",
   "execution_count": 1,
   "id": "79825468",
   "metadata": {
    "_cell_guid": "b1076dfc-b9ad-4769-8c92-a6c4dae69d19",
    "_uuid": "8f2839f25d086af736a60e9eeb907d3b93b6e0e5",
    "execution": {
     "iopub.execute_input": "2025-07-12T05:26:29.162171Z",
     "iopub.status.busy": "2025-07-12T05:26:29.161941Z",
     "iopub.status.idle": "2025-07-12T05:26:51.619957Z",
     "shell.execute_reply": "2025-07-12T05:26:51.619110Z"
    },
    "papermill": {
     "duration": 22.469109,
     "end_time": "2025-07-12T05:26:51.621546",
     "exception": false,
     "start_time": "2025-07-12T05:26:29.152437",
     "status": "completed"
    },
    "tags": []
   },
   "outputs": [
    {
     "name": "stderr",
     "output_type": "stream",
     "text": [
      "2025-07-12 05:26:32.205035: E external/local_xla/xla/stream_executor/cuda/cuda_fft.cc:477] Unable to register cuFFT factory: Attempting to register factory for plugin cuFFT when one has already been registered\n",
      "WARNING: All log messages before absl::InitializeLog() is called are written to STDERR\n",
      "E0000 00:00:1752297992.560113      19 cuda_dnn.cc:8310] Unable to register cuDNN factory: Attempting to register factory for plugin cuDNN when one has already been registered\n",
      "E0000 00:00:1752297992.666600      19 cuda_blas.cc:1418] Unable to register cuBLAS factory: Attempting to register factory for plugin cuBLAS when one has already been registered\n"
     ]
    }
   ],
   "source": [
    "# install librarires\n",
    "import os\n",
    "import tensorflow as tf\n",
    "import numpy as np\n",
    "import random"
   ]
  },
  {
   "cell_type": "markdown",
   "id": "f7b20f04",
   "metadata": {
    "papermill": {
     "duration": 0.00835,
     "end_time": "2025-07-12T05:26:51.639588",
     "exception": false,
     "start_time": "2025-07-12T05:26:51.631238",
     "status": "completed"
    },
    "tags": []
   },
   "source": [
    "## ℹ️ Set Global Constants"
   ]
  },
  {
   "cell_type": "code",
   "execution_count": 2,
   "id": "3099d12b",
   "metadata": {
    "execution": {
     "iopub.execute_input": "2025-07-12T05:26:51.657699Z",
     "iopub.status.busy": "2025-07-12T05:26:51.656907Z",
     "iopub.status.idle": "2025-07-12T05:26:51.672384Z",
     "shell.execute_reply": "2025-07-12T05:26:51.671574Z"
    },
    "papermill": {
     "duration": 0.025571,
     "end_time": "2025-07-12T05:26:51.673564",
     "exception": false,
     "start_time": "2025-07-12T05:26:51.647993",
     "status": "completed"
    },
    "tags": []
   },
   "outputs": [
    {
     "name": "stdout",
     "output_type": "stream",
     "text": [
      "Weizmann Dataset\n",
      "There are total 10 classes, selected 10 classes\n",
      "Setting None/class to train the model.\n",
      "Image size 128x128 with 5 sequence length\n",
      "Dropout rate: 0.5\n",
      "Train-Test split ratio 80/20\n",
      "Validation data from Train set 20.0%\n"
     ]
    }
   ],
   "source": [
    "# global variables\n",
    "# set dataset directories\n",
    "\n",
    "\n",
    "DATASET_DIR = \"/kaggle/input/weizmann-video-dataset/Weizmann Dataset\"\n",
    "DATASET_NAME = DATASET_DIR.split(\"/\")[-1].replace(\"-\", \" \").title()\n",
    "\n",
    "print(DATASET_NAME)\n",
    "\n",
    "ALL_CLASS_NAMES = os.listdir(DATASET_DIR)\n",
    "\n",
    "# Global constant variables -> \n",
    "NO_OF_CLASSES = len(ALL_CLASS_NAMES)\n",
    "CLASSES_LIST = ALL_CLASS_NAMES[:NO_OF_CLASSES]\n",
    "\n",
    "# Model Configuration\n",
    "IMAGE_HEIGHT, IMAGE_WIDTH = 128, 128\n",
    "SEQUENCE_LENGTH = 5\n",
    "\n",
    "# set drop out rate\n",
    "DROPOUT_RATE = 0.5\n",
    "\n",
    "# set datas\n",
    "MAX_VIDEO_PER_CLASS = None\n",
    "\n",
    "# split dataset\n",
    "TEST_SIZE = 0.20\n",
    "\n",
    "# model fit parameters\n",
    "EPOCHS = 30\n",
    "BATCH_SIZE = 24\n",
    "VALIDATION_SPLIT = 0.20\n",
    "\n",
    "# augmentation values\n",
    "NOISE_FACTOR = 0.02\n",
    "SHEAR_X= 1\n",
    "SHEAR_Y= 1\n",
    "\n",
    "# give a name of the model to save\n",
    "MODEL_NAME = \"Xception\"\n",
    "\n",
    "print(f\"There are total {len(ALL_CLASS_NAMES)} classes, selected {NO_OF_CLASSES} classes\")\n",
    "print(f\"Setting {MAX_VIDEO_PER_CLASS}/class to train the model.\")\n",
    "print(f\"Image size {IMAGE_HEIGHT}x{IMAGE_WIDTH} with {SEQUENCE_LENGTH} sequence length\")\n",
    "print(f\"Dropout rate: {DROPOUT_RATE}\")\n",
    "print(f\"Train-Test split ratio {int((1-TEST_SIZE)*100)}/{int(TEST_SIZE*100)}\")\n",
    "print(f\"Validation data from Train set {VALIDATION_SPLIT*100}%\")"
   ]
  },
  {
   "cell_type": "markdown",
   "id": "92a475b1",
   "metadata": {
    "papermill": {
     "duration": 0.008244,
     "end_time": "2025-07-12T05:26:51.690378",
     "exception": false,
     "start_time": "2025-07-12T05:26:51.682134",
     "status": "completed"
    },
    "tags": []
   },
   "source": [
    "## Set `Seed` Values"
   ]
  },
  {
   "cell_type": "code",
   "execution_count": 3,
   "id": "dc08b0af",
   "metadata": {
    "execution": {
     "iopub.execute_input": "2025-07-12T05:26:51.708308Z",
     "iopub.status.busy": "2025-07-12T05:26:51.707878Z",
     "iopub.status.idle": "2025-07-12T05:26:51.711251Z",
     "shell.execute_reply": "2025-07-12T05:26:51.710765Z"
    },
    "papermill": {
     "duration": 0.013691,
     "end_time": "2025-07-12T05:26:51.712506",
     "exception": false,
     "start_time": "2025-07-12T05:26:51.698815",
     "status": "completed"
    },
    "tags": []
   },
   "outputs": [],
   "source": [
    "# set seeed to get similar values\n",
    "seed_constant = 27\n",
    "np.random.seed(seed_constant)\n",
    "random.seed(seed_constant)\n",
    "tf.random.set_seed(seed_constant)"
   ]
  },
  {
   "cell_type": "markdown",
   "id": "3fe33f6b",
   "metadata": {
    "papermill": {
     "duration": 0.008262,
     "end_time": "2025-07-12T05:26:51.728743",
     "exception": false,
     "start_time": "2025-07-12T05:26:51.720481",
     "status": "completed"
    },
    "tags": []
   },
   "source": [
    "# 📌 Function Definition\n",
    "## Resize and Frame Extraction"
   ]
  },
  {
   "cell_type": "code",
   "execution_count": 4,
   "id": "c5fd4132",
   "metadata": {
    "execution": {
     "iopub.execute_input": "2025-07-12T05:26:51.746059Z",
     "iopub.status.busy": "2025-07-12T05:26:51.745873Z",
     "iopub.status.idle": "2025-07-12T05:26:51.754139Z",
     "shell.execute_reply": "2025-07-12T05:26:51.753645Z"
    },
    "papermill": {
     "duration": 0.018298,
     "end_time": "2025-07-12T05:26:51.755156",
     "exception": false,
     "start_time": "2025-07-12T05:26:51.736858",
     "status": "completed"
    },
    "tags": []
   },
   "outputs": [],
   "source": [
    "import cv2\n",
    "from concurrent.futures import ThreadPoolExecutor\n",
    "\n",
    "def resize_and_normalize_frame(frame, image_height, image_width):\n",
    "    try:\n",
    "        resized_frame = cv2.resize(frame, (image_width, image_height), interpolation=cv2.INTER_LINEAR)\n",
    "        normalized_frame = resized_frame / 255.0\n",
    "        return normalized_frame\n",
    "    except Exception as e:\n",
    "        print(f\"Error processing frame: {e}\")\n",
    "        return None\n",
    "\n",
    "def frames_extraction(video_path, \n",
    "                      sequence_length=SEQUENCE_LENGTH, \n",
    "                      image_height=IMAGE_HEIGHT, \n",
    "                      image_width=IMAGE_WIDTH):\n",
    "    # Declare a list to store video frames\n",
    "    frames_list = []\n",
    "\n",
    "    # Check if video file exists\n",
    "    if not os.path.exists(video_path):\n",
    "        print(f\"Error: Video file not found at {video_path}\")\n",
    "        return None\n",
    "\n",
    "    # Read the video file using VideoCapture with optimized settings\n",
    "    video_reader = cv2.VideoCapture(video_path, cv2.CAP_FFMPEG)\n",
    "\n",
    "    # Check if the video was opened successfully\n",
    "    if not video_reader.isOpened():\n",
    "        print(f\"Error: Could not open video file {video_path}\")\n",
    "        video_reader.release()\n",
    "        return None\n",
    "\n",
    "    # Get the total number of frames in the video\n",
    "    video_frames_count = int(video_reader.get(cv2.CAP_PROP_FRAME_COUNT))\n",
    "\n",
    "    # Ensure the video has enough frames\n",
    "    if video_frames_count < sequence_length:\n",
    "        print(f\"Warning: Video {video_path} has only {video_frames_count} frames, less than required {sequence_length}\")\n",
    "        video_reader.release()\n",
    "        return None\n",
    "\n",
    "    # Calculate the interval after which frames will be sampled\n",
    "    skip_frames_window = max(int(video_frames_count / sequence_length), 1)\n",
    "\n",
    "    # Pre-allocate frame indices to extract\n",
    "    frame_indices = [i * skip_frames_window for i in range(sequence_length)]\n",
    "\n",
    "    # Read and process frames in parallel\n",
    "    frames = []\n",
    "    for idx in frame_indices:\n",
    "        video_reader.set(cv2.CAP_PROP_POS_FRAMES, idx)\n",
    "        success, frame = video_reader.read()\n",
    "        if not success or frame is None:\n",
    "            print(f\"Warning: Failed to read frame at index {idx} from {video_path}\")\n",
    "            break\n",
    "        frame = cv2.cvtColor(frame, cv2.COLOR_BGR2RGB)\n",
    "        frames.append(frame)\n",
    "\n",
    "    # Release the VideoCapture object early\n",
    "    video_reader.release()\n",
    "\n",
    "    # Ensure the correct number of frames is read\n",
    "    if len(frames) != sequence_length:\n",
    "        print(f\"Warning: Read {len(frames)} frames instead of {sequence_length} from {video_path}\")\n",
    "        return None\n",
    "\n",
    "    # Process frames in parallel using ThreadPoolExecutor\n",
    "    with ThreadPoolExecutor() as executor:\n",
    "        processed_frames = list(executor.map(\n",
    "            lambda f: resize_and_normalize_frame(f, image_height, image_width), \n",
    "            frames\n",
    "        ))\n",
    "\n",
    "    # Check for any failed frame processing\n",
    "    if any(f is None for f in processed_frames):\n",
    "        print(f\"Warning: Some frames failed to process in {video_path}\")\n",
    "        return None\n",
    "\n",
    "    # Convert to NumPy array\n",
    "    frames_array = np.array(processed_frames, dtype=np.float32)\n",
    "\n",
    "    return frames_array"
   ]
  },
  {
   "cell_type": "code",
   "execution_count": 5,
   "id": "b84c2e61",
   "metadata": {
    "execution": {
     "iopub.execute_input": "2025-07-12T05:26:51.772642Z",
     "iopub.status.busy": "2025-07-12T05:26:51.772420Z",
     "iopub.status.idle": "2025-07-12T05:26:51.775603Z",
     "shell.execute_reply": "2025-07-12T05:26:51.774948Z"
    },
    "papermill": {
     "duration": 0.013103,
     "end_time": "2025-07-12T05:26:51.776645",
     "exception": false,
     "start_time": "2025-07-12T05:26:51.763542",
     "status": "completed"
    },
    "tags": []
   },
   "outputs": [],
   "source": [
    " # # Iterate through all video files\n",
    " #        for file_name in files_list:\n",
    " #            video_file_path = os.path.join(class_path, file_name)\n",
    "\n",
    " #            # Extract frames using the updated frames_extraction function\n",
    " #            frames = frames_extraction(video_file_path, sequence_length, image_height, image_width)\n",
    "\n",
    " #            # Skip videos where frame extraction failed\n",
    " #            if frames is None:\n",
    " #                print(f\"Skipping video {video_file_path} due to frame extraction failure\")\n",
    " #                continue\n",
    "\n",
    " #            # Append the data to respective lists\n",
    " #            features.append(frames)\n",
    " #            labels.append(class_index)"
   ]
  },
  {
   "cell_type": "markdown",
   "id": "bc138d79",
   "metadata": {
    "papermill": {
     "duration": 0.008806,
     "end_time": "2025-07-12T05:26:51.793978",
     "exception": false,
     "start_time": "2025-07-12T05:26:51.785172",
     "status": "completed"
    },
    "tags": []
   },
   "source": [
    "## Create Dataset"
   ]
  },
  {
   "cell_type": "code",
   "execution_count": 6,
   "id": "fdd7f480",
   "metadata": {
    "execution": {
     "iopub.execute_input": "2025-07-12T05:26:51.814696Z",
     "iopub.status.busy": "2025-07-12T05:26:51.814430Z",
     "iopub.status.idle": "2025-07-12T05:26:51.820920Z",
     "shell.execute_reply": "2025-07-12T05:26:51.820236Z"
    },
    "papermill": {
     "duration": 0.01775,
     "end_time": "2025-07-12T05:26:51.822091",
     "exception": false,
     "start_time": "2025-07-12T05:26:51.804341",
     "status": "completed"
    },
    "tags": []
   },
   "outputs": [],
   "source": [
    "# RUN create dataset function definition\n",
    "def create_dataset(dataset_dir,\n",
    "                   classes_list, \n",
    "                   sequence_length=SEQUENCE_LENGTH, \n",
    "                   image_height=IMAGE_HEIGHT, \n",
    "                   image_width=IMAGE_WIDTH, \n",
    "                   max_videos_per_class=None,\n",
    "                   augmentations=False\n",
    "                  ):\n",
    "    \n",
    "    # Initialize lists to store features, labels, and video file paths\n",
    "    videos = []\n",
    "    labels = []\n",
    "\n",
    "    # Check if dataset directory exists\n",
    "    if not os.path.exists(dataset_dir):\n",
    "        raise FileNotFoundError(f\"Dataset directory not found: {dataset_dir}\")\n",
    "\n",
    "    # Iterate through all classes in the classes list\n",
    "    for class_index, class_name in enumerate(classes_list):\n",
    "        class_path = os.path.join(dataset_dir, class_name)\n",
    "        \n",
    "        # Check if class directory exists\n",
    "        if not os.path.exists(class_path):\n",
    "            print(f\"Warning: Class directory not found: {class_path}\")\n",
    "            continue\n",
    "\n",
    "        print(f'Extracting Data of Class: {class_name}')\n",
    "\n",
    "        # Get the list of video files in the class directory\n",
    "        files_list = os.listdir(class_path)\n",
    "\n",
    "        # Limit the number of videos if specified\n",
    "        if max_videos_per_class is not None:\n",
    "            files_list = files_list[:max_videos_per_class]\n",
    "\n",
    "        # Iterate through all video files\n",
    "        for file_name in files_list:\n",
    "            video_file_path = os.path.join(class_path, file_name)\n",
    "\n",
    "            # Extract frames using the updated frames_extraction function\n",
    "            frames = frames_extraction(video_file_path, \n",
    "                                       sequence_length, \n",
    "                                       image_height, \n",
    "                                       image_width)\n",
    "\n",
    "            # Skip videos where frame extraction failed\n",
    "            if frames is None:\n",
    "                print(f\"Skipping video {video_file_path} due to frame extraction failure\")\n",
    "                continue\n",
    "\n",
    "            # Append the data to respective lists\n",
    "            videos.append(frames)\n",
    "            labels.append(class_index)\n",
    "\n",
    "    # Convert lists to numpy arrays\n",
    "    if not videos:\n",
    "        raise ValueError(\"No valid videos were processed. Check dataset or parameters.\")\n",
    "    videos = np.asarray(videos)\n",
    "    labels = np.array(labels)\n",
    "\n",
    "    print(f\"Dataset created with {len(videos)} videos\")\n",
    "    print(f\"Features shape: {videos.shape}\")\n",
    "    print(f\"Labels shape: {labels.shape}\")\n",
    "\n",
    "    return videos, labels"
   ]
  },
  {
   "cell_type": "markdown",
   "id": "6efee089",
   "metadata": {
    "papermill": {
     "duration": 0.008447,
     "end_time": "2025-07-12T05:26:51.838885",
     "exception": false,
     "start_time": "2025-07-12T05:26:51.830438",
     "status": "completed"
    },
    "tags": []
   },
   "source": [
    "## 🪄 Video Data Generator"
   ]
  },
  {
   "cell_type": "code",
   "execution_count": 7,
   "id": "e224951f",
   "metadata": {
    "execution": {
     "iopub.execute_input": "2025-07-12T05:26:51.858469Z",
     "iopub.status.busy": "2025-07-12T05:26:51.858153Z",
     "iopub.status.idle": "2025-07-12T05:26:51.941594Z",
     "shell.execute_reply": "2025-07-12T05:26:51.940873Z"
    },
    "papermill": {
     "duration": 0.094811,
     "end_time": "2025-07-12T05:26:51.942903",
     "exception": false,
     "start_time": "2025-07-12T05:26:51.848092",
     "status": "completed"
    },
    "tags": []
   },
   "outputs": [],
   "source": [
    "from tensorflow.keras.utils import Sequence, to_categorical\n",
    "import tensorflow as tf\n",
    "import numpy as np\n",
    "import cv2\n",
    "\n",
    "\n",
    "\n",
    "\n",
    "class VideoDataGenerator(Sequence):\n",
    "    def __init__(self, videos, labels, batch_size, is_training=False):\n",
    "        self.videos = list(videos)  # List of video file paths\n",
    "        self.labels = list(labels)  # List or array of labels encoded\n",
    "        self.batch_size = batch_size\n",
    "        self.indices = np.arange(len(self.videos))  # For shuffling\n",
    "        self.is_training = is_training  # Flag to control whether augmentation is applied\n",
    "        self.temp_videos=[]\n",
    "        self.temp_labels=[]\n",
    "        \n",
    "        \n",
    "        print(f\"Total {len(videos)} videos and {len(labels)} classes\")\n",
    "\n",
    "    def __len__(self):\n",
    "        # Return the number of batches per epoch\n",
    "        return int(np.ceil(len(self.videos) / self.batch_size))\n",
    "\n",
    "    def __getitem__(self, idx):\n",
    "        # Get batch indices\n",
    "        batch_indices = self.indices[idx * self.batch_size:(idx + 1) * self.batch_size]\n",
    "        \n",
    "        # Handle case where batch_indices is empty\n",
    "        if len(batch_indices) == 0:\n",
    "            return np.array([], dtype=np.float32), np.array([], dtype=np.float32)\n",
    "        \n",
    "        # Initialize lists to store frames and labels\n",
    "        all_frames = []\n",
    "        all_labels = []\n",
    "        \n",
    "        # Process each video in the batch\n",
    "        for i, index in enumerate(batch_indices):\n",
    "            sequence = self.videos[index]\n",
    "            label = self.labels[index]\n",
    "            \n",
    "            # Load and process video\n",
    "            # sequence = frames_extraction(video_path)\n",
    "\n",
    "            # if sequence is not None:\n",
    "            #     # Apply augmentations: 1 original + 4 augmentations (horizontal flip, shear, rotation, noise)\n",
    "            #     augmented_sequences = [sequence]  # Add original sequence\n",
    "\n",
    "            #     if self.is_training:\n",
    "            #         # Apply augmentations\n",
    "            #         augmented_sequences.append(np.array(horizontal_flip(sequence)))  # Horizontal Flip\n",
    "            #         augmented_sequences.append(np.array(apply_shear_frames(sequence, shear_right=0)))  # Random Shear\n",
    "            #         augmented_sequences.append(np.array(apply_shear_frames(sequence, shear_right=1)))  # Random Rotation\n",
    "            #         augmented_sequences.append(np.array(noise_video(sequence)))  # Salt and Pepper Noise\n",
    "\n",
    "            #     # Add augmented sequences to the batch\n",
    "            #     all_frames.extend(augmented_sequences)\n",
    "            #     all_labels.extend([label] * len(augmented_sequences))  # Each augmentation has the same label\n",
    "\n",
    "            \n",
    "            # Append the sequence and label\n",
    "            all_frames.append(sequence)\n",
    "            all_labels.append(label)\n",
    "        \n",
    "        # Convert to numpy arrays\n",
    "        all_frames = np.array(all_frames, dtype=np.float32)\n",
    "        all_labels = np.array(all_labels)\n",
    "            \n",
    "        \n",
    "        return all_frames, all_labels\n",
    "    def add(self, new_videos, new_labels):\n",
    "        self.temp_videos.extend(new_videos)\n",
    "        self.temp_labels.extend(new_labels)\n",
    "    \n",
    "    def confirm(self):\n",
    "        print(f\"Adding {len(self.temp_videos)} videos with {len(self.temp_labels)} classes.\")\n",
    "        self.videos.extend(self.temp_videos)\n",
    "        self.labels.extend(self.temp_labels)\n",
    "        print(f\"Successfully added - {len(self.temp_videos)} videos and {len(self.temp_labels)} classes.\")\n",
    "        self.temp_videos=[]\n",
    "        self.temp_labels=[]\n",
    "        self.indices = np.arange(len(self.videos))\n",
    "        print(f\"Now Total - {len(self.videos)} videos and {len(self.labels)} classes.\")\n",
    "        print(f\"PENDING for Augmentations - {len(self.temp_videos)} videos and {len(self.temp_labels)} classes.\")\n",
    "    \n",
    "    def on_epoch_end(self):\n",
    "        # Shuffle indices at the end of each epoch\n",
    "        np.random.shuffle(self.indices)\n",
    "\n",
    "    def as_dataset(self):\n",
    "        def generator():\n",
    "            for idx in range(len(self)):\n",
    "                frames, labels = self[idx]\n",
    "                # Skip empty batches\n",
    "                if frames.size == 0:\n",
    "                    continue\n",
    "                yield frames, labels\n",
    "        self.labels=np.array(self.labels)\n",
    "    \n",
    "        # Create a tf.data.Dataset\n",
    "        dataset = tf.data.Dataset.from_generator(\n",
    "            generator,\n",
    "            output_types=(tf.float32, tf.float32),\n",
    "            output_shapes=(\n",
    "                (None, SEQUENCE_LENGTH, IMAGE_HEIGHT, IMAGE_WIDTH, 3),\n",
    "                (None, NO_OF_CLASSES)\n",
    "            )\n",
    "        )\n",
    "        dataset = dataset.prefetch(tf.data.AUTOTUNE)\n",
    "        return dataset"
   ]
  },
  {
   "cell_type": "markdown",
   "id": "c02f0e00",
   "metadata": {
    "papermill": {
     "duration": 0.008314,
     "end_time": "2025-07-12T05:26:51.959511",
     "exception": false,
     "start_time": "2025-07-12T05:26:51.951197",
     "status": "completed"
    },
    "tags": []
   },
   "source": [
    "## Debug and Helpers"
   ]
  },
  {
   "cell_type": "markdown",
   "id": "8f83abf6",
   "metadata": {
    "papermill": {
     "duration": 0.051474,
     "end_time": "2025-07-12T05:26:52.019423",
     "exception": false,
     "start_time": "2025-07-12T05:26:51.967949",
     "status": "completed"
    },
    "tags": []
   },
   "source": [
    "## 💫 Augmentation Helper function"
   ]
  },
  {
   "cell_type": "code",
   "execution_count": 8,
   "id": "db9091db",
   "metadata": {
    "execution": {
     "iopub.execute_input": "2025-07-12T05:26:52.037635Z",
     "iopub.status.busy": "2025-07-12T05:26:52.037130Z",
     "iopub.status.idle": "2025-07-12T05:26:52.042203Z",
     "shell.execute_reply": "2025-07-12T05:26:52.041431Z"
    },
    "papermill": {
     "duration": 0.015365,
     "end_time": "2025-07-12T05:26:52.043398",
     "exception": false,
     "start_time": "2025-07-12T05:26:52.028033",
     "status": "completed"
    },
    "tags": []
   },
   "outputs": [],
   "source": [
    "import time\n",
    "\n",
    "    \n",
    "\n",
    "def apply_augmentation(augmentation_function, generator, confirm=False, *args, **kwargs):\n",
    "    \n",
    "    for i in range(len(generator)):\n",
    "        batch_videos, batch_labels = generator[i]\n",
    "        augmented_videos=[]\n",
    "        for videos in batch_videos:\n",
    "            augmented_videos.append(augmentation_function(videos, *args, **kwargs))\n",
    "        generator.add(augmented_videos, batch_labels)\n",
    "        print(f\"Processing video {len(generator.temp_videos)}...\", end=\"\\r\", flush=True)\n",
    "        time.sleep(0.5)  # simulate work\n",
    "    if confirm:\n",
    "        generator.confirm()"
   ]
  },
  {
   "cell_type": "markdown",
   "id": "4c6eadc8",
   "metadata": {
    "papermill": {
     "duration": 0.008224,
     "end_time": "2025-07-12T05:26:52.060069",
     "exception": false,
     "start_time": "2025-07-12T05:26:52.051845",
     "status": "completed"
    },
    "tags": []
   },
   "source": [
    "### Show Frames"
   ]
  },
  {
   "cell_type": "code",
   "execution_count": 9,
   "id": "f9aeed1e",
   "metadata": {
    "execution": {
     "iopub.execute_input": "2025-07-12T05:26:52.077864Z",
     "iopub.status.busy": "2025-07-12T05:26:52.077666Z",
     "iopub.status.idle": "2025-07-12T05:26:52.081095Z",
     "shell.execute_reply": "2025-07-12T05:26:52.080567Z"
    },
    "papermill": {
     "duration": 0.013641,
     "end_time": "2025-07-12T05:26:52.082243",
     "exception": false,
     "start_time": "2025-07-12T05:26:52.068602",
     "status": "completed"
    },
    "tags": []
   },
   "outputs": [],
   "source": [
    "# show frame def\n",
    "import matplotlib.pyplot as plt\n",
    "\n",
    "def show_frame(frame):\n",
    "    plt.figure(figsize=(3,3))\n",
    "    plt.imshow(frame)\n",
    "    plt.axis(\"off\")\n",
    "    plt.tight_layout()"
   ]
  },
  {
   "cell_type": "markdown",
   "id": "462bf7ef",
   "metadata": {
    "papermill": {
     "duration": 0.008437,
     "end_time": "2025-07-12T05:26:52.099292",
     "exception": false,
     "start_time": "2025-07-12T05:26:52.090855",
     "status": "completed"
    },
    "tags": []
   },
   "source": [
    "### Helper Function"
   ]
  },
  {
   "cell_type": "code",
   "execution_count": 10,
   "id": "9911a011",
   "metadata": {
    "execution": {
     "iopub.execute_input": "2025-07-12T05:26:52.119281Z",
     "iopub.status.busy": "2025-07-12T05:26:52.118828Z",
     "iopub.status.idle": "2025-07-12T05:26:52.123217Z",
     "shell.execute_reply": "2025-07-12T05:26:52.122671Z"
    },
    "papermill": {
     "duration": 0.015365,
     "end_time": "2025-07-12T05:26:52.124309",
     "exception": false,
     "start_time": "2025-07-12T05:26:52.108944",
     "status": "completed"
    },
    "tags": []
   },
   "outputs": [],
   "source": [
    "def show_frame_vs(frame1, frame2, title1=\"Frame 1\", title2=\"Frame 2\"):\n",
    "    plt.figure(figsize=(10, 5))\n",
    "\n",
    "    # First frame\n",
    "    plt.subplot(1, 2, 1)\n",
    "    plt.imshow(frame1)\n",
    "    plt.title(title1)\n",
    "    plt.axis('off')\n",
    "\n",
    "    # Second frame\n",
    "    plt.subplot(1, 2, 2)\n",
    "    plt.imshow(frame2)\n",
    "    plt.title(title2)\n",
    "    plt.axis('off')\n",
    "\n",
    "    plt.tight_layout()\n",
    "    plt.show()"
   ]
  },
  {
   "cell_type": "code",
   "execution_count": 11,
   "id": "507cc8aa",
   "metadata": {
    "execution": {
     "iopub.execute_input": "2025-07-12T05:26:52.143708Z",
     "iopub.status.busy": "2025-07-12T05:26:52.143194Z",
     "iopub.status.idle": "2025-07-12T05:26:52.146643Z",
     "shell.execute_reply": "2025-07-12T05:26:52.146091Z"
    },
    "papermill": {
     "duration": 0.014201,
     "end_time": "2025-07-12T05:26:52.147851",
     "exception": false,
     "start_time": "2025-07-12T05:26:52.133650",
     "status": "completed"
    },
    "tags": []
   },
   "outputs": [],
   "source": [
    "# reusable video loop helper function\n",
    "def apply_function(function, videos, *arg, **kwargs):\n",
    "    new_videos=[]\n",
    "    \n",
    "    for video in videos:\n",
    "        new_videos.append(function(video, *arg, **kwargs))\n",
    "        \n",
    "    return new_videos"
   ]
  },
  {
   "cell_type": "code",
   "execution_count": 12,
   "id": "eacf225e",
   "metadata": {
    "execution": {
     "iopub.execute_input": "2025-07-12T05:26:52.165899Z",
     "iopub.status.busy": "2025-07-12T05:26:52.165460Z",
     "iopub.status.idle": "2025-07-12T05:26:52.169840Z",
     "shell.execute_reply": "2025-07-12T05:26:52.169387Z"
    },
    "papermill": {
     "duration": 0.014194,
     "end_time": "2025-07-12T05:26:52.170792",
     "exception": false,
     "start_time": "2025-07-12T05:26:52.156598",
     "status": "completed"
    },
    "tags": []
   },
   "outputs": [],
   "source": [
    "# reusable video loop helper function\n",
    "def apply(function, videos, labels, *arg, **kwargs):\n",
    "    new_videos=[]\n",
    "    new_labels=[]\n",
    "    combined=zip(labels, videos)\n",
    "    \n",
    "    for label, video in combined:\n",
    "        new_videos.append(function(video, *arg, **kwargs))\n",
    "        new_labels.append(label)\n",
    "        \n",
    "    new_videos=np.asarray(new_videos)\n",
    "    new_labels=np.asarray(new_labels)\n",
    "    \n",
    "    return new_videos, new_labels"
   ]
  },
  {
   "cell_type": "markdown",
   "id": "273689d8",
   "metadata": {
    "papermill": {
     "duration": 0.008373,
     "end_time": "2025-07-12T05:26:52.187788",
     "exception": false,
     "start_time": "2025-07-12T05:26:52.179415",
     "status": "completed"
    },
    "tags": []
   },
   "source": [
    "## Salt and Pepper Noise "
   ]
  },
  {
   "cell_type": "code",
   "execution_count": 13,
   "id": "f782a3a9",
   "metadata": {
    "execution": {
     "iopub.execute_input": "2025-07-12T05:26:52.206168Z",
     "iopub.status.busy": "2025-07-12T05:26:52.205648Z",
     "iopub.status.idle": "2025-07-12T05:26:52.210164Z",
     "shell.execute_reply": "2025-07-12T05:26:52.209614Z"
    },
    "papermill": {
     "duration": 0.014966,
     "end_time": "2025-07-12T05:26:52.211200",
     "exception": false,
     "start_time": "2025-07-12T05:26:52.196234",
     "status": "completed"
    },
    "tags": []
   },
   "outputs": [],
   "source": [
    "# Noise function def\n",
    "\n",
    "def noise_video(video,noise_factor=NOISE_FACTOR):\n",
    "    noisy_video=[]\n",
    "    for frame in video:\n",
    "        # Generate random noise\n",
    "        noise = np.random.rand(*frame.shape)  # Generate random noise\n",
    "        salt_pepper_noise = np.random.choice([0, 1], size=frame.shape, p=[1-noise_factor, noise_factor])\n",
    "        noisy_frame = frame * (1 - salt_pepper_noise) + salt_pepper_noise * np.random.rand(*frame.shape)\n",
    "        noisy_video.append(noisy_frame)\n",
    "    return np.array(noisy_video)"
   ]
  },
  {
   "cell_type": "markdown",
   "id": "d765df6f",
   "metadata": {
    "papermill": {
     "duration": 0.00885,
     "end_time": "2025-07-12T05:26:52.229101",
     "exception": false,
     "start_time": "2025-07-12T05:26:52.220251",
     "status": "completed"
    },
    "tags": []
   },
   "source": [
    "## Horizontal Flip"
   ]
  },
  {
   "cell_type": "code",
   "execution_count": 14,
   "id": "672f340c",
   "metadata": {
    "execution": {
     "iopub.execute_input": "2025-07-12T05:26:52.247559Z",
     "iopub.status.busy": "2025-07-12T05:26:52.247300Z",
     "iopub.status.idle": "2025-07-12T05:26:52.251043Z",
     "shell.execute_reply": "2025-07-12T05:26:52.250323Z"
    },
    "papermill": {
     "duration": 0.014255,
     "end_time": "2025-07-12T05:26:52.252283",
     "exception": false,
     "start_time": "2025-07-12T05:26:52.238028",
     "status": "completed"
    },
    "tags": []
   },
   "outputs": [],
   "source": [
    "# horizontal flip function def\n",
    "# Testing Flip feautes[0] -> first video\n",
    "def horizontal_flip(video):\n",
    "    return [tf.image.flip_left_right(frame) for frame in video]"
   ]
  },
  {
   "cell_type": "markdown",
   "id": "3cd3b59a",
   "metadata": {
    "papermill": {
     "duration": 0.008369,
     "end_time": "2025-07-12T05:26:52.269258",
     "exception": false,
     "start_time": "2025-07-12T05:26:52.260889",
     "status": "completed"
    },
    "tags": []
   },
   "source": [
    "## Random Shear"
   ]
  },
  {
   "cell_type": "code",
   "execution_count": 15,
   "id": "907b057a",
   "metadata": {
    "execution": {
     "iopub.execute_input": "2025-07-12T05:26:52.286535Z",
     "iopub.status.busy": "2025-07-12T05:26:52.286292Z",
     "iopub.status.idle": "2025-07-12T05:26:52.291688Z",
     "shell.execute_reply": "2025-07-12T05:26:52.291132Z"
    },
    "papermill": {
     "duration": 0.015261,
     "end_time": "2025-07-12T05:26:52.292809",
     "exception": false,
     "start_time": "2025-07-12T05:26:52.277548",
     "status": "completed"
    },
    "tags": []
   },
   "outputs": [],
   "source": [
    "# random shear function def\n",
    "import numpy as np\n",
    "import tensorflow as tf\n",
    "from scipy.ndimage import affine_transform\n",
    "\n",
    "def apply_shear_frames(frames, shear_right):\n",
    "    return [apply_shear(frame, shear_right) for frame in frames]\n",
    "\n",
    "def apply_shear(frame, shear_right=0):\n",
    "    frame_resized = tf.image.resize(frame, (IMAGE_HEIGHT, IMAGE_WIDTH)).numpy()\n",
    "    if shear_right:\n",
    "        shear_x = 0.09\n",
    "        shear_y = 0.1\n",
    "    else:\n",
    "        shear_x = -0.09\n",
    "        shear_y = 0.3\n",
    "    # Construct the affine matrix for scipy: inverse of the transformation matrix\n",
    "    # scipy applies the inverse transform matrix\n",
    "    shear_matrix = np.array([\n",
    "        [1, shear_x, 0],\n",
    "        [shear_y, 1, 0],\n",
    "        [0, 0, 1]\n",
    "    ], dtype=np.float32)\n",
    "\n",
    "    # Extract 2x2 part for affine_transform\n",
    "    matrix = shear_matrix[:2, :2]\n",
    "\n",
    "    # Offset (no translation)\n",
    "    offset = [0, 0]\n",
    "\n",
    "    # Apply affine transform on each channel separately\n",
    "    sheared = np.zeros_like(frame_resized)\n",
    "    for c in range(3):\n",
    "        sheared[..., c] = affine_transform(\n",
    "            frame_resized[..., c],\n",
    "            matrix=matrix,\n",
    "            offset=offset,\n",
    "            order=1,          # bilinear interpolation\n",
    "            mode='nearest'    # fill_mode\n",
    "        )\n",
    "    return sheared"
   ]
  },
  {
   "cell_type": "markdown",
   "id": "15640bb5",
   "metadata": {
    "papermill": {
     "duration": 0.008344,
     "end_time": "2025-07-12T05:26:52.309090",
     "exception": false,
     "start_time": "2025-07-12T05:26:52.300746",
     "status": "completed"
    },
    "tags": []
   },
   "source": [
    "# 📌 Model Related\n",
    "## 🗼 Model Architecture `create_model`"
   ]
  },
  {
   "cell_type": "markdown",
   "id": "5547156c",
   "metadata": {
    "papermill": {
     "duration": 0.00811,
     "end_time": "2025-07-12T05:26:52.325897",
     "exception": false,
     "start_time": "2025-07-12T05:26:52.317787",
     "status": "completed"
    },
    "tags": []
   },
   "source": [
    "# 📌 Execution\n",
    "## Creating Dataset\n",
    "The following functions are executed\n",
    "- `frame extraction`\n",
    "- `resize`\n",
    "\n",
    "which returns:\n",
    "- `features` - `np.array` of all the videos\n",
    "- `labels` - `np.array` of all the class labels"
   ]
  },
  {
   "cell_type": "code",
   "execution_count": 16,
   "id": "e4bc7735",
   "metadata": {
    "execution": {
     "iopub.execute_input": "2025-07-12T05:26:52.343206Z",
     "iopub.status.busy": "2025-07-12T05:26:52.342816Z",
     "iopub.status.idle": "2025-07-12T05:26:58.612148Z",
     "shell.execute_reply": "2025-07-12T05:26:58.611291Z"
    },
    "papermill": {
     "duration": 6.279338,
     "end_time": "2025-07-12T05:26:58.613579",
     "exception": false,
     "start_time": "2025-07-12T05:26:52.334241",
     "status": "completed"
    },
    "tags": []
   },
   "outputs": [
    {
     "name": "stdout",
     "output_type": "stream",
     "text": [
      "Extracting Data of Class: two hands wave\n",
      "Extracting Data of Class: skip\n",
      "Extracting Data of Class: jump in place\n",
      "Extracting Data of Class: jump\n",
      "Extracting Data of Class: walk\n",
      "Extracting Data of Class: bend\n",
      "Extracting Data of Class: gallop sideways\n",
      "Extracting Data of Class: run\n",
      "Extracting Data of Class: jumping jack\n",
      "Extracting Data of Class: one hand wave\n",
      "Dataset created with 93 videos\n",
      "Features shape: (93, 5, 128, 128, 3)\n",
      "Labels shape: (93,)\n"
     ]
    },
    {
     "data": {
      "text/plain": [
       "((93, 5, 128, 128, 3), (93,))"
      ]
     },
     "execution_count": 16,
     "metadata": {},
     "output_type": "execute_result"
    }
   ],
   "source": [
    "# RUN Create the dataset with explicit parameters\n",
    "try:\n",
    "    videos, labels = create_dataset(\n",
    "        dataset_dir=DATASET_DIR,\n",
    "        classes_list=CLASSES_LIST,\n",
    "        sequence_length=SEQUENCE_LENGTH,\n",
    "        image_height=IMAGE_HEIGHT,\n",
    "        image_width=IMAGE_WIDTH,\n",
    "        # Limit to 10 videos per class to manage memory\n",
    "        augmentations=True,\n",
    "        max_videos_per_class=MAX_VIDEO_PER_CLASS\n",
    "    )\n",
    "except FileNotFoundError as e:\n",
    "    print(f\"Error: {e}\")\n",
    "except ValueError as e:\n",
    "    print(f\"Error: {e}\")\n",
    "except Exception as e:\n",
    "    print(f\"Unexpected error: {e}\")\n",
    "\n",
    "videos.shape, labels.shape"
   ]
  },
  {
   "cell_type": "code",
   "execution_count": 17,
   "id": "4359d90f",
   "metadata": {
    "execution": {
     "iopub.execute_input": "2025-07-12T05:26:58.632647Z",
     "iopub.status.busy": "2025-07-12T05:26:58.632250Z",
     "iopub.status.idle": "2025-07-12T05:26:58.636395Z",
     "shell.execute_reply": "2025-07-12T05:26:58.635678Z"
    },
    "papermill": {
     "duration": 0.014834,
     "end_time": "2025-07-12T05:26:58.637604",
     "exception": false,
     "start_time": "2025-07-12T05:26:58.622770",
     "status": "completed"
    },
    "tags": []
   },
   "outputs": [
    {
     "name": "stdout",
     "output_type": "stream",
     "text": [
      "Total 93 videos and 93 classes\n"
     ]
    }
   ],
   "source": [
    "video_generator = VideoDataGenerator(\n",
    "    videos=videos,\n",
    "    labels=labels,\n",
    "    batch_size=BATCH_SIZE\n",
    ")"
   ]
  },
  {
   "cell_type": "code",
   "execution_count": 18,
   "id": "1d2cb039",
   "metadata": {
    "execution": {
     "iopub.execute_input": "2025-07-12T05:26:58.657348Z",
     "iopub.status.busy": "2025-07-12T05:26:58.656779Z",
     "iopub.status.idle": "2025-07-12T05:26:58.668143Z",
     "shell.execute_reply": "2025-07-12T05:26:58.667562Z"
    },
    "papermill": {
     "duration": 0.022317,
     "end_time": "2025-07-12T05:26:58.669458",
     "exception": false,
     "start_time": "2025-07-12T05:26:58.647141",
     "status": "completed"
    },
    "tags": []
   },
   "outputs": [
    {
     "data": {
      "text/plain": [
       "((21, 5, 128, 128, 3), (21,))"
      ]
     },
     "execution_count": 18,
     "metadata": {},
     "output_type": "execute_result"
    }
   ],
   "source": [
    "videos, labels = video_generator[3]\n",
    "\n",
    "videos.shape, labels.shape"
   ]
  },
  {
   "cell_type": "code",
   "execution_count": 19,
   "id": "e349ca63",
   "metadata": {
    "execution": {
     "iopub.execute_input": "2025-07-12T05:26:58.689246Z",
     "iopub.status.busy": "2025-07-12T05:26:58.688824Z",
     "iopub.status.idle": "2025-07-12T05:26:58.693168Z",
     "shell.execute_reply": "2025-07-12T05:26:58.692545Z"
    },
    "papermill": {
     "duration": 0.015179,
     "end_time": "2025-07-12T05:26:58.694130",
     "exception": false,
     "start_time": "2025-07-12T05:26:58.678951",
     "status": "completed"
    },
    "tags": []
   },
   "outputs": [
    {
     "data": {
      "text/plain": [
       "93"
      ]
     },
     "execution_count": 19,
     "metadata": {},
     "output_type": "execute_result"
    }
   ],
   "source": [
    "len(video_generator.videos) "
   ]
  },
  {
   "cell_type": "code",
   "execution_count": 20,
   "id": "e66c39a3",
   "metadata": {
    "execution": {
     "iopub.execute_input": "2025-07-12T05:26:58.713008Z",
     "iopub.status.busy": "2025-07-12T05:26:58.712775Z",
     "iopub.status.idle": "2025-07-12T05:26:58.716836Z",
     "shell.execute_reply": "2025-07-12T05:26:58.716290Z"
    },
    "papermill": {
     "duration": 0.014694,
     "end_time": "2025-07-12T05:26:58.717876",
     "exception": false,
     "start_time": "2025-07-12T05:26:58.703182",
     "status": "completed"
    },
    "tags": []
   },
   "outputs": [
    {
     "data": {
      "text/plain": [
       "4"
      ]
     },
     "execution_count": 20,
     "metadata": {},
     "output_type": "execute_result"
    }
   ],
   "source": [
    "len(video_generator)"
   ]
  },
  {
   "cell_type": "markdown",
   "id": "b34e3b34",
   "metadata": {
    "papermill": {
     "duration": 0.009364,
     "end_time": "2025-07-12T05:26:58.736626",
     "exception": false,
     "start_time": "2025-07-12T05:26:58.727262",
     "status": "completed"
    },
    "tags": []
   },
   "source": [
    "## Apply ***horizontal flip*** (Augmentation)"
   ]
  },
  {
   "cell_type": "code",
   "execution_count": 21,
   "id": "00a686de",
   "metadata": {
    "execution": {
     "iopub.execute_input": "2025-07-12T05:26:58.755529Z",
     "iopub.status.busy": "2025-07-12T05:26:58.755120Z",
     "iopub.status.idle": "2025-07-12T05:27:02.677549Z",
     "shell.execute_reply": "2025-07-12T05:27:02.676655Z"
    },
    "papermill": {
     "duration": 3.933483,
     "end_time": "2025-07-12T05:27:02.679098",
     "exception": false,
     "start_time": "2025-07-12T05:26:58.745615",
     "status": "completed"
    },
    "tags": []
   },
   "outputs": [
    {
     "name": "stdout",
     "output_type": "stream",
     "text": [
      "Processing video 24...\r"
     ]
    },
    {
     "name": "stderr",
     "output_type": "stream",
     "text": [
      "I0000 00:00:1752298020.309226      19 gpu_device.cc:2022] Created device /job:localhost/replica:0/task:0/device:GPU:0 with 13942 MB memory:  -> device: 0, name: Tesla T4, pci bus id: 0000:00:04.0, compute capability: 7.5\n",
      "I0000 00:00:1752298020.309968      19 gpu_device.cc:2022] Created device /job:localhost/replica:0/task:0/device:GPU:1 with 13942 MB memory:  -> device: 1, name: Tesla T4, pci bus id: 0000:00:05.0, compute capability: 7.5\n"
     ]
    },
    {
     "name": "stdout",
     "output_type": "stream",
     "text": [
      "Processing video 93...\r"
     ]
    }
   ],
   "source": [
    "apply_augmentation(horizontal_flip, video_generator)"
   ]
  },
  {
   "cell_type": "code",
   "execution_count": 22,
   "id": "379236b4",
   "metadata": {
    "execution": {
     "iopub.execute_input": "2025-07-12T05:27:02.700073Z",
     "iopub.status.busy": "2025-07-12T05:27:02.699820Z",
     "iopub.status.idle": "2025-07-12T05:27:02.704414Z",
     "shell.execute_reply": "2025-07-12T05:27:02.703579Z"
    },
    "papermill": {
     "duration": 0.016553,
     "end_time": "2025-07-12T05:27:02.705782",
     "exception": false,
     "start_time": "2025-07-12T05:27:02.689229",
     "status": "completed"
    },
    "tags": []
   },
   "outputs": [
    {
     "name": "stdout",
     "output_type": "stream",
     "text": [
      "Checking Total Videos and Class Count: 93, 93\n",
      "PENDING Total Videos and Class Count: 93, 93\n"
     ]
    }
   ],
   "source": [
    "print(f\"Checking Total Videos and Class Count: {len(video_generator.videos)}, {len(video_generator.labels)}\")\n",
    "print(f\"PENDING Total Videos and Class Count: {len(video_generator.temp_videos)}, {len(video_generator.temp_labels)}\")"
   ]
  },
  {
   "cell_type": "code",
   "execution_count": 23,
   "id": "2d2a1f39",
   "metadata": {
    "execution": {
     "iopub.execute_input": "2025-07-12T05:27:02.727889Z",
     "iopub.status.busy": "2025-07-12T05:27:02.727636Z",
     "iopub.status.idle": "2025-07-12T05:27:02.731875Z",
     "shell.execute_reply": "2025-07-12T05:27:02.731256Z"
    },
    "papermill": {
     "duration": 0.016598,
     "end_time": "2025-07-12T05:27:02.733014",
     "exception": false,
     "start_time": "2025-07-12T05:27:02.716416",
     "status": "completed"
    },
    "tags": []
   },
   "outputs": [
    {
     "name": "stdout",
     "output_type": "stream",
     "text": [
      "Adding 93 videos with 93 classes.\n",
      "Successfully added - 93 videos and 93 classes.\n",
      "Now Total - 186 videos and 186 classes.\n",
      "PENDING for Augmentations - 0 videos and 0 classes.\n"
     ]
    }
   ],
   "source": [
    "video_generator.confirm()"
   ]
  },
  {
   "cell_type": "markdown",
   "id": "67321505",
   "metadata": {
    "papermill": {
     "duration": 0.00958,
     "end_time": "2025-07-12T05:27:02.752828",
     "exception": false,
     "start_time": "2025-07-12T05:27:02.743248",
     "status": "completed"
    },
    "tags": []
   },
   "source": [
    "## Apply ***Noise*** (Augmentation)"
   ]
  },
  {
   "cell_type": "code",
   "execution_count": 24,
   "id": "77da6d3a",
   "metadata": {
    "execution": {
     "iopub.execute_input": "2025-07-12T05:27:02.772725Z",
     "iopub.status.busy": "2025-07-12T05:27:02.772486Z",
     "iopub.status.idle": "2025-07-12T05:27:09.157727Z",
     "shell.execute_reply": "2025-07-12T05:27:09.157091Z"
    },
    "papermill": {
     "duration": 6.396874,
     "end_time": "2025-07-12T05:27:09.159080",
     "exception": false,
     "start_time": "2025-07-12T05:27:02.762206",
     "status": "completed"
    },
    "tags": []
   },
   "outputs": [
    {
     "name": "stdout",
     "output_type": "stream",
     "text": [
      "Processing video 186...\r"
     ]
    }
   ],
   "source": [
    "apply_augmentation(noise_video, video_generator)"
   ]
  },
  {
   "cell_type": "code",
   "execution_count": 25,
   "id": "1fb6b00a",
   "metadata": {
    "execution": {
     "iopub.execute_input": "2025-07-12T05:27:09.181011Z",
     "iopub.status.busy": "2025-07-12T05:27:09.180776Z",
     "iopub.status.idle": "2025-07-12T05:27:09.185052Z",
     "shell.execute_reply": "2025-07-12T05:27:09.184341Z"
    },
    "papermill": {
     "duration": 0.016118,
     "end_time": "2025-07-12T05:27:09.186176",
     "exception": false,
     "start_time": "2025-07-12T05:27:09.170058",
     "status": "completed"
    },
    "tags": []
   },
   "outputs": [
    {
     "name": "stdout",
     "output_type": "stream",
     "text": [
      "Checking Total Videos and Class Count: 186, 186\n",
      "PENDING Total Videos and Class Count: 186, 186\n"
     ]
    }
   ],
   "source": [
    "print(f\"Checking Total Videos and Class Count: {len(video_generator.videos)}, {len(video_generator.labels)}\")\n",
    "print(f\"PENDING Total Videos and Class Count: {len(video_generator.temp_videos)}, {len(video_generator.temp_labels)}\")"
   ]
  },
  {
   "cell_type": "markdown",
   "id": "0c45ca23",
   "metadata": {
    "papermill": {
     "duration": 0.010069,
     "end_time": "2025-07-12T05:27:09.206802",
     "exception": false,
     "start_time": "2025-07-12T05:27:09.196733",
     "status": "completed"
    },
    "tags": []
   },
   "source": [
    "## Apply ***Random Shear x2*** (Augmentation)"
   ]
  },
  {
   "cell_type": "code",
   "execution_count": 26,
   "id": "112a62a0",
   "metadata": {
    "execution": {
     "iopub.execute_input": "2025-07-12T05:27:09.228874Z",
     "iopub.status.busy": "2025-07-12T05:27:09.228257Z",
     "iopub.status.idle": "2025-07-12T05:27:24.839034Z",
     "shell.execute_reply": "2025-07-12T05:27:24.838181Z"
    },
    "papermill": {
     "duration": 15.622788,
     "end_time": "2025-07-12T05:27:24.840516",
     "exception": false,
     "start_time": "2025-07-12T05:27:09.217728",
     "status": "completed"
    },
    "tags": []
   },
   "outputs": [
    {
     "name": "stdout",
     "output_type": "stream",
     "text": [
      "Processing video 558...\r"
     ]
    }
   ],
   "source": [
    "apply_augmentation(apply_shear_frames, video_generator, shear_right=0)\n",
    "apply_augmentation(apply_shear_frames, video_generator, shear_right=1)"
   ]
  },
  {
   "cell_type": "code",
   "execution_count": 27,
   "id": "c561fc47",
   "metadata": {
    "execution": {
     "iopub.execute_input": "2025-07-12T05:27:24.863025Z",
     "iopub.status.busy": "2025-07-12T05:27:24.862807Z",
     "iopub.status.idle": "2025-07-12T05:27:24.867285Z",
     "shell.execute_reply": "2025-07-12T05:27:24.866299Z"
    },
    "papermill": {
     "duration": 0.016941,
     "end_time": "2025-07-12T05:27:24.868680",
     "exception": false,
     "start_time": "2025-07-12T05:27:24.851739",
     "status": "completed"
    },
    "tags": []
   },
   "outputs": [
    {
     "name": "stdout",
     "output_type": "stream",
     "text": [
      "Checking Total Videos and Class Count: 186, 186\n",
      "PENDING Total Videos and Class Count: 558, 558\n"
     ]
    }
   ],
   "source": [
    "print(f\"Checking Total Videos and Class Count: {len(video_generator.videos)}, {len(video_generator.labels)}\")\n",
    "print(f\"PENDING Total Videos and Class Count: {len(video_generator.temp_videos)}, {len(video_generator.temp_labels)}\")"
   ]
  },
  {
   "cell_type": "code",
   "execution_count": 28,
   "id": "13a8bda0",
   "metadata": {
    "execution": {
     "iopub.execute_input": "2025-07-12T05:27:24.893056Z",
     "iopub.status.busy": "2025-07-12T05:27:24.892802Z",
     "iopub.status.idle": "2025-07-12T05:27:24.897024Z",
     "shell.execute_reply": "2025-07-12T05:27:24.896395Z"
    },
    "papermill": {
     "duration": 0.018676,
     "end_time": "2025-07-12T05:27:24.898046",
     "exception": false,
     "start_time": "2025-07-12T05:27:24.879370",
     "status": "completed"
    },
    "tags": []
   },
   "outputs": [
    {
     "name": "stdout",
     "output_type": "stream",
     "text": [
      "Adding 558 videos with 558 classes.\n",
      "Successfully added - 558 videos and 558 classes.\n",
      "Now Total - 744 videos and 744 classes.\n",
      "PENDING for Augmentations - 0 videos and 0 classes.\n"
     ]
    }
   ],
   "source": [
    "# confirm changes to generator\n",
    "video_generator.confirm()"
   ]
  },
  {
   "cell_type": "code",
   "execution_count": 29,
   "id": "e80f4d35",
   "metadata": {
    "execution": {
     "iopub.execute_input": "2025-07-12T05:27:24.920444Z",
     "iopub.status.busy": "2025-07-12T05:27:24.920197Z",
     "iopub.status.idle": "2025-07-12T05:27:24.924080Z",
     "shell.execute_reply": "2025-07-12T05:27:24.923282Z"
    },
    "papermill": {
     "duration": 0.016166,
     "end_time": "2025-07-12T05:27:24.925306",
     "exception": false,
     "start_time": "2025-07-12T05:27:24.909140",
     "status": "completed"
    },
    "tags": []
   },
   "outputs": [
    {
     "name": "stdout",
     "output_type": "stream",
     "text": [
      "Checking Video Generator Total Videos and Class Count: 744, 744\n"
     ]
    }
   ],
   "source": [
    "print(f\"Checking Video Generator Total Videos and Class Count: {len(video_generator.videos)}, {len(video_generator.labels)}\")"
   ]
  },
  {
   "cell_type": "markdown",
   "id": "5da96218",
   "metadata": {
    "papermill": {
     "duration": 0.010386,
     "end_time": "2025-07-12T05:27:24.946227",
     "exception": false,
     "start_time": "2025-07-12T05:27:24.935841",
     "status": "completed"
    },
    "tags": []
   },
   "source": [
    "## Cheking (Output)"
   ]
  },
  {
   "cell_type": "code",
   "execution_count": 30,
   "id": "0fb4a1ae",
   "metadata": {
    "execution": {
     "iopub.execute_input": "2025-07-12T05:27:24.968349Z",
     "iopub.status.busy": "2025-07-12T05:27:24.968121Z",
     "iopub.status.idle": "2025-07-12T05:27:25.325813Z",
     "shell.execute_reply": "2025-07-12T05:27:25.325075Z"
    },
    "papermill": {
     "duration": 0.3718,
     "end_time": "2025-07-12T05:27:25.328722",
     "exception": false,
     "start_time": "2025-07-12T05:27:24.956922",
     "status": "completed"
    },
    "tags": []
   },
   "outputs": [
    {
     "name": "stdout",
     "output_type": "stream",
     "text": [
      "(24, 5, 128, 128, 3) (24,)\n"
     ]
    },
    {
     "data": {
      "image/png": "[encoded data removed]",
      "text/plain": [
       "<Figure size 1000x500 with 2 Axes>"
      ]
     },
     "metadata": {},
     "output_type": "display_data"
    },
    {
     "name": "stdout",
     "output_type": "stream",
     "text": [
      "Might be two different action, but to check the flipping focus on the door behind.\n"
     ]
    }
   ],
   "source": [
    "# check horizontal flips\n",
    "videos, labels = video_generator[7]\n",
    "videos1, labels1 = video_generator[1]\n",
    "\n",
    "print(videos.shape, labels.shape)\n",
    "\n",
    "show_frame_vs(videos[0,0],videos1[1,0], title1=\"Flipped Frame 1\", title2=\"Non Flipped Frame 1\")\n",
    "print(\"Might be two different action, but to check the flipping focus on the door behind.\")"
   ]
  },
  {
   "cell_type": "markdown",
   "id": "0cadaf2c",
   "metadata": {
    "papermill": {
     "duration": 0.013196,
     "end_time": "2025-07-12T05:27:25.355594",
     "exception": false,
     "start_time": "2025-07-12T05:27:25.342398",
     "status": "completed"
    },
    "tags": []
   },
   "source": [
    "# 📌 Preparing Data for Training"
   ]
  },
  {
   "cell_type": "code",
   "execution_count": 31,
   "id": "63e5a931",
   "metadata": {
    "execution": {
     "iopub.execute_input": "2025-07-12T05:27:25.382603Z",
     "iopub.status.busy": "2025-07-12T05:27:25.381910Z",
     "iopub.status.idle": "2025-07-12T05:27:25.819650Z",
     "shell.execute_reply": "2025-07-12T05:27:25.818861Z"
    },
    "papermill": {
     "duration": 0.452421,
     "end_time": "2025-07-12T05:27:25.821097",
     "exception": false,
     "start_time": "2025-07-12T05:27:25.368676",
     "status": "completed"
    },
    "tags": []
   },
   "outputs": [],
   "source": [
    "# Clear previous session to free memory\n",
    "import gc\n",
    "\n",
    "gc.collect()\n",
    "tf.keras.backend.clear_session()"
   ]
  },
  {
   "cell_type": "markdown",
   "id": "642e45b8",
   "metadata": {
    "papermill": {
     "duration": 0.017049,
     "end_time": "2025-07-12T05:27:25.852015",
     "exception": false,
     "start_time": "2025-07-12T05:27:25.834966",
     "status": "completed"
    },
    "tags": []
   },
   "source": [
    "## Splitting data for ***Trainig*** and ***Testing***"
   ]
  },
  {
   "cell_type": "code",
   "execution_count": 32,
   "id": "ab33addc",
   "metadata": {
    "execution": {
     "iopub.execute_input": "2025-07-12T05:27:25.892628Z",
     "iopub.status.busy": "2025-07-12T05:27:25.891840Z",
     "iopub.status.idle": "2025-07-12T05:27:26.144338Z",
     "shell.execute_reply": "2025-07-12T05:27:26.143391Z"
    },
    "papermill": {
     "duration": 0.274687,
     "end_time": "2025-07-12T05:27:26.145818",
     "exception": false,
     "start_time": "2025-07-12T05:27:25.871131",
     "status": "completed"
    },
    "tags": []
   },
   "outputs": [
    {
     "data": {
      "text/plain": [
       "((744, 5, 128, 128, 3), (744,))"
      ]
     },
     "execution_count": 32,
     "metadata": {},
     "output_type": "execute_result"
    }
   ],
   "source": [
    "videos = video_generator.videos\n",
    "labels = video_generator.labels\n",
    "\n",
    "videos = np.array(videos, dtype='float32')\n",
    "labels = np.array(labels)\n",
    "\n",
    "videos.shape, labels.shape"
   ]
  },
  {
   "cell_type": "code",
   "execution_count": 33,
   "id": "b3004287",
   "metadata": {
    "execution": {
     "iopub.execute_input": "2025-07-12T05:27:26.177302Z",
     "iopub.status.busy": "2025-07-12T05:27:26.177064Z",
     "iopub.status.idle": "2025-07-12T05:27:26.182376Z",
     "shell.execute_reply": "2025-07-12T05:27:26.181596Z"
    },
    "papermill": {
     "duration": 0.022102,
     "end_time": "2025-07-12T05:27:26.183676",
     "exception": false,
     "start_time": "2025-07-12T05:27:26.161574",
     "status": "completed"
    },
    "tags": []
   },
   "outputs": [
    {
     "data": {
      "text/plain": [
       "(744, 10)"
      ]
     },
     "execution_count": 33,
     "metadata": {},
     "output_type": "execute_result"
    }
   ],
   "source": [
    "from tensorflow.keras.utils import to_categorical\n",
    "\n",
    "one_hot_encoded_labels = to_categorical(labels)\n",
    "\n",
    "one_hot_encoded_labels.shape"
   ]
  },
  {
   "cell_type": "code",
   "execution_count": 34,
   "id": "69a2fa19",
   "metadata": {
    "execution": {
     "iopub.execute_input": "2025-07-12T05:27:26.214705Z",
     "iopub.status.busy": "2025-07-12T05:27:26.214439Z",
     "iopub.status.idle": "2025-07-12T05:27:26.445840Z",
     "shell.execute_reply": "2025-07-12T05:27:26.445113Z"
    },
    "papermill": {
     "duration": 0.248253,
     "end_time": "2025-07-12T05:27:26.447067",
     "exception": false,
     "start_time": "2025-07-12T05:27:26.198814",
     "status": "completed"
    },
    "tags": []
   },
   "outputs": [
    {
     "data": {
      "text/plain": [
       "0"
      ]
     },
     "execution_count": 34,
     "metadata": {},
     "output_type": "execute_result"
    }
   ],
   "source": [
    "gc.collect()"
   ]
  },
  {
   "cell_type": "code",
   "execution_count": 35,
   "id": "6a6bfe71",
   "metadata": {
    "execution": {
     "iopub.execute_input": "2025-07-12T05:27:26.476824Z",
     "iopub.status.busy": "2025-07-12T05:27:26.476626Z",
     "iopub.status.idle": "2025-07-12T05:27:26.909219Z",
     "shell.execute_reply": "2025-07-12T05:27:26.908483Z"
    },
    "papermill": {
     "duration": 0.449157,
     "end_time": "2025-07-12T05:27:26.910798",
     "exception": false,
     "start_time": "2025-07-12T05:27:26.461641",
     "status": "completed"
    },
    "tags": []
   },
   "outputs": [
    {
     "data": {
      "text/plain": [
       "((595, 5, 128, 128, 3), (595, 10), (149, 5, 128, 128, 3), (149, 10))"
      ]
     },
     "execution_count": 35,
     "metadata": {},
     "output_type": "execute_result"
    }
   ],
   "source": [
    "# RUN Split the Data into Train ( 75% ) and Test Set ( 25% ).\n",
    "from sklearn.model_selection import train_test_split\n",
    "features_train, features_test, labels_train, labels_test = train_test_split(videos,\n",
    "                                                                            one_hot_encoded_labels,\n",
    "                                                                            test_size = TEST_SIZE,\n",
    "                                                                            shuffle = True,\n",
    "                                                                            random_state = seed_constant)\n",
    "\n",
    "features_train.shape, labels_train.shape, features_test.shape, labels_test.shape"
   ]
  },
  {
   "cell_type": "markdown",
   "id": "5adc5af7",
   "metadata": {
    "papermill": {
     "duration": 0.013095,
     "end_time": "2025-07-12T05:27:26.938931",
     "exception": false,
     "start_time": "2025-07-12T05:27:26.925836",
     "status": "completed"
    },
    "tags": []
   },
   "source": [
    "## Splitting data for ***Training Set*** and ***Validation Set***"
   ]
  },
  {
   "cell_type": "code",
   "execution_count": 36,
   "id": "4829535f",
   "metadata": {
    "execution": {
     "iopub.execute_input": "2025-07-12T05:27:26.966099Z",
     "iopub.status.busy": "2025-07-12T05:27:26.965878Z",
     "iopub.status.idle": "2025-07-12T05:27:26.971913Z",
     "shell.execute_reply": "2025-07-12T05:27:26.971203Z"
    },
    "papermill": {
     "duration": 0.021,
     "end_time": "2025-07-12T05:27:26.972926",
     "exception": false,
     "start_time": "2025-07-12T05:27:26.951926",
     "status": "completed"
    },
    "tags": []
   },
   "outputs": [
    {
     "data": {
      "text/plain": [
       "((476, 5, 128, 128, 3), (476, 10), (119, 5, 128, 128, 3), (119, 10))"
      ]
     },
     "execution_count": 36,
     "metadata": {},
     "output_type": "execute_result"
    }
   ],
   "source": [
    "# Assuming features_train and labels_train are defined\n",
    "train_set = 1-VALIDATION_SPLIT\n",
    "\n",
    "train_video_frames, val_video_frames = features_train[:int(train_set * len(features_train))], features_train[int(train_set * len(features_train)):]\n",
    "train_labels, val_labels = labels_train[:int(train_set * len(labels_train))], labels_train[int(train_set * len(labels_train)):]\n",
    "\n",
    "train_video_frames.shape, train_labels.shape, val_video_frames.shape, val_labels.shape"
   ]
  },
  {
   "cell_type": "markdown",
   "id": "8f2f4534",
   "metadata": {
    "papermill": {
     "duration": 0.012761,
     "end_time": "2025-07-12T05:27:26.999329",
     "exception": false,
     "start_time": "2025-07-12T05:27:26.986568",
     "status": "completed"
    },
    "tags": []
   },
   "source": [
    "## Use Generator `Video Data Generator`"
   ]
  },
  {
   "cell_type": "code",
   "execution_count": 37,
   "id": "05163cf0",
   "metadata": {
    "execution": {
     "iopub.execute_input": "2025-07-12T05:27:27.026441Z",
     "iopub.status.busy": "2025-07-12T05:27:27.026210Z",
     "iopub.status.idle": "2025-07-12T05:27:27.032088Z",
     "shell.execute_reply": "2025-07-12T05:27:27.031471Z"
    },
    "papermill": {
     "duration": 0.020625,
     "end_time": "2025-07-12T05:27:27.033118",
     "exception": false,
     "start_time": "2025-07-12T05:27:27.012493",
     "status": "completed"
    },
    "tags": []
   },
   "outputs": [
    {
     "name": "stdout",
     "output_type": "stream",
     "text": [
      "Total 476 videos and 476 classes\n",
      "Total 119 videos and 119 classes\n"
     ]
    },
    {
     "data": {
      "text/plain": [
       "(20, 5)"
      ]
     },
     "execution_count": 37,
     "metadata": {},
     "output_type": "execute_result"
    }
   ],
   "source": [
    "# Create the training and validation generators\n",
    "train_gen = VideoDataGenerator(\n",
    "    videos=train_video_frames, \n",
    "    labels=train_labels, \n",
    "    batch_size=BATCH_SIZE,\n",
    ")\n",
    "\n",
    "val_gen = VideoDataGenerator(\n",
    "    videos=val_video_frames, \n",
    "    labels=val_labels, \n",
    "    batch_size=BATCH_SIZE,\n",
    ")\n",
    "\n",
    "len(train_gen), len(val_gen)"
   ]
  },
  {
   "cell_type": "markdown",
   "id": "fecbdc3e",
   "metadata": {
    "papermill": {
     "duration": 0.012861,
     "end_time": "2025-07-12T05:27:27.059620",
     "exception": false,
     "start_time": "2025-07-12T05:27:27.046759",
     "status": "completed"
    },
    "tags": []
   },
   "source": [
    "## Inspect ***Generator*** Data on Epochs"
   ]
  },
  {
   "cell_type": "code",
   "execution_count": 38,
   "id": "506fd754",
   "metadata": {
    "execution": {
     "iopub.execute_input": "2025-07-12T05:27:27.086215Z",
     "iopub.status.busy": "2025-07-12T05:27:27.086007Z",
     "iopub.status.idle": "2025-07-12T05:27:27.098776Z",
     "shell.execute_reply": "2025-07-12T05:27:27.098134Z"
    },
    "papermill": {
     "duration": 0.027276,
     "end_time": "2025-07-12T05:27:27.099837",
     "exception": false,
     "start_time": "2025-07-12T05:27:27.072561",
     "status": "completed"
    },
    "tags": []
   },
   "outputs": [
    {
     "name": "stdout",
     "output_type": "stream",
     "text": [
      "[  0   1   2   3   4   5   6   7   8   9  10  11  12  13  14  15  16  17\n",
      "  18  19  20  21  22  23  24  25  26  27  28  29  30  31  32  33  34  35\n",
      "  36  37  38  39  40  41  42  43  44  45  46  47  48  49  50  51  52  53\n",
      "  54  55  56  57  58  59  60  61  62  63  64  65  66  67  68  69  70  71\n",
      "  72  73  74  75  76  77  78  79  80  81  82  83  84  85  86  87  88  89\n",
      "  90  91  92  93  94  95  96  97  98  99 100 101 102 103 104 105 106 107\n",
      " 108 109 110 111 112 113 114 115 116 117 118 119 120 121 122 123 124 125\n",
      " 126 127 128 129 130 131 132 133 134 135 136 137 138 139 140 141 142 143\n",
      " 144 145 146 147 148 149 150 151 152 153 154 155 156 157 158 159 160 161\n",
      " 162 163 164 165 166 167 168 169 170 171 172 173 174 175 176 177 178 179\n",
      " 180 181 182 183 184 185 186 187 188 189 190 191 192 193 194 195 196 197\n",
      " 198 199 200 201 202 203 204 205 206 207 208 209 210 211 212 213 214 215\n",
      " 216 217 218 219 220 221 222 223 224 225 226 227 228 229 230 231 232 233\n",
      " 234 235 236 237 238 239 240 241 242 243 244 245 246 247 248 249 250 251\n",
      " 252 253 254 255 256 257 258 259 260 261 262 263 264 265 266 267 268 269\n",
      " 270 271 272 273 274 275 276 277 278 279 280 281 282 283 284 285 286 287\n",
      " 288 289 290 291 292 293 294 295 296 297 298 299 300 301 302 303 304 305\n",
      " 306 307 308 309 310 311 312 313 314 315 316 317 318 319 320 321 322 323\n",
      " 324 325 326 327 328 329 330 331 332 333 334 335 336 337 338 339 340 341\n",
      " 342 343 344 345 346 347 348 349 350 351 352 353 354 355 356 357 358 359\n",
      " 360 361 362 363 364 365 366 367 368 369 370 371 372 373 374 375 376 377\n",
      " 378 379 380 381 382 383 384 385 386 387 388 389 390 391 392 393 394 395\n",
      " 396 397 398 399 400 401 402 403 404 405 406 407 408 409 410 411 412 413\n",
      " 414 415 416 417 418 419 420 421 422 423 424 425 426 427 428 429 430 431\n",
      " 432 433 434 435 436 437 438 439 440 441 442 443 444 445 446 447 448 449\n",
      " 450 451 452 453 454 455 456 457 458 459 460 461 462 463 464 465 466 467\n",
      " 468 469 470 471 472 473 474 475]\n",
      "[205 430 304 277 132 355 237 204 413 113 254 326 387 183 337 445 279 139\n",
      "  27 321 440 252  96 429 453  57 377 216 168  34 333 365 212  31 443 315\n",
      "  82 405  21 314  73 107 261 106 363 220 225 448 104 378 345 111 399  14\n",
      " 423 100 319 353 364 327 251  25 235 395 145 406   1 114 325 126 266 284\n",
      " 268 459 306 384 332 318 381 351 302  10 187 293  37 452 219 197 146  66\n",
      " 287 341  19 391 359 461 472 463 274 349 444 190 415 425 390 348 194 178\n",
      " 121  72 285 143 344  50 320 228   6 189  11 117  48  17 241 416 324 226\n",
      " 421  77 215 432 174 176 211  28 300 179 396 288  49 373 281  65  99 130\n",
      " 433  42 369 157 462 164  76 385 127  90  79 379 224 271 165 260 250  30\n",
      "  92  59 163 193  84 247 182 259   9 383 141 123 290 263 414 329 110 402\n",
      " 368  74 456  16 242 144 289 454  20 172 468 256 420 278  33 196 129 217\n",
      " 244  64  98  78 441  15 449 426 169 249 434 152 191 398 229 424 262 438\n",
      "  12  45  36  94 166  40 273 404 328 280 455 148 305 392 198 170 397 223\n",
      " 330 199 446 109 296 467 231  81  61 243 310 470 134 408 372 299 227 282\n",
      " 389 407 151 388 236 316 403 255 128  93 175 253 180  88  89  86  29 188\n",
      " 346 233 342 119 386 469 238 120 156 428 412 311 103 162 160 475 436 200\n",
      " 208 108 435 101 291  38 246 292  85 447 184 298 136 258 177 122 380 147\n",
      " 214 474  71 240 185 173   3 158 400  35  53 234 336 374 105 464 267 269\n",
      " 286 360 331 350 340 431 427 303 376  87 218 409 209 264 153   8 150 308\n",
      " 460 295  26 135 313 442 131 167 230  22 410 366  24  46 257 301 202 339\n",
      " 347  67 362  63 221  56 394  23 307 418 361 206 112  62 133 213 352  41\n",
      " 125   7  51  70  39 451 422 419 155 159  69 439 201 417  60 471  83 466\n",
      " 181 375  18  47  97 116  43 356 450 437 312 276 161 102 323 473 322   5\n",
      " 309  54 358 142 115  68 138  52  32   0 265 186 239 245 171 370 124  13\n",
      " 367 465   4  58 272  75 283 270 137 382 334   2  44 203 411  95 335 207\n",
      " 354 357 154 222 297 192 317 338 210 457  55 401  80  91 118 458 371 149\n",
      " 294 232 393 195 275 140 343 248]\n"
     ]
    },
    {
     "data": {
      "text/plain": [
       "(24, (24, 5, 128, 128, 3), (24, 10))"
      ]
     },
     "execution_count": 38,
     "metadata": {},
     "output_type": "execute_result"
    }
   ],
   "source": [
    "features, labels = train_gen[1]\n",
    "\n",
    "print(train_gen.indices)\n",
    "\n",
    "train_gen.on_epoch_end()\n",
    "\n",
    "print(train_gen.indices)\n",
    "\n",
    "BATCH_SIZE, features.shape, labels.shape"
   ]
  },
  {
   "cell_type": "markdown",
   "id": "6b46f8b1",
   "metadata": {
    "papermill": {
     "duration": 0.013815,
     "end_time": "2025-07-12T05:27:27.128350",
     "exception": false,
     "start_time": "2025-07-12T05:27:27.114535",
     "status": "completed"
    },
    "tags": []
   },
   "source": [
    "## Compute Class Weight"
   ]
  },
  {
   "cell_type": "code",
   "execution_count": 39,
   "id": "2fd4fb6b",
   "metadata": {
    "execution": {
     "iopub.execute_input": "2025-07-12T05:27:27.156883Z",
     "iopub.status.busy": "2025-07-12T05:27:27.156287Z",
     "iopub.status.idle": "2025-07-12T05:27:27.162744Z",
     "shell.execute_reply": "2025-07-12T05:27:27.161944Z"
    },
    "papermill": {
     "duration": 0.022168,
     "end_time": "2025-07-12T05:27:27.163822",
     "exception": false,
     "start_time": "2025-07-12T05:27:27.141654",
     "status": "completed"
    },
    "tags": []
   },
   "outputs": [
    {
     "name": "stdout",
     "output_type": "stream",
     "text": [
      "Class weights: {0: 1.0333333333333334, 1: 0.93, 2: 1.0333333333333334, 3: 1.0333333333333334, 4: 0.93, 5: 1.0333333333333334, 6: 1.0333333333333334, 7: 0.93, 8: 1.0333333333333334, 9: 1.0333333333333334}\n"
     ]
    }
   ],
   "source": [
    "from sklearn.utils.class_weight import compute_class_weight\n",
    "import numpy as np\n",
    "\n",
    "# Assuming y_int are integer labels (not one-hot)\n",
    "y_int = np.argmax(one_hot_encoded_labels, axis=1)  # or just integer labels if you have them\n",
    "\n",
    "classes = np.arange(NO_OF_CLASSES)  # e.g. np.arange(16)\n",
    "class_weights_values = compute_class_weight(class_weight='balanced', classes=classes, y=y_int)\n",
    "\n",
    "class_weights = dict(zip(classes, class_weights_values))\n",
    "\n",
    "print(\"Class weights:\", class_weights)\n"
   ]
  },
  {
   "cell_type": "code",
   "execution_count": 40,
   "id": "0f507d56",
   "metadata": {
    "execution": {
     "iopub.execute_input": "2025-07-12T05:27:27.193797Z",
     "iopub.status.busy": "2025-07-12T05:27:27.193122Z",
     "iopub.status.idle": "2025-07-12T05:27:27.424081Z",
     "shell.execute_reply": "2025-07-12T05:27:27.423392Z"
    },
    "papermill": {
     "duration": 0.247003,
     "end_time": "2025-07-12T05:27:27.425444",
     "exception": false,
     "start_time": "2025-07-12T05:27:27.178441",
     "status": "completed"
    },
    "tags": []
   },
   "outputs": [],
   "source": [
    "gc.collect()\n",
    "del videos, one_hot_encoded_labels, labels_train\n",
    "del features_train, val_labels, train_labels\n",
    "del val_video_frames, train_video_frames"
   ]
  },
  {
   "cell_type": "markdown",
   "id": "e3e34f48",
   "metadata": {
    "papermill": {
     "duration": 0.0139,
     "end_time": "2025-07-12T05:27:27.454345",
     "exception": false,
     "start_time": "2025-07-12T05:27:27.440445",
     "status": "completed"
    },
    "tags": []
   },
   "source": [
    "# ✨ Model Execution\n",
    "## Creating Model"
   ]
  },
  {
   "cell_type": "markdown",
   "id": "cfe2b782",
   "metadata": {
    "papermill": {
     "duration": 0.013518,
     "end_time": "2025-07-12T05:27:27.482141",
     "exception": false,
     "start_time": "2025-07-12T05:27:27.468623",
     "status": "completed"
    },
    "tags": []
   },
   "source": [
    "## Plot Model Structure"
   ]
  },
  {
   "cell_type": "markdown",
   "id": "44eda145",
   "metadata": {
    "papermill": {
     "duration": 0.013711,
     "end_time": "2025-07-12T05:27:27.510496",
     "exception": false,
     "start_time": "2025-07-12T05:27:27.496785",
     "status": "completed"
    },
    "tags": []
   },
   "source": [
    "## 📈 Model Training"
   ]
  },
  {
   "cell_type": "code",
   "execution_count": 41,
   "id": "f1f9b0e7",
   "metadata": {
    "execution": {
     "iopub.execute_input": "2025-07-12T05:27:27.539407Z",
     "iopub.status.busy": "2025-07-12T05:27:27.539123Z",
     "iopub.status.idle": "2025-07-12T05:34:14.914170Z",
     "shell.execute_reply": "2025-07-12T05:34:14.913452Z"
    },
    "papermill": {
     "duration": 407.391285,
     "end_time": "2025-07-12T05:34:14.915722",
     "exception": false,
     "start_time": "2025-07-12T05:27:27.524437",
     "status": "completed"
    },
    "tags": []
   },
   "outputs": [
    {
     "name": "stdout",
     "output_type": "stream",
     "text": [
      "Memory cleared before creating InceptionResNetV2+LSTM model\n",
      "TensorFlow version: 2.18.0\n",
      "Pre-loading InceptionResNetV2 weights...\n",
      "Downloading data from https://storage.googleapis.com/tensorflow/keras-applications/inception_resnet_v2/inception_resnet_v2_weights_tf_dim_ordering_tf_kernels_notop.h5\n",
      "\u001b[1m219055592/219055592\u001b[0m \u001b[32m━━━━━━━━━━━━━━━━━━━━\u001b[0m\u001b[37m\u001b[0m \u001b[1m1s\u001b[0m 0us/step\n",
      "InceptionResNetV2 weights loaded successfully!\n",
      "Creating InceptionResNetV2+LSTM model with parameters:\n",
      "sequence_length: 5, image_height: 128, image_width: 128, classes_list length: 10, dropout_rate: 0.5\n"
     ]
    },
    {
     "name": "stderr",
     "output_type": "stream",
     "text": [
      "/usr/local/lib/python3.11/dist-packages/keras/src/layers/core/wrapper.py:27: UserWarning: Do not pass an `input_shape`/`input_dim` argument to a layer. When using Sequential models, prefer using an `Input(shape)` object as the first layer in the model instead.\n",
      "  super().__init__(**kwargs)\n"
     ]
    },
    {
     "name": "stdout",
     "output_type": "stream",
     "text": [
      "InceptionResNetV2+LSTM model architecture created successfully!\n"
     ]
    },
    {
     "data": {
      "text/html": [
       "<pre style=\"white-space:pre;overflow-x:auto;line-height:normal;font-family:Menlo,'DejaVu Sans Mono',consolas,'Courier New',monospace\"><span style=\"font-weight: bold\">Model: \"sequential\"</span>\n",
       "</pre>\n"
      ],
      "text/plain": [
       "\u001b[1mModel: \"sequential\"\u001b[0m\n"
      ]
     },
     "metadata": {},
     "output_type": "display_data"
    },
    {
     "data": {
      "text/html": [
       "<pre style=\"white-space:pre;overflow-x:auto;line-height:normal;font-family:Menlo,'DejaVu Sans Mono',consolas,'Courier New',monospace\">┏━━━━━━━━━━━━━━━━━━━━━━━━━━━━━━━━━┳━━━━━━━━━━━━━━━━━━━━━━━━┳━━━━━━━━━━━━━━━┓\n",
       "┃<span style=\"font-weight: bold\"> Layer (type)                    </span>┃<span style=\"font-weight: bold\"> Output Shape           </span>┃<span style=\"font-weight: bold\">       Param # </span>┃\n",
       "┡━━━━━━━━━━━━━━━━━━━━━━━━━━━━━━━━━╇━━━━━━━━━━━━━━━━━━━━━━━━╇━━━━━━━━━━━━━━━┩\n",
       "│ time_distributed_InceptionResN… │ (<span style=\"color: #00d7ff; text-decoration-color: #00d7ff\">None</span>, <span style=\"color: #00af00; text-decoration-color: #00af00\">5</span>, <span style=\"color: #00af00; text-decoration-color: #00af00\">2</span>, <span style=\"color: #00af00; text-decoration-color: #00af00\">2</span>, <span style=\"color: #00af00; text-decoration-color: #00af00\">1536</span>)  │    <span style=\"color: #00af00; text-decoration-color: #00af00\">54,336,736</span> │\n",
       "│ (<span style=\"color: #0087ff; text-decoration-color: #0087ff\">TimeDistributed</span>)               │                        │               │\n",
       "├─────────────────────────────────┼────────────────────────┼───────────────┤\n",
       "│ time_distributed_pooling        │ (<span style=\"color: #00d7ff; text-decoration-color: #00d7ff\">None</span>, <span style=\"color: #00af00; text-decoration-color: #00af00\">5</span>, <span style=\"color: #00af00; text-decoration-color: #00af00\">1536</span>)        │             <span style=\"color: #00af00; text-decoration-color: #00af00\">0</span> │\n",
       "│ (<span style=\"color: #0087ff; text-decoration-color: #0087ff\">TimeDistributed</span>)               │                        │               │\n",
       "├─────────────────────────────────┼────────────────────────┼───────────────┤\n",
       "│ bidirectional (<span style=\"color: #0087ff; text-decoration-color: #0087ff\">Bidirectional</span>)   │ (<span style=\"color: #00d7ff; text-decoration-color: #00d7ff\">None</span>, <span style=\"color: #00af00; text-decoration-color: #00af00\">512</span>)            │     <span style=\"color: #00af00; text-decoration-color: #00af00\">3,672,064</span> │\n",
       "├─────────────────────────────────┼────────────────────────┼───────────────┤\n",
       "│ batch_normalization_InceptionR… │ (<span style=\"color: #00d7ff; text-decoration-color: #00d7ff\">None</span>, <span style=\"color: #00af00; text-decoration-color: #00af00\">512</span>)            │         <span style=\"color: #00af00; text-decoration-color: #00af00\">2,048</span> │\n",
       "│ (<span style=\"color: #0087ff; text-decoration-color: #0087ff\">BatchNormalization</span>)            │                        │               │\n",
       "├─────────────────────────────────┼────────────────────────┼───────────────┤\n",
       "│ dropout_lstm_InceptionResNetV2  │ (<span style=\"color: #00d7ff; text-decoration-color: #00d7ff\">None</span>, <span style=\"color: #00af00; text-decoration-color: #00af00\">512</span>)            │             <span style=\"color: #00af00; text-decoration-color: #00af00\">0</span> │\n",
       "│ (<span style=\"color: #0087ff; text-decoration-color: #0087ff\">Dropout</span>)                       │                        │               │\n",
       "├─────────────────────────────────┼────────────────────────┼───────────────┤\n",
       "│ dense_InceptionResNetV2_1       │ (<span style=\"color: #00d7ff; text-decoration-color: #00d7ff\">None</span>, <span style=\"color: #00af00; text-decoration-color: #00af00\">512</span>)            │       <span style=\"color: #00af00; text-decoration-color: #00af00\">262,656</span> │\n",
       "│ (<span style=\"color: #0087ff; text-decoration-color: #0087ff\">Dense</span>)                         │                        │               │\n",
       "├─────────────────────────────────┼────────────────────────┼───────────────┤\n",
       "│ dropout_dense_InceptionResNetV… │ (<span style=\"color: #00d7ff; text-decoration-color: #00d7ff\">None</span>, <span style=\"color: #00af00; text-decoration-color: #00af00\">512</span>)            │             <span style=\"color: #00af00; text-decoration-color: #00af00\">0</span> │\n",
       "│ (<span style=\"color: #0087ff; text-decoration-color: #0087ff\">Dropout</span>)                       │                        │               │\n",
       "├─────────────────────────────────┼────────────────────────┼───────────────┤\n",
       "│ dense_InceptionResNetV2_2       │ (<span style=\"color: #00d7ff; text-decoration-color: #00d7ff\">None</span>, <span style=\"color: #00af00; text-decoration-color: #00af00\">128</span>)            │        <span style=\"color: #00af00; text-decoration-color: #00af00\">65,664</span> │\n",
       "│ (<span style=\"color: #0087ff; text-decoration-color: #0087ff\">Dense</span>)                         │                        │               │\n",
       "├─────────────────────────────────┼────────────────────────┼───────────────┤\n",
       "│ dropout_dense_InceptionResNetV… │ (<span style=\"color: #00d7ff; text-decoration-color: #00d7ff\">None</span>, <span style=\"color: #00af00; text-decoration-color: #00af00\">128</span>)            │             <span style=\"color: #00af00; text-decoration-color: #00af00\">0</span> │\n",
       "│ (<span style=\"color: #0087ff; text-decoration-color: #0087ff\">Dropout</span>)                       │                        │               │\n",
       "├─────────────────────────────────┼────────────────────────┼───────────────┤\n",
       "│ output_InceptionResNetV2        │ (<span style=\"color: #00d7ff; text-decoration-color: #00d7ff\">None</span>, <span style=\"color: #00af00; text-decoration-color: #00af00\">10</span>)             │         <span style=\"color: #00af00; text-decoration-color: #00af00\">1,290</span> │\n",
       "│ (<span style=\"color: #0087ff; text-decoration-color: #0087ff\">Dense</span>)                         │                        │               │\n",
       "└─────────────────────────────────┴────────────────────────┴───────────────┘\n",
       "</pre>\n"
      ],
      "text/plain": [
       "┏━━━━━━━━━━━━━━━━━━━━━━━━━━━━━━━━━┳━━━━━━━━━━━━━━━━━━━━━━━━┳━━━━━━━━━━━━━━━┓\n",
       "┃\u001b[1m \u001b[0m\u001b[1mLayer (type)                   \u001b[0m\u001b[1m \u001b[0m┃\u001b[1m \u001b[0m\u001b[1mOutput Shape          \u001b[0m\u001b[1m \u001b[0m┃\u001b[1m \u001b[0m\u001b[1m      Param #\u001b[0m\u001b[1m \u001b[0m┃\n",
       "┡━━━━━━━━━━━━━━━━━━━━━━━━━━━━━━━━━╇━━━━━━━━━━━━━━━━━━━━━━━━╇━━━━━━━━━━━━━━━┩\n",
       "│ time_distributed_InceptionResN… │ (\u001b[38;5;45mNone\u001b[0m, \u001b[38;5;34m5\u001b[0m, \u001b[38;5;34m2\u001b[0m, \u001b[38;5;34m2\u001b[0m, \u001b[38;5;34m1536\u001b[0m)  │    \u001b[38;5;34m54,336,736\u001b[0m │\n",
       "│ (\u001b[38;5;33mTimeDistributed\u001b[0m)               │                        │               │\n",
       "├─────────────────────────────────┼────────────────────────┼───────────────┤\n",
       "│ time_distributed_pooling        │ (\u001b[38;5;45mNone\u001b[0m, \u001b[38;5;34m5\u001b[0m, \u001b[38;5;34m1536\u001b[0m)        │             \u001b[38;5;34m0\u001b[0m │\n",
       "│ (\u001b[38;5;33mTimeDistributed\u001b[0m)               │                        │               │\n",
       "├─────────────────────────────────┼────────────────────────┼───────────────┤\n",
       "│ bidirectional (\u001b[38;5;33mBidirectional\u001b[0m)   │ (\u001b[38;5;45mNone\u001b[0m, \u001b[38;5;34m512\u001b[0m)            │     \u001b[38;5;34m3,672,064\u001b[0m │\n",
       "├─────────────────────────────────┼────────────────────────┼───────────────┤\n",
       "│ batch_normalization_InceptionR… │ (\u001b[38;5;45mNone\u001b[0m, \u001b[38;5;34m512\u001b[0m)            │         \u001b[38;5;34m2,048\u001b[0m │\n",
       "│ (\u001b[38;5;33mBatchNormalization\u001b[0m)            │                        │               │\n",
       "├─────────────────────────────────┼────────────────────────┼───────────────┤\n",
       "│ dropout_lstm_InceptionResNetV2  │ (\u001b[38;5;45mNone\u001b[0m, \u001b[38;5;34m512\u001b[0m)            │             \u001b[38;5;34m0\u001b[0m │\n",
       "│ (\u001b[38;5;33mDropout\u001b[0m)                       │                        │               │\n",
       "├─────────────────────────────────┼────────────────────────┼───────────────┤\n",
       "│ dense_InceptionResNetV2_1       │ (\u001b[38;5;45mNone\u001b[0m, \u001b[38;5;34m512\u001b[0m)            │       \u001b[38;5;34m262,656\u001b[0m │\n",
       "│ (\u001b[38;5;33mDense\u001b[0m)                         │                        │               │\n",
       "├─────────────────────────────────┼────────────────────────┼───────────────┤\n",
       "│ dropout_dense_InceptionResNetV… │ (\u001b[38;5;45mNone\u001b[0m, \u001b[38;5;34m512\u001b[0m)            │             \u001b[38;5;34m0\u001b[0m │\n",
       "│ (\u001b[38;5;33mDropout\u001b[0m)                       │                        │               │\n",
       "├─────────────────────────────────┼────────────────────────┼───────────────┤\n",
       "│ dense_InceptionResNetV2_2       │ (\u001b[38;5;45mNone\u001b[0m, \u001b[38;5;34m128\u001b[0m)            │        \u001b[38;5;34m65,664\u001b[0m │\n",
       "│ (\u001b[38;5;33mDense\u001b[0m)                         │                        │               │\n",
       "├─────────────────────────────────┼────────────────────────┼───────────────┤\n",
       "│ dropout_dense_InceptionResNetV… │ (\u001b[38;5;45mNone\u001b[0m, \u001b[38;5;34m128\u001b[0m)            │             \u001b[38;5;34m0\u001b[0m │\n",
       "│ (\u001b[38;5;33mDropout\u001b[0m)                       │                        │               │\n",
       "├─────────────────────────────────┼────────────────────────┼───────────────┤\n",
       "│ output_InceptionResNetV2        │ (\u001b[38;5;45mNone\u001b[0m, \u001b[38;5;34m10\u001b[0m)             │         \u001b[38;5;34m1,290\u001b[0m │\n",
       "│ (\u001b[38;5;33mDense\u001b[0m)                         │                        │               │\n",
       "└─────────────────────────────────┴────────────────────────┴───────────────┘\n"
      ]
     },
     "metadata": {},
     "output_type": "display_data"
    },
    {
     "data": {
      "text/html": [
       "<pre style=\"white-space:pre;overflow-x:auto;line-height:normal;font-family:Menlo,'DejaVu Sans Mono',consolas,'Courier New',monospace\"><span style=\"font-weight: bold\"> Total params: </span><span style=\"color: #00af00; text-decoration-color: #00af00\">58,340,458</span> (222.55 MB)\n",
       "</pre>\n"
      ],
      "text/plain": [
       "\u001b[1m Total params: \u001b[0m\u001b[38;5;34m58,340,458\u001b[0m (222.55 MB)\n"
      ]
     },
     "metadata": {},
     "output_type": "display_data"
    },
    {
     "data": {
      "text/html": [
       "<pre style=\"white-space:pre;overflow-x:auto;line-height:normal;font-family:Menlo,'DejaVu Sans Mono',consolas,'Courier New',monospace\"><span style=\"font-weight: bold\"> Trainable params: </span><span style=\"color: #00af00; text-decoration-color: #00af00\">4,002,698</span> (15.27 MB)\n",
       "</pre>\n"
      ],
      "text/plain": [
       "\u001b[1m Trainable params: \u001b[0m\u001b[38;5;34m4,002,698\u001b[0m (15.27 MB)\n"
      ]
     },
     "metadata": {},
     "output_type": "display_data"
    },
    {
     "data": {
      "text/html": [
       "<pre style=\"white-space:pre;overflow-x:auto;line-height:normal;font-family:Menlo,'DejaVu Sans Mono',consolas,'Courier New',monospace\"><span style=\"font-weight: bold\"> Non-trainable params: </span><span style=\"color: #00af00; text-decoration-color: #00af00\">54,337,760</span> (207.28 MB)\n",
       "</pre>\n"
      ],
      "text/plain": [
       "\u001b[1m Non-trainable params: \u001b[0m\u001b[38;5;34m54,337,760\u001b[0m (207.28 MB)\n"
      ]
     },
     "metadata": {},
     "output_type": "display_data"
    },
    {
     "name": "stdout",
     "output_type": "stream",
     "text": [
      "InceptionResNetV2+LSTM Model Created Successfully!\n",
      "Xception_InceptionResNetV2_LSTM Model Plot saved successfully...\n",
      "train_gen.videos shape: (476, 5, 128, 128, 3)\n",
      "train_gen.labels shape: (476, 10)\n",
      "val_gen.videos shape: (119, 5, 128, 128, 3)\n",
      "val_gen.labels shape: (119, 10)\n",
      "features_test shape: (149, 5, 128, 128, 3)\n",
      "labels_test shape: (149, 10)\n",
      "train_gen batch videos shape: (24, 5, 128, 128, 3)\n",
      "train_gen batch labels shape: (24, 10)\n",
      "val_gen batch videos shape: (24, 5, 128, 128, 3)\n",
      "val_gen batch labels shape: (24, 10)\n",
      "Dataset - Weizmann Dataset\n",
      "There are total 10 classes, selected 10 classes\n",
      "Setting None videos/class to train the model.\n",
      "Image size 128x128 with 5 sequence length\n",
      "Dropout rate: 0.5\n",
      "Train-Test split ratio 80/20\n",
      "Validation data from Train set 20.0%\n",
      "\n",
      "\n",
      "Initial training started for InceptionResNetV2+LSTM model with 476 videos of 10 classes with 119 videos for validation...\n",
      "Epoch 1/30\n"
     ]
    },
    {
     "name": "stderr",
     "output_type": "stream",
     "text": [
      "I0000 00:00:1752298176.727511     438 cuda_dnn.cc:529] Loaded cuDNN version 90300\n"
     ]
    },
    {
     "name": "stdout",
     "output_type": "stream",
     "text": [
      "     20/Unknown \u001b[1m131s\u001b[0m 304ms/step - accuracy: 0.1433 - loss: 34.7745"
     ]
    },
    {
     "name": "stderr",
     "output_type": "stream",
     "text": [
      "/usr/local/lib/python3.11/dist-packages/keras/src/trainers/epoch_iterator.py:151: UserWarning: Your input ran out of data; interrupting training. Make sure that your dataset or generator can generate at least `steps_per_epoch * epochs` batches. You may need to use the `.repeat()` function when building your dataset.\n",
      "  self._interrupted_warning()\n"
     ]
    },
    {
     "name": "stdout",
     "output_type": "stream",
     "text": [
      "\u001b[1m20/20\u001b[0m \u001b[32m━━━━━━━━━━━━━━━━━━━━\u001b[0m\u001b[37m\u001b[0m \u001b[1m176s\u001b[0m 3s/step - accuracy: 0.1442 - loss: 34.7027 - val_accuracy: 0.4370 - val_loss: 29.6553 - learning_rate: 0.0010\n",
      "Epoch 2/30\n",
      "\u001b[1m20/20\u001b[0m \u001b[32m━━━━━━━━━━━━━━━━━━━━\u001b[0m\u001b[37m\u001b[0m \u001b[1m7s\u001b[0m 377ms/step - accuracy: 0.2615 - loss: 28.8345 - val_accuracy: 0.4286 - val_loss: 25.3915 - learning_rate: 0.0010\n",
      "Epoch 3/30\n",
      "\u001b[1m20/20\u001b[0m \u001b[32m━━━━━━━━━━━━━━━━━━━━\u001b[0m\u001b[37m\u001b[0m \u001b[1m7s\u001b[0m 377ms/step - accuracy: 0.3553 - loss: 24.3092 - val_accuracy: 0.5126 - val_loss: 21.7801 - learning_rate: 0.0010\n",
      "Epoch 4/30\n",
      "\u001b[1m20/20\u001b[0m \u001b[32m━━━━━━━━━━━━━━━━━━━━\u001b[0m\u001b[37m\u001b[0m \u001b[1m7s\u001b[0m 375ms/step - accuracy: 0.4510 - loss: 20.6965 - val_accuracy: 0.5882 - val_loss: 18.8085 - learning_rate: 0.0010\n",
      "Epoch 5/30\n",
      "\u001b[1m20/20\u001b[0m \u001b[32m━━━━━━━━━━━━━━━━━━━━\u001b[0m\u001b[37m\u001b[0m \u001b[1m8s\u001b[0m 386ms/step - accuracy: 0.5326 - loss: 17.9505 - val_accuracy: 0.6218 - val_loss: 16.4829 - learning_rate: 0.0010\n",
      "Epoch 6/30\n",
      "\u001b[1m20/20\u001b[0m \u001b[32m━━━━━━━━━━━━━━━━━━━━\u001b[0m\u001b[37m\u001b[0m \u001b[1m8s\u001b[0m 383ms/step - accuracy: 0.5714 - loss: 15.7089 - val_accuracy: 0.7395 - val_loss: 14.6216 - learning_rate: 0.0010\n",
      "Epoch 7/30\n",
      "\u001b[1m20/20\u001b[0m \u001b[32m━━━━━━━━━━━━━━━━━━━━\u001b[0m\u001b[37m\u001b[0m \u001b[1m8s\u001b[0m 389ms/step - accuracy: 0.6093 - loss: 13.8720 - val_accuracy: 0.6891 - val_loss: 13.0344 - learning_rate: 0.0010\n",
      "Epoch 8/30\n",
      "\u001b[1m20/20\u001b[0m \u001b[32m━━━━━━━━━━━━━━━━━━━━\u001b[0m\u001b[37m\u001b[0m \u001b[1m8s\u001b[0m 393ms/step - accuracy: 0.6156 - loss: 12.4895 - val_accuracy: 0.7395 - val_loss: 11.6654 - learning_rate: 0.0010\n",
      "Epoch 9/30\n",
      "\u001b[1m20/20\u001b[0m \u001b[32m━━━━━━━━━━━━━━━━━━━━\u001b[0m\u001b[37m\u001b[0m \u001b[1m8s\u001b[0m 400ms/step - accuracy: 0.6884 - loss: 11.2067 - val_accuracy: 0.7059 - val_loss: 10.6097 - learning_rate: 0.0010\n",
      "Epoch 10/30\n",
      "\u001b[1m20/20\u001b[0m \u001b[32m━━━━━━━━━━━━━━━━━━━━\u001b[0m\u001b[37m\u001b[0m \u001b[1m8s\u001b[0m 395ms/step - accuracy: 0.6959 - loss: 10.0849 - val_accuracy: 0.6891 - val_loss: 9.6597 - learning_rate: 0.0010\n",
      "Epoch 11/30\n",
      "\u001b[1m20/20\u001b[0m \u001b[32m━━━━━━━━━━━━━━━━━━━━\u001b[0m\u001b[37m\u001b[0m \u001b[1m8s\u001b[0m 393ms/step - accuracy: 0.7273 - loss: 9.2038 - val_accuracy: 0.7563 - val_loss: 8.7276 - learning_rate: 0.0010\n",
      "Epoch 12/30\n",
      "\u001b[1m20/20\u001b[0m \u001b[32m━━━━━━━━━━━━━━━━━━━━\u001b[0m\u001b[37m\u001b[0m \u001b[1m8s\u001b[0m 391ms/step - accuracy: 0.8012 - loss: 8.2788 - val_accuracy: 0.6555 - val_loss: 8.1107 - learning_rate: 0.0010\n",
      "Epoch 13/30\n",
      "\u001b[1m20/20\u001b[0m \u001b[32m━━━━━━━━━━━━━━━━━━━━\u001b[0m\u001b[37m\u001b[0m \u001b[1m8s\u001b[0m 389ms/step - accuracy: 0.7636 - loss: 7.7420 - val_accuracy: 0.7395 - val_loss: 7.3782 - learning_rate: 0.0010\n",
      "Epoch 14/30\n",
      "\u001b[1m20/20\u001b[0m \u001b[32m━━━━━━━━━━━━━━━━━━━━\u001b[0m\u001b[37m\u001b[0m \u001b[1m8s\u001b[0m 386ms/step - accuracy: 0.7722 - loss: 7.0874 - val_accuracy: 0.7059 - val_loss: 6.8971 - learning_rate: 0.0010\n",
      "Epoch 15/30\n",
      "\u001b[1m20/20\u001b[0m \u001b[32m━━━━━━━━━━━━━━━━━━━━\u001b[0m\u001b[37m\u001b[0m \u001b[1m8s\u001b[0m 387ms/step - accuracy: 0.8153 - loss: 6.4575 - val_accuracy: 0.6891 - val_loss: 6.4692 - learning_rate: 0.0010\n",
      "Epoch 16/30\n",
      "\u001b[1m20/20\u001b[0m \u001b[32m━━━━━━━━━━━━━━━━━━━━\u001b[0m\u001b[37m\u001b[0m \u001b[1m8s\u001b[0m 389ms/step - accuracy: 0.8425 - loss: 5.9932 - val_accuracy: 0.7227 - val_loss: 5.9699 - learning_rate: 0.0010\n",
      "Epoch 17/30\n",
      "\u001b[1m20/20\u001b[0m \u001b[32m━━━━━━━━━━━━━━━━━━━━\u001b[0m\u001b[37m\u001b[0m \u001b[1m8s\u001b[0m 395ms/step - accuracy: 0.8447 - loss: 5.6158 - val_accuracy: 0.7227 - val_loss: 5.5408 - learning_rate: 0.0010\n",
      "Epoch 18/30\n",
      "\u001b[1m20/20\u001b[0m \u001b[32m━━━━━━━━━━━━━━━━━━━━\u001b[0m\u001b[37m\u001b[0m \u001b[1m8s\u001b[0m 391ms/step - accuracy: 0.8695 - loss: 5.1072 - val_accuracy: 0.6891 - val_loss: 5.3559 - learning_rate: 0.0010\n",
      "Epoch 19/30\n",
      "\u001b[1m20/20\u001b[0m \u001b[32m━━━━━━━━━━━━━━━━━━━━\u001b[0m\u001b[37m\u001b[0m \u001b[1m8s\u001b[0m 392ms/step - accuracy: 0.8840 - loss: 4.7666 - val_accuracy: 0.8151 - val_loss: 4.6806 - learning_rate: 0.0010\n",
      "Epoch 20/30\n",
      "\u001b[1m20/20\u001b[0m \u001b[32m━━━━━━━━━━━━━━━━━━━━\u001b[0m\u001b[37m\u001b[0m \u001b[1m8s\u001b[0m 388ms/step - accuracy: 0.8724 - loss: 4.3779 - val_accuracy: 0.8235 - val_loss: 4.3800 - learning_rate: 0.0010\n",
      "Epoch 21/30\n",
      "\u001b[1m20/20\u001b[0m \u001b[32m━━━━━━━━━━━━━━━━━━━━\u001b[0m\u001b[37m\u001b[0m \u001b[1m8s\u001b[0m 391ms/step - accuracy: 0.8927 - loss: 4.0818 - val_accuracy: 0.6975 - val_loss: 4.3623 - learning_rate: 0.0010\n",
      "Epoch 22/30\n",
      "\u001b[1m20/20\u001b[0m \u001b[32m━━━━━━━━━━━━━━━━━━━━\u001b[0m\u001b[37m\u001b[0m \u001b[1m8s\u001b[0m 388ms/step - accuracy: 0.9030 - loss: 3.8675 - val_accuracy: 0.7479 - val_loss: 4.0386 - learning_rate: 0.0010\n",
      "Epoch 23/30\n",
      "\u001b[1m20/20\u001b[0m \u001b[32m━━━━━━━━━━━━━━━━━━━━\u001b[0m\u001b[37m\u001b[0m \u001b[1m8s\u001b[0m 393ms/step - accuracy: 0.8396 - loss: 3.7790 - val_accuracy: 0.7563 - val_loss: 3.7224 - learning_rate: 0.0010\n",
      "Epoch 24/30\n",
      "\u001b[1m20/20\u001b[0m \u001b[32m━━━━━━━━━━━━━━━━━━━━\u001b[0m\u001b[37m\u001b[0m \u001b[1m8s\u001b[0m 392ms/step - accuracy: 0.8778 - loss: 3.5230 - val_accuracy: 0.7479 - val_loss: 3.6401 - learning_rate: 0.0010\n",
      "Epoch 25/30\n",
      "\u001b[1m20/20\u001b[0m \u001b[32m━━━━━━━━━━━━━━━━━━━━\u001b[0m\u001b[37m\u001b[0m \u001b[1m8s\u001b[0m 393ms/step - accuracy: 0.8404 - loss: 3.4010 - val_accuracy: 0.8151 - val_loss: 3.3443 - learning_rate: 0.0010\n",
      "Epoch 26/30\n",
      "\u001b[1m20/20\u001b[0m \u001b[32m━━━━━━━━━━━━━━━━━━━━\u001b[0m\u001b[37m\u001b[0m \u001b[1m7s\u001b[0m 370ms/step - accuracy: 0.9029 - loss: 3.1040 - val_accuracy: 0.6975 - val_loss: 3.5952 - learning_rate: 0.0010\n",
      "Epoch 27/30\n",
      "\u001b[1m20/20\u001b[0m \u001b[32m━━━━━━━━━━━━━━━━━━━━\u001b[0m\u001b[37m\u001b[0m \u001b[1m8s\u001b[0m 392ms/step - accuracy: 0.9010 - loss: 2.9891 - val_accuracy: 0.7395 - val_loss: 3.2437 - learning_rate: 0.0010\n",
      "Epoch 28/30\n",
      "\u001b[1m20/20\u001b[0m \u001b[32m━━━━━━━━━━━━━━━━━━━━\u001b[0m\u001b[37m\u001b[0m \u001b[1m8s\u001b[0m 391ms/step - accuracy: 0.9009 - loss: 2.7756 - val_accuracy: 0.7983 - val_loss: 2.9317 - learning_rate: 0.0010\n",
      "Epoch 29/30\n",
      "\u001b[1m20/20\u001b[0m \u001b[32m━━━━━━━━━━━━━━━━━━━━\u001b[0m\u001b[37m\u001b[0m \u001b[1m7s\u001b[0m 367ms/step - accuracy: 0.8918 - loss: 2.6469 - val_accuracy: 0.7899 - val_loss: 2.9348 - learning_rate: 0.0010\n",
      "Epoch 30/30\n",
      "\u001b[1m20/20\u001b[0m \u001b[32m━━━━━━━━━━━━━━━━━━━━\u001b[0m\u001b[37m\u001b[0m \u001b[1m7s\u001b[0m 374ms/step - accuracy: 0.9022 - loss: 2.5587 - val_accuracy: 0.7143 - val_loss: 2.9836 - learning_rate: 0.0010\n"
     ]
    }
   ],
   "source": [
    "# Import necessary libraries\n",
    "from tensorflow.keras.applications import InceptionResNetV2\n",
    "from tensorflow.keras.models import Sequential\n",
    "from tensorflow.keras.layers import TimeDistributed, GlobalAveragePooling2D, LSTM, Dropout, Dense, BatchNormalization, Bidirectional\n",
    "from tensorflow.keras.regularizers import l2\n",
    "from tensorflow.keras.callbacks import EarlyStopping, ReduceLROnPlateau\n",
    "from tensorflow.keras.utils import to_categorical\n",
    "import tensorflow as tf\n",
    "import numpy as np\n",
    "import gc\n",
    "\n",
    "# Clear memory before creating the new model\n",
    "gc.collect()\n",
    "tf.keras.backend.clear_session()\n",
    "print(\"Memory cleared before creating InceptionResNetV2+LSTM model\")\n",
    "\n",
    "# Print TensorFlow version\n",
    "print(f\"TensorFlow version: {tf.__version__}\")\n",
    "\n",
    "# Pre-load InceptionResNetV2 weights\n",
    "print(\"Pre-loading InceptionResNetV2 weights...\")\n",
    "try:\n",
    "    base_model = InceptionResNetV2(weights='imagenet', include_top=False, input_shape=(IMAGE_HEIGHT, IMAGE_WIDTH, 3))\n",
    "    print(\"InceptionResNetV2 weights loaded successfully!\")\n",
    "except Exception as e:\n",
    "    print(f\"Failed to load InceptionResNetV2 weights: {str(e)}\")\n",
    "    print(\"Falling back to initializing InceptionResNetV2 without pre-trained weights...\")\n",
    "    base_model = InceptionResNetV2(weights=None, include_top=False, input_shape=(IMAGE_HEIGHT, IMAGE_WIDTH, 3))\n",
    "\n",
    "# Define function to create InceptionResNetV2+LSTM model\n",
    "def create_model(sequence_length, image_height, image_width, classes_list=None, dropout_rate=0.5, base_model=None):\n",
    "    print(\"Creating InceptionResNetV2+LSTM model with parameters:\")\n",
    "    print(f\"sequence_length: {sequence_length}, image_height: {image_height}, image_width: {image_width}, classes_list length: {len(classes_list) if classes_list is not None else None}, dropout_rate: {dropout_rate}\")\n",
    "    \n",
    "    if classes_list is None:\n",
    "        raise ValueError(\"classes_list must be provided to define the output layer size\")\n",
    "    if base_model is None:\n",
    "        raise ValueError(\"base_model must be provided to avoid re-downloading weights\")\n",
    "\n",
    "    try:\n",
    "        # Use the pre-loaded base model\n",
    "        # Freeze the base model for initial training\n",
    "        base_model.trainable = False\n",
    "\n",
    "        # Define the Sequential model\n",
    "        model = Sequential([\n",
    "            # TimeDistributed InceptionResNetV2 model\n",
    "            TimeDistributed(\n",
    "                base_model,\n",
    "                input_shape=(sequence_length, image_height, image_width, 3),\n",
    "                name=\"time_distributed_InceptionResNetV2\"\n",
    "            ),\n",
    "            # TimeDistributed GlobalAveragePooling2D\n",
    "            TimeDistributed(GlobalAveragePooling2D(), name=\"time_distributed_pooling\"),\n",
    "            # LSTM layer with 512 units\n",
    "            Bidirectional(LSTM(256, activation=\"tanh\", return_sequences=False, kernel_regularizer=l2(0.01), name=\"lstm_InceptionResNetV2\")),\n",
    "            BatchNormalization(name=\"batch_normalization_InceptionResNetV2\"),\n",
    "            # Dropout after LSTM\n",
    "            Dropout(dropout_rate, name=\"dropout_lstm_InceptionResNetV2\"),\n",
    "            # Dense layer with 512 units\n",
    "            Dense(512, activation=\"relu\", kernel_regularizer=l2(0.01), name=\"dense_InceptionResNetV2_1\"),\n",
    "            # Dropout after first Dense\n",
    "            Dropout(dropout_rate, name=\"dropout_dense_InceptionResNetV2_1\"),\n",
    "            # Dense layer with 128 units\n",
    "            Dense(128, activation=\"relu\", kernel_regularizer=l2(0.01), name=\"dense_InceptionResNetV2_2\"),\n",
    "            # Dropout after second Dense\n",
    "            Dropout(dropout_rate, name=\"dropout_dense_InceptionResNetV2_2\"),\n",
    "            # Output Dense layer with softmax activation\n",
    "            Dense(len(classes_list), activation=\"softmax\", name=\"output_InceptionResNetV2\")\n",
    "        ])\n",
    "\n",
    "        # Print model summary\n",
    "        print(\"InceptionResNetV2+LSTM model architecture created successfully!\")\n",
    "        model.summary()\n",
    "\n",
    "        return model\n",
    "\n",
    "    except Exception as e:\n",
    "        print(f\"Error creating InceptionResNetV2+LSTM model: {str(e)}\")\n",
    "        import traceback\n",
    "        traceback.print_exc()\n",
    "        return None\n",
    "\n",
    "# Create the InceptionResNetV2+LSTM model using the pre-loaded base model\n",
    "model = create_model(\n",
    "    sequence_length=SEQUENCE_LENGTH,\n",
    "    image_height=IMAGE_HEIGHT,\n",
    "    image_width=IMAGE_WIDTH,\n",
    "    classes_list=CLASSES_LIST,\n",
    "    dropout_rate=DROPOUT_RATE,\n",
    "    base_model=base_model\n",
    ")\n",
    "\n",
    "# Check if model was created successfully\n",
    "if model is None:\n",
    "    raise ValueError(\"Failed to create InceptionResNetV2+LSTM model. Check error messages above.\")\n",
    "else:\n",
    "    print(\"InceptionResNetV2+LSTM Model Created Successfully!\")\n",
    "\n",
    "# Plot the model structure\n",
    "from tensorflow.keras.utils import plot_model\n",
    "try:\n",
    "    plot_model(model, to_file=f'{MODEL_NAME}_model_Plot.png', show_shapes=True, show_layer_names=True)\n",
    "    print(f\"{MODEL_NAME}_InceptionResNetV2_LSTM Model Plot saved successfully...\")\n",
    "except Exception as e:\n",
    "    print(f\"Failed to plot model: {str(e)}\")\n",
    "\n",
    "# Verify data shapes\n",
    "print(f\"train_gen.videos shape: {np.shape(train_gen.videos)}\")\n",
    "print(f\"train_gen.labels shape: {np.shape(train_gen.labels)}\")\n",
    "print(f\"val_gen.videos shape: {np.shape(val_gen.videos)}\")\n",
    "print(f\"val_gen.labels shape: {np.shape(val_gen.labels)}\")\n",
    "print(f\"features_test shape: {np.shape(features_test)}\")\n",
    "print(f\"labels_test shape: {np.shape(labels_test)}\")\n",
    "\n",
    "# Ensure labels_test is one-hot encoded\n",
    "if len(labels_test.shape) == 1:\n",
    "    print(\"Converting labels_test to one-hot encoded format...\")\n",
    "    labels_test = to_categorical(labels_test, num_classes=NO_OF_CLASSES)\n",
    "    print(f\"New labels_test shape: {labels_test.shape}\")\n",
    "\n",
    "# Verify generator batch shapes\n",
    "try:\n",
    "    videos, labels = train_gen[0]\n",
    "    print(f\"train_gen batch videos shape: {videos.shape}\")\n",
    "    print(f\"train_gen batch labels shape: {labels.shape}\")\n",
    "    videos, labels = val_gen[0]\n",
    "    print(f\"val_gen batch videos shape: {videos.shape}\")\n",
    "    print(f\"val_gen batch labels shape: {labels.shape}\")\n",
    "except Exception as e:\n",
    "    print(f\"Error accessing generator data: {str(e)}\")\n",
    "\n",
    "# Compile the model for initial training\n",
    "early_stopping_callback = EarlyStopping(monitor='val_loss', patience=7, mode='min', restore_best_weights=True)\n",
    "lr_scheduler = ReduceLROnPlateau(monitor='val_loss', factor=0.5, patience=3, min_lr=1e-6)\n",
    "\n",
    "model.compile(\n",
    "    loss='categorical_crossentropy',\n",
    "    optimizer=tf.keras.optimizers.Adam(learning_rate=0.001),  # Higher learning rate for initial training\n",
    "    metrics=['accuracy']\n",
    ")\n",
    "\n",
    "# Print dataset summary\n",
    "print(f\"Dataset - {DATASET_NAME}\")\n",
    "print(f\"There are total {len(ALL_CLASS_NAMES)} classes, selected {NO_OF_CLASSES} classes\")\n",
    "print(f\"Setting {MAX_VIDEO_PER_CLASS} videos/class to train the model.\")\n",
    "print(f\"Image size {IMAGE_HEIGHT}x{IMAGE_WIDTH} with {SEQUENCE_LENGTH} sequence length\")\n",
    "print(f\"Dropout rate: {DROPOUT_RATE}\")\n",
    "print(f\"Train-Test split ratio {int((1-TEST_SIZE)*100)}/{int(TEST_SIZE*100)}\")\n",
    "print(f\"Validation data from Train set {VALIDATION_SPLIT*100}%\")\n",
    "print(\"\\n\")\n",
    "\n",
    "# Initial training with frozen base model\n",
    "print(f\"Initial training started for InceptionResNetV2+LSTM model with {len(train_gen.videos)} videos of {NO_OF_CLASSES} classes with {len(val_gen.videos)} videos for validation...\")\n",
    "try:\n",
    "    initial_model_history = model.fit(\n",
    "        train_gen.as_dataset(),\n",
    "        validation_data=val_gen.as_dataset(),\n",
    "        epochs=EPOCHS,\n",
    "        class_weight=class_weights,\n",
    "        callbacks=[early_stopping_callback, lr_scheduler]\n",
    "    )\n",
    "except Exception as e:\n",
    "    print(f\"Error during initial model training: {str(e)}\")\n",
    "    import traceback\n",
    "    traceback.print_exc()\n"
   ]
  },
  {
   "cell_type": "code",
   "execution_count": 42,
   "id": "75b4f7c2",
   "metadata": {
    "execution": {
     "iopub.execute_input": "2025-07-12T05:34:15.010480Z",
     "iopub.status.busy": "2025-07-12T05:34:15.010211Z",
     "iopub.status.idle": "2025-07-12T05:41:05.608491Z",
     "shell.execute_reply": "2025-07-12T05:41:05.607542Z"
    },
    "papermill": {
     "duration": 410.646062,
     "end_time": "2025-07-12T05:41:05.609739",
     "exception": false,
     "start_time": "2025-07-12T05:34:14.963677",
     "status": "completed"
    },
    "tags": []
   },
   "outputs": [
    {
     "name": "stdout",
     "output_type": "stream",
     "text": [
      "\n",
      "Fine-tuning started for InceptionResNetV2+LSTM model with 476 videos of 10 classes with 119 videos for validation...\n",
      "Epoch 1/30\n",
      "\u001b[1m20/20\u001b[0m \u001b[32m━━━━━━━━━━━━━━━━━━━━\u001b[0m\u001b[37m\u001b[0m \u001b[1m178s\u001b[0m 3s/step - accuracy: 0.8735 - loss: 2.6862 - val_accuracy: 0.7395 - val_loss: 3.0723 - learning_rate: 1.0000e-04\n",
      "Epoch 2/30\n",
      "\u001b[1m20/20\u001b[0m \u001b[32m━━━━━━━━━━━━━━━━━━━━\u001b[0m\u001b[37m\u001b[0m \u001b[1m8s\u001b[0m 404ms/step - accuracy: 0.9552 - loss: 2.4169 - val_accuracy: 0.7647 - val_loss: 2.8286 - learning_rate: 1.0000e-04\n",
      "Epoch 3/30\n",
      "\u001b[1m20/20\u001b[0m \u001b[32m━━━━━━━━━━━━━━━━━━━━\u001b[0m\u001b[37m\u001b[0m \u001b[1m8s\u001b[0m 408ms/step - accuracy: 0.9690 - loss: 2.3124 - val_accuracy: 0.8235 - val_loss: 2.7029 - learning_rate: 1.0000e-04\n",
      "Epoch 4/30\n",
      "\u001b[1m20/20\u001b[0m \u001b[32m━━━━━━━━━━━━━━━━━━━━\u001b[0m\u001b[37m\u001b[0m \u001b[1m8s\u001b[0m 409ms/step - accuracy: 0.9850 - loss: 2.1924 - val_accuracy: 0.8655 - val_loss: 2.4956 - learning_rate: 1.0000e-04\n",
      "Epoch 5/30\n",
      "\u001b[1m20/20\u001b[0m \u001b[32m━━━━━━━━━━━━━━━━━━━━\u001b[0m\u001b[37m\u001b[0m \u001b[1m8s\u001b[0m 402ms/step - accuracy: 0.9821 - loss: 2.1253 - val_accuracy: 0.8824 - val_loss: 2.3512 - learning_rate: 1.0000e-04\n",
      "Epoch 6/30\n",
      "\u001b[1m20/20\u001b[0m \u001b[32m━━━━━━━━━━━━━━━━━━━━\u001b[0m\u001b[37m\u001b[0m \u001b[1m8s\u001b[0m 401ms/step - accuracy: 0.9925 - loss: 2.0326 - val_accuracy: 0.8824 - val_loss: 2.2509 - learning_rate: 1.0000e-04\n",
      "Epoch 7/30\n",
      "\u001b[1m20/20\u001b[0m \u001b[32m━━━━━━━━━━━━━━━━━━━━\u001b[0m\u001b[37m\u001b[0m \u001b[1m8s\u001b[0m 395ms/step - accuracy: 0.9971 - loss: 1.9540 - val_accuracy: 0.8824 - val_loss: 2.1372 - learning_rate: 1.0000e-04\n",
      "Epoch 8/30\n",
      "\u001b[1m20/20\u001b[0m \u001b[32m━━━━━━━━━━━━━━━━━━━━\u001b[0m\u001b[37m\u001b[0m \u001b[1m8s\u001b[0m 398ms/step - accuracy: 0.9829 - loss: 1.8999 - val_accuracy: 0.8992 - val_loss: 2.1077 - learning_rate: 1.0000e-04\n",
      "Epoch 9/30\n",
      "\u001b[1m20/20\u001b[0m \u001b[32m━━━━━━━━━━━━━━━━━━━━\u001b[0m\u001b[37m\u001b[0m \u001b[1m8s\u001b[0m 398ms/step - accuracy: 0.9901 - loss: 1.8170 - val_accuracy: 0.9076 - val_loss: 2.0313 - learning_rate: 1.0000e-04\n",
      "Epoch 10/30\n",
      "\u001b[1m20/20\u001b[0m \u001b[32m━━━━━━━━━━━━━━━━━━━━\u001b[0m\u001b[37m\u001b[0m \u001b[1m8s\u001b[0m 397ms/step - accuracy: 0.9969 - loss: 1.7588 - val_accuracy: 0.9160 - val_loss: 1.9332 - learning_rate: 1.0000e-04\n",
      "Epoch 11/30\n",
      "\u001b[1m20/20\u001b[0m \u001b[32m━━━━━━━━━━━━━━━━━━━━\u001b[0m\u001b[37m\u001b[0m \u001b[1m8s\u001b[0m 395ms/step - accuracy: 0.9922 - loss: 1.7088 - val_accuracy: 0.8824 - val_loss: 1.9228 - learning_rate: 1.0000e-04\n",
      "Epoch 12/30\n",
      "\u001b[1m20/20\u001b[0m \u001b[32m━━━━━━━━━━━━━━━━━━━━\u001b[0m\u001b[37m\u001b[0m \u001b[1m7s\u001b[0m 376ms/step - accuracy: 0.9911 - loss: 1.6535 - val_accuracy: 0.8571 - val_loss: 1.9494 - learning_rate: 1.0000e-04\n",
      "Epoch 13/30\n",
      "\u001b[1m20/20\u001b[0m \u001b[32m━━━━━━━━━━━━━━━━━━━━\u001b[0m\u001b[37m\u001b[0m \u001b[1m8s\u001b[0m 398ms/step - accuracy: 0.9824 - loss: 1.6078 - val_accuracy: 0.8739 - val_loss: 1.8918 - learning_rate: 1.0000e-04\n",
      "Epoch 14/30\n",
      "\u001b[1m20/20\u001b[0m \u001b[32m━━━━━━━━━━━━━━━━━━━━\u001b[0m\u001b[37m\u001b[0m \u001b[1m8s\u001b[0m 401ms/step - accuracy: 0.9760 - loss: 1.5766 - val_accuracy: 0.8403 - val_loss: 1.8745 - learning_rate: 1.0000e-04\n",
      "Epoch 15/30\n",
      "\u001b[1m20/20\u001b[0m \u001b[32m━━━━━━━━━━━━━━━━━━━━\u001b[0m\u001b[37m\u001b[0m \u001b[1m8s\u001b[0m 397ms/step - accuracy: 0.9894 - loss: 1.5102 - val_accuracy: 0.9328 - val_loss: 1.6567 - learning_rate: 1.0000e-04\n",
      "Epoch 16/30\n",
      "\u001b[1m20/20\u001b[0m \u001b[32m━━━━━━━━━━━━━━━━━━━━\u001b[0m\u001b[37m\u001b[0m \u001b[1m8s\u001b[0m 401ms/step - accuracy: 0.9984 - loss: 1.4430 - val_accuracy: 0.9328 - val_loss: 1.6026 - learning_rate: 1.0000e-04\n",
      "Epoch 17/30\n",
      "\u001b[1m20/20\u001b[0m \u001b[32m━━━━━━━━━━━━━━━━━━━━\u001b[0m\u001b[37m\u001b[0m \u001b[1m8s\u001b[0m 397ms/step - accuracy: 0.9912 - loss: 1.3988 - val_accuracy: 0.9328 - val_loss: 1.5501 - learning_rate: 1.0000e-04\n",
      "Epoch 18/30\n",
      "\u001b[1m20/20\u001b[0m \u001b[32m━━━━━━━━━━━━━━━━━━━━\u001b[0m\u001b[37m\u001b[0m \u001b[1m8s\u001b[0m 402ms/step - accuracy: 0.9830 - loss: 1.3878 - val_accuracy: 0.9244 - val_loss: 1.5407 - learning_rate: 1.0000e-04\n",
      "Epoch 19/30\n",
      "\u001b[1m20/20\u001b[0m \u001b[32m━━━━━━━━━━━━━━━━━━━━\u001b[0m\u001b[37m\u001b[0m \u001b[1m8s\u001b[0m 401ms/step - accuracy: 0.9957 - loss: 1.3145 - val_accuracy: 0.9076 - val_loss: 1.5281 - learning_rate: 1.0000e-04\n",
      "Epoch 20/30\n",
      "\u001b[1m20/20\u001b[0m \u001b[32m━━━━━━━━━━━━━━━━━━━━\u001b[0m\u001b[37m\u001b[0m \u001b[1m8s\u001b[0m 400ms/step - accuracy: 0.9961 - loss: 1.2679 - val_accuracy: 0.8992 - val_loss: 1.5111 - learning_rate: 1.0000e-04\n",
      "Epoch 21/30\n",
      "\u001b[1m20/20\u001b[0m \u001b[32m━━━━━━━━━━━━━━━━━━━━\u001b[0m\u001b[37m\u001b[0m \u001b[1m8s\u001b[0m 399ms/step - accuracy: 1.0000 - loss: 1.2183 - val_accuracy: 0.9160 - val_loss: 1.4261 - learning_rate: 1.0000e-04\n",
      "Epoch 22/30\n",
      "\u001b[1m20/20\u001b[0m \u001b[32m━━━━━━━━━━━━━━━━━━━━\u001b[0m\u001b[37m\u001b[0m \u001b[1m8s\u001b[0m 400ms/step - accuracy: 0.9989 - loss: 1.1754 - val_accuracy: 0.9160 - val_loss: 1.3558 - learning_rate: 1.0000e-04\n",
      "Epoch 23/30\n",
      "\u001b[1m20/20\u001b[0m \u001b[32m━━━━━━━━━━━━━━━━━━━━\u001b[0m\u001b[37m\u001b[0m \u001b[1m8s\u001b[0m 400ms/step - accuracy: 0.9920 - loss: 1.1403 - val_accuracy: 0.9496 - val_loss: 1.2868 - learning_rate: 1.0000e-04\n",
      "Epoch 24/30\n",
      "\u001b[1m20/20\u001b[0m \u001b[32m━━━━━━━━━━━━━━━━━━━━\u001b[0m\u001b[37m\u001b[0m \u001b[1m8s\u001b[0m 400ms/step - accuracy: 0.9973 - loss: 1.0978 - val_accuracy: 0.9328 - val_loss: 1.2338 - learning_rate: 1.0000e-04\n",
      "Epoch 25/30\n",
      "\u001b[1m20/20\u001b[0m \u001b[32m━━━━━━━━━━━━━━━━━━━━\u001b[0m\u001b[37m\u001b[0m \u001b[1m8s\u001b[0m 396ms/step - accuracy: 0.9992 - loss: 1.0541 - val_accuracy: 0.9412 - val_loss: 1.2153 - learning_rate: 1.0000e-04\n",
      "Epoch 26/30\n",
      "\u001b[1m20/20\u001b[0m \u001b[32m━━━━━━━━━━━━━━━━━━━━\u001b[0m\u001b[37m\u001b[0m \u001b[1m8s\u001b[0m 402ms/step - accuracy: 0.9986 - loss: 1.0148 - val_accuracy: 0.9496 - val_loss: 1.1885 - learning_rate: 1.0000e-04\n",
      "Epoch 27/30\n",
      "\u001b[1m20/20\u001b[0m \u001b[32m━━━━━━━━━━━━━━━━━━━━\u001b[0m\u001b[37m\u001b[0m \u001b[1m8s\u001b[0m 399ms/step - accuracy: 1.0000 - loss: 0.9841 - val_accuracy: 0.9496 - val_loss: 1.1447 - learning_rate: 1.0000e-04\n",
      "Epoch 28/30\n",
      "\u001b[1m20/20\u001b[0m \u001b[32m━━━━━━━━━━━━━━━━━━━━\u001b[0m\u001b[37m\u001b[0m \u001b[1m8s\u001b[0m 400ms/step - accuracy: 0.9904 - loss: 0.9567 - val_accuracy: 0.9244 - val_loss: 1.1172 - learning_rate: 1.0000e-04\n",
      "Epoch 29/30\n",
      "\u001b[1m20/20\u001b[0m \u001b[32m━━━━━━━━━━━━━━━━━━━━\u001b[0m\u001b[37m\u001b[0m \u001b[1m8s\u001b[0m 399ms/step - accuracy: 0.9935 - loss: 0.9296 - val_accuracy: 0.9412 - val_loss: 1.1046 - learning_rate: 1.0000e-04\n",
      "Epoch 30/30\n",
      "\u001b[1m20/20\u001b[0m \u001b[32m━━━━━━━━━━━━━━━━━━━━\u001b[0m\u001b[37m\u001b[0m \u001b[1m8s\u001b[0m 385ms/step - accuracy: 1.0000 - loss: 0.8973 - val_accuracy: 0.9244 - val_loss: 1.1089 - learning_rate: 1.0000e-04\n",
      "\n",
      "Evaluating InceptionResNetV2+LSTM model on test set...\n",
      "Total 149 videos and 149 classes\n",
      "test_gen batch videos shape: (24, 5, 128, 128, 3)\n",
      "test_gen batch labels shape: (24, 10)\n",
      "\u001b[1m7/7\u001b[0m \u001b[32m━━━━━━━━━━━━━━━━━━━━\u001b[0m\u001b[37m\u001b[0m \u001b[1m2s\u001b[0m 364ms/step - accuracy: 0.8576 - loss: 1.2474\n",
      "InceptionResNetV2+LSTM Test Loss: 1.2345\n",
      "InceptionResNetV2+LSTM Test Accuracy: 87.92%\n"
     ]
    }
   ],
   "source": [
    "\n",
    "# Unfreeze some layers for fine-tuning\n",
    "base_model.trainable = True\n",
    "# Freeze all layers except the last 8 layers (consistent with previous InceptionResNetV2 code)\n",
    "for layer in base_model.layers[:-8]:\n",
    "    layer.trainable = False\n",
    "\n",
    "# Recompile the model with a lower learning rate for fine-tuning\n",
    "model.compile(\n",
    "    loss='categorical_crossentropy',\n",
    "    optimizer=tf.keras.optimizers.Adam(learning_rate=0.0001),  # Lower learning rate for fine-tuning\n",
    "    metrics=['accuracy']\n",
    ")\n",
    "\n",
    "# Fine-tune the model\n",
    "print(f\"\\nFine-tuning started for InceptionResNetV2+LSTM model with {len(train_gen.videos)} videos of {NO_OF_CLASSES} classes with {len(val_gen.videos)} videos for validation...\")\n",
    "try:\n",
    "    fine_tune_model_history = model.fit(\n",
    "        train_gen.as_dataset(),\n",
    "        validation_data=val_gen.as_dataset(),\n",
    "        epochs=EPOCHS,\n",
    "        class_weight=class_weights,\n",
    "        callbacks=[early_stopping_callback, lr_scheduler]\n",
    "    )\n",
    "except Exception as e:\n",
    "    print(f\"Error during fine-tuning: {str(e)}\")\n",
    "    import traceback\n",
    "    traceback.print_exc()\n",
    "\n",
    "# Evaluate the model on the test set\n",
    "print(\"\\nEvaluating InceptionResNetV2+LSTM model on test set...\")\n",
    "test_gen = VideoDataGenerator(\n",
    "    videos=features_test,\n",
    "    labels=labels_test,\n",
    "    batch_size=BATCH_SIZE\n",
    ")\n",
    "try:\n",
    "    videos, labels = test_gen[0]\n",
    "    print(f\"test_gen batch videos shape: {videos.shape}\")\n",
    "    print(f\"test_gen batch labels shape: {labels.shape}\")\n",
    "    loss, accuracy = model.evaluate(test_gen.as_dataset())\n",
    "    print(f'InceptionResNetV2+LSTM Test Loss: {loss:.4f}')\n",
    "    print(f'InceptionResNetV2+LSTM Test Accuracy: {accuracy * 100:.2f}%')\n",
    "except Exception as e:\n",
    "    print(f\"Error during model evaluation: {str(e)}\")\n",
    "    import traceback\n",
    "    traceback.print_exc()\n"
   ]
  },
  {
   "cell_type": "code",
   "execution_count": 43,
   "id": "8223a64e",
   "metadata": {
    "execution": {
     "iopub.execute_input": "2025-07-12T05:41:05.760741Z",
     "iopub.status.busy": "2025-07-12T05:41:05.760503Z",
     "iopub.status.idle": "2025-07-12T05:42:28.729989Z",
     "shell.execute_reply": "2025-07-12T05:42:28.729242Z"
    },
    "papermill": {
     "duration": 83.049112,
     "end_time": "2025-07-12T05:42:28.731655",
     "exception": false,
     "start_time": "2025-07-12T05:41:05.682543",
     "status": "completed"
    },
    "tags": []
   },
   "outputs": [
    {
     "data": {
      "image/png": "[encoded data removed]",
      "text/plain": [
       "<Figure size 1200x500 with 2 Axes>"
      ]
     },
     "metadata": {},
     "output_type": "display_data"
    },
    {
     "name": "stdout",
     "output_type": "stream",
     "text": [
      "\u001b[1m7/7\u001b[0m \u001b[32m━━━━━━━━━━━━━━━━━━━━\u001b[0m\u001b[37m\u001b[0m \u001b[1m81s\u001b[0m 7s/step\n",
      "True classes shape: (149,)\n",
      "Predicted classes shape: (149,)\n",
      "\n",
      "InceptionResNetV2+LSTM Classification Report:\n",
      "                 precision    recall  f1-score   support\n",
      "\n",
      " two hands wave       0.82      1.00      0.90        14\n",
      "           skip       1.00      0.79      0.88        19\n",
      "  jump in place       0.81      1.00      0.90        13\n",
      "           jump       1.00      0.92      0.96        13\n",
      "           walk       0.79      0.88      0.83        17\n",
      "           bend       0.80      1.00      0.89        12\n",
      "gallop sideways       1.00      1.00      1.00        10\n",
      "            run       0.74      0.88      0.80        16\n",
      "   jumping jack       1.00      0.79      0.88        14\n",
      "  one hand wave       1.00      0.71      0.83        21\n",
      "\n",
      "       accuracy                           0.88       149\n",
      "      macro avg       0.90      0.90      0.89       149\n",
      "   weighted avg       0.90      0.88      0.88       149\n",
      "\n"
     ]
    },
    {
     "name": "stderr",
     "output_type": "stream",
     "text": [
      "/usr/local/lib/python3.11/dist-packages/keras/src/trainers/epoch_iterator.py:151: UserWarning: Your input ran out of data; interrupting training. Make sure that your dataset or generator can generate at least `steps_per_epoch * epochs` batches. You may need to use the `.repeat()` function when building your dataset.\n",
      "  self._interrupted_warning()\n"
     ]
    },
    {
     "data": {
      "image/png": "[encoded data removed]",
      "text/plain": [
       "<Figure size 800x600 with 2 Axes>"
      ]
     },
     "metadata": {},
     "output_type": "display_data"
    }
   ],
   "source": [
    "\n",
    "# Plot training history (combine initial and fine-tuning)\n",
    "import matplotlib.pyplot as plt\n",
    "\n",
    "try:\n",
    "    # Combine histories\n",
    "    history_accuracy = initial_model_history.history['accuracy'] + fine_tune_model_history.history['accuracy']\n",
    "    history_val_accuracy = initial_model_history.history['val_accuracy'] + fine_tune_model_history.history['val_accuracy']\n",
    "    history_loss = initial_model_history.history['loss'] + fine_tune_model_history.history['loss']\n",
    "    history_val_loss = initial_model_history.history['val_loss'] + fine_tune_model_history.history['val_loss']\n",
    "\n",
    "    plt.figure(figsize=(12, 5))\n",
    "\n",
    "    # Accuracy\n",
    "    plt.subplot(1, 2, 1)\n",
    "    plt.plot(history_accuracy, label='Train Accuracy')\n",
    "    plt.plot(history_val_accuracy, label='Validation Accuracy')\n",
    "    plt.axvline(x=len(initial_model_history.history['accuracy']), color='r', linestyle='--', label='Start Fine-Tuning')\n",
    "    plt.title('InceptionResNetV2+LSTM Model Accuracy')\n",
    "    plt.xlabel('Epoch')\n",
    "    plt.ylabel('Accuracy')\n",
    "    plt.legend()\n",
    "\n",
    "    # Loss\n",
    "    plt.subplot(1, 2, 2)\n",
    "    plt.plot(history_loss, label='Train Loss')\n",
    "    plt.plot(history_val_loss, label='Validation Loss')\n",
    "    plt.axvline(x=len(initial_model_history.history['loss']), color='r', linestyle='--', label='Start Fine-Tuning')\n",
    "    plt.title('InceptionResNetV2+LSTM Model Loss')\n",
    "    plt.xlabel('Epoch')\n",
    "    plt.ylabel('Loss')\n",
    "    plt.legend()\n",
    "\n",
    "    plt.tight_layout()\n",
    "    plt.show()\n",
    "except Exception as e:\n",
    "    print(f\"Error plotting training history: {str(e)}\")\n",
    "\n",
    "# Generate confusion matrix and classification report\n",
    "from sklearn.metrics import classification_report, confusion_matrix\n",
    "import seaborn as sns\n",
    "\n",
    "# Get predictions\n",
    "try:\n",
    "    predictions = model.predict(test_gen.as_dataset())\n",
    "    predicted_classes = np.argmax(predictions, axis=1)\n",
    "    true_classes = np.argmax(labels_test, axis=1)\n",
    "\n",
    "    # Verify shapes\n",
    "    print(f\"True classes shape: {true_classes.shape}\")\n",
    "    print(f\"Predicted classes shape: {predicted_classes.shape}\")\n",
    "    assert len(true_classes) == len(predicted_classes), \"Sample counts do not match!\"\n",
    "\n",
    "    # Generate classification report\n",
    "    print(\"\\nInceptionResNetV2+LSTM Classification Report:\")\n",
    "    print(classification_report(true_classes, predicted_classes, target_names=CLASSES_LIST))\n",
    "\n",
    "    # Plot confusion matrix\n",
    "    cm = confusion_matrix(true_classes, predicted_classes)\n",
    "    plt.figure(figsize=(8, 6))\n",
    "    sns.heatmap(cm, annot=True, fmt='d', cmap='Blues', xticklabels=CLASSES_LIST, yticklabels=CLASSES_LIST)\n",
    "    plt.xlabel('Predicted')\n",
    "    plt.ylabel('True')\n",
    "    plt.title('InceptionResNetV2+LSTM Confusion Matrix')\n",
    "    plt.show()\n",
    "except Exception as e:\n",
    "    print(f\"Error during prediction or plotting: {str(e)}\")\n",
    "    import traceback\n",
    "    traceback.print_exc()"
   ]
  },
  {
   "cell_type": "code",
   "execution_count": 44,
   "id": "17aef1ed",
   "metadata": {
    "execution": {
     "iopub.execute_input": "2025-07-12T05:42:28.880644Z",
     "iopub.status.busy": "2025-07-12T05:42:28.880071Z",
     "iopub.status.idle": "2025-07-12T05:42:32.350705Z",
     "shell.execute_reply": "2025-07-12T05:42:32.349872Z"
    },
    "papermill": {
     "duration": 3.545262,
     "end_time": "2025-07-12T05:42:32.352229",
     "exception": false,
     "start_time": "2025-07-12T05:42:28.806967",
     "status": "completed"
    },
    "tags": []
   },
   "outputs": [
    {
     "name": "stdout",
     "output_type": "stream",
     "text": [
      "\u001b[1m5/5\u001b[0m \u001b[32m━━━━━━━━━━━━━━━━━━━━\u001b[0m\u001b[37m\u001b[0m \u001b[1m3s\u001b[0m 479ms/step - accuracy: 0.8586 - loss: 1.2525\n"
     ]
    }
   ],
   "source": [
    "# previous code\n",
    "model_evaluation_history = model.evaluate(features_test, labels_test)"
   ]
  }
 ],
 "metadata": {
  "kaggle": {
   "accelerator": "nvidiaTeslaT4",
   "dataSources": [
    {
     "datasetId": 1357563,
     "sourceId": 2256095,
     "sourceType": "datasetVersion"
    },
    {
     "datasetId": 7763484,
     "sourceId": 12338519,
     "sourceType": "datasetVersion"
    },
    {
     "datasetId": 7801555,
     "sourceId": 12373067,
     "sourceType": "datasetVersion"
    },
    {
     "datasetId": 7801884,
     "sourceId": 12373562,
     "sourceType": "datasetVersion"
    },
    {
     "datasetId": 7818195,
     "sourceId": 12397892,
     "sourceType": "datasetVersion"
    }
   ],
   "dockerImageVersionId": 31090,
   "isGpuEnabled": true,
   "isInternetEnabled": true,
   "language": "python",
   "sourceType": "notebook"
  },
  "kernelspec": {
   "display_name": "Python 3",
   "language": "python",
   "name": "python3"
  },
  "language_info": {
   "codemirror_mode": {
    "name": "ipython",
    "version": 3
   },
   "file_extension": ".py",
   "mimetype": "text/x-python",
   "name": "python",
   "nbconvert_exporter": "python",
   "pygments_lexer": "ipython3",
   "version": "3.11.13"
  },
  "papermill": {
   "default_parameters": {},
   "duration": 972.157501,
   "end_time": "2025-07-12T05:42:35.649182",
   "environment_variables": {},
   "exception": null,
   "input_path": "__notebook__.ipynb",
   "output_path": "__notebook__.ipynb",
   "parameters": {},
   "start_time": "2025-07-12T05:26:23.491681",
   "version": "2.6.0"
  }
 },
 "nbformat": 4,
 "nbformat_minor": 5
}
