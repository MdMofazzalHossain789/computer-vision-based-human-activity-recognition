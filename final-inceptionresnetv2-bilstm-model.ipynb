{
 "cells": [
  {
   "cell_type": "markdown",
   "id": "ecdba7e3",
   "metadata": {
    "papermill": {
     "duration": 0.009598,
     "end_time": "2025-07-12T15:42:45.604638",
     "exception": false,
     "start_time": "2025-07-12T15:42:45.595040",
     "status": "completed"
    },
    "tags": []
   },
   "source": [
    "# Initialization\n",
    "## Import Libraries"
   ]
  },
  {
   "cell_type": "code",
   "execution_count": 1,
   "id": "1484ba7b",
   "metadata": {
    "_cell_guid": "b1076dfc-b9ad-4769-8c92-a6c4dae69d19",
    "_uuid": "8f2839f25d086af736a60e9eeb907d3b93b6e0e5",
    "execution": {
     "iopub.execute_input": "2025-07-12T15:42:45.622135Z",
     "iopub.status.busy": "2025-07-12T15:42:45.621880Z",
     "iopub.status.idle": "2025-07-12T15:43:00.793548Z",
     "shell.execute_reply": "2025-07-12T15:43:00.792902Z"
    },
    "papermill": {
     "duration": 15.182028,
     "end_time": "2025-07-12T15:43:00.794954",
     "exception": false,
     "start_time": "2025-07-12T15:42:45.612926",
     "status": "completed"
    },
    "tags": []
   },
   "outputs": [
    {
     "name": "stderr",
     "output_type": "stream",
     "text": [
      "2025-07-12 15:42:47.272015: E external/local_xla/xla/stream_executor/cuda/cuda_fft.cc:477] Unable to register cuFFT factory: Attempting to register factory for plugin cuFFT when one has already been registered\n",
      "WARNING: All log messages before absl::InitializeLog() is called are written to STDERR\n",
      "E0000 00:00:1752334967.492558      19 cuda_dnn.cc:8310] Unable to register cuDNN factory: Attempting to register factory for plugin cuDNN when one has already been registered\n",
      "E0000 00:00:1752334967.550636      19 cuda_blas.cc:1418] Unable to register cuBLAS factory: Attempting to register factory for plugin cuBLAS when one has already been registered\n"
     ]
    }
   ],
   "source": [
    "# install librarires\n",
    "import os\n",
    "import tensorflow as tf\n",
    "import numpy as np\n",
    "import random"
   ]
  },
  {
   "cell_type": "markdown",
   "id": "47c5db21",
   "metadata": {
    "papermill": {
     "duration": 0.008539,
     "end_time": "2025-07-12T15:43:00.812314",
     "exception": false,
     "start_time": "2025-07-12T15:43:00.803775",
     "status": "completed"
    },
    "tags": []
   },
   "source": [
    "## ℹ️ Set Global Constants"
   ]
  },
  {
   "cell_type": "code",
   "execution_count": 2,
   "id": "ef1105e3",
   "metadata": {
    "execution": {
     "iopub.execute_input": "2025-07-12T15:43:00.829159Z",
     "iopub.status.busy": "2025-07-12T15:43:00.828741Z",
     "iopub.status.idle": "2025-07-12T15:43:00.841054Z",
     "shell.execute_reply": "2025-07-12T15:43:00.840446Z"
    },
    "papermill": {
     "duration": 0.021892,
     "end_time": "2025-07-12T15:43:00.842098",
     "exception": false,
     "start_time": "2025-07-12T15:43:00.820206",
     "status": "completed"
    },
    "tags": []
   },
   "outputs": [
    {
     "name": "stdout",
     "output_type": "stream",
     "text": [
      "Kard Kinect Activity Recognition Dataset\n",
      "There are total 18 classes, selected 18 classes\n",
      "Setting None/class to train the model.\n",
      "Image size 128x128 with 5 sequence length\n",
      "Dropout rate: 0.5\n",
      "Train-Test split ratio 80/20\n",
      "Validation data from Train set 20.0%\n"
     ]
    }
   ],
   "source": [
    "# global variables\n",
    "# set dataset directories\n",
    "\n",
    "\n",
    "DATASET_DIR = \"/kaggle/input/kard-kinect-activity-recognition-dataset\"\n",
    "DATASET_NAME = DATASET_DIR.split(\"/\")[-1].replace(\"-\", \" \").title()\n",
    "\n",
    "print(DATASET_NAME)\n",
    "\n",
    "ALL_CLASS_NAMES = os.listdir(DATASET_DIR)\n",
    "\n",
    "# Global constant variables -> \n",
    "NO_OF_CLASSES = len(ALL_CLASS_NAMES)\n",
    "CLASSES_LIST = ALL_CLASS_NAMES[:NO_OF_CLASSES]\n",
    "\n",
    "# Model Configuration\n",
    "IMAGE_HEIGHT, IMAGE_WIDTH = 128, 128\n",
    "SEQUENCE_LENGTH = 5\n",
    "\n",
    "# set drop out rate\n",
    "DROPOUT_RATE = 0.5\n",
    "\n",
    "# set datas\n",
    "MAX_VIDEO_PER_CLASS = None\n",
    "\n",
    "# split dataset\n",
    "TEST_SIZE = 0.20\n",
    "\n",
    "# model fit parameters\n",
    "EPOCHS = 30\n",
    "BATCH_SIZE = 24\n",
    "VALIDATION_SPLIT = 0.20\n",
    "\n",
    "# augmentation values\n",
    "NOISE_FACTOR = 0.02\n",
    "SHEAR_X= 1\n",
    "SHEAR_Y= 1\n",
    "\n",
    "# give a name of the model to save\n",
    "MODEL_NAME = \"Xception\"\n",
    "\n",
    "print(f\"There are total {len(ALL_CLASS_NAMES)} classes, selected {NO_OF_CLASSES} classes\")\n",
    "print(f\"Setting {MAX_VIDEO_PER_CLASS}/class to train the model.\")\n",
    "print(f\"Image size {IMAGE_HEIGHT}x{IMAGE_WIDTH} with {SEQUENCE_LENGTH} sequence length\")\n",
    "print(f\"Dropout rate: {DROPOUT_RATE}\")\n",
    "print(f\"Train-Test split ratio {int((1-TEST_SIZE)*100)}/{int(TEST_SIZE*100)}\")\n",
    "print(f\"Validation data from Train set {VALIDATION_SPLIT*100}%\")"
   ]
  },
  {
   "cell_type": "markdown",
   "id": "144a30f7",
   "metadata": {
    "papermill": {
     "duration": 0.007919,
     "end_time": "2025-07-12T15:43:00.858160",
     "exception": false,
     "start_time": "2025-07-12T15:43:00.850241",
     "status": "completed"
    },
    "tags": []
   },
   "source": [
    "## Set `Seed` Values"
   ]
  },
  {
   "cell_type": "code",
   "execution_count": 3,
   "id": "59f76cde",
   "metadata": {
    "execution": {
     "iopub.execute_input": "2025-07-12T15:43:00.874670Z",
     "iopub.status.busy": "2025-07-12T15:43:00.874417Z",
     "iopub.status.idle": "2025-07-12T15:43:00.877959Z",
     "shell.execute_reply": "2025-07-12T15:43:00.877473Z"
    },
    "papermill": {
     "duration": 0.012929,
     "end_time": "2025-07-12T15:43:00.878943",
     "exception": false,
     "start_time": "2025-07-12T15:43:00.866014",
     "status": "completed"
    },
    "tags": []
   },
   "outputs": [],
   "source": [
    "# set seeed to get similar values\n",
    "seed_constant = 27\n",
    "np.random.seed(seed_constant)\n",
    "random.seed(seed_constant)\n",
    "tf.random.set_seed(seed_constant)"
   ]
  },
  {
   "cell_type": "markdown",
   "id": "7ec3e6a3",
   "metadata": {
    "papermill": {
     "duration": 0.007991,
     "end_time": "2025-07-12T15:43:00.894982",
     "exception": false,
     "start_time": "2025-07-12T15:43:00.886991",
     "status": "completed"
    },
    "tags": []
   },
   "source": [
    "# 📌 Function Definition\n",
    "## Resize and Frame Extraction"
   ]
  },
  {
   "cell_type": "code",
   "execution_count": 4,
   "id": "6fc6a242",
   "metadata": {
    "execution": {
     "iopub.execute_input": "2025-07-12T15:43:00.911757Z",
     "iopub.status.busy": "2025-07-12T15:43:00.911554Z",
     "iopub.status.idle": "2025-07-12T15:43:00.919952Z",
     "shell.execute_reply": "2025-07-12T15:43:00.919253Z"
    },
    "papermill": {
     "duration": 0.01806,
     "end_time": "2025-07-12T15:43:00.920995",
     "exception": false,
     "start_time": "2025-07-12T15:43:00.902935",
     "status": "completed"
    },
    "tags": []
   },
   "outputs": [],
   "source": [
    "import cv2\n",
    "from concurrent.futures import ThreadPoolExecutor\n",
    "\n",
    "def resize_and_normalize_frame(frame, image_height, image_width):\n",
    "    try:\n",
    "        resized_frame = cv2.resize(frame, (image_width, image_height), interpolation=cv2.INTER_LINEAR)\n",
    "        normalized_frame = resized_frame / 255.0\n",
    "        return normalized_frame\n",
    "    except Exception as e:\n",
    "        print(f\"Error processing frame: {e}\")\n",
    "        return None\n",
    "\n",
    "def frames_extraction(video_path, \n",
    "                      sequence_length=SEQUENCE_LENGTH, \n",
    "                      image_height=IMAGE_HEIGHT, \n",
    "                      image_width=IMAGE_WIDTH):\n",
    "    # Declare a list to store video frames\n",
    "    frames_list = []\n",
    "\n",
    "    # Check if video file exists\n",
    "    if not os.path.exists(video_path):\n",
    "        print(f\"Error: Video file not found at {video_path}\")\n",
    "        return None\n",
    "\n",
    "    # Read the video file using VideoCapture with optimized settings\n",
    "    video_reader = cv2.VideoCapture(video_path, cv2.CAP_FFMPEG)\n",
    "\n",
    "    # Check if the video was opened successfully\n",
    "    if not video_reader.isOpened():\n",
    "        print(f\"Error: Could not open video file {video_path}\")\n",
    "        video_reader.release()\n",
    "        return None\n",
    "\n",
    "    # Get the total number of frames in the video\n",
    "    video_frames_count = int(video_reader.get(cv2.CAP_PROP_FRAME_COUNT))\n",
    "\n",
    "    # Ensure the video has enough frames\n",
    "    if video_frames_count < sequence_length:\n",
    "        print(f\"Warning: Video {video_path} has only {video_frames_count} frames, less than required {sequence_length}\")\n",
    "        video_reader.release()\n",
    "        return None\n",
    "\n",
    "    # Calculate the interval after which frames will be sampled\n",
    "    skip_frames_window = max(int(video_frames_count / sequence_length), 1)\n",
    "\n",
    "    # Pre-allocate frame indices to extract\n",
    "    frame_indices = [i * skip_frames_window for i in range(sequence_length)]\n",
    "\n",
    "    # Read and process frames in parallel\n",
    "    frames = []\n",
    "    for idx in frame_indices:\n",
    "        video_reader.set(cv2.CAP_PROP_POS_FRAMES, idx)\n",
    "        success, frame = video_reader.read()\n",
    "        if not success or frame is None:\n",
    "            print(f\"Warning: Failed to read frame at index {idx} from {video_path}\")\n",
    "            break\n",
    "        frame = cv2.cvtColor(frame, cv2.COLOR_BGR2RGB)\n",
    "        frames.append(frame)\n",
    "\n",
    "    # Release the VideoCapture object early\n",
    "    video_reader.release()\n",
    "\n",
    "    # Ensure the correct number of frames is read\n",
    "    if len(frames) != sequence_length:\n",
    "        print(f\"Warning: Read {len(frames)} frames instead of {sequence_length} from {video_path}\")\n",
    "        return None\n",
    "\n",
    "    # Process frames in parallel using ThreadPoolExecutor\n",
    "    with ThreadPoolExecutor() as executor:\n",
    "        processed_frames = list(executor.map(\n",
    "            lambda f: resize_and_normalize_frame(f, image_height, image_width), \n",
    "            frames\n",
    "        ))\n",
    "\n",
    "    # Check for any failed frame processing\n",
    "    if any(f is None for f in processed_frames):\n",
    "        print(f\"Warning: Some frames failed to process in {video_path}\")\n",
    "        return None\n",
    "\n",
    "    # Convert to NumPy array\n",
    "    frames_array = np.array(processed_frames, dtype=np.float32)\n",
    "\n",
    "    return frames_array"
   ]
  },
  {
   "cell_type": "code",
   "execution_count": 5,
   "id": "5ddde29b",
   "metadata": {
    "execution": {
     "iopub.execute_input": "2025-07-12T15:43:00.938314Z",
     "iopub.status.busy": "2025-07-12T15:43:00.937905Z",
     "iopub.status.idle": "2025-07-12T15:43:00.941156Z",
     "shell.execute_reply": "2025-07-12T15:43:00.940474Z"
    },
    "papermill": {
     "duration": 0.013097,
     "end_time": "2025-07-12T15:43:00.942149",
     "exception": false,
     "start_time": "2025-07-12T15:43:00.929052",
     "status": "completed"
    },
    "tags": []
   },
   "outputs": [],
   "source": [
    " # # Iterate through all video files\n",
    " #        for file_name in files_list:\n",
    " #            video_file_path = os.path.join(class_path, file_name)\n",
    "\n",
    " #            # Extract frames using the updated frames_extraction function\n",
    " #            frames = frames_extraction(video_file_path, sequence_length, image_height, image_width)\n",
    "\n",
    " #            # Skip videos where frame extraction failed\n",
    " #            if frames is None:\n",
    " #                print(f\"Skipping video {video_file_path} due to frame extraction failure\")\n",
    " #                continue\n",
    "\n",
    " #            # Append the data to respective lists\n",
    " #            features.append(frames)\n",
    " #            labels.append(class_index)"
   ]
  },
  {
   "cell_type": "markdown",
   "id": "223d550b",
   "metadata": {
    "papermill": {
     "duration": 0.007817,
     "end_time": "2025-07-12T15:43:00.957908",
     "exception": false,
     "start_time": "2025-07-12T15:43:00.950091",
     "status": "completed"
    },
    "tags": []
   },
   "source": [
    "## Create Dataset"
   ]
  },
  {
   "cell_type": "code",
   "execution_count": 6,
   "id": "63ab2586",
   "metadata": {
    "execution": {
     "iopub.execute_input": "2025-07-12T15:43:00.974727Z",
     "iopub.status.busy": "2025-07-12T15:43:00.974499Z",
     "iopub.status.idle": "2025-07-12T15:43:00.980530Z",
     "shell.execute_reply": "2025-07-12T15:43:00.979835Z"
    },
    "papermill": {
     "duration": 0.015876,
     "end_time": "2025-07-12T15:43:00.981645",
     "exception": false,
     "start_time": "2025-07-12T15:43:00.965769",
     "status": "completed"
    },
    "tags": []
   },
   "outputs": [],
   "source": [
    "# RUN create dataset function definition\n",
    "def create_dataset(dataset_dir,\n",
    "                   classes_list, \n",
    "                   sequence_length=SEQUENCE_LENGTH, \n",
    "                   image_height=IMAGE_HEIGHT, \n",
    "                   image_width=IMAGE_WIDTH, \n",
    "                   max_videos_per_class=None,\n",
    "                   augmentations=False\n",
    "                  ):\n",
    "    \n",
    "    # Initialize lists to store features, labels, and video file paths\n",
    "    videos = []\n",
    "    labels = []\n",
    "\n",
    "    # Check if dataset directory exists\n",
    "    if not os.path.exists(dataset_dir):\n",
    "        raise FileNotFoundError(f\"Dataset directory not found: {dataset_dir}\")\n",
    "\n",
    "    # Iterate through all classes in the classes list\n",
    "    for class_index, class_name in enumerate(classes_list):\n",
    "        class_path = os.path.join(dataset_dir, class_name)\n",
    "        \n",
    "        # Check if class directory exists\n",
    "        if not os.path.exists(class_path):\n",
    "            print(f\"Warning: Class directory not found: {class_path}\")\n",
    "            continue\n",
    "\n",
    "        print(f'Extracting Data of Class: {class_name}')\n",
    "\n",
    "        # Get the list of video files in the class directory\n",
    "        files_list = os.listdir(class_path)\n",
    "\n",
    "        # Limit the number of videos if specified\n",
    "        if max_videos_per_class is not None:\n",
    "            files_list = files_list[:max_videos_per_class]\n",
    "\n",
    "        # Iterate through all video files\n",
    "        for file_name in files_list:\n",
    "            video_file_path = os.path.join(class_path, file_name)\n",
    "\n",
    "            # Extract frames using the updated frames_extraction function\n",
    "            frames = frames_extraction(video_file_path, \n",
    "                                       sequence_length, \n",
    "                                       image_height, \n",
    "                                       image_width)\n",
    "\n",
    "            # Skip videos where frame extraction failed\n",
    "            if frames is None:\n",
    "                print(f\"Skipping video {video_file_path} due to frame extraction failure\")\n",
    "                continue\n",
    "\n",
    "            # Append the data to respective lists\n",
    "            videos.append(frames)\n",
    "            labels.append(class_index)\n",
    "\n",
    "    # Convert lists to numpy arrays\n",
    "    if not videos:\n",
    "        raise ValueError(\"No valid videos were processed. Check dataset or parameters.\")\n",
    "    videos = np.asarray(videos)\n",
    "    labels = np.array(labels)\n",
    "\n",
    "    print(f\"Dataset created with {len(videos)} videos\")\n",
    "    print(f\"Features shape: {videos.shape}\")\n",
    "    print(f\"Labels shape: {labels.shape}\")\n",
    "\n",
    "    return videos, labels"
   ]
  },
  {
   "cell_type": "markdown",
   "id": "951e0ecf",
   "metadata": {
    "papermill": {
     "duration": 0.007864,
     "end_time": "2025-07-12T15:43:00.997544",
     "exception": false,
     "start_time": "2025-07-12T15:43:00.989680",
     "status": "completed"
    },
    "tags": []
   },
   "source": [
    "## 🪄 Video Data Generator"
   ]
  },
  {
   "cell_type": "code",
   "execution_count": 7,
   "id": "5e213a50",
   "metadata": {
    "execution": {
     "iopub.execute_input": "2025-07-12T15:43:01.014646Z",
     "iopub.status.busy": "2025-07-12T15:43:01.014392Z",
     "iopub.status.idle": "2025-07-12T15:43:01.082846Z",
     "shell.execute_reply": "2025-07-12T15:43:01.082158Z"
    },
    "papermill": {
     "duration": 0.078411,
     "end_time": "2025-07-12T15:43:01.083960",
     "exception": false,
     "start_time": "2025-07-12T15:43:01.005549",
     "status": "completed"
    },
    "tags": []
   },
   "outputs": [],
   "source": [
    "from tensorflow.keras.utils import Sequence, to_categorical\n",
    "import tensorflow as tf\n",
    "import numpy as np\n",
    "import cv2\n",
    "\n",
    "\n",
    "\n",
    "\n",
    "class VideoDataGenerator(Sequence):\n",
    "    def __init__(self, videos, labels, batch_size, is_training=False):\n",
    "        self.videos = list(videos)  # List of video file paths\n",
    "        self.labels = list(labels)  # List or array of labels encoded\n",
    "        self.batch_size = batch_size\n",
    "        self.indices = np.arange(len(self.videos))  # For shuffling\n",
    "        self.is_training = is_training  # Flag to control whether augmentation is applied\n",
    "        self.temp_videos=[]\n",
    "        self.temp_labels=[]\n",
    "        \n",
    "        \n",
    "        print(f\"Total {len(videos)} videos and {len(labels)} classes\")\n",
    "\n",
    "    def __len__(self):\n",
    "        # Return the number of batches per epoch\n",
    "        return int(np.ceil(len(self.videos) / self.batch_size))\n",
    "\n",
    "    def __getitem__(self, idx):\n",
    "        # Get batch indices\n",
    "        batch_indices = self.indices[idx * self.batch_size:(idx + 1) * self.batch_size]\n",
    "        \n",
    "        # Handle case where batch_indices is empty\n",
    "        if len(batch_indices) == 0:\n",
    "            return np.array([], dtype=np.float32), np.array([], dtype=np.float32)\n",
    "        \n",
    "        # Initialize lists to store frames and labels\n",
    "        all_frames = []\n",
    "        all_labels = []\n",
    "        \n",
    "        # Process each video in the batch\n",
    "        for i, index in enumerate(batch_indices):\n",
    "            sequence = self.videos[index]\n",
    "            label = self.labels[index]\n",
    "            \n",
    "            # Load and process video\n",
    "            # sequence = frames_extraction(video_path)\n",
    "\n",
    "            # if sequence is not None:\n",
    "            #     # Apply augmentations: 1 original + 4 augmentations (horizontal flip, shear, rotation, noise)\n",
    "            #     augmented_sequences = [sequence]  # Add original sequence\n",
    "\n",
    "            #     if self.is_training:\n",
    "            #         # Apply augmentations\n",
    "            #         augmented_sequences.append(np.array(horizontal_flip(sequence)))  # Horizontal Flip\n",
    "            #         augmented_sequences.append(np.array(apply_shear_frames(sequence, shear_right=0)))  # Random Shear\n",
    "            #         augmented_sequences.append(np.array(apply_shear_frames(sequence, shear_right=1)))  # Random Rotation\n",
    "            #         augmented_sequences.append(np.array(noise_video(sequence)))  # Salt and Pepper Noise\n",
    "\n",
    "            #     # Add augmented sequences to the batch\n",
    "            #     all_frames.extend(augmented_sequences)\n",
    "            #     all_labels.extend([label] * len(augmented_sequences))  # Each augmentation has the same label\n",
    "\n",
    "            \n",
    "            # Append the sequence and label\n",
    "            all_frames.append(sequence)\n",
    "            all_labels.append(label)\n",
    "        \n",
    "        # Convert to numpy arrays\n",
    "        all_frames = np.array(all_frames, dtype=np.float32)\n",
    "        all_labels = np.array(all_labels)\n",
    "            \n",
    "        \n",
    "        return all_frames, all_labels\n",
    "    def add(self, new_videos, new_labels):\n",
    "        self.temp_videos.extend(new_videos)\n",
    "        self.temp_labels.extend(new_labels)\n",
    "    \n",
    "    def confirm(self):\n",
    "        print(f\"Adding {len(self.temp_videos)} videos with {len(self.temp_labels)} classes.\")\n",
    "        self.videos.extend(self.temp_videos)\n",
    "        self.labels.extend(self.temp_labels)\n",
    "        print(f\"Successfully added - {len(self.temp_videos)} videos and {len(self.temp_labels)} classes.\")\n",
    "        self.temp_videos=[]\n",
    "        self.temp_labels=[]\n",
    "        self.indices = np.arange(len(self.videos))\n",
    "        print(f\"Now Total - {len(self.videos)} videos and {len(self.labels)} classes.\")\n",
    "        print(f\"PENDING for Augmentations - {len(self.temp_videos)} videos and {len(self.temp_labels)} classes.\")\n",
    "    \n",
    "    def on_epoch_end(self):\n",
    "        # Shuffle indices at the end of each epoch\n",
    "        np.random.shuffle(self.indices)\n",
    "\n",
    "    def as_dataset(self):\n",
    "        def generator():\n",
    "            for idx in range(len(self)):\n",
    "                frames, labels = self[idx]\n",
    "                # Skip empty batches\n",
    "                if frames.size == 0:\n",
    "                    continue\n",
    "                yield frames, labels\n",
    "        self.labels=np.array(self.labels)\n",
    "    \n",
    "        # Create a tf.data.Dataset\n",
    "        dataset = tf.data.Dataset.from_generator(\n",
    "            generator,\n",
    "            output_types=(tf.float32, tf.float32),\n",
    "            output_shapes=(\n",
    "                (None, SEQUENCE_LENGTH, IMAGE_HEIGHT, IMAGE_WIDTH, 3),\n",
    "                (None, NO_OF_CLASSES)\n",
    "            )\n",
    "        )\n",
    "        dataset = dataset.prefetch(tf.data.AUTOTUNE)\n",
    "        return dataset"
   ]
  },
  {
   "cell_type": "markdown",
   "id": "96478fa9",
   "metadata": {
    "papermill": {
     "duration": 0.008104,
     "end_time": "2025-07-12T15:43:01.100111",
     "exception": false,
     "start_time": "2025-07-12T15:43:01.092007",
     "status": "completed"
    },
    "tags": []
   },
   "source": [
    "## Debug and Helpers"
   ]
  },
  {
   "cell_type": "markdown",
   "id": "80f61682",
   "metadata": {
    "papermill": {
     "duration": 0.007795,
     "end_time": "2025-07-12T15:43:01.115878",
     "exception": false,
     "start_time": "2025-07-12T15:43:01.108083",
     "status": "completed"
    },
    "tags": []
   },
   "source": [
    "## 💫 Augmentation Helper function"
   ]
  },
  {
   "cell_type": "code",
   "execution_count": 8,
   "id": "4659ade2",
   "metadata": {
    "execution": {
     "iopub.execute_input": "2025-07-12T15:43:01.173591Z",
     "iopub.status.busy": "2025-07-12T15:43:01.173134Z",
     "iopub.status.idle": "2025-07-12T15:43:01.177903Z",
     "shell.execute_reply": "2025-07-12T15:43:01.177228Z"
    },
    "papermill": {
     "duration": 0.01443,
     "end_time": "2025-07-12T15:43:01.178924",
     "exception": false,
     "start_time": "2025-07-12T15:43:01.164494",
     "status": "completed"
    },
    "tags": []
   },
   "outputs": [],
   "source": [
    "import time\n",
    "\n",
    "    \n",
    "\n",
    "def apply_augmentation(augmentation_function, generator, confirm=False, *args, **kwargs):\n",
    "    \n",
    "    for i in range(len(generator)):\n",
    "        batch_videos, batch_labels = generator[i]\n",
    "        augmented_videos=[]\n",
    "        for videos in batch_videos:\n",
    "            augmented_videos.append(augmentation_function(videos, *args, **kwargs))\n",
    "        generator.add(augmented_videos, batch_labels)\n",
    "        print(f\"Processing video {len(generator.temp_videos)}...\", end=\"\\r\", flush=True)\n",
    "        time.sleep(0.5)  # simulate work\n",
    "    if confirm:\n",
    "        generator.confirm()"
   ]
  },
  {
   "cell_type": "markdown",
   "id": "8e293483",
   "metadata": {
    "papermill": {
     "duration": 0.007843,
     "end_time": "2025-07-12T15:43:01.194727",
     "exception": false,
     "start_time": "2025-07-12T15:43:01.186884",
     "status": "completed"
    },
    "tags": []
   },
   "source": [
    "### Show Frames"
   ]
  },
  {
   "cell_type": "code",
   "execution_count": 9,
   "id": "05aae810",
   "metadata": {
    "execution": {
     "iopub.execute_input": "2025-07-12T15:43:01.211723Z",
     "iopub.status.busy": "2025-07-12T15:43:01.211028Z",
     "iopub.status.idle": "2025-07-12T15:43:01.214752Z",
     "shell.execute_reply": "2025-07-12T15:43:01.214224Z"
    },
    "papermill": {
     "duration": 0.013214,
     "end_time": "2025-07-12T15:43:01.215800",
     "exception": false,
     "start_time": "2025-07-12T15:43:01.202586",
     "status": "completed"
    },
    "tags": []
   },
   "outputs": [],
   "source": [
    "# show frame def\n",
    "import matplotlib.pyplot as plt\n",
    "\n",
    "def show_frame(frame):\n",
    "    plt.figure(figsize=(3,3))\n",
    "    plt.imshow(frame)\n",
    "    plt.axis(\"off\")\n",
    "    plt.tight_layout()"
   ]
  },
  {
   "cell_type": "markdown",
   "id": "94c670c9",
   "metadata": {
    "papermill": {
     "duration": 0.008067,
     "end_time": "2025-07-12T15:43:01.232143",
     "exception": false,
     "start_time": "2025-07-12T15:43:01.224076",
     "status": "completed"
    },
    "tags": []
   },
   "source": [
    "### Helper Function"
   ]
  },
  {
   "cell_type": "code",
   "execution_count": 10,
   "id": "8a812bb4",
   "metadata": {
    "execution": {
     "iopub.execute_input": "2025-07-12T15:43:01.248581Z",
     "iopub.status.busy": "2025-07-12T15:43:01.248361Z",
     "iopub.status.idle": "2025-07-12T15:43:01.252068Z",
     "shell.execute_reply": "2025-07-12T15:43:01.251605Z"
    },
    "papermill": {
     "duration": 0.013003,
     "end_time": "2025-07-12T15:43:01.253041",
     "exception": false,
     "start_time": "2025-07-12T15:43:01.240038",
     "status": "completed"
    },
    "tags": []
   },
   "outputs": [],
   "source": [
    "def show_frame_vs(frame1, frame2, title1=\"Frame 1\", title2=\"Frame 2\"):\n",
    "    plt.figure(figsize=(10, 5))\n",
    "\n",
    "    # First frame\n",
    "    plt.subplot(1, 2, 1)\n",
    "    plt.imshow(frame1)\n",
    "    plt.title(title1)\n",
    "    plt.axis('off')\n",
    "\n",
    "    # Second frame\n",
    "    plt.subplot(1, 2, 2)\n",
    "    plt.imshow(frame2)\n",
    "    plt.title(title2)\n",
    "    plt.axis('off')\n",
    "\n",
    "    plt.tight_layout()\n",
    "    plt.show()"
   ]
  },
  {
   "cell_type": "code",
   "execution_count": 11,
   "id": "f7647be6",
   "metadata": {
    "execution": {
     "iopub.execute_input": "2025-07-12T15:43:01.271240Z",
     "iopub.status.busy": "2025-07-12T15:43:01.271023Z",
     "iopub.status.idle": "2025-07-12T15:43:01.274200Z",
     "shell.execute_reply": "2025-07-12T15:43:01.273720Z"
    },
    "papermill": {
     "duration": 0.012623,
     "end_time": "2025-07-12T15:43:01.275170",
     "exception": false,
     "start_time": "2025-07-12T15:43:01.262547",
     "status": "completed"
    },
    "tags": []
   },
   "outputs": [],
   "source": [
    "# reusable video loop helper function\n",
    "def apply_function(function, videos, *arg, **kwargs):\n",
    "    new_videos=[]\n",
    "    \n",
    "    for video in videos:\n",
    "        new_videos.append(function(video, *arg, **kwargs))\n",
    "        \n",
    "    return new_videos"
   ]
  },
  {
   "cell_type": "code",
   "execution_count": 12,
   "id": "559562f2",
   "metadata": {
    "execution": {
     "iopub.execute_input": "2025-07-12T15:43:01.292157Z",
     "iopub.status.busy": "2025-07-12T15:43:01.291792Z",
     "iopub.status.idle": "2025-07-12T15:43:01.295840Z",
     "shell.execute_reply": "2025-07-12T15:43:01.295150Z"
    },
    "papermill": {
     "duration": 0.01361,
     "end_time": "2025-07-12T15:43:01.296842",
     "exception": false,
     "start_time": "2025-07-12T15:43:01.283232",
     "status": "completed"
    },
    "tags": []
   },
   "outputs": [],
   "source": [
    "# reusable video loop helper function\n",
    "def apply(function, videos, labels, *arg, **kwargs):\n",
    "    new_videos=[]\n",
    "    new_labels=[]\n",
    "    combined=zip(labels, videos)\n",
    "    \n",
    "    for label, video in combined:\n",
    "        new_videos.append(function(video, *arg, **kwargs))\n",
    "        new_labels.append(label)\n",
    "        \n",
    "    new_videos=np.asarray(new_videos)\n",
    "    new_labels=np.asarray(new_labels)\n",
    "    \n",
    "    return new_videos, new_labels"
   ]
  },
  {
   "cell_type": "markdown",
   "id": "922cb635",
   "metadata": {
    "papermill": {
     "duration": 0.007949,
     "end_time": "2025-07-12T15:43:01.312800",
     "exception": false,
     "start_time": "2025-07-12T15:43:01.304851",
     "status": "completed"
    },
    "tags": []
   },
   "source": [
    "## Salt and Pepper Noise "
   ]
  },
  {
   "cell_type": "code",
   "execution_count": 13,
   "id": "9ec6a831",
   "metadata": {
    "execution": {
     "iopub.execute_input": "2025-07-12T15:43:01.329745Z",
     "iopub.status.busy": "2025-07-12T15:43:01.329115Z",
     "iopub.status.idle": "2025-07-12T15:43:01.333471Z",
     "shell.execute_reply": "2025-07-12T15:43:01.332887Z"
    },
    "papermill": {
     "duration": 0.01379,
     "end_time": "2025-07-12T15:43:01.334505",
     "exception": false,
     "start_time": "2025-07-12T15:43:01.320715",
     "status": "completed"
    },
    "tags": []
   },
   "outputs": [],
   "source": [
    "# Noise function def\n",
    "\n",
    "def noise_video(video,noise_factor=NOISE_FACTOR):\n",
    "    noisy_video=[]\n",
    "    for frame in video:\n",
    "        # Generate random noise\n",
    "        noise = np.random.rand(*frame.shape)  # Generate random noise\n",
    "        salt_pepper_noise = np.random.choice([0, 1], size=frame.shape, p=[1-noise_factor, noise_factor])\n",
    "        noisy_frame = frame * (1 - salt_pepper_noise) + salt_pepper_noise * np.random.rand(*frame.shape)\n",
    "        noisy_video.append(noisy_frame)\n",
    "    return np.array(noisy_video)"
   ]
  },
  {
   "cell_type": "markdown",
   "id": "f0c980ff",
   "metadata": {
    "papermill": {
     "duration": 0.007834,
     "end_time": "2025-07-12T15:43:01.350247",
     "exception": false,
     "start_time": "2025-07-12T15:43:01.342413",
     "status": "completed"
    },
    "tags": []
   },
   "source": [
    "## Horizontal Flip"
   ]
  },
  {
   "cell_type": "code",
   "execution_count": 14,
   "id": "826de960",
   "metadata": {
    "execution": {
     "iopub.execute_input": "2025-07-12T15:43:01.366687Z",
     "iopub.status.busy": "2025-07-12T15:43:01.366492Z",
     "iopub.status.idle": "2025-07-12T15:43:01.369393Z",
     "shell.execute_reply": "2025-07-12T15:43:01.368931Z"
    },
    "papermill": {
     "duration": 0.012306,
     "end_time": "2025-07-12T15:43:01.370419",
     "exception": false,
     "start_time": "2025-07-12T15:43:01.358113",
     "status": "completed"
    },
    "tags": []
   },
   "outputs": [],
   "source": [
    "# horizontal flip function def\n",
    "# Testing Flip feautes[0] -> first video\n",
    "def horizontal_flip(video):\n",
    "    return [tf.image.flip_left_right(frame) for frame in video]"
   ]
  },
  {
   "cell_type": "markdown",
   "id": "330d644b",
   "metadata": {
    "papermill": {
     "duration": 0.007846,
     "end_time": "2025-07-12T15:43:01.386299",
     "exception": false,
     "start_time": "2025-07-12T15:43:01.378453",
     "status": "completed"
    },
    "tags": []
   },
   "source": [
    "## Random Shear"
   ]
  },
  {
   "cell_type": "code",
   "execution_count": 15,
   "id": "4abbd357",
   "metadata": {
    "execution": {
     "iopub.execute_input": "2025-07-12T15:43:01.403234Z",
     "iopub.status.busy": "2025-07-12T15:43:01.402724Z",
     "iopub.status.idle": "2025-07-12T15:43:01.408169Z",
     "shell.execute_reply": "2025-07-12T15:43:01.407535Z"
    },
    "papermill": {
     "duration": 0.015079,
     "end_time": "2025-07-12T15:43:01.409329",
     "exception": false,
     "start_time": "2025-07-12T15:43:01.394250",
     "status": "completed"
    },
    "tags": []
   },
   "outputs": [],
   "source": [
    "# random shear function def\n",
    "import numpy as np\n",
    "import tensorflow as tf\n",
    "from scipy.ndimage import affine_transform\n",
    "\n",
    "def apply_shear_frames(frames, shear_right):\n",
    "    return [apply_shear(frame, shear_right) for frame in frames]\n",
    "\n",
    "def apply_shear(frame, shear_right=0):\n",
    "    frame_resized = tf.image.resize(frame, (IMAGE_HEIGHT, IMAGE_WIDTH)).numpy()\n",
    "    if shear_right:\n",
    "        shear_x = 0.09\n",
    "        shear_y = 0.1\n",
    "    else:\n",
    "        shear_x = -0.09\n",
    "        shear_y = 0.3\n",
    "    # Construct the affine matrix for scipy: inverse of the transformation matrix\n",
    "    # scipy applies the inverse transform matrix\n",
    "    shear_matrix = np.array([\n",
    "        [1, shear_x, 0],\n",
    "        [shear_y, 1, 0],\n",
    "        [0, 0, 1]\n",
    "    ], dtype=np.float32)\n",
    "\n",
    "    # Extract 2x2 part for affine_transform\n",
    "    matrix = shear_matrix[:2, :2]\n",
    "\n",
    "    # Offset (no translation)\n",
    "    offset = [0, 0]\n",
    "\n",
    "    # Apply affine transform on each channel separately\n",
    "    sheared = np.zeros_like(frame_resized)\n",
    "    for c in range(3):\n",
    "        sheared[..., c] = affine_transform(\n",
    "            frame_resized[..., c],\n",
    "            matrix=matrix,\n",
    "            offset=offset,\n",
    "            order=1,          # bilinear interpolation\n",
    "            mode='nearest'    # fill_mode\n",
    "        )\n",
    "    return sheared"
   ]
  },
  {
   "cell_type": "markdown",
   "id": "34b389b2",
   "metadata": {
    "papermill": {
     "duration": 0.007787,
     "end_time": "2025-07-12T15:43:01.425135",
     "exception": false,
     "start_time": "2025-07-12T15:43:01.417348",
     "status": "completed"
    },
    "tags": []
   },
   "source": [
    "# 📌 Model Related\n",
    "## 🗼 Model Architecture `create_model`"
   ]
  },
  {
   "cell_type": "markdown",
   "id": "38f3b1f4",
   "metadata": {
    "papermill": {
     "duration": 0.007742,
     "end_time": "2025-07-12T15:43:01.440754",
     "exception": false,
     "start_time": "2025-07-12T15:43:01.433012",
     "status": "completed"
    },
    "tags": []
   },
   "source": [
    "# 📌 Execution\n",
    "## Creating Dataset\n",
    "The following functions are executed\n",
    "- `frame extraction`\n",
    "- `resize`\n",
    "\n",
    "which returns:\n",
    "- `features` - `np.array` of all the videos\n",
    "- `labels` - `np.array` of all the class labels"
   ]
  },
  {
   "cell_type": "code",
   "execution_count": 16,
   "id": "95f6ecf9",
   "metadata": {
    "execution": {
     "iopub.execute_input": "2025-07-12T15:43:01.457514Z",
     "iopub.status.busy": "2025-07-12T15:43:01.457056Z",
     "iopub.status.idle": "2025-07-12T15:44:35.798313Z",
     "shell.execute_reply": "2025-07-12T15:44:35.797663Z"
    },
    "papermill": {
     "duration": 94.350935,
     "end_time": "2025-07-12T15:44:35.799563",
     "exception": false,
     "start_time": "2025-07-12T15:43:01.448628",
     "status": "completed"
    },
    "tags": []
   },
   "outputs": [
    {
     "name": "stdout",
     "output_type": "stream",
     "text": [
      "Extracting Data of Class: Catch Cap\n",
      "Extracting Data of Class: Drink\n",
      "Extracting Data of Class: Sit down\n",
      "Extracting Data of Class: Draw Tick\n",
      "Extracting Data of Class: Phone Call\n",
      "Extracting Data of Class: Horizontal arm wave\n",
      "Extracting Data of Class: Hand Clap\n",
      "Extracting Data of Class: High throw\n",
      "Extracting Data of Class: Forward Kick\n",
      "Extracting Data of Class: Stand up\n",
      "Extracting Data of Class: Two hand wave\n",
      "Extracting Data of Class: Toss Paper\n",
      "Extracting Data of Class: Walk\n",
      "Extracting Data of Class: Side Kick\n",
      "Extracting Data of Class: Bend\n",
      "Extracting Data of Class: Take Umbrella\n",
      "Extracting Data of Class: High arm wave\n",
      "Extracting Data of Class: Draw X\n",
      "Dataset created with 540 videos\n",
      "Features shape: (540, 5, 128, 128, 3)\n",
      "Labels shape: (540,)\n"
     ]
    },
    {
     "data": {
      "text/plain": [
       "((540, 5, 128, 128, 3), (540,))"
      ]
     },
     "execution_count": 16,
     "metadata": {},
     "output_type": "execute_result"
    }
   ],
   "source": [
    "# RUN Create the dataset with explicit parameters\n",
    "try:\n",
    "    videos, labels = create_dataset(\n",
    "        dataset_dir=DATASET_DIR,\n",
    "        classes_list=CLASSES_LIST,\n",
    "        sequence_length=SEQUENCE_LENGTH,\n",
    "        image_height=IMAGE_HEIGHT,\n",
    "        image_width=IMAGE_WIDTH,\n",
    "        # Limit to 10 videos per class to manage memory\n",
    "        augmentations=True,\n",
    "        max_videos_per_class=MAX_VIDEO_PER_CLASS\n",
    "    )\n",
    "except FileNotFoundError as e:\n",
    "    print(f\"Error: {e}\")\n",
    "except ValueError as e:\n",
    "    print(f\"Error: {e}\")\n",
    "except Exception as e:\n",
    "    print(f\"Unexpected error: {e}\")\n",
    "\n",
    "videos.shape, labels.shape"
   ]
  },
  {
   "cell_type": "code",
   "execution_count": 17,
   "id": "c1341a45",
   "metadata": {
    "execution": {
     "iopub.execute_input": "2025-07-12T15:44:35.818408Z",
     "iopub.status.busy": "2025-07-12T15:44:35.818203Z",
     "iopub.status.idle": "2025-07-12T15:44:35.822235Z",
     "shell.execute_reply": "2025-07-12T15:44:35.821688Z"
    },
    "papermill": {
     "duration": 0.01435,
     "end_time": "2025-07-12T15:44:35.823218",
     "exception": false,
     "start_time": "2025-07-12T15:44:35.808868",
     "status": "completed"
    },
    "tags": []
   },
   "outputs": [
    {
     "name": "stdout",
     "output_type": "stream",
     "text": [
      "Total 540 videos and 540 classes\n"
     ]
    }
   ],
   "source": [
    "video_generator = VideoDataGenerator(\n",
    "    videos=videos,\n",
    "    labels=labels,\n",
    "    batch_size=BATCH_SIZE\n",
    ")"
   ]
  },
  {
   "cell_type": "code",
   "execution_count": 18,
   "id": "b4890c05",
   "metadata": {
    "execution": {
     "iopub.execute_input": "2025-07-12T15:44:35.841450Z",
     "iopub.status.busy": "2025-07-12T15:44:35.841252Z",
     "iopub.status.idle": "2025-07-12T15:44:35.849984Z",
     "shell.execute_reply": "2025-07-12T15:44:35.849490Z"
    },
    "papermill": {
     "duration": 0.018921,
     "end_time": "2025-07-12T15:44:35.850981",
     "exception": false,
     "start_time": "2025-07-12T15:44:35.832060",
     "status": "completed"
    },
    "tags": []
   },
   "outputs": [
    {
     "data": {
      "text/plain": [
       "((24, 5, 128, 128, 3), (24,))"
      ]
     },
     "execution_count": 18,
     "metadata": {},
     "output_type": "execute_result"
    }
   ],
   "source": [
    "videos, labels = video_generator[3]\n",
    "\n",
    "videos.shape, labels.shape"
   ]
  },
  {
   "cell_type": "code",
   "execution_count": 19,
   "id": "87601f38",
   "metadata": {
    "execution": {
     "iopub.execute_input": "2025-07-12T15:44:35.869622Z",
     "iopub.status.busy": "2025-07-12T15:44:35.869371Z",
     "iopub.status.idle": "2025-07-12T15:44:35.873754Z",
     "shell.execute_reply": "2025-07-12T15:44:35.873078Z"
    },
    "papermill": {
     "duration": 0.01482,
     "end_time": "2025-07-12T15:44:35.874936",
     "exception": false,
     "start_time": "2025-07-12T15:44:35.860116",
     "status": "completed"
    },
    "tags": []
   },
   "outputs": [
    {
     "data": {
      "text/plain": [
       "540"
      ]
     },
     "execution_count": 19,
     "metadata": {},
     "output_type": "execute_result"
    }
   ],
   "source": [
    "len(video_generator.videos) "
   ]
  },
  {
   "cell_type": "code",
   "execution_count": 20,
   "id": "cb888d0c",
   "metadata": {
    "execution": {
     "iopub.execute_input": "2025-07-12T15:44:35.893751Z",
     "iopub.status.busy": "2025-07-12T15:44:35.893571Z",
     "iopub.status.idle": "2025-07-12T15:44:35.897779Z",
     "shell.execute_reply": "2025-07-12T15:44:35.897095Z"
    },
    "papermill": {
     "duration": 0.014868,
     "end_time": "2025-07-12T15:44:35.898844",
     "exception": false,
     "start_time": "2025-07-12T15:44:35.883976",
     "status": "completed"
    },
    "tags": []
   },
   "outputs": [
    {
     "data": {
      "text/plain": [
       "23"
      ]
     },
     "execution_count": 20,
     "metadata": {},
     "output_type": "execute_result"
    }
   ],
   "source": [
    "len(video_generator)"
   ]
  },
  {
   "cell_type": "markdown",
   "id": "12a7d19c",
   "metadata": {
    "papermill": {
     "duration": 0.00888,
     "end_time": "2025-07-12T15:44:35.916726",
     "exception": false,
     "start_time": "2025-07-12T15:44:35.907846",
     "status": "completed"
    },
    "tags": []
   },
   "source": [
    "## Apply ***horizontal flip*** (Augmentation)"
   ]
  },
  {
   "cell_type": "code",
   "execution_count": 21,
   "id": "cd50f693",
   "metadata": {
    "execution": {
     "iopub.execute_input": "2025-07-12T15:44:35.935259Z",
     "iopub.status.busy": "2025-07-12T15:44:35.935056Z",
     "iopub.status.idle": "2025-07-12T15:44:50.227794Z",
     "shell.execute_reply": "2025-07-12T15:44:50.227194Z"
    },
    "papermill": {
     "duration": 14.303632,
     "end_time": "2025-07-12T15:44:50.229252",
     "exception": false,
     "start_time": "2025-07-12T15:44:35.925620",
     "status": "completed"
    },
    "tags": []
   },
   "outputs": [
    {
     "name": "stdout",
     "output_type": "stream",
     "text": [
      "Processing video 24...\r"
     ]
    },
    {
     "name": "stderr",
     "output_type": "stream",
     "text": [
      "I0000 00:00:1752335076.991581      19 gpu_device.cc:2022] Created device /job:localhost/replica:0/task:0/device:GPU:0 with 13942 MB memory:  -> device: 0, name: Tesla T4, pci bus id: 0000:00:04.0, compute capability: 7.5\n",
      "I0000 00:00:1752335076.992200      19 gpu_device.cc:2022] Created device /job:localhost/replica:0/task:0/device:GPU:1 with 13942 MB memory:  -> device: 1, name: Tesla T4, pci bus id: 0000:00:05.0, compute capability: 7.5\n"
     ]
    },
    {
     "name": "stdout",
     "output_type": "stream",
     "text": [
      "Processing video 540...\r"
     ]
    }
   ],
   "source": [
    "apply_augmentation(horizontal_flip, video_generator)"
   ]
  },
  {
   "cell_type": "code",
   "execution_count": 22,
   "id": "75c3c188",
   "metadata": {
    "execution": {
     "iopub.execute_input": "2025-07-12T15:44:50.250828Z",
     "iopub.status.busy": "2025-07-12T15:44:50.250619Z",
     "iopub.status.idle": "2025-07-12T15:44:50.254867Z",
     "shell.execute_reply": "2025-07-12T15:44:50.254167Z"
    },
    "papermill": {
     "duration": 0.015906,
     "end_time": "2025-07-12T15:44:50.255980",
     "exception": false,
     "start_time": "2025-07-12T15:44:50.240074",
     "status": "completed"
    },
    "tags": []
   },
   "outputs": [
    {
     "name": "stdout",
     "output_type": "stream",
     "text": [
      "Checking Total Videos and Class Count: 540, 540\n",
      "PENDING Total Videos and Class Count: 540, 540\n"
     ]
    }
   ],
   "source": [
    "print(f\"Checking Total Videos and Class Count: {len(video_generator.videos)}, {len(video_generator.labels)}\")\n",
    "print(f\"PENDING Total Videos and Class Count: {len(video_generator.temp_videos)}, {len(video_generator.temp_labels)}\")"
   ]
  },
  {
   "cell_type": "code",
   "execution_count": 23,
   "id": "8bfcef82",
   "metadata": {
    "execution": {
     "iopub.execute_input": "2025-07-12T15:44:50.277260Z",
     "iopub.status.busy": "2025-07-12T15:44:50.276638Z",
     "iopub.status.idle": "2025-07-12T15:44:50.280521Z",
     "shell.execute_reply": "2025-07-12T15:44:50.279764Z"
    },
    "papermill": {
     "duration": 0.015504,
     "end_time": "2025-07-12T15:44:50.281606",
     "exception": false,
     "start_time": "2025-07-12T15:44:50.266102",
     "status": "completed"
    },
    "tags": []
   },
   "outputs": [
    {
     "name": "stdout",
     "output_type": "stream",
     "text": [
      "Adding 540 videos with 540 classes.\n",
      "Successfully added - 540 videos and 540 classes.\n",
      "Now Total - 1080 videos and 1080 classes.\n",
      "PENDING for Augmentations - 0 videos and 0 classes.\n"
     ]
    }
   ],
   "source": [
    "video_generator.confirm()"
   ]
  },
  {
   "cell_type": "markdown",
   "id": "55a717dd",
   "metadata": {
    "papermill": {
     "duration": 0.009632,
     "end_time": "2025-07-12T15:44:50.301361",
     "exception": false,
     "start_time": "2025-07-12T15:44:50.291729",
     "status": "completed"
    },
    "tags": []
   },
   "source": [
    "## Apply ***Noise*** (Augmentation)"
   ]
  },
  {
   "cell_type": "code",
   "execution_count": 24,
   "id": "64677c69",
   "metadata": {
    "execution": {
     "iopub.execute_input": "2025-07-12T15:44:50.321761Z",
     "iopub.status.busy": "2025-07-12T15:44:50.321565Z",
     "iopub.status.idle": "2025-07-12T15:45:25.629080Z",
     "shell.execute_reply": "2025-07-12T15:45:25.628490Z"
    },
    "papermill": {
     "duration": 35.319101,
     "end_time": "2025-07-12T15:45:25.630382",
     "exception": false,
     "start_time": "2025-07-12T15:44:50.311281",
     "status": "completed"
    },
    "tags": []
   },
   "outputs": [
    {
     "name": "stdout",
     "output_type": "stream",
     "text": [
      "Processing video 1080...\r"
     ]
    }
   ],
   "source": [
    "apply_augmentation(noise_video, video_generator)"
   ]
  },
  {
   "cell_type": "code",
   "execution_count": 25,
   "id": "7f21d858",
   "metadata": {
    "execution": {
     "iopub.execute_input": "2025-07-12T15:45:25.656486Z",
     "iopub.status.busy": "2025-07-12T15:45:25.655714Z",
     "iopub.status.idle": "2025-07-12T15:45:25.660214Z",
     "shell.execute_reply": "2025-07-12T15:45:25.659490Z"
    },
    "papermill": {
     "duration": 0.018319,
     "end_time": "2025-07-12T15:45:25.661287",
     "exception": false,
     "start_time": "2025-07-12T15:45:25.642968",
     "status": "completed"
    },
    "tags": []
   },
   "outputs": [
    {
     "name": "stdout",
     "output_type": "stream",
     "text": [
      "Checking Total Videos and Class Count: 1080, 1080\n",
      "PENDING Total Videos and Class Count: 1080, 1080\n"
     ]
    }
   ],
   "source": [
    "print(f\"Checking Total Videos and Class Count: {len(video_generator.videos)}, {len(video_generator.labels)}\")\n",
    "print(f\"PENDING Total Videos and Class Count: {len(video_generator.temp_videos)}, {len(video_generator.temp_labels)}\")"
   ]
  },
  {
   "cell_type": "markdown",
   "id": "5a1ee54b",
   "metadata": {
    "papermill": {
     "duration": 0.012124,
     "end_time": "2025-07-12T15:45:25.686702",
     "exception": false,
     "start_time": "2025-07-12T15:45:25.674578",
     "status": "completed"
    },
    "tags": []
   },
   "source": [
    "## Apply ***Random Shear x2*** (Augmentation)"
   ]
  },
  {
   "cell_type": "code",
   "execution_count": 26,
   "id": "06ea81ae",
   "metadata": {
    "execution": {
     "iopub.execute_input": "2025-07-12T15:45:25.711192Z",
     "iopub.status.busy": "2025-07-12T15:45:25.710978Z",
     "iopub.status.idle": "2025-07-12T15:46:51.789762Z",
     "shell.execute_reply": "2025-07-12T15:46:51.789137Z"
    },
    "papermill": {
     "duration": 86.092476,
     "end_time": "2025-07-12T15:46:51.791088",
     "exception": false,
     "start_time": "2025-07-12T15:45:25.698612",
     "status": "completed"
    },
    "tags": []
   },
   "outputs": [
    {
     "name": "stdout",
     "output_type": "stream",
     "text": [
      "Processing video 3240...\r"
     ]
    }
   ],
   "source": [
    "apply_augmentation(apply_shear_frames, video_generator, shear_right=0)\n",
    "apply_augmentation(apply_shear_frames, video_generator, shear_right=1)"
   ]
  },
  {
   "cell_type": "code",
   "execution_count": 27,
   "id": "b4d312f7",
   "metadata": {
    "execution": {
     "iopub.execute_input": "2025-07-12T15:46:51.823570Z",
     "iopub.status.busy": "2025-07-12T15:46:51.822865Z",
     "iopub.status.idle": "2025-07-12T15:46:51.827117Z",
     "shell.execute_reply": "2025-07-12T15:46:51.826382Z"
    },
    "papermill": {
     "duration": 0.021261,
     "end_time": "2025-07-12T15:46:51.828135",
     "exception": false,
     "start_time": "2025-07-12T15:46:51.806874",
     "status": "completed"
    },
    "tags": []
   },
   "outputs": [
    {
     "name": "stdout",
     "output_type": "stream",
     "text": [
      "Checking Total Videos and Class Count: 1080, 1080\n",
      "PENDING Total Videos and Class Count: 3240, 3240\n"
     ]
    }
   ],
   "source": [
    "print(f\"Checking Total Videos and Class Count: {len(video_generator.videos)}, {len(video_generator.labels)}\")\n",
    "print(f\"PENDING Total Videos and Class Count: {len(video_generator.temp_videos)}, {len(video_generator.temp_labels)}\")"
   ]
  },
  {
   "cell_type": "code",
   "execution_count": 28,
   "id": "5a7d99a2",
   "metadata": {
    "execution": {
     "iopub.execute_input": "2025-07-12T15:46:51.859553Z",
     "iopub.status.busy": "2025-07-12T15:46:51.858942Z",
     "iopub.status.idle": "2025-07-12T15:46:51.862923Z",
     "shell.execute_reply": "2025-07-12T15:46:51.862212Z"
    },
    "papermill": {
     "duration": 0.020872,
     "end_time": "2025-07-12T15:46:51.864109",
     "exception": false,
     "start_time": "2025-07-12T15:46:51.843237",
     "status": "completed"
    },
    "tags": []
   },
   "outputs": [
    {
     "name": "stdout",
     "output_type": "stream",
     "text": [
      "Adding 3240 videos with 3240 classes.\n",
      "Successfully added - 3240 videos and 3240 classes.\n",
      "Now Total - 4320 videos and 4320 classes.\n",
      "PENDING for Augmentations - 0 videos and 0 classes.\n"
     ]
    }
   ],
   "source": [
    "# confirm changes to generator\n",
    "video_generator.confirm()"
   ]
  },
  {
   "cell_type": "code",
   "execution_count": 29,
   "id": "d0f032fc",
   "metadata": {
    "execution": {
     "iopub.execute_input": "2025-07-12T15:46:51.896272Z",
     "iopub.status.busy": "2025-07-12T15:46:51.896068Z",
     "iopub.status.idle": "2025-07-12T15:46:51.899610Z",
     "shell.execute_reply": "2025-07-12T15:46:51.898969Z"
    },
    "papermill": {
     "duration": 0.021507,
     "end_time": "2025-07-12T15:46:51.900623",
     "exception": false,
     "start_time": "2025-07-12T15:46:51.879116",
     "status": "completed"
    },
    "tags": []
   },
   "outputs": [
    {
     "name": "stdout",
     "output_type": "stream",
     "text": [
      "Checking Video Generator Total Videos and Class Count: 4320, 4320\n"
     ]
    }
   ],
   "source": [
    "print(f\"Checking Video Generator Total Videos and Class Count: {len(video_generator.videos)}, {len(video_generator.labels)}\")"
   ]
  },
  {
   "cell_type": "markdown",
   "id": "ff81a765",
   "metadata": {
    "papermill": {
     "duration": 0.015189,
     "end_time": "2025-07-12T15:46:51.930930",
     "exception": false,
     "start_time": "2025-07-12T15:46:51.915741",
     "status": "completed"
    },
    "tags": []
   },
   "source": [
    "## Cheking (Output)"
   ]
  },
  {
   "cell_type": "code",
   "execution_count": 30,
   "id": "11562a75",
   "metadata": {
    "execution": {
     "iopub.execute_input": "2025-07-12T15:46:51.962715Z",
     "iopub.status.busy": "2025-07-12T15:46:51.962416Z",
     "iopub.status.idle": "2025-07-12T15:46:52.262106Z",
     "shell.execute_reply": "2025-07-12T15:46:52.261321Z"
    },
    "papermill": {
     "duration": 0.318489,
     "end_time": "2025-07-12T15:46:52.264810",
     "exception": false,
     "start_time": "2025-07-12T15:46:51.946321",
     "status": "completed"
    },
    "tags": []
   },
   "outputs": [
    {
     "name": "stdout",
     "output_type": "stream",
     "text": [
      "(24, 5, 128, 128, 3) (24,)\n"
     ]
    },
    {
     "data": {
      "image/png": "[encoded data removed]",
      "text/plain": [
       "<Figure size 1000x500 with 2 Axes>"
      ]
     },
     "metadata": {},
     "output_type": "display_data"
    },
    {
     "name": "stdout",
     "output_type": "stream",
     "text": [
      "Might be two different action, but to check the flipping focus on the door behind.\n"
     ]
    }
   ],
   "source": [
    "# check horizontal flips\n",
    "videos, labels = video_generator[7]\n",
    "videos1, labels1 = video_generator[1]\n",
    "\n",
    "print(videos.shape, labels.shape)\n",
    "\n",
    "show_frame_vs(videos[0,0],videos1[1,0], title1=\"Flipped Frame 1\", title2=\"Non Flipped Frame 1\")\n",
    "print(\"Might be two different action, but to check the flipping focus on the door behind.\")"
   ]
  },
  {
   "cell_type": "markdown",
   "id": "35aa78d6",
   "metadata": {
    "papermill": {
     "duration": 0.018688,
     "end_time": "2025-07-12T15:46:52.303328",
     "exception": false,
     "start_time": "2025-07-12T15:46:52.284640",
     "status": "completed"
    },
    "tags": []
   },
   "source": [
    "# 📌 Preparing Data for Training"
   ]
  },
  {
   "cell_type": "code",
   "execution_count": 31,
   "id": "f3eb735e",
   "metadata": {
    "execution": {
     "iopub.execute_input": "2025-07-12T15:46:52.339510Z",
     "iopub.status.busy": "2025-07-12T15:46:52.338978Z",
     "iopub.status.idle": "2025-07-12T15:46:52.788095Z",
     "shell.execute_reply": "2025-07-12T15:46:52.787498Z"
    },
    "papermill": {
     "duration": 0.468321,
     "end_time": "2025-07-12T15:46:52.789333",
     "exception": false,
     "start_time": "2025-07-12T15:46:52.321012",
     "status": "completed"
    },
    "tags": []
   },
   "outputs": [],
   "source": [
    "# Clear previous session to free memory\n",
    "import gc\n",
    "\n",
    "gc.collect()\n",
    "tf.keras.backend.clear_session()"
   ]
  },
  {
   "cell_type": "markdown",
   "id": "1dcf94a5",
   "metadata": {
    "papermill": {
     "duration": 0.017798,
     "end_time": "2025-07-12T15:46:52.826175",
     "exception": false,
     "start_time": "2025-07-12T15:46:52.808377",
     "status": "completed"
    },
    "tags": []
   },
   "source": [
    "## Splitting data for ***Trainig*** and ***Testing***"
   ]
  },
  {
   "cell_type": "code",
   "execution_count": 32,
   "id": "a5ebc878",
   "metadata": {
    "execution": {
     "iopub.execute_input": "2025-07-12T15:46:52.864068Z",
     "iopub.status.busy": "2025-07-12T15:46:52.863805Z",
     "iopub.status.idle": "2025-07-12T15:46:54.170345Z",
     "shell.execute_reply": "2025-07-12T15:46:54.169678Z"
    },
    "papermill": {
     "duration": 1.326718,
     "end_time": "2025-07-12T15:46:54.171576",
     "exception": false,
     "start_time": "2025-07-12T15:46:52.844858",
     "status": "completed"
    },
    "tags": []
   },
   "outputs": [
    {
     "data": {
      "text/plain": [
       "((4320, 5, 128, 128, 3), (4320,))"
      ]
     },
     "execution_count": 32,
     "metadata": {},
     "output_type": "execute_result"
    }
   ],
   "source": [
    "videos = video_generator.videos\n",
    "labels = video_generator.labels\n",
    "\n",
    "videos = np.array(videos, dtype='float32')\n",
    "labels = np.array(labels)\n",
    "\n",
    "videos.shape, labels.shape"
   ]
  },
  {
   "cell_type": "code",
   "execution_count": 33,
   "id": "fff2915e",
   "metadata": {
    "execution": {
     "iopub.execute_input": "2025-07-12T15:46:54.208147Z",
     "iopub.status.busy": "2025-07-12T15:46:54.207914Z",
     "iopub.status.idle": "2025-07-12T15:46:54.213110Z",
     "shell.execute_reply": "2025-07-12T15:46:54.212549Z"
    },
    "papermill": {
     "duration": 0.024267,
     "end_time": "2025-07-12T15:46:54.214075",
     "exception": false,
     "start_time": "2025-07-12T15:46:54.189808",
     "status": "completed"
    },
    "tags": []
   },
   "outputs": [
    {
     "data": {
      "text/plain": [
       "(4320, 18)"
      ]
     },
     "execution_count": 33,
     "metadata": {},
     "output_type": "execute_result"
    }
   ],
   "source": [
    "from tensorflow.keras.utils import to_categorical\n",
    "\n",
    "one_hot_encoded_labels = to_categorical(labels)\n",
    "\n",
    "one_hot_encoded_labels.shape"
   ]
  },
  {
   "cell_type": "code",
   "execution_count": 34,
   "id": "42948918",
   "metadata": {
    "execution": {
     "iopub.execute_input": "2025-07-12T15:46:54.250905Z",
     "iopub.status.busy": "2025-07-12T15:46:54.250707Z",
     "iopub.status.idle": "2025-07-12T15:46:54.469408Z",
     "shell.execute_reply": "2025-07-12T15:46:54.468805Z"
    },
    "papermill": {
     "duration": 0.238047,
     "end_time": "2025-07-12T15:46:54.470563",
     "exception": false,
     "start_time": "2025-07-12T15:46:54.232516",
     "status": "completed"
    },
    "tags": []
   },
   "outputs": [
    {
     "data": {
      "text/plain": [
       "0"
      ]
     },
     "execution_count": 34,
     "metadata": {},
     "output_type": "execute_result"
    }
   ],
   "source": [
    "gc.collect()"
   ]
  },
  {
   "cell_type": "code",
   "execution_count": 35,
   "id": "8eb70fef",
   "metadata": {
    "execution": {
     "iopub.execute_input": "2025-07-12T15:46:54.509558Z",
     "iopub.status.busy": "2025-07-12T15:46:54.508829Z",
     "iopub.status.idle": "2025-07-12T15:46:55.802914Z",
     "shell.execute_reply": "2025-07-12T15:46:55.802244Z"
    },
    "papermill": {
     "duration": 1.314269,
     "end_time": "2025-07-12T15:46:55.804064",
     "exception": false,
     "start_time": "2025-07-12T15:46:54.489795",
     "status": "completed"
    },
    "tags": []
   },
   "outputs": [
    {
     "data": {
      "text/plain": [
       "((3456, 5, 128, 128, 3), (3456, 18), (864, 5, 128, 128, 3), (864, 18))"
      ]
     },
     "execution_count": 35,
     "metadata": {},
     "output_type": "execute_result"
    }
   ],
   "source": [
    "# RUN Split the Data into Train ( 75% ) and Test Set ( 25% ).\n",
    "from sklearn.model_selection import train_test_split\n",
    "features_train, features_test, labels_train, labels_test = train_test_split(videos,\n",
    "                                                                            one_hot_encoded_labels,\n",
    "                                                                            test_size = TEST_SIZE,\n",
    "                                                                            shuffle = True,\n",
    "                                                                            random_state = seed_constant)\n",
    "\n",
    "features_train.shape, labels_train.shape, features_test.shape, labels_test.shape"
   ]
  },
  {
   "cell_type": "markdown",
   "id": "3871caf9",
   "metadata": {
    "papermill": {
     "duration": 0.017858,
     "end_time": "2025-07-12T15:46:55.840370",
     "exception": false,
     "start_time": "2025-07-12T15:46:55.822512",
     "status": "completed"
    },
    "tags": []
   },
   "source": [
    "## Splitting data for ***Training Set*** and ***Validation Set***"
   ]
  },
  {
   "cell_type": "code",
   "execution_count": 36,
   "id": "b047e472",
   "metadata": {
    "execution": {
     "iopub.execute_input": "2025-07-12T15:46:55.876699Z",
     "iopub.status.busy": "2025-07-12T15:46:55.876217Z",
     "iopub.status.idle": "2025-07-12T15:46:55.881345Z",
     "shell.execute_reply": "2025-07-12T15:46:55.880794Z"
    },
    "papermill": {
     "duration": 0.024268,
     "end_time": "2025-07-12T15:46:55.882319",
     "exception": false,
     "start_time": "2025-07-12T15:46:55.858051",
     "status": "completed"
    },
    "tags": []
   },
   "outputs": [
    {
     "data": {
      "text/plain": [
       "((2764, 5, 128, 128, 3), (2764, 18), (692, 5, 128, 128, 3), (692, 18))"
      ]
     },
     "execution_count": 36,
     "metadata": {},
     "output_type": "execute_result"
    }
   ],
   "source": [
    "# Assuming features_train and labels_train are defined\n",
    "train_set = 1-VALIDATION_SPLIT\n",
    "\n",
    "train_video_frames, val_video_frames = features_train[:int(train_set * len(features_train))], features_train[int(train_set * len(features_train)):]\n",
    "train_labels, val_labels = labels_train[:int(train_set * len(labels_train))], labels_train[int(train_set * len(labels_train)):]\n",
    "\n",
    "train_video_frames.shape, train_labels.shape, val_video_frames.shape, val_labels.shape"
   ]
  },
  {
   "cell_type": "markdown",
   "id": "921569f0",
   "metadata": {
    "papermill": {
     "duration": 0.017924,
     "end_time": "2025-07-12T15:46:55.919376",
     "exception": false,
     "start_time": "2025-07-12T15:46:55.901452",
     "status": "completed"
    },
    "tags": []
   },
   "source": [
    "## Use Generator `Video Data Generator`"
   ]
  },
  {
   "cell_type": "code",
   "execution_count": 37,
   "id": "a14477e7",
   "metadata": {
    "execution": {
     "iopub.execute_input": "2025-07-12T15:46:55.955404Z",
     "iopub.status.busy": "2025-07-12T15:46:55.955229Z",
     "iopub.status.idle": "2025-07-12T15:46:55.961958Z",
     "shell.execute_reply": "2025-07-12T15:46:55.961305Z"
    },
    "papermill": {
     "duration": 0.02589,
     "end_time": "2025-07-12T15:46:55.962979",
     "exception": false,
     "start_time": "2025-07-12T15:46:55.937089",
     "status": "completed"
    },
    "tags": []
   },
   "outputs": [
    {
     "name": "stdout",
     "output_type": "stream",
     "text": [
      "Total 2764 videos and 2764 classes\n",
      "Total 692 videos and 692 classes\n"
     ]
    },
    {
     "data": {
      "text/plain": [
       "(116, 29)"
      ]
     },
     "execution_count": 37,
     "metadata": {},
     "output_type": "execute_result"
    }
   ],
   "source": [
    "# Create the training and validation generators\n",
    "train_gen = VideoDataGenerator(\n",
    "    videos=train_video_frames, \n",
    "    labels=train_labels, \n",
    "    batch_size=BATCH_SIZE,\n",
    ")\n",
    "\n",
    "val_gen = VideoDataGenerator(\n",
    "    videos=val_video_frames, \n",
    "    labels=val_labels, \n",
    "    batch_size=BATCH_SIZE,\n",
    ")\n",
    "\n",
    "len(train_gen), len(val_gen)"
   ]
  },
  {
   "cell_type": "markdown",
   "id": "355c2ba3",
   "metadata": {
    "papermill": {
     "duration": 0.017502,
     "end_time": "2025-07-12T15:46:55.998385",
     "exception": false,
     "start_time": "2025-07-12T15:46:55.980883",
     "status": "completed"
    },
    "tags": []
   },
   "source": [
    "## Inspect ***Generator*** Data on Epochs"
   ]
  },
  {
   "cell_type": "code",
   "execution_count": 38,
   "id": "651189b2",
   "metadata": {
    "execution": {
     "iopub.execute_input": "2025-07-12T15:46:56.034287Z",
     "iopub.status.busy": "2025-07-12T15:46:56.034112Z",
     "iopub.status.idle": "2025-07-12T15:46:56.044145Z",
     "shell.execute_reply": "2025-07-12T15:46:56.043482Z"
    },
    "papermill": {
     "duration": 0.029132,
     "end_time": "2025-07-12T15:46:56.045237",
     "exception": false,
     "start_time": "2025-07-12T15:46:56.016105",
     "status": "completed"
    },
    "tags": []
   },
   "outputs": [
    {
     "name": "stdout",
     "output_type": "stream",
     "text": [
      "[   0    1    2 ... 2761 2762 2763]\n",
      "[ 298 1988 1344 ...  975  495  426]\n"
     ]
    },
    {
     "data": {
      "text/plain": [
       "(24, (24, 5, 128, 128, 3), (24, 18))"
      ]
     },
     "execution_count": 38,
     "metadata": {},
     "output_type": "execute_result"
    }
   ],
   "source": [
    "features, labels = train_gen[1]\n",
    "\n",
    "print(train_gen.indices)\n",
    "\n",
    "train_gen.on_epoch_end()\n",
    "\n",
    "print(train_gen.indices)\n",
    "\n",
    "BATCH_SIZE, features.shape, labels.shape"
   ]
  },
  {
   "cell_type": "markdown",
   "id": "623dd9fe",
   "metadata": {
    "papermill": {
     "duration": 0.017624,
     "end_time": "2025-07-12T15:46:56.081127",
     "exception": false,
     "start_time": "2025-07-12T15:46:56.063503",
     "status": "completed"
    },
    "tags": []
   },
   "source": [
    "## Compute Class Weight"
   ]
  },
  {
   "cell_type": "code",
   "execution_count": 39,
   "id": "61eba36a",
   "metadata": {
    "execution": {
     "iopub.execute_input": "2025-07-12T15:46:56.117745Z",
     "iopub.status.busy": "2025-07-12T15:46:56.117515Z",
     "iopub.status.idle": "2025-07-12T15:46:56.123637Z",
     "shell.execute_reply": "2025-07-12T15:46:56.122878Z"
    },
    "papermill": {
     "duration": 0.02582,
     "end_time": "2025-07-12T15:46:56.124720",
     "exception": false,
     "start_time": "2025-07-12T15:46:56.098900",
     "status": "completed"
    },
    "tags": []
   },
   "outputs": [
    {
     "name": "stdout",
     "output_type": "stream",
     "text": [
      "Class weights: {0: 1.0, 1: 1.0, 2: 1.0, 3: 1.0, 4: 1.0, 5: 1.0, 6: 1.0, 7: 1.0, 8: 1.0, 9: 1.0, 10: 1.0, 11: 1.0, 12: 1.0, 13: 1.0, 14: 1.0, 15: 1.0, 16: 1.0, 17: 1.0}\n"
     ]
    }
   ],
   "source": [
    "from sklearn.utils.class_weight import compute_class_weight\n",
    "import numpy as np\n",
    "\n",
    "# Assuming y_int are integer labels (not one-hot)\n",
    "y_int = np.argmax(one_hot_encoded_labels, axis=1)  # or just integer labels if you have them\n",
    "\n",
    "classes = np.arange(NO_OF_CLASSES)  # e.g. np.arange(16)\n",
    "class_weights_values = compute_class_weight(class_weight='balanced', classes=classes, y=y_int)\n",
    "\n",
    "class_weights = dict(zip(classes, class_weights_values))\n",
    "\n",
    "print(\"Class weights:\", class_weights)\n"
   ]
  },
  {
   "cell_type": "code",
   "execution_count": 40,
   "id": "f6c81433",
   "metadata": {
    "execution": {
     "iopub.execute_input": "2025-07-12T15:46:56.161462Z",
     "iopub.status.busy": "2025-07-12T15:46:56.161238Z",
     "iopub.status.idle": "2025-07-12T15:46:56.384254Z",
     "shell.execute_reply": "2025-07-12T15:46:56.383679Z"
    },
    "papermill": {
     "duration": 0.242537,
     "end_time": "2025-07-12T15:46:56.385342",
     "exception": false,
     "start_time": "2025-07-12T15:46:56.142805",
     "status": "completed"
    },
    "tags": []
   },
   "outputs": [],
   "source": [
    "gc.collect()\n",
    "del videos, one_hot_encoded_labels, labels_train\n",
    "del features_train, val_labels, train_labels\n",
    "del val_video_frames, train_video_frames"
   ]
  },
  {
   "cell_type": "markdown",
   "id": "eb007b1f",
   "metadata": {
    "papermill": {
     "duration": 0.017982,
     "end_time": "2025-07-12T15:46:56.422294",
     "exception": false,
     "start_time": "2025-07-12T15:46:56.404312",
     "status": "completed"
    },
    "tags": []
   },
   "source": [
    "# ✨ Model Execution\n",
    "## Creating Model"
   ]
  },
  {
   "cell_type": "markdown",
   "id": "0ad557e6",
   "metadata": {
    "papermill": {
     "duration": 0.018277,
     "end_time": "2025-07-12T15:46:56.458795",
     "exception": false,
     "start_time": "2025-07-12T15:46:56.440518",
     "status": "completed"
    },
    "tags": []
   },
   "source": [
    "## Plot Model Structure"
   ]
  },
  {
   "cell_type": "markdown",
   "id": "fd3464cc",
   "metadata": {
    "papermill": {
     "duration": 0.01804,
     "end_time": "2025-07-12T15:46:56.495299",
     "exception": false,
     "start_time": "2025-07-12T15:46:56.477259",
     "status": "completed"
    },
    "tags": []
   },
   "source": [
    "## 📈 Model Training"
   ]
  },
  {
   "cell_type": "code",
   "execution_count": 41,
   "id": "8edc2529",
   "metadata": {
    "execution": {
     "iopub.execute_input": "2025-07-12T15:46:56.534018Z",
     "iopub.status.busy": "2025-07-12T15:46:56.533759Z",
     "iopub.status.idle": "2025-07-12T16:11:15.795257Z",
     "shell.execute_reply": "2025-07-12T16:11:15.794571Z"
    },
    "papermill": {
     "duration": 1459.283134,
     "end_time": "2025-07-12T16:11:15.796745",
     "exception": false,
     "start_time": "2025-07-12T15:46:56.513611",
     "status": "completed"
    },
    "tags": []
   },
   "outputs": [
    {
     "name": "stdout",
     "output_type": "stream",
     "text": [
      "Memory cleared before creating InceptionResNetV2+LSTM model\n",
      "TensorFlow version: 2.18.0\n",
      "Pre-loading InceptionResNetV2 weights...\n",
      "Downloading data from https://storage.googleapis.com/tensorflow/keras-applications/inception_resnet_v2/inception_resnet_v2_weights_tf_dim_ordering_tf_kernels_notop.h5\n",
      "\u001b[1m219055592/219055592\u001b[0m \u001b[32m━━━━━━━━━━━━━━━━━━━━\u001b[0m\u001b[37m\u001b[0m \u001b[1m1s\u001b[0m 0us/step\n",
      "InceptionResNetV2 weights loaded successfully!\n",
      "Creating InceptionResNetV2+LSTM model with parameters:\n",
      "sequence_length: 5, image_height: 128, image_width: 128, classes_list length: 18, dropout_rate: 0.5\n"
     ]
    },
    {
     "name": "stderr",
     "output_type": "stream",
     "text": [
      "/usr/local/lib/python3.11/dist-packages/keras/src/layers/core/wrapper.py:27: UserWarning: Do not pass an `input_shape`/`input_dim` argument to a layer. When using Sequential models, prefer using an `Input(shape)` object as the first layer in the model instead.\n",
      "  super().__init__(**kwargs)\n"
     ]
    },
    {
     "name": "stdout",
     "output_type": "stream",
     "text": [
      "InceptionResNetV2+LSTM model architecture created successfully!\n"
     ]
    },
    {
     "data": {
      "text/html": [
       "<pre style=\"white-space:pre;overflow-x:auto;line-height:normal;font-family:Menlo,'DejaVu Sans Mono',consolas,'Courier New',monospace\"><span style=\"font-weight: bold\">Model: \"sequential\"</span>\n",
       "</pre>\n"
      ],
      "text/plain": [
       "\u001b[1mModel: \"sequential\"\u001b[0m\n"
      ]
     },
     "metadata": {},
     "output_type": "display_data"
    },
    {
     "data": {
      "text/html": [
       "<pre style=\"white-space:pre;overflow-x:auto;line-height:normal;font-family:Menlo,'DejaVu Sans Mono',consolas,'Courier New',monospace\">┏━━━━━━━━━━━━━━━━━━━━━━━━━━━━━━━━━┳━━━━━━━━━━━━━━━━━━━━━━━━┳━━━━━━━━━━━━━━━┓\n",
       "┃<span style=\"font-weight: bold\"> Layer (type)                    </span>┃<span style=\"font-weight: bold\"> Output Shape           </span>┃<span style=\"font-weight: bold\">       Param # </span>┃\n",
       "┡━━━━━━━━━━━━━━━━━━━━━━━━━━━━━━━━━╇━━━━━━━━━━━━━━━━━━━━━━━━╇━━━━━━━━━━━━━━━┩\n",
       "│ time_distributed_InceptionResN… │ (<span style=\"color: #00d7ff; text-decoration-color: #00d7ff\">None</span>, <span style=\"color: #00af00; text-decoration-color: #00af00\">5</span>, <span style=\"color: #00af00; text-decoration-color: #00af00\">2</span>, <span style=\"color: #00af00; text-decoration-color: #00af00\">2</span>, <span style=\"color: #00af00; text-decoration-color: #00af00\">1536</span>)  │    <span style=\"color: #00af00; text-decoration-color: #00af00\">54,336,736</span> │\n",
       "│ (<span style=\"color: #0087ff; text-decoration-color: #0087ff\">TimeDistributed</span>)               │                        │               │\n",
       "├─────────────────────────────────┼────────────────────────┼───────────────┤\n",
       "│ time_distributed_pooling        │ (<span style=\"color: #00d7ff; text-decoration-color: #00d7ff\">None</span>, <span style=\"color: #00af00; text-decoration-color: #00af00\">5</span>, <span style=\"color: #00af00; text-decoration-color: #00af00\">1536</span>)        │             <span style=\"color: #00af00; text-decoration-color: #00af00\">0</span> │\n",
       "│ (<span style=\"color: #0087ff; text-decoration-color: #0087ff\">TimeDistributed</span>)               │                        │               │\n",
       "├─────────────────────────────────┼────────────────────────┼───────────────┤\n",
       "│ bidirectional (<span style=\"color: #0087ff; text-decoration-color: #0087ff\">Bidirectional</span>)   │ (<span style=\"color: #00d7ff; text-decoration-color: #00d7ff\">None</span>, <span style=\"color: #00af00; text-decoration-color: #00af00\">512</span>)            │     <span style=\"color: #00af00; text-decoration-color: #00af00\">3,672,064</span> │\n",
       "├─────────────────────────────────┼────────────────────────┼───────────────┤\n",
       "│ batch_normalization_InceptionR… │ (<span style=\"color: #00d7ff; text-decoration-color: #00d7ff\">None</span>, <span style=\"color: #00af00; text-decoration-color: #00af00\">512</span>)            │         <span style=\"color: #00af00; text-decoration-color: #00af00\">2,048</span> │\n",
       "│ (<span style=\"color: #0087ff; text-decoration-color: #0087ff\">BatchNormalization</span>)            │                        │               │\n",
       "├─────────────────────────────────┼────────────────────────┼───────────────┤\n",
       "│ dropout_lstm_InceptionResNetV2  │ (<span style=\"color: #00d7ff; text-decoration-color: #00d7ff\">None</span>, <span style=\"color: #00af00; text-decoration-color: #00af00\">512</span>)            │             <span style=\"color: #00af00; text-decoration-color: #00af00\">0</span> │\n",
       "│ (<span style=\"color: #0087ff; text-decoration-color: #0087ff\">Dropout</span>)                       │                        │               │\n",
       "├─────────────────────────────────┼────────────────────────┼───────────────┤\n",
       "│ dense_InceptionResNetV2_1       │ (<span style=\"color: #00d7ff; text-decoration-color: #00d7ff\">None</span>, <span style=\"color: #00af00; text-decoration-color: #00af00\">512</span>)            │       <span style=\"color: #00af00; text-decoration-color: #00af00\">262,656</span> │\n",
       "│ (<span style=\"color: #0087ff; text-decoration-color: #0087ff\">Dense</span>)                         │                        │               │\n",
       "├─────────────────────────────────┼────────────────────────┼───────────────┤\n",
       "│ dropout_dense_InceptionResNetV… │ (<span style=\"color: #00d7ff; text-decoration-color: #00d7ff\">None</span>, <span style=\"color: #00af00; text-decoration-color: #00af00\">512</span>)            │             <span style=\"color: #00af00; text-decoration-color: #00af00\">0</span> │\n",
       "│ (<span style=\"color: #0087ff; text-decoration-color: #0087ff\">Dropout</span>)                       │                        │               │\n",
       "├─────────────────────────────────┼────────────────────────┼───────────────┤\n",
       "│ dense_InceptionResNetV2_2       │ (<span style=\"color: #00d7ff; text-decoration-color: #00d7ff\">None</span>, <span style=\"color: #00af00; text-decoration-color: #00af00\">128</span>)            │        <span style=\"color: #00af00; text-decoration-color: #00af00\">65,664</span> │\n",
       "│ (<span style=\"color: #0087ff; text-decoration-color: #0087ff\">Dense</span>)                         │                        │               │\n",
       "├─────────────────────────────────┼────────────────────────┼───────────────┤\n",
       "│ dropout_dense_InceptionResNetV… │ (<span style=\"color: #00d7ff; text-decoration-color: #00d7ff\">None</span>, <span style=\"color: #00af00; text-decoration-color: #00af00\">128</span>)            │             <span style=\"color: #00af00; text-decoration-color: #00af00\">0</span> │\n",
       "│ (<span style=\"color: #0087ff; text-decoration-color: #0087ff\">Dropout</span>)                       │                        │               │\n",
       "├─────────────────────────────────┼────────────────────────┼───────────────┤\n",
       "│ output_InceptionResNetV2        │ (<span style=\"color: #00d7ff; text-decoration-color: #00d7ff\">None</span>, <span style=\"color: #00af00; text-decoration-color: #00af00\">18</span>)             │         <span style=\"color: #00af00; text-decoration-color: #00af00\">2,322</span> │\n",
       "│ (<span style=\"color: #0087ff; text-decoration-color: #0087ff\">Dense</span>)                         │                        │               │\n",
       "└─────────────────────────────────┴────────────────────────┴───────────────┘\n",
       "</pre>\n"
      ],
      "text/plain": [
       "┏━━━━━━━━━━━━━━━━━━━━━━━━━━━━━━━━━┳━━━━━━━━━━━━━━━━━━━━━━━━┳━━━━━━━━━━━━━━━┓\n",
       "┃\u001b[1m \u001b[0m\u001b[1mLayer (type)                   \u001b[0m\u001b[1m \u001b[0m┃\u001b[1m \u001b[0m\u001b[1mOutput Shape          \u001b[0m\u001b[1m \u001b[0m┃\u001b[1m \u001b[0m\u001b[1m      Param #\u001b[0m\u001b[1m \u001b[0m┃\n",
       "┡━━━━━━━━━━━━━━━━━━━━━━━━━━━━━━━━━╇━━━━━━━━━━━━━━━━━━━━━━━━╇━━━━━━━━━━━━━━━┩\n",
       "│ time_distributed_InceptionResN… │ (\u001b[38;5;45mNone\u001b[0m, \u001b[38;5;34m5\u001b[0m, \u001b[38;5;34m2\u001b[0m, \u001b[38;5;34m2\u001b[0m, \u001b[38;5;34m1536\u001b[0m)  │    \u001b[38;5;34m54,336,736\u001b[0m │\n",
       "│ (\u001b[38;5;33mTimeDistributed\u001b[0m)               │                        │               │\n",
       "├─────────────────────────────────┼────────────────────────┼───────────────┤\n",
       "│ time_distributed_pooling        │ (\u001b[38;5;45mNone\u001b[0m, \u001b[38;5;34m5\u001b[0m, \u001b[38;5;34m1536\u001b[0m)        │             \u001b[38;5;34m0\u001b[0m │\n",
       "│ (\u001b[38;5;33mTimeDistributed\u001b[0m)               │                        │               │\n",
       "├─────────────────────────────────┼────────────────────────┼───────────────┤\n",
       "│ bidirectional (\u001b[38;5;33mBidirectional\u001b[0m)   │ (\u001b[38;5;45mNone\u001b[0m, \u001b[38;5;34m512\u001b[0m)            │     \u001b[38;5;34m3,672,064\u001b[0m │\n",
       "├─────────────────────────────────┼────────────────────────┼───────────────┤\n",
       "│ batch_normalization_InceptionR… │ (\u001b[38;5;45mNone\u001b[0m, \u001b[38;5;34m512\u001b[0m)            │         \u001b[38;5;34m2,048\u001b[0m │\n",
       "│ (\u001b[38;5;33mBatchNormalization\u001b[0m)            │                        │               │\n",
       "├─────────────────────────────────┼────────────────────────┼───────────────┤\n",
       "│ dropout_lstm_InceptionResNetV2  │ (\u001b[38;5;45mNone\u001b[0m, \u001b[38;5;34m512\u001b[0m)            │             \u001b[38;5;34m0\u001b[0m │\n",
       "│ (\u001b[38;5;33mDropout\u001b[0m)                       │                        │               │\n",
       "├─────────────────────────────────┼────────────────────────┼───────────────┤\n",
       "│ dense_InceptionResNetV2_1       │ (\u001b[38;5;45mNone\u001b[0m, \u001b[38;5;34m512\u001b[0m)            │       \u001b[38;5;34m262,656\u001b[0m │\n",
       "│ (\u001b[38;5;33mDense\u001b[0m)                         │                        │               │\n",
       "├─────────────────────────────────┼────────────────────────┼───────────────┤\n",
       "│ dropout_dense_InceptionResNetV… │ (\u001b[38;5;45mNone\u001b[0m, \u001b[38;5;34m512\u001b[0m)            │             \u001b[38;5;34m0\u001b[0m │\n",
       "│ (\u001b[38;5;33mDropout\u001b[0m)                       │                        │               │\n",
       "├─────────────────────────────────┼────────────────────────┼───────────────┤\n",
       "│ dense_InceptionResNetV2_2       │ (\u001b[38;5;45mNone\u001b[0m, \u001b[38;5;34m128\u001b[0m)            │        \u001b[38;5;34m65,664\u001b[0m │\n",
       "│ (\u001b[38;5;33mDense\u001b[0m)                         │                        │               │\n",
       "├─────────────────────────────────┼────────────────────────┼───────────────┤\n",
       "│ dropout_dense_InceptionResNetV… │ (\u001b[38;5;45mNone\u001b[0m, \u001b[38;5;34m128\u001b[0m)            │             \u001b[38;5;34m0\u001b[0m │\n",
       "│ (\u001b[38;5;33mDropout\u001b[0m)                       │                        │               │\n",
       "├─────────────────────────────────┼────────────────────────┼───────────────┤\n",
       "│ output_InceptionResNetV2        │ (\u001b[38;5;45mNone\u001b[0m, \u001b[38;5;34m18\u001b[0m)             │         \u001b[38;5;34m2,322\u001b[0m │\n",
       "│ (\u001b[38;5;33mDense\u001b[0m)                         │                        │               │\n",
       "└─────────────────────────────────┴────────────────────────┴───────────────┘\n"
      ]
     },
     "metadata": {},
     "output_type": "display_data"
    },
    {
     "data": {
      "text/html": [
       "<pre style=\"white-space:pre;overflow-x:auto;line-height:normal;font-family:Menlo,'DejaVu Sans Mono',consolas,'Courier New',monospace\"><span style=\"font-weight: bold\"> Total params: </span><span style=\"color: #00af00; text-decoration-color: #00af00\">58,341,490</span> (222.56 MB)\n",
       "</pre>\n"
      ],
      "text/plain": [
       "\u001b[1m Total params: \u001b[0m\u001b[38;5;34m58,341,490\u001b[0m (222.56 MB)\n"
      ]
     },
     "metadata": {},
     "output_type": "display_data"
    },
    {
     "data": {
      "text/html": [
       "<pre style=\"white-space:pre;overflow-x:auto;line-height:normal;font-family:Menlo,'DejaVu Sans Mono',consolas,'Courier New',monospace\"><span style=\"font-weight: bold\"> Trainable params: </span><span style=\"color: #00af00; text-decoration-color: #00af00\">4,003,730</span> (15.27 MB)\n",
       "</pre>\n"
      ],
      "text/plain": [
       "\u001b[1m Trainable params: \u001b[0m\u001b[38;5;34m4,003,730\u001b[0m (15.27 MB)\n"
      ]
     },
     "metadata": {},
     "output_type": "display_data"
    },
    {
     "data": {
      "text/html": [
       "<pre style=\"white-space:pre;overflow-x:auto;line-height:normal;font-family:Menlo,'DejaVu Sans Mono',consolas,'Courier New',monospace\"><span style=\"font-weight: bold\"> Non-trainable params: </span><span style=\"color: #00af00; text-decoration-color: #00af00\">54,337,760</span> (207.28 MB)\n",
       "</pre>\n"
      ],
      "text/plain": [
       "\u001b[1m Non-trainable params: \u001b[0m\u001b[38;5;34m54,337,760\u001b[0m (207.28 MB)\n"
      ]
     },
     "metadata": {},
     "output_type": "display_data"
    },
    {
     "name": "stdout",
     "output_type": "stream",
     "text": [
      "InceptionResNetV2+LSTM Model Created Successfully!\n",
      "Xception_InceptionResNetV2_LSTM Model Plot saved successfully...\n",
      "train_gen.videos shape: (2764, 5, 128, 128, 3)\n",
      "train_gen.labels shape: (2764, 18)\n",
      "val_gen.videos shape: (692, 5, 128, 128, 3)\n",
      "val_gen.labels shape: (692, 18)\n",
      "features_test shape: (864, 5, 128, 128, 3)\n",
      "labels_test shape: (864, 18)\n",
      "train_gen batch videos shape: (24, 5, 128, 128, 3)\n",
      "train_gen batch labels shape: (24, 18)\n",
      "val_gen batch videos shape: (24, 5, 128, 128, 3)\n",
      "val_gen batch labels shape: (24, 18)\n",
      "Dataset - Kard Kinect Activity Recognition Dataset\n",
      "There are total 18 classes, selected 18 classes\n",
      "Setting None videos/class to train the model.\n",
      "Image size 128x128 with 5 sequence length\n",
      "Dropout rate: 0.5\n",
      "Train-Test split ratio 80/20\n",
      "Validation data from Train set 20.0%\n",
      "\n",
      "\n",
      "Initial training started for InceptionResNetV2+LSTM model with 2764 videos of 18 classes with 692 videos for validation...\n",
      "Epoch 1/30\n"
     ]
    },
    {
     "name": "stderr",
     "output_type": "stream",
     "text": [
      "I0000 00:00:1752335341.362544    4345 cuda_dnn.cc:529] Loaded cuDNN version 90300\n"
     ]
    },
    {
     "name": "stdout",
     "output_type": "stream",
     "text": [
      "    116/Unknown \u001b[1m152s\u001b[0m 283ms/step - accuracy: 0.0755 - loss: 29.3832"
     ]
    },
    {
     "name": "stderr",
     "output_type": "stream",
     "text": [
      "/usr/local/lib/python3.11/dist-packages/keras/src/trainers/epoch_iterator.py:151: UserWarning: Your input ran out of data; interrupting training. Make sure that your dataset or generator can generate at least `steps_per_epoch * epochs` batches. You may need to use the `.repeat()` function when building your dataset.\n",
      "  self._interrupted_warning()\n"
     ]
    },
    {
     "name": "stdout",
     "output_type": "stream",
     "text": [
      "\u001b[1m116/116\u001b[0m \u001b[32m━━━━━━━━━━━━━━━━━━━━\u001b[0m\u001b[37m\u001b[0m \u001b[1m204s\u001b[0m 731ms/step - accuracy: 0.0756 - loss: 29.3364 - val_accuracy: 0.1228 - val_loss: 15.6108 - learning_rate: 0.0010\n",
      "Epoch 2/30\n",
      "\u001b[1m116/116\u001b[0m \u001b[32m━━━━━━━━━━━━━━━━━━━━\u001b[0m\u001b[37m\u001b[0m \u001b[1m42s\u001b[0m 362ms/step - accuracy: 0.1668 - loss: 13.5874 - val_accuracy: 0.2355 - val_loss: 9.2924 - learning_rate: 0.0010\n",
      "Epoch 3/30\n",
      "\u001b[1m116/116\u001b[0m \u001b[32m━━━━━━━━━━━━━━━━━━━━\u001b[0m\u001b[37m\u001b[0m \u001b[1m43s\u001b[0m 373ms/step - accuracy: 0.2564 - loss: 8.3837 - val_accuracy: 0.3382 - val_loss: 6.2828 - learning_rate: 0.0010\n",
      "Epoch 4/30\n",
      "\u001b[1m116/116\u001b[0m \u001b[32m━━━━━━━━━━━━━━━━━━━━\u001b[0m\u001b[37m\u001b[0m \u001b[1m43s\u001b[0m 372ms/step - accuracy: 0.2936 - loss: 5.8910 - val_accuracy: 0.3555 - val_loss: 4.8337 - learning_rate: 0.0010\n",
      "Epoch 5/30\n",
      "\u001b[1m116/116\u001b[0m \u001b[32m━━━━━━━━━━━━━━━━━━━━\u001b[0m\u001b[37m\u001b[0m \u001b[1m43s\u001b[0m 372ms/step - accuracy: 0.3499 - loss: 4.6059 - val_accuracy: 0.3512 - val_loss: 4.0325 - learning_rate: 0.0010\n",
      "Epoch 6/30\n",
      "\u001b[1m116/116\u001b[0m \u001b[32m━━━━━━━━━━━━━━━━━━━━\u001b[0m\u001b[37m\u001b[0m \u001b[1m43s\u001b[0m 373ms/step - accuracy: 0.3838 - loss: 3.8146 - val_accuracy: 0.3786 - val_loss: 3.4867 - learning_rate: 0.0010\n",
      "Epoch 7/30\n",
      "\u001b[1m116/116\u001b[0m \u001b[32m━━━━━━━━━━━━━━━━━━━━\u001b[0m\u001b[37m\u001b[0m \u001b[1m43s\u001b[0m 373ms/step - accuracy: 0.4188 - loss: 3.3426 - val_accuracy: 0.4653 - val_loss: 2.9075 - learning_rate: 0.0010\n",
      "Epoch 8/30\n",
      "\u001b[1m116/116\u001b[0m \u001b[32m━━━━━━━━━━━━━━━━━━━━\u001b[0m\u001b[37m\u001b[0m \u001b[1m43s\u001b[0m 373ms/step - accuracy: 0.4472 - loss: 2.9758 - val_accuracy: 0.4855 - val_loss: 2.7496 - learning_rate: 0.0010\n",
      "Epoch 9/30\n",
      "\u001b[1m116/116\u001b[0m \u001b[32m━━━━━━━━━━━━━━━━━━━━\u001b[0m\u001b[37m\u001b[0m \u001b[1m43s\u001b[0m 373ms/step - accuracy: 0.4916 - loss: 2.7816 - val_accuracy: 0.4653 - val_loss: 2.7315 - learning_rate: 0.0010\n",
      "Epoch 10/30\n",
      "\u001b[1m116/116\u001b[0m \u001b[32m━━━━━━━━━━━━━━━━━━━━\u001b[0m\u001b[37m\u001b[0m \u001b[1m43s\u001b[0m 370ms/step - accuracy: 0.5135 - loss: 2.6380 - val_accuracy: 0.4668 - val_loss: 2.8944 - learning_rate: 0.0010\n",
      "Epoch 11/30\n",
      "\u001b[1m116/116\u001b[0m \u001b[32m━━━━━━━━━━━━━━━━━━━━\u001b[0m\u001b[37m\u001b[0m \u001b[1m43s\u001b[0m 373ms/step - accuracy: 0.5297 - loss: 2.5102 - val_accuracy: 0.5101 - val_loss: 2.5232 - learning_rate: 0.0010\n",
      "Epoch 12/30\n",
      "\u001b[1m116/116\u001b[0m \u001b[32m━━━━━━━━━━━━━━━━━━━━\u001b[0m\u001b[37m\u001b[0m \u001b[1m43s\u001b[0m 369ms/step - accuracy: 0.5844 - loss: 2.3704 - val_accuracy: 0.4205 - val_loss: 3.2861 - learning_rate: 0.0010\n",
      "Epoch 13/30\n",
      "\u001b[1m116/116\u001b[0m \u001b[32m━━━━━━━━━━━━━━━━━━━━\u001b[0m\u001b[37m\u001b[0m \u001b[1m43s\u001b[0m 369ms/step - accuracy: 0.5562 - loss: 2.4414 - val_accuracy: 0.4711 - val_loss: 2.9101 - learning_rate: 0.0010\n",
      "Epoch 14/30\n",
      "\u001b[1m116/116\u001b[0m \u001b[32m━━━━━━━━━━━━━━━━━━━━\u001b[0m\u001b[37m\u001b[0m \u001b[1m43s\u001b[0m 372ms/step - accuracy: 0.5884 - loss: 2.4523 - val_accuracy: 0.6329 - val_loss: 2.2542 - learning_rate: 0.0010\n",
      "Epoch 15/30\n",
      "\u001b[1m116/116\u001b[0m \u001b[32m━━━━━━━━━━━━━━━━━━━━\u001b[0m\u001b[37m\u001b[0m \u001b[1m43s\u001b[0m 369ms/step - accuracy: 0.5853 - loss: 2.4095 - val_accuracy: 0.5303 - val_loss: 2.6156 - learning_rate: 0.0010\n",
      "Epoch 16/30\n",
      "\u001b[1m116/116\u001b[0m \u001b[32m━━━━━━━━━━━━━━━━━━━━\u001b[0m\u001b[37m\u001b[0m \u001b[1m43s\u001b[0m 369ms/step - accuracy: 0.5983 - loss: 2.3332 - val_accuracy: 0.6272 - val_loss: 2.3639 - learning_rate: 0.0010\n",
      "Epoch 17/30\n",
      "\u001b[1m116/116\u001b[0m \u001b[32m━━━━━━━━━━━━━━━━━━━━\u001b[0m\u001b[37m\u001b[0m \u001b[1m43s\u001b[0m 369ms/step - accuracy: 0.6043 - loss: 2.4434 - val_accuracy: 0.5506 - val_loss: 2.5472 - learning_rate: 0.0010\n",
      "Epoch 18/30\n",
      "\u001b[1m116/116\u001b[0m \u001b[32m━━━━━━━━━━━━━━━━━━━━\u001b[0m\u001b[37m\u001b[0m \u001b[1m43s\u001b[0m 373ms/step - accuracy: 0.6682 - loss: 2.1526 - val_accuracy: 0.6864 - val_loss: 1.7820 - learning_rate: 5.0000e-04\n",
      "Epoch 19/30\n",
      "\u001b[1m116/116\u001b[0m \u001b[32m━━━━━━━━━━━━━━━━━━━━\u001b[0m\u001b[37m\u001b[0m \u001b[1m43s\u001b[0m 369ms/step - accuracy: 0.7253 - loss: 1.7851 - val_accuracy: 0.6590 - val_loss: 1.8513 - learning_rate: 5.0000e-04\n",
      "Epoch 20/30\n",
      "\u001b[1m116/116\u001b[0m \u001b[32m━━━━━━━━━━━━━━━━━━━━\u001b[0m\u001b[37m\u001b[0m \u001b[1m43s\u001b[0m 370ms/step - accuracy: 0.7412 - loss: 1.5817 - val_accuracy: 0.6171 - val_loss: 2.0155 - learning_rate: 5.0000e-04\n",
      "Epoch 21/30\n",
      "\u001b[1m116/116\u001b[0m \u001b[32m━━━━━━━━━━━━━━━━━━━━\u001b[0m\u001b[37m\u001b[0m \u001b[1m43s\u001b[0m 372ms/step - accuracy: 0.7307 - loss: 1.5471 - val_accuracy: 0.7601 - val_loss: 1.5257 - learning_rate: 5.0000e-04\n",
      "Epoch 22/30\n",
      "\u001b[1m116/116\u001b[0m \u001b[32m━━━━━━━━━━━━━━━━━━━━\u001b[0m\u001b[37m\u001b[0m \u001b[1m43s\u001b[0m 370ms/step - accuracy: 0.7470 - loss: 1.5144 - val_accuracy: 0.6676 - val_loss: 1.7906 - learning_rate: 5.0000e-04\n",
      "Epoch 23/30\n",
      "\u001b[1m116/116\u001b[0m \u001b[32m━━━━━━━━━━━━━━━━━━━━\u001b[0m\u001b[37m\u001b[0m \u001b[1m43s\u001b[0m 369ms/step - accuracy: 0.7459 - loss: 1.5165 - val_accuracy: 0.7413 - val_loss: 1.5540 - learning_rate: 5.0000e-04\n",
      "Epoch 24/30\n",
      "\u001b[1m116/116\u001b[0m \u001b[32m━━━━━━━━━━━━━━━━━━━━\u001b[0m\u001b[37m\u001b[0m \u001b[1m43s\u001b[0m 369ms/step - accuracy: 0.7698 - loss: 1.4384 - val_accuracy: 0.5737 - val_loss: 2.2303 - learning_rate: 5.0000e-04\n",
      "Epoch 25/30\n",
      "\u001b[1m116/116\u001b[0m \u001b[32m━━━━━━━━━━━━━━━━━━━━\u001b[0m\u001b[37m\u001b[0m \u001b[1m43s\u001b[0m 373ms/step - accuracy: 0.7961 - loss: 1.3480 - val_accuracy: 0.7934 - val_loss: 1.2925 - learning_rate: 2.5000e-04\n",
      "Epoch 26/30\n",
      "\u001b[1m116/116\u001b[0m \u001b[32m━━━━━━━━━━━━━━━━━━━━\u001b[0m\u001b[37m\u001b[0m \u001b[1m43s\u001b[0m 374ms/step - accuracy: 0.8383 - loss: 1.1449 - val_accuracy: 0.7890 - val_loss: 1.1891 - learning_rate: 2.5000e-04\n",
      "Epoch 27/30\n",
      "\u001b[1m116/116\u001b[0m \u001b[32m━━━━━━━━━━━━━━━━━━━━\u001b[0m\u001b[37m\u001b[0m \u001b[1m43s\u001b[0m 373ms/step - accuracy: 0.8530 - loss: 1.0509 - val_accuracy: 0.8439 - val_loss: 1.0652 - learning_rate: 2.5000e-04\n",
      "Epoch 28/30\n",
      "\u001b[1m116/116\u001b[0m \u001b[32m━━━━━━━━━━━━━━━━━━━━\u001b[0m\u001b[37m\u001b[0m \u001b[1m43s\u001b[0m 369ms/step - accuracy: 0.8440 - loss: 1.0325 - val_accuracy: 0.7818 - val_loss: 1.1794 - learning_rate: 2.5000e-04\n",
      "Epoch 29/30\n",
      "\u001b[1m116/116\u001b[0m \u001b[32m━━━━━━━━━━━━━━━━━━━━\u001b[0m\u001b[37m\u001b[0m \u001b[1m43s\u001b[0m 369ms/step - accuracy: 0.8628 - loss: 0.9744 - val_accuracy: 0.8237 - val_loss: 1.0656 - learning_rate: 2.5000e-04\n",
      "Epoch 30/30\n",
      "\u001b[1m116/116\u001b[0m \u001b[32m━━━━━━━━━━━━━━━━━━━━\u001b[0m\u001b[37m\u001b[0m \u001b[1m43s\u001b[0m 370ms/step - accuracy: 0.8768 - loss: 0.9409 - val_accuracy: 0.7760 - val_loss: 1.1167 - learning_rate: 2.5000e-04\n"
     ]
    }
   ],
   "source": [
    "# Import necessary libraries\n",
    "from tensorflow.keras.applications import InceptionResNetV2\n",
    "from tensorflow.keras.models import Sequential\n",
    "from tensorflow.keras.layers import TimeDistributed, GlobalAveragePooling2D, LSTM, Dropout, Dense, BatchNormalization, Bidirectional\n",
    "from tensorflow.keras.regularizers import l2\n",
    "from tensorflow.keras.callbacks import EarlyStopping, ReduceLROnPlateau\n",
    "from tensorflow.keras.utils import to_categorical\n",
    "import tensorflow as tf\n",
    "import numpy as np\n",
    "import gc\n",
    "\n",
    "# Clear memory before creating the new model\n",
    "gc.collect()\n",
    "tf.keras.backend.clear_session()\n",
    "print(\"Memory cleared before creating InceptionResNetV2+LSTM model\")\n",
    "\n",
    "# Print TensorFlow version\n",
    "print(f\"TensorFlow version: {tf.__version__}\")\n",
    "\n",
    "# Pre-load InceptionResNetV2 weights\n",
    "print(\"Pre-loading InceptionResNetV2 weights...\")\n",
    "try:\n",
    "    base_model = InceptionResNetV2(weights='imagenet', include_top=False, input_shape=(IMAGE_HEIGHT, IMAGE_WIDTH, 3))\n",
    "    print(\"InceptionResNetV2 weights loaded successfully!\")\n",
    "except Exception as e:\n",
    "    print(f\"Failed to load InceptionResNetV2 weights: {str(e)}\")\n",
    "    print(\"Falling back to initializing InceptionResNetV2 without pre-trained weights...\")\n",
    "    base_model = InceptionResNetV2(weights=None, include_top=False, input_shape=(IMAGE_HEIGHT, IMAGE_WIDTH, 3))\n",
    "\n",
    "# Define function to create InceptionResNetV2+LSTM model\n",
    "def create_model(sequence_length, image_height, image_width, classes_list=None, dropout_rate=0.5, base_model=None):\n",
    "    print(\"Creating InceptionResNetV2+LSTM model with parameters:\")\n",
    "    print(f\"sequence_length: {sequence_length}, image_height: {image_height}, image_width: {image_width}, classes_list length: {len(classes_list) if classes_list is not None else None}, dropout_rate: {dropout_rate}\")\n",
    "    \n",
    "    if classes_list is None:\n",
    "        raise ValueError(\"classes_list must be provided to define the output layer size\")\n",
    "    if base_model is None:\n",
    "        raise ValueError(\"base_model must be provided to avoid re-downloading weights\")\n",
    "\n",
    "    try:\n",
    "        # Use the pre-loaded base model\n",
    "        # Freeze the base model for initial training\n",
    "        base_model.trainable = False\n",
    "\n",
    "        # Define the Sequential model\n",
    "        model = Sequential([\n",
    "            # TimeDistributed InceptionResNetV2 model\n",
    "            TimeDistributed(\n",
    "                base_model,\n",
    "                input_shape=(sequence_length, image_height, image_width, 3),\n",
    "                name=\"time_distributed_InceptionResNetV2\"\n",
    "            ),\n",
    "            # TimeDistributed GlobalAveragePooling2D\n",
    "            TimeDistributed(GlobalAveragePooling2D(), name=\"time_distributed_pooling\"),\n",
    "            # LSTM layer with 512 units\n",
    "            Bidirectional(LSTM(256, activation=\"tanh\", return_sequences=False, kernel_regularizer=l2(0.01), name=\"lstm_InceptionResNetV2\")),\n",
    "            BatchNormalization(name=\"batch_normalization_InceptionResNetV2\"),\n",
    "            # Dropout after LSTM\n",
    "            Dropout(dropout_rate, name=\"dropout_lstm_InceptionResNetV2\"),\n",
    "            # Dense layer with 512 units\n",
    "            Dense(512, activation=\"relu\", kernel_regularizer=l2(0.01), name=\"dense_InceptionResNetV2_1\"),\n",
    "            # Dropout after first Dense\n",
    "            Dropout(dropout_rate, name=\"dropout_dense_InceptionResNetV2_1\"),\n",
    "            # Dense layer with 128 units\n",
    "            Dense(128, activation=\"relu\", kernel_regularizer=l2(0.01), name=\"dense_InceptionResNetV2_2\"),\n",
    "            # Dropout after second Dense\n",
    "            Dropout(dropout_rate, name=\"dropout_dense_InceptionResNetV2_2\"),\n",
    "            # Output Dense layer with softmax activation\n",
    "            Dense(len(classes_list), activation=\"softmax\", name=\"output_InceptionResNetV2\")\n",
    "        ])\n",
    "\n",
    "        # Print model summary\n",
    "        print(\"InceptionResNetV2+LSTM model architecture created successfully!\")\n",
    "        model.summary()\n",
    "\n",
    "        return model\n",
    "\n",
    "    except Exception as e:\n",
    "        print(f\"Error creating InceptionResNetV2+LSTM model: {str(e)}\")\n",
    "        import traceback\n",
    "        traceback.print_exc()\n",
    "        return None\n",
    "\n",
    "# Create the InceptionResNetV2+LSTM model using the pre-loaded base model\n",
    "model = create_model(\n",
    "    sequence_length=SEQUENCE_LENGTH,\n",
    "    image_height=IMAGE_HEIGHT,\n",
    "    image_width=IMAGE_WIDTH,\n",
    "    classes_list=CLASSES_LIST,\n",
    "    dropout_rate=DROPOUT_RATE,\n",
    "    base_model=base_model\n",
    ")\n",
    "\n",
    "# Check if model was created successfully\n",
    "if model is None:\n",
    "    raise ValueError(\"Failed to create InceptionResNetV2+LSTM model. Check error messages above.\")\n",
    "else:\n",
    "    print(\"InceptionResNetV2+LSTM Model Created Successfully!\")\n",
    "\n",
    "# Plot the model structure\n",
    "from tensorflow.keras.utils import plot_model\n",
    "try:\n",
    "    plot_model(model, to_file=f'{MODEL_NAME}_model_Plot.png', show_shapes=True, show_layer_names=True)\n",
    "    print(f\"{MODEL_NAME}_InceptionResNetV2_LSTM Model Plot saved successfully...\")\n",
    "except Exception as e:\n",
    "    print(f\"Failed to plot model: {str(e)}\")\n",
    "\n",
    "# Verify data shapes\n",
    "print(f\"train_gen.videos shape: {np.shape(train_gen.videos)}\")\n",
    "print(f\"train_gen.labels shape: {np.shape(train_gen.labels)}\")\n",
    "print(f\"val_gen.videos shape: {np.shape(val_gen.videos)}\")\n",
    "print(f\"val_gen.labels shape: {np.shape(val_gen.labels)}\")\n",
    "print(f\"features_test shape: {np.shape(features_test)}\")\n",
    "print(f\"labels_test shape: {np.shape(labels_test)}\")\n",
    "\n",
    "# Ensure labels_test is one-hot encoded\n",
    "if len(labels_test.shape) == 1:\n",
    "    print(\"Converting labels_test to one-hot encoded format...\")\n",
    "    labels_test = to_categorical(labels_test, num_classes=NO_OF_CLASSES)\n",
    "    print(f\"New labels_test shape: {labels_test.shape}\")\n",
    "\n",
    "# Verify generator batch shapes\n",
    "try:\n",
    "    videos, labels = train_gen[0]\n",
    "    print(f\"train_gen batch videos shape: {videos.shape}\")\n",
    "    print(f\"train_gen batch labels shape: {labels.shape}\")\n",
    "    videos, labels = val_gen[0]\n",
    "    print(f\"val_gen batch videos shape: {videos.shape}\")\n",
    "    print(f\"val_gen batch labels shape: {labels.shape}\")\n",
    "except Exception as e:\n",
    "    print(f\"Error accessing generator data: {str(e)}\")\n",
    "\n",
    "# Compile the model for initial training\n",
    "early_stopping_callback = EarlyStopping(monitor='val_loss', patience=7, mode='min', restore_best_weights=True)\n",
    "lr_scheduler = ReduceLROnPlateau(monitor='val_loss', factor=0.5, patience=3, min_lr=1e-6)\n",
    "\n",
    "model.compile(\n",
    "    loss='categorical_crossentropy',\n",
    "    optimizer=tf.keras.optimizers.Adam(learning_rate=0.001),  # Higher learning rate for initial training\n",
    "    metrics=['accuracy']\n",
    ")\n",
    "\n",
    "# Print dataset summary\n",
    "print(f\"Dataset - {DATASET_NAME}\")\n",
    "print(f\"There are total {len(ALL_CLASS_NAMES)} classes, selected {NO_OF_CLASSES} classes\")\n",
    "print(f\"Setting {MAX_VIDEO_PER_CLASS} videos/class to train the model.\")\n",
    "print(f\"Image size {IMAGE_HEIGHT}x{IMAGE_WIDTH} with {SEQUENCE_LENGTH} sequence length\")\n",
    "print(f\"Dropout rate: {DROPOUT_RATE}\")\n",
    "print(f\"Train-Test split ratio {int((1-TEST_SIZE)*100)}/{int(TEST_SIZE*100)}\")\n",
    "print(f\"Validation data from Train set {VALIDATION_SPLIT*100}%\")\n",
    "print(\"\\n\")\n",
    "\n",
    "# Initial training with frozen base model\n",
    "print(f\"Initial training started for InceptionResNetV2+LSTM model with {len(train_gen.videos)} videos of {NO_OF_CLASSES} classes with {len(val_gen.videos)} videos for validation...\")\n",
    "try:\n",
    "    initial_model_history = model.fit(\n",
    "        train_gen.as_dataset(),\n",
    "        validation_data=val_gen.as_dataset(),\n",
    "        epochs=EPOCHS,\n",
    "        class_weight=class_weights,\n",
    "        callbacks=[early_stopping_callback, lr_scheduler]\n",
    "    )\n",
    "except Exception as e:\n",
    "    print(f\"Error during initial model training: {str(e)}\")\n",
    "    import traceback\n",
    "    traceback.print_exc()\n"
   ]
  },
  {
   "cell_type": "code",
   "execution_count": 42,
   "id": "2afb2bfd",
   "metadata": {
    "execution": {
     "iopub.execute_input": "2025-07-12T16:11:16.188473Z",
     "iopub.status.busy": "2025-07-12T16:11:16.187956Z",
     "iopub.status.idle": "2025-07-12T16:36:19.633598Z",
     "shell.execute_reply": "2025-07-12T16:36:19.632803Z"
    },
    "papermill": {
     "duration": 1503.665147,
     "end_time": "2025-07-12T16:36:19.634865",
     "exception": false,
     "start_time": "2025-07-12T16:11:15.969718",
     "status": "completed"
    },
    "tags": []
   },
   "outputs": [
    {
     "name": "stdout",
     "output_type": "stream",
     "text": [
      "\n",
      "Fine-tuning started for InceptionResNetV2+LSTM model with 2764 videos of 18 classes with 692 videos for validation...\n",
      "Epoch 1/30\n",
      "\u001b[1m116/116\u001b[0m \u001b[32m━━━━━━━━━━━━━━━━━━━━\u001b[0m\u001b[37m\u001b[0m \u001b[1m208s\u001b[0m 747ms/step - accuracy: 0.7898 - loss: 1.2154 - val_accuracy: 0.8295 - val_loss: 1.0741 - learning_rate: 1.0000e-04\n",
      "Epoch 2/30\n",
      "\u001b[1m116/116\u001b[0m \u001b[32m━━━━━━━━━━━━━━━━━━━━\u001b[0m\u001b[37m\u001b[0m \u001b[1m45s\u001b[0m 390ms/step - accuracy: 0.8497 - loss: 1.0079 - val_accuracy: 0.8685 - val_loss: 0.9264 - learning_rate: 1.0000e-04\n",
      "Epoch 3/30\n",
      "\u001b[1m116/116\u001b[0m \u001b[32m━━━━━━━━━━━━━━━━━━━━\u001b[0m\u001b[37m\u001b[0m \u001b[1m44s\u001b[0m 376ms/step - accuracy: 0.9073 - loss: 0.8381 - val_accuracy: 0.8671 - val_loss: 0.9348 - learning_rate: 1.0000e-04\n",
      "Epoch 4/30\n",
      "\u001b[1m116/116\u001b[0m \u001b[32m━━━━━━━━━━━━━━━━━━━━\u001b[0m\u001b[37m\u001b[0m \u001b[1m45s\u001b[0m 385ms/step - accuracy: 0.9273 - loss: 0.7785 - val_accuracy: 0.8916 - val_loss: 0.8270 - learning_rate: 1.0000e-04\n",
      "Epoch 5/30\n",
      "\u001b[1m116/116\u001b[0m \u001b[32m━━━━━━━━━━━━━━━━━━━━\u001b[0m\u001b[37m\u001b[0m \u001b[1m44s\u001b[0m 379ms/step - accuracy: 0.9329 - loss: 0.7508 - val_accuracy: 0.8699 - val_loss: 0.8641 - learning_rate: 1.0000e-04\n",
      "Epoch 6/30\n",
      "\u001b[1m116/116\u001b[0m \u001b[32m━━━━━━━━━━━━━━━━━━━━\u001b[0m\u001b[37m\u001b[0m \u001b[1m44s\u001b[0m 383ms/step - accuracy: 0.9281 - loss: 0.7358 - val_accuracy: 0.8974 - val_loss: 0.7752 - learning_rate: 1.0000e-04\n",
      "Epoch 7/30\n",
      "\u001b[1m116/116\u001b[0m \u001b[32m━━━━━━━━━━━━━━━━━━━━\u001b[0m\u001b[37m\u001b[0m \u001b[1m45s\u001b[0m 384ms/step - accuracy: 0.9563 - loss: 0.6497 - val_accuracy: 0.8931 - val_loss: 0.7614 - learning_rate: 1.0000e-04\n",
      "Epoch 8/30\n",
      "\u001b[1m116/116\u001b[0m \u001b[32m━━━━━━━━━━━━━━━━━━━━\u001b[0m\u001b[37m\u001b[0m \u001b[1m44s\u001b[0m 384ms/step - accuracy: 0.9684 - loss: 0.6040 - val_accuracy: 0.9003 - val_loss: 0.7399 - learning_rate: 1.0000e-04\n",
      "Epoch 9/30\n",
      "\u001b[1m116/116\u001b[0m \u001b[32m━━━━━━━━━━━━━━━━━━━━\u001b[0m\u001b[37m\u001b[0m \u001b[1m44s\u001b[0m 384ms/step - accuracy: 0.9626 - loss: 0.5936 - val_accuracy: 0.9118 - val_loss: 0.7377 - learning_rate: 1.0000e-04\n",
      "Epoch 10/30\n",
      "\u001b[1m116/116\u001b[0m \u001b[32m━━━━━━━━━━━━━━━━━━━━\u001b[0m\u001b[37m\u001b[0m \u001b[1m44s\u001b[0m 383ms/step - accuracy: 0.9738 - loss: 0.5372 - val_accuracy: 0.9032 - val_loss: 0.6605 - learning_rate: 1.0000e-04\n",
      "Epoch 11/30\n",
      "\u001b[1m116/116\u001b[0m \u001b[32m━━━━━━━━━━━━━━━━━━━━\u001b[0m\u001b[37m\u001b[0m \u001b[1m44s\u001b[0m 383ms/step - accuracy: 0.9788 - loss: 0.5169 - val_accuracy: 0.9104 - val_loss: 0.6444 - learning_rate: 1.0000e-04\n",
      "Epoch 12/30\n",
      "\u001b[1m116/116\u001b[0m \u001b[32m━━━━━━━━━━━━━━━━━━━━\u001b[0m\u001b[37m\u001b[0m \u001b[1m44s\u001b[0m 380ms/step - accuracy: 0.9868 - loss: 0.4820 - val_accuracy: 0.8916 - val_loss: 0.7177 - learning_rate: 1.0000e-04\n",
      "Epoch 13/30\n",
      "\u001b[1m116/116\u001b[0m \u001b[32m━━━━━━━━━━━━━━━━━━━━\u001b[0m\u001b[37m\u001b[0m \u001b[1m44s\u001b[0m 384ms/step - accuracy: 0.9729 - loss: 0.4887 - val_accuracy: 0.9176 - val_loss: 0.6307 - learning_rate: 1.0000e-04\n",
      "Epoch 14/30\n",
      "\u001b[1m116/116\u001b[0m \u001b[32m━━━━━━━━━━━━━━━━━━━━\u001b[0m\u001b[37m\u001b[0m \u001b[1m44s\u001b[0m 379ms/step - accuracy: 0.9820 - loss: 0.4697 - val_accuracy: 0.8786 - val_loss: 0.6992 - learning_rate: 1.0000e-04\n",
      "Epoch 15/30\n",
      "\u001b[1m116/116\u001b[0m \u001b[32m━━━━━━━━━━━━━━━━━━━━\u001b[0m\u001b[37m\u001b[0m \u001b[1m44s\u001b[0m 382ms/step - accuracy: 0.9738 - loss: 0.4599 - val_accuracy: 0.9046 - val_loss: 0.6270 - learning_rate: 1.0000e-04\n",
      "Epoch 16/30\n",
      "\u001b[1m116/116\u001b[0m \u001b[32m━━━━━━━━━━━━━━━━━━━━\u001b[0m\u001b[37m\u001b[0m \u001b[1m44s\u001b[0m 382ms/step - accuracy: 0.9847 - loss: 0.4229 - val_accuracy: 0.9046 - val_loss: 0.5942 - learning_rate: 1.0000e-04\n",
      "Epoch 17/30\n",
      "\u001b[1m116/116\u001b[0m \u001b[32m━━━━━━━━━━━━━━━━━━━━\u001b[0m\u001b[37m\u001b[0m \u001b[1m44s\u001b[0m 383ms/step - accuracy: 0.9880 - loss: 0.4023 - val_accuracy: 0.9133 - val_loss: 0.5539 - learning_rate: 1.0000e-04\n",
      "Epoch 18/30\n",
      "\u001b[1m116/116\u001b[0m \u001b[32m━━━━━━━━━━━━━━━━━━━━\u001b[0m\u001b[37m\u001b[0m \u001b[1m44s\u001b[0m 383ms/step - accuracy: 0.9913 - loss: 0.3857 - val_accuracy: 0.9379 - val_loss: 0.5043 - learning_rate: 1.0000e-04\n",
      "Epoch 19/30\n",
      "\u001b[1m116/116\u001b[0m \u001b[32m━━━━━━━━━━━━━━━━━━━━\u001b[0m\u001b[37m\u001b[0m \u001b[1m44s\u001b[0m 380ms/step - accuracy: 0.9908 - loss: 0.3752 - val_accuracy: 0.9263 - val_loss: 0.5432 - learning_rate: 1.0000e-04\n",
      "Epoch 20/30\n",
      "\u001b[1m116/116\u001b[0m \u001b[32m━━━━━━━━━━━━━━━━━━━━\u001b[0m\u001b[37m\u001b[0m \u001b[1m44s\u001b[0m 379ms/step - accuracy: 0.9852 - loss: 0.3730 - val_accuracy: 0.9147 - val_loss: 0.5324 - learning_rate: 1.0000e-04\n",
      "Epoch 21/30\n",
      "\u001b[1m116/116\u001b[0m \u001b[32m━━━━━━━━━━━━━━━━━━━━\u001b[0m\u001b[37m\u001b[0m \u001b[1m44s\u001b[0m 380ms/step - accuracy: 0.9904 - loss: 0.3502 - val_accuracy: 0.9205 - val_loss: 0.5107 - learning_rate: 1.0000e-04\n",
      "Epoch 22/30\n",
      "\u001b[1m116/116\u001b[0m \u001b[32m━━━━━━━━━━━━━━━━━━━━\u001b[0m\u001b[37m\u001b[0m \u001b[1m44s\u001b[0m 383ms/step - accuracy: 0.9923 - loss: 0.3321 - val_accuracy: 0.9393 - val_loss: 0.4371 - learning_rate: 5.0000e-05\n",
      "Epoch 23/30\n",
      "\u001b[1m116/116\u001b[0m \u001b[32m━━━━━━━━━━━━━━━━━━━━\u001b[0m\u001b[37m\u001b[0m \u001b[1m44s\u001b[0m 383ms/step - accuracy: 0.9957 - loss: 0.3112 - val_accuracy: 0.9408 - val_loss: 0.4208 - learning_rate: 5.0000e-05\n",
      "Epoch 24/30\n",
      "\u001b[1m116/116\u001b[0m \u001b[32m━━━━━━━━━━━━━━━━━━━━\u001b[0m\u001b[37m\u001b[0m \u001b[1m44s\u001b[0m 383ms/step - accuracy: 0.9980 - loss: 0.2935 - val_accuracy: 0.9393 - val_loss: 0.4118 - learning_rate: 5.0000e-05\n",
      "Epoch 25/30\n",
      "\u001b[1m116/116\u001b[0m \u001b[32m━━━━━━━━━━━━━━━━━━━━\u001b[0m\u001b[37m\u001b[0m \u001b[1m44s\u001b[0m 382ms/step - accuracy: 0.9971 - loss: 0.2856 - val_accuracy: 0.9306 - val_loss: 0.4091 - learning_rate: 5.0000e-05\n",
      "Epoch 26/30\n",
      "\u001b[1m116/116\u001b[0m \u001b[32m━━━━━━━━━━━━━━━━━━━━\u001b[0m\u001b[37m\u001b[0m \u001b[1m44s\u001b[0m 380ms/step - accuracy: 0.9965 - loss: 0.2800 - val_accuracy: 0.9335 - val_loss: 0.4135 - learning_rate: 5.0000e-05\n",
      "Epoch 27/30\n",
      "\u001b[1m116/116\u001b[0m \u001b[32m━━━━━━━━━━━━━━━━━━━━\u001b[0m\u001b[37m\u001b[0m \u001b[1m44s\u001b[0m 383ms/step - accuracy: 0.9945 - loss: 0.2759 - val_accuracy: 0.9422 - val_loss: 0.3779 - learning_rate: 5.0000e-05\n",
      "Epoch 28/30\n",
      "\u001b[1m116/116\u001b[0m \u001b[32m━━━━━━━━━━━━━━━━━━━━\u001b[0m\u001b[37m\u001b[0m \u001b[1m44s\u001b[0m 383ms/step - accuracy: 0.9976 - loss: 0.2638 - val_accuracy: 0.9364 - val_loss: 0.3759 - learning_rate: 5.0000e-05\n",
      "Epoch 29/30\n",
      "\u001b[1m116/116\u001b[0m \u001b[32m━━━━━━━━━━━━━━━━━━━━\u001b[0m\u001b[37m\u001b[0m \u001b[1m44s\u001b[0m 378ms/step - accuracy: 0.9945 - loss: 0.2648 - val_accuracy: 0.9451 - val_loss: 0.3860 - learning_rate: 5.0000e-05\n",
      "Epoch 30/30\n",
      "\u001b[1m116/116\u001b[0m \u001b[32m━━━━━━━━━━━━━━━━━━━━\u001b[0m\u001b[37m\u001b[0m \u001b[1m44s\u001b[0m 379ms/step - accuracy: 0.9961 - loss: 0.2603 - val_accuracy: 0.9321 - val_loss: 0.3950 - learning_rate: 5.0000e-05\n",
      "\n",
      "Evaluating InceptionResNetV2+LSTM model on test set...\n",
      "Total 864 videos and 864 classes\n",
      "test_gen batch videos shape: (24, 5, 128, 128, 3)\n",
      "test_gen batch labels shape: (24, 18)\n",
      "\u001b[1m36/36\u001b[0m \u001b[32m━━━━━━━━━━━━━━━━━━━━\u001b[0m\u001b[37m\u001b[0m \u001b[1m10s\u001b[0m 291ms/step - accuracy: 0.9687 - loss: 0.3276\n",
      "InceptionResNetV2+LSTM Test Loss: 0.3324\n",
      "InceptionResNetV2+LSTM Test Accuracy: 96.06%\n"
     ]
    }
   ],
   "source": [
    "\n",
    "# Unfreeze some layers for fine-tuning\n",
    "base_model.trainable = True\n",
    "# Freeze all layers except the last 8 layers (consistent with previous InceptionResNetV2 code)\n",
    "for layer in base_model.layers[:-8]:\n",
    "    layer.trainable = False\n",
    "\n",
    "# Recompile the model with a lower learning rate for fine-tuning\n",
    "model.compile(\n",
    "    loss='categorical_crossentropy',\n",
    "    optimizer=tf.keras.optimizers.Adam(learning_rate=0.0001),  # Lower learning rate for fine-tuning\n",
    "    metrics=['accuracy']\n",
    ")\n",
    "\n",
    "# Fine-tune the model\n",
    "print(f\"\\nFine-tuning started for InceptionResNetV2+LSTM model with {len(train_gen.videos)} videos of {NO_OF_CLASSES} classes with {len(val_gen.videos)} videos for validation...\")\n",
    "try:\n",
    "    fine_tune_model_history = model.fit(\n",
    "        train_gen.as_dataset(),\n",
    "        validation_data=val_gen.as_dataset(),\n",
    "        epochs=EPOCHS,\n",
    "        class_weight=class_weights,\n",
    "        callbacks=[early_stopping_callback, lr_scheduler]\n",
    "    )\n",
    "except Exception as e:\n",
    "    print(f\"Error during fine-tuning: {str(e)}\")\n",
    "    import traceback\n",
    "    traceback.print_exc()\n",
    "\n",
    "# Evaluate the model on the test set\n",
    "print(\"\\nEvaluating InceptionResNetV2+LSTM model on test set...\")\n",
    "test_gen = VideoDataGenerator(\n",
    "    videos=features_test,\n",
    "    labels=labels_test,\n",
    "    batch_size=BATCH_SIZE\n",
    ")\n",
    "try:\n",
    "    videos, labels = test_gen[0]\n",
    "    print(f\"test_gen batch videos shape: {videos.shape}\")\n",
    "    print(f\"test_gen batch labels shape: {labels.shape}\")\n",
    "    loss, accuracy = model.evaluate(test_gen.as_dataset())\n",
    "    print(f'InceptionResNetV2+LSTM Test Loss: {loss:.4f}')\n",
    "    print(f'InceptionResNetV2+LSTM Test Accuracy: {accuracy * 100:.2f}%')\n",
    "except Exception as e:\n",
    "    print(f\"Error during model evaluation: {str(e)}\")\n",
    "    import traceback\n",
    "    traceback.print_exc()\n"
   ]
  },
  {
   "cell_type": "code",
   "execution_count": 43,
   "id": "33ab0a11",
   "metadata": {
    "execution": {
     "iopub.execute_input": "2025-07-12T16:36:20.338626Z",
     "iopub.status.busy": "2025-07-12T16:36:20.338018Z",
     "iopub.status.idle": "2025-07-12T16:37:12.215006Z",
     "shell.execute_reply": "2025-07-12T16:37:12.214262Z"
    },
    "papermill": {
     "duration": 52.199677,
     "end_time": "2025-07-12T16:37:12.216757",
     "exception": false,
     "start_time": "2025-07-12T16:36:20.017080",
     "status": "completed"
    },
    "tags": []
   },
   "outputs": [
    {
     "data": {
      "image/png": "[encoded data removed]",
      "text/plain": [
       "<Figure size 1200x500 with 2 Axes>"
      ]
     },
     "metadata": {},
     "output_type": "display_data"
    },
    {
     "name": "stdout",
     "output_type": "stream",
     "text": [
      "\u001b[1m36/36\u001b[0m \u001b[32m━━━━━━━━━━━━━━━━━━━━\u001b[0m\u001b[37m\u001b[0m \u001b[1m50s\u001b[0m 287ms/step\n",
      "True classes shape: (864,)\n",
      "Predicted classes shape: (864,)\n",
      "\n",
      "InceptionResNetV2+LSTM Classification Report:\n",
      "                     precision    recall  f1-score   support\n",
      "\n",
      "          Catch Cap       1.00      1.00      1.00        54\n",
      "              Drink       0.97      1.00      0.98        59\n",
      "           Sit down       1.00      1.00      1.00        40\n",
      "          Draw Tick       0.86      0.94      0.90        47\n",
      "         Phone Call       1.00      1.00      1.00        49\n",
      "Horizontal arm wave       0.96      0.87      0.91        52\n",
      "          Hand Clap       1.00      0.98      0.99        53\n",
      "         High throw       0.88      0.88      0.88        50\n",
      "       Forward Kick       0.92      0.98      0.95        45\n",
      "           Stand up       1.00      1.00      1.00        34\n",
      "      Two hand wave       1.00      1.00      1.00        35\n",
      "         Toss Paper       0.95      0.98      0.96        42\n",
      "               Walk       1.00      0.98      0.99        57\n",
      "          Side Kick       1.00      0.98      0.99        56\n",
      "               Bend       1.00      0.98      0.99        42\n",
      "      Take Umbrella       1.00      1.00      1.00        55\n",
      "      High arm wave       0.87      0.96      0.91        49\n",
      "             Draw X       0.90      0.78      0.83        45\n",
      "\n",
      "           accuracy                           0.96       864\n",
      "          macro avg       0.96      0.96      0.96       864\n",
      "       weighted avg       0.96      0.96      0.96       864\n",
      "\n"
     ]
    },
    {
     "name": "stderr",
     "output_type": "stream",
     "text": [
      "/usr/local/lib/python3.11/dist-packages/keras/src/trainers/epoch_iterator.py:151: UserWarning: Your input ran out of data; interrupting training. Make sure that your dataset or generator can generate at least `steps_per_epoch * epochs` batches. You may need to use the `.repeat()` function when building your dataset.\n",
      "  self._interrupted_warning()\n"
     ]
    },
    {
     "data": {
      "image/png": "[encoded data removed]",
      "text/plain": [
       "<Figure size 800x600 with 2 Axes>"
      ]
     },
     "metadata": {},
     "output_type": "display_data"
    }
   ],
   "source": [
    "\n",
    "# Plot training history (combine initial and fine-tuning)\n",
    "import matplotlib.pyplot as plt\n",
    "\n",
    "try:\n",
    "    # Combine histories\n",
    "    history_accuracy = initial_model_history.history['accuracy'] + fine_tune_model_history.history['accuracy']\n",
    "    history_val_accuracy = initial_model_history.history['val_accuracy'] + fine_tune_model_history.history['val_accuracy']\n",
    "    history_loss = initial_model_history.history['loss'] + fine_tune_model_history.history['loss']\n",
    "    history_val_loss = initial_model_history.history['val_loss'] + fine_tune_model_history.history['val_loss']\n",
    "\n",
    "    plt.figure(figsize=(12, 5))\n",
    "\n",
    "    # Accuracy\n",
    "    plt.subplot(1, 2, 1)\n",
    "    plt.plot(history_accuracy, label='Train Accuracy')\n",
    "    plt.plot(history_val_accuracy, label='Validation Accuracy')\n",
    "    plt.axvline(x=len(initial_model_history.history['accuracy']), color='r', linestyle='--', label='Start Fine-Tuning')\n",
    "    plt.title('InceptionResNetV2+LSTM Model Accuracy')\n",
    "    plt.xlabel('Epoch')\n",
    "    plt.ylabel('Accuracy')\n",
    "    plt.legend()\n",
    "\n",
    "    # Loss\n",
    "    plt.subplot(1, 2, 2)\n",
    "    plt.plot(history_loss, label='Train Loss')\n",
    "    plt.plot(history_val_loss, label='Validation Loss')\n",
    "    plt.axvline(x=len(initial_model_history.history['loss']), color='r', linestyle='--', label='Start Fine-Tuning')\n",
    "    plt.title('InceptionResNetV2+LSTM Model Loss')\n",
    "    plt.xlabel('Epoch')\n",
    "    plt.ylabel('Loss')\n",
    "    plt.legend()\n",
    "\n",
    "    plt.tight_layout()\n",
    "    plt.show()\n",
    "except Exception as e:\n",
    "    print(f\"Error plotting training history: {str(e)}\")\n",
    "\n",
    "# Generate confusion matrix and classification report\n",
    "from sklearn.metrics import classification_report, confusion_matrix\n",
    "import seaborn as sns\n",
    "\n",
    "# Get predictions\n",
    "try:\n",
    "    predictions = model.predict(test_gen.as_dataset())\n",
    "    predicted_classes = np.argmax(predictions, axis=1)\n",
    "    true_classes = np.argmax(labels_test, axis=1)\n",
    "\n",
    "    # Verify shapes\n",
    "    print(f\"True classes shape: {true_classes.shape}\")\n",
    "    print(f\"Predicted classes shape: {predicted_classes.shape}\")\n",
    "    assert len(true_classes) == len(predicted_classes), \"Sample counts do not match!\"\n",
    "\n",
    "    # Generate classification report\n",
    "    print(\"\\nInceptionResNetV2+LSTM Classification Report:\")\n",
    "    print(classification_report(true_classes, predicted_classes, target_names=CLASSES_LIST))\n",
    "\n",
    "    # Plot confusion matrix\n",
    "    cm = confusion_matrix(true_classes, predicted_classes)\n",
    "    plt.figure(figsize=(8, 6))\n",
    "    sns.heatmap(cm, annot=True, fmt='d', cmap='Blues', xticklabels=CLASSES_LIST, yticklabels=CLASSES_LIST)\n",
    "    plt.xlabel('Predicted')\n",
    "    plt.ylabel('True')\n",
    "    plt.title('InceptionResNetV2+LSTM Confusion Matrix')\n",
    "    plt.show()\n",
    "except Exception as e:\n",
    "    print(f\"Error during prediction or plotting: {str(e)}\")\n",
    "    import traceback\n",
    "    traceback.print_exc()"
   ]
  },
  {
   "cell_type": "code",
   "execution_count": 44,
   "id": "05979bd3",
   "metadata": {
    "execution": {
     "iopub.execute_input": "2025-07-12T16:37:12.915639Z",
     "iopub.status.busy": "2025-07-12T16:37:12.914600Z",
     "iopub.status.idle": "2025-07-12T16:37:25.628027Z",
     "shell.execute_reply": "2025-07-12T16:37:25.627478Z"
    },
    "papermill": {
     "duration": 13.088222,
     "end_time": "2025-07-12T16:37:25.629146",
     "exception": false,
     "start_time": "2025-07-12T16:37:12.540924",
     "status": "completed"
    },
    "tags": []
   },
   "outputs": [
    {
     "name": "stdout",
     "output_type": "stream",
     "text": [
      "\u001b[1m27/27\u001b[0m \u001b[32m━━━━━━━━━━━━━━━━━━━━\u001b[0m\u001b[37m\u001b[0m \u001b[1m11s\u001b[0m 358ms/step - accuracy: 0.9687 - loss: 0.3265\n"
     ]
    }
   ],
   "source": [
    "# previous code\n",
    "model_evaluation_history = model.evaluate(features_test, labels_test)"
   ]
  }
 ],
 "metadata": {
  "kaggle": {
   "accelerator": "nvidiaTeslaT4",
   "dataSources": [
    {
     "datasetId": 1357563,
     "sourceId": 2256095,
     "sourceType": "datasetVersion"
    },
    {
     "datasetId": 7763484,
     "sourceId": 12338519,
     "sourceType": "datasetVersion"
    },
    {
     "datasetId": 7801555,
     "sourceId": 12373067,
     "sourceType": "datasetVersion"
    },
    {
     "datasetId": 7801884,
     "sourceId": 12373562,
     "sourceType": "datasetVersion"
    },
    {
     "datasetId": 7818195,
     "sourceId": 12397892,
     "sourceType": "datasetVersion"
    }
   ],
   "dockerImageVersionId": 31090,
   "isGpuEnabled": true,
   "isInternetEnabled": true,
   "language": "python",
   "sourceType": "notebook"
  },
  "kernelspec": {
   "display_name": "Python 3",
   "language": "python",
   "name": "python3"
  },
  "language_info": {
   "codemirror_mode": {
    "name": "ipython",
    "version": 3
   },
   "file_extension": ".py",
   "mimetype": "text/x-python",
   "name": "python",
   "nbconvert_exporter": "python",
   "pygments_lexer": "ipython3",
   "version": "3.11.13"
  },
  "papermill": {
   "default_parameters": {},
   "duration": 3287.745706,
   "end_time": "2025-07-12T16:37:29.278694",
   "environment_variables": {},
   "exception": null,
   "input_path": "__notebook__.ipynb",
   "output_path": "__notebook__.ipynb",
   "parameters": {},
   "start_time": "2025-07-12T15:42:41.532988",
   "version": "2.6.0"
  }
 },
 "nbformat": 4,
 "nbformat_minor": 5
}
