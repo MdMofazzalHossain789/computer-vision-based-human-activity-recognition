{
 "cells": [
  {
   "cell_type": "markdown",
   "id": "0a7a3d05",
   "metadata": {
    "papermill": {
     "duration": 0.012134,
     "end_time": "2025-07-12T08:42:46.514147",
     "exception": false,
     "start_time": "2025-07-12T08:42:46.502013",
     "status": "completed"
    },
    "tags": []
   },
   "source": [
    "# Initialization\n",
    "## Import Libraries"
   ]
  },
  {
   "cell_type": "code",
   "execution_count": 1,
   "id": "a79ef2e2",
   "metadata": {
    "_cell_guid": "b1076dfc-b9ad-4769-8c92-a6c4dae69d19",
    "_uuid": "8f2839f25d086af736a60e9eeb907d3b93b6e0e5",
    "execution": {
     "iopub.execute_input": "2025-07-12T08:42:46.536935Z",
     "iopub.status.busy": "2025-07-12T08:42:46.536668Z",
     "iopub.status.idle": "2025-07-12T08:43:02.985391Z",
     "shell.execute_reply": "2025-07-12T08:43:02.984778Z"
    },
    "papermill": {
     "duration": 16.46217,
     "end_time": "2025-07-12T08:43:02.987054",
     "exception": false,
     "start_time": "2025-07-12T08:42:46.524884",
     "status": "completed"
    },
    "tags": []
   },
   "outputs": [
    {
     "name": "stderr",
     "output_type": "stream",
     "text": [
      "2025-07-12 08:42:48.240254: E external/local_xla/xla/stream_executor/cuda/cuda_fft.cc:477] Unable to register cuFFT factory: Attempting to register factory for plugin cuFFT when one has already been registered\n",
      "WARNING: All log messages before absl::InitializeLog() is called are written to STDERR\n",
      "E0000 00:00:1752309768.453835      19 cuda_dnn.cc:8310] Unable to register cuDNN factory: Attempting to register factory for plugin cuDNN when one has already been registered\n",
      "E0000 00:00:1752309768.518596      19 cuda_blas.cc:1418] Unable to register cuBLAS factory: Attempting to register factory for plugin cuBLAS when one has already been registered\n"
     ]
    }
   ],
   "source": [
    "# install librarires\n",
    "import os\n",
    "import tensorflow as tf\n",
    "import numpy as np\n",
    "import random"
   ]
  },
  {
   "cell_type": "markdown",
   "id": "dbc81444",
   "metadata": {
    "papermill": {
     "duration": 0.010553,
     "end_time": "2025-07-12T08:43:03.008356",
     "exception": false,
     "start_time": "2025-07-12T08:43:02.997803",
     "status": "completed"
    },
    "tags": []
   },
   "source": [
    "## ℹ️ Set Global Constants"
   ]
  },
  {
   "cell_type": "code",
   "execution_count": 2,
   "id": "7847613c",
   "metadata": {
    "execution": {
     "iopub.execute_input": "2025-07-12T08:43:03.029914Z",
     "iopub.status.busy": "2025-07-12T08:43:03.029498Z",
     "iopub.status.idle": "2025-07-12T08:43:03.036408Z",
     "shell.execute_reply": "2025-07-12T08:43:03.035561Z"
    },
    "papermill": {
     "duration": 0.019023,
     "end_time": "2025-07-12T08:43:03.037518",
     "exception": false,
     "start_time": "2025-07-12T08:43:03.018495",
     "status": "completed"
    },
    "tags": []
   },
   "outputs": [
    {
     "name": "stdout",
     "output_type": "stream",
     "text": [
      "Ucf50\n",
      "There are total 11 classes, selected 11 classes\n",
      "Setting 50/class to train the model.\n",
      "Image size 128x128 with 5 sequence length\n",
      "Dropout rate: 0.5\n",
      "Train-Test split ratio 80/20\n",
      "Validation data from Train set 20.0%\n"
     ]
    }
   ],
   "source": [
    "# global variables\n",
    "# set dataset directories\n",
    "\n",
    "\n",
    "DATASET_DIR = \"/kaggle/input/ucf50/UCF50\"\n",
    "DATASET_NAME = DATASET_DIR.split(\"/\")[-1].replace(\"-\", \" \").title()\n",
    "\n",
    "print(DATASET_NAME)\n",
    "\n",
    "ALL_CLASS_NAMES = [\n",
    "    \"Basketball\",\n",
    "    \"Biking\",\n",
    "    \"Diving\",\n",
    "    \"GolfSwing\",\n",
    "    \"HorseRiding\",\n",
    "    \"Skiing\",\n",
    "    # \"Running\", # not found in UCF50, so took an outdoor class\n",
    "    \"SkateBoarding\",\n",
    "    \"Swing\",\n",
    "    \"TennisSwing\",\n",
    "    \"TrampolineJumping\",\n",
    "    \"WalkingWithDog\"\n",
    "]\n",
    "\n",
    "# Global constant variables -> \n",
    "NO_OF_CLASSES = len(ALL_CLASS_NAMES)\n",
    "CLASSES_LIST = ALL_CLASS_NAMES[:NO_OF_CLASSES]\n",
    "\n",
    "# Model Configuration\n",
    "IMAGE_HEIGHT, IMAGE_WIDTH = 128, 128\n",
    "SEQUENCE_LENGTH = 5\n",
    "\n",
    "# set drop out rate\n",
    "DROPOUT_RATE = 0.5\n",
    "\n",
    "# set datas\n",
    "MAX_VIDEO_PER_CLASS = 50\n",
    "\n",
    "# split dataset\n",
    "TEST_SIZE = 0.20\n",
    "\n",
    "# model fit parameters\n",
    "EPOCHS = 30\n",
    "BATCH_SIZE = 24\n",
    "VALIDATION_SPLIT = 0.20\n",
    "\n",
    "# augmentation values\n",
    "NOISE_FACTOR = 0.02\n",
    "SHEAR_X= 1\n",
    "SHEAR_Y= 1\n",
    "\n",
    "# give a name of the model to save\n",
    "MODEL_NAME = \"Xception\"\n",
    "\n",
    "print(f\"There are total {len(ALL_CLASS_NAMES)} classes, selected {NO_OF_CLASSES} classes\")\n",
    "print(f\"Setting {MAX_VIDEO_PER_CLASS}/class to train the model.\")\n",
    "print(f\"Image size {IMAGE_HEIGHT}x{IMAGE_WIDTH} with {SEQUENCE_LENGTH} sequence length\")\n",
    "print(f\"Dropout rate: {DROPOUT_RATE}\")\n",
    "print(f\"Train-Test split ratio {int((1-TEST_SIZE)*100)}/{int(TEST_SIZE*100)}\")\n",
    "print(f\"Validation data from Train set {VALIDATION_SPLIT*100}%\")"
   ]
  },
  {
   "cell_type": "markdown",
   "id": "fe9c92f0",
   "metadata": {
    "papermill": {
     "duration": 0.010238,
     "end_time": "2025-07-12T08:43:03.058302",
     "exception": false,
     "start_time": "2025-07-12T08:43:03.048064",
     "status": "completed"
    },
    "tags": []
   },
   "source": [
    "## Set `Seed` Values"
   ]
  },
  {
   "cell_type": "code",
   "execution_count": 3,
   "id": "7ceb438b",
   "metadata": {
    "execution": {
     "iopub.execute_input": "2025-07-12T08:43:03.080217Z",
     "iopub.status.busy": "2025-07-12T08:43:03.080007Z",
     "iopub.status.idle": "2025-07-12T08:43:03.084008Z",
     "shell.execute_reply": "2025-07-12T08:43:03.083321Z"
    },
    "papermill": {
     "duration": 0.016237,
     "end_time": "2025-07-12T08:43:03.085127",
     "exception": false,
     "start_time": "2025-07-12T08:43:03.068890",
     "status": "completed"
    },
    "tags": []
   },
   "outputs": [],
   "source": [
    "# set seeed to get similar values\n",
    "seed_constant = 27\n",
    "np.random.seed(seed_constant)\n",
    "random.seed(seed_constant)\n",
    "tf.random.set_seed(seed_constant)"
   ]
  },
  {
   "cell_type": "markdown",
   "id": "c93c2ac4",
   "metadata": {
    "papermill": {
     "duration": 0.009898,
     "end_time": "2025-07-12T08:43:03.105172",
     "exception": false,
     "start_time": "2025-07-12T08:43:03.095274",
     "status": "completed"
    },
    "tags": []
   },
   "source": [
    "# 📌 Function Definition\n",
    "## Resize and Frame Extraction"
   ]
  },
  {
   "cell_type": "code",
   "execution_count": 4,
   "id": "19a15022",
   "metadata": {
    "execution": {
     "iopub.execute_input": "2025-07-12T08:43:03.127395Z",
     "iopub.status.busy": "2025-07-12T08:43:03.127179Z",
     "iopub.status.idle": "2025-07-12T08:43:03.646416Z",
     "shell.execute_reply": "2025-07-12T08:43:03.645865Z"
    },
    "papermill": {
     "duration": 0.53235,
     "end_time": "2025-07-12T08:43:03.647778",
     "exception": false,
     "start_time": "2025-07-12T08:43:03.115428",
     "status": "completed"
    },
    "tags": []
   },
   "outputs": [],
   "source": [
    "import matplotlib.pyplot as plt\n",
    "import os\n",
    "import cv2\n",
    "import numpy as np\n",
    "from sklearn.cluster import KMeans\n",
    "from sklearn.metrics import silhouette_score\n",
    "from skimage.metrics import structural_similarity as ssim\n",
    "\n",
    "# Placeholder for kmeans_silhouette function\n",
    "def kmeans_silhouette(sub_features):\n",
    "    if len(sub_features) < 2:\n",
    "        return [], [], 1, [0]  # Return empty results for insufficient frames\n",
    "    \n",
    "    # Try different k values (2 to min(5, len(sub_features)))\n",
    "    best_k = 2\n",
    "    best_labels = None\n",
    "    best_centers = None\n",
    "    best_score = -1\n",
    "    best_indices = []\n",
    "    \n",
    "    for k in range(2, min(6, len(sub_features) + 1)):\n",
    "        kmeans = KMeans(n_clusters=k, random_state=42, n_init='auto')\n",
    "        labels = kmeans.fit_predict(sub_features)\n",
    "        if len(np.unique(labels)) > 1:  # Silhouette score requires at least 2 clusters\n",
    "            score = silhouette_score(sub_features, labels)\n",
    "            if score > best_score:\n",
    "                best_score = score\n",
    "                best_k = k\n",
    "                best_labels = labels\n",
    "                best_centers = kmeans.cluster_centers_\n",
    "        \n",
    "        # Find indices of frames closest to cluster centers\n",
    "        indices = []\n",
    "        for i in range(best_k):\n",
    "            if i in labels:\n",
    "                cluster_points = sub_features[labels == i]\n",
    "                distances = np.linalg.norm(cluster_points - best_centers[i], axis=1)\n",
    "                if len(distances) > 0:\n",
    "                    idx = np.argmin(distances)\n",
    "                    indices.append(idx)\n",
    "    \n",
    "    return best_labels, best_centers, best_k, indices\n",
    "\n",
    "# Placeholder for redundancy function\n",
    "def redundancy(video_path, indices, threshold=0.94):\n",
    "    if not indices:\n",
    "        return []\n",
    "    \n",
    "    video_reader = cv2.VideoCapture(video_path)\n",
    "    if not video_reader.isOpened():\n",
    "        return indices\n",
    "    \n",
    "    # Compute histogram for each frame\n",
    "    def get_histogram(frame):\n",
    "        gray = cv2.cvtColor(frame, cv2.COLOR_BGR2GRAY)\n",
    "        hist = cv2.calcHist([gray], [0], None, [256], [0, 256])\n",
    "        cv2.normalize(hist, hist)\n",
    "        return hist\n",
    "    \n",
    "    filtered_indices = [indices[0]]  # Keep first index\n",
    "    prev_frame = None\n",
    "    \n",
    "    for idx in indices[1:]:\n",
    "        video_reader.set(cv2.CAP_PROP_POS_FRAMES, idx)\n",
    "        success, frame = video_reader.read()\n",
    "        if not success:\n",
    "            continue\n",
    "        hist = get_histogram(frame)\n",
    "        \n",
    "        if prev_frame is not None:\n",
    "            # Compute histogram correlation\n",
    "            corr = cv2.compareHist(get_histogram(prev_frame), hist, cv2.HISTCMP_CORREL)\n",
    "            if corr < threshold:  # Keep frame if significantly different\n",
    "                filtered_indices.append(idx)\n",
    "        prev_frame = frame\n",
    "    \n",
    "    video_reader.release()\n",
    "    return filtered_indices\n",
    "\n",
    "# Modified scen_keyframe_extraction function\n",
    "def frames_extraction(video_path,  file_name, video_index, is_last_video, num_segments=SEQUENCE_LENGTH):\n",
    "    # Open video to get frame count\n",
    "    video_reader = cv2.VideoCapture(video_path)\n",
    "    if not video_reader.isOpened():\n",
    "        raise ValueError(f\"Failed to open video {video_path}.\")\n",
    "    \n",
    "    frame_count = int(video_reader.get(cv2.CAP_PROP_FRAME_COUNT))\n",
    "    if frame_count == 0:\n",
    "        video_reader.release()\n",
    "        raise ValueError(f\"No frames in video {video_path}.\")\n",
    "    \n",
    "    # Generate synthetic scene segmentation (divide video into equal segments)\n",
    "    segment_length = frame_count // num_segments\n",
    "    number_list = []\n",
    "    for i in range(num_segments):\n",
    "        start = i * segment_length\n",
    "        end = min((i + 1) * segment_length, frame_count)\n",
    "        number_list.extend([start, end])\n",
    "\n",
    "    features = []\n",
    "    frame_idx = 0\n",
    "    \n",
    "    while True:\n",
    "        success, frame = video_reader.read()\n",
    "        if not success:\n",
    "            break\n",
    "    \n",
    "        gray = cv2.cvtColor(frame, cv2.COLOR_BGR2GRAY)\n",
    "        hist = cv2.calcHist([gray], [0], None, [256], [0, 256])\n",
    "        cv2.normalize(hist, hist)\n",
    "        features.append(hist.flatten())\n",
    "        \n",
    "        frame_idx += 1\n",
    "    \n",
    "    video_reader.release()\n",
    "    features = np.asarray(features)\n",
    "    \n",
    "    # Clustering at each shot to obtain keyframe sequence numbers\n",
    "    keyframe_index = []\n",
    "    for i in range(0, len(number_list), 2):\n",
    "        start = number_list[i]\n",
    "        end = min(number_list[i + 1], len(features))\n",
    "        if end <= start:\n",
    "            continue\n",
    "        sub_features = features[start:end]\n",
    "        best_labels, best_centers, k, indices = kmeans_silhouette(sub_features)\n",
    "        final_index = [x + start for x in indices if x + start < frame_count]\n",
    "        final_index = redundancy(video_path, final_index, 0.94)\n",
    "        keyframe_index += final_index\n",
    "    \n",
    "    keyframe_index = sorted(list(set(keyframe_index)))  # Remove duplicates and sort\n",
    "    # print(\"final_index:\", keyframe_index, end=\"\\r\", flush=True)\n",
    "    \n",
    "    # Visualize keyframes\n",
    "    num_keyframes = len(keyframe_index)\n",
    "    if num_keyframes == 0:\n",
    "        print(\"No keyframes extracted.\")\n",
    "        return\n",
    "    \n",
    "    video_reader = cv2.VideoCapture(video_path)\n",
    "    class_name = os.path.basename(os.path.dirname(video_path))\n",
    "    # print(keyframe_index)\n",
    "    frames=[]\n",
    "    frames_index=[]\n",
    "    for idx, frame_idx in enumerate(keyframe_index, 1):\n",
    "        video_reader.set(cv2.CAP_PROP_POS_FRAMES, frame_idx)\n",
    "        success, frame = video_reader.read()\n",
    "        if not success:\n",
    "            continue\n",
    "        rgb_frame = cv2.cvtColor(frame, cv2.COLOR_BGR2RGB)\n",
    "        try:\n",
    "            resized_frame = cv2.resize(rgb_frame, (IMAGE_WIDTH, IMAGE_HEIGHT), interpolation=cv2.INTER_AREA)\n",
    "            normalized_frame = resized_frame.astype('float32') / 255.0\n",
    "\n",
    "            \n",
    "            if normalized_frame.shape != (IMAGE_HEIGHT, IMAGE_WIDTH, 3):\n",
    "                print(f\"Warning: Frame at index {frame_idx} has incorrect shape: {normalized_frame.shape}\")\n",
    "                continue  # Skip malformed frame\n",
    "            if is_last_video and idx == num_keyframes:\n",
    "                print(f\"Extracted {len(frames)+1} frames from file {video_index+1}: {file_name}\", end=\"\\n\", flush=True)\n",
    "            else:\n",
    "                print(f\"Extracted {len(frames)+1} frames from file {video_index+1}: {file_name}\", end=\"\\r\", flush=True)\n",
    "                \n",
    "            frames.append(normalized_frame)\n",
    "            frames_index.append(frame_idx)\n",
    "        \n",
    "        except Exception as e:\n",
    "            print(f\"Error processing frame {frame_idx}: {e}\")\n",
    "            continue\n",
    "    video_reader.release()\n",
    "\n",
    "    # handle inhomogenous frames or shape mismatch\n",
    "    if len(frames) > SEQUENCE_LENGTH:\n",
    "        # if it is greater than sequence length then leave the last frames\n",
    "        frames=frames[:SEQUENCE_LENGTH]\n",
    "    \n",
    "    frames=np.asarray(frames)\n",
    "    frames_index=np.asarray(frames_index)\n",
    "    return frames, frames_index\n",
    "\n",
    "    \n",
    "# # Run the keyframe extraction\n",
    "# sequence, index = scen_keyframe_extraction(video_path, num_segments=5)\n",
    "\n",
    "# print(sequence.shape)\n",
    "\n",
    "# show_frames(sequence, index)"
   ]
  },
  {
   "cell_type": "markdown",
   "id": "e6f88852",
   "metadata": {
    "papermill": {
     "duration": 0.010188,
     "end_time": "2025-07-12T08:43:03.668726",
     "exception": false,
     "start_time": "2025-07-12T08:43:03.658538",
     "status": "completed"
    },
    "tags": []
   },
   "source": [
    "## Create Dataset"
   ]
  },
  {
   "cell_type": "code",
   "execution_count": 5,
   "id": "ccd654c6",
   "metadata": {
    "execution": {
     "iopub.execute_input": "2025-07-12T08:43:03.689984Z",
     "iopub.status.busy": "2025-07-12T08:43:03.689745Z",
     "iopub.status.idle": "2025-07-12T08:43:03.696816Z",
     "shell.execute_reply": "2025-07-12T08:43:03.696324Z"
    },
    "papermill": {
     "duration": 0.019036,
     "end_time": "2025-07-12T08:43:03.697836",
     "exception": false,
     "start_time": "2025-07-12T08:43:03.678800",
     "status": "completed"
    },
    "tags": []
   },
   "outputs": [],
   "source": [
    "# RUN create dataset function definition\n",
    "def create_dataset(dataset_dir,\n",
    "                   classes_list, \n",
    "                   sequence_length=SEQUENCE_LENGTH, \n",
    "                   image_height=IMAGE_HEIGHT, \n",
    "                   image_width=IMAGE_WIDTH, \n",
    "                   max_videos_per_class=None,\n",
    "                   augmentations=False\n",
    "                  ):\n",
    "    \n",
    "    # Initialize lists to store features, labels, and video file paths\n",
    "    videos = []\n",
    "    labels = []\n",
    "\n",
    "    # Check if dataset directory exists\n",
    "    if not os.path.exists(dataset_dir):\n",
    "        raise FileNotFoundError(f\"Dataset directory not found: {dataset_dir}\")\n",
    "\n",
    "    # Iterate through all classes in the classes list\n",
    "    for class_index, class_name in enumerate(classes_list):\n",
    "        class_path = os.path.join(dataset_dir, class_name)\n",
    "        \n",
    "        # Check if class directory exists\n",
    "        if not os.path.exists(class_path):\n",
    "            print(f\"Warning: Class directory not found: {class_path}\")\n",
    "            continue\n",
    "\n",
    "        print(f'Extracting Data of Class: {class_name}')\n",
    "\n",
    "        # Get the list of video files in the class directory\n",
    "        files_list = os.listdir(class_path)\n",
    "\n",
    "        # Limit the number of videos if specified\n",
    "        if max_videos_per_class is not None:\n",
    "            files_list = files_list[:max_videos_per_class]\n",
    "\n",
    "        # Iterate through all video files\n",
    "        is_last_video=False\n",
    "        for (index, file_name) in enumerate(files_list):\n",
    "            video_file_path = os.path.join(class_path, file_name)\n",
    "\n",
    "            if index == (len(files_list)-1):\n",
    "                is_last_video=True\n",
    "                # print(f'Extracting frames from file {index+1}: {file_name}', flush=True)\n",
    "            else:\n",
    "                is_last_video=False\n",
    "                # print(f'Extracting frames from file {index+1}: {file_name}', end=\"\\r\", flush=True)\n",
    "            \n",
    "            # Extract frames using the updated frames_extraction function\n",
    "            # frames = frames_extraction(video_file_path, \n",
    "            #                            sequence_length, \n",
    "            #                            image_height, \n",
    "            #                            image_width)\n",
    "            frames, index = frames_extraction(video_path=video_file_path, \n",
    "                                                     file_name=file_name,\n",
    "                                                     video_index=index,\n",
    "                                                     is_last_video=is_last_video,\n",
    "                                                     num_segments=SEQUENCE_LENGTH)\n",
    "\n",
    "            # Skip videos where frame extraction failed\n",
    "            if frames is None:\n",
    "                print(f\"Skipping video {video_file_path} due to frame extraction failure\")\n",
    "                continue\n",
    "\n",
    "            # Append the data to respective lists\n",
    "            videos.append(frames)\n",
    "            labels.append(class_index)\n",
    "\n",
    "    # Convert lists to numpy arrays\n",
    "    if not videos:\n",
    "        raise ValueError(\"No valid videos were processed. Check dataset or parameters.\")\n",
    "    videos = np.asarray(videos)\n",
    "    labels = np.array(labels)\n",
    "\n",
    "    print(f\"Dataset created with {len(videos)} videos\")\n",
    "    print(f\"Features shape: {videos.shape}\")\n",
    "    print(f\"Labels shape: {labels.shape}\")\n",
    "\n",
    "    return videos, labels"
   ]
  },
  {
   "cell_type": "markdown",
   "id": "6b3c12ec",
   "metadata": {
    "papermill": {
     "duration": 0.010253,
     "end_time": "2025-07-12T08:43:03.718150",
     "exception": false,
     "start_time": "2025-07-12T08:43:03.707897",
     "status": "completed"
    },
    "tags": []
   },
   "source": [
    "## 🪄 Video Data Generator"
   ]
  },
  {
   "cell_type": "code",
   "execution_count": 6,
   "id": "80e86837",
   "metadata": {
    "execution": {
     "iopub.execute_input": "2025-07-12T08:43:03.739597Z",
     "iopub.status.busy": "2025-07-12T08:43:03.739414Z",
     "iopub.status.idle": "2025-07-12T08:43:03.807792Z",
     "shell.execute_reply": "2025-07-12T08:43:03.807277Z"
    },
    "papermill": {
     "duration": 0.08064,
     "end_time": "2025-07-12T08:43:03.809053",
     "exception": false,
     "start_time": "2025-07-12T08:43:03.728413",
     "status": "completed"
    },
    "tags": []
   },
   "outputs": [],
   "source": [
    "from tensorflow.keras.utils import Sequence, to_categorical\n",
    "import tensorflow as tf\n",
    "import numpy as np\n",
    "import cv2\n",
    "\n",
    "\n",
    "\n",
    "\n",
    "class VideoDataGenerator(Sequence):\n",
    "    def __init__(self, videos, labels, batch_size, is_training=False):\n",
    "        self.videos = list(videos)  # List of video file paths\n",
    "        self.labels = list(labels)  # List or array of labels encoded\n",
    "        self.batch_size = batch_size\n",
    "        self.indices = np.arange(len(self.videos))  # For shuffling\n",
    "        self.is_training = is_training  # Flag to control whether augmentation is applied\n",
    "        self.temp_videos=[]\n",
    "        self.temp_labels=[]\n",
    "        \n",
    "        \n",
    "        print(f\"Total {len(videos)} videos and {len(labels)} classes\")\n",
    "\n",
    "    def __len__(self):\n",
    "        # Return the number of batches per epoch\n",
    "        return int(np.ceil(len(self.videos) / self.batch_size))\n",
    "\n",
    "    def __getitem__(self, idx):\n",
    "        # Get batch indices\n",
    "        batch_indices = self.indices[idx * self.batch_size:(idx + 1) * self.batch_size]\n",
    "        \n",
    "        # Handle case where batch_indices is empty\n",
    "        if len(batch_indices) == 0:\n",
    "            return np.array([], dtype=np.float32), np.array([], dtype=np.float32)\n",
    "        \n",
    "        # Initialize lists to store frames and labels\n",
    "        all_frames = []\n",
    "        all_labels = []\n",
    "        \n",
    "        # Process each video in the batch\n",
    "        for i, index in enumerate(batch_indices):\n",
    "            sequence = self.videos[index]\n",
    "            label = self.labels[index]\n",
    "            \n",
    "            # Load and process video\n",
    "            # sequence = frames_extraction(video_path)\n",
    "\n",
    "            # if sequence is not None:\n",
    "            #     # Apply augmentations: 1 original + 4 augmentations (horizontal flip, shear, rotation, noise)\n",
    "            #     augmented_sequences = [sequence]  # Add original sequence\n",
    "\n",
    "            #     if self.is_training:\n",
    "            #         # Apply augmentations\n",
    "            #         augmented_sequences.append(np.array(horizontal_flip(sequence)))  # Horizontal Flip\n",
    "            #         augmented_sequences.append(np.array(apply_shear_frames(sequence, shear_right=0)))  # Random Shear\n",
    "            #         augmented_sequences.append(np.array(apply_shear_frames(sequence, shear_right=1)))  # Random Rotation\n",
    "            #         augmented_sequences.append(np.array(noise_video(sequence)))  # Salt and Pepper Noise\n",
    "\n",
    "            #     # Add augmented sequences to the batch\n",
    "            #     all_frames.extend(augmented_sequences)\n",
    "            #     all_labels.extend([label] * len(augmented_sequences))  # Each augmentation has the same label\n",
    "\n",
    "            \n",
    "            # Append the sequence and label\n",
    "            all_frames.append(sequence)\n",
    "            all_labels.append(label)\n",
    "        \n",
    "        # Convert to numpy arrays\n",
    "        all_frames = np.array(all_frames, dtype=np.float32)\n",
    "        all_labels = np.array(all_labels)\n",
    "            \n",
    "        \n",
    "        return all_frames, all_labels\n",
    "    def add(self, new_videos, new_labels):\n",
    "        self.temp_videos.extend(new_videos)\n",
    "        self.temp_labels.extend(new_labels)\n",
    "    \n",
    "    def confirm(self):\n",
    "        print(f\"Adding {len(self.temp_videos)} videos with {len(self.temp_labels)} classes.\")\n",
    "        self.videos.extend(self.temp_videos)\n",
    "        self.labels.extend(self.temp_labels)\n",
    "        print(f\"Successfully added - {len(self.temp_videos)} videos and {len(self.temp_labels)} classes.\")\n",
    "        self.temp_videos=[]\n",
    "        self.temp_labels=[]\n",
    "        self.indices = np.arange(len(self.videos))\n",
    "        print(f\"Now Total - {len(self.videos)} videos and {len(self.labels)} classes.\")\n",
    "        print(f\"PENDING for Augmentations - {len(self.temp_videos)} videos and {len(self.temp_labels)} classes.\")\n",
    "    \n",
    "    def on_epoch_end(self):\n",
    "        # Shuffle indices at the end of each epoch\n",
    "        np.random.shuffle(self.indices)\n",
    "\n",
    "    def as_dataset(self):\n",
    "        def generator():\n",
    "            for idx in range(len(self)):\n",
    "                frames, labels = self[idx]\n",
    "                # Skip empty batches\n",
    "                if frames.size == 0:\n",
    "                    continue\n",
    "                yield frames, labels\n",
    "        self.labels=np.array(self.labels)\n",
    "    \n",
    "        # Create a tf.data.Dataset\n",
    "        dataset = tf.data.Dataset.from_generator(\n",
    "            generator,\n",
    "            output_types=(tf.float32, tf.float32),\n",
    "            output_shapes=(\n",
    "                (None, SEQUENCE_LENGTH, IMAGE_HEIGHT, IMAGE_WIDTH, 3),\n",
    "                (None, NO_OF_CLASSES)\n",
    "            )\n",
    "        )\n",
    "        dataset = dataset.prefetch(tf.data.AUTOTUNE)\n",
    "        return dataset"
   ]
  },
  {
   "cell_type": "markdown",
   "id": "a7a2e063",
   "metadata": {
    "papermill": {
     "duration": 0.012236,
     "end_time": "2025-07-12T08:43:03.893534",
     "exception": false,
     "start_time": "2025-07-12T08:43:03.881298",
     "status": "completed"
    },
    "tags": []
   },
   "source": [
    "## Debug and Helpers"
   ]
  },
  {
   "cell_type": "markdown",
   "id": "19656091",
   "metadata": {
    "papermill": {
     "duration": 0.012148,
     "end_time": "2025-07-12T08:43:03.918044",
     "exception": false,
     "start_time": "2025-07-12T08:43:03.905896",
     "status": "completed"
    },
    "tags": []
   },
   "source": [
    "## 💫 Augmentation Helper function"
   ]
  },
  {
   "cell_type": "code",
   "execution_count": 7,
   "id": "301032ec",
   "metadata": {
    "execution": {
     "iopub.execute_input": "2025-07-12T08:43:03.944594Z",
     "iopub.status.busy": "2025-07-12T08:43:03.943800Z",
     "iopub.status.idle": "2025-07-12T08:43:03.949572Z",
     "shell.execute_reply": "2025-07-12T08:43:03.948783Z"
    },
    "papermill": {
     "duration": 0.0207,
     "end_time": "2025-07-12T08:43:03.951107",
     "exception": false,
     "start_time": "2025-07-12T08:43:03.930407",
     "status": "completed"
    },
    "tags": []
   },
   "outputs": [],
   "source": [
    "import time\n",
    "\n",
    "    \n",
    "\n",
    "def apply_augmentation(augmentation_function, generator, confirm=False, *args, **kwargs):\n",
    "    \n",
    "    for i in range(len(generator)):\n",
    "        batch_videos, batch_labels = generator[i]\n",
    "        augmented_videos=[]\n",
    "        for videos in batch_videos:\n",
    "            augmented_videos.append(augmentation_function(videos, *args, **kwargs))\n",
    "        generator.add(augmented_videos, batch_labels)\n",
    "        print(f\"Processing video {len(generator.temp_videos)}...\", end=\"\\r\", flush=True)\n",
    "        time.sleep(0.5)  # simulate work\n",
    "    if confirm:\n",
    "        generator.confirm()"
   ]
  },
  {
   "cell_type": "markdown",
   "id": "835fe0c7",
   "metadata": {
    "papermill": {
     "duration": 0.012358,
     "end_time": "2025-07-12T08:43:03.976553",
     "exception": false,
     "start_time": "2025-07-12T08:43:03.964195",
     "status": "completed"
    },
    "tags": []
   },
   "source": [
    "### Show Frames"
   ]
  },
  {
   "cell_type": "code",
   "execution_count": 8,
   "id": "7f131677",
   "metadata": {
    "execution": {
     "iopub.execute_input": "2025-07-12T08:43:04.003303Z",
     "iopub.status.busy": "2025-07-12T08:43:04.002605Z",
     "iopub.status.idle": "2025-07-12T08:43:04.006898Z",
     "shell.execute_reply": "2025-07-12T08:43:04.006213Z"
    },
    "papermill": {
     "duration": 0.019078,
     "end_time": "2025-07-12T08:43:04.008212",
     "exception": false,
     "start_time": "2025-07-12T08:43:03.989134",
     "status": "completed"
    },
    "tags": []
   },
   "outputs": [],
   "source": [
    "# show frame def\n",
    "import matplotlib.pyplot as plt\n",
    "\n",
    "def show_frame(frame):\n",
    "    plt.figure(figsize=(3,3))\n",
    "    plt.imshow(frame)\n",
    "    plt.axis(\"off\")\n",
    "    plt.tight_layout()"
   ]
  },
  {
   "cell_type": "markdown",
   "id": "f49a4119",
   "metadata": {
    "papermill": {
     "duration": 0.012182,
     "end_time": "2025-07-12T08:43:04.033249",
     "exception": false,
     "start_time": "2025-07-12T08:43:04.021067",
     "status": "completed"
    },
    "tags": []
   },
   "source": [
    "### Helper Function"
   ]
  },
  {
   "cell_type": "code",
   "execution_count": 9,
   "id": "ca0fbb3d",
   "metadata": {
    "execution": {
     "iopub.execute_input": "2025-07-12T08:43:04.060416Z",
     "iopub.status.busy": "2025-07-12T08:43:04.059533Z",
     "iopub.status.idle": "2025-07-12T08:43:04.065430Z",
     "shell.execute_reply": "2025-07-12T08:43:04.064498Z"
    },
    "papermill": {
     "duration": 0.021173,
     "end_time": "2025-07-12T08:43:04.066907",
     "exception": false,
     "start_time": "2025-07-12T08:43:04.045734",
     "status": "completed"
    },
    "tags": []
   },
   "outputs": [],
   "source": [
    "def show_frame_vs(frame1, frame2, title1=\"Frame 1\", title2=\"Frame 2\"):\n",
    "    plt.figure(figsize=(10, 5))\n",
    "\n",
    "    # First frame\n",
    "    plt.subplot(1, 2, 1)\n",
    "    plt.imshow(frame1)\n",
    "    plt.title(title1)\n",
    "    plt.axis('off')\n",
    "\n",
    "    # Second frame\n",
    "    plt.subplot(1, 2, 2)\n",
    "    plt.imshow(frame2)\n",
    "    plt.title(title2)\n",
    "    plt.axis('off')\n",
    "\n",
    "    plt.tight_layout()\n",
    "    plt.show()"
   ]
  },
  {
   "cell_type": "code",
   "execution_count": 10,
   "id": "c8a4a549",
   "metadata": {
    "execution": {
     "iopub.execute_input": "2025-07-12T08:43:04.093160Z",
     "iopub.status.busy": "2025-07-12T08:43:04.092853Z",
     "iopub.status.idle": "2025-07-12T08:43:04.097537Z",
     "shell.execute_reply": "2025-07-12T08:43:04.096617Z"
    },
    "papermill": {
     "duration": 0.019755,
     "end_time": "2025-07-12T08:43:04.099115",
     "exception": false,
     "start_time": "2025-07-12T08:43:04.079360",
     "status": "completed"
    },
    "tags": []
   },
   "outputs": [],
   "source": [
    "# reusable video loop helper function\n",
    "def apply_function(function, videos, *arg, **kwargs):\n",
    "    new_videos=[]\n",
    "    \n",
    "    for video in videos:\n",
    "        new_videos.append(function(video, *arg, **kwargs))\n",
    "        \n",
    "    return new_videos"
   ]
  },
  {
   "cell_type": "code",
   "execution_count": 11,
   "id": "2e6e7cf2",
   "metadata": {
    "execution": {
     "iopub.execute_input": "2025-07-12T08:43:04.135036Z",
     "iopub.status.busy": "2025-07-12T08:43:04.134706Z",
     "iopub.status.idle": "2025-07-12T08:43:04.139871Z",
     "shell.execute_reply": "2025-07-12T08:43:04.139038Z"
    },
    "papermill": {
     "duration": 0.023078,
     "end_time": "2025-07-12T08:43:04.141144",
     "exception": false,
     "start_time": "2025-07-12T08:43:04.118066",
     "status": "completed"
    },
    "tags": []
   },
   "outputs": [],
   "source": [
    "# reusable video loop helper function\n",
    "def apply(function, videos, labels, *arg, **kwargs):\n",
    "    new_videos=[]\n",
    "    new_labels=[]\n",
    "    combined=zip(labels, videos)\n",
    "    \n",
    "    for label, video in combined:\n",
    "        new_videos.append(function(video, *arg, **kwargs))\n",
    "        new_labels.append(label)\n",
    "        \n",
    "    new_videos=np.asarray(new_videos)\n",
    "    new_labels=np.asarray(new_labels)\n",
    "    \n",
    "    return new_videos, new_labels"
   ]
  },
  {
   "cell_type": "markdown",
   "id": "6a5d59c3",
   "metadata": {
    "papermill": {
     "duration": 0.013148,
     "end_time": "2025-07-12T08:43:04.167650",
     "exception": false,
     "start_time": "2025-07-12T08:43:04.154502",
     "status": "completed"
    },
    "tags": []
   },
   "source": [
    "## Salt and Pepper Noise "
   ]
  },
  {
   "cell_type": "code",
   "execution_count": 12,
   "id": "9aa6d290",
   "metadata": {
    "execution": {
     "iopub.execute_input": "2025-07-12T08:43:04.195643Z",
     "iopub.status.busy": "2025-07-12T08:43:04.195323Z",
     "iopub.status.idle": "2025-07-12T08:43:04.200286Z",
     "shell.execute_reply": "2025-07-12T08:43:04.199479Z"
    },
    "papermill": {
     "duration": 0.02,
     "end_time": "2025-07-12T08:43:04.201679",
     "exception": false,
     "start_time": "2025-07-12T08:43:04.181679",
     "status": "completed"
    },
    "tags": []
   },
   "outputs": [],
   "source": [
    "# Noise function def\n",
    "\n",
    "def noise_video(video,noise_factor=NOISE_FACTOR):\n",
    "    noisy_video=[]\n",
    "    for frame in video:\n",
    "        # Generate random noise\n",
    "        noise = np.random.rand(*frame.shape)  # Generate random noise\n",
    "        salt_pepper_noise = np.random.choice([0, 1], size=frame.shape, p=[1-noise_factor, noise_factor])\n",
    "        noisy_frame = frame * (1 - salt_pepper_noise) + salt_pepper_noise * np.random.rand(*frame.shape)\n",
    "        noisy_video.append(noisy_frame)\n",
    "    return np.array(noisy_video)"
   ]
  },
  {
   "cell_type": "markdown",
   "id": "969895c9",
   "metadata": {
    "papermill": {
     "duration": 0.011718,
     "end_time": "2025-07-12T08:43:04.226991",
     "exception": false,
     "start_time": "2025-07-12T08:43:04.215273",
     "status": "completed"
    },
    "tags": []
   },
   "source": [
    "## Horizontal Flip"
   ]
  },
  {
   "cell_type": "code",
   "execution_count": 13,
   "id": "958fc1bd",
   "metadata": {
    "execution": {
     "iopub.execute_input": "2025-07-12T08:43:04.251865Z",
     "iopub.status.busy": "2025-07-12T08:43:04.251559Z",
     "iopub.status.idle": "2025-07-12T08:43:04.255005Z",
     "shell.execute_reply": "2025-07-12T08:43:04.254447Z"
    },
    "papermill": {
     "duration": 0.017079,
     "end_time": "2025-07-12T08:43:04.256161",
     "exception": false,
     "start_time": "2025-07-12T08:43:04.239082",
     "status": "completed"
    },
    "tags": []
   },
   "outputs": [],
   "source": [
    "# horizontal flip function def\n",
    "# Testing Flip feautes[0] -> first video\n",
    "def horizontal_flip(video):\n",
    "    return [tf.image.flip_left_right(frame) for frame in video]"
   ]
  },
  {
   "cell_type": "markdown",
   "id": "39eb5644",
   "metadata": {
    "papermill": {
     "duration": 0.010188,
     "end_time": "2025-07-12T08:43:04.277194",
     "exception": false,
     "start_time": "2025-07-12T08:43:04.267006",
     "status": "completed"
    },
    "tags": []
   },
   "source": [
    "## Random Shear"
   ]
  },
  {
   "cell_type": "code",
   "execution_count": 14,
   "id": "d91cfc7c",
   "metadata": {
    "execution": {
     "iopub.execute_input": "2025-07-12T08:43:04.298961Z",
     "iopub.status.busy": "2025-07-12T08:43:04.298747Z",
     "iopub.status.idle": "2025-07-12T08:43:04.304413Z",
     "shell.execute_reply": "2025-07-12T08:43:04.303904Z"
    },
    "papermill": {
     "duration": 0.017851,
     "end_time": "2025-07-12T08:43:04.305469",
     "exception": false,
     "start_time": "2025-07-12T08:43:04.287618",
     "status": "completed"
    },
    "tags": []
   },
   "outputs": [],
   "source": [
    "# random shear function def\n",
    "import numpy as np\n",
    "import tensorflow as tf\n",
    "from scipy.ndimage import affine_transform\n",
    "\n",
    "def apply_shear_frames(frames, shear_right):\n",
    "    return [apply_shear(frame, shear_right) for frame in frames]\n",
    "\n",
    "def apply_shear(frame, shear_right=0):\n",
    "    frame_resized = tf.image.resize(frame, (IMAGE_HEIGHT, IMAGE_WIDTH)).numpy()\n",
    "    if shear_right:\n",
    "        shear_x = 0.09\n",
    "        shear_y = 0.1\n",
    "    else:\n",
    "        shear_x = -0.09\n",
    "        shear_y = 0.3\n",
    "    # Construct the affine matrix for scipy: inverse of the transformation matrix\n",
    "    # scipy applies the inverse transform matrix\n",
    "    shear_matrix = np.array([\n",
    "        [1, shear_x, 0],\n",
    "        [shear_y, 1, 0],\n",
    "        [0, 0, 1]\n",
    "    ], dtype=np.float32)\n",
    "\n",
    "    # Extract 2x2 part for affine_transform\n",
    "    matrix = shear_matrix[:2, :2]\n",
    "\n",
    "    # Offset (no translation)\n",
    "    offset = [0, 0]\n",
    "\n",
    "    # Apply affine transform on each channel separately\n",
    "    sheared = np.zeros_like(frame_resized)\n",
    "    for c in range(3):\n",
    "        sheared[..., c] = affine_transform(\n",
    "            frame_resized[..., c],\n",
    "            matrix=matrix,\n",
    "            offset=offset,\n",
    "            order=1,          # bilinear interpolation\n",
    "            mode='nearest'    # fill_mode\n",
    "        )\n",
    "    return sheared"
   ]
  },
  {
   "cell_type": "markdown",
   "id": "f7dbfd3c",
   "metadata": {
    "papermill": {
     "duration": 0.011039,
     "end_time": "2025-07-12T08:43:04.327687",
     "exception": false,
     "start_time": "2025-07-12T08:43:04.316648",
     "status": "completed"
    },
    "tags": []
   },
   "source": [
    "# 📌 Model Related\n",
    "## 🗼 Model Architecture `create_model`"
   ]
  },
  {
   "cell_type": "code",
   "execution_count": 15,
   "id": "4265ade1",
   "metadata": {
    "execution": {
     "iopub.execute_input": "2025-07-12T08:43:04.350835Z",
     "iopub.status.busy": "2025-07-12T08:43:04.350560Z",
     "iopub.status.idle": "2025-07-12T08:43:04.365276Z",
     "shell.execute_reply": "2025-07-12T08:43:04.364736Z"
    },
    "papermill": {
     "duration": 0.028072,
     "end_time": "2025-07-12T08:43:04.366376",
     "exception": false,
     "start_time": "2025-07-12T08:43:04.338304",
     "status": "completed"
    },
    "tags": []
   },
   "outputs": [],
   "source": [
    "from tensorflow.keras.applications import Xception\n",
    "from tensorflow.keras.models import Sequential\n",
    "from tensorflow.keras.layers import GlobalAveragePooling2D, TimeDistributed, LSTM, Dropout, Dense\n",
    "from tensorflow.keras.regularizers import l2\n",
    "from tensorflow.keras.layers import BatchNormalization\n",
    "\n",
    "def create_xception_lstm_model(sequence_length, image_height, image_width, classes_list=None, dropout_rate=0.5):\n",
    "    if classes_list is None:\n",
    "        raise ValueError(\"classes_list must be provided to define the output layer size\")\n",
    "\n",
    "    try:\n",
    "        # Load Xception model with pre-trained ImageNet weights\n",
    "        print(\"Loading Xception base model...\")\n",
    "        xception = Xception(\n",
    "            weights='imagenet',\n",
    "            include_top=False,\n",
    "            input_shape=(image_height, image_width, 3),\n",
    "            name=\"Xception\"\n",
    "        )\n",
    "        # Freeze Xception layers\n",
    "        for layer in xception.layers[:-10]:  # Unfreeze last 10 layers\n",
    "            layer.trainable = False\n",
    "        for layer in xception.layers[-10:]:\n",
    "            layer.trainable = True\n",
    "\n",
    "        # Define the Sequential model\n",
    "        model = Sequential([\n",
    "            # InputLayer and TimeDistributed Xception\n",
    "            TimeDistributed(\n",
    "                xception,\n",
    "                input_shape=(sequence_length, image_height, image_width, 3),\n",
    "                name=\"time_distributed\"\n",
    "            ),\n",
    "            # TimeDistributed GlobalAveragePooling2D\n",
    "            TimeDistributed(GlobalAveragePooling2D(), name=\"time_distributed_1\"),\n",
    "            # LSTM layer with 128 units\n",
    "            LSTM(128, activation=\"tanh\", return_sequences=False, kernel_regularizer=l2(0.01), name=\"lstm\"),\n",
    "            \n",
    "            BatchNormalization(name=\"batch_normalization\"),\n",
    "            # Dropout after LSTM\n",
    "            Dropout(dropout_rate, name=\"dropout_lstm\"),\n",
    "            # Dense layer with 512 units\n",
    "            Dense(512, activation=\"relu\", kernel_regularizer=l2(0.01), name=\"dense\"),\n",
    "            # Dropout after Dense\n",
    "            Dropout(dropout_rate + 0.1, name=\"dropout_dense\"),\n",
    "            # Output Dense layer with softmax activation\n",
    "            Dense(len(classes_list), activation=\"softmax\", name=\"dense_1\")\n",
    "        ])\n",
    "        \n",
    "        # Print model summary\n",
    "        print(\"Model architecture created successfully!\")\n",
    "        model.summary()\n",
    "\n",
    "        return model\n",
    "\n",
    "    except Exception as e:\n",
    "        print(f\"Error creating model: {e}\")\n",
    "        return None"
   ]
  },
  {
   "cell_type": "code",
   "execution_count": 16,
   "id": "f7c88a4a",
   "metadata": {
    "execution": {
     "iopub.execute_input": "2025-07-12T08:43:04.388948Z",
     "iopub.status.busy": "2025-07-12T08:43:04.388715Z",
     "iopub.status.idle": "2025-07-12T08:43:08.200149Z",
     "shell.execute_reply": "2025-07-12T08:43:08.199158Z"
    },
    "papermill": {
     "duration": 3.824264,
     "end_time": "2025-07-12T08:43:08.201463",
     "exception": false,
     "start_time": "2025-07-12T08:43:04.377199",
     "status": "completed"
    },
    "tags": []
   },
   "outputs": [
    {
     "name": "stdout",
     "output_type": "stream",
     "text": [
      "Pre-loading Xception weights...\n"
     ]
    },
    {
     "name": "stderr",
     "output_type": "stream",
     "text": [
      "I0000 00:00:1752309785.308697      19 gpu_device.cc:2022] Created device /job:localhost/replica:0/task:0/device:GPU:0 with 13942 MB memory:  -> device: 0, name: Tesla T4, pci bus id: 0000:00:04.0, compute capability: 7.5\n",
      "I0000 00:00:1752309785.309365      19 gpu_device.cc:2022] Created device /job:localhost/replica:0/task:0/device:GPU:1 with 13942 MB memory:  -> device: 1, name: Tesla T4, pci bus id: 0000:00:05.0, compute capability: 7.5\n"
     ]
    },
    {
     "name": "stdout",
     "output_type": "stream",
     "text": [
      "Downloading data from https://storage.googleapis.com/tensorflow/keras-applications/xception/xception_weights_tf_dim_ordering_tf_kernels_notop.h5\n",
      "\u001b[1m83683744/83683744\u001b[0m \u001b[32m━━━━━━━━━━━━━━━━━━━━\u001b[0m\u001b[37m\u001b[0m \u001b[1m0s\u001b[0m 0us/step\n",
      "Weights loaded successfully!\n"
     ]
    }
   ],
   "source": [
    "# donwload model weights\n",
    "from tensorflow.keras.applications import Xception\n",
    "print(\"Pre-loading Xception weights...\")\n",
    "base_model = Xception(weights='imagenet', include_top=False, input_shape=(IMAGE_HEIGHT, IMAGE_WIDTH, 3))\n",
    "print(\"Weights loaded successfully!\")"
   ]
  },
  {
   "cell_type": "markdown",
   "id": "65d89f3f",
   "metadata": {
    "papermill": {
     "duration": 0.011519,
     "end_time": "2025-07-12T08:43:08.225235",
     "exception": false,
     "start_time": "2025-07-12T08:43:08.213716",
     "status": "completed"
    },
    "tags": []
   },
   "source": [
    "# 📌 Execution\n",
    "## Creating Dataset\n",
    "The following functions are executed\n",
    "- `frame extraction`\n",
    "- `resize`\n",
    "\n",
    "which returns:\n",
    "- `features` - `np.array` of all the videos\n",
    "- `labels` - `np.array` of all the class labels"
   ]
  },
  {
   "cell_type": "code",
   "execution_count": 17,
   "id": "ea7fdc06",
   "metadata": {
    "execution": {
     "iopub.execute_input": "2025-07-12T08:43:08.247738Z",
     "iopub.status.busy": "2025-07-12T08:43:08.247482Z",
     "iopub.status.idle": "2025-07-12T08:45:10.698254Z",
     "shell.execute_reply": "2025-07-12T08:45:10.697679Z"
    },
    "papermill": {
     "duration": 122.463377,
     "end_time": "2025-07-12T08:45:10.699423",
     "exception": false,
     "start_time": "2025-07-12T08:43:08.236046",
     "status": "completed"
    },
    "tags": []
   },
   "outputs": [
    {
     "name": "stdout",
     "output_type": "stream",
     "text": [
      "Extracting Data of Class: Basketball\n",
      "Extracted 7 frames from file 50: v_Basketball_g22_c06.avi\n",
      "Extracting Data of Class: Biking\n",
      "Extracted 6 frames from file 50: v_Biking_g03_c04.avi\n",
      "Extracting Data of Class: Diving\n",
      "Extracted 5 frames from file 50: v_Diving_g25_c04.avi\n",
      "Extracting Data of Class: GolfSwing\n",
      "Extracted 5 frames from file 50: v_GolfSwing_g01_c04.avi\n",
      "Extracting Data of Class: HorseRiding\n",
      "Extracted 10 frames from file 50: v_HorseRiding_g03_c01.avi\n",
      "Extracting Data of Class: Skiing\n",
      "Extracted 5 frames from file 50: v_Skiing_g13_c01.avi\n",
      "Extracting Data of Class: SkateBoarding\n",
      "Extracted 5 frames from file 50: v_SkateBoarding_g08_c05.avi\n",
      "Extracting Data of Class: Swing\n",
      "Extracted 6 frames from file 50: v_Swing_g12_c02.avi\n",
      "Extracting Data of Class: TennisSwing\n",
      "Extracted 6 frames from file 50: v_TennisSwing_g20_c02.avi\n",
      "Extracting Data of Class: TrampolineJumping\n",
      "Extracted 7 frames from file 50: v_TrampolineJumping_g20_c01.avi\n",
      "Extracting Data of Class: WalkingWithDog\n",
      "Extracted 6 frames from file 50: v_WalkingWithDog_g19_c03.avi\n",
      "Dataset created with 550 videos\n",
      "Features shape: (550, 5, 128, 128, 3)\n",
      "Labels shape: (550,)\n"
     ]
    },
    {
     "data": {
      "text/plain": [
       "((550, 5, 128, 128, 3), (550,))"
      ]
     },
     "execution_count": 17,
     "metadata": {},
     "output_type": "execute_result"
    }
   ],
   "source": [
    "# RUN Create the dataset with explicit parameters\n",
    "try:\n",
    "    videos, labels = create_dataset(\n",
    "        dataset_dir=DATASET_DIR,\n",
    "        classes_list=CLASSES_LIST,\n",
    "        sequence_length=SEQUENCE_LENGTH,\n",
    "        image_height=IMAGE_HEIGHT,\n",
    "        image_width=IMAGE_WIDTH,\n",
    "        # Limit to 10 videos per class to manage memory\n",
    "        augmentations=True,\n",
    "        max_videos_per_class=MAX_VIDEO_PER_CLASS\n",
    "    )\n",
    "except FileNotFoundError as e:\n",
    "    print(f\"Error: {e}\")\n",
    "except ValueError as e:\n",
    "    print(f\"Error: {e}\")\n",
    "except Exception as e:\n",
    "    print(f\"Unexpected error: {e}\")\n",
    "\n",
    "videos.shape, labels.shape"
   ]
  },
  {
   "cell_type": "code",
   "execution_count": 18,
   "id": "00a8dd56",
   "metadata": {
    "execution": {
     "iopub.execute_input": "2025-07-12T08:45:11.001042Z",
     "iopub.status.busy": "2025-07-12T08:45:11.000340Z",
     "iopub.status.idle": "2025-07-12T08:45:11.005082Z",
     "shell.execute_reply": "2025-07-12T08:45:11.004327Z"
    },
    "papermill": {
     "duration": 0.152391,
     "end_time": "2025-07-12T08:45:11.006271",
     "exception": false,
     "start_time": "2025-07-12T08:45:10.853880",
     "status": "completed"
    },
    "tags": []
   },
   "outputs": [
    {
     "name": "stdout",
     "output_type": "stream",
     "text": [
      "Total 550 videos and 550 classes\n"
     ]
    }
   ],
   "source": [
    "video_generator = VideoDataGenerator(\n",
    "    videos=videos,\n",
    "    labels=labels,\n",
    "    batch_size=BATCH_SIZE\n",
    ")"
   ]
  },
  {
   "cell_type": "code",
   "execution_count": 19,
   "id": "ae18613c",
   "metadata": {
    "execution": {
     "iopub.execute_input": "2025-07-12T08:45:11.294183Z",
     "iopub.status.busy": "2025-07-12T08:45:11.293901Z",
     "iopub.status.idle": "2025-07-12T08:45:11.306950Z",
     "shell.execute_reply": "2025-07-12T08:45:11.306242Z"
    },
    "papermill": {
     "duration": 0.157951,
     "end_time": "2025-07-12T08:45:11.308108",
     "exception": false,
     "start_time": "2025-07-12T08:45:11.150157",
     "status": "completed"
    },
    "tags": []
   },
   "outputs": [
    {
     "data": {
      "text/plain": [
       "((24, 5, 128, 128, 3), (24,))"
      ]
     },
     "execution_count": 19,
     "metadata": {},
     "output_type": "execute_result"
    }
   ],
   "source": [
    "videos, labels = video_generator[3]\n",
    "\n",
    "videos.shape, labels.shape"
   ]
  },
  {
   "cell_type": "code",
   "execution_count": 20,
   "id": "982e064d",
   "metadata": {
    "execution": {
     "iopub.execute_input": "2025-07-12T08:45:11.640572Z",
     "iopub.status.busy": "2025-07-12T08:45:11.639926Z",
     "iopub.status.idle": "2025-07-12T08:45:11.644758Z",
     "shell.execute_reply": "2025-07-12T08:45:11.643975Z"
    },
    "papermill": {
     "duration": 0.150059,
     "end_time": "2025-07-12T08:45:11.645949",
     "exception": false,
     "start_time": "2025-07-12T08:45:11.495890",
     "status": "completed"
    },
    "tags": []
   },
   "outputs": [
    {
     "data": {
      "text/plain": [
       "550"
      ]
     },
     "execution_count": 20,
     "metadata": {},
     "output_type": "execute_result"
    }
   ],
   "source": [
    "len(video_generator.videos) "
   ]
  },
  {
   "cell_type": "code",
   "execution_count": 21,
   "id": "99f8a0e7",
   "metadata": {
    "execution": {
     "iopub.execute_input": "2025-07-12T08:45:11.940096Z",
     "iopub.status.busy": "2025-07-12T08:45:11.939858Z",
     "iopub.status.idle": "2025-07-12T08:45:11.944427Z",
     "shell.execute_reply": "2025-07-12T08:45:11.943831Z"
    },
    "papermill": {
     "duration": 0.152294,
     "end_time": "2025-07-12T08:45:11.945465",
     "exception": false,
     "start_time": "2025-07-12T08:45:11.793171",
     "status": "completed"
    },
    "tags": []
   },
   "outputs": [
    {
     "data": {
      "text/plain": [
       "23"
      ]
     },
     "execution_count": 21,
     "metadata": {},
     "output_type": "execute_result"
    }
   ],
   "source": [
    "len(video_generator)"
   ]
  },
  {
   "cell_type": "markdown",
   "id": "7838110d",
   "metadata": {
    "papermill": {
     "duration": 0.144385,
     "end_time": "2025-07-12T08:45:12.233134",
     "exception": false,
     "start_time": "2025-07-12T08:45:12.088749",
     "status": "completed"
    },
    "tags": []
   },
   "source": [
    "## Apply ***horizontal flip*** (Augmentation)"
   ]
  },
  {
   "cell_type": "code",
   "execution_count": 22,
   "id": "f59f29d9",
   "metadata": {
    "execution": {
     "iopub.execute_input": "2025-07-12T08:45:12.555237Z",
     "iopub.status.busy": "2025-07-12T08:45:12.554577Z",
     "iopub.status.idle": "2025-07-12T08:45:25.882002Z",
     "shell.execute_reply": "2025-07-12T08:45:25.881179Z"
    },
    "papermill": {
     "duration": 13.501388,
     "end_time": "2025-07-12T08:45:25.883474",
     "exception": false,
     "start_time": "2025-07-12T08:45:12.382086",
     "status": "completed"
    },
    "tags": []
   },
   "outputs": [
    {
     "name": "stdout",
     "output_type": "stream",
     "text": [
      "Processing video 550...\r"
     ]
    }
   ],
   "source": [
    "apply_augmentation(horizontal_flip, video_generator)"
   ]
  },
  {
   "cell_type": "code",
   "execution_count": 23,
   "id": "23b2fd14",
   "metadata": {
    "execution": {
     "iopub.execute_input": "2025-07-12T08:45:26.232547Z",
     "iopub.status.busy": "2025-07-12T08:45:26.231980Z",
     "iopub.status.idle": "2025-07-12T08:45:26.236712Z",
     "shell.execute_reply": "2025-07-12T08:45:26.235980Z"
    },
    "papermill": {
     "duration": 0.160482,
     "end_time": "2025-07-12T08:45:26.237888",
     "exception": false,
     "start_time": "2025-07-12T08:45:26.077406",
     "status": "completed"
    },
    "tags": []
   },
   "outputs": [
    {
     "name": "stdout",
     "output_type": "stream",
     "text": [
      "Checking Total Videos and Class Count: 550, 550\n",
      "PENDING Total Videos and Class Count: 550, 550\n"
     ]
    }
   ],
   "source": [
    "print(f\"Checking Total Videos and Class Count: {len(video_generator.videos)}, {len(video_generator.labels)}\")\n",
    "print(f\"PENDING Total Videos and Class Count: {len(video_generator.temp_videos)}, {len(video_generator.temp_labels)}\")"
   ]
  },
  {
   "cell_type": "code",
   "execution_count": 24,
   "id": "53f41c12",
   "metadata": {
    "execution": {
     "iopub.execute_input": "2025-07-12T08:45:26.548735Z",
     "iopub.status.busy": "2025-07-12T08:45:26.548427Z",
     "iopub.status.idle": "2025-07-12T08:45:26.552511Z",
     "shell.execute_reply": "2025-07-12T08:45:26.551817Z"
    },
    "papermill": {
     "duration": 0.159058,
     "end_time": "2025-07-12T08:45:26.553728",
     "exception": false,
     "start_time": "2025-07-12T08:45:26.394670",
     "status": "completed"
    },
    "tags": []
   },
   "outputs": [
    {
     "name": "stdout",
     "output_type": "stream",
     "text": [
      "Adding 550 videos with 550 classes.\n",
      "Successfully added - 550 videos and 550 classes.\n",
      "Now Total - 1100 videos and 1100 classes.\n",
      "PENDING for Augmentations - 0 videos and 0 classes.\n"
     ]
    }
   ],
   "source": [
    "video_generator.confirm()"
   ]
  },
  {
   "cell_type": "markdown",
   "id": "40ee5c37",
   "metadata": {
    "papermill": {
     "duration": 0.150964,
     "end_time": "2025-07-12T08:45:26.855678",
     "exception": false,
     "start_time": "2025-07-12T08:45:26.704714",
     "status": "completed"
    },
    "tags": []
   },
   "source": [
    "## Apply ***Noise*** (Augmentation)"
   ]
  },
  {
   "cell_type": "code",
   "execution_count": 25,
   "id": "08eb2aa3",
   "metadata": {
    "execution": {
     "iopub.execute_input": "2025-07-12T08:45:27.195499Z",
     "iopub.status.busy": "2025-07-12T08:45:27.194862Z",
     "iopub.status.idle": "2025-07-12T08:46:04.194150Z",
     "shell.execute_reply": "2025-07-12T08:46:04.193171Z"
    },
    "papermill": {
     "duration": 37.192843,
     "end_time": "2025-07-12T08:46:04.195907",
     "exception": false,
     "start_time": "2025-07-12T08:45:27.003064",
     "status": "completed"
    },
    "tags": []
   },
   "outputs": [
    {
     "name": "stdout",
     "output_type": "stream",
     "text": [
      "Processing video 1100...\r"
     ]
    }
   ],
   "source": [
    "apply_augmentation(noise_video, video_generator)"
   ]
  },
  {
   "cell_type": "code",
   "execution_count": 26,
   "id": "d4c83846",
   "metadata": {
    "execution": {
     "iopub.execute_input": "2025-07-12T08:46:04.533564Z",
     "iopub.status.busy": "2025-07-12T08:46:04.533271Z",
     "iopub.status.idle": "2025-07-12T08:46:04.538087Z",
     "shell.execute_reply": "2025-07-12T08:46:04.537339Z"
    },
    "papermill": {
     "duration": 0.16835,
     "end_time": "2025-07-12T08:46:04.539354",
     "exception": false,
     "start_time": "2025-07-12T08:46:04.371004",
     "status": "completed"
    },
    "tags": []
   },
   "outputs": [
    {
     "name": "stdout",
     "output_type": "stream",
     "text": [
      "Checking Total Videos and Class Count: 1100, 1100\n",
      "PENDING Total Videos and Class Count: 1100, 1100\n"
     ]
    }
   ],
   "source": [
    "print(f\"Checking Total Videos and Class Count: {len(video_generator.videos)}, {len(video_generator.labels)}\")\n",
    "print(f\"PENDING Total Videos and Class Count: {len(video_generator.temp_videos)}, {len(video_generator.temp_labels)}\")"
   ]
  },
  {
   "cell_type": "markdown",
   "id": "a8e17ae6",
   "metadata": {
    "papermill": {
     "duration": 0.152567,
     "end_time": "2025-07-12T08:46:04.851097",
     "exception": false,
     "start_time": "2025-07-12T08:46:04.698530",
     "status": "completed"
    },
    "tags": []
   },
   "source": [
    "## Apply ***Random Shear x2*** (Augmentation)"
   ]
  },
  {
   "cell_type": "code",
   "execution_count": 27,
   "id": "c5350b08",
   "metadata": {
    "execution": {
     "iopub.execute_input": "2025-07-12T08:46:05.164310Z",
     "iopub.status.busy": "2025-07-12T08:46:05.163800Z",
     "iopub.status.idle": "2025-07-12T08:47:35.848920Z",
     "shell.execute_reply": "2025-07-12T08:47:35.848243Z"
    },
    "papermill": {
     "duration": 90.841507,
     "end_time": "2025-07-12T08:47:35.850402",
     "exception": false,
     "start_time": "2025-07-12T08:46:05.008895",
     "status": "completed"
    },
    "tags": []
   },
   "outputs": [
    {
     "name": "stdout",
     "output_type": "stream",
     "text": [
      "Processing video 3300...\r"
     ]
    }
   ],
   "source": [
    "apply_augmentation(apply_shear_frames, video_generator, shear_right=0)\n",
    "apply_augmentation(apply_shear_frames, video_generator, shear_right=1)"
   ]
  },
  {
   "cell_type": "code",
   "execution_count": 28,
   "id": "350713da",
   "metadata": {
    "execution": {
     "iopub.execute_input": "2025-07-12T08:47:36.171863Z",
     "iopub.status.busy": "2025-07-12T08:47:36.171217Z",
     "iopub.status.idle": "2025-07-12T08:47:36.175781Z",
     "shell.execute_reply": "2025-07-12T08:47:36.175000Z"
    },
    "papermill": {
     "duration": 0.167097,
     "end_time": "2025-07-12T08:47:36.177067",
     "exception": false,
     "start_time": "2025-07-12T08:47:36.009970",
     "status": "completed"
    },
    "tags": []
   },
   "outputs": [
    {
     "name": "stdout",
     "output_type": "stream",
     "text": [
      "Checking Total Videos and Class Count: 1100, 1100\n",
      "PENDING Total Videos and Class Count: 3300, 3300\n"
     ]
    }
   ],
   "source": [
    "print(f\"Checking Total Videos and Class Count: {len(video_generator.videos)}, {len(video_generator.labels)}\")\n",
    "print(f\"PENDING Total Videos and Class Count: {len(video_generator.temp_videos)}, {len(video_generator.temp_labels)}\")"
   ]
  },
  {
   "cell_type": "code",
   "execution_count": 29,
   "id": "bb979b39",
   "metadata": {
    "execution": {
     "iopub.execute_input": "2025-07-12T08:47:36.502226Z",
     "iopub.status.busy": "2025-07-12T08:47:36.501431Z",
     "iopub.status.idle": "2025-07-12T08:47:36.505819Z",
     "shell.execute_reply": "2025-07-12T08:47:36.504925Z"
    },
    "papermill": {
     "duration": 0.165237,
     "end_time": "2025-07-12T08:47:36.507333",
     "exception": false,
     "start_time": "2025-07-12T08:47:36.342096",
     "status": "completed"
    },
    "tags": []
   },
   "outputs": [
    {
     "name": "stdout",
     "output_type": "stream",
     "text": [
      "Adding 3300 videos with 3300 classes.\n",
      "Successfully added - 3300 videos and 3300 classes.\n",
      "Now Total - 4400 videos and 4400 classes.\n",
      "PENDING for Augmentations - 0 videos and 0 classes.\n"
     ]
    }
   ],
   "source": [
    "# confirm changes to generator\n",
    "video_generator.confirm()"
   ]
  },
  {
   "cell_type": "code",
   "execution_count": 30,
   "id": "c149a360",
   "metadata": {
    "execution": {
     "iopub.execute_input": "2025-07-12T08:47:36.861237Z",
     "iopub.status.busy": "2025-07-12T08:47:36.860995Z",
     "iopub.status.idle": "2025-07-12T08:47:36.865322Z",
     "shell.execute_reply": "2025-07-12T08:47:36.864647Z"
    },
    "papermill": {
     "duration": 0.203265,
     "end_time": "2025-07-12T08:47:36.866435",
     "exception": false,
     "start_time": "2025-07-12T08:47:36.663170",
     "status": "completed"
    },
    "tags": []
   },
   "outputs": [
    {
     "name": "stdout",
     "output_type": "stream",
     "text": [
      "Checking Video Generator Total Videos and Class Count: 4400, 4400\n"
     ]
    }
   ],
   "source": [
    "print(f\"Checking Video Generator Total Videos and Class Count: {len(video_generator.videos)}, {len(video_generator.labels)}\")"
   ]
  },
  {
   "cell_type": "markdown",
   "id": "ebffb9de",
   "metadata": {
    "papermill": {
     "duration": 0.151087,
     "end_time": "2025-07-12T08:47:37.168696",
     "exception": false,
     "start_time": "2025-07-12T08:47:37.017609",
     "status": "completed"
    },
    "tags": []
   },
   "source": [
    "## Cheking (Output)"
   ]
  },
  {
   "cell_type": "code",
   "execution_count": 31,
   "id": "55fa443a",
   "metadata": {
    "execution": {
     "iopub.execute_input": "2025-07-12T08:47:37.489522Z",
     "iopub.status.busy": "2025-07-12T08:47:37.488920Z",
     "iopub.status.idle": "2025-07-12T08:47:37.783721Z",
     "shell.execute_reply": "2025-07-12T08:47:37.782997Z"
    },
    "papermill": {
     "duration": 0.46702,
     "end_time": "2025-07-12T08:47:37.785728",
     "exception": false,
     "start_time": "2025-07-12T08:47:37.318708",
     "status": "completed"
    },
    "tags": []
   },
   "outputs": [
    {
     "name": "stdout",
     "output_type": "stream",
     "text": [
      "(24, 5, 128, 128, 3) (24,)\n"
     ]
    },
    {
     "data": {
      "image/png": "[encoded data removed]",
      "text/plain": [
       "<Figure size 1000x500 with 2 Axes>"
      ]
     },
     "metadata": {},
     "output_type": "display_data"
    },
    {
     "name": "stdout",
     "output_type": "stream",
     "text": [
      "Might be two different action, but to check the flipping focus on the door behind.\n"
     ]
    }
   ],
   "source": [
    "# check horizontal flips\n",
    "videos, labels = video_generator[7]\n",
    "videos1, labels1 = video_generator[1]\n",
    "\n",
    "print(videos.shape, labels.shape)\n",
    "\n",
    "show_frame_vs(videos[0,0],videos1[1,0], title1=\"Flipped Frame 1\", title2=\"Non Flipped Frame 1\")\n",
    "print(\"Might be two different action, but to check the flipping focus on the door behind.\")"
   ]
  },
  {
   "cell_type": "markdown",
   "id": "b636fccc",
   "metadata": {
    "papermill": {
     "duration": 0.176088,
     "end_time": "2025-07-12T08:47:38.116730",
     "exception": false,
     "start_time": "2025-07-12T08:47:37.940642",
     "status": "completed"
    },
    "tags": []
   },
   "source": [
    "# 🧪 Test Augmentation (Output)\n",
    "## 🖼️ Horizontal Flip Output"
   ]
  },
  {
   "cell_type": "code",
   "execution_count": 32,
   "id": "530bc683",
   "metadata": {
    "execution": {
     "iopub.execute_input": "2025-07-12T08:47:38.514328Z",
     "iopub.status.busy": "2025-07-12T08:47:38.513821Z",
     "iopub.status.idle": "2025-07-12T08:47:38.517539Z",
     "shell.execute_reply": "2025-07-12T08:47:38.516722Z"
    },
    "papermill": {
     "duration": 0.21883,
     "end_time": "2025-07-12T08:47:38.518761",
     "exception": false,
     "start_time": "2025-07-12T08:47:38.299931",
     "status": "completed"
    },
    "tags": []
   },
   "outputs": [],
   "source": [
    "# flipped_video_1 = horizontal_flip(features[0])\n",
    "\n",
    "# flipped_video_1=np.asarray(flipped_video_1)\n",
    "\n",
    "# show_frame(flipped_video_1[0])\n",
    "# flipped_video_1.shape"
   ]
  },
  {
   "cell_type": "markdown",
   "id": "b2bc7c02",
   "metadata": {
    "papermill": {
     "duration": 0.153522,
     "end_time": "2025-07-12T08:47:38.826514",
     "exception": false,
     "start_time": "2025-07-12T08:47:38.672992",
     "status": "completed"
    },
    "tags": []
   },
   "source": [
    "## 🖼️ Salt and Pepper Noise Output"
   ]
  },
  {
   "cell_type": "code",
   "execution_count": 33,
   "id": "b8791507",
   "metadata": {
    "execution": {
     "iopub.execute_input": "2025-07-12T08:47:39.128756Z",
     "iopub.status.busy": "2025-07-12T08:47:39.128466Z",
     "iopub.status.idle": "2025-07-12T08:47:39.131763Z",
     "shell.execute_reply": "2025-07-12T08:47:39.131047Z"
    },
    "papermill": {
     "duration": 0.155534,
     "end_time": "2025-07-12T08:47:39.132949",
     "exception": false,
     "start_time": "2025-07-12T08:47:38.977415",
     "status": "completed"
    },
    "tags": []
   },
   "outputs": [],
   "source": [
    "# noised_video = noise_video(features[0])\n",
    "\n",
    "# print(noised_video.shape)\n",
    "# show_frame(noised_video[0])"
   ]
  },
  {
   "cell_type": "markdown",
   "id": "1a5cb5ef",
   "metadata": {
    "papermill": {
     "duration": 0.152449,
     "end_time": "2025-07-12T08:47:39.439393",
     "exception": false,
     "start_time": "2025-07-12T08:47:39.286944",
     "status": "completed"
    },
    "tags": []
   },
   "source": [
    "## 🖼️ Random Shear Output"
   ]
  },
  {
   "cell_type": "code",
   "execution_count": 34,
   "id": "abc51a38",
   "metadata": {
    "execution": {
     "iopub.execute_input": "2025-07-12T08:47:39.804867Z",
     "iopub.status.busy": "2025-07-12T08:47:39.804588Z",
     "iopub.status.idle": "2025-07-12T08:47:39.808037Z",
     "shell.execute_reply": "2025-07-12T08:47:39.807390Z"
    },
    "papermill": {
     "duration": 0.212661,
     "end_time": "2025-07-12T08:47:39.809144",
     "exception": false,
     "start_time": "2025-07-12T08:47:39.596483",
     "status": "completed"
    },
    "tags": []
   },
   "outputs": [],
   "source": [
    "# print(features.shape)\n",
    "\n",
    "# sheared_1 = apply_shear_frames(features[0], shear_right=0)\n",
    "# sheared_2 = apply_shear_frames(features[0], shear_right=1)\n",
    "\n",
    "# sheared_1 = np.asarray(sheared_1)\n",
    "# sheared_2 = np.asarray(sheared_2)\n",
    "\n",
    "# print(sheared_1.shape)\n",
    "# show_frame(sheared_1[0])\n",
    "# show_frame(sheared_2[0])"
   ]
  },
  {
   "cell_type": "markdown",
   "id": "8780f290",
   "metadata": {
    "papermill": {
     "duration": 0.152279,
     "end_time": "2025-07-12T08:47:40.118610",
     "exception": false,
     "start_time": "2025-07-12T08:47:39.966331",
     "status": "completed"
    },
    "tags": []
   },
   "source": [
    "# 📌 Preparing Data for Training"
   ]
  },
  {
   "cell_type": "code",
   "execution_count": 35,
   "id": "6f51e9d7",
   "metadata": {
    "execution": {
     "iopub.execute_input": "2025-07-12T08:47:40.421272Z",
     "iopub.status.busy": "2025-07-12T08:47:40.420536Z",
     "iopub.status.idle": "2025-07-12T08:47:40.879997Z",
     "shell.execute_reply": "2025-07-12T08:47:40.879361Z"
    },
    "papermill": {
     "duration": 0.610646,
     "end_time": "2025-07-12T08:47:40.881039",
     "exception": false,
     "start_time": "2025-07-12T08:47:40.270393",
     "status": "completed"
    },
    "tags": []
   },
   "outputs": [],
   "source": [
    "# Clear previous session to free memory\n",
    "import gc\n",
    "\n",
    "gc.collect()\n",
    "tf.keras.backend.clear_session()"
   ]
  },
  {
   "cell_type": "markdown",
   "id": "22c93358",
   "metadata": {
    "papermill": {
     "duration": 0.184892,
     "end_time": "2025-07-12T08:47:41.220249",
     "exception": false,
     "start_time": "2025-07-12T08:47:41.035357",
     "status": "completed"
    },
    "tags": []
   },
   "source": [
    "## Splitting data for ***Trainig*** and ***Testing***"
   ]
  },
  {
   "cell_type": "code",
   "execution_count": 36,
   "id": "a44bc464",
   "metadata": {
    "execution": {
     "iopub.execute_input": "2025-07-12T08:47:41.622793Z",
     "iopub.status.busy": "2025-07-12T08:47:41.622222Z",
     "iopub.status.idle": "2025-07-12T08:47:43.016408Z",
     "shell.execute_reply": "2025-07-12T08:47:43.015670Z"
    },
    "papermill": {
     "duration": 1.549519,
     "end_time": "2025-07-12T08:47:43.017687",
     "exception": false,
     "start_time": "2025-07-12T08:47:41.468168",
     "status": "completed"
    },
    "tags": []
   },
   "outputs": [
    {
     "data": {
      "text/plain": [
       "((4400, 5, 128, 128, 3), (4400,))"
      ]
     },
     "execution_count": 36,
     "metadata": {},
     "output_type": "execute_result"
    }
   ],
   "source": [
    "videos = video_generator.videos\n",
    "labels = video_generator.labels\n",
    "\n",
    "videos = np.array(videos, dtype='float32')\n",
    "labels = np.array(labels)\n",
    "\n",
    "videos.shape, labels.shape"
   ]
  },
  {
   "cell_type": "code",
   "execution_count": 37,
   "id": "56ff5133",
   "metadata": {
    "execution": {
     "iopub.execute_input": "2025-07-12T08:47:43.326593Z",
     "iopub.status.busy": "2025-07-12T08:47:43.326059Z",
     "iopub.status.idle": "2025-07-12T08:47:43.331309Z",
     "shell.execute_reply": "2025-07-12T08:47:43.330811Z"
    },
    "papermill": {
     "duration": 0.158133,
     "end_time": "2025-07-12T08:47:43.332229",
     "exception": false,
     "start_time": "2025-07-12T08:47:43.174096",
     "status": "completed"
    },
    "tags": []
   },
   "outputs": [
    {
     "data": {
      "text/plain": [
       "(4400, 11)"
      ]
     },
     "execution_count": 37,
     "metadata": {},
     "output_type": "execute_result"
    }
   ],
   "source": [
    "from tensorflow.keras.utils import to_categorical\n",
    "\n",
    "one_hot_encoded_labels = to_categorical(labels)\n",
    "\n",
    "one_hot_encoded_labels.shape"
   ]
  },
  {
   "cell_type": "code",
   "execution_count": 38,
   "id": "1ac26258",
   "metadata": {
    "execution": {
     "iopub.execute_input": "2025-07-12T08:47:43.633197Z",
     "iopub.status.busy": "2025-07-12T08:47:43.632506Z",
     "iopub.status.idle": "2025-07-12T08:47:43.861936Z",
     "shell.execute_reply": "2025-07-12T08:47:43.861210Z"
    },
    "papermill": {
     "duration": 0.380691,
     "end_time": "2025-07-12T08:47:43.863128",
     "exception": false,
     "start_time": "2025-07-12T08:47:43.482437",
     "status": "completed"
    },
    "tags": []
   },
   "outputs": [
    {
     "data": {
      "text/plain": [
       "0"
      ]
     },
     "execution_count": 38,
     "metadata": {},
     "output_type": "execute_result"
    }
   ],
   "source": [
    "gc.collect()"
   ]
  },
  {
   "cell_type": "code",
   "execution_count": 39,
   "id": "717e8cba",
   "metadata": {
    "execution": {
     "iopub.execute_input": "2025-07-12T08:47:44.201981Z",
     "iopub.status.busy": "2025-07-12T08:47:44.200889Z",
     "iopub.status.idle": "2025-07-12T08:47:45.441738Z",
     "shell.execute_reply": "2025-07-12T08:47:45.441056Z"
    },
    "papermill": {
     "duration": 1.416428,
     "end_time": "2025-07-12T08:47:45.442897",
     "exception": false,
     "start_time": "2025-07-12T08:47:44.026469",
     "status": "completed"
    },
    "tags": []
   },
   "outputs": [
    {
     "data": {
      "text/plain": [
       "((3520, 5, 128, 128, 3), (3520, 11), (880, 5, 128, 128, 3), (880, 11))"
      ]
     },
     "execution_count": 39,
     "metadata": {},
     "output_type": "execute_result"
    }
   ],
   "source": [
    "# RUN Split the Data into Train ( 75% ) and Test Set ( 25% ).\n",
    "from sklearn.model_selection import train_test_split\n",
    "features_train, features_test, labels_train, labels_test = train_test_split(videos,\n",
    "                                                                            one_hot_encoded_labels,\n",
    "                                                                            test_size = TEST_SIZE,\n",
    "                                                                            shuffle = True,\n",
    "                                                                            random_state = seed_constant)\n",
    "\n",
    "features_train.shape, labels_train.shape, features_test.shape, labels_test.shape"
   ]
  },
  {
   "cell_type": "markdown",
   "id": "b927f181",
   "metadata": {
    "papermill": {
     "duration": 0.158655,
     "end_time": "2025-07-12T08:47:45.796733",
     "exception": false,
     "start_time": "2025-07-12T08:47:45.638078",
     "status": "completed"
    },
    "tags": []
   },
   "source": [
    "## Splitting data for ***Training Set*** and ***Validation Set***"
   ]
  },
  {
   "cell_type": "code",
   "execution_count": 40,
   "id": "f4d034ca",
   "metadata": {
    "execution": {
     "iopub.execute_input": "2025-07-12T08:47:46.113057Z",
     "iopub.status.busy": "2025-07-12T08:47:46.112467Z",
     "iopub.status.idle": "2025-07-12T08:47:46.118822Z",
     "shell.execute_reply": "2025-07-12T08:47:46.118173Z"
    },
    "papermill": {
     "duration": 0.163917,
     "end_time": "2025-07-12T08:47:46.119817",
     "exception": false,
     "start_time": "2025-07-12T08:47:45.955900",
     "status": "completed"
    },
    "tags": []
   },
   "outputs": [
    {
     "data": {
      "text/plain": [
       "((2816, 5, 128, 128, 3), (2816, 11), (704, 5, 128, 128, 3), (704, 11))"
      ]
     },
     "execution_count": 40,
     "metadata": {},
     "output_type": "execute_result"
    }
   ],
   "source": [
    "# Assuming features_train and labels_train are defined\n",
    "train_set = 1-VALIDATION_SPLIT\n",
    "\n",
    "train_video_frames, val_video_frames = features_train[:int(train_set * len(features_train))], features_train[int(train_set * len(features_train)):]\n",
    "train_labels, val_labels = labels_train[:int(train_set * len(labels_train))], labels_train[int(train_set * len(labels_train)):]\n",
    "\n",
    "train_video_frames.shape, train_labels.shape, val_video_frames.shape, val_labels.shape"
   ]
  },
  {
   "cell_type": "markdown",
   "id": "5a9e4e56",
   "metadata": {
    "papermill": {
     "duration": 0.14994,
     "end_time": "2025-07-12T08:47:46.430866",
     "exception": false,
     "start_time": "2025-07-12T08:47:46.280926",
     "status": "completed"
    },
    "tags": []
   },
   "source": [
    "## Use Generator `Video Data Generator`"
   ]
  },
  {
   "cell_type": "code",
   "execution_count": 41,
   "id": "0edd9da8",
   "metadata": {
    "execution": {
     "iopub.execute_input": "2025-07-12T08:47:46.745250Z",
     "iopub.status.busy": "2025-07-12T08:47:46.744542Z",
     "iopub.status.idle": "2025-07-12T08:47:46.752839Z",
     "shell.execute_reply": "2025-07-12T08:47:46.752220Z"
    },
    "papermill": {
     "duration": 0.169687,
     "end_time": "2025-07-12T08:47:46.753964",
     "exception": false,
     "start_time": "2025-07-12T08:47:46.584277",
     "status": "completed"
    },
    "tags": []
   },
   "outputs": [
    {
     "name": "stdout",
     "output_type": "stream",
     "text": [
      "Total 2816 videos and 2816 classes\n",
      "Total 704 videos and 704 classes\n"
     ]
    },
    {
     "data": {
      "text/plain": [
       "(118, 30)"
      ]
     },
     "execution_count": 41,
     "metadata": {},
     "output_type": "execute_result"
    }
   ],
   "source": [
    "# Create the training and validation generators\n",
    "train_gen = VideoDataGenerator(\n",
    "    videos=train_video_frames, \n",
    "    labels=train_labels, \n",
    "    batch_size=BATCH_SIZE,\n",
    ")\n",
    "\n",
    "val_gen = VideoDataGenerator(\n",
    "    videos=val_video_frames, \n",
    "    labels=val_labels, \n",
    "    batch_size=BATCH_SIZE,\n",
    ")\n",
    "\n",
    "len(train_gen), len(val_gen)"
   ]
  },
  {
   "cell_type": "markdown",
   "id": "331574e2",
   "metadata": {
    "papermill": {
     "duration": 0.153177,
     "end_time": "2025-07-12T08:47:47.108789",
     "exception": false,
     "start_time": "2025-07-12T08:47:46.955612",
     "status": "completed"
    },
    "tags": []
   },
   "source": [
    "## Inspect ***Generator*** Data on Epochs"
   ]
  },
  {
   "cell_type": "code",
   "execution_count": 42,
   "id": "951057ae",
   "metadata": {
    "execution": {
     "iopub.execute_input": "2025-07-12T08:47:47.421044Z",
     "iopub.status.busy": "2025-07-12T08:47:47.420799Z",
     "iopub.status.idle": "2025-07-12T08:47:47.432028Z",
     "shell.execute_reply": "2025-07-12T08:47:47.431387Z"
    },
    "papermill": {
     "duration": 0.170817,
     "end_time": "2025-07-12T08:47:47.433220",
     "exception": false,
     "start_time": "2025-07-12T08:47:47.262403",
     "status": "completed"
    },
    "tags": []
   },
   "outputs": [
    {
     "name": "stdout",
     "output_type": "stream",
     "text": [
      "[   0    1    2 ... 2813 2814 2815]\n",
      "[ 321 1444 1604 ... 2522 1217 2394]\n"
     ]
    },
    {
     "data": {
      "text/plain": [
       "(24, (24, 5, 128, 128, 3), (24, 11))"
      ]
     },
     "execution_count": 42,
     "metadata": {},
     "output_type": "execute_result"
    }
   ],
   "source": [
    "features, labels = train_gen[1]\n",
    "\n",
    "print(train_gen.indices)\n",
    "\n",
    "train_gen.on_epoch_end()\n",
    "\n",
    "print(train_gen.indices)\n",
    "\n",
    "BATCH_SIZE, features.shape, labels.shape"
   ]
  },
  {
   "cell_type": "markdown",
   "id": "7c8555a9",
   "metadata": {
    "papermill": {
     "duration": 0.186384,
     "end_time": "2025-07-12T08:47:47.822177",
     "exception": false,
     "start_time": "2025-07-12T08:47:47.635793",
     "status": "completed"
    },
    "tags": []
   },
   "source": [
    "## Compute Class Weight"
   ]
  },
  {
   "cell_type": "code",
   "execution_count": 43,
   "id": "898d8f2f",
   "metadata": {
    "execution": {
     "iopub.execute_input": "2025-07-12T08:47:48.196373Z",
     "iopub.status.busy": "2025-07-12T08:47:48.196098Z",
     "iopub.status.idle": "2025-07-12T08:47:48.202837Z",
     "shell.execute_reply": "2025-07-12T08:47:48.202143Z"
    },
    "papermill": {
     "duration": 0.211385,
     "end_time": "2025-07-12T08:47:48.203969",
     "exception": false,
     "start_time": "2025-07-12T08:47:47.992584",
     "status": "completed"
    },
    "tags": []
   },
   "outputs": [
    {
     "name": "stdout",
     "output_type": "stream",
     "text": [
      "Class weights: {0: 1.0, 1: 1.0, 2: 1.0, 3: 1.0, 4: 1.0, 5: 1.0, 6: 1.0, 7: 1.0, 8: 1.0, 9: 1.0, 10: 1.0}\n"
     ]
    }
   ],
   "source": [
    "from sklearn.utils.class_weight import compute_class_weight\n",
    "import numpy as np\n",
    "\n",
    "# Assuming y_int are integer labels (not one-hot)\n",
    "y_int = np.argmax(one_hot_encoded_labels, axis=1)  # or just integer labels if you have them\n",
    "\n",
    "classes = np.arange(NO_OF_CLASSES)  # e.g. np.arange(16)\n",
    "class_weights_values = compute_class_weight(class_weight='balanced', classes=classes, y=y_int)\n",
    "\n",
    "class_weights = dict(zip(classes, class_weights_values))\n",
    "\n",
    "print(\"Class weights:\", class_weights)\n"
   ]
  },
  {
   "cell_type": "code",
   "execution_count": 44,
   "id": "d9ab0d54",
   "metadata": {
    "execution": {
     "iopub.execute_input": "2025-07-12T08:47:48.524471Z",
     "iopub.status.busy": "2025-07-12T08:47:48.524177Z",
     "iopub.status.idle": "2025-07-12T08:47:48.774661Z",
     "shell.execute_reply": "2025-07-12T08:47:48.773822Z"
    },
    "papermill": {
     "duration": 0.412786,
     "end_time": "2025-07-12T08:47:48.776016",
     "exception": false,
     "start_time": "2025-07-12T08:47:48.363230",
     "status": "completed"
    },
    "tags": []
   },
   "outputs": [],
   "source": [
    "gc.collect()\n",
    "del videos, one_hot_encoded_labels, labels_train\n",
    "del features_train, val_labels, train_labels\n",
    "del val_video_frames, train_video_frames"
   ]
  },
  {
   "cell_type": "markdown",
   "id": "c9884241",
   "metadata": {
    "papermill": {
     "duration": 0.171283,
     "end_time": "2025-07-12T08:47:49.107460",
     "exception": false,
     "start_time": "2025-07-12T08:47:48.936177",
     "status": "completed"
    },
    "tags": []
   },
   "source": [
    "# ✨ Model Execution\n",
    "## Creating Model"
   ]
  },
  {
   "cell_type": "code",
   "execution_count": 45,
   "id": "554bab66",
   "metadata": {
    "execution": {
     "iopub.execute_input": "2025-07-12T08:47:49.434752Z",
     "iopub.status.busy": "2025-07-12T08:47:49.434104Z",
     "iopub.status.idle": "2025-07-12T08:47:50.782469Z",
     "shell.execute_reply": "2025-07-12T08:47:50.781663Z"
    },
    "papermill": {
     "duration": 1.513622,
     "end_time": "2025-07-12T08:47:50.783724",
     "exception": false,
     "start_time": "2025-07-12T08:47:49.270102",
     "status": "completed"
    },
    "tags": []
   },
   "outputs": [
    {
     "name": "stdout",
     "output_type": "stream",
     "text": [
      "Loading Xception base model...\n",
      "Model architecture created successfully!\n"
     ]
    },
    {
     "name": "stderr",
     "output_type": "stream",
     "text": [
      "/usr/local/lib/python3.11/dist-packages/keras/src/layers/core/wrapper.py:27: UserWarning: Do not pass an `input_shape`/`input_dim` argument to a layer. When using Sequential models, prefer using an `Input(shape)` object as the first layer in the model instead.\n",
      "  super().__init__(**kwargs)\n"
     ]
    },
    {
     "data": {
      "text/html": [
       "<pre style=\"white-space:pre;overflow-x:auto;line-height:normal;font-family:Menlo,'DejaVu Sans Mono',consolas,'Courier New',monospace\"><span style=\"font-weight: bold\">Model: \"sequential\"</span>\n",
       "</pre>\n"
      ],
      "text/plain": [
       "\u001b[1mModel: \"sequential\"\u001b[0m\n"
      ]
     },
     "metadata": {},
     "output_type": "display_data"
    },
    {
     "data": {
      "text/html": [
       "<pre style=\"white-space:pre;overflow-x:auto;line-height:normal;font-family:Menlo,'DejaVu Sans Mono',consolas,'Courier New',monospace\">┏━━━━━━━━━━━━━━━━━━━━━━━━━━━━━━━━━┳━━━━━━━━━━━━━━━━━━━━━━━━┳━━━━━━━━━━━━━━━┓\n",
       "┃<span style=\"font-weight: bold\"> Layer (type)                    </span>┃<span style=\"font-weight: bold\"> Output Shape           </span>┃<span style=\"font-weight: bold\">       Param # </span>┃\n",
       "┡━━━━━━━━━━━━━━━━━━━━━━━━━━━━━━━━━╇━━━━━━━━━━━━━━━━━━━━━━━━╇━━━━━━━━━━━━━━━┩\n",
       "│ time_distributed                │ (<span style=\"color: #00d7ff; text-decoration-color: #00d7ff\">None</span>, <span style=\"color: #00af00; text-decoration-color: #00af00\">5</span>, <span style=\"color: #00af00; text-decoration-color: #00af00\">4</span>, <span style=\"color: #00af00; text-decoration-color: #00af00\">4</span>, <span style=\"color: #00af00; text-decoration-color: #00af00\">2048</span>)  │    <span style=\"color: #00af00; text-decoration-color: #00af00\">20,861,480</span> │\n",
       "│ (<span style=\"color: #0087ff; text-decoration-color: #0087ff\">TimeDistributed</span>)               │                        │               │\n",
       "├─────────────────────────────────┼────────────────────────┼───────────────┤\n",
       "│ time_distributed_1              │ (<span style=\"color: #00d7ff; text-decoration-color: #00d7ff\">None</span>, <span style=\"color: #00af00; text-decoration-color: #00af00\">5</span>, <span style=\"color: #00af00; text-decoration-color: #00af00\">2048</span>)        │             <span style=\"color: #00af00; text-decoration-color: #00af00\">0</span> │\n",
       "│ (<span style=\"color: #0087ff; text-decoration-color: #0087ff\">TimeDistributed</span>)               │                        │               │\n",
       "├─────────────────────────────────┼────────────────────────┼───────────────┤\n",
       "│ lstm (<span style=\"color: #0087ff; text-decoration-color: #0087ff\">LSTM</span>)                     │ (<span style=\"color: #00d7ff; text-decoration-color: #00d7ff\">None</span>, <span style=\"color: #00af00; text-decoration-color: #00af00\">128</span>)            │     <span style=\"color: #00af00; text-decoration-color: #00af00\">1,114,624</span> │\n",
       "├─────────────────────────────────┼────────────────────────┼───────────────┤\n",
       "│ batch_normalization             │ (<span style=\"color: #00d7ff; text-decoration-color: #00d7ff\">None</span>, <span style=\"color: #00af00; text-decoration-color: #00af00\">128</span>)            │           <span style=\"color: #00af00; text-decoration-color: #00af00\">512</span> │\n",
       "│ (<span style=\"color: #0087ff; text-decoration-color: #0087ff\">BatchNormalization</span>)            │                        │               │\n",
       "├─────────────────────────────────┼────────────────────────┼───────────────┤\n",
       "│ dropout_lstm (<span style=\"color: #0087ff; text-decoration-color: #0087ff\">Dropout</span>)          │ (<span style=\"color: #00d7ff; text-decoration-color: #00d7ff\">None</span>, <span style=\"color: #00af00; text-decoration-color: #00af00\">128</span>)            │             <span style=\"color: #00af00; text-decoration-color: #00af00\">0</span> │\n",
       "├─────────────────────────────────┼────────────────────────┼───────────────┤\n",
       "│ dense (<span style=\"color: #0087ff; text-decoration-color: #0087ff\">Dense</span>)                   │ (<span style=\"color: #00d7ff; text-decoration-color: #00d7ff\">None</span>, <span style=\"color: #00af00; text-decoration-color: #00af00\">512</span>)            │        <span style=\"color: #00af00; text-decoration-color: #00af00\">66,048</span> │\n",
       "├─────────────────────────────────┼────────────────────────┼───────────────┤\n",
       "│ dropout_dense (<span style=\"color: #0087ff; text-decoration-color: #0087ff\">Dropout</span>)         │ (<span style=\"color: #00d7ff; text-decoration-color: #00d7ff\">None</span>, <span style=\"color: #00af00; text-decoration-color: #00af00\">512</span>)            │             <span style=\"color: #00af00; text-decoration-color: #00af00\">0</span> │\n",
       "├─────────────────────────────────┼────────────────────────┼───────────────┤\n",
       "│ dense_1 (<span style=\"color: #0087ff; text-decoration-color: #0087ff\">Dense</span>)                 │ (<span style=\"color: #00d7ff; text-decoration-color: #00d7ff\">None</span>, <span style=\"color: #00af00; text-decoration-color: #00af00\">11</span>)             │         <span style=\"color: #00af00; text-decoration-color: #00af00\">5,643</span> │\n",
       "└─────────────────────────────────┴────────────────────────┴───────────────┘\n",
       "</pre>\n"
      ],
      "text/plain": [
       "┏━━━━━━━━━━━━━━━━━━━━━━━━━━━━━━━━━┳━━━━━━━━━━━━━━━━━━━━━━━━┳━━━━━━━━━━━━━━━┓\n",
       "┃\u001b[1m \u001b[0m\u001b[1mLayer (type)                   \u001b[0m\u001b[1m \u001b[0m┃\u001b[1m \u001b[0m\u001b[1mOutput Shape          \u001b[0m\u001b[1m \u001b[0m┃\u001b[1m \u001b[0m\u001b[1m      Param #\u001b[0m\u001b[1m \u001b[0m┃\n",
       "┡━━━━━━━━━━━━━━━━━━━━━━━━━━━━━━━━━╇━━━━━━━━━━━━━━━━━━━━━━━━╇━━━━━━━━━━━━━━━┩\n",
       "│ time_distributed                │ (\u001b[38;5;45mNone\u001b[0m, \u001b[38;5;34m5\u001b[0m, \u001b[38;5;34m4\u001b[0m, \u001b[38;5;34m4\u001b[0m, \u001b[38;5;34m2048\u001b[0m)  │    \u001b[38;5;34m20,861,480\u001b[0m │\n",
       "│ (\u001b[38;5;33mTimeDistributed\u001b[0m)               │                        │               │\n",
       "├─────────────────────────────────┼────────────────────────┼───────────────┤\n",
       "│ time_distributed_1              │ (\u001b[38;5;45mNone\u001b[0m, \u001b[38;5;34m5\u001b[0m, \u001b[38;5;34m2048\u001b[0m)        │             \u001b[38;5;34m0\u001b[0m │\n",
       "│ (\u001b[38;5;33mTimeDistributed\u001b[0m)               │                        │               │\n",
       "├─────────────────────────────────┼────────────────────────┼───────────────┤\n",
       "│ lstm (\u001b[38;5;33mLSTM\u001b[0m)                     │ (\u001b[38;5;45mNone\u001b[0m, \u001b[38;5;34m128\u001b[0m)            │     \u001b[38;5;34m1,114,624\u001b[0m │\n",
       "├─────────────────────────────────┼────────────────────────┼───────────────┤\n",
       "│ batch_normalization             │ (\u001b[38;5;45mNone\u001b[0m, \u001b[38;5;34m128\u001b[0m)            │           \u001b[38;5;34m512\u001b[0m │\n",
       "│ (\u001b[38;5;33mBatchNormalization\u001b[0m)            │                        │               │\n",
       "├─────────────────────────────────┼────────────────────────┼───────────────┤\n",
       "│ dropout_lstm (\u001b[38;5;33mDropout\u001b[0m)          │ (\u001b[38;5;45mNone\u001b[0m, \u001b[38;5;34m128\u001b[0m)            │             \u001b[38;5;34m0\u001b[0m │\n",
       "├─────────────────────────────────┼────────────────────────┼───────────────┤\n",
       "│ dense (\u001b[38;5;33mDense\u001b[0m)                   │ (\u001b[38;5;45mNone\u001b[0m, \u001b[38;5;34m512\u001b[0m)            │        \u001b[38;5;34m66,048\u001b[0m │\n",
       "├─────────────────────────────────┼────────────────────────┼───────────────┤\n",
       "│ dropout_dense (\u001b[38;5;33mDropout\u001b[0m)         │ (\u001b[38;5;45mNone\u001b[0m, \u001b[38;5;34m512\u001b[0m)            │             \u001b[38;5;34m0\u001b[0m │\n",
       "├─────────────────────────────────┼────────────────────────┼───────────────┤\n",
       "│ dense_1 (\u001b[38;5;33mDense\u001b[0m)                 │ (\u001b[38;5;45mNone\u001b[0m, \u001b[38;5;34m11\u001b[0m)             │         \u001b[38;5;34m5,643\u001b[0m │\n",
       "└─────────────────────────────────┴────────────────────────┴───────────────┘\n"
      ]
     },
     "metadata": {},
     "output_type": "display_data"
    },
    {
     "data": {
      "text/html": [
       "<pre style=\"white-space:pre;overflow-x:auto;line-height:normal;font-family:Menlo,'DejaVu Sans Mono',consolas,'Courier New',monospace\"><span style=\"font-weight: bold\"> Total params: </span><span style=\"color: #00af00; text-decoration-color: #00af00\">22,048,307</span> (84.11 MB)\n",
       "</pre>\n"
      ],
      "text/plain": [
       "\u001b[1m Total params: \u001b[0m\u001b[38;5;34m22,048,307\u001b[0m (84.11 MB)\n"
      ]
     },
     "metadata": {},
     "output_type": "display_data"
    },
    {
     "data": {
      "text/html": [
       "<pre style=\"white-space:pre;overflow-x:auto;line-height:normal;font-family:Menlo,'DejaVu Sans Mono',consolas,'Courier New',monospace\"><span style=\"font-weight: bold\"> Trainable params: </span><span style=\"color: #00af00; text-decoration-color: #00af00\">6,682,891</span> (25.49 MB)\n",
       "</pre>\n"
      ],
      "text/plain": [
       "\u001b[1m Trainable params: \u001b[0m\u001b[38;5;34m6,682,891\u001b[0m (25.49 MB)\n"
      ]
     },
     "metadata": {},
     "output_type": "display_data"
    },
    {
     "data": {
      "text/html": [
       "<pre style=\"white-space:pre;overflow-x:auto;line-height:normal;font-family:Menlo,'DejaVu Sans Mono',consolas,'Courier New',monospace\"><span style=\"font-weight: bold\"> Non-trainable params: </span><span style=\"color: #00af00; text-decoration-color: #00af00\">15,365,416</span> (58.61 MB)\n",
       "</pre>\n"
      ],
      "text/plain": [
       "\u001b[1m Non-trainable params: \u001b[0m\u001b[38;5;34m15,365,416\u001b[0m (58.61 MB)\n"
      ]
     },
     "metadata": {},
     "output_type": "display_data"
    },
    {
     "name": "stdout",
     "output_type": "stream",
     "text": [
      "Model Created Successfully!\n"
     ]
    }
   ],
   "source": [
    "# Create the model\n",
    "xlstm_model = create_xception_lstm_model(\n",
    "    sequence_length=SEQUENCE_LENGTH,\n",
    "    image_height=IMAGE_HEIGHT,\n",
    "    image_width=IMAGE_WIDTH,\n",
    "    classes_list=CLASSES_LIST,\n",
    "    dropout_rate=DROPOUT_RATE\n",
    ")\n",
    "\n",
    "# Check if model was created successfully\n",
    "if xlstm_model is None:\n",
    "    print(\"Failed to create model. Check error messages above.\")\n",
    "else:\n",
    "    print(\"Model Created Successfully!\")"
   ]
  },
  {
   "cell_type": "markdown",
   "id": "2cba5e1f",
   "metadata": {
    "papermill": {
     "duration": 0.158831,
     "end_time": "2025-07-12T08:47:51.101297",
     "exception": false,
     "start_time": "2025-07-12T08:47:50.942466",
     "status": "completed"
    },
    "tags": []
   },
   "source": [
    "## Plot Model Structure"
   ]
  },
  {
   "cell_type": "code",
   "execution_count": 46,
   "id": "9e981bd3",
   "metadata": {
    "execution": {
     "iopub.execute_input": "2025-07-12T08:47:51.477835Z",
     "iopub.status.busy": "2025-07-12T08:47:51.477217Z",
     "iopub.status.idle": "2025-07-12T08:47:51.834264Z",
     "shell.execute_reply": "2025-07-12T08:47:51.833493Z"
    },
    "papermill": {
     "duration": 0.51683,
     "end_time": "2025-07-12T08:47:51.835555",
     "exception": false,
     "start_time": "2025-07-12T08:47:51.318725",
     "status": "completed"
    },
    "tags": []
   },
   "outputs": [
    {
     "name": "stdout",
     "output_type": "stream",
     "text": [
      "Xception Model Plot saved successfully...\n"
     ]
    }
   ],
   "source": [
    "# Plot the structure of the contructed model.\n",
    "from tensorflow.keras.utils import plot_model\n",
    "\n",
    "plot_model(xlstm_model, to_file = f'{MODEL_NAME}_model_Plot.png', show_shapes = True, show_layer_names = True)\n",
    "\n",
    "print(f\"{MODEL_NAME} Model Plot saved successfully...\")"
   ]
  },
  {
   "cell_type": "markdown",
   "id": "a56a3257",
   "metadata": {
    "papermill": {
     "duration": 0.165192,
     "end_time": "2025-07-12T08:47:52.170668",
     "exception": false,
     "start_time": "2025-07-12T08:47:52.005476",
     "status": "completed"
    },
    "tags": []
   },
   "source": [
    "## Model Compile"
   ]
  },
  {
   "cell_type": "code",
   "execution_count": 47,
   "id": "90ab004c",
   "metadata": {
    "execution": {
     "iopub.execute_input": "2025-07-12T08:47:52.549396Z",
     "iopub.status.busy": "2025-07-12T08:47:52.548464Z",
     "iopub.status.idle": "2025-07-12T08:47:52.569762Z",
     "shell.execute_reply": "2025-07-12T08:47:52.569078Z"
    },
    "papermill": {
     "duration": 0.212229,
     "end_time": "2025-07-12T08:47:52.570991",
     "exception": false,
     "start_time": "2025-07-12T08:47:52.358762",
     "status": "completed"
    },
    "tags": []
   },
   "outputs": [],
   "source": [
    "# Create an Instance of Early Stopping Callback\n",
    "from tensorflow.keras.callbacks import EarlyStopping\n",
    "\n",
    "early_stopping_callback = EarlyStopping(monitor = 'val_loss', \n",
    "                                        patience = 7, \n",
    "                                        mode = 'min', \n",
    "                                        restore_best_weights = True)\n",
    "\n",
    "# Compile the model and specify loss function, optimizer and metrics values to the model\n",
    "xlstm_model.compile(loss = 'categorical_crossentropy', \n",
    "                    optimizer=tf.keras.optimizers.Adam(learning_rate=0.0001),\n",
    "                    metrics = [\"accuracy\"])\n"
   ]
  },
  {
   "cell_type": "markdown",
   "id": "33473f06",
   "metadata": {
    "papermill": {
     "duration": 0.178254,
     "end_time": "2025-07-12T08:47:52.919633",
     "exception": false,
     "start_time": "2025-07-12T08:47:52.741379",
     "status": "completed"
    },
    "tags": []
   },
   "source": [
    "## 💪 Model Fit"
   ]
  },
  {
   "cell_type": "code",
   "execution_count": 48,
   "id": "b3423488",
   "metadata": {
    "execution": {
     "iopub.execute_input": "2025-07-12T08:47:53.309864Z",
     "iopub.status.busy": "2025-07-12T08:47:53.309090Z",
     "iopub.status.idle": "2025-07-12T08:47:53.318751Z",
     "shell.execute_reply": "2025-07-12T08:47:53.317681Z"
    },
    "papermill": {
     "duration": 0.19872,
     "end_time": "2025-07-12T08:47:53.320198",
     "exception": false,
     "start_time": "2025-07-12T08:47:53.121478",
     "status": "completed"
    },
    "tags": []
   },
   "outputs": [
    {
     "name": "stdout",
     "output_type": "stream",
     "text": [
      "Unique labels: [ 0  1  2  3  4  5  6  7  8  9 10]\n",
      "NO_OF_CLASSES: 11\n"
     ]
    }
   ],
   "source": [
    "labels = np.argmax(train_gen.labels, axis=1)  # assuming one-hot encoded\n",
    "print(\"Unique labels:\", np.unique(labels))\n",
    "print(\"NO_OF_CLASSES:\", NO_OF_CLASSES)\n"
   ]
  },
  {
   "cell_type": "code",
   "execution_count": 49,
   "id": "dd9a4f88",
   "metadata": {
    "execution": {
     "iopub.execute_input": "2025-07-12T08:47:53.662976Z",
     "iopub.status.busy": "2025-07-12T08:47:53.662470Z",
     "iopub.status.idle": "2025-07-12T08:47:53.670345Z",
     "shell.execute_reply": "2025-07-12T08:47:53.669499Z"
    },
    "papermill": {
     "duration": 0.167785,
     "end_time": "2025-07-12T08:47:53.671497",
     "exception": false,
     "start_time": "2025-07-12T08:47:53.503712",
     "status": "completed"
    },
    "tags": []
   },
   "outputs": [
    {
     "name": "stdout",
     "output_type": "stream",
     "text": [
      "Train label shape: (2816, 11)\n",
      "Val label shape: (704, 11)\n"
     ]
    }
   ],
   "source": [
    "print(\"Train label shape:\", np.shape(train_gen.labels))\n",
    "print(\"Val label shape:\", np.shape(val_gen.labels))\n"
   ]
  },
  {
   "cell_type": "code",
   "execution_count": 50,
   "id": "49d8d52c",
   "metadata": {
    "execution": {
     "iopub.execute_input": "2025-07-12T08:47:53.994163Z",
     "iopub.status.busy": "2025-07-12T08:47:53.993597Z",
     "iopub.status.idle": "2025-07-12T08:47:53.997666Z",
     "shell.execute_reply": "2025-07-12T08:47:53.996947Z"
    },
    "papermill": {
     "duration": 0.161527,
     "end_time": "2025-07-12T08:47:53.998976",
     "exception": false,
     "start_time": "2025-07-12T08:47:53.837449",
     "status": "completed"
    },
    "tags": []
   },
   "outputs": [],
   "source": [
    "# from tensorflow.keras.callbacks import ReduceLROnPlateau\n",
    "\n",
    "# lr_scheduler = ReduceLROnPlateau(monitor='val_loss', \n",
    "#                                  factor=0.5, \n",
    "#                                  patience=3, \n",
    "#                                  min_lr=1e-6)\n",
    "\n",
    "\n",
    "\n",
    "# print(f\"Dataset - {DATASET_NAME}\")\n",
    "# print(f\"There are total {len(ALL_CLASS_NAMES)} classes, selected {NO_OF_CLASSES} classes\")\n",
    "# print(f\"Setting {MAX_VIDEO_PER_CLASS} videos/class to train the model.\")\n",
    "# print(f\"Image size {IMAGE_HEIGHT}x{IMAGE_WIDTH} with {SEQUENCE_LENGTH} sequence length\")\n",
    "# print(f\"Dropout rate: {DROPOUT_RATE}\")\n",
    "# print(f\"Train-Test split ratio {int((1-TEST_SIZE)*100)}/{int(TEST_SIZE*100)}\")\n",
    "# print(f\"Validation data from Train set {VALIDATION_SPLIT*100}%\")\n",
    "\n",
    "# print(\"\\n\")\n",
    "\n",
    "# print(f\"Training started for {len(train_gen.videos)} videos of {NO_OF_CLASSES} classes with {len(val_gen.videos)} videos for validation...\")\n",
    "\n",
    "# model_history = xlstm_model.fit(\n",
    "#     train_gen.as_dataset(),\n",
    "#     validation_data=val_gen.as_dataset(),\n",
    "#     epochs=EPOCHS,\n",
    "#     # class_weight=class_weight_dict,\n",
    "#     callbacks=[early_stopping_callback, lr_scheduler]\n",
    "# )"
   ]
  },
  {
   "cell_type": "markdown",
   "id": "9ebf8816",
   "metadata": {
    "papermill": {
     "duration": 0.208258,
     "end_time": "2025-07-12T08:47:54.361224",
     "exception": false,
     "start_time": "2025-07-12T08:47:54.152966",
     "status": "completed"
    },
    "tags": []
   },
   "source": [
    "# Evaluation"
   ]
  },
  {
   "cell_type": "markdown",
   "id": "28f2a64b",
   "metadata": {
    "papermill": {
     "duration": 0.160558,
     "end_time": "2025-07-12T08:47:54.691415",
     "exception": false,
     "start_time": "2025-07-12T08:47:54.530857",
     "status": "completed"
    },
    "tags": []
   },
   "source": [
    "## ⚡ Model Evaluate"
   ]
  },
  {
   "cell_type": "code",
   "execution_count": 51,
   "id": "dd65aa89",
   "metadata": {
    "execution": {
     "iopub.execute_input": "2025-07-12T08:47:55.011235Z",
     "iopub.status.busy": "2025-07-12T08:47:55.010671Z",
     "iopub.status.idle": "2025-07-12T08:47:55.014103Z",
     "shell.execute_reply": "2025-07-12T08:47:55.013374Z"
    },
    "papermill": {
     "duration": 0.159881,
     "end_time": "2025-07-12T08:47:55.015347",
     "exception": false,
     "start_time": "2025-07-12T08:47:54.855466",
     "status": "completed"
    },
    "tags": []
   },
   "outputs": [],
   "source": [
    "# # previous code\n",
    "# model_evaluation_history = xlstm_model.evaluate(features_test, labels_test)"
   ]
  },
  {
   "cell_type": "code",
   "execution_count": 52,
   "id": "23bd9ec6",
   "metadata": {
    "execution": {
     "iopub.execute_input": "2025-07-12T08:47:55.323079Z",
     "iopub.status.busy": "2025-07-12T08:47:55.322300Z",
     "iopub.status.idle": "2025-07-12T08:47:55.326104Z",
     "shell.execute_reply": "2025-07-12T08:47:55.325400Z"
    },
    "papermill": {
     "duration": 0.157718,
     "end_time": "2025-07-12T08:47:55.327141",
     "exception": false,
     "start_time": "2025-07-12T08:47:55.169423",
     "status": "completed"
    },
    "tags": []
   },
   "outputs": [],
   "source": [
    "# import matplotlib.pyplot as plt\n",
    "\n",
    "# # Accuracy\n",
    "# plt.figure(figsize=(12, 5))\n",
    "\n",
    "# plt.subplot(1, 2, 1)\n",
    "# plt.plot(model_history.history['accuracy'], label='Train Accuracy')\n",
    "# plt.plot(model_history.history['val_accuracy'], label='Validation Accuracy')\n",
    "# plt.title('Model Accuracy')\n",
    "# plt.xlabel('Epoch')\n",
    "# plt.ylabel('Accuracy')\n",
    "# plt.legend()\n",
    "\n",
    "# # Loss\n",
    "# plt.subplot(1, 2, 2)\n",
    "# plt.plot(model_history.history['loss'], label='Train Loss')\n",
    "# plt.plot(model_history.history['val_loss'], label='Validation Loss')\n",
    "# plt.title('Model Loss')\n",
    "# plt.xlabel('Epoch')\n",
    "# plt.ylabel('Loss')\n",
    "# plt.legend()\n",
    "\n",
    "# plt.tight_layout()\n",
    "# plt.show()\n"
   ]
  },
  {
   "cell_type": "markdown",
   "id": "5f45505a",
   "metadata": {
    "papermill": {
     "duration": 0.154311,
     "end_time": "2025-07-12T08:47:55.636053",
     "exception": false,
     "start_time": "2025-07-12T08:47:55.481742",
     "status": "completed"
    },
    "tags": []
   },
   "source": [
    "## 📈 Confusion Matrix"
   ]
  },
  {
   "cell_type": "code",
   "execution_count": 53,
   "id": "50fa6f73",
   "metadata": {
    "execution": {
     "iopub.execute_input": "2025-07-12T08:47:56.034615Z",
     "iopub.status.busy": "2025-07-12T08:47:56.034282Z",
     "iopub.status.idle": "2025-07-12T08:47:56.039053Z",
     "shell.execute_reply": "2025-07-12T08:47:56.038096Z"
    },
    "papermill": {
     "duration": 0.192123,
     "end_time": "2025-07-12T08:47:56.040576",
     "exception": false,
     "start_time": "2025-07-12T08:47:55.848453",
     "status": "completed"
    },
    "tags": []
   },
   "outputs": [],
   "source": [
    "# from sklearn.metrics import classification_report, confusion_matrix\n",
    "# import seaborn as sns\n",
    "# import matplotlib.pyplot as plt\n",
    "\n",
    "# # Create test generator with batch_size matching test set size\n",
    "# test_gen = VideoDataGenerator(\n",
    "#     videos=features_test,\n",
    "#     labels=labels_test,\n",
    "#     batch_size=4,  # Process all test samples at once\n",
    "# )\n",
    "\n",
    "# # Get predictions\n",
    "# predictions = xlstm_model.predict(test_gen.as_dataset())\n",
    "# predicted_classes = np.argmax(predictions, axis=1)\n",
    "# true_classes = np.argmax(labels_test, axis=1)\n",
    "\n",
    "# # Verify shapes\n",
    "# print(f\"True classes shape: {true_classes.shape}\")\n",
    "# print(f\"Predicted classes shape: {predicted_classes.shape}\")\n",
    "# assert len(true_classes) == len(predicted_classes), \"Sample counts do not match!\"\n",
    "\n",
    "# # Generate classification report\n",
    "# print(\"Classification Report:\")\n",
    "# print(classification_report(true_classes, predicted_classes, target_names=CLASSES_LIST))\n",
    "\n",
    "# # Plot confusion matrix\n",
    "# cm = confusion_matrix(true_classes, predicted_classes)\n",
    "# plt.figure(figsize=(8, 6))\n",
    "# sns.heatmap(cm, annot=True, fmt='d', cmap='Blues', xticklabels=CLASSES_LIST, yticklabels=CLASSES_LIST[-1])\n",
    "# plt.xlabel('Predicted')\n",
    "# plt.ylabel('True')\n",
    "# plt.title('Confusion Matrix')\n",
    "# plt.show()"
   ]
  },
  {
   "cell_type": "code",
   "execution_count": 54,
   "id": "acbbbd0e",
   "metadata": {
    "execution": {
     "iopub.execute_input": "2025-07-12T08:47:56.395644Z",
     "iopub.status.busy": "2025-07-12T08:47:56.395360Z",
     "iopub.status.idle": "2025-07-12T09:35:55.136380Z",
     "shell.execute_reply": "2025-07-12T09:35:55.135636Z"
    },
    "papermill": {
     "duration": 2878.914344,
     "end_time": "2025-07-12T09:35:55.137553",
     "exception": false,
     "start_time": "2025-07-12T08:47:56.223209",
     "status": "completed"
    },
    "tags": []
   },
   "outputs": [
    {
     "name": "stdout",
     "output_type": "stream",
     "text": [
      "Memory cleared before creating VGG19+LSTM model\n",
      "TensorFlow version: 2.18.0\n",
      "Pre-loading VGG19 weights...\n",
      "Downloading data from https://storage.googleapis.com/tensorflow/keras-applications/vgg19/vgg19_weights_tf_dim_ordering_tf_kernels_notop.h5\n",
      "\u001b[1m80134624/80134624\u001b[0m \u001b[32m━━━━━━━━━━━━━━━━━━━━\u001b[0m\u001b[37m\u001b[0m \u001b[1m1s\u001b[0m 0us/step\n",
      "VGG19 weights loaded successfully!\n",
      "Creating VGG19+LSTM model with parameters:\n",
      "sequence_length: 5, image_height: 128, image_width: 128, classes_list length: 11, dropout_rate: 0.5\n"
     ]
    },
    {
     "name": "stderr",
     "output_type": "stream",
     "text": [
      "/usr/local/lib/python3.11/dist-packages/keras/src/layers/core/wrapper.py:27: UserWarning: Do not pass an `input_shape`/`input_dim` argument to a layer. When using Sequential models, prefer using an `Input(shape)` object as the first layer in the model instead.\n",
      "  super().__init__(**kwargs)\n"
     ]
    },
    {
     "name": "stdout",
     "output_type": "stream",
     "text": [
      "VGG19+LSTM model architecture created successfully!\n"
     ]
    },
    {
     "data": {
      "text/html": [
       "<pre style=\"white-space:pre;overflow-x:auto;line-height:normal;font-family:Menlo,'DejaVu Sans Mono',consolas,'Courier New',monospace\"><span style=\"font-weight: bold\">Model: \"sequential\"</span>\n",
       "</pre>\n"
      ],
      "text/plain": [
       "\u001b[1mModel: \"sequential\"\u001b[0m\n"
      ]
     },
     "metadata": {},
     "output_type": "display_data"
    },
    {
     "data": {
      "text/html": [
       "<pre style=\"white-space:pre;overflow-x:auto;line-height:normal;font-family:Menlo,'DejaVu Sans Mono',consolas,'Courier New',monospace\">┏━━━━━━━━━━━━━━━━━━━━━━━━━━━━━━━━━┳━━━━━━━━━━━━━━━━━━━━━━━━┳━━━━━━━━━━━━━━━┓\n",
       "┃<span style=\"font-weight: bold\"> Layer (type)                    </span>┃<span style=\"font-weight: bold\"> Output Shape           </span>┃<span style=\"font-weight: bold\">       Param # </span>┃\n",
       "┡━━━━━━━━━━━━━━━━━━━━━━━━━━━━━━━━━╇━━━━━━━━━━━━━━━━━━━━━━━━╇━━━━━━━━━━━━━━━┩\n",
       "│ time_distributed_vgg19          │ (<span style=\"color: #00d7ff; text-decoration-color: #00d7ff\">None</span>, <span style=\"color: #00af00; text-decoration-color: #00af00\">5</span>, <span style=\"color: #00af00; text-decoration-color: #00af00\">4</span>, <span style=\"color: #00af00; text-decoration-color: #00af00\">4</span>, <span style=\"color: #00af00; text-decoration-color: #00af00\">512</span>)   │    <span style=\"color: #00af00; text-decoration-color: #00af00\">20,024,384</span> │\n",
       "│ (<span style=\"color: #0087ff; text-decoration-color: #0087ff\">TimeDistributed</span>)               │                        │               │\n",
       "├─────────────────────────────────┼────────────────────────┼───────────────┤\n",
       "│ time_distributed_pooling        │ (<span style=\"color: #00d7ff; text-decoration-color: #00d7ff\">None</span>, <span style=\"color: #00af00; text-decoration-color: #00af00\">5</span>, <span style=\"color: #00af00; text-decoration-color: #00af00\">512</span>)         │             <span style=\"color: #00af00; text-decoration-color: #00af00\">0</span> │\n",
       "│ (<span style=\"color: #0087ff; text-decoration-color: #0087ff\">TimeDistributed</span>)               │                        │               │\n",
       "├─────────────────────────────────┼────────────────────────┼───────────────┤\n",
       "│ lstm_vgg19 (<span style=\"color: #0087ff; text-decoration-color: #0087ff\">LSTM</span>)               │ (<span style=\"color: #00d7ff; text-decoration-color: #00d7ff\">None</span>, <span style=\"color: #00af00; text-decoration-color: #00af00\">512</span>)            │     <span style=\"color: #00af00; text-decoration-color: #00af00\">2,099,200</span> │\n",
       "├─────────────────────────────────┼────────────────────────┼───────────────┤\n",
       "│ batch_normalization_vgg19       │ (<span style=\"color: #00d7ff; text-decoration-color: #00d7ff\">None</span>, <span style=\"color: #00af00; text-decoration-color: #00af00\">512</span>)            │         <span style=\"color: #00af00; text-decoration-color: #00af00\">2,048</span> │\n",
       "│ (<span style=\"color: #0087ff; text-decoration-color: #0087ff\">BatchNormalization</span>)            │                        │               │\n",
       "├─────────────────────────────────┼────────────────────────┼───────────────┤\n",
       "│ dropout_lstm_vgg19 (<span style=\"color: #0087ff; text-decoration-color: #0087ff\">Dropout</span>)    │ (<span style=\"color: #00d7ff; text-decoration-color: #00d7ff\">None</span>, <span style=\"color: #00af00; text-decoration-color: #00af00\">512</span>)            │             <span style=\"color: #00af00; text-decoration-color: #00af00\">0</span> │\n",
       "├─────────────────────────────────┼────────────────────────┼───────────────┤\n",
       "│ dense_vgg19_1 (<span style=\"color: #0087ff; text-decoration-color: #0087ff\">Dense</span>)           │ (<span style=\"color: #00d7ff; text-decoration-color: #00d7ff\">None</span>, <span style=\"color: #00af00; text-decoration-color: #00af00\">512</span>)            │       <span style=\"color: #00af00; text-decoration-color: #00af00\">262,656</span> │\n",
       "├─────────────────────────────────┼────────────────────────┼───────────────┤\n",
       "│ dropout_dense_vgg19_1 (<span style=\"color: #0087ff; text-decoration-color: #0087ff\">Dropout</span>) │ (<span style=\"color: #00d7ff; text-decoration-color: #00d7ff\">None</span>, <span style=\"color: #00af00; text-decoration-color: #00af00\">512</span>)            │             <span style=\"color: #00af00; text-decoration-color: #00af00\">0</span> │\n",
       "├─────────────────────────────────┼────────────────────────┼───────────────┤\n",
       "│ dense_vgg19_2 (<span style=\"color: #0087ff; text-decoration-color: #0087ff\">Dense</span>)           │ (<span style=\"color: #00d7ff; text-decoration-color: #00d7ff\">None</span>, <span style=\"color: #00af00; text-decoration-color: #00af00\">128</span>)            │        <span style=\"color: #00af00; text-decoration-color: #00af00\">65,664</span> │\n",
       "├─────────────────────────────────┼────────────────────────┼───────────────┤\n",
       "│ dropout_dense_vgg19_2 (<span style=\"color: #0087ff; text-decoration-color: #0087ff\">Dropout</span>) │ (<span style=\"color: #00d7ff; text-decoration-color: #00d7ff\">None</span>, <span style=\"color: #00af00; text-decoration-color: #00af00\">128</span>)            │             <span style=\"color: #00af00; text-decoration-color: #00af00\">0</span> │\n",
       "├─────────────────────────────────┼────────────────────────┼───────────────┤\n",
       "│ output_vgg19 (<span style=\"color: #0087ff; text-decoration-color: #0087ff\">Dense</span>)            │ (<span style=\"color: #00d7ff; text-decoration-color: #00d7ff\">None</span>, <span style=\"color: #00af00; text-decoration-color: #00af00\">11</span>)             │         <span style=\"color: #00af00; text-decoration-color: #00af00\">1,419</span> │\n",
       "└─────────────────────────────────┴────────────────────────┴───────────────┘\n",
       "</pre>\n"
      ],
      "text/plain": [
       "┏━━━━━━━━━━━━━━━━━━━━━━━━━━━━━━━━━┳━━━━━━━━━━━━━━━━━━━━━━━━┳━━━━━━━━━━━━━━━┓\n",
       "┃\u001b[1m \u001b[0m\u001b[1mLayer (type)                   \u001b[0m\u001b[1m \u001b[0m┃\u001b[1m \u001b[0m\u001b[1mOutput Shape          \u001b[0m\u001b[1m \u001b[0m┃\u001b[1m \u001b[0m\u001b[1m      Param #\u001b[0m\u001b[1m \u001b[0m┃\n",
       "┡━━━━━━━━━━━━━━━━━━━━━━━━━━━━━━━━━╇━━━━━━━━━━━━━━━━━━━━━━━━╇━━━━━━━━━━━━━━━┩\n",
       "│ time_distributed_vgg19          │ (\u001b[38;5;45mNone\u001b[0m, \u001b[38;5;34m5\u001b[0m, \u001b[38;5;34m4\u001b[0m, \u001b[38;5;34m4\u001b[0m, \u001b[38;5;34m512\u001b[0m)   │    \u001b[38;5;34m20,024,384\u001b[0m │\n",
       "│ (\u001b[38;5;33mTimeDistributed\u001b[0m)               │                        │               │\n",
       "├─────────────────────────────────┼────────────────────────┼───────────────┤\n",
       "│ time_distributed_pooling        │ (\u001b[38;5;45mNone\u001b[0m, \u001b[38;5;34m5\u001b[0m, \u001b[38;5;34m512\u001b[0m)         │             \u001b[38;5;34m0\u001b[0m │\n",
       "│ (\u001b[38;5;33mTimeDistributed\u001b[0m)               │                        │               │\n",
       "├─────────────────────────────────┼────────────────────────┼───────────────┤\n",
       "│ lstm_vgg19 (\u001b[38;5;33mLSTM\u001b[0m)               │ (\u001b[38;5;45mNone\u001b[0m, \u001b[38;5;34m512\u001b[0m)            │     \u001b[38;5;34m2,099,200\u001b[0m │\n",
       "├─────────────────────────────────┼────────────────────────┼───────────────┤\n",
       "│ batch_normalization_vgg19       │ (\u001b[38;5;45mNone\u001b[0m, \u001b[38;5;34m512\u001b[0m)            │         \u001b[38;5;34m2,048\u001b[0m │\n",
       "│ (\u001b[38;5;33mBatchNormalization\u001b[0m)            │                        │               │\n",
       "├─────────────────────────────────┼────────────────────────┼───────────────┤\n",
       "│ dropout_lstm_vgg19 (\u001b[38;5;33mDropout\u001b[0m)    │ (\u001b[38;5;45mNone\u001b[0m, \u001b[38;5;34m512\u001b[0m)            │             \u001b[38;5;34m0\u001b[0m │\n",
       "├─────────────────────────────────┼────────────────────────┼───────────────┤\n",
       "│ dense_vgg19_1 (\u001b[38;5;33mDense\u001b[0m)           │ (\u001b[38;5;45mNone\u001b[0m, \u001b[38;5;34m512\u001b[0m)            │       \u001b[38;5;34m262,656\u001b[0m │\n",
       "├─────────────────────────────────┼────────────────────────┼───────────────┤\n",
       "│ dropout_dense_vgg19_1 (\u001b[38;5;33mDropout\u001b[0m) │ (\u001b[38;5;45mNone\u001b[0m, \u001b[38;5;34m512\u001b[0m)            │             \u001b[38;5;34m0\u001b[0m │\n",
       "├─────────────────────────────────┼────────────────────────┼───────────────┤\n",
       "│ dense_vgg19_2 (\u001b[38;5;33mDense\u001b[0m)           │ (\u001b[38;5;45mNone\u001b[0m, \u001b[38;5;34m128\u001b[0m)            │        \u001b[38;5;34m65,664\u001b[0m │\n",
       "├─────────────────────────────────┼────────────────────────┼───────────────┤\n",
       "│ dropout_dense_vgg19_2 (\u001b[38;5;33mDropout\u001b[0m) │ (\u001b[38;5;45mNone\u001b[0m, \u001b[38;5;34m128\u001b[0m)            │             \u001b[38;5;34m0\u001b[0m │\n",
       "├─────────────────────────────────┼────────────────────────┼───────────────┤\n",
       "│ output_vgg19 (\u001b[38;5;33mDense\u001b[0m)            │ (\u001b[38;5;45mNone\u001b[0m, \u001b[38;5;34m11\u001b[0m)             │         \u001b[38;5;34m1,419\u001b[0m │\n",
       "└─────────────────────────────────┴────────────────────────┴───────────────┘\n"
      ]
     },
     "metadata": {},
     "output_type": "display_data"
    },
    {
     "data": {
      "text/html": [
       "<pre style=\"white-space:pre;overflow-x:auto;line-height:normal;font-family:Menlo,'DejaVu Sans Mono',consolas,'Courier New',monospace\"><span style=\"font-weight: bold\"> Total params: </span><span style=\"color: #00af00; text-decoration-color: #00af00\">22,455,371</span> (85.66 MB)\n",
       "</pre>\n"
      ],
      "text/plain": [
       "\u001b[1m Total params: \u001b[0m\u001b[38;5;34m22,455,371\u001b[0m (85.66 MB)\n"
      ]
     },
     "metadata": {},
     "output_type": "display_data"
    },
    {
     "data": {
      "text/html": [
       "<pre style=\"white-space:pre;overflow-x:auto;line-height:normal;font-family:Menlo,'DejaVu Sans Mono',consolas,'Courier New',monospace\"><span style=\"font-weight: bold\"> Trainable params: </span><span style=\"color: #00af00; text-decoration-color: #00af00\">2,429,963</span> (9.27 MB)\n",
       "</pre>\n"
      ],
      "text/plain": [
       "\u001b[1m Trainable params: \u001b[0m\u001b[38;5;34m2,429,963\u001b[0m (9.27 MB)\n"
      ]
     },
     "metadata": {},
     "output_type": "display_data"
    },
    {
     "data": {
      "text/html": [
       "<pre style=\"white-space:pre;overflow-x:auto;line-height:normal;font-family:Menlo,'DejaVu Sans Mono',consolas,'Courier New',monospace\"><span style=\"font-weight: bold\"> Non-trainable params: </span><span style=\"color: #00af00; text-decoration-color: #00af00\">20,025,408</span> (76.39 MB)\n",
       "</pre>\n"
      ],
      "text/plain": [
       "\u001b[1m Non-trainable params: \u001b[0m\u001b[38;5;34m20,025,408\u001b[0m (76.39 MB)\n"
      ]
     },
     "metadata": {},
     "output_type": "display_data"
    },
    {
     "name": "stdout",
     "output_type": "stream",
     "text": [
      "VGG19+LSTM Model Created Successfully!\n",
      "Xception_VGG19_LSTM Model Plot saved successfully...\n",
      "train_gen.videos shape: (2816, 5, 128, 128, 3)\n",
      "train_gen.labels shape: (2816, 11)\n",
      "val_gen.videos shape: (704, 5, 128, 128, 3)\n",
      "val_gen.labels shape: (704, 11)\n",
      "features_test shape: (880, 5, 128, 128, 3)\n",
      "labels_test shape: (880, 11)\n",
      "train_gen batch videos shape: (24, 5, 128, 128, 3)\n",
      "train_gen batch labels shape: (24, 11)\n",
      "val_gen batch videos shape: (24, 5, 128, 128, 3)\n",
      "val_gen batch labels shape: (24, 11)\n",
      "Dataset - Ucf50\n",
      "There are total 11 classes, selected 11 classes\n",
      "Setting 50 videos/class to train the model.\n",
      "Image size 128x128 with 5 sequence length\n",
      "Dropout rate: 0.5\n",
      "Train-Test split ratio 80/20\n",
      "Validation data from Train set 20.0%\n",
      "\n",
      "\n",
      "Initial training started for VGG19+LSTM model with 2816 videos of 11 classes with 704 videos for validation...\n",
      "Epoch 1/30\n"
     ]
    },
    {
     "name": "stderr",
     "output_type": "stream",
     "text": [
      "I0000 00:00:1752310088.945693      62 cuda_dnn.cc:529] Loaded cuDNN version 90300\n"
     ]
    },
    {
     "name": "stdout",
     "output_type": "stream",
     "text": [
      "    118/Unknown \u001b[1m41s\u001b[0m 242ms/step - accuracy: 0.2663 - loss: 14.4183"
     ]
    },
    {
     "name": "stderr",
     "output_type": "stream",
     "text": [
      "/usr/local/lib/python3.11/dist-packages/keras/src/trainers/epoch_iterator.py:151: UserWarning: Your input ran out of data; interrupting training. Make sure that your dataset or generator can generate at least `steps_per_epoch * epochs` batches. You may need to use the `.repeat()` function when building your dataset.\n",
      "  self._interrupted_warning()\n"
     ]
    },
    {
     "name": "stdout",
     "output_type": "stream",
     "text": [
      "\u001b[1m118/118\u001b[0m \u001b[32m━━━━━━━━━━━━━━━━━━━━\u001b[0m\u001b[37m\u001b[0m \u001b[1m50s\u001b[0m 320ms/step - accuracy: 0.2672 - loss: 14.3973 - val_accuracy: 0.3906 - val_loss: 9.3128 - learning_rate: 0.0010\n",
      "Epoch 2/30\n",
      "\u001b[1m118/118\u001b[0m \u001b[32m━━━━━━━━━━━━━━━━━━━━\u001b[0m\u001b[37m\u001b[0m \u001b[1m39s\u001b[0m 327ms/step - accuracy: 0.5833 - loss: 7.6580 - val_accuracy: 0.6577 - val_loss: 6.1703 - learning_rate: 0.0010\n",
      "Epoch 3/30\n",
      "\u001b[1m118/118\u001b[0m \u001b[32m━━━━━━━━━━━━━━━━━━━━\u001b[0m\u001b[37m\u001b[0m \u001b[1m38s\u001b[0m 318ms/step - accuracy: 0.7402 - loss: 4.9680 - val_accuracy: 0.5952 - val_loss: 4.2990 - learning_rate: 0.0010\n",
      "Epoch 4/30\n",
      "\u001b[1m118/118\u001b[0m \u001b[32m━━━━━━━━━━━━━━━━━━━━\u001b[0m\u001b[37m\u001b[0m \u001b[1m37s\u001b[0m 316ms/step - accuracy: 0.7817 - loss: 3.5285 - val_accuracy: 0.4062 - val_loss: 4.2271 - learning_rate: 0.0010\n",
      "Epoch 5/30\n",
      "\u001b[1m118/118\u001b[0m \u001b[32m━━━━━━━━━━━━━━━━━━━━\u001b[0m\u001b[37m\u001b[0m \u001b[1m38s\u001b[0m 321ms/step - accuracy: 0.8150 - loss: 2.5763 - val_accuracy: 0.5369 - val_loss: 3.0711 - learning_rate: 0.0010\n",
      "Epoch 6/30\n",
      "\u001b[1m118/118\u001b[0m \u001b[32m━━━━━━━━━━━━━━━━━━━━\u001b[0m\u001b[37m\u001b[0m \u001b[1m37s\u001b[0m 317ms/step - accuracy: 0.8219 - loss: 2.0267 - val_accuracy: 0.6321 - val_loss: 2.5644 - learning_rate: 0.0010\n",
      "Epoch 7/30\n",
      "\u001b[1m118/118\u001b[0m \u001b[32m━━━━━━━━━━━━━━━━━━━━\u001b[0m\u001b[37m\u001b[0m \u001b[1m37s\u001b[0m 317ms/step - accuracy: 0.8225 - loss: 1.7737 - val_accuracy: 0.7102 - val_loss: 2.2612 - learning_rate: 0.0010\n",
      "Epoch 8/30\n",
      "\u001b[1m118/118\u001b[0m \u001b[32m━━━━━━━━━━━━━━━━━━━━\u001b[0m\u001b[37m\u001b[0m \u001b[1m38s\u001b[0m 318ms/step - accuracy: 0.8610 - loss: 1.4645 - val_accuracy: 0.6122 - val_loss: 2.2566 - learning_rate: 0.0010\n",
      "Epoch 9/30\n",
      "\u001b[1m118/118\u001b[0m \u001b[32m━━━━━━━━━━━━━━━━━━━━\u001b[0m\u001b[37m\u001b[0m \u001b[1m38s\u001b[0m 320ms/step - accuracy: 0.8605 - loss: 1.3515 - val_accuracy: 0.4389 - val_loss: 4.1642 - learning_rate: 0.0010\n",
      "Epoch 10/30\n",
      "\u001b[1m118/118\u001b[0m \u001b[32m━━━━━━━━━━━━━━━━━━━━\u001b[0m\u001b[37m\u001b[0m \u001b[1m37s\u001b[0m 316ms/step - accuracy: 0.8648 - loss: 1.2447 - val_accuracy: 0.6335 - val_loss: 2.3086 - learning_rate: 0.0010\n",
      "Epoch 11/30\n",
      "\u001b[1m118/118\u001b[0m \u001b[32m━━━━━━━━━━━━━━━━━━━━\u001b[0m\u001b[37m\u001b[0m \u001b[1m38s\u001b[0m 320ms/step - accuracy: 0.8650 - loss: 1.1667 - val_accuracy: 0.6349 - val_loss: 2.0477 - learning_rate: 0.0010\n",
      "Epoch 12/30\n",
      "\u001b[1m118/118\u001b[0m \u001b[32m━━━━━━━━━━━━━━━━━━━━\u001b[0m\u001b[37m\u001b[0m \u001b[1m38s\u001b[0m 320ms/step - accuracy: 0.8797 - loss: 1.1710 - val_accuracy: 0.6051 - val_loss: 2.7695 - learning_rate: 0.0010\n",
      "Epoch 13/30\n",
      "\u001b[1m118/118\u001b[0m \u001b[32m━━━━━━━━━━━━━━━━━━━━\u001b[0m\u001b[37m\u001b[0m \u001b[1m38s\u001b[0m 318ms/step - accuracy: 0.8858 - loss: 1.0980 - val_accuracy: 0.4773 - val_loss: 3.8045 - learning_rate: 0.0010\n",
      "Epoch 14/30\n",
      "\u001b[1m118/118\u001b[0m \u001b[32m━━━━━━━━━━━━━━━━━━━━\u001b[0m\u001b[37m\u001b[0m \u001b[1m37s\u001b[0m 316ms/step - accuracy: 0.8866 - loss: 1.0470 - val_accuracy: 0.5057 - val_loss: 3.6626 - learning_rate: 0.0010\n",
      "Epoch 15/30\n",
      "\u001b[1m118/118\u001b[0m \u001b[32m━━━━━━━━━━━━━━━━━━━━\u001b[0m\u001b[37m\u001b[0m \u001b[1m38s\u001b[0m 320ms/step - accuracy: 0.9031 - loss: 0.9932 - val_accuracy: 0.8523 - val_loss: 1.0242 - learning_rate: 5.0000e-04\n",
      "Epoch 16/30\n",
      "\u001b[1m118/118\u001b[0m \u001b[32m━━━━━━━━━━━━━━━━━━━━\u001b[0m\u001b[37m\u001b[0m \u001b[1m38s\u001b[0m 320ms/step - accuracy: 0.9638 - loss: 0.6906 - val_accuracy: 0.8679 - val_loss: 0.9408 - learning_rate: 5.0000e-04\n",
      "Epoch 17/30\n",
      "\u001b[1m118/118\u001b[0m \u001b[32m━━━━━━━━━━━━━━━━━━━━\u001b[0m\u001b[37m\u001b[0m \u001b[1m38s\u001b[0m 319ms/step - accuracy: 0.9595 - loss: 0.6351 - val_accuracy: 0.8381 - val_loss: 0.9777 - learning_rate: 5.0000e-04\n",
      "Epoch 18/30\n",
      "\u001b[1m118/118\u001b[0m \u001b[32m━━━━━━━━━━━━━━━━━━━━\u001b[0m\u001b[37m\u001b[0m \u001b[1m37s\u001b[0m 317ms/step - accuracy: 0.9508 - loss: 0.6290 - val_accuracy: 0.8324 - val_loss: 0.9661 - learning_rate: 5.0000e-04\n",
      "Epoch 19/30\n",
      "\u001b[1m118/118\u001b[0m \u001b[32m━━━━━━━━━━━━━━━━━━━━\u001b[0m\u001b[37m\u001b[0m \u001b[1m37s\u001b[0m 318ms/step - accuracy: 0.9624 - loss: 0.5294 - val_accuracy: 0.7926 - val_loss: 1.3670 - learning_rate: 5.0000e-04\n",
      "Epoch 20/30\n",
      "\u001b[1m118/118\u001b[0m \u001b[32m━━━━━━━━━━━━━━━━━━━━\u001b[0m\u001b[37m\u001b[0m \u001b[1m38s\u001b[0m 320ms/step - accuracy: 0.9707 - loss: 0.5051 - val_accuracy: 0.9517 - val_loss: 0.5289 - learning_rate: 2.5000e-04\n",
      "Epoch 21/30\n",
      "\u001b[1m118/118\u001b[0m \u001b[32m━━━━━━━━━━━━━━━━━━━━\u001b[0m\u001b[37m\u001b[0m \u001b[1m38s\u001b[0m 319ms/step - accuracy: 0.9777 - loss: 0.4415 - val_accuracy: 0.9460 - val_loss: 0.5143 - learning_rate: 2.5000e-04\n",
      "Epoch 22/30\n",
      "\u001b[1m118/118\u001b[0m \u001b[32m━━━━━━━━━━━━━━━━━━━━\u001b[0m\u001b[37m\u001b[0m \u001b[1m37s\u001b[0m 317ms/step - accuracy: 0.9730 - loss: 0.4264 - val_accuracy: 0.9560 - val_loss: 0.4521 - learning_rate: 2.5000e-04\n",
      "Epoch 23/30\n",
      "\u001b[1m118/118\u001b[0m \u001b[32m━━━━━━━━━━━━━━━━━━━━\u001b[0m\u001b[37m\u001b[0m \u001b[1m38s\u001b[0m 319ms/step - accuracy: 0.9832 - loss: 0.3930 - val_accuracy: 0.8125 - val_loss: 0.9577 - learning_rate: 2.5000e-04\n",
      "Epoch 24/30\n",
      "\u001b[1m118/118\u001b[0m \u001b[32m━━━━━━━━━━━━━━━━━━━━\u001b[0m\u001b[37m\u001b[0m \u001b[1m38s\u001b[0m 319ms/step - accuracy: 0.9847 - loss: 0.3744 - val_accuracy: 0.9361 - val_loss: 0.4784 - learning_rate: 2.5000e-04\n",
      "Epoch 25/30\n",
      "\u001b[1m118/118\u001b[0m \u001b[32m━━━━━━━━━━━━━━━━━━━━\u001b[0m\u001b[37m\u001b[0m \u001b[1m38s\u001b[0m 320ms/step - accuracy: 0.9834 - loss: 0.3579 - val_accuracy: 0.9560 - val_loss: 0.4012 - learning_rate: 2.5000e-04\n",
      "Epoch 26/30\n",
      "\u001b[1m118/118\u001b[0m \u001b[32m━━━━━━━━━━━━━━━━━━━━\u001b[0m\u001b[37m\u001b[0m \u001b[1m37s\u001b[0m 317ms/step - accuracy: 0.9861 - loss: 0.3454 - val_accuracy: 0.9489 - val_loss: 0.4413 - learning_rate: 2.5000e-04\n",
      "Epoch 27/30\n",
      "\u001b[1m118/118\u001b[0m \u001b[32m━━━━━━━━━━━━━━━━━━━━\u001b[0m\u001b[37m\u001b[0m \u001b[1m38s\u001b[0m 319ms/step - accuracy: 0.9892 - loss: 0.3210 - val_accuracy: 0.8438 - val_loss: 0.8105 - learning_rate: 2.5000e-04\n",
      "Epoch 28/30\n",
      "\u001b[1m118/118\u001b[0m \u001b[32m━━━━━━━━━━━━━━━━━━━━\u001b[0m\u001b[37m\u001b[0m \u001b[1m38s\u001b[0m 319ms/step - accuracy: 0.9724 - loss: 0.3637 - val_accuracy: 0.8551 - val_loss: 0.7116 - learning_rate: 2.5000e-04\n",
      "Epoch 29/30\n",
      "\u001b[1m118/118\u001b[0m \u001b[32m━━━━━━━━━━━━━━━━━━━━\u001b[0m\u001b[37m\u001b[0m \u001b[1m38s\u001b[0m 319ms/step - accuracy: 0.9843 - loss: 0.3273 - val_accuracy: 0.9688 - val_loss: 0.3605 - learning_rate: 1.2500e-04\n",
      "Epoch 30/30\n",
      "\u001b[1m118/118\u001b[0m \u001b[32m━━━━━━━━━━━━━━━━━━━━\u001b[0m\u001b[37m\u001b[0m \u001b[1m37s\u001b[0m 317ms/step - accuracy: 0.9934 - loss: 0.2999 - val_accuracy: 0.9403 - val_loss: 0.4210 - learning_rate: 1.2500e-04\n",
      "\n",
      "Fine-tuning started for VGG19+LSTM model with 2816 videos of 11 classes with 704 videos for validation...\n",
      "Epoch 1/30\n",
      "\u001b[1m118/118\u001b[0m \u001b[32m━━━━━━━━━━━━━━━━━━━━\u001b[0m\u001b[37m\u001b[0m \u001b[1m71s\u001b[0m 506ms/step - accuracy: 0.7708 - loss: 1.1683 - val_accuracy: 0.8864 - val_loss: 0.6916 - learning_rate: 1.0000e-04\n",
      "Epoch 2/30\n",
      "\u001b[1m118/118\u001b[0m \u001b[32m━━━━━━━━━━━━━━━━━━━━\u001b[0m\u001b[37m\u001b[0m \u001b[1m56s\u001b[0m 476ms/step - accuracy: 0.9574 - loss: 0.4225 - val_accuracy: 0.9446 - val_loss: 0.3959 - learning_rate: 1.0000e-04\n",
      "Epoch 3/30\n",
      "\u001b[1m118/118\u001b[0m \u001b[32m━━━━━━━━━━━━━━━━━━━━\u001b[0m\u001b[37m\u001b[0m \u001b[1m57s\u001b[0m 482ms/step - accuracy: 0.9876 - loss: 0.2890 - val_accuracy: 0.9815 - val_loss: 0.2839 - learning_rate: 1.0000e-04\n",
      "Epoch 4/30\n",
      "\u001b[1m118/118\u001b[0m \u001b[32m━━━━━━━━━━━━━━━━━━━━\u001b[0m\u001b[37m\u001b[0m \u001b[1m56s\u001b[0m 478ms/step - accuracy: 0.9878 - loss: 0.2768 - val_accuracy: 0.9688 - val_loss: 0.3427 - learning_rate: 1.0000e-04\n",
      "Epoch 5/30\n",
      "\u001b[1m118/118\u001b[0m \u001b[32m━━━━━━━━━━━━━━━━━━━━\u001b[0m\u001b[37m\u001b[0m \u001b[1m57s\u001b[0m 481ms/step - accuracy: 0.9815 - loss: 0.2836 - val_accuracy: 0.9744 - val_loss: 0.2723 - learning_rate: 1.0000e-04\n",
      "Epoch 6/30\n",
      "\u001b[1m118/118\u001b[0m \u001b[32m━━━━━━━━━━━━━━━━━━━━\u001b[0m\u001b[37m\u001b[0m \u001b[1m57s\u001b[0m 481ms/step - accuracy: 0.9949 - loss: 0.2341 - val_accuracy: 0.9972 - val_loss: 0.2123 - learning_rate: 1.0000e-04\n",
      "Epoch 7/30\n",
      "\u001b[1m118/118\u001b[0m \u001b[32m━━━━━━━━━━━━━━━━━━━━\u001b[0m\u001b[37m\u001b[0m \u001b[1m57s\u001b[0m 480ms/step - accuracy: 0.9999 - loss: 0.2088 - val_accuracy: 0.9986 - val_loss: 0.2005 - learning_rate: 1.0000e-04\n",
      "Epoch 8/30\n",
      "\u001b[1m118/118\u001b[0m \u001b[32m━━━━━━━━━━━━━━━━━━━━\u001b[0m\u001b[37m\u001b[0m \u001b[1m57s\u001b[0m 480ms/step - accuracy: 0.9951 - loss: 0.2155 - val_accuracy: 0.9943 - val_loss: 0.2092 - learning_rate: 1.0000e-04\n",
      "Epoch 9/30\n",
      "\u001b[1m118/118\u001b[0m \u001b[32m━━━━━━━━━━━━━━━━━━━━\u001b[0m\u001b[37m\u001b[0m \u001b[1m57s\u001b[0m 479ms/step - accuracy: 1.0000 - loss: 0.1919 - val_accuracy: 0.9972 - val_loss: 0.1798 - learning_rate: 1.0000e-04\n",
      "Epoch 10/30\n",
      "\u001b[1m118/118\u001b[0m \u001b[32m━━━━━━━━━━━━━━━━━━━━\u001b[0m\u001b[37m\u001b[0m \u001b[1m57s\u001b[0m 479ms/step - accuracy: 1.0000 - loss: 0.1813 - val_accuracy: 0.9986 - val_loss: 0.1722 - learning_rate: 1.0000e-04\n",
      "Epoch 11/30\n",
      "\u001b[1m118/118\u001b[0m \u001b[32m━━━━━━━━━━━━━━━━━━━━\u001b[0m\u001b[37m\u001b[0m \u001b[1m57s\u001b[0m 479ms/step - accuracy: 1.0000 - loss: 0.1730 - val_accuracy: 0.9986 - val_loss: 0.1655 - learning_rate: 1.0000e-04\n",
      "Epoch 12/30\n",
      "\u001b[1m118/118\u001b[0m \u001b[32m━━━━━━━━━━━━━━━━━━━━\u001b[0m\u001b[37m\u001b[0m \u001b[1m57s\u001b[0m 479ms/step - accuracy: 1.0000 - loss: 0.1648 - val_accuracy: 0.9986 - val_loss: 0.1534 - learning_rate: 1.0000e-04\n",
      "Epoch 13/30\n",
      "\u001b[1m118/118\u001b[0m \u001b[32m━━━━━━━━━━━━━━━━━━━━\u001b[0m\u001b[37m\u001b[0m \u001b[1m57s\u001b[0m 480ms/step - accuracy: 1.0000 - loss: 0.1572 - val_accuracy: 0.9986 - val_loss: 0.1498 - learning_rate: 1.0000e-04\n",
      "Epoch 14/30\n",
      "\u001b[1m118/118\u001b[0m \u001b[32m━━━━━━━━━━━━━━━━━━━━\u001b[0m\u001b[37m\u001b[0m \u001b[1m57s\u001b[0m 480ms/step - accuracy: 1.0000 - loss: 0.1510 - val_accuracy: 0.9986 - val_loss: 0.1432 - learning_rate: 1.0000e-04\n",
      "Epoch 15/30\n",
      "\u001b[1m118/118\u001b[0m \u001b[32m━━━━━━━━━━━━━━━━━━━━\u001b[0m\u001b[37m\u001b[0m \u001b[1m56s\u001b[0m 477ms/step - accuracy: 1.0000 - loss: 0.1457 - val_accuracy: 0.9986 - val_loss: 0.1369 - learning_rate: 1.0000e-04\n",
      "Epoch 16/30\n",
      "\u001b[1m118/118\u001b[0m \u001b[32m━━━━━━━━━━━━━━━━━━━━\u001b[0m\u001b[37m\u001b[0m \u001b[1m57s\u001b[0m 479ms/step - accuracy: 1.0000 - loss: 0.1391 - val_accuracy: 0.9986 - val_loss: 0.1306 - learning_rate: 1.0000e-04\n",
      "Epoch 17/30\n",
      "\u001b[1m118/118\u001b[0m \u001b[32m━━━━━━━━━━━━━━━━━━━━\u001b[0m\u001b[37m\u001b[0m \u001b[1m57s\u001b[0m 480ms/step - accuracy: 1.0000 - loss: 0.1331 - val_accuracy: 0.9986 - val_loss: 0.1269 - learning_rate: 1.0000e-04\n",
      "Epoch 18/30\n",
      "\u001b[1m118/118\u001b[0m \u001b[32m━━━━━━━━━━━━━━━━━━━━\u001b[0m\u001b[37m\u001b[0m \u001b[1m56s\u001b[0m 479ms/step - accuracy: 1.0000 - loss: 0.1289 - val_accuracy: 0.9986 - val_loss: 0.1193 - learning_rate: 1.0000e-04\n",
      "Epoch 19/30\n",
      "\u001b[1m118/118\u001b[0m \u001b[32m━━━━━━━━━━━━━━━━━━━━\u001b[0m\u001b[37m\u001b[0m \u001b[1m56s\u001b[0m 478ms/step - accuracy: 1.0000 - loss: 0.1253 - val_accuracy: 0.9986 - val_loss: 0.1160 - learning_rate: 1.0000e-04\n",
      "Epoch 20/30\n",
      "\u001b[1m118/118\u001b[0m \u001b[32m━━━━━━━━━━━━━━━━━━━━\u001b[0m\u001b[37m\u001b[0m \u001b[1m57s\u001b[0m 479ms/step - accuracy: 1.0000 - loss: 0.1209 - val_accuracy: 0.9972 - val_loss: 0.1158 - learning_rate: 1.0000e-04\n",
      "Epoch 21/30\n",
      "\u001b[1m118/118\u001b[0m \u001b[32m━━━━━━━━━━━━━━━━━━━━\u001b[0m\u001b[37m\u001b[0m \u001b[1m57s\u001b[0m 481ms/step - accuracy: 1.0000 - loss: 0.1172 - val_accuracy: 0.9986 - val_loss: 0.1097 - learning_rate: 1.0000e-04\n",
      "Epoch 22/30\n",
      "\u001b[1m118/118\u001b[0m \u001b[32m━━━━━━━━━━━━━━━━━━━━\u001b[0m\u001b[37m\u001b[0m \u001b[1m57s\u001b[0m 481ms/step - accuracy: 1.0000 - loss: 0.1125 - val_accuracy: 0.9986 - val_loss: 0.1053 - learning_rate: 1.0000e-04\n",
      "Epoch 23/30\n",
      "\u001b[1m118/118\u001b[0m \u001b[32m━━━━━━━━━━━━━━━━━━━━\u001b[0m\u001b[37m\u001b[0m \u001b[1m57s\u001b[0m 480ms/step - accuracy: 1.0000 - loss: 0.1088 - val_accuracy: 0.9986 - val_loss: 0.0986 - learning_rate: 1.0000e-04\n",
      "Epoch 24/30\n",
      "\u001b[1m118/118\u001b[0m \u001b[32m━━━━━━━━━━━━━━━━━━━━\u001b[0m\u001b[37m\u001b[0m \u001b[1m57s\u001b[0m 479ms/step - accuracy: 1.0000 - loss: 0.1049 - val_accuracy: 0.9986 - val_loss: 0.0981 - learning_rate: 1.0000e-04\n",
      "Epoch 25/30\n",
      "\u001b[1m118/118\u001b[0m \u001b[32m━━━━━━━━━━━━━━━━━━━━\u001b[0m\u001b[37m\u001b[0m \u001b[1m56s\u001b[0m 478ms/step - accuracy: 1.0000 - loss: 0.1019 - val_accuracy: 0.9986 - val_loss: 0.0942 - learning_rate: 1.0000e-04\n",
      "Epoch 26/30\n",
      "\u001b[1m118/118\u001b[0m \u001b[32m━━━━━━━━━━━━━━━━━━━━\u001b[0m\u001b[37m\u001b[0m \u001b[1m56s\u001b[0m 479ms/step - accuracy: 1.0000 - loss: 0.0989 - val_accuracy: 0.9986 - val_loss: 0.0932 - learning_rate: 1.0000e-04\n",
      "Epoch 27/30\n",
      "\u001b[1m118/118\u001b[0m \u001b[32m━━━━━━━━━━━━━━━━━━━━\u001b[0m\u001b[37m\u001b[0m \u001b[1m57s\u001b[0m 480ms/step - accuracy: 1.0000 - loss: 0.0964 - val_accuracy: 0.9986 - val_loss: 0.0866 - learning_rate: 1.0000e-04\n",
      "Epoch 28/30\n",
      "\u001b[1m118/118\u001b[0m \u001b[32m━━━━━━━━━━━━━━━━━━━━\u001b[0m\u001b[37m\u001b[0m \u001b[1m57s\u001b[0m 482ms/step - accuracy: 1.0000 - loss: 0.0934 - val_accuracy: 1.0000 - val_loss: 0.0826 - learning_rate: 1.0000e-04\n",
      "Epoch 29/30\n",
      "\u001b[1m118/118\u001b[0m \u001b[32m━━━━━━━━━━━━━━━━━━━━\u001b[0m\u001b[37m\u001b[0m \u001b[1m56s\u001b[0m 476ms/step - accuracy: 0.8462 - loss: 0.6147 - val_accuracy: 0.5440 - val_loss: 1.9217 - learning_rate: 1.0000e-04\n",
      "Epoch 30/30\n",
      "\u001b[1m118/118\u001b[0m \u001b[32m━━━━━━━━━━━━━━━━━━━━\u001b[0m\u001b[37m\u001b[0m \u001b[1m56s\u001b[0m 477ms/step - accuracy: 0.9055 - loss: 0.4661 - val_accuracy: 0.9219 - val_loss: 0.3979 - learning_rate: 1.0000e-04\n",
      "\n",
      "Evaluating VGG19+LSTM model on test set...\n",
      "Total 880 videos and 880 classes\n",
      "test_gen batch videos shape: (24, 5, 128, 128, 3)\n",
      "test_gen batch labels shape: (24, 11)\n",
      "\u001b[1m37/37\u001b[0m \u001b[32m━━━━━━━━━━━━━━━━━━━━\u001b[0m\u001b[37m\u001b[0m \u001b[1m10s\u001b[0m 271ms/step - accuracy: 1.0000 - loss: 0.0834\n",
      "VGG19+LSTM Test Loss: 0.0833\n",
      "VGG19+LSTM Test Accuracy: 100.00%\n"
     ]
    },
    {
     "data": {
      "image/png": "[encoded data removed]",
      "text/plain": [
       "<Figure size 1200x500 with 2 Axes>"
      ]
     },
     "metadata": {},
     "output_type": "display_data"
    },
    {
     "name": "stdout",
     "output_type": "stream",
     "text": [
      "\u001b[1m37/37\u001b[0m \u001b[32m━━━━━━━━━━━━━━━━━━━━\u001b[0m\u001b[37m\u001b[0m \u001b[1m12s\u001b[0m 276ms/step\n",
      "True classes shape: (880,)\n",
      "Predicted classes shape: (880,)\n",
      "\n",
      "VGG19+LSTM Classification Report:\n",
      "                   precision    recall  f1-score   support\n",
      "\n",
      "       Basketball       1.00      1.00      1.00        86\n",
      "           Biking       1.00      1.00      1.00        82\n",
      "           Diving       1.00      1.00      1.00        75\n",
      "        GolfSwing       1.00      1.00      1.00        86\n",
      "      HorseRiding       1.00      1.00      1.00        78\n",
      "           Skiing       1.00      1.00      1.00        75\n",
      "    SkateBoarding       1.00      1.00      1.00        83\n",
      "            Swing       1.00      1.00      1.00        85\n",
      "      TennisSwing       1.00      1.00      1.00        70\n",
      "TrampolineJumping       1.00      1.00      1.00        76\n",
      "   WalkingWithDog       1.00      1.00      1.00        84\n",
      "\n",
      "         accuracy                           1.00       880\n",
      "        macro avg       1.00      1.00      1.00       880\n",
      "     weighted avg       1.00      1.00      1.00       880\n",
      "\n"
     ]
    },
    {
     "name": "stderr",
     "output_type": "stream",
     "text": [
      "/usr/local/lib/python3.11/dist-packages/keras/src/trainers/epoch_iterator.py:151: UserWarning: Your input ran out of data; interrupting training. Make sure that your dataset or generator can generate at least `steps_per_epoch * epochs` batches. You may need to use the `.repeat()` function when building your dataset.\n",
      "  self._interrupted_warning()\n"
     ]
    },
    {
     "data": {
      "image/png": "[encoded data removed]",
      "text/plain": [
       "<Figure size 800x600 with 2 Axes>"
      ]
     },
     "metadata": {},
     "output_type": "display_data"
    }
   ],
   "source": [
    "# Import necessary libraries\n",
    "from tensorflow.keras.applications import VGG19\n",
    "from tensorflow.keras.models import Sequential\n",
    "from tensorflow.keras.layers import TimeDistributed, GlobalAveragePooling2D, LSTM, Dropout, Dense, BatchNormalization\n",
    "from tensorflow.keras.regularizers import l2\n",
    "from tensorflow.keras.callbacks import EarlyStopping, ReduceLROnPlateau\n",
    "from tensorflow.keras.utils import to_categorical\n",
    "import tensorflow as tf\n",
    "import numpy as np\n",
    "import gc\n",
    "\n",
    "# Clear memory before creating the new model\n",
    "gc.collect()\n",
    "tf.keras.backend.clear_session()\n",
    "print(\"Memory cleared before creating VGG19+LSTM model\")\n",
    "\n",
    "# Print TensorFlow version\n",
    "print(f\"TensorFlow version: {tf.__version__}\")\n",
    "\n",
    "# Pre-load VGG19 weights\n",
    "print(\"Pre-loading VGG19 weights...\")\n",
    "try:\n",
    "    base_model = VGG19(weights='imagenet', include_top=False, input_shape=(IMAGE_HEIGHT, IMAGE_WIDTH, 3))\n",
    "    print(\"VGG19 weights loaded successfully!\")\n",
    "except Exception as e:\n",
    "    print(f\"Failed to load VGG19 weights: {str(e)}\")\n",
    "    print(\"Falling back to initializing VGG19 without pre-trained weights...\")\n",
    "    base_model = VGG19(weights=None, include_top=False, input_shape=(IMAGE_HEIGHT, IMAGE_WIDTH, 3))\n",
    "\n",
    "# Define function to create VGG19+LSTM model\n",
    "def create_vgg19_lstm_model(sequence_length, image_height, image_width, classes_list=None, dropout_rate=0.5, base_model=None):\n",
    "    print(\"Creating VGG19+LSTM model with parameters:\")\n",
    "    print(f\"sequence_length: {sequence_length}, image_height: {image_height}, image_width: {image_width}, classes_list length: {len(classes_list) if classes_list is not None else None}, dropout_rate: {dropout_rate}\")\n",
    "    \n",
    "    if classes_list is None:\n",
    "        raise ValueError(\"classes_list must be provided to define the output layer size\")\n",
    "    if base_model is None:\n",
    "        raise ValueError(\"base_model must be provided to avoid re-downloading weights\")\n",
    "\n",
    "    try:\n",
    "        # Use the pre-loaded base model\n",
    "        vgg19 = base_model\n",
    "        # Freeze the base model for initial training\n",
    "        vgg19.trainable = False\n",
    "\n",
    "        # Define the Sequential model\n",
    "        model = Sequential([\n",
    "            # TimeDistributed VGG19 model\n",
    "            TimeDistributed(\n",
    "                vgg19,\n",
    "                input_shape=(sequence_length, image_height, image_width, 3),\n",
    "                name=\"time_distributed_vgg19\"\n",
    "            ),\n",
    "            # TimeDistributed GlobalAveragePooling2D\n",
    "            TimeDistributed(GlobalAveragePooling2D(), name=\"time_distributed_pooling\"),\n",
    "            # LSTM layer with 512 units\n",
    "            LSTM(512, activation=\"tanh\", return_sequences=False, kernel_regularizer=l2(0.01), name=\"lstm_vgg19\"),\n",
    "            BatchNormalization(name=\"batch_normalization_vgg19\"),\n",
    "            # Dropout after LSTM\n",
    "            Dropout(dropout_rate, name=\"dropout_lstm_vgg19\"),\n",
    "            # Dense layer with 512 units\n",
    "            Dense(512, activation=\"relu\", kernel_regularizer=l2(0.01), name=\"dense_vgg19_1\"),\n",
    "            # Dropout after first Dense\n",
    "            Dropout(dropout_rate, name=\"dropout_dense_vgg19_1\"),\n",
    "            # Dense layer with 128 units\n",
    "            Dense(128, activation=\"relu\", kernel_regularizer=l2(0.01), name=\"dense_vgg19_2\"),\n",
    "            # Dropout after second Dense\n",
    "            Dropout(dropout_rate, name=\"dropout_dense_vgg19_2\"),\n",
    "            # Output Dense layer with softmax activation\n",
    "            Dense(len(classes_list), activation=\"softmax\", name=\"output_vgg19\")\n",
    "        ])\n",
    "\n",
    "        # Print model summary\n",
    "        print(\"VGG19+LSTM model architecture created successfully!\")\n",
    "        model.summary()\n",
    "\n",
    "        return model\n",
    "\n",
    "    except Exception as e:\n",
    "        print(f\"Error creating VGG19+LSTM model: {str(e)}\")\n",
    "        import traceback\n",
    "        traceback.print_exc()\n",
    "        return None\n",
    "\n",
    "# Create the VGG19+LSTM model using the pre-loaded base model\n",
    "vgg19_lstm_model = create_vgg19_lstm_model(\n",
    "    sequence_length=SEQUENCE_LENGTH,\n",
    "    image_height=IMAGE_HEIGHT,\n",
    "    image_width=IMAGE_WIDTH,\n",
    "    classes_list=CLASSES_LIST,\n",
    "    dropout_rate=DROPOUT_RATE,\n",
    "    base_model=base_model\n",
    ")\n",
    "\n",
    "# Check if model was created successfully\n",
    "if vgg19_lstm_model is None:\n",
    "    raise ValueError(\"Failed to create VGG19+LSTM model. Check error messages above.\")\n",
    "else:\n",
    "    print(\"VGG19+LSTM Model Created Successfully!\")\n",
    "\n",
    "# Plot the model structure\n",
    "from tensorflow.keras.utils import plot_model\n",
    "try:\n",
    "    plot_model(vgg19_lstm_model, to_file=f'{MODEL_NAME}_VGG19_LSTM_model_Plot.png', show_shapes=True, show_layer_names=True)\n",
    "    print(f\"{MODEL_NAME}_VGG19_LSTM Model Plot saved successfully...\")\n",
    "except Exception as e:\n",
    "    print(f\"Failed to plot model: {str(e)}\")\n",
    "\n",
    "# Verify data shapes\n",
    "print(f\"train_gen.videos shape: {np.shape(train_gen.videos)}\")\n",
    "print(f\"train_gen.labels shape: {np.shape(train_gen.labels)}\")\n",
    "print(f\"val_gen.videos shape: {np.shape(val_gen.videos)}\")\n",
    "print(f\"val_gen.labels shape: {np.shape(val_gen.labels)}\")\n",
    "print(f\"features_test shape: {np.shape(features_test)}\")\n",
    "print(f\"labels_test shape: {np.shape(labels_test)}\")\n",
    "\n",
    "# Ensure labels_test is one-hot encoded\n",
    "if len(labels_test.shape) == 1:\n",
    "    print(\"Converting labels_test to one-hot encoded format...\")\n",
    "    labels_test = to_categorical(labels_test, num_classes=NO_OF_CLASSES)\n",
    "    print(f\"New labels_test shape: {labels_test.shape}\")\n",
    "\n",
    "# Verify generator batch shapes\n",
    "try:\n",
    "    videos, labels = train_gen[0]\n",
    "    print(f\"train_gen batch videos shape: {videos.shape}\")\n",
    "    print(f\"train_gen batch labels shape: {labels.shape}\")\n",
    "    videos, labels = val_gen[0]\n",
    "    print(f\"val_gen batch videos shape: {videos.shape}\")\n",
    "    print(f\"val_gen batch labels shape: {labels.shape}\")\n",
    "except Exception as e:\n",
    "    print(f\"Error accessing generator data: {str(e)}\")\n",
    "\n",
    "# Compile the model for initial training\n",
    "early_stopping_callback = EarlyStopping(monitor='val_loss', patience=7, mode='min', restore_best_weights=True)\n",
    "lr_scheduler = ReduceLROnPlateau(monitor='val_loss', factor=0.5, patience=3, min_lr=1e-6)\n",
    "\n",
    "vgg19_lstm_model.compile(\n",
    "    loss='categorical_crossentropy',\n",
    "    optimizer=tf.keras.optimizers.Adam(learning_rate=0.001),  # Higher learning rate for initial training\n",
    "    metrics=['accuracy']\n",
    ")\n",
    "\n",
    "# Print dataset summary\n",
    "print(f\"Dataset - {DATASET_NAME}\")\n",
    "print(f\"There are total {len(ALL_CLASS_NAMES)} classes, selected {NO_OF_CLASSES} classes\")\n",
    "print(f\"Setting {MAX_VIDEO_PER_CLASS} videos/class to train the model.\")\n",
    "print(f\"Image size {IMAGE_HEIGHT}x{IMAGE_WIDTH} with {SEQUENCE_LENGTH} sequence length\")\n",
    "print(f\"Dropout rate: {DROPOUT_RATE}\")\n",
    "print(f\"Train-Test split ratio {int((1-TEST_SIZE)*100)}/{int(TEST_SIZE*100)}\")\n",
    "print(f\"Validation data from Train set {VALIDATION_SPLIT*100}%\")\n",
    "print(\"\\n\")\n",
    "\n",
    "# Initial training with frozen base model\n",
    "print(f\"Initial training started for VGG19+LSTM model with {len(train_gen.videos)} videos of {NO_OF_CLASSES} classes with {len(val_gen.videos)} videos for validation...\")\n",
    "try:\n",
    "    vgg19_history_initial = vgg19_lstm_model.fit(\n",
    "        train_gen.as_dataset(),\n",
    "        validation_data=val_gen.as_dataset(),\n",
    "        epochs=EPOCHS,\n",
    "        class_weight=class_weights,\n",
    "        callbacks=[early_stopping_callback, lr_scheduler]\n",
    "    )\n",
    "except Exception as e:\n",
    "    print(f\"Error during initial model training: {str(e)}\")\n",
    "    import traceback\n",
    "    traceback.print_exc()\n",
    "\n",
    "# Unfreeze some layers for fine-tuning\n",
    "base_model.trainable = True\n",
    "# Freeze all layers except the last 8 layers (consistent with previous VGG19 code)\n",
    "for layer in base_model.layers[:-8]:\n",
    "    layer.trainable = False\n",
    "\n",
    "# Recompile the model with a lower learning rate for fine-tuning\n",
    "vgg19_lstm_model.compile(\n",
    "    loss='categorical_crossentropy',\n",
    "    optimizer=tf.keras.optimizers.Adam(learning_rate=0.0001),  # Lower learning rate for fine-tuning\n",
    "    metrics=['accuracy']\n",
    ")\n",
    "\n",
    "# Fine-tune the model\n",
    "print(f\"\\nFine-tuning started for VGG19+LSTM model with {len(train_gen.videos)} videos of {NO_OF_CLASSES} classes with {len(val_gen.videos)} videos for validation...\")\n",
    "try:\n",
    "    vgg19_history_fine = vgg19_lstm_model.fit(\n",
    "        train_gen.as_dataset(),\n",
    "        validation_data=val_gen.as_dataset(),\n",
    "        epochs=EPOCHS,\n",
    "        class_weight=class_weights,\n",
    "        callbacks=[early_stopping_callback, lr_scheduler]\n",
    "    )\n",
    "except Exception as e:\n",
    "    print(f\"Error during fine-tuning: {str(e)}\")\n",
    "    import traceback\n",
    "    traceback.print_exc()\n",
    "\n",
    "# Evaluate the model on the test set\n",
    "print(\"\\nEvaluating VGG19+LSTM model on test set...\")\n",
    "test_gen = VideoDataGenerator(\n",
    "    videos=features_test,\n",
    "    labels=labels_test,\n",
    "    batch_size=BATCH_SIZE\n",
    ")\n",
    "try:\n",
    "    videos, labels = test_gen[0]\n",
    "    print(f\"test_gen batch videos shape: {videos.shape}\")\n",
    "    print(f\"test_gen batch labels shape: {labels.shape}\")\n",
    "    loss, accuracy = vgg19_lstm_model.evaluate(test_gen.as_dataset())\n",
    "    print(f'VGG19+LSTM Test Loss: {loss:.4f}')\n",
    "    print(f'VGG19+LSTM Test Accuracy: {accuracy * 100:.2f}%')\n",
    "except Exception as e:\n",
    "    print(f\"Error during model evaluation: {str(e)}\")\n",
    "    import traceback\n",
    "    traceback.print_exc()\n",
    "\n",
    "# Plot training history (combine initial and fine-tuning)\n",
    "import matplotlib.pyplot as plt\n",
    "\n",
    "try:\n",
    "    # Combine histories\n",
    "    history_accuracy = vgg19_history_initial.history['accuracy'] + vgg19_history_fine.history['accuracy']\n",
    "    history_val_accuracy = vgg19_history_initial.history['val_accuracy'] + vgg19_history_fine.history['val_accuracy']\n",
    "    history_loss = vgg19_history_initial.history['loss'] + vgg19_history_fine.history['loss']\n",
    "    history_val_loss = vgg19_history_initial.history['val_loss'] + vgg19_history_fine.history['val_loss']\n",
    "\n",
    "    plt.figure(figsize=(12, 5))\n",
    "\n",
    "    # Accuracy\n",
    "    plt.subplot(1, 2, 1)\n",
    "    plt.plot(history_accuracy, label='Train Accuracy')\n",
    "    plt.plot(history_val_accuracy, label='Validation Accuracy')\n",
    "    plt.axvline(x=len(vgg19_history_initial.history['accuracy']), color='r', linestyle='--', label='Start Fine-Tuning')\n",
    "    plt.title('VGG19+LSTM Model Accuracy')\n",
    "    plt.xlabel('Epoch')\n",
    "    plt.ylabel('Accuracy')\n",
    "    plt.legend()\n",
    "\n",
    "    # Loss\n",
    "    plt.subplot(1, 2, 2)\n",
    "    plt.plot(history_loss, label='Train Loss')\n",
    "    plt.plot(history_val_loss, label='Validation Loss')\n",
    "    plt.axvline(x=len(vgg19_history_initial.history['loss']), color='r', linestyle='--', label='Start Fine-Tuning')\n",
    "    plt.title('VGG19+LSTM Model Loss')\n",
    "    plt.xlabel('Epoch')\n",
    "    plt.ylabel('Loss')\n",
    "    plt.legend()\n",
    "\n",
    "    plt.tight_layout()\n",
    "    plt.show()\n",
    "except Exception as e:\n",
    "    print(f\"Error plotting training history: {str(e)}\")\n",
    "\n",
    "# Generate confusion matrix and classification report\n",
    "from sklearn.metrics import classification_report, confusion_matrix\n",
    "import seaborn as sns\n",
    "\n",
    "# Get predictions\n",
    "try:\n",
    "    predictions = vgg19_lstm_model.predict(test_gen.as_dataset())\n",
    "    predicted_classes = np.argmax(predictions, axis=1)\n",
    "    true_classes = np.argmax(labels_test, axis=1)\n",
    "\n",
    "    # Verify shapes\n",
    "    print(f\"True classes shape: {true_classes.shape}\")\n",
    "    print(f\"Predicted classes shape: {predicted_classes.shape}\")\n",
    "    assert len(true_classes) == len(predicted_classes), \"Sample counts do not match!\"\n",
    "\n",
    "    # Generate classification report\n",
    "    print(\"\\nVGG19+LSTM Classification Report:\")\n",
    "    print(classification_report(true_classes, predicted_classes, target_names=CLASSES_LIST))\n",
    "\n",
    "    # Plot confusion matrix\n",
    "    cm = confusion_matrix(true_classes, predicted_classes)\n",
    "    plt.figure(figsize=(8, 6))\n",
    "    sns.heatmap(cm, annot=True, fmt='d', cmap='Blues', xticklabels=CLASSES_LIST, yticklabels=CLASSES_LIST)\n",
    "    plt.xlabel('Predicted')\n",
    "    plt.ylabel('True')\n",
    "    plt.title('VGG19+LSTM Confusion Matrix')\n",
    "    plt.show()\n",
    "except Exception as e:\n",
    "    print(f\"Error during prediction or plotting: {str(e)}\")\n",
    "    import traceback\n",
    "    traceback.print_exc()"
   ]
  },
  {
   "cell_type": "code",
   "execution_count": 55,
   "id": "1b2c0ec0",
   "metadata": {
    "execution": {
     "iopub.execute_input": "2025-07-12T09:35:56.169222Z",
     "iopub.status.busy": "2025-07-12T09:35:56.168446Z",
     "iopub.status.idle": "2025-07-12T09:36:07.417672Z",
     "shell.execute_reply": "2025-07-12T09:36:07.416881Z"
    },
    "papermill": {
     "duration": 11.79944,
     "end_time": "2025-07-12T09:36:07.419101",
     "exception": false,
     "start_time": "2025-07-12T09:35:55.619661",
     "status": "completed"
    },
    "tags": []
   },
   "outputs": [
    {
     "name": "stdout",
     "output_type": "stream",
     "text": [
      "\u001b[1m28/28\u001b[0m \u001b[32m━━━━━━━━━━━━━━━━━━━━\u001b[0m\u001b[37m\u001b[0m \u001b[1m9s\u001b[0m 271ms/step - accuracy: 1.0000 - loss: 0.0834\n"
     ]
    }
   ],
   "source": [
    "# previous code\n",
    "model_evaluation_history = vgg19_lstm_model.evaluate(features_test, labels_test)"
   ]
  }
 ],
 "metadata": {
  "kaggle": {
   "accelerator": "nvidiaTeslaT4",
   "dataSources": [
    {
     "datasetId": 1357563,
     "sourceId": 2256095,
     "sourceType": "datasetVersion"
    },
    {
     "datasetId": 7763484,
     "sourceId": 12338519,
     "sourceType": "datasetVersion"
    },
    {
     "datasetId": 7801555,
     "sourceId": 12373067,
     "sourceType": "datasetVersion"
    },
    {
     "datasetId": 7801884,
     "sourceId": 12373562,
     "sourceType": "datasetVersion"
    }
   ],
   "dockerImageVersionId": 31090,
   "isGpuEnabled": true,
   "isInternetEnabled": true,
   "language": "python",
   "sourceType": "notebook"
  },
  "kernelspec": {
   "display_name": "Python 3",
   "language": "python",
   "name": "python3"
  },
  "language_info": {
   "codemirror_mode": {
    "name": "ipython",
    "version": 3
   },
   "file_extension": ".py",
   "mimetype": "text/x-python",
   "name": "python",
   "nbconvert_exporter": "python",
   "pygments_lexer": "ipython3",
   "version": "3.11.13"
  },
  "papermill": {
   "default_parameters": {},
   "duration": 3209.445813,
   "end_time": "2025-07-12T09:36:11.576093",
   "environment_variables": {},
   "exception": null,
   "input_path": "__notebook__.ipynb",
   "output_path": "__notebook__.ipynb",
   "parameters": {},
   "start_time": "2025-07-12T08:42:42.130280",
   "version": "2.6.0"
  }
 },
 "nbformat": 4,
 "nbformat_minor": 5
}
