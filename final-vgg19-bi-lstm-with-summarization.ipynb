{
 "cells": [
  {
   "cell_type": "markdown",
   "id": "b188eabc",
   "metadata": {
    "papermill": {
     "duration": 0.012126,
     "end_time": "2025-07-11T11:57:17.040198",
     "exception": false,
     "start_time": "2025-07-11T11:57:17.028072",
     "status": "completed"
    },
    "tags": []
   },
   "source": [
    "# Initialization\n",
    "## Import Libraries"
   ]
  },
  {
   "cell_type": "code",
   "execution_count": 1,
   "id": "14f1fbf0",
   "metadata": {
    "_cell_guid": "b1076dfc-b9ad-4769-8c92-a6c4dae69d19",
    "_uuid": "8f2839f25d086af736a60e9eeb907d3b93b6e0e5",
    "execution": {
     "iopub.execute_input": "2025-07-11T11:57:17.063657Z",
     "iopub.status.busy": "2025-07-11T11:57:17.063376Z",
     "iopub.status.idle": "2025-07-11T11:57:42.191494Z",
     "shell.execute_reply": "2025-07-11T11:57:42.190579Z"
    },
    "papermill": {
     "duration": 25.142295,
     "end_time": "2025-07-11T11:57:42.193252",
     "exception": false,
     "start_time": "2025-07-11T11:57:17.050957",
     "status": "completed"
    },
    "tags": []
   },
   "outputs": [
    {
     "name": "stderr",
     "output_type": "stream",
     "text": [
      "2025-07-11 11:57:20.342777: E external/local_xla/xla/stream_executor/cuda/cuda_fft.cc:477] Unable to register cuFFT factory: Attempting to register factory for plugin cuFFT when one has already been registered\n",
      "WARNING: All log messages before absl::InitializeLog() is called are written to STDERR\n",
      "E0000 00:00:1752235040.700036      19 cuda_dnn.cc:8310] Unable to register cuDNN factory: Attempting to register factory for plugin cuDNN when one has already been registered\n",
      "E0000 00:00:1752235040.805926      19 cuda_blas.cc:1418] Unable to register cuBLAS factory: Attempting to register factory for plugin cuBLAS when one has already been registered\n"
     ]
    }
   ],
   "source": [
    "# install librarires\n",
    "import os\n",
    "import tensorflow as tf\n",
    "import numpy as np\n",
    "import random"
   ]
  },
  {
   "cell_type": "markdown",
   "id": "116d5374",
   "metadata": {
    "papermill": {
     "duration": 0.011619,
     "end_time": "2025-07-11T11:57:42.217371",
     "exception": false,
     "start_time": "2025-07-11T11:57:42.205752",
     "status": "completed"
    },
    "tags": []
   },
   "source": [
    "## ℹ️ Set Global Constants"
   ]
  },
  {
   "cell_type": "code",
   "execution_count": 2,
   "id": "7b21b863",
   "metadata": {
    "execution": {
     "iopub.execute_input": "2025-07-11T11:57:42.242925Z",
     "iopub.status.busy": "2025-07-11T11:57:42.241807Z",
     "iopub.status.idle": "2025-07-11T11:57:42.259116Z",
     "shell.execute_reply": "2025-07-11T11:57:42.258171Z"
    },
    "papermill": {
     "duration": 0.031477,
     "end_time": "2025-07-11T11:57:42.260356",
     "exception": false,
     "start_time": "2025-07-11T11:57:42.228879",
     "status": "completed"
    },
    "tags": []
   },
   "outputs": [
    {
     "name": "stdout",
     "output_type": "stream",
     "text": [
      "Kard Kinect Activity Recognition Dataset\n",
      "There are total 18 classes, selected 18 classes\n",
      "Setting 20/class to train the model.\n",
      "Image size 128x128 with 5 sequence length\n",
      "Dropout rate: 0.5\n",
      "Train-Test split ratio 80/20\n",
      "Validation data from Train set 20.0%\n"
     ]
    }
   ],
   "source": [
    "# global variables\n",
    "# set dataset directories\n",
    "\n",
    "\n",
    "DATASET_DIR = \"/kaggle/input/kard-kinect-activity-recognition-dataset\"\n",
    "DATASET_NAME = DATASET_DIR.split(\"/\")[-1].replace(\"-\", \" \").title()\n",
    "\n",
    "print(DATASET_NAME)\n",
    "\n",
    "ALL_CLASS_NAMES = os.listdir(DATASET_DIR)\n",
    "\n",
    "# Global constant variables -> \n",
    "NO_OF_CLASSES = len(ALL_CLASS_NAMES)\n",
    "CLASSES_LIST = ALL_CLASS_NAMES[:NO_OF_CLASSES]\n",
    "\n",
    "# Model Configuration\n",
    "IMAGE_HEIGHT, IMAGE_WIDTH = 128, 128\n",
    "SEQUENCE_LENGTH = 5\n",
    "\n",
    "# set drop out rate\n",
    "DROPOUT_RATE = 0.5\n",
    "\n",
    "# set datas\n",
    "MAX_VIDEO_PER_CLASS = 20\n",
    "\n",
    "# split dataset\n",
    "TEST_SIZE = 0.20\n",
    "\n",
    "# model fit parameters\n",
    "EPOCHS = 30\n",
    "BATCH_SIZE = 24\n",
    "VALIDATION_SPLIT = 0.20\n",
    "\n",
    "# augmentation values\n",
    "NOISE_FACTOR = 0.02\n",
    "SHEAR_X= 1\n",
    "SHEAR_Y= 1\n",
    "\n",
    "# give a name of the model to save\n",
    "MODEL_NAME = \"Xception\"\n",
    "\n",
    "print(f\"There are total {len(ALL_CLASS_NAMES)} classes, selected {NO_OF_CLASSES} classes\")\n",
    "print(f\"Setting {MAX_VIDEO_PER_CLASS}/class to train the model.\")\n",
    "print(f\"Image size {IMAGE_HEIGHT}x{IMAGE_WIDTH} with {SEQUENCE_LENGTH} sequence length\")\n",
    "print(f\"Dropout rate: {DROPOUT_RATE}\")\n",
    "print(f\"Train-Test split ratio {int((1-TEST_SIZE)*100)}/{int(TEST_SIZE*100)}\")\n",
    "print(f\"Validation data from Train set {VALIDATION_SPLIT*100}%\")"
   ]
  },
  {
   "cell_type": "markdown",
   "id": "645f0e87",
   "metadata": {
    "papermill": {
     "duration": 0.011876,
     "end_time": "2025-07-11T11:57:42.291283",
     "exception": false,
     "start_time": "2025-07-11T11:57:42.279407",
     "status": "completed"
    },
    "tags": []
   },
   "source": [
    "## Set `Seed` Values"
   ]
  },
  {
   "cell_type": "code",
   "execution_count": 3,
   "id": "e7512dfd",
   "metadata": {
    "execution": {
     "iopub.execute_input": "2025-07-11T11:57:42.316133Z",
     "iopub.status.busy": "2025-07-11T11:57:42.315822Z",
     "iopub.status.idle": "2025-07-11T11:57:42.320131Z",
     "shell.execute_reply": "2025-07-11T11:57:42.319506Z"
    },
    "papermill": {
     "duration": 0.018118,
     "end_time": "2025-07-11T11:57:42.321172",
     "exception": false,
     "start_time": "2025-07-11T11:57:42.303054",
     "status": "completed"
    },
    "tags": []
   },
   "outputs": [],
   "source": [
    "# set seeed to get similar values\n",
    "seed_constant = 27\n",
    "np.random.seed(seed_constant)\n",
    "random.seed(seed_constant)\n",
    "tf.random.set_seed(seed_constant)"
   ]
  },
  {
   "cell_type": "markdown",
   "id": "4f8d30a4",
   "metadata": {
    "papermill": {
     "duration": 0.011186,
     "end_time": "2025-07-11T11:57:42.343284",
     "exception": false,
     "start_time": "2025-07-11T11:57:42.332098",
     "status": "completed"
    },
    "tags": []
   },
   "source": [
    "# 📌 Function Definition\n",
    "## Resize and Frame Extraction"
   ]
  },
  {
   "cell_type": "code",
   "execution_count": 4,
   "id": "cd66474e",
   "metadata": {
    "execution": {
     "iopub.execute_input": "2025-07-11T11:57:42.365756Z",
     "iopub.status.busy": "2025-07-11T11:57:42.365483Z",
     "iopub.status.idle": "2025-07-11T11:57:43.222143Z",
     "shell.execute_reply": "2025-07-11T11:57:43.221305Z"
    },
    "papermill": {
     "duration": 0.869781,
     "end_time": "2025-07-11T11:57:43.223739",
     "exception": false,
     "start_time": "2025-07-11T11:57:42.353958",
     "status": "completed"
    },
    "tags": []
   },
   "outputs": [],
   "source": [
    "import matplotlib.pyplot as plt\n",
    "import os\n",
    "import cv2\n",
    "import numpy as np\n",
    "from sklearn.cluster import KMeans\n",
    "from sklearn.metrics import silhouette_score\n",
    "from skimage.metrics import structural_similarity as ssim\n",
    "\n",
    "# Placeholder for kmeans_silhouette function\n",
    "def kmeans_silhouette(sub_features):\n",
    "    if len(sub_features) < 2:\n",
    "        return [], [], 1, [0]  # Return empty results for insufficient frames\n",
    "    \n",
    "    # Try different k values (2 to min(5, len(sub_features)))\n",
    "    best_k = 2\n",
    "    best_labels = None\n",
    "    best_centers = None\n",
    "    best_score = -1\n",
    "    best_indices = []\n",
    "    \n",
    "    for k in range(2, min(6, len(sub_features) + 1)):\n",
    "        kmeans = KMeans(n_clusters=k, random_state=42, n_init='auto')\n",
    "        labels = kmeans.fit_predict(sub_features)\n",
    "        if len(np.unique(labels)) > 1:  # Silhouette score requires at least 2 clusters\n",
    "            score = silhouette_score(sub_features, labels)\n",
    "            if score > best_score:\n",
    "                best_score = score\n",
    "                best_k = k\n",
    "                best_labels = labels\n",
    "                best_centers = kmeans.cluster_centers_\n",
    "        \n",
    "        # Find indices of frames closest to cluster centers\n",
    "        indices = []\n",
    "        for i in range(best_k):\n",
    "            if i in labels:\n",
    "                cluster_points = sub_features[labels == i]\n",
    "                distances = np.linalg.norm(cluster_points - best_centers[i], axis=1)\n",
    "                if len(distances) > 0:\n",
    "                    idx = np.argmin(distances)\n",
    "                    indices.append(idx)\n",
    "    \n",
    "    return best_labels, best_centers, best_k, indices\n",
    "\n",
    "# Placeholder for redundancy function\n",
    "def redundancy(video_path, indices, threshold=0.94):\n",
    "    if not indices:\n",
    "        return []\n",
    "    \n",
    "    video_reader = cv2.VideoCapture(video_path)\n",
    "    if not video_reader.isOpened():\n",
    "        return indices\n",
    "    \n",
    "    # Compute histogram for each frame\n",
    "    def get_histogram(frame):\n",
    "        gray = cv2.cvtColor(frame, cv2.COLOR_BGR2GRAY)\n",
    "        hist = cv2.calcHist([gray], [0], None, [256], [0, 256])\n",
    "        cv2.normalize(hist, hist)\n",
    "        return hist\n",
    "    \n",
    "    filtered_indices = [indices[0]]  # Keep first index\n",
    "    prev_frame = None\n",
    "    \n",
    "    for idx in indices[1:]:\n",
    "        video_reader.set(cv2.CAP_PROP_POS_FRAMES, idx)\n",
    "        success, frame = video_reader.read()\n",
    "        if not success:\n",
    "            continue\n",
    "        hist = get_histogram(frame)\n",
    "        \n",
    "        if prev_frame is not None:\n",
    "            # Compute histogram correlation\n",
    "            corr = cv2.compareHist(get_histogram(prev_frame), hist, cv2.HISTCMP_CORREL)\n",
    "            if corr < threshold:  # Keep frame if significantly different\n",
    "                filtered_indices.append(idx)\n",
    "        prev_frame = frame\n",
    "    \n",
    "    video_reader.release()\n",
    "    return filtered_indices\n",
    "\n",
    "# Modified scen_keyframe_extraction function\n",
    "def frames_extraction(video_path,  file_name, video_index, is_last_video, num_segments=SEQUENCE_LENGTH):\n",
    "    # Open video to get frame count\n",
    "    video_reader = cv2.VideoCapture(video_path)\n",
    "    if not video_reader.isOpened():\n",
    "        raise ValueError(f\"Failed to open video {video_path}.\")\n",
    "    \n",
    "    frame_count = int(video_reader.get(cv2.CAP_PROP_FRAME_COUNT))\n",
    "    if frame_count == 0:\n",
    "        video_reader.release()\n",
    "        raise ValueError(f\"No frames in video {video_path}.\")\n",
    "    \n",
    "    # Generate synthetic scene segmentation (divide video into equal segments)\n",
    "    segment_length = frame_count // num_segments\n",
    "    number_list = []\n",
    "    for i in range(num_segments):\n",
    "        start = i * segment_length\n",
    "        end = min((i + 1) * segment_length, frame_count)\n",
    "        number_list.extend([start, end])\n",
    "\n",
    "    features = []\n",
    "    frame_idx = 0\n",
    "    \n",
    "    while True:\n",
    "        success, frame = video_reader.read()\n",
    "        if not success:\n",
    "            break\n",
    "    \n",
    "        gray = cv2.cvtColor(frame, cv2.COLOR_BGR2GRAY)\n",
    "        hist = cv2.calcHist([gray], [0], None, [256], [0, 256])\n",
    "        cv2.normalize(hist, hist)\n",
    "        features.append(hist.flatten())\n",
    "        \n",
    "        frame_idx += 1\n",
    "    \n",
    "    video_reader.release()\n",
    "    features = np.asarray(features)\n",
    "    \n",
    "    # Clustering at each shot to obtain keyframe sequence numbers\n",
    "    keyframe_index = []\n",
    "    for i in range(0, len(number_list), 2):\n",
    "        start = number_list[i]\n",
    "        end = min(number_list[i + 1], len(features))\n",
    "        if end <= start:\n",
    "            continue\n",
    "        sub_features = features[start:end]\n",
    "        best_labels, best_centers, k, indices = kmeans_silhouette(sub_features)\n",
    "        final_index = [x + start for x in indices if x + start < frame_count]\n",
    "        final_index = redundancy(video_path, final_index, 0.94)\n",
    "        keyframe_index += final_index\n",
    "    \n",
    "    keyframe_index = sorted(list(set(keyframe_index)))  # Remove duplicates and sort\n",
    "    # print(\"final_index:\", keyframe_index, end=\"\\r\", flush=True)\n",
    "    \n",
    "    # Visualize keyframes\n",
    "    num_keyframes = len(keyframe_index)\n",
    "    if num_keyframes == 0:\n",
    "        print(\"No keyframes extracted.\")\n",
    "        return\n",
    "    \n",
    "    video_reader = cv2.VideoCapture(video_path)\n",
    "    class_name = os.path.basename(os.path.dirname(video_path))\n",
    "    # print(keyframe_index)\n",
    "    frames=[]\n",
    "    frames_index=[]\n",
    "    for idx, frame_idx in enumerate(keyframe_index, 1):\n",
    "        video_reader.set(cv2.CAP_PROP_POS_FRAMES, frame_idx)\n",
    "        success, frame = video_reader.read()\n",
    "        if not success:\n",
    "            continue\n",
    "        rgb_frame = cv2.cvtColor(frame, cv2.COLOR_BGR2RGB)\n",
    "        try:\n",
    "            resized_frame = cv2.resize(rgb_frame, (IMAGE_WIDTH, IMAGE_HEIGHT), interpolation=cv2.INTER_AREA)\n",
    "            normalized_frame = resized_frame.astype('float32') / 255.0\n",
    "\n",
    "            \n",
    "            if normalized_frame.shape != (IMAGE_HEIGHT, IMAGE_WIDTH, 3):\n",
    "                print(f\"Warning: Frame at index {frame_idx} has incorrect shape: {normalized_frame.shape}\")\n",
    "                continue  # Skip malformed frame\n",
    "            if is_last_video and idx == num_keyframes:\n",
    "                print(f\"Extracted {len(frames)+1} frames from file {video_index+1}: {file_name}\", end=\"\\n\", flush=True)\n",
    "            else:\n",
    "                print(f\"Extracted {len(frames)+1} frames from file {video_index+1}: {file_name}\", end=\"\\r\", flush=True)\n",
    "                \n",
    "            frames.append(normalized_frame)\n",
    "            frames_index.append(frame_idx)\n",
    "        \n",
    "        except Exception as e:\n",
    "            print(f\"Error processing frame {frame_idx}: {e}\")\n",
    "            continue\n",
    "    video_reader.release()\n",
    "\n",
    "    # handle inhomogenous frames or shape mismatch\n",
    "    if len(frames) > SEQUENCE_LENGTH:\n",
    "        # if it is greater than sequence length then leave the last frames\n",
    "        frames=frames[:SEQUENCE_LENGTH]\n",
    "    \n",
    "    frames=np.asarray(frames)\n",
    "    frames_index=np.asarray(frames_index)\n",
    "    return frames, frames_index\n",
    "\n",
    "    \n",
    "# # Run the keyframe extraction\n",
    "# sequence, index = scen_keyframe_extraction(video_path, num_segments=5)\n",
    "\n",
    "# print(sequence.shape)\n",
    "\n",
    "# show_frames(sequence, index)"
   ]
  },
  {
   "cell_type": "markdown",
   "id": "fd939718",
   "metadata": {
    "papermill": {
     "duration": 0.010316,
     "end_time": "2025-07-11T11:57:43.245019",
     "exception": false,
     "start_time": "2025-07-11T11:57:43.234703",
     "status": "completed"
    },
    "tags": []
   },
   "source": [
    "## Create Dataset"
   ]
  },
  {
   "cell_type": "code",
   "execution_count": 5,
   "id": "baae68c8",
   "metadata": {
    "execution": {
     "iopub.execute_input": "2025-07-11T11:57:43.266698Z",
     "iopub.status.busy": "2025-07-11T11:57:43.266409Z",
     "iopub.status.idle": "2025-07-11T11:57:43.273709Z",
     "shell.execute_reply": "2025-07-11T11:57:43.273098Z"
    },
    "papermill": {
     "duration": 0.019692,
     "end_time": "2025-07-11T11:57:43.274857",
     "exception": false,
     "start_time": "2025-07-11T11:57:43.255165",
     "status": "completed"
    },
    "tags": []
   },
   "outputs": [],
   "source": [
    "# RUN create dataset function definition\n",
    "def create_dataset(dataset_dir,\n",
    "                   classes_list, \n",
    "                   sequence_length=SEQUENCE_LENGTH, \n",
    "                   image_height=IMAGE_HEIGHT, \n",
    "                   image_width=IMAGE_WIDTH, \n",
    "                   max_videos_per_class=None,\n",
    "                   augmentations=False\n",
    "                  ):\n",
    "    \n",
    "    # Initialize lists to store features, labels, and video file paths\n",
    "    videos = []\n",
    "    labels = []\n",
    "\n",
    "    # Check if dataset directory exists\n",
    "    if not os.path.exists(dataset_dir):\n",
    "        raise FileNotFoundError(f\"Dataset directory not found: {dataset_dir}\")\n",
    "\n",
    "    # Iterate through all classes in the classes list\n",
    "    for class_index, class_name in enumerate(classes_list):\n",
    "        class_path = os.path.join(dataset_dir, class_name)\n",
    "        \n",
    "        # Check if class directory exists\n",
    "        if not os.path.exists(class_path):\n",
    "            print(f\"Warning: Class directory not found: {class_path}\")\n",
    "            continue\n",
    "\n",
    "        print(f'Extracting Data of Class: {class_name}')\n",
    "\n",
    "        # Get the list of video files in the class directory\n",
    "        files_list = os.listdir(class_path)\n",
    "\n",
    "        # Limit the number of videos if specified\n",
    "        if max_videos_per_class is not None:\n",
    "            files_list = files_list[:max_videos_per_class]\n",
    "\n",
    "        # Iterate through all video files\n",
    "        is_last_video=False\n",
    "        for (index, file_name) in enumerate(files_list):\n",
    "            video_file_path = os.path.join(class_path, file_name)\n",
    "\n",
    "            if index == (len(files_list)-1):\n",
    "                is_last_video=True\n",
    "                # print(f'Extracting frames from file {index+1}: {file_name}', flush=True)\n",
    "            else:\n",
    "                is_last_video=False\n",
    "                # print(f'Extracting frames from file {index+1}: {file_name}', end=\"\\r\", flush=True)\n",
    "            \n",
    "            # Extract frames using the updated frames_extraction function\n",
    "            # frames = frames_extraction(video_file_path, \n",
    "            #                            sequence_length, \n",
    "            #                            image_height, \n",
    "            #                            image_width)\n",
    "            frames, index = frames_extraction(video_path=video_file_path, \n",
    "                                                     file_name=file_name,\n",
    "                                                     video_index=index,\n",
    "                                                     is_last_video=is_last_video,\n",
    "                                                     num_segments=SEQUENCE_LENGTH)\n",
    "\n",
    "            # Skip videos where frame extraction failed\n",
    "            if frames is None:\n",
    "                print(f\"Skipping video {video_file_path} due to frame extraction failure\")\n",
    "                continue\n",
    "\n",
    "            # Append the data to respective lists\n",
    "            videos.append(frames)\n",
    "            labels.append(class_index)\n",
    "\n",
    "    # Convert lists to numpy arrays\n",
    "    if not videos:\n",
    "        raise ValueError(\"No valid videos were processed. Check dataset or parameters.\")\n",
    "    videos = np.asarray(videos)\n",
    "    labels = np.array(labels)\n",
    "\n",
    "    print(f\"Dataset created with {len(videos)} videos\")\n",
    "    print(f\"Features shape: {videos.shape}\")\n",
    "    print(f\"Labels shape: {labels.shape}\")\n",
    "\n",
    "    return videos, labels"
   ]
  },
  {
   "cell_type": "markdown",
   "id": "122b3523",
   "metadata": {
    "papermill": {
     "duration": 0.010024,
     "end_time": "2025-07-11T11:57:43.295396",
     "exception": false,
     "start_time": "2025-07-11T11:57:43.285372",
     "status": "completed"
    },
    "tags": []
   },
   "source": [
    "## 🪄 Video Data Generator"
   ]
  },
  {
   "cell_type": "code",
   "execution_count": 6,
   "id": "1c4f516e",
   "metadata": {
    "execution": {
     "iopub.execute_input": "2025-07-11T11:57:43.318414Z",
     "iopub.status.busy": "2025-07-11T11:57:43.317498Z",
     "iopub.status.idle": "2025-07-11T11:57:43.406365Z",
     "shell.execute_reply": "2025-07-11T11:57:43.405820Z"
    },
    "papermill": {
     "duration": 0.101631,
     "end_time": "2025-07-11T11:57:43.407676",
     "exception": false,
     "start_time": "2025-07-11T11:57:43.306045",
     "status": "completed"
    },
    "tags": []
   },
   "outputs": [],
   "source": [
    "from tensorflow.keras.utils import Sequence, to_categorical\n",
    "import tensorflow as tf\n",
    "import numpy as np\n",
    "import cv2\n",
    "\n",
    "\n",
    "\n",
    "\n",
    "class VideoDataGenerator(Sequence):\n",
    "    def __init__(self, videos, labels, batch_size, is_training=False):\n",
    "        self.videos = list(videos)  # List of video file paths\n",
    "        self.labels = list(labels)  # List or array of labels encoded\n",
    "        self.batch_size = batch_size\n",
    "        self.indices = np.arange(len(self.videos))  # For shuffling\n",
    "        self.is_training = is_training  # Flag to control whether augmentation is applied\n",
    "        self.temp_videos=[]\n",
    "        self.temp_labels=[]\n",
    "        \n",
    "        \n",
    "        print(f\"Total {len(videos)} videos and {len(labels)} classes\")\n",
    "\n",
    "    def __len__(self):\n",
    "        # Return the number of batches per epoch\n",
    "        return int(np.ceil(len(self.videos) / self.batch_size))\n",
    "\n",
    "    def __getitem__(self, idx):\n",
    "        # Get batch indices\n",
    "        batch_indices = self.indices[idx * self.batch_size:(idx + 1) * self.batch_size]\n",
    "        \n",
    "        # Handle case where batch_indices is empty\n",
    "        if len(batch_indices) == 0:\n",
    "            return np.array([], dtype=np.float32), np.array([], dtype=np.float32)\n",
    "        \n",
    "        # Initialize lists to store frames and labels\n",
    "        all_frames = []\n",
    "        all_labels = []\n",
    "        \n",
    "        # Process each video in the batch\n",
    "        for i, index in enumerate(batch_indices):\n",
    "            sequence = self.videos[index]\n",
    "            label = self.labels[index]\n",
    "            \n",
    "            # Load and process video\n",
    "            # sequence = frames_extraction(video_path)\n",
    "\n",
    "            # if sequence is not None:\n",
    "            #     # Apply augmentations: 1 original + 4 augmentations (horizontal flip, shear, rotation, noise)\n",
    "            #     augmented_sequences = [sequence]  # Add original sequence\n",
    "\n",
    "            #     if self.is_training:\n",
    "            #         # Apply augmentations\n",
    "            #         augmented_sequences.append(np.array(horizontal_flip(sequence)))  # Horizontal Flip\n",
    "            #         augmented_sequences.append(np.array(apply_shear_frames(sequence, shear_right=0)))  # Random Shear\n",
    "            #         augmented_sequences.append(np.array(apply_shear_frames(sequence, shear_right=1)))  # Random Rotation\n",
    "            #         augmented_sequences.append(np.array(noise_video(sequence)))  # Salt and Pepper Noise\n",
    "\n",
    "            #     # Add augmented sequences to the batch\n",
    "            #     all_frames.extend(augmented_sequences)\n",
    "            #     all_labels.extend([label] * len(augmented_sequences))  # Each augmentation has the same label\n",
    "\n",
    "            \n",
    "            # Append the sequence and label\n",
    "            all_frames.append(sequence)\n",
    "            all_labels.append(label)\n",
    "        \n",
    "        # Convert to numpy arrays\n",
    "        all_frames = np.array(all_frames, dtype=np.float32)\n",
    "        all_labels = np.array(all_labels)\n",
    "            \n",
    "        \n",
    "        return all_frames, all_labels\n",
    "    def add(self, new_videos, new_labels):\n",
    "        self.temp_videos.extend(new_videos)\n",
    "        self.temp_labels.extend(new_labels)\n",
    "    \n",
    "    def confirm(self):\n",
    "        print(f\"Adding {len(self.temp_videos)} videos with {len(self.temp_labels)} classes.\")\n",
    "        self.videos.extend(self.temp_videos)\n",
    "        self.labels.extend(self.temp_labels)\n",
    "        print(f\"Successfully added - {len(self.temp_videos)} videos and {len(self.temp_labels)} classes.\")\n",
    "        self.temp_videos=[]\n",
    "        self.temp_labels=[]\n",
    "        self.indices = np.arange(len(self.videos))\n",
    "        print(f\"Now Total - {len(self.videos)} videos and {len(self.labels)} classes.\")\n",
    "        print(f\"PENDING for Augmentations - {len(self.temp_videos)} videos and {len(self.temp_labels)} classes.\")\n",
    "    \n",
    "    def on_epoch_end(self):\n",
    "        # Shuffle indices at the end of each epoch\n",
    "        np.random.shuffle(self.indices)\n",
    "\n",
    "    def as_dataset(self):\n",
    "        def generator():\n",
    "            for idx in range(len(self)):\n",
    "                frames, labels = self[idx]\n",
    "                # Skip empty batches\n",
    "                if frames.size == 0:\n",
    "                    continue\n",
    "                yield frames, labels\n",
    "        self.labels=np.array(self.labels)\n",
    "    \n",
    "        # Create a tf.data.Dataset\n",
    "        dataset = tf.data.Dataset.from_generator(\n",
    "            generator,\n",
    "            output_types=(tf.float32, tf.float32),\n",
    "            output_shapes=(\n",
    "                (None, SEQUENCE_LENGTH, IMAGE_HEIGHT, IMAGE_WIDTH, 3),\n",
    "                (None, NO_OF_CLASSES)\n",
    "            )\n",
    "        )\n",
    "        dataset = dataset.prefetch(tf.data.AUTOTUNE)\n",
    "        return dataset"
   ]
  },
  {
   "cell_type": "markdown",
   "id": "08d00ced",
   "metadata": {
    "papermill": {
     "duration": 0.011809,
     "end_time": "2025-07-11T11:57:43.492600",
     "exception": false,
     "start_time": "2025-07-11T11:57:43.480791",
     "status": "completed"
    },
    "tags": []
   },
   "source": [
    "## Debug and Helpers"
   ]
  },
  {
   "cell_type": "markdown",
   "id": "1cafcfb8",
   "metadata": {
    "papermill": {
     "duration": 0.01266,
     "end_time": "2025-07-11T11:57:43.517398",
     "exception": false,
     "start_time": "2025-07-11T11:57:43.504738",
     "status": "completed"
    },
    "tags": []
   },
   "source": [
    "## 💫 Augmentation Helper function"
   ]
  },
  {
   "cell_type": "code",
   "execution_count": 7,
   "id": "e906ff67",
   "metadata": {
    "execution": {
     "iopub.execute_input": "2025-07-11T11:57:43.543949Z",
     "iopub.status.busy": "2025-07-11T11:57:43.543629Z",
     "iopub.status.idle": "2025-07-11T11:57:43.549187Z",
     "shell.execute_reply": "2025-07-11T11:57:43.548486Z"
    },
    "papermill": {
     "duration": 0.020323,
     "end_time": "2025-07-11T11:57:43.550398",
     "exception": false,
     "start_time": "2025-07-11T11:57:43.530075",
     "status": "completed"
    },
    "tags": []
   },
   "outputs": [],
   "source": [
    "import time\n",
    "\n",
    "    \n",
    "\n",
    "def apply_augmentation(augmentation_function, generator, confirm=False, *args, **kwargs):\n",
    "    \n",
    "    for i in range(len(generator)):\n",
    "        batch_videos, batch_labels = generator[i]\n",
    "        augmented_videos=[]\n",
    "        for videos in batch_videos:\n",
    "            augmented_videos.append(augmentation_function(videos, *args, **kwargs))\n",
    "        generator.add(augmented_videos, batch_labels)\n",
    "        print(f\"Processing video {len(generator.temp_videos)}...\", end=\"\\r\", flush=True)\n",
    "        time.sleep(0.5)  # simulate work\n",
    "    if confirm:\n",
    "        generator.confirm()"
   ]
  },
  {
   "cell_type": "markdown",
   "id": "1215d143",
   "metadata": {
    "papermill": {
     "duration": 0.011891,
     "end_time": "2025-07-11T11:57:43.574551",
     "exception": false,
     "start_time": "2025-07-11T11:57:43.562660",
     "status": "completed"
    },
    "tags": []
   },
   "source": [
    "### Show Frames"
   ]
  },
  {
   "cell_type": "code",
   "execution_count": 8,
   "id": "f12eba0a",
   "metadata": {
    "execution": {
     "iopub.execute_input": "2025-07-11T11:57:43.598973Z",
     "iopub.status.busy": "2025-07-11T11:57:43.598675Z",
     "iopub.status.idle": "2025-07-11T11:57:43.603106Z",
     "shell.execute_reply": "2025-07-11T11:57:43.602449Z"
    },
    "papermill": {
     "duration": 0.018155,
     "end_time": "2025-07-11T11:57:43.604326",
     "exception": false,
     "start_time": "2025-07-11T11:57:43.586171",
     "status": "completed"
    },
    "tags": []
   },
   "outputs": [],
   "source": [
    "# show frame def\n",
    "import matplotlib.pyplot as plt\n",
    "\n",
    "def show_frame(frame):\n",
    "    plt.figure(figsize=(3,3))\n",
    "    plt.imshow(frame)\n",
    "    plt.axis(\"off\")\n",
    "    plt.tight_layout()"
   ]
  },
  {
   "cell_type": "markdown",
   "id": "2a3d4f91",
   "metadata": {
    "papermill": {
     "duration": 0.012087,
     "end_time": "2025-07-11T11:57:43.628348",
     "exception": false,
     "start_time": "2025-07-11T11:57:43.616261",
     "status": "completed"
    },
    "tags": []
   },
   "source": [
    "### Helper Function"
   ]
  },
  {
   "cell_type": "code",
   "execution_count": 9,
   "id": "7e6702bd",
   "metadata": {
    "execution": {
     "iopub.execute_input": "2025-07-11T11:57:43.653232Z",
     "iopub.status.busy": "2025-07-11T11:57:43.652939Z",
     "iopub.status.idle": "2025-07-11T11:57:43.657934Z",
     "shell.execute_reply": "2025-07-11T11:57:43.657238Z"
    },
    "papermill": {
     "duration": 0.018932,
     "end_time": "2025-07-11T11:57:43.659067",
     "exception": false,
     "start_time": "2025-07-11T11:57:43.640135",
     "status": "completed"
    },
    "tags": []
   },
   "outputs": [],
   "source": [
    "def show_frame_vs(frame1, frame2, title1=\"Frame 1\", title2=\"Frame 2\"):\n",
    "    plt.figure(figsize=(10, 5))\n",
    "\n",
    "    # First frame\n",
    "    plt.subplot(1, 2, 1)\n",
    "    plt.imshow(frame1)\n",
    "    plt.title(title1)\n",
    "    plt.axis('off')\n",
    "\n",
    "    # Second frame\n",
    "    plt.subplot(1, 2, 2)\n",
    "    plt.imshow(frame2)\n",
    "    plt.title(title2)\n",
    "    plt.axis('off')\n",
    "\n",
    "    plt.tight_layout()\n",
    "    plt.show()"
   ]
  },
  {
   "cell_type": "code",
   "execution_count": 10,
   "id": "645327c6",
   "metadata": {
    "execution": {
     "iopub.execute_input": "2025-07-11T11:57:43.684032Z",
     "iopub.status.busy": "2025-07-11T11:57:43.683724Z",
     "iopub.status.idle": "2025-07-11T11:57:43.688138Z",
     "shell.execute_reply": "2025-07-11T11:57:43.687470Z"
    },
    "papermill": {
     "duration": 0.018274,
     "end_time": "2025-07-11T11:57:43.689402",
     "exception": false,
     "start_time": "2025-07-11T11:57:43.671128",
     "status": "completed"
    },
    "tags": []
   },
   "outputs": [],
   "source": [
    "# reusable video loop helper function\n",
    "def apply_function(function, videos, *arg, **kwargs):\n",
    "    new_videos=[]\n",
    "    \n",
    "    for video in videos:\n",
    "        new_videos.append(function(video, *arg, **kwargs))\n",
    "        \n",
    "    return new_videos"
   ]
  },
  {
   "cell_type": "code",
   "execution_count": 11,
   "id": "5da17c1a",
   "metadata": {
    "execution": {
     "iopub.execute_input": "2025-07-11T11:57:43.715226Z",
     "iopub.status.busy": "2025-07-11T11:57:43.714935Z",
     "iopub.status.idle": "2025-07-11T11:57:43.719838Z",
     "shell.execute_reply": "2025-07-11T11:57:43.719136Z"
    },
    "papermill": {
     "duration": 0.01927,
     "end_time": "2025-07-11T11:57:43.720985",
     "exception": false,
     "start_time": "2025-07-11T11:57:43.701715",
     "status": "completed"
    },
    "tags": []
   },
   "outputs": [],
   "source": [
    "# reusable video loop helper function\n",
    "def apply(function, videos, labels, *arg, **kwargs):\n",
    "    new_videos=[]\n",
    "    new_labels=[]\n",
    "    combined=zip(labels, videos)\n",
    "    \n",
    "    for label, video in combined:\n",
    "        new_videos.append(function(video, *arg, **kwargs))\n",
    "        new_labels.append(label)\n",
    "        \n",
    "    new_videos=np.asarray(new_videos)\n",
    "    new_labels=np.asarray(new_labels)\n",
    "    \n",
    "    return new_videos, new_labels"
   ]
  },
  {
   "cell_type": "markdown",
   "id": "07a4898e",
   "metadata": {
    "papermill": {
     "duration": 0.011725,
     "end_time": "2025-07-11T11:57:43.744836",
     "exception": false,
     "start_time": "2025-07-11T11:57:43.733111",
     "status": "completed"
    },
    "tags": []
   },
   "source": [
    "## Salt and Pepper Noise "
   ]
  },
  {
   "cell_type": "code",
   "execution_count": 12,
   "id": "7dbf22eb",
   "metadata": {
    "execution": {
     "iopub.execute_input": "2025-07-11T11:57:43.769927Z",
     "iopub.status.busy": "2025-07-11T11:57:43.769655Z",
     "iopub.status.idle": "2025-07-11T11:57:43.774732Z",
     "shell.execute_reply": "2025-07-11T11:57:43.773926Z"
    },
    "papermill": {
     "duration": 0.01902,
     "end_time": "2025-07-11T11:57:43.775935",
     "exception": false,
     "start_time": "2025-07-11T11:57:43.756915",
     "status": "completed"
    },
    "tags": []
   },
   "outputs": [],
   "source": [
    "# Noise function def\n",
    "\n",
    "def noise_video(video,noise_factor=NOISE_FACTOR):\n",
    "    noisy_video=[]\n",
    "    for frame in video:\n",
    "        # Generate random noise\n",
    "        noise = np.random.rand(*frame.shape)  # Generate random noise\n",
    "        salt_pepper_noise = np.random.choice([0, 1], size=frame.shape, p=[1-noise_factor, noise_factor])\n",
    "        noisy_frame = frame * (1 - salt_pepper_noise) + salt_pepper_noise * np.random.rand(*frame.shape)\n",
    "        noisy_video.append(noisy_frame)\n",
    "    return np.array(noisy_video)"
   ]
  },
  {
   "cell_type": "markdown",
   "id": "c812066c",
   "metadata": {
    "papermill": {
     "duration": 0.01166,
     "end_time": "2025-07-11T11:57:43.798929",
     "exception": false,
     "start_time": "2025-07-11T11:57:43.787269",
     "status": "completed"
    },
    "tags": []
   },
   "source": [
    "## Horizontal Flip"
   ]
  },
  {
   "cell_type": "code",
   "execution_count": 13,
   "id": "8f368b49",
   "metadata": {
    "execution": {
     "iopub.execute_input": "2025-07-11T11:57:43.821648Z",
     "iopub.status.busy": "2025-07-11T11:57:43.821379Z",
     "iopub.status.idle": "2025-07-11T11:57:43.825081Z",
     "shell.execute_reply": "2025-07-11T11:57:43.824554Z"
    },
    "papermill": {
     "duration": 0.016375,
     "end_time": "2025-07-11T11:57:43.826074",
     "exception": false,
     "start_time": "2025-07-11T11:57:43.809699",
     "status": "completed"
    },
    "tags": []
   },
   "outputs": [],
   "source": [
    "# horizontal flip function def\n",
    "# Testing Flip feautes[0] -> first video\n",
    "def horizontal_flip(video):\n",
    "    return [tf.image.flip_left_right(frame) for frame in video]"
   ]
  },
  {
   "cell_type": "markdown",
   "id": "87866d34",
   "metadata": {
    "papermill": {
     "duration": 0.010594,
     "end_time": "2025-07-11T11:57:43.847455",
     "exception": false,
     "start_time": "2025-07-11T11:57:43.836861",
     "status": "completed"
    },
    "tags": []
   },
   "source": [
    "## Random Shear"
   ]
  },
  {
   "cell_type": "code",
   "execution_count": 14,
   "id": "335529a7",
   "metadata": {
    "execution": {
     "iopub.execute_input": "2025-07-11T11:57:43.869348Z",
     "iopub.status.busy": "2025-07-11T11:57:43.869101Z",
     "iopub.status.idle": "2025-07-11T11:57:43.875128Z",
     "shell.execute_reply": "2025-07-11T11:57:43.874598Z"
    },
    "papermill": {
     "duration": 0.018291,
     "end_time": "2025-07-11T11:57:43.876225",
     "exception": false,
     "start_time": "2025-07-11T11:57:43.857934",
     "status": "completed"
    },
    "tags": []
   },
   "outputs": [],
   "source": [
    "# random shear function def\n",
    "import numpy as np\n",
    "import tensorflow as tf\n",
    "from scipy.ndimage import affine_transform\n",
    "\n",
    "def apply_shear_frames(frames, shear_right):\n",
    "    return [apply_shear(frame, shear_right) for frame in frames]\n",
    "\n",
    "def apply_shear(frame, shear_right=0):\n",
    "    frame_resized = tf.image.resize(frame, (IMAGE_HEIGHT, IMAGE_WIDTH)).numpy()\n",
    "    if shear_right:\n",
    "        shear_x = 0.09\n",
    "        shear_y = 0.1\n",
    "    else:\n",
    "        shear_x = -0.09\n",
    "        shear_y = 0.3\n",
    "    # Construct the affine matrix for scipy: inverse of the transformation matrix\n",
    "    # scipy applies the inverse transform matrix\n",
    "    shear_matrix = np.array([\n",
    "        [1, shear_x, 0],\n",
    "        [shear_y, 1, 0],\n",
    "        [0, 0, 1]\n",
    "    ], dtype=np.float32)\n",
    "\n",
    "    # Extract 2x2 part for affine_transform\n",
    "    matrix = shear_matrix[:2, :2]\n",
    "\n",
    "    # Offset (no translation)\n",
    "    offset = [0, 0]\n",
    "\n",
    "    # Apply affine transform on each channel separately\n",
    "    sheared = np.zeros_like(frame_resized)\n",
    "    for c in range(3):\n",
    "        sheared[..., c] = affine_transform(\n",
    "            frame_resized[..., c],\n",
    "            matrix=matrix,\n",
    "            offset=offset,\n",
    "            order=1,          # bilinear interpolation\n",
    "            mode='nearest'    # fill_mode\n",
    "        )\n",
    "    return sheared"
   ]
  },
  {
   "cell_type": "markdown",
   "id": "d7ec5748",
   "metadata": {
    "papermill": {
     "duration": 0.010269,
     "end_time": "2025-07-11T11:57:43.897321",
     "exception": false,
     "start_time": "2025-07-11T11:57:43.887052",
     "status": "completed"
    },
    "tags": []
   },
   "source": [
    "# 📌 Model Related\n",
    "## 🗼 Model Architecture `create_model`"
   ]
  },
  {
   "cell_type": "code",
   "execution_count": 15,
   "id": "cfd8c80c",
   "metadata": {
    "execution": {
     "iopub.execute_input": "2025-07-11T11:57:43.920388Z",
     "iopub.status.busy": "2025-07-11T11:57:43.920167Z",
     "iopub.status.idle": "2025-07-11T11:57:43.938317Z",
     "shell.execute_reply": "2025-07-11T11:57:43.937804Z"
    },
    "papermill": {
     "duration": 0.030455,
     "end_time": "2025-07-11T11:57:43.939407",
     "exception": false,
     "start_time": "2025-07-11T11:57:43.908952",
     "status": "completed"
    },
    "tags": []
   },
   "outputs": [],
   "source": [
    "from tensorflow.keras.applications import Xception\n",
    "from tensorflow.keras.models import Sequential\n",
    "from tensorflow.keras.layers import GlobalAveragePooling2D, TimeDistributed, LSTM, Dropout, Dense\n",
    "from tensorflow.keras.regularizers import l2\n",
    "from tensorflow.keras.layers import BatchNormalization\n",
    "\n",
    "def create_xception_lstm_model(sequence_length, image_height, image_width, classes_list=None, dropout_rate=0.5):\n",
    "    if classes_list is None:\n",
    "        raise ValueError(\"classes_list must be provided to define the output layer size\")\n",
    "\n",
    "    try:\n",
    "        # Load Xception model with pre-trained ImageNet weights\n",
    "        print(\"Loading Xception base model...\")\n",
    "        xception = Xception(\n",
    "            weights='imagenet',\n",
    "            include_top=False,\n",
    "            input_shape=(image_height, image_width, 3),\n",
    "            name=\"Xception\"\n",
    "        )\n",
    "        # Freeze Xception layers\n",
    "        for layer in xception.layers[:-10]:  # Unfreeze last 10 layers\n",
    "            layer.trainable = False\n",
    "        for layer in xception.layers[-10:]:\n",
    "            layer.trainable = True\n",
    "\n",
    "        # Define the Sequential model\n",
    "        model = Sequential([\n",
    "            # InputLayer and TimeDistributed Xception\n",
    "            TimeDistributed(\n",
    "                xception,\n",
    "                input_shape=(sequence_length, image_height, image_width, 3),\n",
    "                name=\"time_distributed\"\n",
    "            ),\n",
    "            # TimeDistributed GlobalAveragePooling2D\n",
    "            TimeDistributed(GlobalAveragePooling2D(), name=\"time_distributed_1\"),\n",
    "            # LSTM layer with 128 units\n",
    "            LSTM(128, activation=\"tanh\", return_sequences=False, kernel_regularizer=l2(0.01), name=\"lstm\"),\n",
    "            \n",
    "            BatchNormalization(name=\"batch_normalization\"),\n",
    "            # Dropout after LSTM\n",
    "            Dropout(dropout_rate, name=\"dropout_lstm\"),\n",
    "            # Dense layer with 512 units\n",
    "            Dense(512, activation=\"relu\", kernel_regularizer=l2(0.01), name=\"dense\"),\n",
    "            # Dropout after Dense\n",
    "            Dropout(dropout_rate + 0.1, name=\"dropout_dense\"),\n",
    "            # Output Dense layer with softmax activation\n",
    "            Dense(len(classes_list), activation=\"softmax\", name=\"dense_1\")\n",
    "        ])\n",
    "        \n",
    "        # Print model summary\n",
    "        print(\"Model architecture created successfully!\")\n",
    "        model.summary()\n",
    "\n",
    "        return model\n",
    "\n",
    "    except Exception as e:\n",
    "        print(f\"Error creating model: {e}\")\n",
    "        return None"
   ]
  },
  {
   "cell_type": "code",
   "execution_count": 16,
   "id": "3bbef801",
   "metadata": {
    "execution": {
     "iopub.execute_input": "2025-07-11T11:57:43.960877Z",
     "iopub.status.busy": "2025-07-11T11:57:43.960671Z",
     "iopub.status.idle": "2025-07-11T11:57:49.311433Z",
     "shell.execute_reply": "2025-07-11T11:57:49.310705Z"
    },
    "papermill": {
     "duration": 5.362921,
     "end_time": "2025-07-11T11:57:49.312776",
     "exception": false,
     "start_time": "2025-07-11T11:57:43.949855",
     "status": "completed"
    },
    "tags": []
   },
   "outputs": [
    {
     "name": "stdout",
     "output_type": "stream",
     "text": [
      "Pre-loading Xception weights...\n"
     ]
    },
    {
     "name": "stderr",
     "output_type": "stream",
     "text": [
      "I0000 00:00:1752235065.923419      19 gpu_device.cc:2022] Created device /job:localhost/replica:0/task:0/device:GPU:0 with 13942 MB memory:  -> device: 0, name: Tesla T4, pci bus id: 0000:00:04.0, compute capability: 7.5\n",
      "I0000 00:00:1752235065.924343      19 gpu_device.cc:2022] Created device /job:localhost/replica:0/task:0/device:GPU:1 with 13942 MB memory:  -> device: 1, name: Tesla T4, pci bus id: 0000:00:05.0, compute capability: 7.5\n"
     ]
    },
    {
     "name": "stdout",
     "output_type": "stream",
     "text": [
      "Downloading data from https://storage.googleapis.com/tensorflow/keras-applications/xception/xception_weights_tf_dim_ordering_tf_kernels_notop.h5\n",
      "\u001b[1m83683744/83683744\u001b[0m \u001b[32m━━━━━━━━━━━━━━━━━━━━\u001b[0m\u001b[37m\u001b[0m \u001b[1m0s\u001b[0m 0us/step\n",
      "Weights loaded successfully!\n"
     ]
    }
   ],
   "source": [
    "# donwload model weights\n",
    "from tensorflow.keras.applications import Xception\n",
    "print(\"Pre-loading Xception weights...\")\n",
    "base_model = Xception(weights='imagenet', include_top=False, input_shape=(IMAGE_HEIGHT, IMAGE_WIDTH, 3))\n",
    "print(\"Weights loaded successfully!\")"
   ]
  },
  {
   "cell_type": "markdown",
   "id": "10e8adfb",
   "metadata": {
    "papermill": {
     "duration": 0.011933,
     "end_time": "2025-07-11T11:57:49.337360",
     "exception": false,
     "start_time": "2025-07-11T11:57:49.325427",
     "status": "completed"
    },
    "tags": []
   },
   "source": [
    "# 📌 Execution\n",
    "## Creating Dataset\n",
    "The following functions are executed\n",
    "- `frame extraction`\n",
    "- `resize`\n",
    "\n",
    "which returns:\n",
    "- `features` - `np.array` of all the videos\n",
    "- `labels` - `np.array` of all the class labels"
   ]
  },
  {
   "cell_type": "code",
   "execution_count": 17,
   "id": "a7de6841",
   "metadata": {
    "execution": {
     "iopub.execute_input": "2025-07-11T11:57:49.363723Z",
     "iopub.status.busy": "2025-07-11T11:57:49.363371Z",
     "iopub.status.idle": "2025-07-11T12:03:32.524229Z",
     "shell.execute_reply": "2025-07-11T12:03:32.523414Z"
    },
    "papermill": {
     "duration": 343.175639,
     "end_time": "2025-07-11T12:03:32.525510",
     "exception": false,
     "start_time": "2025-07-11T11:57:49.349871",
     "status": "completed"
    },
    "tags": []
   },
   "outputs": [
    {
     "name": "stdout",
     "output_type": "stream",
     "text": [
      "Extracting Data of Class: Catch Cap\n",
      "Extracted 5 frames from file 20: a04_s05_e03.mp4\n",
      "Extracting Data of Class: Drink\n",
      "Extracted 5 frames from file 20: a16_s05_e03.mp4\n",
      "Extracting Data of Class: Sit down\n",
      "Extracted 5 frames from file 20: a17_s06_e02.mp4\n",
      "Extracting Data of Class: Draw Tick\n",
      "Extracted 5 frames from file 20: a07_s06_e02.mp4\n",
      "Extracting Data of Class: Phone Call\n",
      "Extracted 5 frames from file 20: a15_s06_e03.mp4\n",
      "Extracting Data of Class: Horizontal arm wave\n",
      "Extracted 5 frames from file 20: a01_s01_e03.mp4\n",
      "Extracting Data of Class: Hand Clap\n",
      "Extracted 5 frames from file 20: a13_s08_e01.mp4\n",
      "Extracting Data of Class: High throw\n",
      "Extracted 5 frames from file 20: a05_s07_e02.mp4\n",
      "Extracting Data of Class: Forward Kick\n",
      "Extracted 5 frames from file 20: a09_s01_e03.mp4\n",
      "Extracting Data of Class: Stand up\n",
      "Extracted 5 frames from file 20: a18_s05_e02.mp4\n",
      "Extracting Data of Class: Two hand wave\n",
      "Extracted 5 frames from file 20: a03_s08_e02.mp4\n",
      "Extracting Data of Class: Toss Paper\n",
      "Extracted 5 frames from file 20: a08_s07_e03.mp4\n",
      "Extracting Data of Class: Walk\n",
      "Extracted 5 frames from file 20: a14_s01_e03.mp4\n",
      "Extracting Data of Class: Side Kick\n",
      "Extracted 5 frames from file 20: a10_s02_e02.mp4\n",
      "Extracting Data of Class: Bend\n",
      "Extracted 5 frames from file 20: a12_s09_e03.mp4\n",
      "Extracting Data of Class: Take Umbrella\n",
      "Extracted 5 frames from file 20: a11_s05_e01.mp4\n",
      "Extracting Data of Class: High arm wave\n",
      "Extracted 5 frames from file 20: a02_s10_e01.mp4\n",
      "Extracting Data of Class: Draw X\n",
      "Extracted 5 frames from file 20: a06_s06_e01.mp4\n",
      "Dataset created with 360 videos\n",
      "Features shape: (360, 5, 128, 128, 3)\n",
      "Labels shape: (360,)\n"
     ]
    },
    {
     "data": {
      "text/plain": [
       "((360, 5, 128, 128, 3), (360,))"
      ]
     },
     "execution_count": 17,
     "metadata": {},
     "output_type": "execute_result"
    }
   ],
   "source": [
    "# RUN Create the dataset with explicit parameters\n",
    "try:\n",
    "    videos, labels = create_dataset(\n",
    "        dataset_dir=DATASET_DIR,\n",
    "        classes_list=CLASSES_LIST,\n",
    "        sequence_length=SEQUENCE_LENGTH,\n",
    "        image_height=IMAGE_HEIGHT,\n",
    "        image_width=IMAGE_WIDTH,\n",
    "        # Limit to 10 videos per class to manage memory\n",
    "        augmentations=True,\n",
    "        max_videos_per_class=MAX_VIDEO_PER_CLASS\n",
    "    )\n",
    "except FileNotFoundError as e:\n",
    "    print(f\"Error: {e}\")\n",
    "except ValueError as e:\n",
    "    print(f\"Error: {e}\")\n",
    "except Exception as e:\n",
    "    print(f\"Unexpected error: {e}\")\n",
    "\n",
    "videos.shape, labels.shape"
   ]
  },
  {
   "cell_type": "code",
   "execution_count": 18,
   "id": "3e19c84f",
   "metadata": {
    "execution": {
     "iopub.execute_input": "2025-07-11T12:03:32.712170Z",
     "iopub.status.busy": "2025-07-11T12:03:32.711894Z",
     "iopub.status.idle": "2025-07-11T12:03:32.716337Z",
     "shell.execute_reply": "2025-07-11T12:03:32.715421Z"
    },
    "papermill": {
     "duration": 0.096288,
     "end_time": "2025-07-11T12:03:32.717583",
     "exception": false,
     "start_time": "2025-07-11T12:03:32.621295",
     "status": "completed"
    },
    "tags": []
   },
   "outputs": [
    {
     "name": "stdout",
     "output_type": "stream",
     "text": [
      "Total 360 videos and 360 classes\n"
     ]
    }
   ],
   "source": [
    "video_generator = VideoDataGenerator(\n",
    "    videos=videos,\n",
    "    labels=labels,\n",
    "    batch_size=BATCH_SIZE\n",
    ")"
   ]
  },
  {
   "cell_type": "code",
   "execution_count": 19,
   "id": "c03910e1",
   "metadata": {
    "execution": {
     "iopub.execute_input": "2025-07-11T12:03:32.884850Z",
     "iopub.status.busy": "2025-07-11T12:03:32.884105Z",
     "iopub.status.idle": "2025-07-11T12:03:32.894379Z",
     "shell.execute_reply": "2025-07-11T12:03:32.893792Z"
    },
    "papermill": {
     "duration": 0.094554,
     "end_time": "2025-07-11T12:03:32.895514",
     "exception": false,
     "start_time": "2025-07-11T12:03:32.800960",
     "status": "completed"
    },
    "tags": []
   },
   "outputs": [
    {
     "data": {
      "text/plain": [
       "((24, 5, 128, 128, 3), (24,))"
      ]
     },
     "execution_count": 19,
     "metadata": {},
     "output_type": "execute_result"
    }
   ],
   "source": [
    "videos, labels = video_generator[3]\n",
    "\n",
    "videos.shape, labels.shape"
   ]
  },
  {
   "cell_type": "code",
   "execution_count": 20,
   "id": "e6a0605b",
   "metadata": {
    "execution": {
     "iopub.execute_input": "2025-07-11T12:03:33.068813Z",
     "iopub.status.busy": "2025-07-11T12:03:33.068158Z",
     "iopub.status.idle": "2025-07-11T12:03:33.073090Z",
     "shell.execute_reply": "2025-07-11T12:03:33.072311Z"
    },
    "papermill": {
     "duration": 0.096729,
     "end_time": "2025-07-11T12:03:33.074408",
     "exception": false,
     "start_time": "2025-07-11T12:03:32.977679",
     "status": "completed"
    },
    "tags": []
   },
   "outputs": [
    {
     "data": {
      "text/plain": [
       "360"
      ]
     },
     "execution_count": 20,
     "metadata": {},
     "output_type": "execute_result"
    }
   ],
   "source": [
    "len(video_generator.videos) "
   ]
  },
  {
   "cell_type": "code",
   "execution_count": 21,
   "id": "45025bb2",
   "metadata": {
    "execution": {
     "iopub.execute_input": "2025-07-11T12:03:33.246821Z",
     "iopub.status.busy": "2025-07-11T12:03:33.246445Z",
     "iopub.status.idle": "2025-07-11T12:03:33.250886Z",
     "shell.execute_reply": "2025-07-11T12:03:33.250283Z"
    },
    "papermill": {
     "duration": 0.090318,
     "end_time": "2025-07-11T12:03:33.251994",
     "exception": false,
     "start_time": "2025-07-11T12:03:33.161676",
     "status": "completed"
    },
    "tags": []
   },
   "outputs": [
    {
     "data": {
      "text/plain": [
       "15"
      ]
     },
     "execution_count": 21,
     "metadata": {},
     "output_type": "execute_result"
    }
   ],
   "source": [
    "len(video_generator)"
   ]
  },
  {
   "cell_type": "markdown",
   "id": "764e7825",
   "metadata": {
    "papermill": {
     "duration": 0.085997,
     "end_time": "2025-07-11T12:03:33.425778",
     "exception": false,
     "start_time": "2025-07-11T12:03:33.339781",
     "status": "completed"
    },
    "tags": []
   },
   "source": [
    "## Apply ***horizontal flip*** (Augmentation)"
   ]
  },
  {
   "cell_type": "code",
   "execution_count": 22,
   "id": "91677af0",
   "metadata": {
    "execution": {
     "iopub.execute_input": "2025-07-11T12:03:33.606571Z",
     "iopub.status.busy": "2025-07-11T12:03:33.606256Z",
     "iopub.status.idle": "2025-07-11T12:03:42.271890Z",
     "shell.execute_reply": "2025-07-11T12:03:42.271243Z"
    },
    "papermill": {
     "duration": 8.754714,
     "end_time": "2025-07-11T12:03:42.273204",
     "exception": false,
     "start_time": "2025-07-11T12:03:33.518490",
     "status": "completed"
    },
    "tags": []
   },
   "outputs": [
    {
     "name": "stdout",
     "output_type": "stream",
     "text": [
      "Processing video 360...\r"
     ]
    }
   ],
   "source": [
    "apply_augmentation(horizontal_flip, video_generator)"
   ]
  },
  {
   "cell_type": "code",
   "execution_count": 23,
   "id": "d1d77761",
   "metadata": {
    "execution": {
     "iopub.execute_input": "2025-07-11T12:03:42.509137Z",
     "iopub.status.busy": "2025-07-11T12:03:42.508137Z",
     "iopub.status.idle": "2025-07-11T12:03:42.512862Z",
     "shell.execute_reply": "2025-07-11T12:03:42.512196Z"
    },
    "papermill": {
     "duration": 0.15469,
     "end_time": "2025-07-11T12:03:42.514076",
     "exception": false,
     "start_time": "2025-07-11T12:03:42.359386",
     "status": "completed"
    },
    "tags": []
   },
   "outputs": [
    {
     "name": "stdout",
     "output_type": "stream",
     "text": [
      "Checking Total Videos and Class Count: 360, 360\n",
      "PENDING Total Videos and Class Count: 360, 360\n"
     ]
    }
   ],
   "source": [
    "print(f\"Checking Total Videos and Class Count: {len(video_generator.videos)}, {len(video_generator.labels)}\")\n",
    "print(f\"PENDING Total Videos and Class Count: {len(video_generator.temp_videos)}, {len(video_generator.temp_labels)}\")"
   ]
  },
  {
   "cell_type": "code",
   "execution_count": 24,
   "id": "9612c95c",
   "metadata": {
    "execution": {
     "iopub.execute_input": "2025-07-11T12:03:42.688347Z",
     "iopub.status.busy": "2025-07-11T12:03:42.688056Z",
     "iopub.status.idle": "2025-07-11T12:03:42.692738Z",
     "shell.execute_reply": "2025-07-11T12:03:42.691865Z"
    },
    "papermill": {
     "duration": 0.092187,
     "end_time": "2025-07-11T12:03:42.694094",
     "exception": false,
     "start_time": "2025-07-11T12:03:42.601907",
     "status": "completed"
    },
    "tags": []
   },
   "outputs": [
    {
     "name": "stdout",
     "output_type": "stream",
     "text": [
      "Adding 360 videos with 360 classes.\n",
      "Successfully added - 360 videos and 360 classes.\n",
      "Now Total - 720 videos and 720 classes.\n",
      "PENDING for Augmentations - 0 videos and 0 classes.\n"
     ]
    }
   ],
   "source": [
    "video_generator.confirm()"
   ]
  },
  {
   "cell_type": "markdown",
   "id": "a344411d",
   "metadata": {
    "papermill": {
     "duration": 0.084752,
     "end_time": "2025-07-11T12:03:42.864649",
     "exception": false,
     "start_time": "2025-07-11T12:03:42.779897",
     "status": "completed"
    },
    "tags": []
   },
   "source": [
    "## Apply ***Noise*** (Augmentation)"
   ]
  },
  {
   "cell_type": "code",
   "execution_count": 25,
   "id": "17db1a8a",
   "metadata": {
    "execution": {
     "iopub.execute_input": "2025-07-11T12:03:43.053388Z",
     "iopub.status.busy": "2025-07-11T12:03:43.053087Z",
     "iopub.status.idle": "2025-07-11T12:04:07.520672Z",
     "shell.execute_reply": "2025-07-11T12:04:07.520084Z"
    },
    "papermill": {
     "duration": 24.565398,
     "end_time": "2025-07-11T12:04:07.522025",
     "exception": false,
     "start_time": "2025-07-11T12:03:42.956627",
     "status": "completed"
    },
    "tags": []
   },
   "outputs": [
    {
     "name": "stdout",
     "output_type": "stream",
     "text": [
      "Processing video 720...\r"
     ]
    }
   ],
   "source": [
    "apply_augmentation(noise_video, video_generator)"
   ]
  },
  {
   "cell_type": "code",
   "execution_count": 26,
   "id": "4a0ac9ab",
   "metadata": {
    "execution": {
     "iopub.execute_input": "2025-07-11T12:04:07.714634Z",
     "iopub.status.busy": "2025-07-11T12:04:07.713990Z",
     "iopub.status.idle": "2025-07-11T12:04:07.718998Z",
     "shell.execute_reply": "2025-07-11T12:04:07.718298Z"
    },
    "papermill": {
     "duration": 0.104317,
     "end_time": "2025-07-11T12:04:07.720188",
     "exception": false,
     "start_time": "2025-07-11T12:04:07.615871",
     "status": "completed"
    },
    "tags": []
   },
   "outputs": [
    {
     "name": "stdout",
     "output_type": "stream",
     "text": [
      "Checking Total Videos and Class Count: 720, 720\n",
      "PENDING Total Videos and Class Count: 720, 720\n"
     ]
    }
   ],
   "source": [
    "print(f\"Checking Total Videos and Class Count: {len(video_generator.videos)}, {len(video_generator.labels)}\")\n",
    "print(f\"PENDING Total Videos and Class Count: {len(video_generator.temp_videos)}, {len(video_generator.temp_labels)}\")"
   ]
  },
  {
   "cell_type": "markdown",
   "id": "f037ce94",
   "metadata": {
    "papermill": {
     "duration": 0.097876,
     "end_time": "2025-07-11T12:04:07.914228",
     "exception": false,
     "start_time": "2025-07-11T12:04:07.816352",
     "status": "completed"
    },
    "tags": []
   },
   "source": [
    "## Apply ***Random Shear x2*** (Augmentation)"
   ]
  },
  {
   "cell_type": "code",
   "execution_count": 27,
   "id": "48964030",
   "metadata": {
    "execution": {
     "iopub.execute_input": "2025-07-11T12:04:08.092424Z",
     "iopub.status.busy": "2025-07-11T12:04:08.092162Z",
     "iopub.status.idle": "2025-07-11T12:05:07.188848Z",
     "shell.execute_reply": "2025-07-11T12:05:07.188231Z"
    },
    "papermill": {
     "duration": 59.184941,
     "end_time": "2025-07-11T12:05:07.189993",
     "exception": false,
     "start_time": "2025-07-11T12:04:08.005052",
     "status": "completed"
    },
    "tags": []
   },
   "outputs": [
    {
     "name": "stdout",
     "output_type": "stream",
     "text": [
      "Processing video 2160...\r"
     ]
    }
   ],
   "source": [
    "apply_augmentation(apply_shear_frames, video_generator, shear_right=0)\n",
    "apply_augmentation(apply_shear_frames, video_generator, shear_right=1)"
   ]
  },
  {
   "cell_type": "code",
   "execution_count": 28,
   "id": "5a346127",
   "metadata": {
    "execution": {
     "iopub.execute_input": "2025-07-11T12:05:07.415763Z",
     "iopub.status.busy": "2025-07-11T12:05:07.415433Z",
     "iopub.status.idle": "2025-07-11T12:05:07.419704Z",
     "shell.execute_reply": "2025-07-11T12:05:07.418933Z"
    },
    "papermill": {
     "duration": 0.14333,
     "end_time": "2025-07-11T12:05:07.420670",
     "exception": false,
     "start_time": "2025-07-11T12:05:07.277340",
     "status": "completed"
    },
    "tags": []
   },
   "outputs": [
    {
     "name": "stdout",
     "output_type": "stream",
     "text": [
      "Checking Total Videos and Class Count: 720, 720\n",
      "PENDING Total Videos and Class Count: 2160, 2160\n"
     ]
    }
   ],
   "source": [
    "print(f\"Checking Total Videos and Class Count: {len(video_generator.videos)}, {len(video_generator.labels)}\")\n",
    "print(f\"PENDING Total Videos and Class Count: {len(video_generator.temp_videos)}, {len(video_generator.temp_labels)}\")"
   ]
  },
  {
   "cell_type": "code",
   "execution_count": 29,
   "id": "c21bba64",
   "metadata": {
    "execution": {
     "iopub.execute_input": "2025-07-11T12:05:07.589961Z",
     "iopub.status.busy": "2025-07-11T12:05:07.589735Z",
     "iopub.status.idle": "2025-07-11T12:05:07.593426Z",
     "shell.execute_reply": "2025-07-11T12:05:07.592829Z"
    },
    "papermill": {
     "duration": 0.088913,
     "end_time": "2025-07-11T12:05:07.594479",
     "exception": false,
     "start_time": "2025-07-11T12:05:07.505566",
     "status": "completed"
    },
    "tags": []
   },
   "outputs": [
    {
     "name": "stdout",
     "output_type": "stream",
     "text": [
      "Adding 2160 videos with 2160 classes.\n",
      "Successfully added - 2160 videos and 2160 classes.\n",
      "Now Total - 2880 videos and 2880 classes.\n",
      "PENDING for Augmentations - 0 videos and 0 classes.\n"
     ]
    }
   ],
   "source": [
    "# confirm changes to generator\n",
    "video_generator.confirm()"
   ]
  },
  {
   "cell_type": "code",
   "execution_count": 30,
   "id": "cfd92b90",
   "metadata": {
    "execution": {
     "iopub.execute_input": "2025-07-11T12:05:07.766425Z",
     "iopub.status.busy": "2025-07-11T12:05:07.766152Z",
     "iopub.status.idle": "2025-07-11T12:05:07.770212Z",
     "shell.execute_reply": "2025-07-11T12:05:07.769558Z"
    },
    "papermill": {
     "duration": 0.092186,
     "end_time": "2025-07-11T12:05:07.771408",
     "exception": false,
     "start_time": "2025-07-11T12:05:07.679222",
     "status": "completed"
    },
    "tags": []
   },
   "outputs": [
    {
     "name": "stdout",
     "output_type": "stream",
     "text": [
      "Checking Video Generator Total Videos and Class Count: 2880, 2880\n"
     ]
    }
   ],
   "source": [
    "print(f\"Checking Video Generator Total Videos and Class Count: {len(video_generator.videos)}, {len(video_generator.labels)}\")"
   ]
  },
  {
   "cell_type": "markdown",
   "id": "8dcdeb43",
   "metadata": {
    "papermill": {
     "duration": 0.084596,
     "end_time": "2025-07-11T12:05:07.945563",
     "exception": false,
     "start_time": "2025-07-11T12:05:07.860967",
     "status": "completed"
    },
    "tags": []
   },
   "source": [
    "## Cheking (Output)"
   ]
  },
  {
   "cell_type": "code",
   "execution_count": 31,
   "id": "13cce7c3",
   "metadata": {
    "execution": {
     "iopub.execute_input": "2025-07-11T12:05:08.116023Z",
     "iopub.status.busy": "2025-07-11T12:05:08.115757Z",
     "iopub.status.idle": "2025-07-11T12:05:08.457026Z",
     "shell.execute_reply": "2025-07-11T12:05:08.456330Z"
    },
    "papermill": {
     "duration": 0.429693,
     "end_time": "2025-07-11T12:05:08.459644",
     "exception": false,
     "start_time": "2025-07-11T12:05:08.029951",
     "status": "completed"
    },
    "tags": []
   },
   "outputs": [
    {
     "name": "stdout",
     "output_type": "stream",
     "text": [
      "(24, 5, 128, 128, 3) (24,)\n"
     ]
    },
    {
     "data": {
      "image/png": "[encoded data removed]",
      "text/plain": [
       "<Figure size 1000x500 with 2 Axes>"
      ]
     },
     "metadata": {},
     "output_type": "display_data"
    },
    {
     "name": "stdout",
     "output_type": "stream",
     "text": [
      "Might be two different action, but to check the flipping focus on the door behind.\n"
     ]
    }
   ],
   "source": [
    "# check horizontal flips\n",
    "videos, labels = video_generator[7]\n",
    "videos1, labels1 = video_generator[1]\n",
    "\n",
    "print(videos.shape, labels.shape)\n",
    "\n",
    "show_frame_vs(videos[0,0],videos1[1,0], title1=\"Flipped Frame 1\", title2=\"Non Flipped Frame 1\")\n",
    "print(\"Might be two different action, but to check the flipping focus on the door behind.\")"
   ]
  },
  {
   "cell_type": "markdown",
   "id": "99d019ef",
   "metadata": {
    "papermill": {
     "duration": 0.085453,
     "end_time": "2025-07-11T12:05:08.634318",
     "exception": false,
     "start_time": "2025-07-11T12:05:08.548865",
     "status": "completed"
    },
    "tags": []
   },
   "source": [
    "# 🧪 Test Augmentation (Output)\n",
    "## 🖼️ Horizontal Flip Output"
   ]
  },
  {
   "cell_type": "code",
   "execution_count": 32,
   "id": "99cee0f5",
   "metadata": {
    "execution": {
     "iopub.execute_input": "2025-07-11T12:05:08.815931Z",
     "iopub.status.busy": "2025-07-11T12:05:08.815631Z",
     "iopub.status.idle": "2025-07-11T12:05:08.818779Z",
     "shell.execute_reply": "2025-07-11T12:05:08.818256Z"
    },
    "papermill": {
     "duration": 0.097102,
     "end_time": "2025-07-11T12:05:08.819814",
     "exception": false,
     "start_time": "2025-07-11T12:05:08.722712",
     "status": "completed"
    },
    "tags": []
   },
   "outputs": [],
   "source": [
    "# flipped_video_1 = horizontal_flip(features[0])\n",
    "\n",
    "# flipped_video_1=np.asarray(flipped_video_1)\n",
    "\n",
    "# show_frame(flipped_video_1[0])\n",
    "# flipped_video_1.shape"
   ]
  },
  {
   "cell_type": "markdown",
   "id": "0c3ec7c4",
   "metadata": {
    "papermill": {
     "duration": 0.114603,
     "end_time": "2025-07-11T12:05:09.022941",
     "exception": false,
     "start_time": "2025-07-11T12:05:08.908338",
     "status": "completed"
    },
    "tags": []
   },
   "source": [
    "## 🖼️ Salt and Pepper Noise Output"
   ]
  },
  {
   "cell_type": "code",
   "execution_count": 33,
   "id": "f4a3a156",
   "metadata": {
    "execution": {
     "iopub.execute_input": "2025-07-11T12:05:09.203384Z",
     "iopub.status.busy": "2025-07-11T12:05:09.203119Z",
     "iopub.status.idle": "2025-07-11T12:05:09.206332Z",
     "shell.execute_reply": "2025-07-11T12:05:09.205814Z"
    },
    "papermill": {
     "duration": 0.094541,
     "end_time": "2025-07-11T12:05:09.207420",
     "exception": false,
     "start_time": "2025-07-11T12:05:09.112879",
     "status": "completed"
    },
    "tags": []
   },
   "outputs": [],
   "source": [
    "# noised_video = noise_video(features[0])\n",
    "\n",
    "# print(noised_video.shape)\n",
    "# show_frame(noised_video[0])"
   ]
  },
  {
   "cell_type": "markdown",
   "id": "f887240a",
   "metadata": {
    "papermill": {
     "duration": 0.092256,
     "end_time": "2025-07-11T12:05:09.388285",
     "exception": false,
     "start_time": "2025-07-11T12:05:09.296029",
     "status": "completed"
    },
    "tags": []
   },
   "source": [
    "## 🖼️ Random Shear Output"
   ]
  },
  {
   "cell_type": "code",
   "execution_count": 34,
   "id": "f4d27e49",
   "metadata": {
    "execution": {
     "iopub.execute_input": "2025-07-11T12:05:09.563466Z",
     "iopub.status.busy": "2025-07-11T12:05:09.563181Z",
     "iopub.status.idle": "2025-07-11T12:05:09.566586Z",
     "shell.execute_reply": "2025-07-11T12:05:09.566046Z"
    },
    "papermill": {
     "duration": 0.092849,
     "end_time": "2025-07-11T12:05:09.567644",
     "exception": false,
     "start_time": "2025-07-11T12:05:09.474795",
     "status": "completed"
    },
    "tags": []
   },
   "outputs": [],
   "source": [
    "# print(features.shape)\n",
    "\n",
    "# sheared_1 = apply_shear_frames(features[0], shear_right=0)\n",
    "# sheared_2 = apply_shear_frames(features[0], shear_right=1)\n",
    "\n",
    "# sheared_1 = np.asarray(sheared_1)\n",
    "# sheared_2 = np.asarray(sheared_2)\n",
    "\n",
    "# print(sheared_1.shape)\n",
    "# show_frame(sheared_1[0])\n",
    "# show_frame(sheared_2[0])"
   ]
  },
  {
   "cell_type": "markdown",
   "id": "37f8e5f3",
   "metadata": {
    "papermill": {
     "duration": 0.132707,
     "end_time": "2025-07-11T12:05:09.789830",
     "exception": false,
     "start_time": "2025-07-11T12:05:09.657123",
     "status": "completed"
    },
    "tags": []
   },
   "source": [
    "# 📌 Preparing Data for Training"
   ]
  },
  {
   "cell_type": "code",
   "execution_count": 35,
   "id": "ec660070",
   "metadata": {
    "execution": {
     "iopub.execute_input": "2025-07-11T12:05:09.968492Z",
     "iopub.status.busy": "2025-07-11T12:05:09.968216Z",
     "iopub.status.idle": "2025-07-11T12:05:10.467267Z",
     "shell.execute_reply": "2025-07-11T12:05:10.466496Z"
    },
    "papermill": {
     "duration": 0.591848,
     "end_time": "2025-07-11T12:05:10.469673",
     "exception": false,
     "start_time": "2025-07-11T12:05:09.877825",
     "status": "completed"
    },
    "tags": []
   },
   "outputs": [],
   "source": [
    "# Clear previous session to free memory\n",
    "import gc\n",
    "\n",
    "gc.collect()\n",
    "tf.keras.backend.clear_session()"
   ]
  },
  {
   "cell_type": "markdown",
   "id": "43fa9f44",
   "metadata": {
    "papermill": {
     "duration": 0.086888,
     "end_time": "2025-07-11T12:05:10.646100",
     "exception": false,
     "start_time": "2025-07-11T12:05:10.559212",
     "status": "completed"
    },
    "tags": []
   },
   "source": [
    "## Splitting data for ***Trainig*** and ***Testing***"
   ]
  },
  {
   "cell_type": "code",
   "execution_count": 36,
   "id": "24f2dad3",
   "metadata": {
    "execution": {
     "iopub.execute_input": "2025-07-11T12:05:10.821308Z",
     "iopub.status.busy": "2025-07-11T12:05:10.821033Z",
     "iopub.status.idle": "2025-07-11T12:05:11.737136Z",
     "shell.execute_reply": "2025-07-11T12:05:11.736335Z"
    },
    "papermill": {
     "duration": 1.0055,
     "end_time": "2025-07-11T12:05:11.738396",
     "exception": false,
     "start_time": "2025-07-11T12:05:10.732896",
     "status": "completed"
    },
    "tags": []
   },
   "outputs": [
    {
     "data": {
      "text/plain": [
       "((2880, 5, 128, 128, 3), (2880,))"
      ]
     },
     "execution_count": 36,
     "metadata": {},
     "output_type": "execute_result"
    }
   ],
   "source": [
    "videos = video_generator.videos\n",
    "labels = video_generator.labels\n",
    "\n",
    "videos = np.array(videos, dtype='float32')\n",
    "labels = np.array(labels)\n",
    "\n",
    "videos.shape, labels.shape"
   ]
  },
  {
   "cell_type": "code",
   "execution_count": 37,
   "id": "40f3a73d",
   "metadata": {
    "execution": {
     "iopub.execute_input": "2025-07-11T12:05:11.919388Z",
     "iopub.status.busy": "2025-07-11T12:05:11.919153Z",
     "iopub.status.idle": "2025-07-11T12:05:11.924090Z",
     "shell.execute_reply": "2025-07-11T12:05:11.923558Z"
    },
    "papermill": {
     "duration": 0.095174,
     "end_time": "2025-07-11T12:05:11.925283",
     "exception": false,
     "start_time": "2025-07-11T12:05:11.830109",
     "status": "completed"
    },
    "tags": []
   },
   "outputs": [
    {
     "data": {
      "text/plain": [
       "(2880, 18)"
      ]
     },
     "execution_count": 37,
     "metadata": {},
     "output_type": "execute_result"
    }
   ],
   "source": [
    "from tensorflow.keras.utils import to_categorical\n",
    "\n",
    "one_hot_encoded_labels = to_categorical(labels)\n",
    "\n",
    "one_hot_encoded_labels.shape"
   ]
  },
  {
   "cell_type": "code",
   "execution_count": 38,
   "id": "0bf1cd84",
   "metadata": {
    "execution": {
     "iopub.execute_input": "2025-07-11T12:05:12.106757Z",
     "iopub.status.busy": "2025-07-11T12:05:12.106470Z",
     "iopub.status.idle": "2025-07-11T12:05:12.349329Z",
     "shell.execute_reply": "2025-07-11T12:05:12.348721Z"
    },
    "papermill": {
     "duration": 0.332486,
     "end_time": "2025-07-11T12:05:12.350627",
     "exception": false,
     "start_time": "2025-07-11T12:05:12.018141",
     "status": "completed"
    },
    "tags": []
   },
   "outputs": [
    {
     "data": {
      "text/plain": [
       "0"
      ]
     },
     "execution_count": 38,
     "metadata": {},
     "output_type": "execute_result"
    }
   ],
   "source": [
    "gc.collect()"
   ]
  },
  {
   "cell_type": "code",
   "execution_count": 39,
   "id": "0aad96c7",
   "metadata": {
    "execution": {
     "iopub.execute_input": "2025-07-11T12:05:12.538418Z",
     "iopub.status.busy": "2025-07-11T12:05:12.537752Z",
     "iopub.status.idle": "2025-07-11T12:05:13.343148Z",
     "shell.execute_reply": "2025-07-11T12:05:13.342387Z"
    },
    "papermill": {
     "duration": 0.901516,
     "end_time": "2025-07-11T12:05:13.344302",
     "exception": false,
     "start_time": "2025-07-11T12:05:12.442786",
     "status": "completed"
    },
    "tags": []
   },
   "outputs": [
    {
     "data": {
      "text/plain": [
       "((2304, 5, 128, 128, 3), (2304, 18), (576, 5, 128, 128, 3), (576, 18))"
      ]
     },
     "execution_count": 39,
     "metadata": {},
     "output_type": "execute_result"
    }
   ],
   "source": [
    "# RUN Split the Data into Train ( 75% ) and Test Set ( 25% ).\n",
    "from sklearn.model_selection import train_test_split\n",
    "features_train, features_test, labels_train, labels_test = train_test_split(videos,\n",
    "                                                                            one_hot_encoded_labels,\n",
    "                                                                            test_size = TEST_SIZE,\n",
    "                                                                            shuffle = True,\n",
    "                                                                            random_state = seed_constant)\n",
    "\n",
    "features_train.shape, labels_train.shape, features_test.shape, labels_test.shape"
   ]
  },
  {
   "cell_type": "markdown",
   "id": "5acbc8cd",
   "metadata": {
    "papermill": {
     "duration": 0.093948,
     "end_time": "2025-07-11T12:05:13.534246",
     "exception": false,
     "start_time": "2025-07-11T12:05:13.440298",
     "status": "completed"
    },
    "tags": []
   },
   "source": [
    "## Splitting data for ***Training Set*** and ***Validation Set***"
   ]
  },
  {
   "cell_type": "code",
   "execution_count": 40,
   "id": "c2421341",
   "metadata": {
    "execution": {
     "iopub.execute_input": "2025-07-11T12:05:13.712656Z",
     "iopub.status.busy": "2025-07-11T12:05:13.712376Z",
     "iopub.status.idle": "2025-07-11T12:05:13.718361Z",
     "shell.execute_reply": "2025-07-11T12:05:13.717667Z"
    },
    "papermill": {
     "duration": 0.096629,
     "end_time": "2025-07-11T12:05:13.719496",
     "exception": false,
     "start_time": "2025-07-11T12:05:13.622867",
     "status": "completed"
    },
    "tags": []
   },
   "outputs": [
    {
     "data": {
      "text/plain": [
       "((1843, 5, 128, 128, 3), (1843, 18), (461, 5, 128, 128, 3), (461, 18))"
      ]
     },
     "execution_count": 40,
     "metadata": {},
     "output_type": "execute_result"
    }
   ],
   "source": [
    "# Assuming features_train and labels_train are defined\n",
    "train_set = 1-VALIDATION_SPLIT\n",
    "\n",
    "train_video_frames, val_video_frames = features_train[:int(train_set * len(features_train))], features_train[int(train_set * len(features_train)):]\n",
    "train_labels, val_labels = labels_train[:int(train_set * len(labels_train))], labels_train[int(train_set * len(labels_train)):]\n",
    "\n",
    "train_video_frames.shape, train_labels.shape, val_video_frames.shape, val_labels.shape"
   ]
  },
  {
   "cell_type": "markdown",
   "id": "1894e507",
   "metadata": {
    "papermill": {
     "duration": 0.091709,
     "end_time": "2025-07-11T12:05:13.899818",
     "exception": false,
     "start_time": "2025-07-11T12:05:13.808109",
     "status": "completed"
    },
    "tags": []
   },
   "source": [
    "## Use Generator `Video Data Generator`"
   ]
  },
  {
   "cell_type": "code",
   "execution_count": 41,
   "id": "4794300e",
   "metadata": {
    "execution": {
     "iopub.execute_input": "2025-07-11T12:05:14.079669Z",
     "iopub.status.busy": "2025-07-11T12:05:14.079382Z",
     "iopub.status.idle": "2025-07-11T12:05:14.086459Z",
     "shell.execute_reply": "2025-07-11T12:05:14.085756Z"
    },
    "papermill": {
     "duration": 0.097657,
     "end_time": "2025-07-11T12:05:14.087645",
     "exception": false,
     "start_time": "2025-07-11T12:05:13.989988",
     "status": "completed"
    },
    "tags": []
   },
   "outputs": [
    {
     "name": "stdout",
     "output_type": "stream",
     "text": [
      "Total 1843 videos and 1843 classes\n",
      "Total 461 videos and 461 classes\n"
     ]
    },
    {
     "data": {
      "text/plain": [
       "(77, 20)"
      ]
     },
     "execution_count": 41,
     "metadata": {},
     "output_type": "execute_result"
    }
   ],
   "source": [
    "# Create the training and validation generators\n",
    "train_gen = VideoDataGenerator(\n",
    "    videos=train_video_frames, \n",
    "    labels=train_labels, \n",
    "    batch_size=BATCH_SIZE,\n",
    ")\n",
    "\n",
    "val_gen = VideoDataGenerator(\n",
    "    videos=val_video_frames, \n",
    "    labels=val_labels, \n",
    "    batch_size=BATCH_SIZE,\n",
    ")\n",
    "\n",
    "len(train_gen), len(val_gen)"
   ]
  },
  {
   "cell_type": "markdown",
   "id": "80f4eb12",
   "metadata": {
    "papermill": {
     "duration": 0.088827,
     "end_time": "2025-07-11T12:05:14.267014",
     "exception": false,
     "start_time": "2025-07-11T12:05:14.178187",
     "status": "completed"
    },
    "tags": []
   },
   "source": [
    "## Inspect ***Generator*** Data on Epochs"
   ]
  },
  {
   "cell_type": "code",
   "execution_count": 42,
   "id": "492452e3",
   "metadata": {
    "execution": {
     "iopub.execute_input": "2025-07-11T12:05:14.447997Z",
     "iopub.status.busy": "2025-07-11T12:05:14.447435Z",
     "iopub.status.idle": "2025-07-11T12:05:14.458866Z",
     "shell.execute_reply": "2025-07-11T12:05:14.458156Z"
    },
    "papermill": {
     "duration": 0.104945,
     "end_time": "2025-07-11T12:05:14.459960",
     "exception": false,
     "start_time": "2025-07-11T12:05:14.355015",
     "status": "completed"
    },
    "tags": []
   },
   "outputs": [
    {
     "name": "stdout",
     "output_type": "stream",
     "text": [
      "[   0    1    2 ... 1840 1841 1842]\n",
      "[ 249  958 1444 ...  172 1504   28]\n"
     ]
    },
    {
     "data": {
      "text/plain": [
       "(24, (24, 5, 128, 128, 3), (24, 18))"
      ]
     },
     "execution_count": 42,
     "metadata": {},
     "output_type": "execute_result"
    }
   ],
   "source": [
    "features, labels = train_gen[1]\n",
    "\n",
    "print(train_gen.indices)\n",
    "\n",
    "train_gen.on_epoch_end()\n",
    "\n",
    "print(train_gen.indices)\n",
    "\n",
    "BATCH_SIZE, features.shape, labels.shape"
   ]
  },
  {
   "cell_type": "markdown",
   "id": "ceb1664e",
   "metadata": {
    "papermill": {
     "duration": 0.090022,
     "end_time": "2025-07-11T12:05:14.697818",
     "exception": false,
     "start_time": "2025-07-11T12:05:14.607796",
     "status": "completed"
    },
    "tags": []
   },
   "source": [
    "## Compute Class Weight"
   ]
  },
  {
   "cell_type": "code",
   "execution_count": 43,
   "id": "0f5a7ec6",
   "metadata": {
    "execution": {
     "iopub.execute_input": "2025-07-11T12:05:14.890878Z",
     "iopub.status.busy": "2025-07-11T12:05:14.890598Z",
     "iopub.status.idle": "2025-07-11T12:05:14.897440Z",
     "shell.execute_reply": "2025-07-11T12:05:14.896574Z"
    },
    "papermill": {
     "duration": 0.102227,
     "end_time": "2025-07-11T12:05:14.898750",
     "exception": false,
     "start_time": "2025-07-11T12:05:14.796523",
     "status": "completed"
    },
    "tags": []
   },
   "outputs": [
    {
     "name": "stdout",
     "output_type": "stream",
     "text": [
      "Class weights: {0: 1.0, 1: 1.0, 2: 1.0, 3: 1.0, 4: 1.0, 5: 1.0, 6: 1.0, 7: 1.0, 8: 1.0, 9: 1.0, 10: 1.0, 11: 1.0, 12: 1.0, 13: 1.0, 14: 1.0, 15: 1.0, 16: 1.0, 17: 1.0}\n"
     ]
    }
   ],
   "source": [
    "from sklearn.utils.class_weight import compute_class_weight\n",
    "import numpy as np\n",
    "\n",
    "# Assuming y_int are integer labels (not one-hot)\n",
    "y_int = np.argmax(one_hot_encoded_labels, axis=1)  # or just integer labels if you have them\n",
    "\n",
    "classes = np.arange(NO_OF_CLASSES)  # e.g. np.arange(16)\n",
    "class_weights_values = compute_class_weight(class_weight='balanced', classes=classes, y=y_int)\n",
    "\n",
    "class_weights = dict(zip(classes, class_weights_values))\n",
    "\n",
    "print(\"Class weights:\", class_weights)\n"
   ]
  },
  {
   "cell_type": "code",
   "execution_count": 44,
   "id": "02aab7e0",
   "metadata": {
    "execution": {
     "iopub.execute_input": "2025-07-11T12:05:15.080990Z",
     "iopub.status.busy": "2025-07-11T12:05:15.080723Z",
     "iopub.status.idle": "2025-07-11T12:05:15.325763Z",
     "shell.execute_reply": "2025-07-11T12:05:15.325015Z"
    },
    "papermill": {
     "duration": 0.338289,
     "end_time": "2025-07-11T12:05:15.327022",
     "exception": false,
     "start_time": "2025-07-11T12:05:14.988733",
     "status": "completed"
    },
    "tags": []
   },
   "outputs": [],
   "source": [
    "gc.collect()\n",
    "del videos, one_hot_encoded_labels, labels_train\n",
    "del features_train, val_labels, train_labels\n",
    "del val_video_frames, train_video_frames"
   ]
  },
  {
   "cell_type": "markdown",
   "id": "e90fdd25",
   "metadata": {
    "papermill": {
     "duration": 0.088279,
     "end_time": "2025-07-11T12:05:15.506202",
     "exception": false,
     "start_time": "2025-07-11T12:05:15.417923",
     "status": "completed"
    },
    "tags": []
   },
   "source": [
    "# ✨ Model Execution\n",
    "## Creating Model"
   ]
  },
  {
   "cell_type": "code",
   "execution_count": 45,
   "id": "46d4d486",
   "metadata": {
    "execution": {
     "iopub.execute_input": "2025-07-11T12:05:15.681147Z",
     "iopub.status.busy": "2025-07-11T12:05:15.680600Z",
     "iopub.status.idle": "2025-07-11T12:05:16.968468Z",
     "shell.execute_reply": "2025-07-11T12:05:16.967729Z"
    },
    "papermill": {
     "duration": 1.376618,
     "end_time": "2025-07-11T12:05:16.969700",
     "exception": false,
     "start_time": "2025-07-11T12:05:15.593082",
     "status": "completed"
    },
    "tags": []
   },
   "outputs": [
    {
     "name": "stdout",
     "output_type": "stream",
     "text": [
      "Loading Xception base model...\n",
      "Model architecture created successfully!\n"
     ]
    },
    {
     "name": "stderr",
     "output_type": "stream",
     "text": [
      "/usr/local/lib/python3.11/dist-packages/keras/src/layers/core/wrapper.py:27: UserWarning: Do not pass an `input_shape`/`input_dim` argument to a layer. When using Sequential models, prefer using an `Input(shape)` object as the first layer in the model instead.\n",
      "  super().__init__(**kwargs)\n"
     ]
    },
    {
     "data": {
      "text/html": [
       "<pre style=\"white-space:pre;overflow-x:auto;line-height:normal;font-family:Menlo,'DejaVu Sans Mono',consolas,'Courier New',monospace\"><span style=\"font-weight: bold\">Model: \"sequential\"</span>\n",
       "</pre>\n"
      ],
      "text/plain": [
       "\u001b[1mModel: \"sequential\"\u001b[0m\n"
      ]
     },
     "metadata": {},
     "output_type": "display_data"
    },
    {
     "data": {
      "text/html": [
       "<pre style=\"white-space:pre;overflow-x:auto;line-height:normal;font-family:Menlo,'DejaVu Sans Mono',consolas,'Courier New',monospace\">┏━━━━━━━━━━━━━━━━━━━━━━━━━━━━━━━━━┳━━━━━━━━━━━━━━━━━━━━━━━━┳━━━━━━━━━━━━━━━┓\n",
       "┃<span style=\"font-weight: bold\"> Layer (type)                    </span>┃<span style=\"font-weight: bold\"> Output Shape           </span>┃<span style=\"font-weight: bold\">       Param # </span>┃\n",
       "┡━━━━━━━━━━━━━━━━━━━━━━━━━━━━━━━━━╇━━━━━━━━━━━━━━━━━━━━━━━━╇━━━━━━━━━━━━━━━┩\n",
       "│ time_distributed                │ (<span style=\"color: #00d7ff; text-decoration-color: #00d7ff\">None</span>, <span style=\"color: #00af00; text-decoration-color: #00af00\">5</span>, <span style=\"color: #00af00; text-decoration-color: #00af00\">4</span>, <span style=\"color: #00af00; text-decoration-color: #00af00\">4</span>, <span style=\"color: #00af00; text-decoration-color: #00af00\">2048</span>)  │    <span style=\"color: #00af00; text-decoration-color: #00af00\">20,861,480</span> │\n",
       "│ (<span style=\"color: #0087ff; text-decoration-color: #0087ff\">TimeDistributed</span>)               │                        │               │\n",
       "├─────────────────────────────────┼────────────────────────┼───────────────┤\n",
       "│ time_distributed_1              │ (<span style=\"color: #00d7ff; text-decoration-color: #00d7ff\">None</span>, <span style=\"color: #00af00; text-decoration-color: #00af00\">5</span>, <span style=\"color: #00af00; text-decoration-color: #00af00\">2048</span>)        │             <span style=\"color: #00af00; text-decoration-color: #00af00\">0</span> │\n",
       "│ (<span style=\"color: #0087ff; text-decoration-color: #0087ff\">TimeDistributed</span>)               │                        │               │\n",
       "├─────────────────────────────────┼────────────────────────┼───────────────┤\n",
       "│ lstm (<span style=\"color: #0087ff; text-decoration-color: #0087ff\">LSTM</span>)                     │ (<span style=\"color: #00d7ff; text-decoration-color: #00d7ff\">None</span>, <span style=\"color: #00af00; text-decoration-color: #00af00\">128</span>)            │     <span style=\"color: #00af00; text-decoration-color: #00af00\">1,114,624</span> │\n",
       "├─────────────────────────────────┼────────────────────────┼───────────────┤\n",
       "│ batch_normalization             │ (<span style=\"color: #00d7ff; text-decoration-color: #00d7ff\">None</span>, <span style=\"color: #00af00; text-decoration-color: #00af00\">128</span>)            │           <span style=\"color: #00af00; text-decoration-color: #00af00\">512</span> │\n",
       "│ (<span style=\"color: #0087ff; text-decoration-color: #0087ff\">BatchNormalization</span>)            │                        │               │\n",
       "├─────────────────────────────────┼────────────────────────┼───────────────┤\n",
       "│ dropout_lstm (<span style=\"color: #0087ff; text-decoration-color: #0087ff\">Dropout</span>)          │ (<span style=\"color: #00d7ff; text-decoration-color: #00d7ff\">None</span>, <span style=\"color: #00af00; text-decoration-color: #00af00\">128</span>)            │             <span style=\"color: #00af00; text-decoration-color: #00af00\">0</span> │\n",
       "├─────────────────────────────────┼────────────────────────┼───────────────┤\n",
       "│ dense (<span style=\"color: #0087ff; text-decoration-color: #0087ff\">Dense</span>)                   │ (<span style=\"color: #00d7ff; text-decoration-color: #00d7ff\">None</span>, <span style=\"color: #00af00; text-decoration-color: #00af00\">512</span>)            │        <span style=\"color: #00af00; text-decoration-color: #00af00\">66,048</span> │\n",
       "├─────────────────────────────────┼────────────────────────┼───────────────┤\n",
       "│ dropout_dense (<span style=\"color: #0087ff; text-decoration-color: #0087ff\">Dropout</span>)         │ (<span style=\"color: #00d7ff; text-decoration-color: #00d7ff\">None</span>, <span style=\"color: #00af00; text-decoration-color: #00af00\">512</span>)            │             <span style=\"color: #00af00; text-decoration-color: #00af00\">0</span> │\n",
       "├─────────────────────────────────┼────────────────────────┼───────────────┤\n",
       "│ dense_1 (<span style=\"color: #0087ff; text-decoration-color: #0087ff\">Dense</span>)                 │ (<span style=\"color: #00d7ff; text-decoration-color: #00d7ff\">None</span>, <span style=\"color: #00af00; text-decoration-color: #00af00\">18</span>)             │         <span style=\"color: #00af00; text-decoration-color: #00af00\">9,234</span> │\n",
       "└─────────────────────────────────┴────────────────────────┴───────────────┘\n",
       "</pre>\n"
      ],
      "text/plain": [
       "┏━━━━━━━━━━━━━━━━━━━━━━━━━━━━━━━━━┳━━━━━━━━━━━━━━━━━━━━━━━━┳━━━━━━━━━━━━━━━┓\n",
       "┃\u001b[1m \u001b[0m\u001b[1mLayer (type)                   \u001b[0m\u001b[1m \u001b[0m┃\u001b[1m \u001b[0m\u001b[1mOutput Shape          \u001b[0m\u001b[1m \u001b[0m┃\u001b[1m \u001b[0m\u001b[1m      Param #\u001b[0m\u001b[1m \u001b[0m┃\n",
       "┡━━━━━━━━━━━━━━━━━━━━━━━━━━━━━━━━━╇━━━━━━━━━━━━━━━━━━━━━━━━╇━━━━━━━━━━━━━━━┩\n",
       "│ time_distributed                │ (\u001b[38;5;45mNone\u001b[0m, \u001b[38;5;34m5\u001b[0m, \u001b[38;5;34m4\u001b[0m, \u001b[38;5;34m4\u001b[0m, \u001b[38;5;34m2048\u001b[0m)  │    \u001b[38;5;34m20,861,480\u001b[0m │\n",
       "│ (\u001b[38;5;33mTimeDistributed\u001b[0m)               │                        │               │\n",
       "├─────────────────────────────────┼────────────────────────┼───────────────┤\n",
       "│ time_distributed_1              │ (\u001b[38;5;45mNone\u001b[0m, \u001b[38;5;34m5\u001b[0m, \u001b[38;5;34m2048\u001b[0m)        │             \u001b[38;5;34m0\u001b[0m │\n",
       "│ (\u001b[38;5;33mTimeDistributed\u001b[0m)               │                        │               │\n",
       "├─────────────────────────────────┼────────────────────────┼───────────────┤\n",
       "│ lstm (\u001b[38;5;33mLSTM\u001b[0m)                     │ (\u001b[38;5;45mNone\u001b[0m, \u001b[38;5;34m128\u001b[0m)            │     \u001b[38;5;34m1,114,624\u001b[0m │\n",
       "├─────────────────────────────────┼────────────────────────┼───────────────┤\n",
       "│ batch_normalization             │ (\u001b[38;5;45mNone\u001b[0m, \u001b[38;5;34m128\u001b[0m)            │           \u001b[38;5;34m512\u001b[0m │\n",
       "│ (\u001b[38;5;33mBatchNormalization\u001b[0m)            │                        │               │\n",
       "├─────────────────────────────────┼────────────────────────┼───────────────┤\n",
       "│ dropout_lstm (\u001b[38;5;33mDropout\u001b[0m)          │ (\u001b[38;5;45mNone\u001b[0m, \u001b[38;5;34m128\u001b[0m)            │             \u001b[38;5;34m0\u001b[0m │\n",
       "├─────────────────────────────────┼────────────────────────┼───────────────┤\n",
       "│ dense (\u001b[38;5;33mDense\u001b[0m)                   │ (\u001b[38;5;45mNone\u001b[0m, \u001b[38;5;34m512\u001b[0m)            │        \u001b[38;5;34m66,048\u001b[0m │\n",
       "├─────────────────────────────────┼────────────────────────┼───────────────┤\n",
       "│ dropout_dense (\u001b[38;5;33mDropout\u001b[0m)         │ (\u001b[38;5;45mNone\u001b[0m, \u001b[38;5;34m512\u001b[0m)            │             \u001b[38;5;34m0\u001b[0m │\n",
       "├─────────────────────────────────┼────────────────────────┼───────────────┤\n",
       "│ dense_1 (\u001b[38;5;33mDense\u001b[0m)                 │ (\u001b[38;5;45mNone\u001b[0m, \u001b[38;5;34m18\u001b[0m)             │         \u001b[38;5;34m9,234\u001b[0m │\n",
       "└─────────────────────────────────┴────────────────────────┴───────────────┘\n"
      ]
     },
     "metadata": {},
     "output_type": "display_data"
    },
    {
     "data": {
      "text/html": [
       "<pre style=\"white-space:pre;overflow-x:auto;line-height:normal;font-family:Menlo,'DejaVu Sans Mono',consolas,'Courier New',monospace\"><span style=\"font-weight: bold\"> Total params: </span><span style=\"color: #00af00; text-decoration-color: #00af00\">22,051,898</span> (84.12 MB)\n",
       "</pre>\n"
      ],
      "text/plain": [
       "\u001b[1m Total params: \u001b[0m\u001b[38;5;34m22,051,898\u001b[0m (84.12 MB)\n"
      ]
     },
     "metadata": {},
     "output_type": "display_data"
    },
    {
     "data": {
      "text/html": [
       "<pre style=\"white-space:pre;overflow-x:auto;line-height:normal;font-family:Menlo,'DejaVu Sans Mono',consolas,'Courier New',monospace\"><span style=\"font-weight: bold\"> Trainable params: </span><span style=\"color: #00af00; text-decoration-color: #00af00\">6,686,482</span> (25.51 MB)\n",
       "</pre>\n"
      ],
      "text/plain": [
       "\u001b[1m Trainable params: \u001b[0m\u001b[38;5;34m6,686,482\u001b[0m (25.51 MB)\n"
      ]
     },
     "metadata": {},
     "output_type": "display_data"
    },
    {
     "data": {
      "text/html": [
       "<pre style=\"white-space:pre;overflow-x:auto;line-height:normal;font-family:Menlo,'DejaVu Sans Mono',consolas,'Courier New',monospace\"><span style=\"font-weight: bold\"> Non-trainable params: </span><span style=\"color: #00af00; text-decoration-color: #00af00\">15,365,416</span> (58.61 MB)\n",
       "</pre>\n"
      ],
      "text/plain": [
       "\u001b[1m Non-trainable params: \u001b[0m\u001b[38;5;34m15,365,416\u001b[0m (58.61 MB)\n"
      ]
     },
     "metadata": {},
     "output_type": "display_data"
    },
    {
     "name": "stdout",
     "output_type": "stream",
     "text": [
      "Model Created Successfully!\n"
     ]
    }
   ],
   "source": [
    "# Create the model\n",
    "xlstm_model = create_xception_lstm_model(\n",
    "    sequence_length=SEQUENCE_LENGTH,\n",
    "    image_height=IMAGE_HEIGHT,\n",
    "    image_width=IMAGE_WIDTH,\n",
    "    classes_list=CLASSES_LIST,\n",
    "    dropout_rate=DROPOUT_RATE\n",
    ")\n",
    "\n",
    "# Check if model was created successfully\n",
    "if xlstm_model is None:\n",
    "    print(\"Failed to create model. Check error messages above.\")\n",
    "else:\n",
    "    print(\"Model Created Successfully!\")"
   ]
  },
  {
   "cell_type": "markdown",
   "id": "a9c7c408",
   "metadata": {
    "papermill": {
     "duration": 0.0894,
     "end_time": "2025-07-11T12:05:17.149871",
     "exception": false,
     "start_time": "2025-07-11T12:05:17.060471",
     "status": "completed"
    },
    "tags": []
   },
   "source": [
    "## Plot Model Structure"
   ]
  },
  {
   "cell_type": "code",
   "execution_count": 46,
   "id": "5e75e931",
   "metadata": {
    "execution": {
     "iopub.execute_input": "2025-07-11T12:05:17.332422Z",
     "iopub.status.busy": "2025-07-11T12:05:17.331750Z",
     "iopub.status.idle": "2025-07-11T12:05:17.876759Z",
     "shell.execute_reply": "2025-07-11T12:05:17.875783Z"
    },
    "papermill": {
     "duration": 0.6391,
     "end_time": "2025-07-11T12:05:17.878209",
     "exception": false,
     "start_time": "2025-07-11T12:05:17.239109",
     "status": "completed"
    },
    "tags": []
   },
   "outputs": [
    {
     "name": "stdout",
     "output_type": "stream",
     "text": [
      "Xception Model Plot saved successfully...\n"
     ]
    }
   ],
   "source": [
    "# Plot the structure of the contructed model.\n",
    "from tensorflow.keras.utils import plot_model\n",
    "\n",
    "plot_model(xlstm_model, to_file = f'{MODEL_NAME}_model_Plot.png', show_shapes = True, show_layer_names = True)\n",
    "\n",
    "print(f\"{MODEL_NAME} Model Plot saved successfully...\")"
   ]
  },
  {
   "cell_type": "markdown",
   "id": "d5b859fa",
   "metadata": {
    "papermill": {
     "duration": 0.091113,
     "end_time": "2025-07-11T12:05:18.061948",
     "exception": false,
     "start_time": "2025-07-11T12:05:17.970835",
     "status": "completed"
    },
    "tags": []
   },
   "source": [
    "## Model Compile"
   ]
  },
  {
   "cell_type": "code",
   "execution_count": 47,
   "id": "ac8b7c52",
   "metadata": {
    "execution": {
     "iopub.execute_input": "2025-07-11T12:05:18.288106Z",
     "iopub.status.busy": "2025-07-11T12:05:18.287863Z",
     "iopub.status.idle": "2025-07-11T12:05:18.304489Z",
     "shell.execute_reply": "2025-07-11T12:05:18.303990Z"
    },
    "papermill": {
     "duration": 0.153838,
     "end_time": "2025-07-11T12:05:18.305612",
     "exception": false,
     "start_time": "2025-07-11T12:05:18.151774",
     "status": "completed"
    },
    "tags": []
   },
   "outputs": [],
   "source": [
    "# Create an Instance of Early Stopping Callback\n",
    "from tensorflow.keras.callbacks import EarlyStopping\n",
    "\n",
    "early_stopping_callback = EarlyStopping(monitor = 'val_loss', \n",
    "                                        patience = 7, \n",
    "                                        mode = 'min', \n",
    "                                        restore_best_weights = True)\n",
    "\n",
    "# Compile the model and specify loss function, optimizer and metrics values to the model\n",
    "xlstm_model.compile(loss = 'categorical_crossentropy', \n",
    "                    optimizer=tf.keras.optimizers.Adam(learning_rate=0.0001),\n",
    "                    metrics = [\"accuracy\"])\n"
   ]
  },
  {
   "cell_type": "markdown",
   "id": "524fbdd5",
   "metadata": {
    "papermill": {
     "duration": 0.091204,
     "end_time": "2025-07-11T12:05:18.486865",
     "exception": false,
     "start_time": "2025-07-11T12:05:18.395661",
     "status": "completed"
    },
    "tags": []
   },
   "source": [
    "## 💪 Model Fit"
   ]
  },
  {
   "cell_type": "code",
   "execution_count": 48,
   "id": "f804980a",
   "metadata": {
    "execution": {
     "iopub.execute_input": "2025-07-11T12:05:18.670570Z",
     "iopub.status.busy": "2025-07-11T12:05:18.670269Z",
     "iopub.status.idle": "2025-07-11T12:05:18.676945Z",
     "shell.execute_reply": "2025-07-11T12:05:18.676236Z"
    },
    "papermill": {
     "duration": 0.09898,
     "end_time": "2025-07-11T12:05:18.678165",
     "exception": false,
     "start_time": "2025-07-11T12:05:18.579185",
     "status": "completed"
    },
    "tags": []
   },
   "outputs": [
    {
     "name": "stdout",
     "output_type": "stream",
     "text": [
      "Unique labels: [ 0  1  2  3  4  5  6  7  8  9 10 11 12 13 14 15 16 17]\n",
      "NO_OF_CLASSES: 18\n"
     ]
    }
   ],
   "source": [
    "labels = np.argmax(train_gen.labels, axis=1)  # assuming one-hot encoded\n",
    "print(\"Unique labels:\", np.unique(labels))\n",
    "print(\"NO_OF_CLASSES:\", NO_OF_CLASSES)\n"
   ]
  },
  {
   "cell_type": "code",
   "execution_count": 49,
   "id": "8e3d5497",
   "metadata": {
    "execution": {
     "iopub.execute_input": "2025-07-11T12:05:18.873044Z",
     "iopub.status.busy": "2025-07-11T12:05:18.872306Z",
     "iopub.status.idle": "2025-07-11T12:05:18.878644Z",
     "shell.execute_reply": "2025-07-11T12:05:18.877807Z"
    },
    "papermill": {
     "duration": 0.106792,
     "end_time": "2025-07-11T12:05:18.879806",
     "exception": false,
     "start_time": "2025-07-11T12:05:18.773014",
     "status": "completed"
    },
    "tags": []
   },
   "outputs": [
    {
     "name": "stdout",
     "output_type": "stream",
     "text": [
      "Train label shape: (1843, 18)\n",
      "Val label shape: (461, 18)\n"
     ]
    }
   ],
   "source": [
    "print(\"Train label shape:\", np.shape(train_gen.labels))\n",
    "print(\"Val label shape:\", np.shape(val_gen.labels))\n"
   ]
  },
  {
   "cell_type": "code",
   "execution_count": 50,
   "id": "00e8a5e3",
   "metadata": {
    "execution": {
     "iopub.execute_input": "2025-07-11T12:05:19.094595Z",
     "iopub.status.busy": "2025-07-11T12:05:19.094077Z",
     "iopub.status.idle": "2025-07-11T12:05:19.098202Z",
     "shell.execute_reply": "2025-07-11T12:05:19.097441Z"
    },
    "papermill": {
     "duration": 0.11357,
     "end_time": "2025-07-11T12:05:19.099310",
     "exception": false,
     "start_time": "2025-07-11T12:05:18.985740",
     "status": "completed"
    },
    "tags": []
   },
   "outputs": [],
   "source": [
    "# from tensorflow.keras.callbacks import ReduceLROnPlateau\n",
    "\n",
    "# lr_scheduler = ReduceLROnPlateau(monitor='val_loss', \n",
    "#                                  factor=0.5, \n",
    "#                                  patience=3, \n",
    "#                                  min_lr=1e-6)\n",
    "\n",
    "\n",
    "\n",
    "# print(f\"Dataset - {DATASET_NAME}\")\n",
    "# print(f\"There are total {len(ALL_CLASS_NAMES)} classes, selected {NO_OF_CLASSES} classes\")\n",
    "# print(f\"Setting {MAX_VIDEO_PER_CLASS} videos/class to train the model.\")\n",
    "# print(f\"Image size {IMAGE_HEIGHT}x{IMAGE_WIDTH} with {SEQUENCE_LENGTH} sequence length\")\n",
    "# print(f\"Dropout rate: {DROPOUT_RATE}\")\n",
    "# print(f\"Train-Test split ratio {int((1-TEST_SIZE)*100)}/{int(TEST_SIZE*100)}\")\n",
    "# print(f\"Validation data from Train set {VALIDATION_SPLIT*100}%\")\n",
    "\n",
    "# print(\"\\n\")\n",
    "\n",
    "# print(f\"Training started for {len(train_gen.videos)} videos of {NO_OF_CLASSES} classes with {len(val_gen.videos)} videos for validation...\")\n",
    "\n",
    "# model_history = xlstm_model.fit(\n",
    "#     train_gen.as_dataset(),\n",
    "#     validation_data=val_gen.as_dataset(),\n",
    "#     epochs=EPOCHS,\n",
    "#     # class_weight=class_weight_dict,\n",
    "#     callbacks=[early_stopping_callback, lr_scheduler]\n",
    "# )"
   ]
  },
  {
   "cell_type": "markdown",
   "id": "f9dca2f2",
   "metadata": {
    "papermill": {
     "duration": 0.10763,
     "end_time": "2025-07-11T12:05:19.307253",
     "exception": false,
     "start_time": "2025-07-11T12:05:19.199623",
     "status": "completed"
    },
    "tags": []
   },
   "source": [
    "# Evaluation"
   ]
  },
  {
   "cell_type": "markdown",
   "id": "34a1327e",
   "metadata": {
    "papermill": {
     "duration": 0.104094,
     "end_time": "2025-07-11T12:05:19.516101",
     "exception": false,
     "start_time": "2025-07-11T12:05:19.412007",
     "status": "completed"
    },
    "tags": []
   },
   "source": [
    "## ⚡ Model Evaluate"
   ]
  },
  {
   "cell_type": "code",
   "execution_count": 51,
   "id": "d228ac99",
   "metadata": {
    "execution": {
     "iopub.execute_input": "2025-07-11T12:05:19.713073Z",
     "iopub.status.busy": "2025-07-11T12:05:19.712503Z",
     "iopub.status.idle": "2025-07-11T12:05:19.715989Z",
     "shell.execute_reply": "2025-07-11T12:05:19.715176Z"
    },
    "papermill": {
     "duration": 0.101104,
     "end_time": "2025-07-11T12:05:19.717328",
     "exception": false,
     "start_time": "2025-07-11T12:05:19.616224",
     "status": "completed"
    },
    "tags": []
   },
   "outputs": [],
   "source": [
    "# # previous code\n",
    "# model_evaluation_history = xlstm_model.evaluate(features_test, labels_test)"
   ]
  },
  {
   "cell_type": "code",
   "execution_count": 52,
   "id": "25ce8de9",
   "metadata": {
    "execution": {
     "iopub.execute_input": "2025-07-11T12:05:19.955943Z",
     "iopub.status.busy": "2025-07-11T12:05:19.955264Z",
     "iopub.status.idle": "2025-07-11T12:05:19.959111Z",
     "shell.execute_reply": "2025-07-11T12:05:19.958472Z"
    },
    "papermill": {
     "duration": 0.147898,
     "end_time": "2025-07-11T12:05:19.960398",
     "exception": false,
     "start_time": "2025-07-11T12:05:19.812500",
     "status": "completed"
    },
    "tags": []
   },
   "outputs": [],
   "source": [
    "# import matplotlib.pyplot as plt\n",
    "\n",
    "# # Accuracy\n",
    "# plt.figure(figsize=(12, 5))\n",
    "\n",
    "# plt.subplot(1, 2, 1)\n",
    "# plt.plot(model_history.history['accuracy'], label='Train Accuracy')\n",
    "# plt.plot(model_history.history['val_accuracy'], label='Validation Accuracy')\n",
    "# plt.title('Model Accuracy')\n",
    "# plt.xlabel('Epoch')\n",
    "# plt.ylabel('Accuracy')\n",
    "# plt.legend()\n",
    "\n",
    "# # Loss\n",
    "# plt.subplot(1, 2, 2)\n",
    "# plt.plot(model_history.history['loss'], label='Train Loss')\n",
    "# plt.plot(model_history.history['val_loss'], label='Validation Loss')\n",
    "# plt.title('Model Loss')\n",
    "# plt.xlabel('Epoch')\n",
    "# plt.ylabel('Loss')\n",
    "# plt.legend()\n",
    "\n",
    "# plt.tight_layout()\n",
    "# plt.show()\n"
   ]
  },
  {
   "cell_type": "markdown",
   "id": "ec9e550b",
   "metadata": {
    "papermill": {
     "duration": 0.104602,
     "end_time": "2025-07-11T12:05:20.169845",
     "exception": false,
     "start_time": "2025-07-11T12:05:20.065243",
     "status": "completed"
    },
    "tags": []
   },
   "source": [
    "## 📈 Confusion Matrix"
   ]
  },
  {
   "cell_type": "code",
   "execution_count": 53,
   "id": "3de66600",
   "metadata": {
    "execution": {
     "iopub.execute_input": "2025-07-11T12:05:20.380602Z",
     "iopub.status.busy": "2025-07-11T12:05:20.379930Z",
     "iopub.status.idle": "2025-07-11T12:05:20.383636Z",
     "shell.execute_reply": "2025-07-11T12:05:20.383092Z"
    },
    "papermill": {
     "duration": 0.110157,
     "end_time": "2025-07-11T12:05:20.384637",
     "exception": false,
     "start_time": "2025-07-11T12:05:20.274480",
     "status": "completed"
    },
    "tags": []
   },
   "outputs": [],
   "source": [
    "# from sklearn.metrics import classification_report, confusion_matrix\n",
    "# import seaborn as sns\n",
    "# import matplotlib.pyplot as plt\n",
    "\n",
    "# # Create test generator with batch_size matching test set size\n",
    "# test_gen = VideoDataGenerator(\n",
    "#     videos=features_test,\n",
    "#     labels=labels_test,\n",
    "#     batch_size=4,  # Process all test samples at once\n",
    "# )\n",
    "\n",
    "# # Get predictions\n",
    "# predictions = xlstm_model.predict(test_gen.as_dataset())\n",
    "# predicted_classes = np.argmax(predictions, axis=1)\n",
    "# true_classes = np.argmax(labels_test, axis=1)\n",
    "\n",
    "# # Verify shapes\n",
    "# print(f\"True classes shape: {true_classes.shape}\")\n",
    "# print(f\"Predicted classes shape: {predicted_classes.shape}\")\n",
    "# assert len(true_classes) == len(predicted_classes), \"Sample counts do not match!\"\n",
    "\n",
    "# # Generate classification report\n",
    "# print(\"Classification Report:\")\n",
    "# print(classification_report(true_classes, predicted_classes, target_names=CLASSES_LIST))\n",
    "\n",
    "# # Plot confusion matrix\n",
    "# cm = confusion_matrix(true_classes, predicted_classes)\n",
    "# plt.figure(figsize=(8, 6))\n",
    "# sns.heatmap(cm, annot=True, fmt='d', cmap='Blues', xticklabels=CLASSES_LIST, yticklabels=CLASSES_LIST[-1])\n",
    "# plt.xlabel('Predicted')\n",
    "# plt.ylabel('True')\n",
    "# plt.title('Confusion Matrix')\n",
    "# plt.show()"
   ]
  },
  {
   "cell_type": "code",
   "execution_count": 54,
   "id": "f03d01dd",
   "metadata": {
    "execution": {
     "iopub.execute_input": "2025-07-11T12:05:20.581602Z",
     "iopub.status.busy": "2025-07-11T12:05:20.581267Z",
     "iopub.status.idle": "2025-07-11T12:35:50.332586Z",
     "shell.execute_reply": "2025-07-11T12:35:50.331858Z"
    },
    "papermill": {
     "duration": 1829.852137,
     "end_time": "2025-07-11T12:35:50.334232",
     "exception": false,
     "start_time": "2025-07-11T12:05:20.482095",
     "status": "completed"
    },
    "tags": []
   },
   "outputs": [
    {
     "name": "stdout",
     "output_type": "stream",
     "text": [
      "Memory cleared before creating VGG19+LSTM model\n",
      "TensorFlow version: 2.18.0\n",
      "Pre-loading VGG19 weights...\n",
      "Downloading data from https://storage.googleapis.com/tensorflow/keras-applications/vgg19/vgg19_weights_tf_dim_ordering_tf_kernels_notop.h5\n",
      "\u001b[1m80134624/80134624\u001b[0m \u001b[32m━━━━━━━━━━━━━━━━━━━━\u001b[0m\u001b[37m\u001b[0m \u001b[1m0s\u001b[0m 0us/step\n",
      "VGG19 weights loaded successfully!\n",
      "Creating VGG19+LSTM model with parameters:\n",
      "sequence_length: 5, image_height: 128, image_width: 128, classes_list length: 18, dropout_rate: 0.5\n"
     ]
    },
    {
     "name": "stderr",
     "output_type": "stream",
     "text": [
      "/usr/local/lib/python3.11/dist-packages/keras/src/layers/core/wrapper.py:27: UserWarning: Do not pass an `input_shape`/`input_dim` argument to a layer. When using Sequential models, prefer using an `Input(shape)` object as the first layer in the model instead.\n",
      "  super().__init__(**kwargs)\n"
     ]
    },
    {
     "name": "stdout",
     "output_type": "stream",
     "text": [
      "VGG19+LSTM model architecture created successfully!\n"
     ]
    },
    {
     "data": {
      "text/html": [
       "<pre style=\"white-space:pre;overflow-x:auto;line-height:normal;font-family:Menlo,'DejaVu Sans Mono',consolas,'Courier New',monospace\"><span style=\"font-weight: bold\">Model: \"sequential\"</span>\n",
       "</pre>\n"
      ],
      "text/plain": [
       "\u001b[1mModel: \"sequential\"\u001b[0m\n"
      ]
     },
     "metadata": {},
     "output_type": "display_data"
    },
    {
     "data": {
      "text/html": [
       "<pre style=\"white-space:pre;overflow-x:auto;line-height:normal;font-family:Menlo,'DejaVu Sans Mono',consolas,'Courier New',monospace\">┏━━━━━━━━━━━━━━━━━━━━━━━━━━━━━━━━━┳━━━━━━━━━━━━━━━━━━━━━━━━┳━━━━━━━━━━━━━━━┓\n",
       "┃<span style=\"font-weight: bold\"> Layer (type)                    </span>┃<span style=\"font-weight: bold\"> Output Shape           </span>┃<span style=\"font-weight: bold\">       Param # </span>┃\n",
       "┡━━━━━━━━━━━━━━━━━━━━━━━━━━━━━━━━━╇━━━━━━━━━━━━━━━━━━━━━━━━╇━━━━━━━━━━━━━━━┩\n",
       "│ time_distributed_vgg19          │ (<span style=\"color: #00d7ff; text-decoration-color: #00d7ff\">None</span>, <span style=\"color: #00af00; text-decoration-color: #00af00\">5</span>, <span style=\"color: #00af00; text-decoration-color: #00af00\">4</span>, <span style=\"color: #00af00; text-decoration-color: #00af00\">4</span>, <span style=\"color: #00af00; text-decoration-color: #00af00\">512</span>)   │    <span style=\"color: #00af00; text-decoration-color: #00af00\">20,024,384</span> │\n",
       "│ (<span style=\"color: #0087ff; text-decoration-color: #0087ff\">TimeDistributed</span>)               │                        │               │\n",
       "├─────────────────────────────────┼────────────────────────┼───────────────┤\n",
       "│ time_distributed_pooling        │ (<span style=\"color: #00d7ff; text-decoration-color: #00d7ff\">None</span>, <span style=\"color: #00af00; text-decoration-color: #00af00\">5</span>, <span style=\"color: #00af00; text-decoration-color: #00af00\">512</span>)         │             <span style=\"color: #00af00; text-decoration-color: #00af00\">0</span> │\n",
       "│ (<span style=\"color: #0087ff; text-decoration-color: #0087ff\">TimeDistributed</span>)               │                        │               │\n",
       "├─────────────────────────────────┼────────────────────────┼───────────────┤\n",
       "│ bidirectional (<span style=\"color: #0087ff; text-decoration-color: #0087ff\">Bidirectional</span>)   │ (<span style=\"color: #00d7ff; text-decoration-color: #00d7ff\">None</span>, <span style=\"color: #00af00; text-decoration-color: #00af00\">1024</span>)           │     <span style=\"color: #00af00; text-decoration-color: #00af00\">4,198,400</span> │\n",
       "├─────────────────────────────────┼────────────────────────┼───────────────┤\n",
       "│ batch_normalization_vgg19       │ (<span style=\"color: #00d7ff; text-decoration-color: #00d7ff\">None</span>, <span style=\"color: #00af00; text-decoration-color: #00af00\">1024</span>)           │         <span style=\"color: #00af00; text-decoration-color: #00af00\">4,096</span> │\n",
       "│ (<span style=\"color: #0087ff; text-decoration-color: #0087ff\">BatchNormalization</span>)            │                        │               │\n",
       "├─────────────────────────────────┼────────────────────────┼───────────────┤\n",
       "│ dropout_lstm_vgg19 (<span style=\"color: #0087ff; text-decoration-color: #0087ff\">Dropout</span>)    │ (<span style=\"color: #00d7ff; text-decoration-color: #00d7ff\">None</span>, <span style=\"color: #00af00; text-decoration-color: #00af00\">1024</span>)           │             <span style=\"color: #00af00; text-decoration-color: #00af00\">0</span> │\n",
       "├─────────────────────────────────┼────────────────────────┼───────────────┤\n",
       "│ dense_vgg19_1 (<span style=\"color: #0087ff; text-decoration-color: #0087ff\">Dense</span>)           │ (<span style=\"color: #00d7ff; text-decoration-color: #00d7ff\">None</span>, <span style=\"color: #00af00; text-decoration-color: #00af00\">512</span>)            │       <span style=\"color: #00af00; text-decoration-color: #00af00\">524,800</span> │\n",
       "├─────────────────────────────────┼────────────────────────┼───────────────┤\n",
       "│ dropout_dense_vgg19_1 (<span style=\"color: #0087ff; text-decoration-color: #0087ff\">Dropout</span>) │ (<span style=\"color: #00d7ff; text-decoration-color: #00d7ff\">None</span>, <span style=\"color: #00af00; text-decoration-color: #00af00\">512</span>)            │             <span style=\"color: #00af00; text-decoration-color: #00af00\">0</span> │\n",
       "├─────────────────────────────────┼────────────────────────┼───────────────┤\n",
       "│ dense_vgg19_2 (<span style=\"color: #0087ff; text-decoration-color: #0087ff\">Dense</span>)           │ (<span style=\"color: #00d7ff; text-decoration-color: #00d7ff\">None</span>, <span style=\"color: #00af00; text-decoration-color: #00af00\">128</span>)            │        <span style=\"color: #00af00; text-decoration-color: #00af00\">65,664</span> │\n",
       "├─────────────────────────────────┼────────────────────────┼───────────────┤\n",
       "│ dropout_dense_vgg19_2 (<span style=\"color: #0087ff; text-decoration-color: #0087ff\">Dropout</span>) │ (<span style=\"color: #00d7ff; text-decoration-color: #00d7ff\">None</span>, <span style=\"color: #00af00; text-decoration-color: #00af00\">128</span>)            │             <span style=\"color: #00af00; text-decoration-color: #00af00\">0</span> │\n",
       "├─────────────────────────────────┼────────────────────────┼───────────────┤\n",
       "│ output_vgg19 (<span style=\"color: #0087ff; text-decoration-color: #0087ff\">Dense</span>)            │ (<span style=\"color: #00d7ff; text-decoration-color: #00d7ff\">None</span>, <span style=\"color: #00af00; text-decoration-color: #00af00\">18</span>)             │         <span style=\"color: #00af00; text-decoration-color: #00af00\">2,322</span> │\n",
       "└─────────────────────────────────┴────────────────────────┴───────────────┘\n",
       "</pre>\n"
      ],
      "text/plain": [
       "┏━━━━━━━━━━━━━━━━━━━━━━━━━━━━━━━━━┳━━━━━━━━━━━━━━━━━━━━━━━━┳━━━━━━━━━━━━━━━┓\n",
       "┃\u001b[1m \u001b[0m\u001b[1mLayer (type)                   \u001b[0m\u001b[1m \u001b[0m┃\u001b[1m \u001b[0m\u001b[1mOutput Shape          \u001b[0m\u001b[1m \u001b[0m┃\u001b[1m \u001b[0m\u001b[1m      Param #\u001b[0m\u001b[1m \u001b[0m┃\n",
       "┡━━━━━━━━━━━━━━━━━━━━━━━━━━━━━━━━━╇━━━━━━━━━━━━━━━━━━━━━━━━╇━━━━━━━━━━━━━━━┩\n",
       "│ time_distributed_vgg19          │ (\u001b[38;5;45mNone\u001b[0m, \u001b[38;5;34m5\u001b[0m, \u001b[38;5;34m4\u001b[0m, \u001b[38;5;34m4\u001b[0m, \u001b[38;5;34m512\u001b[0m)   │    \u001b[38;5;34m20,024,384\u001b[0m │\n",
       "│ (\u001b[38;5;33mTimeDistributed\u001b[0m)               │                        │               │\n",
       "├─────────────────────────────────┼────────────────────────┼───────────────┤\n",
       "│ time_distributed_pooling        │ (\u001b[38;5;45mNone\u001b[0m, \u001b[38;5;34m5\u001b[0m, \u001b[38;5;34m512\u001b[0m)         │             \u001b[38;5;34m0\u001b[0m │\n",
       "│ (\u001b[38;5;33mTimeDistributed\u001b[0m)               │                        │               │\n",
       "├─────────────────────────────────┼────────────────────────┼───────────────┤\n",
       "│ bidirectional (\u001b[38;5;33mBidirectional\u001b[0m)   │ (\u001b[38;5;45mNone\u001b[0m, \u001b[38;5;34m1024\u001b[0m)           │     \u001b[38;5;34m4,198,400\u001b[0m │\n",
       "├─────────────────────────────────┼────────────────────────┼───────────────┤\n",
       "│ batch_normalization_vgg19       │ (\u001b[38;5;45mNone\u001b[0m, \u001b[38;5;34m1024\u001b[0m)           │         \u001b[38;5;34m4,096\u001b[0m │\n",
       "│ (\u001b[38;5;33mBatchNormalization\u001b[0m)            │                        │               │\n",
       "├─────────────────────────────────┼────────────────────────┼───────────────┤\n",
       "│ dropout_lstm_vgg19 (\u001b[38;5;33mDropout\u001b[0m)    │ (\u001b[38;5;45mNone\u001b[0m, \u001b[38;5;34m1024\u001b[0m)           │             \u001b[38;5;34m0\u001b[0m │\n",
       "├─────────────────────────────────┼────────────────────────┼───────────────┤\n",
       "│ dense_vgg19_1 (\u001b[38;5;33mDense\u001b[0m)           │ (\u001b[38;5;45mNone\u001b[0m, \u001b[38;5;34m512\u001b[0m)            │       \u001b[38;5;34m524,800\u001b[0m │\n",
       "├─────────────────────────────────┼────────────────────────┼───────────────┤\n",
       "│ dropout_dense_vgg19_1 (\u001b[38;5;33mDropout\u001b[0m) │ (\u001b[38;5;45mNone\u001b[0m, \u001b[38;5;34m512\u001b[0m)            │             \u001b[38;5;34m0\u001b[0m │\n",
       "├─────────────────────────────────┼────────────────────────┼───────────────┤\n",
       "│ dense_vgg19_2 (\u001b[38;5;33mDense\u001b[0m)           │ (\u001b[38;5;45mNone\u001b[0m, \u001b[38;5;34m128\u001b[0m)            │        \u001b[38;5;34m65,664\u001b[0m │\n",
       "├─────────────────────────────────┼────────────────────────┼───────────────┤\n",
       "│ dropout_dense_vgg19_2 (\u001b[38;5;33mDropout\u001b[0m) │ (\u001b[38;5;45mNone\u001b[0m, \u001b[38;5;34m128\u001b[0m)            │             \u001b[38;5;34m0\u001b[0m │\n",
       "├─────────────────────────────────┼────────────────────────┼───────────────┤\n",
       "│ output_vgg19 (\u001b[38;5;33mDense\u001b[0m)            │ (\u001b[38;5;45mNone\u001b[0m, \u001b[38;5;34m18\u001b[0m)             │         \u001b[38;5;34m2,322\u001b[0m │\n",
       "└─────────────────────────────────┴────────────────────────┴───────────────┘\n"
      ]
     },
     "metadata": {},
     "output_type": "display_data"
    },
    {
     "data": {
      "text/html": [
       "<pre style=\"white-space:pre;overflow-x:auto;line-height:normal;font-family:Menlo,'DejaVu Sans Mono',consolas,'Courier New',monospace\"><span style=\"font-weight: bold\"> Total params: </span><span style=\"color: #00af00; text-decoration-color: #00af00\">24,819,666</span> (94.68 MB)\n",
       "</pre>\n"
      ],
      "text/plain": [
       "\u001b[1m Total params: \u001b[0m\u001b[38;5;34m24,819,666\u001b[0m (94.68 MB)\n"
      ]
     },
     "metadata": {},
     "output_type": "display_data"
    },
    {
     "data": {
      "text/html": [
       "<pre style=\"white-space:pre;overflow-x:auto;line-height:normal;font-family:Menlo,'DejaVu Sans Mono',consolas,'Courier New',monospace\"><span style=\"font-weight: bold\"> Trainable params: </span><span style=\"color: #00af00; text-decoration-color: #00af00\">4,793,234</span> (18.28 MB)\n",
       "</pre>\n"
      ],
      "text/plain": [
       "\u001b[1m Trainable params: \u001b[0m\u001b[38;5;34m4,793,234\u001b[0m (18.28 MB)\n"
      ]
     },
     "metadata": {},
     "output_type": "display_data"
    },
    {
     "data": {
      "text/html": [
       "<pre style=\"white-space:pre;overflow-x:auto;line-height:normal;font-family:Menlo,'DejaVu Sans Mono',consolas,'Courier New',monospace\"><span style=\"font-weight: bold\"> Non-trainable params: </span><span style=\"color: #00af00; text-decoration-color: #00af00\">20,026,432</span> (76.39 MB)\n",
       "</pre>\n"
      ],
      "text/plain": [
       "\u001b[1m Non-trainable params: \u001b[0m\u001b[38;5;34m20,026,432\u001b[0m (76.39 MB)\n"
      ]
     },
     "metadata": {},
     "output_type": "display_data"
    },
    {
     "name": "stdout",
     "output_type": "stream",
     "text": [
      "VGG19+LSTM Model Created Successfully!\n",
      "Xception_VGG19_LSTM Model Plot saved successfully...\n",
      "train_gen.videos shape: (1843, 5, 128, 128, 3)\n",
      "train_gen.labels shape: (1843, 18)\n",
      "val_gen.videos shape: (461, 5, 128, 128, 3)\n",
      "val_gen.labels shape: (461, 18)\n",
      "features_test shape: (576, 5, 128, 128, 3)\n",
      "labels_test shape: (576, 18)\n",
      "train_gen batch videos shape: (24, 5, 128, 128, 3)\n",
      "train_gen batch labels shape: (24, 18)\n",
      "val_gen batch videos shape: (24, 5, 128, 128, 3)\n",
      "val_gen batch labels shape: (24, 18)\n",
      "Dataset - Kard Kinect Activity Recognition Dataset\n",
      "There are total 18 classes, selected 18 classes\n",
      "Setting 20 videos/class to train the model.\n",
      "Image size 128x128 with 5 sequence length\n",
      "Dropout rate: 0.5\n",
      "Train-Test split ratio 80/20\n",
      "Validation data from Train set 20.0%\n",
      "\n",
      "\n",
      "Initial training started for VGG19+LSTM model with 1843 videos of 18 classes with 461 videos for validation...\n",
      "Epoch 1/30\n"
     ]
    },
    {
     "name": "stderr",
     "output_type": "stream",
     "text": [
      "I0000 00:00:1752235533.694925      60 cuda_dnn.cc:529] Loaded cuDNN version 90300\n"
     ]
    },
    {
     "name": "stdout",
     "output_type": "stream",
     "text": [
      "     77/Unknown \u001b[1m34s\u001b[0m 247ms/step - accuracy: 0.1076 - loss: 22.9627"
     ]
    },
    {
     "name": "stderr",
     "output_type": "stream",
     "text": [
      "/usr/local/lib/python3.11/dist-packages/keras/src/trainers/epoch_iterator.py:151: UserWarning: Your input ran out of data; interrupting training. Make sure that your dataset or generator can generate at least `steps_per_epoch * epochs` batches. You may need to use the `.repeat()` function when building your dataset.\n",
      "  self._interrupted_warning()\n"
     ]
    },
    {
     "name": "stdout",
     "output_type": "stream",
     "text": [
      "\u001b[1m77/77\u001b[0m \u001b[32m━━━━━━━━━━━━━━━━━━━━\u001b[0m\u001b[37m\u001b[0m \u001b[1m42s\u001b[0m 348ms/step - accuracy: 0.1080 - loss: 22.9103 - val_accuracy: 0.1236 - val_loss: 13.7264 - learning_rate: 0.0010\n",
      "Epoch 2/30\n",
      "\u001b[1m77/77\u001b[0m \u001b[32m━━━━━━━━━━━━━━━━━━━━\u001b[0m\u001b[37m\u001b[0m \u001b[1m24s\u001b[0m 317ms/step - accuracy: 0.2579 - loss: 12.1543 - val_accuracy: 0.1757 - val_loss: 9.8422 - learning_rate: 0.0010\n",
      "Epoch 3/30\n",
      "\u001b[1m77/77\u001b[0m \u001b[32m━━━━━━━━━━━━━━━━━━━━\u001b[0m\u001b[37m\u001b[0m \u001b[1m24s\u001b[0m 312ms/step - accuracy: 0.3704 - loss: 8.4701 - val_accuracy: 0.2560 - val_loss: 7.5216 - learning_rate: 0.0010\n",
      "Epoch 4/30\n",
      "\u001b[1m77/77\u001b[0m \u001b[32m━━━━━━━━━━━━━━━━━━━━\u001b[0m\u001b[37m\u001b[0m \u001b[1m23s\u001b[0m 301ms/step - accuracy: 0.4522 - loss: 6.1692 - val_accuracy: 0.1996 - val_loss: 6.0079 - learning_rate: 0.0010\n",
      "Epoch 5/30\n",
      "\u001b[1m77/77\u001b[0m \u001b[32m━━━━━━━━━━━━━━━━━━━━\u001b[0m\u001b[37m\u001b[0m \u001b[1m23s\u001b[0m 304ms/step - accuracy: 0.5270 - loss: 4.7302 - val_accuracy: 0.2777 - val_loss: 4.9322 - learning_rate: 0.0010\n",
      "Epoch 6/30\n",
      "\u001b[1m77/77\u001b[0m \u001b[32m━━━━━━━━━━━━━━━━━━━━\u001b[0m\u001b[37m\u001b[0m \u001b[1m24s\u001b[0m 309ms/step - accuracy: 0.6005 - loss: 3.7773 - val_accuracy: 0.1692 - val_loss: 4.5861 - learning_rate: 0.0010\n",
      "Epoch 7/30\n",
      "\u001b[1m77/77\u001b[0m \u001b[32m━━━━━━━━━━━━━━━━━━━━\u001b[0m\u001b[37m\u001b[0m \u001b[1m24s\u001b[0m 307ms/step - accuracy: 0.6542 - loss: 3.0338 - val_accuracy: 0.3731 - val_loss: 4.0592 - learning_rate: 0.0010\n",
      "Epoch 8/30\n",
      "\u001b[1m77/77\u001b[0m \u001b[32m━━━━━━━━━━━━━━━━━━━━\u001b[0m\u001b[37m\u001b[0m \u001b[1m24s\u001b[0m 306ms/step - accuracy: 0.7006 - loss: 2.5063 - val_accuracy: 0.4729 - val_loss: 3.0804 - learning_rate: 0.0010\n",
      "Epoch 9/30\n",
      "\u001b[1m77/77\u001b[0m \u001b[32m━━━━━━━━━━━━━━━━━━━━\u001b[0m\u001b[37m\u001b[0m \u001b[1m23s\u001b[0m 304ms/step - accuracy: 0.7428 - loss: 2.1457 - val_accuracy: 0.2798 - val_loss: 4.5382 - learning_rate: 0.0010\n",
      "Epoch 10/30\n",
      "\u001b[1m77/77\u001b[0m \u001b[32m━━━━━━━━━━━━━━━━━━━━\u001b[0m\u001b[37m\u001b[0m \u001b[1m23s\u001b[0m 304ms/step - accuracy: 0.7793 - loss: 1.9078 - val_accuracy: 0.2495 - val_loss: 5.7318 - learning_rate: 0.0010\n",
      "Epoch 11/30\n",
      "\u001b[1m77/77\u001b[0m \u001b[32m━━━━━━━━━━━━━━━━━━━━\u001b[0m\u001b[37m\u001b[0m \u001b[1m24s\u001b[0m 306ms/step - accuracy: 0.7767 - loss: 1.7442 - val_accuracy: 0.3861 - val_loss: 4.0679 - learning_rate: 0.0010\n",
      "Epoch 12/30\n",
      "\u001b[1m77/77\u001b[0m \u001b[32m━━━━━━━━━━━━━━━━━━━━\u001b[0m\u001b[37m\u001b[0m \u001b[1m24s\u001b[0m 307ms/step - accuracy: 0.8448 - loss: 1.4658 - val_accuracy: 0.6725 - val_loss: 2.0890 - learning_rate: 5.0000e-04\n",
      "Epoch 13/30\n",
      "\u001b[1m77/77\u001b[0m \u001b[32m━━━━━━━━━━━━━━━━━━━━\u001b[0m\u001b[37m\u001b[0m \u001b[1m24s\u001b[0m 307ms/step - accuracy: 0.8885 - loss: 1.2399 - val_accuracy: 0.7809 - val_loss: 1.5473 - learning_rate: 5.0000e-04\n",
      "Epoch 14/30\n",
      "\u001b[1m77/77\u001b[0m \u001b[32m━━━━━━━━━━━━━━━━━━━━\u001b[0m\u001b[37m\u001b[0m \u001b[1m24s\u001b[0m 306ms/step - accuracy: 0.8949 - loss: 1.1371 - val_accuracy: 0.5466 - val_loss: 3.7059 - learning_rate: 5.0000e-04\n",
      "Epoch 15/30\n",
      "\u001b[1m77/77\u001b[0m \u001b[32m━━━━━━━━━━━━━━━━━━━━\u001b[0m\u001b[37m\u001b[0m \u001b[1m24s\u001b[0m 306ms/step - accuracy: 0.8837 - loss: 1.0792 - val_accuracy: 0.5987 - val_loss: 2.1332 - learning_rate: 5.0000e-04\n",
      "Epoch 16/30\n",
      "\u001b[1m77/77\u001b[0m \u001b[32m━━━━━━━━━━━━━━━━━━━━\u001b[0m\u001b[37m\u001b[0m \u001b[1m24s\u001b[0m 306ms/step - accuracy: 0.8934 - loss: 1.0006 - val_accuracy: 0.4881 - val_loss: 3.5166 - learning_rate: 5.0000e-04\n",
      "Epoch 17/30\n",
      "\u001b[1m77/77\u001b[0m \u001b[32m━━━━━━━━━━━━━━━━━━━━\u001b[0m\u001b[37m\u001b[0m \u001b[1m24s\u001b[0m 307ms/step - accuracy: 0.9209 - loss: 0.8976 - val_accuracy: 0.8525 - val_loss: 0.9973 - learning_rate: 2.5000e-04\n",
      "Epoch 18/30\n",
      "\u001b[1m77/77\u001b[0m \u001b[32m━━━━━━━━━━━━━━━━━━━━\u001b[0m\u001b[37m\u001b[0m \u001b[1m24s\u001b[0m 306ms/step - accuracy: 0.9316 - loss: 0.8259 - val_accuracy: 0.9067 - val_loss: 0.8745 - learning_rate: 2.5000e-04\n",
      "Epoch 19/30\n",
      "\u001b[1m77/77\u001b[0m \u001b[32m━━━━━━━━━━━━━━━━━━━━\u001b[0m\u001b[37m\u001b[0m \u001b[1m24s\u001b[0m 306ms/step - accuracy: 0.9365 - loss: 0.7719 - val_accuracy: 0.9436 - val_loss: 0.7409 - learning_rate: 2.5000e-04\n",
      "Epoch 20/30\n",
      "\u001b[1m77/77\u001b[0m \u001b[32m━━━━━━━━━━━━━━━━━━━━\u001b[0m\u001b[37m\u001b[0m \u001b[1m23s\u001b[0m 305ms/step - accuracy: 0.9455 - loss: 0.7311 - val_accuracy: 0.8872 - val_loss: 0.8254 - learning_rate: 2.5000e-04\n",
      "Epoch 21/30\n",
      "\u001b[1m77/77\u001b[0m \u001b[32m━━━━━━━━━━━━━━━━━━━━\u001b[0m\u001b[37m\u001b[0m \u001b[1m23s\u001b[0m 304ms/step - accuracy: 0.9431 - loss: 0.6961 - val_accuracy: 0.7722 - val_loss: 1.1845 - learning_rate: 2.5000e-04\n",
      "Epoch 22/30\n",
      "\u001b[1m77/77\u001b[0m \u001b[32m━━━━━━━━━━━━━━━━━━━━\u001b[0m\u001b[37m\u001b[0m \u001b[1m24s\u001b[0m 305ms/step - accuracy: 0.9418 - loss: 0.7129 - val_accuracy: 0.6811 - val_loss: 1.5460 - learning_rate: 2.5000e-04\n",
      "Epoch 23/30\n",
      "\u001b[1m77/77\u001b[0m \u001b[32m━━━━━━━━━━━━━━━━━━━━\u001b[0m\u001b[37m\u001b[0m \u001b[1m24s\u001b[0m 307ms/step - accuracy: 0.9647 - loss: 0.6331 - val_accuracy: 0.8959 - val_loss: 0.7402 - learning_rate: 1.2500e-04\n",
      "Epoch 24/30\n",
      "\u001b[1m77/77\u001b[0m \u001b[32m━━━━━━━━━━━━━━━━━━━━\u001b[0m\u001b[37m\u001b[0m \u001b[1m23s\u001b[0m 305ms/step - accuracy: 0.9636 - loss: 0.6084 - val_accuracy: 0.8872 - val_loss: 0.7505 - learning_rate: 1.2500e-04\n",
      "Epoch 25/30\n",
      "\u001b[1m77/77\u001b[0m \u001b[32m━━━━━━━━━━━━━━━━━━━━\u001b[0m\u001b[37m\u001b[0m \u001b[1m24s\u001b[0m 306ms/step - accuracy: 0.9649 - loss: 0.6008 - val_accuracy: 0.9132 - val_loss: 0.7147 - learning_rate: 1.2500e-04\n",
      "Epoch 26/30\n",
      "\u001b[1m77/77\u001b[0m \u001b[32m━━━━━━━━━━━━━━━━━━━━\u001b[0m\u001b[37m\u001b[0m \u001b[1m24s\u001b[0m 306ms/step - accuracy: 0.9610 - loss: 0.5711 - val_accuracy: 0.9393 - val_loss: 0.6253 - learning_rate: 1.2500e-04\n",
      "Epoch 27/30\n",
      "\u001b[1m77/77\u001b[0m \u001b[32m━━━━━━━━━━━━━━━━━━━━\u001b[0m\u001b[37m\u001b[0m \u001b[1m24s\u001b[0m 306ms/step - accuracy: 0.9692 - loss: 0.5543 - val_accuracy: 0.9197 - val_loss: 0.6344 - learning_rate: 1.2500e-04\n",
      "Epoch 28/30\n",
      "\u001b[1m77/77\u001b[0m \u001b[32m━━━━━━━━━━━━━━━━━━━━\u001b[0m\u001b[37m\u001b[0m \u001b[1m24s\u001b[0m 306ms/step - accuracy: 0.9605 - loss: 0.5723 - val_accuracy: 0.9458 - val_loss: 0.6069 - learning_rate: 1.2500e-04\n",
      "Epoch 29/30\n",
      "\u001b[1m77/77\u001b[0m \u001b[32m━━━━━━━━━━━━━━━━━━━━\u001b[0m\u001b[37m\u001b[0m \u001b[1m24s\u001b[0m 306ms/step - accuracy: 0.9706 - loss: 0.5243 - val_accuracy: 0.8764 - val_loss: 0.7606 - learning_rate: 1.2500e-04\n",
      "Epoch 30/30\n",
      "\u001b[1m77/77\u001b[0m \u001b[32m━━━━━━━━━━━━━━━━━━━━\u001b[0m\u001b[37m\u001b[0m \u001b[1m24s\u001b[0m 306ms/step - accuracy: 0.9720 - loss: 0.5256 - val_accuracy: 0.9154 - val_loss: 0.5828 - learning_rate: 1.2500e-04\n",
      "\n",
      "Fine-tuning started for VGG19+LSTM model with 1843 videos of 18 classes with 461 videos for validation...\n",
      "Epoch 1/30\n",
      "\u001b[1m77/77\u001b[0m \u001b[32m━━━━━━━━━━━━━━━━━━━━\u001b[0m\u001b[37m\u001b[0m \u001b[1m52s\u001b[0m 502ms/step - accuracy: 0.7404 - loss: 1.3150 - val_accuracy: 0.3080 - val_loss: 5.7809 - learning_rate: 1.0000e-04\n",
      "Epoch 2/30\n",
      "\u001b[1m77/77\u001b[0m \u001b[32m━━━━━━━━━━━━━━━━━━━━\u001b[0m\u001b[37m\u001b[0m \u001b[1m36s\u001b[0m 463ms/step - accuracy: 0.9169 - loss: 0.6211 - val_accuracy: 0.8612 - val_loss: 0.8368 - learning_rate: 1.0000e-04\n",
      "Epoch 3/30\n",
      "\u001b[1m77/77\u001b[0m \u001b[32m━━━━━━━━━━━━━━━━━━━━\u001b[0m\u001b[37m\u001b[0m \u001b[1m36s\u001b[0m 461ms/step - accuracy: 0.9506 - loss: 0.5229 - val_accuracy: 0.9631 - val_loss: 0.4829 - learning_rate: 1.0000e-04\n",
      "Epoch 4/30\n",
      "\u001b[1m77/77\u001b[0m \u001b[32m━━━━━━━━━━━━━━━━━━━━\u001b[0m\u001b[37m\u001b[0m \u001b[1m36s\u001b[0m 465ms/step - accuracy: 0.9615 - loss: 0.4866 - val_accuracy: 0.9588 - val_loss: 0.4592 - learning_rate: 1.0000e-04\n",
      "Epoch 5/30\n",
      "\u001b[1m77/77\u001b[0m \u001b[32m━━━━━━━━━━━━━━━━━━━━\u001b[0m\u001b[37m\u001b[0m \u001b[1m35s\u001b[0m 461ms/step - accuracy: 0.9818 - loss: 0.4269 - val_accuracy: 0.9284 - val_loss: 0.5264 - learning_rate: 1.0000e-04\n",
      "Epoch 6/30\n",
      "\u001b[1m77/77\u001b[0m \u001b[32m━━━━━━━━━━━━━━━━━━━━\u001b[0m\u001b[37m\u001b[0m \u001b[1m36s\u001b[0m 465ms/step - accuracy: 0.9867 - loss: 0.4037 - val_accuracy: 0.9826 - val_loss: 0.3916 - learning_rate: 1.0000e-04\n",
      "Epoch 7/30\n",
      "\u001b[1m77/77\u001b[0m \u001b[32m━━━━━━━━━━━━━━━━━━━━\u001b[0m\u001b[37m\u001b[0m \u001b[1m36s\u001b[0m 462ms/step - accuracy: 0.9845 - loss: 0.3854 - val_accuracy: 0.9826 - val_loss: 0.3546 - learning_rate: 1.0000e-04\n",
      "Epoch 8/30\n",
      "\u001b[1m77/77\u001b[0m \u001b[32m━━━━━━━━━━━━━━━━━━━━\u001b[0m\u001b[37m\u001b[0m \u001b[1m36s\u001b[0m 463ms/step - accuracy: 0.9903 - loss: 0.3607 - val_accuracy: 0.9783 - val_loss: 0.3744 - learning_rate: 1.0000e-04\n",
      "Epoch 9/30\n",
      "\u001b[1m77/77\u001b[0m \u001b[32m━━━━━━━━━━━━━━━━━━━━\u001b[0m\u001b[37m\u001b[0m \u001b[1m35s\u001b[0m 460ms/step - accuracy: 0.9954 - loss: 0.3340 - val_accuracy: 0.9089 - val_loss: 0.5672 - learning_rate: 1.0000e-04\n",
      "Epoch 10/30\n",
      "\u001b[1m77/77\u001b[0m \u001b[32m━━━━━━━━━━━━━━━━━━━━\u001b[0m\u001b[37m\u001b[0m \u001b[1m36s\u001b[0m 464ms/step - accuracy: 0.9903 - loss: 0.3311 - val_accuracy: 0.9566 - val_loss: 0.3887 - learning_rate: 1.0000e-04\n",
      "Epoch 11/30\n",
      "\u001b[1m77/77\u001b[0m \u001b[32m━━━━━━━━━━━━━━━━━━━━\u001b[0m\u001b[37m\u001b[0m \u001b[1m36s\u001b[0m 462ms/step - accuracy: 0.9969 - loss: 0.3048 - val_accuracy: 0.9957 - val_loss: 0.2831 - learning_rate: 5.0000e-05\n",
      "Epoch 12/30\n",
      "\u001b[1m77/77\u001b[0m \u001b[32m━━━━━━━━━━━━━━━━━━━━\u001b[0m\u001b[37m\u001b[0m \u001b[1m36s\u001b[0m 463ms/step - accuracy: 0.9927 - loss: 0.2965 - val_accuracy: 0.9935 - val_loss: 0.2835 - learning_rate: 5.0000e-05\n",
      "Epoch 13/30\n",
      "\u001b[1m77/77\u001b[0m \u001b[32m━━━━━━━━━━━━━━━━━━━━\u001b[0m\u001b[37m\u001b[0m \u001b[1m36s\u001b[0m 465ms/step - accuracy: 0.9995 - loss: 0.2811 - val_accuracy: 0.9913 - val_loss: 0.2734 - learning_rate: 5.0000e-05\n",
      "Epoch 14/30\n",
      "\u001b[1m77/77\u001b[0m \u001b[32m━━━━━━━━━━━━━━━━━━━━\u001b[0m\u001b[37m\u001b[0m \u001b[1m36s\u001b[0m 465ms/step - accuracy: 0.9974 - loss: 0.2795 - val_accuracy: 0.9978 - val_loss: 0.2604 - learning_rate: 5.0000e-05\n",
      "Epoch 15/30\n",
      "\u001b[1m77/77\u001b[0m \u001b[32m━━━━━━━━━━━━━━━━━━━━\u001b[0m\u001b[37m\u001b[0m \u001b[1m36s\u001b[0m 464ms/step - accuracy: 0.9993 - loss: 0.2651 - val_accuracy: 0.9978 - val_loss: 0.2548 - learning_rate: 5.0000e-05\n",
      "Epoch 16/30\n",
      "\u001b[1m77/77\u001b[0m \u001b[32m━━━━━━━━━━━━━━━━━━━━\u001b[0m\u001b[37m\u001b[0m \u001b[1m36s\u001b[0m 462ms/step - accuracy: 1.0000 - loss: 0.2540 - val_accuracy: 0.9957 - val_loss: 0.2450 - learning_rate: 5.0000e-05\n",
      "Epoch 17/30\n",
      "\u001b[1m77/77\u001b[0m \u001b[32m━━━━━━━━━━━━━━━━━━━━\u001b[0m\u001b[37m\u001b[0m \u001b[1m36s\u001b[0m 464ms/step - accuracy: 1.0000 - loss: 0.2502 - val_accuracy: 0.9935 - val_loss: 0.2549 - learning_rate: 5.0000e-05\n",
      "Epoch 18/30\n",
      "\u001b[1m77/77\u001b[0m \u001b[32m━━━━━━━━━━━━━━━━━━━━\u001b[0m\u001b[37m\u001b[0m \u001b[1m36s\u001b[0m 462ms/step - accuracy: 0.9994 - loss: 0.2440 - val_accuracy: 0.9913 - val_loss: 0.2530 - learning_rate: 5.0000e-05\n",
      "Epoch 19/30\n",
      "\u001b[1m77/77\u001b[0m \u001b[32m━━━━━━━━━━━━━━━━━━━━\u001b[0m\u001b[37m\u001b[0m \u001b[1m36s\u001b[0m 463ms/step - accuracy: 0.9977 - loss: 0.2406 - val_accuracy: 0.9913 - val_loss: 0.2383 - learning_rate: 5.0000e-05\n",
      "Epoch 20/30\n",
      "\u001b[1m77/77\u001b[0m \u001b[32m━━━━━━━━━━━━━━━━━━━━\u001b[0m\u001b[37m\u001b[0m \u001b[1m36s\u001b[0m 465ms/step - accuracy: 0.9979 - loss: 0.2344 - val_accuracy: 0.9848 - val_loss: 0.2365 - learning_rate: 5.0000e-05\n",
      "Epoch 21/30\n",
      "\u001b[1m77/77\u001b[0m \u001b[32m━━━━━━━━━━━━━━━━━━━━\u001b[0m\u001b[37m\u001b[0m \u001b[1m36s\u001b[0m 464ms/step - accuracy: 1.0000 - loss: 0.2268 - val_accuracy: 0.9957 - val_loss: 0.2175 - learning_rate: 5.0000e-05\n",
      "Epoch 22/30\n",
      "\u001b[1m77/77\u001b[0m \u001b[32m━━━━━━━━━━━━━━━━━━━━\u001b[0m\u001b[37m\u001b[0m \u001b[1m36s\u001b[0m 463ms/step - accuracy: 0.9991 - loss: 0.2187 - val_accuracy: 0.9913 - val_loss: 0.2184 - learning_rate: 5.0000e-05\n",
      "Epoch 23/30\n",
      "\u001b[1m77/77\u001b[0m \u001b[32m━━━━━━━━━━━━━━━━━━━━\u001b[0m\u001b[37m\u001b[0m \u001b[1m36s\u001b[0m 465ms/step - accuracy: 1.0000 - loss: 0.2152 - val_accuracy: 0.9957 - val_loss: 0.2104 - learning_rate: 5.0000e-05\n",
      "Epoch 24/30\n",
      "\u001b[1m77/77\u001b[0m \u001b[32m━━━━━━━━━━━━━━━━━━━━\u001b[0m\u001b[37m\u001b[0m \u001b[1m36s\u001b[0m 464ms/step - accuracy: 0.9997 - loss: 0.2109 - val_accuracy: 0.9957 - val_loss: 0.2126 - learning_rate: 5.0000e-05\n",
      "Epoch 25/30\n",
      "\u001b[1m77/77\u001b[0m \u001b[32m━━━━━━━━━━━━━━━━━━━━\u001b[0m\u001b[37m\u001b[0m \u001b[1m36s\u001b[0m 464ms/step - accuracy: 0.9978 - loss: 0.2125 - val_accuracy: 0.9957 - val_loss: 0.2036 - learning_rate: 5.0000e-05\n",
      "Epoch 26/30\n",
      "\u001b[1m77/77\u001b[0m \u001b[32m━━━━━━━━━━━━━━━━━━━━\u001b[0m\u001b[37m\u001b[0m \u001b[1m36s\u001b[0m 462ms/step - accuracy: 1.0000 - loss: 0.2019 - val_accuracy: 0.9957 - val_loss: 0.1921 - learning_rate: 5.0000e-05\n",
      "Epoch 27/30\n",
      "\u001b[1m77/77\u001b[0m \u001b[32m━━━━━━━━━━━━━━━━━━━━\u001b[0m\u001b[37m\u001b[0m \u001b[1m36s\u001b[0m 462ms/step - accuracy: 0.9995 - loss: 0.1951 - val_accuracy: 0.9957 - val_loss: 0.1937 - learning_rate: 5.0000e-05\n",
      "Epoch 28/30\n",
      "\u001b[1m77/77\u001b[0m \u001b[32m━━━━━━━━━━━━━━━━━━━━\u001b[0m\u001b[37m\u001b[0m \u001b[1m36s\u001b[0m 463ms/step - accuracy: 1.0000 - loss: 0.1907 - val_accuracy: 0.9913 - val_loss: 0.1869 - learning_rate: 5.0000e-05\n",
      "Epoch 29/30\n",
      "\u001b[1m77/77\u001b[0m \u001b[32m━━━━━━━━━━━━━━━━━━━━\u001b[0m\u001b[37m\u001b[0m \u001b[1m36s\u001b[0m 464ms/step - accuracy: 1.0000 - loss: 0.1855 - val_accuracy: 0.9870 - val_loss: 0.1892 - learning_rate: 5.0000e-05\n",
      "Epoch 30/30\n",
      "\u001b[1m77/77\u001b[0m \u001b[32m━━━━━━━━━━━━━━━━━━━━\u001b[0m\u001b[37m\u001b[0m \u001b[1m36s\u001b[0m 465ms/step - accuracy: 0.9976 - loss: 0.1866 - val_accuracy: 0.9935 - val_loss: 0.2113 - learning_rate: 5.0000e-05\n",
      "\n",
      "Evaluating VGG19+LSTM model on test set...\n",
      "Total 576 videos and 576 classes\n",
      "test_gen batch videos shape: (24, 5, 128, 128, 3)\n",
      "test_gen batch labels shape: (24, 18)\n",
      "\u001b[1m24/24\u001b[0m \u001b[32m━━━━━━━━━━━━━━━━━━━━\u001b[0m\u001b[37m\u001b[0m \u001b[1m6s\u001b[0m 240ms/step - accuracy: 0.9966 - loss: 0.1783\n",
      "VGG19+LSTM Test Loss: 0.1874\n",
      "VGG19+LSTM Test Accuracy: 99.13%\n"
     ]
    },
    {
     "data": {
      "image/png": "[encoded data removed]",
      "text/plain": [
       "<Figure size 1200x500 with 2 Axes>"
      ]
     },
     "metadata": {},
     "output_type": "display_data"
    },
    {
     "name": "stdout",
     "output_type": "stream",
     "text": [
      "\u001b[1m24/24\u001b[0m \u001b[32m━━━━━━━━━━━━━━━━━━━━\u001b[0m\u001b[37m\u001b[0m \u001b[1m7s\u001b[0m 235ms/step\n",
      "True classes shape: (576,)\n",
      "Predicted classes shape: (576,)\n",
      "\n",
      "VGG19+LSTM Classification Report:\n",
      "                     precision    recall  f1-score   support\n",
      "\n",
      "          Catch Cap       1.00      1.00      1.00        28\n",
      "              Drink       1.00      1.00      1.00        33\n",
      "           Sit down       1.00      1.00      1.00        41\n",
      "          Draw Tick       0.92      0.97      0.95        36\n",
      "         Phone Call       1.00      1.00      1.00        28\n",
      "Horizontal arm wave       1.00      1.00      1.00        36\n",
      "          Hand Clap       1.00      1.00      1.00        25\n",
      "         High throw       0.97      1.00      0.98        29\n",
      "       Forward Kick       1.00      1.00      1.00        35\n",
      "           Stand up       1.00      1.00      1.00        33\n",
      "      Two hand wave       1.00      1.00      1.00        27\n",
      "         Toss Paper       1.00      1.00      1.00        34\n",
      "               Walk       1.00      1.00      1.00        28\n",
      "          Side Kick       1.00      1.00      1.00        26\n",
      "               Bend       1.00      1.00      1.00        34\n",
      "      Take Umbrella       1.00      1.00      1.00        27\n",
      "      High arm wave       1.00      1.00      1.00        31\n",
      "             Draw X       0.98      0.91      0.94        45\n",
      "\n",
      "           accuracy                           0.99       576\n",
      "          macro avg       0.99      0.99      0.99       576\n",
      "       weighted avg       0.99      0.99      0.99       576\n",
      "\n"
     ]
    },
    {
     "name": "stderr",
     "output_type": "stream",
     "text": [
      "/usr/local/lib/python3.11/dist-packages/keras/src/trainers/epoch_iterator.py:151: UserWarning: Your input ran out of data; interrupting training. Make sure that your dataset or generator can generate at least `steps_per_epoch * epochs` batches. You may need to use the `.repeat()` function when building your dataset.\n",
      "  self._interrupted_warning()\n"
     ]
    },
    {
     "data": {
      "image/png": "[encoded data removed]",
      "text/plain": [
       "<Figure size 800x600 with 2 Axes>"
      ]
     },
     "metadata": {},
     "output_type": "display_data"
    }
   ],
   "source": [
    "# Import necessary libraries\n",
    "from tensorflow.keras.applications import VGG19\n",
    "from tensorflow.keras.models import Sequential\n",
    "from tensorflow.keras.layers import TimeDistributed, GlobalAveragePooling2D, LSTM, Dropout, Dense, BatchNormalization, Bidirectional\n",
    "from tensorflow.keras.regularizers import l2\n",
    "from tensorflow.keras.callbacks import EarlyStopping, ReduceLROnPlateau\n",
    "from tensorflow.keras.utils import to_categorical\n",
    "import tensorflow as tf\n",
    "import numpy as np\n",
    "import gc\n",
    "\n",
    "# Clear memory before creating the new model\n",
    "gc.collect()\n",
    "tf.keras.backend.clear_session()\n",
    "print(\"Memory cleared before creating VGG19+LSTM model\")\n",
    "\n",
    "# Print TensorFlow version\n",
    "print(f\"TensorFlow version: {tf.__version__}\")\n",
    "\n",
    "# Pre-load VGG19 weights\n",
    "print(\"Pre-loading VGG19 weights...\")\n",
    "try:\n",
    "    base_model = VGG19(weights='imagenet', include_top=False, input_shape=(IMAGE_HEIGHT, IMAGE_WIDTH, 3))\n",
    "    print(\"VGG19 weights loaded successfully!\")\n",
    "except Exception as e:\n",
    "    print(f\"Failed to load VGG19 weights: {str(e)}\")\n",
    "    print(\"Falling back to initializing VGG19 without pre-trained weights...\")\n",
    "    base_model = VGG19(weights=None, include_top=False, input_shape=(IMAGE_HEIGHT, IMAGE_WIDTH, 3))\n",
    "\n",
    "# Define function to create VGG19+LSTM model\n",
    "def create_vgg19_lstm_model(sequence_length, image_height, image_width, classes_list=None, dropout_rate=0.5, base_model=None):\n",
    "    print(\"Creating VGG19+LSTM model with parameters:\")\n",
    "    print(f\"sequence_length: {sequence_length}, image_height: {image_height}, image_width: {image_width}, classes_list length: {len(classes_list) if classes_list is not None else None}, dropout_rate: {dropout_rate}\")\n",
    "    \n",
    "    if classes_list is None:\n",
    "        raise ValueError(\"classes_list must be provided to define the output layer size\")\n",
    "    if base_model is None:\n",
    "        raise ValueError(\"base_model must be provided to avoid re-downloading weights\")\n",
    "\n",
    "    try:\n",
    "        # Use the pre-loaded base model\n",
    "        vgg19 = base_model\n",
    "        # Freeze the base model for initial training\n",
    "        vgg19.trainable = False\n",
    "\n",
    "        # Define the Sequential model\n",
    "        model = Sequential([\n",
    "            # TimeDistributed VGG19 model\n",
    "            TimeDistributed(\n",
    "                vgg19,\n",
    "                input_shape=(sequence_length, image_height, image_width, 3),\n",
    "                name=\"time_distributed_vgg19\"\n",
    "            ),\n",
    "            # TimeDistributed GlobalAveragePooling2D\n",
    "            TimeDistributed(GlobalAveragePooling2D(), name=\"time_distributed_pooling\"),\n",
    "            # LSTM layer with 512 units\n",
    "            Bidirectional(LSTM(512, activation=\"tanh\", return_sequences=False, kernel_regularizer=l2(0.01), name=\"lstm_vgg19\")),\n",
    "            BatchNormalization(name=\"batch_normalization_vgg19\"),\n",
    "            # Dropout after LSTM\n",
    "            Dropout(dropout_rate, name=\"dropout_lstm_vgg19\"),\n",
    "            # Dense layer with 512 units\n",
    "            Dense(512, activation=\"relu\", kernel_regularizer=l2(0.01), name=\"dense_vgg19_1\"),\n",
    "            # Dropout after first Dense\n",
    "            Dropout(dropout_rate, name=\"dropout_dense_vgg19_1\"),\n",
    "            # Dense layer with 128 units\n",
    "            Dense(128, activation=\"relu\", kernel_regularizer=l2(0.01), name=\"dense_vgg19_2\"),\n",
    "            # Dropout after second Dense\n",
    "            Dropout(dropout_rate, name=\"dropout_dense_vgg19_2\"),\n",
    "            # Output Dense layer with softmax activation\n",
    "            Dense(len(classes_list), activation=\"softmax\", name=\"output_vgg19\")\n",
    "        ])\n",
    "\n",
    "        # Print model summary\n",
    "        print(\"VGG19+LSTM model architecture created successfully!\")\n",
    "        model.summary()\n",
    "\n",
    "        return model\n",
    "\n",
    "    except Exception as e:\n",
    "        print(f\"Error creating VGG19+LSTM model: {str(e)}\")\n",
    "        import traceback\n",
    "        traceback.print_exc()\n",
    "        return None\n",
    "\n",
    "# Create the VGG19+LSTM model using the pre-loaded base model\n",
    "vgg19_lstm_model = create_vgg19_lstm_model(\n",
    "    sequence_length=SEQUENCE_LENGTH,\n",
    "    image_height=IMAGE_HEIGHT,\n",
    "    image_width=IMAGE_WIDTH,\n",
    "    classes_list=CLASSES_LIST,\n",
    "    dropout_rate=DROPOUT_RATE,\n",
    "    base_model=base_model\n",
    ")\n",
    "\n",
    "# Check if model was created successfully\n",
    "if vgg19_lstm_model is None:\n",
    "    raise ValueError(\"Failed to create VGG19+LSTM model. Check error messages above.\")\n",
    "else:\n",
    "    print(\"VGG19+LSTM Model Created Successfully!\")\n",
    "\n",
    "# Plot the model structure\n",
    "from tensorflow.keras.utils import plot_model\n",
    "try:\n",
    "    plot_model(vgg19_lstm_model, to_file=f'{MODEL_NAME}_VGG19_LSTM_model_Plot.png', show_shapes=True, show_layer_names=True)\n",
    "    print(f\"{MODEL_NAME}_VGG19_LSTM Model Plot saved successfully...\")\n",
    "except Exception as e:\n",
    "    print(f\"Failed to plot model: {str(e)}\")\n",
    "\n",
    "# Verify data shapes\n",
    "print(f\"train_gen.videos shape: {np.shape(train_gen.videos)}\")\n",
    "print(f\"train_gen.labels shape: {np.shape(train_gen.labels)}\")\n",
    "print(f\"val_gen.videos shape: {np.shape(val_gen.videos)}\")\n",
    "print(f\"val_gen.labels shape: {np.shape(val_gen.labels)}\")\n",
    "print(f\"features_test shape: {np.shape(features_test)}\")\n",
    "print(f\"labels_test shape: {np.shape(labels_test)}\")\n",
    "\n",
    "# Ensure labels_test is one-hot encoded\n",
    "if len(labels_test.shape) == 1:\n",
    "    print(\"Converting labels_test to one-hot encoded format...\")\n",
    "    labels_test = to_categorical(labels_test, num_classes=NO_OF_CLASSES)\n",
    "    print(f\"New labels_test shape: {labels_test.shape}\")\n",
    "\n",
    "# Verify generator batch shapes\n",
    "try:\n",
    "    videos, labels = train_gen[0]\n",
    "    print(f\"train_gen batch videos shape: {videos.shape}\")\n",
    "    print(f\"train_gen batch labels shape: {labels.shape}\")\n",
    "    videos, labels = val_gen[0]\n",
    "    print(f\"val_gen batch videos shape: {videos.shape}\")\n",
    "    print(f\"val_gen batch labels shape: {labels.shape}\")\n",
    "except Exception as e:\n",
    "    print(f\"Error accessing generator data: {str(e)}\")\n",
    "\n",
    "# Compile the model for initial training\n",
    "early_stopping_callback = EarlyStopping(monitor='val_loss', patience=7, mode='min', restore_best_weights=True)\n",
    "lr_scheduler = ReduceLROnPlateau(monitor='val_loss', factor=0.5, patience=3, min_lr=1e-6)\n",
    "\n",
    "vgg19_lstm_model.compile(\n",
    "    loss='categorical_crossentropy',\n",
    "    optimizer=tf.keras.optimizers.Adam(learning_rate=0.001),  # Higher learning rate for initial training\n",
    "    metrics=['accuracy']\n",
    ")\n",
    "\n",
    "# Print dataset summary\n",
    "print(f\"Dataset - {DATASET_NAME}\")\n",
    "print(f\"There are total {len(ALL_CLASS_NAMES)} classes, selected {NO_OF_CLASSES} classes\")\n",
    "print(f\"Setting {MAX_VIDEO_PER_CLASS} videos/class to train the model.\")\n",
    "print(f\"Image size {IMAGE_HEIGHT}x{IMAGE_WIDTH} with {SEQUENCE_LENGTH} sequence length\")\n",
    "print(f\"Dropout rate: {DROPOUT_RATE}\")\n",
    "print(f\"Train-Test split ratio {int((1-TEST_SIZE)*100)}/{int(TEST_SIZE*100)}\")\n",
    "print(f\"Validation data from Train set {VALIDATION_SPLIT*100}%\")\n",
    "print(\"\\n\")\n",
    "\n",
    "# Initial training with frozen base model\n",
    "print(f\"Initial training started for VGG19+LSTM model with {len(train_gen.videos)} videos of {NO_OF_CLASSES} classes with {len(val_gen.videos)} videos for validation...\")\n",
    "try:\n",
    "    vgg19_history_initial = vgg19_lstm_model.fit(\n",
    "        train_gen.as_dataset(),\n",
    "        validation_data=val_gen.as_dataset(),\n",
    "        epochs=EPOCHS,\n",
    "        class_weight=class_weights,\n",
    "        callbacks=[early_stopping_callback, lr_scheduler]\n",
    "    )\n",
    "except Exception as e:\n",
    "    print(f\"Error during initial model training: {str(e)}\")\n",
    "    import traceback\n",
    "    traceback.print_exc()\n",
    "\n",
    "# Unfreeze some layers for fine-tuning\n",
    "base_model.trainable = True\n",
    "# Freeze all layers except the last 8 layers (consistent with previous VGG19 code)\n",
    "for layer in base_model.layers[:-8]:\n",
    "    layer.trainable = False\n",
    "\n",
    "# Recompile the model with a lower learning rate for fine-tuning\n",
    "vgg19_lstm_model.compile(\n",
    "    loss='categorical_crossentropy',\n",
    "    optimizer=tf.keras.optimizers.Adam(learning_rate=0.0001),  # Lower learning rate for fine-tuning\n",
    "    metrics=['accuracy']\n",
    ")\n",
    "\n",
    "# Fine-tune the model\n",
    "print(f\"\\nFine-tuning started for VGG19+LSTM model with {len(train_gen.videos)} videos of {NO_OF_CLASSES} classes with {len(val_gen.videos)} videos for validation...\")\n",
    "try:\n",
    "    vgg19_history_fine = vgg19_lstm_model.fit(\n",
    "        train_gen.as_dataset(),\n",
    "        validation_data=val_gen.as_dataset(),\n",
    "        epochs=EPOCHS,\n",
    "        class_weight=class_weights,\n",
    "        callbacks=[early_stopping_callback, lr_scheduler]\n",
    "    )\n",
    "except Exception as e:\n",
    "    print(f\"Error during fine-tuning: {str(e)}\")\n",
    "    import traceback\n",
    "    traceback.print_exc()\n",
    "\n",
    "# Evaluate the model on the test set\n",
    "print(\"\\nEvaluating VGG19+LSTM model on test set...\")\n",
    "test_gen = VideoDataGenerator(\n",
    "    videos=features_test,\n",
    "    labels=labels_test,\n",
    "    batch_size=BATCH_SIZE\n",
    ")\n",
    "try:\n",
    "    videos, labels = test_gen[0]\n",
    "    print(f\"test_gen batch videos shape: {videos.shape}\")\n",
    "    print(f\"test_gen batch labels shape: {labels.shape}\")\n",
    "    loss, accuracy = vgg19_lstm_model.evaluate(test_gen.as_dataset())\n",
    "    print(f'VGG19+LSTM Test Loss: {loss:.4f}')\n",
    "    print(f'VGG19+LSTM Test Accuracy: {accuracy * 100:.2f}%')\n",
    "except Exception as e:\n",
    "    print(f\"Error during model evaluation: {str(e)}\")\n",
    "    import traceback\n",
    "    traceback.print_exc()\n",
    "\n",
    "# Plot training history (combine initial and fine-tuning)\n",
    "import matplotlib.pyplot as plt\n",
    "\n",
    "try:\n",
    "    # Combine histories\n",
    "    history_accuracy = vgg19_history_initial.history['accuracy'] + vgg19_history_fine.history['accuracy']\n",
    "    history_val_accuracy = vgg19_history_initial.history['val_accuracy'] + vgg19_history_fine.history['val_accuracy']\n",
    "    history_loss = vgg19_history_initial.history['loss'] + vgg19_history_fine.history['loss']\n",
    "    history_val_loss = vgg19_history_initial.history['val_loss'] + vgg19_history_fine.history['val_loss']\n",
    "\n",
    "    plt.figure(figsize=(12, 5))\n",
    "\n",
    "    # Accuracy\n",
    "    plt.subplot(1, 2, 1)\n",
    "    plt.plot(history_accuracy, label='Train Accuracy')\n",
    "    plt.plot(history_val_accuracy, label='Validation Accuracy')\n",
    "    plt.axvline(x=len(vgg19_history_initial.history['accuracy']), color='r', linestyle='--', label='Start Fine-Tuning')\n",
    "    plt.title('VGG19+LSTM Model Accuracy')\n",
    "    plt.xlabel('Epoch')\n",
    "    plt.ylabel('Accuracy')\n",
    "    plt.legend()\n",
    "\n",
    "    # Loss\n",
    "    plt.subplot(1, 2, 2)\n",
    "    plt.plot(history_loss, label='Train Loss')\n",
    "    plt.plot(history_val_loss, label='Validation Loss')\n",
    "    plt.axvline(x=len(vgg19_history_initial.history['loss']), color='r', linestyle='--', label='Start Fine-Tuning')\n",
    "    plt.title('VGG19+LSTM Model Loss')\n",
    "    plt.xlabel('Epoch')\n",
    "    plt.ylabel('Loss')\n",
    "    plt.legend()\n",
    "\n",
    "    plt.tight_layout()\n",
    "    plt.show()\n",
    "except Exception as e:\n",
    "    print(f\"Error plotting training history: {str(e)}\")\n",
    "\n",
    "# Generate confusion matrix and classification report\n",
    "from sklearn.metrics import classification_report, confusion_matrix\n",
    "import seaborn as sns\n",
    "\n",
    "# Get predictions\n",
    "try:\n",
    "    predictions = vgg19_lstm_model.predict(test_gen.as_dataset())\n",
    "    predicted_classes = np.argmax(predictions, axis=1)\n",
    "    true_classes = np.argmax(labels_test, axis=1)\n",
    "\n",
    "    # Verify shapes\n",
    "    print(f\"True classes shape: {true_classes.shape}\")\n",
    "    print(f\"Predicted classes shape: {predicted_classes.shape}\")\n",
    "    assert len(true_classes) == len(predicted_classes), \"Sample counts do not match!\"\n",
    "\n",
    "    # Generate classification report\n",
    "    print(\"\\nVGG19+LSTM Classification Report:\")\n",
    "    print(classification_report(true_classes, predicted_classes, target_names=CLASSES_LIST))\n",
    "\n",
    "    # Plot confusion matrix\n",
    "    cm = confusion_matrix(true_classes, predicted_classes)\n",
    "    plt.figure(figsize=(8, 6))\n",
    "    sns.heatmap(cm, annot=True, fmt='d', cmap='Blues', xticklabels=CLASSES_LIST, yticklabels=CLASSES_LIST)\n",
    "    plt.xlabel('Predicted')\n",
    "    plt.ylabel('True')\n",
    "    plt.title('VGG19+LSTM Confusion Matrix')\n",
    "    plt.show()\n",
    "except Exception as e:\n",
    "    print(f\"Error during prediction or plotting: {str(e)}\")\n",
    "    import traceback\n",
    "    traceback.print_exc()"
   ]
  },
  {
   "cell_type": "code",
   "execution_count": 55,
   "id": "a43dcd73",
   "metadata": {
    "execution": {
     "iopub.execute_input": "2025-07-11T12:35:51.006649Z",
     "iopub.status.busy": "2025-07-11T12:35:51.006034Z",
     "iopub.status.idle": "2025-07-11T12:35:58.618010Z",
     "shell.execute_reply": "2025-07-11T12:35:58.617335Z"
    },
    "papermill": {
     "duration": 7.976191,
     "end_time": "2025-07-11T12:35:58.619262",
     "exception": false,
     "start_time": "2025-07-11T12:35:50.643071",
     "status": "completed"
    },
    "tags": []
   },
   "outputs": [
    {
     "name": "stdout",
     "output_type": "stream",
     "text": [
      "\u001b[1m18/18\u001b[0m \u001b[32m━━━━━━━━━━━━━━━━━━━━\u001b[0m\u001b[37m\u001b[0m \u001b[1m6s\u001b[0m 264ms/step - accuracy: 0.9965 - loss: 0.1788\n"
     ]
    }
   ],
   "source": [
    "# previous code\n",
    "model_evaluation_history = vgg19_lstm_model.evaluate(features_test, labels_test)"
   ]
  }
 ],
 "metadata": {
  "kaggle": {
   "accelerator": "nvidiaTeslaT4",
   "dataSources": [
    {
     "datasetId": 1357563,
     "sourceId": 2256095,
     "sourceType": "datasetVersion"
    },
    {
     "datasetId": 7763484,
     "sourceId": 12338519,
     "sourceType": "datasetVersion"
    },
    {
     "datasetId": 7801555,
     "sourceId": 12373067,
     "sourceType": "datasetVersion"
    },
    {
     "datasetId": 7801884,
     "sourceId": 12373562,
     "sourceType": "datasetVersion"
    }
   ],
   "dockerImageVersionId": 31090,
   "isGpuEnabled": true,
   "isInternetEnabled": true,
   "language": "python",
   "sourceType": "notebook"
  },
  "kernelspec": {
   "display_name": "Python 3",
   "language": "python",
   "name": "python3"
  },
  "language_info": {
   "codemirror_mode": {
    "name": "ipython",
    "version": 3
   },
   "file_extension": ".py",
   "mimetype": "text/x-python",
   "name": "python",
   "nbconvert_exporter": "python",
   "pygments_lexer": "ipython3",
   "version": "3.11.13"
  },
  "papermill": {
   "default_parameters": {},
   "duration": 2331.685713,
   "end_time": "2025-07-11T12:36:02.200463",
   "environment_variables": {},
   "exception": null,
   "input_path": "__notebook__.ipynb",
   "output_path": "__notebook__.ipynb",
   "parameters": {},
   "start_time": "2025-07-11T11:57:10.514750",
   "version": "2.6.0"
  }
 },
 "nbformat": 4,
 "nbformat_minor": 5
}
