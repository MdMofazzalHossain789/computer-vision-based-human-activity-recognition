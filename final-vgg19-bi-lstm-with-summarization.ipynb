{
 "cells": [
  {
   "cell_type": "markdown",
   "id": "444ad650",
   "metadata": {
    "papermill": {
     "duration": 0.012977,
     "end_time": "2025-07-11T11:56:58.188683",
     "exception": false,
     "start_time": "2025-07-11T11:56:58.175706",
     "status": "completed"
    },
    "tags": []
   },
   "source": [
    "# Initialization\n",
    "## Import Libraries"
   ]
  },
  {
   "cell_type": "code",
   "execution_count": 1,
   "id": "03a75b51",
   "metadata": {
    "_cell_guid": "b1076dfc-b9ad-4769-8c92-a6c4dae69d19",
    "_uuid": "8f2839f25d086af736a60e9eeb907d3b93b6e0e5",
    "execution": {
     "iopub.execute_input": "2025-07-11T11:56:58.213322Z",
     "iopub.status.busy": "2025-07-11T11:56:58.213045Z",
     "iopub.status.idle": "2025-07-11T11:57:21.570850Z",
     "shell.execute_reply": "2025-07-11T11:57:21.570054Z"
    },
    "papermill": {
     "duration": 23.371242,
     "end_time": "2025-07-11T11:57:21.572235",
     "exception": false,
     "start_time": "2025-07-11T11:56:58.200993",
     "status": "completed"
    },
    "tags": []
   },
   "outputs": [
    {
     "name": "stderr",
     "output_type": "stream",
     "text": [
      "2025-07-11 11:57:01.501992: E external/local_xla/xla/stream_executor/cuda/cuda_fft.cc:477] Unable to register cuFFT factory: Attempting to register factory for plugin cuFFT when one has already been registered\n",
      "WARNING: All log messages before absl::InitializeLog() is called are written to STDERR\n",
      "E0000 00:00:1752235021.845740      19 cuda_dnn.cc:8310] Unable to register cuDNN factory: Attempting to register factory for plugin cuDNN when one has already been registered\n",
      "E0000 00:00:1752235021.946626      19 cuda_blas.cc:1418] Unable to register cuBLAS factory: Attempting to register factory for plugin cuBLAS when one has already been registered\n"
     ]
    }
   ],
   "source": [
    "# install librarires\n",
    "import os\n",
    "import tensorflow as tf\n",
    "import numpy as np\n",
    "import random"
   ]
  },
  {
   "cell_type": "markdown",
   "id": "95cd266e",
   "metadata": {
    "papermill": {
     "duration": 0.00988,
     "end_time": "2025-07-11T11:57:21.592707",
     "exception": false,
     "start_time": "2025-07-11T11:57:21.582827",
     "status": "completed"
    },
    "tags": []
   },
   "source": [
    "## ℹ️ Set Global Constants"
   ]
  },
  {
   "cell_type": "code",
   "execution_count": 2,
   "id": "f9c1ae74",
   "metadata": {
    "execution": {
     "iopub.execute_input": "2025-07-11T11:57:21.617719Z",
     "iopub.status.busy": "2025-07-11T11:57:21.617150Z",
     "iopub.status.idle": "2025-07-11T11:57:21.633565Z",
     "shell.execute_reply": "2025-07-11T11:57:21.632834Z"
    },
    "papermill": {
     "duration": 0.032196,
     "end_time": "2025-07-11T11:57:21.634646",
     "exception": false,
     "start_time": "2025-07-11T11:57:21.602450",
     "status": "completed"
    },
    "tags": []
   },
   "outputs": [
    {
     "name": "stdout",
     "output_type": "stream",
     "text": [
      "Msrdailyactivity3D Rgb Videos Only\n",
      "There are total 16 classes, selected 16 classes\n",
      "Setting 20/class to train the model.\n",
      "Image size 128x128 with 5 sequence length\n",
      "Dropout rate: 0.5\n",
      "Train-Test split ratio 80/20\n",
      "Validation data from Train set 20.0%\n"
     ]
    }
   ],
   "source": [
    "# global variables\n",
    "# set dataset directories\n",
    "\n",
    "\n",
    "DATASET_DIR = \"/kaggle/input/msrdailyactivity3d-rgb-videos-only\"\n",
    "DATASET_NAME = DATASET_DIR.split(\"/\")[-1].replace(\"-\", \" \").title()\n",
    "\n",
    "print(DATASET_NAME)\n",
    "\n",
    "ALL_CLASS_NAMES = os.listdir(DATASET_DIR)\n",
    "\n",
    "# Global constant variables -> \n",
    "NO_OF_CLASSES = len(ALL_CLASS_NAMES)\n",
    "CLASSES_LIST = ALL_CLASS_NAMES[:NO_OF_CLASSES]\n",
    "\n",
    "# Model Configuration\n",
    "IMAGE_HEIGHT, IMAGE_WIDTH = 128, 128\n",
    "SEQUENCE_LENGTH = 5\n",
    "\n",
    "# set drop out rate\n",
    "DROPOUT_RATE = 0.5\n",
    "\n",
    "# set datas\n",
    "MAX_VIDEO_PER_CLASS = 20\n",
    "\n",
    "# split dataset\n",
    "TEST_SIZE = 0.20\n",
    "\n",
    "# model fit parameters\n",
    "EPOCHS = 30\n",
    "BATCH_SIZE = 24\n",
    "VALIDATION_SPLIT = 0.20\n",
    "\n",
    "# augmentation values\n",
    "NOISE_FACTOR = 0.02\n",
    "SHEAR_X= 1\n",
    "SHEAR_Y= 1\n",
    "\n",
    "# give a name of the model to save\n",
    "MODEL_NAME = \"Xception\"\n",
    "\n",
    "print(f\"There are total {len(ALL_CLASS_NAMES)} classes, selected {NO_OF_CLASSES} classes\")\n",
    "print(f\"Setting {MAX_VIDEO_PER_CLASS}/class to train the model.\")\n",
    "print(f\"Image size {IMAGE_HEIGHT}x{IMAGE_WIDTH} with {SEQUENCE_LENGTH} sequence length\")\n",
    "print(f\"Dropout rate: {DROPOUT_RATE}\")\n",
    "print(f\"Train-Test split ratio {int((1-TEST_SIZE)*100)}/{int(TEST_SIZE*100)}\")\n",
    "print(f\"Validation data from Train set {VALIDATION_SPLIT*100}%\")"
   ]
  },
  {
   "cell_type": "markdown",
   "id": "42e12cd5",
   "metadata": {
    "papermill": {
     "duration": 0.011264,
     "end_time": "2025-07-11T11:57:21.655982",
     "exception": false,
     "start_time": "2025-07-11T11:57:21.644718",
     "status": "completed"
    },
    "tags": []
   },
   "source": [
    "## Set `Seed` Values"
   ]
  },
  {
   "cell_type": "code",
   "execution_count": 3,
   "id": "2e97734e",
   "metadata": {
    "execution": {
     "iopub.execute_input": "2025-07-11T11:57:21.678714Z",
     "iopub.status.busy": "2025-07-11T11:57:21.678078Z",
     "iopub.status.idle": "2025-07-11T11:57:21.682587Z",
     "shell.execute_reply": "2025-07-11T11:57:21.681975Z"
    },
    "papermill": {
     "duration": 0.016997,
     "end_time": "2025-07-11T11:57:21.683733",
     "exception": false,
     "start_time": "2025-07-11T11:57:21.666736",
     "status": "completed"
    },
    "tags": []
   },
   "outputs": [],
   "source": [
    "# set seeed to get similar values\n",
    "seed_constant = 27\n",
    "np.random.seed(seed_constant)\n",
    "random.seed(seed_constant)\n",
    "tf.random.set_seed(seed_constant)"
   ]
  },
  {
   "cell_type": "markdown",
   "id": "ba6a97c5",
   "metadata": {
    "papermill": {
     "duration": 0.016216,
     "end_time": "2025-07-11T11:57:21.710290",
     "exception": false,
     "start_time": "2025-07-11T11:57:21.694074",
     "status": "completed"
    },
    "tags": []
   },
   "source": [
    "# 📌 Function Definition\n",
    "## Resize and Frame Extraction"
   ]
  },
  {
   "cell_type": "code",
   "execution_count": 4,
   "id": "aa641971",
   "metadata": {
    "execution": {
     "iopub.execute_input": "2025-07-11T11:57:21.736035Z",
     "iopub.status.busy": "2025-07-11T11:57:21.735811Z",
     "iopub.status.idle": "2025-07-11T11:57:22.598190Z",
     "shell.execute_reply": "2025-07-11T11:57:22.597525Z"
    },
    "papermill": {
     "duration": 0.875343,
     "end_time": "2025-07-11T11:57:22.599798",
     "exception": false,
     "start_time": "2025-07-11T11:57:21.724455",
     "status": "completed"
    },
    "tags": []
   },
   "outputs": [],
   "source": [
    "import matplotlib.pyplot as plt\n",
    "import os\n",
    "import cv2\n",
    "import numpy as np\n",
    "from sklearn.cluster import KMeans\n",
    "from sklearn.metrics import silhouette_score\n",
    "from skimage.metrics import structural_similarity as ssim\n",
    "\n",
    "# Placeholder for kmeans_silhouette function\n",
    "def kmeans_silhouette(sub_features):\n",
    "    if len(sub_features) < 2:\n",
    "        return [], [], 1, [0]  # Return empty results for insufficient frames\n",
    "    \n",
    "    # Try different k values (2 to min(5, len(sub_features)))\n",
    "    best_k = 2\n",
    "    best_labels = None\n",
    "    best_centers = None\n",
    "    best_score = -1\n",
    "    best_indices = []\n",
    "    \n",
    "    for k in range(2, min(6, len(sub_features) + 1)):\n",
    "        kmeans = KMeans(n_clusters=k, random_state=42, n_init='auto')\n",
    "        labels = kmeans.fit_predict(sub_features)\n",
    "        if len(np.unique(labels)) > 1:  # Silhouette score requires at least 2 clusters\n",
    "            score = silhouette_score(sub_features, labels)\n",
    "            if score > best_score:\n",
    "                best_score = score\n",
    "                best_k = k\n",
    "                best_labels = labels\n",
    "                best_centers = kmeans.cluster_centers_\n",
    "        \n",
    "        # Find indices of frames closest to cluster centers\n",
    "        indices = []\n",
    "        for i in range(best_k):\n",
    "            if i in labels:\n",
    "                cluster_points = sub_features[labels == i]\n",
    "                distances = np.linalg.norm(cluster_points - best_centers[i], axis=1)\n",
    "                if len(distances) > 0:\n",
    "                    idx = np.argmin(distances)\n",
    "                    indices.append(idx)\n",
    "    \n",
    "    return best_labels, best_centers, best_k, indices\n",
    "\n",
    "# Placeholder for redundancy function\n",
    "def redundancy(video_path, indices, threshold=0.94):\n",
    "    if not indices:\n",
    "        return []\n",
    "    \n",
    "    video_reader = cv2.VideoCapture(video_path)\n",
    "    if not video_reader.isOpened():\n",
    "        return indices\n",
    "    \n",
    "    # Compute histogram for each frame\n",
    "    def get_histogram(frame):\n",
    "        gray = cv2.cvtColor(frame, cv2.COLOR_BGR2GRAY)\n",
    "        hist = cv2.calcHist([gray], [0], None, [256], [0, 256])\n",
    "        cv2.normalize(hist, hist)\n",
    "        return hist\n",
    "    \n",
    "    filtered_indices = [indices[0]]  # Keep first index\n",
    "    prev_frame = None\n",
    "    \n",
    "    for idx in indices[1:]:\n",
    "        video_reader.set(cv2.CAP_PROP_POS_FRAMES, idx)\n",
    "        success, frame = video_reader.read()\n",
    "        if not success:\n",
    "            continue\n",
    "        hist = get_histogram(frame)\n",
    "        \n",
    "        if prev_frame is not None:\n",
    "            # Compute histogram correlation\n",
    "            corr = cv2.compareHist(get_histogram(prev_frame), hist, cv2.HISTCMP_CORREL)\n",
    "            if corr < threshold:  # Keep frame if significantly different\n",
    "                filtered_indices.append(idx)\n",
    "        prev_frame = frame\n",
    "    \n",
    "    video_reader.release()\n",
    "    return filtered_indices\n",
    "\n",
    "# Modified scen_keyframe_extraction function\n",
    "def frames_extraction(video_path,  file_name, video_index, is_last_video, num_segments=SEQUENCE_LENGTH):\n",
    "    # Open video to get frame count\n",
    "    video_reader = cv2.VideoCapture(video_path)\n",
    "    if not video_reader.isOpened():\n",
    "        raise ValueError(f\"Failed to open video {video_path}.\")\n",
    "    \n",
    "    frame_count = int(video_reader.get(cv2.CAP_PROP_FRAME_COUNT))\n",
    "    if frame_count == 0:\n",
    "        video_reader.release()\n",
    "        raise ValueError(f\"No frames in video {video_path}.\")\n",
    "    \n",
    "    # Generate synthetic scene segmentation (divide video into equal segments)\n",
    "    segment_length = frame_count // num_segments\n",
    "    number_list = []\n",
    "    for i in range(num_segments):\n",
    "        start = i * segment_length\n",
    "        end = min((i + 1) * segment_length, frame_count)\n",
    "        number_list.extend([start, end])\n",
    "\n",
    "    features = []\n",
    "    frame_idx = 0\n",
    "    \n",
    "    while True:\n",
    "        success, frame = video_reader.read()\n",
    "        if not success:\n",
    "            break\n",
    "    \n",
    "        gray = cv2.cvtColor(frame, cv2.COLOR_BGR2GRAY)\n",
    "        hist = cv2.calcHist([gray], [0], None, [256], [0, 256])\n",
    "        cv2.normalize(hist, hist)\n",
    "        features.append(hist.flatten())\n",
    "        \n",
    "        frame_idx += 1\n",
    "    \n",
    "    video_reader.release()\n",
    "    features = np.asarray(features)\n",
    "    \n",
    "    # Clustering at each shot to obtain keyframe sequence numbers\n",
    "    keyframe_index = []\n",
    "    for i in range(0, len(number_list), 2):\n",
    "        start = number_list[i]\n",
    "        end = min(number_list[i + 1], len(features))\n",
    "        if end <= start:\n",
    "            continue\n",
    "        sub_features = features[start:end]\n",
    "        best_labels, best_centers, k, indices = kmeans_silhouette(sub_features)\n",
    "        final_index = [x + start for x in indices if x + start < frame_count]\n",
    "        final_index = redundancy(video_path, final_index, 0.94)\n",
    "        keyframe_index += final_index\n",
    "    \n",
    "    keyframe_index = sorted(list(set(keyframe_index)))  # Remove duplicates and sort\n",
    "    # print(\"final_index:\", keyframe_index, end=\"\\r\", flush=True)\n",
    "    \n",
    "    # Visualize keyframes\n",
    "    num_keyframes = len(keyframe_index)\n",
    "    if num_keyframes == 0:\n",
    "        print(\"No keyframes extracted.\")\n",
    "        return\n",
    "    \n",
    "    video_reader = cv2.VideoCapture(video_path)\n",
    "    class_name = os.path.basename(os.path.dirname(video_path))\n",
    "    # print(keyframe_index)\n",
    "    frames=[]\n",
    "    frames_index=[]\n",
    "    for idx, frame_idx in enumerate(keyframe_index, 1):\n",
    "        video_reader.set(cv2.CAP_PROP_POS_FRAMES, frame_idx)\n",
    "        success, frame = video_reader.read()\n",
    "        if not success:\n",
    "            continue\n",
    "        rgb_frame = cv2.cvtColor(frame, cv2.COLOR_BGR2RGB)\n",
    "        try:\n",
    "            resized_frame = cv2.resize(rgb_frame, (IMAGE_WIDTH, IMAGE_HEIGHT), interpolation=cv2.INTER_AREA)\n",
    "            normalized_frame = resized_frame.astype('float32') / 255.0\n",
    "\n",
    "            \n",
    "            if normalized_frame.shape != (IMAGE_HEIGHT, IMAGE_WIDTH, 3):\n",
    "                print(f\"Warning: Frame at index {frame_idx} has incorrect shape: {normalized_frame.shape}\")\n",
    "                continue  # Skip malformed frame\n",
    "            if is_last_video and idx == num_keyframes:\n",
    "                print(f\"Extracted {len(frames)+1} frames from file {video_index+1}: {file_name}\", end=\"\\n\", flush=True)\n",
    "            else:\n",
    "                print(f\"Extracted {len(frames)+1} frames from file {video_index+1}: {file_name}\", end=\"\\r\", flush=True)\n",
    "                \n",
    "            frames.append(normalized_frame)\n",
    "            frames_index.append(frame_idx)\n",
    "        \n",
    "        except Exception as e:\n",
    "            print(f\"Error processing frame {frame_idx}: {e}\")\n",
    "            continue\n",
    "    video_reader.release()\n",
    "\n",
    "    # handle inhomogenous frames or shape mismatch\n",
    "    if len(frames) > SEQUENCE_LENGTH:\n",
    "        # if it is greater than sequence length then leave the last frames\n",
    "        frames=frames[:SEQUENCE_LENGTH]\n",
    "    \n",
    "    frames=np.asarray(frames)\n",
    "    frames_index=np.asarray(frames_index)\n",
    "    return frames, frames_index\n",
    "\n",
    "    \n",
    "# # Run the keyframe extraction\n",
    "# sequence, index = scen_keyframe_extraction(video_path, num_segments=5)\n",
    "\n",
    "# print(sequence.shape)\n",
    "\n",
    "# show_frames(sequence, index)"
   ]
  },
  {
   "cell_type": "markdown",
   "id": "b1894a29",
   "metadata": {
    "papermill": {
     "duration": 0.009818,
     "end_time": "2025-07-11T11:57:22.628479",
     "exception": false,
     "start_time": "2025-07-11T11:57:22.618661",
     "status": "completed"
    },
    "tags": []
   },
   "source": [
    "## Create Dataset"
   ]
  },
  {
   "cell_type": "code",
   "execution_count": 5,
   "id": "054f3ab9",
   "metadata": {
    "execution": {
     "iopub.execute_input": "2025-07-11T11:57:22.650350Z",
     "iopub.status.busy": "2025-07-11T11:57:22.650053Z",
     "iopub.status.idle": "2025-07-11T11:57:22.661037Z",
     "shell.execute_reply": "2025-07-11T11:57:22.660345Z"
    },
    "papermill": {
     "duration": 0.02379,
     "end_time": "2025-07-11T11:57:22.662624",
     "exception": false,
     "start_time": "2025-07-11T11:57:22.638834",
     "status": "completed"
    },
    "tags": []
   },
   "outputs": [],
   "source": [
    "# RUN create dataset function definition\n",
    "def create_dataset(dataset_dir,\n",
    "                   classes_list, \n",
    "                   sequence_length=SEQUENCE_LENGTH, \n",
    "                   image_height=IMAGE_HEIGHT, \n",
    "                   image_width=IMAGE_WIDTH, \n",
    "                   max_videos_per_class=None,\n",
    "                   augmentations=False\n",
    "                  ):\n",
    "    \n",
    "    # Initialize lists to store features, labels, and video file paths\n",
    "    videos = []\n",
    "    labels = []\n",
    "\n",
    "    # Check if dataset directory exists\n",
    "    if not os.path.exists(dataset_dir):\n",
    "        raise FileNotFoundError(f\"Dataset directory not found: {dataset_dir}\")\n",
    "\n",
    "    # Iterate through all classes in the classes list\n",
    "    for class_index, class_name in enumerate(classes_list):\n",
    "        class_path = os.path.join(dataset_dir, class_name)\n",
    "        \n",
    "        # Check if class directory exists\n",
    "        if not os.path.exists(class_path):\n",
    "            print(f\"Warning: Class directory not found: {class_path}\")\n",
    "            continue\n",
    "\n",
    "        print(f'Extracting Data of Class: {class_name}')\n",
    "\n",
    "        # Get the list of video files in the class directory\n",
    "        files_list = os.listdir(class_path)\n",
    "\n",
    "        # Limit the number of videos if specified\n",
    "        if max_videos_per_class is not None:\n",
    "            files_list = files_list[:max_videos_per_class]\n",
    "\n",
    "        # Iterate through all video files\n",
    "        is_last_video=False\n",
    "        for (index, file_name) in enumerate(files_list):\n",
    "            video_file_path = os.path.join(class_path, file_name)\n",
    "\n",
    "            if index == (len(files_list)-1):\n",
    "                is_last_video=True\n",
    "                # print(f'Extracting frames from file {index+1}: {file_name}', flush=True)\n",
    "            else:\n",
    "                is_last_video=False\n",
    "                # print(f'Extracting frames from file {index+1}: {file_name}', end=\"\\r\", flush=True)\n",
    "            \n",
    "            # Extract frames using the updated frames_extraction function\n",
    "            # frames = frames_extraction(video_file_path, \n",
    "            #                            sequence_length, \n",
    "            #                            image_height, \n",
    "            #                            image_width)\n",
    "            frames, index = frames_extraction(video_path=video_file_path, \n",
    "                                                     file_name=file_name,\n",
    "                                                     video_index=index,\n",
    "                                                     is_last_video=is_last_video,\n",
    "                                                     num_segments=SEQUENCE_LENGTH)\n",
    "\n",
    "            # Skip videos where frame extraction failed\n",
    "            if frames is None:\n",
    "                print(f\"Skipping video {video_file_path} due to frame extraction failure\")\n",
    "                continue\n",
    "\n",
    "            # Append the data to respective lists\n",
    "            videos.append(frames)\n",
    "            labels.append(class_index)\n",
    "\n",
    "    # Convert lists to numpy arrays\n",
    "    if not videos:\n",
    "        raise ValueError(\"No valid videos were processed. Check dataset or parameters.\")\n",
    "    videos = np.asarray(videos)\n",
    "    labels = np.array(labels)\n",
    "\n",
    "    print(f\"Dataset created with {len(videos)} videos\")\n",
    "    print(f\"Features shape: {videos.shape}\")\n",
    "    print(f\"Labels shape: {labels.shape}\")\n",
    "\n",
    "    return videos, labels"
   ]
  },
  {
   "cell_type": "markdown",
   "id": "2a182809",
   "metadata": {
    "papermill": {
     "duration": 0.009765,
     "end_time": "2025-07-11T11:57:22.690518",
     "exception": false,
     "start_time": "2025-07-11T11:57:22.680753",
     "status": "completed"
    },
    "tags": []
   },
   "source": [
    "## 🪄 Video Data Generator"
   ]
  },
  {
   "cell_type": "code",
   "execution_count": 6,
   "id": "f14093e6",
   "metadata": {
    "execution": {
     "iopub.execute_input": "2025-07-11T11:57:22.711498Z",
     "iopub.status.busy": "2025-07-11T11:57:22.711229Z",
     "iopub.status.idle": "2025-07-11T11:57:22.804802Z",
     "shell.execute_reply": "2025-07-11T11:57:22.804139Z"
    },
    "papermill": {
     "duration": 0.105558,
     "end_time": "2025-07-11T11:57:22.805961",
     "exception": false,
     "start_time": "2025-07-11T11:57:22.700403",
     "status": "completed"
    },
    "tags": []
   },
   "outputs": [],
   "source": [
    "from tensorflow.keras.utils import Sequence, to_categorical\n",
    "import tensorflow as tf\n",
    "import numpy as np\n",
    "import cv2\n",
    "\n",
    "\n",
    "\n",
    "\n",
    "class VideoDataGenerator(Sequence):\n",
    "    def __init__(self, videos, labels, batch_size, is_training=False):\n",
    "        self.videos = list(videos)  # List of video file paths\n",
    "        self.labels = list(labels)  # List or array of labels encoded\n",
    "        self.batch_size = batch_size\n",
    "        self.indices = np.arange(len(self.videos))  # For shuffling\n",
    "        self.is_training = is_training  # Flag to control whether augmentation is applied\n",
    "        self.temp_videos=[]\n",
    "        self.temp_labels=[]\n",
    "        \n",
    "        \n",
    "        print(f\"Total {len(videos)} videos and {len(labels)} classes\")\n",
    "\n",
    "    def __len__(self):\n",
    "        # Return the number of batches per epoch\n",
    "        return int(np.ceil(len(self.videos) / self.batch_size))\n",
    "\n",
    "    def __getitem__(self, idx):\n",
    "        # Get batch indices\n",
    "        batch_indices = self.indices[idx * self.batch_size:(idx + 1) * self.batch_size]\n",
    "        \n",
    "        # Handle case where batch_indices is empty\n",
    "        if len(batch_indices) == 0:\n",
    "            return np.array([], dtype=np.float32), np.array([], dtype=np.float32)\n",
    "        \n",
    "        # Initialize lists to store frames and labels\n",
    "        all_frames = []\n",
    "        all_labels = []\n",
    "        \n",
    "        # Process each video in the batch\n",
    "        for i, index in enumerate(batch_indices):\n",
    "            sequence = self.videos[index]\n",
    "            label = self.labels[index]\n",
    "            \n",
    "            # Load and process video\n",
    "            # sequence = frames_extraction(video_path)\n",
    "\n",
    "            # if sequence is not None:\n",
    "            #     # Apply augmentations: 1 original + 4 augmentations (horizontal flip, shear, rotation, noise)\n",
    "            #     augmented_sequences = [sequence]  # Add original sequence\n",
    "\n",
    "            #     if self.is_training:\n",
    "            #         # Apply augmentations\n",
    "            #         augmented_sequences.append(np.array(horizontal_flip(sequence)))  # Horizontal Flip\n",
    "            #         augmented_sequences.append(np.array(apply_shear_frames(sequence, shear_right=0)))  # Random Shear\n",
    "            #         augmented_sequences.append(np.array(apply_shear_frames(sequence, shear_right=1)))  # Random Rotation\n",
    "            #         augmented_sequences.append(np.array(noise_video(sequence)))  # Salt and Pepper Noise\n",
    "\n",
    "            #     # Add augmented sequences to the batch\n",
    "            #     all_frames.extend(augmented_sequences)\n",
    "            #     all_labels.extend([label] * len(augmented_sequences))  # Each augmentation has the same label\n",
    "\n",
    "            \n",
    "            # Append the sequence and label\n",
    "            all_frames.append(sequence)\n",
    "            all_labels.append(label)\n",
    "        \n",
    "        # Convert to numpy arrays\n",
    "        all_frames = np.array(all_frames, dtype=np.float32)\n",
    "        all_labels = np.array(all_labels)\n",
    "            \n",
    "        \n",
    "        return all_frames, all_labels\n",
    "    def add(self, new_videos, new_labels):\n",
    "        self.temp_videos.extend(new_videos)\n",
    "        self.temp_labels.extend(new_labels)\n",
    "    \n",
    "    def confirm(self):\n",
    "        print(f\"Adding {len(self.temp_videos)} videos with {len(self.temp_labels)} classes.\")\n",
    "        self.videos.extend(self.temp_videos)\n",
    "        self.labels.extend(self.temp_labels)\n",
    "        print(f\"Successfully added - {len(self.temp_videos)} videos and {len(self.temp_labels)} classes.\")\n",
    "        self.temp_videos=[]\n",
    "        self.temp_labels=[]\n",
    "        self.indices = np.arange(len(self.videos))\n",
    "        print(f\"Now Total - {len(self.videos)} videos and {len(self.labels)} classes.\")\n",
    "        print(f\"PENDING for Augmentations - {len(self.temp_videos)} videos and {len(self.temp_labels)} classes.\")\n",
    "    \n",
    "    def on_epoch_end(self):\n",
    "        # Shuffle indices at the end of each epoch\n",
    "        np.random.shuffle(self.indices)\n",
    "\n",
    "    def as_dataset(self):\n",
    "        def generator():\n",
    "            for idx in range(len(self)):\n",
    "                frames, labels = self[idx]\n",
    "                # Skip empty batches\n",
    "                if frames.size == 0:\n",
    "                    continue\n",
    "                yield frames, labels\n",
    "        self.labels=np.array(self.labels)\n",
    "    \n",
    "        # Create a tf.data.Dataset\n",
    "        dataset = tf.data.Dataset.from_generator(\n",
    "            generator,\n",
    "            output_types=(tf.float32, tf.float32),\n",
    "            output_shapes=(\n",
    "                (None, SEQUENCE_LENGTH, IMAGE_HEIGHT, IMAGE_WIDTH, 3),\n",
    "                (None, NO_OF_CLASSES)\n",
    "            )\n",
    "        )\n",
    "        dataset = dataset.prefetch(tf.data.AUTOTUNE)\n",
    "        return dataset"
   ]
  },
  {
   "cell_type": "markdown",
   "id": "1c8904e8",
   "metadata": {
    "papermill": {
     "duration": 0.010111,
     "end_time": "2025-07-11T11:57:22.870700",
     "exception": false,
     "start_time": "2025-07-11T11:57:22.860589",
     "status": "completed"
    },
    "tags": []
   },
   "source": [
    "## Debug and Helpers"
   ]
  },
  {
   "cell_type": "markdown",
   "id": "72552f1a",
   "metadata": {
    "papermill": {
     "duration": 0.010421,
     "end_time": "2025-07-11T11:57:22.891246",
     "exception": false,
     "start_time": "2025-07-11T11:57:22.880825",
     "status": "completed"
    },
    "tags": []
   },
   "source": [
    "## 💫 Augmentation Helper function"
   ]
  },
  {
   "cell_type": "code",
   "execution_count": 7,
   "id": "c93fd41d",
   "metadata": {
    "execution": {
     "iopub.execute_input": "2025-07-11T11:57:22.913119Z",
     "iopub.status.busy": "2025-07-11T11:57:22.912392Z",
     "iopub.status.idle": "2025-07-11T11:57:22.917186Z",
     "shell.execute_reply": "2025-07-11T11:57:22.916707Z"
    },
    "papermill": {
     "duration": 0.016753,
     "end_time": "2025-07-11T11:57:22.918193",
     "exception": false,
     "start_time": "2025-07-11T11:57:22.901440",
     "status": "completed"
    },
    "tags": []
   },
   "outputs": [],
   "source": [
    "import time\n",
    "\n",
    "    \n",
    "\n",
    "def apply_augmentation(augmentation_function, generator, confirm=False, *args, **kwargs):\n",
    "    \n",
    "    for i in range(len(generator)):\n",
    "        batch_videos, batch_labels = generator[i]\n",
    "        augmented_videos=[]\n",
    "        for videos in batch_videos:\n",
    "            augmented_videos.append(augmentation_function(videos, *args, **kwargs))\n",
    "        generator.add(augmented_videos, batch_labels)\n",
    "        print(f\"Processing video {len(generator.temp_videos)}...\", end=\"\\r\", flush=True)\n",
    "        time.sleep(0.5)  # simulate work\n",
    "    if confirm:\n",
    "        generator.confirm()"
   ]
  },
  {
   "cell_type": "markdown",
   "id": "67aa903b",
   "metadata": {
    "papermill": {
     "duration": 0.012369,
     "end_time": "2025-07-11T11:57:22.940794",
     "exception": false,
     "start_time": "2025-07-11T11:57:22.928425",
     "status": "completed"
    },
    "tags": []
   },
   "source": [
    "### Show Frames"
   ]
  },
  {
   "cell_type": "code",
   "execution_count": 8,
   "id": "2e3c7d80",
   "metadata": {
    "execution": {
     "iopub.execute_input": "2025-07-11T11:57:22.963902Z",
     "iopub.status.busy": "2025-07-11T11:57:22.963228Z",
     "iopub.status.idle": "2025-07-11T11:57:22.967263Z",
     "shell.execute_reply": "2025-07-11T11:57:22.966596Z"
    },
    "papermill": {
     "duration": 0.015533,
     "end_time": "2025-07-11T11:57:22.968282",
     "exception": false,
     "start_time": "2025-07-11T11:57:22.952749",
     "status": "completed"
    },
    "tags": []
   },
   "outputs": [],
   "source": [
    "# show frame def\n",
    "import matplotlib.pyplot as plt\n",
    "\n",
    "def show_frame(frame):\n",
    "    plt.figure(figsize=(3,3))\n",
    "    plt.imshow(frame)\n",
    "    plt.axis(\"off\")\n",
    "    plt.tight_layout()"
   ]
  },
  {
   "cell_type": "markdown",
   "id": "5ee271fe",
   "metadata": {
    "papermill": {
     "duration": 0.009881,
     "end_time": "2025-07-11T11:57:22.988372",
     "exception": false,
     "start_time": "2025-07-11T11:57:22.978491",
     "status": "completed"
    },
    "tags": []
   },
   "source": [
    "### Helper Function"
   ]
  },
  {
   "cell_type": "code",
   "execution_count": 9,
   "id": "c4aedec9",
   "metadata": {
    "execution": {
     "iopub.execute_input": "2025-07-11T11:57:23.009676Z",
     "iopub.status.busy": "2025-07-11T11:57:23.009463Z",
     "iopub.status.idle": "2025-07-11T11:57:23.013737Z",
     "shell.execute_reply": "2025-07-11T11:57:23.013031Z"
    },
    "papermill": {
     "duration": 0.016251,
     "end_time": "2025-07-11T11:57:23.014801",
     "exception": false,
     "start_time": "2025-07-11T11:57:22.998550",
     "status": "completed"
    },
    "tags": []
   },
   "outputs": [],
   "source": [
    "def show_frame_vs(frame1, frame2, title1=\"Frame 1\", title2=\"Frame 2\"):\n",
    "    plt.figure(figsize=(10, 5))\n",
    "\n",
    "    # First frame\n",
    "    plt.subplot(1, 2, 1)\n",
    "    plt.imshow(frame1)\n",
    "    plt.title(title1)\n",
    "    plt.axis('off')\n",
    "\n",
    "    # Second frame\n",
    "    plt.subplot(1, 2, 2)\n",
    "    plt.imshow(frame2)\n",
    "    plt.title(title2)\n",
    "    plt.axis('off')\n",
    "\n",
    "    plt.tight_layout()\n",
    "    plt.show()"
   ]
  },
  {
   "cell_type": "code",
   "execution_count": 10,
   "id": "71a00994",
   "metadata": {
    "execution": {
     "iopub.execute_input": "2025-07-11T11:57:23.035775Z",
     "iopub.status.busy": "2025-07-11T11:57:23.035568Z",
     "iopub.status.idle": "2025-07-11T11:57:23.038919Z",
     "shell.execute_reply": "2025-07-11T11:57:23.038469Z"
    },
    "papermill": {
     "duration": 0.014749,
     "end_time": "2025-07-11T11:57:23.039903",
     "exception": false,
     "start_time": "2025-07-11T11:57:23.025154",
     "status": "completed"
    },
    "tags": []
   },
   "outputs": [],
   "source": [
    "# reusable video loop helper function\n",
    "def apply_function(function, videos, *arg, **kwargs):\n",
    "    new_videos=[]\n",
    "    \n",
    "    for video in videos:\n",
    "        new_videos.append(function(video, *arg, **kwargs))\n",
    "        \n",
    "    return new_videos"
   ]
  },
  {
   "cell_type": "code",
   "execution_count": 11,
   "id": "999089bc",
   "metadata": {
    "execution": {
     "iopub.execute_input": "2025-07-11T11:57:23.060572Z",
     "iopub.status.busy": "2025-07-11T11:57:23.060228Z",
     "iopub.status.idle": "2025-07-11T11:57:23.064170Z",
     "shell.execute_reply": "2025-07-11T11:57:23.063533Z"
    },
    "papermill": {
     "duration": 0.015316,
     "end_time": "2025-07-11T11:57:23.065151",
     "exception": false,
     "start_time": "2025-07-11T11:57:23.049835",
     "status": "completed"
    },
    "tags": []
   },
   "outputs": [],
   "source": [
    "# reusable video loop helper function\n",
    "def apply(function, videos, labels, *arg, **kwargs):\n",
    "    new_videos=[]\n",
    "    new_labels=[]\n",
    "    combined=zip(labels, videos)\n",
    "    \n",
    "    for label, video in combined:\n",
    "        new_videos.append(function(video, *arg, **kwargs))\n",
    "        new_labels.append(label)\n",
    "        \n",
    "    new_videos=np.asarray(new_videos)\n",
    "    new_labels=np.asarray(new_labels)\n",
    "    \n",
    "    return new_videos, new_labels"
   ]
  },
  {
   "cell_type": "markdown",
   "id": "52173b9d",
   "metadata": {
    "papermill": {
     "duration": 0.009627,
     "end_time": "2025-07-11T11:57:23.084599",
     "exception": false,
     "start_time": "2025-07-11T11:57:23.074972",
     "status": "completed"
    },
    "tags": []
   },
   "source": [
    "## Salt and Pepper Noise "
   ]
  },
  {
   "cell_type": "code",
   "execution_count": 12,
   "id": "8155665f",
   "metadata": {
    "execution": {
     "iopub.execute_input": "2025-07-11T11:57:23.105132Z",
     "iopub.status.busy": "2025-07-11T11:57:23.104627Z",
     "iopub.status.idle": "2025-07-11T11:57:23.108775Z",
     "shell.execute_reply": "2025-07-11T11:57:23.108268Z"
    },
    "papermill": {
     "duration": 0.015439,
     "end_time": "2025-07-11T11:57:23.109768",
     "exception": false,
     "start_time": "2025-07-11T11:57:23.094329",
     "status": "completed"
    },
    "tags": []
   },
   "outputs": [],
   "source": [
    "# Noise function def\n",
    "\n",
    "def noise_video(video,noise_factor=NOISE_FACTOR):\n",
    "    noisy_video=[]\n",
    "    for frame in video:\n",
    "        # Generate random noise\n",
    "        noise = np.random.rand(*frame.shape)  # Generate random noise\n",
    "        salt_pepper_noise = np.random.choice([0, 1], size=frame.shape, p=[1-noise_factor, noise_factor])\n",
    "        noisy_frame = frame * (1 - salt_pepper_noise) + salt_pepper_noise * np.random.rand(*frame.shape)\n",
    "        noisy_video.append(noisy_frame)\n",
    "    return np.array(noisy_video)"
   ]
  },
  {
   "cell_type": "markdown",
   "id": "8d3e2a5f",
   "metadata": {
    "papermill": {
     "duration": 0.009953,
     "end_time": "2025-07-11T11:57:23.129687",
     "exception": false,
     "start_time": "2025-07-11T11:57:23.119734",
     "status": "completed"
    },
    "tags": []
   },
   "source": [
    "## Horizontal Flip"
   ]
  },
  {
   "cell_type": "code",
   "execution_count": 13,
   "id": "a9b1c2c7",
   "metadata": {
    "execution": {
     "iopub.execute_input": "2025-07-11T11:57:23.150903Z",
     "iopub.status.busy": "2025-07-11T11:57:23.150363Z",
     "iopub.status.idle": "2025-07-11T11:57:23.153907Z",
     "shell.execute_reply": "2025-07-11T11:57:23.153216Z"
    },
    "papermill": {
     "duration": 0.015106,
     "end_time": "2025-07-11T11:57:23.154927",
     "exception": false,
     "start_time": "2025-07-11T11:57:23.139821",
     "status": "completed"
    },
    "tags": []
   },
   "outputs": [],
   "source": [
    "# horizontal flip function def\n",
    "# Testing Flip feautes[0] -> first video\n",
    "def horizontal_flip(video):\n",
    "    return [tf.image.flip_left_right(frame) for frame in video]"
   ]
  },
  {
   "cell_type": "markdown",
   "id": "89cbe8bb",
   "metadata": {
    "papermill": {
     "duration": 0.010564,
     "end_time": "2025-07-11T11:57:23.175667",
     "exception": false,
     "start_time": "2025-07-11T11:57:23.165103",
     "status": "completed"
    },
    "tags": []
   },
   "source": [
    "## Random Shear"
   ]
  },
  {
   "cell_type": "code",
   "execution_count": 14,
   "id": "c02d983f",
   "metadata": {
    "execution": {
     "iopub.execute_input": "2025-07-11T11:57:23.197389Z",
     "iopub.status.busy": "2025-07-11T11:57:23.197129Z",
     "iopub.status.idle": "2025-07-11T11:57:23.202636Z",
     "shell.execute_reply": "2025-07-11T11:57:23.202111Z"
    },
    "papermill": {
     "duration": 0.017713,
     "end_time": "2025-07-11T11:57:23.203761",
     "exception": false,
     "start_time": "2025-07-11T11:57:23.186048",
     "status": "completed"
    },
    "tags": []
   },
   "outputs": [],
   "source": [
    "# random shear function def\n",
    "import numpy as np\n",
    "import tensorflow as tf\n",
    "from scipy.ndimage import affine_transform\n",
    "\n",
    "def apply_shear_frames(frames, shear_right):\n",
    "    return [apply_shear(frame, shear_right) for frame in frames]\n",
    "\n",
    "def apply_shear(frame, shear_right=0):\n",
    "    frame_resized = tf.image.resize(frame, (IMAGE_HEIGHT, IMAGE_WIDTH)).numpy()\n",
    "    if shear_right:\n",
    "        shear_x = 0.09\n",
    "        shear_y = 0.1\n",
    "    else:\n",
    "        shear_x = -0.09\n",
    "        shear_y = 0.3\n",
    "    # Construct the affine matrix for scipy: inverse of the transformation matrix\n",
    "    # scipy applies the inverse transform matrix\n",
    "    shear_matrix = np.array([\n",
    "        [1, shear_x, 0],\n",
    "        [shear_y, 1, 0],\n",
    "        [0, 0, 1]\n",
    "    ], dtype=np.float32)\n",
    "\n",
    "    # Extract 2x2 part for affine_transform\n",
    "    matrix = shear_matrix[:2, :2]\n",
    "\n",
    "    # Offset (no translation)\n",
    "    offset = [0, 0]\n",
    "\n",
    "    # Apply affine transform on each channel separately\n",
    "    sheared = np.zeros_like(frame_resized)\n",
    "    for c in range(3):\n",
    "        sheared[..., c] = affine_transform(\n",
    "            frame_resized[..., c],\n",
    "            matrix=matrix,\n",
    "            offset=offset,\n",
    "            order=1,          # bilinear interpolation\n",
    "            mode='nearest'    # fill_mode\n",
    "        )\n",
    "    return sheared"
   ]
  },
  {
   "cell_type": "markdown",
   "id": "70021f26",
   "metadata": {
    "papermill": {
     "duration": 0.009985,
     "end_time": "2025-07-11T11:57:23.224426",
     "exception": false,
     "start_time": "2025-07-11T11:57:23.214441",
     "status": "completed"
    },
    "tags": []
   },
   "source": [
    "# 📌 Model Related\n",
    "## 🗼 Model Architecture `create_model`"
   ]
  },
  {
   "cell_type": "code",
   "execution_count": 15,
   "id": "d5b1e68f",
   "metadata": {
    "execution": {
     "iopub.execute_input": "2025-07-11T11:57:23.245166Z",
     "iopub.status.busy": "2025-07-11T11:57:23.244977Z",
     "iopub.status.idle": "2025-07-11T11:57:23.262169Z",
     "shell.execute_reply": "2025-07-11T11:57:23.261702Z"
    },
    "papermill": {
     "duration": 0.028715,
     "end_time": "2025-07-11T11:57:23.263149",
     "exception": false,
     "start_time": "2025-07-11T11:57:23.234434",
     "status": "completed"
    },
    "tags": []
   },
   "outputs": [],
   "source": [
    "from tensorflow.keras.applications import Xception\n",
    "from tensorflow.keras.models import Sequential\n",
    "from tensorflow.keras.layers import GlobalAveragePooling2D, TimeDistributed, LSTM, Dropout, Dense\n",
    "from tensorflow.keras.regularizers import l2\n",
    "from tensorflow.keras.layers import BatchNormalization\n",
    "\n",
    "def create_xception_lstm_model(sequence_length, image_height, image_width, classes_list=None, dropout_rate=0.5):\n",
    "    if classes_list is None:\n",
    "        raise ValueError(\"classes_list must be provided to define the output layer size\")\n",
    "\n",
    "    try:\n",
    "        # Load Xception model with pre-trained ImageNet weights\n",
    "        print(\"Loading Xception base model...\")\n",
    "        xception = Xception(\n",
    "            weights='imagenet',\n",
    "            include_top=False,\n",
    "            input_shape=(image_height, image_width, 3),\n",
    "            name=\"Xception\"\n",
    "        )\n",
    "        # Freeze Xception layers\n",
    "        for layer in xception.layers[:-10]:  # Unfreeze last 10 layers\n",
    "            layer.trainable = False\n",
    "        for layer in xception.layers[-10:]:\n",
    "            layer.trainable = True\n",
    "\n",
    "        # Define the Sequential model\n",
    "        model = Sequential([\n",
    "            # InputLayer and TimeDistributed Xception\n",
    "            TimeDistributed(\n",
    "                xception,\n",
    "                input_shape=(sequence_length, image_height, image_width, 3),\n",
    "                name=\"time_distributed\"\n",
    "            ),\n",
    "            # TimeDistributed GlobalAveragePooling2D\n",
    "            TimeDistributed(GlobalAveragePooling2D(), name=\"time_distributed_1\"),\n",
    "            # LSTM layer with 128 units\n",
    "            LSTM(128, activation=\"tanh\", return_sequences=False, kernel_regularizer=l2(0.01), name=\"lstm\"),\n",
    "            \n",
    "            BatchNormalization(name=\"batch_normalization\"),\n",
    "            # Dropout after LSTM\n",
    "            Dropout(dropout_rate, name=\"dropout_lstm\"),\n",
    "            # Dense layer with 512 units\n",
    "            Dense(512, activation=\"relu\", kernel_regularizer=l2(0.01), name=\"dense\"),\n",
    "            # Dropout after Dense\n",
    "            Dropout(dropout_rate + 0.1, name=\"dropout_dense\"),\n",
    "            # Output Dense layer with softmax activation\n",
    "            Dense(len(classes_list), activation=\"softmax\", name=\"dense_1\")\n",
    "        ])\n",
    "        \n",
    "        # Print model summary\n",
    "        print(\"Model architecture created successfully!\")\n",
    "        model.summary()\n",
    "\n",
    "        return model\n",
    "\n",
    "    except Exception as e:\n",
    "        print(f\"Error creating model: {e}\")\n",
    "        return None"
   ]
  },
  {
   "cell_type": "code",
   "execution_count": 16,
   "id": "ecb4b2a7",
   "metadata": {
    "execution": {
     "iopub.execute_input": "2025-07-11T11:57:23.284194Z",
     "iopub.status.busy": "2025-07-11T11:57:23.283679Z",
     "iopub.status.idle": "2025-07-11T11:57:28.494064Z",
     "shell.execute_reply": "2025-07-11T11:57:28.493340Z"
    },
    "papermill": {
     "duration": 5.222015,
     "end_time": "2025-07-11T11:57:28.495249",
     "exception": false,
     "start_time": "2025-07-11T11:57:23.273234",
     "status": "completed"
    },
    "tags": []
   },
   "outputs": [
    {
     "name": "stdout",
     "output_type": "stream",
     "text": [
      "Pre-loading Xception weights...\n"
     ]
    },
    {
     "name": "stderr",
     "output_type": "stream",
     "text": [
      "I0000 00:00:1752235045.201837      19 gpu_device.cc:2022] Created device /job:localhost/replica:0/task:0/device:GPU:0 with 13942 MB memory:  -> device: 0, name: Tesla T4, pci bus id: 0000:00:04.0, compute capability: 7.5\n",
      "I0000 00:00:1752235045.202572      19 gpu_device.cc:2022] Created device /job:localhost/replica:0/task:0/device:GPU:1 with 13942 MB memory:  -> device: 1, name: Tesla T4, pci bus id: 0000:00:05.0, compute capability: 7.5\n"
     ]
    },
    {
     "name": "stdout",
     "output_type": "stream",
     "text": [
      "Downloading data from https://storage.googleapis.com/tensorflow/keras-applications/xception/xception_weights_tf_dim_ordering_tf_kernels_notop.h5\n",
      "\u001b[1m83683744/83683744\u001b[0m \u001b[32m━━━━━━━━━━━━━━━━━━━━\u001b[0m\u001b[37m\u001b[0m \u001b[1m0s\u001b[0m 0us/step\n",
      "Weights loaded successfully!\n"
     ]
    }
   ],
   "source": [
    "# donwload model weights\n",
    "from tensorflow.keras.applications import Xception\n",
    "print(\"Pre-loading Xception weights...\")\n",
    "base_model = Xception(weights='imagenet', include_top=False, input_shape=(IMAGE_HEIGHT, IMAGE_WIDTH, 3))\n",
    "print(\"Weights loaded successfully!\")"
   ]
  },
  {
   "cell_type": "markdown",
   "id": "e8fce81f",
   "metadata": {
    "papermill": {
     "duration": 0.010653,
     "end_time": "2025-07-11T11:57:28.517397",
     "exception": false,
     "start_time": "2025-07-11T11:57:28.506744",
     "status": "completed"
    },
    "tags": []
   },
   "source": [
    "# 📌 Execution\n",
    "## Creating Dataset\n",
    "The following functions are executed\n",
    "- `frame extraction`\n",
    "- `resize`\n",
    "\n",
    "which returns:\n",
    "- `features` - `np.array` of all the videos\n",
    "- `labels` - `np.array` of all the class labels"
   ]
  },
  {
   "cell_type": "code",
   "execution_count": 17,
   "id": "93036214",
   "metadata": {
    "execution": {
     "iopub.execute_input": "2025-07-11T11:57:28.540776Z",
     "iopub.status.busy": "2025-07-11T11:57:28.540158Z",
     "iopub.status.idle": "2025-07-11T12:00:46.556773Z",
     "shell.execute_reply": "2025-07-11T12:00:46.556061Z"
    },
    "papermill": {
     "duration": 198.029981,
     "end_time": "2025-07-11T12:00:46.557900",
     "exception": false,
     "start_time": "2025-07-11T11:57:28.527919",
     "status": "completed"
    },
    "tags": []
   },
   "outputs": [
    {
     "name": "stdout",
     "output_type": "stream",
     "text": [
      "Extracting Data of Class: write on a paper\n",
      "Extracted 5 frames from file 20: a05_s10_e01_rgb.avi\n",
      "Extracting Data of Class: use laptop\n",
      "Extracted 5 frames from file 20: a06_s04_e02_rgb.avi\n",
      "Extracting Data of Class: read book\n",
      "Extracted 5 frames from file 20: a03_s06_e01_rgb.avi\n",
      "Extracting Data of Class: sit still\n",
      "Extracted 5 frames from file 20: a09_s06_e02_rgb.avi\n",
      "Extracting Data of Class: drink\n",
      "Extracted 5 frames from file 20: a01_s01_e01_rgb.avi\n",
      "Extracting Data of Class: sit down\n",
      "Extracted 5 frames from file 20: a16_s06_e02_rgb.avi\n",
      "Extracting Data of Class: use vacuum cleaner\n",
      "Extracted 5 frames from file 20: a07_s10_e01_rgb.avi\n",
      "Extracting Data of Class: eat\n",
      "Extracted 5 frames from file 20: a02_s02_e01_rgb.avi\n",
      "Extracting Data of Class: play guitar\n",
      "Extracted 5 frames from file 20: a14_s06_e02_rgb.avi\n",
      "Extracting Data of Class: lie down on sofa\n",
      "Extracted 5 frames from file 20: a12_s05_e01_rgb.avi\n",
      "Extracting Data of Class: stand up\n",
      "Extracted 5 frames from file 20: a15_s09_e01_rgb.avi\n",
      "Extracting Data of Class: toss paper\n",
      "Extracted 5 frames from file 20: a10_s04_e01_rgb.avi\n",
      "Extracting Data of Class: walk\n",
      "Extracted 5 frames from file 20: a13_s09_e01_rgb.avi\n",
      "Extracting Data of Class: play game\n",
      "Extracted 5 frames from file 20: a11_s01_e02_rgb.avi\n",
      "Extracting Data of Class: cheer up\n",
      "Extracted 5 frames from file 20: a08_s07_e02_rgb.avi\n",
      "Extracting Data of Class: call cellphone\n",
      "Extracted 5 frames from file 20: a04_s06_e01_rgb.avi\n",
      "Dataset created with 320 videos\n",
      "Features shape: (320, 5, 128, 128, 3)\n",
      "Labels shape: (320,)\n"
     ]
    },
    {
     "data": {
      "text/plain": [
       "((320, 5, 128, 128, 3), (320,))"
      ]
     },
     "execution_count": 17,
     "metadata": {},
     "output_type": "execute_result"
    }
   ],
   "source": [
    "# RUN Create the dataset with explicit parameters\n",
    "try:\n",
    "    videos, labels = create_dataset(\n",
    "        dataset_dir=DATASET_DIR,\n",
    "        classes_list=CLASSES_LIST,\n",
    "        sequence_length=SEQUENCE_LENGTH,\n",
    "        image_height=IMAGE_HEIGHT,\n",
    "        image_width=IMAGE_WIDTH,\n",
    "        # Limit to 10 videos per class to manage memory\n",
    "        augmentations=True,\n",
    "        max_videos_per_class=MAX_VIDEO_PER_CLASS\n",
    "    )\n",
    "except FileNotFoundError as e:\n",
    "    print(f\"Error: {e}\")\n",
    "except ValueError as e:\n",
    "    print(f\"Error: {e}\")\n",
    "except Exception as e:\n",
    "    print(f\"Unexpected error: {e}\")\n",
    "\n",
    "videos.shape, labels.shape"
   ]
  },
  {
   "cell_type": "code",
   "execution_count": 18,
   "id": "57e45842",
   "metadata": {
    "execution": {
     "iopub.execute_input": "2025-07-11T12:00:46.700689Z",
     "iopub.status.busy": "2025-07-11T12:00:46.700459Z",
     "iopub.status.idle": "2025-07-11T12:00:46.704547Z",
     "shell.execute_reply": "2025-07-11T12:00:46.703966Z"
    },
    "papermill": {
     "duration": 0.07568,
     "end_time": "2025-07-11T12:00:46.705506",
     "exception": false,
     "start_time": "2025-07-11T12:00:46.629826",
     "status": "completed"
    },
    "tags": []
   },
   "outputs": [
    {
     "name": "stdout",
     "output_type": "stream",
     "text": [
      "Total 320 videos and 320 classes\n"
     ]
    }
   ],
   "source": [
    "video_generator = VideoDataGenerator(\n",
    "    videos=videos,\n",
    "    labels=labels,\n",
    "    batch_size=BATCH_SIZE\n",
    ")"
   ]
  },
  {
   "cell_type": "code",
   "execution_count": 19,
   "id": "9e3067b1",
   "metadata": {
    "execution": {
     "iopub.execute_input": "2025-07-11T12:00:46.847910Z",
     "iopub.status.busy": "2025-07-11T12:00:46.847417Z",
     "iopub.status.idle": "2025-07-11T12:00:46.856892Z",
     "shell.execute_reply": "2025-07-11T12:00:46.856178Z"
    },
    "papermill": {
     "duration": 0.082193,
     "end_time": "2025-07-11T12:00:46.858025",
     "exception": false,
     "start_time": "2025-07-11T12:00:46.775832",
     "status": "completed"
    },
    "tags": []
   },
   "outputs": [
    {
     "data": {
      "text/plain": [
       "((24, 5, 128, 128, 3), (24,))"
      ]
     },
     "execution_count": 19,
     "metadata": {},
     "output_type": "execute_result"
    }
   ],
   "source": [
    "videos, labels = video_generator[3]\n",
    "\n",
    "videos.shape, labels.shape"
   ]
  },
  {
   "cell_type": "code",
   "execution_count": 20,
   "id": "03dffc59",
   "metadata": {
    "execution": {
     "iopub.execute_input": "2025-07-11T12:00:47.000924Z",
     "iopub.status.busy": "2025-07-11T12:00:47.000718Z",
     "iopub.status.idle": "2025-07-11T12:00:47.005085Z",
     "shell.execute_reply": "2025-07-11T12:00:47.004432Z"
    },
    "papermill": {
     "duration": 0.076741,
     "end_time": "2025-07-11T12:00:47.006088",
     "exception": false,
     "start_time": "2025-07-11T12:00:46.929347",
     "status": "completed"
    },
    "tags": []
   },
   "outputs": [
    {
     "data": {
      "text/plain": [
       "320"
      ]
     },
     "execution_count": 20,
     "metadata": {},
     "output_type": "execute_result"
    }
   ],
   "source": [
    "len(video_generator.videos) "
   ]
  },
  {
   "cell_type": "code",
   "execution_count": 21,
   "id": "c9caf2e9",
   "metadata": {
    "execution": {
     "iopub.execute_input": "2025-07-11T12:00:47.147643Z",
     "iopub.status.busy": "2025-07-11T12:00:47.147093Z",
     "iopub.status.idle": "2025-07-11T12:00:47.151436Z",
     "shell.execute_reply": "2025-07-11T12:00:47.150757Z"
    },
    "papermill": {
     "duration": 0.075527,
     "end_time": "2025-07-11T12:00:47.152523",
     "exception": false,
     "start_time": "2025-07-11T12:00:47.076996",
     "status": "completed"
    },
    "tags": []
   },
   "outputs": [
    {
     "data": {
      "text/plain": [
       "14"
      ]
     },
     "execution_count": 21,
     "metadata": {},
     "output_type": "execute_result"
    }
   ],
   "source": [
    "len(video_generator)"
   ]
  },
  {
   "cell_type": "markdown",
   "id": "a32a5819",
   "metadata": {
    "papermill": {
     "duration": 0.069773,
     "end_time": "2025-07-11T12:00:47.292716",
     "exception": false,
     "start_time": "2025-07-11T12:00:47.222943",
     "status": "completed"
    },
    "tags": []
   },
   "source": [
    "## Apply ***horizontal flip*** (Augmentation)"
   ]
  },
  {
   "cell_type": "code",
   "execution_count": 22,
   "id": "70b702ad",
   "metadata": {
    "execution": {
     "iopub.execute_input": "2025-07-11T12:00:47.435570Z",
     "iopub.status.busy": "2025-07-11T12:00:47.434742Z",
     "iopub.status.idle": "2025-07-11T12:00:55.408793Z",
     "shell.execute_reply": "2025-07-11T12:00:55.408201Z"
    },
    "papermill": {
     "duration": 8.046578,
     "end_time": "2025-07-11T12:00:55.410079",
     "exception": false,
     "start_time": "2025-07-11T12:00:47.363501",
     "status": "completed"
    },
    "tags": []
   },
   "outputs": [
    {
     "name": "stdout",
     "output_type": "stream",
     "text": [
      "Processing video 320...\r"
     ]
    }
   ],
   "source": [
    "apply_augmentation(horizontal_flip, video_generator)"
   ]
  },
  {
   "cell_type": "code",
   "execution_count": 23,
   "id": "b1132212",
   "metadata": {
    "execution": {
     "iopub.execute_input": "2025-07-11T12:00:55.554914Z",
     "iopub.status.busy": "2025-07-11T12:00:55.554284Z",
     "iopub.status.idle": "2025-07-11T12:00:55.558369Z",
     "shell.execute_reply": "2025-07-11T12:00:55.557703Z"
    },
    "papermill": {
     "duration": 0.076565,
     "end_time": "2025-07-11T12:00:55.559446",
     "exception": false,
     "start_time": "2025-07-11T12:00:55.482881",
     "status": "completed"
    },
    "tags": []
   },
   "outputs": [
    {
     "name": "stdout",
     "output_type": "stream",
     "text": [
      "Checking Total Videos and Class Count: 320, 320\n",
      "PENDING Total Videos and Class Count: 320, 320\n"
     ]
    }
   ],
   "source": [
    "print(f\"Checking Total Videos and Class Count: {len(video_generator.videos)}, {len(video_generator.labels)}\")\n",
    "print(f\"PENDING Total Videos and Class Count: {len(video_generator.temp_videos)}, {len(video_generator.temp_labels)}\")"
   ]
  },
  {
   "cell_type": "code",
   "execution_count": 24,
   "id": "e87b0c10",
   "metadata": {
    "execution": {
     "iopub.execute_input": "2025-07-11T12:00:55.701777Z",
     "iopub.status.busy": "2025-07-11T12:00:55.701579Z",
     "iopub.status.idle": "2025-07-11T12:00:55.705316Z",
     "shell.execute_reply": "2025-07-11T12:00:55.704740Z"
    },
    "papermill": {
     "duration": 0.076399,
     "end_time": "2025-07-11T12:00:55.706255",
     "exception": false,
     "start_time": "2025-07-11T12:00:55.629856",
     "status": "completed"
    },
    "tags": []
   },
   "outputs": [
    {
     "name": "stdout",
     "output_type": "stream",
     "text": [
      "Adding 320 videos with 320 classes.\n",
      "Successfully added - 320 videos and 320 classes.\n",
      "Now Total - 640 videos and 640 classes.\n",
      "PENDING for Augmentations - 0 videos and 0 classes.\n"
     ]
    }
   ],
   "source": [
    "video_generator.confirm()"
   ]
  },
  {
   "cell_type": "markdown",
   "id": "31340ae5",
   "metadata": {
    "papermill": {
     "duration": 0.11531,
     "end_time": "2025-07-11T12:00:55.892823",
     "exception": false,
     "start_time": "2025-07-11T12:00:55.777513",
     "status": "completed"
    },
    "tags": []
   },
   "source": [
    "## Apply ***Noise*** (Augmentation)"
   ]
  },
  {
   "cell_type": "code",
   "execution_count": 25,
   "id": "02721468",
   "metadata": {
    "execution": {
     "iopub.execute_input": "2025-07-11T12:00:56.039074Z",
     "iopub.status.busy": "2025-07-11T12:00:56.038512Z",
     "iopub.status.idle": "2025-07-11T12:01:17.384865Z",
     "shell.execute_reply": "2025-07-11T12:01:17.384065Z"
    },
    "papermill": {
     "duration": 21.419532,
     "end_time": "2025-07-11T12:01:17.386240",
     "exception": false,
     "start_time": "2025-07-11T12:00:55.966708",
     "status": "completed"
    },
    "tags": []
   },
   "outputs": [
    {
     "name": "stdout",
     "output_type": "stream",
     "text": [
      "Processing video 640...\r"
     ]
    }
   ],
   "source": [
    "apply_augmentation(noise_video, video_generator)"
   ]
  },
  {
   "cell_type": "code",
   "execution_count": 26,
   "id": "4d275698",
   "metadata": {
    "execution": {
     "iopub.execute_input": "2025-07-11T12:01:17.535380Z",
     "iopub.status.busy": "2025-07-11T12:01:17.535096Z",
     "iopub.status.idle": "2025-07-11T12:01:17.539508Z",
     "shell.execute_reply": "2025-07-11T12:01:17.538809Z"
    },
    "papermill": {
     "duration": 0.079733,
     "end_time": "2025-07-11T12:01:17.540710",
     "exception": false,
     "start_time": "2025-07-11T12:01:17.460977",
     "status": "completed"
    },
    "tags": []
   },
   "outputs": [
    {
     "name": "stdout",
     "output_type": "stream",
     "text": [
      "Checking Total Videos and Class Count: 640, 640\n",
      "PENDING Total Videos and Class Count: 640, 640\n"
     ]
    }
   ],
   "source": [
    "print(f\"Checking Total Videos and Class Count: {len(video_generator.videos)}, {len(video_generator.labels)}\")\n",
    "print(f\"PENDING Total Videos and Class Count: {len(video_generator.temp_videos)}, {len(video_generator.temp_labels)}\")"
   ]
  },
  {
   "cell_type": "markdown",
   "id": "69bc80d6",
   "metadata": {
    "papermill": {
     "duration": 0.074251,
     "end_time": "2025-07-11T12:01:17.693203",
     "exception": false,
     "start_time": "2025-07-11T12:01:17.618952",
     "status": "completed"
    },
    "tags": []
   },
   "source": [
    "## Apply ***Random Shear x2*** (Augmentation)"
   ]
  },
  {
   "cell_type": "code",
   "execution_count": 27,
   "id": "85d7da58",
   "metadata": {
    "execution": {
     "iopub.execute_input": "2025-07-11T12:01:17.839830Z",
     "iopub.status.busy": "2025-07-11T12:01:17.839596Z",
     "iopub.status.idle": "2025-07-11T12:02:09.209952Z",
     "shell.execute_reply": "2025-07-11T12:02:09.209255Z"
    },
    "papermill": {
     "duration": 51.44577,
     "end_time": "2025-07-11T12:02:09.211481",
     "exception": false,
     "start_time": "2025-07-11T12:01:17.765711",
     "status": "completed"
    },
    "tags": []
   },
   "outputs": [
    {
     "name": "stdout",
     "output_type": "stream",
     "text": [
      "Processing video 1920...\r"
     ]
    }
   ],
   "source": [
    "apply_augmentation(apply_shear_frames, video_generator, shear_right=0)\n",
    "apply_augmentation(apply_shear_frames, video_generator, shear_right=1)"
   ]
  },
  {
   "cell_type": "code",
   "execution_count": 28,
   "id": "f6450b41",
   "metadata": {
    "execution": {
     "iopub.execute_input": "2025-07-11T12:02:09.383536Z",
     "iopub.status.busy": "2025-07-11T12:02:09.382489Z",
     "iopub.status.idle": "2025-07-11T12:02:09.387857Z",
     "shell.execute_reply": "2025-07-11T12:02:09.387264Z"
    },
    "papermill": {
     "duration": 0.09913,
     "end_time": "2025-07-11T12:02:09.389041",
     "exception": false,
     "start_time": "2025-07-11T12:02:09.289911",
     "status": "completed"
    },
    "tags": []
   },
   "outputs": [
    {
     "name": "stdout",
     "output_type": "stream",
     "text": [
      "Checking Total Videos and Class Count: 640, 640\n",
      "PENDING Total Videos and Class Count: 1920, 1920\n"
     ]
    }
   ],
   "source": [
    "print(f\"Checking Total Videos and Class Count: {len(video_generator.videos)}, {len(video_generator.labels)}\")\n",
    "print(f\"PENDING Total Videos and Class Count: {len(video_generator.temp_videos)}, {len(video_generator.temp_labels)}\")"
   ]
  },
  {
   "cell_type": "code",
   "execution_count": 29,
   "id": "ac8fdd5e",
   "metadata": {
    "execution": {
     "iopub.execute_input": "2025-07-11T12:02:09.549921Z",
     "iopub.status.busy": "2025-07-11T12:02:09.549680Z",
     "iopub.status.idle": "2025-07-11T12:02:09.553681Z",
     "shell.execute_reply": "2025-07-11T12:02:09.553022Z"
    },
    "papermill": {
     "duration": 0.081477,
     "end_time": "2025-07-11T12:02:09.554845",
     "exception": false,
     "start_time": "2025-07-11T12:02:09.473368",
     "status": "completed"
    },
    "tags": []
   },
   "outputs": [
    {
     "name": "stdout",
     "output_type": "stream",
     "text": [
      "Adding 1920 videos with 1920 classes.\n",
      "Successfully added - 1920 videos and 1920 classes.\n",
      "Now Total - 2560 videos and 2560 classes.\n",
      "PENDING for Augmentations - 0 videos and 0 classes.\n"
     ]
    }
   ],
   "source": [
    "# confirm changes to generator\n",
    "video_generator.confirm()"
   ]
  },
  {
   "cell_type": "code",
   "execution_count": 30,
   "id": "cf0e0b00",
   "metadata": {
    "execution": {
     "iopub.execute_input": "2025-07-11T12:02:09.706737Z",
     "iopub.status.busy": "2025-07-11T12:02:09.706521Z",
     "iopub.status.idle": "2025-07-11T12:02:09.710440Z",
     "shell.execute_reply": "2025-07-11T12:02:09.709739Z"
    },
    "papermill": {
     "duration": 0.08084,
     "end_time": "2025-07-11T12:02:09.711708",
     "exception": false,
     "start_time": "2025-07-11T12:02:09.630868",
     "status": "completed"
    },
    "tags": []
   },
   "outputs": [
    {
     "name": "stdout",
     "output_type": "stream",
     "text": [
      "Checking Video Generator Total Videos and Class Count: 2560, 2560\n"
     ]
    }
   ],
   "source": [
    "print(f\"Checking Video Generator Total Videos and Class Count: {len(video_generator.videos)}, {len(video_generator.labels)}\")"
   ]
  },
  {
   "cell_type": "markdown",
   "id": "9a6b5105",
   "metadata": {
    "papermill": {
     "duration": 0.078442,
     "end_time": "2025-07-11T12:02:09.876152",
     "exception": false,
     "start_time": "2025-07-11T12:02:09.797710",
     "status": "completed"
    },
    "tags": []
   },
   "source": [
    "## Cheking (Output)"
   ]
  },
  {
   "cell_type": "code",
   "execution_count": 31,
   "id": "e5a82cfc",
   "metadata": {
    "execution": {
     "iopub.execute_input": "2025-07-11T12:02:10.027715Z",
     "iopub.status.busy": "2025-07-11T12:02:10.027455Z",
     "iopub.status.idle": "2025-07-11T12:02:10.354941Z",
     "shell.execute_reply": "2025-07-11T12:02:10.354195Z"
    },
    "papermill": {
     "duration": 0.404725,
     "end_time": "2025-07-11T12:02:10.356951",
     "exception": false,
     "start_time": "2025-07-11T12:02:09.952226",
     "status": "completed"
    },
    "tags": []
   },
   "outputs": [
    {
     "name": "stdout",
     "output_type": "stream",
     "text": [
      "(24, 5, 128, 128, 3) (24,)\n"
     ]
    },
    {
     "data": {
      "image/png": "[encoded data removed]",
      "text/plain": [
       "<Figure size 1000x500 with 2 Axes>"
      ]
     },
     "metadata": {},
     "output_type": "display_data"
    },
    {
     "name": "stdout",
     "output_type": "stream",
     "text": [
      "Might be two different action, but to check the flipping focus on the door behind.\n"
     ]
    }
   ],
   "source": [
    "# check horizontal flips\n",
    "videos, labels = video_generator[7]\n",
    "videos1, labels1 = video_generator[1]\n",
    "\n",
    "print(videos.shape, labels.shape)\n",
    "\n",
    "show_frame_vs(videos[0,0],videos1[1,0], title1=\"Flipped Frame 1\", title2=\"Non Flipped Frame 1\")\n",
    "print(\"Might be two different action, but to check the flipping focus on the door behind.\")"
   ]
  },
  {
   "cell_type": "markdown",
   "id": "6b3635a0",
   "metadata": {
    "papermill": {
     "duration": 0.077287,
     "end_time": "2025-07-11T12:02:10.514433",
     "exception": false,
     "start_time": "2025-07-11T12:02:10.437146",
     "status": "completed"
    },
    "tags": []
   },
   "source": [
    "# 🧪 Test Augmentation (Output)\n",
    "## 🖼️ Horizontal Flip Output"
   ]
  },
  {
   "cell_type": "code",
   "execution_count": 32,
   "id": "caa02869",
   "metadata": {
    "execution": {
     "iopub.execute_input": "2025-07-11T12:02:10.669114Z",
     "iopub.status.busy": "2025-07-11T12:02:10.668611Z",
     "iopub.status.idle": "2025-07-11T12:02:10.671891Z",
     "shell.execute_reply": "2025-07-11T12:02:10.671289Z"
    },
    "papermill": {
     "duration": 0.081958,
     "end_time": "2025-07-11T12:02:10.672928",
     "exception": false,
     "start_time": "2025-07-11T12:02:10.590970",
     "status": "completed"
    },
    "tags": []
   },
   "outputs": [],
   "source": [
    "# flipped_video_1 = horizontal_flip(features[0])\n",
    "\n",
    "# flipped_video_1=np.asarray(flipped_video_1)\n",
    "\n",
    "# show_frame(flipped_video_1[0])\n",
    "# flipped_video_1.shape"
   ]
  },
  {
   "cell_type": "markdown",
   "id": "fb22e657",
   "metadata": {
    "papermill": {
     "duration": 0.078362,
     "end_time": "2025-07-11T12:02:10.877807",
     "exception": false,
     "start_time": "2025-07-11T12:02:10.799445",
     "status": "completed"
    },
    "tags": []
   },
   "source": [
    "## 🖼️ Salt and Pepper Noise Output"
   ]
  },
  {
   "cell_type": "code",
   "execution_count": 33,
   "id": "01dab75a",
   "metadata": {
    "execution": {
     "iopub.execute_input": "2025-07-11T12:02:11.031513Z",
     "iopub.status.busy": "2025-07-11T12:02:11.031214Z",
     "iopub.status.idle": "2025-07-11T12:02:11.034507Z",
     "shell.execute_reply": "2025-07-11T12:02:11.033919Z"
    },
    "papermill": {
     "duration": 0.080735,
     "end_time": "2025-07-11T12:02:11.035552",
     "exception": false,
     "start_time": "2025-07-11T12:02:10.954817",
     "status": "completed"
    },
    "tags": []
   },
   "outputs": [],
   "source": [
    "# noised_video = noise_video(features[0])\n",
    "\n",
    "# print(noised_video.shape)\n",
    "# show_frame(noised_video[0])"
   ]
  },
  {
   "cell_type": "markdown",
   "id": "daf8381f",
   "metadata": {
    "papermill": {
     "duration": 0.083543,
     "end_time": "2025-07-11T12:02:11.197401",
     "exception": false,
     "start_time": "2025-07-11T12:02:11.113858",
     "status": "completed"
    },
    "tags": []
   },
   "source": [
    "## 🖼️ Random Shear Output"
   ]
  },
  {
   "cell_type": "code",
   "execution_count": 34,
   "id": "4503374d",
   "metadata": {
    "execution": {
     "iopub.execute_input": "2025-07-11T12:02:11.379405Z",
     "iopub.status.busy": "2025-07-11T12:02:11.379075Z",
     "iopub.status.idle": "2025-07-11T12:02:11.382363Z",
     "shell.execute_reply": "2025-07-11T12:02:11.381719Z"
    },
    "papermill": {
     "duration": 0.108626,
     "end_time": "2025-07-11T12:02:11.383596",
     "exception": false,
     "start_time": "2025-07-11T12:02:11.274970",
     "status": "completed"
    },
    "tags": []
   },
   "outputs": [],
   "source": [
    "# print(features.shape)\n",
    "\n",
    "# sheared_1 = apply_shear_frames(features[0], shear_right=0)\n",
    "# sheared_2 = apply_shear_frames(features[0], shear_right=1)\n",
    "\n",
    "# sheared_1 = np.asarray(sheared_1)\n",
    "# sheared_2 = np.asarray(sheared_2)\n",
    "\n",
    "# print(sheared_1.shape)\n",
    "# show_frame(sheared_1[0])\n",
    "# show_frame(sheared_2[0])"
   ]
  },
  {
   "cell_type": "markdown",
   "id": "f9dcdef7",
   "metadata": {
    "papermill": {
     "duration": 0.080983,
     "end_time": "2025-07-11T12:02:11.555666",
     "exception": false,
     "start_time": "2025-07-11T12:02:11.474683",
     "status": "completed"
    },
    "tags": []
   },
   "source": [
    "# 📌 Preparing Data for Training"
   ]
  },
  {
   "cell_type": "code",
   "execution_count": 35,
   "id": "9ed17ea6",
   "metadata": {
    "execution": {
     "iopub.execute_input": "2025-07-11T12:02:11.710923Z",
     "iopub.status.busy": "2025-07-11T12:02:11.710181Z",
     "iopub.status.idle": "2025-07-11T12:02:12.153946Z",
     "shell.execute_reply": "2025-07-11T12:02:12.153134Z"
    },
    "papermill": {
     "duration": 0.522326,
     "end_time": "2025-07-11T12:02:12.155366",
     "exception": false,
     "start_time": "2025-07-11T12:02:11.633040",
     "status": "completed"
    },
    "tags": []
   },
   "outputs": [],
   "source": [
    "# Clear previous session to free memory\n",
    "import gc\n",
    "\n",
    "gc.collect()\n",
    "tf.keras.backend.clear_session()"
   ]
  },
  {
   "cell_type": "markdown",
   "id": "14900be0",
   "metadata": {
    "papermill": {
     "duration": 0.076781,
     "end_time": "2025-07-11T12:02:12.310885",
     "exception": false,
     "start_time": "2025-07-11T12:02:12.234104",
     "status": "completed"
    },
    "tags": []
   },
   "source": [
    "## Splitting data for ***Trainig*** and ***Testing***"
   ]
  },
  {
   "cell_type": "code",
   "execution_count": 36,
   "id": "8e77713d",
   "metadata": {
    "execution": {
     "iopub.execute_input": "2025-07-11T12:02:12.467649Z",
     "iopub.status.busy": "2025-07-11T12:02:12.467084Z",
     "iopub.status.idle": "2025-07-11T12:02:13.243715Z",
     "shell.execute_reply": "2025-07-11T12:02:13.242912Z"
    },
    "papermill": {
     "duration": 0.857193,
     "end_time": "2025-07-11T12:02:13.244890",
     "exception": false,
     "start_time": "2025-07-11T12:02:12.387697",
     "status": "completed"
    },
    "tags": []
   },
   "outputs": [
    {
     "data": {
      "text/plain": [
       "((2560, 5, 128, 128, 3), (2560,))"
      ]
     },
     "execution_count": 36,
     "metadata": {},
     "output_type": "execute_result"
    }
   ],
   "source": [
    "videos = video_generator.videos\n",
    "labels = video_generator.labels\n",
    "\n",
    "videos = np.array(videos, dtype='float32')\n",
    "labels = np.array(labels)\n",
    "\n",
    "videos.shape, labels.shape"
   ]
  },
  {
   "cell_type": "code",
   "execution_count": 37,
   "id": "1df0a377",
   "metadata": {
    "execution": {
     "iopub.execute_input": "2025-07-11T12:02:13.401970Z",
     "iopub.status.busy": "2025-07-11T12:02:13.401143Z",
     "iopub.status.idle": "2025-07-11T12:02:13.406920Z",
     "shell.execute_reply": "2025-07-11T12:02:13.406124Z"
    },
    "papermill": {
     "duration": 0.085155,
     "end_time": "2025-07-11T12:02:13.408200",
     "exception": false,
     "start_time": "2025-07-11T12:02:13.323045",
     "status": "completed"
    },
    "tags": []
   },
   "outputs": [
    {
     "data": {
      "text/plain": [
       "(2560, 16)"
      ]
     },
     "execution_count": 37,
     "metadata": {},
     "output_type": "execute_result"
    }
   ],
   "source": [
    "from tensorflow.keras.utils import to_categorical\n",
    "\n",
    "one_hot_encoded_labels = to_categorical(labels)\n",
    "\n",
    "one_hot_encoded_labels.shape"
   ]
  },
  {
   "cell_type": "code",
   "execution_count": 38,
   "id": "a06fb302",
   "metadata": {
    "execution": {
     "iopub.execute_input": "2025-07-11T12:02:13.569427Z",
     "iopub.status.busy": "2025-07-11T12:02:13.568836Z",
     "iopub.status.idle": "2025-07-11T12:02:13.792001Z",
     "shell.execute_reply": "2025-07-11T12:02:13.791311Z"
    },
    "papermill": {
     "duration": 0.300834,
     "end_time": "2025-07-11T12:02:13.793205",
     "exception": false,
     "start_time": "2025-07-11T12:02:13.492371",
     "status": "completed"
    },
    "tags": []
   },
   "outputs": [
    {
     "data": {
      "text/plain": [
       "0"
      ]
     },
     "execution_count": 38,
     "metadata": {},
     "output_type": "execute_result"
    }
   ],
   "source": [
    "gc.collect()"
   ]
  },
  {
   "cell_type": "code",
   "execution_count": 39,
   "id": "2f94e765",
   "metadata": {
    "execution": {
     "iopub.execute_input": "2025-07-11T12:02:13.950431Z",
     "iopub.status.busy": "2025-07-11T12:02:13.949792Z",
     "iopub.status.idle": "2025-07-11T12:02:14.661068Z",
     "shell.execute_reply": "2025-07-11T12:02:14.660376Z"
    },
    "papermill": {
     "duration": 0.790165,
     "end_time": "2025-07-11T12:02:14.662163",
     "exception": false,
     "start_time": "2025-07-11T12:02:13.871998",
     "status": "completed"
    },
    "tags": []
   },
   "outputs": [
    {
     "data": {
      "text/plain": [
       "((2048, 5, 128, 128, 3), (2048, 16), (512, 5, 128, 128, 3), (512, 16))"
      ]
     },
     "execution_count": 39,
     "metadata": {},
     "output_type": "execute_result"
    }
   ],
   "source": [
    "# RUN Split the Data into Train ( 75% ) and Test Set ( 25% ).\n",
    "from sklearn.model_selection import train_test_split\n",
    "features_train, features_test, labels_train, labels_test = train_test_split(videos,\n",
    "                                                                            one_hot_encoded_labels,\n",
    "                                                                            test_size = TEST_SIZE,\n",
    "                                                                            shuffle = True,\n",
    "                                                                            random_state = seed_constant)\n",
    "\n",
    "features_train.shape, labels_train.shape, features_test.shape, labels_test.shape"
   ]
  },
  {
   "cell_type": "markdown",
   "id": "eb67fb54",
   "metadata": {
    "papermill": {
     "duration": 0.076759,
     "end_time": "2025-07-11T12:02:14.818107",
     "exception": false,
     "start_time": "2025-07-11T12:02:14.741348",
     "status": "completed"
    },
    "tags": []
   },
   "source": [
    "## Splitting data for ***Training Set*** and ***Validation Set***"
   ]
  },
  {
   "cell_type": "code",
   "execution_count": 40,
   "id": "1caaa10a",
   "metadata": {
    "execution": {
     "iopub.execute_input": "2025-07-11T12:02:15.014513Z",
     "iopub.status.busy": "2025-07-11T12:02:15.013967Z",
     "iopub.status.idle": "2025-07-11T12:02:15.019783Z",
     "shell.execute_reply": "2025-07-11T12:02:15.019097Z"
    },
    "papermill": {
     "duration": 0.126274,
     "end_time": "2025-07-11T12:02:15.020830",
     "exception": false,
     "start_time": "2025-07-11T12:02:14.894556",
     "status": "completed"
    },
    "tags": []
   },
   "outputs": [
    {
     "data": {
      "text/plain": [
       "((1638, 5, 128, 128, 3), (1638, 16), (410, 5, 128, 128, 3), (410, 16))"
      ]
     },
     "execution_count": 40,
     "metadata": {},
     "output_type": "execute_result"
    }
   ],
   "source": [
    "# Assuming features_train and labels_train are defined\n",
    "train_set = 1-VALIDATION_SPLIT\n",
    "\n",
    "train_video_frames, val_video_frames = features_train[:int(train_set * len(features_train))], features_train[int(train_set * len(features_train)):]\n",
    "train_labels, val_labels = labels_train[:int(train_set * len(labels_train))], labels_train[int(train_set * len(labels_train)):]\n",
    "\n",
    "train_video_frames.shape, train_labels.shape, val_video_frames.shape, val_labels.shape"
   ]
  },
  {
   "cell_type": "markdown",
   "id": "8994e396",
   "metadata": {
    "papermill": {
     "duration": 0.07916,
     "end_time": "2025-07-11T12:02:15.177074",
     "exception": false,
     "start_time": "2025-07-11T12:02:15.097914",
     "status": "completed"
    },
    "tags": []
   },
   "source": [
    "## Use Generator `Video Data Generator`"
   ]
  },
  {
   "cell_type": "code",
   "execution_count": 41,
   "id": "9ffe0095",
   "metadata": {
    "execution": {
     "iopub.execute_input": "2025-07-11T12:02:15.333234Z",
     "iopub.status.busy": "2025-07-11T12:02:15.332985Z",
     "iopub.status.idle": "2025-07-11T12:02:15.339332Z",
     "shell.execute_reply": "2025-07-11T12:02:15.338686Z"
    },
    "papermill": {
     "duration": 0.085809,
     "end_time": "2025-07-11T12:02:15.340423",
     "exception": false,
     "start_time": "2025-07-11T12:02:15.254614",
     "status": "completed"
    },
    "tags": []
   },
   "outputs": [
    {
     "name": "stdout",
     "output_type": "stream",
     "text": [
      "Total 1638 videos and 1638 classes\n",
      "Total 410 videos and 410 classes\n"
     ]
    },
    {
     "data": {
      "text/plain": [
       "(69, 18)"
      ]
     },
     "execution_count": 41,
     "metadata": {},
     "output_type": "execute_result"
    }
   ],
   "source": [
    "# Create the training and validation generators\n",
    "train_gen = VideoDataGenerator(\n",
    "    videos=train_video_frames, \n",
    "    labels=train_labels, \n",
    "    batch_size=BATCH_SIZE,\n",
    ")\n",
    "\n",
    "val_gen = VideoDataGenerator(\n",
    "    videos=val_video_frames, \n",
    "    labels=val_labels, \n",
    "    batch_size=BATCH_SIZE,\n",
    ")\n",
    "\n",
    "len(train_gen), len(val_gen)"
   ]
  },
  {
   "cell_type": "markdown",
   "id": "8f9c7007",
   "metadata": {
    "papermill": {
     "duration": 0.076957,
     "end_time": "2025-07-11T12:02:15.495743",
     "exception": false,
     "start_time": "2025-07-11T12:02:15.418786",
     "status": "completed"
    },
    "tags": []
   },
   "source": [
    "## Inspect ***Generator*** Data on Epochs"
   ]
  },
  {
   "cell_type": "code",
   "execution_count": 42,
   "id": "d54638ca",
   "metadata": {
    "execution": {
     "iopub.execute_input": "2025-07-11T12:02:15.649164Z",
     "iopub.status.busy": "2025-07-11T12:02:15.648935Z",
     "iopub.status.idle": "2025-07-11T12:02:15.659896Z",
     "shell.execute_reply": "2025-07-11T12:02:15.659173Z"
    },
    "papermill": {
     "duration": 0.08827,
     "end_time": "2025-07-11T12:02:15.661061",
     "exception": false,
     "start_time": "2025-07-11T12:02:15.572791",
     "status": "completed"
    },
    "tags": []
   },
   "outputs": [
    {
     "name": "stdout",
     "output_type": "stream",
     "text": [
      "[   0    1    2 ... 1635 1636 1637]\n",
      "[ 658 1561 1395 ...  691  912  158]\n"
     ]
    },
    {
     "data": {
      "text/plain": [
       "(24, (24, 5, 128, 128, 3), (24, 16))"
      ]
     },
     "execution_count": 42,
     "metadata": {},
     "output_type": "execute_result"
    }
   ],
   "source": [
    "features, labels = train_gen[1]\n",
    "\n",
    "print(train_gen.indices)\n",
    "\n",
    "train_gen.on_epoch_end()\n",
    "\n",
    "print(train_gen.indices)\n",
    "\n",
    "BATCH_SIZE, features.shape, labels.shape"
   ]
  },
  {
   "cell_type": "markdown",
   "id": "12a3a48b",
   "metadata": {
    "papermill": {
     "duration": 0.079376,
     "end_time": "2025-07-11T12:02:15.818234",
     "exception": false,
     "start_time": "2025-07-11T12:02:15.738858",
     "status": "completed"
    },
    "tags": []
   },
   "source": [
    "## Compute Class Weight"
   ]
  },
  {
   "cell_type": "code",
   "execution_count": 43,
   "id": "5ee4a1f9",
   "metadata": {
    "execution": {
     "iopub.execute_input": "2025-07-11T12:02:15.978551Z",
     "iopub.status.busy": "2025-07-11T12:02:15.978265Z",
     "iopub.status.idle": "2025-07-11T12:02:15.984768Z",
     "shell.execute_reply": "2025-07-11T12:02:15.984050Z"
    },
    "papermill": {
     "duration": 0.085326,
     "end_time": "2025-07-11T12:02:15.985857",
     "exception": false,
     "start_time": "2025-07-11T12:02:15.900531",
     "status": "completed"
    },
    "tags": []
   },
   "outputs": [
    {
     "name": "stdout",
     "output_type": "stream",
     "text": [
      "Class weights: {0: 1.0, 1: 1.0, 2: 1.0, 3: 1.0, 4: 1.0, 5: 1.0, 6: 1.0, 7: 1.0, 8: 1.0, 9: 1.0, 10: 1.0, 11: 1.0, 12: 1.0, 13: 1.0, 14: 1.0, 15: 1.0}\n"
     ]
    }
   ],
   "source": [
    "from sklearn.utils.class_weight import compute_class_weight\n",
    "import numpy as np\n",
    "\n",
    "# Assuming y_int are integer labels (not one-hot)\n",
    "y_int = np.argmax(one_hot_encoded_labels, axis=1)  # or just integer labels if you have them\n",
    "\n",
    "classes = np.arange(NO_OF_CLASSES)  # e.g. np.arange(16)\n",
    "class_weights_values = compute_class_weight(class_weight='balanced', classes=classes, y=y_int)\n",
    "\n",
    "class_weights = dict(zip(classes, class_weights_values))\n",
    "\n",
    "print(\"Class weights:\", class_weights)\n"
   ]
  },
  {
   "cell_type": "code",
   "execution_count": 44,
   "id": "757475ea",
   "metadata": {
    "execution": {
     "iopub.execute_input": "2025-07-11T12:02:16.143890Z",
     "iopub.status.busy": "2025-07-11T12:02:16.143660Z",
     "iopub.status.idle": "2025-07-11T12:02:16.378587Z",
     "shell.execute_reply": "2025-07-11T12:02:16.377914Z"
    },
    "papermill": {
     "duration": 0.315042,
     "end_time": "2025-07-11T12:02:16.379770",
     "exception": false,
     "start_time": "2025-07-11T12:02:16.064728",
     "status": "completed"
    },
    "tags": []
   },
   "outputs": [],
   "source": [
    "gc.collect()\n",
    "del videos, one_hot_encoded_labels, labels_train\n",
    "del features_train, val_labels, train_labels\n",
    "del val_video_frames, train_video_frames"
   ]
  },
  {
   "cell_type": "markdown",
   "id": "8f4b5cbf",
   "metadata": {
    "papermill": {
     "duration": 0.078388,
     "end_time": "2025-07-11T12:02:16.538167",
     "exception": false,
     "start_time": "2025-07-11T12:02:16.459779",
     "status": "completed"
    },
    "tags": []
   },
   "source": [
    "# ✨ Model Execution\n",
    "## Creating Model"
   ]
  },
  {
   "cell_type": "code",
   "execution_count": 45,
   "id": "22d0314e",
   "metadata": {
    "execution": {
     "iopub.execute_input": "2025-07-11T12:02:16.693274Z",
     "iopub.status.busy": "2025-07-11T12:02:16.692678Z",
     "iopub.status.idle": "2025-07-11T12:02:17.947023Z",
     "shell.execute_reply": "2025-07-11T12:02:17.946431Z"
    },
    "papermill": {
     "duration": 1.332447,
     "end_time": "2025-07-11T12:02:17.948065",
     "exception": false,
     "start_time": "2025-07-11T12:02:16.615618",
     "status": "completed"
    },
    "tags": []
   },
   "outputs": [
    {
     "name": "stdout",
     "output_type": "stream",
     "text": [
      "Loading Xception base model...\n",
      "Model architecture created successfully!\n"
     ]
    },
    {
     "name": "stderr",
     "output_type": "stream",
     "text": [
      "/usr/local/lib/python3.11/dist-packages/keras/src/layers/core/wrapper.py:27: UserWarning: Do not pass an `input_shape`/`input_dim` argument to a layer. When using Sequential models, prefer using an `Input(shape)` object as the first layer in the model instead.\n",
      "  super().__init__(**kwargs)\n"
     ]
    },
    {
     "data": {
      "text/html": [
       "<pre style=\"white-space:pre;overflow-x:auto;line-height:normal;font-family:Menlo,'DejaVu Sans Mono',consolas,'Courier New',monospace\"><span style=\"font-weight: bold\">Model: \"sequential\"</span>\n",
       "</pre>\n"
      ],
      "text/plain": [
       "\u001b[1mModel: \"sequential\"\u001b[0m\n"
      ]
     },
     "metadata": {},
     "output_type": "display_data"
    },
    {
     "data": {
      "text/html": [
       "<pre style=\"white-space:pre;overflow-x:auto;line-height:normal;font-family:Menlo,'DejaVu Sans Mono',consolas,'Courier New',monospace\">┏━━━━━━━━━━━━━━━━━━━━━━━━━━━━━━━━━┳━━━━━━━━━━━━━━━━━━━━━━━━┳━━━━━━━━━━━━━━━┓\n",
       "┃<span style=\"font-weight: bold\"> Layer (type)                    </span>┃<span style=\"font-weight: bold\"> Output Shape           </span>┃<span style=\"font-weight: bold\">       Param # </span>┃\n",
       "┡━━━━━━━━━━━━━━━━━━━━━━━━━━━━━━━━━╇━━━━━━━━━━━━━━━━━━━━━━━━╇━━━━━━━━━━━━━━━┩\n",
       "│ time_distributed                │ (<span style=\"color: #00d7ff; text-decoration-color: #00d7ff\">None</span>, <span style=\"color: #00af00; text-decoration-color: #00af00\">5</span>, <span style=\"color: #00af00; text-decoration-color: #00af00\">4</span>, <span style=\"color: #00af00; text-decoration-color: #00af00\">4</span>, <span style=\"color: #00af00; text-decoration-color: #00af00\">2048</span>)  │    <span style=\"color: #00af00; text-decoration-color: #00af00\">20,861,480</span> │\n",
       "│ (<span style=\"color: #0087ff; text-decoration-color: #0087ff\">TimeDistributed</span>)               │                        │               │\n",
       "├─────────────────────────────────┼────────────────────────┼───────────────┤\n",
       "│ time_distributed_1              │ (<span style=\"color: #00d7ff; text-decoration-color: #00d7ff\">None</span>, <span style=\"color: #00af00; text-decoration-color: #00af00\">5</span>, <span style=\"color: #00af00; text-decoration-color: #00af00\">2048</span>)        │             <span style=\"color: #00af00; text-decoration-color: #00af00\">0</span> │\n",
       "│ (<span style=\"color: #0087ff; text-decoration-color: #0087ff\">TimeDistributed</span>)               │                        │               │\n",
       "├─────────────────────────────────┼────────────────────────┼───────────────┤\n",
       "│ lstm (<span style=\"color: #0087ff; text-decoration-color: #0087ff\">LSTM</span>)                     │ (<span style=\"color: #00d7ff; text-decoration-color: #00d7ff\">None</span>, <span style=\"color: #00af00; text-decoration-color: #00af00\">128</span>)            │     <span style=\"color: #00af00; text-decoration-color: #00af00\">1,114,624</span> │\n",
       "├─────────────────────────────────┼────────────────────────┼───────────────┤\n",
       "│ batch_normalization             │ (<span style=\"color: #00d7ff; text-decoration-color: #00d7ff\">None</span>, <span style=\"color: #00af00; text-decoration-color: #00af00\">128</span>)            │           <span style=\"color: #00af00; text-decoration-color: #00af00\">512</span> │\n",
       "│ (<span style=\"color: #0087ff; text-decoration-color: #0087ff\">BatchNormalization</span>)            │                        │               │\n",
       "├─────────────────────────────────┼────────────────────────┼───────────────┤\n",
       "│ dropout_lstm (<span style=\"color: #0087ff; text-decoration-color: #0087ff\">Dropout</span>)          │ (<span style=\"color: #00d7ff; text-decoration-color: #00d7ff\">None</span>, <span style=\"color: #00af00; text-decoration-color: #00af00\">128</span>)            │             <span style=\"color: #00af00; text-decoration-color: #00af00\">0</span> │\n",
       "├─────────────────────────────────┼────────────────────────┼───────────────┤\n",
       "│ dense (<span style=\"color: #0087ff; text-decoration-color: #0087ff\">Dense</span>)                   │ (<span style=\"color: #00d7ff; text-decoration-color: #00d7ff\">None</span>, <span style=\"color: #00af00; text-decoration-color: #00af00\">512</span>)            │        <span style=\"color: #00af00; text-decoration-color: #00af00\">66,048</span> │\n",
       "├─────────────────────────────────┼────────────────────────┼───────────────┤\n",
       "│ dropout_dense (<span style=\"color: #0087ff; text-decoration-color: #0087ff\">Dropout</span>)         │ (<span style=\"color: #00d7ff; text-decoration-color: #00d7ff\">None</span>, <span style=\"color: #00af00; text-decoration-color: #00af00\">512</span>)            │             <span style=\"color: #00af00; text-decoration-color: #00af00\">0</span> │\n",
       "├─────────────────────────────────┼────────────────────────┼───────────────┤\n",
       "│ dense_1 (<span style=\"color: #0087ff; text-decoration-color: #0087ff\">Dense</span>)                 │ (<span style=\"color: #00d7ff; text-decoration-color: #00d7ff\">None</span>, <span style=\"color: #00af00; text-decoration-color: #00af00\">16</span>)             │         <span style=\"color: #00af00; text-decoration-color: #00af00\">8,208</span> │\n",
       "└─────────────────────────────────┴────────────────────────┴───────────────┘\n",
       "</pre>\n"
      ],
      "text/plain": [
       "┏━━━━━━━━━━━━━━━━━━━━━━━━━━━━━━━━━┳━━━━━━━━━━━━━━━━━━━━━━━━┳━━━━━━━━━━━━━━━┓\n",
       "┃\u001b[1m \u001b[0m\u001b[1mLayer (type)                   \u001b[0m\u001b[1m \u001b[0m┃\u001b[1m \u001b[0m\u001b[1mOutput Shape          \u001b[0m\u001b[1m \u001b[0m┃\u001b[1m \u001b[0m\u001b[1m      Param #\u001b[0m\u001b[1m \u001b[0m┃\n",
       "┡━━━━━━━━━━━━━━━━━━━━━━━━━━━━━━━━━╇━━━━━━━━━━━━━━━━━━━━━━━━╇━━━━━━━━━━━━━━━┩\n",
       "│ time_distributed                │ (\u001b[38;5;45mNone\u001b[0m, \u001b[38;5;34m5\u001b[0m, \u001b[38;5;34m4\u001b[0m, \u001b[38;5;34m4\u001b[0m, \u001b[38;5;34m2048\u001b[0m)  │    \u001b[38;5;34m20,861,480\u001b[0m │\n",
       "│ (\u001b[38;5;33mTimeDistributed\u001b[0m)               │                        │               │\n",
       "├─────────────────────────────────┼────────────────────────┼───────────────┤\n",
       "│ time_distributed_1              │ (\u001b[38;5;45mNone\u001b[0m, \u001b[38;5;34m5\u001b[0m, \u001b[38;5;34m2048\u001b[0m)        │             \u001b[38;5;34m0\u001b[0m │\n",
       "│ (\u001b[38;5;33mTimeDistributed\u001b[0m)               │                        │               │\n",
       "├─────────────────────────────────┼────────────────────────┼───────────────┤\n",
       "│ lstm (\u001b[38;5;33mLSTM\u001b[0m)                     │ (\u001b[38;5;45mNone\u001b[0m, \u001b[38;5;34m128\u001b[0m)            │     \u001b[38;5;34m1,114,624\u001b[0m │\n",
       "├─────────────────────────────────┼────────────────────────┼───────────────┤\n",
       "│ batch_normalization             │ (\u001b[38;5;45mNone\u001b[0m, \u001b[38;5;34m128\u001b[0m)            │           \u001b[38;5;34m512\u001b[0m │\n",
       "│ (\u001b[38;5;33mBatchNormalization\u001b[0m)            │                        │               │\n",
       "├─────────────────────────────────┼────────────────────────┼───────────────┤\n",
       "│ dropout_lstm (\u001b[38;5;33mDropout\u001b[0m)          │ (\u001b[38;5;45mNone\u001b[0m, \u001b[38;5;34m128\u001b[0m)            │             \u001b[38;5;34m0\u001b[0m │\n",
       "├─────────────────────────────────┼────────────────────────┼───────────────┤\n",
       "│ dense (\u001b[38;5;33mDense\u001b[0m)                   │ (\u001b[38;5;45mNone\u001b[0m, \u001b[38;5;34m512\u001b[0m)            │        \u001b[38;5;34m66,048\u001b[0m │\n",
       "├─────────────────────────────────┼────────────────────────┼───────────────┤\n",
       "│ dropout_dense (\u001b[38;5;33mDropout\u001b[0m)         │ (\u001b[38;5;45mNone\u001b[0m, \u001b[38;5;34m512\u001b[0m)            │             \u001b[38;5;34m0\u001b[0m │\n",
       "├─────────────────────────────────┼────────────────────────┼───────────────┤\n",
       "│ dense_1 (\u001b[38;5;33mDense\u001b[0m)                 │ (\u001b[38;5;45mNone\u001b[0m, \u001b[38;5;34m16\u001b[0m)             │         \u001b[38;5;34m8,208\u001b[0m │\n",
       "└─────────────────────────────────┴────────────────────────┴───────────────┘\n"
      ]
     },
     "metadata": {},
     "output_type": "display_data"
    },
    {
     "data": {
      "text/html": [
       "<pre style=\"white-space:pre;overflow-x:auto;line-height:normal;font-family:Menlo,'DejaVu Sans Mono',consolas,'Courier New',monospace\"><span style=\"font-weight: bold\"> Total params: </span><span style=\"color: #00af00; text-decoration-color: #00af00\">22,050,872</span> (84.12 MB)\n",
       "</pre>\n"
      ],
      "text/plain": [
       "\u001b[1m Total params: \u001b[0m\u001b[38;5;34m22,050,872\u001b[0m (84.12 MB)\n"
      ]
     },
     "metadata": {},
     "output_type": "display_data"
    },
    {
     "data": {
      "text/html": [
       "<pre style=\"white-space:pre;overflow-x:auto;line-height:normal;font-family:Menlo,'DejaVu Sans Mono',consolas,'Courier New',monospace\"><span style=\"font-weight: bold\"> Trainable params: </span><span style=\"color: #00af00; text-decoration-color: #00af00\">6,685,456</span> (25.50 MB)\n",
       "</pre>\n"
      ],
      "text/plain": [
       "\u001b[1m Trainable params: \u001b[0m\u001b[38;5;34m6,685,456\u001b[0m (25.50 MB)\n"
      ]
     },
     "metadata": {},
     "output_type": "display_data"
    },
    {
     "data": {
      "text/html": [
       "<pre style=\"white-space:pre;overflow-x:auto;line-height:normal;font-family:Menlo,'DejaVu Sans Mono',consolas,'Courier New',monospace\"><span style=\"font-weight: bold\"> Non-trainable params: </span><span style=\"color: #00af00; text-decoration-color: #00af00\">15,365,416</span> (58.61 MB)\n",
       "</pre>\n"
      ],
      "text/plain": [
       "\u001b[1m Non-trainable params: \u001b[0m\u001b[38;5;34m15,365,416\u001b[0m (58.61 MB)\n"
      ]
     },
     "metadata": {},
     "output_type": "display_data"
    },
    {
     "name": "stdout",
     "output_type": "stream",
     "text": [
      "Model Created Successfully!\n"
     ]
    }
   ],
   "source": [
    "# Create the model\n",
    "xlstm_model = create_xception_lstm_model(\n",
    "    sequence_length=SEQUENCE_LENGTH,\n",
    "    image_height=IMAGE_HEIGHT,\n",
    "    image_width=IMAGE_WIDTH,\n",
    "    classes_list=CLASSES_LIST,\n",
    "    dropout_rate=DROPOUT_RATE\n",
    ")\n",
    "\n",
    "# Check if model was created successfully\n",
    "if xlstm_model is None:\n",
    "    print(\"Failed to create model. Check error messages above.\")\n",
    "else:\n",
    "    print(\"Model Created Successfully!\")"
   ]
  },
  {
   "cell_type": "markdown",
   "id": "e0fe16d7",
   "metadata": {
    "papermill": {
     "duration": 0.078576,
     "end_time": "2025-07-11T12:02:18.106266",
     "exception": false,
     "start_time": "2025-07-11T12:02:18.027690",
     "status": "completed"
    },
    "tags": []
   },
   "source": [
    "## Plot Model Structure"
   ]
  },
  {
   "cell_type": "code",
   "execution_count": 46,
   "id": "c446a0a8",
   "metadata": {
    "execution": {
     "iopub.execute_input": "2025-07-11T12:02:18.264633Z",
     "iopub.status.busy": "2025-07-11T12:02:18.264348Z",
     "iopub.status.idle": "2025-07-11T12:02:18.813098Z",
     "shell.execute_reply": "2025-07-11T12:02:18.812373Z"
    },
    "papermill": {
     "duration": 0.628917,
     "end_time": "2025-07-11T12:02:18.814238",
     "exception": false,
     "start_time": "2025-07-11T12:02:18.185321",
     "status": "completed"
    },
    "tags": []
   },
   "outputs": [
    {
     "name": "stdout",
     "output_type": "stream",
     "text": [
      "Xception Model Plot saved successfully...\n"
     ]
    }
   ],
   "source": [
    "# Plot the structure of the contructed model.\n",
    "from tensorflow.keras.utils import plot_model\n",
    "\n",
    "plot_model(xlstm_model, to_file = f'{MODEL_NAME}_model_Plot.png', show_shapes = True, show_layer_names = True)\n",
    "\n",
    "print(f\"{MODEL_NAME} Model Plot saved successfully...\")"
   ]
  },
  {
   "cell_type": "markdown",
   "id": "a81bd0a6",
   "metadata": {
    "papermill": {
     "duration": 0.121518,
     "end_time": "2025-07-11T12:02:19.016508",
     "exception": false,
     "start_time": "2025-07-11T12:02:18.894990",
     "status": "completed"
    },
    "tags": []
   },
   "source": [
    "## Model Compile"
   ]
  },
  {
   "cell_type": "code",
   "execution_count": 47,
   "id": "f2eb6944",
   "metadata": {
    "execution": {
     "iopub.execute_input": "2025-07-11T12:02:19.178137Z",
     "iopub.status.busy": "2025-07-11T12:02:19.177875Z",
     "iopub.status.idle": "2025-07-11T12:02:19.194538Z",
     "shell.execute_reply": "2025-07-11T12:02:19.193937Z"
    },
    "papermill": {
     "duration": 0.100653,
     "end_time": "2025-07-11T12:02:19.195693",
     "exception": false,
     "start_time": "2025-07-11T12:02:19.095040",
     "status": "completed"
    },
    "tags": []
   },
   "outputs": [],
   "source": [
    "# Create an Instance of Early Stopping Callback\n",
    "from tensorflow.keras.callbacks import EarlyStopping\n",
    "\n",
    "early_stopping_callback = EarlyStopping(monitor = 'val_loss', \n",
    "                                        patience = 7, \n",
    "                                        mode = 'min', \n",
    "                                        restore_best_weights = True)\n",
    "\n",
    "# Compile the model and specify loss function, optimizer and metrics values to the model\n",
    "xlstm_model.compile(loss = 'categorical_crossentropy', \n",
    "                    optimizer=tf.keras.optimizers.Adam(learning_rate=0.0001),\n",
    "                    metrics = [\"accuracy\"])\n"
   ]
  },
  {
   "cell_type": "markdown",
   "id": "24f964c3",
   "metadata": {
    "papermill": {
     "duration": 0.077882,
     "end_time": "2025-07-11T12:02:19.351917",
     "exception": false,
     "start_time": "2025-07-11T12:02:19.274035",
     "status": "completed"
    },
    "tags": []
   },
   "source": [
    "## 💪 Model Fit"
   ]
  },
  {
   "cell_type": "code",
   "execution_count": 48,
   "id": "a7e11331",
   "metadata": {
    "execution": {
     "iopub.execute_input": "2025-07-11T12:02:19.508966Z",
     "iopub.status.busy": "2025-07-11T12:02:19.508703Z",
     "iopub.status.idle": "2025-07-11T12:02:19.514678Z",
     "shell.execute_reply": "2025-07-11T12:02:19.514071Z"
    },
    "papermill": {
     "duration": 0.085505,
     "end_time": "2025-07-11T12:02:19.515789",
     "exception": false,
     "start_time": "2025-07-11T12:02:19.430284",
     "status": "completed"
    },
    "tags": []
   },
   "outputs": [
    {
     "name": "stdout",
     "output_type": "stream",
     "text": [
      "Unique labels: [ 0  1  2  3  4  5  6  7  8  9 10 11 12 13 14 15]\n",
      "NO_OF_CLASSES: 16\n"
     ]
    }
   ],
   "source": [
    "labels = np.argmax(train_gen.labels, axis=1)  # assuming one-hot encoded\n",
    "print(\"Unique labels:\", np.unique(labels))\n",
    "print(\"NO_OF_CLASSES:\", NO_OF_CLASSES)\n"
   ]
  },
  {
   "cell_type": "code",
   "execution_count": 49,
   "id": "3b1af407",
   "metadata": {
    "execution": {
     "iopub.execute_input": "2025-07-11T12:02:19.682706Z",
     "iopub.status.busy": "2025-07-11T12:02:19.682484Z",
     "iopub.status.idle": "2025-07-11T12:02:19.687975Z",
     "shell.execute_reply": "2025-07-11T12:02:19.687355Z"
    },
    "papermill": {
     "duration": 0.089005,
     "end_time": "2025-07-11T12:02:19.689362",
     "exception": false,
     "start_time": "2025-07-11T12:02:19.600357",
     "status": "completed"
    },
    "tags": []
   },
   "outputs": [
    {
     "name": "stdout",
     "output_type": "stream",
     "text": [
      "Train label shape: (1638, 16)\n",
      "Val label shape: (410, 16)\n"
     ]
    }
   ],
   "source": [
    "print(\"Train label shape:\", np.shape(train_gen.labels))\n",
    "print(\"Val label shape:\", np.shape(val_gen.labels))\n"
   ]
  },
  {
   "cell_type": "code",
   "execution_count": 50,
   "id": "ecccb61a",
   "metadata": {
    "execution": {
     "iopub.execute_input": "2025-07-11T12:02:19.865821Z",
     "iopub.status.busy": "2025-07-11T12:02:19.865224Z",
     "iopub.status.idle": "2025-07-11T12:02:19.868744Z",
     "shell.execute_reply": "2025-07-11T12:02:19.868173Z"
    },
    "papermill": {
     "duration": 0.092609,
     "end_time": "2025-07-11T12:02:19.869754",
     "exception": false,
     "start_time": "2025-07-11T12:02:19.777145",
     "status": "completed"
    },
    "tags": []
   },
   "outputs": [],
   "source": [
    "# from tensorflow.keras.callbacks import ReduceLROnPlateau\n",
    "\n",
    "# lr_scheduler = ReduceLROnPlateau(monitor='val_loss', \n",
    "#                                  factor=0.5, \n",
    "#                                  patience=3, \n",
    "#                                  min_lr=1e-6)\n",
    "\n",
    "\n",
    "\n",
    "# print(f\"Dataset - {DATASET_NAME}\")\n",
    "# print(f\"There are total {len(ALL_CLASS_NAMES)} classes, selected {NO_OF_CLASSES} classes\")\n",
    "# print(f\"Setting {MAX_VIDEO_PER_CLASS} videos/class to train the model.\")\n",
    "# print(f\"Image size {IMAGE_HEIGHT}x{IMAGE_WIDTH} with {SEQUENCE_LENGTH} sequence length\")\n",
    "# print(f\"Dropout rate: {DROPOUT_RATE}\")\n",
    "# print(f\"Train-Test split ratio {int((1-TEST_SIZE)*100)}/{int(TEST_SIZE*100)}\")\n",
    "# print(f\"Validation data from Train set {VALIDATION_SPLIT*100}%\")\n",
    "\n",
    "# print(\"\\n\")\n",
    "\n",
    "# print(f\"Training started for {len(train_gen.videos)} videos of {NO_OF_CLASSES} classes with {len(val_gen.videos)} videos for validation...\")\n",
    "\n",
    "# model_history = xlstm_model.fit(\n",
    "#     train_gen.as_dataset(),\n",
    "#     validation_data=val_gen.as_dataset(),\n",
    "#     epochs=EPOCHS,\n",
    "#     # class_weight=class_weight_dict,\n",
    "#     callbacks=[early_stopping_callback, lr_scheduler]\n",
    "# )"
   ]
  },
  {
   "cell_type": "markdown",
   "id": "5ee54795",
   "metadata": {
    "papermill": {
     "duration": 0.085343,
     "end_time": "2025-07-11T12:02:20.037401",
     "exception": false,
     "start_time": "2025-07-11T12:02:19.952058",
     "status": "completed"
    },
    "tags": []
   },
   "source": [
    "# Evaluation"
   ]
  },
  {
   "cell_type": "markdown",
   "id": "eb07c8aa",
   "metadata": {
    "papermill": {
     "duration": 0.079888,
     "end_time": "2025-07-11T12:02:20.199705",
     "exception": false,
     "start_time": "2025-07-11T12:02:20.119817",
     "status": "completed"
    },
    "tags": []
   },
   "source": [
    "## ⚡ Model Evaluate"
   ]
  },
  {
   "cell_type": "code",
   "execution_count": 51,
   "id": "a4ead23e",
   "metadata": {
    "execution": {
     "iopub.execute_input": "2025-07-11T12:02:20.354785Z",
     "iopub.status.busy": "2025-07-11T12:02:20.354103Z",
     "iopub.status.idle": "2025-07-11T12:02:20.357351Z",
     "shell.execute_reply": "2025-07-11T12:02:20.356800Z"
    },
    "papermill": {
     "duration": 0.081046,
     "end_time": "2025-07-11T12:02:20.358285",
     "exception": false,
     "start_time": "2025-07-11T12:02:20.277239",
     "status": "completed"
    },
    "tags": []
   },
   "outputs": [],
   "source": [
    "# # previous code\n",
    "# model_evaluation_history = xlstm_model.evaluate(features_test, labels_test)"
   ]
  },
  {
   "cell_type": "code",
   "execution_count": 52,
   "id": "50fb5a07",
   "metadata": {
    "execution": {
     "iopub.execute_input": "2025-07-11T12:02:20.516356Z",
     "iopub.status.busy": "2025-07-11T12:02:20.516121Z",
     "iopub.status.idle": "2025-07-11T12:02:20.519231Z",
     "shell.execute_reply": "2025-07-11T12:02:20.518751Z"
    },
    "papermill": {
     "duration": 0.083031,
     "end_time": "2025-07-11T12:02:20.520253",
     "exception": false,
     "start_time": "2025-07-11T12:02:20.437222",
     "status": "completed"
    },
    "tags": []
   },
   "outputs": [],
   "source": [
    "# import matplotlib.pyplot as plt\n",
    "\n",
    "# # Accuracy\n",
    "# plt.figure(figsize=(12, 5))\n",
    "\n",
    "# plt.subplot(1, 2, 1)\n",
    "# plt.plot(model_history.history['accuracy'], label='Train Accuracy')\n",
    "# plt.plot(model_history.history['val_accuracy'], label='Validation Accuracy')\n",
    "# plt.title('Model Accuracy')\n",
    "# plt.xlabel('Epoch')\n",
    "# plt.ylabel('Accuracy')\n",
    "# plt.legend()\n",
    "\n",
    "# # Loss\n",
    "# plt.subplot(1, 2, 2)\n",
    "# plt.plot(model_history.history['loss'], label='Train Loss')\n",
    "# plt.plot(model_history.history['val_loss'], label='Validation Loss')\n",
    "# plt.title('Model Loss')\n",
    "# plt.xlabel('Epoch')\n",
    "# plt.ylabel('Loss')\n",
    "# plt.legend()\n",
    "\n",
    "# plt.tight_layout()\n",
    "# plt.show()\n"
   ]
  },
  {
   "cell_type": "markdown",
   "id": "d856d88f",
   "metadata": {
    "papermill": {
     "duration": 0.07747,
     "end_time": "2025-07-11T12:02:20.675460",
     "exception": false,
     "start_time": "2025-07-11T12:02:20.597990",
     "status": "completed"
    },
    "tags": []
   },
   "source": [
    "## 📈 Confusion Matrix"
   ]
  },
  {
   "cell_type": "code",
   "execution_count": 53,
   "id": "411cdd63",
   "metadata": {
    "execution": {
     "iopub.execute_input": "2025-07-11T12:02:20.830420Z",
     "iopub.status.busy": "2025-07-11T12:02:20.829824Z",
     "iopub.status.idle": "2025-07-11T12:02:20.833546Z",
     "shell.execute_reply": "2025-07-11T12:02:20.832865Z"
    },
    "papermill": {
     "duration": 0.082254,
     "end_time": "2025-07-11T12:02:20.834721",
     "exception": false,
     "start_time": "2025-07-11T12:02:20.752467",
     "status": "completed"
    },
    "tags": []
   },
   "outputs": [],
   "source": [
    "# from sklearn.metrics import classification_report, confusion_matrix\n",
    "# import seaborn as sns\n",
    "# import matplotlib.pyplot as plt\n",
    "\n",
    "# # Create test generator with batch_size matching test set size\n",
    "# test_gen = VideoDataGenerator(\n",
    "#     videos=features_test,\n",
    "#     labels=labels_test,\n",
    "#     batch_size=4,  # Process all test samples at once\n",
    "# )\n",
    "\n",
    "# # Get predictions\n",
    "# predictions = xlstm_model.predict(test_gen.as_dataset())\n",
    "# predicted_classes = np.argmax(predictions, axis=1)\n",
    "# true_classes = np.argmax(labels_test, axis=1)\n",
    "\n",
    "# # Verify shapes\n",
    "# print(f\"True classes shape: {true_classes.shape}\")\n",
    "# print(f\"Predicted classes shape: {predicted_classes.shape}\")\n",
    "# assert len(true_classes) == len(predicted_classes), \"Sample counts do not match!\"\n",
    "\n",
    "# # Generate classification report\n",
    "# print(\"Classification Report:\")\n",
    "# print(classification_report(true_classes, predicted_classes, target_names=CLASSES_LIST))\n",
    "\n",
    "# # Plot confusion matrix\n",
    "# cm = confusion_matrix(true_classes, predicted_classes)\n",
    "# plt.figure(figsize=(8, 6))\n",
    "# sns.heatmap(cm, annot=True, fmt='d', cmap='Blues', xticklabels=CLASSES_LIST, yticklabels=CLASSES_LIST[-1])\n",
    "# plt.xlabel('Predicted')\n",
    "# plt.ylabel('True')\n",
    "# plt.title('Confusion Matrix')\n",
    "# plt.show()"
   ]
  },
  {
   "cell_type": "code",
   "execution_count": 54,
   "id": "b9ac1196",
   "metadata": {
    "execution": {
     "iopub.execute_input": "2025-07-11T12:02:21.035200Z",
     "iopub.status.busy": "2025-07-11T12:02:21.034742Z",
     "iopub.status.idle": "2025-07-11T12:29:55.395243Z",
     "shell.execute_reply": "2025-07-11T12:29:55.394495Z"
    },
    "papermill": {
     "duration": 1654.484075,
     "end_time": "2025-07-11T12:29:55.396523",
     "exception": false,
     "start_time": "2025-07-11T12:02:20.912448",
     "status": "completed"
    },
    "tags": []
   },
   "outputs": [
    {
     "name": "stdout",
     "output_type": "stream",
     "text": [
      "Memory cleared before creating VGG19+LSTM model\n",
      "TensorFlow version: 2.18.0\n",
      "Pre-loading VGG19 weights...\n",
      "Downloading data from https://storage.googleapis.com/tensorflow/keras-applications/vgg19/vgg19_weights_tf_dim_ordering_tf_kernels_notop.h5\n",
      "\u001b[1m80134624/80134624\u001b[0m \u001b[32m━━━━━━━━━━━━━━━━━━━━\u001b[0m\u001b[37m\u001b[0m \u001b[1m0s\u001b[0m 0us/step\n",
      "VGG19 weights loaded successfully!\n",
      "Creating VGG19+LSTM model with parameters:\n",
      "sequence_length: 5, image_height: 128, image_width: 128, classes_list length: 16, dropout_rate: 0.5\n"
     ]
    },
    {
     "name": "stderr",
     "output_type": "stream",
     "text": [
      "/usr/local/lib/python3.11/dist-packages/keras/src/layers/core/wrapper.py:27: UserWarning: Do not pass an `input_shape`/`input_dim` argument to a layer. When using Sequential models, prefer using an `Input(shape)` object as the first layer in the model instead.\n",
      "  super().__init__(**kwargs)\n"
     ]
    },
    {
     "name": "stdout",
     "output_type": "stream",
     "text": [
      "VGG19+LSTM model architecture created successfully!\n"
     ]
    },
    {
     "data": {
      "text/html": [
       "<pre style=\"white-space:pre;overflow-x:auto;line-height:normal;font-family:Menlo,'DejaVu Sans Mono',consolas,'Courier New',monospace\"><span style=\"font-weight: bold\">Model: \"sequential\"</span>\n",
       "</pre>\n"
      ],
      "text/plain": [
       "\u001b[1mModel: \"sequential\"\u001b[0m\n"
      ]
     },
     "metadata": {},
     "output_type": "display_data"
    },
    {
     "data": {
      "text/html": [
       "<pre style=\"white-space:pre;overflow-x:auto;line-height:normal;font-family:Menlo,'DejaVu Sans Mono',consolas,'Courier New',monospace\">┏━━━━━━━━━━━━━━━━━━━━━━━━━━━━━━━━━┳━━━━━━━━━━━━━━━━━━━━━━━━┳━━━━━━━━━━━━━━━┓\n",
       "┃<span style=\"font-weight: bold\"> Layer (type)                    </span>┃<span style=\"font-weight: bold\"> Output Shape           </span>┃<span style=\"font-weight: bold\">       Param # </span>┃\n",
       "┡━━━━━━━━━━━━━━━━━━━━━━━━━━━━━━━━━╇━━━━━━━━━━━━━━━━━━━━━━━━╇━━━━━━━━━━━━━━━┩\n",
       "│ time_distributed_vgg19          │ (<span style=\"color: #00d7ff; text-decoration-color: #00d7ff\">None</span>, <span style=\"color: #00af00; text-decoration-color: #00af00\">5</span>, <span style=\"color: #00af00; text-decoration-color: #00af00\">4</span>, <span style=\"color: #00af00; text-decoration-color: #00af00\">4</span>, <span style=\"color: #00af00; text-decoration-color: #00af00\">512</span>)   │    <span style=\"color: #00af00; text-decoration-color: #00af00\">20,024,384</span> │\n",
       "│ (<span style=\"color: #0087ff; text-decoration-color: #0087ff\">TimeDistributed</span>)               │                        │               │\n",
       "├─────────────────────────────────┼────────────────────────┼───────────────┤\n",
       "│ time_distributed_pooling        │ (<span style=\"color: #00d7ff; text-decoration-color: #00d7ff\">None</span>, <span style=\"color: #00af00; text-decoration-color: #00af00\">5</span>, <span style=\"color: #00af00; text-decoration-color: #00af00\">512</span>)         │             <span style=\"color: #00af00; text-decoration-color: #00af00\">0</span> │\n",
       "│ (<span style=\"color: #0087ff; text-decoration-color: #0087ff\">TimeDistributed</span>)               │                        │               │\n",
       "├─────────────────────────────────┼────────────────────────┼───────────────┤\n",
       "│ bidirectional (<span style=\"color: #0087ff; text-decoration-color: #0087ff\">Bidirectional</span>)   │ (<span style=\"color: #00d7ff; text-decoration-color: #00d7ff\">None</span>, <span style=\"color: #00af00; text-decoration-color: #00af00\">1024</span>)           │     <span style=\"color: #00af00; text-decoration-color: #00af00\">4,198,400</span> │\n",
       "├─────────────────────────────────┼────────────────────────┼───────────────┤\n",
       "│ batch_normalization_vgg19       │ (<span style=\"color: #00d7ff; text-decoration-color: #00d7ff\">None</span>, <span style=\"color: #00af00; text-decoration-color: #00af00\">1024</span>)           │         <span style=\"color: #00af00; text-decoration-color: #00af00\">4,096</span> │\n",
       "│ (<span style=\"color: #0087ff; text-decoration-color: #0087ff\">BatchNormalization</span>)            │                        │               │\n",
       "├─────────────────────────────────┼────────────────────────┼───────────────┤\n",
       "│ dropout_lstm_vgg19 (<span style=\"color: #0087ff; text-decoration-color: #0087ff\">Dropout</span>)    │ (<span style=\"color: #00d7ff; text-decoration-color: #00d7ff\">None</span>, <span style=\"color: #00af00; text-decoration-color: #00af00\">1024</span>)           │             <span style=\"color: #00af00; text-decoration-color: #00af00\">0</span> │\n",
       "├─────────────────────────────────┼────────────────────────┼───────────────┤\n",
       "│ dense_vgg19_1 (<span style=\"color: #0087ff; text-decoration-color: #0087ff\">Dense</span>)           │ (<span style=\"color: #00d7ff; text-decoration-color: #00d7ff\">None</span>, <span style=\"color: #00af00; text-decoration-color: #00af00\">512</span>)            │       <span style=\"color: #00af00; text-decoration-color: #00af00\">524,800</span> │\n",
       "├─────────────────────────────────┼────────────────────────┼───────────────┤\n",
       "│ dropout_dense_vgg19_1 (<span style=\"color: #0087ff; text-decoration-color: #0087ff\">Dropout</span>) │ (<span style=\"color: #00d7ff; text-decoration-color: #00d7ff\">None</span>, <span style=\"color: #00af00; text-decoration-color: #00af00\">512</span>)            │             <span style=\"color: #00af00; text-decoration-color: #00af00\">0</span> │\n",
       "├─────────────────────────────────┼────────────────────────┼───────────────┤\n",
       "│ dense_vgg19_2 (<span style=\"color: #0087ff; text-decoration-color: #0087ff\">Dense</span>)           │ (<span style=\"color: #00d7ff; text-decoration-color: #00d7ff\">None</span>, <span style=\"color: #00af00; text-decoration-color: #00af00\">128</span>)            │        <span style=\"color: #00af00; text-decoration-color: #00af00\">65,664</span> │\n",
       "├─────────────────────────────────┼────────────────────────┼───────────────┤\n",
       "│ dropout_dense_vgg19_2 (<span style=\"color: #0087ff; text-decoration-color: #0087ff\">Dropout</span>) │ (<span style=\"color: #00d7ff; text-decoration-color: #00d7ff\">None</span>, <span style=\"color: #00af00; text-decoration-color: #00af00\">128</span>)            │             <span style=\"color: #00af00; text-decoration-color: #00af00\">0</span> │\n",
       "├─────────────────────────────────┼────────────────────────┼───────────────┤\n",
       "│ output_vgg19 (<span style=\"color: #0087ff; text-decoration-color: #0087ff\">Dense</span>)            │ (<span style=\"color: #00d7ff; text-decoration-color: #00d7ff\">None</span>, <span style=\"color: #00af00; text-decoration-color: #00af00\">16</span>)             │         <span style=\"color: #00af00; text-decoration-color: #00af00\">2,064</span> │\n",
       "└─────────────────────────────────┴────────────────────────┴───────────────┘\n",
       "</pre>\n"
      ],
      "text/plain": [
       "┏━━━━━━━━━━━━━━━━━━━━━━━━━━━━━━━━━┳━━━━━━━━━━━━━━━━━━━━━━━━┳━━━━━━━━━━━━━━━┓\n",
       "┃\u001b[1m \u001b[0m\u001b[1mLayer (type)                   \u001b[0m\u001b[1m \u001b[0m┃\u001b[1m \u001b[0m\u001b[1mOutput Shape          \u001b[0m\u001b[1m \u001b[0m┃\u001b[1m \u001b[0m\u001b[1m      Param #\u001b[0m\u001b[1m \u001b[0m┃\n",
       "┡━━━━━━━━━━━━━━━━━━━━━━━━━━━━━━━━━╇━━━━━━━━━━━━━━━━━━━━━━━━╇━━━━━━━━━━━━━━━┩\n",
       "│ time_distributed_vgg19          │ (\u001b[38;5;45mNone\u001b[0m, \u001b[38;5;34m5\u001b[0m, \u001b[38;5;34m4\u001b[0m, \u001b[38;5;34m4\u001b[0m, \u001b[38;5;34m512\u001b[0m)   │    \u001b[38;5;34m20,024,384\u001b[0m │\n",
       "│ (\u001b[38;5;33mTimeDistributed\u001b[0m)               │                        │               │\n",
       "├─────────────────────────────────┼────────────────────────┼───────────────┤\n",
       "│ time_distributed_pooling        │ (\u001b[38;5;45mNone\u001b[0m, \u001b[38;5;34m5\u001b[0m, \u001b[38;5;34m512\u001b[0m)         │             \u001b[38;5;34m0\u001b[0m │\n",
       "│ (\u001b[38;5;33mTimeDistributed\u001b[0m)               │                        │               │\n",
       "├─────────────────────────────────┼────────────────────────┼───────────────┤\n",
       "│ bidirectional (\u001b[38;5;33mBidirectional\u001b[0m)   │ (\u001b[38;5;45mNone\u001b[0m, \u001b[38;5;34m1024\u001b[0m)           │     \u001b[38;5;34m4,198,400\u001b[0m │\n",
       "├─────────────────────────────────┼────────────────────────┼───────────────┤\n",
       "│ batch_normalization_vgg19       │ (\u001b[38;5;45mNone\u001b[0m, \u001b[38;5;34m1024\u001b[0m)           │         \u001b[38;5;34m4,096\u001b[0m │\n",
       "│ (\u001b[38;5;33mBatchNormalization\u001b[0m)            │                        │               │\n",
       "├─────────────────────────────────┼────────────────────────┼───────────────┤\n",
       "│ dropout_lstm_vgg19 (\u001b[38;5;33mDropout\u001b[0m)    │ (\u001b[38;5;45mNone\u001b[0m, \u001b[38;5;34m1024\u001b[0m)           │             \u001b[38;5;34m0\u001b[0m │\n",
       "├─────────────────────────────────┼────────────────────────┼───────────────┤\n",
       "│ dense_vgg19_1 (\u001b[38;5;33mDense\u001b[0m)           │ (\u001b[38;5;45mNone\u001b[0m, \u001b[38;5;34m512\u001b[0m)            │       \u001b[38;5;34m524,800\u001b[0m │\n",
       "├─────────────────────────────────┼────────────────────────┼───────────────┤\n",
       "│ dropout_dense_vgg19_1 (\u001b[38;5;33mDropout\u001b[0m) │ (\u001b[38;5;45mNone\u001b[0m, \u001b[38;5;34m512\u001b[0m)            │             \u001b[38;5;34m0\u001b[0m │\n",
       "├─────────────────────────────────┼────────────────────────┼───────────────┤\n",
       "│ dense_vgg19_2 (\u001b[38;5;33mDense\u001b[0m)           │ (\u001b[38;5;45mNone\u001b[0m, \u001b[38;5;34m128\u001b[0m)            │        \u001b[38;5;34m65,664\u001b[0m │\n",
       "├─────────────────────────────────┼────────────────────────┼───────────────┤\n",
       "│ dropout_dense_vgg19_2 (\u001b[38;5;33mDropout\u001b[0m) │ (\u001b[38;5;45mNone\u001b[0m, \u001b[38;5;34m128\u001b[0m)            │             \u001b[38;5;34m0\u001b[0m │\n",
       "├─────────────────────────────────┼────────────────────────┼───────────────┤\n",
       "│ output_vgg19 (\u001b[38;5;33mDense\u001b[0m)            │ (\u001b[38;5;45mNone\u001b[0m, \u001b[38;5;34m16\u001b[0m)             │         \u001b[38;5;34m2,064\u001b[0m │\n",
       "└─────────────────────────────────┴────────────────────────┴───────────────┘\n"
      ]
     },
     "metadata": {},
     "output_type": "display_data"
    },
    {
     "data": {
      "text/html": [
       "<pre style=\"white-space:pre;overflow-x:auto;line-height:normal;font-family:Menlo,'DejaVu Sans Mono',consolas,'Courier New',monospace\"><span style=\"font-weight: bold\"> Total params: </span><span style=\"color: #00af00; text-decoration-color: #00af00\">24,819,408</span> (94.68 MB)\n",
       "</pre>\n"
      ],
      "text/plain": [
       "\u001b[1m Total params: \u001b[0m\u001b[38;5;34m24,819,408\u001b[0m (94.68 MB)\n"
      ]
     },
     "metadata": {},
     "output_type": "display_data"
    },
    {
     "data": {
      "text/html": [
       "<pre style=\"white-space:pre;overflow-x:auto;line-height:normal;font-family:Menlo,'DejaVu Sans Mono',consolas,'Courier New',monospace\"><span style=\"font-weight: bold\"> Trainable params: </span><span style=\"color: #00af00; text-decoration-color: #00af00\">4,792,976</span> (18.28 MB)\n",
       "</pre>\n"
      ],
      "text/plain": [
       "\u001b[1m Trainable params: \u001b[0m\u001b[38;5;34m4,792,976\u001b[0m (18.28 MB)\n"
      ]
     },
     "metadata": {},
     "output_type": "display_data"
    },
    {
     "data": {
      "text/html": [
       "<pre style=\"white-space:pre;overflow-x:auto;line-height:normal;font-family:Menlo,'DejaVu Sans Mono',consolas,'Courier New',monospace\"><span style=\"font-weight: bold\"> Non-trainable params: </span><span style=\"color: #00af00; text-decoration-color: #00af00\">20,026,432</span> (76.39 MB)\n",
       "</pre>\n"
      ],
      "text/plain": [
       "\u001b[1m Non-trainable params: \u001b[0m\u001b[38;5;34m20,026,432\u001b[0m (76.39 MB)\n"
      ]
     },
     "metadata": {},
     "output_type": "display_data"
    },
    {
     "name": "stdout",
     "output_type": "stream",
     "text": [
      "VGG19+LSTM Model Created Successfully!\n",
      "Xception_VGG19_LSTM Model Plot saved successfully...\n",
      "train_gen.videos shape: (1638, 5, 128, 128, 3)\n",
      "train_gen.labels shape: (1638, 16)\n",
      "val_gen.videos shape: (410, 5, 128, 128, 3)\n",
      "val_gen.labels shape: (410, 16)\n",
      "features_test shape: (512, 5, 128, 128, 3)\n",
      "labels_test shape: (512, 16)\n",
      "train_gen batch videos shape: (24, 5, 128, 128, 3)\n",
      "train_gen batch labels shape: (24, 16)\n",
      "val_gen batch videos shape: (24, 5, 128, 128, 3)\n",
      "val_gen batch labels shape: (24, 16)\n",
      "Dataset - Msrdailyactivity3D Rgb Videos Only\n",
      "There are total 16 classes, selected 16 classes\n",
      "Setting 20 videos/class to train the model.\n",
      "Image size 128x128 with 5 sequence length\n",
      "Dropout rate: 0.5\n",
      "Train-Test split ratio 80/20\n",
      "Validation data from Train set 20.0%\n",
      "\n",
      "\n",
      "Initial training started for VGG19+LSTM model with 1638 videos of 16 classes with 410 videos for validation...\n",
      "Epoch 1/30\n"
     ]
    },
    {
     "name": "stderr",
     "output_type": "stream",
     "text": [
      "I0000 00:00:1752235352.810048      60 cuda_dnn.cc:529] Loaded cuDNN version 90300\n"
     ]
    },
    {
     "name": "stdout",
     "output_type": "stream",
     "text": [
      "     69/Unknown \u001b[1m30s\u001b[0m 243ms/step - accuracy: 0.0828 - loss: 23.2407"
     ]
    },
    {
     "name": "stderr",
     "output_type": "stream",
     "text": [
      "/usr/local/lib/python3.11/dist-packages/keras/src/trainers/epoch_iterator.py:151: UserWarning: Your input ran out of data; interrupting training. Make sure that your dataset or generator can generate at least `steps_per_epoch * epochs` batches. You may need to use the `.repeat()` function when building your dataset.\n",
      "  self._interrupted_warning()\n"
     ]
    },
    {
     "name": "stdout",
     "output_type": "stream",
     "text": [
      "\u001b[1m69/69\u001b[0m \u001b[32m━━━━━━━━━━━━━━━━━━━━\u001b[0m\u001b[37m\u001b[0m \u001b[1m37s\u001b[0m 343ms/step - accuracy: 0.0829 - loss: 23.1830 - val_accuracy: 0.0756 - val_loss: 13.6991 - learning_rate: 0.0010\n",
      "Epoch 2/30\n",
      "\u001b[1m69/69\u001b[0m \u001b[32m━━━━━━━━━━━━━━━━━━━━\u001b[0m\u001b[37m\u001b[0m \u001b[1m22s\u001b[0m 313ms/step - accuracy: 0.1225 - loss: 12.6304 - val_accuracy: 0.0610 - val_loss: 9.9795 - learning_rate: 0.0010\n",
      "Epoch 3/30\n",
      "\u001b[1m69/69\u001b[0m \u001b[32m━━━━━━━━━━━━━━━━━━━━\u001b[0m\u001b[37m\u001b[0m \u001b[1m22s\u001b[0m 320ms/step - accuracy: 0.1661 - loss: 9.2526 - val_accuracy: 0.0732 - val_loss: 7.7861 - learning_rate: 0.0010\n",
      "Epoch 4/30\n",
      "\u001b[1m69/69\u001b[0m \u001b[32m━━━━━━━━━━━━━━━━━━━━\u001b[0m\u001b[37m\u001b[0m \u001b[1m21s\u001b[0m 306ms/step - accuracy: 0.2017 - loss: 7.1334 - val_accuracy: 0.1634 - val_loss: 6.2846 - learning_rate: 0.0010\n",
      "Epoch 5/30\n",
      "\u001b[1m69/69\u001b[0m \u001b[32m━━━━━━━━━━━━━━━━━━━━\u001b[0m\u001b[37m\u001b[0m \u001b[1m21s\u001b[0m 304ms/step - accuracy: 0.2274 - loss: 5.7236 - val_accuracy: 0.1732 - val_loss: 5.2575 - learning_rate: 0.0010\n",
      "Epoch 6/30\n",
      "\u001b[1m69/69\u001b[0m \u001b[32m━━━━━━━━━━━━━━━━━━━━\u001b[0m\u001b[37m\u001b[0m \u001b[1m21s\u001b[0m 309ms/step - accuracy: 0.2646 - loss: 4.7123 - val_accuracy: 0.1293 - val_loss: 4.5675 - learning_rate: 0.0010\n",
      "Epoch 7/30\n",
      "\u001b[1m69/69\u001b[0m \u001b[32m━━━━━━━━━━━━━━━━━━━━\u001b[0m\u001b[37m\u001b[0m \u001b[1m21s\u001b[0m 312ms/step - accuracy: 0.3013 - loss: 3.9866 - val_accuracy: 0.1220 - val_loss: 4.3103 - learning_rate: 0.0010\n",
      "Epoch 8/30\n",
      "\u001b[1m69/69\u001b[0m \u001b[32m━━━━━━━━━━━━━━━━━━━━\u001b[0m\u001b[37m\u001b[0m \u001b[1m21s\u001b[0m 309ms/step - accuracy: 0.3105 - loss: 3.5816 - val_accuracy: 0.2024 - val_loss: 3.6473 - learning_rate: 0.0010\n",
      "Epoch 9/30\n",
      "\u001b[1m69/69\u001b[0m \u001b[32m━━━━━━━━━━━━━━━━━━━━\u001b[0m\u001b[37m\u001b[0m \u001b[1m21s\u001b[0m 305ms/step - accuracy: 0.3544 - loss: 3.2386 - val_accuracy: 0.1049 - val_loss: 7.4931 - learning_rate: 0.0010\n",
      "Epoch 10/30\n",
      "\u001b[1m69/69\u001b[0m \u001b[32m━━━━━━━━━━━━━━━━━━━━\u001b[0m\u001b[37m\u001b[0m \u001b[1m21s\u001b[0m 309ms/step - accuracy: 0.3780 - loss: 2.9614 - val_accuracy: 0.2756 - val_loss: 3.3466 - learning_rate: 0.0010\n",
      "Epoch 11/30\n",
      "\u001b[1m69/69\u001b[0m \u001b[32m━━━━━━━━━━━━━━━━━━━━\u001b[0m\u001b[37m\u001b[0m \u001b[1m21s\u001b[0m 309ms/step - accuracy: 0.4169 - loss: 2.7772 - val_accuracy: 0.2634 - val_loss: 4.1140 - learning_rate: 0.0010\n",
      "Epoch 12/30\n",
      "\u001b[1m69/69\u001b[0m \u001b[32m━━━━━━━━━━━━━━━━━━━━\u001b[0m\u001b[37m\u001b[0m \u001b[1m21s\u001b[0m 309ms/step - accuracy: 0.4661 - loss: 2.5114 - val_accuracy: 0.1951 - val_loss: 4.0797 - learning_rate: 0.0010\n",
      "Epoch 13/30\n",
      "\u001b[1m69/69\u001b[0m \u001b[32m━━━━━━━━━━━━━━━━━━━━\u001b[0m\u001b[37m\u001b[0m \u001b[1m21s\u001b[0m 307ms/step - accuracy: 0.4562 - loss: 2.4833 - val_accuracy: 0.2902 - val_loss: 3.4626 - learning_rate: 0.0010\n",
      "Epoch 14/30\n",
      "\u001b[1m69/69\u001b[0m \u001b[32m━━━━━━━━━━━━━━━━━━━━\u001b[0m\u001b[37m\u001b[0m \u001b[1m21s\u001b[0m 307ms/step - accuracy: 0.4866 - loss: 2.2690 - val_accuracy: 0.2829 - val_loss: 3.6125 - learning_rate: 5.0000e-04\n",
      "Epoch 15/30\n",
      "\u001b[1m69/69\u001b[0m \u001b[32m━━━━━━━━━━━━━━━━━━━━\u001b[0m\u001b[37m\u001b[0m \u001b[1m21s\u001b[0m 307ms/step - accuracy: 0.5350 - loss: 2.1092 - val_accuracy: 0.4610 - val_loss: 2.4034 - learning_rate: 5.0000e-04\n",
      "Epoch 16/30\n",
      "\u001b[1m69/69\u001b[0m \u001b[32m━━━━━━━━━━━━━━━━━━━━\u001b[0m\u001b[37m\u001b[0m \u001b[1m21s\u001b[0m 308ms/step - accuracy: 0.5710 - loss: 1.9707 - val_accuracy: 0.4659 - val_loss: 2.3633 - learning_rate: 5.0000e-04\n",
      "Epoch 17/30\n",
      "\u001b[1m69/69\u001b[0m \u001b[32m━━━━━━━━━━━━━━━━━━━━\u001b[0m\u001b[37m\u001b[0m \u001b[1m21s\u001b[0m 307ms/step - accuracy: 0.5682 - loss: 1.9020 - val_accuracy: 0.3317 - val_loss: 2.7811 - learning_rate: 5.0000e-04\n",
      "Epoch 18/30\n",
      "\u001b[1m69/69\u001b[0m \u001b[32m━━━━━━━━━━━━━━━━━━━━\u001b[0m\u001b[37m\u001b[0m \u001b[1m21s\u001b[0m 308ms/step - accuracy: 0.5958 - loss: 1.8125 - val_accuracy: 0.3878 - val_loss: 2.6892 - learning_rate: 5.0000e-04\n",
      "Epoch 19/30\n",
      "\u001b[1m69/69\u001b[0m \u001b[32m━━━━━━━━━━━━━━━━━━━━\u001b[0m\u001b[37m\u001b[0m \u001b[1m21s\u001b[0m 309ms/step - accuracy: 0.5741 - loss: 1.8088 - val_accuracy: 0.3146 - val_loss: 3.8079 - learning_rate: 5.0000e-04\n",
      "Epoch 20/30\n",
      "\u001b[1m69/69\u001b[0m \u001b[32m━━━━━━━━━━━━━━━━━━━━\u001b[0m\u001b[37m\u001b[0m \u001b[1m21s\u001b[0m 309ms/step - accuracy: 0.5999 - loss: 1.7133 - val_accuracy: 0.2171 - val_loss: 4.0531 - learning_rate: 2.5000e-04\n",
      "Epoch 21/30\n",
      "\u001b[1m69/69\u001b[0m \u001b[32m━━━━━━━━━━━━━━━━━━━━\u001b[0m\u001b[37m\u001b[0m \u001b[1m21s\u001b[0m 309ms/step - accuracy: 0.6327 - loss: 1.6109 - val_accuracy: 0.4610 - val_loss: 2.3430 - learning_rate: 2.5000e-04\n",
      "Epoch 22/30\n",
      "\u001b[1m69/69\u001b[0m \u001b[32m━━━━━━━━━━━━━━━━━━━━\u001b[0m\u001b[37m\u001b[0m \u001b[1m21s\u001b[0m 308ms/step - accuracy: 0.6544 - loss: 1.5541 - val_accuracy: 0.3585 - val_loss: 2.8337 - learning_rate: 2.5000e-04\n",
      "Epoch 23/30\n",
      "\u001b[1m69/69\u001b[0m \u001b[32m━━━━━━━━━━━━━━━━━━━━\u001b[0m\u001b[37m\u001b[0m \u001b[1m21s\u001b[0m 308ms/step - accuracy: 0.6608 - loss: 1.5188 - val_accuracy: 0.3829 - val_loss: 3.2548 - learning_rate: 2.5000e-04\n",
      "Epoch 24/30\n",
      "\u001b[1m69/69\u001b[0m \u001b[32m━━━━━━━━━━━━━━━━━━━━\u001b[0m\u001b[37m\u001b[0m \u001b[1m21s\u001b[0m 308ms/step - accuracy: 0.6647 - loss: 1.4844 - val_accuracy: 0.4415 - val_loss: 2.2473 - learning_rate: 2.5000e-04\n",
      "Epoch 25/30\n",
      "\u001b[1m69/69\u001b[0m \u001b[32m━━━━━━━━━━━━━━━━━━━━\u001b[0m\u001b[37m\u001b[0m \u001b[1m21s\u001b[0m 308ms/step - accuracy: 0.6922 - loss: 1.4384 - val_accuracy: 0.4463 - val_loss: 2.4054 - learning_rate: 2.5000e-04\n",
      "Epoch 26/30\n",
      "\u001b[1m69/69\u001b[0m \u001b[32m━━━━━━━━━━━━━━━━━━━━\u001b[0m\u001b[37m\u001b[0m \u001b[1m21s\u001b[0m 308ms/step - accuracy: 0.7179 - loss: 1.3684 - val_accuracy: 0.4390 - val_loss: 2.7414 - learning_rate: 2.5000e-04\n",
      "Epoch 27/30\n",
      "\u001b[1m69/69\u001b[0m \u001b[32m━━━━━━━━━━━━━━━━━━━━\u001b[0m\u001b[37m\u001b[0m \u001b[1m21s\u001b[0m 309ms/step - accuracy: 0.6962 - loss: 1.3994 - val_accuracy: 0.3829 - val_loss: 2.8813 - learning_rate: 2.5000e-04\n",
      "Epoch 28/30\n",
      "\u001b[1m69/69\u001b[0m \u001b[32m━━━━━━━━━━━━━━━━━━━━\u001b[0m\u001b[37m\u001b[0m \u001b[1m21s\u001b[0m 310ms/step - accuracy: 0.7049 - loss: 1.3724 - val_accuracy: 0.5439 - val_loss: 1.8354 - learning_rate: 1.2500e-04\n",
      "Epoch 29/30\n",
      "\u001b[1m69/69\u001b[0m \u001b[32m━━━━━━━━━━━━━━━━━━━━\u001b[0m\u001b[37m\u001b[0m \u001b[1m21s\u001b[0m 309ms/step - accuracy: 0.7597 - loss: 1.2652 - val_accuracy: 0.5024 - val_loss: 1.9772 - learning_rate: 1.2500e-04\n",
      "Epoch 30/30\n",
      "\u001b[1m69/69\u001b[0m \u001b[32m━━━━━━━━━━━━━━━━━━━━\u001b[0m\u001b[37m\u001b[0m \u001b[1m21s\u001b[0m 309ms/step - accuracy: 0.7421 - loss: 1.2586 - val_accuracy: 0.5098 - val_loss: 1.9689 - learning_rate: 1.2500e-04\n",
      "\n",
      "Fine-tuning started for VGG19+LSTM model with 1638 videos of 16 classes with 410 videos for validation...\n",
      "Epoch 1/30\n",
      "\u001b[1m69/69\u001b[0m \u001b[32m━━━━━━━━━━━━━━━━━━━━\u001b[0m\u001b[37m\u001b[0m \u001b[1m47s\u001b[0m 509ms/step - accuracy: 0.4348 - loss: 2.6408 - val_accuracy: 0.2561 - val_loss: 4.0485 - learning_rate: 1.0000e-04\n",
      "Epoch 2/30\n",
      "\u001b[1m69/69\u001b[0m \u001b[32m━━━━━━━━━━━━━━━━━━━━\u001b[0m\u001b[37m\u001b[0m \u001b[1m32s\u001b[0m 469ms/step - accuracy: 0.6443 - loss: 1.4830 - val_accuracy: 0.5341 - val_loss: 2.4029 - learning_rate: 1.0000e-04\n",
      "Epoch 3/30\n",
      "\u001b[1m69/69\u001b[0m \u001b[32m━━━━━━━━━━━━━━━━━━━━\u001b[0m\u001b[37m\u001b[0m \u001b[1m32s\u001b[0m 462ms/step - accuracy: 0.7562 - loss: 1.1396 - val_accuracy: 0.6293 - val_loss: 1.6484 - learning_rate: 1.0000e-04\n",
      "Epoch 4/30\n",
      "\u001b[1m69/69\u001b[0m \u001b[32m━━━━━━━━━━━━━━━━━━━━\u001b[0m\u001b[37m\u001b[0m \u001b[1m32s\u001b[0m 469ms/step - accuracy: 0.7916 - loss: 1.0110 - val_accuracy: 0.6561 - val_loss: 1.6626 - learning_rate: 1.0000e-04\n",
      "Epoch 5/30\n",
      "\u001b[1m69/69\u001b[0m \u001b[32m━━━━━━━━━━━━━━━━━━━━\u001b[0m\u001b[37m\u001b[0m \u001b[1m32s\u001b[0m 466ms/step - accuracy: 0.8487 - loss: 0.8510 - val_accuracy: 0.5488 - val_loss: 2.1466 - learning_rate: 1.0000e-04\n",
      "Epoch 6/30\n",
      "\u001b[1m69/69\u001b[0m \u001b[32m━━━━━━━━━━━━━━━━━━━━\u001b[0m\u001b[37m\u001b[0m \u001b[1m32s\u001b[0m 465ms/step - accuracy: 0.8645 - loss: 0.7911 - val_accuracy: 0.5293 - val_loss: 2.6176 - learning_rate: 1.0000e-04\n",
      "Epoch 7/30\n",
      "\u001b[1m69/69\u001b[0m \u001b[32m━━━━━━━━━━━━━━━━━━━━\u001b[0m\u001b[37m\u001b[0m \u001b[1m32s\u001b[0m 469ms/step - accuracy: 0.9151 - loss: 0.6371 - val_accuracy: 0.8829 - val_loss: 0.7158 - learning_rate: 5.0000e-05\n",
      "Epoch 8/30\n",
      "\u001b[1m69/69\u001b[0m \u001b[32m━━━━━━━━━━━━━━━━━━━━\u001b[0m\u001b[37m\u001b[0m \u001b[1m32s\u001b[0m 468ms/step - accuracy: 0.9564 - loss: 0.5537 - val_accuracy: 0.9268 - val_loss: 0.6175 - learning_rate: 5.0000e-05\n",
      "Epoch 9/30\n",
      "\u001b[1m69/69\u001b[0m \u001b[32m━━━━━━━━━━━━━━━━━━━━\u001b[0m\u001b[37m\u001b[0m \u001b[1m32s\u001b[0m 466ms/step - accuracy: 0.9802 - loss: 0.4862 - val_accuracy: 0.9244 - val_loss: 0.5921 - learning_rate: 5.0000e-05\n",
      "Epoch 10/30\n",
      "\u001b[1m69/69\u001b[0m \u001b[32m━━━━━━━━━━━━━━━━━━━━\u001b[0m\u001b[37m\u001b[0m \u001b[1m32s\u001b[0m 467ms/step - accuracy: 0.9857 - loss: 0.4670 - val_accuracy: 0.9463 - val_loss: 0.5390 - learning_rate: 5.0000e-05\n",
      "Epoch 11/30\n",
      "\u001b[1m69/69\u001b[0m \u001b[32m━━━━━━━━━━━━━━━━━━━━\u001b[0m\u001b[37m\u001b[0m \u001b[1m32s\u001b[0m 467ms/step - accuracy: 0.9722 - loss: 0.4771 - val_accuracy: 0.8878 - val_loss: 0.6654 - learning_rate: 5.0000e-05\n",
      "Epoch 12/30\n",
      "\u001b[1m69/69\u001b[0m \u001b[32m━━━━━━━━━━━━━━━━━━━━\u001b[0m\u001b[37m\u001b[0m \u001b[1m32s\u001b[0m 467ms/step - accuracy: 0.9731 - loss: 0.4639 - val_accuracy: 0.9220 - val_loss: 0.5606 - learning_rate: 5.0000e-05\n",
      "Epoch 13/30\n",
      "\u001b[1m69/69\u001b[0m \u001b[32m━━━━━━━━━━━━━━━━━━━━\u001b[0m\u001b[37m\u001b[0m \u001b[1m32s\u001b[0m 468ms/step - accuracy: 0.9949 - loss: 0.4101 - val_accuracy: 0.9390 - val_loss: 0.5407 - learning_rate: 5.0000e-05\n",
      "Epoch 14/30\n",
      "\u001b[1m69/69\u001b[0m \u001b[32m━━━━━━━━━━━━━━━━━━━━\u001b[0m\u001b[37m\u001b[0m \u001b[1m32s\u001b[0m 468ms/step - accuracy: 0.9983 - loss: 0.3863 - val_accuracy: 0.9756 - val_loss: 0.4319 - learning_rate: 2.5000e-05\n",
      "Epoch 15/30\n",
      "\u001b[1m69/69\u001b[0m \u001b[32m━━━━━━━━━━━━━━━━━━━━\u001b[0m\u001b[37m\u001b[0m \u001b[1m32s\u001b[0m 467ms/step - accuracy: 0.9978 - loss: 0.3840 - val_accuracy: 0.9585 - val_loss: 0.4521 - learning_rate: 2.5000e-05\n",
      "Epoch 16/30\n",
      "\u001b[1m69/69\u001b[0m \u001b[32m━━━━━━━━━━━━━━━━━━━━\u001b[0m\u001b[37m\u001b[0m \u001b[1m32s\u001b[0m 468ms/step - accuracy: 1.0000 - loss: 0.3737 - val_accuracy: 0.9805 - val_loss: 0.4089 - learning_rate: 2.5000e-05\n",
      "Epoch 17/30\n",
      "\u001b[1m69/69\u001b[0m \u001b[32m━━━━━━━━━━━━━━━━━━━━\u001b[0m\u001b[37m\u001b[0m \u001b[1m32s\u001b[0m 467ms/step - accuracy: 0.9991 - loss: 0.3656 - val_accuracy: 0.9683 - val_loss: 0.4206 - learning_rate: 2.5000e-05\n",
      "Epoch 18/30\n",
      "\u001b[1m69/69\u001b[0m \u001b[32m━━━━━━━━━━━━━━━━━━━━\u001b[0m\u001b[37m\u001b[0m \u001b[1m32s\u001b[0m 467ms/step - accuracy: 0.9994 - loss: 0.3556 - val_accuracy: 0.9732 - val_loss: 0.4091 - learning_rate: 2.5000e-05\n",
      "Epoch 19/30\n",
      "\u001b[1m69/69\u001b[0m \u001b[32m━━━━━━━━━━━━━━━━━━━━\u001b[0m\u001b[37m\u001b[0m \u001b[1m32s\u001b[0m 468ms/step - accuracy: 0.9990 - loss: 0.3512 - val_accuracy: 0.9732 - val_loss: 0.4046 - learning_rate: 2.5000e-05\n",
      "Epoch 20/30\n",
      "\u001b[1m69/69\u001b[0m \u001b[32m━━━━━━━━━━━━━━━━━━━━\u001b[0m\u001b[37m\u001b[0m \u001b[1m32s\u001b[0m 468ms/step - accuracy: 1.0000 - loss: 0.3458 - val_accuracy: 0.9732 - val_loss: 0.3944 - learning_rate: 2.5000e-05\n",
      "Epoch 21/30\n",
      "\u001b[1m69/69\u001b[0m \u001b[32m━━━━━━━━━━━━━━━━━━━━\u001b[0m\u001b[37m\u001b[0m \u001b[1m32s\u001b[0m 469ms/step - accuracy: 0.9985 - loss: 0.3401 - val_accuracy: 0.9805 - val_loss: 0.3739 - learning_rate: 2.5000e-05\n",
      "Epoch 22/30\n",
      "\u001b[1m69/69\u001b[0m \u001b[32m━━━━━━━━━━━━━━━━━━━━\u001b[0m\u001b[37m\u001b[0m \u001b[1m32s\u001b[0m 468ms/step - accuracy: 0.9979 - loss: 0.3360 - val_accuracy: 0.9829 - val_loss: 0.3676 - learning_rate: 2.5000e-05\n",
      "Epoch 23/30\n",
      "\u001b[1m69/69\u001b[0m \u001b[32m━━━━━━━━━━━━━━━━━━━━\u001b[0m\u001b[37m\u001b[0m \u001b[1m32s\u001b[0m 467ms/step - accuracy: 0.9985 - loss: 0.3313 - val_accuracy: 0.9756 - val_loss: 0.3688 - learning_rate: 2.5000e-05\n",
      "Epoch 24/30\n",
      "\u001b[1m69/69\u001b[0m \u001b[32m━━━━━━━━━━━━━━━━━━━━\u001b[0m\u001b[37m\u001b[0m \u001b[1m32s\u001b[0m 466ms/step - accuracy: 1.0000 - loss: 0.3243 - val_accuracy: 0.9634 - val_loss: 0.3996 - learning_rate: 2.5000e-05\n",
      "Epoch 25/30\n",
      "\u001b[1m69/69\u001b[0m \u001b[32m━━━━━━━━━━━━━━━━━━━━\u001b[0m\u001b[37m\u001b[0m \u001b[1m32s\u001b[0m 466ms/step - accuracy: 1.0000 - loss: 0.3198 - val_accuracy: 0.9488 - val_loss: 0.4617 - learning_rate: 2.5000e-05\n",
      "Epoch 26/30\n",
      "\u001b[1m69/69\u001b[0m \u001b[32m━━━━━━━━━━━━━━━━━━━━\u001b[0m\u001b[37m\u001b[0m \u001b[1m32s\u001b[0m 467ms/step - accuracy: 0.9976 - loss: 0.3159 - val_accuracy: 0.9659 - val_loss: 0.3649 - learning_rate: 1.2500e-05\n",
      "Epoch 27/30\n",
      "\u001b[1m69/69\u001b[0m \u001b[32m━━━━━━━━━━━━━━━━━━━━\u001b[0m\u001b[37m\u001b[0m \u001b[1m32s\u001b[0m 466ms/step - accuracy: 1.0000 - loss: 0.3137 - val_accuracy: 0.9683 - val_loss: 0.3544 - learning_rate: 1.2500e-05\n",
      "Epoch 28/30\n",
      "\u001b[1m69/69\u001b[0m \u001b[32m━━━━━━━━━━━━━━━━━━━━\u001b[0m\u001b[37m\u001b[0m \u001b[1m32s\u001b[0m 466ms/step - accuracy: 1.0000 - loss: 0.3078 - val_accuracy: 0.9805 - val_loss: 0.3509 - learning_rate: 1.2500e-05\n",
      "Epoch 29/30\n",
      "\u001b[1m69/69\u001b[0m \u001b[32m━━━━━━━━━━━━━━━━━━━━\u001b[0m\u001b[37m\u001b[0m \u001b[1m32s\u001b[0m 467ms/step - accuracy: 0.9988 - loss: 0.3082 - val_accuracy: 0.9732 - val_loss: 0.3573 - learning_rate: 1.2500e-05\n",
      "Epoch 30/30\n",
      "\u001b[1m69/69\u001b[0m \u001b[32m━━━━━━━━━━━━━━━━━━━━\u001b[0m\u001b[37m\u001b[0m \u001b[1m32s\u001b[0m 468ms/step - accuracy: 0.9992 - loss: 0.3077 - val_accuracy: 0.9829 - val_loss: 0.3313 - learning_rate: 1.2500e-05\n",
      "\n",
      "Evaluating VGG19+LSTM model on test set...\n",
      "Total 512 videos and 512 classes\n",
      "test_gen batch videos shape: (24, 5, 128, 128, 3)\n",
      "test_gen batch labels shape: (24, 16)\n",
      "\u001b[1m22/22\u001b[0m \u001b[32m━━━━━━━━━━━━━━━━━━━━\u001b[0m\u001b[37m\u001b[0m \u001b[1m6s\u001b[0m 266ms/step - accuracy: 0.9899 - loss: 0.3308\n",
      "VGG19+LSTM Test Loss: 0.3329\n",
      "VGG19+LSTM Test Accuracy: 99.02%\n"
     ]
    },
    {
     "data": {
      "image/png": "[encoded data removed]",
      "text/plain": [
       "<Figure size 1200x500 with 2 Axes>"
      ]
     },
     "metadata": {},
     "output_type": "display_data"
    },
    {
     "name": "stdout",
     "output_type": "stream",
     "text": [
      "\u001b[1m22/22\u001b[0m \u001b[32m━━━━━━━━━━━━━━━━━━━━\u001b[0m\u001b[37m\u001b[0m \u001b[1m8s\u001b[0m 295ms/step\n",
      "True classes shape: (512,)\n",
      "Predicted classes shape: (512,)\n",
      "\n",
      "VGG19+LSTM Classification Report:\n",
      "                    precision    recall  f1-score   support\n",
      "\n",
      "  write on a paper       1.00      1.00      1.00        29\n",
      "        use laptop       1.00      1.00      1.00        36\n",
      "         read book       1.00      1.00      1.00        29\n",
      "         sit still       1.00      0.97      0.99        37\n",
      "             drink       0.94      0.97      0.96        35\n",
      "          sit down       1.00      1.00      1.00        38\n",
      "use vacuum cleaner       1.00      1.00      1.00        28\n",
      "               eat       0.97      1.00      0.98        28\n",
      "       play guitar       1.00      1.00      1.00        39\n",
      "  lie down on sofa       1.00      1.00      1.00        28\n",
      "          stand up       1.00      1.00      1.00        36\n",
      "        toss paper       0.97      1.00      0.98        28\n",
      "              walk       1.00      1.00      1.00        30\n",
      "         play game       1.00      0.96      0.98        26\n",
      "          cheer up       1.00      0.95      0.97        37\n",
      "    call cellphone       0.97      1.00      0.98        28\n",
      "\n",
      "          accuracy                           0.99       512\n",
      "         macro avg       0.99      0.99      0.99       512\n",
      "      weighted avg       0.99      0.99      0.99       512\n",
      "\n"
     ]
    },
    {
     "name": "stderr",
     "output_type": "stream",
     "text": [
      "/usr/local/lib/python3.11/dist-packages/keras/src/trainers/epoch_iterator.py:151: UserWarning: Your input ran out of data; interrupting training. Make sure that your dataset or generator can generate at least `steps_per_epoch * epochs` batches. You may need to use the `.repeat()` function when building your dataset.\n",
      "  self._interrupted_warning()\n"
     ]
    },
    {
     "data": {
      "image/png": "[encoded data removed]",
      "text/plain": [
       "<Figure size 800x600 with 2 Axes>"
      ]
     },
     "metadata": {},
     "output_type": "display_data"
    }
   ],
   "source": [
    "# Import necessary libraries\n",
    "from tensorflow.keras.applications import VGG19\n",
    "from tensorflow.keras.models import Sequential\n",
    "from tensorflow.keras.layers import TimeDistributed, GlobalAveragePooling2D, LSTM, Dropout, Dense, BatchNormalization, Bidirectional\n",
    "from tensorflow.keras.regularizers import l2\n",
    "from tensorflow.keras.callbacks import EarlyStopping, ReduceLROnPlateau\n",
    "from tensorflow.keras.utils import to_categorical\n",
    "import tensorflow as tf\n",
    "import numpy as np\n",
    "import gc\n",
    "\n",
    "# Clear memory before creating the new model\n",
    "gc.collect()\n",
    "tf.keras.backend.clear_session()\n",
    "print(\"Memory cleared before creating VGG19+LSTM model\")\n",
    "\n",
    "# Print TensorFlow version\n",
    "print(f\"TensorFlow version: {tf.__version__}\")\n",
    "\n",
    "# Pre-load VGG19 weights\n",
    "print(\"Pre-loading VGG19 weights...\")\n",
    "try:\n",
    "    base_model = VGG19(weights='imagenet', include_top=False, input_shape=(IMAGE_HEIGHT, IMAGE_WIDTH, 3))\n",
    "    print(\"VGG19 weights loaded successfully!\")\n",
    "except Exception as e:\n",
    "    print(f\"Failed to load VGG19 weights: {str(e)}\")\n",
    "    print(\"Falling back to initializing VGG19 without pre-trained weights...\")\n",
    "    base_model = VGG19(weights=None, include_top=False, input_shape=(IMAGE_HEIGHT, IMAGE_WIDTH, 3))\n",
    "\n",
    "# Define function to create VGG19+LSTM model\n",
    "def create_vgg19_lstm_model(sequence_length, image_height, image_width, classes_list=None, dropout_rate=0.5, base_model=None):\n",
    "    print(\"Creating VGG19+LSTM model with parameters:\")\n",
    "    print(f\"sequence_length: {sequence_length}, image_height: {image_height}, image_width: {image_width}, classes_list length: {len(classes_list) if classes_list is not None else None}, dropout_rate: {dropout_rate}\")\n",
    "    \n",
    "    if classes_list is None:\n",
    "        raise ValueError(\"classes_list must be provided to define the output layer size\")\n",
    "    if base_model is None:\n",
    "        raise ValueError(\"base_model must be provided to avoid re-downloading weights\")\n",
    "\n",
    "    try:\n",
    "        # Use the pre-loaded base model\n",
    "        vgg19 = base_model\n",
    "        # Freeze the base model for initial training\n",
    "        vgg19.trainable = False\n",
    "\n",
    "        # Define the Sequential model\n",
    "        model = Sequential([\n",
    "            # TimeDistributed VGG19 model\n",
    "            TimeDistributed(\n",
    "                vgg19,\n",
    "                input_shape=(sequence_length, image_height, image_width, 3),\n",
    "                name=\"time_distributed_vgg19\"\n",
    "            ),\n",
    "            # TimeDistributed GlobalAveragePooling2D\n",
    "            TimeDistributed(GlobalAveragePooling2D(), name=\"time_distributed_pooling\"),\n",
    "            # LSTM layer with 512 units\n",
    "            Bidirectional(LSTM(512, activation=\"tanh\", return_sequences=False, kernel_regularizer=l2(0.01), name=\"lstm_vgg19\")),\n",
    "            BatchNormalization(name=\"batch_normalization_vgg19\"),\n",
    "            # Dropout after LSTM\n",
    "            Dropout(dropout_rate, name=\"dropout_lstm_vgg19\"),\n",
    "            # Dense layer with 512 units\n",
    "            Dense(512, activation=\"relu\", kernel_regularizer=l2(0.01), name=\"dense_vgg19_1\"),\n",
    "            # Dropout after first Dense\n",
    "            Dropout(dropout_rate, name=\"dropout_dense_vgg19_1\"),\n",
    "            # Dense layer with 128 units\n",
    "            Dense(128, activation=\"relu\", kernel_regularizer=l2(0.01), name=\"dense_vgg19_2\"),\n",
    "            # Dropout after second Dense\n",
    "            Dropout(dropout_rate, name=\"dropout_dense_vgg19_2\"),\n",
    "            # Output Dense layer with softmax activation\n",
    "            Dense(len(classes_list), activation=\"softmax\", name=\"output_vgg19\")\n",
    "        ])\n",
    "\n",
    "        # Print model summary\n",
    "        print(\"VGG19+LSTM model architecture created successfully!\")\n",
    "        model.summary()\n",
    "\n",
    "        return model\n",
    "\n",
    "    except Exception as e:\n",
    "        print(f\"Error creating VGG19+LSTM model: {str(e)}\")\n",
    "        import traceback\n",
    "        traceback.print_exc()\n",
    "        return None\n",
    "\n",
    "# Create the VGG19+LSTM model using the pre-loaded base model\n",
    "vgg19_lstm_model = create_vgg19_lstm_model(\n",
    "    sequence_length=SEQUENCE_LENGTH,\n",
    "    image_height=IMAGE_HEIGHT,\n",
    "    image_width=IMAGE_WIDTH,\n",
    "    classes_list=CLASSES_LIST,\n",
    "    dropout_rate=DROPOUT_RATE,\n",
    "    base_model=base_model\n",
    ")\n",
    "\n",
    "# Check if model was created successfully\n",
    "if vgg19_lstm_model is None:\n",
    "    raise ValueError(\"Failed to create VGG19+LSTM model. Check error messages above.\")\n",
    "else:\n",
    "    print(\"VGG19+LSTM Model Created Successfully!\")\n",
    "\n",
    "# Plot the model structure\n",
    "from tensorflow.keras.utils import plot_model\n",
    "try:\n",
    "    plot_model(vgg19_lstm_model, to_file=f'{MODEL_NAME}_VGG19_LSTM_model_Plot.png', show_shapes=True, show_layer_names=True)\n",
    "    print(f\"{MODEL_NAME}_VGG19_LSTM Model Plot saved successfully...\")\n",
    "except Exception as e:\n",
    "    print(f\"Failed to plot model: {str(e)}\")\n",
    "\n",
    "# Verify data shapes\n",
    "print(f\"train_gen.videos shape: {np.shape(train_gen.videos)}\")\n",
    "print(f\"train_gen.labels shape: {np.shape(train_gen.labels)}\")\n",
    "print(f\"val_gen.videos shape: {np.shape(val_gen.videos)}\")\n",
    "print(f\"val_gen.labels shape: {np.shape(val_gen.labels)}\")\n",
    "print(f\"features_test shape: {np.shape(features_test)}\")\n",
    "print(f\"labels_test shape: {np.shape(labels_test)}\")\n",
    "\n",
    "# Ensure labels_test is one-hot encoded\n",
    "if len(labels_test.shape) == 1:\n",
    "    print(\"Converting labels_test to one-hot encoded format...\")\n",
    "    labels_test = to_categorical(labels_test, num_classes=NO_OF_CLASSES)\n",
    "    print(f\"New labels_test shape: {labels_test.shape}\")\n",
    "\n",
    "# Verify generator batch shapes\n",
    "try:\n",
    "    videos, labels = train_gen[0]\n",
    "    print(f\"train_gen batch videos shape: {videos.shape}\")\n",
    "    print(f\"train_gen batch labels shape: {labels.shape}\")\n",
    "    videos, labels = val_gen[0]\n",
    "    print(f\"val_gen batch videos shape: {videos.shape}\")\n",
    "    print(f\"val_gen batch labels shape: {labels.shape}\")\n",
    "except Exception as e:\n",
    "    print(f\"Error accessing generator data: {str(e)}\")\n",
    "\n",
    "# Compile the model for initial training\n",
    "early_stopping_callback = EarlyStopping(monitor='val_loss', patience=7, mode='min', restore_best_weights=True)\n",
    "lr_scheduler = ReduceLROnPlateau(monitor='val_loss', factor=0.5, patience=3, min_lr=1e-6)\n",
    "\n",
    "vgg19_lstm_model.compile(\n",
    "    loss='categorical_crossentropy',\n",
    "    optimizer=tf.keras.optimizers.Adam(learning_rate=0.001),  # Higher learning rate for initial training\n",
    "    metrics=['accuracy']\n",
    ")\n",
    "\n",
    "# Print dataset summary\n",
    "print(f\"Dataset - {DATASET_NAME}\")\n",
    "print(f\"There are total {len(ALL_CLASS_NAMES)} classes, selected {NO_OF_CLASSES} classes\")\n",
    "print(f\"Setting {MAX_VIDEO_PER_CLASS} videos/class to train the model.\")\n",
    "print(f\"Image size {IMAGE_HEIGHT}x{IMAGE_WIDTH} with {SEQUENCE_LENGTH} sequence length\")\n",
    "print(f\"Dropout rate: {DROPOUT_RATE}\")\n",
    "print(f\"Train-Test split ratio {int((1-TEST_SIZE)*100)}/{int(TEST_SIZE*100)}\")\n",
    "print(f\"Validation data from Train set {VALIDATION_SPLIT*100}%\")\n",
    "print(\"\\n\")\n",
    "\n",
    "# Initial training with frozen base model\n",
    "print(f\"Initial training started for VGG19+LSTM model with {len(train_gen.videos)} videos of {NO_OF_CLASSES} classes with {len(val_gen.videos)} videos for validation...\")\n",
    "try:\n",
    "    vgg19_history_initial = vgg19_lstm_model.fit(\n",
    "        train_gen.as_dataset(),\n",
    "        validation_data=val_gen.as_dataset(),\n",
    "        epochs=EPOCHS,\n",
    "        class_weight=class_weights,\n",
    "        callbacks=[early_stopping_callback, lr_scheduler]\n",
    "    )\n",
    "except Exception as e:\n",
    "    print(f\"Error during initial model training: {str(e)}\")\n",
    "    import traceback\n",
    "    traceback.print_exc()\n",
    "\n",
    "# Unfreeze some layers for fine-tuning\n",
    "base_model.trainable = True\n",
    "# Freeze all layers except the last 8 layers (consistent with previous VGG19 code)\n",
    "for layer in base_model.layers[:-8]:\n",
    "    layer.trainable = False\n",
    "\n",
    "# Recompile the model with a lower learning rate for fine-tuning\n",
    "vgg19_lstm_model.compile(\n",
    "    loss='categorical_crossentropy',\n",
    "    optimizer=tf.keras.optimizers.Adam(learning_rate=0.0001),  # Lower learning rate for fine-tuning\n",
    "    metrics=['accuracy']\n",
    ")\n",
    "\n",
    "# Fine-tune the model\n",
    "print(f\"\\nFine-tuning started for VGG19+LSTM model with {len(train_gen.videos)} videos of {NO_OF_CLASSES} classes with {len(val_gen.videos)} videos for validation...\")\n",
    "try:\n",
    "    vgg19_history_fine = vgg19_lstm_model.fit(\n",
    "        train_gen.as_dataset(),\n",
    "        validation_data=val_gen.as_dataset(),\n",
    "        epochs=EPOCHS,\n",
    "        class_weight=class_weights,\n",
    "        callbacks=[early_stopping_callback, lr_scheduler]\n",
    "    )\n",
    "except Exception as e:\n",
    "    print(f\"Error during fine-tuning: {str(e)}\")\n",
    "    import traceback\n",
    "    traceback.print_exc()\n",
    "\n",
    "# Evaluate the model on the test set\n",
    "print(\"\\nEvaluating VGG19+LSTM model on test set...\")\n",
    "test_gen = VideoDataGenerator(\n",
    "    videos=features_test,\n",
    "    labels=labels_test,\n",
    "    batch_size=BATCH_SIZE\n",
    ")\n",
    "try:\n",
    "    videos, labels = test_gen[0]\n",
    "    print(f\"test_gen batch videos shape: {videos.shape}\")\n",
    "    print(f\"test_gen batch labels shape: {labels.shape}\")\n",
    "    loss, accuracy = vgg19_lstm_model.evaluate(test_gen.as_dataset())\n",
    "    print(f'VGG19+LSTM Test Loss: {loss:.4f}')\n",
    "    print(f'VGG19+LSTM Test Accuracy: {accuracy * 100:.2f}%')\n",
    "except Exception as e:\n",
    "    print(f\"Error during model evaluation: {str(e)}\")\n",
    "    import traceback\n",
    "    traceback.print_exc()\n",
    "\n",
    "# Plot training history (combine initial and fine-tuning)\n",
    "import matplotlib.pyplot as plt\n",
    "\n",
    "try:\n",
    "    # Combine histories\n",
    "    history_accuracy = vgg19_history_initial.history['accuracy'] + vgg19_history_fine.history['accuracy']\n",
    "    history_val_accuracy = vgg19_history_initial.history['val_accuracy'] + vgg19_history_fine.history['val_accuracy']\n",
    "    history_loss = vgg19_history_initial.history['loss'] + vgg19_history_fine.history['loss']\n",
    "    history_val_loss = vgg19_history_initial.history['val_loss'] + vgg19_history_fine.history['val_loss']\n",
    "\n",
    "    plt.figure(figsize=(12, 5))\n",
    "\n",
    "    # Accuracy\n",
    "    plt.subplot(1, 2, 1)\n",
    "    plt.plot(history_accuracy, label='Train Accuracy')\n",
    "    plt.plot(history_val_accuracy, label='Validation Accuracy')\n",
    "    plt.axvline(x=len(vgg19_history_initial.history['accuracy']), color='r', linestyle='--', label='Start Fine-Tuning')\n",
    "    plt.title('VGG19+LSTM Model Accuracy')\n",
    "    plt.xlabel('Epoch')\n",
    "    plt.ylabel('Accuracy')\n",
    "    plt.legend()\n",
    "\n",
    "    # Loss\n",
    "    plt.subplot(1, 2, 2)\n",
    "    plt.plot(history_loss, label='Train Loss')\n",
    "    plt.plot(history_val_loss, label='Validation Loss')\n",
    "    plt.axvline(x=len(vgg19_history_initial.history['loss']), color='r', linestyle='--', label='Start Fine-Tuning')\n",
    "    plt.title('VGG19+LSTM Model Loss')\n",
    "    plt.xlabel('Epoch')\n",
    "    plt.ylabel('Loss')\n",
    "    plt.legend()\n",
    "\n",
    "    plt.tight_layout()\n",
    "    plt.show()\n",
    "except Exception as e:\n",
    "    print(f\"Error plotting training history: {str(e)}\")\n",
    "\n",
    "# Generate confusion matrix and classification report\n",
    "from sklearn.metrics import classification_report, confusion_matrix\n",
    "import seaborn as sns\n",
    "\n",
    "# Get predictions\n",
    "try:\n",
    "    predictions = vgg19_lstm_model.predict(test_gen.as_dataset())\n",
    "    predicted_classes = np.argmax(predictions, axis=1)\n",
    "    true_classes = np.argmax(labels_test, axis=1)\n",
    "\n",
    "    # Verify shapes\n",
    "    print(f\"True classes shape: {true_classes.shape}\")\n",
    "    print(f\"Predicted classes shape: {predicted_classes.shape}\")\n",
    "    assert len(true_classes) == len(predicted_classes), \"Sample counts do not match!\"\n",
    "\n",
    "    # Generate classification report\n",
    "    print(\"\\nVGG19+LSTM Classification Report:\")\n",
    "    print(classification_report(true_classes, predicted_classes, target_names=CLASSES_LIST))\n",
    "\n",
    "    # Plot confusion matrix\n",
    "    cm = confusion_matrix(true_classes, predicted_classes)\n",
    "    plt.figure(figsize=(8, 6))\n",
    "    sns.heatmap(cm, annot=True, fmt='d', cmap='Blues', xticklabels=CLASSES_LIST, yticklabels=CLASSES_LIST)\n",
    "    plt.xlabel('Predicted')\n",
    "    plt.ylabel('True')\n",
    "    plt.title('VGG19+LSTM Confusion Matrix')\n",
    "    plt.show()\n",
    "except Exception as e:\n",
    "    print(f\"Error during prediction or plotting: {str(e)}\")\n",
    "    import traceback\n",
    "    traceback.print_exc()"
   ]
  },
  {
   "cell_type": "code",
   "execution_count": 55,
   "id": "d2ff29f8",
   "metadata": {
    "execution": {
     "iopub.execute_input": "2025-07-11T12:29:55.990860Z",
     "iopub.status.busy": "2025-07-11T12:29:55.989827Z",
     "iopub.status.idle": "2025-07-11T12:30:02.998755Z",
     "shell.execute_reply": "2025-07-11T12:30:02.997991Z"
    },
    "papermill": {
     "duration": 7.277093,
     "end_time": "2025-07-11T12:30:03.000017",
     "exception": false,
     "start_time": "2025-07-11T12:29:55.722924",
     "status": "completed"
    },
    "tags": []
   },
   "outputs": [
    {
     "name": "stdout",
     "output_type": "stream",
     "text": [
      "\u001b[1m16/16\u001b[0m \u001b[32m━━━━━━━━━━━━━━━━━━━━\u001b[0m\u001b[37m\u001b[0m \u001b[1m6s\u001b[0m 265ms/step - accuracy: 0.9885 - loss: 0.3345\n"
     ]
    }
   ],
   "source": [
    "# previous code\n",
    "model_evaluation_history = vgg19_lstm_model.evaluate(features_test, labels_test)"
   ]
  }
 ],
 "metadata": {
  "kaggle": {
   "accelerator": "nvidiaTeslaT4",
   "dataSources": [
    {
     "datasetId": 1357563,
     "sourceId": 2256095,
     "sourceType": "datasetVersion"
    },
    {
     "datasetId": 7763484,
     "sourceId": 12338519,
     "sourceType": "datasetVersion"
    },
    {
     "datasetId": 7801555,
     "sourceId": 12373067,
     "sourceType": "datasetVersion"
    },
    {
     "datasetId": 7801884,
     "sourceId": 12373562,
     "sourceType": "datasetVersion"
    }
   ],
   "dockerImageVersionId": 31090,
   "isGpuEnabled": true,
   "isInternetEnabled": true,
   "language": "python",
   "sourceType": "notebook"
  },
  "kernelspec": {
   "display_name": "Python 3",
   "language": "python",
   "name": "python3"
  },
  "language_info": {
   "codemirror_mode": {
    "name": "ipython",
    "version": 3
   },
   "file_extension": ".py",
   "mimetype": "text/x-python",
   "name": "python",
   "nbconvert_exporter": "python",
   "pygments_lexer": "ipython3",
   "version": "3.11.13"
  },
  "papermill": {
   "default_parameters": {},
   "duration": 1995.202846,
   "end_time": "2025-07-11T12:30:07.270876",
   "environment_variables": {},
   "exception": null,
   "input_path": "__notebook__.ipynb",
   "output_path": "__notebook__.ipynb",
   "parameters": {},
   "start_time": "2025-07-11T11:56:52.068030",
   "version": "2.6.0"
  }
 },
 "nbformat": 4,
 "nbformat_minor": 5
}
