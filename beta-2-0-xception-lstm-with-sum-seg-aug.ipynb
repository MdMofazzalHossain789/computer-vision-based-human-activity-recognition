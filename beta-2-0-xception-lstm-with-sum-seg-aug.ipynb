{
 "cells": [
  {
   "cell_type": "markdown",
   "id": "13768a49",
   "metadata": {
    "papermill": {
     "duration": 0.012341,
     "end_time": "2025-07-06T05:30:17.507056",
     "exception": false,
     "start_time": "2025-07-06T05:30:17.494715",
     "status": "completed"
    },
    "tags": []
   },
   "source": [
    "# Initialization\n",
    "## Import Libraries"
   ]
  },
  {
   "cell_type": "code",
   "execution_count": 1,
   "id": "72ba8e91",
   "metadata": {
    "execution": {
     "iopub.execute_input": "2025-07-06T05:30:17.529948Z",
     "iopub.status.busy": "2025-07-06T05:30:17.529743Z",
     "iopub.status.idle": "2025-07-06T05:30:33.538013Z",
     "shell.execute_reply": "2025-07-06T05:30:33.537186Z"
    },
    "papermill": {
     "duration": 16.021292,
     "end_time": "2025-07-06T05:30:33.539393",
     "exception": false,
     "start_time": "2025-07-06T05:30:17.518101",
     "status": "completed"
    },
    "tags": []
   },
   "outputs": [
    {
     "name": "stdout",
     "output_type": "stream",
     "text": [
      "Collecting mediapipe\r\n",
      "  Downloading mediapipe-0.10.21-cp311-cp311-manylinux_2_28_x86_64.whl.metadata (9.7 kB)\r\n",
      "Requirement already satisfied: absl-py in /usr/local/lib/python3.11/dist-packages (from mediapipe) (1.4.0)\r\n",
      "Requirement already satisfied: attrs>=19.1.0 in /usr/local/lib/python3.11/dist-packages (from mediapipe) (25.3.0)\r\n",
      "Requirement already satisfied: flatbuffers>=2.0 in /usr/local/lib/python3.11/dist-packages (from mediapipe) (25.2.10)\r\n",
      "Requirement already satisfied: jax in /usr/local/lib/python3.11/dist-packages (from mediapipe) (0.5.2)\r\n",
      "Requirement already satisfied: jaxlib in /usr/local/lib/python3.11/dist-packages (from mediapipe) (0.5.1)\r\n",
      "Requirement already satisfied: matplotlib in /usr/local/lib/python3.11/dist-packages (from mediapipe) (3.7.2)\r\n",
      "Requirement already satisfied: numpy<2 in /usr/local/lib/python3.11/dist-packages (from mediapipe) (1.26.4)\r\n",
      "Requirement already satisfied: opencv-contrib-python in /usr/local/lib/python3.11/dist-packages (from mediapipe) (4.11.0.86)\r\n",
      "Collecting protobuf<5,>=4.25.3 (from mediapipe)\r\n",
      "  Downloading protobuf-4.25.8-cp37-abi3-manylinux2014_x86_64.whl.metadata (541 bytes)\r\n",
      "Collecting sounddevice>=0.4.4 (from mediapipe)\r\n",
      "  Downloading sounddevice-0.5.2-py3-none-any.whl.metadata (1.6 kB)\r\n",
      "Requirement already satisfied: sentencepiece in /usr/local/lib/python3.11/dist-packages (from mediapipe) (0.2.0)\r\n",
      "Requirement already satisfied: mkl_fft in /usr/local/lib/python3.11/dist-packages (from numpy<2->mediapipe) (1.3.8)\r\n",
      "Requirement already satisfied: mkl_random in /usr/local/lib/python3.11/dist-packages (from numpy<2->mediapipe) (1.2.4)\r\n",
      "Requirement already satisfied: mkl_umath in /usr/local/lib/python3.11/dist-packages (from numpy<2->mediapipe) (0.1.1)\r\n",
      "Requirement already satisfied: mkl in /usr/local/lib/python3.11/dist-packages (from numpy<2->mediapipe) (2025.1.0)\r\n",
      "Requirement already satisfied: tbb4py in /usr/local/lib/python3.11/dist-packages (from numpy<2->mediapipe) (2022.1.0)\r\n",
      "Requirement already satisfied: mkl-service in /usr/local/lib/python3.11/dist-packages (from numpy<2->mediapipe) (2.4.1)\r\n",
      "Requirement already satisfied: CFFI>=1.0 in /usr/local/lib/python3.11/dist-packages (from sounddevice>=0.4.4->mediapipe) (1.17.1)\r\n",
      "Requirement already satisfied: ml_dtypes>=0.4.0 in /usr/local/lib/python3.11/dist-packages (from jax->mediapipe) (0.4.1)\r\n",
      "Requirement already satisfied: opt_einsum in /usr/local/lib/python3.11/dist-packages (from jax->mediapipe) (3.4.0)\r\n",
      "Requirement already satisfied: scipy>=1.11.1 in /usr/local/lib/python3.11/dist-packages (from jax->mediapipe) (1.15.2)\r\n",
      "Requirement already satisfied: contourpy>=1.0.1 in /usr/local/lib/python3.11/dist-packages (from matplotlib->mediapipe) (1.3.1)\r\n",
      "Requirement already satisfied: cycler>=0.10 in /usr/local/lib/python3.11/dist-packages (from matplotlib->mediapipe) (0.12.1)\r\n",
      "Requirement already satisfied: fonttools>=4.22.0 in /usr/local/lib/python3.11/dist-packages (from matplotlib->mediapipe) (4.57.0)\r\n",
      "Requirement already satisfied: kiwisolver>=1.0.1 in /usr/local/lib/python3.11/dist-packages (from matplotlib->mediapipe) (1.4.8)\r\n",
      "Requirement already satisfied: packaging>=20.0 in /usr/local/lib/python3.11/dist-packages (from matplotlib->mediapipe) (25.0)\r\n",
      "Requirement already satisfied: pillow>=6.2.0 in /usr/local/lib/python3.11/dist-packages (from matplotlib->mediapipe) (11.1.0)\r\n",
      "Requirement already satisfied: pyparsing<3.1,>=2.3.1 in /usr/local/lib/python3.11/dist-packages (from matplotlib->mediapipe) (3.0.9)\r\n",
      "Requirement already satisfied: python-dateutil>=2.7 in /usr/local/lib/python3.11/dist-packages (from matplotlib->mediapipe) (2.9.0.post0)\r\n",
      "Requirement already satisfied: pycparser in /usr/local/lib/python3.11/dist-packages (from CFFI>=1.0->sounddevice>=0.4.4->mediapipe) (2.22)\r\n",
      "Requirement already satisfied: six>=1.5 in /usr/local/lib/python3.11/dist-packages (from python-dateutil>=2.7->matplotlib->mediapipe) (1.17.0)\r\n",
      "Requirement already satisfied: intel-openmp<2026,>=2024 in /usr/local/lib/python3.11/dist-packages (from mkl->numpy<2->mediapipe) (2024.2.0)\r\n",
      "Requirement already satisfied: tbb==2022.* in /usr/local/lib/python3.11/dist-packages (from mkl->numpy<2->mediapipe) (2022.1.0)\r\n",
      "Requirement already satisfied: tcmlib==1.* in /usr/local/lib/python3.11/dist-packages (from tbb==2022.*->mkl->numpy<2->mediapipe) (1.3.0)\r\n",
      "Requirement already satisfied: intel-cmplr-lib-rt in /usr/local/lib/python3.11/dist-packages (from mkl_umath->numpy<2->mediapipe) (2024.2.0)\r\n",
      "Requirement already satisfied: intel-cmplr-lib-ur==2024.2.0 in /usr/local/lib/python3.11/dist-packages (from intel-openmp<2026,>=2024->mkl->numpy<2->mediapipe) (2024.2.0)\r\n",
      "Downloading mediapipe-0.10.21-cp311-cp311-manylinux_2_28_x86_64.whl (35.6 MB)\r\n",
      "\u001b[2K   \u001b[90m━━━━━━━━━━━━━━━━━━━━━━━━━━━━━━━━━━━━━━━━\u001b[0m \u001b[32m35.6/35.6 MB\u001b[0m \u001b[31m54.3 MB/s\u001b[0m eta \u001b[36m0:00:00\u001b[0m\r\n",
      "\u001b[?25hDownloading protobuf-4.25.8-cp37-abi3-manylinux2014_x86_64.whl (294 kB)\r\n",
      "\u001b[2K   \u001b[90m━━━━━━━━━━━━━━━━━━━━━━━━━━━━━━━━━━━━━━━━\u001b[0m \u001b[32m294.9/294.9 kB\u001b[0m \u001b[31m22.5 MB/s\u001b[0m eta \u001b[36m0:00:00\u001b[0m\r\n",
      "\u001b[?25hDownloading sounddevice-0.5.2-py3-none-any.whl (32 kB)\r\n",
      "Installing collected packages: protobuf, sounddevice, mediapipe\r\n",
      "  Attempting uninstall: protobuf\r\n",
      "    Found existing installation: protobuf 3.20.3\r\n",
      "    Uninstalling protobuf-3.20.3:\r\n",
      "      Successfully uninstalled protobuf-3.20.3\r\n",
      "\u001b[31mERROR: pip's dependency resolver does not currently take into account all the packages that are installed. This behaviour is the source of the following dependency conflicts.\r\n",
      "google-api-core 1.34.1 requires protobuf!=3.20.0,!=3.20.1,!=4.21.0,!=4.21.1,!=4.21.2,!=4.21.3,!=4.21.4,!=4.21.5,<4.0.0dev,>=3.19.5, but you have protobuf 4.25.8 which is incompatible.\r\n",
      "bigframes 1.42.0 requires rich<14,>=12.4.4, but you have rich 14.0.0 which is incompatible.\r\n",
      "google-spark-connect 0.5.2 requires google-api-core>=2.19.1, but you have google-api-core 1.34.1 which is incompatible.\r\n",
      "google-cloud-bigtable 2.30.0 requires google-api-core[grpc]<3.0.0,>=2.16.0, but you have google-api-core 1.34.1 which is incompatible.\r\n",
      "google-cloud-storage 2.19.0 requires google-api-core<3.0.0dev,>=2.15.0, but you have google-api-core 1.34.1 which is incompatible.\r\n",
      "pandas-gbq 0.28.0 requires google-api-core<3.0.0dev,>=2.10.2, but you have google-api-core 1.34.1 which is incompatible.\u001b[0m\u001b[31m\r\n",
      "\u001b[0mSuccessfully installed mediapipe-0.10.21 protobuf-4.25.8 sounddevice-0.5.2\r\n",
      "Note: you may need to restart the kernel to use updated packages.\n"
     ]
    }
   ],
   "source": [
    "pip install mediapipe"
   ]
  },
  {
   "cell_type": "code",
   "execution_count": 2,
   "id": "867c8679",
   "metadata": {
    "_cell_guid": "b1076dfc-b9ad-4769-8c92-a6c4dae69d19",
    "_uuid": "8f2839f25d086af736a60e9eeb907d3b93b6e0e5",
    "execution": {
     "iopub.execute_input": "2025-07-06T05:30:33.565113Z",
     "iopub.status.busy": "2025-07-06T05:30:33.564823Z",
     "iopub.status.idle": "2025-07-06T05:30:47.974784Z",
     "shell.execute_reply": "2025-07-06T05:30:47.974194Z"
    },
    "papermill": {
     "duration": 14.424433,
     "end_time": "2025-07-06T05:30:47.976137",
     "exception": false,
     "start_time": "2025-07-06T05:30:33.551704",
     "status": "completed"
    },
    "tags": []
   },
   "outputs": [
    {
     "name": "stderr",
     "output_type": "stream",
     "text": [
      "2025-07-06 05:30:35.349080: E external/local_xla/xla/stream_executor/cuda/cuda_fft.cc:477] Unable to register cuFFT factory: Attempting to register factory for plugin cuFFT when one has already been registered\n",
      "WARNING: All log messages before absl::InitializeLog() is called are written to STDERR\n",
      "E0000 00:00:1751779835.550013      19 cuda_dnn.cc:8310] Unable to register cuDNN factory: Attempting to register factory for plugin cuDNN when one has already been registered\n",
      "E0000 00:00:1751779835.606321      19 cuda_blas.cc:1418] Unable to register cuBLAS factory: Attempting to register factory for plugin cuBLAS when one has already been registered\n"
     ]
    }
   ],
   "source": [
    "# install librarires\n",
    "import os\n",
    "import tensorflow as tf\n",
    "import numpy as np\n",
    "import random"
   ]
  },
  {
   "cell_type": "markdown",
   "id": "d5262526",
   "metadata": {
    "papermill": {
     "duration": 0.011429,
     "end_time": "2025-07-06T05:30:47.999682",
     "exception": false,
     "start_time": "2025-07-06T05:30:47.988253",
     "status": "completed"
    },
    "tags": []
   },
   "source": [
    "## ℹ️ Set Global Constants"
   ]
  },
  {
   "cell_type": "code",
   "execution_count": 3,
   "id": "a9b65654",
   "metadata": {
    "execution": {
     "iopub.execute_input": "2025-07-06T05:30:48.024377Z",
     "iopub.status.busy": "2025-07-06T05:30:48.023652Z",
     "iopub.status.idle": "2025-07-06T05:30:48.046137Z",
     "shell.execute_reply": "2025-07-06T05:30:48.045444Z"
    },
    "papermill": {
     "duration": 0.036114,
     "end_time": "2025-07-06T05:30:48.047247",
     "exception": false,
     "start_time": "2025-07-06T05:30:48.011133",
     "status": "completed"
    },
    "tags": []
   },
   "outputs": [
    {
     "name": "stdout",
     "output_type": "stream",
     "text": [
      "Precis Har Rgb\n",
      "There are total 16 classes, selected 16 classes\n",
      "Setting 20/class to train the model.\n",
      "Image size 128x128 with 5 sequence length\n",
      "Dropout rate: 0.5\n",
      "Train-Test split ratio 80/20\n",
      "Validation data from Train set 20.0%\n"
     ]
    }
   ],
   "source": [
    "# global variables\n",
    "# set dataset directories\n",
    "\n",
    "\n",
    "DATASET_DIR = \"/kaggle/input/precis-har-rgb\"\n",
    "DATASET_NAME = DATASET_DIR.split(\"/\")[-1].replace(\"-\", \" \").title()\n",
    "\n",
    "print(DATASET_NAME)\n",
    "\n",
    "ALL_CLASS_NAMES = os.listdir(DATASET_DIR)\n",
    "\n",
    "# Global constant variables -> \n",
    "NO_OF_CLASSES = 16\n",
    "CLASSES_LIST = ALL_CLASS_NAMES[:NO_OF_CLASSES]\n",
    "\n",
    "# Model Configuration\n",
    "IMAGE_HEIGHT, IMAGE_WIDTH = 128, 128\n",
    "SEQUENCE_LENGTH = 5\n",
    "\n",
    "# set drop out rate\n",
    "DROPOUT_RATE = 0.5\n",
    "\n",
    "# set datas\n",
    "MAX_VIDEO_PER_CLASS = 20\n",
    "\n",
    "# split dataset\n",
    "TEST_SIZE = 0.20\n",
    "\n",
    "# model fit parameters\n",
    "EPOCHS = 30\n",
    "BATCH_SIZE = 16\n",
    "VALIDATION_SPLIT = 0.20\n",
    "\n",
    "# augmentation values\n",
    "NOISE_FACTOR = 0.02\n",
    "SHEAR_X= 1\n",
    "SHEAR_Y= 1\n",
    "\n",
    "# give a name of the model to save\n",
    "MODEL_NAME = \"Xception\"\n",
    "\n",
    "print(f\"There are total {len(ALL_CLASS_NAMES)} classes, selected {NO_OF_CLASSES} classes\")\n",
    "print(f\"Setting {MAX_VIDEO_PER_CLASS}/class to train the model.\")\n",
    "print(f\"Image size {IMAGE_HEIGHT}x{IMAGE_WIDTH} with {SEQUENCE_LENGTH} sequence length\")\n",
    "print(f\"Dropout rate: {DROPOUT_RATE}\")\n",
    "print(f\"Train-Test split ratio {int((1-TEST_SIZE)*100)}/{int(TEST_SIZE*100)}\")\n",
    "print(f\"Validation data from Train set {VALIDATION_SPLIT*100}%\")"
   ]
  },
  {
   "cell_type": "markdown",
   "id": "a4e44ca8",
   "metadata": {
    "papermill": {
     "duration": 0.011248,
     "end_time": "2025-07-06T05:30:48.070334",
     "exception": false,
     "start_time": "2025-07-06T05:30:48.059086",
     "status": "completed"
    },
    "tags": []
   },
   "source": [
    "## Set `Seed` Values"
   ]
  },
  {
   "cell_type": "code",
   "execution_count": 4,
   "id": "bdfc4932",
   "metadata": {
    "execution": {
     "iopub.execute_input": "2025-07-06T05:30:48.094066Z",
     "iopub.status.busy": "2025-07-06T05:30:48.093868Z",
     "iopub.status.idle": "2025-07-06T05:30:48.097457Z",
     "shell.execute_reply": "2025-07-06T05:30:48.096780Z"
    },
    "papermill": {
     "duration": 0.016585,
     "end_time": "2025-07-06T05:30:48.098483",
     "exception": false,
     "start_time": "2025-07-06T05:30:48.081898",
     "status": "completed"
    },
    "tags": []
   },
   "outputs": [],
   "source": [
    "# set seeed to get similar values\n",
    "seed_constant = 27\n",
    "np.random.seed(seed_constant)\n",
    "random.seed(seed_constant)\n",
    "tf.random.set_seed(seed_constant)"
   ]
  },
  {
   "cell_type": "markdown",
   "id": "30ef8486",
   "metadata": {
    "papermill": {
     "duration": 0.011797,
     "end_time": "2025-07-06T05:30:48.122316",
     "exception": false,
     "start_time": "2025-07-06T05:30:48.110519",
     "status": "completed"
    },
    "tags": []
   },
   "source": [
    "# 📌 Function Definition\n",
    "## Resize and Frame Extraction"
   ]
  },
  {
   "cell_type": "code",
   "execution_count": 5,
   "id": "c1db15d4",
   "metadata": {
    "execution": {
     "iopub.execute_input": "2025-07-06T05:30:48.189009Z",
     "iopub.status.busy": "2025-07-06T05:30:48.188421Z",
     "iopub.status.idle": "2025-07-06T05:30:48.654931Z",
     "shell.execute_reply": "2025-07-06T05:30:48.654128Z"
    },
    "papermill": {
     "duration": 0.48123,
     "end_time": "2025-07-06T05:30:48.656331",
     "exception": false,
     "start_time": "2025-07-06T05:30:48.175101",
     "status": "completed"
    },
    "tags": []
   },
   "outputs": [],
   "source": [
    "import matplotlib.pyplot as plt\n",
    "import os\n",
    "import cv2\n",
    "import numpy as np\n",
    "from sklearn.cluster import KMeans\n",
    "from sklearn.metrics import silhouette_score\n",
    "from skimage.metrics import structural_similarity as ssim\n",
    "\n",
    "# Placeholder for kmeans_silhouette function\n",
    "def kmeans_silhouette(sub_features):\n",
    "    if len(sub_features) < 2:\n",
    "        return [], [], 1, [0]  # Return empty results for insufficient frames\n",
    "    \n",
    "    # Try different k values (2 to min(5, len(sub_features)))\n",
    "    best_k = 2\n",
    "    best_labels = None\n",
    "    best_centers = None\n",
    "    best_score = -1\n",
    "    best_indices = []\n",
    "    \n",
    "    for k in range(2, min(6, len(sub_features) + 1)):\n",
    "        kmeans = KMeans(n_clusters=k, random_state=42, n_init='auto')\n",
    "        labels = kmeans.fit_predict(sub_features)\n",
    "        if len(np.unique(labels)) > 1:  # Silhouette score requires at least 2 clusters\n",
    "            score = silhouette_score(sub_features, labels)\n",
    "            if score > best_score:\n",
    "                best_score = score\n",
    "                best_k = k\n",
    "                best_labels = labels\n",
    "                best_centers = kmeans.cluster_centers_\n",
    "        \n",
    "        # Find indices of frames closest to cluster centers\n",
    "        indices = []\n",
    "        for i in range(best_k):\n",
    "            if i in labels:\n",
    "                cluster_points = sub_features[labels == i]\n",
    "                distances = np.linalg.norm(cluster_points - best_centers[i], axis=1)\n",
    "                if len(distances) > 0:\n",
    "                    idx = np.argmin(distances)\n",
    "                    indices.append(idx)\n",
    "    \n",
    "    return best_labels, best_centers, best_k, indices\n",
    "\n",
    "# Placeholder for redundancy function\n",
    "def redundancy(video_path, indices, threshold=0.94):\n",
    "    if not indices:\n",
    "        return []\n",
    "    \n",
    "    video_reader = cv2.VideoCapture(video_path)\n",
    "    if not video_reader.isOpened():\n",
    "        return indices\n",
    "    \n",
    "    # Compute histogram for each frame\n",
    "    def get_histogram(frame):\n",
    "        gray = cv2.cvtColor(frame, cv2.COLOR_BGR2GRAY)\n",
    "        hist = cv2.calcHist([gray], [0], None, [256], [0, 256])\n",
    "        cv2.normalize(hist, hist)\n",
    "        return hist\n",
    "    \n",
    "    filtered_indices = [indices[0]]  # Keep first index\n",
    "    prev_frame = None\n",
    "    \n",
    "    for idx in indices[1:]:\n",
    "        video_reader.set(cv2.CAP_PROP_POS_FRAMES, idx)\n",
    "        success, frame = video_reader.read()\n",
    "        if not success:\n",
    "            continue\n",
    "        hist = get_histogram(frame)\n",
    "        \n",
    "        if prev_frame is not None:\n",
    "            # Compute histogram correlation\n",
    "            corr = cv2.compareHist(get_histogram(prev_frame), hist, cv2.HISTCMP_CORREL)\n",
    "            if corr < threshold:  # Keep frame if significantly different\n",
    "                filtered_indices.append(idx)\n",
    "        prev_frame = frame\n",
    "    \n",
    "    video_reader.release()\n",
    "    return filtered_indices\n",
    "\n",
    "# Modified scen_keyframe_extraction function\n",
    "def scen_keyframe_extraction(video_path,  file_name, video_index, is_last_video, num_segments=3):\n",
    "    # Open video to get frame count\n",
    "    video_reader = cv2.VideoCapture(video_path)\n",
    "    if not video_reader.isOpened():\n",
    "        raise ValueError(f\"Failed to open video {video_path}.\")\n",
    "    \n",
    "    frame_count = int(video_reader.get(cv2.CAP_PROP_FRAME_COUNT))\n",
    "    if frame_count == 0:\n",
    "        video_reader.release()\n",
    "        raise ValueError(f\"No frames in video {video_path}.\")\n",
    "    \n",
    "    # Generate synthetic scene segmentation (divide video into equal segments)\n",
    "    segment_length = frame_count // num_segments\n",
    "    number_list = []\n",
    "    for i in range(num_segments):\n",
    "        start = i * segment_length\n",
    "        end = min((i + 1) * segment_length, frame_count)\n",
    "        number_list.extend([start, end])\n",
    "\n",
    "    features = []\n",
    "    frame_idx = 0\n",
    "    \n",
    "    while True:\n",
    "        success, frame = video_reader.read()\n",
    "        if not success:\n",
    "            break\n",
    "    \n",
    "        gray = cv2.cvtColor(frame, cv2.COLOR_BGR2GRAY)\n",
    "        hist = cv2.calcHist([gray], [0], None, [256], [0, 256])\n",
    "        cv2.normalize(hist, hist)\n",
    "        features.append(hist.flatten())\n",
    "        \n",
    "        frame_idx += 1\n",
    "    \n",
    "    video_reader.release()\n",
    "    features = np.asarray(features)\n",
    "    \n",
    "    # Clustering at each shot to obtain keyframe sequence numbers\n",
    "    keyframe_index = []\n",
    "    for i in range(0, len(number_list), 2):\n",
    "        start = number_list[i]\n",
    "        end = min(number_list[i + 1], len(features))\n",
    "        if end <= start:\n",
    "            continue\n",
    "        sub_features = features[start:end]\n",
    "        best_labels, best_centers, k, indices = kmeans_silhouette(sub_features)\n",
    "        final_index = [x + start for x in indices if x + start < frame_count]\n",
    "        final_index = redundancy(video_path, final_index, 0.94)\n",
    "        keyframe_index += final_index\n",
    "    \n",
    "    keyframe_index = sorted(list(set(keyframe_index)))  # Remove duplicates and sort\n",
    "    # print(\"final_index:\", keyframe_index, end=\"\\r\", flush=True)\n",
    "    \n",
    "    # Visualize keyframes\n",
    "    num_keyframes = len(keyframe_index)\n",
    "    if num_keyframes == 0:\n",
    "        print(\"No keyframes extracted.\")\n",
    "        return\n",
    "    \n",
    "    video_reader = cv2.VideoCapture(video_path)\n",
    "    class_name = os.path.basename(os.path.dirname(video_path))\n",
    "    # print(keyframe_index)\n",
    "    frames=[]\n",
    "    frames_index=[]\n",
    "    for idx, frame_idx in enumerate(keyframe_index, 1):\n",
    "        video_reader.set(cv2.CAP_PROP_POS_FRAMES, frame_idx)\n",
    "        success, frame = video_reader.read()\n",
    "        if not success:\n",
    "            continue\n",
    "        rgb_frame = cv2.cvtColor(frame, cv2.COLOR_BGR2RGB)\n",
    "        try:\n",
    "            resized_frame = cv2.resize(rgb_frame, (IMAGE_WIDTH, IMAGE_HEIGHT), interpolation=cv2.INTER_AREA)\n",
    "            normalized_frame = resized_frame.astype('float32') / 255.0\n",
    "\n",
    "            \n",
    "            if normalized_frame.shape != (IMAGE_HEIGHT, IMAGE_WIDTH, 3):\n",
    "                print(f\"Warning: Frame at index {frame_idx} has incorrect shape: {normalized_frame.shape}\")\n",
    "                continue  # Skip malformed frame\n",
    "            if is_last_video and idx == num_keyframes:\n",
    "                print(f\"Extracted {len(frames)+1} frames from file {video_index+1}: {file_name}\", end=\"\\n\", flush=True)\n",
    "            else:\n",
    "                print(f\"Extracted {len(frames)+1} frames from file {video_index+1}: {file_name}\", end=\"\\r\", flush=True)\n",
    "                \n",
    "            frames.append(normalized_frame)\n",
    "            frames_index.append(frame_idx)\n",
    "        \n",
    "        except Exception as e:\n",
    "            print(f\"Error processing frame {frame_idx}: {e}\")\n",
    "            continue\n",
    "    video_reader.release()\n",
    "\n",
    "    # handle inhomogenous frames or shape mismatch\n",
    "    if len(frames) > SEQUENCE_LENGTH:\n",
    "        # if it is greater than sequence length then leave the last frames\n",
    "        frames=frames[:SEQUENCE_LENGTH]\n",
    "    \n",
    "    frames=np.asarray(frames)\n",
    "    frames_index=np.asarray(frames_index)\n",
    "    return frames, frames_index\n",
    "\n",
    "\n",
    "def show_frames(frames, index):\n",
    "    num_keyframes = len(frames)\n",
    "    plt.figure(figsize=(5 * num_keyframes, 5))\n",
    "\n",
    "    for plot_index, (i, frame) in enumerate(zip(index, frames), start=1):\n",
    "        frame_label = f\"(Frame {i})\"\n",
    "        frame = frame.copy()  # Ensure cv2.putText doesn't affect original\n",
    "        cv2.putText(frame, frame_label, (10, 30),\n",
    "                    cv2.FONT_HERSHEY_SIMPLEX, 0.8, (255, 255, 255), 2)\n",
    "        plt.subplot(1, num_keyframes, plot_index)\n",
    "        plt.imshow(frame)\n",
    "        plt.axis('off')\n",
    "\n",
    "    plt.tight_layout()\n",
    "    plt.savefig('ucf50_biking_keyframe_summary.jpg', bbox_inches='tight', dpi=300)\n",
    "    plt.show()\n",
    "\n",
    "    \n",
    "# # Run the keyframe extraction\n",
    "# sequence, index = scen_keyframe_extraction(video_path, num_segments=5)\n",
    "\n",
    "# print(sequence.shape)\n",
    "\n",
    "# show_frames(sequence, index)"
   ]
  },
  {
   "cell_type": "markdown",
   "id": "1ce30998",
   "metadata": {
    "papermill": {
     "duration": 0.011432,
     "end_time": "2025-07-06T05:30:48.680079",
     "exception": false,
     "start_time": "2025-07-06T05:30:48.668647",
     "status": "completed"
    },
    "tags": []
   },
   "source": [
    "### ❌ DEPRECIATED Resize and Frame Extraction"
   ]
  },
  {
   "cell_type": "code",
   "execution_count": 6,
   "id": "02145179",
   "metadata": {
    "execution": {
     "iopub.execute_input": "2025-07-06T05:30:48.704396Z",
     "iopub.status.busy": "2025-07-06T05:30:48.704036Z",
     "iopub.status.idle": "2025-07-06T05:30:48.713061Z",
     "shell.execute_reply": "2025-07-06T05:30:48.712527Z"
    },
    "jupyter": {
     "source_hidden": true
    },
    "papermill": {
     "duration": 0.022495,
     "end_time": "2025-07-06T05:30:48.714096",
     "exception": false,
     "start_time": "2025-07-06T05:30:48.691601",
     "status": "completed"
    },
    "tags": []
   },
   "outputs": [],
   "source": [
    "# Resize and Frame Extraction\n",
    "import cv2\n",
    "from concurrent.futures import ThreadPoolExecutor\n",
    "\n",
    "def resize_and_normalize_frame(frame, image_height, image_width):\n",
    "    try:\n",
    "        resized_frame = cv2.resize(frame, (image_width, image_height), interpolation=cv2.INTER_LINEAR)\n",
    "        normalized_frame = resized_frame / 255.0\n",
    "        return normalized_frame\n",
    "    except Exception as e:\n",
    "        print(f\"Error processing frame: {e}\")\n",
    "        return None\n",
    "\n",
    "def frames_extraction(video_path, \n",
    "                      sequence_length=SEQUENCE_LENGTH, \n",
    "                      image_height=IMAGE_HEIGHT, \n",
    "                      image_width=IMAGE_WIDTH):\n",
    "    # Declare a list to store video frames\n",
    "    frames_list = []\n",
    "\n",
    "    # Check if video file exists\n",
    "    if not os.path.exists(video_path):\n",
    "        print(f\"Error: Video file not found at {video_path}\")\n",
    "        return None\n",
    "\n",
    "    # Read the video file using VideoCapture with optimized settings\n",
    "    video_reader = cv2.VideoCapture(video_path, cv2.CAP_FFMPEG)\n",
    "\n",
    "    # Check if the video was opened successfully\n",
    "    if not video_reader.isOpened():\n",
    "        print(f\"Error: Could not open video file {video_path}\")\n",
    "        video_reader.release()\n",
    "        return None\n",
    "\n",
    "    # Get the total number of frames in the video\n",
    "    video_frames_count = int(video_reader.get(cv2.CAP_PROP_FRAME_COUNT))\n",
    "\n",
    "    # Ensure the video has enough frames\n",
    "    if video_frames_count < sequence_length:\n",
    "        print(f\"Warning: Video {video_path} has only {video_frames_count} frames, less than required {sequence_length}\")\n",
    "        video_reader.release()\n",
    "        return None\n",
    "\n",
    "    # Calculate the interval after which frames will be sampled\n",
    "    skip_frames_window = max(int(video_frames_count / sequence_length), 1)\n",
    "\n",
    "    # Pre-allocate frame indices to extract\n",
    "    frame_indices = [i * skip_frames_window for i in range(sequence_length)]\n",
    "\n",
    "    # Read and process frames in parallel\n",
    "    frames = []\n",
    "    for idx in frame_indices:\n",
    "        video_reader.set(cv2.CAP_PROP_POS_FRAMES, idx)\n",
    "        success, frame = video_reader.read()\n",
    "        if not success or frame is None:\n",
    "            print(f\"Warning: Failed to read frame at index {idx} from {video_path}\")\n",
    "            break\n",
    "        frame = cv2.cvtColor(frame, cv2.COLOR_BGR2RGB)\n",
    "        frames.append(frame)\n",
    "\n",
    "    # Release the VideoCapture object early\n",
    "    video_reader.release()\n",
    "\n",
    "    # Ensure the correct number of frames is read\n",
    "    if len(frames) != sequence_length:\n",
    "        print(f\"Warning: Read {len(frames)} frames instead of {sequence_length} from {video_path}\")\n",
    "        return None\n",
    "\n",
    "    # Process frames in parallel using ThreadPoolExecutor\n",
    "    with ThreadPoolExecutor() as executor:\n",
    "        processed_frames = list(executor.map(\n",
    "            lambda f: resize_and_normalize_frame(f, image_height, image_width), \n",
    "            frames\n",
    "        ))\n",
    "\n",
    "    # Check for any failed frame processing\n",
    "    if any(f is None for f in processed_frames):\n",
    "        print(f\"Warning: Some frames failed to process in {video_path}\")\n",
    "        return None\n",
    "\n",
    "    # Convert to NumPy array\n",
    "    frames_array = np.array(processed_frames, dtype=np.float32)\n",
    "\n",
    "    return frames_array"
   ]
  },
  {
   "cell_type": "code",
   "execution_count": 7,
   "id": "151d9629",
   "metadata": {
    "execution": {
     "iopub.execute_input": "2025-07-06T05:30:48.738324Z",
     "iopub.status.busy": "2025-07-06T05:30:48.738140Z",
     "iopub.status.idle": "2025-07-06T05:30:48.741912Z",
     "shell.execute_reply": "2025-07-06T05:30:48.741172Z"
    },
    "papermill": {
     "duration": 0.017265,
     "end_time": "2025-07-06T05:30:48.742955",
     "exception": false,
     "start_time": "2025-07-06T05:30:48.725690",
     "status": "completed"
    },
    "tags": []
   },
   "outputs": [],
   "source": [
    " # # Iterate through all video files\n",
    " #        for file_name in files_list:\n",
    " #            video_file_path = os.path.join(class_path, file_name)\n",
    "\n",
    " #            # Extract frames using the updated frames_extraction function\n",
    " #            frames = frames_extraction(video_file_path, sequence_length, image_height, image_width)\n",
    "\n",
    " #            # Skip videos where frame extraction failed\n",
    " #            if frames is None:\n",
    " #                print(f\"Skipping video {video_file_path} due to frame extraction failure\")\n",
    " #                continue\n",
    "\n",
    " #            # Append the data to respective lists\n",
    " #            features.append(frames)\n",
    " #            labels.append(class_index)"
   ]
  },
  {
   "cell_type": "markdown",
   "id": "1857a272",
   "metadata": {
    "papermill": {
     "duration": 0.011544,
     "end_time": "2025-07-06T05:30:48.766253",
     "exception": false,
     "start_time": "2025-07-06T05:30:48.754709",
     "status": "completed"
    },
    "tags": []
   },
   "source": [
    "## Create Dataset"
   ]
  },
  {
   "cell_type": "code",
   "execution_count": 8,
   "id": "6237b0ee",
   "metadata": {
    "execution": {
     "iopub.execute_input": "2025-07-06T05:30:48.790879Z",
     "iopub.status.busy": "2025-07-06T05:30:48.790583Z",
     "iopub.status.idle": "2025-07-06T05:30:48.797384Z",
     "shell.execute_reply": "2025-07-06T05:30:48.796987Z"
    },
    "papermill": {
     "duration": 0.020168,
     "end_time": "2025-07-06T05:30:48.798440",
     "exception": false,
     "start_time": "2025-07-06T05:30:48.778272",
     "status": "completed"
    },
    "tags": []
   },
   "outputs": [],
   "source": [
    "# RUN create dataset function definition\n",
    "def create_dataset(dataset_dir,\n",
    "                   classes_list, \n",
    "                   sequence_length=SEQUENCE_LENGTH, \n",
    "                   image_height=IMAGE_HEIGHT, \n",
    "                   image_width=IMAGE_WIDTH, \n",
    "                   max_videos_per_class=None,\n",
    "                   augmentations=False\n",
    "                  ):\n",
    "    \n",
    "    # Initialize lists to store features, labels, and video file paths\n",
    "    videos = []\n",
    "    labels = []\n",
    "\n",
    "    # Check if dataset directory exists\n",
    "    if not os.path.exists(dataset_dir):\n",
    "        raise FileNotFoundError(f\"Dataset directory not found: {dataset_dir}\")\n",
    "\n",
    "    # Iterate through all classes in the classes list\n",
    "    for class_index, class_name in enumerate(classes_list):\n",
    "        class_path = os.path.join(dataset_dir, class_name)\n",
    "        \n",
    "        # Check if class directory exists\n",
    "        if not os.path.exists(class_path):\n",
    "            print(f\"Warning: Class directory not found: {class_path}\")\n",
    "            continue\n",
    "\n",
    "        print(f'Class {class_index}: {class_name}')\n",
    "\n",
    "        # Get the list of video files in the class directory\n",
    "        files_list = os.listdir(class_path)\n",
    "\n",
    "        # Limit the number of videos if specified\n",
    "        if max_videos_per_class is not None:\n",
    "            files_list = files_list[:max_videos_per_class]\n",
    "\n",
    "        # Iterate through all video files\n",
    "        is_last_video=False\n",
    "        for (index, file_name) in enumerate(files_list):\n",
    "            video_file_path = os.path.join(class_path, file_name)\n",
    "\n",
    "            if index == (len(files_list)-1):\n",
    "                is_last_video=True\n",
    "                # print(f'Extracting frames from file {index+1}: {file_name}', flush=True)\n",
    "            else:\n",
    "                is_last_video=False\n",
    "                # print(f'Extracting frames from file {index+1}: {file_name}', end=\"\\r\", flush=True)\n",
    "            \n",
    "            # Extract frames using the updated frames_extraction function\n",
    "            # frames = frames_extraction(video_file_path, \n",
    "            #                            sequence_length, \n",
    "            #                            image_height, \n",
    "            #                            image_width)\n",
    "            frames, index = scen_keyframe_extraction(video_path=video_file_path, \n",
    "                                                     file_name=file_name,\n",
    "                                                     video_index=index,\n",
    "                                                     is_last_video=is_last_video,\n",
    "                                                     num_segments=SEQUENCE_LENGTH)\n",
    "\n",
    "            # Skip videos where frame extraction failed\n",
    "            if frames is None:\n",
    "                print(f\"Skipping video {video_file_path} due to frame extraction failure\")\n",
    "                continue\n",
    "\n",
    "            # Append the data to respective lists\n",
    "            videos.append(frames)\n",
    "            labels.append(class_index)\n",
    "\n",
    "    # Convert lists to numpy arrays\n",
    "    if not videos:\n",
    "        raise ValueError(\"No valid videos were processed. Check dataset or parameters.\")\n",
    "    videos = np.asarray(videos)\n",
    "    labels = np.array(labels)\n",
    "\n",
    "    print(f\"Dataset created with {len(videos)} videos\")\n",
    "    print(f\"Features shape: {videos.shape}\")\n",
    "    print(f\"Labels shape: {labels.shape}\")\n",
    "\n",
    "    return videos, labels"
   ]
  },
  {
   "cell_type": "markdown",
   "id": "1fa27119",
   "metadata": {
    "papermill": {
     "duration": 0.011366,
     "end_time": "2025-07-06T05:30:48.821462",
     "exception": false,
     "start_time": "2025-07-06T05:30:48.810096",
     "status": "completed"
    },
    "tags": []
   },
   "source": [
    "## 🪄 Video Data Generator"
   ]
  },
  {
   "cell_type": "code",
   "execution_count": 9,
   "id": "ed490282",
   "metadata": {
    "execution": {
     "iopub.execute_input": "2025-07-06T05:30:48.848879Z",
     "iopub.status.busy": "2025-07-06T05:30:48.848623Z",
     "iopub.status.idle": "2025-07-06T05:30:48.908038Z",
     "shell.execute_reply": "2025-07-06T05:30:48.907524Z"
    },
    "papermill": {
     "duration": 0.075291,
     "end_time": "2025-07-06T05:30:48.909022",
     "exception": false,
     "start_time": "2025-07-06T05:30:48.833731",
     "status": "completed"
    },
    "tags": []
   },
   "outputs": [],
   "source": [
    "from tensorflow.keras.utils import Sequence, to_categorical\n",
    "import tensorflow as tf\n",
    "import numpy as np\n",
    "import cv2\n",
    "\n",
    "\n",
    "\n",
    "\n",
    "class VideoDataGenerator(Sequence):\n",
    "    def __init__(self, videos, labels, batch_size, is_training=False):\n",
    "        self.videos = list(videos)  # List of video file paths\n",
    "        self.labels = list(labels)  # List or array of labels encoded\n",
    "        self.batch_size = batch_size\n",
    "        self.indices = np.arange(len(self.videos))  # For shuffling\n",
    "        self.is_training = is_training  # Flag to control whether augmentation is applied\n",
    "        self.temp_videos=[]\n",
    "        self.temp_labels=[]\n",
    "        \n",
    "        \n",
    "        print(f\"Total {len(videos)} videos and {len(labels)} classes\")\n",
    "\n",
    "    def __len__(self):\n",
    "        # Return the number of batches per epoch\n",
    "        return int(np.ceil(len(self.videos) / self.batch_size))\n",
    "\n",
    "    def __getitem__(self, idx):\n",
    "        # Get batch indices\n",
    "        batch_indices = self.indices[idx * self.batch_size:(idx + 1) * self.batch_size]\n",
    "        \n",
    "        # Handle case where batch_indices is empty\n",
    "        if len(batch_indices) == 0:\n",
    "            return np.array([], dtype=np.float32), np.array([], dtype=np.float32)\n",
    "        \n",
    "        # Initialize lists to store frames and labels\n",
    "        all_frames = []\n",
    "        all_labels = []\n",
    "        \n",
    "        # Process each video in the batch\n",
    "        for i, index in enumerate(batch_indices):\n",
    "            sequence = self.videos[index]\n",
    "            label = self.labels[index]\n",
    "            \n",
    "            # Append the sequence and label\n",
    "            all_frames.append(sequence)\n",
    "            all_labels.append(label)\n",
    "        \n",
    "        # Convert to numpy arrays\n",
    "        all_frames = np.array(all_frames, dtype=np.float32)\n",
    "        all_labels = np.array(all_labels)\n",
    "            \n",
    "        \n",
    "        return all_frames, all_labels\n",
    "    def add(self, new_videos, new_labels):\n",
    "        self.temp_videos.extend(new_videos)\n",
    "        self.temp_labels.extend(new_labels)\n",
    "    \n",
    "    def confirm(self):\n",
    "        self.videos.extend(self.temp_videos)\n",
    "        self.labels.extend(self.temp_labels)\n",
    "        print(f\"Successfully added - {len(self.temp_videos)} videos and {len(self.temp_labels)} classes.\")\n",
    "        self.temp_videos=[]\n",
    "        self.temp_labels=[]\n",
    "        self.indices = np.arange(len(self.videos))\n",
    "        print(f\"Now Total - {len(self.videos)} videos and {len(self.labels)} classes.\")\n",
    "        print(f\"PENDING for Augmentations - {len(self.temp_videos)} videos and {len(self.temp_labels)} classes.\")\n",
    "        \n",
    "    def replace_original(self):\n",
    "        self.videos=self.temp_videos\n",
    "        self.labels=self.temp_labels\n",
    "        self.temp_videos=[]\n",
    "        self.temp_labels=[]\n",
    "        print(f\"Successfully replaced, total original videos - {len(self.videos)} and augmented videos {len(self.temp_videos)}\")\n",
    "        \n",
    "    def on_epoch_end(self):\n",
    "        # Shuffle indices at the end of each epoch\n",
    "        np.random.shuffle(self.indices)\n",
    "\n",
    "    def as_dataset(self):\n",
    "        def generator():\n",
    "            for idx in range(len(self)):\n",
    "                frames, labels = self[idx]\n",
    "                # Skip empty batches\n",
    "                if frames.size == 0:\n",
    "                    continue\n",
    "                yield frames, labels\n",
    "        self.labels=np.array(self.labels)\n",
    "    \n",
    "        # Create a tf.data.Dataset\n",
    "        dataset = tf.data.Dataset.from_generator(\n",
    "            generator,\n",
    "            output_types=(tf.float32, tf.float32),\n",
    "            output_shapes=(\n",
    "                (None, SEQUENCE_LENGTH, IMAGE_HEIGHT, IMAGE_WIDTH, 3),\n",
    "                (None, NO_OF_CLASSES)\n",
    "            )\n",
    "        )\n",
    "        dataset = dataset.prefetch(tf.data.AUTOTUNE)\n",
    "        return dataset"
   ]
  },
  {
   "cell_type": "markdown",
   "id": "a7520ad1",
   "metadata": {
    "papermill": {
     "duration": 0.011388,
     "end_time": "2025-07-06T05:30:48.932181",
     "exception": false,
     "start_time": "2025-07-06T05:30:48.920793",
     "status": "completed"
    },
    "tags": []
   },
   "source": [
    "## 🔥 Segmentation using N-Frames Ensemble"
   ]
  },
  {
   "cell_type": "code",
   "execution_count": 10,
   "id": "a4577b93",
   "metadata": {
    "execution": {
     "iopub.execute_input": "2025-07-06T05:30:48.958408Z",
     "iopub.status.busy": "2025-07-06T05:30:48.957916Z",
     "iopub.status.idle": "2025-07-06T05:30:49.196936Z",
     "shell.execute_reply": "2025-07-06T05:30:49.195838Z"
    },
    "papermill": {
     "duration": 0.253417,
     "end_time": "2025-07-06T05:30:49.198751",
     "exception": false,
     "start_time": "2025-07-06T05:30:48.945334",
     "status": "completed"
    },
    "tags": []
   },
   "outputs": [
    {
     "name": "stdout",
     "output_type": "stream",
     "text": [
      "MediaPipe initialized successfully\n"
     ]
    },
    {
     "name": "stderr",
     "output_type": "stream",
     "text": [
      "INFO: Created TensorFlow Lite XNNPACK delegate for CPU.\n"
     ]
    }
   ],
   "source": [
    "import cv2\n",
    "import numpy as np\n",
    "from collections import deque\n",
    "import mediapipe as mp\n",
    "\n",
    "# Parameters\n",
    "N_FRAMES = 5  # Number of frames for ensemble\n",
    "THRESHOLD = 0.2  # Segmentation confidence threshold\n",
    "\n",
    "def initialize_segmentor():\n",
    "    \"\"\"Initialize MediaPipe Selfie Segmentation with error handling.\"\"\"\n",
    "    try:\n",
    "        mp_selfie_segmentation = mp.solutions.selfie_segmentation\n",
    "        segmentor = mp_selfie_segmentation.SelfieSegmentation(model_selection=1)  # 1 for general model\n",
    "        print(\"MediaPipe initialized successfully\")\n",
    "        return segmentor\n",
    "    except Exception as e:\n",
    "        print(f\"Failed to initialize MediaPipe: {e}\")\n",
    "        return None\n",
    "\n",
    "# Initialize segmentor\n",
    "segmentor = initialize_segmentor()\n",
    "\n",
    "\n",
    "def segmentation_frames(sequence):\n",
    "    \"\"\"Process a sequence of frames with N-frame ensemble segmentation.\"\"\"\n",
    "    # Input sequence: (sequence_length, height, width, 3), values in [0, 1]\n",
    "    sequence_length, height, width, _ = sequence.shape\n",
    "    segmented_sequence = np.zeros_like(sequence, dtype=np.float32)\n",
    "    \n",
    "    if segmentor is None:\n",
    "        print(\"Returning original sequence due to initialization failure\")\n",
    "        return sequence  # Fallback to original sequence\n",
    "    # Queue to store segmentation masks\n",
    "    mask_queue = deque(maxlen=N_FRAMES)\n",
    "    \n",
    "    # Kernel for morphological operations\n",
    "    kernel = cv2.getStructuringElement(cv2.MORPH_ELLIPSE, (5, 5))\n",
    "    \n",
    "    for t in range(sequence_length):\n",
    "        try:\n",
    "            # Convert frame to uint8 for MediaPipe\n",
    "            frame = (sequence[t] * 255).astype(np.uint8)\n",
    "            \n",
    "            # Process frame with MediaPipe\n",
    "            results = segmentor.process(frame)\n",
    "            if results.segmentation_mask is None:\n",
    "                print(f\"Warning: No mask returned for frame {t}\")\n",
    "                mask = np.zeros((height, width), dtype=np.float32)\n",
    "            else:\n",
    "                mask = results.segmentation_mask  # Shape: (height, width), values in [0, 1]\n",
    "            \n",
    "            # Add mask to queue\n",
    "            mask_queue.append(mask)\n",
    "            \n",
    "            # Compute ensemble mask by averaging (if enough frames)\n",
    "            ensemble_mask = np.mean(np.array(mask_queue), axis=0) if len(mask_queue) > 1 else mask\n",
    "            \n",
    "            # Binarize the ensemble mask\n",
    "            binary_mask = (ensemble_mask > THRESHOLD).astype(np.uint8)\n",
    "            \n",
    "            # Refine the mask using morphological operations\n",
    "            binary_mask = cv2.morphologyEx(binary_mask, cv2.MORPH_CLOSE, kernel)\n",
    "            binary_mask = cv2.morphologyEx(binary_mask, cv2.MORPH_OPEN, kernel)\n",
    "            \n",
    "            # Convert binary mask to 3 channels\n",
    "            mask_3ch = np.stack([binary_mask] * 3, axis=-1)  # Shape: (height, width, 3)\n",
    "            \n",
    "            # Apply mask to isolate human subject (set background to black)\n",
    "            segmented_frame = frame * mask_3ch\n",
    "            \n",
    "            # Normalize back to [0, 1]\n",
    "            segmented_sequence[t] = segmented_frame / 255.0\n",
    "        \n",
    "        except Exception as e:\n",
    "            print(f\"Error processing frame {t}: {e}\")\n",
    "            segmented_sequence[t] = sequence[t]  # Fallback to original frame\n",
    "    \n",
    "    return segmented_sequence"
   ]
  },
  {
   "cell_type": "markdown",
   "id": "2e01b02b",
   "metadata": {
    "papermill": {
     "duration": 0.011449,
     "end_time": "2025-07-06T05:30:49.222627",
     "exception": false,
     "start_time": "2025-07-06T05:30:49.211178",
     "status": "completed"
    },
    "tags": []
   },
   "source": [
    "## 💫 Augmentation Helper function"
   ]
  },
  {
   "cell_type": "code",
   "execution_count": 11,
   "id": "e21e9800",
   "metadata": {
    "execution": {
     "iopub.execute_input": "2025-07-06T05:30:49.247277Z",
     "iopub.status.busy": "2025-07-06T05:30:49.246563Z",
     "iopub.status.idle": "2025-07-06T05:30:49.251805Z",
     "shell.execute_reply": "2025-07-06T05:30:49.251073Z"
    },
    "papermill": {
     "duration": 0.018516,
     "end_time": "2025-07-06T05:30:49.252856",
     "exception": false,
     "start_time": "2025-07-06T05:30:49.234340",
     "status": "completed"
    },
    "tags": []
   },
   "outputs": [
    {
     "name": "stderr",
     "output_type": "stream",
     "text": [
      "WARNING: All log messages before absl::InitializeLog() is called are written to STDERR\n",
      "W0000 00:00:1751779849.201710      71 inference_feedback_manager.cc:114] Feedback manager requires a model with a single signature inference. Disabling support for feedback tensors.\n"
     ]
    }
   ],
   "source": [
    "def apply_augmentation(augmentation_function, generator, confirm=False, *args, **kwargs):\n",
    "    count=0\n",
    "    for i in range(len(generator)):\n",
    "        batch_videos, batch_labels = generator[i]\n",
    "        augmented_videos=[]\n",
    "        for videos in batch_videos:\n",
    "            count=count+1\n",
    "            augmented_videos.append(augmentation_function(videos, *args, **kwargs))\n",
    "            print(f\"Adding {count} new videos...\", end=\"\\r\", flush=True)\n",
    "        generator.add(augmented_videos, batch_labels)\n",
    "    \n",
    "    print(f\"Total {len(generator.temp_videos)} augmented videos generated\")\n",
    "    if confirm:\n",
    "        generator.confirm()\n",
    "    else:\n",
    "        print(\"Ready to be merged with original videos...\")"
   ]
  },
  {
   "cell_type": "markdown",
   "id": "eeaffb28",
   "metadata": {
    "papermill": {
     "duration": 0.011598,
     "end_time": "2025-07-06T05:30:49.276716",
     "exception": false,
     "start_time": "2025-07-06T05:30:49.265118",
     "status": "completed"
    },
    "tags": []
   },
   "source": [
    "### Show Frames"
   ]
  },
  {
   "cell_type": "code",
   "execution_count": 12,
   "id": "b7d48f53",
   "metadata": {
    "execution": {
     "iopub.execute_input": "2025-07-06T05:30:49.300839Z",
     "iopub.status.busy": "2025-07-06T05:30:49.300596Z",
     "iopub.status.idle": "2025-07-06T05:30:49.304189Z",
     "shell.execute_reply": "2025-07-06T05:30:49.303492Z"
    },
    "papermill": {
     "duration": 0.016807,
     "end_time": "2025-07-06T05:30:49.305191",
     "exception": false,
     "start_time": "2025-07-06T05:30:49.288384",
     "status": "completed"
    },
    "tags": []
   },
   "outputs": [],
   "source": [
    "# show frame def\n",
    "import matplotlib.pyplot as plt\n",
    "\n",
    "def show_frame(frame):\n",
    "    plt.figure(figsize=(3,3))\n",
    "    plt.imshow(frame)\n",
    "    plt.axis(\"off\")\n",
    "    plt.tight_layout()"
   ]
  },
  {
   "cell_type": "markdown",
   "id": "c4a5cd4d",
   "metadata": {
    "papermill": {
     "duration": 0.01156,
     "end_time": "2025-07-06T05:30:49.328530",
     "exception": false,
     "start_time": "2025-07-06T05:30:49.316970",
     "status": "completed"
    },
    "tags": []
   },
   "source": [
    "### Helper Function"
   ]
  },
  {
   "cell_type": "code",
   "execution_count": 13,
   "id": "9f25035b",
   "metadata": {
    "execution": {
     "iopub.execute_input": "2025-07-06T05:30:49.352772Z",
     "iopub.status.busy": "2025-07-06T05:30:49.352550Z",
     "iopub.status.idle": "2025-07-06T05:30:49.356567Z",
     "shell.execute_reply": "2025-07-06T05:30:49.355917Z"
    },
    "papermill": {
     "duration": 0.017331,
     "end_time": "2025-07-06T05:30:49.357555",
     "exception": false,
     "start_time": "2025-07-06T05:30:49.340224",
     "status": "completed"
    },
    "tags": []
   },
   "outputs": [],
   "source": [
    "def show_frame_vs(frame1, frame2, title1=\"Frame 1\", title2=\"Frame 2\"):\n",
    "    plt.figure(figsize=(10, 5))\n",
    "\n",
    "    # First frame\n",
    "    plt.subplot(1, 2, 1)\n",
    "    plt.imshow(frame1)\n",
    "    plt.title(title1)\n",
    "    plt.axis('off')\n",
    "\n",
    "    # Second frame\n",
    "    plt.subplot(1, 2, 2)\n",
    "    plt.imshow(frame2)\n",
    "    plt.title(title2)\n",
    "    plt.axis('off')\n",
    "\n",
    "    plt.tight_layout()\n",
    "    plt.show()"
   ]
  },
  {
   "cell_type": "code",
   "execution_count": 14,
   "id": "643a115d",
   "metadata": {
    "execution": {
     "iopub.execute_input": "2025-07-06T05:30:49.382425Z",
     "iopub.status.busy": "2025-07-06T05:30:49.381883Z",
     "iopub.status.idle": "2025-07-06T05:30:49.385436Z",
     "shell.execute_reply": "2025-07-06T05:30:49.384878Z"
    },
    "papermill": {
     "duration": 0.017206,
     "end_time": "2025-07-06T05:30:49.386624",
     "exception": false,
     "start_time": "2025-07-06T05:30:49.369418",
     "status": "completed"
    },
    "tags": []
   },
   "outputs": [],
   "source": [
    "# reusable video loop helper function\n",
    "def apply_function(function, videos, *arg, **kwargs):\n",
    "    new_videos=[]\n",
    "    \n",
    "    for video in videos:\n",
    "        new_videos.append(function(video, *arg, **kwargs))\n",
    "        \n",
    "    return new_videos"
   ]
  },
  {
   "cell_type": "code",
   "execution_count": 15,
   "id": "f3ef028e",
   "metadata": {
    "execution": {
     "iopub.execute_input": "2025-07-06T05:30:49.412411Z",
     "iopub.status.busy": "2025-07-06T05:30:49.412203Z",
     "iopub.status.idle": "2025-07-06T05:30:49.416059Z",
     "shell.execute_reply": "2025-07-06T05:30:49.415530Z"
    },
    "papermill": {
     "duration": 0.017886,
     "end_time": "2025-07-06T05:30:49.417066",
     "exception": false,
     "start_time": "2025-07-06T05:30:49.399180",
     "status": "completed"
    },
    "tags": []
   },
   "outputs": [],
   "source": [
    "# reusable video loop helper function\n",
    "def apply(function, videos, labels, *arg, **kwargs):\n",
    "    new_videos=[]\n",
    "    new_labels=[]\n",
    "    combined=zip(labels, videos)\n",
    "    \n",
    "    for label, video in combined:\n",
    "        new_videos.append(function(video, *arg, **kwargs))\n",
    "        new_labels.append(label)\n",
    "        \n",
    "    new_videos=np.asarray(new_videos)\n",
    "    new_labels=np.asarray(new_labels)\n",
    "    \n",
    "    return new_videos, new_labels"
   ]
  },
  {
   "cell_type": "markdown",
   "id": "c0720eb0",
   "metadata": {
    "papermill": {
     "duration": 0.012299,
     "end_time": "2025-07-06T05:30:49.442247",
     "exception": false,
     "start_time": "2025-07-06T05:30:49.429948",
     "status": "completed"
    },
    "tags": []
   },
   "source": [
    "## Salt and Pepper Noise "
   ]
  },
  {
   "cell_type": "code",
   "execution_count": 16,
   "id": "5fb517cc",
   "metadata": {
    "execution": {
     "iopub.execute_input": "2025-07-06T05:30:49.467984Z",
     "iopub.status.busy": "2025-07-06T05:30:49.467770Z",
     "iopub.status.idle": "2025-07-06T05:30:49.472201Z",
     "shell.execute_reply": "2025-07-06T05:30:49.471447Z"
    },
    "papermill": {
     "duration": 0.018621,
     "end_time": "2025-07-06T05:30:49.473379",
     "exception": false,
     "start_time": "2025-07-06T05:30:49.454758",
     "status": "completed"
    },
    "tags": []
   },
   "outputs": [],
   "source": [
    "# Noise function def\n",
    "\n",
    "def noise_video(video,noise_factor=NOISE_FACTOR):\n",
    "    noisy_video=[]\n",
    "    for frame in video:\n",
    "        # Generate random noise\n",
    "        noise = np.random.rand(*frame.shape)  # Generate random noise\n",
    "        salt_pepper_noise = np.random.choice([0, 1], size=frame.shape, p=[1-noise_factor, noise_factor])\n",
    "        noisy_frame = frame * (1 - salt_pepper_noise) + salt_pepper_noise * np.random.rand(*frame.shape)\n",
    "        noisy_video.append(noisy_frame)\n",
    "    return np.array(noisy_video)"
   ]
  },
  {
   "cell_type": "markdown",
   "id": "e013b047",
   "metadata": {
    "papermill": {
     "duration": 0.012527,
     "end_time": "2025-07-06T05:30:49.499019",
     "exception": false,
     "start_time": "2025-07-06T05:30:49.486492",
     "status": "completed"
    },
    "tags": []
   },
   "source": [
    "## Horizontal Flip"
   ]
  },
  {
   "cell_type": "code",
   "execution_count": 17,
   "id": "359a6d74",
   "metadata": {
    "execution": {
     "iopub.execute_input": "2025-07-06T05:30:49.525451Z",
     "iopub.status.busy": "2025-07-06T05:30:49.525211Z",
     "iopub.status.idle": "2025-07-06T05:30:49.528798Z",
     "shell.execute_reply": "2025-07-06T05:30:49.528094Z"
    },
    "papermill": {
     "duration": 0.017817,
     "end_time": "2025-07-06T05:30:49.529910",
     "exception": false,
     "start_time": "2025-07-06T05:30:49.512093",
     "status": "completed"
    },
    "tags": []
   },
   "outputs": [],
   "source": [
    "# horizontal flip function def\n",
    "# Testing Flip feautes[0] -> first video\n",
    "def horizontal_flip(video):\n",
    "    return [tf.image.flip_left_right(frame) for frame in video]"
   ]
  },
  {
   "cell_type": "markdown",
   "id": "abd7d53a",
   "metadata": {
    "papermill": {
     "duration": 0.011538,
     "end_time": "2025-07-06T05:30:49.553903",
     "exception": false,
     "start_time": "2025-07-06T05:30:49.542365",
     "status": "completed"
    },
    "tags": []
   },
   "source": [
    "## Random Shear"
   ]
  },
  {
   "cell_type": "code",
   "execution_count": 18,
   "id": "ab570268",
   "metadata": {
    "execution": {
     "iopub.execute_input": "2025-07-06T05:30:49.577998Z",
     "iopub.status.busy": "2025-07-06T05:30:49.577811Z",
     "iopub.status.idle": "2025-07-06T05:30:49.583119Z",
     "shell.execute_reply": "2025-07-06T05:30:49.582606Z"
    },
    "papermill": {
     "duration": 0.018527,
     "end_time": "2025-07-06T05:30:49.584141",
     "exception": false,
     "start_time": "2025-07-06T05:30:49.565614",
     "status": "completed"
    },
    "tags": []
   },
   "outputs": [],
   "source": [
    "# random shear function def\n",
    "import numpy as np\n",
    "import tensorflow as tf\n",
    "from scipy.ndimage import affine_transform\n",
    "\n",
    "def apply_shear_frames(frames, shear_right):\n",
    "    return [apply_shear(frame, shear_right) for frame in frames]\n",
    "\n",
    "def apply_shear(frame, shear_right=0):\n",
    "    frame_resized = tf.image.resize(frame, (IMAGE_HEIGHT, IMAGE_WIDTH)).numpy()\n",
    "    if shear_right:\n",
    "        shear_x = 0.09\n",
    "        shear_y = 0.1\n",
    "    else:\n",
    "        shear_x = -0.09\n",
    "        shear_y = 0.3\n",
    "    # Construct the affine matrix for scipy: inverse of the transformation matrix\n",
    "    # scipy applies the inverse transform matrix\n",
    "    shear_matrix = np.array([\n",
    "        [1, shear_x, 0],\n",
    "        [shear_y, 1, 0],\n",
    "        [0, 0, 1]\n",
    "    ], dtype=np.float32)\n",
    "\n",
    "    # Extract 2x2 part for affine_transform\n",
    "    matrix = shear_matrix[:2, :2]\n",
    "\n",
    "    # Offset (no translation)\n",
    "    offset = [0, 0]\n",
    "\n",
    "    # Apply affine transform on each channel separately\n",
    "    sheared = np.zeros_like(frame_resized)\n",
    "    for c in range(3):\n",
    "        sheared[..., c] = affine_transform(\n",
    "            frame_resized[..., c],\n",
    "            matrix=matrix,\n",
    "            offset=offset,\n",
    "            order=1,          # bilinear interpolation\n",
    "            mode='nearest'    # fill_mode\n",
    "        )\n",
    "    return sheared"
   ]
  },
  {
   "cell_type": "markdown",
   "id": "555b7406",
   "metadata": {
    "papermill": {
     "duration": 0.011852,
     "end_time": "2025-07-06T05:30:49.607950",
     "exception": false,
     "start_time": "2025-07-06T05:30:49.596098",
     "status": "completed"
    },
    "tags": []
   },
   "source": [
    "# 📌 Model Related\n",
    "## 🗼 Model Architecture `create_model`"
   ]
  },
  {
   "cell_type": "code",
   "execution_count": 19,
   "id": "1afe0efa",
   "metadata": {
    "execution": {
     "iopub.execute_input": "2025-07-06T05:30:49.632733Z",
     "iopub.status.busy": "2025-07-06T05:30:49.632519Z",
     "iopub.status.idle": "2025-07-06T05:30:49.643930Z",
     "shell.execute_reply": "2025-07-06T05:30:49.643457Z"
    },
    "papermill": {
     "duration": 0.024911,
     "end_time": "2025-07-06T05:30:49.644914",
     "exception": false,
     "start_time": "2025-07-06T05:30:49.620003",
     "status": "completed"
    },
    "tags": []
   },
   "outputs": [],
   "source": [
    "from tensorflow.keras.applications import Xception\n",
    "from tensorflow.keras.models import Sequential\n",
    "from tensorflow.keras.layers import GlobalAveragePooling2D, TimeDistributed, LSTM, Dropout, Dense, BatchNormalization\n",
    "from tensorflow.keras.regularizers import l2\n",
    "\n",
    "def create_xception_lstm_model(sequence_length, image_height, image_width, classes_list=None, dropout_rate=0.5):\n",
    "    if classes_list is None:\n",
    "        raise ValueError(\"classes_list must be provided to define the output layer size\")\n",
    "\n",
    "    try:\n",
    "        # Load Xception model with pre-trained ImageNet weights\n",
    "        print(\"Loading Xception base model...\")\n",
    "        xception = Xception(\n",
    "            weights='imagenet',\n",
    "            include_top=False,\n",
    "            input_shape=(image_height, image_width, 3),\n",
    "            name=\"Xception\"\n",
    "        )\n",
    "        \n",
    "        # # Unfreeze more layers to fine-tune\n",
    "        # for layer in xception.layers[:-10]:  # Unfreeze more layers to fine-tune more\n",
    "        #     layer.trainable = False\n",
    "        # for layer in xception.layers[-10:]:\n",
    "        #     layer.trainable = True\n",
    "\n",
    "        # Define the Sequential model\n",
    "        model = Sequential([\n",
    "            # TimeDistributed Xception model\n",
    "            TimeDistributed(\n",
    "                xception,\n",
    "                input_shape=(sequence_length, image_height, image_width, 3),\n",
    "                name=\"time_distributed\"\n",
    "            ),\n",
    "            # TimeDistributed GlobalAveragePooling2D\n",
    "            TimeDistributed(GlobalAveragePooling2D(), name=\"time_distributed_1\"),\n",
    "            # LSTM layer with 256 units (increased)\n",
    "            LSTM(512, activation=\"tanh\", return_sequences=False, kernel_regularizer=l2(0.01), name=\"lstm\"),\n",
    "            BatchNormalization(name=\"batch_normalization\"),\n",
    "            # Dropout after LSTM\n",
    "            Dropout(dropout_rate, name=\"dropout_lstm\"),\n",
    "            # Dense layer with 512 units\n",
    "            Dense(512, activation=\"relu\", kernel_regularizer=l2(0.01), name=\"dense\"),\n",
    "            # Dropout after Dense\n",
    "            Dropout(dropout_rate + 0.1, name=\"dropout_dense\"),\n",
    "            # Output Dense layer with softmax activation\n",
    "            Dense(len(classes_list), activation=\"softmax\", name=\"dense_1\")\n",
    "        ])\n",
    "\n",
    "        # Print model summary\n",
    "        print(\"Model architecture created successfully!\")\n",
    "        model.summary()\n",
    "\n",
    "        return model\n",
    "\n",
    "    except Exception as e:\n",
    "        print(f\"Error creating model: {e}\")\n",
    "        return None\n"
   ]
  },
  {
   "cell_type": "code",
   "execution_count": 20,
   "id": "c7861bff",
   "metadata": {
    "execution": {
     "iopub.execute_input": "2025-07-06T05:30:49.670539Z",
     "iopub.status.busy": "2025-07-06T05:30:49.670338Z",
     "iopub.status.idle": "2025-07-06T05:30:53.505510Z",
     "shell.execute_reply": "2025-07-06T05:30:53.504602Z"
    },
    "papermill": {
     "duration": 3.849912,
     "end_time": "2025-07-06T05:30:53.507178",
     "exception": false,
     "start_time": "2025-07-06T05:30:49.657266",
     "status": "completed"
    },
    "tags": []
   },
   "outputs": [
    {
     "name": "stdout",
     "output_type": "stream",
     "text": [
      "Pre-loading Xception weights...\n"
     ]
    },
    {
     "name": "stderr",
     "output_type": "stream",
     "text": [
      "I0000 00:00:1751779850.860903      19 gpu_device.cc:2022] Created device /job:localhost/replica:0/task:0/device:GPU:0 with 13942 MB memory:  -> device: 0, name: Tesla T4, pci bus id: 0000:00:04.0, compute capability: 7.5\n",
      "I0000 00:00:1751779850.861569      19 gpu_device.cc:2022] Created device /job:localhost/replica:0/task:0/device:GPU:1 with 13942 MB memory:  -> device: 1, name: Tesla T4, pci bus id: 0000:00:05.0, compute capability: 7.5\n"
     ]
    },
    {
     "name": "stdout",
     "output_type": "stream",
     "text": [
      "Downloading data from https://storage.googleapis.com/tensorflow/keras-applications/xception/xception_weights_tf_dim_ordering_tf_kernels_notop.h5\n",
      "\u001b[1m83683744/83683744\u001b[0m \u001b[32m━━━━━━━━━━━━━━━━━━━━\u001b[0m\u001b[37m\u001b[0m \u001b[1m0s\u001b[0m 0us/step\n",
      "Weights loaded successfully!\n"
     ]
    }
   ],
   "source": [
    "# donwload model weights\n",
    "from tensorflow.keras.applications import Xception\n",
    "print(\"Pre-loading Xception weights...\")\n",
    "base_model = Xception(weights='imagenet', include_top=False, input_shape=(IMAGE_HEIGHT, IMAGE_WIDTH, 3))\n",
    "print(\"Weights loaded successfully!\")"
   ]
  },
  {
   "cell_type": "markdown",
   "id": "138c871f",
   "metadata": {
    "papermill": {
     "duration": 0.013748,
     "end_time": "2025-07-06T05:30:53.537597",
     "exception": false,
     "start_time": "2025-07-06T05:30:53.523849",
     "status": "completed"
    },
    "tags": []
   },
   "source": [
    "# 📌 Execution\n",
    "## Creating Dataset\n",
    "The following functions are executed\n",
    "- `frame extraction`\n",
    "- `resize`\n",
    "\n",
    "which returns:\n",
    "- `features` - `np.array` of all the videos\n",
    "- `labels` - `np.array` of all the class labels"
   ]
  },
  {
   "cell_type": "code",
   "execution_count": 21,
   "id": "6405a401",
   "metadata": {
    "execution": {
     "iopub.execute_input": "2025-07-06T05:30:53.563328Z",
     "iopub.status.busy": "2025-07-06T05:30:53.563095Z",
     "iopub.status.idle": "2025-07-06T05:46:07.838701Z",
     "shell.execute_reply": "2025-07-06T05:46:07.837868Z"
    },
    "papermill": {
     "duration": 914.290015,
     "end_time": "2025-07-06T05:46:07.839976",
     "exception": false,
     "start_time": "2025-07-06T05:30:53.549961",
     "status": "completed"
    },
    "tags": []
   },
   "outputs": [
    {
     "name": "stdout",
     "output_type": "stream",
     "text": [
      "Class 0: write\n",
      "Extracted 5 frames from file 20: subject_9_activity_5.mp4\n",
      "Class 1: sit still\n",
      "Extracted 5 frames from file 20: subject_37_activity_3.mp4\n",
      "Class 2: sit down\n",
      "Extracted 5 frames from file 20: subject_47_activity_2.mp4\n",
      "Class 3: move hands in front of the body\n",
      "Extracted 5 frames from file 20: subject_36_activity_11.mp4\n",
      "Class 4: raise one leg up\n",
      "Extracted 5 frames from file 20: subject_23_activity_14.mp4\n",
      "Class 5: drink from a bottle\n",
      "Extracted 5 frames from file 20: subject_6_activity_9.mp4\n",
      "Class 6: stand up\n",
      "Extracted 5 frames from file 20: subject_19_activity_1.mp4\n",
      "Class 7: read\n",
      "Extracted 5 frames from file 20: subject_40_activity_4.mp4\n",
      "Class 8: throw paper\n",
      "Extracted 5 frames from file 20: subject_37_activity_8.mp4\n",
      "Class 9: walk\n",
      "Extracted 5 frames from file 20: subject_23_activity_7.mp4\n",
      "Class 10: drink from a mug\n",
      "Extracted 5 frames from file 20: subject_33_activity_10.mp4\n",
      "Class 11: fall from bed\n",
      "Extracted 5 frames from file 20: subject_14_activity_15.mp4\n",
      "Class 12: faint\n",
      "Extracted 5 frames from file 20: subject_48_activity_16.mp4\n",
      "Class 13: raise one hand up\n",
      "Extracted 5 frames from file 20: subject_22_activity_13.mp4\n",
      "Class 14: cheer up\n",
      "Extracted 5 frames from file 20: subject_1_activity_6.mp4\n",
      "Class 15: move hands close to the body\n",
      "Extracted 5 frames from file 20: subject_45_activity_12.mp4\n",
      "Dataset created with 320 videos\n",
      "Features shape: (320, 5, 128, 128, 3)\n",
      "Labels shape: (320,)\n"
     ]
    },
    {
     "data": {
      "text/plain": [
       "((320, 5, 128, 128, 3), (320,))"
      ]
     },
     "execution_count": 21,
     "metadata": {},
     "output_type": "execute_result"
    }
   ],
   "source": [
    "# RUN Create the dataset with explicit parameters\n",
    "try:\n",
    "    videos, labels = create_dataset(\n",
    "        dataset_dir=DATASET_DIR,\n",
    "        classes_list=CLASSES_LIST,\n",
    "        sequence_length=SEQUENCE_LENGTH,\n",
    "        image_height=IMAGE_HEIGHT,\n",
    "        image_width=IMAGE_WIDTH,\n",
    "        # Limit to 10 videos per class to manage memory\n",
    "        augmentations=True,\n",
    "        max_videos_per_class=MAX_VIDEO_PER_CLASS\n",
    "    )\n",
    "except FileNotFoundError as e:\n",
    "    print(f\"Error: {e}\")\n",
    "except ValueError as e:\n",
    "    print(f\"Error: {e}\")\n",
    "except Exception as e:\n",
    "    print(f\"Unexpected error: {e}\")\n",
    "\n",
    "videos.shape, labels.shape"
   ]
  },
  {
   "cell_type": "code",
   "execution_count": 22,
   "id": "0fe59cd5",
   "metadata": {
    "execution": {
     "iopub.execute_input": "2025-07-06T05:46:07.990198Z",
     "iopub.status.busy": "2025-07-06T05:46:07.989971Z",
     "iopub.status.idle": "2025-07-06T05:46:07.995074Z",
     "shell.execute_reply": "2025-07-06T05:46:07.994363Z"
    },
    "papermill": {
     "duration": 0.080873,
     "end_time": "2025-07-06T05:46:07.996235",
     "exception": false,
     "start_time": "2025-07-06T05:46:07.915362",
     "status": "completed"
    },
    "tags": []
   },
   "outputs": [],
   "source": [
    "def show_sequence(frames, index):\n",
    "    num_keyframes = len(frames)\n",
    "    plt.figure(figsize=(5 * num_keyframes, 5))\n",
    "\n",
    "    for plot_index, (i, frame) in enumerate(zip(index, frames), start=1):\n",
    "        frame_label = f\"(Frame {i})\"\n",
    "        frame = frame.copy()  # Ensure cv2.putText doesn't affect original\n",
    "        cv2.putText(frame, frame_label, (10, 30),\n",
    "                    cv2.FONT_HERSHEY_SIMPLEX, 0.8, (255, 255, 255), 2)\n",
    "        plt.subplot(1, num_keyframes, plot_index)\n",
    "        plt.imshow(frame)\n",
    "        plt.axis('off')\n",
    "\n",
    "    plt.tight_layout()\n",
    "    plt.savefig('ucf50_biking_keyframe_summary.jpg', bbox_inches='tight', dpi=300)\n",
    "    plt.show()\n",
    "\n",
    "    "
   ]
  },
  {
   "cell_type": "code",
   "execution_count": 23,
   "id": "596c973d",
   "metadata": {
    "execution": {
     "iopub.execute_input": "2025-07-06T05:46:08.190561Z",
     "iopub.status.busy": "2025-07-06T05:46:08.189902Z",
     "iopub.status.idle": "2025-07-06T05:46:09.528604Z",
     "shell.execute_reply": "2025-07-06T05:46:09.527889Z"
    },
    "papermill": {
     "duration": 1.41657,
     "end_time": "2025-07-06T05:46:09.532870",
     "exception": false,
     "start_time": "2025-07-06T05:46:08.116300",
     "status": "completed"
    },
    "tags": []
   },
   "outputs": [
    {
     "data": {
      "image/png": "[encoded data removed]",
      "text/plain": [
       "<Figure size 2500x500 with 5 Axes>"
      ]
     },
     "metadata": {},
     "output_type": "display_data"
    }
   ],
   "source": [
    "# check summarization\n",
    "show_sequence(videos[0], [1,2,3,4,5])"
   ]
  },
  {
   "cell_type": "code",
   "execution_count": 24,
   "id": "2891a6ef",
   "metadata": {
    "execution": {
     "iopub.execute_input": "2025-07-06T05:46:09.691493Z",
     "iopub.status.busy": "2025-07-06T05:46:09.691252Z",
     "iopub.status.idle": "2025-07-06T05:46:09.695071Z",
     "shell.execute_reply": "2025-07-06T05:46:09.694494Z"
    },
    "papermill": {
     "duration": 0.082169,
     "end_time": "2025-07-06T05:46:09.696214",
     "exception": false,
     "start_time": "2025-07-06T05:46:09.614045",
     "status": "completed"
    },
    "tags": []
   },
   "outputs": [
    {
     "name": "stdout",
     "output_type": "stream",
     "text": [
      "Total 320 videos and 320 classes\n"
     ]
    }
   ],
   "source": [
    "video_generator = VideoDataGenerator(\n",
    "    videos=videos,\n",
    "    labels=labels,\n",
    "    batch_size=BATCH_SIZE\n",
    ")"
   ]
  },
  {
   "cell_type": "code",
   "execution_count": 25,
   "id": "ad8eae47",
   "metadata": {
    "execution": {
     "iopub.execute_input": "2025-07-06T05:46:09.853832Z",
     "iopub.status.busy": "2025-07-06T05:46:09.853348Z",
     "iopub.status.idle": "2025-07-06T05:46:09.861206Z",
     "shell.execute_reply": "2025-07-06T05:46:09.860534Z"
    },
    "papermill": {
     "duration": 0.087973,
     "end_time": "2025-07-06T05:46:09.862327",
     "exception": false,
     "start_time": "2025-07-06T05:46:09.774354",
     "status": "completed"
    },
    "tags": []
   },
   "outputs": [
    {
     "data": {
      "text/plain": [
       "((16, 5, 128, 128, 3), (16,))"
      ]
     },
     "execution_count": 25,
     "metadata": {},
     "output_type": "execute_result"
    }
   ],
   "source": [
    "videos, labels = video_generator[0]\n",
    "\n",
    "videos.shape, labels.shape"
   ]
  },
  {
   "cell_type": "code",
   "execution_count": 26,
   "id": "ae3cddb3",
   "metadata": {
    "execution": {
     "iopub.execute_input": "2025-07-06T05:46:10.049502Z",
     "iopub.status.busy": "2025-07-06T05:46:10.048798Z",
     "iopub.status.idle": "2025-07-06T05:46:10.053963Z",
     "shell.execute_reply": "2025-07-06T05:46:10.053317Z"
    },
    "papermill": {
     "duration": 0.093384,
     "end_time": "2025-07-06T05:46:10.055108",
     "exception": false,
     "start_time": "2025-07-06T05:46:09.961724",
     "status": "completed"
    },
    "tags": []
   },
   "outputs": [
    {
     "data": {
      "text/plain": [
       "320"
      ]
     },
     "execution_count": 26,
     "metadata": {},
     "output_type": "execute_result"
    }
   ],
   "source": [
    "len(video_generator.videos) "
   ]
  },
  {
   "cell_type": "code",
   "execution_count": 27,
   "id": "d17a84d3",
   "metadata": {
    "execution": {
     "iopub.execute_input": "2025-07-06T05:46:10.272597Z",
     "iopub.status.busy": "2025-07-06T05:46:10.272309Z",
     "iopub.status.idle": "2025-07-06T05:46:10.277116Z",
     "shell.execute_reply": "2025-07-06T05:46:10.276424Z"
    },
    "papermill": {
     "duration": 0.143165,
     "end_time": "2025-07-06T05:46:10.278422",
     "exception": false,
     "start_time": "2025-07-06T05:46:10.135257",
     "status": "completed"
    },
    "tags": []
   },
   "outputs": [
    {
     "data": {
      "text/plain": [
       "20"
      ]
     },
     "execution_count": 27,
     "metadata": {},
     "output_type": "execute_result"
    }
   ],
   "source": [
    "len(video_generator)"
   ]
  },
  {
   "cell_type": "code",
   "execution_count": 28,
   "id": "d134cffb",
   "metadata": {
    "execution": {
     "iopub.execute_input": "2025-07-06T05:46:10.465234Z",
     "iopub.status.busy": "2025-07-06T05:46:10.464212Z",
     "iopub.status.idle": "2025-07-06T05:46:17.005950Z",
     "shell.execute_reply": "2025-07-06T05:46:17.005292Z"
    },
    "papermill": {
     "duration": 6.63928,
     "end_time": "2025-07-06T05:46:17.007127",
     "exception": false,
     "start_time": "2025-07-06T05:46:10.367847",
     "status": "completed"
    },
    "tags": []
   },
   "outputs": [
    {
     "name": "stdout",
     "output_type": "stream",
     "text": [
      "Total 320 augmented videos generated\n",
      "Ready to be merged with original videos...\n"
     ]
    }
   ],
   "source": [
    "apply_augmentation(segmentation_frames, video_generator)"
   ]
  },
  {
   "cell_type": "code",
   "execution_count": 29,
   "id": "fe23be3e",
   "metadata": {
    "execution": {
     "iopub.execute_input": "2025-07-06T05:46:17.186218Z",
     "iopub.status.busy": "2025-07-06T05:46:17.185448Z",
     "iopub.status.idle": "2025-07-06T05:46:17.189937Z",
     "shell.execute_reply": "2025-07-06T05:46:17.189413Z"
    },
    "papermill": {
     "duration": 0.093166,
     "end_time": "2025-07-06T05:46:17.190995",
     "exception": false,
     "start_time": "2025-07-06T05:46:17.097829",
     "status": "completed"
    },
    "tags": []
   },
   "outputs": [
    {
     "data": {
      "text/plain": [
       "(320, 320)"
      ]
     },
     "execution_count": 29,
     "metadata": {},
     "output_type": "execute_result"
    }
   ],
   "source": [
    "len(video_generator.temp_videos), len(video_generator.videos)"
   ]
  },
  {
   "cell_type": "code",
   "execution_count": 30,
   "id": "9bb3181b",
   "metadata": {
    "execution": {
     "iopub.execute_input": "2025-07-06T05:46:17.366867Z",
     "iopub.status.busy": "2025-07-06T05:46:17.366298Z",
     "iopub.status.idle": "2025-07-06T05:46:17.370977Z",
     "shell.execute_reply": "2025-07-06T05:46:17.370385Z"
    },
    "papermill": {
     "duration": 0.093382,
     "end_time": "2025-07-06T05:46:17.371970",
     "exception": false,
     "start_time": "2025-07-06T05:46:17.278588",
     "status": "completed"
    },
    "tags": []
   },
   "outputs": [
    {
     "name": "stdout",
     "output_type": "stream",
     "text": [
      "Successfully replaced, total original videos - 320 and augmented videos 0\n"
     ]
    }
   ],
   "source": [
    "video_generator.replace_original()"
   ]
  },
  {
   "cell_type": "code",
   "execution_count": 31,
   "id": "66f7d5cd",
   "metadata": {
    "execution": {
     "iopub.execute_input": "2025-07-06T05:46:17.548733Z",
     "iopub.status.busy": "2025-07-06T05:46:17.548408Z",
     "iopub.status.idle": "2025-07-06T05:46:17.552619Z",
     "shell.execute_reply": "2025-07-06T05:46:17.551960Z"
    },
    "papermill": {
     "duration": 0.093247,
     "end_time": "2025-07-06T05:46:17.553736",
     "exception": false,
     "start_time": "2025-07-06T05:46:17.460489",
     "status": "completed"
    },
    "tags": []
   },
   "outputs": [
    {
     "data": {
      "text/plain": [
       "(0, 320)"
      ]
     },
     "execution_count": 31,
     "metadata": {},
     "output_type": "execute_result"
    }
   ],
   "source": [
    "len(video_generator.temp_videos), len(video_generator.videos)"
   ]
  },
  {
   "cell_type": "code",
   "execution_count": 32,
   "id": "5ecad450",
   "metadata": {
    "execution": {
     "iopub.execute_input": "2025-07-06T05:46:17.729951Z",
     "iopub.status.busy": "2025-07-06T05:46:17.729739Z",
     "iopub.status.idle": "2025-07-06T05:46:17.824489Z",
     "shell.execute_reply": "2025-07-06T05:46:17.823839Z"
    },
    "papermill": {
     "duration": 0.184614,
     "end_time": "2025-07-06T05:46:17.825647",
     "exception": false,
     "start_time": "2025-07-06T05:46:17.641033",
     "status": "completed"
    },
    "tags": []
   },
   "outputs": [
    {
     "data": {
      "text/plain": [
       "(320, 5, 128, 128, 3)"
      ]
     },
     "execution_count": 32,
     "metadata": {},
     "output_type": "execute_result"
    }
   ],
   "source": [
    "test = np.array(video_generator.videos)\n",
    "\n",
    "test.shape"
   ]
  },
  {
   "cell_type": "code",
   "execution_count": 33,
   "id": "88e26237",
   "metadata": {
    "execution": {
     "iopub.execute_input": "2025-07-06T05:46:18.048729Z",
     "iopub.status.busy": "2025-07-06T05:46:18.048445Z",
     "iopub.status.idle": "2025-07-06T05:46:18.102923Z",
     "shell.execute_reply": "2025-07-06T05:46:18.102306Z"
    },
    "papermill": {
     "duration": 0.146591,
     "end_time": "2025-07-06T05:46:18.104013",
     "exception": false,
     "start_time": "2025-07-06T05:46:17.957422",
     "status": "completed"
    },
    "tags": []
   },
   "outputs": [
    {
     "data": {
      "image/png": "[encoded data removed]",
      "text/plain": [
       "<Figure size 300x300 with 1 Axes>"
      ]
     },
     "metadata": {},
     "output_type": "display_data"
    }
   ],
   "source": [
    "show_frame(test[1,0])"
   ]
  },
  {
   "cell_type": "markdown",
   "id": "c9e679ec",
   "metadata": {
    "papermill": {
     "duration": 0.087908,
     "end_time": "2025-07-06T05:46:18.284653",
     "exception": false,
     "start_time": "2025-07-06T05:46:18.196745",
     "status": "completed"
    },
    "tags": []
   },
   "source": [
    "## Apply ***horizontal flip*** (Augmentation)"
   ]
  },
  {
   "cell_type": "code",
   "execution_count": 34,
   "id": "ccbcfdfa",
   "metadata": {
    "execution": {
     "iopub.execute_input": "2025-07-06T05:46:18.463055Z",
     "iopub.status.busy": "2025-07-06T05:46:18.462822Z",
     "iopub.status.idle": "2025-07-06T05:46:19.729347Z",
     "shell.execute_reply": "2025-07-06T05:46:19.728685Z"
    },
    "papermill": {
     "duration": 1.357363,
     "end_time": "2025-07-06T05:46:19.730483",
     "exception": false,
     "start_time": "2025-07-06T05:46:18.373120",
     "status": "completed"
    },
    "tags": []
   },
   "outputs": [
    {
     "name": "stdout",
     "output_type": "stream",
     "text": [
      "Total 320 augmented videos generated\n",
      "Ready to be merged with original videos...\n"
     ]
    }
   ],
   "source": [
    "apply_augmentation(horizontal_flip, video_generator)"
   ]
  },
  {
   "cell_type": "code",
   "execution_count": 35,
   "id": "12658902",
   "metadata": {
    "execution": {
     "iopub.execute_input": "2025-07-06T05:46:19.944782Z",
     "iopub.status.busy": "2025-07-06T05:46:19.944515Z",
     "iopub.status.idle": "2025-07-06T05:46:19.948746Z",
     "shell.execute_reply": "2025-07-06T05:46:19.947924Z"
    },
    "papermill": {
     "duration": 0.110892,
     "end_time": "2025-07-06T05:46:19.949778",
     "exception": false,
     "start_time": "2025-07-06T05:46:19.838886",
     "status": "completed"
    },
    "tags": []
   },
   "outputs": [
    {
     "name": "stdout",
     "output_type": "stream",
     "text": [
      "Checking Total Videos and Class Count: 320, 320\n",
      "PENDING Total Videos and Class Count: 320, 320\n"
     ]
    }
   ],
   "source": [
    "print(f\"Checking Total Videos and Class Count: {len(video_generator.videos)}, {len(video_generator.labels)}\")\n",
    "print(f\"PENDING Total Videos and Class Count: {len(video_generator.temp_videos)}, {len(video_generator.temp_labels)}\")"
   ]
  },
  {
   "cell_type": "markdown",
   "id": "62e3f641",
   "metadata": {
    "papermill": {
     "duration": 0.101073,
     "end_time": "2025-07-06T05:46:20.155021",
     "exception": false,
     "start_time": "2025-07-06T05:46:20.053948",
     "status": "completed"
    },
    "tags": []
   },
   "source": [
    "## Apply ***Noise*** (Augmentation)"
   ]
  },
  {
   "cell_type": "code",
   "execution_count": 36,
   "id": "6b77ead6",
   "metadata": {
    "execution": {
     "iopub.execute_input": "2025-07-06T05:46:20.358009Z",
     "iopub.status.busy": "2025-07-06T05:46:20.357489Z",
     "iopub.status.idle": "2025-07-06T05:46:24.059877Z",
     "shell.execute_reply": "2025-07-06T05:46:24.059057Z"
    },
    "papermill": {
     "duration": 3.805144,
     "end_time": "2025-07-06T05:46:24.061018",
     "exception": false,
     "start_time": "2025-07-06T05:46:20.255874",
     "status": "completed"
    },
    "tags": []
   },
   "outputs": [
    {
     "name": "stdout",
     "output_type": "stream",
     "text": [
      "Total 640 augmented videos generated\n",
      "Ready to be merged with original videos...\n"
     ]
    }
   ],
   "source": [
    "apply_augmentation(noise_video, video_generator)"
   ]
  },
  {
   "cell_type": "code",
   "execution_count": 37,
   "id": "34259a9a",
   "metadata": {
    "execution": {
     "iopub.execute_input": "2025-07-06T05:46:24.290840Z",
     "iopub.status.busy": "2025-07-06T05:46:24.290411Z",
     "iopub.status.idle": "2025-07-06T05:46:24.294413Z",
     "shell.execute_reply": "2025-07-06T05:46:24.293545Z"
    },
    "papermill": {
     "duration": 0.119057,
     "end_time": "2025-07-06T05:46:24.295564",
     "exception": false,
     "start_time": "2025-07-06T05:46:24.176507",
     "status": "completed"
    },
    "tags": []
   },
   "outputs": [
    {
     "name": "stdout",
     "output_type": "stream",
     "text": [
      "Checking Total Videos and Class Count: 320, 320\n",
      "PENDING Total Videos and Class Count: 640, 640\n"
     ]
    }
   ],
   "source": [
    "print(f\"Checking Total Videos and Class Count: {len(video_generator.videos)}, {len(video_generator.labels)}\")\n",
    "print(f\"PENDING Total Videos and Class Count: {len(video_generator.temp_videos)}, {len(video_generator.temp_labels)}\")"
   ]
  },
  {
   "cell_type": "markdown",
   "id": "b69d3ed5",
   "metadata": {
    "papermill": {
     "duration": 0.171721,
     "end_time": "2025-07-06T05:46:24.581088",
     "exception": false,
     "start_time": "2025-07-06T05:46:24.409367",
     "status": "completed"
    },
    "tags": []
   },
   "source": [
    "## Apply ***Random Shear x2*** (Augmentation)"
   ]
  },
  {
   "cell_type": "code",
   "execution_count": 38,
   "id": "f6dcd343",
   "metadata": {
    "execution": {
     "iopub.execute_input": "2025-07-06T05:46:24.823142Z",
     "iopub.status.busy": "2025-07-06T05:46:24.822882Z",
     "iopub.status.idle": "2025-07-06T05:46:37.241911Z",
     "shell.execute_reply": "2025-07-06T05:46:37.241069Z"
    },
    "papermill": {
     "duration": 12.535408,
     "end_time": "2025-07-06T05:46:37.243043",
     "exception": false,
     "start_time": "2025-07-06T05:46:24.707635",
     "status": "completed"
    },
    "tags": []
   },
   "outputs": [
    {
     "name": "stdout",
     "output_type": "stream",
     "text": [
      "Total 960 augmented videos generated\n",
      "Ready to be merged with original videos...\n",
      "Total 1280 augmented videos generated\n",
      "Ready to be merged with original videos...\n"
     ]
    }
   ],
   "source": [
    "apply_augmentation(apply_shear_frames, video_generator, shear_right=0)\n",
    "apply_augmentation(apply_shear_frames, video_generator, shear_right=1)"
   ]
  },
  {
   "cell_type": "code",
   "execution_count": 39,
   "id": "b3586b56",
   "metadata": {
    "execution": {
     "iopub.execute_input": "2025-07-06T05:46:37.517911Z",
     "iopub.status.busy": "2025-07-06T05:46:37.517294Z",
     "iopub.status.idle": "2025-07-06T05:46:37.521573Z",
     "shell.execute_reply": "2025-07-06T05:46:37.520853Z"
    },
    "papermill": {
     "duration": 0.140503,
     "end_time": "2025-07-06T05:46:37.522740",
     "exception": false,
     "start_time": "2025-07-06T05:46:37.382237",
     "status": "completed"
    },
    "tags": []
   },
   "outputs": [
    {
     "name": "stdout",
     "output_type": "stream",
     "text": [
      "Checking Total Videos and Class Count: 320, 320\n",
      "PENDING Total Videos and Class Count: 1280, 1280\n"
     ]
    }
   ],
   "source": [
    "print(f\"Checking Total Videos and Class Count: {len(video_generator.videos)}, {len(video_generator.labels)}\")\n",
    "print(f\"PENDING Total Videos and Class Count: {len(video_generator.temp_videos)}, {len(video_generator.temp_labels)}\")"
   ]
  },
  {
   "cell_type": "code",
   "execution_count": 40,
   "id": "31b46fb4",
   "metadata": {
    "execution": {
     "iopub.execute_input": "2025-07-06T05:46:37.795508Z",
     "iopub.status.busy": "2025-07-06T05:46:37.795188Z",
     "iopub.status.idle": "2025-07-06T05:46:37.799174Z",
     "shell.execute_reply": "2025-07-06T05:46:37.798362Z"
    },
    "papermill": {
     "duration": 0.141336,
     "end_time": "2025-07-06T05:46:37.800326",
     "exception": false,
     "start_time": "2025-07-06T05:46:37.658990",
     "status": "completed"
    },
    "tags": []
   },
   "outputs": [
    {
     "name": "stdout",
     "output_type": "stream",
     "text": [
      "Successfully added - 1280 videos and 1280 classes.\n",
      "Now Total - 1600 videos and 1600 classes.\n",
      "PENDING for Augmentations - 0 videos and 0 classes.\n"
     ]
    }
   ],
   "source": [
    "# confirm changes to generator\n",
    "video_generator.confirm()"
   ]
  },
  {
   "cell_type": "code",
   "execution_count": 41,
   "id": "097b4abc",
   "metadata": {
    "execution": {
     "iopub.execute_input": "2025-07-06T05:46:38.075943Z",
     "iopub.status.busy": "2025-07-06T05:46:38.075711Z",
     "iopub.status.idle": "2025-07-06T05:46:38.079682Z",
     "shell.execute_reply": "2025-07-06T05:46:38.078991Z"
    },
    "papermill": {
     "duration": 0.142251,
     "end_time": "2025-07-06T05:46:38.080775",
     "exception": false,
     "start_time": "2025-07-06T05:46:37.938524",
     "status": "completed"
    },
    "tags": []
   },
   "outputs": [
    {
     "name": "stdout",
     "output_type": "stream",
     "text": [
      "Checking Video Generator Total Videos and Class Count: 1600, 1600\n"
     ]
    }
   ],
   "source": [
    "print(f\"Checking Video Generator Total Videos and Class Count: {len(video_generator.videos)}, {len(video_generator.labels)}\")"
   ]
  },
  {
   "cell_type": "markdown",
   "id": "e68b9377",
   "metadata": {
    "papermill": {
     "duration": 0.135648,
     "end_time": "2025-07-06T05:46:38.352925",
     "exception": false,
     "start_time": "2025-07-06T05:46:38.217277",
     "status": "completed"
    },
    "tags": []
   },
   "source": [
    "## Cheking (Output)"
   ]
  },
  {
   "cell_type": "code",
   "execution_count": 42,
   "id": "9c396a0b",
   "metadata": {
    "execution": {
     "iopub.execute_input": "2025-07-06T05:46:38.669353Z",
     "iopub.status.busy": "2025-07-06T05:46:38.669082Z",
     "iopub.status.idle": "2025-07-06T05:46:38.859542Z",
     "shell.execute_reply": "2025-07-06T05:46:38.858686Z"
    },
    "papermill": {
     "duration": 0.328115,
     "end_time": "2025-07-06T05:46:38.860792",
     "exception": false,
     "start_time": "2025-07-06T05:46:38.532677",
     "status": "completed"
    },
    "tags": []
   },
   "outputs": [
    {
     "name": "stdout",
     "output_type": "stream",
     "text": [
      "(16, 5, 128, 128, 3) (16,)\n"
     ]
    },
    {
     "data": {
      "image/png": "[encoded data removed]",
      "text/plain": [
       "<Figure size 1000x500 with 2 Axes>"
      ]
     },
     "metadata": {},
     "output_type": "display_data"
    },
    {
     "name": "stdout",
     "output_type": "stream",
     "text": [
      "Might be two different action, but to check the flipping focus on the door behind.\n"
     ]
    }
   ],
   "source": [
    "# check horizontal flips\n",
    "videos, labels = video_generator[7]\n",
    "videos1, labels1 = video_generator[1]\n",
    "\n",
    "print(videos.shape, labels.shape)\n",
    "\n",
    "show_frame_vs(videos[0,0],videos1[1,0], title1=\"Flipped Frame 1\", title2=\"Non Flipped Frame 1\")\n",
    "print(\"Might be two different action, but to check the flipping focus on the door behind.\")"
   ]
  },
  {
   "cell_type": "markdown",
   "id": "450061fa",
   "metadata": {
    "papermill": {
     "duration": 0.143699,
     "end_time": "2025-07-06T05:46:39.167881",
     "exception": false,
     "start_time": "2025-07-06T05:46:39.024182",
     "status": "completed"
    },
    "tags": []
   },
   "source": [
    "# 🧪 Test Augmentation (Output)\n",
    "## 🖼️ Horizontal Flip Output"
   ]
  },
  {
   "cell_type": "code",
   "execution_count": 43,
   "id": "7a465fa4",
   "metadata": {
    "execution": {
     "iopub.execute_input": "2025-07-06T05:46:39.442414Z",
     "iopub.status.busy": "2025-07-06T05:46:39.442135Z",
     "iopub.status.idle": "2025-07-06T05:46:39.445388Z",
     "shell.execute_reply": "2025-07-06T05:46:39.444843Z"
    },
    "papermill": {
     "duration": 0.141119,
     "end_time": "2025-07-06T05:46:39.446374",
     "exception": false,
     "start_time": "2025-07-06T05:46:39.305255",
     "status": "completed"
    },
    "tags": []
   },
   "outputs": [],
   "source": [
    "# flipped_video_1 = horizontal_flip(features[0])\n",
    "\n",
    "# flipped_video_1=np.asarray(flipped_video_1)\n",
    "\n",
    "# show_frame(flipped_video_1[0])\n",
    "# flipped_video_1.shape"
   ]
  },
  {
   "cell_type": "markdown",
   "id": "e0d7b7a3",
   "metadata": {
    "papermill": {
     "duration": 0.14123,
     "end_time": "2025-07-06T05:46:39.726080",
     "exception": false,
     "start_time": "2025-07-06T05:46:39.584850",
     "status": "completed"
    },
    "tags": []
   },
   "source": [
    "## 🖼️ Salt and Pepper Noise Output"
   ]
  },
  {
   "cell_type": "code",
   "execution_count": 44,
   "id": "5d6ec4a4",
   "metadata": {
    "execution": {
     "iopub.execute_input": "2025-07-06T05:46:40.046809Z",
     "iopub.status.busy": "2025-07-06T05:46:40.046220Z",
     "iopub.status.idle": "2025-07-06T05:46:40.049542Z",
     "shell.execute_reply": "2025-07-06T05:46:40.048796Z"
    },
    "papermill": {
     "duration": 0.141991,
     "end_time": "2025-07-06T05:46:40.050671",
     "exception": false,
     "start_time": "2025-07-06T05:46:39.908680",
     "status": "completed"
    },
    "tags": []
   },
   "outputs": [],
   "source": [
    "# noised_video = noise_video(features[0])\n",
    "\n",
    "# print(noised_video.shape)\n",
    "# show_frame(noised_video[0])"
   ]
  },
  {
   "cell_type": "markdown",
   "id": "762d3dbb",
   "metadata": {
    "papermill": {
     "duration": 0.136987,
     "end_time": "2025-07-06T05:46:40.325803",
     "exception": false,
     "start_time": "2025-07-06T05:46:40.188816",
     "status": "completed"
    },
    "tags": []
   },
   "source": [
    "## 🖼️ Random Shear Output"
   ]
  },
  {
   "cell_type": "code",
   "execution_count": 45,
   "id": "3a3c38ea",
   "metadata": {
    "execution": {
     "iopub.execute_input": "2025-07-06T05:46:40.597630Z",
     "iopub.status.busy": "2025-07-06T05:46:40.597077Z",
     "iopub.status.idle": "2025-07-06T05:46:40.600189Z",
     "shell.execute_reply": "2025-07-06T05:46:40.599681Z"
    },
    "papermill": {
     "duration": 0.14094,
     "end_time": "2025-07-06T05:46:40.601177",
     "exception": false,
     "start_time": "2025-07-06T05:46:40.460237",
     "status": "completed"
    },
    "tags": []
   },
   "outputs": [],
   "source": [
    "# print(features.shape)\n",
    "\n",
    "# sheared_1 = apply_shear_frames(features[0], shear_right=0)\n",
    "# sheared_2 = apply_shear_frames(features[0], shear_right=1)\n",
    "\n",
    "# sheared_1 = np.asarray(sheared_1)\n",
    "# sheared_2 = np.asarray(sheared_2)\n",
    "\n",
    "# print(sheared_1.shape)\n",
    "# show_frame(sheared_1[0])\n",
    "# show_frame(sheared_2[0])"
   ]
  },
  {
   "cell_type": "markdown",
   "id": "3c4fb4fe",
   "metadata": {
    "papermill": {
     "duration": 0.137106,
     "end_time": "2025-07-06T05:46:40.875940",
     "exception": false,
     "start_time": "2025-07-06T05:46:40.738834",
     "status": "completed"
    },
    "tags": []
   },
   "source": [
    "# 📌 Preparing Data for Training"
   ]
  },
  {
   "cell_type": "code",
   "execution_count": 46,
   "id": "258c3533",
   "metadata": {
    "execution": {
     "iopub.execute_input": "2025-07-06T05:46:41.152567Z",
     "iopub.status.busy": "2025-07-06T05:46:41.152333Z",
     "iopub.status.idle": "2025-07-06T05:46:41.533018Z",
     "shell.execute_reply": "2025-07-06T05:46:41.532430Z"
    },
    "papermill": {
     "duration": 0.523348,
     "end_time": "2025-07-06T05:46:41.535857",
     "exception": false,
     "start_time": "2025-07-06T05:46:41.012509",
     "status": "completed"
    },
    "tags": []
   },
   "outputs": [],
   "source": [
    "# Clear previous session to free memory\n",
    "import gc\n",
    "\n",
    "gc.collect()\n",
    "tf.keras.backend.clear_session()"
   ]
  },
  {
   "cell_type": "markdown",
   "id": "544519a7",
   "metadata": {
    "papermill": {
     "duration": 0.215453,
     "end_time": "2025-07-06T05:46:41.914584",
     "exception": false,
     "start_time": "2025-07-06T05:46:41.699131",
     "status": "completed"
    },
    "tags": []
   },
   "source": [
    "## Splitting data for ***Trainig*** and ***Testing***"
   ]
  },
  {
   "cell_type": "code",
   "execution_count": 47,
   "id": "e71b668d",
   "metadata": {
    "execution": {
     "iopub.execute_input": "2025-07-06T05:46:42.211792Z",
     "iopub.status.busy": "2025-07-06T05:46:42.211495Z",
     "iopub.status.idle": "2025-07-06T05:46:43.151284Z",
     "shell.execute_reply": "2025-07-06T05:46:43.150613Z"
    },
    "papermill": {
     "duration": 1.079613,
     "end_time": "2025-07-06T05:46:43.152472",
     "exception": false,
     "start_time": "2025-07-06T05:46:42.072859",
     "status": "completed"
    },
    "tags": []
   },
   "outputs": [
    {
     "data": {
      "text/plain": [
       "((1600, 5, 128, 128, 3), (1600,))"
      ]
     },
     "execution_count": 47,
     "metadata": {},
     "output_type": "execute_result"
    }
   ],
   "source": [
    "videos = video_generator.videos\n",
    "labels = video_generator.labels\n",
    "\n",
    "videos = np.array(videos, dtype='float32')\n",
    "labels = np.array(labels)\n",
    "\n",
    "videos.shape, labels.shape"
   ]
  },
  {
   "cell_type": "code",
   "execution_count": 48,
   "id": "351cbeed",
   "metadata": {
    "execution": {
     "iopub.execute_input": "2025-07-06T05:46:43.428141Z",
     "iopub.status.busy": "2025-07-06T05:46:43.427895Z",
     "iopub.status.idle": "2025-07-06T05:46:43.432584Z",
     "shell.execute_reply": "2025-07-06T05:46:43.432047Z"
    },
    "papermill": {
     "duration": 0.141881,
     "end_time": "2025-07-06T05:46:43.433647",
     "exception": false,
     "start_time": "2025-07-06T05:46:43.291766",
     "status": "completed"
    },
    "tags": []
   },
   "outputs": [
    {
     "data": {
      "text/plain": [
       "(1600, 16)"
      ]
     },
     "execution_count": 48,
     "metadata": {},
     "output_type": "execute_result"
    }
   ],
   "source": [
    "from tensorflow.keras.utils import to_categorical\n",
    "\n",
    "one_hot_encoded_labels = to_categorical(labels)\n",
    "\n",
    "one_hot_encoded_labels.shape"
   ]
  },
  {
   "cell_type": "code",
   "execution_count": 49,
   "id": "11979ca6",
   "metadata": {
    "execution": {
     "iopub.execute_input": "2025-07-06T05:46:43.708611Z",
     "iopub.status.busy": "2025-07-06T05:46:43.708400Z",
     "iopub.status.idle": "2025-07-06T05:46:43.900609Z",
     "shell.execute_reply": "2025-07-06T05:46:43.900014Z"
    },
    "papermill": {
     "duration": 0.329994,
     "end_time": "2025-07-06T05:46:43.901760",
     "exception": false,
     "start_time": "2025-07-06T05:46:43.571766",
     "status": "completed"
    },
    "tags": []
   },
   "outputs": [
    {
     "data": {
      "text/plain": [
       "0"
      ]
     },
     "execution_count": 49,
     "metadata": {},
     "output_type": "execute_result"
    }
   ],
   "source": [
    "gc.collect()"
   ]
  },
  {
   "cell_type": "code",
   "execution_count": 50,
   "id": "080876a1",
   "metadata": {
    "execution": {
     "iopub.execute_input": "2025-07-06T05:46:44.225730Z",
     "iopub.status.busy": "2025-07-06T05:46:44.225390Z",
     "iopub.status.idle": "2025-07-06T05:46:44.669985Z",
     "shell.execute_reply": "2025-07-06T05:46:44.669314Z"
    },
    "papermill": {
     "duration": 0.628993,
     "end_time": "2025-07-06T05:46:44.671201",
     "exception": false,
     "start_time": "2025-07-06T05:46:44.042208",
     "status": "completed"
    },
    "tags": []
   },
   "outputs": [
    {
     "data": {
      "text/plain": [
       "((1280, 5, 128, 128, 3), (1280, 16), (320, 5, 128, 128, 3), (320, 16))"
      ]
     },
     "execution_count": 50,
     "metadata": {},
     "output_type": "execute_result"
    }
   ],
   "source": [
    "# RUN Split the Data into Train ( 75% ) and Test Set ( 25% ).\n",
    "from sklearn.model_selection import train_test_split\n",
    "features_train, features_test, labels_train, labels_test = train_test_split(videos,\n",
    "                                                                            one_hot_encoded_labels,\n",
    "                                                                            test_size = TEST_SIZE,\n",
    "                                                                            shuffle = True,\n",
    "                                                                            random_state = seed_constant)\n",
    "\n",
    "features_train.shape, labels_train.shape, features_test.shape, labels_test.shape"
   ]
  },
  {
   "cell_type": "markdown",
   "id": "eb5b302c",
   "metadata": {
    "papermill": {
     "duration": 0.137792,
     "end_time": "2025-07-06T05:46:44.947955",
     "exception": false,
     "start_time": "2025-07-06T05:46:44.810163",
     "status": "completed"
    },
    "tags": []
   },
   "source": [
    "## Splitting data for ***Training Set*** and ***Validation Set***"
   ]
  },
  {
   "cell_type": "code",
   "execution_count": 51,
   "id": "5f516387",
   "metadata": {
    "execution": {
     "iopub.execute_input": "2025-07-06T05:46:45.223112Z",
     "iopub.status.busy": "2025-07-06T05:46:45.222416Z",
     "iopub.status.idle": "2025-07-06T05:46:45.228138Z",
     "shell.execute_reply": "2025-07-06T05:46:45.227576Z"
    },
    "papermill": {
     "duration": 0.144291,
     "end_time": "2025-07-06T05:46:45.229189",
     "exception": false,
     "start_time": "2025-07-06T05:46:45.084898",
     "status": "completed"
    },
    "tags": []
   },
   "outputs": [
    {
     "data": {
      "text/plain": [
       "((1024, 5, 128, 128, 3), (1024, 16), (256, 5, 128, 128, 3), (256, 16))"
      ]
     },
     "execution_count": 51,
     "metadata": {},
     "output_type": "execute_result"
    }
   ],
   "source": [
    "# Assuming features_train and labels_train are defined\n",
    "train_set = 1-VALIDATION_SPLIT\n",
    "\n",
    "train_video_frames, val_video_frames = features_train[:int(train_set * len(features_train))], features_train[int(train_set * len(features_train)):]\n",
    "train_labels, val_labels = labels_train[:int(train_set * len(labels_train))], labels_train[int(train_set * len(labels_train)):]\n",
    "\n",
    "train_video_frames.shape, train_labels.shape, val_video_frames.shape, val_labels.shape"
   ]
  },
  {
   "cell_type": "markdown",
   "id": "a447bbb9",
   "metadata": {
    "papermill": {
     "duration": 0.136151,
     "end_time": "2025-07-06T05:46:45.502260",
     "exception": false,
     "start_time": "2025-07-06T05:46:45.366109",
     "status": "completed"
    },
    "tags": []
   },
   "source": [
    "## Use Generator `Video Data Generator`"
   ]
  },
  {
   "cell_type": "code",
   "execution_count": 52,
   "id": "aec974b9",
   "metadata": {
    "execution": {
     "iopub.execute_input": "2025-07-06T05:46:45.775554Z",
     "iopub.status.busy": "2025-07-06T05:46:45.775330Z",
     "iopub.status.idle": "2025-07-06T05:46:45.782056Z",
     "shell.execute_reply": "2025-07-06T05:46:45.781354Z"
    },
    "papermill": {
     "duration": 0.144666,
     "end_time": "2025-07-06T05:46:45.783106",
     "exception": false,
     "start_time": "2025-07-06T05:46:45.638440",
     "status": "completed"
    },
    "tags": []
   },
   "outputs": [
    {
     "name": "stdout",
     "output_type": "stream",
     "text": [
      "Total 1024 videos and 1024 classes\n",
      "Total 256 videos and 256 classes\n"
     ]
    },
    {
     "data": {
      "text/plain": [
       "(64, 16)"
      ]
     },
     "execution_count": 52,
     "metadata": {},
     "output_type": "execute_result"
    }
   ],
   "source": [
    "# Create the training and validation generators\n",
    "train_gen = VideoDataGenerator(\n",
    "    videos=train_video_frames, \n",
    "    labels=train_labels, \n",
    "    batch_size=BATCH_SIZE,\n",
    ")\n",
    "\n",
    "val_gen = VideoDataGenerator(\n",
    "    videos=val_video_frames, \n",
    "    labels=val_labels, \n",
    "    batch_size=BATCH_SIZE,\n",
    ")\n",
    "\n",
    "len(train_gen), len(val_gen)"
   ]
  },
  {
   "cell_type": "markdown",
   "id": "5d072338",
   "metadata": {
    "papermill": {
     "duration": 0.180208,
     "end_time": "2025-07-06T05:46:46.103026",
     "exception": false,
     "start_time": "2025-07-06T05:46:45.922818",
     "status": "completed"
    },
    "tags": []
   },
   "source": [
    "## Inspect ***Generator*** Data on Epochs"
   ]
  },
  {
   "cell_type": "code",
   "execution_count": 53,
   "id": "cdf15179",
   "metadata": {
    "execution": {
     "iopub.execute_input": "2025-07-06T05:46:46.377212Z",
     "iopub.status.busy": "2025-07-06T05:46:46.376510Z",
     "iopub.status.idle": "2025-07-06T05:46:46.388717Z",
     "shell.execute_reply": "2025-07-06T05:46:46.387951Z"
    },
    "papermill": {
     "duration": 0.149973,
     "end_time": "2025-07-06T05:46:46.389832",
     "exception": false,
     "start_time": "2025-07-06T05:46:46.239859",
     "status": "completed"
    },
    "tags": []
   },
   "outputs": [
    {
     "name": "stdout",
     "output_type": "stream",
     "text": [
      "[   0    1    2 ... 1021 1022 1023]\n",
      "[368 470 236 ... 433 468  99]\n"
     ]
    },
    {
     "data": {
      "text/plain": [
       "(16, (16, 5, 128, 128, 3), (16, 16))"
      ]
     },
     "execution_count": 53,
     "metadata": {},
     "output_type": "execute_result"
    }
   ],
   "source": [
    "features, labels = train_gen[1]\n",
    "\n",
    "print(train_gen.indices)\n",
    "\n",
    "train_gen.on_epoch_end()\n",
    "\n",
    "print(train_gen.indices)\n",
    "\n",
    "BATCH_SIZE, features.shape, labels.shape"
   ]
  },
  {
   "cell_type": "markdown",
   "id": "90708db8",
   "metadata": {
    "papermill": {
     "duration": 0.140023,
     "end_time": "2025-07-06T05:46:46.669265",
     "exception": false,
     "start_time": "2025-07-06T05:46:46.529242",
     "status": "completed"
    },
    "tags": []
   },
   "source": [
    "## Compute Class Weight"
   ]
  },
  {
   "cell_type": "code",
   "execution_count": 54,
   "id": "3e561e0a",
   "metadata": {
    "execution": {
     "iopub.execute_input": "2025-07-06T05:46:46.947429Z",
     "iopub.status.busy": "2025-07-06T05:46:46.947160Z",
     "iopub.status.idle": "2025-07-06T05:46:46.953343Z",
     "shell.execute_reply": "2025-07-06T05:46:46.952723Z"
    },
    "papermill": {
     "duration": 0.146302,
     "end_time": "2025-07-06T05:46:46.954402",
     "exception": false,
     "start_time": "2025-07-06T05:46:46.808100",
     "status": "completed"
    },
    "tags": []
   },
   "outputs": [
    {
     "name": "stdout",
     "output_type": "stream",
     "text": [
      "Class weights: {0: 1.0, 1: 1.0, 2: 1.0, 3: 1.0, 4: 1.0, 5: 1.0, 6: 1.0, 7: 1.0, 8: 1.0, 9: 1.0, 10: 1.0, 11: 1.0, 12: 1.0, 13: 1.0, 14: 1.0, 15: 1.0}\n"
     ]
    }
   ],
   "source": [
    "from sklearn.utils.class_weight import compute_class_weight\n",
    "import numpy as np\n",
    "\n",
    "# Assuming y_int are integer labels (not one-hot)\n",
    "y_int = np.argmax(one_hot_encoded_labels, axis=1)  # or just integer labels if you have them\n",
    "\n",
    "classes = np.arange(NO_OF_CLASSES)  # e.g. np.arange(16)\n",
    "class_weights_values = compute_class_weight(class_weight='balanced', classes=classes, y=y_int)\n",
    "\n",
    "class_weights = dict(zip(classes, class_weights_values))\n",
    "\n",
    "print(\"Class weights:\", class_weights)\n"
   ]
  },
  {
   "cell_type": "code",
   "execution_count": 55,
   "id": "4d1b4d71",
   "metadata": {
    "execution": {
     "iopub.execute_input": "2025-07-06T05:46:47.230743Z",
     "iopub.status.busy": "2025-07-06T05:46:47.230478Z",
     "iopub.status.idle": "2025-07-06T05:46:47.430374Z",
     "shell.execute_reply": "2025-07-06T05:46:47.429828Z"
    },
    "papermill": {
     "duration": 0.338707,
     "end_time": "2025-07-06T05:46:47.431509",
     "exception": false,
     "start_time": "2025-07-06T05:46:47.092802",
     "status": "completed"
    },
    "tags": []
   },
   "outputs": [],
   "source": [
    "gc.collect()\n",
    "del videos, one_hot_encoded_labels, labels_train\n",
    "del features_train, val_labels, train_labels\n",
    "del val_video_frames, train_video_frames"
   ]
  },
  {
   "cell_type": "markdown",
   "id": "6b552cb2",
   "metadata": {
    "papermill": {
     "duration": 0.135434,
     "end_time": "2025-07-06T05:46:47.749203",
     "exception": false,
     "start_time": "2025-07-06T05:46:47.613769",
     "status": "completed"
    },
    "tags": []
   },
   "source": [
    "# ✨ Model Execution\n",
    "## Creating Model"
   ]
  },
  {
   "cell_type": "code",
   "execution_count": 56,
   "id": "78e663d8",
   "metadata": {
    "execution": {
     "iopub.execute_input": "2025-07-06T05:46:48.023181Z",
     "iopub.status.busy": "2025-07-06T05:46:48.022513Z",
     "iopub.status.idle": "2025-07-06T05:46:49.354201Z",
     "shell.execute_reply": "2025-07-06T05:46:49.353428Z"
    },
    "papermill": {
     "duration": 1.470465,
     "end_time": "2025-07-06T05:46:49.355340",
     "exception": false,
     "start_time": "2025-07-06T05:46:47.884875",
     "status": "completed"
    },
    "tags": []
   },
   "outputs": [
    {
     "name": "stdout",
     "output_type": "stream",
     "text": [
      "Loading Xception base model...\n"
     ]
    },
    {
     "name": "stderr",
     "output_type": "stream",
     "text": [
      "/usr/local/lib/python3.11/dist-packages/keras/src/layers/core/wrapper.py:27: UserWarning: Do not pass an `input_shape`/`input_dim` argument to a layer. When using Sequential models, prefer using an `Input(shape)` object as the first layer in the model instead.\n",
      "  super().__init__(**kwargs)\n"
     ]
    },
    {
     "name": "stdout",
     "output_type": "stream",
     "text": [
      "Model architecture created successfully!\n"
     ]
    },
    {
     "data": {
      "text/html": [
       "<pre style=\"white-space:pre;overflow-x:auto;line-height:normal;font-family:Menlo,'DejaVu Sans Mono',consolas,'Courier New',monospace\"><span style=\"font-weight: bold\">Model: \"sequential\"</span>\n",
       "</pre>\n"
      ],
      "text/plain": [
       "\u001b[1mModel: \"sequential\"\u001b[0m\n"
      ]
     },
     "metadata": {},
     "output_type": "display_data"
    },
    {
     "data": {
      "text/html": [
       "<pre style=\"white-space:pre;overflow-x:auto;line-height:normal;font-family:Menlo,'DejaVu Sans Mono',consolas,'Courier New',monospace\">┏━━━━━━━━━━━━━━━━━━━━━━━━━━━━━━━━━━━━━━┳━━━━━━━━━━━━━━━━━━━━━━━━━━━━━┳━━━━━━━━━━━━━━━━━┓\n",
       "┃<span style=\"font-weight: bold\"> Layer (type)                         </span>┃<span style=\"font-weight: bold\"> Output Shape                </span>┃<span style=\"font-weight: bold\">         Param # </span>┃\n",
       "┡━━━━━━━━━━━━━━━━━━━━━━━━━━━━━━━━━━━━━━╇━━━━━━━━━━━━━━━━━━━━━━━━━━━━━╇━━━━━━━━━━━━━━━━━┩\n",
       "│ time_distributed (<span style=\"color: #0087ff; text-decoration-color: #0087ff\">TimeDistributed</span>)   │ (<span style=\"color: #00d7ff; text-decoration-color: #00d7ff\">None</span>, <span style=\"color: #00af00; text-decoration-color: #00af00\">5</span>, <span style=\"color: #00af00; text-decoration-color: #00af00\">4</span>, <span style=\"color: #00af00; text-decoration-color: #00af00\">4</span>, <span style=\"color: #00af00; text-decoration-color: #00af00\">2048</span>)       │      <span style=\"color: #00af00; text-decoration-color: #00af00\">20,861,480</span> │\n",
       "├──────────────────────────────────────┼─────────────────────────────┼─────────────────┤\n",
       "│ time_distributed_1 (<span style=\"color: #0087ff; text-decoration-color: #0087ff\">TimeDistributed</span>) │ (<span style=\"color: #00d7ff; text-decoration-color: #00d7ff\">None</span>, <span style=\"color: #00af00; text-decoration-color: #00af00\">5</span>, <span style=\"color: #00af00; text-decoration-color: #00af00\">2048</span>)             │               <span style=\"color: #00af00; text-decoration-color: #00af00\">0</span> │\n",
       "├──────────────────────────────────────┼─────────────────────────────┼─────────────────┤\n",
       "│ lstm (<span style=\"color: #0087ff; text-decoration-color: #0087ff\">LSTM</span>)                          │ (<span style=\"color: #00d7ff; text-decoration-color: #00d7ff\">None</span>, <span style=\"color: #00af00; text-decoration-color: #00af00\">512</span>)                 │       <span style=\"color: #00af00; text-decoration-color: #00af00\">5,244,928</span> │\n",
       "├──────────────────────────────────────┼─────────────────────────────┼─────────────────┤\n",
       "│ batch_normalization                  │ (<span style=\"color: #00d7ff; text-decoration-color: #00d7ff\">None</span>, <span style=\"color: #00af00; text-decoration-color: #00af00\">512</span>)                 │           <span style=\"color: #00af00; text-decoration-color: #00af00\">2,048</span> │\n",
       "│ (<span style=\"color: #0087ff; text-decoration-color: #0087ff\">BatchNormalization</span>)                 │                             │                 │\n",
       "├──────────────────────────────────────┼─────────────────────────────┼─────────────────┤\n",
       "│ dropout_lstm (<span style=\"color: #0087ff; text-decoration-color: #0087ff\">Dropout</span>)               │ (<span style=\"color: #00d7ff; text-decoration-color: #00d7ff\">None</span>, <span style=\"color: #00af00; text-decoration-color: #00af00\">512</span>)                 │               <span style=\"color: #00af00; text-decoration-color: #00af00\">0</span> │\n",
       "├──────────────────────────────────────┼─────────────────────────────┼─────────────────┤\n",
       "│ dense (<span style=\"color: #0087ff; text-decoration-color: #0087ff\">Dense</span>)                        │ (<span style=\"color: #00d7ff; text-decoration-color: #00d7ff\">None</span>, <span style=\"color: #00af00; text-decoration-color: #00af00\">512</span>)                 │         <span style=\"color: #00af00; text-decoration-color: #00af00\">262,656</span> │\n",
       "├──────────────────────────────────────┼─────────────────────────────┼─────────────────┤\n",
       "│ dropout_dense (<span style=\"color: #0087ff; text-decoration-color: #0087ff\">Dropout</span>)              │ (<span style=\"color: #00d7ff; text-decoration-color: #00d7ff\">None</span>, <span style=\"color: #00af00; text-decoration-color: #00af00\">512</span>)                 │               <span style=\"color: #00af00; text-decoration-color: #00af00\">0</span> │\n",
       "├──────────────────────────────────────┼─────────────────────────────┼─────────────────┤\n",
       "│ dense_1 (<span style=\"color: #0087ff; text-decoration-color: #0087ff\">Dense</span>)                      │ (<span style=\"color: #00d7ff; text-decoration-color: #00d7ff\">None</span>, <span style=\"color: #00af00; text-decoration-color: #00af00\">16</span>)                  │           <span style=\"color: #00af00; text-decoration-color: #00af00\">8,208</span> │\n",
       "└──────────────────────────────────────┴─────────────────────────────┴─────────────────┘\n",
       "</pre>\n"
      ],
      "text/plain": [
       "┏━━━━━━━━━━━━━━━━━━━━━━━━━━━━━━━━━━━━━━┳━━━━━━━━━━━━━━━━━━━━━━━━━━━━━┳━━━━━━━━━━━━━━━━━┓\n",
       "┃\u001b[1m \u001b[0m\u001b[1mLayer (type)                        \u001b[0m\u001b[1m \u001b[0m┃\u001b[1m \u001b[0m\u001b[1mOutput Shape               \u001b[0m\u001b[1m \u001b[0m┃\u001b[1m \u001b[0m\u001b[1m        Param #\u001b[0m\u001b[1m \u001b[0m┃\n",
       "┡━━━━━━━━━━━━━━━━━━━━━━━━━━━━━━━━━━━━━━╇━━━━━━━━━━━━━━━━━━━━━━━━━━━━━╇━━━━━━━━━━━━━━━━━┩\n",
       "│ time_distributed (\u001b[38;5;33mTimeDistributed\u001b[0m)   │ (\u001b[38;5;45mNone\u001b[0m, \u001b[38;5;34m5\u001b[0m, \u001b[38;5;34m4\u001b[0m, \u001b[38;5;34m4\u001b[0m, \u001b[38;5;34m2048\u001b[0m)       │      \u001b[38;5;34m20,861,480\u001b[0m │\n",
       "├──────────────────────────────────────┼─────────────────────────────┼─────────────────┤\n",
       "│ time_distributed_1 (\u001b[38;5;33mTimeDistributed\u001b[0m) │ (\u001b[38;5;45mNone\u001b[0m, \u001b[38;5;34m5\u001b[0m, \u001b[38;5;34m2048\u001b[0m)             │               \u001b[38;5;34m0\u001b[0m │\n",
       "├──────────────────────────────────────┼─────────────────────────────┼─────────────────┤\n",
       "│ lstm (\u001b[38;5;33mLSTM\u001b[0m)                          │ (\u001b[38;5;45mNone\u001b[0m, \u001b[38;5;34m512\u001b[0m)                 │       \u001b[38;5;34m5,244,928\u001b[0m │\n",
       "├──────────────────────────────────────┼─────────────────────────────┼─────────────────┤\n",
       "│ batch_normalization                  │ (\u001b[38;5;45mNone\u001b[0m, \u001b[38;5;34m512\u001b[0m)                 │           \u001b[38;5;34m2,048\u001b[0m │\n",
       "│ (\u001b[38;5;33mBatchNormalization\u001b[0m)                 │                             │                 │\n",
       "├──────────────────────────────────────┼─────────────────────────────┼─────────────────┤\n",
       "│ dropout_lstm (\u001b[38;5;33mDropout\u001b[0m)               │ (\u001b[38;5;45mNone\u001b[0m, \u001b[38;5;34m512\u001b[0m)                 │               \u001b[38;5;34m0\u001b[0m │\n",
       "├──────────────────────────────────────┼─────────────────────────────┼─────────────────┤\n",
       "│ dense (\u001b[38;5;33mDense\u001b[0m)                        │ (\u001b[38;5;45mNone\u001b[0m, \u001b[38;5;34m512\u001b[0m)                 │         \u001b[38;5;34m262,656\u001b[0m │\n",
       "├──────────────────────────────────────┼─────────────────────────────┼─────────────────┤\n",
       "│ dropout_dense (\u001b[38;5;33mDropout\u001b[0m)              │ (\u001b[38;5;45mNone\u001b[0m, \u001b[38;5;34m512\u001b[0m)                 │               \u001b[38;5;34m0\u001b[0m │\n",
       "├──────────────────────────────────────┼─────────────────────────────┼─────────────────┤\n",
       "│ dense_1 (\u001b[38;5;33mDense\u001b[0m)                      │ (\u001b[38;5;45mNone\u001b[0m, \u001b[38;5;34m16\u001b[0m)                  │           \u001b[38;5;34m8,208\u001b[0m │\n",
       "└──────────────────────────────────────┴─────────────────────────────┴─────────────────┘\n"
      ]
     },
     "metadata": {},
     "output_type": "display_data"
    },
    {
     "data": {
      "text/html": [
       "<pre style=\"white-space:pre;overflow-x:auto;line-height:normal;font-family:Menlo,'DejaVu Sans Mono',consolas,'Courier New',monospace\"><span style=\"font-weight: bold\"> Total params: </span><span style=\"color: #00af00; text-decoration-color: #00af00\">26,379,320</span> (100.63 MB)\n",
       "</pre>\n"
      ],
      "text/plain": [
       "\u001b[1m Total params: \u001b[0m\u001b[38;5;34m26,379,320\u001b[0m (100.63 MB)\n"
      ]
     },
     "metadata": {},
     "output_type": "display_data"
    },
    {
     "data": {
      "text/html": [
       "<pre style=\"white-space:pre;overflow-x:auto;line-height:normal;font-family:Menlo,'DejaVu Sans Mono',consolas,'Courier New',monospace\"><span style=\"font-weight: bold\"> Trainable params: </span><span style=\"color: #00af00; text-decoration-color: #00af00\">26,323,768</span> (100.42 MB)\n",
       "</pre>\n"
      ],
      "text/plain": [
       "\u001b[1m Trainable params: \u001b[0m\u001b[38;5;34m26,323,768\u001b[0m (100.42 MB)\n"
      ]
     },
     "metadata": {},
     "output_type": "display_data"
    },
    {
     "data": {
      "text/html": [
       "<pre style=\"white-space:pre;overflow-x:auto;line-height:normal;font-family:Menlo,'DejaVu Sans Mono',consolas,'Courier New',monospace\"><span style=\"font-weight: bold\"> Non-trainable params: </span><span style=\"color: #00af00; text-decoration-color: #00af00\">55,552</span> (217.00 KB)\n",
       "</pre>\n"
      ],
      "text/plain": [
       "\u001b[1m Non-trainable params: \u001b[0m\u001b[38;5;34m55,552\u001b[0m (217.00 KB)\n"
      ]
     },
     "metadata": {},
     "output_type": "display_data"
    },
    {
     "name": "stdout",
     "output_type": "stream",
     "text": [
      "Model Created Successfully!\n"
     ]
    }
   ],
   "source": [
    "# Create the model\n",
    "xlstm_model = create_xception_lstm_model(\n",
    "    sequence_length=SEQUENCE_LENGTH,\n",
    "    image_height=IMAGE_HEIGHT,\n",
    "    image_width=IMAGE_WIDTH,\n",
    "    classes_list=CLASSES_LIST,\n",
    "    dropout_rate=DROPOUT_RATE\n",
    ")\n",
    "\n",
    "# Check if model was created successfully\n",
    "if xlstm_model is None:\n",
    "    print(\"Failed to create model. Check error messages above.\")\n",
    "else:\n",
    "    print(\"Model Created Successfully!\")"
   ]
  },
  {
   "cell_type": "markdown",
   "id": "fbf90a5e",
   "metadata": {
    "papermill": {
     "duration": 0.14239,
     "end_time": "2025-07-06T05:46:49.636563",
     "exception": false,
     "start_time": "2025-07-06T05:46:49.494173",
     "status": "completed"
    },
    "tags": []
   },
   "source": [
    "## Plot Model Structure"
   ]
  },
  {
   "cell_type": "code",
   "execution_count": 57,
   "id": "00e5b460",
   "metadata": {
    "execution": {
     "iopub.execute_input": "2025-07-06T05:46:49.912144Z",
     "iopub.status.busy": "2025-07-06T05:46:49.911438Z",
     "iopub.status.idle": "2025-07-06T05:46:50.279744Z",
     "shell.execute_reply": "2025-07-06T05:46:50.278943Z"
    },
    "papermill": {
     "duration": 0.507299,
     "end_time": "2025-07-06T05:46:50.280895",
     "exception": false,
     "start_time": "2025-07-06T05:46:49.773596",
     "status": "completed"
    },
    "tags": []
   },
   "outputs": [
    {
     "name": "stdout",
     "output_type": "stream",
     "text": [
      "Xception Model Plot saved successfully...\n"
     ]
    }
   ],
   "source": [
    "# Plot the structure of the contructed model.\n",
    "from tensorflow.keras.utils import plot_model\n",
    "\n",
    "plot_model(xlstm_model, to_file = f'{MODEL_NAME}_model_Plot.png', show_shapes = True, show_layer_names = True)\n",
    "\n",
    "print(f\"{MODEL_NAME} Model Plot saved successfully...\")"
   ]
  },
  {
   "cell_type": "markdown",
   "id": "47c151d1",
   "metadata": {
    "papermill": {
     "duration": 0.138399,
     "end_time": "2025-07-06T05:46:50.559265",
     "exception": false,
     "start_time": "2025-07-06T05:46:50.420866",
     "status": "completed"
    },
    "tags": []
   },
   "source": [
    "## Model Compile"
   ]
  },
  {
   "cell_type": "code",
   "execution_count": 58,
   "id": "78939ee5",
   "metadata": {
    "execution": {
     "iopub.execute_input": "2025-07-06T05:46:50.882051Z",
     "iopub.status.busy": "2025-07-06T05:46:50.881815Z",
     "iopub.status.idle": "2025-07-06T05:46:50.897051Z",
     "shell.execute_reply": "2025-07-06T05:46:50.896489Z"
    },
    "papermill": {
     "duration": 0.155609,
     "end_time": "2025-07-06T05:46:50.898150",
     "exception": false,
     "start_time": "2025-07-06T05:46:50.742541",
     "status": "completed"
    },
    "tags": []
   },
   "outputs": [],
   "source": [
    "# Create an Instance of Early Stopping Callback\n",
    "from tensorflow.keras.callbacks import EarlyStopping\n",
    "\n",
    "early_stopping_callback = EarlyStopping(monitor = 'val_loss', \n",
    "                                        patience = 7, \n",
    "                                        mode = 'min', \n",
    "                                        restore_best_weights = True)\n",
    "\n",
    "# Compile the model and specify loss function, optimizer and metrics values to the model\n",
    "xlstm_model.compile(loss = 'categorical_crossentropy', \n",
    "                    optimizer=tf.keras.optimizers.Adam(learning_rate=0.0001),\n",
    "                    metrics = [\"accuracy\"])\n"
   ]
  },
  {
   "cell_type": "markdown",
   "id": "10c00f2f",
   "metadata": {
    "papermill": {
     "duration": 0.138351,
     "end_time": "2025-07-06T05:46:51.175088",
     "exception": false,
     "start_time": "2025-07-06T05:46:51.036737",
     "status": "completed"
    },
    "tags": []
   },
   "source": [
    "## 💪 Model Fit"
   ]
  },
  {
   "cell_type": "code",
   "execution_count": 59,
   "id": "7a1285c0",
   "metadata": {
    "execution": {
     "iopub.execute_input": "2025-07-06T05:46:51.449263Z",
     "iopub.status.busy": "2025-07-06T05:46:51.449002Z",
     "iopub.status.idle": "2025-07-06T05:46:51.454645Z",
     "shell.execute_reply": "2025-07-06T05:46:51.453932Z"
    },
    "papermill": {
     "duration": 0.143445,
     "end_time": "2025-07-06T05:46:51.455761",
     "exception": false,
     "start_time": "2025-07-06T05:46:51.312316",
     "status": "completed"
    },
    "tags": []
   },
   "outputs": [
    {
     "name": "stdout",
     "output_type": "stream",
     "text": [
      "Unique labels: [ 0  1  2  3  4  5  6  7  8  9 10 11 12 13 14 15]\n",
      "NO_OF_CLASSES: 16\n"
     ]
    }
   ],
   "source": [
    "labels = np.argmax(train_gen.labels, axis=1)  # assuming one-hot encoded\n",
    "print(\"Unique labels:\", np.unique(labels))\n",
    "print(\"NO_OF_CLASSES:\", NO_OF_CLASSES)\n"
   ]
  },
  {
   "cell_type": "code",
   "execution_count": 60,
   "id": "513ba1e5",
   "metadata": {
    "execution": {
     "iopub.execute_input": "2025-07-06T05:46:51.730710Z",
     "iopub.status.busy": "2025-07-06T05:46:51.730458Z",
     "iopub.status.idle": "2025-07-06T05:46:51.735780Z",
     "shell.execute_reply": "2025-07-06T05:46:51.734980Z"
    },
    "papermill": {
     "duration": 0.144372,
     "end_time": "2025-07-06T05:46:51.736869",
     "exception": false,
     "start_time": "2025-07-06T05:46:51.592497",
     "status": "completed"
    },
    "tags": []
   },
   "outputs": [
    {
     "name": "stdout",
     "output_type": "stream",
     "text": [
      "Train label shape: (1024, 16)\n",
      "Val label shape: (256, 16)\n"
     ]
    }
   ],
   "source": [
    "print(\"Train label shape:\", np.shape(train_gen.labels))\n",
    "print(\"Val label shape:\", np.shape(val_gen.labels))\n"
   ]
  },
  {
   "cell_type": "code",
   "execution_count": 61,
   "id": "028c525d",
   "metadata": {
    "execution": {
     "iopub.execute_input": "2025-07-06T05:46:52.058458Z",
     "iopub.status.busy": "2025-07-06T05:46:52.058190Z",
     "iopub.status.idle": "2025-07-06T06:10:00.278024Z",
     "shell.execute_reply": "2025-07-06T06:10:00.277201Z"
    },
    "papermill": {
     "duration": 1388.405083,
     "end_time": "2025-07-06T06:10:00.279422",
     "exception": false,
     "start_time": "2025-07-06T05:46:51.874339",
     "status": "completed"
    },
    "tags": []
   },
   "outputs": [
    {
     "name": "stdout",
     "output_type": "stream",
     "text": [
      "Dataset - Precis Har Rgb\n",
      "There are total 16 classes, selected 16 classes\n",
      "Setting 20 videos/class to train the model.\n",
      "Image size 128x128 with 5 sequence length\n",
      "Dropout rate: 0.5\n",
      "Train-Test split ratio 80/20\n",
      "Validation data from Train set 20.0%\n",
      "\n",
      "\n",
      "Training started for 1024 videos of 16 classes with 256 videos for validation...\n",
      "Epoch 1/30\n"
     ]
    },
    {
     "name": "stderr",
     "output_type": "stream",
     "text": [
      "I0000 00:00:1751780870.055960      87 cuda_dnn.cc:529] Loaded cuDNN version 90300\n"
     ]
    },
    {
     "name": "stdout",
     "output_type": "stream",
     "text": [
      "     64/Unknown \u001b[1m104s\u001b[0m 665ms/step - accuracy: 0.0978 - loss: 28.6713"
     ]
    },
    {
     "name": "stderr",
     "output_type": "stream",
     "text": [
      "/usr/local/lib/python3.11/dist-packages/keras/src/trainers/epoch_iterator.py:151: UserWarning: Your input ran out of data; interrupting training. Make sure that your dataset or generator can generate at least `steps_per_epoch * epochs` batches. You may need to use the `.repeat()` function when building your dataset.\n",
      "  self._interrupted_warning()\n"
     ]
    },
    {
     "name": "stdout",
     "output_type": "stream",
     "text": [
      "\u001b[1m64/64\u001b[0m \u001b[32m━━━━━━━━━━━━━━━━━━━━\u001b[0m\u001b[37m\u001b[0m \u001b[1m112s\u001b[0m 788ms/step - accuracy: 0.0980 - loss: 28.6578 - val_accuracy: 0.1719 - val_loss: 26.0581 - learning_rate: 1.0000e-04\n",
      "Epoch 2/30\n",
      "\u001b[1m64/64\u001b[0m \u001b[32m━━━━━━━━━━━━━━━━━━━━\u001b[0m\u001b[37m\u001b[0m \u001b[1m44s\u001b[0m 686ms/step - accuracy: 0.1908 - loss: 25.1102 - val_accuracy: 0.3281 - val_loss: 23.2274 - learning_rate: 1.0000e-04\n",
      "Epoch 3/30\n",
      "\u001b[1m64/64\u001b[0m \u001b[32m━━━━━━━━━━━━━━━━━━━━\u001b[0m\u001b[37m\u001b[0m \u001b[1m44s\u001b[0m 687ms/step - accuracy: 0.3496 - loss: 21.9400 - val_accuracy: 0.5234 - val_loss: 20.3921 - learning_rate: 1.0000e-04\n",
      "Epoch 4/30\n",
      "\u001b[1m64/64\u001b[0m \u001b[32m━━━━━━━━━━━━━━━━━━━━\u001b[0m\u001b[37m\u001b[0m \u001b[1m44s\u001b[0m 688ms/step - accuracy: 0.5401 - loss: 18.8105 - val_accuracy: 0.5469 - val_loss: 17.8200 - learning_rate: 1.0000e-04\n",
      "Epoch 5/30\n",
      "\u001b[1m64/64\u001b[0m \u001b[32m━━━━━━━━━━━━━━━━━━━━\u001b[0m\u001b[37m\u001b[0m \u001b[1m44s\u001b[0m 687ms/step - accuracy: 0.6511 - loss: 16.1943 - val_accuracy: 0.6055 - val_loss: 15.5975 - learning_rate: 1.0000e-04\n",
      "Epoch 6/30\n",
      "\u001b[1m64/64\u001b[0m \u001b[32m━━━━━━━━━━━━━━━━━━━━\u001b[0m\u001b[37m\u001b[0m \u001b[1m44s\u001b[0m 687ms/step - accuracy: 0.7891 - loss: 14.1072 - val_accuracy: 0.6680 - val_loss: 13.5838 - learning_rate: 1.0000e-04\n",
      "Epoch 7/30\n",
      "\u001b[1m64/64\u001b[0m \u001b[32m━━━━━━━━━━━━━━━━━━━━\u001b[0m\u001b[37m\u001b[0m \u001b[1m44s\u001b[0m 687ms/step - accuracy: 0.8791 - loss: 12.3882 - val_accuracy: 0.6680 - val_loss: 12.2601 - learning_rate: 1.0000e-04\n",
      "Epoch 8/30\n",
      "\u001b[1m64/64\u001b[0m \u001b[32m━━━━━━━━━━━━━━━━━━━━\u001b[0m\u001b[37m\u001b[0m \u001b[1m44s\u001b[0m 687ms/step - accuracy: 0.9235 - loss: 11.1896 - val_accuracy: 0.6914 - val_loss: 11.3008 - learning_rate: 1.0000e-04\n",
      "Epoch 9/30\n",
      "\u001b[1m64/64\u001b[0m \u001b[32m━━━━━━━━━━━━━━━━━━━━\u001b[0m\u001b[37m\u001b[0m \u001b[1m44s\u001b[0m 687ms/step - accuracy: 0.9565 - loss: 10.2300 - val_accuracy: 0.7344 - val_loss: 10.4066 - learning_rate: 1.0000e-04\n",
      "Epoch 10/30\n",
      "\u001b[1m64/64\u001b[0m \u001b[32m━━━━━━━━━━━━━━━━━━━━\u001b[0m\u001b[37m\u001b[0m \u001b[1m44s\u001b[0m 688ms/step - accuracy: 0.9592 - loss: 9.4922 - val_accuracy: 0.7031 - val_loss: 9.9179 - learning_rate: 1.0000e-04\n",
      "Epoch 11/30\n",
      "\u001b[1m64/64\u001b[0m \u001b[32m━━━━━━━━━━━━━━━━━━━━\u001b[0m\u001b[37m\u001b[0m \u001b[1m44s\u001b[0m 688ms/step - accuracy: 0.9906 - loss: 8.8505 - val_accuracy: 0.7227 - val_loss: 9.3396 - learning_rate: 1.0000e-04\n",
      "Epoch 12/30\n",
      "\u001b[1m64/64\u001b[0m \u001b[32m━━━━━━━━━━━━━━━━━━━━\u001b[0m\u001b[37m\u001b[0m \u001b[1m44s\u001b[0m 689ms/step - accuracy: 0.9921 - loss: 8.3399 - val_accuracy: 0.7188 - val_loss: 8.9714 - learning_rate: 1.0000e-04\n",
      "Epoch 13/30\n",
      "\u001b[1m64/64\u001b[0m \u001b[32m━━━━━━━━━━━━━━━━━━━━\u001b[0m\u001b[37m\u001b[0m \u001b[1m44s\u001b[0m 688ms/step - accuracy: 0.9878 - loss: 7.9193 - val_accuracy: 0.6836 - val_loss: 8.7974 - learning_rate: 1.0000e-04\n",
      "Epoch 14/30\n",
      "\u001b[1m64/64\u001b[0m \u001b[32m━━━━━━━━━━━━━━━━━━━━\u001b[0m\u001b[37m\u001b[0m \u001b[1m44s\u001b[0m 688ms/step - accuracy: 0.9908 - loss: 7.5418 - val_accuracy: 0.7266 - val_loss: 8.2575 - learning_rate: 1.0000e-04\n",
      "Epoch 15/30\n",
      "\u001b[1m64/64\u001b[0m \u001b[32m━━━━━━━━━━━━━━━━━━━━\u001b[0m\u001b[37m\u001b[0m \u001b[1m44s\u001b[0m 689ms/step - accuracy: 0.9973 - loss: 7.1694 - val_accuracy: 0.7539 - val_loss: 7.9216 - learning_rate: 1.0000e-04\n",
      "Epoch 16/30\n",
      "\u001b[1m64/64\u001b[0m \u001b[32m━━━━━━━━━━━━━━━━━━━━\u001b[0m\u001b[37m\u001b[0m \u001b[1m44s\u001b[0m 687ms/step - accuracy: 0.9964 - loss: 6.8480 - val_accuracy: 0.7500 - val_loss: 7.5593 - learning_rate: 1.0000e-04\n",
      "Epoch 17/30\n",
      "\u001b[1m64/64\u001b[0m \u001b[32m━━━━━━━━━━━━━━━━━━━━\u001b[0m\u001b[37m\u001b[0m \u001b[1m44s\u001b[0m 691ms/step - accuracy: 0.9991 - loss: 6.5367 - val_accuracy: 0.7578 - val_loss: 7.3518 - learning_rate: 1.0000e-04\n",
      "Epoch 18/30\n",
      "\u001b[1m64/64\u001b[0m \u001b[32m━━━━━━━━━━━━━━━━━━━━\u001b[0m\u001b[37m\u001b[0m \u001b[1m44s\u001b[0m 688ms/step - accuracy: 1.0000 - loss: 6.2379 - val_accuracy: 0.7266 - val_loss: 7.1005 - learning_rate: 1.0000e-04\n",
      "Epoch 19/30\n",
      "\u001b[1m64/64\u001b[0m \u001b[32m━━━━━━━━━━━━━━━━━━━━\u001b[0m\u001b[37m\u001b[0m \u001b[1m44s\u001b[0m 688ms/step - accuracy: 0.9991 - loss: 5.9496 - val_accuracy: 0.7344 - val_loss: 6.7283 - learning_rate: 1.0000e-04\n",
      "Epoch 20/30\n",
      "\u001b[1m64/64\u001b[0m \u001b[32m━━━━━━━━━━━━━━━━━━━━\u001b[0m\u001b[37m\u001b[0m \u001b[1m44s\u001b[0m 690ms/step - accuracy: 0.9996 - loss: 5.6632 - val_accuracy: 0.7383 - val_loss: 6.3923 - learning_rate: 1.0000e-04\n",
      "Epoch 21/30\n",
      "\u001b[1m64/64\u001b[0m \u001b[32m━━━━━━━━━━━━━━━━━━━━\u001b[0m\u001b[37m\u001b[0m \u001b[1m44s\u001b[0m 687ms/step - accuracy: 0.9972 - loss: 5.3930 - val_accuracy: 0.7422 - val_loss: 6.1463 - learning_rate: 1.0000e-04\n",
      "Epoch 22/30\n",
      "\u001b[1m64/64\u001b[0m \u001b[32m━━━━━━━━━━━━━━━━━━━━\u001b[0m\u001b[37m\u001b[0m \u001b[1m44s\u001b[0m 689ms/step - accuracy: 0.9978 - loss: 5.1146 - val_accuracy: 0.7578 - val_loss: 5.8490 - learning_rate: 1.0000e-04\n",
      "Epoch 23/30\n",
      "\u001b[1m64/64\u001b[0m \u001b[32m━━━━━━━━━━━━━━━━━━━━\u001b[0m\u001b[37m\u001b[0m \u001b[1m44s\u001b[0m 687ms/step - accuracy: 1.0000 - loss: 4.8482 - val_accuracy: 0.7461 - val_loss: 5.5881 - learning_rate: 1.0000e-04\n",
      "Epoch 24/30\n",
      "\u001b[1m64/64\u001b[0m \u001b[32m━━━━━━━━━━━━━━━━━━━━\u001b[0m\u001b[37m\u001b[0m \u001b[1m44s\u001b[0m 688ms/step - accuracy: 1.0000 - loss: 4.5887 - val_accuracy: 0.7539 - val_loss: 5.3480 - learning_rate: 1.0000e-04\n",
      "Epoch 25/30\n",
      "\u001b[1m64/64\u001b[0m \u001b[32m━━━━━━━━━━━━━━━━━━━━\u001b[0m\u001b[37m\u001b[0m \u001b[1m44s\u001b[0m 690ms/step - accuracy: 0.9964 - loss: 4.3363 - val_accuracy: 0.7578 - val_loss: 5.0833 - learning_rate: 1.0000e-04\n",
      "Epoch 26/30\n",
      "\u001b[1m64/64\u001b[0m \u001b[32m━━━━━━━━━━━━━━━━━━━━\u001b[0m\u001b[37m\u001b[0m \u001b[1m44s\u001b[0m 690ms/step - accuracy: 1.0000 - loss: 4.0822 - val_accuracy: 0.7578 - val_loss: 4.8741 - learning_rate: 1.0000e-04\n",
      "Epoch 27/30\n",
      "\u001b[1m64/64\u001b[0m \u001b[32m━━━━━━━━━━━━━━━━━━━━\u001b[0m\u001b[37m\u001b[0m \u001b[1m44s\u001b[0m 688ms/step - accuracy: 1.0000 - loss: 3.8406 - val_accuracy: 0.7656 - val_loss: 4.6054 - learning_rate: 1.0000e-04\n",
      "Epoch 28/30\n",
      "\u001b[1m64/64\u001b[0m \u001b[32m━━━━━━━━━━━━━━━━━━━━\u001b[0m\u001b[37m\u001b[0m \u001b[1m44s\u001b[0m 688ms/step - accuracy: 1.0000 - loss: 3.6059 - val_accuracy: 0.7656 - val_loss: 4.3693 - learning_rate: 1.0000e-04\n",
      "Epoch 29/30\n",
      "\u001b[1m64/64\u001b[0m \u001b[32m━━━━━━━━━━━━━━━━━━━━\u001b[0m\u001b[37m\u001b[0m \u001b[1m44s\u001b[0m 688ms/step - accuracy: 1.0000 - loss: 3.3756 - val_accuracy: 0.7734 - val_loss: 4.1369 - learning_rate: 1.0000e-04\n",
      "Epoch 30/30\n",
      "\u001b[1m64/64\u001b[0m \u001b[32m━━━━━━━━━━━━━━━━━━━━\u001b[0m\u001b[37m\u001b[0m \u001b[1m44s\u001b[0m 687ms/step - accuracy: 1.0000 - loss: 3.1564 - val_accuracy: 0.7656 - val_loss: 3.9419 - learning_rate: 1.0000e-04\n"
     ]
    }
   ],
   "source": [
    "from tensorflow.keras.callbacks import ReduceLROnPlateau\n",
    "\n",
    "lr_scheduler = ReduceLROnPlateau(monitor='val_loss', \n",
    "                                 factor=0.5, \n",
    "                                 patience=3, \n",
    "                                 min_lr=1e-6)\n",
    "\n",
    "\n",
    "\n",
    "print(f\"Dataset - {DATASET_NAME}\")\n",
    "print(f\"There are total {len(ALL_CLASS_NAMES)} classes, selected {NO_OF_CLASSES} classes\")\n",
    "print(f\"Setting {MAX_VIDEO_PER_CLASS} videos/class to train the model.\")\n",
    "print(f\"Image size {IMAGE_HEIGHT}x{IMAGE_WIDTH} with {SEQUENCE_LENGTH} sequence length\")\n",
    "print(f\"Dropout rate: {DROPOUT_RATE}\")\n",
    "print(f\"Train-Test split ratio {int((1-TEST_SIZE)*100)}/{int(TEST_SIZE*100)}\")\n",
    "print(f\"Validation data from Train set {VALIDATION_SPLIT*100}%\")\n",
    "\n",
    "print(\"\\n\")\n",
    "\n",
    "print(f\"Training started for {len(train_gen.videos)} videos of {NO_OF_CLASSES} classes with {len(val_gen.videos)} videos for validation...\")\n",
    "\n",
    "model_history = xlstm_model.fit(\n",
    "    train_gen.as_dataset(),\n",
    "    validation_data=val_gen.as_dataset(),\n",
    "    epochs=EPOCHS,\n",
    "    # class_weight=class_weight_dict,\n",
    "    callbacks=[early_stopping_callback, lr_scheduler]\n",
    ")"
   ]
  },
  {
   "cell_type": "markdown",
   "id": "6e3cf949",
   "metadata": {
    "papermill": {
     "duration": 0.225585,
     "end_time": "2025-07-06T06:10:00.734183",
     "exception": false,
     "start_time": "2025-07-06T06:10:00.508598",
     "status": "completed"
    },
    "tags": []
   },
   "source": [
    "# Evaluation"
   ]
  },
  {
   "cell_type": "markdown",
   "id": "c3f91127",
   "metadata": {
    "papermill": {
     "duration": 0.228853,
     "end_time": "2025-07-06T06:10:01.186685",
     "exception": false,
     "start_time": "2025-07-06T06:10:00.957832",
     "status": "completed"
    },
    "tags": []
   },
   "source": [
    "## ⚡ Model Evaluate"
   ]
  },
  {
   "cell_type": "code",
   "execution_count": 62,
   "id": "1cbdd610",
   "metadata": {
    "execution": {
     "iopub.execute_input": "2025-07-06T06:10:01.689000Z",
     "iopub.status.busy": "2025-07-06T06:10:01.688723Z",
     "iopub.status.idle": "2025-07-06T06:10:06.001048Z",
     "shell.execute_reply": "2025-07-06T06:10:06.000295Z"
    },
    "papermill": {
     "duration": 4.590619,
     "end_time": "2025-07-06T06:10:06.002522",
     "exception": false,
     "start_time": "2025-07-06T06:10:01.411903",
     "status": "completed"
    },
    "tags": []
   },
   "outputs": [
    {
     "name": "stdout",
     "output_type": "stream",
     "text": [
      "\u001b[1m10/10\u001b[0m \u001b[32m━━━━━━━━━━━━━━━━━━━━\u001b[0m\u001b[37m\u001b[0m \u001b[1m3s\u001b[0m 285ms/step - accuracy: 0.8020 - loss: 3.6407\n"
     ]
    }
   ],
   "source": [
    "# previous code\n",
    "model_evaluation_history = xlstm_model.evaluate(features_test, labels_test)"
   ]
  },
  {
   "cell_type": "code",
   "execution_count": 63,
   "id": "937359d6",
   "metadata": {
    "execution": {
     "iopub.execute_input": "2025-07-06T06:10:06.454791Z",
     "iopub.status.busy": "2025-07-06T06:10:06.454490Z",
     "iopub.status.idle": "2025-07-06T06:10:06.797406Z",
     "shell.execute_reply": "2025-07-06T06:10:06.796652Z"
    },
    "papermill": {
     "duration": 0.569676,
     "end_time": "2025-07-06T06:10:06.798648",
     "exception": false,
     "start_time": "2025-07-06T06:10:06.228972",
     "status": "completed"
    },
    "tags": []
   },
   "outputs": [
    {
     "data": {
      "image/png": "[encoded data removed]",
      "text/plain": [
       "<Figure size 1200x500 with 2 Axes>"
      ]
     },
     "metadata": {},
     "output_type": "display_data"
    }
   ],
   "source": [
    "import matplotlib.pyplot as plt\n",
    "\n",
    "# Accuracy\n",
    "plt.figure(figsize=(12, 5))\n",
    "\n",
    "plt.subplot(1, 2, 1)\n",
    "plt.plot(model_history.history['accuracy'], label='Train Accuracy')\n",
    "plt.plot(model_history.history['val_accuracy'], label='Validation Accuracy')\n",
    "plt.title('Model Accuracy')\n",
    "plt.xlabel('Epoch')\n",
    "plt.ylabel('Accuracy')\n",
    "plt.legend()\n",
    "\n",
    "# Loss\n",
    "plt.subplot(1, 2, 2)\n",
    "plt.plot(model_history.history['loss'], label='Train Loss')\n",
    "plt.plot(model_history.history['val_loss'], label='Validation Loss')\n",
    "plt.title('Model Loss')\n",
    "plt.xlabel('Epoch')\n",
    "plt.ylabel('Loss')\n",
    "plt.legend()\n",
    "\n",
    "plt.tight_layout()\n",
    "plt.show()\n"
   ]
  },
  {
   "cell_type": "markdown",
   "id": "be35b096",
   "metadata": {
    "papermill": {
     "duration": 0.225363,
     "end_time": "2025-07-06T06:10:07.250395",
     "exception": false,
     "start_time": "2025-07-06T06:10:07.025032",
     "status": "completed"
    },
    "tags": []
   },
   "source": [
    "## 📈 Confusion Matrix"
   ]
  },
  {
   "cell_type": "code",
   "execution_count": 64,
   "id": "847a7613",
   "metadata": {
    "execution": {
     "iopub.execute_input": "2025-07-06T06:10:07.753336Z",
     "iopub.status.busy": "2025-07-06T06:10:07.753059Z",
     "iopub.status.idle": "2025-07-06T06:10:18.086385Z",
     "shell.execute_reply": "2025-07-06T06:10:18.085586Z"
    },
    "papermill": {
     "duration": 10.561888,
     "end_time": "2025-07-06T06:10:18.087504",
     "exception": false,
     "start_time": "2025-07-06T06:10:07.525616",
     "status": "completed"
    },
    "tags": []
   },
   "outputs": [
    {
     "name": "stdout",
     "output_type": "stream",
     "text": [
      "Total 320 videos and 320 classes\n",
      "\u001b[1m80/80\u001b[0m \u001b[32m━━━━━━━━━━━━━━━━━━━━\u001b[0m\u001b[37m\u001b[0m \u001b[1m9s\u001b[0m 53ms/step\n",
      "True classes shape: (320,)\n",
      "Predicted classes shape: (320,)\n",
      "Classification Report:\n",
      "                                 precision    recall  f1-score   support\n",
      "\n",
      "                          write       0.89      0.68      0.77        25\n",
      "                      sit still       0.41      0.53      0.46        17\n",
      "                       sit down       0.95      1.00      0.97        19\n",
      "move hands in front of the body       0.95      1.00      0.97        19\n",
      "               raise one leg up       0.82      0.88      0.85        16\n",
      "            drink from a bottle       0.68      0.63      0.65        27\n",
      "                       stand up       0.68      0.76      0.72        17\n",
      "                           read       0.71      0.77      0.74        22\n",
      "                    throw paper       0.81      0.63      0.71        27\n",
      "                           walk       0.83      1.00      0.90        19\n",
      "               drink from a mug       0.71      0.53      0.61        19\n",
      "                  fall from bed       1.00      0.96      0.98        25\n",
      "                          faint       1.00      0.75      0.86        16\n",
      "              raise one hand up       0.82      0.95      0.88        19\n",
      "                       cheer up       0.92      0.92      0.92        13\n",
      "   move hands close to the body       0.76      0.95      0.84        20\n",
      "\n",
      "                       accuracy                           0.80       320\n",
      "                      macro avg       0.81      0.81      0.80       320\n",
      "                   weighted avg       0.81      0.80      0.80       320\n",
      "\n"
     ]
    },
    {
     "name": "stderr",
     "output_type": "stream",
     "text": [
      "/usr/local/lib/python3.11/dist-packages/keras/src/trainers/epoch_iterator.py:151: UserWarning: Your input ran out of data; interrupting training. Make sure that your dataset or generator can generate at least `steps_per_epoch * epochs` batches. You may need to use the `.repeat()` function when building your dataset.\n",
      "  self._interrupted_warning()\n"
     ]
    },
    {
     "data": {
      "image/png": "[encoded data removed]",
      "text/plain": [
       "<Figure size 800x600 with 2 Axes>"
      ]
     },
     "metadata": {},
     "output_type": "display_data"
    }
   ],
   "source": [
    "from sklearn.metrics import classification_report, confusion_matrix\n",
    "import seaborn as sns\n",
    "import matplotlib.pyplot as plt\n",
    "\n",
    "# Create test generator with batch_size matching test set size\n",
    "test_gen = VideoDataGenerator(\n",
    "    videos=features_test,\n",
    "    labels=labels_test,\n",
    "    batch_size=4,  # Process all test samples at once\n",
    ")\n",
    "\n",
    "# Get predictions\n",
    "predictions = xlstm_model.predict(test_gen.as_dataset())\n",
    "predicted_classes = np.argmax(predictions, axis=1)\n",
    "true_classes = np.argmax(labels_test, axis=1)\n",
    "\n",
    "# Verify shapes\n",
    "print(f\"True classes shape: {true_classes.shape}\")\n",
    "print(f\"Predicted classes shape: {predicted_classes.shape}\")\n",
    "assert len(true_classes) == len(predicted_classes), \"Sample counts do not match!\"\n",
    "\n",
    "# Generate classification report\n",
    "print(\"Classification Report:\")\n",
    "print(classification_report(true_classes, predicted_classes, target_names=CLASSES_LIST))\n",
    "\n",
    "# Plot confusion matrix\n",
    "cm = confusion_matrix(true_classes, predicted_classes)\n",
    "plt.figure(figsize=(8, 6))\n",
    "sns.heatmap(cm, annot=True, fmt='d', cmap='Blues', xticklabels=CLASSES_LIST, yticklabels=CLASSES_LIST[-1])\n",
    "plt.xlabel('Predicted')\n",
    "plt.ylabel('True')\n",
    "plt.title('Confusion Matrix')\n",
    "plt.show()"
   ]
  }
 ],
 "metadata": {
  "kaggle": {
   "accelerator": "nvidiaTeslaT4",
   "dataSources": [
    {
     "datasetId": 1357563,
     "sourceId": 2256095,
     "sourceType": "datasetVersion"
    },
    {
     "datasetId": 7763484,
     "sourceId": 12338519,
     "sourceType": "datasetVersion"
    },
    {
     "datasetId": 7801884,
     "sourceId": 12373562,
     "sourceType": "datasetVersion"
    },
    {
     "datasetId": 7801555,
     "sourceId": 12373067,
     "sourceType": "datasetVersion"
    }
   ],
   "isGpuEnabled": true,
   "isInternetEnabled": true,
   "language": "python",
   "sourceType": "notebook"
  },
  "kernelspec": {
   "display_name": "Python 3",
   "language": "python",
   "name": "python3"
  },
  "language_info": {
   "codemirror_mode": {
    "name": "ipython",
    "version": 3
   },
   "file_extension": ".py",
   "mimetype": "text/x-python",
   "name": "python",
   "nbconvert_exporter": "python",
   "pygments_lexer": "ipython3",
   "version": "3.11.11"
  },
  "papermill": {
   "default_parameters": {},
   "duration": 2408.105906,
   "end_time": "2025-07-06T06:10:21.479798",
   "environment_variables": {},
   "exception": null,
   "input_path": "__notebook__.ipynb",
   "output_path": "__notebook__.ipynb",
   "parameters": {},
   "start_time": "2025-07-06T05:30:13.373892",
   "version": "2.6.0"
  }
 },
 "nbformat": 4,
 "nbformat_minor": 5
}
